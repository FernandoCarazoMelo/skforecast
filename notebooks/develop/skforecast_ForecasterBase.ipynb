{
 "cells": [
  {
   "cell_type": "markdown",
   "metadata": {},
   "source": [
    " "
   ]
  },
  {
   "cell_type": "code",
   "execution_count": 1,
   "metadata": {},
   "outputs": [],
   "source": [
    "#!pip install git+https://github.com/JoaquinAmatRodrigo/skforecast#master --upgrade"
   ]
  },
  {
   "cell_type": "markdown",
   "metadata": {},
   "source": [
    "# Unit Testing"
   ]
  },
  {
   "cell_type": "code",
   "execution_count": 4,
   "metadata": {},
   "outputs": [],
   "source": [
    "# Unit test __init__\n",
    "# ==============================================================================\n",
    "import sys\n",
    "sys.path.insert(1, '/home/ximo/Documents/GitHub/skforecast')\n",
    "\n",
    "import pytest\n",
    "from pytest import approx\n",
    "import numpy as np\n",
    "from skforecast.utils import check_y\n",
    "\n",
    "def test_check_y_exception_when_y_is_int():\n",
    "    '''\n",
    "    '''\n",
    "    with pytest.raises(Exception):\n",
    "        check_y(y=10)"
   ]
  },
  {
   "cell_type": "code",
   "execution_count": 4,
   "metadata": {},
   "outputs": [],
   "source": [
    "# Unit test _create_lags\n",
    "# ==============================================================================\n",
    "\n",
    "import sys\n",
    "sys.path.insert(1, '/home/ximo/Documents/GitHub/skforecast')\n",
    "\n",
    "import pytest\n",
    "from pytest import approx\n",
    "import numpy as np\n",
    "import pandas as pd\n",
    "from skforecast.ForecasterAutoreg import ForecasterAutoreg\n",
    "from sklearn.linear_model import LinearRegression\n",
    "\n",
    "\n",
    "def test_create_lags_output():\n",
    "    '''\n",
    "    Test matrix of lags is created properly when langs=3 and y=np.arange(10).\n",
    "    '''\n",
    "    forecaster = ForecasterAutoreg(LinearRegression(), lags=3)\n",
    "    results = forecaster._create_lags(y=np.arange(10))\n",
    "    expected = (np.array([[2., 1., 0.],\n",
    "                         [3., 2., 1.],\n",
    "                         [4., 3., 2.],\n",
    "                         [5., 4., 3.],\n",
    "                         [6., 5., 4.],\n",
    "                         [7., 6., 5.],\n",
    "                         [8., 7., 6.]]),\n",
    "               np.array([3., 4., 5., 6., 7., 8., 9.]))\n",
    "\n",
    "    assert (results[0] == expected[0]).all()\n",
    "    assert (results[1] == expected[1]).all()\n",
    "    \n",
    "    \n",
    "def test_create_lags_exception_when_len_of_y_is_lower_than_maximum_lag():\n",
    "    '''\n",
    "    Test exception is raised when lenght of y is lower than maximum lag included\n",
    "    in the forecaster.\n",
    "    '''\n",
    "    forecaster = ForecasterAutoreg(LinearRegression(), lags=10)\n",
    "    with pytest.raises(Exception):\n",
    "        forecaster._create_lags(y=np.arange(5))\n",
    "\n",
    "test_create_lags_output()\n",
    "test_create_lags_exception_when_len_of_y_is_lower_than_maximum_lag()"
   ]
  },
  {
   "cell_type": "code",
   "execution_count": 10,
   "metadata": {},
   "outputs": [
    {
     "name": "stderr",
     "output_type": "stream",
     "text": [
      "/home/ximo/Documents/GitHub/skforecast/skforecast/ForecasterBase/ForecasterBase.py:229: UserWarning: `y` has no DatetimeIndex index. Index is overwritten with a RangeIndex.\n",
      "  '`y` has no DatetimeIndex index. Index is overwritten with a RangeIndex.'\n",
      "/home/ximo/Documents/GitHub/skforecast/skforecast/ForecasterBase/ForecasterBase.py:317: UserWarning: `exog` has DatetimeIndex index but no frequency. The index is overwritten with a RangeIndex.\n",
      "  ('`exog` has DatetimeIndex index but no frequency. The index is '\n",
      "/home/ximo/Documents/GitHub/skforecast/skforecast/ForecasterBase/ForecasterBase.py:229: UserWarning: `y` has no DatetimeIndex index. Index is overwritten with a RangeIndex.\n",
      "  '`y` has no DatetimeIndex index. Index is overwritten with a RangeIndex.'\n",
      "/home/ximo/Documents/GitHub/skforecast/skforecast/ForecasterBase/ForecasterBase.py:317: UserWarning: `exog` has DatetimeIndex index but no frequency. The index is overwritten with a RangeIndex.\n",
      "  ('`exog` has DatetimeIndex index but no frequency. The index is '\n",
      "/home/ximo/Documents/GitHub/skforecast/skforecast/ForecasterBase/ForecasterBase.py:229: UserWarning: `y` has no DatetimeIndex index. Index is overwritten with a RangeIndex.\n",
      "  '`y` has no DatetimeIndex index. Index is overwritten with a RangeIndex.'\n"
     ]
    }
   ],
   "source": [
    "# Unit test create_train_X_y\n",
    "# ==============================================================================\n",
    "import pytest\n",
    "from pytest import approx\n",
    "import numpy as np\n",
    "import pandas as pd\n",
    "from skforecast.ForecasterAutoreg import ForecasterAutoreg\n",
    "from sklearn.linear_model import LinearRegression\n",
    "\n",
    "\n",
    "def test_create_train_X_y_output_when_y_is_series_10_and_exog_is_None():\n",
    "    '''\n",
    "    Test the output of create_train_X_y when y=pd.Series(np.arange(10)) and \n",
    "    exog is None.\n",
    "    '''\n",
    "    forecaster = ForecasterAutoreg(LinearRegression(), lags=5)\n",
    "    results = forecaster.create_train_X_y(y=pd.Series(np.arange(10)))\n",
    "    expected = (pd.DataFrame(\n",
    "                    data = np.array([[4, 3, 2, 1, 0],\n",
    "                                    [5, 4, 3, 2, 1],\n",
    "                                    [6, 5, 4, 3, 2],\n",
    "                                    [7, 6, 5, 4, 3],\n",
    "                                    [8, 7, 6, 5, 4]]),\n",
    "                    index   = np.array([5, 6, 7, 8, 9]),\n",
    "                    columns = ['lag_1', 'lag_2', 'lag_3', 'lag_4', 'lag_5']\n",
    "                ),\n",
    "                pd.Series(\n",
    "                    np.array([5, 6, 7, 8, 9]),\n",
    "                    index = np.array([5, 6, 7, 8, 9]))\n",
    "               )     \n",
    "\n",
    "    assert (results[0] == expected[0]).all().all()\n",
    "    assert (results[1] == expected[1]).all()\n",
    "\n",
    "\n",
    "def test_create_train_X_y_output_when_y_is_series_10_and_exog_is_series():\n",
    "    '''\n",
    "    Test the output of create_train_X_y when y=pd.Series(np.arange(10)) and \n",
    "    exog is a pandas series\n",
    "    '''\n",
    "    forecaster = ForecasterAutoreg(LinearRegression(), lags=5)\n",
    "    results = forecaster.create_train_X_y(\n",
    "                y = pd.Series(np.arange(10)),\n",
    "                exog =  pd.Series(np.arange(100, 110), name='exog')\n",
    "              )\n",
    "    expected = (pd.DataFrame(\n",
    "                    data = np.array([[4, 3, 2, 1, 0, 105],\n",
    "                                    [5, 4, 3, 2, 1, 106],\n",
    "                                    [6, 5, 4, 3, 2, 107],\n",
    "                                    [7, 6, 5, 4, 3, 108],\n",
    "                                    [8, 7, 6, 5, 4, 109]]),\n",
    "                    index   = np.array([5, 6, 7, 8, 9]),\n",
    "                    columns = ['lag_1', 'lag_2', 'lag_3', 'lag_4', 'lag_5', 'exog']\n",
    "                ),\n",
    "                pd.Series(\n",
    "                    np.array([5, 6, 7, 8, 9]),\n",
    "                    index = np.array([5, 6, 7, 8, 9]))\n",
    "               )       \n",
    "\n",
    "    assert (results[0] == expected[0]).all().all()\n",
    "    assert (results[1] == expected[1]).all()\n",
    "\n",
    "def test_create_train_X_y_output_when_y_is_series_10_and_exog_is_daraframe():\n",
    "    '''\n",
    "    Test the output of create_train_X_y when y=pd.Series(np.arange(10)) and \n",
    "    exog is a pandas dataframe with two columns.\n",
    "    '''\n",
    "    forecaster = ForecasterAutoreg(LinearRegression(), lags=5)\n",
    "    results = forecaster.create_train_X_y(\n",
    "                y = pd.Series(np.arange(10)),\n",
    "                exog = pd.DataFrame({\n",
    "                            'exog_1' : np.arange(100, 110),\n",
    "                            'exog_2' : np.arange(1000, 1010)\n",
    "                })\n",
    "              )\n",
    "        \n",
    "    expected = (pd.DataFrame(\n",
    "                    data = np.array([[4, 3, 2, 1, 0, 105, 1005],\n",
    "                                  [5, 4, 3, 2, 1, 106, 1006],\n",
    "                                  [6, 5, 4, 3, 2, 107, 1007],\n",
    "                                  [7, 6, 5, 4, 3, 108, 1008],\n",
    "                                  [8, 7, 6, 5, 4, 109, 1009]]),\n",
    "                    index   = np.array([5, 6, 7, 8, 9]),\n",
    "                    columns = ['lag_1', 'lag_2', 'lag_3', 'lag_4', 'lag_5', 'exog_1', 'exog_2']\n",
    "                ),\n",
    "                pd.Series(\n",
    "                    np.array([5, 6, 7, 8, 9]),\n",
    "                    index = np.array([5, 6, 7, 8, 9])\n",
    "                )\n",
    "               )        \n",
    "\n",
    "    assert (results[0] == expected[0]).all().all()\n",
    "    assert (results[1] == expected[1]).all()\n",
    "\n",
    "def test_create_train_X_y_exception_when_y_and_exog_have_different_lenght():\n",
    "    '''\n",
    "    Test exception is raised when lenght of y and lenght of exog are different.\n",
    "    '''\n",
    "    forecaster = ForecasterAutoreg(LinearRegression(), lags=5)\n",
    "    with pytest.raises(Exception):\n",
    "        forecaster.fit(y=pd.Series(np.arange(50)), exog=pd.Series(np.arange(10)))\n",
    "    with pytest.raises(Exception):\n",
    "        forecaster.fit(y=pd.Series(np.arange(10)), exog=pd.Series(np.arange(50)))\n",
    "    with pytest.raises(Exception):\n",
    "        forecaster.fit(\n",
    "            y=pd.Series(np.arange(10)),\n",
    "            exog=pd.DataFrame(np.arange(50).reshape(25,2))\n",
    "        )\n",
    "        \n",
    "def test_create_train_X_y_exception_when_y_and_exog_have_different_index():\n",
    "    '''\n",
    "    Test exception is raised when y and exog have diferent index.\n",
    "    '''\n",
    "    forecaster = ForecasterAutoreg(LinearRegression(), lags=5)\n",
    "    with pytest.raises(Exception):\n",
    "        forecaster.fit(\n",
    "            y=pd.Series(np.arange(50)),\n",
    "            exog=pd.Series(np.arange(10), index=np.arange(100, 110))\n",
    "        )\n",
    "           \n",
    "test_create_train_X_y_output_when_y_is_series_10_and_exog_is_None()\n",
    "test_create_train_X_y_output_when_y_is_series_10_and_exog_is_series()\n",
    "test_create_train_X_y_output_when_y_is_series_10_and_exog_is_daraframe()\n",
    "test_create_train_X_y_exception_when_y_and_exog_have_different_lenght()"
   ]
  },
  {
   "cell_type": "code",
   "execution_count": 30,
   "metadata": {},
   "outputs": [
    {
     "name": "stderr",
     "output_type": "stream",
     "text": [
      "/home/ximo/Documents/GitHub/skforecast/skforecast/ForecasterBase/ForecasterBase.py:229: UserWarning: `y` has no DatetimeIndex index. Index is overwritten with a RangeIndex.\n",
      "  '`y` has no DatetimeIndex index. Index is overwritten with a RangeIndex.'\n",
      "/home/ximo/Documents/GitHub/skforecast/skforecast/ForecasterBase/ForecasterBase.py:229: UserWarning: `y` has no DatetimeIndex index. Index is overwritten with a RangeIndex.\n",
      "  '`y` has no DatetimeIndex index. Index is overwritten with a RangeIndex.'\n",
      "/home/ximo/Documents/GitHub/skforecast/skforecast/ForecasterBase/ForecasterBase.py:229: UserWarning: `y` has no DatetimeIndex index. Index is overwritten with a RangeIndex.\n",
      "  '`y` has no DatetimeIndex index. Index is overwritten with a RangeIndex.'\n",
      "/home/ximo/Documents/GitHub/skforecast/skforecast/ForecasterBase/ForecasterBase.py:229: UserWarning: `y` has no DatetimeIndex index. Index is overwritten with a RangeIndex.\n",
      "  '`y` has no DatetimeIndex index. Index is overwritten with a RangeIndex.'\n"
     ]
    }
   ],
   "source": [
    "# Unit test fit\n",
    "# ==============================================================================\n",
    "import pytest\n",
    "from pytest import approx\n",
    "import numpy as np\n",
    "import pandas as pd\n",
    "from skforecast.ForecasterAutoreg import ForecasterAutoreg\n",
    "from sklearn.linear_model import LinearRegression\n",
    "\n",
    "        \n",
    "def test_fit_last_window_stored():\n",
    "    '''\n",
    "    Test that values of last window are stored after fitting.\n",
    "    '''    \n",
    "    forecaster = ForecasterAutoreg(LinearRegression(), lags=3)\n",
    "    forecaster.fit(y=pd.Series(np.arange(50)))\n",
    "    expected = pd.Series(np.array([47, 48, 49]), index=[47, 48, 49])\n",
    "    assert (forecaster.last_window == expected).all()\n",
    "    \n",
    "    \n",
    "def test_fit_in_sample_residuals_stored():\n",
    "    '''\n",
    "    Test that values of in_sample_residuals are stored after fitting.\n",
    "    '''    \n",
    "    forecaster = ForecasterAutoreg(LinearRegression(), lags=3)\n",
    "    forecaster.fit(y=pd.Series(np.arange(5)))\n",
    "    expected = np.array([0, 0])\n",
    "    results = forecaster.in_sample_residuals  \n",
    "    assert results.values == approx(expected)\n",
    "    \n",
    "test_last_window_stored_when_fit_forecaster()\n",
    "test_in_sample_residuals_stored_when_fit_forecaster()"
   ]
  },
  {
   "cell_type": "code",
   "execution_count": 57,
   "metadata": {},
   "outputs": [
    {
     "name": "stderr",
     "output_type": "stream",
     "text": [
      "/home/ximo/Documents/GitHub/skforecast/skforecast/ForecasterBase/ForecasterBase.py:229: UserWarning: `y` has no DatetimeIndex index. Index is overwritten with a RangeIndex.\n",
      "  '`y` has no DatetimeIndex index. Index is overwritten with a RangeIndex.'\n",
      "/home/ximo/Documents/GitHub/skforecast/skforecast/ForecasterBase/ForecasterBase.py:229: UserWarning: `y` has no DatetimeIndex index. Index is overwritten with a RangeIndex.\n",
      "  '`y` has no DatetimeIndex index. Index is overwritten with a RangeIndex.'\n",
      "/home/ximo/Documents/GitHub/skforecast/skforecast/ForecasterBase/ForecasterBase.py:272: UserWarning: `last_window` has DatetimeIndex index but no frequency. Index is overwritten with a RangeIndex.\n",
      "  '`last_window` has DatetimeIndex index but no frequency. '\n"
     ]
    }
   ],
   "source": [
    "# Unit test _recursive_predict\n",
    "# ==============================================================================\n",
    "import pytest\n",
    "from pytest import approx\n",
    "import numpy as np\n",
    "import pandas as pd\n",
    "from skforecast.ForecasterAutoreg import ForecasterAutoreg\n",
    "from sklearn.linear_model import LinearRegression\n",
    "\n",
    "def test_predict_output_when_regresor_is_LinearRegression():\n",
    "    '''\n",
    "    Test predict output when using LinearRegression as regressor.\n",
    "    '''\n",
    "    forecaster = ForecasterAutoreg(LinearRegression(), lags=3)\n",
    "    forecaster.fit(y=pd.Series(np.arange(50)))\n",
    "    predictions = forecaster.predict(steps=5)\n",
    "    expected = pd.Series(\n",
    "                data = np.array([50., 51., 52., 53., 54.]),\n",
    "                index = [3, 4, 5, 6, 7]\n",
    "               )\n",
    "    assert (predictions.values == approx(expected.values))\n",
    "    assert (predictions.index == expected.index).all()\n",
    "    \n",
    "test_predict_output_when_regresor_is_LinearRegression()"
   ]
  },
  {
   "cell_type": "markdown",
   "metadata": {},
   "source": [
    "# Información de sesión"
   ]
  },
  {
   "cell_type": "code",
   "execution_count": 39,
   "metadata": {},
   "outputs": [
    {
     "name": "stdout",
     "output_type": "stream",
     "text": [
      "-----\n",
      "matplotlib          3.4.3\n",
      "numpy               1.19.5\n",
      "pandas              1.2.5\n",
      "session_info        1.0.0\n",
      "skforecast          0.4.dev\n",
      "sklearn             1.0.1\n",
      "-----\n",
      "IPython             7.26.0\n",
      "jupyter_client      6.1.7\n",
      "jupyter_core        4.6.3\n",
      "jupyterlab          2.1.3\n",
      "notebook            6.4.0\n",
      "-----\n",
      "Python 3.7.9 (default, Aug 31 2020, 12:42:55) [GCC 7.3.0]\n",
      "Linux-5.11.0-38-generic-x86_64-with-debian-bullseye-sid\n",
      "-----\n",
      "Session information updated at 2021-10-31 21:47\n"
     ]
    }
   ],
   "source": [
    "import session_info\n",
    "session_info.show(html=False, write_req_file=False)"
   ]
  }
 ],
 "metadata": {
  "kernelspec": {
   "display_name": "cienciadedatos",
   "language": "python",
   "name": "cienciadedatos"
  },
  "language_info": {
   "codemirror_mode": {
    "name": "ipython",
    "version": 3
   },
   "file_extension": ".py",
   "mimetype": "text/x-python",
   "name": "python",
   "nbconvert_exporter": "python",
   "pygments_lexer": "ipython3",
   "version": "3.7.9"
  },
  "toc": {
   "base_numbering": 1,
   "nav_menu": {},
   "number_sections": false,
   "sideBar": true,
   "skip_h1_title": true,
   "title_cell": "Tabla de contenidos",
   "title_sidebar": "Tabla de contenidos",
   "toc_cell": false,
   "toc_position": {
    "height": "calc(100% - 180px)",
    "left": "10px",
    "top": "150px",
    "width": "284.75px"
   },
   "toc_section_display": true,
   "toc_window_display": true
  },
  "varInspector": {
   "cols": {
    "lenName": 16,
    "lenType": 16,
    "lenVar": 40
   },
   "kernels_config": {
    "python": {
     "delete_cmd_postfix": "",
     "delete_cmd_prefix": "del ",
     "library": "var_list.py",
     "varRefreshCmd": "print(var_dic_list())"
    },
    "r": {
     "delete_cmd_postfix": ") ",
     "delete_cmd_prefix": "rm(",
     "library": "var_list.r",
     "varRefreshCmd": "cat(var_dic_list()) "
    }
   },
   "position": {
    "height": "144.391px",
    "left": "1478px",
    "right": "20px",
    "top": "126px",
    "width": "350px"
   },
   "types_to_exclude": [
    "module",
    "function",
    "builtin_function_or_method",
    "instance",
    "_Feature"
   ],
   "window_display": false
  }
 },
 "nbformat": 4,
 "nbformat_minor": 4
}
