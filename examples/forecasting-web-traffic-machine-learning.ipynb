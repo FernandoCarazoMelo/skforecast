{
 "cells": [
  {
   "cell_type": "markdown",
   "metadata": {},
   "source": [
    " "
   ]
  },
  {
   "cell_type": "markdown",
   "metadata": {},
   "source": [
    "<h1><center><font size=\"25\">Forecasting web traffic with machine learning and Python</font></center></h1>"
   ]
  },
  {
   "cell_type": "markdown",
   "metadata": {},
   "source": [
    "<center><b>Joaquín Amat Rodrigo, Javier Escobar Ortiz</b></center>\n",
    "\n",
    "<center><i>September, 2021 (last update September, 2022)</i></center>"
   ]
  },
  {
   "cell_type": "markdown",
   "metadata": {},
   "source": [
    "+ [Skforecast: time series forecasting with Python and Scikit-learn](https://www.cienciadedatos.net/documentos/py27-time-series-forecasting-python-scikitlearn.html)\n",
    "+ [Forecasting electricity demand with Python](https://www.cienciadedatos.net/documentos/py29-forecasting-electricity-power-demand-python.html)\n",
    "+ [Forecasting time series with gradient boosting: Skforecast, XGBoost, LightGBM and CatBoost](https://www.cienciadedatos.net/documentos/py39-forecasting-time-series-with-skforecast-xgboost-lightgbm-catboost.html)\n",
    "+ [Bitcoin price prediction with Python, when the past does not repeat itself](https://www.cienciadedatos.net/documentos/py41-forecasting-cryptocurrency-bitcoin-machine-learning-python.html)\n",
    "+ [Prediction intervals in forecasting models](https://www.cienciadedatos.net/documentos/py42-forecasting-prediction-intervals-machine-learning.html)"
   ]
  },
  {
   "cell_type": "markdown",
   "metadata": {},
   "source": [
    "## Introduction\n",
    "<br>\n",
    "\n",
    "A time series is a succession of chronologically ordered data spaced at equal or unequal intervals. The forecasting process consists of predicting the future value of a time series, either by modeling the series solely based on its past behavior (autoregressive) or by using other external variables. This document describes how to use machine learning and statistical models in order to forecast the number of users who visit a website.\n",
    "<br>"
   ]
  },
  {
   "cell_type": "markdown",
   "metadata": {},
   "source": [
    "## Use case\n",
    "<br>\n",
    "\n",
    "The history of daily visits to the website [cienciadedatos.net](https://www.cienciadedatos.net) is available since 07/01/2020. The goal is to generate a forecasting model capable of predicting the web traffic during the next 7 days. The user wants to be able to run the model every Monday and obtain daily traffic predictions for the rest of the week.\n",
    "\n",
    "To evaluate the performance of the model according to its intended use, it is advisable not to predict only the last 7 days of the time series, but to simulate the whole process. [Backtesting](https://joaquinamatrodrigo.github.io/skforecast/latest/user_guides/backtesting.html) is a special type of cross-validation applied to the previous period(s) and can be used with different strategies:\n",
    "\n",
    "**Backtesting with refit and increasing training size (fixed origin)**\n",
    "\n",
    "The model is trained each time before making predictions. With this configuration, the model uses all the data available so far. It is a variation of the standard cross-validation but, instead of making a random distribution of the observations, the training set increases sequentially, maintaining the temporal order of the data.\n",
    "\n",
    "<p align=\"center\"><img src=\"./images/diagram-backtesting-refit.png\" style=\"width: 500px;\"></p>\n",
    "\n",
    "<p align=\"center\"><img src=\"./images/backtesting_refit.gif\" style=\"width: 600px;\"></p>\n",
    "\n",
    "\n",
    "**Backtesting with refit and fixed training size (rolling origin)**\n",
    "\n",
    "A technique similar to the previous one but, in this case, the forecast origin rolls forward, therefore, the size of training remains constant. This is also known as time series cross-validation or walk-forward validation.\n",
    "\n",
    "<p align=\"center\"><img src=\"./images/diagram-backtesting-refit-fixed-train-size.png\" style=\"width: 500px;\"></p>\n",
    "\n",
    "<p align=\"center\"><img src=\"./images/backtesting_refit_fixed_train_size.gif\" style=\"width: 600px;\"></p>\n",
    "\n",
    "\n",
    "**Backtesting without refit**\n",
    "\n",
    "After an initial train, the model is used sequentially without updating it and following the temporal order of the data. This strategy has the advantage of being much faster since the model is trained only once. However, the model does not incorporate the latest information available, so it may lose predictive capacity over time.\n",
    "\n",
    "<p align=\"center\"><img src=\"./images/diagram-backtesting-no-refit.png\" style=\"width: 500px;\"></p>\n",
    "\n",
    "<p align=\"center\"><img src=\"./images/backtesting_no_refit.gif\" style=\"width: 600px;\"></p>\n",
    "\n",
    "<br>\n",
    "\n",
    "\n",
    "The most appropriate validation method will depend on the strategy to be used in production, whether the model will be periodically retrained or not before the prediction process. Regardless of the strategy used, it is important not to include test data in the search process to avoid *overfitting* problems."
   ]
  },
  {
   "cell_type": "markdown",
   "metadata": {},
   "source": [
    "## Libreries\n",
    "<br>\n",
    "\n",
    "Libraries used in this document are:"
   ]
  },
  {
   "cell_type": "code",
   "execution_count": 54,
   "metadata": {
    "ExecuteTime": {
     "end_time": "2022-09-29T08:13:18.830626Z",
     "start_time": "2022-09-29T08:13:14.283111Z"
    }
   },
   "outputs": [],
   "source": [
    "# Data processing\n",
    "# ==============================================================================\n",
    "import numpy as np\n",
    "import pandas as pd\n",
    "\n",
    "# Plots\n",
    "# ==============================================================================\n",
    "import matplotlib.pyplot as plt\n",
    "import seaborn as sns\n",
    "import hvplot.pandas\n",
    "%matplotlib inline\n",
    "from statsmodels.graphics.tsaplots import plot_acf\n",
    "from statsmodels.graphics.tsaplots import plot_pacf\n",
    "plt.style.use('fivethirtyeight')\n",
    "\n",
    "# Modelling and forecasting\n",
    "# ==============================================================================\n",
    "from skforecast.ForecasterAutoreg import ForecasterAutoreg\n",
    "from skforecast.model_selection import grid_search_forecaster\n",
    "from skforecast.model_selection import backtesting_forecaster\n",
    "from skforecast.model_selection_statsmodels import backtesting_sarimax\n",
    "from skforecast.model_selection_statsmodels import grid_search_sarimax\n",
    "\n",
    "from sklearn.linear_model import Ridge\n",
    "from sklearn.preprocessing import StandardScaler\n",
    "from sklearn.pipeline import make_pipeline\n",
    "from sklearn.metrics import mean_absolute_error\n",
    "\n",
    "# Warnings config\n",
    "# ==============================================================================\n",
    "import warnings\n",
    "warnings.filterwarnings('ignore')"
   ]
  },
  {
   "cell_type": "markdown",
   "metadata": {},
   "source": [
    "## Data\n",
    "<br>\n",
    "\n",
    "Data has been obtained from the google analytics service integrated into the website and can be downloaded [here](https://github.com/JoaquinAmatRodrigo/Estadistica-machine-learning-python/blob/master/data/visits_por_day_web_cienciadedatos.csv). The fields included are:\n",
    "\n",
    "+ date: day/month/year\n",
    "\n",
    "+ users: total number of users who visit the web"
   ]
  },
  {
   "cell_type": "code",
   "execution_count": 55,
   "metadata": {
    "ExecuteTime": {
     "end_time": "2022-09-29T08:13:22.207055Z",
     "start_time": "2022-09-29T08:13:21.968982Z"
    }
   },
   "outputs": [
    {
     "name": "stdout",
     "output_type": "stream",
     "text": [
      "<class 'pandas.core.frame.DataFrame'>\n",
      "RangeIndex: 421 entries, 0 to 420\n",
      "Data columns (total 2 columns):\n",
      " #   Column  Non-Null Count  Dtype \n",
      "---  ------  --------------  ----- \n",
      " 0   date    421 non-null    object\n",
      " 1   users   421 non-null    int64 \n",
      "dtypes: int64(1), object(1)\n",
      "memory usage: 6.7+ KB\n"
     ]
    }
   ],
   "source": [
    "# Data downloading\n",
    "# ==============================================================================\n",
    "url = ('https://raw.githubusercontent.com/JoaquinAmatRodrigo/Estadistica-machine-learning-python/' +\n",
    "       'master/data/visitas_por_dia_web_cienciadedatos.csv')\n",
    "data = pd.read_csv(url, sep=',')\n",
    "data.info()"
   ]
  },
  {
   "cell_type": "markdown",
   "metadata": {},
   "source": [
    "Column date is stored as `object`. It is converted to `datetime` type using `pd.to_datetime ()` function. Furthermore, it is set as an index to take advantage of pandas functionalities and finally, its frequency is set to 1 day."
   ]
  },
  {
   "cell_type": "code",
   "execution_count": 56,
   "metadata": {
    "ExecuteTime": {
     "end_time": "2022-09-29T08:13:23.298730Z",
     "start_time": "2022-09-29T08:13:23.286770Z"
    }
   },
   "outputs": [],
   "source": [
    "data['date'] = pd.to_datetime(data['date'], format='%d/%m/%y')\n",
    "data = data.set_index('date')\n",
    "data = data.asfreq('1D')\n",
    "data = data.sort_index()"
   ]
  },
  {
   "cell_type": "code",
   "execution_count": 57,
   "metadata": {
    "ExecuteTime": {
     "end_time": "2022-09-29T08:13:23.749756Z",
     "start_time": "2022-09-29T08:13:23.742542Z"
    }
   },
   "outputs": [
    {
     "data": {
      "text/plain": [
       "True"
      ]
     },
     "execution_count": 57,
     "metadata": {},
     "output_type": "execute_result"
    }
   ],
   "source": [
    "# Check index is complete or there are missing values\n",
    "# ==============================================================================\n",
    "(data.index == pd.date_range(\n",
    "                    start = data.index.min(),\n",
    "                    end   = data.index.max(),\n",
    "                    freq  = data.index.freq)).all()"
   ]
  },
  {
   "cell_type": "code",
   "execution_count": 58,
   "metadata": {
    "ExecuteTime": {
     "end_time": "2022-09-29T08:13:24.514632Z",
     "start_time": "2022-09-29T08:13:24.510632Z"
    }
   },
   "outputs": [
    {
     "name": "stdout",
     "output_type": "stream",
     "text": [
      "Missing values: 0\n"
     ]
    }
   ],
   "source": [
    "print(f\"Missing values: {data.isnull().any(axis=1).sum()}\")"
   ]
  },
  {
   "cell_type": "markdown",
   "metadata": {},
   "source": [
    "The data set (starts on *2020-07-01* and ends on *2021-08-22*), is divided into 3 partitions: one for training, one for validation and one for testing."
   ]
  },
  {
   "cell_type": "code",
   "execution_count": 59,
   "metadata": {
    "ExecuteTime": {
     "end_time": "2022-09-29T08:13:25.734471Z",
     "start_time": "2022-09-29T08:13:25.725496Z"
    }
   },
   "outputs": [
    {
     "name": "stdout",
     "output_type": "stream",
     "text": [
      "Training dates   : 2020-07-01 00:00:00 --- 2021-03-30 00:00:00  (n=273)\n",
      "Validation dates : 2021-03-31 00:00:00 --- 2021-06-30 00:00:00  (n=92)\n",
      "Test dates       : 2021-07-01 00:00:00 --- 2021-08-25 00:00:00  (n=56)\n"
     ]
    }
   ],
   "source": [
    "# Split data: train-validation-test\n",
    "# ==============================================================================\n",
    "end_train = '2021-03-30 23:59:00'\n",
    "end_validation = '2021-06-30 23:59:00'\n",
    "\n",
    "data_train = data.loc[: end_train, :]\n",
    "data_val   = data.loc[end_train:end_validation, :]\n",
    "data_test  = data.loc[end_validation:, :]\n",
    "\n",
    "print(f\"Training dates   : {data_train.index.min()} --- {data_train.index.max()}  (n={len(data_train)})\")\n",
    "print(f\"Validation dates : {data_val.index.min()} --- {data_val.index.max()}  (n={len(data_val)})\")\n",
    "print(f\"Test dates       : {data_test.index.min()} --- {data_test.index.max()}  (n={len(data_test)})\")"
   ]
  },
  {
   "cell_type": "markdown",
   "metadata": {},
   "source": [
    "## Graphical exploration\n",
    "<br>\n",
    "\n",
    "When working with time series, it is important to represent their values. This allows patterns such as trends and seasonality to be identified."
   ]
  },
  {
   "cell_type": "markdown",
   "metadata": {},
   "source": [
    "**Time series**"
   ]
  },
  {
   "cell_type": "code",
   "execution_count": 60,
   "metadata": {},
   "outputs": [
    {
     "data": {},
     "metadata": {},
     "output_type": "display_data"
    },
    {
     "data": {
      "application/vnd.holoviews_exec.v0+json": "",
      "text/html": [
       "<div id='4272'>\n",
       "  <div class=\"bk-root\" id=\"f8ade12e-f49d-4287-939b-4487c05559b3\" data-root-id=\"4272\"></div>\n",
       "</div>\n",
       "<script type=\"application/javascript\">(function(root) {\n",
       "  function embed_document(root) {\n",
       "    var docs_json = {\"635ae33e-febd-46d0-9a80-ee69643b5da0\":{\"defs\":[{\"extends\":null,\"module\":null,\"name\":\"ReactiveHTML1\",\"overrides\":[],\"properties\":[]},{\"extends\":null,\"module\":null,\"name\":\"FlexBox1\",\"overrides\":[],\"properties\":[{\"default\":\"flex-start\",\"kind\":null,\"name\":\"align_content\"},{\"default\":\"flex-start\",\"kind\":null,\"name\":\"align_items\"},{\"default\":\"row\",\"kind\":null,\"name\":\"flex_direction\"},{\"default\":\"wrap\",\"kind\":null,\"name\":\"flex_wrap\"},{\"default\":\"flex-start\",\"kind\":null,\"name\":\"justify_content\"}]},{\"extends\":null,\"module\":null,\"name\":\"GridStack1\",\"overrides\":[],\"properties\":[{\"default\":\"warn\",\"kind\":null,\"name\":\"mode\"},{\"default\":null,\"kind\":null,\"name\":\"ncols\"},{\"default\":null,\"kind\":null,\"name\":\"nrows\"},{\"default\":true,\"kind\":null,\"name\":\"allow_resize\"},{\"default\":true,\"kind\":null,\"name\":\"allow_drag\"},{\"default\":[],\"kind\":null,\"name\":\"state\"}]},{\"extends\":null,\"module\":null,\"name\":\"click1\",\"overrides\":[],\"properties\":[{\"default\":\"\",\"kind\":null,\"name\":\"terminal_output\"},{\"default\":\"\",\"kind\":null,\"name\":\"debug_name\"},{\"default\":0,\"kind\":null,\"name\":\"clears\"}]},{\"extends\":null,\"module\":null,\"name\":\"NotificationAreaBase1\",\"overrides\":[],\"properties\":[{\"default\":\"bottom-right\",\"kind\":null,\"name\":\"position\"},{\"default\":0,\"kind\":null,\"name\":\"_clear\"}]},{\"extends\":null,\"module\":null,\"name\":\"NotificationArea1\",\"overrides\":[],\"properties\":[{\"default\":[],\"kind\":null,\"name\":\"notifications\"},{\"default\":\"bottom-right\",\"kind\":null,\"name\":\"position\"},{\"default\":0,\"kind\":null,\"name\":\"_clear\"},{\"default\":[{\"background\":\"#ffc107\",\"icon\":{\"className\":\"fas fa-exclamation-triangle\",\"color\":\"white\",\"tagName\":\"i\"},\"type\":\"warning\"},{\"background\":\"#007bff\",\"icon\":{\"className\":\"fas fa-info-circle\",\"color\":\"white\",\"tagName\":\"i\"},\"type\":\"info\"}],\"kind\":null,\"name\":\"types\"}]},{\"extends\":null,\"module\":null,\"name\":\"Notification\",\"overrides\":[],\"properties\":[{\"default\":null,\"kind\":null,\"name\":\"background\"},{\"default\":3000,\"kind\":null,\"name\":\"duration\"},{\"default\":null,\"kind\":null,\"name\":\"icon\"},{\"default\":\"\",\"kind\":null,\"name\":\"message\"},{\"default\":null,\"kind\":null,\"name\":\"notification_type\"},{\"default\":false,\"kind\":null,\"name\":\"_destroyed\"}]},{\"extends\":null,\"module\":null,\"name\":\"TemplateActions1\",\"overrides\":[],\"properties\":[{\"default\":0,\"kind\":null,\"name\":\"open_modal\"},{\"default\":0,\"kind\":null,\"name\":\"close_modal\"}]},{\"extends\":null,\"module\":null,\"name\":\"MaterialTemplateActions1\",\"overrides\":[],\"properties\":[{\"default\":0,\"kind\":null,\"name\":\"open_modal\"},{\"default\":0,\"kind\":null,\"name\":\"close_modal\"}]}],\"roots\":{\"references\":[{\"attributes\":{\"margin\":[5,5,5,5],\"name\":\"HSpacer06377\",\"sizing_mode\":\"stretch_width\"},\"id\":\"4273\",\"type\":\"Spacer\"},{\"attributes\":{\"line_alpha\":0.2,\"line_color\":\"#30a2da\",\"line_width\":2,\"x\":{\"field\":\"date\"},\"y\":{\"field\":\"users\"}},\"id\":\"4320\",\"type\":\"Line\"},{\"attributes\":{},\"id\":\"4284\",\"type\":\"LinearScale\"},{\"attributes\":{\"label\":{\"value\":\"train\"},\"renderers\":[{\"id\":\"4321\"}]},\"id\":\"4346\",\"type\":\"LegendItem\"},{\"attributes\":{\"source\":{\"id\":\"4315\"}},\"id\":\"4322\",\"type\":\"CDSView\"},{\"attributes\":{\"children\":[{\"id\":\"4273\"},{\"id\":\"4279\"},{\"id\":\"4444\"}],\"margin\":[0,0,0,0],\"name\":\"Row06373\",\"tags\":[\"embedded\"]},\"id\":\"4272\",\"type\":\"Row\"},{\"attributes\":{\"click_policy\":\"mute\",\"coordinates\":null,\"group\":null,\"items\":[{\"id\":\"4346\"},{\"id\":\"4380\"},{\"id\":\"4416\"}]},\"id\":\"4345\",\"type\":\"Legend\"},{\"attributes\":{\"callback\":null,\"formatters\":{\"@{date}\":\"datetime\"},\"renderers\":[{\"id\":\"4321\"},{\"id\":\"4354\"},{\"id\":\"4388\"}],\"tags\":[\"hv_created\"],\"tooltips\":[[\"date\",\"@{date}{%F %T}\"],[\"users\",\"@{users}\"]]},\"id\":\"4276\",\"type\":\"HoverTool\"},{\"attributes\":{\"coordinates\":null,\"data_source\":{\"id\":\"4315\"},\"glyph\":{\"id\":\"4318\"},\"group\":null,\"hover_glyph\":null,\"muted_glyph\":{\"id\":\"4320\"},\"nonselection_glyph\":{\"id\":\"4319\"},\"selection_glyph\":{\"id\":\"4347\"},\"view\":{\"id\":\"4322\"}},\"id\":\"4321\",\"type\":\"GlyphRenderer\"},{\"attributes\":{\"end\":7474.4,\"reset_end\":7474.4,\"reset_start\":-534.4000000000001,\"start\":-534.4000000000001,\"tags\":[[[\"users\",\"users\",null]]]},\"id\":\"4275\",\"type\":\"Range1d\"},{\"attributes\":{\"axis_label\":\"users\",\"coordinates\":null,\"formatter\":{\"id\":\"4313\"},\"group\":null,\"major_label_policy\":{\"id\":\"4314\"},\"ticker\":{\"id\":\"4293\"}},\"id\":\"4292\",\"type\":\"LinearAxis\"},{\"attributes\":{\"line_color\":\"#e5ae38\",\"line_width\":2,\"x\":{\"field\":\"date\"},\"y\":{\"field\":\"users\"}},\"id\":\"4417\",\"type\":\"Line\"},{\"attributes\":{\"line_color\":\"#fc4f30\",\"line_width\":2,\"x\":{\"field\":\"date\"},\"y\":{\"field\":\"users\"}},\"id\":\"4381\",\"type\":\"Line\"},{\"attributes\":{\"below\":[{\"id\":\"4288\"}],\"center\":[{\"id\":\"4291\"},{\"id\":\"4295\"},{\"id\":\"4345\"}],\"height\":300,\"left\":[{\"id\":\"4292\"}],\"margin\":[5,5,5,5],\"min_border_bottom\":10,\"min_border_left\":10,\"min_border_right\":10,\"min_border_top\":10,\"renderers\":[{\"id\":\"4321\"},{\"id\":\"4354\"},{\"id\":\"4388\"}],\"sizing_mode\":\"fixed\",\"title\":{\"id\":\"4280\"},\"toolbar\":{\"id\":\"4302\"},\"width\":700,\"x_range\":{\"id\":\"4274\"},\"x_scale\":{\"id\":\"4284\"},\"y_range\":{\"id\":\"4275\"},\"y_scale\":{\"id\":\"4286\"}},\"id\":\"4279\",\"subtype\":\"Figure\",\"type\":\"Plot\"},{\"attributes\":{\"line_color\":\"#30a2da\",\"line_width\":2,\"x\":{\"field\":\"date\"},\"y\":{\"field\":\"users\"}},\"id\":\"4318\",\"type\":\"Line\"},{\"attributes\":{},\"id\":\"4286\",\"type\":\"LinearScale\"},{\"attributes\":{\"line_alpha\":0.1,\"line_color\":\"#e5ae38\",\"line_width\":2,\"x\":{\"field\":\"date\"},\"y\":{\"field\":\"users\"}},\"id\":\"4386\",\"type\":\"Line\"},{\"attributes\":{\"axis_label\":\"date\",\"coordinates\":null,\"formatter\":{\"id\":\"4310\"},\"group\":null,\"major_label_policy\":{\"id\":\"4311\"},\"ticker\":{\"id\":\"4289\"}},\"id\":\"4288\",\"type\":\"DatetimeAxis\"},{\"attributes\":{\"line_alpha\":0.2,\"line_color\":\"#e5ae38\",\"line_width\":2,\"x\":{\"field\":\"date\"},\"y\":{\"field\":\"users\"}},\"id\":\"4387\",\"type\":\"Line\"},{\"attributes\":{},\"id\":\"4311\",\"type\":\"AllLabels\"},{\"attributes\":{},\"id\":\"4297\",\"type\":\"PanTool\"},{\"attributes\":{\"coordinates\":null,\"group\":null,\"text\":\"Daily visitors\",\"text_color\":\"black\",\"text_font_size\":\"12pt\"},\"id\":\"4280\",\"type\":\"Title\"},{\"attributes\":{\"axis\":{\"id\":\"4288\"},\"coordinates\":null,\"grid_line_color\":null,\"group\":null,\"ticker\":null},\"id\":\"4291\",\"type\":\"Grid\"},{\"attributes\":{\"num_minor_ticks\":5,\"tickers\":[{\"id\":\"4333\"},{\"id\":\"4334\"},{\"id\":\"4335\"},{\"id\":\"4336\"},{\"id\":\"4337\"},{\"id\":\"4338\"},{\"id\":\"4339\"},{\"id\":\"4340\"},{\"id\":\"4341\"},{\"id\":\"4342\"},{\"id\":\"4343\"},{\"id\":\"4344\"}]},\"id\":\"4289\",\"type\":\"DatetimeTicker\"},{\"attributes\":{\"source\":{\"id\":\"4382\"}},\"id\":\"4389\",\"type\":\"CDSView\"},{\"attributes\":{\"axis\":{\"id\":\"4292\"},\"coordinates\":null,\"dimension\":1,\"grid_line_color\":null,\"group\":null,\"ticker\":null},\"id\":\"4295\",\"type\":\"Grid\"},{\"attributes\":{},\"id\":\"4293\",\"type\":\"BasicTicker\"},{\"attributes\":{\"coordinates\":null,\"data_source\":{\"id\":\"4382\"},\"glyph\":{\"id\":\"4385\"},\"group\":null,\"hover_glyph\":null,\"muted_glyph\":{\"id\":\"4387\"},\"nonselection_glyph\":{\"id\":\"4386\"},\"selection_glyph\":{\"id\":\"4417\"},\"view\":{\"id\":\"4389\"}},\"id\":\"4388\",\"type\":\"GlyphRenderer\"},{\"attributes\":{},\"id\":\"4298\",\"type\":\"WheelZoomTool\"},{\"attributes\":{},\"id\":\"4296\",\"type\":\"SaveTool\"},{\"attributes\":{\"line_color\":\"#e5ae38\",\"line_width\":2,\"x\":{\"field\":\"date\"},\"y\":{\"field\":\"users\"}},\"id\":\"4385\",\"type\":\"Line\"},{\"attributes\":{\"label\":{\"value\":\"test\"},\"renderers\":[{\"id\":\"4388\"}]},\"id\":\"4416\",\"type\":\"LegendItem\"},{\"attributes\":{\"overlay\":{\"id\":\"4301\"}},\"id\":\"4299\",\"type\":\"BoxZoomTool\"},{\"attributes\":{},\"id\":\"4300\",\"type\":\"ResetTool\"},{\"attributes\":{},\"id\":\"4330\",\"type\":\"UnionRenderers\"},{\"attributes\":{},\"id\":\"4401\",\"type\":\"UnionRenderers\"},{\"attributes\":{\"bottom_units\":\"screen\",\"coordinates\":null,\"fill_alpha\":0.5,\"fill_color\":\"lightgrey\",\"group\":null,\"left_units\":\"screen\",\"level\":\"overlay\",\"line_alpha\":1.0,\"line_color\":\"black\",\"line_dash\":[4,4],\"line_width\":2,\"right_units\":\"screen\",\"syncable\":false,\"top_units\":\"screen\"},\"id\":\"4301\",\"type\":\"BoxAnnotation\"},{\"attributes\":{},\"id\":\"4310\",\"type\":\"DatetimeTickFormatter\"},{\"attributes\":{},\"id\":\"4313\",\"type\":\"BasicTickFormatter\"},{\"attributes\":{},\"id\":\"4383\",\"type\":\"Selection\"},{\"attributes\":{\"line_alpha\":0.2,\"line_color\":\"#fc4f30\",\"line_width\":2,\"x\":{\"field\":\"date\"},\"y\":{\"field\":\"users\"}},\"id\":\"4353\",\"type\":\"Line\"},{\"attributes\":{\"line_color\":\"#30a2da\",\"line_width\":2,\"x\":{\"field\":\"date\"},\"y\":{\"field\":\"users\"}},\"id\":\"4347\",\"type\":\"Line\"},{\"attributes\":{\"data\":{\"date\":{\"__ndarray__\":\"AADA1/Wld0IAAIA9SKZ3QgAAQKOapndCAAAACe2md0IAAMBuP6d3QgAAgNSRp3dCAABAOuSnd0IAAACgNqh3QgAAwAWJqHdCAACAa9uod0IAAEDRLal3QgAAADeAqXdCAADAnNKpd0IAAIACJap3QgAAQGh3qndCAAAAzsmqd0IAAMAzHKt3QgAAgJluq3dCAABA/8Crd0IAAABlE6x3QgAAwMplrHdCAACAMLisd0IAAECWCq13QgAAAPxcrXdCAADAYa+td0IAAIDHAa53QgAAQC1UrndCAAAAk6aud0IAAMD4+K53QgAAgF5Lr3dCAABAxJ2vd0IAAAAq8K93QgAAwI9CsHdCAACA9ZSwd0IAAEBb57B3QgAAAME5sXdCAADAJoyxd0IAAICM3rF3QgAAQPIwsndCAAAAWIOyd0IAAMC91bJ3QgAAgCMos3dCAABAiXqzd0IAAADvzLN3QgAAwFQftHdCAACAunG0d0IAAEAgxLR3QgAAAIYWtXdCAADA62i1d0IAAIBRu7V3QgAAQLcNtndCAAAAHWC2d0IAAMCCsrZ3QgAAgOgEt3dCAABATle3d0IAAAC0qbd3Qg==\",\"dtype\":\"float64\",\"order\":\"little\",\"shape\":[56]},\"users\":[3123,2870,2020,1828,2722,2991,2976,2834,2609,1832,1462,2563,2897,3057,2697,2391,1730,1434,2455,2508,2563,2447,2543,1714,1415,2407,2587,2314,2465,2088,1535,133,2146,2266,2330,2323,2003,1406,1239,1989,2268,2249,2322,2098,1477,1308,1920,2219,2482,2345,2185,1546,1393,2371,2547,2448]},\"selected\":{\"id\":\"4383\"},\"selection_policy\":{\"id\":\"4401\"}},\"id\":\"4382\",\"type\":\"ColumnDataSource\"},{\"attributes\":{\"line_color\":\"#fc4f30\",\"line_width\":2,\"x\":{\"field\":\"date\"},\"y\":{\"field\":\"users\"}},\"id\":\"4351\",\"type\":\"Line\"},{\"attributes\":{\"tools\":[{\"id\":\"4276\"},{\"id\":\"4296\"},{\"id\":\"4297\"},{\"id\":\"4298\"},{\"id\":\"4299\"},{\"id\":\"4300\"}]},\"id\":\"4302\",\"type\":\"Toolbar\"},{\"attributes\":{\"mantissas\":[1,2,5],\"max_interval\":500.0,\"num_minor_ticks\":0},\"id\":\"4333\",\"type\":\"AdaptiveTicker\"},{\"attributes\":{\"data\":{\"date\":{\"__ndarray__\":\"AADARlmId0IAAICsq4h3QgAAQBL+iHdCAAAAeFCJd0IAAMDdool3QgAAgEP1iXdCAABAqUeKd0IAAAAPmop3QgAAwHTsindCAACA2j6Ld0IAAEBAkYt3QgAAAKbji3dCAADACzaMd0IAAIBxiIx3QgAAQNfajHdCAAAAPS2Nd0IAAMCif413QgAAgAjSjXdCAABAbiSOd0IAAADUdo53QgAAwDnJjndCAACAnxuPd0IAAEAFbo93QgAAAGvAj3dCAADA0BKQd0IAAIA2ZZB3QgAAQJy3kHdCAAAAAgqRd0IAAMBnXJF3QgAAgM2ukXdCAABAMwGSd0IAAACZU5J3QgAAwP6lkndCAACAZPiSd0IAAEDKSpN3QgAAADCdk3dCAADAle+Td0IAAID7QZR3QgAAQGGUlHdCAAAAx+aUd0IAAMAsOZV3QgAAgJKLlXdCAABA+N2Vd0IAAABeMJZ3QgAAwMOClndCAACAKdWWd0IAAECPJ5d3QgAAAPV5l3dCAADAWsyXd0IAAIDAHph3QgAAQCZxmHdCAAAAjMOYd0IAAMDxFZl3QgAAgFdomXdCAABAvbqZd0IAAAAjDZp3QgAAwIhfmndCAACA7rGad0IAAEBUBJt3QgAAALpWm3dCAADAH6mbd0IAAICF+5t3QgAAQOtNnHdCAAAAUaCcd0IAAMC28px3QgAAgBxFnXdCAABAgpedd0IAAADo6Z13QgAAwE08nndCAACAs46ed0IAAEAZ4Z53QgAAAH8zn3dCAADA5IWfd0IAAIBK2J93QgAAQLAqoHdCAAAAFn2gd0IAAMB7z6B3QgAAgOEhoXdCAABAR3Shd0IAAACtxqF3QgAAwBIZondCAACAeGuid0IAAEDevaJ3QgAAAEQQo3dCAADAqWKjd0IAAIAPtaN3QgAAQHUHpHdCAAAA21mkd0IAAMBArKR3QgAAgKb+pHdCAABADFGld0IAAAByo6V3Qg==\",\"dtype\":\"float64\",\"order\":\"little\",\"shape\":[92]},\"users\":[2038,1464,1381,1360,1359,2225,2605,2615,2519,2837,2118,1966,2924,3182,3134,3127,3167,2504,2330,3605,3585,3852,3914,3541,2794,2467,3585,4022,3690,3579,3331,2543,2292,3645,3698,3623,3529,3468,2615,2534,3348,3787,3907,3848,3451,2619,2461,3399,3801,3946,3742,3543,2610,2560,3928,4257,4208,4260,4033,3005,2570,3948,4084,3866,4001,3490,2921,2504,3843,4055,3931,4016,3668,2694,2376,3569,3887,4012,3714,3494,2622,2333,3343,3659,3847,3461,3256,2443,2084,3211,3435,3391]},\"selected\":{\"id\":\"4349\"},\"selection_policy\":{\"id\":\"4365\"}},\"id\":\"4348\",\"type\":\"ColumnDataSource\"},{\"attributes\":{\"line_alpha\":0.1,\"line_color\":\"#fc4f30\",\"line_width\":2,\"x\":{\"field\":\"date\"},\"y\":{\"field\":\"users\"}},\"id\":\"4352\",\"type\":\"Line\"},{\"attributes\":{\"line_alpha\":0.1,\"line_color\":\"#30a2da\",\"line_width\":2,\"x\":{\"field\":\"date\"},\"y\":{\"field\":\"users\"}},\"id\":\"4319\",\"type\":\"Line\"},{\"attributes\":{},\"id\":\"4316\",\"type\":\"Selection\"},{\"attributes\":{\"base\":60,\"mantissas\":[1,2,5,10,15,20,30],\"max_interval\":1800000.0,\"min_interval\":1000.0,\"num_minor_ticks\":0},\"id\":\"4334\",\"type\":\"AdaptiveTicker\"},{\"attributes\":{\"base\":24,\"mantissas\":[1,2,4,6,8,12],\"max_interval\":43200000.0,\"min_interval\":3600000.0,\"num_minor_ticks\":0},\"id\":\"4335\",\"type\":\"AdaptiveTicker\"},{\"attributes\":{\"source\":{\"id\":\"4348\"}},\"id\":\"4355\",\"type\":\"CDSView\"},{\"attributes\":{},\"id\":\"4344\",\"type\":\"YearsTicker\"},{\"attributes\":{},\"id\":\"4349\",\"type\":\"Selection\"},{\"attributes\":{\"months\":[0,1,2,3,4,5,6,7,8,9,10,11]},\"id\":\"4340\",\"type\":\"MonthsTicker\"},{\"attributes\":{\"data\":{\"date\":{\"__ndarray__\":\"AAAAxXowd0IAAMAqzTB3QgAAgJAfMXdCAABA9nExd0IAAABcxDF3QgAAwMEWMndCAACAJ2kyd0IAAECNuzJ3QgAAAPMNM3dCAADAWGAzd0IAAIC+sjN3QgAAQCQFNHdCAAAAilc0d0IAAMDvqTR3QgAAgFX8NHdCAABAu041d0IAAAAhoTV3QgAAwIbzNXdCAACA7EU2d0IAAEBSmDZ3QgAAALjqNndCAADAHT03d0IAAICDjzd3QgAAQOnhN3dCAAAATzQ4d0IAAMC0hjh3QgAAgBrZOHdCAABAgCs5d0IAAADmfTl3QgAAwEvQOXdCAACAsSI6d0IAAEAXdTp3QgAAAH3HOndCAADA4hk7d0IAAIBIbDt3QgAAQK6+O3dCAAAAFBE8d0IAAMB5Yzx3QgAAgN+1PHdCAABARQg9d0IAAACrWj13QgAAwBCtPXdCAACAdv89d0IAAEDcUT53QgAAAEKkPndCAADAp/Y+d0IAAIANST93QgAAQHObP3dCAAAA2e0/d0IAAMA+QEB3QgAAgKSSQHdCAABACuVAd0IAAABwN0F3QgAAwNWJQXdCAACAO9xBd0IAAEChLkJ3QgAAAAeBQndCAADAbNNCd0IAAIDSJUN3QgAAQDh4Q3dCAAAAnspDd0IAAMADHUR3QgAAgGlvRHdCAABAz8FEd0IAAAA1FEV3QgAAwJpmRXdCAACAALlFd0IAAEBmC0Z3QgAAAMxdRndCAADAMbBGd0IAAICXAkd3QgAAQP1UR3dCAAAAY6dHd0IAAMDI+Ud3QgAAgC5MSHdCAABAlJ5Id0IAAAD68Eh3QgAAwF9DSXdCAACAxZVJd0IAAEAr6El3QgAAAJE6SndCAADA9oxKd0IAAIBc30p3QgAAQMIxS3dCAAAAKIRLd0IAAMCN1kt3QgAAgPMoTHdCAABAWXtMd0IAAAC/zUx3QgAAwCQgTXdCAACAinJNd0IAAEDwxE13QgAAAFYXTndCAADAu2lOd0IAAIAhvE53QgAAQIcOT3dCAAAA7WBPd0IAAMBSs093QgAAgLgFUHdCAABAHlhQd0IAAACEqlB3QgAAwOn8UHdCAACAT09Rd0IAAEC1oVF3QgAAABv0UXdCAADAgEZSd0IAAIDmmFJ3QgAAQEzrUndCAAAAsj1Td0IAAMAXkFN3QgAAgH3iU3dCAABA4zRUd0IAAABJh1R3QgAAwK7ZVHdCAACAFCxVd0IAAEB6flV3QgAAAODQVXdCAADARSNWd0IAAICrdVZ3QgAAQBHIVndCAAAAdxpXd0IAAMDcbFd3QgAAgEK/V3dCAABAqBFYd0IAAAAOZFh3QgAAwHO2WHdCAACA2QhZd0IAAEA/W1l3QgAAAKWtWXdCAADACgBad0IAAIBwUlp3QgAAQNakWndCAAAAPPdad0IAAMChSVt3QgAAgAecW3dCAABAbe5bd0IAAADTQFx3QgAAwDiTXHdCAACAnuVcd0IAAEAEOF13QgAAAGqKXXdCAADAz9xdd0IAAIA1L153QgAAQJuBXndCAAAAAdRed0IAAMBmJl93QgAAgMx4X3dCAABAMstfd0IAAACYHWB3QgAAwP1vYHdCAACAY8Jgd0IAAEDJFGF3QgAAAC9nYXdCAADAlLlhd0IAAID6C2J3QgAAQGBeYndCAAAAxrBid0IAAMArA2N3QgAAgJFVY3dCAABA96djd0IAAABd+mN3QgAAwMJMZHdCAACAKJ9kd0IAAECO8WR3QgAAAPRDZXdCAADAWZZld0IAAIC/6GV3QgAAQCU7ZndCAAAAi41md0IAAMDw32Z3QgAAgFYyZ3dCAABAvIRnd0IAAAAi12d3QgAAwIcpaHdCAACA7Xtod0IAAEBTzmh3QgAAALkgaXdCAADAHnNpd0IAAICExWl3QgAAQOoXandCAAAAUGpqd0IAAMC1vGp3QgAAgBsPa3dCAABAgWFrd0IAAADns2t3QgAAwEwGbHdCAACAslhsd0IAAEAYq2x3QgAAAH79bHdCAADA409td0IAAIBJom13QgAAQK/0bXdCAAAAFUdud0IAAMB6mW53QgAAgODrbndCAABARj5vd0IAAACskG93QgAAwBHjb3dCAACAdzVwd0IAAEDdh3B3QgAAAEPacHdCAADAqCxxd0IAAIAOf3F3QgAAQHTRcXdCAAAA2iNyd0IAAMA/dnJ3QgAAgKXIcndCAABACxtzd0IAAABxbXN3QgAAwNa/c3dCAACAPBJ0d0IAAECiZHR3QgAAAAi3dHdCAADAbQl1d0IAAIDTW3V3QgAAQDmudXdCAAAAnwB2d0IAAMAEU3Z3QgAAgGqldndCAABA0Pd2d0IAAAA2Snd3QgAAwJucd3dCAACAAe93d0IAAEBnQXh3QgAAAM2TeHdCAADAMuZ4d0IAAICYOHl3QgAAQP6KeXdCAAAAZN15d0IAAMDJL3p3QgAAgC+CendCAABAldR6d0IAAAD7Jnt3QgAAwGB5e3dCAACAxst7d0IAAEAsHnx3QgAAAJJwfHdCAADA98J8d0IAAIBdFX13QgAAQMNnfXdCAAAAKbp9d0IAAMCODH53QgAAgPRefndCAABAWrF+d0IAAADAA393QgAAwCVWf3dCAACAi6h/d0IAAEDx+n93QgAAAFdNgHdCAADAvJ+Ad0IAAIAi8oB3QgAAQIhEgXdCAAAA7paBd0IAAMBT6YF3QgAAgLk7gndCAABAH46Cd0IAAACF4IJ3QgAAwOoyg3dCAACAUIWDd0IAAEC214N3QgAAABwqhHdCAADAgXyEd0IAAIDnzoR3QgAAQE0hhXdCAAAAs3OFd0IAAMAYxoV3QgAAgH4YhndCAABA5GqGd0IAAABKvYZ3QgAAwK8Ph3dCAACAFWKHd0IAAEB7tId3QgAAAOEGiHdC\",\"dtype\":\"float64\",\"order\":\"little\",\"shape\":[273]},\"users\":[2324,2201,2146,1666,1433,2195,2240,2295,2279,2155,1737,1391,2150,2121,2136,2166,2067,1648,1401,2040,2269,2283,2174,2178,1659,1338,2041,2162,2123,2147,2124,1533,1398,2080,2110,2235,2100,1815,1635,1477,2060,2227,2054,2247,2358,1676,1384,2101,2281,2144,2161,2088,1596,1411,1952,2116,2228,2132,2092,1659,1476,2213,2206,2543,2670,2537,1858,1458,2422,2682,2817,2905,2641,2059,1708,2557,2762,2448,2784,2743,2172,1770,2977,3404,3534,3134,3086,2586,2040,3130,3632,3495,3411,3444,2457,2138,3281,3780,3775,3872,3600,2721,2307,3216,3994,4064,4201,4124,3116,2561,4185,4630,4513,4656,4319,3160,2824,4132,4553,4559,4621,4258,3092,2324,3342,4318,4821,4855,4604,3544,3195,5045,5265,5282,5419,5130,3861,3317,4156,5258,5668,5565,5306,4073,3579,5828,6807,6774,6587,6312,4810,4110,6117,6298,6587,6671,5235,3416,2855,4079,3983,4418,4660,3894,2965,2459,3698,3751,3565,3179,2781,1931,1558,1934,1973,1640,886,472,863,987,1432,1390,1278,785,488,922,1144,1677,1968,1750,2108,2012,1574,1569,2413,2604,2441,2596,2400,1994,1871,2545,2706,2753,2587,2377,1739,1747,2555,2666,2695,2640,2459,1808,1724,2320,2463,2594,2446,2379,1883,1538,2390,2521,2606,2467,2342,1652,1438,2185,2311,2563,2622,2336,1693,1579,2499,2920,2726,2827,2567,2015,1670,2642,2827,3129,3154,2758,2050,1968,2902,2954,3072,3116,2928,2133,1987,2726,3218,3178,3127,2848,2069,1926,3227,3189,3192,3177,2952,1964,1482,2179,2286]},\"selected\":{\"id\":\"4316\"},\"selection_policy\":{\"id\":\"4330\"}},\"id\":\"4315\",\"type\":\"ColumnDataSource\"},{\"attributes\":{},\"id\":\"4314\",\"type\":\"AllLabels\"},{\"attributes\":{\"days\":[1,15]},\"id\":\"4339\",\"type\":\"DaysTicker\"},{\"attributes\":{\"coordinates\":null,\"data_source\":{\"id\":\"4348\"},\"glyph\":{\"id\":\"4351\"},\"group\":null,\"hover_glyph\":null,\"muted_glyph\":{\"id\":\"4353\"},\"nonselection_glyph\":{\"id\":\"4352\"},\"selection_glyph\":{\"id\":\"4381\"},\"view\":{\"id\":\"4355\"}},\"id\":\"4354\",\"type\":\"GlyphRenderer\"},{\"attributes\":{\"days\":[1,2,3,4,5,6,7,8,9,10,11,12,13,14,15,16,17,18,19,20,21,22,23,24,25,26,27,28,29,30,31]},\"id\":\"4336\",\"type\":\"DaysTicker\"},{\"attributes\":{\"label\":{\"value\":\"val\"},\"renderers\":[{\"id\":\"4354\"}]},\"id\":\"4380\",\"type\":\"LegendItem\"},{\"attributes\":{\"days\":[1,4,7,10,13,16,19,22,25,28]},\"id\":\"4337\",\"type\":\"DaysTicker\"},{\"attributes\":{\"days\":[1,8,15,22]},\"id\":\"4338\",\"type\":\"DaysTicker\"},{\"attributes\":{\"months\":[0,6]},\"id\":\"4343\",\"type\":\"MonthsTicker\"},{\"attributes\":{\"months\":[0,2,4,6,8,10]},\"id\":\"4341\",\"type\":\"MonthsTicker\"},{\"attributes\":{\"end\":1629849600000.0,\"reset_end\":1629849600000.0,\"reset_start\":1593561600000.0,\"start\":1593561600000.0,\"tags\":[[[\"date\",\"date\",null]]]},\"id\":\"4274\",\"type\":\"Range1d\"},{\"attributes\":{},\"id\":\"4365\",\"type\":\"UnionRenderers\"},{\"attributes\":{\"margin\":[5,5,5,5],\"name\":\"HSpacer06378\",\"sizing_mode\":\"stretch_width\"},\"id\":\"4444\",\"type\":\"Spacer\"},{\"attributes\":{\"months\":[0,4,8]},\"id\":\"4342\",\"type\":\"MonthsTicker\"}],\"root_ids\":[\"4272\"]},\"title\":\"Bokeh Application\",\"version\":\"2.4.3\"}};\n",
       "    var render_items = [{\"docid\":\"635ae33e-febd-46d0-9a80-ee69643b5da0\",\"root_ids\":[\"4272\"],\"roots\":{\"4272\":\"f8ade12e-f49d-4287-939b-4487c05559b3\"}}];\n",
       "    root.Bokeh.embed.embed_items_notebook(docs_json, render_items);\n",
       "  }\n",
       "  if (root.Bokeh !== undefined && root.Bokeh.Panel !== undefined) {\n",
       "    embed_document(root);\n",
       "  } else {\n",
       "    var attempts = 0;\n",
       "    var timer = setInterval(function(root) {\n",
       "      if (root.Bokeh !== undefined && root.Bokeh.Panel !== undefined) {\n",
       "        clearInterval(timer);\n",
       "        embed_document(root);\n",
       "      } else if (document.readyState == \"complete\") {\n",
       "        attempts++;\n",
       "        if (attempts > 200) {\n",
       "          clearInterval(timer);\n",
       "          console.log(\"Bokeh: ERROR: Unable to run BokehJS code because BokehJS library is missing\");\n",
       "        }\n",
       "      }\n",
       "    }, 25, root)\n",
       "  }\n",
       "})(window);</script>"
      ],
      "text/plain": [
       ":Overlay\n",
       "   .Curve.Train :Curve   [date]   (users)\n",
       "   .Curve.Val   :Curve   [date]   (users)\n",
       "   .Curve.Test  :Curve   [date]   (users)"
      ]
     },
     "execution_count": 60,
     "metadata": {
      "application/vnd.holoviews_exec.v0+json": {
       "id": "4272"
      }
     },
     "output_type": "execute_result"
    }
   ],
   "source": [
    "# Static plot\n",
    "# ==============================================================================\n",
    "# fig, ax = plt.subplots(figsize=(12, 4))\n",
    "# data_train.users.plot(ax=ax, label='train', linewidth=1)\n",
    "# data_val.users.plot(ax=ax, label='val', linewidth=1)\n",
    "# data_test.users.plot(ax=ax, label='test', linewidth=1)\n",
    "# ax.set_title('Daily visitors')\n",
    "# ax.legend();\n",
    "\n",
    "# Interactive plot\n",
    "# ==============================================================================\n",
    "plot_train = data_train.users.hvplot.line(label='train')\n",
    "plot_val   = data_val.users.hvplot.line(label='val')\n",
    "plot_test  = data_test.users.hvplot.line(label='test')\n",
    "\n",
    "layout = plot_train * plot_val * plot_test\n",
    "layout = layout.opts(title='Daily visitors', ylabel='users')\n",
    "layout"
   ]
  },
  {
   "cell_type": "markdown",
   "metadata": {},
   "source": [
    "**Seasonality**"
   ]
  },
  {
   "cell_type": "code",
   "execution_count": 61,
   "metadata": {},
   "outputs": [
    {
     "data": {},
     "metadata": {},
     "output_type": "display_data"
    },
    {
     "data": {
      "application/vnd.holoviews_exec.v0+json": "",
      "text/html": [
       "<div id='4576'>\n",
       "  <div class=\"bk-root\" id=\"b3d111e0-74d1-4cb8-8f83-81489a20a0b5\" data-root-id=\"4576\"></div>\n",
       "</div>\n",
       "<script type=\"application/javascript\">(function(root) {\n",
       "  function embed_document(root) {\n",
       "    var docs_json = {\"0ba3d8fc-5c7d-4780-90c7-46d34b2e0e55\":{\"defs\":[{\"extends\":null,\"module\":null,\"name\":\"ReactiveHTML1\",\"overrides\":[],\"properties\":[]},{\"extends\":null,\"module\":null,\"name\":\"FlexBox1\",\"overrides\":[],\"properties\":[{\"default\":\"flex-start\",\"kind\":null,\"name\":\"align_content\"},{\"default\":\"flex-start\",\"kind\":null,\"name\":\"align_items\"},{\"default\":\"row\",\"kind\":null,\"name\":\"flex_direction\"},{\"default\":\"wrap\",\"kind\":null,\"name\":\"flex_wrap\"},{\"default\":\"flex-start\",\"kind\":null,\"name\":\"justify_content\"}]},{\"extends\":null,\"module\":null,\"name\":\"GridStack1\",\"overrides\":[],\"properties\":[{\"default\":\"warn\",\"kind\":null,\"name\":\"mode\"},{\"default\":null,\"kind\":null,\"name\":\"ncols\"},{\"default\":null,\"kind\":null,\"name\":\"nrows\"},{\"default\":true,\"kind\":null,\"name\":\"allow_resize\"},{\"default\":true,\"kind\":null,\"name\":\"allow_drag\"},{\"default\":[],\"kind\":null,\"name\":\"state\"}]},{\"extends\":null,\"module\":null,\"name\":\"click1\",\"overrides\":[],\"properties\":[{\"default\":\"\",\"kind\":null,\"name\":\"terminal_output\"},{\"default\":\"\",\"kind\":null,\"name\":\"debug_name\"},{\"default\":0,\"kind\":null,\"name\":\"clears\"}]},{\"extends\":null,\"module\":null,\"name\":\"NotificationAreaBase1\",\"overrides\":[],\"properties\":[{\"default\":\"bottom-right\",\"kind\":null,\"name\":\"position\"},{\"default\":0,\"kind\":null,\"name\":\"_clear\"}]},{\"extends\":null,\"module\":null,\"name\":\"NotificationArea1\",\"overrides\":[],\"properties\":[{\"default\":[],\"kind\":null,\"name\":\"notifications\"},{\"default\":\"bottom-right\",\"kind\":null,\"name\":\"position\"},{\"default\":0,\"kind\":null,\"name\":\"_clear\"},{\"default\":[{\"background\":\"#ffc107\",\"icon\":{\"className\":\"fas fa-exclamation-triangle\",\"color\":\"white\",\"tagName\":\"i\"},\"type\":\"warning\"},{\"background\":\"#007bff\",\"icon\":{\"className\":\"fas fa-info-circle\",\"color\":\"white\",\"tagName\":\"i\"},\"type\":\"info\"}],\"kind\":null,\"name\":\"types\"}]},{\"extends\":null,\"module\":null,\"name\":\"Notification\",\"overrides\":[],\"properties\":[{\"default\":null,\"kind\":null,\"name\":\"background\"},{\"default\":3000,\"kind\":null,\"name\":\"duration\"},{\"default\":null,\"kind\":null,\"name\":\"icon\"},{\"default\":\"\",\"kind\":null,\"name\":\"message\"},{\"default\":null,\"kind\":null,\"name\":\"notification_type\"},{\"default\":false,\"kind\":null,\"name\":\"_destroyed\"}]},{\"extends\":null,\"module\":null,\"name\":\"TemplateActions1\",\"overrides\":[],\"properties\":[{\"default\":0,\"kind\":null,\"name\":\"open_modal\"},{\"default\":0,\"kind\":null,\"name\":\"close_modal\"}]},{\"extends\":null,\"module\":null,\"name\":\"MaterialTemplateActions1\",\"overrides\":[],\"properties\":[{\"default\":0,\"kind\":null,\"name\":\"open_modal\"},{\"default\":0,\"kind\":null,\"name\":\"close_modal\"}]}],\"roots\":{\"references\":[{\"attributes\":{\"angle\":{\"value\":0.0},\"fill_alpha\":{\"value\":1.0},\"fill_color\":{\"value\":\"#30a2da\"},\"hatch_alpha\":{\"value\":1.0},\"hatch_color\":{\"value\":\"#30a2da\"},\"hatch_scale\":{\"value\":12.0},\"hatch_weight\":{\"value\":1.0},\"line_alpha\":{\"value\":1.0},\"line_cap\":{\"value\":\"butt\"},\"line_color\":{\"value\":\"#30a2da\"},\"line_dash\":{\"value\":[]},\"line_dash_offset\":{\"value\":0},\"line_join\":{\"value\":\"bevel\"},\"line_width\":{\"value\":1},\"marker\":{\"value\":\"circle\"},\"size\":{\"value\":5.477225575051661},\"x\":{\"field\":\"month\"},\"y\":{\"field\":\"users\"}},\"id\":\"4690\",\"type\":\"Scatter\"},{\"attributes\":{\"coordinates\":null,\"data_source\":{\"id\":\"4673\"},\"glyph\":{\"id\":\"4676\"},\"group\":null,\"hover_glyph\":null,\"muted_glyph\":{\"id\":\"4678\"},\"nonselection_glyph\":{\"id\":\"4677\"},\"selection_glyph\":{\"id\":\"4681\"},\"view\":{\"id\":\"4680\"}},\"id\":\"4679\",\"type\":\"GlyphRenderer\"},{\"attributes\":{\"fill_color\":{\"value\":null},\"x\":{\"field\":\"index\"},\"y\":{\"field\":\"users\"}},\"id\":\"4619\",\"type\":\"Circle\"},{\"attributes\":{\"line_alpha\":{\"value\":0.1},\"x0\":{\"field\":\"x0\"},\"x1\":{\"field\":\"x1\"},\"y0\":{\"field\":\"y0\"},\"y1\":{\"field\":\"y1\"}},\"id\":\"4652\",\"type\":\"Segment\"},{\"attributes\":{\"bottom\":{\"field\":\"bottom\"},\"fill_color\":{\"value\":null},\"top\":{\"field\":\"top\"},\"width\":{\"value\":0.7},\"x\":{\"field\":\"index\"}},\"id\":\"4659\",\"type\":\"VBar\"},{\"attributes\":{},\"id\":\"4613\",\"type\":\"AllLabels\"},{\"attributes\":{\"line_alpha\":{\"value\":0.2},\"x0\":{\"field\":\"x0\"},\"x1\":{\"field\":\"x1\"},\"y0\":{\"field\":\"y0\"},\"y1\":{\"field\":\"y1\"}},\"id\":\"4637\",\"type\":\"Segment\"},{\"attributes\":{\"data\":{\"x0\":[\"1\",\"2\",\"3\",\"4\",\"5\",\"6\",\"7\",\"8\",\"9\",\"10\",\"11\",\"12\"],\"x1\":[\"1\",\"2\",\"3\",\"4\",\"5\",\"6\",\"7\",\"8\",\"9\",\"10\",\"11\",\"12\"],\"y0\":[2753,2920,3227,4022,4260,4084,3123,2547,3632,4656,6807,6671],\"y1\":{\"__ndarray__\":\"AAAAAAAWpEAAAAAAAAikQAAAAAAAcKhAAAAAAADjq0AAAAAAAEuuQAAAAACAKq5AAAAAAAA9o0AAAAAAAHyhQAAAAAAAHqdAAAAAAICFsEAAAAAAgJi1QAAAAAAAxa5A\",\"dtype\":\"float64\",\"order\":\"little\",\"shape\":[12]}},\"selected\":{\"id\":\"4701\"},\"selection_policy\":{\"id\":\"4700\"}},\"id\":\"4625\",\"type\":\"ColumnDataSource\"},{\"attributes\":{\"bottom\":{\"field\":\"bottom\"},\"fill_color\":{\"value\":null},\"top\":{\"field\":\"top\"},\"width\":{\"value\":0.7},\"x\":{\"field\":\"index\"}},\"id\":\"4667\",\"type\":\"VBar\"},{\"attributes\":{\"source\":{\"id\":\"4633\"}},\"id\":\"4639\",\"type\":\"CDSView\"},{\"attributes\":{\"bottom\":{\"field\":\"bottom\"},\"fill_alpha\":{\"value\":0.1},\"fill_color\":{\"value\":null},\"hatch_alpha\":{\"value\":0.1},\"line_alpha\":{\"value\":0.1},\"top\":{\"field\":\"top\"},\"width\":{\"value\":0.7},\"x\":{\"field\":\"index\"}},\"id\":\"4660\",\"type\":\"VBar\"},{\"attributes\":{},\"id\":\"4710\",\"type\":\"UnionRenderers\"},{\"attributes\":{\"source\":{\"id\":\"4649\"}},\"id\":\"4655\",\"type\":\"CDSView\"},{\"attributes\":{\"line_alpha\":{\"value\":0.2},\"x0\":{\"field\":\"x0\"},\"x1\":{\"field\":\"x1\"},\"y0\":{\"field\":\"y0\"},\"y1\":{\"field\":\"y1\"}},\"id\":\"4645\",\"type\":\"Segment\"},{\"attributes\":{\"children\":[{\"id\":\"4577\"},{\"id\":\"4582\"},{\"id\":\"4717\"}],\"margin\":[0,0,0,0],\"name\":\"Row06714\",\"tags\":[\"embedded\"]},\"id\":\"4576\",\"type\":\"Row\"},{\"attributes\":{},\"id\":\"4711\",\"type\":\"Selection\"},{\"attributes\":{\"bottom_units\":\"screen\",\"coordinates\":null,\"fill_alpha\":0.5,\"fill_color\":\"lightgrey\",\"group\":null,\"left_units\":\"screen\",\"level\":\"overlay\",\"line_alpha\":1.0,\"line_color\":\"black\",\"line_dash\":[4,4],\"line_width\":2,\"right_units\":\"screen\",\"syncable\":false,\"top_units\":\"screen\"},\"id\":\"4603\",\"type\":\"BoxAnnotation\"},{\"attributes\":{\"margin\":[5,5,5,5],\"name\":\"HSpacer06719\",\"sizing_mode\":\"stretch_width\"},\"id\":\"4717\",\"type\":\"Spacer\"},{\"attributes\":{\"margin\":[5,5,5,5],\"name\":\"HSpacer06718\",\"sizing_mode\":\"stretch_width\"},\"id\":\"4577\",\"type\":\"Spacer\"},{\"attributes\":{\"line_alpha\":{\"value\":1.0},\"line_cap\":{\"value\":\"butt\"},\"line_color\":{\"value\":\"black\"},\"line_dash\":{\"value\":[]},\"line_dash_offset\":{\"value\":0},\"line_join\":{\"value\":\"bevel\"},\"line_width\":{\"value\":1},\"x0\":{\"field\":\"x0\"},\"x1\":{\"field\":\"x1\"},\"y0\":{\"field\":\"y0\"},\"y1\":{\"field\":\"y1\"}},\"id\":\"4656\",\"type\":\"Segment\"},{\"attributes\":{\"tools\":[{\"id\":\"4580\"},{\"id\":\"4598\"},{\"id\":\"4599\"},{\"id\":\"4600\"},{\"id\":\"4601\"},{\"id\":\"4602\"}]},\"id\":\"4604\",\"type\":\"Toolbar\"},{\"attributes\":{},\"id\":\"4700\",\"type\":\"UnionRenderers\"},{\"attributes\":{},\"id\":\"4612\",\"type\":\"CategoricalTickFormatter\"},{\"attributes\":{},\"id\":\"4701\",\"type\":\"Selection\"},{\"attributes\":{\"data\":{\"month\":[\"1\",\"2\",\"3\",\"4\",\"5\",\"6\",\"7\",\"8\",\"9\",\"10\",\"11\",\"12\"],\"users\":{\"__ndarray__\":\"AAAAAAB4oEAAAAAAAKGiQAAAAAAAQKZAAAAAAACBpkAAAAAAAK6rQAAAAAAASKtAAAAAAAD0oEAAAAAAAGagQAAAAAAAv6RAAAAAAACIrUAAAAAAAFazQAAAAAAATqZA\",\"dtype\":\"float64\",\"order\":\"little\",\"shape\":[12]}},\"selected\":{\"id\":\"4674\"},\"selection_policy\":{\"id\":\"4712\"}},\"id\":\"4673\",\"type\":\"ColumnDataSource\"},{\"attributes\":{\"line_alpha\":{\"value\":1.0},\"line_cap\":{\"value\":\"butt\"},\"line_color\":{\"value\":\"black\"},\"line_dash\":{\"value\":[]},\"line_dash_offset\":{\"value\":0},\"line_join\":{\"value\":\"bevel\"},\"line_width\":{\"value\":1},\"x0\":{\"field\":\"x0\"},\"x1\":{\"field\":\"x1\"},\"y0\":{\"field\":\"y0\"},\"y1\":{\"field\":\"y1\"}},\"id\":\"4640\",\"type\":\"Segment\"},{\"attributes\":{\"fill_alpha\":{\"value\":0.1},\"fill_color\":{\"value\":null},\"hatch_alpha\":{\"value\":0.1},\"line_alpha\":{\"value\":0.1},\"x\":{\"field\":\"index\"},\"y\":{\"field\":\"users\"}},\"id\":\"4620\",\"type\":\"Circle\"},{\"attributes\":{\"line_alpha\":0.2,\"line_color\":\"#30a2da\",\"line_width\":2,\"x\":{\"field\":\"month\"},\"y\":{\"field\":\"users\"}},\"id\":\"4678\",\"type\":\"Line\"},{\"attributes\":{\"data\":{\"bottom\":{\"__ndarray__\":\"AAAAAAB4oEAAAAAAAKGiQAAAAAAAQKZAAAAAAACBpkAAAAAAAK6rQAAAAAAASKtAAAAAAAD0oEAAAAAAAGagQAAAAAAAv6RAAAAAAACIrUAAAAAAAFazQAAAAAAATqZA\",\"dtype\":\"float64\",\"order\":\"little\",\"shape\":[12]},\"index\":[\"1\",\"2\",\"3\",\"4\",\"5\",\"6\",\"7\",\"8\",\"9\",\"10\",\"11\",\"12\"],\"top\":{\"__ndarray__\":\"AAAAAAA8m0AAAAAAAPieQAAAAAAAaqBAAAAAAIB4okAAAAAAAHKkQAAAAAAAY6dAAAAAAABcnUAAAAAAAGWZQAAAAAAAqKFAAAAAAACEqEAAAAAAgOSvQAAAAAAAXJdA\",\"dtype\":\"float64\",\"order\":\"little\",\"shape\":[12]}},\"selected\":{\"id\":\"4711\"},\"selection_policy\":{\"id\":\"4710\"}},\"id\":\"4665\",\"type\":\"ColumnDataSource\"},{\"attributes\":{},\"id\":\"4615\",\"type\":\"BasicTickFormatter\"},{\"attributes\":{\"fill_alpha\":{\"value\":0.2},\"fill_color\":{\"value\":null},\"hatch_alpha\":{\"value\":0.2},\"line_alpha\":{\"value\":0.2},\"x\":{\"field\":\"index\"},\"y\":{\"field\":\"users\"}},\"id\":\"4621\",\"type\":\"Circle\"},{\"attributes\":{},\"id\":\"4616\",\"type\":\"AllLabels\"},{\"attributes\":{},\"id\":\"4712\",\"type\":\"UnionRenderers\"},{\"attributes\":{\"data\":{\"index\":[\"1\",\"8\"],\"users\":[488,133]},\"selected\":{\"id\":\"4699\"},\"selection_policy\":{\"id\":\"4698\"}},\"id\":\"4617\",\"type\":\"ColumnDataSource\"},{\"attributes\":{},\"id\":\"4702\",\"type\":\"UnionRenderers\"},{\"attributes\":{\"coordinates\":null,\"group\":null,\"text\":\"Monthly visitors\",\"text_color\":\"black\",\"text_font_size\":\"12pt\"},\"id\":\"4583\",\"type\":\"Title\"},{\"attributes\":{\"line_alpha\":0.1,\"line_color\":\"#30a2da\",\"line_width\":2,\"x\":{\"field\":\"month\"},\"y\":{\"field\":\"users\"}},\"id\":\"4677\",\"type\":\"Line\"},{\"attributes\":{},\"id\":\"4703\",\"type\":\"Selection\"},{\"attributes\":{\"end\":7474.4,\"reset_end\":7474.4,\"reset_start\":-534.4000000000001,\"start\":-534.4000000000001,\"tags\":[[[\"users\",\"users\",null]]]},\"id\":\"4579\",\"type\":\"Range1d\"},{\"attributes\":{\"coordinates\":null,\"data_source\":{\"id\":\"4633\"},\"glyph\":{\"id\":\"4635\"},\"group\":null,\"hover_glyph\":null,\"muted_glyph\":{\"id\":\"4637\"},\"nonselection_glyph\":{\"id\":\"4636\"},\"selection_glyph\":{\"id\":\"4640\"},\"view\":{\"id\":\"4639\"}},\"id\":\"4638\",\"type\":\"GlyphRenderer\"},{\"attributes\":{\"data\":{\"x0\":[\"1\",\"2\",\"3\",\"4\",\"5\",\"6\",\"7\",\"8\",\"9\",\"10\",\"11\",\"12\"],\"x1\":[\"1\",\"2\",\"3\",\"4\",\"5\",\"6\",\"7\",\"8\",\"9\",\"10\",\"11\",\"12\"],\"y0\":[922,1438,1482,1359,2292,2084,1338,1239,1458,2138,2324,472],\"y1\":{\"__ndarray__\":\"AAAAAAA8m0AAAAAAAPieQAAAAAAAaqBAAAAAAIB4okAAAAAAAHKkQAAAAAAAY6dAAAAAAABcnUAAAAAAAGWZQAAAAAAAqKFAAAAAAACEqEAAAAAAgOSvQAAAAAAAXJdA\",\"dtype\":\"float64\",\"order\":\"little\",\"shape\":[12]}},\"selected\":{\"id\":\"4703\"},\"selection_policy\":{\"id\":\"4702\"}},\"id\":\"4633\",\"type\":\"ColumnDataSource\"},{\"attributes\":{\"bottom\":{\"field\":\"bottom\"},\"fill_alpha\":{\"value\":1.0},\"fill_color\":{\"value\":null},\"hatch_alpha\":{\"value\":1.0},\"hatch_color\":{\"value\":\"black\"},\"hatch_scale\":{\"value\":12.0},\"hatch_weight\":{\"value\":1.0},\"line_alpha\":{\"value\":1.0},\"line_cap\":{\"value\":\"butt\"},\"line_color\":{\"value\":\"black\"},\"line_dash\":{\"value\":[]},\"line_dash_offset\":{\"value\":0},\"line_join\":{\"value\":\"bevel\"},\"line_width\":{\"value\":1},\"top\":{\"field\":\"top\"},\"width\":{\"value\":0.7},\"x\":{\"field\":\"index\"}},\"id\":\"4664\",\"type\":\"VBar\"},{\"attributes\":{\"callback\":null,\"renderers\":[{\"id\":\"4679\"},{\"id\":\"4688\"}],\"tags\":[\"hv_created\"],\"tooltips\":[[\"month\",\"@{month}\"],[\"users\",\"@{users}\"]]},\"id\":\"4580\",\"type\":\"HoverTool\"},{\"attributes\":{\"line_color\":\"#30a2da\",\"line_width\":2,\"x\":{\"field\":\"month\"},\"y\":{\"field\":\"users\"}},\"id\":\"4676\",\"type\":\"Line\"},{\"attributes\":{},\"id\":\"4714\",\"type\":\"UnionRenderers\"},{\"attributes\":{\"source\":{\"id\":\"4641\"}},\"id\":\"4647\",\"type\":\"CDSView\"},{\"attributes\":{},\"id\":\"4587\",\"type\":\"CategoricalScale\"},{\"attributes\":{\"factors\":[\"1\",\"2\",\"3\",\"4\",\"5\",\"6\",\"7\",\"8\",\"9\",\"10\",\"11\",\"12\"],\"tags\":[[[\"month\",\"month\",null]]]},\"id\":\"4578\",\"type\":\"FactorRange\"},{\"attributes\":{\"data\":{\"month\":[\"1\",\"2\",\"3\",\"4\",\"5\",\"6\",\"7\",\"8\",\"9\",\"10\",\"11\",\"12\"],\"users\":{\"__ndarray__\":\"AAAAAAB4oEAAAAAAAKGiQAAAAAAAQKZAAAAAAACBpkAAAAAAAK6rQAAAAAAASKtAAAAAAAD0oEAAAAAAAGagQAAAAAAAv6RAAAAAAACIrUAAAAAAAFazQAAAAAAATqZA\",\"dtype\":\"float64\",\"order\":\"little\",\"shape\":[12]}},\"selected\":{\"id\":\"4683\"},\"selection_policy\":{\"id\":\"4714\"}},\"id\":\"4682\",\"type\":\"ColumnDataSource\"},{\"attributes\":{\"coordinates\":null,\"data_source\":{\"id\":\"4657\"},\"glyph\":{\"id\":\"4659\"},\"group\":null,\"hover_glyph\":null,\"muted_glyph\":{\"id\":\"4661\"},\"nonselection_glyph\":{\"id\":\"4660\"},\"selection_glyph\":{\"id\":\"4664\"},\"view\":{\"id\":\"4663\"}},\"id\":\"4662\",\"type\":\"GlyphRenderer\"},{\"attributes\":{\"line_alpha\":{\"value\":0.2},\"x0\":{\"field\":\"x0\"},\"x1\":{\"field\":\"x1\"},\"y0\":{\"field\":\"y0\"},\"y1\":{\"field\":\"y1\"}},\"id\":\"4653\",\"type\":\"Segment\"},{\"attributes\":{},\"id\":\"4704\",\"type\":\"UnionRenderers\"},{\"attributes\":{\"line_alpha\":{\"value\":0.1},\"x0\":{\"field\":\"x0\"},\"x1\":{\"field\":\"x1\"},\"y0\":{\"field\":\"y0\"},\"y1\":{\"field\":\"y1\"}},\"id\":\"4636\",\"type\":\"Segment\"},{\"attributes\":{\"coordinates\":null,\"data_source\":{\"id\":\"4649\"},\"glyph\":{\"id\":\"4651\"},\"group\":null,\"hover_glyph\":null,\"muted_glyph\":{\"id\":\"4653\"},\"nonselection_glyph\":{\"id\":\"4652\"},\"selection_glyph\":{\"id\":\"4656\"},\"view\":{\"id\":\"4655\"}},\"id\":\"4654\",\"type\":\"GlyphRenderer\"},{\"attributes\":{\"source\":{\"id\":\"4665\"}},\"id\":\"4671\",\"type\":\"CDSView\"},{\"attributes\":{},\"id\":\"4705\",\"type\":\"Selection\"},{\"attributes\":{\"data\":{\"x0\":[[\"1\",-0.2],[\"2\",-0.2],[\"3\",-0.2],[\"4\",-0.2],[\"5\",-0.2],[\"6\",-0.2],[\"7\",-0.2],[\"8\",-0.2],[\"9\",-0.2],[\"10\",-0.2],[\"11\",-0.2],[\"12\",-0.2]],\"x1\":[[\"1\",0.2],[\"2\",0.2],[\"3\",0.2],[\"4\",0.2],[\"5\",0.2],[\"6\",0.2],[\"7\",0.2],[\"8\",0.2],[\"9\",0.2],[\"10\",0.2],[\"11\",0.2],[\"12\",0.2]],\"y0\":[2753,2920,3227,4022,4260,4084,3123,2547,3632,4656,6807,6671],\"y1\":[2753,2920,3227,4022,4260,4084,3123,2547,3632,4656,6807,6671]},\"selected\":{\"id\":\"4707\"},\"selection_policy\":{\"id\":\"4706\"}},\"id\":\"4649\",\"type\":\"ColumnDataSource\"},{\"attributes\":{\"line_color\":\"#30a2da\",\"line_width\":2,\"x\":{\"field\":\"month\"},\"y\":{\"field\":\"users\"}},\"id\":\"4681\",\"type\":\"Line\"},{\"attributes\":{\"line_alpha\":{\"value\":0.1},\"x0\":{\"field\":\"x0\"},\"x1\":{\"field\":\"x1\"},\"y0\":{\"field\":\"y0\"},\"y1\":{\"field\":\"y1\"}},\"id\":\"4644\",\"type\":\"Segment\"},{\"attributes\":{\"below\":[{\"id\":\"4591\"}],\"center\":[{\"id\":\"4593\"},{\"id\":\"4597\"}],\"height\":300,\"left\":[{\"id\":\"4594\"}],\"margin\":[5,5,5,5],\"min_border_bottom\":10,\"min_border_left\":10,\"min_border_right\":10,\"min_border_top\":10,\"renderers\":[{\"id\":\"4622\"},{\"id\":\"4630\"},{\"id\":\"4638\"},{\"id\":\"4646\"},{\"id\":\"4654\"},{\"id\":\"4662\"},{\"id\":\"4670\"},{\"id\":\"4679\"},{\"id\":\"4688\"}],\"sizing_mode\":\"fixed\",\"title\":{\"id\":\"4583\"},\"toolbar\":{\"id\":\"4604\"},\"x_range\":{\"id\":\"4578\"},\"x_scale\":{\"id\":\"4587\"},\"y_range\":{\"id\":\"4579\"},\"y_scale\":{\"id\":\"4589\"}},\"id\":\"4582\",\"subtype\":\"Figure\",\"type\":\"Plot\"},{\"attributes\":{\"data\":{\"x0\":[[\"1\",-0.2],[\"2\",-0.2],[\"3\",-0.2],[\"4\",-0.2],[\"5\",-0.2],[\"6\",-0.2],[\"7\",-0.2],[\"8\",-0.2],[\"9\",-0.2],[\"10\",-0.2],[\"11\",-0.2],[\"12\",-0.2]],\"x1\":[[\"1\",0.2],[\"2\",0.2],[\"3\",0.2],[\"4\",0.2],[\"5\",0.2],[\"6\",0.2],[\"7\",0.2],[\"8\",0.2],[\"9\",0.2],[\"10\",0.2],[\"11\",0.2],[\"12\",0.2]],\"y0\":[922,1438,1482,1359,2292,2084,1338,1239,1458,2138,2324,472],\"y1\":[922,1438,1482,1359,2292,2084,1338,1239,1458,2138,2324,472]},\"selected\":{\"id\":\"4705\"},\"selection_policy\":{\"id\":\"4704\"}},\"id\":\"4641\",\"type\":\"ColumnDataSource\"},{\"attributes\":{\"axis\":{\"id\":\"4591\"},\"coordinates\":null,\"grid_line_color\":null,\"group\":null,\"ticker\":null},\"id\":\"4593\",\"type\":\"Grid\"},{\"attributes\":{\"bottom\":{\"field\":\"bottom\"},\"fill_alpha\":{\"value\":0.1},\"fill_color\":{\"value\":null},\"hatch_alpha\":{\"value\":0.1},\"line_alpha\":{\"value\":0.1},\"top\":{\"field\":\"top\"},\"width\":{\"value\":0.7},\"x\":{\"field\":\"index\"}},\"id\":\"4668\",\"type\":\"VBar\"},{\"attributes\":{\"source\":{\"id\":\"4617\"}},\"id\":\"4623\",\"type\":\"CDSView\"},{\"attributes\":{\"bottom\":{\"field\":\"bottom\"},\"fill_alpha\":{\"value\":0.2},\"fill_color\":{\"value\":null},\"hatch_alpha\":{\"value\":0.2},\"line_alpha\":{\"value\":0.2},\"top\":{\"field\":\"top\"},\"width\":{\"value\":0.7},\"x\":{\"field\":\"index\"}},\"id\":\"4661\",\"type\":\"VBar\"},{\"attributes\":{},\"id\":\"4599\",\"type\":\"PanTool\"},{\"attributes\":{\"coordinates\":null,\"data_source\":{\"id\":\"4665\"},\"glyph\":{\"id\":\"4667\"},\"group\":null,\"hover_glyph\":null,\"muted_glyph\":{\"id\":\"4669\"},\"nonselection_glyph\":{\"id\":\"4668\"},\"selection_glyph\":{\"id\":\"4672\"},\"view\":{\"id\":\"4671\"}},\"id\":\"4670\",\"type\":\"GlyphRenderer\"},{\"attributes\":{\"axis_label\":\"month\",\"coordinates\":null,\"formatter\":{\"id\":\"4612\"},\"group\":null,\"major_label_policy\":{\"id\":\"4613\"},\"ticker\":{\"id\":\"4592\"}},\"id\":\"4591\",\"type\":\"CategoricalAxis\"},{\"attributes\":{\"x0\":{\"field\":\"x0\"},\"x1\":{\"field\":\"x1\"},\"y0\":{\"field\":\"y0\"},\"y1\":{\"field\":\"y1\"}},\"id\":\"4627\",\"type\":\"Segment\"},{\"attributes\":{\"source\":{\"id\":\"4657\"}},\"id\":\"4663\",\"type\":\"CDSView\"},{\"attributes\":{\"source\":{\"id\":\"4673\"}},\"id\":\"4680\",\"type\":\"CDSView\"},{\"attributes\":{},\"id\":\"4592\",\"type\":\"CategoricalTicker\"},{\"attributes\":{},\"id\":\"4589\",\"type\":\"LinearScale\"},{\"attributes\":{},\"id\":\"4706\",\"type\":\"UnionRenderers\"},{\"attributes\":{},\"id\":\"4674\",\"type\":\"Selection\"},{\"attributes\":{\"axis_label\":\"users\",\"coordinates\":null,\"formatter\":{\"id\":\"4615\"},\"group\":null,\"major_label_policy\":{\"id\":\"4616\"},\"ticker\":{\"id\":\"4595\"}},\"id\":\"4594\",\"type\":\"LinearAxis\"},{\"attributes\":{\"x0\":{\"field\":\"x0\"},\"x1\":{\"field\":\"x1\"},\"y0\":{\"field\":\"y0\"},\"y1\":{\"field\":\"y1\"}},\"id\":\"4643\",\"type\":\"Segment\"},{\"attributes\":{\"axis\":{\"id\":\"4594\"},\"coordinates\":null,\"dimension\":1,\"grid_line_color\":null,\"group\":null,\"ticker\":null},\"id\":\"4597\",\"type\":\"Grid\"},{\"attributes\":{\"bottom\":{\"field\":\"bottom\"},\"fill_alpha\":{\"value\":0.2},\"fill_color\":{\"value\":null},\"hatch_alpha\":{\"value\":0.2},\"line_alpha\":{\"value\":0.2},\"top\":{\"field\":\"top\"},\"width\":{\"value\":0.7},\"x\":{\"field\":\"index\"}},\"id\":\"4669\",\"type\":\"VBar\"},{\"attributes\":{\"bottom\":{\"field\":\"bottom\"},\"fill_alpha\":{\"value\":1.0},\"fill_color\":{\"value\":null},\"hatch_alpha\":{\"value\":1.0},\"hatch_color\":{\"value\":\"black\"},\"hatch_scale\":{\"value\":12.0},\"hatch_weight\":{\"value\":1.0},\"line_alpha\":{\"value\":1.0},\"line_cap\":{\"value\":\"butt\"},\"line_color\":{\"value\":\"black\"},\"line_dash\":{\"value\":[]},\"line_dash_offset\":{\"value\":0},\"line_join\":{\"value\":\"bevel\"},\"line_width\":{\"value\":1},\"top\":{\"field\":\"top\"},\"width\":{\"value\":0.7},\"x\":{\"field\":\"index\"}},\"id\":\"4672\",\"type\":\"VBar\"},{\"attributes\":{},\"id\":\"4595\",\"type\":\"BasicTicker\"},{\"attributes\":{},\"id\":\"4707\",\"type\":\"Selection\"},{\"attributes\":{\"angle\":{\"value\":0.0},\"fill_alpha\":{\"value\":1.0},\"fill_color\":{\"value\":null},\"hatch_alpha\":{\"value\":1.0},\"hatch_color\":{\"value\":\"black\"},\"hatch_scale\":{\"value\":12.0},\"hatch_weight\":{\"value\":1.0},\"line_alpha\":{\"value\":1.0},\"line_cap\":{\"value\":\"butt\"},\"line_color\":{\"value\":\"black\"},\"line_dash\":{\"value\":[]},\"line_dash_offset\":{\"value\":0},\"line_join\":{\"value\":\"bevel\"},\"line_width\":{\"value\":1},\"size\":{\"value\":4},\"x\":{\"field\":\"index\"},\"y\":{\"field\":\"users\"}},\"id\":\"4624\",\"type\":\"Circle\"},{\"attributes\":{},\"id\":\"4600\",\"type\":\"WheelZoomTool\"},{\"attributes\":{\"line_alpha\":{\"value\":1.0},\"line_cap\":{\"value\":\"butt\"},\"line_color\":{\"value\":\"black\"},\"line_dash\":{\"value\":[]},\"line_dash_offset\":{\"value\":0},\"line_join\":{\"value\":\"bevel\"},\"line_width\":{\"value\":1},\"x0\":{\"field\":\"x0\"},\"x1\":{\"field\":\"x1\"},\"y0\":{\"field\":\"y0\"},\"y1\":{\"field\":\"y1\"}},\"id\":\"4632\",\"type\":\"Segment\"},{\"attributes\":{\"coordinates\":null,\"data_source\":{\"id\":\"4617\"},\"glyph\":{\"id\":\"4619\"},\"group\":null,\"hover_glyph\":null,\"muted_glyph\":{\"id\":\"4621\"},\"nonselection_glyph\":{\"id\":\"4620\"},\"selection_glyph\":{\"id\":\"4624\"},\"view\":{\"id\":\"4623\"}},\"id\":\"4622\",\"type\":\"GlyphRenderer\"},{\"attributes\":{\"line_alpha\":{\"value\":1.0},\"line_cap\":{\"value\":\"butt\"},\"line_color\":{\"value\":\"black\"},\"line_dash\":{\"value\":[]},\"line_dash_offset\":{\"value\":0},\"line_join\":{\"value\":\"bevel\"},\"line_width\":{\"value\":1},\"x0\":{\"field\":\"x0\"},\"x1\":{\"field\":\"x1\"},\"y0\":{\"field\":\"y0\"},\"y1\":{\"field\":\"y1\"}},\"id\":\"4648\",\"type\":\"Segment\"},{\"attributes\":{\"fill_alpha\":{\"value\":0.2},\"fill_color\":{\"value\":\"#30a2da\"},\"hatch_alpha\":{\"value\":0.2},\"hatch_color\":{\"value\":\"#30a2da\"},\"line_alpha\":{\"value\":0.2},\"line_color\":{\"value\":\"#30a2da\"},\"size\":{\"value\":5.477225575051661},\"x\":{\"field\":\"month\"},\"y\":{\"field\":\"users\"}},\"id\":\"4687\",\"type\":\"Scatter\"},{\"attributes\":{},\"id\":\"4598\",\"type\":\"SaveTool\"},{\"attributes\":{\"overlay\":{\"id\":\"4603\"}},\"id\":\"4601\",\"type\":\"BoxZoomTool\"},{\"attributes\":{},\"id\":\"4602\",\"type\":\"ResetTool\"},{\"attributes\":{\"coordinates\":null,\"data_source\":{\"id\":\"4641\"},\"glyph\":{\"id\":\"4643\"},\"group\":null,\"hover_glyph\":null,\"muted_glyph\":{\"id\":\"4645\"},\"nonselection_glyph\":{\"id\":\"4644\"},\"selection_glyph\":{\"id\":\"4648\"},\"view\":{\"id\":\"4647\"}},\"id\":\"4646\",\"type\":\"GlyphRenderer\"},{\"attributes\":{\"x0\":{\"field\":\"x0\"},\"x1\":{\"field\":\"x1\"},\"y0\":{\"field\":\"y0\"},\"y1\":{\"field\":\"y1\"}},\"id\":\"4635\",\"type\":\"Segment\"},{\"attributes\":{\"coordinates\":null,\"data_source\":{\"id\":\"4682\"},\"glyph\":{\"id\":\"4685\"},\"group\":null,\"hover_glyph\":null,\"muted_glyph\":{\"id\":\"4687\"},\"nonselection_glyph\":{\"id\":\"4686\"},\"selection_glyph\":{\"id\":\"4690\"},\"view\":{\"id\":\"4689\"}},\"id\":\"4688\",\"type\":\"GlyphRenderer\"},{\"attributes\":{},\"id\":\"4708\",\"type\":\"UnionRenderers\"},{\"attributes\":{\"line_alpha\":{\"value\":0.2},\"x0\":{\"field\":\"x0\"},\"x1\":{\"field\":\"x1\"},\"y0\":{\"field\":\"y0\"},\"y1\":{\"field\":\"y1\"}},\"id\":\"4629\",\"type\":\"Segment\"},{\"attributes\":{\"fill_alpha\":{\"value\":0.1},\"fill_color\":{\"value\":\"#30a2da\"},\"hatch_alpha\":{\"value\":0.1},\"hatch_color\":{\"value\":\"#30a2da\"},\"line_alpha\":{\"value\":0.1},\"line_color\":{\"value\":\"#30a2da\"},\"size\":{\"value\":5.477225575051661},\"x\":{\"field\":\"month\"},\"y\":{\"field\":\"users\"}},\"id\":\"4686\",\"type\":\"Scatter\"},{\"attributes\":{},\"id\":\"4683\",\"type\":\"Selection\"},{\"attributes\":{\"fill_color\":{\"value\":\"#30a2da\"},\"hatch_color\":{\"value\":\"#30a2da\"},\"line_color\":{\"value\":\"#30a2da\"},\"size\":{\"value\":5.477225575051661},\"x\":{\"field\":\"month\"},\"y\":{\"field\":\"users\"}},\"id\":\"4685\",\"type\":\"Scatter\"},{\"attributes\":{},\"id\":\"4709\",\"type\":\"Selection\"},{\"attributes\":{\"source\":{\"id\":\"4625\"}},\"id\":\"4631\",\"type\":\"CDSView\"},{\"attributes\":{\"source\":{\"id\":\"4682\"}},\"id\":\"4689\",\"type\":\"CDSView\"},{\"attributes\":{\"coordinates\":null,\"data_source\":{\"id\":\"4625\"},\"glyph\":{\"id\":\"4627\"},\"group\":null,\"hover_glyph\":null,\"muted_glyph\":{\"id\":\"4629\"},\"nonselection_glyph\":{\"id\":\"4628\"},\"selection_glyph\":{\"id\":\"4632\"},\"view\":{\"id\":\"4631\"}},\"id\":\"4630\",\"type\":\"GlyphRenderer\"},{\"attributes\":{},\"id\":\"4698\",\"type\":\"UnionRenderers\"},{\"attributes\":{\"x0\":{\"field\":\"x0\"},\"x1\":{\"field\":\"x1\"},\"y0\":{\"field\":\"y0\"},\"y1\":{\"field\":\"y1\"}},\"id\":\"4651\",\"type\":\"Segment\"},{\"attributes\":{\"line_alpha\":{\"value\":0.1},\"x0\":{\"field\":\"x0\"},\"x1\":{\"field\":\"x1\"},\"y0\":{\"field\":\"y0\"},\"y1\":{\"field\":\"y1\"}},\"id\":\"4628\",\"type\":\"Segment\"},{\"attributes\":{\"data\":{\"bottom\":{\"__ndarray__\":\"AAAAAAAWpEAAAAAAAAikQAAAAAAAcKhAAAAAAADjq0AAAAAAAEuuQAAAAACAKq5AAAAAAAA9o0AAAAAAAHyhQAAAAAAAHqdAAAAAAICFsEAAAAAAgJi1QAAAAAAAxa5A\",\"dtype\":\"float64\",\"order\":\"little\",\"shape\":[12]},\"index\":[\"1\",\"2\",\"3\",\"4\",\"5\",\"6\",\"7\",\"8\",\"9\",\"10\",\"11\",\"12\"],\"top\":{\"__ndarray__\":\"AAAAAAB4oEAAAAAAAKGiQAAAAAAAQKZAAAAAAACBpkAAAAAAAK6rQAAAAAAASKtAAAAAAAD0oEAAAAAAAGagQAAAAAAAv6RAAAAAAACIrUAAAAAAAFazQAAAAAAATqZA\",\"dtype\":\"float64\",\"order\":\"little\",\"shape\":[12]}},\"selected\":{\"id\":\"4709\"},\"selection_policy\":{\"id\":\"4708\"}},\"id\":\"4657\",\"type\":\"ColumnDataSource\"},{\"attributes\":{},\"id\":\"4699\",\"type\":\"Selection\"}],\"root_ids\":[\"4576\"]},\"title\":\"Bokeh Application\",\"version\":\"2.4.3\"}};\n",
       "    var render_items = [{\"docid\":\"0ba3d8fc-5c7d-4780-90c7-46d34b2e0e55\",\"root_ids\":[\"4576\"],\"roots\":{\"4576\":\"b3d111e0-74d1-4cb8-8f83-81489a20a0b5\"}}];\n",
       "    root.Bokeh.embed.embed_items_notebook(docs_json, render_items);\n",
       "  }\n",
       "  if (root.Bokeh !== undefined && root.Bokeh.Panel !== undefined) {\n",
       "    embed_document(root);\n",
       "  } else {\n",
       "    var attempts = 0;\n",
       "    var timer = setInterval(function(root) {\n",
       "      if (root.Bokeh !== undefined && root.Bokeh.Panel !== undefined) {\n",
       "        clearInterval(timer);\n",
       "        embed_document(root);\n",
       "      } else if (document.readyState == \"complete\") {\n",
       "        attempts++;\n",
       "        if (attempts > 200) {\n",
       "          clearInterval(timer);\n",
       "          console.log(\"Bokeh: ERROR: Unable to run BokehJS code because BokehJS library is missing\");\n",
       "        }\n",
       "      }\n",
       "    }, 25, root)\n",
       "  }\n",
       "})(window);</script>"
      ],
      "text/plain": [
       ":Overlay\n",
       "   .BoxWhisker.I  :BoxWhisker   [month]   (users)\n",
       "   .Curve.Users   :Curve   [month]   (users)\n",
       "   .Scatter.Users :Scatter   [month]   (users)"
      ]
     },
     "execution_count": 61,
     "metadata": {
      "application/vnd.holoviews_exec.v0+json": {
       "id": "4576"
      }
     },
     "output_type": "execute_result"
    }
   ],
   "source": [
    "# Static plot\n",
    "# ==============================================================================\n",
    "# fig, ax = plt.subplots(figsize=(7, 3.5))\n",
    "# data['month'] = data.index.month\n",
    "# data.boxplot(column='users', by='month', ax=ax,)\n",
    "# data.groupby('month')['users'].median().plot(style='o-', linewidth=0.8, ax=ax)\n",
    "# ax.set_ylabel('users')\n",
    "# ax.set_title('Monthly visitors')\n",
    "# fig.suptitle('');\n",
    "\n",
    "# Interactive plot\n",
    "# ==============================================================================\n",
    "data['month'] = data.index.month\n",
    "boxplot  = data.sort_values('month').hvplot.box(\n",
    "               y                  = 'users',\n",
    "               by                 = 'month',\n",
    "               legend             = False,\n",
    "               box_fill_color     = None,\n",
    "               outlier_fill_color = None\n",
    "            )\n",
    "lineplot = data.groupby('month')['users'].median().hvplot.line(legend=False)\n",
    "scatterplot = data.groupby('month')['users'].median().hvplot.scatter(legend=False)\n",
    "layout = boxplot * lineplot * scatterplot\n",
    "layout = layout.opts(title='Monthly visitors', ylabel='users', width=600)\n",
    "layout"
   ]
  },
  {
   "cell_type": "code",
   "execution_count": 62,
   "metadata": {},
   "outputs": [
    {
     "data": {},
     "metadata": {},
     "output_type": "display_data"
    },
    {
     "data": {
      "application/vnd.holoviews_exec.v0+json": "",
      "text/html": [
       "<div id='4849'>\n",
       "  <div class=\"bk-root\" id=\"329e1115-770b-413a-9f96-da868052a5b9\" data-root-id=\"4849\"></div>\n",
       "</div>\n",
       "<script type=\"application/javascript\">(function(root) {\n",
       "  function embed_document(root) {\n",
       "    var docs_json = {\"149ce2fe-2eff-4c34-b119-bd092b3cc41d\":{\"defs\":[{\"extends\":null,\"module\":null,\"name\":\"ReactiveHTML1\",\"overrides\":[],\"properties\":[]},{\"extends\":null,\"module\":null,\"name\":\"FlexBox1\",\"overrides\":[],\"properties\":[{\"default\":\"flex-start\",\"kind\":null,\"name\":\"align_content\"},{\"default\":\"flex-start\",\"kind\":null,\"name\":\"align_items\"},{\"default\":\"row\",\"kind\":null,\"name\":\"flex_direction\"},{\"default\":\"wrap\",\"kind\":null,\"name\":\"flex_wrap\"},{\"default\":\"flex-start\",\"kind\":null,\"name\":\"justify_content\"}]},{\"extends\":null,\"module\":null,\"name\":\"GridStack1\",\"overrides\":[],\"properties\":[{\"default\":\"warn\",\"kind\":null,\"name\":\"mode\"},{\"default\":null,\"kind\":null,\"name\":\"ncols\"},{\"default\":null,\"kind\":null,\"name\":\"nrows\"},{\"default\":true,\"kind\":null,\"name\":\"allow_resize\"},{\"default\":true,\"kind\":null,\"name\":\"allow_drag\"},{\"default\":[],\"kind\":null,\"name\":\"state\"}]},{\"extends\":null,\"module\":null,\"name\":\"click1\",\"overrides\":[],\"properties\":[{\"default\":\"\",\"kind\":null,\"name\":\"terminal_output\"},{\"default\":\"\",\"kind\":null,\"name\":\"debug_name\"},{\"default\":0,\"kind\":null,\"name\":\"clears\"}]},{\"extends\":null,\"module\":null,\"name\":\"NotificationAreaBase1\",\"overrides\":[],\"properties\":[{\"default\":\"bottom-right\",\"kind\":null,\"name\":\"position\"},{\"default\":0,\"kind\":null,\"name\":\"_clear\"}]},{\"extends\":null,\"module\":null,\"name\":\"NotificationArea1\",\"overrides\":[],\"properties\":[{\"default\":[],\"kind\":null,\"name\":\"notifications\"},{\"default\":\"bottom-right\",\"kind\":null,\"name\":\"position\"},{\"default\":0,\"kind\":null,\"name\":\"_clear\"},{\"default\":[{\"background\":\"#ffc107\",\"icon\":{\"className\":\"fas fa-exclamation-triangle\",\"color\":\"white\",\"tagName\":\"i\"},\"type\":\"warning\"},{\"background\":\"#007bff\",\"icon\":{\"className\":\"fas fa-info-circle\",\"color\":\"white\",\"tagName\":\"i\"},\"type\":\"info\"}],\"kind\":null,\"name\":\"types\"}]},{\"extends\":null,\"module\":null,\"name\":\"Notification\",\"overrides\":[],\"properties\":[{\"default\":null,\"kind\":null,\"name\":\"background\"},{\"default\":3000,\"kind\":null,\"name\":\"duration\"},{\"default\":null,\"kind\":null,\"name\":\"icon\"},{\"default\":\"\",\"kind\":null,\"name\":\"message\"},{\"default\":null,\"kind\":null,\"name\":\"notification_type\"},{\"default\":false,\"kind\":null,\"name\":\"_destroyed\"}]},{\"extends\":null,\"module\":null,\"name\":\"TemplateActions1\",\"overrides\":[],\"properties\":[{\"default\":0,\"kind\":null,\"name\":\"open_modal\"},{\"default\":0,\"kind\":null,\"name\":\"close_modal\"}]},{\"extends\":null,\"module\":null,\"name\":\"MaterialTemplateActions1\",\"overrides\":[],\"properties\":[{\"default\":0,\"kind\":null,\"name\":\"open_modal\"},{\"default\":0,\"kind\":null,\"name\":\"close_modal\"}]}],\"roots\":{\"references\":[{\"attributes\":{\"bottom\":{\"field\":\"bottom\"},\"fill_alpha\":{\"value\":1.0},\"fill_color\":{\"value\":null},\"hatch_alpha\":{\"value\":1.0},\"hatch_color\":{\"value\":\"black\"},\"hatch_scale\":{\"value\":12.0},\"hatch_weight\":{\"value\":1.0},\"line_alpha\":{\"value\":1.0},\"line_cap\":{\"value\":\"butt\"},\"line_color\":{\"value\":\"black\"},\"line_dash\":{\"value\":[]},\"line_dash_offset\":{\"value\":0},\"line_join\":{\"value\":\"bevel\"},\"line_width\":{\"value\":1},\"top\":{\"field\":\"top\"},\"width\":{\"value\":0.7},\"x\":{\"field\":\"index\"}},\"id\":\"4945\",\"type\":\"VBar\"},{\"attributes\":{\"line_alpha\":{\"value\":1.0},\"line_cap\":{\"value\":\"butt\"},\"line_color\":{\"value\":\"black\"},\"line_dash\":{\"value\":[]},\"line_dash_offset\":{\"value\":0},\"line_join\":{\"value\":\"bevel\"},\"line_width\":{\"value\":1},\"x0\":{\"field\":\"x0\"},\"x1\":{\"field\":\"x1\"},\"y0\":{\"field\":\"y0\"},\"y1\":{\"field\":\"y1\"}},\"id\":\"4913\",\"type\":\"Segment\"},{\"attributes\":{},\"id\":\"4885\",\"type\":\"CategoricalTickFormatter\"},{\"attributes\":{\"x0\":{\"field\":\"x0\"},\"x1\":{\"field\":\"x1\"},\"y0\":{\"field\":\"y0\"},\"y1\":{\"field\":\"y1\"}},\"id\":\"4900\",\"type\":\"Segment\"},{\"attributes\":{},\"id\":\"4980\",\"type\":\"Selection\"},{\"attributes\":{},\"id\":\"4947\",\"type\":\"Selection\"},{\"attributes\":{\"line_alpha\":{\"value\":0.2},\"x0\":{\"field\":\"x0\"},\"x1\":{\"field\":\"x1\"},\"y0\":{\"field\":\"y0\"},\"y1\":{\"field\":\"y1\"}},\"id\":\"4910\",\"type\":\"Segment\"},{\"attributes\":{\"line_color\":\"#30a2da\",\"line_width\":2,\"x\":{\"field\":\"month_day\"},\"y\":{\"field\":\"users\"}},\"id\":\"4949\",\"type\":\"Line\"},{\"attributes\":{\"data\":{\"x0\":[[\"1\",-0.2],[\"2\",-0.2],[\"3\",-0.2],[\"4\",-0.2],[\"5\",-0.2],[\"6\",-0.2],[\"7\",-0.2],[\"8\",-0.2],[\"9\",-0.2],[\"10\",-0.2],[\"11\",-0.2],[\"12\",-0.2],[\"13\",-0.2],[\"14\",-0.2],[\"15\",-0.2],[\"16\",-0.2],[\"17\",-0.2],[\"18\",-0.2],[\"19\",-0.2],[\"20\",-0.2],[\"21\",-0.2],[\"22\",-0.2],[\"23\",-0.2],[\"24\",-0.2],[\"25\",-0.2],[\"26\",-0.2],[\"27\",-0.2],[\"28\",-0.2],[\"29\",-0.2],[\"30\",-0.2],[\"31\",-0.2]],\"x1\":[[\"1\",0.2],[\"2\",0.2],[\"3\",0.2],[\"4\",0.2],[\"5\",0.2],[\"6\",0.2],[\"7\",0.2],[\"8\",0.2],[\"9\",0.2],[\"10\",0.2],[\"11\",0.2],[\"12\",0.2],[\"13\",0.2],[\"14\",0.2],[\"15\",0.2],[\"16\",0.2],[\"17\",0.2],[\"18\",0.2],[\"19\",0.2],[\"20\",0.2],[\"21\",0.2],[\"22\",0.2],[\"23\",0.2],[\"24\",0.2],[\"25\",0.2],[\"26\",0.2],[\"27\",0.2],[\"28\",0.2],[\"29\",0.2],[\"30\",0.2],[\"31\",0.2]],\"y0\":[133,922,1144,1359,1433,1458,1406,1239,1477,1569,1462,1391,1652,1438,1308,1384,1730,1434,1401,1558,1546,1393,1411,886,1415,863,987,1432,1390,1278,785],\"y1\":[133,922,1144,1359,1433,1458,1406,1239,1477,1569,1462,1391,1652,1438,1308,1384,1730,1434,1401,1558,1546,1393,1411,886,1415,863,987,1432,1390,1278,785]},\"selected\":{\"id\":\"4978\"},\"selection_policy\":{\"id\":\"4977\"}},\"id\":\"4914\",\"type\":\"ColumnDataSource\"},{\"attributes\":{\"line_alpha\":0.1,\"line_color\":\"#30a2da\",\"line_width\":2,\"x\":{\"field\":\"month_day\"},\"y\":{\"field\":\"users\"}},\"id\":\"4950\",\"type\":\"Line\"},{\"attributes\":{},\"id\":\"4971\",\"type\":\"UnionRenderers\"},{\"attributes\":{\"angle\":{\"value\":0.0},\"fill_alpha\":{\"value\":1.0},\"fill_color\":{\"value\":\"#30a2da\"},\"hatch_alpha\":{\"value\":1.0},\"hatch_color\":{\"value\":\"#30a2da\"},\"hatch_scale\":{\"value\":12.0},\"hatch_weight\":{\"value\":1.0},\"line_alpha\":{\"value\":1.0},\"line_cap\":{\"value\":\"butt\"},\"line_color\":{\"value\":\"#30a2da\"},\"line_dash\":{\"value\":[]},\"line_dash_offset\":{\"value\":0},\"line_join\":{\"value\":\"bevel\"},\"line_width\":{\"value\":1},\"marker\":{\"value\":\"circle\"},\"size\":{\"value\":5.477225575051661},\"x\":{\"field\":\"month_day\"},\"y\":{\"field\":\"users\"}},\"id\":\"4963\",\"type\":\"Scatter\"},{\"attributes\":{\"fill_alpha\":{\"value\":0.1},\"fill_color\":{\"value\":null},\"hatch_alpha\":{\"value\":0.1},\"line_alpha\":{\"value\":0.1},\"x\":{\"field\":\"index\"},\"y\":{\"field\":\"users\"}},\"id\":\"4893\",\"type\":\"Circle\"},{\"attributes\":{\"bottom\":{\"field\":\"bottom\"},\"fill_alpha\":{\"value\":0.1},\"fill_color\":{\"value\":null},\"hatch_alpha\":{\"value\":0.1},\"line_alpha\":{\"value\":0.1},\"top\":{\"field\":\"top\"},\"width\":{\"value\":0.7},\"x\":{\"field\":\"index\"}},\"id\":\"4933\",\"type\":\"VBar\"},{\"attributes\":{},\"id\":\"4886\",\"type\":\"AllLabels\"},{\"attributes\":{},\"id\":\"4977\",\"type\":\"UnionRenderers\"},{\"attributes\":{},\"id\":\"4888\",\"type\":\"BasicTickFormatter\"},{\"attributes\":{\"margin\":[5,5,5,5],\"name\":\"HSpacer07253\",\"sizing_mode\":\"stretch_width\"},\"id\":\"4990\",\"type\":\"Spacer\"},{\"attributes\":{\"bottom\":{\"field\":\"bottom\"},\"fill_alpha\":{\"value\":0.2},\"fill_color\":{\"value\":null},\"hatch_alpha\":{\"value\":0.2},\"line_alpha\":{\"value\":0.2},\"top\":{\"field\":\"top\"},\"width\":{\"value\":0.7},\"x\":{\"field\":\"index\"}},\"id\":\"4934\",\"type\":\"VBar\"},{\"attributes\":{},\"id\":\"4981\",\"type\":\"UnionRenderers\"},{\"attributes\":{\"coordinates\":null,\"data_source\":{\"id\":\"4955\"},\"glyph\":{\"id\":\"4958\"},\"group\":null,\"hover_glyph\":null,\"muted_glyph\":{\"id\":\"4960\"},\"nonselection_glyph\":{\"id\":\"4959\"},\"selection_glyph\":{\"id\":\"4963\"},\"view\":{\"id\":\"4962\"}},\"id\":\"4961\",\"type\":\"GlyphRenderer\"},{\"attributes\":{\"coordinates\":null,\"data_source\":{\"id\":\"4938\"},\"glyph\":{\"id\":\"4940\"},\"group\":null,\"hover_glyph\":null,\"muted_glyph\":{\"id\":\"4942\"},\"nonselection_glyph\":{\"id\":\"4941\"},\"selection_glyph\":{\"id\":\"4945\"},\"view\":{\"id\":\"4944\"}},\"id\":\"4943\",\"type\":\"GlyphRenderer\"},{\"attributes\":{},\"id\":\"4889\",\"type\":\"AllLabels\"},{\"attributes\":{\"line_alpha\":{\"value\":0.1},\"x0\":{\"field\":\"x0\"},\"x1\":{\"field\":\"x1\"},\"y0\":{\"field\":\"y0\"},\"y1\":{\"field\":\"y1\"}},\"id\":\"4901\",\"type\":\"Segment\"},{\"attributes\":{\"source\":{\"id\":\"4898\"}},\"id\":\"4904\",\"type\":\"CDSView\"},{\"attributes\":{},\"id\":\"4972\",\"type\":\"Selection\"},{\"attributes\":{\"fill_color\":{\"value\":null},\"x\":{\"field\":\"index\"},\"y\":{\"field\":\"users\"}},\"id\":\"4892\",\"type\":\"Circle\"},{\"attributes\":{},\"id\":\"4983\",\"type\":\"UnionRenderers\"},{\"attributes\":{\"coordinates\":null,\"data_source\":{\"id\":\"4922\"},\"glyph\":{\"id\":\"4924\"},\"group\":null,\"hover_glyph\":null,\"muted_glyph\":{\"id\":\"4926\"},\"nonselection_glyph\":{\"id\":\"4925\"},\"selection_glyph\":{\"id\":\"4929\"},\"view\":{\"id\":\"4928\"}},\"id\":\"4927\",\"type\":\"GlyphRenderer\"},{\"attributes\":{\"coordinates\":null,\"data_source\":{\"id\":\"4930\"},\"glyph\":{\"id\":\"4932\"},\"group\":null,\"hover_glyph\":null,\"muted_glyph\":{\"id\":\"4934\"},\"nonselection_glyph\":{\"id\":\"4933\"},\"selection_glyph\":{\"id\":\"4937\"},\"view\":{\"id\":\"4936\"}},\"id\":\"4935\",\"type\":\"GlyphRenderer\"},{\"attributes\":{},\"id\":\"4978\",\"type\":\"Selection\"},{\"attributes\":{\"source\":{\"id\":\"4890\"}},\"id\":\"4896\",\"type\":\"CDSView\"},{\"attributes\":{},\"id\":\"4982\",\"type\":\"Selection\"},{\"attributes\":{},\"id\":\"4984\",\"type\":\"Selection\"},{\"attributes\":{\"line_alpha\":{\"value\":0.1},\"x0\":{\"field\":\"x0\"},\"x1\":{\"field\":\"x1\"},\"y0\":{\"field\":\"y0\"},\"y1\":{\"field\":\"y1\"}},\"id\":\"4909\",\"type\":\"Segment\"},{\"attributes\":{},\"id\":\"4979\",\"type\":\"UnionRenderers\"},{\"attributes\":{\"x0\":{\"field\":\"x0\"},\"x1\":{\"field\":\"x1\"},\"y0\":{\"field\":\"y0\"},\"y1\":{\"field\":\"y1\"}},\"id\":\"4908\",\"type\":\"Segment\"},{\"attributes\":{\"fill_alpha\":{\"value\":0.2},\"fill_color\":{\"value\":null},\"hatch_alpha\":{\"value\":0.2},\"line_alpha\":{\"value\":0.2},\"x\":{\"field\":\"index\"},\"y\":{\"field\":\"users\"}},\"id\":\"4894\",\"type\":\"Circle\"},{\"attributes\":{},\"id\":\"4985\",\"type\":\"UnionRenderers\"},{\"attributes\":{\"line_alpha\":{\"value\":0.1},\"x0\":{\"field\":\"x0\"},\"x1\":{\"field\":\"x1\"},\"y0\":{\"field\":\"y0\"},\"y1\":{\"field\":\"y1\"}},\"id\":\"4925\",\"type\":\"Segment\"},{\"attributes\":{\"data\":{\"month_day\":[\"1\",\"2\",\"3\",\"4\",\"5\",\"6\",\"7\",\"8\",\"9\",\"10\",\"11\",\"12\",\"13\",\"14\",\"15\",\"16\",\"17\",\"18\",\"19\",\"20\",\"21\",\"22\",\"23\",\"24\",\"25\",\"26\",\"27\",\"28\",\"29\",\"30\",\"31\"],\"users\":{\"__ndarray__\":\"AAAAAAAookAAAAAAAI6jQAAAAAAAu6NAAAAAAACookAAAAAAAO2jQAAAAAAAW6JAAAAAAACto0AAAAAAALGkQAAAAAAAMqVAAAAAAADPpEAAAAAAABCjQAAAAAAAsqRAAAAAAADRokAAAAAAABWmQAAAAAAAL6VAAAAAAAAto0AAAAAAAOOkQAAAAAAAP6RAAAAAAADVo0AAAAAAAKahQAAAAAAAHqRAAAAAAAD1o0AAAAAAAGilQAAAAAAAkKVAAAAAAAADpUAAAAAAADSkQAAAAAAAqKBAAAAAAACgpEAAAAAAAF6lQAAAAAAA+KJAAAAAAABCoEA=\",\"dtype\":\"float64\",\"order\":\"little\",\"shape\":[31]}},\"selected\":{\"id\":\"4947\"},\"selection_policy\":{\"id\":\"4985\"}},\"id\":\"4946\",\"type\":\"ColumnDataSource\"},{\"attributes\":{\"bottom\":{\"field\":\"bottom\"},\"fill_alpha\":{\"value\":0.2},\"fill_color\":{\"value\":null},\"hatch_alpha\":{\"value\":0.2},\"line_alpha\":{\"value\":0.2},\"top\":{\"field\":\"top\"},\"width\":{\"value\":0.7},\"x\":{\"field\":\"index\"}},\"id\":\"4942\",\"type\":\"VBar\"},{\"attributes\":{\"source\":{\"id\":\"4938\"}},\"id\":\"4944\",\"type\":\"CDSView\"},{\"attributes\":{\"data\":{\"x0\":[\"1\",\"2\",\"3\",\"4\",\"5\",\"6\",\"7\",\"8\",\"9\",\"10\",\"11\",\"12\",\"13\",\"14\",\"15\",\"16\",\"17\",\"18\",\"19\",\"20\",\"21\",\"22\",\"23\",\"24\",\"25\",\"26\",\"27\",\"28\",\"29\",\"30\",\"31\"],\"x1\":[\"1\",\"2\",\"3\",\"4\",\"5\",\"6\",\"7\",\"8\",\"9\",\"10\",\"11\",\"12\",\"13\",\"14\",\"15\",\"16\",\"17\",\"18\",\"19\",\"20\",\"21\",\"22\",\"23\",\"24\",\"25\",\"26\",\"27\",\"28\",\"29\",\"30\",\"31\"],\"y0\":[133,922,1144,1359,1433,1458,1406,1239,1477,1569,1462,1391,1652,1438,1308,1384,1730,1434,1401,1558,1546,1393,1411,886,1415,863,987,1432,1390,1278,785],\"y1\":{\"__ndarray__\":\"AAAAAACVmkAAAAAAgN+gQAAAAAAAYaBAAAAAAACqnUAAAAAAAGehQAAAAAAAe59AAAAAAABMn0AAAAAAgB2iQAAAAAAAR6JAAAAAAICeoEAAAAAAAHGhQAAAAAAALqJAAAAAAICyoEAAAAAAgAihQAAAAACAfaFAAAAAAIA0oUAAAAAAAKWgQAAAAAAAgKJAAAAAAABKoUAAAAAAAP2fQAAAAAAA0p5AAAAAAAAFokAAAAAAgF6hQAAAAAAAYp9AAAAAAAAuoUAAAAAAAM6iQAAAAAAA4J9AAAAAAABYoEAAAAAAAOqgQAAAAAAAiJ9AAAAAAAAzmkA=\",\"dtype\":\"float64\",\"order\":\"little\",\"shape\":[31]}},\"selected\":{\"id\":\"4976\"},\"selection_policy\":{\"id\":\"4975\"}},\"id\":\"4906\",\"type\":\"ColumnDataSource\"},{\"attributes\":{},\"id\":\"4860\",\"type\":\"CategoricalScale\"},{\"attributes\":{\"coordinates\":null,\"data_source\":{\"id\":\"4898\"},\"glyph\":{\"id\":\"4900\"},\"group\":null,\"hover_glyph\":null,\"muted_glyph\":{\"id\":\"4902\"},\"nonselection_glyph\":{\"id\":\"4901\"},\"selection_glyph\":{\"id\":\"4905\"},\"view\":{\"id\":\"4904\"}},\"id\":\"4903\",\"type\":\"GlyphRenderer\"},{\"attributes\":{\"line_color\":\"#30a2da\",\"line_width\":2,\"x\":{\"field\":\"month_day\"},\"y\":{\"field\":\"users\"}},\"id\":\"4954\",\"type\":\"Line\"},{\"attributes\":{},\"id\":\"4976\",\"type\":\"Selection\"},{\"attributes\":{\"line_alpha\":{\"value\":0.2},\"x0\":{\"field\":\"x0\"},\"x1\":{\"field\":\"x1\"},\"y0\":{\"field\":\"y0\"},\"y1\":{\"field\":\"y1\"}},\"id\":\"4902\",\"type\":\"Segment\"},{\"attributes\":{\"end\":7474.4,\"reset_end\":7474.4,\"reset_start\":-534.4000000000001,\"start\":-534.4000000000001,\"tags\":[[[\"users\",\"users\",null]]]},\"id\":\"4852\",\"type\":\"Range1d\"},{\"attributes\":{\"coordinates\":null,\"data_source\":{\"id\":\"4946\"},\"glyph\":{\"id\":\"4949\"},\"group\":null,\"hover_glyph\":null,\"muted_glyph\":{\"id\":\"4951\"},\"nonselection_glyph\":{\"id\":\"4950\"},\"selection_glyph\":{\"id\":\"4954\"},\"view\":{\"id\":\"4953\"}},\"id\":\"4952\",\"type\":\"GlyphRenderer\"},{\"attributes\":{\"x0\":{\"field\":\"x0\"},\"x1\":{\"field\":\"x1\"},\"y0\":{\"field\":\"y0\"},\"y1\":{\"field\":\"y1\"}},\"id\":\"4924\",\"type\":\"Segment\"},{\"attributes\":{\"data\":{\"bottom\":{\"__ndarray__\":\"AAAAAIB1p0AAAAAAADCpQAAAAAAAeKtAAAAAAACcqkAAAAAAAO6oQAAAAAAAGqdAAAAAAACKq0AAAAAAgGOoQAAAAAAA3apAAAAAAACeqUAAAAAAAJSrQAAAAACAF6dAAAAAAIBNqEAAAAAAAKerQAAAAAAAi6lAAAAAAIAsq0AAAAAAgNWoQAAAAAAAwadAAAAAAICvqkAAAAAAAGKqQAAAAAAASqtAAAAAAICeq0AAAAAAgKarQAAAAAAA4KhAAAAAAICkqEAAAAAAAAKsQAAAAAAAbK9AAAAAAADUrEAAAAAAgBCsQAAAAAAAsqpAAAAAAIABo0A=\",\"dtype\":\"float64\",\"order\":\"little\",\"shape\":[31]},\"index\":[\"1\",\"2\",\"3\",\"4\",\"5\",\"6\",\"7\",\"8\",\"9\",\"10\",\"11\",\"12\",\"13\",\"14\",\"15\",\"16\",\"17\",\"18\",\"19\",\"20\",\"21\",\"22\",\"23\",\"24\",\"25\",\"26\",\"27\",\"28\",\"29\",\"30\",\"31\"],\"top\":{\"__ndarray__\":\"AAAAAAAookAAAAAAAI6jQAAAAAAAu6NAAAAAAACookAAAAAAAO2jQAAAAAAAW6JAAAAAAACto0AAAAAAALGkQAAAAAAAMqVAAAAAAADPpEAAAAAAABCjQAAAAAAAsqRAAAAAAADRokAAAAAAABWmQAAAAAAAL6VAAAAAAAAto0AAAAAAAOOkQAAAAAAAP6RAAAAAAADVo0AAAAAAAKahQAAAAAAAHqRAAAAAAAD1o0AAAAAAAGilQAAAAAAAkKVAAAAAAAADpUAAAAAAADSkQAAAAAAAqKBAAAAAAACgpEAAAAAAAF6lQAAAAAAA+KJAAAAAAABCoEA=\",\"dtype\":\"float64\",\"order\":\"little\",\"shape\":[31]}},\"selected\":{\"id\":\"4982\"},\"selection_policy\":{\"id\":\"4981\"}},\"id\":\"4930\",\"type\":\"ColumnDataSource\"},{\"attributes\":{\"source\":{\"id\":\"4922\"}},\"id\":\"4928\",\"type\":\"CDSView\"},{\"attributes\":{\"bottom\":{\"field\":\"bottom\"},\"fill_alpha\":{\"value\":1.0},\"fill_color\":{\"value\":null},\"hatch_alpha\":{\"value\":1.0},\"hatch_color\":{\"value\":\"black\"},\"hatch_scale\":{\"value\":12.0},\"hatch_weight\":{\"value\":1.0},\"line_alpha\":{\"value\":1.0},\"line_cap\":{\"value\":\"butt\"},\"line_color\":{\"value\":\"black\"},\"line_dash\":{\"value\":[]},\"line_dash_offset\":{\"value\":0},\"line_join\":{\"value\":\"bevel\"},\"line_width\":{\"value\":1},\"top\":{\"field\":\"top\"},\"width\":{\"value\":0.7},\"x\":{\"field\":\"index\"}},\"id\":\"4937\",\"type\":\"VBar\"},{\"attributes\":{\"data\":{\"month_day\":[\"1\",\"2\",\"3\",\"4\",\"5\",\"6\",\"7\",\"8\",\"9\",\"10\",\"11\",\"12\",\"13\",\"14\",\"15\",\"16\",\"17\",\"18\",\"19\",\"20\",\"21\",\"22\",\"23\",\"24\",\"25\",\"26\",\"27\",\"28\",\"29\",\"30\",\"31\"],\"users\":{\"__ndarray__\":\"AAAAAAAookAAAAAAAI6jQAAAAAAAu6NAAAAAAACookAAAAAAAO2jQAAAAAAAW6JAAAAAAACto0AAAAAAALGkQAAAAAAAMqVAAAAAAADPpEAAAAAAABCjQAAAAAAAsqRAAAAAAADRokAAAAAAABWmQAAAAAAAL6VAAAAAAAAto0AAAAAAAOOkQAAAAAAAP6RAAAAAAADVo0AAAAAAAKahQAAAAAAAHqRAAAAAAAD1o0AAAAAAAGilQAAAAAAAkKVAAAAAAAADpUAAAAAAADSkQAAAAAAAqKBAAAAAAACgpEAAAAAAAF6lQAAAAAAA+KJAAAAAAABCoEA=\",\"dtype\":\"float64\",\"order\":\"little\",\"shape\":[31]}},\"selected\":{\"id\":\"4956\"},\"selection_policy\":{\"id\":\"4987\"}},\"id\":\"4955\",\"type\":\"ColumnDataSource\"},{\"attributes\":{\"coordinates\":null,\"group\":null,\"text\":\"Month-day visitors\",\"text_color\":\"black\",\"text_font_size\":\"12pt\"},\"id\":\"4856\",\"type\":\"Title\"},{\"attributes\":{\"source\":{\"id\":\"4946\"}},\"id\":\"4953\",\"type\":\"CDSView\"},{\"attributes\":{\"bottom\":{\"field\":\"bottom\"},\"fill_color\":{\"value\":null},\"top\":{\"field\":\"top\"},\"width\":{\"value\":0.7},\"x\":{\"field\":\"index\"}},\"id\":\"4932\",\"type\":\"VBar\"},{\"attributes\":{},\"id\":\"4975\",\"type\":\"UnionRenderers\"},{\"attributes\":{\"angle\":{\"value\":0.0},\"fill_alpha\":{\"value\":1.0},\"fill_color\":{\"value\":null},\"hatch_alpha\":{\"value\":1.0},\"hatch_color\":{\"value\":\"black\"},\"hatch_scale\":{\"value\":12.0},\"hatch_weight\":{\"value\":1.0},\"line_alpha\":{\"value\":1.0},\"line_cap\":{\"value\":\"butt\"},\"line_color\":{\"value\":\"black\"},\"line_dash\":{\"value\":[]},\"line_dash_offset\":{\"value\":0},\"line_join\":{\"value\":\"bevel\"},\"line_width\":{\"value\":1},\"size\":{\"value\":4},\"x\":{\"field\":\"index\"},\"y\":{\"field\":\"users\"}},\"id\":\"4897\",\"type\":\"Circle\"},{\"attributes\":{\"factors\":[\"1\",\"2\",\"3\",\"4\",\"5\",\"6\",\"7\",\"8\",\"9\",\"10\",\"11\",\"12\",\"13\",\"14\",\"15\",\"16\",\"17\",\"18\",\"19\",\"20\",\"21\",\"22\",\"23\",\"24\",\"25\",\"26\",\"27\",\"28\",\"29\",\"30\",\"31\"],\"tags\":[[[\"month_day\",\"month_day\",null]]]},\"id\":\"4851\",\"type\":\"FactorRange\"},{\"attributes\":{\"bottom\":{\"field\":\"bottom\"},\"fill_alpha\":{\"value\":0.1},\"fill_color\":{\"value\":null},\"hatch_alpha\":{\"value\":0.1},\"line_alpha\":{\"value\":0.1},\"top\":{\"field\":\"top\"},\"width\":{\"value\":0.7},\"x\":{\"field\":\"index\"}},\"id\":\"4941\",\"type\":\"VBar\"},{\"attributes\":{\"callback\":null,\"renderers\":[{\"id\":\"4952\"},{\"id\":\"4961\"}],\"tags\":[\"hv_created\"],\"tooltips\":[[\"month_day\",\"@{month_day}\"],[\"users\",\"@{users}\"]]},\"id\":\"4853\",\"type\":\"HoverTool\"},{\"attributes\":{},\"id\":\"4956\",\"type\":\"Selection\"},{\"attributes\":{\"line_alpha\":{\"value\":0.2},\"x0\":{\"field\":\"x0\"},\"x1\":{\"field\":\"x1\"},\"y0\":{\"field\":\"y0\"},\"y1\":{\"field\":\"y1\"}},\"id\":\"4926\",\"type\":\"Segment\"},{\"attributes\":{\"fill_color\":{\"value\":\"#30a2da\"},\"hatch_color\":{\"value\":\"#30a2da\"},\"line_color\":{\"value\":\"#30a2da\"},\"size\":{\"value\":5.477225575051661},\"x\":{\"field\":\"month_day\"},\"y\":{\"field\":\"users\"}},\"id\":\"4958\",\"type\":\"Scatter\"},{\"attributes\":{},\"id\":\"4987\",\"type\":\"UnionRenderers\"},{\"attributes\":{\"x0\":{\"field\":\"x0\"},\"x1\":{\"field\":\"x1\"},\"y0\":{\"field\":\"y0\"},\"y1\":{\"field\":\"y1\"}},\"id\":\"4916\",\"type\":\"Segment\"},{\"attributes\":{\"source\":{\"id\":\"4930\"}},\"id\":\"4936\",\"type\":\"CDSView\"},{\"attributes\":{\"below\":[{\"id\":\"4864\"}],\"center\":[{\"id\":\"4866\"},{\"id\":\"4870\"}],\"height\":300,\"left\":[{\"id\":\"4867\"}],\"margin\":[5,5,5,5],\"min_border_bottom\":10,\"min_border_left\":10,\"min_border_right\":10,\"min_border_top\":10,\"renderers\":[{\"id\":\"4895\"},{\"id\":\"4903\"},{\"id\":\"4911\"},{\"id\":\"4919\"},{\"id\":\"4927\"},{\"id\":\"4935\"},{\"id\":\"4943\"},{\"id\":\"4952\"},{\"id\":\"4961\"}],\"sizing_mode\":\"fixed\",\"title\":{\"id\":\"4856\"},\"toolbar\":{\"id\":\"4877\"},\"x_range\":{\"id\":\"4851\"},\"x_scale\":{\"id\":\"4860\"},\"y_range\":{\"id\":\"4852\"},\"y_scale\":{\"id\":\"4862\"}},\"id\":\"4855\",\"subtype\":\"Figure\",\"type\":\"Plot\"},{\"attributes\":{\"coordinates\":null,\"data_source\":{\"id\":\"4914\"},\"glyph\":{\"id\":\"4916\"},\"group\":null,\"hover_glyph\":null,\"muted_glyph\":{\"id\":\"4918\"},\"nonselection_glyph\":{\"id\":\"4917\"},\"selection_glyph\":{\"id\":\"4921\"},\"view\":{\"id\":\"4920\"}},\"id\":\"4919\",\"type\":\"GlyphRenderer\"},{\"attributes\":{\"data\":{\"x0\":[[\"1\",-0.2],[\"2\",-0.2],[\"3\",-0.2],[\"4\",-0.2],[\"5\",-0.2],[\"6\",-0.2],[\"7\",-0.2],[\"8\",-0.2],[\"9\",-0.2],[\"10\",-0.2],[\"11\",-0.2],[\"12\",-0.2],[\"13\",-0.2],[\"14\",-0.2],[\"15\",-0.2],[\"16\",-0.2],[\"17\",-0.2],[\"18\",-0.2],[\"19\",-0.2],[\"20\",-0.2],[\"21\",-0.2],[\"22\",-0.2],[\"23\",-0.2],[\"24\",-0.2],[\"25\",-0.2],[\"26\",-0.2],[\"27\",-0.2],[\"28\",-0.2],[\"29\",-0.2],[\"30\",-0.2],[\"31\",-0.2]],\"x1\":[[\"1\",0.2],[\"2\",0.2],[\"3\",0.2],[\"4\",0.2],[\"5\",0.2],[\"6\",0.2],[\"7\",0.2],[\"8\",0.2],[\"9\",0.2],[\"10\",0.2],[\"11\",0.2],[\"12\",0.2],[\"13\",0.2],[\"14\",0.2],[\"15\",0.2],[\"16\",0.2],[\"17\",0.2],[\"18\",0.2],[\"19\",0.2],[\"20\",0.2],[\"21\",0.2],[\"22\",0.2],[\"23\",0.2],[\"24\",0.2],[\"25\",0.2],[\"26\",0.2],[\"27\",0.2],[\"28\",0.2],[\"29\",0.2],[\"30\",0.2],[\"31\",0.2]],\"y0\":[4084,3866,4318,5235,3623,3780,4079,4055,5045,4660,5282,3216,3994,4064,4201,4156,3714,3801,4185,5306,4513,4656,4319,3928,4257,4208,6312,4810,4621,4258,3092],\"y1\":[4084,3866,4318,5235,3623,3780,4079,4055,5045,4660,5282,3216,3994,4064,4201,4156,3714,3801,4185,5306,4513,4656,4319,3928,4257,4208,6312,4810,4621,4258,3092]},\"selected\":{\"id\":\"4980\"},\"selection_policy\":{\"id\":\"4979\"}},\"id\":\"4922\",\"type\":\"ColumnDataSource\"},{\"attributes\":{\"source\":{\"id\":\"4906\"}},\"id\":\"4912\",\"type\":\"CDSView\"},{\"attributes\":{},\"id\":\"4973\",\"type\":\"UnionRenderers\"},{\"attributes\":{\"coordinates\":null,\"data_source\":{\"id\":\"4906\"},\"glyph\":{\"id\":\"4908\"},\"group\":null,\"hover_glyph\":null,\"muted_glyph\":{\"id\":\"4910\"},\"nonselection_glyph\":{\"id\":\"4909\"},\"selection_glyph\":{\"id\":\"4913\"},\"view\":{\"id\":\"4912\"}},\"id\":\"4911\",\"type\":\"GlyphRenderer\"},{\"attributes\":{\"axis\":{\"id\":\"4864\"},\"coordinates\":null,\"grid_line_color\":null,\"group\":null,\"ticker\":null},\"id\":\"4866\",\"type\":\"Grid\"},{\"attributes\":{\"line_alpha\":{\"value\":0.1},\"x0\":{\"field\":\"x0\"},\"x1\":{\"field\":\"x1\"},\"y0\":{\"field\":\"y0\"},\"y1\":{\"field\":\"y1\"}},\"id\":\"4917\",\"type\":\"Segment\"},{\"attributes\":{\"source\":{\"id\":\"4955\"}},\"id\":\"4962\",\"type\":\"CDSView\"},{\"attributes\":{\"data\":{\"x0\":[\"1\",\"2\",\"3\",\"4\",\"5\",\"6\",\"7\",\"8\",\"9\",\"10\",\"11\",\"12\",\"13\",\"14\",\"15\",\"16\",\"17\",\"18\",\"19\",\"20\",\"21\",\"22\",\"23\",\"24\",\"25\",\"26\",\"27\",\"28\",\"29\",\"30\",\"31\"],\"x1\":[\"1\",\"2\",\"3\",\"4\",\"5\",\"6\",\"7\",\"8\",\"9\",\"10\",\"11\",\"12\",\"13\",\"14\",\"15\",\"16\",\"17\",\"18\",\"19\",\"20\",\"21\",\"22\",\"23\",\"24\",\"25\",\"26\",\"27\",\"28\",\"29\",\"30\",\"31\"],\"y0\":[4084,3866,4318,5235,3623,3780,4079,4055,5045,4660,5282,3216,3994,4064,4201,4156,3714,3801,4185,5306,4513,4656,4319,3928,4257,4208,6312,4810,4621,4258,3092],\"y1\":{\"__ndarray__\":\"AAAAAIB1p0AAAAAAADCpQAAAAAAAeKtAAAAAAACcqkAAAAAAAO6oQAAAAAAAGqdAAAAAAACKq0AAAAAAgGOoQAAAAAAA3apAAAAAAACeqUAAAAAAAJSrQAAAAACAF6dAAAAAAIBNqEAAAAAAAKerQAAAAAAAi6lAAAAAAIAsq0AAAAAAgNWoQAAAAAAAwadAAAAAAICvqkAAAAAAAGKqQAAAAAAASqtAAAAAAICeq0AAAAAAgKarQAAAAAAA4KhAAAAAAICkqEAAAAAAAAKsQAAAAAAAbK9AAAAAAADUrEAAAAAAgBCsQAAAAAAAsqpAAAAAAIABo0A=\",\"dtype\":\"float64\",\"order\":\"little\",\"shape\":[31]}},\"selected\":{\"id\":\"4974\"},\"selection_policy\":{\"id\":\"4973\"}},\"id\":\"4898\",\"type\":\"ColumnDataSource\"},{\"attributes\":{\"line_alpha\":{\"value\":1.0},\"line_cap\":{\"value\":\"butt\"},\"line_color\":{\"value\":\"black\"},\"line_dash\":{\"value\":[]},\"line_dash_offset\":{\"value\":0},\"line_join\":{\"value\":\"bevel\"},\"line_width\":{\"value\":1},\"x0\":{\"field\":\"x0\"},\"x1\":{\"field\":\"x1\"},\"y0\":{\"field\":\"y0\"},\"y1\":{\"field\":\"y1\"}},\"id\":\"4929\",\"type\":\"Segment\"},{\"attributes\":{\"line_alpha\":0.2,\"line_color\":\"#30a2da\",\"line_width\":2,\"x\":{\"field\":\"month_day\"},\"y\":{\"field\":\"users\"}},\"id\":\"4951\",\"type\":\"Line\"},{\"attributes\":{},\"id\":\"4872\",\"type\":\"PanTool\"},{\"attributes\":{\"axis_label\":\"month_day\",\"coordinates\":null,\"formatter\":{\"id\":\"4885\"},\"group\":null,\"major_label_policy\":{\"id\":\"4886\"},\"ticker\":{\"id\":\"4865\"}},\"id\":\"4864\",\"type\":\"CategoricalAxis\"},{\"attributes\":{},\"id\":\"4974\",\"type\":\"Selection\"},{\"attributes\":{\"coordinates\":null,\"data_source\":{\"id\":\"4890\"},\"glyph\":{\"id\":\"4892\"},\"group\":null,\"hover_glyph\":null,\"muted_glyph\":{\"id\":\"4894\"},\"nonselection_glyph\":{\"id\":\"4893\"},\"selection_glyph\":{\"id\":\"4897\"},\"view\":{\"id\":\"4896\"}},\"id\":\"4895\",\"type\":\"GlyphRenderer\"},{\"attributes\":{},\"id\":\"4865\",\"type\":\"CategoricalTicker\"},{\"attributes\":{\"line_alpha\":{\"value\":1.0},\"line_cap\":{\"value\":\"butt\"},\"line_color\":{\"value\":\"black\"},\"line_dash\":{\"value\":[]},\"line_dash_offset\":{\"value\":0},\"line_join\":{\"value\":\"bevel\"},\"line_width\":{\"value\":1},\"x0\":{\"field\":\"x0\"},\"x1\":{\"field\":\"x1\"},\"y0\":{\"field\":\"y0\"},\"y1\":{\"field\":\"y1\"}},\"id\":\"4905\",\"type\":\"Segment\"},{\"attributes\":{},\"id\":\"4862\",\"type\":\"LinearScale\"},{\"attributes\":{\"line_alpha\":{\"value\":0.2},\"x0\":{\"field\":\"x0\"},\"x1\":{\"field\":\"x1\"},\"y0\":{\"field\":\"y0\"},\"y1\":{\"field\":\"y1\"}},\"id\":\"4918\",\"type\":\"Segment\"},{\"attributes\":{\"axis_label\":\"users\",\"coordinates\":null,\"formatter\":{\"id\":\"4888\"},\"group\":null,\"major_label_policy\":{\"id\":\"4889\"},\"ticker\":{\"id\":\"4868\"}},\"id\":\"4867\",\"type\":\"LinearAxis\"},{\"attributes\":{\"axis\":{\"id\":\"4867\"},\"coordinates\":null,\"dimension\":1,\"grid_line_color\":null,\"group\":null,\"ticker\":null},\"id\":\"4870\",\"type\":\"Grid\"},{\"attributes\":{\"fill_alpha\":{\"value\":0.1},\"fill_color\":{\"value\":\"#30a2da\"},\"hatch_alpha\":{\"value\":0.1},\"hatch_color\":{\"value\":\"#30a2da\"},\"line_alpha\":{\"value\":0.1},\"line_color\":{\"value\":\"#30a2da\"},\"size\":{\"value\":5.477225575051661},\"x\":{\"field\":\"month_day\"},\"y\":{\"field\":\"users\"}},\"id\":\"4959\",\"type\":\"Scatter\"},{\"attributes\":{},\"id\":\"4868\",\"type\":\"BasicTicker\"},{\"attributes\":{\"data\":{\"bottom\":{\"__ndarray__\":\"AAAAAAAookAAAAAAAI6jQAAAAAAAu6NAAAAAAACookAAAAAAAO2jQAAAAAAAW6JAAAAAAACto0AAAAAAALGkQAAAAAAAMqVAAAAAAADPpEAAAAAAABCjQAAAAAAAsqRAAAAAAADRokAAAAAAABWmQAAAAAAAL6VAAAAAAAAto0AAAAAAAOOkQAAAAAAAP6RAAAAAAADVo0AAAAAAAKahQAAAAAAAHqRAAAAAAAD1o0AAAAAAAGilQAAAAAAAkKVAAAAAAAADpUAAAAAAADSkQAAAAAAAqKBAAAAAAACgpEAAAAAAAF6lQAAAAAAA+KJAAAAAAABCoEA=\",\"dtype\":\"float64\",\"order\":\"little\",\"shape\":[31]},\"index\":[\"1\",\"2\",\"3\",\"4\",\"5\",\"6\",\"7\",\"8\",\"9\",\"10\",\"11\",\"12\",\"13\",\"14\",\"15\",\"16\",\"17\",\"18\",\"19\",\"20\",\"21\",\"22\",\"23\",\"24\",\"25\",\"26\",\"27\",\"28\",\"29\",\"30\",\"31\"],\"top\":{\"__ndarray__\":\"AAAAAACVmkAAAAAAgN+gQAAAAAAAYaBAAAAAAACqnUAAAAAAAGehQAAAAAAAe59AAAAAAABMn0AAAAAAgB2iQAAAAAAAR6JAAAAAAICeoEAAAAAAAHGhQAAAAAAALqJAAAAAAICyoEAAAAAAgAihQAAAAACAfaFAAAAAAIA0oUAAAAAAAKWgQAAAAAAAgKJAAAAAAABKoUAAAAAAAP2fQAAAAAAA0p5AAAAAAAAFokAAAAAAgF6hQAAAAAAAYp9AAAAAAAAuoUAAAAAAAM6iQAAAAAAA4J9AAAAAAABYoEAAAAAAAOqgQAAAAAAAiJ9AAAAAAAAzmkA=\",\"dtype\":\"float64\",\"order\":\"little\",\"shape\":[31]}},\"selected\":{\"id\":\"4984\"},\"selection_policy\":{\"id\":\"4983\"}},\"id\":\"4938\",\"type\":\"ColumnDataSource\"},{\"attributes\":{\"fill_alpha\":{\"value\":0.2},\"fill_color\":{\"value\":\"#30a2da\"},\"hatch_alpha\":{\"value\":0.2},\"hatch_color\":{\"value\":\"#30a2da\"},\"line_alpha\":{\"value\":0.2},\"line_color\":{\"value\":\"#30a2da\"},\"size\":{\"value\":5.477225575051661},\"x\":{\"field\":\"month_day\"},\"y\":{\"field\":\"users\"}},\"id\":\"4960\",\"type\":\"Scatter\"},{\"attributes\":{},\"id\":\"4873\",\"type\":\"WheelZoomTool\"},{\"attributes\":{},\"id\":\"4871\",\"type\":\"SaveTool\"},{\"attributes\":{\"margin\":[5,5,5,5],\"name\":\"HSpacer07252\",\"sizing_mode\":\"stretch_width\"},\"id\":\"4850\",\"type\":\"Spacer\"},{\"attributes\":{\"source\":{\"id\":\"4914\"}},\"id\":\"4920\",\"type\":\"CDSView\"},{\"attributes\":{\"overlay\":{\"id\":\"4876\"}},\"id\":\"4874\",\"type\":\"BoxZoomTool\"},{\"attributes\":{\"data\":{\"index\":[\"1\",\"2\",\"3\",\"5\",\"6\",\"10\",\"12\",\"12\",\"13\",\"17\",\"18\",\"19\",\"23\",\"24\",\"25\",\"25\",\"26\",\"30\",\"31\"],\"users\":[6298,6587,6671,4855,4604,5265,5419,3907,5130,5258,5668,5565,5828,6807,6774,472,6587,6117,3948]},\"selected\":{\"id\":\"4972\"},\"selection_policy\":{\"id\":\"4971\"}},\"id\":\"4890\",\"type\":\"ColumnDataSource\"},{\"attributes\":{\"children\":[{\"id\":\"4850\"},{\"id\":\"4855\"},{\"id\":\"4990\"}],\"margin\":[0,0,0,0],\"name\":\"Row07248\",\"tags\":[\"embedded\"]},\"id\":\"4849\",\"type\":\"Row\"},{\"attributes\":{},\"id\":\"4875\",\"type\":\"ResetTool\"},{\"attributes\":{\"bottom\":{\"field\":\"bottom\"},\"fill_color\":{\"value\":null},\"top\":{\"field\":\"top\"},\"width\":{\"value\":0.7},\"x\":{\"field\":\"index\"}},\"id\":\"4940\",\"type\":\"VBar\"},{\"attributes\":{\"bottom_units\":\"screen\",\"coordinates\":null,\"fill_alpha\":0.5,\"fill_color\":\"lightgrey\",\"group\":null,\"left_units\":\"screen\",\"level\":\"overlay\",\"line_alpha\":1.0,\"line_color\":\"black\",\"line_dash\":[4,4],\"line_width\":2,\"right_units\":\"screen\",\"syncable\":false,\"top_units\":\"screen\"},\"id\":\"4876\",\"type\":\"BoxAnnotation\"},{\"attributes\":{\"tools\":[{\"id\":\"4853\"},{\"id\":\"4871\"},{\"id\":\"4872\"},{\"id\":\"4873\"},{\"id\":\"4874\"},{\"id\":\"4875\"}]},\"id\":\"4877\",\"type\":\"Toolbar\"},{\"attributes\":{\"line_alpha\":{\"value\":1.0},\"line_cap\":{\"value\":\"butt\"},\"line_color\":{\"value\":\"black\"},\"line_dash\":{\"value\":[]},\"line_dash_offset\":{\"value\":0},\"line_join\":{\"value\":\"bevel\"},\"line_width\":{\"value\":1},\"x0\":{\"field\":\"x0\"},\"x1\":{\"field\":\"x1\"},\"y0\":{\"field\":\"y0\"},\"y1\":{\"field\":\"y1\"}},\"id\":\"4921\",\"type\":\"Segment\"}],\"root_ids\":[\"4849\"]},\"title\":\"Bokeh Application\",\"version\":\"2.4.3\"}};\n",
       "    var render_items = [{\"docid\":\"149ce2fe-2eff-4c34-b119-bd092b3cc41d\",\"root_ids\":[\"4849\"],\"roots\":{\"4849\":\"329e1115-770b-413a-9f96-da868052a5b9\"}}];\n",
       "    root.Bokeh.embed.embed_items_notebook(docs_json, render_items);\n",
       "  }\n",
       "  if (root.Bokeh !== undefined && root.Bokeh.Panel !== undefined) {\n",
       "    embed_document(root);\n",
       "  } else {\n",
       "    var attempts = 0;\n",
       "    var timer = setInterval(function(root) {\n",
       "      if (root.Bokeh !== undefined && root.Bokeh.Panel !== undefined) {\n",
       "        clearInterval(timer);\n",
       "        embed_document(root);\n",
       "      } else if (document.readyState == \"complete\") {\n",
       "        attempts++;\n",
       "        if (attempts > 200) {\n",
       "          clearInterval(timer);\n",
       "          console.log(\"Bokeh: ERROR: Unable to run BokehJS code because BokehJS library is missing\");\n",
       "        }\n",
       "      }\n",
       "    }, 25, root)\n",
       "  }\n",
       "})(window);</script>"
      ],
      "text/plain": [
       ":Overlay\n",
       "   .BoxWhisker.I  :BoxWhisker   [month_day]   (users)\n",
       "   .Curve.Users   :Curve   [month_day]   (users)\n",
       "   .Scatter.Users :Scatter   [month_day]   (users)"
      ]
     },
     "execution_count": 62,
     "metadata": {
      "application/vnd.holoviews_exec.v0+json": {
       "id": "4849"
      }
     },
     "output_type": "execute_result"
    }
   ],
   "source": [
    "# Static plot\n",
    "# ==============================================================================\n",
    "# fig, ax = plt.subplots(figsize=(9, 3.5))\n",
    "# data['month_day'] = pd.Series(data.index).dt.day.values\n",
    "# data.boxplot(column='users', by='month_day', ax=ax,)\n",
    "# data.groupby('month_day')['users'].median().plot(style='o-', linewidth=0.8, ax=ax)\n",
    "# ax.set_ylabel('users')\n",
    "# ax.set_title('Month-day visitors')\n",
    "# fig.suptitle('');\n",
    "\n",
    "# Interactive plot\n",
    "# ==============================================================================\n",
    "data['month_day'] = pd.Series(data.index).dt.day.values\n",
    "boxplot = data.hvplot.box(\n",
    "              y                  = 'users',\n",
    "              by                 = 'month_day',\n",
    "              legend             = False,\n",
    "              box_fill_color     = None,\n",
    "              outlier_fill_color = None\n",
    "          )\n",
    "lineplot = data.groupby('month_day')['users'].median().hvplot.line(legend=False)\n",
    "scatterplot = data.groupby('month_day')['users'].median().hvplot.scatter(legend=False)\n",
    "layout = boxplot * lineplot * scatterplot\n",
    "layout = layout.opts(title='Month-day visitors', ylabel='users', width=600)\n",
    "layout"
   ]
  },
  {
   "cell_type": "code",
   "execution_count": 63,
   "metadata": {},
   "outputs": [
    {
     "data": {},
     "metadata": {},
     "output_type": "display_data"
    },
    {
     "data": {
      "application/vnd.holoviews_exec.v0+json": "",
      "text/html": [
       "<div id='5122'>\n",
       "  <div class=\"bk-root\" id=\"db468d2c-899e-444e-80eb-823f344ccdad\" data-root-id=\"5122\"></div>\n",
       "</div>\n",
       "<script type=\"application/javascript\">(function(root) {\n",
       "  function embed_document(root) {\n",
       "    var docs_json = {\"20340bf9-df3b-428d-8bdc-0c12df352afa\":{\"defs\":[{\"extends\":null,\"module\":null,\"name\":\"ReactiveHTML1\",\"overrides\":[],\"properties\":[]},{\"extends\":null,\"module\":null,\"name\":\"FlexBox1\",\"overrides\":[],\"properties\":[{\"default\":\"flex-start\",\"kind\":null,\"name\":\"align_content\"},{\"default\":\"flex-start\",\"kind\":null,\"name\":\"align_items\"},{\"default\":\"row\",\"kind\":null,\"name\":\"flex_direction\"},{\"default\":\"wrap\",\"kind\":null,\"name\":\"flex_wrap\"},{\"default\":\"flex-start\",\"kind\":null,\"name\":\"justify_content\"}]},{\"extends\":null,\"module\":null,\"name\":\"GridStack1\",\"overrides\":[],\"properties\":[{\"default\":\"warn\",\"kind\":null,\"name\":\"mode\"},{\"default\":null,\"kind\":null,\"name\":\"ncols\"},{\"default\":null,\"kind\":null,\"name\":\"nrows\"},{\"default\":true,\"kind\":null,\"name\":\"allow_resize\"},{\"default\":true,\"kind\":null,\"name\":\"allow_drag\"},{\"default\":[],\"kind\":null,\"name\":\"state\"}]},{\"extends\":null,\"module\":null,\"name\":\"click1\",\"overrides\":[],\"properties\":[{\"default\":\"\",\"kind\":null,\"name\":\"terminal_output\"},{\"default\":\"\",\"kind\":null,\"name\":\"debug_name\"},{\"default\":0,\"kind\":null,\"name\":\"clears\"}]},{\"extends\":null,\"module\":null,\"name\":\"NotificationAreaBase1\",\"overrides\":[],\"properties\":[{\"default\":\"bottom-right\",\"kind\":null,\"name\":\"position\"},{\"default\":0,\"kind\":null,\"name\":\"_clear\"}]},{\"extends\":null,\"module\":null,\"name\":\"NotificationArea1\",\"overrides\":[],\"properties\":[{\"default\":[],\"kind\":null,\"name\":\"notifications\"},{\"default\":\"bottom-right\",\"kind\":null,\"name\":\"position\"},{\"default\":0,\"kind\":null,\"name\":\"_clear\"},{\"default\":[{\"background\":\"#ffc107\",\"icon\":{\"className\":\"fas fa-exclamation-triangle\",\"color\":\"white\",\"tagName\":\"i\"},\"type\":\"warning\"},{\"background\":\"#007bff\",\"icon\":{\"className\":\"fas fa-info-circle\",\"color\":\"white\",\"tagName\":\"i\"},\"type\":\"info\"}],\"kind\":null,\"name\":\"types\"}]},{\"extends\":null,\"module\":null,\"name\":\"Notification\",\"overrides\":[],\"properties\":[{\"default\":null,\"kind\":null,\"name\":\"background\"},{\"default\":3000,\"kind\":null,\"name\":\"duration\"},{\"default\":null,\"kind\":null,\"name\":\"icon\"},{\"default\":\"\",\"kind\":null,\"name\":\"message\"},{\"default\":null,\"kind\":null,\"name\":\"notification_type\"},{\"default\":false,\"kind\":null,\"name\":\"_destroyed\"}]},{\"extends\":null,\"module\":null,\"name\":\"TemplateActions1\",\"overrides\":[],\"properties\":[{\"default\":0,\"kind\":null,\"name\":\"open_modal\"},{\"default\":0,\"kind\":null,\"name\":\"close_modal\"}]},{\"extends\":null,\"module\":null,\"name\":\"MaterialTemplateActions1\",\"overrides\":[],\"properties\":[{\"default\":0,\"kind\":null,\"name\":\"open_modal\"},{\"default\":0,\"kind\":null,\"name\":\"close_modal\"}]}],\"roots\":{\"references\":[{\"attributes\":{\"fill_alpha\":{\"value\":0.1},\"fill_color\":{\"value\":\"#30a2da\"},\"hatch_alpha\":{\"value\":0.1},\"hatch_color\":{\"value\":\"#30a2da\"},\"line_alpha\":{\"value\":0.1},\"line_color\":{\"value\":\"#30a2da\"},\"size\":{\"value\":5.477225575051661},\"x\":{\"field\":\"week_day\"},\"y\":{\"field\":\"users\"}},\"id\":\"5232\",\"type\":\"Scatter\"},{\"attributes\":{},\"id\":\"5254\",\"type\":\"UnionRenderers\"},{\"attributes\":{\"fill_alpha\":{\"value\":0.2},\"fill_color\":{\"value\":\"#30a2da\"},\"hatch_alpha\":{\"value\":0.2},\"hatch_color\":{\"value\":\"#30a2da\"},\"line_alpha\":{\"value\":0.2},\"line_color\":{\"value\":\"#30a2da\"},\"size\":{\"value\":5.477225575051661},\"x\":{\"field\":\"week_day\"},\"y\":{\"field\":\"users\"}},\"id\":\"5233\",\"type\":\"Scatter\"},{\"attributes\":{},\"id\":\"5255\",\"type\":\"Selection\"},{\"attributes\":{},\"id\":\"5159\",\"type\":\"AllLabels\"},{\"attributes\":{},\"id\":\"5244\",\"type\":\"UnionRenderers\"},{\"attributes\":{\"coordinates\":null,\"data_source\":{\"id\":\"5228\"},\"glyph\":{\"id\":\"5231\"},\"group\":null,\"hover_glyph\":null,\"muted_glyph\":{\"id\":\"5233\"},\"nonselection_glyph\":{\"id\":\"5232\"},\"selection_glyph\":{\"id\":\"5236\"},\"view\":{\"id\":\"5235\"}},\"id\":\"5234\",\"type\":\"GlyphRenderer\"},{\"attributes\":{\"line_alpha\":{\"value\":0.1},\"x0\":{\"field\":\"x0\"},\"x1\":{\"field\":\"x1\"},\"y0\":{\"field\":\"y0\"},\"y1\":{\"field\":\"y1\"}},\"id\":\"5198\",\"type\":\"Segment\"},{\"attributes\":{\"bottom\":{\"field\":\"bottom\"},\"fill_alpha\":{\"value\":1.0},\"fill_color\":{\"value\":null},\"hatch_alpha\":{\"value\":1.0},\"hatch_color\":{\"value\":\"black\"},\"hatch_scale\":{\"value\":12.0},\"hatch_weight\":{\"value\":1.0},\"line_alpha\":{\"value\":1.0},\"line_cap\":{\"value\":\"butt\"},\"line_color\":{\"value\":\"black\"},\"line_dash\":{\"value\":[]},\"line_dash_offset\":{\"value\":0},\"line_join\":{\"value\":\"bevel\"},\"line_width\":{\"value\":1},\"top\":{\"field\":\"top\"},\"width\":{\"value\":0.7},\"x\":{\"field\":\"index\"}},\"id\":\"5210\",\"type\":\"VBar\"},{\"attributes\":{\"source\":{\"id\":\"5228\"}},\"id\":\"5235\",\"type\":\"CDSView\"},{\"attributes\":{\"coordinates\":null,\"group\":null,\"text\":\"Week-day visitors\",\"text_color\":\"black\",\"text_font_size\":\"12pt\"},\"id\":\"5129\",\"type\":\"Title\"},{\"attributes\":{\"angle\":{\"value\":0.0},\"fill_alpha\":{\"value\":1.0},\"fill_color\":{\"value\":\"#30a2da\"},\"hatch_alpha\":{\"value\":1.0},\"hatch_color\":{\"value\":\"#30a2da\"},\"hatch_scale\":{\"value\":12.0},\"hatch_weight\":{\"value\":1.0},\"line_alpha\":{\"value\":1.0},\"line_cap\":{\"value\":\"butt\"},\"line_color\":{\"value\":\"#30a2da\"},\"line_dash\":{\"value\":[]},\"line_dash_offset\":{\"value\":0},\"line_join\":{\"value\":\"bevel\"},\"line_width\":{\"value\":1},\"marker\":{\"value\":\"circle\"},\"size\":{\"value\":5.477225575051661},\"x\":{\"field\":\"week_day\"},\"y\":{\"field\":\"users\"}},\"id\":\"5236\",\"type\":\"Scatter\"},{\"attributes\":{},\"id\":\"5245\",\"type\":\"Selection\"},{\"attributes\":{\"axis\":{\"id\":\"5137\"},\"coordinates\":null,\"grid_line_color\":null,\"group\":null,\"ticker\":null},\"id\":\"5139\",\"type\":\"Grid\"},{\"attributes\":{\"x0\":{\"field\":\"x0\"},\"x1\":{\"field\":\"x1\"},\"y0\":{\"field\":\"y0\"},\"y1\":{\"field\":\"y1\"}},\"id\":\"5181\",\"type\":\"Segment\"},{\"attributes\":{},\"id\":\"5145\",\"type\":\"PanTool\"},{\"attributes\":{\"axis_label\":\"week_day\",\"coordinates\":null,\"formatter\":{\"id\":\"5158\"},\"group\":null,\"major_label_policy\":{\"id\":\"5159\"},\"ticker\":{\"id\":\"5138\"}},\"id\":\"5137\",\"type\":\"CategoricalAxis\"},{\"attributes\":{},\"id\":\"5138\",\"type\":\"CategoricalTicker\"},{\"attributes\":{},\"id\":\"5135\",\"type\":\"LinearScale\"},{\"attributes\":{\"axis_label\":\"users\",\"coordinates\":null,\"formatter\":{\"id\":\"5161\"},\"group\":null,\"major_label_policy\":{\"id\":\"5162\"},\"ticker\":{\"id\":\"5141\"}},\"id\":\"5140\",\"type\":\"LinearAxis\"},{\"attributes\":{\"axis\":{\"id\":\"5140\"},\"coordinates\":null,\"dimension\":1,\"grid_line_color\":null,\"group\":null,\"ticker\":null},\"id\":\"5143\",\"type\":\"Grid\"},{\"attributes\":{\"data\":{\"bottom\":{\"__ndarray__\":\"AAAAAADjqkAAAAAAAJ2tQAAAAAAAGK5AAAAAAABxrUAAAAAAAEarQAAAAACAd6RAAAAAAIBPokA=\",\"dtype\":\"float64\",\"order\":\"little\",\"shape\":[7]},\"index\":[\"1\",\"2\",\"3\",\"4\",\"5\",\"6\",\"7\"],\"top\":{\"__ndarray__\":\"AAAAAABVpEAAAAAAALmmQAAAAAAAQKdAAAAAAABrpkAAAAAAAH2lQAAAAAAAhp9AAAAAAAB6m0A=\",\"dtype\":\"float64\",\"order\":\"little\",\"shape\":[7]}},\"selected\":{\"id\":\"5255\"},\"selection_policy\":{\"id\":\"5254\"}},\"id\":\"5203\",\"type\":\"ColumnDataSource\"},{\"attributes\":{},\"id\":\"5141\",\"type\":\"BasicTicker\"},{\"attributes\":{},\"id\":\"5256\",\"type\":\"UnionRenderers\"},{\"attributes\":{},\"id\":\"5146\",\"type\":\"WheelZoomTool\"},{\"attributes\":{},\"id\":\"5257\",\"type\":\"Selection\"},{\"attributes\":{\"margin\":[5,5,5,5],\"name\":\"HSpacer08016\",\"sizing_mode\":\"stretch_width\"},\"id\":\"5263\",\"type\":\"Spacer\"},{\"attributes\":{\"data\":{\"users\":{\"__ndarray__\":\"AAAAAABVpEAAAAAAALmmQAAAAAAAQKdAAAAAAABrpkAAAAAAAH2lQAAAAAAAhp9AAAAAAAB6m0A=\",\"dtype\":\"float64\",\"order\":\"little\",\"shape\":[7]},\"week_day\":[\"1\",\"2\",\"3\",\"4\",\"5\",\"6\",\"7\"]},\"selected\":{\"id\":\"5229\"},\"selection_policy\":{\"id\":\"5260\"}},\"id\":\"5228\",\"type\":\"ColumnDataSource\"},{\"attributes\":{},\"id\":\"5144\",\"type\":\"SaveTool\"},{\"attributes\":{\"bottom\":{\"field\":\"bottom\"},\"fill_color\":{\"value\":null},\"top\":{\"field\":\"top\"},\"width\":{\"value\":0.7},\"x\":{\"field\":\"index\"}},\"id\":\"5213\",\"type\":\"VBar\"},{\"attributes\":{\"overlay\":{\"id\":\"5149\"}},\"id\":\"5147\",\"type\":\"BoxZoomTool\"},{\"attributes\":{},\"id\":\"5246\",\"type\":\"UnionRenderers\"},{\"attributes\":{},\"id\":\"5148\",\"type\":\"ResetTool\"},{\"attributes\":{\"source\":{\"id\":\"5163\"}},\"id\":\"5169\",\"type\":\"CDSView\"},{\"attributes\":{},\"id\":\"5247\",\"type\":\"Selection\"},{\"attributes\":{\"source\":{\"id\":\"5195\"}},\"id\":\"5201\",\"type\":\"CDSView\"},{\"attributes\":{\"bottom_units\":\"screen\",\"coordinates\":null,\"fill_alpha\":0.5,\"fill_color\":\"lightgrey\",\"group\":null,\"left_units\":\"screen\",\"level\":\"overlay\",\"line_alpha\":1.0,\"line_color\":\"black\",\"line_dash\":[4,4],\"line_width\":2,\"right_units\":\"screen\",\"syncable\":false,\"top_units\":\"screen\"},\"id\":\"5149\",\"type\":\"BoxAnnotation\"},{\"attributes\":{\"data\":{\"x0\":[\"1\",\"2\",\"3\",\"4\",\"5\",\"6\",\"7\"],\"x1\":[\"1\",\"2\",\"3\",\"4\",\"5\",\"6\",\"7\"],\"y0\":[1432,1390,1278,785,472,863,133],\"y1\":{\"__ndarray__\":\"AAAAAAAhoUAAAAAAgNmhQAAAAAAANKJAAAAAAABHokAAAAAAgA6hQAAAAAAAAZpAAAAAAABnlkA=\",\"dtype\":\"float64\",\"order\":\"little\",\"shape\":[7]}},\"selected\":{\"id\":\"5249\"},\"selection_policy\":{\"id\":\"5248\"}},\"id\":\"5179\",\"type\":\"ColumnDataSource\"},{\"attributes\":{\"fill_color\":{\"value\":\"#30a2da\"},\"hatch_color\":{\"value\":\"#30a2da\"},\"line_color\":{\"value\":\"#30a2da\"},\"size\":{\"value\":5.477225575051661},\"x\":{\"field\":\"week_day\"},\"y\":{\"field\":\"users\"}},\"id\":\"5231\",\"type\":\"Scatter\"},{\"attributes\":{\"line_alpha\":{\"value\":0.1},\"x0\":{\"field\":\"x0\"},\"x1\":{\"field\":\"x1\"},\"y0\":{\"field\":\"y0\"},\"y1\":{\"field\":\"y1\"}},\"id\":\"5174\",\"type\":\"Segment\"},{\"attributes\":{\"angle\":{\"value\":0.0},\"fill_alpha\":{\"value\":1.0},\"fill_color\":{\"value\":null},\"hatch_alpha\":{\"value\":1.0},\"hatch_color\":{\"value\":\"black\"},\"hatch_scale\":{\"value\":12.0},\"hatch_weight\":{\"value\":1.0},\"line_alpha\":{\"value\":1.0},\"line_cap\":{\"value\":\"butt\"},\"line_color\":{\"value\":\"black\"},\"line_dash\":{\"value\":[]},\"line_dash_offset\":{\"value\":0},\"line_join\":{\"value\":\"bevel\"},\"line_width\":{\"value\":1},\"size\":{\"value\":4},\"x\":{\"field\":\"index\"},\"y\":{\"field\":\"users\"}},\"id\":\"5170\",\"type\":\"Circle\"},{\"attributes\":{\"data\":{\"x0\":[[\"1\",-0.2],[\"2\",-0.2],[\"3\",-0.2],[\"4\",-0.2],[\"5\",-0.2],[\"6\",-0.2],[\"7\",-0.2]],\"x1\":[[\"1\",0.2],[\"2\",0.2],[\"3\",0.2],[\"4\",0.2],[\"5\",0.2],[\"6\",0.2],[\"7\",0.2]],\"y0\":[5045,5265,5668,5565,5306,3861,3579],\"y1\":[5045,5265,5668,5565,5306,3861,3579]},\"selected\":{\"id\":\"5253\"},\"selection_policy\":{\"id\":\"5252\"}},\"id\":\"5195\",\"type\":\"ColumnDataSource\"},{\"attributes\":{},\"id\":\"5258\",\"type\":\"UnionRenderers\"},{\"attributes\":{\"x0\":{\"field\":\"x0\"},\"x1\":{\"field\":\"x1\"},\"y0\":{\"field\":\"y0\"},\"y1\":{\"field\":\"y1\"}},\"id\":\"5189\",\"type\":\"Segment\"},{\"attributes\":{\"line_alpha\":{\"value\":0.2},\"x0\":{\"field\":\"x0\"},\"x1\":{\"field\":\"x1\"},\"y0\":{\"field\":\"y0\"},\"y1\":{\"field\":\"y1\"}},\"id\":\"5199\",\"type\":\"Segment\"},{\"attributes\":{\"line_alpha\":0.1,\"line_color\":\"#30a2da\",\"line_width\":2,\"x\":{\"field\":\"week_day\"},\"y\":{\"field\":\"users\"}},\"id\":\"5223\",\"type\":\"Line\"},{\"attributes\":{\"source\":{\"id\":\"5203\"}},\"id\":\"5209\",\"type\":\"CDSView\"},{\"attributes\":{\"source\":{\"id\":\"5211\"}},\"id\":\"5217\",\"type\":\"CDSView\"},{\"attributes\":{\"x0\":{\"field\":\"x0\"},\"x1\":{\"field\":\"x1\"},\"y0\":{\"field\":\"y0\"},\"y1\":{\"field\":\"y1\"}},\"id\":\"5173\",\"type\":\"Segment\"},{\"attributes\":{},\"id\":\"5248\",\"type\":\"UnionRenderers\"},{\"attributes\":{},\"id\":\"5133\",\"type\":\"CategoricalScale\"},{\"attributes\":{\"coordinates\":null,\"data_source\":{\"id\":\"5171\"},\"glyph\":{\"id\":\"5173\"},\"group\":null,\"hover_glyph\":null,\"muted_glyph\":{\"id\":\"5175\"},\"nonselection_glyph\":{\"id\":\"5174\"},\"selection_glyph\":{\"id\":\"5178\"},\"view\":{\"id\":\"5177\"}},\"id\":\"5176\",\"type\":\"GlyphRenderer\"},{\"attributes\":{\"margin\":[5,5,5,5],\"name\":\"HSpacer08015\",\"sizing_mode\":\"stretch_width\"},\"id\":\"5123\",\"type\":\"Spacer\"},{\"attributes\":{\"line_alpha\":{\"value\":1.0},\"line_cap\":{\"value\":\"butt\"},\"line_color\":{\"value\":\"black\"},\"line_dash\":{\"value\":[]},\"line_dash_offset\":{\"value\":0},\"line_join\":{\"value\":\"bevel\"},\"line_width\":{\"value\":1},\"x0\":{\"field\":\"x0\"},\"x1\":{\"field\":\"x1\"},\"y0\":{\"field\":\"y0\"},\"y1\":{\"field\":\"y1\"}},\"id\":\"5178\",\"type\":\"Segment\"},{\"attributes\":{},\"id\":\"5249\",\"type\":\"Selection\"},{\"attributes\":{\"bottom\":{\"field\":\"bottom\"},\"fill_color\":{\"value\":null},\"top\":{\"field\":\"top\"},\"width\":{\"value\":0.7},\"x\":{\"field\":\"index\"}},\"id\":\"5205\",\"type\":\"VBar\"},{\"attributes\":{\"data\":{\"bottom\":{\"__ndarray__\":\"AAAAAABVpEAAAAAAALmmQAAAAAAAQKdAAAAAAABrpkAAAAAAAH2lQAAAAAAAhp9AAAAAAAB6m0A=\",\"dtype\":\"float64\",\"order\":\"little\",\"shape\":[7]},\"index\":[\"1\",\"2\",\"3\",\"4\",\"5\",\"6\",\"7\"],\"top\":{\"__ndarray__\":\"AAAAAAAhoUAAAAAAgNmhQAAAAAAANKJAAAAAAABHokAAAAAAgA6hQAAAAAAAAZpAAAAAAABnlkA=\",\"dtype\":\"float64\",\"order\":\"little\",\"shape\":[7]}},\"selected\":{\"id\":\"5257\"},\"selection_policy\":{\"id\":\"5256\"}},\"id\":\"5211\",\"type\":\"ColumnDataSource\"},{\"attributes\":{\"line_alpha\":{\"value\":0.1},\"x0\":{\"field\":\"x0\"},\"x1\":{\"field\":\"x1\"},\"y0\":{\"field\":\"y0\"},\"y1\":{\"field\":\"y1\"}},\"id\":\"5190\",\"type\":\"Segment\"},{\"attributes\":{\"children\":[{\"id\":\"5123\"},{\"id\":\"5128\"},{\"id\":\"5263\"}],\"margin\":[0,0,0,0],\"name\":\"Row08011\",\"tags\":[\"embedded\"]},\"id\":\"5122\",\"type\":\"Row\"},{\"attributes\":{\"coordinates\":null,\"data_source\":{\"id\":\"5219\"},\"glyph\":{\"id\":\"5222\"},\"group\":null,\"hover_glyph\":null,\"muted_glyph\":{\"id\":\"5224\"},\"nonselection_glyph\":{\"id\":\"5223\"},\"selection_glyph\":{\"id\":\"5227\"},\"view\":{\"id\":\"5226\"}},\"id\":\"5225\",\"type\":\"GlyphRenderer\"},{\"attributes\":{\"source\":{\"id\":\"5179\"}},\"id\":\"5185\",\"type\":\"CDSView\"},{\"attributes\":{\"bottom\":{\"field\":\"bottom\"},\"fill_alpha\":{\"value\":1.0},\"fill_color\":{\"value\":null},\"hatch_alpha\":{\"value\":1.0},\"hatch_color\":{\"value\":\"black\"},\"hatch_scale\":{\"value\":12.0},\"hatch_weight\":{\"value\":1.0},\"line_alpha\":{\"value\":1.0},\"line_cap\":{\"value\":\"butt\"},\"line_color\":{\"value\":\"black\"},\"line_dash\":{\"value\":[]},\"line_dash_offset\":{\"value\":0},\"line_join\":{\"value\":\"bevel\"},\"line_width\":{\"value\":1},\"top\":{\"field\":\"top\"},\"width\":{\"value\":0.7},\"x\":{\"field\":\"index\"}},\"id\":\"5218\",\"type\":\"VBar\"},{\"attributes\":{},\"id\":\"5260\",\"type\":\"UnionRenderers\"},{\"attributes\":{\"line_alpha\":0.2,\"line_color\":\"#30a2da\",\"line_width\":2,\"x\":{\"field\":\"week_day\"},\"y\":{\"field\":\"users\"}},\"id\":\"5224\",\"type\":\"Line\"},{\"attributes\":{\"source\":{\"id\":\"5171\"}},\"id\":\"5177\",\"type\":\"CDSView\"},{\"attributes\":{\"fill_alpha\":{\"value\":0.2},\"fill_color\":{\"value\":null},\"hatch_alpha\":{\"value\":0.2},\"line_alpha\":{\"value\":0.2},\"x\":{\"field\":\"index\"},\"y\":{\"field\":\"users\"}},\"id\":\"5167\",\"type\":\"Circle\"},{\"attributes\":{\"line_alpha\":{\"value\":0.2},\"x0\":{\"field\":\"x0\"},\"x1\":{\"field\":\"x1\"},\"y0\":{\"field\":\"y0\"},\"y1\":{\"field\":\"y1\"}},\"id\":\"5183\",\"type\":\"Segment\"},{\"attributes\":{\"data\":{\"index\":[\"1\",\"1\",\"2\",\"2\",\"3\",\"3\",\"4\",\"4\",\"5\",\"6\",\"6\",\"7\"],\"users\":[5828,6117,6807,6298,6774,6587,6587,6671,6312,4073,4810,4110]},\"selected\":{\"id\":\"5245\"},\"selection_policy\":{\"id\":\"5244\"}},\"id\":\"5163\",\"type\":\"ColumnDataSource\"},{\"attributes\":{\"line_alpha\":{\"value\":0.1},\"x0\":{\"field\":\"x0\"},\"x1\":{\"field\":\"x1\"},\"y0\":{\"field\":\"y0\"},\"y1\":{\"field\":\"y1\"}},\"id\":\"5182\",\"type\":\"Segment\"},{\"attributes\":{},\"id\":\"5250\",\"type\":\"UnionRenderers\"},{\"attributes\":{\"line_alpha\":{\"value\":1.0},\"line_cap\":{\"value\":\"butt\"},\"line_color\":{\"value\":\"black\"},\"line_dash\":{\"value\":[]},\"line_dash_offset\":{\"value\":0},\"line_join\":{\"value\":\"bevel\"},\"line_width\":{\"value\":1},\"x0\":{\"field\":\"x0\"},\"x1\":{\"field\":\"x1\"},\"y0\":{\"field\":\"y0\"},\"y1\":{\"field\":\"y1\"}},\"id\":\"5202\",\"type\":\"Segment\"},{\"attributes\":{\"line_alpha\":{\"value\":1.0},\"line_cap\":{\"value\":\"butt\"},\"line_color\":{\"value\":\"black\"},\"line_dash\":{\"value\":[]},\"line_dash_offset\":{\"value\":0},\"line_join\":{\"value\":\"bevel\"},\"line_width\":{\"value\":1},\"x0\":{\"field\":\"x0\"},\"x1\":{\"field\":\"x1\"},\"y0\":{\"field\":\"y0\"},\"y1\":{\"field\":\"y1\"}},\"id\":\"5186\",\"type\":\"Segment\"},{\"attributes\":{\"bottom\":{\"field\":\"bottom\"},\"fill_alpha\":{\"value\":0.2},\"fill_color\":{\"value\":null},\"hatch_alpha\":{\"value\":0.2},\"line_alpha\":{\"value\":0.2},\"top\":{\"field\":\"top\"},\"width\":{\"value\":0.7},\"x\":{\"field\":\"index\"}},\"id\":\"5207\",\"type\":\"VBar\"},{\"attributes\":{},\"id\":\"5251\",\"type\":\"Selection\"},{\"attributes\":{\"line_color\":\"#30a2da\",\"line_width\":2,\"x\":{\"field\":\"week_day\"},\"y\":{\"field\":\"users\"}},\"id\":\"5227\",\"type\":\"Line\"},{\"attributes\":{\"fill_color\":{\"value\":null},\"x\":{\"field\":\"index\"},\"y\":{\"field\":\"users\"}},\"id\":\"5165\",\"type\":\"Circle\"},{\"attributes\":{\"coordinates\":null,\"data_source\":{\"id\":\"5163\"},\"glyph\":{\"id\":\"5165\"},\"group\":null,\"hover_glyph\":null,\"muted_glyph\":{\"id\":\"5167\"},\"nonselection_glyph\":{\"id\":\"5166\"},\"selection_glyph\":{\"id\":\"5170\"},\"view\":{\"id\":\"5169\"}},\"id\":\"5168\",\"type\":\"GlyphRenderer\"},{\"attributes\":{\"coordinates\":null,\"data_source\":{\"id\":\"5211\"},\"glyph\":{\"id\":\"5213\"},\"group\":null,\"hover_glyph\":null,\"muted_glyph\":{\"id\":\"5215\"},\"nonselection_glyph\":{\"id\":\"5214\"},\"selection_glyph\":{\"id\":\"5218\"},\"view\":{\"id\":\"5217\"}},\"id\":\"5216\",\"type\":\"GlyphRenderer\"},{\"attributes\":{\"line_alpha\":{\"value\":0.2},\"x0\":{\"field\":\"x0\"},\"x1\":{\"field\":\"x1\"},\"y0\":{\"field\":\"y0\"},\"y1\":{\"field\":\"y1\"}},\"id\":\"5191\",\"type\":\"Segment\"},{\"attributes\":{\"coordinates\":null,\"data_source\":{\"id\":\"5203\"},\"glyph\":{\"id\":\"5205\"},\"group\":null,\"hover_glyph\":null,\"muted_glyph\":{\"id\":\"5207\"},\"nonselection_glyph\":{\"id\":\"5206\"},\"selection_glyph\":{\"id\":\"5210\"},\"view\":{\"id\":\"5209\"}},\"id\":\"5208\",\"type\":\"GlyphRenderer\"},{\"attributes\":{\"data\":{\"x0\":[[\"1\",-0.2],[\"2\",-0.2],[\"3\",-0.2],[\"4\",-0.2],[\"5\",-0.2],[\"6\",-0.2],[\"7\",-0.2]],\"x1\":[[\"1\",0.2],[\"2\",0.2],[\"3\",0.2],[\"4\",0.2],[\"5\",0.2],[\"6\",0.2],[\"7\",0.2]],\"y0\":[1432,1390,1278,785,472,863,133],\"y1\":[1432,1390,1278,785,472,863,133]},\"selected\":{\"id\":\"5251\"},\"selection_policy\":{\"id\":\"5250\"}},\"id\":\"5187\",\"type\":\"ColumnDataSource\"},{\"attributes\":{\"data\":{\"x0\":[\"1\",\"2\",\"3\",\"4\",\"5\",\"6\",\"7\"],\"x1\":[\"1\",\"2\",\"3\",\"4\",\"5\",\"6\",\"7\"],\"y0\":[5045,5265,5668,5565,5306,3861,3579],\"y1\":{\"__ndarray__\":\"AAAAAADjqkAAAAAAAJ2tQAAAAAAAGK5AAAAAAABxrUAAAAAAAEarQAAAAACAd6RAAAAAAIBPokA=\",\"dtype\":\"float64\",\"order\":\"little\",\"shape\":[7]}},\"selected\":{\"id\":\"5247\"},\"selection_policy\":{\"id\":\"5246\"}},\"id\":\"5171\",\"type\":\"ColumnDataSource\"},{\"attributes\":{\"line_alpha\":{\"value\":0.2},\"x0\":{\"field\":\"x0\"},\"x1\":{\"field\":\"x1\"},\"y0\":{\"field\":\"y0\"},\"y1\":{\"field\":\"y1\"}},\"id\":\"5175\",\"type\":\"Segment\"},{\"attributes\":{\"fill_alpha\":{\"value\":0.1},\"fill_color\":{\"value\":null},\"hatch_alpha\":{\"value\":0.1},\"line_alpha\":{\"value\":0.1},\"x\":{\"field\":\"index\"},\"y\":{\"field\":\"users\"}},\"id\":\"5166\",\"type\":\"Circle\"},{\"attributes\":{\"x0\":{\"field\":\"x0\"},\"x1\":{\"field\":\"x1\"},\"y0\":{\"field\":\"y0\"},\"y1\":{\"field\":\"y1\"}},\"id\":\"5197\",\"type\":\"Segment\"},{\"attributes\":{\"bottom\":{\"field\":\"bottom\"},\"fill_alpha\":{\"value\":0.2},\"fill_color\":{\"value\":null},\"hatch_alpha\":{\"value\":0.2},\"line_alpha\":{\"value\":0.2},\"top\":{\"field\":\"top\"},\"width\":{\"value\":0.7},\"x\":{\"field\":\"index\"}},\"id\":\"5215\",\"type\":\"VBar\"},{\"attributes\":{},\"id\":\"5162\",\"type\":\"AllLabels\"},{\"attributes\":{\"line_color\":\"#30a2da\",\"line_width\":2,\"x\":{\"field\":\"week_day\"},\"y\":{\"field\":\"users\"}},\"id\":\"5222\",\"type\":\"Line\"},{\"attributes\":{\"source\":{\"id\":\"5187\"}},\"id\":\"5193\",\"type\":\"CDSView\"},{\"attributes\":{},\"id\":\"5161\",\"type\":\"BasicTickFormatter\"},{\"attributes\":{},\"id\":\"5252\",\"type\":\"UnionRenderers\"},{\"attributes\":{\"coordinates\":null,\"data_source\":{\"id\":\"5195\"},\"glyph\":{\"id\":\"5197\"},\"group\":null,\"hover_glyph\":null,\"muted_glyph\":{\"id\":\"5199\"},\"nonselection_glyph\":{\"id\":\"5198\"},\"selection_glyph\":{\"id\":\"5202\"},\"view\":{\"id\":\"5201\"}},\"id\":\"5200\",\"type\":\"GlyphRenderer\"},{\"attributes\":{\"data\":{\"users\":{\"__ndarray__\":\"AAAAAABVpEAAAAAAALmmQAAAAAAAQKdAAAAAAABrpkAAAAAAAH2lQAAAAAAAhp9AAAAAAAB6m0A=\",\"dtype\":\"float64\",\"order\":\"little\",\"shape\":[7]},\"week_day\":[\"1\",\"2\",\"3\",\"4\",\"5\",\"6\",\"7\"]},\"selected\":{\"id\":\"5220\"},\"selection_policy\":{\"id\":\"5258\"}},\"id\":\"5219\",\"type\":\"ColumnDataSource\"},{\"attributes\":{\"source\":{\"id\":\"5219\"}},\"id\":\"5226\",\"type\":\"CDSView\"},{\"attributes\":{},\"id\":\"5220\",\"type\":\"Selection\"},{\"attributes\":{},\"id\":\"5253\",\"type\":\"Selection\"},{\"attributes\":{\"end\":7474.4,\"reset_end\":7474.4,\"reset_start\":-534.4000000000001,\"start\":-534.4000000000001,\"tags\":[[[\"users\",\"users\",null]]]},\"id\":\"5125\",\"type\":\"Range1d\"},{\"attributes\":{\"bottom\":{\"field\":\"bottom\"},\"fill_alpha\":{\"value\":0.1},\"fill_color\":{\"value\":null},\"hatch_alpha\":{\"value\":0.1},\"line_alpha\":{\"value\":0.1},\"top\":{\"field\":\"top\"},\"width\":{\"value\":0.7},\"x\":{\"field\":\"index\"}},\"id\":\"5214\",\"type\":\"VBar\"},{\"attributes\":{\"tools\":[{\"id\":\"5126\"},{\"id\":\"5144\"},{\"id\":\"5145\"},{\"id\":\"5146\"},{\"id\":\"5147\"},{\"id\":\"5148\"}]},\"id\":\"5150\",\"type\":\"Toolbar\"},{\"attributes\":{\"line_alpha\":{\"value\":1.0},\"line_cap\":{\"value\":\"butt\"},\"line_color\":{\"value\":\"black\"},\"line_dash\":{\"value\":[]},\"line_dash_offset\":{\"value\":0},\"line_join\":{\"value\":\"bevel\"},\"line_width\":{\"value\":1},\"x0\":{\"field\":\"x0\"},\"x1\":{\"field\":\"x1\"},\"y0\":{\"field\":\"y0\"},\"y1\":{\"field\":\"y1\"}},\"id\":\"5194\",\"type\":\"Segment\"},{\"attributes\":{\"callback\":null,\"renderers\":[{\"id\":\"5225\"},{\"id\":\"5234\"}],\"tags\":[\"hv_created\"],\"tooltips\":[[\"week_day\",\"@{week_day}\"],[\"users\",\"@{users}\"]]},\"id\":\"5126\",\"type\":\"HoverTool\"},{\"attributes\":{},\"id\":\"5229\",\"type\":\"Selection\"},{\"attributes\":{\"below\":[{\"id\":\"5137\"}],\"center\":[{\"id\":\"5139\"},{\"id\":\"5143\"}],\"height\":300,\"left\":[{\"id\":\"5140\"}],\"margin\":[5,5,5,5],\"min_border_bottom\":10,\"min_border_left\":10,\"min_border_right\":10,\"min_border_top\":10,\"renderers\":[{\"id\":\"5168\"},{\"id\":\"5176\"},{\"id\":\"5184\"},{\"id\":\"5192\"},{\"id\":\"5200\"},{\"id\":\"5208\"},{\"id\":\"5216\"},{\"id\":\"5225\"},{\"id\":\"5234\"}],\"sizing_mode\":\"fixed\",\"title\":{\"id\":\"5129\"},\"toolbar\":{\"id\":\"5150\"},\"x_range\":{\"id\":\"5124\"},\"x_scale\":{\"id\":\"5133\"},\"y_range\":{\"id\":\"5125\"},\"y_scale\":{\"id\":\"5135\"}},\"id\":\"5128\",\"subtype\":\"Figure\",\"type\":\"Plot\"},{\"attributes\":{\"factors\":[\"1\",\"2\",\"3\",\"4\",\"5\",\"6\",\"7\"],\"tags\":[[[\"week_day\",\"week_day\",null]]]},\"id\":\"5124\",\"type\":\"FactorRange\"},{\"attributes\":{\"coordinates\":null,\"data_source\":{\"id\":\"5187\"},\"glyph\":{\"id\":\"5189\"},\"group\":null,\"hover_glyph\":null,\"muted_glyph\":{\"id\":\"5191\"},\"nonselection_glyph\":{\"id\":\"5190\"},\"selection_glyph\":{\"id\":\"5194\"},\"view\":{\"id\":\"5193\"}},\"id\":\"5192\",\"type\":\"GlyphRenderer\"},{\"attributes\":{},\"id\":\"5158\",\"type\":\"CategoricalTickFormatter\"},{\"attributes\":{\"bottom\":{\"field\":\"bottom\"},\"fill_alpha\":{\"value\":0.1},\"fill_color\":{\"value\":null},\"hatch_alpha\":{\"value\":0.1},\"line_alpha\":{\"value\":0.1},\"top\":{\"field\":\"top\"},\"width\":{\"value\":0.7},\"x\":{\"field\":\"index\"}},\"id\":\"5206\",\"type\":\"VBar\"},{\"attributes\":{\"coordinates\":null,\"data_source\":{\"id\":\"5179\"},\"glyph\":{\"id\":\"5181\"},\"group\":null,\"hover_glyph\":null,\"muted_glyph\":{\"id\":\"5183\"},\"nonselection_glyph\":{\"id\":\"5182\"},\"selection_glyph\":{\"id\":\"5186\"},\"view\":{\"id\":\"5185\"}},\"id\":\"5184\",\"type\":\"GlyphRenderer\"}],\"root_ids\":[\"5122\"]},\"title\":\"Bokeh Application\",\"version\":\"2.4.3\"}};\n",
       "    var render_items = [{\"docid\":\"20340bf9-df3b-428d-8bdc-0c12df352afa\",\"root_ids\":[\"5122\"],\"roots\":{\"5122\":\"db468d2c-899e-444e-80eb-823f344ccdad\"}}];\n",
       "    root.Bokeh.embed.embed_items_notebook(docs_json, render_items);\n",
       "  }\n",
       "  if (root.Bokeh !== undefined && root.Bokeh.Panel !== undefined) {\n",
       "    embed_document(root);\n",
       "  } else {\n",
       "    var attempts = 0;\n",
       "    var timer = setInterval(function(root) {\n",
       "      if (root.Bokeh !== undefined && root.Bokeh.Panel !== undefined) {\n",
       "        clearInterval(timer);\n",
       "        embed_document(root);\n",
       "      } else if (document.readyState == \"complete\") {\n",
       "        attempts++;\n",
       "        if (attempts > 200) {\n",
       "          clearInterval(timer);\n",
       "          console.log(\"Bokeh: ERROR: Unable to run BokehJS code because BokehJS library is missing\");\n",
       "        }\n",
       "      }\n",
       "    }, 25, root)\n",
       "  }\n",
       "})(window);</script>"
      ],
      "text/plain": [
       ":Overlay\n",
       "   .BoxWhisker.I  :BoxWhisker   [week_day]   (users)\n",
       "   .Curve.Users   :Curve   [week_day]   (users)\n",
       "   .Scatter.Users :Scatter   [week_day]   (users)"
      ]
     },
     "execution_count": 63,
     "metadata": {
      "application/vnd.holoviews_exec.v0+json": {
       "id": "5122"
      }
     },
     "output_type": "execute_result"
    }
   ],
   "source": [
    "# Static plot\n",
    "# ==============================================================================\n",
    "# fig, ax = plt.subplots(figsize=(7, 3.5))\n",
    "# data['week_day'] = data.index.day_of_week + 1\n",
    "# data.boxplot(column='users', by='week_day', ax=ax)\n",
    "# data.groupby('week_day')['users'].median().plot(style='o-', linewidth=0.8, ax=ax)\n",
    "# ax.set_ylabel('users')\n",
    "# ax.set_title('Week-day visitors')\n",
    "# fig.suptitle('');\n",
    "\n",
    "# Interactive plot\n",
    "# ==============================================================================\n",
    "data['week_day'] = data.index.day_of_week + 1\n",
    "boxplot = data.sort_values('week_day').hvplot.box(\n",
    "              y                  = 'users',\n",
    "              by                 = 'week_day',\n",
    "              legend             = False,\n",
    "              box_fill_color     = None,\n",
    "              outlier_fill_color = None\n",
    "          )\n",
    "lineplot = data.groupby('week_day')['users'].median().hvplot.line(legend=False)\n",
    "scatterplot = data.groupby('week_day')['users'].median().hvplot.scatter(legend=False)\n",
    "layout = boxplot * lineplot * scatterplot\n",
    "layout = layout.opts(\n",
    "             title  = 'Week-day visitors',\n",
    "             ylabel = 'users',\n",
    "             width  = 600\n",
    "         )\n",
    "layout"
   ]
  },
  {
   "cell_type": "markdown",
   "metadata": {},
   "source": [
    "It cannot be determined if there is an annual seasonality since the data does not span two years. However, there is a weekly seasonality, with a reduction in web traffic on weekends."
   ]
  },
  {
   "cell_type": "markdown",
   "metadata": {},
   "source": [
    "**Autocorrelation plots**"
   ]
  },
  {
   "cell_type": "code",
   "execution_count": 64,
   "metadata": {
    "ExecuteTime": {
     "end_time": "2022-09-29T08:15:01.175216Z",
     "start_time": "2022-09-29T08:15:01.102448Z"
    }
   },
   "outputs": [
    {
     "data": {
      "image/png": "[encoded data removed]",
      "text/plain": [
       "<Figure size 504x216 with 1 Axes>"
      ]
     },
     "metadata": {},
     "output_type": "display_data"
    }
   ],
   "source": [
    "# Autocorrelation plot\n",
    "# ==============================================================================\n",
    "fig, ax = plt.subplots(figsize=(7, 3))\n",
    "plot_acf(data.users, ax=ax, lags=50)\n",
    "plt.show()"
   ]
  },
  {
   "cell_type": "code",
   "execution_count": 65,
   "metadata": {
    "ExecuteTime": {
     "end_time": "2022-09-29T08:14:58.072166Z",
     "start_time": "2022-09-29T08:14:57.975771Z"
    }
   },
   "outputs": [
    {
     "data": {
      "image/png": "[encoded data removed]",
      "text/plain": [
       "<Figure size 504x216 with 1 Axes>"
      ]
     },
     "metadata": {},
     "output_type": "display_data"
    }
   ],
   "source": [
    "# Partial autocorrelation plot\n",
    "# ==============================================================================\n",
    "fig, ax = plt.subplots(figsize=(7, 3))\n",
    "plot_pacf(data.users, ax=ax, lags=50)\n",
    "plt.show()"
   ]
  },
  {
   "cell_type": "markdown",
   "metadata": {},
   "source": [
    "Autocorrelation and partial autocorrelation plots show a clear association between the number of users on a day and the previous days. This is an indication that autoregressive models may achive good predictions.\n",
    "<br><br>"
   ]
  },
  {
   "cell_type": "markdown",
   "metadata": {},
   "source": [
    "## Autoregressive model\n",
    "<br>\n",
    "\n",
    "A autoregressive model (`ForecasterAutoreg`) is trained using a linear regressor with Ridge regularization, and a time window of 2 weeks (14 lags). The latter means that, for each prediction, the traffic the website had in the previous 14 days is used as predictors. \n",
    "\n",
    "Ridge models require predictors to be standardized. A `StandardScaler` is added to the forecaster using the argument `transformer_y`. "
   ]
  },
  {
   "cell_type": "markdown",
   "metadata": {},
   "source": [
    "### Training Forecaster"
   ]
  },
  {
   "cell_type": "code",
   "execution_count": 66,
   "metadata": {},
   "outputs": [
    {
     "data": {
      "text/plain": [
       "================= \n",
       "ForecasterAutoreg \n",
       "================= \n",
       "Regressor: Ridge(random_state=123) \n",
       "Lags: [ 1  2  3  4  5  6  7  8  9 10 11 12 13 14] \n",
       "Transformer for y: StandardScaler() \n",
       "Transformer for exog: None \n",
       "Window size: 14 \n",
       "Included exogenous: False \n",
       "Type of exogenous variable: None \n",
       "Exogenous variables names: None \n",
       "Training range: [Timestamp('2020-07-01 00:00:00'), Timestamp('2021-03-30 00:00:00')] \n",
       "Training index type: DatetimeIndex \n",
       "Training index frequency: D \n",
       "Regressor parameters: {'alpha': 1.0, 'copy_X': True, 'fit_intercept': True, 'max_iter': None, 'normalize': 'deprecated', 'positive': False, 'random_state': 123, 'solver': 'auto', 'tol': 0.001} \n",
       "Creation date: 2022-10-01 12:18:49 \n",
       "Last fit date: 2022-10-01 12:18:49 \n",
       "Skforecast version: 0.5.0 \n",
       "Python version: 3.9.13 "
      ]
     },
     "execution_count": 66,
     "metadata": {},
     "output_type": "execute_result"
    }
   ],
   "source": [
    "# Create and train forecaster\n",
    "# ==============================================================================\n",
    "forecaster = ForecasterAutoreg(\n",
    "                 regressor     = Ridge(random_state=123),\n",
    "                 lags          = 14,\n",
    "                 transformer_y = StandardScaler()\n",
    "             )\n",
    "\n",
    "forecaster.fit(y=data_train.users)\n",
    "forecaster"
   ]
  },
  {
   "cell_type": "markdown",
   "metadata": {},
   "source": [
    "### Prediction (*backtest*)\n",
    "<br>\n",
    "\n",
    "In order to evaluate the model, it is trained using data from 2020-07-01 to 2021-06-30 and then, predictions are made seven days at a time, without retraining the model. This type of validation is known as *backtesting*, and can be easily applied with the function `backtesting_forecaster ()`."
   ]
  },
  {
   "cell_type": "code",
   "execution_count": 67,
   "metadata": {},
   "outputs": [
    {
     "name": "stdout",
     "output_type": "stream",
     "text": [
      "Information of backtesting process\n",
      "----------------------------------\n",
      "Number of observations used for initial training: 365\n",
      "Number of observations used for backtesting: 56\n",
      "    Number of folds: 8\n",
      "    Number of steps per fold: 7\n",
      "\n",
      "Data partition in fold: 0\n",
      "    Training:   2020-07-01 00:00:00 -- 2021-06-30 00:00:00  (n=365)\n",
      "    Validation: 2021-07-01 00:00:00 -- 2021-07-07 00:00:00  (n=7)\n",
      "Data partition in fold: 1\n",
      "    Training:   2020-07-01 00:00:00 -- 2021-06-30 00:00:00  (n=365)\n",
      "    Validation: 2021-07-08 00:00:00 -- 2021-07-14 00:00:00  (n=7)\n",
      "Data partition in fold: 2\n",
      "    Training:   2020-07-01 00:00:00 -- 2021-06-30 00:00:00  (n=365)\n",
      "    Validation: 2021-07-15 00:00:00 -- 2021-07-21 00:00:00  (n=7)\n",
      "Data partition in fold: 3\n",
      "    Training:   2020-07-01 00:00:00 -- 2021-06-30 00:00:00  (n=365)\n",
      "    Validation: 2021-07-22 00:00:00 -- 2021-07-28 00:00:00  (n=7)\n",
      "Data partition in fold: 4\n",
      "    Training:   2020-07-01 00:00:00 -- 2021-06-30 00:00:00  (n=365)\n",
      "    Validation: 2021-07-29 00:00:00 -- 2021-08-04 00:00:00  (n=7)\n",
      "Data partition in fold: 5\n",
      "    Training:   2020-07-01 00:00:00 -- 2021-06-30 00:00:00  (n=365)\n",
      "    Validation: 2021-08-05 00:00:00 -- 2021-08-11 00:00:00  (n=7)\n",
      "Data partition in fold: 6\n",
      "    Training:   2020-07-01 00:00:00 -- 2021-06-30 00:00:00  (n=365)\n",
      "    Validation: 2021-08-12 00:00:00 -- 2021-08-18 00:00:00  (n=7)\n",
      "Data partition in fold: 7\n",
      "    Training:   2020-07-01 00:00:00 -- 2021-06-30 00:00:00  (n=365)\n",
      "    Validation: 2021-08-19 00:00:00 -- 2021-08-25 00:00:00  (n=7)\n",
      "\n",
      "Backtest error: 221.01615090909277\n"
     ]
    },
    {
     "data": {
      "text/html": [
       "<div>\n",
       "<style scoped>\n",
       "    .dataframe tbody tr th:only-of-type {\n",
       "        vertical-align: middle;\n",
       "    }\n",
       "\n",
       "    .dataframe tbody tr th {\n",
       "        vertical-align: top;\n",
       "    }\n",
       "\n",
       "    .dataframe thead th {\n",
       "        text-align: right;\n",
       "    }\n",
       "</style>\n",
       "<table border=\"1\" class=\"dataframe\">\n",
       "  <thead>\n",
       "    <tr style=\"text-align: right;\">\n",
       "      <th></th>\n",
       "      <th>pred</th>\n",
       "    </tr>\n",
       "  </thead>\n",
       "  <tbody>\n",
       "    <tr>\n",
       "      <th>2021-07-01</th>\n",
       "      <td>3199.921107</td>\n",
       "    </tr>\n",
       "    <tr>\n",
       "      <th>2021-07-02</th>\n",
       "      <td>2998.675773</td>\n",
       "    </tr>\n",
       "    <tr>\n",
       "      <th>2021-07-03</th>\n",
       "      <td>2256.899442</td>\n",
       "    </tr>\n",
       "    <tr>\n",
       "      <th>2021-07-04</th>\n",
       "      <td>2038.767690</td>\n",
       "    </tr>\n",
       "    <tr>\n",
       "      <th>2021-07-05</th>\n",
       "      <td>2998.858487</td>\n",
       "    </tr>\n",
       "  </tbody>\n",
       "</table>\n",
       "</div>"
      ],
      "text/plain": [
       "                   pred\n",
       "2021-07-01  3199.921107\n",
       "2021-07-02  2998.675773\n",
       "2021-07-03  2256.899442\n",
       "2021-07-04  2038.767690\n",
       "2021-07-05  2998.858487"
      ]
     },
     "execution_count": 67,
     "metadata": {},
     "output_type": "execute_result"
    }
   ],
   "source": [
    "# Backtest\n",
    "# ==============================================================================\n",
    "metric, predictions = backtesting_forecaster(\n",
    "                          forecaster         = forecaster,\n",
    "                          y                  = data.users,\n",
    "                          initial_train_size = len(data.loc[:end_validation]),\n",
    "                          steps              = 7,\n",
    "                          refit              = False,\n",
    "                          fixed_train_size   = False,\n",
    "                          metric             = 'mean_absolute_error',\n",
    "                          verbose            = True\n",
    "                      )\n",
    "\n",
    "print(f'Backtest error: {metric}')\n",
    "predictions.head(5)"
   ]
  },
  {
   "cell_type": "code",
   "execution_count": 68,
   "metadata": {},
   "outputs": [
    {
     "data": {},
     "metadata": {},
     "output_type": "display_data"
    },
    {
     "data": {
      "application/vnd.holoviews_exec.v0+json": "",
      "text/html": [
       "<div id='5395'>\n",
       "  <div class=\"bk-root\" id=\"ac083636-3fe3-447a-8091-6c04f67cb52d\" data-root-id=\"5395\"></div>\n",
       "</div>\n",
       "<script type=\"application/javascript\">(function(root) {\n",
       "  function embed_document(root) {\n",
       "    var docs_json = {\"54a33304-5bea-4a7e-a657-2dd0773434df\":{\"defs\":[{\"extends\":null,\"module\":null,\"name\":\"ReactiveHTML1\",\"overrides\":[],\"properties\":[]},{\"extends\":null,\"module\":null,\"name\":\"FlexBox1\",\"overrides\":[],\"properties\":[{\"default\":\"flex-start\",\"kind\":null,\"name\":\"align_content\"},{\"default\":\"flex-start\",\"kind\":null,\"name\":\"align_items\"},{\"default\":\"row\",\"kind\":null,\"name\":\"flex_direction\"},{\"default\":\"wrap\",\"kind\":null,\"name\":\"flex_wrap\"},{\"default\":\"flex-start\",\"kind\":null,\"name\":\"justify_content\"}]},{\"extends\":null,\"module\":null,\"name\":\"GridStack1\",\"overrides\":[],\"properties\":[{\"default\":\"warn\",\"kind\":null,\"name\":\"mode\"},{\"default\":null,\"kind\":null,\"name\":\"ncols\"},{\"default\":null,\"kind\":null,\"name\":\"nrows\"},{\"default\":true,\"kind\":null,\"name\":\"allow_resize\"},{\"default\":true,\"kind\":null,\"name\":\"allow_drag\"},{\"default\":[],\"kind\":null,\"name\":\"state\"}]},{\"extends\":null,\"module\":null,\"name\":\"click1\",\"overrides\":[],\"properties\":[{\"default\":\"\",\"kind\":null,\"name\":\"terminal_output\"},{\"default\":\"\",\"kind\":null,\"name\":\"debug_name\"},{\"default\":0,\"kind\":null,\"name\":\"clears\"}]},{\"extends\":null,\"module\":null,\"name\":\"NotificationAreaBase1\",\"overrides\":[],\"properties\":[{\"default\":\"bottom-right\",\"kind\":null,\"name\":\"position\"},{\"default\":0,\"kind\":null,\"name\":\"_clear\"}]},{\"extends\":null,\"module\":null,\"name\":\"NotificationArea1\",\"overrides\":[],\"properties\":[{\"default\":[],\"kind\":null,\"name\":\"notifications\"},{\"default\":\"bottom-right\",\"kind\":null,\"name\":\"position\"},{\"default\":0,\"kind\":null,\"name\":\"_clear\"},{\"default\":[{\"background\":\"#ffc107\",\"icon\":{\"className\":\"fas fa-exclamation-triangle\",\"color\":\"white\",\"tagName\":\"i\"},\"type\":\"warning\"},{\"background\":\"#007bff\",\"icon\":{\"className\":\"fas fa-info-circle\",\"color\":\"white\",\"tagName\":\"i\"},\"type\":\"info\"}],\"kind\":null,\"name\":\"types\"}]},{\"extends\":null,\"module\":null,\"name\":\"Notification\",\"overrides\":[],\"properties\":[{\"default\":null,\"kind\":null,\"name\":\"background\"},{\"default\":3000,\"kind\":null,\"name\":\"duration\"},{\"default\":null,\"kind\":null,\"name\":\"icon\"},{\"default\":\"\",\"kind\":null,\"name\":\"message\"},{\"default\":null,\"kind\":null,\"name\":\"notification_type\"},{\"default\":false,\"kind\":null,\"name\":\"_destroyed\"}]},{\"extends\":null,\"module\":null,\"name\":\"TemplateActions1\",\"overrides\":[],\"properties\":[{\"default\":0,\"kind\":null,\"name\":\"open_modal\"},{\"default\":0,\"kind\":null,\"name\":\"close_modal\"}]},{\"extends\":null,\"module\":null,\"name\":\"MaterialTemplateActions1\",\"overrides\":[],\"properties\":[{\"default\":0,\"kind\":null,\"name\":\"open_modal\"},{\"default\":0,\"kind\":null,\"name\":\"close_modal\"}]}],\"roots\":{\"references\":[{\"attributes\":{\"label\":{\"value\":\"test\"},\"renderers\":[{\"id\":\"5444\"}]},\"id\":\"5469\",\"type\":\"LegendItem\"},{\"attributes\":{\"line_alpha\":0.2,\"line_color\":\"#30a2da\",\"line_width\":2,\"x\":{\"field\":\"date\"},\"y\":{\"field\":\"users\"}},\"id\":\"5443\",\"type\":\"Line\"},{\"attributes\":{\"source\":{\"id\":\"5438\"}},\"id\":\"5445\",\"type\":\"CDSView\"},{\"attributes\":{\"months\":[0,4,8]},\"id\":\"5465\",\"type\":\"MonthsTicker\"},{\"attributes\":{\"line_alpha\":0.1,\"line_color\":\"#30a2da\",\"line_width\":2,\"x\":{\"field\":\"date\"},\"y\":{\"field\":\"users\"}},\"id\":\"5442\",\"type\":\"Line\"},{\"attributes\":{},\"id\":\"5453\",\"type\":\"UnionRenderers\"},{\"attributes\":{\"children\":[{\"id\":\"5396\"},{\"id\":\"5401\"},{\"id\":\"5529\"}],\"margin\":[0,0,0,0],\"name\":\"Row08413\",\"tags\":[\"embedded\"]},\"id\":\"5395\",\"type\":\"Row\"},{\"attributes\":{\"callback\":null,\"formatters\":{\"@{date}\":\"datetime\"},\"renderers\":[{\"id\":\"5444\"}],\"tags\":[\"hv_created\"],\"tooltips\":[[\"date\",\"@{date}{%F %T}\"],[\"users\",\"@{users}\"]]},\"id\":\"5399\",\"type\":\"HoverTool\"},{\"attributes\":{\"data\":{\"index\":{\"__ndarray__\":\"AADA1/Wld0IAAIA9SKZ3QgAAQKOapndCAAAACe2md0IAAMBuP6d3QgAAgNSRp3dCAABAOuSnd0IAAACgNqh3QgAAwAWJqHdCAACAa9uod0IAAEDRLal3QgAAADeAqXdCAADAnNKpd0IAAIACJap3QgAAQGh3qndCAAAAzsmqd0IAAMAzHKt3QgAAgJluq3dCAABA/8Crd0IAAABlE6x3QgAAwMplrHdCAACAMLisd0IAAECWCq13QgAAAPxcrXdCAADAYa+td0IAAIDHAa53QgAAQC1UrndCAAAAk6aud0IAAMD4+K53QgAAgF5Lr3dCAABAxJ2vd0IAAAAq8K93QgAAwI9CsHdCAACA9ZSwd0IAAEBb57B3QgAAAME5sXdCAADAJoyxd0IAAICM3rF3QgAAQPIwsndCAAAAWIOyd0IAAMC91bJ3QgAAgCMos3dCAABAiXqzd0IAAADvzLN3QgAAwFQftHdCAACAunG0d0IAAEAgxLR3QgAAAIYWtXdCAADA62i1d0IAAIBRu7V3QgAAQLcNtndCAAAAHWC2d0IAAMCCsrZ3QgAAgOgEt3dCAABATle3d0IAAAC0qbd3Qg==\",\"dtype\":\"float64\",\"order\":\"little\",\"shape\":[56]},\"pred\":{\"__ndarray__\":\"p/xkm9f/qEDtkd7+WW2nQCmipoPMoaFAB+FgHRLbn0AOSZ6Lt22nQOtUShje2KlAFKcUzvngqUCjy/nt4h+mQCkE0djaOKRAxKgfdV+enUAF14tYH82bQBazfjuDYaRANs8Xg2E7p0CmypVN33anQEIlI9chQKdAN61y+406pUBiRLXYB1CfQPHgClBx5JtAPVqgwpEzpUBm4wPoNFWoQO1RvmLMQqlANnOlFm/eokDF/8fh6sSgQLxVQsaTQphAE7WGkW+/lUCdp9gXo6ChQF9pYAOyUKNAXCoScqQZpEDySCIOa3+iQNt5kzR/9aJAOYCRGN+JmkDvKSUnFFmXQNzKcxJmhqJAKI3M8ZYlpECWNglIiL2iQJg7Z7jZRKNADooP/4o/oUC1mO0qM3GXQEiIdAfBP4ZA4CNvwXbhoUBMcV4H8HWkQApPExdnsaRAerxZThTZoUDSf+jnfZCfQJpKWsHYS5hABID/kNoGlEDOwZp4SuqeQBzAB4poOKJAeGCsiCZkokDnB4UeQdmjQD+iXVtysqFAY0ItetfPmkA3yv5OVs+YQAvk4p69nKBASDBWT4Fdo0CfNV68sBOlQA==\",\"dtype\":\"float64\",\"order\":\"little\",\"shape\":[56]}},\"selected\":{\"id\":\"5472\"},\"selection_policy\":{\"id\":\"5488\"}},\"id\":\"5471\",\"type\":\"ColumnDataSource\"},{\"attributes\":{\"end\":1629849600000.0,\"reset_end\":1629849600000.0,\"reset_start\":1625097600000.0,\"start\":1625097600000.0,\"tags\":[[[\"date\",\"date\",null]]]},\"id\":\"5397\",\"type\":\"Range1d\"},{\"attributes\":{\"below\":[{\"id\":\"5410\"}],\"center\":[{\"id\":\"5413\"},{\"id\":\"5417\"},{\"id\":\"5468\"}],\"height\":300,\"left\":[{\"id\":\"5414\"}],\"margin\":[5,5,5,5],\"min_border_bottom\":10,\"min_border_left\":10,\"min_border_right\":10,\"min_border_top\":10,\"renderers\":[{\"id\":\"5444\"},{\"id\":\"5477\"}],\"sizing_mode\":\"fixed\",\"title\":{\"id\":\"5402\"},\"toolbar\":{\"id\":\"5424\"},\"width\":700,\"x_range\":{\"id\":\"5397\"},\"x_scale\":{\"id\":\"5406\"},\"y_range\":{\"id\":\"5398\"},\"y_scale\":{\"id\":\"5408\"}},\"id\":\"5401\",\"subtype\":\"Figure\",\"type\":\"Plot\"},{\"attributes\":{},\"id\":\"5434\",\"type\":\"AllLabels\"},{\"attributes\":{},\"id\":\"5406\",\"type\":\"LinearScale\"},{\"attributes\":{},\"id\":\"5433\",\"type\":\"DatetimeTickFormatter\"},{\"attributes\":{\"axis_label\":\"users\",\"coordinates\":null,\"formatter\":{\"id\":\"5436\"},\"group\":null,\"major_label_policy\":{\"id\":\"5437\"},\"ticker\":{\"id\":\"5415\"}},\"id\":\"5414\",\"type\":\"LinearAxis\"},{\"attributes\":{\"line_color\":\"#fc4f30\",\"line_width\":2,\"x\":{\"field\":\"index\"},\"y\":{\"field\":\"pred\"}},\"id\":\"5504\",\"type\":\"Line\"},{\"attributes\":{\"margin\":[5,5,5,5],\"name\":\"HSpacer08417\",\"sizing_mode\":\"stretch_width\"},\"id\":\"5396\",\"type\":\"Spacer\"},{\"attributes\":{\"coordinates\":null,\"group\":null,\"text\":\"Predictions vs real values\",\"text_color\":\"black\",\"text_font_size\":\"12pt\"},\"id\":\"5402\",\"type\":\"Title\"},{\"attributes\":{\"line_alpha\":0.2,\"line_color\":\"#fc4f30\",\"line_width\":2,\"x\":{\"field\":\"index\"},\"y\":{\"field\":\"pred\"}},\"id\":\"5476\",\"type\":\"Line\"},{\"attributes\":{},\"id\":\"5419\",\"type\":\"PanTool\"},{\"attributes\":{\"line_color\":\"#30a2da\",\"line_width\":2,\"x\":{\"field\":\"date\"},\"y\":{\"field\":\"users\"}},\"id\":\"5470\",\"type\":\"Line\"},{\"attributes\":{\"margin\":[5,5,5,5],\"name\":\"HSpacer08418\",\"sizing_mode\":\"stretch_width\"},\"id\":\"5529\",\"type\":\"Spacer\"},{\"attributes\":{\"axis\":{\"id\":\"5410\"},\"coordinates\":null,\"grid_line_color\":null,\"group\":null,\"ticker\":null},\"id\":\"5413\",\"type\":\"Grid\"},{\"attributes\":{\"axis_label\":\"date\",\"coordinates\":null,\"formatter\":{\"id\":\"5433\"},\"group\":null,\"major_label_policy\":{\"id\":\"5434\"},\"ticker\":{\"id\":\"5411\"}},\"id\":\"5410\",\"type\":\"DatetimeAxis\"},{\"attributes\":{},\"id\":\"5408\",\"type\":\"LinearScale\"},{\"attributes\":{\"bottom_units\":\"screen\",\"coordinates\":null,\"fill_alpha\":0.5,\"fill_color\":\"lightgrey\",\"group\":null,\"left_units\":\"screen\",\"level\":\"overlay\",\"line_alpha\":1.0,\"line_color\":\"black\",\"line_dash\":[4,4],\"line_width\":2,\"right_units\":\"screen\",\"syncable\":false,\"top_units\":\"screen\"},\"id\":\"5423\",\"type\":\"BoxAnnotation\"},{\"attributes\":{},\"id\":\"5439\",\"type\":\"Selection\"},{\"attributes\":{\"num_minor_ticks\":5,\"tickers\":[{\"id\":\"5456\"},{\"id\":\"5457\"},{\"id\":\"5458\"},{\"id\":\"5459\"},{\"id\":\"5460\"},{\"id\":\"5461\"},{\"id\":\"5462\"},{\"id\":\"5463\"},{\"id\":\"5464\"},{\"id\":\"5465\"},{\"id\":\"5466\"},{\"id\":\"5467\"}]},\"id\":\"5411\",\"type\":\"DatetimeTicker\"},{\"attributes\":{\"line_color\":\"#fc4f30\",\"line_width\":2,\"x\":{\"field\":\"index\"},\"y\":{\"field\":\"pred\"}},\"id\":\"5474\",\"type\":\"Line\"},{\"attributes\":{},\"id\":\"5436\",\"type\":\"BasicTickFormatter\"},{\"attributes\":{\"axis\":{\"id\":\"5414\"},\"coordinates\":null,\"dimension\":1,\"grid_line_color\":null,\"group\":null,\"ticker\":null},\"id\":\"5417\",\"type\":\"Grid\"},{\"attributes\":{},\"id\":\"5437\",\"type\":\"AllLabels\"},{\"attributes\":{},\"id\":\"5415\",\"type\":\"BasicTicker\"},{\"attributes\":{\"mantissas\":[1,2,5],\"max_interval\":500.0,\"num_minor_ticks\":0},\"id\":\"5456\",\"type\":\"AdaptiveTicker\"},{\"attributes\":{\"line_alpha\":0.1,\"line_color\":\"#fc4f30\",\"line_width\":2,\"x\":{\"field\":\"index\"},\"y\":{\"field\":\"pred\"}},\"id\":\"5475\",\"type\":\"Line\"},{\"attributes\":{},\"id\":\"5420\",\"type\":\"WheelZoomTool\"},{\"attributes\":{},\"id\":\"5488\",\"type\":\"UnionRenderers\"},{\"attributes\":{\"callback\":null,\"formatters\":{\"@{index}\":\"datetime\"},\"renderers\":[{\"id\":\"5477\"}],\"tags\":[\"hv_created\"],\"tooltips\":[[\"index\",\"@{index}{%F %T}\"],[\"pred\",\"@{pred}\"]]},\"id\":\"5400\",\"type\":\"HoverTool\"},{\"attributes\":{\"base\":60,\"mantissas\":[1,2,5,10,15,20,30],\"max_interval\":1800000.0,\"min_interval\":1000.0,\"num_minor_ticks\":0},\"id\":\"5457\",\"type\":\"AdaptiveTicker\"},{\"attributes\":{\"base\":24,\"mantissas\":[1,2,4,6,8,12],\"max_interval\":43200000.0,\"min_interval\":3600000.0,\"num_minor_ticks\":0},\"id\":\"5458\",\"type\":\"AdaptiveTicker\"},{\"attributes\":{},\"id\":\"5418\",\"type\":\"SaveTool\"},{\"attributes\":{\"months\":[0,2,4,6,8,10]},\"id\":\"5464\",\"type\":\"MonthsTicker\"},{\"attributes\":{\"source\":{\"id\":\"5471\"}},\"id\":\"5478\",\"type\":\"CDSView\"},{\"attributes\":{\"data\":{\"date\":{\"__ndarray__\":\"AADA1/Wld0IAAIA9SKZ3QgAAQKOapndCAAAACe2md0IAAMBuP6d3QgAAgNSRp3dCAABAOuSnd0IAAACgNqh3QgAAwAWJqHdCAACAa9uod0IAAEDRLal3QgAAADeAqXdCAADAnNKpd0IAAIACJap3QgAAQGh3qndCAAAAzsmqd0IAAMAzHKt3QgAAgJluq3dCAABA/8Crd0IAAABlE6x3QgAAwMplrHdCAACAMLisd0IAAECWCq13QgAAAPxcrXdCAADAYa+td0IAAIDHAa53QgAAQC1UrndCAAAAk6aud0IAAMD4+K53QgAAgF5Lr3dCAABAxJ2vd0IAAAAq8K93QgAAwI9CsHdCAACA9ZSwd0IAAEBb57B3QgAAAME5sXdCAADAJoyxd0IAAICM3rF3QgAAQPIwsndCAAAAWIOyd0IAAMC91bJ3QgAAgCMos3dCAABAiXqzd0IAAADvzLN3QgAAwFQftHdCAACAunG0d0IAAEAgxLR3QgAAAIYWtXdCAADA62i1d0IAAIBRu7V3QgAAQLcNtndCAAAAHWC2d0IAAMCCsrZ3QgAAgOgEt3dCAABATle3d0IAAAC0qbd3Qg==\",\"dtype\":\"float64\",\"order\":\"little\",\"shape\":[56]},\"users\":[3123,2870,2020,1828,2722,2991,2976,2834,2609,1832,1462,2563,2897,3057,2697,2391,1730,1434,2455,2508,2563,2447,2543,1714,1415,2407,2587,2314,2465,2088,1535,133,2146,2266,2330,2323,2003,1406,1239,1989,2268,2249,2322,2098,1477,1308,1920,2219,2482,2345,2185,1546,1393,2371,2547,2448]},\"selected\":{\"id\":\"5439\"},\"selection_policy\":{\"id\":\"5453\"}},\"id\":\"5438\",\"type\":\"ColumnDataSource\"},{\"attributes\":{},\"id\":\"5467\",\"type\":\"YearsTicker\"},{\"attributes\":{},\"id\":\"5472\",\"type\":\"Selection\"},{\"attributes\":{\"overlay\":{\"id\":\"5423\"}},\"id\":\"5421\",\"type\":\"BoxZoomTool\"},{\"attributes\":{\"months\":[0,1,2,3,4,5,6,7,8,9,10,11]},\"id\":\"5463\",\"type\":\"MonthsTicker\"},{\"attributes\":{\"days\":[1,15]},\"id\":\"5462\",\"type\":\"DaysTicker\"},{\"attributes\":{},\"id\":\"5422\",\"type\":\"ResetTool\"},{\"attributes\":{\"coordinates\":null,\"data_source\":{\"id\":\"5471\"},\"glyph\":{\"id\":\"5474\"},\"group\":null,\"hover_glyph\":null,\"muted_glyph\":{\"id\":\"5476\"},\"nonselection_glyph\":{\"id\":\"5475\"},\"selection_glyph\":{\"id\":\"5504\"},\"view\":{\"id\":\"5478\"}},\"id\":\"5477\",\"type\":\"GlyphRenderer\"},{\"attributes\":{\"coordinates\":null,\"data_source\":{\"id\":\"5438\"},\"glyph\":{\"id\":\"5441\"},\"group\":null,\"hover_glyph\":null,\"muted_glyph\":{\"id\":\"5443\"},\"nonselection_glyph\":{\"id\":\"5442\"},\"selection_glyph\":{\"id\":\"5470\"},\"view\":{\"id\":\"5445\"}},\"id\":\"5444\",\"type\":\"GlyphRenderer\"},{\"attributes\":{\"days\":[1,2,3,4,5,6,7,8,9,10,11,12,13,14,15,16,17,18,19,20,21,22,23,24,25,26,27,28,29,30,31]},\"id\":\"5459\",\"type\":\"DaysTicker\"},{\"attributes\":{\"end\":3630.4366904353474,\"reset_end\":3630.4366904353474,\"reset_start\":-184.94879003957703,\"start\":-184.94879003957703,\"tags\":[[[\"users\",\"users\",null]]]},\"id\":\"5398\",\"type\":\"Range1d\"},{\"attributes\":{\"label\":{\"value\":\"prediction\"},\"renderers\":[{\"id\":\"5477\"}]},\"id\":\"5503\",\"type\":\"LegendItem\"},{\"attributes\":{\"days\":[1,4,7,10,13,16,19,22,25,28]},\"id\":\"5460\",\"type\":\"DaysTicker\"},{\"attributes\":{\"days\":[1,8,15,22]},\"id\":\"5461\",\"type\":\"DaysTicker\"},{\"attributes\":{\"click_policy\":\"mute\",\"coordinates\":null,\"group\":null,\"items\":[{\"id\":\"5469\"},{\"id\":\"5503\"}],\"location\":\"bottom_left\"},\"id\":\"5468\",\"type\":\"Legend\"},{\"attributes\":{\"months\":[0,6]},\"id\":\"5466\",\"type\":\"MonthsTicker\"},{\"attributes\":{\"tools\":[{\"id\":\"5399\"},{\"id\":\"5400\"},{\"id\":\"5418\"},{\"id\":\"5419\"},{\"id\":\"5420\"},{\"id\":\"5421\"},{\"id\":\"5422\"}]},\"id\":\"5424\",\"type\":\"Toolbar\"},{\"attributes\":{\"line_color\":\"#30a2da\",\"line_width\":2,\"x\":{\"field\":\"date\"},\"y\":{\"field\":\"users\"}},\"id\":\"5441\",\"type\":\"Line\"}],\"root_ids\":[\"5395\"]},\"title\":\"Bokeh Application\",\"version\":\"2.4.3\"}};\n",
       "    var render_items = [{\"docid\":\"54a33304-5bea-4a7e-a657-2dd0773434df\",\"root_ids\":[\"5395\"],\"roots\":{\"5395\":\"ac083636-3fe3-447a-8091-6c04f67cb52d\"}}];\n",
       "    root.Bokeh.embed.embed_items_notebook(docs_json, render_items);\n",
       "  }\n",
       "  if (root.Bokeh !== undefined && root.Bokeh.Panel !== undefined) {\n",
       "    embed_document(root);\n",
       "  } else {\n",
       "    var attempts = 0;\n",
       "    var timer = setInterval(function(root) {\n",
       "      if (root.Bokeh !== undefined && root.Bokeh.Panel !== undefined) {\n",
       "        clearInterval(timer);\n",
       "        embed_document(root);\n",
       "      } else if (document.readyState == \"complete\") {\n",
       "        attempts++;\n",
       "        if (attempts > 200) {\n",
       "          clearInterval(timer);\n",
       "          console.log(\"Bokeh: ERROR: Unable to run BokehJS code because BokehJS library is missing\");\n",
       "        }\n",
       "      }\n",
       "    }, 25, root)\n",
       "  }\n",
       "})(window);</script>"
      ],
      "text/plain": [
       ":Overlay\n",
       "   .Curve.Test       :Curve   [date]   (users)\n",
       "   .Curve.Prediction :Curve   [index]   (pred)"
      ]
     },
     "execution_count": 68,
     "metadata": {
      "application/vnd.holoviews_exec.v0+json": {
       "id": "5395"
      }
     },
     "output_type": "execute_result"
    }
   ],
   "source": [
    "# Plot\n",
    "# ==============================================================================\n",
    "# fig, ax = plt.subplots(figsize=(10, 3))\n",
    "# data_test.loc[predictions.index, 'users'].plot(ax=ax, linewidth=2, label='test')\n",
    "# predictions.plot(linewidth=2, label='prediction', ax=ax)\n",
    "# ax.set_title('Predictions vs real values')\n",
    "# ax.legend();\n",
    "\n",
    "plot_test = data_test.users.hvplot.line(label='test')\n",
    "plot_predict = predictions.hvplot.line(label='prediction')\n",
    "layout = plot_test * plot_predict\n",
    "layout = layout.opts(\n",
    "             title = 'Predictions vs real values',\n",
    "             ylabel = 'users',\n",
    "             legend_position = 'bottom_left'\n",
    "         )\n",
    "layout"
   ]
  },
  {
   "cell_type": "markdown",
   "metadata": {},
   "source": [
    "### Tuning the hyper-parameters\n",
    "<br>\n",
    "\n",
    "In the previous section, the first 14 lags have been used as predictors and a linear model with the  default hyperparameters as regressor. However, there is no reason why these values should be the most appropriate.\n",
    "\n",
    "In order to identify the best combination of lags and hyperparameters, a grid search is used. This process consists of training a model with each combination of hyperparameters-lags, and evaluating its predictive capacity using backtesting. It is important to evaluate the models using only the validation data and not include the test data."
   ]
  },
  {
   "cell_type": "code",
   "execution_count": 69,
   "metadata": {},
   "outputs": [
    {
     "name": "stdout",
     "output_type": "stream",
     "text": [
      "Number of models compared: 40.\n"
     ]
    },
    {
     "name": "stderr",
     "output_type": "stream",
     "text": [
      "loop lags_grid:   0%|                                               | 0/4 [00:00<?, ?it/s]\n",
      "loop param_grid:   0%|                                             | 0/10 [00:00<?, ?it/s]\u001b[A\n",
      "loop param_grid:  10%|███▋                                 | 1/10 [00:00<00:00,  9.04it/s]\u001b[A\n",
      "loop param_grid:  40%|██████████████▊                      | 4/10 [00:00<00:00, 17.90it/s]\u001b[A\n",
      "loop param_grid:  70%|█████████████████████████▉           | 7/10 [00:00<00:00, 21.13it/s]\u001b[A\n",
      "loop param_grid: 100%|████████████████████████████████████| 10/10 [00:00<00:00, 20.76it/s]\u001b[A\n",
      "loop lags_grid:  25%|█████████▊                             | 1/4 [00:00<00:01,  1.90it/s]\u001b[A\n",
      "loop param_grid:   0%|                                             | 0/10 [00:00<?, ?it/s]\u001b[A\n",
      "loop param_grid:  30%|███████████                          | 3/10 [00:00<00:00, 21.24it/s]\u001b[A\n",
      "loop param_grid:  60%|██████████████████████▏              | 6/10 [00:00<00:00, 20.31it/s]\u001b[A\n",
      "loop param_grid:  90%|█████████████████████████████████▎   | 9/10 [00:00<00:00, 19.91it/s]\u001b[A\n",
      "loop lags_grid:  50%|███████████████████▌                   | 2/4 [00:01<00:01,  1.89it/s]\u001b[A\n",
      "loop param_grid:   0%|                                             | 0/10 [00:00<?, ?it/s]\u001b[A\n",
      "loop param_grid:  30%|███████████                          | 3/10 [00:00<00:00, 24.34it/s]\u001b[A\n",
      "loop param_grid:  60%|██████████████████████▏              | 6/10 [00:00<00:00, 25.48it/s]\u001b[A\n",
      "loop param_grid:  90%|█████████████████████████████████▎   | 9/10 [00:00<00:00, 20.99it/s]\u001b[A\n",
      "loop lags_grid:  75%|█████████████████████████████▎         | 3/4 [00:01<00:00,  1.98it/s]\u001b[A\n",
      "loop param_grid:   0%|                                             | 0/10 [00:00<?, ?it/s]\u001b[A\n",
      "loop param_grid:  30%|███████████                          | 3/10 [00:00<00:00, 21.16it/s]\u001b[A\n",
      "loop param_grid:  60%|██████████████████████▏              | 6/10 [00:00<00:00, 22.49it/s]\u001b[A\n",
      "loop param_grid:  90%|█████████████████████████████████▎   | 9/10 [00:00<00:00, 23.19it/s]\u001b[A\n",
      "loop lags_grid: 100%|███████████████████████████████████████| 4/4 [00:02<00:00,  1.99it/s]\u001b[A"
     ]
    },
    {
     "name": "stdout",
     "output_type": "stream",
     "text": [
      "`Forecaster` refitted using the best-found lags and parameters, and the whole data set: \n",
      "  Lags: [ 1  2  3  4  5  6  7  8  9 10 11 12 13 14] \n",
      "  Parameters: {'alpha': 2.154434690031882}\n",
      "  Backtesting metric: 214.79167668434636\n",
      "\n"
     ]
    },
    {
     "name": "stderr",
     "output_type": "stream",
     "text": [
      "\n"
     ]
    }
   ],
   "source": [
    "# Grid search of hyper-parameters\n",
    "# ==============================================================================\n",
    "forecaster = ForecasterAutoreg(\n",
    "                 regressor     = Ridge(random_state=123),\n",
    "                 lags          = 14,\n",
    "                 transformer_y = StandardScaler()\n",
    "             )\n",
    "\n",
    "# Regressor's hyper-parameters\n",
    "param_grid = {'alpha': np.logspace(-3, 3, 10)}\n",
    "\n",
    "# Lags used as predictors\n",
    "lags_grid = [7, 14, 21, [7, 14, 21]]\n",
    "\n",
    "grid_results = grid_search_forecaster(\n",
    "                   forecaster         = forecaster,\n",
    "                   y                  = data.loc[:end_validation, 'users'],\n",
    "                   param_grid         = param_grid,\n",
    "                   lags_grid          = lags_grid,\n",
    "                   steps              = 7,\n",
    "                   metric             = 'mean_absolute_error',\n",
    "                   refit              = False,\n",
    "                   initial_train_size = len(data_train),\n",
    "                   fixed_train_size   = False,\n",
    "                   return_best        = True,\n",
    "                   verbose            = False\n",
    "               )"
   ]
  },
  {
   "cell_type": "code",
   "execution_count": 70,
   "metadata": {},
   "outputs": [
    {
     "data": {
      "text/html": [
       "<div>\n",
       "<style scoped>\n",
       "    .dataframe tbody tr th:only-of-type {\n",
       "        vertical-align: middle;\n",
       "    }\n",
       "\n",
       "    .dataframe tbody tr th {\n",
       "        vertical-align: top;\n",
       "    }\n",
       "\n",
       "    .dataframe thead th {\n",
       "        text-align: right;\n",
       "    }\n",
       "</style>\n",
       "<table border=\"1\" class=\"dataframe\">\n",
       "  <thead>\n",
       "    <tr style=\"text-align: right;\">\n",
       "      <th></th>\n",
       "      <th>lags</th>\n",
       "      <th>params</th>\n",
       "      <th>mean_absolute_error</th>\n",
       "      <th>alpha</th>\n",
       "    </tr>\n",
       "  </thead>\n",
       "  <tbody>\n",
       "    <tr>\n",
       "      <th>15</th>\n",
       "      <td>[1, 2, 3, 4, 5, 6, 7, 8, 9, 10, 11, 12, 13, 14]</td>\n",
       "      <td>{'alpha': 2.154434690031882}</td>\n",
       "      <td>214.791677</td>\n",
       "      <td>2.154435</td>\n",
       "    </tr>\n",
       "    <tr>\n",
       "      <th>14</th>\n",
       "      <td>[1, 2, 3, 4, 5, 6, 7, 8, 9, 10, 11, 12, 13, 14]</td>\n",
       "      <td>{'alpha': 0.46415888336127775}</td>\n",
       "      <td>216.551409</td>\n",
       "      <td>0.464159</td>\n",
       "    </tr>\n",
       "    <tr>\n",
       "      <th>13</th>\n",
       "      <td>[1, 2, 3, 4, 5, 6, 7, 8, 9, 10, 11, 12, 13, 14]</td>\n",
       "      <td>{'alpha': 0.1}</td>\n",
       "      <td>217.770757</td>\n",
       "      <td>0.100000</td>\n",
       "    </tr>\n",
       "    <tr>\n",
       "      <th>12</th>\n",
       "      <td>[1, 2, 3, 4, 5, 6, 7, 8, 9, 10, 11, 12, 13, 14]</td>\n",
       "      <td>{'alpha': 0.021544346900318832}</td>\n",
       "      <td>218.127429</td>\n",
       "      <td>0.021544</td>\n",
       "    </tr>\n",
       "    <tr>\n",
       "      <th>11</th>\n",
       "      <td>[1, 2, 3, 4, 5, 6, 7, 8, 9, 10, 11, 12, 13, 14]</td>\n",
       "      <td>{'alpha': 0.004641588833612777}</td>\n",
       "      <td>218.206475</td>\n",
       "      <td>0.004642</td>\n",
       "    </tr>\n",
       "    <tr>\n",
       "      <th>10</th>\n",
       "      <td>[1, 2, 3, 4, 5, 6, 7, 8, 9, 10, 11, 12, 13, 14]</td>\n",
       "      <td>{'alpha': 0.001}</td>\n",
       "      <td>218.223609</td>\n",
       "      <td>0.001000</td>\n",
       "    </tr>\n",
       "    <tr>\n",
       "      <th>26</th>\n",
       "      <td>[1, 2, 3, 4, 5, 6, 7, 8, 9, 10, 11, 12, 13, 14...</td>\n",
       "      <td>{'alpha': 10.0}</td>\n",
       "      <td>219.315042</td>\n",
       "      <td>10.000000</td>\n",
       "    </tr>\n",
       "    <tr>\n",
       "      <th>16</th>\n",
       "      <td>[1, 2, 3, 4, 5, 6, 7, 8, 9, 10, 11, 12, 13, 14]</td>\n",
       "      <td>{'alpha': 10.0}</td>\n",
       "      <td>220.932702</td>\n",
       "      <td>10.000000</td>\n",
       "    </tr>\n",
       "    <tr>\n",
       "      <th>25</th>\n",
       "      <td>[1, 2, 3, 4, 5, 6, 7, 8, 9, 10, 11, 12, 13, 14...</td>\n",
       "      <td>{'alpha': 2.154434690031882}</td>\n",
       "      <td>221.500069</td>\n",
       "      <td>2.154435</td>\n",
       "    </tr>\n",
       "    <tr>\n",
       "      <th>24</th>\n",
       "      <td>[1, 2, 3, 4, 5, 6, 7, 8, 9, 10, 11, 12, 13, 14...</td>\n",
       "      <td>{'alpha': 0.46415888336127775}</td>\n",
       "      <td>226.720683</td>\n",
       "      <td>0.464159</td>\n",
       "    </tr>\n",
       "    <tr>\n",
       "      <th>23</th>\n",
       "      <td>[1, 2, 3, 4, 5, 6, 7, 8, 9, 10, 11, 12, 13, 14...</td>\n",
       "      <td>{'alpha': 0.1}</td>\n",
       "      <td>228.504088</td>\n",
       "      <td>0.100000</td>\n",
       "    </tr>\n",
       "    <tr>\n",
       "      <th>22</th>\n",
       "      <td>[1, 2, 3, 4, 5, 6, 7, 8, 9, 10, 11, 12, 13, 14...</td>\n",
       "      <td>{'alpha': 0.021544346900318832}</td>\n",
       "      <td>228.932389</td>\n",
       "      <td>0.021544</td>\n",
       "    </tr>\n",
       "    <tr>\n",
       "      <th>21</th>\n",
       "      <td>[1, 2, 3, 4, 5, 6, 7, 8, 9, 10, 11, 12, 13, 14...</td>\n",
       "      <td>{'alpha': 0.004641588833612777}</td>\n",
       "      <td>229.027052</td>\n",
       "      <td>0.004642</td>\n",
       "    </tr>\n",
       "    <tr>\n",
       "      <th>20</th>\n",
       "      <td>[1, 2, 3, 4, 5, 6, 7, 8, 9, 10, 11, 12, 13, 14...</td>\n",
       "      <td>{'alpha': 0.001}</td>\n",
       "      <td>229.047501</td>\n",
       "      <td>0.001000</td>\n",
       "    </tr>\n",
       "    <tr>\n",
       "      <th>27</th>\n",
       "      <td>[1, 2, 3, 4, 5, 6, 7, 8, 9, 10, 11, 12, 13, 14...</td>\n",
       "      <td>{'alpha': 46.41588833612773}</td>\n",
       "      <td>264.280223</td>\n",
       "      <td>46.415888</td>\n",
       "    </tr>\n",
       "    <tr>\n",
       "      <th>17</th>\n",
       "      <td>[1, 2, 3, 4, 5, 6, 7, 8, 9, 10, 11, 12, 13, 14]</td>\n",
       "      <td>{'alpha': 46.41588833612773}</td>\n",
       "      <td>268.130029</td>\n",
       "      <td>46.415888</td>\n",
       "    </tr>\n",
       "    <tr>\n",
       "      <th>36</th>\n",
       "      <td>[7, 14, 21]</td>\n",
       "      <td>{'alpha': 10.0}</td>\n",
       "      <td>306.715172</td>\n",
       "      <td>10.000000</td>\n",
       "    </tr>\n",
       "    <tr>\n",
       "      <th>35</th>\n",
       "      <td>[7, 14, 21]</td>\n",
       "      <td>{'alpha': 2.154434690031882}</td>\n",
       "      <td>309.779174</td>\n",
       "      <td>2.154435</td>\n",
       "    </tr>\n",
       "    <tr>\n",
       "      <th>34</th>\n",
       "      <td>[7, 14, 21]</td>\n",
       "      <td>{'alpha': 0.46415888336127775}</td>\n",
       "      <td>311.495164</td>\n",
       "      <td>0.464159</td>\n",
       "    </tr>\n",
       "    <tr>\n",
       "      <th>33</th>\n",
       "      <td>[7, 14, 21]</td>\n",
       "      <td>{'alpha': 0.1}</td>\n",
       "      <td>311.922564</td>\n",
       "      <td>0.100000</td>\n",
       "    </tr>\n",
       "    <tr>\n",
       "      <th>32</th>\n",
       "      <td>[7, 14, 21]</td>\n",
       "      <td>{'alpha': 0.021544346900318832}</td>\n",
       "      <td>312.015912</td>\n",
       "      <td>0.021544</td>\n",
       "    </tr>\n",
       "    <tr>\n",
       "      <th>31</th>\n",
       "      <td>[7, 14, 21]</td>\n",
       "      <td>{'alpha': 0.004641588833612777}</td>\n",
       "      <td>312.036084</td>\n",
       "      <td>0.004642</td>\n",
       "    </tr>\n",
       "    <tr>\n",
       "      <th>30</th>\n",
       "      <td>[7, 14, 21]</td>\n",
       "      <td>{'alpha': 0.001}</td>\n",
       "      <td>312.040432</td>\n",
       "      <td>0.001000</td>\n",
       "    </tr>\n",
       "    <tr>\n",
       "      <th>37</th>\n",
       "      <td>[7, 14, 21]</td>\n",
       "      <td>{'alpha': 46.41588833612773}</td>\n",
       "      <td>312.744552</td>\n",
       "      <td>46.415888</td>\n",
       "    </tr>\n",
       "    <tr>\n",
       "      <th>0</th>\n",
       "      <td>[1, 2, 3, 4, 5, 6, 7]</td>\n",
       "      <td>{'alpha': 0.001}</td>\n",
       "      <td>348.244718</td>\n",
       "      <td>0.001000</td>\n",
       "    </tr>\n",
       "    <tr>\n",
       "      <th>1</th>\n",
       "      <td>[1, 2, 3, 4, 5, 6, 7]</td>\n",
       "      <td>{'alpha': 0.004641588833612777}</td>\n",
       "      <td>348.255632</td>\n",
       "      <td>0.004642</td>\n",
       "    </tr>\n",
       "    <tr>\n",
       "      <th>2</th>\n",
       "      <td>[1, 2, 3, 4, 5, 6, 7]</td>\n",
       "      <td>{'alpha': 0.021544346900318832}</td>\n",
       "      <td>348.306044</td>\n",
       "      <td>0.021544</td>\n",
       "    </tr>\n",
       "    <tr>\n",
       "      <th>3</th>\n",
       "      <td>[1, 2, 3, 4, 5, 6, 7]</td>\n",
       "      <td>{'alpha': 0.1}</td>\n",
       "      <td>348.534861</td>\n",
       "      <td>0.100000</td>\n",
       "    </tr>\n",
       "    <tr>\n",
       "      <th>4</th>\n",
       "      <td>[1, 2, 3, 4, 5, 6, 7]</td>\n",
       "      <td>{'alpha': 0.46415888336127775}</td>\n",
       "      <td>349.493389</td>\n",
       "      <td>0.464159</td>\n",
       "    </tr>\n",
       "    <tr>\n",
       "      <th>5</th>\n",
       "      <td>[1, 2, 3, 4, 5, 6, 7]</td>\n",
       "      <td>{'alpha': 2.154434690031882}</td>\n",
       "      <td>352.738878</td>\n",
       "      <td>2.154435</td>\n",
       "    </tr>\n",
       "    <tr>\n",
       "      <th>6</th>\n",
       "      <td>[1, 2, 3, 4, 5, 6, 7]</td>\n",
       "      <td>{'alpha': 10.0}</td>\n",
       "      <td>358.887438</td>\n",
       "      <td>10.000000</td>\n",
       "    </tr>\n",
       "    <tr>\n",
       "      <th>28</th>\n",
       "      <td>[1, 2, 3, 4, 5, 6, 7, 8, 9, 10, 11, 12, 13, 14...</td>\n",
       "      <td>{'alpha': 215.44346900318823}</td>\n",
       "      <td>360.361480</td>\n",
       "      <td>215.443469</td>\n",
       "    </tr>\n",
       "    <tr>\n",
       "      <th>7</th>\n",
       "      <td>[1, 2, 3, 4, 5, 6, 7]</td>\n",
       "      <td>{'alpha': 46.41588833612773}</td>\n",
       "      <td>364.992222</td>\n",
       "      <td>46.415888</td>\n",
       "    </tr>\n",
       "    <tr>\n",
       "      <th>38</th>\n",
       "      <td>[7, 14, 21]</td>\n",
       "      <td>{'alpha': 215.44346900318823}</td>\n",
       "      <td>371.251008</td>\n",
       "      <td>215.443469</td>\n",
       "    </tr>\n",
       "    <tr>\n",
       "      <th>18</th>\n",
       "      <td>[1, 2, 3, 4, 5, 6, 7, 8, 9, 10, 11, 12, 13, 14]</td>\n",
       "      <td>{'alpha': 215.44346900318823}</td>\n",
       "      <td>383.138529</td>\n",
       "      <td>215.443469</td>\n",
       "    </tr>\n",
       "    <tr>\n",
       "      <th>8</th>\n",
       "      <td>[1, 2, 3, 4, 5, 6, 7]</td>\n",
       "      <td>{'alpha': 215.44346900318823}</td>\n",
       "      <td>434.235273</td>\n",
       "      <td>215.443469</td>\n",
       "    </tr>\n",
       "    <tr>\n",
       "      <th>29</th>\n",
       "      <td>[1, 2, 3, 4, 5, 6, 7, 8, 9, 10, 11, 12, 13, 14...</td>\n",
       "      <td>{'alpha': 1000.0}</td>\n",
       "      <td>501.700629</td>\n",
       "      <td>1000.000000</td>\n",
       "    </tr>\n",
       "    <tr>\n",
       "      <th>39</th>\n",
       "      <td>[7, 14, 21]</td>\n",
       "      <td>{'alpha': 1000.0}</td>\n",
       "      <td>522.093855</td>\n",
       "      <td>1000.000000</td>\n",
       "    </tr>\n",
       "    <tr>\n",
       "      <th>19</th>\n",
       "      <td>[1, 2, 3, 4, 5, 6, 7, 8, 9, 10, 11, 12, 13, 14]</td>\n",
       "      <td>{'alpha': 1000.0}</td>\n",
       "      <td>523.065962</td>\n",
       "      <td>1000.000000</td>\n",
       "    </tr>\n",
       "    <tr>\n",
       "      <th>9</th>\n",
       "      <td>[1, 2, 3, 4, 5, 6, 7]</td>\n",
       "      <td>{'alpha': 1000.0}</td>\n",
       "      <td>564.140982</td>\n",
       "      <td>1000.000000</td>\n",
       "    </tr>\n",
       "  </tbody>\n",
       "</table>\n",
       "</div>"
      ],
      "text/plain": [
       "                                                 lags  \\\n",
       "15    [1, 2, 3, 4, 5, 6, 7, 8, 9, 10, 11, 12, 13, 14]   \n",
       "14    [1, 2, 3, 4, 5, 6, 7, 8, 9, 10, 11, 12, 13, 14]   \n",
       "13    [1, 2, 3, 4, 5, 6, 7, 8, 9, 10, 11, 12, 13, 14]   \n",
       "12    [1, 2, 3, 4, 5, 6, 7, 8, 9, 10, 11, 12, 13, 14]   \n",
       "11    [1, 2, 3, 4, 5, 6, 7, 8, 9, 10, 11, 12, 13, 14]   \n",
       "10    [1, 2, 3, 4, 5, 6, 7, 8, 9, 10, 11, 12, 13, 14]   \n",
       "26  [1, 2, 3, 4, 5, 6, 7, 8, 9, 10, 11, 12, 13, 14...   \n",
       "16    [1, 2, 3, 4, 5, 6, 7, 8, 9, 10, 11, 12, 13, 14]   \n",
       "25  [1, 2, 3, 4, 5, 6, 7, 8, 9, 10, 11, 12, 13, 14...   \n",
       "24  [1, 2, 3, 4, 5, 6, 7, 8, 9, 10, 11, 12, 13, 14...   \n",
       "23  [1, 2, 3, 4, 5, 6, 7, 8, 9, 10, 11, 12, 13, 14...   \n",
       "22  [1, 2, 3, 4, 5, 6, 7, 8, 9, 10, 11, 12, 13, 14...   \n",
       "21  [1, 2, 3, 4, 5, 6, 7, 8, 9, 10, 11, 12, 13, 14...   \n",
       "20  [1, 2, 3, 4, 5, 6, 7, 8, 9, 10, 11, 12, 13, 14...   \n",
       "27  [1, 2, 3, 4, 5, 6, 7, 8, 9, 10, 11, 12, 13, 14...   \n",
       "17    [1, 2, 3, 4, 5, 6, 7, 8, 9, 10, 11, 12, 13, 14]   \n",
       "36                                        [7, 14, 21]   \n",
       "35                                        [7, 14, 21]   \n",
       "34                                        [7, 14, 21]   \n",
       "33                                        [7, 14, 21]   \n",
       "32                                        [7, 14, 21]   \n",
       "31                                        [7, 14, 21]   \n",
       "30                                        [7, 14, 21]   \n",
       "37                                        [7, 14, 21]   \n",
       "0                               [1, 2, 3, 4, 5, 6, 7]   \n",
       "1                               [1, 2, 3, 4, 5, 6, 7]   \n",
       "2                               [1, 2, 3, 4, 5, 6, 7]   \n",
       "3                               [1, 2, 3, 4, 5, 6, 7]   \n",
       "4                               [1, 2, 3, 4, 5, 6, 7]   \n",
       "5                               [1, 2, 3, 4, 5, 6, 7]   \n",
       "6                               [1, 2, 3, 4, 5, 6, 7]   \n",
       "28  [1, 2, 3, 4, 5, 6, 7, 8, 9, 10, 11, 12, 13, 14...   \n",
       "7                               [1, 2, 3, 4, 5, 6, 7]   \n",
       "38                                        [7, 14, 21]   \n",
       "18    [1, 2, 3, 4, 5, 6, 7, 8, 9, 10, 11, 12, 13, 14]   \n",
       "8                               [1, 2, 3, 4, 5, 6, 7]   \n",
       "29  [1, 2, 3, 4, 5, 6, 7, 8, 9, 10, 11, 12, 13, 14...   \n",
       "39                                        [7, 14, 21]   \n",
       "19    [1, 2, 3, 4, 5, 6, 7, 8, 9, 10, 11, 12, 13, 14]   \n",
       "9                               [1, 2, 3, 4, 5, 6, 7]   \n",
       "\n",
       "                             params  mean_absolute_error        alpha  \n",
       "15     {'alpha': 2.154434690031882}           214.791677     2.154435  \n",
       "14   {'alpha': 0.46415888336127775}           216.551409     0.464159  \n",
       "13                   {'alpha': 0.1}           217.770757     0.100000  \n",
       "12  {'alpha': 0.021544346900318832}           218.127429     0.021544  \n",
       "11  {'alpha': 0.004641588833612777}           218.206475     0.004642  \n",
       "10                 {'alpha': 0.001}           218.223609     0.001000  \n",
       "26                  {'alpha': 10.0}           219.315042    10.000000  \n",
       "16                  {'alpha': 10.0}           220.932702    10.000000  \n",
       "25     {'alpha': 2.154434690031882}           221.500069     2.154435  \n",
       "24   {'alpha': 0.46415888336127775}           226.720683     0.464159  \n",
       "23                   {'alpha': 0.1}           228.504088     0.100000  \n",
       "22  {'alpha': 0.021544346900318832}           228.932389     0.021544  \n",
       "21  {'alpha': 0.004641588833612777}           229.027052     0.004642  \n",
       "20                 {'alpha': 0.001}           229.047501     0.001000  \n",
       "27     {'alpha': 46.41588833612773}           264.280223    46.415888  \n",
       "17     {'alpha': 46.41588833612773}           268.130029    46.415888  \n",
       "36                  {'alpha': 10.0}           306.715172    10.000000  \n",
       "35     {'alpha': 2.154434690031882}           309.779174     2.154435  \n",
       "34   {'alpha': 0.46415888336127775}           311.495164     0.464159  \n",
       "33                   {'alpha': 0.1}           311.922564     0.100000  \n",
       "32  {'alpha': 0.021544346900318832}           312.015912     0.021544  \n",
       "31  {'alpha': 0.004641588833612777}           312.036084     0.004642  \n",
       "30                 {'alpha': 0.001}           312.040432     0.001000  \n",
       "37     {'alpha': 46.41588833612773}           312.744552    46.415888  \n",
       "0                  {'alpha': 0.001}           348.244718     0.001000  \n",
       "1   {'alpha': 0.004641588833612777}           348.255632     0.004642  \n",
       "2   {'alpha': 0.021544346900318832}           348.306044     0.021544  \n",
       "3                    {'alpha': 0.1}           348.534861     0.100000  \n",
       "4    {'alpha': 0.46415888336127775}           349.493389     0.464159  \n",
       "5      {'alpha': 2.154434690031882}           352.738878     2.154435  \n",
       "6                   {'alpha': 10.0}           358.887438    10.000000  \n",
       "28    {'alpha': 215.44346900318823}           360.361480   215.443469  \n",
       "7      {'alpha': 46.41588833612773}           364.992222    46.415888  \n",
       "38    {'alpha': 215.44346900318823}           371.251008   215.443469  \n",
       "18    {'alpha': 215.44346900318823}           383.138529   215.443469  \n",
       "8     {'alpha': 215.44346900318823}           434.235273   215.443469  \n",
       "29                {'alpha': 1000.0}           501.700629  1000.000000  \n",
       "39                {'alpha': 1000.0}           522.093855  1000.000000  \n",
       "19                {'alpha': 1000.0}           523.065962  1000.000000  \n",
       "9                 {'alpha': 1000.0}           564.140982  1000.000000  "
      ]
     },
     "execution_count": 70,
     "metadata": {},
     "output_type": "execute_result"
    }
   ],
   "source": [
    "# Grid search results\n",
    "# ==============================================================================\n",
    "grid_results"
   ]
  },
  {
   "cell_type": "markdown",
   "metadata": {},
   "source": [
    "The best results are obtained using lags [1 2 3 4 5 6 7 8 9 10 11 12 13 14] and a configuration of *Ridge {'alpha': 2.154}*. By indicating `return_best = True` in the `grid_search_forecaster` function, at the end of the process, the forecaster object is automatically retrained with the best configuration and the whole data set."
   ]
  },
  {
   "cell_type": "code",
   "execution_count": 71,
   "metadata": {},
   "outputs": [
    {
     "data": {
      "text/plain": [
       "================= \n",
       "ForecasterAutoreg \n",
       "================= \n",
       "Regressor: Ridge(alpha=2.154434690031882, random_state=123) \n",
       "Lags: [ 1  2  3  4  5  6  7  8  9 10 11 12 13 14] \n",
       "Transformer for y: StandardScaler() \n",
       "Transformer for exog: None \n",
       "Window size: 14 \n",
       "Included exogenous: False \n",
       "Type of exogenous variable: None \n",
       "Exogenous variables names: None \n",
       "Training range: [Timestamp('2020-07-01 00:00:00'), Timestamp('2021-06-30 00:00:00')] \n",
       "Training index type: DatetimeIndex \n",
       "Training index frequency: D \n",
       "Regressor parameters: {'alpha': 2.154434690031882, 'copy_X': True, 'fit_intercept': True, 'max_iter': None, 'normalize': 'deprecated', 'positive': False, 'random_state': 123, 'solver': 'auto', 'tol': 0.001} \n",
       "Creation date: 2022-10-01 12:18:49 \n",
       "Last fit date: 2022-10-01 12:18:52 \n",
       "Skforecast version: 0.5.0 \n",
       "Python version: 3.9.13 "
      ]
     },
     "execution_count": 71,
     "metadata": {},
     "output_type": "execute_result"
    }
   ],
   "source": [
    "forecaster"
   ]
  },
  {
   "cell_type": "markdown",
   "metadata": {},
   "source": [
    "Once the best model has been identified and trained (using both, the training and the validation set), its prediction error is calculated with the test set."
   ]
  },
  {
   "cell_type": "code",
   "execution_count": 72,
   "metadata": {},
   "outputs": [
    {
     "name": "stdout",
     "output_type": "stream",
     "text": [
      "Information of backtesting process\n",
      "----------------------------------\n",
      "Number of observations used for initial training: 365\n",
      "Number of observations used for backtesting: 56\n",
      "    Number of folds: 8\n",
      "    Number of steps per fold: 7\n",
      "\n",
      "Data partition in fold: 0\n",
      "    Training:   2020-07-01 00:00:00 -- 2021-06-30 00:00:00  (n=365)\n",
      "    Validation: 2021-07-01 00:00:00 -- 2021-07-07 00:00:00  (n=7)\n",
      "Data partition in fold: 1\n",
      "    Training:   2020-07-01 00:00:00 -- 2021-06-30 00:00:00  (n=365)\n",
      "    Validation: 2021-07-08 00:00:00 -- 2021-07-14 00:00:00  (n=7)\n",
      "Data partition in fold: 2\n",
      "    Training:   2020-07-01 00:00:00 -- 2021-06-30 00:00:00  (n=365)\n",
      "    Validation: 2021-07-15 00:00:00 -- 2021-07-21 00:00:00  (n=7)\n",
      "Data partition in fold: 3\n",
      "    Training:   2020-07-01 00:00:00 -- 2021-06-30 00:00:00  (n=365)\n",
      "    Validation: 2021-07-22 00:00:00 -- 2021-07-28 00:00:00  (n=7)\n",
      "Data partition in fold: 4\n",
      "    Training:   2020-07-01 00:00:00 -- 2021-06-30 00:00:00  (n=365)\n",
      "    Validation: 2021-07-29 00:00:00 -- 2021-08-04 00:00:00  (n=7)\n",
      "Data partition in fold: 5\n",
      "    Training:   2020-07-01 00:00:00 -- 2021-06-30 00:00:00  (n=365)\n",
      "    Validation: 2021-08-05 00:00:00 -- 2021-08-11 00:00:00  (n=7)\n",
      "Data partition in fold: 6\n",
      "    Training:   2020-07-01 00:00:00 -- 2021-06-30 00:00:00  (n=365)\n",
      "    Validation: 2021-08-12 00:00:00 -- 2021-08-18 00:00:00  (n=7)\n",
      "Data partition in fold: 7\n",
      "    Training:   2020-07-01 00:00:00 -- 2021-06-30 00:00:00  (n=365)\n",
      "    Validation: 2021-08-19 00:00:00 -- 2021-08-25 00:00:00  (n=7)\n",
      "\n",
      "Backtest error using test data: 216.35610241344267\n"
     ]
    }
   ],
   "source": [
    "# Backtest final model using test data\n",
    "# ==============================================================================\n",
    "metric, predictions = backtesting_forecaster(\n",
    "                          forecaster         = forecaster,\n",
    "                          y                  = data.users,\n",
    "                          initial_train_size = len(data.loc[:end_validation, :]),\n",
    "                          steps              = 7,\n",
    "                          refit              = False,\n",
    "                          fixed_train_size   = False,\n",
    "                          metric             = 'mean_absolute_error',\n",
    "                          verbose            = True\n",
    "                      )\n",
    "\n",
    "print(f'Backtest error using test data: {metric}')"
   ]
  },
  {
   "cell_type": "markdown",
   "metadata": {},
   "source": [
    "After optimizing lags and hyperparameters, it has been possible to reduce the prediction error.\n",
    "<br><br>"
   ]
  },
  {
   "cell_type": "markdown",
   "metadata": {},
   "source": [
    "## ARIMA model\n",
    "<br>\n",
    "\n",
    "To train an ARIMA model, the [SARIMAX](https://www.statsmodels.org/stable/examples/notebooks/generated/statespace_sarimax_stata.html) class from statsmodels can be used. A SARIMAX model is equivalent to an ARIMA model if the argument *seasonal_order = (0, 0, 0, 0)* and *trend = 'c'*. Using the fuction `backtesting_sarimax_statsmodels()` from the `model_selection_statsmodels` module is it very easy to evaluate how the model would have behaved."
   ]
  },
  {
   "cell_type": "code",
   "execution_count": 73,
   "metadata": {},
   "outputs": [
    {
     "name": "stdout",
     "output_type": "stream",
     "text": [
      "Number of observations used for training: 365\n",
      "Number of observations used for backtesting: 56\n",
      "    Number of folds: 8\n",
      "    Number of steps per fold: 7\n",
      "Backtest error: 212.0310574381383\n"
     ]
    },
    {
     "data": {
      "text/html": [
       "<div>\n",
       "<style scoped>\n",
       "    .dataframe tbody tr th:only-of-type {\n",
       "        vertical-align: middle;\n",
       "    }\n",
       "\n",
       "    .dataframe tbody tr th {\n",
       "        vertical-align: top;\n",
       "    }\n",
       "\n",
       "    .dataframe thead th {\n",
       "        text-align: right;\n",
       "    }\n",
       "</style>\n",
       "<table border=\"1\" class=\"dataframe\">\n",
       "  <thead>\n",
       "    <tr style=\"text-align: right;\">\n",
       "      <th></th>\n",
       "      <th>predicted_mean</th>\n",
       "      <th>lower users</th>\n",
       "      <th>upper users</th>\n",
       "    </tr>\n",
       "  </thead>\n",
       "  <tbody>\n",
       "    <tr>\n",
       "      <th>2021-07-01</th>\n",
       "      <td>3167.085128</td>\n",
       "      <td>2647.153980</td>\n",
       "      <td>3687.016276</td>\n",
       "    </tr>\n",
       "    <tr>\n",
       "      <th>2021-07-02</th>\n",
       "      <td>2978.461443</td>\n",
       "      <td>2265.072869</td>\n",
       "      <td>3691.850016</td>\n",
       "    </tr>\n",
       "    <tr>\n",
       "      <th>2021-07-03</th>\n",
       "      <td>2235.021529</td>\n",
       "      <td>1442.052137</td>\n",
       "      <td>3027.990921</td>\n",
       "    </tr>\n",
       "    <tr>\n",
       "      <th>2021-07-04</th>\n",
       "      <td>1997.450190</td>\n",
       "      <td>1128.958272</td>\n",
       "      <td>2865.942108</td>\n",
       "    </tr>\n",
       "    <tr>\n",
       "      <th>2021-07-05</th>\n",
       "      <td>2974.884228</td>\n",
       "      <td>2040.209516</td>\n",
       "      <td>3909.558939</td>\n",
       "    </tr>\n",
       "  </tbody>\n",
       "</table>\n",
       "</div>"
      ],
      "text/plain": [
       "            predicted_mean  lower users  upper users\n",
       "2021-07-01     3167.085128  2647.153980  3687.016276\n",
       "2021-07-02     2978.461443  2265.072869  3691.850016\n",
       "2021-07-03     2235.021529  1442.052137  3027.990921\n",
       "2021-07-04     1997.450190  1128.958272  2865.942108\n",
       "2021-07-05     2974.884228  2040.209516  3909.558939"
      ]
     },
     "execution_count": 73,
     "metadata": {},
     "output_type": "execute_result"
    }
   ],
   "source": [
    "# Backtest ARIMA\n",
    "# ==============================================================================\n",
    "metric, predictions = backtesting_sarimax(\n",
    "                          y                  = data.users,\n",
    "                          order              = (14, 0, 0),\n",
    "                          initial_train_size = len(data.loc[:end_validation]),\n",
    "                          steps              = 7,\n",
    "                          metric             = 'mean_absolute_error',\n",
    "                          refit              = False,\n",
    "                          fixed_train_size   = False,\n",
    "                          verbose            = True,\n",
    "                          fit_kwargs         = {'maxiter': 500, 'disp': 0}\n",
    "                      )\n",
    "\n",
    "print(f'Backtest error: {metric}')\n",
    "predictions.head(5)"
   ]
  },
  {
   "cell_type": "code",
   "execution_count": 74,
   "metadata": {},
   "outputs": [
    {
     "data": {},
     "metadata": {},
     "output_type": "display_data"
    },
    {
     "data": {
      "application/vnd.holoviews_exec.v0+json": "",
      "text/html": [
       "<div id='5651'>\n",
       "  <div class=\"bk-root\" id=\"daeef4e4-2446-45e3-b093-88ccce72149e\" data-root-id=\"5651\"></div>\n",
       "</div>\n",
       "<script type=\"application/javascript\">(function(root) {\n",
       "  function embed_document(root) {\n",
       "    var docs_json = {\"ed17175d-6438-4e93-b2d9-2494c9dc01c8\":{\"defs\":[{\"extends\":null,\"module\":null,\"name\":\"ReactiveHTML1\",\"overrides\":[],\"properties\":[]},{\"extends\":null,\"module\":null,\"name\":\"FlexBox1\",\"overrides\":[],\"properties\":[{\"default\":\"flex-start\",\"kind\":null,\"name\":\"align_content\"},{\"default\":\"flex-start\",\"kind\":null,\"name\":\"align_items\"},{\"default\":\"row\",\"kind\":null,\"name\":\"flex_direction\"},{\"default\":\"wrap\",\"kind\":null,\"name\":\"flex_wrap\"},{\"default\":\"flex-start\",\"kind\":null,\"name\":\"justify_content\"}]},{\"extends\":null,\"module\":null,\"name\":\"GridStack1\",\"overrides\":[],\"properties\":[{\"default\":\"warn\",\"kind\":null,\"name\":\"mode\"},{\"default\":null,\"kind\":null,\"name\":\"ncols\"},{\"default\":null,\"kind\":null,\"name\":\"nrows\"},{\"default\":true,\"kind\":null,\"name\":\"allow_resize\"},{\"default\":true,\"kind\":null,\"name\":\"allow_drag\"},{\"default\":[],\"kind\":null,\"name\":\"state\"}]},{\"extends\":null,\"module\":null,\"name\":\"click1\",\"overrides\":[],\"properties\":[{\"default\":\"\",\"kind\":null,\"name\":\"terminal_output\"},{\"default\":\"\",\"kind\":null,\"name\":\"debug_name\"},{\"default\":0,\"kind\":null,\"name\":\"clears\"}]},{\"extends\":null,\"module\":null,\"name\":\"NotificationAreaBase1\",\"overrides\":[],\"properties\":[{\"default\":\"bottom-right\",\"kind\":null,\"name\":\"position\"},{\"default\":0,\"kind\":null,\"name\":\"_clear\"}]},{\"extends\":null,\"module\":null,\"name\":\"NotificationArea1\",\"overrides\":[],\"properties\":[{\"default\":[],\"kind\":null,\"name\":\"notifications\"},{\"default\":\"bottom-right\",\"kind\":null,\"name\":\"position\"},{\"default\":0,\"kind\":null,\"name\":\"_clear\"},{\"default\":[{\"background\":\"#ffc107\",\"icon\":{\"className\":\"fas fa-exclamation-triangle\",\"color\":\"white\",\"tagName\":\"i\"},\"type\":\"warning\"},{\"background\":\"#007bff\",\"icon\":{\"className\":\"fas fa-info-circle\",\"color\":\"white\",\"tagName\":\"i\"},\"type\":\"info\"}],\"kind\":null,\"name\":\"types\"}]},{\"extends\":null,\"module\":null,\"name\":\"Notification\",\"overrides\":[],\"properties\":[{\"default\":null,\"kind\":null,\"name\":\"background\"},{\"default\":3000,\"kind\":null,\"name\":\"duration\"},{\"default\":null,\"kind\":null,\"name\":\"icon\"},{\"default\":\"\",\"kind\":null,\"name\":\"message\"},{\"default\":null,\"kind\":null,\"name\":\"notification_type\"},{\"default\":false,\"kind\":null,\"name\":\"_destroyed\"}]},{\"extends\":null,\"module\":null,\"name\":\"TemplateActions1\",\"overrides\":[],\"properties\":[{\"default\":0,\"kind\":null,\"name\":\"open_modal\"},{\"default\":0,\"kind\":null,\"name\":\"close_modal\"}]},{\"extends\":null,\"module\":null,\"name\":\"MaterialTemplateActions1\",\"overrides\":[],\"properties\":[{\"default\":0,\"kind\":null,\"name\":\"open_modal\"},{\"default\":0,\"kind\":null,\"name\":\"close_modal\"}]}],\"roots\":{\"references\":[{\"attributes\":{},\"id\":\"5692\",\"type\":\"BasicTickFormatter\"},{\"attributes\":{\"data\":{\"date\":{\"__ndarray__\":\"AADA1/Wld0IAAIA9SKZ3QgAAQKOapndCAAAACe2md0IAAMBuP6d3QgAAgNSRp3dCAABAOuSnd0IAAACgNqh3QgAAwAWJqHdCAACAa9uod0IAAEDRLal3QgAAADeAqXdCAADAnNKpd0IAAIACJap3QgAAQGh3qndCAAAAzsmqd0IAAMAzHKt3QgAAgJluq3dCAABA/8Crd0IAAABlE6x3QgAAwMplrHdCAACAMLisd0IAAECWCq13QgAAAPxcrXdCAADAYa+td0IAAIDHAa53QgAAQC1UrndCAAAAk6aud0IAAMD4+K53QgAAgF5Lr3dCAABAxJ2vd0IAAAAq8K93QgAAwI9CsHdCAACA9ZSwd0IAAEBb57B3QgAAAME5sXdCAADAJoyxd0IAAICM3rF3QgAAQPIwsndCAAAAWIOyd0IAAMC91bJ3QgAAgCMos3dCAABAiXqzd0IAAADvzLN3QgAAwFQftHdCAACAunG0d0IAAEAgxLR3QgAAAIYWtXdCAADA62i1d0IAAIBRu7V3QgAAQLcNtndCAAAAHWC2d0IAAMCCsrZ3QgAAgOgEt3dCAABATle3d0IAAAC0qbd3Qg==\",\"dtype\":\"float64\",\"order\":\"little\",\"shape\":[56]},\"users\":[3123,2870,2020,1828,2722,2991,2976,2834,2609,1832,1462,2563,2897,3057,2697,2391,1730,1434,2455,2508,2563,2447,2543,1714,1415,2407,2587,2314,2465,2088,1535,133,2146,2266,2330,2323,2003,1406,1239,1989,2268,2249,2322,2098,1477,1308,1920,2219,2482,2345,2185,1546,1393,2371,2547,2448]},\"selected\":{\"id\":\"5695\"},\"selection_policy\":{\"id\":\"5709\"}},\"id\":\"5694\",\"type\":\"ColumnDataSource\"},{\"attributes\":{\"line_alpha\":0.1,\"line_color\":\"#30a2da\",\"line_width\":2,\"x\":{\"field\":\"date\"},\"y\":{\"field\":\"users\"}},\"id\":\"5698\",\"type\":\"Line\"},{\"attributes\":{\"line_color\":\"#fc4f30\",\"line_width\":2,\"x\":{\"field\":\"index\"},\"y\":{\"field\":\"predicted_mean\"}},\"id\":\"5730\",\"type\":\"Line\"},{\"attributes\":{},\"id\":\"5675\",\"type\":\"PanTool\"},{\"attributes\":{\"coordinates\":null,\"data_source\":{\"id\":\"5694\"},\"glyph\":{\"id\":\"5697\"},\"group\":null,\"hover_glyph\":null,\"muted_glyph\":{\"id\":\"5699\"},\"nonselection_glyph\":{\"id\":\"5698\"},\"selection_glyph\":{\"id\":\"5726\"},\"view\":{\"id\":\"5701\"}},\"id\":\"5700\",\"type\":\"GlyphRenderer\"},{\"attributes\":{},\"id\":\"5690\",\"type\":\"AllLabels\"},{\"attributes\":{\"axis_label\":\"users\",\"coordinates\":null,\"formatter\":{\"id\":\"5692\"},\"group\":null,\"major_label_policy\":{\"id\":\"5693\"},\"ticker\":{\"id\":\"5671\"}},\"id\":\"5670\",\"type\":\"LinearAxis\"},{\"attributes\":{\"children\":[{\"id\":\"5652\"},{\"id\":\"5657\"},{\"id\":\"5785\"}],\"margin\":[0,0,0,0],\"name\":\"Row08667\",\"tags\":[\"embedded\"]},\"id\":\"5651\",\"type\":\"Row\"},{\"attributes\":{\"line_alpha\":0.1,\"line_color\":\"#fc4f30\",\"line_width\":2,\"x\":{\"field\":\"index\"},\"y\":{\"field\":\"predicted_mean\"}},\"id\":\"5731\",\"type\":\"Line\"},{\"attributes\":{\"axis\":{\"id\":\"5670\"},\"coordinates\":null,\"dimension\":1,\"grid_line_color\":null,\"group\":null,\"ticker\":null},\"id\":\"5673\",\"type\":\"Grid\"},{\"attributes\":{\"click_policy\":\"mute\",\"coordinates\":null,\"group\":null,\"items\":[{\"id\":\"5725\"},{\"id\":\"5759\"}],\"location\":\"bottom_left\"},\"id\":\"5724\",\"type\":\"Legend\"},{\"attributes\":{\"callback\":null,\"formatters\":{\"@{date}\":\"datetime\"},\"renderers\":[{\"id\":\"5700\"}],\"tags\":[\"hv_created\"],\"tooltips\":[[\"date\",\"@{date}{%F %T}\"],[\"users\",\"@{users}\"]]},\"id\":\"5655\",\"type\":\"HoverTool\"},{\"attributes\":{\"margin\":[5,5,5,5],\"name\":\"HSpacer08671\",\"sizing_mode\":\"stretch_width\"},\"id\":\"5652\",\"type\":\"Spacer\"},{\"attributes\":{},\"id\":\"5671\",\"type\":\"BasicTicker\"},{\"attributes\":{},\"id\":\"5676\",\"type\":\"WheelZoomTool\"},{\"attributes\":{\"source\":{\"id\":\"5727\"}},\"id\":\"5734\",\"type\":\"CDSView\"},{\"attributes\":{\"line_color\":\"#fc4f30\",\"line_width\":2,\"x\":{\"field\":\"index\"},\"y\":{\"field\":\"predicted_mean\"}},\"id\":\"5760\",\"type\":\"Line\"},{\"attributes\":{\"data\":{\"index\":{\"__ndarray__\":\"AADA1/Wld0IAAIA9SKZ3QgAAQKOapndCAAAACe2md0IAAMBuP6d3QgAAgNSRp3dCAABAOuSnd0IAAACgNqh3QgAAwAWJqHdCAACAa9uod0IAAEDRLal3QgAAADeAqXdCAADAnNKpd0IAAIACJap3QgAAQGh3qndCAAAAzsmqd0IAAMAzHKt3QgAAgJluq3dCAABA/8Crd0IAAABlE6x3QgAAwMplrHdCAACAMLisd0IAAECWCq13QgAAAPxcrXdCAADAYa+td0IAAIDHAa53QgAAQC1UrndCAAAAk6aud0IAAMD4+K53QgAAgF5Lr3dCAABAxJ2vd0IAAAAq8K93QgAAwI9CsHdCAACA9ZSwd0IAAEBb57B3QgAAAME5sXdCAADAJoyxd0IAAICM3rF3QgAAQPIwsndCAAAAWIOyd0IAAMC91bJ3QgAAgCMos3dCAABAiXqzd0IAAADvzLN3QgAAwFQftHdCAACAunG0d0IAAEAgxLR3QgAAAIYWtXdCAADA62i1d0IAAIBRu7V3QgAAQLcNtndCAAAAHWC2d0IAAMCCsrZ3QgAAgOgEt3dCAABATle3d0IAAAC0qbd3Qg==\",\"dtype\":\"float64\",\"order\":\"little\",\"shape\":[56]},\"predicted_mean\":{\"__ndarray__\":\"6+DilSu+qEDngjhC7ESnQHTx2gULdqFAkE6Y/sw1n0DI+X25xD2nQCKJKWmjZKlA6VK3PV1sqUCWpJ2IhdulQMApEnCc8qNArt08NdjznEBSqQMeHuWaQATPDjDj4KNAoj6HZKKDpkAVUpnLza6mQPU5bwDoK6dANge1oHgIpUCgWW7W8s+eQAW5GxzQ7JpA9q7bBhe/pEAuNxrk2o+nQLh5xKugeKhAovSruRt7okD4G33x7DWgQEjR2iAz/5ZAAG6OCuLxk0AmWeBsrLygQO+efxJ1CqJAQYVKVXrCokBd1ffAg+yhQLmYyJq/XqJAYryXrKHzmEBgUTYvGEuVQFO/PtqcdKFAm+vBBOrSokAzRup3LzqhQEmHzDfUh6NA7eDi3jTqoEB/14cxdyCXQGwTM7nDm4JA9uHaL79ZoUCZGoCUpz6jQFxgWBJqgKNAhy41nqoboUCWOvpQFYqdQNKvhXA8QpZA4fBLlviGkUD//vyGK+ObQKCCrw51haBAeW16SGpwoEBxui9QC6ajQJHWeWXHMqFAFSi3aZGDmUBzsoxn7xOXQF0fqjsaIJ9AQK4MrFANokC6vLVvBqSjQA==\",\"dtype\":\"float64\",\"order\":\"little\",\"shape\":[56]}},\"selected\":{\"id\":\"5728\"},\"selection_policy\":{\"id\":\"5744\"}},\"id\":\"5727\",\"type\":\"ColumnDataSource\"},{\"attributes\":{},\"id\":\"5728\",\"type\":\"Selection\"},{\"attributes\":{\"end\":3566.300322629698,\"reset_end\":3566.300322629698,\"reset_start\":-179.1182111481544,\"start\":-179.1182111481544,\"tags\":[[[\"users\",\"users\",null]]]},\"id\":\"5654\",\"type\":\"Range1d\"},{\"attributes\":{},\"id\":\"5674\",\"type\":\"SaveTool\"},{\"attributes\":{\"mantissas\":[1,2,5],\"max_interval\":500.0,\"num_minor_ticks\":0},\"id\":\"5712\",\"type\":\"AdaptiveTicker\"},{\"attributes\":{\"coordinates\":null,\"data_source\":{\"id\":\"5727\"},\"glyph\":{\"id\":\"5730\"},\"group\":null,\"hover_glyph\":null,\"muted_glyph\":{\"id\":\"5732\"},\"nonselection_glyph\":{\"id\":\"5731\"},\"selection_glyph\":{\"id\":\"5760\"},\"view\":{\"id\":\"5734\"}},\"id\":\"5733\",\"type\":\"GlyphRenderer\"},{\"attributes\":{\"months\":[0,1,2,3,4,5,6,7,8,9,10,11]},\"id\":\"5719\",\"type\":\"MonthsTicker\"},{\"attributes\":{\"overlay\":{\"id\":\"5679\"}},\"id\":\"5677\",\"type\":\"BoxZoomTool\"},{\"attributes\":{\"label\":{\"value\":\"test\"},\"renderers\":[{\"id\":\"5700\"}]},\"id\":\"5725\",\"type\":\"LegendItem\"},{\"attributes\":{\"label\":{\"value\":\"prediction\"},\"renderers\":[{\"id\":\"5733\"}]},\"id\":\"5759\",\"type\":\"LegendItem\"},{\"attributes\":{},\"id\":\"5678\",\"type\":\"ResetTool\"},{\"attributes\":{\"days\":[1,4,7,10,13,16,19,22,25,28]},\"id\":\"5716\",\"type\":\"DaysTicker\"},{\"attributes\":{},\"id\":\"5723\",\"type\":\"YearsTicker\"},{\"attributes\":{\"months\":[0,6]},\"id\":\"5722\",\"type\":\"MonthsTicker\"},{\"attributes\":{\"bottom_units\":\"screen\",\"coordinates\":null,\"fill_alpha\":0.5,\"fill_color\":\"lightgrey\",\"group\":null,\"left_units\":\"screen\",\"level\":\"overlay\",\"line_alpha\":1.0,\"line_color\":\"black\",\"line_dash\":[4,4],\"line_width\":2,\"right_units\":\"screen\",\"syncable\":false,\"top_units\":\"screen\"},\"id\":\"5679\",\"type\":\"BoxAnnotation\"},{\"attributes\":{\"months\":[0,2,4,6,8,10]},\"id\":\"5720\",\"type\":\"MonthsTicker\"},{\"attributes\":{\"margin\":[5,5,5,5],\"name\":\"HSpacer08672\",\"sizing_mode\":\"stretch_width\"},\"id\":\"5785\",\"type\":\"Spacer\"},{\"attributes\":{},\"id\":\"5689\",\"type\":\"DatetimeTickFormatter\"},{\"attributes\":{},\"id\":\"5744\",\"type\":\"UnionRenderers\"},{\"attributes\":{\"months\":[0,4,8]},\"id\":\"5721\",\"type\":\"MonthsTicker\"},{\"attributes\":{\"base\":24,\"mantissas\":[1,2,4,6,8,12],\"max_interval\":43200000.0,\"min_interval\":3600000.0,\"num_minor_ticks\":0},\"id\":\"5714\",\"type\":\"AdaptiveTicker\"},{\"attributes\":{\"tools\":[{\"id\":\"5655\"},{\"id\":\"5656\"},{\"id\":\"5674\"},{\"id\":\"5675\"},{\"id\":\"5676\"},{\"id\":\"5677\"},{\"id\":\"5678\"}]},\"id\":\"5680\",\"type\":\"Toolbar\"},{\"attributes\":{\"callback\":null,\"formatters\":{\"@{index}\":\"datetime\"},\"renderers\":[{\"id\":\"5733\"}],\"tags\":[\"hv_created\"],\"tooltips\":[[\"index\",\"@{index}{%F %T}\"],[\"predicted_mean\",\"@{predicted_mean}\"]]},\"id\":\"5656\",\"type\":\"HoverTool\"},{\"attributes\":{},\"id\":\"5695\",\"type\":\"Selection\"},{\"attributes\":{},\"id\":\"5693\",\"type\":\"AllLabels\"},{\"attributes\":{\"end\":1629849600000.0,\"reset_end\":1629849600000.0,\"reset_start\":1625097600000.0,\"start\":1625097600000.0,\"tags\":[[[\"date\",\"date\",null]]]},\"id\":\"5653\",\"type\":\"Range1d\"},{\"attributes\":{\"line_color\":\"#30a2da\",\"line_width\":2,\"x\":{\"field\":\"date\"},\"y\":{\"field\":\"users\"}},\"id\":\"5697\",\"type\":\"Line\"},{\"attributes\":{},\"id\":\"5709\",\"type\":\"UnionRenderers\"},{\"attributes\":{\"days\":[1,2,3,4,5,6,7,8,9,10,11,12,13,14,15,16,17,18,19,20,21,22,23,24,25,26,27,28,29,30,31]},\"id\":\"5715\",\"type\":\"DaysTicker\"},{\"attributes\":{\"below\":[{\"id\":\"5666\"}],\"center\":[{\"id\":\"5669\"},{\"id\":\"5673\"},{\"id\":\"5724\"}],\"height\":300,\"left\":[{\"id\":\"5670\"}],\"margin\":[5,5,5,5],\"min_border_bottom\":10,\"min_border_left\":10,\"min_border_right\":10,\"min_border_top\":10,\"renderers\":[{\"id\":\"5700\"},{\"id\":\"5733\"}],\"sizing_mode\":\"fixed\",\"title\":{\"id\":\"5658\"},\"toolbar\":{\"id\":\"5680\"},\"width\":700,\"x_range\":{\"id\":\"5653\"},\"x_scale\":{\"id\":\"5662\"},\"y_range\":{\"id\":\"5654\"},\"y_scale\":{\"id\":\"5664\"}},\"id\":\"5657\",\"subtype\":\"Figure\",\"type\":\"Plot\"},{\"attributes\":{},\"id\":\"5662\",\"type\":\"LinearScale\"},{\"attributes\":{},\"id\":\"5664\",\"type\":\"LinearScale\"},{\"attributes\":{\"source\":{\"id\":\"5694\"}},\"id\":\"5701\",\"type\":\"CDSView\"},{\"attributes\":{\"line_alpha\":0.2,\"line_color\":\"#30a2da\",\"line_width\":2,\"x\":{\"field\":\"date\"},\"y\":{\"field\":\"users\"}},\"id\":\"5699\",\"type\":\"Line\"},{\"attributes\":{\"days\":[1,8,15,22]},\"id\":\"5717\",\"type\":\"DaysTicker\"},{\"attributes\":{\"line_alpha\":0.2,\"line_color\":\"#fc4f30\",\"line_width\":2,\"x\":{\"field\":\"index\"},\"y\":{\"field\":\"predicted_mean\"}},\"id\":\"5732\",\"type\":\"Line\"},{\"attributes\":{\"coordinates\":null,\"group\":null,\"text\":\"Predictions (ARIMA) vs real values\",\"text_color\":\"black\",\"text_font_size\":\"12pt\"},\"id\":\"5658\",\"type\":\"Title\"},{\"attributes\":{\"days\":[1,15]},\"id\":\"5718\",\"type\":\"DaysTicker\"},{\"attributes\":{\"base\":60,\"mantissas\":[1,2,5,10,15,20,30],\"max_interval\":1800000.0,\"min_interval\":1000.0,\"num_minor_ticks\":0},\"id\":\"5713\",\"type\":\"AdaptiveTicker\"},{\"attributes\":{\"num_minor_ticks\":5,\"tickers\":[{\"id\":\"5712\"},{\"id\":\"5713\"},{\"id\":\"5714\"},{\"id\":\"5715\"},{\"id\":\"5716\"},{\"id\":\"5717\"},{\"id\":\"5718\"},{\"id\":\"5719\"},{\"id\":\"5720\"},{\"id\":\"5721\"},{\"id\":\"5722\"},{\"id\":\"5723\"}]},\"id\":\"5667\",\"type\":\"DatetimeTicker\"},{\"attributes\":{\"line_color\":\"#30a2da\",\"line_width\":2,\"x\":{\"field\":\"date\"},\"y\":{\"field\":\"users\"}},\"id\":\"5726\",\"type\":\"Line\"},{\"attributes\":{\"axis\":{\"id\":\"5666\"},\"coordinates\":null,\"grid_line_color\":null,\"group\":null,\"ticker\":null},\"id\":\"5669\",\"type\":\"Grid\"},{\"attributes\":{\"axis_label\":\"date\",\"coordinates\":null,\"formatter\":{\"id\":\"5689\"},\"group\":null,\"major_label_policy\":{\"id\":\"5690\"},\"ticker\":{\"id\":\"5667\"}},\"id\":\"5666\",\"type\":\"DatetimeAxis\"}],\"root_ids\":[\"5651\"]},\"title\":\"Bokeh Application\",\"version\":\"2.4.3\"}};\n",
       "    var render_items = [{\"docid\":\"ed17175d-6438-4e93-b2d9-2494c9dc01c8\",\"root_ids\":[\"5651\"],\"roots\":{\"5651\":\"daeef4e4-2446-45e3-b093-88ccce72149e\"}}];\n",
       "    root.Bokeh.embed.embed_items_notebook(docs_json, render_items);\n",
       "  }\n",
       "  if (root.Bokeh !== undefined && root.Bokeh.Panel !== undefined) {\n",
       "    embed_document(root);\n",
       "  } else {\n",
       "    var attempts = 0;\n",
       "    var timer = setInterval(function(root) {\n",
       "      if (root.Bokeh !== undefined && root.Bokeh.Panel !== undefined) {\n",
       "        clearInterval(timer);\n",
       "        embed_document(root);\n",
       "      } else if (document.readyState == \"complete\") {\n",
       "        attempts++;\n",
       "        if (attempts > 200) {\n",
       "          clearInterval(timer);\n",
       "          console.log(\"Bokeh: ERROR: Unable to run BokehJS code because BokehJS library is missing\");\n",
       "        }\n",
       "      }\n",
       "    }, 25, root)\n",
       "  }\n",
       "})(window);</script>"
      ],
      "text/plain": [
       ":Overlay\n",
       "   .Curve.Test       :Curve   [date]   (users)\n",
       "   .Curve.Prediction :Curve   [index]   (predicted_mean)"
      ]
     },
     "execution_count": 74,
     "metadata": {
      "application/vnd.holoviews_exec.v0+json": {
       "id": "5651"
      }
     },
     "output_type": "execute_result"
    }
   ],
   "source": [
    "# fig, ax = plt.subplots(figsize=(10, 3))\n",
    "# data_test.loc[predictions.index, 'users'].plot(linewidth=2, label='test', ax=ax)\n",
    "# predictions.plot(linewidth=2, label='prediction', ax=ax)\n",
    "# ax.set_title('Predictions (ARIMA) vs real values')\n",
    "# ax.legend();\n",
    "\n",
    "plot_test = data_test.users.hvplot.line(label='test')\n",
    "plot_predict = predictions['predicted_mean'].hvplot.line(label='prediction')\n",
    "layout = plot_test * plot_predict\n",
    "layout = layout.opts(\n",
    "             title = 'Predictions (ARIMA) vs real values',\n",
    "             ylabel = 'users',\n",
    "             legend_position = 'bottom_left'\n",
    "         )\n",
    "layout"
   ]
  },
  {
   "cell_type": "markdown",
   "metadata": {},
   "source": [
    "### Tuning the hyper-parameters\n",
    "<br>\n",
    "\n",
    "As is the case of most models, ARIMA has several hyperparameters that control its behavior:\n",
    "\n",
    "+ p: number of lags included as predictors in the autoregressive model.\n",
    "\n",
    "+ d: number of times the data is differentiated, this is the number of times that the previous value is subtracted from each value.\n",
    "\n",
    "+ q: window size for the moving average.\n",
    "\n",
    "In the statsmodels implementation, these hyperparameters are indicated via the `order` argument. Two good references for more details on ARIMA models are: https://openforecast.org/adam/ARIMA.html and https://otexts.com/fpp3/arima.html.\n",
    "\n",
    "With the `grid_search_sarimax` function, a hyperparameter search can be performed by comparing the models according to a metric obtained by backtesting."
   ]
  },
  {
   "cell_type": "code",
   "execution_count": 75,
   "metadata": {},
   "outputs": [
    {
     "name": "stderr",
     "output_type": "stream",
     "text": [
      "root       INFO  Number of models compared: 8\n",
      "100%|███████████████████████████████████████████████████████| 8/8 [01:00<00:00,  7.50s/it]\n"
     ]
    },
    {
     "data": {
      "text/html": [
       "<div>\n",
       "<style scoped>\n",
       "    .dataframe tbody tr th:only-of-type {\n",
       "        vertical-align: middle;\n",
       "    }\n",
       "\n",
       "    .dataframe tbody tr th {\n",
       "        vertical-align: top;\n",
       "    }\n",
       "\n",
       "    .dataframe thead th {\n",
       "        text-align: right;\n",
       "    }\n",
       "</style>\n",
       "<table border=\"1\" class=\"dataframe\">\n",
       "  <thead>\n",
       "    <tr style=\"text-align: right;\">\n",
       "      <th></th>\n",
       "      <th>params</th>\n",
       "      <th>metric</th>\n",
       "      <th>order</th>\n",
       "      <th>seasonal_order</th>\n",
       "      <th>trend</th>\n",
       "    </tr>\n",
       "  </thead>\n",
       "  <tbody>\n",
       "    <tr>\n",
       "      <th>7</th>\n",
       "      <td>{'order': (21, 1, 1), 'seasonal_order': (0, 0,...</td>\n",
       "      <td>181.326152</td>\n",
       "      <td>(21, 1, 1)</td>\n",
       "      <td>(0, 0, 0, 0)</td>\n",
       "      <td>None</td>\n",
       "    </tr>\n",
       "    <tr>\n",
       "      <th>6</th>\n",
       "      <td>{'order': (21, 1, 0), 'seasonal_order': (0, 0,...</td>\n",
       "      <td>182.100677</td>\n",
       "      <td>(21, 1, 0)</td>\n",
       "      <td>(0, 0, 0, 0)</td>\n",
       "      <td>None</td>\n",
       "    </tr>\n",
       "    <tr>\n",
       "      <th>4</th>\n",
       "      <td>{'order': (21, 0, 0), 'seasonal_order': (0, 0,...</td>\n",
       "      <td>185.579786</td>\n",
       "      <td>(21, 0, 0)</td>\n",
       "      <td>(0, 0, 0, 0)</td>\n",
       "      <td>None</td>\n",
       "    </tr>\n",
       "    <tr>\n",
       "      <th>5</th>\n",
       "      <td>{'order': (21, 0, 0), 'seasonal_order': (0, 0,...</td>\n",
       "      <td>185.579786</td>\n",
       "      <td>(21, 0, 0)</td>\n",
       "      <td>(0, 0, 0, 0)</td>\n",
       "      <td>None</td>\n",
       "    </tr>\n",
       "    <tr>\n",
       "      <th>3</th>\n",
       "      <td>{'order': (14, 1, 1), 'seasonal_order': (0, 0,...</td>\n",
       "      <td>193.904636</td>\n",
       "      <td>(14, 1, 1)</td>\n",
       "      <td>(0, 0, 0, 0)</td>\n",
       "      <td>None</td>\n",
       "    </tr>\n",
       "    <tr>\n",
       "      <th>2</th>\n",
       "      <td>{'order': (14, 1, 0), 'seasonal_order': (0, 0,...</td>\n",
       "      <td>194.076334</td>\n",
       "      <td>(14, 1, 0)</td>\n",
       "      <td>(0, 0, 0, 0)</td>\n",
       "      <td>None</td>\n",
       "    </tr>\n",
       "    <tr>\n",
       "      <th>1</th>\n",
       "      <td>{'order': (14, 2, 0), 'seasonal_order': (0, 0,...</td>\n",
       "      <td>201.139042</td>\n",
       "      <td>(14, 2, 0)</td>\n",
       "      <td>(0, 0, 0, 0)</td>\n",
       "      <td>None</td>\n",
       "    </tr>\n",
       "    <tr>\n",
       "      <th>0</th>\n",
       "      <td>{'order': (14, 0, 0), 'seasonal_order': (0, 0,...</td>\n",
       "      <td>212.031057</td>\n",
       "      <td>(14, 0, 0)</td>\n",
       "      <td>(0, 0, 0, 0)</td>\n",
       "      <td>None</td>\n",
       "    </tr>\n",
       "  </tbody>\n",
       "</table>\n",
       "</div>"
      ],
      "text/plain": [
       "                                              params      metric       order  \\\n",
       "7  {'order': (21, 1, 1), 'seasonal_order': (0, 0,...  181.326152  (21, 1, 1)   \n",
       "6  {'order': (21, 1, 0), 'seasonal_order': (0, 0,...  182.100677  (21, 1, 0)   \n",
       "4  {'order': (21, 0, 0), 'seasonal_order': (0, 0,...  185.579786  (21, 0, 0)   \n",
       "5  {'order': (21, 0, 0), 'seasonal_order': (0, 0,...  185.579786  (21, 0, 0)   \n",
       "3  {'order': (14, 1, 1), 'seasonal_order': (0, 0,...  193.904636  (14, 1, 1)   \n",
       "2  {'order': (14, 1, 0), 'seasonal_order': (0, 0,...  194.076334  (14, 1, 0)   \n",
       "1  {'order': (14, 2, 0), 'seasonal_order': (0, 0,...  201.139042  (14, 2, 0)   \n",
       "0  {'order': (14, 0, 0), 'seasonal_order': (0, 0,...  212.031057  (14, 0, 0)   \n",
       "\n",
       "  seasonal_order trend  \n",
       "7   (0, 0, 0, 0)  None  \n",
       "6   (0, 0, 0, 0)  None  \n",
       "4   (0, 0, 0, 0)  None  \n",
       "5   (0, 0, 0, 0)  None  \n",
       "3   (0, 0, 0, 0)  None  \n",
       "2   (0, 0, 0, 0)  None  \n",
       "1   (0, 0, 0, 0)  None  \n",
       "0   (0, 0, 0, 0)  None  "
      ]
     },
     "execution_count": 75,
     "metadata": {},
     "output_type": "execute_result"
    }
   ],
   "source": [
    "# Grid search of hyper-parameters\n",
    "# ==============================================================================\n",
    "param_grid = {'order': [(14, 0, 0), (14, 2, 0), (14, 1, 0), (14, 1, 1),\n",
    "                        (21, 0, 0), (21, 0, 0), (21, 1, 0), (21, 1, 1)]}\n",
    "\n",
    "results = grid_search_sarimax(\n",
    "              y                  = data.users,\n",
    "              param_grid         = param_grid,\n",
    "              initial_train_size = len(data.loc[:end_validation]),\n",
    "              steps              = 7,\n",
    "              metric             = 'mean_absolute_error',\n",
    "              refit              = False,\n",
    "              fixed_train_size   = False,\n",
    "              verbose            = False,\n",
    "              fit_kwargs         = {'maxiter': 200, 'disp': 0}\n",
    "          )\n",
    "\n",
    "results"
   ]
  },
  {
   "cell_type": "code",
   "execution_count": 76,
   "metadata": {},
   "outputs": [
    {
     "name": "stdout",
     "output_type": "stream",
     "text": [
      "Number of observations used for training: 365\n",
      "Number of observations used for backtesting: 56\n",
      "    Number of folds: 8\n",
      "    Number of steps per fold: 7\n",
      "Backtest error: 181.3261523871715\n"
     ]
    }
   ],
   "source": [
    "# Backtest final model using test data\n",
    "# ==============================================================================\n",
    "metric, predictions = backtesting_sarimax(\n",
    "                          y                  = data.users,\n",
    "                          order              = (21, 1, 1),\n",
    "                          seasonal_order     = (0, 0, 0, 0),\n",
    "                          initial_train_size = len(data.loc[:end_validation]),\n",
    "                          fixed_train_size   = False,\n",
    "                          steps              = 7,\n",
    "                          metric             = 'mean_absolute_error',\n",
    "                          refit              = False,\n",
    "                          verbose            = True,\n",
    "                          fit_kwargs         = {'maxiter': 250, 'disp': 0}\n",
    "                      )\n",
    "\n",
    "print(f'Backtest error: {metric}')"
   ]
  },
  {
   "cell_type": "markdown",
   "metadata": {},
   "source": [
    "## Forecasting adding exogenous features\n",
    "<br>\n",
    "\n",
    "In the previous example, only lags of the target variable itself have been used as predictors. In certain scenarios, it is possible to have information on other variables, **whose future value is known**, that can serve as additional predictors in the model. Some typical examples are:\n",
    "\n",
    "+ Holidays (local, national...)\n",
    "\n",
    "+ Month of the year\n",
    "\n",
    "+ Day of the week\n",
    "\n",
    "+ Time of day\n",
    "\n",
    "In this use case, the graphical analysis showed evidence that, on weekends, the number of visits to the website is reduced. The day of the week to which each date corresponds can be known in advance, therefore it can be used as an exogenous variable. See how it affects the models if this information is included as a predictor."
   ]
  },
  {
   "cell_type": "code",
   "execution_count": 77,
   "metadata": {},
   "outputs": [
    {
     "data": {
      "text/html": [
       "<div>\n",
       "<style scoped>\n",
       "    .dataframe tbody tr th:only-of-type {\n",
       "        vertical-align: middle;\n",
       "    }\n",
       "\n",
       "    .dataframe tbody tr th {\n",
       "        vertical-align: top;\n",
       "    }\n",
       "\n",
       "    .dataframe thead th {\n",
       "        text-align: right;\n",
       "    }\n",
       "</style>\n",
       "<table border=\"1\" class=\"dataframe\">\n",
       "  <thead>\n",
       "    <tr style=\"text-align: right;\">\n",
       "      <th></th>\n",
       "      <th>users</th>\n",
       "      <th>week_day_1</th>\n",
       "      <th>week_day_2</th>\n",
       "      <th>week_day_3</th>\n",
       "      <th>week_day_4</th>\n",
       "      <th>week_day_5</th>\n",
       "      <th>week_day_6</th>\n",
       "      <th>week_day_7</th>\n",
       "    </tr>\n",
       "    <tr>\n",
       "      <th>date</th>\n",
       "      <th></th>\n",
       "      <th></th>\n",
       "      <th></th>\n",
       "      <th></th>\n",
       "      <th></th>\n",
       "      <th></th>\n",
       "      <th></th>\n",
       "      <th></th>\n",
       "    </tr>\n",
       "  </thead>\n",
       "  <tbody>\n",
       "    <tr>\n",
       "      <th>2020-07-01</th>\n",
       "      <td>2324</td>\n",
       "      <td>0</td>\n",
       "      <td>0</td>\n",
       "      <td>1</td>\n",
       "      <td>0</td>\n",
       "      <td>0</td>\n",
       "      <td>0</td>\n",
       "      <td>0</td>\n",
       "    </tr>\n",
       "    <tr>\n",
       "      <th>2020-07-02</th>\n",
       "      <td>2201</td>\n",
       "      <td>0</td>\n",
       "      <td>0</td>\n",
       "      <td>0</td>\n",
       "      <td>1</td>\n",
       "      <td>0</td>\n",
       "      <td>0</td>\n",
       "      <td>0</td>\n",
       "    </tr>\n",
       "    <tr>\n",
       "      <th>2020-07-03</th>\n",
       "      <td>2146</td>\n",
       "      <td>0</td>\n",
       "      <td>0</td>\n",
       "      <td>0</td>\n",
       "      <td>0</td>\n",
       "      <td>1</td>\n",
       "      <td>0</td>\n",
       "      <td>0</td>\n",
       "    </tr>\n",
       "  </tbody>\n",
       "</table>\n",
       "</div>"
      ],
      "text/plain": [
       "            users  week_day_1  week_day_2  week_day_3  week_day_4  week_day_5  \\\n",
       "date                                                                            \n",
       "2020-07-01   2324           0           0           1           0           0   \n",
       "2020-07-02   2201           0           0           0           1           0   \n",
       "2020-07-03   2146           0           0           0           0           1   \n",
       "\n",
       "            week_day_6  week_day_7  \n",
       "date                                \n",
       "2020-07-01           0           0  \n",
       "2020-07-02           0           0  \n",
       "2020-07-03           0           0  "
      ]
     },
     "execution_count": 77,
     "metadata": {},
     "output_type": "execute_result"
    }
   ],
   "source": [
    "# Creation of new exogenous features\n",
    "# ==============================================================================\n",
    "data=data.drop(columns=['month', 'month_day'])\n",
    "# One hot encoding of week day\n",
    "data=pd.get_dummies(data, columns=['week_day'])\n",
    "data.head(3)"
   ]
  },
  {
   "cell_type": "code",
   "execution_count": 78,
   "metadata": {},
   "outputs": [],
   "source": [
    "# Split data train-val-test\n",
    "# ==============================================================================\n",
    "data_train = data.loc[: end_train, :]\n",
    "data_val   = data.loc[end_train:end_validation, :]\n",
    "data_test  = data.loc[end_validation:, :]"
   ]
  },
  {
   "cell_type": "markdown",
   "metadata": {},
   "source": [
    "### ForecasterAutoreg"
   ]
  },
  {
   "cell_type": "code",
   "execution_count": 79,
   "metadata": {},
   "outputs": [
    {
     "name": "stdout",
     "output_type": "stream",
     "text": [
      "Information of backtesting process\n",
      "----------------------------------\n",
      "Number of observations used for initial training: 365\n",
      "Number of observations used for backtesting: 56\n",
      "    Number of folds: 8\n",
      "    Number of steps per fold: 7\n",
      "\n",
      "Data partition in fold: 0\n",
      "    Training:   2020-07-01 00:00:00 -- 2021-06-30 00:00:00  (n=365)\n",
      "    Validation: 2021-07-01 00:00:00 -- 2021-07-07 00:00:00  (n=7)\n",
      "Data partition in fold: 1\n",
      "    Training:   2020-07-01 00:00:00 -- 2021-06-30 00:00:00  (n=365)\n",
      "    Validation: 2021-07-08 00:00:00 -- 2021-07-14 00:00:00  (n=7)\n",
      "Data partition in fold: 2\n",
      "    Training:   2020-07-01 00:00:00 -- 2021-06-30 00:00:00  (n=365)\n",
      "    Validation: 2021-07-15 00:00:00 -- 2021-07-21 00:00:00  (n=7)\n",
      "Data partition in fold: 3\n",
      "    Training:   2020-07-01 00:00:00 -- 2021-06-30 00:00:00  (n=365)\n",
      "    Validation: 2021-07-22 00:00:00 -- 2021-07-28 00:00:00  (n=7)\n",
      "Data partition in fold: 4\n",
      "    Training:   2020-07-01 00:00:00 -- 2021-06-30 00:00:00  (n=365)\n",
      "    Validation: 2021-07-29 00:00:00 -- 2021-08-04 00:00:00  (n=7)\n",
      "Data partition in fold: 5\n",
      "    Training:   2020-07-01 00:00:00 -- 2021-06-30 00:00:00  (n=365)\n",
      "    Validation: 2021-08-05 00:00:00 -- 2021-08-11 00:00:00  (n=7)\n",
      "Data partition in fold: 6\n",
      "    Training:   2020-07-01 00:00:00 -- 2021-06-30 00:00:00  (n=365)\n",
      "    Validation: 2021-08-12 00:00:00 -- 2021-08-18 00:00:00  (n=7)\n",
      "Data partition in fold: 7\n",
      "    Training:   2020-07-01 00:00:00 -- 2021-06-30 00:00:00  (n=365)\n",
      "    Validation: 2021-08-19 00:00:00 -- 2021-08-25 00:00:00  (n=7)\n",
      "\n",
      "Backtest error: 195.88868349491983\n"
     ]
    },
    {
     "data": {
      "text/html": [
       "<div>\n",
       "<style scoped>\n",
       "    .dataframe tbody tr th:only-of-type {\n",
       "        vertical-align: middle;\n",
       "    }\n",
       "\n",
       "    .dataframe tbody tr th {\n",
       "        vertical-align: top;\n",
       "    }\n",
       "\n",
       "    .dataframe thead th {\n",
       "        text-align: right;\n",
       "    }\n",
       "</style>\n",
       "<table border=\"1\" class=\"dataframe\">\n",
       "  <thead>\n",
       "    <tr style=\"text-align: right;\">\n",
       "      <th></th>\n",
       "      <th>pred</th>\n",
       "    </tr>\n",
       "  </thead>\n",
       "  <tbody>\n",
       "    <tr>\n",
       "      <th>2021-07-01</th>\n",
       "      <td>3286.890749</td>\n",
       "    </tr>\n",
       "    <tr>\n",
       "      <th>2021-07-02</th>\n",
       "      <td>3021.079567</td>\n",
       "    </tr>\n",
       "    <tr>\n",
       "      <th>2021-07-03</th>\n",
       "      <td>2256.401254</td>\n",
       "    </tr>\n",
       "    <tr>\n",
       "      <th>2021-07-04</th>\n",
       "      <td>1985.650262</td>\n",
       "    </tr>\n",
       "    <tr>\n",
       "      <th>2021-07-05</th>\n",
       "      <td>3039.877224</td>\n",
       "    </tr>\n",
       "  </tbody>\n",
       "</table>\n",
       "</div>"
      ],
      "text/plain": [
       "                   pred\n",
       "2021-07-01  3286.890749\n",
       "2021-07-02  3021.079567\n",
       "2021-07-03  2256.401254\n",
       "2021-07-04  1985.650262\n",
       "2021-07-05  3039.877224"
      ]
     },
     "execution_count": 79,
     "metadata": {},
     "output_type": "execute_result"
    }
   ],
   "source": [
    "# Create and train forecaster\n",
    "# ==============================================================================\n",
    "forecaster = ForecasterAutoreg(\n",
    "                 regressor     = Ridge(alpha=2.15, random_state=123),\n",
    "                 lags          = 14,\n",
    "                 transformer_y = StandardScaler()\n",
    "             )\n",
    "\n",
    "col_exog = [column for column in data.columns if column.startswith(('week'))]\n",
    "forecaster.fit(y=data_train.users, exog=data_train[col_exog])\n",
    "\n",
    "# Backtest forecaster with exogenous features\n",
    "# ==============================================================================\n",
    "metric, predictions = backtesting_forecaster(\n",
    "                          forecaster         = forecaster,\n",
    "                          y                  = data.users,\n",
    "                          exog               = data[col_exog],\n",
    "                          initial_train_size = len(data.loc[:end_validation, :]),\n",
    "                          steps              = 7,\n",
    "                          metric             = 'mean_absolute_error',\n",
    "                          refit              = False,\n",
    "                          fixed_train_size   = False,\n",
    "                          verbose            = True\n",
    "                      )\n",
    "\n",
    "print(f'Backtest error: {metric}')\n",
    "predictions.head(5)"
   ]
  },
  {
   "cell_type": "markdown",
   "metadata": {},
   "source": [
    "### ARIMA"
   ]
  },
  {
   "cell_type": "code",
   "execution_count": 80,
   "metadata": {},
   "outputs": [
    {
     "name": "stdout",
     "output_type": "stream",
     "text": [
      "Number of observations used for training: 365\n",
      "Number of observations used for backtesting: 56\n",
      "    Number of folds: 8\n",
      "    Number of steps per fold: 7\n",
      "Backtest error: 181.33787764919785\n"
     ]
    },
    {
     "data": {
      "text/html": [
       "<div>\n",
       "<style scoped>\n",
       "    .dataframe tbody tr th:only-of-type {\n",
       "        vertical-align: middle;\n",
       "    }\n",
       "\n",
       "    .dataframe tbody tr th {\n",
       "        vertical-align: top;\n",
       "    }\n",
       "\n",
       "    .dataframe thead th {\n",
       "        text-align: right;\n",
       "    }\n",
       "</style>\n",
       "<table border=\"1\" class=\"dataframe\">\n",
       "  <thead>\n",
       "    <tr style=\"text-align: right;\">\n",
       "      <th></th>\n",
       "      <th>predicted_mean</th>\n",
       "      <th>lower users</th>\n",
       "      <th>upper users</th>\n",
       "    </tr>\n",
       "  </thead>\n",
       "  <tbody>\n",
       "    <tr>\n",
       "      <th>2021-07-01</th>\n",
       "      <td>3190.625282</td>\n",
       "      <td>2708.197231</td>\n",
       "      <td>3673.053333</td>\n",
       "    </tr>\n",
       "    <tr>\n",
       "      <th>2021-07-02</th>\n",
       "      <td>2986.837645</td>\n",
       "      <td>2300.565222</td>\n",
       "      <td>3673.110069</td>\n",
       "    </tr>\n",
       "    <tr>\n",
       "      <th>2021-07-03</th>\n",
       "      <td>2208.817468</td>\n",
       "      <td>1427.201295</td>\n",
       "      <td>2990.433642</td>\n",
       "    </tr>\n",
       "    <tr>\n",
       "      <th>2021-07-04</th>\n",
       "      <td>1960.838156</td>\n",
       "      <td>1095.149075</td>\n",
       "      <td>2826.527237</td>\n",
       "    </tr>\n",
       "    <tr>\n",
       "      <th>2021-07-05</th>\n",
       "      <td>3021.327297</td>\n",
       "      <td>2082.260596</td>\n",
       "      <td>3960.393999</td>\n",
       "    </tr>\n",
       "  </tbody>\n",
       "</table>\n",
       "</div>"
      ],
      "text/plain": [
       "            predicted_mean  lower users  upper users\n",
       "2021-07-01     3190.625282  2708.197231  3673.053333\n",
       "2021-07-02     2986.837645  2300.565222  3673.110069\n",
       "2021-07-03     2208.817468  1427.201295  2990.433642\n",
       "2021-07-04     1960.838156  1095.149075  2826.527237\n",
       "2021-07-05     3021.327297  2082.260596  3960.393999"
      ]
     },
     "execution_count": 80,
     "metadata": {},
     "output_type": "execute_result"
    }
   ],
   "source": [
    "# Backtest ARIMA with exogenous features\n",
    "# ==============================================================================\n",
    "metric, predictions = backtesting_sarimax(\n",
    "                          y                  = data.users,\n",
    "                          exog               = data[col_exog],\n",
    "                          order              = (21, 1, 1),\n",
    "                          seasonal_order     = (0, 0, 0, 0),\n",
    "                          initial_train_size = len(data.loc[:end_validation]),\n",
    "                          steps              = 7,\n",
    "                          metric             = 'mean_absolute_error',\n",
    "                          refit              = False,\n",
    "                          fixed_train_size   = False,\n",
    "                          verbose            = True,\n",
    "                          fit_kwargs         = {'maxiter': 250, 'disp': 0},\n",
    "                      )\n",
    "\n",
    "print(f'Backtest error: {metric}')\n",
    "predictions.head(5)"
   ]
  },
  {
   "cell_type": "markdown",
   "metadata": {},
   "source": [
    "## Prediction intervals\n",
    "<br>\n",
    "\n",
    "Both functions, `backtesting_forecaster` and `backtesting_sarimax`, allow to obtain, in addition to the predictions, their intervals."
   ]
  },
  {
   "cell_type": "code",
   "execution_count": 81,
   "metadata": {},
   "outputs": [
    {
     "name": "stdout",
     "output_type": "stream",
     "text": [
      "Number of observations used for training: 365\n",
      "Number of observations used for backtesting: 56\n",
      "    Number of folds: 8\n",
      "    Number of steps per fold: 7\n",
      "Backtest error: 181.33787764919785\n"
     ]
    },
    {
     "data": {
      "text/html": [
       "<div>\n",
       "<style scoped>\n",
       "    .dataframe tbody tr th:only-of-type {\n",
       "        vertical-align: middle;\n",
       "    }\n",
       "\n",
       "    .dataframe tbody tr th {\n",
       "        vertical-align: top;\n",
       "    }\n",
       "\n",
       "    .dataframe thead th {\n",
       "        text-align: right;\n",
       "    }\n",
       "</style>\n",
       "<table border=\"1\" class=\"dataframe\">\n",
       "  <thead>\n",
       "    <tr style=\"text-align: right;\">\n",
       "      <th></th>\n",
       "      <th>predicted_mean</th>\n",
       "      <th>lower users</th>\n",
       "      <th>upper users</th>\n",
       "    </tr>\n",
       "  </thead>\n",
       "  <tbody>\n",
       "    <tr>\n",
       "      <th>2021-07-01</th>\n",
       "      <td>3190.625282</td>\n",
       "      <td>2708.197231</td>\n",
       "      <td>3673.053333</td>\n",
       "    </tr>\n",
       "    <tr>\n",
       "      <th>2021-07-02</th>\n",
       "      <td>2986.837645</td>\n",
       "      <td>2300.565222</td>\n",
       "      <td>3673.110069</td>\n",
       "    </tr>\n",
       "    <tr>\n",
       "      <th>2021-07-03</th>\n",
       "      <td>2208.817468</td>\n",
       "      <td>1427.201295</td>\n",
       "      <td>2990.433642</td>\n",
       "    </tr>\n",
       "    <tr>\n",
       "      <th>2021-07-04</th>\n",
       "      <td>1960.838156</td>\n",
       "      <td>1095.149075</td>\n",
       "      <td>2826.527237</td>\n",
       "    </tr>\n",
       "    <tr>\n",
       "      <th>2021-07-05</th>\n",
       "      <td>3021.327297</td>\n",
       "      <td>2082.260596</td>\n",
       "      <td>3960.393999</td>\n",
       "    </tr>\n",
       "  </tbody>\n",
       "</table>\n",
       "</div>"
      ],
      "text/plain": [
       "            predicted_mean  lower users  upper users\n",
       "2021-07-01     3190.625282  2708.197231  3673.053333\n",
       "2021-07-02     2986.837645  2300.565222  3673.110069\n",
       "2021-07-03     2208.817468  1427.201295  2990.433642\n",
       "2021-07-04     1960.838156  1095.149075  2826.527237\n",
       "2021-07-05     3021.327297  2082.260596  3960.393999"
      ]
     },
     "execution_count": 81,
     "metadata": {},
     "output_type": "execute_result"
    }
   ],
   "source": [
    "# Backtest with prediction intervals\n",
    "# ==============================================================================\n",
    "metric, predictions = backtesting_sarimax(\n",
    "                          y                  = data.users,\n",
    "                          exog               = data[col_exog],\n",
    "                          order              = (21, 1, 1),\n",
    "                          seasonal_order     = (0, 0, 0, 0),\n",
    "                          initial_train_size = len(data.loc[:end_validation]),\n",
    "                          steps              = 7,\n",
    "                          metric             = 'mean_absolute_error',   \n",
    "                          alpha              = 0.05,\n",
    "                          refit              = False,\n",
    "                          fixed_train_size   = False,\n",
    "                          verbose            = True,\n",
    "                          fit_kwargs         = {'maxiter': 250, 'disp': 0},\n",
    "                      )\n",
    "\n",
    "print(f'Backtest error: {metric}')\n",
    "predictions.head(5)"
   ]
  },
  {
   "cell_type": "code",
   "execution_count": 82,
   "metadata": {},
   "outputs": [
    {
     "data": {},
     "metadata": {},
     "output_type": "display_data"
    },
    {
     "data": {
      "application/vnd.holoviews_exec.v0+json": "",
      "text/html": [
       "<div id='5907'>\n",
       "  <div class=\"bk-root\" id=\"f94e054e-287b-4054-8c43-b40ed4a5074b\" data-root-id=\"5907\"></div>\n",
       "</div>\n",
       "<script type=\"application/javascript\">(function(root) {\n",
       "  function embed_document(root) {\n",
       "    var docs_json = {\"2833c63b-d879-4169-a8b1-cfae83c96094\":{\"defs\":[{\"extends\":null,\"module\":null,\"name\":\"ReactiveHTML1\",\"overrides\":[],\"properties\":[]},{\"extends\":null,\"module\":null,\"name\":\"FlexBox1\",\"overrides\":[],\"properties\":[{\"default\":\"flex-start\",\"kind\":null,\"name\":\"align_content\"},{\"default\":\"flex-start\",\"kind\":null,\"name\":\"align_items\"},{\"default\":\"row\",\"kind\":null,\"name\":\"flex_direction\"},{\"default\":\"wrap\",\"kind\":null,\"name\":\"flex_wrap\"},{\"default\":\"flex-start\",\"kind\":null,\"name\":\"justify_content\"}]},{\"extends\":null,\"module\":null,\"name\":\"GridStack1\",\"overrides\":[],\"properties\":[{\"default\":\"warn\",\"kind\":null,\"name\":\"mode\"},{\"default\":null,\"kind\":null,\"name\":\"ncols\"},{\"default\":null,\"kind\":null,\"name\":\"nrows\"},{\"default\":true,\"kind\":null,\"name\":\"allow_resize\"},{\"default\":true,\"kind\":null,\"name\":\"allow_drag\"},{\"default\":[],\"kind\":null,\"name\":\"state\"}]},{\"extends\":null,\"module\":null,\"name\":\"click1\",\"overrides\":[],\"properties\":[{\"default\":\"\",\"kind\":null,\"name\":\"terminal_output\"},{\"default\":\"\",\"kind\":null,\"name\":\"debug_name\"},{\"default\":0,\"kind\":null,\"name\":\"clears\"}]},{\"extends\":null,\"module\":null,\"name\":\"NotificationAreaBase1\",\"overrides\":[],\"properties\":[{\"default\":\"bottom-right\",\"kind\":null,\"name\":\"position\"},{\"default\":0,\"kind\":null,\"name\":\"_clear\"}]},{\"extends\":null,\"module\":null,\"name\":\"NotificationArea1\",\"overrides\":[],\"properties\":[{\"default\":[],\"kind\":null,\"name\":\"notifications\"},{\"default\":\"bottom-right\",\"kind\":null,\"name\":\"position\"},{\"default\":0,\"kind\":null,\"name\":\"_clear\"},{\"default\":[{\"background\":\"#ffc107\",\"icon\":{\"className\":\"fas fa-exclamation-triangle\",\"color\":\"white\",\"tagName\":\"i\"},\"type\":\"warning\"},{\"background\":\"#007bff\",\"icon\":{\"className\":\"fas fa-info-circle\",\"color\":\"white\",\"tagName\":\"i\"},\"type\":\"info\"}],\"kind\":null,\"name\":\"types\"}]},{\"extends\":null,\"module\":null,\"name\":\"Notification\",\"overrides\":[],\"properties\":[{\"default\":null,\"kind\":null,\"name\":\"background\"},{\"default\":3000,\"kind\":null,\"name\":\"duration\"},{\"default\":null,\"kind\":null,\"name\":\"icon\"},{\"default\":\"\",\"kind\":null,\"name\":\"message\"},{\"default\":null,\"kind\":null,\"name\":\"notification_type\"},{\"default\":false,\"kind\":null,\"name\":\"_destroyed\"}]},{\"extends\":null,\"module\":null,\"name\":\"TemplateActions1\",\"overrides\":[],\"properties\":[{\"default\":0,\"kind\":null,\"name\":\"open_modal\"},{\"default\":0,\"kind\":null,\"name\":\"close_modal\"}]},{\"extends\":null,\"module\":null,\"name\":\"MaterialTemplateActions1\",\"overrides\":[],\"properties\":[{\"default\":0,\"kind\":null,\"name\":\"open_modal\"},{\"default\":0,\"kind\":null,\"name\":\"close_modal\"}]}],\"roots\":{\"references\":[{\"attributes\":{\"data\":{\"x\":{\"__ndarray__\":\"AADA1/Wld0IAAIA9SKZ3QgAAQKOapndCAAAACe2md0IAAMBuP6d3QgAAgNSRp3dCAABAOuSnd0IAAACgNqh3QgAAwAWJqHdCAACAa9uod0IAAEDRLal3QgAAADeAqXdCAADAnNKpd0IAAIACJap3QgAAQGh3qndCAAAAzsmqd0IAAMAzHKt3QgAAgJluq3dCAABA/8Crd0IAAABlE6x3QgAAwMplrHdCAACAMLisd0IAAECWCq13QgAAAPxcrXdCAADAYa+td0IAAIDHAa53QgAAQC1UrndCAAAAk6aud0IAAMD4+K53QgAAgF5Lr3dCAABAxJ2vd0IAAAAq8K93QgAAwI9CsHdCAACA9ZSwd0IAAEBb57B3QgAAAME5sXdCAADAJoyxd0IAAICM3rF3QgAAQPIwsndCAAAAWIOyd0IAAMC91bJ3QgAAgCMos3dCAABAiXqzd0IAAADvzLN3QgAAwFQftHdCAACAunG0d0IAAEAgxLR3QgAAAIYWtXdCAADA62i1d0IAAIBRu7V3QgAAQLcNtndCAAAAHWC2d0IAAMCCsrZ3QgAAgOgEt3dCAABATle3d0IAAAC0qbd3QgAAALSpt3dCAABATle3d0IAAIDoBLd3QgAAwIKytndCAAAAHWC2d0IAAEC3DbZ3QgAAgFG7tXdCAADA62i1d0IAAACGFrV3QgAAQCDEtHdCAACAunG0d0IAAMBUH7R3QgAAAO/Ms3dCAABAiXqzd0IAAIAjKLN3QgAAwL3VsndCAAAAWIOyd0IAAEDyMLJ3QgAAgIzesXdCAADAJoyxd0IAAADBObF3QgAAQFvnsHdCAACA9ZSwd0IAAMCPQrB3QgAAACrwr3dCAABAxJ2vd0IAAIBeS693QgAAwPj4rndCAAAAk6aud0IAAEAtVK53QgAAgMcBrndCAADAYa+td0IAAAD8XK13QgAAQJYKrXdCAACAMLisd0IAAMDKZax3QgAAAGUTrHdCAABA/8Crd0IAAICZbqt3QgAAwDMcq3dCAAAAzsmqd0IAAEBod6p3QgAAgAIlqndCAADAnNKpd0IAAAA3gKl3QgAAQNEtqXdCAACAa9uod0IAAMAFiah3QgAAAKA2qHdCAABAOuSnd0IAAIDUkad3QgAAwG4/p3dCAAAACe2md0IAAECjmqZ3QgAAgD1IpndCAADA1/Wld0I=\",\"dtype\":\"float64\",\"order\":\"little\",\"shape\":[112]},\"y\":{\"__ndarray__\":\"e85pThuyrEAcfgFbOLKsQHy/SQbeXKdAzpby8Q0VpkAieDm6yfCuQOonKZOtm7BAbqZuUusQsUDBDWyE2gypQOzpMA573qhAZSbsSSQPpEAmKhJLJnCjQD6wduETKatAmcYS/SfwrUCM0uLPZ4uuQFldlDn2IqpAUo4rg4AwqkDa+bAMF/ykQK8zAbcbuaNAluOtXIriq0BUL47y3pquQDpF+/SHqa9AKyhJvtF2pkBWbZqV2+WlQGEdcVoSVqFAIehe+ClSoEDMRGyroVSoQFeeAEhdX6pARwF1yuo+q0DGh9fwBAulQLjoQFnaZqZA1pQf2yj5oUCwgCJsocegQMY2oT2eqahAG/8TVUHcqUAf6uH2EqWpQJEIEIYuSKZAhAWyNy5rpkBRPG8HpUahQLo6hG8AbplAuDrLMPEVqEAf63mwHVKqQCr+IkyBqqpAtP4nZT/epUBmor+09IqkQACZ/SKoQ6FA+DvRYjcBnEAuiEjUZDCmQIv7wU7uL6lAJWLhoei3qEDQex5UqAOnQI6MH9j6u6ZAgInxTX9jo0BwLVyXthShQLIANT2lqKhAMbzDfRwMqkAMJJsMx+2rQBD5c3SLB5dAgjRUOMoflUD/9oXfwfiTQDy7tcenb3xAESZLXyG0jEDxoLPDxwWYQOWMXQLk855AQnUAn86bkEA2s1DabWeTQOwLWhuCEI5AEP3JwIR2TkARZHuzxDSEQKLM83y7o5NArZJwJBKpnEBMrYPz/4CUQF6SwJ3Mq5VACWuyxlnTkkBgFWvULPhZwFfxQUW4QIRA3ZLYgi5kl0BnpkBm8HydQDaFAUkjdpJAVrr05hPAlEAlY17gs/qTQERV6G3+BnpAa1MDlMcKh0BHWfbFhluXQNGkzzudAptAhrMn8NKplUDO+M3MS8aVQDN/9Lu6UJNAyJDLz0JbdkCVdUmRbX6EQIFiqT6JWZZAm+Wy1jbanUBsOzRFDX+eQMga6SFPPZ5Axbx3HoxsmkCc9m5iaMmIQL5zJC1Ai5FAeaTLGdPunkD7p6TmP5miQBBWA/vMQpxAUknyNuHnnEAXVgkon/mYQHbQsrKSpYdAp5k1T7Vij0CtW9YvyEqcQGNYfDEkg6FAWSV8UtW3oUDlrbjEI7uhQPByx2yFRKBAjUEap5gckUAA/1UgzkyWQAjCu2Qh+aFAHRl6+2QopUA=\",\"dtype\":\"float64\",\"order\":\"little\",\"shape\":[112]}},\"selected\":{\"id\":\"5953\"},\"selection_policy\":{\"id\":\"5967\"}},\"id\":\"5952\",\"type\":\"ColumnDataSource\"},{\"attributes\":{\"mantissas\":[1,2,5],\"max_interval\":500.0,\"num_minor_ticks\":0},\"id\":\"5970\",\"type\":\"AdaptiveTicker\"},{\"attributes\":{},\"id\":\"5950\",\"type\":\"BasicTickFormatter\"},{\"attributes\":{\"coordinates\":null,\"data_source\":{\"id\":\"6019\"},\"glyph\":{\"id\":\"6022\"},\"group\":null,\"hover_glyph\":null,\"muted_glyph\":{\"id\":\"6024\"},\"nonselection_glyph\":{\"id\":\"6023\"},\"selection_glyph\":{\"id\":\"6054\"},\"view\":{\"id\":\"6026\"}},\"id\":\"6025\",\"type\":\"GlyphRenderer\"},{\"attributes\":{\"base\":60,\"mantissas\":[1,2,5,10,15,20,30],\"max_interval\":1800000.0,\"min_interval\":1000.0,\"num_minor_ticks\":0},\"id\":\"5971\",\"type\":\"AdaptiveTicker\"},{\"attributes\":{\"tools\":[{\"id\":\"5911\"},{\"id\":\"5912\"},{\"id\":\"5913\"},{\"id\":\"5931\"},{\"id\":\"5932\"},{\"id\":\"5933\"},{\"id\":\"5934\"},{\"id\":\"5935\"}]},\"id\":\"5937\",\"type\":\"Toolbar\"},{\"attributes\":{\"base\":24,\"mantissas\":[1,2,4,6,8,12],\"max_interval\":43200000.0,\"min_interval\":3600000.0,\"num_minor_ticks\":0},\"id\":\"5972\",\"type\":\"AdaptiveTicker\"},{\"attributes\":{},\"id\":\"5951\",\"type\":\"AllLabels\"},{\"attributes\":{},\"id\":\"5981\",\"type\":\"YearsTicker\"},{\"attributes\":{\"months\":[0,1,2,3,4,5,6,7,8,9,10,11]},\"id\":\"5977\",\"type\":\"MonthsTicker\"},{\"attributes\":{\"days\":[1,15]},\"id\":\"5976\",\"type\":\"DaysTicker\"},{\"attributes\":{},\"id\":\"5953\",\"type\":\"Selection\"},{\"attributes\":{\"days\":[1,2,3,4,5,6,7,8,9,10,11,12,13,14,15,16,17,18,19,20,21,22,23,24,25,26,27,28,29,30,31]},\"id\":\"5973\",\"type\":\"DaysTicker\"},{\"attributes\":{\"children\":[{\"id\":\"5908\"},{\"id\":\"5914\"},{\"id\":\"6081\"}],\"margin\":[0,0,0,0],\"name\":\"Row09025\",\"tags\":[\"embedded\"]},\"id\":\"5907\",\"type\":\"Row\"},{\"attributes\":{},\"id\":\"6038\",\"type\":\"UnionRenderers\"},{\"attributes\":{\"days\":[1,4,7,10,13,16,19,22,25,28]},\"id\":\"5974\",\"type\":\"DaysTicker\"},{\"attributes\":{\"days\":[1,8,15,22]},\"id\":\"5975\",\"type\":\"DaysTicker\"},{\"attributes\":{\"fill_alpha\":0.2,\"fill_color\":\"red\",\"hatch_alpha\":0.2,\"hatch_color\":\"red\",\"line_alpha\":0.2,\"x\":{\"field\":\"x\"},\"y\":{\"field\":\"y\"}},\"id\":\"5955\",\"type\":\"Patch\"},{\"attributes\":{\"callback\":null,\"formatters\":{\"@{index}\":\"datetime\"},\"renderers\":[{\"id\":\"6025\"}],\"tags\":[\"hv_created\"],\"tooltips\":[[\"index\",\"@{index}{%F %T}\"],[\"predicted_mean\",\"@{predicted_mean}\"]]},\"id\":\"5913\",\"type\":\"HoverTool\"},{\"attributes\":{\"months\":[0,6]},\"id\":\"5980\",\"type\":\"MonthsTicker\"},{\"attributes\":{\"months\":[0,2,4,6,8,10]},\"id\":\"5978\",\"type\":\"MonthsTicker\"},{\"attributes\":{\"line_color\":\"#30a2da\",\"line_width\":2,\"x\":{\"field\":\"date\"},\"y\":{\"field\":\"users\"}},\"id\":\"5988\",\"type\":\"Line\"},{\"attributes\":{\"click_policy\":\"mute\",\"coordinates\":null,\"group\":null,\"items\":[{\"id\":\"5983\"},{\"id\":\"6017\"},{\"id\":\"6053\"}],\"location\":\"bottom_left\"},\"id\":\"5982\",\"type\":\"Legend\"},{\"attributes\":{\"line_color\":\"#30a2da\",\"line_width\":2,\"x\":{\"field\":\"date\"},\"y\":{\"field\":\"users\"}},\"id\":\"6018\",\"type\":\"Line\"},{\"attributes\":{\"callback\":null,\"formatters\":{\"@{date}\":\"datetime\"},\"renderers\":[{\"id\":\"5991\"}],\"tags\":[\"hv_created\"],\"tooltips\":[[\"date\",\"@{date}{%F %T}\"],[\"users\",\"@{users}\"]]},\"id\":\"5912\",\"type\":\"HoverTool\"},{\"attributes\":{\"months\":[0,4,8]},\"id\":\"5979\",\"type\":\"MonthsTicker\"},{\"attributes\":{\"end\":1629849600000.0,\"reset_end\":1629849600000.0,\"reset_start\":1625097600000.0,\"start\":1625097600000.0,\"tags\":[[[\"index\",\"index\",null]]]},\"id\":\"5909\",\"type\":\"Range1d\"},{\"attributes\":{\"data\":{\"date\":{\"__ndarray__\":\"AADA1/Wld0IAAIA9SKZ3QgAAQKOapndCAAAACe2md0IAAMBuP6d3QgAAgNSRp3dCAABAOuSnd0IAAACgNqh3QgAAwAWJqHdCAACAa9uod0IAAEDRLal3QgAAADeAqXdCAADAnNKpd0IAAIACJap3QgAAQGh3qndCAAAAzsmqd0IAAMAzHKt3QgAAgJluq3dCAABA/8Crd0IAAABlE6x3QgAAwMplrHdCAACAMLisd0IAAECWCq13QgAAAPxcrXdCAADAYa+td0IAAIDHAa53QgAAQC1UrndCAAAAk6aud0IAAMD4+K53QgAAgF5Lr3dCAABAxJ2vd0IAAAAq8K93QgAAwI9CsHdCAACA9ZSwd0IAAEBb57B3QgAAAME5sXdCAADAJoyxd0IAAICM3rF3QgAAQPIwsndCAAAAWIOyd0IAAMC91bJ3QgAAgCMos3dCAABAiXqzd0IAAADvzLN3QgAAwFQftHdCAACAunG0d0IAAEAgxLR3QgAAAIYWtXdCAADA62i1d0IAAIBRu7V3QgAAQLcNtndCAAAAHWC2d0IAAMCCsrZ3QgAAgOgEt3dCAABATle3d0IAAAC0qbd3Qg==\",\"dtype\":\"float64\",\"order\":\"little\",\"shape\":[56]},\"users\":[3123,2870,2020,1828,2722,2991,2976,2834,2609,1832,1462,2563,2897,3057,2697,2391,1730,1434,2455,2508,2563,2447,2543,1714,1415,2407,2587,2314,2465,2088,1535,133,2146,2266,2330,2323,2003,1406,1239,1989,2268,2249,2322,2098,1477,1308,1920,2219,2482,2345,2185,1546,1393,2371,2547,2448]},\"selected\":{\"id\":\"5986\"},\"selection_policy\":{\"id\":\"6002\"}},\"id\":\"5985\",\"type\":\"ColumnDataSource\"},{\"attributes\":{\"coordinates\":null,\"data_source\":{\"id\":\"5952\"},\"glyph\":{\"id\":\"5955\"},\"group\":null,\"hover_glyph\":null,\"muted_glyph\":{\"id\":\"5957\"},\"nonselection_glyph\":{\"id\":\"5956\"},\"selection_glyph\":{\"id\":\"5984\"},\"view\":{\"id\":\"5959\"}},\"id\":\"5958\",\"type\":\"GlyphRenderer\"},{\"attributes\":{\"fill_alpha\":0.2,\"fill_color\":\"red\",\"hatch_alpha\":0.1,\"hatch_color\":\"red\",\"line_alpha\":0.2,\"x\":{\"field\":\"x\"},\"y\":{\"field\":\"y\"}},\"id\":\"5956\",\"type\":\"Patch\"},{\"attributes\":{},\"id\":\"5948\",\"type\":\"AllLabels\"},{\"attributes\":{\"fill_alpha\":0.2,\"fill_color\":\"red\",\"hatch_alpha\":0.2,\"hatch_color\":\"red\",\"line_alpha\":0.2,\"x\":{\"field\":\"x\"},\"y\":{\"field\":\"y\"}},\"id\":\"5957\",\"type\":\"Patch\"},{\"attributes\":{\"source\":{\"id\":\"5952\"}},\"id\":\"5959\",\"type\":\"CDSView\"},{\"attributes\":{},\"id\":\"5931\",\"type\":\"SaveTool\"},{\"attributes\":{},\"id\":\"5928\",\"type\":\"BasicTicker\"},{\"attributes\":{},\"id\":\"6002\",\"type\":\"UnionRenderers\"},{\"attributes\":{\"axis\":{\"id\":\"5927\"},\"coordinates\":null,\"dimension\":1,\"grid_line_color\":null,\"group\":null,\"ticker\":null},\"id\":\"5930\",\"type\":\"Grid\"},{\"attributes\":{\"end\":4816.198922841695,\"reset_end\":4816.198922841695,\"reset_start\":-551.1574324670738,\"start\":-551.1574324670738,\"tags\":[[[\"lower users\",\"lower users\",null]]]},\"id\":\"5910\",\"type\":\"Range1d\"},{\"attributes\":{},\"id\":\"5919\",\"type\":\"LinearScale\"},{\"attributes\":{\"label\":{\"value\":\"prediction\"},\"renderers\":[{\"id\":\"6025\"}]},\"id\":\"6053\",\"type\":\"LegendItem\"},{\"attributes\":{\"line_color\":\"#fc4f30\",\"line_width\":2,\"x\":{\"field\":\"index\"},\"y\":{\"field\":\"predicted_mean\"}},\"id\":\"6054\",\"type\":\"Line\"},{\"attributes\":{\"coordinates\":null,\"group\":null,\"text\":\"Predictions (ARIMA) vs real values\",\"text_color\":\"black\",\"text_font_size\":\"12pt\"},\"id\":\"5915\",\"type\":\"Title\"},{\"attributes\":{\"coordinates\":null,\"data_source\":{\"id\":\"5985\"},\"glyph\":{\"id\":\"5988\"},\"group\":null,\"hover_glyph\":null,\"muted_glyph\":{\"id\":\"5990\"},\"nonselection_glyph\":{\"id\":\"5989\"},\"selection_glyph\":{\"id\":\"6018\"},\"view\":{\"id\":\"5992\"}},\"id\":\"5991\",\"type\":\"GlyphRenderer\"},{\"attributes\":{},\"id\":\"5986\",\"type\":\"Selection\"},{\"attributes\":{\"data\":{\"index\":{\"__ndarray__\":\"AADA1/Wld0IAAIA9SKZ3QgAAQKOapndCAAAACe2md0IAAMBuP6d3QgAAgNSRp3dCAABAOuSnd0IAAACgNqh3QgAAwAWJqHdCAACAa9uod0IAAEDRLal3QgAAADeAqXdCAADAnNKpd0IAAIACJap3QgAAQGh3qndCAAAAzsmqd0IAAMAzHKt3QgAAgJluq3dCAABA/8Crd0IAAABlE6x3QgAAwMplrHdCAACAMLisd0IAAECWCq13QgAAAPxcrXdCAADAYa+td0IAAIDHAa53QgAAQC1UrndCAAAAk6aud0IAAMD4+K53QgAAgF5Lr3dCAABAxJ2vd0IAAAAq8K93QgAAwI9CsHdCAACA9ZSwd0IAAEBb57B3QgAAAME5sXdCAADAJoyxd0IAAICM3rF3QgAAQPIwsndCAAAAWIOyd0IAAMC91bJ3QgAAgCMos3dCAABAiXqzd0IAAADvzLN3QgAAwFQftHdCAACAunG0d0IAAEAgxLR3QgAAAIYWtXdCAADA62i1d0IAAIBRu7V3QgAAQLcNtndCAAAAHWC2d0IAAMCCsrZ3QgAAgOgEt3dCAABATle3d0IAAAC0qbd3Qg==\",\"dtype\":\"float64\",\"order\":\"little\",\"shape\":[56]},\"predicted_mean\":{\"__ndarray__\":\"zPPxJEDtqEASoN7frFWnQH5fOouiQaFAlbd/RVqjnkCJdYCTp5qnQN1+hXU/ealAG7ms+9XsqUASM/Ra/0elQOELDpPvgaNAz4y5ndHnm0BD3r73ilmZQKWtvbrx0qNAofVFTAwypkDKPrImZ1amQKqCHBAbXqZAR7AICPXTpEC5M0Mjt8GdQFbxnM9165lA/OD0NWiMpEBcXsFBw9ymQHixykuHdKdAfE3RlPaxokBLj3caUImgQMZ6w76tdZZAOlpYUpIdk0AzQrOEf/6gQF/NM5dBoaJAhW1EIeoJo0AXrV/HKUahQK4KHt5OCqFAsWkgwNq7l0BZi985gQiUQCw06BZ8U6FAIy5HpCUeokBdVrFNEnChQOItmFxTg6JAeSePvKIOoUCnuL8Y01aWQGSJPaJ9zodAHjgSCs+/oEAnGq3/AZSiQGhq8qKAdaJABSSwO2QZokC3iDlz0lyeQARy3E/ZUJZA4YvXiOv0jEApCx9bhbSdQJMq9Z3ScaFAY86w+OeCoEAhoaYqzT6jQIOu/FxvX6FABFPEpYeQmkDX5FKQq6KUQBn+exaDUqFAOev2zABOokBKkGpjxrijQA==\",\"dtype\":\"float64\",\"order\":\"little\",\"shape\":[56]}},\"selected\":{\"id\":\"6020\"},\"selection_policy\":{\"id\":\"6038\"}},\"id\":\"6019\",\"type\":\"ColumnDataSource\"},{\"attributes\":{},\"id\":\"5921\",\"type\":\"LinearScale\"},{\"attributes\":{\"line_alpha\":0.2,\"line_color\":\"#fc4f30\",\"line_width\":2,\"x\":{\"field\":\"index\"},\"y\":{\"field\":\"predicted_mean\"}},\"id\":\"6024\",\"type\":\"Line\"},{\"attributes\":{\"overlay\":{\"id\":\"5936\"}},\"id\":\"5934\",\"type\":\"BoxZoomTool\"},{\"attributes\":{\"source\":{\"id\":\"6019\"}},\"id\":\"6026\",\"type\":\"CDSView\"},{\"attributes\":{\"num_minor_ticks\":5,\"tickers\":[{\"id\":\"5970\"},{\"id\":\"5971\"},{\"id\":\"5972\"},{\"id\":\"5973\"},{\"id\":\"5974\"},{\"id\":\"5975\"},{\"id\":\"5976\"},{\"id\":\"5977\"},{\"id\":\"5978\"},{\"id\":\"5979\"},{\"id\":\"5980\"},{\"id\":\"5981\"}]},\"id\":\"5924\",\"type\":\"DatetimeTicker\"},{\"attributes\":{\"line_alpha\":0.1,\"line_color\":\"#fc4f30\",\"line_width\":2,\"x\":{\"field\":\"index\"},\"y\":{\"field\":\"predicted_mean\"}},\"id\":\"6023\",\"type\":\"Line\"},{\"attributes\":{},\"id\":\"5947\",\"type\":\"DatetimeTickFormatter\"},{\"attributes\":{\"below\":[{\"id\":\"5923\"}],\"center\":[{\"id\":\"5926\"},{\"id\":\"5930\"},{\"id\":\"5982\"}],\"height\":300,\"left\":[{\"id\":\"5927\"}],\"margin\":[5,5,5,5],\"min_border_bottom\":10,\"min_border_left\":10,\"min_border_right\":10,\"min_border_top\":10,\"renderers\":[{\"id\":\"5958\"},{\"id\":\"5991\"},{\"id\":\"6025\"}],\"sizing_mode\":\"fixed\",\"title\":{\"id\":\"5915\"},\"toolbar\":{\"id\":\"5937\"},\"width\":700,\"x_range\":{\"id\":\"5909\"},\"x_scale\":{\"id\":\"5919\"},\"y_range\":{\"id\":\"5910\"},\"y_scale\":{\"id\":\"5921\"}},\"id\":\"5914\",\"subtype\":\"Figure\",\"type\":\"Plot\"},{\"attributes\":{},\"id\":\"6020\",\"type\":\"Selection\"},{\"attributes\":{\"margin\":[5,5,5,5],\"name\":\"HSpacer09029\",\"sizing_mode\":\"stretch_width\"},\"id\":\"5908\",\"type\":\"Spacer\"},{\"attributes\":{\"bottom_units\":\"screen\",\"coordinates\":null,\"fill_alpha\":0.5,\"fill_color\":\"lightgrey\",\"group\":null,\"left_units\":\"screen\",\"level\":\"overlay\",\"line_alpha\":1.0,\"line_color\":\"black\",\"line_dash\":[4,4],\"line_width\":2,\"right_units\":\"screen\",\"syncable\":false,\"top_units\":\"screen\"},\"id\":\"5936\",\"type\":\"BoxAnnotation\"},{\"attributes\":{\"axis\":{\"id\":\"5923\"},\"coordinates\":null,\"grid_line_color\":null,\"group\":null,\"ticker\":null},\"id\":\"5926\",\"type\":\"Grid\"},{\"attributes\":{},\"id\":\"5967\",\"type\":\"UnionRenderers\"},{\"attributes\":{\"label\":{\"value\":\"test\"},\"renderers\":[{\"id\":\"5991\"}]},\"id\":\"6017\",\"type\":\"LegendItem\"},{\"attributes\":{},\"id\":\"5932\",\"type\":\"PanTool\"},{\"attributes\":{},\"id\":\"5933\",\"type\":\"WheelZoomTool\"},{\"attributes\":{\"line_alpha\":0.1,\"line_color\":\"#30a2da\",\"line_width\":2,\"x\":{\"field\":\"date\"},\"y\":{\"field\":\"users\"}},\"id\":\"5989\",\"type\":\"Line\"},{\"attributes\":{\"axis_label\":\"\",\"coordinates\":null,\"formatter\":{\"id\":\"5947\"},\"group\":null,\"major_label_policy\":{\"id\":\"5948\"},\"ticker\":{\"id\":\"5924\"}},\"id\":\"5923\",\"type\":\"DatetimeAxis\"},{\"attributes\":{\"line_alpha\":0.2,\"line_color\":\"#30a2da\",\"line_width\":2,\"x\":{\"field\":\"date\"},\"y\":{\"field\":\"users\"}},\"id\":\"5990\",\"type\":\"Line\"},{\"attributes\":{},\"id\":\"5935\",\"type\":\"ResetTool\"},{\"attributes\":{\"line_color\":\"#fc4f30\",\"line_width\":2,\"x\":{\"field\":\"index\"},\"y\":{\"field\":\"predicted_mean\"}},\"id\":\"6022\",\"type\":\"Line\"},{\"attributes\":{\"axis_label\":\"users\",\"coordinates\":null,\"formatter\":{\"id\":\"5950\"},\"group\":null,\"major_label_policy\":{\"id\":\"5951\"},\"ticker\":{\"id\":\"5928\"}},\"id\":\"5927\",\"type\":\"LinearAxis\"},{\"attributes\":{\"fill_alpha\":0.2,\"fill_color\":\"red\",\"hatch_alpha\":0.2,\"hatch_color\":\"red\",\"line_alpha\":0.2,\"x\":{\"field\":\"x\"},\"y\":{\"field\":\"y\"}},\"id\":\"5984\",\"type\":\"Patch\"},{\"attributes\":{\"callback\":null,\"formatters\":{\"@{x}\":\"datetime\"},\"renderers\":[{\"id\":\"5958\"}],\"tags\":[\"hv_created\"],\"tooltips\":[[\"index\",\"@{index}\"],[\"lower users\",\"@{lower_users}\"],[\"upper users\",\"@{upper_users}\"]]},\"id\":\"5911\",\"type\":\"HoverTool\"},{\"attributes\":{\"margin\":[5,5,5,5],\"name\":\"HSpacer09030\",\"sizing_mode\":\"stretch_width\"},\"id\":\"6081\",\"type\":\"Spacer\"},{\"attributes\":{\"source\":{\"id\":\"5985\"}},\"id\":\"5992\",\"type\":\"CDSView\"},{\"attributes\":{\"label\":{\"value\":\"prediction interval\"},\"renderers\":[{\"id\":\"5958\"}]},\"id\":\"5983\",\"type\":\"LegendItem\"}],\"root_ids\":[\"5907\"]},\"title\":\"Bokeh Application\",\"version\":\"2.4.3\"}};\n",
       "    var render_items = [{\"docid\":\"2833c63b-d879-4169-a8b1-cfae83c96094\",\"root_ids\":[\"5907\"],\"roots\":{\"5907\":\"f94e054e-287b-4054-8c43-b40ed4a5074b\"}}];\n",
       "    root.Bokeh.embed.embed_items_notebook(docs_json, render_items);\n",
       "  }\n",
       "  if (root.Bokeh !== undefined && root.Bokeh.Panel !== undefined) {\n",
       "    embed_document(root);\n",
       "  } else {\n",
       "    var attempts = 0;\n",
       "    var timer = setInterval(function(root) {\n",
       "      if (root.Bokeh !== undefined && root.Bokeh.Panel !== undefined) {\n",
       "        clearInterval(timer);\n",
       "        embed_document(root);\n",
       "      } else if (document.readyState == \"complete\") {\n",
       "        attempts++;\n",
       "        if (attempts > 200) {\n",
       "          clearInterval(timer);\n",
       "          console.log(\"Bokeh: ERROR: Unable to run BokehJS code because BokehJS library is missing\");\n",
       "        }\n",
       "      }\n",
       "    }, 25, root)\n",
       "  }\n",
       "})(window);</script>"
      ],
      "text/plain": [
       ":Overlay\n",
       "   .Area.Prediction_interval :Area   [index]   (lower users,upper users)\n",
       "   .Curve.Test               :Curve   [date]   (users)\n",
       "   .Curve.Prediction         :Curve   [index]   (predicted_mean)"
      ]
     },
     "execution_count": 82,
     "metadata": {
      "application/vnd.holoviews_exec.v0+json": {
       "id": "5907"
      }
     },
     "output_type": "execute_result"
    }
   ],
   "source": [
    "# Static plot\n",
    "# ==============================================================================\n",
    "# fig, ax = plt.subplots(figsize=(10, 3))\n",
    "# data_test.loc[predictions.index, 'users'].plot(linewidth=2, label='test', ax=ax)\n",
    "# predictions.iloc[:, 0].plot(linewidth=2, label='prediction', ax=ax)\n",
    "# ax.set_title('Predictions (ARIMA) vs real values')\n",
    "# ax.fill_between(\n",
    "#     predictions.index,\n",
    "#     predictions.iloc[:, 1],\n",
    "#     predictions.iloc[:, 2],\n",
    "#     alpha = 0.2,\n",
    "#     color = 'red',\n",
    "#     label = 'prediction interval' \n",
    "# )\n",
    "# ax.legend();\n",
    "\n",
    "# Interactive plot\n",
    "# ==============================================================================\n",
    "plot_test = data_test.users.hvplot.line(label='test')\n",
    "plot_predict = predictions['predicted_mean'].hvplot.line(label='prediction')\n",
    "plot_intervalo = predictions.hvplot.area(\n",
    "                     y     = 'lower users',\n",
    "                     y2    = 'upper users',\n",
    "                     color = 'red',\n",
    "                     alpha = 0.2,\n",
    "                     label = 'prediction interval'\n",
    "                 )\n",
    "layout = plot_intervalo * plot_test * plot_predict\n",
    "layout = layout.opts(\n",
    "             title = 'Predictions (ARIMA) vs real values',\n",
    "             ylabel = 'users',\n",
    "             legend_position = 'bottom_left'\n",
    "         )\n",
    "layout"
   ]
  },
  {
   "cell_type": "markdown",
   "metadata": {
    "tags": []
   },
   "source": [
    "## Conclusion\n",
    "<br>\n",
    "\n",
    "Best results are achived using an ARIMA.\n",
    "\n",
    "\n",
    "| Model | Exogenous features | MAE backtest |\n",
    "|:------:|:------------------:|:------------:|\n",
    "| ARIMA  | False              | 181.3     |\n",
    "| ARIMA  | True               | 181.3     |\n",
    "| Autoregresivo-ridge   | False             | 216.3    |\n",
    "| Autoregresivo-ridge   | True              | 195.8     |\n",
    "\n",
    "How to further improve the model:\n",
    "\n",
    "+ Adding as exogenous feature vacation days.\n",
    "\n",
    "+ Using non linear regressors such as random forest or gradient boosting [Forecasting time series with gradient boosting: Skforecast, XGBoost, LightGBM and CatBoost](https://www.cienciadedatos.net/documentos/py39-forecasting-time-series-with-skforecast-xgboost-lightgbm-catboost.html).\n",
    "\n",
    "+ Using a [direct multi-step forecaster](https://joaquinamatrodrigo.github.io/skforecast/latest/user_guides/direct-multi-step-forecasting.html).\n"
   ]
  },
  {
   "cell_type": "markdown",
   "metadata": {},
   "source": [
    "## Session information"
   ]
  },
  {
   "cell_type": "code",
   "execution_count": 83,
   "metadata": {},
   "outputs": [
    {
     "name": "stdout",
     "output_type": "stream",
     "text": [
      "-----\n",
      "holoviews           1.15.0\n",
      "hvplot              0.8.1\n",
      "ipykernel           5.5.6\n",
      "matplotlib          3.5.0\n",
      "numpy               1.23.0\n",
      "pandas              1.4.0\n",
      "seaborn             0.11.0\n",
      "session_info        1.0.0\n",
      "skforecast          0.5.0\n",
      "sklearn             1.1.0\n",
      "statsmodels         0.13.0\n",
      "-----\n",
      "IPython             8.5.0\n",
      "jupyter_client      7.3.5\n",
      "jupyter_core        4.11.1\n",
      "notebook            6.4.12\n",
      "-----\n",
      "Python 3.9.13 (main, Aug 25 2022, 23:26:10) [GCC 11.2.0]\n",
      "Linux-5.15.0-48-generic-x86_64-with-glibc2.31\n",
      "-----\n",
      "Session information updated at 2022-10-01 12:21\n"
     ]
    }
   ],
   "source": [
    "import session_info\n",
    "session_info.show(html=False)"
   ]
  },
  {
   "cell_type": "markdown",
   "metadata": {},
   "source": [
    "## References\n",
    "<br>\n",
    "\n",
    "Hyndman, R.J., & Athanasopoulos, G. (2021) Forecasting: principles and practice, 3rd edition, OTexts: Melbourne, Australia. [book](https://otexts.com/fpp3/)\n",
    "\n",
    "Time Series Analysis and Forecasting with ADAM Ivan Svetunkov [book](https://openforecast.org/adam/)\n",
    "\n",
    "Python for Finance: Mastering Data-Driven Finance [book](https://www.amazon.es/gp/product/1492024333/ref=as_li_qf_asin_il_tl?ie=UTF8&tag=cienciadedato-21&creative=24630&linkCode=as2&creativeASIN=1492024333&linkId=70c3175ad015970cd1c2328b7a40a055)"
   ]
  },
  {
   "cell_type": "markdown",
   "metadata": {},
   "source": [
    "**How to cite this document?**\n",
    "\n",
    "<p style=\"text-align:left\"><font size=\"3\" color=\"#555\">\n",
    "Forecasting web traffic with machine learning and Python by Joaquín Amat Rodrigo and Javier Escobar Ortiz, available under a Attribution 4.0 International (CC BY 4.0) at https://www.cienciadedatos.net/py36-forecasting-visitas-web-machine-learning.html\n",
    "    \n",
    "</font></p>"
   ]
  },
  {
   "cell_type": "markdown",
   "metadata": {},
   "source": [
    "<a rel=\"license\" href=\"http://creativecommons.org/licenses/by/4.0/\"><img alt=\"Creative Commons Licence\" style=\"border-width:0\" src=\"https://i.creativecommons.org/l/by/4.0/88x31.png\" /></a><br />This work by  Joaquín Amat Rodrigo and Javier Escobar Ortiz is licensed under a <a rel=\"license\" href=\"http://creativecommons.org/licenses/by/4.0/\">Creative Commons Attribution 4.0 International License</a>."
   ]
  }
 ],
 "metadata": {
  "kernelspec": {
   "display_name": "Python 3.7.9 ('cienciadedatos')",
   "language": "python",
   "name": "python3"
  },
  "language_info": {
   "codemirror_mode": {
    "name": "ipython",
    "version": 3
   },
   "file_extension": ".py",
   "mimetype": "text/x-python",
   "name": "python",
   "nbconvert_exporter": "python",
   "pygments_lexer": "ipython3",
   "version": "3.7.9"
  },
  "toc": {
   "base_numbering": 1,
   "nav_menu": {},
   "number_sections": false,
   "sideBar": true,
   "skip_h1_title": true,
   "title_cell": "Tabla de contenidos",
   "title_sidebar": "Tabla de contenidos",
   "toc_cell": false,
   "toc_position": {
    "height": "calc(100% - 180px)",
    "left": "10px",
    "top": "150px",
    "width": "270px"
   },
   "toc_section_display": true,
   "toc_window_display": true
  },
  "varInspector": {
   "cols": {
    "lenName": 16,
    "lenType": 16,
    "lenVar": 40
   },
   "kernels_config": {
    "python": {
     "delete_cmd_postfix": "",
     "delete_cmd_prefix": "del ",
     "library": "var_list.py",
     "varRefreshCmd": "print(var_dic_list())"
    },
    "r": {
     "delete_cmd_postfix": ") ",
     "delete_cmd_prefix": "rm(",
     "library": "var_list.r",
     "varRefreshCmd": "cat(var_dic_list()) "
    }
   },
   "position": {
    "height": "144.391px",
    "left": "1478px",
    "right": "20px",
    "top": "126px",
    "width": "350px"
   },
   "types_to_exclude": [
    "module",
    "function",
    "builtin_function_or_method",
    "instance",
    "_Feature"
   ],
   "window_display": false
  },
  "vscode": {
   "interpreter": {
    "hash": "c12913696a895390034120989688913c364ffd1b20a4e74b4084d4da4733ed9a"
   }
  }
 },
 "nbformat": 4,
 "nbformat_minor": 4
}
