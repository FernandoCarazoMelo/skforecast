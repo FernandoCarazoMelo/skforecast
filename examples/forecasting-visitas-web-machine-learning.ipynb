{
 "cells": [
  {
   "cell_type": "markdown",
   "metadata": {},
   "source": [
    " "
   ]
  },
  {
   "cell_type": "markdown",
   "metadata": {},
   "source": [
    "<h1><center><font size=\"25\">Predicción (<i>forecasting</i>) visitas página web con machine learning</font></center></h1>"
   ]
  },
  {
   "cell_type": "markdown",
   "metadata": {},
   "source": [
    "<center><b>Joaquín Amat Rodrigo, Javier Escobar Ortiz</b></center>\n",
    "\n",
    "<center><i>Septiembre, 2021 (última actualización Septiembre 2022)</i></center>"
   ]
  },
  {
   "cell_type": "markdown",
   "metadata": {},
   "source": [
    "Más sobre ciencia de datos: [**cienciadedatos.net**](https://cienciadedatos.net)\n",
    "\n",
    "+ [Forecasting series temporales con Python y Scikit Learn](https://www.cienciadedatos.net/documentos/py27-forecasting-series-temporales-python-scikitlearn.html)\n",
    "+ [Predicción (forecasting) de la demanda eléctrica con Python](https://www.cienciadedatos.net/documentos/py29-forecasting-demanda-energia-electrica-python.html)\n",
    "+ [Forecasting series temporales con gradient boosting: Skforecast, XGBoost, LightGBM y CatBoost](https://www.cienciadedatos.net/documentos/py39-forecasting-series-temporales-con-skforecast-xgboost-lightgbm-catboost.html)\n",
    "+ [Predicción del precio de Bitcoin con Python](https://www.cienciadedatos.net/documentos/py41-forecasting-criptomoneda-bitcoin-machine-learning-python.html)\n",
    "+ [Intervalos de predicción en modelos de forecasting](https://www.cienciadedatos.net/documentos/py42-intervalos-prediccion-modelos-forecasting-machine-learning.html)"
   ]
  },
  {
   "cell_type": "markdown",
   "metadata": {},
   "source": [
    "## Introducción\n",
    "<br>\n",
    "\n",
    "Una serie temporal (*time series*) es una sucesión de datos ordenados cronológicamente, espaciados a intervalos iguales o desiguales. El proceso de *forecasting* consiste en predecir el valor futuro de una serie temporal, bien modelando la serie únicamente en función de su comportamiento pasado (autorregresivo) o empleando otras variables externas.\n",
    "\n",
    "En este documento se muestra un ejemplo de cómo utilizar métodos *machine learning* y modelado estadístico (ARIMA) para predecir el número de visitas diarias que recibe una página web. Para ello, se hace uso de [**skforecast**](https://joaquinamatrodrigo.github.io/skforecast/latest/index.html), una sencilla librería de Python que permite, entre otras cosas, adaptar cualquier regresor de scikit-learn a problemas de *forecasting*.\n",
    "<br><br>"
   ]
  },
  {
   "cell_type": "markdown",
   "metadata": {},
   "source": [
    "## Caso de uso\n",
    "<br>\n",
    "\n",
    "Se dispone del historial de visitas diarias a la web [cienciadedatos.net](https://www.cienciadedatos.net) desde el 01/07/2020. Se pretende generar un modelo de *forecasting* capaz de predecir el tráfico web que tendrá la página a 7 días vista. En concreto, el usuario quiere ser capaz de ejecutar el modelo cada lunes y obtener las predicciones de tráfico diario hasta el lunes siguiente.\n",
    "\n",
    "Con el objetivo de poder evaluar de forma robusta la capacidad del modelo acorde al uso que se le quiere dar, conviene no limitarse a predecir únicamente los últimos 7 días de la serie temporal, sino simular el proceso completo. El [backtesting](https://joaquinamatrodrigo.github.io/skforecast/latest/user_guides/backtesting.html) es un tipo especial de *cross-validation* que se aplica al periodo o periodos anteriores y puede emplearse con diferentes estrategias:\n",
    "\n",
    "**Backtesting con reentrenamiento (refit)**\n",
    "\n",
    "El modelo se entrena cada vez antes de realizar las predicciones, de esta forma, se incorpora toda la información disponible hasta el momento. Se trata de una adaptación del proceso de *cross-validation* en el que, en lugar de hacer un reparto aleatorio de las observaciones, el conjunto de entrenamiento se incrementa de forma secuencial, manteniendo el orden temporal de los datos.\n",
    "\n",
    "<p align=\"center\"><img src=\"./images/diagram-backtesting-refit.png\" style=\"width: 500px;\"></p>\n",
    "\n",
    "<p align=\"center\"><img src=\"./images/backtesting_refit.gif\" style=\"width: 600px;\"></p>\n",
    "\n",
    "\n",
    "**Backtesting with refit and fixed training size (rolling origin)**\n",
    "\n",
    "Una técnica similar a la anterior pero, en este caso, el origen de los datos de forecasting se desplaza hacia delante, por lo que el tamaño del entrenamiento se mantiene constante. También se conoce como *walk-forward validation*.\n",
    "\n",
    "<p align=\"center\"><img src=\"./images/diagram-backtesting-refit-fixed-train-size.png\" style=\"width: 500px;\"></p>\n",
    "\n",
    "<p align=\"center\"><img src=\"./images/backtesting_refit_fixed_train_size.gif\" style=\"width: 600px;\"></p>\n",
    "\n",
    "\n",
    "**Backtesting sin reentrenamiento**\n",
    "\n",
    "Con esta estrategia, el modelo se entrena una única vez con un conjunto inicial y se realizan las predicciones de forma secuencial sin actualizar el modelo y siguiendo el orden temporal de los datos. Esta estrategia tiene la ventaja de ser mucho más rápida puesto que el modelo solo se entrena una vez. La desventaja es que el modelo no incorpora la última información disponible por lo que puede perder capacidad predictiva con el tiempo.\n",
    "\n",
    "<p align=\"center\"><img src=\"./images/diagram-backtesting-no-refit.png\" style=\"width: 500px;\"></p>\n",
    "\n",
    "<p align=\"center\"><img src=\"./images/backtesting_no_refit.gif\" style=\"width: 600px;\"></p>\n",
    "\n",
    "<br>\n",
    "\n",
    "\n",
    "El método de validación más adecuada dependerá de cuál sea la estrategia seguida en la puesta en producción, en concreto, de si el modelo se va a reentrenar periódicamente o no antes de que se ejecute el proceso de predicción. Independientemente de la estrategia utilizada, es importante no incluir los datos de test en el proceso de búsqueda para no caer en problemas de *overfitting*."
   ]
  },
  {
   "cell_type": "markdown",
   "metadata": {},
   "source": [
    "## Librerías\n",
    "<br>\n",
    "\n",
    "Las librerías utilizadas en este documento son:"
   ]
  },
  {
   "cell_type": "code",
   "execution_count": 32,
   "metadata": {},
   "outputs": [],
   "source": [
    "# Tratamiento de datos\n",
    "# ==============================================================================\n",
    "import numpy as np\n",
    "import pandas as pd\n",
    "\n",
    "# Gráficos\n",
    "# ==============================================================================\n",
    "import matplotlib.pyplot as plt\n",
    "import seaborn as sns\n",
    "import hvplot.pandas\n",
    "%matplotlib inline\n",
    "from statsmodels.graphics.tsaplots import plot_acf\n",
    "from statsmodels.graphics.tsaplots import plot_pacf\n",
    "plt.style.use('fivethirtyeight')\n",
    "\n",
    "# Modelado y Forecasting\n",
    "# ==============================================================================\n",
    "from skforecast.ForecasterAutoreg import ForecasterAutoreg\n",
    "from skforecast.model_selection import grid_search_forecaster\n",
    "from skforecast.model_selection import backtesting_forecaster\n",
    "from skforecast.model_selection_statsmodels import backtesting_sarimax\n",
    "from skforecast.model_selection_statsmodels import grid_search_sarimax\n",
    "\n",
    "from sklearn.linear_model import Ridge\n",
    "from sklearn.preprocessing import StandardScaler\n",
    "from sklearn.pipeline import make_pipeline\n",
    "from sklearn.metrics import mean_absolute_error\n",
    "\n",
    "# Configuración warnings\n",
    "# ==============================================================================\n",
    "import warnings\n",
    "warnings.filterwarnings('ignore')"
   ]
  },
  {
   "cell_type": "markdown",
   "metadata": {},
   "source": [
    "## Datos\n",
    "<br>\n",
    "\n",
    "Los datos empleados en este documento se han obtenido a partir del servicio de google analytics integrado en la página y pueden descargarse de [aquí](https://github.com/JoaquinAmatRodrigo/Estadistica-machine-learning-python/blob/master/data/visitas_por_dia_web_cienciadedatos.csv). Los campos incluidos son:\n",
    "\n",
    "+ date: fecha en formato dia/mes/año\n",
    "\n",
    "+ users: número total de personas que visitan la web"
   ]
  },
  {
   "cell_type": "code",
   "execution_count": 2,
   "metadata": {},
   "outputs": [
    {
     "data": {
      "text/html": [
       "<div>\n",
       "<style scoped>\n",
       "    .dataframe tbody tr th:only-of-type {\n",
       "        vertical-align: middle;\n",
       "    }\n",
       "\n",
       "    .dataframe tbody tr th {\n",
       "        vertical-align: top;\n",
       "    }\n",
       "\n",
       "    .dataframe thead th {\n",
       "        text-align: right;\n",
       "    }\n",
       "</style>\n",
       "<table border=\"1\" class=\"dataframe\">\n",
       "  <thead>\n",
       "    <tr style=\"text-align: right;\">\n",
       "      <th></th>\n",
       "      <th>date</th>\n",
       "      <th>users</th>\n",
       "    </tr>\n",
       "  </thead>\n",
       "  <tbody>\n",
       "    <tr>\n",
       "      <th>0</th>\n",
       "      <td>1/7/20</td>\n",
       "      <td>2324</td>\n",
       "    </tr>\n",
       "    <tr>\n",
       "      <th>1</th>\n",
       "      <td>2/7/20</td>\n",
       "      <td>2201</td>\n",
       "    </tr>\n",
       "    <tr>\n",
       "      <th>2</th>\n",
       "      <td>3/7/20</td>\n",
       "      <td>2146</td>\n",
       "    </tr>\n",
       "    <tr>\n",
       "      <th>3</th>\n",
       "      <td>4/7/20</td>\n",
       "      <td>1666</td>\n",
       "    </tr>\n",
       "    <tr>\n",
       "      <th>4</th>\n",
       "      <td>5/7/20</td>\n",
       "      <td>1433</td>\n",
       "    </tr>\n",
       "  </tbody>\n",
       "</table>\n",
       "</div>"
      ],
      "text/plain": [
       "     date  users\n",
       "0  1/7/20   2324\n",
       "1  2/7/20   2201\n",
       "2  3/7/20   2146\n",
       "3  4/7/20   1666\n",
       "4  5/7/20   1433"
      ]
     },
     "execution_count": 2,
     "metadata": {},
     "output_type": "execute_result"
    }
   ],
   "source": [
    "# Descarga de datos\n",
    "# ==============================================================================\n",
    "url = ('https://raw.githubusercontent.com/JoaquinAmatRodrigo/Estadistica-machine-learning-python/' +\n",
    "       'master/data/visitas_por_dia_web_cienciadedatos.csv')\n",
    "datos = pd.read_csv(url, sep=',')\n",
    "datos.head()"
   ]
  },
  {
   "cell_type": "markdown",
   "metadata": {},
   "source": [
    "La columna *date* se ha almacenado como `string`. Para convertirla en formato fecha, se emplea la función `pd.to_datetime()`. Una vez en formato `datetime`, y para hacer uso de las funcionalidades de **pandas**, se establece como índice. Además, dado que los datos son de carácter diario, se indica la frecuencia ('1D')."
   ]
  },
  {
   "cell_type": "code",
   "execution_count": 3,
   "metadata": {},
   "outputs": [],
   "source": [
    "# Conversión del formato fecha\n",
    "# ==============================================================================\n",
    "datos['date'] = pd.to_datetime(datos['date'], format='%d/%m/%y')\n",
    "datos = datos.set_index('date')\n",
    "datos = datos.asfreq('1D')\n",
    "datos = datos.sort_index()"
   ]
  },
  {
   "cell_type": "code",
   "execution_count": 4,
   "metadata": {},
   "outputs": [
    {
     "data": {
      "text/plain": [
       "True"
      ]
     },
     "execution_count": 4,
     "metadata": {},
     "output_type": "execute_result"
    }
   ],
   "source": [
    "# Verificar que un índice temporal está completo\n",
    "# ==============================================================================\n",
    "(datos.index == pd.date_range(\n",
    "                    start = datos.index.min(),\n",
    "                    end   = datos.index.max(),\n",
    "                    freq  = datos.index.freq)\n",
    "                ).all()"
   ]
  },
  {
   "cell_type": "code",
   "execution_count": 5,
   "metadata": {},
   "outputs": [
    {
     "name": "stdout",
     "output_type": "stream",
     "text": [
      "Valores missing: 0\n"
     ]
    }
   ],
   "source": [
    "print(f\"Valores missing: {datos.isnull().any(axis=1).sum()}\")"
   ]
  },
  {
   "cell_type": "markdown",
   "metadata": {},
   "source": [
    "El set de datos empieza el *2020-07-01* y termina el *2021-08-22*. Se dividen los datos en 3 conjuntos, uno de entrenamiento, uno de validación y otro de test."
   ]
  },
  {
   "cell_type": "code",
   "execution_count": 6,
   "metadata": {},
   "outputs": [
    {
     "name": "stdout",
     "output_type": "stream",
     "text": [
      "Fechas train      : 2020-07-01 00:00:00 --- 2021-03-30 00:00:00  (n=273)\n",
      "Fechas validación : 2021-03-31 00:00:00 --- 2021-06-30 00:00:00  (n=92)\n",
      "Fechas test       : 2021-07-01 00:00:00 --- 2021-08-25 00:00:00  (n=56)\n"
     ]
    }
   ],
   "source": [
    "# Separación datos train-test\n",
    "# ==============================================================================\n",
    "fin_train = '2021-03-30 23:59:00'\n",
    "fin_validacion = '2021-06-30 23:59:00'\n",
    "\n",
    "datos_train = datos.loc[: fin_train, :]\n",
    "datos_val   = datos.loc[fin_train:fin_validacion, :]\n",
    "datos_test  = datos.loc[fin_validacion:, :]\n",
    "\n",
    "print(f\"Fechas train      : {datos_train.index.min()} --- {datos_train.index.max()}  (n={len(datos_train)})\")\n",
    "print(f\"Fechas validación : {datos_val.index.min()} --- {datos_val.index.max()}  (n={len(datos_val)})\")\n",
    "print(f\"Fechas test       : {datos_test.index.min()} --- {datos_test.index.max()}  (n={len(datos_test)})\")"
   ]
  },
  {
   "cell_type": "markdown",
   "metadata": {},
   "source": [
    "## Exploración gráfica\n",
    "<br>\n",
    "\n",
    "Cuando se quiere generar un modelo de *forecasting*, es importante representar los valores de la serie temporal. Esto permite identificar patrones tales como tendencias y estacionalidad."
   ]
  },
  {
   "cell_type": "markdown",
   "metadata": {},
   "source": [
    "**Serie temporal completa**"
   ]
  },
  {
   "cell_type": "code",
   "execution_count": 7,
   "metadata": {},
   "outputs": [
    {
     "data": {},
     "metadata": {},
     "output_type": "display_data"
    },
    {
     "data": {
      "application/vnd.holoviews_exec.v0+json": "",
      "text/html": [
       "<div id='1002'>\n",
       "  <div class=\"bk-root\" id=\"27e91c7b-321b-43e3-8fc9-787f05d8ce75\" data-root-id=\"1002\"></div>\n",
       "</div>\n",
       "<script type=\"application/javascript\">(function(root) {\n",
       "  function embed_document(root) {\n",
       "    var docs_json = {\"2db4ee91-817d-4ef9-a2d0-5738f6ac0176\":{\"defs\":[{\"extends\":null,\"module\":null,\"name\":\"ReactiveHTML1\",\"overrides\":[],\"properties\":[]},{\"extends\":null,\"module\":null,\"name\":\"FlexBox1\",\"overrides\":[],\"properties\":[{\"default\":\"flex-start\",\"kind\":null,\"name\":\"align_content\"},{\"default\":\"flex-start\",\"kind\":null,\"name\":\"align_items\"},{\"default\":\"row\",\"kind\":null,\"name\":\"flex_direction\"},{\"default\":\"wrap\",\"kind\":null,\"name\":\"flex_wrap\"},{\"default\":\"flex-start\",\"kind\":null,\"name\":\"justify_content\"}]},{\"extends\":null,\"module\":null,\"name\":\"GridStack1\",\"overrides\":[],\"properties\":[{\"default\":\"warn\",\"kind\":null,\"name\":\"mode\"},{\"default\":null,\"kind\":null,\"name\":\"ncols\"},{\"default\":null,\"kind\":null,\"name\":\"nrows\"},{\"default\":true,\"kind\":null,\"name\":\"allow_resize\"},{\"default\":true,\"kind\":null,\"name\":\"allow_drag\"},{\"default\":[],\"kind\":null,\"name\":\"state\"}]},{\"extends\":null,\"module\":null,\"name\":\"click1\",\"overrides\":[],\"properties\":[{\"default\":\"\",\"kind\":null,\"name\":\"terminal_output\"},{\"default\":\"\",\"kind\":null,\"name\":\"debug_name\"},{\"default\":0,\"kind\":null,\"name\":\"clears\"}]},{\"extends\":null,\"module\":null,\"name\":\"NotificationAreaBase1\",\"overrides\":[],\"properties\":[{\"default\":\"bottom-right\",\"kind\":null,\"name\":\"position\"},{\"default\":0,\"kind\":null,\"name\":\"_clear\"}]},{\"extends\":null,\"module\":null,\"name\":\"NotificationArea1\",\"overrides\":[],\"properties\":[{\"default\":[],\"kind\":null,\"name\":\"notifications\"},{\"default\":\"bottom-right\",\"kind\":null,\"name\":\"position\"},{\"default\":0,\"kind\":null,\"name\":\"_clear\"},{\"default\":[{\"background\":\"#ffc107\",\"icon\":{\"className\":\"fas fa-exclamation-triangle\",\"color\":\"white\",\"tagName\":\"i\"},\"type\":\"warning\"},{\"background\":\"#007bff\",\"icon\":{\"className\":\"fas fa-info-circle\",\"color\":\"white\",\"tagName\":\"i\"},\"type\":\"info\"}],\"kind\":null,\"name\":\"types\"}]},{\"extends\":null,\"module\":null,\"name\":\"Notification\",\"overrides\":[],\"properties\":[{\"default\":null,\"kind\":null,\"name\":\"background\"},{\"default\":3000,\"kind\":null,\"name\":\"duration\"},{\"default\":null,\"kind\":null,\"name\":\"icon\"},{\"default\":\"\",\"kind\":null,\"name\":\"message\"},{\"default\":null,\"kind\":null,\"name\":\"notification_type\"},{\"default\":false,\"kind\":null,\"name\":\"_destroyed\"}]},{\"extends\":null,\"module\":null,\"name\":\"TemplateActions1\",\"overrides\":[],\"properties\":[{\"default\":0,\"kind\":null,\"name\":\"open_modal\"},{\"default\":0,\"kind\":null,\"name\":\"close_modal\"}]},{\"extends\":null,\"module\":null,\"name\":\"MaterialTemplateActions1\",\"overrides\":[],\"properties\":[{\"default\":0,\"kind\":null,\"name\":\"open_modal\"},{\"default\":0,\"kind\":null,\"name\":\"close_modal\"}]}],\"roots\":{\"references\":[{\"attributes\":{\"line_color\":\"#fc4f30\",\"line_width\":2,\"x\":{\"field\":\"date\"},\"y\":{\"field\":\"users\"}},\"id\":\"1081\",\"type\":\"Line\"},{\"attributes\":{\"source\":{\"id\":\"1045\"}},\"id\":\"1052\",\"type\":\"CDSView\"},{\"attributes\":{},\"id\":\"1060\",\"type\":\"UnionRenderers\"},{\"attributes\":{},\"id\":\"1030\",\"type\":\"ResetTool\"},{\"attributes\":{\"coordinates\":null,\"data_source\":{\"id\":\"1078\"},\"glyph\":{\"id\":\"1081\"},\"group\":null,\"hover_glyph\":null,\"muted_glyph\":{\"id\":\"1083\"},\"nonselection_glyph\":{\"id\":\"1082\"},\"selection_glyph\":{\"id\":\"1111\"},\"view\":{\"id\":\"1085\"}},\"id\":\"1084\",\"type\":\"GlyphRenderer\"},{\"attributes\":{\"months\":[0,2,4,6,8,10]},\"id\":\"1071\",\"type\":\"MonthsTicker\"},{\"attributes\":{\"label\":{\"value\":\"val\"},\"renderers\":[{\"id\":\"1084\"}]},\"id\":\"1110\",\"type\":\"LegendItem\"},{\"attributes\":{},\"id\":\"1041\",\"type\":\"AllLabels\"},{\"attributes\":{\"click_policy\":\"mute\",\"coordinates\":null,\"group\":null,\"items\":[{\"id\":\"1076\"},{\"id\":\"1110\"},{\"id\":\"1146\"}]},\"id\":\"1075\",\"type\":\"Legend\"},{\"attributes\":{\"line_color\":\"#30a2da\",\"line_width\":2,\"x\":{\"field\":\"date\"},\"y\":{\"field\":\"users\"}},\"id\":\"1077\",\"type\":\"Line\"},{\"attributes\":{\"end\":1629849600000.0,\"reset_end\":1629849600000.0,\"reset_start\":1593561600000.0,\"start\":1593561600000.0,\"tags\":[[[\"date\",\"date\",null]]]},\"id\":\"1004\",\"type\":\"Range1d\"},{\"attributes\":{},\"id\":\"1043\",\"type\":\"BasicTickFormatter\"},{\"attributes\":{},\"id\":\"1095\",\"type\":\"UnionRenderers\"},{\"attributes\":{},\"id\":\"1044\",\"type\":\"AllLabels\"},{\"attributes\":{\"source\":{\"id\":\"1078\"}},\"id\":\"1085\",\"type\":\"CDSView\"},{\"attributes\":{},\"id\":\"1074\",\"type\":\"YearsTicker\"},{\"attributes\":{\"line_color\":\"#30a2da\",\"line_width\":2,\"x\":{\"field\":\"date\"},\"y\":{\"field\":\"users\"}},\"id\":\"1048\",\"type\":\"Line\"},{\"attributes\":{\"data\":{\"date\":{\"__ndarray__\":\"AADARlmId0IAAICsq4h3QgAAQBL+iHdCAAAAeFCJd0IAAMDdool3QgAAgEP1iXdCAABAqUeKd0IAAAAPmop3QgAAwHTsindCAACA2j6Ld0IAAEBAkYt3QgAAAKbji3dCAADACzaMd0IAAIBxiIx3QgAAQNfajHdCAAAAPS2Nd0IAAMCif413QgAAgAjSjXdCAABAbiSOd0IAAADUdo53QgAAwDnJjndCAACAnxuPd0IAAEAFbo93QgAAAGvAj3dCAADA0BKQd0IAAIA2ZZB3QgAAQJy3kHdCAAAAAgqRd0IAAMBnXJF3QgAAgM2ukXdCAABAMwGSd0IAAACZU5J3QgAAwP6lkndCAACAZPiSd0IAAEDKSpN3QgAAADCdk3dCAADAle+Td0IAAID7QZR3QgAAQGGUlHdCAAAAx+aUd0IAAMAsOZV3QgAAgJKLlXdCAABA+N2Vd0IAAABeMJZ3QgAAwMOClndCAACAKdWWd0IAAECPJ5d3QgAAAPV5l3dCAADAWsyXd0IAAIDAHph3QgAAQCZxmHdCAAAAjMOYd0IAAMDxFZl3QgAAgFdomXdCAABAvbqZd0IAAAAjDZp3QgAAwIhfmndCAACA7rGad0IAAEBUBJt3QgAAALpWm3dCAADAH6mbd0IAAICF+5t3QgAAQOtNnHdCAAAAUaCcd0IAAMC28px3QgAAgBxFnXdCAABAgpedd0IAAADo6Z13QgAAwE08nndCAACAs46ed0IAAEAZ4Z53QgAAAH8zn3dCAADA5IWfd0IAAIBK2J93QgAAQLAqoHdCAAAAFn2gd0IAAMB7z6B3QgAAgOEhoXdCAABAR3Shd0IAAACtxqF3QgAAwBIZondCAACAeGuid0IAAEDevaJ3QgAAAEQQo3dCAADAqWKjd0IAAIAPtaN3QgAAQHUHpHdCAAAA21mkd0IAAMBArKR3QgAAgKb+pHdCAABADFGld0IAAAByo6V3Qg==\",\"dtype\":\"float64\",\"order\":\"little\",\"shape\":[92]},\"users\":[2038,1464,1381,1360,1359,2225,2605,2615,2519,2837,2118,1966,2924,3182,3134,3127,3167,2504,2330,3605,3585,3852,3914,3541,2794,2467,3585,4022,3690,3579,3331,2543,2292,3645,3698,3623,3529,3468,2615,2534,3348,3787,3907,3848,3451,2619,2461,3399,3801,3946,3742,3543,2610,2560,3928,4257,4208,4260,4033,3005,2570,3948,4084,3866,4001,3490,2921,2504,3843,4055,3931,4016,3668,2694,2376,3569,3887,4012,3714,3494,2622,2333,3343,3659,3847,3461,3256,2443,2084,3211,3435,3391]},\"selected\":{\"id\":\"1079\"},\"selection_policy\":{\"id\":\"1095\"}},\"id\":\"1078\",\"type\":\"ColumnDataSource\"},{\"attributes\":{\"mantissas\":[1,2,5],\"max_interval\":500.0,\"num_minor_ticks\":0},\"id\":\"1063\",\"type\":\"AdaptiveTicker\"},{\"attributes\":{},\"id\":\"1046\",\"type\":\"Selection\"},{\"attributes\":{\"source\":{\"id\":\"1112\"}},\"id\":\"1119\",\"type\":\"CDSView\"},{\"attributes\":{\"base\":60,\"mantissas\":[1,2,5,10,15,20,30],\"max_interval\":1800000.0,\"min_interval\":1000.0,\"num_minor_ticks\":0},\"id\":\"1064\",\"type\":\"AdaptiveTicker\"},{\"attributes\":{},\"id\":\"1079\",\"type\":\"Selection\"},{\"attributes\":{\"line_color\":\"#e5ae38\",\"line_width\":2,\"x\":{\"field\":\"date\"},\"y\":{\"field\":\"users\"}},\"id\":\"1115\",\"type\":\"Line\"},{\"attributes\":{\"base\":24,\"mantissas\":[1,2,4,6,8,12],\"max_interval\":43200000.0,\"min_interval\":3600000.0,\"num_minor_ticks\":0},\"id\":\"1065\",\"type\":\"AdaptiveTicker\"},{\"attributes\":{},\"id\":\"1113\",\"type\":\"Selection\"},{\"attributes\":{},\"id\":\"1131\",\"type\":\"UnionRenderers\"},{\"attributes\":{\"days\":[1,15]},\"id\":\"1069\",\"type\":\"DaysTicker\"},{\"attributes\":{\"coordinates\":null,\"data_source\":{\"id\":\"1045\"},\"glyph\":{\"id\":\"1048\"},\"group\":null,\"hover_glyph\":null,\"muted_glyph\":{\"id\":\"1050\"},\"nonselection_glyph\":{\"id\":\"1049\"},\"selection_glyph\":{\"id\":\"1077\"},\"view\":{\"id\":\"1052\"}},\"id\":\"1051\",\"type\":\"GlyphRenderer\"},{\"attributes\":{\"days\":[1,2,3,4,5,6,7,8,9,10,11,12,13,14,15,16,17,18,19,20,21,22,23,24,25,26,27,28,29,30,31]},\"id\":\"1066\",\"type\":\"DaysTicker\"},{\"attributes\":{\"coordinates\":null,\"data_source\":{\"id\":\"1112\"},\"glyph\":{\"id\":\"1115\"},\"group\":null,\"hover_glyph\":null,\"muted_glyph\":{\"id\":\"1117\"},\"nonselection_glyph\":{\"id\":\"1116\"},\"selection_glyph\":{\"id\":\"1147\"},\"view\":{\"id\":\"1119\"}},\"id\":\"1118\",\"type\":\"GlyphRenderer\"},{\"attributes\":{\"days\":[1,4,7,10,13,16,19,22,25,28]},\"id\":\"1067\",\"type\":\"DaysTicker\"},{\"attributes\":{\"days\":[1,8,15,22]},\"id\":\"1068\",\"type\":\"DaysTicker\"},{\"attributes\":{\"end\":7474.4,\"reset_end\":7474.4,\"reset_start\":-534.4000000000001,\"start\":-534.4000000000001,\"tags\":[[[\"users\",\"users\",null]]]},\"id\":\"1005\",\"type\":\"Range1d\"},{\"attributes\":{\"line_alpha\":0.1,\"line_color\":\"#30a2da\",\"line_width\":2,\"x\":{\"field\":\"date\"},\"y\":{\"field\":\"users\"}},\"id\":\"1049\",\"type\":\"Line\"},{\"attributes\":{},\"id\":\"1016\",\"type\":\"LinearScale\"},{\"attributes\":{\"label\":{\"value\":\"test\"},\"renderers\":[{\"id\":\"1118\"}]},\"id\":\"1146\",\"type\":\"LegendItem\"},{\"attributes\":{\"line_alpha\":0.2,\"line_color\":\"#30a2da\",\"line_width\":2,\"x\":{\"field\":\"date\"},\"y\":{\"field\":\"users\"}},\"id\":\"1050\",\"type\":\"Line\"},{\"attributes\":{\"line_alpha\":0.2,\"line_color\":\"#fc4f30\",\"line_width\":2,\"x\":{\"field\":\"date\"},\"y\":{\"field\":\"users\"}},\"id\":\"1083\",\"type\":\"Line\"},{\"attributes\":{\"months\":[0,6]},\"id\":\"1073\",\"type\":\"MonthsTicker\"},{\"attributes\":{\"callback\":null,\"formatters\":{\"@{date}\":\"datetime\"},\"renderers\":[{\"id\":\"1051\"},{\"id\":\"1084\"},{\"id\":\"1118\"}],\"tags\":[\"hv_created\"],\"tooltips\":[[\"date\",\"@{date}{%F %T}\"],[\"users\",\"@{users}\"]]},\"id\":\"1006\",\"type\":\"HoverTool\"},{\"attributes\":{\"label\":{\"value\":\"train\"},\"renderers\":[{\"id\":\"1051\"}]},\"id\":\"1076\",\"type\":\"LegendItem\"},{\"attributes\":{\"axis_label\":\"date\",\"coordinates\":null,\"formatter\":{\"id\":\"1040\"},\"group\":null,\"major_label_policy\":{\"id\":\"1041\"},\"ticker\":{\"id\":\"1019\"}},\"id\":\"1018\",\"type\":\"DatetimeAxis\"},{\"attributes\":{\"children\":[{\"id\":\"1003\"},{\"id\":\"1009\"},{\"id\":\"1174\"}],\"margin\":[0,0,0,0],\"name\":\"Row01077\",\"tags\":[\"embedded\"]},\"id\":\"1002\",\"type\":\"Row\"},{\"attributes\":{\"data\":{\"date\":{\"__ndarray__\":\"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\",\"dtype\":\"float64\",\"order\":\"little\",\"shape\":[273]},\"users\":[2324,2201,2146,1666,1433,2195,2240,2295,2279,2155,1737,1391,2150,2121,2136,2166,2067,1648,1401,2040,2269,2283,2174,2178,1659,1338,2041,2162,2123,2147,2124,1533,1398,2080,2110,2235,2100,1815,1635,1477,2060,2227,2054,2247,2358,1676,1384,2101,2281,2144,2161,2088,1596,1411,1952,2116,2228,2132,2092,1659,1476,2213,2206,2543,2670,2537,1858,1458,2422,2682,2817,2905,2641,2059,1708,2557,2762,2448,2784,2743,2172,1770,2977,3404,3534,3134,3086,2586,2040,3130,3632,3495,3411,3444,2457,2138,3281,3780,3775,3872,3600,2721,2307,3216,3994,4064,4201,4124,3116,2561,4185,4630,4513,4656,4319,3160,2824,4132,4553,4559,4621,4258,3092,2324,3342,4318,4821,4855,4604,3544,3195,5045,5265,5282,5419,5130,3861,3317,4156,5258,5668,5565,5306,4073,3579,5828,6807,6774,6587,6312,4810,4110,6117,6298,6587,6671,5235,3416,2855,4079,3983,4418,4660,3894,2965,2459,3698,3751,3565,3179,2781,1931,1558,1934,1973,1640,886,472,863,987,1432,1390,1278,785,488,922,1144,1677,1968,1750,2108,2012,1574,1569,2413,2604,2441,2596,2400,1994,1871,2545,2706,2753,2587,2377,1739,1747,2555,2666,2695,2640,2459,1808,1724,2320,2463,2594,2446,2379,1883,1538,2390,2521,2606,2467,2342,1652,1438,2185,2311,2563,2622,2336,1693,1579,2499,2920,2726,2827,2567,2015,1670,2642,2827,3129,3154,2758,2050,1968,2902,2954,3072,3116,2928,2133,1987,2726,3218,3178,3127,2848,2069,1926,3227,3189,3192,3177,2952,1964,1482,2179,2286]},\"selected\":{\"id\":\"1046\"},\"selection_policy\":{\"id\":\"1060\"}},\"id\":\"1045\",\"type\":\"ColumnDataSource\"},{\"attributes\":{\"margin\":[5,5,5,5],\"name\":\"HSpacer01081\",\"sizing_mode\":\"stretch_width\"},\"id\":\"1003\",\"type\":\"Spacer\"},{\"attributes\":{},\"id\":\"1014\",\"type\":\"LinearScale\"},{\"attributes\":{\"line_alpha\":0.1,\"line_color\":\"#e5ae38\",\"line_width\":2,\"x\":{\"field\":\"date\"},\"y\":{\"field\":\"users\"}},\"id\":\"1116\",\"type\":\"Line\"},{\"attributes\":{\"months\":[0,1,2,3,4,5,6,7,8,9,10,11]},\"id\":\"1070\",\"type\":\"MonthsTicker\"},{\"attributes\":{\"below\":[{\"id\":\"1018\"}],\"center\":[{\"id\":\"1021\"},{\"id\":\"1025\"},{\"id\":\"1075\"}],\"height\":300,\"left\":[{\"id\":\"1022\"}],\"margin\":[5,5,5,5],\"min_border_bottom\":10,\"min_border_left\":10,\"min_border_right\":10,\"min_border_top\":10,\"renderers\":[{\"id\":\"1051\"},{\"id\":\"1084\"},{\"id\":\"1118\"}],\"sizing_mode\":\"fixed\",\"title\":{\"id\":\"1010\"},\"toolbar\":{\"id\":\"1032\"},\"width\":700,\"x_range\":{\"id\":\"1004\"},\"x_scale\":{\"id\":\"1014\"},\"y_range\":{\"id\":\"1005\"},\"y_scale\":{\"id\":\"1016\"}},\"id\":\"1009\",\"subtype\":\"Figure\",\"type\":\"Plot\"},{\"attributes\":{\"coordinates\":null,\"group\":null,\"text\":\"Visitas diarias a cienciadedatos.net\",\"text_color\":\"black\",\"text_font_size\":\"12pt\"},\"id\":\"1010\",\"type\":\"Title\"},{\"attributes\":{\"line_color\":\"#e5ae38\",\"line_width\":2,\"x\":{\"field\":\"date\"},\"y\":{\"field\":\"users\"}},\"id\":\"1147\",\"type\":\"Line\"},{\"attributes\":{\"line_alpha\":0.2,\"line_color\":\"#e5ae38\",\"line_width\":2,\"x\":{\"field\":\"date\"},\"y\":{\"field\":\"users\"}},\"id\":\"1117\",\"type\":\"Line\"},{\"attributes\":{\"axis_label\":\"users\",\"coordinates\":null,\"formatter\":{\"id\":\"1043\"},\"group\":null,\"major_label_policy\":{\"id\":\"1044\"},\"ticker\":{\"id\":\"1023\"}},\"id\":\"1022\",\"type\":\"LinearAxis\"},{\"attributes\":{\"data\":{\"date\":{\"__ndarray__\":\"AADA1/Wld0IAAIA9SKZ3QgAAQKOapndCAAAACe2md0IAAMBuP6d3QgAAgNSRp3dCAABAOuSnd0IAAACgNqh3QgAAwAWJqHdCAACAa9uod0IAAEDRLal3QgAAADeAqXdCAADAnNKpd0IAAIACJap3QgAAQGh3qndCAAAAzsmqd0IAAMAzHKt3QgAAgJluq3dCAABA/8Crd0IAAABlE6x3QgAAwMplrHdCAACAMLisd0IAAECWCq13QgAAAPxcrXdCAADAYa+td0IAAIDHAa53QgAAQC1UrndCAAAAk6aud0IAAMD4+K53QgAAgF5Lr3dCAABAxJ2vd0IAAAAq8K93QgAAwI9CsHdCAACA9ZSwd0IAAEBb57B3QgAAAME5sXdCAADAJoyxd0IAAICM3rF3QgAAQPIwsndCAAAAWIOyd0IAAMC91bJ3QgAAgCMos3dCAABAiXqzd0IAAADvzLN3QgAAwFQftHdCAACAunG0d0IAAEAgxLR3QgAAAIYWtXdCAADA62i1d0IAAIBRu7V3QgAAQLcNtndCAAAAHWC2d0IAAMCCsrZ3QgAAgOgEt3dCAABATle3d0IAAAC0qbd3Qg==\",\"dtype\":\"float64\",\"order\":\"little\",\"shape\":[56]},\"users\":[3123,2870,2020,1828,2722,2991,2976,2834,2609,1832,1462,2563,2897,3057,2697,2391,1730,1434,2455,2508,2563,2447,2543,1714,1415,2407,2587,2314,2465,2088,1535,133,2146,2266,2330,2323,2003,1406,1239,1989,2268,2249,2322,2098,1477,1308,1920,2219,2482,2345,2185,1546,1393,2371,2547,2448]},\"selected\":{\"id\":\"1113\"},\"selection_policy\":{\"id\":\"1131\"}},\"id\":\"1112\",\"type\":\"ColumnDataSource\"},{\"attributes\":{},\"id\":\"1027\",\"type\":\"PanTool\"},{\"attributes\":{\"margin\":[5,5,5,5],\"name\":\"HSpacer01082\",\"sizing_mode\":\"stretch_width\"},\"id\":\"1174\",\"type\":\"Spacer\"},{\"attributes\":{\"axis\":{\"id\":\"1018\"},\"coordinates\":null,\"grid_line_color\":null,\"group\":null,\"ticker\":null},\"id\":\"1021\",\"type\":\"Grid\"},{\"attributes\":{\"num_minor_ticks\":5,\"tickers\":[{\"id\":\"1063\"},{\"id\":\"1064\"},{\"id\":\"1065\"},{\"id\":\"1066\"},{\"id\":\"1067\"},{\"id\":\"1068\"},{\"id\":\"1069\"},{\"id\":\"1070\"},{\"id\":\"1071\"},{\"id\":\"1072\"},{\"id\":\"1073\"},{\"id\":\"1074\"}]},\"id\":\"1019\",\"type\":\"DatetimeTicker\"},{\"attributes\":{\"axis\":{\"id\":\"1022\"},\"coordinates\":null,\"dimension\":1,\"grid_line_color\":null,\"group\":null,\"ticker\":null},\"id\":\"1025\",\"type\":\"Grid\"},{\"attributes\":{\"months\":[0,4,8]},\"id\":\"1072\",\"type\":\"MonthsTicker\"},{\"attributes\":{},\"id\":\"1023\",\"type\":\"BasicTicker\"},{\"attributes\":{\"line_color\":\"#fc4f30\",\"line_width\":2,\"x\":{\"field\":\"date\"},\"y\":{\"field\":\"users\"}},\"id\":\"1111\",\"type\":\"Line\"},{\"attributes\":{},\"id\":\"1028\",\"type\":\"WheelZoomTool\"},{\"attributes\":{},\"id\":\"1040\",\"type\":\"DatetimeTickFormatter\"},{\"attributes\":{\"tools\":[{\"id\":\"1006\"},{\"id\":\"1026\"},{\"id\":\"1027\"},{\"id\":\"1028\"},{\"id\":\"1029\"},{\"id\":\"1030\"}]},\"id\":\"1032\",\"type\":\"Toolbar\"},{\"attributes\":{},\"id\":\"1026\",\"type\":\"SaveTool\"},{\"attributes\":{\"overlay\":{\"id\":\"1031\"}},\"id\":\"1029\",\"type\":\"BoxZoomTool\"},{\"attributes\":{\"line_alpha\":0.1,\"line_color\":\"#fc4f30\",\"line_width\":2,\"x\":{\"field\":\"date\"},\"y\":{\"field\":\"users\"}},\"id\":\"1082\",\"type\":\"Line\"},{\"attributes\":{\"bottom_units\":\"screen\",\"coordinates\":null,\"fill_alpha\":0.5,\"fill_color\":\"lightgrey\",\"group\":null,\"left_units\":\"screen\",\"level\":\"overlay\",\"line_alpha\":1.0,\"line_color\":\"black\",\"line_dash\":[4,4],\"line_width\":2,\"right_units\":\"screen\",\"syncable\":false,\"top_units\":\"screen\"},\"id\":\"1031\",\"type\":\"BoxAnnotation\"}],\"root_ids\":[\"1002\"]},\"title\":\"Bokeh Application\",\"version\":\"2.4.3\"}};\n",
       "    var render_items = [{\"docid\":\"2db4ee91-817d-4ef9-a2d0-5738f6ac0176\",\"root_ids\":[\"1002\"],\"roots\":{\"1002\":\"27e91c7b-321b-43e3-8fc9-787f05d8ce75\"}}];\n",
       "    root.Bokeh.embed.embed_items_notebook(docs_json, render_items);\n",
       "  }\n",
       "  if (root.Bokeh !== undefined && root.Bokeh.Panel !== undefined) {\n",
       "    embed_document(root);\n",
       "  } else {\n",
       "    var attempts = 0;\n",
       "    var timer = setInterval(function(root) {\n",
       "      if (root.Bokeh !== undefined && root.Bokeh.Panel !== undefined) {\n",
       "        clearInterval(timer);\n",
       "        embed_document(root);\n",
       "      } else if (document.readyState == \"complete\") {\n",
       "        attempts++;\n",
       "        if (attempts > 200) {\n",
       "          clearInterval(timer);\n",
       "          console.log(\"Bokeh: ERROR: Unable to run BokehJS code because BokehJS library is missing\");\n",
       "        }\n",
       "      }\n",
       "    }, 25, root)\n",
       "  }\n",
       "})(window);</script>"
      ],
      "text/plain": [
       ":Overlay\n",
       "   .Curve.Train :Curve   [date]   (users)\n",
       "   .Curve.Val   :Curve   [date]   (users)\n",
       "   .Curve.Test  :Curve   [date]   (users)"
      ]
     },
     "execution_count": 7,
     "metadata": {
      "application/vnd.holoviews_exec.v0+json": {
       "id": "1002"
      }
     },
     "output_type": "execute_result"
    }
   ],
   "source": [
    "# Gráfico serie temporal\n",
    "# ==============================================================================\n",
    "# fig, ax = plt.subplots(figsize=(12, 4))\n",
    "# datos_train.users.plot(ax=ax, label='train', linewidth=1)\n",
    "# datos_val.users.plot(ax=ax, label='val', linewidth=1)\n",
    "# datos_test.users.plot(ax=ax, label='test', linewidth=1)\n",
    "# ax.set_title('Visitas diarias a cienciadedatos.net')\n",
    "# ax.legend();\n",
    "\n",
    "plot_train = datos_train.users.hvplot.line(label='train')\n",
    "plot_val = datos_val.users.hvplot.line(label='val')\n",
    "plot_test = datos_test.users.hvplot.line(label='test')\n",
    "\n",
    "layout = plot_train * plot_val * plot_test\n",
    "layout = layout.opts(title='Visitas diarias a cienciadedatos.net', ylabel='users')\n",
    "layout"
   ]
  },
  {
   "cell_type": "markdown",
   "metadata": {},
   "source": [
    "**Estacionalidad anual, mensual y semanal**"
   ]
  },
  {
   "cell_type": "code",
   "execution_count": 8,
   "metadata": {},
   "outputs": [
    {
     "data": {},
     "metadata": {},
     "output_type": "display_data"
    },
    {
     "data": {
      "application/vnd.holoviews_exec.v0+json": "",
      "text/html": [
       "<div id='1306'>\n",
       "  <div class=\"bk-root\" id=\"bddb3bc7-5896-4d0e-a76a-4b935b0822c6\" data-root-id=\"1306\"></div>\n",
       "</div>\n",
       "<script type=\"application/javascript\">(function(root) {\n",
       "  function embed_document(root) {\n",
       "    var docs_json = {\"6f4e4b1d-e3f1-4a90-a051-80f1c40aa0f4\":{\"defs\":[{\"extends\":null,\"module\":null,\"name\":\"ReactiveHTML1\",\"overrides\":[],\"properties\":[]},{\"extends\":null,\"module\":null,\"name\":\"FlexBox1\",\"overrides\":[],\"properties\":[{\"default\":\"flex-start\",\"kind\":null,\"name\":\"align_content\"},{\"default\":\"flex-start\",\"kind\":null,\"name\":\"align_items\"},{\"default\":\"row\",\"kind\":null,\"name\":\"flex_direction\"},{\"default\":\"wrap\",\"kind\":null,\"name\":\"flex_wrap\"},{\"default\":\"flex-start\",\"kind\":null,\"name\":\"justify_content\"}]},{\"extends\":null,\"module\":null,\"name\":\"GridStack1\",\"overrides\":[],\"properties\":[{\"default\":\"warn\",\"kind\":null,\"name\":\"mode\"},{\"default\":null,\"kind\":null,\"name\":\"ncols\"},{\"default\":null,\"kind\":null,\"name\":\"nrows\"},{\"default\":true,\"kind\":null,\"name\":\"allow_resize\"},{\"default\":true,\"kind\":null,\"name\":\"allow_drag\"},{\"default\":[],\"kind\":null,\"name\":\"state\"}]},{\"extends\":null,\"module\":null,\"name\":\"click1\",\"overrides\":[],\"properties\":[{\"default\":\"\",\"kind\":null,\"name\":\"terminal_output\"},{\"default\":\"\",\"kind\":null,\"name\":\"debug_name\"},{\"default\":0,\"kind\":null,\"name\":\"clears\"}]},{\"extends\":null,\"module\":null,\"name\":\"NotificationAreaBase1\",\"overrides\":[],\"properties\":[{\"default\":\"bottom-right\",\"kind\":null,\"name\":\"position\"},{\"default\":0,\"kind\":null,\"name\":\"_clear\"}]},{\"extends\":null,\"module\":null,\"name\":\"NotificationArea1\",\"overrides\":[],\"properties\":[{\"default\":[],\"kind\":null,\"name\":\"notifications\"},{\"default\":\"bottom-right\",\"kind\":null,\"name\":\"position\"},{\"default\":0,\"kind\":null,\"name\":\"_clear\"},{\"default\":[{\"background\":\"#ffc107\",\"icon\":{\"className\":\"fas fa-exclamation-triangle\",\"color\":\"white\",\"tagName\":\"i\"},\"type\":\"warning\"},{\"background\":\"#007bff\",\"icon\":{\"className\":\"fas fa-info-circle\",\"color\":\"white\",\"tagName\":\"i\"},\"type\":\"info\"}],\"kind\":null,\"name\":\"types\"}]},{\"extends\":null,\"module\":null,\"name\":\"Notification\",\"overrides\":[],\"properties\":[{\"default\":null,\"kind\":null,\"name\":\"background\"},{\"default\":3000,\"kind\":null,\"name\":\"duration\"},{\"default\":null,\"kind\":null,\"name\":\"icon\"},{\"default\":\"\",\"kind\":null,\"name\":\"message\"},{\"default\":null,\"kind\":null,\"name\":\"notification_type\"},{\"default\":false,\"kind\":null,\"name\":\"_destroyed\"}]},{\"extends\":null,\"module\":null,\"name\":\"TemplateActions1\",\"overrides\":[],\"properties\":[{\"default\":0,\"kind\":null,\"name\":\"open_modal\"},{\"default\":0,\"kind\":null,\"name\":\"close_modal\"}]},{\"extends\":null,\"module\":null,\"name\":\"MaterialTemplateActions1\",\"overrides\":[],\"properties\":[{\"default\":0,\"kind\":null,\"name\":\"open_modal\"},{\"default\":0,\"kind\":null,\"name\":\"close_modal\"}]}],\"roots\":{\"references\":[{\"attributes\":{\"bottom\":{\"field\":\"bottom\"},\"fill_color\":{\"value\":null},\"top\":{\"field\":\"top\"},\"width\":{\"value\":0.7},\"x\":{\"field\":\"index\"}},\"id\":\"1389\",\"type\":\"VBar\"},{\"attributes\":{},\"id\":\"1428\",\"type\":\"UnionRenderers\"},{\"attributes\":{\"coordinates\":null,\"group\":null,\"text\":\"Distribuci\\u00f3n de visitas por mes\",\"text_color\":\"black\",\"text_font_size\":\"12pt\"},\"id\":\"1313\",\"type\":\"Title\"},{\"attributes\":{\"coordinates\":null,\"data_source\":{\"id\":\"1371\"},\"glyph\":{\"id\":\"1373\"},\"group\":null,\"hover_glyph\":null,\"muted_glyph\":{\"id\":\"1375\"},\"nonselection_glyph\":{\"id\":\"1374\"},\"selection_glyph\":{\"id\":\"1378\"},\"view\":{\"id\":\"1377\"}},\"id\":\"1376\",\"type\":\"GlyphRenderer\"},{\"attributes\":{},\"id\":\"1429\",\"type\":\"Selection\"},{\"attributes\":{\"x0\":{\"field\":\"x0\"},\"x1\":{\"field\":\"x1\"},\"y0\":{\"field\":\"y0\"},\"y1\":{\"field\":\"y1\"}},\"id\":\"1373\",\"type\":\"Segment\"},{\"attributes\":{},\"id\":\"1343\",\"type\":\"AllLabels\"},{\"attributes\":{\"axis\":{\"id\":\"1321\"},\"coordinates\":null,\"grid_line_color\":null,\"group\":null,\"ticker\":null},\"id\":\"1323\",\"type\":\"Grid\"},{\"attributes\":{\"line_alpha\":{\"value\":0.2},\"x0\":{\"field\":\"x0\"},\"x1\":{\"field\":\"x1\"},\"y0\":{\"field\":\"y0\"},\"y1\":{\"field\":\"y1\"}},\"id\":\"1359\",\"type\":\"Segment\"},{\"attributes\":{},\"id\":\"1413\",\"type\":\"Selection\"},{\"attributes\":{},\"id\":\"1329\",\"type\":\"PanTool\"},{\"attributes\":{\"margin\":[5,5,5,5],\"name\":\"HSpacer01423\",\"sizing_mode\":\"stretch_width\"},\"id\":\"1447\",\"type\":\"Spacer\"},{\"attributes\":{\"axis_label\":\"mes\",\"coordinates\":null,\"formatter\":{\"id\":\"1342\"},\"group\":null,\"major_label_policy\":{\"id\":\"1343\"},\"ticker\":{\"id\":\"1322\"}},\"id\":\"1321\",\"type\":\"CategoricalAxis\"},{\"attributes\":{\"coordinates\":null,\"data_source\":{\"id\":\"1347\"},\"glyph\":{\"id\":\"1349\"},\"group\":null,\"hover_glyph\":null,\"muted_glyph\":{\"id\":\"1351\"},\"nonselection_glyph\":{\"id\":\"1350\"},\"selection_glyph\":{\"id\":\"1354\"},\"view\":{\"id\":\"1353\"}},\"id\":\"1352\",\"type\":\"GlyphRenderer\"},{\"attributes\":{},\"id\":\"1322\",\"type\":\"CategoricalTicker\"},{\"attributes\":{\"source\":{\"id\":\"1379\"}},\"id\":\"1385\",\"type\":\"CDSView\"},{\"attributes\":{},\"id\":\"1319\",\"type\":\"LinearScale\"},{\"attributes\":{\"bottom\":{\"field\":\"bottom\"},\"fill_alpha\":{\"value\":0.2},\"fill_color\":{\"value\":null},\"hatch_alpha\":{\"value\":0.2},\"line_alpha\":{\"value\":0.2},\"top\":{\"field\":\"top\"},\"width\":{\"value\":0.7},\"x\":{\"field\":\"index\"}},\"id\":\"1391\",\"type\":\"VBar\"},{\"attributes\":{\"bottom\":{\"field\":\"bottom\"},\"fill_alpha\":{\"value\":0.2},\"fill_color\":{\"value\":null},\"hatch_alpha\":{\"value\":0.2},\"line_alpha\":{\"value\":0.2},\"top\":{\"field\":\"top\"},\"width\":{\"value\":0.7},\"x\":{\"field\":\"index\"}},\"id\":\"1399\",\"type\":\"VBar\"},{\"attributes\":{\"axis_label\":\"users\",\"coordinates\":null,\"formatter\":{\"id\":\"1345\"},\"group\":null,\"major_label_policy\":{\"id\":\"1346\"},\"ticker\":{\"id\":\"1325\"}},\"id\":\"1324\",\"type\":\"LinearAxis\"},{\"attributes\":{\"fill_alpha\":{\"value\":0.2},\"fill_color\":{\"value\":\"#30a2da\"},\"hatch_alpha\":{\"value\":0.2},\"hatch_color\":{\"value\":\"#30a2da\"},\"line_alpha\":{\"value\":0.2},\"line_color\":{\"value\":\"#30a2da\"},\"size\":{\"value\":5.477225575051661},\"x\":{\"field\":\"mes\"},\"y\":{\"field\":\"users\"}},\"id\":\"1417\",\"type\":\"Scatter\"},{\"attributes\":{\"coordinates\":null,\"data_source\":{\"id\":\"1387\"},\"glyph\":{\"id\":\"1389\"},\"group\":null,\"hover_glyph\":null,\"muted_glyph\":{\"id\":\"1391\"},\"nonselection_glyph\":{\"id\":\"1390\"},\"selection_glyph\":{\"id\":\"1394\"},\"view\":{\"id\":\"1393\"}},\"id\":\"1392\",\"type\":\"GlyphRenderer\"},{\"attributes\":{\"axis\":{\"id\":\"1324\"},\"coordinates\":null,\"dimension\":1,\"grid_line_color\":null,\"group\":null,\"ticker\":null},\"id\":\"1327\",\"type\":\"Grid\"},{\"attributes\":{\"source\":{\"id\":\"1371\"}},\"id\":\"1377\",\"type\":\"CDSView\"},{\"attributes\":{},\"id\":\"1440\",\"type\":\"UnionRenderers\"},{\"attributes\":{\"line_color\":\"#30a2da\",\"line_width\":2,\"x\":{\"field\":\"mes\"},\"y\":{\"field\":\"users\"}},\"id\":\"1411\",\"type\":\"Line\"},{\"attributes\":{},\"id\":\"1325\",\"type\":\"BasicTicker\"},{\"attributes\":{\"data\":{\"index\":[\"1\",\"8\"],\"users\":[488,133]},\"selected\":{\"id\":\"1429\"},\"selection_policy\":{\"id\":\"1428\"}},\"id\":\"1347\",\"type\":\"ColumnDataSource\"},{\"attributes\":{},\"id\":\"1330\",\"type\":\"WheelZoomTool\"},{\"attributes\":{\"coordinates\":null,\"data_source\":{\"id\":\"1412\"},\"glyph\":{\"id\":\"1415\"},\"group\":null,\"hover_glyph\":null,\"muted_glyph\":{\"id\":\"1417\"},\"nonselection_glyph\":{\"id\":\"1416\"},\"selection_glyph\":{\"id\":\"1420\"},\"view\":{\"id\":\"1419\"}},\"id\":\"1418\",\"type\":\"GlyphRenderer\"},{\"attributes\":{},\"id\":\"1441\",\"type\":\"Selection\"},{\"attributes\":{\"bottom\":{\"field\":\"bottom\"},\"fill_alpha\":{\"value\":0.1},\"fill_color\":{\"value\":null},\"hatch_alpha\":{\"value\":0.1},\"line_alpha\":{\"value\":0.1},\"top\":{\"field\":\"top\"},\"width\":{\"value\":0.7},\"x\":{\"field\":\"index\"}},\"id\":\"1390\",\"type\":\"VBar\"},{\"attributes\":{},\"id\":\"1430\",\"type\":\"UnionRenderers\"},{\"attributes\":{},\"id\":\"1328\",\"type\":\"SaveTool\"},{\"attributes\":{\"coordinates\":null,\"data_source\":{\"id\":\"1395\"},\"glyph\":{\"id\":\"1397\"},\"group\":null,\"hover_glyph\":null,\"muted_glyph\":{\"id\":\"1399\"},\"nonselection_glyph\":{\"id\":\"1398\"},\"selection_glyph\":{\"id\":\"1402\"},\"view\":{\"id\":\"1401\"}},\"id\":\"1400\",\"type\":\"GlyphRenderer\"},{\"attributes\":{\"line_alpha\":{\"value\":0.2},\"x0\":{\"field\":\"x0\"},\"x1\":{\"field\":\"x1\"},\"y0\":{\"field\":\"y0\"},\"y1\":{\"field\":\"y1\"}},\"id\":\"1383\",\"type\":\"Segment\"},{\"attributes\":{\"data\":{\"x0\":[\"1\",\"2\",\"3\",\"4\",\"5\",\"6\",\"7\",\"8\",\"9\",\"10\",\"11\",\"12\"],\"x1\":[\"1\",\"2\",\"3\",\"4\",\"5\",\"6\",\"7\",\"8\",\"9\",\"10\",\"11\",\"12\"],\"y0\":[922,1438,1482,1359,2292,2084,1338,1239,1458,2138,2324,472],\"y1\":{\"__ndarray__\":\"AAAAAAA8m0AAAAAAAPieQAAAAAAAaqBAAAAAAIB4okAAAAAAAHKkQAAAAAAAY6dAAAAAAABcnUAAAAAAAGWZQAAAAAAAqKFAAAAAAACEqEAAAAAAgOSvQAAAAAAAXJdA\",\"dtype\":\"float64\",\"order\":\"little\",\"shape\":[12]}},\"selected\":{\"id\":\"1433\"},\"selection_policy\":{\"id\":\"1432\"}},\"id\":\"1363\",\"type\":\"ColumnDataSource\"},{\"attributes\":{\"overlay\":{\"id\":\"1333\"}},\"id\":\"1331\",\"type\":\"BoxZoomTool\"},{\"attributes\":{},\"id\":\"1431\",\"type\":\"Selection\"},{\"attributes\":{},\"id\":\"1332\",\"type\":\"ResetTool\"},{\"attributes\":{\"line_alpha\":{\"value\":0.1},\"x0\":{\"field\":\"x0\"},\"x1\":{\"field\":\"x1\"},\"y0\":{\"field\":\"y0\"},\"y1\":{\"field\":\"y1\"}},\"id\":\"1382\",\"type\":\"Segment\"},{\"attributes\":{\"data\":{\"x0\":[[\"1\",-0.2],[\"2\",-0.2],[\"3\",-0.2],[\"4\",-0.2],[\"5\",-0.2],[\"6\",-0.2],[\"7\",-0.2],[\"8\",-0.2],[\"9\",-0.2],[\"10\",-0.2],[\"11\",-0.2],[\"12\",-0.2]],\"x1\":[[\"1\",0.2],[\"2\",0.2],[\"3\",0.2],[\"4\",0.2],[\"5\",0.2],[\"6\",0.2],[\"7\",0.2],[\"8\",0.2],[\"9\",0.2],[\"10\",0.2],[\"11\",0.2],[\"12\",0.2]],\"y0\":[922,1438,1482,1359,2292,2084,1338,1239,1458,2138,2324,472],\"y1\":[922,1438,1482,1359,2292,2084,1338,1239,1458,2138,2324,472]},\"selected\":{\"id\":\"1435\"},\"selection_policy\":{\"id\":\"1434\"}},\"id\":\"1371\",\"type\":\"ColumnDataSource\"},{\"attributes\":{\"bottom_units\":\"screen\",\"coordinates\":null,\"fill_alpha\":0.5,\"fill_color\":\"lightgrey\",\"group\":null,\"left_units\":\"screen\",\"level\":\"overlay\",\"line_alpha\":1.0,\"line_color\":\"black\",\"line_dash\":[4,4],\"line_width\":2,\"right_units\":\"screen\",\"syncable\":false,\"top_units\":\"screen\"},\"id\":\"1333\",\"type\":\"BoxAnnotation\"},{\"attributes\":{\"data\":{\"bottom\":{\"__ndarray__\":\"AAAAAAB4oEAAAAAAAKGiQAAAAAAAQKZAAAAAAACBpkAAAAAAAK6rQAAAAAAASKtAAAAAAAD0oEAAAAAAAGagQAAAAAAAv6RAAAAAAACIrUAAAAAAAFazQAAAAAAATqZA\",\"dtype\":\"float64\",\"order\":\"little\",\"shape\":[12]},\"index\":[\"1\",\"2\",\"3\",\"4\",\"5\",\"6\",\"7\",\"8\",\"9\",\"10\",\"11\",\"12\"],\"top\":{\"__ndarray__\":\"AAAAAAA8m0AAAAAAAPieQAAAAAAAaqBAAAAAAIB4okAAAAAAAHKkQAAAAAAAY6dAAAAAAABcnUAAAAAAAGWZQAAAAAAAqKFAAAAAAACEqEAAAAAAgOSvQAAAAAAAXJdA\",\"dtype\":\"float64\",\"order\":\"little\",\"shape\":[12]}},\"selected\":{\"id\":\"1441\"},\"selection_policy\":{\"id\":\"1440\"}},\"id\":\"1395\",\"type\":\"ColumnDataSource\"},{\"attributes\":{\"source\":{\"id\":\"1387\"}},\"id\":\"1393\",\"type\":\"CDSView\"},{\"attributes\":{\"coordinates\":null,\"data_source\":{\"id\":\"1379\"},\"glyph\":{\"id\":\"1381\"},\"group\":null,\"hover_glyph\":null,\"muted_glyph\":{\"id\":\"1383\"},\"nonselection_glyph\":{\"id\":\"1382\"},\"selection_glyph\":{\"id\":\"1386\"},\"view\":{\"id\":\"1385\"}},\"id\":\"1384\",\"type\":\"GlyphRenderer\"},{\"attributes\":{\"data\":{\"x0\":[[\"1\",-0.2],[\"2\",-0.2],[\"3\",-0.2],[\"4\",-0.2],[\"5\",-0.2],[\"6\",-0.2],[\"7\",-0.2],[\"8\",-0.2],[\"9\",-0.2],[\"10\",-0.2],[\"11\",-0.2],[\"12\",-0.2]],\"x1\":[[\"1\",0.2],[\"2\",0.2],[\"3\",0.2],[\"4\",0.2],[\"5\",0.2],[\"6\",0.2],[\"7\",0.2],[\"8\",0.2],[\"9\",0.2],[\"10\",0.2],[\"11\",0.2],[\"12\",0.2]],\"y0\":[2753,2920,3227,4022,4260,4084,3123,2547,3632,4656,6807,6671],\"y1\":[2753,2920,3227,4022,4260,4084,3123,2547,3632,4656,6807,6671]},\"selected\":{\"id\":\"1437\"},\"selection_policy\":{\"id\":\"1436\"}},\"id\":\"1379\",\"type\":\"ColumnDataSource\"},{\"attributes\":{\"x0\":{\"field\":\"x0\"},\"x1\":{\"field\":\"x1\"},\"y0\":{\"field\":\"y0\"},\"y1\":{\"field\":\"y1\"}},\"id\":\"1381\",\"type\":\"Segment\"},{\"attributes\":{\"line_color\":\"#30a2da\",\"line_width\":2,\"x\":{\"field\":\"mes\"},\"y\":{\"field\":\"users\"}},\"id\":\"1406\",\"type\":\"Line\"},{\"attributes\":{},\"id\":\"1345\",\"type\":\"BasicTickFormatter\"},{\"attributes\":{\"angle\":{\"value\":0.0},\"fill_alpha\":{\"value\":1.0},\"fill_color\":{\"value\":null},\"hatch_alpha\":{\"value\":1.0},\"hatch_color\":{\"value\":\"black\"},\"hatch_scale\":{\"value\":12.0},\"hatch_weight\":{\"value\":1.0},\"line_alpha\":{\"value\":1.0},\"line_cap\":{\"value\":\"butt\"},\"line_color\":{\"value\":\"black\"},\"line_dash\":{\"value\":[]},\"line_dash_offset\":{\"value\":0},\"line_join\":{\"value\":\"bevel\"},\"line_width\":{\"value\":1},\"size\":{\"value\":4},\"x\":{\"field\":\"index\"},\"y\":{\"field\":\"users\"}},\"id\":\"1354\",\"type\":\"Circle\"},{\"attributes\":{},\"id\":\"1442\",\"type\":\"UnionRenderers\"},{\"attributes\":{\"fill_color\":{\"value\":null},\"x\":{\"field\":\"index\"},\"y\":{\"field\":\"users\"}},\"id\":\"1349\",\"type\":\"Circle\"},{\"attributes\":{\"fill_alpha\":{\"value\":0.1},\"fill_color\":{\"value\":null},\"hatch_alpha\":{\"value\":0.1},\"line_alpha\":{\"value\":0.1},\"x\":{\"field\":\"index\"},\"y\":{\"field\":\"users\"}},\"id\":\"1350\",\"type\":\"Circle\"},{\"attributes\":{},\"id\":\"1432\",\"type\":\"UnionRenderers\"},{\"attributes\":{\"line_alpha\":0.1,\"line_color\":\"#30a2da\",\"line_width\":2,\"x\":{\"field\":\"mes\"},\"y\":{\"field\":\"users\"}},\"id\":\"1407\",\"type\":\"Line\"},{\"attributes\":{\"fill_alpha\":{\"value\":0.2},\"fill_color\":{\"value\":null},\"hatch_alpha\":{\"value\":0.2},\"line_alpha\":{\"value\":0.2},\"x\":{\"field\":\"index\"},\"y\":{\"field\":\"users\"}},\"id\":\"1351\",\"type\":\"Circle\"},{\"attributes\":{\"line_alpha\":{\"value\":0.1},\"x0\":{\"field\":\"x0\"},\"x1\":{\"field\":\"x1\"},\"y0\":{\"field\":\"y0\"},\"y1\":{\"field\":\"y1\"}},\"id\":\"1374\",\"type\":\"Segment\"},{\"attributes\":{},\"id\":\"1433\",\"type\":\"Selection\"},{\"attributes\":{},\"id\":\"1317\",\"type\":\"CategoricalScale\"},{\"attributes\":{\"line_alpha\":{\"value\":1.0},\"line_cap\":{\"value\":\"butt\"},\"line_color\":{\"value\":\"black\"},\"line_dash\":{\"value\":[]},\"line_dash_offset\":{\"value\":0},\"line_join\":{\"value\":\"bevel\"},\"line_width\":{\"value\":1},\"x0\":{\"field\":\"x0\"},\"x1\":{\"field\":\"x1\"},\"y0\":{\"field\":\"y0\"},\"y1\":{\"field\":\"y1\"}},\"id\":\"1362\",\"type\":\"Segment\"},{\"attributes\":{\"margin\":[5,5,5,5],\"name\":\"HSpacer01422\",\"sizing_mode\":\"stretch_width\"},\"id\":\"1307\",\"type\":\"Spacer\"},{\"attributes\":{\"fill_color\":{\"value\":\"#30a2da\"},\"hatch_color\":{\"value\":\"#30a2da\"},\"line_color\":{\"value\":\"#30a2da\"},\"size\":{\"value\":5.477225575051661},\"x\":{\"field\":\"mes\"},\"y\":{\"field\":\"users\"}},\"id\":\"1415\",\"type\":\"Scatter\"},{\"attributes\":{\"source\":{\"id\":\"1403\"}},\"id\":\"1410\",\"type\":\"CDSView\"},{\"attributes\":{\"bottom\":{\"field\":\"bottom\"},\"fill_alpha\":{\"value\":1.0},\"fill_color\":{\"value\":null},\"hatch_alpha\":{\"value\":1.0},\"hatch_color\":{\"value\":\"black\"},\"hatch_scale\":{\"value\":12.0},\"hatch_weight\":{\"value\":1.0},\"line_alpha\":{\"value\":1.0},\"line_cap\":{\"value\":\"butt\"},\"line_color\":{\"value\":\"black\"},\"line_dash\":{\"value\":[]},\"line_dash_offset\":{\"value\":0},\"line_join\":{\"value\":\"bevel\"},\"line_width\":{\"value\":1},\"top\":{\"field\":\"top\"},\"width\":{\"value\":0.7},\"x\":{\"field\":\"index\"}},\"id\":\"1394\",\"type\":\"VBar\"},{\"attributes\":{\"line_alpha\":{\"value\":0.2},\"x0\":{\"field\":\"x0\"},\"x1\":{\"field\":\"x1\"},\"y0\":{\"field\":\"y0\"},\"y1\":{\"field\":\"y1\"}},\"id\":\"1375\",\"type\":\"Segment\"},{\"attributes\":{\"coordinates\":null,\"data_source\":{\"id\":\"1363\"},\"glyph\":{\"id\":\"1365\"},\"group\":null,\"hover_glyph\":null,\"muted_glyph\":{\"id\":\"1367\"},\"nonselection_glyph\":{\"id\":\"1366\"},\"selection_glyph\":{\"id\":\"1370\"},\"view\":{\"id\":\"1369\"}},\"id\":\"1368\",\"type\":\"GlyphRenderer\"},{\"attributes\":{\"children\":[{\"id\":\"1307\"},{\"id\":\"1312\"},{\"id\":\"1447\"}],\"margin\":[0,0,0,0],\"name\":\"Row01418\",\"tags\":[\"embedded\"]},\"id\":\"1306\",\"type\":\"Row\"},{\"attributes\":{\"line_alpha\":{\"value\":0.1},\"x0\":{\"field\":\"x0\"},\"x1\":{\"field\":\"x1\"},\"y0\":{\"field\":\"y0\"},\"y1\":{\"field\":\"y1\"}},\"id\":\"1366\",\"type\":\"Segment\"},{\"attributes\":{\"line_alpha\":{\"value\":0.1},\"x0\":{\"field\":\"x0\"},\"x1\":{\"field\":\"x1\"},\"y0\":{\"field\":\"y0\"},\"y1\":{\"field\":\"y1\"}},\"id\":\"1358\",\"type\":\"Segment\"},{\"attributes\":{\"source\":{\"id\":\"1412\"}},\"id\":\"1419\",\"type\":\"CDSView\"},{\"attributes\":{\"line_alpha\":{\"value\":1.0},\"line_cap\":{\"value\":\"butt\"},\"line_color\":{\"value\":\"black\"},\"line_dash\":{\"value\":[]},\"line_dash_offset\":{\"value\":0},\"line_join\":{\"value\":\"bevel\"},\"line_width\":{\"value\":1},\"x0\":{\"field\":\"x0\"},\"x1\":{\"field\":\"x1\"},\"y0\":{\"field\":\"y0\"},\"y1\":{\"field\":\"y1\"}},\"id\":\"1386\",\"type\":\"Segment\"},{\"attributes\":{},\"id\":\"1444\",\"type\":\"UnionRenderers\"},{\"attributes\":{\"line_alpha\":{\"value\":0.2},\"x0\":{\"field\":\"x0\"},\"x1\":{\"field\":\"x1\"},\"y0\":{\"field\":\"y0\"},\"y1\":{\"field\":\"y1\"}},\"id\":\"1367\",\"type\":\"Segment\"},{\"attributes\":{\"angle\":{\"value\":0.0},\"fill_alpha\":{\"value\":1.0},\"fill_color\":{\"value\":\"#30a2da\"},\"hatch_alpha\":{\"value\":1.0},\"hatch_color\":{\"value\":\"#30a2da\"},\"hatch_scale\":{\"value\":12.0},\"hatch_weight\":{\"value\":1.0},\"line_alpha\":{\"value\":1.0},\"line_cap\":{\"value\":\"butt\"},\"line_color\":{\"value\":\"#30a2da\"},\"line_dash\":{\"value\":[]},\"line_dash_offset\":{\"value\":0},\"line_join\":{\"value\":\"bevel\"},\"line_width\":{\"value\":1},\"marker\":{\"value\":\"circle\"},\"size\":{\"value\":5.477225575051661},\"x\":{\"field\":\"mes\"},\"y\":{\"field\":\"users\"}},\"id\":\"1420\",\"type\":\"Scatter\"},{\"attributes\":{},\"id\":\"1434\",\"type\":\"UnionRenderers\"},{\"attributes\":{},\"id\":\"1435\",\"type\":\"Selection\"},{\"attributes\":{\"source\":{\"id\":\"1395\"}},\"id\":\"1401\",\"type\":\"CDSView\"},{\"attributes\":{\"bottom\":{\"field\":\"bottom\"},\"fill_alpha\":{\"value\":0.1},\"fill_color\":{\"value\":null},\"hatch_alpha\":{\"value\":0.1},\"line_alpha\":{\"value\":0.1},\"top\":{\"field\":\"top\"},\"width\":{\"value\":0.7},\"x\":{\"field\":\"index\"}},\"id\":\"1398\",\"type\":\"VBar\"},{\"attributes\":{\"source\":{\"id\":\"1363\"}},\"id\":\"1369\",\"type\":\"CDSView\"},{\"attributes\":{\"x0\":{\"field\":\"x0\"},\"x1\":{\"field\":\"x1\"},\"y0\":{\"field\":\"y0\"},\"y1\":{\"field\":\"y1\"}},\"id\":\"1357\",\"type\":\"Segment\"},{\"attributes\":{\"fill_alpha\":{\"value\":0.1},\"fill_color\":{\"value\":\"#30a2da\"},\"hatch_alpha\":{\"value\":0.1},\"hatch_color\":{\"value\":\"#30a2da\"},\"line_alpha\":{\"value\":0.1},\"line_color\":{\"value\":\"#30a2da\"},\"size\":{\"value\":5.477225575051661},\"x\":{\"field\":\"mes\"},\"y\":{\"field\":\"users\"}},\"id\":\"1416\",\"type\":\"Scatter\"},{\"attributes\":{\"line_alpha\":{\"value\":1.0},\"line_cap\":{\"value\":\"butt\"},\"line_color\":{\"value\":\"black\"},\"line_dash\":{\"value\":[]},\"line_dash_offset\":{\"value\":0},\"line_join\":{\"value\":\"bevel\"},\"line_width\":{\"value\":1},\"x0\":{\"field\":\"x0\"},\"x1\":{\"field\":\"x1\"},\"y0\":{\"field\":\"y0\"},\"y1\":{\"field\":\"y1\"}},\"id\":\"1378\",\"type\":\"Segment\"},{\"attributes\":{\"x0\":{\"field\":\"x0\"},\"x1\":{\"field\":\"x1\"},\"y0\":{\"field\":\"y0\"},\"y1\":{\"field\":\"y1\"}},\"id\":\"1365\",\"type\":\"Segment\"},{\"attributes\":{\"bottom\":{\"field\":\"bottom\"},\"fill_color\":{\"value\":null},\"top\":{\"field\":\"top\"},\"width\":{\"value\":0.7},\"x\":{\"field\":\"index\"}},\"id\":\"1397\",\"type\":\"VBar\"},{\"attributes\":{},\"id\":\"1436\",\"type\":\"UnionRenderers\"},{\"attributes\":{\"data\":{\"mes\":[\"1\",\"2\",\"3\",\"4\",\"5\",\"6\",\"7\",\"8\",\"9\",\"10\",\"11\",\"12\"],\"users\":{\"__ndarray__\":\"AAAAAAB4oEAAAAAAAKGiQAAAAAAAQKZAAAAAAACBpkAAAAAAAK6rQAAAAAAASKtAAAAAAAD0oEAAAAAAAGagQAAAAAAAv6RAAAAAAACIrUAAAAAAAFazQAAAAAAATqZA\",\"dtype\":\"float64\",\"order\":\"little\",\"shape\":[12]}},\"selected\":{\"id\":\"1413\"},\"selection_policy\":{\"id\":\"1444\"}},\"id\":\"1412\",\"type\":\"ColumnDataSource\"},{\"attributes\":{\"coordinates\":null,\"data_source\":{\"id\":\"1403\"},\"glyph\":{\"id\":\"1406\"},\"group\":null,\"hover_glyph\":null,\"muted_glyph\":{\"id\":\"1408\"},\"nonselection_glyph\":{\"id\":\"1407\"},\"selection_glyph\":{\"id\":\"1411\"},\"view\":{\"id\":\"1410\"}},\"id\":\"1409\",\"type\":\"GlyphRenderer\"},{\"attributes\":{\"tools\":[{\"id\":\"1310\"},{\"id\":\"1328\"},{\"id\":\"1329\"},{\"id\":\"1330\"},{\"id\":\"1331\"},{\"id\":\"1332\"}]},\"id\":\"1334\",\"type\":\"Toolbar\"},{\"attributes\":{},\"id\":\"1437\",\"type\":\"Selection\"},{\"attributes\":{\"source\":{\"id\":\"1355\"}},\"id\":\"1361\",\"type\":\"CDSView\"},{\"attributes\":{},\"id\":\"1439\",\"type\":\"Selection\"},{\"attributes\":{\"end\":7474.4,\"reset_end\":7474.4,\"reset_start\":-534.4000000000001,\"start\":-534.4000000000001,\"tags\":[[[\"users\",\"users\",null]]]},\"id\":\"1309\",\"type\":\"Range1d\"},{\"attributes\":{\"data\":{\"x0\":[\"1\",\"2\",\"3\",\"4\",\"5\",\"6\",\"7\",\"8\",\"9\",\"10\",\"11\",\"12\"],\"x1\":[\"1\",\"2\",\"3\",\"4\",\"5\",\"6\",\"7\",\"8\",\"9\",\"10\",\"11\",\"12\"],\"y0\":[2753,2920,3227,4022,4260,4084,3123,2547,3632,4656,6807,6671],\"y1\":{\"__ndarray__\":\"AAAAAAAWpEAAAAAAAAikQAAAAAAAcKhAAAAAAADjq0AAAAAAAEuuQAAAAACAKq5AAAAAAAA9o0AAAAAAAHyhQAAAAAAAHqdAAAAAAICFsEAAAAAAgJi1QAAAAAAAxa5A\",\"dtype\":\"float64\",\"order\":\"little\",\"shape\":[12]}},\"selected\":{\"id\":\"1431\"},\"selection_policy\":{\"id\":\"1430\"}},\"id\":\"1355\",\"type\":\"ColumnDataSource\"},{\"attributes\":{\"coordinates\":null,\"data_source\":{\"id\":\"1355\"},\"glyph\":{\"id\":\"1357\"},\"group\":null,\"hover_glyph\":null,\"muted_glyph\":{\"id\":\"1359\"},\"nonselection_glyph\":{\"id\":\"1358\"},\"selection_glyph\":{\"id\":\"1362\"},\"view\":{\"id\":\"1361\"}},\"id\":\"1360\",\"type\":\"GlyphRenderer\"},{\"attributes\":{\"callback\":null,\"renderers\":[{\"id\":\"1409\"},{\"id\":\"1418\"}],\"tags\":[\"hv_created\"],\"tooltips\":[[\"mes\",\"@{mes}\"],[\"users\",\"@{users}\"]]},\"id\":\"1310\",\"type\":\"HoverTool\"},{\"attributes\":{\"below\":[{\"id\":\"1321\"}],\"center\":[{\"id\":\"1323\"},{\"id\":\"1327\"}],\"height\":300,\"left\":[{\"id\":\"1324\"}],\"margin\":[5,5,5,5],\"min_border_bottom\":10,\"min_border_left\":10,\"min_border_right\":10,\"min_border_top\":10,\"renderers\":[{\"id\":\"1352\"},{\"id\":\"1360\"},{\"id\":\"1368\"},{\"id\":\"1376\"},{\"id\":\"1384\"},{\"id\":\"1392\"},{\"id\":\"1400\"},{\"id\":\"1409\"},{\"id\":\"1418\"}],\"sizing_mode\":\"fixed\",\"title\":{\"id\":\"1313\"},\"toolbar\":{\"id\":\"1334\"},\"x_range\":{\"id\":\"1308\"},\"x_scale\":{\"id\":\"1317\"},\"y_range\":{\"id\":\"1309\"},\"y_scale\":{\"id\":\"1319\"}},\"id\":\"1312\",\"subtype\":\"Figure\",\"type\":\"Plot\"},{\"attributes\":{\"line_alpha\":{\"value\":1.0},\"line_cap\":{\"value\":\"butt\"},\"line_color\":{\"value\":\"black\"},\"line_dash\":{\"value\":[]},\"line_dash_offset\":{\"value\":0},\"line_join\":{\"value\":\"bevel\"},\"line_width\":{\"value\":1},\"x0\":{\"field\":\"x0\"},\"x1\":{\"field\":\"x1\"},\"y0\":{\"field\":\"y0\"},\"y1\":{\"field\":\"y1\"}},\"id\":\"1370\",\"type\":\"Segment\"},{\"attributes\":{\"line_alpha\":0.2,\"line_color\":\"#30a2da\",\"line_width\":2,\"x\":{\"field\":\"mes\"},\"y\":{\"field\":\"users\"}},\"id\":\"1408\",\"type\":\"Line\"},{\"attributes\":{\"factors\":[\"1\",\"2\",\"3\",\"4\",\"5\",\"6\",\"7\",\"8\",\"9\",\"10\",\"11\",\"12\"],\"tags\":[[[\"mes\",\"mes\",null]]]},\"id\":\"1308\",\"type\":\"FactorRange\"},{\"attributes\":{\"data\":{\"bottom\":{\"__ndarray__\":\"AAAAAAAWpEAAAAAAAAikQAAAAAAAcKhAAAAAAADjq0AAAAAAAEuuQAAAAACAKq5AAAAAAAA9o0AAAAAAAHyhQAAAAAAAHqdAAAAAAICFsEAAAAAAgJi1QAAAAAAAxa5A\",\"dtype\":\"float64\",\"order\":\"little\",\"shape\":[12]},\"index\":[\"1\",\"2\",\"3\",\"4\",\"5\",\"6\",\"7\",\"8\",\"9\",\"10\",\"11\",\"12\"],\"top\":{\"__ndarray__\":\"AAAAAAB4oEAAAAAAAKGiQAAAAAAAQKZAAAAAAACBpkAAAAAAAK6rQAAAAAAASKtAAAAAAAD0oEAAAAAAAGagQAAAAAAAv6RAAAAAAACIrUAAAAAAAFazQAAAAAAATqZA\",\"dtype\":\"float64\",\"order\":\"little\",\"shape\":[12]}},\"selected\":{\"id\":\"1439\"},\"selection_policy\":{\"id\":\"1438\"}},\"id\":\"1387\",\"type\":\"ColumnDataSource\"},{\"attributes\":{},\"id\":\"1346\",\"type\":\"AllLabels\"},{\"attributes\":{},\"id\":\"1342\",\"type\":\"CategoricalTickFormatter\"},{\"attributes\":{},\"id\":\"1438\",\"type\":\"UnionRenderers\"},{\"attributes\":{\"source\":{\"id\":\"1347\"}},\"id\":\"1353\",\"type\":\"CDSView\"},{\"attributes\":{},\"id\":\"1404\",\"type\":\"Selection\"},{\"attributes\":{\"data\":{\"mes\":[\"1\",\"2\",\"3\",\"4\",\"5\",\"6\",\"7\",\"8\",\"9\",\"10\",\"11\",\"12\"],\"users\":{\"__ndarray__\":\"AAAAAAB4oEAAAAAAAKGiQAAAAAAAQKZAAAAAAACBpkAAAAAAAK6rQAAAAAAASKtAAAAAAAD0oEAAAAAAAGagQAAAAAAAv6RAAAAAAACIrUAAAAAAAFazQAAAAAAATqZA\",\"dtype\":\"float64\",\"order\":\"little\",\"shape\":[12]}},\"selected\":{\"id\":\"1404\"},\"selection_policy\":{\"id\":\"1442\"}},\"id\":\"1403\",\"type\":\"ColumnDataSource\"},{\"attributes\":{\"bottom\":{\"field\":\"bottom\"},\"fill_alpha\":{\"value\":1.0},\"fill_color\":{\"value\":null},\"hatch_alpha\":{\"value\":1.0},\"hatch_color\":{\"value\":\"black\"},\"hatch_scale\":{\"value\":12.0},\"hatch_weight\":{\"value\":1.0},\"line_alpha\":{\"value\":1.0},\"line_cap\":{\"value\":\"butt\"},\"line_color\":{\"value\":\"black\"},\"line_dash\":{\"value\":[]},\"line_dash_offset\":{\"value\":0},\"line_join\":{\"value\":\"bevel\"},\"line_width\":{\"value\":1},\"top\":{\"field\":\"top\"},\"width\":{\"value\":0.7},\"x\":{\"field\":\"index\"}},\"id\":\"1402\",\"type\":\"VBar\"}],\"root_ids\":[\"1306\"]},\"title\":\"Bokeh Application\",\"version\":\"2.4.3\"}};\n",
       "    var render_items = [{\"docid\":\"6f4e4b1d-e3f1-4a90-a051-80f1c40aa0f4\",\"root_ids\":[\"1306\"],\"roots\":{\"1306\":\"bddb3bc7-5896-4d0e-a76a-4b935b0822c6\"}}];\n",
       "    root.Bokeh.embed.embed_items_notebook(docs_json, render_items);\n",
       "  }\n",
       "  if (root.Bokeh !== undefined && root.Bokeh.Panel !== undefined) {\n",
       "    embed_document(root);\n",
       "  } else {\n",
       "    var attempts = 0;\n",
       "    var timer = setInterval(function(root) {\n",
       "      if (root.Bokeh !== undefined && root.Bokeh.Panel !== undefined) {\n",
       "        clearInterval(timer);\n",
       "        embed_document(root);\n",
       "      } else if (document.readyState == \"complete\") {\n",
       "        attempts++;\n",
       "        if (attempts > 200) {\n",
       "          clearInterval(timer);\n",
       "          console.log(\"Bokeh: ERROR: Unable to run BokehJS code because BokehJS library is missing\");\n",
       "        }\n",
       "      }\n",
       "    }, 25, root)\n",
       "  }\n",
       "})(window);</script>"
      ],
      "text/plain": [
       ":Overlay\n",
       "   .BoxWhisker.I  :BoxWhisker   [mes]   (users)\n",
       "   .Curve.Users   :Curve   [mes]   (users)\n",
       "   .Scatter.Users :Scatter   [mes]   (users)"
      ]
     },
     "execution_count": 8,
     "metadata": {
      "application/vnd.holoviews_exec.v0+json": {
       "id": "1306"
      }
     },
     "output_type": "execute_result"
    }
   ],
   "source": [
    "# Gráfico boxplot para estacionalidad anual\n",
    "# ==============================================================================\n",
    "# fig, ax = plt.subplots(figsize=(7, 3.5))\n",
    "# datos['mes'] = datos.index.month\n",
    "# datos.boxplot(column='users', by='mes', ax=ax,)\n",
    "# datos.groupby('mes')['users'].median().plot(style='o-', linewidth=0.8, ax=ax)\n",
    "# ax.set_ylabel('users')\n",
    "# ax.set_title('Distribución de visitas por mes')\n",
    "# fig.suptitle('');\n",
    "\n",
    "datos['mes'] = datos.index.month\n",
    "boxplot  = datos.sort_values('mes').hvplot.box(\n",
    "               y                  = 'users',\n",
    "               by                 = 'mes',\n",
    "               legend             = False,\n",
    "               box_fill_color     = None,\n",
    "               outlier_fill_color = None\n",
    "           )\n",
    "lineplot = datos.groupby('mes')['users'].median().hvplot.line(legend=False)\n",
    "scatterplot = datos.groupby('mes')['users'].median().hvplot.scatter(legend=False)\n",
    "layout = boxplot * lineplot * scatterplot\n",
    "layout = layout.opts(title='Distribución de visitas por mes', ylabel='users', width=600)\n",
    "layout"
   ]
  },
  {
   "cell_type": "code",
   "execution_count": 9,
   "metadata": {},
   "outputs": [
    {
     "data": {},
     "metadata": {},
     "output_type": "display_data"
    },
    {
     "data": {
      "application/vnd.holoviews_exec.v0+json": "",
      "text/html": [
       "<div id='1579'>\n",
       "  <div class=\"bk-root\" id=\"e754a39a-f55b-4fe2-a9b6-f378111cc03e\" data-root-id=\"1579\"></div>\n",
       "</div>\n",
       "<script type=\"application/javascript\">(function(root) {\n",
       "  function embed_document(root) {\n",
       "    var docs_json = {\"18b26692-f22d-43c2-bf16-91c581366e0e\":{\"defs\":[{\"extends\":null,\"module\":null,\"name\":\"ReactiveHTML1\",\"overrides\":[],\"properties\":[]},{\"extends\":null,\"module\":null,\"name\":\"FlexBox1\",\"overrides\":[],\"properties\":[{\"default\":\"flex-start\",\"kind\":null,\"name\":\"align_content\"},{\"default\":\"flex-start\",\"kind\":null,\"name\":\"align_items\"},{\"default\":\"row\",\"kind\":null,\"name\":\"flex_direction\"},{\"default\":\"wrap\",\"kind\":null,\"name\":\"flex_wrap\"},{\"default\":\"flex-start\",\"kind\":null,\"name\":\"justify_content\"}]},{\"extends\":null,\"module\":null,\"name\":\"GridStack1\",\"overrides\":[],\"properties\":[{\"default\":\"warn\",\"kind\":null,\"name\":\"mode\"},{\"default\":null,\"kind\":null,\"name\":\"ncols\"},{\"default\":null,\"kind\":null,\"name\":\"nrows\"},{\"default\":true,\"kind\":null,\"name\":\"allow_resize\"},{\"default\":true,\"kind\":null,\"name\":\"allow_drag\"},{\"default\":[],\"kind\":null,\"name\":\"state\"}]},{\"extends\":null,\"module\":null,\"name\":\"click1\",\"overrides\":[],\"properties\":[{\"default\":\"\",\"kind\":null,\"name\":\"terminal_output\"},{\"default\":\"\",\"kind\":null,\"name\":\"debug_name\"},{\"default\":0,\"kind\":null,\"name\":\"clears\"}]},{\"extends\":null,\"module\":null,\"name\":\"NotificationAreaBase1\",\"overrides\":[],\"properties\":[{\"default\":\"bottom-right\",\"kind\":null,\"name\":\"position\"},{\"default\":0,\"kind\":null,\"name\":\"_clear\"}]},{\"extends\":null,\"module\":null,\"name\":\"NotificationArea1\",\"overrides\":[],\"properties\":[{\"default\":[],\"kind\":null,\"name\":\"notifications\"},{\"default\":\"bottom-right\",\"kind\":null,\"name\":\"position\"},{\"default\":0,\"kind\":null,\"name\":\"_clear\"},{\"default\":[{\"background\":\"#ffc107\",\"icon\":{\"className\":\"fas fa-exclamation-triangle\",\"color\":\"white\",\"tagName\":\"i\"},\"type\":\"warning\"},{\"background\":\"#007bff\",\"icon\":{\"className\":\"fas fa-info-circle\",\"color\":\"white\",\"tagName\":\"i\"},\"type\":\"info\"}],\"kind\":null,\"name\":\"types\"}]},{\"extends\":null,\"module\":null,\"name\":\"Notification\",\"overrides\":[],\"properties\":[{\"default\":null,\"kind\":null,\"name\":\"background\"},{\"default\":3000,\"kind\":null,\"name\":\"duration\"},{\"default\":null,\"kind\":null,\"name\":\"icon\"},{\"default\":\"\",\"kind\":null,\"name\":\"message\"},{\"default\":null,\"kind\":null,\"name\":\"notification_type\"},{\"default\":false,\"kind\":null,\"name\":\"_destroyed\"}]},{\"extends\":null,\"module\":null,\"name\":\"TemplateActions1\",\"overrides\":[],\"properties\":[{\"default\":0,\"kind\":null,\"name\":\"open_modal\"},{\"default\":0,\"kind\":null,\"name\":\"close_modal\"}]},{\"extends\":null,\"module\":null,\"name\":\"MaterialTemplateActions1\",\"overrides\":[],\"properties\":[{\"default\":0,\"kind\":null,\"name\":\"open_modal\"},{\"default\":0,\"kind\":null,\"name\":\"close_modal\"}]}],\"roots\":{\"references\":[{\"attributes\":{\"coordinates\":null,\"group\":null,\"text\":\"Distribuci\\u00f3n de visitas por d\\u00eda del mes\",\"text_color\":\"black\",\"text_font_size\":\"12pt\"},\"id\":\"1586\",\"type\":\"Title\"},{\"attributes\":{},\"id\":\"1712\",\"type\":\"Selection\"},{\"attributes\":{\"callback\":null,\"renderers\":[{\"id\":\"1682\"},{\"id\":\"1691\"}],\"tags\":[\"hv_created\"],\"tooltips\":[[\"dia_mes\",\"@{dia_mes}\"],[\"users\",\"@{users}\"]]},\"id\":\"1583\",\"type\":\"HoverTool\"},{\"attributes\":{\"data\":{\"dia_mes\":[\"1\",\"2\",\"3\",\"4\",\"5\",\"6\",\"7\",\"8\",\"9\",\"10\",\"11\",\"12\",\"13\",\"14\",\"15\",\"16\",\"17\",\"18\",\"19\",\"20\",\"21\",\"22\",\"23\",\"24\",\"25\",\"26\",\"27\",\"28\",\"29\",\"30\",\"31\"],\"users\":{\"__ndarray__\":\"AAAAAAAookAAAAAAAI6jQAAAAAAAu6NAAAAAAACookAAAAAAAO2jQAAAAAAAW6JAAAAAAACto0AAAAAAALGkQAAAAAAAMqVAAAAAAADPpEAAAAAAABCjQAAAAAAAsqRAAAAAAADRokAAAAAAABWmQAAAAAAAL6VAAAAAAAAto0AAAAAAAOOkQAAAAAAAP6RAAAAAAADVo0AAAAAAAKahQAAAAAAAHqRAAAAAAAD1o0AAAAAAAGilQAAAAAAAkKVAAAAAAAADpUAAAAAAADSkQAAAAAAAqKBAAAAAAACgpEAAAAAAAF6lQAAAAAAA+KJAAAAAAABCoEA=\",\"dtype\":\"float64\",\"order\":\"little\",\"shape\":[31]}},\"selected\":{\"id\":\"1677\"},\"selection_policy\":{\"id\":\"1715\"}},\"id\":\"1676\",\"type\":\"ColumnDataSource\"},{\"attributes\":{},\"id\":\"1702\",\"type\":\"Selection\"},{\"attributes\":{},\"id\":\"1717\",\"type\":\"UnionRenderers\"},{\"attributes\":{\"coordinates\":null,\"data_source\":{\"id\":\"1652\"},\"glyph\":{\"id\":\"1654\"},\"group\":null,\"hover_glyph\":null,\"muted_glyph\":{\"id\":\"1656\"},\"nonselection_glyph\":{\"id\":\"1655\"},\"selection_glyph\":{\"id\":\"1659\"},\"view\":{\"id\":\"1658\"}},\"id\":\"1657\",\"type\":\"GlyphRenderer\"},{\"attributes\":{\"data\":{\"index\":[\"1\",\"2\",\"3\",\"5\",\"6\",\"10\",\"12\",\"12\",\"13\",\"17\",\"18\",\"19\",\"23\",\"24\",\"25\",\"25\",\"26\",\"30\",\"31\"],\"users\":[6298,6587,6671,4855,4604,5265,5419,3907,5130,5258,5668,5565,5828,6807,6774,472,6587,6117,3948]},\"selected\":{\"id\":\"1702\"},\"selection_policy\":{\"id\":\"1701\"}},\"id\":\"1620\",\"type\":\"ColumnDataSource\"},{\"attributes\":{},\"id\":\"1616\",\"type\":\"AllLabels\"},{\"attributes\":{},\"id\":\"1590\",\"type\":\"CategoricalScale\"},{\"attributes\":{\"source\":{\"id\":\"1652\"}},\"id\":\"1658\",\"type\":\"CDSView\"},{\"attributes\":{},\"id\":\"1709\",\"type\":\"UnionRenderers\"},{\"attributes\":{\"axis\":{\"id\":\"1594\"},\"coordinates\":null,\"grid_line_color\":null,\"group\":null,\"ticker\":null},\"id\":\"1596\",\"type\":\"Grid\"},{\"attributes\":{\"bottom\":{\"field\":\"bottom\"},\"fill_alpha\":{\"value\":1.0},\"fill_color\":{\"value\":null},\"hatch_alpha\":{\"value\":1.0},\"hatch_color\":{\"value\":\"black\"},\"hatch_scale\":{\"value\":12.0},\"hatch_weight\":{\"value\":1.0},\"line_alpha\":{\"value\":1.0},\"line_cap\":{\"value\":\"butt\"},\"line_color\":{\"value\":\"black\"},\"line_dash\":{\"value\":[]},\"line_dash_offset\":{\"value\":0},\"line_join\":{\"value\":\"bevel\"},\"line_width\":{\"value\":1},\"top\":{\"field\":\"top\"},\"width\":{\"value\":0.7},\"x\":{\"field\":\"index\"}},\"id\":\"1667\",\"type\":\"VBar\"},{\"attributes\":{},\"id\":\"1711\",\"type\":\"UnionRenderers\"},{\"attributes\":{},\"id\":\"1602\",\"type\":\"PanTool\"},{\"attributes\":{\"axis_label\":\"dia_mes\",\"coordinates\":null,\"formatter\":{\"id\":\"1615\"},\"group\":null,\"major_label_policy\":{\"id\":\"1616\"},\"ticker\":{\"id\":\"1595\"}},\"id\":\"1594\",\"type\":\"CategoricalAxis\"},{\"attributes\":{\"angle\":{\"value\":0.0},\"fill_alpha\":{\"value\":1.0},\"fill_color\":{\"value\":\"#30a2da\"},\"hatch_alpha\":{\"value\":1.0},\"hatch_color\":{\"value\":\"#30a2da\"},\"hatch_scale\":{\"value\":12.0},\"hatch_weight\":{\"value\":1.0},\"line_alpha\":{\"value\":1.0},\"line_cap\":{\"value\":\"butt\"},\"line_color\":{\"value\":\"#30a2da\"},\"line_dash\":{\"value\":[]},\"line_dash_offset\":{\"value\":0},\"line_join\":{\"value\":\"bevel\"},\"line_width\":{\"value\":1},\"marker\":{\"value\":\"circle\"},\"size\":{\"value\":5.477225575051661},\"x\":{\"field\":\"dia_mes\"},\"y\":{\"field\":\"users\"}},\"id\":\"1693\",\"type\":\"Scatter\"},{\"attributes\":{},\"id\":\"1595\",\"type\":\"CategoricalTicker\"},{\"attributes\":{\"source\":{\"id\":\"1685\"}},\"id\":\"1692\",\"type\":\"CDSView\"},{\"attributes\":{},\"id\":\"1592\",\"type\":\"LinearScale\"},{\"attributes\":{\"axis_label\":\"users\",\"coordinates\":null,\"formatter\":{\"id\":\"1618\"},\"group\":null,\"major_label_policy\":{\"id\":\"1619\"},\"ticker\":{\"id\":\"1598\"}},\"id\":\"1597\",\"type\":\"LinearAxis\"},{\"attributes\":{\"data\":{\"x0\":[\"1\",\"2\",\"3\",\"4\",\"5\",\"6\",\"7\",\"8\",\"9\",\"10\",\"11\",\"12\",\"13\",\"14\",\"15\",\"16\",\"17\",\"18\",\"19\",\"20\",\"21\",\"22\",\"23\",\"24\",\"25\",\"26\",\"27\",\"28\",\"29\",\"30\",\"31\"],\"x1\":[\"1\",\"2\",\"3\",\"4\",\"5\",\"6\",\"7\",\"8\",\"9\",\"10\",\"11\",\"12\",\"13\",\"14\",\"15\",\"16\",\"17\",\"18\",\"19\",\"20\",\"21\",\"22\",\"23\",\"24\",\"25\",\"26\",\"27\",\"28\",\"29\",\"30\",\"31\"],\"y0\":[133,922,1144,1359,1433,1458,1406,1239,1477,1569,1462,1391,1652,1438,1308,1384,1730,1434,1401,1558,1546,1393,1411,886,1415,863,987,1432,1390,1278,785],\"y1\":{\"__ndarray__\":\"AAAAAACVmkAAAAAAgN+gQAAAAAAAYaBAAAAAAACqnUAAAAAAAGehQAAAAAAAe59AAAAAAABMn0AAAAAAgB2iQAAAAAAAR6JAAAAAAICeoEAAAAAAAHGhQAAAAAAALqJAAAAAAICyoEAAAAAAgAihQAAAAACAfaFAAAAAAIA0oUAAAAAAAKWgQAAAAAAAgKJAAAAAAABKoUAAAAAAAP2fQAAAAAAA0p5AAAAAAAAFokAAAAAAgF6hQAAAAAAAYp9AAAAAAAAuoUAAAAAAAM6iQAAAAAAA4J9AAAAAAABYoEAAAAAAAOqgQAAAAAAAiJ9AAAAAAAAzmkA=\",\"dtype\":\"float64\",\"order\":\"little\",\"shape\":[31]}},\"selected\":{\"id\":\"1706\"},\"selection_policy\":{\"id\":\"1705\"}},\"id\":\"1636\",\"type\":\"ColumnDataSource\"},{\"attributes\":{\"source\":{\"id\":\"1628\"}},\"id\":\"1634\",\"type\":\"CDSView\"},{\"attributes\":{\"axis\":{\"id\":\"1597\"},\"coordinates\":null,\"dimension\":1,\"grid_line_color\":null,\"group\":null,\"ticker\":null},\"id\":\"1600\",\"type\":\"Grid\"},{\"attributes\":{\"fill_color\":{\"value\":\"#30a2da\"},\"hatch_color\":{\"value\":\"#30a2da\"},\"line_color\":{\"value\":\"#30a2da\"},\"size\":{\"value\":5.477225575051661},\"x\":{\"field\":\"dia_mes\"},\"y\":{\"field\":\"users\"}},\"id\":\"1688\",\"type\":\"Scatter\"},{\"attributes\":{},\"id\":\"1701\",\"type\":\"UnionRenderers\"},{\"attributes\":{},\"id\":\"1598\",\"type\":\"BasicTicker\"},{\"attributes\":{},\"id\":\"1686\",\"type\":\"Selection\"},{\"attributes\":{},\"id\":\"1603\",\"type\":\"WheelZoomTool\"},{\"attributes\":{\"fill_alpha\":{\"value\":0.2},\"fill_color\":{\"value\":\"#30a2da\"},\"hatch_alpha\":{\"value\":0.2},\"hatch_color\":{\"value\":\"#30a2da\"},\"line_alpha\":{\"value\":0.2},\"line_color\":{\"value\":\"#30a2da\"},\"size\":{\"value\":5.477225575051661},\"x\":{\"field\":\"dia_mes\"},\"y\":{\"field\":\"users\"}},\"id\":\"1690\",\"type\":\"Scatter\"},{\"attributes\":{\"coordinates\":null,\"data_source\":{\"id\":\"1644\"},\"glyph\":{\"id\":\"1646\"},\"group\":null,\"hover_glyph\":null,\"muted_glyph\":{\"id\":\"1648\"},\"nonselection_glyph\":{\"id\":\"1647\"},\"selection_glyph\":{\"id\":\"1651\"},\"view\":{\"id\":\"1650\"}},\"id\":\"1649\",\"type\":\"GlyphRenderer\"},{\"attributes\":{\"fill_alpha\":{\"value\":0.1},\"fill_color\":{\"value\":\"#30a2da\"},\"hatch_alpha\":{\"value\":0.1},\"hatch_color\":{\"value\":\"#30a2da\"},\"line_alpha\":{\"value\":0.1},\"line_color\":{\"value\":\"#30a2da\"},\"size\":{\"value\":5.477225575051661},\"x\":{\"field\":\"dia_mes\"},\"y\":{\"field\":\"users\"}},\"id\":\"1689\",\"type\":\"Scatter\"},{\"attributes\":{},\"id\":\"1710\",\"type\":\"Selection\"},{\"attributes\":{\"source\":{\"id\":\"1636\"}},\"id\":\"1642\",\"type\":\"CDSView\"},{\"attributes\":{},\"id\":\"1713\",\"type\":\"UnionRenderers\"},{\"attributes\":{},\"id\":\"1601\",\"type\":\"SaveTool\"},{\"attributes\":{},\"id\":\"1714\",\"type\":\"Selection\"},{\"attributes\":{\"coordinates\":null,\"data_source\":{\"id\":\"1685\"},\"glyph\":{\"id\":\"1688\"},\"group\":null,\"hover_glyph\":null,\"muted_glyph\":{\"id\":\"1690\"},\"nonselection_glyph\":{\"id\":\"1689\"},\"selection_glyph\":{\"id\":\"1693\"},\"view\":{\"id\":\"1692\"}},\"id\":\"1691\",\"type\":\"GlyphRenderer\"},{\"attributes\":{\"line_alpha\":{\"value\":0.2},\"x0\":{\"field\":\"x0\"},\"x1\":{\"field\":\"x1\"},\"y0\":{\"field\":\"y0\"},\"y1\":{\"field\":\"y1\"}},\"id\":\"1640\",\"type\":\"Segment\"},{\"attributes\":{\"line_alpha\":{\"value\":0.1},\"x0\":{\"field\":\"x0\"},\"x1\":{\"field\":\"x1\"},\"y0\":{\"field\":\"y0\"},\"y1\":{\"field\":\"y1\"}},\"id\":\"1631\",\"type\":\"Segment\"},{\"attributes\":{\"overlay\":{\"id\":\"1606\"}},\"id\":\"1604\",\"type\":\"BoxZoomTool\"},{\"attributes\":{},\"id\":\"1605\",\"type\":\"ResetTool\"},{\"attributes\":{\"line_alpha\":{\"value\":1.0},\"line_cap\":{\"value\":\"butt\"},\"line_color\":{\"value\":\"black\"},\"line_dash\":{\"value\":[]},\"line_dash_offset\":{\"value\":0},\"line_join\":{\"value\":\"bevel\"},\"line_width\":{\"value\":1},\"x0\":{\"field\":\"x0\"},\"x1\":{\"field\":\"x1\"},\"y0\":{\"field\":\"y0\"},\"y1\":{\"field\":\"y1\"}},\"id\":\"1635\",\"type\":\"Segment\"},{\"attributes\":{\"bottom_units\":\"screen\",\"coordinates\":null,\"fill_alpha\":0.5,\"fill_color\":\"lightgrey\",\"group\":null,\"left_units\":\"screen\",\"level\":\"overlay\",\"line_alpha\":1.0,\"line_color\":\"black\",\"line_dash\":[4,4],\"line_width\":2,\"right_units\":\"screen\",\"syncable\":false,\"top_units\":\"screen\"},\"id\":\"1606\",\"type\":\"BoxAnnotation\"},{\"attributes\":{},\"id\":\"1708\",\"type\":\"Selection\"},{\"attributes\":{\"x0\":{\"field\":\"x0\"},\"x1\":{\"field\":\"x1\"},\"y0\":{\"field\":\"y0\"},\"y1\":{\"field\":\"y1\"}},\"id\":\"1630\",\"type\":\"Segment\"},{\"attributes\":{},\"id\":\"1707\",\"type\":\"UnionRenderers\"},{\"attributes\":{\"data\":{\"x0\":[[\"1\",-0.2],[\"2\",-0.2],[\"3\",-0.2],[\"4\",-0.2],[\"5\",-0.2],[\"6\",-0.2],[\"7\",-0.2],[\"8\",-0.2],[\"9\",-0.2],[\"10\",-0.2],[\"11\",-0.2],[\"12\",-0.2],[\"13\",-0.2],[\"14\",-0.2],[\"15\",-0.2],[\"16\",-0.2],[\"17\",-0.2],[\"18\",-0.2],[\"19\",-0.2],[\"20\",-0.2],[\"21\",-0.2],[\"22\",-0.2],[\"23\",-0.2],[\"24\",-0.2],[\"25\",-0.2],[\"26\",-0.2],[\"27\",-0.2],[\"28\",-0.2],[\"29\",-0.2],[\"30\",-0.2],[\"31\",-0.2]],\"x1\":[[\"1\",0.2],[\"2\",0.2],[\"3\",0.2],[\"4\",0.2],[\"5\",0.2],[\"6\",0.2],[\"7\",0.2],[\"8\",0.2],[\"9\",0.2],[\"10\",0.2],[\"11\",0.2],[\"12\",0.2],[\"13\",0.2],[\"14\",0.2],[\"15\",0.2],[\"16\",0.2],[\"17\",0.2],[\"18\",0.2],[\"19\",0.2],[\"20\",0.2],[\"21\",0.2],[\"22\",0.2],[\"23\",0.2],[\"24\",0.2],[\"25\",0.2],[\"26\",0.2],[\"27\",0.2],[\"28\",0.2],[\"29\",0.2],[\"30\",0.2],[\"31\",0.2]],\"y0\":[133,922,1144,1359,1433,1458,1406,1239,1477,1569,1462,1391,1652,1438,1308,1384,1730,1434,1401,1558,1546,1393,1411,886,1415,863,987,1432,1390,1278,785],\"y1\":[133,922,1144,1359,1433,1458,1406,1239,1477,1569,1462,1391,1652,1438,1308,1384,1730,1434,1401,1558,1546,1393,1411,886,1415,863,987,1432,1390,1278,785]},\"selected\":{\"id\":\"1708\"},\"selection_policy\":{\"id\":\"1707\"}},\"id\":\"1644\",\"type\":\"ColumnDataSource\"},{\"attributes\":{\"fill_alpha\":{\"value\":0.1},\"fill_color\":{\"value\":null},\"hatch_alpha\":{\"value\":0.1},\"line_alpha\":{\"value\":0.1},\"x\":{\"field\":\"index\"},\"y\":{\"field\":\"users\"}},\"id\":\"1623\",\"type\":\"Circle\"},{\"attributes\":{\"coordinates\":null,\"data_source\":{\"id\":\"1636\"},\"glyph\":{\"id\":\"1638\"},\"group\":null,\"hover_glyph\":null,\"muted_glyph\":{\"id\":\"1640\"},\"nonselection_glyph\":{\"id\":\"1639\"},\"selection_glyph\":{\"id\":\"1643\"},\"view\":{\"id\":\"1642\"}},\"id\":\"1641\",\"type\":\"GlyphRenderer\"},{\"attributes\":{\"margin\":[5,5,5,5],\"name\":\"HSpacer01957\",\"sizing_mode\":\"stretch_width\"},\"id\":\"1720\",\"type\":\"Spacer\"},{\"attributes\":{\"line_color\":\"#30a2da\",\"line_width\":2,\"x\":{\"field\":\"dia_mes\"},\"y\":{\"field\":\"users\"}},\"id\":\"1679\",\"type\":\"Line\"},{\"attributes\":{},\"id\":\"1715\",\"type\":\"UnionRenderers\"},{\"attributes\":{\"line_alpha\":{\"value\":0.2},\"x0\":{\"field\":\"x0\"},\"x1\":{\"field\":\"x1\"},\"y0\":{\"field\":\"y0\"},\"y1\":{\"field\":\"y1\"}},\"id\":\"1648\",\"type\":\"Segment\"},{\"attributes\":{\"line_alpha\":{\"value\":1.0},\"line_cap\":{\"value\":\"butt\"},\"line_color\":{\"value\":\"black\"},\"line_dash\":{\"value\":[]},\"line_dash_offset\":{\"value\":0},\"line_join\":{\"value\":\"bevel\"},\"line_width\":{\"value\":1},\"x0\":{\"field\":\"x0\"},\"x1\":{\"field\":\"x1\"},\"y0\":{\"field\":\"y0\"},\"y1\":{\"field\":\"y1\"}},\"id\":\"1651\",\"type\":\"Segment\"},{\"attributes\":{\"x0\":{\"field\":\"x0\"},\"x1\":{\"field\":\"x1\"},\"y0\":{\"field\":\"y0\"},\"y1\":{\"field\":\"y1\"}},\"id\":\"1646\",\"type\":\"Segment\"},{\"attributes\":{},\"id\":\"1677\",\"type\":\"Selection\"},{\"attributes\":{\"line_alpha\":{\"value\":0.1},\"x0\":{\"field\":\"x0\"},\"x1\":{\"field\":\"x1\"},\"y0\":{\"field\":\"y0\"},\"y1\":{\"field\":\"y1\"}},\"id\":\"1655\",\"type\":\"Segment\"},{\"attributes\":{\"coordinates\":null,\"data_source\":{\"id\":\"1676\"},\"glyph\":{\"id\":\"1679\"},\"group\":null,\"hover_glyph\":null,\"muted_glyph\":{\"id\":\"1681\"},\"nonselection_glyph\":{\"id\":\"1680\"},\"selection_glyph\":{\"id\":\"1684\"},\"view\":{\"id\":\"1683\"}},\"id\":\"1682\",\"type\":\"GlyphRenderer\"},{\"attributes\":{\"bottom\":{\"field\":\"bottom\"},\"fill_alpha\":{\"value\":0.1},\"fill_color\":{\"value\":null},\"hatch_alpha\":{\"value\":0.1},\"line_alpha\":{\"value\":0.1},\"top\":{\"field\":\"top\"},\"width\":{\"value\":0.7},\"x\":{\"field\":\"index\"}},\"id\":\"1663\",\"type\":\"VBar\"},{\"attributes\":{\"line_alpha\":{\"value\":1.0},\"line_cap\":{\"value\":\"butt\"},\"line_color\":{\"value\":\"black\"},\"line_dash\":{\"value\":[]},\"line_dash_offset\":{\"value\":0},\"line_join\":{\"value\":\"bevel\"},\"line_width\":{\"value\":1},\"x0\":{\"field\":\"x0\"},\"x1\":{\"field\":\"x1\"},\"y0\":{\"field\":\"y0\"},\"y1\":{\"field\":\"y1\"}},\"id\":\"1643\",\"type\":\"Segment\"},{\"attributes\":{\"line_alpha\":{\"value\":0.1},\"x0\":{\"field\":\"x0\"},\"x1\":{\"field\":\"x1\"},\"y0\":{\"field\":\"y0\"},\"y1\":{\"field\":\"y1\"}},\"id\":\"1647\",\"type\":\"Segment\"},{\"attributes\":{\"data\":{\"dia_mes\":[\"1\",\"2\",\"3\",\"4\",\"5\",\"6\",\"7\",\"8\",\"9\",\"10\",\"11\",\"12\",\"13\",\"14\",\"15\",\"16\",\"17\",\"18\",\"19\",\"20\",\"21\",\"22\",\"23\",\"24\",\"25\",\"26\",\"27\",\"28\",\"29\",\"30\",\"31\"],\"users\":{\"__ndarray__\":\"AAAAAAAookAAAAAAAI6jQAAAAAAAu6NAAAAAAACookAAAAAAAO2jQAAAAAAAW6JAAAAAAACto0AAAAAAALGkQAAAAAAAMqVAAAAAAADPpEAAAAAAABCjQAAAAAAAsqRAAAAAAADRokAAAAAAABWmQAAAAAAAL6VAAAAAAAAto0AAAAAAAOOkQAAAAAAAP6RAAAAAAADVo0AAAAAAAKahQAAAAAAAHqRAAAAAAAD1o0AAAAAAAGilQAAAAAAAkKVAAAAAAAADpUAAAAAAADSkQAAAAAAAqKBAAAAAAACgpEAAAAAAAF6lQAAAAAAA+KJAAAAAAABCoEA=\",\"dtype\":\"float64\",\"order\":\"little\",\"shape\":[31]}},\"selected\":{\"id\":\"1686\"},\"selection_policy\":{\"id\":\"1717\"}},\"id\":\"1685\",\"type\":\"ColumnDataSource\"},{\"attributes\":{},\"id\":\"1706\",\"type\":\"Selection\"},{\"attributes\":{\"angle\":{\"value\":0.0},\"fill_alpha\":{\"value\":1.0},\"fill_color\":{\"value\":null},\"hatch_alpha\":{\"value\":1.0},\"hatch_color\":{\"value\":\"black\"},\"hatch_scale\":{\"value\":12.0},\"hatch_weight\":{\"value\":1.0},\"line_alpha\":{\"value\":1.0},\"line_cap\":{\"value\":\"butt\"},\"line_color\":{\"value\":\"black\"},\"line_dash\":{\"value\":[]},\"line_dash_offset\":{\"value\":0},\"line_join\":{\"value\":\"bevel\"},\"line_width\":{\"value\":1},\"size\":{\"value\":4},\"x\":{\"field\":\"index\"},\"y\":{\"field\":\"users\"}},\"id\":\"1627\",\"type\":\"Circle\"},{\"attributes\":{\"source\":{\"id\":\"1644\"}},\"id\":\"1650\",\"type\":\"CDSView\"},{\"attributes\":{\"line_alpha\":{\"value\":0.1},\"x0\":{\"field\":\"x0\"},\"x1\":{\"field\":\"x1\"},\"y0\":{\"field\":\"y0\"},\"y1\":{\"field\":\"y1\"}},\"id\":\"1639\",\"type\":\"Segment\"},{\"attributes\":{\"bottom\":{\"field\":\"bottom\"},\"fill_color\":{\"value\":null},\"top\":{\"field\":\"top\"},\"width\":{\"value\":0.7},\"x\":{\"field\":\"index\"}},\"id\":\"1662\",\"type\":\"VBar\"},{\"attributes\":{},\"id\":\"1619\",\"type\":\"AllLabels\"},{\"attributes\":{\"margin\":[5,5,5,5],\"name\":\"HSpacer01956\",\"sizing_mode\":\"stretch_width\"},\"id\":\"1580\",\"type\":\"Spacer\"},{\"attributes\":{\"data\":{\"bottom\":{\"__ndarray__\":\"AAAAAAAookAAAAAAAI6jQAAAAAAAu6NAAAAAAACookAAAAAAAO2jQAAAAAAAW6JAAAAAAACto0AAAAAAALGkQAAAAAAAMqVAAAAAAADPpEAAAAAAABCjQAAAAAAAsqRAAAAAAADRokAAAAAAABWmQAAAAAAAL6VAAAAAAAAto0AAAAAAAOOkQAAAAAAAP6RAAAAAAADVo0AAAAAAAKahQAAAAAAAHqRAAAAAAAD1o0AAAAAAAGilQAAAAAAAkKVAAAAAAAADpUAAAAAAADSkQAAAAAAAqKBAAAAAAACgpEAAAAAAAF6lQAAAAAAA+KJAAAAAAABCoEA=\",\"dtype\":\"float64\",\"order\":\"little\",\"shape\":[31]},\"index\":[\"1\",\"2\",\"3\",\"4\",\"5\",\"6\",\"7\",\"8\",\"9\",\"10\",\"11\",\"12\",\"13\",\"14\",\"15\",\"16\",\"17\",\"18\",\"19\",\"20\",\"21\",\"22\",\"23\",\"24\",\"25\",\"26\",\"27\",\"28\",\"29\",\"30\",\"31\"],\"top\":{\"__ndarray__\":\"AAAAAACVmkAAAAAAgN+gQAAAAAAAYaBAAAAAAACqnUAAAAAAAGehQAAAAAAAe59AAAAAAABMn0AAAAAAgB2iQAAAAAAAR6JAAAAAAICeoEAAAAAAAHGhQAAAAAAALqJAAAAAAICyoEAAAAAAgAihQAAAAACAfaFAAAAAAIA0oUAAAAAAAKWgQAAAAAAAgKJAAAAAAABKoUAAAAAAAP2fQAAAAAAA0p5AAAAAAAAFokAAAAAAgF6hQAAAAAAAYp9AAAAAAAAuoUAAAAAAAM6iQAAAAAAA4J9AAAAAAABYoEAAAAAAAOqgQAAAAAAAiJ9AAAAAAAAzmkA=\",\"dtype\":\"float64\",\"order\":\"little\",\"shape\":[31]}},\"selected\":{\"id\":\"1714\"},\"selection_policy\":{\"id\":\"1713\"}},\"id\":\"1668\",\"type\":\"ColumnDataSource\"},{\"attributes\":{\"bottom\":{\"field\":\"bottom\"},\"fill_color\":{\"value\":null},\"top\":{\"field\":\"top\"},\"width\":{\"value\":0.7},\"x\":{\"field\":\"index\"}},\"id\":\"1670\",\"type\":\"VBar\"},{\"attributes\":{\"coordinates\":null,\"data_source\":{\"id\":\"1660\"},\"glyph\":{\"id\":\"1662\"},\"group\":null,\"hover_glyph\":null,\"muted_glyph\":{\"id\":\"1664\"},\"nonselection_glyph\":{\"id\":\"1663\"},\"selection_glyph\":{\"id\":\"1667\"},\"view\":{\"id\":\"1666\"}},\"id\":\"1665\",\"type\":\"GlyphRenderer\"},{\"attributes\":{},\"id\":\"1705\",\"type\":\"UnionRenderers\"},{\"attributes\":{\"source\":{\"id\":\"1668\"}},\"id\":\"1674\",\"type\":\"CDSView\"},{\"attributes\":{\"bottom\":{\"field\":\"bottom\"},\"fill_alpha\":{\"value\":0.2},\"fill_color\":{\"value\":null},\"hatch_alpha\":{\"value\":0.2},\"line_alpha\":{\"value\":0.2},\"top\":{\"field\":\"top\"},\"width\":{\"value\":0.7},\"x\":{\"field\":\"index\"}},\"id\":\"1672\",\"type\":\"VBar\"},{\"attributes\":{\"fill_alpha\":{\"value\":0.2},\"fill_color\":{\"value\":null},\"hatch_alpha\":{\"value\":0.2},\"line_alpha\":{\"value\":0.2},\"x\":{\"field\":\"index\"},\"y\":{\"field\":\"users\"}},\"id\":\"1624\",\"type\":\"Circle\"},{\"attributes\":{\"source\":{\"id\":\"1620\"}},\"id\":\"1626\",\"type\":\"CDSView\"},{\"attributes\":{\"children\":[{\"id\":\"1580\"},{\"id\":\"1585\"},{\"id\":\"1720\"}],\"margin\":[0,0,0,0],\"name\":\"Row01952\",\"tags\":[\"embedded\"]},\"id\":\"1579\",\"type\":\"Row\"},{\"attributes\":{\"line_alpha\":0.2,\"line_color\":\"#30a2da\",\"line_width\":2,\"x\":{\"field\":\"dia_mes\"},\"y\":{\"field\":\"users\"}},\"id\":\"1681\",\"type\":\"Line\"},{\"attributes\":{\"x0\":{\"field\":\"x0\"},\"x1\":{\"field\":\"x1\"},\"y0\":{\"field\":\"y0\"},\"y1\":{\"field\":\"y1\"}},\"id\":\"1654\",\"type\":\"Segment\"},{\"attributes\":{},\"id\":\"1618\",\"type\":\"BasicTickFormatter\"},{\"attributes\":{\"x0\":{\"field\":\"x0\"},\"x1\":{\"field\":\"x1\"},\"y0\":{\"field\":\"y0\"},\"y1\":{\"field\":\"y1\"}},\"id\":\"1638\",\"type\":\"Segment\"},{\"attributes\":{\"coordinates\":null,\"data_source\":{\"id\":\"1628\"},\"glyph\":{\"id\":\"1630\"},\"group\":null,\"hover_glyph\":null,\"muted_glyph\":{\"id\":\"1632\"},\"nonselection_glyph\":{\"id\":\"1631\"},\"selection_glyph\":{\"id\":\"1635\"},\"view\":{\"id\":\"1634\"}},\"id\":\"1633\",\"type\":\"GlyphRenderer\"},{\"attributes\":{\"data\":{\"bottom\":{\"__ndarray__\":\"AAAAAIB1p0AAAAAAADCpQAAAAAAAeKtAAAAAAACcqkAAAAAAAO6oQAAAAAAAGqdAAAAAAACKq0AAAAAAgGOoQAAAAAAA3apAAAAAAACeqUAAAAAAAJSrQAAAAACAF6dAAAAAAIBNqEAAAAAAAKerQAAAAAAAi6lAAAAAAIAsq0AAAAAAgNWoQAAAAAAAwadAAAAAAICvqkAAAAAAAGKqQAAAAAAASqtAAAAAAICeq0AAAAAAgKarQAAAAAAA4KhAAAAAAICkqEAAAAAAAAKsQAAAAAAAbK9AAAAAAADUrEAAAAAAgBCsQAAAAAAAsqpAAAAAAIABo0A=\",\"dtype\":\"float64\",\"order\":\"little\",\"shape\":[31]},\"index\":[\"1\",\"2\",\"3\",\"4\",\"5\",\"6\",\"7\",\"8\",\"9\",\"10\",\"11\",\"12\",\"13\",\"14\",\"15\",\"16\",\"17\",\"18\",\"19\",\"20\",\"21\",\"22\",\"23\",\"24\",\"25\",\"26\",\"27\",\"28\",\"29\",\"30\",\"31\"],\"top\":{\"__ndarray__\":\"AAAAAAAookAAAAAAAI6jQAAAAAAAu6NAAAAAAACookAAAAAAAO2jQAAAAAAAW6JAAAAAAACto0AAAAAAALGkQAAAAAAAMqVAAAAAAADPpEAAAAAAABCjQAAAAAAAsqRAAAAAAADRokAAAAAAABWmQAAAAAAAL6VAAAAAAAAto0AAAAAAAOOkQAAAAAAAP6RAAAAAAADVo0AAAAAAAKahQAAAAAAAHqRAAAAAAAD1o0AAAAAAAGilQAAAAAAAkKVAAAAAAAADpUAAAAAAADSkQAAAAAAAqKBAAAAAAACgpEAAAAAAAF6lQAAAAAAA+KJAAAAAAABCoEA=\",\"dtype\":\"float64\",\"order\":\"little\",\"shape\":[31]}},\"selected\":{\"id\":\"1712\"},\"selection_policy\":{\"id\":\"1711\"}},\"id\":\"1660\",\"type\":\"ColumnDataSource\"},{\"attributes\":{},\"id\":\"1615\",\"type\":\"CategoricalTickFormatter\"},{\"attributes\":{\"source\":{\"id\":\"1676\"}},\"id\":\"1683\",\"type\":\"CDSView\"},{\"attributes\":{},\"id\":\"1703\",\"type\":\"UnionRenderers\"},{\"attributes\":{\"coordinates\":null,\"data_source\":{\"id\":\"1668\"},\"glyph\":{\"id\":\"1670\"},\"group\":null,\"hover_glyph\":null,\"muted_glyph\":{\"id\":\"1672\"},\"nonselection_glyph\":{\"id\":\"1671\"},\"selection_glyph\":{\"id\":\"1675\"},\"view\":{\"id\":\"1674\"}},\"id\":\"1673\",\"type\":\"GlyphRenderer\"},{\"attributes\":{\"line_alpha\":{\"value\":0.2},\"x0\":{\"field\":\"x0\"},\"x1\":{\"field\":\"x1\"},\"y0\":{\"field\":\"y0\"},\"y1\":{\"field\":\"y1\"}},\"id\":\"1656\",\"type\":\"Segment\"},{\"attributes\":{},\"id\":\"1704\",\"type\":\"Selection\"},{\"attributes\":{\"bottom\":{\"field\":\"bottom\"},\"fill_alpha\":{\"value\":0.2},\"fill_color\":{\"value\":null},\"hatch_alpha\":{\"value\":0.2},\"line_alpha\":{\"value\":0.2},\"top\":{\"field\":\"top\"},\"width\":{\"value\":0.7},\"x\":{\"field\":\"index\"}},\"id\":\"1664\",\"type\":\"VBar\"},{\"attributes\":{\"coordinates\":null,\"data_source\":{\"id\":\"1620\"},\"glyph\":{\"id\":\"1622\"},\"group\":null,\"hover_glyph\":null,\"muted_glyph\":{\"id\":\"1624\"},\"nonselection_glyph\":{\"id\":\"1623\"},\"selection_glyph\":{\"id\":\"1627\"},\"view\":{\"id\":\"1626\"}},\"id\":\"1625\",\"type\":\"GlyphRenderer\"},{\"attributes\":{\"data\":{\"x0\":[[\"1\",-0.2],[\"2\",-0.2],[\"3\",-0.2],[\"4\",-0.2],[\"5\",-0.2],[\"6\",-0.2],[\"7\",-0.2],[\"8\",-0.2],[\"9\",-0.2],[\"10\",-0.2],[\"11\",-0.2],[\"12\",-0.2],[\"13\",-0.2],[\"14\",-0.2],[\"15\",-0.2],[\"16\",-0.2],[\"17\",-0.2],[\"18\",-0.2],[\"19\",-0.2],[\"20\",-0.2],[\"21\",-0.2],[\"22\",-0.2],[\"23\",-0.2],[\"24\",-0.2],[\"25\",-0.2],[\"26\",-0.2],[\"27\",-0.2],[\"28\",-0.2],[\"29\",-0.2],[\"30\",-0.2],[\"31\",-0.2]],\"x1\":[[\"1\",0.2],[\"2\",0.2],[\"3\",0.2],[\"4\",0.2],[\"5\",0.2],[\"6\",0.2],[\"7\",0.2],[\"8\",0.2],[\"9\",0.2],[\"10\",0.2],[\"11\",0.2],[\"12\",0.2],[\"13\",0.2],[\"14\",0.2],[\"15\",0.2],[\"16\",0.2],[\"17\",0.2],[\"18\",0.2],[\"19\",0.2],[\"20\",0.2],[\"21\",0.2],[\"22\",0.2],[\"23\",0.2],[\"24\",0.2],[\"25\",0.2],[\"26\",0.2],[\"27\",0.2],[\"28\",0.2],[\"29\",0.2],[\"30\",0.2],[\"31\",0.2]],\"y0\":[4084,3866,4318,5235,3623,3780,4079,4055,5045,4660,5282,3216,3994,4064,4201,4156,3714,3801,4185,5306,4513,4656,4319,3928,4257,4208,6312,4810,4621,4258,3092],\"y1\":[4084,3866,4318,5235,3623,3780,4079,4055,5045,4660,5282,3216,3994,4064,4201,4156,3714,3801,4185,5306,4513,4656,4319,3928,4257,4208,6312,4810,4621,4258,3092]},\"selected\":{\"id\":\"1710\"},\"selection_policy\":{\"id\":\"1709\"}},\"id\":\"1652\",\"type\":\"ColumnDataSource\"},{\"attributes\":{\"line_alpha\":0.1,\"line_color\":\"#30a2da\",\"line_width\":2,\"x\":{\"field\":\"dia_mes\"},\"y\":{\"field\":\"users\"}},\"id\":\"1680\",\"type\":\"Line\"},{\"attributes\":{\"below\":[{\"id\":\"1594\"}],\"center\":[{\"id\":\"1596\"},{\"id\":\"1600\"}],\"height\":300,\"left\":[{\"id\":\"1597\"}],\"margin\":[5,5,5,5],\"min_border_bottom\":10,\"min_border_left\":10,\"min_border_right\":10,\"min_border_top\":10,\"renderers\":[{\"id\":\"1625\"},{\"id\":\"1633\"},{\"id\":\"1641\"},{\"id\":\"1649\"},{\"id\":\"1657\"},{\"id\":\"1665\"},{\"id\":\"1673\"},{\"id\":\"1682\"},{\"id\":\"1691\"}],\"sizing_mode\":\"fixed\",\"title\":{\"id\":\"1586\"},\"toolbar\":{\"id\":\"1607\"},\"x_range\":{\"id\":\"1581\"},\"x_scale\":{\"id\":\"1590\"},\"y_range\":{\"id\":\"1582\"},\"y_scale\":{\"id\":\"1592\"}},\"id\":\"1585\",\"subtype\":\"Figure\",\"type\":\"Plot\"},{\"attributes\":{\"data\":{\"x0\":[\"1\",\"2\",\"3\",\"4\",\"5\",\"6\",\"7\",\"8\",\"9\",\"10\",\"11\",\"12\",\"13\",\"14\",\"15\",\"16\",\"17\",\"18\",\"19\",\"20\",\"21\",\"22\",\"23\",\"24\",\"25\",\"26\",\"27\",\"28\",\"29\",\"30\",\"31\"],\"x1\":[\"1\",\"2\",\"3\",\"4\",\"5\",\"6\",\"7\",\"8\",\"9\",\"10\",\"11\",\"12\",\"13\",\"14\",\"15\",\"16\",\"17\",\"18\",\"19\",\"20\",\"21\",\"22\",\"23\",\"24\",\"25\",\"26\",\"27\",\"28\",\"29\",\"30\",\"31\"],\"y0\":[4084,3866,4318,5235,3623,3780,4079,4055,5045,4660,5282,3216,3994,4064,4201,4156,3714,3801,4185,5306,4513,4656,4319,3928,4257,4208,6312,4810,4621,4258,3092],\"y1\":{\"__ndarray__\":\"AAAAAIB1p0AAAAAAADCpQAAAAAAAeKtAAAAAAACcqkAAAAAAAO6oQAAAAAAAGqdAAAAAAACKq0AAAAAAgGOoQAAAAAAA3apAAAAAAACeqUAAAAAAAJSrQAAAAACAF6dAAAAAAIBNqEAAAAAAAKerQAAAAAAAi6lAAAAAAIAsq0AAAAAAgNWoQAAAAAAAwadAAAAAAICvqkAAAAAAAGKqQAAAAAAASqtAAAAAAICeq0AAAAAAgKarQAAAAAAA4KhAAAAAAICkqEAAAAAAAAKsQAAAAAAAbK9AAAAAAADUrEAAAAAAgBCsQAAAAAAAsqpAAAAAAIABo0A=\",\"dtype\":\"float64\",\"order\":\"little\",\"shape\":[31]}},\"selected\":{\"id\":\"1704\"},\"selection_policy\":{\"id\":\"1703\"}},\"id\":\"1628\",\"type\":\"ColumnDataSource\"},{\"attributes\":{\"source\":{\"id\":\"1660\"}},\"id\":\"1666\",\"type\":\"CDSView\"},{\"attributes\":{\"bottom\":{\"field\":\"bottom\"},\"fill_alpha\":{\"value\":0.1},\"fill_color\":{\"value\":null},\"hatch_alpha\":{\"value\":0.1},\"line_alpha\":{\"value\":0.1},\"top\":{\"field\":\"top\"},\"width\":{\"value\":0.7},\"x\":{\"field\":\"index\"}},\"id\":\"1671\",\"type\":\"VBar\"},{\"attributes\":{\"fill_color\":{\"value\":null},\"x\":{\"field\":\"index\"},\"y\":{\"field\":\"users\"}},\"id\":\"1622\",\"type\":\"Circle\"},{\"attributes\":{\"bottom\":{\"field\":\"bottom\"},\"fill_alpha\":{\"value\":1.0},\"fill_color\":{\"value\":null},\"hatch_alpha\":{\"value\":1.0},\"hatch_color\":{\"value\":\"black\"},\"hatch_scale\":{\"value\":12.0},\"hatch_weight\":{\"value\":1.0},\"line_alpha\":{\"value\":1.0},\"line_cap\":{\"value\":\"butt\"},\"line_color\":{\"value\":\"black\"},\"line_dash\":{\"value\":[]},\"line_dash_offset\":{\"value\":0},\"line_join\":{\"value\":\"bevel\"},\"line_width\":{\"value\":1},\"top\":{\"field\":\"top\"},\"width\":{\"value\":0.7},\"x\":{\"field\":\"index\"}},\"id\":\"1675\",\"type\":\"VBar\"},{\"attributes\":{\"end\":7474.4,\"reset_end\":7474.4,\"reset_start\":-534.4000000000001,\"start\":-534.4000000000001,\"tags\":[[[\"users\",\"users\",null]]]},\"id\":\"1582\",\"type\":\"Range1d\"},{\"attributes\":{\"line_color\":\"#30a2da\",\"line_width\":2,\"x\":{\"field\":\"dia_mes\"},\"y\":{\"field\":\"users\"}},\"id\":\"1684\",\"type\":\"Line\"},{\"attributes\":{\"line_alpha\":{\"value\":0.2},\"x0\":{\"field\":\"x0\"},\"x1\":{\"field\":\"x1\"},\"y0\":{\"field\":\"y0\"},\"y1\":{\"field\":\"y1\"}},\"id\":\"1632\",\"type\":\"Segment\"},{\"attributes\":{\"tools\":[{\"id\":\"1583\"},{\"id\":\"1601\"},{\"id\":\"1602\"},{\"id\":\"1603\"},{\"id\":\"1604\"},{\"id\":\"1605\"}]},\"id\":\"1607\",\"type\":\"Toolbar\"},{\"attributes\":{\"factors\":[\"1\",\"2\",\"3\",\"4\",\"5\",\"6\",\"7\",\"8\",\"9\",\"10\",\"11\",\"12\",\"13\",\"14\",\"15\",\"16\",\"17\",\"18\",\"19\",\"20\",\"21\",\"22\",\"23\",\"24\",\"25\",\"26\",\"27\",\"28\",\"29\",\"30\",\"31\"],\"tags\":[[[\"dia_mes\",\"dia_mes\",null]]]},\"id\":\"1581\",\"type\":\"FactorRange\"},{\"attributes\":{\"line_alpha\":{\"value\":1.0},\"line_cap\":{\"value\":\"butt\"},\"line_color\":{\"value\":\"black\"},\"line_dash\":{\"value\":[]},\"line_dash_offset\":{\"value\":0},\"line_join\":{\"value\":\"bevel\"},\"line_width\":{\"value\":1},\"x0\":{\"field\":\"x0\"},\"x1\":{\"field\":\"x1\"},\"y0\":{\"field\":\"y0\"},\"y1\":{\"field\":\"y1\"}},\"id\":\"1659\",\"type\":\"Segment\"}],\"root_ids\":[\"1579\"]},\"title\":\"Bokeh Application\",\"version\":\"2.4.3\"}};\n",
       "    var render_items = [{\"docid\":\"18b26692-f22d-43c2-bf16-91c581366e0e\",\"root_ids\":[\"1579\"],\"roots\":{\"1579\":\"e754a39a-f55b-4fe2-a9b6-f378111cc03e\"}}];\n",
       "    root.Bokeh.embed.embed_items_notebook(docs_json, render_items);\n",
       "  }\n",
       "  if (root.Bokeh !== undefined && root.Bokeh.Panel !== undefined) {\n",
       "    embed_document(root);\n",
       "  } else {\n",
       "    var attempts = 0;\n",
       "    var timer = setInterval(function(root) {\n",
       "      if (root.Bokeh !== undefined && root.Bokeh.Panel !== undefined) {\n",
       "        clearInterval(timer);\n",
       "        embed_document(root);\n",
       "      } else if (document.readyState == \"complete\") {\n",
       "        attempts++;\n",
       "        if (attempts > 200) {\n",
       "          clearInterval(timer);\n",
       "          console.log(\"Bokeh: ERROR: Unable to run BokehJS code because BokehJS library is missing\");\n",
       "        }\n",
       "      }\n",
       "    }, 25, root)\n",
       "  }\n",
       "})(window);</script>"
      ],
      "text/plain": [
       ":Overlay\n",
       "   .BoxWhisker.I  :BoxWhisker   [dia_mes]   (users)\n",
       "   .Curve.Users   :Curve   [dia_mes]   (users)\n",
       "   .Scatter.Users :Scatter   [dia_mes]   (users)"
      ]
     },
     "execution_count": 9,
     "metadata": {
      "application/vnd.holoviews_exec.v0+json": {
       "id": "1579"
      }
     },
     "output_type": "execute_result"
    }
   ],
   "source": [
    "# Gráfico boxplot para estacionalidad mensual\n",
    "# ==============================================================================\n",
    "# fig, ax = plt.subplots(figsize=(9, 3.5))\n",
    "# datos['dia_mes'] = pd.Series(datos.index).dt.day.values\n",
    "# datos.boxplot(column='users', by='dia_mes', ax=ax,)\n",
    "# datos.groupby('dia_mes')['users'].median().plot(style='o-', linewidth=0.8, ax=ax)\n",
    "# ax.set_ylabel('users')\n",
    "# ax.set_title('Distribución de visitas por día del mes')\n",
    "# fig.suptitle('');\n",
    "\n",
    "datos['dia_mes'] = pd.Series(datos.index).dt.day.values\n",
    "boxplot = datos.hvplot.box(\n",
    "              y                  = 'users',\n",
    "              by                 = 'dia_mes',\n",
    "              legend             = False,\n",
    "              box_fill_color     = None,\n",
    "              outlier_fill_color = None\n",
    "          )\n",
    "lineplot = datos.groupby('dia_mes')['users'].median().hvplot.line(legend=False)\n",
    "scatterplot = datos.groupby('dia_mes')['users'].median().hvplot.scatter(legend=False)\n",
    "layout = boxplot * lineplot * scatterplot\n",
    "layout = layout.opts(title='Distribución de visitas por día del mes', ylabel='users', width=600)\n",
    "layout"
   ]
  },
  {
   "cell_type": "code",
   "execution_count": 10,
   "metadata": {},
   "outputs": [
    {
     "data": {},
     "metadata": {},
     "output_type": "display_data"
    },
    {
     "data": {
      "application/vnd.holoviews_exec.v0+json": "",
      "text/html": [
       "<div id='1852'>\n",
       "  <div class=\"bk-root\" id=\"a8c41fdf-06f8-4b37-911f-76dead90b723\" data-root-id=\"1852\"></div>\n",
       "</div>\n",
       "<script type=\"application/javascript\">(function(root) {\n",
       "  function embed_document(root) {\n",
       "    var docs_json = {\"97447005-5e2e-4e50-992e-187f4fa54ab8\":{\"defs\":[{\"extends\":null,\"module\":null,\"name\":\"ReactiveHTML1\",\"overrides\":[],\"properties\":[]},{\"extends\":null,\"module\":null,\"name\":\"FlexBox1\",\"overrides\":[],\"properties\":[{\"default\":\"flex-start\",\"kind\":null,\"name\":\"align_content\"},{\"default\":\"flex-start\",\"kind\":null,\"name\":\"align_items\"},{\"default\":\"row\",\"kind\":null,\"name\":\"flex_direction\"},{\"default\":\"wrap\",\"kind\":null,\"name\":\"flex_wrap\"},{\"default\":\"flex-start\",\"kind\":null,\"name\":\"justify_content\"}]},{\"extends\":null,\"module\":null,\"name\":\"GridStack1\",\"overrides\":[],\"properties\":[{\"default\":\"warn\",\"kind\":null,\"name\":\"mode\"},{\"default\":null,\"kind\":null,\"name\":\"ncols\"},{\"default\":null,\"kind\":null,\"name\":\"nrows\"},{\"default\":true,\"kind\":null,\"name\":\"allow_resize\"},{\"default\":true,\"kind\":null,\"name\":\"allow_drag\"},{\"default\":[],\"kind\":null,\"name\":\"state\"}]},{\"extends\":null,\"module\":null,\"name\":\"click1\",\"overrides\":[],\"properties\":[{\"default\":\"\",\"kind\":null,\"name\":\"terminal_output\"},{\"default\":\"\",\"kind\":null,\"name\":\"debug_name\"},{\"default\":0,\"kind\":null,\"name\":\"clears\"}]},{\"extends\":null,\"module\":null,\"name\":\"NotificationAreaBase1\",\"overrides\":[],\"properties\":[{\"default\":\"bottom-right\",\"kind\":null,\"name\":\"position\"},{\"default\":0,\"kind\":null,\"name\":\"_clear\"}]},{\"extends\":null,\"module\":null,\"name\":\"NotificationArea1\",\"overrides\":[],\"properties\":[{\"default\":[],\"kind\":null,\"name\":\"notifications\"},{\"default\":\"bottom-right\",\"kind\":null,\"name\":\"position\"},{\"default\":0,\"kind\":null,\"name\":\"_clear\"},{\"default\":[{\"background\":\"#ffc107\",\"icon\":{\"className\":\"fas fa-exclamation-triangle\",\"color\":\"white\",\"tagName\":\"i\"},\"type\":\"warning\"},{\"background\":\"#007bff\",\"icon\":{\"className\":\"fas fa-info-circle\",\"color\":\"white\",\"tagName\":\"i\"},\"type\":\"info\"}],\"kind\":null,\"name\":\"types\"}]},{\"extends\":null,\"module\":null,\"name\":\"Notification\",\"overrides\":[],\"properties\":[{\"default\":null,\"kind\":null,\"name\":\"background\"},{\"default\":3000,\"kind\":null,\"name\":\"duration\"},{\"default\":null,\"kind\":null,\"name\":\"icon\"},{\"default\":\"\",\"kind\":null,\"name\":\"message\"},{\"default\":null,\"kind\":null,\"name\":\"notification_type\"},{\"default\":false,\"kind\":null,\"name\":\"_destroyed\"}]},{\"extends\":null,\"module\":null,\"name\":\"TemplateActions1\",\"overrides\":[],\"properties\":[{\"default\":0,\"kind\":null,\"name\":\"open_modal\"},{\"default\":0,\"kind\":null,\"name\":\"close_modal\"}]},{\"extends\":null,\"module\":null,\"name\":\"MaterialTemplateActions1\",\"overrides\":[],\"properties\":[{\"default\":0,\"kind\":null,\"name\":\"open_modal\"},{\"default\":0,\"kind\":null,\"name\":\"close_modal\"}]}],\"roots\":{\"references\":[{\"attributes\":{\"data\":{\"x0\":[\"1\",\"2\",\"3\",\"4\",\"5\",\"6\",\"7\"],\"x1\":[\"1\",\"2\",\"3\",\"4\",\"5\",\"6\",\"7\"],\"y0\":[5045,5265,5668,5565,5306,3861,3579],\"y1\":{\"__ndarray__\":\"AAAAAADjqkAAAAAAAJ2tQAAAAAAAGK5AAAAAAABxrUAAAAAAAEarQAAAAACAd6RAAAAAAIBPokA=\",\"dtype\":\"float64\",\"order\":\"little\",\"shape\":[7]}},\"selected\":{\"id\":\"1977\"},\"selection_policy\":{\"id\":\"1976\"}},\"id\":\"1901\",\"type\":\"ColumnDataSource\"},{\"attributes\":{\"line_alpha\":0.1,\"line_color\":\"#30a2da\",\"line_width\":2,\"x\":{\"field\":\"dia_semana\"},\"y\":{\"field\":\"users\"}},\"id\":\"1953\",\"type\":\"Line\"},{\"attributes\":{},\"id\":\"1981\",\"type\":\"Selection\"},{\"attributes\":{},\"id\":\"1889\",\"type\":\"AllLabels\"},{\"attributes\":{\"data\":{\"bottom\":{\"__ndarray__\":\"AAAAAABVpEAAAAAAALmmQAAAAAAAQKdAAAAAAABrpkAAAAAAAH2lQAAAAAAAhp9AAAAAAAB6m0A=\",\"dtype\":\"float64\",\"order\":\"little\",\"shape\":[7]},\"index\":[\"1\",\"2\",\"3\",\"4\",\"5\",\"6\",\"7\"],\"top\":{\"__ndarray__\":\"AAAAAAAhoUAAAAAAgNmhQAAAAAAANKJAAAAAAABHokAAAAAAgA6hQAAAAAAAAZpAAAAAAABnlkA=\",\"dtype\":\"float64\",\"order\":\"little\",\"shape\":[7]}},\"selected\":{\"id\":\"1987\"},\"selection_policy\":{\"id\":\"1986\"}},\"id\":\"1941\",\"type\":\"ColumnDataSource\"},{\"attributes\":{\"line_alpha\":0.2,\"line_color\":\"#30a2da\",\"line_width\":2,\"x\":{\"field\":\"dia_semana\"},\"y\":{\"field\":\"users\"}},\"id\":\"1954\",\"type\":\"Line\"},{\"attributes\":{\"bottom\":{\"field\":\"bottom\"},\"fill_color\":{\"value\":null},\"top\":{\"field\":\"top\"},\"width\":{\"value\":0.7},\"x\":{\"field\":\"index\"}},\"id\":\"1935\",\"type\":\"VBar\"},{\"attributes\":{},\"id\":\"1891\",\"type\":\"BasicTickFormatter\"},{\"attributes\":{\"line_alpha\":{\"value\":1.0},\"line_cap\":{\"value\":\"butt\"},\"line_color\":{\"value\":\"black\"},\"line_dash\":{\"value\":[]},\"line_dash_offset\":{\"value\":0},\"line_join\":{\"value\":\"bevel\"},\"line_width\":{\"value\":1},\"x0\":{\"field\":\"x0\"},\"x1\":{\"field\":\"x1\"},\"y0\":{\"field\":\"y0\"},\"y1\":{\"field\":\"y1\"}},\"id\":\"1924\",\"type\":\"Segment\"},{\"attributes\":{\"fill_color\":{\"value\":null},\"x\":{\"field\":\"index\"},\"y\":{\"field\":\"users\"}},\"id\":\"1895\",\"type\":\"Circle\"},{\"attributes\":{},\"id\":\"1892\",\"type\":\"AllLabels\"},{\"attributes\":{\"coordinates\":null,\"data_source\":{\"id\":\"1949\"},\"glyph\":{\"id\":\"1952\"},\"group\":null,\"hover_glyph\":null,\"muted_glyph\":{\"id\":\"1954\"},\"nonselection_glyph\":{\"id\":\"1953\"},\"selection_glyph\":{\"id\":\"1957\"},\"view\":{\"id\":\"1956\"}},\"id\":\"1955\",\"type\":\"GlyphRenderer\"},{\"attributes\":{\"source\":{\"id\":\"1949\"}},\"id\":\"1956\",\"type\":\"CDSView\"},{\"attributes\":{\"coordinates\":null,\"group\":null,\"text\":\"Distribuci\\u00f3n de visitas por d\\u00eda de la semana\",\"text_color\":\"black\",\"text_font_size\":\"12pt\"},\"id\":\"1859\",\"type\":\"Title\"},{\"attributes\":{},\"id\":\"1982\",\"type\":\"UnionRenderers\"},{\"attributes\":{\"coordinates\":null,\"data_source\":{\"id\":\"1893\"},\"glyph\":{\"id\":\"1895\"},\"group\":null,\"hover_glyph\":null,\"muted_glyph\":{\"id\":\"1897\"},\"nonselection_glyph\":{\"id\":\"1896\"},\"selection_glyph\":{\"id\":\"1900\"},\"view\":{\"id\":\"1899\"}},\"id\":\"1898\",\"type\":\"GlyphRenderer\"},{\"attributes\":{\"x0\":{\"field\":\"x0\"},\"x1\":{\"field\":\"x1\"},\"y0\":{\"field\":\"y0\"},\"y1\":{\"field\":\"y1\"}},\"id\":\"1927\",\"type\":\"Segment\"},{\"attributes\":{},\"id\":\"1983\",\"type\":\"Selection\"},{\"attributes\":{\"end\":7474.4,\"reset_end\":7474.4,\"reset_start\":-534.4000000000001,\"start\":-534.4000000000001,\"tags\":[[[\"users\",\"users\",null]]]},\"id\":\"1855\",\"type\":\"Range1d\"},{\"attributes\":{\"line_color\":\"#30a2da\",\"line_width\":2,\"x\":{\"field\":\"dia_semana\"},\"y\":{\"field\":\"users\"}},\"id\":\"1957\",\"type\":\"Line\"},{\"attributes\":{\"line_alpha\":{\"value\":0.2},\"x0\":{\"field\":\"x0\"},\"x1\":{\"field\":\"x1\"},\"y0\":{\"field\":\"y0\"},\"y1\":{\"field\":\"y1\"}},\"id\":\"1921\",\"type\":\"Segment\"},{\"attributes\":{\"callback\":null,\"renderers\":[{\"id\":\"1955\"},{\"id\":\"1964\"}],\"tags\":[\"hv_created\"],\"tooltips\":[[\"dia_semana\",\"@{dia_semana}\"],[\"users\",\"@{users}\"]]},\"id\":\"1856\",\"type\":\"HoverTool\"},{\"attributes\":{\"fill_alpha\":{\"value\":0.2},\"fill_color\":{\"value\":null},\"hatch_alpha\":{\"value\":0.2},\"line_alpha\":{\"value\":0.2},\"x\":{\"field\":\"index\"},\"y\":{\"field\":\"users\"}},\"id\":\"1897\",\"type\":\"Circle\"},{\"attributes\":{},\"id\":\"1863\",\"type\":\"CategoricalScale\"},{\"attributes\":{\"line_alpha\":{\"value\":0.1},\"x0\":{\"field\":\"x0\"},\"x1\":{\"field\":\"x1\"},\"y0\":{\"field\":\"y0\"},\"y1\":{\"field\":\"y1\"}},\"id\":\"1904\",\"type\":\"Segment\"},{\"attributes\":{\"factors\":[\"1\",\"2\",\"3\",\"4\",\"5\",\"6\",\"7\"],\"tags\":[[[\"dia_semana\",\"dia_semana\",null]]]},\"id\":\"1854\",\"type\":\"FactorRange\"},{\"attributes\":{},\"id\":\"1984\",\"type\":\"UnionRenderers\"},{\"attributes\":{\"coordinates\":null,\"data_source\":{\"id\":\"1909\"},\"glyph\":{\"id\":\"1911\"},\"group\":null,\"hover_glyph\":null,\"muted_glyph\":{\"id\":\"1913\"},\"nonselection_glyph\":{\"id\":\"1912\"},\"selection_glyph\":{\"id\":\"1916\"},\"view\":{\"id\":\"1915\"}},\"id\":\"1914\",\"type\":\"GlyphRenderer\"},{\"attributes\":{\"coordinates\":null,\"data_source\":{\"id\":\"1958\"},\"glyph\":{\"id\":\"1961\"},\"group\":null,\"hover_glyph\":null,\"muted_glyph\":{\"id\":\"1963\"},\"nonselection_glyph\":{\"id\":\"1962\"},\"selection_glyph\":{\"id\":\"1966\"},\"view\":{\"id\":\"1965\"}},\"id\":\"1964\",\"type\":\"GlyphRenderer\"},{\"attributes\":{\"fill_alpha\":{\"value\":0.1},\"fill_color\":{\"value\":\"#30a2da\"},\"hatch_alpha\":{\"value\":0.1},\"hatch_color\":{\"value\":\"#30a2da\"},\"line_alpha\":{\"value\":0.1},\"line_color\":{\"value\":\"#30a2da\"},\"size\":{\"value\":5.477225575051661},\"x\":{\"field\":\"dia_semana\"},\"y\":{\"field\":\"users\"}},\"id\":\"1962\",\"type\":\"Scatter\"},{\"attributes\":{},\"id\":\"1985\",\"type\":\"Selection\"},{\"attributes\":{\"coordinates\":null,\"data_source\":{\"id\":\"1917\"},\"glyph\":{\"id\":\"1919\"},\"group\":null,\"hover_glyph\":null,\"muted_glyph\":{\"id\":\"1921\"},\"nonselection_glyph\":{\"id\":\"1920\"},\"selection_glyph\":{\"id\":\"1924\"},\"view\":{\"id\":\"1923\"}},\"id\":\"1922\",\"type\":\"GlyphRenderer\"},{\"attributes\":{\"data\":{\"dia_semana\":[\"1\",\"2\",\"3\",\"4\",\"5\",\"6\",\"7\"],\"users\":{\"__ndarray__\":\"AAAAAABVpEAAAAAAALmmQAAAAAAAQKdAAAAAAABrpkAAAAAAAH2lQAAAAAAAhp9AAAAAAAB6m0A=\",\"dtype\":\"float64\",\"order\":\"little\",\"shape\":[7]}},\"selected\":{\"id\":\"1950\"},\"selection_policy\":{\"id\":\"1988\"}},\"id\":\"1949\",\"type\":\"ColumnDataSource\"},{\"attributes\":{},\"id\":\"1959\",\"type\":\"Selection\"},{\"attributes\":{\"source\":{\"id\":\"1933\"}},\"id\":\"1939\",\"type\":\"CDSView\"},{\"attributes\":{\"fill_color\":{\"value\":\"#30a2da\"},\"hatch_color\":{\"value\":\"#30a2da\"},\"line_color\":{\"value\":\"#30a2da\"},\"size\":{\"value\":5.477225575051661},\"x\":{\"field\":\"dia_semana\"},\"y\":{\"field\":\"users\"}},\"id\":\"1961\",\"type\":\"Scatter\"},{\"attributes\":{},\"id\":\"1974\",\"type\":\"UnionRenderers\"},{\"attributes\":{\"bottom\":{\"field\":\"bottom\"},\"fill_alpha\":{\"value\":0.1},\"fill_color\":{\"value\":null},\"hatch_alpha\":{\"value\":0.1},\"line_alpha\":{\"value\":0.1},\"top\":{\"field\":\"top\"},\"width\":{\"value\":0.7},\"x\":{\"field\":\"index\"}},\"id\":\"1944\",\"type\":\"VBar\"},{\"attributes\":{\"coordinates\":null,\"data_source\":{\"id\":\"1901\"},\"glyph\":{\"id\":\"1903\"},\"group\":null,\"hover_glyph\":null,\"muted_glyph\":{\"id\":\"1905\"},\"nonselection_glyph\":{\"id\":\"1904\"},\"selection_glyph\":{\"id\":\"1908\"},\"view\":{\"id\":\"1907\"}},\"id\":\"1906\",\"type\":\"GlyphRenderer\"},{\"attributes\":{\"source\":{\"id\":\"1958\"}},\"id\":\"1965\",\"type\":\"CDSView\"},{\"attributes\":{\"below\":[{\"id\":\"1867\"}],\"center\":[{\"id\":\"1869\"},{\"id\":\"1873\"}],\"height\":300,\"left\":[{\"id\":\"1870\"}],\"margin\":[5,5,5,5],\"min_border_bottom\":10,\"min_border_left\":10,\"min_border_right\":10,\"min_border_top\":10,\"renderers\":[{\"id\":\"1898\"},{\"id\":\"1906\"},{\"id\":\"1914\"},{\"id\":\"1922\"},{\"id\":\"1930\"},{\"id\":\"1938\"},{\"id\":\"1946\"},{\"id\":\"1955\"},{\"id\":\"1964\"}],\"sizing_mode\":\"fixed\",\"title\":{\"id\":\"1859\"},\"toolbar\":{\"id\":\"1880\"},\"x_range\":{\"id\":\"1854\"},\"x_scale\":{\"id\":\"1863\"},\"y_range\":{\"id\":\"1855\"},\"y_scale\":{\"id\":\"1865\"}},\"id\":\"1858\",\"subtype\":\"Figure\",\"type\":\"Plot\"},{\"attributes\":{\"fill_alpha\":{\"value\":0.2},\"fill_color\":{\"value\":\"#30a2da\"},\"hatch_alpha\":{\"value\":0.2},\"hatch_color\":{\"value\":\"#30a2da\"},\"line_alpha\":{\"value\":0.2},\"line_color\":{\"value\":\"#30a2da\"},\"size\":{\"value\":5.477225575051661},\"x\":{\"field\":\"dia_semana\"},\"y\":{\"field\":\"users\"}},\"id\":\"1963\",\"type\":\"Scatter\"},{\"attributes\":{},\"id\":\"1975\",\"type\":\"Selection\"},{\"attributes\":{\"data\":{\"x0\":[[\"1\",-0.2],[\"2\",-0.2],[\"3\",-0.2],[\"4\",-0.2],[\"5\",-0.2],[\"6\",-0.2],[\"7\",-0.2]],\"x1\":[[\"1\",0.2],[\"2\",0.2],[\"3\",0.2],[\"4\",0.2],[\"5\",0.2],[\"6\",0.2],[\"7\",0.2]],\"y0\":[1432,1390,1278,785,472,863,133],\"y1\":[1432,1390,1278,785,472,863,133]},\"selected\":{\"id\":\"1981\"},\"selection_policy\":{\"id\":\"1980\"}},\"id\":\"1917\",\"type\":\"ColumnDataSource\"},{\"attributes\":{\"data\":{\"dia_semana\":[\"1\",\"2\",\"3\",\"4\",\"5\",\"6\",\"7\"],\"users\":{\"__ndarray__\":\"AAAAAABVpEAAAAAAALmmQAAAAAAAQKdAAAAAAABrpkAAAAAAAH2lQAAAAAAAhp9AAAAAAAB6m0A=\",\"dtype\":\"float64\",\"order\":\"little\",\"shape\":[7]}},\"selected\":{\"id\":\"1959\"},\"selection_policy\":{\"id\":\"1990\"}},\"id\":\"1958\",\"type\":\"ColumnDataSource\"},{\"attributes\":{\"axis\":{\"id\":\"1867\"},\"coordinates\":null,\"grid_line_color\":null,\"group\":null,\"ticker\":null},\"id\":\"1869\",\"type\":\"Grid\"},{\"attributes\":{\"angle\":{\"value\":0.0},\"fill_alpha\":{\"value\":1.0},\"fill_color\":{\"value\":\"#30a2da\"},\"hatch_alpha\":{\"value\":1.0},\"hatch_color\":{\"value\":\"#30a2da\"},\"hatch_scale\":{\"value\":12.0},\"hatch_weight\":{\"value\":1.0},\"line_alpha\":{\"value\":1.0},\"line_cap\":{\"value\":\"butt\"},\"line_color\":{\"value\":\"#30a2da\"},\"line_dash\":{\"value\":[]},\"line_dash_offset\":{\"value\":0},\"line_join\":{\"value\":\"bevel\"},\"line_width\":{\"value\":1},\"marker\":{\"value\":\"circle\"},\"size\":{\"value\":5.477225575051661},\"x\":{\"field\":\"dia_semana\"},\"y\":{\"field\":\"users\"}},\"id\":\"1966\",\"type\":\"Scatter\"},{\"attributes\":{\"line_alpha\":{\"value\":0.2},\"x0\":{\"field\":\"x0\"},\"x1\":{\"field\":\"x1\"},\"y0\":{\"field\":\"y0\"},\"y1\":{\"field\":\"y1\"}},\"id\":\"1929\",\"type\":\"Segment\"},{\"attributes\":{\"fill_alpha\":{\"value\":0.1},\"fill_color\":{\"value\":null},\"hatch_alpha\":{\"value\":0.1},\"line_alpha\":{\"value\":0.1},\"x\":{\"field\":\"index\"},\"y\":{\"field\":\"users\"}},\"id\":\"1896\",\"type\":\"Circle\"},{\"attributes\":{},\"id\":\"1875\",\"type\":\"PanTool\"},{\"attributes\":{\"axis_label\":\"dia_semana\",\"coordinates\":null,\"formatter\":{\"id\":\"1888\"},\"group\":null,\"major_label_policy\":{\"id\":\"1889\"},\"ticker\":{\"id\":\"1868\"}},\"id\":\"1867\",\"type\":\"CategoricalAxis\"},{\"attributes\":{\"x0\":{\"field\":\"x0\"},\"x1\":{\"field\":\"x1\"},\"y0\":{\"field\":\"y0\"},\"y1\":{\"field\":\"y1\"}},\"id\":\"1911\",\"type\":\"Segment\"},{\"attributes\":{},\"id\":\"1868\",\"type\":\"CategoricalTicker\"},{\"attributes\":{},\"id\":\"1865\",\"type\":\"LinearScale\"},{\"attributes\":{\"axis_label\":\"users\",\"coordinates\":null,\"formatter\":{\"id\":\"1891\"},\"group\":null,\"major_label_policy\":{\"id\":\"1892\"},\"ticker\":{\"id\":\"1871\"}},\"id\":\"1870\",\"type\":\"LinearAxis\"},{\"attributes\":{\"angle\":{\"value\":0.0},\"fill_alpha\":{\"value\":1.0},\"fill_color\":{\"value\":null},\"hatch_alpha\":{\"value\":1.0},\"hatch_color\":{\"value\":\"black\"},\"hatch_scale\":{\"value\":12.0},\"hatch_weight\":{\"value\":1.0},\"line_alpha\":{\"value\":1.0},\"line_cap\":{\"value\":\"butt\"},\"line_color\":{\"value\":\"black\"},\"line_dash\":{\"value\":[]},\"line_dash_offset\":{\"value\":0},\"line_join\":{\"value\":\"bevel\"},\"line_width\":{\"value\":1},\"size\":{\"value\":4},\"x\":{\"field\":\"index\"},\"y\":{\"field\":\"users\"}},\"id\":\"1900\",\"type\":\"Circle\"},{\"attributes\":{\"axis\":{\"id\":\"1870\"},\"coordinates\":null,\"dimension\":1,\"grid_line_color\":null,\"group\":null,\"ticker\":null},\"id\":\"1873\",\"type\":\"Grid\"},{\"attributes\":{},\"id\":\"1871\",\"type\":\"BasicTicker\"},{\"attributes\":{},\"id\":\"1986\",\"type\":\"UnionRenderers\"},{\"attributes\":{\"source\":{\"id\":\"1917\"}},\"id\":\"1923\",\"type\":\"CDSView\"},{\"attributes\":{\"source\":{\"id\":\"1893\"}},\"id\":\"1899\",\"type\":\"CDSView\"},{\"attributes\":{},\"id\":\"1876\",\"type\":\"WheelZoomTool\"},{\"attributes\":{\"x0\":{\"field\":\"x0\"},\"x1\":{\"field\":\"x1\"},\"y0\":{\"field\":\"y0\"},\"y1\":{\"field\":\"y1\"}},\"id\":\"1903\",\"type\":\"Segment\"},{\"attributes\":{},\"id\":\"1987\",\"type\":\"Selection\"},{\"attributes\":{\"line_alpha\":{\"value\":0.1},\"x0\":{\"field\":\"x0\"},\"x1\":{\"field\":\"x1\"},\"y0\":{\"field\":\"y0\"},\"y1\":{\"field\":\"y1\"}},\"id\":\"1928\",\"type\":\"Segment\"},{\"attributes\":{},\"id\":\"1874\",\"type\":\"SaveTool\"},{\"attributes\":{},\"id\":\"1976\",\"type\":\"UnionRenderers\"},{\"attributes\":{\"margin\":[5,5,5,5],\"name\":\"HSpacer02720\",\"sizing_mode\":\"stretch_width\"},\"id\":\"1993\",\"type\":\"Spacer\"},{\"attributes\":{\"data\":{\"x0\":[\"1\",\"2\",\"3\",\"4\",\"5\",\"6\",\"7\"],\"x1\":[\"1\",\"2\",\"3\",\"4\",\"5\",\"6\",\"7\"],\"y0\":[1432,1390,1278,785,472,863,133],\"y1\":{\"__ndarray__\":\"AAAAAAAhoUAAAAAAgNmhQAAAAAAANKJAAAAAAABHokAAAAAAgA6hQAAAAAAAAZpAAAAAAABnlkA=\",\"dtype\":\"float64\",\"order\":\"little\",\"shape\":[7]}},\"selected\":{\"id\":\"1979\"},\"selection_policy\":{\"id\":\"1978\"}},\"id\":\"1909\",\"type\":\"ColumnDataSource\"},{\"attributes\":{\"overlay\":{\"id\":\"1879\"}},\"id\":\"1877\",\"type\":\"BoxZoomTool\"},{\"attributes\":{\"coordinates\":null,\"data_source\":{\"id\":\"1941\"},\"glyph\":{\"id\":\"1943\"},\"group\":null,\"hover_glyph\":null,\"muted_glyph\":{\"id\":\"1945\"},\"nonselection_glyph\":{\"id\":\"1944\"},\"selection_glyph\":{\"id\":\"1948\"},\"view\":{\"id\":\"1947\"}},\"id\":\"1946\",\"type\":\"GlyphRenderer\"},{\"attributes\":{\"line_alpha\":{\"value\":0.1},\"x0\":{\"field\":\"x0\"},\"x1\":{\"field\":\"x1\"},\"y0\":{\"field\":\"y0\"},\"y1\":{\"field\":\"y1\"}},\"id\":\"1912\",\"type\":\"Segment\"},{\"attributes\":{},\"id\":\"1878\",\"type\":\"ResetTool\"},{\"attributes\":{\"line_alpha\":{\"value\":0.2},\"x0\":{\"field\":\"x0\"},\"x1\":{\"field\":\"x1\"},\"y0\":{\"field\":\"y0\"},\"y1\":{\"field\":\"y1\"}},\"id\":\"1913\",\"type\":\"Segment\"},{\"attributes\":{\"source\":{\"id\":\"1925\"}},\"id\":\"1931\",\"type\":\"CDSView\"},{\"attributes\":{},\"id\":\"1977\",\"type\":\"Selection\"},{\"attributes\":{\"coordinates\":null,\"data_source\":{\"id\":\"1925\"},\"glyph\":{\"id\":\"1927\"},\"group\":null,\"hover_glyph\":null,\"muted_glyph\":{\"id\":\"1929\"},\"nonselection_glyph\":{\"id\":\"1928\"},\"selection_glyph\":{\"id\":\"1932\"},\"view\":{\"id\":\"1931\"}},\"id\":\"1930\",\"type\":\"GlyphRenderer\"},{\"attributes\":{\"bottom_units\":\"screen\",\"coordinates\":null,\"fill_alpha\":0.5,\"fill_color\":\"lightgrey\",\"group\":null,\"left_units\":\"screen\",\"level\":\"overlay\",\"line_alpha\":1.0,\"line_color\":\"black\",\"line_dash\":[4,4],\"line_width\":2,\"right_units\":\"screen\",\"syncable\":false,\"top_units\":\"screen\"},\"id\":\"1879\",\"type\":\"BoxAnnotation\"},{\"attributes\":{\"line_alpha\":{\"value\":0.2},\"x0\":{\"field\":\"x0\"},\"x1\":{\"field\":\"x1\"},\"y0\":{\"field\":\"y0\"},\"y1\":{\"field\":\"y1\"}},\"id\":\"1905\",\"type\":\"Segment\"},{\"attributes\":{\"line_alpha\":{\"value\":1.0},\"line_cap\":{\"value\":\"butt\"},\"line_color\":{\"value\":\"black\"},\"line_dash\":{\"value\":[]},\"line_dash_offset\":{\"value\":0},\"line_join\":{\"value\":\"bevel\"},\"line_width\":{\"value\":1},\"x0\":{\"field\":\"x0\"},\"x1\":{\"field\":\"x1\"},\"y0\":{\"field\":\"y0\"},\"y1\":{\"field\":\"y1\"}},\"id\":\"1916\",\"type\":\"Segment\"},{\"attributes\":{\"data\":{\"bottom\":{\"__ndarray__\":\"AAAAAADjqkAAAAAAAJ2tQAAAAAAAGK5AAAAAAABxrUAAAAAAAEarQAAAAACAd6RAAAAAAIBPokA=\",\"dtype\":\"float64\",\"order\":\"little\",\"shape\":[7]},\"index\":[\"1\",\"2\",\"3\",\"4\",\"5\",\"6\",\"7\"],\"top\":{\"__ndarray__\":\"AAAAAABVpEAAAAAAALmmQAAAAAAAQKdAAAAAAABrpkAAAAAAAH2lQAAAAAAAhp9AAAAAAAB6m0A=\",\"dtype\":\"float64\",\"order\":\"little\",\"shape\":[7]}},\"selected\":{\"id\":\"1985\"},\"selection_policy\":{\"id\":\"1984\"}},\"id\":\"1933\",\"type\":\"ColumnDataSource\"},{\"attributes\":{\"source\":{\"id\":\"1941\"}},\"id\":\"1947\",\"type\":\"CDSView\"},{\"attributes\":{\"coordinates\":null,\"data_source\":{\"id\":\"1933\"},\"glyph\":{\"id\":\"1935\"},\"group\":null,\"hover_glyph\":null,\"muted_glyph\":{\"id\":\"1937\"},\"nonselection_glyph\":{\"id\":\"1936\"},\"selection_glyph\":{\"id\":\"1940\"},\"view\":{\"id\":\"1939\"}},\"id\":\"1938\",\"type\":\"GlyphRenderer\"},{\"attributes\":{},\"id\":\"1988\",\"type\":\"UnionRenderers\"},{\"attributes\":{\"bottom\":{\"field\":\"bottom\"},\"fill_alpha\":{\"value\":0.2},\"fill_color\":{\"value\":null},\"hatch_alpha\":{\"value\":0.2},\"line_alpha\":{\"value\":0.2},\"top\":{\"field\":\"top\"},\"width\":{\"value\":0.7},\"x\":{\"field\":\"index\"}},\"id\":\"1937\",\"type\":\"VBar\"},{\"attributes\":{\"x0\":{\"field\":\"x0\"},\"x1\":{\"field\":\"x1\"},\"y0\":{\"field\":\"y0\"},\"y1\":{\"field\":\"y1\"}},\"id\":\"1919\",\"type\":\"Segment\"},{\"attributes\":{\"line_alpha\":{\"value\":0.1},\"x0\":{\"field\":\"x0\"},\"x1\":{\"field\":\"x1\"},\"y0\":{\"field\":\"y0\"},\"y1\":{\"field\":\"y1\"}},\"id\":\"1920\",\"type\":\"Segment\"},{\"attributes\":{},\"id\":\"1978\",\"type\":\"UnionRenderers\"},{\"attributes\":{\"line_alpha\":{\"value\":1.0},\"line_cap\":{\"value\":\"butt\"},\"line_color\":{\"value\":\"black\"},\"line_dash\":{\"value\":[]},\"line_dash_offset\":{\"value\":0},\"line_join\":{\"value\":\"bevel\"},\"line_width\":{\"value\":1},\"x0\":{\"field\":\"x0\"},\"x1\":{\"field\":\"x1\"},\"y0\":{\"field\":\"y0\"},\"y1\":{\"field\":\"y1\"}},\"id\":\"1908\",\"type\":\"Segment\"},{\"attributes\":{\"margin\":[5,5,5,5],\"name\":\"HSpacer02719\",\"sizing_mode\":\"stretch_width\"},\"id\":\"1853\",\"type\":\"Spacer\"},{\"attributes\":{\"data\":{\"x0\":[[\"1\",-0.2],[\"2\",-0.2],[\"3\",-0.2],[\"4\",-0.2],[\"5\",-0.2],[\"6\",-0.2],[\"7\",-0.2]],\"x1\":[[\"1\",0.2],[\"2\",0.2],[\"3\",0.2],[\"4\",0.2],[\"5\",0.2],[\"6\",0.2],[\"7\",0.2]],\"y0\":[5045,5265,5668,5565,5306,3861,3579],\"y1\":[5045,5265,5668,5565,5306,3861,3579]},\"selected\":{\"id\":\"1983\"},\"selection_policy\":{\"id\":\"1982\"}},\"id\":\"1925\",\"type\":\"ColumnDataSource\"},{\"attributes\":{\"bottom\":{\"field\":\"bottom\"},\"fill_alpha\":{\"value\":1.0},\"fill_color\":{\"value\":null},\"hatch_alpha\":{\"value\":1.0},\"hatch_color\":{\"value\":\"black\"},\"hatch_scale\":{\"value\":12.0},\"hatch_weight\":{\"value\":1.0},\"line_alpha\":{\"value\":1.0},\"line_cap\":{\"value\":\"butt\"},\"line_color\":{\"value\":\"black\"},\"line_dash\":{\"value\":[]},\"line_dash_offset\":{\"value\":0},\"line_join\":{\"value\":\"bevel\"},\"line_width\":{\"value\":1},\"top\":{\"field\":\"top\"},\"width\":{\"value\":0.7},\"x\":{\"field\":\"index\"}},\"id\":\"1940\",\"type\":\"VBar\"},{\"attributes\":{\"bottom\":{\"field\":\"bottom\"},\"fill_alpha\":{\"value\":0.1},\"fill_color\":{\"value\":null},\"hatch_alpha\":{\"value\":0.1},\"line_alpha\":{\"value\":0.1},\"top\":{\"field\":\"top\"},\"width\":{\"value\":0.7},\"x\":{\"field\":\"index\"}},\"id\":\"1936\",\"type\":\"VBar\"},{\"attributes\":{},\"id\":\"1979\",\"type\":\"Selection\"},{\"attributes\":{\"children\":[{\"id\":\"1853\"},{\"id\":\"1858\"},{\"id\":\"1993\"}],\"margin\":[0,0,0,0],\"name\":\"Row02715\",\"tags\":[\"embedded\"]},\"id\":\"1852\",\"type\":\"Row\"},{\"attributes\":{\"tools\":[{\"id\":\"1856\"},{\"id\":\"1874\"},{\"id\":\"1875\"},{\"id\":\"1876\"},{\"id\":\"1877\"},{\"id\":\"1878\"}]},\"id\":\"1880\",\"type\":\"Toolbar\"},{\"attributes\":{\"source\":{\"id\":\"1901\"}},\"id\":\"1907\",\"type\":\"CDSView\"},{\"attributes\":{},\"id\":\"1950\",\"type\":\"Selection\"},{\"attributes\":{\"source\":{\"id\":\"1909\"}},\"id\":\"1915\",\"type\":\"CDSView\"},{\"attributes\":{\"line_alpha\":{\"value\":1.0},\"line_cap\":{\"value\":\"butt\"},\"line_color\":{\"value\":\"black\"},\"line_dash\":{\"value\":[]},\"line_dash_offset\":{\"value\":0},\"line_join\":{\"value\":\"bevel\"},\"line_width\":{\"value\":1},\"x0\":{\"field\":\"x0\"},\"x1\":{\"field\":\"x1\"},\"y0\":{\"field\":\"y0\"},\"y1\":{\"field\":\"y1\"}},\"id\":\"1932\",\"type\":\"Segment\"},{\"attributes\":{},\"id\":\"1990\",\"type\":\"UnionRenderers\"},{\"attributes\":{\"bottom\":{\"field\":\"bottom\"},\"fill_alpha\":{\"value\":0.2},\"fill_color\":{\"value\":null},\"hatch_alpha\":{\"value\":0.2},\"line_alpha\":{\"value\":0.2},\"top\":{\"field\":\"top\"},\"width\":{\"value\":0.7},\"x\":{\"field\":\"index\"}},\"id\":\"1945\",\"type\":\"VBar\"},{\"attributes\":{\"line_color\":\"#30a2da\",\"line_width\":2,\"x\":{\"field\":\"dia_semana\"},\"y\":{\"field\":\"users\"}},\"id\":\"1952\",\"type\":\"Line\"},{\"attributes\":{\"bottom\":{\"field\":\"bottom\"},\"fill_alpha\":{\"value\":1.0},\"fill_color\":{\"value\":null},\"hatch_alpha\":{\"value\":1.0},\"hatch_color\":{\"value\":\"black\"},\"hatch_scale\":{\"value\":12.0},\"hatch_weight\":{\"value\":1.0},\"line_alpha\":{\"value\":1.0},\"line_cap\":{\"value\":\"butt\"},\"line_color\":{\"value\":\"black\"},\"line_dash\":{\"value\":[]},\"line_dash_offset\":{\"value\":0},\"line_join\":{\"value\":\"bevel\"},\"line_width\":{\"value\":1},\"top\":{\"field\":\"top\"},\"width\":{\"value\":0.7},\"x\":{\"field\":\"index\"}},\"id\":\"1948\",\"type\":\"VBar\"},{\"attributes\":{},\"id\":\"1888\",\"type\":\"CategoricalTickFormatter\"},{\"attributes\":{\"bottom\":{\"field\":\"bottom\"},\"fill_color\":{\"value\":null},\"top\":{\"field\":\"top\"},\"width\":{\"value\":0.7},\"x\":{\"field\":\"index\"}},\"id\":\"1943\",\"type\":\"VBar\"},{\"attributes\":{},\"id\":\"1980\",\"type\":\"UnionRenderers\"},{\"attributes\":{\"data\":{\"index\":[\"1\",\"1\",\"2\",\"2\",\"3\",\"3\",\"4\",\"4\",\"5\",\"6\",\"6\",\"7\"],\"users\":[5828,6117,6807,6298,6774,6587,6587,6671,6312,4073,4810,4110]},\"selected\":{\"id\":\"1975\"},\"selection_policy\":{\"id\":\"1974\"}},\"id\":\"1893\",\"type\":\"ColumnDataSource\"}],\"root_ids\":[\"1852\"]},\"title\":\"Bokeh Application\",\"version\":\"2.4.3\"}};\n",
       "    var render_items = [{\"docid\":\"97447005-5e2e-4e50-992e-187f4fa54ab8\",\"root_ids\":[\"1852\"],\"roots\":{\"1852\":\"a8c41fdf-06f8-4b37-911f-76dead90b723\"}}];\n",
       "    root.Bokeh.embed.embed_items_notebook(docs_json, render_items);\n",
       "  }\n",
       "  if (root.Bokeh !== undefined && root.Bokeh.Panel !== undefined) {\n",
       "    embed_document(root);\n",
       "  } else {\n",
       "    var attempts = 0;\n",
       "    var timer = setInterval(function(root) {\n",
       "      if (root.Bokeh !== undefined && root.Bokeh.Panel !== undefined) {\n",
       "        clearInterval(timer);\n",
       "        embed_document(root);\n",
       "      } else if (document.readyState == \"complete\") {\n",
       "        attempts++;\n",
       "        if (attempts > 200) {\n",
       "          clearInterval(timer);\n",
       "          console.log(\"Bokeh: ERROR: Unable to run BokehJS code because BokehJS library is missing\");\n",
       "        }\n",
       "      }\n",
       "    }, 25, root)\n",
       "  }\n",
       "})(window);</script>"
      ],
      "text/plain": [
       ":Overlay\n",
       "   .BoxWhisker.I  :BoxWhisker   [dia_semana]   (users)\n",
       "   .Curve.Users   :Curve   [dia_semana]   (users)\n",
       "   .Scatter.Users :Scatter   [dia_semana]   (users)"
      ]
     },
     "execution_count": 10,
     "metadata": {
      "application/vnd.holoviews_exec.v0+json": {
       "id": "1852"
      }
     },
     "output_type": "execute_result"
    }
   ],
   "source": [
    "# Gráfico boxplot para estacionalidad semanal\n",
    "# ==============================================================================\n",
    "# fig, ax = plt.subplots(figsize=(7, 3.5))\n",
    "# datos['dia_semana'] = datos.index.day_of_week + 1\n",
    "# datos.boxplot(column='users', by='dia_semana', ax=ax)\n",
    "# datos.groupby('dia_semana')['users'].median().plot(style='o-', linewidth=0.8, ax=ax)\n",
    "# ax.set_ylabel('users')\n",
    "# ax.set_title('Distribución visitas por día de la semana')\n",
    "# fig.suptitle('');\n",
    "\n",
    "datos['dia_semana'] = datos.index.day_of_week + 1\n",
    "boxplot = datos.sort_values('dia_semana').hvplot.box(\n",
    "              y                  = 'users',\n",
    "              by                 = 'dia_semana',\n",
    "              legend             = False,\n",
    "              box_fill_color     = None,\n",
    "              outlier_fill_color = None\n",
    "          )\n",
    "lineplot = datos.groupby('dia_semana')['users'].median().hvplot.line(legend=False)\n",
    "scatterplot = datos.groupby('dia_semana')['users'].median().hvplot.scatter(legend=False)\n",
    "layout = boxplot * lineplot * scatterplot\n",
    "layout = layout.opts(\n",
    "             title  = 'Distribución de visitas por día de la semana',\n",
    "             ylabel = 'users',\n",
    "             width  = 600\n",
    "         )\n",
    "layout"
   ]
  },
  {
   "cell_type": "markdown",
   "metadata": {},
   "source": [
    "Al no disponer de dos años de histórico completos, no se puede determinar si existe una estacionalidad anual. Sí se aprecia una estacionalidad semanal, con una reducción del tráfico web los fines de semana."
   ]
  },
  {
   "cell_type": "markdown",
   "metadata": {},
   "source": [
    "**Gráficos de autocorrelación**"
   ]
  },
  {
   "cell_type": "code",
   "execution_count": 11,
   "metadata": {},
   "outputs": [
    {
     "data": {
      "image/png": "[encoded data removed]",
      "text/plain": [
       "<Figure size 504x216 with 1 Axes>"
      ]
     },
     "metadata": {},
     "output_type": "display_data"
    }
   ],
   "source": [
    "# Gráfico autocorrelación\n",
    "# ==============================================================================\n",
    "fig, ax = plt.subplots(figsize=(7, 3))\n",
    "plot_acf(datos.users, ax=ax, lags=50)\n",
    "plt.show()"
   ]
  },
  {
   "cell_type": "code",
   "execution_count": 12,
   "metadata": {},
   "outputs": [
    {
     "data": {
      "image/png": "[encoded data removed]",
      "text/plain": [
       "<Figure size 504x216 with 1 Axes>"
      ]
     },
     "metadata": {},
     "output_type": "display_data"
    }
   ],
   "source": [
    "# Gráfico autocorrelación parcial\n",
    "# ==============================================================================\n",
    "fig, ax = plt.subplots(figsize=(7, 3))\n",
    "plot_pacf(datos.users, ax=ax, lags=50)\n",
    "plt.show()"
   ]
  },
  {
   "cell_type": "markdown",
   "metadata": {},
   "source": [
    "Los gráficos de autocorrelación y autocorrelación parcial muestran una clara asociación entre el número de usuarios un día y los días anteriores. Este tipo de correlación, es un indicativo de que los modelos autorregresivos pueden funcionar bien.\n",
    "<br><br>"
   ]
  },
  {
   "cell_type": "markdown",
   "metadata": {},
   "source": [
    "## Modelo autoregresivo recursivo\n",
    "<br>\n",
    "\n",
    "Se crea y entrena un modelo autorregresivo recursivo (`ForecasterAutoreg`) a partir de un modelo de [regresión lineal con penalización Ridge](https://www.cienciadedatos.net/documentos/py14-ridge-lasso-elastic-net-python.html) y una ventana temporal de 2 semanas (14 lags). Esto último significa que, para cada predicción, se utilizan como predictores el tráfico que tuvo la página los 14 días anteriores.\n",
    "\n",
    "Los modelos Ridge requieren que los predictores se estandaricen. Con este fin, se utiliza el argumento `transformer_y` para incorporar un `StandarScaler` en el forecaster. Para conocer más sobre el uso dtransformers consultar [Forecasting with scikit-learn and transformers pipelines](https://joaquinamatrodrigo.github.io/skforecast/0.5.0/user_guides/sklearn-transformers-and-pipeline.html)."
   ]
  },
  {
   "cell_type": "markdown",
   "metadata": {},
   "source": [
    "### Entrenamiento del Forecaster"
   ]
  },
  {
   "cell_type": "code",
   "execution_count": 13,
   "metadata": {},
   "outputs": [
    {
     "data": {
      "text/plain": [
       "================= \n",
       "ForecasterAutoreg \n",
       "================= \n",
       "Regressor: Ridge(random_state=123) \n",
       "Lags: [ 1  2  3  4  5  6  7  8  9 10 11 12 13 14] \n",
       "Transformer for y: StandardScaler() \n",
       "Transformer for exog: None \n",
       "Window size: 14 \n",
       "Included exogenous: False \n",
       "Type of exogenous variable: None \n",
       "Exogenous variables names: None \n",
       "Training range: [Timestamp('2020-07-01 00:00:00'), Timestamp('2021-03-30 00:00:00')] \n",
       "Training index type: DatetimeIndex \n",
       "Training index frequency: D \n",
       "Regressor parameters: {'alpha': 1.0, 'copy_X': True, 'fit_intercept': True, 'max_iter': None, 'normalize': 'deprecated', 'positive': False, 'random_state': 123, 'solver': 'auto', 'tol': 0.001} \n",
       "Creation date: 2022-09-30 20:00:19 \n",
       "Last fit date: 2022-09-30 20:00:19 \n",
       "Skforecast version: 0.5.0 \n",
       "Python version: 3.9.13 "
      ]
     },
     "execution_count": 13,
     "metadata": {},
     "output_type": "execute_result"
    }
   ],
   "source": [
    "# Crear y entrenar forecaster\n",
    "# ==============================================================================\n",
    "forecaster = ForecasterAutoreg(\n",
    "                 regressor     = Ridge(random_state=123),\n",
    "                 lags          = 14,\n",
    "                 transformer_y = StandardScaler()\n",
    "             )\n",
    "\n",
    "forecaster.fit(y=datos_train.users)\n",
    "forecaster"
   ]
  },
  {
   "cell_type": "markdown",
   "metadata": {},
   "source": [
    "### Predicción (*backtest*)\n",
    "<br>\n",
    "\n",
    "Se evalúa el comportamiento que habría tenido el modelo si se hubiese entrenado con los datos desde 2020-07-01 al 2021-06-30 y, después, se realizasen predicciones de 7 en 7 días sin reentrenar el modelo. A este tipo de evaluación se le conoce como *backtesting*, y puede aplicarse fácilmente con la función `backtesting_forecaster()`. Esta función devuelve, además de las predicciones, una métrica de error."
   ]
  },
  {
   "cell_type": "code",
   "execution_count": 14,
   "metadata": {},
   "outputs": [
    {
     "name": "stdout",
     "output_type": "stream",
     "text": [
      "Information of backtesting process\n",
      "----------------------------------\n",
      "Number of observations used for initial training: 365\n",
      "Number of observations used for backtesting: 56\n",
      "    Number of folds: 8\n",
      "    Number of steps per fold: 7\n",
      "\n",
      "Data partition in fold: 0\n",
      "    Training:   2020-07-01 00:00:00 -- 2021-06-30 00:00:00  (n=365)\n",
      "    Validation: 2021-07-01 00:00:00 -- 2021-07-07 00:00:00  (n=7)\n",
      "Data partition in fold: 1\n",
      "    Training:   2020-07-01 00:00:00 -- 2021-06-30 00:00:00  (n=365)\n",
      "    Validation: 2021-07-08 00:00:00 -- 2021-07-14 00:00:00  (n=7)\n",
      "Data partition in fold: 2\n",
      "    Training:   2020-07-01 00:00:00 -- 2021-06-30 00:00:00  (n=365)\n",
      "    Validation: 2021-07-15 00:00:00 -- 2021-07-21 00:00:00  (n=7)\n",
      "Data partition in fold: 3\n",
      "    Training:   2020-07-01 00:00:00 -- 2021-06-30 00:00:00  (n=365)\n",
      "    Validation: 2021-07-22 00:00:00 -- 2021-07-28 00:00:00  (n=7)\n",
      "Data partition in fold: 4\n",
      "    Training:   2020-07-01 00:00:00 -- 2021-06-30 00:00:00  (n=365)\n",
      "    Validation: 2021-07-29 00:00:00 -- 2021-08-04 00:00:00  (n=7)\n",
      "Data partition in fold: 5\n",
      "    Training:   2020-07-01 00:00:00 -- 2021-06-30 00:00:00  (n=365)\n",
      "    Validation: 2021-08-05 00:00:00 -- 2021-08-11 00:00:00  (n=7)\n",
      "Data partition in fold: 6\n",
      "    Training:   2020-07-01 00:00:00 -- 2021-06-30 00:00:00  (n=365)\n",
      "    Validation: 2021-08-12 00:00:00 -- 2021-08-18 00:00:00  (n=7)\n",
      "Data partition in fold: 7\n",
      "    Training:   2020-07-01 00:00:00 -- 2021-06-30 00:00:00  (n=365)\n",
      "    Validation: 2021-08-19 00:00:00 -- 2021-08-25 00:00:00  (n=7)\n",
      "\n",
      "Error backtest: 221.01615090909277\n"
     ]
    },
    {
     "data": {
      "text/html": [
       "<div>\n",
       "<style scoped>\n",
       "    .dataframe tbody tr th:only-of-type {\n",
       "        vertical-align: middle;\n",
       "    }\n",
       "\n",
       "    .dataframe tbody tr th {\n",
       "        vertical-align: top;\n",
       "    }\n",
       "\n",
       "    .dataframe thead th {\n",
       "        text-align: right;\n",
       "    }\n",
       "</style>\n",
       "<table border=\"1\" class=\"dataframe\">\n",
       "  <thead>\n",
       "    <tr style=\"text-align: right;\">\n",
       "      <th></th>\n",
       "      <th>pred</th>\n",
       "    </tr>\n",
       "  </thead>\n",
       "  <tbody>\n",
       "    <tr>\n",
       "      <th>2021-07-01</th>\n",
       "      <td>3199.921107</td>\n",
       "    </tr>\n",
       "    <tr>\n",
       "      <th>2021-07-02</th>\n",
       "      <td>2998.675773</td>\n",
       "    </tr>\n",
       "    <tr>\n",
       "      <th>2021-07-03</th>\n",
       "      <td>2256.899442</td>\n",
       "    </tr>\n",
       "    <tr>\n",
       "      <th>2021-07-04</th>\n",
       "      <td>2038.767690</td>\n",
       "    </tr>\n",
       "    <tr>\n",
       "      <th>2021-07-05</th>\n",
       "      <td>2998.858487</td>\n",
       "    </tr>\n",
       "  </tbody>\n",
       "</table>\n",
       "</div>"
      ],
      "text/plain": [
       "                   pred\n",
       "2021-07-01  3199.921107\n",
       "2021-07-02  2998.675773\n",
       "2021-07-03  2256.899442\n",
       "2021-07-04  2038.767690\n",
       "2021-07-05  2998.858487"
      ]
     },
     "execution_count": 14,
     "metadata": {},
     "output_type": "execute_result"
    }
   ],
   "source": [
    "# Backtest\n",
    "# ==============================================================================\n",
    "metrica, predicciones = backtesting_forecaster(\n",
    "                            forecaster         = forecaster,\n",
    "                            y                  = datos.users,\n",
    "                            initial_train_size = len(datos.loc[:fin_validacion]),\n",
    "                            steps              = 7,\n",
    "                            refit              = False,\n",
    "                            fixed_train_size   = False,\n",
    "                            metric             = 'mean_absolute_error',\n",
    "                            verbose            = True\n",
    "                        )\n",
    "\n",
    "print(f'Error backtest: {metrica}')\n",
    "predicciones.head(5)"
   ]
  },
  {
   "cell_type": "code",
   "execution_count": 15,
   "metadata": {},
   "outputs": [
    {
     "data": {},
     "metadata": {},
     "output_type": "display_data"
    },
    {
     "data": {
      "application/vnd.holoviews_exec.v0+json": "",
      "text/html": [
       "<div id='2125'>\n",
       "  <div class=\"bk-root\" id=\"67a53dd1-c873-49d2-b8b7-08634303e874\" data-root-id=\"2125\"></div>\n",
       "</div>\n",
       "<script type=\"application/javascript\">(function(root) {\n",
       "  function embed_document(root) {\n",
       "    var docs_json = {\"3b2b07bf-cac8-452b-bf7f-e40374051b0b\":{\"defs\":[{\"extends\":null,\"module\":null,\"name\":\"ReactiveHTML1\",\"overrides\":[],\"properties\":[]},{\"extends\":null,\"module\":null,\"name\":\"FlexBox1\",\"overrides\":[],\"properties\":[{\"default\":\"flex-start\",\"kind\":null,\"name\":\"align_content\"},{\"default\":\"flex-start\",\"kind\":null,\"name\":\"align_items\"},{\"default\":\"row\",\"kind\":null,\"name\":\"flex_direction\"},{\"default\":\"wrap\",\"kind\":null,\"name\":\"flex_wrap\"},{\"default\":\"flex-start\",\"kind\":null,\"name\":\"justify_content\"}]},{\"extends\":null,\"module\":null,\"name\":\"GridStack1\",\"overrides\":[],\"properties\":[{\"default\":\"warn\",\"kind\":null,\"name\":\"mode\"},{\"default\":null,\"kind\":null,\"name\":\"ncols\"},{\"default\":null,\"kind\":null,\"name\":\"nrows\"},{\"default\":true,\"kind\":null,\"name\":\"allow_resize\"},{\"default\":true,\"kind\":null,\"name\":\"allow_drag\"},{\"default\":[],\"kind\":null,\"name\":\"state\"}]},{\"extends\":null,\"module\":null,\"name\":\"click1\",\"overrides\":[],\"properties\":[{\"default\":\"\",\"kind\":null,\"name\":\"terminal_output\"},{\"default\":\"\",\"kind\":null,\"name\":\"debug_name\"},{\"default\":0,\"kind\":null,\"name\":\"clears\"}]},{\"extends\":null,\"module\":null,\"name\":\"NotificationAreaBase1\",\"overrides\":[],\"properties\":[{\"default\":\"bottom-right\",\"kind\":null,\"name\":\"position\"},{\"default\":0,\"kind\":null,\"name\":\"_clear\"}]},{\"extends\":null,\"module\":null,\"name\":\"NotificationArea1\",\"overrides\":[],\"properties\":[{\"default\":[],\"kind\":null,\"name\":\"notifications\"},{\"default\":\"bottom-right\",\"kind\":null,\"name\":\"position\"},{\"default\":0,\"kind\":null,\"name\":\"_clear\"},{\"default\":[{\"background\":\"#ffc107\",\"icon\":{\"className\":\"fas fa-exclamation-triangle\",\"color\":\"white\",\"tagName\":\"i\"},\"type\":\"warning\"},{\"background\":\"#007bff\",\"icon\":{\"className\":\"fas fa-info-circle\",\"color\":\"white\",\"tagName\":\"i\"},\"type\":\"info\"}],\"kind\":null,\"name\":\"types\"}]},{\"extends\":null,\"module\":null,\"name\":\"Notification\",\"overrides\":[],\"properties\":[{\"default\":null,\"kind\":null,\"name\":\"background\"},{\"default\":3000,\"kind\":null,\"name\":\"duration\"},{\"default\":null,\"kind\":null,\"name\":\"icon\"},{\"default\":\"\",\"kind\":null,\"name\":\"message\"},{\"default\":null,\"kind\":null,\"name\":\"notification_type\"},{\"default\":false,\"kind\":null,\"name\":\"_destroyed\"}]},{\"extends\":null,\"module\":null,\"name\":\"TemplateActions1\",\"overrides\":[],\"properties\":[{\"default\":0,\"kind\":null,\"name\":\"open_modal\"},{\"default\":0,\"kind\":null,\"name\":\"close_modal\"}]},{\"extends\":null,\"module\":null,\"name\":\"MaterialTemplateActions1\",\"overrides\":[],\"properties\":[{\"default\":0,\"kind\":null,\"name\":\"open_modal\"},{\"default\":0,\"kind\":null,\"name\":\"close_modal\"}]}],\"roots\":{\"references\":[{\"attributes\":{\"coordinates\":null,\"group\":null,\"text\":\"Predicci\\u00f3n (Autoreg-Ridge) vs vistas reales\",\"text_color\":\"black\",\"text_font_size\":\"12pt\"},\"id\":\"2132\",\"type\":\"Title\"},{\"attributes\":{},\"id\":\"2149\",\"type\":\"PanTool\"},{\"attributes\":{\"line_alpha\":0.2,\"line_color\":\"#fc4f30\",\"line_width\":2,\"x\":{\"field\":\"index\"},\"y\":{\"field\":\"pred\"}},\"id\":\"2206\",\"type\":\"Line\"},{\"attributes\":{\"axis\":{\"id\":\"2140\"},\"coordinates\":null,\"grid_line_color\":null,\"group\":null,\"ticker\":null},\"id\":\"2143\",\"type\":\"Grid\"},{\"attributes\":{\"line_color\":\"#30a2da\",\"line_width\":2,\"x\":{\"field\":\"date\"},\"y\":{\"field\":\"users\"}},\"id\":\"2200\",\"type\":\"Line\"},{\"attributes\":{\"axis_label\":\"date\",\"coordinates\":null,\"formatter\":{\"id\":\"2163\"},\"group\":null,\"major_label_policy\":{\"id\":\"2164\"},\"ticker\":{\"id\":\"2141\"}},\"id\":\"2140\",\"type\":\"DatetimeAxis\"},{\"attributes\":{},\"id\":\"2138\",\"type\":\"LinearScale\"},{\"attributes\":{\"num_minor_ticks\":5,\"tickers\":[{\"id\":\"2186\"},{\"id\":\"2187\"},{\"id\":\"2188\"},{\"id\":\"2189\"},{\"id\":\"2190\"},{\"id\":\"2191\"},{\"id\":\"2192\"},{\"id\":\"2193\"},{\"id\":\"2194\"},{\"id\":\"2195\"},{\"id\":\"2196\"},{\"id\":\"2197\"}]},\"id\":\"2141\",\"type\":\"DatetimeTicker\"},{\"attributes\":{\"line_color\":\"#fc4f30\",\"line_width\":2,\"x\":{\"field\":\"index\"},\"y\":{\"field\":\"pred\"}},\"id\":\"2204\",\"type\":\"Line\"},{\"attributes\":{\"data\":{\"date\":{\"__ndarray__\":\"AADA1/Wld0IAAIA9SKZ3QgAAQKOapndCAAAACe2md0IAAMBuP6d3QgAAgNSRp3dCAABAOuSnd0IAAACgNqh3QgAAwAWJqHdCAACAa9uod0IAAEDRLal3QgAAADeAqXdCAADAnNKpd0IAAIACJap3QgAAQGh3qndCAAAAzsmqd0IAAMAzHKt3QgAAgJluq3dCAABA/8Crd0IAAABlE6x3QgAAwMplrHdCAACAMLisd0IAAECWCq13QgAAAPxcrXdCAADAYa+td0IAAIDHAa53QgAAQC1UrndCAAAAk6aud0IAAMD4+K53QgAAgF5Lr3dCAABAxJ2vd0IAAAAq8K93QgAAwI9CsHdCAACA9ZSwd0IAAEBb57B3QgAAAME5sXdCAADAJoyxd0IAAICM3rF3QgAAQPIwsndCAAAAWIOyd0IAAMC91bJ3QgAAgCMos3dCAABAiXqzd0IAAADvzLN3QgAAwFQftHdCAACAunG0d0IAAEAgxLR3QgAAAIYWtXdCAADA62i1d0IAAIBRu7V3QgAAQLcNtndCAAAAHWC2d0IAAMCCsrZ3QgAAgOgEt3dCAABATle3d0IAAAC0qbd3Qg==\",\"dtype\":\"float64\",\"order\":\"little\",\"shape\":[56]},\"users\":[3123,2870,2020,1828,2722,2991,2976,2834,2609,1832,1462,2563,2897,3057,2697,2391,1730,1434,2455,2508,2563,2447,2543,1714,1415,2407,2587,2314,2465,2088,1535,133,2146,2266,2330,2323,2003,1406,1239,1989,2268,2249,2322,2098,1477,1308,1920,2219,2482,2345,2185,1546,1393,2371,2547,2448]},\"selected\":{\"id\":\"2169\"},\"selection_policy\":{\"id\":\"2183\"}},\"id\":\"2168\",\"type\":\"ColumnDataSource\"},{\"attributes\":{\"axis\":{\"id\":\"2144\"},\"coordinates\":null,\"dimension\":1,\"grid_line_color\":null,\"group\":null,\"ticker\":null},\"id\":\"2147\",\"type\":\"Grid\"},{\"attributes\":{},\"id\":\"2163\",\"type\":\"DatetimeTickFormatter\"},{\"attributes\":{},\"id\":\"2145\",\"type\":\"BasicTicker\"},{\"attributes\":{\"line_alpha\":0.1,\"line_color\":\"#fc4f30\",\"line_width\":2,\"x\":{\"field\":\"index\"},\"y\":{\"field\":\"pred\"}},\"id\":\"2205\",\"type\":\"Line\"},{\"attributes\":{},\"id\":\"2150\",\"type\":\"WheelZoomTool\"},{\"attributes\":{\"mantissas\":[1,2,5],\"max_interval\":500.0,\"num_minor_ticks\":0},\"id\":\"2186\",\"type\":\"AdaptiveTicker\"},{\"attributes\":{\"line_color\":\"#fc4f30\",\"line_width\":2,\"x\":{\"field\":\"index\"},\"y\":{\"field\":\"pred\"}},\"id\":\"2234\",\"type\":\"Line\"},{\"attributes\":{},\"id\":\"2166\",\"type\":\"BasicTickFormatter\"},{\"attributes\":{},\"id\":\"2148\",\"type\":\"SaveTool\"},{\"attributes\":{\"base\":60,\"mantissas\":[1,2,5,10,15,20,30],\"max_interval\":1800000.0,\"min_interval\":1000.0,\"num_minor_ticks\":0},\"id\":\"2187\",\"type\":\"AdaptiveTicker\"},{\"attributes\":{\"base\":24,\"mantissas\":[1,2,4,6,8,12],\"max_interval\":43200000.0,\"min_interval\":3600000.0,\"num_minor_ticks\":0},\"id\":\"2188\",\"type\":\"AdaptiveTicker\"},{\"attributes\":{\"coordinates\":null,\"data_source\":{\"id\":\"2201\"},\"glyph\":{\"id\":\"2204\"},\"group\":null,\"hover_glyph\":null,\"muted_glyph\":{\"id\":\"2206\"},\"nonselection_glyph\":{\"id\":\"2205\"},\"selection_glyph\":{\"id\":\"2234\"},\"view\":{\"id\":\"2208\"}},\"id\":\"2207\",\"type\":\"GlyphRenderer\"},{\"attributes\":{\"overlay\":{\"id\":\"2153\"}},\"id\":\"2151\",\"type\":\"BoxZoomTool\"},{\"attributes\":{},\"id\":\"2197\",\"type\":\"YearsTicker\"},{\"attributes\":{},\"id\":\"2202\",\"type\":\"Selection\"},{\"attributes\":{},\"id\":\"2152\",\"type\":\"ResetTool\"},{\"attributes\":{\"months\":[0,1,2,3,4,5,6,7,8,9,10,11]},\"id\":\"2193\",\"type\":\"MonthsTicker\"},{\"attributes\":{\"axis_label\":\"users\",\"coordinates\":null,\"formatter\":{\"id\":\"2166\"},\"group\":null,\"major_label_policy\":{\"id\":\"2167\"},\"ticker\":{\"id\":\"2145\"}},\"id\":\"2144\",\"type\":\"LinearAxis\"},{\"attributes\":{\"margin\":[5,5,5,5],\"name\":\"HSpacer03122\",\"sizing_mode\":\"stretch_width\"},\"id\":\"2259\",\"type\":\"Spacer\"},{\"attributes\":{\"source\":{\"id\":\"2201\"}},\"id\":\"2208\",\"type\":\"CDSView\"},{\"attributes\":{},\"id\":\"2164\",\"type\":\"AllLabels\"},{\"attributes\":{\"bottom_units\":\"screen\",\"coordinates\":null,\"fill_alpha\":0.5,\"fill_color\":\"lightgrey\",\"group\":null,\"left_units\":\"screen\",\"level\":\"overlay\",\"line_alpha\":1.0,\"line_color\":\"black\",\"line_dash\":[4,4],\"line_width\":2,\"right_units\":\"screen\",\"syncable\":false,\"top_units\":\"screen\"},\"id\":\"2153\",\"type\":\"BoxAnnotation\"},{\"attributes\":{\"days\":[1,2,3,4,5,6,7,8,9,10,11,12,13,14,15,16,17,18,19,20,21,22,23,24,25,26,27,28,29,30,31]},\"id\":\"2189\",\"type\":\"DaysTicker\"},{\"attributes\":{\"label\":{\"value\":\"predicci\\u00f3n\"},\"renderers\":[{\"id\":\"2207\"}]},\"id\":\"2233\",\"type\":\"LegendItem\"},{\"attributes\":{\"days\":[1,4,7,10,13,16,19,22,25,28]},\"id\":\"2190\",\"type\":\"DaysTicker\"},{\"attributes\":{\"days\":[1,15]},\"id\":\"2192\",\"type\":\"DaysTicker\"},{\"attributes\":{},\"id\":\"2167\",\"type\":\"AllLabels\"},{\"attributes\":{\"days\":[1,8,15,22]},\"id\":\"2191\",\"type\":\"DaysTicker\"},{\"attributes\":{\"months\":[0,6]},\"id\":\"2196\",\"type\":\"MonthsTicker\"},{\"attributes\":{},\"id\":\"2218\",\"type\":\"UnionRenderers\"},{\"attributes\":{\"months\":[0,2,4,6,8,10]},\"id\":\"2194\",\"type\":\"MonthsTicker\"},{\"attributes\":{\"children\":[{\"id\":\"2126\"},{\"id\":\"2131\"},{\"id\":\"2259\"}],\"margin\":[0,0,0,0],\"name\":\"Row03117\",\"tags\":[\"embedded\"]},\"id\":\"2125\",\"type\":\"Row\"},{\"attributes\":{\"below\":[{\"id\":\"2140\"}],\"center\":[{\"id\":\"2143\"},{\"id\":\"2147\"},{\"id\":\"2198\"}],\"height\":300,\"left\":[{\"id\":\"2144\"}],\"margin\":[5,5,5,5],\"min_border_bottom\":10,\"min_border_left\":10,\"min_border_right\":10,\"min_border_top\":10,\"renderers\":[{\"id\":\"2174\"},{\"id\":\"2207\"}],\"sizing_mode\":\"fixed\",\"title\":{\"id\":\"2132\"},\"toolbar\":{\"id\":\"2154\"},\"width\":700,\"x_range\":{\"id\":\"2127\"},\"x_scale\":{\"id\":\"2136\"},\"y_range\":{\"id\":\"2128\"},\"y_scale\":{\"id\":\"2138\"}},\"id\":\"2131\",\"subtype\":\"Figure\",\"type\":\"Plot\"},{\"attributes\":{\"label\":{\"value\":\"test\"},\"renderers\":[{\"id\":\"2174\"}]},\"id\":\"2199\",\"type\":\"LegendItem\"},{\"attributes\":{\"margin\":[5,5,5,5],\"name\":\"HSpacer03121\",\"sizing_mode\":\"stretch_width\"},\"id\":\"2126\",\"type\":\"Spacer\"},{\"attributes\":{\"line_alpha\":0.2,\"line_color\":\"#30a2da\",\"line_width\":2,\"x\":{\"field\":\"date\"},\"y\":{\"field\":\"users\"}},\"id\":\"2173\",\"type\":\"Line\"},{\"attributes\":{},\"id\":\"2183\",\"type\":\"UnionRenderers\"},{\"attributes\":{\"months\":[0,4,8]},\"id\":\"2195\",\"type\":\"MonthsTicker\"},{\"attributes\":{\"coordinates\":null,\"data_source\":{\"id\":\"2168\"},\"glyph\":{\"id\":\"2171\"},\"group\":null,\"hover_glyph\":null,\"muted_glyph\":{\"id\":\"2173\"},\"nonselection_glyph\":{\"id\":\"2172\"},\"selection_glyph\":{\"id\":\"2200\"},\"view\":{\"id\":\"2175\"}},\"id\":\"2174\",\"type\":\"GlyphRenderer\"},{\"attributes\":{\"line_alpha\":0.1,\"line_color\":\"#30a2da\",\"line_width\":2,\"x\":{\"field\":\"date\"},\"y\":{\"field\":\"users\"}},\"id\":\"2172\",\"type\":\"Line\"},{\"attributes\":{\"line_color\":\"#30a2da\",\"line_width\":2,\"x\":{\"field\":\"date\"},\"y\":{\"field\":\"users\"}},\"id\":\"2171\",\"type\":\"Line\"},{\"attributes\":{\"end\":1629849600000.0,\"reset_end\":1629849600000.0,\"reset_start\":1625097600000.0,\"start\":1625097600000.0,\"tags\":[[[\"date\",\"date\",null]]]},\"id\":\"2127\",\"type\":\"Range1d\"},{\"attributes\":{\"data\":{\"index\":{\"__ndarray__\":\"AADA1/Wld0IAAIA9SKZ3QgAAQKOapndCAAAACe2md0IAAMBuP6d3QgAAgNSRp3dCAABAOuSnd0IAAACgNqh3QgAAwAWJqHdCAACAa9uod0IAAEDRLal3QgAAADeAqXdCAADAnNKpd0IAAIACJap3QgAAQGh3qndCAAAAzsmqd0IAAMAzHKt3QgAAgJluq3dCAABA/8Crd0IAAABlE6x3QgAAwMplrHdCAACAMLisd0IAAECWCq13QgAAAPxcrXdCAADAYa+td0IAAIDHAa53QgAAQC1UrndCAAAAk6aud0IAAMD4+K53QgAAgF5Lr3dCAABAxJ2vd0IAAAAq8K93QgAAwI9CsHdCAACA9ZSwd0IAAEBb57B3QgAAAME5sXdCAADAJoyxd0IAAICM3rF3QgAAQPIwsndCAAAAWIOyd0IAAMC91bJ3QgAAgCMos3dCAABAiXqzd0IAAADvzLN3QgAAwFQftHdCAACAunG0d0IAAEAgxLR3QgAAAIYWtXdCAADA62i1d0IAAIBRu7V3QgAAQLcNtndCAAAAHWC2d0IAAMCCsrZ3QgAAgOgEt3dCAABATle3d0IAAAC0qbd3Qg==\",\"dtype\":\"float64\",\"order\":\"little\",\"shape\":[56]},\"pred\":{\"__ndarray__\":\"p/xkm9f/qEDtkd7+WW2nQCmipoPMoaFAB+FgHRLbn0AOSZ6Lt22nQOtUShje2KlAFKcUzvngqUCjy/nt4h+mQCkE0djaOKRAxKgfdV+enUAF14tYH82bQBazfjuDYaRANs8Xg2E7p0CmypVN33anQEIlI9chQKdAN61y+406pUBiRLXYB1CfQPHgClBx5JtAPVqgwpEzpUBm4wPoNFWoQO1RvmLMQqlANnOlFm/eokDF/8fh6sSgQLxVQsaTQphAE7WGkW+/lUCdp9gXo6ChQF9pYAOyUKNAXCoScqQZpEDySCIOa3+iQNt5kzR/9aJAOYCRGN+JmkDvKSUnFFmXQNzKcxJmhqJAKI3M8ZYlpECWNglIiL2iQJg7Z7jZRKNADooP/4o/oUC1mO0qM3GXQEiIdAfBP4ZA4CNvwXbhoUBMcV4H8HWkQApPExdnsaRAerxZThTZoUDSf+jnfZCfQJpKWsHYS5hABID/kNoGlEDOwZp4SuqeQBzAB4poOKJAeGCsiCZkokDnB4UeQdmjQD+iXVtysqFAY0ItetfPmkA3yv5OVs+YQAvk4p69nKBASDBWT4Fdo0CfNV68sBOlQA==\",\"dtype\":\"float64\",\"order\":\"little\",\"shape\":[56]}},\"selected\":{\"id\":\"2202\"},\"selection_policy\":{\"id\":\"2218\"}},\"id\":\"2201\",\"type\":\"ColumnDataSource\"},{\"attributes\":{\"source\":{\"id\":\"2168\"}},\"id\":\"2175\",\"type\":\"CDSView\"},{\"attributes\":{\"tools\":[{\"id\":\"2129\"},{\"id\":\"2130\"},{\"id\":\"2148\"},{\"id\":\"2149\"},{\"id\":\"2150\"},{\"id\":\"2151\"},{\"id\":\"2152\"}]},\"id\":\"2154\",\"type\":\"Toolbar\"},{\"attributes\":{\"callback\":null,\"formatters\":{\"@{date}\":\"datetime\"},\"renderers\":[{\"id\":\"2174\"}],\"tags\":[\"hv_created\"],\"tooltips\":[[\"date\",\"@{date}{%F %T}\"],[\"users\",\"@{users}\"]]},\"id\":\"2129\",\"type\":\"HoverTool\"},{\"attributes\":{},\"id\":\"2136\",\"type\":\"LinearScale\"},{\"attributes\":{\"click_policy\":\"mute\",\"coordinates\":null,\"group\":null,\"items\":[{\"id\":\"2199\"},{\"id\":\"2233\"}],\"location\":\"bottom_left\"},\"id\":\"2198\",\"type\":\"Legend\"},{\"attributes\":{},\"id\":\"2169\",\"type\":\"Selection\"},{\"attributes\":{\"callback\":null,\"formatters\":{\"@{index}\":\"datetime\"},\"renderers\":[{\"id\":\"2207\"}],\"tags\":[\"hv_created\"],\"tooltips\":[[\"index\",\"@{index}{%F %T}\"],[\"pred\",\"@{pred}\"]]},\"id\":\"2130\",\"type\":\"HoverTool\"},{\"attributes\":{\"end\":3630.4366904353474,\"reset_end\":3630.4366904353474,\"reset_start\":-184.94879003957703,\"start\":-184.94879003957703,\"tags\":[[[\"users\",\"users\",null]]]},\"id\":\"2128\",\"type\":\"Range1d\"}],\"root_ids\":[\"2125\"]},\"title\":\"Bokeh Application\",\"version\":\"2.4.3\"}};\n",
       "    var render_items = [{\"docid\":\"3b2b07bf-cac8-452b-bf7f-e40374051b0b\",\"root_ids\":[\"2125\"],\"roots\":{\"2125\":\"67a53dd1-c873-49d2-b8b7-08634303e874\"}}];\n",
       "    root.Bokeh.embed.embed_items_notebook(docs_json, render_items);\n",
       "  }\n",
       "  if (root.Bokeh !== undefined && root.Bokeh.Panel !== undefined) {\n",
       "    embed_document(root);\n",
       "  } else {\n",
       "    var attempts = 0;\n",
       "    var timer = setInterval(function(root) {\n",
       "      if (root.Bokeh !== undefined && root.Bokeh.Panel !== undefined) {\n",
       "        clearInterval(timer);\n",
       "        embed_document(root);\n",
       "      } else if (document.readyState == \"complete\") {\n",
       "        attempts++;\n",
       "        if (attempts > 200) {\n",
       "          clearInterval(timer);\n",
       "          console.log(\"Bokeh: ERROR: Unable to run BokehJS code because BokehJS library is missing\");\n",
       "        }\n",
       "      }\n",
       "    }, 25, root)\n",
       "  }\n",
       "})(window);</script>"
      ],
      "text/plain": [
       ":Overlay\n",
       "   .Curve.Test       :Curve   [date]   (users)\n",
       "   .Curve.Predicción :Curve   [index]   (pred)"
      ]
     },
     "execution_count": 15,
     "metadata": {
      "application/vnd.holoviews_exec.v0+json": {
       "id": "2125"
      }
     },
     "output_type": "execute_result"
    }
   ],
   "source": [
    "# Gráfico\n",
    "# ==============================================================================\n",
    "# fig, ax = plt.subplots(figsize=(10, 3))\n",
    "# datos_test.loc[predicciones.index, 'users'].plot(ax=ax, linewidth=2, label='test')\n",
    "# predicciones.plot(linewidth=2, label='predicción', ax=ax)\n",
    "# ax.set_title('Predicción (Autoreg-Ridge) vs vistas reales')\n",
    "# ax.legend();\n",
    "\n",
    "plot_test = datos_test.users.hvplot.line(label='test')\n",
    "plot_predict = predicciones.hvplot.line(label='predicción')\n",
    "layout = plot_test * plot_predict\n",
    "layout = layout.opts(\n",
    "             title = 'Predicción (Autoreg-Ridge) vs vistas reales',\n",
    "             ylabel = 'users',\n",
    "             legend_position = 'bottom_left'\n",
    "         )\n",
    "layout"
   ]
  },
  {
   "cell_type": "markdown",
   "metadata": {},
   "source": [
    "### Optimización de hiperparámetros (*tuning*)\n",
    "<br>\n",
    "\n",
    "En el apartado anterior, se han utilizado los primeros 14 lags como predictores y un modelo [Ridge](https://www.cienciadedatos.net/documentos/py14-ridge-lasso-elastic-net-python.html) con los hiperparámetros por defecto. Sin embargo, no hay ninguna razón por la que estos valores sean los más adecuados.\n",
    "\n",
    "Con el objetivo de identificar la mejor combinación de lags e hiperparámetros, se recurre a un *Grid Search*. Este proceso consiste en entrenar un modelo con cada combinación de hiperparámetros y lags, y evaluar su capacidad predictiva mediante *backtesting*.\n",
    "\n",
    "En el proceso de búsqueda es importante evaluar los modelos utilizando únicamente los datos de validación y no incluir los de test, estos se utilizan solo en último lugar para evaluar al modelo final."
   ]
  },
  {
   "cell_type": "code",
   "execution_count": 16,
   "metadata": {},
   "outputs": [
    {
     "name": "stdout",
     "output_type": "stream",
     "text": [
      "Number of models compared: 40.\n"
     ]
    },
    {
     "name": "stderr",
     "output_type": "stream",
     "text": [
      "loop lags_grid:   0%|                                               | 0/4 [00:00<?, ?it/s]\n",
      "loop param_grid:   0%|                                             | 0/10 [00:00<?, ?it/s]\u001b[A\n",
      "loop param_grid:  20%|███████▍                             | 2/10 [00:00<00:00, 16.63it/s]\u001b[A\n",
      "loop param_grid:  40%|██████████████▊                      | 4/10 [00:00<00:00, 17.76it/s]\u001b[A\n",
      "loop param_grid:  70%|█████████████████████████▉           | 7/10 [00:00<00:00, 20.34it/s]\u001b[A\n",
      "loop param_grid: 100%|████████████████████████████████████| 10/10 [00:00<00:00, 21.87it/s]\u001b[A\n",
      "loop lags_grid:  25%|█████████▊                             | 1/4 [00:00<00:01,  2.04it/s]\u001b[A\n",
      "loop param_grid:   0%|                                             | 0/10 [00:00<?, ?it/s]\u001b[A\n",
      "loop param_grid:  30%|███████████                          | 3/10 [00:00<00:00, 24.10it/s]\u001b[A\n",
      "loop param_grid:  60%|██████████████████████▏              | 6/10 [00:00<00:00, 25.12it/s]\u001b[A\n",
      "loop param_grid:  90%|█████████████████████████████████▎   | 9/10 [00:00<00:00, 24.40it/s]\u001b[A\n",
      "loop lags_grid:  50%|███████████████████▌                   | 2/4 [00:00<00:00,  2.25it/s]\u001b[A\n",
      "loop param_grid:   0%|                                             | 0/10 [00:00<?, ?it/s]\u001b[A\n",
      "loop param_grid:  30%|███████████                          | 3/10 [00:00<00:00, 21.82it/s]\u001b[A\n",
      "loop param_grid:  60%|██████████████████████▏              | 6/10 [00:00<00:00, 20.10it/s]\u001b[A\n",
      "loop param_grid:  90%|█████████████████████████████████▎   | 9/10 [00:00<00:00, 22.18it/s]\u001b[A\n",
      "loop lags_grid:  75%|█████████████████████████████▎         | 3/4 [00:01<00:00,  2.21it/s]\u001b[A\n",
      "loop param_grid:   0%|                                             | 0/10 [00:00<?, ?it/s]\u001b[A\n",
      "loop param_grid:  20%|███████▍                             | 2/10 [00:00<00:00, 16.65it/s]\u001b[A\n",
      "loop param_grid:  40%|██████████████▊                      | 4/10 [00:00<00:00, 14.19it/s]\u001b[A\n",
      "loop param_grid:  70%|█████████████████████████▉           | 7/10 [00:00<00:00, 18.13it/s]\u001b[A\n",
      "loop param_grid: 100%|████████████████████████████████████| 10/10 [00:00<00:00, 21.10it/s]\u001b[A\n",
      "loop lags_grid: 100%|███████████████████████████████████████| 4/4 [00:01<00:00,  2.11it/s]\u001b[A"
     ]
    },
    {
     "name": "stdout",
     "output_type": "stream",
     "text": [
      "`Forecaster` refitted using the best-found lags and parameters, and the whole data set: \n",
      "  Lags: [ 1  2  3  4  5  6  7  8  9 10 11 12 13 14] \n",
      "  Parameters: {'alpha': 2.154434690031882}\n",
      "  Backtesting metric: 214.79167668434636\n",
      "\n"
     ]
    },
    {
     "name": "stderr",
     "output_type": "stream",
     "text": [
      "\n"
     ]
    }
   ],
   "source": [
    "# Grid search de hiperparámetros\n",
    "# ==============================================================================\n",
    "forecaster = ForecasterAutoreg(\n",
    "                 regressor     = Ridge(random_state=123),\n",
    "                 lags          = 14,\n",
    "                 transformer_y = StandardScaler()\n",
    "             )\n",
    "\n",
    "# Hiperparámetros del regresor\n",
    "param_grid = {'alpha': np.logspace(-3, 3, 10)}\n",
    "\n",
    "# Lags utilizados como predictores\n",
    "lags_grid = [7, 14, 21, [7, 14, 21]]\n",
    "\n",
    "resultados_grid = grid_search_forecaster(\n",
    "                      forecaster         = forecaster,\n",
    "                      y                  = datos.loc[:fin_validacion, 'users'],\n",
    "                      param_grid         = param_grid,\n",
    "                      lags_grid          = lags_grid,\n",
    "                      steps              = 7,\n",
    "                      metric             = 'mean_absolute_error',\n",
    "                      refit              = False,\n",
    "                      initial_train_size = len(datos_train),\n",
    "                      fixed_train_size   = False,\n",
    "                      return_best        = True,\n",
    "                      verbose            = False\n",
    "                  )"
   ]
  },
  {
   "cell_type": "code",
   "execution_count": 17,
   "metadata": {},
   "outputs": [
    {
     "data": {
      "text/html": [
       "<div>\n",
       "<style scoped>\n",
       "    .dataframe tbody tr th:only-of-type {\n",
       "        vertical-align: middle;\n",
       "    }\n",
       "\n",
       "    .dataframe tbody tr th {\n",
       "        vertical-align: top;\n",
       "    }\n",
       "\n",
       "    .dataframe thead th {\n",
       "        text-align: right;\n",
       "    }\n",
       "</style>\n",
       "<table border=\"1\" class=\"dataframe\">\n",
       "  <thead>\n",
       "    <tr style=\"text-align: right;\">\n",
       "      <th></th>\n",
       "      <th>lags</th>\n",
       "      <th>params</th>\n",
       "      <th>mean_absolute_error</th>\n",
       "      <th>alpha</th>\n",
       "    </tr>\n",
       "  </thead>\n",
       "  <tbody>\n",
       "    <tr>\n",
       "      <th>15</th>\n",
       "      <td>[1, 2, 3, 4, 5, 6, 7, 8, 9, 10, 11, 12, 13, 14]</td>\n",
       "      <td>{'alpha': 2.154434690031882}</td>\n",
       "      <td>214.791677</td>\n",
       "      <td>2.154435</td>\n",
       "    </tr>\n",
       "    <tr>\n",
       "      <th>14</th>\n",
       "      <td>[1, 2, 3, 4, 5, 6, 7, 8, 9, 10, 11, 12, 13, 14]</td>\n",
       "      <td>{'alpha': 0.46415888336127775}</td>\n",
       "      <td>216.551409</td>\n",
       "      <td>0.464159</td>\n",
       "    </tr>\n",
       "    <tr>\n",
       "      <th>13</th>\n",
       "      <td>[1, 2, 3, 4, 5, 6, 7, 8, 9, 10, 11, 12, 13, 14]</td>\n",
       "      <td>{'alpha': 0.1}</td>\n",
       "      <td>217.770757</td>\n",
       "      <td>0.100000</td>\n",
       "    </tr>\n",
       "    <tr>\n",
       "      <th>12</th>\n",
       "      <td>[1, 2, 3, 4, 5, 6, 7, 8, 9, 10, 11, 12, 13, 14]</td>\n",
       "      <td>{'alpha': 0.021544346900318832}</td>\n",
       "      <td>218.127429</td>\n",
       "      <td>0.021544</td>\n",
       "    </tr>\n",
       "    <tr>\n",
       "      <th>11</th>\n",
       "      <td>[1, 2, 3, 4, 5, 6, 7, 8, 9, 10, 11, 12, 13, 14]</td>\n",
       "      <td>{'alpha': 0.004641588833612777}</td>\n",
       "      <td>218.206475</td>\n",
       "      <td>0.004642</td>\n",
       "    </tr>\n",
       "    <tr>\n",
       "      <th>10</th>\n",
       "      <td>[1, 2, 3, 4, 5, 6, 7, 8, 9, 10, 11, 12, 13, 14]</td>\n",
       "      <td>{'alpha': 0.001}</td>\n",
       "      <td>218.223609</td>\n",
       "      <td>0.001000</td>\n",
       "    </tr>\n",
       "    <tr>\n",
       "      <th>26</th>\n",
       "      <td>[1, 2, 3, 4, 5, 6, 7, 8, 9, 10, 11, 12, 13, 14...</td>\n",
       "      <td>{'alpha': 10.0}</td>\n",
       "      <td>219.315042</td>\n",
       "      <td>10.000000</td>\n",
       "    </tr>\n",
       "    <tr>\n",
       "      <th>16</th>\n",
       "      <td>[1, 2, 3, 4, 5, 6, 7, 8, 9, 10, 11, 12, 13, 14]</td>\n",
       "      <td>{'alpha': 10.0}</td>\n",
       "      <td>220.932702</td>\n",
       "      <td>10.000000</td>\n",
       "    </tr>\n",
       "    <tr>\n",
       "      <th>25</th>\n",
       "      <td>[1, 2, 3, 4, 5, 6, 7, 8, 9, 10, 11, 12, 13, 14...</td>\n",
       "      <td>{'alpha': 2.154434690031882}</td>\n",
       "      <td>221.500069</td>\n",
       "      <td>2.154435</td>\n",
       "    </tr>\n",
       "    <tr>\n",
       "      <th>24</th>\n",
       "      <td>[1, 2, 3, 4, 5, 6, 7, 8, 9, 10, 11, 12, 13, 14...</td>\n",
       "      <td>{'alpha': 0.46415888336127775}</td>\n",
       "      <td>226.720683</td>\n",
       "      <td>0.464159</td>\n",
       "    </tr>\n",
       "    <tr>\n",
       "      <th>23</th>\n",
       "      <td>[1, 2, 3, 4, 5, 6, 7, 8, 9, 10, 11, 12, 13, 14...</td>\n",
       "      <td>{'alpha': 0.1}</td>\n",
       "      <td>228.504088</td>\n",
       "      <td>0.100000</td>\n",
       "    </tr>\n",
       "    <tr>\n",
       "      <th>22</th>\n",
       "      <td>[1, 2, 3, 4, 5, 6, 7, 8, 9, 10, 11, 12, 13, 14...</td>\n",
       "      <td>{'alpha': 0.021544346900318832}</td>\n",
       "      <td>228.932389</td>\n",
       "      <td>0.021544</td>\n",
       "    </tr>\n",
       "    <tr>\n",
       "      <th>21</th>\n",
       "      <td>[1, 2, 3, 4, 5, 6, 7, 8, 9, 10, 11, 12, 13, 14...</td>\n",
       "      <td>{'alpha': 0.004641588833612777}</td>\n",
       "      <td>229.027052</td>\n",
       "      <td>0.004642</td>\n",
       "    </tr>\n",
       "    <tr>\n",
       "      <th>20</th>\n",
       "      <td>[1, 2, 3, 4, 5, 6, 7, 8, 9, 10, 11, 12, 13, 14...</td>\n",
       "      <td>{'alpha': 0.001}</td>\n",
       "      <td>229.047501</td>\n",
       "      <td>0.001000</td>\n",
       "    </tr>\n",
       "    <tr>\n",
       "      <th>27</th>\n",
       "      <td>[1, 2, 3, 4, 5, 6, 7, 8, 9, 10, 11, 12, 13, 14...</td>\n",
       "      <td>{'alpha': 46.41588833612773}</td>\n",
       "      <td>264.280223</td>\n",
       "      <td>46.415888</td>\n",
       "    </tr>\n",
       "    <tr>\n",
       "      <th>17</th>\n",
       "      <td>[1, 2, 3, 4, 5, 6, 7, 8, 9, 10, 11, 12, 13, 14]</td>\n",
       "      <td>{'alpha': 46.41588833612773}</td>\n",
       "      <td>268.130029</td>\n",
       "      <td>46.415888</td>\n",
       "    </tr>\n",
       "    <tr>\n",
       "      <th>36</th>\n",
       "      <td>[7, 14, 21]</td>\n",
       "      <td>{'alpha': 10.0}</td>\n",
       "      <td>306.715172</td>\n",
       "      <td>10.000000</td>\n",
       "    </tr>\n",
       "    <tr>\n",
       "      <th>35</th>\n",
       "      <td>[7, 14, 21]</td>\n",
       "      <td>{'alpha': 2.154434690031882}</td>\n",
       "      <td>309.779174</td>\n",
       "      <td>2.154435</td>\n",
       "    </tr>\n",
       "    <tr>\n",
       "      <th>34</th>\n",
       "      <td>[7, 14, 21]</td>\n",
       "      <td>{'alpha': 0.46415888336127775}</td>\n",
       "      <td>311.495164</td>\n",
       "      <td>0.464159</td>\n",
       "    </tr>\n",
       "    <tr>\n",
       "      <th>33</th>\n",
       "      <td>[7, 14, 21]</td>\n",
       "      <td>{'alpha': 0.1}</td>\n",
       "      <td>311.922564</td>\n",
       "      <td>0.100000</td>\n",
       "    </tr>\n",
       "    <tr>\n",
       "      <th>32</th>\n",
       "      <td>[7, 14, 21]</td>\n",
       "      <td>{'alpha': 0.021544346900318832}</td>\n",
       "      <td>312.015912</td>\n",
       "      <td>0.021544</td>\n",
       "    </tr>\n",
       "    <tr>\n",
       "      <th>31</th>\n",
       "      <td>[7, 14, 21]</td>\n",
       "      <td>{'alpha': 0.004641588833612777}</td>\n",
       "      <td>312.036084</td>\n",
       "      <td>0.004642</td>\n",
       "    </tr>\n",
       "    <tr>\n",
       "      <th>30</th>\n",
       "      <td>[7, 14, 21]</td>\n",
       "      <td>{'alpha': 0.001}</td>\n",
       "      <td>312.040432</td>\n",
       "      <td>0.001000</td>\n",
       "    </tr>\n",
       "    <tr>\n",
       "      <th>37</th>\n",
       "      <td>[7, 14, 21]</td>\n",
       "      <td>{'alpha': 46.41588833612773}</td>\n",
       "      <td>312.744552</td>\n",
       "      <td>46.415888</td>\n",
       "    </tr>\n",
       "    <tr>\n",
       "      <th>0</th>\n",
       "      <td>[1, 2, 3, 4, 5, 6, 7]</td>\n",
       "      <td>{'alpha': 0.001}</td>\n",
       "      <td>348.244718</td>\n",
       "      <td>0.001000</td>\n",
       "    </tr>\n",
       "    <tr>\n",
       "      <th>1</th>\n",
       "      <td>[1, 2, 3, 4, 5, 6, 7]</td>\n",
       "      <td>{'alpha': 0.004641588833612777}</td>\n",
       "      <td>348.255632</td>\n",
       "      <td>0.004642</td>\n",
       "    </tr>\n",
       "    <tr>\n",
       "      <th>2</th>\n",
       "      <td>[1, 2, 3, 4, 5, 6, 7]</td>\n",
       "      <td>{'alpha': 0.021544346900318832}</td>\n",
       "      <td>348.306044</td>\n",
       "      <td>0.021544</td>\n",
       "    </tr>\n",
       "    <tr>\n",
       "      <th>3</th>\n",
       "      <td>[1, 2, 3, 4, 5, 6, 7]</td>\n",
       "      <td>{'alpha': 0.1}</td>\n",
       "      <td>348.534861</td>\n",
       "      <td>0.100000</td>\n",
       "    </tr>\n",
       "    <tr>\n",
       "      <th>4</th>\n",
       "      <td>[1, 2, 3, 4, 5, 6, 7]</td>\n",
       "      <td>{'alpha': 0.46415888336127775}</td>\n",
       "      <td>349.493389</td>\n",
       "      <td>0.464159</td>\n",
       "    </tr>\n",
       "    <tr>\n",
       "      <th>5</th>\n",
       "      <td>[1, 2, 3, 4, 5, 6, 7]</td>\n",
       "      <td>{'alpha': 2.154434690031882}</td>\n",
       "      <td>352.738878</td>\n",
       "      <td>2.154435</td>\n",
       "    </tr>\n",
       "    <tr>\n",
       "      <th>6</th>\n",
       "      <td>[1, 2, 3, 4, 5, 6, 7]</td>\n",
       "      <td>{'alpha': 10.0}</td>\n",
       "      <td>358.887438</td>\n",
       "      <td>10.000000</td>\n",
       "    </tr>\n",
       "    <tr>\n",
       "      <th>28</th>\n",
       "      <td>[1, 2, 3, 4, 5, 6, 7, 8, 9, 10, 11, 12, 13, 14...</td>\n",
       "      <td>{'alpha': 215.44346900318823}</td>\n",
       "      <td>360.361480</td>\n",
       "      <td>215.443469</td>\n",
       "    </tr>\n",
       "    <tr>\n",
       "      <th>7</th>\n",
       "      <td>[1, 2, 3, 4, 5, 6, 7]</td>\n",
       "      <td>{'alpha': 46.41588833612773}</td>\n",
       "      <td>364.992222</td>\n",
       "      <td>46.415888</td>\n",
       "    </tr>\n",
       "    <tr>\n",
       "      <th>38</th>\n",
       "      <td>[7, 14, 21]</td>\n",
       "      <td>{'alpha': 215.44346900318823}</td>\n",
       "      <td>371.251008</td>\n",
       "      <td>215.443469</td>\n",
       "    </tr>\n",
       "    <tr>\n",
       "      <th>18</th>\n",
       "      <td>[1, 2, 3, 4, 5, 6, 7, 8, 9, 10, 11, 12, 13, 14]</td>\n",
       "      <td>{'alpha': 215.44346900318823}</td>\n",
       "      <td>383.138529</td>\n",
       "      <td>215.443469</td>\n",
       "    </tr>\n",
       "    <tr>\n",
       "      <th>8</th>\n",
       "      <td>[1, 2, 3, 4, 5, 6, 7]</td>\n",
       "      <td>{'alpha': 215.44346900318823}</td>\n",
       "      <td>434.235273</td>\n",
       "      <td>215.443469</td>\n",
       "    </tr>\n",
       "    <tr>\n",
       "      <th>29</th>\n",
       "      <td>[1, 2, 3, 4, 5, 6, 7, 8, 9, 10, 11, 12, 13, 14...</td>\n",
       "      <td>{'alpha': 1000.0}</td>\n",
       "      <td>501.700629</td>\n",
       "      <td>1000.000000</td>\n",
       "    </tr>\n",
       "    <tr>\n",
       "      <th>39</th>\n",
       "      <td>[7, 14, 21]</td>\n",
       "      <td>{'alpha': 1000.0}</td>\n",
       "      <td>522.093855</td>\n",
       "      <td>1000.000000</td>\n",
       "    </tr>\n",
       "    <tr>\n",
       "      <th>19</th>\n",
       "      <td>[1, 2, 3, 4, 5, 6, 7, 8, 9, 10, 11, 12, 13, 14]</td>\n",
       "      <td>{'alpha': 1000.0}</td>\n",
       "      <td>523.065962</td>\n",
       "      <td>1000.000000</td>\n",
       "    </tr>\n",
       "    <tr>\n",
       "      <th>9</th>\n",
       "      <td>[1, 2, 3, 4, 5, 6, 7]</td>\n",
       "      <td>{'alpha': 1000.0}</td>\n",
       "      <td>564.140982</td>\n",
       "      <td>1000.000000</td>\n",
       "    </tr>\n",
       "  </tbody>\n",
       "</table>\n",
       "</div>"
      ],
      "text/plain": [
       "                                                 lags  \\\n",
       "15    [1, 2, 3, 4, 5, 6, 7, 8, 9, 10, 11, 12, 13, 14]   \n",
       "14    [1, 2, 3, 4, 5, 6, 7, 8, 9, 10, 11, 12, 13, 14]   \n",
       "13    [1, 2, 3, 4, 5, 6, 7, 8, 9, 10, 11, 12, 13, 14]   \n",
       "12    [1, 2, 3, 4, 5, 6, 7, 8, 9, 10, 11, 12, 13, 14]   \n",
       "11    [1, 2, 3, 4, 5, 6, 7, 8, 9, 10, 11, 12, 13, 14]   \n",
       "10    [1, 2, 3, 4, 5, 6, 7, 8, 9, 10, 11, 12, 13, 14]   \n",
       "26  [1, 2, 3, 4, 5, 6, 7, 8, 9, 10, 11, 12, 13, 14...   \n",
       "16    [1, 2, 3, 4, 5, 6, 7, 8, 9, 10, 11, 12, 13, 14]   \n",
       "25  [1, 2, 3, 4, 5, 6, 7, 8, 9, 10, 11, 12, 13, 14...   \n",
       "24  [1, 2, 3, 4, 5, 6, 7, 8, 9, 10, 11, 12, 13, 14...   \n",
       "23  [1, 2, 3, 4, 5, 6, 7, 8, 9, 10, 11, 12, 13, 14...   \n",
       "22  [1, 2, 3, 4, 5, 6, 7, 8, 9, 10, 11, 12, 13, 14...   \n",
       "21  [1, 2, 3, 4, 5, 6, 7, 8, 9, 10, 11, 12, 13, 14...   \n",
       "20  [1, 2, 3, 4, 5, 6, 7, 8, 9, 10, 11, 12, 13, 14...   \n",
       "27  [1, 2, 3, 4, 5, 6, 7, 8, 9, 10, 11, 12, 13, 14...   \n",
       "17    [1, 2, 3, 4, 5, 6, 7, 8, 9, 10, 11, 12, 13, 14]   \n",
       "36                                        [7, 14, 21]   \n",
       "35                                        [7, 14, 21]   \n",
       "34                                        [7, 14, 21]   \n",
       "33                                        [7, 14, 21]   \n",
       "32                                        [7, 14, 21]   \n",
       "31                                        [7, 14, 21]   \n",
       "30                                        [7, 14, 21]   \n",
       "37                                        [7, 14, 21]   \n",
       "0                               [1, 2, 3, 4, 5, 6, 7]   \n",
       "1                               [1, 2, 3, 4, 5, 6, 7]   \n",
       "2                               [1, 2, 3, 4, 5, 6, 7]   \n",
       "3                               [1, 2, 3, 4, 5, 6, 7]   \n",
       "4                               [1, 2, 3, 4, 5, 6, 7]   \n",
       "5                               [1, 2, 3, 4, 5, 6, 7]   \n",
       "6                               [1, 2, 3, 4, 5, 6, 7]   \n",
       "28  [1, 2, 3, 4, 5, 6, 7, 8, 9, 10, 11, 12, 13, 14...   \n",
       "7                               [1, 2, 3, 4, 5, 6, 7]   \n",
       "38                                        [7, 14, 21]   \n",
       "18    [1, 2, 3, 4, 5, 6, 7, 8, 9, 10, 11, 12, 13, 14]   \n",
       "8                               [1, 2, 3, 4, 5, 6, 7]   \n",
       "29  [1, 2, 3, 4, 5, 6, 7, 8, 9, 10, 11, 12, 13, 14...   \n",
       "39                                        [7, 14, 21]   \n",
       "19    [1, 2, 3, 4, 5, 6, 7, 8, 9, 10, 11, 12, 13, 14]   \n",
       "9                               [1, 2, 3, 4, 5, 6, 7]   \n",
       "\n",
       "                             params  mean_absolute_error        alpha  \n",
       "15     {'alpha': 2.154434690031882}           214.791677     2.154435  \n",
       "14   {'alpha': 0.46415888336127775}           216.551409     0.464159  \n",
       "13                   {'alpha': 0.1}           217.770757     0.100000  \n",
       "12  {'alpha': 0.021544346900318832}           218.127429     0.021544  \n",
       "11  {'alpha': 0.004641588833612777}           218.206475     0.004642  \n",
       "10                 {'alpha': 0.001}           218.223609     0.001000  \n",
       "26                  {'alpha': 10.0}           219.315042    10.000000  \n",
       "16                  {'alpha': 10.0}           220.932702    10.000000  \n",
       "25     {'alpha': 2.154434690031882}           221.500069     2.154435  \n",
       "24   {'alpha': 0.46415888336127775}           226.720683     0.464159  \n",
       "23                   {'alpha': 0.1}           228.504088     0.100000  \n",
       "22  {'alpha': 0.021544346900318832}           228.932389     0.021544  \n",
       "21  {'alpha': 0.004641588833612777}           229.027052     0.004642  \n",
       "20                 {'alpha': 0.001}           229.047501     0.001000  \n",
       "27     {'alpha': 46.41588833612773}           264.280223    46.415888  \n",
       "17     {'alpha': 46.41588833612773}           268.130029    46.415888  \n",
       "36                  {'alpha': 10.0}           306.715172    10.000000  \n",
       "35     {'alpha': 2.154434690031882}           309.779174     2.154435  \n",
       "34   {'alpha': 0.46415888336127775}           311.495164     0.464159  \n",
       "33                   {'alpha': 0.1}           311.922564     0.100000  \n",
       "32  {'alpha': 0.021544346900318832}           312.015912     0.021544  \n",
       "31  {'alpha': 0.004641588833612777}           312.036084     0.004642  \n",
       "30                 {'alpha': 0.001}           312.040432     0.001000  \n",
       "37     {'alpha': 46.41588833612773}           312.744552    46.415888  \n",
       "0                  {'alpha': 0.001}           348.244718     0.001000  \n",
       "1   {'alpha': 0.004641588833612777}           348.255632     0.004642  \n",
       "2   {'alpha': 0.021544346900318832}           348.306044     0.021544  \n",
       "3                    {'alpha': 0.1}           348.534861     0.100000  \n",
       "4    {'alpha': 0.46415888336127775}           349.493389     0.464159  \n",
       "5      {'alpha': 2.154434690031882}           352.738878     2.154435  \n",
       "6                   {'alpha': 10.0}           358.887438    10.000000  \n",
       "28    {'alpha': 215.44346900318823}           360.361480   215.443469  \n",
       "7      {'alpha': 46.41588833612773}           364.992222    46.415888  \n",
       "38    {'alpha': 215.44346900318823}           371.251008   215.443469  \n",
       "18    {'alpha': 215.44346900318823}           383.138529   215.443469  \n",
       "8     {'alpha': 215.44346900318823}           434.235273   215.443469  \n",
       "29                {'alpha': 1000.0}           501.700629  1000.000000  \n",
       "39                {'alpha': 1000.0}           522.093855  1000.000000  \n",
       "19                {'alpha': 1000.0}           523.065962  1000.000000  \n",
       "9                 {'alpha': 1000.0}           564.140982  1000.000000  "
      ]
     },
     "execution_count": 17,
     "metadata": {},
     "output_type": "execute_result"
    }
   ],
   "source": [
    "# Resultados Grid Search\n",
    "# ==============================================================================\n",
    "resultados_grid"
   ]
  },
  {
   "cell_type": "markdown",
   "metadata": {},
   "source": [
    "Los mejores resultados se obtienen si se utilizan los lags [ 1  2  3  4  5  6  7  8  9 10 11 12 13 14] y una configuración de *Ridge* {'alpha': 2.154}. Al indicar `return_best = True` en la función `grid_search_forecaster()`, al final del proceso, se reentrena automáticamente el objeto forecaster con la mejor configuración encontrada y el set de datos completo."
   ]
  },
  {
   "cell_type": "code",
   "execution_count": 18,
   "metadata": {},
   "outputs": [
    {
     "data": {
      "text/plain": [
       "================= \n",
       "ForecasterAutoreg \n",
       "================= \n",
       "Regressor: Ridge(alpha=2.154434690031882, random_state=123) \n",
       "Lags: [ 1  2  3  4  5  6  7  8  9 10 11 12 13 14] \n",
       "Transformer for y: StandardScaler() \n",
       "Transformer for exog: None \n",
       "Window size: 14 \n",
       "Included exogenous: False \n",
       "Type of exogenous variable: None \n",
       "Exogenous variables names: None \n",
       "Training range: [Timestamp('2020-07-01 00:00:00'), Timestamp('2021-06-30 00:00:00')] \n",
       "Training index type: DatetimeIndex \n",
       "Training index frequency: D \n",
       "Regressor parameters: {'alpha': 2.154434690031882, 'copy_X': True, 'fit_intercept': True, 'max_iter': None, 'normalize': 'deprecated', 'positive': False, 'random_state': 123, 'solver': 'auto', 'tol': 0.001} \n",
       "Creation date: 2022-09-30 20:00:19 \n",
       "Last fit date: 2022-09-30 20:00:21 \n",
       "Skforecast version: 0.5.0 \n",
       "Python version: 3.9.13 "
      ]
     },
     "execution_count": 18,
     "metadata": {},
     "output_type": "execute_result"
    }
   ],
   "source": [
    "forecaster"
   ]
  },
  {
   "cell_type": "markdown",
   "metadata": {},
   "source": [
    "Una vez identificado el mejor modelo, se entrena utilizando tanto el conjunto de entrenamiento como el de validación y se calcula su error con el conjunto de test. "
   ]
  },
  {
   "cell_type": "code",
   "execution_count": 19,
   "metadata": {},
   "outputs": [
    {
     "name": "stdout",
     "output_type": "stream",
     "text": [
      "Information of backtesting process\n",
      "----------------------------------\n",
      "Number of observations used for initial training: 365\n",
      "Number of observations used for backtesting: 56\n",
      "    Number of folds: 8\n",
      "    Number of steps per fold: 7\n",
      "\n",
      "Data partition in fold: 0\n",
      "    Training:   2020-07-01 00:00:00 -- 2021-06-30 00:00:00  (n=365)\n",
      "    Validation: 2021-07-01 00:00:00 -- 2021-07-07 00:00:00  (n=7)\n",
      "Data partition in fold: 1\n",
      "    Training:   2020-07-01 00:00:00 -- 2021-06-30 00:00:00  (n=365)\n",
      "    Validation: 2021-07-08 00:00:00 -- 2021-07-14 00:00:00  (n=7)\n",
      "Data partition in fold: 2\n",
      "    Training:   2020-07-01 00:00:00 -- 2021-06-30 00:00:00  (n=365)\n",
      "    Validation: 2021-07-15 00:00:00 -- 2021-07-21 00:00:00  (n=7)\n",
      "Data partition in fold: 3\n",
      "    Training:   2020-07-01 00:00:00 -- 2021-06-30 00:00:00  (n=365)\n",
      "    Validation: 2021-07-22 00:00:00 -- 2021-07-28 00:00:00  (n=7)\n",
      "Data partition in fold: 4\n",
      "    Training:   2020-07-01 00:00:00 -- 2021-06-30 00:00:00  (n=365)\n",
      "    Validation: 2021-07-29 00:00:00 -- 2021-08-04 00:00:00  (n=7)\n",
      "Data partition in fold: 5\n",
      "    Training:   2020-07-01 00:00:00 -- 2021-06-30 00:00:00  (n=365)\n",
      "    Validation: 2021-08-05 00:00:00 -- 2021-08-11 00:00:00  (n=7)\n",
      "Data partition in fold: 6\n",
      "    Training:   2020-07-01 00:00:00 -- 2021-06-30 00:00:00  (n=365)\n",
      "    Validation: 2021-08-12 00:00:00 -- 2021-08-18 00:00:00  (n=7)\n",
      "Data partition in fold: 7\n",
      "    Training:   2020-07-01 00:00:00 -- 2021-06-30 00:00:00  (n=365)\n",
      "    Validation: 2021-08-19 00:00:00 -- 2021-08-25 00:00:00  (n=7)\n",
      "\n",
      "Error backtest: 216.35610241344267\n"
     ]
    }
   ],
   "source": [
    "# Backtest modelo final (conjunto de test)\n",
    "# ==============================================================================\n",
    "metrica, predicciones = backtesting_forecaster(\n",
    "                            forecaster         = forecaster,\n",
    "                            y                  = datos.users,\n",
    "                            initial_train_size = len(datos.loc[:fin_validacion, :]),\n",
    "                            steps              = 7,\n",
    "                            refit              = False,\n",
    "                            fixed_train_size   = False,\n",
    "                            metric             = 'mean_absolute_error',\n",
    "                            verbose            = True\n",
    "                        )\n",
    "\n",
    "print(f'Error backtest: {metrica}')"
   ]
  },
  {
   "cell_type": "markdown",
   "metadata": {},
   "source": [
    "Tras la optimización de lags e hiperparámetros, se ha conseguido reducir el error de predicción.\n",
    "<br><br>"
   ]
  },
  {
   "cell_type": "markdown",
   "metadata": {},
   "source": [
    "## Modelo ARIMA\n",
    "<br>\n",
    "\n",
    "Para entrenar un modelo ARIMA, se puede emplear la clase [SARIMAX](https://www.statsmodels.org/stable/examples/notebooks/generated/statespace_sarimax_stata.html) de statsmodels. En concreto, un modelo SARIMAX equivale a un modelo ARIMA si el argumento *seasonal_order = (0, 0, 0, 0)* y *trend = 'c'*. Con las funciones `backtesting_sarimax_statsmodels()` y `cv_sarimax_statsmodels()` de módulo `model_selection_statsmodels` de la librería [skforecast](https://github.com/JoaquinAmatRodrigo/skforecast), se pueden obtener las predicciones acorde a cómo se habría comportado el modelo."
   ]
  },
  {
   "cell_type": "code",
   "execution_count": 20,
   "metadata": {},
   "outputs": [
    {
     "name": "stdout",
     "output_type": "stream",
     "text": [
      "Number of observations used for training: 365\n",
      "Number of observations used for backtesting: 56\n",
      "    Number of folds: 8\n",
      "    Number of steps per fold: 7\n",
      "Error backtest: 212.0310574381383\n"
     ]
    },
    {
     "data": {
      "text/html": [
       "<div>\n",
       "<style scoped>\n",
       "    .dataframe tbody tr th:only-of-type {\n",
       "        vertical-align: middle;\n",
       "    }\n",
       "\n",
       "    .dataframe tbody tr th {\n",
       "        vertical-align: top;\n",
       "    }\n",
       "\n",
       "    .dataframe thead th {\n",
       "        text-align: right;\n",
       "    }\n",
       "</style>\n",
       "<table border=\"1\" class=\"dataframe\">\n",
       "  <thead>\n",
       "    <tr style=\"text-align: right;\">\n",
       "      <th></th>\n",
       "      <th>predicted_mean</th>\n",
       "      <th>lower users</th>\n",
       "      <th>upper users</th>\n",
       "    </tr>\n",
       "  </thead>\n",
       "  <tbody>\n",
       "    <tr>\n",
       "      <th>2021-07-01</th>\n",
       "      <td>3167.085128</td>\n",
       "      <td>2647.153980</td>\n",
       "      <td>3687.016276</td>\n",
       "    </tr>\n",
       "    <tr>\n",
       "      <th>2021-07-02</th>\n",
       "      <td>2978.461443</td>\n",
       "      <td>2265.072869</td>\n",
       "      <td>3691.850016</td>\n",
       "    </tr>\n",
       "    <tr>\n",
       "      <th>2021-07-03</th>\n",
       "      <td>2235.021529</td>\n",
       "      <td>1442.052137</td>\n",
       "      <td>3027.990921</td>\n",
       "    </tr>\n",
       "    <tr>\n",
       "      <th>2021-07-04</th>\n",
       "      <td>1997.450190</td>\n",
       "      <td>1128.958272</td>\n",
       "      <td>2865.942108</td>\n",
       "    </tr>\n",
       "    <tr>\n",
       "      <th>2021-07-05</th>\n",
       "      <td>2974.884228</td>\n",
       "      <td>2040.209516</td>\n",
       "      <td>3909.558939</td>\n",
       "    </tr>\n",
       "  </tbody>\n",
       "</table>\n",
       "</div>"
      ],
      "text/plain": [
       "            predicted_mean  lower users  upper users\n",
       "2021-07-01     3167.085128  2647.153980  3687.016276\n",
       "2021-07-02     2978.461443  2265.072869  3691.850016\n",
       "2021-07-03     2235.021529  1442.052137  3027.990921\n",
       "2021-07-04     1997.450190  1128.958272  2865.942108\n",
       "2021-07-05     2974.884228  2040.209516  3909.558939"
      ]
     },
     "execution_count": 20,
     "metadata": {},
     "output_type": "execute_result"
    }
   ],
   "source": [
    "# Backtest ARIMA\n",
    "# ==============================================================================\n",
    "metrica, predicciones = backtesting_sarimax(\n",
    "                            y                  = datos.users,\n",
    "                            order              = (14, 0, 0),\n",
    "                            initial_train_size = len(datos.loc[:fin_validacion]),\n",
    "                            steps              = 7,\n",
    "                            metric             = 'mean_absolute_error',\n",
    "                            refit              = False,\n",
    "                            fixed_train_size   = False,\n",
    "                            verbose            = True,\n",
    "                            fit_kwargs         = {'maxiter': 500, 'disp': 0}\n",
    "                        )\n",
    "\n",
    "print(f'Error backtest: {metrica}')\n",
    "predicciones.head(5)"
   ]
  },
  {
   "cell_type": "code",
   "execution_count": 21,
   "metadata": {},
   "outputs": [
    {
     "data": {},
     "metadata": {},
     "output_type": "display_data"
    },
    {
     "data": {
      "application/vnd.holoviews_exec.v0+json": "",
      "text/html": [
       "<div id='2381'>\n",
       "  <div class=\"bk-root\" id=\"9b845f15-c351-41ef-9054-1987daad5660\" data-root-id=\"2381\"></div>\n",
       "</div>\n",
       "<script type=\"application/javascript\">(function(root) {\n",
       "  function embed_document(root) {\n",
       "    var docs_json = {\"3625c43f-cb8c-424f-aa74-75b09179fbd9\":{\"defs\":[{\"extends\":null,\"module\":null,\"name\":\"ReactiveHTML1\",\"overrides\":[],\"properties\":[]},{\"extends\":null,\"module\":null,\"name\":\"FlexBox1\",\"overrides\":[],\"properties\":[{\"default\":\"flex-start\",\"kind\":null,\"name\":\"align_content\"},{\"default\":\"flex-start\",\"kind\":null,\"name\":\"align_items\"},{\"default\":\"row\",\"kind\":null,\"name\":\"flex_direction\"},{\"default\":\"wrap\",\"kind\":null,\"name\":\"flex_wrap\"},{\"default\":\"flex-start\",\"kind\":null,\"name\":\"justify_content\"}]},{\"extends\":null,\"module\":null,\"name\":\"GridStack1\",\"overrides\":[],\"properties\":[{\"default\":\"warn\",\"kind\":null,\"name\":\"mode\"},{\"default\":null,\"kind\":null,\"name\":\"ncols\"},{\"default\":null,\"kind\":null,\"name\":\"nrows\"},{\"default\":true,\"kind\":null,\"name\":\"allow_resize\"},{\"default\":true,\"kind\":null,\"name\":\"allow_drag\"},{\"default\":[],\"kind\":null,\"name\":\"state\"}]},{\"extends\":null,\"module\":null,\"name\":\"click1\",\"overrides\":[],\"properties\":[{\"default\":\"\",\"kind\":null,\"name\":\"terminal_output\"},{\"default\":\"\",\"kind\":null,\"name\":\"debug_name\"},{\"default\":0,\"kind\":null,\"name\":\"clears\"}]},{\"extends\":null,\"module\":null,\"name\":\"NotificationAreaBase1\",\"overrides\":[],\"properties\":[{\"default\":\"bottom-right\",\"kind\":null,\"name\":\"position\"},{\"default\":0,\"kind\":null,\"name\":\"_clear\"}]},{\"extends\":null,\"module\":null,\"name\":\"NotificationArea1\",\"overrides\":[],\"properties\":[{\"default\":[],\"kind\":null,\"name\":\"notifications\"},{\"default\":\"bottom-right\",\"kind\":null,\"name\":\"position\"},{\"default\":0,\"kind\":null,\"name\":\"_clear\"},{\"default\":[{\"background\":\"#ffc107\",\"icon\":{\"className\":\"fas fa-exclamation-triangle\",\"color\":\"white\",\"tagName\":\"i\"},\"type\":\"warning\"},{\"background\":\"#007bff\",\"icon\":{\"className\":\"fas fa-info-circle\",\"color\":\"white\",\"tagName\":\"i\"},\"type\":\"info\"}],\"kind\":null,\"name\":\"types\"}]},{\"extends\":null,\"module\":null,\"name\":\"Notification\",\"overrides\":[],\"properties\":[{\"default\":null,\"kind\":null,\"name\":\"background\"},{\"default\":3000,\"kind\":null,\"name\":\"duration\"},{\"default\":null,\"kind\":null,\"name\":\"icon\"},{\"default\":\"\",\"kind\":null,\"name\":\"message\"},{\"default\":null,\"kind\":null,\"name\":\"notification_type\"},{\"default\":false,\"kind\":null,\"name\":\"_destroyed\"}]},{\"extends\":null,\"module\":null,\"name\":\"TemplateActions1\",\"overrides\":[],\"properties\":[{\"default\":0,\"kind\":null,\"name\":\"open_modal\"},{\"default\":0,\"kind\":null,\"name\":\"close_modal\"}]},{\"extends\":null,\"module\":null,\"name\":\"MaterialTemplateActions1\",\"overrides\":[],\"properties\":[{\"default\":0,\"kind\":null,\"name\":\"open_modal\"},{\"default\":0,\"kind\":null,\"name\":\"close_modal\"}]}],\"roots\":{\"references\":[{\"attributes\":{},\"id\":\"2401\",\"type\":\"BasicTicker\"},{\"attributes\":{},\"id\":\"2420\",\"type\":\"AllLabels\"},{\"attributes\":{},\"id\":\"2406\",\"type\":\"WheelZoomTool\"},{\"attributes\":{\"mantissas\":[1,2,5],\"max_interval\":500.0,\"num_minor_ticks\":0},\"id\":\"2442\",\"type\":\"AdaptiveTicker\"},{\"attributes\":{\"line_color\":\"#fc4f30\",\"line_width\":2,\"x\":{\"field\":\"index\"},\"y\":{\"field\":\"predicted_mean\"}},\"id\":\"2460\",\"type\":\"Line\"},{\"attributes\":{\"line_color\":\"#fc4f30\",\"line_width\":2,\"x\":{\"field\":\"index\"},\"y\":{\"field\":\"predicted_mean\"}},\"id\":\"2490\",\"type\":\"Line\"},{\"attributes\":{\"coordinates\":null,\"data_source\":{\"id\":\"2457\"},\"glyph\":{\"id\":\"2460\"},\"group\":null,\"hover_glyph\":null,\"muted_glyph\":{\"id\":\"2462\"},\"nonselection_glyph\":{\"id\":\"2461\"},\"selection_glyph\":{\"id\":\"2490\"},\"view\":{\"id\":\"2464\"}},\"id\":\"2463\",\"type\":\"GlyphRenderer\"},{\"attributes\":{\"margin\":[5,5,5,5],\"name\":\"HSpacer03375\",\"sizing_mode\":\"stretch_width\"},\"id\":\"2382\",\"type\":\"Spacer\"},{\"attributes\":{\"children\":[{\"id\":\"2382\"},{\"id\":\"2387\"},{\"id\":\"2515\"}],\"margin\":[0,0,0,0],\"name\":\"Row03371\",\"tags\":[\"embedded\"]},\"id\":\"2381\",\"type\":\"Row\"},{\"attributes\":{\"line_alpha\":0.1,\"line_color\":\"#fc4f30\",\"line_width\":2,\"x\":{\"field\":\"index\"},\"y\":{\"field\":\"predicted_mean\"}},\"id\":\"2461\",\"type\":\"Line\"},{\"attributes\":{\"callback\":null,\"formatters\":{\"@{date}\":\"datetime\"},\"renderers\":[{\"id\":\"2430\"}],\"tags\":[\"hv_created\"],\"tooltips\":[[\"date\",\"@{date}{%F %T}\"],[\"users\",\"@{users}\"]]},\"id\":\"2385\",\"type\":\"HoverTool\"},{\"attributes\":{},\"id\":\"2404\",\"type\":\"SaveTool\"},{\"attributes\":{},\"id\":\"2422\",\"type\":\"BasicTickFormatter\"},{\"attributes\":{\"base\":60,\"mantissas\":[1,2,5,10,15,20,30],\"max_interval\":1800000.0,\"min_interval\":1000.0,\"num_minor_ticks\":0},\"id\":\"2443\",\"type\":\"AdaptiveTicker\"},{\"attributes\":{\"end\":3566.300322629698,\"reset_end\":3566.300322629698,\"reset_start\":-179.1182111481544,\"start\":-179.1182111481544,\"tags\":[[[\"users\",\"users\",null]]]},\"id\":\"2384\",\"type\":\"Range1d\"},{\"attributes\":{\"line_alpha\":0.2,\"line_color\":\"#fc4f30\",\"line_width\":2,\"x\":{\"field\":\"index\"},\"y\":{\"field\":\"predicted_mean\"}},\"id\":\"2462\",\"type\":\"Line\"},{\"attributes\":{\"overlay\":{\"id\":\"2409\"}},\"id\":\"2407\",\"type\":\"BoxZoomTool\"},{\"attributes\":{\"base\":24,\"mantissas\":[1,2,4,6,8,12],\"max_interval\":43200000.0,\"min_interval\":3600000.0,\"num_minor_ticks\":0},\"id\":\"2444\",\"type\":\"AdaptiveTicker\"},{\"attributes\":{},\"id\":\"2408\",\"type\":\"ResetTool\"},{\"attributes\":{\"months\":[0,1,2,3,4,5,6,7,8,9,10,11]},\"id\":\"2449\",\"type\":\"MonthsTicker\"},{\"attributes\":{\"source\":{\"id\":\"2457\"}},\"id\":\"2464\",\"type\":\"CDSView\"},{\"attributes\":{\"margin\":[5,5,5,5],\"name\":\"HSpacer03376\",\"sizing_mode\":\"stretch_width\"},\"id\":\"2515\",\"type\":\"Spacer\"},{\"attributes\":{\"days\":[1,15]},\"id\":\"2448\",\"type\":\"DaysTicker\"},{\"attributes\":{\"days\":[1,2,3,4,5,6,7,8,9,10,11,12,13,14,15,16,17,18,19,20,21,22,23,24,25,26,27,28,29,30,31]},\"id\":\"2445\",\"type\":\"DaysTicker\"},{\"attributes\":{\"bottom_units\":\"screen\",\"coordinates\":null,\"fill_alpha\":0.5,\"fill_color\":\"lightgrey\",\"group\":null,\"left_units\":\"screen\",\"level\":\"overlay\",\"line_alpha\":1.0,\"line_color\":\"black\",\"line_dash\":[4,4],\"line_width\":2,\"right_units\":\"screen\",\"syncable\":false,\"top_units\":\"screen\"},\"id\":\"2409\",\"type\":\"BoxAnnotation\"},{\"attributes\":{\"label\":{\"value\":\"predicci\\u00f3n\"},\"renderers\":[{\"id\":\"2463\"}]},\"id\":\"2489\",\"type\":\"LegendItem\"},{\"attributes\":{\"days\":[1,4,7,10,13,16,19,22,25,28]},\"id\":\"2446\",\"type\":\"DaysTicker\"},{\"attributes\":{},\"id\":\"2453\",\"type\":\"YearsTicker\"},{\"attributes\":{},\"id\":\"2423\",\"type\":\"AllLabels\"},{\"attributes\":{},\"id\":\"2419\",\"type\":\"DatetimeTickFormatter\"},{\"attributes\":{\"days\":[1,8,15,22]},\"id\":\"2447\",\"type\":\"DaysTicker\"},{\"attributes\":{\"months\":[0,6]},\"id\":\"2452\",\"type\":\"MonthsTicker\"},{\"attributes\":{},\"id\":\"2474\",\"type\":\"UnionRenderers\"},{\"attributes\":{\"months\":[0,2,4,6,8,10]},\"id\":\"2450\",\"type\":\"MonthsTicker\"},{\"attributes\":{\"months\":[0,4,8]},\"id\":\"2451\",\"type\":\"MonthsTicker\"},{\"attributes\":{},\"id\":\"2439\",\"type\":\"UnionRenderers\"},{\"attributes\":{\"line_alpha\":0.1,\"line_color\":\"#30a2da\",\"line_width\":2,\"x\":{\"field\":\"date\"},\"y\":{\"field\":\"users\"}},\"id\":\"2428\",\"type\":\"Line\"},{\"attributes\":{},\"id\":\"2425\",\"type\":\"Selection\"},{\"attributes\":{\"source\":{\"id\":\"2424\"}},\"id\":\"2431\",\"type\":\"CDSView\"},{\"attributes\":{\"callback\":null,\"formatters\":{\"@{index}\":\"datetime\"},\"renderers\":[{\"id\":\"2463\"}],\"tags\":[\"hv_created\"],\"tooltips\":[[\"index\",\"@{index}{%F %T}\"],[\"predicted_mean\",\"@{predicted_mean}\"]]},\"id\":\"2386\",\"type\":\"HoverTool\"},{\"attributes\":{\"coordinates\":null,\"data_source\":{\"id\":\"2424\"},\"glyph\":{\"id\":\"2427\"},\"group\":null,\"hover_glyph\":null,\"muted_glyph\":{\"id\":\"2429\"},\"nonselection_glyph\":{\"id\":\"2428\"},\"selection_glyph\":{\"id\":\"2456\"},\"view\":{\"id\":\"2431\"}},\"id\":\"2430\",\"type\":\"GlyphRenderer\"},{\"attributes\":{\"label\":{\"value\":\"test\"},\"renderers\":[{\"id\":\"2430\"}]},\"id\":\"2455\",\"type\":\"LegendItem\"},{\"attributes\":{\"data\":{\"index\":{\"__ndarray__\":\"AADA1/Wld0IAAIA9SKZ3QgAAQKOapndCAAAACe2md0IAAMBuP6d3QgAAgNSRp3dCAABAOuSnd0IAAACgNqh3QgAAwAWJqHdCAACAa9uod0IAAEDRLal3QgAAADeAqXdCAADAnNKpd0IAAIACJap3QgAAQGh3qndCAAAAzsmqd0IAAMAzHKt3QgAAgJluq3dCAABA/8Crd0IAAABlE6x3QgAAwMplrHdCAACAMLisd0IAAECWCq13QgAAAPxcrXdCAADAYa+td0IAAIDHAa53QgAAQC1UrndCAAAAk6aud0IAAMD4+K53QgAAgF5Lr3dCAABAxJ2vd0IAAAAq8K93QgAAwI9CsHdCAACA9ZSwd0IAAEBb57B3QgAAAME5sXdCAADAJoyxd0IAAICM3rF3QgAAQPIwsndCAAAAWIOyd0IAAMC91bJ3QgAAgCMos3dCAABAiXqzd0IAAADvzLN3QgAAwFQftHdCAACAunG0d0IAAEAgxLR3QgAAAIYWtXdCAADA62i1d0IAAIBRu7V3QgAAQLcNtndCAAAAHWC2d0IAAMCCsrZ3QgAAgOgEt3dCAABATle3d0IAAAC0qbd3Qg==\",\"dtype\":\"float64\",\"order\":\"little\",\"shape\":[56]},\"predicted_mean\":{\"__ndarray__\":\"6+DilSu+qEDngjhC7ESnQHTx2gULdqFAkE6Y/sw1n0DI+X25xD2nQCKJKWmjZKlA6VK3PV1sqUCWpJ2IhdulQMApEnCc8qNArt08NdjznEBSqQMeHuWaQATPDjDj4KNAoj6HZKKDpkAVUpnLza6mQPU5bwDoK6dANge1oHgIpUCgWW7W8s+eQAW5GxzQ7JpA9q7bBhe/pEAuNxrk2o+nQLh5xKugeKhAovSruRt7okD4G33x7DWgQEjR2iAz/5ZAAG6OCuLxk0AmWeBsrLygQO+efxJ1CqJAQYVKVXrCokBd1ffAg+yhQLmYyJq/XqJAYryXrKHzmEBgUTYvGEuVQFO/PtqcdKFAm+vBBOrSokAzRup3LzqhQEmHzDfUh6NA7eDi3jTqoEB/14cxdyCXQGwTM7nDm4JA9uHaL79ZoUCZGoCUpz6jQFxgWBJqgKNAhy41nqoboUCWOvpQFYqdQNKvhXA8QpZA4fBLlviGkUD//vyGK+ObQKCCrw51haBAeW16SGpwoEBxui9QC6ajQJHWeWXHMqFAFSi3aZGDmUBzsoxn7xOXQF0fqjsaIJ9AQK4MrFANokC6vLVvBqSjQA==\",\"dtype\":\"float64\",\"order\":\"little\",\"shape\":[56]}},\"selected\":{\"id\":\"2458\"},\"selection_policy\":{\"id\":\"2474\"}},\"id\":\"2457\",\"type\":\"ColumnDataSource\"},{\"attributes\":{\"end\":1629849600000.0,\"reset_end\":1629849600000.0,\"reset_start\":1625097600000.0,\"start\":1625097600000.0,\"tags\":[[[\"date\",\"date\",null]]]},\"id\":\"2383\",\"type\":\"Range1d\"},{\"attributes\":{\"below\":[{\"id\":\"2396\"}],\"center\":[{\"id\":\"2399\"},{\"id\":\"2403\"},{\"id\":\"2454\"}],\"height\":300,\"left\":[{\"id\":\"2400\"}],\"margin\":[5,5,5,5],\"min_border_bottom\":10,\"min_border_left\":10,\"min_border_right\":10,\"min_border_top\":10,\"renderers\":[{\"id\":\"2430\"},{\"id\":\"2463\"}],\"sizing_mode\":\"fixed\",\"title\":{\"id\":\"2388\"},\"toolbar\":{\"id\":\"2410\"},\"width\":700,\"x_range\":{\"id\":\"2383\"},\"x_scale\":{\"id\":\"2392\"},\"y_range\":{\"id\":\"2384\"},\"y_scale\":{\"id\":\"2394\"}},\"id\":\"2387\",\"subtype\":\"Figure\",\"type\":\"Plot\"},{\"attributes\":{\"line_alpha\":0.2,\"line_color\":\"#30a2da\",\"line_width\":2,\"x\":{\"field\":\"date\"},\"y\":{\"field\":\"users\"}},\"id\":\"2429\",\"type\":\"Line\"},{\"attributes\":{\"click_policy\":\"mute\",\"coordinates\":null,\"group\":null,\"items\":[{\"id\":\"2455\"},{\"id\":\"2489\"}],\"location\":\"bottom_left\"},\"id\":\"2454\",\"type\":\"Legend\"},{\"attributes\":{},\"id\":\"2392\",\"type\":\"LinearScale\"},{\"attributes\":{\"data\":{\"date\":{\"__ndarray__\":\"AADA1/Wld0IAAIA9SKZ3QgAAQKOapndCAAAACe2md0IAAMBuP6d3QgAAgNSRp3dCAABAOuSnd0IAAACgNqh3QgAAwAWJqHdCAACAa9uod0IAAEDRLal3QgAAADeAqXdCAADAnNKpd0IAAIACJap3QgAAQGh3qndCAAAAzsmqd0IAAMAzHKt3QgAAgJluq3dCAABA/8Crd0IAAABlE6x3QgAAwMplrHdCAACAMLisd0IAAECWCq13QgAAAPxcrXdCAADAYa+td0IAAIDHAa53QgAAQC1UrndCAAAAk6aud0IAAMD4+K53QgAAgF5Lr3dCAABAxJ2vd0IAAAAq8K93QgAAwI9CsHdCAACA9ZSwd0IAAEBb57B3QgAAAME5sXdCAADAJoyxd0IAAICM3rF3QgAAQPIwsndCAAAAWIOyd0IAAMC91bJ3QgAAgCMos3dCAABAiXqzd0IAAADvzLN3QgAAwFQftHdCAACAunG0d0IAAEAgxLR3QgAAAIYWtXdCAADA62i1d0IAAIBRu7V3QgAAQLcNtndCAAAAHWC2d0IAAMCCsrZ3QgAAgOgEt3dCAABATle3d0IAAAC0qbd3Qg==\",\"dtype\":\"float64\",\"order\":\"little\",\"shape\":[56]},\"users\":[3123,2870,2020,1828,2722,2991,2976,2834,2609,1832,1462,2563,2897,3057,2697,2391,1730,1434,2455,2508,2563,2447,2543,1714,1415,2407,2587,2314,2465,2088,1535,133,2146,2266,2330,2323,2003,1406,1239,1989,2268,2249,2322,2098,1477,1308,1920,2219,2482,2345,2185,1546,1393,2371,2547,2448]},\"selected\":{\"id\":\"2425\"},\"selection_policy\":{\"id\":\"2439\"}},\"id\":\"2424\",\"type\":\"ColumnDataSource\"},{\"attributes\":{\"axis_label\":\"users\",\"coordinates\":null,\"formatter\":{\"id\":\"2422\"},\"group\":null,\"major_label_policy\":{\"id\":\"2423\"},\"ticker\":{\"id\":\"2401\"}},\"id\":\"2400\",\"type\":\"LinearAxis\"},{\"attributes\":{\"tools\":[{\"id\":\"2385\"},{\"id\":\"2386\"},{\"id\":\"2404\"},{\"id\":\"2405\"},{\"id\":\"2406\"},{\"id\":\"2407\"},{\"id\":\"2408\"}]},\"id\":\"2410\",\"type\":\"Toolbar\"},{\"attributes\":{\"line_color\":\"#30a2da\",\"line_width\":2,\"x\":{\"field\":\"date\"},\"y\":{\"field\":\"users\"}},\"id\":\"2427\",\"type\":\"Line\"},{\"attributes\":{\"coordinates\":null,\"group\":null,\"text\":\"Predicci\\u00f3n (ARIMA) vs vistas reales\",\"text_color\":\"black\",\"text_font_size\":\"12pt\"},\"id\":\"2388\",\"type\":\"Title\"},{\"attributes\":{},\"id\":\"2405\",\"type\":\"PanTool\"},{\"attributes\":{\"line_color\":\"#30a2da\",\"line_width\":2,\"x\":{\"field\":\"date\"},\"y\":{\"field\":\"users\"}},\"id\":\"2456\",\"type\":\"Line\"},{\"attributes\":{\"axis\":{\"id\":\"2396\"},\"coordinates\":null,\"grid_line_color\":null,\"group\":null,\"ticker\":null},\"id\":\"2399\",\"type\":\"Grid\"},{\"attributes\":{},\"id\":\"2458\",\"type\":\"Selection\"},{\"attributes\":{\"axis_label\":\"date\",\"coordinates\":null,\"formatter\":{\"id\":\"2419\"},\"group\":null,\"major_label_policy\":{\"id\":\"2420\"},\"ticker\":{\"id\":\"2397\"}},\"id\":\"2396\",\"type\":\"DatetimeAxis\"},{\"attributes\":{},\"id\":\"2394\",\"type\":\"LinearScale\"},{\"attributes\":{\"num_minor_ticks\":5,\"tickers\":[{\"id\":\"2442\"},{\"id\":\"2443\"},{\"id\":\"2444\"},{\"id\":\"2445\"},{\"id\":\"2446\"},{\"id\":\"2447\"},{\"id\":\"2448\"},{\"id\":\"2449\"},{\"id\":\"2450\"},{\"id\":\"2451\"},{\"id\":\"2452\"},{\"id\":\"2453\"}]},\"id\":\"2397\",\"type\":\"DatetimeTicker\"},{\"attributes\":{\"axis\":{\"id\":\"2400\"},\"coordinates\":null,\"dimension\":1,\"grid_line_color\":null,\"group\":null,\"ticker\":null},\"id\":\"2403\",\"type\":\"Grid\"}],\"root_ids\":[\"2381\"]},\"title\":\"Bokeh Application\",\"version\":\"2.4.3\"}};\n",
       "    var render_items = [{\"docid\":\"3625c43f-cb8c-424f-aa74-75b09179fbd9\",\"root_ids\":[\"2381\"],\"roots\":{\"2381\":\"9b845f15-c351-41ef-9054-1987daad5660\"}}];\n",
       "    root.Bokeh.embed.embed_items_notebook(docs_json, render_items);\n",
       "  }\n",
       "  if (root.Bokeh !== undefined && root.Bokeh.Panel !== undefined) {\n",
       "    embed_document(root);\n",
       "  } else {\n",
       "    var attempts = 0;\n",
       "    var timer = setInterval(function(root) {\n",
       "      if (root.Bokeh !== undefined && root.Bokeh.Panel !== undefined) {\n",
       "        clearInterval(timer);\n",
       "        embed_document(root);\n",
       "      } else if (document.readyState == \"complete\") {\n",
       "        attempts++;\n",
       "        if (attempts > 200) {\n",
       "          clearInterval(timer);\n",
       "          console.log(\"Bokeh: ERROR: Unable to run BokehJS code because BokehJS library is missing\");\n",
       "        }\n",
       "      }\n",
       "    }, 25, root)\n",
       "  }\n",
       "})(window);</script>"
      ],
      "text/plain": [
       ":Overlay\n",
       "   .Curve.Test       :Curve   [date]   (users)\n",
       "   .Curve.Predicción :Curve   [index]   (predicted_mean)"
      ]
     },
     "execution_count": 21,
     "metadata": {
      "application/vnd.holoviews_exec.v0+json": {
       "id": "2381"
      }
     },
     "output_type": "execute_result"
    }
   ],
   "source": [
    "# fig, ax = plt.subplots(figsize=(10, 3))\n",
    "# datos_test.loc[predicciones.index, 'users'].plot(linewidth=2, label='test', ax=ax)\n",
    "# predicciones.plot(linewidth=2, label='predicción', ax=ax)\n",
    "# ax.set_title('Predicción (ARIMA) vs vistas reales')\n",
    "# ax.legend();\n",
    "\n",
    "plot_test = datos_test.users.hvplot.line(label='test')\n",
    "plot_predict = predicciones['predicted_mean'].hvplot.line(label='predicción')\n",
    "layout = plot_test * plot_predict\n",
    "layout = layout.opts(\n",
    "             title = 'Predicción (ARIMA) vs vistas reales',\n",
    "             ylabel = 'users',\n",
    "             legend_position = 'bottom_left'\n",
    "         )\n",
    "layout"
   ]
  },
  {
   "cell_type": "markdown",
   "metadata": {},
   "source": [
    "### Optimización de hiperparámetros (*tuning*)\n",
    "<br>\n",
    "\n",
    "Al igual que la mayoría de modelos, ARIMA tienen una serie de hiperparámetros que controlan su comportamiento:\n",
    "\n",
    "+ p: número de lags incluidos como predictores en el modelo autoregresivo.\n",
    "\n",
    "+ d: número de veces que se diferencian los datos, esto es el número de veces que a cada valor se le resta el valor anterior.\n",
    "\n",
    "+ q: tamaño de ventana para la media móvil.\n",
    "\n",
    "En la implementación de statsmodels, estos hiperparámetros se indican a través del argumento `order`. Dos buenas referencias para conocer más detalles de los modelos ARIMA son:  https://openforecast.org/adam/ARIMA.html y https://otexts.com/fpp3/arima.html.\n",
    "\n",
    "\n",
    "Con la función `grid_search_sarimax` se puede realizar una búsqueda de hiperparámetros comparando los modelos acorde a una métrica obtenida por validación cruzada o backtesting, o por las métricas aic y bic. "
   ]
  },
  {
   "cell_type": "code",
   "execution_count": 22,
   "metadata": {},
   "outputs": [
    {
     "name": "stderr",
     "output_type": "stream",
     "text": [
      "root       INFO  Number of models compared: 10\n",
      "100%|█████████████████████████████████████████████████████| 10/10 [01:35<00:00,  9.57s/it]\n"
     ]
    },
    {
     "data": {
      "text/html": [
       "<div>\n",
       "<style scoped>\n",
       "    .dataframe tbody tr th:only-of-type {\n",
       "        vertical-align: middle;\n",
       "    }\n",
       "\n",
       "    .dataframe tbody tr th {\n",
       "        vertical-align: top;\n",
       "    }\n",
       "\n",
       "    .dataframe thead th {\n",
       "        text-align: right;\n",
       "    }\n",
       "</style>\n",
       "<table border=\"1\" class=\"dataframe\">\n",
       "  <thead>\n",
       "    <tr style=\"text-align: right;\">\n",
       "      <th></th>\n",
       "      <th>params</th>\n",
       "      <th>metric</th>\n",
       "      <th>order</th>\n",
       "      <th>seasonal_order</th>\n",
       "      <th>trend</th>\n",
       "    </tr>\n",
       "  </thead>\n",
       "  <tbody>\n",
       "    <tr>\n",
       "      <th>8</th>\n",
       "      <td>{'order': (21, 1, 1), 'seasonal_order': (0, 0,...</td>\n",
       "      <td>181.326152</td>\n",
       "      <td>(21, 1, 1)</td>\n",
       "      <td>(0, 0, 0, 0)</td>\n",
       "      <td>None</td>\n",
       "    </tr>\n",
       "    <tr>\n",
       "      <th>7</th>\n",
       "      <td>{'order': (21, 1, 0), 'seasonal_order': (0, 0,...</td>\n",
       "      <td>182.100677</td>\n",
       "      <td>(21, 1, 0)</td>\n",
       "      <td>(0, 0, 0, 0)</td>\n",
       "      <td>None</td>\n",
       "    </tr>\n",
       "    <tr>\n",
       "      <th>5</th>\n",
       "      <td>{'order': (21, 0, 0), 'seasonal_order': (0, 0,...</td>\n",
       "      <td>185.579786</td>\n",
       "      <td>(21, 0, 0)</td>\n",
       "      <td>(0, 0, 0, 0)</td>\n",
       "      <td>None</td>\n",
       "    </tr>\n",
       "    <tr>\n",
       "      <th>6</th>\n",
       "      <td>{'order': (21, 0, 0), 'seasonal_order': (0, 0,...</td>\n",
       "      <td>185.579786</td>\n",
       "      <td>(21, 0, 0)</td>\n",
       "      <td>(0, 0, 0, 0)</td>\n",
       "      <td>None</td>\n",
       "    </tr>\n",
       "    <tr>\n",
       "      <th>3</th>\n",
       "      <td>{'order': (14, 1, 1), 'seasonal_order': (0, 0,...</td>\n",
       "      <td>193.904636</td>\n",
       "      <td>(14, 1, 1)</td>\n",
       "      <td>(0, 0, 0, 0)</td>\n",
       "      <td>None</td>\n",
       "    </tr>\n",
       "    <tr>\n",
       "      <th>2</th>\n",
       "      <td>{'order': (14, 1, 0), 'seasonal_order': (0, 0,...</td>\n",
       "      <td>194.076334</td>\n",
       "      <td>(14, 1, 0)</td>\n",
       "      <td>(0, 0, 0, 0)</td>\n",
       "      <td>None</td>\n",
       "    </tr>\n",
       "    <tr>\n",
       "      <th>1</th>\n",
       "      <td>{'order': (14, 2, 0), 'seasonal_order': (0, 0,...</td>\n",
       "      <td>201.139042</td>\n",
       "      <td>(14, 2, 0)</td>\n",
       "      <td>(0, 0, 0, 0)</td>\n",
       "      <td>None</td>\n",
       "    </tr>\n",
       "    <tr>\n",
       "      <th>9</th>\n",
       "      <td>{'order': (21, 1, 4), 'seasonal_order': (0, 0,...</td>\n",
       "      <td>203.223350</td>\n",
       "      <td>(21, 1, 4)</td>\n",
       "      <td>(0, 0, 0, 0)</td>\n",
       "      <td>None</td>\n",
       "    </tr>\n",
       "    <tr>\n",
       "      <th>0</th>\n",
       "      <td>{'order': (14, 0, 0), 'seasonal_order': (0, 0,...</td>\n",
       "      <td>212.031057</td>\n",
       "      <td>(14, 0, 0)</td>\n",
       "      <td>(0, 0, 0, 0)</td>\n",
       "      <td>None</td>\n",
       "    </tr>\n",
       "    <tr>\n",
       "      <th>4</th>\n",
       "      <td>{'order': (14, 1, 4), 'seasonal_order': (0, 0,...</td>\n",
       "      <td>218.778191</td>\n",
       "      <td>(14, 1, 4)</td>\n",
       "      <td>(0, 0, 0, 0)</td>\n",
       "      <td>None</td>\n",
       "    </tr>\n",
       "  </tbody>\n",
       "</table>\n",
       "</div>"
      ],
      "text/plain": [
       "                                              params      metric       order  \\\n",
       "8  {'order': (21, 1, 1), 'seasonal_order': (0, 0,...  181.326152  (21, 1, 1)   \n",
       "7  {'order': (21, 1, 0), 'seasonal_order': (0, 0,...  182.100677  (21, 1, 0)   \n",
       "5  {'order': (21, 0, 0), 'seasonal_order': (0, 0,...  185.579786  (21, 0, 0)   \n",
       "6  {'order': (21, 0, 0), 'seasonal_order': (0, 0,...  185.579786  (21, 0, 0)   \n",
       "3  {'order': (14, 1, 1), 'seasonal_order': (0, 0,...  193.904636  (14, 1, 1)   \n",
       "2  {'order': (14, 1, 0), 'seasonal_order': (0, 0,...  194.076334  (14, 1, 0)   \n",
       "1  {'order': (14, 2, 0), 'seasonal_order': (0, 0,...  201.139042  (14, 2, 0)   \n",
       "9  {'order': (21, 1, 4), 'seasonal_order': (0, 0,...  203.223350  (21, 1, 4)   \n",
       "0  {'order': (14, 0, 0), 'seasonal_order': (0, 0,...  212.031057  (14, 0, 0)   \n",
       "4  {'order': (14, 1, 4), 'seasonal_order': (0, 0,...  218.778191  (14, 1, 4)   \n",
       "\n",
       "  seasonal_order trend  \n",
       "8   (0, 0, 0, 0)  None  \n",
       "7   (0, 0, 0, 0)  None  \n",
       "5   (0, 0, 0, 0)  None  \n",
       "6   (0, 0, 0, 0)  None  \n",
       "3   (0, 0, 0, 0)  None  \n",
       "2   (0, 0, 0, 0)  None  \n",
       "1   (0, 0, 0, 0)  None  \n",
       "9   (0, 0, 0, 0)  None  \n",
       "0   (0, 0, 0, 0)  None  \n",
       "4   (0, 0, 0, 0)  None  "
      ]
     },
     "execution_count": 22,
     "metadata": {},
     "output_type": "execute_result"
    }
   ],
   "source": [
    "# Grid search de hiperparámetros\n",
    "# ==============================================================================\n",
    "param_grid = {'order': [(14, 0, 0), (14, 2, 0), (14, 1, 0), (14, 1, 1), (14, 1, 4),\n",
    "                        (21, 0, 0), (21, 0, 0), (21, 1, 0), (21, 1, 1), (21, 1, 4)]}\n",
    "\n",
    "results = grid_search_sarimax(\n",
    "              y       = datos.users,\n",
    "              param_grid = param_grid,\n",
    "              initial_train_size = len(datos.loc[:fin_validacion]),\n",
    "              steps   = 7,\n",
    "              metric  = 'mean_absolute_error',\n",
    "              refit   = False,\n",
    "              verbose = False,\n",
    "              fit_kwargs = {'maxiter': 200, 'disp': 0}\n",
    "          )\n",
    "\n",
    "results"
   ]
  },
  {
   "cell_type": "code",
   "execution_count": 23,
   "metadata": {},
   "outputs": [
    {
     "name": "stdout",
     "output_type": "stream",
     "text": [
      "Number of observations used for training: 365\n",
      "Number of observations used for backtesting: 56\n",
      "    Number of folds: 8\n",
      "    Number of steps per fold: 7\n",
      "Error backtest: 181.3261523871715\n"
     ]
    }
   ],
   "source": [
    "# Backtest modelo final\n",
    "# ==============================================================================\n",
    "metrica, predicciones = backtesting_sarimax(\n",
    "                            y                  = datos.users,\n",
    "                            order              = (21, 1, 1),\n",
    "                            seasonal_order     = (0, 0, 0, 0),\n",
    "                            initial_train_size = len(datos.loc[:fin_validacion]),\n",
    "                            steps              = 7,\n",
    "                            metric             = 'mean_absolute_error',\n",
    "                            refit              = False,\n",
    "                            fixed_train_size   = False,\n",
    "                            verbose            = True,\n",
    "                            fit_kwargs         = {'maxiter': 250, 'disp': 0}\n",
    "                        )\n",
    "\n",
    "print(f'Error backtest: {metrica}')"
   ]
  },
  {
   "cell_type": "markdown",
   "metadata": {},
   "source": [
    "## Forecasting con variables exógenas\n",
    "<br>\n",
    "\n",
    "En el ejemplo anterior, se han utilizado como predictores únicamente lags de la propia variable objetivo. En ciertos escenarios, es posible disponer de información sobre otras variables, **cuyo valor a futuro se conoce**, y que pueden servir como predictores adicionales en el modelo. Algunos ejemplos típicos son:\n",
    "\n",
    "+ Festivos (local, nacional...)\n",
    "\n",
    "+ Mes del año\n",
    "\n",
    "+ Día de la semana\n",
    "\n",
    "+ Hora del día\n",
    "\n",
    "En este caso de uso, el análisis gráfico mostraba evidencias de que, los fines de semana, el número de visitas a la web se reduce. El día de la semana al que corresponde cada fecha puede saberse a futuro, por lo que se puede emplear como variable exógena. Véase cómo afecta a los modelos si se incluye como predictor está información."
   ]
  },
  {
   "cell_type": "code",
   "execution_count": 24,
   "metadata": {},
   "outputs": [
    {
     "data": {
      "text/html": [
       "<div>\n",
       "<style scoped>\n",
       "    .dataframe tbody tr th:only-of-type {\n",
       "        vertical-align: middle;\n",
       "    }\n",
       "\n",
       "    .dataframe tbody tr th {\n",
       "        vertical-align: top;\n",
       "    }\n",
       "\n",
       "    .dataframe thead th {\n",
       "        text-align: right;\n",
       "    }\n",
       "</style>\n",
       "<table border=\"1\" class=\"dataframe\">\n",
       "  <thead>\n",
       "    <tr style=\"text-align: right;\">\n",
       "      <th></th>\n",
       "      <th>users</th>\n",
       "      <th>dia_semana_1</th>\n",
       "      <th>dia_semana_2</th>\n",
       "      <th>dia_semana_3</th>\n",
       "      <th>dia_semana_4</th>\n",
       "      <th>dia_semana_5</th>\n",
       "      <th>dia_semana_6</th>\n",
       "      <th>dia_semana_7</th>\n",
       "    </tr>\n",
       "    <tr>\n",
       "      <th>date</th>\n",
       "      <th></th>\n",
       "      <th></th>\n",
       "      <th></th>\n",
       "      <th></th>\n",
       "      <th></th>\n",
       "      <th></th>\n",
       "      <th></th>\n",
       "      <th></th>\n",
       "    </tr>\n",
       "  </thead>\n",
       "  <tbody>\n",
       "    <tr>\n",
       "      <th>2020-07-01</th>\n",
       "      <td>2324</td>\n",
       "      <td>0</td>\n",
       "      <td>0</td>\n",
       "      <td>1</td>\n",
       "      <td>0</td>\n",
       "      <td>0</td>\n",
       "      <td>0</td>\n",
       "      <td>0</td>\n",
       "    </tr>\n",
       "    <tr>\n",
       "      <th>2020-07-02</th>\n",
       "      <td>2201</td>\n",
       "      <td>0</td>\n",
       "      <td>0</td>\n",
       "      <td>0</td>\n",
       "      <td>1</td>\n",
       "      <td>0</td>\n",
       "      <td>0</td>\n",
       "      <td>0</td>\n",
       "    </tr>\n",
       "    <tr>\n",
       "      <th>2020-07-03</th>\n",
       "      <td>2146</td>\n",
       "      <td>0</td>\n",
       "      <td>0</td>\n",
       "      <td>0</td>\n",
       "      <td>0</td>\n",
       "      <td>1</td>\n",
       "      <td>0</td>\n",
       "      <td>0</td>\n",
       "    </tr>\n",
       "  </tbody>\n",
       "</table>\n",
       "</div>"
      ],
      "text/plain": [
       "            users  dia_semana_1  dia_semana_2  dia_semana_3  dia_semana_4  \\\n",
       "date                                                                        \n",
       "2020-07-01   2324             0             0             1             0   \n",
       "2020-07-02   2201             0             0             0             1   \n",
       "2020-07-03   2146             0             0             0             0   \n",
       "\n",
       "            dia_semana_5  dia_semana_6  dia_semana_7  \n",
       "date                                                  \n",
       "2020-07-01             0             0             0  \n",
       "2020-07-02             0             0             0  \n",
       "2020-07-03             1             0             0  "
      ]
     },
     "execution_count": 24,
     "metadata": {},
     "output_type": "execute_result"
    }
   ],
   "source": [
    "# Creación de nuevas variables exógenas\n",
    "# ==============================================================================\n",
    "datos=datos.drop(columns=['mes', 'dia_mes'])\n",
    "# One hot encoding del día de la semana y la hora del día\n",
    "datos=pd.get_dummies(datos, columns=['dia_semana'])\n",
    "datos.head(3)"
   ]
  },
  {
   "cell_type": "code",
   "execution_count": 25,
   "metadata": {},
   "outputs": [],
   "source": [
    "# Separación datos train-test\n",
    "# ==============================================================================\n",
    "datos_train = datos.loc[: fin_train, :]\n",
    "datos_val   = datos.loc[fin_train:fin_validacion, :]\n",
    "datos_test  = datos.loc[fin_validacion:, :]"
   ]
  },
  {
   "cell_type": "markdown",
   "metadata": {},
   "source": [
    "### ForecasterAutoreg"
   ]
  },
  {
   "cell_type": "code",
   "execution_count": 26,
   "metadata": {},
   "outputs": [
    {
     "name": "stdout",
     "output_type": "stream",
     "text": [
      "Information of backtesting process\n",
      "----------------------------------\n",
      "Number of observations used for initial training: 365\n",
      "Number of observations used for backtesting: 56\n",
      "    Number of folds: 8\n",
      "    Number of steps per fold: 7\n",
      "\n",
      "Data partition in fold: 0\n",
      "    Training:   2020-07-01 00:00:00 -- 2021-06-30 00:00:00  (n=365)\n",
      "    Validation: 2021-07-01 00:00:00 -- 2021-07-07 00:00:00  (n=7)\n",
      "Data partition in fold: 1\n",
      "    Training:   2020-07-01 00:00:00 -- 2021-06-30 00:00:00  (n=365)\n",
      "    Validation: 2021-07-08 00:00:00 -- 2021-07-14 00:00:00  (n=7)\n",
      "Data partition in fold: 2\n",
      "    Training:   2020-07-01 00:00:00 -- 2021-06-30 00:00:00  (n=365)\n",
      "    Validation: 2021-07-15 00:00:00 -- 2021-07-21 00:00:00  (n=7)\n",
      "Data partition in fold: 3\n",
      "    Training:   2020-07-01 00:00:00 -- 2021-06-30 00:00:00  (n=365)\n",
      "    Validation: 2021-07-22 00:00:00 -- 2021-07-28 00:00:00  (n=7)\n",
      "Data partition in fold: 4\n",
      "    Training:   2020-07-01 00:00:00 -- 2021-06-30 00:00:00  (n=365)\n",
      "    Validation: 2021-07-29 00:00:00 -- 2021-08-04 00:00:00  (n=7)\n",
      "Data partition in fold: 5\n",
      "    Training:   2020-07-01 00:00:00 -- 2021-06-30 00:00:00  (n=365)\n",
      "    Validation: 2021-08-05 00:00:00 -- 2021-08-11 00:00:00  (n=7)\n",
      "Data partition in fold: 6\n",
      "    Training:   2020-07-01 00:00:00 -- 2021-06-30 00:00:00  (n=365)\n",
      "    Validation: 2021-08-12 00:00:00 -- 2021-08-18 00:00:00  (n=7)\n",
      "Data partition in fold: 7\n",
      "    Training:   2020-07-01 00:00:00 -- 2021-06-30 00:00:00  (n=365)\n",
      "    Validation: 2021-08-19 00:00:00 -- 2021-08-25 00:00:00  (n=7)\n",
      "\n",
      "Error backtest: 195.88868349491983\n"
     ]
    },
    {
     "data": {
      "text/html": [
       "<div>\n",
       "<style scoped>\n",
       "    .dataframe tbody tr th:only-of-type {\n",
       "        vertical-align: middle;\n",
       "    }\n",
       "\n",
       "    .dataframe tbody tr th {\n",
       "        vertical-align: top;\n",
       "    }\n",
       "\n",
       "    .dataframe thead th {\n",
       "        text-align: right;\n",
       "    }\n",
       "</style>\n",
       "<table border=\"1\" class=\"dataframe\">\n",
       "  <thead>\n",
       "    <tr style=\"text-align: right;\">\n",
       "      <th></th>\n",
       "      <th>pred</th>\n",
       "    </tr>\n",
       "  </thead>\n",
       "  <tbody>\n",
       "    <tr>\n",
       "      <th>2021-07-01</th>\n",
       "      <td>3286.890749</td>\n",
       "    </tr>\n",
       "    <tr>\n",
       "      <th>2021-07-02</th>\n",
       "      <td>3021.079567</td>\n",
       "    </tr>\n",
       "    <tr>\n",
       "      <th>2021-07-03</th>\n",
       "      <td>2256.401254</td>\n",
       "    </tr>\n",
       "    <tr>\n",
       "      <th>2021-07-04</th>\n",
       "      <td>1985.650262</td>\n",
       "    </tr>\n",
       "    <tr>\n",
       "      <th>2021-07-05</th>\n",
       "      <td>3039.877224</td>\n",
       "    </tr>\n",
       "  </tbody>\n",
       "</table>\n",
       "</div>"
      ],
      "text/plain": [
       "                   pred\n",
       "2021-07-01  3286.890749\n",
       "2021-07-02  3021.079567\n",
       "2021-07-03  2256.401254\n",
       "2021-07-04  1985.650262\n",
       "2021-07-05  3039.877224"
      ]
     },
     "execution_count": 26,
     "metadata": {},
     "output_type": "execute_result"
    }
   ],
   "source": [
    "# Crear y entrenar forecaster\n",
    "# ==============================================================================\n",
    "forecaster = ForecasterAutoreg(\n",
    "                 regressor     = Ridge(alpha=2.15, random_state=123),\n",
    "                 lags          = 14,\n",
    "                 transformer_y = StandardScaler()\n",
    "             )\n",
    "\n",
    "col_exog = [column for column in datos.columns if column.startswith(('dia'))]\n",
    "forecaster.fit(y=datos_train.users, exog=datos_train[col_exog])\n",
    "\n",
    "# Backtest modelo con variables exógenas\n",
    "# ==============================================================================\n",
    "metrica, predicciones = backtesting_forecaster(\n",
    "                            forecaster         = forecaster,\n",
    "                            y                  = datos.users,\n",
    "                            exog               = datos[col_exog],\n",
    "                            initial_train_size = len(datos.loc[:fin_validacion, :]),\n",
    "                            steps              = 7,\n",
    "                            metric             = 'mean_absolute_error',\n",
    "                            refit              = False,\n",
    "                            fixed_train_size   = False,\n",
    "                            verbose            = True\n",
    "                        )\n",
    "\n",
    "print(f'Error backtest: {metrica}')\n",
    "predicciones.head(5)"
   ]
  },
  {
   "cell_type": "markdown",
   "metadata": {},
   "source": [
    "### ARIMA"
   ]
  },
  {
   "cell_type": "code",
   "execution_count": 27,
   "metadata": {},
   "outputs": [
    {
     "name": "stdout",
     "output_type": "stream",
     "text": [
      "Number of observations used for training: 365\n",
      "Number of observations used for backtesting: 56\n",
      "    Number of folds: 8\n",
      "    Number of steps per fold: 7\n",
      "Error backtest: 181.33787764919785\n"
     ]
    },
    {
     "data": {
      "text/html": [
       "<div>\n",
       "<style scoped>\n",
       "    .dataframe tbody tr th:only-of-type {\n",
       "        vertical-align: middle;\n",
       "    }\n",
       "\n",
       "    .dataframe tbody tr th {\n",
       "        vertical-align: top;\n",
       "    }\n",
       "\n",
       "    .dataframe thead th {\n",
       "        text-align: right;\n",
       "    }\n",
       "</style>\n",
       "<table border=\"1\" class=\"dataframe\">\n",
       "  <thead>\n",
       "    <tr style=\"text-align: right;\">\n",
       "      <th></th>\n",
       "      <th>predicted_mean</th>\n",
       "      <th>lower users</th>\n",
       "      <th>upper users</th>\n",
       "    </tr>\n",
       "  </thead>\n",
       "  <tbody>\n",
       "    <tr>\n",
       "      <th>2021-07-01</th>\n",
       "      <td>3190.625282</td>\n",
       "      <td>2708.197231</td>\n",
       "      <td>3673.053333</td>\n",
       "    </tr>\n",
       "    <tr>\n",
       "      <th>2021-07-02</th>\n",
       "      <td>2986.837645</td>\n",
       "      <td>2300.565222</td>\n",
       "      <td>3673.110069</td>\n",
       "    </tr>\n",
       "    <tr>\n",
       "      <th>2021-07-03</th>\n",
       "      <td>2208.817468</td>\n",
       "      <td>1427.201295</td>\n",
       "      <td>2990.433642</td>\n",
       "    </tr>\n",
       "    <tr>\n",
       "      <th>2021-07-04</th>\n",
       "      <td>1960.838156</td>\n",
       "      <td>1095.149075</td>\n",
       "      <td>2826.527237</td>\n",
       "    </tr>\n",
       "    <tr>\n",
       "      <th>2021-07-05</th>\n",
       "      <td>3021.327297</td>\n",
       "      <td>2082.260596</td>\n",
       "      <td>3960.393999</td>\n",
       "    </tr>\n",
       "  </tbody>\n",
       "</table>\n",
       "</div>"
      ],
      "text/plain": [
       "            predicted_mean  lower users  upper users\n",
       "2021-07-01     3190.625282  2708.197231  3673.053333\n",
       "2021-07-02     2986.837645  2300.565222  3673.110069\n",
       "2021-07-03     2208.817468  1427.201295  2990.433642\n",
       "2021-07-04     1960.838156  1095.149075  2826.527237\n",
       "2021-07-05     3021.327297  2082.260596  3960.393999"
      ]
     },
     "execution_count": 27,
     "metadata": {},
     "output_type": "execute_result"
    }
   ],
   "source": [
    "# Backtest modelo con variables exógenas\n",
    "# ==============================================================================\n",
    "metrica, predicciones = backtesting_sarimax(\n",
    "                            y                  = datos.users,\n",
    "                            exog               = datos[col_exog],\n",
    "                            order              = (21, 1, 1),\n",
    "                            seasonal_order     = (0, 0, 0, 0),\n",
    "                            initial_train_size = len(datos.loc[:fin_validacion]),\n",
    "                            steps              = 7,\n",
    "                            metric             = 'mean_absolute_error',\n",
    "                            refit              = False,\n",
    "                            fixed_train_size   = False,\n",
    "                            verbose            = True,\n",
    "                            fit_kwargs         = {'maxiter': 250, 'disp': 0},\n",
    "                        )\n",
    "\n",
    "print(f'Error backtest: {metrica}')\n",
    "predicciones.head(5)"
   ]
  },
  {
   "cell_type": "markdown",
   "metadata": {},
   "source": [
    "## Intervalos de predicción\n",
    "<br>\n",
    "\n",
    "Tanto la función `backtesting_forecaster` como `backtesting_sarimax` permiten obtener, además de las predicciones, sus intervalos."
   ]
  },
  {
   "cell_type": "code",
   "execution_count": 28,
   "metadata": {},
   "outputs": [
    {
     "name": "stdout",
     "output_type": "stream",
     "text": [
      "Number of observations used for training: 365\n",
      "Number of observations used for backtesting: 56\n",
      "    Number of folds: 8\n",
      "    Number of steps per fold: 7\n",
      "Error backtest: 181.33787764919785\n"
     ]
    },
    {
     "data": {
      "text/html": [
       "<div>\n",
       "<style scoped>\n",
       "    .dataframe tbody tr th:only-of-type {\n",
       "        vertical-align: middle;\n",
       "    }\n",
       "\n",
       "    .dataframe tbody tr th {\n",
       "        vertical-align: top;\n",
       "    }\n",
       "\n",
       "    .dataframe thead th {\n",
       "        text-align: right;\n",
       "    }\n",
       "</style>\n",
       "<table border=\"1\" class=\"dataframe\">\n",
       "  <thead>\n",
       "    <tr style=\"text-align: right;\">\n",
       "      <th></th>\n",
       "      <th>predicted_mean</th>\n",
       "      <th>lower users</th>\n",
       "      <th>upper users</th>\n",
       "    </tr>\n",
       "  </thead>\n",
       "  <tbody>\n",
       "    <tr>\n",
       "      <th>2021-07-01</th>\n",
       "      <td>3190.625282</td>\n",
       "      <td>2708.197231</td>\n",
       "      <td>3673.053333</td>\n",
       "    </tr>\n",
       "    <tr>\n",
       "      <th>2021-07-02</th>\n",
       "      <td>2986.837645</td>\n",
       "      <td>2300.565222</td>\n",
       "      <td>3673.110069</td>\n",
       "    </tr>\n",
       "    <tr>\n",
       "      <th>2021-07-03</th>\n",
       "      <td>2208.817468</td>\n",
       "      <td>1427.201295</td>\n",
       "      <td>2990.433642</td>\n",
       "    </tr>\n",
       "    <tr>\n",
       "      <th>2021-07-04</th>\n",
       "      <td>1960.838156</td>\n",
       "      <td>1095.149075</td>\n",
       "      <td>2826.527237</td>\n",
       "    </tr>\n",
       "    <tr>\n",
       "      <th>2021-07-05</th>\n",
       "      <td>3021.327297</td>\n",
       "      <td>2082.260596</td>\n",
       "      <td>3960.393999</td>\n",
       "    </tr>\n",
       "  </tbody>\n",
       "</table>\n",
       "</div>"
      ],
      "text/plain": [
       "            predicted_mean  lower users  upper users\n",
       "2021-07-01     3190.625282  2708.197231  3673.053333\n",
       "2021-07-02     2986.837645  2300.565222  3673.110069\n",
       "2021-07-03     2208.817468  1427.201295  2990.433642\n",
       "2021-07-04     1960.838156  1095.149075  2826.527237\n",
       "2021-07-05     3021.327297  2082.260596  3960.393999"
      ]
     },
     "execution_count": 28,
     "metadata": {},
     "output_type": "execute_result"
    }
   ],
   "source": [
    "# Backtest modelo con variables exógenas\n",
    "# ==============================================================================\n",
    "metrica, predicciones = backtesting_sarimax(\n",
    "                            y                  = datos.users,\n",
    "                            exog               = datos[col_exog],\n",
    "                            order              = (21, 1, 1),\n",
    "                            seasonal_order     = (0, 0, 0, 0),\n",
    "                            initial_train_size = len(datos.loc[:fin_validacion]),\n",
    "                            steps              = 7,\n",
    "                            metric             = 'mean_absolute_error',   \n",
    "                            alpha              = 0.05,\n",
    "                            refit              = False,\n",
    "                            fixed_train_size   = False,\n",
    "                            verbose            = True,\n",
    "                            fit_kwargs         = {'maxiter': 250, 'disp': 0},\n",
    "                        )\n",
    "\n",
    "print(f'Error backtest: {metrica}')\n",
    "predicciones.head(5)"
   ]
  },
  {
   "cell_type": "code",
   "execution_count": 29,
   "metadata": {},
   "outputs": [
    {
     "data": {},
     "metadata": {},
     "output_type": "display_data"
    },
    {
     "data": {
      "application/vnd.holoviews_exec.v0+json": "",
      "text/html": [
       "<div id='2637'>\n",
       "  <div class=\"bk-root\" id=\"6dde5ea8-adf9-40ab-b393-69d5f60d6258\" data-root-id=\"2637\"></div>\n",
       "</div>\n",
       "<script type=\"application/javascript\">(function(root) {\n",
       "  function embed_document(root) {\n",
       "    var docs_json = {\"c7641645-ca8e-4e63-ab37-395a40119033\":{\"defs\":[{\"extends\":null,\"module\":null,\"name\":\"ReactiveHTML1\",\"overrides\":[],\"properties\":[]},{\"extends\":null,\"module\":null,\"name\":\"FlexBox1\",\"overrides\":[],\"properties\":[{\"default\":\"flex-start\",\"kind\":null,\"name\":\"align_content\"},{\"default\":\"flex-start\",\"kind\":null,\"name\":\"align_items\"},{\"default\":\"row\",\"kind\":null,\"name\":\"flex_direction\"},{\"default\":\"wrap\",\"kind\":null,\"name\":\"flex_wrap\"},{\"default\":\"flex-start\",\"kind\":null,\"name\":\"justify_content\"}]},{\"extends\":null,\"module\":null,\"name\":\"GridStack1\",\"overrides\":[],\"properties\":[{\"default\":\"warn\",\"kind\":null,\"name\":\"mode\"},{\"default\":null,\"kind\":null,\"name\":\"ncols\"},{\"default\":null,\"kind\":null,\"name\":\"nrows\"},{\"default\":true,\"kind\":null,\"name\":\"allow_resize\"},{\"default\":true,\"kind\":null,\"name\":\"allow_drag\"},{\"default\":[],\"kind\":null,\"name\":\"state\"}]},{\"extends\":null,\"module\":null,\"name\":\"click1\",\"overrides\":[],\"properties\":[{\"default\":\"\",\"kind\":null,\"name\":\"terminal_output\"},{\"default\":\"\",\"kind\":null,\"name\":\"debug_name\"},{\"default\":0,\"kind\":null,\"name\":\"clears\"}]},{\"extends\":null,\"module\":null,\"name\":\"NotificationAreaBase1\",\"overrides\":[],\"properties\":[{\"default\":\"bottom-right\",\"kind\":null,\"name\":\"position\"},{\"default\":0,\"kind\":null,\"name\":\"_clear\"}]},{\"extends\":null,\"module\":null,\"name\":\"NotificationArea1\",\"overrides\":[],\"properties\":[{\"default\":[],\"kind\":null,\"name\":\"notifications\"},{\"default\":\"bottom-right\",\"kind\":null,\"name\":\"position\"},{\"default\":0,\"kind\":null,\"name\":\"_clear\"},{\"default\":[{\"background\":\"#ffc107\",\"icon\":{\"className\":\"fas fa-exclamation-triangle\",\"color\":\"white\",\"tagName\":\"i\"},\"type\":\"warning\"},{\"background\":\"#007bff\",\"icon\":{\"className\":\"fas fa-info-circle\",\"color\":\"white\",\"tagName\":\"i\"},\"type\":\"info\"}],\"kind\":null,\"name\":\"types\"}]},{\"extends\":null,\"module\":null,\"name\":\"Notification\",\"overrides\":[],\"properties\":[{\"default\":null,\"kind\":null,\"name\":\"background\"},{\"default\":3000,\"kind\":null,\"name\":\"duration\"},{\"default\":null,\"kind\":null,\"name\":\"icon\"},{\"default\":\"\",\"kind\":null,\"name\":\"message\"},{\"default\":null,\"kind\":null,\"name\":\"notification_type\"},{\"default\":false,\"kind\":null,\"name\":\"_destroyed\"}]},{\"extends\":null,\"module\":null,\"name\":\"TemplateActions1\",\"overrides\":[],\"properties\":[{\"default\":0,\"kind\":null,\"name\":\"open_modal\"},{\"default\":0,\"kind\":null,\"name\":\"close_modal\"}]},{\"extends\":null,\"module\":null,\"name\":\"MaterialTemplateActions1\",\"overrides\":[],\"properties\":[{\"default\":0,\"kind\":null,\"name\":\"open_modal\"},{\"default\":0,\"kind\":null,\"name\":\"close_modal\"}]}],\"roots\":{\"references\":[{\"attributes\":{\"overlay\":{\"id\":\"2666\"}},\"id\":\"2664\",\"type\":\"BoxZoomTool\"},{\"attributes\":{},\"id\":\"2665\",\"type\":\"ResetTool\"},{\"attributes\":{\"line_alpha\":0.2,\"line_color\":\"#fc4f30\",\"line_width\":2,\"x\":{\"field\":\"index\"},\"y\":{\"field\":\"predicted_mean\"}},\"id\":\"2754\",\"type\":\"Line\"},{\"attributes\":{\"bottom_units\":\"screen\",\"coordinates\":null,\"fill_alpha\":0.5,\"fill_color\":\"lightgrey\",\"group\":null,\"left_units\":\"screen\",\"level\":\"overlay\",\"line_alpha\":1.0,\"line_color\":\"black\",\"line_dash\":[4,4],\"line_width\":2,\"right_units\":\"screen\",\"syncable\":false,\"top_units\":\"screen\"},\"id\":\"2666\",\"type\":\"BoxAnnotation\"},{\"attributes\":{\"line_color\":\"#30a2da\",\"line_width\":2,\"x\":{\"field\":\"date\"},\"y\":{\"field\":\"users\"}},\"id\":\"2748\",\"type\":\"Line\"},{\"attributes\":{\"line_color\":\"#fc4f30\",\"line_width\":2,\"x\":{\"field\":\"index\"},\"y\":{\"field\":\"predicted_mean\"}},\"id\":\"2752\",\"type\":\"Line\"},{\"attributes\":{},\"id\":\"2683\",\"type\":\"Selection\"},{\"attributes\":{\"tools\":[{\"id\":\"2641\"},{\"id\":\"2642\"},{\"id\":\"2643\"},{\"id\":\"2661\"},{\"id\":\"2662\"},{\"id\":\"2663\"},{\"id\":\"2664\"},{\"id\":\"2665\"}]},\"id\":\"2667\",\"type\":\"Toolbar\"},{\"attributes\":{\"line_alpha\":0.1,\"line_color\":\"#fc4f30\",\"line_width\":2,\"x\":{\"field\":\"index\"},\"y\":{\"field\":\"predicted_mean\"}},\"id\":\"2753\",\"type\":\"Line\"},{\"attributes\":{},\"id\":\"2697\",\"type\":\"UnionRenderers\"},{\"attributes\":{\"coordinates\":null,\"data_source\":{\"id\":\"2749\"},\"glyph\":{\"id\":\"2752\"},\"group\":null,\"hover_glyph\":null,\"muted_glyph\":{\"id\":\"2754\"},\"nonselection_glyph\":{\"id\":\"2753\"},\"selection_glyph\":{\"id\":\"2784\"},\"view\":{\"id\":\"2756\"}},\"id\":\"2755\",\"type\":\"GlyphRenderer\"},{\"attributes\":{},\"id\":\"2750\",\"type\":\"Selection\"},{\"attributes\":{\"source\":{\"id\":\"2749\"}},\"id\":\"2756\",\"type\":\"CDSView\"},{\"attributes\":{\"label\":{\"value\":\"predicci\\u00f3n\"},\"renderers\":[{\"id\":\"2755\"}]},\"id\":\"2783\",\"type\":\"LegendItem\"},{\"attributes\":{\"margin\":[5,5,5,5],\"name\":\"HSpacer03733\",\"sizing_mode\":\"stretch_width\"},\"id\":\"2638\",\"type\":\"Spacer\"},{\"attributes\":{},\"id\":\"2768\",\"type\":\"UnionRenderers\"},{\"attributes\":{\"data\":{\"x\":{\"__ndarray__\":\"AADA1/Wld0IAAIA9SKZ3QgAAQKOapndCAAAACe2md0IAAMBuP6d3QgAAgNSRp3dCAABAOuSnd0IAAACgNqh3QgAAwAWJqHdCAACAa9uod0IAAEDRLal3QgAAADeAqXdCAADAnNKpd0IAAIACJap3QgAAQGh3qndCAAAAzsmqd0IAAMAzHKt3QgAAgJluq3dCAABA/8Crd0IAAABlE6x3QgAAwMplrHdCAACAMLisd0IAAECWCq13QgAAAPxcrXdCAADAYa+td0IAAIDHAa53QgAAQC1UrndCAAAAk6aud0IAAMD4+K53QgAAgF5Lr3dCAABAxJ2vd0IAAAAq8K93QgAAwI9CsHdCAACA9ZSwd0IAAEBb57B3QgAAAME5sXdCAADAJoyxd0IAAICM3rF3QgAAQPIwsndCAAAAWIOyd0IAAMC91bJ3QgAAgCMos3dCAABAiXqzd0IAAADvzLN3QgAAwFQftHdCAACAunG0d0IAAEAgxLR3QgAAAIYWtXdCAADA62i1d0IAAIBRu7V3QgAAQLcNtndCAAAAHWC2d0IAAMCCsrZ3QgAAgOgEt3dCAABATle3d0IAAAC0qbd3QgAAALSpt3dCAABATle3d0IAAIDoBLd3QgAAwIKytndCAAAAHWC2d0IAAEC3DbZ3QgAAgFG7tXdCAADA62i1d0IAAACGFrV3QgAAQCDEtHdCAACAunG0d0IAAMBUH7R3QgAAAO/Ms3dCAABAiXqzd0IAAIAjKLN3QgAAwL3VsndCAAAAWIOyd0IAAEDyMLJ3QgAAgIzesXdCAADAJoyxd0IAAADBObF3QgAAQFvnsHdCAACA9ZSwd0IAAMCPQrB3QgAAACrwr3dCAABAxJ2vd0IAAIBeS693QgAAwPj4rndCAAAAk6aud0IAAEAtVK53QgAAgMcBrndCAADAYa+td0IAAAD8XK13QgAAQJYKrXdCAACAMLisd0IAAMDKZax3QgAAAGUTrHdCAABA/8Crd0IAAICZbqt3QgAAwDMcq3dCAAAAzsmqd0IAAEBod6p3QgAAgAIlqndCAADAnNKpd0IAAAA3gKl3QgAAQNEtqXdCAACAa9uod0IAAMAFiah3QgAAAKA2qHdCAABAOuSnd0IAAIDUkad3QgAAwG4/p3dCAAAACe2md0IAAECjmqZ3QgAAgD1IpndCAADA1/Wld0I=\",\"dtype\":\"float64\",\"order\":\"little\",\"shape\":[112]},\"y\":{\"__ndarray__\":\"e85pThuyrEAcfgFbOLKsQHy/SQbeXKdAzpby8Q0VpkAieDm6yfCuQOonKZOtm7BAbqZuUusQsUDBDWyE2gypQOzpMA573qhAZSbsSSQPpEAmKhJLJnCjQD6wduETKatAmcYS/SfwrUCM0uLPZ4uuQFldlDn2IqpAUo4rg4AwqkDa+bAMF/ykQK8zAbcbuaNAluOtXIriq0BUL47y3pquQDpF+/SHqa9AKyhJvtF2pkBWbZqV2+WlQGEdcVoSVqFAIehe+ClSoEDMRGyroVSoQFeeAEhdX6pARwF1yuo+q0DGh9fwBAulQLjoQFnaZqZA1pQf2yj5oUCwgCJsocegQMY2oT2eqahAG/8TVUHcqUAf6uH2EqWpQJEIEIYuSKZAhAWyNy5rpkBRPG8HpUahQLo6hG8AbplAuDrLMPEVqEAf63mwHVKqQCr+IkyBqqpAtP4nZT/epUBmor+09IqkQACZ/SKoQ6FA+DvRYjcBnEAuiEjUZDCmQIv7wU7uL6lAJWLhoei3qEDQex5UqAOnQI6MH9j6u6ZAgInxTX9jo0BwLVyXthShQLIANT2lqKhAMbzDfRwMqkAMJJsMx+2rQBD5c3SLB5dAgjRUOMoflUD/9oXfwfiTQDy7tcenb3xAESZLXyG0jEDxoLPDxwWYQOWMXQLk855AQnUAn86bkEA2s1DabWeTQOwLWhuCEI5AEP3JwIR2TkARZHuzxDSEQKLM83y7o5NArZJwJBKpnEBMrYPz/4CUQF6SwJ3Mq5VACWuyxlnTkkBgFWvULPhZwFfxQUW4QIRA3ZLYgi5kl0BnpkBm8HydQDaFAUkjdpJAVrr05hPAlEAlY17gs/qTQERV6G3+BnpAa1MDlMcKh0BHWfbFhluXQNGkzzudAptAhrMn8NKplUDO+M3MS8aVQDN/9Lu6UJNAyJDLz0JbdkCVdUmRbX6EQIFiqT6JWZZAm+Wy1jbanUBsOzRFDX+eQMga6SFPPZ5Axbx3HoxsmkCc9m5iaMmIQL5zJC1Ai5FAeaTLGdPunkD7p6TmP5miQBBWA/vMQpxAUknyNuHnnEAXVgkon/mYQHbQsrKSpYdAp5k1T7Vij0CtW9YvyEqcQGNYfDEkg6FAWSV8UtW3oUDlrbjEI7uhQPByx2yFRKBAjUEap5gckUAA/1UgzkyWQAjCu2Qh+aFAHRl6+2QopUA=\",\"dtype\":\"float64\",\"order\":\"little\",\"shape\":[112]}},\"selected\":{\"id\":\"2683\"},\"selection_policy\":{\"id\":\"2697\"}},\"id\":\"2682\",\"type\":\"ColumnDataSource\"},{\"attributes\":{},\"id\":\"2678\",\"type\":\"AllLabels\"},{\"attributes\":{\"children\":[{\"id\":\"2638\"},{\"id\":\"2644\"},{\"id\":\"2811\"}],\"margin\":[0,0,0,0],\"name\":\"Row03729\",\"tags\":[\"embedded\"]},\"id\":\"2637\",\"type\":\"Row\"},{\"attributes\":{},\"id\":\"2680\",\"type\":\"BasicTickFormatter\"},{\"attributes\":{\"fill_alpha\":0.2,\"fill_color\":\"red\",\"hatch_alpha\":0.2,\"hatch_color\":\"red\",\"line_alpha\":0.2,\"x\":{\"field\":\"x\"},\"y\":{\"field\":\"y\"}},\"id\":\"2714\",\"type\":\"Patch\"},{\"attributes\":{\"line_alpha\":0.2,\"line_color\":\"#30a2da\",\"line_width\":2,\"x\":{\"field\":\"date\"},\"y\":{\"field\":\"users\"}},\"id\":\"2720\",\"type\":\"Line\"},{\"attributes\":{},\"id\":\"2716\",\"type\":\"Selection\"},{\"attributes\":{\"mantissas\":[1,2,5],\"max_interval\":500.0,\"num_minor_ticks\":0},\"id\":\"2700\",\"type\":\"AdaptiveTicker\"},{\"attributes\":{\"line_alpha\":0.1,\"line_color\":\"#30a2da\",\"line_width\":2,\"x\":{\"field\":\"date\"},\"y\":{\"field\":\"users\"}},\"id\":\"2719\",\"type\":\"Line\"},{\"attributes\":{},\"id\":\"2677\",\"type\":\"DatetimeTickFormatter\"},{\"attributes\":{\"base\":60,\"mantissas\":[1,2,5,10,15,20,30],\"max_interval\":1800000.0,\"min_interval\":1000.0,\"num_minor_ticks\":0},\"id\":\"2701\",\"type\":\"AdaptiveTicker\"},{\"attributes\":{\"base\":24,\"mantissas\":[1,2,4,6,8,12],\"max_interval\":43200000.0,\"min_interval\":3600000.0,\"num_minor_ticks\":0},\"id\":\"2702\",\"type\":\"AdaptiveTicker\"},{\"attributes\":{\"end\":4816.198922841695,\"reset_end\":4816.198922841695,\"reset_start\":-551.1574324670738,\"start\":-551.1574324670738,\"tags\":[[[\"lower users\",\"lower users\",null]]]},\"id\":\"2640\",\"type\":\"Range1d\"},{\"attributes\":{\"line_color\":\"#30a2da\",\"line_width\":2,\"x\":{\"field\":\"date\"},\"y\":{\"field\":\"users\"}},\"id\":\"2718\",\"type\":\"Line\"},{\"attributes\":{},\"id\":\"2711\",\"type\":\"YearsTicker\"},{\"attributes\":{},\"id\":\"2649\",\"type\":\"LinearScale\"},{\"attributes\":{\"coordinates\":null,\"data_source\":{\"id\":\"2715\"},\"glyph\":{\"id\":\"2718\"},\"group\":null,\"hover_glyph\":null,\"muted_glyph\":{\"id\":\"2720\"},\"nonselection_glyph\":{\"id\":\"2719\"},\"selection_glyph\":{\"id\":\"2748\"},\"view\":{\"id\":\"2722\"}},\"id\":\"2721\",\"type\":\"GlyphRenderer\"},{\"attributes\":{\"months\":[0,1,2,3,4,5,6,7,8,9,10,11]},\"id\":\"2707\",\"type\":\"MonthsTicker\"},{\"attributes\":{},\"id\":\"2681\",\"type\":\"AllLabels\"},{\"attributes\":{\"days\":[1,15]},\"id\":\"2706\",\"type\":\"DaysTicker\"},{\"attributes\":{\"source\":{\"id\":\"2715\"}},\"id\":\"2722\",\"type\":\"CDSView\"},{\"attributes\":{\"days\":[1,2,3,4,5,6,7,8,9,10,11,12,13,14,15,16,17,18,19,20,21,22,23,24,25,26,27,28,29,30,31]},\"id\":\"2703\",\"type\":\"DaysTicker\"},{\"attributes\":{\"end\":1629849600000.0,\"reset_end\":1629849600000.0,\"reset_start\":1625097600000.0,\"start\":1625097600000.0,\"tags\":[[[\"index\",\"index\",null]]]},\"id\":\"2639\",\"type\":\"Range1d\"},{\"attributes\":{\"days\":[1,4,7,10,13,16,19,22,25,28]},\"id\":\"2704\",\"type\":\"DaysTicker\"},{\"attributes\":{\"label\":{\"value\":\"test\"},\"renderers\":[{\"id\":\"2721\"}]},\"id\":\"2747\",\"type\":\"LegendItem\"},{\"attributes\":{\"days\":[1,8,15,22]},\"id\":\"2705\",\"type\":\"DaysTicker\"},{\"attributes\":{\"callback\":null,\"formatters\":{\"@{date}\":\"datetime\"},\"renderers\":[{\"id\":\"2721\"}],\"tags\":[\"hv_created\"],\"tooltips\":[[\"date\",\"@{date}{%F %T}\"],[\"users\",\"@{users}\"]]},\"id\":\"2642\",\"type\":\"HoverTool\"},{\"attributes\":{\"months\":[0,6]},\"id\":\"2710\",\"type\":\"MonthsTicker\"},{\"attributes\":{\"line_color\":\"#fc4f30\",\"line_width\":2,\"x\":{\"field\":\"index\"},\"y\":{\"field\":\"predicted_mean\"}},\"id\":\"2784\",\"type\":\"Line\"},{\"attributes\":{\"callback\":null,\"formatters\":{\"@{index}\":\"datetime\"},\"renderers\":[{\"id\":\"2755\"}],\"tags\":[\"hv_created\"],\"tooltips\":[[\"index\",\"@{index}{%F %T}\"],[\"predicted_mean\",\"@{predicted_mean}\"]]},\"id\":\"2643\",\"type\":\"HoverTool\"},{\"attributes\":{\"months\":[0,2,4,6,8,10]},\"id\":\"2708\",\"type\":\"MonthsTicker\"},{\"attributes\":{\"label\":{\"value\":\"intervalo predicci\\u00f3n\"},\"renderers\":[{\"id\":\"2688\"}]},\"id\":\"2713\",\"type\":\"LegendItem\"},{\"attributes\":{\"fill_alpha\":0.2,\"fill_color\":\"red\",\"hatch_alpha\":0.2,\"hatch_color\":\"red\",\"line_alpha\":0.2,\"x\":{\"field\":\"x\"},\"y\":{\"field\":\"y\"}},\"id\":\"2685\",\"type\":\"Patch\"},{\"attributes\":{\"callback\":null,\"formatters\":{\"@{x}\":\"datetime\"},\"renderers\":[{\"id\":\"2688\"}],\"tags\":[\"hv_created\"],\"tooltips\":[[\"index\",\"@{index}\"],[\"lower users\",\"@{lower_users}\"],[\"upper users\",\"@{upper_users}\"]]},\"id\":\"2641\",\"type\":\"HoverTool\"},{\"attributes\":{},\"id\":\"2732\",\"type\":\"UnionRenderers\"},{\"attributes\":{\"fill_alpha\":0.2,\"fill_color\":\"red\",\"hatch_alpha\":0.1,\"hatch_color\":\"red\",\"line_alpha\":0.2,\"x\":{\"field\":\"x\"},\"y\":{\"field\":\"y\"}},\"id\":\"2686\",\"type\":\"Patch\"},{\"attributes\":{\"months\":[0,4,8]},\"id\":\"2709\",\"type\":\"MonthsTicker\"},{\"attributes\":{\"below\":[{\"id\":\"2653\"}],\"center\":[{\"id\":\"2656\"},{\"id\":\"2660\"},{\"id\":\"2712\"}],\"height\":300,\"left\":[{\"id\":\"2657\"}],\"margin\":[5,5,5,5],\"min_border_bottom\":10,\"min_border_left\":10,\"min_border_right\":10,\"min_border_top\":10,\"renderers\":[{\"id\":\"2688\"},{\"id\":\"2721\"},{\"id\":\"2755\"}],\"sizing_mode\":\"fixed\",\"title\":{\"id\":\"2645\"},\"toolbar\":{\"id\":\"2667\"},\"width\":700,\"x_range\":{\"id\":\"2639\"},\"x_scale\":{\"id\":\"2649\"},\"y_range\":{\"id\":\"2640\"},\"y_scale\":{\"id\":\"2651\"}},\"id\":\"2644\",\"subtype\":\"Figure\",\"type\":\"Plot\"},{\"attributes\":{\"click_policy\":\"mute\",\"coordinates\":null,\"group\":null,\"items\":[{\"id\":\"2713\"},{\"id\":\"2747\"},{\"id\":\"2783\"}],\"location\":\"bottom_left\"},\"id\":\"2712\",\"type\":\"Legend\"},{\"attributes\":{\"data\":{\"index\":{\"__ndarray__\":\"AADA1/Wld0IAAIA9SKZ3QgAAQKOapndCAAAACe2md0IAAMBuP6d3QgAAgNSRp3dCAABAOuSnd0IAAACgNqh3QgAAwAWJqHdCAACAa9uod0IAAEDRLal3QgAAADeAqXdCAADAnNKpd0IAAIACJap3QgAAQGh3qndCAAAAzsmqd0IAAMAzHKt3QgAAgJluq3dCAABA/8Crd0IAAABlE6x3QgAAwMplrHdCAACAMLisd0IAAECWCq13QgAAAPxcrXdCAADAYa+td0IAAIDHAa53QgAAQC1UrndCAAAAk6aud0IAAMD4+K53QgAAgF5Lr3dCAABAxJ2vd0IAAAAq8K93QgAAwI9CsHdCAACA9ZSwd0IAAEBb57B3QgAAAME5sXdCAADAJoyxd0IAAICM3rF3QgAAQPIwsndCAAAAWIOyd0IAAMC91bJ3QgAAgCMos3dCAABAiXqzd0IAAADvzLN3QgAAwFQftHdCAACAunG0d0IAAEAgxLR3QgAAAIYWtXdCAADA62i1d0IAAIBRu7V3QgAAQLcNtndCAAAAHWC2d0IAAMCCsrZ3QgAAgOgEt3dCAABATle3d0IAAAC0qbd3Qg==\",\"dtype\":\"float64\",\"order\":\"little\",\"shape\":[56]},\"predicted_mean\":{\"__ndarray__\":\"zPPxJEDtqEASoN7frFWnQH5fOouiQaFAlbd/RVqjnkCJdYCTp5qnQN1+hXU/ealAG7ms+9XsqUASM/Ra/0elQOELDpPvgaNAz4y5ndHnm0BD3r73ilmZQKWtvbrx0qNAofVFTAwypkDKPrImZ1amQKqCHBAbXqZAR7AICPXTpEC5M0Mjt8GdQFbxnM9165lA/OD0NWiMpEBcXsFBw9ymQHixykuHdKdAfE3RlPaxokBLj3caUImgQMZ6w76tdZZAOlpYUpIdk0AzQrOEf/6gQF/NM5dBoaJAhW1EIeoJo0AXrV/HKUahQK4KHt5OCqFAsWkgwNq7l0BZi985gQiUQCw06BZ8U6FAIy5HpCUeokBdVrFNEnChQOItmFxTg6JAeSePvKIOoUCnuL8Y01aWQGSJPaJ9zodAHjgSCs+/oEAnGq3/AZSiQGhq8qKAdaJABSSwO2QZokC3iDlz0lyeQARy3E/ZUJZA4YvXiOv0jEApCx9bhbSdQJMq9Z3ScaFAY86w+OeCoEAhoaYqzT6jQIOu/FxvX6FABFPEpYeQmkDX5FKQq6KUQBn+exaDUqFAOev2zABOokBKkGpjxrijQA==\",\"dtype\":\"float64\",\"order\":\"little\",\"shape\":[56]}},\"selected\":{\"id\":\"2750\"},\"selection_policy\":{\"id\":\"2768\"}},\"id\":\"2749\",\"type\":\"ColumnDataSource\"},{\"attributes\":{\"margin\":[5,5,5,5],\"name\":\"HSpacer03734\",\"sizing_mode\":\"stretch_width\"},\"id\":\"2811\",\"type\":\"Spacer\"},{\"attributes\":{\"axis_label\":\"users\",\"coordinates\":null,\"formatter\":{\"id\":\"2680\"},\"group\":null,\"major_label_policy\":{\"id\":\"2681\"},\"ticker\":{\"id\":\"2658\"}},\"id\":\"2657\",\"type\":\"LinearAxis\"},{\"attributes\":{},\"id\":\"2651\",\"type\":\"LinearScale\"},{\"attributes\":{\"data\":{\"date\":{\"__ndarray__\":\"AADA1/Wld0IAAIA9SKZ3QgAAQKOapndCAAAACe2md0IAAMBuP6d3QgAAgNSRp3dCAABAOuSnd0IAAACgNqh3QgAAwAWJqHdCAACAa9uod0IAAEDRLal3QgAAADeAqXdCAADAnNKpd0IAAIACJap3QgAAQGh3qndCAAAAzsmqd0IAAMAzHKt3QgAAgJluq3dCAABA/8Crd0IAAABlE6x3QgAAwMplrHdCAACAMLisd0IAAECWCq13QgAAAPxcrXdCAADAYa+td0IAAIDHAa53QgAAQC1UrndCAAAAk6aud0IAAMD4+K53QgAAgF5Lr3dCAABAxJ2vd0IAAAAq8K93QgAAwI9CsHdCAACA9ZSwd0IAAEBb57B3QgAAAME5sXdCAADAJoyxd0IAAICM3rF3QgAAQPIwsndCAAAAWIOyd0IAAMC91bJ3QgAAgCMos3dCAABAiXqzd0IAAADvzLN3QgAAwFQftHdCAACAunG0d0IAAEAgxLR3QgAAAIYWtXdCAADA62i1d0IAAIBRu7V3QgAAQLcNtndCAAAAHWC2d0IAAMCCsrZ3QgAAgOgEt3dCAABATle3d0IAAAC0qbd3Qg==\",\"dtype\":\"float64\",\"order\":\"little\",\"shape\":[56]},\"users\":[3123,2870,2020,1828,2722,2991,2976,2834,2609,1832,1462,2563,2897,3057,2697,2391,1730,1434,2455,2508,2563,2447,2543,1714,1415,2407,2587,2314,2465,2088,1535,133,2146,2266,2330,2323,2003,1406,1239,1989,2268,2249,2322,2098,1477,1308,1920,2219,2482,2345,2185,1546,1393,2371,2547,2448]},\"selected\":{\"id\":\"2716\"},\"selection_policy\":{\"id\":\"2732\"}},\"id\":\"2715\",\"type\":\"ColumnDataSource\"},{\"attributes\":{\"axis\":{\"id\":\"2653\"},\"coordinates\":null,\"grid_line_color\":null,\"group\":null,\"ticker\":null},\"id\":\"2656\",\"type\":\"Grid\"},{\"attributes\":{\"source\":{\"id\":\"2682\"}},\"id\":\"2689\",\"type\":\"CDSView\"},{\"attributes\":{\"fill_alpha\":0.2,\"fill_color\":\"red\",\"hatch_alpha\":0.2,\"hatch_color\":\"red\",\"line_alpha\":0.2,\"x\":{\"field\":\"x\"},\"y\":{\"field\":\"y\"}},\"id\":\"2687\",\"type\":\"Patch\"},{\"attributes\":{},\"id\":\"2662\",\"type\":\"PanTool\"},{\"attributes\":{\"coordinates\":null,\"group\":null,\"text\":\"Predicci\\u00f3n (ARIMA) vs vistas reales\",\"text_color\":\"black\",\"text_font_size\":\"12pt\"},\"id\":\"2645\",\"type\":\"Title\"},{\"attributes\":{\"axis_label\":\"\",\"coordinates\":null,\"formatter\":{\"id\":\"2677\"},\"group\":null,\"major_label_policy\":{\"id\":\"2678\"},\"ticker\":{\"id\":\"2654\"}},\"id\":\"2653\",\"type\":\"DatetimeAxis\"},{\"attributes\":{\"num_minor_ticks\":5,\"tickers\":[{\"id\":\"2700\"},{\"id\":\"2701\"},{\"id\":\"2702\"},{\"id\":\"2703\"},{\"id\":\"2704\"},{\"id\":\"2705\"},{\"id\":\"2706\"},{\"id\":\"2707\"},{\"id\":\"2708\"},{\"id\":\"2709\"},{\"id\":\"2710\"},{\"id\":\"2711\"}]},\"id\":\"2654\",\"type\":\"DatetimeTicker\"},{\"attributes\":{\"coordinates\":null,\"data_source\":{\"id\":\"2682\"},\"glyph\":{\"id\":\"2685\"},\"group\":null,\"hover_glyph\":null,\"muted_glyph\":{\"id\":\"2687\"},\"nonselection_glyph\":{\"id\":\"2686\"},\"selection_glyph\":{\"id\":\"2714\"},\"view\":{\"id\":\"2689\"}},\"id\":\"2688\",\"type\":\"GlyphRenderer\"},{\"attributes\":{\"axis\":{\"id\":\"2657\"},\"coordinates\":null,\"dimension\":1,\"grid_line_color\":null,\"group\":null,\"ticker\":null},\"id\":\"2660\",\"type\":\"Grid\"},{\"attributes\":{},\"id\":\"2658\",\"type\":\"BasicTicker\"},{\"attributes\":{},\"id\":\"2663\",\"type\":\"WheelZoomTool\"},{\"attributes\":{},\"id\":\"2661\",\"type\":\"SaveTool\"}],\"root_ids\":[\"2637\"]},\"title\":\"Bokeh Application\",\"version\":\"2.4.3\"}};\n",
       "    var render_items = [{\"docid\":\"c7641645-ca8e-4e63-ab37-395a40119033\",\"root_ids\":[\"2637\"],\"roots\":{\"2637\":\"6dde5ea8-adf9-40ab-b393-69d5f60d6258\"}}];\n",
       "    root.Bokeh.embed.embed_items_notebook(docs_json, render_items);\n",
       "  }\n",
       "  if (root.Bokeh !== undefined && root.Bokeh.Panel !== undefined) {\n",
       "    embed_document(root);\n",
       "  } else {\n",
       "    var attempts = 0;\n",
       "    var timer = setInterval(function(root) {\n",
       "      if (root.Bokeh !== undefined && root.Bokeh.Panel !== undefined) {\n",
       "        clearInterval(timer);\n",
       "        embed_document(root);\n",
       "      } else if (document.readyState == \"complete\") {\n",
       "        attempts++;\n",
       "        if (attempts > 200) {\n",
       "          clearInterval(timer);\n",
       "          console.log(\"Bokeh: ERROR: Unable to run BokehJS code because BokehJS library is missing\");\n",
       "        }\n",
       "      }\n",
       "    }, 25, root)\n",
       "  }\n",
       "})(window);</script>"
      ],
      "text/plain": [
       ":Overlay\n",
       "   .Area.Intervalo_predicción :Area   [index]   (lower users,upper users)\n",
       "   .Curve.Test                :Curve   [date]   (users)\n",
       "   .Curve.Predicción          :Curve   [index]   (predicted_mean)"
      ]
     },
     "execution_count": 29,
     "metadata": {
      "application/vnd.holoviews_exec.v0+json": {
       "id": "2637"
      }
     },
     "output_type": "execute_result"
    }
   ],
   "source": [
    "# fig, ax = plt.subplots(figsize=(10, 3))\n",
    "# datos_test.loc[predicciones.index, 'users'].plot(linewidth=2, label='test', ax=ax)\n",
    "# predicciones.iloc[:, 0].plot(linewidth=2, label='predicción', ax=ax)\n",
    "# ax.set_title('Predicción (ARIMA) vs vistas reales')\n",
    "# ax.fill_between(\n",
    "#     predicciones.index,\n",
    "#     predicciones.iloc[:, 1],\n",
    "#     predicciones.iloc[:, 2],\n",
    "#     alpha = 0.2,\n",
    "#     color = 'red',\n",
    "#     label = 'Intervalo predicción' \n",
    "# )\n",
    "# ax.legend();\n",
    "\n",
    "plot_test = datos_test.users.hvplot.line(label='test')\n",
    "plot_predict = predicciones['predicted_mean'].hvplot.line(label='predicción')\n",
    "plot_intervalo = predicciones.hvplot.area(\n",
    "                     y     = 'lower users',\n",
    "                     y2    = 'upper users',\n",
    "                     color = 'red',\n",
    "                     alpha = 0.2,\n",
    "                     label = 'intervalo predicción'\n",
    "                 )\n",
    "layout = plot_intervalo * plot_test * plot_predict\n",
    "layout = layout.opts(\n",
    "             title = 'Predicción (ARIMA) vs vistas reales',\n",
    "             ylabel = 'users',\n",
    "             legend_position = 'bottom_left'\n",
    "         )\n",
    "layout"
   ]
  },
  {
   "cell_type": "markdown",
   "metadata": {},
   "source": [
    "## Conclusión\n",
    "<br>\n",
    "\n",
    "El modelo que consigue mejores resultados es el modelo ARIMA.\n",
    "\n",
    "\n",
    "| Modelo | Variables exógenas | MAE backtest |\n",
    "|:------:|:------------------:|:------------:|\n",
    "| ARIMA  | False              | 181.3     |\n",
    "| ARIMA  | True               | 181.3     |\n",
    "| Autoregresivo-ridge   | False             | 216.3    |\n",
    "| Autoregresivo-ridge   | True              | 195.8     |\n",
    "\n",
    "\n",
    "Posibles mejoras del modelo:\n",
    "\n",
    "+ Incluir como predictor si el día es festivo nacional.\n",
    "\n",
    "+ Utilizar un modelo autoregresivo con modelos no lineales, por ejemplo random forest o gradient boosting. [Forecasting series temporales con gradient boosting: Skforecast, XGBoost, LightGBM y CatBoost](https://www.cienciadedatos.net/documentos/py39-forecasting-series-temporales-con-skforecast-xgboost-lightgbm-catboost.html)\n",
    "\n",
    "+ Utilizar un [modelo direct multi-step](https://joaquinamatrodrigo.github.io/skforecast/latest/user_guides/direct-multi-step-forecasting.html).\n"
   ]
  },
  {
   "cell_type": "markdown",
   "metadata": {},
   "source": [
    "## Información de sesión"
   ]
  },
  {
   "cell_type": "code",
   "execution_count": 30,
   "metadata": {},
   "outputs": [
    {
     "name": "stdout",
     "output_type": "stream",
     "text": [
      "-----\n",
      "holoviews           1.15.0\n",
      "hvplot              0.8.1\n",
      "matplotlib          3.5.0\n",
      "numpy               1.23.0\n",
      "pandas              1.4.0\n",
      "seaborn             0.11.0\n",
      "session_info        1.0.0\n",
      "skforecast          0.5.0\n",
      "sklearn             1.1.0\n",
      "statsmodels         0.13.0\n",
      "-----\n",
      "IPython             8.5.0\n",
      "jupyter_client      7.3.5\n",
      "jupyter_core        4.11.1\n",
      "notebook            6.4.12\n",
      "-----\n",
      "Python 3.9.13 (main, Aug 25 2022, 23:26:10) [GCC 11.2.0]\n",
      "Linux-5.15.0-48-generic-x86_64-with-glibc2.31\n",
      "-----\n",
      "Session information updated at 2022-09-30 20:03\n"
     ]
    }
   ],
   "source": [
    "import session_info\n",
    "session_info.show(html=False)"
   ]
  },
  {
   "cell_type": "markdown",
   "metadata": {},
   "source": [
    "## Bibliografía\n",
    "<br>\n",
    "\n",
    "Hyndman, R.J., & Athanasopoulos, G. (2021) Forecasting: principles and practice, 3rd edition, OTexts: Melbourne, Australia. [libro](https://otexts.com/fpp3/)\n",
    "\n",
    "Time Series Analysis and Forecasting with ADAM Ivan Svetunkov [libro](https://openforecast.org/adam/)\n",
    "\n",
    "Python for Finance: Mastering Data-Driven Finance [libro](https://www.amazon.es/gp/product/1492024333/ref=as_li_qf_asin_il_tl?ie=UTF8&tag=cienciadedato-21&creative=24630&linkCode=as2&creativeASIN=1492024333&linkId=70c3175ad015970cd1c2328b7a40a055)"
   ]
  },
  {
   "cell_type": "markdown",
   "metadata": {},
   "source": [
    "**¿Cómo citar este documento?**\n",
    "\n",
    "<p style=\"text-align:left\"><font size=\"3\" color=\"#555\">\n",
    "Predicción (forecasting) visitas página web con Python by Joaquín Amat Rodrigo and Javier Escobar Ortiz, available under a Attribution 4.0 International (CC BY 4.0) at https://www.cienciadedatos.net/py36-forecasting-visitas-web-machine-learning.html\n",
    "    \n",
    "</font></p>"
   ]
  },
  {
   "cell_type": "markdown",
   "metadata": {},
   "source": [
    "<a rel=\"license\" href=\"http://creativecommons.org/licenses/by/4.0/\"><img alt=\"Creative Commons Licence\" style=\"border-width:0\" src=\"https://i.creativecommons.org/l/by/4.0/88x31.png\" /></a><br />This work by  Joaquín Amat Rodrigo and Javier Escobar Ortiz is licensed under a <a rel=\"license\" href=\"http://creativecommons.org/licenses/by/4.0/\">Creative Commons Attribution 4.0 International License</a>."
   ]
  }
 ],
 "metadata": {
  "kernelspec": {
   "display_name": "Python 3.7.9 ('cienciadedatos')",
   "language": "python",
   "name": "python3"
  },
  "language_info": {
   "codemirror_mode": {
    "name": "ipython",
    "version": 3
   },
   "file_extension": ".py",
   "mimetype": "text/x-python",
   "name": "python",
   "nbconvert_exporter": "python",
   "pygments_lexer": "ipython3",
   "version": "3.7.9"
  },
  "toc": {
   "base_numbering": 1,
   "nav_menu": {},
   "number_sections": false,
   "sideBar": true,
   "skip_h1_title": true,
   "title_cell": "Tabla de contenidos",
   "title_sidebar": "Tabla de contenidos",
   "toc_cell": false,
   "toc_position": {
    "height": "calc(100% - 180px)",
    "left": "10px",
    "top": "150px",
    "width": "165px"
   },
   "toc_section_display": true,
   "toc_window_display": true
  },
  "varInspector": {
   "cols": {
    "lenName": 16,
    "lenType": 16,
    "lenVar": 40
   },
   "kernels_config": {
    "python": {
     "delete_cmd_postfix": "",
     "delete_cmd_prefix": "del ",
     "library": "var_list.py",
     "varRefreshCmd": "print(var_dic_list())"
    },
    "r": {
     "delete_cmd_postfix": ") ",
     "delete_cmd_prefix": "rm(",
     "library": "var_list.r",
     "varRefreshCmd": "cat(var_dic_list()) "
    }
   },
   "position": {
    "height": "144.391px",
    "left": "1478px",
    "right": "20px",
    "top": "126px",
    "width": "350px"
   },
   "types_to_exclude": [
    "module",
    "function",
    "builtin_function_or_method",
    "instance",
    "_Feature"
   ],
   "window_display": false
  },
  "vscode": {
   "interpreter": {
    "hash": "c12913696a895390034120989688913c364ffd1b20a4e74b4084d4da4733ed9a"
   }
  }
 },
 "nbformat": 4,
 "nbformat_minor": 4
}
