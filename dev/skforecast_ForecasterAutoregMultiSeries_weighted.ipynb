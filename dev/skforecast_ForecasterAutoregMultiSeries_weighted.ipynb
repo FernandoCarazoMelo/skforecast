{
 "cells": [
  {
   "cell_type": "code",
   "execution_count": 44,
   "id": "df7c8824",
   "metadata": {
    "ExecuteTime": {
     "end_time": "2022-07-08T15:53:35.028706Z",
     "start_time": "2022-07-08T15:53:34.980669Z"
    }
   },
   "outputs": [
    {
     "name": "stdout",
     "output_type": "stream",
     "text": [
      "The autoreload extension is already loaded. To reload it, use:\n",
      "  %reload_ext autoreload\n"
     ]
    }
   ],
   "source": [
    "%load_ext autoreload\n",
    "%autoreload 2\n",
    "import sys\n",
    "from pathlib import Path\n",
    "sys.path.insert(1, str(Path.cwd().parent.parent))\n",
    "%config Completer.use_jedi = False"
   ]
  },
  {
   "cell_type": "code",
   "execution_count": 45,
   "id": "33a49d05",
   "metadata": {
    "ExecuteTime": {
     "end_time": "2022-07-08T15:28:40.437598Z",
     "start_time": "2022-07-08T15:28:40.417718Z"
    }
   },
   "outputs": [
    {
     "data": {
      "text/plain": [
       "PosixPath('/home/ximo/Documents/GitHub/skforecast')"
      ]
     },
     "execution_count": 45,
     "metadata": {},
     "output_type": "execute_result"
    }
   ],
   "source": [
    "(Path.cwd().parent)"
   ]
  },
  {
   "cell_type": "markdown",
   "id": "b6f9a85a",
   "metadata": {},
   "source": [
    "## Librerias"
   ]
  },
  {
   "cell_type": "code",
   "execution_count": 46,
   "id": "738fd9e7",
   "metadata": {
    "ExecuteTime": {
     "end_time": "2022-07-08T15:53:36.676416Z",
     "start_time": "2022-07-08T15:53:36.156473Z"
    }
   },
   "outputs": [],
   "source": [
    "## ForecasterAutoregMultiSeries\n",
    "# ==============================================================================\n",
    "import numpy as np\n",
    "import pandas as pd\n",
    "from sklearn.linear_model import LinearRegression\n",
    "from sklearn.linear_model import Ridge\n",
    "\n",
    "from skforecast.ForecasterAutoregMultiSeries import ForecasterAutoregMultiSeries\n",
    "from skforecast.model_selection_multiseries import backtesting_forecaster_multiseries\n",
    "from skforecast.model_selection_multiseries import grid_search_forecaster_multiseries\n",
    "\n",
    "from skforecast.utils import check_y\n",
    "from skforecast.utils import check_exog\n",
    "from skforecast.utils import preprocess_y\n",
    "from skforecast.utils import preprocess_last_window\n",
    "from skforecast.utils import preprocess_exog\n",
    "from skforecast.utils import expand_index\n",
    "from skforecast.utils import check_predict_input\n",
    "\n",
    "\n",
    "from xgboost import XGBRegressor"
   ]
  },
  {
   "cell_type": "code",
   "execution_count": 49,
   "id": "cea14b7b",
   "metadata": {},
   "outputs": [
    {
     "name": "stdout",
     "output_type": "stream",
     "text": [
      "Train dates : 2014-06-01 00:00:00 --- 2014-07-15 23:00:00  (n=1080)\n",
      "Test dates  : 2014-07-16 00:00:00 --- 2014-07-31 23:00:00  (n=384)\n"
     ]
    }
   ],
   "source": [
    "\n",
    "# Data download\n",
    "# ==============================================================================\n",
    "url = ('https://raw.githubusercontent.com/JoaquinAmatRodrigo/skforecast/master/' +\n",
    "       'data/vic_elec.csv')\n",
    "data = pd.read_csv(url, sep=',')\n",
    "\n",
    "# Data preparation (aggregation at daily level)\n",
    "# ==============================================================================\n",
    "data['Time'] = pd.to_datetime(data['Time'], format='%Y-%m-%dT%H:%M:%SZ')\n",
    "data = data.set_index('Time')\n",
    "data = data.asfreq('30min')\n",
    "data = data.sort_index()\n",
    "data = data.drop(columns='Date')\n",
    "data = data.resample(rule='H', closed='left', label ='right')\\\n",
    "       .agg({'Demand': 'sum', 'Temperature': 'mean'})\n",
    "\n",
    "data.head()\n",
    "\n",
    "# Split data into train-val-test\n",
    "# ==============================================================================\n",
    "data = data.loc['2014-06-01 00:00:00': '2014-07-31 23:59:00']\n",
    "end_train = '2014-07-15 23:59:00'\n",
    "data_train = data.loc[:end_train, :].copy()\n",
    "data_test  = data.loc[end_train:, :].copy()\n",
    "\n",
    "print(f\"Train dates : {data_train.index.min()} --- {data_train.index.max()}  (n={len(data_train)})\")\n",
    "print(f\"Test dates  : {data_test.index.min()} --- {data_test.index.max()}  (n={len(data_test)})\")"
   ]
  },
  {
   "cell_type": "code",
   "execution_count": 50,
   "id": "56480e70",
   "metadata": {},
   "outputs": [
    {
     "data": {
      "text/plain": [
       "============================ \n",
       "ForecasterAutoregMultiSeries \n",
       "============================ \n",
       "Regressor: LinearRegression() \n",
       "Lags: [ 1  2  3  4  5  6  7  8  9 10 11 12 13 14 15 16 17 18 19 20 21 22 23 24] \n",
       "Transformer for series: {'Demand': None, 'Temperature': None} \n",
       "Transformer for exog: None \n",
       "Window size: 24 \n",
       "Series levels (names): ['Demand', 'Temperature'] \n",
       "Series weights: {'Demand': 0.1, 'Temperature': 1000} \n",
       "Included exogenous: False \n",
       "Type of exogenous variable: None \n",
       "Exogenous variables names: None \n",
       "Training range: [Timestamp('2014-06-01 00:00:00'), Timestamp('2014-07-15 23:00:00')] \n",
       "Training index type: DatetimeIndex \n",
       "Training index frequency: H \n",
       "Regressor parameters: {'copy_X': True, 'fit_intercept': True, 'n_jobs': None, 'normalize': 'deprecated', 'positive': False} \n",
       "Creation date: 2022-10-18 22:36:35 \n",
       "Last fit date: 2022-10-18 22:36:35 \n",
       "Skforecast version: 0.6.dev \n",
       "Python version: 3.9.13 "
      ]
     },
     "execution_count": 50,
     "metadata": {},
     "output_type": "execute_result"
    }
   ],
   "source": [
    "# Create and fit forecaster multi series\n",
    "# ==============================================================================\n",
    "forecaster = ForecasterAutoregMultiSeries(\n",
    "                 regressor          = LinearRegression(),\n",
    "                 lags               = 24,\n",
    "                 transformer_series = None,\n",
    "                 transformer_exog   = None,\n",
    "                 series_weights     = {'Demand': 0.1, 'Temperature': 1000}\n",
    "             )\n",
    "\n",
    "forecaster.fit(series=data_train[['Demand', 'Temperature']])\n",
    "forecaster"
   ]
  },
  {
   "cell_type": "code",
   "execution_count": 51,
   "id": "3d458dd1",
   "metadata": {},
   "outputs": [
    {
     "name": "stdout",
     "output_type": "stream",
     "text": [
      "Backtest error item_1: 560.7315644201811\n"
     ]
    },
    {
     "data": {
      "text/html": [
       "<div>\n",
       "<style scoped>\n",
       "    .dataframe tbody tr th:only-of-type {\n",
       "        vertical-align: middle;\n",
       "    }\n",
       "\n",
       "    .dataframe tbody tr th {\n",
       "        vertical-align: top;\n",
       "    }\n",
       "\n",
       "    .dataframe thead th {\n",
       "        text-align: right;\n",
       "    }\n",
       "</style>\n",
       "<table border=\"1\" class=\"dataframe\">\n",
       "  <thead>\n",
       "    <tr style=\"text-align: right;\">\n",
       "      <th></th>\n",
       "      <th>pred</th>\n",
       "    </tr>\n",
       "  </thead>\n",
       "  <tbody>\n",
       "    <tr>\n",
       "      <th>2014-07-16 00:00:00</th>\n",
       "      <td>12638.625044</td>\n",
       "    </tr>\n",
       "    <tr>\n",
       "      <th>2014-07-16 01:00:00</th>\n",
       "      <td>12476.154308</td>\n",
       "    </tr>\n",
       "    <tr>\n",
       "      <th>2014-07-16 02:00:00</th>\n",
       "      <td>12109.276467</td>\n",
       "    </tr>\n",
       "    <tr>\n",
       "      <th>2014-07-16 03:00:00</th>\n",
       "      <td>12021.570563</td>\n",
       "    </tr>\n",
       "  </tbody>\n",
       "</table>\n",
       "</div>"
      ],
      "text/plain": [
       "                             pred\n",
       "2014-07-16 00:00:00  12638.625044\n",
       "2014-07-16 01:00:00  12476.154308\n",
       "2014-07-16 02:00:00  12109.276467\n",
       "2014-07-16 03:00:00  12021.570563"
      ]
     },
     "execution_count": 51,
     "metadata": {},
     "output_type": "execute_result"
    }
   ],
   "source": [
    "# Backtesting Multi Series\n",
    "# ==============================================================================\n",
    "metric, predictions_item_1 = backtesting_forecaster_multiseries(\n",
    "                                 forecaster         = forecaster,\n",
    "                                 series             = data,\n",
    "                                 level              = 'Demand',\n",
    "                                 initial_train_size = len(data_train),\n",
    "                                 fixed_train_size   = True,\n",
    "                                 steps              = 24,\n",
    "                                 metric             = 'mean_absolute_error',\n",
    "                                 refit              = False,\n",
    "                                 verbose            = False\n",
    "                             )\n",
    "\n",
    "print(f\"Backtest error item_1: {metric}\")\n",
    "predictions_item_1.head(4)"
   ]
  },
  {
   "cell_type": "code",
   "execution_count": 52,
   "id": "66bc9edf",
   "metadata": {},
   "outputs": [
    {
     "name": "stdout",
     "output_type": "stream",
     "text": [
      "6 models compared for 2 level(s). Number of iterations: 12.\n",
      "Level weights for metric evaluation: {'Demand': 0.5, 'Temperature': 0.5}\n"
     ]
    },
    {
     "name": "stderr",
     "output_type": "stream",
     "text": [
      "loop lags_grid: 100%|███████████████████████████████████████| 2/2 [00:05<00:00,  2.81s/it]\n"
     ]
    },
    {
     "data": {
      "text/html": [
       "<div>\n",
       "<style scoped>\n",
       "    .dataframe tbody tr th:only-of-type {\n",
       "        vertical-align: middle;\n",
       "    }\n",
       "\n",
       "    .dataframe tbody tr th {\n",
       "        vertical-align: top;\n",
       "    }\n",
       "\n",
       "    .dataframe thead th {\n",
       "        text-align: right;\n",
       "    }\n",
       "</style>\n",
       "<table border=\"1\" class=\"dataframe\">\n",
       "  <thead>\n",
       "    <tr style=\"text-align: right;\">\n",
       "      <th></th>\n",
       "      <th>levels</th>\n",
       "      <th>lags</th>\n",
       "      <th>params</th>\n",
       "      <th>mean_absolute_error</th>\n",
       "      <th>alpha</th>\n",
       "    </tr>\n",
       "  </thead>\n",
       "  <tbody>\n",
       "    <tr>\n",
       "      <th>5</th>\n",
       "      <td>[Demand, Temperature]</td>\n",
       "      <td>[1, 2, 3, 4, 5, 6, 7, 8, 9, 10, 11, 12, 13, 14...</td>\n",
       "      <td>{'alpha': 1}</td>\n",
       "      <td>214.254608</td>\n",
       "      <td>1.00</td>\n",
       "    </tr>\n",
       "    <tr>\n",
       "      <th>4</th>\n",
       "      <td>[Demand, Temperature]</td>\n",
       "      <td>[1, 2, 3, 4, 5, 6, 7, 8, 9, 10, 11, 12, 13, 14...</td>\n",
       "      <td>{'alpha': 0.1}</td>\n",
       "      <td>243.516167</td>\n",
       "      <td>0.10</td>\n",
       "    </tr>\n",
       "    <tr>\n",
       "      <th>3</th>\n",
       "      <td>[Demand, Temperature]</td>\n",
       "      <td>[1, 2, 3, 4, 5, 6, 7, 8, 9, 10, 11, 12, 13, 14...</td>\n",
       "      <td>{'alpha': 0.01}</td>\n",
       "      <td>251.411056</td>\n",
       "      <td>0.01</td>\n",
       "    </tr>\n",
       "    <tr>\n",
       "      <th>2</th>\n",
       "      <td>[Demand, Temperature]</td>\n",
       "      <td>[1, 2, 3, 4, 5, 6, 7, 8, 9, 10, 11, 12, 13, 14...</td>\n",
       "      <td>{'alpha': 1}</td>\n",
       "      <td>284.389903</td>\n",
       "      <td>1.00</td>\n",
       "    </tr>\n",
       "    <tr>\n",
       "      <th>1</th>\n",
       "      <td>[Demand, Temperature]</td>\n",
       "      <td>[1, 2, 3, 4, 5, 6, 7, 8, 9, 10, 11, 12, 13, 14...</td>\n",
       "      <td>{'alpha': 0.1}</td>\n",
       "      <td>285.030751</td>\n",
       "      <td>0.10</td>\n",
       "    </tr>\n",
       "    <tr>\n",
       "      <th>0</th>\n",
       "      <td>[Demand, Temperature]</td>\n",
       "      <td>[1, 2, 3, 4, 5, 6, 7, 8, 9, 10, 11, 12, 13, 14...</td>\n",
       "      <td>{'alpha': 0.01}</td>\n",
       "      <td>285.706079</td>\n",
       "      <td>0.01</td>\n",
       "    </tr>\n",
       "  </tbody>\n",
       "</table>\n",
       "</div>"
      ],
      "text/plain": [
       "                  levels                                               lags  \\\n",
       "5  [Demand, Temperature]  [1, 2, 3, 4, 5, 6, 7, 8, 9, 10, 11, 12, 13, 14...   \n",
       "4  [Demand, Temperature]  [1, 2, 3, 4, 5, 6, 7, 8, 9, 10, 11, 12, 13, 14...   \n",
       "3  [Demand, Temperature]  [1, 2, 3, 4, 5, 6, 7, 8, 9, 10, 11, 12, 13, 14...   \n",
       "2  [Demand, Temperature]  [1, 2, 3, 4, 5, 6, 7, 8, 9, 10, 11, 12, 13, 14...   \n",
       "1  [Demand, Temperature]  [1, 2, 3, 4, 5, 6, 7, 8, 9, 10, 11, 12, 13, 14...   \n",
       "0  [Demand, Temperature]  [1, 2, 3, 4, 5, 6, 7, 8, 9, 10, 11, 12, 13, 14...   \n",
       "\n",
       "            params  mean_absolute_error  alpha  \n",
       "5     {'alpha': 1}           214.254608   1.00  \n",
       "4   {'alpha': 0.1}           243.516167   0.10  \n",
       "3  {'alpha': 0.01}           251.411056   0.01  \n",
       "2     {'alpha': 1}           284.389903   1.00  \n",
       "1   {'alpha': 0.1}           285.030751   0.10  \n",
       "0  {'alpha': 0.01}           285.706079   0.01  "
      ]
     },
     "execution_count": 52,
     "metadata": {},
     "output_type": "execute_result"
    }
   ],
   "source": [
    "forecaster = ForecasterAutoregMultiSeries(\n",
    "                 regressor          = Ridge(),\n",
    "                 lags               = 24,\n",
    "                 transformer_series = None,\n",
    "                 transformer_exog   = None,\n",
    "                 series_weights     = {'Demand': 0.1, 'Temperature': 1000}\n",
    "             )\n",
    "\n",
    "\n",
    "# Grid search Multi Series\n",
    "# ==============================================================================\n",
    "lags_grid = [24, 48]\n",
    "param_grid = {'alpha': [0.01, 0.1, 1]}\n",
    "\n",
    "levels = ['Demand', 'Temperature']\n",
    "\n",
    "results = grid_search_forecaster_multiseries(\n",
    "              forecaster          = forecaster,\n",
    "              series              = data,\n",
    "              lags_grid           = lags_grid,\n",
    "              param_grid          = param_grid,\n",
    "              steps               = 24,\n",
    "              metric              = 'mean_absolute_error',\n",
    "              initial_train_size  = len(data_train),\n",
    "              fixed_train_size    = True,\n",
    "              levels              = levels,\n",
    "              exog                = None,\n",
    "              refit               = True,\n",
    "              return_best         = False,\n",
    "              verbose             = False\n",
    "          )\n",
    "\n",
    "results"
   ]
  }
 ],
 "metadata": {
  "kernelspec": {
   "display_name": "Python 3.9.13 ('skforecast')",
   "language": "python",
   "name": "python3"
  },
  "language_info": {
   "codemirror_mode": {
    "name": "ipython",
    "version": 3
   },
   "file_extension": ".py",
   "mimetype": "text/x-python",
   "name": "python",
   "nbconvert_exporter": "python",
   "pygments_lexer": "ipython3",
   "version": "3.9.13"
  },
  "toc": {
   "base_numbering": 1,
   "nav_menu": {},
   "number_sections": true,
   "sideBar": true,
   "skip_h1_title": false,
   "title_cell": "Table of Contents",
   "title_sidebar": "Contents",
   "toc_cell": false,
   "toc_position": {
    "height": "calc(100% - 180px)",
    "left": "10px",
    "top": "150px",
    "width": "175.594px"
   },
   "toc_section_display": true,
   "toc_window_display": true
  },
  "varInspector": {
   "cols": {
    "lenName": 16,
    "lenType": 16,
    "lenVar": 40
   },
   "kernels_config": {
    "python": {
     "delete_cmd_postfix": "",
     "delete_cmd_prefix": "del ",
     "library": "var_list.py",
     "varRefreshCmd": "print(var_dic_list())"
    },
    "r": {
     "delete_cmd_postfix": ") ",
     "delete_cmd_prefix": "rm(",
     "library": "var_list.r",
     "varRefreshCmd": "cat(var_dic_list()) "
    }
   },
   "types_to_exclude": [
    "module",
    "function",
    "builtin_function_or_method",
    "instance",
    "_Feature"
   ],
   "window_display": false
  },
  "vscode": {
   "interpreter": {
    "hash": "845be7f86453217ab6c5c749edfd1b965b47df21a056323ee3763fde88674a61"
   }
  }
 },
 "nbformat": 4,
 "nbformat_minor": 5
}
