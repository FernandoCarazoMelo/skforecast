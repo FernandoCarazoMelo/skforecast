{
 "cells": [
  {
   "cell_type": "code",
   "execution_count": 1,
   "id": "df7c8824",
   "metadata": {
    "ExecuteTime": {
     "end_time": "2022-10-25T09:16:15.681065Z",
     "start_time": "2022-10-25T09:16:15.635491Z"
    }
   },
   "outputs": [],
   "source": [
    "%load_ext autoreload\n",
    "%autoreload 2\n",
    "import sys\n",
    "from pathlib import Path\n",
    "sys.path.insert(1, str(Path.cwd().parent))\n",
    "%config Completer.use_jedi = False"
   ]
  },
  {
   "cell_type": "code",
   "execution_count": 2,
   "id": "33a49d05",
   "metadata": {
    "ExecuteTime": {
     "end_time": "2022-10-25T09:16:16.068619Z",
     "start_time": "2022-10-25T09:16:16.031523Z"
    }
   },
   "outputs": [
    {
     "data": {
      "text/plain": [
       "WindowsPath('C:/Users/jaesc2/GitHub')"
      ]
     },
     "execution_count": 2,
     "metadata": {},
     "output_type": "execute_result"
    }
   ],
   "source": [
    "(Path.cwd().parent.parent)"
   ]
  },
  {
   "cell_type": "markdown",
   "id": "b6f9a85a",
   "metadata": {},
   "source": [
    "## Librerias"
   ]
  },
  {
   "cell_type": "code",
   "execution_count": 3,
   "id": "738fd9e7",
   "metadata": {
    "ExecuteTime": {
     "end_time": "2022-10-25T09:16:19.064218Z",
     "start_time": "2022-10-25T09:16:16.970158Z"
    }
   },
   "outputs": [],
   "source": [
    "## ForecasterAutoregMultiSeries\n",
    "# ==============================================================================\n",
    "import numpy as np\n",
    "import pandas as pd\n",
    "from sklearn.linear_model import LinearRegression\n",
    "from sklearn.linear_model import Ridge\n",
    "from sklearn.metrics import mean_squared_error \n",
    "from sklearn.metrics import mean_absolute_error\n",
    "from sklearn.metrics import mean_absolute_percentage_error\n",
    "from sklearn.metrics import mean_squared_log_error\n",
    "\n",
    "from skforecast.ForecasterAutoregMultiSeries import ForecasterAutoregMultiSeries\n",
    "from skforecast.model_selection_multiseries import backtesting_forecaster_multiseries\n",
    "from skforecast.model_selection_multiseries import grid_search_forecaster_multiseries\n",
    "\n",
    "from skforecast.utils import check_y\n",
    "from skforecast.utils import check_exog\n",
    "from skforecast.utils import preprocess_y\n",
    "from skforecast.utils import preprocess_last_window\n",
    "from skforecast.utils import preprocess_exog\n",
    "from skforecast.utils import expand_index\n",
    "from skforecast.utils import check_predict_input\n",
    "\n",
    "\n",
    "from xgboost import XGBRegressor"
   ]
  },
  {
   "cell_type": "code",
   "execution_count": 49,
   "id": "cea14b7b",
   "metadata": {},
   "outputs": [
    {
     "name": "stdout",
     "output_type": "stream",
     "text": [
      "Train dates : 2014-06-01 00:00:00 --- 2014-07-15 23:00:00  (n=1080)\n",
      "Test dates  : 2014-07-16 00:00:00 --- 2014-07-31 23:00:00  (n=384)\n"
     ]
    }
   ],
   "source": [
    "# Data download\n",
    "# ==============================================================================\n",
    "url = ('https://raw.githubusercontent.com/JoaquinAmatRodrigo/skforecast/master/' +\n",
    "       'data/vic_elec.csv')\n",
    "data = pd.read_csv(url, sep=',')\n",
    "\n",
    "# Data preparation (aggregation at daily level)\n",
    "# ==============================================================================\n",
    "data['Time'] = pd.to_datetime(data['Time'], format='%Y-%m-%dT%H:%M:%SZ')\n",
    "data = data.set_index('Time')\n",
    "data = data.asfreq('30min')\n",
    "data = data.sort_index()\n",
    "data = data.drop(columns='Date')\n",
    "data = data.resample(rule='H', closed='left', label ='right')\\\n",
    "       .agg({'Demand': 'sum', 'Temperature': 'mean'})\n",
    "\n",
    "data.head()\n",
    "\n",
    "# Split data into train-val-test\n",
    "# ==============================================================================\n",
    "data = data.loc['2014-06-01 00:00:00': '2014-07-31 23:59:00']\n",
    "end_train = '2014-07-15 23:59:00'\n",
    "data_train = data.loc[:end_train, :].copy()\n",
    "data_test  = data.loc[end_train:, :].copy()\n",
    "\n",
    "print(f\"Train dates : {data_train.index.min()} --- {data_train.index.max()}  (n={len(data_train)})\")\n",
    "print(f\"Test dates  : {data_test.index.min()} --- {data_test.index.max()}  (n={len(data_test)})\")"
   ]
  },
  {
   "cell_type": "code",
   "execution_count": 50,
   "id": "56480e70",
   "metadata": {},
   "outputs": [
    {
     "data": {
      "text/plain": [
       "============================ \n",
       "ForecasterAutoregMultiSeries \n",
       "============================ \n",
       "Regressor: LinearRegression() \n",
       "Lags: [ 1  2  3  4  5  6  7  8  9 10 11 12 13 14 15 16 17 18 19 20 21 22 23 24] \n",
       "Transformer for series: {'Demand': None, 'Temperature': None} \n",
       "Transformer for exog: None \n",
       "Window size: 24 \n",
       "Series levels (names): ['Demand', 'Temperature'] \n",
       "Series weights: {'Demand': 0.1, 'Temperature': 1000} \n",
       "Included exogenous: False \n",
       "Type of exogenous variable: None \n",
       "Exogenous variables names: None \n",
       "Training range: [Timestamp('2014-06-01 00:00:00'), Timestamp('2014-07-15 23:00:00')] \n",
       "Training index type: DatetimeIndex \n",
       "Training index frequency: H \n",
       "Regressor parameters: {'copy_X': True, 'fit_intercept': True, 'n_jobs': None, 'normalize': 'deprecated', 'positive': False} \n",
       "Creation date: 2022-10-18 22:36:35 \n",
       "Last fit date: 2022-10-18 22:36:35 \n",
       "Skforecast version: 0.6.dev \n",
       "Python version: 3.9.13 "
      ]
     },
     "execution_count": 50,
     "metadata": {},
     "output_type": "execute_result"
    }
   ],
   "source": [
    "# Create and fit forecaster multi series\n",
    "# ==============================================================================\n",
    "forecaster = ForecasterAutoregMultiSeries(\n",
    "                 regressor          = LinearRegression(),\n",
    "                 lags               = 24,\n",
    "                 transformer_series = None,\n",
    "                 transformer_exog   = None,\n",
    "                 series_weights     = {'Demand': 0.1, 'Temperature': 1000}\n",
    "             )\n",
    "\n",
    "forecaster.fit(series=data_train[['Demand', 'Temperature']])\n",
    "forecaster"
   ]
  },
  {
   "cell_type": "code",
   "execution_count": 51,
   "id": "3d458dd1",
   "metadata": {},
   "outputs": [
    {
     "name": "stdout",
     "output_type": "stream",
     "text": [
      "Backtest error item_1: 560.7315644201811\n"
     ]
    },
    {
     "data": {
      "text/html": [
       "<div>\n",
       "<style scoped>\n",
       "    .dataframe tbody tr th:only-of-type {\n",
       "        vertical-align: middle;\n",
       "    }\n",
       "\n",
       "    .dataframe tbody tr th {\n",
       "        vertical-align: top;\n",
       "    }\n",
       "\n",
       "    .dataframe thead th {\n",
       "        text-align: right;\n",
       "    }\n",
       "</style>\n",
       "<table border=\"1\" class=\"dataframe\">\n",
       "  <thead>\n",
       "    <tr style=\"text-align: right;\">\n",
       "      <th></th>\n",
       "      <th>pred</th>\n",
       "    </tr>\n",
       "  </thead>\n",
       "  <tbody>\n",
       "    <tr>\n",
       "      <th>2014-07-16 00:00:00</th>\n",
       "      <td>12638.625044</td>\n",
       "    </tr>\n",
       "    <tr>\n",
       "      <th>2014-07-16 01:00:00</th>\n",
       "      <td>12476.154308</td>\n",
       "    </tr>\n",
       "    <tr>\n",
       "      <th>2014-07-16 02:00:00</th>\n",
       "      <td>12109.276467</td>\n",
       "    </tr>\n",
       "    <tr>\n",
       "      <th>2014-07-16 03:00:00</th>\n",
       "      <td>12021.570563</td>\n",
       "    </tr>\n",
       "  </tbody>\n",
       "</table>\n",
       "</div>"
      ],
      "text/plain": [
       "                             pred\n",
       "2014-07-16 00:00:00  12638.625044\n",
       "2014-07-16 01:00:00  12476.154308\n",
       "2014-07-16 02:00:00  12109.276467\n",
       "2014-07-16 03:00:00  12021.570563"
      ]
     },
     "execution_count": 51,
     "metadata": {},
     "output_type": "execute_result"
    }
   ],
   "source": [
    "# Backtesting Multi Series\n",
    "# ==============================================================================\n",
    "metric, predictions_item_1 = backtesting_forecaster_multiseries(\n",
    "                                 forecaster         = forecaster,\n",
    "                                 series             = data,\n",
    "                                 level              = 'Demand',\n",
    "                                 initial_train_size = len(data_train),\n",
    "                                 fixed_train_size   = True,\n",
    "                                 steps              = 24,\n",
    "                                 metric             = 'mean_absolute_error',\n",
    "                                 refit              = False,\n",
    "                                 verbose            = False\n",
    "                             )\n",
    "\n",
    "print(f\"Backtest error item_1: {metric}\")\n",
    "predictions_item_1.head(4)"
   ]
  },
  {
   "cell_type": "code",
   "execution_count": 52,
   "id": "66bc9edf",
   "metadata": {},
   "outputs": [
    {
     "name": "stdout",
     "output_type": "stream",
     "text": [
      "6 models compared for 2 level(s). Number of iterations: 12.\n",
      "Level weights for metric evaluation: {'Demand': 0.5, 'Temperature': 0.5}\n"
     ]
    },
    {
     "name": "stderr",
     "output_type": "stream",
     "text": [
      "loop lags_grid: 100%|███████████████████████████████████████| 2/2 [00:05<00:00,  2.81s/it]\n"
     ]
    },
    {
     "data": {
      "text/html": [
       "<div>\n",
       "<style scoped>\n",
       "    .dataframe tbody tr th:only-of-type {\n",
       "        vertical-align: middle;\n",
       "    }\n",
       "\n",
       "    .dataframe tbody tr th {\n",
       "        vertical-align: top;\n",
       "    }\n",
       "\n",
       "    .dataframe thead th {\n",
       "        text-align: right;\n",
       "    }\n",
       "</style>\n",
       "<table border=\"1\" class=\"dataframe\">\n",
       "  <thead>\n",
       "    <tr style=\"text-align: right;\">\n",
       "      <th></th>\n",
       "      <th>levels</th>\n",
       "      <th>lags</th>\n",
       "      <th>params</th>\n",
       "      <th>mean_absolute_error</th>\n",
       "      <th>alpha</th>\n",
       "    </tr>\n",
       "  </thead>\n",
       "  <tbody>\n",
       "    <tr>\n",
       "      <th>5</th>\n",
       "      <td>[Demand, Temperature]</td>\n",
       "      <td>[1, 2, 3, 4, 5, 6, 7, 8, 9, 10, 11, 12, 13, 14...</td>\n",
       "      <td>{'alpha': 1}</td>\n",
       "      <td>214.254608</td>\n",
       "      <td>1.00</td>\n",
       "    </tr>\n",
       "    <tr>\n",
       "      <th>4</th>\n",
       "      <td>[Demand, Temperature]</td>\n",
       "      <td>[1, 2, 3, 4, 5, 6, 7, 8, 9, 10, 11, 12, 13, 14...</td>\n",
       "      <td>{'alpha': 0.1}</td>\n",
       "      <td>243.516167</td>\n",
       "      <td>0.10</td>\n",
       "    </tr>\n",
       "    <tr>\n",
       "      <th>3</th>\n",
       "      <td>[Demand, Temperature]</td>\n",
       "      <td>[1, 2, 3, 4, 5, 6, 7, 8, 9, 10, 11, 12, 13, 14...</td>\n",
       "      <td>{'alpha': 0.01}</td>\n",
       "      <td>251.411056</td>\n",
       "      <td>0.01</td>\n",
       "    </tr>\n",
       "    <tr>\n",
       "      <th>2</th>\n",
       "      <td>[Demand, Temperature]</td>\n",
       "      <td>[1, 2, 3, 4, 5, 6, 7, 8, 9, 10, 11, 12, 13, 14...</td>\n",
       "      <td>{'alpha': 1}</td>\n",
       "      <td>284.389903</td>\n",
       "      <td>1.00</td>\n",
       "    </tr>\n",
       "    <tr>\n",
       "      <th>1</th>\n",
       "      <td>[Demand, Temperature]</td>\n",
       "      <td>[1, 2, 3, 4, 5, 6, 7, 8, 9, 10, 11, 12, 13, 14...</td>\n",
       "      <td>{'alpha': 0.1}</td>\n",
       "      <td>285.030751</td>\n",
       "      <td>0.10</td>\n",
       "    </tr>\n",
       "    <tr>\n",
       "      <th>0</th>\n",
       "      <td>[Demand, Temperature]</td>\n",
       "      <td>[1, 2, 3, 4, 5, 6, 7, 8, 9, 10, 11, 12, 13, 14...</td>\n",
       "      <td>{'alpha': 0.01}</td>\n",
       "      <td>285.706079</td>\n",
       "      <td>0.01</td>\n",
       "    </tr>\n",
       "  </tbody>\n",
       "</table>\n",
       "</div>"
      ],
      "text/plain": [
       "                  levels                                               lags  \\\n",
       "5  [Demand, Temperature]  [1, 2, 3, 4, 5, 6, 7, 8, 9, 10, 11, 12, 13, 14...   \n",
       "4  [Demand, Temperature]  [1, 2, 3, 4, 5, 6, 7, 8, 9, 10, 11, 12, 13, 14...   \n",
       "3  [Demand, Temperature]  [1, 2, 3, 4, 5, 6, 7, 8, 9, 10, 11, 12, 13, 14...   \n",
       "2  [Demand, Temperature]  [1, 2, 3, 4, 5, 6, 7, 8, 9, 10, 11, 12, 13, 14...   \n",
       "1  [Demand, Temperature]  [1, 2, 3, 4, 5, 6, 7, 8, 9, 10, 11, 12, 13, 14...   \n",
       "0  [Demand, Temperature]  [1, 2, 3, 4, 5, 6, 7, 8, 9, 10, 11, 12, 13, 14...   \n",
       "\n",
       "            params  mean_absolute_error  alpha  \n",
       "5     {'alpha': 1}           214.254608   1.00  \n",
       "4   {'alpha': 0.1}           243.516167   0.10  \n",
       "3  {'alpha': 0.01}           251.411056   0.01  \n",
       "2     {'alpha': 1}           284.389903   1.00  \n",
       "1   {'alpha': 0.1}           285.030751   0.10  \n",
       "0  {'alpha': 0.01}           285.706079   0.01  "
      ]
     },
     "execution_count": 52,
     "metadata": {},
     "output_type": "execute_result"
    }
   ],
   "source": [
    "forecaster = ForecasterAutoregMultiSeries(\n",
    "                 regressor          = Ridge(),\n",
    "                 lags               = 24,\n",
    "                 transformer_series = None,\n",
    "                 transformer_exog   = None,\n",
    "                 series_weights     = {'Demand': 0.1, 'Temperature': 1000}\n",
    "             )\n",
    "\n",
    "\n",
    "# Grid search Multi Series\n",
    "# ==============================================================================\n",
    "lags_grid = [24, 48]\n",
    "param_grid = {'alpha': [0.01, 0.1, 1]}\n",
    "\n",
    "levels = ['Demand', 'Temperature']\n",
    "\n",
    "results = grid_search_forecaster_multiseries(\n",
    "              forecaster          = forecaster,\n",
    "              series              = data,\n",
    "              lags_grid           = lags_grid,\n",
    "              param_grid          = param_grid,\n",
    "              steps               = 24,\n",
    "              metric              = 'mean_absolute_error',\n",
    "              initial_train_size  = len(data_train),\n",
    "              fixed_train_size    = True,\n",
    "              levels              = levels,\n",
    "              exog                = None,\n",
    "              refit               = True,\n",
    "              return_best         = False,\n",
    "              verbose             = False\n",
    "          )\n",
    "\n",
    "results"
   ]
  },
  {
   "cell_type": "markdown",
   "id": "ba25ecec",
   "metadata": {},
   "source": [
    "## Predict_interval"
   ]
  },
  {
   "cell_type": "code",
   "execution_count": 4,
   "id": "fee0acdc",
   "metadata": {
    "ExecuteTime": {
     "end_time": "2022-10-21T08:15:09.557069Z",
     "start_time": "2022-10-21T08:15:09.486558Z"
    }
   },
   "outputs": [],
   "source": [
    "series = pd.DataFrame({'1': pd.Series(np.array(\n",
    "                                [0.69646919, 0.28613933, 0.22685145, 0.55131477, 0.71946897,\n",
    "                                 0.42310646, 0.9807642 , 0.68482974, 0.4809319 , 0.39211752,\n",
    "                                 0.34317802, 0.72904971, 0.43857224, 0.0596779 , 0.39804426,\n",
    "                                 0.73799541, 0.18249173, 0.17545176, 0.53155137, 0.53182759,\n",
    "                                 0.63440096, 0.84943179, 0.72445532, 0.61102351, 0.72244338,\n",
    "                                 0.32295891, 0.36178866, 0.22826323, 0.29371405, 0.63097612,\n",
    "                                 0.09210494, 0.43370117, 0.43086276, 0.4936851 , 0.42583029,\n",
    "                                 0.31226122, 0.42635131, 0.89338916, 0.94416002, 0.50183668,\n",
    "                                 0.62395295, 0.1156184 , 0.31728548, 0.41482621, 0.86630916,\n",
    "                                 0.25045537, 0.48303426, 0.98555979, 0.51948512, 0.61289453]\n",
    "                                )\n",
    "                            ), \n",
    "                       '2': pd.Series(np.array(\n",
    "                                [0.12062867, 0.8263408 , 0.60306013, 0.54506801, 0.34276383,\n",
    "                                 0.30412079, 0.41702221, 0.68130077, 0.87545684, 0.51042234,\n",
    "                                 0.66931378, 0.58593655, 0.6249035 , 0.67468905, 0.84234244,\n",
    "                                 0.08319499, 0.76368284, 0.24366637, 0.19422296, 0.57245696,\n",
    "                                 0.09571252, 0.88532683, 0.62724897, 0.72341636, 0.01612921,\n",
    "                                 0.59443188, 0.55678519, 0.15895964, 0.15307052, 0.69552953,\n",
    "                                 0.31876643, 0.6919703 , 0.55438325, 0.38895057, 0.92513249,\n",
    "                                 0.84167   , 0.35739757, 0.04359146, 0.30476807, 0.39818568,\n",
    "                                 0.70495883, 0.99535848, 0.35591487, 0.76254781, 0.59317692,\n",
    "                                 0.6917018 , 0.15112745, 0.39887629, 0.2408559 , 0.34345601]\n",
    "                                )\n",
    "                            )\n",
    "                      }\n",
    "         )\n",
    "    \n",
    "exog = pd.DataFrame({'col_1': pd.Series(np.array(\n",
    "                                [0.51312815, 0.66662455, 0.10590849, 0.13089495, 0.32198061,\n",
    "                                 0.66156434, 0.84650623, 0.55325734, 0.85445249, 0.38483781,\n",
    "                                 0.3167879 , 0.35426468, 0.17108183, 0.82911263, 0.33867085,\n",
    "                                 0.55237008, 0.57855147, 0.52153306, 0.00268806, 0.98834542,\n",
    "                                 0.90534158, 0.20763586, 0.29248941, 0.52001015, 0.90191137,\n",
    "                                 0.98363088, 0.25754206, 0.56435904, 0.80696868, 0.39437005,\n",
    "                                 0.73107304, 0.16106901, 0.60069857, 0.86586446, 0.98352161,\n",
    "                                 0.07936579, 0.42834727, 0.20454286, 0.45063649, 0.54776357,\n",
    "                                 0.09332671, 0.29686078, 0.92758424, 0.56900373, 0.457412  ,\n",
    "                                 0.75352599, 0.74186215, 0.04857903, 0.7086974 , 0.83924335]\n",
    "                                )\n",
    "                              ),\n",
    "                     'col_2': ['a']*25 + ['b']*25}\n",
    "       )"
   ]
  },
  {
   "cell_type": "code",
   "execution_count": 5,
   "id": "177ebce9",
   "metadata": {
    "ExecuteTime": {
     "end_time": "2022-10-21T08:15:10.256122Z",
     "start_time": "2022-10-21T08:15:10.006336Z"
    }
   },
   "outputs": [],
   "source": [
    "from sklearn.compose import ColumnTransformer\n",
    "from sklearn.preprocessing import StandardScaler\n",
    "from sklearn.preprocessing import MinMaxScaler\n",
    "from sklearn.preprocessing import OneHotEncoder\n",
    "from sklearn.linear_model import LinearRegression\n",
    "\n",
    "transformer_exog = ColumnTransformer(\n",
    "                            [('scale', StandardScaler(), ['col_1']),\n",
    "                             ('onehot', OneHotEncoder(), ['col_2'])],\n",
    "                            remainder = 'passthrough',\n",
    "                            verbose_feature_names_out = False\n",
    "                       )\n",
    "forecaster = ForecasterAutoregMultiSeries(\n",
    "                 regressor = LinearRegression(),\n",
    "                 lags = 5,\n",
    "                 transformer_series = StandardScaler(),\n",
    "                 transformer_exog = transformer_exog,\n",
    "             )\n",
    "forecaster.fit(series=series, exog=exog)\n",
    "predictions = forecaster.predict_interval(steps=5, levels='1', exog=exog)\n",
    "expected = pd.DataFrame(\n",
    "               data = np.array([[0.53267333, 0.17691231, 0.9399491 ],\n",
    "                                [0.44478046, 0.04641456, 0.83203647],\n",
    "                                [0.52579563, 0.13671047, 0.92765308],\n",
    "                                [0.57391142, 0.21373477, 0.97709097],\n",
    "                                [0.54633594, 0.1725495 , 0.94995973]]),\n",
    "               index = pd.RangeIndex(start=50, stop=55, step=1),\n",
    "               columns = ['1', '1_lower_bound', '1_upper_bound']\n",
    "           )\n",
    "\n",
    "pd.testing.assert_frame_equal(predictions, expected)"
   ]
  },
  {
   "cell_type": "code",
   "execution_count": 10,
   "id": "dc2d750e",
   "metadata": {
    "ExecuteTime": {
     "end_time": "2022-10-21T08:16:06.614080Z",
     "start_time": "2022-10-21T08:16:06.239162Z"
    }
   },
   "outputs": [
    {
     "data": {
      "text/html": [
       "<div>\n",
       "<style scoped>\n",
       "    .dataframe tbody tr th:only-of-type {\n",
       "        vertical-align: middle;\n",
       "    }\n",
       "\n",
       "    .dataframe tbody tr th {\n",
       "        vertical-align: top;\n",
       "    }\n",
       "\n",
       "    .dataframe thead th {\n",
       "        text-align: right;\n",
       "    }\n",
       "</style>\n",
       "<table border=\"1\" class=\"dataframe\">\n",
       "  <thead>\n",
       "    <tr style=\"text-align: right;\">\n",
       "      <th></th>\n",
       "      <th>1</th>\n",
       "      <th>1_lower_bound</th>\n",
       "      <th>1_upper_bound</th>\n",
       "      <th>2</th>\n",
       "      <th>2_lower_bound</th>\n",
       "      <th>2_upper_bound</th>\n",
       "    </tr>\n",
       "  </thead>\n",
       "  <tbody>\n",
       "    <tr>\n",
       "      <th>50</th>\n",
       "      <td>0.532673</td>\n",
       "      <td>0.176912</td>\n",
       "      <td>0.939949</td>\n",
       "      <td>0.554964</td>\n",
       "      <td>0.147142</td>\n",
       "      <td>0.924642</td>\n",
       "    </tr>\n",
       "    <tr>\n",
       "      <th>51</th>\n",
       "      <td>0.444780</td>\n",
       "      <td>0.046415</td>\n",
       "      <td>0.832036</td>\n",
       "      <td>0.577880</td>\n",
       "      <td>0.144505</td>\n",
       "      <td>0.933736</td>\n",
       "    </tr>\n",
       "    <tr>\n",
       "      <th>52</th>\n",
       "      <td>0.525796</td>\n",
       "      <td>0.136710</td>\n",
       "      <td>0.927653</td>\n",
       "      <td>0.663891</td>\n",
       "      <td>0.230545</td>\n",
       "      <td>1.026579</td>\n",
       "    </tr>\n",
       "    <tr>\n",
       "      <th>53</th>\n",
       "      <td>0.573911</td>\n",
       "      <td>0.213735</td>\n",
       "      <td>0.977091</td>\n",
       "      <td>0.657898</td>\n",
       "      <td>0.234995</td>\n",
       "      <td>1.020024</td>\n",
       "    </tr>\n",
       "    <tr>\n",
       "      <th>54</th>\n",
       "      <td>0.546336</td>\n",
       "      <td>0.172549</td>\n",
       "      <td>0.949960</td>\n",
       "      <td>0.584119</td>\n",
       "      <td>0.188119</td>\n",
       "      <td>0.951328</td>\n",
       "    </tr>\n",
       "  </tbody>\n",
       "</table>\n",
       "</div>"
      ],
      "text/plain": [
       "           1  1_lower_bound  1_upper_bound         2  2_lower_bound  \\\n",
       "50  0.532673       0.176912       0.939949  0.554964       0.147142   \n",
       "51  0.444780       0.046415       0.832036  0.577880       0.144505   \n",
       "52  0.525796       0.136710       0.927653  0.663891       0.230545   \n",
       "53  0.573911       0.213735       0.977091  0.657898       0.234995   \n",
       "54  0.546336       0.172549       0.949960  0.584119       0.188119   \n",
       "\n",
       "    2_upper_bound  \n",
       "50       0.924642  \n",
       "51       0.933736  \n",
       "52       1.026579  \n",
       "53       1.020024  \n",
       "54       0.951328  "
      ]
     },
     "execution_count": 10,
     "metadata": {},
     "output_type": "execute_result"
    }
   ],
   "source": [
    "predictions = forecaster.predict_interval(steps=5, levels=['1', '2'], exog=exog)\n",
    "predictions"
   ]
  },
  {
   "cell_type": "code",
   "execution_count": 9,
   "id": "af302c03",
   "metadata": {
    "ExecuteTime": {
     "end_time": "2022-10-21T08:15:58.652885Z",
     "start_time": "2022-10-21T08:15:58.581432Z"
    }
   },
   "outputs": [
    {
     "data": {
      "text/plain": [
       "array([[0.55496412, 0.14714165, 0.9246417 ],\n",
       "       [0.57787982, 0.14450512, 0.93373637],\n",
       "       [0.66389117, 0.23054494, 1.02657915],\n",
       "       [0.65789846, 0.23499484, 1.02002429],\n",
       "       [0.5841187 , 0.18811899, 0.9513278 ]])"
      ]
     },
     "execution_count": 9,
     "metadata": {},
     "output_type": "execute_result"
    }
   ],
   "source": [
    "predictions.values"
   ]
  },
  {
   "cell_type": "markdown",
   "id": "7dee81b9",
   "metadata": {},
   "source": [
    "## Backtesting"
   ]
  },
  {
   "cell_type": "code",
   "execution_count": 4,
   "id": "df2b7786",
   "metadata": {
    "ExecuteTime": {
     "end_time": "2022-10-25T09:16:22.793851Z",
     "start_time": "2022-10-25T09:16:22.722649Z"
    }
   },
   "outputs": [],
   "source": [
    "series = pd.DataFrame({'l1': pd.Series(np.array(\n",
    "                                [0.69646919, 0.28613933, 0.22685145, 0.55131477, 0.71946897,\n",
    "                                 0.42310646, 0.9807642 , 0.68482974, 0.4809319 , 0.39211752,\n",
    "                                 0.34317802, 0.72904971, 0.43857224, 0.0596779 , 0.39804426,\n",
    "                                 0.73799541, 0.18249173, 0.17545176, 0.53155137, 0.53182759,\n",
    "                                 0.63440096, 0.84943179, 0.72445532, 0.61102351, 0.72244338,\n",
    "                                 0.32295891, 0.36178866, 0.22826323, 0.29371405, 0.63097612,\n",
    "                                 0.09210494, 0.43370117, 0.43086276, 0.4936851 , 0.42583029,\n",
    "                                 0.31226122, 0.42635131, 0.89338916, 0.94416002, 0.50183668,\n",
    "                                 0.62395295, 0.1156184 , 0.31728548, 0.41482621, 0.86630916,\n",
    "                                 0.25045537, 0.48303426, 0.98555979, 0.51948512, 0.61289453]\n",
    "                                      )\n",
    "                            ), \n",
    "                       'l2': pd.Series(np.array(\n",
    "                                [0.12062867, 0.8263408 , 0.60306013, 0.54506801, 0.34276383,\n",
    "                                 0.30412079, 0.41702221, 0.68130077, 0.87545684, 0.51042234,\n",
    "                                 0.66931378, 0.58593655, 0.6249035 , 0.67468905, 0.84234244,\n",
    "                                 0.08319499, 0.76368284, 0.24366637, 0.19422296, 0.57245696,\n",
    "                                 0.09571252, 0.88532683, 0.62724897, 0.72341636, 0.01612921,\n",
    "                                 0.59443188, 0.55678519, 0.15895964, 0.15307052, 0.69552953,\n",
    "                                 0.31876643, 0.6919703 , 0.55438325, 0.38895057, 0.92513249,\n",
    "                                 0.84167   , 0.35739757, 0.04359146, 0.30476807, 0.39818568,\n",
    "                                 0.70495883, 0.99535848, 0.35591487, 0.76254781, 0.59317692,\n",
    "                                 0.6917018 , 0.15112745, 0.39887629, 0.2408559 , 0.34345601]\n",
    "                                      )\n",
    "                            )\n",
    "                      }\n",
    "         )"
   ]
  },
  {
   "cell_type": "code",
   "execution_count": 76,
   "id": "b96384ee",
   "metadata": {
    "ExecuteTime": {
     "end_time": "2022-10-21T12:38:25.896894Z",
     "start_time": "2022-10-21T12:38:25.829004Z"
    }
   },
   "outputs": [],
   "source": [
    "from skforecast.model_selection_multiseries.model_selection_multiseries import _backtesting_forecaster_multiseries_refit\n",
    "from skforecast.model_selection_multiseries.model_selection_multiseries import _backtesting_forecaster_multiseries_no_refit\n",
    "\n",
    "forecaster = ForecasterAutoregMultiSeries(\n",
    "                    regressor = Ridge(random_state=123),\n",
    "                    lags      = 2\n",
    "                 )\n",
    "\n",
    "steps = 3\n",
    "n_validation = 12\n",
    "\n",
    "metric, backtest_predictions = _backtesting_forecaster_multiseries_no_refit(\n",
    "                                   forecaster          = forecaster,\n",
    "                                   series              = series,\n",
    "                                   steps               = steps,\n",
    "                                   levels              = ['l1'],\n",
    "                                   metric              = 'mean_absolute_error',\n",
    "                                   initial_train_size  = len(series) - n_validation,\n",
    "                                   exog                = None,\n",
    "                                   interval            = None,\n",
    "                                   n_boot              = 500,\n",
    "                                   random_state        = 123,\n",
    "                                   in_sample_residuals = True,\n",
    "                                   verbose             = False\n",
    "                               )"
   ]
  },
  {
   "cell_type": "code",
   "execution_count": 77,
   "id": "8e7aca21",
   "metadata": {
    "ExecuteTime": {
     "end_time": "2022-10-21T12:38:26.264751Z",
     "start_time": "2022-10-21T12:38:26.192992Z"
    }
   },
   "outputs": [
    {
     "name": "stdout",
     "output_type": "stream",
     "text": [
      "[0.20754847]\n"
     ]
    }
   ],
   "source": [
    "print(metric['mean_absolute_error'].values)"
   ]
  },
  {
   "cell_type": "code",
   "execution_count": 78,
   "id": "403bbe17",
   "metadata": {
    "ExecuteTime": {
     "end_time": "2022-10-21T12:38:26.859029Z",
     "start_time": "2022-10-21T12:38:26.796141Z"
    }
   },
   "outputs": [
    {
     "data": {
      "text/plain": [
       "array([0.4978839 , 0.46288427, 0.48433446, 0.48767779, 0.477799  ,\n",
       "       0.48523814, 0.49341916, 0.48967772, 0.48517846, 0.49868447,\n",
       "       0.4859614 , 0.48480032])"
      ]
     },
     "execution_count": 78,
     "metadata": {},
     "output_type": "execute_result"
    }
   ],
   "source": [
    "np.concatenate(backtest_predictions.values)"
   ]
  },
  {
   "cell_type": "code",
   "execution_count": null,
   "id": "4e8629ea",
   "metadata": {},
   "outputs": [],
   "source": []
  },
  {
   "cell_type": "code",
   "execution_count": 99,
   "id": "0058a602",
   "metadata": {
    "ExecuteTime": {
     "end_time": "2022-10-21T16:01:34.362692Z",
     "start_time": "2022-10-21T16:01:34.282730Z"
    }
   },
   "outputs": [],
   "source": [
    "metric, backtest_predictions = backtesting_forecaster_multiseries(\n",
    "                                   forecaster          = forecaster,\n",
    "                                   series              = series,\n",
    "                                   steps               = steps,\n",
    "                                   levels              = ['l1'],\n",
    "                                   metric              = ['mean_absolute_error', mean_absolute_error],\n",
    "                                   refit               = False,\n",
    "                                   initial_train_size  = len(series) - n_validation,\n",
    "                                   fixed_train_size    = False,\n",
    "                                   exog                = None,\n",
    "                                   interval            = None,\n",
    "                                   n_boot              = 500,\n",
    "                                   random_state        = 123,\n",
    "                                   in_sample_residuals = True,\n",
    "                                   verbose             = False\n",
    "                               )"
   ]
  },
  {
   "cell_type": "code",
   "execution_count": 100,
   "id": "2c5f0b9c",
   "metadata": {
    "ExecuteTime": {
     "end_time": "2022-10-21T16:01:34.767806Z",
     "start_time": "2022-10-21T16:01:34.699643Z"
    }
   },
   "outputs": [
    {
     "data": {
      "text/html": [
       "<div>\n",
       "<style scoped>\n",
       "    .dataframe tbody tr th:only-of-type {\n",
       "        vertical-align: middle;\n",
       "    }\n",
       "\n",
       "    .dataframe tbody tr th {\n",
       "        vertical-align: top;\n",
       "    }\n",
       "\n",
       "    .dataframe thead th {\n",
       "        text-align: right;\n",
       "    }\n",
       "</style>\n",
       "<table border=\"1\" class=\"dataframe\">\n",
       "  <thead>\n",
       "    <tr style=\"text-align: right;\">\n",
       "      <th></th>\n",
       "      <th>levels</th>\n",
       "      <th>mean_absolute_error</th>\n",
       "      <th>mean_absolute_error</th>\n",
       "    </tr>\n",
       "  </thead>\n",
       "  <tbody>\n",
       "    <tr>\n",
       "      <th>0</th>\n",
       "      <td>l1</td>\n",
       "      <td>0.207548</td>\n",
       "      <td>0.207548</td>\n",
       "    </tr>\n",
       "  </tbody>\n",
       "</table>\n",
       "</div>"
      ],
      "text/plain": [
       "  levels  mean_absolute_error  mean_absolute_error\n",
       "0     l1             0.207548             0.207548"
      ]
     },
     "execution_count": 100,
     "metadata": {},
     "output_type": "execute_result"
    }
   ],
   "source": [
    "metric"
   ]
  },
  {
   "cell_type": "code",
   "execution_count": 101,
   "id": "b15a9812",
   "metadata": {
    "ExecuteTime": {
     "end_time": "2022-10-21T16:01:35.201912Z",
     "start_time": "2022-10-21T16:01:35.131795Z"
    }
   },
   "outputs": [
    {
     "data": {
      "text/html": [
       "<div>\n",
       "<style scoped>\n",
       "    .dataframe tbody tr th:only-of-type {\n",
       "        vertical-align: middle;\n",
       "    }\n",
       "\n",
       "    .dataframe tbody tr th {\n",
       "        vertical-align: top;\n",
       "    }\n",
       "\n",
       "    .dataframe thead th {\n",
       "        text-align: right;\n",
       "    }\n",
       "</style>\n",
       "<table border=\"1\" class=\"dataframe\">\n",
       "  <thead>\n",
       "    <tr style=\"text-align: right;\">\n",
       "      <th></th>\n",
       "      <th>l1</th>\n",
       "    </tr>\n",
       "  </thead>\n",
       "  <tbody>\n",
       "    <tr>\n",
       "      <th>38</th>\n",
       "      <td>0.497884</td>\n",
       "    </tr>\n",
       "    <tr>\n",
       "      <th>39</th>\n",
       "      <td>0.462884</td>\n",
       "    </tr>\n",
       "    <tr>\n",
       "      <th>40</th>\n",
       "      <td>0.484334</td>\n",
       "    </tr>\n",
       "    <tr>\n",
       "      <th>41</th>\n",
       "      <td>0.487678</td>\n",
       "    </tr>\n",
       "    <tr>\n",
       "      <th>42</th>\n",
       "      <td>0.477799</td>\n",
       "    </tr>\n",
       "  </tbody>\n",
       "</table>\n",
       "</div>"
      ],
      "text/plain": [
       "          l1\n",
       "38  0.497884\n",
       "39  0.462884\n",
       "40  0.484334\n",
       "41  0.487678\n",
       "42  0.477799"
      ]
     },
     "execution_count": 101,
     "metadata": {},
     "output_type": "execute_result"
    }
   ],
   "source": [
    "backtest_predictions.head(5)"
   ]
  },
  {
   "cell_type": "code",
   "execution_count": 53,
   "id": "de86ea04",
   "metadata": {
    "ExecuteTime": {
     "end_time": "2022-10-21T12:00:48.977990Z",
     "start_time": "2022-10-21T12:00:48.911793Z"
    }
   },
   "outputs": [],
   "source": [
    "levels = ['1']"
   ]
  },
  {
   "cell_type": "code",
   "execution_count": 54,
   "id": "2bacd9e3",
   "metadata": {
    "ExecuteTime": {
     "end_time": "2022-10-21T12:00:49.257978Z",
     "start_time": "2022-10-21T12:00:49.176127Z"
    }
   },
   "outputs": [
    {
     "data": {
      "text/html": [
       "<div>\n",
       "<style scoped>\n",
       "    .dataframe tbody tr th:only-of-type {\n",
       "        vertical-align: middle;\n",
       "    }\n",
       "\n",
       "    .dataframe tbody tr th {\n",
       "        vertical-align: top;\n",
       "    }\n",
       "\n",
       "    .dataframe thead th {\n",
       "        text-align: right;\n",
       "    }\n",
       "</style>\n",
       "<table border=\"1\" class=\"dataframe\">\n",
       "  <thead>\n",
       "    <tr style=\"text-align: right;\">\n",
       "      <th></th>\n",
       "      <th>mean_absolute_error</th>\n",
       "    </tr>\n",
       "  </thead>\n",
       "  <tbody>\n",
       "    <tr>\n",
       "      <th>1</th>\n",
       "      <td>0.207548</td>\n",
       "    </tr>\n",
       "  </tbody>\n",
       "</table>\n",
       "</div>"
      ],
      "text/plain": [
       "   mean_absolute_error\n",
       "1             0.207548"
      ]
     },
     "execution_count": 54,
     "metadata": {},
     "output_type": "execute_result"
    }
   ],
   "source": [
    "pd.DataFrame({'mean_absolute_error':[0.20754847190853098]},\n",
    "                                    index = levels)"
   ]
  },
  {
   "cell_type": "code",
   "execution_count": 56,
   "id": "ee6caf64",
   "metadata": {
    "ExecuteTime": {
     "end_time": "2022-10-21T12:15:22.778808Z",
     "start_time": "2022-10-21T12:15:22.710403Z"
    }
   },
   "outputs": [
    {
     "data": {
      "text/html": [
       "<div>\n",
       "<style scoped>\n",
       "    .dataframe tbody tr th:only-of-type {\n",
       "        vertical-align: middle;\n",
       "    }\n",
       "\n",
       "    .dataframe tbody tr th {\n",
       "        vertical-align: top;\n",
       "    }\n",
       "\n",
       "    .dataframe thead th {\n",
       "        text-align: right;\n",
       "    }\n",
       "</style>\n",
       "<table border=\"1\" class=\"dataframe\">\n",
       "  <thead>\n",
       "    <tr style=\"text-align: right;\">\n",
       "      <th></th>\n",
       "      <th>mean_absolute_error</th>\n",
       "    </tr>\n",
       "  </thead>\n",
       "  <tbody>\n",
       "    <tr>\n",
       "      <th>l1</th>\n",
       "      <td>0.212413</td>\n",
       "    </tr>\n",
       "  </tbody>\n",
       "</table>\n",
       "</div>"
      ],
      "text/plain": [
       "    mean_absolute_error\n",
       "l1             0.212413"
      ]
     },
     "execution_count": 56,
     "metadata": {},
     "output_type": "execute_result"
    }
   ],
   "source": [
    "pd.DataFrame({'mean_absolute_error':[0.2124129141233719],\n",
    "              'mean_absolute_error':[0.2124129141233719]},\n",
    "              index = ['l1'])"
   ]
  },
  {
   "cell_type": "code",
   "execution_count": 80,
   "id": "af613d02",
   "metadata": {
    "ExecuteTime": {
     "end_time": "2022-10-21T15:04:48.277673Z",
     "start_time": "2022-10-21T15:04:48.206230Z"
    }
   },
   "outputs": [
    {
     "data": {
      "text/html": [
       "<div>\n",
       "<style scoped>\n",
       "    .dataframe tbody tr th:only-of-type {\n",
       "        vertical-align: middle;\n",
       "    }\n",
       "\n",
       "    .dataframe tbody tr th {\n",
       "        vertical-align: top;\n",
       "    }\n",
       "\n",
       "    .dataframe thead th {\n",
       "        text-align: right;\n",
       "    }\n",
       "</style>\n",
       "<table border=\"1\" class=\"dataframe\">\n",
       "  <thead>\n",
       "    <tr style=\"text-align: right;\">\n",
       "      <th></th>\n",
       "      <th>mean_absolute_error</th>\n",
       "      <th>mean_absolute_error</th>\n",
       "    </tr>\n",
       "  </thead>\n",
       "  <tbody>\n",
       "    <tr>\n",
       "      <th>l1</th>\n",
       "      <td>0.212413</td>\n",
       "      <td>0.212413</td>\n",
       "    </tr>\n",
       "    <tr>\n",
       "      <th>l2</th>\n",
       "      <td>0.212413</td>\n",
       "      <td>0.212413</td>\n",
       "    </tr>\n",
       "  </tbody>\n",
       "</table>\n",
       "</div>"
      ],
      "text/plain": [
       "    mean_absolute_error  mean_absolute_error\n",
       "l1             0.212413             0.212413\n",
       "l2             0.212413             0.212413"
      ]
     },
     "execution_count": 80,
     "metadata": {},
     "output_type": "execute_result"
    }
   ],
   "source": [
    "pd.DataFrame(data = [[0.2124129141233719, 0.2124129141233719],\n",
    "                     [0.2124129141233719, 0.2124129141233719]],\n",
    "             columns = ['mean_absolute_error', 'mean_absolute_error'],\n",
    "             index = ['l1', 'l2'])"
   ]
  },
  {
   "cell_type": "code",
   "execution_count": null,
   "id": "10782d7b",
   "metadata": {},
   "outputs": [],
   "source": [
    "pd.DataFrame(data = [[0.2124129141233719, 0.2124129141233719],\n",
    "                     [0.2124129141233719, 0.2124129141233719]],\n",
    "             columns = ['levels'] + ['mean_absolute_error', 'mean_absolute_error'],\n",
    "             index = ['l1', 'l2'])"
   ]
  },
  {
   "cell_type": "code",
   "execution_count": 86,
   "id": "dba9969d",
   "metadata": {
    "ExecuteTime": {
     "end_time": "2022-10-21T15:07:45.165464Z",
     "start_time": "2022-10-21T15:07:45.083316Z"
    }
   },
   "outputs": [
    {
     "data": {
      "text/plain": [
       "array([['l1', '0.2124129141233719', '0.2124129141233719'],\n",
       "       ['l2', '0.2124129141233719', '0.2124129141233719']], dtype='<U32')"
      ]
     },
     "execution_count": 86,
     "metadata": {},
     "output_type": "execute_result"
    }
   ],
   "source": [
    "levels = ['l1', 'l2']\n",
    "\n",
    "np.hstack((np.array(levels).reshape((2, 1)), [[0.2124129141233719, 0.2124129141233719],\n",
    "                     [0.2124129141233719, 0.2124129141233719]]))"
   ]
  },
  {
   "cell_type": "code",
   "execution_count": 5,
   "id": "037dc28c",
   "metadata": {
    "ExecuteTime": {
     "end_time": "2022-10-25T09:19:51.138141Z",
     "start_time": "2022-10-25T09:19:51.055718Z"
    }
   },
   "outputs": [
    {
     "data": {
      "text/html": [
       "<div>\n",
       "<style scoped>\n",
       "    .dataframe tbody tr th:only-of-type {\n",
       "        vertical-align: middle;\n",
       "    }\n",
       "\n",
       "    .dataframe tbody tr th {\n",
       "        vertical-align: top;\n",
       "    }\n",
       "\n",
       "    .dataframe thead th {\n",
       "        text-align: right;\n",
       "    }\n",
       "</style>\n",
       "<table border=\"1\" class=\"dataframe\">\n",
       "  <thead>\n",
       "    <tr style=\"text-align: right;\">\n",
       "      <th></th>\n",
       "      <th>levels</th>\n",
       "      <th>mean_absolute_error</th>\n",
       "      <th>mean_absolute_error</th>\n",
       "    </tr>\n",
       "  </thead>\n",
       "  <tbody>\n",
       "    <tr>\n",
       "      <th>0</th>\n",
       "      <td>l1</td>\n",
       "      <td>0.2124129141233719</td>\n",
       "      <td>0.2124129141233719</td>\n",
       "    </tr>\n",
       "    <tr>\n",
       "      <th>1</th>\n",
       "      <td>l2</td>\n",
       "      <td>0.2124129141233719</td>\n",
       "      <td>0.2124129141233719</td>\n",
       "    </tr>\n",
       "  </tbody>\n",
       "</table>\n",
       "</div>"
      ],
      "text/plain": [
       "  levels mean_absolute_error mean_absolute_error\n",
       "0     l1  0.2124129141233719  0.2124129141233719\n",
       "1     l2  0.2124129141233719  0.2124129141233719"
      ]
     },
     "execution_count": 5,
     "metadata": {},
     "output_type": "execute_result"
    }
   ],
   "source": [
    "levels = ['l1', 'l2']\n",
    "\n",
    "\n",
    "pd.DataFrame(data = np.hstack((np.array(levels).reshape((len(levels), 1)), [[0.2124129141233719, 0.2124129141233719],\n",
    "                                                                  [0.2124129141233719, 0.2124129141233719]])),\n",
    "             columns = ['levels'] + ['mean_absolute_error', 'mean_absolute_error'])"
   ]
  },
  {
   "cell_type": "code",
   "execution_count": 95,
   "id": "bb1c2542",
   "metadata": {
    "ExecuteTime": {
     "end_time": "2022-10-21T15:09:40.546491Z",
     "start_time": "2022-10-21T15:09:40.472593Z"
    }
   },
   "outputs": [
    {
     "data": {
      "text/html": [
       "<div>\n",
       "<style scoped>\n",
       "    .dataframe tbody tr th:only-of-type {\n",
       "        vertical-align: middle;\n",
       "    }\n",
       "\n",
       "    .dataframe tbody tr th {\n",
       "        vertical-align: top;\n",
       "    }\n",
       "\n",
       "    .dataframe thead th {\n",
       "        text-align: right;\n",
       "    }\n",
       "</style>\n",
       "<table border=\"1\" class=\"dataframe\">\n",
       "  <thead>\n",
       "    <tr style=\"text-align: right;\">\n",
       "      <th></th>\n",
       "      <th>levels</th>\n",
       "      <th>mean_absolute_error</th>\n",
       "      <th>mean_absolute_error</th>\n",
       "    </tr>\n",
       "  </thead>\n",
       "  <tbody>\n",
       "    <tr>\n",
       "      <th>0</th>\n",
       "      <td>l1</td>\n",
       "      <td>0.2124129141233719</td>\n",
       "      <td>0.2124129141233719</td>\n",
       "    </tr>\n",
       "  </tbody>\n",
       "</table>\n",
       "</div>"
      ],
      "text/plain": [
       "  levels mean_absolute_error mean_absolute_error\n",
       "0     l1  0.2124129141233719  0.2124129141233719"
      ]
     },
     "execution_count": 95,
     "metadata": {},
     "output_type": "execute_result"
    }
   ],
   "source": [
    "levels = ['l1']\n",
    "\n",
    "\n",
    "pd.DataFrame(data = np.hstack((np.array(levels).reshape((len(levels), 1)), [[0.2124129141233719, 0.2124129141233719]])),\n",
    "             columns = ['levels'] + ['mean_absolute_error', 'mean_absolute_error'])"
   ]
  },
  {
   "cell_type": "code",
   "execution_count": null,
   "id": "5dd0c49e",
   "metadata": {},
   "outputs": [],
   "source": []
  },
  {
   "cell_type": "code",
   "execution_count": 2,
   "id": "6bedbbb9",
   "metadata": {
    "ExecuteTime": {
     "end_time": "2022-10-22T07:06:05.851132Z",
     "start_time": "2022-10-22T07:06:05.839144Z"
    }
   },
   "outputs": [
    {
     "ename": "ValueError",
     "evalue": "`levels` must be in `series_levels` : ['1', '2'].",
     "output_type": "error",
     "traceback": [
      "\u001b[1;31m---------------------------------------------------------------------------\u001b[0m",
      "\u001b[1;31mValueError\u001b[0m                                Traceback (most recent call last)",
      "Cell \u001b[1;32mIn [2], line 5\u001b[0m\n\u001b[0;32m      2\u001b[0m series_levels \u001b[38;5;241m=\u001b[39m [\u001b[38;5;124m'\u001b[39m\u001b[38;5;124m1\u001b[39m\u001b[38;5;124m'\u001b[39m, \u001b[38;5;124m'\u001b[39m\u001b[38;5;124m2\u001b[39m\u001b[38;5;124m'\u001b[39m]\n\u001b[0;32m      4\u001b[0m \u001b[38;5;28;01mif\u001b[39;00m \u001b[38;5;28mlen\u001b[39m(\u001b[38;5;28mset\u001b[39m(exog_col_names) \u001b[38;5;241m-\u001b[39m \u001b[38;5;28mset\u001b[39m(series_levels)) \u001b[38;5;241m!=\u001b[39m \u001b[38;5;28mlen\u001b[39m(exog_col_names):\n\u001b[1;32m----> 5\u001b[0m     \u001b[38;5;28;01mraise\u001b[39;00m \u001b[38;5;167;01mValueError\u001b[39;00m(\n\u001b[0;32m      6\u001b[0m         \u001b[38;5;124mf\u001b[39m\u001b[38;5;124m'\u001b[39m\u001b[38;5;124m`levels` must be in `series_levels` : \u001b[39m\u001b[38;5;132;01m{\u001b[39;00mseries_levels\u001b[38;5;132;01m}\u001b[39;00m\u001b[38;5;124m.\u001b[39m\u001b[38;5;124m'\u001b[39m\n\u001b[0;32m      7\u001b[0m     )\n",
      "\u001b[1;31mValueError\u001b[0m: `levels` must be in `series_levels` : ['1', '2']."
     ]
    }
   ],
   "source": [
    "exog_col_names = ['1']\n",
    "series_levels = ['1', '2']\n",
    "\n",
    "if len(set(exog_col_names) - set(series_levels)) != len(exog_col_names):\n",
    "    raise ValueError(\n",
    "        f'`levels` must be in `series_levels` : {series_levels}.'\n",
    "    )"
   ]
  },
  {
   "cell_type": "code",
   "execution_count": 10,
   "id": "81685375",
   "metadata": {
    "ExecuteTime": {
     "end_time": "2022-10-22T07:08:13.273773Z",
     "start_time": "2022-10-22T07:08:13.189258Z"
    }
   },
   "outputs": [
    {
     "data": {
      "text/plain": [
       "============================ \n",
       "ForecasterAutoregMultiSeries \n",
       "============================ \n",
       "Regressor: LinearRegression() \n",
       "Lags: [ 1  2  3  4  5  6  7  8  9 10 11 12 13 14 15 16 17 18 19 20 21 22 23 24] \n",
       "Transformer for series: {'l1': None, 'l2': None} \n",
       "Transformer for exog: None \n",
       "Window size: 24 \n",
       "Series levels (names): ['l1', 'l2'] \n",
       "Series weights: None \n",
       "Included exogenous: True \n",
       "Type of exogenous variable: <class 'pandas.core.series.Series'> \n",
       "Exogenous variables names: exog1 \n",
       "Training range: [0, 49] \n",
       "Training index type: RangeIndex \n",
       "Training index frequency: 1 \n",
       "Regressor parameters: {'copy_X': True, 'fit_intercept': True, 'n_jobs': None, 'normalize': 'deprecated', 'positive': False} \n",
       "Creation date: 2022-10-22 09:08:13 \n",
       "Last fit date: 2022-10-22 09:08:13 \n",
       "Skforecast version: 0.6.dev \n",
       "Python version: 3.9.13 "
      ]
     },
     "execution_count": 10,
     "metadata": {},
     "output_type": "execute_result"
    }
   ],
   "source": [
    "forecaster = ForecasterAutoregMultiSeries(\n",
    "                 regressor          = LinearRegression(),\n",
    "                 lags               = 24,\n",
    "                 transformer_series = None,\n",
    "                 transformer_exog   = None,\n",
    "             )\n",
    "\n",
    "forecaster.fit(series=series, exog=series['l1'].rename('exog1'))\n",
    "forecaster"
   ]
  },
  {
   "cell_type": "code",
   "execution_count": 18,
   "id": "22716861",
   "metadata": {
    "ExecuteTime": {
     "end_time": "2022-10-22T07:13:44.102493Z",
     "start_time": "2022-10-22T07:13:43.654659Z"
    }
   },
   "outputs": [
    {
     "name": "stdout",
     "output_type": "stream",
     "text": [
      "['l1']\n",
      "['l1', 'l2']\n",
      "{'l1'}\n",
      "{'l2', 'l1'}\n",
      "set()\n",
      "0\n",
      "1\n"
     ]
    },
    {
     "ename": "ValueError",
     "evalue": "`levels` must be in `series_levels` : 6.",
     "output_type": "error",
     "traceback": [
      "\u001b[1;31m---------------------------------------------------------------------------\u001b[0m",
      "\u001b[1;31mValueError\u001b[0m                                Traceback (most recent call last)",
      "Cell \u001b[1;32mIn [18], line 8\u001b[0m\n\u001b[0;32m      1\u001b[0m forecaster \u001b[38;5;241m=\u001b[39m ForecasterAutoregMultiSeries(\n\u001b[0;32m      2\u001b[0m                  regressor          \u001b[38;5;241m=\u001b[39m LinearRegression(),\n\u001b[0;32m      3\u001b[0m                  lags               \u001b[38;5;241m=\u001b[39m \u001b[38;5;241m24\u001b[39m,\n\u001b[0;32m      4\u001b[0m                  transformer_series \u001b[38;5;241m=\u001b[39m \u001b[38;5;28;01mNone\u001b[39;00m,\n\u001b[0;32m      5\u001b[0m                  transformer_exog   \u001b[38;5;241m=\u001b[39m \u001b[38;5;28;01mNone\u001b[39;00m,\n\u001b[0;32m      6\u001b[0m              )\n\u001b[1;32m----> 8\u001b[0m forecaster\u001b[38;5;241m.\u001b[39mfit(series\u001b[38;5;241m=\u001b[39mseries, exog\u001b[38;5;241m=\u001b[39mseries[\u001b[38;5;124m'\u001b[39m\u001b[38;5;124ml1\u001b[39m\u001b[38;5;124m'\u001b[39m])\n\u001b[0;32m      9\u001b[0m forecaster\n",
      "File \u001b[1;32m~\\GitHub\\skforecast\\skforecast\\ForecasterAutoregMultiSeries\\ForecasterAutoregMultiSeries.py:531\u001b[0m, in \u001b[0;36mForecasterAutoregMultiSeries.fit\u001b[1;34m(self, series, exog, store_in_sample_residuals)\u001b[0m\n\u001b[0;32m    529\u001b[0m \u001b[38;5;28mprint\u001b[39m(\u001b[38;5;28mlen\u001b[39m(\u001b[38;5;28mset\u001b[39m(\u001b[38;5;28mself\u001b[39m\u001b[38;5;241m.\u001b[39mexog_col_names)))\n\u001b[0;32m    530\u001b[0m \u001b[38;5;28;01mif\u001b[39;00m \u001b[38;5;28mlen\u001b[39m(\u001b[38;5;28mset\u001b[39m(\u001b[38;5;28mself\u001b[39m\u001b[38;5;241m.\u001b[39mexog_col_names) \u001b[38;5;241m-\u001b[39m \u001b[38;5;28mset\u001b[39m(\u001b[38;5;28mself\u001b[39m\u001b[38;5;241m.\u001b[39mseries_levels)) \u001b[38;5;241m!=\u001b[39m \u001b[38;5;28mlen\u001b[39m(\u001b[38;5;28mself\u001b[39m\u001b[38;5;241m.\u001b[39mexog_col_names):\n\u001b[1;32m--> 531\u001b[0m     \u001b[38;5;28;01mraise\u001b[39;00m \u001b[38;5;167;01mValueError\u001b[39;00m(\n\u001b[0;32m    532\u001b[0m         \u001b[38;5;124mf\u001b[39m\u001b[38;5;124m'\u001b[39m\u001b[38;5;124m`levels` must be in `series_levels` : 6.\u001b[39m\u001b[38;5;124m'\u001b[39m\n\u001b[0;32m    533\u001b[0m     )\n\u001b[0;32m    534\u001b[0m \u001b[38;5;28;01melse\u001b[39;00m:\n\u001b[0;32m    535\u001b[0m     \u001b[38;5;28;01mraise\u001b[39;00m \u001b[38;5;167;01mValueError\u001b[39;00m(\n\u001b[0;32m    536\u001b[0m         \u001b[38;5;124mf\u001b[39m\u001b[38;5;124m'\u001b[39m\u001b[38;5;124m`levels` must be in `series_levels` : 5.\u001b[39m\u001b[38;5;124m'\u001b[39m\n\u001b[0;32m    537\u001b[0m     )\n",
      "\u001b[1;31mValueError\u001b[0m: `levels` must be in `series_levels` : 6."
     ]
    }
   ],
   "source": [
    "forecaster = ForecasterAutoregMultiSeries(\n",
    "                 regressor          = LinearRegression(),\n",
    "                 lags               = 24,\n",
    "                 transformer_series = None,\n",
    "                 transformer_exog   = None,\n",
    "             )\n",
    "\n",
    "forecaster.fit(series=series, exog=series['l1'])\n",
    "forecaster"
   ]
  },
  {
   "cell_type": "code",
   "execution_count": 20,
   "id": "f8d159a8",
   "metadata": {
    "ExecuteTime": {
     "end_time": "2022-10-22T07:35:06.771672Z",
     "start_time": "2022-10-22T07:35:06.703977Z"
    }
   },
   "outputs": [
    {
     "name": "stderr",
     "output_type": "stream",
     "text": [
      "C:\\Users\\jaesc2\\AppData\\Local\\Temp\\ipykernel_26344\\2288292419.py:3: UserWarning: \n",
      "                        Argument `transform` is set to `False` but forecaster was trained\n",
      "                        using a transformer 5 for level 5.\n",
      "                        Ensure that the new residuals are already transformed or set `transform=True`.\n",
      "                        \n",
      "  warnings.warn(\n"
     ]
    }
   ],
   "source": [
    "import warnings\n",
    "\n",
    "warnings.warn(\n",
    "                        f'''\n",
    "                        Argument `transform` is set to `False` but forecaster was trained\n",
    "                        using a transformer {5} for level {5}.\n",
    "                        Ensure that the new residuals are already transformed or set `transform=True`.\n",
    "                        '''\n",
    "                    )"
   ]
  },
  {
   "cell_type": "code",
   "execution_count": 21,
   "id": "6d23fc6c",
   "metadata": {
    "ExecuteTime": {
     "end_time": "2022-10-22T07:36:50.197098Z",
     "start_time": "2022-10-22T07:36:50.124801Z"
    }
   },
   "outputs": [
    {
     "name": "stderr",
     "output_type": "stream",
     "text": [
      "C:\\Users\\jaesc2\\AppData\\Local\\Temp\\ipykernel_26344\\298739807.py:1: UserWarning: Argument `transform` is set to `False` but forecaster was trained using a transformer 5 for level 5. Ensure that the new residuals are already transformed or set `transform=True`.\n",
      "  warnings.warn(\n"
     ]
    }
   ],
   "source": [
    "warnings.warn(\n",
    "                        ('Argument `transform` is set to `False` but forecaster was trained '\n",
    "                         f'using a transformer {5} for level {5}. '\n",
    "                         'Ensure that the new residuals are already transformed or set `transform=True`.')\n",
    "                    )"
   ]
  },
  {
   "cell_type": "code",
   "execution_count": 24,
   "id": "de59b080",
   "metadata": {
    "ExecuteTime": {
     "end_time": "2022-10-22T07:42:14.537055Z",
     "start_time": "2022-10-22T07:42:14.452829Z"
    }
   },
   "outputs": [
    {
     "ename": "ValueError",
     "evalue": "`last_window` must have as many values as as needed to calculate the predictors. For this forecaster it is 5.",
     "output_type": "error",
     "traceback": [
      "\u001b[1;31m---------------------------------------------------------------------------\u001b[0m",
      "\u001b[1;31mValueError\u001b[0m                                Traceback (most recent call last)",
      "Cell \u001b[1;32mIn [24], line 1\u001b[0m\n\u001b[1;32m----> 1\u001b[0m \u001b[38;5;28;01mraise\u001b[39;00m \u001b[38;5;167;01mValueError\u001b[39;00m(\n\u001b[0;32m      2\u001b[0m     \u001b[38;5;124mf\u001b[39m\u001b[38;5;124m'\u001b[39m\u001b[38;5;124m`last_window` must have as many values as as needed to \u001b[39m\u001b[38;5;124m'\u001b[39m\n\u001b[0;32m      3\u001b[0m     \u001b[38;5;124mf\u001b[39m\u001b[38;5;124m'\u001b[39m\u001b[38;5;124mcalculate the predictors. For this forecaster it is \u001b[39m\u001b[38;5;132;01m{\u001b[39;00m\u001b[38;5;241m5\u001b[39m\u001b[38;5;132;01m}\u001b[39;00m\u001b[38;5;124m.\u001b[39m\u001b[38;5;124m'\u001b[39m\n\u001b[0;32m      4\u001b[0m )\n",
      "\u001b[1;31mValueError\u001b[0m: `last_window` must have as many values as as needed to calculate the predictors. For this forecaster it is 5."
     ]
    }
   ],
   "source": [
    "raise ValueError(\n",
    "    f'`last_window` must have as many values as as needed to '\n",
    "    f'calculate the predictors. For this forecaster it is {5}.'\n",
    ")"
   ]
  },
  {
   "cell_type": "code",
   "execution_count": 30,
   "id": "238bc06b",
   "metadata": {
    "ExecuteTime": {
     "end_time": "2022-10-22T07:45:43.567821Z",
     "start_time": "2022-10-22T07:45:43.499852Z"
    }
   },
   "outputs": [
    {
     "ename": "TypeError",
     "evalue": "In ForecasterAutoregMultiSeries `last_window` must be a pandas DataFrame.\n    Got <class 'int'>.",
     "output_type": "error",
     "traceback": [
      "\u001b[1;31m---------------------------------------------------------------------------\u001b[0m",
      "\u001b[1;31mTypeError\u001b[0m                                 Traceback (most recent call last)",
      "Cell \u001b[1;32mIn [30], line 1\u001b[0m\n\u001b[1;32m----> 1\u001b[0m \u001b[38;5;28;01mraise\u001b[39;00m \u001b[38;5;167;01mTypeError\u001b[39;00m(\n\u001b[0;32m      2\u001b[0m                     (\u001b[38;5;124mf\u001b[39m\u001b[38;5;124m'\u001b[39m\u001b[38;5;124mIn ForecasterAutoregMultiSeries `last_window` must be a pandas DataFrame.\u001b[39m\u001b[38;5;130;01m\\n\u001b[39;00m\u001b[38;5;124m'\u001b[39m \n\u001b[0;32m      3\u001b[0m                      \u001b[38;5;124mf\u001b[39m\u001b[38;5;124m'\u001b[39m\u001b[38;5;124m    Got \u001b[39m\u001b[38;5;132;01m{\u001b[39;00m\u001b[38;5;28mtype\u001b[39m(\u001b[38;5;241m5\u001b[39m)\u001b[38;5;132;01m}\u001b[39;00m\u001b[38;5;124m.\u001b[39m\u001b[38;5;124m'\u001b[39m)\n\u001b[0;32m      4\u001b[0m                 )\n",
      "\u001b[1;31mTypeError\u001b[0m: In ForecasterAutoregMultiSeries `last_window` must be a pandas DataFrame.\n    Got <class 'int'>."
     ]
    }
   ],
   "source": [
    "raise TypeError(\n",
    "                    (f'In ForecasterAutoregMultiSeries `last_window` must be a pandas DataFrame.\\n' \n",
    "                     f'    Got {type(5)}.')\n",
    "                )"
   ]
  },
  {
   "cell_type": "code",
   "execution_count": 31,
   "id": "abee2335",
   "metadata": {
    "ExecuteTime": {
     "end_time": "2022-10-22T07:47:54.596265Z",
     "start_time": "2022-10-22T07:47:54.450014Z"
    }
   },
   "outputs": [
    {
     "ename": "TypeError",
     "evalue": "In ForecasterAutoregMultiSeries `last_window` must be a pandas DataFrame.\n    Got <class 'numpy.ndarray'>.",
     "output_type": "error",
     "traceback": [
      "\u001b[1;31m---------------------------------------------------------------------------\u001b[0m",
      "\u001b[1;31mTypeError\u001b[0m                                 Traceback (most recent call last)",
      "Cell \u001b[1;32mIn [31], line 4\u001b[0m\n\u001b[0;32m      1\u001b[0m \u001b[38;5;28;01mfrom\u001b[39;00m \u001b[38;5;21;01mskforecast\u001b[39;00m\u001b[38;5;21;01m.\u001b[39;00m\u001b[38;5;21;01mutils\u001b[39;00m \u001b[38;5;28;01mimport\u001b[39;00m check_predict_input\n\u001b[0;32m      3\u001b[0m last_window \u001b[38;5;241m=\u001b[39m np\u001b[38;5;241m.\u001b[39marange(\u001b[38;5;241m5\u001b[39m)\n\u001b[1;32m----> 4\u001b[0m check_predict_input(\n\u001b[0;32m      5\u001b[0m     forecaster_type \u001b[38;5;241m=\u001b[39m \u001b[38;5;124m'\u001b[39m\u001b[38;5;124mclass.ForecasterAutoregMultiSeries\u001b[39m\u001b[38;5;124m'\u001b[39m,\n\u001b[0;32m      6\u001b[0m     steps           \u001b[38;5;241m=\u001b[39m \u001b[38;5;241m10\u001b[39m,\n\u001b[0;32m      7\u001b[0m     fitted          \u001b[38;5;241m=\u001b[39m \u001b[38;5;28;01mTrue\u001b[39;00m,\n\u001b[0;32m      8\u001b[0m     included_exog   \u001b[38;5;241m=\u001b[39m \u001b[38;5;28;01mTrue\u001b[39;00m,\n\u001b[0;32m      9\u001b[0m     index_type      \u001b[38;5;241m=\u001b[39m pd\u001b[38;5;241m.\u001b[39mRangeIndex,\n\u001b[0;32m     10\u001b[0m     index_freq      \u001b[38;5;241m=\u001b[39m \u001b[38;5;28;01mNone\u001b[39;00m,\n\u001b[0;32m     11\u001b[0m     window_size     \u001b[38;5;241m=\u001b[39m \u001b[38;5;241m5\u001b[39m,\n\u001b[0;32m     12\u001b[0m     last_window     \u001b[38;5;241m=\u001b[39m last_window,\n\u001b[0;32m     13\u001b[0m     exog            \u001b[38;5;241m=\u001b[39m pd\u001b[38;5;241m.\u001b[39mSeries(np\u001b[38;5;241m.\u001b[39marange(\u001b[38;5;241m10\u001b[39m)),\n\u001b[0;32m     14\u001b[0m     exog_type       \u001b[38;5;241m=\u001b[39m pd\u001b[38;5;241m.\u001b[39mSeries,\n\u001b[0;32m     15\u001b[0m     exog_col_names  \u001b[38;5;241m=\u001b[39m \u001b[38;5;28;01mNone\u001b[39;00m,\n\u001b[0;32m     16\u001b[0m     interval        \u001b[38;5;241m=\u001b[39m \u001b[38;5;28;01mNone\u001b[39;00m,\n\u001b[0;32m     17\u001b[0m     max_steps       \u001b[38;5;241m=\u001b[39m \u001b[38;5;28;01mNone\u001b[39;00m,\n\u001b[0;32m     18\u001b[0m     levels          \u001b[38;5;241m=\u001b[39m \u001b[38;5;124m'\u001b[39m\u001b[38;5;124m1\u001b[39m\u001b[38;5;124m'\u001b[39m,\n\u001b[0;32m     19\u001b[0m     series_levels   \u001b[38;5;241m=\u001b[39m [\u001b[38;5;124m'\u001b[39m\u001b[38;5;124m1\u001b[39m\u001b[38;5;124m'\u001b[39m, \u001b[38;5;124m'\u001b[39m\u001b[38;5;124m2\u001b[39m\u001b[38;5;124m'\u001b[39m]\n\u001b[0;32m     20\u001b[0m )\n",
      "File \u001b[1;32m~\\GitHub\\skforecast\\skforecast\\utils\\utils.py:279\u001b[0m, in \u001b[0;36mcheck_predict_input\u001b[1;34m(forecaster_type, steps, fitted, included_exog, index_type, index_freq, window_size, last_window, exog, exog_type, exog_col_names, interval, max_steps, levels, series_levels)\u001b[0m\n\u001b[0;32m    277\u001b[0m \u001b[38;5;28;01mif\u001b[39;00m \u001b[38;5;28mstr\u001b[39m(forecaster_type)\u001b[38;5;241m.\u001b[39msplit(\u001b[38;5;124m'\u001b[39m\u001b[38;5;124m.\u001b[39m\u001b[38;5;124m'\u001b[39m)[\u001b[38;5;241m1\u001b[39m] \u001b[38;5;241m==\u001b[39m \u001b[38;5;124m'\u001b[39m\u001b[38;5;124mForecasterAutoregMultiSeries\u001b[39m\u001b[38;5;124m'\u001b[39m:\n\u001b[0;32m    278\u001b[0m     \u001b[38;5;28;01mif\u001b[39;00m \u001b[38;5;129;01mnot\u001b[39;00m \u001b[38;5;28misinstance\u001b[39m(last_window, pd\u001b[38;5;241m.\u001b[39mDataFrame):\n\u001b[1;32m--> 279\u001b[0m         \u001b[38;5;28;01mraise\u001b[39;00m \u001b[38;5;167;01mTypeError\u001b[39;00m(\n\u001b[0;32m    280\u001b[0m             (\u001b[38;5;124mf\u001b[39m\u001b[38;5;124m'\u001b[39m\u001b[38;5;124mIn ForecasterAutoregMultiSeries `last_window` must be a pandas DataFrame.\u001b[39m\u001b[38;5;130;01m\\n\u001b[39;00m\u001b[38;5;124m'\u001b[39m \n\u001b[0;32m    281\u001b[0m              \u001b[38;5;124mf\u001b[39m\u001b[38;5;124m'\u001b[39m\u001b[38;5;124m    Got \u001b[39m\u001b[38;5;132;01m{\u001b[39;00m\u001b[38;5;28mtype\u001b[39m(last_window)\u001b[38;5;132;01m}\u001b[39;00m\u001b[38;5;124m.\u001b[39m\u001b[38;5;124m'\u001b[39m)\n\u001b[0;32m    282\u001b[0m         )\n\u001b[0;32m    284\u001b[0m     \u001b[38;5;28;01mif\u001b[39;00m \u001b[38;5;28mlen\u001b[39m(\u001b[38;5;28mset\u001b[39m(levels) \u001b[38;5;241m-\u001b[39m \u001b[38;5;28mset\u001b[39m(last_window\u001b[38;5;241m.\u001b[39mcolumns)) \u001b[38;5;241m!=\u001b[39m \u001b[38;5;241m0\u001b[39m:\n\u001b[0;32m    285\u001b[0m         \u001b[38;5;28;01mraise\u001b[39;00m \u001b[38;5;167;01mValueError\u001b[39;00m(\n\u001b[0;32m    286\u001b[0m             \u001b[38;5;124mf\u001b[39m\u001b[38;5;124m\"\"\"\u001b[39m\n\u001b[0;32m    287\u001b[0m \u001b[38;5;124m            `last_window` must contain a column(s) named as the level(s) to be predicted.\u001b[39m\n\u001b[1;32m   (...)\u001b[0m\n\u001b[0;32m    290\u001b[0m \u001b[38;5;124m            \u001b[39m\u001b[38;5;124m\"\"\"\u001b[39m\n\u001b[0;32m    291\u001b[0m         )\n",
      "\u001b[1;31mTypeError\u001b[0m: In ForecasterAutoregMultiSeries `last_window` must be a pandas DataFrame.\n    Got <class 'numpy.ndarray'>."
     ]
    }
   ],
   "source": [
    "from skforecast.utils import check_predict_input\n",
    "\n",
    "last_window = np.arange(5)\n",
    "check_predict_input(\n",
    "    forecaster_type = 'class.ForecasterAutoregMultiSeries',\n",
    "    steps           = 10,\n",
    "    fitted          = True,\n",
    "    included_exog   = True,\n",
    "    index_type      = pd.RangeIndex,\n",
    "    index_freq      = None,\n",
    "    window_size     = 5,\n",
    "    last_window     = last_window,\n",
    "    exog            = pd.Series(np.arange(10)),\n",
    "    exog_type       = pd.Series,\n",
    "    exog_col_names  = None,\n",
    "    interval        = None,\n",
    "    max_steps       = None,\n",
    "    levels          = '1',\n",
    "    series_levels   = ['1', '2']\n",
    ")"
   ]
  },
  {
   "cell_type": "markdown",
   "id": "8f93bdaa",
   "metadata": {},
   "source": [
    "## Hyperparameters"
   ]
  },
  {
   "cell_type": "code",
   "execution_count": 24,
   "id": "51e4b7e7",
   "metadata": {
    "ExecuteTime": {
     "end_time": "2022-10-25T09:23:55.122355Z",
     "start_time": "2022-10-25T09:23:55.053073Z"
    }
   },
   "outputs": [
    {
     "data": {
      "text/html": [
       "<div>\n",
       "<style scoped>\n",
       "    .dataframe tbody tr th:only-of-type {\n",
       "        vertical-align: middle;\n",
       "    }\n",
       "\n",
       "    .dataframe tbody tr th {\n",
       "        vertical-align: top;\n",
       "    }\n",
       "\n",
       "    .dataframe thead th {\n",
       "        text-align: right;\n",
       "    }\n",
       "</style>\n",
       "<table border=\"1\" class=\"dataframe\">\n",
       "  <thead>\n",
       "    <tr style=\"text-align: right;\">\n",
       "      <th></th>\n",
       "      <th>levels</th>\n",
       "      <th>mean_absolute_error</th>\n",
       "      <th>mean_abslute_error</th>\n",
       "    </tr>\n",
       "  </thead>\n",
       "  <tbody>\n",
       "    <tr>\n",
       "      <th>0</th>\n",
       "      <td>l1</td>\n",
       "      <td>0.2124129141233719</td>\n",
       "      <td>0.2124129141233719</td>\n",
       "    </tr>\n",
       "    <tr>\n",
       "      <th>1</th>\n",
       "      <td>l2</td>\n",
       "      <td>0.2124129141233719</td>\n",
       "      <td>0.2124129141233719</td>\n",
       "    </tr>\n",
       "  </tbody>\n",
       "</table>\n",
       "</div>"
      ],
      "text/plain": [
       "  levels mean_absolute_error  mean_abslute_error\n",
       "0     l1  0.2124129141233719  0.2124129141233719\n",
       "1     l2  0.2124129141233719  0.2124129141233719"
      ]
     },
     "execution_count": 24,
     "metadata": {},
     "output_type": "execute_result"
    }
   ],
   "source": [
    "levels = ['l1', 'l2']\n",
    "\n",
    "\n",
    "df = pd.DataFrame(data = np.hstack((np.array(levels).reshape((len(levels), 1)), [[0.2124129141233719, 0.2124129141233719],\n",
    "                                                                  [0.2124129141233719, 0.2124129141233719]])),\n",
    "             columns = ['levels'] + ['mean_absolute_error', 'mean_abslute_error'])\n",
    "\n",
    "df"
   ]
  },
  {
   "cell_type": "code",
   "execution_count": 31,
   "id": "be70cf65",
   "metadata": {
    "ExecuteTime": {
     "end_time": "2022-10-25T09:24:51.816955Z",
     "start_time": "2022-10-25T09:24:51.745372Z"
    }
   },
   "outputs": [
    {
     "data": {
      "text/plain": [
       "0.2124129141233719"
      ]
     },
     "execution_count": 31,
     "metadata": {},
     "output_type": "execute_result"
    }
   ],
   "source": [
    "df[\"mean_absolute_error\"].astype(float).mean()"
   ]
  },
  {
   "cell_type": "code",
   "execution_count": 29,
   "id": "0bb8397c",
   "metadata": {
    "ExecuteTime": {
     "end_time": "2022-10-25T09:24:40.244684Z",
     "start_time": "2022-10-25T09:24:40.163166Z"
    }
   },
   "outputs": [
    {
     "data": {
      "text/plain": [
       "mean_absolute_error    0.212413\n",
       "mean_abslute_error     0.212413\n",
       "dtype: float64"
      ]
     },
     "execution_count": 29,
     "metadata": {},
     "output_type": "execute_result"
    }
   ],
   "source": [
    "df[[\"mean_absolute_error\", 'mean_abslute_error']].astype(float).mean()"
   ]
  },
  {
   "cell_type": "code",
   "execution_count": 32,
   "id": "dc82b36f",
   "metadata": {
    "ExecuteTime": {
     "end_time": "2022-10-25T09:26:07.840620Z",
     "start_time": "2022-10-25T09:26:07.774875Z"
    }
   },
   "outputs": [
    {
     "data": {
      "text/plain": [
       "mean_absolute_error    0.212413\n",
       "mean_abslute_error     0.212413\n",
       "dtype: float64"
      ]
     },
     "execution_count": 32,
     "metadata": {},
     "output_type": "execute_result"
    }
   ],
   "source": [
    "df[\"mean_absolute_error\"] = df[\"mean_absolute_error\"].astype(float)\n",
    "df[\"mean_abslute_error\"] = df[\"mean_abslute_error\"].astype(float)\n",
    "df.mean(numeric_only=True)"
   ]
  },
  {
   "cell_type": "code",
   "execution_count": 41,
   "id": "377c6a2b",
   "metadata": {
    "ExecuteTime": {
     "end_time": "2022-10-25T09:35:55.049751Z",
     "start_time": "2022-10-25T09:35:54.963246Z"
    }
   },
   "outputs": [
    {
     "data": {
      "text/html": [
       "<div>\n",
       "<style scoped>\n",
       "    .dataframe tbody tr th:only-of-type {\n",
       "        vertical-align: middle;\n",
       "    }\n",
       "\n",
       "    .dataframe tbody tr th {\n",
       "        vertical-align: top;\n",
       "    }\n",
       "\n",
       "    .dataframe thead th {\n",
       "        text-align: right;\n",
       "    }\n",
       "</style>\n",
       "<table border=\"1\" class=\"dataframe\">\n",
       "  <thead>\n",
       "    <tr style=\"text-align: right;\">\n",
       "      <th></th>\n",
       "      <th>levels</th>\n",
       "      <th>mean_absolute_error</th>\n",
       "      <th>mean_squared_error</th>\n",
       "    </tr>\n",
       "  </thead>\n",
       "  <tbody>\n",
       "    <tr>\n",
       "      <th>0</th>\n",
       "      <td>l1</td>\n",
       "      <td>0.207399</td>\n",
       "      <td>0.069545</td>\n",
       "    </tr>\n",
       "    <tr>\n",
       "      <th>1</th>\n",
       "      <td>l2</td>\n",
       "      <td>0.214177</td>\n",
       "      <td>0.058248</td>\n",
       "    </tr>\n",
       "  </tbody>\n",
       "</table>\n",
       "</div>"
      ],
      "text/plain": [
       "  levels  mean_absolute_error  mean_squared_error\n",
       "0     l1             0.207399            0.069545\n",
       "1     l2             0.214177            0.058248"
      ]
     },
     "execution_count": 41,
     "metadata": {},
     "output_type": "execute_result"
    }
   ],
   "source": [
    "from skforecast.model_selection_multiseries import backtesting_forecaster_multiseries\n",
    "\n",
    "forecaster = ForecasterAutoregMultiSeries(\n",
    "                    regressor = Ridge(random_state=123, alpha=0.01),\n",
    "                    lags      = 2 \n",
    "                 )\n",
    "\n",
    "steps = 3\n",
    "n_validation = 12\n",
    "\n",
    "metric, backtest_predictions = backtesting_forecaster_multiseries(\n",
    "                                   forecaster          = forecaster,\n",
    "                                   series              = series,\n",
    "                                   steps               = steps,\n",
    "                                   levels              = None,\n",
    "                                   metric              = ['mean_absolute_error', 'mean_squared_error'],\n",
    "                                   refit               = False,\n",
    "                                   initial_train_size  = len(series) - n_validation,\n",
    "                                   fixed_train_size    = False,\n",
    "                                   exog                = None,\n",
    "                                   interval            = None,\n",
    "                                   n_boot              = 500,\n",
    "                                   random_state        = 123,\n",
    "                                   in_sample_residuals = True,\n",
    "                                   verbose             = False\n",
    "                               )\n",
    "\n",
    "metric"
   ]
  },
  {
   "cell_type": "code",
   "execution_count": 42,
   "id": "d91d2686",
   "metadata": {
    "ExecuteTime": {
     "end_time": "2022-10-25T09:36:37.708610Z",
     "start_time": "2022-10-25T09:36:37.640950Z"
    }
   },
   "outputs": [
    {
     "data": {
      "text/plain": [
       "mean_absolute_error    0.210788\n",
       "mean_squared_error     0.063896\n",
       "dtype: float64"
      ]
     },
     "execution_count": 42,
     "metadata": {},
     "output_type": "execute_result"
    }
   ],
   "source": [
    "metric.mean(numeric_only=True)"
   ]
  },
  {
   "cell_type": "code",
   "execution_count": 61,
   "id": "3448b2b5",
   "metadata": {
    "ExecuteTime": {
     "end_time": "2022-10-25T10:15:59.127033Z",
     "start_time": "2022-10-25T10:15:59.051769Z"
    }
   },
   "outputs": [
    {
     "data": {
      "text/plain": [
       "0.21078779920557153"
      ]
     },
     "execution_count": 61,
     "metadata": {},
     "output_type": "execute_result"
    }
   ],
   "source": [
    "metric['mean_absolute_error'].mean()"
   ]
  },
  {
   "cell_type": "code",
   "execution_count": 47,
   "id": "8d123726",
   "metadata": {
    "ExecuteTime": {
     "end_time": "2022-10-25T09:46:34.331764Z",
     "start_time": "2022-10-25T09:46:34.187638Z"
    }
   },
   "outputs": [
    {
     "name": "stdout",
     "output_type": "stream",
     "text": [
      "6 models compared for 2 level(s). Number of iterations: 12.\n"
     ]
    },
    {
     "name": "stderr",
     "output_type": "stream",
     "text": [
      "loop lags_grid:   0%|                                               | 0/2 [00:00<?, ?it/s]\n",
      "loop param_grid:   0%|                                              | 0/3 [00:00<?, ?it/s]\u001b[A\n",
      "                                                                                          \u001b[A\n",
      "loop param_grid:   0%|                                              | 0/3 [00:00<?, ?it/s]\u001b[A\n",
      "loop lags_grid: 100%|███████████████████████████████████████| 2/2 [00:00<00:00, 31.86it/s]\u001b[A\n"
     ]
    }
   ],
   "source": [
    "from skforecast.model_selection_multiseries.model_selection_multiseries import _evaluate_grid_hyperparameters_multiseries\n",
    "\n",
    "forecaster = ForecasterAutoregMultiSeries(\n",
    "                    regressor = Ridge(random_state=123),\n",
    "                    lags      = 2 # Placeholder, the value will be overwritten\n",
    "                 )\n",
    "\n",
    "steps = 3\n",
    "n_validation = 12\n",
    "lags_grid = [2, 4]\n",
    "param_grid = [{'alpha': 0.01}, {'alpha': 0.1}, {'alpha': 1}]\n",
    "\n",
    "results = _evaluate_grid_hyperparameters_multiseries(\n",
    "                forecaster          = forecaster,\n",
    "                series              = series,\n",
    "                param_grid          = param_grid,\n",
    "                steps               = steps,\n",
    "                metric              = ['mean_absolute_error', 'mean_squared_error'],\n",
    "                initial_train_size  = len(series) - n_validation,\n",
    "                fixed_train_size    = False,\n",
    "                levels              = None,\n",
    "                exog                = None,\n",
    "                lags_grid           = lags_grid,\n",
    "                refit               = False,\n",
    "                return_best         = False,\n",
    "                verbose             = False\n",
    "          )"
   ]
  },
  {
   "cell_type": "code",
   "execution_count": 48,
   "id": "c4006ec8",
   "metadata": {
    "ExecuteTime": {
     "end_time": "2022-10-25T09:46:39.853776Z",
     "start_time": "2022-10-25T09:46:39.777725Z"
    }
   },
   "outputs": [
    {
     "data": {
      "text/html": [
       "<div>\n",
       "<style scoped>\n",
       "    .dataframe tbody tr th:only-of-type {\n",
       "        vertical-align: middle;\n",
       "    }\n",
       "\n",
       "    .dataframe tbody tr th {\n",
       "        vertical-align: top;\n",
       "    }\n",
       "\n",
       "    .dataframe thead th {\n",
       "        text-align: right;\n",
       "    }\n",
       "</style>\n",
       "<table border=\"1\" class=\"dataframe\">\n",
       "  <thead>\n",
       "    <tr style=\"text-align: right;\">\n",
       "      <th></th>\n",
       "      <th>levels</th>\n",
       "      <th>lags</th>\n",
       "      <th>params</th>\n",
       "      <th>mean_absolute_error</th>\n",
       "      <th>mean_squared_error</th>\n",
       "      <th>alpha</th>\n",
       "    </tr>\n",
       "  </thead>\n",
       "  <tbody>\n",
       "    <tr>\n",
       "      <th>3</th>\n",
       "      <td>[l1, l2]</td>\n",
       "      <td>[1, 2, 3, 4]</td>\n",
       "      <td>{'alpha': 0.01}</td>\n",
       "      <td>0.209681</td>\n",
       "      <td>0.063654</td>\n",
       "      <td>0.01</td>\n",
       "    </tr>\n",
       "    <tr>\n",
       "      <th>4</th>\n",
       "      <td>[l1, l2]</td>\n",
       "      <td>[1, 2, 3, 4]</td>\n",
       "      <td>{'alpha': 0.1}</td>\n",
       "      <td>0.209693</td>\n",
       "      <td>0.063676</td>\n",
       "      <td>0.10</td>\n",
       "    </tr>\n",
       "    <tr>\n",
       "      <th>5</th>\n",
       "      <td>[l1, l2]</td>\n",
       "      <td>[1, 2, 3, 4]</td>\n",
       "      <td>{'alpha': 1}</td>\n",
       "      <td>0.209779</td>\n",
       "      <td>0.063854</td>\n",
       "      <td>1.00</td>\n",
       "    </tr>\n",
       "    <tr>\n",
       "      <th>2</th>\n",
       "      <td>[l1, l2]</td>\n",
       "      <td>[1, 2]</td>\n",
       "      <td>{'alpha': 1}</td>\n",
       "      <td>0.210773</td>\n",
       "      <td>0.064078</td>\n",
       "      <td>1.00</td>\n",
       "    </tr>\n",
       "    <tr>\n",
       "      <th>1</th>\n",
       "      <td>[l1, l2]</td>\n",
       "      <td>[1, 2]</td>\n",
       "      <td>{'alpha': 0.1}</td>\n",
       "      <td>0.210787</td>\n",
       "      <td>0.063916</td>\n",
       "      <td>0.10</td>\n",
       "    </tr>\n",
       "    <tr>\n",
       "      <th>0</th>\n",
       "      <td>[l1, l2]</td>\n",
       "      <td>[1, 2]</td>\n",
       "      <td>{'alpha': 0.01}</td>\n",
       "      <td>0.210788</td>\n",
       "      <td>0.063896</td>\n",
       "      <td>0.01</td>\n",
       "    </tr>\n",
       "  </tbody>\n",
       "</table>\n",
       "</div>"
      ],
      "text/plain": [
       "     levels          lags           params  mean_absolute_error  \\\n",
       "3  [l1, l2]  [1, 2, 3, 4]  {'alpha': 0.01}             0.209681   \n",
       "4  [l1, l2]  [1, 2, 3, 4]   {'alpha': 0.1}             0.209693   \n",
       "5  [l1, l2]  [1, 2, 3, 4]     {'alpha': 1}             0.209779   \n",
       "2  [l1, l2]        [1, 2]     {'alpha': 1}             0.210773   \n",
       "1  [l1, l2]        [1, 2]   {'alpha': 0.1}             0.210787   \n",
       "0  [l1, l2]        [1, 2]  {'alpha': 0.01}             0.210788   \n",
       "\n",
       "   mean_squared_error  alpha  \n",
       "3            0.063654   0.01  \n",
       "4            0.063676   0.10  \n",
       "5            0.063854   1.00  \n",
       "2            0.064078   1.00  \n",
       "1            0.063916   0.10  \n",
       "0            0.063896   0.01  "
      ]
     },
     "execution_count": 48,
     "metadata": {},
     "output_type": "execute_result"
    }
   ],
   "source": [
    "results"
   ]
  },
  {
   "cell_type": "markdown",
   "id": "831a7281",
   "metadata": {
    "ExecuteTime": {
     "end_time": "2022-10-25T09:44:31.991308Z",
     "start_time": "2022-10-25T09:44:31.899419Z"
    }
   },
   "source": [
    "### tests"
   ]
  },
  {
   "cell_type": "code",
   "execution_count": 56,
   "id": "e6544e86",
   "metadata": {
    "ExecuteTime": {
     "end_time": "2022-10-25T10:09:43.547258Z",
     "start_time": "2022-10-25T10:09:43.474864Z"
    }
   },
   "outputs": [],
   "source": [
    "series = pd.DataFrame({'l1': pd.Series(np.array(\n",
    "                                [0.69646919, 0.28613933, 0.22685145, 0.55131477, 0.71946897,\n",
    "                                 0.42310646, 0.9807642 , 0.68482974, 0.4809319 , 0.39211752,\n",
    "                                 0.34317802, 0.72904971, 0.43857224, 0.0596779 , 0.39804426,\n",
    "                                 0.73799541, 0.18249173, 0.17545176, 0.53155137, 0.53182759,\n",
    "                                 0.63440096, 0.84943179, 0.72445532, 0.61102351, 0.72244338,\n",
    "                                 0.32295891, 0.36178866, 0.22826323, 0.29371405, 0.63097612,\n",
    "                                 0.09210494, 0.43370117, 0.43086276, 0.4936851 , 0.42583029,\n",
    "                                 0.31226122, 0.42635131, 0.89338916, 0.94416002, 0.50183668,\n",
    "                                 0.62395295, 0.1156184 , 0.31728548, 0.41482621, 0.86630916,\n",
    "                                 0.25045537, 0.48303426, 0.98555979, 0.51948512, 0.61289453]\n",
    "                                      )\n",
    "                            ), \n",
    "                       'l2': pd.Series(np.array(\n",
    "                                [0.12062867, 0.8263408 , 0.60306013, 0.54506801, 0.34276383,\n",
    "                                 0.30412079, 0.41702221, 0.68130077, 0.87545684, 0.51042234,\n",
    "                                 0.66931378, 0.58593655, 0.6249035 , 0.67468905, 0.84234244,\n",
    "                                 0.08319499, 0.76368284, 0.24366637, 0.19422296, 0.57245696,\n",
    "                                 0.09571252, 0.88532683, 0.62724897, 0.72341636, 0.01612921,\n",
    "                                 0.59443188, 0.55678519, 0.15895964, 0.15307052, 0.69552953,\n",
    "                                 0.31876643, 0.6919703 , 0.55438325, 0.38895057, 0.92513249,\n",
    "                                 0.84167   , 0.35739757, 0.04359146, 0.30476807, 0.39818568,\n",
    "                                 0.70495883, 0.99535848, 0.35591487, 0.76254781, 0.59317692,\n",
    "                                 0.6917018 , 0.15112745, 0.39887629, 0.2408559 , 0.34345601]\n",
    "                                      )\n",
    "                            )\n",
    "                      }\n",
    "         )"
   ]
  },
  {
   "cell_type": "code",
   "execution_count": 60,
   "id": "6d18286c",
   "metadata": {
    "ExecuteTime": {
     "end_time": "2022-10-25T10:15:01.220901Z",
     "start_time": "2022-10-25T10:15:01.083441Z"
    }
   },
   "outputs": [
    {
     "name": "stdout",
     "output_type": "stream",
     "text": [
      "6 models compared for 2 level(s). Number of iterations: 12.\n"
     ]
    },
    {
     "name": "stderr",
     "output_type": "stream",
     "text": [
      "loop lags_grid:   0%|                                               | 0/2 [00:00<?, ?it/s]\n",
      "loop param_grid:   0%|                                              | 0/3 [00:00<?, ?it/s]\u001b[A\n",
      "                                                                                          \u001b[A\n",
      "loop param_grid:   0%|                                              | 0/3 [00:00<?, ?it/s]\u001b[A\n",
      "loop lags_grid: 100%|███████████████████████████████████████| 2/2 [00:00<00:00, 34.84it/s]\u001b[A\n"
     ]
    },
    {
     "data": {
      "text/html": [
       "<div>\n",
       "<style scoped>\n",
       "    .dataframe tbody tr th:only-of-type {\n",
       "        vertical-align: middle;\n",
       "    }\n",
       "\n",
       "    .dataframe tbody tr th {\n",
       "        vertical-align: top;\n",
       "    }\n",
       "\n",
       "    .dataframe thead th {\n",
       "        text-align: right;\n",
       "    }\n",
       "</style>\n",
       "<table border=\"1\" class=\"dataframe\">\n",
       "  <thead>\n",
       "    <tr style=\"text-align: right;\">\n",
       "      <th></th>\n",
       "      <th>levels</th>\n",
       "      <th>lags</th>\n",
       "      <th>params</th>\n",
       "      <th>mean_absolute_error</th>\n",
       "      <th>alpha</th>\n",
       "    </tr>\n",
       "  </thead>\n",
       "  <tbody>\n",
       "    <tr>\n",
       "      <th>3</th>\n",
       "      <td>[l1, l2]</td>\n",
       "      <td>[1, 2, 3, 4]</td>\n",
       "      <td>{'alpha': 0.01}</td>\n",
       "      <td>0.209681</td>\n",
       "      <td>0.01</td>\n",
       "    </tr>\n",
       "    <tr>\n",
       "      <th>4</th>\n",
       "      <td>[l1, l2]</td>\n",
       "      <td>[1, 2, 3, 4]</td>\n",
       "      <td>{'alpha': 0.1}</td>\n",
       "      <td>0.209693</td>\n",
       "      <td>0.10</td>\n",
       "    </tr>\n",
       "    <tr>\n",
       "      <th>5</th>\n",
       "      <td>[l1, l2]</td>\n",
       "      <td>[1, 2, 3, 4]</td>\n",
       "      <td>{'alpha': 1}</td>\n",
       "      <td>0.209779</td>\n",
       "      <td>1.00</td>\n",
       "    </tr>\n",
       "    <tr>\n",
       "      <th>2</th>\n",
       "      <td>[l1, l2]</td>\n",
       "      <td>[1, 2]</td>\n",
       "      <td>{'alpha': 1}</td>\n",
       "      <td>0.210773</td>\n",
       "      <td>1.00</td>\n",
       "    </tr>\n",
       "    <tr>\n",
       "      <th>1</th>\n",
       "      <td>[l1, l2]</td>\n",
       "      <td>[1, 2]</td>\n",
       "      <td>{'alpha': 0.1}</td>\n",
       "      <td>0.210787</td>\n",
       "      <td>0.10</td>\n",
       "    </tr>\n",
       "    <tr>\n",
       "      <th>0</th>\n",
       "      <td>[l1, l2]</td>\n",
       "      <td>[1, 2]</td>\n",
       "      <td>{'alpha': 0.01}</td>\n",
       "      <td>0.210788</td>\n",
       "      <td>0.01</td>\n",
       "    </tr>\n",
       "  </tbody>\n",
       "</table>\n",
       "</div>"
      ],
      "text/plain": [
       "     levels          lags           params  mean_absolute_error  alpha\n",
       "3  [l1, l2]  [1, 2, 3, 4]  {'alpha': 0.01}             0.209681   0.01\n",
       "4  [l1, l2]  [1, 2, 3, 4]   {'alpha': 0.1}             0.209693   0.10\n",
       "5  [l1, l2]  [1, 2, 3, 4]     {'alpha': 1}             0.209779   1.00\n",
       "2  [l1, l2]        [1, 2]     {'alpha': 1}             0.210773   1.00\n",
       "1  [l1, l2]        [1, 2]   {'alpha': 0.1}             0.210787   0.10\n",
       "0  [l1, l2]        [1, 2]  {'alpha': 0.01}             0.210788   0.01"
      ]
     },
     "execution_count": 60,
     "metadata": {},
     "output_type": "execute_result"
    }
   ],
   "source": [
    "forecaster = ForecasterAutoregMultiSeries(\n",
    "                    regressor = Ridge(random_state=123),\n",
    "                    lags      = 2 # Placeholder, the value will be overwritten\n",
    "                 )\n",
    "\n",
    "steps = 3\n",
    "n_validation = 12\n",
    "lags_grid = [2, 4]\n",
    "param_grid = [{'alpha': 0.01}, {'alpha': 0.1}, {'alpha': 1}]\n",
    "\n",
    "results = _evaluate_grid_hyperparameters_multiseries(\n",
    "                forecaster          = forecaster,\n",
    "                series              = series,\n",
    "                param_grid          = param_grid,\n",
    "                steps               = steps,\n",
    "                metric              = 'mean_absolute_error',\n",
    "                initial_train_size  = len(series) - n_validation,\n",
    "                fixed_train_size    = False,\n",
    "                levels              = None,\n",
    "                exog                = None,\n",
    "                lags_grid           = lags_grid,\n",
    "                refit               = False,\n",
    "                return_best         = False,\n",
    "                verbose             = False\n",
    "          )\n",
    "\n",
    "results"
   ]
  },
  {
   "cell_type": "code",
   "execution_count": 59,
   "id": "0a42a87d",
   "metadata": {
    "ExecuteTime": {
     "end_time": "2022-10-25T10:14:52.498007Z",
     "start_time": "2022-10-25T10:14:52.395640Z"
    }
   },
   "outputs": [
    {
     "name": "stdout",
     "output_type": "stream",
     "text": [
      "3 models compared for 2 level(s). Number of iterations: 6.\n"
     ]
    },
    {
     "name": "stderr",
     "output_type": "stream",
     "text": [
      "loop lags_grid:   0%|                                               | 0/1 [00:00<?, ?it/s]\n",
      "loop param_grid:   0%|                                              | 0/3 [00:00<?, ?it/s]\u001b[A\n",
      "loop lags_grid: 100%|███████████████████████████████████████| 1/1 [00:00<00:00, 36.36it/s]\u001b[A\n"
     ]
    },
    {
     "data": {
      "text/html": [
       "<div>\n",
       "<style scoped>\n",
       "    .dataframe tbody tr th:only-of-type {\n",
       "        vertical-align: middle;\n",
       "    }\n",
       "\n",
       "    .dataframe tbody tr th {\n",
       "        vertical-align: top;\n",
       "    }\n",
       "\n",
       "    .dataframe thead th {\n",
       "        text-align: right;\n",
       "    }\n",
       "</style>\n",
       "<table border=\"1\" class=\"dataframe\">\n",
       "  <thead>\n",
       "    <tr style=\"text-align: right;\">\n",
       "      <th></th>\n",
       "      <th>levels</th>\n",
       "      <th>lags</th>\n",
       "      <th>params</th>\n",
       "      <th>mean_absolute_error</th>\n",
       "      <th>alpha</th>\n",
       "    </tr>\n",
       "  </thead>\n",
       "  <tbody>\n",
       "    <tr>\n",
       "      <th>2</th>\n",
       "      <td>[l1, l2]</td>\n",
       "      <td>[1, 2]</td>\n",
       "      <td>{'alpha': 1}</td>\n",
       "      <td>0.210773</td>\n",
       "      <td>1.00</td>\n",
       "    </tr>\n",
       "    <tr>\n",
       "      <th>1</th>\n",
       "      <td>[l1, l2]</td>\n",
       "      <td>[1, 2]</td>\n",
       "      <td>{'alpha': 0.1}</td>\n",
       "      <td>0.210787</td>\n",
       "      <td>0.10</td>\n",
       "    </tr>\n",
       "    <tr>\n",
       "      <th>0</th>\n",
       "      <td>[l1, l2]</td>\n",
       "      <td>[1, 2]</td>\n",
       "      <td>{'alpha': 0.01}</td>\n",
       "      <td>0.210788</td>\n",
       "      <td>0.01</td>\n",
       "    </tr>\n",
       "  </tbody>\n",
       "</table>\n",
       "</div>"
      ],
      "text/plain": [
       "     levels    lags           params  mean_absolute_error  alpha\n",
       "2  [l1, l2]  [1, 2]     {'alpha': 1}             0.210773   1.00\n",
       "1  [l1, l2]  [1, 2]   {'alpha': 0.1}             0.210787   0.10\n",
       "0  [l1, l2]  [1, 2]  {'alpha': 0.01}             0.210788   0.01"
      ]
     },
     "execution_count": 59,
     "metadata": {},
     "output_type": "execute_result"
    }
   ],
   "source": [
    "forecaster = ForecasterAutoregMultiSeries(\n",
    "                    regressor = Ridge(random_state=123),\n",
    "                    lags      = 2\n",
    "                 )\n",
    "\n",
    "lags_grid = None\n",
    "steps = 3\n",
    "n_validation = 12\n",
    "param_grid = [{'alpha': 0.01}, {'alpha': 0.1}, {'alpha': 1}]\n",
    "\n",
    "results = _evaluate_grid_hyperparameters_multiseries(\n",
    "                forecaster          = forecaster,\n",
    "                series              = series,\n",
    "                param_grid          = param_grid,\n",
    "                steps               = steps,\n",
    "                metric              = mean_absolute_error,\n",
    "                initial_train_size  = len(series) - n_validation,\n",
    "                fixed_train_size    = False,\n",
    "                levels              = ['l1', 'l2'],\n",
    "                exog                = None,\n",
    "                lags_grid           = lags_grid,\n",
    "                refit               = False,\n",
    "                return_best         = False,\n",
    "                verbose             = False\n",
    "          )\n",
    "\n",
    "results"
   ]
  },
  {
   "cell_type": "code",
   "execution_count": 63,
   "id": "0cb1cf52",
   "metadata": {
    "ExecuteTime": {
     "end_time": "2022-10-25T10:25:16.208611Z",
     "start_time": "2022-10-25T10:25:16.065235Z"
    }
   },
   "outputs": [
    {
     "name": "stdout",
     "output_type": "stream",
     "text": [
      "6 models compared for 2 level(s). Number of iterations: 12.\n"
     ]
    },
    {
     "name": "stderr",
     "output_type": "stream",
     "text": [
      "loop lags_grid:   0%|                                               | 0/2 [00:00<?, ?it/s]\n",
      "loop param_grid:   0%|                                              | 0/3 [00:00<?, ?it/s]\u001b[A\n",
      "                                                                                          \u001b[A\n",
      "loop param_grid:   0%|                                              | 0/3 [00:00<?, ?it/s]\u001b[A\n",
      "loop lags_grid: 100%|███████████████████████████████████████| 2/2 [00:00<00:00, 35.83it/s]\u001b[A\n"
     ]
    },
    {
     "data": {
      "text/html": [
       "<div>\n",
       "<style scoped>\n",
       "    .dataframe tbody tr th:only-of-type {\n",
       "        vertical-align: middle;\n",
       "    }\n",
       "\n",
       "    .dataframe tbody tr th {\n",
       "        vertical-align: top;\n",
       "    }\n",
       "\n",
       "    .dataframe thead th {\n",
       "        text-align: right;\n",
       "    }\n",
       "</style>\n",
       "<table border=\"1\" class=\"dataframe\">\n",
       "  <thead>\n",
       "    <tr style=\"text-align: right;\">\n",
       "      <th></th>\n",
       "      <th>levels</th>\n",
       "      <th>lags</th>\n",
       "      <th>params</th>\n",
       "      <th>mean_squared_error</th>\n",
       "      <th>mean_absolute_error</th>\n",
       "      <th>alpha</th>\n",
       "    </tr>\n",
       "  </thead>\n",
       "  <tbody>\n",
       "    <tr>\n",
       "      <th>3</th>\n",
       "      <td>[l1, l2]</td>\n",
       "      <td>[1, 2, 3, 4]</td>\n",
       "      <td>{'alpha': 0.01}</td>\n",
       "      <td>0.063654</td>\n",
       "      <td>0.209681</td>\n",
       "      <td>0.01</td>\n",
       "    </tr>\n",
       "    <tr>\n",
       "      <th>4</th>\n",
       "      <td>[l1, l2]</td>\n",
       "      <td>[1, 2, 3, 4]</td>\n",
       "      <td>{'alpha': 0.1}</td>\n",
       "      <td>0.063676</td>\n",
       "      <td>0.209693</td>\n",
       "      <td>0.10</td>\n",
       "    </tr>\n",
       "    <tr>\n",
       "      <th>5</th>\n",
       "      <td>[l1, l2]</td>\n",
       "      <td>[1, 2, 3, 4]</td>\n",
       "      <td>{'alpha': 1}</td>\n",
       "      <td>0.063854</td>\n",
       "      <td>0.209779</td>\n",
       "      <td>1.00</td>\n",
       "    </tr>\n",
       "    <tr>\n",
       "      <th>0</th>\n",
       "      <td>[l1, l2]</td>\n",
       "      <td>[1, 2]</td>\n",
       "      <td>{'alpha': 0.01}</td>\n",
       "      <td>0.063896</td>\n",
       "      <td>0.210788</td>\n",
       "      <td>0.01</td>\n",
       "    </tr>\n",
       "    <tr>\n",
       "      <th>1</th>\n",
       "      <td>[l1, l2]</td>\n",
       "      <td>[1, 2]</td>\n",
       "      <td>{'alpha': 0.1}</td>\n",
       "      <td>0.063916</td>\n",
       "      <td>0.210787</td>\n",
       "      <td>0.10</td>\n",
       "    </tr>\n",
       "    <tr>\n",
       "      <th>2</th>\n",
       "      <td>[l1, l2]</td>\n",
       "      <td>[1, 2]</td>\n",
       "      <td>{'alpha': 1}</td>\n",
       "      <td>0.064078</td>\n",
       "      <td>0.210773</td>\n",
       "      <td>1.00</td>\n",
       "    </tr>\n",
       "  </tbody>\n",
       "</table>\n",
       "</div>"
      ],
      "text/plain": [
       "     levels          lags           params  mean_squared_error  \\\n",
       "3  [l1, l2]  [1, 2, 3, 4]  {'alpha': 0.01}            0.063654   \n",
       "4  [l1, l2]  [1, 2, 3, 4]   {'alpha': 0.1}            0.063676   \n",
       "5  [l1, l2]  [1, 2, 3, 4]     {'alpha': 1}            0.063854   \n",
       "0  [l1, l2]        [1, 2]  {'alpha': 0.01}            0.063896   \n",
       "1  [l1, l2]        [1, 2]   {'alpha': 0.1}            0.063916   \n",
       "2  [l1, l2]        [1, 2]     {'alpha': 1}            0.064078   \n",
       "\n",
       "   mean_absolute_error  alpha  \n",
       "3             0.209681   0.01  \n",
       "4             0.209693   0.10  \n",
       "5             0.209779   1.00  \n",
       "0             0.210788   0.01  \n",
       "1             0.210787   0.10  \n",
       "2             0.210773   1.00  "
      ]
     },
     "execution_count": 63,
     "metadata": {},
     "output_type": "execute_result"
    }
   ],
   "source": [
    "forecaster = ForecasterAutoregMultiSeries(\n",
    "                    regressor = Ridge(random_state=123),\n",
    "                    lags      = 2 # Placeholder, the value will be overwritten\n",
    "                 )\n",
    "\n",
    "steps = 3\n",
    "n_validation = 12\n",
    "lags_grid = [2, 4]\n",
    "param_grid = [{'alpha': 0.01}, {'alpha': 0.1}, {'alpha': 1}]\n",
    "\n",
    "results = _evaluate_grid_hyperparameters_multiseries(\n",
    "              forecaster          = forecaster,\n",
    "              series              = series,\n",
    "              param_grid          = param_grid,\n",
    "              steps               = steps,\n",
    "              metric              = [mean_squared_error, 'mean_absolute_error'],\n",
    "              initial_train_size  = len(series) - n_validation,\n",
    "              fixed_train_size    = False,\n",
    "              levels              = None,\n",
    "              exog                = None,\n",
    "              lags_grid           = lags_grid,\n",
    "              refit               = False,\n",
    "              return_best         = False,\n",
    "              verbose             = False\n",
    "          )\n",
    "\n",
    "results"
   ]
  },
  {
   "cell_type": "code",
   "execution_count": 68,
   "id": "c8da4e21",
   "metadata": {
    "ExecuteTime": {
     "end_time": "2022-10-25T10:26:39.418184Z",
     "start_time": "2022-10-25T10:26:39.350989Z"
    }
   },
   "outputs": [
    {
     "name": "stdout",
     "output_type": "stream",
     "text": [
      "[0.06365397633008085, 0.06367614582294409, 0.06385378127252679, 0.06389613553855186, 0.06391570591810977, 0.06407787633532819]\n"
     ]
    }
   ],
   "source": [
    "print(list(results.mean_squared_error.values))"
   ]
  },
  {
   "cell_type": "code",
   "execution_count": 79,
   "id": "3caa8cca",
   "metadata": {
    "ExecuteTime": {
     "end_time": "2022-10-25T11:27:03.150066Z",
     "start_time": "2022-10-25T11:27:03.080288Z"
    }
   },
   "outputs": [
    {
     "data": {
      "text/plain": [
       "array([1, 2, 3, 4])"
      ]
     },
     "execution_count": 79,
     "metadata": {},
     "output_type": "execute_result"
    }
   ],
   "source": [
    "forecaster.lags"
   ]
  },
  {
   "cell_type": "markdown",
   "id": "7a9890c6",
   "metadata": {},
   "source": [
    "## Create lags"
   ]
  },
  {
   "cell_type": "code",
   "execution_count": 133,
   "id": "b2ba012a",
   "metadata": {
    "ExecuteTime": {
     "end_time": "2022-10-25T12:30:16.492240Z",
     "start_time": "2022-10-25T12:30:16.425525Z"
    }
   },
   "outputs": [],
   "source": [
    "def _create_lags(\n",
    "        max_lag,\n",
    "        lags,\n",
    "        y: np.ndarray\n",
    "    ):\n",
    "          \n",
    "        n_splits = len(y) - max_lag\n",
    "        if n_splits <= 0:\n",
    "            raise ValueError(\n",
    "                f'The maximum lag ({max_lag}) must be less than the length '\n",
    "                f'of the series ({len(y)}).'\n",
    "            )\n",
    "        \n",
    "        X_data = np.full(shape=(n_splits, max_lag), fill_value=np.nan, dtype=float)\n",
    "#         print(X_data.shape)\n",
    "        y_data = np.full(shape=(n_splits, 1), fill_value=np.nan, dtype=float)\n",
    "\n",
    "        for i in range(n_splits):\n",
    "            X_index = np.arange(i, max_lag + i)\n",
    "            y_index = [max_lag + i]\n",
    "            X_data[i, :] = y[X_index]\n",
    "            y_data[i]    = y[y_index]\n",
    "            \n",
    "        X_data = X_data[:, -lags] # Only keep needed lags\n",
    "        y_data = y_data.ravel()\n",
    "            \n",
    "        return X_data, y_data"
   ]
  },
  {
   "cell_type": "code",
   "execution_count": 134,
   "id": "ca6c8053",
   "metadata": {
    "ExecuteTime": {
     "end_time": "2022-10-25T12:30:16.786527Z",
     "start_time": "2022-10-25T12:30:16.714929Z"
    }
   },
   "outputs": [],
   "source": [
    "y = np.array(list(range(100)))\n",
    "max_lag = 25\n",
    "lags = np.array(list(range(25)))+1"
   ]
  },
  {
   "cell_type": "code",
   "execution_count": 138,
   "id": "84f30dfe",
   "metadata": {
    "ExecuteTime": {
     "end_time": "2022-10-25T12:30:45.654825Z",
     "start_time": "2022-10-25T12:30:45.588175Z"
    }
   },
   "outputs": [
    {
     "data": {
      "text/plain": [
       "(array([[24., 20., 10.,  0.],\n",
       "        [25., 21., 11.,  1.],\n",
       "        [26., 22., 12.,  2.],\n",
       "        [27., 23., 13.,  3.],\n",
       "        [28., 24., 14.,  4.],\n",
       "        [29., 25., 15.,  5.],\n",
       "        [30., 26., 16.,  6.],\n",
       "        [31., 27., 17.,  7.],\n",
       "        [32., 28., 18.,  8.],\n",
       "        [33., 29., 19.,  9.],\n",
       "        [34., 30., 20., 10.],\n",
       "        [35., 31., 21., 11.],\n",
       "        [36., 32., 22., 12.],\n",
       "        [37., 33., 23., 13.],\n",
       "        [38., 34., 24., 14.],\n",
       "        [39., 35., 25., 15.],\n",
       "        [40., 36., 26., 16.],\n",
       "        [41., 37., 27., 17.],\n",
       "        [42., 38., 28., 18.],\n",
       "        [43., 39., 29., 19.],\n",
       "        [44., 40., 30., 20.],\n",
       "        [45., 41., 31., 21.],\n",
       "        [46., 42., 32., 22.],\n",
       "        [47., 43., 33., 23.],\n",
       "        [48., 44., 34., 24.],\n",
       "        [49., 45., 35., 25.],\n",
       "        [50., 46., 36., 26.],\n",
       "        [51., 47., 37., 27.],\n",
       "        [52., 48., 38., 28.],\n",
       "        [53., 49., 39., 29.],\n",
       "        [54., 50., 40., 30.],\n",
       "        [55., 51., 41., 31.],\n",
       "        [56., 52., 42., 32.],\n",
       "        [57., 53., 43., 33.],\n",
       "        [58., 54., 44., 34.],\n",
       "        [59., 55., 45., 35.],\n",
       "        [60., 56., 46., 36.],\n",
       "        [61., 57., 47., 37.],\n",
       "        [62., 58., 48., 38.],\n",
       "        [63., 59., 49., 39.],\n",
       "        [64., 60., 50., 40.],\n",
       "        [65., 61., 51., 41.],\n",
       "        [66., 62., 52., 42.],\n",
       "        [67., 63., 53., 43.],\n",
       "        [68., 64., 54., 44.],\n",
       "        [69., 65., 55., 45.],\n",
       "        [70., 66., 56., 46.],\n",
       "        [71., 67., 57., 47.],\n",
       "        [72., 68., 58., 48.],\n",
       "        [73., 69., 59., 49.],\n",
       "        [74., 70., 60., 50.],\n",
       "        [75., 71., 61., 51.],\n",
       "        [76., 72., 62., 52.],\n",
       "        [77., 73., 63., 53.],\n",
       "        [78., 74., 64., 54.],\n",
       "        [79., 75., 65., 55.],\n",
       "        [80., 76., 66., 56.],\n",
       "        [81., 77., 67., 57.],\n",
       "        [82., 78., 68., 58.],\n",
       "        [83., 79., 69., 59.],\n",
       "        [84., 80., 70., 60.],\n",
       "        [85., 81., 71., 61.],\n",
       "        [86., 82., 72., 62.],\n",
       "        [87., 83., 73., 63.],\n",
       "        [88., 84., 74., 64.],\n",
       "        [89., 85., 75., 65.],\n",
       "        [90., 86., 76., 66.],\n",
       "        [91., 87., 77., 67.],\n",
       "        [92., 88., 78., 68.],\n",
       "        [93., 89., 79., 69.],\n",
       "        [94., 90., 80., 70.],\n",
       "        [95., 91., 81., 71.],\n",
       "        [96., 92., 82., 72.],\n",
       "        [97., 93., 83., 73.],\n",
       "        [98., 94., 84., 74.]]),\n",
       " array([25., 26., 27., 28., 29., 30., 31., 32., 33., 34., 35., 36., 37.,\n",
       "        38., 39., 40., 41., 42., 43., 44., 45., 46., 47., 48., 49., 50.,\n",
       "        51., 52., 53., 54., 55., 56., 57., 58., 59., 60., 61., 62., 63.,\n",
       "        64., 65., 66., 67., 68., 69., 70., 71., 72., 73., 74., 75., 76.,\n",
       "        77., 78., 79., 80., 81., 82., 83., 84., 85., 86., 87., 88., 89.,\n",
       "        90., 91., 92., 93., 94., 95., 96., 97., 98., 99.]))"
      ]
     },
     "execution_count": 138,
     "metadata": {},
     "output_type": "execute_result"
    }
   ],
   "source": [
    "max_lag = 25\n",
    "lags = np.array([1, 5, 15, 25])\n",
    "\n",
    "_create_lags(max_lag, lags, y)\n"
   ]
  },
  {
   "cell_type": "code",
   "execution_count": 137,
   "id": "6e7ef333",
   "metadata": {
    "ExecuteTime": {
     "end_time": "2022-10-25T12:30:38.385508Z",
     "start_time": "2022-10-25T12:30:38.316994Z"
    }
   },
   "outputs": [
    {
     "data": {
      "text/plain": [
       "(array([[24., 20., 10.,  0.],\n",
       "        [25., 21., 11.,  1.],\n",
       "        [26., 22., 12.,  2.],\n",
       "        [27., 23., 13.,  3.],\n",
       "        [28., 24., 14.,  4.],\n",
       "        [29., 25., 15.,  5.],\n",
       "        [30., 26., 16.,  6.],\n",
       "        [31., 27., 17.,  7.],\n",
       "        [32., 28., 18.,  8.],\n",
       "        [33., 29., 19.,  9.],\n",
       "        [34., 30., 20., 10.],\n",
       "        [35., 31., 21., 11.],\n",
       "        [36., 32., 22., 12.],\n",
       "        [37., 33., 23., 13.],\n",
       "        [38., 34., 24., 14.],\n",
       "        [39., 35., 25., 15.],\n",
       "        [40., 36., 26., 16.],\n",
       "        [41., 37., 27., 17.],\n",
       "        [42., 38., 28., 18.],\n",
       "        [43., 39., 29., 19.],\n",
       "        [44., 40., 30., 20.],\n",
       "        [45., 41., 31., 21.],\n",
       "        [46., 42., 32., 22.],\n",
       "        [47., 43., 33., 23.],\n",
       "        [48., 44., 34., 24.],\n",
       "        [49., 45., 35., 25.],\n",
       "        [50., 46., 36., 26.],\n",
       "        [51., 47., 37., 27.],\n",
       "        [52., 48., 38., 28.],\n",
       "        [53., 49., 39., 29.],\n",
       "        [54., 50., 40., 30.],\n",
       "        [55., 51., 41., 31.],\n",
       "        [56., 52., 42., 32.],\n",
       "        [57., 53., 43., 33.],\n",
       "        [58., 54., 44., 34.],\n",
       "        [59., 55., 45., 35.],\n",
       "        [60., 56., 46., 36.],\n",
       "        [61., 57., 47., 37.],\n",
       "        [62., 58., 48., 38.],\n",
       "        [63., 59., 49., 39.],\n",
       "        [64., 60., 50., 40.],\n",
       "        [65., 61., 51., 41.],\n",
       "        [66., 62., 52., 42.],\n",
       "        [67., 63., 53., 43.],\n",
       "        [68., 64., 54., 44.],\n",
       "        [69., 65., 55., 45.],\n",
       "        [70., 66., 56., 46.],\n",
       "        [71., 67., 57., 47.],\n",
       "        [72., 68., 58., 48.],\n",
       "        [73., 69., 59., 49.],\n",
       "        [74., 70., 60., 50.],\n",
       "        [75., 71., 61., 51.],\n",
       "        [76., 72., 62., 52.],\n",
       "        [77., 73., 63., 53.],\n",
       "        [78., 74., 64., 54.],\n",
       "        [79., 75., 65., 55.],\n",
       "        [80., 76., 66., 56.],\n",
       "        [81., 77., 67., 57.],\n",
       "        [82., 78., 68., 58.],\n",
       "        [83., 79., 69., 59.],\n",
       "        [84., 80., 70., 60.],\n",
       "        [85., 81., 71., 61.],\n",
       "        [86., 82., 72., 62.],\n",
       "        [87., 83., 73., 63.],\n",
       "        [88., 84., 74., 64.],\n",
       "        [89., 85., 75., 65.],\n",
       "        [90., 86., 76., 66.],\n",
       "        [91., 87., 77., 67.],\n",
       "        [92., 88., 78., 68.],\n",
       "        [93., 89., 79., 69.],\n",
       "        [94., 90., 80., 70.],\n",
       "        [95., 91., 81., 71.],\n",
       "        [96., 92., 82., 72.],\n",
       "        [97., 93., 83., 73.],\n",
       "        [98., 94., 84., 74.]]),\n",
       " array([25, 26, 27, 28, 29, 30, 31, 32, 33, 34, 35, 36, 37, 38, 39, 40, 41,\n",
       "        42, 43, 44, 45, 46, 47, 48, 49, 50, 51, 52, 53, 54, 55, 56, 57, 58,\n",
       "        59, 60, 61, 62, 63, 64, 65, 66, 67, 68, 69, 70, 71, 72, 73, 74, 75,\n",
       "        76, 77, 78, 79, 80, 81, 82, 83, 84, 85, 86, 87, 88, 89, 90, 91, 92,\n",
       "        93, 94, 95, 96, 97, 98, 99]))"
      ]
     },
     "execution_count": 137,
     "metadata": {},
     "output_type": "execute_result"
    }
   ],
   "source": [
    "def _create_lags_2(max_lag, lags, y):\n",
    "    n_splits = len(y) - max_lag\n",
    "    if n_splits <= 0:\n",
    "        raise Exception(\n",
    "            \"max lag must be less than the length of the series.\"\n",
    "        )\n",
    "    X_data = np.full(shape=(n_splits, len(lags)), fill_value=np.nan, dtype=float)\n",
    "#     print(X_data)\n",
    "    \n",
    "    for i, lag in enumerate(lags):\n",
    "        X_data[:, i] = y[max_lag - lag: -lag]\n",
    "\n",
    "    y_data = y[max_lag:]\n",
    "    return X_data, y_data\n",
    "\n",
    "_create_lags_2(max_lag, lags, y)"
   ]
  },
  {
   "cell_type": "code",
   "execution_count": 118,
   "id": "6fde9650",
   "metadata": {
    "ExecuteTime": {
     "end_time": "2022-10-25T11:50:54.975399Z",
     "start_time": "2022-10-25T11:50:54.906460Z"
    }
   },
   "outputs": [
    {
     "name": "stdout",
     "output_type": "stream",
     "text": [
      "0.0033697999988362426\n"
     ]
    }
   ],
   "source": [
    "import time\n",
    "\n",
    "y = np.array(list(range(1000)))\n",
    "max_lag = 25\n",
    "lags = np.array(list(range(25)))+1\n",
    "\n",
    "tic = time.perf_counter()\n",
    "_create_lags(max_lag, lags, y)\n",
    "toc = time.perf_counter()\n",
    "print(toc - tic)"
   ]
  },
  {
   "cell_type": "code",
   "execution_count": 119,
   "id": "39a389c8",
   "metadata": {
    "ExecuteTime": {
     "end_time": "2022-10-25T11:50:56.667287Z",
     "start_time": "2022-10-25T11:50:56.601478Z"
    }
   },
   "outputs": [
    {
     "name": "stdout",
     "output_type": "stream",
     "text": [
      "0.00012340000102994964\n"
     ]
    }
   ],
   "source": [
    "import time\n",
    "\n",
    "tic = time.perf_counter()\n",
    "_create_lags_2(max_lag, lags, y)\n",
    "toc = time.perf_counter()\n",
    "print(toc - tic)"
   ]
  },
  {
   "cell_type": "code",
   "execution_count": 115,
   "id": "d1c58c3a",
   "metadata": {
    "ExecuteTime": {
     "end_time": "2022-10-25T11:50:01.349359Z",
     "start_time": "2022-10-25T11:49:09.601318Z"
    }
   },
   "outputs": [
    {
     "data": {
      "text/html": [
       "<div>\n",
       "<style scoped>\n",
       "    .dataframe tbody tr th:only-of-type {\n",
       "        vertical-align: middle;\n",
       "    }\n",
       "\n",
       "    .dataframe tbody tr th {\n",
       "        vertical-align: top;\n",
       "    }\n",
       "\n",
       "    .dataframe thead th {\n",
       "        text-align: right;\n",
       "    }\n",
       "</style>\n",
       "<table border=\"1\" class=\"dataframe\">\n",
       "  <thead>\n",
       "    <tr style=\"text-align: right;\">\n",
       "      <th></th>\n",
       "      <th>5</th>\n",
       "      <th>10</th>\n",
       "      <th>50</th>\n",
       "      <th>100</th>\n",
       "      <th>200</th>\n",
       "    </tr>\n",
       "  </thead>\n",
       "  <tbody>\n",
       "    <tr>\n",
       "      <th>1000</th>\n",
       "      <td>0.003360</td>\n",
       "      <td>0.003162</td>\n",
       "      <td>0.003213</td>\n",
       "      <td>0.003576</td>\n",
       "      <td>0.003463</td>\n",
       "    </tr>\n",
       "    <tr>\n",
       "      <th>250750</th>\n",
       "      <td>0.824659</td>\n",
       "      <td>0.855161</td>\n",
       "      <td>0.942768</td>\n",
       "      <td>1.035182</td>\n",
       "      <td>1.280856</td>\n",
       "    </tr>\n",
       "    <tr>\n",
       "      <th>500500</th>\n",
       "      <td>1.666318</td>\n",
       "      <td>1.725732</td>\n",
       "      <td>1.926032</td>\n",
       "      <td>2.160744</td>\n",
       "      <td>2.759508</td>\n",
       "    </tr>\n",
       "    <tr>\n",
       "      <th>750250</th>\n",
       "      <td>2.488447</td>\n",
       "      <td>2.583108</td>\n",
       "      <td>2.855960</td>\n",
       "      <td>3.240567</td>\n",
       "      <td>4.230627</td>\n",
       "    </tr>\n",
       "    <tr>\n",
       "      <th>1000000</th>\n",
       "      <td>3.321627</td>\n",
       "      <td>3.414178</td>\n",
       "      <td>3.757877</td>\n",
       "      <td>4.439700</td>\n",
       "      <td>5.493142</td>\n",
       "    </tr>\n",
       "  </tbody>\n",
       "</table>\n",
       "</div>"
      ],
      "text/plain": [
       "              5         10        50        100       200\n",
       "1000     0.003360  0.003162  0.003213  0.003576  0.003463\n",
       "250750   0.824659  0.855161  0.942768  1.035182  1.280856\n",
       "500500   1.666318  1.725732  1.926032  2.160744  2.759508\n",
       "750250   2.488447  2.583108  2.855960  3.240567  4.230627\n",
       "1000000  3.321627  3.414178  3.757877  4.439700  5.493142"
      ]
     },
     "execution_count": 115,
     "metadata": {},
     "output_type": "execute_result"
    }
   ],
   "source": [
    "# Profiling `create_train_X_y` for different length of series and number of lags\n",
    "# ======================================================================================\n",
    "series_length = np.linspace(1000, 1000000, num=5, dtype=int)\n",
    "n_lags = [5, 10, 50, 100, 200]\n",
    "results = {}\n",
    "\n",
    "for lags in n_lags:\n",
    "    \n",
    "    lags_np = np.array(list(range(lags)))+1\n",
    "    max_lag = lags\n",
    "    \n",
    "    execution_time = []\n",
    "\n",
    "    for n in series_length:\n",
    "        y = np.array(list(range(n)))\n",
    "        tic = time.perf_counter()\n",
    "        _create_lags(max_lag, lags_np, y)\n",
    "        toc = time.perf_counter()\n",
    "        execution_time.append(toc-tic)\n",
    "\n",
    "    results[lags] = execution_time\n",
    "\n",
    "results = pd.DataFrame(\n",
    "              data =  results,\n",
    "              index = series_length\n",
    "          )\n",
    "\n",
    "results"
   ]
  },
  {
   "cell_type": "code",
   "execution_count": 116,
   "id": "876c8749",
   "metadata": {
    "ExecuteTime": {
     "end_time": "2022-10-25T11:50:12.090660Z",
     "start_time": "2022-10-25T11:50:03.065019Z"
    }
   },
   "outputs": [
    {
     "data": {
      "text/html": [
       "<div>\n",
       "<style scoped>\n",
       "    .dataframe tbody tr th:only-of-type {\n",
       "        vertical-align: middle;\n",
       "    }\n",
       "\n",
       "    .dataframe tbody tr th {\n",
       "        vertical-align: top;\n",
       "    }\n",
       "\n",
       "    .dataframe thead th {\n",
       "        text-align: right;\n",
       "    }\n",
       "</style>\n",
       "<table border=\"1\" class=\"dataframe\">\n",
       "  <thead>\n",
       "    <tr style=\"text-align: right;\">\n",
       "      <th></th>\n",
       "      <th>5</th>\n",
       "      <th>10</th>\n",
       "      <th>50</th>\n",
       "      <th>100</th>\n",
       "      <th>200</th>\n",
       "    </tr>\n",
       "  </thead>\n",
       "  <tbody>\n",
       "    <tr>\n",
       "      <th>1000</th>\n",
       "      <td>0.000038</td>\n",
       "      <td>0.000050</td>\n",
       "      <td>0.000119</td>\n",
       "      <td>0.000187</td>\n",
       "      <td>0.000568</td>\n",
       "    </tr>\n",
       "    <tr>\n",
       "      <th>250750</th>\n",
       "      <td>0.002885</td>\n",
       "      <td>0.007893</td>\n",
       "      <td>0.115636</td>\n",
       "      <td>0.201356</td>\n",
       "      <td>0.244420</td>\n",
       "    </tr>\n",
       "    <tr>\n",
       "      <th>500500</th>\n",
       "      <td>0.005751</td>\n",
       "      <td>0.024266</td>\n",
       "      <td>0.302351</td>\n",
       "      <td>0.520028</td>\n",
       "      <td>0.658331</td>\n",
       "    </tr>\n",
       "    <tr>\n",
       "      <th>750250</th>\n",
       "      <td>0.010698</td>\n",
       "      <td>0.044454</td>\n",
       "      <td>0.403971</td>\n",
       "      <td>0.789093</td>\n",
       "      <td>1.416315</td>\n",
       "    </tr>\n",
       "    <tr>\n",
       "      <th>1000000</th>\n",
       "      <td>0.017020</td>\n",
       "      <td>0.062244</td>\n",
       "      <td>0.525730</td>\n",
       "      <td>1.044080</td>\n",
       "      <td>1.918657</td>\n",
       "    </tr>\n",
       "  </tbody>\n",
       "</table>\n",
       "</div>"
      ],
      "text/plain": [
       "              5         10        50        100       200\n",
       "1000     0.000038  0.000050  0.000119  0.000187  0.000568\n",
       "250750   0.002885  0.007893  0.115636  0.201356  0.244420\n",
       "500500   0.005751  0.024266  0.302351  0.520028  0.658331\n",
       "750250   0.010698  0.044454  0.403971  0.789093  1.416315\n",
       "1000000  0.017020  0.062244  0.525730  1.044080  1.918657"
      ]
     },
     "execution_count": 116,
     "metadata": {},
     "output_type": "execute_result"
    }
   ],
   "source": [
    "# Profiling `create_train_X_y` for different length of series and number of lags\n",
    "# ======================================================================================\n",
    "series_length = np.linspace(1000, 1000000, num=5, dtype=int)\n",
    "n_lags = [5, 10, 50, 100, 200]\n",
    "results_n = {}\n",
    "\n",
    "for lags in n_lags:\n",
    "    \n",
    "    lags_np = np.array(list(range(lags)))+1\n",
    "    max_lag = lags\n",
    "    \n",
    "    execution_time = []\n",
    "\n",
    "    for n in series_length:\n",
    "        y = np.array(list(range(n)))\n",
    "        tic = time.perf_counter()\n",
    "        _create_lags_2(max_lag, lags_np, y)\n",
    "        toc = time.perf_counter()\n",
    "        execution_time.append(toc-tic)\n",
    "\n",
    "    results_n[lags] = execution_time\n",
    "\n",
    "results_n = pd.DataFrame(\n",
    "              data =  results_n,\n",
    "              index = series_length\n",
    "          )\n",
    "\n",
    "results_n"
   ]
  },
  {
   "cell_type": "code",
   "execution_count": 130,
   "id": "64b6f0e2",
   "metadata": {
    "ExecuteTime": {
     "end_time": "2022-10-25T12:02:51.502691Z",
     "start_time": "2022-10-25T12:02:51.424247Z"
    }
   },
   "outputs": [
    {
     "data": {
      "text/plain": [
       "(   lag_1  lag_2  lag_3  lag_4  lag_5\n",
       " 5    4.0    3.0    2.0    1.0    0.0\n",
       " 6    5.0    4.0    3.0    2.0    1.0\n",
       " 7    6.0    5.0    4.0    3.0    2.0\n",
       " 8    7.0    6.0    5.0    4.0    3.0\n",
       " 9    8.0    7.0    6.0    5.0    4.0,\n",
       " 5    5\n",
       " 6    6\n",
       " 7    7\n",
       " 8    8\n",
       " 9    9\n",
       " Name: y, dtype: int32)"
      ]
     },
     "execution_count": 130,
     "metadata": {},
     "output_type": "execute_result"
    }
   ],
   "source": [
    "from skforecast.ForecasterAutoreg import ForecasterAutoreg\n",
    "from sklearn.linear_model import LinearRegression\n",
    "from sklearn.preprocessing import StandardScaler\n",
    "\n",
    "forecaster = ForecasterAutoreg(\n",
    "        regressor = LinearRegression(),\n",
    "        lags = 5,\n",
    "        transformer_exog = StandardScaler()\n",
    "    )\n",
    "\n",
    "results = forecaster.create_train_X_y(y=pd.Series(np.arange(10)))\n",
    "results"
   ]
  },
  {
   "cell_type": "markdown",
   "id": "22e36732",
   "metadata": {},
   "source": [
    "### Direct"
   ]
  },
  {
   "cell_type": "code",
   "execution_count": 186,
   "id": "fe3f77ef",
   "metadata": {
    "ExecuteTime": {
     "end_time": "2022-10-25T13:36:49.471424Z",
     "start_time": "2022-10-25T13:36:49.403241Z"
    }
   },
   "outputs": [],
   "source": [
    "def _create_lags(\n",
    "    max_lag, steps, lags,\n",
    "    y: np.ndarray\n",
    "):\n",
    "\n",
    "    n_splits = len(y) - max_lag - (steps - 1)\n",
    "\n",
    "    X_data = np.full(shape=(n_splits, max_lag), fill_value=np.nan, dtype=float)\n",
    "    y_data = np.full(shape=(n_splits, steps), fill_value=np.nan, dtype=float)\n",
    "\n",
    "    for i in range(n_splits):\n",
    "        X_index = np.arange(i, max_lag + i)\n",
    "        y_index = np.arange(max_lag + i, max_lag + i + steps)\n",
    "\n",
    "        X_data[i, :] = y[X_index]\n",
    "        y_data[i, :] = y[y_index]\n",
    "\n",
    "    X_data = X_data[:, -lags] # Only keep needed lags\n",
    "\n",
    "    return X_data, y_data"
   ]
  },
  {
   "cell_type": "code",
   "execution_count": 144,
   "id": "dccb2992",
   "metadata": {
    "ExecuteTime": {
     "end_time": "2022-10-25T12:31:39.267560Z",
     "start_time": "2022-10-25T12:31:39.204302Z"
    }
   },
   "outputs": [
    {
     "data": {
      "text/plain": [
       "(array([[2., 1., 0.],\n",
       "        [3., 2., 1.],\n",
       "        [4., 3., 2.],\n",
       "        [5., 4., 3.],\n",
       "        [6., 5., 4.],\n",
       "        [7., 6., 5.]]),\n",
       " array([[3., 4.],\n",
       "        [4., 5.],\n",
       "        [5., 6.],\n",
       "        [6., 7.],\n",
       "        [7., 8.],\n",
       "        [8., 9.]]))"
      ]
     },
     "execution_count": 144,
     "metadata": {},
     "output_type": "execute_result"
    }
   ],
   "source": [
    "y = np.array(list(range(10)))\n",
    "max_lag = 3\n",
    "lags = np.array(list(range(3)))+1\n",
    "steps = 2\n",
    "\n",
    "_create_lags(max_lag, steps, lags, y)"
   ]
  },
  {
   "cell_type": "code",
   "execution_count": 184,
   "id": "852d3010",
   "metadata": {
    "ExecuteTime": {
     "end_time": "2022-10-25T13:34:52.362721Z",
     "start_time": "2022-10-25T13:34:52.282811Z"
    }
   },
   "outputs": [
    {
     "name": "stdout",
     "output_type": "stream",
     "text": [
      "[[nan nan nan]\n",
      " [nan nan nan]\n",
      " [nan nan nan]\n",
      " [nan nan nan]\n",
      " [nan nan nan]\n",
      " [nan nan nan]]\n",
      "[[nan nan]\n",
      " [nan nan]\n",
      " [nan nan]\n",
      " [nan nan]\n",
      " [nan nan]\n",
      " [nan nan]]\n",
      "-1\n",
      "[3 4 5 6 7 8 9]\n",
      "0\n",
      "[4 5 6 7 8 9]\n"
     ]
    },
    {
     "data": {
      "text/plain": [
       "(array([[2., 1., 0.],\n",
       "        [3., 2., 1.],\n",
       "        [4., 3., 2.],\n",
       "        [5., 4., 3.],\n",
       "        [6., 5., 4.],\n",
       "        [7., 6., 5.]]),\n",
       " array([[nan, nan],\n",
       "        [nan, nan],\n",
       "        [nan, nan],\n",
       "        [nan, nan],\n",
       "        [nan, nan],\n",
       "        [nan, nan]]))"
      ]
     },
     "execution_count": 184,
     "metadata": {},
     "output_type": "execute_result"
    }
   ],
   "source": [
    "def _create_lags_2(\n",
    "    max_lag, steps, lags,\n",
    "    y: np.ndarray):\n",
    "\n",
    "    n_splits = len(y) - max_lag - (steps - 1)\n",
    "    if n_splits <= 0:\n",
    "        raise Exception(\n",
    "            \"max lag must be less than the length of the series.\"\n",
    "        )\n",
    "    X_data = np.full(shape=(n_splits, len(lags)), fill_value=np.nan, dtype=float)\n",
    "    y_data = np.full(shape=(n_splits, steps), fill_value=np.nan, dtype=float)\n",
    "    print(X_data)\n",
    "    print(y_data)\n",
    "    \n",
    "    for i, lag in enumerate(lags):\n",
    "        X_data[:, i] = y[max_lag - lag:-(lag+steps-1)]  \n",
    "        \n",
    "    for j, step in enumerate(range(steps)):\n",
    "        \n",
    "        print(-(steps)+1+j)\n",
    "        ii = y[max_lag + step:]\n",
    "        print(ii)\n",
    "#         y_data[:, j] = ii\n",
    "        \n",
    "    return X_data, y_data\n",
    "\n",
    "y = np.array(list(range(10)))\n",
    "max_lag = 3\n",
    "lags = np.array(list(range(3)))+1\n",
    "steps = 2\n",
    "_create_lags_2(max_lag, steps, lags, y)"
   ]
  },
  {
   "cell_type": "code",
   "execution_count": 168,
   "id": "b063586e",
   "metadata": {
    "ExecuteTime": {
     "end_time": "2022-10-25T13:26:30.245702Z",
     "start_time": "2022-10-25T13:26:30.175286Z"
    }
   },
   "outputs": [
    {
     "data": {
      "text/plain": [
       "[0, 1]"
      ]
     },
     "execution_count": 168,
     "metadata": {},
     "output_type": "execute_result"
    }
   ],
   "source": [
    "list(range(steps))"
   ]
  },
  {
   "cell_type": "code",
   "execution_count": 145,
   "id": "ab54c2a5",
   "metadata": {
    "ExecuteTime": {
     "end_time": "2022-10-25T13:07:38.812026Z",
     "start_time": "2022-10-25T13:07:38.718611Z"
    }
   },
   "outputs": [
    {
     "data": {
      "text/plain": [
       "6"
      ]
     },
     "execution_count": 145,
     "metadata": {},
     "output_type": "execute_result"
    }
   ],
   "source": [
    "len(y) - max_lag - (steps - 1)"
   ]
  },
  {
   "cell_type": "code",
   "execution_count": 187,
   "id": "74344fba",
   "metadata": {
    "ExecuteTime": {
     "end_time": "2022-10-25T13:36:58.411484Z",
     "start_time": "2022-10-25T13:36:58.345943Z"
    }
   },
   "outputs": [
    {
     "data": {
      "text/plain": [
       "(array([[2., 1., 0.],\n",
       "        [3., 2., 1.],\n",
       "        [4., 3., 2.],\n",
       "        [5., 4., 3.],\n",
       "        [6., 5., 4.],\n",
       "        [7., 6., 5.]]),\n",
       " array([[3., 4.],\n",
       "        [4., 5.],\n",
       "        [5., 6.],\n",
       "        [6., 7.],\n",
       "        [7., 8.],\n",
       "        [8., 9.]]))"
      ]
     },
     "execution_count": 187,
     "metadata": {},
     "output_type": "execute_result"
    }
   ],
   "source": [
    "def _create_lags_3(\n",
    "    max_lag, steps, lags,\n",
    "    y: np.ndarray):\n",
    "\n",
    "    n_splits = len(y) - max_lag - (steps - 1)\n",
    "    if n_splits <= 0:\n",
    "        raise Exception(\n",
    "            \"max lag must be less than the length of the series.\"\n",
    "        )\n",
    "    X_data = np.full(shape=(n_splits, len(lags)), fill_value=np.nan, dtype=float)\n",
    "    y_data = np.full(shape=(n_splits, steps), fill_value=np.nan, dtype=float)\n",
    "    \n",
    "    for i, lag in enumerate(lags):\n",
    "        X_data[:, i] = y[max_lag - lag:-(lag+steps-1)]  \n",
    "        \n",
    "    y_data = np.full(shape=(n_splits, steps), fill_value=np.nan, dtype=float)\n",
    "\n",
    "    for i in range(n_splits):\n",
    "        y_index = np.arange(max_lag + i, max_lag + i + steps)\n",
    "        y_data[i, :] = y[y_index]\n",
    "        \n",
    "    return X_data, y_data\n",
    "\n",
    "y = np.array(list(range(10)))\n",
    "max_lag = 3\n",
    "lags = np.array(list(range(3)))+1\n",
    "steps = 2\n",
    "_create_lags_3(max_lag, steps, lags, y)"
   ]
  },
  {
   "cell_type": "code",
   "execution_count": 189,
   "id": "f9551791",
   "metadata": {
    "ExecuteTime": {
     "end_time": "2022-10-25T13:38:27.258441Z",
     "start_time": "2022-10-25T13:37:35.058664Z"
    }
   },
   "outputs": [
    {
     "data": {
      "text/html": [
       "<div>\n",
       "<style scoped>\n",
       "    .dataframe tbody tr th:only-of-type {\n",
       "        vertical-align: middle;\n",
       "    }\n",
       "\n",
       "    .dataframe tbody tr th {\n",
       "        vertical-align: top;\n",
       "    }\n",
       "\n",
       "    .dataframe thead th {\n",
       "        text-align: right;\n",
       "    }\n",
       "</style>\n",
       "<table border=\"1\" class=\"dataframe\">\n",
       "  <thead>\n",
       "    <tr style=\"text-align: right;\">\n",
       "      <th></th>\n",
       "      <th>5</th>\n",
       "      <th>10</th>\n",
       "      <th>50</th>\n",
       "      <th>100</th>\n",
       "      <th>200</th>\n",
       "    </tr>\n",
       "  </thead>\n",
       "  <tbody>\n",
       "    <tr>\n",
       "      <th>1000</th>\n",
       "      <td>0.003398</td>\n",
       "      <td>0.003273</td>\n",
       "      <td>0.003278</td>\n",
       "      <td>0.003492</td>\n",
       "      <td>0.003586</td>\n",
       "    </tr>\n",
       "    <tr>\n",
       "      <th>250750</th>\n",
       "      <td>0.831280</td>\n",
       "      <td>0.833899</td>\n",
       "      <td>0.993538</td>\n",
       "      <td>1.056790</td>\n",
       "      <td>1.246902</td>\n",
       "    </tr>\n",
       "    <tr>\n",
       "      <th>500500</th>\n",
       "      <td>1.647532</td>\n",
       "      <td>1.697414</td>\n",
       "      <td>2.027196</td>\n",
       "      <td>2.119473</td>\n",
       "      <td>2.640555</td>\n",
       "    </tr>\n",
       "    <tr>\n",
       "      <th>750250</th>\n",
       "      <td>2.493320</td>\n",
       "      <td>2.661996</td>\n",
       "      <td>2.985245</td>\n",
       "      <td>3.233260</td>\n",
       "      <td>4.269426</td>\n",
       "    </tr>\n",
       "    <tr>\n",
       "      <th>1000000</th>\n",
       "      <td>3.256549</td>\n",
       "      <td>3.535967</td>\n",
       "      <td>3.886433</td>\n",
       "      <td>4.410509</td>\n",
       "      <td>5.647881</td>\n",
       "    </tr>\n",
       "  </tbody>\n",
       "</table>\n",
       "</div>"
      ],
      "text/plain": [
       "              5         10        50        100       200\n",
       "1000     0.003398  0.003273  0.003278  0.003492  0.003586\n",
       "250750   0.831280  0.833899  0.993538  1.056790  1.246902\n",
       "500500   1.647532  1.697414  2.027196  2.119473  2.640555\n",
       "750250   2.493320  2.661996  2.985245  3.233260  4.269426\n",
       "1000000  3.256549  3.535967  3.886433  4.410509  5.647881"
      ]
     },
     "execution_count": 189,
     "metadata": {},
     "output_type": "execute_result"
    }
   ],
   "source": [
    "# Profiling `create_train_X_y` for different length of series and number of lags\n",
    "# ======================================================================================\n",
    "series_length = np.linspace(1000, 1000000, num=5, dtype=int)\n",
    "n_lags = [5, 10, 50, 100, 200]\n",
    "steps = 5\n",
    "results = {}\n",
    "\n",
    "for lags in n_lags:\n",
    "    \n",
    "    lags_np = np.array(list(range(lags)))+1\n",
    "    max_lag = lags\n",
    "    \n",
    "    execution_time = []\n",
    "\n",
    "    for n in series_length:\n",
    "        y = np.array(list(range(n)))\n",
    "        tic = time.perf_counter()\n",
    "        _create_lags(max_lag, steps, lags_np, y)\n",
    "        toc = time.perf_counter()\n",
    "        execution_time.append(toc-tic)\n",
    "\n",
    "    results[lags] = execution_time\n",
    "\n",
    "results = pd.DataFrame(\n",
    "              data =  results,\n",
    "              index = series_length\n",
    "          )\n",
    "\n",
    "results"
   ]
  },
  {
   "cell_type": "code",
   "execution_count": 190,
   "id": "b1f40fa2",
   "metadata": {
    "ExecuteTime": {
     "end_time": "2022-10-25T13:38:58.416216Z",
     "start_time": "2022-10-25T13:38:27.260435Z"
    }
   },
   "outputs": [
    {
     "data": {
      "text/html": [
       "<div>\n",
       "<style scoped>\n",
       "    .dataframe tbody tr th:only-of-type {\n",
       "        vertical-align: middle;\n",
       "    }\n",
       "\n",
       "    .dataframe tbody tr th {\n",
       "        vertical-align: top;\n",
       "    }\n",
       "\n",
       "    .dataframe thead th {\n",
       "        text-align: right;\n",
       "    }\n",
       "</style>\n",
       "<table border=\"1\" class=\"dataframe\">\n",
       "  <thead>\n",
       "    <tr style=\"text-align: right;\">\n",
       "      <th></th>\n",
       "      <th>5</th>\n",
       "      <th>10</th>\n",
       "      <th>50</th>\n",
       "      <th>100</th>\n",
       "      <th>200</th>\n",
       "    </tr>\n",
       "  </thead>\n",
       "  <tbody>\n",
       "    <tr>\n",
       "      <th>1000</th>\n",
       "      <td>0.001867</td>\n",
       "      <td>0.001783</td>\n",
       "      <td>0.001810</td>\n",
       "      <td>0.001774</td>\n",
       "      <td>0.001942</td>\n",
       "    </tr>\n",
       "    <tr>\n",
       "      <th>250750</th>\n",
       "      <td>0.427523</td>\n",
       "      <td>0.455954</td>\n",
       "      <td>0.565547</td>\n",
       "      <td>0.648954</td>\n",
       "      <td>0.670059</td>\n",
       "    </tr>\n",
       "    <tr>\n",
       "      <th>500500</th>\n",
       "      <td>0.851493</td>\n",
       "      <td>0.921021</td>\n",
       "      <td>1.156924</td>\n",
       "      <td>1.397400</td>\n",
       "      <td>1.521343</td>\n",
       "    </tr>\n",
       "    <tr>\n",
       "      <th>750250</th>\n",
       "      <td>1.362826</td>\n",
       "      <td>1.385185</td>\n",
       "      <td>1.731646</td>\n",
       "      <td>2.126713</td>\n",
       "      <td>2.760378</td>\n",
       "    </tr>\n",
       "    <tr>\n",
       "      <th>1000000</th>\n",
       "      <td>1.813561</td>\n",
       "      <td>1.841635</td>\n",
       "      <td>2.303848</td>\n",
       "      <td>2.776919</td>\n",
       "      <td>3.698122</td>\n",
       "    </tr>\n",
       "  </tbody>\n",
       "</table>\n",
       "</div>"
      ],
      "text/plain": [
       "              5         10        50        100       200\n",
       "1000     0.001867  0.001783  0.001810  0.001774  0.001942\n",
       "250750   0.427523  0.455954  0.565547  0.648954  0.670059\n",
       "500500   0.851493  0.921021  1.156924  1.397400  1.521343\n",
       "750250   1.362826  1.385185  1.731646  2.126713  2.760378\n",
       "1000000  1.813561  1.841635  2.303848  2.776919  3.698122"
      ]
     },
     "execution_count": 190,
     "metadata": {},
     "output_type": "execute_result"
    }
   ],
   "source": [
    "# Profiling `create_train_X_y` for different length of series and number of lags\n",
    "# ======================================================================================\n",
    "series_length = np.linspace(1000, 1000000, num=5, dtype=int)\n",
    "n_lags = [5, 10, 50, 100, 200]\n",
    "steps = 5\n",
    "results_n = {}\n",
    "\n",
    "for lags in n_lags:\n",
    "    \n",
    "    lags_np = np.array(list(range(lags)))+1\n",
    "    max_lag = lags\n",
    "    \n",
    "    execution_time = []\n",
    "\n",
    "    for n in series_length:\n",
    "        y = np.array(list(range(n)))\n",
    "        tic = time.perf_counter()\n",
    "        _create_lags_3(max_lag, steps, lags_np, y)\n",
    "        toc = time.perf_counter()\n",
    "        execution_time.append(toc-tic)\n",
    "\n",
    "    results_n[lags] = execution_time\n",
    "\n",
    "results_n = pd.DataFrame(\n",
    "              data =  results_n,\n",
    "              index = series_length\n",
    "          )\n",
    "\n",
    "results_n"
   ]
  },
  {
   "cell_type": "code",
   "execution_count": null,
   "id": "d69854f2",
   "metadata": {},
   "outputs": [],
   "source": []
  },
  {
   "cell_type": "code",
   "execution_count": 191,
   "id": "931e0eb1",
   "metadata": {
    "ExecuteTime": {
     "end_time": "2022-10-25T13:42:06.112543Z",
     "start_time": "2022-10-25T13:41:07.665858Z"
    }
   },
   "outputs": [
    {
     "data": {
      "text/html": [
       "<div>\n",
       "<style scoped>\n",
       "    .dataframe tbody tr th:only-of-type {\n",
       "        vertical-align: middle;\n",
       "    }\n",
       "\n",
       "    .dataframe tbody tr th {\n",
       "        vertical-align: top;\n",
       "    }\n",
       "\n",
       "    .dataframe thead th {\n",
       "        text-align: right;\n",
       "    }\n",
       "</style>\n",
       "<table border=\"1\" class=\"dataframe\">\n",
       "  <thead>\n",
       "    <tr style=\"text-align: right;\">\n",
       "      <th></th>\n",
       "      <th>5</th>\n",
       "      <th>10</th>\n",
       "      <th>50</th>\n",
       "      <th>100</th>\n",
       "      <th>200</th>\n",
       "    </tr>\n",
       "  </thead>\n",
       "  <tbody>\n",
       "    <tr>\n",
       "      <th>1000</th>\n",
       "      <td>0.004681</td>\n",
       "      <td>0.004989</td>\n",
       "      <td>0.004529</td>\n",
       "      <td>0.003312</td>\n",
       "      <td>0.003358</td>\n",
       "    </tr>\n",
       "    <tr>\n",
       "      <th>250750</th>\n",
       "      <td>1.209149</td>\n",
       "      <td>1.238239</td>\n",
       "      <td>1.245387</td>\n",
       "      <td>1.020621</td>\n",
       "      <td>1.091991</td>\n",
       "    </tr>\n",
       "    <tr>\n",
       "      <th>500500</th>\n",
       "      <td>2.442497</td>\n",
       "      <td>2.466291</td>\n",
       "      <td>2.541147</td>\n",
       "      <td>2.046117</td>\n",
       "      <td>2.203900</td>\n",
       "    </tr>\n",
       "    <tr>\n",
       "      <th>750250</th>\n",
       "      <td>3.601732</td>\n",
       "      <td>3.681915</td>\n",
       "      <td>3.717838</td>\n",
       "      <td>2.972476</td>\n",
       "      <td>3.201631</td>\n",
       "    </tr>\n",
       "    <tr>\n",
       "      <th>1000000</th>\n",
       "      <td>4.965005</td>\n",
       "      <td>4.894291</td>\n",
       "      <td>4.924259</td>\n",
       "      <td>3.936941</td>\n",
       "      <td>4.301118</td>\n",
       "    </tr>\n",
       "  </tbody>\n",
       "</table>\n",
       "</div>"
      ],
      "text/plain": [
       "              5         10        50        100       200\n",
       "1000     0.004681  0.004989  0.004529  0.003312  0.003358\n",
       "250750   1.209149  1.238239  1.245387  1.020621  1.091991\n",
       "500500   2.442497  2.466291  2.541147  2.046117  2.203900\n",
       "750250   3.601732  3.681915  3.717838  2.972476  3.201631\n",
       "1000000  4.965005  4.894291  4.924259  3.936941  4.301118"
      ]
     },
     "execution_count": 191,
     "metadata": {},
     "output_type": "execute_result"
    }
   ],
   "source": [
    "# Profiling `create_train_X_y` for different length of series and number of lags\n",
    "# ======================================================================================\n",
    "series_length = np.linspace(1000, 1000000, num=5, dtype=int)\n",
    "lags = np.array(list(range(25)))+1\n",
    "max_lag = 25\n",
    "steps = [5, 10, 50, 100, 200]\n",
    "results = {}\n",
    "\n",
    "for step in steps:\n",
    "      \n",
    "    execution_time = []\n",
    "\n",
    "    for n in series_length:\n",
    "        y = np.array(list(range(n)))\n",
    "        tic = time.perf_counter()\n",
    "        _create_lags(max_lag, step, lags, y)\n",
    "        toc = time.perf_counter()\n",
    "        execution_time.append(toc-tic)\n",
    "\n",
    "    results[step] = execution_time\n",
    "\n",
    "results = pd.DataFrame(\n",
    "              data =  results,\n",
    "              index = series_length\n",
    "          )\n",
    "\n",
    "results"
   ]
  },
  {
   "cell_type": "code",
   "execution_count": 192,
   "id": "15f3ea39",
   "metadata": {
    "ExecuteTime": {
     "end_time": "2022-10-25T13:42:39.455371Z",
     "start_time": "2022-10-25T13:42:06.114534Z"
    }
   },
   "outputs": [
    {
     "data": {
      "text/html": [
       "<div>\n",
       "<style scoped>\n",
       "    .dataframe tbody tr th:only-of-type {\n",
       "        vertical-align: middle;\n",
       "    }\n",
       "\n",
       "    .dataframe tbody tr th {\n",
       "        vertical-align: top;\n",
       "    }\n",
       "\n",
       "    .dataframe thead th {\n",
       "        text-align: right;\n",
       "    }\n",
       "</style>\n",
       "<table border=\"1\" class=\"dataframe\">\n",
       "  <thead>\n",
       "    <tr style=\"text-align: right;\">\n",
       "      <th></th>\n",
       "      <th>5</th>\n",
       "      <th>10</th>\n",
       "      <th>50</th>\n",
       "      <th>100</th>\n",
       "      <th>200</th>\n",
       "    </tr>\n",
       "  </thead>\n",
       "  <tbody>\n",
       "    <tr>\n",
       "      <th>1000</th>\n",
       "      <td>0.001807</td>\n",
       "      <td>0.001702</td>\n",
       "      <td>0.003413</td>\n",
       "      <td>0.001863</td>\n",
       "      <td>0.002194</td>\n",
       "    </tr>\n",
       "    <tr>\n",
       "      <th>250750</th>\n",
       "      <td>0.496608</td>\n",
       "      <td>0.488926</td>\n",
       "      <td>0.883294</td>\n",
       "      <td>0.591662</td>\n",
       "      <td>0.761820</td>\n",
       "    </tr>\n",
       "    <tr>\n",
       "      <th>500500</th>\n",
       "      <td>0.988958</td>\n",
       "      <td>0.987435</td>\n",
       "      <td>1.775380</td>\n",
       "      <td>1.205685</td>\n",
       "      <td>1.524572</td>\n",
       "    </tr>\n",
       "    <tr>\n",
       "      <th>750250</th>\n",
       "      <td>1.535778</td>\n",
       "      <td>1.498799</td>\n",
       "      <td>2.683923</td>\n",
       "      <td>1.819573</td>\n",
       "      <td>2.346005</td>\n",
       "    </tr>\n",
       "    <tr>\n",
       "      <th>1000000</th>\n",
       "      <td>1.978785</td>\n",
       "      <td>2.025763</td>\n",
       "      <td>3.428841</td>\n",
       "      <td>2.573001</td>\n",
       "      <td>3.012557</td>\n",
       "    </tr>\n",
       "  </tbody>\n",
       "</table>\n",
       "</div>"
      ],
      "text/plain": [
       "              5         10        50        100       200\n",
       "1000     0.001807  0.001702  0.003413  0.001863  0.002194\n",
       "250750   0.496608  0.488926  0.883294  0.591662  0.761820\n",
       "500500   0.988958  0.987435  1.775380  1.205685  1.524572\n",
       "750250   1.535778  1.498799  2.683923  1.819573  2.346005\n",
       "1000000  1.978785  2.025763  3.428841  2.573001  3.012557"
      ]
     },
     "execution_count": 192,
     "metadata": {},
     "output_type": "execute_result"
    }
   ],
   "source": [
    "# Profiling `create_train_X_y` for different length of series and number of lags\n",
    "# ======================================================================================\n",
    "series_length = np.linspace(1000, 1000000, num=5, dtype=int)\n",
    "lags = np.array(list(range(25)))+1\n",
    "max_lag = 25\n",
    "steps = [5, 10, 50, 100, 200]\n",
    "results_n = {}\n",
    "\n",
    "for step in steps:\n",
    "      \n",
    "    execution_time = []\n",
    "\n",
    "    for n in series_length:\n",
    "        y = np.array(list(range(n)))\n",
    "        tic = time.perf_counter()\n",
    "        _create_lags_3(max_lag, step, lags, y)\n",
    "        toc = time.perf_counter()\n",
    "        execution_time.append(toc-tic)\n",
    "\n",
    "    results_n[step] = execution_time\n",
    "\n",
    "results_n = pd.DataFrame(\n",
    "              data =  results_n,\n",
    "              index = series_length\n",
    "          )\n",
    "\n",
    "results_n"
   ]
  },
  {
   "cell_type": "code",
   "execution_count": null,
   "id": "7354724e",
   "metadata": {},
   "outputs": [],
   "source": []
  },
  {
   "cell_type": "code",
   "execution_count": null,
   "id": "e33e30b8",
   "metadata": {},
   "outputs": [],
   "source": [
    "y = np.array(list(range(10)))\n",
    "max_lag = 3\n",
    "lags = np.array(list(range(3)))+1\n",
    "steps = 2\n",
    "_create_lags_3(max_lag, steps, lags, y)"
   ]
  },
  {
   "cell_type": "code",
   "execution_count": null,
   "id": "4dd6df02",
   "metadata": {},
   "outputs": [],
   "source": []
  }
 ],
 "metadata": {
  "kernelspec": {
   "display_name": "skforecast",
   "language": "python",
   "name": "skforecast"
  },
  "language_info": {
   "codemirror_mode": {
    "name": "ipython",
    "version": 3
   },
   "file_extension": ".py",
   "mimetype": "text/x-python",
   "name": "python",
   "nbconvert_exporter": "python",
   "pygments_lexer": "ipython3",
   "version": "3.9.13"
  },
  "toc": {
   "base_numbering": 1,
   "nav_menu": {},
   "number_sections": true,
   "sideBar": true,
   "skip_h1_title": false,
   "title_cell": "Table of Contents",
   "title_sidebar": "Contents",
   "toc_cell": false,
   "toc_position": {
    "height": "calc(100% - 180px)",
    "left": "10px",
    "top": "150px",
    "width": "175.594px"
   },
   "toc_section_display": true,
   "toc_window_display": true
  },
  "varInspector": {
   "cols": {
    "lenName": 16,
    "lenType": 16,
    "lenVar": 40
   },
   "kernels_config": {
    "python": {
     "delete_cmd_postfix": "",
     "delete_cmd_prefix": "del ",
     "library": "var_list.py",
     "varRefreshCmd": "print(var_dic_list())"
    },
    "r": {
     "delete_cmd_postfix": ") ",
     "delete_cmd_prefix": "rm(",
     "library": "var_list.r",
     "varRefreshCmd": "cat(var_dic_list()) "
    }
   },
   "types_to_exclude": [
    "module",
    "function",
    "builtin_function_or_method",
    "instance",
    "_Feature"
   ],
   "window_display": false
  },
  "vscode": {
   "interpreter": {
    "hash": "845be7f86453217ab6c5c749edfd1b965b47df21a056323ee3763fde88674a61"
   }
  }
 },
 "nbformat": 4,
 "nbformat_minor": 5
}
