{
 "cells": [
  {
   "cell_type": "code",
   "execution_count": 1,
   "metadata": {},
   "outputs": [
    {
     "data": {
      "text/plain": [
       "'c:\\\\Users\\\\Joaquín Amat\\\\Documents\\\\GitHub\\\\skforecast'"
      ]
     },
     "execution_count": 1,
     "metadata": {},
     "output_type": "execute_result"
    }
   ],
   "source": [
    "%load_ext autoreload\n",
    "%autoreload 2\n",
    "import sys\n",
    "from pathlib import Path\n",
    "sys.path.insert(1, str(Path.cwd().parent))\n",
    "str(Path.cwd().parent)"
   ]
  },
  {
   "attachments": {},
   "cell_type": "markdown",
   "metadata": {},
   "source": [
    "# Understanding joblib multiprocess"
   ]
  },
  {
   "cell_type": "code",
   "execution_count": 5,
   "metadata": {},
   "outputs": [
    {
     "name": "stdout",
     "output_type": "stream",
     "text": [
      "105\n"
     ]
    }
   ],
   "source": [
    "from joblib import Parallel, delayed\n",
    "import multiprocessing\n",
    "import pandas as pd\n",
    "import numpy as np\n",
    "import time\n",
    "from tqdm.auto import tqdm\n",
    "\n",
    "from sklearn.ensemble import HistGradientBoostingRegressor\n",
    "from sklearn.linear_model import LinearRegression\n",
    "from skforecast.model_selection import _create_backtesting_folds\n",
    "\n",
    "# Create a dataframe with random values and 3 columns\n",
    "n=5_000\n",
    "df = pd.DataFrame(np.random.randint(0,100,size=(n, 30)))\n",
    "\n",
    "backtesting_folds = _create_backtesting_folds(\n",
    "    data = df,\n",
    "    initial_train_size=int(n/2),\n",
    "    test_size=24,\n",
    "    refit=True,\n",
    "    return_all_indexes=True,\n",
    "    fixed_train_size=False,\n",
    "    verbose=False\n",
    ")\n",
    "backtesting_folds = [fold[:2] for fold in backtesting_folds]\n",
    "print(len(backtesting_folds))"
   ]
  },
  {
   "cell_type": "code",
   "execution_count": 6,
   "metadata": {},
   "outputs": [],
   "source": [
    "def _fit_predict_1(df, folds, regressor=LinearRegression()):\n",
    "    \"\"\"\n",
    "    Fit forecaster and predict `steps` ahead. This function is used to test\n",
    "    the parallelization of the backtesting_forecaster function. The whole\n",
    "    dataframe is passed to the function, but only the train and test sets\n",
    "    corresponding to the fold are used.\n",
    "    \"\"\"\n",
    "    regressor = LinearRegression()\n",
    "    regressor.fit(X=df.iloc[folds[0], 1:], y=df.iloc[folds[0], 0])\n",
    "    pred = regressor.predict(df.iloc[folds[1], 1:])\n",
    "\n",
    "    return pred\n",
    "\n",
    "\n",
    "def _fit_predict_2(data_train, data_test, regressor=LinearRegression()):\n",
    "    \"\"\"\n",
    "    Fit forecaster and predict `steps` ahead. This function is used to test\n",
    "    the parallelization of the backtesting_forecaster function. Only the data\n",
    "    corresponding to the fold are passed to the function.\n",
    "    \"\"\"\n",
    "    regressor = LinearRegression()\n",
    "    regressor.fit(X=data_train.iloc[:, 1:], y=data_train.iloc[:, 0])\n",
    "    pred = regressor.predict(X=data_test.iloc[:, 1:])\n",
    "\n",
    "    return pred"
   ]
  },
  {
   "cell_type": "code",
   "execution_count": 7,
   "metadata": {},
   "outputs": [],
   "source": [
    "regressor = LinearRegression()\n",
    "n_jobs  = multiprocessing.cpu_count()"
   ]
  },
  {
   "cell_type": "code",
   "execution_count": 8,
   "metadata": {},
   "outputs": [
    {
     "name": "stdout",
     "output_type": "stream",
     "text": [
      "668 ms ± 6.43 ms per loop (mean ± std. dev. of 7 runs, 1 loop each)\n"
     ]
    }
   ],
   "source": [
    "%%timeit\n",
    "# Sequential execution _fit_predict_1\n",
    "results = [_fit_predict_1(df, folds, regressor) for folds in backtesting_folds]"
   ]
  },
  {
   "cell_type": "code",
   "execution_count": 9,
   "metadata": {},
   "outputs": [
    {
     "name": "stdout",
     "output_type": "stream",
     "text": [
      "194 ms ± 3.02 ms per loop (mean ± std. dev. of 7 runs, 1 loop each)\n"
     ]
    }
   ],
   "source": [
    "%%timeit\n",
    "# Parallel execution _fit_predict_1\n",
    "results = (\n",
    "    Parallel(n_jobs=n_jobs)\n",
    "    (delayed(_fit_predict_1)(df, folds, regressor) for folds in backtesting_folds)\n",
    ")"
   ]
  },
  {
   "cell_type": "code",
   "execution_count": 10,
   "metadata": {},
   "outputs": [
    {
     "name": "stdout",
     "output_type": "stream",
     "text": [
      "633 ms ± 7.81 ms per loop (mean ± std. dev. of 7 runs, 1 loop each)\n"
     ]
    }
   ],
   "source": [
    "%%timeit\n",
    "# Sequential execution _fit_predict_2\n",
    "results = [\n",
    "    _fit_predict_2(df.iloc[folds[0],:], df.iloc[folds[1],:], regressor)\n",
    "    for folds in backtesting_folds\n",
    "]"
   ]
  },
  {
   "cell_type": "code",
   "execution_count": 11,
   "metadata": {},
   "outputs": [
    {
     "name": "stdout",
     "output_type": "stream",
     "text": [
      "265 ms ± 29.3 ms per loop (mean ± std. dev. of 7 runs, 1 loop each)\n"
     ]
    }
   ],
   "source": [
    "%%timeit\n",
    "# Parallel execution _fit_predict_2\n",
    "results = (\n",
    "    Parallel(n_jobs=n_jobs)\n",
    "    (delayed(_fit_predict_2)(df.iloc[folds[0],:], df.iloc[folds[1],:], regressor)\n",
    "    for folds in backtesting_folds)\n",
    ")"
   ]
  },
  {
   "cell_type": "code",
   "execution_count": 12,
   "metadata": {},
   "outputs": [],
   "source": [
    "partitions_backtesting = [[df.iloc[folds[0],:], df.iloc[folds[1],:]] for folds in backtesting_folds]"
   ]
  },
  {
   "cell_type": "code",
   "execution_count": 13,
   "metadata": {},
   "outputs": [
    {
     "name": "stdout",
     "output_type": "stream",
     "text": [
      "533 ms ± 9.19 ms per loop (mean ± std. dev. of 7 runs, 1 loop each)\n"
     ]
    }
   ],
   "source": [
    "%%timeit\n",
    "# Sequential execution _fit_predict_2\n",
    "results = [\n",
    "    _fit_predict_2(partition[0], partition[1], regressor)\n",
    "    for partition in partitions_backtesting\n",
    "]"
   ]
  },
  {
   "cell_type": "code",
   "execution_count": 14,
   "metadata": {},
   "outputs": [
    {
     "name": "stdout",
     "output_type": "stream",
     "text": [
      "190 ms ± 14.8 ms per loop (mean ± std. dev. of 7 runs, 1 loop each)\n"
     ]
    }
   ],
   "source": [
    "%%timeit\n",
    "# Parallel execution _fit_predict_2\n",
    "results = (\n",
    "    Parallel(n_jobs=n_jobs)\n",
    "    (delayed(_fit_predict_2)(partition[0], partition[1], regressor)\n",
    "    for partition in partitions_backtesting)\n",
    ")"
   ]
  },
  {
   "cell_type": "code",
   "execution_count": 16,
   "metadata": {},
   "outputs": [
    {
     "name": "stdout",
     "output_type": "stream",
     "text": [
      "Shape of dataframe: (10000, 50)\n",
      "Number of folds: 209\n",
      "Number of CPUs: 8\n",
      "\n",
      "_fit_predict_1\n",
      "==============\n"
     ]
    },
    {
     "data": {
      "application/vnd.jupyter.widget-view+json": {
       "model_id": "540677b20ea24aefb2f440e13d7cd1ac",
       "version_major": 2,
       "version_minor": 0
      },
      "text/plain": [
       "  0%|          | 0/209 [00:00<?, ?it/s]"
      ]
     },
     "metadata": {},
     "output_type": "display_data"
    },
    {
     "name": "stdout",
     "output_type": "stream",
     "text": [
      "Elapsed time _fit_predict_1 sequential: 3.39 seconds\n"
     ]
    },
    {
     "data": {
      "application/vnd.jupyter.widget-view+json": {
       "model_id": "c610e55b293342e0ad70ed7eefacb47f",
       "version_major": 2,
       "version_minor": 0
      },
      "text/plain": [
       "  0%|          | 0/209 [00:00<?, ?it/s]"
      ]
     },
     "metadata": {},
     "output_type": "display_data"
    },
    {
     "name": "stdout",
     "output_type": "stream",
     "text": [
      "Elapsed time _fit_predict_1 parallel: 1.15 seconds\n",
      "\n",
      "_fit_predict_2\n",
      "==============\n"
     ]
    },
    {
     "data": {
      "application/vnd.jupyter.widget-view+json": {
       "model_id": "acdf76978e054370886f79ea07e9a00f",
       "version_major": 2,
       "version_minor": 0
      },
      "text/plain": [
       "  0%|          | 0/209 [00:00<?, ?it/s]"
      ]
     },
     "metadata": {},
     "output_type": "display_data"
    },
    {
     "name": "stdout",
     "output_type": "stream",
     "text": [
      "Elapsed time _fit_predict_2 sequential: 3.30 seconds\n"
     ]
    },
    {
     "data": {
      "application/vnd.jupyter.widget-view+json": {
       "model_id": "40bbb4d52ece4babba57cf7c8d45e78c",
       "version_major": 2,
       "version_minor": 0
      },
      "text/plain": [
       "  0%|          | 0/209 [00:00<?, ?it/s]"
      ]
     },
     "metadata": {},
     "output_type": "display_data"
    },
    {
     "name": "stdout",
     "output_type": "stream",
     "text": [
      "Elapsed time _fit_predict_2 parallel: 1.62 seconds\n",
      "\n",
      "_fit_predict_2: list of partitions\n",
      "==============\n"
     ]
    },
    {
     "data": {
      "application/vnd.jupyter.widget-view+json": {
       "model_id": "38501b256e274011919b0a36c27d433a",
       "version_major": 2,
       "version_minor": 0
      },
      "text/plain": [
       "  0%|          | 0/209 [00:00<?, ?it/s]"
      ]
     },
     "metadata": {},
     "output_type": "display_data"
    },
    {
     "name": "stdout",
     "output_type": "stream",
     "text": [
      "Elapsed time _fit_predict_2 sequential: 2.78 seconds\n"
     ]
    },
    {
     "data": {
      "application/vnd.jupyter.widget-view+json": {
       "model_id": "26ec7f62475148a1a0e5d12f9ddd3c51",
       "version_major": 2,
       "version_minor": 0
      },
      "text/plain": [
       "  0%|          | 0/209 [00:00<?, ?it/s]"
      ]
     },
     "metadata": {},
     "output_type": "display_data"
    },
    {
     "name": "stdout",
     "output_type": "stream",
     "text": [
      "Elapsed time _fit_predict_2 parallel: 1.40 seconds\n",
      "\n"
     ]
    }
   ],
   "source": [
    "n=10_000\n",
    "df = pd.DataFrame(np.random.randint(0, 100, size=(n, 50)))\n",
    "print(f\"Shape of dataframe: {df.shape}\")\n",
    "backtesting_folds = _create_backtesting_folds(\n",
    "    data = df,\n",
    "    initial_train_size=int(n/2),\n",
    "    test_size=24,\n",
    "    refit=True,\n",
    "    return_all_indexes=True,\n",
    "    fixed_train_size=False,\n",
    "    verbose=False\n",
    ")\n",
    "backtesting_folds = [fold[:2] for fold in backtesting_folds]\n",
    "print(f\"Number of folds: {len(backtesting_folds)}\")\n",
    "\n",
    "n_jobs  = multiprocessing.cpu_count()\n",
    "print(f\"Number of CPUs: {n_jobs}\")\n",
    "partitions_backtesting = [[df.iloc[folds[0],:], df.iloc[folds[1],:]] for folds in backtesting_folds]\n",
    "regressor = HistGradientBoostingRegressor()\n",
    "\n",
    "# Benchmarking\n",
    "# ==============================================================================\n",
    "print(\"\")\n",
    "print(\"_fit_predict_1\")\n",
    "print(\"==============\")\n",
    "# Sequential execution _fit_predict_1\n",
    "start = time.time()\n",
    "results = [_fit_predict_1(df, folds, regressor) for folds in tqdm(backtesting_folds)]\n",
    "elapsed = time.time() - start\n",
    "print(f\"Elapsed time _fit_predict_1 sequential: {elapsed:.2f} seconds\")\n",
    "\n",
    "# Parallel execution _fit_predict_1\n",
    "start = time.time()\n",
    "results = (\n",
    "    Parallel(n_jobs=n_jobs)\n",
    "    (delayed(_fit_predict_1)(df, folds, regressor) for folds in tqdm(backtesting_folds))\n",
    ")\n",
    "elapsed = time.time() - start\n",
    "print(f\"Elapsed time _fit_predict_1 parallel: {elapsed:.2f} seconds\")\n",
    "print(\"\")\n",
    "\n",
    "print(\"_fit_predict_2\")\n",
    "print(\"==============\")\n",
    "# Sequential execution _fit_predict_2\n",
    "start = time.time()\n",
    "results = [\n",
    "    _fit_predict_2(df.iloc[folds[0],:], df.iloc[folds[1],:], regressor)\n",
    "    for folds in tqdm(backtesting_folds)\n",
    "]\n",
    "elapsed = time.time() - start\n",
    "print(f\"Elapsed time _fit_predict_2 sequential: {elapsed:.2f} seconds\")\n",
    "\n",
    "# Parallel execution _fit_predict_2\n",
    "start = time.time()\n",
    "results = (\n",
    "    Parallel(n_jobs=n_jobs)\n",
    "    (delayed(_fit_predict_2)(df.iloc[folds[0],:], df.iloc[folds[1],:], regressor)\n",
    "    for folds in tqdm(backtesting_folds))\n",
    ")\n",
    "elapsed = time.time() - start\n",
    "print(f\"Elapsed time _fit_predict_2 parallel: {elapsed:.2f} seconds\")\n",
    "print(\"\")\n",
    "\n",
    "\n",
    "print(\"_fit_predict_2: list of partitions\")\n",
    "print(\"==============\")\n",
    "# Sequential execution _fit_predict_2\n",
    "start = time.time()\n",
    "results = [\n",
    "    _fit_predict_2(partition[0], partition[1], regressor)\n",
    "    for partition in tqdm(partitions_backtesting)\n",
    "]\n",
    "elapsed = time.time() - start\n",
    "print(f\"Elapsed time _fit_predict_2 sequential: {elapsed:.2f} seconds\")\n",
    "\n",
    "# Parallel execution _fit_predict_2\n",
    "start = time.time()\n",
    "results = (\n",
    "    Parallel(n_jobs=n_jobs)\n",
    "    (delayed(_fit_predict_2)(partition[0], partition[1], regressor)\n",
    "    for partition in tqdm(partitions_backtesting))\n",
    ")\n",
    "elapsed = time.time() - start\n",
    "print(f\"Elapsed time _fit_predict_2 parallel: {elapsed:.2f} seconds\")\n",
    "print(\"\")\n"
   ]
  },
  {
   "attachments": {},
   "cell_type": "markdown",
   "metadata": {},
   "source": [
    "## Parallel barcktesting"
   ]
  },
  {
   "cell_type": "code",
   "execution_count": 43,
   "metadata": {},
   "outputs": [],
   "source": [
    "from typing import Union, Tuple, Optional, Any, Callable\n",
    "import numpy as np\n",
    "import pandas as pd\n",
    "import warnings\n",
    "import logging\n",
    "from copy import deepcopy\n",
    "from tqdm.auto import tqdm\n",
    "from sklearn.metrics import mean_squared_error \n",
    "from sklearn.metrics import mean_absolute_error\n",
    "from sklearn.metrics import mean_absolute_percentage_error\n",
    "from sklearn.metrics import mean_squared_log_error\n",
    "from sklearn.model_selection import ParameterGrid\n",
    "from sklearn.model_selection import ParameterSampler\n",
    "import optuna\n",
    "from optuna.samplers import TPESampler, RandomSampler\n",
    "\n",
    "from skforecast.exceptions import LongTrainingWarning\n",
    "from skforecast.exceptions import IgnoredArgumentWarning\n",
    "from skforecast.utils import check_backtesting_input\n",
    "\n",
    "from joblib import Parallel, delayed, cpu_count\n",
    "\n",
    "from skforecast.model_selection import _backtesting_forecaster_refit\n",
    "from skforecast.model_selection import _backtesting_forecaster_no_refit\n",
    "from skforecast.model_selection import _backtesting_forecaster_verbose\n",
    "from skforecast.model_selection import _get_metric\n",
    "from skforecast.ForecasterAutoreg import ForecasterAutoreg\n"
   ]
  },
  {
   "cell_type": "code",
   "execution_count": 44,
   "metadata": {},
   "outputs": [],
   "source": [
    "def _backtesting_forecaster_refit_parallel(\n",
    "    forecaster,\n",
    "    y: pd.Series,\n",
    "    steps: int,\n",
    "    metric: Union[str, Callable, list],\n",
    "    initial_train_size: int,\n",
    "    fixed_train_size: bool=True,\n",
    "    gap: int=0,\n",
    "    allow_incomplete_fold: bool=True,\n",
    "    exog: Optional[Union[pd.Series, pd.DataFrame]]=None,\n",
    "    interval: Optional[list]=None,\n",
    "    n_boot: int=500,\n",
    "    random_state: int=123,\n",
    "    in_sample_residuals: bool=True,\n",
    "    verbose: bool=False,\n",
    "    n_jobs: int=-1,\n",
    "    show_progress: bool=True\n",
    ") -> Tuple[Union[float, list], pd.DataFrame]:\n",
    "    \"\"\"\n",
    "    Backtesting of forecaster model with a re-fitting strategy. A copy of the  \n",
    "    original forecaster is created so it is not modified during the process.\n",
    "    \n",
    "    In each iteration:\n",
    "        - Fit forecaster with the training set.\n",
    "        - A number of `steps` ahead are predicted.\n",
    "        - The training set increases with `steps` observations.\n",
    "        - The model is re-fitted using the new training set.\n",
    "\n",
    "    In order to apply backtesting with refit, an initial training set must be\n",
    "    available, otherwise it would not be possible to increase the training set \n",
    "    after each iteration. `initial_train_size` must be provided.\n",
    "    \n",
    "    Parameters\n",
    "    ----------\n",
    "    forecaster : ForecasterAutoreg, ForecasterAutoregCustom, ForecasterAutoregDirect\n",
    "        Forecaster model.\n",
    "    y : pandas Series\n",
    "        Training time series.\n",
    "    steps : int\n",
    "        Number of steps to predict.\n",
    "    metric : str, Callable, list\n",
    "        Metric used to quantify the goodness of fit of the model.\n",
    "        \n",
    "            - If string: {'mean_squared_error', 'mean_absolute_error',\n",
    "             'mean_absolute_percentage_error', 'mean_squared_log_error'}\n",
    "            - If Callable: Function with arguments y_true, y_pred that returns a float.\n",
    "            - If list: List containing multiple strings and/or Callables.\n",
    "    initial_train_size : int\n",
    "        Number of samples in the initial train split. The backtest forecaster is\n",
    "        trained using the first `initial_train_size` observations.\n",
    "    fixed_train_size : bool, default `True`\n",
    "        If True, train size doesn't increase but moves by `steps` in each iteration.\n",
    "    gap : int, default `0`\n",
    "        Number of samples to be excluded after the end of each training set and \n",
    "        before the test set.\n",
    "    allow_incomplete_fold : bool, default `True`\n",
    "        Last fold is allowed to have a smaller number of samples than the \n",
    "        `test_size`. If `False`, the last fold is excluded.\n",
    "    exog : pandas Series, pandas DataFrame, default `None`\n",
    "        Exogenous variable/s included as predictor/s. Must have the same\n",
    "        number of observations as `y` and should be aligned so that y[i] is\n",
    "        regressed on exog[i].\n",
    "    interval : list, default `None`\n",
    "        Confidence of the prediction interval estimated. Sequence of percentiles\n",
    "        to compute, which must be between 0 and 100 inclusive. For example, \n",
    "        interval of 95% should be as `interval = [2.5, 97.5]`. If `None`, no\n",
    "        intervals are estimated.\n",
    "    n_boot : int, default `500`\n",
    "        Number of bootstrapping iterations used to estimate prediction\n",
    "        intervals.\n",
    "    random_state : int, default `123`\n",
    "        Sets a seed to the random generator, so that boot intervals are always \n",
    "        deterministic.\n",
    "    in_sample_residuals : bool, default `True`\n",
    "        If `True`, residuals from the training data are used as proxy of prediction\n",
    "        error to create prediction intervals. If `False`, out_sample_residuals \n",
    "        are used if they are already stored inside the forecaster.\n",
    "    n_jobs : int, default -1\n",
    "        Number of jobs to run in parallel. If -1, then the number of jobs is set\n",
    "        to the number of cores.\n",
    "    verbose : bool, default `False`\n",
    "        Print number of folds and index of training and validation sets used \n",
    "        for backtesting.\n",
    "    show_progress: bool, default `True`\n",
    "        Whether to show a progress bar. Defaults to True.\n",
    "\n",
    "    Returns\n",
    "    -------\n",
    "    metrics_value : float, list\n",
    "        Value(s) of the metric(s).\n",
    "    backtest_predictions : pandas Dataframe\n",
    "        Value of predictions and their estimated interval if `interval` is not `None`.\n",
    "\n",
    "            - column pred: predictions.\n",
    "            - column lower_bound: lower bound of the interval.\n",
    "            - column upper_bound: upper bound of the interval.\n",
    "    \n",
    "    \"\"\"\n",
    "\n",
    "    forecaster = deepcopy(forecaster)\n",
    "    n_jobs = n_jobs if n_jobs > 0 else cpu_count()\n",
    "\n",
    "    if not isinstance(metric, list):\n",
    "        metrics = [_get_metric(metric=metric) if isinstance(metric, str) else metric]\n",
    "    else:\n",
    "        metrics = [_get_metric(metric=m) if isinstance(m, str) else m for m in metric]\n",
    "\n",
    "    folds = _create_backtesting_folds(\n",
    "                data                  = y,\n",
    "                test_size             = steps,\n",
    "                initial_train_size    = initial_train_size,\n",
    "                gap                   = gap,\n",
    "                refit                 = True,\n",
    "                fixed_train_size      = fixed_train_size,\n",
    "                allow_incomplete_fold = allow_incomplete_fold,\n",
    "                return_all_indexes    = False,\n",
    "                verbose               = verbose  \n",
    "            )\n",
    "    \n",
    "    if show_progress:\n",
    "        folds = tqdm(folds)\n",
    "\n",
    "    if type(forecaster).__name__ != 'ForecasterAutoregDirect' and len(folds) > 50:\n",
    "        warnings.warn(\n",
    "            (f\"The forecaster will be fit {len(folds)} times. This can take substantial\"\n",
    "             f\" amounts of time. If not feasible, try with `refit = False`.\\n\"),\n",
    "            LongTrainingWarning\n",
    "        )\n",
    "    elif type(forecaster).__name__ == 'ForecasterAutoregDirect' and len(folds)*forecaster.steps > 50:\n",
    "        warnings.warn(\n",
    "            (f\"The forecaster will be fit {len(folds)*forecaster.steps} times \"\n",
    "             f\"({len(folds)} folds * {forecaster.steps} regressors). This can take \"\n",
    "             f\"substantial amounts of time. If not feasible, try with `refit = False`.\\n\"),\n",
    "             LongTrainingWarning\n",
    "        )\n",
    "\n",
    "    store_in_sample_residuals = False if interval is None else True\n",
    "\n",
    "    def _fit_predict_forecaster(y, exog, forecaster, interval, fold):\n",
    "        '''\n",
    "        Fit forecaster and predict `steps` ahead. This is an auxiliar function\n",
    "        used to parallelize the backtesting_forecaster function.\n",
    "\n",
    "        '''\n",
    "        train_idx_start = fold[0][0]\n",
    "        train_idx_end   = fold[0][1]\n",
    "        test_idx_start  = fold[1][0]\n",
    "        test_idx_end    = fold[1][1]\n",
    "        y_train = y.iloc[train_idx_start:train_idx_end, ]\n",
    "        exog_train = exog.iloc[train_idx_start:train_idx_end, ] if exog is not None else None\n",
    "        next_window_exog = exog.iloc[test_idx_start:test_idx_end, ] if exog is not None else None\n",
    "        steps = len(range(test_idx_start, test_idx_end))\n",
    "\n",
    "        forecaster.fit(\n",
    "            y                         = y_train, \n",
    "            exog                      = exog_train, \n",
    "            store_in_sample_residuals = store_in_sample_residuals\n",
    "        )\n",
    "        \n",
    "        if interval is None:\n",
    "            pred = forecaster.predict(steps=steps, exog=next_window_exog)\n",
    "        else:\n",
    "            pred = forecaster.predict_interval(\n",
    "                       steps               = steps,\n",
    "                       exog                = next_window_exog,\n",
    "                       interval            = interval,\n",
    "                       n_boot              = n_boot,\n",
    "                       random_state        = random_state,\n",
    "                       in_sample_residuals = in_sample_residuals\n",
    "                   )\n",
    "        pred = pred.iloc[gap:, ]\n",
    "\n",
    "        return pred\n",
    "\n",
    "    backtest_predictions = (\n",
    "        Parallel(n_jobs=n_jobs)\n",
    "        (delayed(_fit_predict_forecaster)\n",
    "        (y=y, exog=exog, forecaster=forecaster, interval=interval, fold=fold)\n",
    "        for fold in folds)\n",
    "    )        \n",
    "    backtest_predictions = pd.concat(backtest_predictions)\n",
    "    if isinstance(backtest_predictions, pd.Series):\n",
    "        backtest_predictions = pd.DataFrame(backtest_predictions)\n",
    "\n",
    "    metrics_values = [m(\n",
    "                        y_true = y.loc[backtest_predictions.index],\n",
    "                        y_pred = backtest_predictions['pred']\n",
    "                      ) for m in metrics\n",
    "                     ]\n",
    "    \n",
    "    if not isinstance(metric, list):\n",
    "        metrics_values = metrics_values[0]\n",
    "\n",
    "    return metrics_values, backtest_predictions"
   ]
  },
  {
   "cell_type": "code",
   "execution_count": 60,
   "metadata": {},
   "outputs": [],
   "source": [
    "forecaster = ForecasterAutoreg(regressor=HistGradientBoostingRegressor(random_state=666), lags=50)\n",
    "#forecaster = ForecasterAutoreg(regressor=LinearRegression(), lags=50)\n",
    "n=1_000\n",
    "y = pd.Series(np.random.randint(0,100,size=(n)), name=\"y\")\n",
    "exog = pd.DataFrame(np.random.randint(0, 100, size=(n, 10)))\n",
    "exog.columns = [f\"col_{i}\" for i in range(exog.shape[1])]\n",
    "y_train = y[:-int(n/2)]"
   ]
  },
  {
   "cell_type": "code",
   "execution_count": 69,
   "metadata": {},
   "outputs": [
    {
     "data": {
      "application/vnd.jupyter.widget-view+json": {
       "model_id": "8e7b805bbf4c4f68baf03b3804ffdc8d",
       "version_major": 2,
       "version_minor": 0
      },
      "text/plain": [
       "  0%|          | 0/21 [00:00<?, ?it/s]"
      ]
     },
     "metadata": {},
     "output_type": "display_data"
    }
   ],
   "source": [
    "metric, backtest_predictions = _backtesting_forecaster_refit(\n",
    "                                    forecaster          = forecaster,\n",
    "                                    y                   = y,\n",
    "                                    exog                = exog,\n",
    "                                    initial_train_size  = len(y_train),\n",
    "                                    fixed_train_size    = False,\n",
    "                                    steps               = 24,\n",
    "                                    metric              = 'mean_squared_error',\n",
    "                                    interval            = None,\n",
    "                                    n_boot              = 500,\n",
    "                                    random_state        = 123,\n",
    "                                    in_sample_residuals = True,\n",
    "                                    verbose             = False\n",
    "                            )"
   ]
  },
  {
   "cell_type": "code",
   "execution_count": 70,
   "metadata": {},
   "outputs": [
    {
     "data": {
      "application/vnd.jupyter.widget-view+json": {
       "model_id": "d03cbe08c8704ca2985926538f0045a0",
       "version_major": 2,
       "version_minor": 0
      },
      "text/plain": [
       "  0%|          | 0/21 [00:00<?, ?it/s]"
      ]
     },
     "metadata": {},
     "output_type": "display_data"
    }
   ],
   "source": [
    "metric_parallel, backtest_predictions_parallel = _backtesting_forecaster_refit_parallel(\n",
    "                                    forecaster          = forecaster,\n",
    "                                    y                   = y,\n",
    "                                    exog                = exog,\n",
    "                                    initial_train_size  = len(y_train),\n",
    "                                    fixed_train_size    = False,\n",
    "                                    steps               = 24,\n",
    "                                    metric              = 'mean_squared_error',\n",
    "                                    interval            = None,\n",
    "                                    n_boot              = 500,\n",
    "                                    random_state        = 123,\n",
    "                                    in_sample_residuals = True,\n",
    "                                    n_jobs              = -1,\n",
    "                                    verbose             = False,\n",
    "                                    show_progress       = True\n",
    "                            )"
   ]
  },
  {
   "cell_type": "code",
   "execution_count": 71,
   "metadata": {},
   "outputs": [],
   "source": [
    "assert metric_parallel == metric\n",
    "pd.testing.assert_frame_equal(backtest_predictions_parallel, backtest_predictions)"
   ]
  },
  {
   "cell_type": "code",
   "execution_count": 72,
   "metadata": {},
   "outputs": [],
   "source": [
    "def _backtesting_forecaster_no_refit_parallel(\n",
    "    forecaster,\n",
    "    y: pd.Series,\n",
    "    steps: int,\n",
    "    metric: Union[str, Callable, list],\n",
    "    initial_train_size: Optional[int]=None,\n",
    "    gap: int=0,\n",
    "    allow_incomplete_fold: bool=True,\n",
    "    exog: Optional[Union[pd.Series, pd.DataFrame]]=None,\n",
    "    interval: Optional[list]=None,\n",
    "    n_boot: int=500,\n",
    "    random_state: int=123,\n",
    "    in_sample_residuals: bool=True,\n",
    "    n_jobs: int=-1,\n",
    "    verbose: bool=False,\n",
    "    show_progress: bool=True\n",
    ") -> Tuple[Union[float, list], pd.DataFrame]:\n",
    "    \"\"\"\n",
    "    Backtesting of forecaster without iterative re-fitting. In each iteration,\n",
    "    a number of `steps` are predicted. A copy of the original forecaster is\n",
    "    created so it is not modified during the process.\n",
    "\n",
    "    If `forecaster` is already trained and `initial_train_size` is `None`,\n",
    "    no initial train is done and all data is used to evaluate the model.\n",
    "    However, the first `len(forecaster.last_window)` observations are needed\n",
    "    to create the initial predictors, so no predictions are calculated for them.\n",
    "    \n",
    "    Parameters\n",
    "    ----------\n",
    "    forecaster : ForecasterAutoreg, ForecasterAutoregCustom, ForecasterAutoregDirect\n",
    "        Forecaster model.\n",
    "    y : pandas Series\n",
    "        Training time series.\n",
    "    steps : int\n",
    "        Number of steps to predict.\n",
    "    metric : str, Callable, list\n",
    "        Metric used to quantify the goodness of fit of the model.\n",
    "        \n",
    "            - If `string`: {'mean_squared_error', 'mean_absolute_error',\n",
    "             'mean_absolute_percentage_error', 'mean_squared_log_error'}\n",
    "            - If `Callable`: Function with arguments y_true, y_pred that returns \n",
    "            a float.\n",
    "            - If `list`: List containing multiple strings and/or Callables.\n",
    "    initial_train_size : int, default `None`\n",
    "        Number of samples in the initial train split. If `None` and `forecaster` is \n",
    "        already trained, no initial train is done and all data is used to evaluate the \n",
    "        model. However, the first `len(forecaster.last_window)` observations are needed \n",
    "        to create the initial predictors, so no predictions are calculated for them. \n",
    "        This useful to backtest the model on the same data used to train it.\n",
    "        `None` is only allowed when `refit` is `False` and `forecaster` is already\n",
    "        trained.\n",
    "    gap : int, default `0`\n",
    "        Number of samples to be excluded after the end of each training set and \n",
    "        before the test set.\n",
    "    allow_incomplete_fold : bool, default `True`\n",
    "        Last fold is allowed to have a smaller number of samples than the \n",
    "        `test_size`. If `False`, the last fold is excluded.\n",
    "    exog : pandas Series, pandas DataFrame, default `None`\n",
    "        Exogenous variable/s included as predictor/s. Must have the same\n",
    "        number of observations as `y` and should be aligned so that y[i] is\n",
    "        regressed on exog[i].\n",
    "    interval : list, default `None`\n",
    "        Confidence of the prediction interval estimated. Sequence of percentiles\n",
    "        to compute, which must be between 0 and 100 inclusive. For example, \n",
    "        interval of 95% should be as `interval = [2.5, 97.5]`. If `None`, no\n",
    "        intervals are estimated.\n",
    "    n_boot : int, default `500`\n",
    "        Number of bootstrapping iterations used to estimate prediction\n",
    "        intervals.\n",
    "    random_state : int, default `123`\n",
    "        Sets a seed to the random generator, so that boot intervals are always \n",
    "        deterministic.\n",
    "    in_sample_residuals : bool, default `True`\n",
    "        If `True`, residuals from the training data are used as proxy of prediction \n",
    "        error to create prediction intervals.  If `False`, out_sample_residuals \n",
    "        are used if they are already stored inside the forecaster.\n",
    "    n_jobs : int, default -1\n",
    "        Number of jobs to run in parallel. If -1, then the number of jobs is set\n",
    "        to the number of cores.\n",
    "    verbose : bool, default `False`\n",
    "        Print number of folds and index of training and validation sets used \n",
    "        for backtesting.\n",
    "    show_progress: bool, default `True`\n",
    "        Whether to show a progress bar. Defaults to True.\n",
    "\n",
    "    Returns\n",
    "    -------\n",
    "    metrics_value : float, list\n",
    "        Value(s) of the metric(s).\n",
    "    backtest_predictions : pandas DataFrame\n",
    "        Value of predictions and their estimated interval if `interval` is not `None`.\n",
    "\n",
    "            - column pred: predictions.\n",
    "            - column lower_bound: lower bound of the interval.\n",
    "            - column upper_bound: upper bound of the interval.\n",
    "    \n",
    "    \"\"\"\n",
    "\n",
    "    forecaster = deepcopy(forecaster)\n",
    "    n_jobs = n_jobs if n_jobs > 0 else cpu_count()\n",
    "\n",
    "    if not isinstance(metric, list):\n",
    "        metrics = [_get_metric(metric=metric) if isinstance(metric, str) else metric]\n",
    "    else:\n",
    "        metrics = [_get_metric(metric=m) if isinstance(m, str) else m for m in metric]\n",
    "\n",
    "    # Initial model training\n",
    "    if initial_train_size is not None:\n",
    "        exog_train = exog.iloc[:initial_train_size, ] if exog is not None else None\n",
    "        store_in_sample_residuals = False if interval is None else True\n",
    "        forecaster.fit(\n",
    "            y                         = y.iloc[:initial_train_size], \n",
    "            exog                      = exog_train,\n",
    "            store_in_sample_residuals = store_in_sample_residuals\n",
    "        )\n",
    "        window_size = forecaster.window_size\n",
    "        externally_fitted = False\n",
    "    else:\n",
    "        # Although not used for training, first observations are needed to create\n",
    "        # the initial predictors\n",
    "        window_size = forecaster.window_size\n",
    "        initial_train_size = window_size\n",
    "        externally_fitted = True\n",
    "    \n",
    "    folds = _create_backtesting_folds(\n",
    "                data                  = y,\n",
    "                initial_train_size    = initial_train_size,\n",
    "                test_size             = steps,\n",
    "                externally_fitted     = externally_fitted,\n",
    "                refit                 = False,\n",
    "                gap                   = gap,\n",
    "                allow_incomplete_fold = allow_incomplete_fold,\n",
    "                return_all_indexes    = False,\n",
    "                verbose               = verbose  \n",
    "            )\n",
    "    \n",
    "    if show_progress:\n",
    "        folds = tqdm(folds)\n",
    "\n",
    "    def _fit_predict_forecaster(y, exog, forecaster, interval, fold):\n",
    "        '''\n",
    "        Fit forecaster and predict `steps` ahead. This is an auxiliar function\n",
    "        used to parallelize the backtesting_forecaster function.\n",
    "        '''\n",
    "\n",
    "        # Since the model is only fitted with the initial_train_size, last_window\n",
    "        # and next_window_exog must be updated to include the data needed to make\n",
    "        # predictions.\n",
    "        test_idx_start = fold[1][0]\n",
    "        test_idx_end   = fold[1][1]\n",
    "        last_window_end   = test_idx_start\n",
    "        last_window_start = last_window_end - window_size \n",
    "        last_window_y     = y.iloc[last_window_start:last_window_end]\n",
    "        next_window_exog = exog.iloc[test_idx_start:test_idx_end, ] if exog is not None else None\n",
    "        steps = len(range(test_idx_start, test_idx_end))\n",
    "\n",
    "        if interval is None:\n",
    "            pred = forecaster.predict(\n",
    "                       steps       = steps,\n",
    "                       last_window = last_window_y,\n",
    "                       exog        = next_window_exog\n",
    "                   )\n",
    "        else:\n",
    "            pred = forecaster.predict_interval(\n",
    "                       steps               = steps,\n",
    "                       last_window         = last_window_y,\n",
    "                       exog                = next_window_exog,\n",
    "                       interval            = interval,\n",
    "                       n_boot              = n_boot,\n",
    "                       random_state        = random_state,\n",
    "                       in_sample_residuals = in_sample_residuals\n",
    "                   )\n",
    "        pred = pred.iloc[gap:, ]\n",
    "\n",
    "        return pred\n",
    "    \n",
    "    backtest_predictions = (\n",
    "        Parallel(n_jobs=n_jobs)\n",
    "        (delayed(_fit_predict_forecaster)\n",
    "        (y=y, exog=exog, forecaster=forecaster, interval=interval, fold=fold)\n",
    "        for fold in folds)\n",
    "    )        \n",
    "\n",
    "    backtest_predictions = pd.concat(backtest_predictions)\n",
    "    if isinstance(backtest_predictions, pd.Series):\n",
    "        backtest_predictions = pd.DataFrame(backtest_predictions)\n",
    "\n",
    "    metrics_values = [m(\n",
    "                        y_true = y.loc[backtest_predictions.index],\n",
    "                        y_pred = backtest_predictions['pred']\n",
    "                      ) for m in metrics\n",
    "                     ]\n",
    "    \n",
    "    if not isinstance(metric, list):\n",
    "        metrics_values = metrics_values[0]\n",
    "\n",
    "    return metrics_values, backtest_predictions"
   ]
  },
  {
   "cell_type": "code",
   "execution_count": 74,
   "metadata": {},
   "outputs": [
    {
     "data": {
      "application/vnd.jupyter.widget-view+json": {
       "model_id": "5c828816f61b446d9b52b6c38d9849e4",
       "version_major": 2,
       "version_minor": 0
      },
      "text/plain": [
       "  0%|          | 0/21 [00:00<?, ?it/s]"
      ]
     },
     "metadata": {},
     "output_type": "display_data"
    }
   ],
   "source": [
    "metric, backtest_predictions = _backtesting_forecaster_no_refit(\n",
    "                                    forecaster          = forecaster,\n",
    "                                    y                   = y,\n",
    "                                    exog                = exog,\n",
    "                                    initial_train_size  = len(y_train),\n",
    "                                    steps               = 24,\n",
    "                                    metric              = 'mean_squared_error',\n",
    "                                    interval            = None,\n",
    "                                    n_boot              = 500,\n",
    "                                    random_state        = 123,\n",
    "                                    in_sample_residuals = True,\n",
    "                                    verbose             = False\n",
    "                            )"
   ]
  },
  {
   "cell_type": "code",
   "execution_count": 75,
   "metadata": {},
   "outputs": [
    {
     "data": {
      "application/vnd.jupyter.widget-view+json": {
       "model_id": "c1e683d0d4c84f6ab336ecd732a393d4",
       "version_major": 2,
       "version_minor": 0
      },
      "text/plain": [
       "  0%|          | 0/21 [00:00<?, ?it/s]"
      ]
     },
     "metadata": {},
     "output_type": "display_data"
    }
   ],
   "source": [
    "metric_parallel, backtest_predictions_parallel = _backtesting_forecaster_no_refit_parallel(\n",
    "                                    forecaster          = forecaster,\n",
    "                                    y                   = y,\n",
    "                                    exog                = exog,\n",
    "                                    initial_train_size  = len(y_train),\n",
    "                                    steps               = 24,\n",
    "                                    metric              = 'mean_squared_error',\n",
    "                                    interval            = None,\n",
    "                                    n_boot              = 500,\n",
    "                                    random_state        = 123,\n",
    "                                    in_sample_residuals = True,\n",
    "                                    n_jobs              = -1,\n",
    "                                    verbose             = False,\n",
    "                                    show_progress       = True\n",
    "                            )"
   ]
  },
  {
   "cell_type": "code",
   "execution_count": 76,
   "metadata": {},
   "outputs": [],
   "source": [
    "assert metric_parallel == metric\n",
    "pd.testing.assert_frame_equal(backtest_predictions_parallel, backtest_predictions)"
   ]
  }
 ],
 "metadata": {
  "kernelspec": {
   "display_name": "skforecast_py10",
   "language": "python",
   "name": "python3"
  },
  "language_info": {
   "codemirror_mode": {
    "name": "ipython",
    "version": 3
   },
   "file_extension": ".py",
   "mimetype": "text/x-python",
   "name": "python",
   "nbconvert_exporter": "python",
   "pygments_lexer": "ipython3",
   "version": "3.10.0"
  },
  "orig_nbformat": 4,
  "vscode": {
   "interpreter": {
    "hash": "c78d62c1713fdacd99ef7c429003c7324b36fbb551fb8b6860a7ea73e9338235"
   }
  }
 },
 "nbformat": 4,
 "nbformat_minor": 2
}
