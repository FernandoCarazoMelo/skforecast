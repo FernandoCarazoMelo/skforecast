{
 "cells": [
  {
   "cell_type": "code",
   "execution_count": 1,
   "metadata": {},
   "outputs": [
    {
     "data": {
      "text/plain": [
       "'/home/ubuntu/varios/skforecast'"
      ]
     },
     "execution_count": 1,
     "metadata": {},
     "output_type": "execute_result"
    }
   ],
   "source": [
    "%load_ext autoreload\n",
    "%autoreload 2\n",
    "import sys\n",
    "from pathlib import Path\n",
    "sys.path.insert(1, str(Path.cwd().parent))\n",
    "str(Path.cwd().parent)"
   ]
  },
  {
   "cell_type": "code",
   "execution_count": 2,
   "metadata": {},
   "outputs": [
    {
     "name": "stdout",
     "output_type": "stream",
     "text": [
      "0.13.0\n"
     ]
    }
   ],
   "source": [
    "import skforecast\n",
    "print(skforecast.__version__)"
   ]
  },
  {
   "cell_type": "code",
   "execution_count": 3,
   "metadata": {},
   "outputs": [],
   "source": [
    "import numpy as np\n",
    "import pandas as pd\n",
    "from skforecast.datasets import fetch_dataset\n",
    "import skforecast\n",
    "import lightgbm\n",
    "import sklearn\n",
    "from lightgbm import LGBMRegressor\n",
    "from sklearn.preprocessing import PolynomialFeatures\n",
    "from sklearn.feature_selection import RFECV\n",
    "from skforecast.ForecasterBaseline import ForecasterEquivalentDate\n",
    "from skforecast.ForecasterAutoreg import ForecasterAutoreg\n",
    "from skforecast.ForecasterAutoregMultiSeries import ForecasterAutoregMultiSeries\n",
    "from skforecast.ForecasterAutoregDirect import ForecasterAutoregDirect\n",
    "from skforecast.model_selection import bayesian_search_forecaster\n",
    "from skforecast.model_selection_multiseries import bayesian_search_forecaster_multiseries\n",
    "\n"
   ]
  },
  {
   "cell_type": "code",
   "execution_count": 4,
   "metadata": {},
   "outputs": [
    {
     "name": "stdout",
     "output_type": "stream",
     "text": [
      "vic_electricity\n",
      "---------------\n",
      "Half-hourly electricity demand for Victoria, Australia\n",
      "O'Hara-Wild M, Hyndman R, Wang E, Godahewa R (2022).tsibbledata: Diverse\n",
      "Datasets for 'tsibble'. https://tsibbledata.tidyverts.org/,\n",
      "https://github.com/tidyverts/tsibbledata/.\n",
      "https://tsibbledata.tidyverts.org/reference/vic_elec.html\n",
      "Shape of the dataset: (52608, 5)\n",
      "<class 'pandas.core.frame.DataFrame'>\n",
      "RangeIndex: 52608 entries, 0 to 52607\n",
      "Data columns (total 5 columns):\n",
      " #   Column       Non-Null Count  Dtype  \n",
      "---  ------       --------------  -----  \n",
      " 0   Time         52608 non-null  object \n",
      " 1   Demand       52608 non-null  float64\n",
      " 2   Temperature  52608 non-null  float64\n",
      " 3   Date         52608 non-null  object \n",
      " 4   Holiday      52608 non-null  bool   \n",
      "dtypes: bool(1), float64(2), object(2)\n",
      "memory usage: 1.7+ MB\n"
     ]
    }
   ],
   "source": [
    "# Descarga de datos\n",
    "# ==============================================================================\n",
    "datos = fetch_dataset(name='vic_electricity', raw=True)\n",
    "datos.info()"
   ]
  },
  {
   "cell_type": "code",
   "execution_count": 5,
   "metadata": {},
   "outputs": [],
   "source": [
    "datos = datos.head(1000)\n",
    "datos['Demand_2'] = datos['Demand'].copy()"
   ]
  },
  {
   "cell_type": "code",
   "execution_count": 6,
   "metadata": {},
   "outputs": [
    {
     "data": {
      "application/vnd.jupyter.widget-view+json": {
       "model_id": "1c5a428f63ef4e4281f5a8ad71e9f6ab",
       "version_major": 2,
       "version_minor": 0
      },
      "text/plain": [
       "  0%|          | 0/3 [00:00<?, ?it/s]"
      ]
     },
     "metadata": {},
     "output_type": "display_data"
    },
    {
     "name": "stdout",
     "output_type": "stream",
     "text": [
      "`Forecaster` refitted using the best-found lags and parameters, and the whole data set: \n",
      "  Lags: [ 1  2  3 23 24 25 47 48 49] \n",
      "  Parameters: {'n_estimators': 800, 'max_depth': 8, 'learning_rate': 0.09942094792221498, 'reg_alpha': 0.1, 'reg_lambda': 0.5}\n",
      "  Backtesting metric: 381.4106015718004\n",
      "\n"
     ]
    }
   ],
   "source": [
    "# Búsqueda bayesiana de hiperparámetros\n",
    "# ==============================================================================\n",
    "forecaster = ForecasterAutoreg(\n",
    "                 regressor = LGBMRegressor(random_state=15926, verbose=-1),\n",
    "                 lags      = 24, # Este valor se modifica durante la búsqueda\n",
    "             )\n",
    "\n",
    "# Lags utilizados como predictores\n",
    "lags_grid = [24, [1, 2, 3, 23, 24, 25, 47, 48, 49]]\n",
    "\n",
    "# Espacio de búsqueda de hiperparámetros\n",
    "def search_space(trial):\n",
    "    search_space  = {\n",
    "        'n_estimators'  : trial.suggest_int('n_estimators', 600, 1200, step=100),\n",
    "        'max_depth'     : trial.suggest_int('max_depth', 3, 10, step=1),\n",
    "        'learning_rate' : trial.suggest_float('learning_rate', 0.01, 0.5),\n",
    "        'reg_alpha'     : trial.suggest_float('reg_alpha', 0, 1, step=0.1),\n",
    "        'reg_lambda'    : trial.suggest_float('reg_lambda', 0, 1, step=0.1),\n",
    "        'lags'          : trial.suggest_categorical('lags', lags_grid)\n",
    "    } \n",
    "    return search_space\n",
    "\n",
    "resultados_busqueda, frozen_trial = bayesian_search_forecaster(\n",
    "                                        forecaster         = forecaster,\n",
    "                                        y                  = datos['Demand'],\n",
    "                                        steps              = 24,\n",
    "                                        metric             = 'mean_absolute_error',\n",
    "                                        search_space       = search_space,\n",
    "                                        initial_train_size = 500,\n",
    "                                        refit              = False,\n",
    "                                        n_trials           = 3, # Aumentar para una búsqueda más exhaustiva\n",
    "                                        random_state       = 123,\n",
    "                                        return_best        = True,\n",
    "                                        n_jobs             = 'auto',\n",
    "                                        verbose            = False,\n",
    "                                        show_progress      = True\n",
    "                                    )"
   ]
  },
  {
   "cell_type": "code",
   "execution_count": 7,
   "metadata": {},
   "outputs": [
    {
     "data": {
      "application/vnd.jupyter.widget-view+json": {
       "model_id": "b6f733671c8249a5975c4de3b4337812",
       "version_major": 2,
       "version_minor": 0
      },
      "text/plain": [
       "  0%|          | 0/3 [00:00<?, ?it/s]"
      ]
     },
     "metadata": {},
     "output_type": "display_data"
    },
    {
     "name": "stdout",
     "output_type": "stream",
     "text": [
      "`Forecaster` refitted using the best-found lags and parameters, and the whole data set: \n",
      "  Lags: [ 1  2  3 23 24 25 47 48 49] \n",
      "  Parameters: {'n_estimators': 800, 'max_depth': 8, 'learning_rate': 0.09942094792221498, 'reg_alpha': 0.1, 'reg_lambda': 0.5}\n",
      "  Backtesting metric: 344.1008153314714\n",
      "  Levels: ['Demand', 'Demand_2']\n",
      "\n"
     ]
    }
   ],
   "source": [
    "# Búsqueda bayesiana de hiperparámetros\n",
    "# ==============================================================================\n",
    "forecaster = ForecasterAutoregMultiSeries(\n",
    "                 regressor = LGBMRegressor(random_state=15926, verbose=-1),\n",
    "                 lags      = 24, # Este valor se modifica durante la búsqueda\n",
    "             )\n",
    "\n",
    "# Lags utilizados como predictores\n",
    "lags_grid = [24, [1, 2, 3, 23, 24, 25, 47, 48, 49]]\n",
    "\n",
    "# Espacio de búsqueda de hiperparámetros\n",
    "def search_space(trial):\n",
    "    search_space  = {\n",
    "        'n_estimators'  : trial.suggest_int('n_estimators', 600, 1200, step=100),\n",
    "        'max_depth'     : trial.suggest_int('max_depth', 3, 10, step=1),\n",
    "        'learning_rate' : trial.suggest_float('learning_rate', 0.01, 0.5),\n",
    "        'reg_alpha'     : trial.suggest_float('reg_alpha', 0, 1, step=0.1),\n",
    "        'reg_lambda'    : trial.suggest_float('reg_lambda', 0, 1, step=0.1),\n",
    "        'lags'          : trial.suggest_categorical('lags', lags_grid)\n",
    "    } \n",
    "    return search_space\n",
    "\n",
    "resultados_busqueda, frozen_trial = bayesian_search_forecaster_multiseries(\n",
    "                                        forecaster         = forecaster,\n",
    "                                        series             = datos[['Demand', 'Demand_2']],\n",
    "                                        steps              = 24,\n",
    "                                        metric             = 'mean_absolute_error',\n",
    "                                        search_space       = search_space,\n",
    "                                        initial_train_size = 500,\n",
    "                                        refit              = False,\n",
    "                                        n_trials           = 3, # Aumentar para una búsqueda más exhaustiva\n",
    "                                        random_state       = 123,\n",
    "                                        return_best        = True,\n",
    "                                        n_jobs             = 'auto',\n",
    "                                        verbose            = False,\n",
    "                                        show_progress      = True\n",
    "                                    )"
   ]
  }
 ],
 "metadata": {
  "kernelspec": {
   "display_name": "skforecast_py10",
   "language": "python",
   "name": "python3"
  },
  "language_info": {
   "codemirror_mode": {
    "name": "ipython",
    "version": 3
   },
   "file_extension": ".py",
   "mimetype": "text/x-python",
   "name": "python",
   "nbconvert_exporter": "python",
   "pygments_lexer": "ipython3",
   "version": "3.11.9"
  },
  "orig_nbformat": 4,
  "vscode": {
   "interpreter": {
    "hash": "c78d62c1713fdacd99ef7c429003c7324b36fbb551fb8b6860a7ea73e9338235"
   }
  }
 },
 "nbformat": 4,
 "nbformat_minor": 2
}
