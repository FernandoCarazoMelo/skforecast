{
 "cells": [
  {
   "cell_type": "code",
   "execution_count": 1,
   "metadata": {},
   "outputs": [
    {
     "data": {
      "text/plain": [
       "'c:\\\\Users\\\\jaesc2\\\\GitHub\\\\skforecast'"
      ]
     },
     "execution_count": 1,
     "metadata": {},
     "output_type": "execute_result"
    }
   ],
   "source": [
    "%load_ext autoreload\n",
    "%autoreload 2\n",
    "import sys\n",
    "from pathlib import Path\n",
    "sys.path.insert(1, str(Path.cwd().parent))\n",
    "str(Path.cwd().parent)"
   ]
  },
  {
   "cell_type": "code",
   "execution_count": 2,
   "metadata": {},
   "outputs": [],
   "source": [
    "################################################################################\n",
    "#                            ForecasterAutoreg                                 #\n",
    "#                                                                              #\n",
    "# This work by Joaquin Amat Rodrigo and Javier Escobar Ortiz is licensed       #\n",
    "# under a Creative Commons Attribution 4.0 International License.              #\n",
    "################################################################################\n",
    "# coding=utf-8\n",
    "\n",
    "from typing import Union, Dict, List, Tuple, Any, Optional\n",
    "import warnings\n",
    "import logging\n",
    "import sys\n",
    "import numpy as np\n",
    "import pandas as pd\n",
    "from sklearn.base import clone\n",
    "import pmdarima\n",
    "from pmdarima.arima import ARIMA\n",
    "\n",
    "import skforecast\n",
    "from skforecast.utils import initialize_lags\n",
    "from skforecast.utils import check_y\n",
    "from skforecast.utils import check_exog\n",
    "from skforecast.utils import preprocess_y\n",
    "from skforecast.utils import preprocess_last_window\n",
    "from skforecast.utils import preprocess_exog\n",
    "from skforecast.utils import expand_index\n",
    "from skforecast.utils import check_predict_input\n",
    "from skforecast.utils import transform_series\n",
    "from skforecast.utils import transform_dataframe\n",
    "\n",
    "logging.basicConfig(\n",
    "    format = '%(name)-10s %(levelname)-5s %(message)s', \n",
    "    level  = logging.INFO,\n",
    ")"
   ]
  },
  {
   "cell_type": "code",
   "execution_count": 3,
   "metadata": {},
   "outputs": [],
   "source": [
    "from skforecast.ForecasterSarimax import ForecasterSarimax\n",
    "from skforecast.ForecasterAutoreg import ForecasterAutoreg\n",
    "from sklearn.linear_model import Ridge\n",
    "import re\n",
    "import pytest\n",
    "from pmdarima.arima import ARIMA\n",
    "from sklearn.compose import ColumnTransformer\n",
    "from sklearn.preprocessing import StandardScaler\n",
    "from sklearn.preprocessing import OneHotEncoder"
   ]
  },
  {
   "cell_type": "code",
   "execution_count": 105,
   "metadata": {},
   "outputs": [
    {
     "data": {
      "text/plain": [
       "{'maxiter': 50,\n",
       " 'method': 'lbfgs',\n",
       " 'order': (2, 2, 2),\n",
       " 'out_of_sample_size': 0,\n",
       " 'scoring': 'mse',\n",
       " 'scoring_args': None,\n",
       " 'seasonal_order': (1, 1, 1, 2),\n",
       " 'start_params': None,\n",
       " 'suppress_warnings': False,\n",
       " 'trend': None,\n",
       " 'with_intercept': True}"
      ]
     },
     "execution_count": 105,
     "metadata": {},
     "output_type": "execute_result"
    }
   ],
   "source": [
    "forecaster = ForecasterSarimax(\n",
    "                regressor = ARIMA(order=(2,2,2), seasonal_order=(1,1,1,2))\n",
    "            )\n",
    "\n",
    "forecaster.regressor.get_params(deep=True)"
   ]
  },
  {
   "cell_type": "code",
   "execution_count": 4,
   "metadata": {},
   "outputs": [
    {
     "data": {
      "text/html": [
       "<div>\n",
       "<style scoped>\n",
       "    .dataframe tbody tr th:only-of-type {\n",
       "        vertical-align: middle;\n",
       "    }\n",
       "\n",
       "    .dataframe tbody tr th {\n",
       "        vertical-align: top;\n",
       "    }\n",
       "\n",
       "    .dataframe thead th {\n",
       "        text-align: right;\n",
       "    }\n",
       "</style>\n",
       "<table border=\"1\" class=\"dataframe\">\n",
       "  <thead>\n",
       "    <tr style=\"text-align: right;\">\n",
       "      <th></th>\n",
       "      <th>y</th>\n",
       "      <th>exog_1</th>\n",
       "      <th>exog_2</th>\n",
       "    </tr>\n",
       "    <tr>\n",
       "      <th>date</th>\n",
       "      <th></th>\n",
       "      <th></th>\n",
       "      <th></th>\n",
       "    </tr>\n",
       "  </thead>\n",
       "  <tbody>\n",
       "    <tr>\n",
       "      <th>1992-04-01</th>\n",
       "      <td>0.379808</td>\n",
       "      <td>0.958792</td>\n",
       "      <td>1.166029</td>\n",
       "    </tr>\n",
       "    <tr>\n",
       "      <th>1992-05-01</th>\n",
       "      <td>0.361801</td>\n",
       "      <td>0.951993</td>\n",
       "      <td>1.117859</td>\n",
       "    </tr>\n",
       "    <tr>\n",
       "      <th>1992-06-01</th>\n",
       "      <td>0.410534</td>\n",
       "      <td>0.952955</td>\n",
       "      <td>1.067942</td>\n",
       "    </tr>\n",
       "    <tr>\n",
       "      <th>1992-07-01</th>\n",
       "      <td>0.483389</td>\n",
       "      <td>0.958078</td>\n",
       "      <td>1.097376</td>\n",
       "    </tr>\n",
       "    <tr>\n",
       "      <th>1992-08-01</th>\n",
       "      <td>0.475463</td>\n",
       "      <td>0.956370</td>\n",
       "      <td>1.122199</td>\n",
       "    </tr>\n",
       "  </tbody>\n",
       "</table>\n",
       "</div>"
      ],
      "text/plain": [
       "                   y    exog_1    exog_2\n",
       "date                                    \n",
       "1992-04-01  0.379808  0.958792  1.166029\n",
       "1992-05-01  0.361801  0.951993  1.117859\n",
       "1992-06-01  0.410534  0.952955  1.067942\n",
       "1992-07-01  0.483389  0.958078  1.097376\n",
       "1992-08-01  0.475463  0.956370  1.122199"
      ]
     },
     "metadata": {},
     "output_type": "display_data"
    },
    {
     "name": "stdout",
     "output_type": "stream",
     "text": [
      "Train dates : 1992-04-01 00:00:00 --- 2005-06-01 00:00:00  (n=159)\n",
      "Test dates  : 2005-07-01 00:00:00 --- 2008-06-01 00:00:00  (n=36)\n"
     ]
    }
   ],
   "source": [
    "# Data download\n",
    "# ==============================================================================\n",
    "url = 'https://raw.githubusercontent.com/JoaquinAmatRodrigo/skforecast/master/data/h2o_exog.csv'\n",
    "data = pd.read_csv(url, sep=',')\n",
    "\n",
    "# Data preparation\n",
    "# ==============================================================================\n",
    "data = data.rename(columns={'fecha': 'date'})\n",
    "data['date'] = pd.to_datetime(data['date'], format='%Y/%m/%d')\n",
    "data = data.set_index('date')\n",
    "data = data.rename(columns={'x': 'y'})\n",
    "data = data.asfreq('MS')\n",
    "data = data.sort_index()\n",
    "display(data.head())\n",
    "\n",
    "# Split data into train-test\n",
    "# ==============================================================================\n",
    "steps = 36\n",
    "data_train = data[:-steps]\n",
    "data_test  = data[-steps:]\n",
    "\n",
    "print(f\"Train dates : {data_train.index.min()} --- {data_train.index.max()}  (n={len(data_train)})\")\n",
    "print(f\"Test dates  : {data_test.index.min()} --- {data_test.index.max()}  (n={len(data_test)})\")"
   ]
  },
  {
   "cell_type": "code",
   "execution_count": 6,
   "metadata": {},
   "outputs": [],
   "source": [
    "# Fixtures\n",
    "y = pd.Series(\n",
    "        data = np.array([0.69646919, 0.28613933, 0.22685145, 0.55131477, 0.71946897,\n",
    "                         0.42310646, 0.9807642 , 0.68482974, 0.4809319 , 0.39211752,\n",
    "                         0.34317802, 0.72904971, 0.43857224, 0.0596779 , 0.39804426,\n",
    "                         0.73799541, 0.18249173, 0.17545176, 0.53155137, 0.53182759,\n",
    "                         0.63440096, 0.84943179, 0.72445532, 0.61102351, 0.72244338,\n",
    "                         0.32295891, 0.36178866, 0.22826323, 0.29371405, 0.63097612,\n",
    "                         0.09210494, 0.43370117, 0.43086276, 0.4936851 , 0.42583029,\n",
    "                         0.31226122, 0.42635131, 0.89338916, 0.94416002, 0.50183668,\n",
    "                         0.62395295, 0.1156184 , 0.31728548, 0.41482621, 0.86630916,\n",
    "                         0.25045537, 0.48303426, 0.98555979, 0.51948512, 0.61289453]\n",
    "            ),\n",
    "        name = 'y'\n",
    "    )\n",
    "\n",
    "exog = pd.Series(\n",
    "           data = np.array([0.12062867, 0.8263408 , 0.60306013, 0.54506801, 0.34276383,\n",
    "                            0.30412079, 0.41702221, 0.68130077, 0.87545684, 0.51042234,\n",
    "                            0.66931378, 0.58593655, 0.6249035 , 0.67468905, 0.84234244,\n",
    "                            0.08319499, 0.76368284, 0.24366637, 0.19422296, 0.57245696,\n",
    "                            0.09571252, 0.88532683, 0.62724897, 0.72341636, 0.01612921,\n",
    "                            0.59443188, 0.55678519, 0.15895964, 0.15307052, 0.69552953,\n",
    "                            0.31876643, 0.6919703 , 0.55438325, 0.38895057, 0.92513249,\n",
    "                            0.84167   , 0.35739757, 0.04359146, 0.30476807, 0.39818568,\n",
    "                            0.70495883, 0.99535848, 0.35591487, 0.76254781, 0.59317692,\n",
    "                            0.6917018 , 0.15112745, 0.39887629, 0.2408559 , 0.34345601]\n",
    "               ),\n",
    "           name = 'exog'\n",
    "       )\n"
   ]
  },
  {
   "cell_type": "code",
   "execution_count": 6,
   "metadata": {},
   "outputs": [],
   "source": [
    "y_datetime = pd.Series(data=list(y))\n",
    "y_datetime.index = pd.date_range(start='2000', periods=50, freq='A')\n",
    "lw_datetime = pd.Series(data=list(y))\n",
    "lw_datetime.index = pd.date_range(start='2050', periods=50, freq='A')\n",
    "exog_datetime = pd.Series(data=list(exog))\n",
    "exog_datetime.index = pd.date_range(start='2000', periods=50, freq='A')\n",
    "lw_exog_datetime = pd.Series(data=list(exog))\n",
    "lw_exog_datetime.index = pd.date_range(start='2050', periods=50, freq='A')"
   ]
  },
  {
   "cell_type": "code",
   "execution_count": 38,
   "metadata": {},
   "outputs": [],
   "source": [
    "df_exog = pd.DataFrame({'exog_1': list(exog), 'exog_2': ['a']*25+['b']*25})\n",
    "df_exog.index = pd.date_range(start='2000', periods=50, freq='A')\n",
    "df_lw_exog = df_exog.copy()\n",
    "df_lw_exog.index = pd.date_range(start='2050', periods=50, freq='A')\n",
    "\n",
    "transformer_exog = ColumnTransformer(\n",
    "                        [('scale', StandardScaler(), ['exog_1']),\n",
    "                        ('onehot', OneHotEncoder(), ['exog_2'])],\n",
    "                        remainder = 'passthrough',\n",
    "                        verbose_feature_names_out = False\n",
    "                    )"
   ]
  },
  {
   "cell_type": "code",
   "execution_count": 120,
   "metadata": {},
   "outputs": [
    {
     "data": {
      "text/plain": [
       "[1, 2, 3, 4, 5, 6, 7, 8, 9, 10, 11, 12, 13, 14, 15, 16, 17, 18, 19, 20]"
      ]
     },
     "execution_count": 120,
     "metadata": {},
     "output_type": "execute_result"
    }
   ],
   "source": [
    "list(np.arange(20)+ 1)"
   ]
  },
  {
   "cell_type": "code",
   "execution_count": 60,
   "metadata": {},
   "outputs": [],
   "source": [
    "y_datetime = pd.Series(data=list(y))\n",
    "y_datetime.name = 'y'\n",
    "y_datetime.index = pd.date_range(start='2000', periods=50, freq='A')\n",
    "\n",
    "lw_datetime = pd.Series(data=list(y))\n",
    "lw_datetime.name = 'y'\n",
    "lw_datetime.index = pd.date_range(start='2050', periods=50, freq='A')"
   ]
  },
  {
   "cell_type": "code",
   "execution_count": 61,
   "metadata": {},
   "outputs": [
    {
     "data": {
      "text/plain": [
       "2000-12-31    0.696469\n",
       "2001-12-31    0.286139\n",
       "2002-12-31    0.226851\n",
       "2003-12-31    0.551315\n",
       "2004-12-31    0.719469\n",
       "Freq: A-DEC, Name: y, dtype: float64"
      ]
     },
     "execution_count": 61,
     "metadata": {},
     "output_type": "execute_result"
    }
   ],
   "source": [
    "y_datetime.head(5)"
   ]
  },
  {
   "cell_type": "code",
   "execution_count": 44,
   "metadata": {},
   "outputs": [
    {
     "data": {
      "text/plain": [
       "2050-12-31    0.696469\n",
       "2051-12-31    0.286139\n",
       "2052-12-31    0.226851\n",
       "2053-12-31    0.551315\n",
       "2054-12-31    0.719469\n",
       "Freq: A-DEC, Name: y, dtype: float64"
      ]
     },
     "execution_count": 44,
     "metadata": {},
     "output_type": "execute_result"
    }
   ],
   "source": [
    "lw_datetime.head(5)"
   ]
  },
  {
   "cell_type": "code",
   "execution_count": 70,
   "metadata": {},
   "outputs": [
    {
     "name": "stdout",
     "output_type": "stream",
     "text": [
      "2000-12-31    0.696469\n",
      "2001-12-31    0.286139\n",
      "2002-12-31    0.226851\n",
      "2003-12-31    0.551315\n",
      "2004-12-31    0.719469\n",
      "Freq: A-DEC, Name: y, dtype: float64\n"
     ]
    }
   ],
   "source": [
    "np.random.seed(123)\n",
    "y_datetime = pd.Series(data=np.random.rand(50))\n",
    "y_datetime.name = 'y'\n",
    "y_datetime.index = pd.date_range(start='2000', periods=50, freq='A')\n",
    "print(y_datetime.head(5))"
   ]
  },
  {
   "cell_type": "code",
   "execution_count": 74,
   "metadata": {},
   "outputs": [
    {
     "name": "stdout",
     "output_type": "stream",
     "text": [
      "-----\n",
      "numpy               1.23.5\n",
      "pandas              1.4.0\n",
      "pmdarima            2.0.2\n",
      "pytest              7.1.2\n",
      "session_info        1.0.0\n",
      "skforecast          0.7.dev\n",
      "sklearn             1.1.0\n",
      "statsmodels         0.13.5\n",
      "-----\n",
      "IPython             8.5.0\n",
      "jupyter_client      7.3.5\n",
      "jupyter_core        4.11.1\n",
      "notebook            6.4.12\n",
      "-----\n",
      "Python 3.9.13 (main, Aug 25 2022, 23:51:50) [MSC v.1916 64 bit (AMD64)]\n",
      "Windows-10-10.0.19042-SP0\n",
      "-----\n",
      "Session information updated at 2023-01-09 12:08\n"
     ]
    }
   ],
   "source": [
    "import session_info\n",
    "\n",
    "session_info.show(html=False)"
   ]
  },
  {
   "cell_type": "code",
   "execution_count": 68,
   "metadata": {},
   "outputs": [
    {
     "name": "stdout",
     "output_type": "stream",
     "text": [
      "2000-12-31    0.696469\n",
      "2001-12-31    0.286139\n",
      "2002-12-31    0.226851\n",
      "2003-12-31    0.551315\n",
      "2004-12-31    0.719469\n",
      "Freq: A-DEC, Name: y, dtype: float64\n",
      "2000-12-31    0.696469\n",
      "2001-12-31    0.286139\n",
      "2002-12-31    0.226851\n",
      "2003-12-31    0.551315\n",
      "2004-12-31    0.719469\n",
      "Freq: A-DEC, Name: y, dtype: float64\n",
      "2000-12-31    0.696469\n",
      "2001-12-31    0.286139\n",
      "2002-12-31    0.226851\n",
      "2003-12-31    0.551315\n",
      "2004-12-31    0.719469\n",
      "Freq: A-DEC, Name: y, dtype: float64\n"
     ]
    }
   ],
   "source": [
    "from statsmodels.tsa.statespace.sarimax import SARIMAX\n",
    "\n",
    "mod = SARIMAX(endog=y_datetime, order=(1,1,1))\n",
    "print(y_datetime.head(5))\n",
    "res = mod.fit()\n",
    "print(y_datetime.head(5))\n",
    "print(res.model.data.orig_endog.head(5))\n",
    "\n",
    "# print(res.model.data.orig_endog)\n",
    "# print(res.forecast(5))\n",
    "# print(res.resid)\n",
    "\n",
    "new_res = res.append(lw_datetime, refit=False)\n",
    "# print(new_res.forecast(5))\n",
    "# print(new_res.resid)"
   ]
  },
  {
   "cell_type": "code",
   "execution_count": 72,
   "metadata": {},
   "outputs": [
    {
     "name": "stdout",
     "output_type": "stream",
     "text": [
      "2000-12-31    0.696469\n",
      "2001-12-31    0.286139\n",
      "2002-12-31    0.226851\n",
      "2003-12-31    0.551315\n",
      "2004-12-31    0.719469\n",
      "Freq: A-DEC, dtype: float64\n",
      "2000-12-31    0.696469\n",
      "2001-12-31    0.286139\n",
      "2002-12-31    0.226851\n",
      "2003-12-31    0.551315\n",
      "2004-12-31    0.719469\n",
      "Freq: A-DEC, dtype: float64\n"
     ]
    },
    {
     "ename": "ValueError",
     "evalue": "Columns must match to concatenate along rows.",
     "output_type": "error",
     "traceback": [
      "\u001b[1;31m---------------------------------------------------------------------------\u001b[0m",
      "\u001b[1;31mValueError\u001b[0m                                Traceback (most recent call last)",
      "Cell \u001b[1;32mIn [72], line 8\u001b[0m\n\u001b[0;32m      5\u001b[0m \u001b[39mprint\u001b[39m(modl\u001b[39m.\u001b[39marima_res_\u001b[39m.\u001b[39mmodel\u001b[39m.\u001b[39mdata\u001b[39m.\u001b[39morig_endog\u001b[39m.\u001b[39mhead(\u001b[39m5\u001b[39m))\n\u001b[0;32m      6\u001b[0m \u001b[39mprint\u001b[39m(res\u001b[39m.\u001b[39marima_res_\u001b[39m.\u001b[39mmodel\u001b[39m.\u001b[39mdata\u001b[39m.\u001b[39morig_endog\u001b[39m.\u001b[39mhead(\u001b[39m5\u001b[39m))\n\u001b[1;32m----> 8\u001b[0m modl\u001b[39m.\u001b[39marima_res_ \u001b[39m=\u001b[39m modl\u001b[39m.\u001b[39marima_res_\u001b[39m.\u001b[39mappend(lw_datetime, refit\u001b[39m=\u001b[39m\u001b[39mFalse\u001b[39;00m)\n",
      "File \u001b[1;32mc:\\Users\\jaesc2\\Miniconda3\\envs\\skforecast\\lib\\site-packages\\statsmodels\\tsa\\statespace\\mlemodel.py:4024\u001b[0m, in \u001b[0;36mMLEResults.append\u001b[1;34m(self, endog, exog, refit, fit_kwargs, copy_initialization, **kwargs)\u001b[0m\n\u001b[0;32m   4021\u001b[0m     _check_index(append_ix, endog, \u001b[39m'\u001b[39m\u001b[39m`endog`\u001b[39m\u001b[39m'\u001b[39m)\n\u001b[0;32m   4023\u001b[0m \u001b[39m# Concatenate the new data to original data\u001b[39;00m\n\u001b[1;32m-> 4024\u001b[0m new_endog \u001b[39m=\u001b[39m concat([\u001b[39mself\u001b[39;49m\u001b[39m.\u001b[39;49mmodel\u001b[39m.\u001b[39;49mdata\u001b[39m.\u001b[39;49morig_endog, endog], axis\u001b[39m=\u001b[39;49m\u001b[39m0\u001b[39;49m,\n\u001b[0;32m   4025\u001b[0m                    allow_mix\u001b[39m=\u001b[39;49m\u001b[39mTrue\u001b[39;49;00m)\n\u001b[0;32m   4027\u001b[0m \u001b[39m# Handle `exog`\u001b[39;00m\n\u001b[0;32m   4028\u001b[0m \u001b[39mif\u001b[39;00m exog \u001b[39mis\u001b[39;00m \u001b[39mnot\u001b[39;00m \u001b[39mNone\u001b[39;00m:\n",
      "File \u001b[1;32mc:\\Users\\jaesc2\\Miniconda3\\envs\\skforecast\\lib\\site-packages\\statsmodels\\tsa\\statespace\\tools.py:355\u001b[0m, in \u001b[0;36mconcat\u001b[1;34m(series, axis, allow_mix)\u001b[0m\n\u001b[0;32m    352\u001b[0m     s_columns \u001b[39m=\u001b[39m pd\u001b[39m.\u001b[39mIndex([s\u001b[39m.\u001b[39mname])\n\u001b[0;32m    354\u001b[0m \u001b[39mif\u001b[39;00m axis \u001b[39m==\u001b[39m \u001b[39m0\u001b[39m \u001b[39mand\u001b[39;00m \u001b[39mnot\u001b[39;00m base_columns\u001b[39m.\u001b[39mequals(s_columns):\n\u001b[1;32m--> 355\u001b[0m     \u001b[39mraise\u001b[39;00m \u001b[39mValueError\u001b[39;00m(\u001b[39m'\u001b[39m\u001b[39mColumns must match to concatenate along\u001b[39m\u001b[39m'\u001b[39m\n\u001b[0;32m    356\u001b[0m                      \u001b[39m'\u001b[39m\u001b[39m rows.\u001b[39m\u001b[39m'\u001b[39m)\n\u001b[0;32m    357\u001b[0m \u001b[39melif\u001b[39;00m axis \u001b[39m==\u001b[39m \u001b[39m1\u001b[39m \u001b[39mand\u001b[39;00m \u001b[39mnot\u001b[39;00m series[\u001b[39m0\u001b[39m]\u001b[39m.\u001b[39mindex\u001b[39m.\u001b[39mequals(s\u001b[39m.\u001b[39mindex):\n\u001b[0;32m    358\u001b[0m     \u001b[39mraise\u001b[39;00m \u001b[39mValueError\u001b[39;00m(\u001b[39m'\u001b[39m\u001b[39mIndex must match to concatenate along\u001b[39m\u001b[39m'\u001b[39m\n\u001b[0;32m    359\u001b[0m                      \u001b[39m'\u001b[39m\u001b[39m columns.\u001b[39m\u001b[39m'\u001b[39m)\n",
      "\u001b[1;31mValueError\u001b[0m: Columns must match to concatenate along rows."
     ]
    }
   ],
   "source": [
    "from pmdarima.arima import ARIMA\n",
    "\n",
    "modl = ARIMA(order=(1,1,1))\n",
    "res = modl.fit(y_datetime)\n",
    "print(modl.arima_res_.model.data.orig_endog.head(5))\n",
    "print(res.arima_res_.model.data.orig_endog.head(5))\n",
    "\n",
    "modl.arima_res_ = modl.arima_res_.append(lw_datetime, refit=False)\n"
   ]
  },
  {
   "cell_type": "code",
   "execution_count": 40,
   "metadata": {},
   "outputs": [
    {
     "name": "stdout",
     "output_type": "stream",
     "text": [
      "y\n",
      "2050-12-31    0.696469\n",
      "2051-12-31    0.286139\n",
      "2052-12-31    0.226851\n",
      "2053-12-31    0.551315\n",
      "2054-12-31    0.719469\n",
      "Freq: A-DEC, Name: y, dtype: float64\n",
      "y\n",
      "2050-12-31    0.837129\n",
      "2051-12-31   -0.927922\n",
      "2052-12-31   -1.182952\n",
      "2053-12-31    0.212741\n",
      "2054-12-31    0.936063\n",
      "Freq: A-DEC, dtype: float64\n",
      "0\n",
      "[1.0883760008461447, 0.9596655915602446, 1.0164563275894087, 1.0368122358153902, 1.0879339700749853]\n",
      "y\n",
      "2050-12-31    0.696469\n",
      "2051-12-31    0.286139\n",
      "2052-12-31    0.226851\n",
      "2053-12-31    0.551315\n",
      "2054-12-31    0.719469\n",
      "Freq: A-DEC, Name: y, dtype: float64\n",
      "y\n",
      "2050-12-31    0.837129\n",
      "2051-12-31   -0.927922\n",
      "2052-12-31   -1.182952\n",
      "2053-12-31    0.212741\n",
      "2054-12-31    0.936063\n",
      "Freq: A-DEC, dtype: float64\n",
      "0\n",
      "[1.1359948592023694, 1.0197787345609874, 1.0563186630823083, 1.0890821402058224, 1.1539621608480948]\n"
     ]
    },
    {
     "name": "stderr",
     "output_type": "stream",
     "text": [
      "c:\\Users\\jaesc2\\Miniconda3\\envs\\skforecast\\lib\\site-packages\\statsmodels\\base\\model.py:604: ConvergenceWarning: Maximum Likelihood optimization failed to converge. Check mle_retvals\n",
      "  warnings.warn(\"Maximum Likelihood optimization failed to \"\n"
     ]
    }
   ],
   "source": [
    "# pmdarima SARIMAX\n",
    "# =====================================================================================\n",
    "kwargs = {'order': (1,1,1), 'seasonal_order': (0,0,0,0)}\n",
    "forecaster = ForecasterSarimax(\n",
    "                regressor = ARIMA(**kwargs),\n",
    "                transformer_y    = StandardScaler(),\n",
    "                transformer_exog = transformer_exog\n",
    "            )\n",
    "forecaster.fit(y=y_datetime, exog=df_exog)\n",
    "# print(forecaster.regressor.arima_res_.model.exog_names)\n",
    "print([round(value, 16) for value in forecaster.predict(steps=5, exog=df_exog, last_window=lw_datetime, last_window_exog=df_lw_exog).values])\n",
    "\n",
    "kwargs = {'order': (1,1,1), 'seasonal_order': (1,1,1,2)}\n",
    "forecaster = ForecasterSarimax(\n",
    "                regressor = ARIMA(**kwargs),\n",
    "                transformer_y    = StandardScaler(),\n",
    "                transformer_exog = transformer_exog\n",
    "            )\n",
    "forecaster.fit(y=y_datetime, exog=df_exog)\n",
    "print([round(value, 16) for value in forecaster.predict(steps=5, exog=df_exog, last_window=lw_datetime, last_window_exog=df_lw_exog).values])"
   ]
  },
  {
   "cell_type": "code",
   "execution_count": 57,
   "metadata": {},
   "outputs": [
    {
     "name": "stdout",
     "output_type": "stream",
     "text": [
      "<class 'statsmodels.tsa.statespace.sarimax.SARIMAXResultsWrapper'>\n",
      "2000-12-31    0.696469\n",
      "2001-12-31    0.286139\n",
      "2002-12-31    0.226851\n",
      "2003-12-31    0.551315\n",
      "2004-12-31    0.719469\n",
      "2005-12-31    0.423106\n",
      "2006-12-31    0.980764\n",
      "2007-12-31    0.684830\n",
      "2008-12-31    0.480932\n",
      "2009-12-31    0.392118\n",
      "2010-12-31    0.343178\n",
      "2011-12-31    0.729050\n",
      "2012-12-31    0.438572\n",
      "2013-12-31    0.059678\n",
      "2014-12-31    0.398044\n",
      "2015-12-31    0.737995\n",
      "2016-12-31    0.182492\n",
      "2017-12-31    0.175452\n",
      "2018-12-31    0.531551\n",
      "2019-12-31    0.531828\n",
      "2020-12-31    0.634401\n",
      "2021-12-31    0.849432\n",
      "2022-12-31    0.724455\n",
      "2023-12-31    0.611024\n",
      "2024-12-31    0.722443\n",
      "2025-12-31    0.322959\n",
      "2026-12-31    0.361789\n",
      "2027-12-31    0.228263\n",
      "2028-12-31    0.293714\n",
      "2029-12-31    0.630976\n",
      "2030-12-31    0.092105\n",
      "2031-12-31    0.433701\n",
      "2032-12-31    0.430863\n",
      "2033-12-31    0.493685\n",
      "2034-12-31    0.425830\n",
      "2035-12-31    0.312261\n",
      "2036-12-31    0.426351\n",
      "2037-12-31    0.893389\n",
      "2038-12-31    0.944160\n",
      "2039-12-31    0.501837\n",
      "2040-12-31    0.623953\n",
      "2041-12-31    0.115618\n",
      "2042-12-31    0.317285\n",
      "2043-12-31    0.414826\n",
      "2044-12-31    0.866309\n",
      "2045-12-31    0.250455\n",
      "2046-12-31    0.483034\n",
      "2047-12-31    0.985560\n",
      "2048-12-31    0.519485\n",
      "2049-12-31    0.612895\n",
      "Freq: A-DEC, Name: y, dtype: float64\n"
     ]
    }
   ],
   "source": [
    "from statsmodels.tsa.statespace.sarimax import SARIMAX\n",
    "from statsmodels.tsa.arima.model import ARIMAResults\n",
    "np.random.seed(123)\n",
    "\n",
    "y_datetime = pd.Series(data=list(y))\n",
    "y_datetime.name = 'y'\n",
    "y_datetime.index = pd.date_range(start='2000', periods=50, freq='A')\n",
    "\n",
    "lw_datetime = pd.Series(data=list(y))\n",
    "lw_datetime.name = 'y'\n",
    "lw_datetime.index = pd.date_range(start='2050', periods=50, freq='A')\n",
    "\n",
    "mod = SARIMAX(endog=y_datetime, order=(1,1,1))\n",
    "res = mod.fit()\n",
    "print(type(res))\n",
    "\n",
    "print(res.model.data.orig_endog)\n",
    "# print(res.forecast(5))\n",
    "# print(res.resid)\n",
    "\n",
    "# new_res = res.append(lw_datetime, refit=False)\n",
    "# print(new_res.forecast(5))\n",
    "# print(new_res.resid)"
   ]
  },
  {
   "cell_type": "code",
   "execution_count": 13,
   "metadata": {},
   "outputs": [
    {
     "ename": "ValueError",
     "evalue": "Forecaster trained with exogenous variable/s. Same variable/s must be provided in `predict()`.",
     "output_type": "error",
     "traceback": [
      "\u001b[1;31m---------------------------------------------------------------------------\u001b[0m",
      "\u001b[1;31mValueError\u001b[0m                                Traceback (most recent call last)",
      "Cell \u001b[1;32mIn [13], line 1\u001b[0m\n\u001b[1;32m----> 1\u001b[0m forecaster\u001b[39m.\u001b[39mpredict(steps\u001b[39m=\u001b[39m\u001b[39m5\u001b[39m, last_window\u001b[39m=\u001b[39mlw_datetime)\n",
      "File \u001b[1;32mc:\\Users\\jaesc2\\GitHub\\skforecast\\skforecast\\ForecasterSarimax\\ForecasterSarimax.py:311\u001b[0m, in \u001b[0;36mForecasterSarimax.predict\u001b[1;34m(self, steps, last_window, last_window_exog, exog)\u001b[0m\n\u001b[0;32m    270\u001b[0m \u001b[39mdef\u001b[39;00m \u001b[39mpredict\u001b[39m(\n\u001b[0;32m    271\u001b[0m     \u001b[39mself\u001b[39m,\n\u001b[0;32m    272\u001b[0m     steps: \u001b[39mint\u001b[39m,\n\u001b[1;32m   (...)\u001b[0m\n\u001b[0;32m    275\u001b[0m     exog: Optional[Union[pd\u001b[39m.\u001b[39mSeries, pd\u001b[39m.\u001b[39mDataFrame]]\u001b[39m=\u001b[39m\u001b[39mNone\u001b[39;00m\n\u001b[0;32m    276\u001b[0m ) \u001b[39m-\u001b[39m\u001b[39m>\u001b[39m pd\u001b[39m.\u001b[39mSeries:\n\u001b[0;32m    277\u001b[0m     \u001b[39m\"\"\"\u001b[39;00m\n\u001b[0;32m    278\u001b[0m \u001b[39m    Forecast future values\u001b[39;00m\n\u001b[0;32m    279\u001b[0m \n\u001b[1;32m   (...)\u001b[0m\n\u001b[0;32m    308\u001b[0m \u001b[39m        \u001b[39;00m\n\u001b[0;32m    309\u001b[0m \u001b[39m    \"\"\"\u001b[39;00m\n\u001b[1;32m--> 311\u001b[0m     check_predict_input(\n\u001b[0;32m    312\u001b[0m         forecaster_type  \u001b[39m=\u001b[39;49m \u001b[39mtype\u001b[39;49m(\u001b[39mself\u001b[39;49m)\u001b[39m.\u001b[39;49m\u001b[39m__name__\u001b[39;49m,\n\u001b[0;32m    313\u001b[0m         steps            \u001b[39m=\u001b[39;49m steps,\n\u001b[0;32m    314\u001b[0m         fitted           \u001b[39m=\u001b[39;49m \u001b[39mself\u001b[39;49m\u001b[39m.\u001b[39;49mfitted,\n\u001b[0;32m    315\u001b[0m         included_exog    \u001b[39m=\u001b[39;49m \u001b[39mself\u001b[39;49m\u001b[39m.\u001b[39;49mincluded_exog,\n\u001b[0;32m    316\u001b[0m         index_type       \u001b[39m=\u001b[39;49m \u001b[39mself\u001b[39;49m\u001b[39m.\u001b[39;49mindex_type,\n\u001b[0;32m    317\u001b[0m         index_freq       \u001b[39m=\u001b[39;49m \u001b[39mself\u001b[39;49m\u001b[39m.\u001b[39;49mindex_freq,\n\u001b[0;32m    318\u001b[0m         window_size      \u001b[39m=\u001b[39;49m \u001b[39mself\u001b[39;49m\u001b[39m.\u001b[39;49mwindow_size,\n\u001b[0;32m    319\u001b[0m         last_window      \u001b[39m=\u001b[39;49m last_window,\n\u001b[0;32m    320\u001b[0m         last_window_exog \u001b[39m=\u001b[39;49m last_window_exog,\n\u001b[0;32m    321\u001b[0m         exog             \u001b[39m=\u001b[39;49m exog,\n\u001b[0;32m    322\u001b[0m         exog_type        \u001b[39m=\u001b[39;49m \u001b[39mself\u001b[39;49m\u001b[39m.\u001b[39;49mexog_type,\n\u001b[0;32m    323\u001b[0m         exog_col_names   \u001b[39m=\u001b[39;49m \u001b[39mself\u001b[39;49m\u001b[39m.\u001b[39;49mexog_col_names,\n\u001b[0;32m    324\u001b[0m         interval         \u001b[39m=\u001b[39;49m \u001b[39mNone\u001b[39;49;00m,\n\u001b[0;32m    325\u001b[0m         alpha            \u001b[39m=\u001b[39;49m \u001b[39mNone\u001b[39;49;00m,\n\u001b[0;32m    326\u001b[0m         max_steps        \u001b[39m=\u001b[39;49m \u001b[39mNone\u001b[39;49;00m,\n\u001b[0;32m    327\u001b[0m         levels           \u001b[39m=\u001b[39;49m \u001b[39mNone\u001b[39;49;00m,\n\u001b[0;32m    328\u001b[0m         series_col_names \u001b[39m=\u001b[39;49m \u001b[39mNone\u001b[39;49;00m\n\u001b[0;32m    329\u001b[0m     )\n\u001b[0;32m    331\u001b[0m     \u001b[39mif\u001b[39;00m last_window \u001b[39mis\u001b[39;00m \u001b[39mnot\u001b[39;00m \u001b[39mNone\u001b[39;00m:\n\u001b[0;32m    332\u001b[0m         \u001b[39m# If predictions do not follow directly from the end of the training \u001b[39;00m\n\u001b[0;32m    333\u001b[0m         \u001b[39m# data. The internal statsmodels SARIMAX model needs to be updated \u001b[39;00m\n\u001b[1;32m   (...)\u001b[0m\n\u001b[0;32m    336\u001b[0m \n\u001b[0;32m    337\u001b[0m         \u001b[39m# check index last_window\u001b[39;00m\n\u001b[0;32m    338\u001b[0m         expected_index \u001b[39m=\u001b[39m expand_index(\u001b[39mself\u001b[39m\u001b[39m.\u001b[39mlast_window\u001b[39m.\u001b[39mindex, \u001b[39m1\u001b[39m)[\u001b[39m0\u001b[39m]\n",
      "File \u001b[1;32mc:\\Users\\jaesc2\\GitHub\\skforecast\\skforecast\\utils\\utils.py:412\u001b[0m, in \u001b[0;36mcheck_predict_input\u001b[1;34m(forecaster_type, steps, fitted, included_exog, index_type, index_freq, window_size, last_window, last_window_exog, exog, exog_type, exog_col_names, interval, alpha, max_steps, levels, series_col_names)\u001b[0m\n\u001b[0;32m    407\u001b[0m         \u001b[39mraise\u001b[39;00m \u001b[39mValueError\u001b[39;00m(\n\u001b[0;32m    408\u001b[0m             \u001b[39mf\u001b[39m\u001b[39m'\u001b[39m\u001b[39m`levels` must be in `series_col_names` : \u001b[39m\u001b[39m{\u001b[39;00mseries_col_names\u001b[39m}\u001b[39;00m\u001b[39m.\u001b[39m\u001b[39m'\u001b[39m\n\u001b[0;32m    409\u001b[0m         )\n\u001b[0;32m    411\u001b[0m \u001b[39mif\u001b[39;00m exog \u001b[39mis\u001b[39;00m \u001b[39mNone\u001b[39;00m \u001b[39mand\u001b[39;00m included_exog:\n\u001b[1;32m--> 412\u001b[0m     \u001b[39mraise\u001b[39;00m \u001b[39mValueError\u001b[39;00m(\n\u001b[0;32m    413\u001b[0m         (\u001b[39m'\u001b[39m\u001b[39mForecaster trained with exogenous variable/s. \u001b[39m\u001b[39m'\u001b[39m\n\u001b[0;32m    414\u001b[0m          \u001b[39m'\u001b[39m\u001b[39mSame variable/s must be provided in `predict()`.\u001b[39m\u001b[39m'\u001b[39m)\n\u001b[0;32m    415\u001b[0m     )\n\u001b[0;32m    417\u001b[0m \u001b[39mif\u001b[39;00m exog \u001b[39mis\u001b[39;00m \u001b[39mnot\u001b[39;00m \u001b[39mNone\u001b[39;00m \u001b[39mand\u001b[39;00m \u001b[39mnot\u001b[39;00m included_exog:\n\u001b[0;32m    418\u001b[0m     \u001b[39mraise\u001b[39;00m \u001b[39mValueError\u001b[39;00m(\n\u001b[0;32m    419\u001b[0m         (\u001b[39m'\u001b[39m\u001b[39mForecaster trained without exogenous variable/s. \u001b[39m\u001b[39m'\u001b[39m\n\u001b[0;32m    420\u001b[0m          \u001b[39m'\u001b[39m\u001b[39m`exog` must be `None` in `predict()`.\u001b[39m\u001b[39m'\u001b[39m)\n\u001b[0;32m    421\u001b[0m     )\n",
      "\u001b[1;31mValueError\u001b[0m: Forecaster trained with exogenous variable/s. Same variable/s must be provided in `predict()`."
     ]
    }
   ],
   "source": [
    "forecaster.predict(steps=5, last_window=lw_datetime)"
   ]
  },
  {
   "cell_type": "code",
   "execution_count": 7,
   "metadata": {},
   "outputs": [
    {
     "name": "stdout",
     "output_type": "stream",
     "text": [
      "[0.9084670377251036, 0.7647883047064794, 0.8203336846873355, 0.8405859799961493, 0.8916990937197793]\n",
      "[1.0095544323406163, 0.8707230817689734, 0.925811215455429, 0.9522848237323704, 1.0168960034047383]\n"
     ]
    },
    {
     "name": "stderr",
     "output_type": "stream",
     "text": [
      "c:\\Users\\jaesc2\\Miniconda3\\envs\\skforecast\\lib\\site-packages\\statsmodels\\base\\model.py:604: ConvergenceWarning: Maximum Likelihood optimization failed to converge. Check mle_retvals\n",
      "  warnings.warn(\"Maximum Likelihood optimization failed to \"\n"
     ]
    }
   ],
   "source": [
    "df_exog = pd.DataFrame({\n",
    "                'exog_1': exog,\n",
    "                'exog_2': ['a']*25+['b']*25}\n",
    "            )\n",
    "transformer_exog = ColumnTransformer(\n",
    "                        [('scale', StandardScaler(), ['exog_1']),\n",
    "                        ('onehot', OneHotEncoder(), ['exog_2'])],\n",
    "                        remainder = 'passthrough',\n",
    "                        verbose_feature_names_out = False\n",
    "                    )\n",
    "\n",
    "kwargs = {'order': (1,1,1), 'seasonal_order': (0,0,0,0)}\n",
    "forecaster = ForecasterSarimax(\n",
    "                regressor = ARIMA(**kwargs),\n",
    "                transformer_y    = StandardScaler(),\n",
    "                transformer_exog = transformer_exog\n",
    "            )\n",
    "forecaster.fit(y=y, exog=df_exog)\n",
    "print([round(value, 16) for value in forecaster.predict(steps=5, exog=df_exog).values])\n",
    "\n",
    "kwargs = {'order': (1,1,1), 'seasonal_order': (1,1,1,2)}\n",
    "forecaster = ForecasterSarimax(\n",
    "                regressor = ARIMA(**kwargs),\n",
    "                transformer_y    = StandardScaler(),\n",
    "                transformer_exog = transformer_exog\n",
    "            )\n",
    "forecaster.fit(y=y, exog=df_exog)\n",
    "print([round(value, 16) for value in forecaster.predict(steps=5, exog=df_exog).values])"
   ]
  },
  {
   "cell_type": "code",
   "execution_count": 8,
   "metadata": {},
   "outputs": [
    {
     "data": {
      "text/plain": [
       "array([0.53566226, 0.5235128 , 0.5220779 , 0.52240695, 0.52302639])"
      ]
     },
     "execution_count": 8,
     "metadata": {},
     "output_type": "execute_result"
    }
   ],
   "source": [
    "# pmdarima SARIMAX\n",
    "# =====================================================================================\n",
    "forecaster = ForecasterSarimax(\n",
    "                regressor = ARIMA(order=(1,1,1))\n",
    "            )\n",
    "forecaster.fit(y=y)\n",
    "forecaster.predict(steps=5).values"
   ]
  },
  {
   "cell_type": "code",
   "execution_count": 9,
   "metadata": {},
   "outputs": [
    {
     "data": {
      "text/plain": [
       "array([0.64306902, 0.60507108, 0.63972942, 0.62851983, 0.66561887])"
      ]
     },
     "execution_count": 9,
     "metadata": {},
     "output_type": "execute_result"
    }
   ],
   "source": [
    "# pmdarima SARIMAX\n",
    "# =====================================================================================\n",
    "forecaster = ForecasterSarimax(\n",
    "                regressor = ARIMA(order=(1,1,1), seasonal_order=(1,1,1,2))\n",
    "            )\n",
    "forecaster.fit(y=y)\n",
    "forecaster.predict(steps=5).values"
   ]
  },
  {
   "cell_type": "code",
   "execution_count": 15,
   "metadata": {},
   "outputs": [
    {
     "name": "stdout",
     "output_type": "stream",
     "text": [
      "2022-01-01    0.696469\n",
      "2022-01-02    0.286139\n",
      "2022-01-03    0.226851\n",
      "2022-01-04    0.551315\n",
      "2022-01-05    0.719469\n",
      "Freq: D, Name: y, dtype: float64\n",
      "2022-01-01    0.696469\n",
      "2022-01-02    0.286139\n",
      "2022-01-03    0.226851\n",
      "2022-01-04    0.551315\n",
      "2022-01-05    0.719469\n",
      "Freq: D, Name: y, dtype: float64\n"
     ]
    },
    {
     "ename": "ValueError",
     "evalue": "To make predictions unrelated to the original data, `last_window_exog` has to start at the end of the training set.\n    Series last index              : 2022-02-19 00:00:00.\n    Expected index                 : 2022-02-20 00:00:00.\n    `last_window_exog` index start : 2022-03-01 00:00:00.",
     "output_type": "error",
     "traceback": [
      "\u001b[1;31m---------------------------------------------------------------------------\u001b[0m",
      "\u001b[1;31mValueError\u001b[0m                                Traceback (most recent call last)",
      "Cell \u001b[1;32mIn [15], line 12\u001b[0m\n\u001b[0;32m     10\u001b[0m forecaster \u001b[39m=\u001b[39m ForecasterSarimax(regressor\u001b[39m=\u001b[39m ARIMA(order\u001b[39m=\u001b[39m(\u001b[39m1\u001b[39m,\u001b[39m1\u001b[39m,\u001b[39m1\u001b[39m)))\n\u001b[0;32m     11\u001b[0m forecaster\u001b[39m.\u001b[39mfit(y\u001b[39m=\u001b[39my_datetime, exog\u001b[39m=\u001b[39mexog_datetime)\n\u001b[1;32m---> 12\u001b[0m forecaster\u001b[39m.\u001b[39mpredict(\u001b[39m5\u001b[39m, exog\u001b[39m=\u001b[39mexog_datetime, last_window\u001b[39m=\u001b[39mlw_datetime, last_window_exog\u001b[39m=\u001b[39mlw_exog_datetime)\n",
      "File \u001b[1;32mc:\\Users\\jaesc2\\GitHub\\skforecast\\skforecast\\ForecasterSarimax\\ForecasterSarimax.py:363\u001b[0m, in \u001b[0;36mForecasterSarimax.predict\u001b[1;34m(self, steps, last_window, last_window_exog, exog)\u001b[0m\n\u001b[0;32m    360\u001b[0m \u001b[39mif\u001b[39;00m last_window_exog \u001b[39mis\u001b[39;00m \u001b[39mnot\u001b[39;00m \u001b[39mNone\u001b[39;00m:\n\u001b[0;32m    361\u001b[0m     \u001b[39m# check index last_window_exog\u001b[39;00m\n\u001b[0;32m    362\u001b[0m     \u001b[39mif\u001b[39;00m expected_index \u001b[39m!=\u001b[39m last_window_exog\u001b[39m.\u001b[39mindex[\u001b[39m0\u001b[39m]:\n\u001b[1;32m--> 363\u001b[0m         \u001b[39mraise\u001b[39;00m \u001b[39mValueError\u001b[39;00m(\n\u001b[0;32m    364\u001b[0m             (\u001b[39mf\u001b[39m\u001b[39m'\u001b[39m\u001b[39mTo make predictions unrelated to the original data, `last_window_exog` \u001b[39m\u001b[39m'\u001b[39m\n\u001b[0;32m    365\u001b[0m              \u001b[39mf\u001b[39m\u001b[39m'\u001b[39m\u001b[39mhas to start at the end of the training set.\u001b[39m\u001b[39m\\n\u001b[39;00m\u001b[39m'\u001b[39m\n\u001b[0;32m    366\u001b[0m              \u001b[39mf\u001b[39m\u001b[39m'\u001b[39m\u001b[39m    Series last index              : \u001b[39m\u001b[39m{\u001b[39;00m\u001b[39mself\u001b[39m\u001b[39m.\u001b[39mlast_window\u001b[39m.\u001b[39mindex[\u001b[39m-\u001b[39m\u001b[39m1\u001b[39m]\u001b[39m}\u001b[39;00m\u001b[39m.\u001b[39m\u001b[39m\\n\u001b[39;00m\u001b[39m'\u001b[39m\n\u001b[0;32m    367\u001b[0m              \u001b[39mf\u001b[39m\u001b[39m'\u001b[39m\u001b[39m    Expected index                 : \u001b[39m\u001b[39m{\u001b[39;00mexpected_index\u001b[39m}\u001b[39;00m\u001b[39m.\u001b[39m\u001b[39m\\n\u001b[39;00m\u001b[39m'\u001b[39m\n\u001b[0;32m    368\u001b[0m              \u001b[39mf\u001b[39m\u001b[39m'\u001b[39m\u001b[39m    `last_window_exog` index start : \u001b[39m\u001b[39m{\u001b[39;00mlast_window_exog\u001b[39m.\u001b[39mindex[\u001b[39m0\u001b[39m]\u001b[39m}\u001b[39;00m\u001b[39m.\u001b[39m\u001b[39m'\u001b[39m)\n\u001b[0;32m    369\u001b[0m         )\n\u001b[0;32m    371\u001b[0m     \u001b[39mif\u001b[39;00m \u001b[39misinstance\u001b[39m(last_window_exog, pd\u001b[39m.\u001b[39mSeries):\n\u001b[0;32m    372\u001b[0m         \u001b[39m# pmdarima.arima.ARIMA only accepts DataFrames or 2d-arrays as exog \u001b[39;00m\n\u001b[0;32m    373\u001b[0m         last_window_exog \u001b[39m=\u001b[39m last_window_exog\u001b[39m.\u001b[39mto_frame(name\u001b[39m=\u001b[39mexog\u001b[39m.\u001b[39mname)\n",
      "\u001b[1;31mValueError\u001b[0m: To make predictions unrelated to the original data, `last_window_exog` has to start at the end of the training set.\n    Series last index              : 2022-02-19 00:00:00.\n    Expected index                 : 2022-02-20 00:00:00.\n    `last_window_exog` index start : 2022-03-01 00:00:00."
     ]
    }
   ],
   "source": [
    "y_datetime = pd.Series(data=y)\n",
    "y_datetime.index = pd.date_range(start='2022-01-01', periods=50)\n",
    "exog_datetime = pd.Series(data=exog)\n",
    "exog_datetime.index = pd.date_range(start='2022-01-01', periods=50)\n",
    "lw_datetime = pd.Series(data=np.random.rand(50))\n",
    "lw_datetime.index = pd.date_range(start='2022-02-20', periods=50)\n",
    "lw_exog_datetime = pd.Series(data=np.random.rand(50))\n",
    "lw_exog_datetime.index = pd.date_range(start='2022-03-01', periods=50)\n",
    "\n",
    "forecaster = ForecasterSarimax(regressor= ARIMA(order=(1,1,1)))\n",
    "forecaster.fit(y=y_datetime, exog=exog_datetime)\n",
    "forecaster.predict(5, exog=exog_datetime, last_window=lw_datetime, last_window_exog=lw_exog_datetime)"
   ]
  },
  {
   "cell_type": "code",
   "execution_count": 94,
   "metadata": {},
   "outputs": [
    {
     "name": "stdout",
     "output_type": "stream",
     "text": [
      "2022-01-01    0.696469\n",
      "2022-01-02    0.286139\n",
      "2022-01-03    0.226851\n",
      "2022-01-04    0.551315\n",
      "2022-01-05    0.719469\n",
      "2022-01-06    0.423106\n",
      "2022-01-07    0.980764\n",
      "2022-01-08    0.684830\n",
      "2022-01-09    0.480932\n",
      "2022-01-10    0.392118\n",
      "2022-01-11    0.343178\n",
      "2022-01-12    0.729050\n",
      "2022-01-13    0.438572\n",
      "2022-01-14    0.059678\n",
      "2022-01-15    0.398044\n",
      "2022-01-16    0.737995\n",
      "2022-01-17    0.182492\n",
      "2022-01-18    0.175452\n",
      "2022-01-19    0.531551\n",
      "2022-01-20    0.531828\n",
      "2022-01-21    0.634401\n",
      "2022-01-22    0.849432\n",
      "2022-01-23    0.724455\n",
      "2022-01-24    0.611024\n",
      "2022-01-25    0.722443\n",
      "2022-01-26    0.322959\n",
      "2022-01-27    0.361789\n",
      "2022-01-28    0.228263\n",
      "2022-01-29    0.293714\n",
      "2022-01-30    0.630976\n",
      "2022-01-31    0.092105\n",
      "2022-02-01    0.433701\n",
      "2022-02-02    0.430863\n",
      "2022-02-03    0.493685\n",
      "2022-02-04    0.425830\n",
      "2022-02-05    0.312261\n",
      "2022-02-06    0.426351\n",
      "2022-02-07    0.893389\n",
      "2022-02-08    0.944160\n",
      "2022-02-09    0.501837\n",
      "2022-02-10    0.623953\n",
      "2022-02-11    0.115618\n",
      "2022-02-12    0.317285\n",
      "2022-02-13    0.414826\n",
      "2022-02-14    0.866309\n",
      "2022-02-15    0.250455\n",
      "2022-02-16    0.483034\n",
      "2022-02-17    0.985560\n",
      "2022-02-18    0.519485\n",
      "2022-02-19    0.612895\n",
      "Freq: D, Name: y, dtype: float64\n",
      "2022-01-01    0.696469\n",
      "2022-01-02    0.286139\n",
      "2022-01-03    0.226851\n",
      "2022-01-04    0.551315\n",
      "2022-01-05    0.719469\n",
      "2022-01-06    0.423106\n",
      "2022-01-07    0.980764\n",
      "2022-01-08    0.684830\n",
      "2022-01-09    0.480932\n",
      "2022-01-10    0.392118\n",
      "2022-01-11    0.343178\n",
      "2022-01-12    0.729050\n",
      "2022-01-13    0.438572\n",
      "2022-01-14    0.059678\n",
      "2022-01-15    0.398044\n",
      "2022-01-16    0.737995\n",
      "2022-01-17    0.182492\n",
      "2022-01-18    0.175452\n",
      "2022-01-19    0.531551\n",
      "2022-01-20    0.531828\n",
      "2022-01-21    0.634401\n",
      "2022-01-22    0.849432\n",
      "2022-01-23    0.724455\n",
      "2022-01-24    0.611024\n",
      "2022-01-25    0.722443\n",
      "2022-01-26    0.322959\n",
      "2022-01-27    0.361789\n",
      "2022-01-28    0.228263\n",
      "2022-01-29    0.293714\n",
      "2022-01-30    0.630976\n",
      "2022-01-31    0.092105\n",
      "2022-02-01    0.433701\n",
      "2022-02-02    0.430863\n",
      "2022-02-03    0.493685\n",
      "2022-02-04    0.425830\n",
      "2022-02-05    0.312261\n",
      "2022-02-06    0.426351\n",
      "2022-02-07    0.893389\n",
      "2022-02-08    0.944160\n",
      "2022-02-09    0.501837\n",
      "2022-02-10    0.623953\n",
      "2022-02-11    0.115618\n",
      "2022-02-12    0.317285\n",
      "2022-02-13    0.414826\n",
      "2022-02-14    0.866309\n",
      "2022-02-15    0.250455\n",
      "2022-02-16    0.483034\n",
      "2022-02-17    0.985560\n",
      "2022-02-18    0.519485\n",
      "2022-02-19    0.612895\n",
      "Freq: D, Name: y, dtype: float64\n"
     ]
    },
    {
     "name": "stderr",
     "output_type": "stream",
     "text": [
      "c:\\Users\\jaesc2\\GitHub\\skforecast\\skforecast\\ForecasterSarimax\\ForecasterSarimax.py:251: FutureWarning: Explicitly passing `name=None` currently preserves the Series' name or uses a default name of 0. This behaviour is deprecated, and in the future `None` will be used as the name of the resulting DataFrame column.\n",
      "  exog = exog.to_frame(name=exog.name)\n"
     ]
    },
    {
     "ename": "ValueError",
     "evalue": "The indices for endog and exog are not aligned",
     "output_type": "error",
     "traceback": [
      "\u001b[1;31m---------------------------------------------------------------------------\u001b[0m",
      "\u001b[1;31mValueError\u001b[0m                                Traceback (most recent call last)",
      "Cell \u001b[1;32mIn [94], line 11\u001b[0m\n\u001b[0;32m      3\u001b[0m \u001b[39m# exog_datetime = pd.Series(data=list(exog) + list(exog))\u001b[39;00m\n\u001b[0;32m      4\u001b[0m \u001b[39m# exog_datetime.index = pd.date_range(start='2022-01-02', periods=100)\u001b[39;00m\n\u001b[0;32m      5\u001b[0m \u001b[39m# lw_datetime = pd.Series(data=y)\u001b[39;00m\n\u001b[0;32m      6\u001b[0m \u001b[39m# lw_datetime.index = pd.date_range(start='2022-02-20', periods=50)\u001b[39;00m\n\u001b[0;32m      7\u001b[0m \u001b[39m# lw_exog_datetime = pd.Series(data=exog)\u001b[39;00m\n\u001b[0;32m      8\u001b[0m \u001b[39m# lw_exog_datetime.index = pd.date_range(start='2022-03-01', periods=50)\u001b[39;00m\n\u001b[0;32m     10\u001b[0m forecaster \u001b[39m=\u001b[39m ForecasterSarimax(regressor\u001b[39m=\u001b[39m ARIMA(order\u001b[39m=\u001b[39m(\u001b[39m1\u001b[39m,\u001b[39m1\u001b[39m,\u001b[39m1\u001b[39m)))\n\u001b[1;32m---> 11\u001b[0m forecaster\u001b[39m.\u001b[39mfit(y\u001b[39m=\u001b[39my_datetime, exog\u001b[39m=\u001b[39mexog_datetime)\n\u001b[0;32m     12\u001b[0m expected_index \u001b[39m=\u001b[39m expand_index(forecaster\u001b[39m.\u001b[39mlast_window\u001b[39m.\u001b[39mindex, \u001b[39m1\u001b[39m)[\u001b[39m0\u001b[39m]\n\u001b[0;32m     14\u001b[0m err_msg \u001b[39m=\u001b[39m re\u001b[39m.\u001b[39mescape(\n\u001b[0;32m     15\u001b[0m     (\u001b[39mf\u001b[39m\u001b[39m'\u001b[39m\u001b[39mTo make predictions unrelated to the original data, `last_window_exog` \u001b[39m\u001b[39m'\u001b[39m\n\u001b[0;32m     16\u001b[0m         \u001b[39mf\u001b[39m\u001b[39m'\u001b[39m\u001b[39mhas to start at the end of the training set.\u001b[39m\u001b[39m\\n\u001b[39;00m\u001b[39m'\u001b[39m\n\u001b[1;32m   (...)\u001b[0m\n\u001b[0;32m     19\u001b[0m         \u001b[39mf\u001b[39m\u001b[39m'\u001b[39m\u001b[39m    `last_window_exog` index start : \u001b[39m\u001b[39m{\u001b[39;00mlw_exog_datetime\u001b[39m.\u001b[39mindex[\u001b[39m0\u001b[39m]\u001b[39m}\u001b[39;00m\u001b[39m.\u001b[39m\u001b[39m'\u001b[39m)\n\u001b[0;32m     20\u001b[0m )\n",
      "File \u001b[1;32mc:\\Users\\jaesc2\\GitHub\\skforecast\\skforecast\\ForecasterSarimax\\ForecasterSarimax.py:260\u001b[0m, in \u001b[0;36mForecasterSarimax.fit\u001b[1;34m(self, y, exog)\u001b[0m\n\u001b[0;32m    253\u001b[0m     exog \u001b[39m=\u001b[39m transform_dataframe(\n\u001b[0;32m    254\u001b[0m                df                \u001b[39m=\u001b[39m exog,\n\u001b[0;32m    255\u001b[0m                transformer       \u001b[39m=\u001b[39m \u001b[39mself\u001b[39m\u001b[39m.\u001b[39mtransformer_exog,\n\u001b[0;32m    256\u001b[0m                fit               \u001b[39m=\u001b[39m \u001b[39mTrue\u001b[39;00m,\n\u001b[0;32m    257\u001b[0m                inverse_transform \u001b[39m=\u001b[39m \u001b[39mFalse\u001b[39;00m\n\u001b[0;32m    258\u001b[0m            )\n\u001b[0;32m    259\u001b[0m \u001b[39mprint\u001b[39m(y)\n\u001b[1;32m--> 260\u001b[0m \u001b[39mself\u001b[39;49m\u001b[39m.\u001b[39;49mregressor\u001b[39m.\u001b[39;49mfit(y\u001b[39m=\u001b[39;49my, X\u001b[39m=\u001b[39;49mexog)\n\u001b[0;32m    261\u001b[0m \u001b[39mself\u001b[39m\u001b[39m.\u001b[39mfitted \u001b[39m=\u001b[39m \u001b[39mTrue\u001b[39;00m\n\u001b[0;32m    262\u001b[0m \u001b[39mself\u001b[39m\u001b[39m.\u001b[39mfit_date \u001b[39m=\u001b[39m pd\u001b[39m.\u001b[39mTimestamp\u001b[39m.\u001b[39mtoday()\u001b[39m.\u001b[39mstrftime(\u001b[39m'\u001b[39m\u001b[39m%\u001b[39m\u001b[39mY-\u001b[39m\u001b[39m%\u001b[39m\u001b[39mm-\u001b[39m\u001b[39m%d\u001b[39;00m\u001b[39m \u001b[39m\u001b[39m%\u001b[39m\u001b[39mH:\u001b[39m\u001b[39m%\u001b[39m\u001b[39mM:\u001b[39m\u001b[39m%\u001b[39m\u001b[39mS\u001b[39m\u001b[39m'\u001b[39m)\n",
      "File \u001b[1;32mc:\\Users\\jaesc2\\Miniconda3\\envs\\skforecast\\lib\\site-packages\\pmdarima\\arima\\arima.py:603\u001b[0m, in \u001b[0;36mARIMA.fit\u001b[1;34m(self, y, X, **fit_args)\u001b[0m\n\u001b[0;32m    600\u001b[0m         X \u001b[39m=\u001b[39m safe_indexing(X, \u001b[39mslice\u001b[39m(\u001b[39m0\u001b[39m, n_exog \u001b[39m-\u001b[39m cv))\n\u001b[0;32m    602\u001b[0m \u001b[39m# Internal call\u001b[39;00m\n\u001b[1;32m--> 603\u001b[0m \u001b[39mself\u001b[39m\u001b[39m.\u001b[39m_fit(y, X, \u001b[39m*\u001b[39m\u001b[39m*\u001b[39mfit_args)\n\u001b[0;32m    605\u001b[0m \u001b[39m# now make a forecast if we're validating to compute the\u001b[39;00m\n\u001b[0;32m    606\u001b[0m \u001b[39m# out-of-sample score\u001b[39;00m\n\u001b[0;32m    607\u001b[0m \u001b[39mif\u001b[39;00m cv_samples \u001b[39mis\u001b[39;00m \u001b[39mnot\u001b[39;00m \u001b[39mNone\u001b[39;00m:\n\u001b[0;32m    608\u001b[0m     \u001b[39m# get the predictions (use self.predict, which calls forecast\u001b[39;00m\n\u001b[0;32m    609\u001b[0m     \u001b[39m# from statsmodels internally)\u001b[39;00m\n",
      "File \u001b[1;32mc:\\Users\\jaesc2\\Miniconda3\\envs\\skforecast\\lib\\site-packages\\pmdarima\\arima\\arima.py:526\u001b[0m, in \u001b[0;36mARIMA._fit\u001b[1;34m(self, y, X, **fit_args)\u001b[0m\n\u001b[0;32m    524\u001b[0m         fit, \u001b[39mself\u001b[39m\u001b[39m.\u001b[39marima_res_ \u001b[39m=\u001b[39m _fit_wrapper()\n\u001b[0;32m    525\u001b[0m \u001b[39melse\u001b[39;00m:\n\u001b[1;32m--> 526\u001b[0m     fit, \u001b[39mself\u001b[39m\u001b[39m.\u001b[39marima_res_ \u001b[39m=\u001b[39m _fit_wrapper()\n\u001b[0;32m    528\u001b[0m \u001b[39m# Set df_model attribute for SARIMAXResults object\u001b[39;00m\n\u001b[0;32m    529\u001b[0m sm_compat\u001b[39m.\u001b[39mbind_df_model(fit, \u001b[39mself\u001b[39m\u001b[39m.\u001b[39marima_res_)\n",
      "File \u001b[1;32mc:\\Users\\jaesc2\\Miniconda3\\envs\\skforecast\\lib\\site-packages\\pmdarima\\arima\\arima.py:489\u001b[0m, in \u001b[0;36mARIMA._fit.<locals>._fit_wrapper\u001b[1;34m()\u001b[0m\n\u001b[0;32m    485\u001b[0m sarimax_kwargs \u001b[39m=\u001b[39m \\\n\u001b[0;32m    486\u001b[0m     {} \u001b[39mif\u001b[39;00m \u001b[39mnot\u001b[39;00m \u001b[39mself\u001b[39m\u001b[39m.\u001b[39msarimax_kwargs \u001b[39melse\u001b[39;00m \u001b[39mself\u001b[39m\u001b[39m.\u001b[39msarimax_kwargs\n\u001b[0;32m    487\u001b[0m seasonal_order \u001b[39m=\u001b[39m \\\n\u001b[0;32m    488\u001b[0m     sm_compat\u001b[39m.\u001b[39mcheck_seasonal_order(\u001b[39mself\u001b[39m\u001b[39m.\u001b[39mseasonal_order)\n\u001b[1;32m--> 489\u001b[0m arima \u001b[39m=\u001b[39m sm\u001b[39m.\u001b[39mtsa\u001b[39m.\u001b[39mstatespace\u001b[39m.\u001b[39mSARIMAX(\n\u001b[0;32m    490\u001b[0m     endog\u001b[39m=\u001b[39my, exog\u001b[39m=\u001b[39mX, order\u001b[39m=\u001b[39m\u001b[39mself\u001b[39m\u001b[39m.\u001b[39morder,\n\u001b[0;32m    491\u001b[0m     seasonal_order\u001b[39m=\u001b[39mseasonal_order,\n\u001b[0;32m    492\u001b[0m     trend\u001b[39m=\u001b[39mtrend,\n\u001b[0;32m    493\u001b[0m     \u001b[39m*\u001b[39m\u001b[39m*\u001b[39msarimax_kwargs)\n\u001b[0;32m    495\u001b[0m \u001b[39m# actually fit the model, now. If this was called from 'update',\u001b[39;00m\n\u001b[0;32m    496\u001b[0m \u001b[39m# give priority to start_params from the fit_args\u001b[39;00m\n\u001b[0;32m    497\u001b[0m start_params \u001b[39m=\u001b[39m fit_args\u001b[39m.\u001b[39mpop(\u001b[39m\"\u001b[39m\u001b[39mstart_params\u001b[39m\u001b[39m\"\u001b[39m, \u001b[39mself\u001b[39m\u001b[39m.\u001b[39mstart_params)\n",
      "File \u001b[1;32mc:\\Users\\jaesc2\\Miniconda3\\envs\\skforecast\\lib\\site-packages\\statsmodels\\tsa\\statespace\\sarimax.py:328\u001b[0m, in \u001b[0;36mSARIMAX.__init__\u001b[1;34m(self, endog, exog, order, seasonal_order, trend, measurement_error, time_varying_regression, mle_regression, simple_differencing, enforce_stationarity, enforce_invertibility, hamilton_representation, concentrate_scale, trend_offset, use_exact_diffuse, dates, freq, missing, validate_specification, **kwargs)\u001b[0m\n\u001b[0;32m    318\u001b[0m \u001b[39mdef\u001b[39;00m \u001b[39m__init__\u001b[39m(\u001b[39mself\u001b[39m, endog, exog\u001b[39m=\u001b[39m\u001b[39mNone\u001b[39;00m, order\u001b[39m=\u001b[39m(\u001b[39m1\u001b[39m, \u001b[39m0\u001b[39m, \u001b[39m0\u001b[39m),\n\u001b[0;32m    319\u001b[0m              seasonal_order\u001b[39m=\u001b[39m(\u001b[39m0\u001b[39m, \u001b[39m0\u001b[39m, \u001b[39m0\u001b[39m, \u001b[39m0\u001b[39m), trend\u001b[39m=\u001b[39m\u001b[39mNone\u001b[39;00m,\n\u001b[0;32m    320\u001b[0m              measurement_error\u001b[39m=\u001b[39m\u001b[39mFalse\u001b[39;00m, time_varying_regression\u001b[39m=\u001b[39m\u001b[39mFalse\u001b[39;00m,\n\u001b[1;32m   (...)\u001b[0m\n\u001b[0;32m    325\u001b[0m              freq\u001b[39m=\u001b[39m\u001b[39mNone\u001b[39;00m, missing\u001b[39m=\u001b[39m\u001b[39m'\u001b[39m\u001b[39mnone\u001b[39m\u001b[39m'\u001b[39m, validate_specification\u001b[39m=\u001b[39m\u001b[39mTrue\u001b[39;00m,\n\u001b[0;32m    326\u001b[0m              \u001b[39m*\u001b[39m\u001b[39m*\u001b[39mkwargs):\n\u001b[1;32m--> 328\u001b[0m     \u001b[39mself\u001b[39m\u001b[39m.\u001b[39m_spec \u001b[39m=\u001b[39m SARIMAXSpecification(\n\u001b[0;32m    329\u001b[0m         endog, exog\u001b[39m=\u001b[39;49mexog, order\u001b[39m=\u001b[39;49morder, seasonal_order\u001b[39m=\u001b[39;49mseasonal_order,\n\u001b[0;32m    330\u001b[0m         trend\u001b[39m=\u001b[39;49mtrend, enforce_stationarity\u001b[39m=\u001b[39;49m\u001b[39mNone\u001b[39;49;00m, enforce_invertibility\u001b[39m=\u001b[39;49m\u001b[39mNone\u001b[39;49;00m,\n\u001b[0;32m    331\u001b[0m         concentrate_scale\u001b[39m=\u001b[39;49mconcentrate_scale, dates\u001b[39m=\u001b[39;49mdates, freq\u001b[39m=\u001b[39;49mfreq,\n\u001b[0;32m    332\u001b[0m         missing\u001b[39m=\u001b[39;49mmissing, validate_specification\u001b[39m=\u001b[39;49mvalidate_specification)\n\u001b[0;32m    333\u001b[0m     \u001b[39mself\u001b[39m\u001b[39m.\u001b[39m_params \u001b[39m=\u001b[39m SARIMAXParams(\u001b[39mself\u001b[39m\u001b[39m.\u001b[39m_spec)\n\u001b[0;32m    335\u001b[0m     \u001b[39m# Save given orders\u001b[39;00m\n",
      "File \u001b[1;32mc:\\Users\\jaesc2\\Miniconda3\\envs\\skforecast\\lib\\site-packages\\statsmodels\\tsa\\arima\\specification.py:446\u001b[0m, in \u001b[0;36mSARIMAXSpecification.__init__\u001b[1;34m(self, endog, exog, order, seasonal_order, ar_order, diff, ma_order, seasonal_ar_order, seasonal_diff, seasonal_ma_order, seasonal_periods, trend, enforce_stationarity, enforce_invertibility, concentrate_scale, trend_offset, dates, freq, missing, validate_specification)\u001b[0m\n\u001b[0;32m    441\u001b[0m         exog \u001b[39m=\u001b[39m np\u001b[39m.\u001b[39mc_[trend_data, exog]\n\u001b[0;32m    443\u001b[0m \u001b[39m# Create an underlying time series model, to handle endog / exog,\u001b[39;00m\n\u001b[0;32m    444\u001b[0m \u001b[39m# especially validating shapes, retrieving names, and potentially\u001b[39;00m\n\u001b[0;32m    445\u001b[0m \u001b[39m# providing us with a time series index\u001b[39;00m\n\u001b[1;32m--> 446\u001b[0m \u001b[39mself\u001b[39m\u001b[39m.\u001b[39m_model \u001b[39m=\u001b[39m TimeSeriesModel(endog, exog\u001b[39m=\u001b[39;49mexog, dates\u001b[39m=\u001b[39;49mdates, freq\u001b[39m=\u001b[39;49mfreq,\n\u001b[0;32m    447\u001b[0m                               missing\u001b[39m=\u001b[39;49mmissing)\n\u001b[0;32m    448\u001b[0m \u001b[39mself\u001b[39m\u001b[39m.\u001b[39mendog \u001b[39m=\u001b[39m \u001b[39mNone\u001b[39;00m \u001b[39mif\u001b[39;00m faux_endog \u001b[39melse\u001b[39;00m \u001b[39mself\u001b[39m\u001b[39m.\u001b[39m_model\u001b[39m.\u001b[39mendog\n\u001b[0;32m    449\u001b[0m \u001b[39mself\u001b[39m\u001b[39m.\u001b[39mexog \u001b[39m=\u001b[39m \u001b[39mself\u001b[39m\u001b[39m.\u001b[39m_model\u001b[39m.\u001b[39mexog\n",
      "File \u001b[1;32mc:\\Users\\jaesc2\\Miniconda3\\envs\\skforecast\\lib\\site-packages\\statsmodels\\tsa\\base\\tsa_model.py:468\u001b[0m, in \u001b[0;36mTimeSeriesModel.__init__\u001b[1;34m(self, endog, exog, dates, freq, missing, **kwargs)\u001b[0m\n\u001b[0;32m    465\u001b[0m \u001b[39mdef\u001b[39;00m \u001b[39m__init__\u001b[39m(\n\u001b[0;32m    466\u001b[0m     \u001b[39mself\u001b[39m, endog, exog\u001b[39m=\u001b[39m\u001b[39mNone\u001b[39;00m, dates\u001b[39m=\u001b[39m\u001b[39mNone\u001b[39;00m, freq\u001b[39m=\u001b[39m\u001b[39mNone\u001b[39;00m, missing\u001b[39m=\u001b[39m\u001b[39m\"\u001b[39m\u001b[39mnone\u001b[39m\u001b[39m\"\u001b[39m, \u001b[39m*\u001b[39m\u001b[39m*\u001b[39mkwargs\n\u001b[0;32m    467\u001b[0m ):\n\u001b[1;32m--> 468\u001b[0m     \u001b[39msuper\u001b[39m()\u001b[39m.\u001b[39m\u001b[39m__init__\u001b[39m(endog, exog, missing\u001b[39m=\u001b[39mmissing, \u001b[39m*\u001b[39m\u001b[39m*\u001b[39mkwargs)\n\u001b[0;32m    470\u001b[0m     \u001b[39m# Date handling in indexes\u001b[39;00m\n\u001b[0;32m    471\u001b[0m     \u001b[39mself\u001b[39m\u001b[39m.\u001b[39m_init_dates(dates, freq)\n",
      "File \u001b[1;32mc:\\Users\\jaesc2\\Miniconda3\\envs\\skforecast\\lib\\site-packages\\statsmodels\\base\\model.py:267\u001b[0m, in \u001b[0;36mLikelihoodModel.__init__\u001b[1;34m(self, endog, exog, **kwargs)\u001b[0m\n\u001b[0;32m    266\u001b[0m \u001b[39mdef\u001b[39;00m \u001b[39m__init__\u001b[39m(\u001b[39mself\u001b[39m, endog, exog\u001b[39m=\u001b[39m\u001b[39mNone\u001b[39;00m, \u001b[39m*\u001b[39m\u001b[39m*\u001b[39mkwargs):\n\u001b[1;32m--> 267\u001b[0m     \u001b[39msuper\u001b[39m()\u001b[39m.\u001b[39m\u001b[39m__init__\u001b[39m(endog, exog, \u001b[39m*\u001b[39m\u001b[39m*\u001b[39mkwargs)\n\u001b[0;32m    268\u001b[0m     \u001b[39mself\u001b[39m\u001b[39m.\u001b[39minitialize()\n",
      "File \u001b[1;32mc:\\Users\\jaesc2\\Miniconda3\\envs\\skforecast\\lib\\site-packages\\statsmodels\\base\\model.py:92\u001b[0m, in \u001b[0;36mModel.__init__\u001b[1;34m(self, endog, exog, **kwargs)\u001b[0m\n\u001b[0;32m     90\u001b[0m missing \u001b[39m=\u001b[39m kwargs\u001b[39m.\u001b[39mpop(\u001b[39m'\u001b[39m\u001b[39mmissing\u001b[39m\u001b[39m'\u001b[39m, \u001b[39m'\u001b[39m\u001b[39mnone\u001b[39m\u001b[39m'\u001b[39m)\n\u001b[0;32m     91\u001b[0m hasconst \u001b[39m=\u001b[39m kwargs\u001b[39m.\u001b[39mpop(\u001b[39m'\u001b[39m\u001b[39mhasconst\u001b[39m\u001b[39m'\u001b[39m, \u001b[39mNone\u001b[39;00m)\n\u001b[1;32m---> 92\u001b[0m \u001b[39mself\u001b[39m\u001b[39m.\u001b[39mdata \u001b[39m=\u001b[39m \u001b[39mself\u001b[39m\u001b[39m.\u001b[39m_handle_data(endog, exog, missing, hasconst,\n\u001b[0;32m     93\u001b[0m                               \u001b[39m*\u001b[39m\u001b[39m*\u001b[39mkwargs)\n\u001b[0;32m     94\u001b[0m \u001b[39mself\u001b[39m\u001b[39m.\u001b[39mk_constant \u001b[39m=\u001b[39m \u001b[39mself\u001b[39m\u001b[39m.\u001b[39mdata\u001b[39m.\u001b[39mk_constant\n\u001b[0;32m     95\u001b[0m \u001b[39mself\u001b[39m\u001b[39m.\u001b[39mexog \u001b[39m=\u001b[39m \u001b[39mself\u001b[39m\u001b[39m.\u001b[39mdata\u001b[39m.\u001b[39mexog\n",
      "File \u001b[1;32mc:\\Users\\jaesc2\\Miniconda3\\envs\\skforecast\\lib\\site-packages\\statsmodels\\base\\model.py:132\u001b[0m, in \u001b[0;36mModel._handle_data\u001b[1;34m(self, endog, exog, missing, hasconst, **kwargs)\u001b[0m\n\u001b[0;32m    131\u001b[0m \u001b[39mdef\u001b[39;00m \u001b[39m_handle_data\u001b[39m(\u001b[39mself\u001b[39m, endog, exog, missing, hasconst, \u001b[39m*\u001b[39m\u001b[39m*\u001b[39mkwargs):\n\u001b[1;32m--> 132\u001b[0m     data \u001b[39m=\u001b[39m handle_data(endog, exog, missing, hasconst, \u001b[39m*\u001b[39m\u001b[39m*\u001b[39mkwargs)\n\u001b[0;32m    133\u001b[0m     \u001b[39m# kwargs arrays could have changed, easier to just attach here\u001b[39;00m\n\u001b[0;32m    134\u001b[0m     \u001b[39mfor\u001b[39;00m key \u001b[39min\u001b[39;00m kwargs:\n",
      "File \u001b[1;32mc:\\Users\\jaesc2\\Miniconda3\\envs\\skforecast\\lib\\site-packages\\statsmodels\\base\\data.py:700\u001b[0m, in \u001b[0;36mhandle_data\u001b[1;34m(endog, exog, missing, hasconst, **kwargs)\u001b[0m\n\u001b[0;32m    697\u001b[0m     exog \u001b[39m=\u001b[39m np\u001b[39m.\u001b[39masarray(exog)\n\u001b[0;32m    699\u001b[0m klass \u001b[39m=\u001b[39m handle_data_class_factory(endog, exog)\n\u001b[1;32m--> 700\u001b[0m \u001b[39mreturn\u001b[39;00m klass(endog, exog\u001b[39m=\u001b[39mexog, missing\u001b[39m=\u001b[39mmissing, hasconst\u001b[39m=\u001b[39mhasconst,\n\u001b[0;32m    701\u001b[0m              \u001b[39m*\u001b[39m\u001b[39m*\u001b[39mkwargs)\n",
      "File \u001b[1;32mc:\\Users\\jaesc2\\Miniconda3\\envs\\skforecast\\lib\\site-packages\\statsmodels\\base\\data.py:89\u001b[0m, in \u001b[0;36mModelData.__init__\u001b[1;34m(self, endog, exog, missing, hasconst, **kwargs)\u001b[0m\n\u001b[0;32m     87\u001b[0m \u001b[39mself\u001b[39m\u001b[39m.\u001b[39mk_constant \u001b[39m=\u001b[39m \u001b[39m0\u001b[39m\n\u001b[0;32m     88\u001b[0m \u001b[39mself\u001b[39m\u001b[39m.\u001b[39m_handle_constant(hasconst)\n\u001b[1;32m---> 89\u001b[0m \u001b[39mself\u001b[39;49m\u001b[39m.\u001b[39;49m_check_integrity()\n\u001b[0;32m     90\u001b[0m \u001b[39mself\u001b[39m\u001b[39m.\u001b[39m_cache \u001b[39m=\u001b[39m {}\n",
      "File \u001b[1;32mc:\\Users\\jaesc2\\Miniconda3\\envs\\skforecast\\lib\\site-packages\\statsmodels\\base\\data.py:558\u001b[0m, in \u001b[0;36mPandasData._check_integrity\u001b[1;34m(self)\u001b[0m\n\u001b[0;32m    554\u001b[0m \u001b[39m# exog can be None and we could be upcasting one or the other\u001b[39;00m\n\u001b[0;32m    555\u001b[0m \u001b[39mif\u001b[39;00m (exog \u001b[39mis\u001b[39;00m \u001b[39mnot\u001b[39;00m \u001b[39mNone\u001b[39;00m \u001b[39mand\u001b[39;00m\n\u001b[0;32m    556\u001b[0m         (\u001b[39mhasattr\u001b[39m(endog, \u001b[39m'\u001b[39m\u001b[39mindex\u001b[39m\u001b[39m'\u001b[39m) \u001b[39mand\u001b[39;00m \u001b[39mhasattr\u001b[39m(exog, \u001b[39m'\u001b[39m\u001b[39mindex\u001b[39m\u001b[39m'\u001b[39m)) \u001b[39mand\u001b[39;00m\n\u001b[0;32m    557\u001b[0m         \u001b[39mnot\u001b[39;00m \u001b[39mself\u001b[39m\u001b[39m.\u001b[39morig_endog\u001b[39m.\u001b[39mindex\u001b[39m.\u001b[39mequals(\u001b[39mself\u001b[39m\u001b[39m.\u001b[39morig_exog\u001b[39m.\u001b[39mindex)):\n\u001b[1;32m--> 558\u001b[0m     \u001b[39mraise\u001b[39;00m \u001b[39mValueError\u001b[39;00m(\u001b[39m\"\u001b[39m\u001b[39mThe indices for endog and exog are not aligned\u001b[39m\u001b[39m\"\u001b[39m)\n\u001b[0;32m    559\u001b[0m \u001b[39msuper\u001b[39m(PandasData, \u001b[39mself\u001b[39m)\u001b[39m.\u001b[39m_check_integrity()\n",
      "\u001b[1;31mValueError\u001b[0m: The indices for endog and exog are not aligned"
     ]
    }
   ],
   "source": [
    "y_datetime = pd.Series(data=y)\n",
    "y_datetime.index = pd.date_range(start='2022-01-01', periods=50)\n",
    "exog_datetime = pd.Series(data=list(exog) + list(exog))\n",
    "exog_datetime.index = pd.date_range(start='2022-01-02', periods=100)\n",
    "lw_datetime = pd.Series(data=y)\n",
    "lw_datetime.index = pd.date_range(start='2022-02-20', periods=50)\n",
    "# lw_exog_datetime = pd.Series(data=exog)\n",
    "# lw_exog_datetime.index = pd.date_range(start='2022-03-01', periods=50)\n",
    "\n",
    "forecaster = ForecasterSarimax(regressor= ARIMA(order=(1,1,1)))\n",
    "forecaster.fit(y=y_datetime, exog=exog_datetime)\n",
    "expected_index = expand_index(forecaster.last_window.index, 1)[0]\n",
    "\n",
    "err_msg = re.escape(\n",
    "    (f'To make predictions unrelated to the original data, `last_window_exog` '\n",
    "        f'has to start at the end of the training set.\\n'\n",
    "        f'    Series last index              : {forecaster.last_window.index[-1]}.\\n'\n",
    "        f'    Expected index                 : {expected_index}.\\n'\n",
    "        f'    `last_window_exog` index start : {lw_exog_datetime.index[0]}.')\n",
    ")\n",
    "with pytest.raises(ValueError, match = err_msg):\n",
    "    forecaster.predict(steps=5, last_window=lw_datetime, last_window_exog=lw_exog_datetime)"
   ]
  },
  {
   "cell_type": "code",
   "execution_count": 76,
   "metadata": {},
   "outputs": [],
   "source": [
    "y_datetime = pd.Series(data=y)\n",
    "y_datetime.index = pd.date_range(start='2022-01-01', periods=50, freq='D')\n",
    "lw_datetime = pd.Series(data=y)\n",
    "lw_datetime.index = pd.date_range(start='2022-03-01', periods=50, freq='D')\n",
    "\n",
    "forecaster = ForecasterSarimax(regressor= ARIMA(order=(1,1,1)))\n",
    "forecaster.fit(y=y_datetime)\n",
    "expected_index = expand_index(forecaster.last_window.index, 1)[0]\n",
    "\n",
    "err_msg = re.escape(\n",
    "    (f'To make predictions unrelated to the original data, `last_window` '\n",
    "        f'has to start at the end of the training set.\\n'\n",
    "        f'    Series last index         : {forecaster.last_window.index[-1]}.\\n'\n",
    "        f'    Expected index            : {expected_index}.\\n'\n",
    "        f'    `last_window` index start : {lw_datetime.index[0]}.')\n",
    ")\n",
    "with pytest.raises(ValueError, match = err_msg):\n",
    "    forecaster.predict(steps=5, last_window=lw_datetime)"
   ]
  },
  {
   "cell_type": "code",
   "execution_count": 10,
   "metadata": {},
   "outputs": [],
   "source": [
    "import re\n",
    "import pytest\n",
    "from pytest import approx\n",
    "import numpy as np\n",
    "import pandas as pd\n",
    "from skforecast.ForecasterSarimax import ForecasterSarimax\n",
    "from sklearn.linear_model import LinearRegression\n",
    "\n",
    "regressor = LinearRegression()\n",
    "\n",
    "err_msg = re.escape(\n",
    "            (f\"regressor must be an instance of type pmdarima.arima.ARIMA. \"\n",
    "                f\"Got {type(regressor)}.\")\n",
    "        ) \n",
    "with pytest.raises(ValueError, match = err_msg):\n",
    "    ForecasterSarimax(regressor = regressor)"
   ]
  },
  {
   "cell_type": "code",
   "execution_count": 15,
   "metadata": {},
   "outputs": [
    {
     "data": {
      "text/plain": [
       "{'maxiter': 50,\n",
       " 'method': 'lbfgs',\n",
       " 'order': (1, 1, 1),\n",
       " 'out_of_sample_size': 0,\n",
       " 'scoring': 'mse',\n",
       " 'scoring_args': None,\n",
       " 'seasonal_order': (0, 0, 0, 0),\n",
       " 'start_params': None,\n",
       " 'suppress_warnings': False,\n",
       " 'trend': None,\n",
       " 'with_intercept': True}"
      ]
     },
     "execution_count": 15,
     "metadata": {},
     "output_type": "execute_result"
    }
   ],
   "source": [
    "ARIMA(order=(1,1,1)).get_params(deep=True)"
   ]
  },
  {
   "cell_type": "code",
   "execution_count": 16,
   "metadata": {},
   "outputs": [],
   "source": [
    "f = ForecasterSarimax(regressor = ARIMA(order=(1,1,1)))"
   ]
  },
  {
   "cell_type": "code",
   "execution_count": 18,
   "metadata": {},
   "outputs": [
    {
     "data": {
      "text/plain": [
       "True"
      ]
     },
     "execution_count": 18,
     "metadata": {},
     "output_type": "execute_result"
    }
   ],
   "source": [
    "f.params == ARIMA(order=(1,1,1)).get_params(deep=True)"
   ]
  },
  {
   "cell_type": "code",
   "execution_count": 7,
   "metadata": {},
   "outputs": [
    {
     "data": {
      "text/plain": [
       "================= \n",
       "ForecasterSarimax \n",
       "================= \n",
       "Regressor:  ARIMA(1,1,5)(0,0,0)[0]           \n",
       "Regressor parameters: {'maxiter': 1000, 'method': 'lbfgs', 'order': (1, 1, 5), 'out_of_sample_size': 0, 'scoring': 'mse', 'scoring_args': None, 'seasonal_order': (0, 0, 0, 0), 'start_params': None, 'suppress_warnings': False, 'trend': None, 'with_intercept': False} \n",
       "Window size: 5 \n",
       "Transformer for y: None \n",
       "Transformer for exog: None \n",
       "Exogenous included: False \n",
       "Type of exogenous variable: None \n",
       "Exogenous variables names: None \n",
       "Training range: None \n",
       "Training index type: None \n",
       "Training index frequency: None \n",
       "Creation date: 2022-12-27 17:13:35 \n",
       "Last fit date: None \n",
       "Skforecast version: 0.7.dev \n",
       "Python version: 3.9.13 "
      ]
     },
     "execution_count": 7,
     "metadata": {},
     "output_type": "execute_result"
    }
   ],
   "source": [
    "# pmdarima SARIMAX\n",
    "# =====================================================================================\n",
    "forecaster = ForecasterSarimax(\n",
    "                regressor = ARIMA(order=(5,2,4), seasonal_order=(0, 0, 0, 0), trend=None, with_intercept=False, maxiter=1000)\n",
    "            )\n",
    "forecaster\n"
   ]
  },
  {
   "cell_type": "code",
   "execution_count": 28,
   "metadata": {},
   "outputs": [
    {
     "data": {
      "text/plain": [
       "date\n",
       "2005-02-01    0.597639\n",
       "2005-03-01    0.652590\n",
       "2005-04-01    0.670505\n",
       "2005-05-01    0.695248\n",
       "2005-06-01    0.842263\n",
       "Freq: MS, Name: y, dtype: float64"
      ]
     },
     "execution_count": 28,
     "metadata": {},
     "output_type": "execute_result"
    }
   ],
   "source": [
    "data_train['y'].tail()"
   ]
  },
  {
   "cell_type": "code",
   "execution_count": 34,
   "metadata": {},
   "outputs": [],
   "source": [
    "import math\n",
    "\n",
    "def internally_studentized_residual(X,Y):\n",
    "    X = np.array(X, dtype=float)\n",
    "    Y = np.array(Y, dtype=float)\n",
    "    mean_X = np.mean(X)\n",
    "    mean_Y = np.mean(Y)\n",
    "    n = len(X)\n",
    "    diff_mean_sqr = np.dot((X - mean_X), (X - mean_X))\n",
    "    beta1 = np.dot((X - mean_X), (Y - mean_Y)) / diff_mean_sqr\n",
    "    beta0 = mean_Y - beta1 * mean_X\n",
    "    y_hat = beta0 + beta1 * X\n",
    "    residuals = Y - y_hat\n",
    "    h_ii = (X - mean_X) ** 2 / diff_mean_sqr + (1 / n)\n",
    "    Var_e = math.sqrt(sum((Y - y_hat) ** 2)/(n-2))\n",
    "    SE_regression = Var_e*((1-h_ii) ** 0.5)\n",
    "    studentized_residuals = residuals/SE_regression\n",
    "    \n",
    "    return studentized_residuals"
   ]
  },
  {
   "cell_type": "code",
   "execution_count": 13,
   "metadata": {},
   "outputs": [
    {
     "name": "stdout",
     "output_type": "stream",
     "text": [
      "2003    0.398534\n",
      "Freq: A-DEC, dtype: float64\n"
     ]
    },
    {
     "name": "stderr",
     "output_type": "stream",
     "text": [
      "c:\\Users\\jaesc2\\Miniconda3\\envs\\skforecast\\lib\\site-packages\\statsmodels\\tsa\\statespace\\sarimax.py:966: UserWarning: Non-stationary starting autoregressive parameters found. Using zeros as starting parameters.\n",
      "  warn('Non-stationary starting autoregressive parameters'\n"
     ]
    }
   ],
   "source": [
    "from statsmodels.tsa.statespace.sarimax import SARIMAX\n",
    "\n",
    "index = pd.period_range(start='2000', periods=3, freq='A')\n",
    "original_observations = pd.Series([1.2, 1.5, 1.8], index=index)\n",
    "original_exog = pd.Series([2, 2.7, 1.3], index=index)\n",
    "mod = SARIMAX(endog=original_observations, exog=original_exog)\n",
    "res = mod.fit()\n",
    "# print(res.params)\n",
    "# print(res.fittedvalues)\n",
    "# print(res.predict(1))\n",
    "print(res.forecast(1, exog=original_exog.iloc[-1,]))"
   ]
  },
  {
   "cell_type": "code",
   "execution_count": 73,
   "metadata": {},
   "outputs": [
    {
     "name": "stdout",
     "output_type": "stream",
     "text": [
      "2022-02-20    0.521401\n",
      "2022-02-21    0.506132\n",
      "2022-02-22    0.503583\n",
      "2022-02-23    0.503158\n",
      "2022-02-24    0.503087\n",
      "Freq: D, Name: predicted_mean, dtype: float64\n",
      "2022-04-11    0.475126\n",
      "2022-04-12    0.497101\n",
      "2022-04-13    0.500768\n",
      "2022-04-14    0.501380\n",
      "2022-04-15    0.501482\n",
      "Freq: D, Name: predicted_mean, dtype: float64\n"
     ]
    }
   ],
   "source": [
    "from statsmodels.tsa.statespace.sarimax import SARIMAX\n",
    "np.random.seed(123)\n",
    "y_datetime = pd.Series(data=y, name='y')\n",
    "y_datetime.index = pd.date_range(start='2022-01-01', periods=50, freq='D')\n",
    "lw_datetime = pd.Series(data=exog, name='y')\n",
    "lw_datetime.index = pd.date_range(start='2022-02-20', periods=50, freq='D')\n",
    "\n",
    "index = pd.date_range(start='2000', periods=50, freq='A')\n",
    "original_observations = pd.Series(np.random.random(50), index=index)\n",
    "mod = SARIMAX(endog=y_datetime, order=(1,1,1))\n",
    "res = mod.fit()\n",
    "print(res.forecast(5))\n",
    "# print(res.resid)\n",
    "\n",
    "new_index = pd.date_range(start='2050', periods=15, freq='A')\n",
    "new_observations = pd.Series(np.random.random(15), index=new_index)\n",
    "new_exog = pd.Series(np.random.random(15), index=new_index)\n",
    "new_res = res.append(lw_datetime, refit=False)\n",
    "print(new_res.forecast(5))\n",
    "# print(new_res.resid)"
   ]
  },
  {
   "cell_type": "code",
   "execution_count": 151,
   "metadata": {},
   "outputs": [
    {
     "name": "stdout",
     "output_type": "stream",
     "text": [
      "1983    1.405683\n",
      "Freq: A-DEC, dtype: float64\n",
      "1983   -0.379792\n",
      "Freq: A-DEC, dtype: float64\n"
     ]
    },
    {
     "name": "stderr",
     "output_type": "stream",
     "text": [
      "c:\\Users\\jaesc2\\Miniconda3\\envs\\skforecast\\lib\\site-packages\\statsmodels\\base\\model.py:604: ConvergenceWarning: Maximum Likelihood optimization failed to converge. Check mle_retvals\n",
      "  warnings.warn(\"Maximum Likelihood optimization failed to \"\n"
     ]
    }
   ],
   "source": [
    "new_index = pd.period_range(start='1980', periods=3, freq='A')\n",
    "new_observations = pd.Series([1.4, 0.3, 1.2], index=new_index)\n",
    "new_exog = pd.Series([6, 4.3, 3.1], index=new_index)\n",
    "new_res = res.apply(new_observations, exog=new_exog, refit=False)\n",
    "# print(new_res.params)\n",
    "# print(new_res.fittedvalues)\n",
    "# print(new_res.predict(1))\n",
    "print(new_res.forecast(1, exog=original_exog.iloc[-1,]))\n",
    "\n",
    "new_index = pd.period_range(start='1980', periods=3, freq='A')\n",
    "new_observations = pd.Series([1.4, 0.3, 1.2], index=new_index)\n",
    "new_exog = pd.Series([6, 4.3, 3.1], index=new_index)\n",
    "new_res = res.apply(new_observations, exog=new_exog, refit=True)\n",
    "# print(new_res.params)\n",
    "# print(new_res.fittedvalues)\n",
    "# print(new_res.predict(1))\n",
    "print(new_res.forecast(1, exog=original_exog.iloc[-1,]))"
   ]
  },
  {
   "cell_type": "code",
   "execution_count": 44,
   "metadata": {},
   "outputs": [
    {
     "name": "stdout",
     "output_type": "stream",
     "text": [
      "2003    0.398534\n",
      "Freq: A-DEC, dtype: float64\n",
      "2006    1.405683\n",
      "Freq: A-DEC, dtype: float64\n",
      "2006    1.008943\n",
      "Freq: A-DEC, dtype: float64\n"
     ]
    },
    {
     "name": "stderr",
     "output_type": "stream",
     "text": [
      "c:\\Users\\jaesc2\\Miniconda3\\envs\\skforecast\\lib\\site-packages\\statsmodels\\tsa\\statespace\\sarimax.py:966: UserWarning: Non-stationary starting autoregressive parameters found. Using zeros as starting parameters.\n",
      "  warn('Non-stationary starting autoregressive parameters'\n"
     ]
    }
   ],
   "source": [
    "# Try append\n",
    "index = pd.period_range(start='2000', periods=3, freq='A')\n",
    "original_observations = pd.Series([1.2, 1.5, 1.8], index=index)\n",
    "original_exog = pd.Series([2, 2.7, 1.3], index=index)\n",
    "mod = SARIMAX(endog=original_observations, exog=original_exog)\n",
    "res = mod.fit()\n",
    "print(res.forecast(1, exog=original_exog.iloc[-1,]))\n",
    "\n",
    "new_index = pd.period_range(start='2003', periods=3, freq='A')\n",
    "new_observations = pd.Series([1.4, 0.3, 1.2], index=new_index)\n",
    "new_exog = pd.Series([6, 4.3, 3.1], index=new_index)\n",
    "new_res = res.append(new_observations, exog=new_exog, refit=False)\n",
    "print(new_res.forecast(1, exog=original_exog.iloc[-1,]))\n",
    "\n",
    "new_index = pd.period_range(start='2003', periods=3, freq='A')\n",
    "new_observations = pd.Series([1.4, 0.3, 1.2], index=new_index)\n",
    "new_exog = pd.Series([6, 4.3, 3.1], index=new_index)\n",
    "new_res = res.append(new_observations, exog=new_exog, refit=True)\n",
    "print(new_res.forecast(1, exog=original_exog.iloc[-1,]))"
   ]
  },
  {
   "cell_type": "code",
   "execution_count": 119,
   "metadata": {},
   "outputs": [
    {
     "name": "stdout",
     "output_type": "stream",
     "text": [
      "ar.L1     0.975611\n",
      "sigma2    0.088896\n",
      "dtype: float64\n",
      "2000    0.000000\n",
      "2001    1.170734\n",
      "Freq: A-DEC, dtype: float64\n",
      "2001    1.170734\n",
      "Freq: A-DEC, dtype: float64\n",
      "2002    1.463417\n",
      "Freq: A-DEC, dtype: float64\n"
     ]
    }
   ],
   "source": [
    "new_index = pd.period_range(start='1980', periods=3, freq='A')\n",
    "new_observations = pd.Series([1.4, 0.3, 1.2], index=new_index)\n",
    "new_res = res.apply(new_observations, refit=True)\n",
    "print(res.params)\n",
    "print(res.fittedvalues)\n",
    "print(res.predict(1))\n",
    "print(res.forecast(1))"
   ]
  },
  {
   "cell_type": "code",
   "execution_count": 112,
   "metadata": {},
   "outputs": [
    {
     "name": "stdout",
     "output_type": "stream",
     "text": [
      "ar.L1     0.975611\n",
      "sigma2    0.088896\n",
      "dtype: float64\n",
      "2000    0.000000\n",
      "2001    1.170734\n",
      "Freq: A-DEC, dtype: float64\n",
      "2001    1.170734\n",
      "Freq: A-DEC, dtype: float64\n",
      "2002    1.463417\n",
      "Freq: A-DEC, dtype: float64\n"
     ]
    }
   ],
   "source": [
    "new_index = pd.period_range(start='2000', periods=2, freq='A')\n",
    "new_observations = pd.Series([1.2, 1.5], index=new_index)\n",
    "new_res = res.apply(original_observations, refit=False)\n",
    "print(new_res.params)\n",
    "print(new_res.fittedvalues)\n",
    "print(new_res.predict(1))\n",
    "print(new_res.forecast(1))"
   ]
  },
  {
   "cell_type": "code",
   "execution_count": 103,
   "metadata": {},
   "outputs": [
    {
     "data": {
      "text/plain": [
       "date\n",
       "2005-02-01    0.597639\n",
       "2005-03-01    0.652590\n",
       "2005-04-01    0.670505\n",
       "2005-05-01    0.695248\n",
       "2005-06-01    0.842263\n",
       "Freq: MS, Name: y, dtype: float64"
      ]
     },
     "execution_count": 103,
     "metadata": {},
     "output_type": "execute_result"
    }
   ],
   "source": [
    "data_train['y'].tail()"
   ]
  },
  {
   "cell_type": "code",
   "execution_count": 9,
   "metadata": {},
   "outputs": [
    {
     "data": {
      "text/plain": [
       "159"
      ]
     },
     "execution_count": 9,
     "metadata": {},
     "output_type": "execute_result"
    }
   ],
   "source": [
    "len(data_train['y'])"
   ]
  },
  {
   "cell_type": "code",
   "execution_count": 10,
   "metadata": {},
   "outputs": [
    {
     "data": {
      "text/html": [
       "<div>\n",
       "<style scoped>\n",
       "    .dataframe tbody tr th:only-of-type {\n",
       "        vertical-align: middle;\n",
       "    }\n",
       "\n",
       "    .dataframe tbody tr th {\n",
       "        vertical-align: top;\n",
       "    }\n",
       "\n",
       "    .dataframe thead th {\n",
       "        text-align: right;\n",
       "    }\n",
       "</style>\n",
       "<table border=\"1\" class=\"dataframe\">\n",
       "  <thead>\n",
       "    <tr style=\"text-align: right;\">\n",
       "      <th></th>\n",
       "      <th>pred</th>\n",
       "      <th>0</th>\n",
       "      <th>1</th>\n",
       "      <th>2</th>\n",
       "      <th>3</th>\n",
       "      <th>4</th>\n",
       "      <th>5</th>\n",
       "      <th>6</th>\n",
       "      <th>7</th>\n",
       "      <th>8</th>\n",
       "      <th>9</th>\n",
       "      <th>10</th>\n",
       "    </tr>\n",
       "  </thead>\n",
       "  <tbody>\n",
       "    <tr>\n",
       "      <th>2005-07-01</th>\n",
       "      <td>1.038069</td>\n",
       "      <td>1.038069</td>\n",
       "      <td>0.842263</td>\n",
       "      <td>0.833381</td>\n",
       "      <td>0.829829</td>\n",
       "      <td>0.829618</td>\n",
       "      <td>0.817113</td>\n",
       "      <td>1.005752</td>\n",
       "      <td>1.015432</td>\n",
       "      <td>1.023569</td>\n",
       "      <td>1.023187</td>\n",
       "      <td>1.036177</td>\n",
       "    </tr>\n",
       "    <tr>\n",
       "      <th>2005-08-01</th>\n",
       "      <td>1.020495</td>\n",
       "      <td>1.020495</td>\n",
       "      <td>0.842263</td>\n",
       "      <td>0.818446</td>\n",
       "      <td>0.814931</td>\n",
       "      <td>0.807379</td>\n",
       "      <td>0.775644</td>\n",
       "      <td>0.981915</td>\n",
       "      <td>1.014866</td>\n",
       "      <td>1.022976</td>\n",
       "      <td>1.021279</td>\n",
       "      <td>1.033344</td>\n",
       "    </tr>\n",
       "    <tr>\n",
       "      <th>2005-09-01</th>\n",
       "      <td>1.098529</td>\n",
       "      <td>1.098529</td>\n",
       "      <td>0.842263</td>\n",
       "      <td>0.819509</td>\n",
       "      <td>0.809401</td>\n",
       "      <td>0.790564</td>\n",
       "      <td>0.758521</td>\n",
       "      <td>1.046817</td>\n",
       "      <td>1.077625</td>\n",
       "      <td>1.089497</td>\n",
       "      <td>1.087997</td>\n",
       "      <td>1.106317</td>\n",
       "    </tr>\n",
       "    <tr>\n",
       "      <th>2005-10-01</th>\n",
       "      <td>1.025232</td>\n",
       "      <td>1.025232</td>\n",
       "      <td>0.842263</td>\n",
       "      <td>0.790720</td>\n",
       "      <td>0.769937</td>\n",
       "      <td>0.750927</td>\n",
       "      <td>0.710632</td>\n",
       "      <td>0.975736</td>\n",
       "      <td>1.017477</td>\n",
       "      <td>1.027921</td>\n",
       "      <td>1.025775</td>\n",
       "      <td>1.041339</td>\n",
       "    </tr>\n",
       "    <tr>\n",
       "      <th>2005-11-01</th>\n",
       "      <td>0.993463</td>\n",
       "      <td>0.993463</td>\n",
       "      <td>0.842263</td>\n",
       "      <td>0.745958</td>\n",
       "      <td>0.725775</td>\n",
       "      <td>0.701957</td>\n",
       "      <td>0.666837</td>\n",
       "      <td>0.943114</td>\n",
       "      <td>0.978103</td>\n",
       "      <td>0.989287</td>\n",
       "      <td>0.987537</td>\n",
       "      <td>1.004571</td>\n",
       "    </tr>\n",
       "  </tbody>\n",
       "</table>\n",
       "</div>"
      ],
      "text/plain": [
       "                pred         0         1         2         3         4  \\\n",
       "2005-07-01  1.038069  1.038069  0.842263  0.833381  0.829829  0.829618   \n",
       "2005-08-01  1.020495  1.020495  0.842263  0.818446  0.814931  0.807379   \n",
       "2005-09-01  1.098529  1.098529  0.842263  0.819509  0.809401  0.790564   \n",
       "2005-10-01  1.025232  1.025232  0.842263  0.790720  0.769937  0.750927   \n",
       "2005-11-01  0.993463  0.993463  0.842263  0.745958  0.725775  0.701957   \n",
       "\n",
       "                   5         6         7         8         9        10  \n",
       "2005-07-01  0.817113  1.005752  1.015432  1.023569  1.023187  1.036177  \n",
       "2005-08-01  0.775644  0.981915  1.014866  1.022976  1.021279  1.033344  \n",
       "2005-09-01  0.758521  1.046817  1.077625  1.089497  1.087997  1.106317  \n",
       "2005-10-01  0.710632  0.975736  1.017477  1.027921  1.025775  1.041339  \n",
       "2005-11-01  0.666837  0.943114  0.978103  0.989287  0.987537  1.004571  "
      ]
     },
     "execution_count": 10,
     "metadata": {},
     "output_type": "execute_result"
    }
   ],
   "source": [
    "forecaster_1 = ForecasterSarimax(\n",
    "                regressor = ARIMA(order=(5,1,2), seasonal_order=(0, 0, 0, 0), trend=None, with_intercept=False, maxiter=1000, suppress_warnings=True)\n",
    "            )\n",
    "forecaster_1.fit(y=data_train['y'])\n",
    "pred_1 = forecaster_1.predict(steps=5)\n",
    "\n",
    "lengths = list(range(11))\n",
    "preds_2 = [pred_1]\n",
    "\n",
    "for n in lengths:\n",
    "    forecaster_2 = ForecasterSarimax(\n",
    "                    regressor = ARIMA(order=(5,1,2), seasonal_order=(0, 0, 0, 0), trend=None, with_intercept=False, maxiter=1000, suppress_warnings=True)\n",
    "                )\n",
    "    forecaster_2.fit(y=data_train['y'])\n",
    "    pred_2 = forecaster_2.predict(steps=5, last_window=data_train['y'].iloc[-n:])\n",
    "    # pred_2 = forecaster_2.predict(steps=5)\n",
    "    pred_2.name = f'{n}'\n",
    "    preds_2.append(pred_2)\n",
    "\n",
    "pd.concat(preds_2, axis=1)"
   ]
  },
  {
   "cell_type": "code",
   "execution_count": 161,
   "metadata": {},
   "outputs": [
    {
     "data": {
      "text/html": [
       "<div>\n",
       "<style scoped>\n",
       "    .dataframe tbody tr th:only-of-type {\n",
       "        vertical-align: middle;\n",
       "    }\n",
       "\n",
       "    .dataframe tbody tr th {\n",
       "        vertical-align: top;\n",
       "    }\n",
       "\n",
       "    .dataframe thead th {\n",
       "        text-align: right;\n",
       "    }\n",
       "</style>\n",
       "<table border=\"1\" class=\"dataframe\">\n",
       "  <thead>\n",
       "    <tr style=\"text-align: right;\">\n",
       "      <th></th>\n",
       "      <th>pred</th>\n",
       "      <th>0</th>\n",
       "      <th>1</th>\n",
       "    </tr>\n",
       "  </thead>\n",
       "  <tbody>\n",
       "    <tr>\n",
       "      <th>2005-07-01</th>\n",
       "      <td>0.834083</td>\n",
       "      <td>1.583247</td>\n",
       "      <td>0.834083</td>\n",
       "    </tr>\n",
       "    <tr>\n",
       "      <th>2005-08-01</th>\n",
       "      <td>0.775471</td>\n",
       "      <td>1.570892</td>\n",
       "      <td>0.775471</td>\n",
       "    </tr>\n",
       "    <tr>\n",
       "      <th>2005-09-01</th>\n",
       "      <td>0.763014</td>\n",
       "      <td>1.549400</td>\n",
       "      <td>0.763014</td>\n",
       "    </tr>\n",
       "    <tr>\n",
       "      <th>2005-10-01</th>\n",
       "      <td>0.738576</td>\n",
       "      <td>1.517228</td>\n",
       "      <td>0.738576</td>\n",
       "    </tr>\n",
       "    <tr>\n",
       "      <th>2005-11-01</th>\n",
       "      <td>0.700156</td>\n",
       "      <td>1.524830</td>\n",
       "      <td>0.700156</td>\n",
       "    </tr>\n",
       "  </tbody>\n",
       "</table>\n",
       "</div>"
      ],
      "text/plain": [
       "                pred         0         1\n",
       "2005-07-01  0.834083  1.583247  0.834083\n",
       "2005-08-01  0.775471  1.570892  0.775471\n",
       "2005-09-01  0.763014  1.549400  0.763014\n",
       "2005-10-01  0.738576  1.517228  0.738576\n",
       "2005-11-01  0.700156  1.524830  0.700156"
      ]
     },
     "execution_count": 161,
     "metadata": {},
     "output_type": "execute_result"
    }
   ],
   "source": [
    "# Try changing exog and with all series as last window\n",
    "forecaster_1 = ForecasterSarimax(\n",
    "                regressor = ARIMA(order=(5,2,3), seasonal_order=(0, 0, 0, 0), trend=None, with_intercept=False, maxiter=1000, suppress_warnings=True)\n",
    "            )\n",
    "forecaster_1.fit(y=data_train['y'], exog=data_train['exog_1'])\n",
    "pred_1 = forecaster_1.predict(steps=5, exog=data_test['exog_1'])\n",
    "\n",
    "lengths = list(range(5))\n",
    "lengths = 0\n",
    "# lengths = list(range(25, 30))\n",
    "preds_2 = [pred_1]\n",
    "\n",
    "for i, lw_exog in enumerate([data_train['y'], data_train['exog_1']]):\n",
    "    forecaster_2 = ForecasterSarimax(\n",
    "                    regressor = ARIMA(order=(5,2,3), seasonal_order=(0, 0, 0, 0), trend=None, with_intercept=False, maxiter=1000, suppress_warnings=True)\n",
    "                )\n",
    "    forecaster_2.fit(y=data_train['y'], exog=data_train['exog_1'])\n",
    "    pred_2 = forecaster_2.predict(steps=5, exog=data_test['exog_1'], last_window=data_train['y'], last_window_exog=lw_exog)\n",
    "    # pred_2 = forecaster_2.predict(steps=5)\n",
    "    pred_2.name = f'{i}'\n",
    "    preds_2.append(pred_2)\n",
    "\n",
    "pd.concat(preds_2, axis=1)"
   ]
  },
  {
   "cell_type": "code",
   "execution_count": 49,
   "metadata": {},
   "outputs": [],
   "source": [
    "forecaster_1 = ForecasterSarimax(\n",
    "                regressor = ARIMA(order=(5,2,3), seasonal_order=(0, 0, 0, 0), trend=None, with_intercept=False, maxiter=1000, suppress_warnings=True)\n",
    "            )\n",
    "forecaster_1.fit(y=data_train['y'], exog=data_train['exog_1'])"
   ]
  },
  {
   "cell_type": "code",
   "execution_count": 76,
   "metadata": {},
   "outputs": [
    {
     "name": "stdout",
     "output_type": "stream",
     "text": [
      "1.4\n"
     ]
    },
    {
     "data": {
      "text/plain": [
       "True"
      ]
     },
     "execution_count": 76,
     "metadata": {},
     "output_type": "execute_result"
    }
   ],
   "source": [
    "from skforecast.utils import expand_index\n",
    "\n",
    "new_index = pd.date_range(start='2005-07-01', periods=3, freq=forecaster.index_freq)\n",
    "lw_2 = pd.Series([1.4, 0.3, 1.2], index=new_index)\n",
    "\n",
    "print(lw_2[0])\n",
    "expand_index(forecaster_1.last_window.index, 1)[0] == lw_2.index[0]\n"
   ]
  },
  {
   "cell_type": "code",
   "execution_count": 86,
   "metadata": {},
   "outputs": [
    {
     "name": "stdout",
     "output_type": "stream",
     "text": [
      "To make predictions unrelated to the original data, `last_window` has to start at the end of the training set.\n",
      "    Series last index         : 2005-06-01 00:00:00.\n",
      "    Expected index            : 2005-07-01 00:00:00.\n",
      "    `last_window` index start : 2005-07-01 00:00:00.\n"
     ]
    }
   ],
   "source": [
    "expected_index = expand_index(forecaster_1.last_window.index, 1)[0]\n",
    "\n",
    "print(\n",
    "    (f'To make predictions unrelated to the original data, `last_window` '\n",
    "        f'has to start at the end of the training set.\\n'\n",
    "        f'    Series last index         : {forecaster_1.last_window.index[-1]}.\\n'\n",
    "        f'    Expected index            : {expected_index}.\\n'\n",
    "        f'    `last_window` index start : {lw_2.index[0]}.')\n",
    ")"
   ]
  },
  {
   "cell_type": "code",
   "execution_count": 169,
   "metadata": {},
   "outputs": [
    {
     "data": {
      "text/plain": [
       "2005-07-01    0.834083\n",
       "2005-08-01    0.775471\n",
       "2005-09-01    0.763014\n",
       "2005-10-01    0.738576\n",
       "2005-11-01    0.700156\n",
       "2005-12-01    0.803202\n",
       "2006-01-01    0.877273\n",
       "2006-02-01    0.840496\n",
       "2006-03-01    0.868976\n",
       "2006-04-01    0.834666\n",
       "2006-05-01    0.805690\n",
       "2006-06-01    0.804989\n",
       "2006-07-01    0.764330\n",
       "2006-08-01    0.753788\n",
       "2006-09-01    0.757883\n",
       "2006-10-01    0.742118\n",
       "2006-11-01    0.718698\n",
       "2006-12-01    0.809200\n",
       "2007-01-01    0.857758\n",
       "2007-02-01    0.850377\n",
       "2007-03-01    0.853802\n",
       "2007-04-01    0.803226\n",
       "2007-05-01    0.787759\n",
       "2007-06-01    0.772675\n",
       "2007-07-01    0.747909\n",
       "2007-08-01    0.742488\n",
       "2007-09-01    0.751111\n",
       "2007-10-01    0.731793\n",
       "2007-11-01    0.732950\n",
       "2007-12-01    0.812696\n",
       "2008-01-01    0.864117\n",
       "2008-02-01    0.900863\n",
       "2008-03-01    0.888723\n",
       "2008-04-01    0.874010\n",
       "2008-05-01    0.867312\n",
       "2008-06-01    0.823210\n",
       "Freq: MS, dtype: float64"
      ]
     },
     "execution_count": 169,
     "metadata": {},
     "output_type": "execute_result"
    }
   ],
   "source": [
    "forecaster_1.regressor.predict(n_periods=36, X=data_test['exog_1'].to_frame())"
   ]
  },
  {
   "cell_type": "code",
   "execution_count": 11,
   "metadata": {},
   "outputs": [
    {
     "data": {
      "text/plain": [
       "8"
      ]
     },
     "execution_count": 11,
     "metadata": {},
     "output_type": "execute_result"
    }
   ],
   "source": [
    "forecaster_1.regressor.df_model()"
   ]
  },
  {
   "cell_type": "code",
   "execution_count": 12,
   "metadata": {},
   "outputs": [
    {
     "data": {
      "text/plain": [
       "inf"
      ]
     },
     "execution_count": 12,
     "metadata": {},
     "output_type": "execute_result"
    }
   ],
   "source": [
    "forecaster_1.regressor.df_resid()"
   ]
  },
  {
   "cell_type": "code",
   "execution_count": 172,
   "metadata": {},
   "outputs": [
    {
     "data": {
      "image/png": "[encoded data removed]",
      "text/plain": [
       "<Figure size 640x480 with 4 Axes>"
      ]
     },
     "execution_count": 172,
     "metadata": {},
     "output_type": "execute_result"
    },
    {
     "data": {
      "image/png": "[encoded data removed]",
      "text/plain": [
       "<Figure size 640x480 with 4 Axes>"
      ]
     },
     "metadata": {},
     "output_type": "display_data"
    }
   ],
   "source": [
    "forecaster_1.regressor.plot_diagnostics()"
   ]
  },
  {
   "cell_type": "code",
   "execution_count": 127,
   "metadata": {},
   "outputs": [
    {
     "data": {
      "text/plain": [
       "date\n",
       "1992-04-01    0.000000\n",
       "1992-05-01    0.371971\n",
       "1992-06-01    0.355788\n",
       "1992-07-01    0.402180\n",
       "1992-08-01    0.464897\n",
       "                ...   \n",
       "2005-02-01    1.146735\n",
       "2005-03-01    0.632435\n",
       "2005-04-01    0.706293\n",
       "2005-05-01    0.669381\n",
       "2005-06-01    0.764826\n",
       "Freq: MS, Length: 159, dtype: float64"
      ]
     },
     "execution_count": 127,
     "metadata": {},
     "output_type": "execute_result"
    }
   ],
   "source": [
    "forecaster_1.regressor.arima_res_.fittedvalues"
   ]
  },
  {
   "cell_type": "code",
   "execution_count": 128,
   "metadata": {},
   "outputs": [
    {
     "data": {
      "text/plain": [
       "date\n",
       "2004-10-01    0.000000\n",
       "2004-11-01    1.156641\n",
       "2004-12-01    1.190377\n",
       "2005-01-01    1.228937\n",
       "2005-02-01    1.151603\n",
       "2005-03-01    0.632435\n",
       "2005-04-01    0.706293\n",
       "2005-05-01    0.669381\n",
       "2005-06-01    0.764826\n",
       "Freq: MS, dtype: float64"
      ]
     },
     "execution_count": 128,
     "metadata": {},
     "output_type": "execute_result"
    }
   ],
   "source": [
    "forecaster_2.regressor.arima_res_.fittedvalues"
   ]
  },
  {
   "cell_type": "code",
   "execution_count": 94,
   "metadata": {},
   "outputs": [
    {
     "name": "stdout",
     "output_type": "stream",
     "text": [
      "ar.L1    -0.278167\n",
      "ar.L2     0.208110\n",
      "ar.L3     0.905169\n",
      "ar.L4     0.149358\n",
      "ar.L5    -0.038833\n",
      "ma.L1     1.292218\n",
      "ma.L2     0.998973\n",
      "sigma2    0.018479\n",
      "dtype: float64\n",
      "ar.L1    -0.278167\n",
      "ar.L2     0.208110\n",
      "ar.L3     0.905169\n",
      "ar.L4     0.149358\n",
      "ar.L5    -0.038833\n",
      "ma.L1     1.292218\n",
      "ma.L2     0.998973\n",
      "sigma2    0.018479\n",
      "dtype: float64\n",
      "\n",
      "[ 1.          0.2781674  -0.2081097  -0.9051687  -0.14935803  0.03883274]\n",
      "[ 1.          0.2781674  -0.2081097  -0.9051687  -0.14935803  0.03883274]\n",
      "\n",
      "[1.         1.29221759 0.99897309]\n",
      "[1.         1.29221759 0.99897309]\n"
     ]
    }
   ],
   "source": [
    "# Params\n",
    "print(forecaster_1.regressor.arima_res_.params)\n",
    "print(forecaster_2.regressor.arima_res_.params)\n",
    "print('')\n",
    "\n",
    "# Array containing autoregressive lag polynomial coefficients, ordered from lowest degree to highest. \n",
    "# Initialized with ones, unless a coefficient is constrained to be zero (in which case it is zero).\n",
    "print(forecaster_1.regressor.arima_res_.polynomial_ar)\n",
    "print(forecaster_2.regressor.arima_res_.polynomial_ar)\n",
    "print('')\n",
    "\n",
    "# Array containing moving average lag polynomial coefficients, ordered from lowest degree to highest. \n",
    "# Initialized with ones, unless a coefficient is constrained to be zero (in which case it is zero).print(forecaster_1.regressor.arima_res_.polynomial_ar)\n",
    "print(forecaster_1.regressor.arima_res_.polynomial_ma)\n",
    "print(forecaster_2.regressor.arima_res_.polynomial_ma)"
   ]
  },
  {
   "cell_type": "code",
   "execution_count": 44,
   "metadata": {},
   "outputs": [
    {
     "data": {
      "text/plain": [
       "date\n",
       "2005-06-01    0.842263\n",
       "Freq: MS, Name: y, dtype: float64"
      ]
     },
     "execution_count": 44,
     "metadata": {},
     "output_type": "execute_result"
    }
   ],
   "source": [
    "data_train['y'].iloc[-1:]"
   ]
  },
  {
   "cell_type": "code",
   "execution_count": 47,
   "metadata": {},
   "outputs": [
    {
     "data": {
      "text/plain": [
       "array([ 1.        , -1.29225707,  0.48184762,  0.48315573, -1.29717801,\n",
       "        0.98581836])"
      ]
     },
     "execution_count": 47,
     "metadata": {},
     "output_type": "execute_result"
    }
   ],
   "source": [
    "forecaster_2.regressor.arima_res_.polynomial_ma"
   ]
  },
  {
   "cell_type": "code",
   "execution_count": 42,
   "metadata": {},
   "outputs": [
    {
     "name": "stdout",
     "output_type": "stream",
     "text": [
      "[1.]\n",
      "[1.]\n",
      "\n",
      "[1.]\n",
      "[1.]\n"
     ]
    }
   ],
   "source": [
    "# Array containing seasonal autoregressive lag polynomial coefficients, ordered from lowest degree to highest. \n",
    "# Initialized with ones, unless a coefficient is constrained to be zero (in which case it is zero).\n",
    "print(forecaster_1.regressor.arima_res_.polynomial_seasonal_ar)\n",
    "print(forecaster_2.regressor.arima_res_.polynomial_seasonal_ar)\n",
    "print('')\n",
    "\n",
    "# Array containing seasonal moving average lag polynomial coefficients, ordered from lowest degree to highest.\n",
    "# Initialized with ones, unless a coefficient is constrained to be zero (in which case it is zero).\n",
    "print(forecaster_1.regressor.arima_res_.polynomial_seasonal_ma)\n",
    "print(forecaster_2.regressor.arima_res_.polynomial_seasonal_ma)"
   ]
  },
  {
   "cell_type": "code",
   "execution_count": 43,
   "metadata": {},
   "outputs": [
    {
     "name": "stdout",
     "output_type": "stream",
     "text": [
      "[]\n",
      "[]\n",
      "\n",
      "{'trend': 0, 'exog': 0, 'ar': 5, 'ma': 5, 'seasonal_ar': 0, 'seasonal_ma': 0, 'reduced_ar': 5, 'reduced_ma': 5, 'exog_variance': 0, 'measurement_variance': 0, 'variance': 1}\n",
      "{'trend': 0, 'exog': 0, 'ar': 5, 'ma': 5, 'seasonal_ar': 0, 'seasonal_ma': 0, 'reduced_ar': 5, 'reduced_ma': 5, 'exog_variance': 0, 'measurement_variance': 0, 'variance': 1}\n",
      "\n",
      "['ar', 'ma', 'variance']\n",
      "['ar', 'ma', 'variance']\n"
     ]
    }
   ],
   "source": [
    "# Array containing trend polynomial coefficients, ordered from lowest degree to highest. \n",
    "# Initialized with ones, unless a coefficient is constrained to be zero (in which case it is zero).\n",
    "print(forecaster_1.regressor.arima_res_.polynomial_trend)\n",
    "print(forecaster_2.regressor.arima_res_.polynomial_trend)\n",
    "print('')\n",
    "\n",
    "# The orders of each of the polynomials in the model.\n",
    "print(forecaster_1.regressor.arima_res_.model_orders)\n",
    "print(forecaster_2.regressor.arima_res_.model_orders)\n",
    "print('')\n",
    "\n",
    "# List of parameters actually included in the model, in sorted order.\n",
    "print(forecaster_1.regressor.arima_res_.param_terms)\n",
    "print(forecaster_2.regressor.arima_res_.param_terms)"
   ]
  },
  {
   "cell_type": "code",
   "execution_count": 26,
   "metadata": {},
   "outputs": [
    {
     "data": {
      "text/plain": [
       "date\n",
       "2005-01-01    1.170690\n",
       "2005-02-01    0.597639\n",
       "2005-03-01    0.652590\n",
       "2005-04-01    0.670505\n",
       "2005-05-01    0.695248\n",
       "2005-06-01    0.842263\n",
       "Freq: MS, Name: y, dtype: float64"
      ]
     },
     "execution_count": 26,
     "metadata": {},
     "output_type": "execute_result"
    }
   ],
   "source": [
    "data_train['y'].iloc[-6:]"
   ]
  },
  {
   "cell_type": "code",
   "execution_count": 30,
   "metadata": {},
   "outputs": [
    {
     "data": {
      "text/plain": [
       "date\n",
       "2005-02-01    1.520544\n",
       "2005-03-01    1.506290\n",
       "2005-04-01    1.487660\n",
       "2005-05-01    1.457025\n",
       "2005-06-01    1.441765\n",
       "Freq: MS, Name: exog_1, dtype: float64"
      ]
     },
     "execution_count": 30,
     "metadata": {},
     "output_type": "execute_result"
    }
   ],
   "source": [
    "data_train['exog_1'].iloc[-5:]"
   ]
  },
  {
   "cell_type": "code",
   "execution_count": 124,
   "metadata": {},
   "outputs": [
    {
     "data": {
      "text/plain": [
       "2005-07-01    0.955160\n",
       "2005-08-01    0.999309\n",
       "2005-09-01    1.006797\n",
       "2005-10-01    0.966844\n",
       "2005-11-01    0.899705\n",
       "Freq: MS, Name: pred, dtype: float64"
      ]
     },
     "execution_count": 124,
     "metadata": {},
     "output_type": "execute_result"
    }
   ],
   "source": [
    "forecaster = ForecasterSarimax(\n",
    "                regressor = ARIMA(order=(5,0,0), seasonal_order=(0, 0, 0, 0), trend=None, with_intercept=False, maxiter=1000, suppress_warnings=True)\n",
    "            )\n",
    "forecaster.fit(y=data_train['y'], exog=data_train['exog_1'])\n",
    "forecaster.predict(steps=5, exog=data_test['exog_1'])"
   ]
  },
  {
   "cell_type": "code",
   "execution_count": null,
   "metadata": {},
   "outputs": [],
   "source": [
    "forecaster.regressor.arima_res_.apply(\n",
    "    endog = last_window,\n",
    "    exog  = last_window_exog,\n",
    "    refit = False\n",
    ")"
   ]
  },
  {
   "cell_type": "code",
   "execution_count": 125,
   "metadata": {},
   "outputs": [
    {
     "data": {
      "text/plain": [
       "date\n",
       "1992-04-01    0.586089\n",
       "1992-05-01    0.448589\n",
       "1992-06-01    0.453344\n",
       "1992-07-01    0.509825\n",
       "1992-08-01    0.580687\n",
       "                ...   \n",
       "2005-02-01    0.959333\n",
       "2005-03-01    0.585896\n",
       "2005-04-01    0.648927\n",
       "2005-05-01    0.655163\n",
       "2005-06-01    0.782031\n",
       "Freq: MS, Length: 159, dtype: float64"
      ]
     },
     "execution_count": 125,
     "metadata": {},
     "output_type": "execute_result"
    }
   ],
   "source": [
    "forecaster.regressor.arima_res_.fittedvalues"
   ]
  },
  {
   "cell_type": "code",
   "execution_count": 29,
   "metadata": {},
   "outputs": [
    {
     "data": {
      "text/plain": [
       "2005-07-01    0.757604\n",
       "2005-08-01    0.684084\n",
       "2005-09-01    0.618403\n",
       "2005-10-01    0.560564\n",
       "2005-11-01    0.571627\n",
       "Freq: MS, Name: pred, dtype: float64"
      ]
     },
     "execution_count": 29,
     "metadata": {},
     "output_type": "execute_result"
    }
   ],
   "source": [
    "forecaster.predict(\n",
    "    steps=5,\n",
    "    exog=data_test['exog_1'],\n",
    "    last_window=data_train['y'].iloc[-5:],\n",
    "    last_window_exog=data_train['exog_1'].iloc[-5:]\n",
    ")"
   ]
  },
  {
   "cell_type": "code",
   "execution_count": 32,
   "metadata": {},
   "outputs": [
    {
     "data": {
      "text/plain": [
       "2005-07-01    1.348155\n",
       "2005-08-01    1.327842\n",
       "2005-09-01    1.312205\n",
       "2005-10-01    1.287929\n",
       "2005-11-01    1.287166\n",
       "Freq: MS, Name: pred, dtype: float64"
      ]
     },
     "execution_count": 32,
     "metadata": {},
     "output_type": "execute_result"
    }
   ],
   "source": [
    "forecaster.predict(\n",
    "    steps=5,\n",
    "    exog=data_test['exog_1'],\n",
    "    last_window=data_train['y'].iloc[-5:],\n",
    "    last_window_exog=data_train['y'].iloc[-5:]\n",
    ")"
   ]
  },
  {
   "cell_type": "code",
   "execution_count": 11,
   "metadata": {},
   "outputs": [
    {
     "data": {
      "text/html": [
       "<div>\n",
       "<style scoped>\n",
       "    .dataframe tbody tr th:only-of-type {\n",
       "        vertical-align: middle;\n",
       "    }\n",
       "\n",
       "    .dataframe tbody tr th {\n",
       "        vertical-align: top;\n",
       "    }\n",
       "\n",
       "    .dataframe thead th {\n",
       "        text-align: right;\n",
       "    }\n",
       "</style>\n",
       "<table border=\"1\" class=\"dataframe\">\n",
       "  <thead>\n",
       "    <tr style=\"text-align: right;\">\n",
       "      <th></th>\n",
       "      <th>pred</th>\n",
       "      <th>lower_bound</th>\n",
       "      <th>upper_bound</th>\n",
       "    </tr>\n",
       "  </thead>\n",
       "  <tbody>\n",
       "    <tr>\n",
       "      <th>2005-07-01</th>\n",
       "      <td>0.932642</td>\n",
       "      <td>0.696401</td>\n",
       "      <td>1.168883</td>\n",
       "    </tr>\n",
       "    <tr>\n",
       "      <th>2005-08-01</th>\n",
       "      <td>1.010520</td>\n",
       "      <td>0.740315</td>\n",
       "      <td>1.280726</td>\n",
       "    </tr>\n",
       "    <tr>\n",
       "      <th>2005-09-01</th>\n",
       "      <td>1.033868</td>\n",
       "      <td>0.761807</td>\n",
       "      <td>1.305928</td>\n",
       "    </tr>\n",
       "    <tr>\n",
       "      <th>2005-10-01</th>\n",
       "      <td>0.988795</td>\n",
       "      <td>0.712712</td>\n",
       "      <td>1.264877</td>\n",
       "    </tr>\n",
       "    <tr>\n",
       "      <th>2005-11-01</th>\n",
       "      <td>0.945110</td>\n",
       "      <td>0.652227</td>\n",
       "      <td>1.237994</td>\n",
       "    </tr>\n",
       "  </tbody>\n",
       "</table>\n",
       "</div>"
      ],
      "text/plain": [
       "                pred  lower_bound  upper_bound\n",
       "2005-07-01  0.932642     0.696401     1.168883\n",
       "2005-08-01  1.010520     0.740315     1.280726\n",
       "2005-09-01  1.033868     0.761807     1.305928\n",
       "2005-10-01  0.988795     0.712712     1.264877\n",
       "2005-11-01  0.945110     0.652227     1.237994"
      ]
     },
     "execution_count": 11,
     "metadata": {},
     "output_type": "execute_result"
    }
   ],
   "source": [
    "forecaster.predict_interval(steps=5, exog=data_test['exog_1'])"
   ]
  },
  {
   "cell_type": "code",
   "execution_count": 12,
   "metadata": {},
   "outputs": [
    {
     "data": {
      "text/html": [
       "<div>\n",
       "<style scoped>\n",
       "    .dataframe tbody tr th:only-of-type {\n",
       "        vertical-align: middle;\n",
       "    }\n",
       "\n",
       "    .dataframe tbody tr th {\n",
       "        vertical-align: top;\n",
       "    }\n",
       "\n",
       "    .dataframe thead th {\n",
       "        text-align: right;\n",
       "    }\n",
       "</style>\n",
       "<table border=\"1\" class=\"dataframe\">\n",
       "  <thead>\n",
       "    <tr style=\"text-align: right;\">\n",
       "      <th></th>\n",
       "      <th>pred</th>\n",
       "      <th>lower_bound</th>\n",
       "      <th>upper_bound</th>\n",
       "    </tr>\n",
       "  </thead>\n",
       "  <tbody>\n",
       "    <tr>\n",
       "      <th>2005-07-01</th>\n",
       "      <td>0.804699</td>\n",
       "      <td>0.533423</td>\n",
       "      <td>1.075975</td>\n",
       "    </tr>\n",
       "    <tr>\n",
       "      <th>2005-08-01</th>\n",
       "      <td>0.795028</td>\n",
       "      <td>0.446933</td>\n",
       "      <td>1.143122</td>\n",
       "    </tr>\n",
       "    <tr>\n",
       "      <th>2005-09-01</th>\n",
       "      <td>0.780490</td>\n",
       "      <td>0.408405</td>\n",
       "      <td>1.152576</td>\n",
       "    </tr>\n",
       "    <tr>\n",
       "      <th>2005-10-01</th>\n",
       "      <td>0.742509</td>\n",
       "      <td>0.374417</td>\n",
       "      <td>1.110601</td>\n",
       "    </tr>\n",
       "    <tr>\n",
       "      <th>2005-11-01</th>\n",
       "      <td>0.735371</td>\n",
       "      <td>0.378384</td>\n",
       "      <td>1.092358</td>\n",
       "    </tr>\n",
       "  </tbody>\n",
       "</table>\n",
       "</div>"
      ],
      "text/plain": [
       "                pred  lower_bound  upper_bound\n",
       "2005-07-01  0.804699     0.533423     1.075975\n",
       "2005-08-01  0.795028     0.446933     1.143122\n",
       "2005-09-01  0.780490     0.408405     1.152576\n",
       "2005-10-01  0.742509     0.374417     1.110601\n",
       "2005-11-01  0.735371     0.378384     1.092358"
      ]
     },
     "execution_count": 12,
     "metadata": {},
     "output_type": "execute_result"
    }
   ],
   "source": [
    "forecaster.predict_interval(\n",
    "    steps=5,\n",
    "    exog=data_test['exog_1'],\n",
    "    last_window=data_train['y'].iloc[-6:],\n",
    "    last_window_exog=data_train['exog_1'].iloc[-6:]\n",
    ")"
   ]
  },
  {
   "cell_type": "markdown",
   "metadata": {},
   "source": [
    "## Test predict interval"
   ]
  },
  {
   "cell_type": "code",
   "execution_count": 94,
   "metadata": {},
   "outputs": [],
   "source": [
    "y = pd.Series(\n",
    "        data = np.array([0.69646919, 0.28613933, 0.22685145, 0.55131477, 0.71946897,\n",
    "                         0.42310646, 0.9807642 , 0.68482974, 0.4809319 , 0.39211752,\n",
    "                         0.34317802, 0.72904971, 0.43857224, 0.0596779 , 0.39804426,\n",
    "                         0.73799541, 0.18249173, 0.17545176, 0.53155137, 0.53182759,\n",
    "                         0.63440096, 0.84943179, 0.72445532, 0.61102351, 0.72244338,\n",
    "                         0.32295891, 0.36178866, 0.22826323, 0.29371405, 0.63097612,\n",
    "                         0.09210494, 0.43370117, 0.43086276, 0.4936851 , 0.42583029,\n",
    "                         0.31226122, 0.42635131, 0.89338916, 0.94416002, 0.50183668,\n",
    "                         0.62395295, 0.1156184 , 0.31728548, 0.41482621, 0.86630916,\n",
    "                         0.25045537, 0.48303426, 0.98555979, 0.51948512, 0.61289453]\n",
    "            ),\n",
    "        name = 'y'\n",
    "    )\n",
    "\n",
    "exog = pd.Series(\n",
    "           data = np.array([0.12062867, 0.8263408 , 0.60306013, 0.54506801, 0.34276383,\n",
    "                            0.30412079, 0.41702221, 0.68130077, 0.87545684, 0.51042234,\n",
    "                            0.66931378, 0.58593655, 0.6249035 , 0.67468905, 0.84234244,\n",
    "                            0.08319499, 0.76368284, 0.24366637, 0.19422296, 0.57245696,\n",
    "                            0.09571252, 0.88532683, 0.62724897, 0.72341636, 0.01612921,\n",
    "                            0.59443188, 0.55678519, 0.15895964, 0.15307052, 0.69552953,\n",
    "                            0.31876643, 0.6919703 , 0.55438325, 0.38895057, 0.92513249,\n",
    "                            0.84167   , 0.35739757, 0.04359146, 0.30476807, 0.39818568,\n",
    "                            0.70495883, 0.99535848, 0.35591487, 0.76254781, 0.59317692,\n",
    "                            0.6917018 , 0.15112745, 0.39887629, 0.2408559 , 0.34345601]\n",
    "               ),\n",
    "           name = 'exog'\n",
    "       )\n",
    "\n",
    "transformer_exog = ColumnTransformer(\n",
    "                        [('scale', StandardScaler(), ['exog_1']),\n",
    "                        ('onehot', OneHotEncoder(), ['exog_2'])],\n",
    "                        remainder = 'passthrough',\n",
    "                        verbose_feature_names_out = False\n",
    "                    )\n",
    "\n",
    "df_exog = pd.DataFrame({\n",
    "                  'exog_1': exog,\n",
    "                  'exog_2': ['a']*25+['b']*25}\n",
    "              )"
   ]
  },
  {
   "cell_type": "code",
   "execution_count": 96,
   "metadata": {},
   "outputs": [
    {
     "data": {
      "text/plain": [
       "array([[0.90846704, 0.47796249, 1.33897159],\n",
       "       [0.7647883 , 0.33209942, 1.19747719],\n",
       "       [0.82033368, 0.38757178, 1.25309559],\n",
       "       [0.84058598, 0.40781874, 1.27335322],\n",
       "       [0.89169909, 0.4589314 , 1.32446679]])"
      ]
     },
     "execution_count": 96,
     "metadata": {},
     "output_type": "execute_result"
    }
   ],
   "source": [
    "kwargs = {'order': (1,1,1), 'seasonal_order': (0,0,0,0)}\n",
    "forecaster = ForecasterSarimax(\n",
    "                regressor = ARIMA(**kwargs),\n",
    "                transformer_y    = StandardScaler(),\n",
    "                transformer_exog = transformer_exog\n",
    "            )\n",
    "forecaster.fit(y=y, exog=df_exog)\n",
    "predictions = forecaster.predict_interval(steps=5, exog=df_exog, alpha=0.05)\n",
    "predictions.values"
   ]
  },
  {
   "cell_type": "code",
   "execution_count": 92,
   "metadata": {},
   "outputs": [],
   "source": [
    "alpha=0.05\n",
    "interval=[1,99]\n",
    "alpha=None\n",
    "interval=[2.5,97.5]\n",
    "\n",
    "forecaster = ForecasterSarimax(regressor=ARIMA(order=(1,1,1)), transformer_y = StandardScaler())\n",
    "forecaster.fit(y=y)\n",
    "predictions = forecaster.predict_interval(steps=5, alpha=alpha, interval=interval)\n",
    "expected = pd.DataFrame(\n",
    "                data    = np.array([[0.53572671, 0.07602913, 0.99542429],\n",
    "                                    [0.52359439, 0.05626217, 0.99092661],\n",
    "                                    [0.52216565, 0.05439018, 0.98994111],\n",
    "                                    [0.52249851, 0.05467184, 0.99032517],\n",
    "                                    [0.52312129, 0.05528678, 0.99095581]]),\n",
    "                columns = ['pred', 'lower_bound', 'upper_bound'],\n",
    "                index   = pd.RangeIndex(start=50, stop=55, step=1)\n",
    "            )\n",
    "\n",
    "pd.testing.assert_frame_equal(predictions, expected)"
   ]
  },
  {
   "cell_type": "code",
   "execution_count": 88,
   "metadata": {},
   "outputs": [],
   "source": [
    "alpha=0.05\n",
    "interval=[1,99]\n",
    "# alpha=None\n",
    "# interval=[2.5,97.5]\n",
    "\n",
    "forecaster = ForecasterSarimax(regressor=ARIMA(order=(1,1,1)))\n",
    "forecaster.fit(y=y, exog=exog)\n",
    "predictions = forecaster.predict_interval(steps=5, exog=exog, alpha=alpha, interval=interval)\n",
    "expected = pd.DataFrame(\n",
    "                data    = np.array([[0.60497852,  0.15960892, 1.05034811],\n",
    "                                    [0.44483443, -0.00619962, 0.89586848],\n",
    "                                    [0.49239874,  0.04107972, 0.94371776],\n",
    "                                    [0.50520397,  0.05385485, 0.95655309],\n",
    "                                    [0.54934541,  0.09799221, 1.00069861]]),\n",
    "                columns = ['pred', 'lower_bound', 'upper_bound'],\n",
    "                index   = pd.RangeIndex(start=50, stop=55, step=1)\n",
    "            )\n",
    "\n",
    "pd.testing.assert_frame_equal(predictions, expected)"
   ]
  },
  {
   "cell_type": "code",
   "execution_count": 107,
   "metadata": {},
   "outputs": [
    {
     "name": "stderr",
     "output_type": "stream",
     "text": [
      "c:\\Users\\jaesc2\\GitHub\\skforecast\\skforecast\\ForecasterSarimax\\ForecasterSarimax.py:250: FutureWarning: Explicitly passing `name=None` currently preserves the Series' name or uses a default name of 0. This behaviour is deprecated, and in the future `None` will be used as the name of the resulting DataFrame column.\n",
      "  exog = exog.to_frame(name=exog.name)\n",
      "c:\\Users\\jaesc2\\GitHub\\skforecast\\skforecast\\ForecasterSarimax\\ForecasterSarimax.py:544: FutureWarning: Explicitly passing `name=None` currently preserves the Series' name or uses a default name of 0. This behaviour is deprecated, and in the future `None` will be used as the name of the resulting DataFrame column.\n",
      "  last_window_exog = last_window_exog.to_frame(name=exog.name)\n",
      "c:\\Users\\jaesc2\\GitHub\\skforecast\\skforecast\\ForecasterSarimax\\ForecasterSarimax.py:563: FutureWarning: Explicitly passing `name=None` currently preserves the Series' name or uses a default name of 0. This behaviour is deprecated, and in the future `None` will be used as the name of the resulting DataFrame column.\n",
      "  exog = exog.to_frame(name=exog.name)\n"
     ]
    }
   ],
   "source": [
    "alpha=0.05\n",
    "\n",
    "y_datetime = pd.Series(data=list(y))\n",
    "y_datetime.index = pd.date_range(start='2000', periods=50, freq='A')\n",
    "lw_datetime = pd.Series(data=list(y))\n",
    "lw_datetime.index = pd.date_range(start='2050', periods=50, freq='A')\n",
    "\n",
    "exog_datetime = pd.Series(data=list(exog))\n",
    "exog_datetime.index = pd.date_range(start='2000', periods=50, freq='A')\n",
    "lw_exog_datetime = pd.Series(data=list(exog))\n",
    "lw_exog_datetime.index = pd.date_range(start='2050', periods=50, freq='A')\n",
    "\n",
    "forecaster = ForecasterSarimax(regressor=ARIMA(order=(1,1,1)))\n",
    "forecaster.fit(y=y_datetime, exog=exog_datetime)\n",
    "predictions = forecaster.predict_interval(\n",
    "                    steps            = 5, \n",
    "                    alpha            = 0.05,\n",
    "                    exog             = exog_datetime, \n",
    "                    last_window      = lw_datetime, \n",
    "                    last_window_exog = lw_exog_datetime\n",
    "                )"
   ]
  },
  {
   "cell_type": "code",
   "execution_count": 114,
   "metadata": {},
   "outputs": [
    {
     "name": "stderr",
     "output_type": "stream",
     "text": [
      "c:\\Users\\jaesc2\\Miniconda3\\envs\\skforecast\\lib\\site-packages\\statsmodels\\base\\model.py:604: ConvergenceWarning: Maximum Likelihood optimization failed to converge. Check mle_retvals\n",
      "  warnings.warn(\"Maximum Likelihood optimization failed to \"\n"
     ]
    },
    {
     "data": {
      "text/plain": [
       "array([['intercept', 0.49998574676910396],\n",
       "       ['ar.L1', 0.5000130662306124],\n",
       "       ['ma.L1', 7.479723906909597e-11],\n",
       "       ['sigma2', 2.658043128694438e-12]], dtype=object)"
      ]
     },
     "execution_count": 114,
     "metadata": {},
     "output_type": "execute_result"
    }
   ],
   "source": [
    "forecaster = ForecasterSarimax(regressor=ARIMA(order=(1,1,1)))\n",
    "forecaster.fit(y=pd.Series(np.arange(10)))\n",
    "forecaster.get_feature_importance().values"
   ]
  },
  {
   "cell_type": "code",
   "execution_count": 109,
   "metadata": {},
   "outputs": [
    {
     "data": {
      "text/plain": [
       "intercept    0.000368\n",
       "0           -0.216186\n",
       "ar.L1        0.141695\n",
       "ma.L1       -0.999727\n",
       "sigma2       0.050643\n",
       "dtype: float64"
      ]
     },
     "execution_count": 109,
     "metadata": {},
     "output_type": "execute_result"
    }
   ],
   "source": [
    "forecaster.regressor.params()\n"
   ]
  },
  {
   "cell_type": "code",
   "execution_count": 4,
   "metadata": {},
   "outputs": [],
   "source": [
    "import re\n",
    "from typing import Type\n",
    "import pytest\n",
    "import numpy as np\n",
    "import pandas as pd\n",
    "from sklearn.linear_model import Ridge\n",
    "from sklearn.exceptions import NotFittedError\n",
    "from skforecast.ForecasterAutoreg import ForecasterAutoreg\n",
    "from skforecast.ForecasterAutoregDirect import ForecasterAutoregDirect\n",
    "from skforecast.ForecasterAutoregMultiSeries import ForecasterAutoregMultiSeries\n",
    "from skforecast.model_selection import backtesting_forecaster"
   ]
  },
  {
   "cell_type": "code",
   "execution_count": 12,
   "metadata": {},
   "outputs": [
    {
     "ename": "AssertionError",
     "evalue": "Regex pattern \"`initial_train_size`\\\\ must\\\\ be\\\\ greater\\\\ than\\\\ forecaster's\\\\ window_size\\\\ \\\\(1\\\\)\\\\.\" does not match 'The maximum lag (1) must be less than the length of the series (1).'.",
     "output_type": "error",
     "traceback": [
      "\u001b[1;31m---------------------------------------------------------------------------\u001b[0m",
      "\u001b[1;31mValueError\u001b[0m                                Traceback (most recent call last)",
      "Cell \u001b[1;32mIn [12], line 13\u001b[0m\n\u001b[0;32m     12\u001b[0m \u001b[39mwith\u001b[39;00m pytest\u001b[39m.\u001b[39mraises(\u001b[39mValueError\u001b[39;00m, match \u001b[39m=\u001b[39m err_msg):\n\u001b[1;32m---> 13\u001b[0m     backtesting_forecaster(\n\u001b[0;32m     14\u001b[0m         forecaster          \u001b[39m=\u001b[39m forecaster,\n\u001b[0;32m     15\u001b[0m         y                   \u001b[39m=\u001b[39m y,\n\u001b[0;32m     16\u001b[0m         steps               \u001b[39m=\u001b[39m \u001b[39m3\u001b[39m,\n\u001b[0;32m     17\u001b[0m         metric              \u001b[39m=\u001b[39m \u001b[39m'\u001b[39m\u001b[39mmean_absolute_error\u001b[39m\u001b[39m'\u001b[39m,\n\u001b[0;32m     18\u001b[0m         initial_train_size  \u001b[39m=\u001b[39m initial_train_size,\n\u001b[0;32m     19\u001b[0m         refit               \u001b[39m=\u001b[39m \u001b[39mFalse\u001b[39;00m,\n\u001b[0;32m     20\u001b[0m         fixed_train_size    \u001b[39m=\u001b[39m \u001b[39mFalse\u001b[39;00m,\n\u001b[0;32m     21\u001b[0m         exog                \u001b[39m=\u001b[39m \u001b[39mNone\u001b[39;00m,\n\u001b[0;32m     22\u001b[0m         interval            \u001b[39m=\u001b[39m \u001b[39mNone\u001b[39;00m,\n\u001b[0;32m     23\u001b[0m         n_boot              \u001b[39m=\u001b[39m \u001b[39m500\u001b[39m,\n\u001b[0;32m     24\u001b[0m         random_state        \u001b[39m=\u001b[39m \u001b[39m123\u001b[39m,\n\u001b[0;32m     25\u001b[0m         in_sample_residuals \u001b[39m=\u001b[39m \u001b[39mTrue\u001b[39;00m,\n\u001b[0;32m     26\u001b[0m         verbose             \u001b[39m=\u001b[39m \u001b[39mFalse\u001b[39;00m\n\u001b[0;32m     27\u001b[0m     )\n",
      "File \u001b[1;32mc:\\Users\\jaesc2\\GitHub\\skforecast\\skforecast\\model_selection\\model_selection.py:780\u001b[0m, in \u001b[0;36mbacktesting_forecaster\u001b[1;34m(forecaster, y, steps, metric, initial_train_size, fixed_train_size, exog, refit, interval, n_boot, random_state, in_sample_residuals, verbose)\u001b[0m\n\u001b[0;32m    779\u001b[0m \u001b[39melse\u001b[39;00m:\n\u001b[1;32m--> 780\u001b[0m     metrics_values, backtest_predictions \u001b[39m=\u001b[39m _backtesting_forecaster_no_refit(\n\u001b[0;32m    781\u001b[0m         forecaster          \u001b[39m=\u001b[39;49m forecaster,\n\u001b[0;32m    782\u001b[0m         y                   \u001b[39m=\u001b[39;49m y,\n\u001b[0;32m    783\u001b[0m         steps               \u001b[39m=\u001b[39;49m steps,\n\u001b[0;32m    784\u001b[0m         metric              \u001b[39m=\u001b[39;49m metric,\n\u001b[0;32m    785\u001b[0m         initial_train_size  \u001b[39m=\u001b[39;49m initial_train_size,\n\u001b[0;32m    786\u001b[0m         exog                \u001b[39m=\u001b[39;49m exog,\n\u001b[0;32m    787\u001b[0m         interval            \u001b[39m=\u001b[39;49m interval,\n\u001b[0;32m    788\u001b[0m         n_boot              \u001b[39m=\u001b[39;49m n_boot,\n\u001b[0;32m    789\u001b[0m         random_state        \u001b[39m=\u001b[39;49m random_state,\n\u001b[0;32m    790\u001b[0m         in_sample_residuals \u001b[39m=\u001b[39;49m in_sample_residuals,\n\u001b[0;32m    791\u001b[0m         verbose             \u001b[39m=\u001b[39;49m verbose\n\u001b[0;32m    792\u001b[0m     )\n\u001b[0;32m    794\u001b[0m \u001b[39mreturn\u001b[39;00m metrics_values, backtest_predictions\n",
      "File \u001b[1;32mc:\\Users\\jaesc2\\GitHub\\skforecast\\skforecast\\model_selection\\model_selection.py:550\u001b[0m, in \u001b[0;36m_backtesting_forecaster_no_refit\u001b[1;34m(forecaster, y, steps, metric, initial_train_size, exog, interval, n_boot, random_state, in_sample_residuals, verbose)\u001b[0m\n\u001b[0;32m    549\u001b[0m exog_train_values \u001b[39m=\u001b[39m exog\u001b[39m.\u001b[39miloc[:initial_train_size, ] \u001b[39mif\u001b[39;00m exog \u001b[39mis\u001b[39;00m \u001b[39mnot\u001b[39;00m \u001b[39mNone\u001b[39;00m \u001b[39melse\u001b[39;00m \u001b[39mNone\u001b[39;00m\n\u001b[1;32m--> 550\u001b[0m forecaster\u001b[39m.\u001b[39;49mfit(y\u001b[39m=\u001b[39;49my\u001b[39m.\u001b[39;49miloc[:initial_train_size], exog\u001b[39m=\u001b[39;49mexog_train_values)\n\u001b[0;32m    551\u001b[0m window_size \u001b[39m=\u001b[39m forecaster\u001b[39m.\u001b[39mwindow_size\n",
      "File \u001b[1;32mc:\\Users\\jaesc2\\GitHub\\skforecast\\skforecast\\ForecasterAutoreg\\ForecasterAutoreg.py:462\u001b[0m, in \u001b[0;36mForecasterAutoreg.fit\u001b[1;34m(self, y, exog)\u001b[0m\n\u001b[0;32m    459\u001b[0m     \u001b[39mself\u001b[39m\u001b[39m.\u001b[39mexog_col_names \u001b[39m=\u001b[39m \\\n\u001b[0;32m    460\u001b[0m          exog\u001b[39m.\u001b[39mcolumns\u001b[39m.\u001b[39mto_list() \u001b[39mif\u001b[39;00m \u001b[39misinstance\u001b[39m(exog, pd\u001b[39m.\u001b[39mDataFrame) \u001b[39melse\u001b[39;00m exog\u001b[39m.\u001b[39mname\n\u001b[1;32m--> 462\u001b[0m X_train, y_train \u001b[39m=\u001b[39m \u001b[39mself\u001b[39;49m\u001b[39m.\u001b[39;49mcreate_train_X_y(y\u001b[39m=\u001b[39;49my, exog\u001b[39m=\u001b[39;49mexog)\n\u001b[0;32m    463\u001b[0m sample_weight \u001b[39m=\u001b[39m \u001b[39mself\u001b[39m\u001b[39m.\u001b[39mcreate_sample_weights(X_train\u001b[39m=\u001b[39mX_train)\n",
      "File \u001b[1;32mc:\\Users\\jaesc2\\GitHub\\skforecast\\skforecast\\ForecasterAutoreg\\ForecasterAutoreg.py:353\u001b[0m, in \u001b[0;36mForecasterAutoreg.create_train_X_y\u001b[1;34m(self, y, exog)\u001b[0m\n\u001b[0;32m    348\u001b[0m         \u001b[39mraise\u001b[39;00m \u001b[39mValueError\u001b[39;00m(\n\u001b[0;32m    349\u001b[0m             (\u001b[39m'\u001b[39m\u001b[39mDifferent index for `y` and `exog`. They must be equal \u001b[39m\u001b[39m'\u001b[39m\n\u001b[0;32m    350\u001b[0m              \u001b[39m'\u001b[39m\u001b[39mto ensure the correct alignment of values.\u001b[39m\u001b[39m'\u001b[39m)      \n\u001b[0;32m    351\u001b[0m         )\n\u001b[1;32m--> 353\u001b[0m X_train, y_train \u001b[39m=\u001b[39m \u001b[39mself\u001b[39;49m\u001b[39m.\u001b[39;49m_create_lags(y\u001b[39m=\u001b[39;49my_values)\n\u001b[0;32m    354\u001b[0m X_train_col_names \u001b[39m=\u001b[39m [\u001b[39mf\u001b[39m\u001b[39m\"\u001b[39m\u001b[39mlag_\u001b[39m\u001b[39m{\u001b[39;00mi\u001b[39m}\u001b[39;00m\u001b[39m\"\u001b[39m \u001b[39mfor\u001b[39;00m i \u001b[39min\u001b[39;00m \u001b[39mself\u001b[39m\u001b[39m.\u001b[39mlags]\n",
      "File \u001b[1;32mc:\\Users\\jaesc2\\GitHub\\skforecast\\skforecast\\ForecasterAutoreg\\ForecasterAutoreg.py:272\u001b[0m, in \u001b[0;36mForecasterAutoreg._create_lags\u001b[1;34m(self, y)\u001b[0m\n\u001b[0;32m    271\u001b[0m \u001b[39mif\u001b[39;00m n_splits \u001b[39m<\u001b[39m\u001b[39m=\u001b[39m \u001b[39m0\u001b[39m:\n\u001b[1;32m--> 272\u001b[0m     \u001b[39mraise\u001b[39;00m \u001b[39mValueError\u001b[39;00m(\n\u001b[0;32m    273\u001b[0m         \u001b[39mf\u001b[39m\u001b[39m'\u001b[39m\u001b[39mThe maximum lag (\u001b[39m\u001b[39m{\u001b[39;00m\u001b[39mself\u001b[39m\u001b[39m.\u001b[39mmax_lag\u001b[39m}\u001b[39;00m\u001b[39m) must be less than the length \u001b[39m\u001b[39m'\u001b[39m\n\u001b[0;32m    274\u001b[0m         \u001b[39mf\u001b[39m\u001b[39m'\u001b[39m\u001b[39mof the series (\u001b[39m\u001b[39m{\u001b[39;00m\u001b[39mlen\u001b[39m(y)\u001b[39m}\u001b[39;00m\u001b[39m).\u001b[39m\u001b[39m'\u001b[39m\n\u001b[0;32m    275\u001b[0m     )\n\u001b[0;32m    277\u001b[0m X_data \u001b[39m=\u001b[39m np\u001b[39m.\u001b[39mfull(shape\u001b[39m=\u001b[39m(n_splits, \u001b[39mlen\u001b[39m(\u001b[39mself\u001b[39m\u001b[39m.\u001b[39mlags)), fill_value\u001b[39m=\u001b[39mnp\u001b[39m.\u001b[39mnan, dtype\u001b[39m=\u001b[39m\u001b[39mfloat\u001b[39m)\n",
      "\u001b[1;31mValueError\u001b[0m: The maximum lag (1) must be less than the length of the series (1).",
      "\nDuring handling of the above exception, another exception occurred:\n",
      "\u001b[1;31mAssertionError\u001b[0m                            Traceback (most recent call last)",
      "Cell \u001b[1;32mIn [12], line 13\u001b[0m\n\u001b[0;32m      8\u001b[0m err_msg \u001b[39m=\u001b[39m re\u001b[39m.\u001b[39mescape(\n\u001b[0;32m      9\u001b[0m         \u001b[39mf\u001b[39m\u001b[39m\"\u001b[39m\u001b[39m`initial_train_size` must be greater than \u001b[39m\u001b[39m\"\u001b[39m\n\u001b[0;32m     10\u001b[0m         \u001b[39mf\u001b[39m\u001b[39m\"\u001b[39m\u001b[39mforecaster\u001b[39m\u001b[39m'\u001b[39m\u001b[39ms window_size (\u001b[39m\u001b[39m{\u001b[39;00mforecaster\u001b[39m.\u001b[39mwindow_size\u001b[39m}\u001b[39;00m\u001b[39m).\u001b[39m\u001b[39m\"\u001b[39m\n\u001b[0;32m     11\u001b[0m     )\n\u001b[0;32m     12\u001b[0m \u001b[39mwith\u001b[39;00m pytest\u001b[39m.\u001b[39mraises(\u001b[39mValueError\u001b[39;00m, match \u001b[39m=\u001b[39m err_msg):\n\u001b[1;32m---> 13\u001b[0m     backtesting_forecaster(\n\u001b[0;32m     14\u001b[0m         forecaster          \u001b[39m=\u001b[39m forecaster,\n\u001b[0;32m     15\u001b[0m         y                   \u001b[39m=\u001b[39m y,\n\u001b[0;32m     16\u001b[0m         steps               \u001b[39m=\u001b[39m \u001b[39m3\u001b[39m,\n\u001b[0;32m     17\u001b[0m         metric              \u001b[39m=\u001b[39m \u001b[39m'\u001b[39m\u001b[39mmean_absolute_error\u001b[39m\u001b[39m'\u001b[39m,\n\u001b[0;32m     18\u001b[0m         initial_train_size  \u001b[39m=\u001b[39m initial_train_size,\n\u001b[0;32m     19\u001b[0m         refit               \u001b[39m=\u001b[39m \u001b[39mFalse\u001b[39;00m,\n\u001b[0;32m     20\u001b[0m         fixed_train_size    \u001b[39m=\u001b[39m \u001b[39mFalse\u001b[39;00m,\n\u001b[0;32m     21\u001b[0m         exog                \u001b[39m=\u001b[39m \u001b[39mNone\u001b[39;00m,\n\u001b[0;32m     22\u001b[0m         interval            \u001b[39m=\u001b[39m \u001b[39mNone\u001b[39;00m,\n\u001b[0;32m     23\u001b[0m         n_boot              \u001b[39m=\u001b[39m \u001b[39m500\u001b[39m,\n\u001b[0;32m     24\u001b[0m         random_state        \u001b[39m=\u001b[39m \u001b[39m123\u001b[39m,\n\u001b[0;32m     25\u001b[0m         in_sample_residuals \u001b[39m=\u001b[39m \u001b[39mTrue\u001b[39;00m,\n\u001b[0;32m     26\u001b[0m         verbose             \u001b[39m=\u001b[39m \u001b[39mFalse\u001b[39;00m\n\u001b[0;32m     27\u001b[0m     )\n",
      "    \u001b[1;31m[... skipping hidden 1 frame]\u001b[0m\n",
      "File \u001b[1;32mc:\\Users\\jaesc2\\Miniconda3\\envs\\skforecast\\lib\\site-packages\\_pytest\\_code\\code.py:678\u001b[0m, in \u001b[0;36mExceptionInfo.match\u001b[1;34m(self, regexp)\u001b[0m\n\u001b[0;32m    676\u001b[0m \u001b[39mif\u001b[39;00m regexp \u001b[39m==\u001b[39m \u001b[39mstr\u001b[39m(\u001b[39mself\u001b[39m\u001b[39m.\u001b[39mvalue):\n\u001b[0;32m    677\u001b[0m     msg \u001b[39m+\u001b[39m\u001b[39m=\u001b[39m \u001b[39m\"\u001b[39m\u001b[39m Did you mean to `re.escape()` the regex?\u001b[39m\u001b[39m\"\u001b[39m\n\u001b[1;32m--> 678\u001b[0m \u001b[39massert\u001b[39;00m re\u001b[39m.\u001b[39msearch(regexp, \u001b[39mstr\u001b[39m(\u001b[39mself\u001b[39m\u001b[39m.\u001b[39mvalue)), msg\u001b[39m.\u001b[39mformat(regexp, \u001b[39mstr\u001b[39m(\u001b[39mself\u001b[39m\u001b[39m.\u001b[39mvalue))\n\u001b[0;32m    679\u001b[0m \u001b[39m# Return True to allow for \"assert excinfo.match()\".\u001b[39;00m\n\u001b[0;32m    680\u001b[0m \u001b[39mreturn\u001b[39;00m \u001b[39mTrue\u001b[39;00m\n",
      "\u001b[1;31mAssertionError\u001b[0m: Regex pattern \"`initial_train_size`\\\\ must\\\\ be\\\\ greater\\\\ than\\\\ forecaster's\\\\ window_size\\\\ \\\\(1\\\\)\\\\.\" does not match 'The maximum lag (1) must be less than the length of the series (1).'."
     ]
    }
   ],
   "source": [
    "forecaster = ForecasterAutoreg(\n",
    "                regressor = Ridge(random_state=123),\n",
    "                lags      = 1\n",
    "                )\n",
    "\n",
    "initial_train_size = forecaster.window_size\n",
    "\n",
    "err_msg = re.escape(\n",
    "        f\"`initial_train_size` must be greater than \"\n",
    "        f\"forecaster's window_size ({forecaster.window_size}).\"\n",
    "    )\n",
    "with pytest.raises(ValueError, match = err_msg):\n",
    "    backtesting_forecaster(\n",
    "        forecaster          = forecaster,\n",
    "        y                   = y,\n",
    "        steps               = 3,\n",
    "        metric              = 'mean_absolute_error',\n",
    "        initial_train_size  = initial_train_size,\n",
    "        refit               = False,\n",
    "        fixed_train_size    = False,\n",
    "        exog                = None,\n",
    "        interval            = None,\n",
    "        n_boot              = 500,\n",
    "        random_state        = 123,\n",
    "        in_sample_residuals = True,\n",
    "        verbose             = False\n",
    "    )"
   ]
  },
  {
   "cell_type": "code",
   "execution_count": 8,
   "metadata": {},
   "outputs": [
    {
     "data": {
      "text/plain": [
       "0     0.696469\n",
       "1     0.286139\n",
       "2     0.226851\n",
       "3     0.551315\n",
       "4     0.719469\n",
       "5     0.423106\n",
       "6     0.980764\n",
       "7     0.684830\n",
       "8     0.480932\n",
       "9     0.392118\n",
       "10    0.343178\n",
       "11    0.729050\n",
       "12    0.438572\n",
       "13    0.059678\n",
       "14    0.398044\n",
       "15    0.737995\n",
       "16    0.182492\n",
       "17    0.175452\n",
       "18    0.531551\n",
       "19    0.531828\n",
       "20    0.634401\n",
       "21    0.849432\n",
       "22    0.724455\n",
       "23    0.611024\n",
       "24    0.722443\n",
       "25    0.322959\n",
       "26    0.361789\n",
       "27    0.228263\n",
       "28    0.293714\n",
       "29    0.630976\n",
       "30    0.092105\n",
       "31    0.433701\n",
       "32    0.430863\n",
       "33    0.493685\n",
       "34    0.425830\n",
       "35    0.312261\n",
       "36    0.426351\n",
       "37    0.893389\n",
       "38    0.944160\n",
       "39    0.501837\n",
       "40    0.623953\n",
       "41    0.115618\n",
       "42    0.317285\n",
       "43    0.414826\n",
       "44    0.866309\n",
       "45    0.250455\n",
       "46    0.483034\n",
       "47    0.985560\n",
       "48    0.519485\n",
       "49    0.612895\n",
       "Name: y, dtype: float64"
      ]
     },
     "execution_count": 8,
     "metadata": {},
     "output_type": "execute_result"
    }
   ],
   "source": [
    "y"
   ]
  },
  {
   "cell_type": "code",
   "execution_count": 11,
   "metadata": {},
   "outputs": [],
   "source": [
    "import re\n",
    "import pytest\n",
    "from pytest import approx\n",
    "import numpy as np\n",
    "import pandas as pd\n",
    "from skforecast.ForecasterAutoregMultiVariate import ForecasterAutoregMultiVariate\n",
    "from sklearn.exceptions import NotFittedError\n",
    "from sklearn.pipeline import make_pipeline\n",
    "from sklearn.preprocessing import StandardScaler\n",
    "from sklearn.linear_model import LinearRegression\n",
    "from sklearn.neural_network import MLPRegressor\n",
    "from sklearn.ensemble import RandomForestRegressor\n",
    "from skforecast.ForecasterAutoregDirect import ForecasterAutoregDirect"
   ]
  },
  {
   "cell_type": "code",
   "execution_count": 45,
   "metadata": {},
   "outputs": [],
   "source": [
    "series = pd.DataFrame({'l1': pd.Series(np.arange(10)), \n",
    "                        'l2': pd.Series(np.random.rand(10))\n",
    "                        })\n",
    "exog = pd.Series(np.arange(10), name='exog')"
   ]
  },
  {
   "cell_type": "code",
   "execution_count": 61,
   "metadata": {},
   "outputs": [],
   "source": [
    "forecaster = ForecasterAutoregMultiVariate(\n",
    "                         regressor = RandomForestRegressor(random_state=123),\n",
    "                         level     = 'l2',\n",
    "                         lags      = 3,\n",
    "                         steps     = 2,\n",
    "                     )\n",
    "forecaster.fit(series=series, exog=exog)"
   ]
  },
  {
   "cell_type": "code",
   "execution_count": 62,
   "metadata": {},
   "outputs": [
    {
     "data": {
      "text/plain": [
       "array([0.04433023, 0.06593663, 0.04126985, 0.21969712, 0.423652  ,\n",
       "       0.18296598, 0.0221482 ])"
      ]
     },
     "execution_count": 62,
     "metadata": {},
     "output_type": "execute_result"
    }
   ],
   "source": [
    "forecaster.regressors_[1].feature_importances_"
   ]
  },
  {
   "cell_type": "code",
   "execution_count": 63,
   "metadata": {},
   "outputs": [
    {
     "data": {
      "text/plain": [
       "array([0.01352571, 0.05085389, 0.06176128, 0.57891741, 0.19316456,\n",
       "       0.06913955, 0.03263761])"
      ]
     },
     "execution_count": 63,
     "metadata": {},
     "output_type": "execute_result"
    }
   ],
   "source": [
    "forecaster.regressors_[2].feature_importances_"
   ]
  },
  {
   "cell_type": "code",
   "execution_count": 64,
   "metadata": {},
   "outputs": [
    {
     "data": {
      "text/html": [
       "<div>\n",
       "<style scoped>\n",
       "    .dataframe tbody tr th:only-of-type {\n",
       "        vertical-align: middle;\n",
       "    }\n",
       "\n",
       "    .dataframe tbody tr th {\n",
       "        vertical-align: top;\n",
       "    }\n",
       "\n",
       "    .dataframe thead th {\n",
       "        text-align: right;\n",
       "    }\n",
       "</style>\n",
       "<table border=\"1\" class=\"dataframe\">\n",
       "  <thead>\n",
       "    <tr style=\"text-align: right;\">\n",
       "      <th></th>\n",
       "      <th>feature</th>\n",
       "      <th>importance</th>\n",
       "    </tr>\n",
       "  </thead>\n",
       "  <tbody>\n",
       "    <tr>\n",
       "      <th>0</th>\n",
       "      <td>l1_lag_1</td>\n",
       "      <td>0.013526</td>\n",
       "    </tr>\n",
       "    <tr>\n",
       "      <th>1</th>\n",
       "      <td>l1_lag_2</td>\n",
       "      <td>0.050854</td>\n",
       "    </tr>\n",
       "    <tr>\n",
       "      <th>2</th>\n",
       "      <td>l1_lag_3</td>\n",
       "      <td>0.061761</td>\n",
       "    </tr>\n",
       "    <tr>\n",
       "      <th>3</th>\n",
       "      <td>l2_lag_1</td>\n",
       "      <td>0.578917</td>\n",
       "    </tr>\n",
       "    <tr>\n",
       "      <th>4</th>\n",
       "      <td>l2_lag_2</td>\n",
       "      <td>0.193165</td>\n",
       "    </tr>\n",
       "    <tr>\n",
       "      <th>5</th>\n",
       "      <td>l2_lag_3</td>\n",
       "      <td>0.069140</td>\n",
       "    </tr>\n",
       "    <tr>\n",
       "      <th>6</th>\n",
       "      <td>exog_step_2</td>\n",
       "      <td>0.032638</td>\n",
       "    </tr>\n",
       "  </tbody>\n",
       "</table>\n",
       "</div>"
      ],
      "text/plain": [
       "       feature  importance\n",
       "0     l1_lag_1    0.013526\n",
       "1     l1_lag_2    0.050854\n",
       "2     l1_lag_3    0.061761\n",
       "3     l2_lag_1    0.578917\n",
       "4     l2_lag_2    0.193165\n",
       "5     l2_lag_3    0.069140\n",
       "6  exog_step_2    0.032638"
      ]
     },
     "execution_count": 64,
     "metadata": {},
     "output_type": "execute_result"
    }
   ],
   "source": [
    "forecaster.get_feature_importance(step=2)"
   ]
  },
  {
   "cell_type": "code",
   "execution_count": 14,
   "metadata": {},
   "outputs": [],
   "source": [
    "forecaster = ForecasterAutoregDirect(\n",
    "                         regressor = RandomForestRegressor(random_state=123),\n",
    "                         lags      = 3,\n",
    "                         steps     = 2,\n",
    "                         transformer_y=StandardScaler(),\n",
    "                     )\n",
    "forecaster.fit(y=series['l1'], exog=exog)"
   ]
  },
  {
   "cell_type": "code",
   "execution_count": 15,
   "metadata": {},
   "outputs": [
    {
     "data": {
      "text/plain": [
       "10    6.41\n",
       "11    7.41\n",
       "Name: pred, dtype: float64"
      ]
     },
     "execution_count": 15,
     "metadata": {},
     "output_type": "execute_result"
    }
   ],
   "source": [
    "forecaster.predict(exog=exog)"
   ]
  },
  {
   "cell_type": "code",
   "execution_count": null,
   "metadata": {},
   "outputs": [],
   "source": []
  }
 ],
 "metadata": {
  "kernelspec": {
   "display_name": "skforecast",
   "language": "python",
   "name": "skforecast"
  },
  "language_info": {
   "codemirror_mode": {
    "name": "ipython",
    "version": 3
   },
   "file_extension": ".py",
   "mimetype": "text/x-python",
   "name": "python",
   "nbconvert_exporter": "python",
   "pygments_lexer": "ipython3",
   "version": "3.9.13"
  },
  "orig_nbformat": 4,
  "vscode": {
   "interpreter": {
    "hash": "f2f78aa07a2c9de4fc4e3d692008110cbee95f9e29d94fd62aa071e5108d1402"
   }
  }
 },
 "nbformat": 4,
 "nbformat_minor": 2
}
