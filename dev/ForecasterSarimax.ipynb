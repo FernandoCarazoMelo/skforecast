{
 "cells": [
  {
   "cell_type": "code",
   "execution_count": 1,
   "metadata": {},
   "outputs": [
    {
     "data": {
      "text/plain": [
       "'c:\\\\Users\\\\jaesc2\\\\GitHub\\\\skforecast'"
      ]
     },
     "execution_count": 1,
     "metadata": {},
     "output_type": "execute_result"
    }
   ],
   "source": [
    "%load_ext autoreload\n",
    "%autoreload 2\n",
    "import sys\n",
    "from pathlib import Path\n",
    "sys.path.insert(1, str(Path.cwd().parent))\n",
    "str(Path.cwd().parent)"
   ]
  },
  {
   "cell_type": "code",
   "execution_count": 2,
   "metadata": {},
   "outputs": [],
   "source": [
    "import re\n",
    "import pytest\n",
    "from pytest import approx\n",
    "import numpy as np\n",
    "import pandas as pd\n",
    "from skforecast.ForecasterAutoregMultiSeries import ForecasterAutoregMultiSeries\n",
    "from skforecast.ForecasterAutoregMultiVariate import ForecasterAutoregMultiVariate\n",
    "from sklearn.linear_model import LinearRegression\n",
    "from sklearn.preprocessing import StandardScaler\n",
    "from xgboost import XGBRegressor"
   ]
  },
  {
   "cell_type": "code",
   "execution_count": 3,
   "metadata": {},
   "outputs": [],
   "source": [
    "import re\n",
    "import pytest\n",
    "import numpy as np\n",
    "import pandas as pd\n",
    "from skforecast.ForecasterAutoregMultiVariate import ForecasterAutoregMultiVariate\n",
    "from sklearn.linear_model import LinearRegression\n",
    "from sklearn.preprocessing import StandardScaler\n",
    "\n",
    "# Fixtures\n",
    "from skforecast.ForecasterAutoregMultiVariate.tests.fixtures_ForecasterAutoregMultiVariate import series\n",
    "from skforecast.ForecasterAutoregMultiVariate.tests.fixtures_ForecasterAutoregMultiVariate import exog\n",
    "from skforecast.ForecasterAutoregMultiVariate.tests.fixtures_ForecasterAutoregMultiVariate import exog_predict\n",
    "\n",
    "from sklearn.compose import ColumnTransformer\n",
    "from sklearn.preprocessing import StandardScaler\n",
    "from sklearn.preprocessing import OneHotEncoder\n",
    "from scipy.stats import norm\n",
    "\n",
    "transformer_exog = ColumnTransformer(\n",
    "                       [('scale', StandardScaler(), ['exog_1']),\n",
    "                        ('onehot', OneHotEncoder(), ['exog_2'])],\n",
    "                       remainder = 'passthrough',\n",
    "                       verbose_feature_names_out = False\n",
    "                   )"
   ]
  },
  {
   "cell_type": "code",
   "execution_count": 19,
   "metadata": {},
   "outputs": [
    {
     "data": {
      "text/plain": [
       "array([-0.0008831 ,  0.00088406])"
      ]
     },
     "execution_count": 19,
     "metadata": {},
     "output_type": "execute_result"
    }
   ],
   "source": [
    "forecaster = ForecasterAutoreg(XGBRegressor(random_state=123), lags=3)\n",
    "forecaster.fit(y=pd.Series(np.arange(5)))\n",
    "forecaster.in_sample_residuals"
   ]
  },
  {
   "cell_type": "code",
   "execution_count": 20,
   "metadata": {},
   "outputs": [],
   "source": [
    "forecaster_name = 'ForecasterAutoregCustom'\n",
    "\n",
    "if forecaster_name in ['ForecasterAutoregMultiSeries', 'ForecasterAutoregMultiSeriesCustom']:\n",
    "    print(1)"
   ]
  },
  {
   "cell_type": "code",
   "execution_count": 21,
   "metadata": {},
   "outputs": [
    {
     "data": {
      "text/plain": [
       "array([[0.61820497, 0.39855187, 0.67329092],\n",
       "       [0.41314101, 0.20291844, 0.56528096]])"
      ]
     },
     "execution_count": 21,
     "metadata": {},
     "output_type": "execute_result"
    }
   ],
   "source": [
    "results.to_numpy()"
   ]
  },
  {
   "cell_type": "code",
   "execution_count": 6,
   "metadata": {},
   "outputs": [],
   "source": [
    "import re\n",
    "import pytest\n",
    "import numpy as np\n",
    "import pandas as pd\n",
    "from pytest import approx\n",
    "import sys\n",
    "from sklearn.linear_model import Ridge\n",
    "from sklearn.metrics import mean_absolute_error\n",
    "from sklearn.exceptions import NotFittedError\n",
    "from skforecast.ForecasterAutoreg import ForecasterAutoreg\n",
    "from skforecast.ForecasterAutoregMultiSeries import ForecasterAutoregMultiSeries\n",
    "from skforecast.ForecasterAutoregMultiVariate import ForecasterAutoregMultiVariate\n",
    "from skforecast.model_selection_multiseries import backtesting_forecaster_multiseries\n",
    "from skforecast.model_selection_multiseries import backtesting_forecaster_multivariate"
   ]
  },
  {
   "cell_type": "code",
   "execution_count": 8,
   "metadata": {},
   "outputs": [],
   "source": [
    "forecaster = ForecasterAutoregMultiVariate(\n",
    "                     regressor = Ridge(random_state=123),\n",
    "                     level     = 'l1',\n",
    "                     lags      = 2,\n",
    "                     steps     = 3\n",
    "                 )\n",
    "\n",
    "steps = 3\n",
    "n_validation = 12\n",
    "\n",
    "metrics_levels, backtest_predictions = backtesting_forecaster_multiseries(\n",
    "                                            forecaster          = forecaster,\n",
    "                                            series              = series,\n",
    "                                            steps               = steps,\n",
    "                                            levels              = 'l1',\n",
    "                                            metric              = 'mean_absolute_error',\n",
    "                                            initial_train_size  = len(series) - n_validation,\n",
    "                                            refit               = True,\n",
    "                                            fixed_train_size    = True,\n",
    "                                            exog                = series['l1'].rename('exog_1'),\n",
    "                                            interval            = [5, 95],\n",
    "                                            n_boot              = 500,\n",
    "                                            random_state        = 123,\n",
    "                                            in_sample_residuals = True,\n",
    "                                            verbose             = False\n",
    "                                        )"
   ]
  },
  {
   "cell_type": "code",
   "execution_count": 9,
   "metadata": {},
   "outputs": [
    {
     "data": {
      "text/html": [
       "<div>\n",
       "<style scoped>\n",
       "    .dataframe tbody tr th:only-of-type {\n",
       "        vertical-align: middle;\n",
       "    }\n",
       "\n",
       "    .dataframe tbody tr th {\n",
       "        vertical-align: top;\n",
       "    }\n",
       "\n",
       "    .dataframe thead th {\n",
       "        text-align: right;\n",
       "    }\n",
       "</style>\n",
       "<table border=\"1\" class=\"dataframe\">\n",
       "  <thead>\n",
       "    <tr style=\"text-align: right;\">\n",
       "      <th></th>\n",
       "      <th>levels</th>\n",
       "      <th>mean_absolute_error</th>\n",
       "    </tr>\n",
       "  </thead>\n",
       "  <tbody>\n",
       "    <tr>\n",
       "      <th>0</th>\n",
       "      <td>l1</td>\n",
       "      <td>0.077058</td>\n",
       "    </tr>\n",
       "  </tbody>\n",
       "</table>\n",
       "</div>"
      ],
      "text/plain": [
       "  levels  mean_absolute_error\n",
       "0     l1             0.077058"
      ]
     },
     "execution_count": 9,
     "metadata": {},
     "output_type": "execute_result"
    }
   ],
   "source": [
    "metrics_levels"
   ]
  },
  {
   "cell_type": "code",
   "execution_count": 10,
   "metadata": {},
   "outputs": [
    {
     "data": {
      "text/html": [
       "<div>\n",
       "<style scoped>\n",
       "    .dataframe tbody tr th:only-of-type {\n",
       "        vertical-align: middle;\n",
       "    }\n",
       "\n",
       "    .dataframe tbody tr th {\n",
       "        vertical-align: top;\n",
       "    }\n",
       "\n",
       "    .dataframe thead th {\n",
       "        text-align: right;\n",
       "    }\n",
       "</style>\n",
       "<table border=\"1\" class=\"dataframe\">\n",
       "  <thead>\n",
       "    <tr style=\"text-align: right;\">\n",
       "      <th></th>\n",
       "      <th>l1</th>\n",
       "      <th>lower_bound</th>\n",
       "      <th>upper_bound</th>\n",
       "    </tr>\n",
       "  </thead>\n",
       "  <tbody>\n",
       "    <tr>\n",
       "      <th>38</th>\n",
       "      <td>0.790172</td>\n",
       "      <td>0.651650</td>\n",
       "      <td>0.923091</td>\n",
       "    </tr>\n",
       "    <tr>\n",
       "      <th>39</th>\n",
       "      <td>0.493183</td>\n",
       "      <td>0.370860</td>\n",
       "      <td>0.640326</td>\n",
       "    </tr>\n",
       "    <tr>\n",
       "      <th>40</th>\n",
       "      <td>0.585632</td>\n",
       "      <td>0.465601</td>\n",
       "      <td>0.728775</td>\n",
       "    </tr>\n",
       "    <tr>\n",
       "      <th>41</th>\n",
       "      <td>0.256364</td>\n",
       "      <td>0.107432</td>\n",
       "      <td>0.377109</td>\n",
       "    </tr>\n",
       "    <tr>\n",
       "      <th>42</th>\n",
       "      <td>0.376045</td>\n",
       "      <td>0.242418</td>\n",
       "      <td>0.527925</td>\n",
       "    </tr>\n",
       "    <tr>\n",
       "      <th>43</th>\n",
       "      <td>0.454392</td>\n",
       "      <td>0.328888</td>\n",
       "      <td>0.595598</td>\n",
       "    </tr>\n",
       "    <tr>\n",
       "      <th>44</th>\n",
       "      <td>0.704881</td>\n",
       "      <td>0.559700</td>\n",
       "      <td>0.845592</td>\n",
       "    </tr>\n",
       "    <tr>\n",
       "      <th>45</th>\n",
       "      <td>0.326936</td>\n",
       "      <td>0.200854</td>\n",
       "      <td>0.479103</td>\n",
       "    </tr>\n",
       "    <tr>\n",
       "      <th>46</th>\n",
       "      <td>0.490999</td>\n",
       "      <td>0.356176</td>\n",
       "      <td>0.635244</td>\n",
       "    </tr>\n",
       "    <tr>\n",
       "      <th>47</th>\n",
       "      <td>0.820668</td>\n",
       "      <td>0.679178</td>\n",
       "      <td>0.951930</td>\n",
       "    </tr>\n",
       "    <tr>\n",
       "      <th>48</th>\n",
       "      <td>0.511099</td>\n",
       "      <td>0.391784</td>\n",
       "      <td>0.661861</td>\n",
       "    </tr>\n",
       "    <tr>\n",
       "      <th>49</th>\n",
       "      <td>0.547380</td>\n",
       "      <td>0.421956</td>\n",
       "      <td>0.693957</td>\n",
       "    </tr>\n",
       "  </tbody>\n",
       "</table>\n",
       "</div>"
      ],
      "text/plain": [
       "          l1  lower_bound  upper_bound\n",
       "38  0.790172     0.651650     0.923091\n",
       "39  0.493183     0.370860     0.640326\n",
       "40  0.585632     0.465601     0.728775\n",
       "41  0.256364     0.107432     0.377109\n",
       "42  0.376045     0.242418     0.527925\n",
       "43  0.454392     0.328888     0.595598\n",
       "44  0.704881     0.559700     0.845592\n",
       "45  0.326936     0.200854     0.479103\n",
       "46  0.490999     0.356176     0.635244\n",
       "47  0.820668     0.679178     0.951930\n",
       "48  0.511099     0.391784     0.661861\n",
       "49  0.547380     0.421956     0.693957"
      ]
     },
     "execution_count": 10,
     "metadata": {},
     "output_type": "execute_result"
    }
   ],
   "source": [
    "backtest_predictions"
   ]
  },
  {
   "cell_type": "code",
   "execution_count": 12,
   "metadata": {},
   "outputs": [],
   "source": [
    "forecaster = ForecasterAutoregMultiVariate(\n",
    "                     regressor = Ridge(random_state=123),\n",
    "                     level     = 'l1',\n",
    "                     lags      = 2,\n",
    "                     steps     = 3\n",
    "                 )\n",
    "\n",
    "steps = 3\n",
    "n_validation = 12\n",
    "\n",
    "metrics_levels, backtest_predictions = backtesting_forecaster_multivariate(\n",
    "                                            forecaster          = forecaster,\n",
    "                                            series              = series,\n",
    "                                            steps               = steps,\n",
    "                                            levels              = 'l1',\n",
    "                                            metric              = 'mean_absolute_error',\n",
    "                                            initial_train_size  = len(series) - n_validation,\n",
    "                                            refit               = True,\n",
    "                                            fixed_train_size    = True,\n",
    "                                            exog                = series['l1'].rename('exog_1'),\n",
    "                                            interval            = [5, 95],\n",
    "                                            n_boot              = 500,\n",
    "                                            random_state        = 123,\n",
    "                                            in_sample_residuals = True,\n",
    "                                            verbose             = False\n",
    "                                        )"
   ]
  },
  {
   "cell_type": "code",
   "execution_count": 13,
   "metadata": {},
   "outputs": [
    {
     "data": {
      "text/html": [
       "<div>\n",
       "<style scoped>\n",
       "    .dataframe tbody tr th:only-of-type {\n",
       "        vertical-align: middle;\n",
       "    }\n",
       "\n",
       "    .dataframe tbody tr th {\n",
       "        vertical-align: top;\n",
       "    }\n",
       "\n",
       "    .dataframe thead th {\n",
       "        text-align: right;\n",
       "    }\n",
       "</style>\n",
       "<table border=\"1\" class=\"dataframe\">\n",
       "  <thead>\n",
       "    <tr style=\"text-align: right;\">\n",
       "      <th></th>\n",
       "      <th>levels</th>\n",
       "      <th>mean_absolute_error</th>\n",
       "    </tr>\n",
       "  </thead>\n",
       "  <tbody>\n",
       "    <tr>\n",
       "      <th>0</th>\n",
       "      <td>l1</td>\n",
       "      <td>0.077058</td>\n",
       "    </tr>\n",
       "  </tbody>\n",
       "</table>\n",
       "</div>"
      ],
      "text/plain": [
       "  levels  mean_absolute_error\n",
       "0     l1             0.077058"
      ]
     },
     "execution_count": 13,
     "metadata": {},
     "output_type": "execute_result"
    }
   ],
   "source": [
    "metrics_levels"
   ]
  },
  {
   "cell_type": "code",
   "execution_count": 17,
   "metadata": {},
   "outputs": [
    {
     "data": {
      "text/plain": [
       "array([['l1', 0.07705832858897509]], dtype=object)"
      ]
     },
     "execution_count": 17,
     "metadata": {},
     "output_type": "execute_result"
    }
   ],
   "source": [
    "metrics_levels.to_numpy()"
   ]
  },
  {
   "cell_type": "code",
   "execution_count": 18,
   "metadata": {},
   "outputs": [
    {
     "data": {
      "text/plain": [
       "array([[0.79017158, 0.65165001, 0.92309077],\n",
       "       [0.49318335, 0.37085985, 0.6403262 ],\n",
       "       [0.58563228, 0.46560056, 0.72877519],\n",
       "       [0.25636363, 0.10743222, 0.37710866],\n",
       "       [0.37604542, 0.24241796, 0.52792491],\n",
       "       [0.45439247, 0.32888843, 0.59559781],\n",
       "       [0.70488052, 0.5596997 , 0.84559181],\n",
       "       [0.32693583, 0.20085419, 0.47910327],\n",
       "       [0.49099895, 0.35617576, 0.63524443],\n",
       "       [0.82066806, 0.67917812, 0.95193044],\n",
       "       [0.51109877, 0.39178411, 0.66186064],\n",
       "       [0.54738032, 0.42195622, 0.69395717]])"
      ]
     },
     "execution_count": 18,
     "metadata": {},
     "output_type": "execute_result"
    }
   ],
   "source": [
    "backtest_predictions.to_numpy()"
   ]
  },
  {
   "cell_type": "code",
   "execution_count": 26,
   "metadata": {},
   "outputs": [
    {
     "ename": "TypeError",
     "evalue": "predict_interval() got an unexpected keyword argument 'levels'",
     "output_type": "error",
     "traceback": [
      "\u001b[1;31m---------------------------------------------------------------------------\u001b[0m",
      "\u001b[1;31mTypeError\u001b[0m                                 Traceback (most recent call last)",
      "\u001b[1;32mc:\\Users\\jaesc2\\GitHub\\skforecast\\dev\\ForecasterSarimax.ipynb Cell 4\u001b[0m in \u001b[0;36m7\n\u001b[0;32m      <a href='vscode-notebook-cell:/c%3A/Users/jaesc2/GitHub/skforecast/dev/ForecasterSarimax.ipynb#Y363sZmlsZQ%3D%3D?line=3'>4</a>\u001b[0m forecaster \u001b[39m=\u001b[39m ForecasterAutoregMultiVariate(XGBRegressor(random_state\u001b[39m=\u001b[39m\u001b[39m123\u001b[39m), \n\u001b[0;32m      <a href='vscode-notebook-cell:/c%3A/Users/jaesc2/GitHub/skforecast/dev/ForecasterSarimax.ipynb#Y363sZmlsZQ%3D%3D?line=4'>5</a>\u001b[0m                                             level\u001b[39m=\u001b[39m\u001b[39m'\u001b[39m\u001b[39ml2\u001b[39m\u001b[39m'\u001b[39m, lags\u001b[39m=\u001b[39m\u001b[39m3\u001b[39m, steps\u001b[39m=\u001b[39m\u001b[39m2\u001b[39m)\n\u001b[0;32m      <a href='vscode-notebook-cell:/c%3A/Users/jaesc2/GitHub/skforecast/dev/ForecasterSarimax.ipynb#Y363sZmlsZQ%3D%3D?line=5'>6</a>\u001b[0m forecaster\u001b[39m.\u001b[39mfit(series\u001b[39m=\u001b[39mseries)\n\u001b[1;32m----> <a href='vscode-notebook-cell:/c%3A/Users/jaesc2/GitHub/skforecast/dev/ForecasterSarimax.ipynb#Y363sZmlsZQ%3D%3D?line=6'>7</a>\u001b[0m forecaster\u001b[39m.\u001b[39mpredict_interval(levels\u001b[39m=\u001b[39m\u001b[39mNone\u001b[39;00m)\n",
      "\u001b[1;31mTypeError\u001b[0m: predict_interval() got an unexpected keyword argument 'levels'"
     ]
    }
   ],
   "source": [
    "def test_output_backtesting_forecaster_multiseries_ForecasterAutoregMultiSeries_not_refit_exog_interval_with_mocked():\n",
    "    \"\"\"\n",
    "    Test output of backtesting_forecaster_multiseries in ForecasterAutoregMultiSeries \n",
    "    without refit with mocked using exog and intervals \n",
    "    (mocked done in Skforecast v0.5.0).\n",
    "    \"\"\"\n",
    "\n",
    "    forecaster = ForecasterAutoregMultiSeries(\n",
    "                    regressor = Ridge(random_state=123),\n",
    "                    lags      = 2\n",
    "                 )\n",
    "\n",
    "    steps = 3\n",
    "    n_validation = 12\n",
    "\n",
    "    metrics_levels, backtest_predictions = backtesting_forecaster_multiseries(\n",
    "                                               forecaster          = forecaster,\n",
    "                                               series              = series,\n",
    "                                               steps               = steps,\n",
    "                                               levels              = ['l1'],\n",
    "                                               metric              = 'mean_absolute_error',\n",
    "                                               initial_train_size  = len(series) - n_validation,\n",
    "                                               refit               = False,\n",
    "                                               fixed_train_size    = False,\n",
    "                                               exog                = series['l1'].rename('exog_1'),\n",
    "                                               interval            = [5, 95],\n",
    "                                               n_boot              = 500,\n",
    "                                               random_state        = 123,\n",
    "                                               in_sample_residuals = True,\n",
    "                                               verbose             = False\n",
    "                                           )\n",
    "    \n",
    "    expected_metric = pd.DataFrame({'levels': ['l1'], \n",
    "                                    'mean_absolute_error': [0.14238176570382063]})\n",
    "    expected_predictions = pd.DataFrame(\n",
    "                               data = np.array([[0.64371728, 0.36845896, 0.91248693],\n",
    "                                                [0.47208179, 0.19871058, 0.74002421],\n",
    "                                                [0.52132498, 0.24592578, 0.78440458],\n",
    "                                                [0.3685079 , 0.09324957, 0.63727755],\n",
    "                                                [0.42192697, 0.14855575, 0.68986939],\n",
    "                                                [0.46785602, 0.19245683, 0.73093562],\n",
    "                                                [0.61543694, 0.34017861, 0.88420659],\n",
    "                                                [0.41627752, 0.14290631, 0.68421995],\n",
    "                                                [0.4765156 , 0.20111641, 0.7395952 ],\n",
    "                                                [0.65858347, 0.38332514, 0.92735312],\n",
    "                                                [0.49986428, 0.22649307, 0.7678067 ],\n",
    "                                                [0.51750994, 0.24211075, 0.78058954]]),\n",
    "                               columns = ['l1', 'l1_lower_bound', 'l1_upper_bound'],\n",
    "                               index = np.arange(38, 50)\n",
    "                           )\n",
    "                                   \n",
    "    pd.testing.assert_frame_equal(expected_metric, metrics_levels)\n",
    "    pd.testing.assert_frame_equal(expected_predictions, backtest_predictions)\n",
    "\n",
    "\n",
    "def test_output_backtesting_forecaster_multiseries_ForecasterAutoregMultiSeries_refit_fixed_train_size_exog_interval_with_mocked():\n",
    "    \"\"\"\n",
    "    Test output of backtesting_forecaster_multiseries in ForecasterAutoregMultiSeries with refit and fixed_train_size\n",
    "    with mocked using exog and intervals (mocked done in Skforecast v0.5.0).\n",
    "    \"\"\"\n",
    "\n",
    "    forecaster = ForecasterAutoregMultiSeries(\n",
    "                    regressor = Ridge(random_state=123),\n",
    "                    lags      = 2\n",
    "                 )\n",
    "\n",
    "    steps = 3\n",
    "    n_validation = 12\n",
    "\n",
    "    metrics_levels, backtest_predictions = backtesting_forecaster_multiseries(\n",
    "                                               forecaster          = forecaster,\n",
    "                                               series              = series,\n",
    "                                               steps               = steps,\n",
    "                                               levels              = 'l1',\n",
    "                                               metric              = 'mean_absolute_error',\n",
    "                                               initial_train_size  = len(series) - n_validation,\n",
    "                                               refit               = True,\n",
    "                                               fixed_train_size    = True,\n",
    "                                               exog                = series['l1'].rename('exog_1'),\n",
    "                                               interval            = [5, 95],\n",
    "                                               n_boot              = 500,\n",
    "                                               random_state        = 123,\n",
    "                                               in_sample_residuals = True,\n",
    "                                               verbose             = False\n",
    "                                           )\n",
    "    \n",
    "    expected_metric = pd.DataFrame({'levels': ['l1'], \n",
    "                                    'mean_absolute_error': [0.1509587543248219]})\n",
    "    expected_predictions = pd.DataFrame(\n",
    "                               data = np.array([[0.64371728, 0.36845896, 0.91248693],\n",
    "                                                [0.47208179, 0.19871058, 0.74002421],\n",
    "                                                [0.52132498, 0.24592578, 0.78440458],\n",
    "                                                [0.38179014, 0.15353798, 0.65675721],\n",
    "                                                [0.43343713, 0.19888319, 0.70802106],\n",
    "                                                [0.4695322 , 0.18716947, 0.74043601],\n",
    "                                                [0.57891069, 0.31913315, 0.84636925],\n",
    "                                                [0.41212578, 0.15090397, 0.69394422],\n",
    "                                                [0.46851038, 0.20736343, 0.76349422],\n",
    "                                                [0.63190066, 0.35803673, 0.90303047],\n",
    "                                                [0.49132695, 0.21857874, 0.78112082],\n",
    "                                                [0.51665452, 0.26139311, 0.80879351]]),\n",
    "                               columns = ['l1', 'l1_lower_bound', 'l1_upper_bound'],\n",
    "                               index = np.arange(38, 50)\n",
    "                           )\n",
    "                                   \n",
    "    pd.testing.assert_frame_equal(expected_metric, metrics_levels)\n",
    "    pd.testing.assert_frame_equal(expected_predictions, backtest_predictions)"
   ]
  },
  {
   "cell_type": "code",
   "execution_count": 2,
   "metadata": {},
   "outputs": [],
   "source": [
    "import re\n",
    "import pytest\n",
    "import numpy as np\n",
    "import pandas as pd\n",
    "from skforecast.ForecasterAutoregDirect import ForecasterAutoregDirect\n",
    "from sklearn.linear_model import LinearRegression\n",
    "from sklearn.preprocessing import StandardScaler"
   ]
  },
  {
   "cell_type": "code",
   "execution_count": 6,
   "metadata": {},
   "outputs": [
    {
     "name": "stdout",
     "output_type": "stream",
     "text": [
      "[ 972  838  999 1150  129  663 1073 1129  958 1096  980  402   47 1042\n",
      "  369  127 1093 1173  222  696 1087  448  690 1061  205  623  828  268\n",
      "   92  225  955  338 1068  489  939  113 1092  238  322 1194    8  702\n",
      "  465  578  748   91  610  669    7  966 1095  306  342  491  537  329\n",
      "  758  815  245 1067  492  648  382  312  414  484    3  219  615  692\n",
      "  788  100  742  807  494 1112  861 1018  486  867   56  128  813  796\n",
      "  791 1006    6 1090  862  889  515   82  858  592 1088  827  108  768\n",
      "  701  586 1078  123  528  729  653   48  868  720   76  680   58  792\n",
      "  292  806  562  594 1075  415   22  399  995  293 1184  310  141  326\n",
      " 1034  309  303  377  114  555  668 1052  611 1099  603  722 1139  531\n",
      " 1167  474  220 1025  434  724 1137  126  532  214  897  697  336  659\n",
      " 1152  463  831   19  341  994  971  761  624  946  348  819 1081  413\n",
      "  608 1059   25 1181  783  355  488  930  544  534  424  340  706  297\n",
      "  784 1191  710 1028  856 1019  160  358   38  254  950  808  860  482\n",
      "  385  194  332  941  937  163  313  945  363  909  270  799  631  106\n",
      "  840  632  903  480  713  614  265  709  387  781   93  444 1072  870\n",
      " 1069  217   94  583 1175  162  918  350  400  540  766  885  485 1101\n",
      "  479  688  523  396  180  445  988 1135  699 1047  820  428   97 1118\n",
      "  389  558  983  970  672  715  691  636  274 1030  845  361  601  801\n",
      " 1125 1115  927  913  552 1008  732  968  376  775   53  319  320 1158\n",
      "  987 1023  731  124  109  196   16  992  745  398  779  899  259  493\n",
      "  255  247  609  339  598  851  280  181  560 1011 1146  944  438  904\n",
      " 1064  616  767  150  883  984 1022  427  805  435  368  269 1134  553\n",
      " 1122  916  155  287  362  590  191  604 1116 1174 1089  873 1107  568\n",
      "  111  226  906  924  800  751   29  675 1048  961  797  496  814 1005\n",
      "  905  744  893  145  749  122 1177  718  107  633 1084  571  685  872\n",
      "  420  676  154 1182  391  450  379  206 1012   14  149  381  232 1102\n",
      "  803  746  763 1033  239  846 1053  786  449  501  678   77  192   99\n",
      "  839  417  708  741  471  233  795  602  647  812  102  346  168  159\n",
      "  618  422  455   45  725  535  171  881  351  170  896  158  993  990\n",
      "  776  727  375 1117 1189  383  467  224  262  352  923  683  137  120\n",
      "  673  580  421   95  863 1170  223  543  572  714  644  910  161  760\n",
      " 1086  782  649    5 1161  190  557  172  687  721  266  432  251 1190\n",
      "  103   52  875  738  166  378 1187  476  822  759  308  412  859  324\n",
      "  405  584  331   39  736  963  541  547  921  249  804 1071  926  834\n",
      "  911 1076  263 1058  242  925  221  977  567  165  451   27  410  640\n",
      "  416  985  830 1098  891  593  507  645  865   59 1176  477  974  300\n",
      "   96 1091   28  880  579   32  617  470  258  404  425 1168 1065 1024\n",
      "   41  388  473  901  879 1123  848  752  605 1127 1140  538  582  153\n",
      "  370 1074  979 1105  734 1036  895  657  411  498  769   62 1162  157\n",
      " 1119  700  756  409  457  563  556 1054  521 1144  954  847  112  178\n",
      " 1147  842  169  932  698  938  431  392  207  502  117  505  347  200\n",
      "  131 1159  345 1001  575  772  468    4  201   85  384  802 1043 1103\n",
      "  677  967  315   36  321  144 1155  452  661 1051  386  716  490 1143\n",
      "  554  235  148  462  929  844 1097 1169  658  227  343  197  453    2\n",
      "   24  589  495  959   98 1055  282  119  289  750   17  328  707 1133\n",
      "  360 1014  253  175 1165  942  215  512  330  960  276  964 1041  423\n",
      "  256  294  316    1  478  957 1094   83  823  104  671  240  723   87\n",
      "  179  134  333 1100  607  638   54 1040  843  447  627  430  419  252\n",
      "  989  887  529  774  142  951   46  140  550  483  943  185  577  654\n",
      "  629  882 1038   33  940 1066  520  441 1029  542  469  174  318 1021\n",
      "  275  367  837  986  433  719  878  237  978  459  164   44  585  115\n",
      "  548  527  466  969  517  841   40  525  917  825  743  656  947  695\n",
      "   64  229  298  403   78 1056  886  888  305  193   13  364  949   75\n",
      " 1130   73  665   23  244 1002  998  621  606 1109  418  472 1120 1185\n",
      "  514 1160  461  526  186   80   84  850   79   69  464 1060  311  246\n",
      "  730  625 1010 1046  236   90  753  824  401  199  956  335  965  771\n",
      "  195 1179  372   10  209  908  481  139  777  652 1121  105  475   68\n",
      "  380  152  278   12 1183  443  228  439  996  156  712  261 1007  549\n",
      "   55  651  705  314  854  130  530  460  273  686  522  267  793  634\n",
      "  874  876  125  503 1154  290  188  739  536  353  506  138  299  395\n",
      " 1110  397  787 1171  765  991 1080  914  704  146  900  810  635  257\n",
      "  726   11  655   70  817  976 1108 1009  454  948 1027  151  890 1172\n",
      "    9  852  147  436 1128  323  857   50  920   34  393  836  641  821\n",
      "  325 1193 1164  513 1157  666  116 1070  588  184 1004  497 1082  735\n",
      "  747  694  853  740  922  173  241   20  564  717  524  213 1138  684\n",
      "  794  936  773  569   72  933  778  279   65  912   81  301  884  637\n",
      "  789 1196 1148    0   67  218 1188  953  365  143  596  682 1113   88\n",
      "  426 1003  670  286  500  780  646  573  570   43 1045 1111 1149  595\n",
      " 1083  504 1114  565  349  499  866  561  177  456  877 1163 1195  620\n",
      " 1153 1035   63  833  264  952  566  855 1166 1178  442   71 1063  931\n",
      "  997  133   66  643 1079  703]\n",
      "[   0    1    2    3    4    5    6    7    8    9  972  838  999 1150\n",
      "  129  663 1073 1129  958 1096  980  402   47 1042  369  127 1093 1173\n",
      "  222  696 1087  448  690 1061  205  623  828  268   92  225  955  338\n",
      " 1068  489  939  113 1092  238  322 1194    8  702  465  578  748   91\n",
      "  610  669    7  966 1095  306  342  491  537  329  758  815  245 1067\n",
      "  492  648  382  312  414  484    3  219  615  692  788  100  742  807\n",
      "  494 1112  861 1018  486  867   56  128  813  796  791 1006    6 1090\n",
      "  862  889  515   82  858  592 1088  827  108  768  701  586 1078  123\n",
      "  528  729  653   48  868  720   76  680   58  792  292  806  562  594\n",
      " 1075  415   22  399  995  293 1184  310  141  326 1034  309  303  377\n",
      "  114  555  668 1052  611 1099  603  722 1139  531 1167  474  220 1025\n",
      "  434  724 1137  126  532  214  897  697  336  659 1152  463  831   19\n",
      "  341  994  971  761  624  946  348  819 1081  413  608 1059   25 1181\n",
      "  783  355  488  930  544  534  424  340  706  297  784 1191  710 1028\n",
      "  856 1019  160  358   38  254  950  808  860  482  385  194  332  941\n",
      "  937  163  313  945  363  909  270  799  631  106  840  632  903  480\n",
      "  713  614  265  709  387  781   93  444 1072  870 1069  217   94  583\n",
      " 1175  162  918  350  400  540  766  885  485 1101  479  688  523  396\n",
      "  180  445  988 1135  699 1047  820  428   97 1118  389  558  983  970\n",
      "  672  715  691  636  274 1030  845  361  601  801 1125 1115  927  913\n",
      "  552 1008  732  968  376  775   53  319  320 1158  987 1023  731  124\n",
      "  109  196   16  992  745  398  779  899  259  493  255  247  609  339\n",
      "  598  851  280  181  560 1011 1146  944  438  904 1064  616  767  150\n",
      "  883  984 1022  427  805  435  368  269 1134  553 1122  916  155  287\n",
      "  362  590  191  604 1116 1174 1089  873 1107  568  111  226  906  924\n",
      "  800  751   29  675 1048  961  797  496  814 1005  905  744  893  145\n",
      "  749  122 1177  718  107  633 1084  571  685  872  420  676  154 1182\n",
      "  391  450  379  206 1012   14  149  381  232 1102  803  746  763 1033\n",
      "  239  846 1053  786  449  501  678   77  192   99  839  417  708  741\n",
      "  471  233  795  602  647  812  102  346  168  159  618  422  455   45\n",
      "  725  535  171  881  351  170  896  158  993  990  776  727  375 1117\n",
      " 1189  383  467  224  262  352  923  683  137  120  673  580  421   95\n",
      "  863 1170  223  543  572  714  644  910  161  760 1086  782  649    5\n",
      " 1161  190  557  172  687  721  266  432  251 1190  103   52  875  738\n",
      "  166  378 1187  476  822  759  308  412  859  324  405  584  331   39\n",
      "  736  963  541  547  921  249  804 1071  926  834  911 1076  263 1058\n",
      "  242  925  221  977  567  165  451   27  410  640  416  985  830 1098\n",
      "  891  593  507  645  865   59 1176  477  974  300   96 1091   28  880\n",
      "  579   32  617  470  258  404  425 1168 1065 1024   41  388  473  901\n",
      "  879 1123  848  752  605 1127 1140  538  582  153  370 1074  979 1105\n",
      "  734 1036  895  657  411  498  769   62 1162  157 1119  700  756  409\n",
      "  457  563  556 1054  521 1144  954  847  112  178 1147  842  169  932\n",
      "  698  938  431  392  207  502  117  505  347  200  131 1159  345 1001\n",
      "  575  772  468    4  201   85  384  802 1043 1103  677  967  315   36\n",
      "  321  144 1155  452  661 1051  386  716  490 1143  554  235  148  462\n",
      "  929  844 1097 1169  658  227  343  197  453    2   24  589  495  959\n",
      "   98 1055  282  119  289  750   17  328  707 1133  360 1014  253  175\n",
      " 1165  942  215  512  330  960  276  964 1041  423  256  294  316    1\n",
      "  478  957 1094   83  823  104  671  240  723   87  179  134  333 1100\n",
      "  607  638   54 1040  843  447  627  430  419  252  989  887  529  774\n",
      "  142  951   46  140  550  483  943  185  577  654  629  882 1038   33\n",
      "  940 1066  520  441 1029  542  469  174  318 1021  275  367  837  986\n",
      "  433  719  878  237  978  459  164   44  585  115  548  527  466  969\n",
      "  517  841   40  525  917  825  743  656  947  695   64  229  298  403\n",
      "   78 1056  886  888  305  193   13  364  949   75 1130   73  665   23\n",
      "  244 1002  998  621  606 1109  418  472 1120 1185  514 1160  461  526\n",
      "  186   80   84  850   79   69  464 1060  311  246  730  625 1010 1046\n",
      "  236   90  753  824  401  199  956  335  965  771  195 1179  372   10\n",
      "  209  908  481  139  777  652 1121  105  475   68  380  152  278   12\n",
      " 1183  443  228  439  996  156  712  261 1007  549   55  651  705  314\n",
      "  854  130  530  460  273  686  522  267  793  634  874  876  125  503\n",
      " 1154  290  188  739  536  353  506  138  299  395 1110  397  787 1171\n",
      "  765  991 1080  914  704  146  900  810  635  257  726   11  655   70\n",
      "  817  976 1108 1009  454  948 1027  151  890 1172    9  852  147  436\n",
      " 1128  323  857   50  920   34  393  836  641  821  325 1193 1164  513\n",
      " 1157  666  116 1070  588  184 1004  497 1082  735  747  694  853  740\n",
      "  922  173  241   20  564  717  524  213 1138  684  794  936  773  569\n",
      "   72  933  778  279   65  912   81  301  884  637  789 1196 1148    0\n",
      "   67  218 1188  953  365  143  596  682 1113   88  426 1003  670  286\n",
      "  500  780  646  573  570   43 1045 1111 1149  595 1083  504 1114  565\n",
      "  349  499  866  561  177  456  877 1163 1195  620 1153 1035   63  833\n",
      "  264  952  566  855 1166 1178]\n",
      "[ 972  838  999 1150  129  663 1073 1129  958 1096  980  402   47 1042\n",
      "  369  127 1093 1173  222  696 1087  448  690 1061  205  623  828  268\n",
      "   92  225  955  338 1068  489  939  113 1092  238  322 1194    8  702\n",
      "  465  578  748   91  610  669    7  966 1095  306  342  491  537  329\n",
      "  758  815  245 1067  492  648  382  312  414  484    3  219  615  692\n",
      "  788  100  742  807  494 1112  861 1018  486  867   56  128  813  796\n",
      "  791 1006    6 1090  862  889  515   82  858  592 1088  827  108  768\n",
      "  701  586 1078  123  528  729  653   48  868  720   76  680   58  792\n",
      "  292  806  562  594 1075  415   22  399  995  293 1184  310  141  326\n",
      " 1034  309  303  377  114  555  668 1052  611 1099  603  722 1139  531\n",
      " 1167  474  220 1025  434  724 1137  126  532  214  897  697  336  659\n",
      " 1152  463  831   19  341  994  971  761  624  946  348  819 1081  413\n",
      "  608 1059   25 1181  783  355  488  930  544  534  424  340  706  297\n",
      "  784 1191  710 1028  856 1019  160  358   38  254  950  808  860  482\n",
      "  385  194  332  941  937  163  313  945  363  909  270  799  631  106\n",
      "  840  632  903  480  713  614  265  709  387  781   93  444 1072  870\n",
      " 1069  217   94  583 1175  162  918  350  400  540  766  885  485 1101\n",
      "  479  688  523  396  180  445  988 1135  699 1047  820  428   97 1118\n",
      "  389  558  983  970  672  715  691  636  274 1030  845  361  601  801\n",
      " 1125 1115  927  913  552 1008  732  968  376  775   53  319  320 1158\n",
      "  987 1023  731  124  109  196   16  992  745  398  779  899  259  493\n",
      "  255  247  609  339  598  851  280  181  560 1011 1146  944  438  904\n",
      " 1064  616  767  150  883  984 1022  427  805  435  368  269 1134  553\n",
      " 1122  916  155  287  362  590  191  604 1116 1174 1089  873 1107  568\n",
      "  111  226  906  924  800  751   29  675 1048  961  797  496  814 1005\n",
      "  905  744  893  145  749  122 1177  718  107  633 1084  571  685  872\n",
      "  420  676  154 1182  391  450  379  206 1012   14  149  381  232 1102\n",
      "  803  746  763 1033  239  846 1053  786  449  501  678   77  192   99\n",
      "  839  417  708  741  471  233  795  602  647  812  102  346  168  159\n",
      "  618  422  455   45  725  535  171  881  351  170  896  158  993  990\n",
      "  776  727  375 1117 1189  383  467  224  262  352  923  683  137  120\n",
      "  673  580  421   95  863 1170  223  543  572  714  644  910  161  760\n",
      " 1086  782  649    5 1161  190  557  172  687  721  266  432  251 1190\n",
      "  103   52  875  738  166  378 1187  476  822  759  308  412  859  324\n",
      "  405  584  331   39  736  963  541  547  921  249  804 1071  926  834\n",
      "  911 1076  263 1058  242  925  221  977  567  165  451   27  410  640\n",
      "  416  985  830 1098  891  593  507  645  865   59 1176  477  974  300\n",
      "   96 1091   28  880  579   32  617  470  258  404  425 1168 1065 1024\n",
      "   41  388  473  901  879 1123  848  752  605 1127 1140  538  582  153\n",
      "  370 1074  979 1105  734 1036  895  657  411  498  769   62 1162  157\n",
      " 1119  700  756  409  457  563  556 1054  521 1144  954  847  112  178\n",
      " 1147  842  169  932  698  938  431  392  207  502  117  505  347  200\n",
      "  131 1159  345 1001  575  772  468    4  201   85  384  802 1043 1103\n",
      "  677  967  315   36  321  144 1155  452  661 1051  386  716  490 1143\n",
      "  554  235  148  462  929  844 1097 1169  658  227  343  197  453    2\n",
      "   24  589  495  959   98 1055  282  119  289  750   17  328  707 1133\n",
      "  360 1014  253  175 1165  942  215  512  330  960  276  964 1041  423\n",
      "  256  294  316    1  478  957 1094   83  823  104  671  240  723   87\n",
      "  179  134  333 1100  607  638   54 1040  843  447  627  430  419  252\n",
      "  989  887  529  774  142  951   46  140  550  483  943  185  577  654\n",
      "  629  882 1038   33  940 1066  520  441 1029  542  469  174  318 1021\n",
      "  275  367  837  986  433  719  878  237  978  459  164   44  585  115\n",
      "  548  527  466  969  517  841   40  525  917  825  743  656  947  695\n",
      "   64  229  298  403   78 1056  886  888  305  193   13  364  949   75\n",
      " 1130   73  665   23  244 1002  998  621  606 1109  418  472 1120 1185\n",
      "  514 1160  461  526  186   80   84  850   79   69  464 1060  311  246\n",
      "  730  625 1010 1046  236   90  753  824  401  199  956  335  965  771\n",
      "  195 1179  372   10  209  908  481  139  777  652 1121  105  475   68\n",
      "  380  152  278   12 1183  443  228  439  996  156  712  261 1007  549\n",
      "   55  651  705  314  854  130  530  460  273  686  522  267  793  634\n",
      "  874  876  125  503 1154  290  188  739  536  353  506  138  299  395\n",
      " 1110  397  787 1171  765  991 1080  914  704  146  900  810  635  257\n",
      "  726   11  655   70  817  976 1108 1009  454  948 1027  151  890 1172\n",
      "    9  852  147  436 1128  323  857   50  920   34  393  836  641  821\n",
      "  325 1193 1164  513 1157  666  116 1070  588  184 1004  497 1082  735\n",
      "  747  694  853  740  922  173  241   20  564  717  524  213 1138  684\n",
      "  794  936  773  569   72  933  778  279   65  912   81  301  884  637\n",
      "  789 1196 1148    0   67  218 1188  953  365  143  596  682 1113   88\n",
      "  426 1003  670  286  500  780  646  573  570   43 1045 1111 1149  595\n",
      " 1083  504 1114  565  349  499  866  561  177  456  877 1163 1195  620\n",
      " 1153 1035   63  833  264  952  566  855 1166 1178  442   71 1063  931\n",
      "  997  133   66  643 1079  703]\n",
      "[   0    1    2    3    4    5    6    7    8    9  972  838  999 1150\n",
      "  129  663 1073 1129  958 1096  980  402   47 1042  369  127 1093 1173\n",
      "  222  696 1087  448  690 1061  205  623  828  268   92  225  955  338\n",
      " 1068  489  939  113 1092  238  322 1194    8  702  465  578  748   91\n",
      "  610  669    7  966 1095  306  342  491  537  329  758  815  245 1067\n",
      "  492  648  382  312  414  484    3  219  615  692  788  100  742  807\n",
      "  494 1112  861 1018  486  867   56  128  813  796  791 1006    6 1090\n",
      "  862  889  515   82  858  592 1088  827  108  768  701  586 1078  123\n",
      "  528  729  653   48  868  720   76  680   58  792  292  806  562  594\n",
      " 1075  415   22  399  995  293 1184  310  141  326 1034  309  303  377\n",
      "  114  555  668 1052  611 1099  603  722 1139  531 1167  474  220 1025\n",
      "  434  724 1137  126  532  214  897  697  336  659 1152  463  831   19\n",
      "  341  994  971  761  624  946  348  819 1081  413  608 1059   25 1181\n",
      "  783  355  488  930  544  534  424  340  706  297  784 1191  710 1028\n",
      "  856 1019  160  358   38  254  950  808  860  482  385  194  332  941\n",
      "  937  163  313  945  363  909  270  799  631  106  840  632  903  480\n",
      "  713  614  265  709  387  781   93  444 1072  870 1069  217   94  583\n",
      " 1175  162  918  350  400  540  766  885  485 1101  479  688  523  396\n",
      "  180  445  988 1135  699 1047  820  428   97 1118  389  558  983  970\n",
      "  672  715  691  636  274 1030  845  361  601  801 1125 1115  927  913\n",
      "  552 1008  732  968  376  775   53  319  320 1158  987 1023  731  124\n",
      "  109  196   16  992  745  398  779  899  259  493  255  247  609  339\n",
      "  598  851  280  181  560 1011 1146  944  438  904 1064  616  767  150\n",
      "  883  984 1022  427  805  435  368  269 1134  553 1122  916  155  287\n",
      "  362  590  191  604 1116 1174 1089  873 1107  568  111  226  906  924\n",
      "  800  751   29  675 1048  961  797  496  814 1005  905  744  893  145\n",
      "  749  122 1177  718  107  633 1084  571  685  872  420  676  154 1182\n",
      "  391  450  379  206 1012   14  149  381  232 1102  803  746  763 1033\n",
      "  239  846 1053  786  449  501  678   77  192   99  839  417  708  741\n",
      "  471  233  795  602  647  812  102  346  168  159  618  422  455   45\n",
      "  725  535  171  881  351  170  896  158  993  990  776  727  375 1117\n",
      " 1189  383  467  224  262  352  923  683  137  120  673  580  421   95\n",
      "  863 1170  223  543  572  714  644  910  161  760 1086  782  649    5\n",
      " 1161  190  557  172  687  721  266  432  251 1190  103   52  875  738\n",
      "  166  378 1187  476  822  759  308  412  859  324  405  584  331   39\n",
      "  736  963  541  547  921  249  804 1071  926  834  911 1076  263 1058\n",
      "  242  925  221  977  567  165  451   27  410  640  416  985  830 1098\n",
      "  891  593  507  645  865   59 1176  477  974  300   96 1091   28  880\n",
      "  579   32  617  470  258  404  425 1168 1065 1024   41  388  473  901\n",
      "  879 1123  848  752  605 1127 1140  538  582  153  370 1074  979 1105\n",
      "  734 1036  895  657  411  498  769   62 1162  157 1119  700  756  409\n",
      "  457  563  556 1054  521 1144  954  847  112  178 1147  842  169  932\n",
      "  698  938  431  392  207  502  117  505  347  200  131 1159  345 1001\n",
      "  575  772  468    4  201   85  384  802 1043 1103  677  967  315   36\n",
      "  321  144 1155  452  661 1051  386  716  490 1143  554  235  148  462\n",
      "  929  844 1097 1169  658  227  343  197  453    2   24  589  495  959\n",
      "   98 1055  282  119  289  750   17  328  707 1133  360 1014  253  175\n",
      " 1165  942  215  512  330  960  276  964 1041  423  256  294  316    1\n",
      "  478  957 1094   83  823  104  671  240  723   87  179  134  333 1100\n",
      "  607  638   54 1040  843  447  627  430  419  252  989  887  529  774\n",
      "  142  951   46  140  550  483  943  185  577  654  629  882 1038   33\n",
      "  940 1066  520  441 1029  542  469  174  318 1021  275  367  837  986\n",
      "  433  719  878  237  978  459  164   44  585  115  548  527  466  969\n",
      "  517  841   40  525  917  825  743  656  947  695   64  229  298  403\n",
      "   78 1056  886  888  305  193   13  364  949   75 1130   73  665   23\n",
      "  244 1002  998  621  606 1109  418  472 1120 1185  514 1160  461  526\n",
      "  186   80   84  850   79   69  464 1060  311  246  730  625 1010 1046\n",
      "  236   90  753  824  401  199  956  335  965  771  195 1179  372   10\n",
      "  209  908  481  139  777  652 1121  105  475   68  380  152  278   12\n",
      " 1183  443  228  439  996  156  712  261 1007  549   55  651  705  314\n",
      "  854  130  530  460  273  686  522  267  793  634  874  876  125  503\n",
      " 1154  290  188  739  536  353  506  138  299  395 1110  397  787 1171\n",
      "  765  991 1080  914  704  146  900  810  635  257  726   11  655   70\n",
      "  817  976 1108 1009  454  948 1027  151  890 1172    9  852  147  436\n",
      " 1128  323  857   50  920   34  393  836  641  821  325 1193 1164  513\n",
      " 1157  666  116 1070  588  184 1004  497 1082  735  747  694  853  740\n",
      "  922  173  241   20  564  717  524  213 1138  684  794  936  773  569\n",
      "   72  933  778  279   65  912   81  301  884  637  789 1196 1148    0\n",
      "   67  218 1188  953  365  143  596  682 1113   88  426 1003  670  286\n",
      "  500  780  646  573  570   43 1045 1111 1149  595 1083  504 1114  565\n",
      "  349  499  866  561  177  456  877 1163 1195  620 1153 1035   63  833\n",
      "  264  952  566  855 1166 1178]\n"
     ]
    }
   ],
   "source": [
    "forecaster = ForecasterAutoregDirect(LinearRegression(fit_intercept=True), lags=3, steps=2)\n",
    "residuals = {1: np.arange(10), 2: np.arange(10)}\n",
    "residuals_2 = {1: np.arange(1200), 2: np.arange(1200)}\n",
    "forecaster.set_out_sample_residuals(residuals = residuals)\n",
    "forecaster.set_out_sample_residuals(residuals = residuals_2,\n",
    "                                    append    = True)"
   ]
  },
  {
   "cell_type": "code",
   "execution_count": 2,
   "metadata": {},
   "outputs": [],
   "source": [
    "################################################################################\n",
    "#                            ForecasterAutoreg                                 #\n",
    "#                                                                              #\n",
    "# This work by Joaquin Amat Rodrigo and Javier Escobar Ortiz is licensed       #\n",
    "# under a Creative Commons Attribution 4.0 International License.              #\n",
    "################################################################################\n",
    "# coding=utf-8\n",
    "\n",
    "from typing import Union, Dict, List, Tuple, Any, Optional\n",
    "import warnings\n",
    "import logging\n",
    "import sys\n",
    "import numpy as np\n",
    "import pandas as pd\n",
    "from sklearn.base import clone\n",
    "import pmdarima\n",
    "from pmdarima.arima import ARIMA\n",
    "\n",
    "import skforecast\n",
    "from skforecast.utils import initialize_lags\n",
    "from skforecast.utils import check_y\n",
    "from skforecast.utils import check_exog\n",
    "from skforecast.utils import preprocess_y\n",
    "from skforecast.utils import preprocess_last_window\n",
    "from skforecast.utils import preprocess_exog\n",
    "from skforecast.utils import expand_index\n",
    "from skforecast.utils import check_predict_input\n",
    "from skforecast.utils import transform_series\n",
    "from skforecast.utils import transform_dataframe\n",
    "\n",
    "logging.basicConfig(\n",
    "    format = '%(name)-10s %(levelname)-5s %(message)s', \n",
    "    level  = logging.INFO,\n",
    ")"
   ]
  },
  {
   "cell_type": "code",
   "execution_count": 3,
   "metadata": {},
   "outputs": [],
   "source": [
    "from skforecast.ForecasterSarimax import ForecasterSarimax\n",
    "from skforecast.ForecasterAutoreg import ForecasterAutoreg\n",
    "from sklearn.linear_model import Ridge\n",
    "import re\n",
    "import pytest\n",
    "from pmdarima.arima import ARIMA\n",
    "from sklearn.compose import ColumnTransformer\n",
    "from sklearn.preprocessing import StandardScaler\n",
    "from sklearn.preprocessing import OneHotEncoder"
   ]
  },
  {
   "cell_type": "code",
   "execution_count": 105,
   "metadata": {},
   "outputs": [
    {
     "data": {
      "text/plain": [
       "{'maxiter': 50,\n",
       " 'method': 'lbfgs',\n",
       " 'order': (2, 2, 2),\n",
       " 'out_of_sample_size': 0,\n",
       " 'scoring': 'mse',\n",
       " 'scoring_args': None,\n",
       " 'seasonal_order': (1, 1, 1, 2),\n",
       " 'start_params': None,\n",
       " 'suppress_warnings': False,\n",
       " 'trend': None,\n",
       " 'with_intercept': True}"
      ]
     },
     "execution_count": 105,
     "metadata": {},
     "output_type": "execute_result"
    }
   ],
   "source": [
    "forecaster = ForecasterSarimax(\n",
    "                regressor = ARIMA(order=(2,2,2), seasonal_order=(1,1,1,2))\n",
    "            )\n",
    "\n",
    "forecaster.regressor.get_params(deep=True)"
   ]
  },
  {
   "cell_type": "code",
   "execution_count": 4,
   "metadata": {},
   "outputs": [
    {
     "data": {
      "text/html": [
       "<div>\n",
       "<style scoped>\n",
       "    .dataframe tbody tr th:only-of-type {\n",
       "        vertical-align: middle;\n",
       "    }\n",
       "\n",
       "    .dataframe tbody tr th {\n",
       "        vertical-align: top;\n",
       "    }\n",
       "\n",
       "    .dataframe thead th {\n",
       "        text-align: right;\n",
       "    }\n",
       "</style>\n",
       "<table border=\"1\" class=\"dataframe\">\n",
       "  <thead>\n",
       "    <tr style=\"text-align: right;\">\n",
       "      <th></th>\n",
       "      <th>y</th>\n",
       "      <th>exog_1</th>\n",
       "      <th>exog_2</th>\n",
       "    </tr>\n",
       "    <tr>\n",
       "      <th>date</th>\n",
       "      <th></th>\n",
       "      <th></th>\n",
       "      <th></th>\n",
       "    </tr>\n",
       "  </thead>\n",
       "  <tbody>\n",
       "    <tr>\n",
       "      <th>1992-04-01</th>\n",
       "      <td>0.379808</td>\n",
       "      <td>0.958792</td>\n",
       "      <td>1.166029</td>\n",
       "    </tr>\n",
       "    <tr>\n",
       "      <th>1992-05-01</th>\n",
       "      <td>0.361801</td>\n",
       "      <td>0.951993</td>\n",
       "      <td>1.117859</td>\n",
       "    </tr>\n",
       "    <tr>\n",
       "      <th>1992-06-01</th>\n",
       "      <td>0.410534</td>\n",
       "      <td>0.952955</td>\n",
       "      <td>1.067942</td>\n",
       "    </tr>\n",
       "    <tr>\n",
       "      <th>1992-07-01</th>\n",
       "      <td>0.483389</td>\n",
       "      <td>0.958078</td>\n",
       "      <td>1.097376</td>\n",
       "    </tr>\n",
       "    <tr>\n",
       "      <th>1992-08-01</th>\n",
       "      <td>0.475463</td>\n",
       "      <td>0.956370</td>\n",
       "      <td>1.122199</td>\n",
       "    </tr>\n",
       "  </tbody>\n",
       "</table>\n",
       "</div>"
      ],
      "text/plain": [
       "                   y    exog_1    exog_2\n",
       "date                                    \n",
       "1992-04-01  0.379808  0.958792  1.166029\n",
       "1992-05-01  0.361801  0.951993  1.117859\n",
       "1992-06-01  0.410534  0.952955  1.067942\n",
       "1992-07-01  0.483389  0.958078  1.097376\n",
       "1992-08-01  0.475463  0.956370  1.122199"
      ]
     },
     "metadata": {},
     "output_type": "display_data"
    },
    {
     "name": "stdout",
     "output_type": "stream",
     "text": [
      "Train dates : 1992-04-01 00:00:00 --- 2005-06-01 00:00:00  (n=159)\n",
      "Test dates  : 2005-07-01 00:00:00 --- 2008-06-01 00:00:00  (n=36)\n"
     ]
    }
   ],
   "source": [
    "# Data download\n",
    "# ==============================================================================\n",
    "url = 'https://raw.githubusercontent.com/JoaquinAmatRodrigo/skforecast/master/data/h2o_exog.csv'\n",
    "data = pd.read_csv(url, sep=',')\n",
    "\n",
    "# Data preparation\n",
    "# ==============================================================================\n",
    "data = data.rename(columns={'fecha': 'date'})\n",
    "data['date'] = pd.to_datetime(data['date'], format='%Y/%m/%d')\n",
    "data = data.set_index('date')\n",
    "data = data.rename(columns={'x': 'y'})\n",
    "data = data.asfreq('MS')\n",
    "data = data.sort_index()\n",
    "display(data.head())\n",
    "\n",
    "# Split data into train-test\n",
    "# ==============================================================================\n",
    "steps = 36\n",
    "data_train = data[:-steps]\n",
    "data_test  = data[-steps:]\n",
    "\n",
    "print(f\"Train dates : {data_train.index.min()} --- {data_train.index.max()}  (n={len(data_train)})\")\n",
    "print(f\"Test dates  : {data_test.index.min()} --- {data_test.index.max()}  (n={len(data_test)})\")"
   ]
  },
  {
   "cell_type": "code",
   "execution_count": 6,
   "metadata": {},
   "outputs": [],
   "source": [
    "# Fixtures\n",
    "y = pd.Series(\n",
    "        data = np.array([0.69646919, 0.28613933, 0.22685145, 0.55131477, 0.71946897,\n",
    "                         0.42310646, 0.9807642 , 0.68482974, 0.4809319 , 0.39211752,\n",
    "                         0.34317802, 0.72904971, 0.43857224, 0.0596779 , 0.39804426,\n",
    "                         0.73799541, 0.18249173, 0.17545176, 0.53155137, 0.53182759,\n",
    "                         0.63440096, 0.84943179, 0.72445532, 0.61102351, 0.72244338,\n",
    "                         0.32295891, 0.36178866, 0.22826323, 0.29371405, 0.63097612,\n",
    "                         0.09210494, 0.43370117, 0.43086276, 0.4936851 , 0.42583029,\n",
    "                         0.31226122, 0.42635131, 0.89338916, 0.94416002, 0.50183668,\n",
    "                         0.62395295, 0.1156184 , 0.31728548, 0.41482621, 0.86630916,\n",
    "                         0.25045537, 0.48303426, 0.98555979, 0.51948512, 0.61289453]\n",
    "            ),\n",
    "        name = 'y'\n",
    "    )\n",
    "\n",
    "exog = pd.Series(\n",
    "           data = np.array([0.12062867, 0.8263408 , 0.60306013, 0.54506801, 0.34276383,\n",
    "                            0.30412079, 0.41702221, 0.68130077, 0.87545684, 0.51042234,\n",
    "                            0.66931378, 0.58593655, 0.6249035 , 0.67468905, 0.84234244,\n",
    "                            0.08319499, 0.76368284, 0.24366637, 0.19422296, 0.57245696,\n",
    "                            0.09571252, 0.88532683, 0.62724897, 0.72341636, 0.01612921,\n",
    "                            0.59443188, 0.55678519, 0.15895964, 0.15307052, 0.69552953,\n",
    "                            0.31876643, 0.6919703 , 0.55438325, 0.38895057, 0.92513249,\n",
    "                            0.84167   , 0.35739757, 0.04359146, 0.30476807, 0.39818568,\n",
    "                            0.70495883, 0.99535848, 0.35591487, 0.76254781, 0.59317692,\n",
    "                            0.6917018 , 0.15112745, 0.39887629, 0.2408559 , 0.34345601]\n",
    "               ),\n",
    "           name = 'exog'\n",
    "       )\n"
   ]
  },
  {
   "cell_type": "code",
   "execution_count": 6,
   "metadata": {},
   "outputs": [],
   "source": [
    "y_datetime = pd.Series(data=list(y))\n",
    "y_datetime.index = pd.date_range(start='2000', periods=50, freq='A')\n",
    "lw_datetime = pd.Series(data=list(y))\n",
    "lw_datetime.index = pd.date_range(start='2050', periods=50, freq='A')\n",
    "exog_datetime = pd.Series(data=list(exog))\n",
    "exog_datetime.index = pd.date_range(start='2000', periods=50, freq='A')\n",
    "lw_exog_datetime = pd.Series(data=list(exog))\n",
    "lw_exog_datetime.index = pd.date_range(start='2050', periods=50, freq='A')"
   ]
  },
  {
   "cell_type": "code",
   "execution_count": 38,
   "metadata": {},
   "outputs": [],
   "source": [
    "df_exog = pd.DataFrame({'exog_1': list(exog), 'exog_2': ['a']*25+['b']*25})\n",
    "df_exog.index = pd.date_range(start='2000', periods=50, freq='A')\n",
    "df_lw_exog = df_exog.copy()\n",
    "df_lw_exog.index = pd.date_range(start='2050', periods=50, freq='A')\n",
    "\n",
    "transformer_exog = ColumnTransformer(\n",
    "                        [('scale', StandardScaler(), ['exog_1']),\n",
    "                        ('onehot', OneHotEncoder(), ['exog_2'])],\n",
    "                        remainder = 'passthrough',\n",
    "                        verbose_feature_names_out = False\n",
    "                    )"
   ]
  },
  {
   "cell_type": "code",
   "execution_count": 120,
   "metadata": {},
   "outputs": [
    {
     "data": {
      "text/plain": [
       "[1, 2, 3, 4, 5, 6, 7, 8, 9, 10, 11, 12, 13, 14, 15, 16, 17, 18, 19, 20]"
      ]
     },
     "execution_count": 120,
     "metadata": {},
     "output_type": "execute_result"
    }
   ],
   "source": [
    "list(np.arange(20)+ 1)"
   ]
  },
  {
   "cell_type": "code",
   "execution_count": 60,
   "metadata": {},
   "outputs": [],
   "source": [
    "y_datetime = pd.Series(data=list(y))\n",
    "y_datetime.name = 'y'\n",
    "y_datetime.index = pd.date_range(start='2000', periods=50, freq='A')\n",
    "\n",
    "lw_datetime = pd.Series(data=list(y))\n",
    "lw_datetime.name = 'y'\n",
    "lw_datetime.index = pd.date_range(start='2050', periods=50, freq='A')"
   ]
  },
  {
   "cell_type": "code",
   "execution_count": 61,
   "metadata": {},
   "outputs": [
    {
     "data": {
      "text/plain": [
       "2000-12-31    0.696469\n",
       "2001-12-31    0.286139\n",
       "2002-12-31    0.226851\n",
       "2003-12-31    0.551315\n",
       "2004-12-31    0.719469\n",
       "Freq: A-DEC, Name: y, dtype: float64"
      ]
     },
     "execution_count": 61,
     "metadata": {},
     "output_type": "execute_result"
    }
   ],
   "source": [
    "y_datetime.head(5)"
   ]
  },
  {
   "cell_type": "code",
   "execution_count": 44,
   "metadata": {},
   "outputs": [
    {
     "data": {
      "text/plain": [
       "2050-12-31    0.696469\n",
       "2051-12-31    0.286139\n",
       "2052-12-31    0.226851\n",
       "2053-12-31    0.551315\n",
       "2054-12-31    0.719469\n",
       "Freq: A-DEC, Name: y, dtype: float64"
      ]
     },
     "execution_count": 44,
     "metadata": {},
     "output_type": "execute_result"
    }
   ],
   "source": [
    "lw_datetime.head(5)"
   ]
  },
  {
   "cell_type": "code",
   "execution_count": 70,
   "metadata": {},
   "outputs": [
    {
     "name": "stdout",
     "output_type": "stream",
     "text": [
      "2000-12-31    0.696469\n",
      "2001-12-31    0.286139\n",
      "2002-12-31    0.226851\n",
      "2003-12-31    0.551315\n",
      "2004-12-31    0.719469\n",
      "Freq: A-DEC, Name: y, dtype: float64\n"
     ]
    }
   ],
   "source": [
    "np.random.seed(123)\n",
    "y_datetime = pd.Series(data=np.random.rand(50))\n",
    "y_datetime.name = 'y'\n",
    "y_datetime.index = pd.date_range(start='2000', periods=50, freq='A')\n",
    "print(y_datetime.head(5))"
   ]
  },
  {
   "cell_type": "code",
   "execution_count": 74,
   "metadata": {},
   "outputs": [
    {
     "name": "stdout",
     "output_type": "stream",
     "text": [
      "-----\n",
      "numpy               1.23.5\n",
      "pandas              1.4.0\n",
      "pmdarima            2.0.2\n",
      "pytest              7.1.2\n",
      "session_info        1.0.0\n",
      "skforecast          0.7.dev\n",
      "sklearn             1.1.0\n",
      "statsmodels         0.13.5\n",
      "-----\n",
      "IPython             8.5.0\n",
      "jupyter_client      7.3.5\n",
      "jupyter_core        4.11.1\n",
      "notebook            6.4.12\n",
      "-----\n",
      "Python 3.9.13 (main, Aug 25 2022, 23:51:50) [MSC v.1916 64 bit (AMD64)]\n",
      "Windows-10-10.0.19042-SP0\n",
      "-----\n",
      "Session information updated at 2023-01-09 12:08\n"
     ]
    }
   ],
   "source": [
    "import session_info\n",
    "\n",
    "session_info.show(html=False)"
   ]
  },
  {
   "cell_type": "code",
   "execution_count": 68,
   "metadata": {},
   "outputs": [
    {
     "name": "stdout",
     "output_type": "stream",
     "text": [
      "2000-12-31    0.696469\n",
      "2001-12-31    0.286139\n",
      "2002-12-31    0.226851\n",
      "2003-12-31    0.551315\n",
      "2004-12-31    0.719469\n",
      "Freq: A-DEC, Name: y, dtype: float64\n",
      "2000-12-31    0.696469\n",
      "2001-12-31    0.286139\n",
      "2002-12-31    0.226851\n",
      "2003-12-31    0.551315\n",
      "2004-12-31    0.719469\n",
      "Freq: A-DEC, Name: y, dtype: float64\n",
      "2000-12-31    0.696469\n",
      "2001-12-31    0.286139\n",
      "2002-12-31    0.226851\n",
      "2003-12-31    0.551315\n",
      "2004-12-31    0.719469\n",
      "Freq: A-DEC, Name: y, dtype: float64\n"
     ]
    }
   ],
   "source": [
    "from statsmodels.tsa.statespace.sarimax import SARIMAX\n",
    "\n",
    "mod = SARIMAX(endog=y_datetime, order=(1,1,1))\n",
    "print(y_datetime.head(5))\n",
    "res = mod.fit()\n",
    "print(y_datetime.head(5))\n",
    "print(res.model.data.orig_endog.head(5))\n",
    "\n",
    "# print(res.model.data.orig_endog)\n",
    "# print(res.forecast(5))\n",
    "# print(res.resid)\n",
    "\n",
    "new_res = res.append(lw_datetime, refit=False)\n",
    "# print(new_res.forecast(5))\n",
    "# print(new_res.resid)"
   ]
  },
  {
   "cell_type": "code",
   "execution_count": 72,
   "metadata": {},
   "outputs": [
    {
     "name": "stdout",
     "output_type": "stream",
     "text": [
      "2000-12-31    0.696469\n",
      "2001-12-31    0.286139\n",
      "2002-12-31    0.226851\n",
      "2003-12-31    0.551315\n",
      "2004-12-31    0.719469\n",
      "Freq: A-DEC, dtype: float64\n",
      "2000-12-31    0.696469\n",
      "2001-12-31    0.286139\n",
      "2002-12-31    0.226851\n",
      "2003-12-31    0.551315\n",
      "2004-12-31    0.719469\n",
      "Freq: A-DEC, dtype: float64\n"
     ]
    },
    {
     "ename": "ValueError",
     "evalue": "Columns must match to concatenate along rows.",
     "output_type": "error",
     "traceback": [
      "\u001b[1;31m---------------------------------------------------------------------------\u001b[0m",
      "\u001b[1;31mValueError\u001b[0m                                Traceback (most recent call last)",
      "Cell \u001b[1;32mIn [72], line 8\u001b[0m\n\u001b[0;32m      5\u001b[0m \u001b[39mprint\u001b[39m(modl\u001b[39m.\u001b[39marima_res_\u001b[39m.\u001b[39mmodel\u001b[39m.\u001b[39mdata\u001b[39m.\u001b[39morig_endog\u001b[39m.\u001b[39mhead(\u001b[39m5\u001b[39m))\n\u001b[0;32m      6\u001b[0m \u001b[39mprint\u001b[39m(res\u001b[39m.\u001b[39marima_res_\u001b[39m.\u001b[39mmodel\u001b[39m.\u001b[39mdata\u001b[39m.\u001b[39morig_endog\u001b[39m.\u001b[39mhead(\u001b[39m5\u001b[39m))\n\u001b[1;32m----> 8\u001b[0m modl\u001b[39m.\u001b[39marima_res_ \u001b[39m=\u001b[39m modl\u001b[39m.\u001b[39marima_res_\u001b[39m.\u001b[39mappend(lw_datetime, refit\u001b[39m=\u001b[39m\u001b[39mFalse\u001b[39;00m)\n",
      "File \u001b[1;32mc:\\Users\\jaesc2\\Miniconda3\\envs\\skforecast\\lib\\site-packages\\statsmodels\\tsa\\statespace\\mlemodel.py:4024\u001b[0m, in \u001b[0;36mMLEResults.append\u001b[1;34m(self, endog, exog, refit, fit_kwargs, copy_initialization, **kwargs)\u001b[0m\n\u001b[0;32m   4021\u001b[0m     _check_index(append_ix, endog, \u001b[39m'\u001b[39m\u001b[39m`endog`\u001b[39m\u001b[39m'\u001b[39m)\n\u001b[0;32m   4023\u001b[0m \u001b[39m# Concatenate the new data to original data\u001b[39;00m\n\u001b[1;32m-> 4024\u001b[0m new_endog \u001b[39m=\u001b[39m concat([\u001b[39mself\u001b[39;49m\u001b[39m.\u001b[39;49mmodel\u001b[39m.\u001b[39;49mdata\u001b[39m.\u001b[39;49morig_endog, endog], axis\u001b[39m=\u001b[39;49m\u001b[39m0\u001b[39;49m,\n\u001b[0;32m   4025\u001b[0m                    allow_mix\u001b[39m=\u001b[39;49m\u001b[39mTrue\u001b[39;49;00m)\n\u001b[0;32m   4027\u001b[0m \u001b[39m# Handle `exog`\u001b[39;00m\n\u001b[0;32m   4028\u001b[0m \u001b[39mif\u001b[39;00m exog \u001b[39mis\u001b[39;00m \u001b[39mnot\u001b[39;00m \u001b[39mNone\u001b[39;00m:\n",
      "File \u001b[1;32mc:\\Users\\jaesc2\\Miniconda3\\envs\\skforecast\\lib\\site-packages\\statsmodels\\tsa\\statespace\\tools.py:355\u001b[0m, in \u001b[0;36mconcat\u001b[1;34m(series, axis, allow_mix)\u001b[0m\n\u001b[0;32m    352\u001b[0m     s_columns \u001b[39m=\u001b[39m pd\u001b[39m.\u001b[39mIndex([s\u001b[39m.\u001b[39mname])\n\u001b[0;32m    354\u001b[0m \u001b[39mif\u001b[39;00m axis \u001b[39m==\u001b[39m \u001b[39m0\u001b[39m \u001b[39mand\u001b[39;00m \u001b[39mnot\u001b[39;00m base_columns\u001b[39m.\u001b[39mequals(s_columns):\n\u001b[1;32m--> 355\u001b[0m     \u001b[39mraise\u001b[39;00m \u001b[39mValueError\u001b[39;00m(\u001b[39m'\u001b[39m\u001b[39mColumns must match to concatenate along\u001b[39m\u001b[39m'\u001b[39m\n\u001b[0;32m    356\u001b[0m                      \u001b[39m'\u001b[39m\u001b[39m rows.\u001b[39m\u001b[39m'\u001b[39m)\n\u001b[0;32m    357\u001b[0m \u001b[39melif\u001b[39;00m axis \u001b[39m==\u001b[39m \u001b[39m1\u001b[39m \u001b[39mand\u001b[39;00m \u001b[39mnot\u001b[39;00m series[\u001b[39m0\u001b[39m]\u001b[39m.\u001b[39mindex\u001b[39m.\u001b[39mequals(s\u001b[39m.\u001b[39mindex):\n\u001b[0;32m    358\u001b[0m     \u001b[39mraise\u001b[39;00m \u001b[39mValueError\u001b[39;00m(\u001b[39m'\u001b[39m\u001b[39mIndex must match to concatenate along\u001b[39m\u001b[39m'\u001b[39m\n\u001b[0;32m    359\u001b[0m                      \u001b[39m'\u001b[39m\u001b[39m columns.\u001b[39m\u001b[39m'\u001b[39m)\n",
      "\u001b[1;31mValueError\u001b[0m: Columns must match to concatenate along rows."
     ]
    }
   ],
   "source": [
    "from pmdarima.arima import ARIMA\n",
    "\n",
    "modl = ARIMA(order=(1,1,1))\n",
    "res = modl.fit(y_datetime)\n",
    "print(modl.arima_res_.model.data.orig_endog.head(5))\n",
    "print(res.arima_res_.model.data.orig_endog.head(5))\n",
    "\n",
    "modl.arima_res_ = modl.arima_res_.append(lw_datetime, refit=False)\n"
   ]
  },
  {
   "cell_type": "code",
   "execution_count": 40,
   "metadata": {},
   "outputs": [
    {
     "name": "stdout",
     "output_type": "stream",
     "text": [
      "y\n",
      "2050-12-31    0.696469\n",
      "2051-12-31    0.286139\n",
      "2052-12-31    0.226851\n",
      "2053-12-31    0.551315\n",
      "2054-12-31    0.719469\n",
      "Freq: A-DEC, Name: y, dtype: float64\n",
      "y\n",
      "2050-12-31    0.837129\n",
      "2051-12-31   -0.927922\n",
      "2052-12-31   -1.182952\n",
      "2053-12-31    0.212741\n",
      "2054-12-31    0.936063\n",
      "Freq: A-DEC, dtype: float64\n",
      "0\n",
      "[1.0883760008461447, 0.9596655915602446, 1.0164563275894087, 1.0368122358153902, 1.0879339700749853]\n",
      "y\n",
      "2050-12-31    0.696469\n",
      "2051-12-31    0.286139\n",
      "2052-12-31    0.226851\n",
      "2053-12-31    0.551315\n",
      "2054-12-31    0.719469\n",
      "Freq: A-DEC, Name: y, dtype: float64\n",
      "y\n",
      "2050-12-31    0.837129\n",
      "2051-12-31   -0.927922\n",
      "2052-12-31   -1.182952\n",
      "2053-12-31    0.212741\n",
      "2054-12-31    0.936063\n",
      "Freq: A-DEC, dtype: float64\n",
      "0\n",
      "[1.1359948592023694, 1.0197787345609874, 1.0563186630823083, 1.0890821402058224, 1.1539621608480948]\n"
     ]
    },
    {
     "name": "stderr",
     "output_type": "stream",
     "text": [
      "c:\\Users\\jaesc2\\Miniconda3\\envs\\skforecast\\lib\\site-packages\\statsmodels\\base\\model.py:604: ConvergenceWarning: Maximum Likelihood optimization failed to converge. Check mle_retvals\n",
      "  warnings.warn(\"Maximum Likelihood optimization failed to \"\n"
     ]
    }
   ],
   "source": [
    "# pmdarima SARIMAX\n",
    "# =====================================================================================\n",
    "kwargs = {'order': (1,1,1), 'seasonal_order': (0,0,0,0)}\n",
    "forecaster = ForecasterSarimax(\n",
    "                regressor = ARIMA(**kwargs),\n",
    "                transformer_y    = StandardScaler(),\n",
    "                transformer_exog = transformer_exog\n",
    "            )\n",
    "forecaster.fit(y=y_datetime, exog=df_exog)\n",
    "# print(forecaster.regressor.arima_res_.model.exog_names)\n",
    "print([round(value, 16) for value in forecaster.predict(steps=5, exog=df_exog, last_window=lw_datetime, last_window_exog=df_lw_exog).values])\n",
    "\n",
    "kwargs = {'order': (1,1,1), 'seasonal_order': (1,1,1,2)}\n",
    "forecaster = ForecasterSarimax(\n",
    "                regressor = ARIMA(**kwargs),\n",
    "                transformer_y    = StandardScaler(),\n",
    "                transformer_exog = transformer_exog\n",
    "            )\n",
    "forecaster.fit(y=y_datetime, exog=df_exog)\n",
    "print([round(value, 16) for value in forecaster.predict(steps=5, exog=df_exog, last_window=lw_datetime, last_window_exog=df_lw_exog).values])"
   ]
  },
  {
   "cell_type": "code",
   "execution_count": 57,
   "metadata": {},
   "outputs": [
    {
     "name": "stdout",
     "output_type": "stream",
     "text": [
      "<class 'statsmodels.tsa.statespace.sarimax.SARIMAXResultsWrapper'>\n",
      "2000-12-31    0.696469\n",
      "2001-12-31    0.286139\n",
      "2002-12-31    0.226851\n",
      "2003-12-31    0.551315\n",
      "2004-12-31    0.719469\n",
      "2005-12-31    0.423106\n",
      "2006-12-31    0.980764\n",
      "2007-12-31    0.684830\n",
      "2008-12-31    0.480932\n",
      "2009-12-31    0.392118\n",
      "2010-12-31    0.343178\n",
      "2011-12-31    0.729050\n",
      "2012-12-31    0.438572\n",
      "2013-12-31    0.059678\n",
      "2014-12-31    0.398044\n",
      "2015-12-31    0.737995\n",
      "2016-12-31    0.182492\n",
      "2017-12-31    0.175452\n",
      "2018-12-31    0.531551\n",
      "2019-12-31    0.531828\n",
      "2020-12-31    0.634401\n",
      "2021-12-31    0.849432\n",
      "2022-12-31    0.724455\n",
      "2023-12-31    0.611024\n",
      "2024-12-31    0.722443\n",
      "2025-12-31    0.322959\n",
      "2026-12-31    0.361789\n",
      "2027-12-31    0.228263\n",
      "2028-12-31    0.293714\n",
      "2029-12-31    0.630976\n",
      "2030-12-31    0.092105\n",
      "2031-12-31    0.433701\n",
      "2032-12-31    0.430863\n",
      "2033-12-31    0.493685\n",
      "2034-12-31    0.425830\n",
      "2035-12-31    0.312261\n",
      "2036-12-31    0.426351\n",
      "2037-12-31    0.893389\n",
      "2038-12-31    0.944160\n",
      "2039-12-31    0.501837\n",
      "2040-12-31    0.623953\n",
      "2041-12-31    0.115618\n",
      "2042-12-31    0.317285\n",
      "2043-12-31    0.414826\n",
      "2044-12-31    0.866309\n",
      "2045-12-31    0.250455\n",
      "2046-12-31    0.483034\n",
      "2047-12-31    0.985560\n",
      "2048-12-31    0.519485\n",
      "2049-12-31    0.612895\n",
      "Freq: A-DEC, Name: y, dtype: float64\n"
     ]
    }
   ],
   "source": [
    "from statsmodels.tsa.statespace.sarimax import SARIMAX\n",
    "from statsmodels.tsa.arima.model import ARIMAResults\n",
    "np.random.seed(123)\n",
    "\n",
    "y_datetime = pd.Series(data=list(y))\n",
    "y_datetime.name = 'y'\n",
    "y_datetime.index = pd.date_range(start='2000', periods=50, freq='A')\n",
    "\n",
    "lw_datetime = pd.Series(data=list(y))\n",
    "lw_datetime.name = 'y'\n",
    "lw_datetime.index = pd.date_range(start='2050', periods=50, freq='A')\n",
    "\n",
    "mod = SARIMAX(endog=y_datetime, order=(1,1,1))\n",
    "res = mod.fit()\n",
    "print(type(res))\n",
    "\n",
    "print(res.model.data.orig_endog)\n",
    "# print(res.forecast(5))\n",
    "# print(res.resid)\n",
    "\n",
    "# new_res = res.append(lw_datetime, refit=False)\n",
    "# print(new_res.forecast(5))\n",
    "# print(new_res.resid)"
   ]
  },
  {
   "cell_type": "code",
   "execution_count": 13,
   "metadata": {},
   "outputs": [
    {
     "ename": "ValueError",
     "evalue": "Forecaster trained with exogenous variable/s. Same variable/s must be provided in `predict()`.",
     "output_type": "error",
     "traceback": [
      "\u001b[1;31m---------------------------------------------------------------------------\u001b[0m",
      "\u001b[1;31mValueError\u001b[0m                                Traceback (most recent call last)",
      "Cell \u001b[1;32mIn [13], line 1\u001b[0m\n\u001b[1;32m----> 1\u001b[0m forecaster\u001b[39m.\u001b[39mpredict(steps\u001b[39m=\u001b[39m\u001b[39m5\u001b[39m, last_window\u001b[39m=\u001b[39mlw_datetime)\n",
      "File \u001b[1;32mc:\\Users\\jaesc2\\GitHub\\skforecast\\skforecast\\ForecasterSarimax\\ForecasterSarimax.py:311\u001b[0m, in \u001b[0;36mForecasterSarimax.predict\u001b[1;34m(self, steps, last_window, last_window_exog, exog)\u001b[0m\n\u001b[0;32m    270\u001b[0m \u001b[39mdef\u001b[39;00m \u001b[39mpredict\u001b[39m(\n\u001b[0;32m    271\u001b[0m     \u001b[39mself\u001b[39m,\n\u001b[0;32m    272\u001b[0m     steps: \u001b[39mint\u001b[39m,\n\u001b[1;32m   (...)\u001b[0m\n\u001b[0;32m    275\u001b[0m     exog: Optional[Union[pd\u001b[39m.\u001b[39mSeries, pd\u001b[39m.\u001b[39mDataFrame]]\u001b[39m=\u001b[39m\u001b[39mNone\u001b[39;00m\n\u001b[0;32m    276\u001b[0m ) \u001b[39m-\u001b[39m\u001b[39m>\u001b[39m pd\u001b[39m.\u001b[39mSeries:\n\u001b[0;32m    277\u001b[0m     \u001b[39m\"\"\"\u001b[39;00m\n\u001b[0;32m    278\u001b[0m \u001b[39m    Forecast future values\u001b[39;00m\n\u001b[0;32m    279\u001b[0m \n\u001b[1;32m   (...)\u001b[0m\n\u001b[0;32m    308\u001b[0m \u001b[39m        \u001b[39;00m\n\u001b[0;32m    309\u001b[0m \u001b[39m    \"\"\"\u001b[39;00m\n\u001b[1;32m--> 311\u001b[0m     check_predict_input(\n\u001b[0;32m    312\u001b[0m         forecaster_type  \u001b[39m=\u001b[39;49m \u001b[39mtype\u001b[39;49m(\u001b[39mself\u001b[39;49m)\u001b[39m.\u001b[39;49m\u001b[39m__name__\u001b[39;49m,\n\u001b[0;32m    313\u001b[0m         steps            \u001b[39m=\u001b[39;49m steps,\n\u001b[0;32m    314\u001b[0m         fitted           \u001b[39m=\u001b[39;49m \u001b[39mself\u001b[39;49m\u001b[39m.\u001b[39;49mfitted,\n\u001b[0;32m    315\u001b[0m         included_exog    \u001b[39m=\u001b[39;49m \u001b[39mself\u001b[39;49m\u001b[39m.\u001b[39;49mincluded_exog,\n\u001b[0;32m    316\u001b[0m         index_type       \u001b[39m=\u001b[39;49m \u001b[39mself\u001b[39;49m\u001b[39m.\u001b[39;49mindex_type,\n\u001b[0;32m    317\u001b[0m         index_freq       \u001b[39m=\u001b[39;49m \u001b[39mself\u001b[39;49m\u001b[39m.\u001b[39;49mindex_freq,\n\u001b[0;32m    318\u001b[0m         window_size      \u001b[39m=\u001b[39;49m \u001b[39mself\u001b[39;49m\u001b[39m.\u001b[39;49mwindow_size,\n\u001b[0;32m    319\u001b[0m         last_window      \u001b[39m=\u001b[39;49m last_window,\n\u001b[0;32m    320\u001b[0m         last_window_exog \u001b[39m=\u001b[39;49m last_window_exog,\n\u001b[0;32m    321\u001b[0m         exog             \u001b[39m=\u001b[39;49m exog,\n\u001b[0;32m    322\u001b[0m         exog_type        \u001b[39m=\u001b[39;49m \u001b[39mself\u001b[39;49m\u001b[39m.\u001b[39;49mexog_type,\n\u001b[0;32m    323\u001b[0m         exog_col_names   \u001b[39m=\u001b[39;49m \u001b[39mself\u001b[39;49m\u001b[39m.\u001b[39;49mexog_col_names,\n\u001b[0;32m    324\u001b[0m         interval         \u001b[39m=\u001b[39;49m \u001b[39mNone\u001b[39;49;00m,\n\u001b[0;32m    325\u001b[0m         alpha            \u001b[39m=\u001b[39;49m \u001b[39mNone\u001b[39;49;00m,\n\u001b[0;32m    326\u001b[0m         max_steps        \u001b[39m=\u001b[39;49m \u001b[39mNone\u001b[39;49;00m,\n\u001b[0;32m    327\u001b[0m         levels           \u001b[39m=\u001b[39;49m \u001b[39mNone\u001b[39;49;00m,\n\u001b[0;32m    328\u001b[0m         series_col_names \u001b[39m=\u001b[39;49m \u001b[39mNone\u001b[39;49;00m\n\u001b[0;32m    329\u001b[0m     )\n\u001b[0;32m    331\u001b[0m     \u001b[39mif\u001b[39;00m last_window \u001b[39mis\u001b[39;00m \u001b[39mnot\u001b[39;00m \u001b[39mNone\u001b[39;00m:\n\u001b[0;32m    332\u001b[0m         \u001b[39m# If predictions do not follow directly from the end of the training \u001b[39;00m\n\u001b[0;32m    333\u001b[0m         \u001b[39m# data. The internal statsmodels SARIMAX model needs to be updated \u001b[39;00m\n\u001b[1;32m   (...)\u001b[0m\n\u001b[0;32m    336\u001b[0m \n\u001b[0;32m    337\u001b[0m         \u001b[39m# check index last_window\u001b[39;00m\n\u001b[0;32m    338\u001b[0m         expected_index \u001b[39m=\u001b[39m expand_index(\u001b[39mself\u001b[39m\u001b[39m.\u001b[39mlast_window\u001b[39m.\u001b[39mindex, \u001b[39m1\u001b[39m)[\u001b[39m0\u001b[39m]\n",
      "File \u001b[1;32mc:\\Users\\jaesc2\\GitHub\\skforecast\\skforecast\\utils\\utils.py:412\u001b[0m, in \u001b[0;36mcheck_predict_input\u001b[1;34m(forecaster_type, steps, fitted, included_exog, index_type, index_freq, window_size, last_window, last_window_exog, exog, exog_type, exog_col_names, interval, alpha, max_steps, levels, series_col_names)\u001b[0m\n\u001b[0;32m    407\u001b[0m         \u001b[39mraise\u001b[39;00m \u001b[39mValueError\u001b[39;00m(\n\u001b[0;32m    408\u001b[0m             \u001b[39mf\u001b[39m\u001b[39m'\u001b[39m\u001b[39m`levels` must be in `series_col_names` : \u001b[39m\u001b[39m{\u001b[39;00mseries_col_names\u001b[39m}\u001b[39;00m\u001b[39m.\u001b[39m\u001b[39m'\u001b[39m\n\u001b[0;32m    409\u001b[0m         )\n\u001b[0;32m    411\u001b[0m \u001b[39mif\u001b[39;00m exog \u001b[39mis\u001b[39;00m \u001b[39mNone\u001b[39;00m \u001b[39mand\u001b[39;00m included_exog:\n\u001b[1;32m--> 412\u001b[0m     \u001b[39mraise\u001b[39;00m \u001b[39mValueError\u001b[39;00m(\n\u001b[0;32m    413\u001b[0m         (\u001b[39m'\u001b[39m\u001b[39mForecaster trained with exogenous variable/s. \u001b[39m\u001b[39m'\u001b[39m\n\u001b[0;32m    414\u001b[0m          \u001b[39m'\u001b[39m\u001b[39mSame variable/s must be provided in `predict()`.\u001b[39m\u001b[39m'\u001b[39m)\n\u001b[0;32m    415\u001b[0m     )\n\u001b[0;32m    417\u001b[0m \u001b[39mif\u001b[39;00m exog \u001b[39mis\u001b[39;00m \u001b[39mnot\u001b[39;00m \u001b[39mNone\u001b[39;00m \u001b[39mand\u001b[39;00m \u001b[39mnot\u001b[39;00m included_exog:\n\u001b[0;32m    418\u001b[0m     \u001b[39mraise\u001b[39;00m \u001b[39mValueError\u001b[39;00m(\n\u001b[0;32m    419\u001b[0m         (\u001b[39m'\u001b[39m\u001b[39mForecaster trained without exogenous variable/s. \u001b[39m\u001b[39m'\u001b[39m\n\u001b[0;32m    420\u001b[0m          \u001b[39m'\u001b[39m\u001b[39m`exog` must be `None` in `predict()`.\u001b[39m\u001b[39m'\u001b[39m)\n\u001b[0;32m    421\u001b[0m     )\n",
      "\u001b[1;31mValueError\u001b[0m: Forecaster trained with exogenous variable/s. Same variable/s must be provided in `predict()`."
     ]
    }
   ],
   "source": [
    "forecaster.predict(steps=5, last_window=lw_datetime)"
   ]
  },
  {
   "cell_type": "code",
   "execution_count": 7,
   "metadata": {},
   "outputs": [
    {
     "name": "stdout",
     "output_type": "stream",
     "text": [
      "[0.9084670377251036, 0.7647883047064794, 0.8203336846873355, 0.8405859799961493, 0.8916990937197793]\n",
      "[1.0095544323406163, 0.8707230817689734, 0.925811215455429, 0.9522848237323704, 1.0168960034047383]\n"
     ]
    },
    {
     "name": "stderr",
     "output_type": "stream",
     "text": [
      "c:\\Users\\jaesc2\\Miniconda3\\envs\\skforecast\\lib\\site-packages\\statsmodels\\base\\model.py:604: ConvergenceWarning: Maximum Likelihood optimization failed to converge. Check mle_retvals\n",
      "  warnings.warn(\"Maximum Likelihood optimization failed to \"\n"
     ]
    }
   ],
   "source": [
    "df_exog = pd.DataFrame({\n",
    "                'exog_1': exog,\n",
    "                'exog_2': ['a']*25+['b']*25}\n",
    "            )\n",
    "transformer_exog = ColumnTransformer(\n",
    "                        [('scale', StandardScaler(), ['exog_1']),\n",
    "                        ('onehot', OneHotEncoder(), ['exog_2'])],\n",
    "                        remainder = 'passthrough',\n",
    "                        verbose_feature_names_out = False\n",
    "                    )\n",
    "\n",
    "kwargs = {'order': (1,1,1), 'seasonal_order': (0,0,0,0)}\n",
    "forecaster = ForecasterSarimax(\n",
    "                regressor = ARIMA(**kwargs),\n",
    "                transformer_y    = StandardScaler(),\n",
    "                transformer_exog = transformer_exog\n",
    "            )\n",
    "forecaster.fit(y=y, exog=df_exog)\n",
    "print([round(value, 16) for value in forecaster.predict(steps=5, exog=df_exog).values])\n",
    "\n",
    "kwargs = {'order': (1,1,1), 'seasonal_order': (1,1,1,2)}\n",
    "forecaster = ForecasterSarimax(\n",
    "                regressor = ARIMA(**kwargs),\n",
    "                transformer_y    = StandardScaler(),\n",
    "                transformer_exog = transformer_exog\n",
    "            )\n",
    "forecaster.fit(y=y, exog=df_exog)\n",
    "print([round(value, 16) for value in forecaster.predict(steps=5, exog=df_exog).values])"
   ]
  },
  {
   "cell_type": "code",
   "execution_count": 8,
   "metadata": {},
   "outputs": [
    {
     "data": {
      "text/plain": [
       "array([0.53566226, 0.5235128 , 0.5220779 , 0.52240695, 0.52302639])"
      ]
     },
     "execution_count": 8,
     "metadata": {},
     "output_type": "execute_result"
    }
   ],
   "source": [
    "# pmdarima SARIMAX\n",
    "# =====================================================================================\n",
    "forecaster = ForecasterSarimax(\n",
    "                regressor = ARIMA(order=(1,1,1))\n",
    "            )\n",
    "forecaster.fit(y=y)\n",
    "forecaster.predict(steps=5).values"
   ]
  },
  {
   "cell_type": "code",
   "execution_count": 9,
   "metadata": {},
   "outputs": [
    {
     "data": {
      "text/plain": [
       "array([0.64306902, 0.60507108, 0.63972942, 0.62851983, 0.66561887])"
      ]
     },
     "execution_count": 9,
     "metadata": {},
     "output_type": "execute_result"
    }
   ],
   "source": [
    "# pmdarima SARIMAX\n",
    "# =====================================================================================\n",
    "forecaster = ForecasterSarimax(\n",
    "                regressor = ARIMA(order=(1,1,1), seasonal_order=(1,1,1,2))\n",
    "            )\n",
    "forecaster.fit(y=y)\n",
    "forecaster.predict(steps=5).values"
   ]
  },
  {
   "cell_type": "code",
   "execution_count": 15,
   "metadata": {},
   "outputs": [
    {
     "name": "stdout",
     "output_type": "stream",
     "text": [
      "2022-01-01    0.696469\n",
      "2022-01-02    0.286139\n",
      "2022-01-03    0.226851\n",
      "2022-01-04    0.551315\n",
      "2022-01-05    0.719469\n",
      "Freq: D, Name: y, dtype: float64\n",
      "2022-01-01    0.696469\n",
      "2022-01-02    0.286139\n",
      "2022-01-03    0.226851\n",
      "2022-01-04    0.551315\n",
      "2022-01-05    0.719469\n",
      "Freq: D, Name: y, dtype: float64\n"
     ]
    },
    {
     "ename": "ValueError",
     "evalue": "To make predictions unrelated to the original data, `last_window_exog` has to start at the end of the training set.\n    Series last index              : 2022-02-19 00:00:00.\n    Expected index                 : 2022-02-20 00:00:00.\n    `last_window_exog` index start : 2022-03-01 00:00:00.",
     "output_type": "error",
     "traceback": [
      "\u001b[1;31m---------------------------------------------------------------------------\u001b[0m",
      "\u001b[1;31mValueError\u001b[0m                                Traceback (most recent call last)",
      "Cell \u001b[1;32mIn [15], line 12\u001b[0m\n\u001b[0;32m     10\u001b[0m forecaster \u001b[39m=\u001b[39m ForecasterSarimax(regressor\u001b[39m=\u001b[39m ARIMA(order\u001b[39m=\u001b[39m(\u001b[39m1\u001b[39m,\u001b[39m1\u001b[39m,\u001b[39m1\u001b[39m)))\n\u001b[0;32m     11\u001b[0m forecaster\u001b[39m.\u001b[39mfit(y\u001b[39m=\u001b[39my_datetime, exog\u001b[39m=\u001b[39mexog_datetime)\n\u001b[1;32m---> 12\u001b[0m forecaster\u001b[39m.\u001b[39mpredict(\u001b[39m5\u001b[39m, exog\u001b[39m=\u001b[39mexog_datetime, last_window\u001b[39m=\u001b[39mlw_datetime, last_window_exog\u001b[39m=\u001b[39mlw_exog_datetime)\n",
      "File \u001b[1;32mc:\\Users\\jaesc2\\GitHub\\skforecast\\skforecast\\ForecasterSarimax\\ForecasterSarimax.py:363\u001b[0m, in \u001b[0;36mForecasterSarimax.predict\u001b[1;34m(self, steps, last_window, last_window_exog, exog)\u001b[0m\n\u001b[0;32m    360\u001b[0m \u001b[39mif\u001b[39;00m last_window_exog \u001b[39mis\u001b[39;00m \u001b[39mnot\u001b[39;00m \u001b[39mNone\u001b[39;00m:\n\u001b[0;32m    361\u001b[0m     \u001b[39m# check index last_window_exog\u001b[39;00m\n\u001b[0;32m    362\u001b[0m     \u001b[39mif\u001b[39;00m expected_index \u001b[39m!=\u001b[39m last_window_exog\u001b[39m.\u001b[39mindex[\u001b[39m0\u001b[39m]:\n\u001b[1;32m--> 363\u001b[0m         \u001b[39mraise\u001b[39;00m \u001b[39mValueError\u001b[39;00m(\n\u001b[0;32m    364\u001b[0m             (\u001b[39mf\u001b[39m\u001b[39m'\u001b[39m\u001b[39mTo make predictions unrelated to the original data, `last_window_exog` \u001b[39m\u001b[39m'\u001b[39m\n\u001b[0;32m    365\u001b[0m              \u001b[39mf\u001b[39m\u001b[39m'\u001b[39m\u001b[39mhas to start at the end of the training set.\u001b[39m\u001b[39m\\n\u001b[39;00m\u001b[39m'\u001b[39m\n\u001b[0;32m    366\u001b[0m              \u001b[39mf\u001b[39m\u001b[39m'\u001b[39m\u001b[39m    Series last index              : \u001b[39m\u001b[39m{\u001b[39;00m\u001b[39mself\u001b[39m\u001b[39m.\u001b[39mlast_window\u001b[39m.\u001b[39mindex[\u001b[39m-\u001b[39m\u001b[39m1\u001b[39m]\u001b[39m}\u001b[39;00m\u001b[39m.\u001b[39m\u001b[39m\\n\u001b[39;00m\u001b[39m'\u001b[39m\n\u001b[0;32m    367\u001b[0m              \u001b[39mf\u001b[39m\u001b[39m'\u001b[39m\u001b[39m    Expected index                 : \u001b[39m\u001b[39m{\u001b[39;00mexpected_index\u001b[39m}\u001b[39;00m\u001b[39m.\u001b[39m\u001b[39m\\n\u001b[39;00m\u001b[39m'\u001b[39m\n\u001b[0;32m    368\u001b[0m              \u001b[39mf\u001b[39m\u001b[39m'\u001b[39m\u001b[39m    `last_window_exog` index start : \u001b[39m\u001b[39m{\u001b[39;00mlast_window_exog\u001b[39m.\u001b[39mindex[\u001b[39m0\u001b[39m]\u001b[39m}\u001b[39;00m\u001b[39m.\u001b[39m\u001b[39m'\u001b[39m)\n\u001b[0;32m    369\u001b[0m         )\n\u001b[0;32m    371\u001b[0m     \u001b[39mif\u001b[39;00m \u001b[39misinstance\u001b[39m(last_window_exog, pd\u001b[39m.\u001b[39mSeries):\n\u001b[0;32m    372\u001b[0m         \u001b[39m# pmdarima.arima.ARIMA only accepts DataFrames or 2d-arrays as exog \u001b[39;00m\n\u001b[0;32m    373\u001b[0m         last_window_exog \u001b[39m=\u001b[39m last_window_exog\u001b[39m.\u001b[39mto_frame(name\u001b[39m=\u001b[39mexog\u001b[39m.\u001b[39mname)\n",
      "\u001b[1;31mValueError\u001b[0m: To make predictions unrelated to the original data, `last_window_exog` has to start at the end of the training set.\n    Series last index              : 2022-02-19 00:00:00.\n    Expected index                 : 2022-02-20 00:00:00.\n    `last_window_exog` index start : 2022-03-01 00:00:00."
     ]
    }
   ],
   "source": [
    "y_datetime = pd.Series(data=y)\n",
    "y_datetime.index = pd.date_range(start='2022-01-01', periods=50)\n",
    "exog_datetime = pd.Series(data=exog)\n",
    "exog_datetime.index = pd.date_range(start='2022-01-01', periods=50)\n",
    "lw_datetime = pd.Series(data=np.random.rand(50))\n",
    "lw_datetime.index = pd.date_range(start='2022-02-20', periods=50)\n",
    "lw_exog_datetime = pd.Series(data=np.random.rand(50))\n",
    "lw_exog_datetime.index = pd.date_range(start='2022-03-01', periods=50)\n",
    "\n",
    "forecaster = ForecasterSarimax(regressor= ARIMA(order=(1,1,1)))\n",
    "forecaster.fit(y=y_datetime, exog=exog_datetime)\n",
    "forecaster.predict(5, exog=exog_datetime, last_window=lw_datetime, last_window_exog=lw_exog_datetime)"
   ]
  },
  {
   "cell_type": "code",
   "execution_count": 94,
   "metadata": {},
   "outputs": [
    {
     "name": "stdout",
     "output_type": "stream",
     "text": [
      "2022-01-01    0.696469\n",
      "2022-01-02    0.286139\n",
      "2022-01-03    0.226851\n",
      "2022-01-04    0.551315\n",
      "2022-01-05    0.719469\n",
      "2022-01-06    0.423106\n",
      "2022-01-07    0.980764\n",
      "2022-01-08    0.684830\n",
      "2022-01-09    0.480932\n",
      "2022-01-10    0.392118\n",
      "2022-01-11    0.343178\n",
      "2022-01-12    0.729050\n",
      "2022-01-13    0.438572\n",
      "2022-01-14    0.059678\n",
      "2022-01-15    0.398044\n",
      "2022-01-16    0.737995\n",
      "2022-01-17    0.182492\n",
      "2022-01-18    0.175452\n",
      "2022-01-19    0.531551\n",
      "2022-01-20    0.531828\n",
      "2022-01-21    0.634401\n",
      "2022-01-22    0.849432\n",
      "2022-01-23    0.724455\n",
      "2022-01-24    0.611024\n",
      "2022-01-25    0.722443\n",
      "2022-01-26    0.322959\n",
      "2022-01-27    0.361789\n",
      "2022-01-28    0.228263\n",
      "2022-01-29    0.293714\n",
      "2022-01-30    0.630976\n",
      "2022-01-31    0.092105\n",
      "2022-02-01    0.433701\n",
      "2022-02-02    0.430863\n",
      "2022-02-03    0.493685\n",
      "2022-02-04    0.425830\n",
      "2022-02-05    0.312261\n",
      "2022-02-06    0.426351\n",
      "2022-02-07    0.893389\n",
      "2022-02-08    0.944160\n",
      "2022-02-09    0.501837\n",
      "2022-02-10    0.623953\n",
      "2022-02-11    0.115618\n",
      "2022-02-12    0.317285\n",
      "2022-02-13    0.414826\n",
      "2022-02-14    0.866309\n",
      "2022-02-15    0.250455\n",
      "2022-02-16    0.483034\n",
      "2022-02-17    0.985560\n",
      "2022-02-18    0.519485\n",
      "2022-02-19    0.612895\n",
      "Freq: D, Name: y, dtype: float64\n",
      "2022-01-01    0.696469\n",
      "2022-01-02    0.286139\n",
      "2022-01-03    0.226851\n",
      "2022-01-04    0.551315\n",
      "2022-01-05    0.719469\n",
      "2022-01-06    0.423106\n",
      "2022-01-07    0.980764\n",
      "2022-01-08    0.684830\n",
      "2022-01-09    0.480932\n",
      "2022-01-10    0.392118\n",
      "2022-01-11    0.343178\n",
      "2022-01-12    0.729050\n",
      "2022-01-13    0.438572\n",
      "2022-01-14    0.059678\n",
      "2022-01-15    0.398044\n",
      "2022-01-16    0.737995\n",
      "2022-01-17    0.182492\n",
      "2022-01-18    0.175452\n",
      "2022-01-19    0.531551\n",
      "2022-01-20    0.531828\n",
      "2022-01-21    0.634401\n",
      "2022-01-22    0.849432\n",
      "2022-01-23    0.724455\n",
      "2022-01-24    0.611024\n",
      "2022-01-25    0.722443\n",
      "2022-01-26    0.322959\n",
      "2022-01-27    0.361789\n",
      "2022-01-28    0.228263\n",
      "2022-01-29    0.293714\n",
      "2022-01-30    0.630976\n",
      "2022-01-31    0.092105\n",
      "2022-02-01    0.433701\n",
      "2022-02-02    0.430863\n",
      "2022-02-03    0.493685\n",
      "2022-02-04    0.425830\n",
      "2022-02-05    0.312261\n",
      "2022-02-06    0.426351\n",
      "2022-02-07    0.893389\n",
      "2022-02-08    0.944160\n",
      "2022-02-09    0.501837\n",
      "2022-02-10    0.623953\n",
      "2022-02-11    0.115618\n",
      "2022-02-12    0.317285\n",
      "2022-02-13    0.414826\n",
      "2022-02-14    0.866309\n",
      "2022-02-15    0.250455\n",
      "2022-02-16    0.483034\n",
      "2022-02-17    0.985560\n",
      "2022-02-18    0.519485\n",
      "2022-02-19    0.612895\n",
      "Freq: D, Name: y, dtype: float64\n"
     ]
    },
    {
     "name": "stderr",
     "output_type": "stream",
     "text": [
      "c:\\Users\\jaesc2\\GitHub\\skforecast\\skforecast\\ForecasterSarimax\\ForecasterSarimax.py:251: FutureWarning: Explicitly passing `name=None` currently preserves the Series' name or uses a default name of 0. This behaviour is deprecated, and in the future `None` will be used as the name of the resulting DataFrame column.\n",
      "  exog = exog.to_frame(name=exog.name)\n"
     ]
    },
    {
     "ename": "ValueError",
     "evalue": "The indices for endog and exog are not aligned",
     "output_type": "error",
     "traceback": [
      "\u001b[1;31m---------------------------------------------------------------------------\u001b[0m",
      "\u001b[1;31mValueError\u001b[0m                                Traceback (most recent call last)",
      "Cell \u001b[1;32mIn [94], line 11\u001b[0m\n\u001b[0;32m      3\u001b[0m \u001b[39m# exog_datetime = pd.Series(data=list(exog) + list(exog))\u001b[39;00m\n\u001b[0;32m      4\u001b[0m \u001b[39m# exog_datetime.index = pd.date_range(start='2022-01-02', periods=100)\u001b[39;00m\n\u001b[0;32m      5\u001b[0m \u001b[39m# lw_datetime = pd.Series(data=y)\u001b[39;00m\n\u001b[0;32m      6\u001b[0m \u001b[39m# lw_datetime.index = pd.date_range(start='2022-02-20', periods=50)\u001b[39;00m\n\u001b[0;32m      7\u001b[0m \u001b[39m# lw_exog_datetime = pd.Series(data=exog)\u001b[39;00m\n\u001b[0;32m      8\u001b[0m \u001b[39m# lw_exog_datetime.index = pd.date_range(start='2022-03-01', periods=50)\u001b[39;00m\n\u001b[0;32m     10\u001b[0m forecaster \u001b[39m=\u001b[39m ForecasterSarimax(regressor\u001b[39m=\u001b[39m ARIMA(order\u001b[39m=\u001b[39m(\u001b[39m1\u001b[39m,\u001b[39m1\u001b[39m,\u001b[39m1\u001b[39m)))\n\u001b[1;32m---> 11\u001b[0m forecaster\u001b[39m.\u001b[39mfit(y\u001b[39m=\u001b[39my_datetime, exog\u001b[39m=\u001b[39mexog_datetime)\n\u001b[0;32m     12\u001b[0m expected_index \u001b[39m=\u001b[39m expand_index(forecaster\u001b[39m.\u001b[39mlast_window\u001b[39m.\u001b[39mindex, \u001b[39m1\u001b[39m)[\u001b[39m0\u001b[39m]\n\u001b[0;32m     14\u001b[0m err_msg \u001b[39m=\u001b[39m re\u001b[39m.\u001b[39mescape(\n\u001b[0;32m     15\u001b[0m     (\u001b[39mf\u001b[39m\u001b[39m'\u001b[39m\u001b[39mTo make predictions unrelated to the original data, `last_window_exog` \u001b[39m\u001b[39m'\u001b[39m\n\u001b[0;32m     16\u001b[0m         \u001b[39mf\u001b[39m\u001b[39m'\u001b[39m\u001b[39mhas to start at the end of the training set.\u001b[39m\u001b[39m\\n\u001b[39;00m\u001b[39m'\u001b[39m\n\u001b[1;32m   (...)\u001b[0m\n\u001b[0;32m     19\u001b[0m         \u001b[39mf\u001b[39m\u001b[39m'\u001b[39m\u001b[39m    `last_window_exog` index start : \u001b[39m\u001b[39m{\u001b[39;00mlw_exog_datetime\u001b[39m.\u001b[39mindex[\u001b[39m0\u001b[39m]\u001b[39m}\u001b[39;00m\u001b[39m.\u001b[39m\u001b[39m'\u001b[39m)\n\u001b[0;32m     20\u001b[0m )\n",
      "File \u001b[1;32mc:\\Users\\jaesc2\\GitHub\\skforecast\\skforecast\\ForecasterSarimax\\ForecasterSarimax.py:260\u001b[0m, in \u001b[0;36mForecasterSarimax.fit\u001b[1;34m(self, y, exog)\u001b[0m\n\u001b[0;32m    253\u001b[0m     exog \u001b[39m=\u001b[39m transform_dataframe(\n\u001b[0;32m    254\u001b[0m                df                \u001b[39m=\u001b[39m exog,\n\u001b[0;32m    255\u001b[0m                transformer       \u001b[39m=\u001b[39m \u001b[39mself\u001b[39m\u001b[39m.\u001b[39mtransformer_exog,\n\u001b[0;32m    256\u001b[0m                fit               \u001b[39m=\u001b[39m \u001b[39mTrue\u001b[39;00m,\n\u001b[0;32m    257\u001b[0m                inverse_transform \u001b[39m=\u001b[39m \u001b[39mFalse\u001b[39;00m\n\u001b[0;32m    258\u001b[0m            )\n\u001b[0;32m    259\u001b[0m \u001b[39mprint\u001b[39m(y)\n\u001b[1;32m--> 260\u001b[0m \u001b[39mself\u001b[39;49m\u001b[39m.\u001b[39;49mregressor\u001b[39m.\u001b[39;49mfit(y\u001b[39m=\u001b[39;49my, X\u001b[39m=\u001b[39;49mexog)\n\u001b[0;32m    261\u001b[0m \u001b[39mself\u001b[39m\u001b[39m.\u001b[39mfitted \u001b[39m=\u001b[39m \u001b[39mTrue\u001b[39;00m\n\u001b[0;32m    262\u001b[0m \u001b[39mself\u001b[39m\u001b[39m.\u001b[39mfit_date \u001b[39m=\u001b[39m pd\u001b[39m.\u001b[39mTimestamp\u001b[39m.\u001b[39mtoday()\u001b[39m.\u001b[39mstrftime(\u001b[39m'\u001b[39m\u001b[39m%\u001b[39m\u001b[39mY-\u001b[39m\u001b[39m%\u001b[39m\u001b[39mm-\u001b[39m\u001b[39m%d\u001b[39;00m\u001b[39m \u001b[39m\u001b[39m%\u001b[39m\u001b[39mH:\u001b[39m\u001b[39m%\u001b[39m\u001b[39mM:\u001b[39m\u001b[39m%\u001b[39m\u001b[39mS\u001b[39m\u001b[39m'\u001b[39m)\n",
      "File \u001b[1;32mc:\\Users\\jaesc2\\Miniconda3\\envs\\skforecast\\lib\\site-packages\\pmdarima\\arima\\arima.py:603\u001b[0m, in \u001b[0;36mARIMA.fit\u001b[1;34m(self, y, X, **fit_args)\u001b[0m\n\u001b[0;32m    600\u001b[0m         X \u001b[39m=\u001b[39m safe_indexing(X, \u001b[39mslice\u001b[39m(\u001b[39m0\u001b[39m, n_exog \u001b[39m-\u001b[39m cv))\n\u001b[0;32m    602\u001b[0m \u001b[39m# Internal call\u001b[39;00m\n\u001b[1;32m--> 603\u001b[0m \u001b[39mself\u001b[39m\u001b[39m.\u001b[39m_fit(y, X, \u001b[39m*\u001b[39m\u001b[39m*\u001b[39mfit_args)\n\u001b[0;32m    605\u001b[0m \u001b[39m# now make a forecast if we're validating to compute the\u001b[39;00m\n\u001b[0;32m    606\u001b[0m \u001b[39m# out-of-sample score\u001b[39;00m\n\u001b[0;32m    607\u001b[0m \u001b[39mif\u001b[39;00m cv_samples \u001b[39mis\u001b[39;00m \u001b[39mnot\u001b[39;00m \u001b[39mNone\u001b[39;00m:\n\u001b[0;32m    608\u001b[0m     \u001b[39m# get the predictions (use self.predict, which calls forecast\u001b[39;00m\n\u001b[0;32m    609\u001b[0m     \u001b[39m# from statsmodels internally)\u001b[39;00m\n",
      "File \u001b[1;32mc:\\Users\\jaesc2\\Miniconda3\\envs\\skforecast\\lib\\site-packages\\pmdarima\\arima\\arima.py:526\u001b[0m, in \u001b[0;36mARIMA._fit\u001b[1;34m(self, y, X, **fit_args)\u001b[0m\n\u001b[0;32m    524\u001b[0m         fit, \u001b[39mself\u001b[39m\u001b[39m.\u001b[39marima_res_ \u001b[39m=\u001b[39m _fit_wrapper()\n\u001b[0;32m    525\u001b[0m \u001b[39melse\u001b[39;00m:\n\u001b[1;32m--> 526\u001b[0m     fit, \u001b[39mself\u001b[39m\u001b[39m.\u001b[39marima_res_ \u001b[39m=\u001b[39m _fit_wrapper()\n\u001b[0;32m    528\u001b[0m \u001b[39m# Set df_model attribute for SARIMAXResults object\u001b[39;00m\n\u001b[0;32m    529\u001b[0m sm_compat\u001b[39m.\u001b[39mbind_df_model(fit, \u001b[39mself\u001b[39m\u001b[39m.\u001b[39marima_res_)\n",
      "File \u001b[1;32mc:\\Users\\jaesc2\\Miniconda3\\envs\\skforecast\\lib\\site-packages\\pmdarima\\arima\\arima.py:489\u001b[0m, in \u001b[0;36mARIMA._fit.<locals>._fit_wrapper\u001b[1;34m()\u001b[0m\n\u001b[0;32m    485\u001b[0m sarimax_kwargs \u001b[39m=\u001b[39m \\\n\u001b[0;32m    486\u001b[0m     {} \u001b[39mif\u001b[39;00m \u001b[39mnot\u001b[39;00m \u001b[39mself\u001b[39m\u001b[39m.\u001b[39msarimax_kwargs \u001b[39melse\u001b[39;00m \u001b[39mself\u001b[39m\u001b[39m.\u001b[39msarimax_kwargs\n\u001b[0;32m    487\u001b[0m seasonal_order \u001b[39m=\u001b[39m \\\n\u001b[0;32m    488\u001b[0m     sm_compat\u001b[39m.\u001b[39mcheck_seasonal_order(\u001b[39mself\u001b[39m\u001b[39m.\u001b[39mseasonal_order)\n\u001b[1;32m--> 489\u001b[0m arima \u001b[39m=\u001b[39m sm\u001b[39m.\u001b[39mtsa\u001b[39m.\u001b[39mstatespace\u001b[39m.\u001b[39mSARIMAX(\n\u001b[0;32m    490\u001b[0m     endog\u001b[39m=\u001b[39my, exog\u001b[39m=\u001b[39mX, order\u001b[39m=\u001b[39m\u001b[39mself\u001b[39m\u001b[39m.\u001b[39morder,\n\u001b[0;32m    491\u001b[0m     seasonal_order\u001b[39m=\u001b[39mseasonal_order,\n\u001b[0;32m    492\u001b[0m     trend\u001b[39m=\u001b[39mtrend,\n\u001b[0;32m    493\u001b[0m     \u001b[39m*\u001b[39m\u001b[39m*\u001b[39msarimax_kwargs)\n\u001b[0;32m    495\u001b[0m \u001b[39m# actually fit the model, now. If this was called from 'update',\u001b[39;00m\n\u001b[0;32m    496\u001b[0m \u001b[39m# give priority to start_params from the fit_args\u001b[39;00m\n\u001b[0;32m    497\u001b[0m start_params \u001b[39m=\u001b[39m fit_args\u001b[39m.\u001b[39mpop(\u001b[39m\"\u001b[39m\u001b[39mstart_params\u001b[39m\u001b[39m\"\u001b[39m, \u001b[39mself\u001b[39m\u001b[39m.\u001b[39mstart_params)\n",
      "File \u001b[1;32mc:\\Users\\jaesc2\\Miniconda3\\envs\\skforecast\\lib\\site-packages\\statsmodels\\tsa\\statespace\\sarimax.py:328\u001b[0m, in \u001b[0;36mSARIMAX.__init__\u001b[1;34m(self, endog, exog, order, seasonal_order, trend, measurement_error, time_varying_regression, mle_regression, simple_differencing, enforce_stationarity, enforce_invertibility, hamilton_representation, concentrate_scale, trend_offset, use_exact_diffuse, dates, freq, missing, validate_specification, **kwargs)\u001b[0m\n\u001b[0;32m    318\u001b[0m \u001b[39mdef\u001b[39;00m \u001b[39m__init__\u001b[39m(\u001b[39mself\u001b[39m, endog, exog\u001b[39m=\u001b[39m\u001b[39mNone\u001b[39;00m, order\u001b[39m=\u001b[39m(\u001b[39m1\u001b[39m, \u001b[39m0\u001b[39m, \u001b[39m0\u001b[39m),\n\u001b[0;32m    319\u001b[0m              seasonal_order\u001b[39m=\u001b[39m(\u001b[39m0\u001b[39m, \u001b[39m0\u001b[39m, \u001b[39m0\u001b[39m, \u001b[39m0\u001b[39m), trend\u001b[39m=\u001b[39m\u001b[39mNone\u001b[39;00m,\n\u001b[0;32m    320\u001b[0m              measurement_error\u001b[39m=\u001b[39m\u001b[39mFalse\u001b[39;00m, time_varying_regression\u001b[39m=\u001b[39m\u001b[39mFalse\u001b[39;00m,\n\u001b[1;32m   (...)\u001b[0m\n\u001b[0;32m    325\u001b[0m              freq\u001b[39m=\u001b[39m\u001b[39mNone\u001b[39;00m, missing\u001b[39m=\u001b[39m\u001b[39m'\u001b[39m\u001b[39mnone\u001b[39m\u001b[39m'\u001b[39m, validate_specification\u001b[39m=\u001b[39m\u001b[39mTrue\u001b[39;00m,\n\u001b[0;32m    326\u001b[0m              \u001b[39m*\u001b[39m\u001b[39m*\u001b[39mkwargs):\n\u001b[1;32m--> 328\u001b[0m     \u001b[39mself\u001b[39m\u001b[39m.\u001b[39m_spec \u001b[39m=\u001b[39m SARIMAXSpecification(\n\u001b[0;32m    329\u001b[0m         endog, exog\u001b[39m=\u001b[39;49mexog, order\u001b[39m=\u001b[39;49morder, seasonal_order\u001b[39m=\u001b[39;49mseasonal_order,\n\u001b[0;32m    330\u001b[0m         trend\u001b[39m=\u001b[39;49mtrend, enforce_stationarity\u001b[39m=\u001b[39;49m\u001b[39mNone\u001b[39;49;00m, enforce_invertibility\u001b[39m=\u001b[39;49m\u001b[39mNone\u001b[39;49;00m,\n\u001b[0;32m    331\u001b[0m         concentrate_scale\u001b[39m=\u001b[39;49mconcentrate_scale, dates\u001b[39m=\u001b[39;49mdates, freq\u001b[39m=\u001b[39;49mfreq,\n\u001b[0;32m    332\u001b[0m         missing\u001b[39m=\u001b[39;49mmissing, validate_specification\u001b[39m=\u001b[39;49mvalidate_specification)\n\u001b[0;32m    333\u001b[0m     \u001b[39mself\u001b[39m\u001b[39m.\u001b[39m_params \u001b[39m=\u001b[39m SARIMAXParams(\u001b[39mself\u001b[39m\u001b[39m.\u001b[39m_spec)\n\u001b[0;32m    335\u001b[0m     \u001b[39m# Save given orders\u001b[39;00m\n",
      "File \u001b[1;32mc:\\Users\\jaesc2\\Miniconda3\\envs\\skforecast\\lib\\site-packages\\statsmodels\\tsa\\arima\\specification.py:446\u001b[0m, in \u001b[0;36mSARIMAXSpecification.__init__\u001b[1;34m(self, endog, exog, order, seasonal_order, ar_order, diff, ma_order, seasonal_ar_order, seasonal_diff, seasonal_ma_order, seasonal_periods, trend, enforce_stationarity, enforce_invertibility, concentrate_scale, trend_offset, dates, freq, missing, validate_specification)\u001b[0m\n\u001b[0;32m    441\u001b[0m         exog \u001b[39m=\u001b[39m np\u001b[39m.\u001b[39mc_[trend_data, exog]\n\u001b[0;32m    443\u001b[0m \u001b[39m# Create an underlying time series model, to handle endog / exog,\u001b[39;00m\n\u001b[0;32m    444\u001b[0m \u001b[39m# especially validating shapes, retrieving names, and potentially\u001b[39;00m\n\u001b[0;32m    445\u001b[0m \u001b[39m# providing us with a time series index\u001b[39;00m\n\u001b[1;32m--> 446\u001b[0m \u001b[39mself\u001b[39m\u001b[39m.\u001b[39m_model \u001b[39m=\u001b[39m TimeSeriesModel(endog, exog\u001b[39m=\u001b[39;49mexog, dates\u001b[39m=\u001b[39;49mdates, freq\u001b[39m=\u001b[39;49mfreq,\n\u001b[0;32m    447\u001b[0m                               missing\u001b[39m=\u001b[39;49mmissing)\n\u001b[0;32m    448\u001b[0m \u001b[39mself\u001b[39m\u001b[39m.\u001b[39mendog \u001b[39m=\u001b[39m \u001b[39mNone\u001b[39;00m \u001b[39mif\u001b[39;00m faux_endog \u001b[39melse\u001b[39;00m \u001b[39mself\u001b[39m\u001b[39m.\u001b[39m_model\u001b[39m.\u001b[39mendog\n\u001b[0;32m    449\u001b[0m \u001b[39mself\u001b[39m\u001b[39m.\u001b[39mexog \u001b[39m=\u001b[39m \u001b[39mself\u001b[39m\u001b[39m.\u001b[39m_model\u001b[39m.\u001b[39mexog\n",
      "File \u001b[1;32mc:\\Users\\jaesc2\\Miniconda3\\envs\\skforecast\\lib\\site-packages\\statsmodels\\tsa\\base\\tsa_model.py:468\u001b[0m, in \u001b[0;36mTimeSeriesModel.__init__\u001b[1;34m(self, endog, exog, dates, freq, missing, **kwargs)\u001b[0m\n\u001b[0;32m    465\u001b[0m \u001b[39mdef\u001b[39;00m \u001b[39m__init__\u001b[39m(\n\u001b[0;32m    466\u001b[0m     \u001b[39mself\u001b[39m, endog, exog\u001b[39m=\u001b[39m\u001b[39mNone\u001b[39;00m, dates\u001b[39m=\u001b[39m\u001b[39mNone\u001b[39;00m, freq\u001b[39m=\u001b[39m\u001b[39mNone\u001b[39;00m, missing\u001b[39m=\u001b[39m\u001b[39m\"\u001b[39m\u001b[39mnone\u001b[39m\u001b[39m\"\u001b[39m, \u001b[39m*\u001b[39m\u001b[39m*\u001b[39mkwargs\n\u001b[0;32m    467\u001b[0m ):\n\u001b[1;32m--> 468\u001b[0m     \u001b[39msuper\u001b[39m()\u001b[39m.\u001b[39m\u001b[39m__init__\u001b[39m(endog, exog, missing\u001b[39m=\u001b[39mmissing, \u001b[39m*\u001b[39m\u001b[39m*\u001b[39mkwargs)\n\u001b[0;32m    470\u001b[0m     \u001b[39m# Date handling in indexes\u001b[39;00m\n\u001b[0;32m    471\u001b[0m     \u001b[39mself\u001b[39m\u001b[39m.\u001b[39m_init_dates(dates, freq)\n",
      "File \u001b[1;32mc:\\Users\\jaesc2\\Miniconda3\\envs\\skforecast\\lib\\site-packages\\statsmodels\\base\\model.py:267\u001b[0m, in \u001b[0;36mLikelihoodModel.__init__\u001b[1;34m(self, endog, exog, **kwargs)\u001b[0m\n\u001b[0;32m    266\u001b[0m \u001b[39mdef\u001b[39;00m \u001b[39m__init__\u001b[39m(\u001b[39mself\u001b[39m, endog, exog\u001b[39m=\u001b[39m\u001b[39mNone\u001b[39;00m, \u001b[39m*\u001b[39m\u001b[39m*\u001b[39mkwargs):\n\u001b[1;32m--> 267\u001b[0m     \u001b[39msuper\u001b[39m()\u001b[39m.\u001b[39m\u001b[39m__init__\u001b[39m(endog, exog, \u001b[39m*\u001b[39m\u001b[39m*\u001b[39mkwargs)\n\u001b[0;32m    268\u001b[0m     \u001b[39mself\u001b[39m\u001b[39m.\u001b[39minitialize()\n",
      "File \u001b[1;32mc:\\Users\\jaesc2\\Miniconda3\\envs\\skforecast\\lib\\site-packages\\statsmodels\\base\\model.py:92\u001b[0m, in \u001b[0;36mModel.__init__\u001b[1;34m(self, endog, exog, **kwargs)\u001b[0m\n\u001b[0;32m     90\u001b[0m missing \u001b[39m=\u001b[39m kwargs\u001b[39m.\u001b[39mpop(\u001b[39m'\u001b[39m\u001b[39mmissing\u001b[39m\u001b[39m'\u001b[39m, \u001b[39m'\u001b[39m\u001b[39mnone\u001b[39m\u001b[39m'\u001b[39m)\n\u001b[0;32m     91\u001b[0m hasconst \u001b[39m=\u001b[39m kwargs\u001b[39m.\u001b[39mpop(\u001b[39m'\u001b[39m\u001b[39mhasconst\u001b[39m\u001b[39m'\u001b[39m, \u001b[39mNone\u001b[39;00m)\n\u001b[1;32m---> 92\u001b[0m \u001b[39mself\u001b[39m\u001b[39m.\u001b[39mdata \u001b[39m=\u001b[39m \u001b[39mself\u001b[39m\u001b[39m.\u001b[39m_handle_data(endog, exog, missing, hasconst,\n\u001b[0;32m     93\u001b[0m                               \u001b[39m*\u001b[39m\u001b[39m*\u001b[39mkwargs)\n\u001b[0;32m     94\u001b[0m \u001b[39mself\u001b[39m\u001b[39m.\u001b[39mk_constant \u001b[39m=\u001b[39m \u001b[39mself\u001b[39m\u001b[39m.\u001b[39mdata\u001b[39m.\u001b[39mk_constant\n\u001b[0;32m     95\u001b[0m \u001b[39mself\u001b[39m\u001b[39m.\u001b[39mexog \u001b[39m=\u001b[39m \u001b[39mself\u001b[39m\u001b[39m.\u001b[39mdata\u001b[39m.\u001b[39mexog\n",
      "File \u001b[1;32mc:\\Users\\jaesc2\\Miniconda3\\envs\\skforecast\\lib\\site-packages\\statsmodels\\base\\model.py:132\u001b[0m, in \u001b[0;36mModel._handle_data\u001b[1;34m(self, endog, exog, missing, hasconst, **kwargs)\u001b[0m\n\u001b[0;32m    131\u001b[0m \u001b[39mdef\u001b[39;00m \u001b[39m_handle_data\u001b[39m(\u001b[39mself\u001b[39m, endog, exog, missing, hasconst, \u001b[39m*\u001b[39m\u001b[39m*\u001b[39mkwargs):\n\u001b[1;32m--> 132\u001b[0m     data \u001b[39m=\u001b[39m handle_data(endog, exog, missing, hasconst, \u001b[39m*\u001b[39m\u001b[39m*\u001b[39mkwargs)\n\u001b[0;32m    133\u001b[0m     \u001b[39m# kwargs arrays could have changed, easier to just attach here\u001b[39;00m\n\u001b[0;32m    134\u001b[0m     \u001b[39mfor\u001b[39;00m key \u001b[39min\u001b[39;00m kwargs:\n",
      "File \u001b[1;32mc:\\Users\\jaesc2\\Miniconda3\\envs\\skforecast\\lib\\site-packages\\statsmodels\\base\\data.py:700\u001b[0m, in \u001b[0;36mhandle_data\u001b[1;34m(endog, exog, missing, hasconst, **kwargs)\u001b[0m\n\u001b[0;32m    697\u001b[0m     exog \u001b[39m=\u001b[39m np\u001b[39m.\u001b[39masarray(exog)\n\u001b[0;32m    699\u001b[0m klass \u001b[39m=\u001b[39m handle_data_class_factory(endog, exog)\n\u001b[1;32m--> 700\u001b[0m \u001b[39mreturn\u001b[39;00m klass(endog, exog\u001b[39m=\u001b[39mexog, missing\u001b[39m=\u001b[39mmissing, hasconst\u001b[39m=\u001b[39mhasconst,\n\u001b[0;32m    701\u001b[0m              \u001b[39m*\u001b[39m\u001b[39m*\u001b[39mkwargs)\n",
      "File \u001b[1;32mc:\\Users\\jaesc2\\Miniconda3\\envs\\skforecast\\lib\\site-packages\\statsmodels\\base\\data.py:89\u001b[0m, in \u001b[0;36mModelData.__init__\u001b[1;34m(self, endog, exog, missing, hasconst, **kwargs)\u001b[0m\n\u001b[0;32m     87\u001b[0m \u001b[39mself\u001b[39m\u001b[39m.\u001b[39mk_constant \u001b[39m=\u001b[39m \u001b[39m0\u001b[39m\n\u001b[0;32m     88\u001b[0m \u001b[39mself\u001b[39m\u001b[39m.\u001b[39m_handle_constant(hasconst)\n\u001b[1;32m---> 89\u001b[0m \u001b[39mself\u001b[39;49m\u001b[39m.\u001b[39;49m_check_integrity()\n\u001b[0;32m     90\u001b[0m \u001b[39mself\u001b[39m\u001b[39m.\u001b[39m_cache \u001b[39m=\u001b[39m {}\n",
      "File \u001b[1;32mc:\\Users\\jaesc2\\Miniconda3\\envs\\skforecast\\lib\\site-packages\\statsmodels\\base\\data.py:558\u001b[0m, in \u001b[0;36mPandasData._check_integrity\u001b[1;34m(self)\u001b[0m\n\u001b[0;32m    554\u001b[0m \u001b[39m# exog can be None and we could be upcasting one or the other\u001b[39;00m\n\u001b[0;32m    555\u001b[0m \u001b[39mif\u001b[39;00m (exog \u001b[39mis\u001b[39;00m \u001b[39mnot\u001b[39;00m \u001b[39mNone\u001b[39;00m \u001b[39mand\u001b[39;00m\n\u001b[0;32m    556\u001b[0m         (\u001b[39mhasattr\u001b[39m(endog, \u001b[39m'\u001b[39m\u001b[39mindex\u001b[39m\u001b[39m'\u001b[39m) \u001b[39mand\u001b[39;00m \u001b[39mhasattr\u001b[39m(exog, \u001b[39m'\u001b[39m\u001b[39mindex\u001b[39m\u001b[39m'\u001b[39m)) \u001b[39mand\u001b[39;00m\n\u001b[0;32m    557\u001b[0m         \u001b[39mnot\u001b[39;00m \u001b[39mself\u001b[39m\u001b[39m.\u001b[39morig_endog\u001b[39m.\u001b[39mindex\u001b[39m.\u001b[39mequals(\u001b[39mself\u001b[39m\u001b[39m.\u001b[39morig_exog\u001b[39m.\u001b[39mindex)):\n\u001b[1;32m--> 558\u001b[0m     \u001b[39mraise\u001b[39;00m \u001b[39mValueError\u001b[39;00m(\u001b[39m\"\u001b[39m\u001b[39mThe indices for endog and exog are not aligned\u001b[39m\u001b[39m\"\u001b[39m)\n\u001b[0;32m    559\u001b[0m \u001b[39msuper\u001b[39m(PandasData, \u001b[39mself\u001b[39m)\u001b[39m.\u001b[39m_check_integrity()\n",
      "\u001b[1;31mValueError\u001b[0m: The indices for endog and exog are not aligned"
     ]
    }
   ],
   "source": [
    "y_datetime = pd.Series(data=y)\n",
    "y_datetime.index = pd.date_range(start='2022-01-01', periods=50)\n",
    "exog_datetime = pd.Series(data=list(exog) + list(exog))\n",
    "exog_datetime.index = pd.date_range(start='2022-01-02', periods=100)\n",
    "lw_datetime = pd.Series(data=y)\n",
    "lw_datetime.index = pd.date_range(start='2022-02-20', periods=50)\n",
    "# lw_exog_datetime = pd.Series(data=exog)\n",
    "# lw_exog_datetime.index = pd.date_range(start='2022-03-01', periods=50)\n",
    "\n",
    "forecaster = ForecasterSarimax(regressor= ARIMA(order=(1,1,1)))\n",
    "forecaster.fit(y=y_datetime, exog=exog_datetime)\n",
    "expected_index = expand_index(forecaster.last_window.index, 1)[0]\n",
    "\n",
    "err_msg = re.escape(\n",
    "    (f'To make predictions unrelated to the original data, `last_window_exog` '\n",
    "        f'has to start at the end of the training set.\\n'\n",
    "        f'    Series last index              : {forecaster.last_window.index[-1]}.\\n'\n",
    "        f'    Expected index                 : {expected_index}.\\n'\n",
    "        f'    `last_window_exog` index start : {lw_exog_datetime.index[0]}.')\n",
    ")\n",
    "with pytest.raises(ValueError, match = err_msg):\n",
    "    forecaster.predict(steps=5, last_window=lw_datetime, last_window_exog=lw_exog_datetime)"
   ]
  },
  {
   "cell_type": "code",
   "execution_count": 76,
   "metadata": {},
   "outputs": [],
   "source": [
    "y_datetime = pd.Series(data=y)\n",
    "y_datetime.index = pd.date_range(start='2022-01-01', periods=50, freq='D')\n",
    "lw_datetime = pd.Series(data=y)\n",
    "lw_datetime.index = pd.date_range(start='2022-03-01', periods=50, freq='D')\n",
    "\n",
    "forecaster = ForecasterSarimax(regressor= ARIMA(order=(1,1,1)))\n",
    "forecaster.fit(y=y_datetime)\n",
    "expected_index = expand_index(forecaster.last_window.index, 1)[0]\n",
    "\n",
    "err_msg = re.escape(\n",
    "    (f'To make predictions unrelated to the original data, `last_window` '\n",
    "        f'has to start at the end of the training set.\\n'\n",
    "        f'    Series last index         : {forecaster.last_window.index[-1]}.\\n'\n",
    "        f'    Expected index            : {expected_index}.\\n'\n",
    "        f'    `last_window` index start : {lw_datetime.index[0]}.')\n",
    ")\n",
    "with pytest.raises(ValueError, match = err_msg):\n",
    "    forecaster.predict(steps=5, last_window=lw_datetime)"
   ]
  },
  {
   "cell_type": "code",
   "execution_count": 10,
   "metadata": {},
   "outputs": [],
   "source": [
    "import re\n",
    "import pytest\n",
    "from pytest import approx\n",
    "import numpy as np\n",
    "import pandas as pd\n",
    "from skforecast.ForecasterSarimax import ForecasterSarimax\n",
    "from sklearn.linear_model import LinearRegression\n",
    "\n",
    "regressor = LinearRegression()\n",
    "\n",
    "err_msg = re.escape(\n",
    "            (f\"regressor must be an instance of type pmdarima.arima.ARIMA. \"\n",
    "                f\"Got {type(regressor)}.\")\n",
    "        ) \n",
    "with pytest.raises(ValueError, match = err_msg):\n",
    "    ForecasterSarimax(regressor = regressor)"
   ]
  },
  {
   "cell_type": "code",
   "execution_count": 15,
   "metadata": {},
   "outputs": [
    {
     "data": {
      "text/plain": [
       "{'maxiter': 50,\n",
       " 'method': 'lbfgs',\n",
       " 'order': (1, 1, 1),\n",
       " 'out_of_sample_size': 0,\n",
       " 'scoring': 'mse',\n",
       " 'scoring_args': None,\n",
       " 'seasonal_order': (0, 0, 0, 0),\n",
       " 'start_params': None,\n",
       " 'suppress_warnings': False,\n",
       " 'trend': None,\n",
       " 'with_intercept': True}"
      ]
     },
     "execution_count": 15,
     "metadata": {},
     "output_type": "execute_result"
    }
   ],
   "source": [
    "ARIMA(order=(1,1,1)).get_params(deep=True)"
   ]
  },
  {
   "cell_type": "code",
   "execution_count": 16,
   "metadata": {},
   "outputs": [],
   "source": [
    "f = ForecasterSarimax(regressor = ARIMA(order=(1,1,1)))"
   ]
  },
  {
   "cell_type": "code",
   "execution_count": 18,
   "metadata": {},
   "outputs": [
    {
     "data": {
      "text/plain": [
       "True"
      ]
     },
     "execution_count": 18,
     "metadata": {},
     "output_type": "execute_result"
    }
   ],
   "source": [
    "f.params == ARIMA(order=(1,1,1)).get_params(deep=True)"
   ]
  },
  {
   "cell_type": "code",
   "execution_count": 7,
   "metadata": {},
   "outputs": [
    {
     "data": {
      "text/plain": [
       "================= \n",
       "ForecasterSarimax \n",
       "================= \n",
       "Regressor:  ARIMA(1,1,5)(0,0,0)[0]           \n",
       "Regressor parameters: {'maxiter': 1000, 'method': 'lbfgs', 'order': (1, 1, 5), 'out_of_sample_size': 0, 'scoring': 'mse', 'scoring_args': None, 'seasonal_order': (0, 0, 0, 0), 'start_params': None, 'suppress_warnings': False, 'trend': None, 'with_intercept': False} \n",
       "Window size: 5 \n",
       "Transformer for y: None \n",
       "Transformer for exog: None \n",
       "Exogenous included: False \n",
       "Type of exogenous variable: None \n",
       "Exogenous variables names: None \n",
       "Training range: None \n",
       "Training index type: None \n",
       "Training index frequency: None \n",
       "Creation date: 2022-12-27 17:13:35 \n",
       "Last fit date: None \n",
       "Skforecast version: 0.7.dev \n",
       "Python version: 3.9.13 "
      ]
     },
     "execution_count": 7,
     "metadata": {},
     "output_type": "execute_result"
    }
   ],
   "source": [
    "# pmdarima SARIMAX\n",
    "# =====================================================================================\n",
    "forecaster = ForecasterSarimax(\n",
    "                regressor = ARIMA(order=(5,2,4), seasonal_order=(0, 0, 0, 0), trend=None, with_intercept=False, maxiter=1000)\n",
    "            )\n",
    "forecaster\n"
   ]
  },
  {
   "cell_type": "code",
   "execution_count": 28,
   "metadata": {},
   "outputs": [
    {
     "data": {
      "text/plain": [
       "date\n",
       "2005-02-01    0.597639\n",
       "2005-03-01    0.652590\n",
       "2005-04-01    0.670505\n",
       "2005-05-01    0.695248\n",
       "2005-06-01    0.842263\n",
       "Freq: MS, Name: y, dtype: float64"
      ]
     },
     "execution_count": 28,
     "metadata": {},
     "output_type": "execute_result"
    }
   ],
   "source": [
    "data_train['y'].tail()"
   ]
  },
  {
   "cell_type": "code",
   "execution_count": 34,
   "metadata": {},
   "outputs": [],
   "source": [
    "import math\n",
    "\n",
    "def internally_studentized_residual(X,Y):\n",
    "    X = np.array(X, dtype=float)\n",
    "    Y = np.array(Y, dtype=float)\n",
    "    mean_X = np.mean(X)\n",
    "    mean_Y = np.mean(Y)\n",
    "    n = len(X)\n",
    "    diff_mean_sqr = np.dot((X - mean_X), (X - mean_X))\n",
    "    beta1 = np.dot((X - mean_X), (Y - mean_Y)) / diff_mean_sqr\n",
    "    beta0 = mean_Y - beta1 * mean_X\n",
    "    y_hat = beta0 + beta1 * X\n",
    "    residuals = Y - y_hat\n",
    "    h_ii = (X - mean_X) ** 2 / diff_mean_sqr + (1 / n)\n",
    "    Var_e = math.sqrt(sum((Y - y_hat) ** 2)/(n-2))\n",
    "    SE_regression = Var_e*((1-h_ii) ** 0.5)\n",
    "    studentized_residuals = residuals/SE_regression\n",
    "    \n",
    "    return studentized_residuals"
   ]
  },
  {
   "cell_type": "code",
   "execution_count": 13,
   "metadata": {},
   "outputs": [
    {
     "name": "stdout",
     "output_type": "stream",
     "text": [
      "2003    0.398534\n",
      "Freq: A-DEC, dtype: float64\n"
     ]
    },
    {
     "name": "stderr",
     "output_type": "stream",
     "text": [
      "c:\\Users\\jaesc2\\Miniconda3\\envs\\skforecast\\lib\\site-packages\\statsmodels\\tsa\\statespace\\sarimax.py:966: UserWarning: Non-stationary starting autoregressive parameters found. Using zeros as starting parameters.\n",
      "  warn('Non-stationary starting autoregressive parameters'\n"
     ]
    }
   ],
   "source": [
    "from statsmodels.tsa.statespace.sarimax import SARIMAX\n",
    "\n",
    "index = pd.period_range(start='2000', periods=3, freq='A')\n",
    "original_observations = pd.Series([1.2, 1.5, 1.8], index=index)\n",
    "original_exog = pd.Series([2, 2.7, 1.3], index=index)\n",
    "mod = SARIMAX(endog=original_observations, exog=original_exog)\n",
    "res = mod.fit()\n",
    "# print(res.params)\n",
    "# print(res.fittedvalues)\n",
    "# print(res.predict(1))\n",
    "print(res.forecast(1, exog=original_exog.iloc[-1,]))"
   ]
  },
  {
   "cell_type": "code",
   "execution_count": 73,
   "metadata": {},
   "outputs": [
    {
     "name": "stdout",
     "output_type": "stream",
     "text": [
      "2022-02-20    0.521401\n",
      "2022-02-21    0.506132\n",
      "2022-02-22    0.503583\n",
      "2022-02-23    0.503158\n",
      "2022-02-24    0.503087\n",
      "Freq: D, Name: predicted_mean, dtype: float64\n",
      "2022-04-11    0.475126\n",
      "2022-04-12    0.497101\n",
      "2022-04-13    0.500768\n",
      "2022-04-14    0.501380\n",
      "2022-04-15    0.501482\n",
      "Freq: D, Name: predicted_mean, dtype: float64\n"
     ]
    }
   ],
   "source": [
    "from statsmodels.tsa.statespace.sarimax import SARIMAX\n",
    "np.random.seed(123)\n",
    "y_datetime = pd.Series(data=y, name='y')\n",
    "y_datetime.index = pd.date_range(start='2022-01-01', periods=50, freq='D')\n",
    "lw_datetime = pd.Series(data=exog, name='y')\n",
    "lw_datetime.index = pd.date_range(start='2022-02-20', periods=50, freq='D')\n",
    "\n",
    "index = pd.date_range(start='2000', periods=50, freq='A')\n",
    "original_observations = pd.Series(np.random.random(50), index=index)\n",
    "mod = SARIMAX(endog=y_datetime, order=(1,1,1))\n",
    "res = mod.fit()\n",
    "print(res.forecast(5))\n",
    "# print(res.resid)\n",
    "\n",
    "new_index = pd.date_range(start='2050', periods=15, freq='A')\n",
    "new_observations = pd.Series(np.random.random(15), index=new_index)\n",
    "new_exog = pd.Series(np.random.random(15), index=new_index)\n",
    "new_res = res.append(lw_datetime, refit=False)\n",
    "print(new_res.forecast(5))\n",
    "# print(new_res.resid)"
   ]
  },
  {
   "cell_type": "code",
   "execution_count": 151,
   "metadata": {},
   "outputs": [
    {
     "name": "stdout",
     "output_type": "stream",
     "text": [
      "1983    1.405683\n",
      "Freq: A-DEC, dtype: float64\n",
      "1983   -0.379792\n",
      "Freq: A-DEC, dtype: float64\n"
     ]
    },
    {
     "name": "stderr",
     "output_type": "stream",
     "text": [
      "c:\\Users\\jaesc2\\Miniconda3\\envs\\skforecast\\lib\\site-packages\\statsmodels\\base\\model.py:604: ConvergenceWarning: Maximum Likelihood optimization failed to converge. Check mle_retvals\n",
      "  warnings.warn(\"Maximum Likelihood optimization failed to \"\n"
     ]
    }
   ],
   "source": [
    "new_index = pd.period_range(start='1980', periods=3, freq='A')\n",
    "new_observations = pd.Series([1.4, 0.3, 1.2], index=new_index)\n",
    "new_exog = pd.Series([6, 4.3, 3.1], index=new_index)\n",
    "new_res = res.apply(new_observations, exog=new_exog, refit=False)\n",
    "# print(new_res.params)\n",
    "# print(new_res.fittedvalues)\n",
    "# print(new_res.predict(1))\n",
    "print(new_res.forecast(1, exog=original_exog.iloc[-1,]))\n",
    "\n",
    "new_index = pd.period_range(start='1980', periods=3, freq='A')\n",
    "new_observations = pd.Series([1.4, 0.3, 1.2], index=new_index)\n",
    "new_exog = pd.Series([6, 4.3, 3.1], index=new_index)\n",
    "new_res = res.apply(new_observations, exog=new_exog, refit=True)\n",
    "# print(new_res.params)\n",
    "# print(new_res.fittedvalues)\n",
    "# print(new_res.predict(1))\n",
    "print(new_res.forecast(1, exog=original_exog.iloc[-1,]))"
   ]
  },
  {
   "cell_type": "code",
   "execution_count": 44,
   "metadata": {},
   "outputs": [
    {
     "name": "stdout",
     "output_type": "stream",
     "text": [
      "2003    0.398534\n",
      "Freq: A-DEC, dtype: float64\n",
      "2006    1.405683\n",
      "Freq: A-DEC, dtype: float64\n",
      "2006    1.008943\n",
      "Freq: A-DEC, dtype: float64\n"
     ]
    },
    {
     "name": "stderr",
     "output_type": "stream",
     "text": [
      "c:\\Users\\jaesc2\\Miniconda3\\envs\\skforecast\\lib\\site-packages\\statsmodels\\tsa\\statespace\\sarimax.py:966: UserWarning: Non-stationary starting autoregressive parameters found. Using zeros as starting parameters.\n",
      "  warn('Non-stationary starting autoregressive parameters'\n"
     ]
    }
   ],
   "source": [
    "# Try append\n",
    "index = pd.period_range(start='2000', periods=3, freq='A')\n",
    "original_observations = pd.Series([1.2, 1.5, 1.8], index=index)\n",
    "original_exog = pd.Series([2, 2.7, 1.3], index=index)\n",
    "mod = SARIMAX(endog=original_observations, exog=original_exog)\n",
    "res = mod.fit()\n",
    "print(res.forecast(1, exog=original_exog.iloc[-1,]))\n",
    "\n",
    "new_index = pd.period_range(start='2003', periods=3, freq='A')\n",
    "new_observations = pd.Series([1.4, 0.3, 1.2], index=new_index)\n",
    "new_exog = pd.Series([6, 4.3, 3.1], index=new_index)\n",
    "new_res = res.append(new_observations, exog=new_exog, refit=False)\n",
    "print(new_res.forecast(1, exog=original_exog.iloc[-1,]))\n",
    "\n",
    "new_index = pd.period_range(start='2003', periods=3, freq='A')\n",
    "new_observations = pd.Series([1.4, 0.3, 1.2], index=new_index)\n",
    "new_exog = pd.Series([6, 4.3, 3.1], index=new_index)\n",
    "new_res = res.append(new_observations, exog=new_exog, refit=True)\n",
    "print(new_res.forecast(1, exog=original_exog.iloc[-1,]))"
   ]
  },
  {
   "cell_type": "code",
   "execution_count": 119,
   "metadata": {},
   "outputs": [
    {
     "name": "stdout",
     "output_type": "stream",
     "text": [
      "ar.L1     0.975611\n",
      "sigma2    0.088896\n",
      "dtype: float64\n",
      "2000    0.000000\n",
      "2001    1.170734\n",
      "Freq: A-DEC, dtype: float64\n",
      "2001    1.170734\n",
      "Freq: A-DEC, dtype: float64\n",
      "2002    1.463417\n",
      "Freq: A-DEC, dtype: float64\n"
     ]
    }
   ],
   "source": [
    "new_index = pd.period_range(start='1980', periods=3, freq='A')\n",
    "new_observations = pd.Series([1.4, 0.3, 1.2], index=new_index)\n",
    "new_res = res.apply(new_observations, refit=True)\n",
    "print(res.params)\n",
    "print(res.fittedvalues)\n",
    "print(res.predict(1))\n",
    "print(res.forecast(1))"
   ]
  },
  {
   "cell_type": "code",
   "execution_count": 112,
   "metadata": {},
   "outputs": [
    {
     "name": "stdout",
     "output_type": "stream",
     "text": [
      "ar.L1     0.975611\n",
      "sigma2    0.088896\n",
      "dtype: float64\n",
      "2000    0.000000\n",
      "2001    1.170734\n",
      "Freq: A-DEC, dtype: float64\n",
      "2001    1.170734\n",
      "Freq: A-DEC, dtype: float64\n",
      "2002    1.463417\n",
      "Freq: A-DEC, dtype: float64\n"
     ]
    }
   ],
   "source": [
    "new_index = pd.period_range(start='2000', periods=2, freq='A')\n",
    "new_observations = pd.Series([1.2, 1.5], index=new_index)\n",
    "new_res = res.apply(original_observations, refit=False)\n",
    "print(new_res.params)\n",
    "print(new_res.fittedvalues)\n",
    "print(new_res.predict(1))\n",
    "print(new_res.forecast(1))"
   ]
  },
  {
   "cell_type": "code",
   "execution_count": 103,
   "metadata": {},
   "outputs": [
    {
     "data": {
      "text/plain": [
       "date\n",
       "2005-02-01    0.597639\n",
       "2005-03-01    0.652590\n",
       "2005-04-01    0.670505\n",
       "2005-05-01    0.695248\n",
       "2005-06-01    0.842263\n",
       "Freq: MS, Name: y, dtype: float64"
      ]
     },
     "execution_count": 103,
     "metadata": {},
     "output_type": "execute_result"
    }
   ],
   "source": [
    "data_train['y'].tail()"
   ]
  },
  {
   "cell_type": "code",
   "execution_count": 9,
   "metadata": {},
   "outputs": [
    {
     "data": {
      "text/plain": [
       "159"
      ]
     },
     "execution_count": 9,
     "metadata": {},
     "output_type": "execute_result"
    }
   ],
   "source": [
    "len(data_train['y'])"
   ]
  },
  {
   "cell_type": "code",
   "execution_count": 10,
   "metadata": {},
   "outputs": [
    {
     "data": {
      "text/html": [
       "<div>\n",
       "<style scoped>\n",
       "    .dataframe tbody tr th:only-of-type {\n",
       "        vertical-align: middle;\n",
       "    }\n",
       "\n",
       "    .dataframe tbody tr th {\n",
       "        vertical-align: top;\n",
       "    }\n",
       "\n",
       "    .dataframe thead th {\n",
       "        text-align: right;\n",
       "    }\n",
       "</style>\n",
       "<table border=\"1\" class=\"dataframe\">\n",
       "  <thead>\n",
       "    <tr style=\"text-align: right;\">\n",
       "      <th></th>\n",
       "      <th>pred</th>\n",
       "      <th>0</th>\n",
       "      <th>1</th>\n",
       "      <th>2</th>\n",
       "      <th>3</th>\n",
       "      <th>4</th>\n",
       "      <th>5</th>\n",
       "      <th>6</th>\n",
       "      <th>7</th>\n",
       "      <th>8</th>\n",
       "      <th>9</th>\n",
       "      <th>10</th>\n",
       "    </tr>\n",
       "  </thead>\n",
       "  <tbody>\n",
       "    <tr>\n",
       "      <th>2005-07-01</th>\n",
       "      <td>1.038069</td>\n",
       "      <td>1.038069</td>\n",
       "      <td>0.842263</td>\n",
       "      <td>0.833381</td>\n",
       "      <td>0.829829</td>\n",
       "      <td>0.829618</td>\n",
       "      <td>0.817113</td>\n",
       "      <td>1.005752</td>\n",
       "      <td>1.015432</td>\n",
       "      <td>1.023569</td>\n",
       "      <td>1.023187</td>\n",
       "      <td>1.036177</td>\n",
       "    </tr>\n",
       "    <tr>\n",
       "      <th>2005-08-01</th>\n",
       "      <td>1.020495</td>\n",
       "      <td>1.020495</td>\n",
       "      <td>0.842263</td>\n",
       "      <td>0.818446</td>\n",
       "      <td>0.814931</td>\n",
       "      <td>0.807379</td>\n",
       "      <td>0.775644</td>\n",
       "      <td>0.981915</td>\n",
       "      <td>1.014866</td>\n",
       "      <td>1.022976</td>\n",
       "      <td>1.021279</td>\n",
       "      <td>1.033344</td>\n",
       "    </tr>\n",
       "    <tr>\n",
       "      <th>2005-09-01</th>\n",
       "      <td>1.098529</td>\n",
       "      <td>1.098529</td>\n",
       "      <td>0.842263</td>\n",
       "      <td>0.819509</td>\n",
       "      <td>0.809401</td>\n",
       "      <td>0.790564</td>\n",
       "      <td>0.758521</td>\n",
       "      <td>1.046817</td>\n",
       "      <td>1.077625</td>\n",
       "      <td>1.089497</td>\n",
       "      <td>1.087997</td>\n",
       "      <td>1.106317</td>\n",
       "    </tr>\n",
       "    <tr>\n",
       "      <th>2005-10-01</th>\n",
       "      <td>1.025232</td>\n",
       "      <td>1.025232</td>\n",
       "      <td>0.842263</td>\n",
       "      <td>0.790720</td>\n",
       "      <td>0.769937</td>\n",
       "      <td>0.750927</td>\n",
       "      <td>0.710632</td>\n",
       "      <td>0.975736</td>\n",
       "      <td>1.017477</td>\n",
       "      <td>1.027921</td>\n",
       "      <td>1.025775</td>\n",
       "      <td>1.041339</td>\n",
       "    </tr>\n",
       "    <tr>\n",
       "      <th>2005-11-01</th>\n",
       "      <td>0.993463</td>\n",
       "      <td>0.993463</td>\n",
       "      <td>0.842263</td>\n",
       "      <td>0.745958</td>\n",
       "      <td>0.725775</td>\n",
       "      <td>0.701957</td>\n",
       "      <td>0.666837</td>\n",
       "      <td>0.943114</td>\n",
       "      <td>0.978103</td>\n",
       "      <td>0.989287</td>\n",
       "      <td>0.987537</td>\n",
       "      <td>1.004571</td>\n",
       "    </tr>\n",
       "  </tbody>\n",
       "</table>\n",
       "</div>"
      ],
      "text/plain": [
       "                pred         0         1         2         3         4  \\\n",
       "2005-07-01  1.038069  1.038069  0.842263  0.833381  0.829829  0.829618   \n",
       "2005-08-01  1.020495  1.020495  0.842263  0.818446  0.814931  0.807379   \n",
       "2005-09-01  1.098529  1.098529  0.842263  0.819509  0.809401  0.790564   \n",
       "2005-10-01  1.025232  1.025232  0.842263  0.790720  0.769937  0.750927   \n",
       "2005-11-01  0.993463  0.993463  0.842263  0.745958  0.725775  0.701957   \n",
       "\n",
       "                   5         6         7         8         9        10  \n",
       "2005-07-01  0.817113  1.005752  1.015432  1.023569  1.023187  1.036177  \n",
       "2005-08-01  0.775644  0.981915  1.014866  1.022976  1.021279  1.033344  \n",
       "2005-09-01  0.758521  1.046817  1.077625  1.089497  1.087997  1.106317  \n",
       "2005-10-01  0.710632  0.975736  1.017477  1.027921  1.025775  1.041339  \n",
       "2005-11-01  0.666837  0.943114  0.978103  0.989287  0.987537  1.004571  "
      ]
     },
     "execution_count": 10,
     "metadata": {},
     "output_type": "execute_result"
    }
   ],
   "source": [
    "forecaster_1 = ForecasterSarimax(\n",
    "                regressor = ARIMA(order=(5,1,2), seasonal_order=(0, 0, 0, 0), trend=None, with_intercept=False, maxiter=1000, suppress_warnings=True)\n",
    "            )\n",
    "forecaster_1.fit(y=data_train['y'])\n",
    "pred_1 = forecaster_1.predict(steps=5)\n",
    "\n",
    "lengths = list(range(11))\n",
    "preds_2 = [pred_1]\n",
    "\n",
    "for n in lengths:\n",
    "    forecaster_2 = ForecasterSarimax(\n",
    "                    regressor = ARIMA(order=(5,1,2), seasonal_order=(0, 0, 0, 0), trend=None, with_intercept=False, maxiter=1000, suppress_warnings=True)\n",
    "                )\n",
    "    forecaster_2.fit(y=data_train['y'])\n",
    "    pred_2 = forecaster_2.predict(steps=5, last_window=data_train['y'].iloc[-n:])\n",
    "    # pred_2 = forecaster_2.predict(steps=5)\n",
    "    pred_2.name = f'{n}'\n",
    "    preds_2.append(pred_2)\n",
    "\n",
    "pd.concat(preds_2, axis=1)"
   ]
  },
  {
   "cell_type": "code",
   "execution_count": 161,
   "metadata": {},
   "outputs": [
    {
     "data": {
      "text/html": [
       "<div>\n",
       "<style scoped>\n",
       "    .dataframe tbody tr th:only-of-type {\n",
       "        vertical-align: middle;\n",
       "    }\n",
       "\n",
       "    .dataframe tbody tr th {\n",
       "        vertical-align: top;\n",
       "    }\n",
       "\n",
       "    .dataframe thead th {\n",
       "        text-align: right;\n",
       "    }\n",
       "</style>\n",
       "<table border=\"1\" class=\"dataframe\">\n",
       "  <thead>\n",
       "    <tr style=\"text-align: right;\">\n",
       "      <th></th>\n",
       "      <th>pred</th>\n",
       "      <th>0</th>\n",
       "      <th>1</th>\n",
       "    </tr>\n",
       "  </thead>\n",
       "  <tbody>\n",
       "    <tr>\n",
       "      <th>2005-07-01</th>\n",
       "      <td>0.834083</td>\n",
       "      <td>1.583247</td>\n",
       "      <td>0.834083</td>\n",
       "    </tr>\n",
       "    <tr>\n",
       "      <th>2005-08-01</th>\n",
       "      <td>0.775471</td>\n",
       "      <td>1.570892</td>\n",
       "      <td>0.775471</td>\n",
       "    </tr>\n",
       "    <tr>\n",
       "      <th>2005-09-01</th>\n",
       "      <td>0.763014</td>\n",
       "      <td>1.549400</td>\n",
       "      <td>0.763014</td>\n",
       "    </tr>\n",
       "    <tr>\n",
       "      <th>2005-10-01</th>\n",
       "      <td>0.738576</td>\n",
       "      <td>1.517228</td>\n",
       "      <td>0.738576</td>\n",
       "    </tr>\n",
       "    <tr>\n",
       "      <th>2005-11-01</th>\n",
       "      <td>0.700156</td>\n",
       "      <td>1.524830</td>\n",
       "      <td>0.700156</td>\n",
       "    </tr>\n",
       "  </tbody>\n",
       "</table>\n",
       "</div>"
      ],
      "text/plain": [
       "                pred         0         1\n",
       "2005-07-01  0.834083  1.583247  0.834083\n",
       "2005-08-01  0.775471  1.570892  0.775471\n",
       "2005-09-01  0.763014  1.549400  0.763014\n",
       "2005-10-01  0.738576  1.517228  0.738576\n",
       "2005-11-01  0.700156  1.524830  0.700156"
      ]
     },
     "execution_count": 161,
     "metadata": {},
     "output_type": "execute_result"
    }
   ],
   "source": [
    "# Try changing exog and with all series as last window\n",
    "forecaster_1 = ForecasterSarimax(\n",
    "                regressor = ARIMA(order=(5,2,3), seasonal_order=(0, 0, 0, 0), trend=None, with_intercept=False, maxiter=1000, suppress_warnings=True)\n",
    "            )\n",
    "forecaster_1.fit(y=data_train['y'], exog=data_train['exog_1'])\n",
    "pred_1 = forecaster_1.predict(steps=5, exog=data_test['exog_1'])\n",
    "\n",
    "lengths = list(range(5))\n",
    "lengths = 0\n",
    "# lengths = list(range(25, 30))\n",
    "preds_2 = [pred_1]\n",
    "\n",
    "for i, lw_exog in enumerate([data_train['y'], data_train['exog_1']]):\n",
    "    forecaster_2 = ForecasterSarimax(\n",
    "                    regressor = ARIMA(order=(5,2,3), seasonal_order=(0, 0, 0, 0), trend=None, with_intercept=False, maxiter=1000, suppress_warnings=True)\n",
    "                )\n",
    "    forecaster_2.fit(y=data_train['y'], exog=data_train['exog_1'])\n",
    "    pred_2 = forecaster_2.predict(steps=5, exog=data_test['exog_1'], last_window=data_train['y'], last_window_exog=lw_exog)\n",
    "    # pred_2 = forecaster_2.predict(steps=5)\n",
    "    pred_2.name = f'{i}'\n",
    "    preds_2.append(pred_2)\n",
    "\n",
    "pd.concat(preds_2, axis=1)"
   ]
  },
  {
   "cell_type": "code",
   "execution_count": 49,
   "metadata": {},
   "outputs": [],
   "source": [
    "forecaster_1 = ForecasterSarimax(\n",
    "                regressor = ARIMA(order=(5,2,3), seasonal_order=(0, 0, 0, 0), trend=None, with_intercept=False, maxiter=1000, suppress_warnings=True)\n",
    "            )\n",
    "forecaster_1.fit(y=data_train['y'], exog=data_train['exog_1'])"
   ]
  },
  {
   "cell_type": "code",
   "execution_count": 76,
   "metadata": {},
   "outputs": [
    {
     "name": "stdout",
     "output_type": "stream",
     "text": [
      "1.4\n"
     ]
    },
    {
     "data": {
      "text/plain": [
       "True"
      ]
     },
     "execution_count": 76,
     "metadata": {},
     "output_type": "execute_result"
    }
   ],
   "source": [
    "from skforecast.utils import expand_index\n",
    "\n",
    "new_index = pd.date_range(start='2005-07-01', periods=3, freq=forecaster.index_freq)\n",
    "lw_2 = pd.Series([1.4, 0.3, 1.2], index=new_index)\n",
    "\n",
    "print(lw_2[0])\n",
    "expand_index(forecaster_1.last_window.index, 1)[0] == lw_2.index[0]\n"
   ]
  },
  {
   "cell_type": "code",
   "execution_count": 86,
   "metadata": {},
   "outputs": [
    {
     "name": "stdout",
     "output_type": "stream",
     "text": [
      "To make predictions unrelated to the original data, `last_window` has to start at the end of the training set.\n",
      "    Series last index         : 2005-06-01 00:00:00.\n",
      "    Expected index            : 2005-07-01 00:00:00.\n",
      "    `last_window` index start : 2005-07-01 00:00:00.\n"
     ]
    }
   ],
   "source": [
    "expected_index = expand_index(forecaster_1.last_window.index, 1)[0]\n",
    "\n",
    "print(\n",
    "    (f'To make predictions unrelated to the original data, `last_window` '\n",
    "        f'has to start at the end of the training set.\\n'\n",
    "        f'    Series last index         : {forecaster_1.last_window.index[-1]}.\\n'\n",
    "        f'    Expected index            : {expected_index}.\\n'\n",
    "        f'    `last_window` index start : {lw_2.index[0]}.')\n",
    ")"
   ]
  },
  {
   "cell_type": "code",
   "execution_count": 169,
   "metadata": {},
   "outputs": [
    {
     "data": {
      "text/plain": [
       "2005-07-01    0.834083\n",
       "2005-08-01    0.775471\n",
       "2005-09-01    0.763014\n",
       "2005-10-01    0.738576\n",
       "2005-11-01    0.700156\n",
       "2005-12-01    0.803202\n",
       "2006-01-01    0.877273\n",
       "2006-02-01    0.840496\n",
       "2006-03-01    0.868976\n",
       "2006-04-01    0.834666\n",
       "2006-05-01    0.805690\n",
       "2006-06-01    0.804989\n",
       "2006-07-01    0.764330\n",
       "2006-08-01    0.753788\n",
       "2006-09-01    0.757883\n",
       "2006-10-01    0.742118\n",
       "2006-11-01    0.718698\n",
       "2006-12-01    0.809200\n",
       "2007-01-01    0.857758\n",
       "2007-02-01    0.850377\n",
       "2007-03-01    0.853802\n",
       "2007-04-01    0.803226\n",
       "2007-05-01    0.787759\n",
       "2007-06-01    0.772675\n",
       "2007-07-01    0.747909\n",
       "2007-08-01    0.742488\n",
       "2007-09-01    0.751111\n",
       "2007-10-01    0.731793\n",
       "2007-11-01    0.732950\n",
       "2007-12-01    0.812696\n",
       "2008-01-01    0.864117\n",
       "2008-02-01    0.900863\n",
       "2008-03-01    0.888723\n",
       "2008-04-01    0.874010\n",
       "2008-05-01    0.867312\n",
       "2008-06-01    0.823210\n",
       "Freq: MS, dtype: float64"
      ]
     },
     "execution_count": 169,
     "metadata": {},
     "output_type": "execute_result"
    }
   ],
   "source": [
    "forecaster_1.regressor.predict(n_periods=36, X=data_test['exog_1'].to_frame())"
   ]
  },
  {
   "cell_type": "code",
   "execution_count": 11,
   "metadata": {},
   "outputs": [
    {
     "data": {
      "text/plain": [
       "8"
      ]
     },
     "execution_count": 11,
     "metadata": {},
     "output_type": "execute_result"
    }
   ],
   "source": [
    "forecaster_1.regressor.df_model()"
   ]
  },
  {
   "cell_type": "code",
   "execution_count": 12,
   "metadata": {},
   "outputs": [
    {
     "data": {
      "text/plain": [
       "inf"
      ]
     },
     "execution_count": 12,
     "metadata": {},
     "output_type": "execute_result"
    }
   ],
   "source": [
    "forecaster_1.regressor.df_resid()"
   ]
  },
  {
   "cell_type": "code",
   "execution_count": 172,
   "metadata": {},
   "outputs": [
    {
     "data": {
      "image/png": "[encoded data removed]",
      "text/plain": [
       "<Figure size 640x480 with 4 Axes>"
      ]
     },
     "execution_count": 172,
     "metadata": {},
     "output_type": "execute_result"
    },
    {
     "data": {
      "image/png": "[encoded data removed]",
      "text/plain": [
       "<Figure size 640x480 with 4 Axes>"
      ]
     },
     "metadata": {},
     "output_type": "display_data"
    }
   ],
   "source": [
    "forecaster_1.regressor.plot_diagnostics()"
   ]
  },
  {
   "cell_type": "code",
   "execution_count": 127,
   "metadata": {},
   "outputs": [
    {
     "data": {
      "text/plain": [
       "date\n",
       "1992-04-01    0.000000\n",
       "1992-05-01    0.371971\n",
       "1992-06-01    0.355788\n",
       "1992-07-01    0.402180\n",
       "1992-08-01    0.464897\n",
       "                ...   \n",
       "2005-02-01    1.146735\n",
       "2005-03-01    0.632435\n",
       "2005-04-01    0.706293\n",
       "2005-05-01    0.669381\n",
       "2005-06-01    0.764826\n",
       "Freq: MS, Length: 159, dtype: float64"
      ]
     },
     "execution_count": 127,
     "metadata": {},
     "output_type": "execute_result"
    }
   ],
   "source": [
    "forecaster_1.regressor.arima_res_.fittedvalues"
   ]
  },
  {
   "cell_type": "code",
   "execution_count": 128,
   "metadata": {},
   "outputs": [
    {
     "data": {
      "text/plain": [
       "date\n",
       "2004-10-01    0.000000\n",
       "2004-11-01    1.156641\n",
       "2004-12-01    1.190377\n",
       "2005-01-01    1.228937\n",
       "2005-02-01    1.151603\n",
       "2005-03-01    0.632435\n",
       "2005-04-01    0.706293\n",
       "2005-05-01    0.669381\n",
       "2005-06-01    0.764826\n",
       "Freq: MS, dtype: float64"
      ]
     },
     "execution_count": 128,
     "metadata": {},
     "output_type": "execute_result"
    }
   ],
   "source": [
    "forecaster_2.regressor.arima_res_.fittedvalues"
   ]
  },
  {
   "cell_type": "code",
   "execution_count": 94,
   "metadata": {},
   "outputs": [
    {
     "name": "stdout",
     "output_type": "stream",
     "text": [
      "ar.L1    -0.278167\n",
      "ar.L2     0.208110\n",
      "ar.L3     0.905169\n",
      "ar.L4     0.149358\n",
      "ar.L5    -0.038833\n",
      "ma.L1     1.292218\n",
      "ma.L2     0.998973\n",
      "sigma2    0.018479\n",
      "dtype: float64\n",
      "ar.L1    -0.278167\n",
      "ar.L2     0.208110\n",
      "ar.L3     0.905169\n",
      "ar.L4     0.149358\n",
      "ar.L5    -0.038833\n",
      "ma.L1     1.292218\n",
      "ma.L2     0.998973\n",
      "sigma2    0.018479\n",
      "dtype: float64\n",
      "\n",
      "[ 1.          0.2781674  -0.2081097  -0.9051687  -0.14935803  0.03883274]\n",
      "[ 1.          0.2781674  -0.2081097  -0.9051687  -0.14935803  0.03883274]\n",
      "\n",
      "[1.         1.29221759 0.99897309]\n",
      "[1.         1.29221759 0.99897309]\n"
     ]
    }
   ],
   "source": [
    "# Params\n",
    "print(forecaster_1.regressor.arima_res_.params)\n",
    "print(forecaster_2.regressor.arima_res_.params)\n",
    "print('')\n",
    "\n",
    "# Array containing autoregressive lag polynomial coefficients, ordered from lowest degree to highest. \n",
    "# Initialized with ones, unless a coefficient is constrained to be zero (in which case it is zero).\n",
    "print(forecaster_1.regressor.arima_res_.polynomial_ar)\n",
    "print(forecaster_2.regressor.arima_res_.polynomial_ar)\n",
    "print('')\n",
    "\n",
    "# Array containing moving average lag polynomial coefficients, ordered from lowest degree to highest. \n",
    "# Initialized with ones, unless a coefficient is constrained to be zero (in which case it is zero).print(forecaster_1.regressor.arima_res_.polynomial_ar)\n",
    "print(forecaster_1.regressor.arima_res_.polynomial_ma)\n",
    "print(forecaster_2.regressor.arima_res_.polynomial_ma)"
   ]
  },
  {
   "cell_type": "code",
   "execution_count": 44,
   "metadata": {},
   "outputs": [
    {
     "data": {
      "text/plain": [
       "date\n",
       "2005-06-01    0.842263\n",
       "Freq: MS, Name: y, dtype: float64"
      ]
     },
     "execution_count": 44,
     "metadata": {},
     "output_type": "execute_result"
    }
   ],
   "source": [
    "data_train['y'].iloc[-1:]"
   ]
  },
  {
   "cell_type": "code",
   "execution_count": 47,
   "metadata": {},
   "outputs": [
    {
     "data": {
      "text/plain": [
       "array([ 1.        , -1.29225707,  0.48184762,  0.48315573, -1.29717801,\n",
       "        0.98581836])"
      ]
     },
     "execution_count": 47,
     "metadata": {},
     "output_type": "execute_result"
    }
   ],
   "source": [
    "forecaster_2.regressor.arima_res_.polynomial_ma"
   ]
  },
  {
   "cell_type": "code",
   "execution_count": 42,
   "metadata": {},
   "outputs": [
    {
     "name": "stdout",
     "output_type": "stream",
     "text": [
      "[1.]\n",
      "[1.]\n",
      "\n",
      "[1.]\n",
      "[1.]\n"
     ]
    }
   ],
   "source": [
    "# Array containing seasonal autoregressive lag polynomial coefficients, ordered from lowest degree to highest. \n",
    "# Initialized with ones, unless a coefficient is constrained to be zero (in which case it is zero).\n",
    "print(forecaster_1.regressor.arima_res_.polynomial_seasonal_ar)\n",
    "print(forecaster_2.regressor.arima_res_.polynomial_seasonal_ar)\n",
    "print('')\n",
    "\n",
    "# Array containing seasonal moving average lag polynomial coefficients, ordered from lowest degree to highest.\n",
    "# Initialized with ones, unless a coefficient is constrained to be zero (in which case it is zero).\n",
    "print(forecaster_1.regressor.arima_res_.polynomial_seasonal_ma)\n",
    "print(forecaster_2.regressor.arima_res_.polynomial_seasonal_ma)"
   ]
  },
  {
   "cell_type": "code",
   "execution_count": 43,
   "metadata": {},
   "outputs": [
    {
     "name": "stdout",
     "output_type": "stream",
     "text": [
      "[]\n",
      "[]\n",
      "\n",
      "{'trend': 0, 'exog': 0, 'ar': 5, 'ma': 5, 'seasonal_ar': 0, 'seasonal_ma': 0, 'reduced_ar': 5, 'reduced_ma': 5, 'exog_variance': 0, 'measurement_variance': 0, 'variance': 1}\n",
      "{'trend': 0, 'exog': 0, 'ar': 5, 'ma': 5, 'seasonal_ar': 0, 'seasonal_ma': 0, 'reduced_ar': 5, 'reduced_ma': 5, 'exog_variance': 0, 'measurement_variance': 0, 'variance': 1}\n",
      "\n",
      "['ar', 'ma', 'variance']\n",
      "['ar', 'ma', 'variance']\n"
     ]
    }
   ],
   "source": [
    "# Array containing trend polynomial coefficients, ordered from lowest degree to highest. \n",
    "# Initialized with ones, unless a coefficient is constrained to be zero (in which case it is zero).\n",
    "print(forecaster_1.regressor.arima_res_.polynomial_trend)\n",
    "print(forecaster_2.regressor.arima_res_.polynomial_trend)\n",
    "print('')\n",
    "\n",
    "# The orders of each of the polynomials in the model.\n",
    "print(forecaster_1.regressor.arima_res_.model_orders)\n",
    "print(forecaster_2.regressor.arima_res_.model_orders)\n",
    "print('')\n",
    "\n",
    "# List of parameters actually included in the model, in sorted order.\n",
    "print(forecaster_1.regressor.arima_res_.param_terms)\n",
    "print(forecaster_2.regressor.arima_res_.param_terms)"
   ]
  },
  {
   "cell_type": "code",
   "execution_count": 26,
   "metadata": {},
   "outputs": [
    {
     "data": {
      "text/plain": [
       "date\n",
       "2005-01-01    1.170690\n",
       "2005-02-01    0.597639\n",
       "2005-03-01    0.652590\n",
       "2005-04-01    0.670505\n",
       "2005-05-01    0.695248\n",
       "2005-06-01    0.842263\n",
       "Freq: MS, Name: y, dtype: float64"
      ]
     },
     "execution_count": 26,
     "metadata": {},
     "output_type": "execute_result"
    }
   ],
   "source": [
    "data_train['y'].iloc[-6:]"
   ]
  },
  {
   "cell_type": "code",
   "execution_count": 30,
   "metadata": {},
   "outputs": [
    {
     "data": {
      "text/plain": [
       "date\n",
       "2005-02-01    1.520544\n",
       "2005-03-01    1.506290\n",
       "2005-04-01    1.487660\n",
       "2005-05-01    1.457025\n",
       "2005-06-01    1.441765\n",
       "Freq: MS, Name: exog_1, dtype: float64"
      ]
     },
     "execution_count": 30,
     "metadata": {},
     "output_type": "execute_result"
    }
   ],
   "source": [
    "data_train['exog_1'].iloc[-5:]"
   ]
  },
  {
   "cell_type": "code",
   "execution_count": 124,
   "metadata": {},
   "outputs": [
    {
     "data": {
      "text/plain": [
       "2005-07-01    0.955160\n",
       "2005-08-01    0.999309\n",
       "2005-09-01    1.006797\n",
       "2005-10-01    0.966844\n",
       "2005-11-01    0.899705\n",
       "Freq: MS, Name: pred, dtype: float64"
      ]
     },
     "execution_count": 124,
     "metadata": {},
     "output_type": "execute_result"
    }
   ],
   "source": [
    "forecaster = ForecasterSarimax(\n",
    "                regressor = ARIMA(order=(5,0,0), seasonal_order=(0, 0, 0, 0), trend=None, with_intercept=False, maxiter=1000, suppress_warnings=True)\n",
    "            )\n",
    "forecaster.fit(y=data_train['y'], exog=data_train['exog_1'])\n",
    "forecaster.predict(steps=5, exog=data_test['exog_1'])"
   ]
  },
  {
   "cell_type": "code",
   "execution_count": null,
   "metadata": {},
   "outputs": [],
   "source": [
    "forecaster.regressor.arima_res_.apply(\n",
    "    endog = last_window,\n",
    "    exog  = last_window_exog,\n",
    "    refit = False\n",
    ")"
   ]
  },
  {
   "cell_type": "code",
   "execution_count": 125,
   "metadata": {},
   "outputs": [
    {
     "data": {
      "text/plain": [
       "date\n",
       "1992-04-01    0.586089\n",
       "1992-05-01    0.448589\n",
       "1992-06-01    0.453344\n",
       "1992-07-01    0.509825\n",
       "1992-08-01    0.580687\n",
       "                ...   \n",
       "2005-02-01    0.959333\n",
       "2005-03-01    0.585896\n",
       "2005-04-01    0.648927\n",
       "2005-05-01    0.655163\n",
       "2005-06-01    0.782031\n",
       "Freq: MS, Length: 159, dtype: float64"
      ]
     },
     "execution_count": 125,
     "metadata": {},
     "output_type": "execute_result"
    }
   ],
   "source": [
    "forecaster.regressor.arima_res_.fittedvalues"
   ]
  },
  {
   "cell_type": "code",
   "execution_count": 29,
   "metadata": {},
   "outputs": [
    {
     "data": {
      "text/plain": [
       "2005-07-01    0.757604\n",
       "2005-08-01    0.684084\n",
       "2005-09-01    0.618403\n",
       "2005-10-01    0.560564\n",
       "2005-11-01    0.571627\n",
       "Freq: MS, Name: pred, dtype: float64"
      ]
     },
     "execution_count": 29,
     "metadata": {},
     "output_type": "execute_result"
    }
   ],
   "source": [
    "forecaster.predict(\n",
    "    steps=5,\n",
    "    exog=data_test['exog_1'],\n",
    "    last_window=data_train['y'].iloc[-5:],\n",
    "    last_window_exog=data_train['exog_1'].iloc[-5:]\n",
    ")"
   ]
  },
  {
   "cell_type": "code",
   "execution_count": 32,
   "metadata": {},
   "outputs": [
    {
     "data": {
      "text/plain": [
       "2005-07-01    1.348155\n",
       "2005-08-01    1.327842\n",
       "2005-09-01    1.312205\n",
       "2005-10-01    1.287929\n",
       "2005-11-01    1.287166\n",
       "Freq: MS, Name: pred, dtype: float64"
      ]
     },
     "execution_count": 32,
     "metadata": {},
     "output_type": "execute_result"
    }
   ],
   "source": [
    "forecaster.predict(\n",
    "    steps=5,\n",
    "    exog=data_test['exog_1'],\n",
    "    last_window=data_train['y'].iloc[-5:],\n",
    "    last_window_exog=data_train['y'].iloc[-5:]\n",
    ")"
   ]
  },
  {
   "cell_type": "code",
   "execution_count": 11,
   "metadata": {},
   "outputs": [
    {
     "data": {
      "text/html": [
       "<div>\n",
       "<style scoped>\n",
       "    .dataframe tbody tr th:only-of-type {\n",
       "        vertical-align: middle;\n",
       "    }\n",
       "\n",
       "    .dataframe tbody tr th {\n",
       "        vertical-align: top;\n",
       "    }\n",
       "\n",
       "    .dataframe thead th {\n",
       "        text-align: right;\n",
       "    }\n",
       "</style>\n",
       "<table border=\"1\" class=\"dataframe\">\n",
       "  <thead>\n",
       "    <tr style=\"text-align: right;\">\n",
       "      <th></th>\n",
       "      <th>pred</th>\n",
       "      <th>lower_bound</th>\n",
       "      <th>upper_bound</th>\n",
       "    </tr>\n",
       "  </thead>\n",
       "  <tbody>\n",
       "    <tr>\n",
       "      <th>2005-07-01</th>\n",
       "      <td>0.932642</td>\n",
       "      <td>0.696401</td>\n",
       "      <td>1.168883</td>\n",
       "    </tr>\n",
       "    <tr>\n",
       "      <th>2005-08-01</th>\n",
       "      <td>1.010520</td>\n",
       "      <td>0.740315</td>\n",
       "      <td>1.280726</td>\n",
       "    </tr>\n",
       "    <tr>\n",
       "      <th>2005-09-01</th>\n",
       "      <td>1.033868</td>\n",
       "      <td>0.761807</td>\n",
       "      <td>1.305928</td>\n",
       "    </tr>\n",
       "    <tr>\n",
       "      <th>2005-10-01</th>\n",
       "      <td>0.988795</td>\n",
       "      <td>0.712712</td>\n",
       "      <td>1.264877</td>\n",
       "    </tr>\n",
       "    <tr>\n",
       "      <th>2005-11-01</th>\n",
       "      <td>0.945110</td>\n",
       "      <td>0.652227</td>\n",
       "      <td>1.237994</td>\n",
       "    </tr>\n",
       "  </tbody>\n",
       "</table>\n",
       "</div>"
      ],
      "text/plain": [
       "                pred  lower_bound  upper_bound\n",
       "2005-07-01  0.932642     0.696401     1.168883\n",
       "2005-08-01  1.010520     0.740315     1.280726\n",
       "2005-09-01  1.033868     0.761807     1.305928\n",
       "2005-10-01  0.988795     0.712712     1.264877\n",
       "2005-11-01  0.945110     0.652227     1.237994"
      ]
     },
     "execution_count": 11,
     "metadata": {},
     "output_type": "execute_result"
    }
   ],
   "source": [
    "forecaster.predict_interval(steps=5, exog=data_test['exog_1'])"
   ]
  },
  {
   "cell_type": "code",
   "execution_count": 12,
   "metadata": {},
   "outputs": [
    {
     "data": {
      "text/html": [
       "<div>\n",
       "<style scoped>\n",
       "    .dataframe tbody tr th:only-of-type {\n",
       "        vertical-align: middle;\n",
       "    }\n",
       "\n",
       "    .dataframe tbody tr th {\n",
       "        vertical-align: top;\n",
       "    }\n",
       "\n",
       "    .dataframe thead th {\n",
       "        text-align: right;\n",
       "    }\n",
       "</style>\n",
       "<table border=\"1\" class=\"dataframe\">\n",
       "  <thead>\n",
       "    <tr style=\"text-align: right;\">\n",
       "      <th></th>\n",
       "      <th>pred</th>\n",
       "      <th>lower_bound</th>\n",
       "      <th>upper_bound</th>\n",
       "    </tr>\n",
       "  </thead>\n",
       "  <tbody>\n",
       "    <tr>\n",
       "      <th>2005-07-01</th>\n",
       "      <td>0.804699</td>\n",
       "      <td>0.533423</td>\n",
       "      <td>1.075975</td>\n",
       "    </tr>\n",
       "    <tr>\n",
       "      <th>2005-08-01</th>\n",
       "      <td>0.795028</td>\n",
       "      <td>0.446933</td>\n",
       "      <td>1.143122</td>\n",
       "    </tr>\n",
       "    <tr>\n",
       "      <th>2005-09-01</th>\n",
       "      <td>0.780490</td>\n",
       "      <td>0.408405</td>\n",
       "      <td>1.152576</td>\n",
       "    </tr>\n",
       "    <tr>\n",
       "      <th>2005-10-01</th>\n",
       "      <td>0.742509</td>\n",
       "      <td>0.374417</td>\n",
       "      <td>1.110601</td>\n",
       "    </tr>\n",
       "    <tr>\n",
       "      <th>2005-11-01</th>\n",
       "      <td>0.735371</td>\n",
       "      <td>0.378384</td>\n",
       "      <td>1.092358</td>\n",
       "    </tr>\n",
       "  </tbody>\n",
       "</table>\n",
       "</div>"
      ],
      "text/plain": [
       "                pred  lower_bound  upper_bound\n",
       "2005-07-01  0.804699     0.533423     1.075975\n",
       "2005-08-01  0.795028     0.446933     1.143122\n",
       "2005-09-01  0.780490     0.408405     1.152576\n",
       "2005-10-01  0.742509     0.374417     1.110601\n",
       "2005-11-01  0.735371     0.378384     1.092358"
      ]
     },
     "execution_count": 12,
     "metadata": {},
     "output_type": "execute_result"
    }
   ],
   "source": [
    "forecaster.predict_interval(\n",
    "    steps=5,\n",
    "    exog=data_test['exog_1'],\n",
    "    last_window=data_train['y'].iloc[-6:],\n",
    "    last_window_exog=data_train['exog_1'].iloc[-6:]\n",
    ")"
   ]
  },
  {
   "cell_type": "markdown",
   "metadata": {},
   "source": [
    "## Test predict interval"
   ]
  },
  {
   "cell_type": "code",
   "execution_count": 94,
   "metadata": {},
   "outputs": [],
   "source": [
    "y = pd.Series(\n",
    "        data = np.array([0.69646919, 0.28613933, 0.22685145, 0.55131477, 0.71946897,\n",
    "                         0.42310646, 0.9807642 , 0.68482974, 0.4809319 , 0.39211752,\n",
    "                         0.34317802, 0.72904971, 0.43857224, 0.0596779 , 0.39804426,\n",
    "                         0.73799541, 0.18249173, 0.17545176, 0.53155137, 0.53182759,\n",
    "                         0.63440096, 0.84943179, 0.72445532, 0.61102351, 0.72244338,\n",
    "                         0.32295891, 0.36178866, 0.22826323, 0.29371405, 0.63097612,\n",
    "                         0.09210494, 0.43370117, 0.43086276, 0.4936851 , 0.42583029,\n",
    "                         0.31226122, 0.42635131, 0.89338916, 0.94416002, 0.50183668,\n",
    "                         0.62395295, 0.1156184 , 0.31728548, 0.41482621, 0.86630916,\n",
    "                         0.25045537, 0.48303426, 0.98555979, 0.51948512, 0.61289453]\n",
    "            ),\n",
    "        name = 'y'\n",
    "    )\n",
    "\n",
    "exog = pd.Series(\n",
    "           data = np.array([0.12062867, 0.8263408 , 0.60306013, 0.54506801, 0.34276383,\n",
    "                            0.30412079, 0.41702221, 0.68130077, 0.87545684, 0.51042234,\n",
    "                            0.66931378, 0.58593655, 0.6249035 , 0.67468905, 0.84234244,\n",
    "                            0.08319499, 0.76368284, 0.24366637, 0.19422296, 0.57245696,\n",
    "                            0.09571252, 0.88532683, 0.62724897, 0.72341636, 0.01612921,\n",
    "                            0.59443188, 0.55678519, 0.15895964, 0.15307052, 0.69552953,\n",
    "                            0.31876643, 0.6919703 , 0.55438325, 0.38895057, 0.92513249,\n",
    "                            0.84167   , 0.35739757, 0.04359146, 0.30476807, 0.39818568,\n",
    "                            0.70495883, 0.99535848, 0.35591487, 0.76254781, 0.59317692,\n",
    "                            0.6917018 , 0.15112745, 0.39887629, 0.2408559 , 0.34345601]\n",
    "               ),\n",
    "           name = 'exog'\n",
    "       )\n",
    "\n",
    "transformer_exog = ColumnTransformer(\n",
    "                        [('scale', StandardScaler(), ['exog_1']),\n",
    "                        ('onehot', OneHotEncoder(), ['exog_2'])],\n",
    "                        remainder = 'passthrough',\n",
    "                        verbose_feature_names_out = False\n",
    "                    )\n",
    "\n",
    "df_exog = pd.DataFrame({\n",
    "                  'exog_1': exog,\n",
    "                  'exog_2': ['a']*25+['b']*25}\n",
    "              )"
   ]
  },
  {
   "cell_type": "code",
   "execution_count": 96,
   "metadata": {},
   "outputs": [
    {
     "data": {
      "text/plain": [
       "array([[0.90846704, 0.47796249, 1.33897159],\n",
       "       [0.7647883 , 0.33209942, 1.19747719],\n",
       "       [0.82033368, 0.38757178, 1.25309559],\n",
       "       [0.84058598, 0.40781874, 1.27335322],\n",
       "       [0.89169909, 0.4589314 , 1.32446679]])"
      ]
     },
     "execution_count": 96,
     "metadata": {},
     "output_type": "execute_result"
    }
   ],
   "source": [
    "kwargs = {'order': (1,1,1), 'seasonal_order': (0,0,0,0)}\n",
    "forecaster = ForecasterSarimax(\n",
    "                regressor = ARIMA(**kwargs),\n",
    "                transformer_y    = StandardScaler(),\n",
    "                transformer_exog = transformer_exog\n",
    "            )\n",
    "forecaster.fit(y=y, exog=df_exog)\n",
    "predictions = forecaster.predict_interval(steps=5, exog=df_exog, alpha=0.05)\n",
    "predictions.values"
   ]
  },
  {
   "cell_type": "code",
   "execution_count": 92,
   "metadata": {},
   "outputs": [],
   "source": [
    "alpha=0.05\n",
    "interval=[1,99]\n",
    "alpha=None\n",
    "interval=[2.5,97.5]\n",
    "\n",
    "forecaster = ForecasterSarimax(regressor=ARIMA(order=(1,1,1)), transformer_y = StandardScaler())\n",
    "forecaster.fit(y=y)\n",
    "predictions = forecaster.predict_interval(steps=5, alpha=alpha, interval=interval)\n",
    "expected = pd.DataFrame(\n",
    "                data    = np.array([[0.53572671, 0.07602913, 0.99542429],\n",
    "                                    [0.52359439, 0.05626217, 0.99092661],\n",
    "                                    [0.52216565, 0.05439018, 0.98994111],\n",
    "                                    [0.52249851, 0.05467184, 0.99032517],\n",
    "                                    [0.52312129, 0.05528678, 0.99095581]]),\n",
    "                columns = ['pred', 'lower_bound', 'upper_bound'],\n",
    "                index   = pd.RangeIndex(start=50, stop=55, step=1)\n",
    "            )\n",
    "\n",
    "pd.testing.assert_frame_equal(predictions, expected)"
   ]
  },
  {
   "cell_type": "code",
   "execution_count": 88,
   "metadata": {},
   "outputs": [],
   "source": [
    "alpha=0.05\n",
    "interval=[1,99]\n",
    "# alpha=None\n",
    "# interval=[2.5,97.5]\n",
    "\n",
    "forecaster = ForecasterSarimax(regressor=ARIMA(order=(1,1,1)))\n",
    "forecaster.fit(y=y, exog=exog)\n",
    "predictions = forecaster.predict_interval(steps=5, exog=exog, alpha=alpha, interval=interval)\n",
    "expected = pd.DataFrame(\n",
    "                data    = np.array([[0.60497852,  0.15960892, 1.05034811],\n",
    "                                    [0.44483443, -0.00619962, 0.89586848],\n",
    "                                    [0.49239874,  0.04107972, 0.94371776],\n",
    "                                    [0.50520397,  0.05385485, 0.95655309],\n",
    "                                    [0.54934541,  0.09799221, 1.00069861]]),\n",
    "                columns = ['pred', 'lower_bound', 'upper_bound'],\n",
    "                index   = pd.RangeIndex(start=50, stop=55, step=1)\n",
    "            )\n",
    "\n",
    "pd.testing.assert_frame_equal(predictions, expected)"
   ]
  },
  {
   "cell_type": "code",
   "execution_count": 107,
   "metadata": {},
   "outputs": [
    {
     "name": "stderr",
     "output_type": "stream",
     "text": [
      "c:\\Users\\jaesc2\\GitHub\\skforecast\\skforecast\\ForecasterSarimax\\ForecasterSarimax.py:250: FutureWarning: Explicitly passing `name=None` currently preserves the Series' name or uses a default name of 0. This behaviour is deprecated, and in the future `None` will be used as the name of the resulting DataFrame column.\n",
      "  exog = exog.to_frame(name=exog.name)\n",
      "c:\\Users\\jaesc2\\GitHub\\skforecast\\skforecast\\ForecasterSarimax\\ForecasterSarimax.py:544: FutureWarning: Explicitly passing `name=None` currently preserves the Series' name or uses a default name of 0. This behaviour is deprecated, and in the future `None` will be used as the name of the resulting DataFrame column.\n",
      "  last_window_exog = last_window_exog.to_frame(name=exog.name)\n",
      "c:\\Users\\jaesc2\\GitHub\\skforecast\\skforecast\\ForecasterSarimax\\ForecasterSarimax.py:563: FutureWarning: Explicitly passing `name=None` currently preserves the Series' name or uses a default name of 0. This behaviour is deprecated, and in the future `None` will be used as the name of the resulting DataFrame column.\n",
      "  exog = exog.to_frame(name=exog.name)\n"
     ]
    }
   ],
   "source": [
    "alpha=0.05\n",
    "\n",
    "y_datetime = pd.Series(data=list(y))\n",
    "y_datetime.index = pd.date_range(start='2000', periods=50, freq='A')\n",
    "lw_datetime = pd.Series(data=list(y))\n",
    "lw_datetime.index = pd.date_range(start='2050', periods=50, freq='A')\n",
    "\n",
    "exog_datetime = pd.Series(data=list(exog))\n",
    "exog_datetime.index = pd.date_range(start='2000', periods=50, freq='A')\n",
    "lw_exog_datetime = pd.Series(data=list(exog))\n",
    "lw_exog_datetime.index = pd.date_range(start='2050', periods=50, freq='A')\n",
    "\n",
    "forecaster = ForecasterSarimax(regressor=ARIMA(order=(1,1,1)))\n",
    "forecaster.fit(y=y_datetime, exog=exog_datetime)\n",
    "predictions = forecaster.predict_interval(\n",
    "                    steps            = 5, \n",
    "                    alpha            = 0.05,\n",
    "                    exog             = exog_datetime, \n",
    "                    last_window      = lw_datetime, \n",
    "                    last_window_exog = lw_exog_datetime\n",
    "                )"
   ]
  },
  {
   "cell_type": "code",
   "execution_count": 114,
   "metadata": {},
   "outputs": [
    {
     "name": "stderr",
     "output_type": "stream",
     "text": [
      "c:\\Users\\jaesc2\\Miniconda3\\envs\\skforecast\\lib\\site-packages\\statsmodels\\base\\model.py:604: ConvergenceWarning: Maximum Likelihood optimization failed to converge. Check mle_retvals\n",
      "  warnings.warn(\"Maximum Likelihood optimization failed to \"\n"
     ]
    },
    {
     "data": {
      "text/plain": [
       "array([['intercept', 0.49998574676910396],\n",
       "       ['ar.L1', 0.5000130662306124],\n",
       "       ['ma.L1', 7.479723906909597e-11],\n",
       "       ['sigma2', 2.658043128694438e-12]], dtype=object)"
      ]
     },
     "execution_count": 114,
     "metadata": {},
     "output_type": "execute_result"
    }
   ],
   "source": [
    "forecaster = ForecasterSarimax(regressor=ARIMA(order=(1,1,1)))\n",
    "forecaster.fit(y=pd.Series(np.arange(10)))\n",
    "forecaster.get_feature_importance().values"
   ]
  },
  {
   "cell_type": "code",
   "execution_count": 109,
   "metadata": {},
   "outputs": [
    {
     "data": {
      "text/plain": [
       "intercept    0.000368\n",
       "0           -0.216186\n",
       "ar.L1        0.141695\n",
       "ma.L1       -0.999727\n",
       "sigma2       0.050643\n",
       "dtype: float64"
      ]
     },
     "execution_count": 109,
     "metadata": {},
     "output_type": "execute_result"
    }
   ],
   "source": [
    "forecaster.regressor.params()\n"
   ]
  },
  {
   "cell_type": "code",
   "execution_count": 4,
   "metadata": {},
   "outputs": [],
   "source": [
    "import re\n",
    "from typing import Type\n",
    "import pytest\n",
    "import numpy as np\n",
    "import pandas as pd\n",
    "from sklearn.linear_model import Ridge\n",
    "from sklearn.exceptions import NotFittedError\n",
    "from skforecast.ForecasterAutoreg import ForecasterAutoreg\n",
    "from skforecast.ForecasterAutoregDirect import ForecasterAutoregDirect\n",
    "from skforecast.ForecasterAutoregMultiSeries import ForecasterAutoregMultiSeries\n",
    "from skforecast.model_selection import backtesting_forecaster"
   ]
  },
  {
   "cell_type": "code",
   "execution_count": 12,
   "metadata": {},
   "outputs": [
    {
     "ename": "AssertionError",
     "evalue": "Regex pattern \"`initial_train_size`\\\\ must\\\\ be\\\\ greater\\\\ than\\\\ forecaster's\\\\ window_size\\\\ \\\\(1\\\\)\\\\.\" does not match 'The maximum lag (1) must be less than the length of the series (1).'.",
     "output_type": "error",
     "traceback": [
      "\u001b[1;31m---------------------------------------------------------------------------\u001b[0m",
      "\u001b[1;31mValueError\u001b[0m                                Traceback (most recent call last)",
      "Cell \u001b[1;32mIn [12], line 13\u001b[0m\n\u001b[0;32m     12\u001b[0m \u001b[39mwith\u001b[39;00m pytest\u001b[39m.\u001b[39mraises(\u001b[39mValueError\u001b[39;00m, match \u001b[39m=\u001b[39m err_msg):\n\u001b[1;32m---> 13\u001b[0m     backtesting_forecaster(\n\u001b[0;32m     14\u001b[0m         forecaster          \u001b[39m=\u001b[39m forecaster,\n\u001b[0;32m     15\u001b[0m         y                   \u001b[39m=\u001b[39m y,\n\u001b[0;32m     16\u001b[0m         steps               \u001b[39m=\u001b[39m \u001b[39m3\u001b[39m,\n\u001b[0;32m     17\u001b[0m         metric              \u001b[39m=\u001b[39m \u001b[39m'\u001b[39m\u001b[39mmean_absolute_error\u001b[39m\u001b[39m'\u001b[39m,\n\u001b[0;32m     18\u001b[0m         initial_train_size  \u001b[39m=\u001b[39m initial_train_size,\n\u001b[0;32m     19\u001b[0m         refit               \u001b[39m=\u001b[39m \u001b[39mFalse\u001b[39;00m,\n\u001b[0;32m     20\u001b[0m         fixed_train_size    \u001b[39m=\u001b[39m \u001b[39mFalse\u001b[39;00m,\n\u001b[0;32m     21\u001b[0m         exog                \u001b[39m=\u001b[39m \u001b[39mNone\u001b[39;00m,\n\u001b[0;32m     22\u001b[0m         interval            \u001b[39m=\u001b[39m \u001b[39mNone\u001b[39;00m,\n\u001b[0;32m     23\u001b[0m         n_boot              \u001b[39m=\u001b[39m \u001b[39m500\u001b[39m,\n\u001b[0;32m     24\u001b[0m         random_state        \u001b[39m=\u001b[39m \u001b[39m123\u001b[39m,\n\u001b[0;32m     25\u001b[0m         in_sample_residuals \u001b[39m=\u001b[39m \u001b[39mTrue\u001b[39;00m,\n\u001b[0;32m     26\u001b[0m         verbose             \u001b[39m=\u001b[39m \u001b[39mFalse\u001b[39;00m\n\u001b[0;32m     27\u001b[0m     )\n",
      "File \u001b[1;32mc:\\Users\\jaesc2\\GitHub\\skforecast\\skforecast\\model_selection\\model_selection.py:780\u001b[0m, in \u001b[0;36mbacktesting_forecaster\u001b[1;34m(forecaster, y, steps, metric, initial_train_size, fixed_train_size, exog, refit, interval, n_boot, random_state, in_sample_residuals, verbose)\u001b[0m\n\u001b[0;32m    779\u001b[0m \u001b[39melse\u001b[39;00m:\n\u001b[1;32m--> 780\u001b[0m     metrics_values, backtest_predictions \u001b[39m=\u001b[39m _backtesting_forecaster_no_refit(\n\u001b[0;32m    781\u001b[0m         forecaster          \u001b[39m=\u001b[39;49m forecaster,\n\u001b[0;32m    782\u001b[0m         y                   \u001b[39m=\u001b[39;49m y,\n\u001b[0;32m    783\u001b[0m         steps               \u001b[39m=\u001b[39;49m steps,\n\u001b[0;32m    784\u001b[0m         metric              \u001b[39m=\u001b[39;49m metric,\n\u001b[0;32m    785\u001b[0m         initial_train_size  \u001b[39m=\u001b[39;49m initial_train_size,\n\u001b[0;32m    786\u001b[0m         exog                \u001b[39m=\u001b[39;49m exog,\n\u001b[0;32m    787\u001b[0m         interval            \u001b[39m=\u001b[39;49m interval,\n\u001b[0;32m    788\u001b[0m         n_boot              \u001b[39m=\u001b[39;49m n_boot,\n\u001b[0;32m    789\u001b[0m         random_state        \u001b[39m=\u001b[39;49m random_state,\n\u001b[0;32m    790\u001b[0m         in_sample_residuals \u001b[39m=\u001b[39;49m in_sample_residuals,\n\u001b[0;32m    791\u001b[0m         verbose             \u001b[39m=\u001b[39;49m verbose\n\u001b[0;32m    792\u001b[0m     )\n\u001b[0;32m    794\u001b[0m \u001b[39mreturn\u001b[39;00m metrics_values, backtest_predictions\n",
      "File \u001b[1;32mc:\\Users\\jaesc2\\GitHub\\skforecast\\skforecast\\model_selection\\model_selection.py:550\u001b[0m, in \u001b[0;36m_backtesting_forecaster_no_refit\u001b[1;34m(forecaster, y, steps, metric, initial_train_size, exog, interval, n_boot, random_state, in_sample_residuals, verbose)\u001b[0m\n\u001b[0;32m    549\u001b[0m exog_train_values \u001b[39m=\u001b[39m exog\u001b[39m.\u001b[39miloc[:initial_train_size, ] \u001b[39mif\u001b[39;00m exog \u001b[39mis\u001b[39;00m \u001b[39mnot\u001b[39;00m \u001b[39mNone\u001b[39;00m \u001b[39melse\u001b[39;00m \u001b[39mNone\u001b[39;00m\n\u001b[1;32m--> 550\u001b[0m forecaster\u001b[39m.\u001b[39;49mfit(y\u001b[39m=\u001b[39;49my\u001b[39m.\u001b[39;49miloc[:initial_train_size], exog\u001b[39m=\u001b[39;49mexog_train_values)\n\u001b[0;32m    551\u001b[0m window_size \u001b[39m=\u001b[39m forecaster\u001b[39m.\u001b[39mwindow_size\n",
      "File \u001b[1;32mc:\\Users\\jaesc2\\GitHub\\skforecast\\skforecast\\ForecasterAutoreg\\ForecasterAutoreg.py:462\u001b[0m, in \u001b[0;36mForecasterAutoreg.fit\u001b[1;34m(self, y, exog)\u001b[0m\n\u001b[0;32m    459\u001b[0m     \u001b[39mself\u001b[39m\u001b[39m.\u001b[39mexog_col_names \u001b[39m=\u001b[39m \\\n\u001b[0;32m    460\u001b[0m          exog\u001b[39m.\u001b[39mcolumns\u001b[39m.\u001b[39mto_list() \u001b[39mif\u001b[39;00m \u001b[39misinstance\u001b[39m(exog, pd\u001b[39m.\u001b[39mDataFrame) \u001b[39melse\u001b[39;00m exog\u001b[39m.\u001b[39mname\n\u001b[1;32m--> 462\u001b[0m X_train, y_train \u001b[39m=\u001b[39m \u001b[39mself\u001b[39;49m\u001b[39m.\u001b[39;49mcreate_train_X_y(y\u001b[39m=\u001b[39;49my, exog\u001b[39m=\u001b[39;49mexog)\n\u001b[0;32m    463\u001b[0m sample_weight \u001b[39m=\u001b[39m \u001b[39mself\u001b[39m\u001b[39m.\u001b[39mcreate_sample_weights(X_train\u001b[39m=\u001b[39mX_train)\n",
      "File \u001b[1;32mc:\\Users\\jaesc2\\GitHub\\skforecast\\skforecast\\ForecasterAutoreg\\ForecasterAutoreg.py:353\u001b[0m, in \u001b[0;36mForecasterAutoreg.create_train_X_y\u001b[1;34m(self, y, exog)\u001b[0m\n\u001b[0;32m    348\u001b[0m         \u001b[39mraise\u001b[39;00m \u001b[39mValueError\u001b[39;00m(\n\u001b[0;32m    349\u001b[0m             (\u001b[39m'\u001b[39m\u001b[39mDifferent index for `y` and `exog`. They must be equal \u001b[39m\u001b[39m'\u001b[39m\n\u001b[0;32m    350\u001b[0m              \u001b[39m'\u001b[39m\u001b[39mto ensure the correct alignment of values.\u001b[39m\u001b[39m'\u001b[39m)      \n\u001b[0;32m    351\u001b[0m         )\n\u001b[1;32m--> 353\u001b[0m X_train, y_train \u001b[39m=\u001b[39m \u001b[39mself\u001b[39;49m\u001b[39m.\u001b[39;49m_create_lags(y\u001b[39m=\u001b[39;49my_values)\n\u001b[0;32m    354\u001b[0m X_train_col_names \u001b[39m=\u001b[39m [\u001b[39mf\u001b[39m\u001b[39m\"\u001b[39m\u001b[39mlag_\u001b[39m\u001b[39m{\u001b[39;00mi\u001b[39m}\u001b[39;00m\u001b[39m\"\u001b[39m \u001b[39mfor\u001b[39;00m i \u001b[39min\u001b[39;00m \u001b[39mself\u001b[39m\u001b[39m.\u001b[39mlags]\n",
      "File \u001b[1;32mc:\\Users\\jaesc2\\GitHub\\skforecast\\skforecast\\ForecasterAutoreg\\ForecasterAutoreg.py:272\u001b[0m, in \u001b[0;36mForecasterAutoreg._create_lags\u001b[1;34m(self, y)\u001b[0m\n\u001b[0;32m    271\u001b[0m \u001b[39mif\u001b[39;00m n_splits \u001b[39m<\u001b[39m\u001b[39m=\u001b[39m \u001b[39m0\u001b[39m:\n\u001b[1;32m--> 272\u001b[0m     \u001b[39mraise\u001b[39;00m \u001b[39mValueError\u001b[39;00m(\n\u001b[0;32m    273\u001b[0m         \u001b[39mf\u001b[39m\u001b[39m'\u001b[39m\u001b[39mThe maximum lag (\u001b[39m\u001b[39m{\u001b[39;00m\u001b[39mself\u001b[39m\u001b[39m.\u001b[39mmax_lag\u001b[39m}\u001b[39;00m\u001b[39m) must be less than the length \u001b[39m\u001b[39m'\u001b[39m\n\u001b[0;32m    274\u001b[0m         \u001b[39mf\u001b[39m\u001b[39m'\u001b[39m\u001b[39mof the series (\u001b[39m\u001b[39m{\u001b[39;00m\u001b[39mlen\u001b[39m(y)\u001b[39m}\u001b[39;00m\u001b[39m).\u001b[39m\u001b[39m'\u001b[39m\n\u001b[0;32m    275\u001b[0m     )\n\u001b[0;32m    277\u001b[0m X_data \u001b[39m=\u001b[39m np\u001b[39m.\u001b[39mfull(shape\u001b[39m=\u001b[39m(n_splits, \u001b[39mlen\u001b[39m(\u001b[39mself\u001b[39m\u001b[39m.\u001b[39mlags)), fill_value\u001b[39m=\u001b[39mnp\u001b[39m.\u001b[39mnan, dtype\u001b[39m=\u001b[39m\u001b[39mfloat\u001b[39m)\n",
      "\u001b[1;31mValueError\u001b[0m: The maximum lag (1) must be less than the length of the series (1).",
      "\nDuring handling of the above exception, another exception occurred:\n",
      "\u001b[1;31mAssertionError\u001b[0m                            Traceback (most recent call last)",
      "Cell \u001b[1;32mIn [12], line 13\u001b[0m\n\u001b[0;32m      8\u001b[0m err_msg \u001b[39m=\u001b[39m re\u001b[39m.\u001b[39mescape(\n\u001b[0;32m      9\u001b[0m         \u001b[39mf\u001b[39m\u001b[39m\"\u001b[39m\u001b[39m`initial_train_size` must be greater than \u001b[39m\u001b[39m\"\u001b[39m\n\u001b[0;32m     10\u001b[0m         \u001b[39mf\u001b[39m\u001b[39m\"\u001b[39m\u001b[39mforecaster\u001b[39m\u001b[39m'\u001b[39m\u001b[39ms window_size (\u001b[39m\u001b[39m{\u001b[39;00mforecaster\u001b[39m.\u001b[39mwindow_size\u001b[39m}\u001b[39;00m\u001b[39m).\u001b[39m\u001b[39m\"\u001b[39m\n\u001b[0;32m     11\u001b[0m     )\n\u001b[0;32m     12\u001b[0m \u001b[39mwith\u001b[39;00m pytest\u001b[39m.\u001b[39mraises(\u001b[39mValueError\u001b[39;00m, match \u001b[39m=\u001b[39m err_msg):\n\u001b[1;32m---> 13\u001b[0m     backtesting_forecaster(\n\u001b[0;32m     14\u001b[0m         forecaster          \u001b[39m=\u001b[39m forecaster,\n\u001b[0;32m     15\u001b[0m         y                   \u001b[39m=\u001b[39m y,\n\u001b[0;32m     16\u001b[0m         steps               \u001b[39m=\u001b[39m \u001b[39m3\u001b[39m,\n\u001b[0;32m     17\u001b[0m         metric              \u001b[39m=\u001b[39m \u001b[39m'\u001b[39m\u001b[39mmean_absolute_error\u001b[39m\u001b[39m'\u001b[39m,\n\u001b[0;32m     18\u001b[0m         initial_train_size  \u001b[39m=\u001b[39m initial_train_size,\n\u001b[0;32m     19\u001b[0m         refit               \u001b[39m=\u001b[39m \u001b[39mFalse\u001b[39;00m,\n\u001b[0;32m     20\u001b[0m         fixed_train_size    \u001b[39m=\u001b[39m \u001b[39mFalse\u001b[39;00m,\n\u001b[0;32m     21\u001b[0m         exog                \u001b[39m=\u001b[39m \u001b[39mNone\u001b[39;00m,\n\u001b[0;32m     22\u001b[0m         interval            \u001b[39m=\u001b[39m \u001b[39mNone\u001b[39;00m,\n\u001b[0;32m     23\u001b[0m         n_boot              \u001b[39m=\u001b[39m \u001b[39m500\u001b[39m,\n\u001b[0;32m     24\u001b[0m         random_state        \u001b[39m=\u001b[39m \u001b[39m123\u001b[39m,\n\u001b[0;32m     25\u001b[0m         in_sample_residuals \u001b[39m=\u001b[39m \u001b[39mTrue\u001b[39;00m,\n\u001b[0;32m     26\u001b[0m         verbose             \u001b[39m=\u001b[39m \u001b[39mFalse\u001b[39;00m\n\u001b[0;32m     27\u001b[0m     )\n",
      "    \u001b[1;31m[... skipping hidden 1 frame]\u001b[0m\n",
      "File \u001b[1;32mc:\\Users\\jaesc2\\Miniconda3\\envs\\skforecast\\lib\\site-packages\\_pytest\\_code\\code.py:678\u001b[0m, in \u001b[0;36mExceptionInfo.match\u001b[1;34m(self, regexp)\u001b[0m\n\u001b[0;32m    676\u001b[0m \u001b[39mif\u001b[39;00m regexp \u001b[39m==\u001b[39m \u001b[39mstr\u001b[39m(\u001b[39mself\u001b[39m\u001b[39m.\u001b[39mvalue):\n\u001b[0;32m    677\u001b[0m     msg \u001b[39m+\u001b[39m\u001b[39m=\u001b[39m \u001b[39m\"\u001b[39m\u001b[39m Did you mean to `re.escape()` the regex?\u001b[39m\u001b[39m\"\u001b[39m\n\u001b[1;32m--> 678\u001b[0m \u001b[39massert\u001b[39;00m re\u001b[39m.\u001b[39msearch(regexp, \u001b[39mstr\u001b[39m(\u001b[39mself\u001b[39m\u001b[39m.\u001b[39mvalue)), msg\u001b[39m.\u001b[39mformat(regexp, \u001b[39mstr\u001b[39m(\u001b[39mself\u001b[39m\u001b[39m.\u001b[39mvalue))\n\u001b[0;32m    679\u001b[0m \u001b[39m# Return True to allow for \"assert excinfo.match()\".\u001b[39;00m\n\u001b[0;32m    680\u001b[0m \u001b[39mreturn\u001b[39;00m \u001b[39mTrue\u001b[39;00m\n",
      "\u001b[1;31mAssertionError\u001b[0m: Regex pattern \"`initial_train_size`\\\\ must\\\\ be\\\\ greater\\\\ than\\\\ forecaster's\\\\ window_size\\\\ \\\\(1\\\\)\\\\.\" does not match 'The maximum lag (1) must be less than the length of the series (1).'."
     ]
    }
   ],
   "source": [
    "forecaster = ForecasterAutoreg(\n",
    "                regressor = Ridge(random_state=123),\n",
    "                lags      = 1\n",
    "                )\n",
    "\n",
    "initial_train_size = forecaster.window_size\n",
    "\n",
    "err_msg = re.escape(\n",
    "        f\"`initial_train_size` must be greater than \"\n",
    "        f\"forecaster's window_size ({forecaster.window_size}).\"\n",
    "    )\n",
    "with pytest.raises(ValueError, match = err_msg):\n",
    "    backtesting_forecaster(\n",
    "        forecaster          = forecaster,\n",
    "        y                   = y,\n",
    "        steps               = 3,\n",
    "        metric              = 'mean_absolute_error',\n",
    "        initial_train_size  = initial_train_size,\n",
    "        refit               = False,\n",
    "        fixed_train_size    = False,\n",
    "        exog                = None,\n",
    "        interval            = None,\n",
    "        n_boot              = 500,\n",
    "        random_state        = 123,\n",
    "        in_sample_residuals = True,\n",
    "        verbose             = False\n",
    "    )"
   ]
  },
  {
   "cell_type": "code",
   "execution_count": 8,
   "metadata": {},
   "outputs": [
    {
     "data": {
      "text/plain": [
       "0     0.696469\n",
       "1     0.286139\n",
       "2     0.226851\n",
       "3     0.551315\n",
       "4     0.719469\n",
       "5     0.423106\n",
       "6     0.980764\n",
       "7     0.684830\n",
       "8     0.480932\n",
       "9     0.392118\n",
       "10    0.343178\n",
       "11    0.729050\n",
       "12    0.438572\n",
       "13    0.059678\n",
       "14    0.398044\n",
       "15    0.737995\n",
       "16    0.182492\n",
       "17    0.175452\n",
       "18    0.531551\n",
       "19    0.531828\n",
       "20    0.634401\n",
       "21    0.849432\n",
       "22    0.724455\n",
       "23    0.611024\n",
       "24    0.722443\n",
       "25    0.322959\n",
       "26    0.361789\n",
       "27    0.228263\n",
       "28    0.293714\n",
       "29    0.630976\n",
       "30    0.092105\n",
       "31    0.433701\n",
       "32    0.430863\n",
       "33    0.493685\n",
       "34    0.425830\n",
       "35    0.312261\n",
       "36    0.426351\n",
       "37    0.893389\n",
       "38    0.944160\n",
       "39    0.501837\n",
       "40    0.623953\n",
       "41    0.115618\n",
       "42    0.317285\n",
       "43    0.414826\n",
       "44    0.866309\n",
       "45    0.250455\n",
       "46    0.483034\n",
       "47    0.985560\n",
       "48    0.519485\n",
       "49    0.612895\n",
       "Name: y, dtype: float64"
      ]
     },
     "execution_count": 8,
     "metadata": {},
     "output_type": "execute_result"
    }
   ],
   "source": [
    "y"
   ]
  },
  {
   "cell_type": "code",
   "execution_count": 11,
   "metadata": {},
   "outputs": [],
   "source": [
    "import re\n",
    "import pytest\n",
    "from pytest import approx\n",
    "import numpy as np\n",
    "import pandas as pd\n",
    "from skforecast.ForecasterAutoregMultiVariate import ForecasterAutoregMultiVariate\n",
    "from sklearn.exceptions import NotFittedError\n",
    "from sklearn.pipeline import make_pipeline\n",
    "from sklearn.preprocessing import StandardScaler\n",
    "from sklearn.linear_model import LinearRegression\n",
    "from sklearn.neural_network import MLPRegressor\n",
    "from sklearn.ensemble import RandomForestRegressor\n",
    "from skforecast.ForecasterAutoregDirect import ForecasterAutoregDirect"
   ]
  },
  {
   "cell_type": "code",
   "execution_count": 45,
   "metadata": {},
   "outputs": [],
   "source": [
    "series = pd.DataFrame({'l1': pd.Series(np.arange(10)), \n",
    "                        'l2': pd.Series(np.random.rand(10))\n",
    "                        })\n",
    "exog = pd.Series(np.arange(10), name='exog')"
   ]
  },
  {
   "cell_type": "code",
   "execution_count": 61,
   "metadata": {},
   "outputs": [],
   "source": [
    "forecaster = ForecasterAutoregMultiVariate(\n",
    "                         regressor = RandomForestRegressor(random_state=123),\n",
    "                         level     = 'l2',\n",
    "                         lags      = 3,\n",
    "                         steps     = 2,\n",
    "                     )\n",
    "forecaster.fit(series=series, exog=exog)"
   ]
  },
  {
   "cell_type": "code",
   "execution_count": 62,
   "metadata": {},
   "outputs": [
    {
     "data": {
      "text/plain": [
       "array([0.04433023, 0.06593663, 0.04126985, 0.21969712, 0.423652  ,\n",
       "       0.18296598, 0.0221482 ])"
      ]
     },
     "execution_count": 62,
     "metadata": {},
     "output_type": "execute_result"
    }
   ],
   "source": [
    "forecaster.regressors_[1].feature_importances_"
   ]
  },
  {
   "cell_type": "code",
   "execution_count": 63,
   "metadata": {},
   "outputs": [
    {
     "data": {
      "text/plain": [
       "array([0.01352571, 0.05085389, 0.06176128, 0.57891741, 0.19316456,\n",
       "       0.06913955, 0.03263761])"
      ]
     },
     "execution_count": 63,
     "metadata": {},
     "output_type": "execute_result"
    }
   ],
   "source": [
    "forecaster.regressors_[2].feature_importances_"
   ]
  },
  {
   "cell_type": "code",
   "execution_count": 64,
   "metadata": {},
   "outputs": [
    {
     "data": {
      "text/html": [
       "<div>\n",
       "<style scoped>\n",
       "    .dataframe tbody tr th:only-of-type {\n",
       "        vertical-align: middle;\n",
       "    }\n",
       "\n",
       "    .dataframe tbody tr th {\n",
       "        vertical-align: top;\n",
       "    }\n",
       "\n",
       "    .dataframe thead th {\n",
       "        text-align: right;\n",
       "    }\n",
       "</style>\n",
       "<table border=\"1\" class=\"dataframe\">\n",
       "  <thead>\n",
       "    <tr style=\"text-align: right;\">\n",
       "      <th></th>\n",
       "      <th>feature</th>\n",
       "      <th>importance</th>\n",
       "    </tr>\n",
       "  </thead>\n",
       "  <tbody>\n",
       "    <tr>\n",
       "      <th>0</th>\n",
       "      <td>l1_lag_1</td>\n",
       "      <td>0.013526</td>\n",
       "    </tr>\n",
       "    <tr>\n",
       "      <th>1</th>\n",
       "      <td>l1_lag_2</td>\n",
       "      <td>0.050854</td>\n",
       "    </tr>\n",
       "    <tr>\n",
       "      <th>2</th>\n",
       "      <td>l1_lag_3</td>\n",
       "      <td>0.061761</td>\n",
       "    </tr>\n",
       "    <tr>\n",
       "      <th>3</th>\n",
       "      <td>l2_lag_1</td>\n",
       "      <td>0.578917</td>\n",
       "    </tr>\n",
       "    <tr>\n",
       "      <th>4</th>\n",
       "      <td>l2_lag_2</td>\n",
       "      <td>0.193165</td>\n",
       "    </tr>\n",
       "    <tr>\n",
       "      <th>5</th>\n",
       "      <td>l2_lag_3</td>\n",
       "      <td>0.069140</td>\n",
       "    </tr>\n",
       "    <tr>\n",
       "      <th>6</th>\n",
       "      <td>exog_step_2</td>\n",
       "      <td>0.032638</td>\n",
       "    </tr>\n",
       "  </tbody>\n",
       "</table>\n",
       "</div>"
      ],
      "text/plain": [
       "       feature  importance\n",
       "0     l1_lag_1    0.013526\n",
       "1     l1_lag_2    0.050854\n",
       "2     l1_lag_3    0.061761\n",
       "3     l2_lag_1    0.578917\n",
       "4     l2_lag_2    0.193165\n",
       "5     l2_lag_3    0.069140\n",
       "6  exog_step_2    0.032638"
      ]
     },
     "execution_count": 64,
     "metadata": {},
     "output_type": "execute_result"
    }
   ],
   "source": [
    "forecaster.get_feature_importance(step=2)"
   ]
  },
  {
   "cell_type": "code",
   "execution_count": 14,
   "metadata": {},
   "outputs": [],
   "source": [
    "forecaster = ForecasterAutoregDirect(\n",
    "                         regressor = RandomForestRegressor(random_state=123),\n",
    "                         lags      = 3,\n",
    "                         steps     = 2,\n",
    "                         transformer_y=StandardScaler(),\n",
    "                     )\n",
    "forecaster.fit(y=series['l1'], exog=exog)"
   ]
  },
  {
   "cell_type": "code",
   "execution_count": 15,
   "metadata": {},
   "outputs": [
    {
     "data": {
      "text/plain": [
       "10    6.41\n",
       "11    7.41\n",
       "Name: pred, dtype: float64"
      ]
     },
     "execution_count": 15,
     "metadata": {},
     "output_type": "execute_result"
    }
   ],
   "source": [
    "forecaster.predict(exog=exog)"
   ]
  },
  {
   "cell_type": "code",
   "execution_count": 4,
   "metadata": {},
   "outputs": [],
   "source": [
    "import re\n",
    "import pytest\n",
    "\n",
    "steps = 10\n",
    "\n",
    "last_step = max(steps) if isinstance(steps, list) else steps\n",
    "err_msg = re.escape(\n",
    "            f'`exog` must have at least as many values as the distance to '\n",
    "            f'the maximum step predicted, {last_step}.'\n",
    "        )\n",
    "with pytest.raises(ValueError, match = err_msg):\n",
    "    check_predict_input(\n",
    "        forecaster_type  = 'ForecasterAutoreg',\n",
    "        steps            = steps,\n",
    "        fitted           = True,\n",
    "        included_exog    = True,\n",
    "        index_type       = pd.DatetimeIndex,\n",
    "        index_freq       = 'M',\n",
    "        window_size      = 5,\n",
    "        last_window      = pd.Series(np.arange(10), index=pd.date_range(start='1/1/2018', periods=10, freq='M')),\n",
    "        last_window_exog = None,\n",
    "        exog             = pd.Series(np.arange(5)),\n",
    "        exog_type        = None,\n",
    "        exog_col_names   = None,\n",
    "        interval         = None,\n",
    "        alpha            = None,\n",
    "        max_steps        = None,\n",
    "        levels           = None,\n",
    "        series_col_names = None\n",
    "    )"
   ]
  },
  {
   "cell_type": "code",
   "execution_count": 5,
   "metadata": {},
   "outputs": [],
   "source": [
    "aa = pd.Series(np.arange(5))"
   ]
  },
  {
   "cell_type": "code",
   "execution_count": 6,
   "metadata": {},
   "outputs": [
    {
     "data": {
      "text/plain": [
       "RangeIndex(start=0, stop=5, step=1)"
      ]
     },
     "execution_count": 6,
     "metadata": {},
     "output_type": "execute_result"
    }
   ],
   "source": [
    "aa.index"
   ]
  },
  {
   "cell_type": "code",
   "execution_count": 13,
   "metadata": {},
   "outputs": [
    {
     "data": {
      "text/plain": [
       "RangeIndex(start=11, stop=15, step=1)"
      ]
     },
     "execution_count": 13,
     "metadata": {},
     "output_type": "execute_result"
    }
   ],
   "source": [
    "pd.RangeIndex(start=11, stop=15)"
   ]
  },
  {
   "cell_type": "code",
   "execution_count": 16,
   "metadata": {},
   "outputs": [],
   "source": [
    "exog_datetime = pd.Series(data=np.random.rand(10))\n",
    "exog_datetime.index = pd.RangeIndex(start=12, stop=22)\n",
    "lw_datetime = pd.Series(data=np.random.rand(10))\n",
    "lw_datetime.index = pd.RangeIndex(start=0, stop=10)\n",
    "\n",
    "expected_index = 10\n",
    "\n",
    "err_msg = re.escape(\n",
    "        (f'To make predictions `exog` must start one step ahead of `last_window` end.\\n'\n",
    "            f'    `last_window` ends at : {lw_datetime.index[-1]}.\\n'\n",
    "            f'    Expected index        : {expected_index}.\\n'\n",
    "            f'    `exog` starts at      : {exog_datetime.index[0]}.')\n",
    "    )\n",
    "with pytest.raises(ValueError, match = err_msg):\n",
    "    check_predict_input(\n",
    "        forecaster_type  = 'ForecasterAutoreg',\n",
    "        steps            = 10,\n",
    "        fitted           = True,\n",
    "        included_exog    = True,\n",
    "        index_type       = pd.RangeIndex,\n",
    "        index_freq       = 'M',\n",
    "        window_size      = 5,\n",
    "        last_window      = lw_datetime,\n",
    "        last_window_exog = None,\n",
    "        exog             = exog_datetime,\n",
    "        exog_type        = pd.Series,\n",
    "        exog_col_names   = None,\n",
    "        interval         = None,\n",
    "        alpha            = None,\n",
    "        max_steps        = None,\n",
    "        levels           = None,\n",
    "        series_col_names = None\n",
    "    )"
   ]
  },
  {
   "cell_type": "code",
   "execution_count": 35,
   "metadata": {},
   "outputs": [],
   "source": [
    "from skforecast.ForecasterSarimax import ForecasterSarimax\n",
    "from skforecast.utils import expand_index\n",
    "from pmdarima.arima import ARIMA\n",
    "\n",
    "forecaster = ForecasterSarimax(regressor=ARIMA(order=(1,1,1)))\n",
    "forecaster.fit(y=y, exog=exog)\n",
    "last_window_exog=pd.Series(np.random.rand(50),\n",
    "           index = pd.RangeIndex(start=50, stop=100))\n",
    "\n",
    "err_msg = re.escape(\n",
    "        ('To make predictions unrelated to the original data, both '\n",
    "            '`last_window` and `last_window_exog` must be provided.')\n",
    "        )   \n",
    "with pytest.raises(ValueError, match = err_msg):\n",
    "    forecaster.predict(steps=5, exog=exog_predict, last_window=None, last_window_exog=last_window_exog)"
   ]
  },
  {
   "cell_type": "code",
   "execution_count": 33,
   "metadata": {},
   "outputs": [],
   "source": [
    "y = pd.Series(\n",
    "        data = np.array([0.69646919, 0.28613933, 0.22685145, 0.55131477, 0.71946897,\n",
    "                         0.42310646, 0.9807642 , 0.68482974, 0.4809319 , 0.39211752,\n",
    "                         0.34317802, 0.72904971, 0.43857224, 0.0596779 , 0.39804426,\n",
    "                         0.73799541, 0.18249173, 0.17545176, 0.53155137, 0.53182759,\n",
    "                         0.63440096, 0.84943179, 0.72445532, 0.61102351, 0.72244338,\n",
    "                         0.32295891, 0.36178866, 0.22826323, 0.29371405, 0.63097612,\n",
    "                         0.09210494, 0.43370117, 0.43086276, 0.4936851 , 0.42583029,\n",
    "                         0.31226122, 0.42635131, 0.89338916, 0.94416002, 0.50183668,\n",
    "                         0.62395295, 0.1156184 , 0.31728548, 0.41482621, 0.86630916,\n",
    "                         0.25045537, 0.48303426, 0.98555979, 0.51948512, 0.61289453]\n",
    "            ),\n",
    "        name = 'y'\n",
    "    )\n",
    "\n",
    "exog = pd.Series(\n",
    "           data = np.array([0.12062867, 0.8263408 , 0.60306013, 0.54506801, 0.34276383,\n",
    "                            0.30412079, 0.41702221, 0.68130077, 0.87545684, 0.51042234,\n",
    "                            0.66931378, 0.58593655, 0.6249035 , 0.67468905, 0.84234244,\n",
    "                            0.08319499, 0.76368284, 0.24366637, 0.19422296, 0.57245696,\n",
    "                            0.09571252, 0.88532683, 0.62724897, 0.72341636, 0.01612921,\n",
    "                            0.59443188, 0.55678519, 0.15895964, 0.15307052, 0.69552953,\n",
    "                            0.31876643, 0.6919703 , 0.55438325, 0.38895057, 0.92513249,\n",
    "                            0.84167   , 0.35739757, 0.04359146, 0.30476807, 0.39818568,\n",
    "                            0.70495883, 0.99535848, 0.35591487, 0.76254781, 0.59317692,\n",
    "                            0.6917018 , 0.15112745, 0.39887629, 0.2408559 , 0.34345601]\n",
    "               ),\n",
    "           name = 'exog'\n",
    "       )"
   ]
  },
  {
   "cell_type": "code",
   "execution_count": 34,
   "metadata": {},
   "outputs": [
    {
     "data": {
      "text/plain": [
       "50    0.120629\n",
       "51    0.826341\n",
       "52    0.603060\n",
       "53    0.545068\n",
       "54    0.342764\n",
       "55    0.304121\n",
       "56    0.417022\n",
       "57    0.681301\n",
       "58    0.875457\n",
       "59    0.510422\n",
       "Name: exog, dtype: float64"
      ]
     },
     "execution_count": 34,
     "metadata": {},
     "output_type": "execute_result"
    }
   ],
   "source": [
    "exog_predict = pd.Series(\n",
    "                  data = np.array([0.12062867, 0.8263408 , 0.60306013, 0.54506801, 0.34276383,\n",
    "                                   0.30412079, 0.41702221, 0.68130077, 0.87545684, 0.51042234]\n",
    "                      ),\n",
    "                  name = 'exog',\n",
    "                  index = pd.RangeIndex(start=50, stop=60)\n",
    "              )\n",
    "exog_predict  "
   ]
  },
  {
   "cell_type": "code",
   "execution_count": 42,
   "metadata": {},
   "outputs": [
    {
     "name": "stderr",
     "output_type": "stream",
     "text": [
      "c:\\Users\\jaesc2\\GitHub\\skforecast\\skforecast\\ForecasterSarimax\\ForecasterSarimax.py:250: FutureWarning: Explicitly passing `name=None` currently preserves the Series' name or uses a default name of 0. This behaviour is deprecated, and in the future `None` will be used as the name of the resulting DataFrame column.\n",
      "  exog = exog.to_frame(name=exog.name)\n",
      "c:\\Users\\jaesc2\\GitHub\\skforecast\\skforecast\\ForecasterSarimax\\ForecasterSarimax.py:380: FutureWarning: Explicitly passing `name=None` currently preserves the Series' name or uses a default name of 0. This behaviour is deprecated, and in the future `None` will be used as the name of the resulting DataFrame column.\n",
      "  last_window_exog = last_window_exog.to_frame(name=exog.name)\n",
      "c:\\Users\\jaesc2\\GitHub\\skforecast\\skforecast\\ForecasterSarimax\\ForecasterSarimax.py:399: FutureWarning: Explicitly passing `name=None` currently preserves the Series' name or uses a default name of 0. This behaviour is deprecated, and in the future `None` will be used as the name of the resulting DataFrame column.\n",
      "  exog = exog.to_frame(name=exog.name)\n"
     ]
    }
   ],
   "source": [
    "    y_datetime = pd.Series(data=list(y))\n",
    "    y_datetime.index = pd.date_range(start='2000', periods=50, freq='A')\n",
    "    lw_datetime = pd.Series(data=list(y))\n",
    "    lw_datetime.index = pd.date_range(start='2050', periods=50, freq='A')\n",
    "\n",
    "    exog_datetime = pd.Series(data=list(exog))\n",
    "    exog_datetime.index = pd.date_range(start='2000', periods=50, freq='A')\n",
    "    exog_pred_datetime = pd.Series(data=list(exog_predict))\n",
    "    exog_pred_datetime.index = pd.date_range(start='2100', periods=10, freq='A')\n",
    "    lw_exog_datetime = pd.Series(data=list(exog))\n",
    "    lw_exog_datetime.index = pd.date_range(start='2050', periods=50, freq='A')\n",
    "\n",
    "    forecaster = ForecasterSarimax(regressor=ARIMA(order=(1,1,1)))\n",
    "    forecaster.fit(y=y_datetime, exog=exog_datetime)\n",
    "    predictions = forecaster.predict(\n",
    "                      steps            = 5, \n",
    "                      exog             = exog_pred_datetime, \n",
    "                      last_window      = lw_datetime, \n",
    "                      last_window_exog = lw_exog_datetime\n",
    "                  )"
   ]
  },
  {
   "cell_type": "code",
   "execution_count": 57,
   "metadata": {},
   "outputs": [],
   "source": [
    "forecaster = ForecasterSarimax(regressor=ARIMA(order=(1,1,1)))\n",
    "forecaster.fit(y=y, exog=exog)\n",
    "lw = pd.Series(np.random.rand(10), index=pd.RangeIndex(start=50, stop=60))\n",
    "exog_predict = pd.Series(np.random.rand(10), index=pd.RangeIndex(start=60, stop=70))\n",
    "\n",
    "err_msg = re.escape(\n",
    "            ('Forecaster trained with exogenous variable/s. To make predictions '\n",
    "             'unrelated to the original data, same variable/s must be provided '\n",
    "             'using `last_window_exog`.')\n",
    "            )   \n",
    "with pytest.raises(ValueError, match = err_msg):\n",
    "    forecaster.predict(steps=5, exog=exog_predict, last_window=lw, last_window_exog=None)"
   ]
  },
  {
   "cell_type": "code",
   "execution_count": 46,
   "metadata": {},
   "outputs": [],
   "source": [
    "y = pd.Series(\n",
    "        data = np.array([0.69646919, 0.28613933, 0.22685145, 0.55131477, 0.71946897,\n",
    "                         0.42310646, 0.9807642 , 0.68482974, 0.4809319 , 0.39211752,\n",
    "                         0.34317802, 0.72904971, 0.43857224, 0.0596779 , 0.39804426,\n",
    "                         0.73799541, 0.18249173, 0.17545176, 0.53155137, 0.53182759,\n",
    "                         0.63440096, 0.84943179, 0.72445532, 0.61102351, 0.72244338,\n",
    "                         0.32295891, 0.36178866, 0.22826323, 0.29371405, 0.63097612,\n",
    "                         0.09210494, 0.43370117, 0.43086276, 0.4936851 , 0.42583029,\n",
    "                         0.31226122, 0.42635131, 0.89338916, 0.94416002, 0.50183668,\n",
    "                         0.62395295, 0.1156184 , 0.31728548, 0.41482621, 0.86630916,\n",
    "                         0.25045537, 0.48303426, 0.98555979, 0.51948512, 0.61289453]\n",
    "            ),\n",
    "        name = 'y'\n",
    "    )\n",
    "\n",
    "exog = pd.Series(\n",
    "           data = np.array([0.12062867, 0.8263408 , 0.60306013, 0.54506801, 0.34276383,\n",
    "                            0.30412079, 0.41702221, 0.68130077, 0.87545684, 0.51042234,\n",
    "                            0.66931378, 0.58593655, 0.6249035 , 0.67468905, 0.84234244,\n",
    "                            0.08319499, 0.76368284, 0.24366637, 0.19422296, 0.57245696,\n",
    "                            0.09571252, 0.88532683, 0.62724897, 0.72341636, 0.01612921,\n",
    "                            0.59443188, 0.55678519, 0.15895964, 0.15307052, 0.69552953,\n",
    "                            0.31876643, 0.6919703 , 0.55438325, 0.38895057, 0.92513249,\n",
    "                            0.84167   , 0.35739757, 0.04359146, 0.30476807, 0.39818568,\n",
    "                            0.70495883, 0.99535848, 0.35591487, 0.76254781, 0.59317692,\n",
    "                            0.6917018 , 0.15112745, 0.39887629, 0.2408559 , 0.34345601]\n",
    "               ),\n",
    "           name = 'exog'\n",
    "       )\n",
    "\n",
    "exog_predict = pd.Series(\n",
    "                  data = np.array([0.12062867, 0.8263408 , 0.60306013, 0.54506801, 0.34276383,\n",
    "                                   0.30412079, 0.41702221, 0.68130077, 0.87545684, 0.51042234]\n",
    "                      ),\n",
    "                  name = 'exog',\n",
    "                  index = pd.RangeIndex(start=50, stop=60)\n",
    "              )"
   ]
  },
  {
   "cell_type": "code",
   "execution_count": null,
   "metadata": {},
   "outputs": [],
   "source": []
  },
  {
   "cell_type": "code",
   "execution_count": 5,
   "metadata": {},
   "outputs": [],
   "source": [
    "y = pd.Series(\n",
    "        data = np.array([0.69646919, 0.28613933, 0.22685145, 0.55131477, 0.71946897,\n",
    "                         0.42310646, 0.9807642 , 0.68482974, 0.4809319 , 0.39211752,\n",
    "                         0.34317802, 0.72904971, 0.43857224, 0.0596779 , 0.39804426,\n",
    "                         0.73799541, 0.18249173, 0.17545176, 0.53155137, 0.53182759,\n",
    "                         0.63440096, 0.84943179, 0.72445532, 0.61102351, 0.72244338,\n",
    "                         0.32295891, 0.36178866, 0.22826323, 0.29371405, 0.63097612,\n",
    "                         0.09210494, 0.43370117, 0.43086276, 0.4936851 , 0.42583029,\n",
    "                         0.31226122, 0.42635131, 0.89338916, 0.94416002, 0.50183668,\n",
    "                         0.62395295, 0.1156184 , 0.31728548, 0.41482621, 0.86630916,\n",
    "                         0.25045537, 0.48303426, 0.98555979, 0.51948512, 0.61289453]\n",
    "            ),\n",
    "        name = 'y'\n",
    "    )\n",
    "\n",
    "exog = pd.Series(\n",
    "           data = np.array([0.12062867, 0.8263408 , 0.60306013, 0.54506801, 0.34276383,\n",
    "                            0.30412079, 0.41702221, 0.68130077, 0.87545684, 0.51042234,\n",
    "                            0.66931378, 0.58593655, 0.6249035 , 0.67468905, 0.84234244,\n",
    "                            0.08319499, 0.76368284, 0.24366637, 0.19422296, 0.57245696,\n",
    "                            0.09571252, 0.88532683, 0.62724897, 0.72341636, 0.01612921,\n",
    "                            0.59443188, 0.55678519, 0.15895964, 0.15307052, 0.69552953,\n",
    "                            0.31876643, 0.6919703 , 0.55438325, 0.38895057, 0.92513249,\n",
    "                            0.84167   , 0.35739757, 0.04359146, 0.30476807, 0.39818568,\n",
    "                            0.70495883, 0.99535848, 0.35591487, 0.76254781, 0.59317692,\n",
    "                            0.6917018 , 0.15112745, 0.39887629, 0.2408559 , 0.34345601]\n",
    "               ),\n",
    "           name = 'exog'\n",
    "       )\n",
    "\n",
    "exog_predict = pd.Series(\n",
    "                  data = np.array([0.12062867, 0.8263408 , 0.60306013, 0.54506801, 0.34276383,\n",
    "                                   0.30412079, 0.41702221, 0.68130077, 0.87545684, 0.51042234]\n",
    "                      ),\n",
    "                  name = 'exog',\n",
    "                  index = pd.RangeIndex(start=50, stop=60)\n",
    "              )"
   ]
  },
  {
   "cell_type": "code",
   "execution_count": 20,
   "metadata": {},
   "outputs": [],
   "source": [
    "import re\n",
    "import pytest\n",
    "import numpy as np\n",
    "import pandas as pd\n",
    "from skforecast.ForecasterSarimax import ForecasterSarimax\n",
    "from skforecast.utils import expand_index\n",
    "from pmdarima.arima import ARIMA\n",
    "from sklearn.compose import ColumnTransformer\n",
    "from sklearn.preprocessing import StandardScaler\n",
    "from sklearn.preprocessing import OneHotEncoder\n",
    "\n",
    "y_datetime = pd.Series(data=list(y))\n",
    "y_datetime.index = pd.date_range(start='2000', periods=50, freq='A')\n",
    "y_datetime.name = 'y'\n",
    "lw_datetime = pd.Series(data=list(y))\n",
    "lw_datetime.index = pd.date_range(start='2050', periods=50, freq='A')\n",
    "\n",
    "df_exog = pd.DataFrame({'exog_1': exog, 'exog_2': ['a']*25+['b']*25})\n",
    "df_exog.index = pd.date_range(start='2000', periods=50, freq='A')\n",
    "df_lw_exog = df_exog.copy()\n",
    "df_lw_exog.index = pd.date_range(start='2050', periods=50, freq='A')\n",
    "df_exog_pred = df_exog.copy()\n",
    "df_exog_pred.index = pd.date_range(start='2100', periods=50, freq='A')\n",
    "\n",
    "transformer_exog = ColumnTransformer(\n",
    "                        [('scale', StandardScaler(), ['exog_1']),\n",
    "                         ('onehot', OneHotEncoder(), ['exog_2'])],\n",
    "                         remainder = 'passthrough',\n",
    "                         verbose_feature_names_out = False\n",
    "                    )"
   ]
  },
  {
   "cell_type": "code",
   "execution_count": 21,
   "metadata": {},
   "outputs": [
    {
     "data": {
      "text/plain": [
       "2050-12-31    0.696469\n",
       "2051-12-31    0.286139\n",
       "2052-12-31    0.226851\n",
       "2053-12-31    0.551315\n",
       "2054-12-31    0.719469\n",
       "Freq: A-DEC, dtype: float64"
      ]
     },
     "execution_count": 21,
     "metadata": {},
     "output_type": "execute_result"
    }
   ],
   "source": [
    "lw_datetime.head()"
   ]
  },
  {
   "cell_type": "code",
   "execution_count": 22,
   "metadata": {},
   "outputs": [],
   "source": [
    "lw_datetime.name = 'y'"
   ]
  },
  {
   "cell_type": "code",
   "execution_count": 24,
   "metadata": {},
   "outputs": [
    {
     "name": "stdout",
     "output_type": "stream",
     "text": [
      "2050-12-31    0.696469\n",
      "2051-12-31    0.286139\n",
      "2052-12-31    0.226851\n",
      "2053-12-31    0.551315\n",
      "2054-12-31    0.719469\n",
      "Freq: A-DEC, Name: y, dtype: float64\n",
      "2050-12-31    0.696469\n",
      "2051-12-31    0.286139\n",
      "2052-12-31    0.226851\n",
      "2053-12-31    0.551315\n",
      "2054-12-31    0.719469\n",
      "Freq: A-DEC, dtype: float64\n"
     ]
    },
    {
     "data": {
      "text/plain": [
       "2100-12-31    0.549296\n",
       "2101-12-31    0.539391\n",
       "2102-12-31    0.538325\n",
       "2103-12-31    0.538715\n",
       "2104-12-31    0.539344\n",
       "Freq: A-DEC, Name: pred, dtype: float64"
      ]
     },
     "execution_count": 24,
     "metadata": {},
     "output_type": "execute_result"
    }
   ],
   "source": [
    "forecaster = ForecasterSarimax(\n",
    "                    regressor        = ARIMA(order=(1,1,1))\n",
    "                )\n",
    "forecaster.fit(y=y_datetime)\n",
    "forecaster.predict(\n",
    "    steps            = 5, \n",
    "    last_window      = lw_datetime\n",
    ")\n"
   ]
  },
  {
   "cell_type": "code",
   "execution_count": 26,
   "metadata": {},
   "outputs": [
    {
     "data": {
      "text/plain": [
       "2050-12-31    0.696469\n",
       "2051-12-31    0.286139\n",
       "2052-12-31    0.226851\n",
       "2053-12-31    0.551315\n",
       "2054-12-31    0.719469\n",
       "Freq: A-DEC, Name: y, dtype: float64"
      ]
     },
     "execution_count": 26,
     "metadata": {},
     "output_type": "execute_result"
    }
   ],
   "source": [
    "lw_datetime.name = 'y'\n",
    "lw_datetime.head()"
   ]
  },
  {
   "cell_type": "code",
   "execution_count": 27,
   "metadata": {},
   "outputs": [
    {
     "name": "stdout",
     "output_type": "stream",
     "text": [
      "2050-12-31    0.696469\n",
      "2051-12-31    0.286139\n",
      "2052-12-31    0.226851\n",
      "2053-12-31    0.551315\n",
      "2054-12-31    0.719469\n",
      "Freq: A-DEC, Name: y, dtype: float64\n",
      "2050-12-31    0.837129\n",
      "2051-12-31   -0.927922\n",
      "2052-12-31   -1.182952\n",
      "2053-12-31    0.212741\n",
      "2054-12-31    0.936063\n",
      "Freq: A-DEC, dtype: float64\n"
     ]
    },
    {
     "data": {
      "text/plain": [
       "2100-12-31    0.549429\n",
       "2101-12-31    0.539552\n",
       "2102-12-31    0.538494\n",
       "2103-12-31    0.538888\n",
       "2104-12-31    0.539521\n",
       "Freq: A-DEC, Name: pred, dtype: float64"
      ]
     },
     "execution_count": 27,
     "metadata": {},
     "output_type": "execute_result"
    }
   ],
   "source": [
    "forecaster = ForecasterSarimax(\n",
    "                    regressor        = ARIMA(order=(1,1,1)), \n",
    "                    transformer_y    = StandardScaler()\n",
    "                )\n",
    "forecaster.fit(y=y_datetime)\n",
    "forecaster.predict(\n",
    "    steps            = 5, \n",
    "    last_window      = lw_datetime\n",
    ")"
   ]
  },
  {
   "cell_type": "code",
   "execution_count": 28,
   "metadata": {},
   "outputs": [
    {
     "data": {
      "text/plain": [
       "2050-12-31    0.696469\n",
       "2051-12-31    0.286139\n",
       "2052-12-31    0.226851\n",
       "2053-12-31    0.551315\n",
       "2054-12-31    0.719469\n",
       "2055-12-31    0.423106\n",
       "2056-12-31    0.980764\n",
       "2057-12-31    0.684830\n",
       "2058-12-31    0.480932\n",
       "2059-12-31    0.392118\n",
       "2060-12-31    0.343178\n",
       "2061-12-31    0.729050\n",
       "2062-12-31    0.438572\n",
       "2063-12-31    0.059678\n",
       "2064-12-31    0.398044\n",
       "2065-12-31    0.737995\n",
       "2066-12-31    0.182492\n",
       "2067-12-31    0.175452\n",
       "2068-12-31    0.531551\n",
       "2069-12-31    0.531828\n",
       "2070-12-31    0.634401\n",
       "2071-12-31    0.849432\n",
       "2072-12-31    0.724455\n",
       "2073-12-31    0.611024\n",
       "2074-12-31    0.722443\n",
       "2075-12-31    0.322959\n",
       "2076-12-31    0.361789\n",
       "2077-12-31    0.228263\n",
       "2078-12-31    0.293714\n",
       "2079-12-31    0.630976\n",
       "2080-12-31    0.092105\n",
       "2081-12-31    0.433701\n",
       "2082-12-31    0.430863\n",
       "2083-12-31    0.493685\n",
       "2084-12-31    0.425830\n",
       "2085-12-31    0.312261\n",
       "2086-12-31    0.426351\n",
       "2087-12-31    0.893389\n",
       "2088-12-31    0.944160\n",
       "2089-12-31    0.501837\n",
       "2090-12-31    0.623953\n",
       "2091-12-31    0.115618\n",
       "2092-12-31    0.317285\n",
       "2093-12-31    0.414826\n",
       "2094-12-31    0.866309\n",
       "2095-12-31    0.250455\n",
       "2096-12-31    0.483034\n",
       "2097-12-31    0.985560\n",
       "2098-12-31    0.519485\n",
       "2099-12-31    0.612895\n",
       "Freq: A-DEC, Name: y, dtype: float64"
      ]
     },
     "execution_count": 28,
     "metadata": {},
     "output_type": "execute_result"
    }
   ],
   "source": [
    "lw_datetime"
   ]
  },
  {
   "cell_type": "code",
   "execution_count": 29,
   "metadata": {},
   "outputs": [
    {
     "name": "stdout",
     "output_type": "stream",
     "text": [
      "2050-12-31    0.696469\n",
      "2051-12-31    0.286139\n",
      "2052-12-31    0.226851\n",
      "2053-12-31    0.551315\n",
      "2054-12-31    0.719469\n",
      "Freq: A-DEC, Name: y, dtype: float64\n",
      "2050-12-31    0.837129\n",
      "2051-12-31   -0.927922\n",
      "2052-12-31   -1.182952\n",
      "2053-12-31    0.212741\n",
      "2054-12-31    0.936063\n",
      "Freq: A-DEC, dtype: float64\n"
     ]
    },
    {
     "data": {
      "text/plain": [
       "2100-12-31    1.088376\n",
       "2101-12-31    0.959666\n",
       "2102-12-31    1.016456\n",
       "2103-12-31    1.036812\n",
       "2104-12-31    1.087934\n",
       "Freq: A-DEC, Name: pred, dtype: float64"
      ]
     },
     "execution_count": 29,
     "metadata": {},
     "output_type": "execute_result"
    }
   ],
   "source": [
    "forecaster = ForecasterSarimax(\n",
    "                    regressor        = ARIMA(order=(1,1,1)), \n",
    "                    transformer_y    = StandardScaler(),\n",
    "                    transformer_exog = transformer_exog\n",
    "                )\n",
    "forecaster.fit(y=y_datetime, exog=df_exog)\n",
    "forecaster.predict(\n",
    "    steps            = 5, \n",
    "    exog             = df_exog_pred, \n",
    "    last_window      = lw_datetime, \n",
    "    last_window_exog = df_lw_exog\n",
    ")"
   ]
  },
  {
   "cell_type": "code",
   "execution_count": 30,
   "metadata": {},
   "outputs": [],
   "source": [
    "exog = pd.DataFrame({'exog_1': exog, 'exog_2': ['a']*25+['b']*25})\n",
    "exog = exog['exog_1'].copy()\n",
    "exog.index = pd.date_range(start='2000', periods=50, freq='A')\n",
    "lw_exog = exog.copy()\n",
    "lw_exog.index = pd.date_range(start='2050', periods=50, freq='A')\n",
    "exog_pred = exog.copy()\n",
    "exog_pred.index = pd.date_range(start='2100', periods=50, freq='A')"
   ]
  },
  {
   "cell_type": "code",
   "execution_count": 32,
   "metadata": {},
   "outputs": [
    {
     "data": {
      "text/plain": [
       "2000-12-31    0.120629\n",
       "2001-12-31    0.826341\n",
       "2002-12-31    0.603060\n",
       "2003-12-31    0.545068\n",
       "2004-12-31    0.342764\n",
       "Freq: A-DEC, Name: exog_1, dtype: float64"
      ]
     },
     "execution_count": 32,
     "metadata": {},
     "output_type": "execute_result"
    }
   ],
   "source": [
    "exog.head()"
   ]
  },
  {
   "cell_type": "code",
   "execution_count": 33,
   "metadata": {},
   "outputs": [
    {
     "data": {
      "text/plain": [
       "2050-12-31    0.120629\n",
       "2051-12-31    0.826341\n",
       "2052-12-31    0.603060\n",
       "2053-12-31    0.545068\n",
       "2054-12-31    0.342764\n",
       "Freq: A-DEC, Name: exog_1, dtype: float64"
      ]
     },
     "execution_count": 33,
     "metadata": {},
     "output_type": "execute_result"
    }
   ],
   "source": [
    "lw_exog.head()"
   ]
  },
  {
   "cell_type": "code",
   "execution_count": 34,
   "metadata": {},
   "outputs": [
    {
     "name": "stdout",
     "output_type": "stream",
     "text": [
      "2050-12-31    0.696469\n",
      "2051-12-31    0.286139\n",
      "2052-12-31    0.226851\n",
      "2053-12-31    0.551315\n",
      "2054-12-31    0.719469\n",
      "Freq: A-DEC, Name: y, dtype: float64\n",
      "2050-12-31    0.837129\n",
      "2051-12-31   -0.927922\n",
      "2052-12-31   -1.182952\n",
      "2053-12-31    0.212741\n",
      "2054-12-31    0.936063\n",
      "Freq: A-DEC, dtype: float64\n"
     ]
    },
    {
     "data": {
      "text/plain": [
       "2100-12-31    0.614260\n",
       "2101-12-31    0.455223\n",
       "2102-12-31    0.503035\n",
       "2103-12-31    0.515887\n",
       "2104-12-31    0.560093\n",
       "Freq: A-DEC, Name: pred, dtype: float64"
      ]
     },
     "execution_count": 34,
     "metadata": {},
     "output_type": "execute_result"
    }
   ],
   "source": [
    "forecaster = ForecasterSarimax(\n",
    "                    regressor        = ARIMA(order=(1,1,1)), \n",
    "                    transformer_y    = StandardScaler(),\n",
    "                    transformer_exog = StandardScaler()\n",
    "                )\n",
    "forecaster.fit(y=y_datetime, exog=exog)\n",
    "forecaster.predict(\n",
    "    steps            = 5, \n",
    "    exog             = exog_pred, \n",
    "    last_window      = lw_datetime, \n",
    "    last_window_exog = lw_exog\n",
    ")"
   ]
  },
  {
   "cell_type": "code",
   "execution_count": 19,
   "metadata": {},
   "outputs": [
    {
     "ename": "ModuleNotFoundError",
     "evalue": "No module named 'skforecast'",
     "output_type": "error",
     "traceback": [
      "\u001b[1;31m---------------------------------------------------------------------------\u001b[0m",
      "\u001b[1;31mModuleNotFoundError\u001b[0m                       Traceback (most recent call last)",
      "Cell \u001b[1;32mIn [19], line 5\u001b[0m\n\u001b[0;32m      3\u001b[0m \u001b[39mimport\u001b[39;00m \u001b[39mnumpy\u001b[39;00m \u001b[39mas\u001b[39;00m \u001b[39mnp\u001b[39;00m\n\u001b[0;32m      4\u001b[0m \u001b[39mimport\u001b[39;00m \u001b[39mpandas\u001b[39;00m \u001b[39mas\u001b[39;00m \u001b[39mpd\u001b[39;00m\n\u001b[1;32m----> 5\u001b[0m \u001b[39mfrom\u001b[39;00m \u001b[39mskforecast\u001b[39;00m\u001b[39m.\u001b[39;00m\u001b[39mForecasterSarimax\u001b[39;00m \u001b[39mimport\u001b[39;00m ForecasterSarimax\n\u001b[0;32m      6\u001b[0m \u001b[39mfrom\u001b[39;00m \u001b[39mskforecast\u001b[39;00m\u001b[39m.\u001b[39;00m\u001b[39mutils\u001b[39;00m \u001b[39mimport\u001b[39;00m expand_index\n\u001b[0;32m      7\u001b[0m \u001b[39mfrom\u001b[39;00m \u001b[39mpmdarima\u001b[39;00m\u001b[39m.\u001b[39;00m\u001b[39marima\u001b[39;00m \u001b[39mimport\u001b[39;00m ARIMA\n",
      "\u001b[1;31mModuleNotFoundError\u001b[0m: No module named 'skforecast'"
     ]
    }
   ],
   "source": [
    "import re\n",
    "import pytest\n",
    "import numpy as np\n",
    "import pandas as pd\n",
    "from skforecast.ForecasterSarimax import ForecasterSarimax\n",
    "from skforecast.utils import expand_index\n",
    "from pmdarima.arima import ARIMA\n",
    "from sklearn.compose import ColumnTransformer\n",
    "from sklearn.preprocessing import StandardScaler\n",
    "from sklearn.preprocessing import OneHotEncoder"
   ]
  },
  {
   "cell_type": "code",
   "execution_count": 13,
   "metadata": {},
   "outputs": [],
   "source": [
    "# Fixtures ForecasterSarimax\n",
    "# ==============================================================================\n",
    "import numpy as np\n",
    "import pandas as pd\n",
    "\n",
    "# Fixtures\n",
    "# np.random.seed(123)\n",
    "# y = np.random.rand(50)\n",
    "# exog = np.random.rand(50)\n",
    "y = pd.Series(\n",
    "        data = np.array([0.69646919, 0.28613933, 0.22685145, 0.55131477, 0.71946897,\n",
    "                         0.42310646, 0.9807642 , 0.68482974, 0.4809319 , 0.39211752,\n",
    "                         0.34317802, 0.72904971, 0.43857224, 0.0596779 , 0.39804426,\n",
    "                         0.73799541, 0.18249173, 0.17545176, 0.53155137, 0.53182759,\n",
    "                         0.63440096, 0.84943179, 0.72445532, 0.61102351, 0.72244338,\n",
    "                         0.32295891, 0.36178866, 0.22826323, 0.29371405, 0.63097612,\n",
    "                         0.09210494, 0.43370117, 0.43086276, 0.4936851 , 0.42583029,\n",
    "                         0.31226122, 0.42635131, 0.89338916, 0.94416002, 0.50183668,\n",
    "                         0.62395295, 0.1156184 , 0.31728548, 0.41482621, 0.86630916,\n",
    "                         0.25045537, 0.48303426, 0.98555979, 0.51948512, 0.61289453]\n",
    "            ),\n",
    "        name = 'y'\n",
    "    )\n",
    "\n",
    "exog = pd.Series(\n",
    "           data = np.array([0.12062867, 0.8263408 , 0.60306013, 0.54506801, 0.34276383,\n",
    "                            0.30412079, 0.41702221, 0.68130077, 0.87545684, 0.51042234,\n",
    "                            0.66931378, 0.58593655, 0.6249035 , 0.67468905, 0.84234244,\n",
    "                            0.08319499, 0.76368284, 0.24366637, 0.19422296, 0.57245696,\n",
    "                            0.09571252, 0.88532683, 0.62724897, 0.72341636, 0.01612921,\n",
    "                            0.59443188, 0.55678519, 0.15895964, 0.15307052, 0.69552953,\n",
    "                            0.31876643, 0.6919703 , 0.55438325, 0.38895057, 0.92513249,\n",
    "                            0.84167   , 0.35739757, 0.04359146, 0.30476807, 0.39818568,\n",
    "                            0.70495883, 0.99535848, 0.35591487, 0.76254781, 0.59317692,\n",
    "                            0.6917018 , 0.15112745, 0.39887629, 0.2408559 , 0.34345601]\n",
    "               ),\n",
    "           name = 'exog'\n",
    "       )\n",
    "\n",
    "exog_predict = pd.Series(\n",
    "                  data = np.array([0.12062867, 0.8263408 , 0.60306013, 0.54506801, 0.34276383,\n",
    "                                   0.30412079, 0.41702221, 0.68130077, 0.87545684, 0.51042234]\n",
    "                      ),\n",
    "                  name = 'exog',\n",
    "                  index = pd.RangeIndex(start=50, stop=60)\n",
    "               )\n",
    "\n",
    "df_exog = pd.DataFrame({\n",
    "              'exog_1': exog,\n",
    "              'exog_2': ['a']*25+['b']*25}\n",
    "          )\n",
    "df_exog_predict = df_exog.copy()\n",
    "df_exog_predict.index = pd.RangeIndex(start=50, stop=100)\n",
    "\n",
    "y_datetime = pd.Series(data=list(y))\n",
    "y_datetime.index = pd.date_range(start='2000', periods=50, freq='A')\n",
    "y_datetime.name = 'y'\n",
    "\n",
    "# lw_datetime = pd.Series(data=y)\n",
    "# lw_datetime.index = pd.date_range(start='2050', periods=50, freq='A')\n",
    "# lw_datetime.name = 'y'\n",
    "\n",
    "# exog_datetime = pd.Series(data=exog)\n",
    "# exog_datetime.index = pd.date_range(start='2000', periods=50, freq='A')\n",
    "# exog_datetime.name = 'exog'\n",
    "\n",
    "# lw_exog_datetime = pd.Series(data=exog)\n",
    "# lw_exog_datetime.index = pd.date_range(start='2050', periods=50, freq='A')\n",
    "# lw_exog_datetime.name = 'exog'\n",
    "\n",
    "# exog_predict_datetime = pd.Series(data=exog_predict)\n",
    "# exog_predict_datetime.index = pd.date_range(start='2100', periods=10, freq='A')\n",
    "# exog_predict_datetime.name = 'exog'\n",
    "\n",
    "# df_exog_datetime = df_exog.copy()\n",
    "# df_exog_datetime.index = pd.date_range(start='2000', periods=50, freq='A')\n",
    "\n",
    "# df_lw_exog_datetime = df_exog.copy()\n",
    "# df_lw_exog_datetime.index = pd.date_range(start='2050', periods=50, freq='A')\n",
    "\n",
    "# df_exog_predict_datetime = df_exog.copy()\n",
    "# df_exog_predict_datetime.index = pd.date_range(start='2100', periods=50, freq='A')"
   ]
  },
  {
   "cell_type": "code",
   "execution_count": 14,
   "metadata": {},
   "outputs": [
    {
     "data": {
      "text/plain": [
       "0    0.696469\n",
       "1    0.286139\n",
       "2    0.226851\n",
       "3    0.551315\n",
       "4    0.719469\n",
       "Name: y, dtype: float64"
      ]
     },
     "execution_count": 14,
     "metadata": {},
     "output_type": "execute_result"
    }
   ],
   "source": [
    "y.head()"
   ]
  },
  {
   "cell_type": "code",
   "execution_count": 15,
   "metadata": {},
   "outputs": [],
   "source": [
    "y_datetime = pd.Series(data=y.values)\n",
    "y_datetime.index = pd.date_range(start='2000', periods=50, freq='A')\n",
    "y_datetime.name = 'y'"
   ]
  },
  {
   "cell_type": "code",
   "execution_count": 4,
   "metadata": {},
   "outputs": [],
   "source": [
    "# Fixtures ForecasterSarimax\n",
    "# ==============================================================================\n",
    "import numpy as np\n",
    "import pandas as pd\n",
    "\n",
    "# Fixtures\n",
    "# np.random.seed(123)\n",
    "# y = np.random.rand(50)\n",
    "# exog = np.random.rand(50)\n",
    "y = pd.Series(\n",
    "        data = np.array([0.69646919, 0.28613933, 0.22685145, 0.55131477, 0.71946897,\n",
    "                         0.42310646, 0.9807642 , 0.68482974, 0.4809319 , 0.39211752,\n",
    "                         0.34317802, 0.72904971, 0.43857224, 0.0596779 , 0.39804426,\n",
    "                         0.73799541, 0.18249173, 0.17545176, 0.53155137, 0.53182759,\n",
    "                         0.63440096, 0.84943179, 0.72445532, 0.61102351, 0.72244338,\n",
    "                         0.32295891, 0.36178866, 0.22826323, 0.29371405, 0.63097612,\n",
    "                         0.09210494, 0.43370117, 0.43086276, 0.4936851 , 0.42583029,\n",
    "                         0.31226122, 0.42635131, 0.89338916, 0.94416002, 0.50183668,\n",
    "                         0.62395295, 0.1156184 , 0.31728548, 0.41482621, 0.86630916,\n",
    "                         0.25045537, 0.48303426, 0.98555979, 0.51948512, 0.61289453]\n",
    "            ),\n",
    "        name = 'y'\n",
    "    )\n",
    "\n",
    "exog = pd.Series(\n",
    "           data = np.array([0.12062867, 0.8263408 , 0.60306013, 0.54506801, 0.34276383,\n",
    "                            0.30412079, 0.41702221, 0.68130077, 0.87545684, 0.51042234,\n",
    "                            0.66931378, 0.58593655, 0.6249035 , 0.67468905, 0.84234244,\n",
    "                            0.08319499, 0.76368284, 0.24366637, 0.19422296, 0.57245696,\n",
    "                            0.09571252, 0.88532683, 0.62724897, 0.72341636, 0.01612921,\n",
    "                            0.59443188, 0.55678519, 0.15895964, 0.15307052, 0.69552953,\n",
    "                            0.31876643, 0.6919703 , 0.55438325, 0.38895057, 0.92513249,\n",
    "                            0.84167   , 0.35739757, 0.04359146, 0.30476807, 0.39818568,\n",
    "                            0.70495883, 0.99535848, 0.35591487, 0.76254781, 0.59317692,\n",
    "                            0.6917018 , 0.15112745, 0.39887629, 0.2408559 , 0.34345601]\n",
    "               ),\n",
    "           name = 'exog'\n",
    "       )\n",
    "\n",
    "exog_predict = pd.Series(\n",
    "                  data = np.array([0.12062867, 0.8263408 , 0.60306013, 0.54506801, 0.34276383,\n",
    "                                   0.30412079, 0.41702221, 0.68130077, 0.87545684, 0.51042234]\n",
    "                      ),\n",
    "                  name = 'exog',\n",
    "                  index = pd.RangeIndex(start=50, stop=60)\n",
    "               )\n",
    "\n",
    "df_exog = pd.DataFrame({\n",
    "              'exog_1': exog.values,\n",
    "              'exog_2': ['a']*25+['b']*25}\n",
    "          )\n",
    "df_exog_predict = df_exog.copy()\n",
    "df_exog_predict.index = pd.RangeIndex(start=50, stop=100)\n",
    "\n",
    "y_datetime = pd.Series(data=y.values)\n",
    "y_datetime.index = pd.date_range(start='2000', periods=50, freq='A')\n",
    "y_datetime.name = 'y'\n",
    "\n",
    "lw_datetime = pd.Series(data=y.values)\n",
    "lw_datetime.index = pd.date_range(start='2050', periods=50, freq='A')\n",
    "lw_datetime.name = 'y'\n",
    "\n",
    "exog_datetime = pd.Series(data=exog.values)\n",
    "exog_datetime.index = pd.date_range(start='2000', periods=50, freq='A')\n",
    "exog_datetime.name = 'exog'\n",
    "\n",
    "lw_exog_datetime = pd.Series(data=exog.values)\n",
    "lw_exog_datetime.index = pd.date_range(start='2050', periods=50, freq='A')\n",
    "lw_exog_datetime.name = 'exog'\n",
    "\n",
    "exog_predict_datetime = pd.Series(data=exog_predict.values)\n",
    "exog_predict_datetime.index = pd.date_range(start='2100', periods=10, freq='A')\n",
    "exog_predict_datetime.name = 'exog'\n",
    "\n",
    "df_exog_datetime = df_exog.copy()\n",
    "df_exog_datetime.index = pd.date_range(start='2000', periods=50, freq='A')\n",
    "\n",
    "df_lw_exog_datetime = df_exog.copy()\n",
    "df_lw_exog_datetime.index = pd.date_range(start='2050', periods=50, freq='A')\n",
    "\n",
    "df_exog_predict_datetime = df_exog.copy()\n",
    "df_exog_predict_datetime.index = pd.date_range(start='2100', periods=50, freq='A')"
   ]
  },
  {
   "cell_type": "code",
   "execution_count": 79,
   "metadata": {},
   "outputs": [
    {
     "name": "stdout",
     "output_type": "stream",
     "text": [
      "32\n",
      "2520\n",
      "512\n",
      "800016\n"
     ]
    }
   ],
   "source": [
    "import sys\n",
    "\n",
    "print(sys.getsizeof(y_datetime.iloc[-2:].index))\n",
    "print(sys.getsizeof(y_datetime.index))\n",
    "print(sys.getsizeof(y_datetime.values))\n",
    "print(sys.getsizeof(pd.date_range(start='2000', periods=100000, freq='s')))"
   ]
  },
  {
   "cell_type": "code",
   "execution_count": 65,
   "metadata": {},
   "outputs": [
    {
     "data": {
      "text/plain": [
       "RangeIndex(start=48, stop=50, step=1)"
      ]
     },
     "execution_count": 65,
     "metadata": {},
     "output_type": "execute_result"
    }
   ],
   "source": [
    "y.iloc[-2:].index"
   ]
  },
  {
   "cell_type": "code",
   "execution_count": 66,
   "metadata": {},
   "outputs": [
    {
     "data": {
      "text/plain": [
       "DatetimeIndex(['2050-12-31'], dtype='datetime64[ns]', freq='A-DEC')"
      ]
     },
     "execution_count": 66,
     "metadata": {},
     "output_type": "execute_result"
    }
   ],
   "source": [
    "expand_index(index=y_datetime.iloc[-2:].index, steps=1)"
   ]
  },
  {
   "cell_type": "code",
   "execution_count": 67,
   "metadata": {},
   "outputs": [
    {
     "data": {
      "text/plain": [
       "RangeIndex(start=50, stop=51, step=1)"
      ]
     },
     "execution_count": 67,
     "metadata": {},
     "output_type": "execute_result"
    }
   ],
   "source": [
    "expand_index(index=y.iloc[-2:].index, steps=1)"
   ]
  },
  {
   "cell_type": "code",
   "execution_count": 5,
   "metadata": {},
   "outputs": [],
   "source": [
    "transformer_exog = ColumnTransformer(\n",
    "                           [('scale', StandardScaler(), ['exog_1']),\n",
    "                            ('onehot', OneHotEncoder(), ['exog_2'])],\n",
    "                           remainder = 'passthrough',\n",
    "                           verbose_feature_names_out = False\n",
    "                       )"
   ]
  },
  {
   "cell_type": "code",
   "execution_count": 6,
   "metadata": {},
   "outputs": [
    {
     "data": {
      "text/plain": [
       "array([[0.54942884, 0.09196387, 1.00689381],\n",
       "       [0.53955162, 0.07520018, 1.00390307],\n",
       "       [0.53849403, 0.0738371 , 1.00315095],\n",
       "       [0.53888797, 0.07420296, 1.00357299],\n",
       "       [0.53952081, 0.07483176, 1.00420986]])"
      ]
     },
     "execution_count": 6,
     "metadata": {},
     "output_type": "execute_result"
    }
   ],
   "source": [
    "forecaster = ForecasterSarimax(regressor=ARIMA(order=(1,1,1)),\n",
    "                     transformer_y    = StandardScaler(),\n",
    "                     #transformer_exog = transformer_exog\n",
    "                     )\n",
    "forecaster.fit(y=y_datetime, #exog=df_exog_datetime\n",
    ")\n",
    "forecaster.predict_interval(\n",
    "                      steps            = 5, alpha=0.05,\n",
    "                    #exog             = df_exog_predict_datetime, \n",
    "                      last_window      = lw_datetime, \n",
    "                      #last_window_exog = df_lw_exog_datetime\n",
    "                  ).values"
   ]
  },
  {
   "cell_type": "code",
   "execution_count": null,
   "metadata": {},
   "outputs": [],
   "source": [
    "its = 40\n",
    "f.lw = 0 - 40\n",
    "steps=3\n",
    "\n",
    "fold0\n",
    "0-40\n",
    "last_window = None\n",
    "\n",
    "\n",
    "fold1\n",
    "last_window = y.iloc[41, 42, 43]\n",
    "last_window = 0 - 43\n",
    "f.lw = 0 - 40\n",
    "exception 41\n",
    "\n",
    "41, 42, 43\n",
    "\n",
    "\n",
    "51, 52, 53\n",
    "\n",
    "48,49,50\n",
    "0-40 + 41-49"
   ]
  },
  {
   "cell_type": "code",
   "execution_count": 9,
   "metadata": {},
   "outputs": [
    {
     "name": "stdout",
     "output_type": "stream",
     "text": [
      "Information of backtesting process\n",
      "----------------------------------\n",
      "Number of observations used for initial training: 38\n",
      "Number of observations used for backtesting: 12\n",
      "    Number of folds: 4\n",
      "    Number of steps per fold: 3\n",
      "\n",
      "Data partition in fold: 0\n",
      "    Training:   0 -- 37  (n=38)\n",
      "    Validation: 38 -- 40  (n=3)\n",
      "Data partition in fold: 1\n",
      "    Training:   0 -- 37  (n=38)\n",
      "    Validation: 41 -- 43  (n=3)\n",
      "Data partition in fold: 2\n",
      "    Training:   0 -- 37  (n=38)\n",
      "    Validation: 44 -- 46  (n=3)\n",
      "Data partition in fold: 3\n",
      "    Training:   0 -- 37  (n=38)\n",
      "    Validation: 47 -- 49  (n=3)\n",
      "\n",
      "RangeIndex(start=0, stop=38, step=1)\n",
      "RangeIndex(start=0, stop=41, step=1)\n",
      "RangeIndex(start=0, stop=44, step=1)\n",
      "RangeIndex(start=0, stop=47, step=1)\n"
     ]
    }
   ],
   "source": [
    "from skforecast.model_selection_sarimax import backtesting_sarimax\n",
    "\n",
    "forecaster = ForecasterSarimax(regressor=ARIMA(order=(1,1,1)))\n",
    "steps = 3\n",
    "\n",
    "metric, backtest_predictions = backtesting_sarimax(\n",
    "                                    forecaster         = forecaster,\n",
    "                                    y                  = y,\n",
    "                                    steps              = steps,\n",
    "                                    metric             = 'mean_squared_error',\n",
    "                                    initial_train_size = len(y)-12,\n",
    "                                    fixed_train_size   = False,\n",
    "                                    refit              = False,\n",
    "                                    alpha              = None,\n",
    "                                    interval           = None,\n",
    "                                    verbose            = True\n",
    "                                )"
   ]
  },
  {
   "cell_type": "code",
   "execution_count": 6,
   "metadata": {},
   "outputs": [
    {
     "data": {
      "text/plain": [
       "0.074376574197378"
      ]
     },
     "execution_count": 6,
     "metadata": {},
     "output_type": "execute_result"
    }
   ],
   "source": [
    "metric"
   ]
  },
  {
   "cell_type": "code",
   "execution_count": 7,
   "metadata": {},
   "outputs": [
    {
     "data": {
      "text/html": [
       "<div>\n",
       "<style scoped>\n",
       "    .dataframe tbody tr th:only-of-type {\n",
       "        vertical-align: middle;\n",
       "    }\n",
       "\n",
       "    .dataframe tbody tr th {\n",
       "        vertical-align: top;\n",
       "    }\n",
       "\n",
       "    .dataframe thead th {\n",
       "        text-align: right;\n",
       "    }\n",
       "</style>\n",
       "<table border=\"1\" class=\"dataframe\">\n",
       "  <thead>\n",
       "    <tr style=\"text-align: right;\">\n",
       "      <th></th>\n",
       "      <th>pred</th>\n",
       "    </tr>\n",
       "  </thead>\n",
       "  <tbody>\n",
       "    <tr>\n",
       "      <th>38</th>\n",
       "      <td>0.540526</td>\n",
       "    </tr>\n",
       "    <tr>\n",
       "      <th>39</th>\n",
       "      <td>0.473096</td>\n",
       "    </tr>\n",
       "    <tr>\n",
       "      <th>40</th>\n",
       "      <td>0.459199</td>\n",
       "    </tr>\n",
       "    <tr>\n",
       "      <th>41</th>\n",
       "      <td>0.498688</td>\n",
       "    </tr>\n",
       "    <tr>\n",
       "      <th>42</th>\n",
       "      <td>0.473945</td>\n",
       "    </tr>\n",
       "    <tr>\n",
       "      <th>43</th>\n",
       "      <td>0.468053</td>\n",
       "    </tr>\n",
       "    <tr>\n",
       "      <th>44</th>\n",
       "      <td>0.444655</td>\n",
       "    </tr>\n",
       "    <tr>\n",
       "      <th>45</th>\n",
       "      <td>0.449000</td>\n",
       "    </tr>\n",
       "    <tr>\n",
       "      <th>46</th>\n",
       "      <td>0.448564</td>\n",
       "    </tr>\n",
       "    <tr>\n",
       "      <th>47</th>\n",
       "      <td>0.458242</td>\n",
       "    </tr>\n",
       "    <tr>\n",
       "      <th>48</th>\n",
       "      <td>0.452342</td>\n",
       "    </tr>\n",
       "    <tr>\n",
       "      <th>49</th>\n",
       "      <td>0.449985</td>\n",
       "    </tr>\n",
       "  </tbody>\n",
       "</table>\n",
       "</div>"
      ],
      "text/plain": [
       "        pred\n",
       "38  0.540526\n",
       "39  0.473096\n",
       "40  0.459199\n",
       "41  0.498688\n",
       "42  0.473945\n",
       "43  0.468053\n",
       "44  0.444655\n",
       "45  0.449000\n",
       "46  0.448564\n",
       "47  0.458242\n",
       "48  0.452342\n",
       "49  0.449985"
      ]
     },
     "execution_count": 7,
     "metadata": {},
     "output_type": "execute_result"
    }
   ],
   "source": [
    "backtest_predictions"
   ]
  },
  {
   "cell_type": "code",
   "execution_count": 19,
   "metadata": {},
   "outputs": [
    {
     "data": {
      "text/plain": [
       "45    0.250455\n",
       "46    0.483034\n",
       "47    0.985560\n",
       "48    0.519485\n",
       "49    0.612895\n",
       "Name: y, dtype: float64"
      ]
     },
     "execution_count": 19,
     "metadata": {},
     "output_type": "execute_result"
    }
   ],
   "source": [
    "y.tail()"
   ]
  },
  {
   "cell_type": "code",
   "execution_count": 20,
   "metadata": {},
   "outputs": [
    {
     "data": {
      "text/plain": [
       "50    0.696469\n",
       "51    0.286139\n",
       "52    0.226851\n",
       "53    0.551315\n",
       "54    0.719469\n",
       "Name: y, dtype: float64"
      ]
     },
     "execution_count": 20,
     "metadata": {},
     "output_type": "execute_result"
    }
   ],
   "source": [
    "lw = y.copy()\n",
    "lw.index = pd.RangeIndex(start=50, stop=100)\n",
    "lw.head()"
   ]
  },
  {
   "cell_type": "code",
   "execution_count": 12,
   "metadata": {},
   "outputs": [],
   "source": [
    "forecaster = ForecasterSarimax(regressor=ARIMA(order=(1,1,1)))\n",
    "forecaster.fit(y=y)"
   ]
  },
  {
   "cell_type": "code",
   "execution_count": 21,
   "metadata": {},
   "outputs": [
    {
     "data": {
      "text/plain": [
       "100    0.549296\n",
       "101    0.539391\n",
       "102    0.538325\n",
       "103    0.538715\n",
       "104    0.539344\n",
       "Name: pred, dtype: float64"
      ]
     },
     "execution_count": 21,
     "metadata": {},
     "output_type": "execute_result"
    }
   ],
   "source": [
    "forecaster.predict(steps=5, last_window=lw)"
   ]
  },
  {
   "cell_type": "code",
   "execution_count": 40,
   "metadata": {},
   "outputs": [
    {
     "data": {
      "text/html": [
       "<div>\n",
       "<style scoped>\n",
       "    .dataframe tbody tr th:only-of-type {\n",
       "        vertical-align: middle;\n",
       "    }\n",
       "\n",
       "    .dataframe tbody tr th {\n",
       "        vertical-align: top;\n",
       "    }\n",
       "\n",
       "    .dataframe thead th {\n",
       "        text-align: right;\n",
       "    }\n",
       "</style>\n",
       "<table border=\"1\" class=\"dataframe\">\n",
       "  <thead>\n",
       "    <tr style=\"text-align: right;\">\n",
       "      <th></th>\n",
       "      <th>params</th>\n",
       "      <th>a</th>\n",
       "      <th>b</th>\n",
       "    </tr>\n",
       "  </thead>\n",
       "  <tbody>\n",
       "    <tr>\n",
       "      <th>0</th>\n",
       "      <td>{'a': 1.0, 'b': 'a'}</td>\n",
       "      <td>1.0</td>\n",
       "      <td>a</td>\n",
       "    </tr>\n",
       "    <tr>\n",
       "      <th>1</th>\n",
       "      <td>{'a': 2.0, 'b': 'b'}</td>\n",
       "      <td>2.0</td>\n",
       "      <td>b</td>\n",
       "    </tr>\n",
       "  </tbody>\n",
       "</table>\n",
       "</div>"
      ],
      "text/plain": [
       "                 params    a  b\n",
       "0  {'a': 1.0, 'b': 'a'}  1.0  a\n",
       "1  {'a': 2.0, 'b': 'b'}  2.0  b"
      ]
     },
     "execution_count": 40,
     "metadata": {},
     "output_type": "execute_result"
    }
   ],
   "source": [
    "import pandas as pd\n",
    "\n",
    "params = [{'a':1., 'b':'a'}, {'a': 2., 'b':'b'}]\n",
    "df = pd.DataFrame({'params':params})\n",
    "pd.concat([df, df['params'].apply(pd.Series)], axis=1)"
   ]
  },
  {
   "cell_type": "code",
   "execution_count": 44,
   "metadata": {},
   "outputs": [],
   "source": [
    "# Libraries\n",
    "# ==============================================================================\n",
    "import numpy as np\n",
    "import pandas as pd\n",
    "import matplotlib.pyplot as plt\n",
    "from sklearn.preprocessing import StandardScaler\n",
    "from sklearn.linear_model import Ridge\n",
    "from sklearn.ensemble import RandomForestRegressor\n",
    "from sklearn.metrics import mean_absolute_error\n",
    "\n",
    "from skforecast.ForecasterAutoregMultiVariate import ForecasterAutoregMultiVariate\n",
    "from skforecast.model_selection_multiseries import backtesting_forecaster_multiseries\n",
    "from skforecast.model_selection_multiseries import grid_search_forecaster_multiseries\n",
    "from skforecast.model_selection_multiseries import random_search_forecaster_multiseries"
   ]
  },
  {
   "cell_type": "code",
   "execution_count": 41,
   "metadata": {},
   "outputs": [
    {
     "data": {
      "text/html": [
       "<div>\n",
       "<style scoped>\n",
       "    .dataframe tbody tr th:only-of-type {\n",
       "        vertical-align: middle;\n",
       "    }\n",
       "\n",
       "    .dataframe tbody tr th {\n",
       "        vertical-align: top;\n",
       "    }\n",
       "\n",
       "    .dataframe thead th {\n",
       "        text-align: right;\n",
       "    }\n",
       "</style>\n",
       "<table border=\"1\" class=\"dataframe\">\n",
       "  <thead>\n",
       "    <tr style=\"text-align: right;\">\n",
       "      <th></th>\n",
       "      <th>CO</th>\n",
       "      <th>SO2</th>\n",
       "      <th>PM2.5</th>\n",
       "    </tr>\n",
       "    <tr>\n",
       "      <th>date</th>\n",
       "      <th></th>\n",
       "      <th></th>\n",
       "      <th></th>\n",
       "    </tr>\n",
       "  </thead>\n",
       "  <tbody>\n",
       "    <tr>\n",
       "      <th>2013-03-01</th>\n",
       "      <td>9600.0</td>\n",
       "      <td>204.0</td>\n",
       "      <td>181.0</td>\n",
       "    </tr>\n",
       "    <tr>\n",
       "      <th>2013-03-02</th>\n",
       "      <td>20198.0</td>\n",
       "      <td>674.0</td>\n",
       "      <td>633.0</td>\n",
       "    </tr>\n",
       "    <tr>\n",
       "      <th>2013-03-03</th>\n",
       "      <td>47195.0</td>\n",
       "      <td>1661.0</td>\n",
       "      <td>1956.0</td>\n",
       "    </tr>\n",
       "    <tr>\n",
       "      <th>2013-03-04</th>\n",
       "      <td>15000.0</td>\n",
       "      <td>485.0</td>\n",
       "      <td>438.0</td>\n",
       "    </tr>\n",
       "    <tr>\n",
       "      <th>2013-03-05</th>\n",
       "      <td>59594.0</td>\n",
       "      <td>2001.0</td>\n",
       "      <td>3388.0</td>\n",
       "    </tr>\n",
       "  </tbody>\n",
       "</table>\n",
       "</div>"
      ],
      "text/plain": [
       "                 CO     SO2   PM2.5\n",
       "date                               \n",
       "2013-03-01   9600.0   204.0   181.0\n",
       "2013-03-02  20198.0   674.0   633.0\n",
       "2013-03-03  47195.0  1661.0  1956.0\n",
       "2013-03-04  15000.0   485.0   438.0\n",
       "2013-03-05  59594.0  2001.0  3388.0"
      ]
     },
     "execution_count": 41,
     "metadata": {},
     "output_type": "execute_result"
    }
   ],
   "source": [
    "# Data download\n",
    "# ==============================================================================\n",
    "url = ('https://raw.githubusercontent.com/JoaquinAmatRodrigo/skforecast/master/' +\n",
    "       'data/guangyuan_air_pollution.csv')\n",
    "data = pd.read_csv(url, sep=',')\n",
    "\n",
    "# Data preparation\n",
    "# ==============================================================================\n",
    "data['date'] = pd.to_datetime(data['date'], format='%Y-%m-%d')\n",
    "data = data.set_index('date')\n",
    "data = data.asfreq('D')\n",
    "data = data.sort_index()\n",
    "data = data[['CO', 'SO2', 'PM2.5']]\n",
    "data.head()"
   ]
  },
  {
   "cell_type": "code",
   "execution_count": 42,
   "metadata": {},
   "outputs": [
    {
     "name": "stdout",
     "output_type": "stream",
     "text": [
      "Train dates : 2013-03-01 00:00:00 --- 2016-05-31 00:00:00  (n=1188)\n",
      "Test dates  : 2016-06-01 00:00:00 --- 2017-02-28 00:00:00  (n=273)\n"
     ]
    }
   ],
   "source": [
    "# Split data into train-val-test\n",
    "# ==============================================================================\n",
    "end_train = '2016-05-31 23:59:00'\n",
    "data_train = data.loc[:end_train, :].copy()\n",
    "data_test  = data.loc[end_train:, :].copy()\n",
    "\n",
    "print(f\"Train dates : {data_train.index.min()} --- {data_train.index.max()}  (n={len(data_train)})\")\n",
    "print(f\"Test dates  : {data_test.index.min()} --- {data_test.index.max()}  (n={len(data_test)})\")"
   ]
  },
  {
   "cell_type": "code",
   "execution_count": 45,
   "metadata": {},
   "outputs": [
    {
     "data": {
      "text/plain": [
       "============================= \n",
       "ForecasterAutoregMultiVariate \n",
       "============================= \n",
       "Regressor: Ridge(random_state=123) \n",
       "Lags: [1 2 3 4 5 6 7] \n",
       "Transformer for series: None \n",
       "Transformer for exog: None \n",
       "Window size: 7 \n",
       "Multivariate series (names): ['CO', 'SO2', 'PM2.5'] \n",
       "Maximum steps predicted: 7 \n",
       "Weight function included: False \n",
       "Exogenous included: False \n",
       "Type of exogenous variable: None \n",
       "Exogenous variables names: None \n",
       "Training range: [Timestamp('2013-03-01 00:00:00'), Timestamp('2016-05-31 00:00:00')] \n",
       "Training index type: DatetimeIndex \n",
       "Training index frequency: D \n",
       "Regressor parameters: {'alpha': 1.0, 'copy_X': True, 'fit_intercept': True, 'max_iter': None, 'normalize': 'deprecated', 'positive': False, 'random_state': 123, 'solver': 'auto', 'tol': 0.001} \n",
       "Creation date: 2023-01-19 17:21:04 \n",
       "Last fit date: 2023-01-19 17:21:04 \n",
       "Skforecast version: 0.7.dev \n",
       "Python version: 3.9.13 "
      ]
     },
     "execution_count": 45,
     "metadata": {},
     "output_type": "execute_result"
    }
   ],
   "source": [
    "# Create and fit forecaster MultiVariate\n",
    "# ==============================================================================\n",
    "forecaster = ForecasterAutoregMultiVariate(\n",
    "                 regressor          = Ridge(random_state=123),\n",
    "                 level              = 'CO',\n",
    "                 lags               = 7,\n",
    "                 steps              = 7,\n",
    "                 transformer_series = None,\n",
    "                 transformer_exog   = None,\n",
    "                 weight_func        = None\n",
    "             )\n",
    "\n",
    "forecaster.fit(series=data_train)\n",
    "forecaster"
   ]
  },
  {
   "cell_type": "code",
   "execution_count": 46,
   "metadata": {},
   "outputs": [
    {
     "name": "stdout",
     "output_type": "stream",
     "text": [
      "Backtest metrics\n"
     ]
    },
    {
     "data": {
      "text/html": [
       "<div>\n",
       "<style scoped>\n",
       "    .dataframe tbody tr th:only-of-type {\n",
       "        vertical-align: middle;\n",
       "    }\n",
       "\n",
       "    .dataframe tbody tr th {\n",
       "        vertical-align: top;\n",
       "    }\n",
       "\n",
       "    .dataframe thead th {\n",
       "        text-align: right;\n",
       "    }\n",
       "</style>\n",
       "<table border=\"1\" class=\"dataframe\">\n",
       "  <thead>\n",
       "    <tr style=\"text-align: right;\">\n",
       "      <th></th>\n",
       "      <th>levels</th>\n",
       "      <th>mean_absolute_error</th>\n",
       "    </tr>\n",
       "  </thead>\n",
       "  <tbody>\n",
       "    <tr>\n",
       "      <th>0</th>\n",
       "      <td>CO</td>\n",
       "      <td>14931.121425</td>\n",
       "    </tr>\n",
       "  </tbody>\n",
       "</table>\n",
       "</div>"
      ],
      "text/plain": [
       "  levels  mean_absolute_error\n",
       "0     CO         14931.121425"
      ]
     },
     "metadata": {},
     "output_type": "display_data"
    },
    {
     "name": "stdout",
     "output_type": "stream",
     "text": [
      "\n",
      "Backtest predictions\n"
     ]
    },
    {
     "data": {
      "text/html": [
       "<div>\n",
       "<style scoped>\n",
       "    .dataframe tbody tr th:only-of-type {\n",
       "        vertical-align: middle;\n",
       "    }\n",
       "\n",
       "    .dataframe tbody tr th {\n",
       "        vertical-align: top;\n",
       "    }\n",
       "\n",
       "    .dataframe thead th {\n",
       "        text-align: right;\n",
       "    }\n",
       "</style>\n",
       "<table border=\"1\" class=\"dataframe\">\n",
       "  <thead>\n",
       "    <tr style=\"text-align: right;\">\n",
       "      <th></th>\n",
       "      <th>CO</th>\n",
       "    </tr>\n",
       "  </thead>\n",
       "  <tbody>\n",
       "    <tr>\n",
       "      <th>2016-06-01</th>\n",
       "      <td>20244.442039</td>\n",
       "    </tr>\n",
       "    <tr>\n",
       "      <th>2016-06-02</th>\n",
       "      <td>23307.697174</td>\n",
       "    </tr>\n",
       "    <tr>\n",
       "      <th>2016-06-03</th>\n",
       "      <td>22487.345075</td>\n",
       "    </tr>\n",
       "    <tr>\n",
       "      <th>2016-06-04</th>\n",
       "      <td>23111.643246</td>\n",
       "    </tr>\n",
       "  </tbody>\n",
       "</table>\n",
       "</div>"
      ],
      "text/plain": [
       "                      CO\n",
       "2016-06-01  20244.442039\n",
       "2016-06-02  23307.697174\n",
       "2016-06-03  22487.345075\n",
       "2016-06-04  23111.643246"
      ]
     },
     "execution_count": 46,
     "metadata": {},
     "output_type": "execute_result"
    }
   ],
   "source": [
    "# Backtesting MultiVariate\n",
    "# ==============================================================================\n",
    "metrics_levels, backtest_predictions = backtesting_forecaster_multiseries(\n",
    "                                           forecaster         = forecaster,\n",
    "                                           series             = data,\n",
    "                                           steps              = 7,\n",
    "                                           metric             = 'mean_absolute_error',\n",
    "                                           initial_train_size = len(data_train),\n",
    "                                           refit              = False,\n",
    "                                           fixed_train_size   = False,\n",
    "                                           verbose            = False\n",
    "                                       )\n",
    "\n",
    "print(\"Backtest metrics\")\n",
    "display(metrics_levels)\n",
    "print(\"\")\n",
    "print(\"Backtest predictions\")\n",
    "backtest_predictions.head(4)"
   ]
  },
  {
   "cell_type": "code",
   "execution_count": 47,
   "metadata": {},
   "outputs": [],
   "source": [
    "# Create and forecaster MultiVariate\n",
    "# ==============================================================================\n",
    "forecaster = ForecasterAutoregMultiVariate(\n",
    "                 regressor          = RandomForestRegressor(random_state=123),\n",
    "                 level              = 'CO',\n",
    "                 lags               = 7,\n",
    "                 steps              = 7,\n",
    "                 transformer_series = None,\n",
    "                 transformer_exog   = None,\n",
    "                 weight_func        = None\n",
    "             )"
   ]
  },
  {
   "cell_type": "code",
   "execution_count": 49,
   "metadata": {},
   "outputs": [
    {
     "name": "stdout",
     "output_type": "stream",
     "text": [
      "10 models compared for 1 level(s). Number of iterations: 10.\n"
     ]
    },
    {
     "name": "stderr",
     "output_type": "stream",
     "text": [
      "loop lags_grid: 100%|███████████████████████████████████████| 2/2 [00:44<00:00, 22.25s/it]\n"
     ]
    },
    {
     "data": {
      "text/html": [
       "<div>\n",
       "<style scoped>\n",
       "    .dataframe tbody tr th:only-of-type {\n",
       "        vertical-align: middle;\n",
       "    }\n",
       "\n",
       "    .dataframe tbody tr th {\n",
       "        vertical-align: top;\n",
       "    }\n",
       "\n",
       "    .dataframe thead th {\n",
       "        text-align: right;\n",
       "    }\n",
       "</style>\n",
       "<table border=\"1\" class=\"dataframe\">\n",
       "  <thead>\n",
       "    <tr style=\"text-align: right;\">\n",
       "      <th></th>\n",
       "      <th>levels</th>\n",
       "      <th>lags</th>\n",
       "      <th>params</th>\n",
       "      <th>mean_absolute_error</th>\n",
       "      <th>n_estimators</th>\n",
       "      <th>criterion</th>\n",
       "    </tr>\n",
       "  </thead>\n",
       "  <tbody>\n",
       "    <tr>\n",
       "      <th>5</th>\n",
       "      <td>[CO]</td>\n",
       "      <td>[1, 2, 3, 4, 5, 6, 7, 8, 9, 10, 11, 12, 13, 14]</td>\n",
       "      <td>{'n_estimators': 14, 'criterion': 'absolute_er...</td>\n",
       "      <td>15542.203297</td>\n",
       "      <td>14</td>\n",
       "      <td>absolute_error</td>\n",
       "    </tr>\n",
       "    <tr>\n",
       "      <th>8</th>\n",
       "      <td>[CO]</td>\n",
       "      <td>[1, 2, 3, 4, 5, 6, 7, 8, 9, 10, 11, 12, 13, 14]</td>\n",
       "      <td>{'n_estimators': 17, 'criterion': 'absolute_er...</td>\n",
       "      <td>15559.255979</td>\n",
       "      <td>17</td>\n",
       "      <td>absolute_error</td>\n",
       "    </tr>\n",
       "    <tr>\n",
       "      <th>3</th>\n",
       "      <td>[CO]</td>\n",
       "      <td>[1, 2, 3, 4, 5, 6, 7]</td>\n",
       "      <td>{'n_estimators': 17, 'criterion': 'absolute_er...</td>\n",
       "      <td>15575.558716</td>\n",
       "      <td>17</td>\n",
       "      <td>absolute_error</td>\n",
       "    </tr>\n",
       "    <tr>\n",
       "      <th>0</th>\n",
       "      <td>[CO]</td>\n",
       "      <td>[1, 2, 3, 4, 5, 6, 7]</td>\n",
       "      <td>{'n_estimators': 14, 'criterion': 'absolute_er...</td>\n",
       "      <td>15593.372449</td>\n",
       "      <td>14</td>\n",
       "      <td>absolute_error</td>\n",
       "    </tr>\n",
       "    <tr>\n",
       "      <th>6</th>\n",
       "      <td>[CO]</td>\n",
       "      <td>[1, 2, 3, 4, 5, 6, 7, 8, 9, 10, 11, 12, 13, 14]</td>\n",
       "      <td>{'n_estimators': 15, 'criterion': 'squared_err...</td>\n",
       "      <td>15991.360494</td>\n",
       "      <td>15</td>\n",
       "      <td>squared_error</td>\n",
       "    </tr>\n",
       "    <tr>\n",
       "      <th>7</th>\n",
       "      <td>[CO]</td>\n",
       "      <td>[1, 2, 3, 4, 5, 6, 7, 8, 9, 10, 11, 12, 13, 14]</td>\n",
       "      <td>{'n_estimators': 14, 'criterion': 'squared_err...</td>\n",
       "      <td>16017.510027</td>\n",
       "      <td>14</td>\n",
       "      <td>squared_error</td>\n",
       "    </tr>\n",
       "    <tr>\n",
       "      <th>9</th>\n",
       "      <td>[CO]</td>\n",
       "      <td>[1, 2, 3, 4, 5, 6, 7, 8, 9, 10, 11, 12, 13, 14]</td>\n",
       "      <td>{'n_estimators': 18, 'criterion': 'squared_err...</td>\n",
       "      <td>16058.419766</td>\n",
       "      <td>18</td>\n",
       "      <td>squared_error</td>\n",
       "    </tr>\n",
       "    <tr>\n",
       "      <th>4</th>\n",
       "      <td>[CO]</td>\n",
       "      <td>[1, 2, 3, 4, 5, 6, 7]</td>\n",
       "      <td>{'n_estimators': 18, 'criterion': 'squared_err...</td>\n",
       "      <td>16203.381611</td>\n",
       "      <td>18</td>\n",
       "      <td>squared_error</td>\n",
       "    </tr>\n",
       "    <tr>\n",
       "      <th>1</th>\n",
       "      <td>[CO]</td>\n",
       "      <td>[1, 2, 3, 4, 5, 6, 7]</td>\n",
       "      <td>{'n_estimators': 15, 'criterion': 'squared_err...</td>\n",
       "      <td>16354.631284</td>\n",
       "      <td>15</td>\n",
       "      <td>squared_error</td>\n",
       "    </tr>\n",
       "    <tr>\n",
       "      <th>2</th>\n",
       "      <td>[CO]</td>\n",
       "      <td>[1, 2, 3, 4, 5, 6, 7]</td>\n",
       "      <td>{'n_estimators': 14, 'criterion': 'squared_err...</td>\n",
       "      <td>16384.706331</td>\n",
       "      <td>14</td>\n",
       "      <td>squared_error</td>\n",
       "    </tr>\n",
       "  </tbody>\n",
       "</table>\n",
       "</div>"
      ],
      "text/plain": [
       "  levels                                             lags  \\\n",
       "5   [CO]  [1, 2, 3, 4, 5, 6, 7, 8, 9, 10, 11, 12, 13, 14]   \n",
       "8   [CO]  [1, 2, 3, 4, 5, 6, 7, 8, 9, 10, 11, 12, 13, 14]   \n",
       "3   [CO]                            [1, 2, 3, 4, 5, 6, 7]   \n",
       "0   [CO]                            [1, 2, 3, 4, 5, 6, 7]   \n",
       "6   [CO]  [1, 2, 3, 4, 5, 6, 7, 8, 9, 10, 11, 12, 13, 14]   \n",
       "7   [CO]  [1, 2, 3, 4, 5, 6, 7, 8, 9, 10, 11, 12, 13, 14]   \n",
       "9   [CO]  [1, 2, 3, 4, 5, 6, 7, 8, 9, 10, 11, 12, 13, 14]   \n",
       "4   [CO]                            [1, 2, 3, 4, 5, 6, 7]   \n",
       "1   [CO]                            [1, 2, 3, 4, 5, 6, 7]   \n",
       "2   [CO]                            [1, 2, 3, 4, 5, 6, 7]   \n",
       "\n",
       "                                              params  mean_absolute_error  \\\n",
       "5  {'n_estimators': 14, 'criterion': 'absolute_er...         15542.203297   \n",
       "8  {'n_estimators': 17, 'criterion': 'absolute_er...         15559.255979   \n",
       "3  {'n_estimators': 17, 'criterion': 'absolute_er...         15575.558716   \n",
       "0  {'n_estimators': 14, 'criterion': 'absolute_er...         15593.372449   \n",
       "6  {'n_estimators': 15, 'criterion': 'squared_err...         15991.360494   \n",
       "7  {'n_estimators': 14, 'criterion': 'squared_err...         16017.510027   \n",
       "9  {'n_estimators': 18, 'criterion': 'squared_err...         16058.419766   \n",
       "4  {'n_estimators': 18, 'criterion': 'squared_err...         16203.381611   \n",
       "1  {'n_estimators': 15, 'criterion': 'squared_err...         16354.631284   \n",
       "2  {'n_estimators': 14, 'criterion': 'squared_err...         16384.706331   \n",
       "\n",
       "   n_estimators       criterion  \n",
       "5            14  absolute_error  \n",
       "8            17  absolute_error  \n",
       "3            17  absolute_error  \n",
       "0            14  absolute_error  \n",
       "6            15   squared_error  \n",
       "7            14   squared_error  \n",
       "9            18   squared_error  \n",
       "4            18   squared_error  \n",
       "1            15   squared_error  \n",
       "2            14   squared_error  "
      ]
     },
     "execution_count": 49,
     "metadata": {},
     "output_type": "execute_result"
    }
   ],
   "source": [
    "# Random search MultiVariate\n",
    "# ==============================================================================\n",
    "lags_grid = [7, 14]\n",
    "param_distributions = {'n_estimators': np.arange(start=10, stop=20, step=1, dtype=int),\n",
    "                       'criterion': ['squared_error', 'absolute_error']}\n",
    "\n",
    "results = random_search_forecaster_multiseries(\n",
    "              forecaster          = forecaster,\n",
    "              series              = data,\n",
    "              exog                = None,\n",
    "              lags_grid           = lags_grid,\n",
    "              param_distributions = param_distributions,\n",
    "              steps               = 7,\n",
    "              metric              = 'mean_absolute_error',\n",
    "              initial_train_size  = len(data_train),\n",
    "              refit               = False,\n",
    "              fixed_train_size    = False,\n",
    "              n_iter              = 5,\n",
    "              return_best         = False,\n",
    "              verbose             = False\n",
    "          )\n",
    "\n",
    "results"
   ]
  },
  {
   "cell_type": "markdown",
   "metadata": {},
   "source": [
    "## Backtesting tests"
   ]
  },
  {
   "cell_type": "code",
   "execution_count": 4,
   "metadata": {},
   "outputs": [],
   "source": [
    "from skforecast.ForecasterSarimax.tests.fixtures_ForecasterSarimax import y_datetime\n",
    "from skforecast.ForecasterSarimax.tests.fixtures_ForecasterSarimax import exog_datetime\n",
    "from sklearn.metrics import mean_absolute_error\n",
    "from skforecast.model_selection_sarimax import backtesting_sarimax\n",
    "from skforecast.model_selection_sarimax.model_selection_sarimax import _evaluate_grid_hyperparameters_sarimax\n",
    "from skforecast.model_selection_sarimax import grid_search_sarimax\n",
    "from skforecast.model_selection_sarimax import random_search_sarimax"
   ]
  },
  {
   "cell_type": "code",
   "execution_count": 6,
   "metadata": {},
   "outputs": [],
   "source": [
    "def my_metric(y_true, y_pred):\n",
    "    \"\"\"\n",
    "    Callable metric\n",
    "    \"\"\"\n",
    "    metric = ((y_true - y_pred)/len(y_true)).mean()\n",
    "    \n",
    "    return metric"
   ]
  },
  {
   "cell_type": "code",
   "execution_count": 12,
   "metadata": {},
   "outputs": [
    {
     "name": "stdout",
     "output_type": "stream",
     "text": [
      "[0.2273272025469395]\n",
      "\n",
      "                pred  lower_bound  upper_bound\n",
      "2038-12-31  0.650760     0.184944     1.116576\n",
      "2039-12-31  0.577033     0.054568     1.099497\n",
      "2040-12-31  0.668533     0.124123     1.212944\n",
      "2041-12-31  0.717621     0.252288     1.182953\n",
      "2042-12-31  0.716778     0.195260     1.238296\n",
      "2043-12-31  0.672512     0.129399     1.215624\n",
      "2044-12-31  0.346193    -0.118727     0.811113\n",
      "2045-12-31  0.323448    -0.197264     0.844160\n",
      "2046-12-31  0.467105    -0.074900     1.009110\n",
      "2047-12-31  0.653223     0.188659     1.117788\n",
      "2048-12-31  0.550533     0.030517     1.070550\n",
      "2049-12-31  0.529747    -0.011305     1.070798\n"
     ]
    },
    {
     "name": "stderr",
     "output_type": "stream",
     "text": [
      "c:\\Users\\jaesc2\\Miniconda3\\envs\\skforecast\\lib\\site-packages\\statsmodels\\base\\model.py:604: ConvergenceWarning: Maximum Likelihood optimization failed to converge. Check mle_retvals\n",
      "  warnings.warn(\"Maximum Likelihood optimization failed to \"\n"
     ]
    }
   ],
   "source": [
    "forecaster = ForecasterSarimax(regressor=ARIMA(order=(2,2,2)))\n",
    "initial_train_size = len(y_datetime)-12\n",
    "steps = 3\n",
    "alpha = 0.05\n",
    "\n",
    "metric, backtest_predictions = backtesting_sarimax(\n",
    "                                    forecaster         = forecaster,\n",
    "                                    y                  = y_datetime,\n",
    "                                    exog               = exog_datetime,\n",
    "                                    steps              = steps,\n",
    "                                    metric             = ['mean_absolute_error'],\n",
    "                                    initial_train_size = len(y_datetime)-12,\n",
    "                                    fixed_train_size   = False,\n",
    "                                    refit              = False,\n",
    "                                    alpha              = alpha,\n",
    "                                    interval           = None,\n",
    "                                    verbose            = False\n",
    "                                )\n",
    "\n",
    "print(metric)\n",
    "print(\"\")\n",
    "print(backtest_predictions)"
   ]
  },
  {
   "cell_type": "code",
   "execution_count": 13,
   "metadata": {},
   "outputs": [
    {
     "data": {
      "text/plain": [
       "array([[ 0.65076021,  0.18494399,  1.11657643],\n",
       "       [ 0.57703261,  0.05456794,  1.09949728],\n",
       "       [ 0.66853316,  0.12412269,  1.21294362],\n",
       "       [ 0.71762052,  0.25228841,  1.18295264],\n",
       "       [ 0.71677803,  0.19525974,  1.23829632],\n",
       "       [ 0.67251158,  0.12939917,  1.215624  ],\n",
       "       [ 0.34619317, -0.11872659,  0.81111293],\n",
       "       [ 0.32344791, -0.1972637 ,  0.84415952],\n",
       "       [ 0.4671051 , -0.07490029,  1.0091105 ],\n",
       "       [ 0.65322324,  0.18865853,  1.11778795],\n",
       "       [ 0.55053341,  0.03051681,  1.07055001],\n",
       "       [ 0.52974663, -0.01130455,  1.0707978 ]])"
      ]
     },
     "execution_count": 13,
     "metadata": {},
     "output_type": "execute_result"
    }
   ],
   "source": [
    "backtest_predictions.values"
   ]
  },
  {
   "cell_type": "code",
   "execution_count": 19,
   "metadata": {},
   "outputs": [],
   "source": [
    "forecaster = ForecasterSarimax(\n",
    "                regressor = ARIMA(order=(2,2,2))\n",
    "            )"
   ]
  },
  {
   "cell_type": "code",
   "execution_count": 20,
   "metadata": {},
   "outputs": [
    {
     "name": "stderr",
     "output_type": "stream",
     "text": [
      "c:\\Users\\jaesc2\\Miniconda3\\envs\\skforecast\\lib\\site-packages\\statsmodels\\base\\model.py:604: ConvergenceWarning: Maximum Likelihood optimization failed to converge. Check mle_retvals\n",
      "  warnings.warn(\"Maximum Likelihood optimization failed to \"\n"
     ]
    },
    {
     "data": {
      "text/html": [
       "<div>\n",
       "<style scoped>\n",
       "    .dataframe tbody tr th:only-of-type {\n",
       "        vertical-align: middle;\n",
       "    }\n",
       "\n",
       "    .dataframe tbody tr th {\n",
       "        vertical-align: top;\n",
       "    }\n",
       "\n",
       "    .dataframe thead th {\n",
       "        text-align: right;\n",
       "    }\n",
       "</style>\n",
       "<table border=\"1\" class=\"dataframe\">\n",
       "  <thead>\n",
       "    <tr style=\"text-align: right;\">\n",
       "      <th></th>\n",
       "      <th>pred</th>\n",
       "      <th>lower_bound</th>\n",
       "      <th>upper_bound</th>\n",
       "    </tr>\n",
       "  </thead>\n",
       "  <tbody>\n",
       "    <tr>\n",
       "      <th>2038-12-31</th>\n",
       "      <td>0.650760</td>\n",
       "      <td>0.184944</td>\n",
       "      <td>1.116576</td>\n",
       "    </tr>\n",
       "    <tr>\n",
       "      <th>2039-12-31</th>\n",
       "      <td>0.577033</td>\n",
       "      <td>0.054568</td>\n",
       "      <td>1.099497</td>\n",
       "    </tr>\n",
       "    <tr>\n",
       "      <th>2040-12-31</th>\n",
       "      <td>0.668533</td>\n",
       "      <td>0.124123</td>\n",
       "      <td>1.212944</td>\n",
       "    </tr>\n",
       "  </tbody>\n",
       "</table>\n",
       "</div>"
      ],
      "text/plain": [
       "                pred  lower_bound  upper_bound\n",
       "2038-12-31  0.650760     0.184944     1.116576\n",
       "2039-12-31  0.577033     0.054568     1.099497\n",
       "2040-12-31  0.668533     0.124123     1.212944"
      ]
     },
     "execution_count": 20,
     "metadata": {},
     "output_type": "execute_result"
    }
   ],
   "source": [
    "initial_train_size = len(y_datetime)-12\n",
    "steps = 3\n",
    "\n",
    "forecaster.fit(y=y_datetime[:initial_train_size], exog=exog_datetime[:initial_train_size])\n",
    "forecaster.predict_interval(alpha=0.05, steps=steps, exog=exog_datetime[initial_train_size:initial_train_size+steps])"
   ]
  },
  {
   "cell_type": "code",
   "execution_count": 17,
   "metadata": {},
   "outputs": [
    {
     "name": "stderr",
     "output_type": "stream",
     "text": [
      "c:\\Users\\jaesc2\\Miniconda3\\envs\\skforecast\\lib\\site-packages\\statsmodels\\base\\model.py:604: ConvergenceWarning: Maximum Likelihood optimization failed to converge. Check mle_retvals\n",
      "  warnings.warn(\"Maximum Likelihood optimization failed to \"\n"
     ]
    },
    {
     "data": {
      "text/html": [
       "<div>\n",
       "<style scoped>\n",
       "    .dataframe tbody tr th:only-of-type {\n",
       "        vertical-align: middle;\n",
       "    }\n",
       "\n",
       "    .dataframe tbody tr th {\n",
       "        vertical-align: top;\n",
       "    }\n",
       "\n",
       "    .dataframe thead th {\n",
       "        text-align: right;\n",
       "    }\n",
       "</style>\n",
       "<table border=\"1\" class=\"dataframe\">\n",
       "  <thead>\n",
       "    <tr style=\"text-align: right;\">\n",
       "      <th></th>\n",
       "      <th>pred</th>\n",
       "      <th>lower_bound</th>\n",
       "      <th>upper_bound</th>\n",
       "    </tr>\n",
       "  </thead>\n",
       "  <tbody>\n",
       "    <tr>\n",
       "      <th>2041-12-31</th>\n",
       "      <td>0.739313</td>\n",
       "      <td>0.280073</td>\n",
       "      <td>1.198554</td>\n",
       "    </tr>\n",
       "    <tr>\n",
       "      <th>2042-12-31</th>\n",
       "      <td>0.741721</td>\n",
       "      <td>0.222305</td>\n",
       "      <td>1.261138</td>\n",
       "    </tr>\n",
       "    <tr>\n",
       "      <th>2043-12-31</th>\n",
       "      <td>0.680381</td>\n",
       "      <td>0.144591</td>\n",
       "      <td>1.216172</td>\n",
       "    </tr>\n",
       "  </tbody>\n",
       "</table>\n",
       "</div>"
      ],
      "text/plain": [
       "                pred  lower_bound  upper_bound\n",
       "2041-12-31  0.739313     0.280073     1.198554\n",
       "2042-12-31  0.741721     0.222305     1.261138\n",
       "2043-12-31  0.680381     0.144591     1.216172"
      ]
     },
     "execution_count": 17,
     "metadata": {},
     "output_type": "execute_result"
    }
   ],
   "source": [
    "forecaster.fit(y=y_datetime[:initial_train_size+steps], exog=exog_datetime[:initial_train_size+steps])\n",
    "forecaster.predict_interval(alpha=0.05, steps=steps, exog=exog_datetime[initial_train_size+steps:initial_train_size+steps*2])"
   ]
  },
  {
   "cell_type": "code",
   "execution_count": 21,
   "metadata": {},
   "outputs": [
    {
     "data": {
      "text/html": [
       "<div>\n",
       "<style scoped>\n",
       "    .dataframe tbody tr th:only-of-type {\n",
       "        vertical-align: middle;\n",
       "    }\n",
       "\n",
       "    .dataframe tbody tr th {\n",
       "        vertical-align: top;\n",
       "    }\n",
       "\n",
       "    .dataframe thead th {\n",
       "        text-align: right;\n",
       "    }\n",
       "</style>\n",
       "<table border=\"1\" class=\"dataframe\">\n",
       "  <thead>\n",
       "    <tr style=\"text-align: right;\">\n",
       "      <th></th>\n",
       "      <th>pred</th>\n",
       "      <th>lower_bound</th>\n",
       "      <th>upper_bound</th>\n",
       "    </tr>\n",
       "  </thead>\n",
       "  <tbody>\n",
       "    <tr>\n",
       "      <th>2041-12-31</th>\n",
       "      <td>0.717621</td>\n",
       "      <td>0.252288</td>\n",
       "      <td>1.182953</td>\n",
       "    </tr>\n",
       "    <tr>\n",
       "      <th>2042-12-31</th>\n",
       "      <td>0.716778</td>\n",
       "      <td>0.195260</td>\n",
       "      <td>1.238296</td>\n",
       "    </tr>\n",
       "    <tr>\n",
       "      <th>2043-12-31</th>\n",
       "      <td>0.672512</td>\n",
       "      <td>0.129399</td>\n",
       "      <td>1.215624</td>\n",
       "    </tr>\n",
       "  </tbody>\n",
       "</table>\n",
       "</div>"
      ],
      "text/plain": [
       "                pred  lower_bound  upper_bound\n",
       "2041-12-31  0.717621     0.252288     1.182953\n",
       "2042-12-31  0.716778     0.195260     1.238296\n",
       "2043-12-31  0.672512     0.129399     1.215624"
      ]
     },
     "execution_count": 21,
     "metadata": {},
     "output_type": "execute_result"
    }
   ],
   "source": [
    "lw = y_datetime[initial_train_size:initial_train_size+steps]\n",
    "lwe = exog_datetime[initial_train_size:initial_train_size+steps]\n",
    "\n",
    "forecaster.predict_interval(alpha=0.05, steps=steps, exog=exog_datetime[initial_train_size+steps:initial_train_size+steps*2], last_window=lw, last_window_exog=lwe)"
   ]
  },
  {
   "cell_type": "code",
   "execution_count": 27,
   "metadata": {},
   "outputs": [
    {
     "data": {
      "text/plain": [
       "2048-12-31    0.701440\n",
       "2049-12-31    0.617580\n",
       "2050-12-31    0.796958\n",
       "2051-12-31    0.813533\n",
       "2052-12-31    0.773177\n",
       "Freq: A-DEC, Name: pred, dtype: float64"
      ]
     },
     "execution_count": 27,
     "metadata": {},
     "output_type": "execute_result"
    }
   ],
   "source": [
    "lw = y_datetime[initial_train_size+steps:initial_train_size+steps*2]\n",
    "\n",
    "forecaster.predict(steps=steps, last_window=lw)"
   ]
  },
  {
   "cell_type": "code",
   "execution_count": 47,
   "metadata": {},
   "outputs": [
    {
     "name": "stdout",
     "output_type": "stream",
     "text": [
      "Number of models compared: 4.\n"
     ]
    },
    {
     "name": "stderr",
     "output_type": "stream",
     "text": [
      "loop param_grid:  50%|███████████████████                   | 2/4 [00:00<00:00,  3.08it/s]c:\\Users\\jaesc2\\Miniconda3\\envs\\skforecast\\lib\\site-packages\\statsmodels\\tsa\\statespace\\sarimax.py:978: UserWarning: Non-invertible starting MA parameters found. Using zeros as starting parameters.\n",
      "  warn('Non-invertible starting MA parameters found.'\n",
      "loop param_grid:  75%|████████████████████████████▌         | 3/4 [00:01<00:00,  2.48it/s]c:\\Users\\jaesc2\\Miniconda3\\envs\\skforecast\\lib\\site-packages\\statsmodels\\tsa\\statespace\\sarimax.py:978: UserWarning: Non-invertible starting MA parameters found. Using zeros as starting parameters.\n",
      "  warn('Non-invertible starting MA parameters found.'\n",
      "loop param_grid: 100%|██████████████████████████████████████| 4/4 [00:01<00:00,  2.28it/s]"
     ]
    },
    {
     "name": "stdout",
     "output_type": "stream",
     "text": [
      "`Forecaster` refitted using the best-found parameters, and the whole data set: \n",
      "  Parameters: {'order': (1, 1, 1), 'method': 'powell'}\n",
      "  Backtesting metric: 0.2164423490481271\n",
      "\n"
     ]
    },
    {
     "name": "stderr",
     "output_type": "stream",
     "text": [
      "\n"
     ]
    }
   ],
   "source": [
    "forecaster = ForecasterSarimax(regressor=ARIMA(order=(1,1,1)))\n",
    "\n",
    "param_grid = [{'order': (1,1,1), 'method': 'lbfgs'}, \n",
    "              {'order': (1,1,1), 'method': 'powell'}, \n",
    "              {'order': (2,2,2), 'method': 'lbfgs'}, \n",
    "              {'order': (2,2,2), 'method': 'powell'}]\n",
    "\n",
    "results = _evaluate_grid_hyperparameters_sarimax(\n",
    "              forecaster         = forecaster,\n",
    "              y                  = y_datetime,\n",
    "              param_grid         = param_grid,\n",
    "              steps              = 3,\n",
    "              refit              = True,\n",
    "              metric             = ['mean_absolute_error'],\n",
    "              initial_train_size = len(y_datetime)-12,\n",
    "              fixed_train_size   = True,\n",
    "              return_best        = True,\n",
    "              verbose            = False\n",
    "          )"
   ]
  },
  {
   "cell_type": "code",
   "execution_count": 48,
   "metadata": {},
   "outputs": [
    {
     "data": {
      "text/html": [
       "<div>\n",
       "<style scoped>\n",
       "    .dataframe tbody tr th:only-of-type {\n",
       "        vertical-align: middle;\n",
       "    }\n",
       "\n",
       "    .dataframe tbody tr th {\n",
       "        vertical-align: top;\n",
       "    }\n",
       "\n",
       "    .dataframe thead th {\n",
       "        text-align: right;\n",
       "    }\n",
       "</style>\n",
       "<table border=\"1\" class=\"dataframe\">\n",
       "  <thead>\n",
       "    <tr style=\"text-align: right;\">\n",
       "      <th></th>\n",
       "      <th>params</th>\n",
       "      <th>mean_absolute_error</th>\n",
       "      <th>order</th>\n",
       "      <th>method</th>\n",
       "    </tr>\n",
       "  </thead>\n",
       "  <tbody>\n",
       "    <tr>\n",
       "      <th>1</th>\n",
       "      <td>{'order': (1, 1, 1), 'method': 'powell'}</td>\n",
       "      <td>0.216442</td>\n",
       "      <td>(1, 1, 1)</td>\n",
       "      <td>powell</td>\n",
       "    </tr>\n",
       "    <tr>\n",
       "      <th>0</th>\n",
       "      <td>{'order': (1, 1, 1), 'method': 'lbfgs'}</td>\n",
       "      <td>0.216476</td>\n",
       "      <td>(1, 1, 1)</td>\n",
       "      <td>lbfgs</td>\n",
       "    </tr>\n",
       "    <tr>\n",
       "      <th>2</th>\n",
       "      <td>{'order': (2, 2, 2), 'method': 'lbfgs'}</td>\n",
       "      <td>0.244795</td>\n",
       "      <td>(2, 2, 2)</td>\n",
       "      <td>lbfgs</td>\n",
       "    </tr>\n",
       "    <tr>\n",
       "      <th>3</th>\n",
       "      <td>{'order': (2, 2, 2), 'method': 'powell'}</td>\n",
       "      <td>0.279474</td>\n",
       "      <td>(2, 2, 2)</td>\n",
       "      <td>powell</td>\n",
       "    </tr>\n",
       "  </tbody>\n",
       "</table>\n",
       "</div>"
      ],
      "text/plain": [
       "                                     params  mean_absolute_error      order  \\\n",
       "1  {'order': (1, 1, 1), 'method': 'powell'}             0.216442  (1, 1, 1)   \n",
       "0   {'order': (1, 1, 1), 'method': 'lbfgs'}             0.216476  (1, 1, 1)   \n",
       "2   {'order': (2, 2, 2), 'method': 'lbfgs'}             0.244795  (2, 2, 2)   \n",
       "3  {'order': (2, 2, 2), 'method': 'powell'}             0.279474  (2, 2, 2)   \n",
       "\n",
       "   method  \n",
       "1  powell  \n",
       "0   lbfgs  \n",
       "2   lbfgs  \n",
       "3  powell  "
      ]
     },
     "execution_count": 48,
     "metadata": {},
     "output_type": "execute_result"
    }
   ],
   "source": [
    "results"
   ]
  },
  {
   "cell_type": "code",
   "execution_count": 51,
   "metadata": {},
   "outputs": [
    {
     "data": {
      "text/plain": [
       "'powell'"
      ]
     },
     "execution_count": 51,
     "metadata": {},
     "output_type": "execute_result"
    }
   ],
   "source": [
    "forecaster.regressor.method"
   ]
  },
  {
   "cell_type": "code",
   "execution_count": 36,
   "metadata": {},
   "outputs": [
    {
     "data": {
      "text/plain": [
       "array([0.2249485 , 0.22497912, 0.2610407 , 0.27330493])"
      ]
     },
     "execution_count": 36,
     "metadata": {},
     "output_type": "execute_result"
    }
   ],
   "source": [
    "results.mean_absolute_error.values"
   ]
  },
  {
   "cell_type": "code",
   "execution_count": 37,
   "metadata": {},
   "outputs": [
    {
     "data": {
      "text/plain": [
       "array([(1, 1, 1), (1, 1, 1), (2, 2, 2), (2, 2, 2)], dtype=object)"
      ]
     },
     "execution_count": 37,
     "metadata": {},
     "output_type": "execute_result"
    }
   ],
   "source": [
    "results.order.values"
   ]
  },
  {
   "cell_type": "code",
   "execution_count": 38,
   "metadata": {},
   "outputs": [
    {
     "data": {
      "text/plain": [
       "array(['powell', 'lbfgs', 'powell', 'lbfgs'], dtype=object)"
      ]
     },
     "execution_count": 38,
     "metadata": {},
     "output_type": "execute_result"
    }
   ],
   "source": [
    "results.method.values"
   ]
  },
  {
   "cell_type": "code",
   "execution_count": 79,
   "metadata": {},
   "outputs": [
    {
     "data": {
      "text/plain": [
       "[(2, 1, 0),\n",
       " (1, 2, 1),\n",
       " (2, 3, 3),\n",
       " (2, 1, 3),\n",
       " (0, 0, 2),\n",
       " (2, 2, 0),\n",
       " (2, 0, 3),\n",
       " (1, 3, 2),\n",
       " (3, 1, 0),\n",
       " (2, 3, 3),\n",
       " (3, 2, 0),\n",
       " (1, 1, 1),\n",
       " (2, 0, 0),\n",
       " (1, 0, 3),\n",
       " (0, 0, 1)]"
      ]
     },
     "execution_count": 79,
     "metadata": {},
     "output_type": "execute_result"
    }
   ],
   "source": [
    "np.random.seed(123)\n",
    "[(p,d,q) for p,d,q in zip(np.random.randint(0, high=4, size=15, dtype=int), \n",
    "                          np.random.randint(0, high=4, size=15, dtype=int),\n",
    "                          np.random.randint(0, high=4, size=15, dtype=int))]"
   ]
  },
  {
   "cell_type": "code",
   "execution_count": 80,
   "metadata": {},
   "outputs": [
    {
     "name": "stdout",
     "output_type": "stream",
     "text": [
      "Number of models compared: 10.\n"
     ]
    },
    {
     "name": "stderr",
     "output_type": "stream",
     "text": [
      "loop param_grid:   0%|                                             | 0/10 [00:00<?, ?it/s]c:\\Users\\jaesc2\\Miniconda3\\envs\\skforecast\\lib\\site-packages\\statsmodels\\tsa\\statespace\\sarimax.py:978: UserWarning: Non-invertible starting MA parameters found. Using zeros as starting parameters.\n",
      "  warn('Non-invertible starting MA parameters found.'\n",
      "loop param_grid:  50%|██████████████████▌                  | 5/10 [00:00<00:00, 12.62it/s]c:\\Users\\jaesc2\\Miniconda3\\envs\\skforecast\\lib\\site-packages\\statsmodels\\tsa\\statespace\\sarimax.py:978: UserWarning: Non-invertible starting MA parameters found. Using zeros as starting parameters.\n",
      "  warn('Non-invertible starting MA parameters found.'\n",
      "c:\\Users\\jaesc2\\Miniconda3\\envs\\skforecast\\lib\\site-packages\\statsmodels\\base\\model.py:604: ConvergenceWarning: Maximum Likelihood optimization failed to converge. Check mle_retvals\n",
      "  warnings.warn(\"Maximum Likelihood optimization failed to \"\n",
      "loop param_grid:  70%|█████████████████████████▉           | 7/10 [00:00<00:00,  9.09it/s]c:\\Users\\jaesc2\\Miniconda3\\envs\\skforecast\\lib\\site-packages\\statsmodels\\base\\model.py:604: ConvergenceWarning: Maximum Likelihood optimization failed to converge. Check mle_retvals\n",
      "  warnings.warn(\"Maximum Likelihood optimization failed to \"\n",
      "loop param_grid:  90%|█████████████████████████████████▎   | 9/10 [00:01<00:00,  7.85it/s]c:\\Users\\jaesc2\\Miniconda3\\envs\\skforecast\\lib\\site-packages\\statsmodels\\tsa\\statespace\\sarimax.py:978: UserWarning: Non-invertible starting MA parameters found. Using zeros as starting parameters.\n",
      "  warn('Non-invertible starting MA parameters found.'\n",
      "loop param_grid: 100%|████████████████████████████████████| 10/10 [00:01<00:00,  8.46it/s]\n"
     ]
    },
    {
     "data": {
      "text/html": [
       "<div>\n",
       "<style scoped>\n",
       "    .dataframe tbody tr th:only-of-type {\n",
       "        vertical-align: middle;\n",
       "    }\n",
       "\n",
       "    .dataframe tbody tr th {\n",
       "        vertical-align: top;\n",
       "    }\n",
       "\n",
       "    .dataframe thead th {\n",
       "        text-align: right;\n",
       "    }\n",
       "</style>\n",
       "<table border=\"1\" class=\"dataframe\">\n",
       "  <thead>\n",
       "    <tr style=\"text-align: right;\">\n",
       "      <th></th>\n",
       "      <th>params</th>\n",
       "      <th>mean_absolute_error</th>\n",
       "      <th>order</th>\n",
       "    </tr>\n",
       "  </thead>\n",
       "  <tbody>\n",
       "    <tr>\n",
       "      <th>2</th>\n",
       "      <td>{'order': (0, 0, 2)}</td>\n",
       "      <td>0.204452</td>\n",
       "      <td>(0, 0, 2)</td>\n",
       "    </tr>\n",
       "    <tr>\n",
       "      <th>8</th>\n",
       "      <td>{'order': (2, 1, 3)}</td>\n",
       "      <td>0.215458</td>\n",
       "      <td>(2, 1, 3)</td>\n",
       "    </tr>\n",
       "    <tr>\n",
       "      <th>7</th>\n",
       "      <td>{'order': (1, 1, 1)}</td>\n",
       "      <td>0.216844</td>\n",
       "      <td>(1, 1, 1)</td>\n",
       "    </tr>\n",
       "    <tr>\n",
       "      <th>6</th>\n",
       "      <td>{'order': (3, 1, 0)}</td>\n",
       "      <td>0.241894</td>\n",
       "      <td>(3, 1, 0)</td>\n",
       "    </tr>\n",
       "    <tr>\n",
       "      <th>3</th>\n",
       "      <td>{'order': (2, 1, 0)}</td>\n",
       "      <td>0.245050</td>\n",
       "      <td>(2, 1, 0)</td>\n",
       "    </tr>\n",
       "    <tr>\n",
       "      <th>9</th>\n",
       "      <td>{'order': (1, 2, 1)}</td>\n",
       "      <td>0.275562</td>\n",
       "      <td>(1, 2, 1)</td>\n",
       "    </tr>\n",
       "    <tr>\n",
       "      <th>4</th>\n",
       "      <td>{'order': (2, 2, 0)}</td>\n",
       "      <td>0.286126</td>\n",
       "      <td>(2, 2, 0)</td>\n",
       "    </tr>\n",
       "    <tr>\n",
       "      <th>1</th>\n",
       "      <td>{'order': (3, 2, 0)}</td>\n",
       "      <td>0.295897</td>\n",
       "      <td>(3, 2, 0)</td>\n",
       "    </tr>\n",
       "    <tr>\n",
       "      <th>5</th>\n",
       "      <td>{'order': (2, 3, 3)}</td>\n",
       "      <td>0.313380</td>\n",
       "      <td>(2, 3, 3)</td>\n",
       "    </tr>\n",
       "    <tr>\n",
       "      <th>0</th>\n",
       "      <td>{'order': (1, 3, 2)}</td>\n",
       "      <td>0.315175</td>\n",
       "      <td>(1, 3, 2)</td>\n",
       "    </tr>\n",
       "  </tbody>\n",
       "</table>\n",
       "</div>"
      ],
      "text/plain": [
       "                 params  mean_absolute_error      order\n",
       "2  {'order': (0, 0, 2)}             0.204452  (0, 0, 2)\n",
       "8  {'order': (2, 1, 3)}             0.215458  (2, 1, 3)\n",
       "7  {'order': (1, 1, 1)}             0.216844  (1, 1, 1)\n",
       "6  {'order': (3, 1, 0)}             0.241894  (3, 1, 0)\n",
       "3  {'order': (2, 1, 0)}             0.245050  (2, 1, 0)\n",
       "9  {'order': (1, 2, 1)}             0.275562  (1, 2, 1)\n",
       "4  {'order': (2, 2, 0)}             0.286126  (2, 2, 0)\n",
       "1  {'order': (3, 2, 0)}             0.295897  (3, 2, 0)\n",
       "5  {'order': (2, 3, 3)}             0.313380  (2, 3, 3)\n",
       "0  {'order': (1, 3, 2)}             0.315175  (1, 3, 2)"
      ]
     },
     "execution_count": 80,
     "metadata": {},
     "output_type": "execute_result"
    }
   ],
   "source": [
    "forecaster = ForecasterSarimax(regressor=ARIMA(order=(1,1,1)))\n",
    "\n",
    "np.random.seed(123)\n",
    "values = [(p,d,q) for p,d,q in zip(np.random.randint(0, high=4, size=15, dtype=int), \n",
    "                                   np.random.randint(0, high=4, size=15, dtype=int),\n",
    "                                   np.random.randint(0, high=4, size=15, dtype=int))]\n",
    "\n",
    "param_distributions = {'order' : values}\n",
    "\n",
    "results = random_search_sarimax(\n",
    "                forecaster          = forecaster,\n",
    "                y                   = y_datetime,\n",
    "                param_distributions = param_distributions,\n",
    "                n_iter              = 10,\n",
    "                random_state        = 123,\n",
    "                steps               = 3,\n",
    "                refit               = False,\n",
    "                metric              = 'mean_absolute_error',\n",
    "                initial_train_size  = len(y_datetime)-12,\n",
    "                fixed_train_size    = False,\n",
    "                return_best         = False,\n",
    "                verbose             = False\n",
    "            )\n",
    "    \n",
    "results"
   ]
  },
  {
   "cell_type": "code",
   "execution_count": 81,
   "metadata": {},
   "outputs": [
    {
     "data": {
      "text/plain": [
       "array([0.20445157, 0.21545791, 0.2168435 , 0.24189445, 0.24504986,\n",
       "       0.27556196, 0.28612558, 0.29589668, 0.31338047, 0.31517517])"
      ]
     },
     "execution_count": 81,
     "metadata": {},
     "output_type": "execute_result"
    }
   ],
   "source": [
    "results.mean_absolute_error.values"
   ]
  },
  {
   "cell_type": "code",
   "execution_count": 60,
   "metadata": {},
   "outputs": [
    {
     "data": {
      "text/plain": [
       "array(['lbfgs', 'powell', 'powell', 'lbfgs'], dtype=object)"
      ]
     },
     "execution_count": 60,
     "metadata": {},
     "output_type": "execute_result"
    }
   ],
   "source": [
    "results.method.values"
   ]
  },
  {
   "cell_type": "code",
   "execution_count": 83,
   "metadata": {},
   "outputs": [
    {
     "data": {
      "text/plain": [
       "array([{'order': (0, 0, 2)}, {'order': (2, 1, 3)}, {'order': (1, 1, 1)},\n",
       "       {'order': (3, 1, 0)}, {'order': (2, 1, 0)}, {'order': (1, 2, 1)},\n",
       "       {'order': (2, 2, 0)}, {'order': (3, 2, 0)}, {'order': (2, 3, 3)},\n",
       "       {'order': (1, 3, 2)}], dtype=object)"
      ]
     },
     "execution_count": 83,
     "metadata": {},
     "output_type": "execute_result"
    }
   ],
   "source": [
    "results.params.values"
   ]
  },
  {
   "cell_type": "code",
   "execution_count": 84,
   "metadata": {},
   "outputs": [
    {
     "data": {
      "text/plain": [
       "Int64Index([2, 8, 7, 6, 3, 9, 4, 1, 5, 0], dtype='int64')"
      ]
     },
     "execution_count": 84,
     "metadata": {},
     "output_type": "execute_result"
    }
   ],
   "source": [
    "results.index"
   ]
  },
  {
   "cell_type": "code",
   "execution_count": 102,
   "metadata": {},
   "outputs": [
    {
     "name": "stdout",
     "output_type": "stream",
     "text": [
      "Number of models compared: 4.\n"
     ]
    },
    {
     "name": "stderr",
     "output_type": "stream",
     "text": [
      "loop param_grid:  50%|███████████████████                   | 2/4 [00:00<00:00,  3.08it/s]c:\\Users\\jaesc2\\Miniconda3\\envs\\skforecast\\lib\\site-packages\\statsmodels\\tsa\\statespace\\sarimax.py:978: UserWarning: Non-invertible starting MA parameters found. Using zeros as starting parameters.\n",
      "  warn('Non-invertible starting MA parameters found.'\n",
      "loop param_grid:  75%|████████████████████████████▌         | 3/4 [00:01<00:00,  2.48it/s]c:\\Users\\jaesc2\\Miniconda3\\envs\\skforecast\\lib\\site-packages\\statsmodels\\tsa\\statespace\\sarimax.py:978: UserWarning: Non-invertible starting MA parameters found. Using zeros as starting parameters.\n",
      "  warn('Non-invertible starting MA parameters found.'\n",
      "loop param_grid: 100%|██████████████████████████████████████| 4/4 [00:01<00:00,  2.29it/s]"
     ]
    },
    {
     "name": "stdout",
     "output_type": "stream",
     "text": [
      "`Forecaster` refitted using the best-found parameters, and the whole data set: \n",
      "  Parameters: {'order': (1, 1, 1), 'method': 'powell'}\n",
      "  Backtesting metric: 0.2164423490481271\n",
      "\n"
     ]
    },
    {
     "name": "stderr",
     "output_type": "stream",
     "text": [
      "\n"
     ]
    },
    {
     "data": {
      "text/html": [
       "<div>\n",
       "<style scoped>\n",
       "    .dataframe tbody tr th:only-of-type {\n",
       "        vertical-align: middle;\n",
       "    }\n",
       "\n",
       "    .dataframe tbody tr th {\n",
       "        vertical-align: top;\n",
       "    }\n",
       "\n",
       "    .dataframe thead th {\n",
       "        text-align: right;\n",
       "    }\n",
       "</style>\n",
       "<table border=\"1\" class=\"dataframe\">\n",
       "  <thead>\n",
       "    <tr style=\"text-align: right;\">\n",
       "      <th></th>\n",
       "      <th>params</th>\n",
       "      <th>mean_absolute_error</th>\n",
       "      <th>order</th>\n",
       "      <th>method</th>\n",
       "    </tr>\n",
       "  </thead>\n",
       "  <tbody>\n",
       "    <tr>\n",
       "      <th>1</th>\n",
       "      <td>{'order': (1, 1, 1), 'method': 'powell'}</td>\n",
       "      <td>0.216442</td>\n",
       "      <td>(1, 1, 1)</td>\n",
       "      <td>powell</td>\n",
       "    </tr>\n",
       "    <tr>\n",
       "      <th>0</th>\n",
       "      <td>{'order': (1, 1, 1), 'method': 'lbfgs'}</td>\n",
       "      <td>0.216476</td>\n",
       "      <td>(1, 1, 1)</td>\n",
       "      <td>lbfgs</td>\n",
       "    </tr>\n",
       "    <tr>\n",
       "      <th>2</th>\n",
       "      <td>{'order': (2, 2, 2), 'method': 'lbfgs'}</td>\n",
       "      <td>0.244795</td>\n",
       "      <td>(2, 2, 2)</td>\n",
       "      <td>lbfgs</td>\n",
       "    </tr>\n",
       "    <tr>\n",
       "      <th>3</th>\n",
       "      <td>{'order': (2, 2, 2), 'method': 'powell'}</td>\n",
       "      <td>0.279474</td>\n",
       "      <td>(2, 2, 2)</td>\n",
       "      <td>powell</td>\n",
       "    </tr>\n",
       "  </tbody>\n",
       "</table>\n",
       "</div>"
      ],
      "text/plain": [
       "                                     params  mean_absolute_error      order  \\\n",
       "1  {'order': (1, 1, 1), 'method': 'powell'}             0.216442  (1, 1, 1)   \n",
       "0   {'order': (1, 1, 1), 'method': 'lbfgs'}             0.216476  (1, 1, 1)   \n",
       "2   {'order': (2, 2, 2), 'method': 'lbfgs'}             0.244795  (2, 2, 2)   \n",
       "3  {'order': (2, 2, 2), 'method': 'powell'}             0.279474  (2, 2, 2)   \n",
       "\n",
       "   method  \n",
       "1  powell  \n",
       "0   lbfgs  \n",
       "2   lbfgs  \n",
       "3  powell  "
      ]
     },
     "execution_count": 102,
     "metadata": {},
     "output_type": "execute_result"
    }
   ],
   "source": [
    "forecaster = ForecasterSarimax(regressor=ARIMA(order=(3,3,3)))\n",
    "\n",
    "param_grid = [{'order': (1,1,1), 'method': 'lbfgs'}, \n",
    "                {'order': (1,1,1), 'method': 'powell'}, \n",
    "                {'order': (2,2,2), 'method': 'lbfgs'}, \n",
    "                {'order': (2,2,2), 'method': 'powell'}]\n",
    "\n",
    "_evaluate_grid_hyperparameters_sarimax(\n",
    "    forecaster         = forecaster,\n",
    "    y                  = y_datetime,\n",
    "    param_grid         = param_grid,\n",
    "    steps              = 3,\n",
    "    refit              = True,\n",
    "    metric             = mean_absolute_error,\n",
    "    initial_train_size = len(y_datetime)-12,\n",
    "    fixed_train_size   = True,\n",
    "    return_best        = True,\n",
    "    verbose            = False\n",
    ")"
   ]
  },
  {
   "cell_type": "code",
   "execution_count": 103,
   "metadata": {},
   "outputs": [
    {
     "data": {
      "text/plain": [
       "{'maxiter': 50,\n",
       " 'method': 'lbfgs',\n",
       " 'order': (3, 3, 3),\n",
       " 'out_of_sample_size': 0,\n",
       " 'scoring': 'mse',\n",
       " 'scoring_args': None,\n",
       " 'seasonal_order': (0, 0, 0, 0),\n",
       " 'start_params': None,\n",
       " 'suppress_warnings': False,\n",
       " 'trend': None,\n",
       " 'with_intercept': True}"
      ]
     },
     "execution_count": 103,
     "metadata": {},
     "output_type": "execute_result"
    }
   ],
   "source": [
    "forecaster.params"
   ]
  },
  {
   "cell_type": "code",
   "execution_count": 105,
   "metadata": {},
   "outputs": [
    {
     "data": {
      "text/plain": [
       "'powell'"
      ]
     },
     "execution_count": 105,
     "metadata": {},
     "output_type": "execute_result"
    }
   ],
   "source": [
    "forecaster.regressor.method"
   ]
  },
  {
   "cell_type": "code",
   "execution_count": 5,
   "metadata": {},
   "outputs": [],
   "source": [
    "# Libraries\n",
    "# ==============================================================================\n",
    "import pandas as pd\n",
    "import matplotlib.pyplot as plt\n",
    "from skforecast.ForecasterAutoreg import ForecasterAutoreg\n",
    "from sklearn.ensemble import RandomForestRegressor\n",
    "from sklearn.metrics import mean_squared_error"
   ]
  },
  {
   "cell_type": "code",
   "execution_count": 108,
   "metadata": {},
   "outputs": [
    {
     "data": {
      "image/png": "[encoded data removed]",
      "text/plain": [
       "<Figure size 900x400 with 1 Axes>"
      ]
     },
     "metadata": {},
     "output_type": "display_data"
    }
   ],
   "source": [
    "# Download data\n",
    "# ==============================================================================\n",
    "url = ('https://raw.githubusercontent.com/JoaquinAmatRodrigo/skforecast/master/data/h2o.csv')\n",
    "data = pd.read_csv(url, sep=',', header=0, names=['y', 'datetime'])\n",
    "\n",
    "# Data preprocessing\n",
    "# ==============================================================================\n",
    "data['datetime'] = pd.to_datetime(data['datetime'], format='%Y/%m/%d')\n",
    "data = data.set_index('datetime')\n",
    "data = data.asfreq('MS')\n",
    "data = data['y']\n",
    "data = data.sort_index()\n",
    "\n",
    "# Split train-test\n",
    "# ==============================================================================\n",
    "steps = 36\n",
    "data_train = data[:-steps]\n",
    "data_test  = data[-steps:]\n",
    "\n",
    "# Plot\n",
    "# ==============================================================================\n",
    "fig, ax=plt.subplots(figsize=(9, 4))\n",
    "data_train.plot(ax=ax, label='train')\n",
    "data_test.plot(ax=ax, label='test')\n",
    "ax.legend();"
   ]
  },
  {
   "cell_type": "code",
   "execution_count": 109,
   "metadata": {},
   "outputs": [
    {
     "data": {
      "text/plain": [
       "================= \n",
       "ForecasterAutoreg \n",
       "================= \n",
       "Regressor: RandomForestRegressor(random_state=123) \n",
       "Lags: [ 1  2  3  4  5  6  7  8  9 10 11 12 13 14 15] \n",
       "Transformer for y: None \n",
       "Transformer for exog: None \n",
       "Window size: 15 \n",
       "Weight function included: False \n",
       "Exogenous included: False \n",
       "Type of exogenous variable: None \n",
       "Exogenous variables names: None \n",
       "Training range: [Timestamp('1991-07-01 00:00:00'), Timestamp('2005-06-01 00:00:00')] \n",
       "Training index type: DatetimeIndex \n",
       "Training index frequency: MS \n",
       "Regressor parameters: {'bootstrap': True, 'ccp_alpha': 0.0, 'criterion': 'squared_error', 'max_depth': None, 'max_features': 1.0, 'max_leaf_nodes': None, 'max_samples': None, 'min_impurity_decrease': 0.0, 'min_samples_leaf': 1, 'min_samples_split': 2, 'min_weight_fraction_leaf': 0.0, 'n_estimators': 100, 'n_jobs': None, 'oob_score': False, 'random_state': 123, 'verbose': 0, 'warm_start': False} \n",
       "Creation date: 2023-01-27 15:21:59 \n",
       "Last fit date: 2023-01-27 15:21:59 \n",
       "Skforecast version: 0.7.dev \n",
       "Python version: 3.9.13 "
      ]
     },
     "execution_count": 109,
     "metadata": {},
     "output_type": "execute_result"
    }
   ],
   "source": [
    "# Create and fit forecaster\n",
    "# ==============================================================================\n",
    "forecaster = ForecasterAutoreg(\n",
    "                 regressor = RandomForestRegressor(random_state=123),\n",
    "                 lags      = 15\n",
    "             )\n",
    "\n",
    "forecaster.fit(y=data_train)\n",
    "forecaster"
   ]
  },
  {
   "cell_type": "code",
   "execution_count": 4,
   "metadata": {},
   "outputs": [],
   "source": [
    "# Libraries\n",
    "# ==============================================================================\n",
    "import numpy as np\n",
    "import pandas as pd\n",
    "import matplotlib.pyplot as plt\n",
    "from sklearn.preprocessing import StandardScaler\n",
    "from sklearn.linear_model import Ridge\n",
    "from sklearn.metrics import mean_absolute_error\n",
    "\n",
    "from skforecast.ForecasterAutoregMultiSeries import ForecasterAutoregMultiSeries\n",
    "from skforecast.model_selection_multiseries import backtesting_forecaster_multiseries\n",
    "from skforecast.model_selection_multiseries import grid_search_forecaster_multiseries"
   ]
  },
  {
   "cell_type": "code",
   "execution_count": 7,
   "metadata": {},
   "outputs": [
    {
     "data": {
      "text/html": [
       "<div>\n",
       "<style scoped>\n",
       "    .dataframe tbody tr th:only-of-type {\n",
       "        vertical-align: middle;\n",
       "    }\n",
       "\n",
       "    .dataframe tbody tr th {\n",
       "        vertical-align: top;\n",
       "    }\n",
       "\n",
       "    .dataframe thead th {\n",
       "        text-align: right;\n",
       "    }\n",
       "</style>\n",
       "<table border=\"1\" class=\"dataframe\">\n",
       "  <thead>\n",
       "    <tr style=\"text-align: right;\">\n",
       "      <th></th>\n",
       "      <th>item_1</th>\n",
       "      <th>item_2</th>\n",
       "      <th>item_3</th>\n",
       "    </tr>\n",
       "    <tr>\n",
       "      <th>date</th>\n",
       "      <th></th>\n",
       "      <th></th>\n",
       "      <th></th>\n",
       "    </tr>\n",
       "  </thead>\n",
       "  <tbody>\n",
       "    <tr>\n",
       "      <th>2012-01-01</th>\n",
       "      <td>8.253175</td>\n",
       "      <td>21.047727</td>\n",
       "      <td>19.429739</td>\n",
       "    </tr>\n",
       "    <tr>\n",
       "      <th>2012-01-02</th>\n",
       "      <td>22.777826</td>\n",
       "      <td>26.578125</td>\n",
       "      <td>28.009863</td>\n",
       "    </tr>\n",
       "    <tr>\n",
       "      <th>2012-01-03</th>\n",
       "      <td>27.549099</td>\n",
       "      <td>31.751042</td>\n",
       "      <td>32.078922</td>\n",
       "    </tr>\n",
       "    <tr>\n",
       "      <th>2012-01-04</th>\n",
       "      <td>25.895533</td>\n",
       "      <td>24.567708</td>\n",
       "      <td>27.252276</td>\n",
       "    </tr>\n",
       "    <tr>\n",
       "      <th>2012-01-05</th>\n",
       "      <td>21.379238</td>\n",
       "      <td>18.191667</td>\n",
       "      <td>20.357737</td>\n",
       "    </tr>\n",
       "  </tbody>\n",
       "</table>\n",
       "</div>"
      ],
      "text/plain": [
       "               item_1     item_2     item_3\n",
       "date                                       \n",
       "2012-01-01   8.253175  21.047727  19.429739\n",
       "2012-01-02  22.777826  26.578125  28.009863\n",
       "2012-01-03  27.549099  31.751042  32.078922\n",
       "2012-01-04  25.895533  24.567708  27.252276\n",
       "2012-01-05  21.379238  18.191667  20.357737"
      ]
     },
     "execution_count": 7,
     "metadata": {},
     "output_type": "execute_result"
    }
   ],
   "source": [
    "# Data download\n",
    "# ==============================================================================\n",
    "url = ('https://raw.githubusercontent.com/JoaquinAmatRodrigo/skforecast/master/' +\n",
    "       'data/simulated_items_sales.csv')\n",
    "data = pd.read_csv(url, sep=',')\n",
    "\n",
    "# Data preparation\n",
    "# ==============================================================================\n",
    "data['date'] = pd.to_datetime(data['date'], format='%Y-%m-%d')\n",
    "data = data.set_index('date')\n",
    "data = data.asfreq('D')\n",
    "data = data.sort_index()\n",
    "data.head()"
   ]
  },
  {
   "cell_type": "code",
   "execution_count": 8,
   "metadata": {},
   "outputs": [
    {
     "name": "stdout",
     "output_type": "stream",
     "text": [
      "Train dates : 2012-01-01 00:00:00 --- 2014-07-15 00:00:00  (n=927)\n",
      "Test dates  : 2014-07-16 00:00:00 --- 2015-01-01 00:00:00  (n=170)\n"
     ]
    }
   ],
   "source": [
    "# Split data into train-val-test\n",
    "# ==============================================================================\n",
    "end_train = '2014-07-15 23:59:00'\n",
    "data_train = data.loc[:end_train, :].copy()\n",
    "data_test  = data.loc[end_train:, :].copy()\n",
    "\n",
    "print(f\"Train dates : {data_train.index.min()} --- {data_train.index.max()}  (n={len(data_train)})\")\n",
    "print(f\"Test dates  : {data_test.index.min()} --- {data_test.index.max()}  (n={len(data_test)})\")"
   ]
  },
  {
   "cell_type": "code",
   "execution_count": 9,
   "metadata": {},
   "outputs": [
    {
     "data": {
      "text/plain": [
       "============================ \n",
       "ForecasterAutoregMultiSeries \n",
       "============================ \n",
       "Regressor: Ridge(random_state=123) \n",
       "Lags: [ 1  2  3  4  5  6  7  8  9 10 11 12 13 14 15 16 17 18 19 20 21 22 23 24] \n",
       "Transformer for series: None \n",
       "Transformer for exog: None \n",
       "Window size: 24 \n",
       "Series levels (names): ['item_1', 'item_2', 'item_3'] \n",
       "Series weights: None \n",
       "Weight function included: False \n",
       "Exogenous included: False \n",
       "Type of exogenous variable: None \n",
       "Exogenous variables names: None \n",
       "Training range: [Timestamp('2012-01-01 00:00:00'), Timestamp('2014-07-15 00:00:00')] \n",
       "Training index type: DatetimeIndex \n",
       "Training index frequency: D \n",
       "Regressor parameters: {'alpha': 1.0, 'copy_X': True, 'fit_intercept': True, 'max_iter': None, 'normalize': 'deprecated', 'positive': False, 'random_state': 123, 'solver': 'auto', 'tol': 0.001} \n",
       "Creation date: 2023-02-22 14:38:27 \n",
       "Last fit date: 2023-02-22 14:38:27 \n",
       "Skforecast version: 0.7.0 \n",
       "Python version: 3.9.13 "
      ]
     },
     "execution_count": 9,
     "metadata": {},
     "output_type": "execute_result"
    }
   ],
   "source": [
    "# Create and fit forecaster multi series\n",
    "# ==============================================================================\n",
    "forecaster = ForecasterAutoregMultiSeries(\n",
    "                 regressor          = Ridge(random_state=123),\n",
    "                 lags               = 24,\n",
    "                 transformer_series = None,\n",
    "                 transformer_exog   = None,\n",
    "                 weight_func        = None,\n",
    "                 series_weights     = None\n",
    "             )\n",
    "\n",
    "forecaster.fit(series=data_train)\n",
    "forecaster"
   ]
  },
  {
   "cell_type": "code",
   "execution_count": 10,
   "metadata": {},
   "outputs": [
    {
     "data": {
      "text/html": [
       "<div>\n",
       "<style scoped>\n",
       "    .dataframe tbody tr th:only-of-type {\n",
       "        vertical-align: middle;\n",
       "    }\n",
       "\n",
       "    .dataframe tbody tr th {\n",
       "        vertical-align: top;\n",
       "    }\n",
       "\n",
       "    .dataframe thead th {\n",
       "        text-align: right;\n",
       "    }\n",
       "</style>\n",
       "<table border=\"1\" class=\"dataframe\">\n",
       "  <thead>\n",
       "    <tr style=\"text-align: right;\">\n",
       "      <th></th>\n",
       "      <th>0</th>\n",
       "      <th>1</th>\n",
       "    </tr>\n",
       "  </thead>\n",
       "  <tbody>\n",
       "    <tr>\n",
       "      <th>0</th>\n",
       "      <td>23.220087</td>\n",
       "      <td>28.226068</td>\n",
       "    </tr>\n",
       "    <tr>\n",
       "      <th>1</th>\n",
       "      <td>22.141168</td>\n",
       "      <td>27.389805</td>\n",
       "    </tr>\n",
       "    <tr>\n",
       "      <th>2</th>\n",
       "      <td>21.688393</td>\n",
       "      <td>26.981395</td>\n",
       "    </tr>\n",
       "    <tr>\n",
       "      <th>3</th>\n",
       "      <td>20.508714</td>\n",
       "      <td>26.127966</td>\n",
       "    </tr>\n",
       "    <tr>\n",
       "      <th>4</th>\n",
       "      <td>20.394104</td>\n",
       "      <td>25.869121</td>\n",
       "    </tr>\n",
       "  </tbody>\n",
       "</table>\n",
       "</div>"
      ],
      "text/plain": [
       "           0          1\n",
       "0  23.220087  28.226068\n",
       "1  22.141168  27.389805\n",
       "2  21.688393  26.981395\n",
       "3  20.508714  26.127966\n",
       "4  20.394104  25.869121"
      ]
     },
     "execution_count": 10,
     "metadata": {},
     "output_type": "execute_result"
    }
   ],
   "source": [
    "pd.DataFrame(forecaster._estimate_boot_interval(5, 'item_1'))"
   ]
  },
  {
   "cell_type": "code",
   "execution_count": 14,
   "metadata": {},
   "outputs": [
    {
     "data": {
      "text/html": [
       "<div>\n",
       "<style scoped>\n",
       "    .dataframe tbody tr th:only-of-type {\n",
       "        vertical-align: middle;\n",
       "    }\n",
       "\n",
       "    .dataframe tbody tr th {\n",
       "        vertical-align: top;\n",
       "    }\n",
       "\n",
       "    .dataframe thead th {\n",
       "        text-align: right;\n",
       "    }\n",
       "</style>\n",
       "<table border=\"1\" class=\"dataframe\">\n",
       "  <thead>\n",
       "    <tr style=\"text-align: right;\">\n",
       "      <th></th>\n",
       "      <th>pred_boot_0</th>\n",
       "      <th>pred_boot_1</th>\n",
       "      <th>pred_boot_2</th>\n",
       "      <th>pred_boot_3</th>\n",
       "      <th>pred_boot_4</th>\n",
       "      <th>pred_boot_5</th>\n",
       "      <th>pred_boot_6</th>\n",
       "      <th>pred_boot_7</th>\n",
       "      <th>pred_boot_8</th>\n",
       "      <th>pred_boot_9</th>\n",
       "      <th>...</th>\n",
       "      <th>pred_boot_490</th>\n",
       "      <th>pred_boot_491</th>\n",
       "      <th>pred_boot_492</th>\n",
       "      <th>pred_boot_493</th>\n",
       "      <th>pred_boot_494</th>\n",
       "      <th>pred_boot_495</th>\n",
       "      <th>pred_boot_496</th>\n",
       "      <th>pred_boot_497</th>\n",
       "      <th>pred_boot_498</th>\n",
       "      <th>pred_boot_499</th>\n",
       "    </tr>\n",
       "  </thead>\n",
       "  <tbody>\n",
       "    <tr>\n",
       "      <th>2014-07-16</th>\n",
       "      <td>24.992098</td>\n",
       "      <td>27.474183</td>\n",
       "      <td>23.537907</td>\n",
       "      <td>25.615737</td>\n",
       "      <td>25.167445</td>\n",
       "      <td>26.045300</td>\n",
       "      <td>25.760568</td>\n",
       "      <td>23.312766</td>\n",
       "      <td>24.646091</td>\n",
       "      <td>25.560514</td>\n",
       "      <td>...</td>\n",
       "      <td>25.527527</td>\n",
       "      <td>26.098120</td>\n",
       "      <td>23.739748</td>\n",
       "      <td>25.565486</td>\n",
       "      <td>27.000823</td>\n",
       "      <td>24.971809</td>\n",
       "      <td>25.625696</td>\n",
       "      <td>26.759261</td>\n",
       "      <td>24.881654</td>\n",
       "      <td>30.491796</td>\n",
       "    </tr>\n",
       "    <tr>\n",
       "      <th>2014-07-17</th>\n",
       "      <td>25.354431</td>\n",
       "      <td>25.699547</td>\n",
       "      <td>24.806529</td>\n",
       "      <td>23.990339</td>\n",
       "      <td>25.109173</td>\n",
       "      <td>23.975097</td>\n",
       "      <td>24.587407</td>\n",
       "      <td>25.569599</td>\n",
       "      <td>24.406170</td>\n",
       "      <td>25.814938</td>\n",
       "      <td>...</td>\n",
       "      <td>25.000222</td>\n",
       "      <td>22.771645</td>\n",
       "      <td>24.546229</td>\n",
       "      <td>25.163796</td>\n",
       "      <td>25.371384</td>\n",
       "      <td>24.427723</td>\n",
       "      <td>25.478259</td>\n",
       "      <td>25.509826</td>\n",
       "      <td>22.598946</td>\n",
       "      <td>26.827838</td>\n",
       "    </tr>\n",
       "    <tr>\n",
       "      <th>2014-07-18</th>\n",
       "      <td>25.800695</td>\n",
       "      <td>25.808437</td>\n",
       "      <td>22.348476</td>\n",
       "      <td>24.578163</td>\n",
       "      <td>26.416754</td>\n",
       "      <td>22.041342</td>\n",
       "      <td>25.045697</td>\n",
       "      <td>23.121268</td>\n",
       "      <td>24.329671</td>\n",
       "      <td>22.791743</td>\n",
       "      <td>...</td>\n",
       "      <td>22.502835</td>\n",
       "      <td>22.789061</td>\n",
       "      <td>22.271161</td>\n",
       "      <td>24.405786</td>\n",
       "      <td>22.164870</td>\n",
       "      <td>24.450766</td>\n",
       "      <td>25.808065</td>\n",
       "      <td>24.234098</td>\n",
       "      <td>22.079980</td>\n",
       "      <td>24.227325</td>\n",
       "    </tr>\n",
       "    <tr>\n",
       "      <th>2014-07-19</th>\n",
       "      <td>24.355844</td>\n",
       "      <td>23.939162</td>\n",
       "      <td>24.645558</td>\n",
       "      <td>21.991444</td>\n",
       "      <td>23.209937</td>\n",
       "      <td>22.259762</td>\n",
       "      <td>23.688980</td>\n",
       "      <td>23.397382</td>\n",
       "      <td>24.259336</td>\n",
       "      <td>22.850552</td>\n",
       "      <td>...</td>\n",
       "      <td>22.750040</td>\n",
       "      <td>20.356592</td>\n",
       "      <td>21.616545</td>\n",
       "      <td>25.893548</td>\n",
       "      <td>25.377304</td>\n",
       "      <td>22.493699</td>\n",
       "      <td>24.299102</td>\n",
       "      <td>22.998632</td>\n",
       "      <td>20.465122</td>\n",
       "      <td>24.660813</td>\n",
       "    </tr>\n",
       "    <tr>\n",
       "      <th>2014-07-20</th>\n",
       "      <td>23.731017</td>\n",
       "      <td>27.445450</td>\n",
       "      <td>26.406054</td>\n",
       "      <td>24.513569</td>\n",
       "      <td>21.365381</td>\n",
       "      <td>23.258239</td>\n",
       "      <td>24.201595</td>\n",
       "      <td>20.904236</td>\n",
       "      <td>23.357744</td>\n",
       "      <td>21.858399</td>\n",
       "      <td>...</td>\n",
       "      <td>23.110692</td>\n",
       "      <td>21.494145</td>\n",
       "      <td>22.264347</td>\n",
       "      <td>28.367117</td>\n",
       "      <td>23.388272</td>\n",
       "      <td>23.247468</td>\n",
       "      <td>22.728072</td>\n",
       "      <td>21.303607</td>\n",
       "      <td>22.506775</td>\n",
       "      <td>21.720603</td>\n",
       "    </tr>\n",
       "  </tbody>\n",
       "</table>\n",
       "<p>5 rows × 500 columns</p>\n",
       "</div>"
      ],
      "text/plain": [
       "            pred_boot_0  pred_boot_1  pred_boot_2  pred_boot_3  pred_boot_4  \\\n",
       "2014-07-16    24.992098    27.474183    23.537907    25.615737    25.167445   \n",
       "2014-07-17    25.354431    25.699547    24.806529    23.990339    25.109173   \n",
       "2014-07-18    25.800695    25.808437    22.348476    24.578163    26.416754   \n",
       "2014-07-19    24.355844    23.939162    24.645558    21.991444    23.209937   \n",
       "2014-07-20    23.731017    27.445450    26.406054    24.513569    21.365381   \n",
       "\n",
       "            pred_boot_5  pred_boot_6  pred_boot_7  pred_boot_8  pred_boot_9  \\\n",
       "2014-07-16    26.045300    25.760568    23.312766    24.646091    25.560514   \n",
       "2014-07-17    23.975097    24.587407    25.569599    24.406170    25.814938   \n",
       "2014-07-18    22.041342    25.045697    23.121268    24.329671    22.791743   \n",
       "2014-07-19    22.259762    23.688980    23.397382    24.259336    22.850552   \n",
       "2014-07-20    23.258239    24.201595    20.904236    23.357744    21.858399   \n",
       "\n",
       "            ...  pred_boot_490  pred_boot_491  pred_boot_492  pred_boot_493  \\\n",
       "2014-07-16  ...      25.527527      26.098120      23.739748      25.565486   \n",
       "2014-07-17  ...      25.000222      22.771645      24.546229      25.163796   \n",
       "2014-07-18  ...      22.502835      22.789061      22.271161      24.405786   \n",
       "2014-07-19  ...      22.750040      20.356592      21.616545      25.893548   \n",
       "2014-07-20  ...      23.110692      21.494145      22.264347      28.367117   \n",
       "\n",
       "            pred_boot_494  pred_boot_495  pred_boot_496  pred_boot_497  \\\n",
       "2014-07-16      27.000823      24.971809      25.625696      26.759261   \n",
       "2014-07-17      25.371384      24.427723      25.478259      25.509826   \n",
       "2014-07-18      22.164870      24.450766      25.808065      24.234098   \n",
       "2014-07-19      25.377304      22.493699      24.299102      22.998632   \n",
       "2014-07-20      23.388272      23.247468      22.728072      21.303607   \n",
       "\n",
       "            pred_boot_498  pred_boot_499  \n",
       "2014-07-16      24.881654      30.491796  \n",
       "2014-07-17      22.598946      26.827838  \n",
       "2014-07-18      22.079980      24.227325  \n",
       "2014-07-19      20.465122      24.660813  \n",
       "2014-07-20      22.506775      21.720603  \n",
       "\n",
       "[5 rows x 500 columns]"
      ]
     },
     "execution_count": 14,
     "metadata": {},
     "output_type": "execute_result"
    }
   ],
   "source": [
    "forecaster.predict_bootstrapping(5)['item_1']"
   ]
  },
  {
   "cell_type": "code",
   "execution_count": 30,
   "metadata": {},
   "outputs": [
    {
     "data": {
      "text/html": [
       "<div>\n",
       "<style scoped>\n",
       "    .dataframe tbody tr th:only-of-type {\n",
       "        vertical-align: middle;\n",
       "    }\n",
       "\n",
       "    .dataframe tbody tr th {\n",
       "        vertical-align: top;\n",
       "    }\n",
       "\n",
       "    .dataframe thead th {\n",
       "        text-align: right;\n",
       "    }\n",
       "</style>\n",
       "<table border=\"1\" class=\"dataframe\">\n",
       "  <thead>\n",
       "    <tr style=\"text-align: right;\">\n",
       "      <th></th>\n",
       "      <th>0.05</th>\n",
       "      <th>0.95</th>\n",
       "    </tr>\n",
       "  </thead>\n",
       "  <tbody>\n",
       "    <tr>\n",
       "      <th>2014-07-16</th>\n",
       "      <td>23.220087</td>\n",
       "      <td>28.226068</td>\n",
       "    </tr>\n",
       "    <tr>\n",
       "      <th>2014-07-17</th>\n",
       "      <td>22.141168</td>\n",
       "      <td>27.389805</td>\n",
       "    </tr>\n",
       "    <tr>\n",
       "      <th>2014-07-18</th>\n",
       "      <td>21.688393</td>\n",
       "      <td>26.981395</td>\n",
       "    </tr>\n",
       "    <tr>\n",
       "      <th>2014-07-19</th>\n",
       "      <td>20.508714</td>\n",
       "      <td>26.127966</td>\n",
       "    </tr>\n",
       "    <tr>\n",
       "      <th>2014-07-20</th>\n",
       "      <td>20.394104</td>\n",
       "      <td>25.869121</td>\n",
       "    </tr>\n",
       "  </tbody>\n",
       "</table>\n",
       "</div>"
      ],
      "text/plain": [
       "                 0.05       0.95\n",
       "2014-07-16  23.220087  28.226068\n",
       "2014-07-17  22.141168  27.389805\n",
       "2014-07-18  21.688393  26.981395\n",
       "2014-07-19  20.508714  26.127966\n",
       "2014-07-20  20.394104  25.869121"
      ]
     },
     "execution_count": 30,
     "metadata": {},
     "output_type": "execute_result"
    }
   ],
   "source": [
    "df.iloc[:, :500].quantile(q=interval, axis=1).transpose()"
   ]
  },
  {
   "cell_type": "code",
   "execution_count": null,
   "metadata": {},
   "outputs": [],
   "source": []
  },
  {
   "cell_type": "code",
   "execution_count": 15,
   "metadata": {},
   "outputs": [],
   "source": [
    "interval = np.array([5, 95])/100"
   ]
  },
  {
   "cell_type": "code",
   "execution_count": 18,
   "metadata": {},
   "outputs": [
    {
     "data": {
      "text/html": [
       "<div>\n",
       "<style scoped>\n",
       "    .dataframe tbody tr th:only-of-type {\n",
       "        vertical-align: middle;\n",
       "    }\n",
       "\n",
       "    .dataframe tbody tr th {\n",
       "        vertical-align: top;\n",
       "    }\n",
       "\n",
       "    .dataframe thead th {\n",
       "        text-align: right;\n",
       "    }\n",
       "</style>\n",
       "<table border=\"1\" class=\"dataframe\">\n",
       "  <thead>\n",
       "    <tr style=\"text-align: right;\">\n",
       "      <th></th>\n",
       "      <th>item_1</th>\n",
       "      <th>item_1_lower_bound</th>\n",
       "      <th>item_1_upper_bound</th>\n",
       "      <th>item_2</th>\n",
       "      <th>item_2_lower_bound</th>\n",
       "      <th>item_2_upper_bound</th>\n",
       "      <th>item_3</th>\n",
       "      <th>item_3_lower_bound</th>\n",
       "      <th>item_3_upper_bound</th>\n",
       "    </tr>\n",
       "  </thead>\n",
       "  <tbody>\n",
       "    <tr>\n",
       "      <th>2014-07-16</th>\n",
       "      <td>25.497376</td>\n",
       "      <td>23.220087</td>\n",
       "      <td>28.226068</td>\n",
       "      <td>10.694506</td>\n",
       "      <td>7.093046</td>\n",
       "      <td>15.518896</td>\n",
       "      <td>11.275026</td>\n",
       "      <td>4.992239</td>\n",
       "      <td>18.080938</td>\n",
       "    </tr>\n",
       "    <tr>\n",
       "      <th>2014-07-17</th>\n",
       "      <td>24.866972</td>\n",
       "      <td>22.141168</td>\n",
       "      <td>27.389805</td>\n",
       "      <td>11.080091</td>\n",
       "      <td>6.467676</td>\n",
       "      <td>16.534679</td>\n",
       "      <td>11.313510</td>\n",
       "      <td>4.220834</td>\n",
       "      <td>18.599545</td>\n",
       "    </tr>\n",
       "    <tr>\n",
       "      <th>2014-07-18</th>\n",
       "      <td>24.281173</td>\n",
       "      <td>21.688393</td>\n",
       "      <td>26.981395</td>\n",
       "      <td>11.490882</td>\n",
       "      <td>7.077863</td>\n",
       "      <td>16.762530</td>\n",
       "      <td>13.030112</td>\n",
       "      <td>6.113241</td>\n",
       "      <td>20.462998</td>\n",
       "    </tr>\n",
       "    <tr>\n",
       "      <th>2014-07-19</th>\n",
       "      <td>23.515499</td>\n",
       "      <td>20.508714</td>\n",
       "      <td>26.127966</td>\n",
       "      <td>11.548922</td>\n",
       "      <td>7.119051</td>\n",
       "      <td>16.765540</td>\n",
       "      <td>13.378282</td>\n",
       "      <td>6.320599</td>\n",
       "      <td>21.519298</td>\n",
       "    </tr>\n",
       "    <tr>\n",
       "      <th>2014-07-20</th>\n",
       "      <td>23.206516</td>\n",
       "      <td>20.394104</td>\n",
       "      <td>25.869121</td>\n",
       "      <td>11.338041</td>\n",
       "      <td>6.557352</td>\n",
       "      <td>16.581976</td>\n",
       "      <td>12.511355</td>\n",
       "      <td>5.911201</td>\n",
       "      <td>20.006396</td>\n",
       "    </tr>\n",
       "  </tbody>\n",
       "</table>\n",
       "</div>"
      ],
      "text/plain": [
       "               item_1  item_1_lower_bound  item_1_upper_bound     item_2  \\\n",
       "2014-07-16  25.497376           23.220087           28.226068  10.694506   \n",
       "2014-07-17  24.866972           22.141168           27.389805  11.080091   \n",
       "2014-07-18  24.281173           21.688393           26.981395  11.490882   \n",
       "2014-07-19  23.515499           20.508714           26.127966  11.548922   \n",
       "2014-07-20  23.206516           20.394104           25.869121  11.338041   \n",
       "\n",
       "            item_2_lower_bound  item_2_upper_bound     item_3  \\\n",
       "2014-07-16            7.093046           15.518896  11.275026   \n",
       "2014-07-17            6.467676           16.534679  11.313510   \n",
       "2014-07-18            7.077863           16.762530  13.030112   \n",
       "2014-07-19            7.119051           16.765540  13.378282   \n",
       "2014-07-20            6.557352           16.581976  12.511355   \n",
       "\n",
       "            item_3_lower_bound  item_3_upper_bound  \n",
       "2014-07-16            4.992239           18.080938  \n",
       "2014-07-17            4.220834           18.599545  \n",
       "2014-07-18            6.113241           20.462998  \n",
       "2014-07-19            6.320599           21.519298  \n",
       "2014-07-20            5.911201           20.006396  "
      ]
     },
     "execution_count": 18,
     "metadata": {},
     "output_type": "execute_result"
    }
   ],
   "source": [
    "forecaster.predict_interval_old(5)"
   ]
  },
  {
   "cell_type": "code",
   "execution_count": 17,
   "metadata": {},
   "outputs": [
    {
     "data": {
      "text/html": [
       "<div>\n",
       "<style scoped>\n",
       "    .dataframe tbody tr th:only-of-type {\n",
       "        vertical-align: middle;\n",
       "    }\n",
       "\n",
       "    .dataframe tbody tr th {\n",
       "        vertical-align: top;\n",
       "    }\n",
       "\n",
       "    .dataframe thead th {\n",
       "        text-align: right;\n",
       "    }\n",
       "</style>\n",
       "<table border=\"1\" class=\"dataframe\">\n",
       "  <thead>\n",
       "    <tr style=\"text-align: right;\">\n",
       "      <th></th>\n",
       "      <th>item_1</th>\n",
       "      <th>item_1_lower_bound</th>\n",
       "      <th>item_1_upper_bound</th>\n",
       "      <th>item_2</th>\n",
       "      <th>item_2_lower_bound</th>\n",
       "      <th>item_2_upper_bound</th>\n",
       "      <th>item_3</th>\n",
       "      <th>item_3_lower_bound</th>\n",
       "      <th>item_3_upper_bound</th>\n",
       "    </tr>\n",
       "  </thead>\n",
       "  <tbody>\n",
       "    <tr>\n",
       "      <th>2014-07-16</th>\n",
       "      <td>25.497376</td>\n",
       "      <td>23.220087</td>\n",
       "      <td>28.226068</td>\n",
       "      <td>10.694506</td>\n",
       "      <td>7.093046</td>\n",
       "      <td>15.518896</td>\n",
       "      <td>11.275026</td>\n",
       "      <td>4.992239</td>\n",
       "      <td>18.080938</td>\n",
       "    </tr>\n",
       "    <tr>\n",
       "      <th>2014-07-17</th>\n",
       "      <td>24.866972</td>\n",
       "      <td>22.141168</td>\n",
       "      <td>27.389805</td>\n",
       "      <td>11.080091</td>\n",
       "      <td>6.467676</td>\n",
       "      <td>16.534679</td>\n",
       "      <td>11.313510</td>\n",
       "      <td>4.220834</td>\n",
       "      <td>18.599545</td>\n",
       "    </tr>\n",
       "    <tr>\n",
       "      <th>2014-07-18</th>\n",
       "      <td>24.281173</td>\n",
       "      <td>21.688393</td>\n",
       "      <td>26.981395</td>\n",
       "      <td>11.490882</td>\n",
       "      <td>7.077863</td>\n",
       "      <td>16.762530</td>\n",
       "      <td>13.030112</td>\n",
       "      <td>6.113241</td>\n",
       "      <td>20.462998</td>\n",
       "    </tr>\n",
       "    <tr>\n",
       "      <th>2014-07-19</th>\n",
       "      <td>23.515499</td>\n",
       "      <td>20.508714</td>\n",
       "      <td>26.127966</td>\n",
       "      <td>11.548922</td>\n",
       "      <td>7.119051</td>\n",
       "      <td>16.765540</td>\n",
       "      <td>13.378282</td>\n",
       "      <td>6.320599</td>\n",
       "      <td>21.519298</td>\n",
       "    </tr>\n",
       "    <tr>\n",
       "      <th>2014-07-20</th>\n",
       "      <td>23.206516</td>\n",
       "      <td>20.394104</td>\n",
       "      <td>25.869121</td>\n",
       "      <td>11.338041</td>\n",
       "      <td>6.557352</td>\n",
       "      <td>16.581976</td>\n",
       "      <td>12.511355</td>\n",
       "      <td>5.911201</td>\n",
       "      <td>20.006396</td>\n",
       "    </tr>\n",
       "  </tbody>\n",
       "</table>\n",
       "</div>"
      ],
      "text/plain": [
       "               item_1  item_1_lower_bound  item_1_upper_bound     item_2  \\\n",
       "2014-07-16  25.497376           23.220087           28.226068  10.694506   \n",
       "2014-07-17  24.866972           22.141168           27.389805  11.080091   \n",
       "2014-07-18  24.281173           21.688393           26.981395  11.490882   \n",
       "2014-07-19  23.515499           20.508714           26.127966  11.548922   \n",
       "2014-07-20  23.206516           20.394104           25.869121  11.338041   \n",
       "\n",
       "            item_2_lower_bound  item_2_upper_bound     item_3  \\\n",
       "2014-07-16            7.093046           15.518896  11.275026   \n",
       "2014-07-17            6.467676           16.534679  11.313510   \n",
       "2014-07-18            7.077863           16.762530  13.030112   \n",
       "2014-07-19            7.119051           16.765540  13.378282   \n",
       "2014-07-20            6.557352           16.581976  12.511355   \n",
       "\n",
       "            item_3_lower_bound  item_3_upper_bound  \n",
       "2014-07-16            4.992239           18.080938  \n",
       "2014-07-17            4.220834           18.599545  \n",
       "2014-07-18            6.113241           20.462998  \n",
       "2014-07-19            6.320599           21.519298  \n",
       "2014-07-20            5.911201           20.006396  "
      ]
     },
     "execution_count": 17,
     "metadata": {},
     "output_type": "execute_result"
    }
   ],
   "source": [
    "forecaster.predict_interval(5)"
   ]
  },
  {
   "cell_type": "code",
   "execution_count": 21,
   "metadata": {},
   "outputs": [
    {
     "data": {
      "text/html": [
       "<div>\n",
       "<style scoped>\n",
       "    .dataframe tbody tr th:only-of-type {\n",
       "        vertical-align: middle;\n",
       "    }\n",
       "\n",
       "    .dataframe tbody tr th {\n",
       "        vertical-align: top;\n",
       "    }\n",
       "\n",
       "    .dataframe thead th {\n",
       "        text-align: right;\n",
       "    }\n",
       "</style>\n",
       "<table border=\"1\" class=\"dataframe\">\n",
       "  <thead>\n",
       "    <tr style=\"text-align: right;\">\n",
       "      <th></th>\n",
       "      <th>item_1_loc</th>\n",
       "      <th>item_1_scale</th>\n",
       "      <th>item_2_loc</th>\n",
       "      <th>item_2_scale</th>\n",
       "      <th>item_3_loc</th>\n",
       "      <th>item_3_scale</th>\n",
       "    </tr>\n",
       "  </thead>\n",
       "  <tbody>\n",
       "    <tr>\n",
       "      <th>2014-07-16</th>\n",
       "      <td>25.544977</td>\n",
       "      <td>1.755377</td>\n",
       "      <td>10.753108</td>\n",
       "      <td>2.827206</td>\n",
       "      <td>11.440649</td>\n",
       "      <td>3.944114</td>\n",
       "    </tr>\n",
       "    <tr>\n",
       "      <th>2014-07-17</th>\n",
       "      <td>24.841986</td>\n",
       "      <td>1.737203</td>\n",
       "      <td>10.997333</td>\n",
       "      <td>3.197034</td>\n",
       "      <td>11.349466</td>\n",
       "      <td>4.574605</td>\n",
       "    </tr>\n",
       "    <tr>\n",
       "      <th>2014-07-18</th>\n",
       "      <td>24.178465</td>\n",
       "      <td>1.729232</td>\n",
       "      <td>11.259784</td>\n",
       "      <td>2.966631</td>\n",
       "      <td>13.104091</td>\n",
       "      <td>4.318020</td>\n",
       "    </tr>\n",
       "    <tr>\n",
       "      <th>2014-07-19</th>\n",
       "      <td>23.368456</td>\n",
       "      <td>1.659290</td>\n",
       "      <td>11.327420</td>\n",
       "      <td>2.991299</td>\n",
       "      <td>13.637604</td>\n",
       "      <td>4.531393</td>\n",
       "    </tr>\n",
       "    <tr>\n",
       "      <th>2014-07-20</th>\n",
       "      <td>23.102255</td>\n",
       "      <td>1.668402</td>\n",
       "      <td>11.234213</td>\n",
       "      <td>3.083831</td>\n",
       "      <td>12.586126</td>\n",
       "      <td>4.408607</td>\n",
       "    </tr>\n",
       "  </tbody>\n",
       "</table>\n",
       "</div>"
      ],
      "text/plain": [
       "            item_1_loc  item_1_scale  item_2_loc  item_2_scale  item_3_loc  \\\n",
       "2014-07-16   25.544977      1.755377   10.753108      2.827206   11.440649   \n",
       "2014-07-17   24.841986      1.737203   10.997333      3.197034   11.349466   \n",
       "2014-07-18   24.178465      1.729232   11.259784      2.966631   13.104091   \n",
       "2014-07-19   23.368456      1.659290   11.327420      2.991299   13.637604   \n",
       "2014-07-20   23.102255      1.668402   11.234213      3.083831   12.586126   \n",
       "\n",
       "            item_3_scale  \n",
       "2014-07-16      3.944114  \n",
       "2014-07-17      4.574605  \n",
       "2014-07-18      4.318020  \n",
       "2014-07-19      4.531393  \n",
       "2014-07-20      4.408607  "
      ]
     },
     "execution_count": 21,
     "metadata": {},
     "output_type": "execute_result"
    }
   ],
   "source": [
    "from scipy.stats import norm\n",
    "\n",
    "forecaster.predict_dist(5, norm)"
   ]
  },
  {
   "cell_type": "code",
   "execution_count": 5,
   "metadata": {},
   "outputs": [],
   "source": [
    "import re\n",
    "import pytest\n",
    "from pytest import approx\n",
    "import numpy as np\n",
    "import pandas as pd\n",
    "from skforecast.ForecasterAutoregMultiSeries import ForecasterAutoregMultiSeries\n",
    "from sklearn.linear_model import LinearRegression"
   ]
  },
  {
   "cell_type": "code",
   "execution_count": 6,
   "metadata": {},
   "outputs": [],
   "source": [
    "from skforecast.ForecasterAutoregMultiSeries.tests.fixtures_ForecasterAutoregMultiSeries import series\n",
    "from skforecast.ForecasterAutoregMultiSeries.tests.fixtures_ForecasterAutoregMultiSeries import exog\n",
    "from skforecast.ForecasterAutoregMultiSeries.tests.fixtures_ForecasterAutoregMultiSeries import exog_predict"
   ]
  },
  {
   "cell_type": "code",
   "execution_count": 8,
   "metadata": {},
   "outputs": [
    {
     "data": {
      "text/plain": [
       "{'1':     pred_boot_0  pred_boot_1  pred_boot_2  pred_boot_3\n",
       " 50     0.163866     0.563981     0.385762     0.377827\n",
       " 51     0.049066     0.450193     0.074789     0.222437,\n",
       " '2':     pred_boot_0  pred_boot_1  pred_boot_2  pred_boot_3\n",
       " 50     0.248987     0.698626     0.725728     0.456728\n",
       " 51     0.293742     0.407581     0.745779     0.118839}"
      ]
     },
     "execution_count": 8,
     "metadata": {},
     "output_type": "execute_result"
    }
   ],
   "source": [
    "forecaster = ForecasterAutoregMultiSeries(LinearRegression(), lags=3)\n",
    "forecaster.fit(series=series, exog=exog['col_1'])\n",
    "forecaster.predict_bootstrapping(steps=2, n_boot=4, exog=exog_predict['col_1'], in_sample_residuals=True)"
   ]
  },
  {
   "cell_type": "code",
   "execution_count": 9,
   "metadata": {},
   "outputs": [
    {
     "data": {
      "text/plain": [
       "array([[0.16386591, 0.56398143, 0.38576231, 0.37782729],\n",
       "       [0.04906615, 0.45019329, 0.07478854, 0.222437  ]])"
      ]
     },
     "execution_count": 9,
     "metadata": {},
     "output_type": "execute_result"
    }
   ],
   "source": [
    "forecaster.predict_bootstrapping(steps=2, n_boot=4, exog=exog_predict['col_1'], in_sample_residuals=True)['1'].values"
   ]
  },
  {
   "cell_type": "code",
   "execution_count": 12,
   "metadata": {},
   "outputs": [
    {
     "data": {
      "text/plain": [
       "{'1': array([ 2.13276058e-04,  1.52089501e-01, -9.28748014e-02,  5.44569957e-01,\n",
       "         1.66570448e-01,  2.19514368e-02, -1.03243821e-01, -1.82900891e-01,\n",
       "         1.97338821e-01, -1.59954375e-01, -3.96108237e-01, -9.91956356e-02,\n",
       "         2.33747356e-01, -3.64086156e-01, -3.17205195e-01, -3.81604445e-02,\n",
       "         8.29103220e-02,  1.72604733e-01,  2.76040501e-01,  1.53852848e-01,\n",
       "         1.00973677e-01,  3.06413806e-01, -9.53088001e-02, -1.74128951e-01,\n",
       "        -2.47938416e-01, -1.57283144e-01,  9.97415522e-02, -4.07251177e-01,\n",
       "        -1.29495190e-01, -5.21135618e-02,  2.40376352e-02, -5.83904802e-04,\n",
       "        -2.79342129e-01, -8.81454895e-02,  3.23252471e-01,  3.82259381e-01,\n",
       "        -3.24131838e-02,  6.83211256e-02, -4.10069097e-01, -8.79956701e-02,\n",
       "        -6.67645734e-02,  3.21582252e-01, -2.52445998e-01,  2.97602092e-02,\n",
       "         4.14381013e-01, -3.99750537e-03,  1.66394024e-01]),\n",
       " '2': array([-0.0617857 , -0.17420553, -0.15274751, -0.00867655,  0.17772629,\n",
       "         0.40933191, -0.04598917,  0.14541724,  0.06965673,  0.05411827,\n",
       "         0.2360631 ,  0.30241587, -0.42422519,  0.31628499, -0.25373061,\n",
       "        -0.41646812,  0.19590844, -0.36020734,  0.32935102,  0.05894615,\n",
       "         0.18683964, -0.39892602,  0.22301035,  0.01145807, -0.37320307,\n",
       "        -0.26491045,  0.19391737, -0.18465078,  0.11066856,  0.06788791,\n",
       "        -0.06308346,  0.5324301 ,  0.23203092, -0.18845134, -0.47363403,\n",
       "        -0.15618088, -0.10035465,  0.09401865,  0.42270673, -0.10749466,\n",
       "         0.2990786 ,  0.09761641,  0.21939015, -0.30133198, -0.1600496 ,\n",
       "        -0.20789567, -0.10807117])}"
      ]
     },
     "execution_count": 12,
     "metadata": {},
     "output_type": "execute_result"
    }
   ],
   "source": [
    "forecaster.in_sample_residuals"
   ]
  },
  {
   "cell_type": "code",
   "execution_count": 11,
   "metadata": {},
   "outputs": [
    {
     "data": {
      "text/plain": [
       "array([[0.24898667, 0.69862572, 0.72572763, 0.45672811],\n",
       "       [0.29374176, 0.40758093, 0.74577937, 0.11883889]])"
      ]
     },
     "execution_count": 11,
     "metadata": {},
     "output_type": "execute_result"
    }
   ],
   "source": [
    "forecaster.predict_bootstrapping(steps=2, n_boot=4, exog=exog_predict['col_1'], in_sample_residuals=True)['2'].values"
   ]
  },
  {
   "cell_type": "code",
   "execution_count": 27,
   "metadata": {},
   "outputs": [],
   "source": [
    "from scipy.stats import norm\n",
    "\n",
    "forecaster = ForecasterAutoregMultiSeries(\n",
    "                    regressor          = LinearRegression(),\n",
    "                    lags               = 3,\n",
    "                    transformer_series = StandardScaler(),\n",
    "                    transformer_exog   = transformer_exog,\n",
    "                )\n",
    "\n",
    "forecaster.fit(series=series, exog=exog)\n",
    "results = forecaster.predict_dist(\n",
    "                steps               = 2,\n",
    "                distribution        = norm,\n",
    "                levels              = ['1', '2'],\n",
    "                exog                = exog_predict,\n",
    "                n_boot              = 4,\n",
    "                in_sample_residuals = True\n",
    "            )"
   ]
  },
  {
   "cell_type": "code",
   "execution_count": 30,
   "metadata": {},
   "outputs": [
    {
     "data": {
      "text/html": [
       "<div>\n",
       "<style scoped>\n",
       "    .dataframe tbody tr th:only-of-type {\n",
       "        vertical-align: middle;\n",
       "    }\n",
       "\n",
       "    .dataframe tbody tr th {\n",
       "        vertical-align: top;\n",
       "    }\n",
       "\n",
       "    .dataframe thead th {\n",
       "        text-align: right;\n",
       "    }\n",
       "</style>\n",
       "<table border=\"1\" class=\"dataframe\">\n",
       "  <thead>\n",
       "    <tr style=\"text-align: right;\">\n",
       "      <th></th>\n",
       "      <th>1_loc</th>\n",
       "      <th>1_scale</th>\n",
       "      <th>2_loc</th>\n",
       "      <th>2_scale</th>\n",
       "    </tr>\n",
       "  </thead>\n",
       "  <tbody>\n",
       "    <tr>\n",
       "      <th>50</th>\n",
       "      <td>0.381727</td>\n",
       "      <td>0.139323</td>\n",
       "      <td>0.544044</td>\n",
       "      <td>0.208409</td>\n",
       "    </tr>\n",
       "    <tr>\n",
       "      <th>51</th>\n",
       "      <td>0.225549</td>\n",
       "      <td>0.168192</td>\n",
       "      <td>0.421332</td>\n",
       "      <td>0.215195</td>\n",
       "    </tr>\n",
       "  </tbody>\n",
       "</table>\n",
       "</div>"
      ],
      "text/plain": [
       "       1_loc   1_scale     2_loc   2_scale\n",
       "50  0.381727  0.139323  0.544044  0.208409\n",
       "51  0.225549  0.168192  0.421332  0.215195"
      ]
     },
     "execution_count": 30,
     "metadata": {},
     "output_type": "execute_result"
    }
   ],
   "source": [
    "results"
   ]
  },
  {
   "cell_type": "code",
   "execution_count": 20,
   "metadata": {},
   "outputs": [
    {
     "data": {
      "text/plain": [
       "array([[0.16958001, 0.55887507, 0.41716867, 0.38128471],\n",
       "       [0.08114962, 0.48871107, 0.07673561, 0.25559782]])"
      ]
     },
     "execution_count": 20,
     "metadata": {},
     "output_type": "execute_result"
    }
   ],
   "source": [
    "forecaster.predict_bootstrapping(steps=2, exog=exog_predict, n_boot=4, in_sample_residuals=True)['1'].values"
   ]
  },
  {
   "cell_type": "code",
   "execution_count": 33,
   "metadata": {},
   "outputs": [
    {
     "data": {
      "text/plain": [
       "{1: None, 2: None}"
      ]
     },
     "execution_count": 33,
     "metadata": {},
     "output_type": "execute_result"
    }
   ],
   "source": [
    "import re\n",
    "import pytest\n",
    "import numpy as np\n",
    "import pandas as pd\n",
    "from skforecast.ForecasterAutoregDirect import ForecasterAutoregDirect\n",
    "from sklearn.linear_model import LinearRegression\n",
    "from sklearn.preprocessing import StandardScaler\n",
    "\n",
    "\n",
    "\n",
    "\n",
    "forecaster = ForecasterAutoregDirect(LinearRegression(), lags=3, steps=2)\n",
    "forecaster.fit(y=pd.Series(np.arange(10)))\n",
    "\n",
    "forecaster.out_sample_residuals"
   ]
  },
  {
   "cell_type": "code",
   "execution_count": 35,
   "metadata": {},
   "outputs": [
    {
     "name": "stdout",
     "output_type": "stream",
     "text": [
      "1\n"
     ]
    }
   ],
   "source": [
    "if all(value is None for value in forecaster.out_sample_residuals.values()):\n",
    "    print(1)"
   ]
  },
  {
   "cell_type": "code",
   "execution_count": 36,
   "metadata": {},
   "outputs": [
    {
     "data": {
      "text/html": [
       "<div>\n",
       "<style scoped>\n",
       "    .dataframe tbody tr th:only-of-type {\n",
       "        vertical-align: middle;\n",
       "    }\n",
       "\n",
       "    .dataframe tbody tr th {\n",
       "        vertical-align: top;\n",
       "    }\n",
       "\n",
       "    .dataframe thead th {\n",
       "        text-align: right;\n",
       "    }\n",
       "</style>\n",
       "<table border=\"1\" class=\"dataframe\">\n",
       "  <thead>\n",
       "    <tr style=\"text-align: right;\">\n",
       "      <th></th>\n",
       "      <th>col1</th>\n",
       "      <th>col3</th>\n",
       "    </tr>\n",
       "  </thead>\n",
       "  <tbody>\n",
       "    <tr>\n",
       "      <th>2018-01-31</th>\n",
       "      <td>0</td>\n",
       "      <td>1</td>\n",
       "    </tr>\n",
       "    <tr>\n",
       "      <th>2018-02-28</th>\n",
       "      <td>2</td>\n",
       "      <td>3</td>\n",
       "    </tr>\n",
       "    <tr>\n",
       "      <th>2018-03-31</th>\n",
       "      <td>4</td>\n",
       "      <td>5</td>\n",
       "    </tr>\n",
       "    <tr>\n",
       "      <th>2018-04-30</th>\n",
       "      <td>6</td>\n",
       "      <td>7</td>\n",
       "    </tr>\n",
       "    <tr>\n",
       "      <th>2018-05-31</th>\n",
       "      <td>8</td>\n",
       "      <td>9</td>\n",
       "    </tr>\n",
       "  </tbody>\n",
       "</table>\n",
       "</div>"
      ],
      "text/plain": [
       "            col1  col3\n",
       "2018-01-31     0     1\n",
       "2018-02-28     2     3\n",
       "2018-03-31     4     5\n",
       "2018-04-30     6     7\n",
       "2018-05-31     8     9"
      ]
     },
     "execution_count": 36,
     "metadata": {},
     "output_type": "execute_result"
    }
   ],
   "source": [
    "exog = pd.DataFrame(np.arange(10).reshape(5, 2), columns=['col1', 'col3'])\n",
    "exog.index=pd.date_range(start='1/6/2018', periods=5, freq='M')\n",
    "exog"
   ]
  },
  {
   "cell_type": "code",
   "execution_count": 41,
   "metadata": {},
   "outputs": [
    {
     "data": {
      "text/plain": [
       "DatetimeIndex(['2018-06-30', '2018-07-31', '2018-08-31', '2018-09-30',\n",
       "               '2018-10-31'],\n",
       "              dtype='datetime64[ns]', freq='M')"
      ]
     },
     "execution_count": 41,
     "metadata": {},
     "output_type": "execute_result"
    }
   ],
   "source": [
    "pd.date_range(start='6/1/2018', periods=5, freq='M')\n"
   ]
  },
  {
   "cell_type": "code",
   "execution_count": null,
   "metadata": {},
   "outputs": [],
   "source": []
  }
 ],
 "metadata": {
  "kernelspec": {
   "display_name": "skforecast",
   "language": "python",
   "name": "python3"
  },
  "language_info": {
   "codemirror_mode": {
    "name": "ipython",
    "version": 3
   },
   "file_extension": ".py",
   "mimetype": "text/x-python",
   "name": "python",
   "nbconvert_exporter": "python",
   "pygments_lexer": "ipython3",
   "version": "3.9.13"
  },
  "orig_nbformat": 4
 },
 "nbformat": 4,
 "nbformat_minor": 2
}
