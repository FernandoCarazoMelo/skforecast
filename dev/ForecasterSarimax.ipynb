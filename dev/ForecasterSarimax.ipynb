{
 "cells": [
  {
   "cell_type": "code",
   "execution_count": 1,
   "metadata": {},
   "outputs": [
    {
     "data": {
      "text/plain": [
       "'c:\\\\Users\\\\jaesc2\\\\GitHub\\\\skforecast'"
      ]
     },
     "execution_count": 1,
     "metadata": {},
     "output_type": "execute_result"
    }
   ],
   "source": [
    "%load_ext autoreload\n",
    "%autoreload 2\n",
    "import sys\n",
    "from pathlib import Path\n",
    "sys.path.insert(1, str(Path.cwd().parent))\n",
    "str(Path.cwd().parent)"
   ]
  },
  {
   "cell_type": "code",
   "execution_count": 2,
   "metadata": {},
   "outputs": [],
   "source": [
    "################################################################################\n",
    "#                            ForecasterAutoreg                                 #\n",
    "#                                                                              #\n",
    "# This work by Joaquin Amat Rodrigo and Javier Escobar Ortiz is licensed       #\n",
    "# under a Creative Commons Attribution 4.0 International License.              #\n",
    "################################################################################\n",
    "# coding=utf-8\n",
    "\n",
    "from typing import Union, Dict, List, Tuple, Any, Optional\n",
    "import warnings\n",
    "import logging\n",
    "import sys\n",
    "import numpy as np\n",
    "import pandas as pd\n",
    "from sklearn.base import clone\n",
    "import pmdarima\n",
    "from pmdarima.arima import ARIMA\n",
    "\n",
    "import skforecast\n",
    "from skforecast.utils import initialize_lags\n",
    "from skforecast.utils import check_y\n",
    "from skforecast.utils import check_exog\n",
    "from skforecast.utils import preprocess_y\n",
    "from skforecast.utils import preprocess_last_window\n",
    "from skforecast.utils import preprocess_exog\n",
    "from skforecast.utils import expand_index\n",
    "from skforecast.utils import check_predict_input\n",
    "from skforecast.utils import transform_series\n",
    "from skforecast.utils import transform_dataframe\n",
    "\n",
    "logging.basicConfig(\n",
    "    format = '%(name)-10s %(levelname)-5s %(message)s', \n",
    "    level  = logging.INFO,\n",
    ")"
   ]
  },
  {
   "cell_type": "code",
   "execution_count": 11,
   "metadata": {},
   "outputs": [],
   "source": [
    "class ForecasterSarimax():\n",
    "    \"\"\"\n",
    "    This class turns ARIMA model from pmdarima library into a Forecaster compatible with \n",
    "    the skforecast API.\n",
    "    \n",
    "    Parameters\n",
    "    ----------\n",
    "    regressor : pmdarima.arima.ARIMA\n",
    "        An instance of an ARIMA from pmdarima library. This model internally wraps the\n",
    "        statsmodels SARIMAX class.\n",
    "\n",
    "    transformer_y : object transformer (preprocessor), default `None`\n",
    "        An instance of a transformer (preprocessor) compatible with the scikit-learn\n",
    "        preprocessing API with methods: fit, transform, fit_transform and inverse_transform.\n",
    "        ColumnTransformers are not allowed since they do not have inverse_transform method.\n",
    "        The transformation is applied to `y` before training the forecaster. \n",
    "        **New in version 0.5.0**\n",
    "\n",
    "    transformer_exog : object transformer (preprocessor), default `None`\n",
    "        An instance of a transformer (preprocessor) compatible with the scikit-learn\n",
    "        preprocessing API. The transformation is applied to `exog` before training the\n",
    "        forecaster. `inverse_transform` is not available when using ColumnTransformers.\n",
    "    \n",
    "    Attributes\n",
    "    ----------\n",
    "    regressor : pmdarima.arima.ARIMA\n",
    "        An instance of an ARIMA from pmdarima library. The model internally wraps the\n",
    "        statsmodels SARIMAX class\n",
    "\n",
    "    params: dict\n",
    "        Parameters of the sarimax model.\n",
    "        \n",
    "    transformer_y : object transformer (preprocessor), default `None`\n",
    "        An instance of a transformer (preprocessor) compatible with the scikit-learn\n",
    "        preprocessing API with methods: fit, transform, fit_transform and inverse_transform.\n",
    "        ColumnTransformers are not allowed since they do not have inverse_transform method.\n",
    "        The transformation is applied to `y` before training the forecaster.\n",
    "\n",
    "    transformer_exog : object transformer (preprocessor), default `None`\n",
    "        An instance of a transformer (preprocessor) compatible with the scikit-learn\n",
    "        preprocessing API. The transformation is applied to `exog` before training the\n",
    "        forecaster. `inverse_transform` is not available when using ColumnTransformers.\n",
    "   \n",
    "    window_size : int\n",
    "        Size of the window needed to create the predictors. It is equal to\n",
    "        max value of the parameters p,q,P,D of the ARIMA.\n",
    "\n",
    "    last_window : pandas Series\n",
    "        Last window the forecaster has seen during trained. It stores the\n",
    "        values needed to predict the next `step` right after the training data.\n",
    "        \n",
    "    fitted : Bool\n",
    "        Tag to identify if the regressor has been fitted (trained).\n",
    "        \n",
    "    index_type : type\n",
    "        Type of index of the input used in training.\n",
    "        \n",
    "    index_freq : str\n",
    "        Frequency of Index of the input used in training.\n",
    "        \n",
    "    training_range : pandas Index\n",
    "        First and last values of index of the data used during training.\n",
    "        \n",
    "    included_exog : bool\n",
    "        If the forecaster has been trained using exogenous variable/s.\n",
    "        \n",
    "    exog_type : type\n",
    "        Type of exogenous variable/s used in training.\n",
    "        \n",
    "    exog_col_names : list\n",
    "        Names of columns of `exog` if `exog` used in training was a pandas\n",
    "        DataFrame.\n",
    "\n",
    "    creation_date : str\n",
    "        Date of creation.\n",
    "\n",
    "    fit_date : str\n",
    "        Date of last fit.\n",
    "\n",
    "    skforcast_version : str\n",
    "        Version of skforecast library used to create the forecaster.\n",
    "\n",
    "    python_version : str\n",
    "        Version of python used to create the forecaster.\n",
    "        **New in version 0.5.0**\n",
    "     \n",
    "    \"\"\"\n",
    "    \n",
    "    def __init__(\n",
    "        self,\n",
    "        regressor: ARIMA,\n",
    "        transformer_y: Optional[object]=None,\n",
    "        transformer_exog: Optional[object]=None,\n",
    "    ) -> None:\n",
    "        \n",
    "        self.regressor               = regressor\n",
    "        self.transformer_y           = transformer_y\n",
    "        self.transformer_exog        = transformer_exog\n",
    "        self.index_freq              = None\n",
    "        self.training_range          = None\n",
    "        self.last_window             = None\n",
    "        self.included_exog           = False\n",
    "        self.exog_type               = None\n",
    "        self.exog_col_names          = None\n",
    "        self.fitted                  = False\n",
    "        self.creation_date           = pd.Timestamp.today().strftime('%Y-%m-%d %H:%M:%S')\n",
    "        self.fit_date                = None\n",
    "        self.skforcast_version       = skforecast.__version__\n",
    "        self.python_version          = sys.version.split(\" \")[0]\n",
    "        self.index_type              = None\n",
    "        \n",
    "        if not isinstance(self.regressor, pmdarima.arima.ARIMA):\n",
    "            raise ValueError(\n",
    "                f\"regressor must be an instance of type pmdarima.arima.ARIMA. \"\n",
    "                f\"Got {type(regressor)}.\"\n",
    "            )\n",
    "\n",
    "        self.params = self.regressor.get_params(deep=True)\n",
    "        self.window_size = max([\n",
    "                            self.params['order'][0], self.params['order'][2],\n",
    "                            self.params['seasonal_order'][0], self.params['seasonal_order'][2]\n",
    "                           ])\n",
    "\n",
    "\n",
    "    def __repr__(\n",
    "        self\n",
    "    ) -> str:\n",
    "        \"\"\"\n",
    "        Information displayed when a ForecasterSarimax object is printed.\n",
    "        \"\"\"\n",
    "\n",
    "        info = (\n",
    "            f\"{'=' * len(str(type(self)).split('.')[1])} \\n\"\n",
    "            f\"{str(type(self)).split('.')[1]} \\n\"\n",
    "            f\"{'=' * len(str(type(self)).split('.')[1])} \\n\"\n",
    "            f\"Regressor: {self.regressor} \\n\"\n",
    "            f\"Regressor parameters: {self.params} \\n\"\n",
    "            f\"Window size: {self.window_size} \\n\"\n",
    "            f\"Transformer for y: {self.transformer_y} \\n\"\n",
    "            f\"Transformer for exog: {self.transformer_exog} \\n\"\n",
    "            f\"Exogenous included: {self.included_exog} \\n\"\n",
    "            f\"Type of exogenous variable: {self.exog_type} \\n\"\n",
    "            f\"Exogenous variables names: {self.exog_col_names} \\n\"\n",
    "            f\"Training range: {self.training_range.to_list() if self.fitted else None} \\n\"\n",
    "            f\"Training index type: {str(self.index_type).split('.')[-1][:-2] if self.fitted else None} \\n\"\n",
    "            f\"Training index frequency: {self.index_freq if self.fitted else None} \\n\"\n",
    "            f\"Creation date: {self.creation_date} \\n\"\n",
    "            f\"Last fit date: {self.fit_date} \\n\"\n",
    "            f\"Skforecast version: {self.skforcast_version} \\n\"\n",
    "            f\"Python version: {self.python_version} \\n\"\n",
    "        )\n",
    "\n",
    "        return info\n",
    "\n",
    "        \n",
    "    def fit(\n",
    "        self,\n",
    "        y: pd.Series,\n",
    "        exog: Optional[Union[pd.Series, pd.DataFrame]]=None\n",
    "    ) -> None:\n",
    "        \"\"\"\n",
    "        Training Forecaster.\n",
    "        \n",
    "        Parameters\n",
    "        ----------        \n",
    "        y : pandas Series\n",
    "            Training time series.\n",
    "            \n",
    "        exog : pandas Series, pandas DataFrame, default `None`\n",
    "            Exogenous variable/s included as predictor/s. Must have the same\n",
    "            number of observations as `y` and their indexes must be aligned so\n",
    "            that y[i] is regressed on exog[i].\n",
    "\n",
    "        Returns \n",
    "        -------\n",
    "        None\n",
    "        \n",
    "        \"\"\"\n",
    "        \n",
    "        # Reset values in case the forecaster has already been fitted.\n",
    "        self.index_type           = None\n",
    "        self.index_freq           = None\n",
    "        self.last_window          = None\n",
    "        self.included_exog        = False\n",
    "        self.exog_type            = None\n",
    "        self.exog_col_names       = None\n",
    "        self.X_train_col_names    = None\n",
    "        self.in_sample_residuals  = None\n",
    "        self.fitted               = False\n",
    "        self.training_range       = None\n",
    "        \n",
    "        if exog is not None:\n",
    "            self.included_exog = True\n",
    "            self.exog_type = type(exog)\n",
    "            self.exog_col_names = \\\n",
    "                 exog.columns.to_list() if isinstance(exog, pd.DataFrame) else exog.name\n",
    "\n",
    "        y = transform_series(\n",
    "                series            = y,\n",
    "                transformer       = self.transformer_y,\n",
    "                fit               = True,\n",
    "                inverse_transform = False\n",
    "            )\n",
    "\n",
    "        if exog is not None:\n",
    "            if isinstance(exog, pd.Series):\n",
    "                exog = transform_series(\n",
    "                            series            = exog,\n",
    "                            transformer       = self.transformer_exog,\n",
    "                            fit               = True,\n",
    "                            inverse_transform = False\n",
    "                       )\n",
    "                # pmdarima.arima.ARIMA only accepts DataFrames or 2d-arrays as exog       \n",
    "                exog = exog.to_frame(name=exog.name)\n",
    "            else:\n",
    "                exog = transform_dataframe(\n",
    "                            df                = exog,\n",
    "                            transformer       = self.transformer_exog,\n",
    "                            fit               = True,\n",
    "                            inverse_transform = False\n",
    "                       )\n",
    "\n",
    "        self.regressor.fit(y=y, X=exog)\n",
    "        self.fitted = True\n",
    "        self.fit_date = pd.Timestamp.today().strftime('%Y-%m-%d %H:%M:%S')\n",
    "        self.training_range = y.index[[0, -1]]\n",
    "        self.index_type = type(y.index)\n",
    "        if isinstance(y.index, pd.DatetimeIndex):\n",
    "            self.index_freq = y.index.freqstr\n",
    "        else: \n",
    "            self.index_freq = y.index.step\n",
    "        self.last_window = y.iloc[-self.window_size:].copy()\n",
    "    \n",
    "          \n",
    "    def predict(\n",
    "        self,\n",
    "        steps: int,\n",
    "        last_window: Optional[pd.Series]=None,\n",
    "        last_window_exog: Optional[Union[pd.Series, pd.DataFrame]]=None,\n",
    "        exog: Optional[Union[pd.Series, pd.DataFrame]]=None\n",
    "    ) -> pd.Series:\n",
    "        \"\"\"\n",
    "        Predict n steps ahead. It is a recursive process in which, each prediction,\n",
    "        is used as a predictor for the next step.\n",
    "        \n",
    "        Parameters\n",
    "        ----------\n",
    "        steps : int\n",
    "            Number of future steps predicted.\n",
    "            \n",
    "        last_window : pandas Series, default `None`\n",
    "            Values of the series used to create the predictors needed in the \n",
    "            first iteration of prediction (t + 1). This is used when the predictions\n",
    "            do not follow directly from the end of the training data.\n",
    "\n",
    "        last_window_exog : pandas Series, pandas DataFrame, default `None`\n",
    "            Values of the exogenous variables aligned with `last_window`. Only\n",
    "            need when `last_window` is not None and the forecaster has been\n",
    "            trained including exogenous variables. This is used when the predictions\n",
    "            do not follow directly from the end of the training data.\n",
    "            \n",
    "        exog : pandas Series, pandas DataFrame, default `None`\n",
    "            Value of the exogenous variable/s for the next steps.\n",
    "\n",
    "        Returns \n",
    "        -------\n",
    "        predictions : pandas Series\n",
    "            Predicted values.\n",
    "            \n",
    "        \"\"\"\n",
    "\n",
    "        if exog is not None:\n",
    "            if isinstance(exog, pd.DataFrame):\n",
    "                exog = transform_dataframe(\n",
    "                           df                = exog,\n",
    "                           transformer       = self.transformer_exog,\n",
    "                           fit               = False,\n",
    "                           inverse_transform = False\n",
    "                       )\n",
    "            else:\n",
    "                exog = transform_series(\n",
    "                           series            = exog,\n",
    "                           transformer       = self.transformer_exog,\n",
    "                           fit               = False,\n",
    "                           inverse_transform = False\n",
    "                       )\n",
    "                # pmdarima.arima.ARIMA only accepts DataFrames or 2d-arrays as exog\n",
    "                exog = exog.to_frame(name=exog.name)\n",
    "            \n",
    "            exog_values = exog.iloc[:steps, ]\n",
    "        else:\n",
    "            exog_values = None\n",
    "\n",
    "\n",
    "        if last_window is None:\n",
    "        # Predictions follow directly from the end of the training data\n",
    "            predictions = self.regressor.predict(\n",
    "                          n_periods   = steps,\n",
    "                          X           = exog_values\n",
    "                      )\n",
    "        else:\n",
    "        # Predictions do not follow directly from the end of the training data. The\n",
    "        # internal statsmodels SARIMAX model need to be updated using the apply method.\n",
    "            last_window = transform_series(\n",
    "                            series            = last_window,\n",
    "                            transformer       = self.transformer_y,\n",
    "                            fit               = False,\n",
    "                            inverse_transform = False\n",
    "                        )\n",
    "\n",
    "            if last_window_exog is not None:\n",
    "                if isinstance(last_window_exog, pd.DataFrame):\n",
    "                    exog = transform_dataframe(\n",
    "                            df                = last_window_exog,\n",
    "                            transformer       = self.transformer_exog,\n",
    "                            fit               = False,\n",
    "                            inverse_transform = False\n",
    "                        )\n",
    "                else:\n",
    "                    exog = transform_series(\n",
    "                            series            = last_window_exog,\n",
    "                            transformer       = self.transformer_exog,\n",
    "                            fit               = False,\n",
    "                            inverse_transform = False\n",
    "                        )\n",
    "                    exog = exog.to_frame(name=exog.name)\n",
    "\n",
    "            if self.included_exog:\n",
    "                self.regressor.arima_res_ = self.regressor.arima_res_.apply(\n",
    "                                                endog = last_window,\n",
    "                                                exog  = last_window_exog,\n",
    "                                                refit  = False\n",
    "                                            )\n",
    "            else:\n",
    "                self.regressor.arima_res_ = self.regressor.arima_res_.apply(\n",
    "                                                endog = last_window,\n",
    "                                                refit  = False\n",
    "                                            )\n",
    "            \n",
    "            predictions = self.regressor.predict(\n",
    "                            n_periods   = steps,\n",
    "                            X           = exog_values\n",
    "                        )\n",
    "\n",
    "        # Reverse the transformation if needed\n",
    "        predictions = transform_series(\n",
    "                          series            = predictions,\n",
    "                          transformer       = self.transformer_y,\n",
    "                          fit               = False,\n",
    "                          inverse_transform = True\n",
    "                      )\n",
    "        predictions.name = 'pred'\n",
    "\n",
    "        return predictions\n",
    "    \n",
    "        \n",
    "    def predict_interval(\n",
    "        self,\n",
    "        steps: int,\n",
    "        last_window: Optional[pd.Series]=None,\n",
    "        last_window_exog: Optional[pd.Series]=None,\n",
    "        exog: Optional[Union[pd.Series, pd.DataFrame]]=None,\n",
    "        alpha: float=0.05,\n",
    "    ) -> pd.DataFrame:\n",
    "        \"\"\"\n",
    "        Iterative process in which, each prediction, is used as a predictor\n",
    "        for the next step. Both, predictions and intervals, are returned.\n",
    "        \n",
    "        Parameters\n",
    "        ---------- \n",
    "        steps : int\n",
    "            Number of future steps predicted.\n",
    "            \n",
    "        last_window : pandas Series, default `None`\n",
    "            Values of the series used to create the predictors needed in the \n",
    "            first iteration of prediction (t + 1).\n",
    "\n",
    "        last_window_exog : pandas Series, pandas DataFrame, default `None`\n",
    "            Values of the exogenous variables aligned with `last_window`. Only\n",
    "            need when `last_window` is not None and the forecaster has been\n",
    "            trained including exogenous variables.\n",
    "            \n",
    "        exog : pandas Series, pandas DataFrame, default `None`\n",
    "            Exogenous variable/s included as predictor/s.\n",
    "            \n",
    "        alpha : float, default=0.05\n",
    "            The confidence intervals for the forecasts are (1 - alpha) %\n",
    "\n",
    "        Returns \n",
    "        -------\n",
    "        predictions : pandas DataFrame\n",
    "            Values predicted by the forecaster and their estimated interval:\n",
    "\n",
    "            - pred: predictions.\n",
    "            - lower_bound: lower bound of the interval.\n",
    "            - upper_bound: upper bound interval of the interval.\n",
    "\n",
    "        \"\"\"\n",
    "        \n",
    "        if exog is not None:\n",
    "            if isinstance(exog, pd.DataFrame):\n",
    "                exog = transform_dataframe(\n",
    "                           df                = exog,\n",
    "                           transformer       = self.transformer_exog,\n",
    "                           fit               = False,\n",
    "                           inverse_transform = False\n",
    "                       )\n",
    "            else:\n",
    "                exog = transform_series(\n",
    "                           series            = exog,\n",
    "                           transformer       = self.transformer_exog,\n",
    "                           fit               = False,\n",
    "                           inverse_transform = False\n",
    "                       )\n",
    "                # pmdarima.arima.ARIMA only accepts DataFrames or 2d-arrays as exog\n",
    "                exog = exog.to_frame(name=exog.name)\n",
    "            \n",
    "            exog_values = exog.iloc[:steps, ]\n",
    "        else:\n",
    "            exog_values = None\n",
    "\n",
    "\n",
    "        if last_window is None:\n",
    "            # Predictions follow directly from the end of the training data\n",
    "            predicted_mean, conf_int = self.regressor.predict(\n",
    "                                        n_periods       = steps,\n",
    "                                        X               = exog_values,\n",
    "                                        alpha           = alpha,\n",
    "                                        return_conf_int = True\n",
    "                                      )\n",
    "        else:\n",
    "            # Predictions do not follow directly from the end of the training data. The\n",
    "            # internal statsmodels SARIMAX model need to be updated using the apply method.\n",
    "            last_window = transform_series(\n",
    "                            series            = last_window,\n",
    "                            transformer       = self.transformer_y,\n",
    "                            fit               = False,\n",
    "                            inverse_transform = False\n",
    "                        )\n",
    "\n",
    "            if last_window_exog is not None:\n",
    "                if isinstance(last_window_exog, pd.DataFrame):\n",
    "                    exog = transform_dataframe(\n",
    "                            df                = last_window_exog,\n",
    "                            transformer       = self.transformer_exog,\n",
    "                            fit               = False,\n",
    "                            inverse_transform = False\n",
    "                        )\n",
    "                else:\n",
    "                    exog = transform_series(\n",
    "                            series            = last_window_exog,\n",
    "                            transformer       = self.transformer_exog,\n",
    "                            fit               = False,\n",
    "                            inverse_transform = False\n",
    "                        )\n",
    "                    exog = exog.to_frame(name=exog.name)\n",
    "\n",
    "            if self.included_exog:\n",
    "                self.regressor.arima_res_ = self.regressor.arima_res_.apply(\n",
    "                                                endog = last_window,\n",
    "                                                exog  = last_window_exog,\n",
    "                                                refit  = False\n",
    "                                            )\n",
    "            else:\n",
    "                self.regressor.arima_res_ = self.regressor.arima_res_.apply(\n",
    "                                                endog = last_window,\n",
    "                                                refit  = False\n",
    "                                            )\n",
    "\n",
    "            predicted_mean, conf_int = self.regressor.predict(\n",
    "                                            n_periods       = steps,\n",
    "                                            X               = exog_values,\n",
    "                                            alpha           = alpha,\n",
    "                                            return_conf_int = True\n",
    "                                    )\n",
    "\n",
    "                                    \n",
    "        predictions = predicted_mean.to_frame(name=\"pred\")\n",
    "        predictions['lower_bound'] = conf_int[:, 0]\n",
    "        predictions['upper_bound'] = conf_int[:, 1]\n",
    "\n",
    "        for col in predictions.columns:\n",
    "            predictions[col] = transform_series(\n",
    "                                    series            = predictions[col],\n",
    "                                    transformer       = self.transformer_y,\n",
    "                                    fit               = False,\n",
    "                                    inverse_transform = True\n",
    "                                )\n",
    "\n",
    "        return predictions\n",
    "\n",
    "    \n",
    "    def set_params(\n",
    "        self, \n",
    "        **params: dict\n",
    "    ) -> None:\n",
    "        \"\"\"\n",
    "        Set new values to the parameters of the model stored in the forecaster.\n",
    "        \n",
    "        Parameters\n",
    "        ----------\n",
    "        params : dict\n",
    "            Parameters values.\n",
    "\n",
    "        Returns \n",
    "        -------\n",
    "        self\n",
    "        \n",
    "        \"\"\"\n",
    "\n",
    "        self.regressor = clone(self.regressor)\n",
    "        self.regressor.set_params(**params)\n",
    "        \n",
    "    \n",
    "    def get_feature_importance(\n",
    "        self\n",
    "    ) -> pd.DataFrame:\n",
    "        \"\"\"      \n",
    "        Return feature importance of the regressor stored in the\n",
    "        forecaster.\n",
    "\n",
    "        Parameters\n",
    "        ----------\n",
    "        self\n",
    "\n",
    "        Returns\n",
    "        -------\n",
    "        feature_importance : pandas DataFrame\n",
    "            Feature importance associated with each predictor.\n",
    "\n",
    "        \"\"\"\n",
    "\n",
    "        try:\n",
    "            feature_importance = self.regressor.params().to_frame().reset_index()\n",
    "            feature_importance.columns = ['feature', 'importance']\n",
    "        except:   \n",
    "            warnings.warn(\n",
    "                f\"Impossible to access feature importance for regressor of type {type(self.regressor)}.\"\n",
    "            )\n",
    "            feature_importance = None\n",
    "\n",
    "        return feature_importance"
   ]
  },
  {
   "cell_type": "code",
   "execution_count": 3,
   "metadata": {},
   "outputs": [],
   "source": [
    "from skforecast.ForecasterSarimax import ForecasterSarimax"
   ]
  },
  {
   "cell_type": "code",
   "execution_count": 27,
   "metadata": {},
   "outputs": [
    {
     "data": {
      "text/html": [
       "<div>\n",
       "<style scoped>\n",
       "    .dataframe tbody tr th:only-of-type {\n",
       "        vertical-align: middle;\n",
       "    }\n",
       "\n",
       "    .dataframe tbody tr th {\n",
       "        vertical-align: top;\n",
       "    }\n",
       "\n",
       "    .dataframe thead th {\n",
       "        text-align: right;\n",
       "    }\n",
       "</style>\n",
       "<table border=\"1\" class=\"dataframe\">\n",
       "  <thead>\n",
       "    <tr style=\"text-align: right;\">\n",
       "      <th></th>\n",
       "      <th>y</th>\n",
       "      <th>exog_1</th>\n",
       "      <th>exog_2</th>\n",
       "    </tr>\n",
       "    <tr>\n",
       "      <th>date</th>\n",
       "      <th></th>\n",
       "      <th></th>\n",
       "      <th></th>\n",
       "    </tr>\n",
       "  </thead>\n",
       "  <tbody>\n",
       "    <tr>\n",
       "      <th>1992-04-01</th>\n",
       "      <td>0.379808</td>\n",
       "      <td>0.958792</td>\n",
       "      <td>1.166029</td>\n",
       "    </tr>\n",
       "    <tr>\n",
       "      <th>1992-05-01</th>\n",
       "      <td>0.361801</td>\n",
       "      <td>0.951993</td>\n",
       "      <td>1.117859</td>\n",
       "    </tr>\n",
       "    <tr>\n",
       "      <th>1992-06-01</th>\n",
       "      <td>0.410534</td>\n",
       "      <td>0.952955</td>\n",
       "      <td>1.067942</td>\n",
       "    </tr>\n",
       "    <tr>\n",
       "      <th>1992-07-01</th>\n",
       "      <td>0.483389</td>\n",
       "      <td>0.958078</td>\n",
       "      <td>1.097376</td>\n",
       "    </tr>\n",
       "    <tr>\n",
       "      <th>1992-08-01</th>\n",
       "      <td>0.475463</td>\n",
       "      <td>0.956370</td>\n",
       "      <td>1.122199</td>\n",
       "    </tr>\n",
       "  </tbody>\n",
       "</table>\n",
       "</div>"
      ],
      "text/plain": [
       "                   y    exog_1    exog_2\n",
       "date                                    \n",
       "1992-04-01  0.379808  0.958792  1.166029\n",
       "1992-05-01  0.361801  0.951993  1.117859\n",
       "1992-06-01  0.410534  0.952955  1.067942\n",
       "1992-07-01  0.483389  0.958078  1.097376\n",
       "1992-08-01  0.475463  0.956370  1.122199"
      ]
     },
     "metadata": {},
     "output_type": "display_data"
    },
    {
     "name": "stdout",
     "output_type": "stream",
     "text": [
      "Train dates : 1992-04-01 00:00:00 --- 2005-06-01 00:00:00  (n=159)\n",
      "Test dates  : 2005-07-01 00:00:00 --- 2008-06-01 00:00:00  (n=36)\n"
     ]
    }
   ],
   "source": [
    "# Data download\n",
    "# ==============================================================================\n",
    "url = 'https://raw.githubusercontent.com/JoaquinAmatRodrigo/skforecast/master/data/h2o_exog.csv'\n",
    "data = pd.read_csv(url, sep=',')\n",
    "\n",
    "# Data preparation\n",
    "# ==============================================================================\n",
    "data = data.rename(columns={'fecha': 'date'})\n",
    "data['date'] = pd.to_datetime(data['date'], format='%Y/%m/%d')\n",
    "data = data.set_index('date')\n",
    "data = data.rename(columns={'x': 'y'})\n",
    "data = data.asfreq('MS')\n",
    "data = data.sort_index()\n",
    "display(data.head())\n",
    "\n",
    "# Split data into train-test\n",
    "# ==============================================================================\n",
    "steps = 36\n",
    "data_train = data[:-steps]\n",
    "data_test  = data[-steps:]\n",
    "\n",
    "print(f\"Train dates : {data_train.index.min()} --- {data_train.index.max()}  (n={len(data_train)})\")\n",
    "print(f\"Test dates  : {data_test.index.min()} --- {data_test.index.max()}  (n={len(data_test)})\")"
   ]
  },
  {
   "cell_type": "code",
   "execution_count": 7,
   "metadata": {},
   "outputs": [
    {
     "data": {
      "text/plain": [
       "================= \n",
       "ForecasterSarimax \n",
       "================= \n",
       "Regressor:  ARIMA(1,1,5)(0,0,0)[0]           \n",
       "Regressor parameters: {'maxiter': 1000, 'method': 'lbfgs', 'order': (1, 1, 5), 'out_of_sample_size': 0, 'scoring': 'mse', 'scoring_args': None, 'seasonal_order': (0, 0, 0, 0), 'start_params': None, 'suppress_warnings': False, 'trend': None, 'with_intercept': False} \n",
       "Window size: 5 \n",
       "Transformer for y: None \n",
       "Transformer for exog: None \n",
       "Exogenous included: False \n",
       "Type of exogenous variable: None \n",
       "Exogenous variables names: None \n",
       "Training range: None \n",
       "Training index type: None \n",
       "Training index frequency: None \n",
       "Creation date: 2022-12-27 17:13:35 \n",
       "Last fit date: None \n",
       "Skforecast version: 0.7.dev \n",
       "Python version: 3.9.13 "
      ]
     },
     "execution_count": 7,
     "metadata": {},
     "output_type": "execute_result"
    }
   ],
   "source": [
    "# pmdarima SARIMAX\n",
    "# =====================================================================================\n",
    "forecaster = ForecasterSarimax(\n",
    "                regressor = ARIMA(order=(1,1,5), seasonal_order=(0, 0, 0, 0), trend=None, with_intercept=False, maxiter=1000)\n",
    "            )\n",
    "forecaster\n"
   ]
  },
  {
   "cell_type": "code",
   "execution_count": 28,
   "metadata": {},
   "outputs": [
    {
     "data": {
      "text/plain": [
       "date\n",
       "2005-02-01    0.597639\n",
       "2005-03-01    0.652590\n",
       "2005-04-01    0.670505\n",
       "2005-05-01    0.695248\n",
       "2005-06-01    0.842263\n",
       "Freq: MS, Name: y, dtype: float64"
      ]
     },
     "execution_count": 28,
     "metadata": {},
     "output_type": "execute_result"
    }
   ],
   "source": [
    "data_train['y'].tail()"
   ]
  },
  {
   "cell_type": "code",
   "execution_count": 150,
   "metadata": {},
   "outputs": [
    {
     "name": "stdout",
     "output_type": "stream",
     "text": [
      "2003    0.398534\n",
      "Freq: A-DEC, dtype: float64\n"
     ]
    },
    {
     "name": "stderr",
     "output_type": "stream",
     "text": [
      "c:\\Users\\jaesc2\\Miniconda3\\envs\\skforecast\\lib\\site-packages\\statsmodels\\tsa\\statespace\\sarimax.py:966: UserWarning: Non-stationary starting autoregressive parameters found. Using zeros as starting parameters.\n",
      "  warn('Non-stationary starting autoregressive parameters'\n"
     ]
    }
   ],
   "source": [
    "from statsmodels.tsa.statespace.sarimax import SARIMAX\n",
    "\n",
    "index = pd.period_range(start='2000', periods=3, freq='A')\n",
    "original_observations = pd.Series([1.2, 1.5, 1.8], index=index)\n",
    "original_exog = pd.Series([2, 2.7, 1.3], index=index)\n",
    "mod = SARIMAX(endog=original_observations, exog=original_exog)\n",
    "res = mod.fit()\n",
    "# print(res.params)\n",
    "# print(res.fittedvalues)\n",
    "# print(res.predict(1))\n",
    "print(res.forecast(1, exog=original_exog.iloc[-1,]))"
   ]
  },
  {
   "cell_type": "code",
   "execution_count": 151,
   "metadata": {},
   "outputs": [
    {
     "name": "stdout",
     "output_type": "stream",
     "text": [
      "1983    1.405683\n",
      "Freq: A-DEC, dtype: float64\n",
      "1983   -0.379792\n",
      "Freq: A-DEC, dtype: float64\n"
     ]
    },
    {
     "name": "stderr",
     "output_type": "stream",
     "text": [
      "c:\\Users\\jaesc2\\Miniconda3\\envs\\skforecast\\lib\\site-packages\\statsmodels\\base\\model.py:604: ConvergenceWarning: Maximum Likelihood optimization failed to converge. Check mle_retvals\n",
      "  warnings.warn(\"Maximum Likelihood optimization failed to \"\n"
     ]
    }
   ],
   "source": [
    "new_index = pd.period_range(start='1980', periods=3, freq='A')\n",
    "new_observations = pd.Series([1.4, 0.3, 1.2], index=new_index)\n",
    "new_exog = pd.Series([6, 4.3, 3.1], index=new_index)\n",
    "new_res = res.apply(new_observations, exog=new_exog, refit=False)\n",
    "# print(new_res.params)\n",
    "# print(new_res.fittedvalues)\n",
    "# print(new_res.predict(1))\n",
    "print(new_res.forecast(1, exog=original_exog.iloc[-1,]))\n",
    "\n",
    "new_index = pd.period_range(start='1980', periods=3, freq='A')\n",
    "new_observations = pd.Series([1.4, 0.3, 1.2], index=new_index)\n",
    "new_exog = pd.Series([6, 4.3, 3.1], index=new_index)\n",
    "new_res = res.apply(new_observations, exog=new_exog, refit=True)\n",
    "# print(new_res.params)\n",
    "# print(new_res.fittedvalues)\n",
    "# print(new_res.predict(1))\n",
    "print(new_res.forecast(1, exog=original_exog.iloc[-1,]))"
   ]
  },
  {
   "cell_type": "code",
   "execution_count": 156,
   "metadata": {},
   "outputs": [
    {
     "name": "stdout",
     "output_type": "stream",
     "text": [
      "2003    0.398534\n",
      "Freq: A-DEC, dtype: float64\n",
      "2006    1.405683\n",
      "Freq: A-DEC, dtype: float64\n",
      "2006    1.008943\n",
      "Freq: A-DEC, dtype: float64\n"
     ]
    },
    {
     "name": "stderr",
     "output_type": "stream",
     "text": [
      "c:\\Users\\jaesc2\\Miniconda3\\envs\\skforecast\\lib\\site-packages\\statsmodels\\tsa\\statespace\\sarimax.py:966: UserWarning: Non-stationary starting autoregressive parameters found. Using zeros as starting parameters.\n",
      "  warn('Non-stationary starting autoregressive parameters'\n"
     ]
    }
   ],
   "source": [
    "# Try append\n",
    "index = pd.period_range(start='2000', periods=3, freq='A')\n",
    "original_observations = pd.Series([1.2, 1.5, 1.8], index=index)\n",
    "original_exog = pd.Series([2, 2.7, 1.3], index=index)\n",
    "mod = SARIMAX(endog=original_observations, exog=original_exog)\n",
    "res = mod.fit()\n",
    "print(res.forecast(1, exog=original_exog.iloc[-1,]))\n",
    "\n",
    "new_index = pd.period_range(start='2003', periods=3, freq='A')\n",
    "new_observations = pd.Series([1.4, 0.3, 1.2], index=new_index)\n",
    "new_exog = pd.Series([6, 4.3, 3.1], index=new_index)\n",
    "new_res = res.append(new_observations, exog=new_exog, refit=False)\n",
    "print(new_res.forecast(1, exog=original_exog.iloc[-1,]))\n",
    "\n",
    "new_index = pd.period_range(start='2003', periods=3, freq='A')\n",
    "new_observations = pd.Series([1.4, 0.3, 1.2], index=new_index)\n",
    "new_exog = pd.Series([6, 4.3, 3.1], index=new_index)\n",
    "new_res = res.append(new_observations, exog=new_exog, refit=True)\n",
    "print(new_res.forecast(1, exog=original_exog.iloc[-1,]))"
   ]
  },
  {
   "cell_type": "code",
   "execution_count": 119,
   "metadata": {},
   "outputs": [
    {
     "name": "stdout",
     "output_type": "stream",
     "text": [
      "ar.L1     0.975611\n",
      "sigma2    0.088896\n",
      "dtype: float64\n",
      "2000    0.000000\n",
      "2001    1.170734\n",
      "Freq: A-DEC, dtype: float64\n",
      "2001    1.170734\n",
      "Freq: A-DEC, dtype: float64\n",
      "2002    1.463417\n",
      "Freq: A-DEC, dtype: float64\n"
     ]
    }
   ],
   "source": [
    "new_index = pd.period_range(start='1980', periods=3, freq='A')\n",
    "new_observations = pd.Series([1.4, 0.3, 1.2], index=new_index)\n",
    "new_res = res.apply(new_observations, refit=True)\n",
    "print(res.params)\n",
    "print(res.fittedvalues)\n",
    "print(res.predict(1))\n",
    "print(res.forecast(1))"
   ]
  },
  {
   "cell_type": "code",
   "execution_count": 112,
   "metadata": {},
   "outputs": [
    {
     "name": "stdout",
     "output_type": "stream",
     "text": [
      "ar.L1     0.975611\n",
      "sigma2    0.088896\n",
      "dtype: float64\n",
      "2000    0.000000\n",
      "2001    1.170734\n",
      "Freq: A-DEC, dtype: float64\n",
      "2001    1.170734\n",
      "Freq: A-DEC, dtype: float64\n",
      "2002    1.463417\n",
      "Freq: A-DEC, dtype: float64\n"
     ]
    }
   ],
   "source": [
    "new_index = pd.period_range(start='2000', periods=2, freq='A')\n",
    "new_observations = pd.Series([1.2, 1.5], index=new_index)\n",
    "new_res = res.apply(original_observations, refit=False)\n",
    "print(new_res.params)\n",
    "print(new_res.fittedvalues)\n",
    "print(new_res.predict(1))\n",
    "print(new_res.forecast(1))"
   ]
  },
  {
   "cell_type": "code",
   "execution_count": 103,
   "metadata": {},
   "outputs": [
    {
     "data": {
      "text/plain": [
       "date\n",
       "2005-02-01    0.597639\n",
       "2005-03-01    0.652590\n",
       "2005-04-01    0.670505\n",
       "2005-05-01    0.695248\n",
       "2005-06-01    0.842263\n",
       "Freq: MS, Name: y, dtype: float64"
      ]
     },
     "execution_count": 103,
     "metadata": {},
     "output_type": "execute_result"
    }
   ],
   "source": [
    "data_train['y'].tail()"
   ]
  },
  {
   "cell_type": "code",
   "execution_count": 173,
   "metadata": {},
   "outputs": [
    {
     "data": {
      "text/html": [
       "<div>\n",
       "<style scoped>\n",
       "    .dataframe tbody tr th:only-of-type {\n",
       "        vertical-align: middle;\n",
       "    }\n",
       "\n",
       "    .dataframe tbody tr th {\n",
       "        vertical-align: top;\n",
       "    }\n",
       "\n",
       "    .dataframe thead th {\n",
       "        text-align: right;\n",
       "    }\n",
       "</style>\n",
       "<table border=\"1\" class=\"dataframe\">\n",
       "  <thead>\n",
       "    <tr style=\"text-align: right;\">\n",
       "      <th></th>\n",
       "      <th>pred</th>\n",
       "      <th>0</th>\n",
       "      <th>1</th>\n",
       "      <th>2</th>\n",
       "      <th>3</th>\n",
       "      <th>4</th>\n",
       "      <th>5</th>\n",
       "      <th>6</th>\n",
       "      <th>7</th>\n",
       "      <th>8</th>\n",
       "      <th>9</th>\n",
       "      <th>10</th>\n",
       "    </tr>\n",
       "  </thead>\n",
       "  <tbody>\n",
       "    <tr>\n",
       "      <th>2005-07-01</th>\n",
       "      <td>0.902099</td>\n",
       "      <td>0.902099</td>\n",
       "      <td>1.263395</td>\n",
       "      <td>0.989278</td>\n",
       "      <td>0.930796</td>\n",
       "      <td>0.904541</td>\n",
       "      <td>0.899217</td>\n",
       "      <td>0.777660</td>\n",
       "      <td>0.769616</td>\n",
       "      <td>0.780467</td>\n",
       "      <td>0.786612</td>\n",
       "      <td>0.809672</td>\n",
       "    </tr>\n",
       "    <tr>\n",
       "      <th>2005-08-01</th>\n",
       "      <td>0.859980</td>\n",
       "      <td>0.859980</td>\n",
       "      <td>1.684526</td>\n",
       "      <td>1.136293</td>\n",
       "      <td>1.009392</td>\n",
       "      <td>0.957028</td>\n",
       "      <td>0.947791</td>\n",
       "      <td>0.713999</td>\n",
       "      <td>0.694996</td>\n",
       "      <td>0.710476</td>\n",
       "      <td>0.730579</td>\n",
       "      <td>0.767940</td>\n",
       "    </tr>\n",
       "    <tr>\n",
       "      <th>2005-09-01</th>\n",
       "      <td>0.840585</td>\n",
       "      <td>0.840585</td>\n",
       "      <td>2.105657</td>\n",
       "      <td>1.283308</td>\n",
       "      <td>1.092949</td>\n",
       "      <td>1.021208</td>\n",
       "      <td>1.008523</td>\n",
       "      <td>0.633072</td>\n",
       "      <td>0.609298</td>\n",
       "      <td>0.633794</td>\n",
       "      <td>0.662388</td>\n",
       "      <td>0.710521</td>\n",
       "    </tr>\n",
       "    <tr>\n",
       "      <th>2005-10-01</th>\n",
       "      <td>0.915556</td>\n",
       "      <td>0.915556</td>\n",
       "      <td>2.526789</td>\n",
       "      <td>1.430323</td>\n",
       "      <td>1.183857</td>\n",
       "      <td>1.091902</td>\n",
       "      <td>1.074543</td>\n",
       "      <td>0.620101</td>\n",
       "      <td>0.586613</td>\n",
       "      <td>0.617839</td>\n",
       "      <td>0.653522</td>\n",
       "      <td>0.723204</td>\n",
       "    </tr>\n",
       "    <tr>\n",
       "      <th>2005-11-01</th>\n",
       "      <td>0.845797</td>\n",
       "      <td>0.845797</td>\n",
       "      <td>2.947920</td>\n",
       "      <td>1.577338</td>\n",
       "      <td>1.270039</td>\n",
       "      <td>1.152433</td>\n",
       "      <td>1.131733</td>\n",
       "      <td>0.533093</td>\n",
       "      <td>0.491707</td>\n",
       "      <td>0.529287</td>\n",
       "      <td>0.578678</td>\n",
       "      <td>0.657608</td>\n",
       "    </tr>\n",
       "  </tbody>\n",
       "</table>\n",
       "</div>"
      ],
      "text/plain": [
       "                pred         0         1         2         3         4  \\\n",
       "2005-07-01  0.902099  0.902099  1.263395  0.989278  0.930796  0.904541   \n",
       "2005-08-01  0.859980  0.859980  1.684526  1.136293  1.009392  0.957028   \n",
       "2005-09-01  0.840585  0.840585  2.105657  1.283308  1.092949  1.021208   \n",
       "2005-10-01  0.915556  0.915556  2.526789  1.430323  1.183857  1.091902   \n",
       "2005-11-01  0.845797  0.845797  2.947920  1.577338  1.270039  1.152433   \n",
       "\n",
       "                   5         6         7         8         9        10  \n",
       "2005-07-01  0.899217  0.777660  0.769616  0.780467  0.786612  0.809672  \n",
       "2005-08-01  0.947791  0.713999  0.694996  0.710476  0.730579  0.767940  \n",
       "2005-09-01  1.008523  0.633072  0.609298  0.633794  0.662388  0.710521  \n",
       "2005-10-01  1.074543  0.620101  0.586613  0.617839  0.653522  0.723204  \n",
       "2005-11-01  1.131733  0.533093  0.491707  0.529287  0.578678  0.657608  "
      ]
     },
     "execution_count": 173,
     "metadata": {},
     "output_type": "execute_result"
    }
   ],
   "source": [
    "forecaster_1 = ForecasterSarimax(\n",
    "                regressor = ARIMA(order=(5,2,3), seasonal_order=(0, 0, 0, 0), trend=None, with_intercept=False, maxiter=1000, suppress_warnings=True)\n",
    "            )\n",
    "forecaster_1.fit(y=data_train['y'])\n",
    "pred_1 = forecaster_1.predict(steps=5)\n",
    "\n",
    "lengths = list(range(11))\n",
    "# lengths = list(range(25, 30))\n",
    "preds_2 = [pred_1]\n",
    "\n",
    "for n in lengths:\n",
    "    forecaster_2 = ForecasterSarimax(\n",
    "                    regressor = ARIMA(order=(5,2,3), seasonal_order=(0, 0, 0, 0), trend=None, with_intercept=False, maxiter=1000, suppress_warnings=True)\n",
    "                )\n",
    "    forecaster_2.fit(y=data_train['y'])\n",
    "    pred_2 = forecaster_2.predict(steps=5, last_window=data_train['y'].iloc[-n:])\n",
    "    # pred_2 = forecaster_2.predict(steps=5)\n",
    "    pred_2.name = f'{n}'\n",
    "    preds_2.append(pred_2)\n",
    "\n",
    "pd.concat(preds_2, axis=1)"
   ]
  },
  {
   "cell_type": "code",
   "execution_count": 161,
   "metadata": {},
   "outputs": [
    {
     "data": {
      "text/html": [
       "<div>\n",
       "<style scoped>\n",
       "    .dataframe tbody tr th:only-of-type {\n",
       "        vertical-align: middle;\n",
       "    }\n",
       "\n",
       "    .dataframe tbody tr th {\n",
       "        vertical-align: top;\n",
       "    }\n",
       "\n",
       "    .dataframe thead th {\n",
       "        text-align: right;\n",
       "    }\n",
       "</style>\n",
       "<table border=\"1\" class=\"dataframe\">\n",
       "  <thead>\n",
       "    <tr style=\"text-align: right;\">\n",
       "      <th></th>\n",
       "      <th>pred</th>\n",
       "      <th>0</th>\n",
       "      <th>1</th>\n",
       "    </tr>\n",
       "  </thead>\n",
       "  <tbody>\n",
       "    <tr>\n",
       "      <th>2005-07-01</th>\n",
       "      <td>0.834083</td>\n",
       "      <td>1.583247</td>\n",
       "      <td>0.834083</td>\n",
       "    </tr>\n",
       "    <tr>\n",
       "      <th>2005-08-01</th>\n",
       "      <td>0.775471</td>\n",
       "      <td>1.570892</td>\n",
       "      <td>0.775471</td>\n",
       "    </tr>\n",
       "    <tr>\n",
       "      <th>2005-09-01</th>\n",
       "      <td>0.763014</td>\n",
       "      <td>1.549400</td>\n",
       "      <td>0.763014</td>\n",
       "    </tr>\n",
       "    <tr>\n",
       "      <th>2005-10-01</th>\n",
       "      <td>0.738576</td>\n",
       "      <td>1.517228</td>\n",
       "      <td>0.738576</td>\n",
       "    </tr>\n",
       "    <tr>\n",
       "      <th>2005-11-01</th>\n",
       "      <td>0.700156</td>\n",
       "      <td>1.524830</td>\n",
       "      <td>0.700156</td>\n",
       "    </tr>\n",
       "  </tbody>\n",
       "</table>\n",
       "</div>"
      ],
      "text/plain": [
       "                pred         0         1\n",
       "2005-07-01  0.834083  1.583247  0.834083\n",
       "2005-08-01  0.775471  1.570892  0.775471\n",
       "2005-09-01  0.763014  1.549400  0.763014\n",
       "2005-10-01  0.738576  1.517228  0.738576\n",
       "2005-11-01  0.700156  1.524830  0.700156"
      ]
     },
     "execution_count": 161,
     "metadata": {},
     "output_type": "execute_result"
    }
   ],
   "source": [
    "# Try changing exog and with all series as last window\n",
    "forecaster_1 = ForecasterSarimax(\n",
    "                regressor = ARIMA(order=(5,2,3), seasonal_order=(0, 0, 0, 0), trend=None, with_intercept=False, maxiter=1000, suppress_warnings=True)\n",
    "            )\n",
    "forecaster_1.fit(y=data_train['y'], exog=data_train['exog_1'])\n",
    "pred_1 = forecaster_1.predict(steps=5, exog=data_test['exog_1'])\n",
    "\n",
    "lengths = list(range(5))\n",
    "lengths = 0\n",
    "# lengths = list(range(25, 30))\n",
    "preds_2 = [pred_1]\n",
    "\n",
    "for i, lw_exog in enumerate([data_train['y'], data_train['exog_1']]):\n",
    "    forecaster_2 = ForecasterSarimax(\n",
    "                    regressor = ARIMA(order=(5,2,3), seasonal_order=(0, 0, 0, 0), trend=None, with_intercept=False, maxiter=1000, suppress_warnings=True)\n",
    "                )\n",
    "    forecaster_2.fit(y=data_train['y'], exog=data_train['exog_1'])\n",
    "    pred_2 = forecaster_2.predict(steps=5, exog=data_test['exog_1'], last_window=data_train['y'], last_window_exog=lw_exog)\n",
    "    # pred_2 = forecaster_2.predict(steps=5)\n",
    "    pred_2.name = f'{i}'\n",
    "    preds_2.append(pred_2)\n",
    "\n",
    "pd.concat(preds_2, axis=1)"
   ]
  },
  {
   "cell_type": "code",
   "execution_count": 169,
   "metadata": {},
   "outputs": [
    {
     "data": {
      "text/plain": [
       "2005-07-01    0.834083\n",
       "2005-08-01    0.775471\n",
       "2005-09-01    0.763014\n",
       "2005-10-01    0.738576\n",
       "2005-11-01    0.700156\n",
       "2005-12-01    0.803202\n",
       "2006-01-01    0.877273\n",
       "2006-02-01    0.840496\n",
       "2006-03-01    0.868976\n",
       "2006-04-01    0.834666\n",
       "2006-05-01    0.805690\n",
       "2006-06-01    0.804989\n",
       "2006-07-01    0.764330\n",
       "2006-08-01    0.753788\n",
       "2006-09-01    0.757883\n",
       "2006-10-01    0.742118\n",
       "2006-11-01    0.718698\n",
       "2006-12-01    0.809200\n",
       "2007-01-01    0.857758\n",
       "2007-02-01    0.850377\n",
       "2007-03-01    0.853802\n",
       "2007-04-01    0.803226\n",
       "2007-05-01    0.787759\n",
       "2007-06-01    0.772675\n",
       "2007-07-01    0.747909\n",
       "2007-08-01    0.742488\n",
       "2007-09-01    0.751111\n",
       "2007-10-01    0.731793\n",
       "2007-11-01    0.732950\n",
       "2007-12-01    0.812696\n",
       "2008-01-01    0.864117\n",
       "2008-02-01    0.900863\n",
       "2008-03-01    0.888723\n",
       "2008-04-01    0.874010\n",
       "2008-05-01    0.867312\n",
       "2008-06-01    0.823210\n",
       "Freq: MS, dtype: float64"
      ]
     },
     "execution_count": 169,
     "metadata": {},
     "output_type": "execute_result"
    }
   ],
   "source": [
    "forecaster_1.regressor.predict(n_periods=36, X=data_test['exog_1'].to_frame())"
   ]
  },
  {
   "cell_type": "code",
   "execution_count": 170,
   "metadata": {},
   "outputs": [
    {
     "data": {
      "text/plain": [
       "10"
      ]
     },
     "execution_count": 170,
     "metadata": {},
     "output_type": "execute_result"
    }
   ],
   "source": [
    "forecaster_1.regressor.df_model()"
   ]
  },
  {
   "cell_type": "code",
   "execution_count": 171,
   "metadata": {},
   "outputs": [
    {
     "data": {
      "text/plain": [
       "inf"
      ]
     },
     "execution_count": 171,
     "metadata": {},
     "output_type": "execute_result"
    }
   ],
   "source": [
    "forecaster_1.regressor.df_resid()"
   ]
  },
  {
   "cell_type": "code",
   "execution_count": 172,
   "metadata": {},
   "outputs": [
    {
     "data": {
      "image/png": "[encoded data removed]",
      "text/plain": [
       "<Figure size 640x480 with 4 Axes>"
      ]
     },
     "execution_count": 172,
     "metadata": {},
     "output_type": "execute_result"
    },
    {
     "data": {
      "image/png": "[encoded data removed]",
      "text/plain": [
       "<Figure size 640x480 with 4 Axes>"
      ]
     },
     "metadata": {},
     "output_type": "display_data"
    }
   ],
   "source": [
    "forecaster_1.regressor.plot_diagnostics()"
   ]
  },
  {
   "cell_type": "code",
   "execution_count": 127,
   "metadata": {},
   "outputs": [
    {
     "data": {
      "text/plain": [
       "date\n",
       "1992-04-01    0.000000\n",
       "1992-05-01    0.371971\n",
       "1992-06-01    0.355788\n",
       "1992-07-01    0.402180\n",
       "1992-08-01    0.464897\n",
       "                ...   \n",
       "2005-02-01    1.146735\n",
       "2005-03-01    0.632435\n",
       "2005-04-01    0.706293\n",
       "2005-05-01    0.669381\n",
       "2005-06-01    0.764826\n",
       "Freq: MS, Length: 159, dtype: float64"
      ]
     },
     "execution_count": 127,
     "metadata": {},
     "output_type": "execute_result"
    }
   ],
   "source": [
    "forecaster_1.regressor.arima_res_.fittedvalues"
   ]
  },
  {
   "cell_type": "code",
   "execution_count": 128,
   "metadata": {},
   "outputs": [
    {
     "data": {
      "text/plain": [
       "date\n",
       "2004-10-01    0.000000\n",
       "2004-11-01    1.156641\n",
       "2004-12-01    1.190377\n",
       "2005-01-01    1.228937\n",
       "2005-02-01    1.151603\n",
       "2005-03-01    0.632435\n",
       "2005-04-01    0.706293\n",
       "2005-05-01    0.669381\n",
       "2005-06-01    0.764826\n",
       "Freq: MS, dtype: float64"
      ]
     },
     "execution_count": 128,
     "metadata": {},
     "output_type": "execute_result"
    }
   ],
   "source": [
    "forecaster_2.regressor.arima_res_.fittedvalues"
   ]
  },
  {
   "cell_type": "code",
   "execution_count": 94,
   "metadata": {},
   "outputs": [
    {
     "name": "stdout",
     "output_type": "stream",
     "text": [
      "ar.L1    -0.278167\n",
      "ar.L2     0.208110\n",
      "ar.L3     0.905169\n",
      "ar.L4     0.149358\n",
      "ar.L5    -0.038833\n",
      "ma.L1     1.292218\n",
      "ma.L2     0.998973\n",
      "sigma2    0.018479\n",
      "dtype: float64\n",
      "ar.L1    -0.278167\n",
      "ar.L2     0.208110\n",
      "ar.L3     0.905169\n",
      "ar.L4     0.149358\n",
      "ar.L5    -0.038833\n",
      "ma.L1     1.292218\n",
      "ma.L2     0.998973\n",
      "sigma2    0.018479\n",
      "dtype: float64\n",
      "\n",
      "[ 1.          0.2781674  -0.2081097  -0.9051687  -0.14935803  0.03883274]\n",
      "[ 1.          0.2781674  -0.2081097  -0.9051687  -0.14935803  0.03883274]\n",
      "\n",
      "[1.         1.29221759 0.99897309]\n",
      "[1.         1.29221759 0.99897309]\n"
     ]
    }
   ],
   "source": [
    "# Params\n",
    "print(forecaster_1.regressor.arima_res_.params)\n",
    "print(forecaster_2.regressor.arima_res_.params)\n",
    "print('')\n",
    "\n",
    "# Array containing autoregressive lag polynomial coefficients, ordered from lowest degree to highest. \n",
    "# Initialized with ones, unless a coefficient is constrained to be zero (in which case it is zero).\n",
    "print(forecaster_1.regressor.arima_res_.polynomial_ar)\n",
    "print(forecaster_2.regressor.arima_res_.polynomial_ar)\n",
    "print('')\n",
    "\n",
    "# Array containing moving average lag polynomial coefficients, ordered from lowest degree to highest. \n",
    "# Initialized with ones, unless a coefficient is constrained to be zero (in which case it is zero).print(forecaster_1.regressor.arima_res_.polynomial_ar)\n",
    "print(forecaster_1.regressor.arima_res_.polynomial_ma)\n",
    "print(forecaster_2.regressor.arima_res_.polynomial_ma)"
   ]
  },
  {
   "cell_type": "code",
   "execution_count": 44,
   "metadata": {},
   "outputs": [
    {
     "data": {
      "text/plain": [
       "date\n",
       "2005-06-01    0.842263\n",
       "Freq: MS, Name: y, dtype: float64"
      ]
     },
     "execution_count": 44,
     "metadata": {},
     "output_type": "execute_result"
    }
   ],
   "source": [
    "data_train['y'].iloc[-1:]"
   ]
  },
  {
   "cell_type": "code",
   "execution_count": 47,
   "metadata": {},
   "outputs": [
    {
     "data": {
      "text/plain": [
       "array([ 1.        , -1.29225707,  0.48184762,  0.48315573, -1.29717801,\n",
       "        0.98581836])"
      ]
     },
     "execution_count": 47,
     "metadata": {},
     "output_type": "execute_result"
    }
   ],
   "source": [
    "forecaster_2.regressor.arima_res_.polynomial_ma"
   ]
  },
  {
   "cell_type": "code",
   "execution_count": 42,
   "metadata": {},
   "outputs": [
    {
     "name": "stdout",
     "output_type": "stream",
     "text": [
      "[1.]\n",
      "[1.]\n",
      "\n",
      "[1.]\n",
      "[1.]\n"
     ]
    }
   ],
   "source": [
    "# Array containing seasonal autoregressive lag polynomial coefficients, ordered from lowest degree to highest. \n",
    "# Initialized with ones, unless a coefficient is constrained to be zero (in which case it is zero).\n",
    "print(forecaster_1.regressor.arima_res_.polynomial_seasonal_ar)\n",
    "print(forecaster_2.regressor.arima_res_.polynomial_seasonal_ar)\n",
    "print('')\n",
    "\n",
    "# Array containing seasonal moving average lag polynomial coefficients, ordered from lowest degree to highest.\n",
    "# Initialized with ones, unless a coefficient is constrained to be zero (in which case it is zero).\n",
    "print(forecaster_1.regressor.arima_res_.polynomial_seasonal_ma)\n",
    "print(forecaster_2.regressor.arima_res_.polynomial_seasonal_ma)"
   ]
  },
  {
   "cell_type": "code",
   "execution_count": 43,
   "metadata": {},
   "outputs": [
    {
     "name": "stdout",
     "output_type": "stream",
     "text": [
      "[]\n",
      "[]\n",
      "\n",
      "{'trend': 0, 'exog': 0, 'ar': 5, 'ma': 5, 'seasonal_ar': 0, 'seasonal_ma': 0, 'reduced_ar': 5, 'reduced_ma': 5, 'exog_variance': 0, 'measurement_variance': 0, 'variance': 1}\n",
      "{'trend': 0, 'exog': 0, 'ar': 5, 'ma': 5, 'seasonal_ar': 0, 'seasonal_ma': 0, 'reduced_ar': 5, 'reduced_ma': 5, 'exog_variance': 0, 'measurement_variance': 0, 'variance': 1}\n",
      "\n",
      "['ar', 'ma', 'variance']\n",
      "['ar', 'ma', 'variance']\n"
     ]
    }
   ],
   "source": [
    "# Array containing trend polynomial coefficients, ordered from lowest degree to highest. \n",
    "# Initialized with ones, unless a coefficient is constrained to be zero (in which case it is zero).\n",
    "print(forecaster_1.regressor.arima_res_.polynomial_trend)\n",
    "print(forecaster_2.regressor.arima_res_.polynomial_trend)\n",
    "print('')\n",
    "\n",
    "# The orders of each of the polynomials in the model.\n",
    "print(forecaster_1.regressor.arima_res_.model_orders)\n",
    "print(forecaster_2.regressor.arima_res_.model_orders)\n",
    "print('')\n",
    "\n",
    "# List of parameters actually included in the model, in sorted order.\n",
    "print(forecaster_1.regressor.arima_res_.param_terms)\n",
    "print(forecaster_2.regressor.arima_res_.param_terms)"
   ]
  },
  {
   "cell_type": "code",
   "execution_count": 26,
   "metadata": {},
   "outputs": [
    {
     "data": {
      "text/plain": [
       "date\n",
       "2005-01-01    1.170690\n",
       "2005-02-01    0.597639\n",
       "2005-03-01    0.652590\n",
       "2005-04-01    0.670505\n",
       "2005-05-01    0.695248\n",
       "2005-06-01    0.842263\n",
       "Freq: MS, Name: y, dtype: float64"
      ]
     },
     "execution_count": 26,
     "metadata": {},
     "output_type": "execute_result"
    }
   ],
   "source": [
    "data_train['y'].iloc[-6:]"
   ]
  },
  {
   "cell_type": "code",
   "execution_count": 30,
   "metadata": {},
   "outputs": [
    {
     "data": {
      "text/plain": [
       "date\n",
       "2005-02-01    1.520544\n",
       "2005-03-01    1.506290\n",
       "2005-04-01    1.487660\n",
       "2005-05-01    1.457025\n",
       "2005-06-01    1.441765\n",
       "Freq: MS, Name: exog_1, dtype: float64"
      ]
     },
     "execution_count": 30,
     "metadata": {},
     "output_type": "execute_result"
    }
   ],
   "source": [
    "data_train['exog_1'].iloc[-5:]"
   ]
  },
  {
   "cell_type": "code",
   "execution_count": 124,
   "metadata": {},
   "outputs": [
    {
     "data": {
      "text/plain": [
       "2005-07-01    0.955160\n",
       "2005-08-01    0.999309\n",
       "2005-09-01    1.006797\n",
       "2005-10-01    0.966844\n",
       "2005-11-01    0.899705\n",
       "Freq: MS, Name: pred, dtype: float64"
      ]
     },
     "execution_count": 124,
     "metadata": {},
     "output_type": "execute_result"
    }
   ],
   "source": [
    "forecaster = ForecasterSarimax(\n",
    "                regressor = ARIMA(order=(5,0,0), seasonal_order=(0, 0, 0, 0), trend=None, with_intercept=False, maxiter=1000, suppress_warnings=True)\n",
    "            )\n",
    "forecaster.fit(y=data_train['y'], exog=data_train['exog_1'])\n",
    "forecaster.predict(steps=5, exog=data_test['exog_1'])"
   ]
  },
  {
   "cell_type": "code",
   "execution_count": null,
   "metadata": {},
   "outputs": [],
   "source": [
    "forecaster.regressor.arima_res_.apply(\n",
    "    endog = last_window,\n",
    "    exog  = last_window_exog,\n",
    "    refit = False\n",
    ")"
   ]
  },
  {
   "cell_type": "code",
   "execution_count": 125,
   "metadata": {},
   "outputs": [
    {
     "data": {
      "text/plain": [
       "date\n",
       "1992-04-01    0.586089\n",
       "1992-05-01    0.448589\n",
       "1992-06-01    0.453344\n",
       "1992-07-01    0.509825\n",
       "1992-08-01    0.580687\n",
       "                ...   \n",
       "2005-02-01    0.959333\n",
       "2005-03-01    0.585896\n",
       "2005-04-01    0.648927\n",
       "2005-05-01    0.655163\n",
       "2005-06-01    0.782031\n",
       "Freq: MS, Length: 159, dtype: float64"
      ]
     },
     "execution_count": 125,
     "metadata": {},
     "output_type": "execute_result"
    }
   ],
   "source": [
    "forecaster.regressor.arima_res_.fittedvalues"
   ]
  },
  {
   "cell_type": "code",
   "execution_count": 29,
   "metadata": {},
   "outputs": [
    {
     "data": {
      "text/plain": [
       "2005-07-01    0.757604\n",
       "2005-08-01    0.684084\n",
       "2005-09-01    0.618403\n",
       "2005-10-01    0.560564\n",
       "2005-11-01    0.571627\n",
       "Freq: MS, Name: pred, dtype: float64"
      ]
     },
     "execution_count": 29,
     "metadata": {},
     "output_type": "execute_result"
    }
   ],
   "source": [
    "forecaster.predict(\n",
    "    steps=5,\n",
    "    exog=data_test['exog_1'],\n",
    "    last_window=data_train['y'].iloc[-5:],\n",
    "    last_window_exog=data_train['exog_1'].iloc[-5:]\n",
    ")"
   ]
  },
  {
   "cell_type": "code",
   "execution_count": 32,
   "metadata": {},
   "outputs": [
    {
     "data": {
      "text/plain": [
       "2005-07-01    1.348155\n",
       "2005-08-01    1.327842\n",
       "2005-09-01    1.312205\n",
       "2005-10-01    1.287929\n",
       "2005-11-01    1.287166\n",
       "Freq: MS, Name: pred, dtype: float64"
      ]
     },
     "execution_count": 32,
     "metadata": {},
     "output_type": "execute_result"
    }
   ],
   "source": [
    "forecaster.predict(\n",
    "    steps=5,\n",
    "    exog=data_test['exog_1'],\n",
    "    last_window=data_train['y'].iloc[-5:],\n",
    "    last_window_exog=data_train['y'].iloc[-5:]\n",
    ")"
   ]
  },
  {
   "cell_type": "code",
   "execution_count": 11,
   "metadata": {},
   "outputs": [
    {
     "data": {
      "text/html": [
       "<div>\n",
       "<style scoped>\n",
       "    .dataframe tbody tr th:only-of-type {\n",
       "        vertical-align: middle;\n",
       "    }\n",
       "\n",
       "    .dataframe tbody tr th {\n",
       "        vertical-align: top;\n",
       "    }\n",
       "\n",
       "    .dataframe thead th {\n",
       "        text-align: right;\n",
       "    }\n",
       "</style>\n",
       "<table border=\"1\" class=\"dataframe\">\n",
       "  <thead>\n",
       "    <tr style=\"text-align: right;\">\n",
       "      <th></th>\n",
       "      <th>pred</th>\n",
       "      <th>lower_bound</th>\n",
       "      <th>upper_bound</th>\n",
       "    </tr>\n",
       "  </thead>\n",
       "  <tbody>\n",
       "    <tr>\n",
       "      <th>2005-07-01</th>\n",
       "      <td>0.932642</td>\n",
       "      <td>0.696401</td>\n",
       "      <td>1.168883</td>\n",
       "    </tr>\n",
       "    <tr>\n",
       "      <th>2005-08-01</th>\n",
       "      <td>1.010520</td>\n",
       "      <td>0.740315</td>\n",
       "      <td>1.280726</td>\n",
       "    </tr>\n",
       "    <tr>\n",
       "      <th>2005-09-01</th>\n",
       "      <td>1.033868</td>\n",
       "      <td>0.761807</td>\n",
       "      <td>1.305928</td>\n",
       "    </tr>\n",
       "    <tr>\n",
       "      <th>2005-10-01</th>\n",
       "      <td>0.988795</td>\n",
       "      <td>0.712712</td>\n",
       "      <td>1.264877</td>\n",
       "    </tr>\n",
       "    <tr>\n",
       "      <th>2005-11-01</th>\n",
       "      <td>0.945110</td>\n",
       "      <td>0.652227</td>\n",
       "      <td>1.237994</td>\n",
       "    </tr>\n",
       "  </tbody>\n",
       "</table>\n",
       "</div>"
      ],
      "text/plain": [
       "                pred  lower_bound  upper_bound\n",
       "2005-07-01  0.932642     0.696401     1.168883\n",
       "2005-08-01  1.010520     0.740315     1.280726\n",
       "2005-09-01  1.033868     0.761807     1.305928\n",
       "2005-10-01  0.988795     0.712712     1.264877\n",
       "2005-11-01  0.945110     0.652227     1.237994"
      ]
     },
     "execution_count": 11,
     "metadata": {},
     "output_type": "execute_result"
    }
   ],
   "source": [
    "forecaster.predict_interval(steps=5, exog=data_test['exog_1'])"
   ]
  },
  {
   "cell_type": "code",
   "execution_count": 12,
   "metadata": {},
   "outputs": [
    {
     "data": {
      "text/html": [
       "<div>\n",
       "<style scoped>\n",
       "    .dataframe tbody tr th:only-of-type {\n",
       "        vertical-align: middle;\n",
       "    }\n",
       "\n",
       "    .dataframe tbody tr th {\n",
       "        vertical-align: top;\n",
       "    }\n",
       "\n",
       "    .dataframe thead th {\n",
       "        text-align: right;\n",
       "    }\n",
       "</style>\n",
       "<table border=\"1\" class=\"dataframe\">\n",
       "  <thead>\n",
       "    <tr style=\"text-align: right;\">\n",
       "      <th></th>\n",
       "      <th>pred</th>\n",
       "      <th>lower_bound</th>\n",
       "      <th>upper_bound</th>\n",
       "    </tr>\n",
       "  </thead>\n",
       "  <tbody>\n",
       "    <tr>\n",
       "      <th>2005-07-01</th>\n",
       "      <td>0.804699</td>\n",
       "      <td>0.533423</td>\n",
       "      <td>1.075975</td>\n",
       "    </tr>\n",
       "    <tr>\n",
       "      <th>2005-08-01</th>\n",
       "      <td>0.795028</td>\n",
       "      <td>0.446933</td>\n",
       "      <td>1.143122</td>\n",
       "    </tr>\n",
       "    <tr>\n",
       "      <th>2005-09-01</th>\n",
       "      <td>0.780490</td>\n",
       "      <td>0.408405</td>\n",
       "      <td>1.152576</td>\n",
       "    </tr>\n",
       "    <tr>\n",
       "      <th>2005-10-01</th>\n",
       "      <td>0.742509</td>\n",
       "      <td>0.374417</td>\n",
       "      <td>1.110601</td>\n",
       "    </tr>\n",
       "    <tr>\n",
       "      <th>2005-11-01</th>\n",
       "      <td>0.735371</td>\n",
       "      <td>0.378384</td>\n",
       "      <td>1.092358</td>\n",
       "    </tr>\n",
       "  </tbody>\n",
       "</table>\n",
       "</div>"
      ],
      "text/plain": [
       "                pred  lower_bound  upper_bound\n",
       "2005-07-01  0.804699     0.533423     1.075975\n",
       "2005-08-01  0.795028     0.446933     1.143122\n",
       "2005-09-01  0.780490     0.408405     1.152576\n",
       "2005-10-01  0.742509     0.374417     1.110601\n",
       "2005-11-01  0.735371     0.378384     1.092358"
      ]
     },
     "execution_count": 12,
     "metadata": {},
     "output_type": "execute_result"
    }
   ],
   "source": [
    "forecaster.predict_interval(\n",
    "    steps=5,\n",
    "    exog=data_test['exog_1'],\n",
    "    last_window=data_train['y'].iloc[-6:],\n",
    "    last_window_exog=data_train['exog_1'].iloc[-6:]\n",
    ")"
   ]
  },
  {
   "cell_type": "code",
   "execution_count": null,
   "metadata": {},
   "outputs": [],
   "source": []
  }
 ],
 "metadata": {
  "kernelspec": {
   "display_name": "skforecast",
   "language": "python",
   "name": "skforecast"
  },
  "language_info": {
   "codemirror_mode": {
    "name": "ipython",
    "version": 3
   },
   "file_extension": ".py",
   "mimetype": "text/x-python",
   "name": "python",
   "nbconvert_exporter": "python",
   "pygments_lexer": "ipython3",
   "version": "3.9.13"
  },
  "orig_nbformat": 4,
  "vscode": {
   "interpreter": {
    "hash": "f2f78aa07a2c9de4fc4e3d692008110cbee95f9e29d94fd62aa071e5108d1402"
   }
  }
 },
 "nbformat": 4,
 "nbformat_minor": 2
}
