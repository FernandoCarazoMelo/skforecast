{
 "cells": [
  {
   "cell_type": "code",
   "execution_count": 8,
   "metadata": {},
   "outputs": [
    {
     "name": "stdout",
     "output_type": "stream",
     "text": [
      "The autoreload extension is already loaded. To reload it, use:\n",
      "  %reload_ext autoreload\n"
     ]
    },
    {
     "data": {
      "text/plain": [
       "'/home/ubuntu/varios/skforecast'"
      ]
     },
     "execution_count": 8,
     "metadata": {},
     "output_type": "execute_result"
    }
   ],
   "source": [
    "%load_ext autoreload\n",
    "%autoreload 2\n",
    "import sys\n",
    "from pathlib import Path\n",
    "sys.path.insert(1, str(Path.cwd().parent))\n",
    "str(Path.cwd().parent)"
   ]
  },
  {
   "cell_type": "code",
   "execution_count": 21,
   "metadata": {},
   "outputs": [],
   "source": [
    "from skforecast.ForecasterAutoregCustom import ForecasterAutoregCustom\n",
    "from skforecast.ForecasterAutoregMultiSeriesCustom import ForecasterAutoregMultiSeriesCustom\n",
    "import numpy as np\n",
    "from sklearn.linear_model import LinearRegression\n",
    "import joblib\n",
    "import inspect"
   ]
  },
  {
   "cell_type": "code",
   "execution_count": 10,
   "metadata": {},
   "outputs": [],
   "source": [
    "# Custom functions\n",
    "def custom_pred(y):\n",
    "    return np.mean(y)\n",
    "\n",
    "def custom_weights(y):\n",
    "    return np.ones(len(y))\n",
    "\n",
    "def custom_weights2(y):\n",
    "    return np.arange(1, len(y)+1)"
   ]
  },
  {
   "cell_type": "code",
   "execution_count": 23,
   "metadata": {},
   "outputs": [],
   "source": [
    "# forecaster = ForecasterAutoregCustom(\n",
    "#     regressor = LinearRegression(),\n",
    "#     window_size=50,\n",
    "#     fun_predictors= custom_pred,\n",
    "#     weight_func= custom_weights\n",
    "# )\n",
    "\n",
    "\n",
    "forecaster = ForecasterAutoregMultiSeriesCustom(\n",
    "    regressor = LinearRegression(),\n",
    "    window_size=50,\n",
    "    fun_predictors= custom_pred,\n",
    "    weight_func= {'series 1': custom_weights, 'series 2': custom_weights2}\n",
    ")"
   ]
  },
  {
   "cell_type": "code",
   "execution_count": 24,
   "metadata": {},
   "outputs": [],
   "source": [
    "def save_forecaster(\n",
    "    forecaster, \n",
    "    file_name: str,\n",
    "    save_custom_functions: bool=True, \n",
    "    verbose: bool=True\n",
    ") -> None:\n",
    "    \"\"\"\n",
    "    Save forecaster model using joblib. If custom functions are used to create\n",
    "    predictors or weights, they are saved as .py files.\n",
    "\n",
    "    Parameters\n",
    "    ----------\n",
    "    forecaster: forecaster\n",
    "        Forecaster created with skforecast library.\n",
    "    file_name: str\n",
    "        File name given to the object.\n",
    "    save_custom_functions: bool, default `True`\n",
    "        If True, save custom functions used in the forecaster (fun_predictors and\n",
    "        weight_func) as .py files. Custom functions need to be available in the\n",
    "        environment where the forecaster is going to be loaded.\n",
    "    verbose: bool, default `True`\n",
    "        Print summary about the forecaster saved.\n",
    "\n",
    "    Returns\n",
    "    -------\n",
    "    None\n",
    "\n",
    "    \"\"\"\n",
    "\n",
    "    # Save forecaster\n",
    "    joblib.dump(forecaster, filename=file_name)\n",
    "\n",
    "    # Save custom functions to create predictors\n",
    "    if hasattr(forecaster, 'fun_predictors') and forecaster.fun_predictors is not None:\n",
    "        file_name = forecaster.fun_predictors.__name__ + '.py'\n",
    "        with open(file_name, 'w') as file:\n",
    "            file.write(inspect.getsource(forecaster.fun_predictors))\n",
    "\n",
    "    # Save custom functions to create weights\n",
    "    if hasattr(forecaster, 'weight_func') and forecaster.weight_func is not None:\n",
    "        if isinstance(forecaster.weight_func, dict):\n",
    "            for fun in set(forecaster.weight_func.values()):\n",
    "                file_name = fun.__name__ + '.py'\n",
    "                with open(file_name, 'w') as file:\n",
    "                    file.write(inspect.getsource(fun))\n",
    "        else:\n",
    "            file_name = forecaster.weight_func.__name__ + '.py'\n",
    "            with open(file_name, 'w') as file:\n",
    "                file.write(inspect.getsource(forecaster.weight_func))\n",
    "\n",
    "    if verbose:\n",
    "        forecaster.summary()"
   ]
  },
  {
   "cell_type": "code",
   "execution_count": 25,
   "metadata": {},
   "outputs": [
    {
     "name": "stdout",
     "output_type": "stream",
     "text": [
      "================================== \n",
      "ForecasterAutoregMultiSeriesCustom \n",
      "================================== \n",
      "Regressor: LinearRegression() \n",
      "Predictors created with function: custom_pred \n",
      "Transformer for series: None \n",
      "Transformer for exog: None \n",
      "Window size: 50 \n",
      "Series levels (names): None \n",
      "Series weights: None \n",
      "Weight function included: True \n",
      "Exogenous included: False \n",
      "Type of exogenous variable: None \n",
      "Exogenous variables names: None \n",
      "Training range: None \n",
      "Training index type: None \n",
      "Training index frequency: None \n",
      "Regressor parameters: {'copy_X': True, 'fit_intercept': True, 'n_jobs': None, 'positive': False} \n",
      "fit_kwargs: {} \n",
      "Creation date: 2023-12-07 11:10:30 \n",
      "Last fit date: None \n",
      "Skforecast version: 0.11.0 \n",
      "Python version: 3.11.4 \n",
      "Forecaster id: None \n",
      "\n"
     ]
    }
   ],
   "source": [
    "save_forecaster(forecaster, 'forecaster.joblib')"
   ]
  }
 ],
 "metadata": {
  "kernelspec": {
   "display_name": "skforecast_py10",
   "language": "python",
   "name": "python3"
  },
  "language_info": {
   "codemirror_mode": {
    "name": "ipython",
    "version": 3
   },
   "file_extension": ".py",
   "mimetype": "text/x-python",
   "name": "python",
   "nbconvert_exporter": "python",
   "pygments_lexer": "ipython3",
   "version": "3.11.4"
  },
  "orig_nbformat": 4,
  "vscode": {
   "interpreter": {
    "hash": "c78d62c1713fdacd99ef7c429003c7324b36fbb551fb8b6860a7ea73e9338235"
   }
  }
 },
 "nbformat": 4,
 "nbformat_minor": 2
}
