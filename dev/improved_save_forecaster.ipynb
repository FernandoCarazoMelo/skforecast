{
 "cells": [
  {
   "cell_type": "code",
   "execution_count": 1,
   "metadata": {},
   "outputs": [
    {
     "data": {
      "text/plain": [
       "'c:\\\\Users\\\\jaesc2\\\\GitHub\\\\skforecast'"
      ]
     },
     "execution_count": 1,
     "metadata": {},
     "output_type": "execute_result"
    }
   ],
   "source": [
    "%load_ext autoreload\n",
    "%autoreload 2\n",
    "import sys\n",
    "from pathlib import Path\n",
    "sys.path.insert(1, str(Path.cwd().parent))\n",
    "str(Path.cwd().parent)"
   ]
  },
  {
   "cell_type": "code",
   "execution_count": 16,
   "metadata": {},
   "outputs": [],
   "source": [
    "from skforecast.ForecasterAutoregCustom import ForecasterAutoregCustom\n",
    "from skforecast.ForecasterAutoregMultiSeriesCustom import ForecasterAutoregMultiSeriesCustom\n",
    "from skforecast.ForecasterAutoregMultiSeries import ForecasterAutoregMultiSeries\n",
    "import numpy as np\n",
    "from sklearn.linear_model import LinearRegression\n",
    "import joblib\n",
    "import inspect\n",
    "import warnings"
   ]
  },
  {
   "cell_type": "code",
   "execution_count": 17,
   "metadata": {},
   "outputs": [],
   "source": [
    "# Custom functions\n",
    "def custom_pred(y):\n",
    "    return np.mean(y)\n",
    "\n",
    "def custom_weights(y):\n",
    "    return np.ones(len(y))\n",
    "\n",
    "def custom_weights2(y):\n",
    "    return np.arange(1, len(y)+1)"
   ]
  },
  {
   "cell_type": "code",
   "execution_count": 4,
   "metadata": {},
   "outputs": [],
   "source": [
    "# forecaster = ForecasterAutoregCustom(\n",
    "#     regressor = LinearRegression(),\n",
    "#     window_size=50,\n",
    "#     fun_predictors= custom_pred,\n",
    "#     weight_func= custom_weights\n",
    "# )\n",
    "\n",
    "\n",
    "forecaster = ForecasterAutoregMultiSeriesCustom(\n",
    "    regressor = LinearRegression(),\n",
    "    window_size=50,\n",
    "    fun_predictors= custom_pred,\n",
    "    weight_func= {'series 1': custom_weights, 'series 2': custom_weights2}\n",
    ")"
   ]
  },
  {
   "cell_type": "code",
   "execution_count": 11,
   "metadata": {},
   "outputs": [],
   "source": [
    "def save_forecaster(\n",
    "    forecaster, \n",
    "    file_name: str,\n",
    "    save_custom_functions: bool=True, \n",
    "    verbose: bool=True\n",
    ") -> None:\n",
    "    \"\"\"\n",
    "    Save forecaster model using joblib. If custom functions are used to create\n",
    "    predictors or weights, they are saved as .py files.\n",
    "\n",
    "    Parameters\n",
    "    ----------\n",
    "    forecaster: forecaster\n",
    "        Forecaster created with skforecast library.\n",
    "    file_name: str\n",
    "        File name given to the object.\n",
    "    save_custom_functions: bool, default `True`\n",
    "        If True, save custom functions used in the forecaster (fun_predictors and\n",
    "        weight_func) as .py files. Custom functions need to be available in the\n",
    "        environment where the forecaster is going to be loaded.\n",
    "    verbose: bool, default `True`\n",
    "        Print summary about the forecaster saved.\n",
    "\n",
    "    Returns\n",
    "    -------\n",
    "    None\n",
    "\n",
    "    \"\"\"\n",
    "\n",
    "    # Save forecaster\n",
    "    joblib.dump(forecaster, filename=file_name)\n",
    "\n",
    "    if save_custom_functions:\n",
    "        # Save custom functions to create predictors\n",
    "        if hasattr(forecaster, 'fun_predictors') and forecaster.fun_predictors is not None:\n",
    "            file_name = forecaster.fun_predictors.__name__ + '.py'\n",
    "            with open(file_name, 'w') as file:\n",
    "                file.write(inspect.getsource(forecaster.fun_predictors))\n",
    "\n",
    "        # Save custom functions to create weights\n",
    "        if hasattr(forecaster, 'weight_func') and forecaster.weight_func is not None:\n",
    "            if isinstance(forecaster.weight_func, dict):\n",
    "                for fun in set(forecaster.weight_func.values()):\n",
    "                    file_name = fun.__name__ + '.py'\n",
    "                    with open(file_name, 'w') as file:\n",
    "                        file.write(inspect.getsource(fun))\n",
    "            else:\n",
    "                file_name = forecaster.weight_func.__name__ + '.py'\n",
    "                with open(file_name, 'w') as file:\n",
    "                    file.write(inspect.getsource(forecaster.weight_func))\n",
    "    else:\n",
    "        if ((hasattr(forecaster, 'fun_predictors') and forecaster.fun_predictors is not None)\n",
    "          or (hasattr(forecaster, 'weight_func') and forecaster.weight_func is not None)):\n",
    "            warnings.warn(\n",
    "                (\"Custom functions used to create predictors or weights are not saved. \"\n",
    "                 \"To save them, set `save_custom_functions` to `True`.\")\n",
    "            )\n",
    "\n",
    "    if verbose:\n",
    "        forecaster.summary()"
   ]
  },
  {
   "cell_type": "code",
   "execution_count": 15,
   "metadata": {},
   "outputs": [
    {
     "ename": "TypeError",
     "evalue": "ForecasterAutoregMultiSeriesCustom.__init__() missing 1 required positional argument: 'fun_predictors'",
     "output_type": "error",
     "traceback": [
      "\u001b[1;31m---------------------------------------------------------------------------\u001b[0m",
      "\u001b[1;31mTypeError\u001b[0m                                 Traceback (most recent call last)",
      "Cell \u001b[1;32mIn[15], line 1\u001b[0m\n\u001b[1;32m----> 1\u001b[0m forecaster \u001b[38;5;241m=\u001b[39m \u001b[43mForecasterAutoregMultiSeriesCustom\u001b[49m\u001b[43m(\u001b[49m\n\u001b[0;32m      2\u001b[0m \u001b[43m    \u001b[49m\u001b[43mregressor\u001b[49m\u001b[43m \u001b[49m\u001b[38;5;241;43m=\u001b[39;49m\u001b[43m \u001b[49m\u001b[43mLinearRegression\u001b[49m\u001b[43m(\u001b[49m\u001b[43m)\u001b[49m\u001b[43m,\u001b[49m\n\u001b[0;32m      3\u001b[0m \u001b[43m    \u001b[49m\u001b[43mwindow_size\u001b[49m\u001b[38;5;241;43m=\u001b[39;49m\u001b[38;5;241;43m50\u001b[39;49m\u001b[43m,\u001b[49m\n\u001b[0;32m      4\u001b[0m \u001b[43m    \u001b[49m\u001b[38;5;66;43;03m# fun_predictors= custom_pred,\u001b[39;49;00m\n\u001b[0;32m      5\u001b[0m \u001b[43m    \u001b[49m\u001b[43mweight_func\u001b[49m\u001b[38;5;241;43m=\u001b[39;49m\u001b[43m \u001b[49m\u001b[43m{\u001b[49m\u001b[38;5;124;43m'\u001b[39;49m\u001b[38;5;124;43mseries 1\u001b[39;49m\u001b[38;5;124;43m'\u001b[39;49m\u001b[43m:\u001b[49m\u001b[43m \u001b[49m\u001b[43mcustom_weights\u001b[49m\u001b[43m,\u001b[49m\u001b[43m \u001b[49m\u001b[38;5;124;43m'\u001b[39;49m\u001b[38;5;124;43mseries 2\u001b[39;49m\u001b[38;5;124;43m'\u001b[39;49m\u001b[43m:\u001b[49m\u001b[43m \u001b[49m\u001b[43mcustom_weights2\u001b[49m\u001b[43m}\u001b[49m\n\u001b[0;32m      6\u001b[0m \u001b[43m)\u001b[49m\n",
      "\u001b[1;31mTypeError\u001b[0m: ForecasterAutoregMultiSeriesCustom.__init__() missing 1 required positional argument: 'fun_predictors'"
     ]
    }
   ],
   "source": [
    "forecaster = ForecasterAutoregMultiSeriesCustom(\n",
    "    regressor = LinearRegression(),\n",
    "    window_size=50,\n",
    "    fun_predictors= custom_pred,\n",
    "    weight_func= {'series 1': custom_weights, 'series 2': custom_weights2}\n",
    ")"
   ]
  },
  {
   "cell_type": "code",
   "execution_count": 18,
   "metadata": {},
   "outputs": [],
   "source": [
    "forecaster = ForecasterAutoregMultiSeries(\n",
    "    regressor = LinearRegression(),\n",
    "    lags=50,\n",
    "    # fun_predictors= custom_pred,\n",
    "    weight_func= {'series 1': custom_weights, 'series 2': custom_weights2}\n",
    ")"
   ]
  },
  {
   "cell_type": "code",
   "execution_count": 19,
   "metadata": {},
   "outputs": [
    {
     "name": "stdout",
     "output_type": "stream",
     "text": [
      "============================ \n",
      "ForecasterAutoregMultiSeries \n",
      "============================ \n",
      "Regressor: LinearRegression() \n",
      "Lags: [ 1  2  3  4  5  6  7  8  9 10 11 12 13 14 15 16 17 18 19 20 21 22 23 24\n",
      " 25 26 27 28 29 30 31 32 33 34 35 36 37 38 39 40 41 42 43 44 45 46 47 48\n",
      " 49 50] \n",
      "Transformer for series: None \n",
      "Transformer for exog: None \n",
      "Window size: 50 \n",
      "Series levels (names): None \n",
      "Series weights: None \n",
      "Weight function included: True \n",
      "Exogenous included: False \n",
      "Type of exogenous variable: None \n",
      "Exogenous variables names: None \n",
      "Training range: None \n",
      "Training index type: None \n",
      "Training index frequency: None \n",
      "Regressor parameters: {'copy_X': True, 'fit_intercept': True, 'n_jobs': None, 'positive': False} \n",
      "fit_kwargs: {} \n",
      "Creation date: 2023-12-08 22:53:58 \n",
      "Last fit date: None \n",
      "Skforecast version: 0.12.0 \n",
      "Python version: 3.11.5 \n",
      "Forecaster id: None \n",
      "\n"
     ]
    },
    {
     "name": "stderr",
     "output_type": "stream",
     "text": [
      "C:\\Users\\jaesc2\\AppData\\Local\\Temp\\ipykernel_12420\\3387013849.py:54: UserWarning: Custom functions used to create predictors or weights are not saved. To save them, set `save_custom_functions` to `True`.\n",
      "  warnings.warn(\n"
     ]
    }
   ],
   "source": [
    "save_forecaster(forecaster, 'forecaster.joblib', save_custom_functions=False)"
   ]
  },
  {
   "cell_type": "code",
   "execution_count": 20,
   "metadata": {},
   "outputs": [
    {
     "name": "stdout",
     "output_type": "stream",
     "text": [
      "======================= \n",
      "ForecasterAutoregCustom \n",
      "======================= \n",
      "Regressor: LinearRegression() \n",
      "Predictors created with function: create_predictors \n",
      "Transformer for y: None \n",
      "Transformer for exog: None \n",
      "Window size: 3 \n",
      "Weight function included: True \n",
      "Differentiation order: None \n",
      "Exogenous included: False \n",
      "Type of exogenous variable: None \n",
      "Exogenous variables names: None \n",
      "Training range: None \n",
      "Training index type: None \n",
      "Training index frequency: None \n",
      "Regressor parameters: {'copy_X': True, 'fit_intercept': True, 'n_jobs': None, 'positive': False} \n",
      "fit_kwargs: {} \n",
      "Creation date: 2023-12-08 23:01:34 \n",
      "Last fit date: None \n",
      "Skforecast version: 0.12.0 \n",
      "Python version: 3.11.5 \n",
      "Forecaster id: None \n",
      "\n"
     ]
    }
   ],
   "source": [
    "import os\n",
    "\n",
    "def create_predictors(y): # pragma: no cover\n",
    "    \"\"\"\n",
    "    Create first 2 lags of a time series.\n",
    "    \"\"\"\n",
    "    \n",
    "    lags = y[-1:-3:-1]\n",
    "    \n",
    "    return lags\n",
    "\n",
    "def custom_weights(y): # pragma: no cover\n",
    "    \"\"\"\n",
    "    \"\"\"\n",
    "    return np.ones(len(y))\n",
    "\n",
    "def custom_weights2(y): # pragma: no cover\n",
    "    \"\"\"\n",
    "    \"\"\"\n",
    "    return np.arange(1, len(y)+1)\n",
    "\n",
    "forecaster = ForecasterAutoregCustom(\n",
    "                     regressor      = LinearRegression(),\n",
    "                     fun_predictors = create_predictors,\n",
    "                     window_size    = 3,\n",
    "                     weight_func    = custom_weights\n",
    "                 )\n",
    "save_forecaster(forecaster=forecaster, file_name='forecaster.py', save_custom_functions=True)\n",
    "os.remove('forecaster.py')\n",
    "\n",
    "fun_predictors_file = forecaster.fun_predictors.__name__ + '.py'\n",
    "assert os.path.exists(fun_predictors_file)\n",
    "with open(fun_predictors_file, 'r') as file:\n",
    "    assert inspect.getsource(forecaster.fun_predictors) == file.read()\n",
    "os.remove(fun_predictors_file)\n",
    "\n",
    "weight_func_file = forecaster.weight_func.__name__ + '.py'\n",
    "assert os.path.exists(weight_func_file)\n",
    "with open(weight_func_file, 'r') as file:\n",
    "    assert inspect.getsource(forecaster.weight_func) == file.read()\n",
    "os.remove(weight_func_file)"
   ]
  },
  {
   "cell_type": "code",
   "execution_count": null,
   "metadata": {},
   "outputs": [],
   "source": []
  }
 ],
 "metadata": {
  "kernelspec": {
   "display_name": "skforecast_py10",
   "language": "python",
   "name": "python3"
  },
  "language_info": {
   "codemirror_mode": {
    "name": "ipython",
    "version": 3
   },
   "file_extension": ".py",
   "mimetype": "text/x-python",
   "name": "python",
   "nbconvert_exporter": "python",
   "pygments_lexer": "ipython3",
   "version": "3.11.5"
  },
  "orig_nbformat": 4,
  "vscode": {
   "interpreter": {
    "hash": "c78d62c1713fdacd99ef7c429003c7324b36fbb551fb8b6860a7ea73e9338235"
   }
  }
 },
 "nbformat": 4,
 "nbformat_minor": 2
}
