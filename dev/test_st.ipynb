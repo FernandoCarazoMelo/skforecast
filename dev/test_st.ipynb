{
 "cells": [
  {
   "cell_type": "code",
   "execution_count": 1,
   "metadata": {},
   "outputs": [
    {
     "data": {
      "text/plain": [
       "'c:\\\\Users\\\\jaesc2\\\\GitHub\\\\skforecast'"
      ]
     },
     "execution_count": 1,
     "metadata": {},
     "output_type": "execute_result"
    }
   ],
   "source": [
    "%load_ext autoreload\n",
    "%autoreload 2\n",
    "import sys\n",
    "from pathlib import Path\n",
    "sys.path.insert(1, str(Path.cwd().parent))\n",
    "str(Path.cwd().parent)"
   ]
  },
  {
   "cell_type": "code",
   "execution_count": 2,
   "metadata": {},
   "outputs": [],
   "source": [
    "import re\n",
    "import pytest\n",
    "import numpy as np\n",
    "import pandas as pd\n",
    "from skforecast.ForecasterSarimax import ForecasterSarimax\n",
    "from skforecast.utils import expand_index\n",
    "from pmdarima.arima import ARIMA\n",
    "from sklearn.compose import ColumnTransformer\n",
    "from sklearn.preprocessing import StandardScaler\n",
    "from sklearn.preprocessing import OneHotEncoder"
   ]
  },
  {
   "cell_type": "code",
   "execution_count": 3,
   "metadata": {},
   "outputs": [],
   "source": [
    "y = pd.Series(\n",
    "        data = np.array([0.69646919, 0.28613933, 0.22685145, 0.55131477, 0.71946897,\n",
    "                         0.42310646, 0.9807642 , 0.68482974, 0.4809319 , 0.39211752,\n",
    "                         0.34317802, 0.72904971, 0.43857224, 0.0596779 , 0.39804426,\n",
    "                         0.73799541, 0.18249173, 0.17545176, 0.53155137, 0.53182759,\n",
    "                         0.63440096, 0.84943179, 0.72445532, 0.61102351, 0.72244338,\n",
    "                         0.32295891, 0.36178866, 0.22826323, 0.29371405, 0.63097612,\n",
    "                         0.09210494, 0.43370117, 0.43086276, 0.4936851 , 0.42583029,\n",
    "                         0.31226122, 0.42635131, 0.89338916, 0.94416002, 0.50183668,\n",
    "                         0.62395295, 0.1156184 , 0.31728548, 0.41482621, 0.86630916,\n",
    "                         0.25045537, 0.48303426, 0.98555979, 0.51948512, 0.61289453]\n",
    "            ),\n",
    "        name = 'y'\n",
    "    )"
   ]
  },
  {
   "cell_type": "code",
   "execution_count": 4,
   "metadata": {},
   "outputs": [
    {
     "data": {
      "text/plain": [
       "50    0.535792\n",
       "51    0.523670\n",
       "52    0.522246\n",
       "53    0.522581\n",
       "54    0.523207\n",
       "Name: pred, dtype: float64"
      ]
     },
     "execution_count": 4,
     "metadata": {},
     "output_type": "execute_result"
    }
   ],
   "source": [
    "forecaster = ForecasterSarimax(regressor=ARIMA(order=(1,1,1), maxiter=1000, \n",
    "                                               trend=None, \n",
    "                                               method='nm', \n",
    "                                               ftol=1e-19,))\n",
    "forecaster.fit(y=y)\n",
    "predictions = forecaster.predict(steps=5)\n",
    "predictions"
   ]
  },
  {
   "cell_type": "code",
   "execution_count": 5,
   "metadata": {},
   "outputs": [
    {
     "data": {
      "text/plain": [
       "50    0.535662\n",
       "51    0.523513\n",
       "52    0.522078\n",
       "53    0.522407\n",
       "54    0.523026\n",
       "Name: pred, dtype: float64"
      ]
     },
     "execution_count": 5,
     "metadata": {},
     "output_type": "execute_result"
    }
   ],
   "source": [
    "forecaster = ForecasterSarimax(regressor=ARIMA(order=(1,1,1), maxiter=1000, \n",
    "                                               trend=None, \n",
    "                                               method='lbfgs', \n",
    "                                               ftol=1e-19,))\n",
    "forecaster.fit(y=y)\n",
    "predictions = forecaster.predict(steps=5)\n",
    "predictions"
   ]
  },
  {
   "cell_type": "code",
   "execution_count": 6,
   "metadata": {},
   "outputs": [
    {
     "name": "stderr",
     "output_type": "stream",
     "text": [
      "c:\\Users\\jaesc2\\GitHub\\skforecast\\skforecast\\utils\\utils.py:209: UserWarning: Argument/s ['optim_score'] ignored since they are not used by the regressor's `fit` method.\n",
      "  warnings.warn(\n"
     ]
    },
    {
     "data": {
      "text/plain": [
       "50    0.535662\n",
       "51    0.523513\n",
       "52    0.522078\n",
       "53    0.522407\n",
       "54    0.523026\n",
       "Name: pred, dtype: float64"
      ]
     },
     "execution_count": 6,
     "metadata": {},
     "output_type": "execute_result"
    }
   ],
   "source": [
    "forecaster = ForecasterSarimax(regressor=ARIMA(order=(1,1,1), maxiter=1000, \n",
    "                                               trend=None, \n",
    "                                               ftol=1e-19,),\n",
    "                                fit_kwargs={'optim_score': 'harvey'})\n",
    "forecaster.fit(y=y)\n",
    "predictions = forecaster.predict(steps=5)\n",
    "predictions"
   ]
  },
  {
   "cell_type": "code",
   "execution_count": 7,
   "metadata": {},
   "outputs": [
    {
     "name": "stderr",
     "output_type": "stream",
     "text": [
      "c:\\Users\\jaesc2\\Miniconda3\\envs\\skforecast\\lib\\site-packages\\statsmodels\\base\\optimizer.py:17: FutureWarning: Keyword arguments have been passed to the optimizer that have no effect. The list of allowed keyword arguments for method lbfgs is: m, pgtol, factr, maxfun, epsilon, approx_grad, bounds, loglike_and_score. The list of unsupported keyword arguments passed include: fit_args. After release 0.14, this will raise.\n",
      "  warnings.warn(\n"
     ]
    },
    {
     "data": {
      "text/plain": [
       "50    0.535662\n",
       "51    0.523513\n",
       "52    0.522078\n",
       "53    0.522407\n",
       "54    0.523026\n",
       "Name: pred, dtype: float64"
      ]
     },
     "execution_count": 7,
     "metadata": {},
     "output_type": "execute_result"
    }
   ],
   "source": [
    "forecaster = ForecasterSarimax(regressor=ARIMA(order=(1,1,1), maxiter=1000, \n",
    "                                               trend=None, \n",
    "                                               ftol=1e-19,),\n",
    "                                fit_kwargs={'fit_args': {'optim_score': 'approx'}})\n",
    "forecaster.fit(y=y)\n",
    "predictions = forecaster.predict(steps=5)\n",
    "predictions"
   ]
  },
  {
   "cell_type": "code",
   "execution_count": 8,
   "metadata": {},
   "outputs": [
    {
     "data": {
      "text/plain": [
       "mappingproxy({'y': <Parameter \"y\">,\n",
       "              'X': <Parameter \"X=None\">,\n",
       "              'fit_args': <Parameter \"**fit_args\">})"
      ]
     },
     "execution_count": 8,
     "metadata": {},
     "output_type": "execute_result"
    }
   ],
   "source": [
    "import inspect\n",
    "\n",
    "inspect.signature(forecaster.regressor.fit).parameters"
   ]
  },
  {
   "cell_type": "code",
   "execution_count": 12,
   "metadata": {},
   "outputs": [
    {
     "data": {
      "text/plain": [
       "mappingproxy({'start_params': <Parameter \"start_params=None\">,\n",
       "              'transformed': <Parameter \"transformed=True\">,\n",
       "              'includes_fixed': <Parameter \"includes_fixed=False\">,\n",
       "              'cov_type': <Parameter \"cov_type=None\">,\n",
       "              'cov_kwds': <Parameter \"cov_kwds=None\">,\n",
       "              'method': <Parameter \"method='lbfgs'\">,\n",
       "              'maxiter': <Parameter \"maxiter=50\">,\n",
       "              'full_output': <Parameter \"full_output=1\">,\n",
       "              'disp': <Parameter \"disp=5\">,\n",
       "              'callback': <Parameter \"callback=None\">,\n",
       "              'return_params': <Parameter \"return_params=False\">,\n",
       "              'optim_score': <Parameter \"optim_score=None\">,\n",
       "              'optim_complex_step': <Parameter \"optim_complex_step=None\">,\n",
       "              'optim_hessian': <Parameter \"optim_hessian=None\">,\n",
       "              'flags': <Parameter \"flags=None\">,\n",
       "              'low_memory': <Parameter \"low_memory=False\">,\n",
       "              'kwargs': <Parameter \"**kwargs\">})"
      ]
     },
     "execution_count": 12,
     "metadata": {},
     "output_type": "execute_result"
    }
   ],
   "source": [
    "from statsmodels.tsa.statespace.sarimax import SARIMAX\n",
    "\n",
    "regressor = SARIMAX(endog=y)\n",
    "inspect.signature(regressor.fit).parameters"
   ]
  },
  {
   "cell_type": "code",
   "execution_count": null,
   "metadata": {},
   "outputs": [],
   "source": []
  },
  {
   "attachments": {},
   "cell_type": "markdown",
   "metadata": {},
   "source": [
    "## Test statsforecast"
   ]
  },
  {
   "cell_type": "code",
   "execution_count": 45,
   "metadata": {},
   "outputs": [
    {
     "name": "stderr",
     "output_type": "stream",
     "text": [
      "C:\\Users\\jaesc2\\AppData\\Roaming\\Python\\Python39\\site-packages\\statsforecast\\arima.py:896: RuntimeWarning: divide by zero encountered in log\n",
      "  return 0.5 * np.log(res)\n"
     ]
    },
    {
     "data": {
      "text/html": [
       "<div>\n",
       "<style scoped>\n",
       "    .dataframe tbody tr th:only-of-type {\n",
       "        vertical-align: middle;\n",
       "    }\n",
       "\n",
       "    .dataframe tbody tr th {\n",
       "        vertical-align: top;\n",
       "    }\n",
       "\n",
       "    .dataframe thead th {\n",
       "        text-align: right;\n",
       "    }\n",
       "</style>\n",
       "<table border=\"1\" class=\"dataframe\">\n",
       "  <thead>\n",
       "    <tr style=\"text-align: right;\">\n",
       "      <th></th>\n",
       "      <th>mean</th>\n",
       "      <th>lo-80</th>\n",
       "      <th>lo-20</th>\n",
       "      <th>hi-20</th>\n",
       "      <th>hi-80</th>\n",
       "    </tr>\n",
       "  </thead>\n",
       "  <tbody>\n",
       "    <tr>\n",
       "      <th>0</th>\n",
       "      <td>100.0</td>\n",
       "      <td>99.999864</td>\n",
       "      <td>99.999973</td>\n",
       "      <td>100.000027</td>\n",
       "      <td>100.000136</td>\n",
       "    </tr>\n",
       "    <tr>\n",
       "      <th>1</th>\n",
       "      <td>101.0</td>\n",
       "      <td>100.999696</td>\n",
       "      <td>100.999940</td>\n",
       "      <td>101.000060</td>\n",
       "      <td>101.000304</td>\n",
       "    </tr>\n",
       "    <tr>\n",
       "      <th>2</th>\n",
       "      <td>102.0</td>\n",
       "      <td>101.999492</td>\n",
       "      <td>101.999900</td>\n",
       "      <td>102.000100</td>\n",
       "      <td>102.000508</td>\n",
       "    </tr>\n",
       "    <tr>\n",
       "      <th>3</th>\n",
       "      <td>103.0</td>\n",
       "      <td>102.999256</td>\n",
       "      <td>102.999853</td>\n",
       "      <td>103.000147</td>\n",
       "      <td>103.000744</td>\n",
       "    </tr>\n",
       "  </tbody>\n",
       "</table>\n",
       "</div>"
      ],
      "text/plain": [
       "    mean       lo-80       lo-20       hi-20       hi-80\n",
       "0  100.0   99.999864   99.999973  100.000027  100.000136\n",
       "1  101.0  100.999696  100.999940  101.000060  101.000304\n",
       "2  102.0  101.999492  101.999900  102.000100  102.000508\n",
       "3  103.0  102.999256  102.999853  103.000147  103.000744"
      ]
     },
     "execution_count": 45,
     "metadata": {},
     "output_type": "execute_result"
    }
   ],
   "source": [
    "# ARIMA's usage example\n",
    "import pandas as pd\n",
    "from statsforecast.models import ARIMA\n",
    "from statsforecast.utils import AirPassengers as ap\n",
    "\n",
    "ap = np.arange(1, 100)\n",
    "\n",
    "arima = ARIMA(order=(5, 2, 2), season_length=12)\n",
    "arima = arima.fit(y=ap)\n",
    "y_hat_dict = arima.predict(h=4, level=[20, 80])\n",
    "pd.DataFrame(y_hat_dict)"
   ]
  },
  {
   "cell_type": "code",
   "execution_count": 46,
   "metadata": {},
   "outputs": [
    {
     "data": {
      "text/plain": [
       "array([1, 2, 3, 4, 5])"
      ]
     },
     "execution_count": 46,
     "metadata": {},
     "output_type": "execute_result"
    }
   ],
   "source": [
    "ap[:5]"
   ]
  },
  {
   "cell_type": "code",
   "execution_count": 47,
   "metadata": {},
   "outputs": [
    {
     "data": {
      "text/plain": [
       "array([95, 96, 97, 98, 99])"
      ]
     },
     "execution_count": 47,
     "metadata": {},
     "output_type": "execute_result"
    }
   ],
   "source": [
    "ap[-5:]"
   ]
  },
  {
   "cell_type": "code",
   "execution_count": 48,
   "metadata": {},
   "outputs": [
    {
     "name": "stdout",
     "output_type": "stream",
     "text": [
      "99\n"
     ]
    },
    {
     "data": {
      "text/html": [
       "<div>\n",
       "<style scoped>\n",
       "    .dataframe tbody tr th:only-of-type {\n",
       "        vertical-align: middle;\n",
       "    }\n",
       "\n",
       "    .dataframe tbody tr th {\n",
       "        vertical-align: top;\n",
       "    }\n",
       "\n",
       "    .dataframe thead th {\n",
       "        text-align: right;\n",
       "    }\n",
       "</style>\n",
       "<table border=\"1\" class=\"dataframe\">\n",
       "  <thead>\n",
       "    <tr style=\"text-align: right;\">\n",
       "      <th></th>\n",
       "      <th>fitted</th>\n",
       "    </tr>\n",
       "  </thead>\n",
       "  <tbody>\n",
       "    <tr>\n",
       "      <th>0</th>\n",
       "      <td>0.999553</td>\n",
       "    </tr>\n",
       "    <tr>\n",
       "      <th>1</th>\n",
       "      <td>1.999106</td>\n",
       "    </tr>\n",
       "    <tr>\n",
       "      <th>2</th>\n",
       "      <td>3.000000</td>\n",
       "    </tr>\n",
       "    <tr>\n",
       "      <th>3</th>\n",
       "      <td>4.000000</td>\n",
       "    </tr>\n",
       "    <tr>\n",
       "      <th>4</th>\n",
       "      <td>5.000000</td>\n",
       "    </tr>\n",
       "  </tbody>\n",
       "</table>\n",
       "</div>"
      ],
      "text/plain": [
       "     fitted\n",
       "0  0.999553\n",
       "1  1.999106\n",
       "2  3.000000\n",
       "3  4.000000\n",
       "4  5.000000"
      ]
     },
     "execution_count": 48,
     "metadata": {},
     "output_type": "execute_result"
    }
   ],
   "source": [
    "print(len(ap))\n",
    "pd.DataFrame(arima.predict_in_sample()).head(5)"
   ]
  },
  {
   "cell_type": "code",
   "execution_count": 49,
   "metadata": {},
   "outputs": [
    {
     "name": "stderr",
     "output_type": "stream",
     "text": [
      "C:\\Users\\jaesc2\\AppData\\Roaming\\Python\\Python39\\site-packages\\statsforecast\\arima.py:896: RuntimeWarning: divide by zero encountered in log\n",
      "  return 0.5 * np.log(res)\n"
     ]
    },
    {
     "data": {
      "text/html": [
       "<div>\n",
       "<style scoped>\n",
       "    .dataframe tbody tr th:only-of-type {\n",
       "        vertical-align: middle;\n",
       "    }\n",
       "\n",
       "    .dataframe tbody tr th {\n",
       "        vertical-align: top;\n",
       "    }\n",
       "\n",
       "    .dataframe thead th {\n",
       "        text-align: right;\n",
       "    }\n",
       "</style>\n",
       "<table border=\"1\" class=\"dataframe\">\n",
       "  <thead>\n",
       "    <tr style=\"text-align: right;\">\n",
       "      <th></th>\n",
       "      <th>mean</th>\n",
       "      <th>lo-80</th>\n",
       "      <th>lo-20</th>\n",
       "      <th>hi-20</th>\n",
       "      <th>hi-80</th>\n",
       "    </tr>\n",
       "  </thead>\n",
       "  <tbody>\n",
       "    <tr>\n",
       "      <th>0</th>\n",
       "      <td>100.0</td>\n",
       "      <td>99.999864</td>\n",
       "      <td>99.999973</td>\n",
       "      <td>100.000027</td>\n",
       "      <td>100.000136</td>\n",
       "    </tr>\n",
       "    <tr>\n",
       "      <th>1</th>\n",
       "      <td>101.0</td>\n",
       "      <td>100.999696</td>\n",
       "      <td>100.999940</td>\n",
       "      <td>101.000060</td>\n",
       "      <td>101.000304</td>\n",
       "    </tr>\n",
       "    <tr>\n",
       "      <th>2</th>\n",
       "      <td>102.0</td>\n",
       "      <td>101.999492</td>\n",
       "      <td>101.999900</td>\n",
       "      <td>102.000100</td>\n",
       "      <td>102.000508</td>\n",
       "    </tr>\n",
       "    <tr>\n",
       "      <th>3</th>\n",
       "      <td>103.0</td>\n",
       "      <td>102.999256</td>\n",
       "      <td>102.999853</td>\n",
       "      <td>103.000147</td>\n",
       "      <td>103.000744</td>\n",
       "    </tr>\n",
       "  </tbody>\n",
       "</table>\n",
       "</div>"
      ],
      "text/plain": [
       "    mean       lo-80       lo-20       hi-20       hi-80\n",
       "0  100.0   99.999864   99.999973  100.000027  100.000136\n",
       "1  101.0  100.999696  100.999940  101.000060  101.000304\n",
       "2  102.0  101.999492  101.999900  102.000100  102.000508\n",
       "3  103.0  102.999256  102.999853  103.000147  103.000744"
      ]
     },
     "execution_count": 49,
     "metadata": {},
     "output_type": "execute_result"
    }
   ],
   "source": [
    "# This is fit + predict\n",
    "y_hat_dict = arima.forecast(y=ap, h=4, level=[20, 80])\n",
    "pd.DataFrame(y_hat_dict)"
   ]
  },
  {
   "cell_type": "code",
   "execution_count": 50,
   "metadata": {},
   "outputs": [
    {
     "data": {
      "text/html": [
       "<div>\n",
       "<style scoped>\n",
       "    .dataframe tbody tr th:only-of-type {\n",
       "        vertical-align: middle;\n",
       "    }\n",
       "\n",
       "    .dataframe tbody tr th {\n",
       "        vertical-align: top;\n",
       "    }\n",
       "\n",
       "    .dataframe thead th {\n",
       "        text-align: right;\n",
       "    }\n",
       "</style>\n",
       "<table border=\"1\" class=\"dataframe\">\n",
       "  <thead>\n",
       "    <tr style=\"text-align: right;\">\n",
       "      <th></th>\n",
       "      <th>mean</th>\n",
       "      <th>lo-80</th>\n",
       "      <th>lo-20</th>\n",
       "      <th>hi-20</th>\n",
       "      <th>hi-80</th>\n",
       "    </tr>\n",
       "  </thead>\n",
       "  <tbody>\n",
       "    <tr>\n",
       "      <th>0</th>\n",
       "      <td>100.0</td>\n",
       "      <td>99.999864</td>\n",
       "      <td>99.999973</td>\n",
       "      <td>100.000027</td>\n",
       "      <td>100.000136</td>\n",
       "    </tr>\n",
       "    <tr>\n",
       "      <th>1</th>\n",
       "      <td>101.0</td>\n",
       "      <td>100.999696</td>\n",
       "      <td>100.999940</td>\n",
       "      <td>101.000060</td>\n",
       "      <td>101.000304</td>\n",
       "    </tr>\n",
       "    <tr>\n",
       "      <th>2</th>\n",
       "      <td>102.0</td>\n",
       "      <td>101.999492</td>\n",
       "      <td>101.999900</td>\n",
       "      <td>102.000100</td>\n",
       "      <td>102.000508</td>\n",
       "    </tr>\n",
       "    <tr>\n",
       "      <th>3</th>\n",
       "      <td>103.0</td>\n",
       "      <td>102.999256</td>\n",
       "      <td>102.999853</td>\n",
       "      <td>103.000147</td>\n",
       "      <td>103.000744</td>\n",
       "    </tr>\n",
       "  </tbody>\n",
       "</table>\n",
       "</div>"
      ],
      "text/plain": [
       "    mean       lo-80       lo-20       hi-20       hi-80\n",
       "0  100.0   99.999864   99.999973  100.000027  100.000136\n",
       "1  101.0  100.999696  100.999940  101.000060  101.000304\n",
       "2  102.0  101.999492  101.999900  102.000100  102.000508\n",
       "3  103.0  102.999256  102.999853  103.000147  103.000744"
      ]
     },
     "execution_count": 50,
     "metadata": {},
     "output_type": "execute_result"
    }
   ],
   "source": [
    "# Apply fitted model to a new time series.\n",
    "y_hat_dict = arima.forward(y=ap, h=4, level=[20, 80])\n",
    "pd.DataFrame(y_hat_dict)"
   ]
  },
  {
   "cell_type": "code",
   "execution_count": 57,
   "metadata": {},
   "outputs": [
    {
     "data": {
      "text/html": [
       "<div>\n",
       "<style scoped>\n",
       "    .dataframe tbody tr th:only-of-type {\n",
       "        vertical-align: middle;\n",
       "    }\n",
       "\n",
       "    .dataframe tbody tr th {\n",
       "        vertical-align: top;\n",
       "    }\n",
       "\n",
       "    .dataframe thead th {\n",
       "        text-align: right;\n",
       "    }\n",
       "</style>\n",
       "<table border=\"1\" class=\"dataframe\">\n",
       "  <thead>\n",
       "    <tr style=\"text-align: right;\">\n",
       "      <th></th>\n",
       "      <th>mean</th>\n",
       "      <th>lo-80</th>\n",
       "      <th>lo-20</th>\n",
       "      <th>hi-20</th>\n",
       "      <th>hi-80</th>\n",
       "    </tr>\n",
       "  </thead>\n",
       "  <tbody>\n",
       "    <tr>\n",
       "      <th>0</th>\n",
       "      <td>7.0</td>\n",
       "      <td>6.999864</td>\n",
       "      <td>6.999973</td>\n",
       "      <td>7.000027</td>\n",
       "      <td>7.000136</td>\n",
       "    </tr>\n",
       "    <tr>\n",
       "      <th>1</th>\n",
       "      <td>8.0</td>\n",
       "      <td>7.999696</td>\n",
       "      <td>7.999940</td>\n",
       "      <td>8.000060</td>\n",
       "      <td>8.000304</td>\n",
       "    </tr>\n",
       "    <tr>\n",
       "      <th>2</th>\n",
       "      <td>9.0</td>\n",
       "      <td>8.999492</td>\n",
       "      <td>8.999900</td>\n",
       "      <td>9.000100</td>\n",
       "      <td>9.000508</td>\n",
       "    </tr>\n",
       "    <tr>\n",
       "      <th>3</th>\n",
       "      <td>10.0</td>\n",
       "      <td>9.999256</td>\n",
       "      <td>9.999853</td>\n",
       "      <td>10.000147</td>\n",
       "      <td>10.000744</td>\n",
       "    </tr>\n",
       "  </tbody>\n",
       "</table>\n",
       "</div>"
      ],
      "text/plain": [
       "   mean     lo-80     lo-20      hi-20      hi-80\n",
       "0   7.0  6.999864  6.999973   7.000027   7.000136\n",
       "1   8.0  7.999696  7.999940   8.000060   8.000304\n",
       "2   9.0  8.999492  8.999900   9.000100   9.000508\n",
       "3  10.0  9.999256  9.999853  10.000147  10.000744"
      ]
     },
     "execution_count": 57,
     "metadata": {},
     "output_type": "execute_result"
    }
   ],
   "source": [
    "import numpy as np\n",
    "\n",
    "y_hat_dict = arima.forward(y=np.arange(7), \n",
    "                           h=4, level=[20, 80])\n",
    "pd.DataFrame(y_hat_dict)"
   ]
  },
  {
   "attachments": {},
   "cell_type": "markdown",
   "metadata": {},
   "source": [
    "## Test pmdarima"
   ]
  },
  {
   "cell_type": "code",
   "execution_count": 84,
   "metadata": {},
   "outputs": [
    {
     "name": "stderr",
     "output_type": "stream",
     "text": [
      "c:\\Users\\jaesc2\\Miniconda3\\envs\\skforecast\\lib\\site-packages\\statsmodels\\base\\model.py:604: ConvergenceWarning: Maximum Likelihood optimization failed to converge. Check mle_retvals\n",
      "  warnings.warn(\"Maximum Likelihood optimization failed to \"\n"
     ]
    },
    {
     "data": {
      "text/html": [
       "<div>\n",
       "<style scoped>\n",
       "    .dataframe tbody tr th:only-of-type {\n",
       "        vertical-align: middle;\n",
       "    }\n",
       "\n",
       "    .dataframe tbody tr th {\n",
       "        vertical-align: top;\n",
       "    }\n",
       "\n",
       "    .dataframe thead th {\n",
       "        text-align: right;\n",
       "    }\n",
       "</style>\n",
       "<table border=\"1\" class=\"dataframe\">\n",
       "  <thead>\n",
       "    <tr style=\"text-align: right;\">\n",
       "      <th></th>\n",
       "      <th>0</th>\n",
       "    </tr>\n",
       "  </thead>\n",
       "  <tbody>\n",
       "    <tr>\n",
       "      <th>0</th>\n",
       "      <td>99.999996</td>\n",
       "    </tr>\n",
       "    <tr>\n",
       "      <th>1</th>\n",
       "      <td>100.999989</td>\n",
       "    </tr>\n",
       "    <tr>\n",
       "      <th>2</th>\n",
       "      <td>101.999977</td>\n",
       "    </tr>\n",
       "    <tr>\n",
       "      <th>3</th>\n",
       "      <td>102.999962</td>\n",
       "    </tr>\n",
       "    <tr>\n",
       "      <th>4</th>\n",
       "      <td>103.999943</td>\n",
       "    </tr>\n",
       "  </tbody>\n",
       "</table>\n",
       "</div>"
      ],
      "text/plain": [
       "            0\n",
       "0   99.999996\n",
       "1  100.999989\n",
       "2  101.999977\n",
       "3  102.999962\n",
       "4  103.999943"
      ]
     },
     "execution_count": 84,
     "metadata": {},
     "output_type": "execute_result"
    }
   ],
   "source": [
    "# ARIMA's usage example\n",
    "import pandas as pd\n",
    "from pmdarima.arima import ARIMA\n",
    "from statsforecast.utils import AirPassengers as ap\n",
    "\n",
    "ap = np.arange(100)\n",
    "\n",
    "arima = ARIMA(order=(5, 2, 2), season_length=12)\n",
    "arima_res = arima.fit(ap)\n",
    "y_hat_dict = arima_res.predict(steps=4)\n",
    "pd.DataFrame(y_hat_dict).head(5)"
   ]
  },
  {
   "cell_type": "code",
   "execution_count": 100,
   "metadata": {},
   "outputs": [
    {
     "data": {
      "text/html": [
       "<div>\n",
       "<style scoped>\n",
       "    .dataframe tbody tr th:only-of-type {\n",
       "        vertical-align: middle;\n",
       "    }\n",
       "\n",
       "    .dataframe tbody tr th {\n",
       "        vertical-align: top;\n",
       "    }\n",
       "\n",
       "    .dataframe thead th {\n",
       "        text-align: right;\n",
       "    }\n",
       "</style>\n",
       "<table border=\"1\" class=\"dataframe\">\n",
       "  <thead>\n",
       "    <tr style=\"text-align: right;\">\n",
       "      <th></th>\n",
       "      <th>0</th>\n",
       "    </tr>\n",
       "  </thead>\n",
       "  <tbody>\n",
       "    <tr>\n",
       "      <th>0</th>\n",
       "      <td>999.999994</td>\n",
       "    </tr>\n",
       "    <tr>\n",
       "      <th>1</th>\n",
       "      <td>1000.999981</td>\n",
       "    </tr>\n",
       "    <tr>\n",
       "      <th>2</th>\n",
       "      <td>1001.999961</td>\n",
       "    </tr>\n",
       "    <tr>\n",
       "      <th>3</th>\n",
       "      <td>1002.999935</td>\n",
       "    </tr>\n",
       "    <tr>\n",
       "      <th>4</th>\n",
       "      <td>1003.999903</td>\n",
       "    </tr>\n",
       "  </tbody>\n",
       "</table>\n",
       "</div>"
      ],
      "text/plain": [
       "             0\n",
       "0   999.999994\n",
       "1  1000.999981\n",
       "2  1001.999961\n",
       "3  1002.999935\n",
       "4  1003.999903"
      ]
     },
     "execution_count": 100,
     "metadata": {},
     "output_type": "execute_result"
    }
   ],
   "source": [
    "ap = np.arange(1000)\n",
    "\n",
    "arima = ARIMA(order=(5, 2, 2), seasonal_order=(1,1,1,12))\n",
    "arima_res = arima.fit(ap)\n",
    "y_hat_dict = arima_res.predict(steps=4)\n",
    "pd.DataFrame(y_hat_dict).head(5)"
   ]
  },
  {
   "cell_type": "code",
   "execution_count": null,
   "metadata": {},
   "outputs": [],
   "source": []
  },
  {
   "attachments": {},
   "cell_type": "markdown",
   "metadata": {},
   "source": [
    "## test statsmodels"
   ]
  },
  {
   "cell_type": "code",
   "execution_count": 71,
   "metadata": {},
   "outputs": [
    {
     "name": "stderr",
     "output_type": "stream",
     "text": [
      "c:\\Users\\jaesc2\\Miniconda3\\envs\\skforecast\\lib\\site-packages\\statsmodels\\base\\model.py:604: ConvergenceWarning: Maximum Likelihood optimization failed to converge. Check mle_retvals\n",
      "  warnings.warn(\"Maximum Likelihood optimization failed to \"\n"
     ]
    },
    {
     "data": {
      "text/html": [
       "<div>\n",
       "<style scoped>\n",
       "    .dataframe tbody tr th:only-of-type {\n",
       "        vertical-align: middle;\n",
       "    }\n",
       "\n",
       "    .dataframe tbody tr th {\n",
       "        vertical-align: top;\n",
       "    }\n",
       "\n",
       "    .dataframe thead th {\n",
       "        text-align: right;\n",
       "    }\n",
       "</style>\n",
       "<table border=\"1\" class=\"dataframe\">\n",
       "  <thead>\n",
       "    <tr style=\"text-align: right;\">\n",
       "      <th></th>\n",
       "      <th>0</th>\n",
       "    </tr>\n",
       "  </thead>\n",
       "  <tbody>\n",
       "    <tr>\n",
       "      <th>0</th>\n",
       "      <td>100.0</td>\n",
       "    </tr>\n",
       "    <tr>\n",
       "      <th>1</th>\n",
       "      <td>101.0</td>\n",
       "    </tr>\n",
       "    <tr>\n",
       "      <th>2</th>\n",
       "      <td>102.0</td>\n",
       "    </tr>\n",
       "    <tr>\n",
       "      <th>3</th>\n",
       "      <td>103.0</td>\n",
       "    </tr>\n",
       "  </tbody>\n",
       "</table>\n",
       "</div>"
      ],
      "text/plain": [
       "       0\n",
       "0  100.0\n",
       "1  101.0\n",
       "2  102.0\n",
       "3  103.0"
      ]
     },
     "execution_count": 71,
     "metadata": {},
     "output_type": "execute_result"
    }
   ],
   "source": [
    "# ARIMA's usage example\n",
    "import pandas as pd\n",
    "from statsmodels.tsa.statespace.sarimax import SARIMAX\n",
    "from statsforecast.utils import AirPassengers as ap\n",
    "\n",
    "ap = np.arange(100)\n",
    "\n",
    "arima = SARIMAX(endog=ap, order=(5, 2, 2), season_length=12)\n",
    "arima_res = arima.fit()\n",
    "y_hat_dict = arima_res.forecast(steps=4)\n",
    "pd.DataFrame(y_hat_dict)"
   ]
  },
  {
   "cell_type": "code",
   "execution_count": 78,
   "metadata": {},
   "outputs": [
    {
     "name": "stderr",
     "output_type": "stream",
     "text": [
      "c:\\Users\\jaesc2\\Miniconda3\\envs\\skforecast\\lib\\site-packages\\statsmodels\\tsa\\statespace\\sarimax.py:866: UserWarning: Too few observations to estimate starting parameters for ARMA and trend. All parameters except for variances will be set to zeros.\n",
      "  warn('Too few observations to estimate starting parameters%s.'\n"
     ]
    },
    {
     "name": "stdout",
     "output_type": "stream",
     "text": [
      "ar.L1     0.975540\n",
      "ar.L2     0.000002\n",
      "ar.L3     0.000002\n",
      "ar.L4     0.000002\n",
      "ar.L5     0.000002\n",
      "ar.L6     0.000002\n",
      "ar.L7     0.000002\n",
      "ar.L8     0.000002\n",
      "ar.L9     0.000002\n",
      "ar.L10    0.000002\n",
      "ar.L11    0.000002\n",
      "ar.L12    0.000073\n",
      "sigma2    0.088896\n",
      "dtype: float64\n",
      "2002    1.463398\n",
      "Freq: A-DEC, dtype: float64\n"
     ]
    }
   ],
   "source": [
    "index = pd.period_range(start='2000', periods=2, freq='A')\n",
    "original_observations = pd.Series([1.2, 1.5], index=index)\n",
    "mod = SARIMAX(original_observations, order=(12,0,0))\n",
    "res = mod.fit()\n",
    "print(res.params)\n",
    "print(res.forecast(1))"
   ]
  },
  {
   "cell_type": "code",
   "execution_count": 79,
   "metadata": {},
   "outputs": [
    {
     "name": "stdout",
     "output_type": "stream",
     "text": [
      "ar.L1     0.975540\n",
      "ar.L2     0.000002\n",
      "ar.L3     0.000002\n",
      "ar.L4     0.000002\n",
      "ar.L5     0.000002\n",
      "ar.L6     0.000002\n",
      "ar.L7     0.000002\n",
      "ar.L8     0.000002\n",
      "ar.L9     0.000002\n",
      "ar.L10    0.000002\n",
      "ar.L11    0.000002\n",
      "ar.L12    0.000073\n",
      "sigma2    0.088896\n",
      "dtype: float64\n",
      "2002    1.463398\n",
      "Freq: A-DEC, dtype: float64\n"
     ]
    }
   ],
   "source": [
    "new_index = pd.period_range(start='1980', periods=3, freq='A')\n",
    "new_observations = pd.Series([1.4, 0.3, 1.2], index=new_index)\n",
    "new_res = res.apply(new_observations, refit=False)\n",
    "print(new_res.params)\n",
    "print(res.forecast(1))"
   ]
  },
  {
   "cell_type": "code",
   "execution_count": null,
   "metadata": {},
   "outputs": [],
   "source": []
  }
 ],
 "metadata": {
  "kernelspec": {
   "display_name": "skforecast_py10",
   "language": "python",
   "name": "python3"
  },
  "language_info": {
   "codemirror_mode": {
    "name": "ipython",
    "version": 3
   },
   "file_extension": ".py",
   "mimetype": "text/x-python",
   "name": "python",
   "nbconvert_exporter": "python",
   "pygments_lexer": "ipython3",
   "version": "3.9.13"
  },
  "orig_nbformat": 4,
  "vscode": {
   "interpreter": {
    "hash": "c78d62c1713fdacd99ef7c429003c7324b36fbb551fb8b6860a7ea73e9338235"
   }
  }
 },
 "nbformat": 4,
 "nbformat_minor": 2
}
