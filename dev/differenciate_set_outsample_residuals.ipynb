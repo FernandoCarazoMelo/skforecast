{
 "cells": [
  {
   "cell_type": "code",
   "execution_count": 1,
   "metadata": {},
   "outputs": [
    {
     "name": "stdout",
     "output_type": "stream",
     "text": [
      "c:\\Users\\Joaquín Amat\\Documents\\GitHub\\skforecast\n"
     ]
    }
   ],
   "source": [
    "%load_ext autoreload\n",
    "%autoreload 2\n",
    "import sys\n",
    "from pathlib import Path\n",
    "path = str(Path.cwd().parent)\n",
    "print(path)\n",
    "sys.path.insert(1, path)"
   ]
  },
  {
   "cell_type": "code",
   "execution_count": 2,
   "metadata": {},
   "outputs": [],
   "source": [
    "import pandas as pd\n",
    "import numpy as np\n",
    "import os\n",
    "from skforecast.ForecasterAutoreg import ForecasterAutoreg\n",
    "from skforecast.datasets import fetch_dataset\n",
    "from lightgbm import LGBMRegressor\n",
    "from sklearn.metrics import mean_squared_error\n",
    "from sklearn.preprocessing import StandardScaler"
   ]
  },
  {
   "cell_type": "code",
   "execution_count": 3,
   "metadata": {},
   "outputs": [
    {
     "name": "stdout",
     "output_type": "stream",
     "text": [
      "h2o\n",
      "---\n",
      "Monthly expenditure ($AUD) on corticosteroid drugs that the Australian health\n",
      "system had between 1991 and 2008.\n",
      "Hyndman R (2023). fpp3: Data for Forecasting: Principles and Practice(3rd\n",
      "Edition). http://pkg.robjhyndman.com/fpp3package/,https://github.com/robjhyndman\n",
      "/fpp3package, http://OTexts.com/fpp3.\n",
      "Shape of the dataset: (204, 2)\n"
     ]
    }
   ],
   "source": [
    "# Download data\n",
    "# ==============================================================================\n",
    "data = fetch_dataset(\n",
    "    name=\"h2o\", raw=True, kwargs_read_csv={\"names\": [\"y\", \"datetime\"], \"header\": 0}\n",
    ")\n",
    "\n",
    "# Data preprocessing\n",
    "# ==============================================================================\n",
    "data['datetime'] = pd.to_datetime(data['datetime'], format='%Y-%m-%d')\n",
    "data = data.set_index('datetime')\n",
    "data = data.asfreq('MS')\n",
    "data = data['y']\n",
    "data = data.sort_index()\n",
    "\n",
    "# Split train-test\n",
    "# ==============================================================================\n",
    "steps = 36\n",
    "data_train = data[:-steps]\n",
    "data_test  = data[-steps:]"
   ]
  },
  {
   "cell_type": "code",
   "execution_count": 4,
   "metadata": {},
   "outputs": [
    {
     "name": "stderr",
     "output_type": "stream",
     "text": [
      "c:\\anaconda\\envs\\skforecast_14_p12\\Lib\\site-packages\\sklearn\\base.py:493: UserWarning: X does not have valid feature names, but StandardScaler was fitted with feature names\n",
      "  warnings.warn(\n",
      "c:\\anaconda\\envs\\skforecast_14_p12\\Lib\\site-packages\\sklearn\\base.py:493: UserWarning: X does not have valid feature names, but StandardScaler was fitted with feature names\n",
      "  warnings.warn(\n",
      "c:\\Users\\Joaquín Amat\\Documents\\GitHub\\skforecast\\skforecast\\ForecasterAutoreg\\ForecasterAutoreg.py:2247: UserWarning: The following bins have no out of sample residuals: [1, 2]. No predicted values fall in the interval [(np.float64(-0.5536127963340861), np.float64(-0.14331964559043656)), (np.float64(-0.14331964559043656), np.float64(-0.002033507035206541))]. Empty bins will be filled with a random sample of residuals from the other bins.\n",
      "  warnings.warn(\n",
      "c:\\Users\\Joaquín Amat\\Documents\\GitHub\\skforecast\\skforecast\\ForecasterAutoreg\\ForecasterAutoreg.py:2247: UserWarning: The following bins have no out of sample residuals: [0, 1, 2, 3, 6, 8, 9]. No predicted values fall in the interval [(np.float64(-1.868761143014513), np.float64(-1.154673331503553)), (np.float64(-1.154673331503553), np.float64(-0.8780813081011398)), (np.float64(-0.8780813081011398), np.float64(-0.6077316300243031)), (np.float64(-0.6077316300243031), np.float64(-0.3481096795996159)), (np.float64(0.3397750188799377), np.float64(0.49794575899700444)), (np.float64(0.7061995166921781), np.float64(1.2264058957352513)), (np.float64(1.2264058957352513), np.float64(1.8555752483623502))]. Empty bins will be filled with a random sample of residuals from the other bins.\n",
      "  warnings.warn(\n",
      "c:\\anaconda\\envs\\skforecast_14_p12\\Lib\\site-packages\\sklearn\\base.py:493: UserWarning: X does not have valid feature names, but StandardScaler was fitted with feature names\n",
      "  warnings.warn(\n",
      "c:\\anaconda\\envs\\skforecast_14_p12\\Lib\\site-packages\\sklearn\\base.py:493: UserWarning: X does not have valid feature names, but StandardScaler was fitted with feature names\n",
      "  warnings.warn(\n"
     ]
    }
   ],
   "source": [
    "forecaster = ForecasterAutoreg(\n",
    "                 regressor = LGBMRegressor(random_state=123, verbose=-1),\n",
    "                 lags            = 15,\n",
    "                 differentiation = 1,\n",
    "                 transformer_y  = StandardScaler()\n",
    "             )\n",
    "\n",
    "forecaster.fit(y=data_train)\n",
    "predictions = forecaster.predict(steps=36)\n",
    "\n",
    "y_test = forecaster.transformer_y.transform(data_test.to_numpy().reshape(-1, 1)).flatten()\n",
    "y_true = forecaster.transformer_y.transform(predictions.to_numpy().reshape(-1, 1)).flatten()\n",
    "y_test = forecaster.differentiator.transform(y_test)[forecaster.differentiation:]\n",
    "y_true = forecaster.differentiator.transform(y_true)[forecaster.differentiation:]\n",
    "residuals = y_test - y_true\n",
    "residuals = np.sort(residuals)\n",
    "\n",
    "forecaster.set_out_sample_residuals(\n",
    "    y_true=data_test,\n",
    "    y_pred = predictions\n",
    ")\n",
    "out_sample_residuals_ = np.sort(forecaster.out_sample_residuals_)\n",
    "np.testing.assert_array_almost_equal(residuals, out_sample_residuals_)\n",
    "\n",
    "\n",
    "from sklearn.linear_model import LinearRegression\n",
    "\n",
    "def test_forecaster_set_outsample_residuals_when_transformer_y_and_diferentiation():\n",
    "    data_train = pd.Series(np.random.normal(loc=0, scale=1, size=100), index=range(100))\n",
    "    data_test  = pd.Series(np.random.normal(loc=0, scale=1, size=36), index=range(100, 136))\n",
    "    forecaster = ForecasterAutoreg(\n",
    "                     regressor       = LinearRegression(),\n",
    "                     lags            = 5,\n",
    "                     differentiation = 1,\n",
    "                     transformer_y   = StandardScaler()\n",
    "                 )\n",
    "\n",
    "    forecaster.fit(y=data_train)\n",
    "    predictions = forecaster.predict(steps=36)\n",
    "    forecaster.set_out_sample_residuals(\n",
    "        y_true = data_test,\n",
    "        y_pred = predictions\n",
    "    )\n",
    "\n",
    "    y_test = forecaster.transformer_y.transform(data_test.to_numpy().reshape(-1, 1)).flatten()\n",
    "    y_true = forecaster.transformer_y.transform(predictions.to_numpy().reshape(-1, 1)).flatten()\n",
    "    y_test = forecaster.differentiator.transform(y_test)[forecaster.differentiation:]\n",
    "    y_true = forecaster.differentiator.transform(y_true)[forecaster.differentiation:]\n",
    "    residuals = y_test - y_true\n",
    "    residuals = np.sort(residuals)\n",
    "    out_sample_residuals_ = np.sort(forecaster.out_sample_residuals_)\n",
    "\n",
    "    np.testing.assert_array_almost_equal(residuals, out_sample_residuals_)\n",
    "\n",
    "test_forecaster_set_outsample_residuals_when_transformer_y_and_diferentiation()"
   ]
  },
  {
   "cell_type": "code",
   "execution_count": 5,
   "metadata": {},
   "outputs": [
    {
     "name": "stderr",
     "output_type": "stream",
     "text": [
      "c:\\Users\\Joaquín Amat\\Documents\\GitHub\\skforecast\\skforecast\\ForecasterAutoreg\\ForecasterAutoreg.py:2247: UserWarning: The following bins have no out of sample residuals: [0, 2, 3, 6, 7, 8, 9]. No predicted values fall in the interval [(np.float64(-3.4624514050303747), np.float64(-1.5048396574069878)), (np.float64(-1.068943326899654), np.float64(-0.6458199554695041)), (np.float64(-0.6458199554695041), np.float64(-0.37540903609374193)), (np.float64(0.4505350874132184), np.float64(0.7504287466541254)), (np.float64(0.7504287466541254), np.float64(1.0364358218052208)), (np.float64(1.0364358218052208), np.float64(1.3677770307344386)), (np.float64(1.3677770307344386), np.float64(2.005363949869685))]. Empty bins will be filled with a random sample of residuals from the other bins.\n",
      "  warnings.warn(\n",
      "c:\\anaconda\\envs\\skforecast_14_p12\\Lib\\site-packages\\sklearn\\base.py:493: UserWarning: X does not have valid feature names, but StandardScaler was fitted with feature names\n",
      "  warnings.warn(\n",
      "c:\\anaconda\\envs\\skforecast_14_p12\\Lib\\site-packages\\sklearn\\base.py:493: UserWarning: X does not have valid feature names, but StandardScaler was fitted with feature names\n",
      "  warnings.warn(\n"
     ]
    },
    {
     "data": {
      "text/plain": [
       "100    1.047076\n",
       "101   -0.208507\n",
       "102    0.036779\n",
       "103   -0.193056\n",
       "104    0.092140\n",
       "105    0.226463\n",
       "106    0.019968\n",
       "107   -0.005131\n",
       "108   -0.034870\n",
       "109    0.097856\n",
       "110    0.088266\n",
       "111    0.044418\n",
       "112    0.010025\n",
       "113    0.030624\n",
       "114    0.066774\n",
       "115    0.061669\n",
       "116    0.042338\n",
       "117    0.032328\n",
       "118    0.045196\n",
       "119    0.055745\n",
       "120    0.052805\n",
       "121    0.044559\n",
       "122    0.043185\n",
       "123    0.048846\n",
       "124    0.052242\n",
       "125    0.050447\n",
       "126    0.047568\n",
       "127    0.047986\n",
       "128    0.050428\n",
       "129    0.051544\n",
       "130    0.050724\n",
       "131    0.049951\n",
       "132    0.050537\n",
       "133    0.051649\n",
       "134    0.052083\n",
       "135    0.051859\n",
       "Name: pred, dtype: float64"
      ]
     },
     "execution_count": 5,
     "metadata": {},
     "output_type": "execute_result"
    }
   ],
   "source": [
    "data_train = pd.Series(np.random.normal(loc=0, scale=1, size=100), index=range(100))\n",
    "data_test  = pd.Series(np.random.normal(loc=0, scale=1, size=36), index=range(100, 136))\n",
    "forecaster = ForecasterAutoreg(\n",
    "                    regressor       = LinearRegression(),\n",
    "                    lags            = 5,\n",
    "                    differentiation = 1,\n",
    "                    transformer_y   = StandardScaler()\n",
    "                )\n",
    "\n",
    "forecaster.fit(y=data_train)\n",
    "predictions = forecaster.predict(steps=36)\n",
    "forecaster.set_out_sample_residuals(\n",
    "    y_true = data_test,\n",
    "    y_pred = predictions\n",
    ")\n",
    "\n",
    "y_test = forecaster.transformer_y.transform(data_test.to_numpy().reshape(-1, 1)).flatten()\n",
    "y_true = forecaster.transformer_y.transform(predictions.to_numpy().reshape(-1, 1)).flatten()\n",
    "y_test = forecaster.differentiator.transform(y_test)[forecaster.differentiation:]\n",
    "y_true = forecaster.differentiator.transform(y_true)[forecaster.differentiation:]\n",
    "residuals = y_test - y_true\n",
    "residuals = np.sort(residuals)\n",
    "out_sample_residuals_ = np.sort(forecaster.out_sample_residuals_)\n",
    "\n",
    "predictions"
   ]
  },
  {
   "cell_type": "code",
   "execution_count": 6,
   "metadata": {},
   "outputs": [
    {
     "data": {
      "text/plain": [
       "np.int64(10)"
      ]
     },
     "execution_count": 6,
     "metadata": {},
     "output_type": "execute_result"
    }
   ],
   "source": [
    "forecaster.binner.n_bins_[0]"
   ]
  },
  {
   "cell_type": "code",
   "execution_count": 7,
   "metadata": {},
   "outputs": [
    {
     "data": {
      "text/plain": [
       "np.int64(251)"
      ]
     },
     "execution_count": 7,
     "metadata": {},
     "output_type": "execute_result"
    }
   ],
   "source": [
    "2510//forecaster.binner.n_bins_[0]"
   ]
  },
  {
   "cell_type": "code",
   "execution_count": 12,
   "metadata": {},
   "outputs": [
    {
     "name": "stdout",
     "output_type": "stream",
     "text": [
      "5000\n",
      "415\n"
     ]
    },
    {
     "name": "stderr",
     "output_type": "stream",
     "text": [
      "c:\\Users\\Joaquín Amat\\Documents\\GitHub\\skforecast\\skforecast\\ForecasterAutoreg\\ForecasterAutoreg.py:2249: UserWarning: The following bins have no out of sample residuals: [7]. No predicted values fall in the interval [(np.float64(10.11236656942424), np.float64(10.120348631849224))]. Empty bins will be filled with a random sample of residuals from the other bins.\n",
      "  f\"No predicted values fall in the interval \"\n"
     ]
    }
   ],
   "source": [
    "y_true = pd.Series(np.random.normal(loc=10, scale=10, size=5000))\n",
    "y_pred = pd.Series(np.random.normal(loc=10, scale=10, size=5000))\n",
    "forecaster = ForecasterAutoreg(LinearRegression(), lags=3)\n",
    "forecaster.fit(y_true)\n",
    "forecaster.set_out_sample_residuals(y_true=y_true, y_pred=y_pred)\n"
   ]
  },
  {
   "cell_type": "code",
   "execution_count": 83,
   "metadata": {},
   "outputs": [
    {
     "ename": "FileNotFoundError",
     "evalue": "[WinError 3] The system cannot find the path specified: '/home/ubuntu/varios/skforecast/skforecast'",
     "output_type": "error",
     "traceback": [
      "\u001b[1;31m---------------------------------------------------------------------------\u001b[0m",
      "\u001b[1;31mFileNotFoundError\u001b[0m                         Traceback (most recent call last)",
      "Cell \u001b[1;32mIn[83], line 20\u001b[0m\n\u001b[0;32m     18\u001b[0m \u001b[38;5;66;03m# Example usage: Set the path of the directory you want to print\u001b[39;00m\n\u001b[0;32m     19\u001b[0m directory_path \u001b[38;5;241m=\u001b[39m \u001b[38;5;124m'\u001b[39m\u001b[38;5;124m/home/ubuntu/varios/skforecast/skforecast\u001b[39m\u001b[38;5;124m'\u001b[39m\n\u001b[1;32m---> 20\u001b[0m \u001b[43mprint_directory_tree\u001b[49m\u001b[43m(\u001b[49m\u001b[43mdirectory_path\u001b[49m\u001b[43m \u001b[49m\u001b[43m,\u001b[49m\u001b[43m \u001b[49m\u001b[43mignore_folders\u001b[49m\u001b[38;5;241;43m=\u001b[39;49m\u001b[43m[\u001b[49m\u001b[38;5;124;43m'\u001b[39;49m\u001b[38;5;124;43m__pycache__\u001b[39;49m\u001b[38;5;124;43m'\u001b[39;49m\u001b[43m,\u001b[49m\u001b[43m \u001b[49m\u001b[38;5;124;43m'\u001b[39;49m\u001b[38;5;124;43mtests\u001b[39;49m\u001b[38;5;124;43m'\u001b[39;49m\u001b[43m,\u001b[49m\u001b[43m \u001b[49m\u001b[38;5;124;43m'\u001b[39;49m\u001b[38;5;124;43mhtmlcov\u001b[39;49m\u001b[38;5;124;43m'\u001b[39;49m\u001b[43m]\u001b[49m\u001b[43m)\u001b[49m\n",
      "Cell \u001b[1;32mIn[83], line 5\u001b[0m, in \u001b[0;36mprint_directory_tree\u001b[1;34m(startpath, indent_level, ignore_folders)\u001b[0m\n\u001b[0;32m      2\u001b[0m \u001b[38;5;28;01mif\u001b[39;00m ignore_folders \u001b[38;5;129;01mis\u001b[39;00m \u001b[38;5;28;01mNone\u001b[39;00m:\n\u001b[0;32m      3\u001b[0m     ignore_folders \u001b[38;5;241m=\u001b[39m [\u001b[38;5;124m'\u001b[39m\u001b[38;5;124m__pycache__\u001b[39m\u001b[38;5;124m'\u001b[39m, \u001b[38;5;124m'\u001b[39m\u001b[38;5;124mtests\u001b[39m\u001b[38;5;124m'\u001b[39m]  \u001b[38;5;66;03m# Default folders to ignore\u001b[39;00m\n\u001b[1;32m----> 5\u001b[0m \u001b[38;5;28;01mfor\u001b[39;00m item \u001b[38;5;129;01min\u001b[39;00m \u001b[43mos\u001b[49m\u001b[38;5;241;43m.\u001b[39;49m\u001b[43mlistdir\u001b[49m\u001b[43m(\u001b[49m\u001b[43mstartpath\u001b[49m\u001b[43m)\u001b[49m:\n\u001b[0;32m      6\u001b[0m     path \u001b[38;5;241m=\u001b[39m os\u001b[38;5;241m.\u001b[39mpath\u001b[38;5;241m.\u001b[39mjoin(startpath, item)\n\u001b[0;32m      8\u001b[0m     \u001b[38;5;66;03m# Skip ignored folders\u001b[39;00m\n",
      "\u001b[1;31mFileNotFoundError\u001b[0m: [WinError 3] The system cannot find the path specified: '/home/ubuntu/varios/skforecast/skforecast'"
     ]
    }
   ],
   "source": [
    "def print_directory_tree(startpath, indent_level=0, ignore_folders=None):\n",
    "    if ignore_folders is None:\n",
    "        ignore_folders = ['__pycache__', 'tests']  # Default folders to ignore\n",
    "\n",
    "    for item in os.listdir(startpath):\n",
    "        path = os.path.join(startpath, item)\n",
    "\n",
    "        # Skip ignored folders\n",
    "        if os.path.isdir(path) and item in ignore_folders:\n",
    "            continue\n",
    "\n",
    "        print(' ' * indent_level + '|-- ' + item)  # Print the item with indent\n",
    "\n",
    "        # Recursively call for subdirectories\n",
    "        if os.path.isdir(path):\n",
    "            print_directory_tree(path, indent_level + 4, ignore_folders)\n",
    "\n",
    "# Example usage: Set the path of the directory you want to print\n",
    "directory_path = '/home/ubuntu/varios/skforecast/skforecast'\n",
    "print_directory_tree(directory_path , ignore_folders=['__pycache__', 'tests', 'htmlcov'])"
   ]
  },
  {
   "cell_type": "markdown",
   "metadata": {},
   "source": [
    "    \n",
    "    |-- skforecast\n",
    "        |-- autoreg\n",
    "            |-- ForecasterRecursive.py                   \n",
    "            |-- ForecasterMultiseriesRecursive.py\n",
    "            |-- ForecasterSarimax.py\n",
    "            |-- ForecasterEquivalentDate.py             \n",
    "            |-- __init__.py\n",
    "        |-- direct\n",
    "            |-- ForecasterDirect.py\n",
    "            |-- ForecasterMultivariateDirect.py\n",
    "            |-- __init__.py\n",
    "        |-- deep_learning\n",
    "            |-- ForecasterRnn.py\n",
    "        |-- base\n",
    "            |-- ForecasterBase.py\n",
    "        |-- __init__.py"
   ]
  }
 ],
 "metadata": {
  "kernelspec": {
   "display_name": "skforecast_14_p12",
   "language": "python",
   "name": "python3"
  },
  "language_info": {
   "codemirror_mode": {
    "name": "ipython",
    "version": 3
   },
   "file_extension": ".py",
   "mimetype": "text/x-python",
   "name": "python",
   "nbconvert_exporter": "python",
   "pygments_lexer": "ipython3",
   "version": "3.12.4"
  },
  "orig_nbformat": 4
 },
 "nbformat": 4,
 "nbformat_minor": 2
}
