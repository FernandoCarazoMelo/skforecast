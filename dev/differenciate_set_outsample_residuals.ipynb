{
 "cells": [
  {
   "cell_type": "code",
   "execution_count": 42,
   "metadata": {},
   "outputs": [
    {
     "name": "stdout",
     "output_type": "stream",
     "text": [
      "The autoreload extension is already loaded. To reload it, use:\n",
      "  %reload_ext autoreload\n",
      "/home/ubuntu/varios/skforecast\n"
     ]
    }
   ],
   "source": [
    "%load_ext autoreload\n",
    "%autoreload 2\n",
    "import sys\n",
    "from pathlib import Path\n",
    "path = str(Path.cwd().parent)\n",
    "print(path)\n",
    "sys.path.insert(1, path)"
   ]
  },
  {
   "cell_type": "code",
   "execution_count": 43,
   "metadata": {},
   "outputs": [],
   "source": [
    "import pandas as pd\n",
    "import numpy as np\n",
    "import os\n",
    "from skforecast.ForecasterAutoreg import ForecasterAutoreg\n",
    "from skforecast.datasets import fetch_dataset\n",
    "from lightgbm import LGBMRegressor\n",
    "from sklearn.metrics import mean_squared_error\n",
    "from sklearn.preprocessing import StandardScaler"
   ]
  },
  {
   "cell_type": "code",
   "execution_count": 44,
   "metadata": {},
   "outputs": [
    {
     "name": "stdout",
     "output_type": "stream",
     "text": [
      "h2o\n",
      "---\n",
      "Monthly expenditure ($AUD) on corticosteroid drugs that the Australian health\n",
      "system had between 1991 and 2008.\n",
      "Hyndman R (2023). fpp3: Data for Forecasting: Principles and Practice(3rd\n",
      "Edition). http://pkg.robjhyndman.com/fpp3package/,https://github.com/robjhyndman\n",
      "/fpp3package, http://OTexts.com/fpp3.\n",
      "Shape of the dataset: (204, 2)\n"
     ]
    }
   ],
   "source": [
    "# Download data\n",
    "# ==============================================================================\n",
    "data = fetch_dataset(\n",
    "    name=\"h2o\", raw=True, kwargs_read_csv={\"names\": [\"y\", \"datetime\"], \"header\": 0}\n",
    ")\n",
    "\n",
    "# Data preprocessing\n",
    "# ==============================================================================\n",
    "data['datetime'] = pd.to_datetime(data['datetime'], format='%Y-%m-%d')\n",
    "data = data.set_index('datetime')\n",
    "data = data.asfreq('MS')\n",
    "data = data['y']\n",
    "data = data.sort_index()\n",
    "\n",
    "# Split train-test\n",
    "# ==============================================================================\n",
    "steps = 36\n",
    "data_train = data[:-steps]\n",
    "data_test  = data[-steps:]"
   ]
  },
  {
   "cell_type": "code",
   "execution_count": 45,
   "metadata": {},
   "outputs": [],
   "source": [
    "forecaster = ForecasterAutoreg(\n",
    "                 regressor = LGBMRegressor(random_state=123, verbose=-1),\n",
    "                 lags          = 15,\n",
    "                 differentiation=1\n",
    "             )\n",
    "\n",
    "forecaster.fit(y=data_train)"
   ]
  },
  {
   "cell_type": "code",
   "execution_count": 46,
   "metadata": {},
   "outputs": [
    {
     "data": {
      "text/plain": [
       "2005-07-01    0.909529\n",
       "2005-08-01    0.941633\n",
       "2005-09-01    1.007650\n",
       "Freq: MS, Name: pred, dtype: float64"
      ]
     },
     "execution_count": 46,
     "metadata": {},
     "output_type": "execute_result"
    }
   ],
   "source": [
    "predictions = forecaster.predict(steps=36)\n",
    "predictions.head(3)"
   ]
  },
  {
   "cell_type": "code",
   "execution_count": 47,
   "metadata": {},
   "outputs": [],
   "source": [
    "# forecaster.set_out_sample_residuals(\n",
    "#     residuals = data_test - predictions\n",
    "# )"
   ]
  },
  {
   "cell_type": "code",
   "execution_count": 48,
   "metadata": {},
   "outputs": [
    {
     "name": "stderr",
     "output_type": "stream",
     "text": [
      "/home/ubuntu/varios/skforecast/skforecast/ForecasterAutoreg/ForecasterAutoreg.py:2054: UserWarning: Residuals are being set directly in a Forecaster with a transformation or differentiation applied. Ensure residuals are pre-transformed or pre-differentiated. Otherwise, pass `y_true` and `y_pred` instead of `residuals` to apply transformations automatically.\n",
      "  warnings.warn(\n"
     ]
    }
   ],
   "source": [
    "forecaster.set_out_sample_residuals(residuals=forecaster.in_sample_residuals_)"
   ]
  },
  {
   "cell_type": "code",
   "execution_count": null,
   "metadata": {},
   "outputs": [],
   "source": []
  },
  {
   "cell_type": "code",
   "execution_count": 5,
   "metadata": {},
   "outputs": [
    {
     "name": "stdout",
     "output_type": "stream",
     "text": [
      "|-- Sarimax\n",
      "    |-- Sarimax.py\n",
      "    |-- __init__.py\n",
      "|-- feature_selection\n",
      "    |-- feature_selection.py\n",
      "    |-- __init__.py\n",
      "|-- plot\n",
      "    |-- plot.py\n",
      "    |-- __init__.py\n",
      "|-- model_selection_sarimax\n",
      "    |-- test\n",
      "    |-- __init__.py\n",
      "    |-- model_selection_sarimax.py\n",
      "|-- exceptions\n",
      "    |-- exceptions.py\n",
      "    |-- __init__.py\n",
      "|-- ForecasterAutoregCustom\n",
      "    |-- ForecasterAutoregCustom.py\n",
      "    |-- __init__.py\n",
      "|-- ForecasterAutoregMultiVariate\n",
      "    |-- __init__.py\n",
      "    |-- ForecasterAutoregMultiVariate.py\n",
      "|-- metrics\n",
      "    |-- metrics.py\n",
      "    |-- __init__.py\n",
      "|-- preprocessing\n",
      "    |-- preprocessing.py\n",
      "    |-- test\n",
      "    |-- __init__.py\n",
      "|-- ForecasterSarimax\n",
      "    |-- ForecasterSarimax.py\n",
      "    |-- __init__.py\n",
      "|-- datasets\n",
      "    |-- datasets.py\n",
      "    |-- __init__.py\n",
      "|-- ForecasterBaseline\n",
      "    |-- ForecasterEquivalentDate.py\n",
      "    |-- __init__.py\n",
      "|-- model_selection\n",
      "    |-- _split.py\n",
      "    |-- _search.py\n",
      "    |-- _validation.py\n",
      "    |-- model_selection_old.py\n",
      "    |-- __init__.py\n",
      "|-- __init__.py\n",
      "|-- ForecasterRnn\n",
      "    |-- utils.py\n",
      "    |-- __init__.py\n",
      "    |-- ForecasterRnn.py\n",
      "|-- model_selection_multiseries\n",
      "    |-- model_selection_multiseries.py\n",
      "    |-- __init__.py\n",
      "|-- ForecasterBase\n",
      "    |-- __init__.py\n",
      "    |-- ForecasterBase.py\n",
      "|-- utils\n",
      "    |-- utils.py\n",
      "    |-- __init__.py\n",
      "|-- ForecasterAutoregDirect\n",
      "    |-- ForecasterAutoregDirect.py\n",
      "    |-- __init__.py\n",
      "|-- ForecasterAutoregMultiSeriesCustom\n",
      "    |-- __init__.py\n",
      "    |-- ForecasterAutoregMultiSeriesCustom.py\n",
      "|-- ForecasterAutoregMultiSeries\n",
      "    |-- ForecasterAutoregMultiSeries.py\n",
      "    |-- __init__.py\n",
      "|-- ForecasterAutoreg\n",
      "    |-- ForecasterAutoreg.py\n",
      "    |-- __init__.py\n"
     ]
    }
   ],
   "source": [
    "def print_directory_tree(startpath, indent_level=0, ignore_folders=None):\n",
    "    if ignore_folders is None:\n",
    "        ignore_folders = ['__pycache__', 'tests']  # Default folders to ignore\n",
    "\n",
    "    for item in os.listdir(startpath):\n",
    "        path = os.path.join(startpath, item)\n",
    "\n",
    "        # Skip ignored folders\n",
    "        if os.path.isdir(path) and item in ignore_folders:\n",
    "            continue\n",
    "\n",
    "        print(' ' * indent_level + '|-- ' + item)  # Print the item with indent\n",
    "\n",
    "        # Recursively call for subdirectories\n",
    "        if os.path.isdir(path):\n",
    "            print_directory_tree(path, indent_level + 4, ignore_folders)\n",
    "\n",
    "# Example usage: Set the path of the directory you want to print\n",
    "directory_path = '/home/ubuntu/varios/skforecast/skforecast'\n",
    "print_directory_tree(directory_path , ignore_folders=['__pycache__', 'tests', 'htmlcov'])"
   ]
  },
  {
   "cell_type": "markdown",
   "metadata": {},
   "source": [
    "    \n",
    "    |-- skforecast\n",
    "        |-- autoreg\n",
    "            |-- ForecasterRecursive.py                   \n",
    "            |-- ForecasterMultiseriesRecursive.py\n",
    "            |-- ForecasterSarimax.py\n",
    "            |-- ForecasterEquivalentDate.py             \n",
    "            |-- __init__.py\n",
    "        |-- direct\n",
    "            |-- ForecasterDirect.py\n",
    "            |-- ForecasterMultivariateDirect.py\n",
    "            |-- __init__.py\n",
    "        |-- deep_learning\n",
    "            |-- ForecasterRnn.py\n",
    "        |-- base\n",
    "            |-- ForecasterBase.py\n",
    "        |-- __init__.py"
   ]
  }
 ],
 "metadata": {
  "kernelspec": {
   "display_name": "skforecast_14_py12",
   "language": "python",
   "name": "python3"
  },
  "language_info": {
   "codemirror_mode": {
    "name": "ipython",
    "version": 3
   },
   "file_extension": ".py",
   "mimetype": "text/x-python",
   "name": "python",
   "nbconvert_exporter": "python",
   "pygments_lexer": "ipython3",
   "version": "3.12.5"
  },
  "orig_nbformat": 4
 },
 "nbformat": 4,
 "nbformat_minor": 2
}
