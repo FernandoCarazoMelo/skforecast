{
 "cells": [
  {
   "cell_type": "code",
   "execution_count": 94,
   "metadata": {},
   "outputs": [
    {
     "name": "stdout",
     "output_type": "stream",
     "text": [
      "The autoreload extension is already loaded. To reload it, use:\n",
      "  %reload_ext autoreload\n",
      "c:\\Users\\Joaquín Amat\\Documents\\GitHub\\skforecast\n"
     ]
    }
   ],
   "source": [
    "%load_ext autoreload\n",
    "%autoreload 2\n",
    "import sys\n",
    "from pathlib import Path\n",
    "path = str(Path.cwd().parent)\n",
    "print(path)\n",
    "sys.path.insert(1, path)"
   ]
  },
  {
   "cell_type": "code",
   "execution_count": 95,
   "metadata": {},
   "outputs": [],
   "source": [
    "import pandas as pd\n",
    "import numpy as np\n",
    "import os\n",
    "from skforecast.ForecasterAutoreg import ForecasterAutoreg\n",
    "from skforecast.datasets import fetch_dataset\n",
    "from lightgbm import LGBMRegressor\n",
    "from sklearn.metrics import mean_squared_error\n",
    "from sklearn.preprocessing import StandardScaler"
   ]
  },
  {
   "cell_type": "code",
   "execution_count": 96,
   "metadata": {},
   "outputs": [
    {
     "name": "stdout",
     "output_type": "stream",
     "text": [
      "h2o\n",
      "---\n",
      "Monthly expenditure ($AUD) on corticosteroid drugs that the Australian health\n",
      "system had between 1991 and 2008.\n",
      "Hyndman R (2023). fpp3: Data for Forecasting: Principles and Practice(3rd\n",
      "Edition). http://pkg.robjhyndman.com/fpp3package/,https://github.com/robjhyndman\n",
      "/fpp3package, http://OTexts.com/fpp3.\n",
      "Shape of the dataset: (204, 2)\n"
     ]
    }
   ],
   "source": [
    "# Download data\n",
    "# ==============================================================================\n",
    "data = fetch_dataset(\n",
    "    name=\"h2o\", raw=True, kwargs_read_csv={\"names\": [\"y\", \"datetime\"], \"header\": 0}\n",
    ")\n",
    "\n",
    "# Data preprocessing\n",
    "# ==============================================================================\n",
    "data['datetime'] = pd.to_datetime(data['datetime'], format='%Y-%m-%d')\n",
    "data = data.set_index('datetime')\n",
    "data = data.asfreq('MS')\n",
    "data = data['y']\n",
    "data = data.sort_index()\n",
    "\n",
    "# Split train-test\n",
    "# ==============================================================================\n",
    "steps = 36\n",
    "data_train = data[:-steps]\n",
    "data_test  = data[-steps:]"
   ]
  },
  {
   "cell_type": "code",
   "execution_count": 107,
   "metadata": {},
   "outputs": [
    {
     "name": "stderr",
     "output_type": "stream",
     "text": [
      "c:\\anaconda\\envs\\skforecast_14_p12\\Lib\\site-packages\\sklearn\\base.py:493: UserWarning: X does not have valid feature names, but StandardScaler was fitted with feature names\n",
      "  warnings.warn(\n",
      "c:\\anaconda\\envs\\skforecast_14_p12\\Lib\\site-packages\\sklearn\\base.py:493: UserWarning: X does not have valid feature names, but StandardScaler was fitted with feature names\n",
      "  warnings.warn(\n",
      "c:\\Users\\Joaquín Amat\\Documents\\GitHub\\skforecast\\skforecast\\ForecasterAutoreg\\ForecasterAutoreg.py:2208: UserWarning: The following bins have no out of sample residuals: [0, 1, 2, 6, 7, 8, 9]. No predicted values fall in the interval [(np.float64(-2.5224352346804486), np.float64(-1.066776801919726)), (np.float64(-1.066776801919726), np.float64(-0.7422817802186261)), (np.float64(-0.7422817802186261), np.float64(-0.4830055319357194)), (np.float64(0.280316075449327), np.float64(0.5305142660355221)), (np.float64(0.5305142660355221), np.float64(0.7783559210272565)), (np.float64(0.7783559210272565), np.float64(1.2487571935517126)), (np.float64(1.2487571935517126), np.float64(2.1997299371173162))]. Empty bins will be filled with a random sample of residuals from the other bins.\n",
      "  warnings.warn(\n",
      "c:\\anaconda\\envs\\skforecast_14_p12\\Lib\\site-packages\\sklearn\\base.py:493: UserWarning: X does not have valid feature names, but StandardScaler was fitted with feature names\n",
      "  warnings.warn(\n",
      "c:\\anaconda\\envs\\skforecast_14_p12\\Lib\\site-packages\\sklearn\\base.py:493: UserWarning: X does not have valid feature names, but StandardScaler was fitted with feature names\n",
      "  warnings.warn(\n"
     ]
    }
   ],
   "source": [
    "forecaster = ForecasterAutoreg(\n",
    "                 regressor = LGBMRegressor(random_state=123, verbose=-1),\n",
    "                 lags            = 15,\n",
    "                 differentiation = 1,\n",
    "                 transformer_y  = StandardScaler()\n",
    "             )\n",
    "\n",
    "forecaster.fit(y=data_train)\n",
    "predictions = forecaster.predict(steps=36)\n",
    "\n",
    "y_test = forecaster.transformer_y.transform(data_test.to_numpy().reshape(-1, 1)).flatten()\n",
    "y_true = forecaster.transformer_y.transform(predictions.to_numpy().reshape(-1, 1)).flatten()\n",
    "y_test = forecaster.differentiator.transform(y_test)[forecaster.differentiation:]\n",
    "y_true = forecaster.differentiator.transform(y_true)[forecaster.differentiation:]\n",
    "residuals = y_test - y_true\n",
    "residuals = np.sort(residuals)\n",
    "\n",
    "forecaster.set_out_sample_residuals(\n",
    "    y_true=data_test,\n",
    "    y_pred = predictions\n",
    ")\n",
    "out_sample_residuals_ = np.sort(forecaster.out_sample_residuals_)\n",
    "np.testing.assert_array_almost_equal(residuals, out_sample_residuals_)\n",
    "\n",
    "\n",
    "from sklearn.linear_model import LinearRegression\n",
    "\n",
    "def test_forecaster_set_outsample_residuals_when_transformer_y_and_diferentiation():\n",
    "    data_train = pd.Series(np.random.normal(loc=0, scale=1, size=100), index=range(100))\n",
    "    data_test  = pd.Series(np.random.normal(loc=0, scale=1, size=36), index=range(100, 136))\n",
    "    forecaster = ForecasterAutoreg(\n",
    "                     regressor       = LinearRegression(),\n",
    "                     lags            = 5,\n",
    "                     differentiation = 1,\n",
    "                     transformer_y   = StandardScaler()\n",
    "                 )\n",
    "\n",
    "    forecaster.fit(y=data_train)\n",
    "    predictions = forecaster.predict(steps=36)\n",
    "    forecaster.set_out_sample_residuals(\n",
    "        y_true = data_test,\n",
    "        y_pred = predictions\n",
    "    )\n",
    "\n",
    "    y_test = forecaster.transformer_y.transform(data_test.to_numpy().reshape(-1, 1)).flatten()\n",
    "    y_true = forecaster.transformer_y.transform(predictions.to_numpy().reshape(-1, 1)).flatten()\n",
    "    y_test = forecaster.differentiator.transform(y_test)[forecaster.differentiation:]\n",
    "    y_true = forecaster.differentiator.transform(y_true)[forecaster.differentiation:]\n",
    "    residuals = y_test - y_true\n",
    "    residuals = np.sort(residuals)\n",
    "    out_sample_residuals_ = np.sort(forecaster.out_sample_residuals_)\n",
    "\n",
    "    np.testing.assert_array_almost_equal(residuals, out_sample_residuals_)\n",
    "\n",
    "test_forecaster_set_outsample_residuals_when_transformer_y_and_diferentiation()"
   ]
  },
  {
   "cell_type": "code",
   "execution_count": 106,
   "metadata": {},
   "outputs": [
    {
     "name": "stderr",
     "output_type": "stream",
     "text": [
      "c:\\Users\\Joaquín Amat\\Documents\\GitHub\\skforecast\\skforecast\\ForecasterAutoreg\\ForecasterAutoreg.py:2208: UserWarning: The following bins have no out of sample residuals: [0, 1, 2, 7, 8, 9]. No predicted values fall in the interval [(np.float64(-2.244673021583756), np.float64(-1.2832276316908933)), (np.float64(-1.2832276316908933), np.float64(-0.820139430689044)), (np.float64(-0.820139430689044), np.float64(-0.3962308822146789)), (np.float64(0.4692995557118407), np.float64(0.7636430220136924)), (np.float64(0.7636430220136924), np.float64(1.1100349666030227)), (np.float64(1.1100349666030227), np.float64(1.8801110712017))]. Empty bins will be filled with a random sample of residuals from the other bins.\n",
      "  warnings.warn(\n",
      "c:\\anaconda\\envs\\skforecast_14_p12\\Lib\\site-packages\\sklearn\\base.py:493: UserWarning: X does not have valid feature names, but StandardScaler was fitted with feature names\n",
      "  warnings.warn(\n",
      "c:\\anaconda\\envs\\skforecast_14_p12\\Lib\\site-packages\\sklearn\\base.py:493: UserWarning: X does not have valid feature names, but StandardScaler was fitted with feature names\n",
      "  warnings.warn(\n"
     ]
    },
    {
     "data": {
      "text/plain": [
       "100    1.083226\n",
       "101    0.908652\n",
       "102    1.245104\n",
       "103    1.019528\n",
       "104    1.071558\n",
       "105    1.039518\n",
       "106    1.137090\n",
       "107    1.115335\n",
       "108    1.123438\n",
       "109    1.117930\n",
       "110    1.149029\n",
       "111    1.159826\n",
       "112    1.170058\n",
       "113    1.175110\n",
       "114    1.189643\n",
       "115    1.202465\n",
       "116    1.214292\n",
       "117    1.223804\n",
       "118    1.235226\n",
       "119    1.247087\n",
       "120    1.258880\n",
       "121    1.269863\n",
       "122    1.281043\n",
       "123    1.292468\n",
       "124    1.304007\n",
       "125    1.315339\n",
       "126    1.326626\n",
       "127    1.337968\n",
       "128    1.349378\n",
       "129    1.360756\n",
       "130    1.372102\n",
       "131    1.383448\n",
       "132    1.394818\n",
       "133    1.406189\n",
       "134    1.417551\n",
       "135    1.428908\n",
       "Name: pred, dtype: float64"
      ]
     },
     "execution_count": 106,
     "metadata": {},
     "output_type": "execute_result"
    }
   ],
   "source": [
    "data_train = pd.Series(np.random.normal(loc=0, scale=1, size=100), index=range(100))\n",
    "data_test  = pd.Series(np.random.normal(loc=0, scale=1, size=36), index=range(100, 136))\n",
    "forecaster = ForecasterAutoreg(\n",
    "                    regressor       = LinearRegression(),\n",
    "                    lags            = 5,\n",
    "                    differentiation = 1,\n",
    "                    transformer_y   = StandardScaler()\n",
    "                )\n",
    "\n",
    "forecaster.fit(y=data_train)\n",
    "predictions = forecaster.predict(steps=36)\n",
    "forecaster.set_out_sample_residuals(\n",
    "    y_true = data_test,\n",
    "    y_pred = predictions\n",
    ")\n",
    "\n",
    "y_test = forecaster.transformer_y.transform(data_test.to_numpy().reshape(-1, 1)).flatten()\n",
    "y_true = forecaster.transformer_y.transform(predictions.to_numpy().reshape(-1, 1)).flatten()\n",
    "y_test = forecaster.differentiator.transform(y_test)[forecaster.differentiation:]\n",
    "y_true = forecaster.differentiator.transform(y_true)[forecaster.differentiation:]\n",
    "residuals = y_test - y_true\n",
    "residuals = np.sort(residuals)\n",
    "out_sample_residuals_ = np.sort(forecaster.out_sample_residuals_)\n",
    "\n",
    "predictions"
   ]
  },
  {
   "cell_type": "code",
   "execution_count": 110,
   "metadata": {},
   "outputs": [
    {
     "data": {
      "text/plain": [
       "np.int64(10)"
      ]
     },
     "execution_count": 110,
     "metadata": {},
     "output_type": "execute_result"
    }
   ],
   "source": [
    "forecaster.binner.n_bins_[0]"
   ]
  },
  {
   "cell_type": "code",
   "execution_count": 118,
   "metadata": {},
   "outputs": [
    {
     "data": {
      "text/plain": [
       "np.int64(251)"
      ]
     },
     "execution_count": 118,
     "metadata": {},
     "output_type": "execute_result"
    }
   ],
   "source": [
    "2510//forecaster.binner.n_bins_[0]"
   ]
  },
  {
   "cell_type": "code",
   "execution_count": null,
   "metadata": {},
   "outputs": [],
   "source": []
  },
  {
   "cell_type": "code",
   "execution_count": 83,
   "metadata": {},
   "outputs": [
    {
     "ename": "FileNotFoundError",
     "evalue": "[WinError 3] The system cannot find the path specified: '/home/ubuntu/varios/skforecast/skforecast'",
     "output_type": "error",
     "traceback": [
      "\u001b[1;31m---------------------------------------------------------------------------\u001b[0m",
      "\u001b[1;31mFileNotFoundError\u001b[0m                         Traceback (most recent call last)",
      "Cell \u001b[1;32mIn[83], line 20\u001b[0m\n\u001b[0;32m     18\u001b[0m \u001b[38;5;66;03m# Example usage: Set the path of the directory you want to print\u001b[39;00m\n\u001b[0;32m     19\u001b[0m directory_path \u001b[38;5;241m=\u001b[39m \u001b[38;5;124m'\u001b[39m\u001b[38;5;124m/home/ubuntu/varios/skforecast/skforecast\u001b[39m\u001b[38;5;124m'\u001b[39m\n\u001b[1;32m---> 20\u001b[0m \u001b[43mprint_directory_tree\u001b[49m\u001b[43m(\u001b[49m\u001b[43mdirectory_path\u001b[49m\u001b[43m \u001b[49m\u001b[43m,\u001b[49m\u001b[43m \u001b[49m\u001b[43mignore_folders\u001b[49m\u001b[38;5;241;43m=\u001b[39;49m\u001b[43m[\u001b[49m\u001b[38;5;124;43m'\u001b[39;49m\u001b[38;5;124;43m__pycache__\u001b[39;49m\u001b[38;5;124;43m'\u001b[39;49m\u001b[43m,\u001b[49m\u001b[43m \u001b[49m\u001b[38;5;124;43m'\u001b[39;49m\u001b[38;5;124;43mtests\u001b[39;49m\u001b[38;5;124;43m'\u001b[39;49m\u001b[43m,\u001b[49m\u001b[43m \u001b[49m\u001b[38;5;124;43m'\u001b[39;49m\u001b[38;5;124;43mhtmlcov\u001b[39;49m\u001b[38;5;124;43m'\u001b[39;49m\u001b[43m]\u001b[49m\u001b[43m)\u001b[49m\n",
      "Cell \u001b[1;32mIn[83], line 5\u001b[0m, in \u001b[0;36mprint_directory_tree\u001b[1;34m(startpath, indent_level, ignore_folders)\u001b[0m\n\u001b[0;32m      2\u001b[0m \u001b[38;5;28;01mif\u001b[39;00m ignore_folders \u001b[38;5;129;01mis\u001b[39;00m \u001b[38;5;28;01mNone\u001b[39;00m:\n\u001b[0;32m      3\u001b[0m     ignore_folders \u001b[38;5;241m=\u001b[39m [\u001b[38;5;124m'\u001b[39m\u001b[38;5;124m__pycache__\u001b[39m\u001b[38;5;124m'\u001b[39m, \u001b[38;5;124m'\u001b[39m\u001b[38;5;124mtests\u001b[39m\u001b[38;5;124m'\u001b[39m]  \u001b[38;5;66;03m# Default folders to ignore\u001b[39;00m\n\u001b[1;32m----> 5\u001b[0m \u001b[38;5;28;01mfor\u001b[39;00m item \u001b[38;5;129;01min\u001b[39;00m \u001b[43mos\u001b[49m\u001b[38;5;241;43m.\u001b[39;49m\u001b[43mlistdir\u001b[49m\u001b[43m(\u001b[49m\u001b[43mstartpath\u001b[49m\u001b[43m)\u001b[49m:\n\u001b[0;32m      6\u001b[0m     path \u001b[38;5;241m=\u001b[39m os\u001b[38;5;241m.\u001b[39mpath\u001b[38;5;241m.\u001b[39mjoin(startpath, item)\n\u001b[0;32m      8\u001b[0m     \u001b[38;5;66;03m# Skip ignored folders\u001b[39;00m\n",
      "\u001b[1;31mFileNotFoundError\u001b[0m: [WinError 3] The system cannot find the path specified: '/home/ubuntu/varios/skforecast/skforecast'"
     ]
    }
   ],
   "source": [
    "def print_directory_tree(startpath, indent_level=0, ignore_folders=None):\n",
    "    if ignore_folders is None:\n",
    "        ignore_folders = ['__pycache__', 'tests']  # Default folders to ignore\n",
    "\n",
    "    for item in os.listdir(startpath):\n",
    "        path = os.path.join(startpath, item)\n",
    "\n",
    "        # Skip ignored folders\n",
    "        if os.path.isdir(path) and item in ignore_folders:\n",
    "            continue\n",
    "\n",
    "        print(' ' * indent_level + '|-- ' + item)  # Print the item with indent\n",
    "\n",
    "        # Recursively call for subdirectories\n",
    "        if os.path.isdir(path):\n",
    "            print_directory_tree(path, indent_level + 4, ignore_folders)\n",
    "\n",
    "# Example usage: Set the path of the directory you want to print\n",
    "directory_path = '/home/ubuntu/varios/skforecast/skforecast'\n",
    "print_directory_tree(directory_path , ignore_folders=['__pycache__', 'tests', 'htmlcov'])"
   ]
  },
  {
   "cell_type": "markdown",
   "metadata": {},
   "source": [
    "    \n",
    "    |-- skforecast\n",
    "        |-- autoreg\n",
    "            |-- ForecasterRecursive.py                   \n",
    "            |-- ForecasterMultiseriesRecursive.py\n",
    "            |-- ForecasterSarimax.py\n",
    "            |-- ForecasterEquivalentDate.py             \n",
    "            |-- __init__.py\n",
    "        |-- direct\n",
    "            |-- ForecasterDirect.py\n",
    "            |-- ForecasterMultivariateDirect.py\n",
    "            |-- __init__.py\n",
    "        |-- deep_learning\n",
    "            |-- ForecasterRnn.py\n",
    "        |-- base\n",
    "            |-- ForecasterBase.py\n",
    "        |-- __init__.py"
   ]
  }
 ],
 "metadata": {
  "kernelspec": {
   "display_name": "skforecast_14_p12",
   "language": "python",
   "name": "python3"
  },
  "language_info": {
   "codemirror_mode": {
    "name": "ipython",
    "version": 3
   },
   "file_extension": ".py",
   "mimetype": "text/x-python",
   "name": "python",
   "nbconvert_exporter": "python",
   "pygments_lexer": "ipython3",
   "version": "3.12.4"
  },
  "orig_nbformat": 4
 },
 "nbformat": 4,
 "nbformat_minor": 2
}
