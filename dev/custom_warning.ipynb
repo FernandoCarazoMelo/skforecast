{
 "cells": [
  {
   "cell_type": "code",
   "execution_count": 10,
   "metadata": {},
   "outputs": [
    {
     "data": {
      "text/plain": [
       "'/home/ubuntu/varios/skforecast'"
      ]
     },
     "execution_count": 10,
     "metadata": {},
     "output_type": "execute_result"
    }
   ],
   "source": [
    "%load_ext autoreload\n",
    "%autoreload 2\n",
    "import sys\n",
    "from pathlib import Path\n",
    "sys.path.insert(1, str(Path.cwd().parent))\n",
    "str(Path.cwd().parent)"
   ]
  },
  {
   "cell_type": "code",
   "execution_count": 1,
   "metadata": {},
   "outputs": [],
   "source": [
    "import warnings"
   ]
  },
  {
   "cell_type": "code",
   "execution_count": 4,
   "metadata": {},
   "outputs": [],
   "source": [
    "class MissingValuesExogWarning(UserWarning):\n",
    "    \"\"\"\n",
    "    Warning used to notify there are missing values in the exogenous data.\n",
    "    This warning occurs when the input data passed to the `exog` arguments contains\n",
    "    missing values. Most machine learning models do not accept missing values, therefore\n",
    "    the forecaster `fit` and `predict` may fail.\n",
    "    \"\"\"\n",
    "    def __init__(self, message):\n",
    "        self.message = message\n",
    "\n",
    "    def __str__(self):\n",
    "        extra_message = (\n",
    "            \"\\n You can suppress this warning using: \"\n",
    "            \"warnings.simplefilter('ignore', category=MissingValuesExogWarning)\"\n",
    "        )\n",
    "        return self.message + \" \" + extra_message"
   ]
  },
  {
   "cell_type": "code",
   "execution_count": 5,
   "metadata": {},
   "outputs": [
    {
     "name": "stderr",
     "output_type": "stream",
     "text": [
      "/tmp/ipykernel_13959/1480810820.py:1: MissingValuesExogWarning: Exog data contain missing values \n",
      " You can suppress this warning using: warnings.simplefilter('ignore', category=MissingValuesExogWarning)\n",
      "  warnings.warn('Exog data contain missing values', MissingValuesExogWarning)\n"
     ]
    }
   ],
   "source": [
    "warnings.warn('Exog data contain missing values', MissingValuesExogWarning)"
   ]
  },
  {
   "cell_type": "code",
   "execution_count": 6,
   "metadata": {},
   "outputs": [],
   "source": [
    "warnings.simplefilter('ignore', category=MissingValuesExogWarning)\n"
   ]
  },
  {
   "cell_type": "code",
   "execution_count": 7,
   "metadata": {},
   "outputs": [],
   "source": [
    "warnings.warn('Exog data contain missing values', MissingValuesExogWarning)"
   ]
  }
 ],
 "metadata": {
  "kernelspec": {
   "display_name": "skforecast_py10",
   "language": "python",
   "name": "python3"
  },
  "language_info": {
   "codemirror_mode": {
    "name": "ipython",
    "version": 3
   },
   "file_extension": ".py",
   "mimetype": "text/x-python",
   "name": "python",
   "nbconvert_exporter": "python",
   "pygments_lexer": "ipython3",
   "version": "3.10.9"
  },
  "orig_nbformat": 4,
  "vscode": {
   "interpreter": {
    "hash": "6cf372b23b9916b33b4c23f9ee2e7d08e597eb711b766c11830fb054f7812cb1"
   }
  }
 },
 "nbformat": 4,
 "nbformat_minor": 2
}
