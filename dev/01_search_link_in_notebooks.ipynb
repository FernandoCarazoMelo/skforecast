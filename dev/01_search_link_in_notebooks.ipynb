{
 "cells": [
  {
   "cell_type": "markdown",
   "metadata": {},
   "source": [
    "# Search links in docs\n",
    "\n",
    "pip install nbformat"
   ]
  },
  {
   "cell_type": "code",
   "execution_count": 5,
   "metadata": {},
   "outputs": [
    {
     "name": "stdout",
     "output_type": "stream",
     "text": [
      "https://skforecast.org/0.12.1/user_guides/custom-predictors\n",
      "===========================================================\n",
      "No notebooks contain the specified text.\n",
      "No markdown files contain the specified text.\n",
      "===========================================================\n",
      "\n",
      "\n",
      "https://skforecast.org/latest/user_guides/custom-predictors\n",
      "===========================================================\n",
      "No notebooks contain the specified text.\n",
      "No markdown files contain the specified text.\n",
      "===========================================================\n",
      "\n",
      "\n"
     ]
    }
   ],
   "source": [
    "import os\n",
    "import nbformat\n",
    "\n",
    "def search_text_in_files(directory, search_text_base):\n",
    "    notebooks_with_text = []\n",
    "    markdown_files_with_text = []\n",
    "\n",
    "    # Recorre todos los archivos de la carpeta\n",
    "    for root, dirs, files in os.walk(directory):\n",
    "        for file in files:\n",
    "            file_path = os.path.join(root, file)\n",
    "            if file.endswith(\".ipynb\"):\n",
    "                with open(file_path, 'r', encoding='utf-8') as f:\n",
    "                    nb = nbformat.read(f, as_version=4)\n",
    "                    \n",
    "                    # Recorre todas las celdas del notebook\n",
    "                    for cell in nb.cells:\n",
    "                        if cell.cell_type == 'markdown':\n",
    "                            if search_text_base in cell.source:\n",
    "                                notebooks_with_text.append(file_path)\n",
    "                                break\n",
    "            elif file.endswith(\".md\"):\n",
    "                with open(file_path, 'r', encoding='utf-8') as f:\n",
    "                    content = f.read()\n",
    "                    if search_text_base in content:\n",
    "                        markdown_files_with_text.append(file_path)\n",
    "\n",
    "    return notebooks_with_text, markdown_files_with_text\n",
    "\n",
    "# Especifica la carpeta que contiene los notebooks y el texto a buscar\n",
    "directory_path = '../docs/'\n",
    "search_texts = [\n",
    "    \"https://skforecast.org/latest/introduction-forecasting/forecaster-parameters\",\n",
    "    \"https://skforecast.org/latest/introduction-forecasting/forecaster-attributes\",\n",
    "    \"https://skforecast.org/latest/user_guides/quick-start-skforecast\",\n",
    "    \"https://skforecast.org/latest/user_guides/input-data\",\n",
    "    \"https://skforecast.org/0.\",\n",
    "    \"https://skforecast.org/0.12.1/user_guides/plot-forecaster-residuals\",\n",
    "    \"https://skforecast.org/latest/user_guides/plot-forecaster-residuals\"\n",
    "]\n",
    "search_texts = [\n",
    "    \"https://skforecast.org/0.12.1/user_guides/custom-predictors\",\n",
    "    \"https://skforecast.org/latest/user_guides/custom-predictors\"\n",
    "]\n",
    "\n",
    "for search_text_base in search_texts:\n",
    "\n",
    "    print(search_text_base)\n",
    "    print(\"=\" * len(search_text_base))\n",
    "\n",
    "    # Llama a la función y obtén los notebooks que contienen el texto buscado\n",
    "    notebooks, markdown_files = search_text_in_files(directory_path, search_text_base)\n",
    "\n",
    "    # Imprime la lista de notebooks que contienen el texto\n",
    "    if notebooks:\n",
    "        print(\"The following notebooks contain the specified text:\")\n",
    "        for notebook in notebooks:\n",
    "            print(notebook)\n",
    "    else:\n",
    "        print(\"No notebooks contain the specified text.\")\n",
    "\n",
    "    if markdown_files:\n",
    "        print(\"\\nThe following markdown files contain the specified text:\")\n",
    "        for markdown_file in markdown_files:\n",
    "            print(markdown_file)\n",
    "    else:\n",
    "        print(\"No markdown files contain the specified text.\")\n",
    "\n",
    "    print(\"=\" * len(search_text_base))\n",
    "    print(\"\\n\")\n"
   ]
  },
  {
   "cell_type": "code",
   "execution_count": null,
   "metadata": {},
   "outputs": [],
   "source": []
  }
 ],
 "metadata": {
  "kernelspec": {
   "display_name": "skforecast_py10",
   "language": "python",
   "name": "python3"
  },
  "language_info": {
   "codemirror_mode": {
    "name": "ipython",
    "version": 3
   },
   "file_extension": ".py",
   "mimetype": "text/x-python",
   "name": "python",
   "nbconvert_exporter": "python",
   "pygments_lexer": "ipython3",
   "version": "3.11.5"
  },
  "orig_nbformat": 4,
  "vscode": {
   "interpreter": {
    "hash": "c78d62c1713fdacd99ef7c429003c7324b36fbb551fb8b6860a7ea73e9338235"
   }
  }
 },
 "nbformat": 4,
 "nbformat_minor": 2
}
