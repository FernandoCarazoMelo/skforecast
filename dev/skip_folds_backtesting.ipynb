{
 "cells": [
  {
   "cell_type": "code",
   "execution_count": 4,
   "metadata": {},
   "outputs": [
    {
     "name": "stdout",
     "output_type": "stream",
     "text": [
      "The autoreload extension is already loaded. To reload it, use:\n",
      "  %reload_ext autoreload\n"
     ]
    },
    {
     "data": {
      "text/plain": [
       "'/home/ubuntu/varios/skforecast'"
      ]
     },
     "execution_count": 4,
     "metadata": {},
     "output_type": "execute_result"
    }
   ],
   "source": [
    "%load_ext autoreload\n",
    "%autoreload 2\n",
    "import sys\n",
    "from pathlib import Path\n",
    "sys.path.insert(1, str(Path.cwd().parent))\n",
    "str(Path.cwd().parent)"
   ]
  },
  {
   "cell_type": "code",
   "execution_count": 5,
   "metadata": {},
   "outputs": [],
   "source": [
    "from skforecast.model_selection.model_selection import _create_backtesting_folds\n",
    "from skforecast.model_selection import backtesting_forecaster\n",
    "import pandas as pd\n",
    "import numpy as np"
   ]
  },
  {
   "cell_type": "code",
   "execution_count": 6,
   "metadata": {},
   "outputs": [
    {
     "name": "stdout",
     "output_type": "stream",
     "text": [
      "Information of backtesting process\n",
      "----------------------------------\n",
      "Number of observations used for initial training: 60\n",
      "Number of observations used for backtesting: 40\n",
      "    Number of folds: 4\n",
      "    Number skipped folds: 1 [2]\n",
      "    Number of steps per fold: 10\n",
      "    Number of steps to exclude from the end of each train set before test (gap): 0\n",
      "\n",
      "Fold: 0\n",
      "    Training:   2022-01-01 00:00:00 -- 2022-03-01 00:00:00  (n=60)\n",
      "    Validation: 2022-03-02 00:00:00 -- 2022-03-11 00:00:00  (n=10)\n",
      "Fold: 1\n",
      "    Training:   no training in this fold\n",
      "    Validation: 2022-03-12 00:00:00 -- 2022-03-21 00:00:00  (n=10)\n",
      "Fold: 2\n",
      "    Fold skipped\n",
      "Fold: 3\n",
      "    Training:   no training in this fold\n",
      "    Validation: 2022-04-01 00:00:00 -- 2022-04-10 00:00:00  (n=10)\n",
      "\n"
     ]
    },
    {
     "data": {
      "text/plain": [
       "[[[0, 60], [57, 60], [60, 70], [60, 70], False],\n",
       " [[0, 60], [67, 70], [70, 80], [70, 80], False],\n",
       " [[20, 80], [87, 90], [90, 100], [90, 100], False]]"
      ]
     },
     "execution_count": 6,
     "metadata": {},
     "output_type": "execute_result"
    }
   ],
   "source": [
    "y = pd.Series(np.arange(100))\n",
    "y.index = pd.date_range(start='2022-01-01', periods=100, freq='D')\n",
    "window_size = 3\n",
    "initial_train_size = 60\n",
    "test_size = 10\n",
    "refit = False\n",
    "\n",
    "folds = _create_backtesting_folds(\n",
    "            data                  = y,\n",
    "            window_size           = window_size,\n",
    "            initial_train_size    = initial_train_size,\n",
    "            test_size             = test_size,\n",
    "            externally_fitted     = False,\n",
    "            refit                 = 2,\n",
    "            fixed_train_size      = True,\n",
    "            gap                   = 0,\n",
    "            skip_folds            = [2],\n",
    "            allow_incomplete_fold = True,\n",
    "            return_all_indexes    = False,\n",
    "            verbose               = True\n",
    "        )\n",
    "\n",
    "folds"
   ]
  },
  {
   "cell_type": "code",
   "execution_count": 7,
   "metadata": {},
   "outputs": [
    {
     "name": "stdout",
     "output_type": "stream",
     "text": [
      "Information of backtesting process\n",
      "----------------------------------\n",
      "Number of observations used for initial training: 60\n",
      "Number of observations used for backtesting: 40\n",
      "    Number of folds: 4\n",
      "    Number skipped folds: 1 [2]\n",
      "    Number of steps per fold: 10\n",
      "    Number of steps to exclude from the end of each train set before test (gap): 0\n",
      "\n",
      "Fold: 0\n",
      "    Training:   2022-01-01 00:00:00 -- 2022-03-01 00:00:00  (n=60)\n",
      "    Validation: 2022-03-02 00:00:00 -- 2022-03-11 00:00:00  (n=10)\n",
      "Fold: 1\n",
      "    Training:   no training in this fold\n",
      "    Validation: 2022-03-12 00:00:00 -- 2022-03-21 00:00:00  (n=10)\n",
      "Fold: 2\n",
      "    Fold skipped\n",
      "Fold: 3\n",
      "    Training:   no training in this fold\n",
      "    Validation: 2022-04-01 00:00:00 -- 2022-04-10 00:00:00  (n=10)\n",
      "\n"
     ]
    },
    {
     "data": {
      "text/plain": [
       "[[[0, 60], [57, 60], [60, 70], [60, 70], False],\n",
       " [[0, 60], [67, 70], [70, 80], [70, 80], False],\n",
       " [[20, 80], [87, 90], [90, 100], [90, 100], False]]"
      ]
     },
     "execution_count": 7,
     "metadata": {},
     "output_type": "execute_result"
    }
   ],
   "source": [
    "y = pd.Series(np.arange(100))\n",
    "y.index = pd.date_range(start='2022-01-01', periods=100, freq='D')\n",
    "window_size = 3\n",
    "initial_train_size = 60\n",
    "test_size = 10\n",
    "refit = False\n",
    "\n",
    "folds = _create_backtesting_folds(\n",
    "            data                  = y,\n",
    "            window_size           = window_size,\n",
    "            initial_train_size    = initial_train_size,\n",
    "            test_size             = test_size,\n",
    "            externally_fitted     = False,\n",
    "            refit                 = 2,\n",
    "            fixed_train_size      = True,\n",
    "            gap                   = 0,\n",
    "            skip_folds            = [2],\n",
    "            allow_incomplete_fold = True,\n",
    "            return_all_indexes    = False,\n",
    "            verbose               = True\n",
    "        )\n",
    "\n",
    "folds"
   ]
  },
  {
   "cell_type": "code",
   "execution_count": 9,
   "metadata": {},
   "outputs": [
    {
     "name": "stdout",
     "output_type": "stream",
     "text": [
      "h2o\n",
      "---\n",
      "Monthly expenditure ($AUD) on corticosteroid drugs that the Australian health\n",
      "system had between 1991 and 2008.\n",
      "Hyndman R (2023). fpp3: Data for Forecasting: Principles and Practice(3rd\n",
      "Edition). http://pkg.robjhyndman.com/fpp3package/,https://github.com/robjhyndman\n",
      "/fpp3package, http://OTexts.com/fpp3.\n",
      "Shape of the dataset: (204, 2)\n",
      "Train dates      : 1991-07-01 00:00:00 --- 2002-01-01 00:00:00  (n=127)\n",
      "Validation dates : 2002-02-01 00:00:00 --- 2008-06-01 00:00:00  (n=77)\n",
      "Information of backtesting process\n",
      "----------------------------------\n",
      "Number of observations used for initial training: 127\n",
      "Number of observations used for backtesting: 77\n",
      "    Number of folds: 8\n",
      "    Number skipped folds: 4 [1, 3, 5, 7]\n",
      "    Number of steps per fold: 10\n",
      "    Number of steps to exclude from the end of each train set before test (gap): 0\n",
      "    Last fold only includes 7 observations.\n",
      "\n",
      "Fold: 0\n",
      "    Training:   1991-07-01 00:00:00 -- 2002-01-01 00:00:00  (n=127)\n",
      "    Validation: 2002-02-01 00:00:00 -- 2002-11-01 00:00:00  (n=10)\n",
      "Fold: 1\n",
      "    Fold skipped\n",
      "Fold: 2\n",
      "    Training:   no training in this fold\n",
      "    Validation: 2003-10-01 00:00:00 -- 2004-07-01 00:00:00  (n=10)\n",
      "Fold: 3\n",
      "    Fold skipped\n",
      "Fold: 4\n",
      "    Training:   no training in this fold\n",
      "    Validation: 2005-06-01 00:00:00 -- 2006-03-01 00:00:00  (n=10)\n",
      "Fold: 5\n",
      "    Fold skipped\n",
      "Fold: 6\n",
      "    Training:   no training in this fold\n",
      "    Validation: 2007-02-01 00:00:00 -- 2007-11-01 00:00:00  (n=10)\n",
      "Fold: 7\n",
      "    Fold skipped\n",
      "\n"
     ]
    },
    {
     "data": {
      "application/vnd.jupyter.widget-view+json": {
       "model_id": "100ca9d9e75e4eef9cd8fa53a753e55a",
       "version_major": 2,
       "version_minor": 0
      },
      "text/plain": [
       "  0%|          | 0/4 [00:00<?, ?it/s]"
      ]
     },
     "metadata": {},
     "output_type": "display_data"
    }
   ],
   "source": [
    "# Libraries\n",
    "# ==============================================================================\n",
    "import pandas as pd\n",
    "import matplotlib.pyplot as plt\n",
    "from skforecast.datasets import fetch_dataset\n",
    "from skforecast.ForecasterAutoreg import ForecasterAutoreg\n",
    "from skforecast.model_selection import backtesting_forecaster\n",
    "from sklearn.linear_model import Ridge\n",
    "from sklearn.ensemble import RandomForestRegressor\n",
    "from sklearn.metrics import mean_squared_error\n",
    "\n",
    "# Download data\n",
    "# ==============================================================================\n",
    "data = fetch_dataset(\n",
    "    name=\"h2o\", raw=True, kwargs_read_csv={\"names\": [\"y\", \"datetime\"], \"header\": 0}\n",
    ")\n",
    "\n",
    "# Data preprocessing\n",
    "# ==============================================================================\n",
    "data['datetime'] = pd.to_datetime(data['datetime'], format='%Y-%m-%d')\n",
    "data = data.set_index('datetime')\n",
    "data = data.asfreq('MS')\n",
    "data = data[['y']]\n",
    "data = data.sort_index()\n",
    "\n",
    "# Train-validation dates\n",
    "# ==============================================================================\n",
    "end_train = '2002-01-01 23:59:00'\n",
    "\n",
    "print(\n",
    "    f\"Train dates      : {data.index.min()} --- {data.loc[:end_train].index.max()}\"\n",
    "    f\"  (n={len(data.loc[:end_train])})\"\n",
    ")\n",
    "print(\n",
    "    f\"Validation dates : {data.loc[end_train:].index.min()} --- {data.index.max()}\"\n",
    "    f\"  (n={len(data.loc[end_train:])})\"\n",
    ")\n",
    "\n",
    "\n",
    "# Backtesting forecaster\n",
    "# ==============================================================================\n",
    "forecaster = ForecasterAutoreg(\n",
    "                 regressor = RandomForestRegressor(random_state=123),\n",
    "                 lags      = 15 \n",
    "             )\n",
    "\n",
    "metric, predictions = backtesting_forecaster(\n",
    "                          forecaster            = forecaster,\n",
    "                          y                     = data['y'],\n",
    "                          steps                 = 10,\n",
    "                          metric                = 'mean_squared_error',\n",
    "                          initial_train_size    = len(data.loc[:end_train]),\n",
    "                          fixed_train_size      = False,\n",
    "                          gap                   = 0,\n",
    "                          skip_folds            = 2,\n",
    "                          allow_incomplete_fold = True,\n",
    "                          refit                 = False,\n",
    "                          n_jobs                = 'auto',\n",
    "                          verbose               = True,\n",
    "                          show_progress         = True  \n",
    "                      )"
   ]
  }
 ],
 "metadata": {
  "kernelspec": {
   "display_name": "skforecast_py10",
   "language": "python",
   "name": "python3"
  },
  "language_info": {
   "codemirror_mode": {
    "name": "ipython",
    "version": 3
   },
   "file_extension": ".py",
   "mimetype": "text/x-python",
   "name": "python",
   "nbconvert_exporter": "python",
   "pygments_lexer": "ipython3",
   "version": "3.11.9"
  },
  "orig_nbformat": 4,
  "vscode": {
   "interpreter": {
    "hash": "c78d62c1713fdacd99ef7c429003c7324b36fbb551fb8b6860a7ea73e9338235"
   }
  }
 },
 "nbformat": 4,
 "nbformat_minor": 2
}
