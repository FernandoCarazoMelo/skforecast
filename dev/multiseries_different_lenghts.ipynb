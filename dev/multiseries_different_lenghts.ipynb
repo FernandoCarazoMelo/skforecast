{
 "cells": [
  {
   "cell_type": "code",
   "execution_count": 1,
   "metadata": {},
   "outputs": [
    {
     "data": {
      "text/plain": [
       "'c:\\\\Users\\\\jaesc2\\\\GitHub\\\\skforecast'"
      ]
     },
     "execution_count": 1,
     "metadata": {},
     "output_type": "execute_result"
    }
   ],
   "source": [
    "%load_ext autoreload\n",
    "%autoreload 2\n",
    "import sys\n",
    "from pathlib import Path\n",
    "sys.path.insert(1, str(Path.cwd().parent))\n",
    "str(Path.cwd().parent)"
   ]
  },
  {
   "cell_type": "code",
   "execution_count": 4,
   "metadata": {},
   "outputs": [],
   "source": [
    "# Libraries\n",
    "# ==============================================================================\n",
    "import numpy as np\n",
    "import pandas as pd\n",
    "import matplotlib.pyplot as plt\n",
    "from sklearn.preprocessing import StandardScaler\n",
    "from sklearn.linear_model import LinearRegression\n",
    "from sklearn.linear_model import Ridge\n",
    "from sklearn.metrics import mean_absolute_error\n",
    "\n",
    "from skforecast.ForecasterAutoregMultiSeries import ForecasterAutoregMultiSeries\n",
    "from skforecast.model_selection_multiseries import backtesting_forecaster_multiseries\n",
    "from skforecast.model_selection_multiseries import grid_search_forecaster_multiseries"
   ]
  },
  {
   "cell_type": "code",
   "execution_count": 46,
   "metadata": {},
   "outputs": [
    {
     "data": {
      "text/html": [
       "<div>\n",
       "<style scoped>\n",
       "    .dataframe tbody tr th:only-of-type {\n",
       "        vertical-align: middle;\n",
       "    }\n",
       "\n",
       "    .dataframe tbody tr th {\n",
       "        vertical-align: top;\n",
       "    }\n",
       "\n",
       "    .dataframe thead th {\n",
       "        text-align: right;\n",
       "    }\n",
       "</style>\n",
       "<table border=\"1\" class=\"dataframe\">\n",
       "  <thead>\n",
       "    <tr style=\"text-align: right;\">\n",
       "      <th></th>\n",
       "      <th>item_1</th>\n",
       "      <th>item_2</th>\n",
       "      <th>item_3</th>\n",
       "    </tr>\n",
       "    <tr>\n",
       "      <th>date</th>\n",
       "      <th></th>\n",
       "      <th></th>\n",
       "      <th></th>\n",
       "    </tr>\n",
       "  </thead>\n",
       "  <tbody>\n",
       "    <tr>\n",
       "      <th>2012-01-01</th>\n",
       "      <td>8.253175</td>\n",
       "      <td>21.047727</td>\n",
       "      <td>19.429739</td>\n",
       "    </tr>\n",
       "    <tr>\n",
       "      <th>2012-01-02</th>\n",
       "      <td>22.777826</td>\n",
       "      <td>26.578125</td>\n",
       "      <td>28.009863</td>\n",
       "    </tr>\n",
       "    <tr>\n",
       "      <th>2012-01-03</th>\n",
       "      <td>27.549099</td>\n",
       "      <td>31.751042</td>\n",
       "      <td>32.078922</td>\n",
       "    </tr>\n",
       "    <tr>\n",
       "      <th>2012-01-04</th>\n",
       "      <td>25.895533</td>\n",
       "      <td>24.567708</td>\n",
       "      <td>27.252276</td>\n",
       "    </tr>\n",
       "    <tr>\n",
       "      <th>2012-01-05</th>\n",
       "      <td>21.379238</td>\n",
       "      <td>18.191667</td>\n",
       "      <td>20.357737</td>\n",
       "    </tr>\n",
       "  </tbody>\n",
       "</table>\n",
       "</div>"
      ],
      "text/plain": [
       "               item_1     item_2     item_3\n",
       "date                                       \n",
       "2012-01-01   8.253175  21.047727  19.429739\n",
       "2012-01-02  22.777826  26.578125  28.009863\n",
       "2012-01-03  27.549099  31.751042  32.078922\n",
       "2012-01-04  25.895533  24.567708  27.252276\n",
       "2012-01-05  21.379238  18.191667  20.357737"
      ]
     },
     "execution_count": 46,
     "metadata": {},
     "output_type": "execute_result"
    }
   ],
   "source": [
    "# Data download\n",
    "# ==============================================================================\n",
    "url = (\n",
    "       'https://raw.githubusercontent.com/JoaquinAmatRodrigo/skforecast/master/'\n",
    "       'data/simulated_items_sales.csv'\n",
    ")\n",
    "data = pd.read_csv(url, sep=',')\n",
    "\n",
    "# Data preparation\n",
    "# ==============================================================================\n",
    "data['date'] = pd.to_datetime(data['date'], format='%Y-%m-%d')\n",
    "data = data.set_index('date')\n",
    "data = data.asfreq('D')\n",
    "data = data.sort_index()\n",
    "data.head()"
   ]
  },
  {
   "cell_type": "code",
   "execution_count": 47,
   "metadata": {},
   "outputs": [
    {
     "data": {
      "text/plain": [
       "(Timestamp('2012-01-01 00:00:00'), Timestamp('2015-01-01 00:00:00'))"
      ]
     },
     "execution_count": 47,
     "metadata": {},
     "output_type": "execute_result"
    }
   ],
   "source": [
    "data.index.min(), data.index.max()"
   ]
  },
  {
   "cell_type": "code",
   "execution_count": 48,
   "metadata": {},
   "outputs": [
    {
     "data": {
      "text/plain": [
       "item_1      0\n",
       "item_2    367\n",
       "item_3    560\n",
       "dtype: int64"
      ]
     },
     "execution_count": 48,
     "metadata": {},
     "output_type": "execute_result"
    }
   ],
   "source": [
    "# Delete observations of item_2 and item_3\n",
    "# ==============================================================================\n",
    "data['item_2'].loc[: '2013-01-01'] = np.nan\n",
    "data['item_3'].loc[: '2013-07-13'] = np.nan\n",
    "\n",
    "data.isna().sum()"
   ]
  },
  {
   "cell_type": "code",
   "execution_count": 49,
   "metadata": {},
   "outputs": [
    {
     "data": {
      "text/html": [
       "<div>\n",
       "<style scoped>\n",
       "    .dataframe tbody tr th:only-of-type {\n",
       "        vertical-align: middle;\n",
       "    }\n",
       "\n",
       "    .dataframe tbody tr th {\n",
       "        vertical-align: top;\n",
       "    }\n",
       "\n",
       "    .dataframe thead th {\n",
       "        text-align: right;\n",
       "    }\n",
       "</style>\n",
       "<table border=\"1\" class=\"dataframe\">\n",
       "  <thead>\n",
       "    <tr style=\"text-align: right;\">\n",
       "      <th></th>\n",
       "      <th>item_1</th>\n",
       "      <th>item_2</th>\n",
       "      <th>item_3</th>\n",
       "      <th>exog_1</th>\n",
       "    </tr>\n",
       "    <tr>\n",
       "      <th>date</th>\n",
       "      <th></th>\n",
       "      <th></th>\n",
       "      <th></th>\n",
       "      <th></th>\n",
       "    </tr>\n",
       "  </thead>\n",
       "  <tbody>\n",
       "    <tr>\n",
       "      <th>2012-01-01</th>\n",
       "      <td>8.253175</td>\n",
       "      <td>NaN</td>\n",
       "      <td>NaN</td>\n",
       "      <td>0</td>\n",
       "    </tr>\n",
       "    <tr>\n",
       "      <th>2012-01-02</th>\n",
       "      <td>22.777826</td>\n",
       "      <td>NaN</td>\n",
       "      <td>NaN</td>\n",
       "      <td>1</td>\n",
       "    </tr>\n",
       "    <tr>\n",
       "      <th>2012-01-03</th>\n",
       "      <td>27.549099</td>\n",
       "      <td>NaN</td>\n",
       "      <td>NaN</td>\n",
       "      <td>2</td>\n",
       "    </tr>\n",
       "    <tr>\n",
       "      <th>2012-01-04</th>\n",
       "      <td>25.895533</td>\n",
       "      <td>NaN</td>\n",
       "      <td>NaN</td>\n",
       "      <td>3</td>\n",
       "    </tr>\n",
       "    <tr>\n",
       "      <th>2012-01-05</th>\n",
       "      <td>21.379238</td>\n",
       "      <td>NaN</td>\n",
       "      <td>NaN</td>\n",
       "      <td>4</td>\n",
       "    </tr>\n",
       "  </tbody>\n",
       "</table>\n",
       "</div>"
      ],
      "text/plain": [
       "               item_1  item_2  item_3  exog_1\n",
       "date                                         \n",
       "2012-01-01   8.253175     NaN     NaN       0\n",
       "2012-01-02  22.777826     NaN     NaN       1\n",
       "2012-01-03  27.549099     NaN     NaN       2\n",
       "2012-01-04  25.895533     NaN     NaN       3\n",
       "2012-01-05  21.379238     NaN     NaN       4"
      ]
     },
     "execution_count": 49,
     "metadata": {},
     "output_type": "execute_result"
    }
   ],
   "source": [
    "# Add exog\n",
    "# ==============================================================================\n",
    "data['exog_1'] = np.arange(len(data))\n",
    "data.head()"
   ]
  },
  {
   "cell_type": "code",
   "execution_count": 50,
   "metadata": {},
   "outputs": [
    {
     "name": "stdout",
     "output_type": "stream",
     "text": [
      "Train dates : 2012-01-01 00:00:00 --- 2014-07-15 00:00:00   (n=927)\n",
      "Test dates  : 2014-07-16 00:00:00 --- 2015-01-01 00:00:00   (n=170)\n"
     ]
    }
   ],
   "source": [
    "# Split data into train-val-test\n",
    "# ==============================================================================\n",
    "end_train = '2014-07-15 23:59:00'\n",
    "data_train = data.loc[:end_train, :].copy()\n",
    "data_test  = data.loc[end_train:, :].copy()\n",
    "\n",
    "print(\n",
    "    f\"Train dates : {data_train.index.min()} --- {data_train.index.max()}   \"\n",
    "    f\"(n={len(data_train)})\"\n",
    ")\n",
    "print(\n",
    "    f\"Test dates  : {data_test.index.min()} --- {data_test.index.max()}   \"\n",
    "    f\"(n={len(data_test)})\"\n",
    ")"
   ]
  },
  {
   "cell_type": "code",
   "execution_count": 51,
   "metadata": {},
   "outputs": [
    {
     "data": {
      "text/plain": [
       "============================ \n",
       "ForecasterAutoregMultiSeries \n",
       "============================ \n",
       "Regressor: Ridge(random_state=123) \n",
       "Lags: [1 2 3 4 5] \n",
       "Transformer for series: None \n",
       "Transformer for exog: None \n",
       "Window size: 5 \n",
       "Series levels (names): ['item_1', 'item_2', 'item_3'] \n",
       "Series weights: None \n",
       "Weight function included: False \n",
       "Exogenous included: True \n",
       "Type of exogenous variable: <class 'pandas.core.series.Series'> \n",
       "Exogenous variables names: ['exog_1'] \n",
       "Training range: [Timestamp('2012-01-01 00:00:00'), Timestamp('2014-07-15 00:00:00')] \n",
       "Training index type: DatetimeIndex \n",
       "Training index frequency: D \n",
       "Regressor parameters: {'alpha': 1.0, 'copy_X': True, 'fit_intercept': True, 'max_iter': None, 'positive': False, 'random_state': 123, 'solver': 'auto', 'tol': 0.0001} \n",
       "fit_kwargs: {} \n",
       "Creation date: 2023-06-06 18:35:24 \n",
       "Last fit date: 2023-06-06 18:35:24 \n",
       "Skforecast version: 0.9.0 \n",
       "Python version: 3.10.11 \n",
       "Forecaster id: None "
      ]
     },
     "execution_count": 51,
     "metadata": {},
     "output_type": "execute_result"
    }
   ],
   "source": [
    "# Create and fit forecaster multi series\n",
    "# ==============================================================================\n",
    "forecaster = ForecasterAutoregMultiSeries(\n",
    "                 regressor          = Ridge(random_state=123),\n",
    "                 lags               = 5,\n",
    "                 transformer_series = None,\n",
    "                 transformer_exog   = None,\n",
    "                 weight_func        = None,\n",
    "                 series_weights     = None\n",
    "             )\n",
    "\n",
    "forecaster.fit(series=data_train[['item_1', 'item_2', 'item_3']],\n",
    "               exog=data_train['exog_1'])\n",
    "forecaster"
   ]
  },
  {
   "cell_type": "code",
   "execution_count": 56,
   "metadata": {},
   "outputs": [
    {
     "name": "stdout",
     "output_type": "stream",
     "text": [
      "data_train\n",
      "(927, 4)\n",
      "\n",
      "X_train\n",
      "(1839, 8)\n",
      "item_1 len: 922\n",
      "item_2 len: 555\n",
      "item_3 len: 362\n",
      "len_1 + len_2 + len_3: 1839\n",
      "\n",
      "y_train\n",
      "(1839,)\n",
      "\n",
      "y_index\n",
      "(927,)\n",
      "data_train: 2012-01-01 00:00:00 2014-07-15 00:00:00\n",
      "y_index: 2012-01-01 00:00:00 2014-07-15 00:00:00\n",
      "\n",
      "y_train_index\n",
      "(1839,)\n",
      "2012-01-06 00:00:00 2014-07-15 00:00:00\n",
      "2013-01-07 00:00:00 2014-07-15 00:00:00\n",
      "2013-07-19 00:00:00 2014-07-15 00:00:00\n",
      "\n"
     ]
    }
   ],
   "source": [
    "X_train, y_train, y_index, y_train_index = forecaster.create_train_X_y(data_train[['item_1', 'item_2', 'item_3']])\n",
    "\n",
    "# data_train\n",
    "\n",
    "print(\"data_train\")\n",
    "print(data_train.shape)\n",
    "print(\"\")\n",
    "\n",
    "# X_train\n",
    "\n",
    "len_1 = len(X_train.loc[X_train['item_1'] == 1.])\n",
    "len_2 = len(X_train.loc[X_train['item_2'] == 1.])\n",
    "len_3 = len(X_train.loc[X_train['item_3'] == 1.])\n",
    "\n",
    "print(\"X_train\")\n",
    "print(X_train.shape)\n",
    "print('item_1 len:', len_1)\n",
    "print('item_2 len:', len_2)\n",
    "print('item_3 len:', len_3)\n",
    "print(\"len_1 + len_2 + len_3:\", len_1+len_2+len_3)\n",
    "print(\"\")\n",
    "\n",
    "# y_train\n",
    "\n",
    "print(\"y_train\")\n",
    "print(y_train.shape)\n",
    "print(\"\")\n",
    "\n",
    "# y_index\n",
    "\n",
    "print(\"y_index\")\n",
    "print(y_index.shape)\n",
    "print(\"data_train:\", data_train.index[0], data_train.index[-1])\n",
    "print(\"y_index:\", y_index[0], y_index[-1])\n",
    "print(\"\")\n",
    "\n",
    "# y_train_index\n",
    "\n",
    "print(\"y_train_index\")\n",
    "print(y_train_index.shape)\n",
    "print(y_train_index[0], y_train_index[len_1-1])\n",
    "print(y_train_index[len_1], y_train_index[len_1+len_2-1])\n",
    "print(y_train_index[len_1+len_2], y_train_index[len_1+len_2+len_3-1])\n",
    "print(\"\")\n"
   ]
  },
  {
   "cell_type": "code",
   "execution_count": 57,
   "metadata": {},
   "outputs": [
    {
     "data": {
      "text/html": [
       "<div>\n",
       "<style scoped>\n",
       "    .dataframe tbody tr th:only-of-type {\n",
       "        vertical-align: middle;\n",
       "    }\n",
       "\n",
       "    .dataframe tbody tr th {\n",
       "        vertical-align: top;\n",
       "    }\n",
       "\n",
       "    .dataframe thead th {\n",
       "        text-align: right;\n",
       "    }\n",
       "</style>\n",
       "<table border=\"1\" class=\"dataframe\">\n",
       "  <thead>\n",
       "    <tr style=\"text-align: right;\">\n",
       "      <th></th>\n",
       "      <th>item_1</th>\n",
       "      <th>item_2</th>\n",
       "      <th>item_3</th>\n",
       "    </tr>\n",
       "    <tr>\n",
       "      <th>date</th>\n",
       "      <th></th>\n",
       "      <th></th>\n",
       "      <th></th>\n",
       "    </tr>\n",
       "  </thead>\n",
       "  <tbody>\n",
       "    <tr>\n",
       "      <th>2014-07-11</th>\n",
       "      <td>25.662128</td>\n",
       "      <td>11.002083</td>\n",
       "      <td>10.396751</td>\n",
       "    </tr>\n",
       "    <tr>\n",
       "      <th>2014-07-12</th>\n",
       "      <td>23.773923</td>\n",
       "      <td>11.008333</td>\n",
       "      <td>16.139173</td>\n",
       "    </tr>\n",
       "    <tr>\n",
       "      <th>2014-07-13</th>\n",
       "      <td>22.609388</td>\n",
       "      <td>8.100000</td>\n",
       "      <td>13.028927</td>\n",
       "    </tr>\n",
       "    <tr>\n",
       "      <th>2014-07-14</th>\n",
       "      <td>23.307307</td>\n",
       "      <td>10.895833</td>\n",
       "      <td>9.315334</td>\n",
       "    </tr>\n",
       "    <tr>\n",
       "      <th>2014-07-15</th>\n",
       "      <td>25.980745</td>\n",
       "      <td>10.489583</td>\n",
       "      <td>9.908915</td>\n",
       "    </tr>\n",
       "  </tbody>\n",
       "</table>\n",
       "</div>"
      ],
      "text/plain": [
       "               item_1     item_2     item_3\n",
       "date                                       \n",
       "2014-07-11  25.662128  11.002083  10.396751\n",
       "2014-07-12  23.773923  11.008333  16.139173\n",
       "2014-07-13  22.609388   8.100000  13.028927\n",
       "2014-07-14  23.307307  10.895833   9.315334\n",
       "2014-07-15  25.980745  10.489583   9.908915"
      ]
     },
     "execution_count": 57,
     "metadata": {},
     "output_type": "execute_result"
    }
   ],
   "source": [
    "forecaster.last_window"
   ]
  },
  {
   "cell_type": "code",
   "execution_count": 58,
   "metadata": {},
   "outputs": [
    {
     "data": {
      "text/html": [
       "<div>\n",
       "<style scoped>\n",
       "    .dataframe tbody tr th:only-of-type {\n",
       "        vertical-align: middle;\n",
       "    }\n",
       "\n",
       "    .dataframe tbody tr th {\n",
       "        vertical-align: top;\n",
       "    }\n",
       "\n",
       "    .dataframe thead th {\n",
       "        text-align: right;\n",
       "    }\n",
       "</style>\n",
       "<table border=\"1\" class=\"dataframe\">\n",
       "  <thead>\n",
       "    <tr style=\"text-align: right;\">\n",
       "      <th></th>\n",
       "      <th>item_1</th>\n",
       "      <th>item_2</th>\n",
       "      <th>item_3</th>\n",
       "    </tr>\n",
       "  </thead>\n",
       "  <tbody>\n",
       "    <tr>\n",
       "      <th>2014-07-16</th>\n",
       "      <td>24.964640</td>\n",
       "      <td>11.386619</td>\n",
       "      <td>11.927721</td>\n",
       "    </tr>\n",
       "    <tr>\n",
       "      <th>2014-07-17</th>\n",
       "      <td>23.862185</td>\n",
       "      <td>12.156144</td>\n",
       "      <td>13.466882</td>\n",
       "    </tr>\n",
       "    <tr>\n",
       "      <th>2014-07-18</th>\n",
       "      <td>23.376065</td>\n",
       "      <td>12.224168</td>\n",
       "      <td>13.771249</td>\n",
       "    </tr>\n",
       "    <tr>\n",
       "      <th>2014-07-19</th>\n",
       "      <td>23.253302</td>\n",
       "      <td>12.649076</td>\n",
       "      <td>13.537742</td>\n",
       "    </tr>\n",
       "    <tr>\n",
       "      <th>2014-07-20</th>\n",
       "      <td>23.440808</td>\n",
       "      <td>12.958848</td>\n",
       "      <td>13.657885</td>\n",
       "    </tr>\n",
       "  </tbody>\n",
       "</table>\n",
       "</div>"
      ],
      "text/plain": [
       "               item_1     item_2     item_3\n",
       "2014-07-16  24.964640  11.386619  11.927721\n",
       "2014-07-17  23.862185  12.156144  13.466882\n",
       "2014-07-18  23.376065  12.224168  13.771249\n",
       "2014-07-19  23.253302  12.649076  13.537742\n",
       "2014-07-20  23.440808  12.958848  13.657885"
      ]
     },
     "execution_count": 58,
     "metadata": {},
     "output_type": "execute_result"
    }
   ],
   "source": [
    "forecaster.predict(5, exog=data_test['exog_1'])"
   ]
  },
  {
   "attachments": {},
   "cell_type": "markdown",
   "metadata": {},
   "source": [
    "## Tests"
   ]
  },
  {
   "cell_type": "code",
   "execution_count": 13,
   "metadata": {},
   "outputs": [],
   "source": [
    "import re\n",
    "import pytest\n",
    "import numpy as np\n",
    "import pandas as pd\n",
    "from skforecast.ForecasterAutoregMultiSeries import ForecasterAutoregMultiSeries\n",
    "from skforecast.exceptions import MissingValuesExogWarning\n",
    "from sklearn.linear_model import LinearRegression\n",
    "from sklearn.compose import ColumnTransformer\n",
    "from sklearn.preprocessing import StandardScaler\n",
    "from sklearn.preprocessing import OneHotEncoder"
   ]
  },
  {
   "cell_type": "code",
   "execution_count": 19,
   "metadata": {},
   "outputs": [],
   "source": [
    "series = pd.DataFrame({'l1': np.arange(10, dtype=float), \n",
    "                           'l2': pd.Series([np.nan, np.nan, \n",
    "                                            2., 3., 4., 5., 6., 7., 8., 9.]), \n",
    "                           'l3': pd.Series([np.nan, np.nan, np.nan, np.nan, \n",
    "                                            4., 5., 6., 7., 8., 9.])})\n",
    "series.index = pd.date_range(\"1990-01-01\", periods=10, freq='D')\n",
    "exog = pd.DataFrame({\n",
    "            'col_1': [7.5, 24.4, 60.3, 57.3, 50.7, 41.4, 24.4, 87.2, 47.4, 23.8],\n",
    "            'col_2': ['a', 'b', 'a', 'b', 'a', 'b', 'a', 'b', 'a', 'b']},\n",
    "            index = pd.date_range(\"1990-01-01\", periods=10, freq='D'))\n",
    "\n",
    "transformer_exog = ColumnTransformer(\n",
    "                        [('scale', StandardScaler(), ['col_1']),\n",
    "                            ('onehot', OneHotEncoder(), ['col_2'])],\n",
    "                        remainder = 'passthrough',\n",
    "                        verbose_feature_names_out = False\n",
    "                    )\n",
    "\n",
    "forecaster = ForecasterAutoregMultiSeries(\n",
    "                    regressor          = LinearRegression(),\n",
    "                    lags               = 3,\n",
    "                    transformer_series = StandardScaler(),\n",
    "                    transformer_exog   = transformer_exog\n",
    "                )\n",
    "results = forecaster.create_train_X_y(series=series, exog=exog)"
   ]
  },
  {
   "cell_type": "code",
   "execution_count": 37,
   "metadata": {},
   "outputs": [
    {
     "name": "stdout",
     "output_type": "stream",
     "text": [
      "[-0.5222329678670935, -0.17407765595569785, 0.17407765595569785, 0.5222329678670935, 0.8703882797784892, 1.2185435916898848, 1.5666989036012806, -0.2182178902359924, 0.2182178902359924, 0.6546536707079772, 1.091089451179962, 1.5275252316519468, 0.29277002188455997, 0.8783100656536799, 1.4638501094227998]\n"
     ]
    }
   ],
   "source": [
    "print(list(results[1].values))"
   ]
  },
  {
   "cell_type": "code",
   "execution_count": 38,
   "metadata": {},
   "outputs": [],
   "source": [
    "X_train = pd.DataFrame(\n",
    "              data = np.array(\n",
    "                         [[0.58142898, 0.65138268, 0.12362923, 1., 0.],\n",
    "                          [0.72969992, 0.58142898, 0.65138268, 1., 0.],\n",
    "                          [0.97790567, 0.72969992, 0.58142898, 1., 0.],\n",
    "                          [0.56924731, 0.97790567, 0.72969992, 1., 0.],\n",
    "                          [0.85369084, 0.56924731, 0.97790567, 1., 0.],\n",
    "                          [0.75425194, 0.85369084, 0.56924731, 1., 0.],\n",
    "                          [0.08167939, 0.75425194, 0.85369084, 1., 0.],\n",
    "                          [0.72350895, 0.11599708, 0.51328688, 0., 1.],\n",
    "                          [0.10305721, 0.72350895, 0.11599708, 0., 1.],\n",
    "                          [0.20581485, 0.10305721, 0.72350895, 0., 1.],\n",
    "                          [0.41262027, 0.20581485, 0.10305721, 0., 1.],\n",
    "                          [0.82107767, 0.41262027, 0.20581485, 0., 1.],\n",
    "                          [0.0107816 , 0.82107767, 0.41262027, 0., 1.],\n",
    "                          [0.94951918, 0.0107816 , 0.82107767, 0., 1.]]\n",
    "                     ),\n",
    "                columns = ['lag_1', 'lag_2', 'lag_3', 'series_1', 'series_2']\n",
    "          )"
   ]
  },
  {
   "cell_type": "code",
   "execution_count": 40,
   "metadata": {},
   "outputs": [
    {
     "data": {
      "text/html": [
       "<div>\n",
       "<style scoped>\n",
       "    .dataframe tbody tr th:only-of-type {\n",
       "        vertical-align: middle;\n",
       "    }\n",
       "\n",
       "    .dataframe tbody tr th {\n",
       "        vertical-align: top;\n",
       "    }\n",
       "\n",
       "    .dataframe thead th {\n",
       "        text-align: right;\n",
       "    }\n",
       "</style>\n",
       "<table border=\"1\" class=\"dataframe\">\n",
       "  <thead>\n",
       "    <tr style=\"text-align: right;\">\n",
       "      <th></th>\n",
       "      <th>lag_1</th>\n",
       "      <th>lag_2</th>\n",
       "      <th>lag_3</th>\n",
       "      <th>series_1</th>\n",
       "      <th>series_2</th>\n",
       "    </tr>\n",
       "  </thead>\n",
       "  <tbody>\n",
       "    <tr>\n",
       "      <th>0</th>\n",
       "      <td>0.581429</td>\n",
       "      <td>0.651383</td>\n",
       "      <td>0.123629</td>\n",
       "      <td>1.0</td>\n",
       "      <td>0.0</td>\n",
       "    </tr>\n",
       "    <tr>\n",
       "      <th>1</th>\n",
       "      <td>0.729700</td>\n",
       "      <td>0.581429</td>\n",
       "      <td>0.651383</td>\n",
       "      <td>1.0</td>\n",
       "      <td>0.0</td>\n",
       "    </tr>\n",
       "    <tr>\n",
       "      <th>2</th>\n",
       "      <td>0.977906</td>\n",
       "      <td>0.729700</td>\n",
       "      <td>0.581429</td>\n",
       "      <td>1.0</td>\n",
       "      <td>0.0</td>\n",
       "    </tr>\n",
       "    <tr>\n",
       "      <th>3</th>\n",
       "      <td>0.569247</td>\n",
       "      <td>0.977906</td>\n",
       "      <td>0.729700</td>\n",
       "      <td>1.0</td>\n",
       "      <td>0.0</td>\n",
       "    </tr>\n",
       "    <tr>\n",
       "      <th>4</th>\n",
       "      <td>0.853691</td>\n",
       "      <td>0.569247</td>\n",
       "      <td>0.977906</td>\n",
       "      <td>1.0</td>\n",
       "      <td>0.0</td>\n",
       "    </tr>\n",
       "    <tr>\n",
       "      <th>5</th>\n",
       "      <td>0.754252</td>\n",
       "      <td>0.853691</td>\n",
       "      <td>0.569247</td>\n",
       "      <td>1.0</td>\n",
       "      <td>0.0</td>\n",
       "    </tr>\n",
       "    <tr>\n",
       "      <th>6</th>\n",
       "      <td>0.081679</td>\n",
       "      <td>0.754252</td>\n",
       "      <td>0.853691</td>\n",
       "      <td>1.0</td>\n",
       "      <td>0.0</td>\n",
       "    </tr>\n",
       "    <tr>\n",
       "      <th>10</th>\n",
       "      <td>0.412620</td>\n",
       "      <td>0.205815</td>\n",
       "      <td>0.103057</td>\n",
       "      <td>0.0</td>\n",
       "      <td>1.0</td>\n",
       "    </tr>\n",
       "    <tr>\n",
       "      <th>11</th>\n",
       "      <td>0.821078</td>\n",
       "      <td>0.412620</td>\n",
       "      <td>0.205815</td>\n",
       "      <td>0.0</td>\n",
       "      <td>1.0</td>\n",
       "    </tr>\n",
       "    <tr>\n",
       "      <th>12</th>\n",
       "      <td>0.010782</td>\n",
       "      <td>0.821078</td>\n",
       "      <td>0.412620</td>\n",
       "      <td>0.0</td>\n",
       "      <td>1.0</td>\n",
       "    </tr>\n",
       "    <tr>\n",
       "      <th>13</th>\n",
       "      <td>0.949519</td>\n",
       "      <td>0.010782</td>\n",
       "      <td>0.821078</td>\n",
       "      <td>0.0</td>\n",
       "      <td>1.0</td>\n",
       "    </tr>\n",
       "  </tbody>\n",
       "</table>\n",
       "</div>"
      ],
      "text/plain": [
       "       lag_1     lag_2     lag_3  series_1  series_2\n",
       "0   0.581429  0.651383  0.123629       1.0       0.0\n",
       "1   0.729700  0.581429  0.651383       1.0       0.0\n",
       "2   0.977906  0.729700  0.581429       1.0       0.0\n",
       "3   0.569247  0.977906  0.729700       1.0       0.0\n",
       "4   0.853691  0.569247  0.977906       1.0       0.0\n",
       "5   0.754252  0.853691  0.569247       1.0       0.0\n",
       "6   0.081679  0.754252  0.853691       1.0       0.0\n",
       "10  0.412620  0.205815  0.103057       0.0       1.0\n",
       "11  0.821078  0.412620  0.205815       0.0       1.0\n",
       "12  0.010782  0.821078  0.412620       0.0       1.0\n",
       "13  0.949519  0.010782  0.821078       0.0       1.0"
      ]
     },
     "execution_count": 40,
     "metadata": {},
     "output_type": "execute_result"
    }
   ],
   "source": [
    "X_train.drop([7, 8, 9])"
   ]
  },
  {
   "cell_type": "code",
   "execution_count": 43,
   "metadata": {},
   "outputs": [
    {
     "data": {
      "text/html": [
       "<div>\n",
       "<style scoped>\n",
       "    .dataframe tbody tr th:only-of-type {\n",
       "        vertical-align: middle;\n",
       "    }\n",
       "\n",
       "    .dataframe tbody tr th {\n",
       "        vertical-align: top;\n",
       "    }\n",
       "\n",
       "    .dataframe thead th {\n",
       "        text-align: right;\n",
       "    }\n",
       "</style>\n",
       "<table border=\"1\" class=\"dataframe\">\n",
       "  <thead>\n",
       "    <tr style=\"text-align: right;\">\n",
       "      <th></th>\n",
       "      <th>1</th>\n",
       "      <th>2</th>\n",
       "    </tr>\n",
       "  </thead>\n",
       "  <tbody>\n",
       "    <tr>\n",
       "      <th>50</th>\n",
       "      <td>0.532673</td>\n",
       "      <td>0.554964</td>\n",
       "    </tr>\n",
       "    <tr>\n",
       "      <th>51</th>\n",
       "      <td>0.444780</td>\n",
       "      <td>0.577880</td>\n",
       "    </tr>\n",
       "    <tr>\n",
       "      <th>52</th>\n",
       "      <td>0.525796</td>\n",
       "      <td>0.663891</td>\n",
       "    </tr>\n",
       "    <tr>\n",
       "      <th>53</th>\n",
       "      <td>0.573911</td>\n",
       "      <td>0.657898</td>\n",
       "    </tr>\n",
       "    <tr>\n",
       "      <th>54</th>\n",
       "      <td>0.546336</td>\n",
       "      <td>0.584119</td>\n",
       "    </tr>\n",
       "  </tbody>\n",
       "</table>\n",
       "</div>"
      ],
      "text/plain": [
       "           1         2\n",
       "50  0.532673  0.554964\n",
       "51  0.444780  0.577880\n",
       "52  0.525796  0.663891\n",
       "53  0.573911  0.657898\n",
       "54  0.546336  0.584119"
      ]
     },
     "execution_count": 43,
     "metadata": {},
     "output_type": "execute_result"
    }
   ],
   "source": [
    "from skforecast.ForecasterAutoregMultiSeries.tests.fixtures_ForecasterAutoregMultiSeries import series\n",
    "from skforecast.ForecasterAutoregMultiSeries.tests.fixtures_ForecasterAutoregMultiSeries import exog\n",
    "from skforecast.ForecasterAutoregMultiSeries.tests.fixtures_ForecasterAutoregMultiSeries import exog_predict\n",
    "\n",
    "new_series = series.copy()\n",
    "new_series['2'].iloc[:10] = np.nan\n",
    "\n",
    "transformer_exog = ColumnTransformer(\n",
    "                        [('scale', StandardScaler(), ['col_1']),\n",
    "                        ('onehot', OneHotEncoder(), ['col_2'])],\n",
    "                        remainder = 'passthrough',\n",
    "                        verbose_feature_names_out = False\n",
    "                    )\n",
    "forecaster = ForecasterAutoregMultiSeries(\n",
    "                    regressor          = LinearRegression(),\n",
    "                    lags               = 5,\n",
    "                    ..\n",
    "                    transformer_series = StandardScaler(),\n",
    "                    transformer_exog   = transformer_exog,\n",
    "                )\n",
    "forecaster.fit(series=series, exog=exog)\n",
    "predictions = forecaster.predict(steps=5, exog=exog_predict)\n",
    "predictions"
   ]
  },
  {
   "cell_type": "code",
   "execution_count": 44,
   "metadata": {},
   "outputs": [
    {
     "data": {
      "text/plain": [
       "array([[0.53267333, 0.55496412],\n",
       "       [0.44478046, 0.57787982],\n",
       "       [0.52579563, 0.66389117],\n",
       "       [0.57391142, 0.65789846],\n",
       "       [0.54633594, 0.5841187 ]])"
      ]
     },
     "execution_count": 44,
     "metadata": {},
     "output_type": "execute_result"
    }
   ],
   "source": [
    "predictions.to_numpy()"
   ]
  },
  {
   "cell_type": "code",
   "execution_count": 2,
   "metadata": {},
   "outputs": [],
   "source": [
    "# Fixtures\n",
    "\n",
    "from skforecast.model_selection_multiseries.tests.fixtures_model_selection_multiseries import series"
   ]
  },
  {
   "cell_type": "code",
   "execution_count": 5,
   "metadata": {},
   "outputs": [
    {
     "data": {
      "text/html": [
       "<div>\n",
       "<style scoped>\n",
       "    .dataframe tbody tr th:only-of-type {\n",
       "        vertical-align: middle;\n",
       "    }\n",
       "\n",
       "    .dataframe tbody tr th {\n",
       "        vertical-align: top;\n",
       "    }\n",
       "\n",
       "    .dataframe thead th {\n",
       "        text-align: right;\n",
       "    }\n",
       "</style>\n",
       "<table border=\"1\" class=\"dataframe\">\n",
       "  <thead>\n",
       "    <tr style=\"text-align: right;\">\n",
       "      <th></th>\n",
       "      <th>l1</th>\n",
       "      <th>l2</th>\n",
       "    </tr>\n",
       "  </thead>\n",
       "  <tbody>\n",
       "    <tr>\n",
       "      <th>0</th>\n",
       "      <td>0.696469</td>\n",
       "      <td>0.120629</td>\n",
       "    </tr>\n",
       "    <tr>\n",
       "      <th>1</th>\n",
       "      <td>0.286139</td>\n",
       "      <td>0.826341</td>\n",
       "    </tr>\n",
       "  </tbody>\n",
       "</table>\n",
       "</div>"
      ],
      "text/plain": [
       "         l1        l2\n",
       "0  0.696469  0.120629\n",
       "1  0.286139  0.826341"
      ]
     },
     "execution_count": 5,
     "metadata": {},
     "output_type": "execute_result"
    }
   ],
   "source": [
    "series.head(2)"
   ]
  },
  {
   "cell_type": "code",
   "execution_count": 6,
   "metadata": {},
   "outputs": [],
   "source": [
    "new_series = series.copy()\n",
    "new_series['l2'].iloc[:10] = np.nan"
   ]
  },
  {
   "cell_type": "code",
   "execution_count": 9,
   "metadata": {},
   "outputs": [
    {
     "data": {
      "application/vnd.jupyter.widget-view+json": {
       "model_id": "ef856228f8bd4d409e5bb505f27332c9",
       "version_major": 2,
       "version_minor": 0
      },
      "text/plain": [
       "  0%|          | 0/3 [00:00<?, ?it/s]"
      ]
     },
     "metadata": {},
     "output_type": "display_data"
    }
   ],
   "source": [
    "forecaster = ForecasterAutoregMultiSeries(regressor=Ridge(random_state=123), \n",
    "                                                       lags=2)\n",
    "\n",
    "\n",
    "metrics_levels, backtest_predictions = backtesting_forecaster_multiseries(\n",
    "                                               forecaster            = forecaster,\n",
    "                                               series                = new_series,\n",
    "                                               steps                 = 5,\n",
    "                                               levels                = 'l1',\n",
    "                                               metric                = 'mean_absolute_error',\n",
    "                                               initial_train_size    = len(new_series) - 20,\n",
    "                                               gap                   = 5,\n",
    "                                               allow_incomplete_fold = False,\n",
    "                                               refit                 = True,\n",
    "                                               fixed_train_size      = True,\n",
    "                                               exog                  = new_series['l1'].rename('exog_1'),\n",
    "                                               interval              = [5, 95],\n",
    "                                               n_boot                = 150,\n",
    "                                               random_state          = 123,\n",
    "                                               in_sample_residuals   = True,\n",
    "                                               verbose               = False\n",
    "                                           )"
   ]
  },
  {
   "cell_type": "code",
   "execution_count": 10,
   "metadata": {},
   "outputs": [
    {
     "data": {
      "text/plain": [
       "array([['l1', 0.1355099897175138]], dtype=object)"
      ]
     },
     "execution_count": 10,
     "metadata": {},
     "output_type": "execute_result"
    }
   ],
   "source": [
    "metrics_levels.to_numpy()"
   ]
  },
  {
   "cell_type": "code",
   "execution_count": 19,
   "metadata": {},
   "outputs": [
    {
     "data": {
      "text/plain": [
       "array([[0.42170236, 0.21384761, 0.6338432 ],\n",
       "       [0.47242371, 0.23550111, 0.68264162],\n",
       "       [0.66450589, 0.4128072 , 0.87549193],\n",
       "       [0.67311586, 0.46534536, 0.89662809],\n",
       "       [0.487886  , 0.27487735, 0.65050566],\n",
       "       [0.52759202, 0.30254031, 0.7316064 ],\n",
       "       [0.33021382, 0.11679102, 0.52056867],\n",
       "       [0.4226274 , 0.16874895, 0.61548288],\n",
       "       [0.44647715, 0.22033296, 0.65301466],\n",
       "       [0.61435678, 0.37793909, 0.81285962],\n",
       "       [0.41671844, 0.13568381, 0.67943385],\n",
       "       [0.47385345, 0.19025177, 0.76849597],\n",
       "       [0.62360146, 0.39888165, 0.85075261],\n",
       "       [0.49407875, 0.24011478, 0.78855477],\n",
       "       [0.51234652, 0.26828928, 0.81339595]])"
      ]
     },
     "execution_count": 19,
     "metadata": {},
     "output_type": "execute_result"
    }
   ],
   "source": [
    "backtest_predictions.to_numpy()"
   ]
  },
  {
   "cell_type": "code",
   "execution_count": null,
   "metadata": {},
   "outputs": [],
   "source": []
  }
 ],
 "metadata": {
  "kernelspec": {
   "display_name": "skforecast_py10",
   "language": "python",
   "name": "python3"
  },
  "language_info": {
   "codemirror_mode": {
    "name": "ipython",
    "version": 3
   },
   "file_extension": ".py",
   "mimetype": "text/x-python",
   "name": "python",
   "nbconvert_exporter": "python",
   "pygments_lexer": "ipython3",
   "version": "3.10.11"
  },
  "orig_nbformat": 4,
  "vscode": {
   "interpreter": {
    "hash": "c78d62c1713fdacd99ef7c429003c7324b36fbb551fb8b6860a7ea73e9338235"
   }
  }
 },
 "nbformat": 4,
 "nbformat_minor": 2
}
