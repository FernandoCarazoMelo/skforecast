{
 "cells": [
  {
   "cell_type": "code",
   "execution_count": 114,
   "metadata": {},
   "outputs": [],
   "source": [
    "import importlib\n",
    "\n",
    "def _find_optional_dependency(package_name: str):\n",
    "    \"\"\"\n",
    "    Find if a package is an optional dependency. If true, find the version and the \n",
    "    extension it belongs to.\n",
    "\n",
    "    Parameters\n",
    "    ----------\n",
    "    package_name : str\n",
    "        Name of the package\n",
    "\n",
    "    Return\n",
    "    ------\n",
    "    extra: str\n",
    "        Name of the extra extension where the optional dependency is needed.\n",
    "    package_version: srt\n",
    "        Name and versions of the dependency.\n",
    "\n",
    "    \"\"\"\n",
    "\n",
    "    optional_dependencies = {\n",
    "        \"statsmodels\": ['statsmodels>=0.12, <0.14'],\n",
    "        \"bayesian\": ['optuna==2.10.0', 'scikit-optimize==0.9.0'],\n",
    "        \"plotting\": ['matplotlib>=3.3, <3.7', 'seaborn==0.11']\n",
    "    }\n",
    "\n",
    "    for extra, packages in optional_dependencies.items():\n",
    "        package_version = [package for package in packages if package_name in package]\n",
    "        if package_version:\n",
    "            return extra, package_version[0]\n",
    "\n",
    "\n",
    "def check_optional_dependency(package_name):\n",
    "    \"\"\"\n",
    "    Check if an optional dependency is stalled and raise a ImportError with installation\n",
    "    instructions.\n",
    "\n",
    "    Parameters\n",
    "    ----------\n",
    "    package_name : str\n",
    "        Name of the package\n",
    "    \"\"\"\n",
    "\n",
    "    if importlib.util.find_spec(package_name) is None:\n",
    "        try:\n",
    "            extra, package_version = _find_optional_dependency(package_name=package_name)\n",
    "            msg = (\n",
    "                f\"\\n'{package_name}' is an optional dependency and not included in the \"\n",
    "                f\"skforecast installation. Please run: `pip install {package_version}` to install.\"\n",
    "                f\"\\nAlternately, you can install this by running `pip install skforecast[{extra}]`\"\n",
    "            )\n",
    "        except:\n",
    "            msg = f\"\\n'{package_name}' is needed but not installed. Please install it.\"\n",
    "        \n",
    "        raise ImportError(msg)"
   ]
  },
  {
   "cell_type": "code",
   "execution_count": 115,
   "metadata": {},
   "outputs": [],
   "source": [
    "# try:\n",
    "#     import numpy\n",
    "#     import pandas\n",
    "#     import optuna\n",
    "# except Exception as e:\n",
    "#     package_name = str(e).split(\" \")[-1].replace(\"'\", \"\")\n",
    "#     check_optional_dependency(package_name=package_name)"
   ]
  },
  {
   "cell_type": "code",
   "execution_count": 118,
   "metadata": {},
   "outputs": [
    {
     "ename": "ImportError",
     "evalue": "\n'aaa' is needed but not installed. Please install it.",
     "output_type": "error",
     "traceback": [
      "\u001b[0;31m---------------------------------------------------------------------------\u001b[0m",
      "\u001b[0;31mImportError\u001b[0m                               Traceback (most recent call last)",
      "Cell \u001b[0;32mIn [118], line 1\u001b[0m\n\u001b[0;32m----> 1\u001b[0m check_optional_dependency(\u001b[39m'\u001b[39;49m\u001b[39maaa\u001b[39;49m\u001b[39m'\u001b[39;49m)\n",
      "Cell \u001b[0;32mIn [114], line 56\u001b[0m, in \u001b[0;36mcheck_optional_dependency\u001b[0;34m(package_name)\u001b[0m\n\u001b[1;32m     53\u001b[0m \u001b[39mexcept\u001b[39;00m:\n\u001b[1;32m     54\u001b[0m     msg \u001b[39m=\u001b[39m \u001b[39mf\u001b[39m\u001b[39m\"\u001b[39m\u001b[39m\\n\u001b[39;00m\u001b[39m'\u001b[39m\u001b[39m{\u001b[39;00mpackage_name\u001b[39m}\u001b[39;00m\u001b[39m'\u001b[39m\u001b[39m is needed but not installed. Please install it.\u001b[39m\u001b[39m\"\u001b[39m\n\u001b[0;32m---> 56\u001b[0m \u001b[39mraise\u001b[39;00m \u001b[39mImportError\u001b[39;00m(msg)\n",
      "\u001b[0;31mImportError\u001b[0m: \n'aaa' is needed but not installed. Please install it."
     ]
    }
   ],
   "source": [
    "check_optional_dependency('aaa')"
   ]
  },
  {
   "cell_type": "code",
   "execution_count": 117,
   "metadata": {},
   "outputs": [
    {
     "data": {
      "text/plain": [
       "('bayesian', 'optuna==2.10.0')"
      ]
     },
     "execution_count": 117,
     "metadata": {},
     "output_type": "execute_result"
    }
   ],
   "source": [
    "_find_optional_dependency('optuna')"
   ]
  },
  {
   "cell_type": "code",
   "execution_count": null,
   "metadata": {},
   "outputs": [],
   "source": []
  }
 ],
 "metadata": {
  "kernelspec": {
   "display_name": "Python 3.9.13 ('py39': conda)",
   "language": "python",
   "name": "python3"
  },
  "language_info": {
   "codemirror_mode": {
    "name": "ipython",
    "version": 3
   },
   "file_extension": ".py",
   "mimetype": "text/x-python",
   "name": "python",
   "nbconvert_exporter": "python",
   "pygments_lexer": "ipython3",
   "version": "3.9.13"
  },
  "orig_nbformat": 4,
  "vscode": {
   "interpreter": {
    "hash": "31ffcf7a35e8fb622d3a4bd4bd659d058512ef6f478d0fb17b526c56291289f9"
   }
  }
 },
 "nbformat": 4,
 "nbformat_minor": 2
}
