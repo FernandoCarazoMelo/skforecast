{
 "cells": [
  {
   "cell_type": "code",
   "execution_count": 1,
   "metadata": {},
   "outputs": [
    {
     "name": "stdout",
     "output_type": "stream",
     "text": [
      "c:\\Users\\jaesc2\\GitHub\\skforecast\n"
     ]
    }
   ],
   "source": [
    "%load_ext autoreload\n",
    "%autoreload 2\n",
    "import sys\n",
    "from pathlib import Path\n",
    "path = str(Path.cwd().parent)\n",
    "print(path)\n",
    "sys.path.insert(1, path)"
   ]
  },
  {
   "cell_type": "code",
   "execution_count": 2,
   "metadata": {},
   "outputs": [],
   "source": [
    "import re\n",
    "import pytest\n",
    "import numpy as np\n",
    "import pandas as pd\n",
    "from sklearn.exceptions import NotFittedError\n",
    "from skforecast.preprocessing import RollingFeatures\n",
    "from skforecast.ForecasterAutoregDirect import ForecasterAutoregDirect\n",
    "from sklearn.compose import ColumnTransformer\n",
    "from sklearn.preprocessing import StandardScaler\n",
    "from sklearn.preprocessing import OneHotEncoder\n",
    "from sklearn.preprocessing import OrdinalEncoder\n",
    "from sklearn.preprocessing import FunctionTransformer\n",
    "from sklearn.compose import make_column_transformer\n",
    "from sklearn.compose import make_column_selector\n",
    "from sklearn.pipeline import make_pipeline\n",
    "from sklearn.linear_model import LinearRegression\n",
    "from sklearn.ensemble import HistGradientBoostingRegressor\n",
    "from lightgbm import LGBMRegressor"
   ]
  },
  {
   "cell_type": "code",
   "execution_count": 29,
   "metadata": {},
   "outputs": [],
   "source": [
    "# Create and fit forecaster\n",
    "# ==============================================================================\n",
    "rolling = RollingFeatures(stats= ['mean', 'median', 'sum'], window_sizes=[5, 4, 5])\n",
    "forecaster = ForecasterAutoregDirect(\n",
    "                 regressor       = LinearRegression(),\n",
    "                 steps           = 2,\n",
    "                 lags            = None,\n",
    "                 window_features= rolling,\n",
    "                 differentiation = 1\n",
    "             )\n",
    "\n",
    "y = pd.Series(np.arange(10), name='y')\n",
    "exog = pd.Series(np.arange(100, 110), name='exog')\n",
    "exog_predict = pd.Series(np.arange(110, 112), name='exog')\n",
    "exog_predict.index = pd.RangeIndex(start=10, stop=12, step=1)\n",
    "forecaster.fit(y=y, exog=exog)"
   ]
  },
  {
   "cell_type": "code",
   "execution_count": 30,
   "metadata": {},
   "outputs": [
    {
     "data": {
      "text/plain": [
       "(   roll_mean_5  roll_median_4  roll_sum_5  exog_step_1  exog_step_2\n",
       " 7          1.0            1.0         5.0        106.0        107.0\n",
       " 8          1.0            1.0         5.0        107.0        108.0\n",
       " 9          1.0            1.0         5.0        108.0        109.0,\n",
       " {1: 6    1.0\n",
       "  7    1.0\n",
       "  8    1.0\n",
       "  Name: y_step_1, dtype: float64,\n",
       "  2: 7    1.0\n",
       "  8    1.0\n",
       "  9    1.0\n",
       "  Name: y_step_2, dtype: float64},\n",
       " ['exog'],\n",
       " ['roll_mean_5', 'roll_median_4', 'roll_sum_5'],\n",
       " ['exog'],\n",
       " ['roll_mean_5', 'roll_median_4', 'roll_sum_5', 'exog_step_1', 'exog_step_2'],\n",
       " {'exog': dtype('int64')})"
      ]
     },
     "execution_count": 30,
     "metadata": {},
     "output_type": "execute_result"
    }
   ],
   "source": [
    "forecaster._create_train_X_y(y=y, exog=exog)"
   ]
  },
  {
   "cell_type": "code",
   "execution_count": 93,
   "metadata": {},
   "outputs": [
    {
     "name": "stdout",
     "output_type": "stream",
     "text": [
      "['roll_mean_5', 'roll_median_4', 'roll_sum_5', 'exog']\n"
     ]
    },
    {
     "data": {
      "text/html": [
       "<div>\n",
       "<style scoped>\n",
       "    .dataframe tbody tr th:only-of-type {\n",
       "        vertical-align: middle;\n",
       "    }\n",
       "\n",
       "    .dataframe tbody tr th {\n",
       "        vertical-align: top;\n",
       "    }\n",
       "\n",
       "    .dataframe thead th {\n",
       "        text-align: right;\n",
       "    }\n",
       "</style>\n",
       "<table border=\"1\" class=\"dataframe\">\n",
       "  <thead>\n",
       "    <tr style=\"text-align: right;\">\n",
       "      <th></th>\n",
       "      <th>roll_mean_5</th>\n",
       "      <th>roll_median_4</th>\n",
       "      <th>roll_sum_5</th>\n",
       "      <th>exog</th>\n",
       "    </tr>\n",
       "  </thead>\n",
       "  <tbody>\n",
       "    <tr>\n",
       "      <th>10</th>\n",
       "      <td>7.0</td>\n",
       "      <td>7.5</td>\n",
       "      <td>35.0</td>\n",
       "      <td>110.0</td>\n",
       "    </tr>\n",
       "    <tr>\n",
       "      <th>11</th>\n",
       "      <td>7.0</td>\n",
       "      <td>7.5</td>\n",
       "      <td>35.0</td>\n",
       "      <td>111.0</td>\n",
       "    </tr>\n",
       "  </tbody>\n",
       "</table>\n",
       "</div>"
      ],
      "text/plain": [
       "    roll_mean_5  roll_median_4  roll_sum_5   exog\n",
       "10          7.0            7.5        35.0  110.0\n",
       "11          7.0            7.5        35.0  111.0"
      ]
     },
     "execution_count": 93,
     "metadata": {},
     "output_type": "execute_result"
    }
   ],
   "source": [
    "forecaster.create_predict_X(exog=exog_predict)"
   ]
  },
  {
   "cell_type": "code",
   "execution_count": 95,
   "metadata": {},
   "outputs": [
    {
     "data": {
      "text/plain": [
       "10    10.0\n",
       "11    11.0\n",
       "Name: pred, dtype: float64"
      ]
     },
     "execution_count": 95,
     "metadata": {},
     "output_type": "execute_result"
    }
   ],
   "source": [
    "forecaster.predict(exog=exog_predict)"
   ]
  },
  {
   "cell_type": "code",
   "execution_count": 35,
   "metadata": {},
   "outputs": [
    {
     "data": {
      "text/html": [
       "<div>\n",
       "<style scoped>\n",
       "    .dataframe tbody tr th:only-of-type {\n",
       "        vertical-align: middle;\n",
       "    }\n",
       "\n",
       "    .dataframe tbody tr th {\n",
       "        vertical-align: top;\n",
       "    }\n",
       "\n",
       "    .dataframe thead th {\n",
       "        text-align: right;\n",
       "    }\n",
       "</style>\n",
       "<table border=\"1\" class=\"dataframe\">\n",
       "  <thead>\n",
       "    <tr style=\"text-align: right;\">\n",
       "      <th></th>\n",
       "      <th>roll_mean_4</th>\n",
       "      <th>roll_median_4</th>\n",
       "      <th>roll_sum_5</th>\n",
       "    </tr>\n",
       "  </thead>\n",
       "  <tbody>\n",
       "    <tr>\n",
       "      <th>5</th>\n",
       "      <td>2.5</td>\n",
       "      <td>2.5</td>\n",
       "      <td>10.0</td>\n",
       "    </tr>\n",
       "    <tr>\n",
       "      <th>6</th>\n",
       "      <td>3.5</td>\n",
       "      <td>3.5</td>\n",
       "      <td>15.0</td>\n",
       "    </tr>\n",
       "    <tr>\n",
       "      <th>7</th>\n",
       "      <td>4.5</td>\n",
       "      <td>4.5</td>\n",
       "      <td>20.0</td>\n",
       "    </tr>\n",
       "    <tr>\n",
       "      <th>8</th>\n",
       "      <td>5.5</td>\n",
       "      <td>5.5</td>\n",
       "      <td>25.0</td>\n",
       "    </tr>\n",
       "    <tr>\n",
       "      <th>9</th>\n",
       "      <td>6.5</td>\n",
       "      <td>6.5</td>\n",
       "      <td>30.0</td>\n",
       "    </tr>\n",
       "  </tbody>\n",
       "</table>\n",
       "</div>"
      ],
      "text/plain": [
       "   roll_mean_4  roll_median_4  roll_sum_5\n",
       "5          2.5            2.5        10.0\n",
       "6          3.5            3.5        15.0\n",
       "7          4.5            4.5        20.0\n",
       "8          5.5            5.5        25.0\n",
       "9          6.5            6.5        30.0"
      ]
     },
     "execution_count": 35,
     "metadata": {},
     "output_type": "execute_result"
    }
   ],
   "source": [
    "rolling.transform_batch(y)"
   ]
  },
  {
   "cell_type": "code",
   "execution_count": 96,
   "metadata": {},
   "outputs": [
    {
     "data": {
      "text/plain": [
       "(   lag_1  lag_2  lag_3\n",
       " 4    2.0    1.0    0.0,\n",
       " {1: 3    3.0\n",
       "  Name: y_step_1, dtype: float64,\n",
       "  2: 4    4.0\n",
       "  Name: y_step_2, dtype: float64})"
      ]
     },
     "execution_count": 96,
     "metadata": {},
     "output_type": "execute_result"
    }
   ],
   "source": [
    "y = pd.Series(np.arange(5), name='y')\n",
    "forecaster = ForecasterAutoregDirect(LinearRegression(), lags=3, steps=2)\n",
    "\n",
    "forecaster.create_train_X_y(y=y)"
   ]
  },
  {
   "cell_type": "code",
   "execution_count": 93,
   "metadata": {},
   "outputs": [],
   "source": [
    "from skforecast.preprocessing import RollingFeatures\n",
    "from skforecast.preprocessing import TimeSeriesDifferentiator\n",
    "from skforecast.ForecasterAutoreg import ForecasterAutoreg\n",
    "\n",
    "# Fixtures\n",
    "from skforecast.ForecasterAutoreg.tests.fixtures_ForecasterAutoreg import y\n",
    "from skforecast.ForecasterAutoreg.tests.fixtures_ForecasterAutoreg import exog\n",
    "from skforecast.ForecasterAutoreg.tests.fixtures_ForecasterAutoreg import exog_predict\n",
    "from skforecast.ForecasterAutoreg.tests.fixtures_ForecasterAutoreg import data  # to test results when using differentiation\n"
   ]
  },
  {
   "cell_type": "code",
   "execution_count": 19,
   "metadata": {},
   "outputs": [],
   "source": [
    "y_datetime = y.copy()\n",
    "y_datetime.index = pd.date_range(start='2001-01-01', periods=len(y), freq='D')\n",
    "exog_datetime = exog.copy()\n",
    "exog_datetime.index = pd.date_range(start='2001-01-01', periods=len(exog), freq='D')\n",
    "exog_predict_datetime = exog_predict.copy()\n",
    "exog_predict_datetime.index = pd.date_range(start='2001-02-20', periods=len(exog_predict), freq='D')\n",
    "rolling = RollingFeatures(stats=['mean', 'sum'], window_sizes=3)\n",
    "forecaster = ForecasterAutoreg(\n",
    "    LGBMRegressor(verbose=-1, random_state=123), lags=3, window_features=rolling,\n",
    "    differentiation=1\n",
    ")\n",
    "forecaster.fit(y=y_datetime, exog=exog_datetime)"
   ]
  },
  {
   "cell_type": "code",
   "execution_count": null,
   "metadata": {},
   "outputs": [],
   "source": [
    "\n",
    "results = forecaster.predict_bootstrapping(\n",
    "    steps=4, n_boot=10, exog=exog_predict_datetime, use_in_sample_residuals=True\n",
    ")\n",
    "results"
   ]
  },
  {
   "cell_type": "code",
   "execution_count": 20,
   "metadata": {},
   "outputs": [
    {
     "name": "stdout",
     "output_type": "stream",
     "text": [
      "[ 0.  1.  2.  3.  4.  5.  6.  7.  8.  9. 10. 11. 12. 13. 14.]\n",
      "0 -1\n",
      "[ 0.  1.  2.  3.  4.  5.  6.  7.  8.  9. 10. 11. 12. 13.]\n",
      "DatetimeIndex(['2000-01-01', '2000-01-02', '2000-01-03', '2000-01-04',\n",
      "               '2000-01-05', '2000-01-06', '2000-01-07', '2000-01-08',\n",
      "               '2000-01-09', '2000-01-10', '2000-01-11', '2000-01-12',\n",
      "               '2000-01-13', '2000-01-14'],\n",
      "              dtype='datetime64[ns]', freq='D')\n",
      "DatetimeIndex(['2000-01-08', '2000-01-09', '2000-01-10', '2000-01-11',\n",
      "               '2000-01-12', '2000-01-13', '2000-01-14', '2000-01-15'],\n",
      "              dtype='datetime64[ns]', freq='D')\n"
     ]
    },
    {
     "data": {
      "text/plain": [
       "(            lag_1  lag_2  lag_3  lag_4  lag_5  roll_mean_5  roll_median_5  \\\n",
       " 2000-01-08    5.0    4.0    3.0    2.0    1.0          3.0            3.0   \n",
       " 2000-01-09    6.0    5.0    4.0    3.0    2.0          4.0            4.0   \n",
       " 2000-01-10    7.0    6.0    5.0    4.0    3.0          5.0            5.0   \n",
       " 2000-01-11    8.0    7.0    6.0    5.0    4.0          6.0            6.0   \n",
       " 2000-01-12    9.0    8.0    7.0    6.0    5.0          7.0            7.0   \n",
       " 2000-01-13   10.0    9.0    8.0    7.0    6.0          8.0            8.0   \n",
       " 2000-01-14   11.0   10.0    9.0    8.0    7.0          9.0            9.0   \n",
       " 2000-01-15   12.0   11.0   10.0    9.0    8.0         10.0           10.0   \n",
       " \n",
       "             roll_sum_6  exog_step_1  exog_step_2  \n",
       " 2000-01-08        15.0        106.0        107.0  \n",
       " 2000-01-09        21.0        107.0        108.0  \n",
       " 2000-01-10        27.0        108.0        109.0  \n",
       " 2000-01-11        33.0        109.0        110.0  \n",
       " 2000-01-12        39.0        110.0        111.0  \n",
       " 2000-01-13        45.0        111.0        112.0  \n",
       " 2000-01-14        51.0        112.0        113.0  \n",
       " 2000-01-15        57.0        113.0        114.0  ,\n",
       " {1: 2000-01-07     6.0\n",
       "  2000-01-08     7.0\n",
       "  2000-01-09     8.0\n",
       "  2000-01-10     9.0\n",
       "  2000-01-11    10.0\n",
       "  2000-01-12    11.0\n",
       "  2000-01-13    12.0\n",
       "  2000-01-14    13.0\n",
       "  Freq: D, Name: y_step_1, dtype: float64,\n",
       "  2: 2000-01-08     7.0\n",
       "  2000-01-09     8.0\n",
       "  2000-01-10     9.0\n",
       "  2000-01-11    10.0\n",
       "  2000-01-12    11.0\n",
       "  2000-01-13    12.0\n",
       "  2000-01-14    13.0\n",
       "  2000-01-15    14.0\n",
       "  Freq: D, Name: y_step_2, dtype: float64},\n",
       " ['exog'],\n",
       " ['roll_mean_5', 'roll_median_5', 'roll_sum_6'],\n",
       " ['exog'],\n",
       " ['lag_1',\n",
       "  'lag_2',\n",
       "  'lag_3',\n",
       "  'lag_4',\n",
       "  'lag_5',\n",
       "  'roll_mean_5',\n",
       "  'roll_median_5',\n",
       "  'roll_sum_6',\n",
       "  'exog_step_1',\n",
       "  'exog_step_2'],\n",
       " {'exog': dtype('float64')})"
      ]
     },
     "execution_count": 20,
     "metadata": {},
     "output_type": "execute_result"
    }
   ],
   "source": [
    "y_datetime = pd.Series(\n",
    "    np.arange(15), index=pd.date_range('2000-01-01', periods=15, freq='D'),\n",
    "    name='y', dtype=float\n",
    ")\n",
    "exog_datetime = pd.Series(\n",
    "    np.arange(100, 115), index=pd.date_range('2000-01-01', periods=15, freq='D'),\n",
    "    name='exog', dtype=float\n",
    ")\n",
    "rolling = RollingFeatures(\n",
    "    stats=['mean', 'median', 'sum'], window_sizes=[5, 5, 6]\n",
    ")\n",
    "\n",
    "forecaster = ForecasterAutoregDirect(\n",
    "    LinearRegression(), steps=2, lags=5, window_features=rolling\n",
    ")\n",
    "results = forecaster._create_train_X_y(y=y_datetime, exog=exog_datetime)\n",
    "results"
   ]
  },
  {
   "cell_type": "code",
   "execution_count": 24,
   "metadata": {},
   "outputs": [
    {
     "name": "stdout",
     "output_type": "stream",
     "text": [
      "[        nan  0.09974117 -0.04199628 -0.08399257 -0.58269844  1.16539688\n",
      " -0.3989647   1.46462041  1.21789224 -3.39119993]\n",
      "1 -1\n",
      "[ 0.09974117 -0.04199628 -0.08399257 -0.58269844  1.16539688 -0.3989647\n",
      "  1.46462041  1.21789224]\n",
      "DatetimeIndex(['2000-01-02', '2000-01-03', '2000-01-04', '2000-01-05',\n",
      "               '2000-01-06', '2000-01-07', '2000-01-08', '2000-01-09'],\n",
      "              dtype='datetime64[ns]', freq='D')\n",
      "DatetimeIndex(['2000-01-08', '2000-01-09', '2000-01-10'], dtype='datetime64[ns]', freq='D')\n"
     ]
    },
    {
     "data": {
      "text/plain": [
       "(               lag_1     lag_5  roll_ratio_min_max_4  roll_median_4  \\\n",
       " 2000-01-08  1.165397  0.099741             -0.500000      -0.062994   \n",
       " 2000-01-09 -0.398965 -0.041996             -0.500000      -0.241479   \n",
       " 2000-01-10  1.464620 -0.083993             -0.397849       0.383216   \n",
       " \n",
       "             col_1_step_1  col_2_a_step_1  col_2_b_step_1  col_1_step_2  \\\n",
       " 2000-01-08      1.698160             0.0             1.0      0.040403   \n",
       " 2000-01-09      0.040403             0.0             1.0     -1.325790   \n",
       " 2000-01-10     -1.325790             0.0             1.0      1.127525   \n",
       " \n",
       "             col_2_a_step_2  col_2_b_step_2  \n",
       " 2000-01-08             0.0             1.0  \n",
       " 2000-01-09             0.0             1.0  \n",
       " 2000-01-10             0.0             1.0  ,\n",
       " {1: 2000-01-07   -0.398965\n",
       "  2000-01-08    1.464620\n",
       "  2000-01-09    1.217892\n",
       "  Freq: D, Name: y_step_1, dtype: float64,\n",
       "  2: 2000-01-08    1.464620\n",
       "  2000-01-09    1.217892\n",
       "  2000-01-10   -3.391200\n",
       "  Freq: D, Name: y_step_2, dtype: float64},\n",
       " ['col_1', 'col_2'],\n",
       " ['roll_ratio_min_max_4', 'roll_median_4'],\n",
       " ['col_1', 'col_2_a', 'col_2_b'],\n",
       " ['lag_1',\n",
       "  'lag_5',\n",
       "  'roll_ratio_min_max_4',\n",
       "  'roll_median_4',\n",
       "  'col_1_step_1',\n",
       "  'col_2_a_step_1',\n",
       "  'col_2_b_step_1',\n",
       "  'col_1_step_2',\n",
       "  'col_2_a_step_2',\n",
       "  'col_2_b_step_2'],\n",
       " {'col_1': dtype('float64'), 'col_2': dtype('O')})"
      ]
     },
     "execution_count": 24,
     "metadata": {},
     "output_type": "execute_result"
    }
   ],
   "source": [
    "y_datetime = pd.Series(\n",
    "    [25.3, 29.1, 27.5, 24.3, 2.1, 46.5, 31.3, 87.1, 133.5, 4.3],\n",
    "    index=pd.date_range('2000-01-01', periods=10, freq='D'),\n",
    "    name='y', dtype=float\n",
    ")\n",
    "exog = pd.DataFrame({\n",
    "            'col_1': [7.5, 24.4, 60.3, 57.3, 50.7, 41.4, 87.2, 47.4, 14.6, 73.5],\n",
    "            'col_2': ['a', 'a', 'a', 'a', 'a', 'b', 'b', 'b', 'b', 'b']},\n",
    "            index = pd.date_range('2000-01-01', periods=10, freq='D')\n",
    "        )\n",
    "\n",
    "transformer_y = StandardScaler()\n",
    "transformer_exog = ColumnTransformer(\n",
    "                        [('scale', StandardScaler(), ['col_1']),\n",
    "                            ('onehot', OneHotEncoder(), ['col_2'])],\n",
    "                        remainder = 'passthrough',\n",
    "                        verbose_feature_names_out = False\n",
    "                    )\n",
    "rolling = RollingFeatures(\n",
    "    stats=['ratio_min_max', 'median'], window_sizes=4\n",
    ")\n",
    "\n",
    "forecaster = ForecasterAutoregDirect(\n",
    "                    LinearRegression(), \n",
    "                    steps            = 2,\n",
    "                    lags             = [1, 5], \n",
    "                    window_features  = rolling,\n",
    "                    transformer_y    = transformer_y,\n",
    "                    transformer_exog = transformer_exog,\n",
    "                    differentiation  = 1\n",
    "                )\n",
    "results = forecaster._create_train_X_y(y=y_datetime, exog=exog)\n",
    "results"
   ]
  },
  {
   "cell_type": "code",
   "execution_count": 30,
   "metadata": {},
   "outputs": [
    {
     "data": {
      "text/plain": [
       "array([ 1.46462041,  1.21789224, -3.39119993])"
      ]
     },
     "execution_count": 30,
     "metadata": {},
     "output_type": "execute_result"
    }
   ],
   "source": [
    "results[1][2].to_numpy()"
   ]
  },
  {
   "cell_type": "markdown",
   "metadata": {},
   "source": []
  },
  {
   "cell_type": "code",
   "execution_count": 17,
   "metadata": {},
   "outputs": [],
   "source": [
    "forecaster = ForecasterAutoregDirect(\n",
    "                 regressor       = LinearRegression(),\n",
    "                 steps           = 5,\n",
    "                 lags            = 100,\n",
    "                 window_features = None,\n",
    "                 differentiation = None\n",
    "             )\n",
    "\n",
    "y = pd.Series(np.arange(10000), name='y')\n",
    "output_new, _ = forecaster._create_lags_new(y=y)\n",
    "output_old, _  = forecaster._create_lags(y=y)"
   ]
  },
  {
   "cell_type": "code",
   "execution_count": 18,
   "metadata": {},
   "outputs": [],
   "source": [
    "cols = [f\"lag_{i}\" for i in forecaster.lags]"
   ]
  },
  {
   "cell_type": "code",
   "execution_count": 19,
   "metadata": {},
   "outputs": [
    {
     "name": "stdout",
     "output_type": "stream",
     "text": [
      "37.1 μs ± 384 ns per loop (mean ± std. dev. of 7 runs, 10,000 loops each)\n"
     ]
    }
   ],
   "source": [
    "%%timeit\n",
    "\n",
    "pd.DataFrame(\n",
    "    data    = output_new,\n",
    "    columns = cols\n",
    ")"
   ]
  },
  {
   "cell_type": "code",
   "execution_count": 20,
   "metadata": {},
   "outputs": [
    {
     "name": "stdout",
     "output_type": "stream",
     "text": [
      "37.1 μs ± 306 ns per loop (mean ± std. dev. of 7 runs, 10,000 loops each)\n"
     ]
    }
   ],
   "source": [
    "%%timeit\n",
    "\n",
    "pd.DataFrame(\n",
    "    data    = output_old,\n",
    "    columns = cols\n",
    ")"
   ]
  },
  {
   "cell_type": "code",
   "execution_count": 32,
   "metadata": {},
   "outputs": [
    {
     "data": {
      "text/plain": [
       "array([0, 1, 2, 3, 4, 5, 6, 7, 8, 9])"
      ]
     },
     "execution_count": 32,
     "metadata": {},
     "output_type": "execute_result"
    }
   ],
   "source": [
    "y = np.arange(10)\n",
    "y"
   ]
  },
  {
   "cell_type": "code",
   "execution_count": 34,
   "metadata": {},
   "outputs": [
    {
     "data": {
      "text/plain": [
       "array([1, 2, 3, 4, 5, 6, 7, 8])"
      ]
     },
     "execution_count": 34,
     "metadata": {},
     "output_type": "execute_result"
    }
   ],
   "source": [
    "steps = 2\n",
    "\n",
    "np.arange(10)[1:len(y)-(steps - 1)]"
   ]
  },
  {
   "cell_type": "code",
   "execution_count": 35,
   "metadata": {},
   "outputs": [],
   "source": [
    "import re\n",
    "import pytest\n",
    "import numpy as np\n",
    "import pandas as pd\n",
    "from sklearn.exceptions import NotFittedError\n",
    "from sklearn.linear_model import LinearRegression\n",
    "from sklearn.preprocessing import StandardScaler\n",
    "from lightgbm import LGBMRegressor\n",
    "\n",
    "from skforecast.preprocessing import RollingFeatures\n",
    "from skforecast.preprocessing import TimeSeriesDifferentiator\n",
    "from skforecast.ForecasterAutoreg import ForecasterAutoreg"
   ]
  },
  {
   "cell_type": "code",
   "execution_count": 36,
   "metadata": {},
   "outputs": [],
   "source": [
    "forecaster = ForecasterAutoreg(\n",
    "                 regressor       = LinearRegression(),\n",
    "                 lags            = 20,\n",
    "                 window_features = None,\n",
    "                 differentiation = None\n",
    "             )\n",
    "\n",
    "y = pd.Series(np.arange(10000), name='y')\n",
    "forecaster.fit(y=y)"
   ]
  },
  {
   "cell_type": "code",
   "execution_count": 44,
   "metadata": {},
   "outputs": [
    {
     "name": "stdout",
     "output_type": "stream",
     "text": [
      "545 ms ± 4.8 ms per loop (mean ± std. dev. of 7 runs, 1 loop each)\n"
     ]
    }
   ],
   "source": [
    "%%timeit\n",
    "\n",
    "forecaster.predict_bootstrapping(steps=25, n_boot=500)"
   ]
  },
  {
   "cell_type": "code",
   "execution_count": 45,
   "metadata": {},
   "outputs": [
    {
     "name": "stdout",
     "output_type": "stream",
     "text": [
      "543 ms ± 2.31 ms per loop (mean ± std. dev. of 7 runs, 1 loop each)\n"
     ]
    }
   ],
   "source": [
    "%%timeit\n",
    "\n",
    "forecaster.predict_bootstrapping_old(steps=25, n_boot=500)"
   ]
  },
  {
   "cell_type": "code",
   "execution_count": 48,
   "metadata": {},
   "outputs": [],
   "source": [
    "diferenciator = TimeSeriesDifferentiator(order=1)\n",
    "data_diff = diferenciator.fit_transform(data.to_numpy())\n",
    "data_diff = pd.Series(data_diff, index=data.index).dropna()\n",
    "# Simulated exogenous variable\n",
    "rng = np.random.default_rng(9876)\n",
    "exog = pd.Series(\n",
    "    rng.normal(loc=0, scale=1, size=len(data)), index=data.index, name='exog'\n",
    ")\n",
    "exog_diff = exog.iloc[1:]\n",
    "end_train = '2003-03-01 23:59:00'"
   ]
  },
  {
   "cell_type": "code",
   "execution_count": 59,
   "metadata": {},
   "outputs": [
    {
     "data": {
      "text/plain": [
       "2003-04-01    0.084479\n",
       "2003-05-01    0.013194\n",
       "Freq: MS, Name: pred, dtype: float64"
      ]
     },
     "execution_count": 59,
     "metadata": {},
     "output_type": "execute_result"
    }
   ],
   "source": [
    "forecaster_1 = ForecasterAutoregDirect(regressor=LinearRegression(), steps=2, lags=3)\n",
    "forecaster_1.fit(y=data_diff.loc[:end_train], exog=exog_diff.loc[:end_train])\n",
    "predictions_diff = forecaster_1.predict(exog=exog_diff.loc[end_train:])\n",
    "predictions_diff"
   ]
  },
  {
   "cell_type": "code",
   "execution_count": 60,
   "metadata": {},
   "outputs": [
    {
     "data": {
      "text/plain": [
       "2003-04-01    0.084479\n",
       "2003-05-01    0.013194\n",
       "Freq: MS, Name: pred, dtype: float64"
      ]
     },
     "execution_count": 60,
     "metadata": {},
     "output_type": "execute_result"
    }
   ],
   "source": [
    "forecaster_2 = ForecasterAutoregDirect(regressor=LinearRegression(), steps=2, lags=3, differentiation=1)\n",
    "forecaster_2.fit(y=data.loc[:end_train], exog=exog.loc[:end_train])\n",
    "predictions_2 = forecaster_2.predict(exog=exog.loc[end_train:])\n",
    "predictions_2"
   ]
  },
  {
   "cell_type": "code",
   "execution_count": 69,
   "metadata": {},
   "outputs": [
    {
     "data": {
      "text/html": [
       "<div>\n",
       "<style scoped>\n",
       "    .dataframe tbody tr th:only-of-type {\n",
       "        vertical-align: middle;\n",
       "    }\n",
       "\n",
       "    .dataframe tbody tr th {\n",
       "        vertical-align: top;\n",
       "    }\n",
       "\n",
       "    .dataframe thead th {\n",
       "        text-align: right;\n",
       "    }\n",
       "</style>\n",
       "<table border=\"1\" class=\"dataframe\">\n",
       "  <thead>\n",
       "    <tr style=\"text-align: right;\">\n",
       "      <th></th>\n",
       "      <th>lag_1</th>\n",
       "      <th>lag_2</th>\n",
       "      <th>lag_3</th>\n",
       "      <th>lag_4</th>\n",
       "      <th>lag_5</th>\n",
       "      <th>roll_mean_5</th>\n",
       "      <th>roll_median_5</th>\n",
       "      <th>roll_sum_6</th>\n",
       "      <th>exog_1</th>\n",
       "      <th>exog_2</th>\n",
       "    </tr>\n",
       "  </thead>\n",
       "  <tbody>\n",
       "    <tr>\n",
       "      <th>2000-01-21</th>\n",
       "      <td>19.0</td>\n",
       "      <td>18.0</td>\n",
       "      <td>17.0</td>\n",
       "      <td>16.0</td>\n",
       "      <td>15.0</td>\n",
       "      <td>17.0</td>\n",
       "      <td>17.0</td>\n",
       "      <td>99.0</td>\n",
       "      <td>120.0</td>\n",
       "      <td>220.0</td>\n",
       "    </tr>\n",
       "    <tr>\n",
       "      <th>2000-01-22</th>\n",
       "      <td>19.0</td>\n",
       "      <td>18.0</td>\n",
       "      <td>17.0</td>\n",
       "      <td>16.0</td>\n",
       "      <td>15.0</td>\n",
       "      <td>17.0</td>\n",
       "      <td>17.0</td>\n",
       "      <td>99.0</td>\n",
       "      <td>121.0</td>\n",
       "      <td>221.0</td>\n",
       "    </tr>\n",
       "    <tr>\n",
       "      <th>2000-01-23</th>\n",
       "      <td>19.0</td>\n",
       "      <td>18.0</td>\n",
       "      <td>17.0</td>\n",
       "      <td>16.0</td>\n",
       "      <td>15.0</td>\n",
       "      <td>17.0</td>\n",
       "      <td>17.0</td>\n",
       "      <td>99.0</td>\n",
       "      <td>122.0</td>\n",
       "      <td>222.0</td>\n",
       "    </tr>\n",
       "    <tr>\n",
       "      <th>2000-01-24</th>\n",
       "      <td>19.0</td>\n",
       "      <td>18.0</td>\n",
       "      <td>17.0</td>\n",
       "      <td>16.0</td>\n",
       "      <td>15.0</td>\n",
       "      <td>17.0</td>\n",
       "      <td>17.0</td>\n",
       "      <td>99.0</td>\n",
       "      <td>123.0</td>\n",
       "      <td>223.0</td>\n",
       "    </tr>\n",
       "    <tr>\n",
       "      <th>2000-01-25</th>\n",
       "      <td>19.0</td>\n",
       "      <td>18.0</td>\n",
       "      <td>17.0</td>\n",
       "      <td>16.0</td>\n",
       "      <td>15.0</td>\n",
       "      <td>17.0</td>\n",
       "      <td>17.0</td>\n",
       "      <td>99.0</td>\n",
       "      <td>124.0</td>\n",
       "      <td>224.0</td>\n",
       "    </tr>\n",
       "    <tr>\n",
       "      <th>2000-01-26</th>\n",
       "      <td>19.0</td>\n",
       "      <td>18.0</td>\n",
       "      <td>17.0</td>\n",
       "      <td>16.0</td>\n",
       "      <td>15.0</td>\n",
       "      <td>17.0</td>\n",
       "      <td>17.0</td>\n",
       "      <td>99.0</td>\n",
       "      <td>125.0</td>\n",
       "      <td>225.0</td>\n",
       "    </tr>\n",
       "    <tr>\n",
       "      <th>2000-01-27</th>\n",
       "      <td>19.0</td>\n",
       "      <td>18.0</td>\n",
       "      <td>17.0</td>\n",
       "      <td>16.0</td>\n",
       "      <td>15.0</td>\n",
       "      <td>17.0</td>\n",
       "      <td>17.0</td>\n",
       "      <td>99.0</td>\n",
       "      <td>126.0</td>\n",
       "      <td>226.0</td>\n",
       "    </tr>\n",
       "    <tr>\n",
       "      <th>2000-01-28</th>\n",
       "      <td>19.0</td>\n",
       "      <td>18.0</td>\n",
       "      <td>17.0</td>\n",
       "      <td>16.0</td>\n",
       "      <td>15.0</td>\n",
       "      <td>17.0</td>\n",
       "      <td>17.0</td>\n",
       "      <td>99.0</td>\n",
       "      <td>127.0</td>\n",
       "      <td>227.0</td>\n",
       "    </tr>\n",
       "    <tr>\n",
       "      <th>2000-01-29</th>\n",
       "      <td>19.0</td>\n",
       "      <td>18.0</td>\n",
       "      <td>17.0</td>\n",
       "      <td>16.0</td>\n",
       "      <td>15.0</td>\n",
       "      <td>17.0</td>\n",
       "      <td>17.0</td>\n",
       "      <td>99.0</td>\n",
       "      <td>128.0</td>\n",
       "      <td>228.0</td>\n",
       "    </tr>\n",
       "    <tr>\n",
       "      <th>2000-01-30</th>\n",
       "      <td>19.0</td>\n",
       "      <td>18.0</td>\n",
       "      <td>17.0</td>\n",
       "      <td>16.0</td>\n",
       "      <td>15.0</td>\n",
       "      <td>17.0</td>\n",
       "      <td>17.0</td>\n",
       "      <td>99.0</td>\n",
       "      <td>129.0</td>\n",
       "      <td>229.0</td>\n",
       "    </tr>\n",
       "  </tbody>\n",
       "</table>\n",
       "</div>"
      ],
      "text/plain": [
       "            lag_1  lag_2  lag_3  lag_4  lag_5  roll_mean_5  roll_median_5  \\\n",
       "2000-01-21   19.0   18.0   17.0   16.0   15.0         17.0           17.0   \n",
       "2000-01-22   19.0   18.0   17.0   16.0   15.0         17.0           17.0   \n",
       "2000-01-23   19.0   18.0   17.0   16.0   15.0         17.0           17.0   \n",
       "2000-01-24   19.0   18.0   17.0   16.0   15.0         17.0           17.0   \n",
       "2000-01-25   19.0   18.0   17.0   16.0   15.0         17.0           17.0   \n",
       "2000-01-26   19.0   18.0   17.0   16.0   15.0         17.0           17.0   \n",
       "2000-01-27   19.0   18.0   17.0   16.0   15.0         17.0           17.0   \n",
       "2000-01-28   19.0   18.0   17.0   16.0   15.0         17.0           17.0   \n",
       "2000-01-29   19.0   18.0   17.0   16.0   15.0         17.0           17.0   \n",
       "2000-01-30   19.0   18.0   17.0   16.0   15.0         17.0           17.0   \n",
       "\n",
       "            roll_sum_6  exog_1  exog_2  \n",
       "2000-01-21        99.0   120.0   220.0  \n",
       "2000-01-22        99.0   121.0   221.0  \n",
       "2000-01-23        99.0   122.0   222.0  \n",
       "2000-01-24        99.0   123.0   223.0  \n",
       "2000-01-25        99.0   124.0   224.0  \n",
       "2000-01-26        99.0   125.0   225.0  \n",
       "2000-01-27        99.0   126.0   226.0  \n",
       "2000-01-28        99.0   127.0   227.0  \n",
       "2000-01-29        99.0   128.0   228.0  \n",
       "2000-01-30        99.0   129.0   229.0  "
      ]
     },
     "execution_count": 69,
     "metadata": {},
     "output_type": "execute_result"
    }
   ],
   "source": [
    "y_datetime = pd.Series(\n",
    "    np.arange(20), index=pd.date_range('2000-01-01', periods=20, freq='D'),\n",
    "    name='y', dtype=float\n",
    ")\n",
    "exog_datetime = pd.DataFrame(\n",
    "    {'exog_1': np.arange(100, 120), \n",
    "        'exog_2': np.arange(200, 220)},\n",
    "    index=pd.date_range('2000-01-01', periods=20, freq='D')\n",
    ")\n",
    "exog_datetime_pred = pd.DataFrame(\n",
    "    {'exog_1': np.arange(120, 130),\n",
    "        'exog_2': np.arange(220, 230)},\n",
    "    index=pd.date_range('2000-01-21', periods=10, freq='D')\n",
    ")\n",
    "rolling = RollingFeatures(stats=['mean', 'median'], window_sizes=[5, 5])\n",
    "rolling_2 = RollingFeatures(stats='sum', window_sizes=[6])\n",
    "\n",
    "forecaster = ForecasterAutoregDirect(\n",
    "    LinearRegression(), steps=10, lags=5, window_features=[rolling, rolling_2]\n",
    ")\n",
    "forecaster.fit(y=y_datetime, exog=exog_datetime)\n",
    "results = forecaster.create_predict_X(exog=exog_datetime_pred)\n",
    "results"
   ]
  },
  {
   "cell_type": "code",
   "execution_count": 88,
   "metadata": {},
   "outputs": [
    {
     "name": "stdout",
     "output_type": "stream",
     "text": [
      "[0.01761623]\n",
      "[[ 0.10992     0.01980385  0.10648701  0.02050036 -0.00953575  0.07800467\n",
      "   0.01866525  0.00693296  0.00718461  0.06564146]]\n"
     ]
    },
    {
     "data": {
      "text/html": [
       "<div>\n",
       "<style scoped>\n",
       "    .dataframe tbody tr th:only-of-type {\n",
       "        vertical-align: middle;\n",
       "    }\n",
       "\n",
       "    .dataframe tbody tr th {\n",
       "        vertical-align: top;\n",
       "    }\n",
       "\n",
       "    .dataframe thead th {\n",
       "        text-align: right;\n",
       "    }\n",
       "</style>\n",
       "<table border=\"1\" class=\"dataframe\">\n",
       "  <thead>\n",
       "    <tr style=\"text-align: right;\">\n",
       "      <th></th>\n",
       "      <th>pred_boot_0</th>\n",
       "      <th>pred_boot_1</th>\n",
       "      <th>pred_boot_2</th>\n",
       "      <th>pred_boot_3</th>\n",
       "      <th>pred_boot_4</th>\n",
       "      <th>pred_boot_5</th>\n",
       "      <th>pred_boot_6</th>\n",
       "      <th>pred_boot_7</th>\n",
       "      <th>pred_boot_8</th>\n",
       "      <th>pred_boot_9</th>\n",
       "    </tr>\n",
       "  </thead>\n",
       "  <tbody>\n",
       "    <tr>\n",
       "      <th>2003-04-01</th>\n",
       "      <td>0.10992</td>\n",
       "      <td>0.019804</td>\n",
       "      <td>0.106487</td>\n",
       "      <td>0.0205</td>\n",
       "      <td>-0.009536</td>\n",
       "      <td>0.078005</td>\n",
       "      <td>0.018665</td>\n",
       "      <td>0.006933</td>\n",
       "      <td>0.007185</td>\n",
       "      <td>0.065641</td>\n",
       "    </tr>\n",
       "  </tbody>\n",
       "</table>\n",
       "</div>"
      ],
      "text/plain": [
       "            pred_boot_0  pred_boot_1  pred_boot_2  pred_boot_3  pred_boot_4  \\\n",
       "2003-04-01      0.10992     0.019804     0.106487       0.0205    -0.009536   \n",
       "\n",
       "            pred_boot_5  pred_boot_6  pred_boot_7  pred_boot_8  pred_boot_9  \n",
       "2003-04-01     0.078005     0.018665     0.006933     0.007185     0.065641  "
      ]
     },
     "execution_count": 88,
     "metadata": {},
     "output_type": "execute_result"
    }
   ],
   "source": [
    "diferenciator = TimeSeriesDifferentiator(order=1)\n",
    "data_diff = diferenciator.fit_transform(data.to_numpy())\n",
    "data_diff = pd.Series(data_diff, index=data.index).dropna()\n",
    "\n",
    "# Simulated exogenous variable\n",
    "rng = np.random.default_rng(9876)\n",
    "exog = pd.Series(\n",
    "    rng.normal(loc=0, scale=1, size=len(data)), index=data.index, name='exog'\n",
    ")\n",
    "exog_diff = exog.iloc[1:]\n",
    "end_train = '2003-03-01 23:59:00'\n",
    "\n",
    "forecaster_1 = ForecasterAutoregDirect(regressor=LinearRegression(), steps=1, lags=15)\n",
    "forecaster_1.fit(y=data_diff.loc[:end_train], exog=exog_diff.loc[:end_train])\n",
    "boot_predictions_diff = forecaster_1.predict_bootstrapping(\n",
    "    exog=exog_diff.loc[end_train:], n_boot=10\n",
    ")\n",
    "boot_predictions_diff"
   ]
  },
  {
   "cell_type": "code",
   "execution_count": 89,
   "metadata": {},
   "outputs": [
    {
     "data": {
      "text/plain": [
       "1991-07-01    0.429795\n",
       "1991-08-01    0.410906\n",
       "1991-09-01    0.452159\n",
       "1991-10-01    0.522543\n",
       "1991-11-01    0.542369\n",
       "                ...   \n",
       "2002-11-01    2.366796\n",
       "2002-12-01    2.472776\n",
       "2003-01-01    2.458145\n",
       "2003-02-01    1.968296\n",
       "2003-03-01    2.043333\n",
       "Freq: MS, Name: y, Length: 141, dtype: float64"
      ]
     },
     "execution_count": 89,
     "metadata": {},
     "output_type": "execute_result"
    }
   ],
   "source": [
    "data.loc[:end_train]"
   ]
  },
  {
   "cell_type": "code",
   "execution_count": 90,
   "metadata": {},
   "outputs": [
    {
     "name": "stdout",
     "output_type": "stream",
     "text": [
      "2003-03-01    2.043333\n",
      "Freq: MS, Name: y, dtype: float64\n"
     ]
    },
    {
     "data": {
      "text/html": [
       "<div>\n",
       "<style scoped>\n",
       "    .dataframe tbody tr th:only-of-type {\n",
       "        vertical-align: middle;\n",
       "    }\n",
       "\n",
       "    .dataframe tbody tr th {\n",
       "        vertical-align: top;\n",
       "    }\n",
       "\n",
       "    .dataframe thead th {\n",
       "        text-align: right;\n",
       "    }\n",
       "</style>\n",
       "<table border=\"1\" class=\"dataframe\">\n",
       "  <thead>\n",
       "    <tr style=\"text-align: right;\">\n",
       "      <th></th>\n",
       "      <th>pred_boot_0</th>\n",
       "      <th>pred_boot_1</th>\n",
       "      <th>pred_boot_2</th>\n",
       "      <th>pred_boot_3</th>\n",
       "      <th>pred_boot_4</th>\n",
       "      <th>pred_boot_5</th>\n",
       "      <th>pred_boot_6</th>\n",
       "      <th>pred_boot_7</th>\n",
       "      <th>pred_boot_8</th>\n",
       "      <th>pred_boot_9</th>\n",
       "    </tr>\n",
       "  </thead>\n",
       "  <tbody>\n",
       "    <tr>\n",
       "      <th>2003-04-01</th>\n",
       "      <td>2.153253</td>\n",
       "      <td>2.063137</td>\n",
       "      <td>2.14982</td>\n",
       "      <td>2.063834</td>\n",
       "      <td>2.033798</td>\n",
       "      <td>2.121338</td>\n",
       "      <td>2.061999</td>\n",
       "      <td>2.050266</td>\n",
       "      <td>2.050518</td>\n",
       "      <td>2.108975</td>\n",
       "    </tr>\n",
       "  </tbody>\n",
       "</table>\n",
       "</div>"
      ],
      "text/plain": [
       "            pred_boot_0  pred_boot_1  pred_boot_2  pred_boot_3  pred_boot_4  \\\n",
       "2003-04-01     2.153253     2.063137      2.14982     2.063834     2.033798   \n",
       "\n",
       "            pred_boot_5  pred_boot_6  pred_boot_7  pred_boot_8  pred_boot_9  \n",
       "2003-04-01     2.121338     2.061999     2.050266     2.050518     2.108975  "
      ]
     },
     "execution_count": 90,
     "metadata": {},
     "output_type": "execute_result"
    }
   ],
   "source": [
    "last_value_train = data.loc[:end_train].iloc[[-1]]\n",
    "print(last_value_train)\n",
    "boot_predictions_1 = boot_predictions_diff.copy()\n",
    "boot_predictions_1.loc[last_value_train.index[0]] = last_value_train.values[0]\n",
    "boot_predictions_1 = boot_predictions_1.sort_index()\n",
    "boot_predictions_1 = boot_predictions_1.cumsum(axis=0).iloc[1:,]\n",
    "boot_predictions_1"
   ]
  },
  {
   "cell_type": "code",
   "execution_count": 91,
   "metadata": {},
   "outputs": [
    {
     "name": "stdout",
     "output_type": "stream",
     "text": [
      "[0.01761623]\n",
      "[[ 0.10992     0.01980385  0.10648701  0.02050036 -0.00953575  0.07800467\n",
      "   0.01866525  0.00693296  0.00718461  0.06564146]]\n"
     ]
    },
    {
     "data": {
      "text/html": [
       "<div>\n",
       "<style scoped>\n",
       "    .dataframe tbody tr th:only-of-type {\n",
       "        vertical-align: middle;\n",
       "    }\n",
       "\n",
       "    .dataframe tbody tr th {\n",
       "        vertical-align: top;\n",
       "    }\n",
       "\n",
       "    .dataframe thead th {\n",
       "        text-align: right;\n",
       "    }\n",
       "</style>\n",
       "<table border=\"1\" class=\"dataframe\">\n",
       "  <thead>\n",
       "    <tr style=\"text-align: right;\">\n",
       "      <th></th>\n",
       "      <th>pred_boot_0</th>\n",
       "      <th>pred_boot_1</th>\n",
       "      <th>pred_boot_2</th>\n",
       "      <th>pred_boot_3</th>\n",
       "      <th>pred_boot_4</th>\n",
       "      <th>pred_boot_5</th>\n",
       "      <th>pred_boot_6</th>\n",
       "      <th>pred_boot_7</th>\n",
       "      <th>pred_boot_8</th>\n",
       "      <th>pred_boot_9</th>\n",
       "    </tr>\n",
       "  </thead>\n",
       "  <tbody>\n",
       "    <tr>\n",
       "      <th>2003-04-01</th>\n",
       "      <td>2.153253</td>\n",
       "      <td>2.063137</td>\n",
       "      <td>2.14982</td>\n",
       "      <td>2.063834</td>\n",
       "      <td>2.033798</td>\n",
       "      <td>2.121338</td>\n",
       "      <td>2.061999</td>\n",
       "      <td>2.050266</td>\n",
       "      <td>2.050518</td>\n",
       "      <td>2.108975</td>\n",
       "    </tr>\n",
       "  </tbody>\n",
       "</table>\n",
       "</div>"
      ],
      "text/plain": [
       "            pred_boot_0  pred_boot_1  pred_boot_2  pred_boot_3  pred_boot_4  \\\n",
       "2003-04-01     2.153253     2.063137      2.14982     2.063834     2.033798   \n",
       "\n",
       "            pred_boot_5  pred_boot_6  pred_boot_7  pred_boot_8  pred_boot_9  \n",
       "2003-04-01     2.121338     2.061999     2.050266     2.050518     2.108975  "
      ]
     },
     "execution_count": 91,
     "metadata": {},
     "output_type": "execute_result"
    }
   ],
   "source": [
    "forecaster_2 = ForecasterAutoregDirect(regressor=LinearRegression(), steps=1, lags=15, differentiation=1)\n",
    "forecaster_2.fit(y=data.loc[:end_train], exog=exog.loc[:end_train])\n",
    "boot_predictions_2 = forecaster_2.predict_bootstrapping(\n",
    "        exog=exog_diff.loc[end_train:], n_boot=10\n",
    "    )\n",
    "boot_predictions_2.head(3)"
   ]
  },
  {
   "cell_type": "code",
   "execution_count": 86,
   "metadata": {},
   "outputs": [
    {
     "data": {
      "text/plain": [
       "{1: array([ 0.01746861,  0.09230377,  0.04060913, -0.05912942, -0.00600831,\n",
       "        -0.021614  ,  0.00288413, -0.00272942, -0.01943126,  0.02912783,\n",
       "         0.00733195,  0.0242183 ,  0.03504128,  0.1372057 , -0.0080244 ,\n",
       "        -0.05878831,  0.00982868,  0.02356983,  0.02241519,  0.00518851,\n",
       "         0.00406041,  0.04802523,  0.00565868, -0.01068326, -0.04404133,\n",
       "        -0.183798  ,  0.00468954,  0.06038844,  0.0935621 ,  0.00894786,\n",
       "        -0.01337187,  0.00104902,  0.02223371,  0.02324297, -0.02371574,\n",
       "         0.06415126,  0.01600326,  0.04952103,  0.06624363, -0.02478322,\n",
       "        -0.06424415, -0.01043162,  0.02009803, -0.04190381,  0.03090841,\n",
       "        -0.05712068, -0.03306857, -0.03877012, -0.02371599,  0.03598932,\n",
       "        -0.0741605 , -0.06631351, -0.04751757,  0.00874729, -0.02114579,\n",
       "         0.02030593, -0.02565921, -0.04489306,  0.0068321 ,  0.0125604 ,\n",
       "        -0.03625581,  0.01943021, -0.04010963,  0.02787261,  0.03436609,\n",
       "        -0.00655551, -0.0595945 , -0.00951804, -0.01300774, -0.03074619,\n",
       "         0.0036876 , -0.04185392,  0.01299338, -0.02661256,  0.08887078,\n",
       "        -0.01391633,  0.10178218, -0.02719665,  0.02824402,  0.03770758,\n",
       "         0.03748858,  0.07795244, -0.00338981,  0.03106375,  0.02196463,\n",
       "         0.00218763,  0.0121223 , -0.02755312, -0.06883649,  0.00494188,\n",
       "         0.00234059,  0.00135722,  0.04043695, -0.02991173, -0.12649936,\n",
       "         0.03306068, -0.01381275, -0.02855687,  0.06505744, -0.05774886,\n",
       "         0.04204701, -0.00830052,  0.01583852, -0.09565477, -0.03130489,\n",
       "         0.03052788,  0.0130605 ,  0.05587587,  0.10170861, -0.06979825,\n",
       "         0.05822936, -0.02798848, -0.04941792, -0.02715198,  0.03485111,\n",
       "         0.02628586,  0.00283008, -0.02896742,  0.08470894, -0.04229409,\n",
       "        -0.13834773,  0.03635753, -0.01041778,  0.00392554, -0.02520407])}"
      ]
     },
     "execution_count": 86,
     "metadata": {},
     "output_type": "execute_result"
    }
   ],
   "source": [
    "forecaster_2 = ForecasterAutoregDirect(regressor=LinearRegression(), steps=1, lags=15, differentiation=1)\n",
    "forecaster_2.fit(y=data.loc[:end_train], exog=exog.loc[:end_train])\n",
    "forecaster_2.in_sample_residuals_"
   ]
  },
  {
   "cell_type": "code",
   "execution_count": 87,
   "metadata": {},
   "outputs": [
    {
     "data": {
      "text/plain": [
       "{1: array([ 1.93587251e-02,  1.26802694e-02,  8.44971510e-02,  3.27958537e-02,\n",
       "        -6.06432335e-02, -1.39289181e-02, -3.87806315e-02, -3.13277467e-03,\n",
       "        -1.19317174e-02, -2.85791372e-02,  2.22898821e-02, -2.04541278e-03,\n",
       "         1.45928262e-02,  3.23365608e-02,  1.29325483e-01, -5.45830942e-03,\n",
       "        -5.82717439e-02,  8.26023955e-04,  3.88679728e-03,  2.01419352e-02,\n",
       "        -1.33320108e-03, -3.89320349e-03,  4.20044264e-02, -6.24842683e-04,\n",
       "        -1.55812039e-02, -4.75101057e-02, -1.95007513e-01, -1.29086147e-02,\n",
       "         4.30641169e-02,  8.19665994e-02,  3.04101552e-02, -2.67473592e-03,\n",
       "        -5.14338253e-03,  1.74966832e-02,  1.73502558e-02, -2.69133857e-02,\n",
       "         6.20363201e-02,  1.20481378e-02,  4.90844376e-02,  7.16867054e-02,\n",
       "        -3.08400458e-02, -6.36030704e-02, -1.84767305e-02,  1.10726191e-02,\n",
       "        -4.81551685e-02,  3.30818218e-02, -6.09936728e-02, -3.85385280e-02,\n",
       "        -4.03152874e-02, -3.73337491e-02,  3.69862191e-02, -7.57552091e-02,\n",
       "        -6.79123882e-02, -5.10428905e-02, -4.57794659e-03, -1.34309895e-02,\n",
       "         1.62468191e-02, -2.04619646e-02, -4.27918293e-02,  9.08494118e-03,\n",
       "         8.37802774e-03, -3.18381240e-02,  2.46941071e-02, -3.95909358e-02,\n",
       "         2.74846816e-02,  3.61469824e-02, -2.34746858e-03, -4.61441296e-02,\n",
       "        -1.53514457e-02, -1.44421396e-02, -3.09151901e-02,  5.12450943e-03,\n",
       "        -4.04773360e-02,  1.31646647e-02, -2.28998125e-02,  8.96358843e-02,\n",
       "        -5.51762818e-03,  1.02506983e-01, -1.11906565e-02,  2.98332351e-02,\n",
       "         3.86624897e-02,  3.38061203e-02,  8.35085631e-02,  1.81497249e-03,\n",
       "         3.16895750e-02,  2.75745772e-02, -2.86384906e-03,  1.71745250e-02,\n",
       "        -2.79558099e-02, -7.32930046e-02,  4.17914282e-03,  2.63517066e-03,\n",
       "        -4.86836302e-03,  5.25643334e-02, -2.71142289e-02, -1.20995837e-01,\n",
       "         3.28747123e-02, -1.92970038e-02, -2.65990544e-02,  8.04050154e-02,\n",
       "        -5.96838249e-02,  5.04101331e-02,  5.54812698e-03,  2.13514984e-02,\n",
       "        -8.26665037e-02, -2.93838914e-02,  2.99976986e-02,  1.34846469e-02,\n",
       "         6.45818451e-02,  1.17469822e-01, -5.68980183e-02,  6.94245660e-02,\n",
       "        -1.94014183e-02, -5.41805711e-02, -1.78265902e-02,  4.08520357e-02,\n",
       "         2.06977767e-02,  2.07285656e-02, -2.20318642e-02,  8.72325745e-02,\n",
       "        -3.81022096e-02, -1.31888462e-01,  4.30958084e-02, -1.91285054e-02,\n",
       "         8.50073408e-03, -1.00456789e-04])}"
      ]
     },
     "execution_count": 87,
     "metadata": {},
     "output_type": "execute_result"
    }
   ],
   "source": [
    "forecaster_2 = ForecasterAutoregDirect(regressor=LinearRegression(), steps=1, lags=15)\n",
    "forecaster_2.fit(y=data.loc[:end_train], exog=exog.loc[:end_train])\n",
    "forecaster_2.in_sample_residuals_"
   ]
  },
  {
   "cell_type": "code",
   "execution_count": 96,
   "metadata": {},
   "outputs": [
    {
     "data": {
      "text/html": [
       "<div>\n",
       "<style scoped>\n",
       "    .dataframe tbody tr th:only-of-type {\n",
       "        vertical-align: middle;\n",
       "    }\n",
       "\n",
       "    .dataframe tbody tr th {\n",
       "        vertical-align: top;\n",
       "    }\n",
       "\n",
       "    .dataframe thead th {\n",
       "        text-align: right;\n",
       "    }\n",
       "</style>\n",
       "<table border=\"1\" class=\"dataframe\">\n",
       "  <thead>\n",
       "    <tr style=\"text-align: right;\">\n",
       "      <th></th>\n",
       "      <th>pred_boot_0</th>\n",
       "      <th>pred_boot_1</th>\n",
       "      <th>pred_boot_2</th>\n",
       "      <th>pred_boot_3</th>\n",
       "      <th>pred_boot_4</th>\n",
       "      <th>pred_boot_5</th>\n",
       "      <th>pred_boot_6</th>\n",
       "      <th>pred_boot_7</th>\n",
       "      <th>pred_boot_8</th>\n",
       "      <th>pred_boot_9</th>\n",
       "    </tr>\n",
       "  </thead>\n",
       "  <tbody>\n",
       "    <tr>\n",
       "      <th>2001-02-20</th>\n",
       "      <td>0.423106</td>\n",
       "      <td>0.630976</td>\n",
       "      <td>0.361789</td>\n",
       "      <td>0.980764</td>\n",
       "      <td>0.893389</td>\n",
       "      <td>0.438572</td>\n",
       "      <td>0.398044</td>\n",
       "      <td>0.729050</td>\n",
       "      <td>0.175452</td>\n",
       "      <td>0.729050</td>\n",
       "    </tr>\n",
       "    <tr>\n",
       "      <th>2001-02-21</th>\n",
       "      <td>0.531551</td>\n",
       "      <td>0.312261</td>\n",
       "      <td>0.724455</td>\n",
       "      <td>0.501837</td>\n",
       "      <td>0.724455</td>\n",
       "      <td>0.737995</td>\n",
       "      <td>0.425830</td>\n",
       "      <td>0.312261</td>\n",
       "      <td>0.893389</td>\n",
       "      <td>0.944160</td>\n",
       "    </tr>\n",
       "    <tr>\n",
       "      <th>2001-02-22</th>\n",
       "      <td>0.684830</td>\n",
       "      <td>0.322959</td>\n",
       "      <td>0.182492</td>\n",
       "      <td>0.737995</td>\n",
       "      <td>0.737995</td>\n",
       "      <td>0.426351</td>\n",
       "      <td>0.312261</td>\n",
       "      <td>0.398044</td>\n",
       "      <td>0.849432</td>\n",
       "      <td>0.493685</td>\n",
       "    </tr>\n",
       "    <tr>\n",
       "      <th>2001-02-23</th>\n",
       "      <td>0.059678</td>\n",
       "      <td>0.092105</td>\n",
       "      <td>0.611024</td>\n",
       "      <td>0.115618</td>\n",
       "      <td>0.425830</td>\n",
       "      <td>0.182492</td>\n",
       "      <td>0.944160</td>\n",
       "      <td>0.426351</td>\n",
       "      <td>0.737995</td>\n",
       "      <td>0.361789</td>\n",
       "    </tr>\n",
       "    <tr>\n",
       "      <th>2001-02-24</th>\n",
       "      <td>0.893389</td>\n",
       "      <td>0.175452</td>\n",
       "      <td>0.175452</td>\n",
       "      <td>0.398044</td>\n",
       "      <td>0.392118</td>\n",
       "      <td>0.361789</td>\n",
       "      <td>0.392118</td>\n",
       "      <td>0.630976</td>\n",
       "      <td>0.611024</td>\n",
       "      <td>0.737995</td>\n",
       "    </tr>\n",
       "    <tr>\n",
       "      <th>2001-02-25</th>\n",
       "      <td>0.611024</td>\n",
       "      <td>0.343178</td>\n",
       "      <td>0.737995</td>\n",
       "      <td>0.361789</td>\n",
       "      <td>0.438572</td>\n",
       "      <td>0.426351</td>\n",
       "      <td>0.531828</td>\n",
       "      <td>0.414826</td>\n",
       "      <td>0.182492</td>\n",
       "      <td>0.430863</td>\n",
       "    </tr>\n",
       "    <tr>\n",
       "      <th>2001-02-26</th>\n",
       "      <td>0.630976</td>\n",
       "      <td>0.866309</td>\n",
       "      <td>0.493685</td>\n",
       "      <td>0.317285</td>\n",
       "      <td>0.228263</td>\n",
       "      <td>0.531551</td>\n",
       "      <td>0.175452</td>\n",
       "      <td>0.317285</td>\n",
       "      <td>0.531551</td>\n",
       "      <td>0.893389</td>\n",
       "    </tr>\n",
       "    <tr>\n",
       "      <th>2001-02-27</th>\n",
       "      <td>0.092105</td>\n",
       "      <td>0.724455</td>\n",
       "      <td>0.361789</td>\n",
       "      <td>0.623953</td>\n",
       "      <td>0.293714</td>\n",
       "      <td>0.414826</td>\n",
       "      <td>0.483034</td>\n",
       "      <td>0.724455</td>\n",
       "      <td>0.092105</td>\n",
       "      <td>0.092105</td>\n",
       "    </tr>\n",
       "    <tr>\n",
       "      <th>2001-02-28</th>\n",
       "      <td>0.430863</td>\n",
       "      <td>0.737995</td>\n",
       "      <td>0.361789</td>\n",
       "      <td>0.493685</td>\n",
       "      <td>0.483034</td>\n",
       "      <td>0.849432</td>\n",
       "      <td>0.426351</td>\n",
       "      <td>0.623953</td>\n",
       "      <td>0.483034</td>\n",
       "      <td>0.531828</td>\n",
       "    </tr>\n",
       "    <tr>\n",
       "      <th>2001-03-01</th>\n",
       "      <td>0.944160</td>\n",
       "      <td>0.322959</td>\n",
       "      <td>0.630976</td>\n",
       "      <td>0.398044</td>\n",
       "      <td>0.623953</td>\n",
       "      <td>0.737995</td>\n",
       "      <td>0.228263</td>\n",
       "      <td>0.433701</td>\n",
       "      <td>0.944160</td>\n",
       "      <td>0.092105</td>\n",
       "    </tr>\n",
       "  </tbody>\n",
       "</table>\n",
       "</div>"
      ],
      "text/plain": [
       "            pred_boot_0  pred_boot_1  pred_boot_2  pred_boot_3  pred_boot_4  \\\n",
       "2001-02-20     0.423106     0.630976     0.361789     0.980764     0.893389   \n",
       "2001-02-21     0.531551     0.312261     0.724455     0.501837     0.724455   \n",
       "2001-02-22     0.684830     0.322959     0.182492     0.737995     0.737995   \n",
       "2001-02-23     0.059678     0.092105     0.611024     0.115618     0.425830   \n",
       "2001-02-24     0.893389     0.175452     0.175452     0.398044     0.392118   \n",
       "2001-02-25     0.611024     0.343178     0.737995     0.361789     0.438572   \n",
       "2001-02-26     0.630976     0.866309     0.493685     0.317285     0.228263   \n",
       "2001-02-27     0.092105     0.724455     0.361789     0.623953     0.293714   \n",
       "2001-02-28     0.430863     0.737995     0.361789     0.493685     0.483034   \n",
       "2001-03-01     0.944160     0.322959     0.630976     0.398044     0.623953   \n",
       "\n",
       "            pred_boot_5  pred_boot_6  pred_boot_7  pred_boot_8  pred_boot_9  \n",
       "2001-02-20     0.438572     0.398044     0.729050     0.175452     0.729050  \n",
       "2001-02-21     0.737995     0.425830     0.312261     0.893389     0.944160  \n",
       "2001-02-22     0.426351     0.312261     0.398044     0.849432     0.493685  \n",
       "2001-02-23     0.182492     0.944160     0.426351     0.737995     0.361789  \n",
       "2001-02-24     0.361789     0.392118     0.630976     0.611024     0.737995  \n",
       "2001-02-25     0.426351     0.531828     0.414826     0.182492     0.430863  \n",
       "2001-02-26     0.531551     0.175452     0.317285     0.531551     0.893389  \n",
       "2001-02-27     0.414826     0.483034     0.724455     0.092105     0.092105  \n",
       "2001-02-28     0.849432     0.426351     0.623953     0.483034     0.531828  \n",
       "2001-03-01     0.737995     0.228263     0.433701     0.944160     0.092105  "
      ]
     },
     "execution_count": 96,
     "metadata": {},
     "output_type": "execute_result"
    }
   ],
   "source": [
    "y_datetime = y.copy()\n",
    "y_datetime.index = pd.date_range(start='2001-01-01', periods=len(y), freq='D')\n",
    "exog_datetime = exog.copy()\n",
    "exog_datetime.index = pd.date_range(start='2001-01-01', periods=len(exog), freq='D')\n",
    "exog_predict_datetime = exog_predict.copy()\n",
    "exog_predict_datetime.index = pd.date_range(start='2001-02-20', periods=len(exog_predict), freq='D')\n",
    "rolling = RollingFeatures(stats=['mean', 'sum'], window_sizes=[3, 5])\n",
    "forecaster = ForecasterAutoregDirect(\n",
    "    LGBMRegressor(verbose=-1, random_state=123), steps=10, lags=3, window_features=rolling\n",
    ")\n",
    "forecaster.fit(y=y_datetime, exog=exog_datetime)\n",
    "results = forecaster.predict_bootstrapping(\n",
    "    n_boot=10, exog=exog_predict_datetime, use_in_sample_residuals=True\n",
    ")\n",
    "results"
   ]
  },
  {
   "cell_type": "code",
   "execution_count": 97,
   "metadata": {},
   "outputs": [
    {
     "data": {
      "text/plain": [
       "array([[0.42310646, 0.63097612, 0.36178866, 0.9807642 , 0.89338916,\n",
       "        0.43857224, 0.39804426, 0.72904971, 0.17545176, 0.72904971],\n",
       "       [0.53155137, 0.31226122, 0.72445532, 0.50183668, 0.72445532,\n",
       "        0.73799541, 0.42583029, 0.31226122, 0.89338916, 0.94416002],\n",
       "       [0.68482974, 0.32295891, 0.18249173, 0.73799541, 0.73799541,\n",
       "        0.42635131, 0.31226122, 0.39804426, 0.84943179, 0.4936851 ],\n",
       "       [0.0596779 , 0.09210494, 0.61102351, 0.1156184 , 0.42583029,\n",
       "        0.18249173, 0.94416002, 0.42635131, 0.73799541, 0.36178866],\n",
       "       [0.89338916, 0.17545176, 0.17545176, 0.39804426, 0.39211752,\n",
       "        0.36178866, 0.39211752, 0.63097612, 0.61102351, 0.73799541],\n",
       "       [0.61102351, 0.34317802, 0.73799541, 0.36178866, 0.43857224,\n",
       "        0.42635131, 0.53182759, 0.41482621, 0.18249173, 0.43086276],\n",
       "       [0.63097612, 0.86630916, 0.4936851 , 0.31728548, 0.22826323,\n",
       "        0.53155137, 0.17545176, 0.31728548, 0.53155137, 0.89338916],\n",
       "       [0.09210494, 0.72445532, 0.36178866, 0.62395295, 0.29371405,\n",
       "        0.41482621, 0.48303426, 0.72445532, 0.09210494, 0.09210494],\n",
       "       [0.43086276, 0.73799541, 0.36178866, 0.4936851 , 0.48303426,\n",
       "        0.84943179, 0.42635131, 0.62395295, 0.48303426, 0.53182759],\n",
       "       [0.94416002, 0.32295891, 0.63097612, 0.39804426, 0.62395295,\n",
       "        0.73799541, 0.22826323, 0.43370117, 0.94416002, 0.09210494]])"
      ]
     },
     "execution_count": 97,
     "metadata": {},
     "output_type": "execute_result"
    }
   ],
   "source": [
    "results.to_numpy()"
   ]
  },
  {
   "cell_type": "code",
   "execution_count": null,
   "metadata": {},
   "outputs": [],
   "source": []
  }
 ],
 "metadata": {
  "kernelspec": {
   "display_name": "skforecast_py10",
   "language": "python",
   "name": "python3"
  },
  "language_info": {
   "codemirror_mode": {
    "name": "ipython",
    "version": 3
   },
   "file_extension": ".py",
   "mimetype": "text/x-python",
   "name": "python",
   "nbconvert_exporter": "python",
   "pygments_lexer": "ipython3",
   "version": "3.12.4"
  },
  "orig_nbformat": 4,
  "vscode": {
   "interpreter": {
    "hash": "c78d62c1713fdacd99ef7c429003c7324b36fbb551fb8b6860a7ea73e9338235"
   }
  }
 },
 "nbformat": 4,
 "nbformat_minor": 2
}
