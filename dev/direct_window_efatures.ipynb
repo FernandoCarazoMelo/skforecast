{
 "cells": [
  {
   "cell_type": "code",
   "execution_count": 1,
   "metadata": {},
   "outputs": [
    {
     "name": "stdout",
     "output_type": "stream",
     "text": [
      "c:\\Users\\jaesc2\\GitHub\\skforecast\n"
     ]
    }
   ],
   "source": [
    "%load_ext autoreload\n",
    "%autoreload 2\n",
    "import sys\n",
    "from pathlib import Path\n",
    "path = str(Path.cwd().parent)\n",
    "print(path)\n",
    "sys.path.insert(1, path)"
   ]
  },
  {
   "cell_type": "code",
   "execution_count": 2,
   "metadata": {},
   "outputs": [],
   "source": [
    "import re\n",
    "import pytest\n",
    "import numpy as np\n",
    "import pandas as pd\n",
    "from sklearn.exceptions import NotFittedError\n",
    "from skforecast.preprocessing import RollingFeatures\n",
    "from skforecast.ForecasterAutoregDirect import ForecasterAutoregDirect\n",
    "from sklearn.compose import ColumnTransformer\n",
    "from sklearn.preprocessing import StandardScaler\n",
    "from sklearn.preprocessing import OneHotEncoder\n",
    "from sklearn.preprocessing import OrdinalEncoder\n",
    "from sklearn.preprocessing import FunctionTransformer\n",
    "from sklearn.compose import make_column_transformer\n",
    "from sklearn.compose import make_column_selector\n",
    "from sklearn.pipeline import make_pipeline\n",
    "from sklearn.linear_model import LinearRegression\n",
    "from sklearn.ensemble import HistGradientBoostingRegressor\n",
    "from lightgbm import LGBMRegressor"
   ]
  },
  {
   "cell_type": "code",
   "execution_count": 29,
   "metadata": {},
   "outputs": [],
   "source": [
    "# Create and fit forecaster\n",
    "# ==============================================================================\n",
    "rolling = RollingFeatures(stats= ['mean', 'median', 'sum'], window_sizes=[5, 4, 5])\n",
    "forecaster = ForecasterAutoregDirect(\n",
    "                 regressor       = LinearRegression(),\n",
    "                 steps           = 2,\n",
    "                 lags            = None,\n",
    "                 window_features= rolling,\n",
    "                 differentiation = 1\n",
    "             )\n",
    "\n",
    "y = pd.Series(np.arange(10), name='y')\n",
    "exog = pd.Series(np.arange(100, 110), name='exog')\n",
    "exog_predict = pd.Series(np.arange(110, 112), name='exog')\n",
    "exog_predict.index = pd.RangeIndex(start=10, stop=12, step=1)\n",
    "forecaster.fit(y=y, exog=exog)"
   ]
  },
  {
   "cell_type": "code",
   "execution_count": 30,
   "metadata": {},
   "outputs": [
    {
     "data": {
      "text/plain": [
       "(   roll_mean_5  roll_median_4  roll_sum_5  exog_step_1  exog_step_2\n",
       " 7          1.0            1.0         5.0        106.0        107.0\n",
       " 8          1.0            1.0         5.0        107.0        108.0\n",
       " 9          1.0            1.0         5.0        108.0        109.0,\n",
       " {1: 6    1.0\n",
       "  7    1.0\n",
       "  8    1.0\n",
       "  Name: y_step_1, dtype: float64,\n",
       "  2: 7    1.0\n",
       "  8    1.0\n",
       "  9    1.0\n",
       "  Name: y_step_2, dtype: float64},\n",
       " ['exog'],\n",
       " ['roll_mean_5', 'roll_median_4', 'roll_sum_5'],\n",
       " ['exog'],\n",
       " ['roll_mean_5', 'roll_median_4', 'roll_sum_5', 'exog_step_1', 'exog_step_2'],\n",
       " {'exog': dtype('int64')})"
      ]
     },
     "execution_count": 30,
     "metadata": {},
     "output_type": "execute_result"
    }
   ],
   "source": [
    "forecaster._create_train_X_y(y=y, exog=exog)"
   ]
  },
  {
   "cell_type": "code",
   "execution_count": 93,
   "metadata": {},
   "outputs": [
    {
     "name": "stdout",
     "output_type": "stream",
     "text": [
      "['roll_mean_5', 'roll_median_4', 'roll_sum_5', 'exog']\n"
     ]
    },
    {
     "data": {
      "text/html": [
       "<div>\n",
       "<style scoped>\n",
       "    .dataframe tbody tr th:only-of-type {\n",
       "        vertical-align: middle;\n",
       "    }\n",
       "\n",
       "    .dataframe tbody tr th {\n",
       "        vertical-align: top;\n",
       "    }\n",
       "\n",
       "    .dataframe thead th {\n",
       "        text-align: right;\n",
       "    }\n",
       "</style>\n",
       "<table border=\"1\" class=\"dataframe\">\n",
       "  <thead>\n",
       "    <tr style=\"text-align: right;\">\n",
       "      <th></th>\n",
       "      <th>roll_mean_5</th>\n",
       "      <th>roll_median_4</th>\n",
       "      <th>roll_sum_5</th>\n",
       "      <th>exog</th>\n",
       "    </tr>\n",
       "  </thead>\n",
       "  <tbody>\n",
       "    <tr>\n",
       "      <th>10</th>\n",
       "      <td>7.0</td>\n",
       "      <td>7.5</td>\n",
       "      <td>35.0</td>\n",
       "      <td>110.0</td>\n",
       "    </tr>\n",
       "    <tr>\n",
       "      <th>11</th>\n",
       "      <td>7.0</td>\n",
       "      <td>7.5</td>\n",
       "      <td>35.0</td>\n",
       "      <td>111.0</td>\n",
       "    </tr>\n",
       "  </tbody>\n",
       "</table>\n",
       "</div>"
      ],
      "text/plain": [
       "    roll_mean_5  roll_median_4  roll_sum_5   exog\n",
       "10          7.0            7.5        35.0  110.0\n",
       "11          7.0            7.5        35.0  111.0"
      ]
     },
     "execution_count": 93,
     "metadata": {},
     "output_type": "execute_result"
    }
   ],
   "source": [
    "forecaster.create_predict_X(exog=exog_predict)"
   ]
  },
  {
   "cell_type": "code",
   "execution_count": 95,
   "metadata": {},
   "outputs": [
    {
     "data": {
      "text/plain": [
       "10    10.0\n",
       "11    11.0\n",
       "Name: pred, dtype: float64"
      ]
     },
     "execution_count": 95,
     "metadata": {},
     "output_type": "execute_result"
    }
   ],
   "source": [
    "forecaster.predict(exog=exog_predict)"
   ]
  },
  {
   "cell_type": "code",
   "execution_count": 35,
   "metadata": {},
   "outputs": [
    {
     "data": {
      "text/html": [
       "<div>\n",
       "<style scoped>\n",
       "    .dataframe tbody tr th:only-of-type {\n",
       "        vertical-align: middle;\n",
       "    }\n",
       "\n",
       "    .dataframe tbody tr th {\n",
       "        vertical-align: top;\n",
       "    }\n",
       "\n",
       "    .dataframe thead th {\n",
       "        text-align: right;\n",
       "    }\n",
       "</style>\n",
       "<table border=\"1\" class=\"dataframe\">\n",
       "  <thead>\n",
       "    <tr style=\"text-align: right;\">\n",
       "      <th></th>\n",
       "      <th>roll_mean_4</th>\n",
       "      <th>roll_median_4</th>\n",
       "      <th>roll_sum_5</th>\n",
       "    </tr>\n",
       "  </thead>\n",
       "  <tbody>\n",
       "    <tr>\n",
       "      <th>5</th>\n",
       "      <td>2.5</td>\n",
       "      <td>2.5</td>\n",
       "      <td>10.0</td>\n",
       "    </tr>\n",
       "    <tr>\n",
       "      <th>6</th>\n",
       "      <td>3.5</td>\n",
       "      <td>3.5</td>\n",
       "      <td>15.0</td>\n",
       "    </tr>\n",
       "    <tr>\n",
       "      <th>7</th>\n",
       "      <td>4.5</td>\n",
       "      <td>4.5</td>\n",
       "      <td>20.0</td>\n",
       "    </tr>\n",
       "    <tr>\n",
       "      <th>8</th>\n",
       "      <td>5.5</td>\n",
       "      <td>5.5</td>\n",
       "      <td>25.0</td>\n",
       "    </tr>\n",
       "    <tr>\n",
       "      <th>9</th>\n",
       "      <td>6.5</td>\n",
       "      <td>6.5</td>\n",
       "      <td>30.0</td>\n",
       "    </tr>\n",
       "  </tbody>\n",
       "</table>\n",
       "</div>"
      ],
      "text/plain": [
       "   roll_mean_4  roll_median_4  roll_sum_5\n",
       "5          2.5            2.5        10.0\n",
       "6          3.5            3.5        15.0\n",
       "7          4.5            4.5        20.0\n",
       "8          5.5            5.5        25.0\n",
       "9          6.5            6.5        30.0"
      ]
     },
     "execution_count": 35,
     "metadata": {},
     "output_type": "execute_result"
    }
   ],
   "source": [
    "rolling.transform_batch(y)"
   ]
  },
  {
   "cell_type": "code",
   "execution_count": 96,
   "metadata": {},
   "outputs": [
    {
     "data": {
      "text/plain": [
       "(   lag_1  lag_2  lag_3\n",
       " 4    2.0    1.0    0.0,\n",
       " {1: 3    3.0\n",
       "  Name: y_step_1, dtype: float64,\n",
       "  2: 4    4.0\n",
       "  Name: y_step_2, dtype: float64})"
      ]
     },
     "execution_count": 96,
     "metadata": {},
     "output_type": "execute_result"
    }
   ],
   "source": [
    "y = pd.Series(np.arange(5), name='y')\n",
    "forecaster = ForecasterAutoregDirect(LinearRegression(), lags=3, steps=2)\n",
    "\n",
    "forecaster.create_train_X_y(y=y)"
   ]
  },
  {
   "cell_type": "code",
   "execution_count": 6,
   "metadata": {},
   "outputs": [],
   "source": [
    "from skforecast.preprocessing import RollingFeatures\n",
    "from skforecast.preprocessing import TimeSeriesDifferentiator\n",
    "from skforecast.ForecasterAutoreg import ForecasterAutoreg\n",
    "\n",
    "# Fixtures\n",
    "from skforecast.ForecasterAutoreg.tests.fixtures_ForecasterAutoreg import y\n",
    "from skforecast.ForecasterAutoreg.tests.fixtures_ForecasterAutoreg import exog\n",
    "from skforecast.ForecasterAutoreg.tests.fixtures_ForecasterAutoreg import exog_predict\n",
    "from skforecast.ForecasterAutoreg.tests.fixtures_ForecasterAutoreg import data  # to test results when using differentiation\n"
   ]
  },
  {
   "cell_type": "code",
   "execution_count": 19,
   "metadata": {},
   "outputs": [],
   "source": [
    "y_datetime = y.copy()\n",
    "y_datetime.index = pd.date_range(start='2001-01-01', periods=len(y), freq='D')\n",
    "exog_datetime = exog.copy()\n",
    "exog_datetime.index = pd.date_range(start='2001-01-01', periods=len(exog), freq='D')\n",
    "exog_predict_datetime = exog_predict.copy()\n",
    "exog_predict_datetime.index = pd.date_range(start='2001-02-20', periods=len(exog_predict), freq='D')\n",
    "rolling = RollingFeatures(stats=['mean', 'sum'], window_sizes=3)\n",
    "forecaster = ForecasterAutoreg(\n",
    "    LGBMRegressor(verbose=-1, random_state=123), lags=3, window_features=rolling,\n",
    "    differentiation=1\n",
    ")\n",
    "forecaster.fit(y=y_datetime, exog=exog_datetime)"
   ]
  },
  {
   "cell_type": "code",
   "execution_count": null,
   "metadata": {},
   "outputs": [],
   "source": [
    "\n",
    "results = forecaster.predict_bootstrapping(\n",
    "    steps=4, n_boot=10, exog=exog_predict_datetime, use_in_sample_residuals=True\n",
    ")\n",
    "results"
   ]
  },
  {
   "cell_type": "code",
   "execution_count": 5,
   "metadata": {},
   "outputs": [
    {
     "data": {
      "text/plain": [
       "array([[0.61866004, 0.89697256, 0.14325579, 0.18128852, 0.86846565,\n",
       "        0.55020849, 0.25870679, 0.51670634, 0.29239436, 0.42315364],\n",
       "       [0.26475697, 0.67230222, 0.18926364, 0.45124373, 0.34317802,\n",
       "        0.6900186 , 0.43134277, 0.67230222, 0.20674374, 0.84082826],\n",
       "       [0.40053981, 0.32295891, 0.61577585, 0.15682665, 0.43966009,\n",
       "        0.46585818, 0.5110144 , 0.5225711 , 0.56031677, 0.47247859],\n",
       "       [0.39037942, 0.06805095, 0.86630916, 0.52190308, 0.47247859,\n",
       "        0.43966009, 0.46227478, 0.58525714, 0.5189877 , 0.28131971]])"
      ]
     },
     "execution_count": 5,
     "metadata": {},
     "output_type": "execute_result"
    }
   ],
   "source": [
    "results.to_numpy()"
   ]
  },
  {
   "cell_type": "code",
   "execution_count": null,
   "metadata": {},
   "outputs": [],
   "source": []
  }
 ],
 "metadata": {
  "kernelspec": {
   "display_name": "skforecast_py10",
   "language": "python",
   "name": "python3"
  },
  "language_info": {
   "codemirror_mode": {
    "name": "ipython",
    "version": 3
   },
   "file_extension": ".py",
   "mimetype": "text/x-python",
   "name": "python",
   "nbconvert_exporter": "python",
   "pygments_lexer": "ipython3",
   "version": "3.12.4"
  },
  "orig_nbformat": 4,
  "vscode": {
   "interpreter": {
    "hash": "c78d62c1713fdacd99ef7c429003c7324b36fbb551fb8b6860a7ea73e9338235"
   }
  }
 },
 "nbformat": 4,
 "nbformat_minor": 2
}
