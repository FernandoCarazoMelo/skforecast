{
 "cells": [
  {
   "cell_type": "code",
   "execution_count": 1,
   "metadata": {},
   "outputs": [
    {
     "name": "stdout",
     "output_type": "stream",
     "text": [
      "c:\\Users\\jaesc2\\GitHub\\skforecast\n"
     ]
    }
   ],
   "source": [
    "%load_ext autoreload\n",
    "%autoreload 2\n",
    "import sys\n",
    "from pathlib import Path\n",
    "path = str(Path.cwd().parent)\n",
    "print(path)\n",
    "sys.path.insert(1, path)"
   ]
  },
  {
   "cell_type": "code",
   "execution_count": 2,
   "metadata": {},
   "outputs": [],
   "source": [
    "import re\n",
    "import pytest\n",
    "import numpy as np\n",
    "import pandas as pd\n",
    "from sklearn.exceptions import NotFittedError\n",
    "from skforecast.preprocessing import RollingFeatures\n",
    "from skforecast.ForecasterAutoregDirect import ForecasterAutoregDirect\n",
    "from sklearn.compose import ColumnTransformer\n",
    "from sklearn.preprocessing import StandardScaler\n",
    "from sklearn.preprocessing import OneHotEncoder\n",
    "from sklearn.preprocessing import OrdinalEncoder\n",
    "from sklearn.preprocessing import FunctionTransformer\n",
    "from sklearn.compose import make_column_transformer\n",
    "from sklearn.compose import make_column_selector\n",
    "from sklearn.pipeline import make_pipeline\n",
    "from sklearn.linear_model import LinearRegression\n",
    "from sklearn.ensemble import HistGradientBoostingRegressor\n",
    "from lightgbm import LGBMRegressor"
   ]
  },
  {
   "cell_type": "code",
   "execution_count": 29,
   "metadata": {},
   "outputs": [],
   "source": [
    "# Create and fit forecaster\n",
    "# ==============================================================================\n",
    "rolling = RollingFeatures(stats= ['mean', 'median', 'sum'], window_sizes=[5, 4, 5])\n",
    "forecaster = ForecasterAutoregDirect(\n",
    "                 regressor       = LinearRegression(),\n",
    "                 steps           = 2,\n",
    "                 lags            = None,\n",
    "                 window_features= rolling,\n",
    "                 differentiation = 1\n",
    "             )\n",
    "\n",
    "y = pd.Series(np.arange(10), name='y')\n",
    "exog = pd.Series(np.arange(100, 110), name='exog')\n",
    "exog_predict = pd.Series(np.arange(110, 112), name='exog')\n",
    "exog_predict.index = pd.RangeIndex(start=10, stop=12, step=1)\n",
    "forecaster.fit(y=y, exog=exog)"
   ]
  },
  {
   "cell_type": "code",
   "execution_count": 30,
   "metadata": {},
   "outputs": [
    {
     "data": {
      "text/plain": [
       "(   roll_mean_5  roll_median_4  roll_sum_5  exog_step_1  exog_step_2\n",
       " 7          1.0            1.0         5.0        106.0        107.0\n",
       " 8          1.0            1.0         5.0        107.0        108.0\n",
       " 9          1.0            1.0         5.0        108.0        109.0,\n",
       " {1: 6    1.0\n",
       "  7    1.0\n",
       "  8    1.0\n",
       "  Name: y_step_1, dtype: float64,\n",
       "  2: 7    1.0\n",
       "  8    1.0\n",
       "  9    1.0\n",
       "  Name: y_step_2, dtype: float64},\n",
       " ['exog'],\n",
       " ['roll_mean_5', 'roll_median_4', 'roll_sum_5'],\n",
       " ['exog'],\n",
       " ['roll_mean_5', 'roll_median_4', 'roll_sum_5', 'exog_step_1', 'exog_step_2'],\n",
       " {'exog': dtype('int64')})"
      ]
     },
     "execution_count": 30,
     "metadata": {},
     "output_type": "execute_result"
    }
   ],
   "source": [
    "forecaster._create_train_X_y(y=y, exog=exog)"
   ]
  },
  {
   "cell_type": "code",
   "execution_count": 93,
   "metadata": {},
   "outputs": [
    {
     "name": "stdout",
     "output_type": "stream",
     "text": [
      "['roll_mean_5', 'roll_median_4', 'roll_sum_5', 'exog']\n"
     ]
    },
    {
     "data": {
      "text/html": [
       "<div>\n",
       "<style scoped>\n",
       "    .dataframe tbody tr th:only-of-type {\n",
       "        vertical-align: middle;\n",
       "    }\n",
       "\n",
       "    .dataframe tbody tr th {\n",
       "        vertical-align: top;\n",
       "    }\n",
       "\n",
       "    .dataframe thead th {\n",
       "        text-align: right;\n",
       "    }\n",
       "</style>\n",
       "<table border=\"1\" class=\"dataframe\">\n",
       "  <thead>\n",
       "    <tr style=\"text-align: right;\">\n",
       "      <th></th>\n",
       "      <th>roll_mean_5</th>\n",
       "      <th>roll_median_4</th>\n",
       "      <th>roll_sum_5</th>\n",
       "      <th>exog</th>\n",
       "    </tr>\n",
       "  </thead>\n",
       "  <tbody>\n",
       "    <tr>\n",
       "      <th>10</th>\n",
       "      <td>7.0</td>\n",
       "      <td>7.5</td>\n",
       "      <td>35.0</td>\n",
       "      <td>110.0</td>\n",
       "    </tr>\n",
       "    <tr>\n",
       "      <th>11</th>\n",
       "      <td>7.0</td>\n",
       "      <td>7.5</td>\n",
       "      <td>35.0</td>\n",
       "      <td>111.0</td>\n",
       "    </tr>\n",
       "  </tbody>\n",
       "</table>\n",
       "</div>"
      ],
      "text/plain": [
       "    roll_mean_5  roll_median_4  roll_sum_5   exog\n",
       "10          7.0            7.5        35.0  110.0\n",
       "11          7.0            7.5        35.0  111.0"
      ]
     },
     "execution_count": 93,
     "metadata": {},
     "output_type": "execute_result"
    }
   ],
   "source": [
    "forecaster.create_predict_X(exog=exog_predict)"
   ]
  },
  {
   "cell_type": "code",
   "execution_count": 95,
   "metadata": {},
   "outputs": [
    {
     "data": {
      "text/plain": [
       "10    10.0\n",
       "11    11.0\n",
       "Name: pred, dtype: float64"
      ]
     },
     "execution_count": 95,
     "metadata": {},
     "output_type": "execute_result"
    }
   ],
   "source": [
    "forecaster.predict(exog=exog_predict)"
   ]
  },
  {
   "cell_type": "code",
   "execution_count": 35,
   "metadata": {},
   "outputs": [
    {
     "data": {
      "text/html": [
       "<div>\n",
       "<style scoped>\n",
       "    .dataframe tbody tr th:only-of-type {\n",
       "        vertical-align: middle;\n",
       "    }\n",
       "\n",
       "    .dataframe tbody tr th {\n",
       "        vertical-align: top;\n",
       "    }\n",
       "\n",
       "    .dataframe thead th {\n",
       "        text-align: right;\n",
       "    }\n",
       "</style>\n",
       "<table border=\"1\" class=\"dataframe\">\n",
       "  <thead>\n",
       "    <tr style=\"text-align: right;\">\n",
       "      <th></th>\n",
       "      <th>roll_mean_4</th>\n",
       "      <th>roll_median_4</th>\n",
       "      <th>roll_sum_5</th>\n",
       "    </tr>\n",
       "  </thead>\n",
       "  <tbody>\n",
       "    <tr>\n",
       "      <th>5</th>\n",
       "      <td>2.5</td>\n",
       "      <td>2.5</td>\n",
       "      <td>10.0</td>\n",
       "    </tr>\n",
       "    <tr>\n",
       "      <th>6</th>\n",
       "      <td>3.5</td>\n",
       "      <td>3.5</td>\n",
       "      <td>15.0</td>\n",
       "    </tr>\n",
       "    <tr>\n",
       "      <th>7</th>\n",
       "      <td>4.5</td>\n",
       "      <td>4.5</td>\n",
       "      <td>20.0</td>\n",
       "    </tr>\n",
       "    <tr>\n",
       "      <th>8</th>\n",
       "      <td>5.5</td>\n",
       "      <td>5.5</td>\n",
       "      <td>25.0</td>\n",
       "    </tr>\n",
       "    <tr>\n",
       "      <th>9</th>\n",
       "      <td>6.5</td>\n",
       "      <td>6.5</td>\n",
       "      <td>30.0</td>\n",
       "    </tr>\n",
       "  </tbody>\n",
       "</table>\n",
       "</div>"
      ],
      "text/plain": [
       "   roll_mean_4  roll_median_4  roll_sum_5\n",
       "5          2.5            2.5        10.0\n",
       "6          3.5            3.5        15.0\n",
       "7          4.5            4.5        20.0\n",
       "8          5.5            5.5        25.0\n",
       "9          6.5            6.5        30.0"
      ]
     },
     "execution_count": 35,
     "metadata": {},
     "output_type": "execute_result"
    }
   ],
   "source": [
    "rolling.transform_batch(y)"
   ]
  },
  {
   "cell_type": "code",
   "execution_count": 96,
   "metadata": {},
   "outputs": [
    {
     "data": {
      "text/plain": [
       "(   lag_1  lag_2  lag_3\n",
       " 4    2.0    1.0    0.0,\n",
       " {1: 3    3.0\n",
       "  Name: y_step_1, dtype: float64,\n",
       "  2: 4    4.0\n",
       "  Name: y_step_2, dtype: float64})"
      ]
     },
     "execution_count": 96,
     "metadata": {},
     "output_type": "execute_result"
    }
   ],
   "source": [
    "y = pd.Series(np.arange(5), name='y')\n",
    "forecaster = ForecasterAutoregDirect(LinearRegression(), lags=3, steps=2)\n",
    "\n",
    "forecaster.create_train_X_y(y=y)"
   ]
  },
  {
   "cell_type": "code",
   "execution_count": 6,
   "metadata": {},
   "outputs": [],
   "source": [
    "from skforecast.preprocessing import RollingFeatures\n",
    "from skforecast.preprocessing import TimeSeriesDifferentiator\n",
    "from skforecast.ForecasterAutoreg import ForecasterAutoreg\n",
    "\n",
    "# Fixtures\n",
    "from skforecast.ForecasterAutoreg.tests.fixtures_ForecasterAutoreg import y\n",
    "from skforecast.ForecasterAutoreg.tests.fixtures_ForecasterAutoreg import exog\n",
    "from skforecast.ForecasterAutoreg.tests.fixtures_ForecasterAutoreg import exog_predict\n",
    "from skforecast.ForecasterAutoreg.tests.fixtures_ForecasterAutoreg import data  # to test results when using differentiation\n"
   ]
  },
  {
   "cell_type": "code",
   "execution_count": 19,
   "metadata": {},
   "outputs": [],
   "source": [
    "y_datetime = y.copy()\n",
    "y_datetime.index = pd.date_range(start='2001-01-01', periods=len(y), freq='D')\n",
    "exog_datetime = exog.copy()\n",
    "exog_datetime.index = pd.date_range(start='2001-01-01', periods=len(exog), freq='D')\n",
    "exog_predict_datetime = exog_predict.copy()\n",
    "exog_predict_datetime.index = pd.date_range(start='2001-02-20', periods=len(exog_predict), freq='D')\n",
    "rolling = RollingFeatures(stats=['mean', 'sum'], window_sizes=3)\n",
    "forecaster = ForecasterAutoreg(\n",
    "    LGBMRegressor(verbose=-1, random_state=123), lags=3, window_features=rolling,\n",
    "    differentiation=1\n",
    ")\n",
    "forecaster.fit(y=y_datetime, exog=exog_datetime)"
   ]
  },
  {
   "cell_type": "code",
   "execution_count": null,
   "metadata": {},
   "outputs": [],
   "source": [
    "\n",
    "results = forecaster.predict_bootstrapping(\n",
    "    steps=4, n_boot=10, exog=exog_predict_datetime, use_in_sample_residuals=True\n",
    ")\n",
    "results"
   ]
  },
  {
   "cell_type": "code",
   "execution_count": 20,
   "metadata": {},
   "outputs": [
    {
     "name": "stdout",
     "output_type": "stream",
     "text": [
      "[ 0.  1.  2.  3.  4.  5.  6.  7.  8.  9. 10. 11. 12. 13. 14.]\n",
      "0 -1\n",
      "[ 0.  1.  2.  3.  4.  5.  6.  7.  8.  9. 10. 11. 12. 13.]\n",
      "DatetimeIndex(['2000-01-01', '2000-01-02', '2000-01-03', '2000-01-04',\n",
      "               '2000-01-05', '2000-01-06', '2000-01-07', '2000-01-08',\n",
      "               '2000-01-09', '2000-01-10', '2000-01-11', '2000-01-12',\n",
      "               '2000-01-13', '2000-01-14'],\n",
      "              dtype='datetime64[ns]', freq='D')\n",
      "DatetimeIndex(['2000-01-08', '2000-01-09', '2000-01-10', '2000-01-11',\n",
      "               '2000-01-12', '2000-01-13', '2000-01-14', '2000-01-15'],\n",
      "              dtype='datetime64[ns]', freq='D')\n"
     ]
    },
    {
     "data": {
      "text/plain": [
       "(            lag_1  lag_2  lag_3  lag_4  lag_5  roll_mean_5  roll_median_5  \\\n",
       " 2000-01-08    5.0    4.0    3.0    2.0    1.0          3.0            3.0   \n",
       " 2000-01-09    6.0    5.0    4.0    3.0    2.0          4.0            4.0   \n",
       " 2000-01-10    7.0    6.0    5.0    4.0    3.0          5.0            5.0   \n",
       " 2000-01-11    8.0    7.0    6.0    5.0    4.0          6.0            6.0   \n",
       " 2000-01-12    9.0    8.0    7.0    6.0    5.0          7.0            7.0   \n",
       " 2000-01-13   10.0    9.0    8.0    7.0    6.0          8.0            8.0   \n",
       " 2000-01-14   11.0   10.0    9.0    8.0    7.0          9.0            9.0   \n",
       " 2000-01-15   12.0   11.0   10.0    9.0    8.0         10.0           10.0   \n",
       " \n",
       "             roll_sum_6  exog_step_1  exog_step_2  \n",
       " 2000-01-08        15.0        106.0        107.0  \n",
       " 2000-01-09        21.0        107.0        108.0  \n",
       " 2000-01-10        27.0        108.0        109.0  \n",
       " 2000-01-11        33.0        109.0        110.0  \n",
       " 2000-01-12        39.0        110.0        111.0  \n",
       " 2000-01-13        45.0        111.0        112.0  \n",
       " 2000-01-14        51.0        112.0        113.0  \n",
       " 2000-01-15        57.0        113.0        114.0  ,\n",
       " {1: 2000-01-07     6.0\n",
       "  2000-01-08     7.0\n",
       "  2000-01-09     8.0\n",
       "  2000-01-10     9.0\n",
       "  2000-01-11    10.0\n",
       "  2000-01-12    11.0\n",
       "  2000-01-13    12.0\n",
       "  2000-01-14    13.0\n",
       "  Freq: D, Name: y_step_1, dtype: float64,\n",
       "  2: 2000-01-08     7.0\n",
       "  2000-01-09     8.0\n",
       "  2000-01-10     9.0\n",
       "  2000-01-11    10.0\n",
       "  2000-01-12    11.0\n",
       "  2000-01-13    12.0\n",
       "  2000-01-14    13.0\n",
       "  2000-01-15    14.0\n",
       "  Freq: D, Name: y_step_2, dtype: float64},\n",
       " ['exog'],\n",
       " ['roll_mean_5', 'roll_median_5', 'roll_sum_6'],\n",
       " ['exog'],\n",
       " ['lag_1',\n",
       "  'lag_2',\n",
       "  'lag_3',\n",
       "  'lag_4',\n",
       "  'lag_5',\n",
       "  'roll_mean_5',\n",
       "  'roll_median_5',\n",
       "  'roll_sum_6',\n",
       "  'exog_step_1',\n",
       "  'exog_step_2'],\n",
       " {'exog': dtype('float64')})"
      ]
     },
     "execution_count": 20,
     "metadata": {},
     "output_type": "execute_result"
    }
   ],
   "source": [
    "y_datetime = pd.Series(\n",
    "    np.arange(15), index=pd.date_range('2000-01-01', periods=15, freq='D'),\n",
    "    name='y', dtype=float\n",
    ")\n",
    "exog_datetime = pd.Series(\n",
    "    np.arange(100, 115), index=pd.date_range('2000-01-01', periods=15, freq='D'),\n",
    "    name='exog', dtype=float\n",
    ")\n",
    "rolling = RollingFeatures(\n",
    "    stats=['mean', 'median', 'sum'], window_sizes=[5, 5, 6]\n",
    ")\n",
    "\n",
    "forecaster = ForecasterAutoregDirect(\n",
    "    LinearRegression(), steps=2, lags=5, window_features=rolling\n",
    ")\n",
    "results = forecaster._create_train_X_y(y=y_datetime, exog=exog_datetime)\n",
    "results"
   ]
  },
  {
   "cell_type": "code",
   "execution_count": 24,
   "metadata": {},
   "outputs": [
    {
     "name": "stdout",
     "output_type": "stream",
     "text": [
      "[        nan  0.09974117 -0.04199628 -0.08399257 -0.58269844  1.16539688\n",
      " -0.3989647   1.46462041  1.21789224 -3.39119993]\n",
      "1 -1\n",
      "[ 0.09974117 -0.04199628 -0.08399257 -0.58269844  1.16539688 -0.3989647\n",
      "  1.46462041  1.21789224]\n",
      "DatetimeIndex(['2000-01-02', '2000-01-03', '2000-01-04', '2000-01-05',\n",
      "               '2000-01-06', '2000-01-07', '2000-01-08', '2000-01-09'],\n",
      "              dtype='datetime64[ns]', freq='D')\n",
      "DatetimeIndex(['2000-01-08', '2000-01-09', '2000-01-10'], dtype='datetime64[ns]', freq='D')\n"
     ]
    },
    {
     "data": {
      "text/plain": [
       "(               lag_1     lag_5  roll_ratio_min_max_4  roll_median_4  \\\n",
       " 2000-01-08  1.165397  0.099741             -0.500000      -0.062994   \n",
       " 2000-01-09 -0.398965 -0.041996             -0.500000      -0.241479   \n",
       " 2000-01-10  1.464620 -0.083993             -0.397849       0.383216   \n",
       " \n",
       "             col_1_step_1  col_2_a_step_1  col_2_b_step_1  col_1_step_2  \\\n",
       " 2000-01-08      1.698160             0.0             1.0      0.040403   \n",
       " 2000-01-09      0.040403             0.0             1.0     -1.325790   \n",
       " 2000-01-10     -1.325790             0.0             1.0      1.127525   \n",
       " \n",
       "             col_2_a_step_2  col_2_b_step_2  \n",
       " 2000-01-08             0.0             1.0  \n",
       " 2000-01-09             0.0             1.0  \n",
       " 2000-01-10             0.0             1.0  ,\n",
       " {1: 2000-01-07   -0.398965\n",
       "  2000-01-08    1.464620\n",
       "  2000-01-09    1.217892\n",
       "  Freq: D, Name: y_step_1, dtype: float64,\n",
       "  2: 2000-01-08    1.464620\n",
       "  2000-01-09    1.217892\n",
       "  2000-01-10   -3.391200\n",
       "  Freq: D, Name: y_step_2, dtype: float64},\n",
       " ['col_1', 'col_2'],\n",
       " ['roll_ratio_min_max_4', 'roll_median_4'],\n",
       " ['col_1', 'col_2_a', 'col_2_b'],\n",
       " ['lag_1',\n",
       "  'lag_5',\n",
       "  'roll_ratio_min_max_4',\n",
       "  'roll_median_4',\n",
       "  'col_1_step_1',\n",
       "  'col_2_a_step_1',\n",
       "  'col_2_b_step_1',\n",
       "  'col_1_step_2',\n",
       "  'col_2_a_step_2',\n",
       "  'col_2_b_step_2'],\n",
       " {'col_1': dtype('float64'), 'col_2': dtype('O')})"
      ]
     },
     "execution_count": 24,
     "metadata": {},
     "output_type": "execute_result"
    }
   ],
   "source": [
    "y_datetime = pd.Series(\n",
    "    [25.3, 29.1, 27.5, 24.3, 2.1, 46.5, 31.3, 87.1, 133.5, 4.3],\n",
    "    index=pd.date_range('2000-01-01', periods=10, freq='D'),\n",
    "    name='y', dtype=float\n",
    ")\n",
    "exog = pd.DataFrame({\n",
    "            'col_1': [7.5, 24.4, 60.3, 57.3, 50.7, 41.4, 87.2, 47.4, 14.6, 73.5],\n",
    "            'col_2': ['a', 'a', 'a', 'a', 'a', 'b', 'b', 'b', 'b', 'b']},\n",
    "            index = pd.date_range('2000-01-01', periods=10, freq='D')\n",
    "        )\n",
    "\n",
    "transformer_y = StandardScaler()\n",
    "transformer_exog = ColumnTransformer(\n",
    "                        [('scale', StandardScaler(), ['col_1']),\n",
    "                            ('onehot', OneHotEncoder(), ['col_2'])],\n",
    "                        remainder = 'passthrough',\n",
    "                        verbose_feature_names_out = False\n",
    "                    )\n",
    "rolling = RollingFeatures(\n",
    "    stats=['ratio_min_max', 'median'], window_sizes=4\n",
    ")\n",
    "\n",
    "forecaster = ForecasterAutoregDirect(\n",
    "                    LinearRegression(), \n",
    "                    steps            = 2,\n",
    "                    lags             = [1, 5], \n",
    "                    window_features  = rolling,\n",
    "                    transformer_y    = transformer_y,\n",
    "                    transformer_exog = transformer_exog,\n",
    "                    differentiation  = 1\n",
    "                )\n",
    "results = forecaster._create_train_X_y(y=y_datetime, exog=exog)\n",
    "results"
   ]
  },
  {
   "cell_type": "code",
   "execution_count": 30,
   "metadata": {},
   "outputs": [
    {
     "data": {
      "text/plain": [
       "array([ 1.46462041,  1.21789224, -3.39119993])"
      ]
     },
     "execution_count": 30,
     "metadata": {},
     "output_type": "execute_result"
    }
   ],
   "source": [
    "results[1][2].to_numpy()"
   ]
  },
  {
   "cell_type": "markdown",
   "metadata": {},
   "source": []
  },
  {
   "cell_type": "code",
   "execution_count": null,
   "metadata": {},
   "outputs": [],
   "source": []
  }
 ],
 "metadata": {
  "kernelspec": {
   "display_name": "skforecast_py10",
   "language": "python",
   "name": "python3"
  },
  "language_info": {
   "codemirror_mode": {
    "name": "ipython",
    "version": 3
   },
   "file_extension": ".py",
   "mimetype": "text/x-python",
   "name": "python",
   "nbconvert_exporter": "python",
   "pygments_lexer": "ipython3",
   "version": "3.12.4"
  },
  "orig_nbformat": 4,
  "vscode": {
   "interpreter": {
    "hash": "c78d62c1713fdacd99ef7c429003c7324b36fbb551fb8b6860a7ea73e9338235"
   }
  }
 },
 "nbformat": 4,
 "nbformat_minor": 2
}
