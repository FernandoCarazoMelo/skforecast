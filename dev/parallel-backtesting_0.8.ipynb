{
 "cells": [
  {
   "attachments": {},
   "cell_type": "markdown",
   "metadata": {},
   "source": [
    "# Understanding joblib multiprocess"
   ]
  },
  {
   "attachments": {},
   "cell_type": "markdown",
   "metadata": {},
   "source": [
    "## Parallel barcktesting"
   ]
  },
  {
   "cell_type": "code",
   "execution_count": 18,
   "metadata": {},
   "outputs": [
    {
     "name": "stdout",
     "output_type": "stream",
     "text": [
      "0.8.1\n"
     ]
    }
   ],
   "source": [
    "import numpy as np\n",
    "import pandas as pd\n",
    "\n",
    "from sklearn.linear_model import LinearRegression\n",
    "from sklearn.ensemble import HistGradientBoostingRegressor\n",
    "from skforecast.model_selection import backtesting_forecaster\n",
    "from skforecast.model_selection import grid_search_forecaster\n",
    "from skforecast.ForecasterAutoreg import ForecasterAutoreg\n",
    "import skforecast \n",
    "print(skforecast.__version__)"
   ]
  },
  {
   "cell_type": "code",
   "execution_count": 19,
   "metadata": {},
   "outputs": [
    {
     "data": {
      "text/plain": [
       "0       0.682352\n",
       "1       0.053821\n",
       "2       0.220360\n",
       "3       0.184372\n",
       "4       0.175906\n",
       "          ...   \n",
       "9995    0.344087\n",
       "9996    0.517366\n",
       "9997    0.502259\n",
       "9998    0.370318\n",
       "9999    0.408432\n",
       "Name: y, Length: 10000, dtype: float64"
      ]
     },
     "execution_count": 19,
     "metadata": {},
     "output_type": "execute_result"
    }
   ],
   "source": [
    "forecaster = ForecasterAutoreg(regressor=HistGradientBoostingRegressor(random_state=666), lags=50)\n",
    "#forecaster = ForecasterAutoreg(regressor=LinearRegression(), lags=50)\n",
    "n=10_000\n",
    "rgn = np.random.default_rng(seed=123)\n",
    "y = pd.Series(rgn.random(size=(n)), name=\"y\")\n",
    "exog = pd.DataFrame(rgn.random(size=(n, 10)))\n",
    "exog.columns = [f\"col_{i}\" for i in range(exog.shape[1])]\n",
    "y_train = y[:-int(n/2)]\n",
    "y"
   ]
  },
  {
   "cell_type": "code",
   "execution_count": 20,
   "metadata": {},
   "outputs": [
    {
     "name": "stderr",
     "output_type": "stream",
     "text": [
      "/home/ubuntu/anaconda3/envs/cienciadedatos_p10/lib/python3.10/site-packages/skforecast/model_selection/model_selection.py:448: LongTrainingWarning: The forecaster will be fit 209 times. This can take substantial amounts of time. If not feasible, try with `refit = False`.\n",
      " \n",
      " You can suppress this warning using: warnings.simplefilter('ignore', category=LongTrainingWarning)\n",
      "  warnings.warn(\n"
     ]
    },
    {
     "data": {
      "application/vnd.jupyter.widget-view+json": {
       "model_id": "6f666ab7cb4449ccbce426c7a6ef8326",
       "version_major": 2,
       "version_minor": 0
      },
      "text/plain": [
       "  0%|          | 0/209 [00:00<?, ?it/s]"
      ]
     },
     "metadata": {},
     "output_type": "display_data"
    },
    {
     "name": "stdout",
     "output_type": "stream",
     "text": [
      "0.08474745575115451\n"
     ]
    },
    {
     "data": {
      "text/html": [
       "<div>\n",
       "<style scoped>\n",
       "    .dataframe tbody tr th:only-of-type {\n",
       "        vertical-align: middle;\n",
       "    }\n",
       "\n",
       "    .dataframe tbody tr th {\n",
       "        vertical-align: top;\n",
       "    }\n",
       "\n",
       "    .dataframe thead th {\n",
       "        text-align: right;\n",
       "    }\n",
       "</style>\n",
       "<table border=\"1\" class=\"dataframe\">\n",
       "  <thead>\n",
       "    <tr style=\"text-align: right;\">\n",
       "      <th></th>\n",
       "      <th>pred</th>\n",
       "    </tr>\n",
       "  </thead>\n",
       "  <tbody>\n",
       "    <tr>\n",
       "      <th>5000</th>\n",
       "      <td>0.547143</td>\n",
       "    </tr>\n",
       "    <tr>\n",
       "      <th>5001</th>\n",
       "      <td>0.492890</td>\n",
       "    </tr>\n",
       "    <tr>\n",
       "      <th>5002</th>\n",
       "      <td>0.439208</td>\n",
       "    </tr>\n",
       "    <tr>\n",
       "      <th>5003</th>\n",
       "      <td>0.514884</td>\n",
       "    </tr>\n",
       "    <tr>\n",
       "      <th>5004</th>\n",
       "      <td>0.514389</td>\n",
       "    </tr>\n",
       "    <tr>\n",
       "      <th>...</th>\n",
       "      <td>...</td>\n",
       "    </tr>\n",
       "    <tr>\n",
       "      <th>9995</th>\n",
       "      <td>0.495218</td>\n",
       "    </tr>\n",
       "    <tr>\n",
       "      <th>9996</th>\n",
       "      <td>0.514729</td>\n",
       "    </tr>\n",
       "    <tr>\n",
       "      <th>9997</th>\n",
       "      <td>0.475121</td>\n",
       "    </tr>\n",
       "    <tr>\n",
       "      <th>9998</th>\n",
       "      <td>0.467349</td>\n",
       "    </tr>\n",
       "    <tr>\n",
       "      <th>9999</th>\n",
       "      <td>0.629357</td>\n",
       "    </tr>\n",
       "  </tbody>\n",
       "</table>\n",
       "<p>5000 rows × 1 columns</p>\n",
       "</div>"
      ],
      "text/plain": [
       "          pred\n",
       "5000  0.547143\n",
       "5001  0.492890\n",
       "5002  0.439208\n",
       "5003  0.514884\n",
       "5004  0.514389\n",
       "...        ...\n",
       "9995  0.495218\n",
       "9996  0.514729\n",
       "9997  0.475121\n",
       "9998  0.467349\n",
       "9999  0.629357\n",
       "\n",
       "[5000 rows x 1 columns]"
      ]
     },
     "execution_count": 20,
     "metadata": {},
     "output_type": "execute_result"
    }
   ],
   "source": [
    "# Backtesting with refit\n",
    "# ==============================================================================\n",
    "metric, backtest_predictions = backtesting_forecaster(\n",
    "                                    forecaster          = forecaster,\n",
    "                                    y                   = y,\n",
    "                                    exog                = exog,\n",
    "                                    initial_train_size  = len(y_train),\n",
    "                                    fixed_train_size    = False,\n",
    "                                    steps               = 24,\n",
    "                                    metric              = 'mean_squared_error',\n",
    "                                    refit               = True,\n",
    "                                    interval            = None,\n",
    "                                    n_boot              = 500,\n",
    "                                    random_state        = 123,\n",
    "                                    in_sample_residuals = True,\n",
    "                                    verbose             = False\n",
    "                            )\n",
    "\n",
    "print(metric)\n",
    "backtest_predictions"
   ]
  },
  {
   "cell_type": "code",
   "execution_count": 21,
   "metadata": {},
   "outputs": [
    {
     "data": {
      "application/vnd.jupyter.widget-view+json": {
       "model_id": "cd13b95fe46045b28f00ccd5eb5837a8",
       "version_major": 2,
       "version_minor": 0
      },
      "text/plain": [
       "  0%|          | 0/209 [00:00<?, ?it/s]"
      ]
     },
     "metadata": {},
     "output_type": "display_data"
    },
    {
     "name": "stdout",
     "output_type": "stream",
     "text": [
      "0.08613453504170875\n"
     ]
    },
    {
     "data": {
      "text/html": [
       "<div>\n",
       "<style scoped>\n",
       "    .dataframe tbody tr th:only-of-type {\n",
       "        vertical-align: middle;\n",
       "    }\n",
       "\n",
       "    .dataframe tbody tr th {\n",
       "        vertical-align: top;\n",
       "    }\n",
       "\n",
       "    .dataframe thead th {\n",
       "        text-align: right;\n",
       "    }\n",
       "</style>\n",
       "<table border=\"1\" class=\"dataframe\">\n",
       "  <thead>\n",
       "    <tr style=\"text-align: right;\">\n",
       "      <th></th>\n",
       "      <th>pred</th>\n",
       "    </tr>\n",
       "  </thead>\n",
       "  <tbody>\n",
       "    <tr>\n",
       "      <th>5000</th>\n",
       "      <td>0.547143</td>\n",
       "    </tr>\n",
       "    <tr>\n",
       "      <th>5001</th>\n",
       "      <td>0.492890</td>\n",
       "    </tr>\n",
       "    <tr>\n",
       "      <th>5002</th>\n",
       "      <td>0.439208</td>\n",
       "    </tr>\n",
       "    <tr>\n",
       "      <th>5003</th>\n",
       "      <td>0.514884</td>\n",
       "    </tr>\n",
       "    <tr>\n",
       "      <th>5004</th>\n",
       "      <td>0.514389</td>\n",
       "    </tr>\n",
       "    <tr>\n",
       "      <th>...</th>\n",
       "      <td>...</td>\n",
       "    </tr>\n",
       "    <tr>\n",
       "      <th>9995</th>\n",
       "      <td>0.467167</td>\n",
       "    </tr>\n",
       "    <tr>\n",
       "      <th>9996</th>\n",
       "      <td>0.546763</td>\n",
       "    </tr>\n",
       "    <tr>\n",
       "      <th>9997</th>\n",
       "      <td>0.467555</td>\n",
       "    </tr>\n",
       "    <tr>\n",
       "      <th>9998</th>\n",
       "      <td>0.489330</td>\n",
       "    </tr>\n",
       "    <tr>\n",
       "      <th>9999</th>\n",
       "      <td>0.485636</td>\n",
       "    </tr>\n",
       "  </tbody>\n",
       "</table>\n",
       "<p>5000 rows × 1 columns</p>\n",
       "</div>"
      ],
      "text/plain": [
       "          pred\n",
       "5000  0.547143\n",
       "5001  0.492890\n",
       "5002  0.439208\n",
       "5003  0.514884\n",
       "5004  0.514389\n",
       "...        ...\n",
       "9995  0.467167\n",
       "9996  0.546763\n",
       "9997  0.467555\n",
       "9998  0.489330\n",
       "9999  0.485636\n",
       "\n",
       "[5000 rows x 1 columns]"
      ]
     },
     "execution_count": 21,
     "metadata": {},
     "output_type": "execute_result"
    }
   ],
   "source": [
    "# Backtesting without refit\n",
    "# ==============================================================================\n",
    "metric, backtest_predictions = backtesting_forecaster(\n",
    "                                    forecaster          = forecaster,\n",
    "                                    y                   = y,\n",
    "                                    exog                = exog,\n",
    "                                    initial_train_size  = len(y_train),\n",
    "                                    fixed_train_size    = False,\n",
    "                                    steps               = 24,\n",
    "                                    metric              = 'mean_squared_error',\n",
    "                                    refit               = False,\n",
    "                                    interval            = None,\n",
    "                                    n_boot              = 500,\n",
    "                                    random_state        = 123,\n",
    "                                    in_sample_residuals = True,\n",
    "                                    verbose             = False\n",
    "                               )\n",
    "print(metric)\n",
    "backtest_predictions"
   ]
  },
  {
   "cell_type": "code",
   "execution_count": 22,
   "metadata": {},
   "outputs": [
    {
     "name": "stdout",
     "output_type": "stream",
     "text": [
      "Number of models compared: 9.\n"
     ]
    },
    {
     "data": {
      "application/vnd.jupyter.widget-view+json": {
       "model_id": "9d7ba25e8ea64e5e9f7fde9a17551487",
       "version_major": 2,
       "version_minor": 0
      },
      "text/plain": [
       "lags grid:   0%|          | 0/3 [00:00<?, ?it/s]"
      ]
     },
     "metadata": {},
     "output_type": "display_data"
    },
    {
     "data": {
      "application/vnd.jupyter.widget-view+json": {
       "model_id": "455028f318d7491c8c5b717aabcacf28",
       "version_major": 2,
       "version_minor": 0
      },
      "text/plain": [
       "params grid:   0%|          | 0/3 [00:00<?, ?it/s]"
      ]
     },
     "metadata": {},
     "output_type": "display_data"
    },
    {
     "data": {
      "application/vnd.jupyter.widget-view+json": {
       "model_id": "dad331c8d1f44d3f923053f889be2c21",
       "version_major": 2,
       "version_minor": 0
      },
      "text/plain": [
       "params grid:   0%|          | 0/3 [00:00<?, ?it/s]"
      ]
     },
     "metadata": {},
     "output_type": "display_data"
    },
    {
     "data": {
      "application/vnd.jupyter.widget-view+json": {
       "model_id": "f0dc5b92fea94ec0a17e4255c054ea3d",
       "version_major": 2,
       "version_minor": 0
      },
      "text/plain": [
       "params grid:   0%|          | 0/3 [00:00<?, ?it/s]"
      ]
     },
     "metadata": {},
     "output_type": "display_data"
    }
   ],
   "source": [
    "# Backtesting\n",
    "# ==============================================================================\n",
    "\n",
    "# Lags used as predictors\n",
    "lags_grid = [3, 10, [1, 2, 3, 20]]\n",
    "\n",
    "# Regressor hyperparameters\n",
    "param_grid = {\n",
    "    'max_iter': [50],\n",
    "    'max_depth': [5, 10, 15],\n",
    "#     'min_samples_leaf': [5, 10, 20],\n",
    "#     'l2_regularization': [0.0, 0.1, 0.5]\n",
    "}\n",
    "\n",
    "results_grid = grid_search_forecaster(\n",
    "                    forecaster          = forecaster,\n",
    "                    y                   = y,\n",
    "                    exog                = exog,\n",
    "                    initial_train_size  = len(y_train),\n",
    "                    steps               = 24,\n",
    "                    param_grid         = param_grid,\n",
    "                    lags_grid          = lags_grid,\n",
    "                    refit              = False,\n",
    "                    metric             = 'mean_squared_error',\n",
    "                    fixed_train_size   = False,\n",
    "                    return_best        = False,\n",
    "                    verbose            = False\n",
    "               )"
   ]
  },
  {
   "cell_type": "code",
   "execution_count": 26,
   "metadata": {},
   "outputs": [
    {
     "name": "stdout",
     "output_type": "stream",
     "text": [
      "Number of models compared: 9.\n"
     ]
    },
    {
     "data": {
      "application/vnd.jupyter.widget-view+json": {
       "model_id": "8d4ec4b85cdd432f97aef720e299768e",
       "version_major": 2,
       "version_minor": 0
      },
      "text/plain": [
       "lags grid:   0%|          | 0/3 [00:00<?, ?it/s]"
      ]
     },
     "metadata": {},
     "output_type": "display_data"
    },
    {
     "data": {
      "application/vnd.jupyter.widget-view+json": {
       "model_id": "aa6cd0d52f0a4d2e9fc96e5090683729",
       "version_major": 2,
       "version_minor": 0
      },
      "text/plain": [
       "params grid:   0%|          | 0/3 [00:00<?, ?it/s]"
      ]
     },
     "metadata": {},
     "output_type": "display_data"
    },
    {
     "name": "stderr",
     "output_type": "stream",
     "text": [
      "/home/ubuntu/anaconda3/envs/cienciadedatos_p10/lib/python3.10/site-packages/skforecast/model_selection/model_selection.py:448: LongTrainingWarning: The forecaster will be fit 209 times. This can take substantial amounts of time. If not feasible, try with `refit = False`.\n",
      " \n",
      " You can suppress this warning using: warnings.simplefilter('ignore', category=LongTrainingWarning)\n",
      "  warnings.warn(\n"
     ]
    },
    {
     "ename": "KeyboardInterrupt",
     "evalue": "",
     "output_type": "error",
     "traceback": [
      "\u001b[0;31m---------------------------------------------------------------------------\u001b[0m",
      "\u001b[0;31mKeyboardInterrupt\u001b[0m                         Traceback (most recent call last)",
      "Cell \u001b[0;32mIn[26], line 15\u001b[0m\n\u001b[1;32m      7\u001b[0m \u001b[39m# Regressor hyperparameters\u001b[39;00m\n\u001b[1;32m      8\u001b[0m param_grid \u001b[39m=\u001b[39m {\n\u001b[1;32m      9\u001b[0m     \u001b[39m'\u001b[39m\u001b[39mmax_iter\u001b[39m\u001b[39m'\u001b[39m: [\u001b[39m200\u001b[39m],\n\u001b[1;32m     10\u001b[0m     \u001b[39m'\u001b[39m\u001b[39mmax_depth\u001b[39m\u001b[39m'\u001b[39m: [\u001b[39m5\u001b[39m, \u001b[39m10\u001b[39m, \u001b[39m15\u001b[39m],\n\u001b[1;32m     11\u001b[0m \u001b[39m#     'min_samples_leaf': [5, 10, 20],\u001b[39;00m\n\u001b[1;32m     12\u001b[0m \u001b[39m#     'l2_regularization': [0.0, 0.1, 0.5]\u001b[39;00m\n\u001b[1;32m     13\u001b[0m }\n\u001b[0;32m---> 15\u001b[0m results_grid \u001b[39m=\u001b[39m grid_search_forecaster(\n\u001b[1;32m     16\u001b[0m                     forecaster          \u001b[39m=\u001b[39;49m forecaster,\n\u001b[1;32m     17\u001b[0m                     y                   \u001b[39m=\u001b[39;49m y,\n\u001b[1;32m     18\u001b[0m                     exog                \u001b[39m=\u001b[39;49m exog,\n\u001b[1;32m     19\u001b[0m                     initial_train_size  \u001b[39m=\u001b[39;49m \u001b[39mlen\u001b[39;49m(y_train),\n\u001b[1;32m     20\u001b[0m                     steps               \u001b[39m=\u001b[39;49m \u001b[39m24\u001b[39;49m,\n\u001b[1;32m     21\u001b[0m                     param_grid         \u001b[39m=\u001b[39;49m param_grid,\n\u001b[1;32m     22\u001b[0m                     lags_grid          \u001b[39m=\u001b[39;49m lags_grid,\n\u001b[1;32m     23\u001b[0m                     refit              \u001b[39m=\u001b[39;49m \u001b[39mTrue\u001b[39;49;00m,\n\u001b[1;32m     24\u001b[0m                     metric             \u001b[39m=\u001b[39;49m \u001b[39m'\u001b[39;49m\u001b[39mmean_squared_error\u001b[39;49m\u001b[39m'\u001b[39;49m,\n\u001b[1;32m     25\u001b[0m                     fixed_train_size   \u001b[39m=\u001b[39;49m \u001b[39mFalse\u001b[39;49;00m,\n\u001b[1;32m     26\u001b[0m                     return_best        \u001b[39m=\u001b[39;49m \u001b[39mFalse\u001b[39;49;00m,\n\u001b[1;32m     27\u001b[0m                     verbose            \u001b[39m=\u001b[39;49m \u001b[39mFalse\u001b[39;49;00m\n\u001b[1;32m     28\u001b[0m                )\n",
      "File \u001b[0;32m~/anaconda3/envs/cienciadedatos_p10/lib/python3.10/site-packages/skforecast/model_selection/model_selection.py:1000\u001b[0m, in \u001b[0;36mgrid_search_forecaster\u001b[0;34m(forecaster, y, param_grid, steps, metric, initial_train_size, fixed_train_size, gap, allow_incomplete_fold, exog, lags_grid, refit, return_best, verbose)\u001b[0m\n\u001b[1;32m    923\u001b[0m \u001b[39m\u001b[39m\u001b[39m\"\"\"\u001b[39;00m\n\u001b[1;32m    924\u001b[0m \u001b[39mExhaustive search over specified parameter values for a Forecaster object.\u001b[39;00m\n\u001b[1;32m    925\u001b[0m \u001b[39mValidation is done using time series backtesting.\u001b[39;00m\n\u001b[0;32m   (...)\u001b[0m\n\u001b[1;32m    995\u001b[0m \u001b[39m\u001b[39;00m\n\u001b[1;32m    996\u001b[0m \u001b[39m\"\"\"\u001b[39;00m\n\u001b[1;32m    998\u001b[0m param_grid \u001b[39m=\u001b[39m \u001b[39mlist\u001b[39m(ParameterGrid(param_grid))\n\u001b[0;32m-> 1000\u001b[0m results \u001b[39m=\u001b[39m _evaluate_grid_hyperparameters(\n\u001b[1;32m   1001\u001b[0m     forecaster            \u001b[39m=\u001b[39;49m forecaster,\n\u001b[1;32m   1002\u001b[0m     y                     \u001b[39m=\u001b[39;49m y,\n\u001b[1;32m   1003\u001b[0m     param_grid            \u001b[39m=\u001b[39;49m param_grid,\n\u001b[1;32m   1004\u001b[0m     steps                 \u001b[39m=\u001b[39;49m steps,\n\u001b[1;32m   1005\u001b[0m     metric                \u001b[39m=\u001b[39;49m metric,\n\u001b[1;32m   1006\u001b[0m     initial_train_size    \u001b[39m=\u001b[39;49m initial_train_size,\n\u001b[1;32m   1007\u001b[0m     fixed_train_size      \u001b[39m=\u001b[39;49m fixed_train_size,\n\u001b[1;32m   1008\u001b[0m     gap                   \u001b[39m=\u001b[39;49m gap,\n\u001b[1;32m   1009\u001b[0m     allow_incomplete_fold \u001b[39m=\u001b[39;49m allow_incomplete_fold,\n\u001b[1;32m   1010\u001b[0m     exog                  \u001b[39m=\u001b[39;49m exog,\n\u001b[1;32m   1011\u001b[0m     lags_grid             \u001b[39m=\u001b[39;49m lags_grid,\n\u001b[1;32m   1012\u001b[0m     refit                 \u001b[39m=\u001b[39;49m refit,\n\u001b[1;32m   1013\u001b[0m     return_best           \u001b[39m=\u001b[39;49m return_best,\n\u001b[1;32m   1014\u001b[0m     verbose               \u001b[39m=\u001b[39;49m verbose\n\u001b[1;32m   1015\u001b[0m )\n\u001b[1;32m   1017\u001b[0m \u001b[39mreturn\u001b[39;00m results\n",
      "File \u001b[0;32m~/anaconda3/envs/cienciadedatos_p10/lib/python3.10/site-packages/skforecast/model_selection/model_selection.py:1271\u001b[0m, in \u001b[0;36m_evaluate_grid_hyperparameters\u001b[0;34m(forecaster, y, param_grid, steps, metric, initial_train_size, fixed_train_size, gap, allow_incomplete_fold, exog, lags_grid, refit, return_best, verbose)\u001b[0m\n\u001b[1;32m   1268\u001b[0m \u001b[39mfor\u001b[39;00m params \u001b[39min\u001b[39;00m tqdm(param_grid, desc\u001b[39m=\u001b[39m\u001b[39m'\u001b[39m\u001b[39mparams grid\u001b[39m\u001b[39m'\u001b[39m, position\u001b[39m=\u001b[39m\u001b[39m1\u001b[39m, leave\u001b[39m=\u001b[39m\u001b[39mFalse\u001b[39;00m): \u001b[39m#ncols=90\u001b[39;00m\n\u001b[1;32m   1270\u001b[0m     forecaster\u001b[39m.\u001b[39mset_params(params)\n\u001b[0;32m-> 1271\u001b[0m     metrics_values \u001b[39m=\u001b[39m backtesting_forecaster(\n\u001b[1;32m   1272\u001b[0m                          forecaster            \u001b[39m=\u001b[39;49m forecaster,\n\u001b[1;32m   1273\u001b[0m                          y                     \u001b[39m=\u001b[39;49m y,\n\u001b[1;32m   1274\u001b[0m                          steps                 \u001b[39m=\u001b[39;49m steps,\n\u001b[1;32m   1275\u001b[0m                          metric                \u001b[39m=\u001b[39;49m metric,\n\u001b[1;32m   1276\u001b[0m                          initial_train_size    \u001b[39m=\u001b[39;49m initial_train_size,\n\u001b[1;32m   1277\u001b[0m                          fixed_train_size      \u001b[39m=\u001b[39;49m fixed_train_size,\n\u001b[1;32m   1278\u001b[0m                          gap                   \u001b[39m=\u001b[39;49m gap,\n\u001b[1;32m   1279\u001b[0m                          allow_incomplete_fold \u001b[39m=\u001b[39;49m allow_incomplete_fold,\n\u001b[1;32m   1280\u001b[0m                          exog                  \u001b[39m=\u001b[39;49m exog,\n\u001b[1;32m   1281\u001b[0m                          refit                 \u001b[39m=\u001b[39;49m refit,\n\u001b[1;32m   1282\u001b[0m                          interval              \u001b[39m=\u001b[39;49m \u001b[39mNone\u001b[39;49;00m,\n\u001b[1;32m   1283\u001b[0m                          verbose               \u001b[39m=\u001b[39;49m verbose,\n\u001b[1;32m   1284\u001b[0m                          show_progress         \u001b[39m=\u001b[39;49m \u001b[39mFalse\u001b[39;49;00m\n\u001b[1;32m   1285\u001b[0m                      )[\u001b[39m0\u001b[39m]\n\u001b[1;32m   1286\u001b[0m     warnings\u001b[39m.\u001b[39mfilterwarnings(\u001b[39m'\u001b[39m\u001b[39mignore\u001b[39m\u001b[39m'\u001b[39m, category\u001b[39m=\u001b[39m\u001b[39mRuntimeWarning\u001b[39;00m, message\u001b[39m=\u001b[39m \u001b[39m\"\u001b[39m\u001b[39mThe forecaster will be fit.*\u001b[39m\u001b[39m\"\u001b[39m)\n\u001b[1;32m   1287\u001b[0m     lags_list\u001b[39m.\u001b[39mappend(lags)\n",
      "File \u001b[0;32m~/anaconda3/envs/cienciadedatos_p10/lib/python3.10/site-packages/skforecast/model_selection/model_selection.py:869\u001b[0m, in \u001b[0;36mbacktesting_forecaster\u001b[0;34m(forecaster, y, steps, metric, initial_train_size, fixed_train_size, gap, allow_incomplete_fold, exog, refit, interval, n_boot, random_state, in_sample_residuals, verbose, show_progress)\u001b[0m\n\u001b[1;32m    862\u001b[0m     \u001b[39mraise\u001b[39;00m \u001b[39mValueError\u001b[39;00m(\n\u001b[1;32m    863\u001b[0m         (\u001b[39m\"\u001b[39m\u001b[39mWhen using a ForecasterAutoregDirect, the combination of steps \u001b[39m\u001b[39m\"\u001b[39m\n\u001b[1;32m    864\u001b[0m          \u001b[39mf\u001b[39m\u001b[39m\"\u001b[39m\u001b[39m+ gap (\u001b[39m\u001b[39m{\u001b[39;00msteps\u001b[39m+\u001b[39mgap\u001b[39m}\u001b[39;00m\u001b[39m) cannot be greater than the `steps` parameter \u001b[39m\u001b[39m\"\u001b[39m\n\u001b[1;32m    865\u001b[0m          \u001b[39mf\u001b[39m\u001b[39m\"\u001b[39m\u001b[39mdeclared when the forecaster is initialized (\u001b[39m\u001b[39m{\u001b[39;00mforecaster\u001b[39m.\u001b[39msteps\u001b[39m}\u001b[39;00m\u001b[39m).\u001b[39m\u001b[39m\"\u001b[39m)\n\u001b[1;32m    866\u001b[0m     )\n\u001b[1;32m    868\u001b[0m \u001b[39mif\u001b[39;00m refit:\n\u001b[0;32m--> 869\u001b[0m     metrics_values, backtest_predictions \u001b[39m=\u001b[39m _backtesting_forecaster_refit(\n\u001b[1;32m    870\u001b[0m         forecaster            \u001b[39m=\u001b[39;49m forecaster,\n\u001b[1;32m    871\u001b[0m         y                     \u001b[39m=\u001b[39;49m y,\n\u001b[1;32m    872\u001b[0m         steps                 \u001b[39m=\u001b[39;49m steps,\n\u001b[1;32m    873\u001b[0m         metric                \u001b[39m=\u001b[39;49m metric,\n\u001b[1;32m    874\u001b[0m         initial_train_size    \u001b[39m=\u001b[39;49m initial_train_size,\n\u001b[1;32m    875\u001b[0m         fixed_train_size      \u001b[39m=\u001b[39;49m fixed_train_size,\n\u001b[1;32m    876\u001b[0m         gap                   \u001b[39m=\u001b[39;49m gap,\n\u001b[1;32m    877\u001b[0m         allow_incomplete_fold \u001b[39m=\u001b[39;49m allow_incomplete_fold,\n\u001b[1;32m    878\u001b[0m         exog                  \u001b[39m=\u001b[39;49m exog,\n\u001b[1;32m    879\u001b[0m         interval              \u001b[39m=\u001b[39;49m interval,\n\u001b[1;32m    880\u001b[0m         n_boot                \u001b[39m=\u001b[39;49m n_boot,\n\u001b[1;32m    881\u001b[0m         random_state          \u001b[39m=\u001b[39;49m random_state,\n\u001b[1;32m    882\u001b[0m         in_sample_residuals   \u001b[39m=\u001b[39;49m in_sample_residuals,\n\u001b[1;32m    883\u001b[0m         verbose               \u001b[39m=\u001b[39;49m verbose,\n\u001b[1;32m    884\u001b[0m         show_progress         \u001b[39m=\u001b[39;49m show_progress\n\u001b[1;32m    885\u001b[0m     )\n\u001b[1;32m    886\u001b[0m \u001b[39melse\u001b[39;00m:\n\u001b[1;32m    887\u001b[0m     metrics_values, backtest_predictions \u001b[39m=\u001b[39m _backtesting_forecaster_no_refit(\n\u001b[1;32m    888\u001b[0m         forecaster            \u001b[39m=\u001b[39m forecaster,\n\u001b[1;32m    889\u001b[0m         y                     \u001b[39m=\u001b[39m y,\n\u001b[0;32m   (...)\u001b[0m\n\u001b[1;32m    901\u001b[0m         show_progress         \u001b[39m=\u001b[39m show_progress\n\u001b[1;32m    902\u001b[0m     )  \n",
      "File \u001b[0;32m~/anaconda3/envs/cienciadedatos_p10/lib/python3.10/site-packages/skforecast/model_selection/model_selection.py:478\u001b[0m, in \u001b[0;36m_backtesting_forecaster_refit\u001b[0;34m(forecaster, y, steps, metric, initial_train_size, fixed_train_size, gap, allow_incomplete_fold, exog, interval, n_boot, random_state, in_sample_residuals, verbose, show_progress)\u001b[0m\n\u001b[1;32m    475\u001b[0m exog_train \u001b[39m=\u001b[39m exog\u001b[39m.\u001b[39miloc[train_idx_start:train_idx_end, ] \u001b[39mif\u001b[39;00m exog \u001b[39mis\u001b[39;00m \u001b[39mnot\u001b[39;00m \u001b[39mNone\u001b[39;00m \u001b[39melse\u001b[39;00m \u001b[39mNone\u001b[39;00m\n\u001b[1;32m    476\u001b[0m next_window_exog \u001b[39m=\u001b[39m exog\u001b[39m.\u001b[39miloc[test_idx_start:test_idx_end, ] \u001b[39mif\u001b[39;00m exog \u001b[39mis\u001b[39;00m \u001b[39mnot\u001b[39;00m \u001b[39mNone\u001b[39;00m \u001b[39melse\u001b[39;00m \u001b[39mNone\u001b[39;00m\n\u001b[0;32m--> 478\u001b[0m forecaster\u001b[39m.\u001b[39;49mfit(\n\u001b[1;32m    479\u001b[0m     y                         \u001b[39m=\u001b[39;49m y_train, \n\u001b[1;32m    480\u001b[0m     exog                      \u001b[39m=\u001b[39;49m exog_train, \n\u001b[1;32m    481\u001b[0m     store_in_sample_residuals \u001b[39m=\u001b[39;49m store_in_sample_residuals\n\u001b[1;32m    482\u001b[0m )\n\u001b[1;32m    483\u001b[0m steps \u001b[39m=\u001b[39m \u001b[39mlen\u001b[39m(\u001b[39mrange\u001b[39m(test_idx_start, test_idx_end))\n\u001b[1;32m    484\u001b[0m \u001b[39mif\u001b[39;00m interval \u001b[39mis\u001b[39;00m \u001b[39mNone\u001b[39;00m:\n",
      "File \u001b[0;32m~/anaconda3/envs/cienciadedatos_p10/lib/python3.10/site-packages/skforecast/ForecasterAutoreg/ForecasterAutoreg.py:520\u001b[0m, in \u001b[0;36mForecasterAutoreg.fit\u001b[0;34m(self, y, exog, store_in_sample_residuals)\u001b[0m\n\u001b[1;32m    517\u001b[0m     \u001b[39mself\u001b[39m\u001b[39m.\u001b[39mregressor\u001b[39m.\u001b[39mfit(X\u001b[39m=\u001b[39mX_train, y\u001b[39m=\u001b[39my_train, sample_weight\u001b[39m=\u001b[39msample_weight,\n\u001b[1;32m    518\u001b[0m                        \u001b[39m*\u001b[39m\u001b[39m*\u001b[39m\u001b[39mself\u001b[39m\u001b[39m.\u001b[39mfit_kwargs)\n\u001b[1;32m    519\u001b[0m \u001b[39melse\u001b[39;00m:\n\u001b[0;32m--> 520\u001b[0m     \u001b[39mself\u001b[39;49m\u001b[39m.\u001b[39;49mregressor\u001b[39m.\u001b[39;49mfit(X\u001b[39m=\u001b[39;49mX_train, y\u001b[39m=\u001b[39;49my_train, \u001b[39m*\u001b[39;49m\u001b[39m*\u001b[39;49m\u001b[39mself\u001b[39;49m\u001b[39m.\u001b[39;49mfit_kwargs)\n\u001b[1;32m    522\u001b[0m \u001b[39mself\u001b[39m\u001b[39m.\u001b[39mfitted \u001b[39m=\u001b[39m \u001b[39mTrue\u001b[39;00m\n\u001b[1;32m    523\u001b[0m \u001b[39mself\u001b[39m\u001b[39m.\u001b[39mfit_date \u001b[39m=\u001b[39m pd\u001b[39m.\u001b[39mTimestamp\u001b[39m.\u001b[39mtoday()\u001b[39m.\u001b[39mstrftime(\u001b[39m'\u001b[39m\u001b[39m%\u001b[39m\u001b[39mY-\u001b[39m\u001b[39m%\u001b[39m\u001b[39mm-\u001b[39m\u001b[39m%d\u001b[39;00m\u001b[39m \u001b[39m\u001b[39m%\u001b[39m\u001b[39mH:\u001b[39m\u001b[39m%\u001b[39m\u001b[39mM:\u001b[39m\u001b[39m%\u001b[39m\u001b[39mS\u001b[39m\u001b[39m'\u001b[39m)\n",
      "File \u001b[0;32m~/anaconda3/envs/cienciadedatos_p10/lib/python3.10/site-packages/sklearn/ensemble/_hist_gradient_boosting/gradient_boosting.py:687\u001b[0m, in \u001b[0;36mBaseHistGradientBoosting.fit\u001b[0;34m(self, X, y, sample_weight)\u001b[0m\n\u001b[1;32m    669\u001b[0m \u001b[39mfor\u001b[39;00m k \u001b[39min\u001b[39;00m \u001b[39mrange\u001b[39m(\u001b[39mself\u001b[39m\u001b[39m.\u001b[39mn_trees_per_iteration_):\n\u001b[1;32m    670\u001b[0m     grower \u001b[39m=\u001b[39m TreeGrower(\n\u001b[1;32m    671\u001b[0m         X_binned\u001b[39m=\u001b[39mX_binned_train,\n\u001b[1;32m    672\u001b[0m         gradients\u001b[39m=\u001b[39mg_view[:, k],\n\u001b[0;32m   (...)\u001b[0m\n\u001b[1;32m    685\u001b[0m         n_threads\u001b[39m=\u001b[39mn_threads,\n\u001b[1;32m    686\u001b[0m     )\n\u001b[0;32m--> 687\u001b[0m     grower\u001b[39m.\u001b[39;49mgrow()\n\u001b[1;32m    689\u001b[0m     acc_apply_split_time \u001b[39m+\u001b[39m\u001b[39m=\u001b[39m grower\u001b[39m.\u001b[39mtotal_apply_split_time\n\u001b[1;32m    690\u001b[0m     acc_find_split_time \u001b[39m+\u001b[39m\u001b[39m=\u001b[39m grower\u001b[39m.\u001b[39mtotal_find_split_time\n",
      "File \u001b[0;32m~/anaconda3/envs/cienciadedatos_p10/lib/python3.10/site-packages/sklearn/ensemble/_hist_gradient_boosting/grower.py:364\u001b[0m, in \u001b[0;36mTreeGrower.grow\u001b[0;34m(self)\u001b[0m\n\u001b[1;32m    362\u001b[0m \u001b[39m\u001b[39m\u001b[39m\"\"\"Grow the tree, from root to leaves.\"\"\"\u001b[39;00m\n\u001b[1;32m    363\u001b[0m \u001b[39mwhile\u001b[39;00m \u001b[39mself\u001b[39m\u001b[39m.\u001b[39msplittable_nodes:\n\u001b[0;32m--> 364\u001b[0m     \u001b[39mself\u001b[39;49m\u001b[39m.\u001b[39;49msplit_next()\n\u001b[1;32m    366\u001b[0m \u001b[39mself\u001b[39m\u001b[39m.\u001b[39m_apply_shrinkage()\n",
      "File \u001b[0;32m~/anaconda3/envs/cienciadedatos_p10/lib/python3.10/site-packages/sklearn/ensemble/_hist_gradient_boosting/grower.py:468\u001b[0m, in \u001b[0;36mTreeGrower.split_next\u001b[0;34m(self)\u001b[0m\n\u001b[1;32m    461\u001b[0m node \u001b[39m=\u001b[39m heappop(\u001b[39mself\u001b[39m\u001b[39m.\u001b[39msplittable_nodes)\n\u001b[1;32m    463\u001b[0m tic \u001b[39m=\u001b[39m time()\n\u001b[1;32m    464\u001b[0m (\n\u001b[1;32m    465\u001b[0m     sample_indices_left,\n\u001b[1;32m    466\u001b[0m     sample_indices_right,\n\u001b[1;32m    467\u001b[0m     right_child_pos,\n\u001b[0;32m--> 468\u001b[0m ) \u001b[39m=\u001b[39m \u001b[39mself\u001b[39;49m\u001b[39m.\u001b[39;49msplitter\u001b[39m.\u001b[39;49msplit_indices(node\u001b[39m.\u001b[39;49msplit_info, node\u001b[39m.\u001b[39;49msample_indices)\n\u001b[1;32m    469\u001b[0m \u001b[39mself\u001b[39m\u001b[39m.\u001b[39mtotal_apply_split_time \u001b[39m+\u001b[39m\u001b[39m=\u001b[39m time() \u001b[39m-\u001b[39m tic\n\u001b[1;32m    471\u001b[0m depth \u001b[39m=\u001b[39m node\u001b[39m.\u001b[39mdepth \u001b[39m+\u001b[39m \u001b[39m1\u001b[39m\n",
      "\u001b[0;31mKeyboardInterrupt\u001b[0m: "
     ]
    }
   ],
   "source": [
    "# Backtesting with refit\n",
    "# ==============================================================================\n",
    "\n",
    "# Lags used as predictors\n",
    "lags_grid = [3, 10, [1, 2, 3, 20]]\n",
    "\n",
    "# Regressor hyperparameters\n",
    "param_grid = {\n",
    "    'max_iter': [100],\n",
    "    'max_depth': [5, 10, 15],\n",
    "    'min_samples_leaf': [5, 10, 20],\n",
    "    'l2_regularization': [0.0, 0.1, 0.5]\n",
    "}\n",
    "\n",
    "results_grid = grid_search_forecaster(\n",
    "                    forecaster          = forecaster,\n",
    "                    y                   = y,\n",
    "                    exog                = exog,\n",
    "                    initial_train_size  = len(y_train),\n",
    "                    steps               = 24,\n",
    "                    param_grid         = param_grid,\n",
    "                    lags_grid          = lags_grid,\n",
    "                    refit              = True,\n",
    "                    metric             = 'mean_squared_error',\n",
    "                    fixed_train_size   = False,\n",
    "                    return_best        = False,\n",
    "                    verbose            = False\n",
    "               )"
   ]
  },
  {
   "cell_type": "code",
   "execution_count": 24,
   "metadata": {},
   "outputs": [
    {
     "data": {
      "text/html": [
       "<div>\n",
       "<style scoped>\n",
       "    .dataframe tbody tr th:only-of-type {\n",
       "        vertical-align: middle;\n",
       "    }\n",
       "\n",
       "    .dataframe tbody tr th {\n",
       "        vertical-align: top;\n",
       "    }\n",
       "\n",
       "    .dataframe thead th {\n",
       "        text-align: right;\n",
       "    }\n",
       "</style>\n",
       "<table border=\"1\" class=\"dataframe\">\n",
       "  <thead>\n",
       "    <tr style=\"text-align: right;\">\n",
       "      <th></th>\n",
       "      <th>lags</th>\n",
       "      <th>params</th>\n",
       "      <th>mean_squared_error</th>\n",
       "      <th>max_depth</th>\n",
       "      <th>max_iter</th>\n",
       "    </tr>\n",
       "  </thead>\n",
       "  <tbody>\n",
       "    <tr>\n",
       "      <th>6</th>\n",
       "      <td>[1, 2, 3, 20]</td>\n",
       "      <td>{'max_depth': 5, 'max_iter': 50}</td>\n",
       "      <td>0.083262</td>\n",
       "      <td>5</td>\n",
       "      <td>50</td>\n",
       "    </tr>\n",
       "    <tr>\n",
       "      <th>4</th>\n",
       "      <td>[1, 2, 3, 4, 5, 6, 7, 8, 9, 10]</td>\n",
       "      <td>{'max_depth': 10, 'max_iter': 50}</td>\n",
       "      <td>0.083494</td>\n",
       "      <td>10</td>\n",
       "      <td>50</td>\n",
       "    </tr>\n",
       "    <tr>\n",
       "      <th>3</th>\n",
       "      <td>[1, 2, 3, 4, 5, 6, 7, 8, 9, 10]</td>\n",
       "      <td>{'max_depth': 5, 'max_iter': 50}</td>\n",
       "      <td>0.083498</td>\n",
       "      <td>5</td>\n",
       "      <td>50</td>\n",
       "    </tr>\n",
       "    <tr>\n",
       "      <th>5</th>\n",
       "      <td>[1, 2, 3, 4, 5, 6, 7, 8, 9, 10]</td>\n",
       "      <td>{'max_depth': 15, 'max_iter': 50}</td>\n",
       "      <td>0.083523</td>\n",
       "      <td>15</td>\n",
       "      <td>50</td>\n",
       "    </tr>\n",
       "    <tr>\n",
       "      <th>0</th>\n",
       "      <td>[1, 2, 3]</td>\n",
       "      <td>{'max_depth': 5, 'max_iter': 50}</td>\n",
       "      <td>0.083526</td>\n",
       "      <td>5</td>\n",
       "      <td>50</td>\n",
       "    </tr>\n",
       "    <tr>\n",
       "      <th>7</th>\n",
       "      <td>[1, 2, 3, 20]</td>\n",
       "      <td>{'max_depth': 10, 'max_iter': 50}</td>\n",
       "      <td>0.083677</td>\n",
       "      <td>10</td>\n",
       "      <td>50</td>\n",
       "    </tr>\n",
       "    <tr>\n",
       "      <th>2</th>\n",
       "      <td>[1, 2, 3]</td>\n",
       "      <td>{'max_depth': 15, 'max_iter': 50}</td>\n",
       "      <td>0.083917</td>\n",
       "      <td>15</td>\n",
       "      <td>50</td>\n",
       "    </tr>\n",
       "    <tr>\n",
       "      <th>8</th>\n",
       "      <td>[1, 2, 3, 20]</td>\n",
       "      <td>{'max_depth': 15, 'max_iter': 50}</td>\n",
       "      <td>0.083987</td>\n",
       "      <td>15</td>\n",
       "      <td>50</td>\n",
       "    </tr>\n",
       "    <tr>\n",
       "      <th>1</th>\n",
       "      <td>[1, 2, 3]</td>\n",
       "      <td>{'max_depth': 10, 'max_iter': 50}</td>\n",
       "      <td>0.084243</td>\n",
       "      <td>10</td>\n",
       "      <td>50</td>\n",
       "    </tr>\n",
       "  </tbody>\n",
       "</table>\n",
       "</div>"
      ],
      "text/plain": [
       "                              lags                             params  \\\n",
       "6                    [1, 2, 3, 20]   {'max_depth': 5, 'max_iter': 50}   \n",
       "4  [1, 2, 3, 4, 5, 6, 7, 8, 9, 10]  {'max_depth': 10, 'max_iter': 50}   \n",
       "3  [1, 2, 3, 4, 5, 6, 7, 8, 9, 10]   {'max_depth': 5, 'max_iter': 50}   \n",
       "5  [1, 2, 3, 4, 5, 6, 7, 8, 9, 10]  {'max_depth': 15, 'max_iter': 50}   \n",
       "0                        [1, 2, 3]   {'max_depth': 5, 'max_iter': 50}   \n",
       "7                    [1, 2, 3, 20]  {'max_depth': 10, 'max_iter': 50}   \n",
       "2                        [1, 2, 3]  {'max_depth': 15, 'max_iter': 50}   \n",
       "8                    [1, 2, 3, 20]  {'max_depth': 15, 'max_iter': 50}   \n",
       "1                        [1, 2, 3]  {'max_depth': 10, 'max_iter': 50}   \n",
       "\n",
       "   mean_squared_error  max_depth  max_iter  \n",
       "6            0.083262          5        50  \n",
       "4            0.083494         10        50  \n",
       "3            0.083498          5        50  \n",
       "5            0.083523         15        50  \n",
       "0            0.083526          5        50  \n",
       "7            0.083677         10        50  \n",
       "2            0.083917         15        50  \n",
       "8            0.083987         15        50  \n",
       "1            0.084243         10        50  "
      ]
     },
     "execution_count": 24,
     "metadata": {},
     "output_type": "execute_result"
    }
   ],
   "source": [
    "results_grid"
   ]
  }
 ],
 "metadata": {
  "kernelspec": {
   "display_name": "skforecast_py10",
   "language": "python",
   "name": "python3"
  },
  "language_info": {
   "codemirror_mode": {
    "name": "ipython",
    "version": 3
   },
   "file_extension": ".py",
   "mimetype": "text/x-python",
   "name": "python",
   "nbconvert_exporter": "python",
   "pygments_lexer": "ipython3",
   "version": "3.10.9"
  },
  "orig_nbformat": 4,
  "vscode": {
   "interpreter": {
    "hash": "c78d62c1713fdacd99ef7c429003c7324b36fbb551fb8b6860a7ea73e9338235"
   }
  }
 },
 "nbformat": 4,
 "nbformat_minor": 2
}
