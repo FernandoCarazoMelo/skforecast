{
 "cells": [
  {
   "cell_type": "code",
   "execution_count": 9,
   "metadata": {},
   "outputs": [
    {
     "name": "stdout",
     "output_type": "stream",
     "text": [
      "The autoreload extension is already loaded. To reload it, use:\n",
      "  %reload_ext autoreload\n"
     ]
    },
    {
     "data": {
      "text/plain": [
       "'/home/ubuntu/varios/skforecast'"
      ]
     },
     "execution_count": 9,
     "metadata": {},
     "output_type": "execute_result"
    }
   ],
   "source": [
    "%load_ext autoreload\n",
    "%autoreload 2\n",
    "import sys\n",
    "from pathlib import Path\n",
    "sys.path.insert(1, str(Path.cwd().parent))\n",
    "str(Path.cwd().parent)"
   ]
  },
  {
   "cell_type": "code",
   "execution_count": 10,
   "metadata": {},
   "outputs": [],
   "source": [
    "# Libraries\n",
    "# ======================================================================================\n",
    "import numpy as np\n",
    "import pandas as pd\n",
    "from skforecast.ForecasterAutoreg import ForecasterAutoreg\n",
    "from skforecast.model_selection import grid_search_forecaster\n",
    "from lightgbm import LGBMRegressor\n",
    "from sklearn.linear_model import LinearRegression"
   ]
  },
  {
   "cell_type": "code",
   "execution_count": 11,
   "metadata": {},
   "outputs": [],
   "source": [
    "# Data\n",
    "# ======================================================================================\n",
    "y = pd.Series(np.random.normal(size=50))\n",
    "exog_1 = pd.Series([1]*25 + [2]*25, name='exog_1', dtype=float)\n",
    "exog_2 = pd.Series([0]*25 + [1]*25, name='exog_2', dtype='category')\n",
    "exog   = pd.concat((exog_1, exog_2), axis=1)"
   ]
  },
  {
   "cell_type": "code",
   "execution_count": 12,
   "metadata": {},
   "outputs": [],
   "source": [
    "forecaster = ForecasterAutoreg(regressor=LGBMRegressor(), lags=5)"
   ]
  },
  {
   "cell_type": "code",
   "execution_count": 13,
   "metadata": {},
   "outputs": [
    {
     "name": "stdout",
     "output_type": "stream",
     "text": [
      "lag_1      float64\n",
      "lag_2      float64\n",
      "lag_3      float64\n",
      "lag_4      float64\n",
      "lag_5      float64\n",
      "exog_2    category\n",
      "dtype: object\n"
     ]
    },
    {
     "data": {
      "text/html": [
       "<div>\n",
       "<style scoped>\n",
       "    .dataframe tbody tr th:only-of-type {\n",
       "        vertical-align: middle;\n",
       "    }\n",
       "\n",
       "    .dataframe tbody tr th {\n",
       "        vertical-align: top;\n",
       "    }\n",
       "\n",
       "    .dataframe thead th {\n",
       "        text-align: right;\n",
       "    }\n",
       "</style>\n",
       "<table border=\"1\" class=\"dataframe\">\n",
       "  <thead>\n",
       "    <tr style=\"text-align: right;\">\n",
       "      <th></th>\n",
       "      <th>lag_1</th>\n",
       "      <th>lag_2</th>\n",
       "      <th>lag_3</th>\n",
       "      <th>lag_4</th>\n",
       "      <th>lag_5</th>\n",
       "      <th>exog_2</th>\n",
       "    </tr>\n",
       "  </thead>\n",
       "  <tbody>\n",
       "    <tr>\n",
       "      <th>5</th>\n",
       "      <td>-0.782361</td>\n",
       "      <td>1.306765</td>\n",
       "      <td>2.052542</td>\n",
       "      <td>1.098706</td>\n",
       "      <td>-0.986584</td>\n",
       "      <td>0</td>\n",
       "    </tr>\n",
       "    <tr>\n",
       "      <th>6</th>\n",
       "      <td>-0.565109</td>\n",
       "      <td>-0.782361</td>\n",
       "      <td>1.306765</td>\n",
       "      <td>2.052542</td>\n",
       "      <td>1.098706</td>\n",
       "      <td>0</td>\n",
       "    </tr>\n",
       "    <tr>\n",
       "      <th>7</th>\n",
       "      <td>0.215025</td>\n",
       "      <td>-0.565109</td>\n",
       "      <td>-0.782361</td>\n",
       "      <td>1.306765</td>\n",
       "      <td>2.052542</td>\n",
       "      <td>0</td>\n",
       "    </tr>\n",
       "  </tbody>\n",
       "</table>\n",
       "</div>"
      ],
      "text/plain": [
       "      lag_1     lag_2     lag_3     lag_4     lag_5 exog_2\n",
       "5 -0.782361  1.306765  2.052542  1.098706 -0.986584      0\n",
       "6 -0.565109 -0.782361  1.306765  2.052542  1.098706      0\n",
       "7  0.215025 -0.565109 -0.782361  1.306765  2.052542      0"
      ]
     },
     "execution_count": 13,
     "metadata": {},
     "output_type": "execute_result"
    }
   ],
   "source": [
    "X_train, y_train = forecaster.create_train_X_y(\n",
    "    y=y,\n",
    "    exog=exog_2\n",
    ")\n",
    "print(X_train.dtypes)\n",
    "X_train.head(3)"
   ]
  },
  {
   "cell_type": "code",
   "execution_count": 14,
   "metadata": {},
   "outputs": [
    {
     "data": {
      "text/plain": [
       "50    0.290106\n",
       "51    0.640328\n",
       "52    0.714016\n",
       "Name: pred, dtype: float64"
      ]
     },
     "execution_count": 14,
     "metadata": {},
     "output_type": "execute_result"
    }
   ],
   "source": [
    "forecaster.fit(y=y, exog=exog)\n",
    "exog_predict = exog.copy()\n",
    "exog_predict.index = pd.RangeIndex(50, 100)\n",
    "forecaster.predict(steps=3, exog=exog_predict)"
   ]
  },
  {
   "cell_type": "code",
   "execution_count": 15,
   "metadata": {},
   "outputs": [],
   "source": [
    "from sklearn.ensemble import HistGradientBoostingRegressor\n",
    "from sklearn.pipeline import make_pipeline\n",
    "from sklearn.compose import make_column_transformer\n",
    "from sklearn.compose import make_column_selector\n",
    "from sklearn.preprocessing import OrdinalEncoder\n",
    "\n",
    "categorical_cols = exog.select_dtypes(include=\"category\").columns\n",
    "ordinal_encoder = make_column_transformer(\n",
    "    (\n",
    "        OrdinalEncoder(dtype=int, handle_unknown=\"use_encoded_value\", unknown_value=-1),\n",
    "        make_column_selector(dtype_include=\"category\"),\n",
    "    ),\n",
    "    remainder=\"passthrough\",\n",
    "    verbose_feature_names_out=False,\n",
    ").set_output(transform=\"pandas\")\n",
    "\n",
    "exog_encoded = ordinal_encoder.fit_transform(exog)\n",
    "exog_encoded[categorical_cols] = exog_encoded[categorical_cols].astype('category')"
   ]
  },
  {
   "cell_type": "code",
   "execution_count": 16,
   "metadata": {},
   "outputs": [
    {
     "name": "stdout",
     "output_type": "stream",
     "text": [
      "lag_1      float64\n",
      "lag_2      float64\n",
      "lag_3      float64\n",
      "lag_4      float64\n",
      "lag_5      float64\n",
      "exog_2    category\n",
      "exog_1     float64\n",
      "dtype: object\n"
     ]
    },
    {
     "data": {
      "text/html": [
       "<div>\n",
       "<style scoped>\n",
       "    .dataframe tbody tr th:only-of-type {\n",
       "        vertical-align: middle;\n",
       "    }\n",
       "\n",
       "    .dataframe tbody tr th {\n",
       "        vertical-align: top;\n",
       "    }\n",
       "\n",
       "    .dataframe thead th {\n",
       "        text-align: right;\n",
       "    }\n",
       "</style>\n",
       "<table border=\"1\" class=\"dataframe\">\n",
       "  <thead>\n",
       "    <tr style=\"text-align: right;\">\n",
       "      <th></th>\n",
       "      <th>lag_1</th>\n",
       "      <th>lag_2</th>\n",
       "      <th>lag_3</th>\n",
       "      <th>lag_4</th>\n",
       "      <th>lag_5</th>\n",
       "      <th>exog_2</th>\n",
       "      <th>exog_1</th>\n",
       "    </tr>\n",
       "  </thead>\n",
       "  <tbody>\n",
       "    <tr>\n",
       "      <th>5</th>\n",
       "      <td>-0.782361</td>\n",
       "      <td>1.306765</td>\n",
       "      <td>2.052542</td>\n",
       "      <td>1.098706</td>\n",
       "      <td>-0.986584</td>\n",
       "      <td>0</td>\n",
       "      <td>1.0</td>\n",
       "    </tr>\n",
       "    <tr>\n",
       "      <th>6</th>\n",
       "      <td>-0.565109</td>\n",
       "      <td>-0.782361</td>\n",
       "      <td>1.306765</td>\n",
       "      <td>2.052542</td>\n",
       "      <td>1.098706</td>\n",
       "      <td>0</td>\n",
       "      <td>1.0</td>\n",
       "    </tr>\n",
       "    <tr>\n",
       "      <th>7</th>\n",
       "      <td>0.215025</td>\n",
       "      <td>-0.565109</td>\n",
       "      <td>-0.782361</td>\n",
       "      <td>1.306765</td>\n",
       "      <td>2.052542</td>\n",
       "      <td>0</td>\n",
       "      <td>1.0</td>\n",
       "    </tr>\n",
       "  </tbody>\n",
       "</table>\n",
       "</div>"
      ],
      "text/plain": [
       "      lag_1     lag_2     lag_3     lag_4     lag_5 exog_2  exog_1\n",
       "5 -0.782361  1.306765  2.052542  1.098706 -0.986584      0     1.0\n",
       "6 -0.565109 -0.782361  1.306765  2.052542  1.098706      0     1.0\n",
       "7  0.215025 -0.565109 -0.782361  1.306765  2.052542      0     1.0"
      ]
     },
     "execution_count": 16,
     "metadata": {},
     "output_type": "execute_result"
    }
   ],
   "source": [
    "X_train, y_train = forecaster.create_train_X_y(\n",
    "    y=y,\n",
    "    exog=exog_encoded\n",
    ")\n",
    "print(X_train.dtypes)\n",
    "X_train.head(3)"
   ]
  },
  {
   "cell_type": "code",
   "execution_count": 17,
   "metadata": {},
   "outputs": [
    {
     "data": {
      "text/plain": [
       "50    0.290106\n",
       "51    0.640328\n",
       "52    0.714016\n",
       "Name: pred, dtype: float64"
      ]
     },
     "execution_count": 17,
     "metadata": {},
     "output_type": "execute_result"
    }
   ],
   "source": [
    "forecaster.fit(y=y, exog=exog_encoded)\n",
    "exog_predict = exog_encoded.copy()\n",
    "exog_predict.index = pd.RangeIndex(50, 100)\n",
    "forecaster.predict(steps=3, exog=exog_predict)"
   ]
  }
 ],
 "metadata": {
  "kernelspec": {
   "display_name": "skforecast_py10",
   "language": "python",
   "name": "python3"
  },
  "language_info": {
   "codemirror_mode": {
    "name": "ipython",
    "version": 3
   },
   "file_extension": ".py",
   "mimetype": "text/x-python",
   "name": "python",
   "nbconvert_exporter": "python",
   "pygments_lexer": "ipython3",
   "version": "3.10.9"
  },
  "orig_nbformat": 4,
  "vscode": {
   "interpreter": {
    "hash": "6cf372b23b9916b33b4c23f9ee2e7d08e597eb711b766c11830fb054f7812cb1"
   }
  }
 },
 "nbformat": 4,
 "nbformat_minor": 2
}
