{
 "cells": [
  {
   "cell_type": "code",
   "execution_count": 59,
   "metadata": {},
   "outputs": [
    {
     "name": "stdout",
     "output_type": "stream",
     "text": [
      "The autoreload extension is already loaded. To reload it, use:\n",
      "  %reload_ext autoreload\n"
     ]
    },
    {
     "data": {
      "text/plain": [
       "'/home/ubuntu/varios/skforecast'"
      ]
     },
     "execution_count": 59,
     "metadata": {},
     "output_type": "execute_result"
    }
   ],
   "source": [
    "%load_ext autoreload\n",
    "%autoreload 2\n",
    "import sys\n",
    "from pathlib import Path\n",
    "sys.path.insert(1, str(Path.cwd().parent))\n",
    "str(Path.cwd().parent)"
   ]
  },
  {
   "cell_type": "code",
   "execution_count": 70,
   "metadata": {},
   "outputs": [
    {
     "name": "stdout",
     "output_type": "stream",
     "text": [
      "xgboost version: 1.7.4\n",
      "lightgbm version: 3.3.5\n",
      "catboost version: 1.1.1\n",
      "sklearn version: 1.2.1\n",
      "skforecast version: 0.7.0\n"
     ]
    }
   ],
   "source": [
    "# Libraries\n",
    "# ======================================================================================\n",
    "import numpy as np\n",
    "import pandas as pd\n",
    "from xgboost import XGBRegressor\n",
    "from lightgbm import LGBMRegressor\n",
    "from catboost import CatBoostRegressor\n",
    "from sklearn.ensemble import HistGradientBoostingRegressor\n",
    "from sklearn.linear_model import LinearRegression\n",
    "from sklearn.pipeline import make_pipeline\n",
    "from sklearn.compose import make_column_transformer\n",
    "from sklearn.compose import make_column_selector\n",
    "from sklearn.preprocessing import OrdinalEncoder\n",
    "from sklearn.preprocessing import FunctionTransformer\n",
    "\n",
    "from skforecast.ForecasterAutoreg import ForecasterAutoreg\n",
    "from skforecast.model_selection import grid_search_forecaster\n",
    "\n",
    "import xgboost\n",
    "import lightgbm\n",
    "import catboost\n",
    "import sklearn\n",
    "import skforecast\n",
    "\n",
    "print(f\"xgboost version: {xgboost.__version__}\")\n",
    "print(f\"lightgbm version: {lightgbm.__version__}\")\n",
    "print(f\"catboost version: {catboost.__version__}\")\n",
    "print(f\"sklearn version: {sklearn.__version__}\")\n",
    "print(f\"skforecast version: {skforecast.__version__}\")"
   ]
  },
  {
   "cell_type": "code",
   "execution_count": 71,
   "metadata": {},
   "outputs": [
    {
     "data": {
      "text/html": [
       "<div>\n",
       "<style scoped>\n",
       "    .dataframe tbody tr th:only-of-type {\n",
       "        vertical-align: middle;\n",
       "    }\n",
       "\n",
       "    .dataframe tbody tr th {\n",
       "        vertical-align: top;\n",
       "    }\n",
       "\n",
       "    .dataframe thead th {\n",
       "        text-align: right;\n",
       "    }\n",
       "</style>\n",
       "<table border=\"1\" class=\"dataframe\">\n",
       "  <thead>\n",
       "    <tr style=\"text-align: right;\">\n",
       "      <th></th>\n",
       "      <th>exog_1</th>\n",
       "      <th>exog_2</th>\n",
       "    </tr>\n",
       "  </thead>\n",
       "  <tbody>\n",
       "    <tr>\n",
       "      <th>0</th>\n",
       "      <td>1.0</td>\n",
       "      <td>True</td>\n",
       "    </tr>\n",
       "    <tr>\n",
       "      <th>1</th>\n",
       "      <td>1.0</td>\n",
       "      <td>True</td>\n",
       "    </tr>\n",
       "    <tr>\n",
       "      <th>2</th>\n",
       "      <td>1.0</td>\n",
       "      <td>True</td>\n",
       "    </tr>\n",
       "    <tr>\n",
       "      <th>3</th>\n",
       "      <td>1.0</td>\n",
       "      <td>True</td>\n",
       "    </tr>\n",
       "    <tr>\n",
       "      <th>4</th>\n",
       "      <td>1.0</td>\n",
       "      <td>True</td>\n",
       "    </tr>\n",
       "  </tbody>\n",
       "</table>\n",
       "</div>"
      ],
      "text/plain": [
       "   exog_1  exog_2\n",
       "0     1.0    True\n",
       "1     1.0    True\n",
       "2     1.0    True\n",
       "3     1.0    True\n",
       "4     1.0    True"
      ]
     },
     "execution_count": 71,
     "metadata": {},
     "output_type": "execute_result"
    }
   ],
   "source": [
    "# Data\n",
    "# ======================================================================================\n",
    "y = pd.Series(np.random.normal(size=50))\n",
    "exog_1 = pd.Series([1]*25 + [2]*25, name='exog_1', dtype=float)\n",
    "exog_2 = pd.Series([True]*25 + [False]*25, name='exog_2', dtype=bool)\n",
    "exog   = pd.concat((exog_1, exog_2), axis=1)\n",
    "#exog.iloc[0,1] = np.nan\n",
    "exog.head()"
   ]
  },
  {
   "cell_type": "code",
   "execution_count": 72,
   "metadata": {},
   "outputs": [
    {
     "name": "stdout",
     "output_type": "stream",
     "text": [
      "exog_2    category\n",
      "exog_1     float64\n",
      "dtype: object\n"
     ]
    },
    {
     "data": {
      "text/html": [
       "<div>\n",
       "<style scoped>\n",
       "    .dataframe tbody tr th:only-of-type {\n",
       "        vertical-align: middle;\n",
       "    }\n",
       "\n",
       "    .dataframe tbody tr th {\n",
       "        vertical-align: top;\n",
       "    }\n",
       "\n",
       "    .dataframe thead th {\n",
       "        text-align: right;\n",
       "    }\n",
       "</style>\n",
       "<table border=\"1\" class=\"dataframe\">\n",
       "  <thead>\n",
       "    <tr style=\"text-align: right;\">\n",
       "      <th></th>\n",
       "      <th>exog_2</th>\n",
       "      <th>exog_1</th>\n",
       "    </tr>\n",
       "  </thead>\n",
       "  <tbody>\n",
       "    <tr>\n",
       "      <th>0</th>\n",
       "      <td>1</td>\n",
       "      <td>1.0</td>\n",
       "    </tr>\n",
       "    <tr>\n",
       "      <th>1</th>\n",
       "      <td>1</td>\n",
       "      <td>1.0</td>\n",
       "    </tr>\n",
       "    <tr>\n",
       "      <th>2</th>\n",
       "      <td>1</td>\n",
       "      <td>1.0</td>\n",
       "    </tr>\n",
       "  </tbody>\n",
       "</table>\n",
       "</div>"
      ],
      "text/plain": [
       "  exog_2  exog_1\n",
       "0      1     1.0\n",
       "1      1     1.0\n",
       "2      1     1.0"
      ]
     },
     "execution_count": 72,
     "metadata": {},
     "output_type": "execute_result"
    }
   ],
   "source": [
    "# Opción A\n",
    "# ==============================================================================\n",
    "pipeline_categorical = make_pipeline(\n",
    "                                OrdinalEncoder(dtype=int, handle_unknown=\"use_encoded_value\", unknown_value=-1, encoded_missing_value=-1),\n",
    "                                FunctionTransformer(func=lambda x: x.astype('category'), feature_names_out= 'one-to-one')\n",
    "                        )\n",
    "\n",
    "transformer_exog = make_column_transformer(\n",
    "                        (\n",
    "                            pipeline_categorical,\n",
    "                            make_column_selector(dtype_exclude=np.number)\n",
    "                        ),\n",
    "                        remainder=\"passthrough\",\n",
    "                        verbose_feature_names_out=False,\n",
    "                   ).set_output(transform=\"pandas\")\n",
    "\n",
    "print(transformer_exog.fit_transform(exog).head(3).dtypes)\n",
    "transformer_exog.fit_transform(exog).head(3)"
   ]
  },
  {
   "cell_type": "code",
   "execution_count": 63,
   "metadata": {},
   "outputs": [],
   "source": [
    "from sklearn.preprocessing import FunctionTransformer\n",
    "from sklearn.pipeline import make_pipeline\n",
    "\n",
    "# Opción B\n",
    "# ==============================================================================\n",
    "# categorical_cols = exog.select_dtypes(exclude=np.number).columns\n",
    "# transformer_exog = make_pipeline(\n",
    "#                             make_column_transformer(\n",
    "#                                 (\n",
    "#                                     OrdinalEncoder(dtype=int, handle_unknown=\"use_encoded_value\", unknown_value=-1, encoded_missing_value=-1),\n",
    "#                                     categorical_cols,\n",
    "#                                 ),\n",
    "#                                 remainder=\"passthrough\",\n",
    "#                                 verbose_feature_names_out=False\n",
    "#                             ),\n",
    "#                             make_column_transformer(\n",
    "#                                 (\n",
    "#                                     FunctionTransformer(func=lambda x: x.astype('category'), feature_names_out= 'one-to-one'),\n",
    "#                                     categorical_cols,\n",
    "#                                 ),\n",
    "#                                 remainder=\"passthrough\",\n",
    "#                                 verbose_feature_names_out=False,\n",
    "#                             )\n",
    "#                       ).set_output(transform=\"pandas\")\n",
    "\n",
    "# transformer_exog.fit_transform(exog).dtypes"
   ]
  },
  {
   "cell_type": "code",
   "execution_count": 64,
   "metadata": {},
   "outputs": [],
   "source": [
    "from sklearn.preprocessing import FunctionTransformer\n",
    "from sklearn.pipeline import make_pipeline\n",
    "\n",
    "# Opción C: hacer solo el ordinal encoder e indicar en el regressor, qué columnas son categóricas\n",
    "# ==============================================================================\n",
    "# categorical_cols = exog.select_dtypes(exclude=np.number).columns.to_list()\n",
    "# transformer_exog = make_column_transformer(\n",
    "#                                 (\n",
    "#                                     OrdinalEncoder(dtype=int, handle_unknown=\"use_encoded_value\", unknown_value=-1, encoded_missing_value=-1),\n",
    "#                                     categorical_cols,\n",
    "#                                 ),\n",
    "#                                 remainder=\"passthrough\",\n",
    "#                                 verbose_feature_names_out=False\n",
    "#                             ).set_output(transform=\"pandas\")\n",
    "\n",
    "# transformer_exog.fit_transform(exog).dtypes"
   ]
  },
  {
   "cell_type": "code",
   "execution_count": 68,
   "metadata": {},
   "outputs": [
    {
     "name": "stdout",
     "output_type": "stream",
     "text": [
      "lag_1      float64\n",
      "lag_2      float64\n",
      "lag_3      float64\n",
      "lag_4      float64\n",
      "lag_5      float64\n",
      "exog_2    category\n",
      "exog_1     float64\n",
      "dtype: object\n"
     ]
    },
    {
     "data": {
      "text/html": [
       "<div>\n",
       "<style scoped>\n",
       "    .dataframe tbody tr th:only-of-type {\n",
       "        vertical-align: middle;\n",
       "    }\n",
       "\n",
       "    .dataframe tbody tr th {\n",
       "        vertical-align: top;\n",
       "    }\n",
       "\n",
       "    .dataframe thead th {\n",
       "        text-align: right;\n",
       "    }\n",
       "</style>\n",
       "<table border=\"1\" class=\"dataframe\">\n",
       "  <thead>\n",
       "    <tr style=\"text-align: right;\">\n",
       "      <th></th>\n",
       "      <th>lag_1</th>\n",
       "      <th>lag_2</th>\n",
       "      <th>lag_3</th>\n",
       "      <th>lag_4</th>\n",
       "      <th>lag_5</th>\n",
       "      <th>exog_2</th>\n",
       "      <th>exog_1</th>\n",
       "    </tr>\n",
       "  </thead>\n",
       "  <tbody>\n",
       "    <tr>\n",
       "      <th>5</th>\n",
       "      <td>-0.633334</td>\n",
       "      <td>-0.786745</td>\n",
       "      <td>0.870672</td>\n",
       "      <td>-0.576013</td>\n",
       "      <td>1.368017</td>\n",
       "      <td>1</td>\n",
       "      <td>1.0</td>\n",
       "    </tr>\n",
       "    <tr>\n",
       "      <th>6</th>\n",
       "      <td>-0.524161</td>\n",
       "      <td>-0.633334</td>\n",
       "      <td>-0.786745</td>\n",
       "      <td>0.870672</td>\n",
       "      <td>-0.576013</td>\n",
       "      <td>1</td>\n",
       "      <td>1.0</td>\n",
       "    </tr>\n",
       "    <tr>\n",
       "      <th>7</th>\n",
       "      <td>0.174525</td>\n",
       "      <td>-0.524161</td>\n",
       "      <td>-0.633334</td>\n",
       "      <td>-0.786745</td>\n",
       "      <td>0.870672</td>\n",
       "      <td>1</td>\n",
       "      <td>1.0</td>\n",
       "    </tr>\n",
       "  </tbody>\n",
       "</table>\n",
       "</div>"
      ],
      "text/plain": [
       "      lag_1     lag_2     lag_3     lag_4     lag_5 exog_2  exog_1\n",
       "5 -0.633334 -0.786745  0.870672 -0.576013  1.368017      1     1.0\n",
       "6 -0.524161 -0.633334 -0.786745  0.870672 -0.576013      1     1.0\n",
       "7  0.174525 -0.524161 -0.633334 -0.786745  0.870672      1     1.0"
      ]
     },
     "metadata": {},
     "output_type": "display_data"
    },
    {
     "data": {
      "text/plain": [
       "50    0.337666\n",
       "51    0.066307\n",
       "52    0.058130\n",
       "Name: pred, dtype: float64"
      ]
     },
     "execution_count": 68,
     "metadata": {},
     "output_type": "execute_result"
    }
   ],
   "source": [
    "# Lightgbm\n",
    "# ======================================================================================\n",
    "forecaster = ForecasterAutoreg(\n",
    "                regressor = LGBMRegressor(\n",
    "                              #categorical_feature = f\"name:{','.join(categorical_cols)}\",\n",
    "                              #categorical_feature = 'auto',\n",
    "                              n_estimators=10,\n",
    "                              random_state=12345\n",
    "                            ),\n",
    "                lags = 5,\n",
    "                transformer_exog = transformer_exog\n",
    "             )\n",
    "X_train, y_train = forecaster.create_train_X_y(\n",
    "                        y=y,\n",
    "                        exog=exog\n",
    "                   )\n",
    "print(X_train.dtypes)\n",
    "display(X_train.head(3))\n",
    "forecaster.fit(y=y, exog=exog)\n",
    "\n",
    "exog_predict = exog.copy()\n",
    "exog_predict.index = pd.RangeIndex(50, 100)\n",
    "forecaster.predict(steps=3, exog=exog_predict)"
   ]
  },
  {
   "cell_type": "code",
   "execution_count": 54,
   "metadata": {},
   "outputs": [
    {
     "data": {
      "text/plain": [
       "50   -0.159451\n",
       "51    0.093426\n",
       "52    0.093426\n",
       "Name: pred, dtype: float64"
      ]
     },
     "execution_count": 54,
     "metadata": {},
     "output_type": "execute_result"
    }
   ],
   "source": [
    "# XGBoost\n",
    "# ======================================================================================\n",
    "forecaster = ForecasterAutoreg(\n",
    "                regressor = LGBMRegressor(\n",
    "                              #categorical_feature = f\"name:{','.join(categorical_cols)}\",\n",
    "                              #categorical_feature = 'auto',\n",
    "                              n_estimators=10,\n",
    "                              random_state=12345\n",
    "                            ),\n",
    "                lags = 5,\n",
    "                transformer_exog = transformer_exog\n",
    "             )\n",
    "X_train, y_train = forecaster.create_train_X_y(\n",
    "                        y=y,\n",
    "                        exog=exog\n",
    "                   )\n",
    "print(X_train.dtypes)\n",
    "display(X_train.head(3))\n",
    "forecaster.fit(y=y, exog=exog)\n",
    "\n",
    "exog_predict = exog.copy()\n",
    "exog_predict.index = pd.RangeIndex(50, 100)\n",
    "forecaster.predict(steps=3, exog=exog_predict)"
   ]
  },
  {
   "cell_type": "code",
   "execution_count": null,
   "metadata": {},
   "outputs": [],
   "source": []
  }
 ],
 "metadata": {
  "kernelspec": {
   "display_name": "skforecast_py10",
   "language": "python",
   "name": "python3"
  },
  "language_info": {
   "codemirror_mode": {
    "name": "ipython",
    "version": 3
   },
   "file_extension": ".py",
   "mimetype": "text/x-python",
   "name": "python",
   "nbconvert_exporter": "python",
   "pygments_lexer": "ipython3",
   "version": "3.10.9"
  },
  "orig_nbformat": 4,
  "vscode": {
   "interpreter": {
    "hash": "6cf372b23b9916b33b4c23f9ee2e7d08e597eb711b766c11830fb054f7812cb1"
   }
  }
 },
 "nbformat": 4,
 "nbformat_minor": 2
}
