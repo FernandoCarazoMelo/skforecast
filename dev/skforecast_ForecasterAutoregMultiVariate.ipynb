{
 "cells": [
  {
   "cell_type": "code",
   "execution_count": 1,
   "id": "df7c8824",
   "metadata": {
    "ExecuteTime": {
     "end_time": "2022-07-08T15:53:35.028706Z",
     "start_time": "2022-07-08T15:53:34.980669Z"
    }
   },
   "outputs": [],
   "source": [
    "%load_ext autoreload\n",
    "%autoreload 2\n",
    "import sys\n",
    "from pathlib import Path\n",
    "sys.path.insert(1, str(Path.cwd().parent))\n",
    "%config Completer.use_jedi = False"
   ]
  },
  {
   "cell_type": "code",
   "execution_count": 2,
   "id": "33a49d05",
   "metadata": {
    "ExecuteTime": {
     "end_time": "2022-07-08T15:28:40.437598Z",
     "start_time": "2022-07-08T15:28:40.417718Z"
    }
   },
   "outputs": [
    {
     "data": {
      "text/plain": [
       "WindowsPath('c:/Users/jaesc2/GitHub/skforecast')"
      ]
     },
     "execution_count": 2,
     "metadata": {},
     "output_type": "execute_result"
    }
   ],
   "source": [
    "import sys\n",
    "from pathlib import Path\n",
    "(Path.cwd().parent)"
   ]
  },
  {
   "cell_type": "code",
   "execution_count": 3,
   "id": "71dd3842",
   "metadata": {
    "ExecuteTime": {
     "end_time": "2022-07-08T15:28:41.404349Z",
     "start_time": "2022-07-08T15:28:41.395375Z"
    }
   },
   "outputs": [
    {
     "data": {
      "text/plain": [
       "'c:\\\\Users\\\\jaesc2\\\\GitHub'"
      ]
     },
     "execution_count": 3,
     "metadata": {},
     "output_type": "execute_result"
    }
   ],
   "source": [
    "str(Path.cwd().parent.parent)"
   ]
  },
  {
   "cell_type": "markdown",
   "id": "b6f9a85a",
   "metadata": {},
   "source": [
    "## Librerias"
   ]
  },
  {
   "cell_type": "code",
   "execution_count": 4,
   "id": "738fd9e7",
   "metadata": {
    "ExecuteTime": {
     "end_time": "2022-07-08T15:53:36.676416Z",
     "start_time": "2022-07-08T15:53:36.156473Z"
    }
   },
   "outputs": [],
   "source": [
    "## ForecasterAutoregMultiSeries\n",
    "# ==============================================================================\n",
    "from typing import Union, Dict, List, Tuple, Any, Optional\n",
    "import warnings\n",
    "import logging\n",
    "import sys\n",
    "import inspect\n",
    "import numpy as np\n",
    "import pandas as pd\n",
    "import sklearn\n",
    "import sklearn.pipeline\n",
    "from sklearn.base import clone\n",
    "from copy import copy\n",
    "\n",
    "import skforecast\n",
    "from skforecast.ForecasterBase import ForecasterBase\n",
    "from skforecast.utils import check_y\n",
    "from skforecast.utils import check_exog\n",
    "from skforecast.utils import preprocess_y\n",
    "from skforecast.utils import preprocess_last_window\n",
    "from skforecast.utils import preprocess_exog\n",
    "from skforecast.utils import expand_index\n",
    "from skforecast.utils import check_predict_input\n",
    "from skforecast.utils import transform_series\n",
    "from skforecast.utils import transform_dataframe"
   ]
  },
  {
   "cell_type": "markdown",
   "id": "bd755b2d",
   "metadata": {},
   "source": [
    "## Create_train_X_y"
   ]
  },
  {
   "cell_type": "code",
   "execution_count": 7,
   "id": "16033119",
   "metadata": {},
   "outputs": [],
   "source": [
    "class dummy_forecaster():\n",
    "    \n",
    "    def __init__(\n",
    "        self,\n",
    "        regressor,\n",
    "        lags: Union[int, np.ndarray, list],\n",
    "        transformer_series: Optional[object]=None,\n",
    "        transformer_exog: Optional[object]=None,\n",
    "        series_weights: Optional[dict]=None\n",
    "    ) -> None:\n",
    "        \n",
    "        self.regressor            = regressor\n",
    "        self.transformer_series   = transformer_series\n",
    "        self.transformer_exog     = transformer_exog\n",
    "        self.series_weights       = series_weights\n",
    "        self.index_type           = None\n",
    "        self.index_freq           = None\n",
    "        self.index_values         = None\n",
    "        self.training_range       = None\n",
    "        self.last_window          = None\n",
    "        self.included_exog        = False\n",
    "        self.exog_type            = None\n",
    "        self.exog_col_names       = None\n",
    "        self.series_levels        = None\n",
    "        self.X_train_col_names    = None\n",
    "        self.in_sample_residuals  = None\n",
    "        self.out_sample_residuals = None\n",
    "        self.fitted               = False\n",
    "        self.creation_date        = pd.Timestamp.today().strftime('%Y-%m-%d %H:%M:%S')\n",
    "        self.fit_date             = None\n",
    "        self.skforcast_version    = skforecast.__version__\n",
    "        self.python_version       = sys.version.split(\" \")[0]\n",
    "        \n",
    "        if isinstance(lags, int) and lags < 1:\n",
    "            raise ValueError('Minimum value of lags allowed is 1.')\n",
    "\n",
    "        if isinstance(lags, (list, np.ndarray)):\n",
    "            for lag in lags:\n",
    "                if not isinstance(lag, (int, np.int64, np.int32)):\n",
    "                    raise TypeError('All values in `lags` must be int.')\n",
    "            \n",
    "        if isinstance(lags, (list, range, np.ndarray)) and min(lags) < 1:\n",
    "            raise ValueError('Minimum value of lags allowed is 1.')\n",
    "            \n",
    "        if isinstance(lags, int):\n",
    "            self.lags = np.arange(lags) + 1\n",
    "        elif isinstance(lags, (list, range)):\n",
    "            self.lags = np.array(lags)\n",
    "        elif isinstance(lags, np.ndarray):\n",
    "            self.lags = lags\n",
    "        else:\n",
    "            raise TypeError(\n",
    "                '`lags` argument must be int, 1d numpy ndarray, range or list. '\n",
    "                f\"Got {type(lags)}\"\n",
    "            )\n",
    "\n",
    "        if series_weights is not None:\n",
    "            if 'sample_weight' not in inspect.getfullargspec(self.regressor.fit)[0]:\n",
    "                warnings.warm(\n",
    "                    f\"\"\"\n",
    "                    Argument `series_weights` is ignored since regressor {self.regressor}\n",
    "                    does not accept `sample_weight` in its `fit` method.\n",
    "                    \"\"\"\n",
    "                )\n",
    "                self.series_weights = None\n",
    "            \n",
    "        self.max_lag = max(self.lags)\n",
    "        self.window_size = self.max_lag\n",
    "\n",
    "\n",
    "    def __repr__(\n",
    "        self\n",
    "    ) -> str:\n",
    "        \"\"\"\n",
    "        Information displayed when a ForecasterAutoregMultiSeries object is printed.\n",
    "        \"\"\"\n",
    "\n",
    "        if isinstance(self.regressor, sklearn.pipeline.Pipeline):\n",
    "            name_pipe_steps = tuple(name + \"__\" for name in self.regressor.named_steps.keys())\n",
    "            params = {key : value for key, value in self.regressor.get_params().items() \\\n",
    "                     if key.startswith(name_pipe_steps)}\n",
    "        else:\n",
    "            params = self.regressor.get_params()\n",
    "\n",
    "        info = (\n",
    "            f\"{'=' * len(str(type(self)).split('.')[1])} \\n\"\n",
    "            f\"{str(type(self)).split('.')[1]} \\n\"\n",
    "            f\"{'=' * len(str(type(self)).split('.')[1])} \\n\"\n",
    "            f\"Regressor: {self.regressor} \\n\"\n",
    "            f\"Lags: {self.lags} \\n\"\n",
    "            f\"Transformer for series: {self.transformer_series} \\n\"\n",
    "            f\"Transformer for exog: {self.transformer_exog} \\n\"\n",
    "            f\"Window size: {self.window_size} \\n\"\n",
    "            f\"Series levels (names): {self.series_levels} \\n\"\n",
    "            f\"Series weights: {self.series_weights} \\n\"\n",
    "            f\"Included exogenous: {self.included_exog} \\n\"\n",
    "            f\"Type of exogenous variable: {self.exog_type} \\n\"\n",
    "            f\"Exogenous variables names: {self.exog_col_names} \\n\"\n",
    "            f\"Training range: {self.training_range.to_list() if self.fitted else None} \\n\"\n",
    "            f\"Training index type: {str(self.index_type).split('.')[-1][:-2] if self.fitted else None} \\n\"\n",
    "            f\"Training index frequency: {self.index_freq if self.fitted else None} \\n\"\n",
    "            f\"Regressor parameters: {params} \\n\"\n",
    "            f\"Creation date: {self.creation_date} \\n\"\n",
    "            f\"Last fit date: {self.fit_date} \\n\"\n",
    "            f\"Skforecast version: {self.skforcast_version} \\n\"\n",
    "            f\"Python version: {self.python_version} \\n\"\n",
    "        )\n",
    "\n",
    "        return info\n"
   ]
  },
  {
   "cell_type": "code",
   "execution_count": 8,
   "id": "60fc6279",
   "metadata": {},
   "outputs": [],
   "source": [
    "forecaster = dummy_forecaster(\n",
    "                 regressor = 'dummy',\n",
    "                 lags = 5\n",
    "             )"
   ]
  },
  {
   "cell_type": "code",
   "execution_count": 9,
   "id": "c94e1137",
   "metadata": {},
   "outputs": [
    {
     "data": {
      "text/plain": [
       "array([1, 2, 3, 4, 5])"
      ]
     },
     "execution_count": 9,
     "metadata": {},
     "output_type": "execute_result"
    }
   ],
   "source": [
    "forecaster.lags"
   ]
  },
  {
   "cell_type": "code",
   "execution_count": 10,
   "id": "a0b915eb",
   "metadata": {},
   "outputs": [
    {
     "data": {
      "text/plain": [
       "5"
      ]
     },
     "execution_count": 10,
     "metadata": {},
     "output_type": "execute_result"
    }
   ],
   "source": [
    "forecaster.max_lag"
   ]
  },
  {
   "cell_type": "code",
   "execution_count": 11,
   "id": "0c648026",
   "metadata": {},
   "outputs": [],
   "source": [
    "def _create_lags(\n",
    "    self, \n",
    "    y: np.ndarray\n",
    ") -> Tuple[np.ndarray, np.ndarray]:\n",
    "        \n",
    "    n_splits = len(y) - self.max_lag\n",
    "    if n_splits <= 0:\n",
    "        raise ValueError(\n",
    "            f'The maximum lag ({self.max_lag}) must be less than the length '\n",
    "            f'of the series ({len(y)}).'\n",
    "        )\n",
    "    \n",
    "    X_data = np.full(shape=(n_splits, len(self.lags)), fill_value=np.nan, dtype=float)\n",
    "\n",
    "    for i, lag in enumerate(self.lags):\n",
    "        X_data[:, i] = y[self.max_lag - lag: -lag]\n",
    "\n",
    "    y_data = y[self.max_lag:]\n",
    "        \n",
    "    return X_data, y_data"
   ]
  },
  {
   "cell_type": "code",
   "execution_count": 16,
   "id": "88c6cf36",
   "metadata": {},
   "outputs": [
    {
     "data": {
      "text/plain": [
       "(array([[4., 3., 2., 1., 0.],\n",
       "        [5., 4., 3., 2., 1.],\n",
       "        [6., 5., 4., 3., 2.],\n",
       "        [7., 6., 5., 4., 3.],\n",
       "        [8., 7., 6., 5., 4.]]),\n",
       " array([5, 6, 7, 8, 9]))"
      ]
     },
     "execution_count": 16,
     "metadata": {},
     "output_type": "execute_result"
    }
   ],
   "source": [
    "_create_lags(forecaster, np.array(list(range(10))))"
   ]
  },
  {
   "cell_type": "code",
   "execution_count": 13,
   "id": "b5fca5f8",
   "metadata": {},
   "outputs": [],
   "source": [
    "def create_train_X_y(\n",
    "    self,\n",
    "    series: pd.DataFrame,\n",
    "    exog: Optional[Union[pd.Series, pd.DataFrame]]=None\n",
    ") -> Tuple[pd.DataFrame, pd.Series]:\n",
    "\n",
    "    if not isinstance(series, pd.DataFrame):\n",
    "        raise TypeError(f'`series` must be a pandas DataFrame. Got {type(series)}.')\n",
    "\n",
    "    series_levels = list(series.columns)\n",
    "\n",
    "    if self.transformer_series is None:\n",
    "        dict_transformers = {level: None for level in series_levels}\n",
    "        self.transformer_series = dict_transformers\n",
    "    elif not isinstance(self.transformer_series, dict):\n",
    "        dict_transformers = {level: clone(self.transformer_series) \n",
    "                                for level in series_levels}\n",
    "        self.transformer_series = dict_transformers\n",
    "    else:\n",
    "        if list(self.transformer_series.keys()) != series_levels:\n",
    "            raise ValueError(\n",
    "                (f'When `transformer_series` parameter is a `dict`, its keys '\n",
    "                    f'must be the same as `series_levels` : {series_levels}.')\n",
    "            )\n",
    "    \n",
    "    X_train_col_names = [f\"{level}_lag_{lag}\" for level in series_levels for lag in self.lags]\n",
    "\n",
    "    for i, serie in enumerate(series.columns):\n",
    "\n",
    "        y = series[serie]\n",
    "        check_y(y=y)\n",
    "        y = transform_series(\n",
    "                series            = y,\n",
    "                transformer       = self.transformer_series[serie],\n",
    "                fit               = True,\n",
    "                inverse_transform = False\n",
    "            )\n",
    "        y_values, y_index = preprocess_y(y=y)\n",
    "        X_train_values, y_train_values = self._create_lags(y=y_values)\n",
    "\n",
    "        if i == 0:\n",
    "            X_train = X_train_values\n",
    "            y_train = y_train_values\n",
    "        else:\n",
    "            X_train = np.hstack((X_train, X_train_values))\n",
    "            y_train = np.append(y_train, y_train_values)\n",
    "\n",
    "    if exog is not None:\n",
    "        if len(exog) != len(series):\n",
    "            raise ValueError(\n",
    "                f'`exog` must have same number of samples as `series`. '\n",
    "                f'length `exog`: ({len(exog)}), length `series`: ({len(series)})'\n",
    "            )\n",
    "        check_exog(exog=exog)\n",
    "        if isinstance(exog, pd.Series):\n",
    "            exog = transform_series(\n",
    "                        series            = exog,\n",
    "                        transformer       = self.transformer_exog,\n",
    "                        fit               = True,\n",
    "                        inverse_transform = False\n",
    "                    )\n",
    "        else:\n",
    "            exog = transform_dataframe(\n",
    "                        df                = exog,\n",
    "                        transformer       = self.transformer_exog,\n",
    "                        fit               = True,\n",
    "                        inverse_transform = False\n",
    "                    )\n",
    "        exog_values, exog_index = preprocess_exog(exog=exog)\n",
    "        if not (exog_index[:len(y_index)] == y_index).all():\n",
    "            raise ValueError(\n",
    "                ('Different index for `series` and `exog`. They must be equal '\n",
    "                    'to ensure the correct alignment of values.')      \n",
    "            )\n",
    "        col_names_exog = exog.columns if isinstance(exog, pd.DataFrame) else [exog.name]\n",
    "        X_train_col_names.extend(col_names_exog)\n",
    "\n",
    "        # The first `self.max_lag` positions have to be removed from exog\n",
    "        # since they are not in X_train. Then exog is cloned as many times\n",
    "        # as series.\n",
    "        if exog_values.ndim == 1:\n",
    "            X_train = np.column_stack((\n",
    "                        X_train,\n",
    "                        np.tile(exog_values[self.max_lag:, ], series.shape[1])\n",
    "                        )) \n",
    "\n",
    "        else:\n",
    "            X_train = np.column_stack((\n",
    "                        X_train,\n",
    "                        np.tile(exog_values[self.max_lag:, ], [series.shape[1], 1])\n",
    "                        ))\n",
    "\n",
    "    X_levels = pd.Series(X_levels)\n",
    "    X_levels = pd.get_dummies(X_levels, dtype=float)\n",
    "    X_train_col_names.extend(X_levels.columns)\n",
    "    X_train = np.column_stack((X_train, X_levels.values))\n",
    "\n",
    "    X_train = pd.DataFrame(\n",
    "                data    = X_train,\n",
    "                columns = X_train_col_names\n",
    "            )\n",
    "\n",
    "    y_train = pd.Series(\n",
    "                data  = y_train,\n",
    "                name  = 'y'\n",
    "            )\n",
    "    \n",
    "    self.X_train_col_names = X_train_col_names\n",
    "\n",
    "    return X_train, y_train, y_index"
   ]
  },
  {
   "cell_type": "code",
   "execution_count": 35,
   "id": "1bee2295",
   "metadata": {},
   "outputs": [
    {
     "data": {
      "text/plain": [
       "array([[  0,   0, 100, 100],\n",
       "       [  1,   1, 101, 101],\n",
       "       [  2,   2, 102, 102],\n",
       "       [  3,   3, 103, 103],\n",
       "       [  4,   4, 104, 104]])"
      ]
     },
     "execution_count": 35,
     "metadata": {},
     "output_type": "execute_result"
    }
   ],
   "source": [
    "series_1 = pd.DataFrame({'1': pd.Series(np.arange(5)),  \n",
    "                         '2': pd.Series(np.arange(5))\n",
    "                        })\n",
    "\n",
    "series_2 = pd.DataFrame({'1': pd.Series(np.arange(100, 105)),  \n",
    "                         '2': pd.Series(np.arange(100, 105))\n",
    "                        })\n",
    "\n",
    "X_train = np.hstack((series_1.values, series_2.values))\n",
    "X_train"
   ]
  },
  {
   "cell_type": "code",
   "execution_count": 38,
   "id": "f7a0e159",
   "metadata": {},
   "outputs": [
    {
     "data": {
      "text/plain": [
       "['l1_lag_1', 'l1_lag_2', 'l1_lag_3', 'l2_lag_1', 'l2_lag_2', 'l2_lag_3']"
      ]
     },
     "execution_count": 38,
     "metadata": {},
     "output_type": "execute_result"
    }
   ],
   "source": [
    "lags = np.array([1,2,3])\n",
    "levels = ['l1', 'l2']\n",
    "\n",
    "[f\"{level}_lag_{lag}\" for level in levels for lag in lags]"
   ]
  },
  {
   "cell_type": "markdown",
   "id": "1ffbbe03",
   "metadata": {},
   "source": [
    "## Init"
   ]
  },
  {
   "cell_type": "code",
   "execution_count": 8,
   "id": "bd81b45b",
   "metadata": {},
   "outputs": [],
   "source": [
    "class ForecasterAutoregMultiVariate(ForecasterBase):\n",
    "        \n",
    "    def __init__(\n",
    "        self,\n",
    "        regressor: dict[str, object],\n",
    "        lags: dict[str, Union[int, np.ndarray, list]],\n",
    "        transformer_series: Optional[Union[object, dict[str, object]]]=None,\n",
    "        transformer_exog: Optional[Union[object, dict[str, object]]]=None,\n",
    "        series_weights: Optional[dict[str, float]]=None,\n",
    "        weight_func: Optional[Union[callable, dict[str, callable]]]=None\n",
    "    ) -> None:\n",
    "        \n",
    "        self.regressor               = regressor\n",
    "        self.transformer_series      = transformer_series\n",
    "        self.transformer_exog        = transformer_exog\n",
    "        self.series_weights          = series_weights\n",
    "        self.weight_func             = weight_func\n",
    "        self.source_code_weight_func = None\n",
    "        self.index_type              = None\n",
    "        self.index_freq              = None\n",
    "        self.index_values            = None\n",
    "        self.training_range          = None\n",
    "        self.last_window             = None\n",
    "        self.included_exog           = False\n",
    "        self.exog_type               = None\n",
    "        self.exog_col_names          = None\n",
    "        self.series_levels           = None\n",
    "        self.X_train_col_names       = None\n",
    "        self.in_sample_residuals     = None\n",
    "        self.out_sample_residuals    = None\n",
    "        self.fitted                  = False\n",
    "        self.creation_date           = pd.Timestamp.today().strftime('%Y-%m-%d %H:%M:%S')\n",
    "        self.fit_date                = None\n",
    "        self.skforcast_version       = skforecast.__version__\n",
    "        self.python_version          = sys.version.split(\" \")[0]\n",
    "        \n",
    "        if not isinstance(self.regressor, dict):\n",
    "            raise TypeError(\n",
    "                ('The `regressor` argument must be a `dict` containing the levels of '\n",
    "                 'the forecaster (column names of the series) as keys and the '\n",
    "                 'corresponding regressor for each level. {level (str) : regressor}.')\n",
    "            )\n",
    "\n",
    "        for key in self.regressor:\n",
    "            if not isinstance(key, str):\n",
    "                raise TypeError(\n",
    "                    f\"All regressor dict keys must be a string.\\n\"\n",
    "                    f\"    Key {key} is a {type(key)}\"\n",
    "                )\n",
    "\n",
    "        # Next crear lags dict, si es un dict comprobar que coinciden las keys\n",
    "\n",
    "        if isinstance(lags, int) and lags < 1:\n",
    "            raise ValueError('Minimum value of lags allowed is 1.')\n",
    "\n",
    "        if isinstance(lags, (list, np.ndarray)):\n",
    "            for lag in lags:\n",
    "                if not isinstance(lag, (int, np.int64, np.int32)):\n",
    "                    raise TypeError('All values in `lags` must be int.')\n",
    "            \n",
    "        if isinstance(lags, (list, range, np.ndarray)) and min(lags) < 1:\n",
    "            raise ValueError('Minimum value of lags allowed is 1.')\n",
    "            \n",
    "        if isinstance(lags, int):\n",
    "            self.lags = np.arange(lags) + 1\n",
    "        elif isinstance(lags, (list, range)):\n",
    "            self.lags = np.array(lags)\n",
    "        elif isinstance(lags, np.ndarray):\n",
    "            self.lags = lags\n",
    "        else:\n",
    "            raise TypeError(\n",
    "                '`lags` argument must be int, 1d numpy ndarray, range or list. '\n",
    "                f\"Got {type(lags)}\"\n",
    "            )\n",
    "\n",
    "        if series_weights is not None:\n",
    "            if 'sample_weight' not in inspect.getfullargspec(self.regressor.fit)[0]:\n",
    "                warnings.warm(\n",
    "                    f\"\"\"\n",
    "                    Argument `series_weights` is ignored since regressor {self.regressor}\n",
    "                    does not accept `sample_weight` in its `fit` method.\n",
    "                    \"\"\"\n",
    "                )\n",
    "                self.series_weights = None\n",
    "            \n",
    "        self.max_lag = max(self.lags)\n",
    "        self.window_size = self.max_lag\n",
    "\n",
    "\n",
    "    def __repr__(\n",
    "        self\n",
    "    ) -> str:\n",
    "        \"\"\"\n",
    "        Information displayed when a ForecasterAutoregMultiSeries object is printed.\n",
    "        \"\"\"\n",
    "\n",
    "        if isinstance(self.regressor, sklearn.pipeline.Pipeline):\n",
    "            name_pipe_steps = tuple(name + \"__\" for name in self.regressor.named_steps.keys())\n",
    "            params = {key : value for key, value in self.regressor.get_params().items() \\\n",
    "                     if key.startswith(name_pipe_steps)}\n",
    "        else:\n",
    "            params = self.regressor.get_params()\n",
    "\n",
    "        info = (\n",
    "            f\"{'=' * len(str(type(self)).split('.')[1])} \\n\"\n",
    "            f\"{str(type(self)).split('.')[1]} \\n\"\n",
    "            f\"{'=' * len(str(type(self)).split('.')[1])} \\n\"\n",
    "            f\"Regressor: {self.regressor} \\n\"\n",
    "            f\"Lags: {self.lags} \\n\"\n",
    "            f\"Transformer for series: {self.transformer_series} \\n\"\n",
    "            f\"Transformer for exog: {self.transformer_exog} \\n\"\n",
    "            f\"Window size: {self.window_size} \\n\"\n",
    "            f\"Series levels (names): {self.series_levels} \\n\"\n",
    "            f\"Series weights: {self.series_weights} \\n\"\n",
    "            f\"Included exogenous: {self.included_exog} \\n\"\n",
    "            f\"Type of exogenous variable: {self.exog_type} \\n\"\n",
    "            f\"Exogenous variables names: {self.exog_col_names} \\n\"\n",
    "            f\"Training range: {self.training_range.to_list() if self.fitted else None} \\n\"\n",
    "            f\"Training index type: {str(self.index_type).split('.')[-1][:-2] if self.fitted else None} \\n\"\n",
    "            f\"Training index frequency: {self.index_freq if self.fitted else None} \\n\"\n",
    "            f\"Regressor parameters: {params} \\n\"\n",
    "            f\"Creation date: {self.creation_date} \\n\"\n",
    "            f\"Last fit date: {self.fit_date} \\n\"\n",
    "            f\"Skforecast version: {self.skforcast_version} \\n\"\n",
    "            f\"Python version: {self.python_version} \\n\"\n",
    "        )\n",
    "\n",
    "        return info"
   ]
  },
  {
   "cell_type": "code",
   "execution_count": 9,
   "id": "c29fb9e6",
   "metadata": {},
   "outputs": [
    {
     "data": {
      "text/plain": [
       "{1: 1}"
      ]
     },
     "execution_count": 9,
     "metadata": {},
     "output_type": "execute_result"
    }
   ],
   "source": [
    "for key in {'1':1, 2:2}.keys():\n",
    "    "
   ]
  },
  {
   "cell_type": "code",
   "execution_count": 27,
   "id": "81344f50",
   "metadata": {},
   "outputs": [
    {
     "ename": "TypeError",
     "evalue": "`lags` argument must be int, 1d numpy ndarray, range or list.\nGot : [<class 'str'>, <class 'int'>]",
     "output_type": "error",
     "traceback": [
      "\u001b[1;31m---------------------------------------------------------------------------\u001b[0m",
      "\u001b[1;31mTypeError\u001b[0m                                 Traceback (most recent call last)",
      "Cell \u001b[1;32mIn [27], line 3\u001b[0m\n\u001b[0;32m      1\u001b[0m \u001b[39mfor\u001b[39;00m key \u001b[39min\u001b[39;00m {\u001b[39m'\u001b[39m\u001b[39m1\u001b[39m\u001b[39m'\u001b[39m:\u001b[39m1\u001b[39m, \u001b[39m2\u001b[39m:\u001b[39m2\u001b[39m}\u001b[39m.\u001b[39mkeys():\n\u001b[0;32m      2\u001b[0m     \u001b[39mif\u001b[39;00m \u001b[39mnot\u001b[39;00m \u001b[39misinstance\u001b[39m(key, \u001b[39mstr\u001b[39m):\n\u001b[1;32m----> 3\u001b[0m         \u001b[39mraise\u001b[39;00m \u001b[39mTypeError\u001b[39;00m(\n\u001b[0;32m      4\u001b[0m                 \u001b[39m'\u001b[39m\u001b[39m`lags` argument must be int, 1d numpy ndarray, range or list.\u001b[39m\u001b[39m\\n\u001b[39;00m\u001b[39m'\u001b[39m\n\u001b[0;32m      5\u001b[0m                 \u001b[39mf\u001b[39m\u001b[39m\"\u001b[39m\u001b[39mGot : \u001b[39m\u001b[39m{\u001b[39;00m[\u001b[39mtype\u001b[39m(key) \u001b[39mfor\u001b[39;00m key \u001b[39min\u001b[39;00m {\u001b[39m'\u001b[39m\u001b[39m1\u001b[39m\u001b[39m'\u001b[39m:\u001b[39m1\u001b[39m, \u001b[39m2\u001b[39m:\u001b[39m2\u001b[39m}\u001b[39m.\u001b[39mkeys()]\u001b[39m}\u001b[39;00m\u001b[39m\"\u001b[39m\n\u001b[0;32m      6\u001b[0m             )\n",
      "\u001b[1;31mTypeError\u001b[0m: `lags` argument must be int, 1d numpy ndarray, range or list.\nGot : [<class 'str'>, <class 'int'>]"
     ]
    }
   ],
   "source": [
    "for key in {'1':1, 2:2}.keys():\n",
    "    if not isinstance(key, str):\n",
    "        raise TypeError(\n",
    "            f\"All regressor dict keys must be a string.\\n\"\n",
    "            f\"    Key {key} is a {type(key)}\"\n",
    "        )"
   ]
  },
  {
   "cell_type": "code",
   "execution_count": 26,
   "id": "aa64a312",
   "metadata": {},
   "outputs": [
    {
     "data": {
      "text/plain": [
       "[str, int]"
      ]
     },
     "execution_count": 26,
     "metadata": {},
     "output_type": "execute_result"
    }
   ],
   "source": [
    "[type(key) for key in {'1':1, 2:2}.keys()]"
   ]
  },
  {
   "cell_type": "code",
   "execution_count": 37,
   "id": "66ec90a2",
   "metadata": {},
   "outputs": [],
   "source": [
    "y = np.arange(10).reshape(-1, 1)\n",
    "x = np.arange(10).reshape(-1, 1)\n",
    "weights = [1, 1, 1, 1, -1, 1, 1, 1, 1, 1]"
   ]
  },
  {
   "cell_type": "code",
   "execution_count": 36,
   "id": "4b99aff6",
   "metadata": {},
   "outputs": [
    {
     "name": "stderr",
     "output_type": "stream",
     "text": [
      "C:\\Users\\jaesc2\\AppData\\Local\\Temp\\ipykernel_6968\\380885746.py:4: DataConversionWarning: A column-vector y was passed when a 1d array was expected. Please change the shape of y to (n_samples,), for example using ravel().\n",
      "  model.fit(X=x, y=y, sample_weight=weights)\n",
      "c:\\Users\\jaesc2\\Miniconda3\\envs\\skforecast\\lib\\site-packages\\sklearn\\ensemble\\_forest.py:667: RuntimeWarning: invalid value encountered in add\n",
      "  out[0] += prediction\n"
     ]
    },
    {
     "data": {
      "text/plain": [
       "array([-inf, -inf, -inf,  nan,  nan,  nan,  nan,  inf,  inf,  inf])"
      ]
     },
     "execution_count": 36,
     "metadata": {},
     "output_type": "execute_result"
    }
   ],
   "source": [
    "from sklearn.ensemble import RandomForestRegressor\n",
    "\n",
    "model = RandomForestRegressor()\n",
    "model.fit(X=x, y=y, sample_weight=weights)\n",
    "model.predict(y)"
   ]
  },
  {
   "cell_type": "code",
   "execution_count": 38,
   "id": "043a46aa",
   "metadata": {},
   "outputs": [
    {
     "ename": "ValueError",
     "evalue": "Negative values in data passed to `sample_weight`",
     "output_type": "error",
     "traceback": [
      "\u001b[1;31m---------------------------------------------------------------------------\u001b[0m",
      "\u001b[1;31mValueError\u001b[0m                                Traceback (most recent call last)",
      "Cell \u001b[1;32mIn [38], line 4\u001b[0m\n\u001b[0;32m      1\u001b[0m \u001b[39mfrom\u001b[39;00m \u001b[39msklearn\u001b[39;00m\u001b[39m.\u001b[39;00m\u001b[39mlinear_model\u001b[39;00m \u001b[39mimport\u001b[39;00m LinearRegression\n\u001b[0;32m      3\u001b[0m model \u001b[39m=\u001b[39m LinearRegression()\n\u001b[1;32m----> 4\u001b[0m model\u001b[39m.\u001b[39mfit(X\u001b[39m=\u001b[39mx, y\u001b[39m=\u001b[39my, sample_weight\u001b[39m=\u001b[39mweights)\n\u001b[0;32m      5\u001b[0m model\u001b[39m.\u001b[39mpredict(y)\n",
      "File \u001b[1;32mc:\\Users\\jaesc2\\Miniconda3\\envs\\skforecast\\lib\\site-packages\\sklearn\\linear_model\\_base.py:688\u001b[0m, in \u001b[0;36mLinearRegression.fit\u001b[1;34m(self, X, y, sample_weight)\u001b[0m\n\u001b[0;32m    682\u001b[0m accept_sparse \u001b[39m=\u001b[39m \u001b[39mFalse\u001b[39;00m \u001b[39mif\u001b[39;00m \u001b[39mself\u001b[39m\u001b[39m.\u001b[39mpositive \u001b[39melse\u001b[39;00m [\u001b[39m\"\u001b[39m\u001b[39mcsr\u001b[39m\u001b[39m\"\u001b[39m, \u001b[39m\"\u001b[39m\u001b[39mcsc\u001b[39m\u001b[39m\"\u001b[39m, \u001b[39m\"\u001b[39m\u001b[39mcoo\u001b[39m\u001b[39m\"\u001b[39m]\n\u001b[0;32m    684\u001b[0m X, y \u001b[39m=\u001b[39m \u001b[39mself\u001b[39m\u001b[39m.\u001b[39m_validate_data(\n\u001b[0;32m    685\u001b[0m     X, y, accept_sparse\u001b[39m=\u001b[39maccept_sparse, y_numeric\u001b[39m=\u001b[39m\u001b[39mTrue\u001b[39;00m, multi_output\u001b[39m=\u001b[39m\u001b[39mTrue\u001b[39;00m\n\u001b[0;32m    686\u001b[0m )\n\u001b[1;32m--> 688\u001b[0m sample_weight \u001b[39m=\u001b[39m _check_sample_weight(\n\u001b[0;32m    689\u001b[0m     sample_weight, X, dtype\u001b[39m=\u001b[39;49mX\u001b[39m.\u001b[39;49mdtype, only_non_negative\u001b[39m=\u001b[39;49m\u001b[39mTrue\u001b[39;49;00m\n\u001b[0;32m    690\u001b[0m )\n\u001b[0;32m    692\u001b[0m X, y, X_offset, y_offset, X_scale \u001b[39m=\u001b[39m _preprocess_data(\n\u001b[0;32m    693\u001b[0m     X,\n\u001b[0;32m    694\u001b[0m     y,\n\u001b[1;32m   (...)\u001b[0m\n\u001b[0;32m    698\u001b[0m     sample_weight\u001b[39m=\u001b[39msample_weight,\n\u001b[0;32m    699\u001b[0m )\n\u001b[0;32m    701\u001b[0m \u001b[39m# Sample weight can be implemented via a simple rescaling.\u001b[39;00m\n",
      "File \u001b[1;32mc:\\Users\\jaesc2\\Miniconda3\\envs\\skforecast\\lib\\site-packages\\sklearn\\utils\\validation.py:1736\u001b[0m, in \u001b[0;36m_check_sample_weight\u001b[1;34m(sample_weight, X, dtype, copy, only_non_negative)\u001b[0m\n\u001b[0;32m   1729\u001b[0m         \u001b[39mraise\u001b[39;00m \u001b[39mValueError\u001b[39;00m(\n\u001b[0;32m   1730\u001b[0m             \u001b[39m\"\u001b[39m\u001b[39msample_weight.shape == \u001b[39m\u001b[39m{}\u001b[39;00m\u001b[39m, expected \u001b[39m\u001b[39m{}\u001b[39;00m\u001b[39m!\u001b[39m\u001b[39m\"\u001b[39m\u001b[39m.\u001b[39mformat(\n\u001b[0;32m   1731\u001b[0m                 sample_weight\u001b[39m.\u001b[39mshape, (n_samples,)\n\u001b[0;32m   1732\u001b[0m             )\n\u001b[0;32m   1733\u001b[0m         )\n\u001b[0;32m   1735\u001b[0m \u001b[39mif\u001b[39;00m only_non_negative:\n\u001b[1;32m-> 1736\u001b[0m     check_non_negative(sample_weight, \u001b[39m\"\u001b[39;49m\u001b[39m`sample_weight`\u001b[39;49m\u001b[39m\"\u001b[39;49m)\n\u001b[0;32m   1738\u001b[0m \u001b[39mreturn\u001b[39;00m sample_weight\n",
      "File \u001b[1;32mc:\\Users\\jaesc2\\Miniconda3\\envs\\skforecast\\lib\\site-packages\\sklearn\\utils\\validation.py:1368\u001b[0m, in \u001b[0;36mcheck_non_negative\u001b[1;34m(X, whom)\u001b[0m\n\u001b[0;32m   1365\u001b[0m     X_min \u001b[39m=\u001b[39m X\u001b[39m.\u001b[39mmin()\n\u001b[0;32m   1367\u001b[0m \u001b[39mif\u001b[39;00m X_min \u001b[39m<\u001b[39m \u001b[39m0\u001b[39m:\n\u001b[1;32m-> 1368\u001b[0m     \u001b[39mraise\u001b[39;00m \u001b[39mValueError\u001b[39;00m(\u001b[39m\"\u001b[39m\u001b[39mNegative values in data passed to \u001b[39m\u001b[39m%s\u001b[39;00m\u001b[39m\"\u001b[39m \u001b[39m%\u001b[39m whom)\n",
      "\u001b[1;31mValueError\u001b[0m: Negative values in data passed to `sample_weight`"
     ]
    }
   ],
   "source": [
    "from sklearn.linear_model import LinearRegression\n",
    "\n",
    "model = LinearRegression()\n",
    "model.fit(X=x, y=y, sample_weight=weights)\n",
    "model.predict(y)"
   ]
  },
  {
   "cell_type": "code",
   "execution_count": 41,
   "id": "464e8d49",
   "metadata": {},
   "outputs": [
    {
     "data": {
      "text/plain": [
       "False"
      ]
     },
     "execution_count": 41,
     "metadata": {},
     "output_type": "execute_result"
    }
   ],
   "source": [
    "weights = [1, 1, 1, 1, 0, 1, 1, 1, 1, 1]\n",
    "\n",
    "np.any(np.array(weights) < 0)"
   ]
  },
  {
   "cell_type": "markdown",
   "id": "e149ca45",
   "metadata": {},
   "source": [
    "## ForecasterAutoregDirect"
   ]
  },
  {
   "cell_type": "code",
   "execution_count": 5,
   "id": "3717b3a9",
   "metadata": {},
   "outputs": [],
   "source": [
    "# Libraries\n",
    "# ==============================================================================\n",
    "import numpy as np\n",
    "import pandas as pd\n",
    "import matplotlib.pyplot as plt\n",
    "from skforecast.ForecasterAutoregDirect import ForecasterAutoregDirect\n",
    "from sklearn.linear_model import LinearRegression\n",
    "from sklearn.linear_model import Ridge\n",
    "from sklearn.metrics import mean_squared_error"
   ]
  },
  {
   "cell_type": "code",
   "execution_count": 44,
   "id": "8c3c52a7",
   "metadata": {},
   "outputs": [],
   "source": [
    "# Download data\n",
    "# ==============================================================================\n",
    "url = ('https://raw.githubusercontent.com/JoaquinAmatRodrigo/skforecast/master/data/h2o.csv')\n",
    "data = pd.read_csv(url, sep=',', header=0, names=['y', 'datetime'])\n",
    "\n",
    "# Data preprocessing\n",
    "# ==============================================================================\n",
    "data['datetime'] = pd.to_datetime(data['datetime'], format='%Y/%m/%d')\n",
    "data = data.set_index('datetime')\n",
    "data = data.asfreq('MS')\n",
    "data = data['y']\n",
    "data = data.sort_index()\n",
    "\n",
    "# Split train-test\n",
    "# ==============================================================================\n",
    "steps = 36\n",
    "data_train = data[:-steps]\n",
    "data_test  = data[-steps:]\n",
    "\n",
    "# Plot\n",
    "# ==============================================================================\n",
    "# fig, ax=plt.subplots(figsize=(9, 4))\n",
    "# data_train.plot(ax=ax, label='train')\n",
    "# data_test.plot(ax=ax, label='test')\n",
    "# ax.legend();"
   ]
  },
  {
   "cell_type": "code",
   "execution_count": 49,
   "id": "e6ea1a82",
   "metadata": {},
   "outputs": [
    {
     "data": {
      "text/plain": [
       "======================= \n",
       "ForecasterAutoregDirect \n",
       "======================= \n",
       "Regressor: Ridge() \n",
       "Lags: [ 1  2  3  4  5  6  7  8  9 10 11 12 13 14 15] \n",
       "Transformer for y: None \n",
       "Transformer for exog: None \n",
       "Included weights function: False \n",
       "Window size: 15 \n",
       "Maximum steps predicted: 5 \n",
       "Included exogenous: False \n",
       "Type of exogenous variable: None \n",
       "Exogenous variables names: None \n",
       "Training range: None \n",
       "Training index type: None \n",
       "Training index frequency: None \n",
       "Regressor parameters: {'alpha': 1.0, 'copy_X': True, 'fit_intercept': True, 'max_iter': None, 'normalize': 'deprecated', 'positive': False, 'random_state': None, 'solver': 'auto', 'tol': 0.001} \n",
       "Creation date: 2022-10-31 17:32:31 \n",
       "Last fit date: None \n",
       "Skforecast version: 0.6.0 \n",
       "Python version: 3.9.13 "
      ]
     },
     "execution_count": 49,
     "metadata": {},
     "output_type": "execute_result"
    }
   ],
   "source": [
    "# Create and fit forecaster\n",
    "# ==============================================================================\n",
    "forecaster = ForecasterAutoregDirect(\n",
    "                 regressor = Ridge(),\n",
    "                 steps     = 5,\n",
    "                 lags      = 15\n",
    "             )\n",
    "\n",
    "# forecaster.fit(y=data_train)\n",
    "forecaster"
   ]
  },
  {
   "cell_type": "code",
   "execution_count": 19,
   "id": "da9cd289",
   "metadata": {},
   "outputs": [
    {
     "data": {
      "text/plain": [
       "(   lag_1  lag_2  lag_3  exog_step_1  exog_step_2\n",
       " 4    2.0    1.0    0.0        103.0        104.0\n",
       " 5    3.0    2.0    1.0        104.0        105.0\n",
       " 6    4.0    3.0    2.0        105.0        106.0\n",
       " 7    5.0    4.0    3.0        106.0        107.0\n",
       " 8    6.0    5.0    4.0        107.0        108.0\n",
       " 9    7.0    6.0    5.0        108.0        109.0,\n",
       " 4    4.0\n",
       " 5    5.0\n",
       " 6    6.0\n",
       " 7    7.0\n",
       " 8    8.0\n",
       " 9    9.0\n",
       " Name: y_step_2, dtype: float64)"
      ]
     },
     "execution_count": 19,
     "metadata": {},
     "output_type": "execute_result"
    }
   ],
   "source": [
    "forecaster = ForecasterAutoregDirect(LinearRegression(), lags=3, steps=2)\n",
    "X_train, y_train = forecaster.create_train_X_y(\n",
    "                        y    = pd.Series(np.arange(10)),\n",
    "                        exog = pd.Series(np.arange(100, 110), name='exog')\n",
    "                    )\n",
    "results = forecaster.filter_train_X_y_for_step(step=2, X_train=X_train, y_train=y_train)\n",
    "results"
   ]
  },
  {
   "cell_type": "code",
   "execution_count": 8,
   "id": "5b39db40",
   "metadata": {},
   "outputs": [
    {
     "data": {
      "text/html": [
       "<div>\n",
       "<style scoped>\n",
       "    .dataframe tbody tr th:only-of-type {\n",
       "        vertical-align: middle;\n",
       "    }\n",
       "\n",
       "    .dataframe tbody tr th {\n",
       "        vertical-align: top;\n",
       "    }\n",
       "\n",
       "    .dataframe thead th {\n",
       "        text-align: right;\n",
       "    }\n",
       "</style>\n",
       "<table border=\"1\" class=\"dataframe\">\n",
       "  <thead>\n",
       "    <tr style=\"text-align: right;\">\n",
       "      <th></th>\n",
       "      <th>lag_1</th>\n",
       "      <th>lag_2</th>\n",
       "      <th>lag_3</th>\n",
       "      <th>exog_step_1</th>\n",
       "      <th>exog_step_2</th>\n",
       "    </tr>\n",
       "  </thead>\n",
       "  <tbody>\n",
       "    <tr>\n",
       "      <th>4</th>\n",
       "      <td>2.0</td>\n",
       "      <td>1.0</td>\n",
       "      <td>0.0</td>\n",
       "      <td>103.0</td>\n",
       "      <td>104.0</td>\n",
       "    </tr>\n",
       "    <tr>\n",
       "      <th>5</th>\n",
       "      <td>3.0</td>\n",
       "      <td>2.0</td>\n",
       "      <td>1.0</td>\n",
       "      <td>104.0</td>\n",
       "      <td>105.0</td>\n",
       "    </tr>\n",
       "    <tr>\n",
       "      <th>6</th>\n",
       "      <td>4.0</td>\n",
       "      <td>3.0</td>\n",
       "      <td>2.0</td>\n",
       "      <td>105.0</td>\n",
       "      <td>106.0</td>\n",
       "    </tr>\n",
       "    <tr>\n",
       "      <th>7</th>\n",
       "      <td>5.0</td>\n",
       "      <td>4.0</td>\n",
       "      <td>3.0</td>\n",
       "      <td>106.0</td>\n",
       "      <td>107.0</td>\n",
       "    </tr>\n",
       "    <tr>\n",
       "      <th>8</th>\n",
       "      <td>6.0</td>\n",
       "      <td>5.0</td>\n",
       "      <td>4.0</td>\n",
       "      <td>107.0</td>\n",
       "      <td>108.0</td>\n",
       "    </tr>\n",
       "    <tr>\n",
       "      <th>9</th>\n",
       "      <td>7.0</td>\n",
       "      <td>6.0</td>\n",
       "      <td>5.0</td>\n",
       "      <td>108.0</td>\n",
       "      <td>109.0</td>\n",
       "    </tr>\n",
       "  </tbody>\n",
       "</table>\n",
       "</div>"
      ],
      "text/plain": [
       "   lag_1  lag_2  lag_3  exog_step_1  exog_step_2\n",
       "4    2.0    1.0    0.0        103.0        104.0\n",
       "5    3.0    2.0    1.0        104.0        105.0\n",
       "6    4.0    3.0    2.0        105.0        106.0\n",
       "7    5.0    4.0    3.0        106.0        107.0\n",
       "8    6.0    5.0    4.0        107.0        108.0\n",
       "9    7.0    6.0    5.0        108.0        109.0"
      ]
     },
     "execution_count": 8,
     "metadata": {},
     "output_type": "execute_result"
    }
   ],
   "source": [
    "X_train"
   ]
  },
  {
   "cell_type": "code",
   "execution_count": 18,
   "id": "f6a38169",
   "metadata": {},
   "outputs": [
    {
     "data": {
      "text/html": [
       "<div>\n",
       "<style scoped>\n",
       "    .dataframe tbody tr th:only-of-type {\n",
       "        vertical-align: middle;\n",
       "    }\n",
       "\n",
       "    .dataframe tbody tr th {\n",
       "        vertical-align: top;\n",
       "    }\n",
       "\n",
       "    .dataframe thead th {\n",
       "        text-align: right;\n",
       "    }\n",
       "</style>\n",
       "<table border=\"1\" class=\"dataframe\">\n",
       "  <thead>\n",
       "    <tr style=\"text-align: right;\">\n",
       "      <th></th>\n",
       "      <th>lag_1</th>\n",
       "      <th>lag_2</th>\n",
       "      <th>lag_3</th>\n",
       "      <th>exog_step_2</th>\n",
       "    </tr>\n",
       "  </thead>\n",
       "  <tbody>\n",
       "    <tr>\n",
       "      <th>4</th>\n",
       "      <td>2.0</td>\n",
       "      <td>1.0</td>\n",
       "      <td>0.0</td>\n",
       "      <td>104.0</td>\n",
       "    </tr>\n",
       "    <tr>\n",
       "      <th>5</th>\n",
       "      <td>3.0</td>\n",
       "      <td>2.0</td>\n",
       "      <td>1.0</td>\n",
       "      <td>105.0</td>\n",
       "    </tr>\n",
       "    <tr>\n",
       "      <th>6</th>\n",
       "      <td>4.0</td>\n",
       "      <td>3.0</td>\n",
       "      <td>2.0</td>\n",
       "      <td>106.0</td>\n",
       "    </tr>\n",
       "    <tr>\n",
       "      <th>7</th>\n",
       "      <td>5.0</td>\n",
       "      <td>4.0</td>\n",
       "      <td>3.0</td>\n",
       "      <td>107.0</td>\n",
       "    </tr>\n",
       "    <tr>\n",
       "      <th>8</th>\n",
       "      <td>6.0</td>\n",
       "      <td>5.0</td>\n",
       "      <td>4.0</td>\n",
       "      <td>108.0</td>\n",
       "    </tr>\n",
       "    <tr>\n",
       "      <th>9</th>\n",
       "      <td>7.0</td>\n",
       "      <td>6.0</td>\n",
       "      <td>5.0</td>\n",
       "      <td>109.0</td>\n",
       "    </tr>\n",
       "  </tbody>\n",
       "</table>\n",
       "</div>"
      ],
      "text/plain": [
       "   lag_1  lag_2  lag_3  exog_step_2\n",
       "4    2.0    1.0    0.0        104.0\n",
       "5    3.0    2.0    1.0        105.0\n",
       "6    4.0    3.0    2.0        106.0\n",
       "7    5.0    4.0    3.0        107.0\n",
       "8    6.0    5.0    4.0        108.0\n",
       "9    7.0    6.0    5.0        109.0"
      ]
     },
     "execution_count": 18,
     "metadata": {},
     "output_type": "execute_result"
    }
   ],
   "source": [
    "idx_columns_lags = np.arange(3)\n",
    "idx_columns_exog = np.arange(X_train.shape[1])[3 + 1::2]\n",
    "idx_columns_exog\n",
    "idx_columns = np.hstack((idx_columns_lags, idx_columns_exog))\n",
    "X_train_step = X_train.iloc[:, idx_columns]\n",
    "X_train_step"
   ]
  },
  {
   "cell_type": "code",
   "execution_count": 9,
   "id": "e0471a36",
   "metadata": {},
   "outputs": [
    {
     "data": {
      "text/plain": [
       "4"
      ]
     },
     "execution_count": 9,
     "metadata": {},
     "output_type": "execute_result"
    }
   ],
   "source": [
    "\n",
    "aa = {'a1':3, 'a2':4}\n",
    "max(aa.values())"
   ]
  },
  {
   "cell_type": "code",
   "execution_count": 9,
   "id": "58a5be09",
   "metadata": {},
   "outputs": [
    {
     "data": {
      "text/plain": [
       "{'l1': 3, 'l2': 3}"
      ]
     },
     "execution_count": 9,
     "metadata": {},
     "output_type": "execute_result"
    }
   ],
   "source": [
    "lags = 3\n",
    "multivariate_series = ['l1', 'l2']\n",
    "\n",
    "dict_lags = {serie: lags for serie in multivariate_series}\n",
    "lags = dict_lags\n",
    "\n",
    "lags"
   ]
  },
  {
   "cell_type": "code",
   "execution_count": 12,
   "id": "83653789",
   "metadata": {},
   "outputs": [
    {
     "data": {
      "text/plain": [
       "{'l1': [1, 2, 3], 'l2': [1, 2, 3]}"
      ]
     },
     "execution_count": 12,
     "metadata": {},
     "output_type": "execute_result"
    }
   ],
   "source": [
    "lags = [1, 2, 3]\n",
    "multivariate_series = ['l1', 'l2']\n",
    "\n",
    "lags = {serie: lags for serie in multivariate_series}\n",
    "\n",
    "lags"
   ]
  },
  {
   "cell_type": "code",
   "execution_count": 13,
   "id": "f8053ed8",
   "metadata": {},
   "outputs": [
    {
     "data": {
      "text/plain": [
       "{'l1': [1, 2, 3], 'l2': [1, 2, 3]}"
      ]
     },
     "execution_count": 13,
     "metadata": {},
     "output_type": "execute_result"
    }
   ],
   "source": [
    "lags"
   ]
  },
  {
   "cell_type": "code",
   "execution_count": 14,
   "id": "cd4faf20",
   "metadata": {},
   "outputs": [
    {
     "data": {
      "text/plain": [
       "['l1_lag_1', 'l1_lag_2', 'l1_lag_3', 'l2_lag_1', 'l2_lag_2', 'l2_lag_3']"
      ]
     },
     "execution_count": 14,
     "metadata": {},
     "output_type": "execute_result"
    }
   ],
   "source": [
    "[f\"{key}_lag_{lag}\" for key in lags for lag in lags[key]]"
   ]
  },
  {
   "cell_type": "code",
   "execution_count": 15,
   "id": "b8c03760",
   "metadata": {},
   "outputs": [
    {
     "name": "stdout",
     "output_type": "stream",
     "text": [
      "1\n"
     ]
    }
   ],
   "source": [
    "serie = 'l1'\n",
    "series = ['1', '2', '3']\n",
    "\n",
    "if serie not in series:\n",
    "    print(1)"
   ]
  },
  {
   "cell_type": "markdown",
   "id": "d6b8f5e8",
   "metadata": {},
   "source": [
    "## ForecasterAutoregMultiVariate"
   ]
  },
  {
   "cell_type": "code",
   "execution_count": 5,
   "id": "adce8856",
   "metadata": {},
   "outputs": [],
   "source": [
    "## ForecasterAutoregMultiSeries\n",
    "# ==============================================================================\n",
    "from typing import Union, Dict, List, Tuple, Any, Optional\n",
    "import warnings\n",
    "import logging\n",
    "import sys\n",
    "import inspect\n",
    "import numpy as np\n",
    "import pandas as pd\n",
    "import sklearn\n",
    "import sklearn.pipeline\n",
    "from sklearn.linear_model import LinearRegression\n",
    "from sklearn.base import clone\n",
    "from copy import copy\n",
    "\n",
    "import skforecast\n",
    "from skforecast.ForecasterAutoregMultiVariate import ForecasterAutoregMultiVariate"
   ]
  },
  {
   "cell_type": "code",
   "execution_count": 71,
   "id": "8fe594b8",
   "metadata": {},
   "outputs": [
    {
     "data": {
      "text/plain": [
       "============================= \n",
       "ForecasterAutoregMultiVariate \n",
       "============================= \n",
       "Regressor: LinearRegression() \n",
       "Lags: [1 2 3 4 5] \n",
       "Transformer for series: None \n",
       "Transformer for exog: None \n",
       "Window size: 5 \n",
       "Multivariate series (names): None \n",
       "Maximum steps predicted: 3 \n",
       "Weight function included: False \n",
       "Exogenous included: False \n",
       "Type of exogenous variable: None \n",
       "Exogenous variables names: None \n",
       "Training range: None \n",
       "Training index type: None \n",
       "Training index frequency: None \n",
       "Regressor parameters: {'copy_X': True, 'fit_intercept': True, 'n_jobs': None, 'normalize': 'deprecated', 'positive': False} \n",
       "Creation date: 2022-11-01 14:32:46 \n",
       "Last fit date: None \n",
       "Skforecast version: 0.6.0 \n",
       "Python version: 3.9.13 "
      ]
     },
     "execution_count": 71,
     "metadata": {},
     "output_type": "execute_result"
    }
   ],
   "source": [
    "# Create and fit forecaster\n",
    "# ==============================================================================\n",
    "forecaster = ForecasterAutoregMultiVariate(\n",
    "                 regressor = LinearRegression(),\n",
    "                 level     = 'l1', \n",
    "                 steps     = 3,\n",
    "                 lags      = 5\n",
    "             )\n",
    "\n",
    "forecaster       "
   ]
  },
  {
   "cell_type": "code",
   "execution_count": 73,
   "id": "e59ba273",
   "metadata": {},
   "outputs": [
    {
     "name": "stdout",
     "output_type": "stream",
     "text": [
      "5\n"
     ]
    },
    {
     "data": {
      "text/plain": [
       "(array([[4., 3., 2., 1., 0.],\n",
       "        [5., 4., 3., 2., 1.],\n",
       "        [6., 5., 4., 3., 2.]]),\n",
       " array([[5., 6., 7.],\n",
       "        [6., 7., 8.],\n",
       "        [7., 8., 9.]]))"
      ]
     },
     "execution_count": 73,
     "metadata": {},
     "output_type": "execute_result"
    }
   ],
   "source": [
    "y = pd.Series(np.arange(10), name='l1')\n",
    "forecaster.lags = {'l1': np.array([1, 2, 3, 4, 5])}\n",
    "\n",
    "forecaster._create_lags(y=y, serie='l1')"
   ]
  },
  {
   "cell_type": "code",
   "execution_count": 74,
   "id": "3c909b7c",
   "metadata": {},
   "outputs": [
    {
     "name": "stdout",
     "output_type": "stream",
     "text": [
      "5\n",
      "5\n",
      "[[  4.   3.   2.   1.   0. 104. 103. 102. 101. 100.   5.   6.   7.]\n",
      " [  5.   4.   3.   2.   1. 105. 104. 103. 102. 101.   6.   7.   8.]\n",
      " [  6.   5.   4.   3.   2. 106. 105. 104. 103. 102.   7.   8.   9.]]\n",
      "[[5. 6. 7.]\n",
      " [6. 7. 8.]\n",
      " [7. 8. 9.]]\n"
     ]
    },
    {
     "data": {
      "text/plain": [
       "(   l1_lag_1  l1_lag_2  l1_lag_3  l1_lag_4  l1_lag_5  l2_lag_1  l2_lag_2  \\\n",
       " 7       4.0       3.0       2.0       1.0       0.0     104.0     103.0   \n",
       " 8       5.0       4.0       3.0       2.0       1.0     105.0     104.0   \n",
       " 9       6.0       5.0       4.0       3.0       2.0     106.0     105.0   \n",
       " \n",
       "    l2_lag_3  l2_lag_4  l2_lag_5  exog1_step_1  exog1_step_2  exog1_step_3  \n",
       " 7     102.0     101.0     100.0           5.0           6.0           7.0  \n",
       " 8     103.0     102.0     101.0           6.0           7.0           8.0  \n",
       " 9     104.0     103.0     102.0           7.0           8.0           9.0  ,\n",
       "    l1_step_0  l1_step_1  l1_step_2\n",
       " 7        5.0        6.0        7.0\n",
       " 8        6.0        7.0        8.0\n",
       " 9        7.0        8.0        9.0)"
      ]
     },
     "execution_count": 74,
     "metadata": {},
     "output_type": "execute_result"
    }
   ],
   "source": [
    "forecaster = ForecasterAutoregMultiVariate(\n",
    "                 regressor = LinearRegression(),\n",
    "                 level     = 'l1', \n",
    "                 steps     = 3,\n",
    "                 lags      = 5\n",
    "             )\n",
    "\n",
    "series = pd.DataFrame({'l1' : np.arange(10), \n",
    "                       'l2' : np.arange(100, 110)})\n",
    "\n",
    "exog = pd.Series(np.arange(10), name='exog1')\n",
    "\n",
    "forecaster.create_train_X_y(series=series, exog=exog)"
   ]
  },
  {
   "cell_type": "code",
   "execution_count": 75,
   "id": "0b8bcf21",
   "metadata": {},
   "outputs": [
    {
     "name": "stdout",
     "output_type": "stream",
     "text": [
      "5\n",
      "5\n",
      "[[  4.   3.   2.   1.   0. 104. 103. 102. 101. 100.  25.  26.  27. 205.\n",
      "  206. 207.]\n",
      " [  5.   4.   3.   2.   1. 105. 104. 103. 102. 101.  26.  27.  28. 206.\n",
      "  207. 208.]\n",
      " [  6.   5.   4.   3.   2. 106. 105. 104. 103. 102.  27.  28.  29. 207.\n",
      "  208. 209.]]\n",
      "[[5. 6. 7.]\n",
      " [6. 7. 8.]\n",
      " [7. 8. 9.]]\n"
     ]
    },
    {
     "data": {
      "text/plain": [
       "(   l1_lag_1  l1_lag_2  l1_lag_3  l1_lag_4  l1_lag_5  l2_lag_1  l2_lag_2  \\\n",
       " 7       4.0       3.0       2.0       1.0       0.0     104.0     103.0   \n",
       " 8       5.0       4.0       3.0       2.0       1.0     105.0     104.0   \n",
       " 9       6.0       5.0       4.0       3.0       2.0     106.0     105.0   \n",
       " \n",
       "    l2_lag_3  l2_lag_4  l2_lag_5  exog1_step_1  exog1_step_2  exog1_step_3  \\\n",
       " 7     102.0     101.0     100.0          25.0          26.0          27.0   \n",
       " 8     103.0     102.0     101.0          26.0          27.0          28.0   \n",
       " 9     104.0     103.0     102.0          27.0          28.0          29.0   \n",
       " \n",
       "    exog2_step_1  exog2_step_2  exog2_step_3  \n",
       " 7         205.0         206.0         207.0  \n",
       " 8         206.0         207.0         208.0  \n",
       " 9         207.0         208.0         209.0  ,\n",
       "    l1_step_0  l1_step_1  l1_step_2\n",
       " 7        5.0        6.0        7.0\n",
       " 8        6.0        7.0        8.0\n",
       " 9        7.0        8.0        9.0)"
      ]
     },
     "execution_count": 75,
     "metadata": {},
     "output_type": "execute_result"
    }
   ],
   "source": [
    "forecaster = ForecasterAutoregMultiVariate(\n",
    "                 regressor = LinearRegression(),\n",
    "                 level     = 'l1', \n",
    "                 steps     = 3,\n",
    "                 lags      = 5\n",
    "             )\n",
    "\n",
    "series = pd.DataFrame({'l1' : np.arange(10), \n",
    "                       'l2' : np.arange(100, 110)})\n",
    "\n",
    "exog = pd.DataFrame({'exog1' : np.arange(20, 30), \n",
    "                     'exog2' : np.arange(200, 210)})\n",
    "\n",
    "forecaster.create_train_X_y(series=series, exog=exog)"
   ]
  },
  {
   "cell_type": "code",
   "execution_count": 78,
   "id": "86e7195a",
   "metadata": {},
   "outputs": [
    {
     "name": "stdout",
     "output_type": "stream",
     "text": [
      "[[  5.   4.   3.   2.   1. 105. 104. 103. 102. 101. 100.]\n",
      " [  6.   5.   4.   3.   2. 106. 105. 104. 103. 102. 101.]]\n",
      "[[6. 7. 8.]\n",
      " [7. 8. 9.]]\n"
     ]
    },
    {
     "data": {
      "text/plain": [
       "(   l1_lag_1  l1_lag_2  l1_lag_3  l1_lag_4  l1_lag_5  l2_lag_1  l2_lag_2  \\\n",
       " 8       5.0       4.0       3.0       2.0       1.0     105.0     104.0   \n",
       " 9       6.0       5.0       4.0       3.0       2.0     106.0     105.0   \n",
       " \n",
       "    l2_lag_3  l2_lag_4  l2_lag_5  l2_lag_6  \n",
       " 8     103.0     102.0     101.0     100.0  \n",
       " 9     104.0     103.0     102.0     101.0  ,\n",
       "    l1_step_0  l1_step_1  l1_step_2\n",
       " 8        6.0        7.0        8.0\n",
       " 9        7.0        8.0        9.0)"
      ]
     },
     "execution_count": 78,
     "metadata": {},
     "output_type": "execute_result"
    }
   ],
   "source": [
    "forecaster = ForecasterAutoregMultiVariate(\n",
    "                 regressor = LinearRegression(),\n",
    "                 level     = 'l1', \n",
    "                 steps     = 3,\n",
    "                 lags      = {'l1': 5, 'l2': 6}\n",
    "             )\n",
    "\n",
    "series = pd.DataFrame({'l1' : np.arange(10), \n",
    "                       'l2' : np.arange(100, 110)})\n",
    "\n",
    "forecaster.create_train_X_y(series=series)"
   ]
  },
  {
   "cell_type": "code",
   "execution_count": 79,
   "id": "31dd7e98",
   "metadata": {},
   "outputs": [
    {
     "name": "stdout",
     "output_type": "stream",
     "text": [
      "[[  5.   4.   3.   2.   1. 105. 104. 103. 102. 101. 100.  26.  27.  28.\n",
      "  206. 207. 208.]\n",
      " [  6.   5.   4.   3.   2. 106. 105. 104. 103. 102. 101.  27.  28.  29.\n",
      "  207. 208. 209.]]\n",
      "[[6. 7. 8.]\n",
      " [7. 8. 9.]]\n"
     ]
    },
    {
     "data": {
      "text/plain": [
       "(   l1_lag_1  l1_lag_2  l1_lag_3  l1_lag_4  l1_lag_5  l2_lag_1  l2_lag_2  \\\n",
       " 8       5.0       4.0       3.0       2.0       1.0     105.0     104.0   \n",
       " 9       6.0       5.0       4.0       3.0       2.0     106.0     105.0   \n",
       " \n",
       "    l2_lag_3  l2_lag_4  l2_lag_5  l2_lag_6  exog1_step_1  exog1_step_2  \\\n",
       " 8     103.0     102.0     101.0     100.0          26.0          27.0   \n",
       " 9     104.0     103.0     102.0     101.0          27.0          28.0   \n",
       " \n",
       "    exog1_step_3  exog2_step_1  exog2_step_2  exog2_step_3  \n",
       " 8          28.0         206.0         207.0         208.0  \n",
       " 9          29.0         207.0         208.0         209.0  ,\n",
       "    l1_step_0  l1_step_1  l1_step_2\n",
       " 8        6.0        7.0        8.0\n",
       " 9        7.0        8.0        9.0)"
      ]
     },
     "execution_count": 79,
     "metadata": {},
     "output_type": "execute_result"
    }
   ],
   "source": [
    "forecaster = ForecasterAutoregMultiVariate(\n",
    "                 regressor = LinearRegression(),\n",
    "                 level     = 'l1', \n",
    "                 steps     = 3,\n",
    "                 lags      = {'l1': 5, 'l2': 6}\n",
    "             )\n",
    "\n",
    "series = pd.DataFrame({'l1' : np.arange(10), \n",
    "                       'l2' : np.arange(100, 110)})\n",
    "\n",
    "exog = pd.DataFrame({'exog1' : np.arange(20, 30), \n",
    "                     'exog2' : np.arange(200, 210)})\n",
    "\n",
    "forecaster.create_train_X_y(series=series, exog=exog)"
   ]
  },
  {
   "cell_type": "code",
   "execution_count": null,
   "id": "ca99e065",
   "metadata": {},
   "outputs": [],
   "source": []
  },
  {
   "cell_type": "code",
   "execution_count": null,
   "id": "fc62a1ad",
   "metadata": {},
   "outputs": [],
   "source": []
  },
  {
   "cell_type": "code",
   "execution_count": 8,
   "id": "49247ed4",
   "metadata": {},
   "outputs": [
    {
     "name": "stdout",
     "output_type": "stream",
     "text": [
      "(   lag_1  lag_2  lag_3    1    2\n",
      "0    2.0    1.0    0.0  1.0  0.0\n",
      "1    3.0    2.0    1.0  1.0  0.0\n",
      "2    4.0    3.0    2.0  1.0  0.0\n",
      "3    5.0    4.0    3.0  1.0  0.0\n",
      "4    2.0    1.0    0.0  0.0  1.0\n",
      "5    3.0    2.0    1.0  0.0  1.0\n",
      "6    4.0    3.0    2.0  0.0  1.0\n",
      "7    5.0    4.0    3.0  0.0  1.0, 0    3\n",
      "1    4\n",
      "2    5\n",
      "3    6\n",
      "4    3\n",
      "5    4\n",
      "6    5\n",
      "7    6\n",
      "Name: y, dtype: int32, RangeIndex(start=0, stop=7, step=1), Int64Index([3, 4, 5, 6, 3, 4, 5, 6], dtype='int64'))\n"
     ]
    }
   ],
   "source": [
    "from skforecast.ForecasterAutoregMultiSeries import ForecasterAutoregMultiSeries\n",
    "\n",
    "forecaster = ForecasterAutoregMultiSeries(LinearRegression(), lags=3)\n",
    "series = pd.DataFrame({'1': pd.Series(np.arange(7)), \n",
    "                       '2': pd.Series(np.arange(7))\n",
    "                       })\n",
    "\n",
    "results = forecaster.create_train_X_y(series=series)\n",
    "print(results)\n",
    "expected = (pd.DataFrame(\n",
    "                data = np.array([[2.0, 1.0, 0.0, 1., 0.],\n",
    "                                    [3.0, 2.0, 1.0, 1., 0.],\n",
    "                                    [4.0, 3.0, 2.0, 1., 0.],\n",
    "                                    [5.0, 4.0, 3.0, 1., 0.],\n",
    "                                    [2.0, 1.0, 0.0, 0., 1.],\n",
    "                                    [3.0, 2.0, 1.0, 0., 1.],\n",
    "                                    [4.0, 3.0, 2.0, 0., 1.],\n",
    "                                    [5.0, 4.0, 3.0, 0., 1.]]),\n",
    "                index   = np.array([0, 1, 2, 3, 4, 5, 6, 7]),\n",
    "                columns = ['lag_1', 'lag_2', 'lag_3', '1', '2']\n",
    "            ),\n",
    "            pd.Series(\n",
    "                np.array([3., 4., 5., 6., 3., 4., 5., 6.]),\n",
    "                index = np.array([0, 1, 2, 3, 4, 5, 6, 7]),\n",
    "                name = 'y'\n",
    "            ),\n",
    "            pd.RangeIndex(start=0, stop =len(series), step=1\n",
    "            ),\n",
    "            pd.Index(np.array([3, 4, 5, 6, 3, 4, 5, 6])\n",
    "            )\n",
    "            )\n",
    "\n",
    "pd.testing.assert_frame_equal(results[0], expected[0])\n",
    "assert (results[1] == expected[1]).all()\n",
    "assert (results[2] == expected[2]).all()\n",
    "assert (results[3] == expected[3]).all()"
   ]
  },
  {
   "cell_type": "code",
   "execution_count": 35,
   "id": "6dd38f01",
   "metadata": {},
   "outputs": [
    {
     "data": {
      "text/plain": [
       "Int64Index([3, 3, 4, 4, 5, 5, 6, 6], dtype='int64')"
      ]
     },
     "execution_count": 35,
     "metadata": {},
     "output_type": "execute_result"
    }
   ],
   "source": [
    "pd.Index(np.repeat(\n",
    "                            pd.RangeIndex(start=0, stop=len(series), step=1)[forecaster.max_lag: ].values,\n",
    "                            repeats = len(list(series.columns))\n",
    "                    ))"
   ]
  },
  {
   "cell_type": "code",
   "execution_count": 36,
   "id": "6dde49d4",
   "metadata": {},
   "outputs": [
    {
     "data": {
      "text/plain": [
       "Int64Index([3, 4, 5, 6, 3, 4, 5, 6], dtype='int64')"
      ]
     },
     "execution_count": 36,
     "metadata": {},
     "output_type": "execute_result"
    }
   ],
   "source": [
    "pd.Index(list(pd.RangeIndex(start=0, stop=len(series), step=1)[forecaster.max_lag: ].values)*len(list(series.columns))\n",
    "                    )"
   ]
  },
  {
   "cell_type": "code",
   "execution_count": 33,
   "id": "953d8508",
   "metadata": {},
   "outputs": [
    {
     "data": {
      "text/plain": [
       "DatetimeIndex(['1990-01-01', '1990-01-02', '1990-01-03', '1990-01-01',\n",
       "               '1990-01-02', '1990-01-03'],\n",
       "              dtype='datetime64[ns]', freq=None)"
      ]
     },
     "execution_count": 33,
     "metadata": {},
     "output_type": "execute_result"
    }
   ],
   "source": [
    "pd.Index(list(pd.DatetimeIndex(['1990-01-01', '1990-01-02', '1990-01-03'], dtype='datetime64[ns]', freq='D').values)*len(list(series.columns)))\n"
   ]
  },
  {
   "cell_type": "code",
   "execution_count": 7,
   "id": "40397723",
   "metadata": {},
   "outputs": [
    {
     "data": {
      "text/plain": [
       "DatetimeIndex(['1990-01-01', '1990-01-02', '1990-01-03', '1990-01-01',\n",
       "               '1990-01-02', '1990-01-03'],\n",
       "              dtype='datetime64[ns]', freq=None)"
      ]
     },
     "execution_count": 7,
     "metadata": {},
     "output_type": "execute_result"
    }
   ],
   "source": [
    "pd.Index(\n",
    "                            np.tile(\n",
    "                                pd.DatetimeIndex(['1990-01-01', '1990-01-02', '1990-01-03'], dtype='datetime64[ns]', freq='D').values,\n",
    "                                reps = 2\n",
    "                            )\n",
    "                        )"
   ]
  },
  {
   "cell_type": "code",
   "execution_count": 9,
   "id": "6b08a7b1",
   "metadata": {},
   "outputs": [
    {
     "data": {
      "text/plain": [
       "DatetimeIndex(['1990-01-01', '1990-01-02', '1990-01-03', '1990-01-01',\n",
       "               '1990-01-02', '1990-01-03'],\n",
       "              dtype='datetime64[ns]', freq=None)"
      ]
     },
     "execution_count": 9,
     "metadata": {},
     "output_type": "execute_result"
    }
   ],
   "source": [
    "pd.DatetimeIndex(['1990-01-01', '1990-01-02', '1990-01-03', '1990-01-01', '1990-01-02', '1990-01-03'])"
   ]
  },
  {
   "cell_type": "code",
   "execution_count": 26,
   "id": "6f9565b2",
   "metadata": {},
   "outputs": [
    {
     "data": {
      "text/plain": [
       "array(['1990-01-01T00:00:00.000000000', '1990-01-02T00:00:00.000000000',\n",
       "       '1990-01-03T00:00:00.000000000'], dtype='datetime64[ns]')"
      ]
     },
     "execution_count": 26,
     "metadata": {},
     "output_type": "execute_result"
    }
   ],
   "source": [
    "pd.DatetimeIndex(['1990-01-01', '1990-01-02', '1990-01-03'], dtype='datetime64[ns]', freq='D').values"
   ]
  },
  {
   "cell_type": "code",
   "execution_count": 10,
   "id": "e73612ed",
   "metadata": {},
   "outputs": [
    {
     "data": {
      "text/plain": [
       "DatetimeIndex(['1990-01-01', '1990-01-02', '1990-01-03'], dtype='datetime64[ns]', freq='D')"
      ]
     },
     "execution_count": 10,
     "metadata": {},
     "output_type": "execute_result"
    }
   ],
   "source": [
    "aa = pd.DatetimeIndex(['1990-01-01', '1990-01-02', '1990-01-03'], dtype='datetime64[ns]', freq='D')\n",
    "aa"
   ]
  },
  {
   "cell_type": "code",
   "execution_count": 16,
   "id": "2b1c6000",
   "metadata": {},
   "outputs": [],
   "source": [
    "\n",
    "forecaster = ForecasterAutoregMultiSeries(LinearRegression(), lags=3)\n",
    "series = pd.DataFrame({'1': (np.arange(7)), \n",
    "                        '2': (np.arange(7))},\n",
    "                        index = pd.date_range(\"1990-01-01\", periods=7, freq='D')\n",
    "                        )\n",
    "\n",
    "results = forecaster.create_train_X_y(\n",
    "                        series = series,\n",
    "                        exog = pd.DataFrame(\n",
    "                                    {'exog_1' : np.arange(100, 107),\n",
    "                                    'exog_2' : np.arange(1000, 1007)},\n",
    "                                    index = pd.date_range(\"1990-01-01\", periods=7, freq='D')\n",
    "                                )           \n",
    "            )\n",
    "\n",
    "expected = (pd.DataFrame(\n",
    "                data = np.array([[2.0, 1.0, 0.0, 103., 1003., 1., 0.],\n",
    "                                    [3.0, 2.0, 1.0, 104., 1004., 1., 0.],\n",
    "                                    [4.0, 3.0, 2.0, 105., 1005., 1., 0.],\n",
    "                                    [5.0, 4.0, 3.0, 106., 1006., 1., 0.],\n",
    "                                    [2.0, 1.0, 0.0, 103., 1003., 0., 1.],\n",
    "                                    [3.0, 2.0, 1.0, 104., 1004., 0., 1.],\n",
    "                                    [4.0, 3.0, 2.0, 105., 1005., 0., 1.],\n",
    "                                    [5.0, 4.0, 3.0, 106., 1006., 0., 1.]]),\n",
    "                index   = np.array([0, 1, 2, 3, 4, 5, 6, 7]),\n",
    "                columns = ['lag_1', 'lag_2', 'lag_3', 'exog_1', 'exog_2', '1', '2']\n",
    "            ),\n",
    "            pd.Series(\n",
    "                data = np.array([3., 4., 5., 6., 3., 4., 5., 6.]),\n",
    "                index = np.array([0, 1, 2, 3, 4, 5, 6, 7]),\n",
    "                name = 'y'),\n",
    "            pd.date_range(\"1990-01-01\", periods=7, freq='D'\n",
    "            ),\n",
    "            pd.Index(pd.DatetimeIndex(['1990-01-04', '1990-01-05', '1990-01-06', '1990-01-07', \n",
    "                                        '1990-01-04', '1990-01-05', '1990-01-06', '1990-01-07'])\n",
    "            )\n",
    "            )\n",
    "\n",
    "for i in range(len(expected)):\n",
    "    if isinstance(expected[i], pd.DataFrame):\n",
    "        pd.testing.assert_frame_equal(results[i], expected[i])\n",
    "    else:\n",
    "        assert (results[i] == expected[i]).all()"
   ]
  },
  {
   "cell_type": "code",
   "execution_count": 14,
   "id": "ec940a0c",
   "metadata": {},
   "outputs": [
    {
     "data": {
      "text/html": [
       "<div>\n",
       "<style scoped>\n",
       "    .dataframe tbody tr th:only-of-type {\n",
       "        vertical-align: middle;\n",
       "    }\n",
       "\n",
       "    .dataframe tbody tr th {\n",
       "        vertical-align: top;\n",
       "    }\n",
       "\n",
       "    .dataframe thead th {\n",
       "        text-align: right;\n",
       "    }\n",
       "</style>\n",
       "<table border=\"1\" class=\"dataframe\">\n",
       "  <thead>\n",
       "    <tr style=\"text-align: right;\">\n",
       "      <th></th>\n",
       "      <th>1</th>\n",
       "      <th>2</th>\n",
       "    </tr>\n",
       "  </thead>\n",
       "  <tbody>\n",
       "    <tr>\n",
       "      <th>1990-01-01</th>\n",
       "      <td>0</td>\n",
       "      <td>0</td>\n",
       "    </tr>\n",
       "    <tr>\n",
       "      <th>1990-01-02</th>\n",
       "      <td>1</td>\n",
       "      <td>1</td>\n",
       "    </tr>\n",
       "    <tr>\n",
       "      <th>1990-01-03</th>\n",
       "      <td>2</td>\n",
       "      <td>2</td>\n",
       "    </tr>\n",
       "    <tr>\n",
       "      <th>1990-01-04</th>\n",
       "      <td>3</td>\n",
       "      <td>3</td>\n",
       "    </tr>\n",
       "    <tr>\n",
       "      <th>1990-01-05</th>\n",
       "      <td>4</td>\n",
       "      <td>4</td>\n",
       "    </tr>\n",
       "    <tr>\n",
       "      <th>1990-01-06</th>\n",
       "      <td>5</td>\n",
       "      <td>5</td>\n",
       "    </tr>\n",
       "    <tr>\n",
       "      <th>1990-01-07</th>\n",
       "      <td>6</td>\n",
       "      <td>6</td>\n",
       "    </tr>\n",
       "  </tbody>\n",
       "</table>\n",
       "</div>"
      ],
      "text/plain": [
       "            1  2\n",
       "1990-01-01  0  0\n",
       "1990-01-02  1  1\n",
       "1990-01-03  2  2\n",
       "1990-01-04  3  3\n",
       "1990-01-05  4  4\n",
       "1990-01-06  5  5\n",
       "1990-01-07  6  6"
      ]
     },
     "execution_count": 14,
     "metadata": {},
     "output_type": "execute_result"
    }
   ],
   "source": [
    "pd.DataFrame(data={'1': np.arange(7), \n",
    "                           '2':np.arange(7)},\n",
    "                           index = pd.date_range(\"1990-01-01\", periods=7, freq='D')\n",
    "                          )"
   ]
  },
  {
   "cell_type": "code",
   "execution_count": null,
   "id": "0e3870f7",
   "metadata": {},
   "outputs": [],
   "source": []
  },
  {
   "cell_type": "code",
   "execution_count": null,
   "id": "2f6d6383",
   "metadata": {},
   "outputs": [],
   "source": []
  }
 ],
 "metadata": {
  "kernelspec": {
   "display_name": "Python 3.9.13 ('skforecast')",
   "language": "python",
   "name": "python3"
  },
  "language_info": {
   "codemirror_mode": {
    "name": "ipython",
    "version": 3
   },
   "file_extension": ".py",
   "mimetype": "text/x-python",
   "name": "python",
   "nbconvert_exporter": "python",
   "pygments_lexer": "ipython3",
   "version": "3.9.13"
  },
  "toc": {
   "base_numbering": 1,
   "nav_menu": {},
   "number_sections": true,
   "sideBar": true,
   "skip_h1_title": false,
   "title_cell": "Table of Contents",
   "title_sidebar": "Contents",
   "toc_cell": false,
   "toc_position": {
    "height": "calc(100% - 180px)",
    "left": "10px",
    "top": "150px",
    "width": "175.594px"
   },
   "toc_section_display": true,
   "toc_window_display": true
  },
  "varInspector": {
   "cols": {
    "lenName": 16,
    "lenType": 16,
    "lenVar": 40
   },
   "kernels_config": {
    "python": {
     "delete_cmd_postfix": "",
     "delete_cmd_prefix": "del ",
     "library": "var_list.py",
     "varRefreshCmd": "print(var_dic_list())"
    },
    "r": {
     "delete_cmd_postfix": ") ",
     "delete_cmd_prefix": "rm(",
     "library": "var_list.r",
     "varRefreshCmd": "cat(var_dic_list()) "
    }
   },
   "types_to_exclude": [
    "module",
    "function",
    "builtin_function_or_method",
    "instance",
    "_Feature"
   ],
   "window_display": false
  },
  "vscode": {
   "interpreter": {
    "hash": "6ffed84beb63baa96f7d22d816ccf3255c078420a09b57d1f48b4641bbf1489e"
   }
  }
 },
 "nbformat": 4,
 "nbformat_minor": 5
}
