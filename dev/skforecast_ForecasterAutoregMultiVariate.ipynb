{
 "cells": [
  {
   "cell_type": "code",
   "execution_count": 1,
   "id": "df7c8824",
   "metadata": {
    "ExecuteTime": {
     "end_time": "2022-07-08T15:53:35.028706Z",
     "start_time": "2022-07-08T15:53:34.980669Z"
    }
   },
   "outputs": [],
   "source": [
    "%load_ext autoreload\n",
    "%autoreload 2\n",
    "import sys\n",
    "from pathlib import Path\n",
    "sys.path.insert(1, str(Path.cwd().parent))\n",
    "%config Completer.use_jedi = False"
   ]
  },
  {
   "cell_type": "code",
   "execution_count": 2,
   "id": "33a49d05",
   "metadata": {
    "ExecuteTime": {
     "end_time": "2022-07-08T15:28:40.437598Z",
     "start_time": "2022-07-08T15:28:40.417718Z"
    }
   },
   "outputs": [
    {
     "data": {
      "text/plain": [
       "WindowsPath('c:/Users/jaesc2/GitHub/skforecast')"
      ]
     },
     "execution_count": 2,
     "metadata": {},
     "output_type": "execute_result"
    }
   ],
   "source": [
    "import sys\n",
    "from pathlib import Path\n",
    "(Path.cwd().parent)"
   ]
  },
  {
   "cell_type": "code",
   "execution_count": 3,
   "id": "71dd3842",
   "metadata": {
    "ExecuteTime": {
     "end_time": "2022-07-08T15:28:41.404349Z",
     "start_time": "2022-07-08T15:28:41.395375Z"
    }
   },
   "outputs": [
    {
     "data": {
      "text/plain": [
       "'c:\\\\Users\\\\jaesc2\\\\GitHub'"
      ]
     },
     "execution_count": 3,
     "metadata": {},
     "output_type": "execute_result"
    }
   ],
   "source": [
    "str(Path.cwd().parent.parent)"
   ]
  },
  {
   "cell_type": "markdown",
   "id": "b6f9a85a",
   "metadata": {},
   "source": [
    "## Librerias"
   ]
  },
  {
   "cell_type": "code",
   "execution_count": 3,
   "id": "738fd9e7",
   "metadata": {
    "ExecuteTime": {
     "end_time": "2022-07-08T15:53:36.676416Z",
     "start_time": "2022-07-08T15:53:36.156473Z"
    }
   },
   "outputs": [],
   "source": [
    "## ForecasterAutoregMultiSeries\n",
    "# ==============================================================================\n",
    "from typing import Union, Dict, List, Tuple, Any, Optional\n",
    "import warnings\n",
    "import logging\n",
    "import sys\n",
    "import inspect\n",
    "import numpy as np\n",
    "import pandas as pd\n",
    "import sklearn\n",
    "import sklearn.pipeline\n",
    "from sklearn.base import clone\n",
    "from copy import copy\n",
    "\n",
    "import skforecast\n",
    "from skforecast.ForecasterBase import ForecasterBase\n",
    "from skforecast.utils import check_y\n",
    "from skforecast.utils import check_exog\n",
    "from skforecast.utils import preprocess_y\n",
    "from skforecast.utils import preprocess_last_window\n",
    "from skforecast.utils import preprocess_exog\n",
    "from skforecast.utils import expand_index\n",
    "from skforecast.utils import check_predict_input\n",
    "from skforecast.utils import transform_series\n",
    "from skforecast.utils import transform_dataframe"
   ]
  },
  {
   "cell_type": "markdown",
   "id": "bd755b2d",
   "metadata": {},
   "source": [
    "## Create_train_X_y"
   ]
  },
  {
   "cell_type": "code",
   "execution_count": 7,
   "id": "16033119",
   "metadata": {},
   "outputs": [],
   "source": [
    "class dummy_forecaster():\n",
    "    \n",
    "    def __init__(\n",
    "        self,\n",
    "        regressor,\n",
    "        lags: Union[int, np.ndarray, list],\n",
    "        transformer_series: Optional[object]=None,\n",
    "        transformer_exog: Optional[object]=None,\n",
    "        series_weights: Optional[dict]=None\n",
    "    ) -> None:\n",
    "        \n",
    "        self.regressor            = regressor\n",
    "        self.transformer_series   = transformer_series\n",
    "        self.transformer_exog     = transformer_exog\n",
    "        self.series_weights       = series_weights\n",
    "        self.index_type           = None\n",
    "        self.index_freq           = None\n",
    "        self.index_values         = None\n",
    "        self.training_range       = None\n",
    "        self.last_window          = None\n",
    "        self.included_exog        = False\n",
    "        self.exog_type            = None\n",
    "        self.exog_col_names       = None\n",
    "        self.series_levels        = None\n",
    "        self.X_train_col_names    = None\n",
    "        self.in_sample_residuals  = None\n",
    "        self.out_sample_residuals = None\n",
    "        self.fitted               = False\n",
    "        self.creation_date        = pd.Timestamp.today().strftime('%Y-%m-%d %H:%M:%S')\n",
    "        self.fit_date             = None\n",
    "        self.skforcast_version    = skforecast.__version__\n",
    "        self.python_version       = sys.version.split(\" \")[0]\n",
    "        \n",
    "        if isinstance(lags, int) and lags < 1:\n",
    "            raise ValueError('Minimum value of lags allowed is 1.')\n",
    "\n",
    "        if isinstance(lags, (list, np.ndarray)):\n",
    "            for lag in lags:\n",
    "                if not isinstance(lag, (int, np.int64, np.int32)):\n",
    "                    raise TypeError('All values in `lags` must be int.')\n",
    "            \n",
    "        if isinstance(lags, (list, range, np.ndarray)) and min(lags) < 1:\n",
    "            raise ValueError('Minimum value of lags allowed is 1.')\n",
    "            \n",
    "        if isinstance(lags, int):\n",
    "            self.lags = np.arange(lags) + 1\n",
    "        elif isinstance(lags, (list, range)):\n",
    "            self.lags = np.array(lags)\n",
    "        elif isinstance(lags, np.ndarray):\n",
    "            self.lags = lags\n",
    "        else:\n",
    "            raise TypeError(\n",
    "                '`lags` argument must be int, 1d numpy ndarray, range or list. '\n",
    "                f\"Got {type(lags)}\"\n",
    "            )\n",
    "\n",
    "        if series_weights is not None:\n",
    "            if 'sample_weight' not in inspect.getfullargspec(self.regressor.fit)[0]:\n",
    "                warnings.warm(\n",
    "                    f\"\"\"\n",
    "                    Argument `series_weights` is ignored since regressor {self.regressor}\n",
    "                    does not accept `sample_weight` in its `fit` method.\n",
    "                    \"\"\"\n",
    "                )\n",
    "                self.series_weights = None\n",
    "            \n",
    "        self.max_lag = max(self.lags)\n",
    "        self.window_size = self.max_lag\n",
    "\n",
    "\n",
    "    def __repr__(\n",
    "        self\n",
    "    ) -> str:\n",
    "        \"\"\"\n",
    "        Information displayed when a ForecasterAutoregMultiSeries object is printed.\n",
    "        \"\"\"\n",
    "\n",
    "        if isinstance(self.regressor, sklearn.pipeline.Pipeline):\n",
    "            name_pipe_steps = tuple(name + \"__\" for name in self.regressor.named_steps.keys())\n",
    "            params = {key : value for key, value in self.regressor.get_params().items() \\\n",
    "                     if key.startswith(name_pipe_steps)}\n",
    "        else:\n",
    "            params = self.regressor.get_params()\n",
    "\n",
    "        info = (\n",
    "            f\"{'=' * len(str(type(self)).split('.')[1])} \\n\"\n",
    "            f\"{str(type(self)).split('.')[1]} \\n\"\n",
    "            f\"{'=' * len(str(type(self)).split('.')[1])} \\n\"\n",
    "            f\"Regressor: {self.regressor} \\n\"\n",
    "            f\"Lags: {self.lags} \\n\"\n",
    "            f\"Transformer for series: {self.transformer_series} \\n\"\n",
    "            f\"Transformer for exog: {self.transformer_exog} \\n\"\n",
    "            f\"Window size: {self.window_size} \\n\"\n",
    "            f\"Series levels (names): {self.series_levels} \\n\"\n",
    "            f\"Series weights: {self.series_weights} \\n\"\n",
    "            f\"Included exogenous: {self.included_exog} \\n\"\n",
    "            f\"Type of exogenous variable: {self.exog_type} \\n\"\n",
    "            f\"Exogenous variables names: {self.exog_col_names} \\n\"\n",
    "            f\"Training range: {self.training_range.to_list() if self.fitted else None} \\n\"\n",
    "            f\"Training index type: {str(self.index_type).split('.')[-1][:-2] if self.fitted else None} \\n\"\n",
    "            f\"Training index frequency: {self.index_freq if self.fitted else None} \\n\"\n",
    "            f\"Regressor parameters: {params} \\n\"\n",
    "            f\"Creation date: {self.creation_date} \\n\"\n",
    "            f\"Last fit date: {self.fit_date} \\n\"\n",
    "            f\"Skforecast version: {self.skforcast_version} \\n\"\n",
    "            f\"Python version: {self.python_version} \\n\"\n",
    "        )\n",
    "\n",
    "        return info\n"
   ]
  },
  {
   "cell_type": "code",
   "execution_count": 8,
   "id": "60fc6279",
   "metadata": {},
   "outputs": [],
   "source": [
    "forecaster = dummy_forecaster(\n",
    "                 regressor = 'dummy',\n",
    "                 lags = 5\n",
    "             )"
   ]
  },
  {
   "cell_type": "code",
   "execution_count": 9,
   "id": "c94e1137",
   "metadata": {},
   "outputs": [
    {
     "data": {
      "text/plain": [
       "array([1, 2, 3, 4, 5])"
      ]
     },
     "execution_count": 9,
     "metadata": {},
     "output_type": "execute_result"
    }
   ],
   "source": [
    "forecaster.lags"
   ]
  },
  {
   "cell_type": "code",
   "execution_count": 10,
   "id": "a0b915eb",
   "metadata": {},
   "outputs": [
    {
     "data": {
      "text/plain": [
       "5"
      ]
     },
     "execution_count": 10,
     "metadata": {},
     "output_type": "execute_result"
    }
   ],
   "source": [
    "forecaster.max_lag"
   ]
  },
  {
   "cell_type": "code",
   "execution_count": 11,
   "id": "0c648026",
   "metadata": {},
   "outputs": [],
   "source": [
    "def _create_lags(\n",
    "    self, \n",
    "    y: np.ndarray\n",
    ") -> Tuple[np.ndarray, np.ndarray]:\n",
    "        \n",
    "    n_splits = len(y) - self.max_lag\n",
    "    if n_splits <= 0:\n",
    "        raise ValueError(\n",
    "            f'The maximum lag ({self.max_lag}) must be less than the length '\n",
    "            f'of the series ({len(y)}).'\n",
    "        )\n",
    "    \n",
    "    X_data = np.full(shape=(n_splits, len(self.lags)), fill_value=np.nan, dtype=float)\n",
    "\n",
    "    for i, lag in enumerate(self.lags):\n",
    "        X_data[:, i] = y[self.max_lag - lag: -lag]\n",
    "\n",
    "    y_data = y[self.max_lag:]\n",
    "        \n",
    "    return X_data, y_data"
   ]
  },
  {
   "cell_type": "code",
   "execution_count": 16,
   "id": "88c6cf36",
   "metadata": {},
   "outputs": [
    {
     "data": {
      "text/plain": [
       "(array([[4., 3., 2., 1., 0.],\n",
       "        [5., 4., 3., 2., 1.],\n",
       "        [6., 5., 4., 3., 2.],\n",
       "        [7., 6., 5., 4., 3.],\n",
       "        [8., 7., 6., 5., 4.]]),\n",
       " array([5, 6, 7, 8, 9]))"
      ]
     },
     "execution_count": 16,
     "metadata": {},
     "output_type": "execute_result"
    }
   ],
   "source": [
    "_create_lags(forecaster, np.array(list(range(10))))"
   ]
  },
  {
   "cell_type": "code",
   "execution_count": 13,
   "id": "b5fca5f8",
   "metadata": {},
   "outputs": [],
   "source": [
    "def create_train_X_y(\n",
    "    self,\n",
    "    series: pd.DataFrame,\n",
    "    exog: Optional[Union[pd.Series, pd.DataFrame]]=None\n",
    ") -> Tuple[pd.DataFrame, pd.Series]:\n",
    "\n",
    "    if not isinstance(series, pd.DataFrame):\n",
    "        raise TypeError(f'`series` must be a pandas DataFrame. Got {type(series)}.')\n",
    "\n",
    "    series_levels = list(series.columns)\n",
    "\n",
    "    if self.transformer_series is None:\n",
    "        dict_transformers = {level: None for level in series_levels}\n",
    "        self.transformer_series = dict_transformers\n",
    "    elif not isinstance(self.transformer_series, dict):\n",
    "        dict_transformers = {level: clone(self.transformer_series) \n",
    "                                for level in series_levels}\n",
    "        self.transformer_series = dict_transformers\n",
    "    else:\n",
    "        if list(self.transformer_series.keys()) != series_levels:\n",
    "            raise ValueError(\n",
    "                (f'When `transformer_series` parameter is a `dict`, its keys '\n",
    "                    f'must be the same as `series_levels` : {series_levels}.')\n",
    "            )\n",
    "    \n",
    "    X_train_col_names = [f\"{level}_lag_{lag}\" for level in series_levels for lag in self.lags]\n",
    "\n",
    "    for i, serie in enumerate(series.columns):\n",
    "\n",
    "        y = series[serie]\n",
    "        check_y(y=y)\n",
    "        y = transform_series(\n",
    "                series            = y,\n",
    "                transformer       = self.transformer_series[serie],\n",
    "                fit               = True,\n",
    "                inverse_transform = False\n",
    "            )\n",
    "        y_values, y_index = preprocess_y(y=y)\n",
    "        X_train_values, y_train_values = self._create_lags(y=y_values)\n",
    "\n",
    "        if i == 0:\n",
    "            X_train = X_train_values\n",
    "            y_train = y_train_values\n",
    "        else:\n",
    "            X_train = np.hstack((X_train, X_train_values))\n",
    "            y_train = np.append(y_train, y_train_values)\n",
    "\n",
    "    if exog is not None:\n",
    "        if len(exog) != len(series):\n",
    "            raise ValueError(\n",
    "                f'`exog` must have same number of samples as `series`. '\n",
    "                f'length `exog`: ({len(exog)}), length `series`: ({len(series)})'\n",
    "            )\n",
    "        check_exog(exog=exog)\n",
    "        if isinstance(exog, pd.Series):\n",
    "            exog = transform_series(\n",
    "                        series            = exog,\n",
    "                        transformer       = self.transformer_exog,\n",
    "                        fit               = True,\n",
    "                        inverse_transform = False\n",
    "                    )\n",
    "        else:\n",
    "            exog = transform_dataframe(\n",
    "                        df                = exog,\n",
    "                        transformer       = self.transformer_exog,\n",
    "                        fit               = True,\n",
    "                        inverse_transform = False\n",
    "                    )\n",
    "        exog_values, exog_index = preprocess_exog(exog=exog)\n",
    "        if not (exog_index[:len(y_index)] == y_index).all():\n",
    "            raise ValueError(\n",
    "                ('Different index for `series` and `exog`. They must be equal '\n",
    "                    'to ensure the correct alignment of values.')      \n",
    "            )\n",
    "        col_names_exog = exog.columns if isinstance(exog, pd.DataFrame) else [exog.name]\n",
    "        X_train_col_names.extend(col_names_exog)\n",
    "\n",
    "        # The first `self.max_lag` positions have to be removed from exog\n",
    "        # since they are not in X_train. Then exog is cloned as many times\n",
    "        # as series.\n",
    "        if exog_values.ndim == 1:\n",
    "            X_train = np.column_stack((\n",
    "                        X_train,\n",
    "                        np.tile(exog_values[self.max_lag:, ], series.shape[1])\n",
    "                        )) \n",
    "\n",
    "        else:\n",
    "            X_train = np.column_stack((\n",
    "                        X_train,\n",
    "                        np.tile(exog_values[self.max_lag:, ], [series.shape[1], 1])\n",
    "                        ))\n",
    "\n",
    "    X_levels = pd.Series(X_levels)\n",
    "    X_levels = pd.get_dummies(X_levels, dtype=float)\n",
    "    X_train_col_names.extend(X_levels.columns)\n",
    "    X_train = np.column_stack((X_train, X_levels.values))\n",
    "\n",
    "    X_train = pd.DataFrame(\n",
    "                data    = X_train,\n",
    "                columns = X_train_col_names\n",
    "            )\n",
    "\n",
    "    y_train = pd.Series(\n",
    "                data  = y_train,\n",
    "                name  = 'y'\n",
    "            )\n",
    "    \n",
    "    self.X_train_col_names = X_train_col_names\n",
    "\n",
    "    return X_train, y_train, y_index"
   ]
  },
  {
   "cell_type": "code",
   "execution_count": 35,
   "id": "1bee2295",
   "metadata": {},
   "outputs": [
    {
     "data": {
      "text/plain": [
       "array([[  0,   0, 100, 100],\n",
       "       [  1,   1, 101, 101],\n",
       "       [  2,   2, 102, 102],\n",
       "       [  3,   3, 103, 103],\n",
       "       [  4,   4, 104, 104]])"
      ]
     },
     "execution_count": 35,
     "metadata": {},
     "output_type": "execute_result"
    }
   ],
   "source": [
    "series_1 = pd.DataFrame({'1': pd.Series(np.arange(5)),  \n",
    "                         '2': pd.Series(np.arange(5))\n",
    "                        })\n",
    "\n",
    "series_2 = pd.DataFrame({'1': pd.Series(np.arange(100, 105)),  \n",
    "                         '2': pd.Series(np.arange(100, 105))\n",
    "                        })\n",
    "\n",
    "X_train = np.hstack((series_1.values, series_2.values))\n",
    "X_train"
   ]
  },
  {
   "cell_type": "code",
   "execution_count": 38,
   "id": "f7a0e159",
   "metadata": {},
   "outputs": [
    {
     "data": {
      "text/plain": [
       "['l1_lag_1', 'l1_lag_2', 'l1_lag_3', 'l2_lag_1', 'l2_lag_2', 'l2_lag_3']"
      ]
     },
     "execution_count": 38,
     "metadata": {},
     "output_type": "execute_result"
    }
   ],
   "source": [
    "lags = np.array([1,2,3])\n",
    "levels = ['l1', 'l2']\n",
    "\n",
    "[f\"{level}_lag_{lag}\" for level in levels for lag in lags]"
   ]
  },
  {
   "cell_type": "markdown",
   "id": "1ffbbe03",
   "metadata": {},
   "source": [
    "## Init"
   ]
  },
  {
   "cell_type": "code",
   "execution_count": 8,
   "id": "bd81b45b",
   "metadata": {},
   "outputs": [],
   "source": [
    "class ForecasterAutoregMultiVariate(ForecasterBase):\n",
    "        \n",
    "    def __init__(\n",
    "        self,\n",
    "        regressor: dict[str, object],\n",
    "        lags: dict[str, Union[int, np.ndarray, list]],\n",
    "        transformer_series: Optional[Union[object, dict[str, object]]]=None,\n",
    "        transformer_exog: Optional[Union[object, dict[str, object]]]=None,\n",
    "        series_weights: Optional[dict[str, float]]=None,\n",
    "        weight_func: Optional[Union[callable, dict[str, callable]]]=None\n",
    "    ) -> None:\n",
    "        \n",
    "        self.regressor               = regressor\n",
    "        self.transformer_series      = transformer_series\n",
    "        self.transformer_exog        = transformer_exog\n",
    "        self.series_weights          = series_weights\n",
    "        self.weight_func             = weight_func\n",
    "        self.source_code_weight_func = None\n",
    "        self.index_type              = None\n",
    "        self.index_freq              = None\n",
    "        self.index_values            = None\n",
    "        self.training_range          = None\n",
    "        self.last_window             = None\n",
    "        self.included_exog           = False\n",
    "        self.exog_type               = None\n",
    "        self.exog_col_names          = None\n",
    "        self.series_levels           = None\n",
    "        self.X_train_col_names       = None\n",
    "        self.in_sample_residuals     = None\n",
    "        self.out_sample_residuals    = None\n",
    "        self.fitted                  = False\n",
    "        self.creation_date           = pd.Timestamp.today().strftime('%Y-%m-%d %H:%M:%S')\n",
    "        self.fit_date                = None\n",
    "        self.skforcast_version       = skforecast.__version__\n",
    "        self.python_version          = sys.version.split(\" \")[0]\n",
    "        \n",
    "        if not isinstance(self.regressor, dict):\n",
    "            raise TypeError(\n",
    "                ('The `regressor` argument must be a `dict` containing the levels of '\n",
    "                 'the forecaster (column names of the series) as keys and the '\n",
    "                 'corresponding regressor for each level. {level (str) : regressor}.')\n",
    "            )\n",
    "\n",
    "        for key in self.regressor:\n",
    "            if not isinstance(key, str):\n",
    "                raise TypeError(\n",
    "                    f\"All regressor dict keys must be a string.\\n\"\n",
    "                    f\"    Key {key} is a {type(key)}\"\n",
    "                )\n",
    "\n",
    "        # Next crear lags dict, si es un dict comprobar que coinciden las keys\n",
    "\n",
    "        if isinstance(lags, int) and lags < 1:\n",
    "            raise ValueError('Minimum value of lags allowed is 1.')\n",
    "\n",
    "        if isinstance(lags, (list, np.ndarray)):\n",
    "            for lag in lags:\n",
    "                if not isinstance(lag, (int, np.int64, np.int32)):\n",
    "                    raise TypeError('All values in `lags` must be int.')\n",
    "            \n",
    "        if isinstance(lags, (list, range, np.ndarray)) and min(lags) < 1:\n",
    "            raise ValueError('Minimum value of lags allowed is 1.')\n",
    "            \n",
    "        if isinstance(lags, int):\n",
    "            self.lags = np.arange(lags) + 1\n",
    "        elif isinstance(lags, (list, range)):\n",
    "            self.lags = np.array(lags)\n",
    "        elif isinstance(lags, np.ndarray):\n",
    "            self.lags = lags\n",
    "        else:\n",
    "            raise TypeError(\n",
    "                '`lags` argument must be int, 1d numpy ndarray, range or list. '\n",
    "                f\"Got {type(lags)}\"\n",
    "            )\n",
    "\n",
    "        if series_weights is not None:\n",
    "            if 'sample_weight' not in inspect.getfullargspec(self.regressor.fit)[0]:\n",
    "                warnings.warm(\n",
    "                    f\"\"\"\n",
    "                    Argument `series_weights` is ignored since regressor {self.regressor}\n",
    "                    does not accept `sample_weight` in its `fit` method.\n",
    "                    \"\"\"\n",
    "                )\n",
    "                self.series_weights = None\n",
    "            \n",
    "        self.max_lag = max(self.lags)\n",
    "        self.window_size = self.max_lag\n",
    "\n",
    "\n",
    "    def __repr__(\n",
    "        self\n",
    "    ) -> str:\n",
    "        \"\"\"\n",
    "        Information displayed when a ForecasterAutoregMultiSeries object is printed.\n",
    "        \"\"\"\n",
    "\n",
    "        if isinstance(self.regressor, sklearn.pipeline.Pipeline):\n",
    "            name_pipe_steps = tuple(name + \"__\" for name in self.regressor.named_steps.keys())\n",
    "            params = {key : value for key, value in self.regressor.get_params().items() \\\n",
    "                     if key.startswith(name_pipe_steps)}\n",
    "        else:\n",
    "            params = self.regressor.get_params()\n",
    "\n",
    "        info = (\n",
    "            f\"{'=' * len(str(type(self)).split('.')[1])} \\n\"\n",
    "            f\"{str(type(self)).split('.')[1]} \\n\"\n",
    "            f\"{'=' * len(str(type(self)).split('.')[1])} \\n\"\n",
    "            f\"Regressor: {self.regressor} \\n\"\n",
    "            f\"Lags: {self.lags} \\n\"\n",
    "            f\"Transformer for series: {self.transformer_series} \\n\"\n",
    "            f\"Transformer for exog: {self.transformer_exog} \\n\"\n",
    "            f\"Window size: {self.window_size} \\n\"\n",
    "            f\"Series levels (names): {self.series_levels} \\n\"\n",
    "            f\"Series weights: {self.series_weights} \\n\"\n",
    "            f\"Included exogenous: {self.included_exog} \\n\"\n",
    "            f\"Type of exogenous variable: {self.exog_type} \\n\"\n",
    "            f\"Exogenous variables names: {self.exog_col_names} \\n\"\n",
    "            f\"Training range: {self.training_range.to_list() if self.fitted else None} \\n\"\n",
    "            f\"Training index type: {str(self.index_type).split('.')[-1][:-2] if self.fitted else None} \\n\"\n",
    "            f\"Training index frequency: {self.index_freq if self.fitted else None} \\n\"\n",
    "            f\"Regressor parameters: {params} \\n\"\n",
    "            f\"Creation date: {self.creation_date} \\n\"\n",
    "            f\"Last fit date: {self.fit_date} \\n\"\n",
    "            f\"Skforecast version: {self.skforcast_version} \\n\"\n",
    "            f\"Python version: {self.python_version} \\n\"\n",
    "        )\n",
    "\n",
    "        return info"
   ]
  },
  {
   "cell_type": "code",
   "execution_count": 9,
   "id": "c29fb9e6",
   "metadata": {},
   "outputs": [
    {
     "data": {
      "text/plain": [
       "{1: 1}"
      ]
     },
     "execution_count": 9,
     "metadata": {},
     "output_type": "execute_result"
    }
   ],
   "source": [
    "for key in {'1':1, 2:2}.keys():\n",
    "    "
   ]
  },
  {
   "cell_type": "code",
   "execution_count": 27,
   "id": "81344f50",
   "metadata": {},
   "outputs": [
    {
     "ename": "TypeError",
     "evalue": "`lags` argument must be int, 1d numpy ndarray, range or list.\nGot : [<class 'str'>, <class 'int'>]",
     "output_type": "error",
     "traceback": [
      "\u001b[1;31m---------------------------------------------------------------------------\u001b[0m",
      "\u001b[1;31mTypeError\u001b[0m                                 Traceback (most recent call last)",
      "Cell \u001b[1;32mIn [27], line 3\u001b[0m\n\u001b[0;32m      1\u001b[0m \u001b[39mfor\u001b[39;00m key \u001b[39min\u001b[39;00m {\u001b[39m'\u001b[39m\u001b[39m1\u001b[39m\u001b[39m'\u001b[39m:\u001b[39m1\u001b[39m, \u001b[39m2\u001b[39m:\u001b[39m2\u001b[39m}\u001b[39m.\u001b[39mkeys():\n\u001b[0;32m      2\u001b[0m     \u001b[39mif\u001b[39;00m \u001b[39mnot\u001b[39;00m \u001b[39misinstance\u001b[39m(key, \u001b[39mstr\u001b[39m):\n\u001b[1;32m----> 3\u001b[0m         \u001b[39mraise\u001b[39;00m \u001b[39mTypeError\u001b[39;00m(\n\u001b[0;32m      4\u001b[0m                 \u001b[39m'\u001b[39m\u001b[39m`lags` argument must be int, 1d numpy ndarray, range or list.\u001b[39m\u001b[39m\\n\u001b[39;00m\u001b[39m'\u001b[39m\n\u001b[0;32m      5\u001b[0m                 \u001b[39mf\u001b[39m\u001b[39m\"\u001b[39m\u001b[39mGot : \u001b[39m\u001b[39m{\u001b[39;00m[\u001b[39mtype\u001b[39m(key) \u001b[39mfor\u001b[39;00m key \u001b[39min\u001b[39;00m {\u001b[39m'\u001b[39m\u001b[39m1\u001b[39m\u001b[39m'\u001b[39m:\u001b[39m1\u001b[39m, \u001b[39m2\u001b[39m:\u001b[39m2\u001b[39m}\u001b[39m.\u001b[39mkeys()]\u001b[39m}\u001b[39;00m\u001b[39m\"\u001b[39m\n\u001b[0;32m      6\u001b[0m             )\n",
      "\u001b[1;31mTypeError\u001b[0m: `lags` argument must be int, 1d numpy ndarray, range or list.\nGot : [<class 'str'>, <class 'int'>]"
     ]
    }
   ],
   "source": [
    "for key in {'1':1, 2:2}.keys():\n",
    "    if not isinstance(key, str):\n",
    "        raise TypeError(\n",
    "            f\"All regressor dict keys must be a string.\\n\"\n",
    "            f\"    Key {key} is a {type(key)}\"\n",
    "        )"
   ]
  },
  {
   "cell_type": "code",
   "execution_count": 26,
   "id": "aa64a312",
   "metadata": {},
   "outputs": [
    {
     "data": {
      "text/plain": [
       "[str, int]"
      ]
     },
     "execution_count": 26,
     "metadata": {},
     "output_type": "execute_result"
    }
   ],
   "source": [
    "[type(key) for key in {'1':1, 2:2}.keys()]"
   ]
  },
  {
   "cell_type": "code",
   "execution_count": 37,
   "id": "66ec90a2",
   "metadata": {},
   "outputs": [],
   "source": [
    "y = np.arange(10).reshape(-1, 1)\n",
    "x = np.arange(10).reshape(-1, 1)\n",
    "weights = [1, 1, 1, 1, -1, 1, 1, 1, 1, 1]"
   ]
  },
  {
   "cell_type": "code",
   "execution_count": 36,
   "id": "4b99aff6",
   "metadata": {},
   "outputs": [
    {
     "name": "stderr",
     "output_type": "stream",
     "text": [
      "C:\\Users\\jaesc2\\AppData\\Local\\Temp\\ipykernel_6968\\380885746.py:4: DataConversionWarning: A column-vector y was passed when a 1d array was expected. Please change the shape of y to (n_samples,), for example using ravel().\n",
      "  model.fit(X=x, y=y, sample_weight=weights)\n",
      "c:\\Users\\jaesc2\\Miniconda3\\envs\\skforecast\\lib\\site-packages\\sklearn\\ensemble\\_forest.py:667: RuntimeWarning: invalid value encountered in add\n",
      "  out[0] += prediction\n"
     ]
    },
    {
     "data": {
      "text/plain": [
       "array([-inf, -inf, -inf,  nan,  nan,  nan,  nan,  inf,  inf,  inf])"
      ]
     },
     "execution_count": 36,
     "metadata": {},
     "output_type": "execute_result"
    }
   ],
   "source": [
    "from sklearn.ensemble import RandomForestRegressor\n",
    "\n",
    "model = RandomForestRegressor()\n",
    "model.fit(X=x, y=y, sample_weight=weights)\n",
    "model.predict(y)"
   ]
  },
  {
   "cell_type": "code",
   "execution_count": 38,
   "id": "043a46aa",
   "metadata": {},
   "outputs": [
    {
     "ename": "ValueError",
     "evalue": "Negative values in data passed to `sample_weight`",
     "output_type": "error",
     "traceback": [
      "\u001b[1;31m---------------------------------------------------------------------------\u001b[0m",
      "\u001b[1;31mValueError\u001b[0m                                Traceback (most recent call last)",
      "Cell \u001b[1;32mIn [38], line 4\u001b[0m\n\u001b[0;32m      1\u001b[0m \u001b[39mfrom\u001b[39;00m \u001b[39msklearn\u001b[39;00m\u001b[39m.\u001b[39;00m\u001b[39mlinear_model\u001b[39;00m \u001b[39mimport\u001b[39;00m LinearRegression\n\u001b[0;32m      3\u001b[0m model \u001b[39m=\u001b[39m LinearRegression()\n\u001b[1;32m----> 4\u001b[0m model\u001b[39m.\u001b[39mfit(X\u001b[39m=\u001b[39mx, y\u001b[39m=\u001b[39my, sample_weight\u001b[39m=\u001b[39mweights)\n\u001b[0;32m      5\u001b[0m model\u001b[39m.\u001b[39mpredict(y)\n",
      "File \u001b[1;32mc:\\Users\\jaesc2\\Miniconda3\\envs\\skforecast\\lib\\site-packages\\sklearn\\linear_model\\_base.py:688\u001b[0m, in \u001b[0;36mLinearRegression.fit\u001b[1;34m(self, X, y, sample_weight)\u001b[0m\n\u001b[0;32m    682\u001b[0m accept_sparse \u001b[39m=\u001b[39m \u001b[39mFalse\u001b[39;00m \u001b[39mif\u001b[39;00m \u001b[39mself\u001b[39m\u001b[39m.\u001b[39mpositive \u001b[39melse\u001b[39;00m [\u001b[39m\"\u001b[39m\u001b[39mcsr\u001b[39m\u001b[39m\"\u001b[39m, \u001b[39m\"\u001b[39m\u001b[39mcsc\u001b[39m\u001b[39m\"\u001b[39m, \u001b[39m\"\u001b[39m\u001b[39mcoo\u001b[39m\u001b[39m\"\u001b[39m]\n\u001b[0;32m    684\u001b[0m X, y \u001b[39m=\u001b[39m \u001b[39mself\u001b[39m\u001b[39m.\u001b[39m_validate_data(\n\u001b[0;32m    685\u001b[0m     X, y, accept_sparse\u001b[39m=\u001b[39maccept_sparse, y_numeric\u001b[39m=\u001b[39m\u001b[39mTrue\u001b[39;00m, multi_output\u001b[39m=\u001b[39m\u001b[39mTrue\u001b[39;00m\n\u001b[0;32m    686\u001b[0m )\n\u001b[1;32m--> 688\u001b[0m sample_weight \u001b[39m=\u001b[39m _check_sample_weight(\n\u001b[0;32m    689\u001b[0m     sample_weight, X, dtype\u001b[39m=\u001b[39;49mX\u001b[39m.\u001b[39;49mdtype, only_non_negative\u001b[39m=\u001b[39;49m\u001b[39mTrue\u001b[39;49;00m\n\u001b[0;32m    690\u001b[0m )\n\u001b[0;32m    692\u001b[0m X, y, X_offset, y_offset, X_scale \u001b[39m=\u001b[39m _preprocess_data(\n\u001b[0;32m    693\u001b[0m     X,\n\u001b[0;32m    694\u001b[0m     y,\n\u001b[1;32m   (...)\u001b[0m\n\u001b[0;32m    698\u001b[0m     sample_weight\u001b[39m=\u001b[39msample_weight,\n\u001b[0;32m    699\u001b[0m )\n\u001b[0;32m    701\u001b[0m \u001b[39m# Sample weight can be implemented via a simple rescaling.\u001b[39;00m\n",
      "File \u001b[1;32mc:\\Users\\jaesc2\\Miniconda3\\envs\\skforecast\\lib\\site-packages\\sklearn\\utils\\validation.py:1736\u001b[0m, in \u001b[0;36m_check_sample_weight\u001b[1;34m(sample_weight, X, dtype, copy, only_non_negative)\u001b[0m\n\u001b[0;32m   1729\u001b[0m         \u001b[39mraise\u001b[39;00m \u001b[39mValueError\u001b[39;00m(\n\u001b[0;32m   1730\u001b[0m             \u001b[39m\"\u001b[39m\u001b[39msample_weight.shape == \u001b[39m\u001b[39m{}\u001b[39;00m\u001b[39m, expected \u001b[39m\u001b[39m{}\u001b[39;00m\u001b[39m!\u001b[39m\u001b[39m\"\u001b[39m\u001b[39m.\u001b[39mformat(\n\u001b[0;32m   1731\u001b[0m                 sample_weight\u001b[39m.\u001b[39mshape, (n_samples,)\n\u001b[0;32m   1732\u001b[0m             )\n\u001b[0;32m   1733\u001b[0m         )\n\u001b[0;32m   1735\u001b[0m \u001b[39mif\u001b[39;00m only_non_negative:\n\u001b[1;32m-> 1736\u001b[0m     check_non_negative(sample_weight, \u001b[39m\"\u001b[39;49m\u001b[39m`sample_weight`\u001b[39;49m\u001b[39m\"\u001b[39;49m)\n\u001b[0;32m   1738\u001b[0m \u001b[39mreturn\u001b[39;00m sample_weight\n",
      "File \u001b[1;32mc:\\Users\\jaesc2\\Miniconda3\\envs\\skforecast\\lib\\site-packages\\sklearn\\utils\\validation.py:1368\u001b[0m, in \u001b[0;36mcheck_non_negative\u001b[1;34m(X, whom)\u001b[0m\n\u001b[0;32m   1365\u001b[0m     X_min \u001b[39m=\u001b[39m X\u001b[39m.\u001b[39mmin()\n\u001b[0;32m   1367\u001b[0m \u001b[39mif\u001b[39;00m X_min \u001b[39m<\u001b[39m \u001b[39m0\u001b[39m:\n\u001b[1;32m-> 1368\u001b[0m     \u001b[39mraise\u001b[39;00m \u001b[39mValueError\u001b[39;00m(\u001b[39m\"\u001b[39m\u001b[39mNegative values in data passed to \u001b[39m\u001b[39m%s\u001b[39;00m\u001b[39m\"\u001b[39m \u001b[39m%\u001b[39m whom)\n",
      "\u001b[1;31mValueError\u001b[0m: Negative values in data passed to `sample_weight`"
     ]
    }
   ],
   "source": [
    "from sklearn.linear_model import LinearRegression\n",
    "\n",
    "model = LinearRegression()\n",
    "model.fit(X=x, y=y, sample_weight=weights)\n",
    "model.predict(y)"
   ]
  },
  {
   "cell_type": "code",
   "execution_count": 41,
   "id": "464e8d49",
   "metadata": {},
   "outputs": [
    {
     "data": {
      "text/plain": [
       "False"
      ]
     },
     "execution_count": 41,
     "metadata": {},
     "output_type": "execute_result"
    }
   ],
   "source": [
    "weights = [1, 1, 1, 1, 0, 1, 1, 1, 1, 1]\n",
    "\n",
    "np.any(np.array(weights) < 0)"
   ]
  },
  {
   "cell_type": "markdown",
   "id": "e149ca45",
   "metadata": {},
   "source": [
    "## ForecasterAutoregDirect"
   ]
  },
  {
   "cell_type": "code",
   "execution_count": 55,
   "id": "3717b3a9",
   "metadata": {},
   "outputs": [],
   "source": [
    "# Libraries\n",
    "# ==============================================================================\n",
    "import numpy as np\n",
    "import pandas as pd\n",
    "import matplotlib.pyplot as plt\n",
    "from skforecast.ForecasterAutoregDirect import ForecasterAutoregDirect\n",
    "from sklearn.linear_model import LinearRegression\n",
    "from sklearn.linear_model import Ridge\n",
    "from sklearn.metrics import mean_squared_error"
   ]
  },
  {
   "cell_type": "code",
   "execution_count": 56,
   "id": "8c3c52a7",
   "metadata": {},
   "outputs": [],
   "source": [
    "# Download data\n",
    "# ==============================================================================\n",
    "url = ('https://raw.githubusercontent.com/JoaquinAmatRodrigo/skforecast/master/data/h2o.csv')\n",
    "data = pd.read_csv(url, sep=',', header=0, names=['y', 'datetime'])\n",
    "\n",
    "# Data preprocessing\n",
    "# ==============================================================================\n",
    "data['datetime'] = pd.to_datetime(data['datetime'], format='%Y/%m/%d')\n",
    "data = data.set_index('datetime')\n",
    "data = data.asfreq('MS')\n",
    "data = data['y']\n",
    "data = data.sort_index()\n",
    "\n",
    "# Split train-test\n",
    "# ==============================================================================\n",
    "steps = 36\n",
    "data_train = data[:-steps]\n",
    "data_test  = data[-steps:]\n",
    "\n",
    "# Plot\n",
    "# ==============================================================================\n",
    "# fig, ax=plt.subplots(figsize=(9, 4))\n",
    "# data_train.plot(ax=ax, label='train')\n",
    "# data_test.plot(ax=ax, label='test')\n",
    "# ax.legend();"
   ]
  },
  {
   "cell_type": "code",
   "execution_count": 57,
   "id": "e6ea1a82",
   "metadata": {},
   "outputs": [
    {
     "data": {
      "text/plain": [
       "======================= \n",
       "ForecasterAutoregDirect \n",
       "======================= \n",
       "Regressor: Ridge() \n",
       "Lags: [ 1  2  3  4  5  6  7  8  9 10 11 12 13 14 15] \n",
       "Transformer for y: None \n",
       "Transformer for exog: None \n",
       "Included weights function: False \n",
       "Window size: 15 \n",
       "Maximum steps predicted: 5 \n",
       "Weight function included: False \n",
       "Exogenous included: False \n",
       "Type of exogenous variable: None \n",
       "Exogenous variables names: None \n",
       "Training range: [Timestamp('1991-07-01 00:00:00'), Timestamp('2005-06-01 00:00:00')] \n",
       "Training index type: DatetimeIndex \n",
       "Training index frequency: MS \n",
       "Regressor parameters: {'alpha': 1.0, 'copy_X': True, 'fit_intercept': True, 'max_iter': None, 'normalize': 'deprecated', 'positive': False, 'random_state': None, 'solver': 'auto', 'tol': 0.001} \n",
       "Creation date: 2022-11-03 13:47:31 \n",
       "Last fit date: 2022-11-03 13:47:31 \n",
       "Skforecast version: 0.6.0 \n",
       "Python version: 3.9.13 "
      ]
     },
     "execution_count": 57,
     "metadata": {},
     "output_type": "execute_result"
    }
   ],
   "source": [
    "# Create and fit forecaster\n",
    "# ==============================================================================\n",
    "forecaster = ForecasterAutoregDirect(\n",
    "                 regressor = Ridge(),\n",
    "                 steps     = 5,\n",
    "                 lags      = 15\n",
    "             )\n",
    "\n",
    "forecaster.fit(y=data_train)\n",
    "forecaster"
   ]
  },
  {
   "cell_type": "code",
   "execution_count": 58,
   "id": "26028977",
   "metadata": {},
   "outputs": [
    {
     "data": {
      "text/plain": [
       "datetime\n",
       "2004-04-01    0.739986\n",
       "2004-05-01    0.795129\n",
       "2004-06-01    0.856803\n",
       "2004-07-01    1.001593\n",
       "2004-08-01    0.994864\n",
       "2004-09-01    1.134432\n",
       "2004-10-01    1.181011\n",
       "2004-11-01    1.216037\n",
       "2004-12-01    1.257238\n",
       "2005-01-01    1.170690\n",
       "2005-02-01    0.597639\n",
       "2005-03-01    0.652590\n",
       "2005-04-01    0.670505\n",
       "2005-05-01    0.695248\n",
       "2005-06-01    0.842263\n",
       "Freq: MS, Name: y, dtype: float64"
      ]
     },
     "execution_count": 58,
     "metadata": {},
     "output_type": "execute_result"
    }
   ],
   "source": [
    "forecaster.last_window"
   ]
  },
  {
   "cell_type": "code",
   "execution_count": 75,
   "id": "9ea32a92",
   "metadata": {},
   "outputs": [
    {
     "data": {
      "text/plain": [
       "array([[ 0.73998602,  0.        ],\n",
       "       [ 0.79512863,  1.        ],\n",
       "       [ 0.85680282,  2.        ],\n",
       "       [ 1.00159317,  3.        ],\n",
       "       [ 0.99486433,  4.        ],\n",
       "       [ 1.134432  ,  5.        ],\n",
       "       [ 1.181011  ,  6.        ],\n",
       "       [ 1.216037  ,  7.        ],\n",
       "       [ 1.257238  ,  8.        ],\n",
       "       [ 1.17069   ,  9.        ],\n",
       "       [ 0.597639  , 10.        ],\n",
       "       [ 0.65259   , 11.        ],\n",
       "       [ 0.670505  , 12.        ],\n",
       "       [ 0.695248  , 13.        ],\n",
       "       [ 0.842263  , 14.        ]])"
      ]
     },
     "execution_count": 75,
     "metadata": {},
     "output_type": "execute_result"
    }
   ],
   "source": [
    "df = pd.DataFrame(forecaster.last_window)\n",
    "df['1'] = np.arange(len(df))\n",
    "df.values"
   ]
  },
  {
   "cell_type": "code",
   "execution_count": 89,
   "id": "3d61c52d",
   "metadata": {},
   "outputs": [
    {
     "data": {
      "text/plain": [
       "array([[ 0.73998602,  0.        ],\n",
       "       [ 0.79512863,  1.        ],\n",
       "       [ 0.85680282,  2.        ],\n",
       "       [ 1.00159317,  3.        ],\n",
       "       [ 0.99486433,  4.        ],\n",
       "       [ 1.134432  ,  5.        ],\n",
       "       [ 1.181011  ,  6.        ],\n",
       "       [ 1.216037  ,  7.        ],\n",
       "       [ 1.257238  ,  8.        ],\n",
       "       [ 1.17069   ,  9.        ],\n",
       "       [ 0.597639  , 10.        ],\n",
       "       [ 0.65259   , 11.        ],\n",
       "       [ 0.670505  , 12.        ],\n",
       "       [ 0.695248  , 13.        ],\n",
       "       [ 0.842263  , 14.        ]])"
      ]
     },
     "execution_count": 89,
     "metadata": {},
     "output_type": "execute_result"
    }
   ],
   "source": [
    "df.to_numpy()"
   ]
  },
  {
   "cell_type": "code",
   "execution_count": 90,
   "id": "cb0e7d9b",
   "metadata": {},
   "outputs": [
    {
     "data": {
      "text/plain": [
       "array([0.73998602, 0.79512863, 0.85680282, 1.00159317, 0.99486433,\n",
       "       1.134432  , 1.181011  , 1.216037  , 1.257238  , 1.17069   ,\n",
       "       0.597639  , 0.65259   , 0.670505  , 0.695248  , 0.842263  ])"
      ]
     },
     "execution_count": 90,
     "metadata": {},
     "output_type": "execute_result"
    }
   ],
   "source": [
    "from sklearn.preprocessing import StandardScaler\n",
    "from sklearn.linear_model import LinearRegression\n",
    "\n",
    "m = LinearRegression()\n",
    "m.fit(X=df.values, y=forecaster.last_window.values)\n",
    "m.predict(df.values)"
   ]
  },
  {
   "cell_type": "code",
   "execution_count": 112,
   "id": "e19455ff",
   "metadata": {},
   "outputs": [
    {
     "ename": "TypeError",
     "evalue": "Index(...) must be called with a collection of some kind, 'l1' was passed",
     "output_type": "error",
     "traceback": [
      "\u001b[1;31m---------------------------------------------------------------------------\u001b[0m",
      "\u001b[1;31mTypeError\u001b[0m                                 Traceback (most recent call last)",
      "Cell \u001b[1;32mIn [112], line 5\u001b[0m\n\u001b[0;32m      1\u001b[0m predictions \u001b[39m=\u001b[39m np\u001b[39m.\u001b[39marray([\u001b[39m0.73998602\u001b[39m, \u001b[39m0.79512863\u001b[39m, \u001b[39m0.85680282\u001b[39m, \u001b[39m1.00159317\u001b[39m, \u001b[39m0.99486433\u001b[39m,\n\u001b[0;32m      2\u001b[0m                         \u001b[39m1.134432\u001b[39m  , \u001b[39m1.181011\u001b[39m  , \u001b[39m1.216037\u001b[39m  , \u001b[39m1.257238\u001b[39m  , \u001b[39m1.17069\u001b[39m   ,\n\u001b[0;32m      3\u001b[0m                         \u001b[39m0.597639\u001b[39m  , \u001b[39m0.65259\u001b[39m   , \u001b[39m0.670505\u001b[39m  , \u001b[39m0.695248\u001b[39m  , \u001b[39m0.842263\u001b[39m  ])\n\u001b[1;32m----> 5\u001b[0m predictions \u001b[39m=\u001b[39m pd\u001b[39m.\u001b[39mDataFrame(\n\u001b[0;32m      6\u001b[0m                           data    \u001b[39m=\u001b[39m predictions,\n\u001b[0;32m      7\u001b[0m                           columns \u001b[39m=\u001b[39m \u001b[39m'\u001b[39m\u001b[39ml1\u001b[39m\u001b[39m'\u001b[39m\n\u001b[0;32m      8\u001b[0m                       )\n\u001b[0;32m     10\u001b[0m predictions\n",
      "File \u001b[1;32mc:\\Users\\jaesc2\\Miniconda3\\envs\\skforecast\\lib\\site-packages\\pandas\\core\\frame.py:695\u001b[0m, in \u001b[0;36mDataFrame.__init__\u001b[1;34m(self, data, index, columns, dtype, copy)\u001b[0m\n\u001b[0;32m    685\u001b[0m         mgr \u001b[39m=\u001b[39m dict_to_mgr(\n\u001b[0;32m    686\u001b[0m             \u001b[39m# error: Item \"ndarray\" of \"Union[ndarray, Series, Index]\" has no\u001b[39;00m\n\u001b[0;32m    687\u001b[0m             \u001b[39m# attribute \"name\"\u001b[39;00m\n\u001b[1;32m   (...)\u001b[0m\n\u001b[0;32m    692\u001b[0m             typ\u001b[39m=\u001b[39mmanager,\n\u001b[0;32m    693\u001b[0m         )\n\u001b[0;32m    694\u001b[0m     \u001b[39melse\u001b[39;00m:\n\u001b[1;32m--> 695\u001b[0m         mgr \u001b[39m=\u001b[39m ndarray_to_mgr(\n\u001b[0;32m    696\u001b[0m             data,\n\u001b[0;32m    697\u001b[0m             index,\n\u001b[0;32m    698\u001b[0m             columns,\n\u001b[0;32m    699\u001b[0m             dtype\u001b[39m=\u001b[39;49mdtype,\n\u001b[0;32m    700\u001b[0m             copy\u001b[39m=\u001b[39;49mcopy,\n\u001b[0;32m    701\u001b[0m             typ\u001b[39m=\u001b[39;49mmanager,\n\u001b[0;32m    702\u001b[0m         )\n\u001b[0;32m    704\u001b[0m \u001b[39m# For data is list-like, or Iterable (will consume into list)\u001b[39;00m\n\u001b[0;32m    705\u001b[0m \u001b[39melif\u001b[39;00m is_list_like(data):\n",
      "File \u001b[1;32mc:\\Users\\jaesc2\\Miniconda3\\envs\\skforecast\\lib\\site-packages\\pandas\\core\\internals\\construction.py:347\u001b[0m, in \u001b[0;36mndarray_to_mgr\u001b[1;34m(values, index, columns, dtype, copy, typ)\u001b[0m\n\u001b[0;32m    344\u001b[0m     values \u001b[39m=\u001b[39m values\u001b[39m.\u001b[39mreshape(shape)\n\u001b[0;32m    346\u001b[0m \u001b[39m# _prep_ndarray ensures that values.ndim == 2 at this point\u001b[39;00m\n\u001b[1;32m--> 347\u001b[0m index, columns \u001b[39m=\u001b[39m _get_axes(\n\u001b[0;32m    348\u001b[0m     values\u001b[39m.\u001b[39;49mshape[\u001b[39m0\u001b[39;49m], values\u001b[39m.\u001b[39;49mshape[\u001b[39m1\u001b[39;49m], index\u001b[39m=\u001b[39;49mindex, columns\u001b[39m=\u001b[39;49mcolumns\n\u001b[0;32m    349\u001b[0m )\n\u001b[0;32m    351\u001b[0m _check_values_indices_shape_match(values, index, columns)\n\u001b[0;32m    353\u001b[0m \u001b[39mif\u001b[39;00m typ \u001b[39m==\u001b[39m \u001b[39m\"\u001b[39m\u001b[39marray\u001b[39m\u001b[39m\"\u001b[39m:\n",
      "File \u001b[1;32mc:\\Users\\jaesc2\\Miniconda3\\envs\\skforecast\\lib\\site-packages\\pandas\\core\\internals\\construction.py:761\u001b[0m, in \u001b[0;36m_get_axes\u001b[1;34m(N, K, index, columns)\u001b[0m\n\u001b[0;32m    759\u001b[0m     columns \u001b[39m=\u001b[39m default_index(K)\n\u001b[0;32m    760\u001b[0m \u001b[39melse\u001b[39;00m:\n\u001b[1;32m--> 761\u001b[0m     columns \u001b[39m=\u001b[39m ensure_index(columns)\n\u001b[0;32m    762\u001b[0m \u001b[39mreturn\u001b[39;00m index, columns\n",
      "File \u001b[1;32mc:\\Users\\jaesc2\\Miniconda3\\envs\\skforecast\\lib\\site-packages\\pandas\\core\\indexes\\base.py:7043\u001b[0m, in \u001b[0;36mensure_index\u001b[1;34m(index_like, copy)\u001b[0m\n\u001b[0;32m   7041\u001b[0m         \u001b[39mreturn\u001b[39;00m Index\u001b[39m.\u001b[39m_with_infer(index_like, copy\u001b[39m=\u001b[39mcopy, tupleize_cols\u001b[39m=\u001b[39m\u001b[39mFalse\u001b[39;00m)\n\u001b[0;32m   7042\u001b[0m \u001b[39melse\u001b[39;00m:\n\u001b[1;32m-> 7043\u001b[0m     \u001b[39mreturn\u001b[39;00m Index\u001b[39m.\u001b[39;49m_with_infer(index_like, copy\u001b[39m=\u001b[39;49mcopy)\n",
      "File \u001b[1;32mc:\\Users\\jaesc2\\Miniconda3\\envs\\skforecast\\lib\\site-packages\\pandas\\core\\indexes\\base.py:680\u001b[0m, in \u001b[0;36mIndex._with_infer\u001b[1;34m(cls, *args, **kwargs)\u001b[0m\n\u001b[0;32m    678\u001b[0m \u001b[39mwith\u001b[39;00m warnings\u001b[39m.\u001b[39mcatch_warnings():\n\u001b[0;32m    679\u001b[0m     warnings\u001b[39m.\u001b[39mfilterwarnings(\u001b[39m\"\u001b[39m\u001b[39mignore\u001b[39m\u001b[39m\"\u001b[39m, \u001b[39m\"\u001b[39m\u001b[39m.*the Index constructor\u001b[39m\u001b[39m\"\u001b[39m, \u001b[39mFutureWarning\u001b[39;00m)\n\u001b[1;32m--> 680\u001b[0m     result \u001b[39m=\u001b[39m \u001b[39mcls\u001b[39m(\u001b[39m*\u001b[39margs, \u001b[39m*\u001b[39m\u001b[39m*\u001b[39mkwargs)\n\u001b[0;32m    682\u001b[0m \u001b[39mif\u001b[39;00m result\u001b[39m.\u001b[39mdtype \u001b[39m==\u001b[39m _dtype_obj \u001b[39mand\u001b[39;00m \u001b[39mnot\u001b[39;00m result\u001b[39m.\u001b[39m_is_multi:\n\u001b[0;32m    683\u001b[0m     \u001b[39m# error: Argument 1 to \"maybe_convert_objects\" has incompatible type\u001b[39;00m\n\u001b[0;32m    684\u001b[0m     \u001b[39m# \"Union[ExtensionArray, ndarray[Any, Any]]\"; expected\u001b[39;00m\n\u001b[0;32m    685\u001b[0m     \u001b[39m# \"ndarray[Any, Any]\"\u001b[39;00m\n\u001b[0;32m    686\u001b[0m     values \u001b[39m=\u001b[39m lib\u001b[39m.\u001b[39mmaybe_convert_objects(result\u001b[39m.\u001b[39m_values)  \u001b[39m# type: ignore[arg-type]\u001b[39;00m\n",
      "File \u001b[1;32mc:\\Users\\jaesc2\\Miniconda3\\envs\\skforecast\\lib\\site-packages\\pandas\\core\\indexes\\base.py:508\u001b[0m, in \u001b[0;36mIndex.__new__\u001b[1;34m(cls, data, dtype, copy, name, tupleize_cols, **kwargs)\u001b[0m\n\u001b[0;32m    505\u001b[0m     \u001b[39mreturn\u001b[39;00m klass\u001b[39m.\u001b[39m_simple_new(arr, name)\n\u001b[0;32m    507\u001b[0m \u001b[39melif\u001b[39;00m is_scalar(data):\n\u001b[1;32m--> 508\u001b[0m     \u001b[39mraise\u001b[39;00m \u001b[39mcls\u001b[39m\u001b[39m.\u001b[39m_scalar_data_error(data)\n\u001b[0;32m    509\u001b[0m \u001b[39melif\u001b[39;00m \u001b[39mhasattr\u001b[39m(data, \u001b[39m\"\u001b[39m\u001b[39m__array__\u001b[39m\u001b[39m\"\u001b[39m):\n\u001b[0;32m    510\u001b[0m     \u001b[39mreturn\u001b[39;00m Index(np\u001b[39m.\u001b[39masarray(data), dtype\u001b[39m=\u001b[39mdtype, copy\u001b[39m=\u001b[39mcopy, name\u001b[39m=\u001b[39mname, \u001b[39m*\u001b[39m\u001b[39m*\u001b[39mkwargs)\n",
      "\u001b[1;31mTypeError\u001b[0m: Index(...) must be called with a collection of some kind, 'l1' was passed"
     ]
    }
   ],
   "source": [
    "predictions = np.array([0.73998602, 0.79512863, 0.85680282, 1.00159317, 0.99486433,\n",
    "                        1.134432  , 1.181011  , 1.216037  , 1.257238  , 1.17069   ,\n",
    "                        0.597639  , 0.65259   , 0.670505  , 0.695248  , 0.842263  ])\n",
    "\n",
    "predictions = pd.DataFrame(\n",
    "                          data    = predictions,\n",
    "                          columns = 'l1'\n",
    "                      )\n",
    "\n",
    "predictions                "
   ]
  },
  {
   "cell_type": "code",
   "execution_count": 106,
   "id": "2602b83d",
   "metadata": {},
   "outputs": [
    {
     "data": {
      "text/plain": [
       "DatetimeIndex(['2004-04-01', '2004-05-01', '2004-06-01', '2004-07-01',\n",
       "               '2004-08-01', '2004-09-01', '2004-10-01', '2004-11-01',\n",
       "               '2004-12-01', '2005-01-01', '2005-02-01', '2005-03-01',\n",
       "               '2005-04-01', '2005-05-01', '2005-06-01'],\n",
       "              dtype='datetime64[ns]', name='datetime', freq='MS')"
      ]
     },
     "execution_count": 106,
     "metadata": {},
     "output_type": "execute_result"
    }
   ],
   "source": [
    "forecaster.last_window.index"
   ]
  },
  {
   "cell_type": "code",
   "execution_count": 109,
   "id": "afd7fd94",
   "metadata": {},
   "outputs": [
    {
     "data": {
      "text/plain": [
       "DatetimeIndex(['2005-07-01', '2005-08-01', '2005-09-01', '2005-10-01',\n",
       "               '2005-11-01'],\n",
       "              dtype='datetime64[ns]', freq='MS')"
      ]
     },
     "execution_count": 109,
     "metadata": {},
     "output_type": "execute_result"
    }
   ],
   "source": [
    "from skforecast.utils import expand_index\n",
    "\n",
    "idx = expand_index(index=forecaster.last_window.index, steps=forecaster.steps)\n",
    "idx"
   ]
  },
  {
   "cell_type": "code",
   "execution_count": 111,
   "id": "4720b2c8",
   "metadata": {},
   "outputs": [
    {
     "data": {
      "text/plain": [
       "DatetimeIndex(['2005-07-01', '2005-09-01'], dtype='datetime64[ns]', freq=None)"
      ]
     },
     "execution_count": 111,
     "metadata": {},
     "output_type": "execute_result"
    }
   ],
   "source": [
    "idx[[0, 2]]"
   ]
  },
  {
   "cell_type": "code",
   "execution_count": 92,
   "id": "01c99c2f",
   "metadata": {},
   "outputs": [
    {
     "ename": "ValueError",
     "evalue": "Expected 2D array, got 1D array instead:\narray=[0.73998602 0.79512863 0.85680282 1.00159317 0.99486433 1.134432\n 1.181011   1.216037   1.257238   1.17069    0.597639   0.65259\n 0.670505   0.695248   0.842263  ].\nReshape your data either using array.reshape(-1, 1) if your data has a single feature or array.reshape(1, -1) if it contains a single sample.",
     "output_type": "error",
     "traceback": [
      "\u001b[1;31m---------------------------------------------------------------------------\u001b[0m",
      "\u001b[1;31mValueError\u001b[0m                                Traceback (most recent call last)",
      "Cell \u001b[1;32mIn [92], line 2\u001b[0m\n\u001b[0;32m      1\u001b[0m m \u001b[39m=\u001b[39m StandardScaler()\n\u001b[1;32m----> 2\u001b[0m m\u001b[39m.\u001b[39mfit_transform(X\u001b[39m=\u001b[39mforecaster\u001b[39m.\u001b[39mlast_window)\n",
      "File \u001b[1;32mc:\\Users\\jaesc2\\Miniconda3\\envs\\skforecast\\lib\\site-packages\\sklearn\\base.py:867\u001b[0m, in \u001b[0;36mTransformerMixin.fit_transform\u001b[1;34m(self, X, y, **fit_params)\u001b[0m\n\u001b[0;32m    863\u001b[0m \u001b[39m# non-optimized default implementation; override when a better\u001b[39;00m\n\u001b[0;32m    864\u001b[0m \u001b[39m# method is possible for a given clustering algorithm\u001b[39;00m\n\u001b[0;32m    865\u001b[0m \u001b[39mif\u001b[39;00m y \u001b[39mis\u001b[39;00m \u001b[39mNone\u001b[39;00m:\n\u001b[0;32m    866\u001b[0m     \u001b[39m# fit method of arity 1 (unsupervised transformation)\u001b[39;00m\n\u001b[1;32m--> 867\u001b[0m     \u001b[39mreturn\u001b[39;00m \u001b[39mself\u001b[39m\u001b[39m.\u001b[39mfit(X, \u001b[39m*\u001b[39m\u001b[39m*\u001b[39mfit_params)\u001b[39m.\u001b[39mtransform(X)\n\u001b[0;32m    868\u001b[0m \u001b[39melse\u001b[39;00m:\n\u001b[0;32m    869\u001b[0m     \u001b[39m# fit method of arity 2 (supervised transformation)\u001b[39;00m\n\u001b[0;32m    870\u001b[0m     \u001b[39mreturn\u001b[39;00m \u001b[39mself\u001b[39m\u001b[39m.\u001b[39mfit(X, y, \u001b[39m*\u001b[39m\u001b[39m*\u001b[39mfit_params)\u001b[39m.\u001b[39mtransform(X)\n",
      "File \u001b[1;32mc:\\Users\\jaesc2\\Miniconda3\\envs\\skforecast\\lib\\site-packages\\sklearn\\preprocessing\\_data.py:809\u001b[0m, in \u001b[0;36mStandardScaler.fit\u001b[1;34m(self, X, y, sample_weight)\u001b[0m\n\u001b[0;32m    807\u001b[0m \u001b[39m# Reset internal state before fitting\u001b[39;00m\n\u001b[0;32m    808\u001b[0m \u001b[39mself\u001b[39m\u001b[39m.\u001b[39m_reset()\n\u001b[1;32m--> 809\u001b[0m \u001b[39mreturn\u001b[39;00m \u001b[39mself\u001b[39;49m\u001b[39m.\u001b[39;49mpartial_fit(X, y, sample_weight)\n",
      "File \u001b[1;32mc:\\Users\\jaesc2\\Miniconda3\\envs\\skforecast\\lib\\site-packages\\sklearn\\preprocessing\\_data.py:844\u001b[0m, in \u001b[0;36mStandardScaler.partial_fit\u001b[1;34m(self, X, y, sample_weight)\u001b[0m\n\u001b[0;32m    812\u001b[0m \u001b[39m\"\"\"Online computation of mean and std on X for later scaling.\u001b[39;00m\n\u001b[0;32m    813\u001b[0m \n\u001b[0;32m    814\u001b[0m \u001b[39mAll of X is processed as a single batch. This is intended for cases\u001b[39;00m\n\u001b[1;32m   (...)\u001b[0m\n\u001b[0;32m    841\u001b[0m \u001b[39m    Fitted scaler.\u001b[39;00m\n\u001b[0;32m    842\u001b[0m \u001b[39m\"\"\"\u001b[39;00m\n\u001b[0;32m    843\u001b[0m first_call \u001b[39m=\u001b[39m \u001b[39mnot\u001b[39;00m \u001b[39mhasattr\u001b[39m(\u001b[39mself\u001b[39m, \u001b[39m\"\u001b[39m\u001b[39mn_samples_seen_\u001b[39m\u001b[39m\"\u001b[39m)\n\u001b[1;32m--> 844\u001b[0m X \u001b[39m=\u001b[39m \u001b[39mself\u001b[39;49m\u001b[39m.\u001b[39;49m_validate_data(\n\u001b[0;32m    845\u001b[0m     X,\n\u001b[0;32m    846\u001b[0m     accept_sparse\u001b[39m=\u001b[39;49m(\u001b[39m\"\u001b[39;49m\u001b[39mcsr\u001b[39;49m\u001b[39m\"\u001b[39;49m, \u001b[39m\"\u001b[39;49m\u001b[39mcsc\u001b[39;49m\u001b[39m\"\u001b[39;49m),\n\u001b[0;32m    847\u001b[0m     dtype\u001b[39m=\u001b[39;49mFLOAT_DTYPES,\n\u001b[0;32m    848\u001b[0m     force_all_finite\u001b[39m=\u001b[39;49m\u001b[39m\"\u001b[39;49m\u001b[39mallow-nan\u001b[39;49m\u001b[39m\"\u001b[39;49m,\n\u001b[0;32m    849\u001b[0m     reset\u001b[39m=\u001b[39;49mfirst_call,\n\u001b[0;32m    850\u001b[0m )\n\u001b[0;32m    851\u001b[0m n_features \u001b[39m=\u001b[39m X\u001b[39m.\u001b[39mshape[\u001b[39m1\u001b[39m]\n\u001b[0;32m    853\u001b[0m \u001b[39mif\u001b[39;00m sample_weight \u001b[39mis\u001b[39;00m \u001b[39mnot\u001b[39;00m \u001b[39mNone\u001b[39;00m:\n",
      "File \u001b[1;32mc:\\Users\\jaesc2\\Miniconda3\\envs\\skforecast\\lib\\site-packages\\sklearn\\base.py:577\u001b[0m, in \u001b[0;36mBaseEstimator._validate_data\u001b[1;34m(self, X, y, reset, validate_separately, **check_params)\u001b[0m\n\u001b[0;32m    575\u001b[0m     \u001b[39mraise\u001b[39;00m \u001b[39mValueError\u001b[39;00m(\u001b[39m\"\u001b[39m\u001b[39mValidation should be done on X, y or both.\u001b[39m\u001b[39m\"\u001b[39m)\n\u001b[0;32m    576\u001b[0m \u001b[39melif\u001b[39;00m \u001b[39mnot\u001b[39;00m no_val_X \u001b[39mand\u001b[39;00m no_val_y:\n\u001b[1;32m--> 577\u001b[0m     X \u001b[39m=\u001b[39m check_array(X, input_name\u001b[39m=\u001b[39m\u001b[39m\"\u001b[39m\u001b[39mX\u001b[39m\u001b[39m\"\u001b[39m, \u001b[39m*\u001b[39m\u001b[39m*\u001b[39mcheck_params)\n\u001b[0;32m    578\u001b[0m     out \u001b[39m=\u001b[39m X\n\u001b[0;32m    579\u001b[0m \u001b[39melif\u001b[39;00m no_val_X \u001b[39mand\u001b[39;00m \u001b[39mnot\u001b[39;00m no_val_y:\n",
      "File \u001b[1;32mc:\\Users\\jaesc2\\Miniconda3\\envs\\skforecast\\lib\\site-packages\\sklearn\\utils\\validation.py:875\u001b[0m, in \u001b[0;36mcheck_array\u001b[1;34m(array, accept_sparse, accept_large_sparse, dtype, order, copy, force_all_finite, ensure_2d, allow_nd, ensure_min_samples, ensure_min_features, estimator, input_name)\u001b[0m\n\u001b[0;32m    873\u001b[0m     \u001b[39m# If input is 1D raise error\u001b[39;00m\n\u001b[0;32m    874\u001b[0m     \u001b[39mif\u001b[39;00m array\u001b[39m.\u001b[39mndim \u001b[39m==\u001b[39m \u001b[39m1\u001b[39m:\n\u001b[1;32m--> 875\u001b[0m         \u001b[39mraise\u001b[39;00m \u001b[39mValueError\u001b[39;00m(\n\u001b[0;32m    876\u001b[0m             \u001b[39m\"\u001b[39m\u001b[39mExpected 2D array, got 1D array instead:\u001b[39m\u001b[39m\\n\u001b[39;00m\u001b[39marray=\u001b[39m\u001b[39m{}\u001b[39;00m\u001b[39m.\u001b[39m\u001b[39m\\n\u001b[39;00m\u001b[39m\"\u001b[39m\n\u001b[0;32m    877\u001b[0m             \u001b[39m\"\u001b[39m\u001b[39mReshape your data either using array.reshape(-1, 1) if \u001b[39m\u001b[39m\"\u001b[39m\n\u001b[0;32m    878\u001b[0m             \u001b[39m\"\u001b[39m\u001b[39myour data has a single feature or array.reshape(1, -1) \u001b[39m\u001b[39m\"\u001b[39m\n\u001b[0;32m    879\u001b[0m             \u001b[39m\"\u001b[39m\u001b[39mif it contains a single sample.\u001b[39m\u001b[39m\"\u001b[39m\u001b[39m.\u001b[39mformat(array)\n\u001b[0;32m    880\u001b[0m         )\n\u001b[0;32m    882\u001b[0m \u001b[39mif\u001b[39;00m dtype_numeric \u001b[39mand\u001b[39;00m array\u001b[39m.\u001b[39mdtype\u001b[39m.\u001b[39mkind \u001b[39min\u001b[39;00m \u001b[39m\"\u001b[39m\u001b[39mUSV\u001b[39m\u001b[39m\"\u001b[39m:\n\u001b[0;32m    883\u001b[0m     \u001b[39mraise\u001b[39;00m \u001b[39mValueError\u001b[39;00m(\n\u001b[0;32m    884\u001b[0m         \u001b[39m\"\u001b[39m\u001b[39mdtype=\u001b[39m\u001b[39m'\u001b[39m\u001b[39mnumeric\u001b[39m\u001b[39m'\u001b[39m\u001b[39m is not compatible with arrays of bytes/strings.\u001b[39m\u001b[39m\"\u001b[39m\n\u001b[0;32m    885\u001b[0m         \u001b[39m\"\u001b[39m\u001b[39mConvert your data to numeric values explicitly instead.\u001b[39m\u001b[39m\"\u001b[39m\n\u001b[0;32m    886\u001b[0m     )\n",
      "\u001b[1;31mValueError\u001b[0m: Expected 2D array, got 1D array instead:\narray=[0.73998602 0.79512863 0.85680282 1.00159317 0.99486433 1.134432\n 1.181011   1.216037   1.257238   1.17069    0.597639   0.65259\n 0.670505   0.695248   0.842263  ].\nReshape your data either using array.reshape(-1, 1) if your data has a single feature or array.reshape(1, -1) if it contains a single sample."
     ]
    }
   ],
   "source": [
    "m = StandardScaler()\n",
    "m.fit_transform(X=forecaster.last_window)"
   ]
  },
  {
   "cell_type": "code",
   "execution_count": 97,
   "id": "14eeb27a",
   "metadata": {},
   "outputs": [
    {
     "data": {
      "text/plain": [
       "array([2., 1., 6., 4.])"
      ]
     },
     "execution_count": 97,
     "metadata": {},
     "output_type": "execute_result"
    }
   ],
   "source": [
    "X_lags = np.array([], dtype=float)\n",
    "lags = [np.array([1, 2]), np.array([1, 3])]\n",
    "\n",
    "for i, array in enumerate([np.array([1, 2]), np.array([3, 4, 5, 6])]):\n",
    "\n",
    "    X_lags = np.append(X_lags, array[-lags[i]].reshape(1, -1))\n",
    "\n",
    "X_lags"
   ]
  },
  {
   "cell_type": "code",
   "execution_count": 93,
   "id": "dc84138a",
   "metadata": {},
   "outputs": [
    {
     "data": {
      "text/plain": [
       "array([], dtype=float64)"
      ]
     },
     "execution_count": 93,
     "metadata": {},
     "output_type": "execute_result"
    }
   ],
   "source": [
    "X_lags = np.array([])\n",
    "X_lags"
   ]
  },
  {
   "cell_type": "code",
   "execution_count": null,
   "id": "46753a01",
   "metadata": {},
   "outputs": [],
   "source": []
  },
  {
   "cell_type": "code",
   "execution_count": null,
   "id": "f1b2d1b8",
   "metadata": {},
   "outputs": [],
   "source": []
  },
  {
   "cell_type": "code",
   "execution_count": 74,
   "id": "dc5476aa",
   "metadata": {},
   "outputs": [
    {
     "data": {
      "text/plain": [
       "array([[0.73998602, 0.79512863, 0.85680282, 1.00159317, 0.99486433,\n",
       "        1.134432  , 1.181011  , 1.216037  , 1.257238  , 1.17069   ,\n",
       "        0.597639  , 0.65259   , 0.670505  , 0.695248  , 0.842263  ]])"
      ]
     },
     "execution_count": 74,
     "metadata": {},
     "output_type": "execute_result"
    }
   ],
   "source": [
    "forecaster.last_window.values.reshape(1, -1)"
   ]
  },
  {
   "cell_type": "code",
   "execution_count": 64,
   "id": "13a3ccf0",
   "metadata": {},
   "outputs": [
    {
     "data": {
      "text/plain": [
       "datetime\n",
       "2005-06-01    0.842263\n",
       "2005-05-01    0.695248\n",
       "2005-04-01    0.670505\n",
       "2005-03-01    0.652590\n",
       "2005-02-01    0.597639\n",
       "2005-01-01    1.170690\n",
       "2004-12-01    1.257238\n",
       "2004-11-01    1.216037\n",
       "2004-10-01    1.181011\n",
       "2004-09-01    1.134432\n",
       "2004-08-01    0.994864\n",
       "2004-07-01    1.001593\n",
       "2004-06-01    0.856803\n",
       "2004-05-01    0.795129\n",
       "2004-04-01    0.739986\n",
       "Name: y, dtype: float64"
      ]
     },
     "execution_count": 64,
     "metadata": {},
     "output_type": "execute_result"
    }
   ],
   "source": [
    "forecaster.last_window[-forecaster.lags]"
   ]
  },
  {
   "cell_type": "code",
   "execution_count": 61,
   "id": "1ddd78a2",
   "metadata": {},
   "outputs": [
    {
     "data": {
      "text/plain": [
       "array([ 1,  2,  3,  4,  5,  6,  7,  8,  9, 10, 11, 12, 13, 14, 15])"
      ]
     },
     "execution_count": 61,
     "metadata": {},
     "output_type": "execute_result"
    }
   ],
   "source": [
    "forecaster.lags"
   ]
  },
  {
   "cell_type": "code",
   "execution_count": 60,
   "id": "8ea02f0f",
   "metadata": {},
   "outputs": [
    {
     "name": "stdout",
     "output_type": "stream",
     "text": [
      "[0.73998602 0.79512863 0.85680282 1.00159317 0.99486433 1.134432\n",
      " 1.181011   1.216037   1.257238   1.17069    0.597639   0.65259\n",
      " 0.670505   0.695248   0.842263  ]\n",
      "[[0.842263   0.695248   0.670505   0.65259    0.597639   1.17069\n",
      "  1.257238   1.216037   1.181011   1.134432   0.99486433 1.00159317\n",
      "  0.85680282 0.79512863 0.73998602]]\n"
     ]
    },
    {
     "data": {
      "text/plain": [
       "2005-07-01    0.978379\n",
       "2005-08-01    1.023485\n",
       "2005-09-01    1.147209\n",
       "2005-10-01    1.201723\n",
       "2005-11-01    1.220410\n",
       "Freq: MS, Name: pred, dtype: float64"
      ]
     },
     "execution_count": 60,
     "metadata": {},
     "output_type": "execute_result"
    }
   ],
   "source": [
    "forecaster.predict()"
   ]
  },
  {
   "cell_type": "code",
   "execution_count": 25,
   "id": "48493c4d",
   "metadata": {},
   "outputs": [
    {
     "data": {
      "text/plain": [
       "Timestamp('2005-06-01 00:00:00', freq='MS')"
      ]
     },
     "execution_count": 25,
     "metadata": {},
     "output_type": "execute_result"
    }
   ],
   "source": [
    "y_train.index[-1]"
   ]
  },
  {
   "cell_type": "code",
   "execution_count": 32,
   "id": "6f2845ce",
   "metadata": {},
   "outputs": [
    {
     "data": {
      "text/plain": [
       "<15 * MonthBegins>"
      ]
     },
     "execution_count": 32,
     "metadata": {},
     "output_type": "execute_result"
    }
   ],
   "source": [
    "forecaster.max_lag * y_train.index.freq"
   ]
  },
  {
   "cell_type": "code",
   "execution_count": 29,
   "id": "ec60a9ed",
   "metadata": {},
   "outputs": [],
   "source": [
    "lw = data_train.iloc[-forecaster.max_lag:]\n",
    "lw2=data_train.loc[y_train.index[-1] - forecaster.max_lag * y_train.index.freq: ]"
   ]
  },
  {
   "cell_type": "code",
   "execution_count": 31,
   "id": "da9ef451",
   "metadata": {},
   "outputs": [
    {
     "data": {
      "text/plain": [
       "2005-07-01    0.978379\n",
       "2005-08-01    1.023485\n",
       "2005-09-01    1.147209\n",
       "2005-10-01    1.201723\n",
       "2005-11-01    1.220410\n",
       "Freq: MS, Name: pred, dtype: float64"
      ]
     },
     "execution_count": 31,
     "metadata": {},
     "output_type": "execute_result"
    }
   ],
   "source": [
    "forecaster.predict(last_window=lw)"
   ]
  },
  {
   "cell_type": "code",
   "execution_count": 23,
   "id": "f413a639",
   "metadata": {},
   "outputs": [
    {
     "data": {
      "text/plain": [
       "datetime\n",
       "2004-03-01    0.749014\n",
       "2004-04-01    0.739986\n",
       "2004-05-01    0.795129\n",
       "2004-06-01    0.856803\n",
       "2004-07-01    1.001593\n",
       "2004-08-01    0.994864\n",
       "2004-09-01    1.134432\n",
       "2004-10-01    1.181011\n",
       "2004-11-01    1.216037\n",
       "2004-12-01    1.257238\n",
       "2005-01-01    1.170690\n",
       "2005-02-01    0.597639\n",
       "2005-03-01    0.652590\n",
       "2005-04-01    0.670505\n",
       "2005-05-01    0.695248\n",
       "2005-06-01    0.842263\n",
       "Freq: MS, Name: y, dtype: float64"
      ]
     },
     "execution_count": 23,
     "metadata": {},
     "output_type": "execute_result"
    }
   ],
   "source": [
    "X_train, y_train = forecaster.create_train_X_y(\n",
    "                        y    = data_train\n",
    "                    )\n",
    "\n",
    "data_train.loc[y_train.index[-1] - forecaster.max_lag * y_train.index.freq: ]"
   ]
  },
  {
   "cell_type": "code",
   "execution_count": null,
   "id": "d5217e79",
   "metadata": {},
   "outputs": [],
   "source": [
    "y.loc[y_train.index[-1] - self.max_lag * y_train.index.freq: ]"
   ]
  },
  {
   "cell_type": "code",
   "execution_count": 17,
   "id": "da9cd289",
   "metadata": {},
   "outputs": [
    {
     "data": {
      "text/html": [
       "<div>\n",
       "<style scoped>\n",
       "    .dataframe tbody tr th:only-of-type {\n",
       "        vertical-align: middle;\n",
       "    }\n",
       "\n",
       "    .dataframe tbody tr th {\n",
       "        vertical-align: top;\n",
       "    }\n",
       "\n",
       "    .dataframe thead th {\n",
       "        text-align: right;\n",
       "    }\n",
       "</style>\n",
       "<table border=\"1\" class=\"dataframe\">\n",
       "  <thead>\n",
       "    <tr style=\"text-align: right;\">\n",
       "      <th></th>\n",
       "      <th>lag_1</th>\n",
       "      <th>lag_2</th>\n",
       "      <th>lag_3</th>\n",
       "    </tr>\n",
       "    <tr>\n",
       "      <th>datetime</th>\n",
       "      <th></th>\n",
       "      <th></th>\n",
       "      <th></th>\n",
       "    </tr>\n",
       "  </thead>\n",
       "  <tbody>\n",
       "    <tr>\n",
       "      <th>1991-11-01</th>\n",
       "      <td>0.432159</td>\n",
       "      <td>0.400906</td>\n",
       "      <td>0.429795</td>\n",
       "    </tr>\n",
       "    <tr>\n",
       "      <th>1991-12-01</th>\n",
       "      <td>0.492543</td>\n",
       "      <td>0.432159</td>\n",
       "      <td>0.400906</td>\n",
       "    </tr>\n",
       "    <tr>\n",
       "      <th>1992-01-01</th>\n",
       "      <td>0.502369</td>\n",
       "      <td>0.492543</td>\n",
       "      <td>0.432159</td>\n",
       "    </tr>\n",
       "    <tr>\n",
       "      <th>1992-02-01</th>\n",
       "      <td>0.602652</td>\n",
       "      <td>0.502369</td>\n",
       "      <td>0.492543</td>\n",
       "    </tr>\n",
       "    <tr>\n",
       "      <th>1992-03-01</th>\n",
       "      <td>0.660119</td>\n",
       "      <td>0.602652</td>\n",
       "      <td>0.502369</td>\n",
       "    </tr>\n",
       "    <tr>\n",
       "      <th>...</th>\n",
       "      <td>...</td>\n",
       "      <td>...</td>\n",
       "      <td>...</td>\n",
       "    </tr>\n",
       "    <tr>\n",
       "      <th>2005-02-01</th>\n",
       "      <td>1.257238</td>\n",
       "      <td>1.216037</td>\n",
       "      <td>1.181011</td>\n",
       "    </tr>\n",
       "    <tr>\n",
       "      <th>2005-03-01</th>\n",
       "      <td>1.170690</td>\n",
       "      <td>1.257238</td>\n",
       "      <td>1.216037</td>\n",
       "    </tr>\n",
       "    <tr>\n",
       "      <th>2005-04-01</th>\n",
       "      <td>0.597639</td>\n",
       "      <td>1.170690</td>\n",
       "      <td>1.257238</td>\n",
       "    </tr>\n",
       "    <tr>\n",
       "      <th>2005-05-01</th>\n",
       "      <td>0.652590</td>\n",
       "      <td>0.597639</td>\n",
       "      <td>1.170690</td>\n",
       "    </tr>\n",
       "    <tr>\n",
       "      <th>2005-06-01</th>\n",
       "      <td>0.670505</td>\n",
       "      <td>0.652590</td>\n",
       "      <td>0.597639</td>\n",
       "    </tr>\n",
       "  </tbody>\n",
       "</table>\n",
       "<p>164 rows × 3 columns</p>\n",
       "</div>"
      ],
      "text/plain": [
       "               lag_1     lag_2     lag_3\n",
       "datetime                                \n",
       "1991-11-01  0.432159  0.400906  0.429795\n",
       "1991-12-01  0.492543  0.432159  0.400906\n",
       "1992-01-01  0.502369  0.492543  0.432159\n",
       "1992-02-01  0.602652  0.502369  0.492543\n",
       "1992-03-01  0.660119  0.602652  0.502369\n",
       "...              ...       ...       ...\n",
       "2005-02-01  1.257238  1.216037  1.181011\n",
       "2005-03-01  1.170690  1.257238  1.216037\n",
       "2005-04-01  0.597639  1.170690  1.257238\n",
       "2005-05-01  0.652590  0.597639  1.170690\n",
       "2005-06-01  0.670505  0.652590  0.597639\n",
       "\n",
       "[164 rows x 3 columns]"
      ]
     },
     "execution_count": 17,
     "metadata": {},
     "output_type": "execute_result"
    }
   ],
   "source": [
    "forecaster = ForecasterAutoregDirect(LinearRegression(), lags=3, steps=2)\n",
    "X_train, y_train = forecaster.create_train_X_y(\n",
    "                        y    = data_train\n",
    "                    )\n",
    "results = forecaster.filter_train_X_y_for_step(step=2, X_train=X_train, y_train=y_train)\n",
    "results[0]"
   ]
  },
  {
   "cell_type": "code",
   "execution_count": 18,
   "id": "e80611e6",
   "metadata": {},
   "outputs": [
    {
     "data": {
      "text/plain": [
       "datetime\n",
       "1991-11-01    0.502369\n",
       "1991-12-01    0.602652\n",
       "1992-01-01    0.660119\n",
       "1992-02-01    0.336220\n",
       "1992-03-01    0.351348\n",
       "                ...   \n",
       "2005-02-01    0.597639\n",
       "2005-03-01    0.652590\n",
       "2005-04-01    0.670505\n",
       "2005-05-01    0.695248\n",
       "2005-06-01    0.842263\n",
       "Freq: MS, Name: y_step_2, Length: 164, dtype: float64"
      ]
     },
     "execution_count": 18,
     "metadata": {},
     "output_type": "execute_result"
    }
   ],
   "source": [
    "results[1]"
   ]
  },
  {
   "cell_type": "code",
   "execution_count": 20,
   "id": "5b39db40",
   "metadata": {},
   "outputs": [
    {
     "data": {
      "text/plain": [
       "datetime\n",
       "2005-03-01    0.652590\n",
       "2005-04-01    0.670505\n",
       "2005-05-01    0.695248\n",
       "2005-06-01    0.842263\n",
       "Freq: MS, Name: y, dtype: float64"
      ]
     },
     "execution_count": 20,
     "metadata": {},
     "output_type": "execute_result"
    }
   ],
   "source": [
    "data_train.loc[results[1].index[-1] - forecaster.max_lag * results[1].index.freq: ]"
   ]
  },
  {
   "cell_type": "code",
   "execution_count": 42,
   "id": "f6a38169",
   "metadata": {},
   "outputs": [
    {
     "name": "stdout",
     "output_type": "stream",
     "text": [
      "6    6\n",
      "7    7\n",
      "8    8\n",
      "9    9\n",
      "dtype: int32\n"
     ]
    },
    {
     "data": {
      "text/plain": [
       "10    10.0\n",
       "11    11.0\n",
       "Name: pred, dtype: float64"
      ]
     },
     "execution_count": 42,
     "metadata": {},
     "output_type": "execute_result"
    }
   ],
   "source": [
    "y = pd.Series(np.arange(10))\n",
    "\n",
    "forecaster = ForecasterAutoregDirect(LinearRegression(), lags=3, steps=2)\n",
    "forecaster.fit(y=y)\n",
    "\n",
    "print(forecaster.last_window)\n",
    "forecaster.predict()"
   ]
  },
  {
   "cell_type": "code",
   "execution_count": null,
   "id": "cfc6bb23",
   "metadata": {},
   "outputs": [],
   "source": [
    "X_train, y_train = forecaster.create_train_X_y(\n",
    "                        y    = y\n",
    "                    )\n",
    "results = forecaster.filter_train_X_y_for_step(step=2, X_train=X_train, y_train=y_train)\n",
    "results[0]"
   ]
  },
  {
   "cell_type": "code",
   "execution_count": 43,
   "id": "e0471a36",
   "metadata": {},
   "outputs": [
    {
     "data": {
      "text/plain": [
       "7    7\n",
       "8    8\n",
       "9    9\n",
       "dtype: int32"
      ]
     },
     "execution_count": 43,
     "metadata": {},
     "output_type": "execute_result"
    }
   ],
   "source": [
    "lw = y.iloc[-forecaster.max_lag:]\n",
    "# lw2 = y.loc[y_train.index[-1] - forecaster.max_lag * y_train.index.freq: ]\n",
    "lw"
   ]
  },
  {
   "cell_type": "code",
   "execution_count": 44,
   "id": "73732a77",
   "metadata": {},
   "outputs": [
    {
     "data": {
      "text/plain": [
       "10    10.0\n",
       "11    11.0\n",
       "Name: pred, dtype: float64"
      ]
     },
     "execution_count": 44,
     "metadata": {},
     "output_type": "execute_result"
    }
   ],
   "source": [
    "forecaster.predict(last_window=lw)"
   ]
  },
  {
   "cell_type": "code",
   "execution_count": 49,
   "id": "7e8c2d38",
   "metadata": {},
   "outputs": [
    {
     "data": {
      "text/plain": [
       "2"
      ]
     },
     "execution_count": 49,
     "metadata": {},
     "output_type": "execute_result"
    }
   ],
   "source": [
    "forecaster.steps"
   ]
  },
  {
   "cell_type": "code",
   "execution_count": null,
   "id": "271f520a",
   "metadata": {},
   "outputs": [],
   "source": []
  },
  {
   "cell_type": "code",
   "execution_count": 9,
   "id": "58a5be09",
   "metadata": {},
   "outputs": [
    {
     "data": {
      "text/plain": [
       "{'l1': 3, 'l2': 3}"
      ]
     },
     "execution_count": 9,
     "metadata": {},
     "output_type": "execute_result"
    }
   ],
   "source": [
    "lags = 3\n",
    "multivariate_series = ['l1', 'l2']\n",
    "\n",
    "dict_lags = {serie: lags for serie in multivariate_series}\n",
    "lags = dict_lags\n",
    "\n",
    "lags"
   ]
  },
  {
   "cell_type": "code",
   "execution_count": 12,
   "id": "83653789",
   "metadata": {},
   "outputs": [
    {
     "data": {
      "text/plain": [
       "{'l1': [1, 2, 3], 'l2': [1, 2, 3]}"
      ]
     },
     "execution_count": 12,
     "metadata": {},
     "output_type": "execute_result"
    }
   ],
   "source": [
    "lags = [1, 2, 3]\n",
    "multivariate_series = ['l1', 'l2']\n",
    "\n",
    "lags = {serie: lags for serie in multivariate_series}\n",
    "\n",
    "lags"
   ]
  },
  {
   "cell_type": "code",
   "execution_count": 13,
   "id": "f8053ed8",
   "metadata": {},
   "outputs": [
    {
     "data": {
      "text/plain": [
       "{'l1': [1, 2, 3], 'l2': [1, 2, 3]}"
      ]
     },
     "execution_count": 13,
     "metadata": {},
     "output_type": "execute_result"
    }
   ],
   "source": [
    "lags"
   ]
  },
  {
   "cell_type": "code",
   "execution_count": 14,
   "id": "cd4faf20",
   "metadata": {},
   "outputs": [
    {
     "data": {
      "text/plain": [
       "['l1_lag_1', 'l1_lag_2', 'l1_lag_3', 'l2_lag_1', 'l2_lag_2', 'l2_lag_3']"
      ]
     },
     "execution_count": 14,
     "metadata": {},
     "output_type": "execute_result"
    }
   ],
   "source": [
    "[f\"{key}_lag_{lag}\" for key in lags for lag in lags[key]]"
   ]
  },
  {
   "cell_type": "code",
   "execution_count": 15,
   "id": "b8c03760",
   "metadata": {},
   "outputs": [
    {
     "name": "stdout",
     "output_type": "stream",
     "text": [
      "1\n"
     ]
    }
   ],
   "source": [
    "serie = 'l1'\n",
    "series = ['1', '2', '3']\n",
    "\n",
    "if serie not in series:\n",
    "    print(1)"
   ]
  },
  {
   "cell_type": "markdown",
   "id": "d6b8f5e8",
   "metadata": {},
   "source": [
    "## ForecasterAutoregMultiVariate"
   ]
  },
  {
   "cell_type": "code",
   "execution_count": 4,
   "id": "adce8856",
   "metadata": {},
   "outputs": [
    {
     "name": "stderr",
     "output_type": "stream",
     "text": [
      "c:\\Users\\jaesc2\\Miniconda3\\envs\\skforecast\\lib\\site-packages\\statsmodels\\compat\\pandas.py:61: FutureWarning: pandas.Int64Index is deprecated and will be removed from pandas in a future version. Use pandas.Index with the appropriate dtype instead.\n",
      "  from pandas import Int64Index as NumericIndex\n"
     ]
    }
   ],
   "source": [
    "# Data processing\n",
    "# ==============================================================================\n",
    "import numpy as np\n",
    "import pandas as pd\n",
    "\n",
    "# Plots\n",
    "# ==============================================================================\n",
    "import matplotlib.pyplot as plt\n",
    "import matplotlib.ticker as ticker\n",
    "from statsmodels.graphics.tsaplots import plot_acf\n",
    "from statsmodels.graphics.tsaplots import plot_pacf\n",
    "plt.style.use('fivethirtyeight')\n",
    "plt.rcParams['lines.linewidth'] = 1.5\n",
    "dark_style = {\n",
    "    'figure.facecolor'  : '#212946',\n",
    "    'axes.facecolor'    : '#212946',\n",
    "    'savefig.facecolor' :'#212946',\n",
    "    'axes.grid'         : True,\n",
    "    'axes.grid.which'   : 'both',\n",
    "    'axes.spines.left'  : False,\n",
    "    'axes.spines.right' : False,\n",
    "    'axes.spines.top'   : False,\n",
    "    'axes.spines.bottom': False,\n",
    "    'grid.color'        : '#2A3459',\n",
    "    'grid.linewidth'    : '1',\n",
    "    'text.color'        : '0.9',\n",
    "    'axes.labelcolor'   : '0.9',\n",
    "    'xtick.color'       : '0.9',\n",
    "    'ytick.color'       : '0.9',\n",
    "    'font.size'         : 12\n",
    "}\n",
    "plt.rcParams.update(dark_style)\n",
    "\n",
    "# Modelling and Forecasting\n",
    "# ==============================================================================\n",
    "from lightgbm import LGBMRegressor\n",
    "from skforecast.ForecasterAutoregDirect import ForecasterAutoregDirect\n",
    "from skforecast.ForecasterAutoregMultiVariate import ForecasterAutoregMultiVariate\n",
    "from skforecast.model_selection import grid_search_forecaster\n",
    "from skforecast.model_selection import backtesting_forecaster\n",
    "from sklearn.metrics import mean_pinball_loss\n",
    "\n",
    "# Configuration\n",
    "# ==============================================================================\n",
    "import warnings\n",
    "warnings.filterwarnings('once')\n",
    "%config Completer.use_jedi = False"
   ]
  },
  {
   "cell_type": "code",
   "execution_count": 5,
   "id": "0f6dba7e",
   "metadata": {},
   "outputs": [
    {
     "data": {
      "text/html": [
       "<div>\n",
       "<style scoped>\n",
       "    .dataframe tbody tr th:only-of-type {\n",
       "        vertical-align: middle;\n",
       "    }\n",
       "\n",
       "    .dataframe tbody tr th {\n",
       "        vertical-align: top;\n",
       "    }\n",
       "\n",
       "    .dataframe thead th {\n",
       "        text-align: right;\n",
       "    }\n",
       "</style>\n",
       "<table border=\"1\" class=\"dataframe\">\n",
       "  <thead>\n",
       "    <tr style=\"text-align: right;\">\n",
       "      <th></th>\n",
       "      <th>Demand</th>\n",
       "      <th>Temperature</th>\n",
       "      <th>Holiday</th>\n",
       "    </tr>\n",
       "    <tr>\n",
       "      <th>Time</th>\n",
       "      <th></th>\n",
       "      <th></th>\n",
       "      <th></th>\n",
       "    </tr>\n",
       "  </thead>\n",
       "  <tbody>\n",
       "    <tr>\n",
       "      <th>2012-01-01</th>\n",
       "      <td>82531.745918</td>\n",
       "      <td>21.047727</td>\n",
       "      <td>True</td>\n",
       "    </tr>\n",
       "    <tr>\n",
       "      <th>2012-01-02</th>\n",
       "      <td>227778.257304</td>\n",
       "      <td>26.578125</td>\n",
       "      <td>True</td>\n",
       "    </tr>\n",
       "    <tr>\n",
       "      <th>2012-01-03</th>\n",
       "      <td>275490.988882</td>\n",
       "      <td>31.751042</td>\n",
       "      <td>True</td>\n",
       "    </tr>\n",
       "    <tr>\n",
       "      <th>2012-01-04</th>\n",
       "      <td>258955.329422</td>\n",
       "      <td>24.567708</td>\n",
       "      <td>False</td>\n",
       "    </tr>\n",
       "    <tr>\n",
       "      <th>2012-01-05</th>\n",
       "      <td>213792.376946</td>\n",
       "      <td>18.191667</td>\n",
       "      <td>False</td>\n",
       "    </tr>\n",
       "  </tbody>\n",
       "</table>\n",
       "</div>"
      ],
      "text/plain": [
       "                   Demand  Temperature  Holiday\n",
       "Time                                           \n",
       "2012-01-01   82531.745918    21.047727     True\n",
       "2012-01-02  227778.257304    26.578125     True\n",
       "2012-01-03  275490.988882    31.751042     True\n",
       "2012-01-04  258955.329422    24.567708    False\n",
       "2012-01-05  213792.376946    18.191667    False"
      ]
     },
     "execution_count": 5,
     "metadata": {},
     "output_type": "execute_result"
    }
   ],
   "source": [
    "# Data download\n",
    "# ==============================================================================\n",
    "url = ('https://raw.githubusercontent.com/JoaquinAmatRodrigo/skforecast/master/' +\n",
    "       'data/vic_elec.csv')\n",
    "data = pd.read_csv(url, sep=',')\n",
    "\n",
    "# Data preparation (aggregation at daily level)\n",
    "# ==============================================================================\n",
    "data['Time'] = pd.to_datetime(data['Time'], format='%Y-%m-%dT%H:%M:%SZ')\n",
    "data = data.set_index('Time')\n",
    "data = data.asfreq('30min')\n",
    "data = data.sort_index()\n",
    "data = data.drop(columns='Date')\n",
    "data = data.resample(rule='D', closed='left', label ='right')\\\n",
    "       .agg({'Demand': 'sum', 'Temperature': 'mean', 'Holiday': 'max'})\n",
    "data.head()"
   ]
  },
  {
   "cell_type": "code",
   "execution_count": 6,
   "id": "ef0c48eb",
   "metadata": {},
   "outputs": [
    {
     "name": "stdout",
     "output_type": "stream",
     "text": [
      "Train dates      : 2012-01-01 00:00:00 --- 2013-12-31 00:00:00  (n=731)\n",
      "Validation dates : 2014-01-01 00:00:00 --- 2014-09-30 00:00:00  (n=273)\n",
      "Test dates       : 2014-10-01 00:00:00 --- 2014-12-30 00:00:00  (n=91)\n"
     ]
    }
   ],
   "source": [
    "# Split data into train-val-test\n",
    "# ==============================================================================\n",
    "# data = data.loc['2012-01-01 00:00:00': '2014-12-30 23:00:00', ['Demand', 'Temperature']]\n",
    "data = data.loc['2012-01-01 00:00:00': '2014-12-30 23:00:00', ]\n",
    "end_train = '2013-12-31 23:59:00'\n",
    "end_validation = '2014-9-30 23:59:00'\n",
    "data_train = data.loc[: end_train, :].copy()\n",
    "data_val   = data.loc[end_train:end_validation, :].copy()\n",
    "data_test  = data.loc[end_validation:, :].copy()\n",
    "\n",
    "print(f\"Train dates      : {data_train.index.min()} --- {data_train.index.max()}  (n={len(data_train)})\")\n",
    "print(f\"Validation dates : {data_val.index.min()} --- {data_val.index.max()}  (n={len(data_val)})\")\n",
    "print(f\"Test dates       : {data_test.index.min()} --- {data_test.index.max()}  (n={len(data_test)})\")"
   ]
  },
  {
   "cell_type": "code",
   "execution_count": 7,
   "id": "35d79e68",
   "metadata": {},
   "outputs": [
    {
     "data": {
      "image/png": "[encoded data removed]",
      "text/plain": [
       "<Figure size 1100x400 with 1 Axes>"
      ]
     },
     "metadata": {},
     "output_type": "display_data"
    }
   ],
   "source": [
    "# Plot time series partition\n",
    "# ==============================================================================\n",
    "fig, ax = plt.subplots(figsize=(11, 4))\n",
    "data_train['Demand'].plot(label='train', ax=ax)\n",
    "data_val['Demand'].plot(label='validation', ax=ax)\n",
    "data_test['Demand'].plot(label='test', ax=ax)\n",
    "ax.yaxis.set_major_formatter(ticker.EngFormatter())\n",
    "ax.set_ylim(bottom=160_000)\n",
    "ax.set_ylabel('MW')\n",
    "ax.set_title('Energy demand')\n",
    "ax.legend();"
   ]
  },
  {
   "cell_type": "code",
   "execution_count": 130,
   "id": "06abcf0d",
   "metadata": {},
   "outputs": [],
   "source": [
    "from skforecast.ForecasterAutoregMultiSeries import ForecasterAutoregMultiSeries\n",
    "from sklearn.preprocessing import StandardScaler\n",
    "\n",
    "# Create and fit forecaster multi series\n",
    "# ==============================================================================\n",
    "forecaster = ForecasterAutoregMultiSeries(\n",
    "                 regressor          = LGBMRegressor(),\n",
    "                 lags               = 24,\n",
    "                 transformer_series = StandardScaler(),\n",
    "                 transformer_exog   = None\n",
    "             )\n",
    "\n",
    "forecaster.fit(series=data_train)"
   ]
  },
  {
   "cell_type": "code",
   "execution_count": 131,
   "id": "ad8def6c",
   "metadata": {},
   "outputs": [
    {
     "data": {
      "text/html": [
       "<style>#sk-container-id-2 {color: black;background-color: white;}#sk-container-id-2 pre{padding: 0;}#sk-container-id-2 div.sk-toggleable {background-color: white;}#sk-container-id-2 label.sk-toggleable__label {cursor: pointer;display: block;width: 100%;margin-bottom: 0;padding: 0.3em;box-sizing: border-box;text-align: center;}#sk-container-id-2 label.sk-toggleable__label-arrow:before {content: \"▸\";float: left;margin-right: 0.25em;color: #696969;}#sk-container-id-2 label.sk-toggleable__label-arrow:hover:before {color: black;}#sk-container-id-2 div.sk-estimator:hover label.sk-toggleable__label-arrow:before {color: black;}#sk-container-id-2 div.sk-toggleable__content {max-height: 0;max-width: 0;overflow: hidden;text-align: left;background-color: #f0f8ff;}#sk-container-id-2 div.sk-toggleable__content pre {margin: 0.2em;color: black;border-radius: 0.25em;background-color: #f0f8ff;}#sk-container-id-2 input.sk-toggleable__control:checked~div.sk-toggleable__content {max-height: 200px;max-width: 100%;overflow: auto;}#sk-container-id-2 input.sk-toggleable__control:checked~label.sk-toggleable__label-arrow:before {content: \"▾\";}#sk-container-id-2 div.sk-estimator input.sk-toggleable__control:checked~label.sk-toggleable__label {background-color: #d4ebff;}#sk-container-id-2 div.sk-label input.sk-toggleable__control:checked~label.sk-toggleable__label {background-color: #d4ebff;}#sk-container-id-2 input.sk-hidden--visually {border: 0;clip: rect(1px 1px 1px 1px);clip: rect(1px, 1px, 1px, 1px);height: 1px;margin: -1px;overflow: hidden;padding: 0;position: absolute;width: 1px;}#sk-container-id-2 div.sk-estimator {font-family: monospace;background-color: #f0f8ff;border: 1px dotted black;border-radius: 0.25em;box-sizing: border-box;margin-bottom: 0.5em;}#sk-container-id-2 div.sk-estimator:hover {background-color: #d4ebff;}#sk-container-id-2 div.sk-parallel-item::after {content: \"\";width: 100%;border-bottom: 1px solid gray;flex-grow: 1;}#sk-container-id-2 div.sk-label:hover label.sk-toggleable__label {background-color: #d4ebff;}#sk-container-id-2 div.sk-serial::before {content: \"\";position: absolute;border-left: 1px solid gray;box-sizing: border-box;top: 0;bottom: 0;left: 50%;z-index: 0;}#sk-container-id-2 div.sk-serial {display: flex;flex-direction: column;align-items: center;background-color: white;padding-right: 0.2em;padding-left: 0.2em;position: relative;}#sk-container-id-2 div.sk-item {position: relative;z-index: 1;}#sk-container-id-2 div.sk-parallel {display: flex;align-items: stretch;justify-content: center;background-color: white;position: relative;}#sk-container-id-2 div.sk-item::before, #sk-container-id-2 div.sk-parallel-item::before {content: \"\";position: absolute;border-left: 1px solid gray;box-sizing: border-box;top: 0;bottom: 0;left: 50%;z-index: -1;}#sk-container-id-2 div.sk-parallel-item {display: flex;flex-direction: column;z-index: 1;position: relative;background-color: white;}#sk-container-id-2 div.sk-parallel-item:first-child::after {align-self: flex-end;width: 50%;}#sk-container-id-2 div.sk-parallel-item:last-child::after {align-self: flex-start;width: 50%;}#sk-container-id-2 div.sk-parallel-item:only-child::after {width: 0;}#sk-container-id-2 div.sk-dashed-wrapped {border: 1px dashed gray;margin: 0 0.4em 0.5em 0.4em;box-sizing: border-box;padding-bottom: 0.4em;background-color: white;}#sk-container-id-2 div.sk-label label {font-family: monospace;font-weight: bold;display: inline-block;line-height: 1.2em;}#sk-container-id-2 div.sk-label-container {text-align: center;}#sk-container-id-2 div.sk-container {/* jupyter's `normalize.less` sets `[hidden] { display: none; }` but bootstrap.min.css set `[hidden] { display: none !important; }` so we also need the `!important` here to be able to override the default hidden behavior on the sphinx rendered scikit-learn.org. See: https://github.com/scikit-learn/scikit-learn/issues/21755 */display: inline-block !important;position: relative;}#sk-container-id-2 div.sk-text-repr-fallback {display: none;}</style><div id=\"sk-container-id-2\" class=\"sk-top-container\"><div class=\"sk-text-repr-fallback\"><pre>StandardScaler()</pre><b>In a Jupyter environment, please rerun this cell to show the HTML representation or trust the notebook. <br />On GitHub, the HTML representation is unable to render, please try loading this page with nbviewer.org.</b></div><div class=\"sk-container\" hidden><div class=\"sk-item\"><div class=\"sk-estimator sk-toggleable\"><input class=\"sk-toggleable__control sk-hidden--visually\" id=\"sk-estimator-id-2\" type=\"checkbox\" checked><label for=\"sk-estimator-id-2\" class=\"sk-toggleable__label sk-toggleable__label-arrow\">StandardScaler</label><div class=\"sk-toggleable__content\"><pre>StandardScaler()</pre></div></div></div></div></div>"
      ],
      "text/plain": [
       "StandardScaler()"
      ]
     },
     "execution_count": 131,
     "metadata": {},
     "output_type": "execute_result"
    }
   ],
   "source": [
    "forecaster.transformer_series"
   ]
  },
  {
   "cell_type": "code",
   "execution_count": 132,
   "id": "1e20879b",
   "metadata": {},
   "outputs": [
    {
     "data": {
      "text/plain": [
       "{'Demand': StandardScaler(),\n",
       " 'Temperature': StandardScaler(),\n",
       " 'Holiday': StandardScaler()}"
      ]
     },
     "execution_count": 132,
     "metadata": {},
     "output_type": "execute_result"
    }
   ],
   "source": [
    "forecaster.transformer_series_"
   ]
  },
  {
   "cell_type": "code",
   "execution_count": 133,
   "id": "8730966b",
   "metadata": {},
   "outputs": [],
   "source": [
    "forecaster.fit(series=data_train[['Demand', 'Temperature']])"
   ]
  },
  {
   "cell_type": "code",
   "execution_count": 134,
   "id": "e3cd1632",
   "metadata": {},
   "outputs": [
    {
     "data": {
      "text/html": [
       "<style>#sk-container-id-3 {color: black;background-color: white;}#sk-container-id-3 pre{padding: 0;}#sk-container-id-3 div.sk-toggleable {background-color: white;}#sk-container-id-3 label.sk-toggleable__label {cursor: pointer;display: block;width: 100%;margin-bottom: 0;padding: 0.3em;box-sizing: border-box;text-align: center;}#sk-container-id-3 label.sk-toggleable__label-arrow:before {content: \"▸\";float: left;margin-right: 0.25em;color: #696969;}#sk-container-id-3 label.sk-toggleable__label-arrow:hover:before {color: black;}#sk-container-id-3 div.sk-estimator:hover label.sk-toggleable__label-arrow:before {color: black;}#sk-container-id-3 div.sk-toggleable__content {max-height: 0;max-width: 0;overflow: hidden;text-align: left;background-color: #f0f8ff;}#sk-container-id-3 div.sk-toggleable__content pre {margin: 0.2em;color: black;border-radius: 0.25em;background-color: #f0f8ff;}#sk-container-id-3 input.sk-toggleable__control:checked~div.sk-toggleable__content {max-height: 200px;max-width: 100%;overflow: auto;}#sk-container-id-3 input.sk-toggleable__control:checked~label.sk-toggleable__label-arrow:before {content: \"▾\";}#sk-container-id-3 div.sk-estimator input.sk-toggleable__control:checked~label.sk-toggleable__label {background-color: #d4ebff;}#sk-container-id-3 div.sk-label input.sk-toggleable__control:checked~label.sk-toggleable__label {background-color: #d4ebff;}#sk-container-id-3 input.sk-hidden--visually {border: 0;clip: rect(1px 1px 1px 1px);clip: rect(1px, 1px, 1px, 1px);height: 1px;margin: -1px;overflow: hidden;padding: 0;position: absolute;width: 1px;}#sk-container-id-3 div.sk-estimator {font-family: monospace;background-color: #f0f8ff;border: 1px dotted black;border-radius: 0.25em;box-sizing: border-box;margin-bottom: 0.5em;}#sk-container-id-3 div.sk-estimator:hover {background-color: #d4ebff;}#sk-container-id-3 div.sk-parallel-item::after {content: \"\";width: 100%;border-bottom: 1px solid gray;flex-grow: 1;}#sk-container-id-3 div.sk-label:hover label.sk-toggleable__label {background-color: #d4ebff;}#sk-container-id-3 div.sk-serial::before {content: \"\";position: absolute;border-left: 1px solid gray;box-sizing: border-box;top: 0;bottom: 0;left: 50%;z-index: 0;}#sk-container-id-3 div.sk-serial {display: flex;flex-direction: column;align-items: center;background-color: white;padding-right: 0.2em;padding-left: 0.2em;position: relative;}#sk-container-id-3 div.sk-item {position: relative;z-index: 1;}#sk-container-id-3 div.sk-parallel {display: flex;align-items: stretch;justify-content: center;background-color: white;position: relative;}#sk-container-id-3 div.sk-item::before, #sk-container-id-3 div.sk-parallel-item::before {content: \"\";position: absolute;border-left: 1px solid gray;box-sizing: border-box;top: 0;bottom: 0;left: 50%;z-index: -1;}#sk-container-id-3 div.sk-parallel-item {display: flex;flex-direction: column;z-index: 1;position: relative;background-color: white;}#sk-container-id-3 div.sk-parallel-item:first-child::after {align-self: flex-end;width: 50%;}#sk-container-id-3 div.sk-parallel-item:last-child::after {align-self: flex-start;width: 50%;}#sk-container-id-3 div.sk-parallel-item:only-child::after {width: 0;}#sk-container-id-3 div.sk-dashed-wrapped {border: 1px dashed gray;margin: 0 0.4em 0.5em 0.4em;box-sizing: border-box;padding-bottom: 0.4em;background-color: white;}#sk-container-id-3 div.sk-label label {font-family: monospace;font-weight: bold;display: inline-block;line-height: 1.2em;}#sk-container-id-3 div.sk-label-container {text-align: center;}#sk-container-id-3 div.sk-container {/* jupyter's `normalize.less` sets `[hidden] { display: none; }` but bootstrap.min.css set `[hidden] { display: none !important; }` so we also need the `!important` here to be able to override the default hidden behavior on the sphinx rendered scikit-learn.org. See: https://github.com/scikit-learn/scikit-learn/issues/21755 */display: inline-block !important;position: relative;}#sk-container-id-3 div.sk-text-repr-fallback {display: none;}</style><div id=\"sk-container-id-3\" class=\"sk-top-container\"><div class=\"sk-text-repr-fallback\"><pre>StandardScaler()</pre><b>In a Jupyter environment, please rerun this cell to show the HTML representation or trust the notebook. <br />On GitHub, the HTML representation is unable to render, please try loading this page with nbviewer.org.</b></div><div class=\"sk-container\" hidden><div class=\"sk-item\"><div class=\"sk-estimator sk-toggleable\"><input class=\"sk-toggleable__control sk-hidden--visually\" id=\"sk-estimator-id-3\" type=\"checkbox\" checked><label for=\"sk-estimator-id-3\" class=\"sk-toggleable__label sk-toggleable__label-arrow\">StandardScaler</label><div class=\"sk-toggleable__content\"><pre>StandardScaler()</pre></div></div></div></div></div>"
      ],
      "text/plain": [
       "StandardScaler()"
      ]
     },
     "execution_count": 134,
     "metadata": {},
     "output_type": "execute_result"
    }
   ],
   "source": [
    "forecaster.transformer_series"
   ]
  },
  {
   "cell_type": "code",
   "execution_count": 135,
   "id": "f909f638",
   "metadata": {},
   "outputs": [
    {
     "data": {
      "text/plain": [
       "{'Demand': StandardScaler(), 'Temperature': StandardScaler()}"
      ]
     },
     "execution_count": 135,
     "metadata": {},
     "output_type": "execute_result"
    }
   ],
   "source": [
    "forecaster.transformer_series_"
   ]
  },
  {
   "cell_type": "code",
   "execution_count": 105,
   "id": "0064774d",
   "metadata": {},
   "outputs": [
    {
     "data": {
      "text/plain": [
       "============================= \n",
       "ForecasterAutoregMultiVariate \n",
       "============================= \n",
       "Regressor: LGBMRegressor(random_state=123) \n",
       "Lags: [1 2 3 4 5 6] \n",
       "Transformer for series: None \n",
       "Transformer for exog: None \n",
       "Window size: 6 \n",
       "Multivariate series (names): None \n",
       "Maximum steps predicted: 7 \n",
       "Weight function included: False \n",
       "Exogenous included: False \n",
       "Type of exogenous variable: None \n",
       "Exogenous variables names: None \n",
       "Training range: None \n",
       "Training index type: None \n",
       "Training index frequency: None \n",
       "Regressor parameters: {'boosting_type': 'gbdt', 'class_weight': None, 'colsample_bytree': 1.0, 'importance_type': 'split', 'learning_rate': 0.1, 'max_depth': -1, 'min_child_samples': 20, 'min_child_weight': 0.001, 'min_split_gain': 0.0, 'n_estimators': 100, 'n_jobs': -1, 'num_leaves': 31, 'objective': None, 'random_state': 123, 'reg_alpha': 0.0, 'reg_lambda': 0.0, 'silent': 'warn', 'subsample': 1.0, 'subsample_for_bin': 200000, 'subsample_freq': 0} \n",
       "Creation date: 2022-11-04 11:57:17 \n",
       "Last fit date: None \n",
       "Skforecast version: 0.6.0 \n",
       "Python version: 3.9.13 "
      ]
     },
     "execution_count": 105,
     "metadata": {},
     "output_type": "execute_result"
    }
   ],
   "source": [
    "# Create forecaster\n",
    "# ==============================================================================\n",
    "forecaster = ForecasterAutoregMultiVariate(\n",
    "                 regressor = LGBMRegressor(random_state=123),\n",
    "                 level     = 'Demand',\n",
    "                 lags      = 6,\n",
    "                 steps     = 7\n",
    "             )\n",
    "\n",
    "forecaster"
   ]
  },
  {
   "cell_type": "code",
   "execution_count": 106,
   "id": "c140eac8",
   "metadata": {},
   "outputs": [
    {
     "data": {
      "text/plain": [
       "array([1, 2, 3, 4, 5, 6])"
      ]
     },
     "execution_count": 106,
     "metadata": {},
     "output_type": "execute_result"
    }
   ],
   "source": [
    "forecaster.lags"
   ]
  },
  {
   "cell_type": "code",
   "execution_count": 107,
   "id": "1a2d58ec",
   "metadata": {},
   "outputs": [
    {
     "data": {
      "text/plain": [
       "array([1, 2, 3, 4, 5, 6])"
      ]
     },
     "execution_count": 107,
     "metadata": {},
     "output_type": "execute_result"
    }
   ],
   "source": [
    "forecaster.lags_"
   ]
  },
  {
   "cell_type": "code",
   "execution_count": 108,
   "id": "689ac8ab",
   "metadata": {},
   "outputs": [
    {
     "data": {
      "text/html": [
       "<div>\n",
       "<style scoped>\n",
       "    .dataframe tbody tr th:only-of-type {\n",
       "        vertical-align: middle;\n",
       "    }\n",
       "\n",
       "    .dataframe tbody tr th {\n",
       "        vertical-align: top;\n",
       "    }\n",
       "\n",
       "    .dataframe thead th {\n",
       "        text-align: right;\n",
       "    }\n",
       "</style>\n",
       "<table border=\"1\" class=\"dataframe\">\n",
       "  <thead>\n",
       "    <tr style=\"text-align: right;\">\n",
       "      <th></th>\n",
       "      <th>Demand_lag_1</th>\n",
       "      <th>Demand_lag_2</th>\n",
       "      <th>Demand_lag_3</th>\n",
       "      <th>Demand_lag_4</th>\n",
       "      <th>Demand_lag_5</th>\n",
       "      <th>Demand_lag_6</th>\n",
       "      <th>Temperature_lag_1</th>\n",
       "      <th>Temperature_lag_2</th>\n",
       "      <th>Temperature_lag_3</th>\n",
       "      <th>Temperature_lag_4</th>\n",
       "      <th>Temperature_lag_5</th>\n",
       "      <th>Temperature_lag_6</th>\n",
       "      <th>Holiday_lag_1</th>\n",
       "      <th>Holiday_lag_2</th>\n",
       "      <th>Holiday_lag_3</th>\n",
       "      <th>Holiday_lag_4</th>\n",
       "      <th>Holiday_lag_5</th>\n",
       "      <th>Holiday_lag_6</th>\n",
       "    </tr>\n",
       "    <tr>\n",
       "      <th>Time</th>\n",
       "      <th></th>\n",
       "      <th></th>\n",
       "      <th></th>\n",
       "      <th></th>\n",
       "      <th></th>\n",
       "      <th></th>\n",
       "      <th></th>\n",
       "      <th></th>\n",
       "      <th></th>\n",
       "      <th></th>\n",
       "      <th></th>\n",
       "      <th></th>\n",
       "      <th></th>\n",
       "      <th></th>\n",
       "      <th></th>\n",
       "      <th></th>\n",
       "      <th></th>\n",
       "      <th></th>\n",
       "    </tr>\n",
       "  </thead>\n",
       "  <tbody>\n",
       "    <tr>\n",
       "      <th>2012-01-13</th>\n",
       "      <td>211066.426550</td>\n",
       "      <td>213792.376946</td>\n",
       "      <td>258955.329422</td>\n",
       "      <td>275490.988882</td>\n",
       "      <td>227778.257304</td>\n",
       "      <td>82531.745918</td>\n",
       "      <td>17.812500</td>\n",
       "      <td>18.191667</td>\n",
       "      <td>24.567708</td>\n",
       "      <td>31.751042</td>\n",
       "      <td>26.578125</td>\n",
       "      <td>21.047727</td>\n",
       "      <td>0.0</td>\n",
       "      <td>0.0</td>\n",
       "      <td>0.0</td>\n",
       "      <td>1.0</td>\n",
       "      <td>1.0</td>\n",
       "      <td>1.0</td>\n",
       "    </tr>\n",
       "    <tr>\n",
       "      <th>2012-01-14</th>\n",
       "      <td>205338.714620</td>\n",
       "      <td>211066.426550</td>\n",
       "      <td>213792.376946</td>\n",
       "      <td>258955.329422</td>\n",
       "      <td>275490.988882</td>\n",
       "      <td>227778.257304</td>\n",
       "      <td>19.510417</td>\n",
       "      <td>17.812500</td>\n",
       "      <td>18.191667</td>\n",
       "      <td>24.567708</td>\n",
       "      <td>31.751042</td>\n",
       "      <td>26.578125</td>\n",
       "      <td>0.0</td>\n",
       "      <td>0.0</td>\n",
       "      <td>0.0</td>\n",
       "      <td>0.0</td>\n",
       "      <td>1.0</td>\n",
       "      <td>1.0</td>\n",
       "    </tr>\n",
       "    <tr>\n",
       "      <th>2012-01-15</th>\n",
       "      <td>200693.270298</td>\n",
       "      <td>205338.714620</td>\n",
       "      <td>211066.426550</td>\n",
       "      <td>213792.376946</td>\n",
       "      <td>258955.329422</td>\n",
       "      <td>275490.988882</td>\n",
       "      <td>24.098958</td>\n",
       "      <td>19.510417</td>\n",
       "      <td>17.812500</td>\n",
       "      <td>18.191667</td>\n",
       "      <td>24.567708</td>\n",
       "      <td>31.751042</td>\n",
       "      <td>0.0</td>\n",
       "      <td>0.0</td>\n",
       "      <td>0.0</td>\n",
       "      <td>0.0</td>\n",
       "      <td>0.0</td>\n",
       "      <td>1.0</td>\n",
       "    </tr>\n",
       "    <tr>\n",
       "      <th>2012-01-16</th>\n",
       "      <td>200061.614738</td>\n",
       "      <td>200693.270298</td>\n",
       "      <td>205338.714620</td>\n",
       "      <td>211066.426550</td>\n",
       "      <td>213792.376946</td>\n",
       "      <td>258955.329422</td>\n",
       "      <td>20.223958</td>\n",
       "      <td>24.098958</td>\n",
       "      <td>19.510417</td>\n",
       "      <td>17.812500</td>\n",
       "      <td>18.191667</td>\n",
       "      <td>24.567708</td>\n",
       "      <td>0.0</td>\n",
       "      <td>0.0</td>\n",
       "      <td>0.0</td>\n",
       "      <td>0.0</td>\n",
       "      <td>0.0</td>\n",
       "      <td>0.0</td>\n",
       "    </tr>\n",
       "    <tr>\n",
       "      <th>2012-01-17</th>\n",
       "      <td>216201.836844</td>\n",
       "      <td>200061.614738</td>\n",
       "      <td>200693.270298</td>\n",
       "      <td>205338.714620</td>\n",
       "      <td>211066.426550</td>\n",
       "      <td>213792.376946</td>\n",
       "      <td>19.161458</td>\n",
       "      <td>20.223958</td>\n",
       "      <td>24.098958</td>\n",
       "      <td>19.510417</td>\n",
       "      <td>17.812500</td>\n",
       "      <td>18.191667</td>\n",
       "      <td>0.0</td>\n",
       "      <td>0.0</td>\n",
       "      <td>0.0</td>\n",
       "      <td>0.0</td>\n",
       "      <td>0.0</td>\n",
       "      <td>0.0</td>\n",
       "    </tr>\n",
       "    <tr>\n",
       "      <th>...</th>\n",
       "      <td>...</td>\n",
       "      <td>...</td>\n",
       "      <td>...</td>\n",
       "      <td>...</td>\n",
       "      <td>...</td>\n",
       "      <td>...</td>\n",
       "      <td>...</td>\n",
       "      <td>...</td>\n",
       "      <td>...</td>\n",
       "      <td>...</td>\n",
       "      <td>...</td>\n",
       "      <td>...</td>\n",
       "      <td>...</td>\n",
       "      <td>...</td>\n",
       "      <td>...</td>\n",
       "      <td>...</td>\n",
       "      <td>...</td>\n",
       "      <td>...</td>\n",
       "    </tr>\n",
       "    <tr>\n",
       "      <th>2013-12-27</th>\n",
       "      <td>288719.964068</td>\n",
       "      <td>243686.647524</td>\n",
       "      <td>225126.095924</td>\n",
       "      <td>219991.933602</td>\n",
       "      <td>193253.553056</td>\n",
       "      <td>180247.188308</td>\n",
       "      <td>29.289583</td>\n",
       "      <td>21.720833</td>\n",
       "      <td>16.989583</td>\n",
       "      <td>16.925000</td>\n",
       "      <td>17.031250</td>\n",
       "      <td>16.237500</td>\n",
       "      <td>0.0</td>\n",
       "      <td>0.0</td>\n",
       "      <td>0.0</td>\n",
       "      <td>0.0</td>\n",
       "      <td>0.0</td>\n",
       "      <td>0.0</td>\n",
       "    </tr>\n",
       "    <tr>\n",
       "      <th>2013-12-28</th>\n",
       "      <td>220660.723898</td>\n",
       "      <td>288719.964068</td>\n",
       "      <td>243686.647524</td>\n",
       "      <td>225126.095924</td>\n",
       "      <td>219991.933602</td>\n",
       "      <td>193253.553056</td>\n",
       "      <td>18.445833</td>\n",
       "      <td>29.289583</td>\n",
       "      <td>21.720833</td>\n",
       "      <td>16.989583</td>\n",
       "      <td>16.925000</td>\n",
       "      <td>17.031250</td>\n",
       "      <td>0.0</td>\n",
       "      <td>0.0</td>\n",
       "      <td>0.0</td>\n",
       "      <td>0.0</td>\n",
       "      <td>0.0</td>\n",
       "      <td>0.0</td>\n",
       "    </tr>\n",
       "    <tr>\n",
       "      <th>2013-12-29</th>\n",
       "      <td>194898.909304</td>\n",
       "      <td>220660.723898</td>\n",
       "      <td>288719.964068</td>\n",
       "      <td>243686.647524</td>\n",
       "      <td>225126.095924</td>\n",
       "      <td>219991.933602</td>\n",
       "      <td>19.337500</td>\n",
       "      <td>18.445833</td>\n",
       "      <td>29.289583</td>\n",
       "      <td>21.720833</td>\n",
       "      <td>16.989583</td>\n",
       "      <td>16.925000</td>\n",
       "      <td>0.0</td>\n",
       "      <td>0.0</td>\n",
       "      <td>0.0</td>\n",
       "      <td>0.0</td>\n",
       "      <td>0.0</td>\n",
       "      <td>0.0</td>\n",
       "    </tr>\n",
       "    <tr>\n",
       "      <th>2013-12-30</th>\n",
       "      <td>200058.040276</td>\n",
       "      <td>194898.909304</td>\n",
       "      <td>220660.723898</td>\n",
       "      <td>288719.964068</td>\n",
       "      <td>243686.647524</td>\n",
       "      <td>225126.095924</td>\n",
       "      <td>20.535417</td>\n",
       "      <td>19.337500</td>\n",
       "      <td>18.445833</td>\n",
       "      <td>29.289583</td>\n",
       "      <td>21.720833</td>\n",
       "      <td>16.989583</td>\n",
       "      <td>0.0</td>\n",
       "      <td>0.0</td>\n",
       "      <td>0.0</td>\n",
       "      <td>0.0</td>\n",
       "      <td>0.0</td>\n",
       "      <td>0.0</td>\n",
       "    </tr>\n",
       "    <tr>\n",
       "      <th>2013-12-31</th>\n",
       "      <td>195748.837328</td>\n",
       "      <td>200058.040276</td>\n",
       "      <td>194898.909304</td>\n",
       "      <td>220660.723898</td>\n",
       "      <td>288719.964068</td>\n",
       "      <td>243686.647524</td>\n",
       "      <td>15.447917</td>\n",
       "      <td>20.535417</td>\n",
       "      <td>19.337500</td>\n",
       "      <td>18.445833</td>\n",
       "      <td>29.289583</td>\n",
       "      <td>21.720833</td>\n",
       "      <td>0.0</td>\n",
       "      <td>0.0</td>\n",
       "      <td>0.0</td>\n",
       "      <td>0.0</td>\n",
       "      <td>0.0</td>\n",
       "      <td>0.0</td>\n",
       "    </tr>\n",
       "  </tbody>\n",
       "</table>\n",
       "<p>719 rows × 18 columns</p>\n",
       "</div>"
      ],
      "text/plain": [
       "             Demand_lag_1   Demand_lag_2   Demand_lag_3   Demand_lag_4  \\\n",
       "Time                                                                     \n",
       "2012-01-13  211066.426550  213792.376946  258955.329422  275490.988882   \n",
       "2012-01-14  205338.714620  211066.426550  213792.376946  258955.329422   \n",
       "2012-01-15  200693.270298  205338.714620  211066.426550  213792.376946   \n",
       "2012-01-16  200061.614738  200693.270298  205338.714620  211066.426550   \n",
       "2012-01-17  216201.836844  200061.614738  200693.270298  205338.714620   \n",
       "...                   ...            ...            ...            ...   \n",
       "2013-12-27  288719.964068  243686.647524  225126.095924  219991.933602   \n",
       "2013-12-28  220660.723898  288719.964068  243686.647524  225126.095924   \n",
       "2013-12-29  194898.909304  220660.723898  288719.964068  243686.647524   \n",
       "2013-12-30  200058.040276  194898.909304  220660.723898  288719.964068   \n",
       "2013-12-31  195748.837328  200058.040276  194898.909304  220660.723898   \n",
       "\n",
       "             Demand_lag_5   Demand_lag_6  Temperature_lag_1  \\\n",
       "Time                                                          \n",
       "2012-01-13  227778.257304   82531.745918          17.812500   \n",
       "2012-01-14  275490.988882  227778.257304          19.510417   \n",
       "2012-01-15  258955.329422  275490.988882          24.098958   \n",
       "2012-01-16  213792.376946  258955.329422          20.223958   \n",
       "2012-01-17  211066.426550  213792.376946          19.161458   \n",
       "...                   ...            ...                ...   \n",
       "2013-12-27  193253.553056  180247.188308          29.289583   \n",
       "2013-12-28  219991.933602  193253.553056          18.445833   \n",
       "2013-12-29  225126.095924  219991.933602          19.337500   \n",
       "2013-12-30  243686.647524  225126.095924          20.535417   \n",
       "2013-12-31  288719.964068  243686.647524          15.447917   \n",
       "\n",
       "            Temperature_lag_2  Temperature_lag_3  Temperature_lag_4  \\\n",
       "Time                                                                  \n",
       "2012-01-13          18.191667          24.567708          31.751042   \n",
       "2012-01-14          17.812500          18.191667          24.567708   \n",
       "2012-01-15          19.510417          17.812500          18.191667   \n",
       "2012-01-16          24.098958          19.510417          17.812500   \n",
       "2012-01-17          20.223958          24.098958          19.510417   \n",
       "...                       ...                ...                ...   \n",
       "2013-12-27          21.720833          16.989583          16.925000   \n",
       "2013-12-28          29.289583          21.720833          16.989583   \n",
       "2013-12-29          18.445833          29.289583          21.720833   \n",
       "2013-12-30          19.337500          18.445833          29.289583   \n",
       "2013-12-31          20.535417          19.337500          18.445833   \n",
       "\n",
       "            Temperature_lag_5  Temperature_lag_6  Holiday_lag_1  \\\n",
       "Time                                                              \n",
       "2012-01-13          26.578125          21.047727            0.0   \n",
       "2012-01-14          31.751042          26.578125            0.0   \n",
       "2012-01-15          24.567708          31.751042            0.0   \n",
       "2012-01-16          18.191667          24.567708            0.0   \n",
       "2012-01-17          17.812500          18.191667            0.0   \n",
       "...                       ...                ...            ...   \n",
       "2013-12-27          17.031250          16.237500            0.0   \n",
       "2013-12-28          16.925000          17.031250            0.0   \n",
       "2013-12-29          16.989583          16.925000            0.0   \n",
       "2013-12-30          21.720833          16.989583            0.0   \n",
       "2013-12-31          29.289583          21.720833            0.0   \n",
       "\n",
       "            Holiday_lag_2  Holiday_lag_3  Holiday_lag_4  Holiday_lag_5  \\\n",
       "Time                                                                     \n",
       "2012-01-13            0.0            0.0            1.0            1.0   \n",
       "2012-01-14            0.0            0.0            0.0            1.0   \n",
       "2012-01-15            0.0            0.0            0.0            0.0   \n",
       "2012-01-16            0.0            0.0            0.0            0.0   \n",
       "2012-01-17            0.0            0.0            0.0            0.0   \n",
       "...                   ...            ...            ...            ...   \n",
       "2013-12-27            0.0            0.0            0.0            0.0   \n",
       "2013-12-28            0.0            0.0            0.0            0.0   \n",
       "2013-12-29            0.0            0.0            0.0            0.0   \n",
       "2013-12-30            0.0            0.0            0.0            0.0   \n",
       "2013-12-31            0.0            0.0            0.0            0.0   \n",
       "\n",
       "            Holiday_lag_6  \n",
       "Time                       \n",
       "2012-01-13            1.0  \n",
       "2012-01-14            1.0  \n",
       "2012-01-15            1.0  \n",
       "2012-01-16            0.0  \n",
       "2012-01-17            0.0  \n",
       "...                   ...  \n",
       "2013-12-27            0.0  \n",
       "2013-12-28            0.0  \n",
       "2013-12-29            0.0  \n",
       "2013-12-30            0.0  \n",
       "2013-12-31            0.0  \n",
       "\n",
       "[719 rows x 18 columns]"
      ]
     },
     "execution_count": 108,
     "metadata": {},
     "output_type": "execute_result"
    }
   ],
   "source": [
    "forecaster.create_train_X_y(series=data_train)[0]"
   ]
  },
  {
   "cell_type": "code",
   "execution_count": 109,
   "id": "ffe499e0",
   "metadata": {},
   "outputs": [
    {
     "data": {
      "text/plain": [
       "array([1, 2, 3, 4, 5, 6])"
      ]
     },
     "execution_count": 109,
     "metadata": {},
     "output_type": "execute_result"
    }
   ],
   "source": [
    "forecaster.lags"
   ]
  },
  {
   "cell_type": "code",
   "execution_count": 110,
   "id": "de9bfd69",
   "metadata": {},
   "outputs": [
    {
     "data": {
      "text/plain": [
       "{'Demand': array([1, 2, 3, 4, 5, 6]),\n",
       " 'Temperature': array([1, 2, 3, 4, 5, 6]),\n",
       " 'Holiday': array([1, 2, 3, 4, 5, 6])}"
      ]
     },
     "execution_count": 110,
     "metadata": {},
     "output_type": "execute_result"
    }
   ],
   "source": [
    "forecaster.lags_"
   ]
  },
  {
   "cell_type": "code",
   "execution_count": 111,
   "id": "424182d6",
   "metadata": {},
   "outputs": [
    {
     "data": {
      "text/html": [
       "<div>\n",
       "<style scoped>\n",
       "    .dataframe tbody tr th:only-of-type {\n",
       "        vertical-align: middle;\n",
       "    }\n",
       "\n",
       "    .dataframe tbody tr th {\n",
       "        vertical-align: top;\n",
       "    }\n",
       "\n",
       "    .dataframe thead th {\n",
       "        text-align: right;\n",
       "    }\n",
       "</style>\n",
       "<table border=\"1\" class=\"dataframe\">\n",
       "  <thead>\n",
       "    <tr style=\"text-align: right;\">\n",
       "      <th></th>\n",
       "      <th>Demand_lag_1</th>\n",
       "      <th>Demand_lag_2</th>\n",
       "      <th>Demand_lag_3</th>\n",
       "      <th>Demand_lag_4</th>\n",
       "      <th>Demand_lag_5</th>\n",
       "      <th>Demand_lag_6</th>\n",
       "      <th>Temperature_lag_1</th>\n",
       "      <th>Temperature_lag_2</th>\n",
       "      <th>Temperature_lag_3</th>\n",
       "      <th>Temperature_lag_4</th>\n",
       "      <th>Temperature_lag_5</th>\n",
       "      <th>Temperature_lag_6</th>\n",
       "    </tr>\n",
       "    <tr>\n",
       "      <th>Time</th>\n",
       "      <th></th>\n",
       "      <th></th>\n",
       "      <th></th>\n",
       "      <th></th>\n",
       "      <th></th>\n",
       "      <th></th>\n",
       "      <th></th>\n",
       "      <th></th>\n",
       "      <th></th>\n",
       "      <th></th>\n",
       "      <th></th>\n",
       "      <th></th>\n",
       "    </tr>\n",
       "  </thead>\n",
       "  <tbody>\n",
       "    <tr>\n",
       "      <th>2012-01-13</th>\n",
       "      <td>211066.426550</td>\n",
       "      <td>213792.376946</td>\n",
       "      <td>258955.329422</td>\n",
       "      <td>275490.988882</td>\n",
       "      <td>227778.257304</td>\n",
       "      <td>82531.745918</td>\n",
       "      <td>17.812500</td>\n",
       "      <td>18.191667</td>\n",
       "      <td>24.567708</td>\n",
       "      <td>31.751042</td>\n",
       "      <td>26.578125</td>\n",
       "      <td>21.047727</td>\n",
       "    </tr>\n",
       "    <tr>\n",
       "      <th>2012-01-14</th>\n",
       "      <td>205338.714620</td>\n",
       "      <td>211066.426550</td>\n",
       "      <td>213792.376946</td>\n",
       "      <td>258955.329422</td>\n",
       "      <td>275490.988882</td>\n",
       "      <td>227778.257304</td>\n",
       "      <td>19.510417</td>\n",
       "      <td>17.812500</td>\n",
       "      <td>18.191667</td>\n",
       "      <td>24.567708</td>\n",
       "      <td>31.751042</td>\n",
       "      <td>26.578125</td>\n",
       "    </tr>\n",
       "    <tr>\n",
       "      <th>2012-01-15</th>\n",
       "      <td>200693.270298</td>\n",
       "      <td>205338.714620</td>\n",
       "      <td>211066.426550</td>\n",
       "      <td>213792.376946</td>\n",
       "      <td>258955.329422</td>\n",
       "      <td>275490.988882</td>\n",
       "      <td>24.098958</td>\n",
       "      <td>19.510417</td>\n",
       "      <td>17.812500</td>\n",
       "      <td>18.191667</td>\n",
       "      <td>24.567708</td>\n",
       "      <td>31.751042</td>\n",
       "    </tr>\n",
       "    <tr>\n",
       "      <th>2012-01-16</th>\n",
       "      <td>200061.614738</td>\n",
       "      <td>200693.270298</td>\n",
       "      <td>205338.714620</td>\n",
       "      <td>211066.426550</td>\n",
       "      <td>213792.376946</td>\n",
       "      <td>258955.329422</td>\n",
       "      <td>20.223958</td>\n",
       "      <td>24.098958</td>\n",
       "      <td>19.510417</td>\n",
       "      <td>17.812500</td>\n",
       "      <td>18.191667</td>\n",
       "      <td>24.567708</td>\n",
       "    </tr>\n",
       "    <tr>\n",
       "      <th>2012-01-17</th>\n",
       "      <td>216201.836844</td>\n",
       "      <td>200061.614738</td>\n",
       "      <td>200693.270298</td>\n",
       "      <td>205338.714620</td>\n",
       "      <td>211066.426550</td>\n",
       "      <td>213792.376946</td>\n",
       "      <td>19.161458</td>\n",
       "      <td>20.223958</td>\n",
       "      <td>24.098958</td>\n",
       "      <td>19.510417</td>\n",
       "      <td>17.812500</td>\n",
       "      <td>18.191667</td>\n",
       "    </tr>\n",
       "    <tr>\n",
       "      <th>...</th>\n",
       "      <td>...</td>\n",
       "      <td>...</td>\n",
       "      <td>...</td>\n",
       "      <td>...</td>\n",
       "      <td>...</td>\n",
       "      <td>...</td>\n",
       "      <td>...</td>\n",
       "      <td>...</td>\n",
       "      <td>...</td>\n",
       "      <td>...</td>\n",
       "      <td>...</td>\n",
       "      <td>...</td>\n",
       "    </tr>\n",
       "    <tr>\n",
       "      <th>2013-12-27</th>\n",
       "      <td>288719.964068</td>\n",
       "      <td>243686.647524</td>\n",
       "      <td>225126.095924</td>\n",
       "      <td>219991.933602</td>\n",
       "      <td>193253.553056</td>\n",
       "      <td>180247.188308</td>\n",
       "      <td>29.289583</td>\n",
       "      <td>21.720833</td>\n",
       "      <td>16.989583</td>\n",
       "      <td>16.925000</td>\n",
       "      <td>17.031250</td>\n",
       "      <td>16.237500</td>\n",
       "    </tr>\n",
       "    <tr>\n",
       "      <th>2013-12-28</th>\n",
       "      <td>220660.723898</td>\n",
       "      <td>288719.964068</td>\n",
       "      <td>243686.647524</td>\n",
       "      <td>225126.095924</td>\n",
       "      <td>219991.933602</td>\n",
       "      <td>193253.553056</td>\n",
       "      <td>18.445833</td>\n",
       "      <td>29.289583</td>\n",
       "      <td>21.720833</td>\n",
       "      <td>16.989583</td>\n",
       "      <td>16.925000</td>\n",
       "      <td>17.031250</td>\n",
       "    </tr>\n",
       "    <tr>\n",
       "      <th>2013-12-29</th>\n",
       "      <td>194898.909304</td>\n",
       "      <td>220660.723898</td>\n",
       "      <td>288719.964068</td>\n",
       "      <td>243686.647524</td>\n",
       "      <td>225126.095924</td>\n",
       "      <td>219991.933602</td>\n",
       "      <td>19.337500</td>\n",
       "      <td>18.445833</td>\n",
       "      <td>29.289583</td>\n",
       "      <td>21.720833</td>\n",
       "      <td>16.989583</td>\n",
       "      <td>16.925000</td>\n",
       "    </tr>\n",
       "    <tr>\n",
       "      <th>2013-12-30</th>\n",
       "      <td>200058.040276</td>\n",
       "      <td>194898.909304</td>\n",
       "      <td>220660.723898</td>\n",
       "      <td>288719.964068</td>\n",
       "      <td>243686.647524</td>\n",
       "      <td>225126.095924</td>\n",
       "      <td>20.535417</td>\n",
       "      <td>19.337500</td>\n",
       "      <td>18.445833</td>\n",
       "      <td>29.289583</td>\n",
       "      <td>21.720833</td>\n",
       "      <td>16.989583</td>\n",
       "    </tr>\n",
       "    <tr>\n",
       "      <th>2013-12-31</th>\n",
       "      <td>195748.837328</td>\n",
       "      <td>200058.040276</td>\n",
       "      <td>194898.909304</td>\n",
       "      <td>220660.723898</td>\n",
       "      <td>288719.964068</td>\n",
       "      <td>243686.647524</td>\n",
       "      <td>15.447917</td>\n",
       "      <td>20.535417</td>\n",
       "      <td>19.337500</td>\n",
       "      <td>18.445833</td>\n",
       "      <td>29.289583</td>\n",
       "      <td>21.720833</td>\n",
       "    </tr>\n",
       "  </tbody>\n",
       "</table>\n",
       "<p>719 rows × 12 columns</p>\n",
       "</div>"
      ],
      "text/plain": [
       "             Demand_lag_1   Demand_lag_2   Demand_lag_3   Demand_lag_4  \\\n",
       "Time                                                                     \n",
       "2012-01-13  211066.426550  213792.376946  258955.329422  275490.988882   \n",
       "2012-01-14  205338.714620  211066.426550  213792.376946  258955.329422   \n",
       "2012-01-15  200693.270298  205338.714620  211066.426550  213792.376946   \n",
       "2012-01-16  200061.614738  200693.270298  205338.714620  211066.426550   \n",
       "2012-01-17  216201.836844  200061.614738  200693.270298  205338.714620   \n",
       "...                   ...            ...            ...            ...   \n",
       "2013-12-27  288719.964068  243686.647524  225126.095924  219991.933602   \n",
       "2013-12-28  220660.723898  288719.964068  243686.647524  225126.095924   \n",
       "2013-12-29  194898.909304  220660.723898  288719.964068  243686.647524   \n",
       "2013-12-30  200058.040276  194898.909304  220660.723898  288719.964068   \n",
       "2013-12-31  195748.837328  200058.040276  194898.909304  220660.723898   \n",
       "\n",
       "             Demand_lag_5   Demand_lag_6  Temperature_lag_1  \\\n",
       "Time                                                          \n",
       "2012-01-13  227778.257304   82531.745918          17.812500   \n",
       "2012-01-14  275490.988882  227778.257304          19.510417   \n",
       "2012-01-15  258955.329422  275490.988882          24.098958   \n",
       "2012-01-16  213792.376946  258955.329422          20.223958   \n",
       "2012-01-17  211066.426550  213792.376946          19.161458   \n",
       "...                   ...            ...                ...   \n",
       "2013-12-27  193253.553056  180247.188308          29.289583   \n",
       "2013-12-28  219991.933602  193253.553056          18.445833   \n",
       "2013-12-29  225126.095924  219991.933602          19.337500   \n",
       "2013-12-30  243686.647524  225126.095924          20.535417   \n",
       "2013-12-31  288719.964068  243686.647524          15.447917   \n",
       "\n",
       "            Temperature_lag_2  Temperature_lag_3  Temperature_lag_4  \\\n",
       "Time                                                                  \n",
       "2012-01-13          18.191667          24.567708          31.751042   \n",
       "2012-01-14          17.812500          18.191667          24.567708   \n",
       "2012-01-15          19.510417          17.812500          18.191667   \n",
       "2012-01-16          24.098958          19.510417          17.812500   \n",
       "2012-01-17          20.223958          24.098958          19.510417   \n",
       "...                       ...                ...                ...   \n",
       "2013-12-27          21.720833          16.989583          16.925000   \n",
       "2013-12-28          29.289583          21.720833          16.989583   \n",
       "2013-12-29          18.445833          29.289583          21.720833   \n",
       "2013-12-30          19.337500          18.445833          29.289583   \n",
       "2013-12-31          20.535417          19.337500          18.445833   \n",
       "\n",
       "            Temperature_lag_5  Temperature_lag_6  \n",
       "Time                                              \n",
       "2012-01-13          26.578125          21.047727  \n",
       "2012-01-14          31.751042          26.578125  \n",
       "2012-01-15          24.567708          31.751042  \n",
       "2012-01-16          18.191667          24.567708  \n",
       "2012-01-17          17.812500          18.191667  \n",
       "...                       ...                ...  \n",
       "2013-12-27          17.031250          16.237500  \n",
       "2013-12-28          16.925000          17.031250  \n",
       "2013-12-29          16.989583          16.925000  \n",
       "2013-12-30          21.720833          16.989583  \n",
       "2013-12-31          29.289583          21.720833  \n",
       "\n",
       "[719 rows x 12 columns]"
      ]
     },
     "execution_count": 111,
     "metadata": {},
     "output_type": "execute_result"
    }
   ],
   "source": [
    "forecaster.create_train_X_y(series=data_train[['Demand', 'Temperature']])[0]"
   ]
  },
  {
   "cell_type": "code",
   "execution_count": 112,
   "id": "f5a97394",
   "metadata": {},
   "outputs": [
    {
     "data": {
      "text/plain": [
       "array([1, 2, 3, 4, 5, 6])"
      ]
     },
     "execution_count": 112,
     "metadata": {},
     "output_type": "execute_result"
    }
   ],
   "source": [
    "forecaster.lags"
   ]
  },
  {
   "cell_type": "code",
   "execution_count": 114,
   "id": "a0f24508",
   "metadata": {},
   "outputs": [
    {
     "data": {
      "text/plain": [
       "{'Demand': array([1, 2, 3, 4, 5, 6]), 'Temperature': array([1, 2, 3, 4, 5, 6])}"
      ]
     },
     "execution_count": 114,
     "metadata": {},
     "output_type": "execute_result"
    }
   ],
   "source": [
    "forecaster.lags_"
   ]
  },
  {
   "cell_type": "code",
   "execution_count": 115,
   "id": "c8d1dbc4",
   "metadata": {},
   "outputs": [
    {
     "data": {
      "text/plain": [
       "Time\n",
       "2012-01-13    217586.174464\n",
       "2012-01-14    207841.939388\n",
       "2012-01-15    189761.960344\n",
       "2012-01-16    202284.682756\n",
       "2012-01-17    266364.444274\n",
       "                  ...      \n",
       "2013-12-27    184792.154270\n",
       "2013-12-28    188069.028852\n",
       "2013-12-29    188395.222982\n",
       "2013-12-30    174850.711420\n",
       "2013-12-31    183444.108000\n",
       "Freq: D, Name: Demand_step_7, Length: 719, dtype: float64"
      ]
     },
     "execution_count": 115,
     "metadata": {},
     "output_type": "execute_result"
    }
   ],
   "source": [
    "X_train, y_train = forecaster.create_train_X_y(series=data_train[['Demand', 'Temperature']])\n",
    "forecaster.filter_train_X_y_for_step(step=7, X_train=X_train, y_train=y_train)[1]"
   ]
  },
  {
   "cell_type": "code",
   "execution_count": 116,
   "id": "cf884285",
   "metadata": {},
   "outputs": [],
   "source": [
    "forecaster.fit(series=data_train[['Demand', 'Temperature']])"
   ]
  },
  {
   "cell_type": "code",
   "execution_count": 117,
   "id": "d6c671a0",
   "metadata": {},
   "outputs": [
    {
     "data": {
      "text/html": [
       "<div>\n",
       "<style scoped>\n",
       "    .dataframe tbody tr th:only-of-type {\n",
       "        vertical-align: middle;\n",
       "    }\n",
       "\n",
       "    .dataframe tbody tr th {\n",
       "        vertical-align: top;\n",
       "    }\n",
       "\n",
       "    .dataframe thead th {\n",
       "        text-align: right;\n",
       "    }\n",
       "</style>\n",
       "<table border=\"1\" class=\"dataframe\">\n",
       "  <thead>\n",
       "    <tr style=\"text-align: right;\">\n",
       "      <th></th>\n",
       "      <th>Demand</th>\n",
       "    </tr>\n",
       "  </thead>\n",
       "  <tbody>\n",
       "    <tr>\n",
       "      <th>2014-01-01</th>\n",
       "      <td>190422.511002</td>\n",
       "    </tr>\n",
       "    <tr>\n",
       "      <th>2014-01-02</th>\n",
       "      <td>188276.312492</td>\n",
       "    </tr>\n",
       "    <tr>\n",
       "      <th>2014-01-03</th>\n",
       "      <td>209370.195200</td>\n",
       "    </tr>\n",
       "    <tr>\n",
       "      <th>2014-01-04</th>\n",
       "      <td>227962.434209</td>\n",
       "    </tr>\n",
       "    <tr>\n",
       "      <th>2014-01-05</th>\n",
       "      <td>231965.325126</td>\n",
       "    </tr>\n",
       "  </tbody>\n",
       "</table>\n",
       "</div>"
      ],
      "text/plain": [
       "                   Demand\n",
       "2014-01-01  190422.511002\n",
       "2014-01-02  188276.312492\n",
       "2014-01-03  209370.195200\n",
       "2014-01-04  227962.434209\n",
       "2014-01-05  231965.325126"
      ]
     },
     "execution_count": 117,
     "metadata": {},
     "output_type": "execute_result"
    }
   ],
   "source": [
    "# Predict\n",
    "# ==============================================================================\n",
    "steps = 5\n",
    "predictions = forecaster.predict(steps=steps)\n",
    "predictions"
   ]
  },
  {
   "cell_type": "code",
   "execution_count": 118,
   "id": "42cedeb0",
   "metadata": {},
   "outputs": [
    {
     "data": {
      "text/html": [
       "<div>\n",
       "<style scoped>\n",
       "    .dataframe tbody tr th:only-of-type {\n",
       "        vertical-align: middle;\n",
       "    }\n",
       "\n",
       "    .dataframe tbody tr th {\n",
       "        vertical-align: top;\n",
       "    }\n",
       "\n",
       "    .dataframe thead th {\n",
       "        text-align: right;\n",
       "    }\n",
       "</style>\n",
       "<table border=\"1\" class=\"dataframe\">\n",
       "  <thead>\n",
       "    <tr style=\"text-align: right;\">\n",
       "      <th></th>\n",
       "      <th>Demand</th>\n",
       "    </tr>\n",
       "  </thead>\n",
       "  <tbody>\n",
       "    <tr>\n",
       "      <th>2014-01-05</th>\n",
       "      <td>231965.325126</td>\n",
       "    </tr>\n",
       "  </tbody>\n",
       "</table>\n",
       "</div>"
      ],
      "text/plain": [
       "                   Demand\n",
       "2014-01-05  231965.325126"
      ]
     },
     "execution_count": 118,
     "metadata": {},
     "output_type": "execute_result"
    }
   ],
   "source": [
    "steps = [5]\n",
    "predictions = forecaster.predict(steps=steps)\n",
    "predictions"
   ]
  },
  {
   "cell_type": "code",
   "execution_count": 119,
   "id": "31737bde",
   "metadata": {},
   "outputs": [
    {
     "data": {
      "text/html": [
       "<div>\n",
       "<style scoped>\n",
       "    .dataframe tbody tr th:only-of-type {\n",
       "        vertical-align: middle;\n",
       "    }\n",
       "\n",
       "    .dataframe tbody tr th {\n",
       "        vertical-align: top;\n",
       "    }\n",
       "\n",
       "    .dataframe thead th {\n",
       "        text-align: right;\n",
       "    }\n",
       "</style>\n",
       "<table border=\"1\" class=\"dataframe\">\n",
       "  <thead>\n",
       "    <tr style=\"text-align: right;\">\n",
       "      <th></th>\n",
       "      <th>Demand</th>\n",
       "    </tr>\n",
       "  </thead>\n",
       "  <tbody>\n",
       "    <tr>\n",
       "      <th>2014-01-01</th>\n",
       "      <td>190422.511002</td>\n",
       "    </tr>\n",
       "    <tr>\n",
       "      <th>2014-01-05</th>\n",
       "      <td>231965.325126</td>\n",
       "    </tr>\n",
       "  </tbody>\n",
       "</table>\n",
       "</div>"
      ],
      "text/plain": [
       "                   Demand\n",
       "2014-01-01  190422.511002\n",
       "2014-01-05  231965.325126"
      ]
     },
     "execution_count": 119,
     "metadata": {},
     "output_type": "execute_result"
    }
   ],
   "source": [
    "steps = [1, 5]\n",
    "predictions = forecaster.predict(steps=steps)\n",
    "predictions"
   ]
  },
  {
   "cell_type": "code",
   "execution_count": 120,
   "id": "385a3385",
   "metadata": {},
   "outputs": [
    {
     "data": {
      "text/html": [
       "<div>\n",
       "<style scoped>\n",
       "    .dataframe tbody tr th:only-of-type {\n",
       "        vertical-align: middle;\n",
       "    }\n",
       "\n",
       "    .dataframe tbody tr th {\n",
       "        vertical-align: top;\n",
       "    }\n",
       "\n",
       "    .dataframe thead th {\n",
       "        text-align: right;\n",
       "    }\n",
       "</style>\n",
       "<table border=\"1\" class=\"dataframe\">\n",
       "  <thead>\n",
       "    <tr style=\"text-align: right;\">\n",
       "      <th></th>\n",
       "      <th>Demand</th>\n",
       "    </tr>\n",
       "  </thead>\n",
       "  <tbody>\n",
       "    <tr>\n",
       "      <th>2014-01-01</th>\n",
       "      <td>190422.511002</td>\n",
       "    </tr>\n",
       "    <tr>\n",
       "      <th>2014-01-02</th>\n",
       "      <td>188276.312492</td>\n",
       "    </tr>\n",
       "    <tr>\n",
       "      <th>2014-01-03</th>\n",
       "      <td>209370.195200</td>\n",
       "    </tr>\n",
       "    <tr>\n",
       "      <th>2014-01-04</th>\n",
       "      <td>227962.434209</td>\n",
       "    </tr>\n",
       "    <tr>\n",
       "      <th>2014-01-05</th>\n",
       "      <td>231965.325126</td>\n",
       "    </tr>\n",
       "    <tr>\n",
       "      <th>2014-01-06</th>\n",
       "      <td>226973.953236</td>\n",
       "    </tr>\n",
       "    <tr>\n",
       "      <th>2014-01-07</th>\n",
       "      <td>243830.114027</td>\n",
       "    </tr>\n",
       "  </tbody>\n",
       "</table>\n",
       "</div>"
      ],
      "text/plain": [
       "                   Demand\n",
       "2014-01-01  190422.511002\n",
       "2014-01-02  188276.312492\n",
       "2014-01-03  209370.195200\n",
       "2014-01-04  227962.434209\n",
       "2014-01-05  231965.325126\n",
       "2014-01-06  226973.953236\n",
       "2014-01-07  243830.114027"
      ]
     },
     "execution_count": 120,
     "metadata": {},
     "output_type": "execute_result"
    }
   ],
   "source": [
    "predictions = forecaster.predict(steps=None)\n",
    "predictions"
   ]
  },
  {
   "cell_type": "code",
   "execution_count": 121,
   "id": "862ff76f",
   "metadata": {},
   "outputs": [],
   "source": [
    "forecaster.set_params({'n_estimators': 500})"
   ]
  },
  {
   "cell_type": "code",
   "execution_count": 123,
   "id": "a30091e8",
   "metadata": {},
   "outputs": [
    {
     "data": {
      "text/plain": [
       "============================= \n",
       "ForecasterAutoregMultiVariate \n",
       "============================= \n",
       "Regressor: LGBMRegressor(n_estimators=500, random_state=123) \n",
       "Lags: [1 2 3 4 5 6] \n",
       "Transformer for series: None \n",
       "Transformer for exog: None \n",
       "Window size: 6 \n",
       "Multivariate series (names): ['Demand', 'Temperature'] \n",
       "Maximum steps predicted: 7 \n",
       "Weight function included: False \n",
       "Exogenous included: False \n",
       "Type of exogenous variable: None \n",
       "Exogenous variables names: None \n",
       "Training range: [Timestamp('2012-01-01 00:00:00'), Timestamp('2013-12-31 00:00:00')] \n",
       "Training index type: DatetimeIndex \n",
       "Training index frequency: D \n",
       "Regressor parameters: {'boosting_type': 'gbdt', 'class_weight': None, 'colsample_bytree': 1.0, 'importance_type': 'split', 'learning_rate': 0.1, 'max_depth': -1, 'min_child_samples': 20, 'min_child_weight': 0.001, 'min_split_gain': 0.0, 'n_estimators': 500, 'n_jobs': -1, 'num_leaves': 31, 'objective': None, 'random_state': 123, 'reg_alpha': 0.0, 'reg_lambda': 0.0, 'silent': 'warn', 'subsample': 1.0, 'subsample_for_bin': 200000, 'subsample_freq': 0} \n",
       "Creation date: 2022-11-04 11:57:17 \n",
       "Last fit date: 2022-11-04 11:57:42 \n",
       "Skforecast version: 0.6.0 \n",
       "Python version: 3.9.13 "
      ]
     },
     "execution_count": 123,
     "metadata": {},
     "output_type": "execute_result"
    }
   ],
   "source": [
    "forecaster"
   ]
  },
  {
   "cell_type": "code",
   "execution_count": 126,
   "id": "7de398a5",
   "metadata": {},
   "outputs": [
    {
     "data": {
      "text/plain": [
       "{'Demand': array([1, 2, 3, 4])}"
      ]
     },
     "execution_count": 126,
     "metadata": {},
     "output_type": "execute_result"
    }
   ],
   "source": [
    "forecaster.set_lags({'Demand': 4})\n",
    "forecaster.lags"
   ]
  },
  {
   "cell_type": "code",
   "execution_count": 127,
   "id": "2897e47c",
   "metadata": {},
   "outputs": [
    {
     "data": {
      "text/plain": [
       "{'Demand': array([1, 2, 3, 4])}"
      ]
     },
     "execution_count": 127,
     "metadata": {},
     "output_type": "execute_result"
    }
   ],
   "source": [
    "forecaster.lags_"
   ]
  },
  {
   "cell_type": "code",
   "execution_count": 129,
   "id": "a75ccb35",
   "metadata": {},
   "outputs": [
    {
     "data": {
      "text/html": [
       "<style>#sk-container-id-1 {color: black;background-color: white;}#sk-container-id-1 pre{padding: 0;}#sk-container-id-1 div.sk-toggleable {background-color: white;}#sk-container-id-1 label.sk-toggleable__label {cursor: pointer;display: block;width: 100%;margin-bottom: 0;padding: 0.3em;box-sizing: border-box;text-align: center;}#sk-container-id-1 label.sk-toggleable__label-arrow:before {content: \"▸\";float: left;margin-right: 0.25em;color: #696969;}#sk-container-id-1 label.sk-toggleable__label-arrow:hover:before {color: black;}#sk-container-id-1 div.sk-estimator:hover label.sk-toggleable__label-arrow:before {color: black;}#sk-container-id-1 div.sk-toggleable__content {max-height: 0;max-width: 0;overflow: hidden;text-align: left;background-color: #f0f8ff;}#sk-container-id-1 div.sk-toggleable__content pre {margin: 0.2em;color: black;border-radius: 0.25em;background-color: #f0f8ff;}#sk-container-id-1 input.sk-toggleable__control:checked~div.sk-toggleable__content {max-height: 200px;max-width: 100%;overflow: auto;}#sk-container-id-1 input.sk-toggleable__control:checked~label.sk-toggleable__label-arrow:before {content: \"▾\";}#sk-container-id-1 div.sk-estimator input.sk-toggleable__control:checked~label.sk-toggleable__label {background-color: #d4ebff;}#sk-container-id-1 div.sk-label input.sk-toggleable__control:checked~label.sk-toggleable__label {background-color: #d4ebff;}#sk-container-id-1 input.sk-hidden--visually {border: 0;clip: rect(1px 1px 1px 1px);clip: rect(1px, 1px, 1px, 1px);height: 1px;margin: -1px;overflow: hidden;padding: 0;position: absolute;width: 1px;}#sk-container-id-1 div.sk-estimator {font-family: monospace;background-color: #f0f8ff;border: 1px dotted black;border-radius: 0.25em;box-sizing: border-box;margin-bottom: 0.5em;}#sk-container-id-1 div.sk-estimator:hover {background-color: #d4ebff;}#sk-container-id-1 div.sk-parallel-item::after {content: \"\";width: 100%;border-bottom: 1px solid gray;flex-grow: 1;}#sk-container-id-1 div.sk-label:hover label.sk-toggleable__label {background-color: #d4ebff;}#sk-container-id-1 div.sk-serial::before {content: \"\";position: absolute;border-left: 1px solid gray;box-sizing: border-box;top: 0;bottom: 0;left: 50%;z-index: 0;}#sk-container-id-1 div.sk-serial {display: flex;flex-direction: column;align-items: center;background-color: white;padding-right: 0.2em;padding-left: 0.2em;position: relative;}#sk-container-id-1 div.sk-item {position: relative;z-index: 1;}#sk-container-id-1 div.sk-parallel {display: flex;align-items: stretch;justify-content: center;background-color: white;position: relative;}#sk-container-id-1 div.sk-item::before, #sk-container-id-1 div.sk-parallel-item::before {content: \"\";position: absolute;border-left: 1px solid gray;box-sizing: border-box;top: 0;bottom: 0;left: 50%;z-index: -1;}#sk-container-id-1 div.sk-parallel-item {display: flex;flex-direction: column;z-index: 1;position: relative;background-color: white;}#sk-container-id-1 div.sk-parallel-item:first-child::after {align-self: flex-end;width: 50%;}#sk-container-id-1 div.sk-parallel-item:last-child::after {align-self: flex-start;width: 50%;}#sk-container-id-1 div.sk-parallel-item:only-child::after {width: 0;}#sk-container-id-1 div.sk-dashed-wrapped {border: 1px dashed gray;margin: 0 0.4em 0.5em 0.4em;box-sizing: border-box;padding-bottom: 0.4em;background-color: white;}#sk-container-id-1 div.sk-label label {font-family: monospace;font-weight: bold;display: inline-block;line-height: 1.2em;}#sk-container-id-1 div.sk-label-container {text-align: center;}#sk-container-id-1 div.sk-container {/* jupyter's `normalize.less` sets `[hidden] { display: none; }` but bootstrap.min.css set `[hidden] { display: none !important; }` so we also need the `!important` here to be able to override the default hidden behavior on the sphinx rendered scikit-learn.org. See: https://github.com/scikit-learn/scikit-learn/issues/21755 */display: inline-block !important;position: relative;}#sk-container-id-1 div.sk-text-repr-fallback {display: none;}</style><div id=\"sk-container-id-1\" class=\"sk-top-container\"><div class=\"sk-text-repr-fallback\"><pre>LGBMRegressor(n_estimators=500, random_state=123)</pre><b>In a Jupyter environment, please rerun this cell to show the HTML representation or trust the notebook. <br />On GitHub, the HTML representation is unable to render, please try loading this page with nbviewer.org.</b></div><div class=\"sk-container\" hidden><div class=\"sk-item\"><div class=\"sk-estimator sk-toggleable\"><input class=\"sk-toggleable__control sk-hidden--visually\" id=\"sk-estimator-id-1\" type=\"checkbox\" checked><label for=\"sk-estimator-id-1\" class=\"sk-toggleable__label sk-toggleable__label-arrow\">LGBMRegressor</label><div class=\"sk-toggleable__content\"><pre>LGBMRegressor(n_estimators=500, random_state=123)</pre></div></div></div></div></div>"
      ],
      "text/plain": [
       "LGBMRegressor(n_estimators=500, random_state=123)"
      ]
     },
     "execution_count": 129,
     "metadata": {},
     "output_type": "execute_result"
    }
   ],
   "source": [
    "forecaster.regressors_[1].fea"
   ]
  },
  {
   "cell_type": "code",
   "execution_count": 128,
   "id": "02be293b",
   "metadata": {},
   "outputs": [
    {
     "name": "stderr",
     "output_type": "stream",
     "text": [
      "c:\\Users\\jaesc2\\GitHub\\skforecast\\skforecast\\ForecasterAutoregMultiVariate\\ForecasterAutoregMultiVariate.py:1012: UserWarning: Impossible to access feature importance for regressor of type <class 'lightgbm.sklearn.LGBMRegressor'>. This method is only valid when the regressor stores internally the feature importance in the attribute `feature_importances_` or `coef_`.\n",
      "  except:\n"
     ]
    }
   ],
   "source": [
    "forecaster.get_feature_importance(1)"
   ]
  },
  {
   "cell_type": "code",
   "execution_count": 58,
   "id": "752e8c83",
   "metadata": {},
   "outputs": [
    {
     "data": {
      "text/html": [
       "<div>\n",
       "<style scoped>\n",
       "    .dataframe tbody tr th:only-of-type {\n",
       "        vertical-align: middle;\n",
       "    }\n",
       "\n",
       "    .dataframe tbody tr th {\n",
       "        vertical-align: top;\n",
       "    }\n",
       "\n",
       "    .dataframe thead th {\n",
       "        text-align: right;\n",
       "    }\n",
       "</style>\n",
       "<table border=\"1\" class=\"dataframe\">\n",
       "  <thead>\n",
       "    <tr style=\"text-align: right;\">\n",
       "      <th></th>\n",
       "      <th>feature</th>\n",
       "      <th>importance</th>\n",
       "    </tr>\n",
       "  </thead>\n",
       "  <tbody>\n",
       "    <tr>\n",
       "      <th>0</th>\n",
       "      <td>Demand_lag_1</td>\n",
       "      <td>212</td>\n",
       "    </tr>\n",
       "    <tr>\n",
       "      <th>1</th>\n",
       "      <td>Demand_lag_2</td>\n",
       "      <td>158</td>\n",
       "    </tr>\n",
       "    <tr>\n",
       "      <th>2</th>\n",
       "      <td>Demand_lag_3</td>\n",
       "      <td>170</td>\n",
       "    </tr>\n",
       "    <tr>\n",
       "      <th>3</th>\n",
       "      <td>Demand_lag_4</td>\n",
       "      <td>153</td>\n",
       "    </tr>\n",
       "    <tr>\n",
       "      <th>4</th>\n",
       "      <td>Demand_lag_5</td>\n",
       "      <td>179</td>\n",
       "    </tr>\n",
       "    <tr>\n",
       "      <th>5</th>\n",
       "      <td>Demand_lag_6</td>\n",
       "      <td>178</td>\n",
       "    </tr>\n",
       "    <tr>\n",
       "      <th>6</th>\n",
       "      <td>Demand_lag_7</td>\n",
       "      <td>169</td>\n",
       "    </tr>\n",
       "    <tr>\n",
       "      <th>7</th>\n",
       "      <td>Temperature_lag_1</td>\n",
       "      <td>285</td>\n",
       "    </tr>\n",
       "    <tr>\n",
       "      <th>8</th>\n",
       "      <td>Temperature_lag_2</td>\n",
       "      <td>173</td>\n",
       "    </tr>\n",
       "    <tr>\n",
       "      <th>9</th>\n",
       "      <td>Temperature_lag_3</td>\n",
       "      <td>212</td>\n",
       "    </tr>\n",
       "    <tr>\n",
       "      <th>10</th>\n",
       "      <td>Temperature_lag_4</td>\n",
       "      <td>205</td>\n",
       "    </tr>\n",
       "    <tr>\n",
       "      <th>11</th>\n",
       "      <td>Temperature_lag_5</td>\n",
       "      <td>213</td>\n",
       "    </tr>\n",
       "    <tr>\n",
       "      <th>12</th>\n",
       "      <td>Temperature_lag_6</td>\n",
       "      <td>206</td>\n",
       "    </tr>\n",
       "    <tr>\n",
       "      <th>13</th>\n",
       "      <td>Temperature_lag_7</td>\n",
       "      <td>198</td>\n",
       "    </tr>\n",
       "  </tbody>\n",
       "</table>\n",
       "</div>"
      ],
      "text/plain": [
       "              feature  importance\n",
       "0        Demand_lag_1         212\n",
       "1        Demand_lag_2         158\n",
       "2        Demand_lag_3         170\n",
       "3        Demand_lag_4         153\n",
       "4        Demand_lag_5         179\n",
       "5        Demand_lag_6         178\n",
       "6        Demand_lag_7         169\n",
       "7   Temperature_lag_1         285\n",
       "8   Temperature_lag_2         173\n",
       "9   Temperature_lag_3         212\n",
       "10  Temperature_lag_4         205\n",
       "11  Temperature_lag_5         213\n",
       "12  Temperature_lag_6         206\n",
       "13  Temperature_lag_7         198"
      ]
     },
     "execution_count": 58,
     "metadata": {},
     "output_type": "execute_result"
    }
   ],
   "source": [
    "forecaster.get_feature_importance(7)"
   ]
  },
  {
   "cell_type": "code",
   "execution_count": 5,
   "id": "f6137f1b",
   "metadata": {},
   "outputs": [
    {
     "data": {
      "text/plain": [
       "Int64Index([51, 54], dtype='int64')"
      ]
     },
     "execution_count": 5,
     "metadata": {},
     "output_type": "execute_result"
    }
   ],
   "source": [
    "pd.RangeIndex(start=50, stop=55, step=1)[[1, 4]]"
   ]
  },
  {
   "cell_type": "code",
   "execution_count": 5,
   "id": "8bd98bc2",
   "metadata": {},
   "outputs": [],
   "source": [
    "from skforecast.ForecasterAutoregDirect import ForecasterAutoregDirect\n",
    "from skforecast.ForecasterAutoregMultiVariate import ForecasterAutoregMultiVariate\n",
    "from sklearn.compose import ColumnTransformer\n",
    "from sklearn.preprocessing import StandardScaler\n",
    "from sklearn.preprocessing import OneHotEncoder\n",
    "from sklearn.linear_model import LinearRegression"
   ]
  },
  {
   "cell_type": "code",
   "execution_count": 32,
   "id": "ac14b9e3",
   "metadata": {},
   "outputs": [
    {
     "data": {
      "text/plain": [
       "(array([[2., 1., 0.],\n",
       "        [3., 2., 1.],\n",
       "        [4., 3., 2.],\n",
       "        [5., 4., 3.],\n",
       "        [6., 5., 4.],\n",
       "        [7., 6., 5.],\n",
       "        [8., 7., 6.]]),\n",
       " array([[3.],\n",
       "        [4.],\n",
       "        [5.],\n",
       "        [6.],\n",
       "        [7.],\n",
       "        [8.],\n",
       "        [9.]]))"
      ]
     },
     "execution_count": 32,
     "metadata": {},
     "output_type": "execute_result"
    }
   ],
   "source": [
    "forecaster = ForecasterAutoregDirect(LinearRegression(), lags=3, steps=1)\n",
    "results = forecaster._create_lags(y=np.arange(10))\n",
    "results"
   ]
  },
  {
   "cell_type": "code",
   "execution_count": 33,
   "id": "c3cd2817",
   "metadata": {},
   "outputs": [],
   "source": [
    "series = pd.DataFrame(\n",
    "             data = np.array([[0.12362923, 0.51328688],\n",
    "                              [0.65138268, 0.11599708],\n",
    "                              [0.58142898, 0.72350895],\n",
    "                              [0.72969992, 0.10305721],\n",
    "                              [0.97790567, 0.20581485],\n",
    "                              [0.56924731, 0.41262027],\n",
    "                              [0.85369084, 0.82107767],\n",
    "                              [0.75425194, 0.0107816 ],\n",
    "                              [0.08167939, 0.94951918],\n",
    "                              [0.00249297, 0.55583355]]),\n",
    "             columns= ['series_1', 'series_2'],\n",
    "             index = pd.DatetimeIndex(\n",
    "                         ['2022-01-04', '2022-01-05', '2022-01-06', '2022-01-07',\n",
    "                          '2022-01-08', '2022-01-09', '2022-01-10', '2022-01-11',\n",
    "                          '2022-01-12', '2022-01-13'],\n",
    "                         dtype='datetime64[ns]', freq='D'\n",
    "                     ),\n",
    "         )"
   ]
  },
  {
   "cell_type": "code",
   "execution_count": 43,
   "id": "f64a6720",
   "metadata": {},
   "outputs": [
    {
     "data": {
      "text/plain": [
       "Index(['series_1_lag_1', 'series_1_lag_2', 'series_1_lag_3', 'series_2_lag_1',\n",
       "       'series_2_lag_2', 'series_2_lag_3'],\n",
       "      dtype='object')"
      ]
     },
     "execution_count": 43,
     "metadata": {},
     "output_type": "execute_result"
    }
   ],
   "source": [
    "forecaster = ForecasterAutoregMultiVariate(\n",
    "                     level       = 'series_1',\n",
    "                     lags        = 3,\n",
    "                     steps       = 3,    \n",
    "                     regressor   = LinearRegression(),\n",
    "                     weight_func = None\n",
    "                 )\n",
    "\n",
    "forecaster.create_train_X_y(series=series)[0].columns"
   ]
  },
  {
   "cell_type": "code",
   "execution_count": 42,
   "id": "751f99d6",
   "metadata": {},
   "outputs": [
    {
     "data": {
      "text/html": [
       "<div>\n",
       "<style scoped>\n",
       "    .dataframe tbody tr th:only-of-type {\n",
       "        vertical-align: middle;\n",
       "    }\n",
       "\n",
       "    .dataframe tbody tr th {\n",
       "        vertical-align: top;\n",
       "    }\n",
       "\n",
       "    .dataframe thead th {\n",
       "        text-align: right;\n",
       "    }\n",
       "</style>\n",
       "<table border=\"1\" class=\"dataframe\">\n",
       "  <thead>\n",
       "    <tr style=\"text-align: right;\">\n",
       "      <th></th>\n",
       "      <th>series_1_step_1</th>\n",
       "      <th>series_1_step_2</th>\n",
       "      <th>series_1_step_3</th>\n",
       "    </tr>\n",
       "  </thead>\n",
       "  <tbody>\n",
       "    <tr>\n",
       "      <th>2022-01-09</th>\n",
       "      <td>0.729700</td>\n",
       "      <td>0.977906</td>\n",
       "      <td>0.569247</td>\n",
       "    </tr>\n",
       "    <tr>\n",
       "      <th>2022-01-10</th>\n",
       "      <td>0.977906</td>\n",
       "      <td>0.569247</td>\n",
       "      <td>0.853691</td>\n",
       "    </tr>\n",
       "    <tr>\n",
       "      <th>2022-01-11</th>\n",
       "      <td>0.569247</td>\n",
       "      <td>0.853691</td>\n",
       "      <td>0.754252</td>\n",
       "    </tr>\n",
       "    <tr>\n",
       "      <th>2022-01-12</th>\n",
       "      <td>0.853691</td>\n",
       "      <td>0.754252</td>\n",
       "      <td>0.081679</td>\n",
       "    </tr>\n",
       "    <tr>\n",
       "      <th>2022-01-13</th>\n",
       "      <td>0.754252</td>\n",
       "      <td>0.081679</td>\n",
       "      <td>0.002493</td>\n",
       "    </tr>\n",
       "  </tbody>\n",
       "</table>\n",
       "</div>"
      ],
      "text/plain": [
       "            series_1_step_1  series_1_step_2  series_1_step_3\n",
       "2022-01-09         0.729700         0.977906         0.569247\n",
       "2022-01-10         0.977906         0.569247         0.853691\n",
       "2022-01-11         0.569247         0.853691         0.754252\n",
       "2022-01-12         0.853691         0.754252         0.081679\n",
       "2022-01-13         0.754252         0.081679         0.002493"
      ]
     },
     "execution_count": 42,
     "metadata": {},
     "output_type": "execute_result"
    }
   ],
   "source": [
    "forecaster.create_train_X_y(series=series)[1]     "
   ]
  },
  {
   "cell_type": "markdown",
   "id": "4fd36fab",
   "metadata": {},
   "source": [
    "## Predict tests"
   ]
  },
  {
   "cell_type": "code",
   "execution_count": 6,
   "id": "8f6e80e2",
   "metadata": {},
   "outputs": [],
   "source": [
    "import re\n",
    "import pytest\n",
    "from pytest import approx\n",
    "import numpy as np\n",
    "import pandas as pd\n",
    "from skforecast.ForecasterAutoregMultiVariate import ForecasterAutoregMultiVariate\n",
    "from sklearn.compose import ColumnTransformer\n",
    "from sklearn.preprocessing import StandardScaler\n",
    "from sklearn.preprocessing import MinMaxScaler\n",
    "from sklearn.preprocessing import OneHotEncoder\n",
    "from sklearn.linear_model import LinearRegression"
   ]
  },
  {
   "cell_type": "code",
   "execution_count": 7,
   "id": "50cf1107",
   "metadata": {},
   "outputs": [],
   "source": [
    "series = pd.DataFrame({'l1': pd.Series(np.array(\n",
    "                                [0.69646919, 0.28613933, 0.22685145, 0.55131477, 0.71946897,\n",
    "                                 0.42310646, 0.9807642 , 0.68482974, 0.4809319 , 0.39211752,\n",
    "                                 0.34317802, 0.72904971, 0.43857224, 0.0596779 , 0.39804426,\n",
    "                                 0.73799541, 0.18249173, 0.17545176, 0.53155137, 0.53182759,\n",
    "                                 0.63440096, 0.84943179, 0.72445532, 0.61102351, 0.72244338,\n",
    "                                 0.32295891, 0.36178866, 0.22826323, 0.29371405, 0.63097612,\n",
    "                                 0.09210494, 0.43370117, 0.43086276, 0.4936851 , 0.42583029,\n",
    "                                 0.31226122, 0.42635131, 0.89338916, 0.94416002, 0.50183668,\n",
    "                                 0.62395295, 0.1156184 , 0.31728548, 0.41482621, 0.86630916,\n",
    "                                 0.25045537, 0.48303426, 0.98555979, 0.51948512, 0.61289453]\n",
    "                                )\n",
    "                            ), \n",
    "                       'l2': pd.Series(np.array(\n",
    "                                [0.12062867, 0.8263408 , 0.60306013, 0.54506801, 0.34276383,\n",
    "                                 0.30412079, 0.41702221, 0.68130077, 0.87545684, 0.51042234,\n",
    "                                 0.66931378, 0.58593655, 0.6249035 , 0.67468905, 0.84234244,\n",
    "                                 0.08319499, 0.76368284, 0.24366637, 0.19422296, 0.57245696,\n",
    "                                 0.09571252, 0.88532683, 0.62724897, 0.72341636, 0.01612921,\n",
    "                                 0.59443188, 0.55678519, 0.15895964, 0.15307052, 0.69552953,\n",
    "                                 0.31876643, 0.6919703 , 0.55438325, 0.38895057, 0.92513249,\n",
    "                                 0.84167   , 0.35739757, 0.04359146, 0.30476807, 0.39818568,\n",
    "                                 0.70495883, 0.99535848, 0.35591487, 0.76254781, 0.59317692,\n",
    "                                 0.6917018 , 0.15112745, 0.39887629, 0.2408559 , 0.34345601]\n",
    "                                )\n",
    "                            )\n",
    "                      }\n",
    "         )\n",
    "    \n",
    "exog = pd.DataFrame({'exog_1': pd.Series(np.array(\n",
    "                                [0.51312815, 0.66662455, 0.10590849, 0.13089495, 0.32198061,\n",
    "                                 0.66156434, 0.84650623, 0.55325734, 0.85445249, 0.38483781,\n",
    "                                 0.3167879 , 0.35426468, 0.17108183, 0.82911263, 0.33867085,\n",
    "                                 0.55237008, 0.57855147, 0.52153306, 0.00268806, 0.98834542,\n",
    "                                 0.90534158, 0.20763586, 0.29248941, 0.52001015, 0.90191137,\n",
    "                                 0.98363088, 0.25754206, 0.56435904, 0.80696868, 0.39437005,\n",
    "                                 0.73107304, 0.16106901, 0.60069857, 0.86586446, 0.98352161,\n",
    "                                 0.07936579, 0.42834727, 0.20454286, 0.45063649, 0.54776357,\n",
    "                                 0.09332671, 0.29686078, 0.92758424, 0.56900373, 0.457412  ,\n",
    "                                 0.75352599, 0.74186215, 0.04857903, 0.7086974 , 0.83924335]\n",
    "                                )\n",
    "                              ),\n",
    "                     'exog_2': ['a']*25 + ['b']*25}\n",
    "       )"
   ]
  },
  {
   "cell_type": "code",
   "execution_count": 28,
   "id": "c2faa6b6",
   "metadata": {},
   "outputs": [
    {
     "data": {
      "text/plain": [
       "array([0.58053278, 0.43052971, 0.60582844])"
      ]
     },
     "execution_count": 28,
     "metadata": {},
     "output_type": "execute_result"
    }
   ],
   "source": [
    "forecaster = ForecasterAutoregMultiVariate(LinearRegression(), level='l2',\n",
    "                                               lags={'l1': 5, 'l2': [1, 7]}, steps=3)\n",
    "forecaster.fit(series=series)\n",
    "results = forecaster.predict(steps=None)\n",
    "results['l2'].values"
   ]
  },
  {
   "cell_type": "code",
   "execution_count": 29,
   "id": "6c56ccc5",
   "metadata": {},
   "outputs": [
    {
     "data": {
      "text/html": [
       "<div>\n",
       "<style scoped>\n",
       "    .dataframe tbody tr th:only-of-type {\n",
       "        vertical-align: middle;\n",
       "    }\n",
       "\n",
       "    .dataframe tbody tr th {\n",
       "        vertical-align: top;\n",
       "    }\n",
       "\n",
       "    .dataframe thead th {\n",
       "        text-align: right;\n",
       "    }\n",
       "</style>\n",
       "<table border=\"1\" class=\"dataframe\">\n",
       "  <thead>\n",
       "    <tr style=\"text-align: right;\">\n",
       "      <th></th>\n",
       "      <th>l1</th>\n",
       "      <th>l2</th>\n",
       "    </tr>\n",
       "  </thead>\n",
       "  <tbody>\n",
       "    <tr>\n",
       "      <th>43</th>\n",
       "      <td>0.414826</td>\n",
       "      <td>0.762548</td>\n",
       "    </tr>\n",
       "    <tr>\n",
       "      <th>44</th>\n",
       "      <td>0.866309</td>\n",
       "      <td>0.593177</td>\n",
       "    </tr>\n",
       "    <tr>\n",
       "      <th>45</th>\n",
       "      <td>0.250455</td>\n",
       "      <td>0.691702</td>\n",
       "    </tr>\n",
       "    <tr>\n",
       "      <th>46</th>\n",
       "      <td>0.483034</td>\n",
       "      <td>0.151127</td>\n",
       "    </tr>\n",
       "    <tr>\n",
       "      <th>47</th>\n",
       "      <td>0.985560</td>\n",
       "      <td>0.398876</td>\n",
       "    </tr>\n",
       "    <tr>\n",
       "      <th>48</th>\n",
       "      <td>0.519485</td>\n",
       "      <td>0.240856</td>\n",
       "    </tr>\n",
       "    <tr>\n",
       "      <th>49</th>\n",
       "      <td>0.612895</td>\n",
       "      <td>0.343456</td>\n",
       "    </tr>\n",
       "  </tbody>\n",
       "</table>\n",
       "</div>"
      ],
      "text/plain": [
       "          l1        l2\n",
       "43  0.414826  0.762548\n",
       "44  0.866309  0.593177\n",
       "45  0.250455  0.691702\n",
       "46  0.483034  0.151127\n",
       "47  0.985560  0.398876\n",
       "48  0.519485  0.240856\n",
       "49  0.612895  0.343456"
      ]
     },
     "execution_count": 29,
     "metadata": {},
     "output_type": "execute_result"
    }
   ],
   "source": [
    "forecaster.last_window"
   ]
  },
  {
   "cell_type": "code",
   "execution_count": 27,
   "id": "69a9645f",
   "metadata": {},
   "outputs": [
    {
     "data": {
      "text/plain": [
       "array([[0.57243323],\n",
       "       [0.56121924],\n",
       "       [0.38879785]])"
      ]
     },
     "execution_count": 27,
     "metadata": {},
     "output_type": "execute_result"
    }
   ],
   "source": [
    "forecaster = ForecasterAutoregMultiVariate(LinearRegression(), level='l1',\n",
    "                                               lags=3, steps=3)\n",
    "forecaster.fit(series=series.iloc[:40,], exog=exog.iloc[:40, 0])\n",
    "results = forecaster.predict(steps=None, exog=exog.iloc[40:43, 0])\n",
    "results.values"
   ]
  },
  {
   "cell_type": "code",
   "execution_count": 61,
   "id": "c73a1cbe",
   "metadata": {},
   "outputs": [
    {
     "data": {
      "text/plain": [
       "array([[0.65049981],\n",
       "       [0.57548048],\n",
       "       [0.64278726],\n",
       "       [0.54421867],\n",
       "       [0.7851753 ]])"
      ]
     },
     "execution_count": 61,
     "metadata": {},
     "output_type": "execute_result"
    }
   ],
   "source": [
    "m = ColumnTransformer(\n",
    "        [('scale', StandardScaler(), ['l1']),\n",
    "         ('mixmax', MinMaxScaler(), ['l2'])],\n",
    "        remainder = 'passthrough',\n",
    "        verbose_feature_names_out = False\n",
    "    )\n",
    "series_transformed = m.fit_transform(series)\n",
    "series_transformed = pd.DataFrame(\n",
    "                   data    = series_transformed,\n",
    "                   index   = pd.RangeIndex(start=0, stop=50, step=1),\n",
    "                   columns = ['l1', 'l2']\n",
    "               )\n",
    "\n",
    "forecaster = ForecasterAutoregMultiVariate(LinearRegression(), level='l2',\n",
    "                                           lags=5, steps=5)\n",
    "forecaster.fit(series=series_transformed)\n",
    "results = forecaster.predict(steps=None)\n",
    "\n",
    "# results['l2'] = list(range(5))\n",
    "m.transformers_[1][1].inverse_transform(results)"
   ]
  },
  {
   "cell_type": "code",
   "execution_count": 57,
   "id": "4a6fb174",
   "metadata": {},
   "outputs": [
    {
     "data": {
      "text/plain": [
       "[('scale', StandardScaler(), ['l1']), ('mixmax', MinMaxScaler(), ['l2'])]"
      ]
     },
     "execution_count": 57,
     "metadata": {},
     "output_type": "execute_result"
    }
   ],
   "source": [
    "m.transformers_"
   ]
  },
  {
   "cell_type": "code",
   "execution_count": 59,
   "id": "e7e3fa78",
   "metadata": {},
   "outputs": [
    {
     "data": {
      "text/html": [
       "<div>\n",
       "<style scoped>\n",
       "    .dataframe tbody tr th:only-of-type {\n",
       "        vertical-align: middle;\n",
       "    }\n",
       "\n",
       "    .dataframe tbody tr th {\n",
       "        vertical-align: top;\n",
       "    }\n",
       "\n",
       "    .dataframe thead th {\n",
       "        text-align: right;\n",
       "    }\n",
       "</style>\n",
       "<table border=\"1\" class=\"dataframe\">\n",
       "  <thead>\n",
       "    <tr style=\"text-align: right;\">\n",
       "      <th></th>\n",
       "      <th>l2</th>\n",
       "    </tr>\n",
       "  </thead>\n",
       "  <tbody>\n",
       "    <tr>\n",
       "      <th>50</th>\n",
       "      <td>0.650500</td>\n",
       "    </tr>\n",
       "    <tr>\n",
       "      <th>51</th>\n",
       "      <td>0.575480</td>\n",
       "    </tr>\n",
       "    <tr>\n",
       "      <th>52</th>\n",
       "      <td>0.642787</td>\n",
       "    </tr>\n",
       "    <tr>\n",
       "      <th>53</th>\n",
       "      <td>0.544219</td>\n",
       "    </tr>\n",
       "    <tr>\n",
       "      <th>54</th>\n",
       "      <td>0.785175</td>\n",
       "    </tr>\n",
       "  </tbody>\n",
       "</table>\n",
       "</div>"
      ],
      "text/plain": [
       "          l2\n",
       "50  0.650500\n",
       "51  0.575480\n",
       "52  0.642787\n",
       "53  0.544219\n",
       "54  0.785175"
      ]
     },
     "execution_count": 59,
     "metadata": {},
     "output_type": "execute_result"
    }
   ],
   "source": [
    "forecaster = ForecasterAutoregMultiVariate(\n",
    "                     regressor          = LinearRegression(),\n",
    "                     level              = 'l2',\n",
    "                     lags               = 5,\n",
    "                     steps              = 5,\n",
    "                     transformer_series = {'l1': StandardScaler(), 'l2': MinMaxScaler()}\n",
    "                 )\n",
    "forecaster.fit(series=series)\n",
    "results = forecaster.predict()\n",
    "results"
   ]
  },
  {
   "cell_type": "code",
   "execution_count": 44,
   "id": "633185a8",
   "metadata": {},
   "outputs": [],
   "source": [
    "forecaster = ForecasterAutoregMultiVariate(\n",
    "                     regressor          = LinearRegression(),\n",
    "                     level              = 'l1',\n",
    "                     lags               = 5,\n",
    "                     steps              = 5,\n",
    "                     transformer_series = StandardScaler(),\n",
    "                 )\n",
    "forecaster.fit(series=series)\n",
    "results = forecaster.predict()\n",
    "expected = pd.DataFrame(\n",
    "                data    = np.array([0.60056539, 0.42924504, 0.34173573, 0.44231236, 0.40133213]),\n",
    "                index   = pd.RangeIndex(start=50, stop=55, step=1),\n",
    "                columns = ['l1']\n",
    "            )\n",
    "\n",
    "pd.testing.assert_frame_equal(results, expected)"
   ]
  },
  {
   "cell_type": "code",
   "execution_count": 45,
   "id": "a44d5fce",
   "metadata": {},
   "outputs": [
    {
     "data": {
      "text/html": [
       "<div>\n",
       "<style scoped>\n",
       "    .dataframe tbody tr th:only-of-type {\n",
       "        vertical-align: middle;\n",
       "    }\n",
       "\n",
       "    .dataframe tbody tr th {\n",
       "        vertical-align: top;\n",
       "    }\n",
       "\n",
       "    .dataframe thead th {\n",
       "        text-align: right;\n",
       "    }\n",
       "</style>\n",
       "<table border=\"1\" class=\"dataframe\">\n",
       "  <thead>\n",
       "    <tr style=\"text-align: right;\">\n",
       "      <th></th>\n",
       "      <th>l1</th>\n",
       "    </tr>\n",
       "  </thead>\n",
       "  <tbody>\n",
       "    <tr>\n",
       "      <th>50</th>\n",
       "      <td>0.610432</td>\n",
       "    </tr>\n",
       "    <tr>\n",
       "      <th>51</th>\n",
       "      <td>0.466581</td>\n",
       "    </tr>\n",
       "    <tr>\n",
       "      <th>52</th>\n",
       "      <td>0.549945</td>\n",
       "    </tr>\n",
       "    <tr>\n",
       "      <th>53</th>\n",
       "      <td>0.525612</td>\n",
       "    </tr>\n",
       "    <tr>\n",
       "      <th>54</th>\n",
       "      <td>0.465965</td>\n",
       "    </tr>\n",
       "  </tbody>\n",
       "</table>\n",
       "</div>"
      ],
      "text/plain": [
       "          l1\n",
       "50  0.610432\n",
       "51  0.466581\n",
       "52  0.549945\n",
       "53  0.525612\n",
       "54  0.465965"
      ]
     },
     "execution_count": 45,
     "metadata": {},
     "output_type": "execute_result"
    }
   ],
   "source": [
    "transformer_exog = ColumnTransformer(\n",
    "                            [('scale', StandardScaler(), ['exog_1']),\n",
    "                             ('onehot', OneHotEncoder(), ['exog_2'])],\n",
    "                            remainder = 'passthrough',\n",
    "                            verbose_feature_names_out = False\n",
    "                       )\n",
    "forecaster = ForecasterAutoregMultiVariate(\n",
    "                    regressor          = LinearRegression(),\n",
    "                    level              = 'l1',\n",
    "                    lags               = 5,\n",
    "                    steps              = 5,\n",
    "                    transformer_series = StandardScaler(),\n",
    "                    transformer_exog   = transformer_exog\n",
    "                )\n",
    "forecaster.fit(series=series, exog=exog)\n",
    "results = forecaster.predict(steps=[1, 2, 3, 4, 5], exog=exog)\n",
    "results"
   ]
  },
  {
   "cell_type": "code",
   "execution_count": 47,
   "id": "9d344d28",
   "metadata": {},
   "outputs": [
    {
     "data": {
      "text/plain": [
       "{'l1': StandardScaler(), 'l2': StandardScaler()}"
      ]
     },
     "execution_count": 47,
     "metadata": {},
     "output_type": "execute_result"
    }
   ],
   "source": [
    "forecaster.transformer_series_"
   ]
  },
  {
   "cell_type": "code",
   "execution_count": 48,
   "id": "67d0b3a1",
   "metadata": {},
   "outputs": [
    {
     "data": {
      "text/plain": [
       "array([[0.61043227, 0.50099989],\n",
       "       [0.46658137, 0.75864045],\n",
       "       [0.54994519, 1.01628101],\n",
       "       [0.52561227, 1.27392157],\n",
       "       [0.46596527, 1.53156213]])"
      ]
     },
     "execution_count": 48,
     "metadata": {},
     "output_type": "execute_result"
    }
   ],
   "source": [
    "m = StandardScaler()\n",
    "series_transformed = m.fit_transform(series)\n",
    "series_transformed = pd.DataFrame(\n",
    "                   data    = series_transformed,\n",
    "                   index   = pd.RangeIndex(start=0, stop=50, step=1),\n",
    "                   columns = ['l1', 'l2']\n",
    "               )\n",
    "\n",
    "exog_tra =  ColumnTransformer(\n",
    "                [('scale', StandardScaler(), ['exog_1']),\n",
    "                    ('onehot', OneHotEncoder(), ['exog_2'])],\n",
    "                remainder = 'passthrough',\n",
    "                verbose_feature_names_out = False\n",
    "            )\n",
    "exog_transformed = exog_tra.fit_transform(exog)\n",
    "exog_transformed = pd.DataFrame(\n",
    "                   data    = exog_transformed,\n",
    "                   index   = pd.RangeIndex(start=0, stop=50, step=1),\n",
    "                   columns = ['exog_1', 'exog_2_a', 'exog_2_b']\n",
    "               )\n",
    "\n",
    "forecaster = ForecasterAutoregMultiVariate(LinearRegression(), level='l1',\n",
    "                                           lags=5, steps=5)\n",
    "forecaster.fit(series=series_transformed, exog=exog_transformed)\n",
    "results = forecaster.predict(steps=None, exog=exog_transformed)\n",
    "\n",
    "results['l2'] = list(range(5))\n",
    "m.inverse_transform(results)"
   ]
  },
  {
   "cell_type": "code",
   "execution_count": 4,
   "id": "52d91894",
   "metadata": {},
   "outputs": [
    {
     "ename": "NameError",
     "evalue": "name 'ForecasterAutoregMultiVariate' is not defined",
     "output_type": "error",
     "traceback": [
      "\u001b[1;31m---------------------------------------------------------------------------\u001b[0m",
      "\u001b[1;31mNameError\u001b[0m                                 Traceback (most recent call last)",
      "Cell \u001b[1;32mIn [4], line 11\u001b[0m\n\u001b[0;32m      6\u001b[0m \u001b[39mfrom\u001b[39;00m \u001b[39msklearn\u001b[39;00m\u001b[39m.\u001b[39;00m\u001b[39mensemble\u001b[39;00m \u001b[39mimport\u001b[39;00m RandomForestRegressor\n\u001b[0;32m      8\u001b[0m series \u001b[39m=\u001b[39m pd\u001b[39m.\u001b[39mDataFrame({\u001b[39m'\u001b[39m\u001b[39ml1\u001b[39m\u001b[39m'\u001b[39m: pd\u001b[39m.\u001b[39mSeries(np\u001b[39m.\u001b[39marange(\u001b[39m10\u001b[39m)), \n\u001b[0;32m      9\u001b[0m                         \u001b[39m'\u001b[39m\u001b[39ml2\u001b[39m\u001b[39m'\u001b[39m: pd\u001b[39m.\u001b[39mSeries(np\u001b[39m.\u001b[39marange(\u001b[39m10\u001b[39m))\n\u001b[0;32m     10\u001b[0m                         })\n\u001b[1;32m---> 11\u001b[0m forecaster \u001b[39m=\u001b[39m ForecasterAutoregMultiVariate(\n\u001b[0;32m     12\u001b[0m                     regressor \u001b[39m=\u001b[39m make_pipeline(StandardScaler(), RandomForestRegressor(random_state\u001b[39m=\u001b[39m\u001b[39m123\u001b[39m)),\n\u001b[0;32m     13\u001b[0m                     level     \u001b[39m=\u001b[39m \u001b[39m'\u001b[39m\u001b[39ml1\u001b[39m\u001b[39m'\u001b[39m,\n\u001b[0;32m     14\u001b[0m                     lags      \u001b[39m=\u001b[39m \u001b[39m3\u001b[39m,\n\u001b[0;32m     15\u001b[0m                     steps     \u001b[39m=\u001b[39m \u001b[39m1\u001b[39m\n\u001b[0;32m     16\u001b[0m                 )\n\u001b[0;32m     17\u001b[0m forecaster\u001b[39m.\u001b[39mfit(series\u001b[39m=\u001b[39mseries)\n\u001b[0;32m     18\u001b[0m \u001b[39m# forecaster.fit(series=series, exog=pd.Series(np.arange(10), name='exog'))\u001b[39;00m\n",
      "\u001b[1;31mNameError\u001b[0m: name 'ForecasterAutoregMultiVariate' is not defined"
     ]
    }
   ],
   "source": [
    "from sklearn.exceptions import NotFittedError\n",
    "from sklearn.pipeline import make_pipeline\n",
    "from sklearn.preprocessing import StandardScaler\n",
    "from sklearn.linear_model import LinearRegression\n",
    "from sklearn.neural_network import MLPRegressor\n",
    "from sklearn.ensemble import RandomForestRegressor\n",
    "\n",
    "series = pd.DataFrame({'l1': pd.Series(np.arange(10)), \n",
    "                        'l2': pd.Series(np.arange(10))\n",
    "                        })\n",
    "forecaster = ForecasterAutoregMultiVariate(\n",
    "                    regressor = make_pipeline(StandardScaler(), RandomForestRegressor(random_state=123)),\n",
    "                    level     = 'l1',\n",
    "                    lags      = 3,\n",
    "                    steps     = 1\n",
    "                )\n",
    "forecaster.fit(series=series)\n",
    "# forecaster.fit(series=series, exog=pd.Series(np.arange(10), name='exog'))\n",
    "forecaster.regressors_[0][-1].feature_importances_"
   ]
  },
  {
   "cell_type": "code",
   "execution_count": 79,
   "id": "f73f2ff6",
   "metadata": {},
   "outputs": [],
   "source": [
    "import re\n",
    "import pytest\n",
    "import numpy as np\n",
    "import pandas as pd\n",
    "from pytest import approx\n",
    "import sys\n",
    "from sklearn.linear_model import Ridge\n",
    "from sklearn.metrics import mean_absolute_error\n",
    "from sklearn.metrics import mean_squared_error\n",
    "from sklearn.exceptions import NotFittedError\n",
    "from skforecast.ForecasterAutoreg import ForecasterAutoreg\n",
    "from skforecast.ForecasterAutoregMultiSeries import ForecasterAutoregMultiSeries\n",
    "from skforecast.ForecasterAutoregMultiVariate import ForecasterAutoregMultiVariate\n",
    "from skforecast.model_selection_multiseries import backtesting_forecaster_multiseries\n",
    "from skforecast.model_selection_multiseries.model_selection_multiseries import _evaluate_grid_hyperparameters_multiseries\n",
    "from skforecast.model_selection_multiseries import grid_search_forecaster_multiseries\n",
    "from skforecast.model_selection_multiseries import random_search_forecaster_multiseries"
   ]
  },
  {
   "cell_type": "code",
   "execution_count": 6,
   "id": "e55f5b61",
   "metadata": {},
   "outputs": [],
   "source": [
    "series = pd.DataFrame({'l1': pd.Series(np.array(\n",
    "                                 [0.69646919, 0.28613933, 0.22685145, 0.55131477, 0.71946897,\n",
    "                                  0.42310646, 0.9807642 , 0.68482974, 0.4809319 , 0.39211752,\n",
    "                                  0.34317802, 0.72904971, 0.43857224, 0.0596779 , 0.39804426,\n",
    "                                  0.73799541, 0.18249173, 0.17545176, 0.53155137, 0.53182759,\n",
    "                                  0.63440096, 0.84943179, 0.72445532, 0.61102351, 0.72244338,\n",
    "                                  0.32295891, 0.36178866, 0.22826323, 0.29371405, 0.63097612,\n",
    "                                  0.09210494, 0.43370117, 0.43086276, 0.4936851 , 0.42583029,\n",
    "                                  0.31226122, 0.42635131, 0.89338916, 0.94416002, 0.50183668,\n",
    "                                  0.62395295, 0.1156184 , 0.31728548, 0.41482621, 0.86630916,\n",
    "                                  0.25045537, 0.48303426, 0.98555979, 0.51948512, 0.61289453]\n",
    "                                       )\n",
    "                             ), \n",
    "                       'l2': pd.Series(np.array(\n",
    "                                 [0.12062867, 0.8263408 , 0.60306013, 0.54506801, 0.34276383,\n",
    "                                  0.30412079, 0.41702221, 0.68130077, 0.87545684, 0.51042234,\n",
    "                                  0.66931378, 0.58593655, 0.6249035 , 0.67468905, 0.84234244,\n",
    "                                  0.08319499, 0.76368284, 0.24366637, 0.19422296, 0.57245696,\n",
    "                                  0.09571252, 0.88532683, 0.62724897, 0.72341636, 0.01612921,\n",
    "                                  0.59443188, 0.55678519, 0.15895964, 0.15307052, 0.69552953,\n",
    "                                  0.31876643, 0.6919703 , 0.55438325, 0.38895057, 0.92513249,\n",
    "                                  0.84167   , 0.35739757, 0.04359146, 0.30476807, 0.39818568,\n",
    "                                  0.70495883, 0.99535848, 0.35591487, 0.76254781, 0.59317692,\n",
    "                                  0.6917018 , 0.15112745, 0.39887629, 0.2408559 , 0.34345601]\n",
    "                                       )\n",
    "                             )\n",
    "         })"
   ]
  },
  {
   "cell_type": "code",
   "execution_count": 88,
   "id": "f447158f",
   "metadata": {},
   "outputs": [
    {
     "name": "stderr",
     "output_type": "stream",
     "text": [
      "c:\\Users\\jaesc2\\GitHub\\skforecast\\skforecast\\model_selection_multiseries\\model_selection_multiseries.py:864: UserWarning: `levels_weights` is deprecated since version 0.6.0, and will be removed in version 0.7.0. Use `series_weights` when creating the forecaster instead.\n",
      "  warnings.warn(\n"
     ]
    },
    {
     "name": "stdout",
     "output_type": "stream",
     "text": [
      "6 models compared for 1 level(s). Number of iterations: 6.\n"
     ]
    },
    {
     "name": "stderr",
     "output_type": "stream",
     "text": [
      "loop lags_grid: 100%|███████████████████████████████████████| 2/2 [00:00<00:00, 41.12it/s]\n"
     ]
    }
   ],
   "source": [
    "    forecaster = ForecasterAutoregMultiVariate(\n",
    "                     regressor = Ridge(random_state=123),\n",
    "                     level     = 'l1',\n",
    "                     lags      = 2,\n",
    "                     steps     = 3\n",
    "                 )\n",
    "\n",
    "    steps = 3\n",
    "    n_validation = 12\n",
    "    lags_grid = [2, 4]\n",
    "    param_distributions = {'alpha':np.logspace(-5, 3, 10)}\n",
    "    n_iter = 3\n",
    "\n",
    "    results = random_search_forecaster_multiseries(\n",
    "                    forecaster          = forecaster,\n",
    "                    series              = series,\n",
    "                    param_distributions = param_distributions,\n",
    "                    steps               = steps,\n",
    "                    metric              = 'mean_absolute_error',\n",
    "                    initial_train_size  = len(series) - n_validation,\n",
    "                    fixed_train_size    = False,\n",
    "                    levels              = None,\n",
    "                    levels_weights      = None,\n",
    "                    exog                = None,\n",
    "                    lags_grid           = lags_grid,\n",
    "                    refit               = False,\n",
    "                    n_iter              = n_iter,\n",
    "                    return_best         = False,\n",
    "                    verbose             = False\n",
    "              )"
   ]
  },
  {
   "cell_type": "code",
   "execution_count": 89,
   "id": "cd3b3878",
   "metadata": {},
   "outputs": [
    {
     "data": {
      "text/html": [
       "<div>\n",
       "<style scoped>\n",
       "    .dataframe tbody tr th:only-of-type {\n",
       "        vertical-align: middle;\n",
       "    }\n",
       "\n",
       "    .dataframe tbody tr th {\n",
       "        vertical-align: top;\n",
       "    }\n",
       "\n",
       "    .dataframe thead th {\n",
       "        text-align: right;\n",
       "    }\n",
       "</style>\n",
       "<table border=\"1\" class=\"dataframe\">\n",
       "  <thead>\n",
       "    <tr style=\"text-align: right;\">\n",
       "      <th></th>\n",
       "      <th>levels</th>\n",
       "      <th>lags</th>\n",
       "      <th>params</th>\n",
       "      <th>mean_absolute_error</th>\n",
       "      <th>alpha</th>\n",
       "    </tr>\n",
       "  </thead>\n",
       "  <tbody>\n",
       "    <tr>\n",
       "      <th>1</th>\n",
       "      <td>[l1]</td>\n",
       "      <td>[1, 2]</td>\n",
       "      <td>{'alpha': 1e-05}</td>\n",
       "      <td>0.201071</td>\n",
       "      <td>0.000010</td>\n",
       "    </tr>\n",
       "    <tr>\n",
       "      <th>0</th>\n",
       "      <td>[l1]</td>\n",
       "      <td>[1, 2]</td>\n",
       "      <td>{'alpha': 0.03593813663804626}</td>\n",
       "      <td>0.201357</td>\n",
       "      <td>0.035938</td>\n",
       "    </tr>\n",
       "    <tr>\n",
       "      <th>2</th>\n",
       "      <td>[l1]</td>\n",
       "      <td>[1, 2]</td>\n",
       "      <td>{'alpha': 16.681005372000556}</td>\n",
       "      <td>0.209912</td>\n",
       "      <td>16.681005</td>\n",
       "    </tr>\n",
       "    <tr>\n",
       "      <th>5</th>\n",
       "      <td>[l1]</td>\n",
       "      <td>[1, 2, 3, 4]</td>\n",
       "      <td>{'alpha': 16.681005372000556}</td>\n",
       "      <td>0.211212</td>\n",
       "      <td>16.681005</td>\n",
       "    </tr>\n",
       "    <tr>\n",
       "      <th>3</th>\n",
       "      <td>[l1]</td>\n",
       "      <td>[1, 2, 3, 4]</td>\n",
       "      <td>{'alpha': 0.03593813663804626}</td>\n",
       "      <td>0.226403</td>\n",
       "      <td>0.035938</td>\n",
       "    </tr>\n",
       "    <tr>\n",
       "      <th>4</th>\n",
       "      <td>[l1]</td>\n",
       "      <td>[1, 2, 3, 4]</td>\n",
       "      <td>{'alpha': 1e-05}</td>\n",
       "      <td>0.226454</td>\n",
       "      <td>0.000010</td>\n",
       "    </tr>\n",
       "  </tbody>\n",
       "</table>\n",
       "</div>"
      ],
      "text/plain": [
       "  levels          lags                          params  mean_absolute_error  \\\n",
       "1   [l1]        [1, 2]                {'alpha': 1e-05}             0.201071   \n",
       "0   [l1]        [1, 2]  {'alpha': 0.03593813663804626}             0.201357   \n",
       "2   [l1]        [1, 2]   {'alpha': 16.681005372000556}             0.209912   \n",
       "5   [l1]  [1, 2, 3, 4]   {'alpha': 16.681005372000556}             0.211212   \n",
       "3   [l1]  [1, 2, 3, 4]  {'alpha': 0.03593813663804626}             0.226403   \n",
       "4   [l1]  [1, 2, 3, 4]                {'alpha': 1e-05}             0.226454   \n",
       "\n",
       "       alpha  \n",
       "1   0.000010  \n",
       "0   0.035938  \n",
       "2  16.681005  \n",
       "5  16.681005  \n",
       "3   0.035938  \n",
       "4   0.000010  "
      ]
     },
     "execution_count": 89,
     "metadata": {},
     "output_type": "execute_result"
    }
   ],
   "source": [
    "results"
   ]
  },
  {
   "cell_type": "code",
   "execution_count": 92,
   "id": "3f73201a",
   "metadata": {},
   "outputs": [
    {
     "data": {
      "text/plain": [
       "array([1.00000000e-05, 3.59381366e-02, 1.66810054e+01, 1.66810054e+01,\n",
       "       3.59381366e-02, 1.00000000e-05])"
      ]
     },
     "execution_count": 92,
     "metadata": {},
     "output_type": "execute_result"
    }
   ],
   "source": [
    "results.alpha.values"
   ]
  },
  {
   "cell_type": "code",
   "execution_count": 86,
   "id": "53576c38",
   "metadata": {},
   "outputs": [
    {
     "ename": "AttributeError",
     "evalue": "'DataFrame' object has no attribute 'mean_squared_error'",
     "output_type": "error",
     "traceback": [
      "\u001b[1;31m---------------------------------------------------------------------------\u001b[0m",
      "\u001b[1;31mAttributeError\u001b[0m                            Traceback (most recent call last)",
      "Cell \u001b[1;32mIn [86], line 1\u001b[0m\n\u001b[1;32m----> 1\u001b[0m results\u001b[39m.\u001b[39mmean_squared_error\u001b[39m.\u001b[39mvalues\n",
      "File \u001b[1;32mc:\\Users\\jaesc2\\Miniconda3\\envs\\skforecast\\lib\\site-packages\\pandas\\core\\generic.py:5583\u001b[0m, in \u001b[0;36mNDFrame.__getattr__\u001b[1;34m(self, name)\u001b[0m\n\u001b[0;32m   5576\u001b[0m \u001b[39mif\u001b[39;00m (\n\u001b[0;32m   5577\u001b[0m     name \u001b[39mnot\u001b[39;00m \u001b[39min\u001b[39;00m \u001b[39mself\u001b[39m\u001b[39m.\u001b[39m_internal_names_set\n\u001b[0;32m   5578\u001b[0m     \u001b[39mand\u001b[39;00m name \u001b[39mnot\u001b[39;00m \u001b[39min\u001b[39;00m \u001b[39mself\u001b[39m\u001b[39m.\u001b[39m_metadata\n\u001b[0;32m   5579\u001b[0m     \u001b[39mand\u001b[39;00m name \u001b[39mnot\u001b[39;00m \u001b[39min\u001b[39;00m \u001b[39mself\u001b[39m\u001b[39m.\u001b[39m_accessors\n\u001b[0;32m   5580\u001b[0m     \u001b[39mand\u001b[39;00m \u001b[39mself\u001b[39m\u001b[39m.\u001b[39m_info_axis\u001b[39m.\u001b[39m_can_hold_identifiers_and_holds_name(name)\n\u001b[0;32m   5581\u001b[0m ):\n\u001b[0;32m   5582\u001b[0m     \u001b[39mreturn\u001b[39;00m \u001b[39mself\u001b[39m[name]\n\u001b[1;32m-> 5583\u001b[0m \u001b[39mreturn\u001b[39;00m \u001b[39mobject\u001b[39;49m\u001b[39m.\u001b[39;49m\u001b[39m__getattribute__\u001b[39;49m(\u001b[39mself\u001b[39;49m, name)\n",
      "\u001b[1;31mAttributeError\u001b[0m: 'DataFrame' object has no attribute 'mean_squared_error'"
     ]
    }
   ],
   "source": [
    "results.mean_squared_error.values"
   ]
  },
  {
   "cell_type": "code",
   "execution_count": 55,
   "id": "dc931b86",
   "metadata": {},
   "outputs": [
    {
     "data": {
      "text/plain": [
       "array([0.01, 0.1 , 1.  , 1.  , 0.1 , 0.01, 1.  , 0.1 , 0.01])"
      ]
     },
     "execution_count": 55,
     "metadata": {},
     "output_type": "execute_result"
    }
   ],
   "source": [
    "results.alpha.values"
   ]
  },
  {
   "cell_type": "code",
   "execution_count": 56,
   "id": "33b658bc",
   "metadata": {},
   "outputs": [
    {
     "data": {
      "text/plain": [
       "Int64Index([0, 1, 2, 5, 4, 3, 8, 7, 6], dtype='int64')"
      ]
     },
     "execution_count": 56,
     "metadata": {},
     "output_type": "execute_result"
    }
   ],
   "source": [
    "results.index"
   ]
  },
  {
   "cell_type": "code",
   "execution_count": 93,
   "id": "b98c996f",
   "metadata": {},
   "outputs": [
    {
     "name": "stderr",
     "output_type": "stream",
     "text": [
      "c:\\Users\\jaesc2\\GitHub\\skforecast\\skforecast\\model_selection_multiseries\\model_selection_multiseries.py:864: UserWarning: `levels_weights` is deprecated since version 0.6.0, and will be removed in version 0.7.0. Use `series_weights` when creating the forecaster instead.\n",
      "  warnings.warn(\n"
     ]
    },
    {
     "name": "stdout",
     "output_type": "stream",
     "text": [
      "6 models compared for 1 level(s). Number of iterations: 6.\n"
     ]
    },
    {
     "name": "stderr",
     "output_type": "stream",
     "text": [
      "loop lags_grid:   0%|                                               | 0/2 [00:00<?, ?it/s]"
     ]
    },
    {
     "name": "stdout",
     "output_type": "stream",
     "text": [
      "Information of backtesting process\n",
      "----------------------------------\n",
      "Number of observations used for initial training: 38\n",
      "Number of observations used for backtesting: 12\n",
      "    Number of folds: 4\n",
      "    Number of steps per fold: 3\n",
      "\n",
      "Data partition in fold: 0\n",
      "    Training:   0 -- 37  (n=38)\n",
      "    Validation: 38 -- 40  (n=3)\n",
      "Data partition in fold: 1\n",
      "    Training:   0 -- 37  (n=38)\n",
      "    Validation: 41 -- 43  (n=3)\n",
      "Data partition in fold: 2\n",
      "    Training:   0 -- 37  (n=38)\n",
      "    Validation: 44 -- 46  (n=3)\n",
      "Data partition in fold: 3\n",
      "    Training:   0 -- 37  (n=38)\n",
      "    Validation: 47 -- 49  (n=3)\n",
      "\n",
      "Information of backtesting process\n",
      "----------------------------------\n",
      "Number of observations used for initial training: 38\n",
      "Number of observations used for backtesting: 12\n",
      "    Number of folds: 4\n",
      "    Number of steps per fold: 3\n",
      "\n",
      "Data partition in fold: 0\n",
      "    Training:   0 -- 37  (n=38)\n",
      "    Validation: 38 -- 40  (n=3)\n",
      "Data partition in fold: 1\n",
      "    Training:   0 -- 37  (n=38)\n",
      "    Validation: 41 -- 43  (n=3)\n",
      "Data partition in fold: 2\n",
      "    Training:   0 -- 37  (n=38)\n",
      "    Validation: 44 -- 46  (n=3)\n",
      "Data partition in fold: 3\n",
      "    Training:   0 -- 37  (n=38)\n",
      "    Validation: 47 -- 49  (n=3)\n",
      "\n",
      "Information of backtesting process\n",
      "----------------------------------\n",
      "Number of observations used for initial training: 38\n",
      "Number of observations used for backtesting: 12\n",
      "    Number of folds: 4\n",
      "    Number of steps per fold: 3\n",
      "\n",
      "Data partition in fold: 0\n",
      "    Training:   0 -- 37  (n=38)\n",
      "    Validation: 38 -- 40  (n=3)\n",
      "Data partition in fold: 1\n",
      "    Training:   0 -- 37  (n=38)\n",
      "    Validation: 41 -- 43  (n=3)\n",
      "Data partition in fold: 2\n",
      "    Training:   0 -- 37  (n=38)\n",
      "    Validation: 44 -- 46  (n=3)\n",
      "Data partition in fold: 3\n",
      "    Training:   0 -- 37  (n=38)\n",
      "    Validation: 47 -- 49  (n=3)\n",
      "\n"
     ]
    },
    {
     "name": "stderr",
     "output_type": "stream",
     "text": [
      "loop lags_grid: 100%|███████████████████████████████████████| 2/2 [00:00<00:00, 39.56it/s]"
     ]
    },
    {
     "name": "stdout",
     "output_type": "stream",
     "text": [
      "Information of backtesting process\n",
      "----------------------------------\n",
      "Number of observations used for initial training: 38\n",
      "Number of observations used for backtesting: 12\n",
      "    Number of folds: 4\n",
      "    Number of steps per fold: 3\n",
      "\n",
      "Data partition in fold: 0\n",
      "    Training:   0 -- 37  (n=38)\n",
      "    Validation: 38 -- 40  (n=3)\n",
      "Data partition in fold: 1\n",
      "    Training:   0 -- 37  (n=38)\n",
      "    Validation: 41 -- 43  (n=3)\n",
      "Data partition in fold: 2\n",
      "    Training:   0 -- 37  (n=38)\n",
      "    Validation: 44 -- 46  (n=3)\n",
      "Data partition in fold: 3\n",
      "    Training:   0 -- 37  (n=38)\n",
      "    Validation: 47 -- 49  (n=3)\n",
      "\n",
      "Information of backtesting process\n",
      "----------------------------------\n",
      "Number of observations used for initial training: 38\n",
      "Number of observations used for backtesting: 12\n",
      "    Number of folds: 4\n",
      "    Number of steps per fold: 3\n",
      "\n",
      "Data partition in fold: 0\n",
      "    Training:   0 -- 37  (n=38)\n",
      "    Validation: 38 -- 40  (n=3)\n",
      "Data partition in fold: 1\n",
      "    Training:   0 -- 37  (n=38)\n",
      "    Validation: 41 -- 43  (n=3)\n",
      "Data partition in fold: 2\n",
      "    Training:   0 -- 37  (n=38)\n",
      "    Validation: 44 -- 46  (n=3)\n",
      "Data partition in fold: 3\n",
      "    Training:   0 -- 37  (n=38)\n",
      "    Validation: 47 -- 49  (n=3)\n",
      "\n",
      "Information of backtesting process\n",
      "----------------------------------\n",
      "Number of observations used for initial training: 38\n",
      "Number of observations used for backtesting: 12\n",
      "    Number of folds: 4\n",
      "    Number of steps per fold: 3\n",
      "\n",
      "Data partition in fold: 0\n",
      "    Training:   0 -- 37  (n=38)\n",
      "    Validation: 38 -- 40  (n=3)\n",
      "Data partition in fold: 1\n",
      "    Training:   0 -- 37  (n=38)\n",
      "    Validation: 41 -- 43  (n=3)\n",
      "Data partition in fold: 2\n",
      "    Training:   0 -- 37  (n=38)\n",
      "    Validation: 44 -- 46  (n=3)\n",
      "Data partition in fold: 3\n",
      "    Training:   0 -- 37  (n=38)\n",
      "    Validation: 47 -- 49  (n=3)\n",
      "\n"
     ]
    },
    {
     "name": "stderr",
     "output_type": "stream",
     "text": [
      "\n"
     ]
    }
   ],
   "source": [
    "    forecaster = ForecasterAutoregMultiVariate(\n",
    "                     regressor = Ridge(random_state=123),\n",
    "                     level     = 'l1',\n",
    "                     lags      = 2,\n",
    "                     steps     = 3\n",
    "                 )\n",
    "\n",
    "    steps = 3\n",
    "    n_validation = 12\n",
    "    lags_grid = [2, 4]\n",
    "    param_distributions = {'alpha':np.logspace(-5, 3, 10)}\n",
    "    n_iter = 3\n",
    "\n",
    "    results = random_search_forecaster_multiseries(\n",
    "                    forecaster          = forecaster,\n",
    "                    series              = series,\n",
    "                    param_distributions = param_distributions,\n",
    "                    steps               = steps,\n",
    "                    metric              = 'mean_absolute_error',\n",
    "                    initial_train_size  = len(series) - n_validation,\n",
    "                    fixed_train_size    = False,\n",
    "                    levels              = None,\n",
    "                    levels_weights      = None,\n",
    "                    exog                = None,\n",
    "                    lags_grid           = lags_grid,\n",
    "                    refit               = False,\n",
    "                    n_iter              = n_iter,\n",
    "                    return_best         = False,\n",
    "                    verbose             = True\n",
    "              )\n",
    "    \n",
    "    expected_results = pd.DataFrame({\n",
    "            'levels': [['l1'], ['l1'], ['l1'], ['l1'], ['l1'], ['l1']],\n",
    "            'lags'  : [[1, 2], [1, 2], [1, 2], [1, 2, 3, 4], [1, 2, 3, 4], [1, 2, 3, 4]],\n",
    "            'params': [{'alpha': 1e-05}, {'alpha': 0.03593813663804626}, {'alpha': 16.681005372000556},\n",
    "                       {'alpha': 16.681005372000556}, {'alpha': 0.03593813663804626}, {'alpha': 1e-05}],\n",
    "            'mean_absolute_error': np.array([0.20107097, 0.20135665, 0.20991177, 0.21121154, 0.22640335, 0.22645387]),                                                               \n",
    "            'alpha' : np.array([1.00000000e-05, 3.59381366e-02, 1.66810054e+01, 1.66810054e+01, 3.59381366e-02, 1.00000000e-05])\n",
    "                                     },\n",
    "            index=[1, 0, 2, 5, 3, 4]\n",
    "                                   )\n",
    "\n",
    "    pd.testing.assert_frame_equal(results, expected_results)"
   ]
  },
  {
   "cell_type": "code",
   "execution_count": 82,
   "id": "a83d2156",
   "metadata": {},
   "outputs": [
    {
     "data": {
      "text/html": [
       "<div>\n",
       "<style scoped>\n",
       "    .dataframe tbody tr th:only-of-type {\n",
       "        vertical-align: middle;\n",
       "    }\n",
       "\n",
       "    .dataframe tbody tr th {\n",
       "        vertical-align: top;\n",
       "    }\n",
       "\n",
       "    .dataframe thead th {\n",
       "        text-align: right;\n",
       "    }\n",
       "</style>\n",
       "<table border=\"1\" class=\"dataframe\">\n",
       "  <thead>\n",
       "    <tr style=\"text-align: right;\">\n",
       "      <th></th>\n",
       "      <th>levels</th>\n",
       "      <th>lags</th>\n",
       "      <th>params</th>\n",
       "      <th>mean_absolute_error</th>\n",
       "      <th>alpha</th>\n",
       "    </tr>\n",
       "  </thead>\n",
       "  <tbody>\n",
       "    <tr>\n",
       "      <th>0</th>\n",
       "      <td>[l1]</td>\n",
       "      <td>[1, 2]</td>\n",
       "      <td>{'alpha': 0.01}</td>\n",
       "      <td>0.201152</td>\n",
       "      <td>0.01</td>\n",
       "    </tr>\n",
       "    <tr>\n",
       "      <th>1</th>\n",
       "      <td>[l1]</td>\n",
       "      <td>[1, 2]</td>\n",
       "      <td>{'alpha': 0.1}</td>\n",
       "      <td>0.201830</td>\n",
       "      <td>0.10</td>\n",
       "    </tr>\n",
       "    <tr>\n",
       "      <th>2</th>\n",
       "      <td>[l1]</td>\n",
       "      <td>[1, 2]</td>\n",
       "      <td>{'alpha': 1}</td>\n",
       "      <td>0.205669</td>\n",
       "      <td>1.00</td>\n",
       "    </tr>\n",
       "    <tr>\n",
       "      <th>5</th>\n",
       "      <td>[l1]</td>\n",
       "      <td>[1, 2, 3, 4]</td>\n",
       "      <td>{'alpha': 1}</td>\n",
       "      <td>0.222243</td>\n",
       "      <td>1.00</td>\n",
       "    </tr>\n",
       "    <tr>\n",
       "      <th>4</th>\n",
       "      <td>[l1]</td>\n",
       "      <td>[1, 2, 3, 4]</td>\n",
       "      <td>{'alpha': 0.1}</td>\n",
       "      <td>0.226250</td>\n",
       "      <td>0.10</td>\n",
       "    </tr>\n",
       "    <tr>\n",
       "      <th>3</th>\n",
       "      <td>[l1]</td>\n",
       "      <td>[1, 2, 3, 4]</td>\n",
       "      <td>{'alpha': 0.01}</td>\n",
       "      <td>0.226443</td>\n",
       "      <td>0.01</td>\n",
       "    </tr>\n",
       "  </tbody>\n",
       "</table>\n",
       "</div>"
      ],
      "text/plain": [
       "  levels          lags           params  mean_absolute_error  alpha\n",
       "0   [l1]        [1, 2]  {'alpha': 0.01}             0.201152   0.01\n",
       "1   [l1]        [1, 2]   {'alpha': 0.1}             0.201830   0.10\n",
       "2   [l1]        [1, 2]     {'alpha': 1}             0.205669   1.00\n",
       "5   [l1]  [1, 2, 3, 4]     {'alpha': 1}             0.222243   1.00\n",
       "4   [l1]  [1, 2, 3, 4]   {'alpha': 0.1}             0.226250   0.10\n",
       "3   [l1]  [1, 2, 3, 4]  {'alpha': 0.01}             0.226443   0.01"
      ]
     },
     "execution_count": 82,
     "metadata": {},
     "output_type": "execute_result"
    }
   ],
   "source": [
    "results"
   ]
  },
  {
   "cell_type": "code",
   "execution_count": null,
   "id": "1ecec218",
   "metadata": {},
   "outputs": [],
   "source": []
  }
 ],
 "metadata": {
  "kernelspec": {
   "display_name": "Python 3.9.13 ('skforecast')",
   "language": "python",
   "name": "python3"
  },
  "language_info": {
   "codemirror_mode": {
    "name": "ipython",
    "version": 3
   },
   "file_extension": ".py",
   "mimetype": "text/x-python",
   "name": "python",
   "nbconvert_exporter": "python",
   "pygments_lexer": "ipython3",
   "version": "3.9.13"
  },
  "toc": {
   "base_numbering": 1,
   "nav_menu": {},
   "number_sections": true,
   "sideBar": true,
   "skip_h1_title": false,
   "title_cell": "Table of Contents",
   "title_sidebar": "Contents",
   "toc_cell": false,
   "toc_position": {
    "height": "calc(100% - 180px)",
    "left": "10px",
    "top": "150px",
    "width": "175.594px"
   },
   "toc_section_display": true,
   "toc_window_display": true
  },
  "varInspector": {
   "cols": {
    "lenName": 16,
    "lenType": 16,
    "lenVar": 40
   },
   "kernels_config": {
    "python": {
     "delete_cmd_postfix": "",
     "delete_cmd_prefix": "del ",
     "library": "var_list.py",
     "varRefreshCmd": "print(var_dic_list())"
    },
    "r": {
     "delete_cmd_postfix": ") ",
     "delete_cmd_prefix": "rm(",
     "library": "var_list.r",
     "varRefreshCmd": "cat(var_dic_list()) "
    }
   },
   "types_to_exclude": [
    "module",
    "function",
    "builtin_function_or_method",
    "instance",
    "_Feature"
   ],
   "window_display": false
  },
  "vscode": {
   "interpreter": {
    "hash": "6ffed84beb63baa96f7d22d816ccf3255c078420a09b57d1f48b4641bbf1489e"
   }
  }
 },
 "nbformat": 4,
 "nbformat_minor": 5
}
