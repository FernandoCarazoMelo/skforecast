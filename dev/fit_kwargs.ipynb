{
 "cells": [
  {
   "cell_type": "code",
   "execution_count": 1,
   "metadata": {},
   "outputs": [
    {
     "data": {
      "text/plain": [
       "'/home/ubuntu/varios/skforecast'"
      ]
     },
     "execution_count": 1,
     "metadata": {},
     "output_type": "execute_result"
    }
   ],
   "source": [
    "%load_ext autoreload\n",
    "%autoreload 2\n",
    "import sys\n",
    "from pathlib import Path\n",
    "sys.path.insert(1, str(Path.cwd().parent))\n",
    "str(Path.cwd().parent)"
   ]
  },
  {
   "cell_type": "code",
   "execution_count": 2,
   "metadata": {},
   "outputs": [],
   "source": [
    "from lightgbm import LGBMRegressor\n",
    "import inspect\n",
    "from skforecast.utils import check_select_fit_kwargs"
   ]
  },
  {
   "cell_type": "code",
   "execution_count": 3,
   "metadata": {},
   "outputs": [
    {
     "name": "stderr",
     "output_type": "stream",
     "text": [
      "/home/ubuntu/varios/skforecast/skforecast/utils/utils.py:1441: UserWarning: Argument `sample_weight` ignored. Use `weight_func` to pass a function that defines the individual weights for each sample based on their index.\n",
      "  warnings.warn(\n"
     ]
    },
    {
     "data": {
      "text/plain": [
       "{}"
      ]
     },
     "execution_count": 3,
     "metadata": {},
     "output_type": "execute_result"
    }
   ],
   "source": [
    "check_select_fit_kwargs(LGBMRegressor(), fit_kwargs={'sample_weight': 123})"
   ]
  },
  {
   "cell_type": "code",
   "execution_count": 7,
   "metadata": {},
   "outputs": [],
   "source": [
    "from skforecast.ForecasterAutoreg import ForecasterAutoreg\n",
    "from lightgbm import LGBMRegressor\n",
    "import pytest\n",
    "\n",
    "\n",
    "def test_set_fit_kwargs():\n",
    "    \"\"\"\n",
    "    \"\"\"\n",
    "    forecaster = ForecasterAutoreg(\n",
    "                    regressor = LGBMRegressor(),\n",
    "                    lags = 3,\n",
    "                    fit_kwargs = {'categorical_feature': 'auto'}\n",
    "                 )\n",
    "    new_fit_kwargs = {'categorical_feature': ['exog']}\n",
    "    forecaster.set_fit_kwargs(new_fit_kwargs)\n",
    "    expected = {'categorical_feature': ['exog']}\n",
    "    results = forecaster.fit_kwargs\n",
    "    assert results == expected\n",
    "\n",
    "\n",
    "def test_set_fit_kwargs_ignores_sample_weight():\n",
    "    \"\"\"\n",
    "    \"\"\"\n",
    "    forecaster = ForecasterAutoreg(\n",
    "                    regressor = LGBMRegressor(),\n",
    "                    lags = 3,\n",
    "                    fit_kwargs = {'sample_weight': [1,2,3]}\n",
    "                 )\n",
    "\n",
    "    expected = {}\n",
    "    results = forecaster.fit_kwargs\n",
    "    assert results == expected\n",
    "\n",
    "\n",
    "def test_set_fit_kwargs_ignores_arguments_not_in_regressor_fit():\n",
    "    \"\"\"\n",
    "    \"\"\"\n",
    "    forecaster = ForecasterAutoreg(\n",
    "                    regressor = LGBMRegressor(),\n",
    "                    lags = 3,\n",
    "                    fit_kwargs = {'feature_name':'auto', 'no_valid_argument': 10}\n",
    "                 )\n",
    "\n",
    "    expected = {'feature_name':'auto'}\n",
    "    results = forecaster.fit_kwargs\n",
    "    assert results == expected\n",
    "\n",
    "\n",
    "def test_set_fit_kwargs_ignores_raise_error_when_fit_kwargs_is_not_dict():\n",
    "    \"\"\"\n",
    "    \"\"\"\n",
    "    with pytest.raises(TypeError):\n",
    "        forecaster = ForecasterAutoreg(\n",
    "                        regressor = LGBMRegressor(),\n",
    "                        lags = 3,\n",
    "                        fit_kwargs = 'auto'\n",
    "                    )"
   ]
  },
  {
   "cell_type": "code",
   "execution_count": 8,
   "metadata": {},
   "outputs": [
    {
     "name": "stderr",
     "output_type": "stream",
     "text": [
      "/home/ubuntu/varios/skforecast/skforecast/utils/utils.py:1441: UserWarning: Argument `sample_weight` ignored. Use `weight_func` to pass a function that defines the individual weights for each sample based on their index.\n",
      "  warnings.warn(\n",
      "/home/ubuntu/varios/skforecast/skforecast/utils/utils.py:1435: UserWarning: Argument/s ['no_valid_argument'] ignored since they are not used by the regressor's `fit` method.\n",
      "  warnings.warn(\n"
     ]
    }
   ],
   "source": [
    "test_set_fit_kwargs()\n",
    "test_set_fit_kwargs_ignores_sample_weight()\n",
    "test_set_fit_kwargs_ignores_arguments_not_in_regressor_fit()\n",
    "test_set_fit_kwargs_ignores_raise_error_when_fit_kwargs_is_not_dict()"
   ]
  },
  {
   "cell_type": "code",
   "execution_count": 9,
   "metadata": {},
   "outputs": [
    {
     "data": {
      "text/plain": [
       "{'X': 1}"
      ]
     },
     "execution_count": 9,
     "metadata": {},
     "output_type": "execute_result"
    }
   ],
   "source": [
    "regressor = LGBMRegressor()\n",
    "fit_kwargs = {'X':1, 'b':2, 'c':3}\n",
    "inspect.signature(regressor.fit)\n",
    "# \n",
    "{k:v for k, v in fit_kwargs.items() if k in inspect.signature(regressor.fit).parameters}"
   ]
  },
  {
   "cell_type": "code",
   "execution_count": 12,
   "metadata": {},
   "outputs": [
    {
     "data": {
      "text/plain": [
       "{'X': 1000, 'b': 2, 'c': 3, 'd': 2, 'e': 3}"
      ]
     },
     "execution_count": 12,
     "metadata": {},
     "output_type": "execute_result"
    }
   ],
   "source": [
    "fit_kwargs = {'X':1, 'b':2, 'c':3}\n",
    "fit_kwargs_2 = {'X':1000, 'd':2, 'e':3}\n",
    "fit_kwargs.update(fit_kwargs_2)\n",
    "fit_kwargs"
   ]
  },
  {
   "cell_type": "code",
   "execution_count": 2,
   "metadata": {},
   "outputs": [
    {
     "ename": "TypeError",
     "evalue": "func_2() got an unexpected keyword argument 'c'",
     "output_type": "error",
     "traceback": [
      "\u001b[0;31m---------------------------------------------------------------------------\u001b[0m",
      "\u001b[0;31mTypeError\u001b[0m                                 Traceback (most recent call last)",
      "Cell \u001b[0;32mIn[2], line 8\u001b[0m\n\u001b[1;32m      5\u001b[0m \u001b[39mdef\u001b[39;00m \u001b[39mfunc_2\u001b[39m(b):\n\u001b[1;32m      6\u001b[0m     \u001b[39mpass\u001b[39;00m\n\u001b[0;32m----> 8\u001b[0m func_1(a\u001b[39m=\u001b[39;49m\u001b[39m2\u001b[39;49m, c\u001b[39m=\u001b[39;49m\u001b[39m3\u001b[39;49m, d\u001b[39m=\u001b[39;49m\u001b[39m4\u001b[39;49m, e\u001b[39m=\u001b[39;49m\u001b[39m5\u001b[39;49m)\n",
      "Cell \u001b[0;32mIn[2], line 2\u001b[0m, in \u001b[0;36mfunc_1\u001b[0;34m(a, **fit_kwargs)\u001b[0m\n\u001b[1;32m      1\u001b[0m \u001b[39mdef\u001b[39;00m \u001b[39mfunc_1\u001b[39m(a, \u001b[39m*\u001b[39m\u001b[39m*\u001b[39mfit_kwargs):\n\u001b[0;32m----> 2\u001b[0m     func_2(\u001b[39m*\u001b[39;49m\u001b[39m*\u001b[39;49mfit_kwargs)\n\u001b[1;32m      3\u001b[0m     \u001b[39mpass\u001b[39;00m\n",
      "\u001b[0;31mTypeError\u001b[0m: func_2() got an unexpected keyword argument 'c'"
     ]
    }
   ],
   "source": [
    "def func_1(a, **fit_kwargs):\n",
    "    func_2(**fit_kwargs)\n",
    "    pass\n",
    "\n",
    "def func_2(b):\n",
    "    pass\n",
    "\n",
    "func_1(a=2, c=3, d=4, e=5)"
   ]
  },
  {
   "cell_type": "code",
   "execution_count": 7,
   "metadata": {},
   "outputs": [
    {
     "ename": "TypeError",
     "evalue": "my_func() got an unexpected keyword argument 'c'",
     "output_type": "error",
     "traceback": [
      "\u001b[1;31m---------------------------------------------------------------------------\u001b[0m",
      "\u001b[1;31mTypeError\u001b[0m                                 Traceback (most recent call last)",
      "Cell \u001b[1;32mIn[7], line 1\u001b[0m\n\u001b[1;32m----> 1\u001b[0m my_func(a\u001b[39m=\u001b[39;49m\u001b[39m2\u001b[39;49m, c\u001b[39m=\u001b[39;49m\u001b[39m3\u001b[39;49m)\n",
      "\u001b[1;31mTypeError\u001b[0m: my_func() got an unexpected keyword argument 'c'"
     ]
    }
   ],
   "source": [
    "my_func(a=2, c=3)"
   ]
  }
 ],
 "metadata": {
  "kernelspec": {
   "display_name": "skforecast_py10",
   "language": "python",
   "name": "python3"
  },
  "language_info": {
   "codemirror_mode": {
    "name": "ipython",
    "version": 3
   },
   "file_extension": ".py",
   "mimetype": "text/x-python",
   "name": "python",
   "nbconvert_exporter": "python",
   "pygments_lexer": "ipython3",
   "version": "3.10.9"
  },
  "orig_nbformat": 4,
  "vscode": {
   "interpreter": {
    "hash": "c78d62c1713fdacd99ef7c429003c7324b36fbb551fb8b6860a7ea73e9338235"
   }
  }
 },
 "nbformat": 4,
 "nbformat_minor": 2
}
