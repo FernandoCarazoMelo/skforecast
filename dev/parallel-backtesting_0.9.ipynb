{
 "cells": [
  {
   "attachments": {},
   "cell_type": "markdown",
   "metadata": {},
   "source": [
    "# Understanding joblib multiprocess"
   ]
  },
  {
   "attachments": {},
   "cell_type": "markdown",
   "metadata": {},
   "source": [
    "## Parallel barcktesting"
   ]
  },
  {
   "cell_type": "code",
   "execution_count": 16,
   "metadata": {},
   "outputs": [
    {
     "name": "stdout",
     "output_type": "stream",
     "text": [
      "The autoreload extension is already loaded. To reload it, use:\n",
      "  %reload_ext autoreload\n"
     ]
    },
    {
     "data": {
      "text/plain": [
       "'/home/ubuntu/varios/skforecast'"
      ]
     },
     "execution_count": 16,
     "metadata": {},
     "output_type": "execute_result"
    }
   ],
   "source": [
    "%load_ext autoreload\n",
    "%autoreload 2\n",
    "import sys\n",
    "from pathlib import Path\n",
    "sys.path.insert(1, str(Path.cwd().parent))\n",
    "str(Path.cwd().parent)"
   ]
  },
  {
   "cell_type": "code",
   "execution_count": 17,
   "metadata": {},
   "outputs": [
    {
     "name": "stdout",
     "output_type": "stream",
     "text": [
      "0.9.0\n"
     ]
    }
   ],
   "source": [
    "import numpy as np\n",
    "import pandas as pd\n",
    "\n",
    "from sklearn.linear_model import LinearRegression\n",
    "from sklearn.ensemble import HistGradientBoostingRegressor\n",
    "from skforecast.model_selection import backtesting_forecaster\n",
    "from skforecast.model_selection import grid_search_forecaster\n",
    "from skforecast.ForecasterAutoreg import ForecasterAutoreg\n",
    "import skforecast \n",
    "print(skforecast.__version__)"
   ]
  },
  {
   "cell_type": "code",
   "execution_count": 18,
   "metadata": {},
   "outputs": [
    {
     "data": {
      "text/plain": [
       "0       0.682352\n",
       "1       0.053821\n",
       "2       0.220360\n",
       "3       0.184372\n",
       "4       0.175906\n",
       "          ...   \n",
       "9995    0.344087\n",
       "9996    0.517366\n",
       "9997    0.502259\n",
       "9998    0.370318\n",
       "9999    0.408432\n",
       "Name: y, Length: 10000, dtype: float64"
      ]
     },
     "execution_count": 18,
     "metadata": {},
     "output_type": "execute_result"
    }
   ],
   "source": [
    "forecaster = ForecasterAutoreg(regressor=HistGradientBoostingRegressor(random_state=666), lags=50)\n",
    "#forecaster = ForecasterAutoreg(regressor=LinearRegression(), lags=50)\n",
    "n=10_000\n",
    "rgn = np.random.default_rng(seed=123)\n",
    "y = pd.Series(rgn.random(size=(n)), name=\"y\")\n",
    "exog = pd.DataFrame(rgn.random(size=(n, 10)))\n",
    "exog.columns = [f\"col_{i}\" for i in range(exog.shape[1])]\n",
    "y_train = y[:-int(n/2)]\n",
    "y"
   ]
  },
  {
   "cell_type": "code",
   "execution_count": 19,
   "metadata": {},
   "outputs": [
    {
     "data": {
      "application/vnd.jupyter.widget-view+json": {
       "model_id": "43b7d6adb50f4fb38f28f813f3f66d47",
       "version_major": 2,
       "version_minor": 0
      },
      "text/plain": [
       "  0%|          | 0/209 [00:00<?, ?it/s]"
      ]
     },
     "metadata": {},
     "output_type": "display_data"
    },
    {
     "name": "stderr",
     "output_type": "stream",
     "text": [
      "/home/ubuntu/varios/skforecast/skforecast/model_selection/model_selection.py:427: LongTrainingWarning: The forecaster will be fit 209 times. This can take substantial amounts of time. If not feasible, try with `refit = False`.\n",
      " \n",
      " You can suppress this warning using: warnings.simplefilter('ignore', category=LongTrainingWarning)\n",
      "  warnings.warn(\n"
     ]
    },
    {
     "name": "stdout",
     "output_type": "stream",
     "text": [
      "0.08474745575115451\n"
     ]
    },
    {
     "data": {
      "text/html": [
       "<div>\n",
       "<style scoped>\n",
       "    .dataframe tbody tr th:only-of-type {\n",
       "        vertical-align: middle;\n",
       "    }\n",
       "\n",
       "    .dataframe tbody tr th {\n",
       "        vertical-align: top;\n",
       "    }\n",
       "\n",
       "    .dataframe thead th {\n",
       "        text-align: right;\n",
       "    }\n",
       "</style>\n",
       "<table border=\"1\" class=\"dataframe\">\n",
       "  <thead>\n",
       "    <tr style=\"text-align: right;\">\n",
       "      <th></th>\n",
       "      <th>pred</th>\n",
       "    </tr>\n",
       "  </thead>\n",
       "  <tbody>\n",
       "    <tr>\n",
       "      <th>5000</th>\n",
       "      <td>0.547143</td>\n",
       "    </tr>\n",
       "    <tr>\n",
       "      <th>5001</th>\n",
       "      <td>0.492890</td>\n",
       "    </tr>\n",
       "    <tr>\n",
       "      <th>5002</th>\n",
       "      <td>0.439208</td>\n",
       "    </tr>\n",
       "    <tr>\n",
       "      <th>5003</th>\n",
       "      <td>0.514884</td>\n",
       "    </tr>\n",
       "    <tr>\n",
       "      <th>5004</th>\n",
       "      <td>0.514389</td>\n",
       "    </tr>\n",
       "    <tr>\n",
       "      <th>...</th>\n",
       "      <td>...</td>\n",
       "    </tr>\n",
       "    <tr>\n",
       "      <th>9995</th>\n",
       "      <td>0.495218</td>\n",
       "    </tr>\n",
       "    <tr>\n",
       "      <th>9996</th>\n",
       "      <td>0.514729</td>\n",
       "    </tr>\n",
       "    <tr>\n",
       "      <th>9997</th>\n",
       "      <td>0.475121</td>\n",
       "    </tr>\n",
       "    <tr>\n",
       "      <th>9998</th>\n",
       "      <td>0.467349</td>\n",
       "    </tr>\n",
       "    <tr>\n",
       "      <th>9999</th>\n",
       "      <td>0.629357</td>\n",
       "    </tr>\n",
       "  </tbody>\n",
       "</table>\n",
       "<p>5000 rows × 1 columns</p>\n",
       "</div>"
      ],
      "text/plain": [
       "          pred\n",
       "5000  0.547143\n",
       "5001  0.492890\n",
       "5002  0.439208\n",
       "5003  0.514884\n",
       "5004  0.514389\n",
       "...        ...\n",
       "9995  0.495218\n",
       "9996  0.514729\n",
       "9997  0.475121\n",
       "9998  0.467349\n",
       "9999  0.629357\n",
       "\n",
       "[5000 rows x 1 columns]"
      ]
     },
     "execution_count": 19,
     "metadata": {},
     "output_type": "execute_result"
    }
   ],
   "source": [
    "# Backtesting with refit\n",
    "# ==============================================================================\n",
    "metric, backtest_predictions = backtesting_forecaster(\n",
    "                                    forecaster          = forecaster,\n",
    "                                    y                   = y,\n",
    "                                    exog                = exog,\n",
    "                                    initial_train_size  = len(y_train),\n",
    "                                    fixed_train_size    = False,\n",
    "                                    steps               = 24,\n",
    "                                    metric              = 'mean_squared_error',\n",
    "                                    refit               = True,\n",
    "                                    interval            = None,\n",
    "                                    n_boot              = 500,\n",
    "                                    random_state        = 123,\n",
    "                                    in_sample_residuals = True,\n",
    "                                    verbose             = False\n",
    "                            )\n",
    "print(metric)\n",
    "backtest_predictions"
   ]
  },
  {
   "cell_type": "code",
   "execution_count": 20,
   "metadata": {},
   "outputs": [
    {
     "data": {
      "application/vnd.jupyter.widget-view+json": {
       "model_id": "553db3b232364771b87327a04c5ec7d3",
       "version_major": 2,
       "version_minor": 0
      },
      "text/plain": [
       "  0%|          | 0/209 [00:00<?, ?it/s]"
      ]
     },
     "metadata": {},
     "output_type": "display_data"
    },
    {
     "name": "stdout",
     "output_type": "stream",
     "text": [
      "0.08613453504170875\n"
     ]
    },
    {
     "data": {
      "text/html": [
       "<div>\n",
       "<style scoped>\n",
       "    .dataframe tbody tr th:only-of-type {\n",
       "        vertical-align: middle;\n",
       "    }\n",
       "\n",
       "    .dataframe tbody tr th {\n",
       "        vertical-align: top;\n",
       "    }\n",
       "\n",
       "    .dataframe thead th {\n",
       "        text-align: right;\n",
       "    }\n",
       "</style>\n",
       "<table border=\"1\" class=\"dataframe\">\n",
       "  <thead>\n",
       "    <tr style=\"text-align: right;\">\n",
       "      <th></th>\n",
       "      <th>pred</th>\n",
       "    </tr>\n",
       "  </thead>\n",
       "  <tbody>\n",
       "    <tr>\n",
       "      <th>5000</th>\n",
       "      <td>0.547143</td>\n",
       "    </tr>\n",
       "    <tr>\n",
       "      <th>5001</th>\n",
       "      <td>0.492890</td>\n",
       "    </tr>\n",
       "    <tr>\n",
       "      <th>5002</th>\n",
       "      <td>0.439208</td>\n",
       "    </tr>\n",
       "    <tr>\n",
       "      <th>5003</th>\n",
       "      <td>0.514884</td>\n",
       "    </tr>\n",
       "    <tr>\n",
       "      <th>5004</th>\n",
       "      <td>0.514389</td>\n",
       "    </tr>\n",
       "    <tr>\n",
       "      <th>...</th>\n",
       "      <td>...</td>\n",
       "    </tr>\n",
       "    <tr>\n",
       "      <th>9995</th>\n",
       "      <td>0.467167</td>\n",
       "    </tr>\n",
       "    <tr>\n",
       "      <th>9996</th>\n",
       "      <td>0.546763</td>\n",
       "    </tr>\n",
       "    <tr>\n",
       "      <th>9997</th>\n",
       "      <td>0.467555</td>\n",
       "    </tr>\n",
       "    <tr>\n",
       "      <th>9998</th>\n",
       "      <td>0.489330</td>\n",
       "    </tr>\n",
       "    <tr>\n",
       "      <th>9999</th>\n",
       "      <td>0.485636</td>\n",
       "    </tr>\n",
       "  </tbody>\n",
       "</table>\n",
       "<p>5000 rows × 1 columns</p>\n",
       "</div>"
      ],
      "text/plain": [
       "          pred\n",
       "5000  0.547143\n",
       "5001  0.492890\n",
       "5002  0.439208\n",
       "5003  0.514884\n",
       "5004  0.514389\n",
       "...        ...\n",
       "9995  0.467167\n",
       "9996  0.546763\n",
       "9997  0.467555\n",
       "9998  0.489330\n",
       "9999  0.485636\n",
       "\n",
       "[5000 rows x 1 columns]"
      ]
     },
     "execution_count": 20,
     "metadata": {},
     "output_type": "execute_result"
    }
   ],
   "source": [
    "# Backtesting without refit\n",
    "# ==============================================================================\n",
    "metric, backtest_predictions = backtesting_forecaster(\n",
    "                                    forecaster          = forecaster,\n",
    "                                    y                   = y,\n",
    "                                    exog                = exog,\n",
    "                                    initial_train_size  = len(y_train),\n",
    "                                    fixed_train_size    = False,\n",
    "                                    steps               = 24,\n",
    "                                    metric              = 'mean_squared_error',\n",
    "                                    refit               = False,\n",
    "                                    interval            = None,\n",
    "                                    n_boot              = 500,\n",
    "                                    random_state        = 123,\n",
    "                                    in_sample_residuals = True,\n",
    "                                    verbose             = False\n",
    "                               )\n",
    "print(metric)\n",
    "backtest_predictions"
   ]
  },
  {
   "cell_type": "code",
   "execution_count": 21,
   "metadata": {},
   "outputs": [
    {
     "name": "stdout",
     "output_type": "stream",
     "text": [
      "Number of models compared: 9.\n"
     ]
    },
    {
     "data": {
      "application/vnd.jupyter.widget-view+json": {
       "model_id": "d804fba78d744db2b66cdb981ea65aff",
       "version_major": 2,
       "version_minor": 0
      },
      "text/plain": [
       "lags grid:   0%|          | 0/3 [00:00<?, ?it/s]"
      ]
     },
     "metadata": {},
     "output_type": "display_data"
    },
    {
     "data": {
      "application/vnd.jupyter.widget-view+json": {
       "model_id": "380b9c5b1dc5416299fa8cd16fbcb279",
       "version_major": 2,
       "version_minor": 0
      },
      "text/plain": [
       "params grid:   0%|          | 0/3 [00:00<?, ?it/s]"
      ]
     },
     "metadata": {},
     "output_type": "display_data"
    }
   ],
   "source": [
    "# Backtesting\n",
    "# ==============================================================================\n",
    "\n",
    "# Lags used as predictors\n",
    "lags_grid = [3, 10, [1, 2, 3, 20]]\n",
    "\n",
    "# Regressor hyperparameters\n",
    "param_grid = {\n",
    "    'max_iter': [50],\n",
    "    'max_depth': [5, 10, 15],\n",
    "#     'min_samples_leaf': [5, 10, 20],\n",
    "#     'l2_regularization': [0.0, 0.1, 0.5]\n",
    "}\n",
    "\n",
    "results_grid = grid_search_forecaster(\n",
    "                    forecaster          = forecaster,\n",
    "                    y                   = y,\n",
    "                    exog                = exog,\n",
    "                    initial_train_size  = len(y_train),\n",
    "                    steps               = 24,\n",
    "                    param_grid         = param_grid,\n",
    "                    lags_grid          = lags_grid,\n",
    "                    refit              = False,\n",
    "                    metric             = 'mean_squared_error',\n",
    "                    fixed_train_size   = False,\n",
    "                    return_best        = False,\n",
    "                    verbose            = False\n",
    "               )"
   ]
  },
  {
   "cell_type": "code",
   "execution_count": 24,
   "metadata": {},
   "outputs": [
    {
     "name": "stdout",
     "output_type": "stream",
     "text": [
      "Number of models compared: 9.\n"
     ]
    },
    {
     "data": {
      "application/vnd.jupyter.widget-view+json": {
       "model_id": "cd79c91421974a6cb7e13ba8218a04de",
       "version_major": 2,
       "version_minor": 0
      },
      "text/plain": [
       "lags grid:   0%|          | 0/3 [00:00<?, ?it/s]"
      ]
     },
     "metadata": {},
     "output_type": "display_data"
    },
    {
     "data": {
      "application/vnd.jupyter.widget-view+json": {
       "model_id": "39fbf775036b4687954655a7833cbfae",
       "version_major": 2,
       "version_minor": 0
      },
      "text/plain": [
       "params grid:   0%|          | 0/3 [00:00<?, ?it/s]"
      ]
     },
     "metadata": {},
     "output_type": "display_data"
    },
    {
     "name": "stderr",
     "output_type": "stream",
     "text": [
      "/home/ubuntu/varios/skforecast/skforecast/model_selection/model_selection.py:427: LongTrainingWarning: The forecaster will be fit 209 times. This can take substantial amounts of time. If not feasible, try with `refit = False`.\n",
      " \n",
      " You can suppress this warning using: warnings.simplefilter('ignore', category=LongTrainingWarning)\n",
      "  warnings.warn(\n",
      "/home/ubuntu/varios/skforecast/skforecast/model_selection/model_selection.py:427: LongTrainingWarning: The forecaster will be fit 209 times. This can take substantial amounts of time. If not feasible, try with `refit = False`.\n",
      " \n",
      " You can suppress this warning using: warnings.simplefilter('ignore', category=LongTrainingWarning)\n",
      "  warnings.warn(\n"
     ]
    },
    {
     "ename": "KeyboardInterrupt",
     "evalue": "",
     "output_type": "error",
     "traceback": [
      "\u001b[0;31m---------------------------------------------------------------------------\u001b[0m",
      "\u001b[0;31mKeyboardInterrupt\u001b[0m                         Traceback (most recent call last)",
      "Cell \u001b[0;32mIn[24], line 15\u001b[0m\n\u001b[1;32m      7\u001b[0m \u001b[39m# Regressor hyperparameters\u001b[39;00m\n\u001b[1;32m      8\u001b[0m param_grid \u001b[39m=\u001b[39m {\n\u001b[1;32m      9\u001b[0m     \u001b[39m'\u001b[39m\u001b[39mmax_iter\u001b[39m\u001b[39m'\u001b[39m: [\u001b[39m200\u001b[39m],\n\u001b[1;32m     10\u001b[0m     \u001b[39m'\u001b[39m\u001b[39mmax_depth\u001b[39m\u001b[39m'\u001b[39m: [\u001b[39m5\u001b[39m, \u001b[39m10\u001b[39m, \u001b[39m15\u001b[39m],\n\u001b[1;32m     11\u001b[0m \u001b[39m#     'min_samples_leaf': [5, 10, 20],\u001b[39;00m\n\u001b[1;32m     12\u001b[0m \u001b[39m#     'l2_regularization': [0.0, 0.1, 0.5]\u001b[39;00m\n\u001b[1;32m     13\u001b[0m }\n\u001b[0;32m---> 15\u001b[0m results_grid \u001b[39m=\u001b[39m grid_search_forecaster(\n\u001b[1;32m     16\u001b[0m                     forecaster          \u001b[39m=\u001b[39;49m forecaster,\n\u001b[1;32m     17\u001b[0m                     y                   \u001b[39m=\u001b[39;49m y,\n\u001b[1;32m     18\u001b[0m                     exog                \u001b[39m=\u001b[39;49m exog,\n\u001b[1;32m     19\u001b[0m                     initial_train_size  \u001b[39m=\u001b[39;49m \u001b[39mlen\u001b[39;49m(y_train),\n\u001b[1;32m     20\u001b[0m                     steps               \u001b[39m=\u001b[39;49m \u001b[39m24\u001b[39;49m,\n\u001b[1;32m     21\u001b[0m                     param_grid         \u001b[39m=\u001b[39;49m param_grid,\n\u001b[1;32m     22\u001b[0m                     lags_grid          \u001b[39m=\u001b[39;49m lags_grid,\n\u001b[1;32m     23\u001b[0m                     refit              \u001b[39m=\u001b[39;49m \u001b[39mTrue\u001b[39;49;00m,\n\u001b[1;32m     24\u001b[0m                     metric             \u001b[39m=\u001b[39;49m \u001b[39m'\u001b[39;49m\u001b[39mmean_squared_error\u001b[39;49m\u001b[39m'\u001b[39;49m,\n\u001b[1;32m     25\u001b[0m                     fixed_train_size   \u001b[39m=\u001b[39;49m \u001b[39mFalse\u001b[39;49;00m,\n\u001b[1;32m     26\u001b[0m                     return_best        \u001b[39m=\u001b[39;49m \u001b[39mFalse\u001b[39;49;00m,\n\u001b[1;32m     27\u001b[0m                     verbose            \u001b[39m=\u001b[39;49m \u001b[39mFalse\u001b[39;49;00m\n\u001b[1;32m     28\u001b[0m                )\n\u001b[1;32m     30\u001b[0m results_grid\n",
      "File \u001b[0;32m~/varios/skforecast/skforecast/model_selection/model_selection.py:967\u001b[0m, in \u001b[0;36mgrid_search_forecaster\u001b[0;34m(forecaster, y, param_grid, steps, metric, initial_train_size, fixed_train_size, gap, allow_incomplete_fold, exog, lags_grid, refit, return_best, n_jobs, verbose, show_progress)\u001b[0m\n\u001b[1;32m    901\u001b[0m \u001b[39m\u001b[39m\u001b[39m\"\"\"\u001b[39;00m\n\u001b[1;32m    902\u001b[0m \u001b[39mExhaustive search over specified parameter values for a Forecaster object.\u001b[39;00m\n\u001b[1;32m    903\u001b[0m \u001b[39mValidation is done using time series backtesting.\u001b[39;00m\n\u001b[0;32m   (...)\u001b[0m\n\u001b[1;32m    962\u001b[0m \u001b[39m\u001b[39;00m\n\u001b[1;32m    963\u001b[0m \u001b[39m\"\"\"\u001b[39;00m\n\u001b[1;32m    965\u001b[0m param_grid \u001b[39m=\u001b[39m \u001b[39mlist\u001b[39m(ParameterGrid(param_grid))\n\u001b[0;32m--> 967\u001b[0m results \u001b[39m=\u001b[39m _evaluate_grid_hyperparameters(\n\u001b[1;32m    968\u001b[0m     forecaster            \u001b[39m=\u001b[39;49m forecaster,\n\u001b[1;32m    969\u001b[0m     y                     \u001b[39m=\u001b[39;49m y,\n\u001b[1;32m    970\u001b[0m     param_grid            \u001b[39m=\u001b[39;49m param_grid,\n\u001b[1;32m    971\u001b[0m     steps                 \u001b[39m=\u001b[39;49m steps,\n\u001b[1;32m    972\u001b[0m     metric                \u001b[39m=\u001b[39;49m metric,\n\u001b[1;32m    973\u001b[0m     initial_train_size    \u001b[39m=\u001b[39;49m initial_train_size,\n\u001b[1;32m    974\u001b[0m     fixed_train_size      \u001b[39m=\u001b[39;49m fixed_train_size,\n\u001b[1;32m    975\u001b[0m     gap                   \u001b[39m=\u001b[39;49m gap,\n\u001b[1;32m    976\u001b[0m     allow_incomplete_fold \u001b[39m=\u001b[39;49m allow_incomplete_fold,\n\u001b[1;32m    977\u001b[0m     exog                  \u001b[39m=\u001b[39;49m exog,\n\u001b[1;32m    978\u001b[0m     lags_grid             \u001b[39m=\u001b[39;49m lags_grid,\n\u001b[1;32m    979\u001b[0m     refit                 \u001b[39m=\u001b[39;49m refit,\n\u001b[1;32m    980\u001b[0m     return_best           \u001b[39m=\u001b[39;49m return_best,\n\u001b[1;32m    981\u001b[0m     n_jobs                \u001b[39m=\u001b[39;49m n_jobs,\n\u001b[1;32m    982\u001b[0m     verbose               \u001b[39m=\u001b[39;49m verbose,\n\u001b[1;32m    983\u001b[0m     show_progress         \u001b[39m=\u001b[39;49m show_progress\n\u001b[1;32m    984\u001b[0m )\n\u001b[1;32m    986\u001b[0m \u001b[39mreturn\u001b[39;00m results\n",
      "File \u001b[0;32m~/varios/skforecast/skforecast/model_selection/model_selection.py:1226\u001b[0m, in \u001b[0;36m_evaluate_grid_hyperparameters\u001b[0;34m(forecaster, y, param_grid, steps, metric, initial_train_size, fixed_train_size, gap, allow_incomplete_fold, exog, lags_grid, refit, return_best, n_jobs, verbose, show_progress)\u001b[0m\n\u001b[1;32m   1223\u001b[0m \u001b[39mfor\u001b[39;00m params \u001b[39min\u001b[39;00m param_grid:\n\u001b[1;32m   1225\u001b[0m     forecaster\u001b[39m.\u001b[39mset_params(params)\n\u001b[0;32m-> 1226\u001b[0m     metrics_values \u001b[39m=\u001b[39m backtesting_forecaster(\n\u001b[1;32m   1227\u001b[0m                          forecaster            \u001b[39m=\u001b[39;49m forecaster,\n\u001b[1;32m   1228\u001b[0m                          y                     \u001b[39m=\u001b[39;49m y,\n\u001b[1;32m   1229\u001b[0m                          steps                 \u001b[39m=\u001b[39;49m steps,\n\u001b[1;32m   1230\u001b[0m                          metric                \u001b[39m=\u001b[39;49m metric,\n\u001b[1;32m   1231\u001b[0m                          initial_train_size    \u001b[39m=\u001b[39;49m initial_train_size,\n\u001b[1;32m   1232\u001b[0m                          fixed_train_size      \u001b[39m=\u001b[39;49m fixed_train_size,\n\u001b[1;32m   1233\u001b[0m                          gap                   \u001b[39m=\u001b[39;49m gap,\n\u001b[1;32m   1234\u001b[0m                          allow_incomplete_fold \u001b[39m=\u001b[39;49m allow_incomplete_fold,\n\u001b[1;32m   1235\u001b[0m                          exog                  \u001b[39m=\u001b[39;49m exog,\n\u001b[1;32m   1236\u001b[0m                          refit                 \u001b[39m=\u001b[39;49m refit,\n\u001b[1;32m   1237\u001b[0m                          interval              \u001b[39m=\u001b[39;49m \u001b[39mNone\u001b[39;49;00m,\n\u001b[1;32m   1238\u001b[0m                          n_jobs                \u001b[39m=\u001b[39;49m n_jobs,\n\u001b[1;32m   1239\u001b[0m                          verbose               \u001b[39m=\u001b[39;49m verbose,\n\u001b[1;32m   1240\u001b[0m                          show_progress         \u001b[39m=\u001b[39;49m \u001b[39mFalse\u001b[39;49;00m\n\u001b[1;32m   1241\u001b[0m                      )[\u001b[39m0\u001b[39m]\n\u001b[1;32m   1242\u001b[0m     warnings\u001b[39m.\u001b[39mfilterwarnings(\u001b[39m'\u001b[39m\u001b[39mignore\u001b[39m\u001b[39m'\u001b[39m, category\u001b[39m=\u001b[39m\u001b[39mRuntimeWarning\u001b[39;00m, message\u001b[39m=\u001b[39m \u001b[39m\"\u001b[39m\u001b[39mThe forecaster will be fit.*\u001b[39m\u001b[39m\"\u001b[39m)\n\u001b[1;32m   1243\u001b[0m     lags_list\u001b[39m.\u001b[39mappend(lags)\n",
      "File \u001b[0;32m~/varios/skforecast/skforecast/model_selection/model_selection.py:843\u001b[0m, in \u001b[0;36mbacktesting_forecaster\u001b[0;34m(forecaster, y, steps, metric, initial_train_size, fixed_train_size, gap, allow_incomplete_fold, exog, refit, interval, n_boot, random_state, in_sample_residuals, n_jobs, verbose, show_progress)\u001b[0m\n\u001b[1;32m    836\u001b[0m     \u001b[39mraise\u001b[39;00m \u001b[39mValueError\u001b[39;00m(\n\u001b[1;32m    837\u001b[0m         (\u001b[39m\"\u001b[39m\u001b[39mWhen using a ForecasterAutoregDirect, the combination of steps \u001b[39m\u001b[39m\"\u001b[39m\n\u001b[1;32m    838\u001b[0m          \u001b[39mf\u001b[39m\u001b[39m\"\u001b[39m\u001b[39m+ gap (\u001b[39m\u001b[39m{\u001b[39;00msteps\u001b[39m+\u001b[39mgap\u001b[39m}\u001b[39;00m\u001b[39m) cannot be greater than the `steps` parameter \u001b[39m\u001b[39m\"\u001b[39m\n\u001b[1;32m    839\u001b[0m          \u001b[39mf\u001b[39m\u001b[39m\"\u001b[39m\u001b[39mdeclared when the forecaster is initialized (\u001b[39m\u001b[39m{\u001b[39;00mforecaster\u001b[39m.\u001b[39msteps\u001b[39m}\u001b[39;00m\u001b[39m).\u001b[39m\u001b[39m\"\u001b[39m)\n\u001b[1;32m    840\u001b[0m     )\n\u001b[1;32m    842\u001b[0m \u001b[39mif\u001b[39;00m refit:\n\u001b[0;32m--> 843\u001b[0m     metrics_values, backtest_predictions \u001b[39m=\u001b[39m _backtesting_forecaster_refit(\n\u001b[1;32m    844\u001b[0m         forecaster            \u001b[39m=\u001b[39;49m forecaster,\n\u001b[1;32m    845\u001b[0m         y                     \u001b[39m=\u001b[39;49m y,\n\u001b[1;32m    846\u001b[0m         steps                 \u001b[39m=\u001b[39;49m steps,\n\u001b[1;32m    847\u001b[0m         metric                \u001b[39m=\u001b[39;49m metric,\n\u001b[1;32m    848\u001b[0m         initial_train_size    \u001b[39m=\u001b[39;49m initial_train_size,\n\u001b[1;32m    849\u001b[0m         fixed_train_size      \u001b[39m=\u001b[39;49m fixed_train_size,\n\u001b[1;32m    850\u001b[0m         gap                   \u001b[39m=\u001b[39;49m gap,\n\u001b[1;32m    851\u001b[0m         allow_incomplete_fold \u001b[39m=\u001b[39;49m allow_incomplete_fold,\n\u001b[1;32m    852\u001b[0m         exog                  \u001b[39m=\u001b[39;49m exog,\n\u001b[1;32m    853\u001b[0m         interval              \u001b[39m=\u001b[39;49m interval,\n\u001b[1;32m    854\u001b[0m         n_boot                \u001b[39m=\u001b[39;49m n_boot,\n\u001b[1;32m    855\u001b[0m         random_state          \u001b[39m=\u001b[39;49m random_state,\n\u001b[1;32m    856\u001b[0m         in_sample_residuals   \u001b[39m=\u001b[39;49m in_sample_residuals,\n\u001b[1;32m    857\u001b[0m         n_jobs                \u001b[39m=\u001b[39;49m n_jobs,\n\u001b[1;32m    858\u001b[0m         verbose               \u001b[39m=\u001b[39;49m verbose,\n\u001b[1;32m    859\u001b[0m         show_progress         \u001b[39m=\u001b[39;49m show_progress\n\u001b[1;32m    860\u001b[0m     )\n\u001b[1;32m    861\u001b[0m \u001b[39melse\u001b[39;00m:\n\u001b[1;32m    862\u001b[0m     metrics_values, backtest_predictions \u001b[39m=\u001b[39m _backtesting_forecaster_no_refit(\n\u001b[1;32m    863\u001b[0m         forecaster            \u001b[39m=\u001b[39m forecaster,\n\u001b[1;32m    864\u001b[0m         y                     \u001b[39m=\u001b[39m y,\n\u001b[0;32m   (...)\u001b[0m\n\u001b[1;32m    877\u001b[0m         show_progress         \u001b[39m=\u001b[39m show_progress\n\u001b[1;32m    878\u001b[0m     )  \n",
      "File \u001b[0;32m~/varios/skforecast/skforecast/model_selection/model_selection.py:483\u001b[0m, in \u001b[0;36m_backtesting_forecaster_refit\u001b[0;34m(forecaster, y, steps, metric, initial_train_size, fixed_train_size, gap, allow_incomplete_fold, exog, interval, n_boot, random_state, in_sample_residuals, n_jobs, verbose, show_progress)\u001b[0m\n\u001b[1;32m    478\u001b[0m     pred \u001b[39m=\u001b[39m pred\u001b[39m.\u001b[39miloc[gap:, ]\n\u001b[1;32m    480\u001b[0m     \u001b[39mreturn\u001b[39;00m pred\n\u001b[1;32m    482\u001b[0m backtest_predictions \u001b[39m=\u001b[39m (\n\u001b[0;32m--> 483\u001b[0m     Parallel(n_jobs\u001b[39m=\u001b[39;49mn_jobs)\n\u001b[1;32m    484\u001b[0m     (delayed(_fit_predict_forecaster)\n\u001b[1;32m    485\u001b[0m     (y\u001b[39m=\u001b[39;49my, exog\u001b[39m=\u001b[39;49mexog, forecaster\u001b[39m=\u001b[39;49mforecaster, interval\u001b[39m=\u001b[39;49minterval, fold\u001b[39m=\u001b[39;49mfold)\n\u001b[1;32m    486\u001b[0m     \u001b[39mfor\u001b[39;49;00m fold \u001b[39min\u001b[39;49;00m folds)\n\u001b[1;32m    487\u001b[0m )\n\u001b[1;32m    489\u001b[0m backtest_predictions \u001b[39m=\u001b[39m pd\u001b[39m.\u001b[39mconcat(backtest_predictions)\n\u001b[1;32m    490\u001b[0m \u001b[39mif\u001b[39;00m \u001b[39misinstance\u001b[39m(backtest_predictions, pd\u001b[39m.\u001b[39mSeries):\n",
      "File \u001b[0;32m~/anaconda3/envs/skforecast_py10/lib/python3.10/site-packages/joblib/parallel.py:1098\u001b[0m, in \u001b[0;36mParallel.__call__\u001b[0;34m(self, iterable)\u001b[0m\n\u001b[1;32m   1095\u001b[0m     \u001b[39mself\u001b[39m\u001b[39m.\u001b[39m_iterating \u001b[39m=\u001b[39m \u001b[39mFalse\u001b[39;00m\n\u001b[1;32m   1097\u001b[0m \u001b[39mwith\u001b[39;00m \u001b[39mself\u001b[39m\u001b[39m.\u001b[39m_backend\u001b[39m.\u001b[39mretrieval_context():\n\u001b[0;32m-> 1098\u001b[0m     \u001b[39mself\u001b[39;49m\u001b[39m.\u001b[39;49mretrieve()\n\u001b[1;32m   1099\u001b[0m \u001b[39m# Make sure that we get a last message telling us we are done\u001b[39;00m\n\u001b[1;32m   1100\u001b[0m elapsed_time \u001b[39m=\u001b[39m time\u001b[39m.\u001b[39mtime() \u001b[39m-\u001b[39m \u001b[39mself\u001b[39m\u001b[39m.\u001b[39m_start_time\n",
      "File \u001b[0;32m~/anaconda3/envs/skforecast_py10/lib/python3.10/site-packages/joblib/parallel.py:975\u001b[0m, in \u001b[0;36mParallel.retrieve\u001b[0;34m(self)\u001b[0m\n\u001b[1;32m    973\u001b[0m \u001b[39mtry\u001b[39;00m:\n\u001b[1;32m    974\u001b[0m     \u001b[39mif\u001b[39;00m \u001b[39mgetattr\u001b[39m(\u001b[39mself\u001b[39m\u001b[39m.\u001b[39m_backend, \u001b[39m'\u001b[39m\u001b[39msupports_timeout\u001b[39m\u001b[39m'\u001b[39m, \u001b[39mFalse\u001b[39;00m):\n\u001b[0;32m--> 975\u001b[0m         \u001b[39mself\u001b[39m\u001b[39m.\u001b[39m_output\u001b[39m.\u001b[39mextend(job\u001b[39m.\u001b[39;49mget(timeout\u001b[39m=\u001b[39;49m\u001b[39mself\u001b[39;49m\u001b[39m.\u001b[39;49mtimeout))\n\u001b[1;32m    976\u001b[0m     \u001b[39melse\u001b[39;00m:\n\u001b[1;32m    977\u001b[0m         \u001b[39mself\u001b[39m\u001b[39m.\u001b[39m_output\u001b[39m.\u001b[39mextend(job\u001b[39m.\u001b[39mget())\n",
      "File \u001b[0;32m~/anaconda3/envs/skforecast_py10/lib/python3.10/site-packages/joblib/_parallel_backends.py:567\u001b[0m, in \u001b[0;36mLokyBackend.wrap_future_result\u001b[0;34m(future, timeout)\u001b[0m\n\u001b[1;32m    564\u001b[0m \u001b[39m\u001b[39m\u001b[39m\"\"\"Wrapper for Future.result to implement the same behaviour as\u001b[39;00m\n\u001b[1;32m    565\u001b[0m \u001b[39mAsyncResults.get from multiprocessing.\"\"\"\u001b[39;00m\n\u001b[1;32m    566\u001b[0m \u001b[39mtry\u001b[39;00m:\n\u001b[0;32m--> 567\u001b[0m     \u001b[39mreturn\u001b[39;00m future\u001b[39m.\u001b[39;49mresult(timeout\u001b[39m=\u001b[39;49mtimeout)\n\u001b[1;32m    568\u001b[0m \u001b[39mexcept\u001b[39;00m CfTimeoutError \u001b[39mas\u001b[39;00m e:\n\u001b[1;32m    569\u001b[0m     \u001b[39mraise\u001b[39;00m \u001b[39mTimeoutError\u001b[39;00m \u001b[39mfrom\u001b[39;00m \u001b[39me\u001b[39;00m\n",
      "File \u001b[0;32m~/anaconda3/envs/skforecast_py10/lib/python3.10/concurrent/futures/_base.py:453\u001b[0m, in \u001b[0;36mFuture.result\u001b[0;34m(self, timeout)\u001b[0m\n\u001b[1;32m    450\u001b[0m \u001b[39melif\u001b[39;00m \u001b[39mself\u001b[39m\u001b[39m.\u001b[39m_state \u001b[39m==\u001b[39m FINISHED:\n\u001b[1;32m    451\u001b[0m     \u001b[39mreturn\u001b[39;00m \u001b[39mself\u001b[39m\u001b[39m.\u001b[39m__get_result()\n\u001b[0;32m--> 453\u001b[0m \u001b[39mself\u001b[39;49m\u001b[39m.\u001b[39;49m_condition\u001b[39m.\u001b[39;49mwait(timeout)\n\u001b[1;32m    455\u001b[0m \u001b[39mif\u001b[39;00m \u001b[39mself\u001b[39m\u001b[39m.\u001b[39m_state \u001b[39min\u001b[39;00m [CANCELLED, CANCELLED_AND_NOTIFIED]:\n\u001b[1;32m    456\u001b[0m     \u001b[39mraise\u001b[39;00m CancelledError()\n",
      "File \u001b[0;32m~/anaconda3/envs/skforecast_py10/lib/python3.10/threading.py:320\u001b[0m, in \u001b[0;36mCondition.wait\u001b[0;34m(self, timeout)\u001b[0m\n\u001b[1;32m    318\u001b[0m \u001b[39mtry\u001b[39;00m:    \u001b[39m# restore state no matter what (e.g., KeyboardInterrupt)\u001b[39;00m\n\u001b[1;32m    319\u001b[0m     \u001b[39mif\u001b[39;00m timeout \u001b[39mis\u001b[39;00m \u001b[39mNone\u001b[39;00m:\n\u001b[0;32m--> 320\u001b[0m         waiter\u001b[39m.\u001b[39;49macquire()\n\u001b[1;32m    321\u001b[0m         gotit \u001b[39m=\u001b[39m \u001b[39mTrue\u001b[39;00m\n\u001b[1;32m    322\u001b[0m     \u001b[39melse\u001b[39;00m:\n",
      "\u001b[0;31mKeyboardInterrupt\u001b[0m: "
     ]
    }
   ],
   "source": [
    "# Backtesting with refit\n",
    "# ==============================================================================\n",
    "\n",
    "# Lags used as predictors\n",
    "lags_grid = [3, 10, [1, 2, 3, 20]]\n",
    "\n",
    "# Regressor hyperparameters\n",
    "param_grid = {\n",
    "    'max_iter': [200],\n",
    "    'max_depth': [5, 10, 15],\n",
    "#     'min_samples_leaf': [5, 10, 20],\n",
    "#     'l2_regularization': [0.0, 0.1, 0.5]\n",
    "}\n",
    "\n",
    "results_grid = grid_search_forecaster(\n",
    "                    forecaster          = forecaster,\n",
    "                    y                   = y,\n",
    "                    exog                = exog,\n",
    "                    initial_train_size  = len(y_train),\n",
    "                    steps               = 24,\n",
    "                    param_grid         = param_grid,\n",
    "                    lags_grid          = lags_grid,\n",
    "                    refit              = True,\n",
    "                    metric             = 'mean_squared_error',\n",
    "                    fixed_train_size   = False,\n",
    "                    return_best        = False,\n",
    "                    verbose            = False\n",
    "               )\n",
    "\n",
    "results_grid"
   ]
  }
 ],
 "metadata": {
  "kernelspec": {
   "display_name": "skforecast_py10",
   "language": "python",
   "name": "python3"
  },
  "language_info": {
   "codemirror_mode": {
    "name": "ipython",
    "version": 3
   },
   "file_extension": ".py",
   "mimetype": "text/x-python",
   "name": "python",
   "nbconvert_exporter": "python",
   "pygments_lexer": "ipython3",
   "version": "3.10.9"
  },
  "orig_nbformat": 4,
  "vscode": {
   "interpreter": {
    "hash": "c78d62c1713fdacd99ef7c429003c7324b36fbb551fb8b6860a7ea73e9338235"
   }
  }
 },
 "nbformat": 4,
 "nbformat_minor": 2
}
