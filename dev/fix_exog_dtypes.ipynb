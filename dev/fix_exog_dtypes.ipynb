{
 "cells": [
  {
   "cell_type": "code",
   "execution_count": 7,
   "metadata": {},
   "outputs": [
    {
     "name": "stdout",
     "output_type": "stream",
     "text": [
      "The autoreload extension is already loaded. To reload it, use:\n",
      "  %reload_ext autoreload\n"
     ]
    },
    {
     "data": {
      "text/plain": [
       "'/home/ximo/Documents/GitHub/skforecast'"
      ]
     },
     "execution_count": 7,
     "metadata": {},
     "output_type": "execute_result"
    }
   ],
   "source": [
    "%load_ext autoreload\n",
    "%autoreload 2\n",
    "import sys\n",
    "from pathlib import Path\n",
    "sys.path.insert(1, str(Path.cwd().parent))\n",
    "str(Path.cwd().parent)"
   ]
  },
  {
   "cell_type": "code",
   "execution_count": 8,
   "metadata": {},
   "outputs": [],
   "source": [
    "import pandas as pd\n",
    "import numpy as np\n",
    "from typing import Union, Tuple\n",
    "\n",
    "from skforecast.utils import preprocess_exog"
   ]
  },
  {
   "cell_type": "code",
   "execution_count": 9,
   "metadata": {},
   "outputs": [],
   "source": [
    "def fix_exog_dtypes(\n",
    "    exog: Union[pd.Series, pd.DataFrame],\n",
    "    exog_dtypes: dict,\n",
    ") -> Union[pd.Series, pd.DataFrame]:\n",
    "    \"\"\"\n",
    "    Cast `exog` to a specified types.\n",
    "    If `exog` is a pandas Series, `exog_dtypes` must be a dict with a single value.\n",
    "\n",
    "    Parameters\n",
    "    ----------        \n",
    "    exog : pandas Series, pandas DataFrame\n",
    "        Exogenous variables.\n",
    "    exog_dtypes: dict\n",
    "        Dictionary with name and type of the series or data frame columns.\n",
    "\n",
    "    Returns \n",
    "    -------\n",
    "    exog\n",
    "\n",
    "    \"\"\"\n",
    "    \n",
    "    if isinstance(exog, pd.Series) and exog.dtypes != list(exog_dtypes.values())[0]:\n",
    "            exog = exog.astype(list(exog_dtypes.values())[0])\n",
    "    elif isinstance(exog, pd.DataFrame):\n",
    "        for col, initial_dtype in exog_dtypes.items():\n",
    "            if exog[col].dtypes != initial_dtype:\n",
    "                if initial_dtype == \"category\" and exog[col].dtypes==float:\n",
    "                    exog[col] = exog[col].astype(int).astype(\"category\")\n",
    "                else:\n",
    "                    exog[col] = exog[col].astype(initial_dtype)\n",
    "\n",
    "    return exog"
   ]
  },
  {
   "cell_type": "code",
   "execution_count": 10,
   "metadata": {},
   "outputs": [],
   "source": [
    "exog = pd.DataFrame({\n",
    "    'col1': [2,3,5],\n",
    "    'col2': [4,5,6]\n",
    "})"
   ]
  },
  {
   "cell_type": "code",
   "execution_count": 11,
   "metadata": {},
   "outputs": [
    {
     "name": "stdout",
     "output_type": "stream",
     "text": [
      "col1    int64\n",
      "col2    int64\n",
      "dtype: object\n",
      "\n",
      "col1    float64\n",
      "col2    float64\n",
      "dtype: object\n",
      "\n",
      "col1    int64\n",
      "col2    int64\n",
      "dtype: object\n",
      "\n",
      "col1    object\n",
      "col2     int64\n",
      "dtype: object\n"
     ]
    }
   ],
   "source": [
    "exog = pd.DataFrame({\n",
    "    'col1': [2,3,5],\n",
    "    'col2': [4,5,6]\n",
    "})\n",
    "_, _, exog_dtypes = preprocess_exog(exog)\n",
    "print(exog.dtypes)\n",
    "print(\"\")\n",
    "\n",
    "\n",
    "exog = exog.astype(float)\n",
    "print(exog.dtypes)\n",
    "print(\"\")\n",
    "\n",
    "exog = fix_exog_dtypes(exog, exog_dtypes)\n",
    "print(exog.dtypes)\n",
    "print(\"\")\n",
    "\n",
    "exog_dtypes['col1'] = str\n",
    "exog = fix_exog_dtypes(exog, exog_dtypes)\n",
    "print(exog.dtypes)\n"
   ]
  },
  {
   "cell_type": "code",
   "execution_count": 12,
   "metadata": {},
   "outputs": [
    {
     "name": "stdout",
     "output_type": "stream",
     "text": [
      "int64\n",
      "\n",
      "float64\n",
      "\n",
      "int64\n",
      "\n",
      "object\n"
     ]
    }
   ],
   "source": [
    "exog = pd.Series([1,2,3], dtype=int)\n",
    "_, _, exog_dtypes = preprocess_exog(exog)\n",
    "print(exog.dtypes)\n",
    "print(\"\")\n",
    "\n",
    "\n",
    "exog = exog.astype(float)\n",
    "print(exog.dtypes)\n",
    "print(\"\")\n",
    "\n",
    "exog = fix_exog_dtypes(exog, exog_dtypes)\n",
    "print(exog.dtypes)\n",
    "print(\"\")\n",
    "\n",
    "exog_dtypes = {None: str}\n",
    "exog = fix_exog_dtypes(exog, exog_dtypes)\n",
    "print(exog.dtypes)"
   ]
  }
 ],
 "metadata": {
  "kernelspec": {
   "display_name": "skforecast_py10",
   "language": "python",
   "name": "python3"
  },
  "language_info": {
   "codemirror_mode": {
    "name": "ipython",
    "version": 3
   },
   "file_extension": ".py",
   "mimetype": "text/x-python",
   "name": "python",
   "nbconvert_exporter": "python",
   "pygments_lexer": "ipython3",
   "version": "3.10.9"
  },
  "orig_nbformat": 4,
  "vscode": {
   "interpreter": {
    "hash": "6cf372b23b9916b33b4c23f9ee2e7d08e597eb711b766c11830fb054f7812cb1"
   }
  }
 },
 "nbformat": 4,
 "nbformat_minor": 2
}
