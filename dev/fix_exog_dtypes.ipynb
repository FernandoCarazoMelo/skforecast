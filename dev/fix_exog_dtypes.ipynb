{
 "cells": [
  {
   "cell_type": "code",
   "execution_count": 30,
   "metadata": {},
   "outputs": [
    {
     "name": "stdout",
     "output_type": "stream",
     "text": [
      "The autoreload extension is already loaded. To reload it, use:\n",
      "  %reload_ext autoreload\n"
     ]
    },
    {
     "data": {
      "text/plain": [
       "'/home/ubuntu/varios/skforecast'"
      ]
     },
     "execution_count": 30,
     "metadata": {},
     "output_type": "execute_result"
    }
   ],
   "source": [
    "%load_ext autoreload\n",
    "%autoreload 2\n",
    "import sys\n",
    "from pathlib import Path\n",
    "sys.path.insert(1, str(Path.cwd().parent))\n",
    "str(Path.cwd().parent)"
   ]
  },
  {
   "cell_type": "code",
   "execution_count": 32,
   "metadata": {},
   "outputs": [],
   "source": [
    "import pandas as pd\n",
    "import numpy as np\n",
    "from typing import Union, Tuple\n",
    "\n",
    "from skforecast.utils import preprocess_exog"
   ]
  },
  {
   "cell_type": "code",
   "execution_count": 29,
   "metadata": {},
   "outputs": [],
   "source": [
    "def fix_exog_dtypes(\n",
    "    exog: Union[pd.Series, pd.DataFrame],\n",
    "    exog_dtypes: dict,\n",
    ") -> Union[pd.Series, pd.DataFrame]:\n",
    "    \"\"\"\n",
    "    Cast `exog` to a specified types.\n",
    "    If `exog` is a pandas Series, `exog_dtypes` must be a dict with a single value.\n",
    "\n",
    "    Parameters\n",
    "    ----------        \n",
    "    exog : pandas Series, pandas DataFrame\n",
    "        Exogenous variables.\n",
    "    exog_dtypes: dict\n",
    "        Dictionary with name and type of the series or data frame columns.\n",
    "\n",
    "    Returns \n",
    "    -------\n",
    "    exog\n",
    "\n",
    "    \"\"\"\n",
    "    \n",
    "    if isinstance(exog, pd.Series) and exog.dtypes != list(exog_dtypes.values())[0]:\n",
    "            exog = exog.astype(list(exog_dtypes.values())[0])\n",
    "    elif isinstance(exog, pd.DataFrame):\n",
    "        for col, dtype in exog_dtypes.items():\n",
    "            if exog[col].dtypes != dtype:\n",
    "                exog[col] = exog[col].astype(dtype)\n",
    "\n",
    "    return exog"
   ]
  },
  {
   "cell_type": "code",
   "execution_count": 53,
   "metadata": {},
   "outputs": [
    {
     "data": {
      "text/html": [
       "<div>\n",
       "<style scoped>\n",
       "    .dataframe tbody tr th:only-of-type {\n",
       "        vertical-align: middle;\n",
       "    }\n",
       "\n",
       "    .dataframe tbody tr th {\n",
       "        vertical-align: top;\n",
       "    }\n",
       "\n",
       "    .dataframe thead th {\n",
       "        text-align: right;\n",
       "    }\n",
       "</style>\n",
       "<table border=\"1\" class=\"dataframe\">\n",
       "  <thead>\n",
       "    <tr style=\"text-align: right;\">\n",
       "      <th></th>\n",
       "      <th>col1</th>\n",
       "      <th>col2</th>\n",
       "      <th>exog</th>\n",
       "    </tr>\n",
       "  </thead>\n",
       "  <tbody>\n",
       "    <tr>\n",
       "      <th>0</th>\n",
       "      <td>2</td>\n",
       "      <td>4</td>\n",
       "      <td>1</td>\n",
       "    </tr>\n",
       "    <tr>\n",
       "      <th>1</th>\n",
       "      <td>3</td>\n",
       "      <td>5</td>\n",
       "      <td>2</td>\n",
       "    </tr>\n",
       "    <tr>\n",
       "      <th>2</th>\n",
       "      <td>5</td>\n",
       "      <td>6</td>\n",
       "      <td>3</td>\n",
       "    </tr>\n",
       "  </tbody>\n",
       "</table>\n",
       "</div>"
      ],
      "text/plain": [
       "   col1  col2  exog\n",
       "0     2     4     1\n",
       "1     3     5     2\n",
       "2     5     6     3"
      ]
     },
     "execution_count": 53,
     "metadata": {},
     "output_type": "execute_result"
    }
   ],
   "source": [
    "exog1 = pd.DataFrame({\n",
    "    'col1': [2,3,5],\n",
    "    'col2': [4,5,6]\n",
    "})\n",
    "exog2 = pd.Series([1,2,3], dtype=int)\n",
    "\n",
    "pd.concat((exog1, exog2), axis=1)"
   ]
  },
  {
   "cell_type": "code",
   "execution_count": 47,
   "metadata": {},
   "outputs": [
    {
     "name": "stdout",
     "output_type": "stream",
     "text": [
      "col1    int64\n",
      "col2    int64\n",
      "dtype: object\n",
      "\n",
      "col1    float64\n",
      "col2    float64\n",
      "dtype: object\n",
      "\n",
      "col1    int64\n",
      "col2    int64\n",
      "dtype: object\n",
      "\n",
      "col1    object\n",
      "col2     int64\n",
      "dtype: object\n"
     ]
    }
   ],
   "source": [
    "exog = pd.DataFrame({\n",
    "    'col1': [2,3,5],\n",
    "    'col2': [4,5,6]\n",
    "})\n",
    "_, _, exog_dtypes = preprocess_exog(exog)\n",
    "print(exog.dtypes)\n",
    "print(\"\")\n",
    "\n",
    "\n",
    "exog = exog.astype(float)\n",
    "print(exog.dtypes)\n",
    "print(\"\")\n",
    "\n",
    "exog = fix_exog_dtypes(exog, exog_dtypes)\n",
    "print(exog.dtypes)\n",
    "print(\"\")\n",
    "\n",
    "exog_dtypes['col1'] = str\n",
    "exog = fix_exog_dtypes(exog, exog_dtypes)\n",
    "print(exog.dtypes)\n"
   ]
  },
  {
   "cell_type": "code",
   "execution_count": 50,
   "metadata": {},
   "outputs": [
    {
     "name": "stdout",
     "output_type": "stream",
     "text": [
      "int64\n",
      "\n",
      "float64\n",
      "\n",
      "int64\n",
      "\n",
      "object\n"
     ]
    }
   ],
   "source": [
    "exog = pd.Series([1,2,3], dtype=int)\n",
    "_, _, exog_dtypes = preprocess_exog(exog)\n",
    "print(exog.dtypes)\n",
    "print(\"\")\n",
    "\n",
    "\n",
    "exog = exog.astype(float)\n",
    "print(exog.dtypes)\n",
    "print(\"\")\n",
    "\n",
    "exog = fix_exog_dtypes(exog, exog_dtypes)\n",
    "print(exog.dtypes)\n",
    "print(\"\")\n",
    "\n",
    "exog_dtypes = {None: str}\n",
    "exog = fix_exog_dtypes(exog, exog_dtypes)\n",
    "print(exog.dtypes)"
   ]
  }
 ],
 "metadata": {
  "kernelspec": {
   "display_name": "skforecast_py10",
   "language": "python",
   "name": "python3"
  },
  "language_info": {
   "codemirror_mode": {
    "name": "ipython",
    "version": 3
   },
   "file_extension": ".py",
   "mimetype": "text/x-python",
   "name": "python",
   "nbconvert_exporter": "python",
   "pygments_lexer": "ipython3",
   "version": "3.10.9"
  },
  "orig_nbformat": 4,
  "vscode": {
   "interpreter": {
    "hash": "c78d62c1713fdacd99ef7c429003c7324b36fbb551fb8b6860a7ea73e9338235"
   }
  }
 },
 "nbformat": 4,
 "nbformat_minor": 2
}
