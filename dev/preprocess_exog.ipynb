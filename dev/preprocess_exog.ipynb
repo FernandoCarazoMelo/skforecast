{
 "cells": [
  {
   "cell_type": "code",
   "execution_count": 1,
   "metadata": {},
   "outputs": [
    {
     "data": {
      "text/plain": [
       "'/home/ubuntu/varios/skforecast'"
      ]
     },
     "execution_count": 1,
     "metadata": {},
     "output_type": "execute_result"
    }
   ],
   "source": [
    "%load_ext autoreload\n",
    "%autoreload 2\n",
    "import sys\n",
    "from pathlib import Path\n",
    "sys.path.insert(1, str(Path.cwd().parent))\n",
    "str(Path.cwd().parent)"
   ]
  },
  {
   "cell_type": "code",
   "execution_count": 32,
   "metadata": {},
   "outputs": [],
   "source": [
    "import pandas as pd\n",
    "import numpy as np\n",
    "from typing import Union, Tuple"
   ]
  },
  {
   "cell_type": "code",
   "execution_count": 33,
   "metadata": {},
   "outputs": [],
   "source": [
    "def preprocess_exog(\n",
    "    exog: Union[pd.Series, pd.DataFrame]\n",
    ") -> Tuple[np.ndarray, pd.Index]:\n",
    "    \"\"\"\n",
    "    Returns values, index and dtypes of series or data frame separately. Index is\n",
    "    overwritten  according to the next rules:\n",
    "        If index is of type DatetimeIndex and has frequency, nothing is \n",
    "        changed.\n",
    "        If index is of type RangeIndex, nothing is changed.\n",
    "        If index is of type DatetimeIndex but has no frequency, a \n",
    "        RangeIndex is created.\n",
    "        If index is not of type DatetimeIndex, a RangeIndex is created.\n",
    "\n",
    "    Parameters\n",
    "    ----------        \n",
    "    exog : pandas Series, pandas DataFrame\n",
    "        Exogenous variables.\n",
    "\n",
    "    Returns \n",
    "    -------\n",
    "    exog_values : numpy ndarray\n",
    "        Numpy array with values of `exog`.\n",
    "\n",
    "    exog_index : pandas Index\n",
    "        Index of `exog` modified according to the rules.\n",
    "\n",
    "    \"\"\"\n",
    "    \n",
    "    if isinstance(exog.index, pd.DatetimeIndex) and exog.index.freq is not None:\n",
    "        exog_index = exog.index\n",
    "    elif isinstance(exog.index, pd.RangeIndex):\n",
    "        exog_index = exog.index\n",
    "    elif isinstance(exog.index, pd.DatetimeIndex) and exog.index.freq is None:\n",
    "        warnings.warn(\n",
    "            ('`exog` has DatetimeIndex index but no frequency. '\n",
    "             'Index is overwritten with a RangeIndex of step 1.')\n",
    "        )\n",
    "        exog_index = pd.RangeIndex(\n",
    "                         start = 0,\n",
    "                         stop  = len(exog),\n",
    "                         step  = 1\n",
    "                     )\n",
    "\n",
    "    else:\n",
    "        warnings.warn(\n",
    "            ('`exog` has no DatetimeIndex nor RangeIndex index. '\n",
    "             'Index is overwritten with a RangeIndex.')\n",
    "        )\n",
    "        exog_index = pd.RangeIndex(\n",
    "                         start = 0,\n",
    "                         stop  = len(exog),\n",
    "                         step  = 1\n",
    "                     )\n",
    "\n",
    "    if isinstance(exog, pd.Series):\n",
    "        exog_dtypes = {exog.name: exog.dtypes}\n",
    "    else:\n",
    "        exog_dtypes = exog.dtypes.to_dict()\n",
    "\n",
    "    exog_values = exog.to_numpy()\n",
    "\n",
    "    return exog_values, exog_index, exog_dtypes"
   ]
  },
  {
   "cell_type": "code",
   "execution_count": 34,
   "metadata": {},
   "outputs": [
    {
     "data": {
      "text/plain": [
       "(array([[2, 4],\n",
       "        [3, 5],\n",
       "        [5, 6]]),\n",
       " RangeIndex(start=0, stop=3, step=1),\n",
       " {'col1': dtype('int64'), 'col2': dtype('int64')})"
      ]
     },
     "execution_count": 34,
     "metadata": {},
     "output_type": "execute_result"
    }
   ],
   "source": [
    "exog = pd.DataFrame({\n",
    "    'col1': [2,3,5],\n",
    "    'col2': [4,5,6]\n",
    "})\n",
    "preprocess_exog(exog)"
   ]
  },
  {
   "cell_type": "code",
   "execution_count": 36,
   "metadata": {},
   "outputs": [
    {
     "data": {
      "text/plain": [
       "(array([1., 2., 3.]),\n",
       " RangeIndex(start=0, stop=3, step=1),\n",
       " {None: dtype('float64')})"
      ]
     },
     "execution_count": 36,
     "metadata": {},
     "output_type": "execute_result"
    }
   ],
   "source": [
    "exog = pd.Series([1,2,3], dtype=float)\n",
    "preprocess_exog(exog)"
   ]
  }
 ],
 "metadata": {
  "kernelspec": {
   "display_name": "skforecast_py10",
   "language": "python",
   "name": "python3"
  },
  "language_info": {
   "codemirror_mode": {
    "name": "ipython",
    "version": 3
   },
   "file_extension": ".py",
   "mimetype": "text/x-python",
   "name": "python",
   "nbconvert_exporter": "python",
   "pygments_lexer": "ipython3",
   "version": "3.10.9"
  },
  "orig_nbformat": 4,
  "vscode": {
   "interpreter": {
    "hash": "c78d62c1713fdacd99ef7c429003c7324b36fbb551fb8b6860a7ea73e9338235"
   }
  }
 },
 "nbformat": 4,
 "nbformat_minor": 2
}
