{
 "cells": [
  {
   "cell_type": "code",
   "execution_count": 17,
   "metadata": {},
   "outputs": [
    {
     "name": "stdout",
     "output_type": "stream",
     "text": [
      "The autoreload extension is already loaded. To reload it, use:\n",
      "  %reload_ext autoreload\n"
     ]
    },
    {
     "data": {
      "text/plain": [
       "'c:\\\\Users\\\\Joaquín Amat\\\\Documents\\\\GitHub\\\\skforecast'"
      ]
     },
     "execution_count": 17,
     "metadata": {},
     "output_type": "execute_result"
    }
   ],
   "source": [
    "%load_ext autoreload\n",
    "%autoreload 2\n",
    "import sys\n",
    "from pathlib import Path\n",
    "sys.path.insert(1, str(Path.cwd().parent))\n",
    "str(Path.cwd().parent)"
   ]
  },
  {
   "cell_type": "code",
   "execution_count": 18,
   "metadata": {},
   "outputs": [
    {
     "name": "stdout",
     "output_type": "stream",
     "text": [
      "0.10.1\n"
     ]
    }
   ],
   "source": [
    "from skforecast.ForecasterBaseline import ForecasterLastEquivalentDate\n",
    "from skforecast.model_selection import backtesting_forecaster\n",
    "import numpy as np\n",
    "import pandas as pd\n",
    "from skforecast import __version__\n",
    "print(__version__)\n"
   ]
  },
  {
   "cell_type": "code",
   "execution_count": 19,
   "metadata": {},
   "outputs": [
    {
     "data": {
      "text/html": [
       "<div>\n",
       "<style scoped>\n",
       "    .dataframe tbody tr th:only-of-type {\n",
       "        vertical-align: middle;\n",
       "    }\n",
       "\n",
       "    .dataframe tbody tr th {\n",
       "        vertical-align: top;\n",
       "    }\n",
       "\n",
       "    .dataframe thead th {\n",
       "        text-align: right;\n",
       "    }\n",
       "</style>\n",
       "<table border=\"1\" class=\"dataframe\">\n",
       "  <thead>\n",
       "    <tr style=\"text-align: right;\">\n",
       "      <th></th>\n",
       "      <th>y</th>\n",
       "    </tr>\n",
       "    <tr>\n",
       "      <th>time</th>\n",
       "      <th></th>\n",
       "    </tr>\n",
       "  </thead>\n",
       "  <tbody>\n",
       "    <tr>\n",
       "      <th>2000-01-01</th>\n",
       "      <td>0</td>\n",
       "    </tr>\n",
       "    <tr>\n",
       "      <th>2000-01-02</th>\n",
       "      <td>1</td>\n",
       "    </tr>\n",
       "    <tr>\n",
       "      <th>2000-01-03</th>\n",
       "      <td>2</td>\n",
       "    </tr>\n",
       "    <tr>\n",
       "      <th>2000-01-04</th>\n",
       "      <td>3</td>\n",
       "    </tr>\n",
       "    <tr>\n",
       "      <th>2000-01-05</th>\n",
       "      <td>4</td>\n",
       "    </tr>\n",
       "    <tr>\n",
       "      <th>...</th>\n",
       "      <td>...</td>\n",
       "    </tr>\n",
       "    <tr>\n",
       "      <th>2000-12-26</th>\n",
       "      <td>360</td>\n",
       "    </tr>\n",
       "    <tr>\n",
       "      <th>2000-12-27</th>\n",
       "      <td>361</td>\n",
       "    </tr>\n",
       "    <tr>\n",
       "      <th>2000-12-28</th>\n",
       "      <td>362</td>\n",
       "    </tr>\n",
       "    <tr>\n",
       "      <th>2000-12-29</th>\n",
       "      <td>363</td>\n",
       "    </tr>\n",
       "    <tr>\n",
       "      <th>2000-12-30</th>\n",
       "      <td>364</td>\n",
       "    </tr>\n",
       "  </tbody>\n",
       "</table>\n",
       "<p>365 rows × 1 columns</p>\n",
       "</div>"
      ],
      "text/plain": [
       "              y\n",
       "time           \n",
       "2000-01-01    0\n",
       "2000-01-02    1\n",
       "2000-01-03    2\n",
       "2000-01-04    3\n",
       "2000-01-05    4\n",
       "...         ...\n",
       "2000-12-26  360\n",
       "2000-12-27  361\n",
       "2000-12-28  362\n",
       "2000-12-29  363\n",
       "2000-12-30  364\n",
       "\n",
       "[365 rows x 1 columns]"
      ]
     },
     "execution_count": 19,
     "metadata": {},
     "output_type": "execute_result"
    }
   ],
   "source": [
    "# simulate a time series\n",
    "n = 365\n",
    "time = pd.date_range(start='2000-01-01', periods=n, freq='d')\n",
    "y = np.arange(n)\n",
    "df = pd.DataFrame({'time': time, 'y': y})\n",
    "df = df.set_index('time')\n",
    "df = df.asfreq('d')\n",
    "df"
   ]
  },
  {
   "cell_type": "code",
   "execution_count": 20,
   "metadata": {},
   "outputs": [
    {
     "data": {
      "text/plain": [
       "============================ \n",
       "ForecasterLastEquivalentDate \n",
       "============================ \n",
       "Offset: 7 \n",
       "Window size: 7 \n",
       "Training range: [Timestamp('2000-01-01 00:00:00'), Timestamp('2000-12-30 00:00:00')] \n",
       "Training index type: DatetimeIndex \n",
       "Training index frequency: D \n",
       "Creation date: 2023-10-26 18:16:33 \n",
       "Last fit date: 2023-10-26 18:16:33 \n",
       "Skforecast version: 0.10.1 \n",
       "Python version: 3.11.4 \n",
       "Forecaster id: None "
      ]
     },
     "execution_count": 20,
     "metadata": {},
     "output_type": "execute_result"
    }
   ],
   "source": [
    "forecaster = ForecasterLastEquivalentDate(offset=7)\n",
    "forecaster.fit(y=df['y'])\n",
    "forecaster"
   ]
  },
  {
   "cell_type": "code",
   "execution_count": 21,
   "metadata": {},
   "outputs": [
    {
     "data": {
      "text/plain": [
       "time\n",
       "2000-12-24    358\n",
       "2000-12-25    359\n",
       "2000-12-26    360\n",
       "2000-12-27    361\n",
       "2000-12-28    362\n",
       "2000-12-29    363\n",
       "2000-12-30    364\n",
       "Freq: D, Name: y, dtype: int32"
      ]
     },
     "execution_count": 21,
     "metadata": {},
     "output_type": "execute_result"
    }
   ],
   "source": [
    "forecaster.last_window"
   ]
  },
  {
   "cell_type": "code",
   "execution_count": 22,
   "metadata": {},
   "outputs": [
    {
     "data": {
      "text/plain": [
       "2000-12-31    358\n",
       "2001-01-01    359\n",
       "2001-01-02    360\n",
       "2001-01-03    361\n",
       "2001-01-04    362\n",
       "2001-01-05    363\n",
       "2001-01-06    364\n",
       "2001-01-07    358\n",
       "2001-01-08    359\n",
       "Freq: D, Name: pred, dtype: int32"
      ]
     },
     "execution_count": 22,
     "metadata": {},
     "output_type": "execute_result"
    }
   ],
   "source": [
    "forecaster.predict(steps=9)"
   ]
  },
  {
   "cell_type": "code",
   "execution_count": 23,
   "metadata": {},
   "outputs": [
    {
     "name": "stdout",
     "output_type": "stream",
     "text": [
      "Information of backtesting process\n",
      "----------------------------------\n",
      "Number of observations used for initial training: 182\n",
      "Number of observations used for backtesting: 183\n",
      "    Number of folds: 21\n",
      "    Number of steps per fold: 9\n",
      "    Number of steps to exclude from the end of each train set before test (gap): 0\n",
      "    Last fold only includes 3 observations.\n",
      "\n",
      "Fold: 0\n",
      "    Training:   2000-01-01 00:00:00 -- 2000-06-30 00:00:00  (n=182)\n",
      "    Validation: 2000-07-01 00:00:00 -- 2000-07-09 00:00:00  (n=9)\n",
      "Fold: 1\n",
      "    Training:   2000-01-01 00:00:00 -- 2000-06-30 00:00:00  (n=182)\n",
      "    Validation: 2000-07-10 00:00:00 -- 2000-07-18 00:00:00  (n=9)\n",
      "Fold: 2\n",
      "    Training:   2000-01-01 00:00:00 -- 2000-06-30 00:00:00  (n=182)\n",
      "    Validation: 2000-07-19 00:00:00 -- 2000-07-27 00:00:00  (n=9)\n",
      "Fold: 3\n",
      "    Training:   2000-01-01 00:00:00 -- 2000-06-30 00:00:00  (n=182)\n",
      "    Validation: 2000-07-28 00:00:00 -- 2000-08-05 00:00:00  (n=9)\n",
      "Fold: 4\n",
      "    Training:   2000-01-01 00:00:00 -- 2000-06-30 00:00:00  (n=182)\n",
      "    Validation: 2000-08-06 00:00:00 -- 2000-08-14 00:00:00  (n=9)\n",
      "Fold: 5\n",
      "    Training:   2000-01-01 00:00:00 -- 2000-06-30 00:00:00  (n=182)\n",
      "    Validation: 2000-08-15 00:00:00 -- 2000-08-23 00:00:00  (n=9)\n",
      "Fold: 6\n",
      "    Training:   2000-01-01 00:00:00 -- 2000-06-30 00:00:00  (n=182)\n",
      "    Validation: 2000-08-24 00:00:00 -- 2000-09-01 00:00:00  (n=9)\n",
      "Fold: 7\n",
      "    Training:   2000-01-01 00:00:00 -- 2000-06-30 00:00:00  (n=182)\n",
      "    Validation: 2000-09-02 00:00:00 -- 2000-09-10 00:00:00  (n=9)\n",
      "Fold: 8\n",
      "    Training:   2000-01-01 00:00:00 -- 2000-06-30 00:00:00  (n=182)\n",
      "    Validation: 2000-09-11 00:00:00 -- 2000-09-19 00:00:00  (n=9)\n",
      "Fold: 9\n",
      "    Training:   2000-01-01 00:00:00 -- 2000-06-30 00:00:00  (n=182)\n",
      "    Validation: 2000-09-20 00:00:00 -- 2000-09-28 00:00:00  (n=9)\n",
      "Fold: 10\n",
      "    Training:   2000-01-01 00:00:00 -- 2000-06-30 00:00:00  (n=182)\n",
      "    Validation: 2000-09-29 00:00:00 -- 2000-10-07 00:00:00  (n=9)\n",
      "Fold: 11\n",
      "    Training:   2000-01-01 00:00:00 -- 2000-06-30 00:00:00  (n=182)\n",
      "    Validation: 2000-10-08 00:00:00 -- 2000-10-16 00:00:00  (n=9)\n",
      "Fold: 12\n",
      "    Training:   2000-01-01 00:00:00 -- 2000-06-30 00:00:00  (n=182)\n",
      "    Validation: 2000-10-17 00:00:00 -- 2000-10-25 00:00:00  (n=9)\n",
      "Fold: 13\n",
      "    Training:   2000-01-01 00:00:00 -- 2000-06-30 00:00:00  (n=182)\n",
      "    Validation: 2000-10-26 00:00:00 -- 2000-11-03 00:00:00  (n=9)\n",
      "Fold: 14\n",
      "    Training:   2000-01-01 00:00:00 -- 2000-06-30 00:00:00  (n=182)\n",
      "    Validation: 2000-11-04 00:00:00 -- 2000-11-12 00:00:00  (n=9)\n",
      "Fold: 15\n",
      "    Training:   2000-01-01 00:00:00 -- 2000-06-30 00:00:00  (n=182)\n",
      "    Validation: 2000-11-13 00:00:00 -- 2000-11-21 00:00:00  (n=9)\n",
      "Fold: 16\n",
      "    Training:   2000-01-01 00:00:00 -- 2000-06-30 00:00:00  (n=182)\n",
      "    Validation: 2000-11-22 00:00:00 -- 2000-11-30 00:00:00  (n=9)\n",
      "Fold: 17\n",
      "    Training:   2000-01-01 00:00:00 -- 2000-06-30 00:00:00  (n=182)\n",
      "    Validation: 2000-12-01 00:00:00 -- 2000-12-09 00:00:00  (n=9)\n",
      "Fold: 18\n",
      "    Training:   2000-01-01 00:00:00 -- 2000-06-30 00:00:00  (n=182)\n",
      "    Validation: 2000-12-10 00:00:00 -- 2000-12-18 00:00:00  (n=9)\n",
      "Fold: 19\n",
      "    Training:   2000-01-01 00:00:00 -- 2000-06-30 00:00:00  (n=182)\n",
      "    Validation: 2000-12-19 00:00:00 -- 2000-12-27 00:00:00  (n=9)\n",
      "Fold: 20\n",
      "    Training:   2000-01-01 00:00:00 -- 2000-06-30 00:00:00  (n=182)\n",
      "    Validation: 2000-12-28 00:00:00 -- 2000-12-30 00:00:00  (n=3)\n",
      "\n"
     ]
    },
    {
     "data": {
      "application/vnd.jupyter.widget-view+json": {
       "model_id": "95daaf92bf5d4e93b1e541e88bffdf08",
       "version_major": 2,
       "version_minor": 0
      },
      "text/plain": [
       "  0%|          | 0/21 [00:00<?, ?it/s]"
      ]
     },
     "metadata": {},
     "output_type": "display_data"
    }
   ],
   "source": [
    "metric, predictions = backtesting_forecaster(\n",
    "    forecaster=forecaster,\n",
    "    y=df['y'],\n",
    "    initial_train_size=int(len(df) * 0.5),\n",
    "    steps=9,\n",
    "    metric='mean_absolute_error',\n",
    "    verbose=True\n",
    ")"
   ]
  },
  {
   "cell_type": "code",
   "execution_count": 24,
   "metadata": {},
   "outputs": [
    {
     "data": {
      "text/html": [
       "<div>\n",
       "<style scoped>\n",
       "    .dataframe tbody tr th:only-of-type {\n",
       "        vertical-align: middle;\n",
       "    }\n",
       "\n",
       "    .dataframe tbody tr th {\n",
       "        vertical-align: top;\n",
       "    }\n",
       "\n",
       "    .dataframe thead th {\n",
       "        text-align: right;\n",
       "    }\n",
       "</style>\n",
       "<table border=\"1\" class=\"dataframe\">\n",
       "  <thead>\n",
       "    <tr style=\"text-align: right;\">\n",
       "      <th></th>\n",
       "      <th>pred</th>\n",
       "    </tr>\n",
       "  </thead>\n",
       "  <tbody>\n",
       "    <tr>\n",
       "      <th>2000-07-01</th>\n",
       "      <td>175</td>\n",
       "    </tr>\n",
       "    <tr>\n",
       "      <th>2000-07-02</th>\n",
       "      <td>176</td>\n",
       "    </tr>\n",
       "    <tr>\n",
       "      <th>2000-07-03</th>\n",
       "      <td>177</td>\n",
       "    </tr>\n",
       "    <tr>\n",
       "      <th>2000-07-04</th>\n",
       "      <td>178</td>\n",
       "    </tr>\n",
       "    <tr>\n",
       "      <th>2000-07-05</th>\n",
       "      <td>179</td>\n",
       "    </tr>\n",
       "    <tr>\n",
       "      <th>...</th>\n",
       "      <td>...</td>\n",
       "    </tr>\n",
       "    <tr>\n",
       "      <th>2000-12-26</th>\n",
       "      <td>346</td>\n",
       "    </tr>\n",
       "    <tr>\n",
       "      <th>2000-12-27</th>\n",
       "      <td>347</td>\n",
       "    </tr>\n",
       "    <tr>\n",
       "      <th>2000-12-28</th>\n",
       "      <td>355</td>\n",
       "    </tr>\n",
       "    <tr>\n",
       "      <th>2000-12-29</th>\n",
       "      <td>356</td>\n",
       "    </tr>\n",
       "    <tr>\n",
       "      <th>2000-12-30</th>\n",
       "      <td>357</td>\n",
       "    </tr>\n",
       "  </tbody>\n",
       "</table>\n",
       "<p>183 rows × 1 columns</p>\n",
       "</div>"
      ],
      "text/plain": [
       "            pred\n",
       "2000-07-01   175\n",
       "2000-07-02   176\n",
       "2000-07-03   177\n",
       "2000-07-04   178\n",
       "2000-07-05   179\n",
       "...          ...\n",
       "2000-12-26   346\n",
       "2000-12-27   347\n",
       "2000-12-28   355\n",
       "2000-12-29   356\n",
       "2000-12-30   357\n",
       "\n",
       "[183 rows x 1 columns]"
      ]
     },
     "execution_count": 24,
     "metadata": {},
     "output_type": "execute_result"
    }
   ],
   "source": [
    "predictions"
   ]
  },
  {
   "cell_type": "code",
   "execution_count": 25,
   "metadata": {},
   "outputs": [
    {
     "data": {
      "text/plain": [
       "Timestamp('2017-02-01 09:10:11')"
      ]
     },
     "execution_count": 25,
     "metadata": {},
     "output_type": "execute_result"
    }
   ],
   "source": [
    "import pandas as pd\n",
    "from pandas.tseries import offsets\n",
    "from pandas.tseries.offsets import DateOffset\n",
    "ts = pd.Timestamp('2017-01-01 09:10:11')\n",
    "ts + DateOffset(months=1)"
   ]
  },
  {
   "cell_type": "code",
   "execution_count": 26,
   "metadata": {},
   "outputs": [
    {
     "data": {
      "text/plain": [
       "Timestamp('2016-12-31 09:10:11')"
      ]
     },
     "execution_count": 26,
     "metadata": {},
     "output_type": "execute_result"
    }
   ],
   "source": [
    "offset = offsets.Day()\n",
    "ts = pd.Timestamp('2017-01-01 09:10:11')\n",
    "ts - offset"
   ]
  },
  {
   "cell_type": "code",
   "execution_count": null,
   "metadata": {},
   "outputs": [],
   "source": []
  }
 ],
 "metadata": {
  "kernelspec": {
   "display_name": "skforecast_py10",
   "language": "python",
   "name": "python3"
  },
  "language_info": {
   "codemirror_mode": {
    "name": "ipython",
    "version": 3
   },
   "file_extension": ".py",
   "mimetype": "text/x-python",
   "name": "python",
   "nbconvert_exporter": "python",
   "pygments_lexer": "ipython3",
   "version": "3.11.4"
  },
  "orig_nbformat": 4,
  "vscode": {
   "interpreter": {
    "hash": "c78d62c1713fdacd99ef7c429003c7324b36fbb551fb8b6860a7ea73e9338235"
   }
  }
 },
 "nbformat": 4,
 "nbformat_minor": 2
}
