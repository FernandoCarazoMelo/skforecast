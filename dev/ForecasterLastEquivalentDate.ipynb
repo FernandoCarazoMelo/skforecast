{
 "cells": [
  {
   "cell_type": "code",
   "execution_count": 80,
   "metadata": {},
   "outputs": [
    {
     "name": "stdout",
     "output_type": "stream",
     "text": [
      "The autoreload extension is already loaded. To reload it, use:\n",
      "  %reload_ext autoreload\n"
     ]
    },
    {
     "data": {
      "text/plain": [
       "'c:\\\\Users\\\\Joaquín Amat\\\\Documents\\\\GitHub\\\\skforecast'"
      ]
     },
     "execution_count": 80,
     "metadata": {},
     "output_type": "execute_result"
    }
   ],
   "source": [
    "%load_ext autoreload\n",
    "%autoreload 2\n",
    "import sys\n",
    "from pathlib import Path\n",
    "sys.path.insert(1, str(Path.cwd().parent))\n",
    "str(Path.cwd().parent)"
   ]
  },
  {
   "cell_type": "code",
   "execution_count": 81,
   "metadata": {},
   "outputs": [
    {
     "name": "stdout",
     "output_type": "stream",
     "text": [
      "0.10.1\n"
     ]
    }
   ],
   "source": [
    "from skforecast.ForecasterBaseline import ForecasterLastEquivalentDate\n",
    "from skforecast.model_selection import backtesting_forecaster\n",
    "import numpy as np\n",
    "import pandas as pd\n",
    "from skforecast import __version__\n",
    "print(__version__)\n"
   ]
  },
  {
   "cell_type": "code",
   "execution_count": 82,
   "metadata": {},
   "outputs": [
    {
     "data": {
      "text/html": [
       "<div>\n",
       "<style scoped>\n",
       "    .dataframe tbody tr th:only-of-type {\n",
       "        vertical-align: middle;\n",
       "    }\n",
       "\n",
       "    .dataframe tbody tr th {\n",
       "        vertical-align: top;\n",
       "    }\n",
       "\n",
       "    .dataframe thead th {\n",
       "        text-align: right;\n",
       "    }\n",
       "</style>\n",
       "<table border=\"1\" class=\"dataframe\">\n",
       "  <thead>\n",
       "    <tr style=\"text-align: right;\">\n",
       "      <th></th>\n",
       "      <th>y</th>\n",
       "    </tr>\n",
       "    <tr>\n",
       "      <th>time</th>\n",
       "      <th></th>\n",
       "    </tr>\n",
       "  </thead>\n",
       "  <tbody>\n",
       "    <tr>\n",
       "      <th>2000-01-01</th>\n",
       "      <td>0</td>\n",
       "    </tr>\n",
       "    <tr>\n",
       "      <th>2000-01-02</th>\n",
       "      <td>1</td>\n",
       "    </tr>\n",
       "    <tr>\n",
       "      <th>2000-01-03</th>\n",
       "      <td>2</td>\n",
       "    </tr>\n",
       "    <tr>\n",
       "      <th>2000-01-04</th>\n",
       "      <td>3</td>\n",
       "    </tr>\n",
       "    <tr>\n",
       "      <th>2000-01-05</th>\n",
       "      <td>4</td>\n",
       "    </tr>\n",
       "    <tr>\n",
       "      <th>...</th>\n",
       "      <td>...</td>\n",
       "    </tr>\n",
       "    <tr>\n",
       "      <th>2000-12-26</th>\n",
       "      <td>360</td>\n",
       "    </tr>\n",
       "    <tr>\n",
       "      <th>2000-12-27</th>\n",
       "      <td>361</td>\n",
       "    </tr>\n",
       "    <tr>\n",
       "      <th>2000-12-28</th>\n",
       "      <td>362</td>\n",
       "    </tr>\n",
       "    <tr>\n",
       "      <th>2000-12-29</th>\n",
       "      <td>363</td>\n",
       "    </tr>\n",
       "    <tr>\n",
       "      <th>2000-12-30</th>\n",
       "      <td>364</td>\n",
       "    </tr>\n",
       "  </tbody>\n",
       "</table>\n",
       "<p>365 rows × 1 columns</p>\n",
       "</div>"
      ],
      "text/plain": [
       "              y\n",
       "time           \n",
       "2000-01-01    0\n",
       "2000-01-02    1\n",
       "2000-01-03    2\n",
       "2000-01-04    3\n",
       "2000-01-05    4\n",
       "...         ...\n",
       "2000-12-26  360\n",
       "2000-12-27  361\n",
       "2000-12-28  362\n",
       "2000-12-29  363\n",
       "2000-12-30  364\n",
       "\n",
       "[365 rows x 1 columns]"
      ]
     },
     "execution_count": 82,
     "metadata": {},
     "output_type": "execute_result"
    }
   ],
   "source": [
    "# simulate a time series\n",
    "n = 365\n",
    "time = pd.date_range(start='2000-01-01', periods=n, freq='d')\n",
    "y = np.arange(n)\n",
    "df = pd.DataFrame({'time': time, 'y': y})\n",
    "df = df.set_index('time')\n",
    "df = df.asfreq('d')\n",
    "df"
   ]
  },
  {
   "cell_type": "code",
   "execution_count": 112,
   "metadata": {},
   "outputs": [
    {
     "data": {
      "text/plain": [
       "============================ \n",
       "ForecasterLastEquivalentDate \n",
       "============================ \n",
       "Offset: 10 \n",
       "Number of equivalent dates: 2 \n",
       "Aggregation function: mean \n",
       "Window size: 20 \n",
       "Training range: [Timestamp('2000-01-01 00:00:00'), Timestamp('2000-12-30 00:00:00')] \n",
       "Training index type: DatetimeIndex \n",
       "Training index frequency: D \n",
       "Creation date: 2023-10-27 12:09:26 \n",
       "Last fit date: 2023-10-27 12:09:26 \n",
       "Skforecast version: 0.10.1 \n",
       "Python version: 3.11.4 \n",
       "Forecaster id: None "
      ]
     },
     "execution_count": 112,
     "metadata": {},
     "output_type": "execute_result"
    }
   ],
   "source": [
    "forecaster = ForecasterLastEquivalentDate(offset=10, n_equivalent_dates=2)\n",
    "forecaster.fit(y=df['y'])\n",
    "forecaster"
   ]
  },
  {
   "cell_type": "code",
   "execution_count": 113,
   "metadata": {},
   "outputs": [
    {
     "data": {
      "text/plain": [
       "time\n",
       "2000-12-11    345\n",
       "2000-12-12    346\n",
       "2000-12-13    347\n",
       "2000-12-14    348\n",
       "2000-12-15    349\n",
       "2000-12-16    350\n",
       "2000-12-17    351\n",
       "2000-12-18    352\n",
       "2000-12-19    353\n",
       "2000-12-20    354\n",
       "2000-12-21    355\n",
       "2000-12-22    356\n",
       "2000-12-23    357\n",
       "2000-12-24    358\n",
       "2000-12-25    359\n",
       "2000-12-26    360\n",
       "2000-12-27    361\n",
       "2000-12-28    362\n",
       "2000-12-29    363\n",
       "2000-12-30    364\n",
       "Freq: D, Name: y, dtype: int32"
      ]
     },
     "execution_count": 113,
     "metadata": {},
     "output_type": "execute_result"
    }
   ],
   "source": [
    "forecaster.last_window"
   ]
  },
  {
   "cell_type": "code",
   "execution_count": 121,
   "metadata": {},
   "outputs": [
    {
     "data": {
      "text/plain": [
       "array([[355, 356, 357, 358, 359, 360, 361, 362, 363, 364],\n",
       "       [345, 346, 347, 348, 349, 350, 351, 352, 353, 354]])"
      ]
     },
     "execution_count": 121,
     "metadata": {},
     "output_type": "execute_result"
    }
   ],
   "source": [
    "forecaster.predict(steps=15)"
   ]
  },
  {
   "cell_type": "code",
   "execution_count": 124,
   "metadata": {},
   "outputs": [
    {
     "data": {
      "text/plain": [
       "359.0"
      ]
     },
     "execution_count": 124,
     "metadata": {},
     "output_type": "execute_result"
    }
   ],
   "source": [
    "718/2"
   ]
  },
  {
   "cell_type": "code",
   "execution_count": 126,
   "metadata": {},
   "outputs": [
    {
     "data": {
      "text/plain": [
       "array([[-10,  -9,  -8,  -7,  -6,  -5,  -4,  -3,  -2,  -1, -10,  -9,  -8,\n",
       "         -7,  -6],\n",
       "       [-20, -19, -18, -17, -16, -15, -14, -13, -12, -11, -20, -19, -18,\n",
       "        -17, -16]])"
      ]
     },
     "execution_count": 126,
     "metadata": {},
     "output_type": "execute_result"
    }
   ],
   "source": [
    "forecaster.predict(steps=15)"
   ]
  },
  {
   "cell_type": "code",
   "execution_count": null,
   "metadata": {},
   "outputs": [
    {
     "name": "stdout",
     "output_type": "stream",
     "text": [
      "Information of backtesting process\n",
      "----------------------------------\n",
      "Number of observations used for initial training: 182\n",
      "Number of observations used for backtesting: 183\n",
      "    Number of folds: 21\n",
      "    Number of steps per fold: 9\n",
      "    Number of steps to exclude from the end of each train set before test (gap): 0\n",
      "    Last fold only includes 3 observations.\n",
      "\n",
      "Fold: 0\n",
      "    Training:   2000-01-01 00:00:00 -- 2000-06-30 00:00:00  (n=182)\n",
      "    Validation: 2000-07-01 00:00:00 -- 2000-07-09 00:00:00  (n=9)\n",
      "Fold: 1\n",
      "    Training:   2000-01-01 00:00:00 -- 2000-06-30 00:00:00  (n=182)\n",
      "    Validation: 2000-07-10 00:00:00 -- 2000-07-18 00:00:00  (n=9)\n",
      "Fold: 2\n",
      "    Training:   2000-01-01 00:00:00 -- 2000-06-30 00:00:00  (n=182)\n",
      "    Validation: 2000-07-19 00:00:00 -- 2000-07-27 00:00:00  (n=9)\n",
      "Fold: 3\n",
      "    Training:   2000-01-01 00:00:00 -- 2000-06-30 00:00:00  (n=182)\n",
      "    Validation: 2000-07-28 00:00:00 -- 2000-08-05 00:00:00  (n=9)\n",
      "Fold: 4\n",
      "    Training:   2000-01-01 00:00:00 -- 2000-06-30 00:00:00  (n=182)\n",
      "    Validation: 2000-08-06 00:00:00 -- 2000-08-14 00:00:00  (n=9)\n",
      "Fold: 5\n",
      "    Training:   2000-01-01 00:00:00 -- 2000-06-30 00:00:00  (n=182)\n",
      "    Validation: 2000-08-15 00:00:00 -- 2000-08-23 00:00:00  (n=9)\n",
      "Fold: 6\n",
      "    Training:   2000-01-01 00:00:00 -- 2000-06-30 00:00:00  (n=182)\n",
      "    Validation: 2000-08-24 00:00:00 -- 2000-09-01 00:00:00  (n=9)\n",
      "Fold: 7\n",
      "    Training:   2000-01-01 00:00:00 -- 2000-06-30 00:00:00  (n=182)\n",
      "    Validation: 2000-09-02 00:00:00 -- 2000-09-10 00:00:00  (n=9)\n",
      "Fold: 8\n",
      "    Training:   2000-01-01 00:00:00 -- 2000-06-30 00:00:00  (n=182)\n",
      "    Validation: 2000-09-11 00:00:00 -- 2000-09-19 00:00:00  (n=9)\n",
      "Fold: 9\n",
      "    Training:   2000-01-01 00:00:00 -- 2000-06-30 00:00:00  (n=182)\n",
      "    Validation: 2000-09-20 00:00:00 -- 2000-09-28 00:00:00  (n=9)\n",
      "Fold: 10\n",
      "    Training:   2000-01-01 00:00:00 -- 2000-06-30 00:00:00  (n=182)\n",
      "    Validation: 2000-09-29 00:00:00 -- 2000-10-07 00:00:00  (n=9)\n",
      "Fold: 11\n",
      "    Training:   2000-01-01 00:00:00 -- 2000-06-30 00:00:00  (n=182)\n",
      "    Validation: 2000-10-08 00:00:00 -- 2000-10-16 00:00:00  (n=9)\n",
      "Fold: 12\n",
      "    Training:   2000-01-01 00:00:00 -- 2000-06-30 00:00:00  (n=182)\n",
      "    Validation: 2000-10-17 00:00:00 -- 2000-10-25 00:00:00  (n=9)\n",
      "Fold: 13\n",
      "    Training:   2000-01-01 00:00:00 -- 2000-06-30 00:00:00  (n=182)\n",
      "    Validation: 2000-10-26 00:00:00 -- 2000-11-03 00:00:00  (n=9)\n",
      "Fold: 14\n",
      "    Training:   2000-01-01 00:00:00 -- 2000-06-30 00:00:00  (n=182)\n",
      "    Validation: 2000-11-04 00:00:00 -- 2000-11-12 00:00:00  (n=9)\n",
      "Fold: 15\n",
      "    Training:   2000-01-01 00:00:00 -- 2000-06-30 00:00:00  (n=182)\n",
      "    Validation: 2000-11-13 00:00:00 -- 2000-11-21 00:00:00  (n=9)\n",
      "Fold: 16\n",
      "    Training:   2000-01-01 00:00:00 -- 2000-06-30 00:00:00  (n=182)\n",
      "    Validation: 2000-11-22 00:00:00 -- 2000-11-30 00:00:00  (n=9)\n",
      "Fold: 17\n",
      "    Training:   2000-01-01 00:00:00 -- 2000-06-30 00:00:00  (n=182)\n",
      "    Validation: 2000-12-01 00:00:00 -- 2000-12-09 00:00:00  (n=9)\n",
      "Fold: 18\n",
      "    Training:   2000-01-01 00:00:00 -- 2000-06-30 00:00:00  (n=182)\n",
      "    Validation: 2000-12-10 00:00:00 -- 2000-12-18 00:00:00  (n=9)\n",
      "Fold: 19\n",
      "    Training:   2000-01-01 00:00:00 -- 2000-06-30 00:00:00  (n=182)\n",
      "    Validation: 2000-12-19 00:00:00 -- 2000-12-27 00:00:00  (n=9)\n",
      "Fold: 20\n",
      "    Training:   2000-01-01 00:00:00 -- 2000-06-30 00:00:00  (n=182)\n",
      "    Validation: 2000-12-28 00:00:00 -- 2000-12-30 00:00:00  (n=3)\n",
      "\n"
     ]
    },
    {
     "data": {
      "application/vnd.jupyter.widget-view+json": {
       "model_id": "fadd966823bb4e888553d807c5ab9ebb",
       "version_major": 2,
       "version_minor": 0
      },
      "text/plain": [
       "  0%|          | 0/21 [00:00<?, ?it/s]"
      ]
     },
     "metadata": {},
     "output_type": "display_data"
    }
   ],
   "source": [
    "metric, predictions = backtesting_forecaster(\n",
    "    forecaster=forecaster,\n",
    "    y=df['y'],\n",
    "    initial_train_size=int(len(df) * 0.5),\n",
    "    steps=9,\n",
    "    metric='mean_absolute_error',\n",
    "    verbose=True\n",
    ")"
   ]
  },
  {
   "cell_type": "code",
   "execution_count": null,
   "metadata": {},
   "outputs": [
    {
     "data": {
      "text/html": [
       "<div>\n",
       "<style scoped>\n",
       "    .dataframe tbody tr th:only-of-type {\n",
       "        vertical-align: middle;\n",
       "    }\n",
       "\n",
       "    .dataframe tbody tr th {\n",
       "        vertical-align: top;\n",
       "    }\n",
       "\n",
       "    .dataframe thead th {\n",
       "        text-align: right;\n",
       "    }\n",
       "</style>\n",
       "<table border=\"1\" class=\"dataframe\">\n",
       "  <thead>\n",
       "    <tr style=\"text-align: right;\">\n",
       "      <th></th>\n",
       "      <th>pred</th>\n",
       "    </tr>\n",
       "  </thead>\n",
       "  <tbody>\n",
       "    <tr>\n",
       "      <th>2000-07-01</th>\n",
       "      <td>167.0</td>\n",
       "    </tr>\n",
       "    <tr>\n",
       "      <th>2000-07-02</th>\n",
       "      <td>168.5</td>\n",
       "    </tr>\n",
       "    <tr>\n",
       "      <th>2000-07-03</th>\n",
       "      <td>170.0</td>\n",
       "    </tr>\n",
       "    <tr>\n",
       "      <th>2000-07-04</th>\n",
       "      <td>171.5</td>\n",
       "    </tr>\n",
       "    <tr>\n",
       "      <th>2000-07-05</th>\n",
       "      <td>173.0</td>\n",
       "    </tr>\n",
       "    <tr>\n",
       "      <th>...</th>\n",
       "      <td>...</td>\n",
       "    </tr>\n",
       "    <tr>\n",
       "      <th>2000-12-26</th>\n",
       "      <td>348.5</td>\n",
       "    </tr>\n",
       "    <tr>\n",
       "      <th>2000-12-27</th>\n",
       "      <td>350.0</td>\n",
       "    </tr>\n",
       "    <tr>\n",
       "      <th>2000-12-28</th>\n",
       "      <td>347.0</td>\n",
       "    </tr>\n",
       "    <tr>\n",
       "      <th>2000-12-29</th>\n",
       "      <td>348.5</td>\n",
       "    </tr>\n",
       "    <tr>\n",
       "      <th>2000-12-30</th>\n",
       "      <td>350.0</td>\n",
       "    </tr>\n",
       "  </tbody>\n",
       "</table>\n",
       "<p>183 rows × 1 columns</p>\n",
       "</div>"
      ],
      "text/plain": [
       "             pred\n",
       "2000-07-01  167.0\n",
       "2000-07-02  168.5\n",
       "2000-07-03  170.0\n",
       "2000-07-04  171.5\n",
       "2000-07-05  173.0\n",
       "...           ...\n",
       "2000-12-26  348.5\n",
       "2000-12-27  350.0\n",
       "2000-12-28  347.0\n",
       "2000-12-29  348.5\n",
       "2000-12-30  350.0\n",
       "\n",
       "[183 rows x 1 columns]"
      ]
     },
     "execution_count": 27,
     "metadata": {},
     "output_type": "execute_result"
    }
   ],
   "source": [
    "predictions"
   ]
  },
  {
   "cell_type": "code",
   "execution_count": 174,
   "metadata": {},
   "outputs": [
    {
     "data": {
      "text/plain": [
       "============================ \n",
       "ForecasterLastEquivalentDate \n",
       "============================ \n",
       "Offset: <DateOffset: weeks=1> \n",
       "Number of equivalent dates: 2 \n",
       "Aggregation function: mean \n",
       "Window size: 15 \n",
       "Training range: [Timestamp('2000-01-01 00:00:00'), Timestamp('2000-12-30 00:00:00')] \n",
       "Training index type: DatetimeIndex \n",
       "Training index frequency: D \n",
       "Creation date: 2023-10-27 12:49:40 \n",
       "Last fit date: 2023-10-27 12:49:40 \n",
       "Skforecast version: 0.10.1 \n",
       "Python version: 3.11.4 \n",
       "Forecaster id: None "
      ]
     },
     "execution_count": 174,
     "metadata": {},
     "output_type": "execute_result"
    }
   ],
   "source": [
    "forecaster = ForecasterLastEquivalentDate(\n",
    "    offset=DateOffset(weeks=1),\n",
    "    n_equivalent_dates=2\n",
    ")\n",
    "forecaster.fit(y=df['y'])\n",
    "forecaster"
   ]
  },
  {
   "cell_type": "code",
   "execution_count": 185,
   "metadata": {},
   "outputs": [
    {
     "name": "stdout",
     "output_type": "stream",
     "text": [
      "2000-12-31 00:00:00\n",
      "<DateOffset: weeks=1>\n",
      "D\n"
     ]
    },
    {
     "ename": "KeyError",
     "evalue": "\"[Timestamp('2000-12-31 00:00:00')] not in index\"",
     "output_type": "error",
     "traceback": [
      "\u001b[1;31m---------------------------------------------------------------------------\u001b[0m",
      "\u001b[1;31mKeyError\u001b[0m                                  Traceback (most recent call last)",
      "\u001b[1;32mc:\\Users\\Joaquín Amat\\Documents\\GitHub\\skforecast\\dev\\ForecasterLastEquivalentDate.ipynb Cell 12\u001b[0m line \u001b[0;36m1\n\u001b[1;32m----> <a href='vscode-notebook-cell:/c%3A/Users/Joaqu%C3%ADn%20Amat/Documents/GitHub/skforecast/dev/ForecasterLastEquivalentDate.ipynb#X34sZmlsZQ%3D%3D?line=0'>1</a>\u001b[0m forecaster\u001b[39m.\u001b[39;49mpredict(steps\u001b[39m=\u001b[39;49m\u001b[39m12\u001b[39;49m)\n",
      "File \u001b[1;32mc:\\Users\\Joaquín Amat\\Documents\\GitHub\\skforecast\\skforecast\\ForecasterBaseline\\ForecasterLastEquivalentDate.py:355\u001b[0m, in \u001b[0;36mForecasterLastEquivalentDate.predict\u001b[1;34m(self, steps, last_window, exog)\u001b[0m\n\u001b[0;32m    345\u001b[0m     equivalent_dates \u001b[39m=\u001b[39m equivalent_dates[:steps]\n\u001b[0;32m    346\u001b[0m     equivalent_dates \u001b[39m=\u001b[39m [\n\u001b[0;32m    347\u001b[0m         [\n\u001b[0;32m    348\u001b[0m             date \u001b[39m-\u001b[39m \u001b[39mself\u001b[39m\u001b[39m.\u001b[39moffset \u001b[39m*\u001b[39m n\n\u001b[1;32m   (...)\u001b[0m\n\u001b[0;32m    353\u001b[0m         \u001b[39min\u001b[39;00m equivalent_dates\n\u001b[0;32m    354\u001b[0m     ]\n\u001b[1;32m--> 355\u001b[0m     equivalent_values \u001b[39m=\u001b[39m [\n\u001b[0;32m    356\u001b[0m         last_window\u001b[39m.\u001b[39;49mloc[dates]\u001b[39m.\u001b[39;49mto_numpy()\n\u001b[0;32m    357\u001b[0m         \u001b[39mfor\u001b[39;49;00m dates \u001b[39min\u001b[39;49;00m equivalent_dates\n\u001b[0;32m    358\u001b[0m     ]\n\u001b[0;32m    359\u001b[0m     predictions \u001b[39m=\u001b[39m np\u001b[39m.\u001b[39mapply_along_axis(\n\u001b[0;32m    360\u001b[0m                     func1d\u001b[39m=\u001b[39mnp\u001b[39m.\u001b[39mmean,\n\u001b[0;32m    361\u001b[0m                     axis\u001b[39m=\u001b[39m\u001b[39m1\u001b[39m,\n\u001b[0;32m    362\u001b[0m                     arr\u001b[39m=\u001b[39mequivalent_values\n\u001b[0;32m    363\u001b[0m                   )\n\u001b[0;32m    365\u001b[0m predictions \u001b[39m=\u001b[39m pd\u001b[39m.\u001b[39mSeries(\n\u001b[0;32m    366\u001b[0m                   data  \u001b[39m=\u001b[39m predictions,\n\u001b[0;32m    367\u001b[0m                   index \u001b[39m=\u001b[39m predictions_index,\n\u001b[0;32m    368\u001b[0m                   name \u001b[39m=\u001b[39m \u001b[39m'\u001b[39m\u001b[39mpred\u001b[39m\u001b[39m'\u001b[39m\n\u001b[0;32m    369\u001b[0m               )\n",
      "File \u001b[1;32mc:\\Users\\Joaquín Amat\\Documents\\GitHub\\skforecast\\skforecast\\ForecasterBaseline\\ForecasterLastEquivalentDate.py:356\u001b[0m, in \u001b[0;36m<listcomp>\u001b[1;34m(.0)\u001b[0m\n\u001b[0;32m    345\u001b[0m     equivalent_dates \u001b[39m=\u001b[39m equivalent_dates[:steps]\n\u001b[0;32m    346\u001b[0m     equivalent_dates \u001b[39m=\u001b[39m [\n\u001b[0;32m    347\u001b[0m         [\n\u001b[0;32m    348\u001b[0m             date \u001b[39m-\u001b[39m \u001b[39mself\u001b[39m\u001b[39m.\u001b[39moffset \u001b[39m*\u001b[39m n\n\u001b[1;32m   (...)\u001b[0m\n\u001b[0;32m    353\u001b[0m         \u001b[39min\u001b[39;00m equivalent_dates\n\u001b[0;32m    354\u001b[0m     ]\n\u001b[0;32m    355\u001b[0m     equivalent_values \u001b[39m=\u001b[39m [\n\u001b[1;32m--> 356\u001b[0m         last_window\u001b[39m.\u001b[39;49mloc[dates]\u001b[39m.\u001b[39mto_numpy()\n\u001b[0;32m    357\u001b[0m         \u001b[39mfor\u001b[39;00m dates \u001b[39min\u001b[39;00m equivalent_dates\n\u001b[0;32m    358\u001b[0m     ]\n\u001b[0;32m    359\u001b[0m     predictions \u001b[39m=\u001b[39m np\u001b[39m.\u001b[39mapply_along_axis(\n\u001b[0;32m    360\u001b[0m                     func1d\u001b[39m=\u001b[39mnp\u001b[39m.\u001b[39mmean,\n\u001b[0;32m    361\u001b[0m                     axis\u001b[39m=\u001b[39m\u001b[39m1\u001b[39m,\n\u001b[0;32m    362\u001b[0m                     arr\u001b[39m=\u001b[39mequivalent_values\n\u001b[0;32m    363\u001b[0m                   )\n\u001b[0;32m    365\u001b[0m predictions \u001b[39m=\u001b[39m pd\u001b[39m.\u001b[39mSeries(\n\u001b[0;32m    366\u001b[0m                   data  \u001b[39m=\u001b[39m predictions,\n\u001b[0;32m    367\u001b[0m                   index \u001b[39m=\u001b[39m predictions_index,\n\u001b[0;32m    368\u001b[0m                   name \u001b[39m=\u001b[39m \u001b[39m'\u001b[39m\u001b[39mpred\u001b[39m\u001b[39m'\u001b[39m\n\u001b[0;32m    369\u001b[0m               )\n",
      "File \u001b[1;32mc:\\anaconda\\envs\\skforecast_10_py11\\Lib\\site-packages\\pandas\\core\\indexing.py:1103\u001b[0m, in \u001b[0;36m_LocationIndexer.__getitem__\u001b[1;34m(self, key)\u001b[0m\n\u001b[0;32m   1100\u001b[0m axis \u001b[39m=\u001b[39m \u001b[39mself\u001b[39m\u001b[39m.\u001b[39maxis \u001b[39mor\u001b[39;00m \u001b[39m0\u001b[39m\n\u001b[0;32m   1102\u001b[0m maybe_callable \u001b[39m=\u001b[39m com\u001b[39m.\u001b[39mapply_if_callable(key, \u001b[39mself\u001b[39m\u001b[39m.\u001b[39mobj)\n\u001b[1;32m-> 1103\u001b[0m \u001b[39mreturn\u001b[39;00m \u001b[39mself\u001b[39;49m\u001b[39m.\u001b[39;49m_getitem_axis(maybe_callable, axis\u001b[39m=\u001b[39;49maxis)\n",
      "File \u001b[1;32mc:\\anaconda\\envs\\skforecast_10_py11\\Lib\\site-packages\\pandas\\core\\indexing.py:1332\u001b[0m, in \u001b[0;36m_LocIndexer._getitem_axis\u001b[1;34m(self, key, axis)\u001b[0m\n\u001b[0;32m   1329\u001b[0m     \u001b[39mif\u001b[39;00m \u001b[39mhasattr\u001b[39m(key, \u001b[39m\"\u001b[39m\u001b[39mndim\u001b[39m\u001b[39m\"\u001b[39m) \u001b[39mand\u001b[39;00m key\u001b[39m.\u001b[39mndim \u001b[39m>\u001b[39m \u001b[39m1\u001b[39m:\n\u001b[0;32m   1330\u001b[0m         \u001b[39mraise\u001b[39;00m \u001b[39mValueError\u001b[39;00m(\u001b[39m\"\u001b[39m\u001b[39mCannot index with multidimensional key\u001b[39m\u001b[39m\"\u001b[39m)\n\u001b[1;32m-> 1332\u001b[0m     \u001b[39mreturn\u001b[39;00m \u001b[39mself\u001b[39;49m\u001b[39m.\u001b[39;49m_getitem_iterable(key, axis\u001b[39m=\u001b[39;49maxis)\n\u001b[0;32m   1334\u001b[0m \u001b[39m# nested tuple slicing\u001b[39;00m\n\u001b[0;32m   1335\u001b[0m \u001b[39mif\u001b[39;00m is_nested_tuple(key, labels):\n",
      "File \u001b[1;32mc:\\anaconda\\envs\\skforecast_10_py11\\Lib\\site-packages\\pandas\\core\\indexing.py:1272\u001b[0m, in \u001b[0;36m_LocIndexer._getitem_iterable\u001b[1;34m(self, key, axis)\u001b[0m\n\u001b[0;32m   1269\u001b[0m \u001b[39mself\u001b[39m\u001b[39m.\u001b[39m_validate_key(key, axis)\n\u001b[0;32m   1271\u001b[0m \u001b[39m# A collection of keys\u001b[39;00m\n\u001b[1;32m-> 1272\u001b[0m keyarr, indexer \u001b[39m=\u001b[39m \u001b[39mself\u001b[39;49m\u001b[39m.\u001b[39;49m_get_listlike_indexer(key, axis)\n\u001b[0;32m   1273\u001b[0m \u001b[39mreturn\u001b[39;00m \u001b[39mself\u001b[39m\u001b[39m.\u001b[39mobj\u001b[39m.\u001b[39m_reindex_with_indexers(\n\u001b[0;32m   1274\u001b[0m     {axis: [keyarr, indexer]}, copy\u001b[39m=\u001b[39m\u001b[39mTrue\u001b[39;00m, allow_dups\u001b[39m=\u001b[39m\u001b[39mTrue\u001b[39;00m\n\u001b[0;32m   1275\u001b[0m )\n",
      "File \u001b[1;32mc:\\anaconda\\envs\\skforecast_10_py11\\Lib\\site-packages\\pandas\\core\\indexing.py:1462\u001b[0m, in \u001b[0;36m_LocIndexer._get_listlike_indexer\u001b[1;34m(self, key, axis)\u001b[0m\n\u001b[0;32m   1459\u001b[0m ax \u001b[39m=\u001b[39m \u001b[39mself\u001b[39m\u001b[39m.\u001b[39mobj\u001b[39m.\u001b[39m_get_axis(axis)\n\u001b[0;32m   1460\u001b[0m axis_name \u001b[39m=\u001b[39m \u001b[39mself\u001b[39m\u001b[39m.\u001b[39mobj\u001b[39m.\u001b[39m_get_axis_name(axis)\n\u001b[1;32m-> 1462\u001b[0m keyarr, indexer \u001b[39m=\u001b[39m ax\u001b[39m.\u001b[39;49m_get_indexer_strict(key, axis_name)\n\u001b[0;32m   1464\u001b[0m \u001b[39mreturn\u001b[39;00m keyarr, indexer\n",
      "File \u001b[1;32mc:\\anaconda\\envs\\skforecast_10_py11\\Lib\\site-packages\\pandas\\core\\indexes\\base.py:5877\u001b[0m, in \u001b[0;36mIndex._get_indexer_strict\u001b[1;34m(self, key, axis_name)\u001b[0m\n\u001b[0;32m   5874\u001b[0m \u001b[39melse\u001b[39;00m:\n\u001b[0;32m   5875\u001b[0m     keyarr, indexer, new_indexer \u001b[39m=\u001b[39m \u001b[39mself\u001b[39m\u001b[39m.\u001b[39m_reindex_non_unique(keyarr)\n\u001b[1;32m-> 5877\u001b[0m \u001b[39mself\u001b[39;49m\u001b[39m.\u001b[39;49m_raise_if_missing(keyarr, indexer, axis_name)\n\u001b[0;32m   5879\u001b[0m keyarr \u001b[39m=\u001b[39m \u001b[39mself\u001b[39m\u001b[39m.\u001b[39mtake(indexer)\n\u001b[0;32m   5880\u001b[0m \u001b[39mif\u001b[39;00m \u001b[39misinstance\u001b[39m(key, Index):\n\u001b[0;32m   5881\u001b[0m     \u001b[39m# GH 42790 - Preserve name from an Index\u001b[39;00m\n",
      "File \u001b[1;32mc:\\anaconda\\envs\\skforecast_10_py11\\Lib\\site-packages\\pandas\\core\\indexes\\base.py:5941\u001b[0m, in \u001b[0;36mIndex._raise_if_missing\u001b[1;34m(self, key, indexer, axis_name)\u001b[0m\n\u001b[0;32m   5938\u001b[0m     \u001b[39mraise\u001b[39;00m \u001b[39mKeyError\u001b[39;00m(\u001b[39mf\u001b[39m\u001b[39m\"\u001b[39m\u001b[39mNone of [\u001b[39m\u001b[39m{\u001b[39;00mkey\u001b[39m}\u001b[39;00m\u001b[39m] are in the [\u001b[39m\u001b[39m{\u001b[39;00maxis_name\u001b[39m}\u001b[39;00m\u001b[39m]\u001b[39m\u001b[39m\"\u001b[39m)\n\u001b[0;32m   5940\u001b[0m not_found \u001b[39m=\u001b[39m \u001b[39mlist\u001b[39m(ensure_index(key)[missing_mask\u001b[39m.\u001b[39mnonzero()[\u001b[39m0\u001b[39m]]\u001b[39m.\u001b[39munique())\n\u001b[1;32m-> 5941\u001b[0m \u001b[39mraise\u001b[39;00m \u001b[39mKeyError\u001b[39;00m(\u001b[39mf\u001b[39m\u001b[39m\"\u001b[39m\u001b[39m{\u001b[39;00mnot_found\u001b[39m}\u001b[39;00m\u001b[39m not in index\u001b[39m\u001b[39m\"\u001b[39m)\n",
      "\u001b[1;31mKeyError\u001b[0m: \"[Timestamp('2000-12-31 00:00:00')] not in index\""
     ]
    }
   ],
   "source": [
    "forecaster.predict(steps=12)"
   ]
  },
  {
   "cell_type": "code",
   "execution_count": 128,
   "metadata": {},
   "outputs": [
    {
     "data": {
      "text/plain": [
       "2000-01-01      0\n",
       "2000-01-02      1\n",
       "2000-01-03      2\n",
       "2000-01-04      3\n",
       "2000-01-05      4\n",
       "             ... \n",
       "2000-12-26    360\n",
       "2000-12-27    361\n",
       "2000-12-28    362\n",
       "2000-12-29    363\n",
       "2000-12-30    364\n",
       "Freq: D, Length: 365, dtype: int32"
      ]
     },
     "execution_count": 128,
     "metadata": {},
     "output_type": "execute_result"
    }
   ],
   "source": [
    "# simulate time series with dayly frequency\n",
    "n = 365\n",
    "time = pd.date_range(start='2000-01-01', periods=n, freq='D')\n",
    "y = np.arange(n)\n",
    "y = pd.Series(y, index=time)\n",
    "offset = offsets.Day(n=10)\n",
    "y"
   ]
  },
  {
   "cell_type": "code",
   "execution_count": 130,
   "metadata": {},
   "outputs": [
    {
     "data": {
      "text/plain": [
       "Timestamp('2000-12-20 00:00:00')"
      ]
     },
     "execution_count": 130,
     "metadata": {},
     "output_type": "execute_result"
    }
   ],
   "source": [
    "# Substract 10 days to the las value of the time series index and add one unit of the time series frequency\n",
    "y.index[-1] - pd.DateOffset(days=10) "
   ]
  },
  {
   "cell_type": "code",
   "execution_count": 134,
   "metadata": {},
   "outputs": [
    {
     "data": {
      "text/plain": [
       "Timestamp('2000-12-22 00:00:00')"
      ]
     },
     "execution_count": 134,
     "metadata": {},
     "output_type": "execute_result"
    }
   ],
   "source": [
    "y.index[-1] - pd.DateOffset(days=10) + 2*y.index.freq"
   ]
  },
  {
   "cell_type": "code",
   "execution_count": 188,
   "metadata": {},
   "outputs": [
    {
     "name": "stdout",
     "output_type": "stream",
     "text": [
      "2000-12-30 00:00:00\n",
      "[[Timestamp('2000-12-21 00:00:00'), Timestamp('2000-12-11 00:00:00')], [Timestamp('2000-12-22 00:00:00'), Timestamp('2000-12-12 00:00:00')], [Timestamp('2000-12-23 00:00:00'), Timestamp('2000-12-13 00:00:00')], [Timestamp('2000-12-24 00:00:00'), Timestamp('2000-12-14 00:00:00')], [Timestamp('2000-12-25 00:00:00'), Timestamp('2000-12-15 00:00:00')], [Timestamp('2000-12-26 00:00:00'), Timestamp('2000-12-16 00:00:00')], [Timestamp('2000-12-27 00:00:00'), Timestamp('2000-12-17 00:00:00')], [Timestamp('2000-12-28 00:00:00'), Timestamp('2000-12-18 00:00:00')], [Timestamp('2000-12-29 00:00:00'), Timestamp('2000-12-19 00:00:00')], [Timestamp('2000-12-30 00:00:00'), Timestamp('2000-12-20 00:00:00')], [Timestamp('2000-12-31 00:00:00'), Timestamp('2000-12-21 00:00:00')], [Timestamp('2001-01-01 00:00:00'), Timestamp('2000-12-22 00:00:00')], [Timestamp('2001-01-02 00:00:00'), Timestamp('2000-12-23 00:00:00')], [Timestamp('2001-01-03 00:00:00'), Timestamp('2000-12-24 00:00:00')], [Timestamp('2001-01-04 00:00:00'), Timestamp('2000-12-25 00:00:00')]]\n"
     ]
    },
    {
     "ename": "KeyError",
     "evalue": "\"[Timestamp('2000-12-31 00:00:00')] not in index\"",
     "output_type": "error",
     "traceback": [
      "\u001b[1;31m---------------------------------------------------------------------------\u001b[0m",
      "\u001b[1;31mKeyError\u001b[0m                                  Traceback (most recent call last)",
      "\u001b[1;32mc:\\Users\\Joaquín Amat\\Documents\\GitHub\\skforecast\\dev\\ForecasterLastEquivalentDate.ipynb Cell 16\u001b[0m line \u001b[0;36m3\n\u001b[0;32m     <a href='vscode-notebook-cell:/c%3A/Users/Joaqu%C3%ADn%20Amat/Documents/GitHub/skforecast/dev/ForecasterLastEquivalentDate.ipynb#X15sZmlsZQ%3D%3D?line=24'>25</a>\u001b[0m equivalent_dates \u001b[39m=\u001b[39m [\n\u001b[0;32m     <a href='vscode-notebook-cell:/c%3A/Users/Joaqu%C3%ADn%20Amat/Documents/GitHub/skforecast/dev/ForecasterLastEquivalentDate.ipynb#X15sZmlsZQ%3D%3D?line=25'>26</a>\u001b[0m     [\n\u001b[0;32m     <a href='vscode-notebook-cell:/c%3A/Users/Joaqu%C3%ADn%20Amat/Documents/GitHub/skforecast/dev/ForecasterLastEquivalentDate.ipynb#X15sZmlsZQ%3D%3D?line=26'>27</a>\u001b[0m         date \u001b[39m-\u001b[39m offset \u001b[39m*\u001b[39m n\n\u001b[1;32m   (...)\u001b[0m\n\u001b[0;32m     <a href='vscode-notebook-cell:/c%3A/Users/Joaqu%C3%ADn%20Amat/Documents/GitHub/skforecast/dev/ForecasterLastEquivalentDate.ipynb#X15sZmlsZQ%3D%3D?line=31'>32</a>\u001b[0m     \u001b[39min\u001b[39;00m equivalent_dates\n\u001b[0;32m     <a href='vscode-notebook-cell:/c%3A/Users/Joaqu%C3%ADn%20Amat/Documents/GitHub/skforecast/dev/ForecasterLastEquivalentDate.ipynb#X15sZmlsZQ%3D%3D?line=32'>33</a>\u001b[0m ]\n\u001b[0;32m     <a href='vscode-notebook-cell:/c%3A/Users/Joaqu%C3%ADn%20Amat/Documents/GitHub/skforecast/dev/ForecasterLastEquivalentDate.ipynb#X15sZmlsZQ%3D%3D?line=33'>34</a>\u001b[0m \u001b[39mprint\u001b[39m(equivalent_dates)\n\u001b[1;32m---> <a href='vscode-notebook-cell:/c%3A/Users/Joaqu%C3%ADn%20Amat/Documents/GitHub/skforecast/dev/ForecasterLastEquivalentDate.ipynb#X15sZmlsZQ%3D%3D?line=35'>36</a>\u001b[0m equivalent_values \u001b[39m=\u001b[39m [\n\u001b[0;32m     <a href='vscode-notebook-cell:/c%3A/Users/Joaqu%C3%ADn%20Amat/Documents/GitHub/skforecast/dev/ForecasterLastEquivalentDate.ipynb#X15sZmlsZQ%3D%3D?line=36'>37</a>\u001b[0m     last_window\u001b[39m.\u001b[39;49mloc[dates]\u001b[39m.\u001b[39;49mto_numpy()\n\u001b[0;32m     <a href='vscode-notebook-cell:/c%3A/Users/Joaqu%C3%ADn%20Amat/Documents/GitHub/skforecast/dev/ForecasterLastEquivalentDate.ipynb#X15sZmlsZQ%3D%3D?line=37'>38</a>\u001b[0m     \u001b[39mfor\u001b[39;49;00m dates\n\u001b[0;32m     <a href='vscode-notebook-cell:/c%3A/Users/Joaqu%C3%ADn%20Amat/Documents/GitHub/skforecast/dev/ForecasterLastEquivalentDate.ipynb#X15sZmlsZQ%3D%3D?line=38'>39</a>\u001b[0m     \u001b[39min\u001b[39;49;00m equivalent_dates\n\u001b[0;32m     <a href='vscode-notebook-cell:/c%3A/Users/Joaqu%C3%ADn%20Amat/Documents/GitHub/skforecast/dev/ForecasterLastEquivalentDate.ipynb#X15sZmlsZQ%3D%3D?line=39'>40</a>\u001b[0m ]\n\u001b[0;32m     <a href='vscode-notebook-cell:/c%3A/Users/Joaqu%C3%ADn%20Amat/Documents/GitHub/skforecast/dev/ForecasterLastEquivalentDate.ipynb#X15sZmlsZQ%3D%3D?line=40'>41</a>\u001b[0m equivalent_values\n",
      "\u001b[1;32mc:\\Users\\Joaquín Amat\\Documents\\GitHub\\skforecast\\dev\\ForecasterLastEquivalentDate.ipynb Cell 16\u001b[0m line \u001b[0;36m3\n\u001b[0;32m     <a href='vscode-notebook-cell:/c%3A/Users/Joaqu%C3%ADn%20Amat/Documents/GitHub/skforecast/dev/ForecasterLastEquivalentDate.ipynb#X15sZmlsZQ%3D%3D?line=24'>25</a>\u001b[0m equivalent_dates \u001b[39m=\u001b[39m [\n\u001b[0;32m     <a href='vscode-notebook-cell:/c%3A/Users/Joaqu%C3%ADn%20Amat/Documents/GitHub/skforecast/dev/ForecasterLastEquivalentDate.ipynb#X15sZmlsZQ%3D%3D?line=25'>26</a>\u001b[0m     [\n\u001b[0;32m     <a href='vscode-notebook-cell:/c%3A/Users/Joaqu%C3%ADn%20Amat/Documents/GitHub/skforecast/dev/ForecasterLastEquivalentDate.ipynb#X15sZmlsZQ%3D%3D?line=26'>27</a>\u001b[0m         date \u001b[39m-\u001b[39m offset \u001b[39m*\u001b[39m n\n\u001b[1;32m   (...)\u001b[0m\n\u001b[0;32m     <a href='vscode-notebook-cell:/c%3A/Users/Joaqu%C3%ADn%20Amat/Documents/GitHub/skforecast/dev/ForecasterLastEquivalentDate.ipynb#X15sZmlsZQ%3D%3D?line=31'>32</a>\u001b[0m     \u001b[39min\u001b[39;00m equivalent_dates\n\u001b[0;32m     <a href='vscode-notebook-cell:/c%3A/Users/Joaqu%C3%ADn%20Amat/Documents/GitHub/skforecast/dev/ForecasterLastEquivalentDate.ipynb#X15sZmlsZQ%3D%3D?line=32'>33</a>\u001b[0m ]\n\u001b[0;32m     <a href='vscode-notebook-cell:/c%3A/Users/Joaqu%C3%ADn%20Amat/Documents/GitHub/skforecast/dev/ForecasterLastEquivalentDate.ipynb#X15sZmlsZQ%3D%3D?line=33'>34</a>\u001b[0m \u001b[39mprint\u001b[39m(equivalent_dates)\n\u001b[0;32m     <a href='vscode-notebook-cell:/c%3A/Users/Joaqu%C3%ADn%20Amat/Documents/GitHub/skforecast/dev/ForecasterLastEquivalentDate.ipynb#X15sZmlsZQ%3D%3D?line=35'>36</a>\u001b[0m equivalent_values \u001b[39m=\u001b[39m [\n\u001b[1;32m---> <a href='vscode-notebook-cell:/c%3A/Users/Joaqu%C3%ADn%20Amat/Documents/GitHub/skforecast/dev/ForecasterLastEquivalentDate.ipynb#X15sZmlsZQ%3D%3D?line=36'>37</a>\u001b[0m     last_window\u001b[39m.\u001b[39;49mloc[dates]\u001b[39m.\u001b[39mto_numpy()\n\u001b[0;32m     <a href='vscode-notebook-cell:/c%3A/Users/Joaqu%C3%ADn%20Amat/Documents/GitHub/skforecast/dev/ForecasterLastEquivalentDate.ipynb#X15sZmlsZQ%3D%3D?line=37'>38</a>\u001b[0m     \u001b[39mfor\u001b[39;00m dates\n\u001b[0;32m     <a href='vscode-notebook-cell:/c%3A/Users/Joaqu%C3%ADn%20Amat/Documents/GitHub/skforecast/dev/ForecasterLastEquivalentDate.ipynb#X15sZmlsZQ%3D%3D?line=38'>39</a>\u001b[0m     \u001b[39min\u001b[39;00m equivalent_dates\n\u001b[0;32m     <a href='vscode-notebook-cell:/c%3A/Users/Joaqu%C3%ADn%20Amat/Documents/GitHub/skforecast/dev/ForecasterLastEquivalentDate.ipynb#X15sZmlsZQ%3D%3D?line=39'>40</a>\u001b[0m ]\n\u001b[0;32m     <a href='vscode-notebook-cell:/c%3A/Users/Joaqu%C3%ADn%20Amat/Documents/GitHub/skforecast/dev/ForecasterLastEquivalentDate.ipynb#X15sZmlsZQ%3D%3D?line=40'>41</a>\u001b[0m equivalent_values\n",
      "File \u001b[1;32mc:\\anaconda\\envs\\skforecast_10_py11\\Lib\\site-packages\\pandas\\core\\indexing.py:1103\u001b[0m, in \u001b[0;36m_LocationIndexer.__getitem__\u001b[1;34m(self, key)\u001b[0m\n\u001b[0;32m   1100\u001b[0m axis \u001b[39m=\u001b[39m \u001b[39mself\u001b[39m\u001b[39m.\u001b[39maxis \u001b[39mor\u001b[39;00m \u001b[39m0\u001b[39m\n\u001b[0;32m   1102\u001b[0m maybe_callable \u001b[39m=\u001b[39m com\u001b[39m.\u001b[39mapply_if_callable(key, \u001b[39mself\u001b[39m\u001b[39m.\u001b[39mobj)\n\u001b[1;32m-> 1103\u001b[0m \u001b[39mreturn\u001b[39;00m \u001b[39mself\u001b[39;49m\u001b[39m.\u001b[39;49m_getitem_axis(maybe_callable, axis\u001b[39m=\u001b[39;49maxis)\n",
      "File \u001b[1;32mc:\\anaconda\\envs\\skforecast_10_py11\\Lib\\site-packages\\pandas\\core\\indexing.py:1332\u001b[0m, in \u001b[0;36m_LocIndexer._getitem_axis\u001b[1;34m(self, key, axis)\u001b[0m\n\u001b[0;32m   1329\u001b[0m     \u001b[39mif\u001b[39;00m \u001b[39mhasattr\u001b[39m(key, \u001b[39m\"\u001b[39m\u001b[39mndim\u001b[39m\u001b[39m\"\u001b[39m) \u001b[39mand\u001b[39;00m key\u001b[39m.\u001b[39mndim \u001b[39m>\u001b[39m \u001b[39m1\u001b[39m:\n\u001b[0;32m   1330\u001b[0m         \u001b[39mraise\u001b[39;00m \u001b[39mValueError\u001b[39;00m(\u001b[39m\"\u001b[39m\u001b[39mCannot index with multidimensional key\u001b[39m\u001b[39m\"\u001b[39m)\n\u001b[1;32m-> 1332\u001b[0m     \u001b[39mreturn\u001b[39;00m \u001b[39mself\u001b[39;49m\u001b[39m.\u001b[39;49m_getitem_iterable(key, axis\u001b[39m=\u001b[39;49maxis)\n\u001b[0;32m   1334\u001b[0m \u001b[39m# nested tuple slicing\u001b[39;00m\n\u001b[0;32m   1335\u001b[0m \u001b[39mif\u001b[39;00m is_nested_tuple(key, labels):\n",
      "File \u001b[1;32mc:\\anaconda\\envs\\skforecast_10_py11\\Lib\\site-packages\\pandas\\core\\indexing.py:1272\u001b[0m, in \u001b[0;36m_LocIndexer._getitem_iterable\u001b[1;34m(self, key, axis)\u001b[0m\n\u001b[0;32m   1269\u001b[0m \u001b[39mself\u001b[39m\u001b[39m.\u001b[39m_validate_key(key, axis)\n\u001b[0;32m   1271\u001b[0m \u001b[39m# A collection of keys\u001b[39;00m\n\u001b[1;32m-> 1272\u001b[0m keyarr, indexer \u001b[39m=\u001b[39m \u001b[39mself\u001b[39;49m\u001b[39m.\u001b[39;49m_get_listlike_indexer(key, axis)\n\u001b[0;32m   1273\u001b[0m \u001b[39mreturn\u001b[39;00m \u001b[39mself\u001b[39m\u001b[39m.\u001b[39mobj\u001b[39m.\u001b[39m_reindex_with_indexers(\n\u001b[0;32m   1274\u001b[0m     {axis: [keyarr, indexer]}, copy\u001b[39m=\u001b[39m\u001b[39mTrue\u001b[39;00m, allow_dups\u001b[39m=\u001b[39m\u001b[39mTrue\u001b[39;00m\n\u001b[0;32m   1275\u001b[0m )\n",
      "File \u001b[1;32mc:\\anaconda\\envs\\skforecast_10_py11\\Lib\\site-packages\\pandas\\core\\indexing.py:1462\u001b[0m, in \u001b[0;36m_LocIndexer._get_listlike_indexer\u001b[1;34m(self, key, axis)\u001b[0m\n\u001b[0;32m   1459\u001b[0m ax \u001b[39m=\u001b[39m \u001b[39mself\u001b[39m\u001b[39m.\u001b[39mobj\u001b[39m.\u001b[39m_get_axis(axis)\n\u001b[0;32m   1460\u001b[0m axis_name \u001b[39m=\u001b[39m \u001b[39mself\u001b[39m\u001b[39m.\u001b[39mobj\u001b[39m.\u001b[39m_get_axis_name(axis)\n\u001b[1;32m-> 1462\u001b[0m keyarr, indexer \u001b[39m=\u001b[39m ax\u001b[39m.\u001b[39;49m_get_indexer_strict(key, axis_name)\n\u001b[0;32m   1464\u001b[0m \u001b[39mreturn\u001b[39;00m keyarr, indexer\n",
      "File \u001b[1;32mc:\\anaconda\\envs\\skforecast_10_py11\\Lib\\site-packages\\pandas\\core\\indexes\\base.py:5877\u001b[0m, in \u001b[0;36mIndex._get_indexer_strict\u001b[1;34m(self, key, axis_name)\u001b[0m\n\u001b[0;32m   5874\u001b[0m \u001b[39melse\u001b[39;00m:\n\u001b[0;32m   5875\u001b[0m     keyarr, indexer, new_indexer \u001b[39m=\u001b[39m \u001b[39mself\u001b[39m\u001b[39m.\u001b[39m_reindex_non_unique(keyarr)\n\u001b[1;32m-> 5877\u001b[0m \u001b[39mself\u001b[39;49m\u001b[39m.\u001b[39;49m_raise_if_missing(keyarr, indexer, axis_name)\n\u001b[0;32m   5879\u001b[0m keyarr \u001b[39m=\u001b[39m \u001b[39mself\u001b[39m\u001b[39m.\u001b[39mtake(indexer)\n\u001b[0;32m   5880\u001b[0m \u001b[39mif\u001b[39;00m \u001b[39misinstance\u001b[39m(key, Index):\n\u001b[0;32m   5881\u001b[0m     \u001b[39m# GH 42790 - Preserve name from an Index\u001b[39;00m\n",
      "File \u001b[1;32mc:\\anaconda\\envs\\skforecast_10_py11\\Lib\\site-packages\\pandas\\core\\indexes\\base.py:5941\u001b[0m, in \u001b[0;36mIndex._raise_if_missing\u001b[1;34m(self, key, indexer, axis_name)\u001b[0m\n\u001b[0;32m   5938\u001b[0m     \u001b[39mraise\u001b[39;00m \u001b[39mKeyError\u001b[39;00m(\u001b[39mf\u001b[39m\u001b[39m\"\u001b[39m\u001b[39mNone of [\u001b[39m\u001b[39m{\u001b[39;00mkey\u001b[39m}\u001b[39;00m\u001b[39m] are in the [\u001b[39m\u001b[39m{\u001b[39;00maxis_name\u001b[39m}\u001b[39;00m\u001b[39m]\u001b[39m\u001b[39m\"\u001b[39m)\n\u001b[0;32m   5940\u001b[0m not_found \u001b[39m=\u001b[39m \u001b[39mlist\u001b[39m(ensure_index(key)[missing_mask\u001b[39m.\u001b[39mnonzero()[\u001b[39m0\u001b[39m]]\u001b[39m.\u001b[39munique())\n\u001b[1;32m-> 5941\u001b[0m \u001b[39mraise\u001b[39;00m \u001b[39mKeyError\u001b[39;00m(\u001b[39mf\u001b[39m\u001b[39m\"\u001b[39m\u001b[39m{\u001b[39;00mnot_found\u001b[39m}\u001b[39;00m\u001b[39m not in index\u001b[39m\u001b[39m\"\u001b[39m)\n",
      "\u001b[1;31mKeyError\u001b[0m: \"[Timestamp('2000-12-31 00:00:00')] not in index\""
     ]
    }
   ],
   "source": [
    "from skforecast.utils import expand_index\n",
    "\n",
    "last_window = y.tail(20)\n",
    "last_window_index = y.index\n",
    "last_window_values = y.to_numpy()\n",
    "n_equivalent_dates = 2\n",
    "print(last_window_index[-1])\n",
    "steps = 15\n",
    "index_freq = y.index.freq\n",
    "\n",
    "\n",
    "predictions_index = expand_index(index=last_window_index,steps=steps)\n",
    "equivalent_dates = [\n",
    "                predictions_index[0] - offset + n * index_freq\n",
    "                for n\n",
    "                in np.arange(steps)[:len(last_window)]\n",
    "            ]\n",
    "equivalent_dates = np.tile(\n",
    "                        equivalent_dates,\n",
    "                        int(np.ceil(steps/len(equivalent_dates)))\n",
    "                    )\n",
    "equivalent_dates = equivalent_dates[:steps]\n",
    "\n",
    "#substract off set element whise\n",
    "equivalent_dates = [\n",
    "    [\n",
    "        date - offset * n\n",
    "        for n\n",
    "        in np.arange(n_equivalent_dates)\n",
    "    ]\n",
    "    for date\n",
    "    in equivalent_dates\n",
    "]\n",
    "print(equivalent_dates)\n",
    "\n",
    "equivalent_values = [\n",
    "    last_window.loc[dates].to_numpy()\n",
    "    for dates\n",
    "    in equivalent_dates\n",
    "]\n",
    "equivalent_values\n"
   ]
  },
  {
   "cell_type": "code",
   "execution_count": 173,
   "metadata": {},
   "outputs": [
    {
     "data": {
      "text/plain": [
       "array([350., 351., 352., 353., 354., 355., 356., 357., 358., 359., 350.,\n",
       "       351., 352., 353., 354.])"
      ]
     },
     "execution_count": 173,
     "metadata": {},
     "output_type": "execute_result"
    }
   ],
   "source": [
    "\n",
    "predictions = np.apply_along_axis(\n",
    "    func1d=np.mean,\n",
    "    axis=1,\n",
    "    arr=equivalent_values\n",
    ")\n",
    "\n",
    "predictions"
   ]
  },
  {
   "cell_type": "code",
   "execution_count": 162,
   "metadata": {},
   "outputs": [
    {
     "ename": "KeyError",
     "evalue": "\"None of [Index([(2000-12-21 00:00:00, 2000-12-11 00:00:00),\\n       (2000-12-22 00:00:00, 2000-12-12 00:00:00),\\n       (2000-12-23 00:00:00, 2000-12-13 00:00:00),\\n       (2000-12-24 00:00:00, 2000-12-14 00:00:00),\\n       (2000-12-25 00:00:00, 2000-12-15 00:00:00),\\n       (2000-12-26 00:00:00, 2000-12-16 00:00:00),\\n       (2000-12-27 00:00:00, 2000-12-17 00:00:00),\\n       (2000-12-28 00:00:00, 2000-12-18 00:00:00),\\n       (2000-12-29 00:00:00, 2000-12-19 00:00:00),\\n       (2000-12-30 00:00:00, 2000-12-20 00:00:00),\\n       (2000-12-21 00:00:00, 2000-12-11 00:00:00),\\n       (2000-12-22 00:00:00, 2000-12-12 00:00:00),\\n       (2000-12-23 00:00:00, 2000-12-13 00:00:00),\\n       (2000-12-24 00:00:00, 2000-12-14 00:00:00),\\n       (2000-12-25 00:00:00, 2000-12-15 00:00:00)],\\n      dtype='object')] are in the [index]\"",
     "output_type": "error",
     "traceback": [
      "\u001b[1;31m---------------------------------------------------------------------------\u001b[0m",
      "\u001b[1;31mKeyError\u001b[0m                                  Traceback (most recent call last)",
      "\u001b[1;32mc:\\Users\\Joaquín Amat\\Documents\\GitHub\\skforecast\\dev\\ForecasterLastEquivalentDate.ipynb Cell 16\u001b[0m line \u001b[0;36m1\n\u001b[1;32m----> <a href='vscode-notebook-cell:/c%3A/Users/Joaqu%C3%ADn%20Amat/Documents/GitHub/skforecast/dev/ForecasterLastEquivalentDate.ipynb#X32sZmlsZQ%3D%3D?line=0'>1</a>\u001b[0m equivalent_values \u001b[39m=\u001b[39m last_window\u001b[39m.\u001b[39;49mloc[equivalent_dates]\n",
      "File \u001b[1;32mc:\\anaconda\\envs\\skforecast_10_py11\\Lib\\site-packages\\pandas\\core\\indexing.py:1103\u001b[0m, in \u001b[0;36m_LocationIndexer.__getitem__\u001b[1;34m(self, key)\u001b[0m\n\u001b[0;32m   1100\u001b[0m axis \u001b[39m=\u001b[39m \u001b[39mself\u001b[39m\u001b[39m.\u001b[39maxis \u001b[39mor\u001b[39;00m \u001b[39m0\u001b[39m\n\u001b[0;32m   1102\u001b[0m maybe_callable \u001b[39m=\u001b[39m com\u001b[39m.\u001b[39mapply_if_callable(key, \u001b[39mself\u001b[39m\u001b[39m.\u001b[39mobj)\n\u001b[1;32m-> 1103\u001b[0m \u001b[39mreturn\u001b[39;00m \u001b[39mself\u001b[39;49m\u001b[39m.\u001b[39;49m_getitem_axis(maybe_callable, axis\u001b[39m=\u001b[39;49maxis)\n",
      "File \u001b[1;32mc:\\anaconda\\envs\\skforecast_10_py11\\Lib\\site-packages\\pandas\\core\\indexing.py:1332\u001b[0m, in \u001b[0;36m_LocIndexer._getitem_axis\u001b[1;34m(self, key, axis)\u001b[0m\n\u001b[0;32m   1329\u001b[0m     \u001b[39mif\u001b[39;00m \u001b[39mhasattr\u001b[39m(key, \u001b[39m\"\u001b[39m\u001b[39mndim\u001b[39m\u001b[39m\"\u001b[39m) \u001b[39mand\u001b[39;00m key\u001b[39m.\u001b[39mndim \u001b[39m>\u001b[39m \u001b[39m1\u001b[39m:\n\u001b[0;32m   1330\u001b[0m         \u001b[39mraise\u001b[39;00m \u001b[39mValueError\u001b[39;00m(\u001b[39m\"\u001b[39m\u001b[39mCannot index with multidimensional key\u001b[39m\u001b[39m\"\u001b[39m)\n\u001b[1;32m-> 1332\u001b[0m     \u001b[39mreturn\u001b[39;00m \u001b[39mself\u001b[39;49m\u001b[39m.\u001b[39;49m_getitem_iterable(key, axis\u001b[39m=\u001b[39;49maxis)\n\u001b[0;32m   1334\u001b[0m \u001b[39m# nested tuple slicing\u001b[39;00m\n\u001b[0;32m   1335\u001b[0m \u001b[39mif\u001b[39;00m is_nested_tuple(key, labels):\n",
      "File \u001b[1;32mc:\\anaconda\\envs\\skforecast_10_py11\\Lib\\site-packages\\pandas\\core\\indexing.py:1272\u001b[0m, in \u001b[0;36m_LocIndexer._getitem_iterable\u001b[1;34m(self, key, axis)\u001b[0m\n\u001b[0;32m   1269\u001b[0m \u001b[39mself\u001b[39m\u001b[39m.\u001b[39m_validate_key(key, axis)\n\u001b[0;32m   1271\u001b[0m \u001b[39m# A collection of keys\u001b[39;00m\n\u001b[1;32m-> 1272\u001b[0m keyarr, indexer \u001b[39m=\u001b[39m \u001b[39mself\u001b[39;49m\u001b[39m.\u001b[39;49m_get_listlike_indexer(key, axis)\n\u001b[0;32m   1273\u001b[0m \u001b[39mreturn\u001b[39;00m \u001b[39mself\u001b[39m\u001b[39m.\u001b[39mobj\u001b[39m.\u001b[39m_reindex_with_indexers(\n\u001b[0;32m   1274\u001b[0m     {axis: [keyarr, indexer]}, copy\u001b[39m=\u001b[39m\u001b[39mTrue\u001b[39;00m, allow_dups\u001b[39m=\u001b[39m\u001b[39mTrue\u001b[39;00m\n\u001b[0;32m   1275\u001b[0m )\n",
      "File \u001b[1;32mc:\\anaconda\\envs\\skforecast_10_py11\\Lib\\site-packages\\pandas\\core\\indexing.py:1462\u001b[0m, in \u001b[0;36m_LocIndexer._get_listlike_indexer\u001b[1;34m(self, key, axis)\u001b[0m\n\u001b[0;32m   1459\u001b[0m ax \u001b[39m=\u001b[39m \u001b[39mself\u001b[39m\u001b[39m.\u001b[39mobj\u001b[39m.\u001b[39m_get_axis(axis)\n\u001b[0;32m   1460\u001b[0m axis_name \u001b[39m=\u001b[39m \u001b[39mself\u001b[39m\u001b[39m.\u001b[39mobj\u001b[39m.\u001b[39m_get_axis_name(axis)\n\u001b[1;32m-> 1462\u001b[0m keyarr, indexer \u001b[39m=\u001b[39m ax\u001b[39m.\u001b[39;49m_get_indexer_strict(key, axis_name)\n\u001b[0;32m   1464\u001b[0m \u001b[39mreturn\u001b[39;00m keyarr, indexer\n",
      "File \u001b[1;32mc:\\anaconda\\envs\\skforecast_10_py11\\Lib\\site-packages\\pandas\\core\\indexes\\base.py:5877\u001b[0m, in \u001b[0;36mIndex._get_indexer_strict\u001b[1;34m(self, key, axis_name)\u001b[0m\n\u001b[0;32m   5874\u001b[0m \u001b[39melse\u001b[39;00m:\n\u001b[0;32m   5875\u001b[0m     keyarr, indexer, new_indexer \u001b[39m=\u001b[39m \u001b[39mself\u001b[39m\u001b[39m.\u001b[39m_reindex_non_unique(keyarr)\n\u001b[1;32m-> 5877\u001b[0m \u001b[39mself\u001b[39;49m\u001b[39m.\u001b[39;49m_raise_if_missing(keyarr, indexer, axis_name)\n\u001b[0;32m   5879\u001b[0m keyarr \u001b[39m=\u001b[39m \u001b[39mself\u001b[39m\u001b[39m.\u001b[39mtake(indexer)\n\u001b[0;32m   5880\u001b[0m \u001b[39mif\u001b[39;00m \u001b[39misinstance\u001b[39m(key, Index):\n\u001b[0;32m   5881\u001b[0m     \u001b[39m# GH 42790 - Preserve name from an Index\u001b[39;00m\n",
      "File \u001b[1;32mc:\\anaconda\\envs\\skforecast_10_py11\\Lib\\site-packages\\pandas\\core\\indexes\\base.py:5938\u001b[0m, in \u001b[0;36mIndex._raise_if_missing\u001b[1;34m(self, key, indexer, axis_name)\u001b[0m\n\u001b[0;32m   5936\u001b[0m     \u001b[39mif\u001b[39;00m use_interval_msg:\n\u001b[0;32m   5937\u001b[0m         key \u001b[39m=\u001b[39m \u001b[39mlist\u001b[39m(key)\n\u001b[1;32m-> 5938\u001b[0m     \u001b[39mraise\u001b[39;00m \u001b[39mKeyError\u001b[39;00m(\u001b[39mf\u001b[39m\u001b[39m\"\u001b[39m\u001b[39mNone of [\u001b[39m\u001b[39m{\u001b[39;00mkey\u001b[39m}\u001b[39;00m\u001b[39m] are in the [\u001b[39m\u001b[39m{\u001b[39;00maxis_name\u001b[39m}\u001b[39;00m\u001b[39m]\u001b[39m\u001b[39m\"\u001b[39m)\n\u001b[0;32m   5940\u001b[0m not_found \u001b[39m=\u001b[39m \u001b[39mlist\u001b[39m(ensure_index(key)[missing_mask\u001b[39m.\u001b[39mnonzero()[\u001b[39m0\u001b[39m]]\u001b[39m.\u001b[39munique())\n\u001b[0;32m   5941\u001b[0m \u001b[39mraise\u001b[39;00m \u001b[39mKeyError\u001b[39;00m(\u001b[39mf\u001b[39m\u001b[39m\"\u001b[39m\u001b[39m{\u001b[39;00mnot_found\u001b[39m}\u001b[39;00m\u001b[39m not in index\u001b[39m\u001b[39m\"\u001b[39m)\n",
      "\u001b[1;31mKeyError\u001b[0m: \"None of [Index([(2000-12-21 00:00:00, 2000-12-11 00:00:00),\\n       (2000-12-22 00:00:00, 2000-12-12 00:00:00),\\n       (2000-12-23 00:00:00, 2000-12-13 00:00:00),\\n       (2000-12-24 00:00:00, 2000-12-14 00:00:00),\\n       (2000-12-25 00:00:00, 2000-12-15 00:00:00),\\n       (2000-12-26 00:00:00, 2000-12-16 00:00:00),\\n       (2000-12-27 00:00:00, 2000-12-17 00:00:00),\\n       (2000-12-28 00:00:00, 2000-12-18 00:00:00),\\n       (2000-12-29 00:00:00, 2000-12-19 00:00:00),\\n       (2000-12-30 00:00:00, 2000-12-20 00:00:00),\\n       (2000-12-21 00:00:00, 2000-12-11 00:00:00),\\n       (2000-12-22 00:00:00, 2000-12-12 00:00:00),\\n       (2000-12-23 00:00:00, 2000-12-13 00:00:00),\\n       (2000-12-24 00:00:00, 2000-12-14 00:00:00),\\n       (2000-12-25 00:00:00, 2000-12-15 00:00:00)],\\n      dtype='object')] are in the [index]\""
     ]
    }
   ],
   "source": [
    "equivalent_values = [\n",
    "    \n",
    "]"
   ]
  },
  {
   "cell_type": "code",
   "execution_count": 157,
   "metadata": {},
   "outputs": [
    {
     "ename": "TypeError",
     "evalue": "unsupported operand type(s) for -: 'list' and 'pandas._libs.tslibs.offsets.Day'",
     "output_type": "error",
     "traceback": [
      "\u001b[1;31m---------------------------------------------------------------------------\u001b[0m",
      "\u001b[1;31mTypeError\u001b[0m                                 Traceback (most recent call last)",
      "\u001b[1;32mc:\\Users\\Joaquín Amat\\Documents\\GitHub\\skforecast\\dev\\ForecasterLastEquivalentDate.ipynb Cell 16\u001b[0m line \u001b[0;36m2\n\u001b[0;32m      <a href='vscode-notebook-cell:/c%3A/Users/Joaqu%C3%ADn%20Amat/Documents/GitHub/skforecast/dev/ForecasterLastEquivalentDate.ipynb#X31sZmlsZQ%3D%3D?line=0'>1</a>\u001b[0m \u001b[39m#substract off set element whise\u001b[39;00m\n\u001b[1;32m----> <a href='vscode-notebook-cell:/c%3A/Users/Joaqu%C3%ADn%20Amat/Documents/GitHub/skforecast/dev/ForecasterLastEquivalentDate.ipynb#X31sZmlsZQ%3D%3D?line=1'>2</a>\u001b[0m equivalent_dates \u001b[39m=\u001b[39m [\n\u001b[0;32m      <a href='vscode-notebook-cell:/c%3A/Users/Joaqu%C3%ADn%20Amat/Documents/GitHub/skforecast/dev/ForecasterLastEquivalentDate.ipynb#X31sZmlsZQ%3D%3D?line=2'>3</a>\u001b[0m     [\n\u001b[0;32m      <a href='vscode-notebook-cell:/c%3A/Users/Joaqu%C3%ADn%20Amat/Documents/GitHub/skforecast/dev/ForecasterLastEquivalentDate.ipynb#X31sZmlsZQ%3D%3D?line=3'>4</a>\u001b[0m         date \u001b[39m-\u001b[39;49m offset \u001b[39m*\u001b[39;49m n\n\u001b[0;32m      <a href='vscode-notebook-cell:/c%3A/Users/Joaqu%C3%ADn%20Amat/Documents/GitHub/skforecast/dev/ForecasterLastEquivalentDate.ipynb#X31sZmlsZQ%3D%3D?line=4'>5</a>\u001b[0m         \u001b[39mfor\u001b[39;49;00m n\n\u001b[0;32m      <a href='vscode-notebook-cell:/c%3A/Users/Joaqu%C3%ADn%20Amat/Documents/GitHub/skforecast/dev/ForecasterLastEquivalentDate.ipynb#X31sZmlsZQ%3D%3D?line=5'>6</a>\u001b[0m         \u001b[39min\u001b[39;49;00m np\u001b[39m.\u001b[39;49marange(n_equivalent_dates)\n\u001b[0;32m      <a href='vscode-notebook-cell:/c%3A/Users/Joaqu%C3%ADn%20Amat/Documents/GitHub/skforecast/dev/ForecasterLastEquivalentDate.ipynb#X31sZmlsZQ%3D%3D?line=6'>7</a>\u001b[0m     ]\n\u001b[0;32m      <a href='vscode-notebook-cell:/c%3A/Users/Joaqu%C3%ADn%20Amat/Documents/GitHub/skforecast/dev/ForecasterLastEquivalentDate.ipynb#X31sZmlsZQ%3D%3D?line=7'>8</a>\u001b[0m     \u001b[39mfor\u001b[39;49;00m date\n\u001b[0;32m      <a href='vscode-notebook-cell:/c%3A/Users/Joaqu%C3%ADn%20Amat/Documents/GitHub/skforecast/dev/ForecasterLastEquivalentDate.ipynb#X31sZmlsZQ%3D%3D?line=8'>9</a>\u001b[0m     \u001b[39min\u001b[39;49;00m equivalent_dates\n\u001b[0;32m     <a href='vscode-notebook-cell:/c%3A/Users/Joaqu%C3%ADn%20Amat/Documents/GitHub/skforecast/dev/ForecasterLastEquivalentDate.ipynb#X31sZmlsZQ%3D%3D?line=9'>10</a>\u001b[0m ]\n\u001b[0;32m     <a href='vscode-notebook-cell:/c%3A/Users/Joaqu%C3%ADn%20Amat/Documents/GitHub/skforecast/dev/ForecasterLastEquivalentDate.ipynb#X31sZmlsZQ%3D%3D?line=11'>12</a>\u001b[0m equivalent_dates\n",
      "\u001b[1;32mc:\\Users\\Joaquín Amat\\Documents\\GitHub\\skforecast\\dev\\ForecasterLastEquivalentDate.ipynb Cell 16\u001b[0m line \u001b[0;36m3\n\u001b[0;32m      <a href='vscode-notebook-cell:/c%3A/Users/Joaqu%C3%ADn%20Amat/Documents/GitHub/skforecast/dev/ForecasterLastEquivalentDate.ipynb#X31sZmlsZQ%3D%3D?line=0'>1</a>\u001b[0m \u001b[39m#substract off set element whise\u001b[39;00m\n\u001b[0;32m      <a href='vscode-notebook-cell:/c%3A/Users/Joaqu%C3%ADn%20Amat/Documents/GitHub/skforecast/dev/ForecasterLastEquivalentDate.ipynb#X31sZmlsZQ%3D%3D?line=1'>2</a>\u001b[0m equivalent_dates \u001b[39m=\u001b[39m [\n\u001b[1;32m----> <a href='vscode-notebook-cell:/c%3A/Users/Joaqu%C3%ADn%20Amat/Documents/GitHub/skforecast/dev/ForecasterLastEquivalentDate.ipynb#X31sZmlsZQ%3D%3D?line=2'>3</a>\u001b[0m     [\n\u001b[0;32m      <a href='vscode-notebook-cell:/c%3A/Users/Joaqu%C3%ADn%20Amat/Documents/GitHub/skforecast/dev/ForecasterLastEquivalentDate.ipynb#X31sZmlsZQ%3D%3D?line=3'>4</a>\u001b[0m         date \u001b[39m-\u001b[39;49m offset \u001b[39m*\u001b[39;49m n\n\u001b[0;32m      <a href='vscode-notebook-cell:/c%3A/Users/Joaqu%C3%ADn%20Amat/Documents/GitHub/skforecast/dev/ForecasterLastEquivalentDate.ipynb#X31sZmlsZQ%3D%3D?line=4'>5</a>\u001b[0m         \u001b[39mfor\u001b[39;49;00m n\n\u001b[0;32m      <a href='vscode-notebook-cell:/c%3A/Users/Joaqu%C3%ADn%20Amat/Documents/GitHub/skforecast/dev/ForecasterLastEquivalentDate.ipynb#X31sZmlsZQ%3D%3D?line=5'>6</a>\u001b[0m         \u001b[39min\u001b[39;49;00m np\u001b[39m.\u001b[39;49marange(n_equivalent_dates)\n\u001b[0;32m      <a href='vscode-notebook-cell:/c%3A/Users/Joaqu%C3%ADn%20Amat/Documents/GitHub/skforecast/dev/ForecasterLastEquivalentDate.ipynb#X31sZmlsZQ%3D%3D?line=6'>7</a>\u001b[0m     ]\n\u001b[0;32m      <a href='vscode-notebook-cell:/c%3A/Users/Joaqu%C3%ADn%20Amat/Documents/GitHub/skforecast/dev/ForecasterLastEquivalentDate.ipynb#X31sZmlsZQ%3D%3D?line=7'>8</a>\u001b[0m     \u001b[39mfor\u001b[39;00m date\n\u001b[0;32m      <a href='vscode-notebook-cell:/c%3A/Users/Joaqu%C3%ADn%20Amat/Documents/GitHub/skforecast/dev/ForecasterLastEquivalentDate.ipynb#X31sZmlsZQ%3D%3D?line=8'>9</a>\u001b[0m     \u001b[39min\u001b[39;00m equivalent_dates\n\u001b[0;32m     <a href='vscode-notebook-cell:/c%3A/Users/Joaqu%C3%ADn%20Amat/Documents/GitHub/skforecast/dev/ForecasterLastEquivalentDate.ipynb#X31sZmlsZQ%3D%3D?line=9'>10</a>\u001b[0m ]\n\u001b[0;32m     <a href='vscode-notebook-cell:/c%3A/Users/Joaqu%C3%ADn%20Amat/Documents/GitHub/skforecast/dev/ForecasterLastEquivalentDate.ipynb#X31sZmlsZQ%3D%3D?line=11'>12</a>\u001b[0m equivalent_dates\n",
      "\u001b[1;32mc:\\Users\\Joaquín Amat\\Documents\\GitHub\\skforecast\\dev\\ForecasterLastEquivalentDate.ipynb Cell 16\u001b[0m line \u001b[0;36m4\n\u001b[0;32m      <a href='vscode-notebook-cell:/c%3A/Users/Joaqu%C3%ADn%20Amat/Documents/GitHub/skforecast/dev/ForecasterLastEquivalentDate.ipynb#X31sZmlsZQ%3D%3D?line=0'>1</a>\u001b[0m \u001b[39m#substract off set element whise\u001b[39;00m\n\u001b[0;32m      <a href='vscode-notebook-cell:/c%3A/Users/Joaqu%C3%ADn%20Amat/Documents/GitHub/skforecast/dev/ForecasterLastEquivalentDate.ipynb#X31sZmlsZQ%3D%3D?line=1'>2</a>\u001b[0m equivalent_dates \u001b[39m=\u001b[39m [\n\u001b[0;32m      <a href='vscode-notebook-cell:/c%3A/Users/Joaqu%C3%ADn%20Amat/Documents/GitHub/skforecast/dev/ForecasterLastEquivalentDate.ipynb#X31sZmlsZQ%3D%3D?line=2'>3</a>\u001b[0m     [\n\u001b[1;32m----> <a href='vscode-notebook-cell:/c%3A/Users/Joaqu%C3%ADn%20Amat/Documents/GitHub/skforecast/dev/ForecasterLastEquivalentDate.ipynb#X31sZmlsZQ%3D%3D?line=3'>4</a>\u001b[0m         date \u001b[39m-\u001b[39;49m offset \u001b[39m*\u001b[39;49m n\n\u001b[0;32m      <a href='vscode-notebook-cell:/c%3A/Users/Joaqu%C3%ADn%20Amat/Documents/GitHub/skforecast/dev/ForecasterLastEquivalentDate.ipynb#X31sZmlsZQ%3D%3D?line=4'>5</a>\u001b[0m         \u001b[39mfor\u001b[39;00m n\n\u001b[0;32m      <a href='vscode-notebook-cell:/c%3A/Users/Joaqu%C3%ADn%20Amat/Documents/GitHub/skforecast/dev/ForecasterLastEquivalentDate.ipynb#X31sZmlsZQ%3D%3D?line=5'>6</a>\u001b[0m         \u001b[39min\u001b[39;00m np\u001b[39m.\u001b[39marange(n_equivalent_dates)\n\u001b[0;32m      <a href='vscode-notebook-cell:/c%3A/Users/Joaqu%C3%ADn%20Amat/Documents/GitHub/skforecast/dev/ForecasterLastEquivalentDate.ipynb#X31sZmlsZQ%3D%3D?line=6'>7</a>\u001b[0m     ]\n\u001b[0;32m      <a href='vscode-notebook-cell:/c%3A/Users/Joaqu%C3%ADn%20Amat/Documents/GitHub/skforecast/dev/ForecasterLastEquivalentDate.ipynb#X31sZmlsZQ%3D%3D?line=7'>8</a>\u001b[0m     \u001b[39mfor\u001b[39;00m date\n\u001b[0;32m      <a href='vscode-notebook-cell:/c%3A/Users/Joaqu%C3%ADn%20Amat/Documents/GitHub/skforecast/dev/ForecasterLastEquivalentDate.ipynb#X31sZmlsZQ%3D%3D?line=8'>9</a>\u001b[0m     \u001b[39min\u001b[39;00m equivalent_dates\n\u001b[0;32m     <a href='vscode-notebook-cell:/c%3A/Users/Joaqu%C3%ADn%20Amat/Documents/GitHub/skforecast/dev/ForecasterLastEquivalentDate.ipynb#X31sZmlsZQ%3D%3D?line=9'>10</a>\u001b[0m ]\n\u001b[0;32m     <a href='vscode-notebook-cell:/c%3A/Users/Joaqu%C3%ADn%20Amat/Documents/GitHub/skforecast/dev/ForecasterLastEquivalentDate.ipynb#X31sZmlsZQ%3D%3D?line=11'>12</a>\u001b[0m equivalent_dates\n",
      "\u001b[1;31mTypeError\u001b[0m: unsupported operand type(s) for -: 'list' and 'pandas._libs.tslibs.offsets.Day'"
     ]
    }
   ],
   "source": [
    "#substract off set element whise\n",
    "[\n",
    "    [\n",
    "        date - offset * n\n",
    "        for n\n",
    "        in np.arange(n_equivalent_dates)\n",
    "    ]\n",
    "    for date\n",
    "    in equivalent_dates\n",
    "]"
   ]
  },
  {
   "cell_type": "code",
   "execution_count": 147,
   "metadata": {},
   "outputs": [
    {
     "data": {
      "text/plain": [
       "365"
      ]
     },
     "execution_count": 147,
     "metadata": {},
     "output_type": "execute_result"
    }
   ],
   "source": [
    "np.arange(steps)[:len(last_window)]"
   ]
  }
 ],
 "metadata": {
  "kernelspec": {
   "display_name": "skforecast_py10",
   "language": "python",
   "name": "python3"
  },
  "language_info": {
   "codemirror_mode": {
    "name": "ipython",
    "version": 3
   },
   "file_extension": ".py",
   "mimetype": "text/x-python",
   "name": "python",
   "nbconvert_exporter": "python",
   "pygments_lexer": "ipython3",
   "version": "3.11.4"
  },
  "orig_nbformat": 4,
  "vscode": {
   "interpreter": {
    "hash": "c78d62c1713fdacd99ef7c429003c7324b36fbb551fb8b6860a7ea73e9338235"
   }
  }
 },
 "nbformat": 4,
 "nbformat_minor": 2
}
