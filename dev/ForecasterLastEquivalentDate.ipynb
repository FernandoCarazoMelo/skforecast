{
 "cells": [
  {
   "cell_type": "code",
   "execution_count": 1,
   "metadata": {},
   "outputs": [
    {
     "data": {
      "text/plain": [
       "'c:\\\\Users\\\\jaesc2\\\\GitHub\\\\skforecast'"
      ]
     },
     "execution_count": 1,
     "metadata": {},
     "output_type": "execute_result"
    }
   ],
   "source": [
    "%load_ext autoreload\n",
    "%autoreload 2\n",
    "import sys\n",
    "from pathlib import Path\n",
    "sys.path.insert(1, str(Path.cwd().parent))\n",
    "str(Path.cwd().parent)"
   ]
  },
  {
   "cell_type": "code",
   "execution_count": 2,
   "metadata": {},
   "outputs": [
    {
     "name": "stdout",
     "output_type": "stream",
     "text": [
      "0.11.0\n"
     ]
    }
   ],
   "source": [
    "from skforecast.ForecasterBaseline import ForecasterEquivalentDate\n",
    "from skforecast.model_selection import backtesting_forecaster\n",
    "import numpy as np\n",
    "import pandas as pd\n",
    "from pandas.tseries.offsets import DateOffset\n",
    "from pandas.tseries import offsets\n",
    "from skforecast import __version__\n",
    "print(__version__)\n"
   ]
  },
  {
   "cell_type": "code",
   "execution_count": 3,
   "metadata": {},
   "outputs": [
    {
     "data": {
      "text/plain": [
       "2000-01-01      0\n",
       "2000-01-02      1\n",
       "2000-01-03      2\n",
       "2000-01-04      3\n",
       "2000-01-05      4\n",
       "             ... \n",
       "2000-12-26    360\n",
       "2000-12-27    361\n",
       "2000-12-28    362\n",
       "2000-12-29    363\n",
       "2000-12-30    364\n",
       "Freq: D, Length: 365, dtype: int32"
      ]
     },
     "execution_count": 3,
     "metadata": {},
     "output_type": "execute_result"
    }
   ],
   "source": [
    "# simulate a time series\n",
    "n = 365\n",
    "y = pd.Series(\n",
    "    data=np.arange(n),\n",
    "    index = pd.date_range(start='2000-01-01', periods=n, freq='d')\n",
    ")\n",
    "y"
   ]
  },
  {
   "cell_type": "code",
   "execution_count": 4,
   "metadata": {},
   "outputs": [
    {
     "data": {
      "text/plain": [
       "======================== \n",
       "ForecasterEquivalentDate \n",
       "======================== \n",
       "Offset: 10 \n",
       "Number of offsets: 2 \n",
       "Aggregation function: mean \n",
       "Window size: 20 \n",
       "Training range: [Timestamp('2000-01-01 00:00:00'), Timestamp('2000-12-30 00:00:00')] \n",
       "Training index type: DatetimeIndex \n",
       "Training index frequency: D \n",
       "Creation date: 2023-11-15 09:20:32 \n",
       "Last fit date: 2023-11-15 09:20:32 \n",
       "Skforecast version: 0.11.0 \n",
       "Python version: 3.10.11 \n",
       "Forecaster id: None "
      ]
     },
     "execution_count": 4,
     "metadata": {},
     "output_type": "execute_result"
    }
   ],
   "source": [
    "forecaster = ForecasterEquivalentDate(offset=10, n_offsets=2)\n",
    "forecaster.fit(y=y)\n",
    "forecaster"
   ]
  },
  {
   "cell_type": "code",
   "execution_count": 5,
   "metadata": {},
   "outputs": [
    {
     "data": {
      "text/plain": [
       "2000-12-31    350.0\n",
       "2001-01-01    351.0\n",
       "2001-01-02    352.0\n",
       "2001-01-03    353.0\n",
       "2001-01-04    354.0\n",
       "2001-01-05    355.0\n",
       "2001-01-06    356.0\n",
       "2001-01-07    357.0\n",
       "2001-01-08    358.0\n",
       "2001-01-09    359.0\n",
       "2001-01-10    350.0\n",
       "2001-01-11    351.0\n",
       "2001-01-12    352.0\n",
       "2001-01-13    353.0\n",
       "2001-01-14    354.0\n",
       "Freq: D, Name: pred, dtype: float64"
      ]
     },
     "execution_count": 5,
     "metadata": {},
     "output_type": "execute_result"
    }
   ],
   "source": [
    "forecaster.predict(steps=15)"
   ]
  },
  {
   "cell_type": "code",
   "execution_count": 6,
   "metadata": {},
   "outputs": [
    {
     "data": {
      "application/vnd.jupyter.widget-view+json": {
       "model_id": "54519a45ae6f47b99bc307f380ef0a79",
       "version_major": 2,
       "version_minor": 0
      },
      "text/plain": [
       "  0%|          | 0/23 [00:00<?, ?it/s]"
      ]
     },
     "metadata": {},
     "output_type": "display_data"
    }
   ],
   "source": [
    "metric, predictions_1 = backtesting_forecaster(\n",
    "    forecaster=forecaster,\n",
    "    y=y,\n",
    "    initial_train_size=20,\n",
    "    steps=15,\n",
    "    metric='mean_absolute_error',\n",
    "    verbose=False\n",
    ")"
   ]
  },
  {
   "cell_type": "code",
   "execution_count": 7,
   "metadata": {},
   "outputs": [
    {
     "ename": "TypeError",
     "evalue": "object of type 'Timedelta' has no len()",
     "output_type": "error",
     "traceback": [
      "\u001b[1;31m---------------------------------------------------------------------------\u001b[0m",
      "\u001b[1;31mTypeError\u001b[0m                                 Traceback (most recent call last)",
      "\u001b[1;32mc:\\Users\\jaesc2\\GitHub\\skforecast\\dev\\ForecasterLastEquivalentDate.ipynb Cell 7\u001b[0m line \u001b[0;36m5\n\u001b[0;32m      <a href='vscode-notebook-cell:/c%3A/Users/jaesc2/GitHub/skforecast/dev/ForecasterLastEquivalentDate.ipynb#W6sZmlsZQ%3D%3D?line=0'>1</a>\u001b[0m forecaster \u001b[39m=\u001b[39m ForecasterEquivalentDate(\n\u001b[0;32m      <a href='vscode-notebook-cell:/c%3A/Users/jaesc2/GitHub/skforecast/dev/ForecasterLastEquivalentDate.ipynb#W6sZmlsZQ%3D%3D?line=1'>2</a>\u001b[0m     offset\u001b[39m=\u001b[39moffsets\u001b[39m.\u001b[39mDay(\u001b[39m10\u001b[39m),\n\u001b[0;32m      <a href='vscode-notebook-cell:/c%3A/Users/jaesc2/GitHub/skforecast/dev/ForecasterLastEquivalentDate.ipynb#W6sZmlsZQ%3D%3D?line=2'>3</a>\u001b[0m     n_offsets\u001b[39m=\u001b[39m\u001b[39m2\u001b[39m\n\u001b[0;32m      <a href='vscode-notebook-cell:/c%3A/Users/jaesc2/GitHub/skforecast/dev/ForecasterLastEquivalentDate.ipynb#W6sZmlsZQ%3D%3D?line=3'>4</a>\u001b[0m )\n\u001b[1;32m----> <a href='vscode-notebook-cell:/c%3A/Users/jaesc2/GitHub/skforecast/dev/ForecasterLastEquivalentDate.ipynb#W6sZmlsZQ%3D%3D?line=4'>5</a>\u001b[0m forecaster\u001b[39m.\u001b[39;49mfit(y\u001b[39m=\u001b[39;49my)\n\u001b[0;32m      <a href='vscode-notebook-cell:/c%3A/Users/jaesc2/GitHub/skforecast/dev/ForecasterLastEquivalentDate.ipynb#W6sZmlsZQ%3D%3D?line=5'>6</a>\u001b[0m forecaster\n",
      "File \u001b[1;32mc:\\Users\\jaesc2\\GitHub\\skforecast\\skforecast\\ForecasterBaseline\\ForecasterEquivalentDate.py:242\u001b[0m, in \u001b[0;36mForecasterEquivalentDate.fit\u001b[1;34m(self, y, exog, store_in_sample_residuals)\u001b[0m\n\u001b[0;32m    236\u001b[0m \u001b[39mif\u001b[39;00m \u001b[39misinstance\u001b[39m(\u001b[39mself\u001b[39m\u001b[39m.\u001b[39moffset, pd\u001b[39m.\u001b[39mtseries\u001b[39m.\u001b[39moffsets\u001b[39m.\u001b[39mDateOffset):\n\u001b[0;32m    237\u001b[0m     \u001b[39m# Calculate the window_size in steps for compatibility with the\u001b[39;00m\n\u001b[0;32m    238\u001b[0m     \u001b[39m# check_predict_input function. This is not a exact calculation\u001b[39;00m\n\u001b[0;32m    239\u001b[0m     \u001b[39m# because the offset follows the calendar rules and the distance\u001b[39;00m\n\u001b[0;32m    240\u001b[0m     \u001b[39m# between two dates may not be constant.\u001b[39;00m\n\u001b[0;32m    241\u001b[0m     first_valid_index \u001b[39m=\u001b[39m (y_index[\u001b[39m-\u001b[39m\u001b[39m1\u001b[39m] \u001b[39m-\u001b[39m \u001b[39mself\u001b[39m\u001b[39m.\u001b[39moffset \u001b[39m*\u001b[39m \u001b[39mself\u001b[39m\u001b[39m.\u001b[39mn_offsets)\n\u001b[1;32m--> 242\u001b[0m     \u001b[39mself\u001b[39m\u001b[39m.\u001b[39mwindow_size \u001b[39m=\u001b[39m \u001b[39mlen\u001b[39;49m((y_index[\u001b[39m-\u001b[39;49m\u001b[39m1\u001b[39;49m] \u001b[39m-\u001b[39;49m first_valid_index))\n\u001b[0;32m    244\u001b[0m \u001b[39mif\u001b[39;00m \u001b[39mlen\u001b[39m(y) \u001b[39m<\u001b[39m \u001b[39mself\u001b[39m\u001b[39m.\u001b[39mwindow_size:\n\u001b[0;32m    245\u001b[0m     \u001b[39mraise\u001b[39;00m \u001b[39mValueError\u001b[39;00m(\n\u001b[0;32m    246\u001b[0m         (\u001b[39mf\u001b[39m\u001b[39m\"\u001b[39m\u001b[39mThe length of `y` (\u001b[39m\u001b[39m{\u001b[39;00m\u001b[39mlen\u001b[39m(y)\u001b[39m}\u001b[39;00m\u001b[39m), must be greater than or equal to \u001b[39m\u001b[39m\"\u001b[39m\n\u001b[0;32m    247\u001b[0m          \u001b[39mf\u001b[39m\u001b[39m\"\u001b[39m\u001b[39mthe window size (\u001b[39m\u001b[39m{\u001b[39;00m\u001b[39mself\u001b[39m\u001b[39m.\u001b[39mwindow_size\u001b[39m}\u001b[39;00m\u001b[39m). Try decreasing the offset \u001b[39m\u001b[39m\"\u001b[39m\n\u001b[0;32m    248\u001b[0m          \u001b[39mf\u001b[39m\u001b[39m\"\u001b[39m\u001b[39mor the number of offsets.\u001b[39m\u001b[39m\"\u001b[39m)\n\u001b[0;32m    249\u001b[0m     )\n",
      "\u001b[1;31mTypeError\u001b[0m: object of type 'Timedelta' has no len()"
     ]
    }
   ],
   "source": [
    "forecaster = ForecasterEquivalentDate(\n",
    "    offset=offsets.Day(10),\n",
    "    n_offsets=2\n",
    ")\n",
    "forecaster.fit(y=y)\n",
    "forecaster"
   ]
  },
  {
   "cell_type": "code",
   "execution_count": null,
   "metadata": {},
   "outputs": [
    {
     "data": {
      "text/plain": [
       "2000-12-31    350.0\n",
       "2001-01-01    351.0\n",
       "2001-01-02    352.0\n",
       "2001-01-03    353.0\n",
       "2001-01-04    354.0\n",
       "2001-01-05    355.0\n",
       "2001-01-06    356.0\n",
       "2001-01-07    357.0\n",
       "2001-01-08    358.0\n",
       "2001-01-09    359.0\n",
       "2001-01-10    350.0\n",
       "2001-01-11    351.0\n",
       "2001-01-12    352.0\n",
       "2001-01-13    353.0\n",
       "2001-01-14    354.0\n",
       "Freq: D, Name: pred, dtype: float64"
      ]
     },
     "execution_count": 32,
     "metadata": {},
     "output_type": "execute_result"
    }
   ],
   "source": [
    "forecaster.predict(steps=15)"
   ]
  },
  {
   "cell_type": "code",
   "execution_count": null,
   "metadata": {},
   "outputs": [
    {
     "data": {
      "application/vnd.jupyter.widget-view+json": {
       "model_id": "c29f65a29d8c474eb2a58879c126f8ad",
       "version_major": 2,
       "version_minor": 0
      },
      "text/plain": [
       "  0%|          | 0/4 [00:00<?, ?it/s]"
      ]
     },
     "metadata": {},
     "output_type": "display_data"
    },
    {
     "data": {
      "text/html": [
       "<div>\n",
       "<style scoped>\n",
       "    .dataframe tbody tr th:only-of-type {\n",
       "        vertical-align: middle;\n",
       "    }\n",
       "\n",
       "    .dataframe tbody tr th {\n",
       "        vertical-align: top;\n",
       "    }\n",
       "\n",
       "    .dataframe thead th {\n",
       "        text-align: right;\n",
       "    }\n",
       "</style>\n",
       "<table border=\"1\" class=\"dataframe\">\n",
       "  <thead>\n",
       "    <tr style=\"text-align: right;\">\n",
       "      <th></th>\n",
       "      <th>pred</th>\n",
       "    </tr>\n",
       "  </thead>\n",
       "  <tbody>\n",
       "    <tr>\n",
       "      <th>2000-01-31</th>\n",
       "      <td>0.488789</td>\n",
       "    </tr>\n",
       "    <tr>\n",
       "      <th>2000-02-01</th>\n",
       "      <td>0.789241</td>\n",
       "    </tr>\n",
       "    <tr>\n",
       "      <th>2000-02-02</th>\n",
       "      <td>0.581514</td>\n",
       "    </tr>\n",
       "    <tr>\n",
       "      <th>2000-02-03</th>\n",
       "      <td>0.335351</td>\n",
       "    </tr>\n",
       "    <tr>\n",
       "      <th>2000-02-04</th>\n",
       "      <td>0.560244</td>\n",
       "    </tr>\n",
       "    <tr>\n",
       "      <th>2000-02-05</th>\n",
       "      <td>0.530477</td>\n",
       "    </tr>\n",
       "    <tr>\n",
       "      <th>2000-02-06</th>\n",
       "      <td>0.272140</td>\n",
       "    </tr>\n",
       "    <tr>\n",
       "      <th>2000-02-07</th>\n",
       "      <td>0.201857</td>\n",
       "    </tr>\n",
       "    <tr>\n",
       "      <th>2000-02-08</th>\n",
       "      <td>0.412633</td>\n",
       "    </tr>\n",
       "    <tr>\n",
       "      <th>2000-02-09</th>\n",
       "      <td>0.581402</td>\n",
       "    </tr>\n",
       "    <tr>\n",
       "      <th>2000-02-10</th>\n",
       "      <td>0.363253</td>\n",
       "    </tr>\n",
       "    <tr>\n",
       "      <th>2000-02-11</th>\n",
       "      <td>0.641566</td>\n",
       "    </tr>\n",
       "    <tr>\n",
       "      <th>2000-02-12</th>\n",
       "      <td>0.577659</td>\n",
       "    </tr>\n",
       "    <tr>\n",
       "      <th>2000-02-13</th>\n",
       "      <td>0.552354</td>\n",
       "    </tr>\n",
       "    <tr>\n",
       "      <th>2000-02-14</th>\n",
       "      <td>0.574137</td>\n",
       "    </tr>\n",
       "    <tr>\n",
       "      <th>2000-02-15</th>\n",
       "      <td>0.317610</td>\n",
       "    </tr>\n",
       "    <tr>\n",
       "      <th>2000-02-16</th>\n",
       "      <td>0.394070</td>\n",
       "    </tr>\n",
       "    <tr>\n",
       "      <th>2000-02-17</th>\n",
       "      <td>0.560826</td>\n",
       "    </tr>\n",
       "    <tr>\n",
       "      <th>2000-02-18</th>\n",
       "      <td>0.618937</td>\n",
       "    </tr>\n",
       "    <tr>\n",
       "      <th>2000-02-19</th>\n",
       "      <td>0.566406</td>\n",
       "    </tr>\n",
       "  </tbody>\n",
       "</table>\n",
       "</div>"
      ],
      "text/plain": [
       "                pred\n",
       "2000-01-31  0.488789\n",
       "2000-02-01  0.789241\n",
       "2000-02-02  0.581514\n",
       "2000-02-03  0.335351\n",
       "2000-02-04  0.560244\n",
       "2000-02-05  0.530477\n",
       "2000-02-06  0.272140\n",
       "2000-02-07  0.201857\n",
       "2000-02-08  0.412633\n",
       "2000-02-09  0.581402\n",
       "2000-02-10  0.363253\n",
       "2000-02-11  0.641566\n",
       "2000-02-12  0.577659\n",
       "2000-02-13  0.552354\n",
       "2000-02-14  0.574137\n",
       "2000-02-15  0.317610\n",
       "2000-02-16  0.394070\n",
       "2000-02-17  0.560826\n",
       "2000-02-18  0.618937\n",
       "2000-02-19  0.566406"
      ]
     },
     "execution_count": 150,
     "metadata": {},
     "output_type": "execute_result"
    }
   ],
   "source": [
    "from skforecast.ForecasterBaseline.tests.fixtures_ForecasterEquivalentDate import y\n",
    "\n",
    "forecaster = ForecasterEquivalentDate(\n",
    "    offset = offsets.Day(10),\n",
    "    n_offsets=2\n",
    ")\n",
    "\n",
    "metric, predictions_2 = backtesting_forecaster(\n",
    "    forecaster=forecaster,\n",
    "    y=y,\n",
    "    initial_train_size=30,\n",
    "    steps=5,\n",
    "    metric='mean_absolute_error',\n",
    "    refit=True,\n",
    "    verbose=False,\n",
    "    n_jobs='auto'\n",
    ")\n",
    "predictions_2"
   ]
  },
  {
   "cell_type": "code",
   "execution_count": null,
   "metadata": {},
   "outputs": [
    {
     "data": {
      "text/plain": [
       "0.2537094475"
      ]
     },
     "execution_count": 153,
     "metadata": {},
     "output_type": "execute_result"
    }
   ],
   "source": [
    "metric"
   ]
  },
  {
   "cell_type": "code",
   "execution_count": null,
   "metadata": {},
   "outputs": [
    {
     "data": {
      "text/plain": [
       "array([0.48878949, 0.78924075, 0.58151378, 0.3353507 , 0.56024382,\n",
       "       0.53047716, 0.27214019, 0.20185749, 0.41263271, 0.58140185,\n",
       "       0.36325295, 0.64156648, 0.57765904, 0.5523543 , 0.57413684,\n",
       "       0.31761006, 0.39406999, 0.56082619, 0.61893703, 0.5664064 ])"
      ]
     },
     "execution_count": 152,
     "metadata": {},
     "output_type": "execute_result"
    }
   ],
   "source": [
    "predictions_2.to_numpy().ravel()"
   ]
  },
  {
   "cell_type": "code",
   "execution_count": null,
   "metadata": {},
   "outputs": [],
   "source": [
    "pd.testing.assert_frame_equal(predictions_1, predictions_2)"
   ]
  },
  {
   "cell_type": "code",
   "execution_count": null,
   "metadata": {},
   "outputs": [
    {
     "data": {
      "text/plain": [
       "array([345, 346, 347, 348, 349, 350, 351, 352, 353, 354, 355, 356, 357,\n",
       "       358, 359, 360, 361, 362, 363, 364])"
      ]
     },
     "execution_count": 34,
     "metadata": {},
     "output_type": "execute_result"
    }
   ],
   "source": [
    "last_window_values = y.iloc[-20:].to_numpy()\n",
    "last_window_values"
   ]
  },
  {
   "cell_type": "code",
   "execution_count": null,
   "metadata": {},
   "outputs": [
    {
     "data": {
      "text/plain": [
       "array([-7, -6, -5, -4, -3, -2, -1])"
      ]
     },
     "execution_count": 35,
     "metadata": {},
     "output_type": "execute_result"
    }
   ],
   "source": [
    "offset = 7\n",
    "n_offsets = 1\n",
    "steps = 5\n",
    "\n",
    "equivalent_indexes = np.tile(\n",
    "                        np.arange(-offset, 0),\n",
    "                        int(np.ceil(steps/offset))\n",
    "                    )\n",
    "\n",
    "equivalent_indexes"
   ]
  },
  {
   "cell_type": "code",
   "execution_count": null,
   "metadata": {},
   "outputs": [
    {
     "name": "stdout",
     "output_type": "stream",
     "text": [
      "[-7 -6 -5 -4 -3]\n",
      "[358 359 360 361 362]\n"
     ]
    },
    {
     "data": {
      "text/plain": [
       "array([358, 359, 360, 361, 362])"
      ]
     },
     "execution_count": 36,
     "metadata": {},
     "output_type": "execute_result"
    }
   ],
   "source": [
    "# When n_offsets == 1\n",
    "equivalent_indexes = equivalent_indexes[:steps]\n",
    "print(equivalent_indexes)\n",
    "equivalent_values = last_window_values[equivalent_indexes]\n",
    "print(equivalent_values)\n",
    "equivalent_values.ravel()"
   ]
  },
  {
   "cell_type": "code",
   "execution_count": null,
   "metadata": {},
   "outputs": [
    {
     "data": {
      "text/plain": [
       "array([-7, -6, -5, -4, -3, -2, -1])"
      ]
     },
     "execution_count": 37,
     "metadata": {},
     "output_type": "execute_result"
    }
   ],
   "source": [
    "offset = 7\n",
    "n_offsets = 2\n",
    "steps = 5\n",
    "\n",
    "equivalent_indexes = np.tile(\n",
    "                        np.arange(-offset, 0),\n",
    "                        int(np.ceil(steps/offset))\n",
    "                    )\n",
    "\n",
    "equivalent_indexes"
   ]
  },
  {
   "cell_type": "code",
   "execution_count": null,
   "metadata": {},
   "outputs": [
    {
     "name": "stdout",
     "output_type": "stream",
     "text": [
      "[array([-7, -6, -5, -4, -3, -2, -1]), array([-14, -13, -12, -11, -10,  -9,  -8])]\n",
      "[[ -7  -6  -5  -4  -3  -2  -1]\n",
      " [-14 -13 -12 -11 -10  -9  -8]]\n",
      "[[358 359 360 361 362 363 364]\n",
      " [351 352 353 354 355 356 357]]\n",
      "[354.5 355.5 356.5 357.5 358.5 359.5 360.5]\n"
     ]
    }
   ],
   "source": [
    "# When n_offsets > 1\n",
    "equivalent_indexes = [equivalent_indexes - n * offset \n",
    "                      for n in np.arange(n_offsets)]\n",
    "print(equivalent_indexes)\n",
    "equivalent_indexes = np.vstack(equivalent_indexes)\n",
    "print(equivalent_indexes)\n",
    "equivalent_values = last_window_values[equivalent_indexes]\n",
    "print(equivalent_values)\n",
    "predictions = np.apply_along_axis(\n",
    "                np.mean,\n",
    "                axis = 0,\n",
    "                arr  = equivalent_values\n",
    "            )\n",
    "print(predictions)"
   ]
  },
  {
   "cell_type": "code",
   "execution_count": null,
   "metadata": {},
   "outputs": [
    {
     "data": {
      "text/plain": [
       "array([345, 346, 347, 348, 349, 350, 351, 352, 353, 354, 355, 356, 357,\n",
       "       358, 359, 360, 361, 362, 363, 364])"
      ]
     },
     "execution_count": 39,
     "metadata": {},
     "output_type": "execute_result"
    }
   ],
   "source": [
    "last_window_values"
   ]
  },
  {
   "cell_type": "code",
   "execution_count": null,
   "metadata": {},
   "outputs": [
    {
     "data": {
      "text/plain": [
       "DatetimeIndex(['2000-12-11', '2000-12-12', '2000-12-13', '2000-12-14',\n",
       "               '2000-12-15', '2000-12-16', '2000-12-17', '2000-12-18',\n",
       "               '2000-12-19', '2000-12-20', '2000-12-21', '2000-12-22',\n",
       "               '2000-12-23', '2000-12-24', '2000-12-25', '2000-12-26',\n",
       "               '2000-12-27', '2000-12-28', '2000-12-29', '2000-12-30'],\n",
       "              dtype='datetime64[ns]', freq='D')"
      ]
     },
     "execution_count": 40,
     "metadata": {},
     "output_type": "execute_result"
    }
   ],
   "source": [
    "y.index[-20:]"
   ]
  },
  {
   "cell_type": "code",
   "execution_count": null,
   "metadata": {},
   "outputs": [],
   "source": [
    "offset = pd.offsets.Day(5)\n",
    "n_offsets = 2\n",
    "steps = 5"
   ]
  },
  {
   "cell_type": "code",
   "execution_count": null,
   "metadata": {},
   "outputs": [
    {
     "data": {
      "text/plain": [
       "array([  0,   1,   2,   3,   4,   5,   6,   7,   8,   9,  10,  11,  12,\n",
       "        13,  14,  15,  16,  17,  18,  19,  20,  21,  22,  23,  24,  25,\n",
       "        26,  27,  28,  29,  30,  31,  32,  33,  34,  35,  36,  37,  38,\n",
       "        39,  40,  41,  42,  43,  44,  45,  46,  47,  48,  49,  50,  51,\n",
       "        52,  53,  54,  55,  56,  57,  58,  59,  60,  61,  62,  63,  64,\n",
       "        65,  66,  67,  68,  69,  70,  71,  72,  73,  74,  75,  76,  77,\n",
       "        78,  79,  80,  81,  82,  83,  84,  85,  86,  87,  88,  89,  90,\n",
       "        91,  92,  93,  94,  95,  96,  97,  98,  99, 100, 101, 102, 103,\n",
       "       104, 105, 106, 107, 108, 109, 110, 111, 112, 113, 114, 115, 116,\n",
       "       117, 118, 119, 120, 121, 122, 123, 124, 125, 126, 127, 128, 129,\n",
       "       130, 131, 132, 133, 134, 135, 136, 137, 138, 139, 140, 141, 142,\n",
       "       143, 144, 145, 146, 147, 148, 149, 150, 151, 152, 153, 154, 155,\n",
       "       156, 157, 158, 159, 160, 161, 162, 163, 164, 165, 166, 167, 168,\n",
       "       169, 170, 171, 172, 173, 174, 175, 176, 177, 178, 179, 180, 181,\n",
       "       182, 183, 184, 185, 186, 187, 188, 189, 190, 191, 192, 193, 194,\n",
       "       195, 196, 197, 198, 199, 200, 201, 202, 203, 204, 205, 206, 207,\n",
       "       208, 209, 210, 211, 212, 213, 214, 215, 216, 217, 218, 219, 220,\n",
       "       221, 222, 223, 224, 225, 226, 227, 228, 229, 230, 231, 232, 233,\n",
       "       234, 235, 236, 237, 238, 239, 240, 241, 242, 243, 244, 245, 246,\n",
       "       247, 248, 249, 250, 251, 252, 253, 254, 255, 256, 257, 258, 259,\n",
       "       260, 261, 262, 263, 264, 265, 266, 267, 268, 269, 270, 271, 272,\n",
       "       273, 274, 275, 276, 277, 278, 279, 280, 281, 282, 283, 284, 285,\n",
       "       286, 287, 288, 289, 290, 291, 292, 293, 294, 295, 296, 297, 298,\n",
       "       299, 300, 301, 302, 303, 304, 305, 306, 307, 308, 309, 310, 311,\n",
       "       312, 313, 314, 315, 316, 317, 318, 319, 320, 321, 322, 323, 324,\n",
       "       325, 326, 327, 328, 329, 330, 331, 332, 333, 334, 335, 336, 337,\n",
       "       338, 339, 340, 341, 342, 343, 344, 345, 346, 347, 348, 349, 350,\n",
       "       351, 352, 353, 354, 355, 356, 357, 358, 359, 360, 361, 362, 363,\n",
       "       364])"
      ]
     },
     "execution_count": 70,
     "metadata": {},
     "output_type": "execute_result"
    }
   ],
   "source": [
    "last_window_values = y.to_numpy()\n",
    "last_window_values"
   ]
  },
  {
   "cell_type": "code",
   "execution_count": null,
   "metadata": {},
   "outputs": [
    {
     "name": "stdout",
     "output_type": "stream",
     "text": [
      "DatetimeIndex(['2000-12-31', '2001-01-01', '2001-01-02', '2001-01-03',\n",
      "               '2001-01-04'],\n",
      "              dtype='datetime64[ns]', freq='D')\n",
      "2000-12-30 00:00:00\n"
     ]
    }
   ],
   "source": [
    "from skforecast.utils import expand_index\n",
    "\n",
    "predictions_index = expand_index(index=y.index, steps=steps)\n",
    "print(predictions_index)\n",
    "max_allowed_date = y.index[-1]\n",
    "print(max_allowed_date)"
   ]
  },
  {
   "cell_type": "code",
   "execution_count": null,
   "metadata": {},
   "outputs": [
    {
     "name": "stdout",
     "output_type": "stream",
     "text": [
      "[[Timestamp('2000-12-26 00:00:00') Timestamp('2000-12-21 00:00:00')]\n",
      " [Timestamp('2000-12-27 00:00:00') Timestamp('2000-12-22 00:00:00')]\n",
      " [Timestamp('2000-12-28 00:00:00') Timestamp('2000-12-23 00:00:00')]\n",
      " [Timestamp('2000-12-29 00:00:00') Timestamp('2000-12-24 00:00:00')]\n",
      " [Timestamp('2000-12-30 00:00:00') Timestamp('2000-12-25 00:00:00')]]\n"
     ]
    }
   ],
   "source": [
    "offset_dates = []\n",
    "for date in predictions_index:\n",
    "    selected_offsets = []\n",
    "    while len(selected_offsets) < n_offsets:\n",
    "        offset_date = date - offset\n",
    "        if offset_date <= max_allowed_date:\n",
    "            selected_offsets.append(offset_date)\n",
    "        date = offset_date\n",
    "    offset_dates.append(selected_offsets)\n",
    "\n",
    "offset_dates = np.array(offset_dates)\n",
    "print(offset_dates)"
   ]
  },
  {
   "cell_type": "code",
   "execution_count": null,
   "metadata": {},
   "outputs": [
    {
     "data": {
      "text/plain": [
       "array([Timestamp('2000-12-26 00:00:00'), Timestamp('2000-12-21 00:00:00'),\n",
       "       Timestamp('2000-12-27 00:00:00'), Timestamp('2000-12-22 00:00:00'),\n",
       "       Timestamp('2000-12-28 00:00:00'), Timestamp('2000-12-23 00:00:00'),\n",
       "       Timestamp('2000-12-29 00:00:00'), Timestamp('2000-12-24 00:00:00'),\n",
       "       Timestamp('2000-12-30 00:00:00'), Timestamp('2000-12-25 00:00:00')],\n",
       "      dtype=object)"
      ]
     },
     "execution_count": 73,
     "metadata": {},
     "output_type": "execute_result"
    }
   ],
   "source": [
    "offset_dates.ravel()"
   ]
  },
  {
   "cell_type": "code",
   "execution_count": null,
   "metadata": {},
   "outputs": [
    {
     "data": {
      "text/plain": [
       "2000-12-26    360\n",
       "2000-12-21    355\n",
       "2000-12-27    361\n",
       "2000-12-22    356\n",
       "2000-12-28    362\n",
       "2000-12-23    357\n",
       "2000-12-29    363\n",
       "2000-12-24    358\n",
       "2000-12-30    364\n",
       "2000-12-25    359\n",
       "dtype: int32"
      ]
     },
     "execution_count": 76,
     "metadata": {},
     "output_type": "execute_result"
    }
   ],
   "source": [
    "equivalent_values = (\n",
    "    y.\n",
    "    reindex(offset_dates.ravel()))\n",
    "equivalent_values"
   ]
  },
  {
   "cell_type": "code",
   "execution_count": null,
   "metadata": {},
   "outputs": [
    {
     "data": {
      "text/plain": [
       "array([[360, 355],\n",
       "       [361, 356],\n",
       "       [362, 357],\n",
       "       [363, 358],\n",
       "       [364, 359]])"
      ]
     },
     "execution_count": 77,
     "metadata": {},
     "output_type": "execute_result"
    }
   ],
   "source": [
    "equivalent_values = (\n",
    "    y.\n",
    "    reindex(offset_dates.ravel())\n",
    "    .to_numpy()\n",
    "    .reshape(-1, n_offsets)\n",
    ")\n",
    "equivalent_values"
   ]
  },
  {
   "cell_type": "code",
   "execution_count": null,
   "metadata": {},
   "outputs": [
    {
     "data": {
      "text/html": [
       "<div>\n",
       "<style scoped>\n",
       "    .dataframe tbody tr th:only-of-type {\n",
       "        vertical-align: middle;\n",
       "    }\n",
       "\n",
       "    .dataframe tbody tr th {\n",
       "        vertical-align: top;\n",
       "    }\n",
       "\n",
       "    .dataframe thead th {\n",
       "        text-align: right;\n",
       "    }\n",
       "</style>\n",
       "<table border=\"1\" class=\"dataframe\">\n",
       "  <thead>\n",
       "    <tr style=\"text-align: right;\">\n",
       "      <th></th>\n",
       "      <th>offset_0</th>\n",
       "      <th>offset_1</th>\n",
       "    </tr>\n",
       "  </thead>\n",
       "  <tbody>\n",
       "    <tr>\n",
       "      <th>2000-12-31</th>\n",
       "      <td>360</td>\n",
       "      <td>355</td>\n",
       "    </tr>\n",
       "    <tr>\n",
       "      <th>2001-01-01</th>\n",
       "      <td>361</td>\n",
       "      <td>356</td>\n",
       "    </tr>\n",
       "    <tr>\n",
       "      <th>2001-01-02</th>\n",
       "      <td>362</td>\n",
       "      <td>357</td>\n",
       "    </tr>\n",
       "    <tr>\n",
       "      <th>2001-01-03</th>\n",
       "      <td>363</td>\n",
       "      <td>358</td>\n",
       "    </tr>\n",
       "    <tr>\n",
       "      <th>2001-01-04</th>\n",
       "      <td>364</td>\n",
       "      <td>359</td>\n",
       "    </tr>\n",
       "  </tbody>\n",
       "</table>\n",
       "</div>"
      ],
      "text/plain": [
       "            offset_0  offset_1\n",
       "2000-12-31       360       355\n",
       "2001-01-01       361       356\n",
       "2001-01-02       362       357\n",
       "2001-01-03       363       358\n",
       "2001-01-04       364       359"
      ]
     },
     "execution_count": 78,
     "metadata": {},
     "output_type": "execute_result"
    }
   ],
   "source": [
    "equivalent_values = pd.DataFrame(\n",
    "                                    data    = equivalent_values,\n",
    "                                    index   = predictions_index,\n",
    "                                    columns = [f'offset_{i}' \n",
    "                                               for i in range(n_offsets)]\n",
    "                                )\n",
    "equivalent_values"
   ]
  },
  {
   "cell_type": "code",
   "execution_count": null,
   "metadata": {},
   "outputs": [
    {
     "data": {
      "text/plain": [
       "DatetimeIndex(['2000-12-31'], dtype='datetime64[ns]', freq='D')"
      ]
     },
     "execution_count": 97,
     "metadata": {},
     "output_type": "execute_result"
    }
   ],
   "source": [
    "incomplete_offsets = equivalent_values.isnull().any(axis=1)\n",
    "incomplete_offsets = incomplete_offsets[incomplete_offsets].index\n",
    "incomplete_offsets"
   ]
  },
  {
   "cell_type": "code",
   "execution_count": null,
   "metadata": {},
   "outputs": [
    {
     "data": {
      "text/plain": [
       "\"Steps: ['2000-12-31'] are calculated with less than 2 offsets. To avoid this increase `last_window` size or decrease the number of offsets. The current configuration needs a total offset of <12 * Days>.\""
      ]
     },
     "execution_count": 98,
     "metadata": {},
     "output_type": "execute_result"
    }
   ],
   "source": [
    "(f\"Steps: {incomplete_offsets.strftime('%Y-%m-%d').to_list()} \"\n",
    "f\"are calculated with less than {n_offsets} offsets. To avoid \"\n",
    "f\"this increase `last_window` size or decrease the number \"\n",
    "f\"of offsets. The current configuration needs a total offset \"\n",
    "f\"of {offset * n_offsets}.\")"
   ]
  },
  {
   "cell_type": "code",
   "execution_count": null,
   "metadata": {},
   "outputs": [
    {
     "data": {
      "text/plain": [
       "2000-12-31    359.0\n",
       "2001-01-01    357.0\n",
       "2001-01-02    358.0\n",
       "2001-01-03    359.0\n",
       "2001-01-04    360.0\n",
       "Freq: D, dtype: float64"
      ]
     },
     "execution_count": 95,
     "metadata": {},
     "output_type": "execute_result"
    }
   ],
   "source": [
    "aggregate_values = equivalent_values.apply(np.mean, axis=1)\n",
    "aggregate_values"
   ]
  },
  {
   "cell_type": "code",
   "execution_count": null,
   "metadata": {},
   "outputs": [
    {
     "data": {
      "text/plain": [
       "1999-12-31     0\n",
       "2000-01-01     1\n",
       "2000-01-02     2\n",
       "2000-01-03     3\n",
       "2000-01-04     4\n",
       "2000-01-05     5\n",
       "2000-01-06     6\n",
       "2000-01-07     7\n",
       "2000-01-08     8\n",
       "2000-01-09     9\n",
       "2000-01-10    10\n",
       "2000-01-11    11\n",
       "2000-01-12    12\n",
       "2000-01-13    13\n",
       "2000-01-14    14\n",
       "2000-01-15    15\n",
       "2000-01-16    16\n",
       "2000-01-17    17\n",
       "2000-01-18    18\n",
       "2000-01-19    19\n",
       "2000-01-20    20\n",
       "2000-01-21    21\n",
       "2000-01-22    22\n",
       "2000-01-23    23\n",
       "2000-01-24    24\n",
       "2000-01-25    25\n",
       "2000-01-26    26\n",
       "2000-01-27    27\n",
       "2000-01-28    28\n",
       "2000-01-29    29\n",
       "Freq: D, dtype: int32"
      ]
     },
     "execution_count": 93,
     "metadata": {},
     "output_type": "execute_result"
    }
   ],
   "source": [
    "y = pd.Series(np.arange(30), index=pd.date_range(start='1999-12-31', periods=30, freq='D'))\n",
    "y"
   ]
  },
  {
   "cell_type": "code",
   "execution_count": null,
   "metadata": {},
   "outputs": [
    {
     "name": "stdout",
     "output_type": "stream",
     "text": [
      "30\n"
     ]
    },
    {
     "data": {
      "text/plain": [
       "2000-01-30    0\n",
       "2000-01-31    1\n",
       "2000-02-01    2\n",
       "Freq: D, Name: pred, dtype: int32"
      ]
     },
     "execution_count": 97,
     "metadata": {},
     "output_type": "execute_result"
    }
   ],
   "source": [
    "forecaster = ForecasterEquivalentDate(\n",
    "                     offset    = 30,\n",
    "                     n_offsets = 1\n",
    "                 )\n",
    "forecaster.fit(y=y)\n",
    "print(forecaster.window_size)\n",
    "forecaster.predict(steps=3)"
   ]
  },
  {
   "cell_type": "code",
   "execution_count": null,
   "metadata": {},
   "outputs": [
    {
     "data": {
      "text/plain": [
       "2000-02-10    0\n",
       "2000-02-11    1\n",
       "2000-02-12    2\n",
       "Freq: D, dtype: int32"
      ]
     },
     "execution_count": 85,
     "metadata": {},
     "output_type": "execute_result"
    }
   ],
   "source": [
    "lw = pd.Series(np.arange(3), \n",
    "               index=pd.date_range(start='2000-02-10', periods=3, freq='D'))\n",
    "lw"
   ]
  },
  {
   "cell_type": "code",
   "execution_count": null,
   "metadata": {},
   "outputs": [
    {
     "ename": "ValueError",
     "evalue": "All equivalent values are missing. This is caused by using an offset (<MonthEnd>) larger than the data available. Try decrease the size of the offset (<MonthEnd>), the number of offsets (1) or increase the size of `last_window`. In backtesing this error may be caused by using an too small `initial_train_size`.",
     "output_type": "error",
     "traceback": [
      "\u001b[1;31m---------------------------------------------------------------------------\u001b[0m",
      "\u001b[1;31mValueError\u001b[0m                                Traceback (most recent call last)",
      "\u001b[1;32mc:\\Users\\jaesc2\\GitHub\\skforecast\\dev\\ForecasterLastEquivalentDate.ipynb Cell 32\u001b[0m line \u001b[0;36m1\n\u001b[1;32m----> <a href='vscode-notebook-cell:/c%3A/Users/jaesc2/GitHub/skforecast/dev/ForecasterLastEquivalentDate.ipynb#X53sZmlsZQ%3D%3D?line=0'>1</a>\u001b[0m forecaster\u001b[39m.\u001b[39;49mpredict(steps\u001b[39m=\u001b[39;49m\u001b[39m3\u001b[39;49m, last_window\u001b[39m=\u001b[39;49mlw)\n",
      "File \u001b[1;32mc:\\Users\\jaesc2\\GitHub\\skforecast\\skforecast\\ForecasterBaseline\\ForecasterEquivalentDate.py:380\u001b[0m, in \u001b[0;36mForecasterEquivalentDate.predict\u001b[1;34m(self, steps, last_window, exog)\u001b[0m\n\u001b[0;32m    378\u001b[0m \u001b[39m# Error if all values are missing\u001b[39;00m\n\u001b[0;32m    379\u001b[0m \u001b[39mif\u001b[39;00m equivalent_values\u001b[39m.\u001b[39misnull()\u001b[39m.\u001b[39mall()\u001b[39m.\u001b[39mall():\n\u001b[1;32m--> 380\u001b[0m     \u001b[39mraise\u001b[39;00m \u001b[39mValueError\u001b[39;00m(\n\u001b[0;32m    381\u001b[0m         (\u001b[39mf\u001b[39m\u001b[39m\"\u001b[39m\u001b[39mAll equivalent values are missing. This is caused by using an offset \u001b[39m\u001b[39m\"\u001b[39m\n\u001b[0;32m    382\u001b[0m          \u001b[39mf\u001b[39m\u001b[39m\"\u001b[39m\u001b[39m(\u001b[39m\u001b[39m{\u001b[39;00m\u001b[39mself\u001b[39m\u001b[39m.\u001b[39moffset\u001b[39m}\u001b[39;00m\u001b[39m) larger than the data available. Try decrease the \u001b[39m\u001b[39m\"\u001b[39m\n\u001b[0;32m    383\u001b[0m          \u001b[39mf\u001b[39m\u001b[39m\"\u001b[39m\u001b[39msize of the offset (\u001b[39m\u001b[39m{\u001b[39;00m\u001b[39mself\u001b[39m\u001b[39m.\u001b[39moffset\u001b[39m}\u001b[39;00m\u001b[39m), the number of offsets \u001b[39m\u001b[39m\"\u001b[39m\n\u001b[0;32m    384\u001b[0m          \u001b[39mf\u001b[39m\u001b[39m\"\u001b[39m\u001b[39m(\u001b[39m\u001b[39m{\u001b[39;00m\u001b[39mself\u001b[39m\u001b[39m.\u001b[39mn_offsets\u001b[39m}\u001b[39;00m\u001b[39m) or increase the size of `last_window`. In \u001b[39m\u001b[39m\"\u001b[39m\n\u001b[0;32m    385\u001b[0m          \u001b[39mf\u001b[39m\u001b[39m\"\u001b[39m\u001b[39mbacktesing this error may be caused by using an too small \u001b[39m\u001b[39m\"\u001b[39m\n\u001b[0;32m    386\u001b[0m          \u001b[39mf\u001b[39m\u001b[39m\"\u001b[39m\u001b[39m`initial_train_size`.\u001b[39m\u001b[39m\"\u001b[39m)\n\u001b[0;32m    387\u001b[0m     )\n\u001b[0;32m    389\u001b[0m \u001b[39m# Warning if equivalent values are missing\u001b[39;00m\n\u001b[0;32m    390\u001b[0m incomplete_offsets \u001b[39m=\u001b[39m equivalent_values\u001b[39m.\u001b[39misnull()\u001b[39m.\u001b[39many(axis\u001b[39m=\u001b[39m\u001b[39m1\u001b[39m)\n",
      "\u001b[1;31mValueError\u001b[0m: All equivalent values are missing. This is caused by using an offset (<MonthEnd>) larger than the data available. Try decrease the size of the offset (<MonthEnd>), the number of offsets (1) or increase the size of `last_window`. In backtesing this error may be caused by using an too small `initial_train_size`."
     ]
    }
   ],
   "source": [
    "forecaster.predict(steps=3, last_window=lw)"
   ]
  },
  {
   "cell_type": "code",
   "execution_count": null,
   "metadata": {},
   "outputs": [
    {
     "data": {
      "text/plain": [
       "2000-02-25    0\n",
       "2000-02-26    1\n",
       "2000-02-27    2\n",
       "2000-02-28    3\n",
       "2000-02-29    4\n",
       "2000-03-01    5\n",
       "2000-03-02    6\n",
       "Freq: D, dtype: int32"
      ]
     },
     "execution_count": 109,
     "metadata": {},
     "output_type": "execute_result"
    }
   ],
   "source": [
    "y = pd.Series(np.arange(7), \n",
    "              index=pd.date_range(start='2000-02-25', periods=7, freq='D'))\n",
    "y"
   ]
  },
  {
   "cell_type": "code",
   "execution_count": null,
   "metadata": {},
   "outputs": [
    {
     "data": {
      "text/plain": [
       "Timestamp('2000-02-29 00:00:00')"
      ]
     },
     "execution_count": 110,
     "metadata": {},
     "output_type": "execute_result"
    }
   ],
   "source": [
    "last_window_start = (y.index[-1] - pd.offsets.MonthEnd(1) * 1)\n",
    "last_window_start"
   ]
  },
  {
   "cell_type": "code",
   "execution_count": null,
   "metadata": {},
   "outputs": [
    {
     "name": "stdout",
     "output_type": "stream",
     "text": [
      "2000-03-02 00:00:00\n",
      "2000-02-29 00:00:00\n",
      "<Day>\n"
     ]
    }
   ],
   "source": [
    "print(y.index[-1])\n",
    "print(last_window_start)\n",
    "print(y.index.freq)"
   ]
  },
  {
   "cell_type": "code",
   "execution_count": null,
   "metadata": {},
   "outputs": [
    {
     "data": {
      "text/plain": [
       "2"
      ]
     },
     "execution_count": 112,
     "metadata": {},
     "output_type": "execute_result"
    }
   ],
   "source": [
    "window_size = int((y.index[-1] - last_window_start) / y.index.freq)\n",
    "window_size"
   ]
  },
  {
   "cell_type": "code",
   "execution_count": null,
   "metadata": {},
   "outputs": [
    {
     "name": "stdout",
     "output_type": "stream",
     "text": [
      "44\n"
     ]
    },
    {
     "name": "stderr",
     "output_type": "stream",
     "text": [
      "c:\\Users\\jaesc2\\GitHub\\skforecast\\skforecast\\ForecasterBaseline\\ForecasterEquivalentDate.py:402: UserWarning: Steps: ['2000-03-31', '2000-04-01', '2000-04-02'] are calculated with less than 2 n_offsets. To avoid this, increase the `last_window` size or decrease the number of n_offsets. The current configuration requires a total offset of <2 * MonthEnds>.\n",
      "  warnings.warn(\n"
     ]
    },
    {
     "data": {
      "text/plain": [
       "2000-03-31    19.0\n",
       "2000-04-01    19.0\n",
       "2000-04-02    19.0\n",
       "Freq: D, Name: pred, dtype: float64"
      ]
     },
     "execution_count": 145,
     "metadata": {},
     "output_type": "execute_result"
    }
   ],
   "source": [
    "y = pd.Series(np.arange(51), \n",
    "              index=pd.date_range(start='2000-01-25', periods=51, freq='D'))\n",
    "\n",
    "forecaster = ForecasterEquivalentDate(\n",
    "                    offset    = pd.offsets.MonthEnd(1),\n",
    "                    n_offsets = 2\n",
    "                )\n",
    "forecaster.fit(y=y)\n",
    "print(forecaster.window_size)\n",
    "\n",
    "last_window = pd.Series(np.arange(50), \n",
    "                        index=pd.date_range(start='2000-02-10', periods=50, freq='D'))\n",
    "\n",
    "forecaster.predict(steps=3, last_window=last_window)"
   ]
  },
  {
   "cell_type": "code",
   "execution_count": 9,
   "metadata": {},
   "outputs": [],
   "source": [
    "# Libraries\n",
    "# ==============================================================================\n",
    "import numpy as np\n",
    "import pandas as pd\n",
    "import matplotlib.pyplot as plt\n",
    "from skforecast.ForecasterBaseline import ForecasterEquivalentDate\n",
    "from skforecast.model_selection import backtesting_forecaster\n",
    "from sklearn.metrics import mean_squared_error"
   ]
  },
  {
   "cell_type": "code",
   "execution_count": 10,
   "metadata": {},
   "outputs": [
    {
     "data": {
      "text/plain": [
       "date\n",
       "1969-01-01    166875.2129\n",
       "1969-02-01    155466.8105\n",
       "1969-03-01    184983.6699\n",
       "1969-04-01    202319.8164\n",
       "Freq: MS, Name: litters, dtype: float64"
      ]
     },
     "metadata": {},
     "output_type": "display_data"
    },
    {
     "name": "stdout",
     "output_type": "stream",
     "text": [
      "Train dates : 1969-01-01 00:00:00 --- 1980-01-01 00:00:00  (n=133)\n",
      "Test dates  : 1980-02-01 00:00:00 --- 1985-01-01 00:00:00  (n=60)\n"
     ]
    },
    {
     "data": {
      "image/png": "[encoded data removed]",
      "text/plain": [
       "<Figure size 700x300 with 1 Axes>"
      ]
     },
     "metadata": {},
     "output_type": "display_data"
    }
   ],
   "source": [
    "# Download data\n",
    "# ======================================================================================\n",
    "url = (\n",
    "    'https://raw.githubusercontent.com/JoaquinAmatRodrigo/Estadistica-machine-learning-python/'\n",
    "    'master/data/consumos-combustibles-mensual.csv'\n",
    ")\n",
    "data = pd.read_csv(url, sep=',')\n",
    "data = data[['Fecha', 'Gasolinas']]\n",
    "data = data.rename(columns={'Fecha':'date', 'Gasolinas':'litters'})\n",
    "data['date'] = pd.to_datetime(data['date'], format='%Y-%m-%d')\n",
    "data = data.set_index('date')\n",
    "data = data.loc[:'1985-01-01 00:00:00']\n",
    "data = data.asfreq('MS')\n",
    "data = data['litters']\n",
    "display(data.head(4))\n",
    "\n",
    "# Train-test dates\n",
    "# ======================================================================================\n",
    "end_train = '1980-01-01 23:59:59'\n",
    "data_train = data.loc[:end_train]\n",
    "data_test  = data.loc[end_train:]\n",
    "\n",
    "print(f\"Train dates : {data_train.index.min()} --- {data_train.index.max()}  (n={len(data_train)})\")\n",
    "print(f\"Test dates  : {data_test.index.min()} --- {data_test.index.max()}  (n={len(data_test)})\")\n",
    "\n",
    "# Plot\n",
    "# ======================================================================================\n",
    "fig, ax=plt.subplots(figsize=(7, 3))\n",
    "data_train.plot(ax=ax, label='train')\n",
    "data_test.plot(ax=ax, label='test')\n",
    "ax.set_title('Monthly fuel consumption in Spain')\n",
    "ax.legend();"
   ]
  },
  {
   "cell_type": "code",
   "execution_count": 11,
   "metadata": {},
   "outputs": [
    {
     "data": {
      "text/plain": [
       "1969-01-01    166875.2129\n",
       "1969-01-02    155466.8105\n",
       "1969-01-03    184983.6699\n",
       "1969-01-04    202319.8164\n",
       "1969-01-05    206259.1523\n",
       "                 ...     \n",
       "1969-05-09    476677.5163\n",
       "1969-05-10    487880.0221\n",
       "1969-05-11    462139.3874\n",
       "1969-05-12    485646.8776\n",
       "1969-05-13    413886.2617\n",
       "Freq: D, Name: litters, Length: 133, dtype: float64"
      ]
     },
     "execution_count": 11,
     "metadata": {},
     "output_type": "execute_result"
    }
   ],
   "source": [
    "data_daily = data_train.copy()\n",
    "data_daily.index = pd.date_range(start=data_daily.index[0], periods=len(data_daily), freq='D')\n",
    "data_daily"
   ]
  },
  {
   "cell_type": "code",
   "execution_count": null,
   "metadata": {},
   "outputs": [],
   "source": [
    "forecaster = ForecasterEquivalentDate(\n",
    "                 offset    = pd.offsets.MonthEnd(1),\n",
    "                 n_offsets = 2,\n",
    "                 agg_func  = np.mean\n",
    "             )"
   ]
  },
  {
   "cell_type": "code",
   "execution_count": 12,
   "metadata": {},
   "outputs": [
    {
     "data": {
      "text/plain": [
       "DatetimeIndex(['1969-01-01', '1969-01-02', '1969-01-03', '1969-01-04',\n",
       "               '1969-01-05', '1969-01-06', '1969-01-07', '1969-01-08',\n",
       "               '1969-01-09', '1969-01-10',\n",
       "               ...\n",
       "               '1969-05-04', '1969-05-05', '1969-05-06', '1969-05-07',\n",
       "               '1969-05-08', '1969-05-09', '1969-05-10', '1969-05-11',\n",
       "               '1969-05-12', '1969-05-13'],\n",
       "              dtype='datetime64[ns]', length=133, freq='D')"
      ]
     },
     "execution_count": 12,
     "metadata": {},
     "output_type": "execute_result"
    }
   ],
   "source": [
    "y_index = data_train.index\n",
    "y_index = data_daily.index\n",
    "y_index"
   ]
  },
  {
   "cell_type": "code",
   "execution_count": 13,
   "metadata": {},
   "outputs": [
    {
     "data": {
      "text/plain": [
       "Timestamp('1969-04-23 00:00:00')"
      ]
     },
     "execution_count": 13,
     "metadata": {},
     "output_type": "execute_result"
    }
   ],
   "source": [
    "first_valid_index = (y_index[-1] - forecaster.offset * forecaster.n_offsets)\n",
    "first_valid_index"
   ]
  },
  {
   "cell_type": "code",
   "execution_count": 18,
   "metadata": {},
   "outputs": [
    {
     "data": {
      "text/plain": [
       "Timedelta('20 days 00:00:00')"
      ]
     },
     "execution_count": 18,
     "metadata": {},
     "output_type": "execute_result"
    }
   ],
   "source": [
    "y_index[-1] - first_valid_index"
   ]
  },
  {
   "cell_type": "code",
   "execution_count": 15,
   "metadata": {},
   "outputs": [
    {
     "data": {
      "text/plain": [
       "<Day>"
      ]
     },
     "execution_count": 15,
     "metadata": {},
     "output_type": "execute_result"
    }
   ],
   "source": [
    "y_index.freq"
   ]
  },
  {
   "cell_type": "code",
   "execution_count": 16,
   "metadata": {},
   "outputs": [
    {
     "data": {
      "text/plain": [
       "20.0"
      ]
     },
     "execution_count": 16,
     "metadata": {},
     "output_type": "execute_result"
    }
   ],
   "source": [
    "(y_index[-1] - first_valid_index) / y_index.freq"
   ]
  },
  {
   "cell_type": "code",
   "execution_count": 19,
   "metadata": {},
   "outputs": [
    {
     "data": {
      "text/plain": [
       "Timedelta('20 days 00:00:00')"
      ]
     },
     "execution_count": 19,
     "metadata": {},
     "output_type": "execute_result"
    }
   ],
   "source": [
    "abs(y_index[-1] - first_valid_index)"
   ]
  },
  {
   "cell_type": "code",
   "execution_count": 20,
   "metadata": {},
   "outputs": [
    {
     "data": {
      "text/plain": [
       "20"
      ]
     },
     "execution_count": 20,
     "metadata": {},
     "output_type": "execute_result"
    }
   ],
   "source": [
    "index_point1 = y_index.get_loc(y_index[-1])\n",
    "index_point2 = y_index.get_loc(first_valid_index)\n",
    "\n",
    "abs(index_point1 - index_point2)"
   ]
  },
  {
   "cell_type": "code",
   "execution_count": 21,
   "metadata": {},
   "outputs": [
    {
     "data": {
      "text/plain": [
       "DatetimeIndex(['1969-01-01', '1969-01-02', '1969-01-03', '1969-01-04',\n",
       "               '1969-01-05', '1969-01-06', '1969-01-07', '1969-01-08',\n",
       "               '1969-01-09', '1969-01-10',\n",
       "               ...\n",
       "               '1969-05-04', '1969-05-05', '1969-05-06', '1969-05-07',\n",
       "               '1969-05-08', '1969-05-09', '1969-05-10', '1969-05-11',\n",
       "               '1969-05-12', '1969-05-13'],\n",
       "              dtype='datetime64[ns]', length=133, freq='D')"
      ]
     },
     "execution_count": 21,
     "metadata": {},
     "output_type": "execute_result"
    }
   ],
   "source": [
    "y_index"
   ]
  },
  {
   "cell_type": "code",
   "execution_count": 30,
   "metadata": {},
   "outputs": [
    {
     "data": {
      "text/plain": [
       "Timestamp('1969-04-23 00:00:00')"
      ]
     },
     "execution_count": 30,
     "metadata": {},
     "output_type": "execute_result"
    }
   ],
   "source": [
    "other_no_valid_index = pd.to_datetime('1969-04-23')\n",
    "other_no_valid_index"
   ]
  },
  {
   "cell_type": "code",
   "execution_count": 34,
   "metadata": {},
   "outputs": [
    {
     "name": "stdout",
     "output_type": "stream",
     "text": [
      "96.8 µs ± 10.1 µs per loop (mean ± std. dev. of 4 runs, 1,000 loops each)\n"
     ]
    }
   ],
   "source": [
    "%%timeit -n 1000 -r 4\n",
    "\n",
    "y_index.to_list().index(other_no_valid_index)"
   ]
  },
  {
   "cell_type": "code",
   "execution_count": 33,
   "metadata": {},
   "outputs": [
    {
     "name": "stdout",
     "output_type": "stream",
     "text": [
      "3.79 µs ± 381 ns per loop (mean ± std. dev. of 4 runs, 1,000 loops each)\n"
     ]
    }
   ],
   "source": [
    "%%timeit -n 1000 -r 4\n",
    "\n",
    "y_index.get_loc(other_no_valid_index)"
   ]
  },
  {
   "cell_type": "code",
   "execution_count": 7,
   "metadata": {},
   "outputs": [
    {
     "ename": "ValueError",
     "evalue": "The length of `y` (10), must be greater than or equal to the window size (12). This is because  the offset (6) is larger than the available data. Try to decrease the size of the offset (6), the number of n_offsets (2) or increase the size of `y`.",
     "output_type": "error",
     "traceback": [
      "\u001b[1;31m---------------------------------------------------------------------------\u001b[0m",
      "\u001b[1;31mValueError\u001b[0m                                Traceback (most recent call last)",
      "\u001b[1;32mc:\\Users\\jaesc2\\GitHub\\skforecast\\dev\\ForecasterLastEquivalentDate.ipynb Cell 55\u001b[0m line \u001b[0;36m7\n\u001b[0;32m      <a href='vscode-notebook-cell:/c%3A/Users/jaesc2/GitHub/skforecast/dev/ForecasterLastEquivalentDate.ipynb#Y104sZmlsZQ%3D%3D?line=0'>1</a>\u001b[0m y \u001b[39m=\u001b[39m pd\u001b[39m.\u001b[39mSeries(np\u001b[39m.\u001b[39marange(\u001b[39m10\u001b[39m))\n\u001b[0;32m      <a href='vscode-notebook-cell:/c%3A/Users/jaesc2/GitHub/skforecast/dev/ForecasterLastEquivalentDate.ipynb#Y104sZmlsZQ%3D%3D?line=2'>3</a>\u001b[0m forecaster \u001b[39m=\u001b[39m ForecasterEquivalentDate(\n\u001b[0;32m      <a href='vscode-notebook-cell:/c%3A/Users/jaesc2/GitHub/skforecast/dev/ForecasterLastEquivalentDate.ipynb#Y104sZmlsZQ%3D%3D?line=3'>4</a>\u001b[0m         offset\u001b[39m=\u001b[39m\u001b[39m6\u001b[39m, n_offsets\u001b[39m=\u001b[39m\u001b[39m2\u001b[39m, agg_func\u001b[39m=\u001b[39mnp\u001b[39m.\u001b[39mmean\n\u001b[0;32m      <a href='vscode-notebook-cell:/c%3A/Users/jaesc2/GitHub/skforecast/dev/ForecasterLastEquivalentDate.ipynb#Y104sZmlsZQ%3D%3D?line=4'>5</a>\u001b[0m     )\n\u001b[1;32m----> <a href='vscode-notebook-cell:/c%3A/Users/jaesc2/GitHub/skforecast/dev/ForecasterLastEquivalentDate.ipynb#Y104sZmlsZQ%3D%3D?line=6'>7</a>\u001b[0m forecaster\u001b[39m.\u001b[39;49mfit(y)\n",
      "File \u001b[1;32mc:\\Users\\jaesc2\\GitHub\\skforecast\\skforecast\\ForecasterBaseline\\ForecasterEquivalentDate.py:261\u001b[0m, in \u001b[0;36mForecasterEquivalentDate.fit\u001b[1;34m(self, y, exog, store_in_sample_residuals)\u001b[0m\n\u001b[0;32m    259\u001b[0m \u001b[39melse\u001b[39;00m:\n\u001b[0;32m    260\u001b[0m     \u001b[39mif\u001b[39;00m \u001b[39mlen\u001b[39m(y) \u001b[39m<\u001b[39m \u001b[39mself\u001b[39m\u001b[39m.\u001b[39mwindow_size:\n\u001b[1;32m--> 261\u001b[0m         \u001b[39mraise\u001b[39;00m \u001b[39mValueError\u001b[39;00m(\n\u001b[0;32m    262\u001b[0m             (\u001b[39mf\u001b[39m\u001b[39m\"\u001b[39m\u001b[39mThe length of `y` (\u001b[39m\u001b[39m{\u001b[39;00m\u001b[39mlen\u001b[39m(y)\u001b[39m}\u001b[39;00m\u001b[39m), must be greater than or equal \u001b[39m\u001b[39m\"\u001b[39m\n\u001b[0;32m    263\u001b[0m              \u001b[39mf\u001b[39m\u001b[39m\"\u001b[39m\u001b[39mto the window size (\u001b[39m\u001b[39m{\u001b[39;00m\u001b[39mself\u001b[39m\u001b[39m.\u001b[39mwindow_size\u001b[39m}\u001b[39;00m\u001b[39m). This is because  \u001b[39m\u001b[39m\"\u001b[39m\n\u001b[0;32m    264\u001b[0m              \u001b[39mf\u001b[39m\u001b[39m\"\u001b[39m\u001b[39mthe offset (\u001b[39m\u001b[39m{\u001b[39;00m\u001b[39mself\u001b[39m\u001b[39m.\u001b[39moffset\u001b[39m}\u001b[39;00m\u001b[39m) is larger than the available \u001b[39m\u001b[39m\"\u001b[39m\n\u001b[0;32m    265\u001b[0m              \u001b[39mf\u001b[39m\u001b[39m\"\u001b[39m\u001b[39mdata. Try to decrease the size of the offset (\u001b[39m\u001b[39m{\u001b[39;00m\u001b[39mself\u001b[39m\u001b[39m.\u001b[39moffset\u001b[39m}\u001b[39;00m\u001b[39m), \u001b[39m\u001b[39m\"\u001b[39m\n\u001b[0;32m    266\u001b[0m              \u001b[39mf\u001b[39m\u001b[39m\"\u001b[39m\u001b[39mthe number of n_offsets (\u001b[39m\u001b[39m{\u001b[39;00m\u001b[39mself\u001b[39m\u001b[39m.\u001b[39mn_offsets\u001b[39m}\u001b[39;00m\u001b[39m) or increase the \u001b[39m\u001b[39m\"\u001b[39m\n\u001b[0;32m    267\u001b[0m              \u001b[39mf\u001b[39m\u001b[39m\"\u001b[39m\u001b[39msize of `y`.\u001b[39m\u001b[39m\"\u001b[39m)\n\u001b[0;32m    268\u001b[0m         )\n\u001b[0;32m    270\u001b[0m \u001b[39mself\u001b[39m\u001b[39m.\u001b[39mfitted \u001b[39m=\u001b[39m \u001b[39mTrue\u001b[39;00m\n\u001b[0;32m    271\u001b[0m \u001b[39mself\u001b[39m\u001b[39m.\u001b[39mfit_date \u001b[39m=\u001b[39m pd\u001b[39m.\u001b[39mTimestamp\u001b[39m.\u001b[39mtoday()\u001b[39m.\u001b[39mstrftime(\u001b[39m'\u001b[39m\u001b[39m%\u001b[39m\u001b[39mY-\u001b[39m\u001b[39m%\u001b[39m\u001b[39mm-\u001b[39m\u001b[39m%d\u001b[39;00m\u001b[39m \u001b[39m\u001b[39m%\u001b[39m\u001b[39mH:\u001b[39m\u001b[39m%\u001b[39m\u001b[39mM:\u001b[39m\u001b[39m%\u001b[39m\u001b[39mS\u001b[39m\u001b[39m'\u001b[39m)\n",
      "\u001b[1;31mValueError\u001b[0m: The length of `y` (10), must be greater than or equal to the window size (12). This is because  the offset (6) is larger than the available data. Try to decrease the size of the offset (6), the number of n_offsets (2) or increase the size of `y`."
     ]
    }
   ],
   "source": [
    "y = pd.Series(np.arange(10))\n",
    "\n",
    "forecaster = ForecasterEquivalentDate(\n",
    "        offset=6, n_offsets=2, agg_func=np.mean\n",
    "    )\n",
    "\n",
    "forecaster.fit(y)"
   ]
  },
  {
   "cell_type": "code",
   "execution_count": 8,
   "metadata": {},
   "outputs": [
    {
     "ename": "ValueError",
     "evalue": "The length of `y` (10), must be greater than or equal to the window size (<2 * DateOffsets: months=6>). This is because  the offset (<DateOffset: months=6>) is larger than the available data. Try to decrease the size of the offset (1), the number of n_offsets (2) or increase the size of `y`.",
     "output_type": "error",
     "traceback": [
      "\u001b[1;31m---------------------------------------------------------------------------\u001b[0m",
      "\u001b[1;31mKeyError\u001b[0m                                  Traceback (most recent call last)",
      "File \u001b[1;32mc:\\Users\\jaesc2\\Miniconda3\\envs\\skforecast\\lib\\site-packages\\pandas\\_libs\\index.pyx:581\u001b[0m, in \u001b[0;36mpandas._libs.index.DatetimeEngine.get_loc\u001b[1;34m()\u001b[0m\n",
      "File \u001b[1;32mpandas\\_libs\\hashtable_class_helper.pxi:2606\u001b[0m, in \u001b[0;36mpandas._libs.hashtable.Int64HashTable.get_item\u001b[1;34m()\u001b[0m\n",
      "File \u001b[1;32mpandas\\_libs\\hashtable_class_helper.pxi:2630\u001b[0m, in \u001b[0;36mpandas._libs.hashtable.Int64HashTable.get_item\u001b[1;34m()\u001b[0m\n",
      "\u001b[1;31mKeyError\u001b[0m: 1601510400000000000",
      "\nDuring handling of the above exception, another exception occurred:\n",
      "\u001b[1;31mKeyError\u001b[0m                                  Traceback (most recent call last)",
      "File \u001b[1;32mc:\\Users\\jaesc2\\Miniconda3\\envs\\skforecast\\lib\\site-packages\\pandas\\core\\indexes\\base.py:3652\u001b[0m, in \u001b[0;36mIndex.get_loc\u001b[1;34m(self, key)\u001b[0m\n\u001b[0;32m   3651\u001b[0m \u001b[39mtry\u001b[39;00m:\n\u001b[1;32m-> 3652\u001b[0m     \u001b[39mreturn\u001b[39;00m \u001b[39mself\u001b[39;49m\u001b[39m.\u001b[39;49m_engine\u001b[39m.\u001b[39;49mget_loc(casted_key)\n\u001b[0;32m   3653\u001b[0m \u001b[39mexcept\u001b[39;00m \u001b[39mKeyError\u001b[39;00m \u001b[39mas\u001b[39;00m err:\n",
      "File \u001b[1;32mc:\\Users\\jaesc2\\Miniconda3\\envs\\skforecast\\lib\\site-packages\\pandas\\_libs\\index.pyx:549\u001b[0m, in \u001b[0;36mpandas._libs.index.DatetimeEngine.get_loc\u001b[1;34m()\u001b[0m\n",
      "File \u001b[1;32mc:\\Users\\jaesc2\\Miniconda3\\envs\\skforecast\\lib\\site-packages\\pandas\\_libs\\index.pyx:583\u001b[0m, in \u001b[0;36mpandas._libs.index.DatetimeEngine.get_loc\u001b[1;34m()\u001b[0m\n",
      "\u001b[1;31mKeyError\u001b[0m: Timestamp('2020-10-01 00:00:00')",
      "\nThe above exception was the direct cause of the following exception:\n",
      "\u001b[1;31mKeyError\u001b[0m                                  Traceback (most recent call last)",
      "File \u001b[1;32mc:\\Users\\jaesc2\\Miniconda3\\envs\\skforecast\\lib\\site-packages\\pandas\\core\\indexes\\datetimes.py:584\u001b[0m, in \u001b[0;36mDatetimeIndex.get_loc\u001b[1;34m(self, key)\u001b[0m\n\u001b[0;32m    583\u001b[0m \u001b[39mtry\u001b[39;00m:\n\u001b[1;32m--> 584\u001b[0m     \u001b[39mreturn\u001b[39;00m Index\u001b[39m.\u001b[39;49mget_loc(\u001b[39mself\u001b[39;49m, key)\n\u001b[0;32m    585\u001b[0m \u001b[39mexcept\u001b[39;00m \u001b[39mKeyError\u001b[39;00m \u001b[39mas\u001b[39;00m err:\n",
      "File \u001b[1;32mc:\\Users\\jaesc2\\Miniconda3\\envs\\skforecast\\lib\\site-packages\\pandas\\core\\indexes\\base.py:3654\u001b[0m, in \u001b[0;36mIndex.get_loc\u001b[1;34m(self, key)\u001b[0m\n\u001b[0;32m   3653\u001b[0m \u001b[39mexcept\u001b[39;00m \u001b[39mKeyError\u001b[39;00m \u001b[39mas\u001b[39;00m err:\n\u001b[1;32m-> 3654\u001b[0m     \u001b[39mraise\u001b[39;00m \u001b[39mKeyError\u001b[39;00m(key) \u001b[39mfrom\u001b[39;00m \u001b[39merr\u001b[39;00m\n\u001b[0;32m   3655\u001b[0m \u001b[39mexcept\u001b[39;00m \u001b[39mTypeError\u001b[39;00m:\n\u001b[0;32m   3656\u001b[0m     \u001b[39m# If we have a listlike key, _check_indexing_error will raise\u001b[39;00m\n\u001b[0;32m   3657\u001b[0m     \u001b[39m#  InvalidIndexError. Otherwise we fall through and re-raise\u001b[39;00m\n\u001b[0;32m   3658\u001b[0m     \u001b[39m#  the TypeError.\u001b[39;00m\n",
      "\u001b[1;31mKeyError\u001b[0m: Timestamp('2020-10-01 00:00:00')",
      "\nThe above exception was the direct cause of the following exception:\n",
      "\u001b[1;31mKeyError\u001b[0m                                  Traceback (most recent call last)",
      "File \u001b[1;32mc:\\Users\\jaesc2\\GitHub\\skforecast\\skforecast\\ForecasterBaseline\\ForecasterEquivalentDate.py:244\u001b[0m, in \u001b[0;36mForecasterEquivalentDate.fit\u001b[1;34m(self, y, exog, store_in_sample_residuals)\u001b[0m\n\u001b[0;32m    243\u001b[0m \u001b[39mtry\u001b[39;00m:\n\u001b[1;32m--> 244\u001b[0m     window_size_idx_start \u001b[39m=\u001b[39m y_index\u001b[39m.\u001b[39;49mget_loc(first_valid_index)\n\u001b[0;32m    245\u001b[0m     window_size_idx_end \u001b[39m=\u001b[39m y_index\u001b[39m.\u001b[39mget_loc(y_index[\u001b[39m-\u001b[39m\u001b[39m1\u001b[39m])\n",
      "File \u001b[1;32mc:\\Users\\jaesc2\\Miniconda3\\envs\\skforecast\\lib\\site-packages\\pandas\\core\\indexes\\datetimes.py:586\u001b[0m, in \u001b[0;36mDatetimeIndex.get_loc\u001b[1;34m(self, key)\u001b[0m\n\u001b[0;32m    585\u001b[0m \u001b[39mexcept\u001b[39;00m \u001b[39mKeyError\u001b[39;00m \u001b[39mas\u001b[39;00m err:\n\u001b[1;32m--> 586\u001b[0m     \u001b[39mraise\u001b[39;00m \u001b[39mKeyError\u001b[39;00m(orig_key) \u001b[39mfrom\u001b[39;00m \u001b[39merr\u001b[39;00m\n",
      "\u001b[1;31mKeyError\u001b[0m: Timestamp('2020-10-01 00:00:00')",
      "\nDuring handling of the above exception, another exception occurred:\n",
      "\u001b[1;31mValueError\u001b[0m                                Traceback (most recent call last)",
      "\u001b[1;32mc:\\Users\\jaesc2\\GitHub\\skforecast\\dev\\ForecasterLastEquivalentDate.ipynb Cell 56\u001b[0m line \u001b[0;36m1\n\u001b[0;32m      <a href='vscode-notebook-cell:/c%3A/Users/jaesc2/GitHub/skforecast/dev/ForecasterLastEquivalentDate.ipynb#Y106sZmlsZQ%3D%3D?line=0'>1</a>\u001b[0m y \u001b[39m=\u001b[39m pd\u001b[39m.\u001b[39mSeries(np\u001b[39m.\u001b[39marange(\u001b[39m10\u001b[39m), \n\u001b[0;32m      <a href='vscode-notebook-cell:/c%3A/Users/jaesc2/GitHub/skforecast/dev/ForecasterLastEquivalentDate.ipynb#Y106sZmlsZQ%3D%3D?line=1'>2</a>\u001b[0m               index\u001b[39m=\u001b[39mpd\u001b[39m.\u001b[39mdate_range(start\u001b[39m=\u001b[39m\u001b[39m'\u001b[39m\u001b[39m01/01/2021\u001b[39m\u001b[39m'\u001b[39m, periods\u001b[39m=\u001b[39m\u001b[39m10\u001b[39m, freq\u001b[39m=\u001b[39m\u001b[39m'\u001b[39m\u001b[39mMS\u001b[39m\u001b[39m'\u001b[39m))\n\u001b[0;32m      <a href='vscode-notebook-cell:/c%3A/Users/jaesc2/GitHub/skforecast/dev/ForecasterLastEquivalentDate.ipynb#Y106sZmlsZQ%3D%3D?line=3'>4</a>\u001b[0m forecaster \u001b[39m=\u001b[39m ForecasterEquivalentDate(\n\u001b[0;32m      <a href='vscode-notebook-cell:/c%3A/Users/jaesc2/GitHub/skforecast/dev/ForecasterLastEquivalentDate.ipynb#Y106sZmlsZQ%3D%3D?line=4'>5</a>\u001b[0m                      offset        \u001b[39m=\u001b[39m DateOffset(months\u001b[39m=\u001b[39m\u001b[39m6\u001b[39m),\n\u001b[0;32m      <a href='vscode-notebook-cell:/c%3A/Users/jaesc2/GitHub/skforecast/dev/ForecasterLastEquivalentDate.ipynb#Y106sZmlsZQ%3D%3D?line=5'>6</a>\u001b[0m                      n_offsets     \u001b[39m=\u001b[39m \u001b[39m2\u001b[39m,\n\u001b[0;32m      <a href='vscode-notebook-cell:/c%3A/Users/jaesc2/GitHub/skforecast/dev/ForecasterLastEquivalentDate.ipynb#Y106sZmlsZQ%3D%3D?line=6'>7</a>\u001b[0m                      agg_func      \u001b[39m=\u001b[39m np\u001b[39m.\u001b[39mmean,\n\u001b[0;32m      <a href='vscode-notebook-cell:/c%3A/Users/jaesc2/GitHub/skforecast/dev/ForecasterLastEquivalentDate.ipynb#Y106sZmlsZQ%3D%3D?line=7'>8</a>\u001b[0m                      forecaster_id \u001b[39m=\u001b[39m \u001b[39mNone\u001b[39;00m\n\u001b[0;32m      <a href='vscode-notebook-cell:/c%3A/Users/jaesc2/GitHub/skforecast/dev/ForecasterLastEquivalentDate.ipynb#Y106sZmlsZQ%3D%3D?line=8'>9</a>\u001b[0m                  )\n\u001b[1;32m---> <a href='vscode-notebook-cell:/c%3A/Users/jaesc2/GitHub/skforecast/dev/ForecasterLastEquivalentDate.ipynb#Y106sZmlsZQ%3D%3D?line=10'>11</a>\u001b[0m forecaster\u001b[39m.\u001b[39;49mfit(y)\n",
      "File \u001b[1;32mc:\\Users\\jaesc2\\GitHub\\skforecast\\skforecast\\ForecasterBaseline\\ForecasterEquivalentDate.py:251\u001b[0m, in \u001b[0;36mForecasterEquivalentDate.fit\u001b[1;34m(self, y, exog, store_in_sample_residuals)\u001b[0m\n\u001b[0;32m    249\u001b[0m         \u001b[39mself\u001b[39m\u001b[39m.\u001b[39mwindow_size \u001b[39m=\u001b[39m window_size_idx_end \u001b[39m-\u001b[39m window_size_idx_start\n\u001b[0;32m    250\u001b[0m     \u001b[39mexcept\u001b[39;00m \u001b[39mKeyError\u001b[39;00m:\n\u001b[1;32m--> 251\u001b[0m         \u001b[39mraise\u001b[39;00m \u001b[39mValueError\u001b[39;00m(\n\u001b[0;32m    252\u001b[0m             (\u001b[39mf\u001b[39m\u001b[39m\"\u001b[39m\u001b[39mThe length of `y` (\u001b[39m\u001b[39m{\u001b[39;00m\u001b[39mlen\u001b[39m(y)\u001b[39m}\u001b[39;00m\u001b[39m), must be greater than or equal \u001b[39m\u001b[39m\"\u001b[39m\n\u001b[0;32m    253\u001b[0m              \u001b[39mf\u001b[39m\u001b[39m\"\u001b[39m\u001b[39mto the window size (\u001b[39m\u001b[39m{\u001b[39;00m\u001b[39mself\u001b[39m\u001b[39m.\u001b[39mwindow_size\u001b[39m}\u001b[39;00m\u001b[39m). This is because  \u001b[39m\u001b[39m\"\u001b[39m\n\u001b[0;32m    254\u001b[0m              \u001b[39mf\u001b[39m\u001b[39m\"\u001b[39m\u001b[39mthe offset (\u001b[39m\u001b[39m{\u001b[39;00m\u001b[39mself\u001b[39m\u001b[39m.\u001b[39moffset\u001b[39m}\u001b[39;00m\u001b[39m) is larger than the available \u001b[39m\u001b[39m\"\u001b[39m\n\u001b[0;32m    255\u001b[0m              \u001b[39mf\u001b[39m\u001b[39m\"\u001b[39m\u001b[39mdata. Try to decrease the size of the offset (\u001b[39m\u001b[39m{\u001b[39;00m\u001b[39mself\u001b[39m\u001b[39m.\u001b[39moffset\u001b[39m.\u001b[39mn\u001b[39m}\u001b[39;00m\u001b[39m), \u001b[39m\u001b[39m\"\u001b[39m\n\u001b[0;32m    256\u001b[0m              \u001b[39mf\u001b[39m\u001b[39m\"\u001b[39m\u001b[39mthe number of n_offsets (\u001b[39m\u001b[39m{\u001b[39;00m\u001b[39mself\u001b[39m\u001b[39m.\u001b[39mn_offsets\u001b[39m}\u001b[39;00m\u001b[39m) or increase the \u001b[39m\u001b[39m\"\u001b[39m\n\u001b[0;32m    257\u001b[0m              \u001b[39mf\u001b[39m\u001b[39m\"\u001b[39m\u001b[39msize of `y`.\u001b[39m\u001b[39m\"\u001b[39m)\n\u001b[0;32m    258\u001b[0m         )\n\u001b[0;32m    259\u001b[0m \u001b[39melse\u001b[39;00m:\n\u001b[0;32m    260\u001b[0m     \u001b[39mif\u001b[39;00m \u001b[39mlen\u001b[39m(y) \u001b[39m<\u001b[39m \u001b[39mself\u001b[39m\u001b[39m.\u001b[39mwindow_size:\n",
      "\u001b[1;31mValueError\u001b[0m: The length of `y` (10), must be greater than or equal to the window size (<2 * DateOffsets: months=6>). This is because  the offset (<DateOffset: months=6>) is larger than the available data. Try to decrease the size of the offset (1), the number of n_offsets (2) or increase the size of `y`."
     ]
    }
   ],
   "source": [
    "y = pd.Series(np.arange(10), \n",
    "              index=pd.date_range(start='01/01/2021', periods=10, freq='MS'))\n",
    "\n",
    "forecaster = ForecasterEquivalentDate(\n",
    "                     offset        = DateOffset(months=6),\n",
    "                     n_offsets     = 2,\n",
    "                     agg_func      = np.mean,\n",
    "                     forecaster_id = None\n",
    "                 )\n",
    "\n",
    "forecaster.fit(y)"
   ]
  },
  {
   "cell_type": "code",
   "execution_count": 20,
   "metadata": {},
   "outputs": [
    {
     "name": "stdout",
     "output_type": "stream",
     "text": [
      "<DateOffset: days=6>\n"
     ]
    }
   ],
   "source": [
    "a = DateOffset(days=6)\n",
    "print(a)"
   ]
  },
  {
   "cell_type": "code",
   "execution_count": 13,
   "metadata": {},
   "outputs": [
    {
     "name": "stdout",
     "output_type": "stream",
     "text": [
      "<2 * MonthEnds>\n"
     ]
    },
    {
     "data": {
      "text/plain": [
       "2"
      ]
     },
     "execution_count": 13,
     "metadata": {},
     "output_type": "execute_result"
    }
   ],
   "source": [
    "b = pd.offsets.MonthEnd(2)\n",
    "print(b)\n",
    "b.n"
   ]
  },
  {
   "cell_type": "code",
   "execution_count": 21,
   "metadata": {},
   "outputs": [
    {
     "data": {
      "text/plain": [
       "2000-09-01    0.737995\n",
       "2000-10-01    0.182492\n",
       "2000-11-01    0.175452\n",
       "2000-12-01    0.531551\n",
       "2001-01-01    0.531828\n",
       "2001-02-01    0.250455\n",
       "2001-03-01    0.483034\n",
       "2001-04-01    0.985560\n",
       "2001-05-01    0.519485\n",
       "2001-06-01    0.612895\n",
       "Freq: MS, Name: y, dtype: float64"
      ]
     },
     "execution_count": 21,
     "metadata": {},
     "output_type": "execute_result"
    }
   ],
   "source": [
    "last_window = pd.Series(\n",
    "        data = np.array([0.73799541, 0.18249173, 0.17545176, 0.53155137, 0.53182759,\n",
    "                         0.25045537, 0.48303426, 0.98555979, 0.51948512, 0.61289453]),\n",
    "        index = pd.date_range(start='2000-08-05', periods=10, freq='MS'),\n",
    "        name = 'y'\n",
    "    )\n",
    "last_window"
   ]
  },
  {
   "cell_type": "code",
   "execution_count": null,
   "metadata": {},
   "outputs": [],
   "source": []
  }
 ],
 "metadata": {
  "kernelspec": {
   "display_name": "skforecast_py10",
   "language": "python",
   "name": "python3"
  },
  "language_info": {
   "codemirror_mode": {
    "name": "ipython",
    "version": 3
   },
   "file_extension": ".py",
   "mimetype": "text/x-python",
   "name": "python",
   "nbconvert_exporter": "python",
   "pygments_lexer": "ipython3",
   "version": "3.10.11"
  },
  "orig_nbformat": 4,
  "vscode": {
   "interpreter": {
    "hash": "c78d62c1713fdacd99ef7c429003c7324b36fbb551fb8b6860a7ea73e9338235"
   }
  }
 },
 "nbformat": 4,
 "nbformat_minor": 2
}
