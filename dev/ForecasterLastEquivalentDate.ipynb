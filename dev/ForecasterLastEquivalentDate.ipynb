{
 "cells": [
  {
   "cell_type": "code",
   "execution_count": 1,
   "metadata": {},
   "outputs": [
    {
     "data": {
      "text/plain": [
       "'/home/ubuntu/varios/skforecast'"
      ]
     },
     "execution_count": 1,
     "metadata": {},
     "output_type": "execute_result"
    }
   ],
   "source": [
    "%load_ext autoreload\n",
    "%autoreload 2\n",
    "import sys\n",
    "from pathlib import Path\n",
    "sys.path.insert(1, str(Path.cwd().parent))\n",
    "str(Path.cwd().parent)"
   ]
  },
  {
   "cell_type": "code",
   "execution_count": 2,
   "metadata": {},
   "outputs": [
    {
     "name": "stdout",
     "output_type": "stream",
     "text": [
      "0.10.1\n"
     ]
    }
   ],
   "source": [
    "from skforecast.ForecasterBaseline import ForecasterEquivalentDate\n",
    "from skforecast.model_selection import backtesting_forecaster\n",
    "import numpy as np\n",
    "import pandas as pd\n",
    "from pandas.tseries.offsets import DateOffset\n",
    "from pandas.tseries import offsets\n",
    "from skforecast import __version__\n",
    "print(__version__)\n"
   ]
  },
  {
   "cell_type": "code",
   "execution_count": 3,
   "metadata": {},
   "outputs": [
    {
     "data": {
      "text/plain": [
       "2000-01-01      0\n",
       "2000-01-02      1\n",
       "2000-01-03      2\n",
       "2000-01-04      3\n",
       "2000-01-05      4\n",
       "             ... \n",
       "2000-12-26    360\n",
       "2000-12-27    361\n",
       "2000-12-28    362\n",
       "2000-12-29    363\n",
       "2000-12-30    364\n",
       "Freq: D, Length: 365, dtype: int64"
      ]
     },
     "execution_count": 3,
     "metadata": {},
     "output_type": "execute_result"
    }
   ],
   "source": [
    "# simulate a time series\n",
    "n = 365\n",
    "y = pd.Series(\n",
    "    data=np.arange(n),\n",
    "    index = pd.date_range(start='2000-01-01', periods=n, freq='d')\n",
    ")\n",
    "y"
   ]
  },
  {
   "cell_type": "code",
   "execution_count": 4,
   "metadata": {},
   "outputs": [
    {
     "data": {
      "text/plain": [
       "======================== \n",
       "ForecasterEquivalentDate \n",
       "======================== \n",
       "Offset: 10 \n",
       "Number of offsets: 2 \n",
       "Aggregation function: mean \n",
       "Window size: 20 \n",
       "Training range: [Timestamp('2000-01-01 00:00:00'), Timestamp('2000-12-30 00:00:00')] \n",
       "Training index type: DatetimeIndex \n",
       "Training index frequency: D \n",
       "Creation date: 2023-11-02 15:21:07 \n",
       "Last fit date: 2023-11-02 15:21:07 \n",
       "Skforecast version: 0.10.1 \n",
       "Python version: 3.11.4 \n",
       "Forecaster id: None "
      ]
     },
     "execution_count": 4,
     "metadata": {},
     "output_type": "execute_result"
    }
   ],
   "source": [
    "forecaster = ForecasterEquivalentDate(offset=10, n_offsets=2)\n",
    "forecaster.fit(y=y)\n",
    "forecaster"
   ]
  },
  {
   "cell_type": "code",
   "execution_count": 5,
   "metadata": {},
   "outputs": [
    {
     "data": {
      "text/plain": [
       "2000-12-31    350.0\n",
       "2001-01-01    351.0\n",
       "2001-01-02    352.0\n",
       "2001-01-03    353.0\n",
       "2001-01-04    354.0\n",
       "2001-01-05    355.0\n",
       "2001-01-06    356.0\n",
       "2001-01-07    357.0\n",
       "2001-01-08    358.0\n",
       "2001-01-09    359.0\n",
       "2001-01-10    350.0\n",
       "2001-01-11    351.0\n",
       "2001-01-12    352.0\n",
       "2001-01-13    353.0\n",
       "2001-01-14    354.0\n",
       "Freq: D, Name: pred, dtype: float64"
      ]
     },
     "execution_count": 5,
     "metadata": {},
     "output_type": "execute_result"
    }
   ],
   "source": [
    "forecaster.predict(steps=15)"
   ]
  },
  {
   "cell_type": "code",
   "execution_count": 6,
   "metadata": {},
   "outputs": [
    {
     "data": {
      "application/vnd.jupyter.widget-view+json": {
       "model_id": "6f6b00cecfaa4ceeb818e343e689a3fc",
       "version_major": 2,
       "version_minor": 0
      },
      "text/plain": [
       "  0%|          | 0/23 [00:00<?, ?it/s]"
      ]
     },
     "metadata": {},
     "output_type": "display_data"
    }
   ],
   "source": [
    "metric, predictions_1 = backtesting_forecaster(\n",
    "    forecaster=forecaster,\n",
    "    y=y,\n",
    "    initial_train_size=20,\n",
    "    steps=15,\n",
    "    metric='mean_absolute_error',\n",
    "    verbose=False\n",
    ")"
   ]
  },
  {
   "cell_type": "code",
   "execution_count": 7,
   "metadata": {},
   "outputs": [
    {
     "data": {
      "text/plain": [
       "======================== \n",
       "ForecasterEquivalentDate \n",
       "======================== \n",
       "Offset: <10 * Days> \n",
       "Number of offsets: 2 \n",
       "Aggregation function: mean \n",
       "Window size: 20 \n",
       "Training range: [Timestamp('2000-01-01 00:00:00'), Timestamp('2000-12-30 00:00:00')] \n",
       "Training index type: DatetimeIndex \n",
       "Training index frequency: D \n",
       "Creation date: 2023-11-02 15:21:07 \n",
       "Last fit date: 2023-11-02 15:21:07 \n",
       "Skforecast version: 0.10.1 \n",
       "Python version: 3.11.4 \n",
       "Forecaster id: None "
      ]
     },
     "execution_count": 7,
     "metadata": {},
     "output_type": "execute_result"
    }
   ],
   "source": [
    "forecaster = ForecasterEquivalentDate(\n",
    "    offset=offsets.Day(10),\n",
    "    n_offsets=2\n",
    ")\n",
    "forecaster.fit(y=y)\n",
    "forecaster"
   ]
  },
  {
   "cell_type": "code",
   "execution_count": 8,
   "metadata": {},
   "outputs": [
    {
     "data": {
      "text/plain": [
       "2000-12-31    350.0\n",
       "2001-01-01    351.0\n",
       "2001-01-02    352.0\n",
       "2001-01-03    353.0\n",
       "2001-01-04    354.0\n",
       "2001-01-05    355.0\n",
       "2001-01-06    356.0\n",
       "2001-01-07    357.0\n",
       "2001-01-08    358.0\n",
       "2001-01-09    359.0\n",
       "2001-01-10    350.0\n",
       "2001-01-11    351.0\n",
       "2001-01-12    352.0\n",
       "2001-01-13    353.0\n",
       "2001-01-14    354.0\n",
       "Freq: D, Name: pred, dtype: float64"
      ]
     },
     "execution_count": 8,
     "metadata": {},
     "output_type": "execute_result"
    }
   ],
   "source": [
    "forecaster.predict(steps=15)"
   ]
  },
  {
   "cell_type": "code",
   "execution_count": 9,
   "metadata": {},
   "outputs": [
    {
     "data": {
      "application/vnd.jupyter.widget-view+json": {
       "model_id": "800c56afb39340c79e0ce5012aa8b8a3",
       "version_major": 2,
       "version_minor": 0
      },
      "text/plain": [
       "  0%|          | 0/23 [00:00<?, ?it/s]"
      ]
     },
     "metadata": {},
     "output_type": "display_data"
    },
    {
     "data": {
      "text/html": [
       "<div>\n",
       "<style scoped>\n",
       "    .dataframe tbody tr th:only-of-type {\n",
       "        vertical-align: middle;\n",
       "    }\n",
       "\n",
       "    .dataframe tbody tr th {\n",
       "        vertical-align: top;\n",
       "    }\n",
       "\n",
       "    .dataframe thead th {\n",
       "        text-align: right;\n",
       "    }\n",
       "</style>\n",
       "<table border=\"1\" class=\"dataframe\">\n",
       "  <thead>\n",
       "    <tr style=\"text-align: right;\">\n",
       "      <th></th>\n",
       "      <th>pred</th>\n",
       "    </tr>\n",
       "  </thead>\n",
       "  <tbody>\n",
       "    <tr>\n",
       "      <th>2000-01-21</th>\n",
       "      <td>5.0</td>\n",
       "    </tr>\n",
       "    <tr>\n",
       "      <th>2000-01-22</th>\n",
       "      <td>6.0</td>\n",
       "    </tr>\n",
       "    <tr>\n",
       "      <th>2000-01-23</th>\n",
       "      <td>7.0</td>\n",
       "    </tr>\n",
       "    <tr>\n",
       "      <th>2000-01-24</th>\n",
       "      <td>8.0</td>\n",
       "    </tr>\n",
       "    <tr>\n",
       "      <th>2000-01-25</th>\n",
       "      <td>9.0</td>\n",
       "    </tr>\n",
       "    <tr>\n",
       "      <th>...</th>\n",
       "      <td>...</td>\n",
       "    </tr>\n",
       "    <tr>\n",
       "      <th>2000-12-26</th>\n",
       "      <td>335.0</td>\n",
       "    </tr>\n",
       "    <tr>\n",
       "      <th>2000-12-27</th>\n",
       "      <td>336.0</td>\n",
       "    </tr>\n",
       "    <tr>\n",
       "      <th>2000-12-28</th>\n",
       "      <td>337.0</td>\n",
       "    </tr>\n",
       "    <tr>\n",
       "      <th>2000-12-29</th>\n",
       "      <td>338.0</td>\n",
       "    </tr>\n",
       "    <tr>\n",
       "      <th>2000-12-30</th>\n",
       "      <td>339.0</td>\n",
       "    </tr>\n",
       "  </tbody>\n",
       "</table>\n",
       "<p>345 rows × 1 columns</p>\n",
       "</div>"
      ],
      "text/plain": [
       "             pred\n",
       "2000-01-21    5.0\n",
       "2000-01-22    6.0\n",
       "2000-01-23    7.0\n",
       "2000-01-24    8.0\n",
       "2000-01-25    9.0\n",
       "...           ...\n",
       "2000-12-26  335.0\n",
       "2000-12-27  336.0\n",
       "2000-12-28  337.0\n",
       "2000-12-29  338.0\n",
       "2000-12-30  339.0\n",
       "\n",
       "[345 rows x 1 columns]"
      ]
     },
     "execution_count": 9,
     "metadata": {},
     "output_type": "execute_result"
    }
   ],
   "source": [
    "forecaster = ForecasterEquivalentDate(\n",
    "    offset = offsets.Day(10),\n",
    "    n_offsets=2\n",
    ")\n",
    "\n",
    "metric, predictions_2 = backtesting_forecaster(\n",
    "    forecaster=forecaster,\n",
    "    y=y,\n",
    "    initial_train_size=20,\n",
    "    steps=15,\n",
    "    metric='mean_absolute_error',\n",
    "    verbose=False,\n",
    "    n_jobs=1\n",
    ")\n",
    "predictions_2"
   ]
  },
  {
   "cell_type": "code",
   "execution_count": 10,
   "metadata": {},
   "outputs": [],
   "source": [
    "pd.testing.assert_frame_equal(predictions_1, predictions_2)"
   ]
  },
  {
   "cell_type": "code",
   "execution_count": null,
   "metadata": {},
   "outputs": [],
   "source": []
  },
  {
   "cell_type": "code",
   "execution_count": 96,
   "metadata": {},
   "outputs": [
    {
     "data": {
      "text/plain": [
       "2000-08-05    0.737995\n",
       "2000-08-06    0.182492\n",
       "2000-08-07    0.175452\n",
       "2000-08-08    0.531551\n",
       "2000-08-09    0.531828\n",
       "2000-08-10    0.250455\n",
       "2000-08-11    0.483034\n",
       "2000-08-12    0.985560\n",
       "2000-08-13    0.519485\n",
       "2000-08-14    0.612895\n",
       "Freq: D, Name: y, dtype: float64"
      ]
     },
     "execution_count": 96,
     "metadata": {},
     "output_type": "execute_result"
    }
   ],
   "source": [
    "y = pd.Series(\n",
    "        data = np.array([0.69646919, 0.28613933, 0.22685145, 0.55131477, 0.71946897,\n",
    "                         0.42310646, 0.9807642 , 0.68482974, 0.4809319 , 0.39211752,\n",
    "                         0.34317802, 0.72904971, 0.43857224, 0.0596779 , 0.39804426,\n",
    "                         0.73799541, 0.18249173, 0.17545176, 0.53155137, 0.53182759,\n",
    "                         0.63440096, 0.84943179, 0.72445532, 0.61102351, 0.72244338,\n",
    "                         0.32295891, 0.36178866, 0.22826323, 0.29371405, 0.63097612,\n",
    "                         0.09210494, 0.43370117, 0.43086276, 0.4936851 , 0.42583029,\n",
    "                         0.31226122, 0.42635131, 0.89338916, 0.94416002, 0.50183668,\n",
    "                         0.62395295, 0.1156184 , 0.31728548, 0.41482621, 0.86630916,\n",
    "                         0.25045537, 0.48303426, 0.98555979, 0.51948512, 0.61289453]\n",
    "            ),\n",
    "        index=pd.date_range(start='2000-01-01', periods=50, freq='d'),\n",
    "        name = 'y'\n",
    "    )\n",
    "\n",
    "last_window = pd.Series(\n",
    "        data = np.array([0.73799541, 0.18249173, 0.17545176, 0.53155137, 0.53182759,\n",
    "                         0.25045537, 0.48303426, 0.98555979, 0.51948512, 0.61289453]),\n",
    "        index = pd.date_range(start='2000-08-05', periods=10, freq='D'),\n",
    "        name = 'y'\n",
    "    )\n",
    "\n",
    "last_window.tail(10)"
   ]
  },
  {
   "cell_type": "code",
   "execution_count": 97,
   "metadata": {},
   "outputs": [
    {
     "data": {
      "text/plain": [
       "2000-08-15    0.494225\n",
       "2000-08-16    0.332763\n",
       "2000-08-17    0.580506\n",
       "2000-08-18    0.525518\n",
       "2000-08-19    0.572361\n",
       "2000-08-20    0.494225\n",
       "2000-08-21    0.332763\n",
       "Freq: D, Name: pred, dtype: float64"
      ]
     },
     "execution_count": 97,
     "metadata": {},
     "output_type": "execute_result"
    }
   ],
   "source": [
    "forecaster = ForecasterEquivalentDate(\n",
    "        offset=5,\n",
    "        n_offsets=2\n",
    "    )\n",
    "forecaster.fit(y=y)\n",
    "predictions = forecaster.predict(steps=7, last_window=last_window)\n",
    "predictions"
   ]
  },
  {
   "cell_type": "code",
   "execution_count": 93,
   "metadata": {},
   "outputs": [
    {
     "data": {
      "text/plain": [
       "0.5723615"
      ]
     },
     "execution_count": 93,
     "metadata": {},
     "output_type": "execute_result"
    }
   ],
   "source": [
    "(0.612895 + 0.531828)/2"
   ]
  },
  {
   "cell_type": "code",
   "execution_count": 98,
   "metadata": {},
   "outputs": [],
   "source": [
    "def test_predict_with_int_offset_offset_7_n_offsets_2_using_last_window():\n",
    "    \"\"\"\n",
    "    Test predict method with int offset, offset=1 and n_offsets=1, using last_window.\n",
    "    \"\"\"\n",
    "    last_window = pd.Series(\n",
    "        data = np.array([0.73799541, 0.18249173, 0.17545176, 0.53155137, 0.53182759,\n",
    "                         0.25045537, 0.48303426, 0.98555979, 0.51948512, 0.61289453]),\n",
    "        index = pd.date_range(start='2000-08-05', periods=10, freq='D'),\n",
    "        name = 'y'\n",
    "    )\n",
    "    forecaster = ForecasterEquivalentDate(\n",
    "                    offset    = 5,\n",
    "                    n_offsets = 2\n",
    "                 )\n",
    "    forecaster.fit(y=y)\n",
    "    predictions = forecaster.predict(steps=7, last_window=last_window)\n",
    "    expected_predictions = pd.Series(\n",
    "        data = np.array([0.49422539, 0.332763, 0.58050578, 0.52551824, 0.57236106,\n",
    "                         0.49422539, 0.332763]),\n",
    "        index = pd.date_range(start='2000-08-15', periods=7, freq='D'),\n",
    "        name = 'pred'\n",
    "    )\n",
    "    pd.testing.assert_series_equal(predictions, expected_predictions)\n",
    "\n",
    "test_predict_with_int_offset_offset_7_n_offsets_2_using_last_window()"
   ]
  },
  {
   "cell_type": "code",
   "execution_count": 63,
   "metadata": {},
   "outputs": [],
   "source": [
    "def test_predict_with_int_offset_offset_7_n_offsets_1():\n",
    "    \"\"\"\n",
    "    Test predict method with int offset, offset=7 and n_offsets=1.\n",
    "    \"\"\"\n",
    "    forecaster = ForecasterEquivalentDate(\n",
    "        offset=7,\n",
    "        n_offsets=2,\n",
    "        agg_func=np.mean\n",
    "    )\n",
    "    forecaster.fit(y=y)\n",
    "    predictions = forecaster.predict(steps=7)\n",
    "    expected_predictions = pd.Series(\n",
    "        data = np.array([0.42058876, 0.87984916, 0.5973077 , 0.49243547, 0.80475637,\n",
    "                         0.31755176, 0.46509001]),\n",
    "        index = pd.date_range(start='2000-02-20', periods=7, freq='D'),\n",
    "        name = 'pred'\n",
    "    )\n",
    "    pd.testing.assert_series_equal(predictions, expected_predictions)\n",
    "\n",
    "test_predict_with_int_offset_offset_7_n_offsets_1()"
   ]
  },
  {
   "cell_type": "code",
   "execution_count": null,
   "metadata": {},
   "outputs": [],
   "source": [
    "def test_predict_with_int_offset_offset_7_n_offsets_2():\n",
    "    \"\"\"\n",
    "    Test predict method with int offset, offset=7 and n_offsets=2.\n",
    "    \"\"\"\n",
    "    forecaster = ForecasterEquivalentDate(\n",
    "        offset=7,\n",
    "        n_offsets=2\n",
    "    )\n",
    "    forecaster.fit(y=y)\n",
    "    predictions = forecaster.predict(steps=5)\n",
    "    expected_predictions = pd.Series(\n",
    "        data = np.array([0.41482621, 0.86630916, 0.25045537, 0.48303426, 0.98555979]),\n",
    "        index = pd.date_range(start='2000-02-20', periods=5, freq='D'),\n",
    "        name = 'pred'\n",
    "    )\n",
    "    pd.testing.assert_series_equal(predictions, expected_predictions)\n",
    "\n",
    "test_predict_with_int_offset_offset_7_n_offsets_1()"
   ]
  },
  {
   "cell_type": "code",
   "execution_count": 70,
   "metadata": {},
   "outputs": [],
   "source": [
    "import pytest\n",
    "\n",
    "def test_predict_exception_with_unfitted_forecaster():\n",
    "    \"\"\"\n",
    "    Test exception when predict method is called before fitting the forecaster.\n",
    "    \"\"\"\n",
    "    forecaster = ForecasterEquivalentDate(offset=1, n_offsets=1)\n",
    "    with pytest.raises(\n",
    "        Exception,\n",
    "        match=\"This Forecaster instance is not fitted yet. Call `fit` with appropriate arguments before using predict.\"\n",
    "        ):\n",
    "        forecaster.predict(steps=3)\n",
    "\n",
    "test_predict_with_unfitted_forecaster()"
   ]
  }
 ],
 "metadata": {
  "kernelspec": {
   "display_name": "skforecast_py10",
   "language": "python",
   "name": "python3"
  },
  "language_info": {
   "codemirror_mode": {
    "name": "ipython",
    "version": 3
   },
   "file_extension": ".py",
   "mimetype": "text/x-python",
   "name": "python",
   "nbconvert_exporter": "python",
   "pygments_lexer": "ipython3",
   "version": "3.11.4"
  },
  "orig_nbformat": 4,
  "vscode": {
   "interpreter": {
    "hash": "c78d62c1713fdacd99ef7c429003c7324b36fbb551fb8b6860a7ea73e9338235"
   }
  }
 },
 "nbformat": 4,
 "nbformat_minor": 2
}
