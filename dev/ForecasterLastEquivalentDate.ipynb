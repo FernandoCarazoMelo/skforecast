{
 "cells": [
  {
   "cell_type": "code",
   "execution_count": 10,
   "metadata": {},
   "outputs": [
    {
     "name": "stdout",
     "output_type": "stream",
     "text": [
      "The autoreload extension is already loaded. To reload it, use:\n",
      "  %reload_ext autoreload\n"
     ]
    },
    {
     "data": {
      "text/plain": [
       "'c:\\\\Users\\\\Joaquín Amat\\\\Documents\\\\GitHub\\\\skforecast'"
      ]
     },
     "execution_count": 10,
     "metadata": {},
     "output_type": "execute_result"
    }
   ],
   "source": [
    "%load_ext autoreload\n",
    "%autoreload 2\n",
    "import sys\n",
    "from pathlib import Path\n",
    "sys.path.insert(1, str(Path.cwd().parent))\n",
    "str(Path.cwd().parent)"
   ]
  },
  {
   "cell_type": "code",
   "execution_count": 11,
   "metadata": {},
   "outputs": [
    {
     "name": "stdout",
     "output_type": "stream",
     "text": [
      "0.10.1\n"
     ]
    }
   ],
   "source": [
    "from skforecast.ForecasterBaseline import ForecasterEquivalentDate\n",
    "from skforecast.model_selection import backtesting_forecaster\n",
    "import numpy as np\n",
    "import pandas as pd\n",
    "from pandas.tseries.offsets import DateOffset\n",
    "from pandas.tseries import offsets\n",
    "from skforecast import __version__\n",
    "print(__version__)\n"
   ]
  },
  {
   "cell_type": "code",
   "execution_count": 12,
   "metadata": {},
   "outputs": [
    {
     "data": {
      "text/plain": [
       "2000-01-01      0\n",
       "2000-01-02      1\n",
       "2000-01-03      2\n",
       "2000-01-04      3\n",
       "2000-01-05      4\n",
       "             ... \n",
       "2000-12-26    360\n",
       "2000-12-27    361\n",
       "2000-12-28    362\n",
       "2000-12-29    363\n",
       "2000-12-30    364\n",
       "Freq: D, Length: 365, dtype: int32"
      ]
     },
     "execution_count": 12,
     "metadata": {},
     "output_type": "execute_result"
    }
   ],
   "source": [
    "# simulate a time series\n",
    "n = 365\n",
    "y = pd.Series(\n",
    "    data=np.arange(n),\n",
    "    index = pd.date_range(start='2000-01-01', periods=n, freq='d')\n",
    ")\n",
    "y"
   ]
  },
  {
   "cell_type": "code",
   "execution_count": 13,
   "metadata": {},
   "outputs": [
    {
     "data": {
      "text/plain": [
       "============================ \n",
       "ForecasterEquivalentDate \n",
       "============================ \n",
       "Offset: 10 \n",
       "Number of offsets: 2 \n",
       "Aggregation function: mean \n",
       "Window size: 20 \n",
       "Training range: [Timestamp('2000-01-01 00:00:00'), Timestamp('2000-12-30 00:00:00')] \n",
       "Training index type: DatetimeIndex \n",
       "Training index frequency: D \n",
       "Creation date: 2023-10-28 18:50:14 \n",
       "Last fit date: 2023-10-28 18:50:14 \n",
       "Skforecast version: 0.10.1 \n",
       "Python version: 3.11.4 \n",
       "Forecaster id: None "
      ]
     },
     "execution_count": 13,
     "metadata": {},
     "output_type": "execute_result"
    }
   ],
   "source": [
    "forecaster = ForecasterEquivalentDate(offset=10, n_offsets=2)\n",
    "forecaster.fit(y=y)\n",
    "forecaster"
   ]
  },
  {
   "cell_type": "code",
   "execution_count": 14,
   "metadata": {},
   "outputs": [
    {
     "data": {
      "text/plain": [
       "2000-12-31    350.0\n",
       "2001-01-01    351.0\n",
       "2001-01-02    352.0\n",
       "2001-01-03    353.0\n",
       "2001-01-04    354.0\n",
       "2001-01-05    355.0\n",
       "2001-01-06    356.0\n",
       "2001-01-07    357.0\n",
       "2001-01-08    358.0\n",
       "2001-01-09    359.0\n",
       "2001-01-10    350.0\n",
       "2001-01-11    351.0\n",
       "2001-01-12    352.0\n",
       "2001-01-13    353.0\n",
       "2001-01-14    354.0\n",
       "Freq: D, Name: pred, dtype: float64"
      ]
     },
     "execution_count": 14,
     "metadata": {},
     "output_type": "execute_result"
    }
   ],
   "source": [
    "forecaster.predict(steps=15)"
   ]
  },
  {
   "cell_type": "code",
   "execution_count": 15,
   "metadata": {},
   "outputs": [
    {
     "data": {
      "application/vnd.jupyter.widget-view+json": {
       "model_id": "1365dafddac242f6b7b7b7b78d8f19b6",
       "version_major": 2,
       "version_minor": 0
      },
      "text/plain": [
       "  0%|          | 0/18 [00:00<?, ?it/s]"
      ]
     },
     "metadata": {},
     "output_type": "display_data"
    }
   ],
   "source": [
    "metric, predictions_1 = backtesting_forecaster(\n",
    "    forecaster=forecaster,\n",
    "    y=y,\n",
    "    initial_train_size=100,\n",
    "    steps=15,\n",
    "    metric='mean_absolute_error',\n",
    "    verbose=False\n",
    ")"
   ]
  },
  {
   "cell_type": "code",
   "execution_count": 16,
   "metadata": {},
   "outputs": [
    {
     "data": {
      "text/plain": [
       "============================ \n",
       "ForecasterEquivalentDate \n",
       "============================ \n",
       "Offset: <10 * Days> \n",
       "Number of offsets: 2 \n",
       "Aggregation function: mean \n",
       "Window size: 20 \n",
       "Training range: [Timestamp('2000-01-01 00:00:00'), Timestamp('2000-12-30 00:00:00')] \n",
       "Training index type: DatetimeIndex \n",
       "Training index frequency: D \n",
       "Creation date: 2023-10-28 18:50:15 \n",
       "Last fit date: 2023-10-28 18:50:15 \n",
       "Skforecast version: 0.10.1 \n",
       "Python version: 3.11.4 \n",
       "Forecaster id: None "
      ]
     },
     "execution_count": 16,
     "metadata": {},
     "output_type": "execute_result"
    }
   ],
   "source": [
    "forecaster = ForecasterEquivalentDate(\n",
    "    offset=offsets.Day(10),\n",
    "    n_offsets=2\n",
    ")\n",
    "forecaster.fit(y=y)\n",
    "forecaster"
   ]
  },
  {
   "cell_type": "code",
   "execution_count": 17,
   "metadata": {},
   "outputs": [
    {
     "data": {
      "text/plain": [
       "2000-12-31    350.0\n",
       "2001-01-01    351.0\n",
       "2001-01-02    352.0\n",
       "2001-01-03    353.0\n",
       "2001-01-04    354.0\n",
       "2001-01-05    355.0\n",
       "2001-01-06    356.0\n",
       "2001-01-07    357.0\n",
       "2001-01-08    358.0\n",
       "2001-01-09    359.0\n",
       "2001-01-10    350.0\n",
       "2001-01-11    351.0\n",
       "2001-01-12    352.0\n",
       "2001-01-13    353.0\n",
       "2001-01-14    354.0\n",
       "Freq: D, Name: pred, dtype: float64"
      ]
     },
     "execution_count": 17,
     "metadata": {},
     "output_type": "execute_result"
    }
   ],
   "source": [
    "forecaster.predict(steps=15)"
   ]
  },
  {
   "cell_type": "code",
   "execution_count": 21,
   "metadata": {},
   "outputs": [
    {
     "data": {
      "application/vnd.jupyter.widget-view+json": {
       "model_id": "f63019cff8d741f19e0508f0bed34399",
       "version_major": 2,
       "version_minor": 0
      },
      "text/plain": [
       "  0%|          | 0/24 [00:00<?, ?it/s]"
      ]
     },
     "metadata": {},
     "output_type": "display_data"
    },
    {
     "name": "stderr",
     "output_type": "stream",
     "text": [
      "c:\\Users\\Joaquín Amat\\Documents\\GitHub\\skforecast\\skforecast\\ForecasterBaseline\\ForecasterEquivalentDate.py:383: UserWarning: Steps: ['2000-01-11', '2000-01-12', '2000-01-13', '2000-01-14', '2000-01-15', '2000-01-16', '2000-01-17', '2000-01-18', '2000-01-19', '2000-01-20', '2000-01-21', '2000-01-22', '2000-01-23', '2000-01-24', '2000-01-25'] are calculated with less than 2 offsets. To avoid this increase `last_window` size or decrease the number of offsets. The current configuration needs a total offset of <20 * Days>.\n",
      "  f\"this warning, increase last_window size or decrease the number \"\n",
      "c:\\Users\\Joaquín Amat\\Documents\\GitHub\\skforecast\\skforecast\\ForecasterBaseline\\ForecasterEquivalentDate.py:383: UserWarning: Steps: ['2000-01-26', '2000-01-27', '2000-01-28', '2000-01-29', '2000-01-30', '2000-01-31', '2000-02-01', '2000-02-02', '2000-02-03', '2000-02-04', '2000-02-05', '2000-02-06', '2000-02-07', '2000-02-08', '2000-02-09'] are calculated with less than 2 offsets. To avoid this increase `last_window` size or decrease the number of offsets. The current configuration needs a total offset of <20 * Days>.\n",
      "  f\"this warning, increase last_window size or decrease the number \"\n",
      "c:\\Users\\Joaquín Amat\\Documents\\GitHub\\skforecast\\skforecast\\ForecasterBaseline\\ForecasterEquivalentDate.py:383: UserWarning: Steps: ['2000-02-10', '2000-02-11', '2000-02-12', '2000-02-13', '2000-02-14', '2000-02-15', '2000-02-16', '2000-02-17', '2000-02-18', '2000-02-19', '2000-02-20', '2000-02-21', '2000-02-22', '2000-02-23', '2000-02-24'] are calculated with less than 2 offsets. To avoid this increase `last_window` size or decrease the number of offsets. The current configuration needs a total offset of <20 * Days>.\n",
      "  f\"this warning, increase last_window size or decrease the number \"\n",
      "c:\\Users\\Joaquín Amat\\Documents\\GitHub\\skforecast\\skforecast\\ForecasterBaseline\\ForecasterEquivalentDate.py:383: UserWarning: Steps: ['2000-02-25', '2000-02-26', '2000-02-27', '2000-02-28', '2000-02-29', '2000-03-01', '2000-03-02', '2000-03-03', '2000-03-04', '2000-03-05', '2000-03-06', '2000-03-07', '2000-03-08', '2000-03-09', '2000-03-10'] are calculated with less than 2 offsets. To avoid this increase `last_window` size or decrease the number of offsets. The current configuration needs a total offset of <20 * Days>.\n",
      "  f\"this warning, increase last_window size or decrease the number \"\n",
      "c:\\Users\\Joaquín Amat\\Documents\\GitHub\\skforecast\\skforecast\\ForecasterBaseline\\ForecasterEquivalentDate.py:383: UserWarning: Steps: ['2000-03-11', '2000-03-12', '2000-03-13', '2000-03-14', '2000-03-15', '2000-03-16', '2000-03-17', '2000-03-18', '2000-03-19', '2000-03-20', '2000-03-21', '2000-03-22', '2000-03-23', '2000-03-24', '2000-03-25'] are calculated with less than 2 offsets. To avoid this increase `last_window` size or decrease the number of offsets. The current configuration needs a total offset of <20 * Days>.\n",
      "  f\"this warning, increase last_window size or decrease the number \"\n",
      "c:\\Users\\Joaquín Amat\\Documents\\GitHub\\skforecast\\skforecast\\ForecasterBaseline\\ForecasterEquivalentDate.py:383: UserWarning: Steps: ['2000-03-26', '2000-03-27', '2000-03-28', '2000-03-29', '2000-03-30', '2000-03-31', '2000-04-01', '2000-04-02', '2000-04-03', '2000-04-04', '2000-04-05', '2000-04-06', '2000-04-07', '2000-04-08', '2000-04-09'] are calculated with less than 2 offsets. To avoid this increase `last_window` size or decrease the number of offsets. The current configuration needs a total offset of <20 * Days>.\n",
      "  f\"this warning, increase last_window size or decrease the number \"\n",
      "c:\\Users\\Joaquín Amat\\Documents\\GitHub\\skforecast\\skforecast\\ForecasterBaseline\\ForecasterEquivalentDate.py:383: UserWarning: Steps: ['2000-04-10', '2000-04-11', '2000-04-12', '2000-04-13', '2000-04-14', '2000-04-15', '2000-04-16', '2000-04-17', '2000-04-18', '2000-04-19', '2000-04-20', '2000-04-21', '2000-04-22', '2000-04-23', '2000-04-24'] are calculated with less than 2 offsets. To avoid this increase `last_window` size or decrease the number of offsets. The current configuration needs a total offset of <20 * Days>.\n",
      "  f\"this warning, increase last_window size or decrease the number \"\n",
      "c:\\Users\\Joaquín Amat\\Documents\\GitHub\\skforecast\\skforecast\\ForecasterBaseline\\ForecasterEquivalentDate.py:383: UserWarning: Steps: ['2000-04-25', '2000-04-26', '2000-04-27', '2000-04-28', '2000-04-29', '2000-04-30', '2000-05-01', '2000-05-02', '2000-05-03', '2000-05-04', '2000-05-05', '2000-05-06', '2000-05-07', '2000-05-08', '2000-05-09'] are calculated with less than 2 offsets. To avoid this increase `last_window` size or decrease the number of offsets. The current configuration needs a total offset of <20 * Days>.\n",
      "  f\"this warning, increase last_window size or decrease the number \"\n",
      "c:\\Users\\Joaquín Amat\\Documents\\GitHub\\skforecast\\skforecast\\ForecasterBaseline\\ForecasterEquivalentDate.py:383: UserWarning: Steps: ['2000-05-10', '2000-05-11', '2000-05-12', '2000-05-13', '2000-05-14', '2000-05-15', '2000-05-16', '2000-05-17', '2000-05-18', '2000-05-19', '2000-05-20', '2000-05-21', '2000-05-22', '2000-05-23', '2000-05-24'] are calculated with less than 2 offsets. To avoid this increase `last_window` size or decrease the number of offsets. The current configuration needs a total offset of <20 * Days>.\n",
      "  f\"this warning, increase last_window size or decrease the number \"\n",
      "c:\\Users\\Joaquín Amat\\Documents\\GitHub\\skforecast\\skforecast\\ForecasterBaseline\\ForecasterEquivalentDate.py:383: UserWarning: Steps: ['2000-05-25', '2000-05-26', '2000-05-27', '2000-05-28', '2000-05-29', '2000-05-30', '2000-05-31', '2000-06-01', '2000-06-02', '2000-06-03', '2000-06-04', '2000-06-05', '2000-06-06', '2000-06-07', '2000-06-08'] are calculated with less than 2 offsets. To avoid this increase `last_window` size or decrease the number of offsets. The current configuration needs a total offset of <20 * Days>.\n",
      "  f\"this warning, increase last_window size or decrease the number \"\n",
      "c:\\Users\\Joaquín Amat\\Documents\\GitHub\\skforecast\\skforecast\\ForecasterBaseline\\ForecasterEquivalentDate.py:383: UserWarning: Steps: ['2000-06-09', '2000-06-10', '2000-06-11', '2000-06-12', '2000-06-13', '2000-06-14', '2000-06-15', '2000-06-16', '2000-06-17', '2000-06-18', '2000-06-19', '2000-06-20', '2000-06-21', '2000-06-22', '2000-06-23'] are calculated with less than 2 offsets. To avoid this increase `last_window` size or decrease the number of offsets. The current configuration needs a total offset of <20 * Days>.\n",
      "  f\"this warning, increase last_window size or decrease the number \"\n",
      "c:\\Users\\Joaquín Amat\\Documents\\GitHub\\skforecast\\skforecast\\ForecasterBaseline\\ForecasterEquivalentDate.py:383: UserWarning: Steps: ['2000-06-24', '2000-06-25', '2000-06-26', '2000-06-27', '2000-06-28', '2000-06-29', '2000-06-30', '2000-07-01', '2000-07-02', '2000-07-03', '2000-07-04', '2000-07-05', '2000-07-06', '2000-07-07', '2000-07-08'] are calculated with less than 2 offsets. To avoid this increase `last_window` size or decrease the number of offsets. The current configuration needs a total offset of <20 * Days>.\n",
      "  f\"this warning, increase last_window size or decrease the number \"\n",
      "c:\\Users\\Joaquín Amat\\Documents\\GitHub\\skforecast\\skforecast\\ForecasterBaseline\\ForecasterEquivalentDate.py:383: UserWarning: Steps: ['2000-07-09', '2000-07-10', '2000-07-11', '2000-07-12', '2000-07-13', '2000-07-14', '2000-07-15', '2000-07-16', '2000-07-17', '2000-07-18', '2000-07-19', '2000-07-20', '2000-07-21', '2000-07-22', '2000-07-23'] are calculated with less than 2 offsets. To avoid this increase `last_window` size or decrease the number of offsets. The current configuration needs a total offset of <20 * Days>.\n",
      "  f\"this warning, increase last_window size or decrease the number \"\n",
      "c:\\Users\\Joaquín Amat\\Documents\\GitHub\\skforecast\\skforecast\\ForecasterBaseline\\ForecasterEquivalentDate.py:383: UserWarning: Steps: ['2000-07-24', '2000-07-25', '2000-07-26', '2000-07-27', '2000-07-28', '2000-07-29', '2000-07-30', '2000-07-31', '2000-08-01', '2000-08-02', '2000-08-03', '2000-08-04', '2000-08-05', '2000-08-06', '2000-08-07'] are calculated with less than 2 offsets. To avoid this increase `last_window` size or decrease the number of offsets. The current configuration needs a total offset of <20 * Days>.\n",
      "  f\"this warning, increase last_window size or decrease the number \"\n",
      "c:\\Users\\Joaquín Amat\\Documents\\GitHub\\skforecast\\skforecast\\ForecasterBaseline\\ForecasterEquivalentDate.py:383: UserWarning: Steps: ['2000-08-08', '2000-08-09', '2000-08-10', '2000-08-11', '2000-08-12', '2000-08-13', '2000-08-14', '2000-08-15', '2000-08-16', '2000-08-17', '2000-08-18', '2000-08-19', '2000-08-20', '2000-08-21', '2000-08-22'] are calculated with less than 2 offsets. To avoid this increase `last_window` size or decrease the number of offsets. The current configuration needs a total offset of <20 * Days>.\n",
      "  f\"this warning, increase last_window size or decrease the number \"\n",
      "c:\\Users\\Joaquín Amat\\Documents\\GitHub\\skforecast\\skforecast\\ForecasterBaseline\\ForecasterEquivalentDate.py:383: UserWarning: Steps: ['2000-08-23', '2000-08-24', '2000-08-25', '2000-08-26', '2000-08-27', '2000-08-28', '2000-08-29', '2000-08-30', '2000-08-31', '2000-09-01', '2000-09-02', '2000-09-03', '2000-09-04', '2000-09-05', '2000-09-06'] are calculated with less than 2 offsets. To avoid this increase `last_window` size or decrease the number of offsets. The current configuration needs a total offset of <20 * Days>.\n",
      "  f\"this warning, increase last_window size or decrease the number \"\n",
      "c:\\Users\\Joaquín Amat\\Documents\\GitHub\\skforecast\\skforecast\\ForecasterBaseline\\ForecasterEquivalentDate.py:383: UserWarning: Steps: ['2000-09-07', '2000-09-08', '2000-09-09', '2000-09-10', '2000-09-11', '2000-09-12', '2000-09-13', '2000-09-14', '2000-09-15', '2000-09-16', '2000-09-17', '2000-09-18', '2000-09-19', '2000-09-20', '2000-09-21'] are calculated with less than 2 offsets. To avoid this increase `last_window` size or decrease the number of offsets. The current configuration needs a total offset of <20 * Days>.\n",
      "  f\"this warning, increase last_window size or decrease the number \"\n",
      "c:\\Users\\Joaquín Amat\\Documents\\GitHub\\skforecast\\skforecast\\ForecasterBaseline\\ForecasterEquivalentDate.py:383: UserWarning: Steps: ['2000-09-22', '2000-09-23', '2000-09-24', '2000-09-25', '2000-09-26', '2000-09-27', '2000-09-28', '2000-09-29', '2000-09-30', '2000-10-01', '2000-10-02', '2000-10-03', '2000-10-04', '2000-10-05', '2000-10-06'] are calculated with less than 2 offsets. To avoid this increase `last_window` size or decrease the number of offsets. The current configuration needs a total offset of <20 * Days>.\n",
      "  f\"this warning, increase last_window size or decrease the number \"\n",
      "c:\\Users\\Joaquín Amat\\Documents\\GitHub\\skforecast\\skforecast\\ForecasterBaseline\\ForecasterEquivalentDate.py:383: UserWarning: Steps: ['2000-10-07', '2000-10-08', '2000-10-09', '2000-10-10', '2000-10-11', '2000-10-12', '2000-10-13', '2000-10-14', '2000-10-15', '2000-10-16', '2000-10-17', '2000-10-18', '2000-10-19', '2000-10-20', '2000-10-21'] are calculated with less than 2 offsets. To avoid this increase `last_window` size or decrease the number of offsets. The current configuration needs a total offset of <20 * Days>.\n",
      "  f\"this warning, increase last_window size or decrease the number \"\n",
      "c:\\Users\\Joaquín Amat\\Documents\\GitHub\\skforecast\\skforecast\\ForecasterBaseline\\ForecasterEquivalentDate.py:383: UserWarning: Steps: ['2000-10-22', '2000-10-23', '2000-10-24', '2000-10-25', '2000-10-26', '2000-10-27', '2000-10-28', '2000-10-29', '2000-10-30', '2000-10-31', '2000-11-01', '2000-11-02', '2000-11-03', '2000-11-04', '2000-11-05'] are calculated with less than 2 offsets. To avoid this increase `last_window` size or decrease the number of offsets. The current configuration needs a total offset of <20 * Days>.\n",
      "  f\"this warning, increase last_window size or decrease the number \"\n",
      "c:\\Users\\Joaquín Amat\\Documents\\GitHub\\skforecast\\skforecast\\ForecasterBaseline\\ForecasterEquivalentDate.py:383: UserWarning: Steps: ['2000-11-06', '2000-11-07', '2000-11-08', '2000-11-09', '2000-11-10', '2000-11-11', '2000-11-12', '2000-11-13', '2000-11-14', '2000-11-15', '2000-11-16', '2000-11-17', '2000-11-18', '2000-11-19', '2000-11-20'] are calculated with less than 2 offsets. To avoid this increase `last_window` size or decrease the number of offsets. The current configuration needs a total offset of <20 * Days>.\n",
      "  f\"this warning, increase last_window size or decrease the number \"\n",
      "c:\\Users\\Joaquín Amat\\Documents\\GitHub\\skforecast\\skforecast\\ForecasterBaseline\\ForecasterEquivalentDate.py:383: UserWarning: Steps: ['2000-11-21', '2000-11-22', '2000-11-23', '2000-11-24', '2000-11-25', '2000-11-26', '2000-11-27', '2000-11-28', '2000-11-29', '2000-11-30', '2000-12-01', '2000-12-02', '2000-12-03', '2000-12-04', '2000-12-05'] are calculated with less than 2 offsets. To avoid this increase `last_window` size or decrease the number of offsets. The current configuration needs a total offset of <20 * Days>.\n",
      "  f\"this warning, increase last_window size or decrease the number \"\n",
      "c:\\Users\\Joaquín Amat\\Documents\\GitHub\\skforecast\\skforecast\\ForecasterBaseline\\ForecasterEquivalentDate.py:383: UserWarning: Steps: ['2000-12-06', '2000-12-07', '2000-12-08', '2000-12-09', '2000-12-10', '2000-12-11', '2000-12-12', '2000-12-13', '2000-12-14', '2000-12-15', '2000-12-16', '2000-12-17', '2000-12-18', '2000-12-19', '2000-12-20'] are calculated with less than 2 offsets. To avoid this increase `last_window` size or decrease the number of offsets. The current configuration needs a total offset of <20 * Days>.\n",
      "  f\"this warning, increase last_window size or decrease the number \"\n",
      "c:\\Users\\Joaquín Amat\\Documents\\GitHub\\skforecast\\skforecast\\ForecasterBaseline\\ForecasterEquivalentDate.py:383: UserWarning: Steps: ['2000-12-21', '2000-12-22', '2000-12-23', '2000-12-24', '2000-12-25', '2000-12-26', '2000-12-27', '2000-12-28', '2000-12-29', '2000-12-30'] are calculated with less than 2 offsets. To avoid this increase `last_window` size or decrease the number of offsets. The current configuration needs a total offset of <20 * Days>.\n",
      "  f\"this warning, increase last_window size or decrease the number \"\n"
     ]
    },
    {
     "data": {
      "text/html": [
       "<div>\n",
       "<style scoped>\n",
       "    .dataframe tbody tr th:only-of-type {\n",
       "        vertical-align: middle;\n",
       "    }\n",
       "\n",
       "    .dataframe tbody tr th {\n",
       "        vertical-align: top;\n",
       "    }\n",
       "\n",
       "    .dataframe thead th {\n",
       "        text-align: right;\n",
       "    }\n",
       "</style>\n",
       "<table border=\"1\" class=\"dataframe\">\n",
       "  <thead>\n",
       "    <tr style=\"text-align: right;\">\n",
       "      <th></th>\n",
       "      <th>pred</th>\n",
       "    </tr>\n",
       "  </thead>\n",
       "  <tbody>\n",
       "    <tr>\n",
       "      <th>2000-01-11</th>\n",
       "      <td>0.0</td>\n",
       "    </tr>\n",
       "    <tr>\n",
       "      <th>2000-01-12</th>\n",
       "      <td>1.0</td>\n",
       "    </tr>\n",
       "    <tr>\n",
       "      <th>2000-01-13</th>\n",
       "      <td>2.0</td>\n",
       "    </tr>\n",
       "    <tr>\n",
       "      <th>2000-01-14</th>\n",
       "      <td>3.0</td>\n",
       "    </tr>\n",
       "    <tr>\n",
       "      <th>2000-01-15</th>\n",
       "      <td>4.0</td>\n",
       "    </tr>\n",
       "    <tr>\n",
       "      <th>...</th>\n",
       "      <td>...</td>\n",
       "    </tr>\n",
       "    <tr>\n",
       "      <th>2000-12-26</th>\n",
       "      <td>350.0</td>\n",
       "    </tr>\n",
       "    <tr>\n",
       "      <th>2000-12-27</th>\n",
       "      <td>351.0</td>\n",
       "    </tr>\n",
       "    <tr>\n",
       "      <th>2000-12-28</th>\n",
       "      <td>352.0</td>\n",
       "    </tr>\n",
       "    <tr>\n",
       "      <th>2000-12-29</th>\n",
       "      <td>353.0</td>\n",
       "    </tr>\n",
       "    <tr>\n",
       "      <th>2000-12-30</th>\n",
       "      <td>354.0</td>\n",
       "    </tr>\n",
       "  </tbody>\n",
       "</table>\n",
       "<p>355 rows × 1 columns</p>\n",
       "</div>"
      ],
      "text/plain": [
       "             pred\n",
       "2000-01-11    0.0\n",
       "2000-01-12    1.0\n",
       "2000-01-13    2.0\n",
       "2000-01-14    3.0\n",
       "2000-01-15    4.0\n",
       "...           ...\n",
       "2000-12-26  350.0\n",
       "2000-12-27  351.0\n",
       "2000-12-28  352.0\n",
       "2000-12-29  353.0\n",
       "2000-12-30  354.0\n",
       "\n",
       "[355 rows x 1 columns]"
      ]
     },
     "execution_count": 21,
     "metadata": {},
     "output_type": "execute_result"
    }
   ],
   "source": [
    "forecaster = ForecasterEquivalentDate(\n",
    "    offset = offsets.Day(10),\n",
    "    n_offsets=2\n",
    ")\n",
    "\n",
    "metric, predictions_2 = backtesting_forecaster(\n",
    "    forecaster=forecaster,\n",
    "    y=y,\n",
    "    initial_train_size=10,\n",
    "    steps=15,\n",
    "    metric='mean_absolute_error',\n",
    "    verbose=False,\n",
    "    n_jobs=1\n",
    ")\n",
    "predictions_2"
   ]
  },
  {
   "cell_type": "code",
   "execution_count": null,
   "metadata": {},
   "outputs": [],
   "source": [
    "pd.testing.assert_frame_equal(predictions_1, predictions_2)"
   ]
  }
 ],
 "metadata": {
  "kernelspec": {
   "display_name": "skforecast_py10",
   "language": "python",
   "name": "python3"
  },
  "language_info": {
   "codemirror_mode": {
    "name": "ipython",
    "version": 3
   },
   "file_extension": ".py",
   "mimetype": "text/x-python",
   "name": "python",
   "nbconvert_exporter": "python",
   "pygments_lexer": "ipython3",
   "version": "3.11.4"
  },
  "orig_nbformat": 4,
  "vscode": {
   "interpreter": {
    "hash": "c78d62c1713fdacd99ef7c429003c7324b36fbb551fb8b6860a7ea73e9338235"
   }
  }
 },
 "nbformat": 4,
 "nbformat_minor": 2
}
