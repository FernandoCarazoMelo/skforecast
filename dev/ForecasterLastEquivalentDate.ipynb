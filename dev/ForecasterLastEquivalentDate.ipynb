{
 "cells": [
  {
   "cell_type": "code",
   "execution_count": 1,
   "metadata": {},
   "outputs": [
    {
     "data": {
      "text/plain": [
       "'c:\\\\Users\\\\jaesc2\\\\GitHub\\\\skforecast'"
      ]
     },
     "execution_count": 1,
     "metadata": {},
     "output_type": "execute_result"
    }
   ],
   "source": [
    "%load_ext autoreload\n",
    "%autoreload 2\n",
    "import sys\n",
    "from pathlib import Path\n",
    "sys.path.insert(1, str(Path.cwd().parent))\n",
    "str(Path.cwd().parent)"
   ]
  },
  {
   "cell_type": "code",
   "execution_count": 2,
   "metadata": {},
   "outputs": [
    {
     "name": "stdout",
     "output_type": "stream",
     "text": [
      "0.10.1\n"
     ]
    }
   ],
   "source": [
    "from skforecast.ForecasterBaseline import ForecasterEquivalentDate\n",
    "from skforecast.model_selection import backtesting_forecaster\n",
    "import numpy as np\n",
    "import pandas as pd\n",
    "from pandas.tseries.offsets import DateOffset\n",
    "from pandas.tseries import offsets\n",
    "from skforecast import __version__\n",
    "print(__version__)\n"
   ]
  },
  {
   "cell_type": "code",
   "execution_count": 3,
   "metadata": {},
   "outputs": [
    {
     "data": {
      "text/plain": [
       "2000-01-01      0\n",
       "2000-01-02      1\n",
       "2000-01-03      2\n",
       "2000-01-04      3\n",
       "2000-01-05      4\n",
       "             ... \n",
       "2000-12-26    360\n",
       "2000-12-27    361\n",
       "2000-12-28    362\n",
       "2000-12-29    363\n",
       "2000-12-30    364\n",
       "Freq: D, Length: 365, dtype: int32"
      ]
     },
     "execution_count": 3,
     "metadata": {},
     "output_type": "execute_result"
    }
   ],
   "source": [
    "# simulate a time series\n",
    "n = 365\n",
    "y = pd.Series(\n",
    "    data=np.arange(n),\n",
    "    index = pd.date_range(start='2000-01-01', periods=n, freq='d')\n",
    ")\n",
    "y"
   ]
  },
  {
   "cell_type": "code",
   "execution_count": 4,
   "metadata": {},
   "outputs": [
    {
     "data": {
      "text/plain": [
       "======================== \n",
       "ForecasterEquivalentDate \n",
       "======================== \n",
       "Offset: 10 \n",
       "Number of offsets: 2 \n",
       "Aggregation function: mean \n",
       "Window size: 20 \n",
       "Training range: [Timestamp('2000-01-01 00:00:00'), Timestamp('2000-12-30 00:00:00')] \n",
       "Training index type: DatetimeIndex \n",
       "Training index frequency: D \n",
       "Creation date: 2023-11-12 00:18:43 \n",
       "Last fit date: 2023-11-12 00:18:43 \n",
       "Skforecast version: 0.10.1 \n",
       "Python version: 3.10.11 \n",
       "Forecaster id: None "
      ]
     },
     "execution_count": 4,
     "metadata": {},
     "output_type": "execute_result"
    }
   ],
   "source": [
    "forecaster = ForecasterEquivalentDate(offset=10, n_offsets=2)\n",
    "forecaster.fit(y=y)\n",
    "forecaster"
   ]
  },
  {
   "cell_type": "code",
   "execution_count": 5,
   "metadata": {},
   "outputs": [
    {
     "data": {
      "text/plain": [
       "2000-12-31    350.0\n",
       "2001-01-01    351.0\n",
       "2001-01-02    352.0\n",
       "2001-01-03    353.0\n",
       "2001-01-04    354.0\n",
       "2001-01-05    355.0\n",
       "2001-01-06    356.0\n",
       "2001-01-07    357.0\n",
       "2001-01-08    358.0\n",
       "2001-01-09    359.0\n",
       "2001-01-10    350.0\n",
       "2001-01-11    351.0\n",
       "2001-01-12    352.0\n",
       "2001-01-13    353.0\n",
       "2001-01-14    354.0\n",
       "Freq: D, Name: pred, dtype: float64"
      ]
     },
     "execution_count": 5,
     "metadata": {},
     "output_type": "execute_result"
    }
   ],
   "source": [
    "forecaster.predict(steps=15)"
   ]
  },
  {
   "cell_type": "code",
   "execution_count": 6,
   "metadata": {},
   "outputs": [
    {
     "data": {
      "application/vnd.jupyter.widget-view+json": {
       "model_id": "b469cdb3d18e4cccbb1ddf0e053132a6",
       "version_major": 2,
       "version_minor": 0
      },
      "text/plain": [
       "  0%|          | 0/23 [00:00<?, ?it/s]"
      ]
     },
     "metadata": {},
     "output_type": "display_data"
    }
   ],
   "source": [
    "metric, predictions_1 = backtesting_forecaster(\n",
    "    forecaster=forecaster,\n",
    "    y=y,\n",
    "    initial_train_size=20,\n",
    "    steps=15,\n",
    "    metric='mean_absolute_error',\n",
    "    verbose=False\n",
    ")"
   ]
  },
  {
   "cell_type": "code",
   "execution_count": 7,
   "metadata": {},
   "outputs": [
    {
     "data": {
      "text/plain": [
       "======================== \n",
       "ForecasterEquivalentDate \n",
       "======================== \n",
       "Offset: <10 * Days> \n",
       "Number of offsets: 2 \n",
       "Aggregation function: mean \n",
       "Window size: 20 \n",
       "Training range: [Timestamp('2000-01-01 00:00:00'), Timestamp('2000-12-30 00:00:00')] \n",
       "Training index type: DatetimeIndex \n",
       "Training index frequency: D \n",
       "Creation date: 2023-11-12 00:18:46 \n",
       "Last fit date: 2023-11-12 00:18:46 \n",
       "Skforecast version: 0.10.1 \n",
       "Python version: 3.10.11 \n",
       "Forecaster id: None "
      ]
     },
     "execution_count": 7,
     "metadata": {},
     "output_type": "execute_result"
    }
   ],
   "source": [
    "forecaster = ForecasterEquivalentDate(\n",
    "    offset=offsets.Day(10),\n",
    "    n_offsets=2\n",
    ")\n",
    "forecaster.fit(y=y)\n",
    "forecaster"
   ]
  },
  {
   "cell_type": "code",
   "execution_count": 8,
   "metadata": {},
   "outputs": [
    {
     "data": {
      "text/plain": [
       "2000-12-31    350.0\n",
       "2001-01-01    351.0\n",
       "2001-01-02    352.0\n",
       "2001-01-03    353.0\n",
       "2001-01-04    354.0\n",
       "2001-01-05    355.0\n",
       "2001-01-06    356.0\n",
       "2001-01-07    357.0\n",
       "2001-01-08    358.0\n",
       "2001-01-09    359.0\n",
       "2001-01-10    350.0\n",
       "2001-01-11    351.0\n",
       "2001-01-12    352.0\n",
       "2001-01-13    353.0\n",
       "2001-01-14    354.0\n",
       "Freq: D, Name: pred, dtype: float64"
      ]
     },
     "execution_count": 8,
     "metadata": {},
     "output_type": "execute_result"
    }
   ],
   "source": [
    "forecaster.predict(steps=15)"
   ]
  },
  {
   "cell_type": "code",
   "execution_count": 9,
   "metadata": {},
   "outputs": [
    {
     "name": "stdout",
     "output_type": "stream",
     "text": [
      "None\n"
     ]
    },
    {
     "data": {
      "application/vnd.jupyter.widget-view+json": {
       "model_id": "090eb88799c545c89c0b869472ab68fd",
       "version_major": 2,
       "version_minor": 0
      },
      "text/plain": [
       "  0%|          | 0/23 [00:00<?, ?it/s]"
      ]
     },
     "metadata": {},
     "output_type": "display_data"
    },
    {
     "data": {
      "text/html": [
       "<div>\n",
       "<style scoped>\n",
       "    .dataframe tbody tr th:only-of-type {\n",
       "        vertical-align: middle;\n",
       "    }\n",
       "\n",
       "    .dataframe tbody tr th {\n",
       "        vertical-align: top;\n",
       "    }\n",
       "\n",
       "    .dataframe thead th {\n",
       "        text-align: right;\n",
       "    }\n",
       "</style>\n",
       "<table border=\"1\" class=\"dataframe\">\n",
       "  <thead>\n",
       "    <tr style=\"text-align: right;\">\n",
       "      <th></th>\n",
       "      <th>pred</th>\n",
       "    </tr>\n",
       "  </thead>\n",
       "  <tbody>\n",
       "    <tr>\n",
       "      <th>2000-01-21</th>\n",
       "      <td>5.0</td>\n",
       "    </tr>\n",
       "    <tr>\n",
       "      <th>2000-01-22</th>\n",
       "      <td>6.0</td>\n",
       "    </tr>\n",
       "    <tr>\n",
       "      <th>2000-01-23</th>\n",
       "      <td>7.0</td>\n",
       "    </tr>\n",
       "    <tr>\n",
       "      <th>2000-01-24</th>\n",
       "      <td>8.0</td>\n",
       "    </tr>\n",
       "    <tr>\n",
       "      <th>2000-01-25</th>\n",
       "      <td>9.0</td>\n",
       "    </tr>\n",
       "    <tr>\n",
       "      <th>...</th>\n",
       "      <td>...</td>\n",
       "    </tr>\n",
       "    <tr>\n",
       "      <th>2000-12-26</th>\n",
       "      <td>335.0</td>\n",
       "    </tr>\n",
       "    <tr>\n",
       "      <th>2000-12-27</th>\n",
       "      <td>336.0</td>\n",
       "    </tr>\n",
       "    <tr>\n",
       "      <th>2000-12-28</th>\n",
       "      <td>337.0</td>\n",
       "    </tr>\n",
       "    <tr>\n",
       "      <th>2000-12-29</th>\n",
       "      <td>338.0</td>\n",
       "    </tr>\n",
       "    <tr>\n",
       "      <th>2000-12-30</th>\n",
       "      <td>339.0</td>\n",
       "    </tr>\n",
       "  </tbody>\n",
       "</table>\n",
       "<p>345 rows × 1 columns</p>\n",
       "</div>"
      ],
      "text/plain": [
       "             pred\n",
       "2000-01-21    5.0\n",
       "2000-01-22    6.0\n",
       "2000-01-23    7.0\n",
       "2000-01-24    8.0\n",
       "2000-01-25    9.0\n",
       "...           ...\n",
       "2000-12-26  335.0\n",
       "2000-12-27  336.0\n",
       "2000-12-28  337.0\n",
       "2000-12-29  338.0\n",
       "2000-12-30  339.0\n",
       "\n",
       "[345 rows x 1 columns]"
      ]
     },
     "execution_count": 9,
     "metadata": {},
     "output_type": "execute_result"
    }
   ],
   "source": [
    "forecaster = ForecasterEquivalentDate(\n",
    "    offset = offsets.Day(10),\n",
    "    n_offsets=2\n",
    ")\n",
    "\n",
    "print(forecaster.regressor)\n",
    "\n",
    "metric, predictions_2 = backtesting_forecaster(\n",
    "    forecaster=forecaster,\n",
    "    y=y,\n",
    "    initial_train_size=20,\n",
    "    steps=15,\n",
    "    metric='mean_absolute_error',\n",
    "    refit=True,\n",
    "    verbose=False,\n",
    "    n_jobs='auto'\n",
    ")\n",
    "predictions_2"
   ]
  },
  {
   "cell_type": "code",
   "execution_count": 10,
   "metadata": {},
   "outputs": [],
   "source": [
    "pd.testing.assert_frame_equal(predictions_1, predictions_2)"
   ]
  },
  {
   "cell_type": "code",
   "execution_count": 38,
   "metadata": {},
   "outputs": [
    {
     "data": {
      "text/plain": [
       "array([345, 346, 347, 348, 349, 350, 351, 352, 353, 354, 355, 356, 357,\n",
       "       358, 359, 360, 361, 362, 363, 364])"
      ]
     },
     "execution_count": 38,
     "metadata": {},
     "output_type": "execute_result"
    }
   ],
   "source": [
    "last_window_values = y.iloc[-20:].to_numpy()\n",
    "last_window_values"
   ]
  },
  {
   "cell_type": "code",
   "execution_count": 45,
   "metadata": {},
   "outputs": [
    {
     "data": {
      "text/plain": [
       "array([-7, -6, -5, -4, -3, -2, -1])"
      ]
     },
     "execution_count": 45,
     "metadata": {},
     "output_type": "execute_result"
    }
   ],
   "source": [
    "offset = 7\n",
    "n_offsets = 1\n",
    "steps = 5\n",
    "\n",
    "equivalent_indexes = np.tile(\n",
    "                        np.arange(-offset, 0),\n",
    "                        int(np.ceil(steps/offset))\n",
    "                    )\n",
    "\n",
    "equivalent_indexes"
   ]
  },
  {
   "cell_type": "code",
   "execution_count": 46,
   "metadata": {},
   "outputs": [
    {
     "name": "stdout",
     "output_type": "stream",
     "text": [
      "[-7 -6 -5 -4 -3]\n",
      "[358 359 360 361 362]\n"
     ]
    },
    {
     "data": {
      "text/plain": [
       "array([358, 359, 360, 361, 362])"
      ]
     },
     "execution_count": 46,
     "metadata": {},
     "output_type": "execute_result"
    }
   ],
   "source": [
    "# When n_offsets == 1\n",
    "equivalent_indexes = equivalent_indexes[:steps]\n",
    "print(equivalent_indexes)\n",
    "equivalent_values = last_window_values[equivalent_indexes]\n",
    "print(equivalent_values)\n",
    "equivalent_values.ravel()"
   ]
  },
  {
   "cell_type": "code",
   "execution_count": 47,
   "metadata": {},
   "outputs": [
    {
     "data": {
      "text/plain": [
       "array([-7, -6, -5, -4, -3, -2, -1])"
      ]
     },
     "execution_count": 47,
     "metadata": {},
     "output_type": "execute_result"
    }
   ],
   "source": [
    "offset = 7\n",
    "n_offsets = 2\n",
    "steps = 5\n",
    "\n",
    "equivalent_indexes = np.tile(\n",
    "                        np.arange(-offset, 0),\n",
    "                        int(np.ceil(steps/offset))\n",
    "                    )\n",
    "\n",
    "equivalent_indexes"
   ]
  },
  {
   "cell_type": "code",
   "execution_count": 48,
   "metadata": {},
   "outputs": [
    {
     "name": "stdout",
     "output_type": "stream",
     "text": [
      "[array([-7, -6, -5, -4, -3, -2, -1]), array([-14, -13, -12, -11, -10,  -9,  -8])]\n",
      "[[ -7  -6  -5  -4  -3  -2  -1]\n",
      " [-14 -13 -12 -11 -10  -9  -8]]\n",
      "[[358 359 360 361 362 363 364]\n",
      " [351 352 353 354 355 356 357]]\n",
      "[354.5 355.5 356.5 357.5 358.5 359.5 360.5]\n"
     ]
    }
   ],
   "source": [
    "# When n_offsets > 1\n",
    "equivalent_indexes = [equivalent_indexes - n * offset \n",
    "                      for n in np.arange(n_offsets)]\n",
    "print(equivalent_indexes)\n",
    "equivalent_indexes = np.vstack(equivalent_indexes)\n",
    "print(equivalent_indexes)\n",
    "equivalent_values = last_window_values[equivalent_indexes]\n",
    "print(equivalent_values)\n",
    "predictions = np.apply_along_axis(\n",
    "                np.mean,\n",
    "                axis = 0,\n",
    "                arr  = equivalent_values\n",
    "            )\n",
    "print(predictions)"
   ]
  },
  {
   "cell_type": "code",
   "execution_count": 50,
   "metadata": {},
   "outputs": [
    {
     "data": {
      "text/plain": [
       "array([345, 346, 347, 348, 349, 350, 351, 352, 353, 354, 355, 356, 357,\n",
       "       358, 359, 360, 361, 362, 363, 364])"
      ]
     },
     "execution_count": 50,
     "metadata": {},
     "output_type": "execute_result"
    }
   ],
   "source": [
    "last_window_values"
   ]
  },
  {
   "cell_type": "code",
   "execution_count": 52,
   "metadata": {},
   "outputs": [
    {
     "data": {
      "text/plain": [
       "DatetimeIndex(['2000-12-11', '2000-12-12', '2000-12-13', '2000-12-14',\n",
       "               '2000-12-15', '2000-12-16', '2000-12-17', '2000-12-18',\n",
       "               '2000-12-19', '2000-12-20', '2000-12-21', '2000-12-22',\n",
       "               '2000-12-23', '2000-12-24', '2000-12-25', '2000-12-26',\n",
       "               '2000-12-27', '2000-12-28', '2000-12-29', '2000-12-30'],\n",
       "              dtype='datetime64[ns]', freq='D')"
      ]
     },
     "execution_count": 52,
     "metadata": {},
     "output_type": "execute_result"
    }
   ],
   "source": [
    "y.index[-20:]"
   ]
  },
  {
   "cell_type": "code",
   "execution_count": 89,
   "metadata": {},
   "outputs": [],
   "source": [
    "offset = pd.offsets.Day(6)\n",
    "n_offsets = 2\n",
    "steps = 5"
   ]
  },
  {
   "cell_type": "code",
   "execution_count": 88,
   "metadata": {},
   "outputs": [
    {
     "data": {
      "text/plain": [
       "array([354, 355, 356, 357, 358, 359, 360, 361, 362, 363, 364])"
      ]
     },
     "execution_count": 88,
     "metadata": {},
     "output_type": "execute_result"
    }
   ],
   "source": [
    "last_window_values = y.iloc[-11:].to_numpy()\n",
    "last_window_values"
   ]
  },
  {
   "cell_type": "code",
   "execution_count": 90,
   "metadata": {},
   "outputs": [
    {
     "name": "stdout",
     "output_type": "stream",
     "text": [
      "DatetimeIndex(['2000-12-31', '2001-01-01', '2001-01-02', '2001-01-03',\n",
      "               '2001-01-04'],\n",
      "              dtype='datetime64[ns]', freq='D')\n",
      "2000-12-30 00:00:00\n"
     ]
    }
   ],
   "source": [
    "from skforecast.utils import expand_index\n",
    "\n",
    "predictions_index = expand_index(index=y.index[-11:], steps=steps)\n",
    "print(predictions_index)\n",
    "max_allowed_date = y.index[-11:][-1]\n",
    "print(max_allowed_date)"
   ]
  },
  {
   "cell_type": "code",
   "execution_count": 91,
   "metadata": {},
   "outputs": [
    {
     "name": "stdout",
     "output_type": "stream",
     "text": [
      "[[Timestamp('2000-12-25 00:00:00') Timestamp('2000-12-19 00:00:00')]\n",
      " [Timestamp('2000-12-26 00:00:00') Timestamp('2000-12-20 00:00:00')]\n",
      " [Timestamp('2000-12-27 00:00:00') Timestamp('2000-12-21 00:00:00')]\n",
      " [Timestamp('2000-12-28 00:00:00') Timestamp('2000-12-22 00:00:00')]\n",
      " [Timestamp('2000-12-29 00:00:00') Timestamp('2000-12-23 00:00:00')]]\n"
     ]
    }
   ],
   "source": [
    "offset_dates = []\n",
    "for date in predictions_index:\n",
    "    selected_offsets = []\n",
    "    while len(selected_offsets) < n_offsets:\n",
    "        offset_date = date - offset\n",
    "        if offset_date <= max_allowed_date:\n",
    "            selected_offsets.append(offset_date)\n",
    "        date = offset_date\n",
    "    offset_dates.append(selected_offsets)\n",
    "\n",
    "offset_dates = np.array(offset_dates)\n",
    "print(offset_dates)"
   ]
  },
  {
   "cell_type": "code",
   "execution_count": 92,
   "metadata": {},
   "outputs": [
    {
     "data": {
      "text/plain": [
       "array([Timestamp('2000-12-25 00:00:00'), Timestamp('2000-12-19 00:00:00'),\n",
       "       Timestamp('2000-12-26 00:00:00'), Timestamp('2000-12-20 00:00:00'),\n",
       "       Timestamp('2000-12-27 00:00:00'), Timestamp('2000-12-21 00:00:00'),\n",
       "       Timestamp('2000-12-28 00:00:00'), Timestamp('2000-12-22 00:00:00'),\n",
       "       Timestamp('2000-12-29 00:00:00'), Timestamp('2000-12-23 00:00:00')],\n",
       "      dtype=object)"
      ]
     },
     "execution_count": 92,
     "metadata": {},
     "output_type": "execute_result"
    }
   ],
   "source": [
    "offset_dates.ravel()"
   ]
  },
  {
   "cell_type": "code",
   "execution_count": 93,
   "metadata": {},
   "outputs": [
    {
     "data": {
      "text/plain": [
       "array([[359.,  nan],\n",
       "       [360., 354.],\n",
       "       [361., 355.],\n",
       "       [362., 356.],\n",
       "       [363., 357.]])"
      ]
     },
     "execution_count": 93,
     "metadata": {},
     "output_type": "execute_result"
    }
   ],
   "source": [
    "equivalent_values = (\n",
    "    y.iloc[-11:,].\n",
    "    reindex(offset_dates.ravel())\n",
    "    .to_numpy()\n",
    "    .reshape(-1, n_offsets)\n",
    ")\n",
    "equivalent_values"
   ]
  },
  {
   "cell_type": "code",
   "execution_count": 94,
   "metadata": {},
   "outputs": [
    {
     "data": {
      "text/html": [
       "<div>\n",
       "<style scoped>\n",
       "    .dataframe tbody tr th:only-of-type {\n",
       "        vertical-align: middle;\n",
       "    }\n",
       "\n",
       "    .dataframe tbody tr th {\n",
       "        vertical-align: top;\n",
       "    }\n",
       "\n",
       "    .dataframe thead th {\n",
       "        text-align: right;\n",
       "    }\n",
       "</style>\n",
       "<table border=\"1\" class=\"dataframe\">\n",
       "  <thead>\n",
       "    <tr style=\"text-align: right;\">\n",
       "      <th></th>\n",
       "      <th>offset_0</th>\n",
       "      <th>offset_1</th>\n",
       "    </tr>\n",
       "  </thead>\n",
       "  <tbody>\n",
       "    <tr>\n",
       "      <th>2000-12-31</th>\n",
       "      <td>359.0</td>\n",
       "      <td>NaN</td>\n",
       "    </tr>\n",
       "    <tr>\n",
       "      <th>2001-01-01</th>\n",
       "      <td>360.0</td>\n",
       "      <td>354.0</td>\n",
       "    </tr>\n",
       "    <tr>\n",
       "      <th>2001-01-02</th>\n",
       "      <td>361.0</td>\n",
       "      <td>355.0</td>\n",
       "    </tr>\n",
       "    <tr>\n",
       "      <th>2001-01-03</th>\n",
       "      <td>362.0</td>\n",
       "      <td>356.0</td>\n",
       "    </tr>\n",
       "    <tr>\n",
       "      <th>2001-01-04</th>\n",
       "      <td>363.0</td>\n",
       "      <td>357.0</td>\n",
       "    </tr>\n",
       "  </tbody>\n",
       "</table>\n",
       "</div>"
      ],
      "text/plain": [
       "            offset_0  offset_1\n",
       "2000-12-31     359.0       NaN\n",
       "2001-01-01     360.0     354.0\n",
       "2001-01-02     361.0     355.0\n",
       "2001-01-03     362.0     356.0\n",
       "2001-01-04     363.0     357.0"
      ]
     },
     "execution_count": 94,
     "metadata": {},
     "output_type": "execute_result"
    }
   ],
   "source": [
    "equivalent_values = pd.DataFrame(\n",
    "                                    data    = equivalent_values,\n",
    "                                    index   = predictions_index,\n",
    "                                    columns = [f'offset_{i}' \n",
    "                                               for i in range(n_offsets)]\n",
    "                                )\n",
    "equivalent_values"
   ]
  },
  {
   "cell_type": "code",
   "execution_count": 97,
   "metadata": {},
   "outputs": [
    {
     "data": {
      "text/plain": [
       "DatetimeIndex(['2000-12-31'], dtype='datetime64[ns]', freq='D')"
      ]
     },
     "execution_count": 97,
     "metadata": {},
     "output_type": "execute_result"
    }
   ],
   "source": [
    "incomplete_offsets = equivalent_values.isnull().any(axis=1)\n",
    "incomplete_offsets = incomplete_offsets[incomplete_offsets].index\n",
    "incomplete_offsets"
   ]
  },
  {
   "cell_type": "code",
   "execution_count": 98,
   "metadata": {},
   "outputs": [
    {
     "data": {
      "text/plain": [
       "\"Steps: ['2000-12-31'] are calculated with less than 2 offsets. To avoid this increase `last_window` size or decrease the number of offsets. The current configuration needs a total offset of <12 * Days>.\""
      ]
     },
     "execution_count": 98,
     "metadata": {},
     "output_type": "execute_result"
    }
   ],
   "source": [
    "(f\"Steps: {incomplete_offsets.strftime('%Y-%m-%d').to_list()} \"\n",
    "f\"are calculated with less than {n_offsets} offsets. To avoid \"\n",
    "f\"this increase `last_window` size or decrease the number \"\n",
    "f\"of offsets. The current configuration needs a total offset \"\n",
    "f\"of {offset * n_offsets}.\")"
   ]
  },
  {
   "cell_type": "code",
   "execution_count": 95,
   "metadata": {},
   "outputs": [
    {
     "data": {
      "text/plain": [
       "2000-12-31    359.0\n",
       "2001-01-01    357.0\n",
       "2001-01-02    358.0\n",
       "2001-01-03    359.0\n",
       "2001-01-04    360.0\n",
       "Freq: D, dtype: float64"
      ]
     },
     "execution_count": 95,
     "metadata": {},
     "output_type": "execute_result"
    }
   ],
   "source": [
    "aggregate_values = equivalent_values.apply(np.mean, axis=1)\n",
    "aggregate_values"
   ]
  },
  {
   "cell_type": "code",
   "execution_count": null,
   "metadata": {},
   "outputs": [],
   "source": []
  }
 ],
 "metadata": {
  "kernelspec": {
   "display_name": "skforecast_py10",
   "language": "python",
   "name": "python3"
  },
  "language_info": {
   "codemirror_mode": {
    "name": "ipython",
    "version": 3
   },
   "file_extension": ".py",
   "mimetype": "text/x-python",
   "name": "python",
   "nbconvert_exporter": "python",
   "pygments_lexer": "ipython3",
   "version": "3.10.11"
  },
  "orig_nbformat": 4,
  "vscode": {
   "interpreter": {
    "hash": "c78d62c1713fdacd99ef7c429003c7324b36fbb551fb8b6860a7ea73e9338235"
   }
  }
 },
 "nbformat": 4,
 "nbformat_minor": 2
}
