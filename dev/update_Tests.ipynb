{
 "cells": [
  {
   "cell_type": "code",
   "execution_count": 1,
   "metadata": {},
   "outputs": [
    {
     "name": "stdout",
     "output_type": "stream",
     "text": [
      "c:\\Users\\jaesc2\\GitHub\\skforecast\n"
     ]
    }
   ],
   "source": [
    "%load_ext autoreload\n",
    "%autoreload 2\n",
    "import sys\n",
    "from pathlib import Path\n",
    "path = str(Path.cwd().parent)\n",
    "print(path)\n",
    "sys.path.insert(1, path)"
   ]
  },
  {
   "cell_type": "code",
   "execution_count": 55,
   "metadata": {},
   "outputs": [],
   "source": [
    "import pytest\n",
    "import numpy as np\n",
    "import pandas as pd\n",
    "from sklearn.linear_model import LinearRegression\n",
    "from sklearn.linear_model import Ridge\n",
    "from sklearn.metrics import mean_squared_error\n",
    "from skforecast.ForecasterAutoreg import ForecasterAutoreg\n",
    "from skforecast.ForecasterAutoregCustom import ForecasterAutoregCustom\n",
    "from skforecast.ForecasterAutoregDirect import ForecasterAutoregDirect\n",
    "from skforecast.model_selection.model_selection import _backtesting_forecaster\n",
    "\n",
    "# Fixtures\n",
    "from skforecast.model_selection.tests.fixtures_model_selection import y\n",
    "from skforecast.model_selection.tests.fixtures_model_selection import exog\n",
    "from skforecast.model_selection.tests.fixtures_model_selection import out_sample_residuals"
   ]
  },
  {
   "cell_type": "code",
   "execution_count": 62,
   "metadata": {},
   "outputs": [
    {
     "name": "stderr",
     "output_type": "stream",
     "text": [
      "c:\\Users\\jaesc2\\GitHub\\skforecast\\skforecast\\model_selection\\model_selection.py:406: IgnoredArgumentWarning: If `refit` is an integer other than 1 (intermittent refit). `n_jobs` is set to 1 to avoid unexpected results during parallelization. \n",
      " You can suppress this warning using: warnings.simplefilter('ignore', category=IgnoredArgumentWarning)\n",
      "  warnings.warn(\n"
     ]
    },
    {
     "data": {
      "application/vnd.jupyter.widget-view+json": {
       "model_id": "b466c4bf9e954feab6d6d98d0bcdbef2",
       "version_major": 2,
       "version_minor": 0
      },
      "text/plain": [
       "  0%|          | 0/4 [00:00<?, ?it/s]"
      ]
     },
     "metadata": {},
     "output_type": "display_data"
    }
   ],
   "source": [
    "    \n",
    "y_with_index = y.copy()\n",
    "y_with_index.index = pd.date_range(start='2022-01-01', periods=50, freq='D')\n",
    "exog_with_index = exog.copy()\n",
    "exog_with_index.index = pd.date_range(start='2022-01-01', periods=50, freq='D')\n",
    "forecaster = ForecasterAutoreg(regressor=Ridge(random_state=123), \n",
    "                                   lags=3, binner_kwargs={'n_bins': 15})\n",
    "\n",
    "\n",
    "metric, backtest_predictions = _backtesting_forecaster(\n",
    "                                    forecaster              = forecaster,\n",
    "                                    y                       = y_with_index,\n",
    "                                    exog                    = exog_with_index,\n",
    "                                    refit                   = 3,\n",
    "                                    initial_train_size      = len(y_with_index) - 20,\n",
    "                                    fixed_train_size        = True,\n",
    "                                    gap                     = 3,\n",
    "                                    allow_incomplete_fold   = False,\n",
    "                                    steps                   = 4,\n",
    "                                    metric                  = 'mean_squared_error',\n",
    "                                    interval                = [5, 95],\n",
    "                                    n_boot                  = 500,\n",
    "                                    random_state            = 123,\n",
    "                                    use_in_sample_residuals = True,\n",
    "                                    verbose                 = False,\n",
    "                                    n_jobs                  = 2\n",
    "                                )"
   ]
  },
  {
   "cell_type": "code",
   "execution_count": 63,
   "metadata": {},
   "outputs": [
    {
     "name": "stdout",
     "output_type": "stream",
     "text": [
      "   mean_squared_error\n",
      "0            0.060992\n"
     ]
    }
   ],
   "source": [
    "print(metric)"
   ]
  },
  {
   "cell_type": "code",
   "execution_count": 64,
   "metadata": {},
   "outputs": [
    {
     "data": {
      "text/plain": [
       "array([[0.51878642, 0.19491548, 0.86522758],\n",
       "       [0.49269791, 0.15037971, 0.85925162],\n",
       "       [0.49380441, 0.1639645 , 0.89759979],\n",
       "       [0.51467463, 0.15567332, 0.88191791],\n",
       "       [0.52690045, 0.20302951, 0.87334162],\n",
       "       [0.51731996, 0.17500175, 0.88387367],\n",
       "       [0.51290311, 0.18306321, 0.9166985 ],\n",
       "       [0.50334306, 0.14434174, 0.87058633],\n",
       "       [0.50171526, 0.17784432, 0.84815642],\n",
       "       [0.50946908, 0.16715088, 0.87602279],\n",
       "       [0.50200357, 0.17216366, 0.90579895],\n",
       "       [0.50436041, 0.1453591 , 0.87160369],\n",
       "       [0.4534189 , 0.08003548, 0.82515615],\n",
       "       [0.52621695, 0.17498193, 0.91058562],\n",
       "       [0.50477802, 0.14697488, 0.88219215],\n",
       "       [0.52235258, 0.14985376, 0.90260343]])"
      ]
     },
     "execution_count": 64,
     "metadata": {},
     "output_type": "execute_result"
    }
   ],
   "source": [
    "backtest_predictions.to_numpy()"
   ]
  },
  {
   "cell_type": "code",
   "execution_count": 53,
   "metadata": {},
   "outputs": [
    {
     "data": {
      "text/plain": [
       "DatetimeIndex(['2022-02-03', '2022-02-04', '2022-02-05', '2022-02-06',\n",
       "               '2022-02-07', '2022-02-08', '2022-02-09', '2022-02-10',\n",
       "               '2022-02-11', '2022-02-12', '2022-02-13', '2022-02-14',\n",
       "               '2022-02-15', '2022-02-16', '2022-02-17'],\n",
       "              dtype='datetime64[ns]', freq='D')"
      ]
     },
     "execution_count": 53,
     "metadata": {},
     "output_type": "execute_result"
    }
   ],
   "source": [
    "backtest_predictions.index"
   ]
  },
  {
   "cell_type": "code",
   "execution_count": null,
   "metadata": {},
   "outputs": [],
   "source": []
  }
 ],
 "metadata": {
  "kernelspec": {
   "display_name": "skforecast_py10",
   "language": "python",
   "name": "python3"
  },
  "language_info": {
   "codemirror_mode": {
    "name": "ipython",
    "version": 3
   },
   "file_extension": ".py",
   "mimetype": "text/x-python",
   "name": "python",
   "nbconvert_exporter": "python",
   "pygments_lexer": "ipython3",
   "version": "3.12.4"
  },
  "orig_nbformat": 4,
  "vscode": {
   "interpreter": {
    "hash": "c78d62c1713fdacd99ef7c429003c7324b36fbb551fb8b6860a7ea73e9338235"
   }
  }
 },
 "nbformat": 4,
 "nbformat_minor": 2
}
