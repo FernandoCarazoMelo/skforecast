{
 "cells": [
  {
   "cell_type": "code",
   "execution_count": 1,
   "metadata": {},
   "outputs": [
    {
     "data": {
      "text/plain": [
       "'/home/ubuntu/varios/skforecast'"
      ]
     },
     "execution_count": 1,
     "metadata": {},
     "output_type": "execute_result"
    }
   ],
   "source": [
    "%load_ext autoreload\n",
    "%autoreload 2\n",
    "import sys\n",
    "from pathlib import Path\n",
    "sys.path.insert(1, str(Path.cwd().parent))\n",
    "str(Path.cwd().parent)"
   ]
  },
  {
   "cell_type": "code",
   "execution_count": 2,
   "metadata": {},
   "outputs": [],
   "source": [
    "import time\n",
    "import numpy as np\n",
    "import pandas as pd\n",
    "from sklearn.datasets import make_regression\n",
    "from sklearn.ensemble import RandomForestRegressor\n",
    "from sklearn.ensemble import HistGradientBoostingRegressor\n",
    "from lightgbm import LGBMRegressor\n",
    "from xgboost import XGBRegressor\n",
    "from sklearn.linear_model import Ridge\n",
    "from joblib import Parallel, delayed"
   ]
  },
  {
   "cell_type": "code",
   "execution_count": 3,
   "metadata": {},
   "outputs": [
    {
     "name": "stdout",
     "output_type": "stream",
     "text": [
      "Random Forest\n",
      "Sequential Training Time: 103.33 seconds\n",
      "Parallel Training Time: 13.46 seconds\n",
      "\n",
      "LightGBM\n",
      "Sequential Training Time: 4.84 seconds\n",
      "Parallel Training Time: 220.28 seconds\n",
      "\n",
      "HistGradientBoosting\n",
      "Sequential Training Time: 17.24 seconds\n",
      "Parallel Training Time: 2.55 seconds\n",
      "\n",
      "Ridge\n",
      "Sequential Training Time: 0.06 seconds\n",
      "Parallel Training Time: 0.14 seconds\n",
      "\n",
      "XGBoost\n",
      "Sequential Training Time: 14.91 seconds\n",
      "Parallel Training Time: 4.59 seconds\n",
      "\n"
     ]
    }
   ],
   "source": [
    "\n",
    "# Generate synthetic data\n",
    "# ==============================================================================\n",
    "X_train, y_train = make_regression(n_samples=1000, n_features=20, random_state=42)\n",
    "X_train = pd.DataFrame(X_train, columns=[f\"var_{i}\" for i in range(X_train.shape[1])])\n",
    "y_train = pd.Series(y_train, name=\"target\")\n",
    "n_models = 20\n",
    "\n",
    "# Random Forest\n",
    "# ==============================================================================\n",
    "def train_model():\n",
    "    model = RandomForestRegressor(**{'n_estimators': 500, 'max_depth': 5, 'random_state': 42})\n",
    "    model.fit(X_train, y_train)\n",
    "    return model\n",
    "\n",
    "# Sequential Training\n",
    "start_time = time.time()\n",
    "models_sequential = [train_model() for i in range(n_models)]\n",
    "sequential_time = time.time() - start_time\n",
    "\n",
    "# Parallel Training\n",
    "start_time = time.time()\n",
    "models_parallel = Parallel(n_jobs=-1)(delayed(train_model)() for i in range(n_models))\n",
    "parallel_time = time.time() - start_time\n",
    "\n",
    "# Results\n",
    "print(\"Random Forest\")\n",
    "print(f\"Sequential Training Time: {sequential_time:.2f} seconds\")\n",
    "print(f\"Parallel Training Time: {parallel_time:.2f} seconds\")\n",
    "print(\"\")\n",
    "\n",
    "# LightGBM\n",
    "# ==============================================================================\n",
    "# Define model training function\n",
    "def train_model():\n",
    "    model = LGBMRegressor(**{'n_estimators': 500, 'max_depth': 5, 'random_state': 42, 'verbose': -1})\n",
    "    model.fit(X_train, y_train)\n",
    "    return model\n",
    "\n",
    "# Sequential Training\n",
    "start_time = time.time()\n",
    "models_sequential = [train_model() for i in range(n_models)]\n",
    "sequential_time = time.time() - start_time\n",
    "\n",
    "# Parallel Training\n",
    "start_time = time.time()\n",
    "models_parallel = Parallel(n_jobs=-1)(delayed(train_model)() for i in range(n_models))\n",
    "parallel_time = time.time() - start_time\n",
    "\n",
    "# Results\n",
    "print(\"LightGBM\")\n",
    "print(f\"Sequential Training Time: {sequential_time:.2f} seconds\")\n",
    "print(f\"Parallel Training Time: {parallel_time:.2f} seconds\")\n",
    "print(\"\")\n",
    "\n",
    "# HistGradientBoosting\n",
    "# ==============================================================================\n",
    "# Define model training function\n",
    "def train_model():\n",
    "    model = HistGradientBoostingRegressor(**{'max_iter': 500, 'max_depth': 5, 'random_state': 42})\n",
    "    model.fit(X_train, y_train)\n",
    "    return model\n",
    "\n",
    "# Sequential Training\n",
    "start_time = time.time()\n",
    "models_sequential = [train_model() for i in range(n_models)]\n",
    "sequential_time = time.time() - start_time\n",
    "\n",
    "# Parallel Training\n",
    "start_time = time.time()\n",
    "models_parallel = Parallel(n_jobs=-1)(delayed(train_model)() for i in range(n_models))\n",
    "parallel_time = time.time() - start_time\n",
    "\n",
    "# Results\n",
    "print(\"HistGradientBoosting\")\n",
    "print(f\"Sequential Training Time: {sequential_time:.2f} seconds\")\n",
    "print(f\"Parallel Training Time: {parallel_time:.2f} seconds\")\n",
    "print(\"\")\n",
    "\n",
    "# Ridge\n",
    "# ==============================================================================\n",
    "# Define model training function\n",
    "def train_model():\n",
    "    model = Ridge(**{'random_state': 42})\n",
    "    model.fit(X_train, y_train)\n",
    "    return model\n",
    "\n",
    "# Sequential Training\n",
    "start_time = time.time()\n",
    "models_sequential = [train_model() for i in range(n_models)]\n",
    "sequential_time = time.time() - start_time\n",
    "\n",
    "# Parallel Training\n",
    "start_time = time.time()\n",
    "models_parallel = Parallel(n_jobs=-1)(delayed(train_model)() for i in range(n_models))\n",
    "parallel_time = time.time() - start_time\n",
    "\n",
    "# Results\n",
    "print(\"Ridge\")\n",
    "print(f\"Sequential Training Time: {sequential_time:.2f} seconds\")\n",
    "print(f\"Parallel Training Time: {parallel_time:.2f} seconds\")\n",
    "print(\"\")\n",
    "\n",
    "# XGBoost\n",
    "# ==============================================================================\n",
    "# Define model training function\n",
    "def train_model():\n",
    "    model = XGBRegressor(**{'n_estimators': 500, 'max_depth': 5, 'random_state': 42})\n",
    "    model.fit(X_train, y_train)\n",
    "    return model\n",
    "\n",
    "# Sequential Training\n",
    "start_time = time.time()\n",
    "models_sequential = [train_model() for i in range(n_models)]\n",
    "sequential_time = time.time() - start_time\n",
    "\n",
    "# Parallel Training\n",
    "start_time = time.time()\n",
    "models_parallel = Parallel(n_jobs=-1)(delayed(train_model)() for i in range(n_models))\n",
    "parallel_time = time.time() - start_time\n",
    "\n",
    "# Results\n",
    "print(\"XGBoost\")\n",
    "print(f\"Sequential Training Time: {sequential_time:.2f} seconds\")\n",
    "print(f\"Parallel Training Time: {parallel_time:.2f} seconds\")\n",
    "print(\"\")"
   ]
  },
  {
   "cell_type": "code",
   "execution_count": 4,
   "metadata": {},
   "outputs": [
    {
     "data": {
      "application/vnd.jupyter.widget-view+json": {
       "model_id": "3a553a483cc84a7180a1ee41cf781ffe",
       "version_major": 2,
       "version_minor": 0
      },
      "text/plain": [
       "  0%|          | 0/50 [00:00<?, ?it/s]"
      ]
     },
     "metadata": {},
     "output_type": "display_data"
    },
    {
     "name": "stdout",
     "output_type": "stream",
     "text": [
      "n_jobs='auto': 11.63 seconds\n"
     ]
    },
    {
     "data": {
      "application/vnd.jupyter.widget-view+json": {
       "model_id": "d6bb6b48c60041afb5b8bfa27172d2d8",
       "version_major": 2,
       "version_minor": 0
      },
      "text/plain": [
       "  0%|          | 0/50 [00:00<?, ?it/s]"
      ]
     },
     "metadata": {},
     "output_type": "display_data"
    },
    {
     "name": "stdout",
     "output_type": "stream",
     "text": [
      "n_jobs='1': 11.73 seconds\n"
     ]
    },
    {
     "data": {
      "application/vnd.jupyter.widget-view+json": {
       "model_id": "1164e3ea2cf84daeb1010507394f7ca9",
       "version_major": 2,
       "version_minor": 0
      },
      "text/plain": [
       "  0%|          | 0/50 [00:00<?, ?it/s]"
      ]
     },
     "metadata": {},
     "output_type": "display_data"
    },
    {
     "ename": "KeyboardInterrupt",
     "evalue": "",
     "output_type": "error",
     "traceback": [
      "\u001b[0;31m---------------------------------------------------------------------------\u001b[0m",
      "\u001b[0;31mKeyboardInterrupt\u001b[0m                         Traceback (most recent call last)",
      "Cell \u001b[0;32mIn[4], line 53\u001b[0m\n\u001b[1;32m     49\u001b[0m \u001b[38;5;28mprint\u001b[39m(\u001b[38;5;124mf\u001b[39m\u001b[38;5;124m\"\u001b[39m\u001b[38;5;124mn_jobs=\u001b[39m\u001b[38;5;124m'\u001b[39m\u001b[38;5;124m1\u001b[39m\u001b[38;5;124m'\u001b[39m\u001b[38;5;124m: \u001b[39m\u001b[38;5;132;01m{\u001b[39;00msequential_time\u001b[38;5;132;01m:\u001b[39;00m\u001b[38;5;124m.2f\u001b[39m\u001b[38;5;132;01m}\u001b[39;00m\u001b[38;5;124m seconds\u001b[39m\u001b[38;5;124m\"\u001b[39m)\n\u001b[1;32m     52\u001b[0m start_time \u001b[38;5;241m=\u001b[39m time\u001b[38;5;241m.\u001b[39mtime()\n\u001b[0;32m---> 53\u001b[0m \u001b[43mbacktesting_forecaster\u001b[49m\u001b[43m(\u001b[49m\n\u001b[1;32m     54\u001b[0m \u001b[43m    \u001b[49m\u001b[43mforecaster\u001b[49m\u001b[38;5;241;43m=\u001b[39;49m\u001b[43mforecaster\u001b[49m\u001b[43m,\u001b[49m\n\u001b[1;32m     55\u001b[0m \u001b[43m    \u001b[49m\u001b[43my\u001b[49m\u001b[38;5;241;43m=\u001b[39;49m\u001b[43my\u001b[49m\u001b[43m,\u001b[49m\n\u001b[1;32m     56\u001b[0m \u001b[43m    \u001b[49m\u001b[43mexog\u001b[49m\u001b[38;5;241;43m=\u001b[39;49m\u001b[43mexogs\u001b[49m\u001b[43m,\u001b[49m\n\u001b[1;32m     57\u001b[0m \u001b[43m    \u001b[49m\u001b[43minitial_train_size\u001b[49m\u001b[38;5;241;43m=\u001b[39;49m\u001b[38;5;241;43m500\u001b[39;49m\u001b[43m,\u001b[49m\n\u001b[1;32m     58\u001b[0m \u001b[43m    \u001b[49m\u001b[43msteps\u001b[49m\u001b[38;5;241;43m=\u001b[39;49m\u001b[38;5;241;43m10\u001b[39;49m\u001b[43m,\u001b[49m\n\u001b[1;32m     59\u001b[0m \u001b[43m    \u001b[49m\u001b[43mmetric\u001b[49m\u001b[38;5;241;43m=\u001b[39;49m\u001b[38;5;124;43m\"\u001b[39;49m\u001b[38;5;124;43mmean_squared_error\u001b[39;49m\u001b[38;5;124;43m\"\u001b[39;49m\u001b[43m,\u001b[49m\n\u001b[1;32m     60\u001b[0m \u001b[43m    \u001b[49m\u001b[43mrefit\u001b[49m\u001b[38;5;241;43m=\u001b[39;49m\u001b[38;5;28;43;01mTrue\u001b[39;49;00m\u001b[43m,\u001b[49m\n\u001b[1;32m     61\u001b[0m \u001b[43m    \u001b[49m\u001b[43mn_jobs\u001b[49m\u001b[38;5;241;43m=\u001b[39;49m\u001b[38;5;241;43m8\u001b[39;49m\u001b[43m,\u001b[49m\n\u001b[1;32m     62\u001b[0m \u001b[43m    \u001b[49m\u001b[43mverbose\u001b[49m\u001b[38;5;241;43m=\u001b[39;49m\u001b[38;5;28;43;01mFalse\u001b[39;49;00m\n\u001b[1;32m     63\u001b[0m \u001b[43m)\u001b[49m\n\u001b[1;32m     64\u001b[0m sequential_time \u001b[38;5;241m=\u001b[39m time\u001b[38;5;241m.\u001b[39mtime() \u001b[38;5;241m-\u001b[39m start_time\n\u001b[1;32m     65\u001b[0m \u001b[38;5;28mprint\u001b[39m(\u001b[38;5;124mf\u001b[39m\u001b[38;5;124m\"\u001b[39m\u001b[38;5;124mn_jobs=\u001b[39m\u001b[38;5;124m'\u001b[39m\u001b[38;5;124m-1\u001b[39m\u001b[38;5;124m'\u001b[39m\u001b[38;5;124m: \u001b[39m\u001b[38;5;132;01m{\u001b[39;00msequential_time\u001b[38;5;132;01m:\u001b[39;00m\u001b[38;5;124m.2f\u001b[39m\u001b[38;5;132;01m}\u001b[39;00m\u001b[38;5;124m seconds\u001b[39m\u001b[38;5;124m\"\u001b[39m)\n",
      "File \u001b[0;32m~/varios/skforecast/skforecast/model_selection/model_selection.py:762\u001b[0m, in \u001b[0;36mbacktesting_forecaster\u001b[0;34m(forecaster, y, steps, metric, initial_train_size, fixed_train_size, gap, skip_folds, allow_incomplete_fold, exog, refit, interval, n_boot, random_state, in_sample_residuals, binned_residuals, n_jobs, verbose, show_progress)\u001b[0m\n\u001b[1;32m    754\u001b[0m \u001b[38;5;28;01mif\u001b[39;00m \u001b[38;5;28mtype\u001b[39m(forecaster)\u001b[38;5;241m.\u001b[39m\u001b[38;5;18m__name__\u001b[39m \u001b[38;5;241m==\u001b[39m \u001b[38;5;124m'\u001b[39m\u001b[38;5;124mForecasterAutoregDirect\u001b[39m\u001b[38;5;124m'\u001b[39m \u001b[38;5;129;01mand\u001b[39;00m \\\n\u001b[1;32m    755\u001b[0m    forecaster\u001b[38;5;241m.\u001b[39msteps \u001b[38;5;241m<\u001b[39m steps \u001b[38;5;241m+\u001b[39m gap:\n\u001b[1;32m    756\u001b[0m     \u001b[38;5;28;01mraise\u001b[39;00m \u001b[38;5;167;01mValueError\u001b[39;00m(\n\u001b[1;32m    757\u001b[0m         (\u001b[38;5;124mf\u001b[39m\u001b[38;5;124m\"\u001b[39m\u001b[38;5;124mWhen using a ForecasterAutoregDirect, the combination of steps \u001b[39m\u001b[38;5;124m\"\u001b[39m\n\u001b[1;32m    758\u001b[0m          \u001b[38;5;124mf\u001b[39m\u001b[38;5;124m\"\u001b[39m\u001b[38;5;124m+ gap (\u001b[39m\u001b[38;5;132;01m{\u001b[39;00msteps\u001b[38;5;250m \u001b[39m\u001b[38;5;241m+\u001b[39m\u001b[38;5;250m \u001b[39mgap\u001b[38;5;132;01m}\u001b[39;00m\u001b[38;5;124m) cannot be greater than the `steps` parameter \u001b[39m\u001b[38;5;124m\"\u001b[39m\n\u001b[1;32m    759\u001b[0m          \u001b[38;5;124mf\u001b[39m\u001b[38;5;124m\"\u001b[39m\u001b[38;5;124mdeclared when the forecaster is initialized (\u001b[39m\u001b[38;5;132;01m{\u001b[39;00mforecaster\u001b[38;5;241m.\u001b[39msteps\u001b[38;5;132;01m}\u001b[39;00m\u001b[38;5;124m).\u001b[39m\u001b[38;5;124m\"\u001b[39m)\n\u001b[1;32m    760\u001b[0m     )\n\u001b[0;32m--> 762\u001b[0m metrics_values, backtest_predictions \u001b[38;5;241m=\u001b[39m \u001b[43m_backtesting_forecaster\u001b[49m\u001b[43m(\u001b[49m\n\u001b[1;32m    763\u001b[0m \u001b[43m    \u001b[49m\u001b[43mforecaster\u001b[49m\u001b[43m            \u001b[49m\u001b[38;5;241;43m=\u001b[39;49m\u001b[43m \u001b[49m\u001b[43mforecaster\u001b[49m\u001b[43m,\u001b[49m\n\u001b[1;32m    764\u001b[0m \u001b[43m    \u001b[49m\u001b[43my\u001b[49m\u001b[43m                     \u001b[49m\u001b[38;5;241;43m=\u001b[39;49m\u001b[43m \u001b[49m\u001b[43my\u001b[49m\u001b[43m,\u001b[49m\n\u001b[1;32m    765\u001b[0m \u001b[43m    \u001b[49m\u001b[43msteps\u001b[49m\u001b[43m                 \u001b[49m\u001b[38;5;241;43m=\u001b[39;49m\u001b[43m \u001b[49m\u001b[43msteps\u001b[49m\u001b[43m,\u001b[49m\n\u001b[1;32m    766\u001b[0m \u001b[43m    \u001b[49m\u001b[43mmetric\u001b[49m\u001b[43m                \u001b[49m\u001b[38;5;241;43m=\u001b[39;49m\u001b[43m \u001b[49m\u001b[43mmetric\u001b[49m\u001b[43m,\u001b[49m\n\u001b[1;32m    767\u001b[0m \u001b[43m    \u001b[49m\u001b[43minitial_train_size\u001b[49m\u001b[43m    \u001b[49m\u001b[38;5;241;43m=\u001b[39;49m\u001b[43m \u001b[49m\u001b[43minitial_train_size\u001b[49m\u001b[43m,\u001b[49m\n\u001b[1;32m    768\u001b[0m \u001b[43m    \u001b[49m\u001b[43mfixed_train_size\u001b[49m\u001b[43m      \u001b[49m\u001b[38;5;241;43m=\u001b[39;49m\u001b[43m \u001b[49m\u001b[43mfixed_train_size\u001b[49m\u001b[43m,\u001b[49m\n\u001b[1;32m    769\u001b[0m \u001b[43m    \u001b[49m\u001b[43mgap\u001b[49m\u001b[43m                   \u001b[49m\u001b[38;5;241;43m=\u001b[39;49m\u001b[43m \u001b[49m\u001b[43mgap\u001b[49m\u001b[43m,\u001b[49m\n\u001b[1;32m    770\u001b[0m \u001b[43m    \u001b[49m\u001b[43mskip_folds\u001b[49m\u001b[43m            \u001b[49m\u001b[38;5;241;43m=\u001b[39;49m\u001b[43m \u001b[49m\u001b[43mskip_folds\u001b[49m\u001b[43m,\u001b[49m\n\u001b[1;32m    771\u001b[0m \u001b[43m    \u001b[49m\u001b[43mallow_incomplete_fold\u001b[49m\u001b[43m \u001b[49m\u001b[38;5;241;43m=\u001b[39;49m\u001b[43m \u001b[49m\u001b[43mallow_incomplete_fold\u001b[49m\u001b[43m,\u001b[49m\n\u001b[1;32m    772\u001b[0m \u001b[43m    \u001b[49m\u001b[43mexog\u001b[49m\u001b[43m                  \u001b[49m\u001b[38;5;241;43m=\u001b[39;49m\u001b[43m \u001b[49m\u001b[43mexog\u001b[49m\u001b[43m,\u001b[49m\n\u001b[1;32m    773\u001b[0m \u001b[43m    \u001b[49m\u001b[43mrefit\u001b[49m\u001b[43m                 \u001b[49m\u001b[38;5;241;43m=\u001b[39;49m\u001b[43m \u001b[49m\u001b[43mrefit\u001b[49m\u001b[43m,\u001b[49m\n\u001b[1;32m    774\u001b[0m \u001b[43m    \u001b[49m\u001b[43minterval\u001b[49m\u001b[43m              \u001b[49m\u001b[38;5;241;43m=\u001b[39;49m\u001b[43m \u001b[49m\u001b[43minterval\u001b[49m\u001b[43m,\u001b[49m\n\u001b[1;32m    775\u001b[0m \u001b[43m    \u001b[49m\u001b[43mn_boot\u001b[49m\u001b[43m                \u001b[49m\u001b[38;5;241;43m=\u001b[39;49m\u001b[43m \u001b[49m\u001b[43mn_boot\u001b[49m\u001b[43m,\u001b[49m\n\u001b[1;32m    776\u001b[0m \u001b[43m    \u001b[49m\u001b[43mrandom_state\u001b[49m\u001b[43m          \u001b[49m\u001b[38;5;241;43m=\u001b[39;49m\u001b[43m \u001b[49m\u001b[43mrandom_state\u001b[49m\u001b[43m,\u001b[49m\n\u001b[1;32m    777\u001b[0m \u001b[43m    \u001b[49m\u001b[43min_sample_residuals\u001b[49m\u001b[43m   \u001b[49m\u001b[38;5;241;43m=\u001b[39;49m\u001b[43m \u001b[49m\u001b[43min_sample_residuals\u001b[49m\u001b[43m,\u001b[49m\n\u001b[1;32m    778\u001b[0m \u001b[43m    \u001b[49m\u001b[43mbinned_residuals\u001b[49m\u001b[43m      \u001b[49m\u001b[38;5;241;43m=\u001b[39;49m\u001b[43m \u001b[49m\u001b[43mbinned_residuals\u001b[49m\u001b[43m,\u001b[49m\n\u001b[1;32m    779\u001b[0m \u001b[43m    \u001b[49m\u001b[43mn_jobs\u001b[49m\u001b[43m                \u001b[49m\u001b[38;5;241;43m=\u001b[39;49m\u001b[43m \u001b[49m\u001b[43mn_jobs\u001b[49m\u001b[43m,\u001b[49m\n\u001b[1;32m    780\u001b[0m \u001b[43m    \u001b[49m\u001b[43mverbose\u001b[49m\u001b[43m               \u001b[49m\u001b[38;5;241;43m=\u001b[39;49m\u001b[43m \u001b[49m\u001b[43mverbose\u001b[49m\u001b[43m,\u001b[49m\n\u001b[1;32m    781\u001b[0m \u001b[43m    \u001b[49m\u001b[43mshow_progress\u001b[49m\u001b[43m         \u001b[49m\u001b[38;5;241;43m=\u001b[39;49m\u001b[43m \u001b[49m\u001b[43mshow_progress\u001b[49m\n\u001b[1;32m    782\u001b[0m \u001b[43m\u001b[49m\u001b[43m)\u001b[49m\n\u001b[1;32m    784\u001b[0m \u001b[38;5;28;01mreturn\u001b[39;00m metrics_values, backtest_predictions\n",
      "File \u001b[0;32m~/varios/skforecast/skforecast/model_selection/model_selection.py:559\u001b[0m, in \u001b[0;36m_backtesting_forecaster\u001b[0;34m(forecaster, y, steps, metric, initial_train_size, fixed_train_size, gap, skip_folds, allow_incomplete_fold, exog, refit, interval, n_boot, random_state, in_sample_residuals, binned_residuals, n_jobs, verbose, show_progress)\u001b[0m\n\u001b[1;32m    554\u001b[0m         pred \u001b[38;5;241m=\u001b[39m pred\u001b[38;5;241m.\u001b[39miloc[gap:, ]\n\u001b[1;32m    556\u001b[0m     \u001b[38;5;28;01mreturn\u001b[39;00m pred\n\u001b[1;32m    558\u001b[0m backtest_predictions \u001b[38;5;241m=\u001b[39m (\n\u001b[0;32m--> 559\u001b[0m     \u001b[43mParallel\u001b[49m\u001b[43m(\u001b[49m\u001b[43mn_jobs\u001b[49m\u001b[38;5;241;43m=\u001b[39;49m\u001b[43mn_jobs\u001b[49m\u001b[43m)\u001b[49m\n\u001b[1;32m    560\u001b[0m \u001b[43m    \u001b[49m\u001b[43m(\u001b[49m\u001b[43mdelayed\u001b[49m\u001b[43m(\u001b[49m\u001b[43m_fit_predict_forecaster\u001b[49m\u001b[43m)\u001b[49m\n\u001b[1;32m    561\u001b[0m \u001b[43m    \u001b[49m\u001b[43m(\u001b[49m\u001b[43my\u001b[49m\u001b[38;5;241;43m=\u001b[39;49m\u001b[43my\u001b[49m\u001b[43m,\u001b[49m\u001b[43m \u001b[49m\u001b[43mexog\u001b[49m\u001b[38;5;241;43m=\u001b[39;49m\u001b[43mexog\u001b[49m\u001b[43m,\u001b[49m\u001b[43m \u001b[49m\u001b[43mforecaster\u001b[49m\u001b[38;5;241;43m=\u001b[39;49m\u001b[43mforecaster\u001b[49m\u001b[43m,\u001b[49m\u001b[43m \u001b[49m\u001b[43minterval\u001b[49m\u001b[38;5;241;43m=\u001b[39;49m\u001b[43minterval\u001b[49m\u001b[43m,\u001b[49m\u001b[43m \u001b[49m\u001b[43mfold\u001b[49m\u001b[38;5;241;43m=\u001b[39;49m\u001b[43mfold\u001b[49m\u001b[43m)\u001b[49m\n\u001b[1;32m    562\u001b[0m \u001b[43m     \u001b[49m\u001b[38;5;28;43;01mfor\u001b[39;49;00m\u001b[43m \u001b[49m\u001b[43mfold\u001b[49m\u001b[43m \u001b[49m\u001b[38;5;129;43;01min\u001b[39;49;00m\u001b[43m \u001b[49m\u001b[43mfolds\u001b[49m\u001b[43m)\u001b[49m\n\u001b[1;32m    563\u001b[0m )\n\u001b[1;32m    565\u001b[0m backtest_predictions \u001b[38;5;241m=\u001b[39m pd\u001b[38;5;241m.\u001b[39mconcat(backtest_predictions)\n\u001b[1;32m    566\u001b[0m \u001b[38;5;28;01mif\u001b[39;00m \u001b[38;5;28misinstance\u001b[39m(backtest_predictions, pd\u001b[38;5;241m.\u001b[39mSeries):\n",
      "File \u001b[0;32m~/anaconda3/envs/skforecast_13_py11/lib/python3.11/site-packages/joblib/parallel.py:2007\u001b[0m, in \u001b[0;36mParallel.__call__\u001b[0;34m(self, iterable)\u001b[0m\n\u001b[1;32m   2001\u001b[0m \u001b[38;5;66;03m# The first item from the output is blank, but it makes the interpreter\u001b[39;00m\n\u001b[1;32m   2002\u001b[0m \u001b[38;5;66;03m# progress until it enters the Try/Except block of the generator and\u001b[39;00m\n\u001b[1;32m   2003\u001b[0m \u001b[38;5;66;03m# reaches the first `yield` statement. This starts the asynchronous\u001b[39;00m\n\u001b[1;32m   2004\u001b[0m \u001b[38;5;66;03m# dispatch of the tasks to the workers.\u001b[39;00m\n\u001b[1;32m   2005\u001b[0m \u001b[38;5;28mnext\u001b[39m(output)\n\u001b[0;32m-> 2007\u001b[0m \u001b[38;5;28;01mreturn\u001b[39;00m output \u001b[38;5;28;01mif\u001b[39;00m \u001b[38;5;28mself\u001b[39m\u001b[38;5;241m.\u001b[39mreturn_generator \u001b[38;5;28;01melse\u001b[39;00m \u001b[38;5;28mlist\u001b[39m(output)\n",
      "File \u001b[0;32m~/anaconda3/envs/skforecast_13_py11/lib/python3.11/site-packages/joblib/parallel.py:1650\u001b[0m, in \u001b[0;36mParallel._get_outputs\u001b[0;34m(self, iterator, pre_dispatch)\u001b[0m\n\u001b[1;32m   1647\u001b[0m     \u001b[38;5;28;01myield\u001b[39;00m\n\u001b[1;32m   1649\u001b[0m     \u001b[38;5;28;01mwith\u001b[39;00m \u001b[38;5;28mself\u001b[39m\u001b[38;5;241m.\u001b[39m_backend\u001b[38;5;241m.\u001b[39mretrieval_context():\n\u001b[0;32m-> 1650\u001b[0m         \u001b[38;5;28;01myield from\u001b[39;00m \u001b[38;5;28mself\u001b[39m\u001b[38;5;241m.\u001b[39m_retrieve()\n\u001b[1;32m   1652\u001b[0m \u001b[38;5;28;01mexcept\u001b[39;00m \u001b[38;5;167;01mGeneratorExit\u001b[39;00m:\n\u001b[1;32m   1653\u001b[0m     \u001b[38;5;66;03m# The generator has been garbage collected before being fully\u001b[39;00m\n\u001b[1;32m   1654\u001b[0m     \u001b[38;5;66;03m# consumed. This aborts the remaining tasks if possible and warn\u001b[39;00m\n\u001b[1;32m   1655\u001b[0m     \u001b[38;5;66;03m# the user if necessary.\u001b[39;00m\n\u001b[1;32m   1656\u001b[0m     \u001b[38;5;28mself\u001b[39m\u001b[38;5;241m.\u001b[39m_exception \u001b[38;5;241m=\u001b[39m \u001b[38;5;28;01mTrue\u001b[39;00m\n",
      "File \u001b[0;32m~/anaconda3/envs/skforecast_13_py11/lib/python3.11/site-packages/joblib/parallel.py:1762\u001b[0m, in \u001b[0;36mParallel._retrieve\u001b[0;34m(self)\u001b[0m\n\u001b[1;32m   1757\u001b[0m \u001b[38;5;66;03m# If the next job is not ready for retrieval yet, we just wait for\u001b[39;00m\n\u001b[1;32m   1758\u001b[0m \u001b[38;5;66;03m# async callbacks to progress.\u001b[39;00m\n\u001b[1;32m   1759\u001b[0m \u001b[38;5;28;01mif\u001b[39;00m ((\u001b[38;5;28mlen\u001b[39m(\u001b[38;5;28mself\u001b[39m\u001b[38;5;241m.\u001b[39m_jobs) \u001b[38;5;241m==\u001b[39m \u001b[38;5;241m0\u001b[39m) \u001b[38;5;129;01mor\u001b[39;00m\n\u001b[1;32m   1760\u001b[0m     (\u001b[38;5;28mself\u001b[39m\u001b[38;5;241m.\u001b[39m_jobs[\u001b[38;5;241m0\u001b[39m]\u001b[38;5;241m.\u001b[39mget_status(\n\u001b[1;32m   1761\u001b[0m         timeout\u001b[38;5;241m=\u001b[39m\u001b[38;5;28mself\u001b[39m\u001b[38;5;241m.\u001b[39mtimeout) \u001b[38;5;241m==\u001b[39m TASK_PENDING)):\n\u001b[0;32m-> 1762\u001b[0m     time\u001b[38;5;241m.\u001b[39msleep(\u001b[38;5;241m0.01\u001b[39m)\n\u001b[1;32m   1763\u001b[0m     \u001b[38;5;28;01mcontinue\u001b[39;00m\n\u001b[1;32m   1765\u001b[0m \u001b[38;5;66;03m# We need to be careful: the job list can be filling up as\u001b[39;00m\n\u001b[1;32m   1766\u001b[0m \u001b[38;5;66;03m# we empty it and Python list are not thread-safe by\u001b[39;00m\n\u001b[1;32m   1767\u001b[0m \u001b[38;5;66;03m# default hence the use of the lock\u001b[39;00m\n",
      "\u001b[0;31mKeyboardInterrupt\u001b[0m: "
     ]
    }
   ],
   "source": [
    "from skforecast.ForecasterAutoreg import ForecasterAutoreg\n",
    "from skforecast.model_selection import backtesting_forecaster\n",
    "\n",
    "# Generate data\n",
    "n = 1000\n",
    "y = pd.Series(\n",
    "    np.random.normal(loc=0, scale=1, size=n),\n",
    "    index=pd.date_range(start=\"2021-01-01\", periods=n, freq=\"h\"),\n",
    ")\n",
    "exogs = pd.DataFrame(\n",
    "    np.random.normal(loc=0, scale=1, size=(n, 10)),\n",
    "    index=y.index,\n",
    "    columns=[f\"exog_{i}\" for i in range(10)],\n",
    ")\n",
    "\n",
    "forecaster = ForecasterAutoreg(\n",
    "    regressor=LGBMRegressor(n_estimators=500, max_depth=5, random_state=42, verbose=-1),\n",
    "    lags=50\n",
    ")\n",
    "\n",
    "start_time = time.time()\n",
    "backtesting_forecaster(\n",
    "    forecaster=forecaster,\n",
    "    y=y,\n",
    "    exog=exogs,\n",
    "    initial_train_size=500,\n",
    "    steps=10,\n",
    "    metric=\"mean_squared_error\",\n",
    "    refit=True,\n",
    "    n_jobs='auto',\n",
    "    verbose=False\n",
    ")\n",
    "sequential_time = time.time() - start_time\n",
    "print(f\"n_jobs='auto': {sequential_time:.2f} seconds\")\n",
    "\n",
    "start_time = time.time()\n",
    "backtesting_forecaster(\n",
    "    forecaster=forecaster,\n",
    "    y=y,\n",
    "    exog=exogs,\n",
    "    initial_train_size=500,\n",
    "    steps=10,\n",
    "    metric=\"mean_squared_error\",\n",
    "    refit=True,\n",
    "    n_jobs=1,\n",
    "    verbose=False\n",
    ")\n",
    "sequential_time = time.time() - start_time\n",
    "print(f\"n_jobs='1': {sequential_time:.2f} seconds\")\n",
    "\n",
    "\n",
    "start_time = time.time()\n",
    "backtesting_forecaster(\n",
    "    forecaster=forecaster,\n",
    "    y=y,\n",
    "    exog=exogs,\n",
    "    initial_train_size=500,\n",
    "    steps=10,\n",
    "    metric=\"mean_squared_error\",\n",
    "    refit=True,\n",
    "    n_jobs=8,\n",
    "    verbose=False\n",
    ")\n",
    "sequential_time = time.time() - start_time\n",
    "print(f\"n_jobs='-1': {sequential_time:.2f} seconds\")\n",
    "\n"
   ]
  }
 ],
 "metadata": {
  "kernelspec": {
   "display_name": "skforecast_py10",
   "language": "python",
   "name": "python3"
  },
  "language_info": {
   "codemirror_mode": {
    "name": "ipython",
    "version": 3
   },
   "file_extension": ".py",
   "mimetype": "text/x-python",
   "name": "python",
   "nbconvert_exporter": "python",
   "pygments_lexer": "ipython3",
   "version": "3.11.9"
  },
  "orig_nbformat": 4,
  "vscode": {
   "interpreter": {
    "hash": "c78d62c1713fdacd99ef7c429003c7324b36fbb551fb8b6860a7ea73e9338235"
   }
  }
 },
 "nbformat": 4,
 "nbformat_minor": 2
}
