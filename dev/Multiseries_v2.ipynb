{
 "cells": [
  {
   "cell_type": "code",
   "execution_count": 1,
   "metadata": {},
   "outputs": [
    {
     "data": {
      "text/plain": [
       "'c:\\\\Users\\\\jaesc2\\\\GitHub\\\\skforecast'"
      ]
     },
     "execution_count": 1,
     "metadata": {},
     "output_type": "execute_result"
    }
   ],
   "source": [
    "%load_ext autoreload\n",
    "%autoreload 2\n",
    "import sys\n",
    "from pathlib import Path\n",
    "sys.path.insert(1, str(Path.cwd().parent))\n",
    "str(Path.cwd().parent)"
   ]
  },
  {
   "cell_type": "markdown",
   "metadata": {},
   "source": [
    "### FOrecasterMultiseries"
   ]
  },
  {
   "cell_type": "markdown",
   "metadata": {},
   "source": [
    "## Tests"
   ]
  },
  {
   "cell_type": "code",
   "execution_count": 2,
   "metadata": {},
   "outputs": [],
   "source": [
    "from skforecast.ForecasterAutoregMultiSeries.tests.fixtures_ForecasterAutoregMultiSeries import series\n",
    "from sklearn.linear_model import LinearRegression\n",
    "from sklearn.preprocessing import StandardScaler"
   ]
  },
  {
   "cell_type": "code",
   "execution_count": 43,
   "metadata": {},
   "outputs": [
    {
     "name": "stdout",
     "output_type": "stream",
     "text": [
      "(10, 2)\n"
     ]
    },
    {
     "data": {
      "text/html": [
       "<div>\n",
       "<style scoped>\n",
       "    .dataframe tbody tr th:only-of-type {\n",
       "        vertical-align: middle;\n",
       "    }\n",
       "\n",
       "    .dataframe tbody tr th {\n",
       "        vertical-align: top;\n",
       "    }\n",
       "\n",
       "    .dataframe thead th {\n",
       "        text-align: right;\n",
       "    }\n",
       "</style>\n",
       "<table border=\"1\" class=\"dataframe\">\n",
       "  <thead>\n",
       "    <tr style=\"text-align: right;\">\n",
       "      <th></th>\n",
       "      <th>l1</th>\n",
       "      <th>l2</th>\n",
       "    </tr>\n",
       "  </thead>\n",
       "  <tbody>\n",
       "    <tr>\n",
       "      <th>0</th>\n",
       "      <td>0.696469</td>\n",
       "      <td>0.120629</td>\n",
       "    </tr>\n",
       "    <tr>\n",
       "      <th>1</th>\n",
       "      <td>0.286139</td>\n",
       "      <td>0.826341</td>\n",
       "    </tr>\n",
       "  </tbody>\n",
       "</table>\n",
       "</div>"
      ],
      "text/plain": [
       "         l1        l2\n",
       "0  0.696469  0.120629\n",
       "1  0.286139  0.826341"
      ]
     },
     "execution_count": 43,
     "metadata": {},
     "output_type": "execute_result"
    }
   ],
   "source": [
    "series = series.head(10)\n",
    "print(series.shape)\n",
    "series.columns = ['l1', 'l2']\n",
    "series.head(2)"
   ]
  },
  {
   "cell_type": "code",
   "execution_count": 55,
   "metadata": {},
   "outputs": [],
   "source": [
    "# Exog for series l1\n",
    "exog_l1 = pd.DataFrame({\n",
    "              'exog1': np.arange(10),\n",
    "              'exog2': np.arange(50, 60),\n",
    "          })\n",
    "\n",
    "\n",
    "# Exog for series l2\n",
    "exog_l2 = pd.Series(np.arange(100, 110), name='exog1')\n",
    "\n",
    "\n",
    "# Dictionary with exog for each series\n",
    "exog = {\n",
    "    'l1': exog_l1,\n",
    "    'l2': exog_l2\n",
    "}"
   ]
  },
  {
   "cell_type": "code",
   "execution_count": 100,
   "metadata": {},
   "outputs": [],
   "source": [
    "# Create forecaster\n",
    "forecaster = ForecasterAutoregMultiSeries(\n",
    "                 regressor = LinearRegression(),\n",
    "                 lags = 3,\n",
    "                 transformer_series = None\n",
    "             )"
   ]
  },
  {
   "cell_type": "code",
   "execution_count": 4,
   "metadata": {},
   "outputs": [
    {
     "data": {
      "text/plain": [
       "'datetime64[ns]'"
      ]
     },
     "execution_count": 4,
     "metadata": {},
     "output_type": "execute_result"
    }
   ],
   "source": [
    "import pandas as pd\n",
    "import numpy as np\n",
    "\n",
    "exog_l1 = pd.DataFrame({\n",
    "              'exog1': np.arange(10),\n",
    "              'exog2': np.arange(50, 60),\n",
    "          })\n",
    "exog_l1.index = pd.date_range(start='2020-01-01', periods=10, freq='D')\n",
    "\n",
    "exog_l1.index.dtype.name"
   ]
  },
  {
   "cell_type": "code",
   "execution_count": 17,
   "metadata": {},
   "outputs": [
    {
     "data": {
      "text/html": [
       "<div>\n",
       "<style scoped>\n",
       "    .dataframe tbody tr th:only-of-type {\n",
       "        vertical-align: middle;\n",
       "    }\n",
       "\n",
       "    .dataframe tbody tr th {\n",
       "        vertical-align: top;\n",
       "    }\n",
       "\n",
       "    .dataframe thead th {\n",
       "        text-align: right;\n",
       "    }\n",
       "</style>\n",
       "<table border=\"1\" class=\"dataframe\">\n",
       "  <thead>\n",
       "    <tr style=\"text-align: right;\">\n",
       "      <th></th>\n",
       "      <th>0</th>\n",
       "    </tr>\n",
       "  </thead>\n",
       "  <tbody>\n",
       "    <tr>\n",
       "      <th>2020-01-03</th>\n",
       "      <td>3</td>\n",
       "    </tr>\n",
       "    <tr>\n",
       "      <th>2020-01-07</th>\n",
       "      <td>7</td>\n",
       "    </tr>\n",
       "    <tr>\n",
       "      <th>2020-01-15</th>\n",
       "      <td>15</td>\n",
       "    </tr>\n",
       "  </tbody>\n",
       "</table>\n",
       "</div>"
      ],
      "text/plain": [
       "             0\n",
       "2020-01-03   3\n",
       "2020-01-07   7\n",
       "2020-01-15  15"
      ]
     },
     "execution_count": 17,
     "metadata": {},
     "output_type": "execute_result"
    }
   ],
   "source": [
    "exog_test = pd.DataFrame(np.array([3, 7, 15]))\n",
    "exog_test.index = pd.to_datetime(['2020-01-03', '2020-01-07', '2020-01-15'])\n",
    "exog_test"
   ]
  },
  {
   "cell_type": "code",
   "execution_count": 21,
   "metadata": {},
   "outputs": [
    {
     "data": {
      "text/plain": [
       "'datetime64[ns]'"
      ]
     },
     "execution_count": 21,
     "metadata": {},
     "output_type": "execute_result"
    }
   ],
   "source": [
    "exog_test.index.dtype.name"
   ]
  },
  {
   "cell_type": "code",
   "execution_count": 26,
   "metadata": {},
   "outputs": [
    {
     "name": "stdout",
     "output_type": "stream",
     "text": [
      "1\n"
     ]
    }
   ],
   "source": [
    "if not len(set(['A', None])) == 1:\n",
    "    print(1)"
   ]
  },
  {
   "cell_type": "code",
   "execution_count": 29,
   "metadata": {},
   "outputs": [],
   "source": [
    "series_test = pd.Series(np.arange(20))\n",
    "series_test.name"
   ]
  },
  {
   "cell_type": "code",
   "execution_count": 30,
   "metadata": {},
   "outputs": [
    {
     "data": {
      "text/html": [
       "<div>\n",
       "<style scoped>\n",
       "    .dataframe tbody tr th:only-of-type {\n",
       "        vertical-align: middle;\n",
       "    }\n",
       "\n",
       "    .dataframe tbody tr th {\n",
       "        vertical-align: top;\n",
       "    }\n",
       "\n",
       "    .dataframe thead th {\n",
       "        text-align: right;\n",
       "    }\n",
       "</style>\n",
       "<table border=\"1\" class=\"dataframe\">\n",
       "  <thead>\n",
       "    <tr style=\"text-align: right;\">\n",
       "      <th></th>\n",
       "      <th>serie1</th>\n",
       "    </tr>\n",
       "  </thead>\n",
       "  <tbody>\n",
       "    <tr>\n",
       "      <th>2020-01-01</th>\n",
       "      <td>0</td>\n",
       "    </tr>\n",
       "    <tr>\n",
       "      <th>2020-01-02</th>\n",
       "      <td>1</td>\n",
       "    </tr>\n",
       "    <tr>\n",
       "      <th>2020-01-03</th>\n",
       "      <td>2</td>\n",
       "    </tr>\n",
       "    <tr>\n",
       "      <th>2020-01-04</th>\n",
       "      <td>3</td>\n",
       "    </tr>\n",
       "    <tr>\n",
       "      <th>2020-01-05</th>\n",
       "      <td>4</td>\n",
       "    </tr>\n",
       "    <tr>\n",
       "      <th>2020-01-06</th>\n",
       "      <td>5</td>\n",
       "    </tr>\n",
       "    <tr>\n",
       "      <th>2020-01-07</th>\n",
       "      <td>6</td>\n",
       "    </tr>\n",
       "    <tr>\n",
       "      <th>2020-01-08</th>\n",
       "      <td>7</td>\n",
       "    </tr>\n",
       "    <tr>\n",
       "      <th>2020-01-09</th>\n",
       "      <td>8</td>\n",
       "    </tr>\n",
       "    <tr>\n",
       "      <th>2020-01-10</th>\n",
       "      <td>9</td>\n",
       "    </tr>\n",
       "    <tr>\n",
       "      <th>2020-01-11</th>\n",
       "      <td>10</td>\n",
       "    </tr>\n",
       "    <tr>\n",
       "      <th>2020-01-12</th>\n",
       "      <td>11</td>\n",
       "    </tr>\n",
       "    <tr>\n",
       "      <th>2020-01-13</th>\n",
       "      <td>12</td>\n",
       "    </tr>\n",
       "    <tr>\n",
       "      <th>2020-01-14</th>\n",
       "      <td>13</td>\n",
       "    </tr>\n",
       "    <tr>\n",
       "      <th>2020-01-15</th>\n",
       "      <td>14</td>\n",
       "    </tr>\n",
       "    <tr>\n",
       "      <th>2020-01-16</th>\n",
       "      <td>15</td>\n",
       "    </tr>\n",
       "    <tr>\n",
       "      <th>2020-01-17</th>\n",
       "      <td>16</td>\n",
       "    </tr>\n",
       "    <tr>\n",
       "      <th>2020-01-18</th>\n",
       "      <td>17</td>\n",
       "    </tr>\n",
       "    <tr>\n",
       "      <th>2020-01-19</th>\n",
       "      <td>18</td>\n",
       "    </tr>\n",
       "    <tr>\n",
       "      <th>2020-01-20</th>\n",
       "      <td>19</td>\n",
       "    </tr>\n",
       "  </tbody>\n",
       "</table>\n",
       "</div>"
      ],
      "text/plain": [
       "            serie1\n",
       "2020-01-01       0\n",
       "2020-01-02       1\n",
       "2020-01-03       2\n",
       "2020-01-04       3\n",
       "2020-01-05       4\n",
       "2020-01-06       5\n",
       "2020-01-07       6\n",
       "2020-01-08       7\n",
       "2020-01-09       8\n",
       "2020-01-10       9\n",
       "2020-01-11      10\n",
       "2020-01-12      11\n",
       "2020-01-13      12\n",
       "2020-01-14      13\n",
       "2020-01-15      14\n",
       "2020-01-16      15\n",
       "2020-01-17      16\n",
       "2020-01-18      17\n",
       "2020-01-19      18\n",
       "2020-01-20      19"
      ]
     },
     "execution_count": 30,
     "metadata": {},
     "output_type": "execute_result"
    }
   ],
   "source": [
    "series_test = pd.DataFrame(pd.Series(np.arange(20)), columns=['serie1'])\n",
    "series_test.index = pd.date_range(start='2020-01-01', periods=20, freq='D')\n",
    "series_test"
   ]
  },
  {
   "cell_type": "code",
   "execution_count": 32,
   "metadata": {},
   "outputs": [
    {
     "name": "stdout",
     "output_type": "stream",
     "text": [
      "32.7 µs ± 477 ns per loop (mean ± std. dev. of 7 runs, 10,000 loops each)\n"
     ]
    }
   ],
   "source": [
    "%%timeit\n",
    "\n",
    "series_test.squeeze()"
   ]
  },
  {
   "cell_type": "code",
   "execution_count": 33,
   "metadata": {},
   "outputs": [
    {
     "name": "stdout",
     "output_type": "stream",
     "text": [
      "27 µs ± 444 ns per loop (mean ± std. dev. of 7 runs, 10,000 loops each)\n"
     ]
    }
   ],
   "source": [
    "%%timeit\n",
    "\n",
    "series_test.iloc[:, 0]"
   ]
  },
  {
   "cell_type": "code",
   "execution_count": null,
   "metadata": {},
   "outputs": [],
   "source": [
    "series_test2 = "
   ]
  },
  {
   "cell_type": "code",
   "execution_count": 11,
   "metadata": {},
   "outputs": [],
   "source": [
    "series_1 = pd.Series(np.arange(20))\n",
    "series_1.index = pd.date_range(start='2020-01-01', periods=20, freq='D')\n",
    "\n",
    "series_2 = pd.Series(np.arange(10))\n",
    "series_2.index = pd.date_range(start='2020-01-05', periods=10, freq='D')"
   ]
  },
  {
   "cell_type": "code",
   "execution_count": 12,
   "metadata": {},
   "outputs": [
    {
     "ename": "KeyError",
     "evalue": "\"[Timestamp('2020-01-01 00:00:00'), Timestamp('2020-01-02 00:00:00'), Timestamp('2020-01-03 00:00:00'), Timestamp('2020-01-04 00:00:00'), Timestamp('2020-01-15 00:00:00'), Timestamp('2020-01-16 00:00:00'), Timestamp('2020-01-17 00:00:00'), Timestamp('2020-01-18 00:00:00'), Timestamp('2020-01-19 00:00:00'), Timestamp('2020-01-20 00:00:00')] not in index\"",
     "output_type": "error",
     "traceback": [
      "\u001b[1;31m---------------------------------------------------------------------------\u001b[0m",
      "\u001b[1;31mKeyError\u001b[0m                                  Traceback (most recent call last)",
      "Cell \u001b[1;32mIn[12], line 1\u001b[0m\n\u001b[1;32m----> 1\u001b[0m \u001b[43mseries_2\u001b[49m\u001b[38;5;241;43m.\u001b[39;49m\u001b[43mloc\u001b[49m\u001b[43m[\u001b[49m\u001b[43mseries_1\u001b[49m\u001b[38;5;241;43m.\u001b[39;49m\u001b[43mindex\u001b[49m\u001b[43m]\u001b[49m\n",
      "File \u001b[1;32mc:\\Users\\jaesc2\\Miniconda3\\envs\\skforecast_py11\\Lib\\site-packages\\pandas\\core\\indexing.py:1153\u001b[0m, in \u001b[0;36m_LocationIndexer.__getitem__\u001b[1;34m(self, key)\u001b[0m\n\u001b[0;32m   1150\u001b[0m axis \u001b[38;5;241m=\u001b[39m \u001b[38;5;28mself\u001b[39m\u001b[38;5;241m.\u001b[39maxis \u001b[38;5;129;01mor\u001b[39;00m \u001b[38;5;241m0\u001b[39m\n\u001b[0;32m   1152\u001b[0m maybe_callable \u001b[38;5;241m=\u001b[39m com\u001b[38;5;241m.\u001b[39mapply_if_callable(key, \u001b[38;5;28mself\u001b[39m\u001b[38;5;241m.\u001b[39mobj)\n\u001b[1;32m-> 1153\u001b[0m \u001b[38;5;28;01mreturn\u001b[39;00m \u001b[38;5;28;43mself\u001b[39;49m\u001b[38;5;241;43m.\u001b[39;49m\u001b[43m_getitem_axis\u001b[49m\u001b[43m(\u001b[49m\u001b[43mmaybe_callable\u001b[49m\u001b[43m,\u001b[49m\u001b[43m \u001b[49m\u001b[43maxis\u001b[49m\u001b[38;5;241;43m=\u001b[39;49m\u001b[43maxis\u001b[49m\u001b[43m)\u001b[49m\n",
      "File \u001b[1;32mc:\\Users\\jaesc2\\Miniconda3\\envs\\skforecast_py11\\Lib\\site-packages\\pandas\\core\\indexing.py:1382\u001b[0m, in \u001b[0;36m_LocIndexer._getitem_axis\u001b[1;34m(self, key, axis)\u001b[0m\n\u001b[0;32m   1379\u001b[0m     \u001b[38;5;28;01mif\u001b[39;00m \u001b[38;5;28mhasattr\u001b[39m(key, \u001b[38;5;124m\"\u001b[39m\u001b[38;5;124mndim\u001b[39m\u001b[38;5;124m\"\u001b[39m) \u001b[38;5;129;01mand\u001b[39;00m key\u001b[38;5;241m.\u001b[39mndim \u001b[38;5;241m>\u001b[39m \u001b[38;5;241m1\u001b[39m:\n\u001b[0;32m   1380\u001b[0m         \u001b[38;5;28;01mraise\u001b[39;00m \u001b[38;5;167;01mValueError\u001b[39;00m(\u001b[38;5;124m\"\u001b[39m\u001b[38;5;124mCannot index with multidimensional key\u001b[39m\u001b[38;5;124m\"\u001b[39m)\n\u001b[1;32m-> 1382\u001b[0m     \u001b[38;5;28;01mreturn\u001b[39;00m \u001b[38;5;28;43mself\u001b[39;49m\u001b[38;5;241;43m.\u001b[39;49m\u001b[43m_getitem_iterable\u001b[49m\u001b[43m(\u001b[49m\u001b[43mkey\u001b[49m\u001b[43m,\u001b[49m\u001b[43m \u001b[49m\u001b[43maxis\u001b[49m\u001b[38;5;241;43m=\u001b[39;49m\u001b[43maxis\u001b[49m\u001b[43m)\u001b[49m\n\u001b[0;32m   1384\u001b[0m \u001b[38;5;66;03m# nested tuple slicing\u001b[39;00m\n\u001b[0;32m   1385\u001b[0m \u001b[38;5;28;01mif\u001b[39;00m is_nested_tuple(key, labels):\n",
      "File \u001b[1;32mc:\\Users\\jaesc2\\Miniconda3\\envs\\skforecast_py11\\Lib\\site-packages\\pandas\\core\\indexing.py:1322\u001b[0m, in \u001b[0;36m_LocIndexer._getitem_iterable\u001b[1;34m(self, key, axis)\u001b[0m\n\u001b[0;32m   1319\u001b[0m \u001b[38;5;28mself\u001b[39m\u001b[38;5;241m.\u001b[39m_validate_key(key, axis)\n\u001b[0;32m   1321\u001b[0m \u001b[38;5;66;03m# A collection of keys\u001b[39;00m\n\u001b[1;32m-> 1322\u001b[0m keyarr, indexer \u001b[38;5;241m=\u001b[39m \u001b[38;5;28;43mself\u001b[39;49m\u001b[38;5;241;43m.\u001b[39;49m\u001b[43m_get_listlike_indexer\u001b[49m\u001b[43m(\u001b[49m\u001b[43mkey\u001b[49m\u001b[43m,\u001b[49m\u001b[43m \u001b[49m\u001b[43maxis\u001b[49m\u001b[43m)\u001b[49m\n\u001b[0;32m   1323\u001b[0m \u001b[38;5;28;01mreturn\u001b[39;00m \u001b[38;5;28mself\u001b[39m\u001b[38;5;241m.\u001b[39mobj\u001b[38;5;241m.\u001b[39m_reindex_with_indexers(\n\u001b[0;32m   1324\u001b[0m     {axis: [keyarr, indexer]}, copy\u001b[38;5;241m=\u001b[39m\u001b[38;5;28;01mTrue\u001b[39;00m, allow_dups\u001b[38;5;241m=\u001b[39m\u001b[38;5;28;01mTrue\u001b[39;00m\n\u001b[0;32m   1325\u001b[0m )\n",
      "File \u001b[1;32mc:\\Users\\jaesc2\\Miniconda3\\envs\\skforecast_py11\\Lib\\site-packages\\pandas\\core\\indexing.py:1520\u001b[0m, in \u001b[0;36m_LocIndexer._get_listlike_indexer\u001b[1;34m(self, key, axis)\u001b[0m\n\u001b[0;32m   1517\u001b[0m ax \u001b[38;5;241m=\u001b[39m \u001b[38;5;28mself\u001b[39m\u001b[38;5;241m.\u001b[39mobj\u001b[38;5;241m.\u001b[39m_get_axis(axis)\n\u001b[0;32m   1518\u001b[0m axis_name \u001b[38;5;241m=\u001b[39m \u001b[38;5;28mself\u001b[39m\u001b[38;5;241m.\u001b[39mobj\u001b[38;5;241m.\u001b[39m_get_axis_name(axis)\n\u001b[1;32m-> 1520\u001b[0m keyarr, indexer \u001b[38;5;241m=\u001b[39m \u001b[43max\u001b[49m\u001b[38;5;241;43m.\u001b[39;49m\u001b[43m_get_indexer_strict\u001b[49m\u001b[43m(\u001b[49m\u001b[43mkey\u001b[49m\u001b[43m,\u001b[49m\u001b[43m \u001b[49m\u001b[43maxis_name\u001b[49m\u001b[43m)\u001b[49m\n\u001b[0;32m   1522\u001b[0m \u001b[38;5;28;01mreturn\u001b[39;00m keyarr, indexer\n",
      "File \u001b[1;32mc:\\Users\\jaesc2\\Miniconda3\\envs\\skforecast_py11\\Lib\\site-packages\\pandas\\core\\indexes\\base.py:6114\u001b[0m, in \u001b[0;36mIndex._get_indexer_strict\u001b[1;34m(self, key, axis_name)\u001b[0m\n\u001b[0;32m   6111\u001b[0m \u001b[38;5;28;01melse\u001b[39;00m:\n\u001b[0;32m   6112\u001b[0m     keyarr, indexer, new_indexer \u001b[38;5;241m=\u001b[39m \u001b[38;5;28mself\u001b[39m\u001b[38;5;241m.\u001b[39m_reindex_non_unique(keyarr)\n\u001b[1;32m-> 6114\u001b[0m \u001b[38;5;28;43mself\u001b[39;49m\u001b[38;5;241;43m.\u001b[39;49m\u001b[43m_raise_if_missing\u001b[49m\u001b[43m(\u001b[49m\u001b[43mkeyarr\u001b[49m\u001b[43m,\u001b[49m\u001b[43m \u001b[49m\u001b[43mindexer\u001b[49m\u001b[43m,\u001b[49m\u001b[43m \u001b[49m\u001b[43maxis_name\u001b[49m\u001b[43m)\u001b[49m\n\u001b[0;32m   6116\u001b[0m keyarr \u001b[38;5;241m=\u001b[39m \u001b[38;5;28mself\u001b[39m\u001b[38;5;241m.\u001b[39mtake(indexer)\n\u001b[0;32m   6117\u001b[0m \u001b[38;5;28;01mif\u001b[39;00m \u001b[38;5;28misinstance\u001b[39m(key, Index):\n\u001b[0;32m   6118\u001b[0m     \u001b[38;5;66;03m# GH 42790 - Preserve name from an Index\u001b[39;00m\n",
      "File \u001b[1;32mc:\\Users\\jaesc2\\Miniconda3\\envs\\skforecast_py11\\Lib\\site-packages\\pandas\\core\\indexes\\base.py:6178\u001b[0m, in \u001b[0;36mIndex._raise_if_missing\u001b[1;34m(self, key, indexer, axis_name)\u001b[0m\n\u001b[0;32m   6175\u001b[0m     \u001b[38;5;28;01mraise\u001b[39;00m \u001b[38;5;167;01mKeyError\u001b[39;00m(\u001b[38;5;124mf\u001b[39m\u001b[38;5;124m\"\u001b[39m\u001b[38;5;124mNone of [\u001b[39m\u001b[38;5;132;01m{\u001b[39;00mkey\u001b[38;5;132;01m}\u001b[39;00m\u001b[38;5;124m] are in the [\u001b[39m\u001b[38;5;132;01m{\u001b[39;00maxis_name\u001b[38;5;132;01m}\u001b[39;00m\u001b[38;5;124m]\u001b[39m\u001b[38;5;124m\"\u001b[39m)\n\u001b[0;32m   6177\u001b[0m not_found \u001b[38;5;241m=\u001b[39m \u001b[38;5;28mlist\u001b[39m(ensure_index(key)[missing_mask\u001b[38;5;241m.\u001b[39mnonzero()[\u001b[38;5;241m0\u001b[39m]]\u001b[38;5;241m.\u001b[39munique())\n\u001b[1;32m-> 6178\u001b[0m \u001b[38;5;28;01mraise\u001b[39;00m \u001b[38;5;167;01mKeyError\u001b[39;00m(\u001b[38;5;124mf\u001b[39m\u001b[38;5;124m\"\u001b[39m\u001b[38;5;132;01m{\u001b[39;00mnot_found\u001b[38;5;132;01m}\u001b[39;00m\u001b[38;5;124m not in index\u001b[39m\u001b[38;5;124m\"\u001b[39m)\n",
      "\u001b[1;31mKeyError\u001b[0m: \"[Timestamp('2020-01-01 00:00:00'), Timestamp('2020-01-02 00:00:00'), Timestamp('2020-01-03 00:00:00'), Timestamp('2020-01-04 00:00:00'), Timestamp('2020-01-15 00:00:00'), Timestamp('2020-01-16 00:00:00'), Timestamp('2020-01-17 00:00:00'), Timestamp('2020-01-18 00:00:00'), Timestamp('2020-01-19 00:00:00'), Timestamp('2020-01-20 00:00:00')] not in index\""
     ]
    }
   ],
   "source": [
    "series_2.loc[series_1.index]"
   ]
  },
  {
   "cell_type": "code",
   "execution_count": 35,
   "metadata": {},
   "outputs": [],
   "source": [
    "a = None\n",
    "\n",
    "if a:\n",
    "    print(1)"
   ]
  },
  {
   "cell_type": "code",
   "execution_count": 5,
   "metadata": {},
   "outputs": [
    {
     "data": {
      "text/html": [
       "<style>#sk-container-id-1 {color: black;}#sk-container-id-1 pre{padding: 0;}#sk-container-id-1 div.sk-toggleable {background-color: white;}#sk-container-id-1 label.sk-toggleable__label {cursor: pointer;display: block;width: 100%;margin-bottom: 0;padding: 0.3em;box-sizing: border-box;text-align: center;}#sk-container-id-1 label.sk-toggleable__label-arrow:before {content: \"▸\";float: left;margin-right: 0.25em;color: #696969;}#sk-container-id-1 label.sk-toggleable__label-arrow:hover:before {color: black;}#sk-container-id-1 div.sk-estimator:hover label.sk-toggleable__label-arrow:before {color: black;}#sk-container-id-1 div.sk-toggleable__content {max-height: 0;max-width: 0;overflow: hidden;text-align: left;background-color: #f0f8ff;}#sk-container-id-1 div.sk-toggleable__content pre {margin: 0.2em;color: black;border-radius: 0.25em;background-color: #f0f8ff;}#sk-container-id-1 input.sk-toggleable__control:checked~div.sk-toggleable__content {max-height: 200px;max-width: 100%;overflow: auto;}#sk-container-id-1 input.sk-toggleable__control:checked~label.sk-toggleable__label-arrow:before {content: \"▾\";}#sk-container-id-1 div.sk-estimator input.sk-toggleable__control:checked~label.sk-toggleable__label {background-color: #d4ebff;}#sk-container-id-1 div.sk-label input.sk-toggleable__control:checked~label.sk-toggleable__label {background-color: #d4ebff;}#sk-container-id-1 input.sk-hidden--visually {border: 0;clip: rect(1px 1px 1px 1px);clip: rect(1px, 1px, 1px, 1px);height: 1px;margin: -1px;overflow: hidden;padding: 0;position: absolute;width: 1px;}#sk-container-id-1 div.sk-estimator {font-family: monospace;background-color: #f0f8ff;border: 1px dotted black;border-radius: 0.25em;box-sizing: border-box;margin-bottom: 0.5em;}#sk-container-id-1 div.sk-estimator:hover {background-color: #d4ebff;}#sk-container-id-1 div.sk-parallel-item::after {content: \"\";width: 100%;border-bottom: 1px solid gray;flex-grow: 1;}#sk-container-id-1 div.sk-label:hover label.sk-toggleable__label {background-color: #d4ebff;}#sk-container-id-1 div.sk-serial::before {content: \"\";position: absolute;border-left: 1px solid gray;box-sizing: border-box;top: 0;bottom: 0;left: 50%;z-index: 0;}#sk-container-id-1 div.sk-serial {display: flex;flex-direction: column;align-items: center;background-color: white;padding-right: 0.2em;padding-left: 0.2em;position: relative;}#sk-container-id-1 div.sk-item {position: relative;z-index: 1;}#sk-container-id-1 div.sk-parallel {display: flex;align-items: stretch;justify-content: center;background-color: white;position: relative;}#sk-container-id-1 div.sk-item::before, #sk-container-id-1 div.sk-parallel-item::before {content: \"\";position: absolute;border-left: 1px solid gray;box-sizing: border-box;top: 0;bottom: 0;left: 50%;z-index: -1;}#sk-container-id-1 div.sk-parallel-item {display: flex;flex-direction: column;z-index: 1;position: relative;background-color: white;}#sk-container-id-1 div.sk-parallel-item:first-child::after {align-self: flex-end;width: 50%;}#sk-container-id-1 div.sk-parallel-item:last-child::after {align-self: flex-start;width: 50%;}#sk-container-id-1 div.sk-parallel-item:only-child::after {width: 0;}#sk-container-id-1 div.sk-dashed-wrapped {border: 1px dashed gray;margin: 0 0.4em 0.5em 0.4em;box-sizing: border-box;padding-bottom: 0.4em;background-color: white;}#sk-container-id-1 div.sk-label label {font-family: monospace;font-weight: bold;display: inline-block;line-height: 1.2em;}#sk-container-id-1 div.sk-label-container {text-align: center;}#sk-container-id-1 div.sk-container {/* jupyter's `normalize.less` sets `[hidden] { display: none; }` but bootstrap.min.css set `[hidden] { display: none !important; }` so we also need the `!important` here to be able to override the default hidden behavior on the sphinx rendered scikit-learn.org. See: https://github.com/scikit-learn/scikit-learn/issues/21755 */display: inline-block !important;position: relative;}#sk-container-id-1 div.sk-text-repr-fallback {display: none;}</style><div id=\"sk-container-id-1\" class=\"sk-top-container\"><div class=\"sk-text-repr-fallback\"><pre>TimeSeriesDifferentiator()</pre><b>In a Jupyter environment, please rerun this cell to show the HTML representation or trust the notebook. <br />On GitHub, the HTML representation is unable to render, please try loading this page with nbviewer.org.</b></div><div class=\"sk-container\" hidden><div class=\"sk-item\"><div class=\"sk-estimator sk-toggleable\"><input class=\"sk-toggleable__control sk-hidden--visually\" id=\"sk-estimator-id-1\" type=\"checkbox\" checked><label for=\"sk-estimator-id-1\" class=\"sk-toggleable__label sk-toggleable__label-arrow\">TimeSeriesDifferentiator</label><div class=\"sk-toggleable__content\"><pre>TimeSeriesDifferentiator()</pre></div></div></div></div></div>"
      ],
      "text/plain": [
       "TimeSeriesDifferentiator()"
      ]
     },
     "execution_count": 5,
     "metadata": {},
     "output_type": "execute_result"
    }
   ],
   "source": [
    "from sklearn.base import clone\n",
    "from skforecast.preprocessing import TimeSeriesDifferentiator\n",
    "\n",
    "differentiator = TimeSeriesDifferentiator(order=1)\n",
    "differentiator2 = clone(differentiator)\n",
    "differentiator2"
   ]
  },
  {
   "cell_type": "code",
   "execution_count": 8,
   "metadata": {},
   "outputs": [
    {
     "name": "stderr",
     "output_type": "stream",
     "text": [
      "c:\\Users\\jaesc2\\GitHub\\skforecast\\skforecast\\preprocessing\\preprocessing.py:82: FutureWarning: Series.__getitem__ treating keys as positions is deprecated. In a future version, integer keys will always be treated as labels (consistent with DataFrame behavior). To access a value by position, use `ser.iloc[pos]`\n",
      "  self.initial_values.append(X[0])\n",
      "c:\\Users\\jaesc2\\GitHub\\skforecast\\skforecast\\preprocessing\\preprocessing.py:83: FutureWarning: Series.__getitem__ treating keys as positions is deprecated. In a future version, integer keys will always be treated as labels (consistent with DataFrame behavior). To access a value by position, use `ser.iloc[pos]`\n",
      "  self.last_values.append(X[-1])\n"
     ]
    },
    {
     "data": {
      "text/plain": [
       "array([nan,  1.,  1.,  1.,  1.,  1.,  1.,  1.,  1.,  1.])"
      ]
     },
     "execution_count": 8,
     "metadata": {},
     "output_type": "execute_result"
    }
   ],
   "source": [
    "differentiator2.fit_transform(pd.Series(np.arange(10), index=pd.date_range(start='2020-01-01', periods=10, freq='D')))"
   ]
  },
  {
   "cell_type": "code",
   "execution_count": 19,
   "metadata": {},
   "outputs": [
    {
     "data": {
      "text/html": [
       "<div>\n",
       "<style scoped>\n",
       "    .dataframe tbody tr th:only-of-type {\n",
       "        vertical-align: middle;\n",
       "    }\n",
       "\n",
       "    .dataframe tbody tr th {\n",
       "        vertical-align: top;\n",
       "    }\n",
       "\n",
       "    .dataframe thead th {\n",
       "        text-align: right;\n",
       "    }\n",
       "</style>\n",
       "<table border=\"1\" class=\"dataframe\">\n",
       "  <thead>\n",
       "    <tr style=\"text-align: right;\">\n",
       "      <th></th>\n",
       "      <th>serie1</th>\n",
       "      <th>0</th>\n",
       "    </tr>\n",
       "  </thead>\n",
       "  <tbody>\n",
       "    <tr>\n",
       "      <th>2020-01-01</th>\n",
       "      <td>0</td>\n",
       "      <td>NaN</td>\n",
       "    </tr>\n",
       "    <tr>\n",
       "      <th>2020-01-02</th>\n",
       "      <td>1</td>\n",
       "      <td>NaN</td>\n",
       "    </tr>\n",
       "    <tr>\n",
       "      <th>2020-01-03</th>\n",
       "      <td>2</td>\n",
       "      <td>3.0</td>\n",
       "    </tr>\n",
       "    <tr>\n",
       "      <th>2020-01-04</th>\n",
       "      <td>3</td>\n",
       "      <td>NaN</td>\n",
       "    </tr>\n",
       "    <tr>\n",
       "      <th>2020-01-05</th>\n",
       "      <td>4</td>\n",
       "      <td>NaN</td>\n",
       "    </tr>\n",
       "    <tr>\n",
       "      <th>2020-01-06</th>\n",
       "      <td>5</td>\n",
       "      <td>NaN</td>\n",
       "    </tr>\n",
       "    <tr>\n",
       "      <th>2020-01-07</th>\n",
       "      <td>6</td>\n",
       "      <td>7.0</td>\n",
       "    </tr>\n",
       "    <tr>\n",
       "      <th>2020-01-08</th>\n",
       "      <td>7</td>\n",
       "      <td>NaN</td>\n",
       "    </tr>\n",
       "    <tr>\n",
       "      <th>2020-01-09</th>\n",
       "      <td>8</td>\n",
       "      <td>NaN</td>\n",
       "    </tr>\n",
       "    <tr>\n",
       "      <th>2020-01-10</th>\n",
       "      <td>9</td>\n",
       "      <td>NaN</td>\n",
       "    </tr>\n",
       "    <tr>\n",
       "      <th>2020-01-11</th>\n",
       "      <td>10</td>\n",
       "      <td>NaN</td>\n",
       "    </tr>\n",
       "    <tr>\n",
       "      <th>2020-01-12</th>\n",
       "      <td>11</td>\n",
       "      <td>NaN</td>\n",
       "    </tr>\n",
       "    <tr>\n",
       "      <th>2020-01-13</th>\n",
       "      <td>12</td>\n",
       "      <td>NaN</td>\n",
       "    </tr>\n",
       "    <tr>\n",
       "      <th>2020-01-14</th>\n",
       "      <td>13</td>\n",
       "      <td>NaN</td>\n",
       "    </tr>\n",
       "    <tr>\n",
       "      <th>2020-01-15</th>\n",
       "      <td>14</td>\n",
       "      <td>15.0</td>\n",
       "    </tr>\n",
       "    <tr>\n",
       "      <th>2020-01-16</th>\n",
       "      <td>15</td>\n",
       "      <td>NaN</td>\n",
       "    </tr>\n",
       "    <tr>\n",
       "      <th>2020-01-17</th>\n",
       "      <td>16</td>\n",
       "      <td>NaN</td>\n",
       "    </tr>\n",
       "    <tr>\n",
       "      <th>2020-01-18</th>\n",
       "      <td>17</td>\n",
       "      <td>NaN</td>\n",
       "    </tr>\n",
       "    <tr>\n",
       "      <th>2020-01-19</th>\n",
       "      <td>18</td>\n",
       "      <td>NaN</td>\n",
       "    </tr>\n",
       "    <tr>\n",
       "      <th>2020-01-20</th>\n",
       "      <td>19</td>\n",
       "      <td>NaN</td>\n",
       "    </tr>\n",
       "  </tbody>\n",
       "</table>\n",
       "</div>"
      ],
      "text/plain": [
       "            serie1     0\n",
       "2020-01-01       0   NaN\n",
       "2020-01-02       1   NaN\n",
       "2020-01-03       2   3.0\n",
       "2020-01-04       3   NaN\n",
       "2020-01-05       4   NaN\n",
       "2020-01-06       5   NaN\n",
       "2020-01-07       6   7.0\n",
       "2020-01-08       7   NaN\n",
       "2020-01-09       8   NaN\n",
       "2020-01-10       9   NaN\n",
       "2020-01-11      10   NaN\n",
       "2020-01-12      11   NaN\n",
       "2020-01-13      12   NaN\n",
       "2020-01-14      13   NaN\n",
       "2020-01-15      14  15.0\n",
       "2020-01-16      15   NaN\n",
       "2020-01-17      16   NaN\n",
       "2020-01-18      17   NaN\n",
       "2020-01-19      18   NaN\n",
       "2020-01-20      19   NaN"
      ]
     },
     "execution_count": 19,
     "metadata": {},
     "output_type": "execute_result"
    }
   ],
   "source": [
    "pd.concat([series_test, exog_test], axis=1)"
   ]
  },
  {
   "cell_type": "code",
   "execution_count": null,
   "metadata": {},
   "outputs": [],
   "source": []
  },
  {
   "cell_type": "code",
   "execution_count": 50,
   "metadata": {},
   "outputs": [
    {
     "data": {
      "text/html": [
       "<div>\n",
       "<style scoped>\n",
       "    .dataframe tbody tr th:only-of-type {\n",
       "        vertical-align: middle;\n",
       "    }\n",
       "\n",
       "    .dataframe tbody tr th {\n",
       "        vertical-align: top;\n",
       "    }\n",
       "\n",
       "    .dataframe thead th {\n",
       "        text-align: right;\n",
       "    }\n",
       "</style>\n",
       "<table border=\"1\" class=\"dataframe\">\n",
       "  <thead>\n",
       "    <tr style=\"text-align: right;\">\n",
       "      <th></th>\n",
       "      <th>lag_1</th>\n",
       "      <th>lag_2</th>\n",
       "      <th>lag_3</th>\n",
       "      <th>level</th>\n",
       "    </tr>\n",
       "  </thead>\n",
       "  <tbody>\n",
       "    <tr>\n",
       "      <th>3</th>\n",
       "      <td>0.226851</td>\n",
       "      <td>0.286139</td>\n",
       "      <td>0.696469</td>\n",
       "      <td>l1</td>\n",
       "    </tr>\n",
       "    <tr>\n",
       "      <th>4</th>\n",
       "      <td>0.551315</td>\n",
       "      <td>0.226851</td>\n",
       "      <td>0.286139</td>\n",
       "      <td>l1</td>\n",
       "    </tr>\n",
       "    <tr>\n",
       "      <th>5</th>\n",
       "      <td>0.719469</td>\n",
       "      <td>0.551315</td>\n",
       "      <td>0.226851</td>\n",
       "      <td>l1</td>\n",
       "    </tr>\n",
       "    <tr>\n",
       "      <th>6</th>\n",
       "      <td>0.423106</td>\n",
       "      <td>0.719469</td>\n",
       "      <td>0.551315</td>\n",
       "      <td>l1</td>\n",
       "    </tr>\n",
       "    <tr>\n",
       "      <th>7</th>\n",
       "      <td>0.980764</td>\n",
       "      <td>0.423106</td>\n",
       "      <td>0.719469</td>\n",
       "      <td>l1</td>\n",
       "    </tr>\n",
       "    <tr>\n",
       "      <th>8</th>\n",
       "      <td>0.684830</td>\n",
       "      <td>0.980764</td>\n",
       "      <td>0.423106</td>\n",
       "      <td>l1</td>\n",
       "    </tr>\n",
       "    <tr>\n",
       "      <th>9</th>\n",
       "      <td>0.480932</td>\n",
       "      <td>0.684830</td>\n",
       "      <td>0.980764</td>\n",
       "      <td>l1</td>\n",
       "    </tr>\n",
       "    <tr>\n",
       "      <th>3</th>\n",
       "      <td>0.603060</td>\n",
       "      <td>0.826341</td>\n",
       "      <td>0.120629</td>\n",
       "      <td>l2</td>\n",
       "    </tr>\n",
       "    <tr>\n",
       "      <th>4</th>\n",
       "      <td>0.545068</td>\n",
       "      <td>0.603060</td>\n",
       "      <td>0.826341</td>\n",
       "      <td>l2</td>\n",
       "    </tr>\n",
       "    <tr>\n",
       "      <th>5</th>\n",
       "      <td>0.342764</td>\n",
       "      <td>0.545068</td>\n",
       "      <td>0.603060</td>\n",
       "      <td>l2</td>\n",
       "    </tr>\n",
       "    <tr>\n",
       "      <th>6</th>\n",
       "      <td>0.304121</td>\n",
       "      <td>0.342764</td>\n",
       "      <td>0.545068</td>\n",
       "      <td>l2</td>\n",
       "    </tr>\n",
       "    <tr>\n",
       "      <th>7</th>\n",
       "      <td>0.417022</td>\n",
       "      <td>0.304121</td>\n",
       "      <td>0.342764</td>\n",
       "      <td>l2</td>\n",
       "    </tr>\n",
       "    <tr>\n",
       "      <th>8</th>\n",
       "      <td>0.681301</td>\n",
       "      <td>0.417022</td>\n",
       "      <td>0.304121</td>\n",
       "      <td>l2</td>\n",
       "    </tr>\n",
       "    <tr>\n",
       "      <th>9</th>\n",
       "      <td>0.875457</td>\n",
       "      <td>0.681301</td>\n",
       "      <td>0.417022</td>\n",
       "      <td>l2</td>\n",
       "    </tr>\n",
       "  </tbody>\n",
       "</table>\n",
       "</div>"
      ],
      "text/plain": [
       "      lag_1     lag_2     lag_3 level\n",
       "3  0.226851  0.286139  0.696469    l1\n",
       "4  0.551315  0.226851  0.286139    l1\n",
       "5  0.719469  0.551315  0.226851    l1\n",
       "6  0.423106  0.719469  0.551315    l1\n",
       "7  0.980764  0.423106  0.719469    l1\n",
       "8  0.684830  0.980764  0.423106    l1\n",
       "9  0.480932  0.684830  0.980764    l1\n",
       "3  0.603060  0.826341  0.120629    l2\n",
       "4  0.545068  0.603060  0.826341    l2\n",
       "5  0.342764  0.545068  0.603060    l2\n",
       "6  0.304121  0.342764  0.545068    l2\n",
       "7  0.417022  0.304121  0.342764    l2\n",
       "8  0.681301  0.417022  0.304121    l2\n",
       "9  0.875457  0.681301  0.417022    l2"
      ]
     },
     "metadata": {},
     "output_type": "display_data"
    },
    {
     "data": {
      "text/plain": [
       "3    0.551315\n",
       "4    0.719469\n",
       "5    0.423106\n",
       "6    0.980764\n",
       "7    0.684830\n",
       "8    0.480932\n",
       "9    0.392118\n",
       "3    0.545068\n",
       "4    0.342764\n",
       "5    0.304121\n",
       "6    0.417022\n",
       "7    0.681301\n",
       "8    0.875457\n",
       "9    0.510422\n",
       "Name: y, dtype: float64"
      ]
     },
     "metadata": {},
     "output_type": "display_data"
    },
    {
     "data": {
      "text/plain": [
       "None"
      ]
     },
     "metadata": {},
     "output_type": "display_data"
    },
    {
     "data": {
      "text/plain": [
       "array([3, 4, 5, 6, 7, 8, 9, 3, 4, 5, 6, 7, 8, 9], dtype=int64)"
      ]
     },
     "metadata": {},
     "output_type": "display_data"
    }
   ],
   "source": [
    "# Series without exog\n",
    "# ==============================================================================\n",
    "\n",
    "# X_train\n",
    "display(forecaster.create_train_X_y(series=series)[0])\n",
    "\n",
    "# y_train\n",
    "display(forecaster.create_train_X_y(series=series)[1])\n",
    "\n",
    "# y_index\n",
    "display(forecaster.create_train_X_y(series=series)[2])\n",
    "\n",
    "# y_train_index\n",
    "display(forecaster.create_train_X_y(series=series)[3])"
   ]
  },
  {
   "cell_type": "code",
   "execution_count": 59,
   "metadata": {},
   "outputs": [
    {
     "name": "stderr",
     "output_type": "stream",
     "text": [
      "c:\\Users\\jaesc2\\GitHub\\skforecast\\skforecast\\utils\\utils.py:346: MissingValuesExogWarning: `exog` has missing values. Most machine learning models do not allow missing values. Fitting the forecaster may fail. \n",
      " You can suppress this warning using: warnings.simplefilter('ignore', category=MissingValuesExogWarning)\n",
      "  warnings.warn(\n"
     ]
    },
    {
     "data": {
      "text/html": [
       "<div>\n",
       "<style scoped>\n",
       "    .dataframe tbody tr th:only-of-type {\n",
       "        vertical-align: middle;\n",
       "    }\n",
       "\n",
       "    .dataframe tbody tr th {\n",
       "        vertical-align: top;\n",
       "    }\n",
       "\n",
       "    .dataframe thead th {\n",
       "        text-align: right;\n",
       "    }\n",
       "</style>\n",
       "<table border=\"1\" class=\"dataframe\">\n",
       "  <thead>\n",
       "    <tr style=\"text-align: right;\">\n",
       "      <th></th>\n",
       "      <th>lag_1</th>\n",
       "      <th>lag_2</th>\n",
       "      <th>lag_3</th>\n",
       "      <th>level</th>\n",
       "      <th>exog1</th>\n",
       "      <th>exog2</th>\n",
       "    </tr>\n",
       "  </thead>\n",
       "  <tbody>\n",
       "    <tr>\n",
       "      <th>3</th>\n",
       "      <td>0.226851</td>\n",
       "      <td>0.286139</td>\n",
       "      <td>0.696469</td>\n",
       "      <td>l1</td>\n",
       "      <td>3</td>\n",
       "      <td>53.0</td>\n",
       "    </tr>\n",
       "    <tr>\n",
       "      <th>4</th>\n",
       "      <td>0.551315</td>\n",
       "      <td>0.226851</td>\n",
       "      <td>0.286139</td>\n",
       "      <td>l1</td>\n",
       "      <td>4</td>\n",
       "      <td>54.0</td>\n",
       "    </tr>\n",
       "    <tr>\n",
       "      <th>5</th>\n",
       "      <td>0.719469</td>\n",
       "      <td>0.551315</td>\n",
       "      <td>0.226851</td>\n",
       "      <td>l1</td>\n",
       "      <td>5</td>\n",
       "      <td>55.0</td>\n",
       "    </tr>\n",
       "    <tr>\n",
       "      <th>6</th>\n",
       "      <td>0.423106</td>\n",
       "      <td>0.719469</td>\n",
       "      <td>0.551315</td>\n",
       "      <td>l1</td>\n",
       "      <td>6</td>\n",
       "      <td>56.0</td>\n",
       "    </tr>\n",
       "    <tr>\n",
       "      <th>7</th>\n",
       "      <td>0.980764</td>\n",
       "      <td>0.423106</td>\n",
       "      <td>0.719469</td>\n",
       "      <td>l1</td>\n",
       "      <td>7</td>\n",
       "      <td>57.0</td>\n",
       "    </tr>\n",
       "    <tr>\n",
       "      <th>8</th>\n",
       "      <td>0.684830</td>\n",
       "      <td>0.980764</td>\n",
       "      <td>0.423106</td>\n",
       "      <td>l1</td>\n",
       "      <td>8</td>\n",
       "      <td>58.0</td>\n",
       "    </tr>\n",
       "    <tr>\n",
       "      <th>9</th>\n",
       "      <td>0.480932</td>\n",
       "      <td>0.684830</td>\n",
       "      <td>0.980764</td>\n",
       "      <td>l1</td>\n",
       "      <td>9</td>\n",
       "      <td>59.0</td>\n",
       "    </tr>\n",
       "    <tr>\n",
       "      <th>3</th>\n",
       "      <td>0.603060</td>\n",
       "      <td>0.826341</td>\n",
       "      <td>0.120629</td>\n",
       "      <td>l2</td>\n",
       "      <td>103</td>\n",
       "      <td>NaN</td>\n",
       "    </tr>\n",
       "    <tr>\n",
       "      <th>4</th>\n",
       "      <td>0.545068</td>\n",
       "      <td>0.603060</td>\n",
       "      <td>0.826341</td>\n",
       "      <td>l2</td>\n",
       "      <td>104</td>\n",
       "      <td>NaN</td>\n",
       "    </tr>\n",
       "    <tr>\n",
       "      <th>5</th>\n",
       "      <td>0.342764</td>\n",
       "      <td>0.545068</td>\n",
       "      <td>0.603060</td>\n",
       "      <td>l2</td>\n",
       "      <td>105</td>\n",
       "      <td>NaN</td>\n",
       "    </tr>\n",
       "    <tr>\n",
       "      <th>6</th>\n",
       "      <td>0.304121</td>\n",
       "      <td>0.342764</td>\n",
       "      <td>0.545068</td>\n",
       "      <td>l2</td>\n",
       "      <td>106</td>\n",
       "      <td>NaN</td>\n",
       "    </tr>\n",
       "    <tr>\n",
       "      <th>7</th>\n",
       "      <td>0.417022</td>\n",
       "      <td>0.304121</td>\n",
       "      <td>0.342764</td>\n",
       "      <td>l2</td>\n",
       "      <td>107</td>\n",
       "      <td>NaN</td>\n",
       "    </tr>\n",
       "    <tr>\n",
       "      <th>8</th>\n",
       "      <td>0.681301</td>\n",
       "      <td>0.417022</td>\n",
       "      <td>0.304121</td>\n",
       "      <td>l2</td>\n",
       "      <td>108</td>\n",
       "      <td>NaN</td>\n",
       "    </tr>\n",
       "    <tr>\n",
       "      <th>9</th>\n",
       "      <td>0.875457</td>\n",
       "      <td>0.681301</td>\n",
       "      <td>0.417022</td>\n",
       "      <td>l2</td>\n",
       "      <td>109</td>\n",
       "      <td>NaN</td>\n",
       "    </tr>\n",
       "  </tbody>\n",
       "</table>\n",
       "</div>"
      ],
      "text/plain": [
       "      lag_1     lag_2     lag_3 level  exog1  exog2\n",
       "3  0.226851  0.286139  0.696469    l1      3   53.0\n",
       "4  0.551315  0.226851  0.286139    l1      4   54.0\n",
       "5  0.719469  0.551315  0.226851    l1      5   55.0\n",
       "6  0.423106  0.719469  0.551315    l1      6   56.0\n",
       "7  0.980764  0.423106  0.719469    l1      7   57.0\n",
       "8  0.684830  0.980764  0.423106    l1      8   58.0\n",
       "9  0.480932  0.684830  0.980764    l1      9   59.0\n",
       "3  0.603060  0.826341  0.120629    l2    103    NaN\n",
       "4  0.545068  0.603060  0.826341    l2    104    NaN\n",
       "5  0.342764  0.545068  0.603060    l2    105    NaN\n",
       "6  0.304121  0.342764  0.545068    l2    106    NaN\n",
       "7  0.417022  0.304121  0.342764    l2    107    NaN\n",
       "8  0.681301  0.417022  0.304121    l2    108    NaN\n",
       "9  0.875457  0.681301  0.417022    l2    109    NaN"
      ]
     },
     "metadata": {},
     "output_type": "display_data"
    },
    {
     "name": "stderr",
     "output_type": "stream",
     "text": [
      "c:\\Users\\jaesc2\\GitHub\\skforecast\\skforecast\\utils\\utils.py:346: MissingValuesExogWarning: `exog` has missing values. Most machine learning models do not allow missing values. Fitting the forecaster may fail. \n",
      " You can suppress this warning using: warnings.simplefilter('ignore', category=MissingValuesExogWarning)\n",
      "  warnings.warn(\n"
     ]
    },
    {
     "data": {
      "text/plain": [
       "3    0.551315\n",
       "4    0.719469\n",
       "5    0.423106\n",
       "6    0.980764\n",
       "7    0.684830\n",
       "8    0.480932\n",
       "9    0.392118\n",
       "3    0.545068\n",
       "4    0.342764\n",
       "5    0.304121\n",
       "6    0.417022\n",
       "7    0.681301\n",
       "8    0.875457\n",
       "9    0.510422\n",
       "Name: y, dtype: float64"
      ]
     },
     "metadata": {},
     "output_type": "display_data"
    },
    {
     "name": "stderr",
     "output_type": "stream",
     "text": [
      "c:\\Users\\jaesc2\\GitHub\\skforecast\\skforecast\\utils\\utils.py:346: MissingValuesExogWarning: `exog` has missing values. Most machine learning models do not allow missing values. Fitting the forecaster may fail. \n",
      " You can suppress this warning using: warnings.simplefilter('ignore', category=MissingValuesExogWarning)\n",
      "  warnings.warn(\n"
     ]
    },
    {
     "data": {
      "text/plain": [
       "None"
      ]
     },
     "metadata": {},
     "output_type": "display_data"
    },
    {
     "name": "stderr",
     "output_type": "stream",
     "text": [
      "c:\\Users\\jaesc2\\GitHub\\skforecast\\skforecast\\utils\\utils.py:346: MissingValuesExogWarning: `exog` has missing values. Most machine learning models do not allow missing values. Fitting the forecaster may fail. \n",
      " You can suppress this warning using: warnings.simplefilter('ignore', category=MissingValuesExogWarning)\n",
      "  warnings.warn(\n"
     ]
    },
    {
     "data": {
      "text/plain": [
       "array([3, 4, 5, 6, 7, 8, 9, 3, 4, 5, 6, 7, 8, 9], dtype=int64)"
      ]
     },
     "metadata": {},
     "output_type": "display_data"
    }
   ],
   "source": [
    "# Series with exog\n",
    "# ==============================================================================\n",
    "\n",
    "# X_train\n",
    "display(forecaster.create_train_X_y(series=series, exog=exog)[0])\n",
    "\n",
    "# y_train\n",
    "display(forecaster.create_train_X_y(series=series, exog=exog)[1])\n",
    "\n",
    "# y_index\n",
    "display(forecaster.create_train_X_y(series=series, exog=exog)[2])\n",
    "\n",
    "# y_train_index\n",
    "display(forecaster.create_train_X_y(series=series, exog=exog)[3])"
   ]
  },
  {
   "cell_type": "markdown",
   "metadata": {},
   "source": [
    "## Datetime index"
   ]
  },
  {
   "cell_type": "code",
   "execution_count": 63,
   "metadata": {},
   "outputs": [
    {
     "data": {
      "text/html": [
       "<div>\n",
       "<style scoped>\n",
       "    .dataframe tbody tr th:only-of-type {\n",
       "        vertical-align: middle;\n",
       "    }\n",
       "\n",
       "    .dataframe tbody tr th {\n",
       "        vertical-align: top;\n",
       "    }\n",
       "\n",
       "    .dataframe thead th {\n",
       "        text-align: right;\n",
       "    }\n",
       "</style>\n",
       "<table border=\"1\" class=\"dataframe\">\n",
       "  <thead>\n",
       "    <tr style=\"text-align: right;\">\n",
       "      <th></th>\n",
       "      <th>l1</th>\n",
       "      <th>l2</th>\n",
       "    </tr>\n",
       "  </thead>\n",
       "  <tbody>\n",
       "    <tr>\n",
       "      <th>2020-01-01</th>\n",
       "      <td>0.696469</td>\n",
       "      <td>0.120629</td>\n",
       "    </tr>\n",
       "    <tr>\n",
       "      <th>2020-01-02</th>\n",
       "      <td>0.286139</td>\n",
       "      <td>0.826341</td>\n",
       "    </tr>\n",
       "  </tbody>\n",
       "</table>\n",
       "</div>"
      ],
      "text/plain": [
       "                  l1        l2\n",
       "2020-01-01  0.696469  0.120629\n",
       "2020-01-02  0.286139  0.826341"
      ]
     },
     "execution_count": 63,
     "metadata": {},
     "output_type": "execute_result"
    }
   ],
   "source": [
    "series_datetime = series.copy()\n",
    "series_datetime.index = pd.date_range(start='2020-01-01', periods=len(series_datetime), freq='D')\n",
    "series_datetime.head(2)"
   ]
  },
  {
   "cell_type": "code",
   "execution_count": 64,
   "metadata": {},
   "outputs": [],
   "source": [
    "exog_datetime = exog.copy()\n",
    "\n",
    "for key in exog_datetime.keys():\n",
    "    exog_datetime[key].index = series_datetime.index"
   ]
  },
  {
   "cell_type": "code",
   "execution_count": 66,
   "metadata": {},
   "outputs": [
    {
     "name": "stdout",
     "output_type": "stream",
     "text": [
      "X_train\n"
     ]
    },
    {
     "name": "stderr",
     "output_type": "stream",
     "text": [
      "c:\\Users\\jaesc2\\GitHub\\skforecast\\skforecast\\utils\\utils.py:346: MissingValuesExogWarning: `exog` has missing values. Most machine learning models do not allow missing values. Fitting the forecaster may fail. \n",
      " You can suppress this warning using: warnings.simplefilter('ignore', category=MissingValuesExogWarning)\n",
      "  warnings.warn(\n"
     ]
    },
    {
     "data": {
      "text/html": [
       "<div>\n",
       "<style scoped>\n",
       "    .dataframe tbody tr th:only-of-type {\n",
       "        vertical-align: middle;\n",
       "    }\n",
       "\n",
       "    .dataframe tbody tr th {\n",
       "        vertical-align: top;\n",
       "    }\n",
       "\n",
       "    .dataframe thead th {\n",
       "        text-align: right;\n",
       "    }\n",
       "</style>\n",
       "<table border=\"1\" class=\"dataframe\">\n",
       "  <thead>\n",
       "    <tr style=\"text-align: right;\">\n",
       "      <th></th>\n",
       "      <th>lag_1</th>\n",
       "      <th>lag_2</th>\n",
       "      <th>lag_3</th>\n",
       "      <th>level</th>\n",
       "      <th>exog1</th>\n",
       "      <th>exog2</th>\n",
       "    </tr>\n",
       "  </thead>\n",
       "  <tbody>\n",
       "    <tr>\n",
       "      <th>2020-01-04</th>\n",
       "      <td>0.226851</td>\n",
       "      <td>0.286139</td>\n",
       "      <td>0.696469</td>\n",
       "      <td>l1</td>\n",
       "      <td>3</td>\n",
       "      <td>53.0</td>\n",
       "    </tr>\n",
       "    <tr>\n",
       "      <th>2020-01-05</th>\n",
       "      <td>0.551315</td>\n",
       "      <td>0.226851</td>\n",
       "      <td>0.286139</td>\n",
       "      <td>l1</td>\n",
       "      <td>4</td>\n",
       "      <td>54.0</td>\n",
       "    </tr>\n",
       "    <tr>\n",
       "      <th>2020-01-06</th>\n",
       "      <td>0.719469</td>\n",
       "      <td>0.551315</td>\n",
       "      <td>0.226851</td>\n",
       "      <td>l1</td>\n",
       "      <td>5</td>\n",
       "      <td>55.0</td>\n",
       "    </tr>\n",
       "    <tr>\n",
       "      <th>2020-01-07</th>\n",
       "      <td>0.423106</td>\n",
       "      <td>0.719469</td>\n",
       "      <td>0.551315</td>\n",
       "      <td>l1</td>\n",
       "      <td>6</td>\n",
       "      <td>56.0</td>\n",
       "    </tr>\n",
       "    <tr>\n",
       "      <th>2020-01-08</th>\n",
       "      <td>0.980764</td>\n",
       "      <td>0.423106</td>\n",
       "      <td>0.719469</td>\n",
       "      <td>l1</td>\n",
       "      <td>7</td>\n",
       "      <td>57.0</td>\n",
       "    </tr>\n",
       "    <tr>\n",
       "      <th>2020-01-09</th>\n",
       "      <td>0.684830</td>\n",
       "      <td>0.980764</td>\n",
       "      <td>0.423106</td>\n",
       "      <td>l1</td>\n",
       "      <td>8</td>\n",
       "      <td>58.0</td>\n",
       "    </tr>\n",
       "    <tr>\n",
       "      <th>2020-01-10</th>\n",
       "      <td>0.480932</td>\n",
       "      <td>0.684830</td>\n",
       "      <td>0.980764</td>\n",
       "      <td>l1</td>\n",
       "      <td>9</td>\n",
       "      <td>59.0</td>\n",
       "    </tr>\n",
       "    <tr>\n",
       "      <th>2020-01-04</th>\n",
       "      <td>0.603060</td>\n",
       "      <td>0.826341</td>\n",
       "      <td>0.120629</td>\n",
       "      <td>l2</td>\n",
       "      <td>103</td>\n",
       "      <td>NaN</td>\n",
       "    </tr>\n",
       "    <tr>\n",
       "      <th>2020-01-05</th>\n",
       "      <td>0.545068</td>\n",
       "      <td>0.603060</td>\n",
       "      <td>0.826341</td>\n",
       "      <td>l2</td>\n",
       "      <td>104</td>\n",
       "      <td>NaN</td>\n",
       "    </tr>\n",
       "    <tr>\n",
       "      <th>2020-01-06</th>\n",
       "      <td>0.342764</td>\n",
       "      <td>0.545068</td>\n",
       "      <td>0.603060</td>\n",
       "      <td>l2</td>\n",
       "      <td>105</td>\n",
       "      <td>NaN</td>\n",
       "    </tr>\n",
       "    <tr>\n",
       "      <th>2020-01-07</th>\n",
       "      <td>0.304121</td>\n",
       "      <td>0.342764</td>\n",
       "      <td>0.545068</td>\n",
       "      <td>l2</td>\n",
       "      <td>106</td>\n",
       "      <td>NaN</td>\n",
       "    </tr>\n",
       "    <tr>\n",
       "      <th>2020-01-08</th>\n",
       "      <td>0.417022</td>\n",
       "      <td>0.304121</td>\n",
       "      <td>0.342764</td>\n",
       "      <td>l2</td>\n",
       "      <td>107</td>\n",
       "      <td>NaN</td>\n",
       "    </tr>\n",
       "    <tr>\n",
       "      <th>2020-01-09</th>\n",
       "      <td>0.681301</td>\n",
       "      <td>0.417022</td>\n",
       "      <td>0.304121</td>\n",
       "      <td>l2</td>\n",
       "      <td>108</td>\n",
       "      <td>NaN</td>\n",
       "    </tr>\n",
       "    <tr>\n",
       "      <th>2020-01-10</th>\n",
       "      <td>0.875457</td>\n",
       "      <td>0.681301</td>\n",
       "      <td>0.417022</td>\n",
       "      <td>l2</td>\n",
       "      <td>109</td>\n",
       "      <td>NaN</td>\n",
       "    </tr>\n",
       "  </tbody>\n",
       "</table>\n",
       "</div>"
      ],
      "text/plain": [
       "               lag_1     lag_2     lag_3 level  exog1  exog2\n",
       "2020-01-04  0.226851  0.286139  0.696469    l1      3   53.0\n",
       "2020-01-05  0.551315  0.226851  0.286139    l1      4   54.0\n",
       "2020-01-06  0.719469  0.551315  0.226851    l1      5   55.0\n",
       "2020-01-07  0.423106  0.719469  0.551315    l1      6   56.0\n",
       "2020-01-08  0.980764  0.423106  0.719469    l1      7   57.0\n",
       "2020-01-09  0.684830  0.980764  0.423106    l1      8   58.0\n",
       "2020-01-10  0.480932  0.684830  0.980764    l1      9   59.0\n",
       "2020-01-04  0.603060  0.826341  0.120629    l2    103    NaN\n",
       "2020-01-05  0.545068  0.603060  0.826341    l2    104    NaN\n",
       "2020-01-06  0.342764  0.545068  0.603060    l2    105    NaN\n",
       "2020-01-07  0.304121  0.342764  0.545068    l2    106    NaN\n",
       "2020-01-08  0.417022  0.304121  0.342764    l2    107    NaN\n",
       "2020-01-09  0.681301  0.417022  0.304121    l2    108    NaN\n",
       "2020-01-10  0.875457  0.681301  0.417022    l2    109    NaN"
      ]
     },
     "metadata": {},
     "output_type": "display_data"
    },
    {
     "name": "stdout",
     "output_type": "stream",
     "text": [
      "y_train\n"
     ]
    },
    {
     "name": "stderr",
     "output_type": "stream",
     "text": [
      "c:\\Users\\jaesc2\\GitHub\\skforecast\\skforecast\\utils\\utils.py:346: MissingValuesExogWarning: `exog` has missing values. Most machine learning models do not allow missing values. Fitting the forecaster may fail. \n",
      " You can suppress this warning using: warnings.simplefilter('ignore', category=MissingValuesExogWarning)\n",
      "  warnings.warn(\n"
     ]
    },
    {
     "data": {
      "text/plain": [
       "2020-01-04    0.551315\n",
       "2020-01-05    0.719469\n",
       "2020-01-06    0.423106\n",
       "2020-01-07    0.980764\n",
       "2020-01-08    0.684830\n",
       "2020-01-09    0.480932\n",
       "2020-01-10    0.392118\n",
       "2020-01-04    0.545068\n",
       "2020-01-05    0.342764\n",
       "2020-01-06    0.304121\n",
       "2020-01-07    0.417022\n",
       "2020-01-08    0.681301\n",
       "2020-01-09    0.875457\n",
       "2020-01-10    0.510422\n",
       "Name: y, dtype: float64"
      ]
     },
     "metadata": {},
     "output_type": "display_data"
    },
    {
     "name": "stdout",
     "output_type": "stream",
     "text": [
      "y_index\n"
     ]
    },
    {
     "name": "stderr",
     "output_type": "stream",
     "text": [
      "c:\\Users\\jaesc2\\GitHub\\skforecast\\skforecast\\utils\\utils.py:346: MissingValuesExogWarning: `exog` has missing values. Most machine learning models do not allow missing values. Fitting the forecaster may fail. \n",
      " You can suppress this warning using: warnings.simplefilter('ignore', category=MissingValuesExogWarning)\n",
      "  warnings.warn(\n"
     ]
    },
    {
     "data": {
      "text/plain": [
       "None"
      ]
     },
     "metadata": {},
     "output_type": "display_data"
    },
    {
     "name": "stdout",
     "output_type": "stream",
     "text": [
      "y_train_index\n"
     ]
    },
    {
     "name": "stderr",
     "output_type": "stream",
     "text": [
      "c:\\Users\\jaesc2\\GitHub\\skforecast\\skforecast\\utils\\utils.py:346: MissingValuesExogWarning: `exog` has missing values. Most machine learning models do not allow missing values. Fitting the forecaster may fail. \n",
      " You can suppress this warning using: warnings.simplefilter('ignore', category=MissingValuesExogWarning)\n",
      "  warnings.warn(\n"
     ]
    },
    {
     "data": {
      "text/plain": [
       "array(['2020-01-04T00:00:00.000000000', '2020-01-05T00:00:00.000000000',\n",
       "       '2020-01-06T00:00:00.000000000', '2020-01-07T00:00:00.000000000',\n",
       "       '2020-01-08T00:00:00.000000000', '2020-01-09T00:00:00.000000000',\n",
       "       '2020-01-10T00:00:00.000000000', '2020-01-04T00:00:00.000000000',\n",
       "       '2020-01-05T00:00:00.000000000', '2020-01-06T00:00:00.000000000',\n",
       "       '2020-01-07T00:00:00.000000000', '2020-01-08T00:00:00.000000000',\n",
       "       '2020-01-09T00:00:00.000000000', '2020-01-10T00:00:00.000000000'],\n",
       "      dtype='datetime64[ns]')"
      ]
     },
     "metadata": {},
     "output_type": "display_data"
    }
   ],
   "source": [
    "# Series with exog datetime\n",
    "# ==============================================================================\n",
    "\n",
    "# X_train\n",
    "print(\"X_train\")\n",
    "display(forecaster.create_train_X_y(series=series_datetime, exog=exog_datetime)[0])\n",
    "\n",
    "# y_train\n",
    "print(\"y_train\")\n",
    "display(forecaster.create_train_X_y(series=series_datetime, exog=exog_datetime)[1])\n",
    "\n",
    "# y_index\n",
    "print(\"y_index\")\n",
    "display(forecaster.create_train_X_y(series=series_datetime, exog=exog_datetime)[2])\n",
    "\n",
    "# y_train_index\n",
    "print(\"y_train_index\")\n",
    "display(forecaster.create_train_X_y(series=series_datetime, exog=exog_datetime)[3])"
   ]
  },
  {
   "cell_type": "markdown",
   "metadata": {},
   "source": [
    "# Series dict"
   ]
  },
  {
   "cell_type": "code",
   "execution_count": 71,
   "metadata": {},
   "outputs": [
    {
     "data": {
      "text/plain": [
       "{'l1': 2020-01-01    0.696469\n",
       " 2020-01-02    0.286139\n",
       " 2020-01-03    0.226851\n",
       " 2020-01-04    0.551315\n",
       " 2020-01-05    0.719469\n",
       " 2020-01-06    0.423106\n",
       " 2020-01-07    0.980764\n",
       " 2020-01-08    0.684830\n",
       " 2020-01-09    0.480932\n",
       " 2020-01-10    0.392118\n",
       " Freq: D, Name: l1, dtype: float64,\n",
       " 'l2': 2020-01-01    0.120629\n",
       " 2020-01-02    0.826341\n",
       " 2020-01-03    0.603060\n",
       " 2020-01-04    0.545068\n",
       " 2020-01-05    0.342764\n",
       " 2020-01-06    0.304121\n",
       " 2020-01-07    0.417022\n",
       " 2020-01-08    0.681301\n",
       " 2020-01-09    0.875457\n",
       " 2020-01-10    0.510422\n",
       " Freq: D, Name: l2, dtype: float64}"
      ]
     },
     "execution_count": 71,
     "metadata": {},
     "output_type": "execute_result"
    }
   ],
   "source": [
    "series_dict = series_datetime.to_dict('series')\n",
    "series_dict"
   ]
  },
  {
   "cell_type": "code",
   "execution_count": 70,
   "metadata": {},
   "outputs": [
    {
     "name": "stdout",
     "output_type": "stream",
     "text": [
      "X_train\n"
     ]
    },
    {
     "name": "stderr",
     "output_type": "stream",
     "text": [
      "c:\\Users\\jaesc2\\GitHub\\skforecast\\skforecast\\utils\\utils.py:346: MissingValuesExogWarning: `exog` has missing values. Most machine learning models do not allow missing values. Fitting the forecaster may fail. \n",
      " You can suppress this warning using: warnings.simplefilter('ignore', category=MissingValuesExogWarning)\n",
      "  warnings.warn(\n"
     ]
    },
    {
     "data": {
      "text/html": [
       "<div>\n",
       "<style scoped>\n",
       "    .dataframe tbody tr th:only-of-type {\n",
       "        vertical-align: middle;\n",
       "    }\n",
       "\n",
       "    .dataframe tbody tr th {\n",
       "        vertical-align: top;\n",
       "    }\n",
       "\n",
       "    .dataframe thead th {\n",
       "        text-align: right;\n",
       "    }\n",
       "</style>\n",
       "<table border=\"1\" class=\"dataframe\">\n",
       "  <thead>\n",
       "    <tr style=\"text-align: right;\">\n",
       "      <th></th>\n",
       "      <th>lag_1</th>\n",
       "      <th>lag_2</th>\n",
       "      <th>lag_3</th>\n",
       "      <th>level</th>\n",
       "      <th>exog1</th>\n",
       "      <th>exog2</th>\n",
       "    </tr>\n",
       "  </thead>\n",
       "  <tbody>\n",
       "    <tr>\n",
       "      <th>2020-01-04</th>\n",
       "      <td>0.226851</td>\n",
       "      <td>0.286139</td>\n",
       "      <td>0.696469</td>\n",
       "      <td>l1</td>\n",
       "      <td>3</td>\n",
       "      <td>53.0</td>\n",
       "    </tr>\n",
       "    <tr>\n",
       "      <th>2020-01-05</th>\n",
       "      <td>0.551315</td>\n",
       "      <td>0.226851</td>\n",
       "      <td>0.286139</td>\n",
       "      <td>l1</td>\n",
       "      <td>4</td>\n",
       "      <td>54.0</td>\n",
       "    </tr>\n",
       "    <tr>\n",
       "      <th>2020-01-06</th>\n",
       "      <td>0.719469</td>\n",
       "      <td>0.551315</td>\n",
       "      <td>0.226851</td>\n",
       "      <td>l1</td>\n",
       "      <td>5</td>\n",
       "      <td>55.0</td>\n",
       "    </tr>\n",
       "    <tr>\n",
       "      <th>2020-01-07</th>\n",
       "      <td>0.423106</td>\n",
       "      <td>0.719469</td>\n",
       "      <td>0.551315</td>\n",
       "      <td>l1</td>\n",
       "      <td>6</td>\n",
       "      <td>56.0</td>\n",
       "    </tr>\n",
       "    <tr>\n",
       "      <th>2020-01-08</th>\n",
       "      <td>0.980764</td>\n",
       "      <td>0.423106</td>\n",
       "      <td>0.719469</td>\n",
       "      <td>l1</td>\n",
       "      <td>7</td>\n",
       "      <td>57.0</td>\n",
       "    </tr>\n",
       "    <tr>\n",
       "      <th>2020-01-09</th>\n",
       "      <td>0.684830</td>\n",
       "      <td>0.980764</td>\n",
       "      <td>0.423106</td>\n",
       "      <td>l1</td>\n",
       "      <td>8</td>\n",
       "      <td>58.0</td>\n",
       "    </tr>\n",
       "    <tr>\n",
       "      <th>2020-01-10</th>\n",
       "      <td>0.480932</td>\n",
       "      <td>0.684830</td>\n",
       "      <td>0.980764</td>\n",
       "      <td>l1</td>\n",
       "      <td>9</td>\n",
       "      <td>59.0</td>\n",
       "    </tr>\n",
       "    <tr>\n",
       "      <th>2020-01-04</th>\n",
       "      <td>0.603060</td>\n",
       "      <td>0.826341</td>\n",
       "      <td>0.120629</td>\n",
       "      <td>l2</td>\n",
       "      <td>103</td>\n",
       "      <td>NaN</td>\n",
       "    </tr>\n",
       "    <tr>\n",
       "      <th>2020-01-05</th>\n",
       "      <td>0.545068</td>\n",
       "      <td>0.603060</td>\n",
       "      <td>0.826341</td>\n",
       "      <td>l2</td>\n",
       "      <td>104</td>\n",
       "      <td>NaN</td>\n",
       "    </tr>\n",
       "    <tr>\n",
       "      <th>2020-01-06</th>\n",
       "      <td>0.342764</td>\n",
       "      <td>0.545068</td>\n",
       "      <td>0.603060</td>\n",
       "      <td>l2</td>\n",
       "      <td>105</td>\n",
       "      <td>NaN</td>\n",
       "    </tr>\n",
       "    <tr>\n",
       "      <th>2020-01-07</th>\n",
       "      <td>0.304121</td>\n",
       "      <td>0.342764</td>\n",
       "      <td>0.545068</td>\n",
       "      <td>l2</td>\n",
       "      <td>106</td>\n",
       "      <td>NaN</td>\n",
       "    </tr>\n",
       "    <tr>\n",
       "      <th>2020-01-08</th>\n",
       "      <td>0.417022</td>\n",
       "      <td>0.304121</td>\n",
       "      <td>0.342764</td>\n",
       "      <td>l2</td>\n",
       "      <td>107</td>\n",
       "      <td>NaN</td>\n",
       "    </tr>\n",
       "    <tr>\n",
       "      <th>2020-01-09</th>\n",
       "      <td>0.681301</td>\n",
       "      <td>0.417022</td>\n",
       "      <td>0.304121</td>\n",
       "      <td>l2</td>\n",
       "      <td>108</td>\n",
       "      <td>NaN</td>\n",
       "    </tr>\n",
       "    <tr>\n",
       "      <th>2020-01-10</th>\n",
       "      <td>0.875457</td>\n",
       "      <td>0.681301</td>\n",
       "      <td>0.417022</td>\n",
       "      <td>l2</td>\n",
       "      <td>109</td>\n",
       "      <td>NaN</td>\n",
       "    </tr>\n",
       "  </tbody>\n",
       "</table>\n",
       "</div>"
      ],
      "text/plain": [
       "               lag_1     lag_2     lag_3 level  exog1  exog2\n",
       "2020-01-04  0.226851  0.286139  0.696469    l1      3   53.0\n",
       "2020-01-05  0.551315  0.226851  0.286139    l1      4   54.0\n",
       "2020-01-06  0.719469  0.551315  0.226851    l1      5   55.0\n",
       "2020-01-07  0.423106  0.719469  0.551315    l1      6   56.0\n",
       "2020-01-08  0.980764  0.423106  0.719469    l1      7   57.0\n",
       "2020-01-09  0.684830  0.980764  0.423106    l1      8   58.0\n",
       "2020-01-10  0.480932  0.684830  0.980764    l1      9   59.0\n",
       "2020-01-04  0.603060  0.826341  0.120629    l2    103    NaN\n",
       "2020-01-05  0.545068  0.603060  0.826341    l2    104    NaN\n",
       "2020-01-06  0.342764  0.545068  0.603060    l2    105    NaN\n",
       "2020-01-07  0.304121  0.342764  0.545068    l2    106    NaN\n",
       "2020-01-08  0.417022  0.304121  0.342764    l2    107    NaN\n",
       "2020-01-09  0.681301  0.417022  0.304121    l2    108    NaN\n",
       "2020-01-10  0.875457  0.681301  0.417022    l2    109    NaN"
      ]
     },
     "metadata": {},
     "output_type": "display_data"
    },
    {
     "name": "stdout",
     "output_type": "stream",
     "text": [
      "y_train\n"
     ]
    },
    {
     "name": "stderr",
     "output_type": "stream",
     "text": [
      "c:\\Users\\jaesc2\\GitHub\\skforecast\\skforecast\\utils\\utils.py:346: MissingValuesExogWarning: `exog` has missing values. Most machine learning models do not allow missing values. Fitting the forecaster may fail. \n",
      " You can suppress this warning using: warnings.simplefilter('ignore', category=MissingValuesExogWarning)\n",
      "  warnings.warn(\n"
     ]
    },
    {
     "data": {
      "text/plain": [
       "2020-01-04    0.551315\n",
       "2020-01-05    0.719469\n",
       "2020-01-06    0.423106\n",
       "2020-01-07    0.980764\n",
       "2020-01-08    0.684830\n",
       "2020-01-09    0.480932\n",
       "2020-01-10    0.392118\n",
       "2020-01-04    0.545068\n",
       "2020-01-05    0.342764\n",
       "2020-01-06    0.304121\n",
       "2020-01-07    0.417022\n",
       "2020-01-08    0.681301\n",
       "2020-01-09    0.875457\n",
       "2020-01-10    0.510422\n",
       "Name: y, dtype: float64"
      ]
     },
     "metadata": {},
     "output_type": "display_data"
    },
    {
     "name": "stdout",
     "output_type": "stream",
     "text": [
      "y_index\n"
     ]
    },
    {
     "name": "stderr",
     "output_type": "stream",
     "text": [
      "c:\\Users\\jaesc2\\GitHub\\skforecast\\skforecast\\utils\\utils.py:346: MissingValuesExogWarning: `exog` has missing values. Most machine learning models do not allow missing values. Fitting the forecaster may fail. \n",
      " You can suppress this warning using: warnings.simplefilter('ignore', category=MissingValuesExogWarning)\n",
      "  warnings.warn(\n"
     ]
    },
    {
     "data": {
      "text/plain": [
       "None"
      ]
     },
     "metadata": {},
     "output_type": "display_data"
    },
    {
     "name": "stdout",
     "output_type": "stream",
     "text": [
      "y_train_index\n"
     ]
    },
    {
     "name": "stderr",
     "output_type": "stream",
     "text": [
      "c:\\Users\\jaesc2\\GitHub\\skforecast\\skforecast\\utils\\utils.py:346: MissingValuesExogWarning: `exog` has missing values. Most machine learning models do not allow missing values. Fitting the forecaster may fail. \n",
      " You can suppress this warning using: warnings.simplefilter('ignore', category=MissingValuesExogWarning)\n",
      "  warnings.warn(\n"
     ]
    },
    {
     "data": {
      "text/plain": [
       "array(['2020-01-04T00:00:00.000000000', '2020-01-05T00:00:00.000000000',\n",
       "       '2020-01-06T00:00:00.000000000', '2020-01-07T00:00:00.000000000',\n",
       "       '2020-01-08T00:00:00.000000000', '2020-01-09T00:00:00.000000000',\n",
       "       '2020-01-10T00:00:00.000000000', '2020-01-04T00:00:00.000000000',\n",
       "       '2020-01-05T00:00:00.000000000', '2020-01-06T00:00:00.000000000',\n",
       "       '2020-01-07T00:00:00.000000000', '2020-01-08T00:00:00.000000000',\n",
       "       '2020-01-09T00:00:00.000000000', '2020-01-10T00:00:00.000000000'],\n",
       "      dtype='datetime64[ns]')"
      ]
     },
     "metadata": {},
     "output_type": "display_data"
    }
   ],
   "source": [
    "# series_dict with exog datetime\n",
    "# ==============================================================================\n",
    "\n",
    "# X_train\n",
    "print(\"X_train\")\n",
    "display(forecaster.create_train_X_y(series=series_dict, exog=exog_datetime)[0])\n",
    "\n",
    "# y_train\n",
    "print(\"y_train\")\n",
    "display(forecaster.create_train_X_y(series=series_dict, exog=exog_datetime)[1])\n",
    "\n",
    "# y_index\n",
    "print(\"y_index\")\n",
    "display(forecaster.create_train_X_y(series=series_dict, exog=exog_datetime)[2])\n",
    "\n",
    "# y_train_index\n",
    "print(\"y_train_index\")\n",
    "display(forecaster.create_train_X_y(series=series_dict, exog=exog_datetime)[3])"
   ]
  },
  {
   "cell_type": "markdown",
   "metadata": {},
   "source": [
    "## Series different lengths"
   ]
  },
  {
   "cell_type": "code",
   "execution_count": 73,
   "metadata": {},
   "outputs": [
    {
     "data": {
      "text/html": [
       "<div>\n",
       "<style scoped>\n",
       "    .dataframe tbody tr th:only-of-type {\n",
       "        vertical-align: middle;\n",
       "    }\n",
       "\n",
       "    .dataframe tbody tr th {\n",
       "        vertical-align: top;\n",
       "    }\n",
       "\n",
       "    .dataframe thead th {\n",
       "        text-align: right;\n",
       "    }\n",
       "</style>\n",
       "<table border=\"1\" class=\"dataframe\">\n",
       "  <thead>\n",
       "    <tr style=\"text-align: right;\">\n",
       "      <th></th>\n",
       "      <th>l1</th>\n",
       "      <th>l2</th>\n",
       "    </tr>\n",
       "  </thead>\n",
       "  <tbody>\n",
       "    <tr>\n",
       "      <th>2020-01-01</th>\n",
       "      <td>0.696469</td>\n",
       "      <td>NaN</td>\n",
       "    </tr>\n",
       "    <tr>\n",
       "      <th>2020-01-02</th>\n",
       "      <td>0.286139</td>\n",
       "      <td>NaN</td>\n",
       "    </tr>\n",
       "    <tr>\n",
       "      <th>2020-01-03</th>\n",
       "      <td>0.226851</td>\n",
       "      <td>NaN</td>\n",
       "    </tr>\n",
       "    <tr>\n",
       "      <th>2020-01-04</th>\n",
       "      <td>0.551315</td>\n",
       "      <td>0.545068</td>\n",
       "    </tr>\n",
       "    <tr>\n",
       "      <th>2020-01-05</th>\n",
       "      <td>0.719469</td>\n",
       "      <td>0.342764</td>\n",
       "    </tr>\n",
       "  </tbody>\n",
       "</table>\n",
       "</div>"
      ],
      "text/plain": [
       "                  l1        l2\n",
       "2020-01-01  0.696469       NaN\n",
       "2020-01-02  0.286139       NaN\n",
       "2020-01-03  0.226851       NaN\n",
       "2020-01-04  0.551315  0.545068\n",
       "2020-01-05  0.719469  0.342764"
      ]
     },
     "execution_count": 73,
     "metadata": {},
     "output_type": "execute_result"
    }
   ],
   "source": [
    "series_diff = series_datetime.copy()\n",
    "series_diff.iloc[:3, 1] = np.nan\n",
    "series_diff.head(5)\n",
    "\n",
    "# exog is greater that series"
   ]
  },
  {
   "cell_type": "code",
   "execution_count": 75,
   "metadata": {},
   "outputs": [
    {
     "name": "stdout",
     "output_type": "stream",
     "text": [
      "X_train\n"
     ]
    },
    {
     "name": "stderr",
     "output_type": "stream",
     "text": [
      "c:\\Users\\jaesc2\\GitHub\\skforecast\\skforecast\\utils\\utils.py:346: MissingValuesExogWarning: `exog` has missing values. Most machine learning models do not allow missing values. Fitting the forecaster may fail. \n",
      " You can suppress this warning using: warnings.simplefilter('ignore', category=MissingValuesExogWarning)\n",
      "  warnings.warn(\n"
     ]
    },
    {
     "data": {
      "text/html": [
       "<div>\n",
       "<style scoped>\n",
       "    .dataframe tbody tr th:only-of-type {\n",
       "        vertical-align: middle;\n",
       "    }\n",
       "\n",
       "    .dataframe tbody tr th {\n",
       "        vertical-align: top;\n",
       "    }\n",
       "\n",
       "    .dataframe thead th {\n",
       "        text-align: right;\n",
       "    }\n",
       "</style>\n",
       "<table border=\"1\" class=\"dataframe\">\n",
       "  <thead>\n",
       "    <tr style=\"text-align: right;\">\n",
       "      <th></th>\n",
       "      <th>lag_1</th>\n",
       "      <th>lag_2</th>\n",
       "      <th>lag_3</th>\n",
       "      <th>level</th>\n",
       "      <th>exog1</th>\n",
       "      <th>exog2</th>\n",
       "    </tr>\n",
       "  </thead>\n",
       "  <tbody>\n",
       "    <tr>\n",
       "      <th>2020-01-04</th>\n",
       "      <td>0.226851</td>\n",
       "      <td>0.286139</td>\n",
       "      <td>0.696469</td>\n",
       "      <td>l1</td>\n",
       "      <td>3</td>\n",
       "      <td>53.0</td>\n",
       "    </tr>\n",
       "    <tr>\n",
       "      <th>2020-01-05</th>\n",
       "      <td>0.551315</td>\n",
       "      <td>0.226851</td>\n",
       "      <td>0.286139</td>\n",
       "      <td>l1</td>\n",
       "      <td>4</td>\n",
       "      <td>54.0</td>\n",
       "    </tr>\n",
       "    <tr>\n",
       "      <th>2020-01-06</th>\n",
       "      <td>0.719469</td>\n",
       "      <td>0.551315</td>\n",
       "      <td>0.226851</td>\n",
       "      <td>l1</td>\n",
       "      <td>5</td>\n",
       "      <td>55.0</td>\n",
       "    </tr>\n",
       "    <tr>\n",
       "      <th>2020-01-07</th>\n",
       "      <td>0.423106</td>\n",
       "      <td>0.719469</td>\n",
       "      <td>0.551315</td>\n",
       "      <td>l1</td>\n",
       "      <td>6</td>\n",
       "      <td>56.0</td>\n",
       "    </tr>\n",
       "    <tr>\n",
       "      <th>2020-01-08</th>\n",
       "      <td>0.980764</td>\n",
       "      <td>0.423106</td>\n",
       "      <td>0.719469</td>\n",
       "      <td>l1</td>\n",
       "      <td>7</td>\n",
       "      <td>57.0</td>\n",
       "    </tr>\n",
       "    <tr>\n",
       "      <th>2020-01-09</th>\n",
       "      <td>0.684830</td>\n",
       "      <td>0.980764</td>\n",
       "      <td>0.423106</td>\n",
       "      <td>l1</td>\n",
       "      <td>8</td>\n",
       "      <td>58.0</td>\n",
       "    </tr>\n",
       "    <tr>\n",
       "      <th>2020-01-10</th>\n",
       "      <td>0.480932</td>\n",
       "      <td>0.684830</td>\n",
       "      <td>0.980764</td>\n",
       "      <td>l1</td>\n",
       "      <td>9</td>\n",
       "      <td>59.0</td>\n",
       "    </tr>\n",
       "    <tr>\n",
       "      <th>2020-01-07</th>\n",
       "      <td>0.304121</td>\n",
       "      <td>0.342764</td>\n",
       "      <td>0.545068</td>\n",
       "      <td>l2</td>\n",
       "      <td>106</td>\n",
       "      <td>NaN</td>\n",
       "    </tr>\n",
       "    <tr>\n",
       "      <th>2020-01-08</th>\n",
       "      <td>0.417022</td>\n",
       "      <td>0.304121</td>\n",
       "      <td>0.342764</td>\n",
       "      <td>l2</td>\n",
       "      <td>107</td>\n",
       "      <td>NaN</td>\n",
       "    </tr>\n",
       "    <tr>\n",
       "      <th>2020-01-09</th>\n",
       "      <td>0.681301</td>\n",
       "      <td>0.417022</td>\n",
       "      <td>0.304121</td>\n",
       "      <td>l2</td>\n",
       "      <td>108</td>\n",
       "      <td>NaN</td>\n",
       "    </tr>\n",
       "    <tr>\n",
       "      <th>2020-01-10</th>\n",
       "      <td>0.875457</td>\n",
       "      <td>0.681301</td>\n",
       "      <td>0.417022</td>\n",
       "      <td>l2</td>\n",
       "      <td>109</td>\n",
       "      <td>NaN</td>\n",
       "    </tr>\n",
       "  </tbody>\n",
       "</table>\n",
       "</div>"
      ],
      "text/plain": [
       "               lag_1     lag_2     lag_3 level  exog1  exog2\n",
       "2020-01-04  0.226851  0.286139  0.696469    l1      3   53.0\n",
       "2020-01-05  0.551315  0.226851  0.286139    l1      4   54.0\n",
       "2020-01-06  0.719469  0.551315  0.226851    l1      5   55.0\n",
       "2020-01-07  0.423106  0.719469  0.551315    l1      6   56.0\n",
       "2020-01-08  0.980764  0.423106  0.719469    l1      7   57.0\n",
       "2020-01-09  0.684830  0.980764  0.423106    l1      8   58.0\n",
       "2020-01-10  0.480932  0.684830  0.980764    l1      9   59.0\n",
       "2020-01-07  0.304121  0.342764  0.545068    l2    106    NaN\n",
       "2020-01-08  0.417022  0.304121  0.342764    l2    107    NaN\n",
       "2020-01-09  0.681301  0.417022  0.304121    l2    108    NaN\n",
       "2020-01-10  0.875457  0.681301  0.417022    l2    109    NaN"
      ]
     },
     "metadata": {},
     "output_type": "display_data"
    },
    {
     "name": "stdout",
     "output_type": "stream",
     "text": [
      "y_train\n"
     ]
    },
    {
     "name": "stderr",
     "output_type": "stream",
     "text": [
      "c:\\Users\\jaesc2\\GitHub\\skforecast\\skforecast\\utils\\utils.py:346: MissingValuesExogWarning: `exog` has missing values. Most machine learning models do not allow missing values. Fitting the forecaster may fail. \n",
      " You can suppress this warning using: warnings.simplefilter('ignore', category=MissingValuesExogWarning)\n",
      "  warnings.warn(\n"
     ]
    },
    {
     "data": {
      "text/plain": [
       "2020-01-04    0.551315\n",
       "2020-01-05    0.719469\n",
       "2020-01-06    0.423106\n",
       "2020-01-07    0.980764\n",
       "2020-01-08    0.684830\n",
       "2020-01-09    0.480932\n",
       "2020-01-10    0.392118\n",
       "2020-01-07    0.417022\n",
       "2020-01-08    0.681301\n",
       "2020-01-09    0.875457\n",
       "2020-01-10    0.510422\n",
       "Name: y, dtype: float64"
      ]
     },
     "metadata": {},
     "output_type": "display_data"
    },
    {
     "name": "stdout",
     "output_type": "stream",
     "text": [
      "y_index\n"
     ]
    },
    {
     "name": "stderr",
     "output_type": "stream",
     "text": [
      "c:\\Users\\jaesc2\\GitHub\\skforecast\\skforecast\\utils\\utils.py:346: MissingValuesExogWarning: `exog` has missing values. Most machine learning models do not allow missing values. Fitting the forecaster may fail. \n",
      " You can suppress this warning using: warnings.simplefilter('ignore', category=MissingValuesExogWarning)\n",
      "  warnings.warn(\n"
     ]
    },
    {
     "data": {
      "text/plain": [
       "None"
      ]
     },
     "metadata": {},
     "output_type": "display_data"
    },
    {
     "name": "stdout",
     "output_type": "stream",
     "text": [
      "y_train_index\n"
     ]
    },
    {
     "name": "stderr",
     "output_type": "stream",
     "text": [
      "c:\\Users\\jaesc2\\GitHub\\skforecast\\skforecast\\utils\\utils.py:346: MissingValuesExogWarning: `exog` has missing values. Most machine learning models do not allow missing values. Fitting the forecaster may fail. \n",
      " You can suppress this warning using: warnings.simplefilter('ignore', category=MissingValuesExogWarning)\n",
      "  warnings.warn(\n"
     ]
    },
    {
     "data": {
      "text/plain": [
       "array(['2020-01-04T00:00:00.000000000', '2020-01-05T00:00:00.000000000',\n",
       "       '2020-01-06T00:00:00.000000000', '2020-01-07T00:00:00.000000000',\n",
       "       '2020-01-08T00:00:00.000000000', '2020-01-09T00:00:00.000000000',\n",
       "       '2020-01-10T00:00:00.000000000', '2020-01-07T00:00:00.000000000',\n",
       "       '2020-01-08T00:00:00.000000000', '2020-01-09T00:00:00.000000000',\n",
       "       '2020-01-10T00:00:00.000000000'], dtype='datetime64[ns]')"
      ]
     },
     "metadata": {},
     "output_type": "display_data"
    }
   ],
   "source": [
    "# series diff lengths with exog datetime\n",
    "# ==============================================================================\n",
    "\n",
    "# X_train\n",
    "print(\"X_train\")\n",
    "display(forecaster.create_train_X_y(series=series_diff, exog=exog_datetime)[0])\n",
    "\n",
    "# y_train\n",
    "print(\"y_train\")\n",
    "display(forecaster.create_train_X_y(series=series_diff, exog=exog_datetime)[1])\n",
    "\n",
    "# y_index\n",
    "print(\"y_index\")\n",
    "display(forecaster.create_train_X_y(series=series_diff, exog=exog_datetime)[2])\n",
    "\n",
    "# y_train_index\n",
    "print(\"y_train_index\")\n",
    "display(forecaster.create_train_X_y(series=series_diff, exog=exog_datetime)[3])"
   ]
  },
  {
   "cell_type": "code",
   "execution_count": 78,
   "metadata": {},
   "outputs": [],
   "source": [
    "# exog is same as series\n",
    "exog_diff = exog_datetime.copy()\n",
    "exog_diff['l2'] = pd.Series(np.arange(103, 110), name='exog1')\n",
    "exog_diff['l2'].index = pd.date_range(start='2020-01-04', periods=len(exog_diff['l2']), freq='D')"
   ]
  },
  {
   "cell_type": "code",
   "execution_count": 79,
   "metadata": {},
   "outputs": [
    {
     "name": "stdout",
     "output_type": "stream",
     "text": [
      "X_train\n"
     ]
    },
    {
     "name": "stderr",
     "output_type": "stream",
     "text": [
      "c:\\Users\\jaesc2\\GitHub\\skforecast\\skforecast\\utils\\utils.py:346: MissingValuesExogWarning: `exog` has missing values. Most machine learning models do not allow missing values. Fitting the forecaster may fail. \n",
      " You can suppress this warning using: warnings.simplefilter('ignore', category=MissingValuesExogWarning)\n",
      "  warnings.warn(\n"
     ]
    },
    {
     "data": {
      "text/html": [
       "<div>\n",
       "<style scoped>\n",
       "    .dataframe tbody tr th:only-of-type {\n",
       "        vertical-align: middle;\n",
       "    }\n",
       "\n",
       "    .dataframe tbody tr th {\n",
       "        vertical-align: top;\n",
       "    }\n",
       "\n",
       "    .dataframe thead th {\n",
       "        text-align: right;\n",
       "    }\n",
       "</style>\n",
       "<table border=\"1\" class=\"dataframe\">\n",
       "  <thead>\n",
       "    <tr style=\"text-align: right;\">\n",
       "      <th></th>\n",
       "      <th>lag_1</th>\n",
       "      <th>lag_2</th>\n",
       "      <th>lag_3</th>\n",
       "      <th>level</th>\n",
       "      <th>exog1</th>\n",
       "      <th>exog2</th>\n",
       "    </tr>\n",
       "  </thead>\n",
       "  <tbody>\n",
       "    <tr>\n",
       "      <th>2020-01-04</th>\n",
       "      <td>0.226851</td>\n",
       "      <td>0.286139</td>\n",
       "      <td>0.696469</td>\n",
       "      <td>l1</td>\n",
       "      <td>3</td>\n",
       "      <td>53.0</td>\n",
       "    </tr>\n",
       "    <tr>\n",
       "      <th>2020-01-05</th>\n",
       "      <td>0.551315</td>\n",
       "      <td>0.226851</td>\n",
       "      <td>0.286139</td>\n",
       "      <td>l1</td>\n",
       "      <td>4</td>\n",
       "      <td>54.0</td>\n",
       "    </tr>\n",
       "    <tr>\n",
       "      <th>2020-01-06</th>\n",
       "      <td>0.719469</td>\n",
       "      <td>0.551315</td>\n",
       "      <td>0.226851</td>\n",
       "      <td>l1</td>\n",
       "      <td>5</td>\n",
       "      <td>55.0</td>\n",
       "    </tr>\n",
       "    <tr>\n",
       "      <th>2020-01-07</th>\n",
       "      <td>0.423106</td>\n",
       "      <td>0.719469</td>\n",
       "      <td>0.551315</td>\n",
       "      <td>l1</td>\n",
       "      <td>6</td>\n",
       "      <td>56.0</td>\n",
       "    </tr>\n",
       "    <tr>\n",
       "      <th>2020-01-08</th>\n",
       "      <td>0.980764</td>\n",
       "      <td>0.423106</td>\n",
       "      <td>0.719469</td>\n",
       "      <td>l1</td>\n",
       "      <td>7</td>\n",
       "      <td>57.0</td>\n",
       "    </tr>\n",
       "    <tr>\n",
       "      <th>2020-01-09</th>\n",
       "      <td>0.684830</td>\n",
       "      <td>0.980764</td>\n",
       "      <td>0.423106</td>\n",
       "      <td>l1</td>\n",
       "      <td>8</td>\n",
       "      <td>58.0</td>\n",
       "    </tr>\n",
       "    <tr>\n",
       "      <th>2020-01-10</th>\n",
       "      <td>0.480932</td>\n",
       "      <td>0.684830</td>\n",
       "      <td>0.980764</td>\n",
       "      <td>l1</td>\n",
       "      <td>9</td>\n",
       "      <td>59.0</td>\n",
       "    </tr>\n",
       "    <tr>\n",
       "      <th>2020-01-07</th>\n",
       "      <td>0.304121</td>\n",
       "      <td>0.342764</td>\n",
       "      <td>0.545068</td>\n",
       "      <td>l2</td>\n",
       "      <td>106</td>\n",
       "      <td>NaN</td>\n",
       "    </tr>\n",
       "    <tr>\n",
       "      <th>2020-01-08</th>\n",
       "      <td>0.417022</td>\n",
       "      <td>0.304121</td>\n",
       "      <td>0.342764</td>\n",
       "      <td>l2</td>\n",
       "      <td>107</td>\n",
       "      <td>NaN</td>\n",
       "    </tr>\n",
       "    <tr>\n",
       "      <th>2020-01-09</th>\n",
       "      <td>0.681301</td>\n",
       "      <td>0.417022</td>\n",
       "      <td>0.304121</td>\n",
       "      <td>l2</td>\n",
       "      <td>108</td>\n",
       "      <td>NaN</td>\n",
       "    </tr>\n",
       "    <tr>\n",
       "      <th>2020-01-10</th>\n",
       "      <td>0.875457</td>\n",
       "      <td>0.681301</td>\n",
       "      <td>0.417022</td>\n",
       "      <td>l2</td>\n",
       "      <td>109</td>\n",
       "      <td>NaN</td>\n",
       "    </tr>\n",
       "  </tbody>\n",
       "</table>\n",
       "</div>"
      ],
      "text/plain": [
       "               lag_1     lag_2     lag_3 level  exog1  exog2\n",
       "2020-01-04  0.226851  0.286139  0.696469    l1      3   53.0\n",
       "2020-01-05  0.551315  0.226851  0.286139    l1      4   54.0\n",
       "2020-01-06  0.719469  0.551315  0.226851    l1      5   55.0\n",
       "2020-01-07  0.423106  0.719469  0.551315    l1      6   56.0\n",
       "2020-01-08  0.980764  0.423106  0.719469    l1      7   57.0\n",
       "2020-01-09  0.684830  0.980764  0.423106    l1      8   58.0\n",
       "2020-01-10  0.480932  0.684830  0.980764    l1      9   59.0\n",
       "2020-01-07  0.304121  0.342764  0.545068    l2    106    NaN\n",
       "2020-01-08  0.417022  0.304121  0.342764    l2    107    NaN\n",
       "2020-01-09  0.681301  0.417022  0.304121    l2    108    NaN\n",
       "2020-01-10  0.875457  0.681301  0.417022    l2    109    NaN"
      ]
     },
     "metadata": {},
     "output_type": "display_data"
    },
    {
     "name": "stdout",
     "output_type": "stream",
     "text": [
      "y_train\n"
     ]
    },
    {
     "name": "stderr",
     "output_type": "stream",
     "text": [
      "c:\\Users\\jaesc2\\GitHub\\skforecast\\skforecast\\utils\\utils.py:346: MissingValuesExogWarning: `exog` has missing values. Most machine learning models do not allow missing values. Fitting the forecaster may fail. \n",
      " You can suppress this warning using: warnings.simplefilter('ignore', category=MissingValuesExogWarning)\n",
      "  warnings.warn(\n"
     ]
    },
    {
     "data": {
      "text/plain": [
       "2020-01-04    0.551315\n",
       "2020-01-05    0.719469\n",
       "2020-01-06    0.423106\n",
       "2020-01-07    0.980764\n",
       "2020-01-08    0.684830\n",
       "2020-01-09    0.480932\n",
       "2020-01-10    0.392118\n",
       "2020-01-07    0.417022\n",
       "2020-01-08    0.681301\n",
       "2020-01-09    0.875457\n",
       "2020-01-10    0.510422\n",
       "Name: y, dtype: float64"
      ]
     },
     "metadata": {},
     "output_type": "display_data"
    },
    {
     "name": "stdout",
     "output_type": "stream",
     "text": [
      "y_index\n"
     ]
    },
    {
     "name": "stderr",
     "output_type": "stream",
     "text": [
      "c:\\Users\\jaesc2\\GitHub\\skforecast\\skforecast\\utils\\utils.py:346: MissingValuesExogWarning: `exog` has missing values. Most machine learning models do not allow missing values. Fitting the forecaster may fail. \n",
      " You can suppress this warning using: warnings.simplefilter('ignore', category=MissingValuesExogWarning)\n",
      "  warnings.warn(\n"
     ]
    },
    {
     "data": {
      "text/plain": [
       "None"
      ]
     },
     "metadata": {},
     "output_type": "display_data"
    },
    {
     "name": "stdout",
     "output_type": "stream",
     "text": [
      "y_train_index\n"
     ]
    },
    {
     "name": "stderr",
     "output_type": "stream",
     "text": [
      "c:\\Users\\jaesc2\\GitHub\\skforecast\\skforecast\\utils\\utils.py:346: MissingValuesExogWarning: `exog` has missing values. Most machine learning models do not allow missing values. Fitting the forecaster may fail. \n",
      " You can suppress this warning using: warnings.simplefilter('ignore', category=MissingValuesExogWarning)\n",
      "  warnings.warn(\n"
     ]
    },
    {
     "data": {
      "text/plain": [
       "array(['2020-01-04T00:00:00.000000000', '2020-01-05T00:00:00.000000000',\n",
       "       '2020-01-06T00:00:00.000000000', '2020-01-07T00:00:00.000000000',\n",
       "       '2020-01-08T00:00:00.000000000', '2020-01-09T00:00:00.000000000',\n",
       "       '2020-01-10T00:00:00.000000000', '2020-01-07T00:00:00.000000000',\n",
       "       '2020-01-08T00:00:00.000000000', '2020-01-09T00:00:00.000000000',\n",
       "       '2020-01-10T00:00:00.000000000'], dtype='datetime64[ns]')"
      ]
     },
     "metadata": {},
     "output_type": "display_data"
    }
   ],
   "source": [
    "# series_dict with exog datetime\n",
    "# ==============================================================================\n",
    "\n",
    "# X_train\n",
    "print(\"X_train\")\n",
    "display(forecaster.create_train_X_y(series=series_diff, exog=exog_diff)[0])\n",
    "\n",
    "# y_train\n",
    "print(\"y_train\")\n",
    "display(forecaster.create_train_X_y(series=series_diff, exog=exog_diff)[1])\n",
    "\n",
    "# y_index\n",
    "print(\"y_index\")\n",
    "display(forecaster.create_train_X_y(series=series_diff, exog=exog_diff)[2])\n",
    "\n",
    "# y_train_index\n",
    "print(\"y_train_index\")\n",
    "display(forecaster.create_train_X_y(series=series_diff, exog=exog_diff)[3])"
   ]
  },
  {
   "cell_type": "code",
   "execution_count": 84,
   "metadata": {},
   "outputs": [],
   "source": [
    "# exog is less than series\n",
    "exog_diff = exog_datetime.copy()\n",
    "exog_diff['l2'] = pd.Series(np.arange(105, 110), name='exog1')\n",
    "exog_diff['l2'].index = pd.date_range(start='2020-01-06', periods=len(exog_diff['l2']), freq='D')"
   ]
  },
  {
   "cell_type": "code",
   "execution_count": 102,
   "metadata": {},
   "outputs": [
    {
     "name": "stdout",
     "output_type": "stream",
     "text": [
      "X_train\n"
     ]
    },
    {
     "name": "stderr",
     "output_type": "stream",
     "text": [
      "C:\\Users\\jaesc2\\AppData\\Local\\Temp\\ipykernel_7388\\326126670.py:431: MissingValuesExogWarning: Series 'l2' and its `exog` do not have the same length. Exog values will be NaN for the not matched period of the series. \n",
      " You can suppress this warning using: warnings.simplefilter('ignore', category=MissingValuesExogWarning)\n",
      "  warnings.warn(\n",
      "c:\\Users\\jaesc2\\GitHub\\skforecast\\skforecast\\utils\\utils.py:346: MissingValuesExogWarning: `exog` has missing values. Most machine learning models do not allow missing values. Fitting the forecaster may fail. \n",
      " You can suppress this warning using: warnings.simplefilter('ignore', category=MissingValuesExogWarning)\n",
      "  warnings.warn(\n"
     ]
    },
    {
     "data": {
      "text/html": [
       "<div>\n",
       "<style scoped>\n",
       "    .dataframe tbody tr th:only-of-type {\n",
       "        vertical-align: middle;\n",
       "    }\n",
       "\n",
       "    .dataframe tbody tr th {\n",
       "        vertical-align: top;\n",
       "    }\n",
       "\n",
       "    .dataframe thead th {\n",
       "        text-align: right;\n",
       "    }\n",
       "</style>\n",
       "<table border=\"1\" class=\"dataframe\">\n",
       "  <thead>\n",
       "    <tr style=\"text-align: right;\">\n",
       "      <th></th>\n",
       "      <th>lag_1</th>\n",
       "      <th>lag_2</th>\n",
       "      <th>lag_3</th>\n",
       "      <th>_l1</th>\n",
       "      <th>_l2</th>\n",
       "      <th>exog1</th>\n",
       "      <th>exog2</th>\n",
       "    </tr>\n",
       "  </thead>\n",
       "  <tbody>\n",
       "    <tr>\n",
       "      <th>2020-01-04</th>\n",
       "      <td>0.226851</td>\n",
       "      <td>0.286139</td>\n",
       "      <td>0.696469</td>\n",
       "      <td>1.0</td>\n",
       "      <td>0.0</td>\n",
       "      <td>3.0</td>\n",
       "      <td>53.0</td>\n",
       "    </tr>\n",
       "    <tr>\n",
       "      <th>2020-01-05</th>\n",
       "      <td>0.551315</td>\n",
       "      <td>0.226851</td>\n",
       "      <td>0.286139</td>\n",
       "      <td>1.0</td>\n",
       "      <td>0.0</td>\n",
       "      <td>4.0</td>\n",
       "      <td>54.0</td>\n",
       "    </tr>\n",
       "    <tr>\n",
       "      <th>2020-01-06</th>\n",
       "      <td>0.719469</td>\n",
       "      <td>0.551315</td>\n",
       "      <td>0.226851</td>\n",
       "      <td>1.0</td>\n",
       "      <td>0.0</td>\n",
       "      <td>5.0</td>\n",
       "      <td>55.0</td>\n",
       "    </tr>\n",
       "    <tr>\n",
       "      <th>2020-01-07</th>\n",
       "      <td>0.423106</td>\n",
       "      <td>0.719469</td>\n",
       "      <td>0.551315</td>\n",
       "      <td>1.0</td>\n",
       "      <td>0.0</td>\n",
       "      <td>6.0</td>\n",
       "      <td>56.0</td>\n",
       "    </tr>\n",
       "    <tr>\n",
       "      <th>2020-01-08</th>\n",
       "      <td>0.980764</td>\n",
       "      <td>0.423106</td>\n",
       "      <td>0.719469</td>\n",
       "      <td>1.0</td>\n",
       "      <td>0.0</td>\n",
       "      <td>7.0</td>\n",
       "      <td>57.0</td>\n",
       "    </tr>\n",
       "    <tr>\n",
       "      <th>2020-01-09</th>\n",
       "      <td>0.684830</td>\n",
       "      <td>0.980764</td>\n",
       "      <td>0.423106</td>\n",
       "      <td>1.0</td>\n",
       "      <td>0.0</td>\n",
       "      <td>8.0</td>\n",
       "      <td>58.0</td>\n",
       "    </tr>\n",
       "    <tr>\n",
       "      <th>2020-01-10</th>\n",
       "      <td>0.480932</td>\n",
       "      <td>0.684830</td>\n",
       "      <td>0.980764</td>\n",
       "      <td>1.0</td>\n",
       "      <td>0.0</td>\n",
       "      <td>9.0</td>\n",
       "      <td>59.0</td>\n",
       "    </tr>\n",
       "    <tr>\n",
       "      <th>2020-01-04</th>\n",
       "      <td>0.603060</td>\n",
       "      <td>0.826341</td>\n",
       "      <td>0.120629</td>\n",
       "      <td>0.0</td>\n",
       "      <td>1.0</td>\n",
       "      <td>NaN</td>\n",
       "      <td>NaN</td>\n",
       "    </tr>\n",
       "    <tr>\n",
       "      <th>2020-01-05</th>\n",
       "      <td>0.545068</td>\n",
       "      <td>0.603060</td>\n",
       "      <td>0.826341</td>\n",
       "      <td>0.0</td>\n",
       "      <td>1.0</td>\n",
       "      <td>NaN</td>\n",
       "      <td>NaN</td>\n",
       "    </tr>\n",
       "    <tr>\n",
       "      <th>2020-01-06</th>\n",
       "      <td>0.342764</td>\n",
       "      <td>0.545068</td>\n",
       "      <td>0.603060</td>\n",
       "      <td>0.0</td>\n",
       "      <td>1.0</td>\n",
       "      <td>105.0</td>\n",
       "      <td>NaN</td>\n",
       "    </tr>\n",
       "    <tr>\n",
       "      <th>2020-01-07</th>\n",
       "      <td>0.304121</td>\n",
       "      <td>0.342764</td>\n",
       "      <td>0.545068</td>\n",
       "      <td>0.0</td>\n",
       "      <td>1.0</td>\n",
       "      <td>106.0</td>\n",
       "      <td>NaN</td>\n",
       "    </tr>\n",
       "    <tr>\n",
       "      <th>2020-01-08</th>\n",
       "      <td>0.417022</td>\n",
       "      <td>0.304121</td>\n",
       "      <td>0.342764</td>\n",
       "      <td>0.0</td>\n",
       "      <td>1.0</td>\n",
       "      <td>107.0</td>\n",
       "      <td>NaN</td>\n",
       "    </tr>\n",
       "    <tr>\n",
       "      <th>2020-01-09</th>\n",
       "      <td>0.681301</td>\n",
       "      <td>0.417022</td>\n",
       "      <td>0.304121</td>\n",
       "      <td>0.0</td>\n",
       "      <td>1.0</td>\n",
       "      <td>108.0</td>\n",
       "      <td>NaN</td>\n",
       "    </tr>\n",
       "    <tr>\n",
       "      <th>2020-01-10</th>\n",
       "      <td>0.875457</td>\n",
       "      <td>0.681301</td>\n",
       "      <td>0.417022</td>\n",
       "      <td>0.0</td>\n",
       "      <td>1.0</td>\n",
       "      <td>109.0</td>\n",
       "      <td>NaN</td>\n",
       "    </tr>\n",
       "  </tbody>\n",
       "</table>\n",
       "</div>"
      ],
      "text/plain": [
       "               lag_1     lag_2     lag_3  _l1  _l2  exog1  exog2\n",
       "2020-01-04  0.226851  0.286139  0.696469  1.0  0.0    3.0   53.0\n",
       "2020-01-05  0.551315  0.226851  0.286139  1.0  0.0    4.0   54.0\n",
       "2020-01-06  0.719469  0.551315  0.226851  1.0  0.0    5.0   55.0\n",
       "2020-01-07  0.423106  0.719469  0.551315  1.0  0.0    6.0   56.0\n",
       "2020-01-08  0.980764  0.423106  0.719469  1.0  0.0    7.0   57.0\n",
       "2020-01-09  0.684830  0.980764  0.423106  1.0  0.0    8.0   58.0\n",
       "2020-01-10  0.480932  0.684830  0.980764  1.0  0.0    9.0   59.0\n",
       "2020-01-04  0.603060  0.826341  0.120629  0.0  1.0    NaN    NaN\n",
       "2020-01-05  0.545068  0.603060  0.826341  0.0  1.0    NaN    NaN\n",
       "2020-01-06  0.342764  0.545068  0.603060  0.0  1.0  105.0    NaN\n",
       "2020-01-07  0.304121  0.342764  0.545068  0.0  1.0  106.0    NaN\n",
       "2020-01-08  0.417022  0.304121  0.342764  0.0  1.0  107.0    NaN\n",
       "2020-01-09  0.681301  0.417022  0.304121  0.0  1.0  108.0    NaN\n",
       "2020-01-10  0.875457  0.681301  0.417022  0.0  1.0  109.0    NaN"
      ]
     },
     "metadata": {},
     "output_type": "display_data"
    },
    {
     "name": "stdout",
     "output_type": "stream",
     "text": [
      "y_train\n"
     ]
    },
    {
     "name": "stderr",
     "output_type": "stream",
     "text": [
      "C:\\Users\\jaesc2\\AppData\\Local\\Temp\\ipykernel_7388\\326126670.py:431: MissingValuesExogWarning: Series 'l2' and its `exog` do not have the same length. Exog values will be NaN for the not matched period of the series. \n",
      " You can suppress this warning using: warnings.simplefilter('ignore', category=MissingValuesExogWarning)\n",
      "  warnings.warn(\n",
      "c:\\Users\\jaesc2\\GitHub\\skforecast\\skforecast\\utils\\utils.py:346: MissingValuesExogWarning: `exog` has missing values. Most machine learning models do not allow missing values. Fitting the forecaster may fail. \n",
      " You can suppress this warning using: warnings.simplefilter('ignore', category=MissingValuesExogWarning)\n",
      "  warnings.warn(\n"
     ]
    },
    {
     "data": {
      "text/plain": [
       "2020-01-04    0.551315\n",
       "2020-01-05    0.719469\n",
       "2020-01-06    0.423106\n",
       "2020-01-07    0.980764\n",
       "2020-01-08    0.684830\n",
       "2020-01-09    0.480932\n",
       "2020-01-10    0.392118\n",
       "2020-01-04    0.545068\n",
       "2020-01-05    0.342764\n",
       "2020-01-06    0.304121\n",
       "2020-01-07    0.417022\n",
       "2020-01-08    0.681301\n",
       "2020-01-09    0.875457\n",
       "2020-01-10    0.510422\n",
       "Name: y, dtype: float64"
      ]
     },
     "metadata": {},
     "output_type": "display_data"
    },
    {
     "name": "stdout",
     "output_type": "stream",
     "text": [
      "y_index\n"
     ]
    },
    {
     "name": "stderr",
     "output_type": "stream",
     "text": [
      "C:\\Users\\jaesc2\\AppData\\Local\\Temp\\ipykernel_7388\\326126670.py:431: MissingValuesExogWarning: Series 'l2' and its `exog` do not have the same length. Exog values will be NaN for the not matched period of the series. \n",
      " You can suppress this warning using: warnings.simplefilter('ignore', category=MissingValuesExogWarning)\n",
      "  warnings.warn(\n",
      "c:\\Users\\jaesc2\\GitHub\\skforecast\\skforecast\\utils\\utils.py:346: MissingValuesExogWarning: `exog` has missing values. Most machine learning models do not allow missing values. Fitting the forecaster may fail. \n",
      " You can suppress this warning using: warnings.simplefilter('ignore', category=MissingValuesExogWarning)\n",
      "  warnings.warn(\n"
     ]
    },
    {
     "data": {
      "text/plain": [
       "None"
      ]
     },
     "metadata": {},
     "output_type": "display_data"
    },
    {
     "name": "stdout",
     "output_type": "stream",
     "text": [
      "y_train_index\n"
     ]
    },
    {
     "name": "stderr",
     "output_type": "stream",
     "text": [
      "C:\\Users\\jaesc2\\AppData\\Local\\Temp\\ipykernel_7388\\326126670.py:431: MissingValuesExogWarning: Series 'l2' and its `exog` do not have the same length. Exog values will be NaN for the not matched period of the series. \n",
      " You can suppress this warning using: warnings.simplefilter('ignore', category=MissingValuesExogWarning)\n",
      "  warnings.warn(\n",
      "c:\\Users\\jaesc2\\GitHub\\skforecast\\skforecast\\utils\\utils.py:346: MissingValuesExogWarning: `exog` has missing values. Most machine learning models do not allow missing values. Fitting the forecaster may fail. \n",
      " You can suppress this warning using: warnings.simplefilter('ignore', category=MissingValuesExogWarning)\n",
      "  warnings.warn(\n"
     ]
    },
    {
     "data": {
      "text/plain": [
       "array(['2020-01-04T00:00:00.000000000', '2020-01-05T00:00:00.000000000',\n",
       "       '2020-01-06T00:00:00.000000000', '2020-01-07T00:00:00.000000000',\n",
       "       '2020-01-08T00:00:00.000000000', '2020-01-09T00:00:00.000000000',\n",
       "       '2020-01-10T00:00:00.000000000', '2020-01-04T00:00:00.000000000',\n",
       "       '2020-01-05T00:00:00.000000000', '2020-01-06T00:00:00.000000000',\n",
       "       '2020-01-07T00:00:00.000000000', '2020-01-08T00:00:00.000000000',\n",
       "       '2020-01-09T00:00:00.000000000', '2020-01-10T00:00:00.000000000'],\n",
       "      dtype='datetime64[ns]')"
      ]
     },
     "metadata": {},
     "output_type": "display_data"
    }
   ],
   "source": [
    "# series_dict with exog datetime\n",
    "# ==============================================================================\n",
    "\n",
    "# X_train\n",
    "print(\"X_train\")\n",
    "display(forecaster.create_train_X_y(series=series_datetime, exog=exog_diff)[0])\n",
    "\n",
    "# y_train\n",
    "print(\"y_train\")\n",
    "display(forecaster.create_train_X_y(series=series_datetime, exog=exog_diff)[1])\n",
    "\n",
    "# y_index\n",
    "print(\"y_index\")\n",
    "display(forecaster.create_train_X_y(series=series_datetime, exog=exog_diff)[2])\n",
    "\n",
    "# y_train_index\n",
    "print(\"y_train_index\")\n",
    "display(forecaster.create_train_X_y(series=series_datetime, exog=exog_diff)[3])"
   ]
  },
  {
   "cell_type": "code",
   "execution_count": null,
   "metadata": {},
   "outputs": [],
   "source": []
  },
  {
   "cell_type": "code",
   "execution_count": null,
   "metadata": {},
   "outputs": [],
   "source": []
  },
  {
   "cell_type": "code",
   "execution_count": 3,
   "metadata": {},
   "outputs": [],
   "source": [
    "import re\n",
    "import pytest\n",
    "import numpy as np\n",
    "import pandas as pd\n",
    "from sklearn.exceptions import NotFittedError\n",
    "from sklearn.compose import ColumnTransformer\n",
    "from sklearn.preprocessing import StandardScaler\n",
    "from sklearn.preprocessing import MinMaxScaler\n",
    "from sklearn.preprocessing import OneHotEncoder\n",
    "from sklearn.preprocessing import OrdinalEncoder\n",
    "from sklearn.preprocessing import FunctionTransformer\n",
    "from sklearn.compose import make_column_transformer\n",
    "from sklearn.compose import make_column_selector\n",
    "from sklearn.pipeline import make_pipeline\n",
    "from sklearn.linear_model import LinearRegression\n",
    "from sklearn.ensemble import HistGradientBoostingRegressor\n",
    "from lightgbm import LGBMRegressor\n",
    "\n",
    "from skforecast.exceptions import IgnoredArgumentWarning\n",
    "from skforecast.ForecasterAutoregMultiSeries import ForecasterAutoregMultiSeries\n"
   ]
  },
  {
   "cell_type": "code",
   "execution_count": 4,
   "metadata": {},
   "outputs": [],
   "source": [
    "series_2 = pd.DataFrame({'1': pd.Series(np.arange(start=0, stop=50)), \n",
    "                         '2': pd.Series(np.arange(start=50, stop=100))})"
   ]
  },
  {
   "cell_type": "code",
   "execution_count": 5,
   "metadata": {},
   "outputs": [],
   "source": [
    "series_3 = {\n",
    "    '1': series_2['1'].copy(),\n",
    "    '2': series_2['2'].iloc[:30].copy(),\n",
    "}\n",
    "series_3['1'].index = pd.date_range(start='2020-01-01', periods=50)\n",
    "series_3['2'].index = pd.date_range(start='2020-01-01', periods=30)"
   ]
  },
  {
   "cell_type": "code",
   "execution_count": 6,
   "metadata": {},
   "outputs": [],
   "source": [
    "forecaster = ForecasterAutoregMultiSeries(LinearRegression(), lags=5)\n",
    "forecaster.fit(series=series_3)"
   ]
  },
  {
   "cell_type": "code",
   "execution_count": 14,
   "metadata": {},
   "outputs": [
    {
     "data": {
      "text/html": [
       "<style>#sk-container-id-1 {color: black;}#sk-container-id-1 pre{padding: 0;}#sk-container-id-1 div.sk-toggleable {background-color: white;}#sk-container-id-1 label.sk-toggleable__label {cursor: pointer;display: block;width: 100%;margin-bottom: 0;padding: 0.3em;box-sizing: border-box;text-align: center;}#sk-container-id-1 label.sk-toggleable__label-arrow:before {content: \"▸\";float: left;margin-right: 0.25em;color: #696969;}#sk-container-id-1 label.sk-toggleable__label-arrow:hover:before {color: black;}#sk-container-id-1 div.sk-estimator:hover label.sk-toggleable__label-arrow:before {color: black;}#sk-container-id-1 div.sk-toggleable__content {max-height: 0;max-width: 0;overflow: hidden;text-align: left;background-color: #f0f8ff;}#sk-container-id-1 div.sk-toggleable__content pre {margin: 0.2em;color: black;border-radius: 0.25em;background-color: #f0f8ff;}#sk-container-id-1 input.sk-toggleable__control:checked~div.sk-toggleable__content {max-height: 200px;max-width: 100%;overflow: auto;}#sk-container-id-1 input.sk-toggleable__control:checked~label.sk-toggleable__label-arrow:before {content: \"▾\";}#sk-container-id-1 div.sk-estimator input.sk-toggleable__control:checked~label.sk-toggleable__label {background-color: #d4ebff;}#sk-container-id-1 div.sk-label input.sk-toggleable__control:checked~label.sk-toggleable__label {background-color: #d4ebff;}#sk-container-id-1 input.sk-hidden--visually {border: 0;clip: rect(1px 1px 1px 1px);clip: rect(1px, 1px, 1px, 1px);height: 1px;margin: -1px;overflow: hidden;padding: 0;position: absolute;width: 1px;}#sk-container-id-1 div.sk-estimator {font-family: monospace;background-color: #f0f8ff;border: 1px dotted black;border-radius: 0.25em;box-sizing: border-box;margin-bottom: 0.5em;}#sk-container-id-1 div.sk-estimator:hover {background-color: #d4ebff;}#sk-container-id-1 div.sk-parallel-item::after {content: \"\";width: 100%;border-bottom: 1px solid gray;flex-grow: 1;}#sk-container-id-1 div.sk-label:hover label.sk-toggleable__label {background-color: #d4ebff;}#sk-container-id-1 div.sk-serial::before {content: \"\";position: absolute;border-left: 1px solid gray;box-sizing: border-box;top: 0;bottom: 0;left: 50%;z-index: 0;}#sk-container-id-1 div.sk-serial {display: flex;flex-direction: column;align-items: center;background-color: white;padding-right: 0.2em;padding-left: 0.2em;position: relative;}#sk-container-id-1 div.sk-item {position: relative;z-index: 1;}#sk-container-id-1 div.sk-parallel {display: flex;align-items: stretch;justify-content: center;background-color: white;position: relative;}#sk-container-id-1 div.sk-item::before, #sk-container-id-1 div.sk-parallel-item::before {content: \"\";position: absolute;border-left: 1px solid gray;box-sizing: border-box;top: 0;bottom: 0;left: 50%;z-index: -1;}#sk-container-id-1 div.sk-parallel-item {display: flex;flex-direction: column;z-index: 1;position: relative;background-color: white;}#sk-container-id-1 div.sk-parallel-item:first-child::after {align-self: flex-end;width: 50%;}#sk-container-id-1 div.sk-parallel-item:last-child::after {align-self: flex-start;width: 50%;}#sk-container-id-1 div.sk-parallel-item:only-child::after {width: 0;}#sk-container-id-1 div.sk-dashed-wrapped {border: 1px dashed gray;margin: 0 0.4em 0.5em 0.4em;box-sizing: border-box;padding-bottom: 0.4em;background-color: white;}#sk-container-id-1 div.sk-label label {font-family: monospace;font-weight: bold;display: inline-block;line-height: 1.2em;}#sk-container-id-1 div.sk-label-container {text-align: center;}#sk-container-id-1 div.sk-container {/* jupyter's `normalize.less` sets `[hidden] { display: none; }` but bootstrap.min.css set `[hidden] { display: none !important; }` so we also need the `!important` here to be able to override the default hidden behavior on the sphinx rendered scikit-learn.org. See: https://github.com/scikit-learn/scikit-learn/issues/21755 */display: inline-block !important;position: relative;}#sk-container-id-1 div.sk-text-repr-fallback {display: none;}</style><div id=\"sk-container-id-1\" class=\"sk-top-container\"><div class=\"sk-text-repr-fallback\"><pre>OrdinalEncoder(dtype=&lt;class &#x27;int&#x27;&gt;)</pre><b>In a Jupyter environment, please rerun this cell to show the HTML representation or trust the notebook. <br />On GitHub, the HTML representation is unable to render, please try loading this page with nbviewer.org.</b></div><div class=\"sk-container\" hidden><div class=\"sk-item\"><div class=\"sk-estimator sk-toggleable\"><input class=\"sk-toggleable__control sk-hidden--visually\" id=\"sk-estimator-id-1\" type=\"checkbox\" checked><label for=\"sk-estimator-id-1\" class=\"sk-toggleable__label sk-toggleable__label-arrow\">OrdinalEncoder</label><div class=\"sk-toggleable__content\"><pre>OrdinalEncoder(dtype=&lt;class &#x27;int&#x27;&gt;)</pre></div></div></div></div></div>"
      ],
      "text/plain": [
       "OrdinalEncoder(dtype=<class 'int'>)"
      ]
     },
     "execution_count": 14,
     "metadata": {},
     "output_type": "execute_result"
    }
   ],
   "source": [
    "forecaster.encoder"
   ]
  },
  {
   "cell_type": "code",
   "execution_count": 17,
   "metadata": {},
   "outputs": [
    {
     "data": {
      "text/plain": [
       "{'1': 0, '2': 1}"
      ]
     },
     "execution_count": 17,
     "metadata": {},
     "output_type": "execute_result"
    }
   ],
   "source": [
    "forecaster.encoding_mapping"
   ]
  },
  {
   "cell_type": "code",
   "execution_count": 20,
   "metadata": {},
   "outputs": [
    {
     "data": {
      "text/plain": [
       "(               lag_1     lag_2     lag_3     lag_4     lag_5 _level_skforecast\n",
       " 2020-01-06 -1.420566 -1.489862 -1.559158 -1.628453 -1.697749                 0\n",
       " 2020-01-07 -1.351270 -1.420566 -1.489862 -1.559158 -1.628453                 0\n",
       " 2020-01-08 -1.281974 -1.351270 -1.420566 -1.489862 -1.559158                 0\n",
       " 2020-01-09 -1.212678 -1.281974 -1.351270 -1.420566 -1.489862                 0\n",
       " 2020-01-10 -1.143382 -1.212678 -1.281974 -1.351270 -1.420566                 0\n",
       " ...              ...       ...       ...       ...       ...               ...\n",
       " 2020-01-26  1.097575  0.982041  0.866507  0.750973  0.635438                 1\n",
       " 2020-01-27  1.213110  1.097575  0.982041  0.866507  0.750973                 1\n",
       " 2020-01-28  1.328644  1.213110  1.097575  0.982041  0.866507                 1\n",
       " 2020-01-29  1.444178  1.328644  1.213110  1.097575  0.982041                 1\n",
       " 2020-01-30  1.559712  1.444178  1.328644  1.213110  1.097575                 1\n",
       " \n",
       " [70 rows x 6 columns],\n",
       " 2020-01-06   -1.351270\n",
       " 2020-01-07   -1.281974\n",
       " 2020-01-08   -1.212678\n",
       " 2020-01-09   -1.143382\n",
       " 2020-01-10   -1.074086\n",
       "                 ...   \n",
       " 2020-01-26    1.213110\n",
       " 2020-01-27    1.328644\n",
       " 2020-01-28    1.444178\n",
       " 2020-01-29    1.559712\n",
       " 2020-01-30    1.675247\n",
       " Name: y, Length: 70, dtype: float64,\n",
       " {'1': DatetimeIndex(['2020-01-01', '2020-01-02', '2020-01-03', '2020-01-04',\n",
       "                 '2020-01-05', '2020-01-06', '2020-01-07', '2020-01-08',\n",
       "                 '2020-01-09', '2020-01-10', '2020-01-11', '2020-01-12',\n",
       "                 '2020-01-13', '2020-01-14', '2020-01-15', '2020-01-16',\n",
       "                 '2020-01-17', '2020-01-18', '2020-01-19', '2020-01-20',\n",
       "                 '2020-01-21', '2020-01-22', '2020-01-23', '2020-01-24',\n",
       "                 '2020-01-25', '2020-01-26', '2020-01-27', '2020-01-28',\n",
       "                 '2020-01-29', '2020-01-30', '2020-01-31', '2020-02-01',\n",
       "                 '2020-02-02', '2020-02-03', '2020-02-04', '2020-02-05',\n",
       "                 '2020-02-06', '2020-02-07', '2020-02-08', '2020-02-09',\n",
       "                 '2020-02-10', '2020-02-11', '2020-02-12', '2020-02-13',\n",
       "                 '2020-02-14', '2020-02-15', '2020-02-16', '2020-02-17',\n",
       "                 '2020-02-18', '2020-02-19'],\n",
       "                dtype='datetime64[ns]', freq='D'),\n",
       "  '2': DatetimeIndex(['2020-01-01', '2020-01-02', '2020-01-03', '2020-01-04',\n",
       "                 '2020-01-05', '2020-01-06', '2020-01-07', '2020-01-08',\n",
       "                 '2020-01-09', '2020-01-10', '2020-01-11', '2020-01-12',\n",
       "                 '2020-01-13', '2020-01-14', '2020-01-15', '2020-01-16',\n",
       "                 '2020-01-17', '2020-01-18', '2020-01-19', '2020-01-20',\n",
       "                 '2020-01-21', '2020-01-22', '2020-01-23', '2020-01-24',\n",
       "                 '2020-01-25', '2020-01-26', '2020-01-27', '2020-01-28',\n",
       "                 '2020-01-29', '2020-01-30'],\n",
       "                dtype='datetime64[ns]', freq='D')},\n",
       " ['1', '2'],\n",
       " None,\n",
       " None,\n",
       " {'1': 2020-02-15    45\n",
       "  2020-02-16    46\n",
       "  2020-02-17    47\n",
       "  2020-02-18    48\n",
       "  2020-02-19    49\n",
       "  Freq: D, Name: 1, dtype: int32,\n",
       "  '2': 2020-01-26    75\n",
       "  2020-01-27    76\n",
       "  2020-01-28    77\n",
       "  2020-01-29    78\n",
       "  2020-01-30    79\n",
       "  Freq: D, Name: 2, dtype: int32})"
      ]
     },
     "execution_count": 20,
     "metadata": {},
     "output_type": "execute_result"
    }
   ],
   "source": [
    "series_4 = {\n",
    "    '1': series_2['1'].copy(),\n",
    "    '2': series_2['2'].iloc[:30].copy(),\n",
    "}\n",
    "series_4['1'].index = pd.date_range(start='2020-01-01', periods=50)\n",
    "series_4['2'].index = pd.date_range(start='2020-01-01', periods=30)\n",
    "\n",
    "forecaster._create_train_X_y(series=series_4)"
   ]
  },
  {
   "cell_type": "code",
   "execution_count": 25,
   "metadata": {},
   "outputs": [
    {
     "name": "stderr",
     "output_type": "stream",
     "text": [
      "c:\\Users\\jaesc2\\GitHub\\skforecast\\skforecast\\utils\\utils.py:2221: MissingExogWarning: {'l2'} not present in `exog`. All values of the exogenous variables for these series will be NaN. \n",
      " You can suppress this warning using: warnings.simplefilter('ignore', category=MissingExogWarning)\n",
      "  warnings.warn(\n",
      "c:\\Users\\jaesc2\\GitHub\\skforecast\\skforecast\\utils\\utils.py:2353: MissingValuesWarning: Series 'l3' and its `exog` do not have the same length. Exog values will be NaN for the not matched period of the series. \n",
      " You can suppress this warning using: warnings.simplefilter('ignore', category=MissingValuesWarning)\n",
      "  warnings.warn(\n",
      "c:\\Users\\jaesc2\\GitHub\\skforecast\\skforecast\\utils\\utils.py:475: DataTypeWarning: `exog` may contain only `int`, `float` or `category` dtypes. Most machine learning models do not allow other types of values. Fitting the forecaster may fail. \n",
      " You can suppress this warning using: warnings.simplefilter('ignore', category=ValueTypesExogWarning)\n",
      "  warnings.warn(\n",
      "c:\\Users\\jaesc2\\GitHub\\skforecast\\skforecast\\ForecasterAutoregMultiSeries\\ForecasterAutoregMultiSeries.py:760: MissingValuesWarning: NaNs detected in `y_train`. They have been dropped since the target variable cannot have NaN values. Same rows have been dropped from `X_train` to maintain alignment. This caused by series with interspersed NaNs. \n",
      " You can suppress this warning using: warnings.simplefilter('ignore', category=MissingValuesWarning)\n",
      "  warnings.warn(\n",
      "c:\\Users\\jaesc2\\GitHub\\skforecast\\skforecast\\ForecasterAutoregMultiSeries\\ForecasterAutoregMultiSeries.py:783: MissingValuesWarning: NaNs detected in `X_train`. Some regressor do not allow NaN values during training. If you want to drop them, set `drop_nan = True`. \n",
      " You can suppress this warning using: warnings.simplefilter('ignore', category=MissingValuesWarning)\n",
      "  warnings.warn(\n"
     ]
    }
   ],
   "source": [
    "series = {\n",
    "        \"l1\": pd.Series(np.arange(10, dtype=float)),\n",
    "        \"l2\": pd.Series(np.arange(15, 20, dtype=float)),\n",
    "        \"l3\": pd.Series(np.arange(20, 25, dtype=float)),\n",
    "    }\n",
    "series[\"l1\"].loc[3] = np.nan\n",
    "series[\"l2\"].loc[2] = np.nan\n",
    "series[\"l1\"].index = pd.date_range(\"1990-01-01\", periods=10, freq=\"D\")\n",
    "series[\"l2\"].index = pd.date_range(\"1990-01-05\", periods=5, freq=\"D\")\n",
    "series[\"l3\"].index = pd.date_range(\"1990-01-03\", periods=5, freq=\"D\")\n",
    "\n",
    "exog = {\n",
    "    \"l1\": pd.Series(np.arange(100, 110), name=\"exog_1\", dtype=float),\n",
    "    \"l3\": pd.DataFrame(\n",
    "        {\"exog_1\": np.arange(203, 207, dtype=float), \"exog_2\": [\"a\", \"b\", \"a\", \"b\"]}\n",
    "    ),\n",
    "}\n",
    "exog[\"l1\"].index = pd.date_range(\"1990-01-01\", periods=10, freq=\"D\")\n",
    "exog[\"l3\"].index = pd.date_range(\"1990-01-03\", periods=4, freq=\"D\")\n",
    "\n",
    "forecaster = ForecasterAutoregMultiSeries(\n",
    "    LinearRegression(), lags=3, differentiation=1, transformer_series=None\n",
    ")\n",
    "results = forecaster._create_train_X_y(series=series, exog=exog, drop_nan=False)"
   ]
  },
  {
   "cell_type": "code",
   "execution_count": 26,
   "metadata": {},
   "outputs": [
    {
     "data": {
      "text/html": [
       "<div>\n",
       "<style scoped>\n",
       "    .dataframe tbody tr th:only-of-type {\n",
       "        vertical-align: middle;\n",
       "    }\n",
       "\n",
       "    .dataframe tbody tr th {\n",
       "        vertical-align: top;\n",
       "    }\n",
       "\n",
       "    .dataframe thead th {\n",
       "        text-align: right;\n",
       "    }\n",
       "</style>\n",
       "<table border=\"1\" class=\"dataframe\">\n",
       "  <thead>\n",
       "    <tr style=\"text-align: right;\">\n",
       "      <th></th>\n",
       "      <th>lag_1</th>\n",
       "      <th>lag_2</th>\n",
       "      <th>lag_3</th>\n",
       "      <th>_level_skforecast</th>\n",
       "      <th>exog_1</th>\n",
       "      <th>exog_2</th>\n",
       "    </tr>\n",
       "  </thead>\n",
       "  <tbody>\n",
       "    <tr>\n",
       "      <th>1990-01-06</th>\n",
       "      <td>NaN</td>\n",
       "      <td>NaN</td>\n",
       "      <td>1.0</td>\n",
       "      <td>0</td>\n",
       "      <td>105.0</td>\n",
       "      <td>NaN</td>\n",
       "    </tr>\n",
       "    <tr>\n",
       "      <th>1990-01-07</th>\n",
       "      <td>1.0</td>\n",
       "      <td>NaN</td>\n",
       "      <td>NaN</td>\n",
       "      <td>0</td>\n",
       "      <td>106.0</td>\n",
       "      <td>NaN</td>\n",
       "    </tr>\n",
       "    <tr>\n",
       "      <th>1990-01-08</th>\n",
       "      <td>1.0</td>\n",
       "      <td>1.0</td>\n",
       "      <td>NaN</td>\n",
       "      <td>0</td>\n",
       "      <td>107.0</td>\n",
       "      <td>NaN</td>\n",
       "    </tr>\n",
       "    <tr>\n",
       "      <th>1990-01-09</th>\n",
       "      <td>1.0</td>\n",
       "      <td>1.0</td>\n",
       "      <td>1.0</td>\n",
       "      <td>0</td>\n",
       "      <td>108.0</td>\n",
       "      <td>NaN</td>\n",
       "    </tr>\n",
       "    <tr>\n",
       "      <th>1990-01-10</th>\n",
       "      <td>1.0</td>\n",
       "      <td>1.0</td>\n",
       "      <td>1.0</td>\n",
       "      <td>0</td>\n",
       "      <td>109.0</td>\n",
       "      <td>NaN</td>\n",
       "    </tr>\n",
       "    <tr>\n",
       "      <th>1990-01-09</th>\n",
       "      <td>NaN</td>\n",
       "      <td>NaN</td>\n",
       "      <td>1.0</td>\n",
       "      <td>1</td>\n",
       "      <td>NaN</td>\n",
       "      <td>NaN</td>\n",
       "    </tr>\n",
       "    <tr>\n",
       "      <th>1990-01-07</th>\n",
       "      <td>1.0</td>\n",
       "      <td>1.0</td>\n",
       "      <td>1.0</td>\n",
       "      <td>2</td>\n",
       "      <td>NaN</td>\n",
       "      <td>NaN</td>\n",
       "    </tr>\n",
       "  </tbody>\n",
       "</table>\n",
       "</div>"
      ],
      "text/plain": [
       "            lag_1  lag_2  lag_3 _level_skforecast  exog_1 exog_2\n",
       "1990-01-06    NaN    NaN    1.0                 0   105.0    NaN\n",
       "1990-01-07    1.0    NaN    NaN                 0   106.0    NaN\n",
       "1990-01-08    1.0    1.0    NaN                 0   107.0    NaN\n",
       "1990-01-09    1.0    1.0    1.0                 0   108.0    NaN\n",
       "1990-01-10    1.0    1.0    1.0                 0   109.0    NaN\n",
       "1990-01-09    NaN    NaN    1.0                 1     NaN    NaN\n",
       "1990-01-07    1.0    1.0    1.0                 2     NaN    NaN"
      ]
     },
     "execution_count": 26,
     "metadata": {},
     "output_type": "execute_result"
    }
   ],
   "source": [
    "results[0]"
   ]
  },
  {
   "cell_type": "code",
   "execution_count": null,
   "metadata": {},
   "outputs": [],
   "source": []
  }
 ],
 "metadata": {
  "kernelspec": {
   "display_name": "skforecast_py10",
   "language": "python",
   "name": "python3"
  },
  "language_info": {
   "codemirror_mode": {
    "name": "ipython",
    "version": 3
   },
   "file_extension": ".py",
   "mimetype": "text/x-python",
   "name": "python",
   "nbconvert_exporter": "python",
   "pygments_lexer": "ipython3",
   "version": "3.11.5"
  },
  "orig_nbformat": 4,
  "vscode": {
   "interpreter": {
    "hash": "c78d62c1713fdacd99ef7c429003c7324b36fbb551fb8b6860a7ea73e9338235"
   }
  }
 },
 "nbformat": 4,
 "nbformat_minor": 2
}
