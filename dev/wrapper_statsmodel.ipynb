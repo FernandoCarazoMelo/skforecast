{
 "cells": [
  {
   "cell_type": "code",
   "execution_count": 29,
   "metadata": {},
   "outputs": [],
   "source": [
    "from sklearn.base import BaseEstimator, RegressorMixin\n",
    "import statsmodels.api as sm\n",
    "from statsmodels.tsa.statespace.sarimax import SARIMAX\n",
    "from statsmodels.tsa.statespace.sarimax import SARIMAXResults\n",
    "\n",
    "from typing import Optional, Union, Tuple, List, Dict\n",
    "\n",
    "\n",
    "import pandas as pd\n",
    "import numpy as np\n",
    "import warnings\n",
    "import inspect"
   ]
  },
  {
   "cell_type": "markdown",
   "metadata": {},
   "source": [
    "https://www.aritro.in/post/exponential-smoothing-using-scikit-learn-wrapper-statsmodels/\n",
    "\n",
    "https://www.scikit-yb.org/en/latest/_modules/yellowbrick/contrib/statsmodels/base.html#StatsModelsWrapper"
   ]
  },
  {
   "cell_type": "code",
   "execution_count": 7,
   "metadata": {},
   "outputs": [],
   "source": [
    "from typing import Optional, Union, Tuple, List, Dict\n",
    "\n",
    "\n",
    "\n",
    "class Sarimax(BaseEstimator, RegressorMixin):\n",
    "    \"\"\"\n",
    "    A universal sklearn-style wrapper for statsmodels SARIMAX.\n",
    "\n",
    "    Parameters\n",
    "    ----------\n",
    "\n",
    "\n",
    "    Attributes\n",
    "    ----------\n",
    "\n",
    "    \"\"\"\n",
    "\n",
    "    def __init__(\n",
    "        self,\n",
    "        order: tuple=(1, 0, 0),\n",
    "        seasonal_order: tuple=(0, 0, 0, 0),\n",
    "        trend: str=None,\n",
    "        measurement_error: bool=False,\n",
    "        time_varying_regression: bool=False,\n",
    "        mle_regression: bool=True,\n",
    "        simple_differencing: bool=False,\n",
    "        enforce_stationarity: bool=True,\n",
    "        enforce_invertibility: bool=True,\n",
    "        hamilton_representation: bool=False,\n",
    "        concentrate_scale: bool=False,\n",
    "        trend_offset: int=1,\n",
    "        use_exact_diffuse: bool=False,\n",
    "        dates = None,\n",
    "        freq = None,\n",
    "        missing = 'none',\n",
    "        validate_specification: bool=True,\n",
    "        method: str='lbfgs',\n",
    "        maxiter: int=50,\n",
    "        start_params = None,\n",
    "        disp: bool= False,\n",
    "        fit_kwargs: Optional[dict]={'disp':False},\n",
    "        predict_kwargs: Optional[dict]={}\n",
    "    ) -> None:\n",
    "\n",
    "        self.order                   = order\n",
    "        self.seasonal_order          = seasonal_order\n",
    "        self.trend                   = trend\n",
    "        self.measurement_error       = measurement_error\n",
    "        self.time_varying_regression = time_varying_regression\n",
    "        self.mle_regression          = mle_regression\n",
    "        self.simple_differencing     = simple_differencing\n",
    "        self.enforce_stationarity    = enforce_stationarity\n",
    "        self.enforce_invertibility   = enforce_invertibility\n",
    "        self.hamilton_representation = hamilton_representation\n",
    "        self.concentrate_scale       = concentrate_scale\n",
    "        self.trend_offset            = trend_offset\n",
    "        self.use_exact_diffuse       = use_exact_diffuse\n",
    "        self.dates                   = dates\n",
    "        self.freq                    = freq\n",
    "        self.missing                 = missing\n",
    "        self.validate_specification  = validate_specification\n",
    "        self.method                  = method\n",
    "        self.maxiter                 = maxiter\n",
    "        self.start_params            = start_params\n",
    "        self.disp                    = disp\n",
    "        self.fit_kwargs              = fit_kwargs\n",
    "        self.predict_kwargs          = predict_kwargs\n",
    "        \n",
    "        self.sarimax        = None\n",
    "        self.sarimax_res    = None\n",
    "        self.training_index = None\n",
    "        self._dummy_create_fit_sarimax()\n",
    "\n",
    "        # Check remove from fit_kwargs the parameters that are not in the fit method\n",
    "        # of the statsmodels.SARIMAX\n",
    "        fit_kwargs_keys = inspect.signature(self.sarimax.fit).parameters.keys()\n",
    "        self.fit_kwargs = {k:v for k,v in self.fit_kwargs.items() if k in fit_kwargs_keys}\n",
    "        # Check remove from predict_kwargs the parameters that are not in the predict method\n",
    "        # of the statsmodels.SARIMAX.RESULTS\n",
    "        predict_kwargs_keys = inspect.signature(self.sarimax_res.get_forecast).parameters.keys()\n",
    "        self.predict_kwargs = {k:v for k,v in self.predict_kwargs.items() if k in predict_kwargs_keys}\n",
    "\n",
    "\n",
    "    def _create_sarimax(\n",
    "        self,\n",
    "        y: pd.Series,\n",
    "        exog: Optional[Union[pd.Series, pd.DataFrame]] = None\n",
    "        ) -> None:\n",
    "        \"\"\"\n",
    "        A helper function to create a new statsmodel.SARIMAX.\n",
    "\n",
    "        Parameters\n",
    "        ----------\n",
    "        y : pandas.Series\n",
    "            The endogenous variable.\n",
    "        exog : pandas.DataFrame\n",
    "            The exogenous variables.\n",
    "        \n",
    "        Returns\n",
    "        -------\n",
    "        None\n",
    "\n",
    "        \"\"\"\n",
    "        print(self.__dict__)\n",
    "\n",
    "        self.sarimax = SARIMAX(endog=y, exog=exog, **self.__dict__)\n",
    "\n",
    "        return\n",
    "    \n",
    "\n",
    "    def _dummy_create_fit_sarimax(self):\n",
    "        \"\"\"\n",
    "        A helper function to create a dummy SARIMAX and fit it to an empty\n",
    "        series.\n",
    "\n",
    "        Parameters\n",
    "        ----------\n",
    "        None\n",
    "\n",
    "        Returns\n",
    "        -------\n",
    "        None\n",
    "        \"\"\"\n",
    "        kwargs_default = {\n",
    "            'method': self.method,\n",
    "            'maxiter': self.maxiter,\n",
    "            'start_params': self.start_params,\n",
    "            'disp': self.disp,\n",
    "        }\n",
    "        \n",
    "        with warnings.catch_warnings():\n",
    "            warnings.simplefilter(\"ignore\")\n",
    "            self._create_sarimax(y=pd.Series([], dtype=float), exog=None)\n",
    "            self.sarimax_res = self.sarimax.fit(**kwargs_default)\n",
    "            self.training_index = pd.RangeIndex(start=0, stop=0, step=1)\n",
    "\n",
    "        return\n",
    "\n",
    "\n",
    "    def fit(\n",
    "        self,\n",
    "        y: pd.Series,\n",
    "        exog: Optional[Union[pd.Series, pd.DataFrame]] = None\n",
    "    ) -> None:\n",
    "        \"\"\"\n",
    "        Fit the model to the data.\n",
    "\n",
    "        Parameters\n",
    "        ----------\n",
    "        y : pandas Series\n",
    "            Training time series.\n",
    "        exog : pandas Series, pandas DataFrame, default `None`\n",
    "            Exogenous variable/s included as predictor/s. Must have the same\n",
    "            number of observations as `y` and their indexes must be aligned so\n",
    "            that y[i] is regressed on exog[i].\n",
    "\n",
    "        Returns\n",
    "        -------\n",
    "        None\n",
    "\n",
    "        \"\"\"\n",
    "        \n",
    "        kwargs_default = {\n",
    "            'method': self.method,\n",
    "            'maxiter': self.maxiter,\n",
    "            'start_params': self.start_params,\n",
    "            'disp': self.disp,\n",
    "        }\n",
    "\n",
    "        # User provided fit_kwargs in the fit have preference over the default ones\n",
    "        if self.fit_kwargs:\n",
    "            kwargs_default.update(fit_kwargs)\n",
    "\n",
    "        self._create_sarimax(y=y, exog=exog)\n",
    "        self.sarimax_res = self.sarimax.fit(**self.fit_kwargs)\n",
    "        self.training_index = y.index\n",
    "\n",
    "        return \n",
    "\n",
    "\n",
    "    def predict(\n",
    "        self,\n",
    "        steps: int,\n",
    "        last_window: Optional[pd.Series]=None,\n",
    "        exog: Optional[Union[pd.Series, pd.DataFrame]]=None\n",
    "    ):\n",
    "        \"\"\"\n",
    "        Predict n steps ahead. It is an recursive process in which, each prediction,\n",
    "        is used as a predictor for the next step.\n",
    "\n",
    "        Parameters\n",
    "        ----------\n",
    "        steps : int\n",
    "            Number of future steps predicted.\n",
    "        last_window : pandas Series, default `None`\n",
    "            Series values used to create the predictors (lags) needed in the \n",
    "            first iteration of the prediction (t + 1).\n",
    "            If `last_window = None`, the values stored in `self.last_window` are\n",
    "            used to calculate the initial predictors, and the predictions start\n",
    "            right after training data.\n",
    "        exog : pandas Series, pandas DataFrame, default `None`\n",
    "            Exogenous variable/s included as predictor/s.\n",
    "\n",
    "        Returns\n",
    "        -------\n",
    "        predictions : pandas Series\n",
    "            Predicted values.\n",
    "        \n",
    "        \"\"\"\n",
    "\n",
    "        predictions = self.sarimax_res.forecast(steps=steps, exog=exog)\n",
    "\n",
    "        return predictions\n",
    "    \n",
    "\n",
    "    def predict_interval(self, steps, exog=None, alpha=0.05, **kwargs):\n",
    "        \"\"\"\n",
    "        \"\"\"\n",
    "        predictions = self.sarimax_res.get_forecast(\n",
    "                        steps           = steps,\n",
    "                        exog            = exog,\n",
    "                        return_conf_int = False,\n",
    "                        alpha           = 0.05,\n",
    "                        **kwargs\n",
    "                      )\n",
    "        \n",
    "        predictions = pd.concat((\n",
    "                        predictions.predicted_mean.rename(\"pred\"),\n",
    "                        predictions.conf_int(alpha=alpha)),\n",
    "                        axis = 1\n",
    "                     )\n",
    "        predictions.columns = ['pred', 'lower_bound', 'upper_bound']\n",
    "\n",
    "        return predictions\n",
    "    \n",
    "    def extend():\n",
    "        \"\"\"\n",
    "        \"\"\"\n",
    "        pass\n",
    "    \n",
    "\n",
    "    def set_params(self, params):\n",
    "        \"\"\"\n",
    "        \n",
    "        \"\"\"\n",
    "        params = {k:v for k,v in params.items() if k in self.__dict__}\n",
    "        for key, value in params.items():\n",
    "            setattr(self, key, value)\n",
    "\n",
    "        self._create_sarimax(\n",
    "            y = pd.Series(data=self.sarimax.endog.ravel(), index=self.training_index),\n",
    "            exog = self.sarimax.exog\n",
    "        )\n",
    "            \n",
    "\n",
    "    def __repr__(self):\n",
    "        p, d, q = self.order\n",
    "        P, D, Q, m = self.seasonal_order\n",
    "\n",
    "        return f\"Sarimax({p},{d},{q})({P},{D},{Q})[{m}]\"\n"
   ]
  },
  {
   "cell_type": "code",
   "execution_count": 14,
   "metadata": {},
   "outputs": [
    {
     "name": "stdout",
     "output_type": "stream",
     "text": [
      "{'order': (1, 0, 0), 'seasonal_order': (0, 0, 0, 0), 'trend': None, 'measurement_error': False, 'time_varying_regression': False, 'mle_regression': True, 'simple_differencing': False, 'enforce_stationarity': True, 'enforce_invertibility': True, 'hamilton_representation': False, 'concentrate_scale': False, 'trend_offset': 1, 'use_exact_diffuse': False, 'dates': None, 'freq': None, 'missing': 'none', 'validate_specification': True, 'method': 'lbfgs', 'maxiter': 50, 'start_params': None, 'disp': False, 'fit_kwargs': {'disp': False}, 'predict_kwargs': {}, 'sarimax': None, 'sarimax_res': None, 'training_index': None}\n"
     ]
    },
    {
     "ename": "AttributeError",
     "evalue": "'Sarimax' object has no attribute 'f_code'",
     "output_type": "error",
     "traceback": [
      "\u001b[1;31m---------------------------------------------------------------------------\u001b[0m",
      "\u001b[1;31mAttributeError\u001b[0m                            Traceback (most recent call last)",
      "Cell \u001b[1;32mIn[14], line 1\u001b[0m\n\u001b[1;32m----> 1\u001b[0m args \u001b[39m=\u001b[39m inspect\u001b[39m.\u001b[39;49mgetargvalues(Sarimax())\n",
      "File \u001b[1;32mc:\\Users\\jaesc2\\Miniconda3\\envs\\skforecast\\lib\\inspect.py:1346\u001b[0m, in \u001b[0;36mgetargvalues\u001b[1;34m(frame)\u001b[0m\n\u001b[0;32m   1339\u001b[0m \u001b[39mdef\u001b[39;00m \u001b[39mgetargvalues\u001b[39m(frame):\n\u001b[0;32m   1340\u001b[0m \u001b[39m    \u001b[39m\u001b[39m\"\"\"Get information about arguments passed into a particular frame.\u001b[39;00m\n\u001b[0;32m   1341\u001b[0m \n\u001b[0;32m   1342\u001b[0m \u001b[39m    A tuple of four things is returned: (args, varargs, varkw, locals).\u001b[39;00m\n\u001b[0;32m   1343\u001b[0m \u001b[39m    'args' is a list of the argument names.\u001b[39;00m\n\u001b[0;32m   1344\u001b[0m \u001b[39m    'varargs' and 'varkw' are the names of the * and ** arguments or None.\u001b[39;00m\n\u001b[0;32m   1345\u001b[0m \u001b[39m    'locals' is the locals dictionary of the given frame.\"\"\"\u001b[39;00m\n\u001b[1;32m-> 1346\u001b[0m     args, varargs, varkw \u001b[39m=\u001b[39m getargs(frame\u001b[39m.\u001b[39;49mf_code)\n\u001b[0;32m   1347\u001b[0m     \u001b[39mreturn\u001b[39;00m ArgInfo(args, varargs, varkw, frame\u001b[39m.\u001b[39mf_locals)\n",
      "\u001b[1;31mAttributeError\u001b[0m: 'Sarimax' object has no attribute 'f_code'"
     ]
    }
   ],
   "source": [
    "args = inspect.getargvalues(Sarimax())"
   ]
  },
  {
   "cell_type": "code",
   "execution_count": 3,
   "metadata": {},
   "outputs": [
    {
     "name": "stdout",
     "output_type": "stream",
     "text": [
      "{'order': (5, 1, 1), 'seasonal_order': (0, 0, 0, 0), 'trend': None, 'measurement_error': False, 'time_varying_regression': False, 'mle_regression': True, 'simple_differencing': False, 'enforce_stationarity': True, 'enforce_invertibility': True, 'hamilton_representation': False, 'concentrate_scale': False, 'trend_offset': 1, 'use_exact_diffuse': False, 'dates': None, 'freq': None, 'missing': 'none', 'validate_specification': True, 'method': 'lbfgs', 'maxiter': 50, 'start_params': None, 'disp': False, 'fit_kwargs': {'disp': False}, 'predict_kwargs': {}, 'sarimax': None, 'sarimax_res': None, 'training_index': None}\n"
     ]
    },
    {
     "ename": "LinAlgError",
     "evalue": "Schur decomposition solver error.",
     "output_type": "error",
     "traceback": [
      "\u001b[1;31m---------------------------------------------------------------------------\u001b[0m",
      "\u001b[1;31mLinAlgError\u001b[0m                               Traceback (most recent call last)",
      "Cell \u001b[1;32mIn[3], line 1\u001b[0m\n\u001b[1;32m----> 1\u001b[0m sarimax \u001b[39m=\u001b[39m Sarimax(order\u001b[39m=\u001b[39;49m(\u001b[39m5\u001b[39;49m, \u001b[39m1\u001b[39;49m, \u001b[39m1\u001b[39;49m))\n",
      "Cell \u001b[1;32mIn[2], line 72\u001b[0m, in \u001b[0;36mSarimax.__init__\u001b[1;34m(self, order, seasonal_order, trend, measurement_error, time_varying_regression, mle_regression, simple_differencing, enforce_stationarity, enforce_invertibility, hamilton_representation, concentrate_scale, trend_offset, use_exact_diffuse, dates, freq, missing, validate_specification, method, maxiter, start_params, disp, fit_kwargs, predict_kwargs)\u001b[0m\n\u001b[0;32m     70\u001b[0m \u001b[39mself\u001b[39m\u001b[39m.\u001b[39msarimax_res    \u001b[39m=\u001b[39m \u001b[39mNone\u001b[39;00m\n\u001b[0;32m     71\u001b[0m \u001b[39mself\u001b[39m\u001b[39m.\u001b[39mtraining_index \u001b[39m=\u001b[39m \u001b[39mNone\u001b[39;00m\n\u001b[1;32m---> 72\u001b[0m \u001b[39mself\u001b[39;49m\u001b[39m.\u001b[39;49m_dummy_create_fit_sarimax()\n\u001b[0;32m     74\u001b[0m \u001b[39m# Check remove from fit_kwargs the parameters that are not in the fit method\u001b[39;00m\n\u001b[0;32m     75\u001b[0m \u001b[39m# of the statsmodels.SARIMAX\u001b[39;00m\n\u001b[0;32m     76\u001b[0m fit_kwargs_keys \u001b[39m=\u001b[39m inspect\u001b[39m.\u001b[39msignature(\u001b[39mself\u001b[39m\u001b[39m.\u001b[39msarimax\u001b[39m.\u001b[39mfit)\u001b[39m.\u001b[39mparameters\u001b[39m.\u001b[39mkeys()\n",
      "Cell \u001b[1;32mIn[2], line 135\u001b[0m, in \u001b[0;36mSarimax._dummy_create_fit_sarimax\u001b[1;34m(self)\u001b[0m\n\u001b[0;32m    133\u001b[0m     warnings\u001b[39m.\u001b[39msimplefilter(\u001b[39m\"\u001b[39m\u001b[39mignore\u001b[39m\u001b[39m\"\u001b[39m)\n\u001b[0;32m    134\u001b[0m     \u001b[39mself\u001b[39m\u001b[39m.\u001b[39m_create_sarimax(y\u001b[39m=\u001b[39mpd\u001b[39m.\u001b[39mSeries([], dtype\u001b[39m=\u001b[39m\u001b[39mfloat\u001b[39m), exog\u001b[39m=\u001b[39m\u001b[39mNone\u001b[39;00m)\n\u001b[1;32m--> 135\u001b[0m     \u001b[39mself\u001b[39m\u001b[39m.\u001b[39msarimax_res \u001b[39m=\u001b[39m \u001b[39mself\u001b[39m\u001b[39m.\u001b[39msarimax\u001b[39m.\u001b[39mfit(\u001b[39m*\u001b[39m\u001b[39m*\u001b[39mkwargs_default)\n\u001b[0;32m    136\u001b[0m     \u001b[39mself\u001b[39m\u001b[39m.\u001b[39mtraining_index \u001b[39m=\u001b[39m pd\u001b[39m.\u001b[39mRangeIndex(start\u001b[39m=\u001b[39m\u001b[39m0\u001b[39m, stop\u001b[39m=\u001b[39m\u001b[39m0\u001b[39m, step\u001b[39m=\u001b[39m\u001b[39m1\u001b[39m)\n\u001b[0;32m    138\u001b[0m \u001b[39mreturn\u001b[39;00m\n",
      "File \u001b[1;32mc:\\Users\\jaesc2\\Miniconda3\\envs\\skforecast\\lib\\site-packages\\statsmodels\\tsa\\statespace\\mlemodel.py:704\u001b[0m, in \u001b[0;36mMLEModel.fit\u001b[1;34m(self, start_params, transformed, includes_fixed, cov_type, cov_kwds, method, maxiter, full_output, disp, callback, return_params, optim_score, optim_complex_step, optim_hessian, flags, low_memory, **kwargs)\u001b[0m\n\u001b[0;32m    702\u001b[0m         flags[\u001b[39m'\u001b[39m\u001b[39mhessian_method\u001b[39m\u001b[39m'\u001b[39m] \u001b[39m=\u001b[39m optim_hessian\n\u001b[0;32m    703\u001b[0m     fargs \u001b[39m=\u001b[39m (flags,)\n\u001b[1;32m--> 704\u001b[0m     mlefit \u001b[39m=\u001b[39m \u001b[39msuper\u001b[39m(MLEModel, \u001b[39mself\u001b[39m)\u001b[39m.\u001b[39mfit(start_params, method\u001b[39m=\u001b[39mmethod,\n\u001b[0;32m    705\u001b[0m                                        fargs\u001b[39m=\u001b[39mfargs,\n\u001b[0;32m    706\u001b[0m                                        maxiter\u001b[39m=\u001b[39mmaxiter,\n\u001b[0;32m    707\u001b[0m                                        full_output\u001b[39m=\u001b[39mfull_output,\n\u001b[0;32m    708\u001b[0m                                        disp\u001b[39m=\u001b[39mdisp, callback\u001b[39m=\u001b[39mcallback,\n\u001b[0;32m    709\u001b[0m                                        skip_hessian\u001b[39m=\u001b[39m\u001b[39mTrue\u001b[39;00m, \u001b[39m*\u001b[39m\u001b[39m*\u001b[39mkwargs)\n\u001b[0;32m    711\u001b[0m \u001b[39m# Just return the fitted parameters if requested\u001b[39;00m\n\u001b[0;32m    712\u001b[0m \u001b[39mif\u001b[39;00m return_params:\n",
      "File \u001b[1;32mc:\\Users\\jaesc2\\Miniconda3\\envs\\skforecast\\lib\\site-packages\\statsmodels\\base\\model.py:566\u001b[0m, in \u001b[0;36mLikelihoodModel.fit\u001b[1;34m(self, start_params, method, maxiter, full_output, disp, fargs, callback, retall, skip_hessian, **kwargs)\u001b[0m\n\u001b[0;32m    563\u001b[0m     \u001b[39mdel\u001b[39;00m kwargs[\u001b[39m\"\u001b[39m\u001b[39muse_t\u001b[39m\u001b[39m\"\u001b[39m]\n\u001b[0;32m    565\u001b[0m optimizer \u001b[39m=\u001b[39m Optimizer()\n\u001b[1;32m--> 566\u001b[0m xopt, retvals, optim_settings \u001b[39m=\u001b[39m optimizer\u001b[39m.\u001b[39;49m_fit(f, score, start_params,\n\u001b[0;32m    567\u001b[0m                                                fargs, kwargs,\n\u001b[0;32m    568\u001b[0m                                                hessian\u001b[39m=\u001b[39;49mhess,\n\u001b[0;32m    569\u001b[0m                                                method\u001b[39m=\u001b[39;49mmethod,\n\u001b[0;32m    570\u001b[0m                                                disp\u001b[39m=\u001b[39;49mdisp,\n\u001b[0;32m    571\u001b[0m                                                maxiter\u001b[39m=\u001b[39;49mmaxiter,\n\u001b[0;32m    572\u001b[0m                                                callback\u001b[39m=\u001b[39;49mcallback,\n\u001b[0;32m    573\u001b[0m                                                retall\u001b[39m=\u001b[39;49mretall,\n\u001b[0;32m    574\u001b[0m                                                full_output\u001b[39m=\u001b[39;49mfull_output)\n\u001b[0;32m    575\u001b[0m \u001b[39m# Restore cov_type, cov_kwds and use_t\u001b[39;00m\n\u001b[0;32m    576\u001b[0m optim_settings\u001b[39m.\u001b[39mupdate(kwds)\n",
      "File \u001b[1;32mc:\\Users\\jaesc2\\Miniconda3\\envs\\skforecast\\lib\\site-packages\\statsmodels\\base\\optimizer.py:242\u001b[0m, in \u001b[0;36mOptimizer._fit\u001b[1;34m(self, objective, gradient, start_params, fargs, kwargs, hessian, method, maxiter, full_output, disp, callback, retall)\u001b[0m\n\u001b[0;32m    239\u001b[0m     fit_funcs\u001b[39m.\u001b[39mupdate(extra_fit_funcs)\n\u001b[0;32m    241\u001b[0m func \u001b[39m=\u001b[39m fit_funcs[method]\n\u001b[1;32m--> 242\u001b[0m xopt, retvals \u001b[39m=\u001b[39m func(objective, gradient, start_params, fargs, kwargs,\n\u001b[0;32m    243\u001b[0m                      disp\u001b[39m=\u001b[39;49mdisp, maxiter\u001b[39m=\u001b[39;49mmaxiter, callback\u001b[39m=\u001b[39;49mcallback,\n\u001b[0;32m    244\u001b[0m                      retall\u001b[39m=\u001b[39;49mretall, full_output\u001b[39m=\u001b[39;49mfull_output,\n\u001b[0;32m    245\u001b[0m                      hess\u001b[39m=\u001b[39;49mhessian)\n\u001b[0;32m    247\u001b[0m optim_settings \u001b[39m=\u001b[39m {\u001b[39m'\u001b[39m\u001b[39moptimizer\u001b[39m\u001b[39m'\u001b[39m: method, \u001b[39m'\u001b[39m\u001b[39mstart_params\u001b[39m\u001b[39m'\u001b[39m: start_params,\n\u001b[0;32m    248\u001b[0m                   \u001b[39m'\u001b[39m\u001b[39mmaxiter\u001b[39m\u001b[39m'\u001b[39m: maxiter, \u001b[39m'\u001b[39m\u001b[39mfull_output\u001b[39m\u001b[39m'\u001b[39m: full_output,\n\u001b[0;32m    249\u001b[0m                   \u001b[39m'\u001b[39m\u001b[39mdisp\u001b[39m\u001b[39m'\u001b[39m: disp, \u001b[39m'\u001b[39m\u001b[39mfargs\u001b[39m\u001b[39m'\u001b[39m: fargs, \u001b[39m'\u001b[39m\u001b[39mcallback\u001b[39m\u001b[39m'\u001b[39m: callback,\n\u001b[0;32m    250\u001b[0m                   \u001b[39m'\u001b[39m\u001b[39mretall\u001b[39m\u001b[39m'\u001b[39m: retall, \u001b[39m\"\u001b[39m\u001b[39mextra_fit_funcs\u001b[39m\u001b[39m\"\u001b[39m: extra_fit_funcs}\n\u001b[0;32m    251\u001b[0m optim_settings\u001b[39m.\u001b[39mupdate(kwargs)\n",
      "File \u001b[1;32mc:\\Users\\jaesc2\\Miniconda3\\envs\\skforecast\\lib\\site-packages\\statsmodels\\base\\optimizer.py:659\u001b[0m, in \u001b[0;36m_fit_lbfgs\u001b[1;34m(f, score, start_params, fargs, kwargs, disp, maxiter, callback, retall, full_output, hess)\u001b[0m\n\u001b[0;32m    656\u001b[0m \u001b[39melif\u001b[39;00m approx_grad:\n\u001b[0;32m    657\u001b[0m     func \u001b[39m=\u001b[39m f\n\u001b[1;32m--> 659\u001b[0m retvals \u001b[39m=\u001b[39m optimize\u001b[39m.\u001b[39mfmin_l_bfgs_b(func, start_params, maxiter\u001b[39m=\u001b[39mmaxiter,\n\u001b[0;32m    660\u001b[0m                                  callback\u001b[39m=\u001b[39mcallback, args\u001b[39m=\u001b[39mfargs,\n\u001b[0;32m    661\u001b[0m                                  bounds\u001b[39m=\u001b[39mbounds, disp\u001b[39m=\u001b[39mdisp,\n\u001b[0;32m    662\u001b[0m                                  \u001b[39m*\u001b[39m\u001b[39m*\u001b[39mextra_kwargs)\n\u001b[0;32m    664\u001b[0m \u001b[39mif\u001b[39;00m full_output:\n\u001b[0;32m    665\u001b[0m     xopt, fopt, d \u001b[39m=\u001b[39m retvals\n",
      "File \u001b[1;32mc:\\Users\\jaesc2\\Miniconda3\\envs\\skforecast\\lib\\site-packages\\scipy\\optimize\\_lbfgsb_py.py:197\u001b[0m, in \u001b[0;36mfmin_l_bfgs_b\u001b[1;34m(func, x0, fprime, args, approx_grad, bounds, m, factr, pgtol, epsilon, iprint, maxfun, maxiter, disp, callback, maxls)\u001b[0m\n\u001b[0;32m    185\u001b[0m \u001b[39m# build options\u001b[39;00m\n\u001b[0;32m    186\u001b[0m opts \u001b[39m=\u001b[39m {\u001b[39m'\u001b[39m\u001b[39mdisp\u001b[39m\u001b[39m'\u001b[39m: disp,\n\u001b[0;32m    187\u001b[0m         \u001b[39m'\u001b[39m\u001b[39miprint\u001b[39m\u001b[39m'\u001b[39m: iprint,\n\u001b[0;32m    188\u001b[0m         \u001b[39m'\u001b[39m\u001b[39mmaxcor\u001b[39m\u001b[39m'\u001b[39m: m,\n\u001b[1;32m   (...)\u001b[0m\n\u001b[0;32m    194\u001b[0m         \u001b[39m'\u001b[39m\u001b[39mcallback\u001b[39m\u001b[39m'\u001b[39m: callback,\n\u001b[0;32m    195\u001b[0m         \u001b[39m'\u001b[39m\u001b[39mmaxls\u001b[39m\u001b[39m'\u001b[39m: maxls}\n\u001b[1;32m--> 197\u001b[0m res \u001b[39m=\u001b[39m _minimize_lbfgsb(fun, x0, args\u001b[39m=\u001b[39margs, jac\u001b[39m=\u001b[39mjac, bounds\u001b[39m=\u001b[39mbounds,\n\u001b[0;32m    198\u001b[0m                        \u001b[39m*\u001b[39m\u001b[39m*\u001b[39mopts)\n\u001b[0;32m    199\u001b[0m d \u001b[39m=\u001b[39m {\u001b[39m'\u001b[39m\u001b[39mgrad\u001b[39m\u001b[39m'\u001b[39m: res[\u001b[39m'\u001b[39m\u001b[39mjac\u001b[39m\u001b[39m'\u001b[39m],\n\u001b[0;32m    200\u001b[0m      \u001b[39m'\u001b[39m\u001b[39mtask\u001b[39m\u001b[39m'\u001b[39m: res[\u001b[39m'\u001b[39m\u001b[39mmessage\u001b[39m\u001b[39m'\u001b[39m],\n\u001b[0;32m    201\u001b[0m      \u001b[39m'\u001b[39m\u001b[39mfuncalls\u001b[39m\u001b[39m'\u001b[39m: res[\u001b[39m'\u001b[39m\u001b[39mnfev\u001b[39m\u001b[39m'\u001b[39m],\n\u001b[0;32m    202\u001b[0m      \u001b[39m'\u001b[39m\u001b[39mnit\u001b[39m\u001b[39m'\u001b[39m: res[\u001b[39m'\u001b[39m\u001b[39mnit\u001b[39m\u001b[39m'\u001b[39m],\n\u001b[0;32m    203\u001b[0m      \u001b[39m'\u001b[39m\u001b[39mwarnflag\u001b[39m\u001b[39m'\u001b[39m: res[\u001b[39m'\u001b[39m\u001b[39mstatus\u001b[39m\u001b[39m'\u001b[39m]}\n\u001b[0;32m    204\u001b[0m f \u001b[39m=\u001b[39m res[\u001b[39m'\u001b[39m\u001b[39mfun\u001b[39m\u001b[39m'\u001b[39m]\n",
      "File \u001b[1;32mc:\\Users\\jaesc2\\Miniconda3\\envs\\skforecast\\lib\\site-packages\\scipy\\optimize\\_lbfgsb_py.py:359\u001b[0m, in \u001b[0;36m_minimize_lbfgsb\u001b[1;34m(fun, x0, args, jac, bounds, disp, maxcor, ftol, gtol, eps, maxfun, maxiter, iprint, callback, maxls, finite_diff_rel_step, **unknown_options)\u001b[0m\n\u001b[0;32m    353\u001b[0m task_str \u001b[39m=\u001b[39m task\u001b[39m.\u001b[39mtobytes()\n\u001b[0;32m    354\u001b[0m \u001b[39mif\u001b[39;00m task_str\u001b[39m.\u001b[39mstartswith(\u001b[39mb\u001b[39m\u001b[39m'\u001b[39m\u001b[39mFG\u001b[39m\u001b[39m'\u001b[39m):\n\u001b[0;32m    355\u001b[0m     \u001b[39m# The minimization routine wants f and g at the current x.\u001b[39;00m\n\u001b[0;32m    356\u001b[0m     \u001b[39m# Note that interruptions due to maxfun are postponed\u001b[39;00m\n\u001b[0;32m    357\u001b[0m     \u001b[39m# until the completion of the current minimization iteration.\u001b[39;00m\n\u001b[0;32m    358\u001b[0m     \u001b[39m# Overwrite f and g:\u001b[39;00m\n\u001b[1;32m--> 359\u001b[0m     f, g \u001b[39m=\u001b[39m func_and_grad(x)\n\u001b[0;32m    360\u001b[0m \u001b[39melif\u001b[39;00m task_str\u001b[39m.\u001b[39mstartswith(\u001b[39mb\u001b[39m\u001b[39m'\u001b[39m\u001b[39mNEW_X\u001b[39m\u001b[39m'\u001b[39m):\n\u001b[0;32m    361\u001b[0m     \u001b[39m# new iteration\u001b[39;00m\n\u001b[0;32m    362\u001b[0m     n_iterations \u001b[39m+\u001b[39m\u001b[39m=\u001b[39m \u001b[39m1\u001b[39m\n",
      "File \u001b[1;32mc:\\Users\\jaesc2\\Miniconda3\\envs\\skforecast\\lib\\site-packages\\scipy\\optimize\\_differentiable_functions.py:285\u001b[0m, in \u001b[0;36mScalarFunction.fun_and_grad\u001b[1;34m(self, x)\u001b[0m\n\u001b[0;32m    283\u001b[0m \u001b[39mif\u001b[39;00m \u001b[39mnot\u001b[39;00m np\u001b[39m.\u001b[39marray_equal(x, \u001b[39mself\u001b[39m\u001b[39m.\u001b[39mx):\n\u001b[0;32m    284\u001b[0m     \u001b[39mself\u001b[39m\u001b[39m.\u001b[39m_update_x_impl(x)\n\u001b[1;32m--> 285\u001b[0m \u001b[39mself\u001b[39;49m\u001b[39m.\u001b[39;49m_update_fun()\n\u001b[0;32m    286\u001b[0m \u001b[39mself\u001b[39m\u001b[39m.\u001b[39m_update_grad()\n\u001b[0;32m    287\u001b[0m \u001b[39mreturn\u001b[39;00m \u001b[39mself\u001b[39m\u001b[39m.\u001b[39mf, \u001b[39mself\u001b[39m\u001b[39m.\u001b[39mg\n",
      "File \u001b[1;32mc:\\Users\\jaesc2\\Miniconda3\\envs\\skforecast\\lib\\site-packages\\scipy\\optimize\\_differentiable_functions.py:251\u001b[0m, in \u001b[0;36mScalarFunction._update_fun\u001b[1;34m(self)\u001b[0m\n\u001b[0;32m    249\u001b[0m \u001b[39mdef\u001b[39;00m \u001b[39m_update_fun\u001b[39m(\u001b[39mself\u001b[39m):\n\u001b[0;32m    250\u001b[0m     \u001b[39mif\u001b[39;00m \u001b[39mnot\u001b[39;00m \u001b[39mself\u001b[39m\u001b[39m.\u001b[39mf_updated:\n\u001b[1;32m--> 251\u001b[0m         \u001b[39mself\u001b[39;49m\u001b[39m.\u001b[39;49m_update_fun_impl()\n\u001b[0;32m    252\u001b[0m         \u001b[39mself\u001b[39m\u001b[39m.\u001b[39mf_updated \u001b[39m=\u001b[39m \u001b[39mTrue\u001b[39;00m\n",
      "File \u001b[1;32mc:\\Users\\jaesc2\\Miniconda3\\envs\\skforecast\\lib\\site-packages\\scipy\\optimize\\_differentiable_functions.py:155\u001b[0m, in \u001b[0;36mScalarFunction.__init__.<locals>.update_fun\u001b[1;34m()\u001b[0m\n\u001b[0;32m    154\u001b[0m \u001b[39mdef\u001b[39;00m \u001b[39mupdate_fun\u001b[39m():\n\u001b[1;32m--> 155\u001b[0m     \u001b[39mself\u001b[39m\u001b[39m.\u001b[39mf \u001b[39m=\u001b[39m fun_wrapped(\u001b[39mself\u001b[39;49m\u001b[39m.\u001b[39;49mx)\n",
      "File \u001b[1;32mc:\\Users\\jaesc2\\Miniconda3\\envs\\skforecast\\lib\\site-packages\\scipy\\optimize\\_differentiable_functions.py:137\u001b[0m, in \u001b[0;36mScalarFunction.__init__.<locals>.fun_wrapped\u001b[1;34m(x)\u001b[0m\n\u001b[0;32m    133\u001b[0m \u001b[39mself\u001b[39m\u001b[39m.\u001b[39mnfev \u001b[39m+\u001b[39m\u001b[39m=\u001b[39m \u001b[39m1\u001b[39m\n\u001b[0;32m    134\u001b[0m \u001b[39m# Send a copy because the user may overwrite it.\u001b[39;00m\n\u001b[0;32m    135\u001b[0m \u001b[39m# Overwriting results in undefined behaviour because\u001b[39;00m\n\u001b[0;32m    136\u001b[0m \u001b[39m# fun(self.x) will change self.x, with the two no longer linked.\u001b[39;00m\n\u001b[1;32m--> 137\u001b[0m fx \u001b[39m=\u001b[39m fun(np\u001b[39m.\u001b[39;49mcopy(x), \u001b[39m*\u001b[39;49margs)\n\u001b[0;32m    138\u001b[0m \u001b[39m# Make sure the function returns a true scalar\u001b[39;00m\n\u001b[0;32m    139\u001b[0m \u001b[39mif\u001b[39;00m \u001b[39mnot\u001b[39;00m np\u001b[39m.\u001b[39misscalar(fx):\n",
      "File \u001b[1;32mc:\\Users\\jaesc2\\Miniconda3\\envs\\skforecast\\lib\\site-packages\\statsmodels\\base\\model.py:534\u001b[0m, in \u001b[0;36mLikelihoodModel.fit.<locals>.f\u001b[1;34m(params, *args)\u001b[0m\n\u001b[0;32m    533\u001b[0m \u001b[39mdef\u001b[39;00m \u001b[39mf\u001b[39m(params, \u001b[39m*\u001b[39margs):\n\u001b[1;32m--> 534\u001b[0m     \u001b[39mreturn\u001b[39;00m \u001b[39m-\u001b[39m\u001b[39mself\u001b[39;49m\u001b[39m.\u001b[39;49mloglike(params, \u001b[39m*\u001b[39;49margs) \u001b[39m/\u001b[39m nobs\n",
      "File \u001b[1;32mc:\\Users\\jaesc2\\Miniconda3\\envs\\skforecast\\lib\\site-packages\\statsmodels\\tsa\\statespace\\mlemodel.py:939\u001b[0m, in \u001b[0;36mMLEModel.loglike\u001b[1;34m(self, params, *args, **kwargs)\u001b[0m\n\u001b[0;32m    936\u001b[0m \u001b[39mif\u001b[39;00m complex_step:\n\u001b[0;32m    937\u001b[0m     kwargs[\u001b[39m'\u001b[39m\u001b[39minversion_method\u001b[39m\u001b[39m'\u001b[39m] \u001b[39m=\u001b[39m INVERT_UNIVARIATE \u001b[39m|\u001b[39m SOLVE_LU\n\u001b[1;32m--> 939\u001b[0m loglike \u001b[39m=\u001b[39m \u001b[39mself\u001b[39m\u001b[39m.\u001b[39mssm\u001b[39m.\u001b[39mloglike(complex_step\u001b[39m=\u001b[39mcomplex_step, \u001b[39m*\u001b[39m\u001b[39m*\u001b[39mkwargs)\n\u001b[0;32m    941\u001b[0m \u001b[39m# Koopman, Shephard, and Doornik recommend maximizing the average\u001b[39;00m\n\u001b[0;32m    942\u001b[0m \u001b[39m# likelihood to avoid scale issues, but the averaging is done\u001b[39;00m\n\u001b[0;32m    943\u001b[0m \u001b[39m# automatically in the base model `fit` method\u001b[39;00m\n\u001b[0;32m    944\u001b[0m \u001b[39mreturn\u001b[39;00m loglike\n",
      "File \u001b[1;32mc:\\Users\\jaesc2\\Miniconda3\\envs\\skforecast\\lib\\site-packages\\statsmodels\\tsa\\statespace\\kalman_filter.py:1001\u001b[0m, in \u001b[0;36mKalmanFilter.loglike\u001b[1;34m(self, **kwargs)\u001b[0m\n\u001b[0;32m    985\u001b[0m \u001b[39m\u001b[39m\u001b[39mr\u001b[39m\u001b[39m\"\"\"\u001b[39;00m\n\u001b[0;32m    986\u001b[0m \u001b[39mCalculate the loglikelihood associated with the statespace model.\u001b[39;00m\n\u001b[0;32m    987\u001b[0m \n\u001b[1;32m   (...)\u001b[0m\n\u001b[0;32m    997\u001b[0m \u001b[39m    The joint loglikelihood.\u001b[39;00m\n\u001b[0;32m    998\u001b[0m \u001b[39m\"\"\"\u001b[39;00m\n\u001b[0;32m    999\u001b[0m kwargs\u001b[39m.\u001b[39msetdefault(\u001b[39m'\u001b[39m\u001b[39mconserve_memory\u001b[39m\u001b[39m'\u001b[39m,\n\u001b[0;32m   1000\u001b[0m                   MEMORY_CONSERVE \u001b[39m^\u001b[39m MEMORY_NO_LIKELIHOOD)\n\u001b[1;32m-> 1001\u001b[0m kfilter \u001b[39m=\u001b[39m \u001b[39mself\u001b[39m\u001b[39m.\u001b[39m_filter(\u001b[39m*\u001b[39m\u001b[39m*\u001b[39mkwargs)\n\u001b[0;32m   1002\u001b[0m loglikelihood_burn \u001b[39m=\u001b[39m kwargs\u001b[39m.\u001b[39mget(\u001b[39m'\u001b[39m\u001b[39mloglikelihood_burn\u001b[39m\u001b[39m'\u001b[39m,\n\u001b[0;32m   1003\u001b[0m                                 \u001b[39mself\u001b[39m\u001b[39m.\u001b[39mloglikelihood_burn)\n\u001b[0;32m   1004\u001b[0m \u001b[39mif\u001b[39;00m \u001b[39mnot\u001b[39;00m (kwargs[\u001b[39m'\u001b[39m\u001b[39mconserve_memory\u001b[39m\u001b[39m'\u001b[39m] \u001b[39m&\u001b[39m MEMORY_NO_LIKELIHOOD):\n",
      "File \u001b[1;32mc:\\Users\\jaesc2\\Miniconda3\\envs\\skforecast\\lib\\site-packages\\statsmodels\\tsa\\statespace\\kalman_filter.py:921\u001b[0m, in \u001b[0;36mKalmanFilter._filter\u001b[1;34m(self, filter_method, inversion_method, stability_method, conserve_memory, filter_timing, tolerance, loglikelihood_burn, complex_step)\u001b[0m\n\u001b[0;32m    918\u001b[0m kfilter \u001b[39m=\u001b[39m \u001b[39mself\u001b[39m\u001b[39m.\u001b[39m_kalman_filters[prefix]\n\u001b[0;32m    920\u001b[0m \u001b[39m# Initialize the state\u001b[39;00m\n\u001b[1;32m--> 921\u001b[0m \u001b[39mself\u001b[39;49m\u001b[39m.\u001b[39;49m_initialize_state(prefix\u001b[39m=\u001b[39;49mprefix, complex_step\u001b[39m=\u001b[39;49mcomplex_step)\n\u001b[0;32m    923\u001b[0m \u001b[39m# Run the filter\u001b[39;00m\n\u001b[0;32m    924\u001b[0m kfilter()\n",
      "File \u001b[1;32mc:\\Users\\jaesc2\\Miniconda3\\envs\\skforecast\\lib\\site-packages\\statsmodels\\tsa\\statespace\\representation.py:1058\u001b[0m, in \u001b[0;36mRepresentation._initialize_state\u001b[1;34m(self, prefix, complex_step)\u001b[0m\n\u001b[0;32m   1056\u001b[0m     \u001b[39mif\u001b[39;00m \u001b[39mnot\u001b[39;00m \u001b[39mself\u001b[39m\u001b[39m.\u001b[39minitialization\u001b[39m.\u001b[39minitialized:\n\u001b[0;32m   1057\u001b[0m         \u001b[39mraise\u001b[39;00m \u001b[39mRuntimeError\u001b[39;00m(\u001b[39m'\u001b[39m\u001b[39mInitialization is incomplete.\u001b[39m\u001b[39m'\u001b[39m)\n\u001b[1;32m-> 1058\u001b[0m     \u001b[39mself\u001b[39;49m\u001b[39m.\u001b[39;49m_statespaces[prefix]\u001b[39m.\u001b[39;49minitialize(\u001b[39mself\u001b[39;49m\u001b[39m.\u001b[39;49minitialization,\n\u001b[0;32m   1059\u001b[0m                                          complex_step\u001b[39m=\u001b[39;49mcomplex_step)\n\u001b[0;32m   1060\u001b[0m \u001b[39melse\u001b[39;00m:\n\u001b[0;32m   1061\u001b[0m     \u001b[39mraise\u001b[39;00m \u001b[39mRuntimeError\u001b[39;00m(\u001b[39m'\u001b[39m\u001b[39mStatespace model not initialized.\u001b[39m\u001b[39m'\u001b[39m)\n",
      "File \u001b[1;32mstatsmodels\\tsa\\statespace\\_representation.pyx:1373\u001b[0m, in \u001b[0;36mstatsmodels.tsa.statespace._representation.dStatespace.initialize\u001b[1;34m()\u001b[0m\n",
      "File \u001b[1;32mstatsmodels\\tsa\\statespace\\_representation.pyx:1362\u001b[0m, in \u001b[0;36mstatsmodels.tsa.statespace._representation.dStatespace.initialize\u001b[1;34m()\u001b[0m\n",
      "File \u001b[1;32mstatsmodels\\tsa\\statespace\\_initialization.pyx:288\u001b[0m, in \u001b[0;36mstatsmodels.tsa.statespace._initialization.dInitialization.initialize\u001b[1;34m()\u001b[0m\n",
      "File \u001b[1;32mstatsmodels\\tsa\\statespace\\_initialization.pyx:406\u001b[0m, in \u001b[0;36mstatsmodels.tsa.statespace._initialization.dInitialization.initialize_stationary_stationary_cov\u001b[1;34m()\u001b[0m\n",
      "File \u001b[1;32mstatsmodels\\tsa\\statespace\\_tools.pyx:1603\u001b[0m, in \u001b[0;36mstatsmodels.tsa.statespace._tools._dsolve_discrete_lyapunov\u001b[1;34m()\u001b[0m\n",
      "\u001b[1;31mLinAlgError\u001b[0m: Schur decomposition solver error."
     ]
    }
   ],
   "source": [
    "sarimax = Sarimax(order=(5, 1, 1))"
   ]
  },
  {
   "cell_type": "code",
   "execution_count": null,
   "metadata": {},
   "outputs": [],
   "source": []
  },
  {
   "cell_type": "code",
   "execution_count": 56,
   "metadata": {},
   "outputs": [
    {
     "name": "stderr",
     "output_type": "stream",
     "text": [
      "/home/ubuntu/anaconda3/envs/skforecast_09_py11/lib/python3.11/site-packages/statsmodels/tsa/statespace/representation.py:374: FutureWarning: Unknown keyword arguments: dict_keys(['method', 'maxiter', 'start_params', 'disp', 'fit_kwargs', 'predict_kwargs', 'sarimax', 'sarimax_res', 'training_index']).Passing unknown keyword arguments will raise a TypeError beginning in version 0.15.\n",
      "  warnings.warn(msg, FutureWarning)\n"
     ]
    },
    {
     "data": {
      "text/html": [
       "<style>#sk-container-id-9 {color: black;}#sk-container-id-9 pre{padding: 0;}#sk-container-id-9 div.sk-toggleable {background-color: white;}#sk-container-id-9 label.sk-toggleable__label {cursor: pointer;display: block;width: 100%;margin-bottom: 0;padding: 0.3em;box-sizing: border-box;text-align: center;}#sk-container-id-9 label.sk-toggleable__label-arrow:before {content: \"▸\";float: left;margin-right: 0.25em;color: #696969;}#sk-container-id-9 label.sk-toggleable__label-arrow:hover:before {color: black;}#sk-container-id-9 div.sk-estimator:hover label.sk-toggleable__label-arrow:before {color: black;}#sk-container-id-9 div.sk-toggleable__content {max-height: 0;max-width: 0;overflow: hidden;text-align: left;background-color: #f0f8ff;}#sk-container-id-9 div.sk-toggleable__content pre {margin: 0.2em;color: black;border-radius: 0.25em;background-color: #f0f8ff;}#sk-container-id-9 input.sk-toggleable__control:checked~div.sk-toggleable__content {max-height: 200px;max-width: 100%;overflow: auto;}#sk-container-id-9 input.sk-toggleable__control:checked~label.sk-toggleable__label-arrow:before {content: \"▾\";}#sk-container-id-9 div.sk-estimator input.sk-toggleable__control:checked~label.sk-toggleable__label {background-color: #d4ebff;}#sk-container-id-9 div.sk-label input.sk-toggleable__control:checked~label.sk-toggleable__label {background-color: #d4ebff;}#sk-container-id-9 input.sk-hidden--visually {border: 0;clip: rect(1px 1px 1px 1px);clip: rect(1px, 1px, 1px, 1px);height: 1px;margin: -1px;overflow: hidden;padding: 0;position: absolute;width: 1px;}#sk-container-id-9 div.sk-estimator {font-family: monospace;background-color: #f0f8ff;border: 1px dotted black;border-radius: 0.25em;box-sizing: border-box;margin-bottom: 0.5em;}#sk-container-id-9 div.sk-estimator:hover {background-color: #d4ebff;}#sk-container-id-9 div.sk-parallel-item::after {content: \"\";width: 100%;border-bottom: 1px solid gray;flex-grow: 1;}#sk-container-id-9 div.sk-label:hover label.sk-toggleable__label {background-color: #d4ebff;}#sk-container-id-9 div.sk-serial::before {content: \"\";position: absolute;border-left: 1px solid gray;box-sizing: border-box;top: 0;bottom: 0;left: 50%;z-index: 0;}#sk-container-id-9 div.sk-serial {display: flex;flex-direction: column;align-items: center;background-color: white;padding-right: 0.2em;padding-left: 0.2em;position: relative;}#sk-container-id-9 div.sk-item {position: relative;z-index: 1;}#sk-container-id-9 div.sk-parallel {display: flex;align-items: stretch;justify-content: center;background-color: white;position: relative;}#sk-container-id-9 div.sk-item::before, #sk-container-id-9 div.sk-parallel-item::before {content: \"\";position: absolute;border-left: 1px solid gray;box-sizing: border-box;top: 0;bottom: 0;left: 50%;z-index: -1;}#sk-container-id-9 div.sk-parallel-item {display: flex;flex-direction: column;z-index: 1;position: relative;background-color: white;}#sk-container-id-9 div.sk-parallel-item:first-child::after {align-self: flex-end;width: 50%;}#sk-container-id-9 div.sk-parallel-item:last-child::after {align-self: flex-start;width: 50%;}#sk-container-id-9 div.sk-parallel-item:only-child::after {width: 0;}#sk-container-id-9 div.sk-dashed-wrapped {border: 1px dashed gray;margin: 0 0.4em 0.5em 0.4em;box-sizing: border-box;padding-bottom: 0.4em;background-color: white;}#sk-container-id-9 div.sk-label label {font-family: monospace;font-weight: bold;display: inline-block;line-height: 1.2em;}#sk-container-id-9 div.sk-label-container {text-align: center;}#sk-container-id-9 div.sk-container {/* jupyter's `normalize.less` sets `[hidden] { display: none; }` but bootstrap.min.css set `[hidden] { display: none !important; }` so we also need the `!important` here to be able to override the default hidden behavior on the sphinx rendered scikit-learn.org. See: https://github.com/scikit-learn/scikit-learn/issues/21755 */display: inline-block !important;position: relative;}#sk-container-id-9 div.sk-text-repr-fallback {display: none;}</style><div id=\"sk-container-id-9\" class=\"sk-top-container\"><div class=\"sk-text-repr-fallback\"><pre>Sarimax(1,1,1)(0,0,0)[0]</pre><b>In a Jupyter environment, please rerun this cell to show the HTML representation or trust the notebook. <br />On GitHub, the HTML representation is unable to render, please try loading this page with nbviewer.org.</b></div><div class=\"sk-container\" hidden><div class=\"sk-item\"><div class=\"sk-estimator sk-toggleable\"><input class=\"sk-toggleable__control sk-hidden--visually\" id=\"sk-estimator-id-9\" type=\"checkbox\" checked><label for=\"sk-estimator-id-9\" class=\"sk-toggleable__label sk-toggleable__label-arrow\">Sarimax</label><div class=\"sk-toggleable__content\"><pre>Sarimax(1,1,1)(0,0,0)[0]</pre></div></div></div></div></div>"
      ],
      "text/plain": [
       "Sarimax(1,1,1)(0,0,0)[0]"
      ]
     },
     "execution_count": 56,
     "metadata": {},
     "output_type": "execute_result"
    }
   ],
   "source": [
    "sarimax = Sarimax(order=(1, 1, 1))\n",
    "sarimax.fit(y=pd.Series(np.random.normal(size=100)))\n",
    "sarimax"
   ]
  },
  {
   "cell_type": "code",
   "execution_count": 57,
   "metadata": {},
   "outputs": [
    {
     "data": {
      "text/plain": [
       "100    0.089448\n",
       "101    0.094491\n",
       "102    0.094429\n",
       "103    0.094430\n",
       "Name: predicted_mean, dtype: float64"
      ]
     },
     "execution_count": 57,
     "metadata": {},
     "output_type": "execute_result"
    }
   ],
   "source": [
    "sarimax.predict(steps=4)"
   ]
  },
  {
   "cell_type": "code",
   "execution_count": 58,
   "metadata": {},
   "outputs": [
    {
     "name": "stderr",
     "output_type": "stream",
     "text": [
      "/home/ubuntu/anaconda3/envs/skforecast_09_py11/lib/python3.11/site-packages/statsmodels/tsa/statespace/representation.py:374: FutureWarning: Unknown keyword arguments: dict_keys(['return_conf_int', 'alpha']).Passing unknown keyword arguments will raise a TypeError beginning in version 0.15.\n",
      "  warnings.warn(msg, FutureWarning)\n"
     ]
    },
    {
     "data": {
      "text/html": [
       "<div>\n",
       "<style scoped>\n",
       "    .dataframe tbody tr th:only-of-type {\n",
       "        vertical-align: middle;\n",
       "    }\n",
       "\n",
       "    .dataframe tbody tr th {\n",
       "        vertical-align: top;\n",
       "    }\n",
       "\n",
       "    .dataframe thead th {\n",
       "        text-align: right;\n",
       "    }\n",
       "</style>\n",
       "<table border=\"1\" class=\"dataframe\">\n",
       "  <thead>\n",
       "    <tr style=\"text-align: right;\">\n",
       "      <th></th>\n",
       "      <th>pred</th>\n",
       "      <th>lower_bound</th>\n",
       "      <th>upper_bound</th>\n",
       "    </tr>\n",
       "  </thead>\n",
       "  <tbody>\n",
       "    <tr>\n",
       "      <th>100</th>\n",
       "      <td>0.089448</td>\n",
       "      <td>-1.962973</td>\n",
       "      <td>2.141870</td>\n",
       "    </tr>\n",
       "    <tr>\n",
       "      <th>101</th>\n",
       "      <td>0.094491</td>\n",
       "      <td>-1.957836</td>\n",
       "      <td>2.146818</td>\n",
       "    </tr>\n",
       "    <tr>\n",
       "      <th>102</th>\n",
       "      <td>0.094429</td>\n",
       "      <td>-1.957901</td>\n",
       "      <td>2.146759</td>\n",
       "    </tr>\n",
       "    <tr>\n",
       "      <th>103</th>\n",
       "      <td>0.094430</td>\n",
       "      <td>-1.957900</td>\n",
       "      <td>2.146760</td>\n",
       "    </tr>\n",
       "  </tbody>\n",
       "</table>\n",
       "</div>"
      ],
      "text/plain": [
       "         pred  lower_bound  upper_bound\n",
       "100  0.089448    -1.962973     2.141870\n",
       "101  0.094491    -1.957836     2.146818\n",
       "102  0.094429    -1.957901     2.146759\n",
       "103  0.094430    -1.957900     2.146760"
      ]
     },
     "execution_count": 58,
     "metadata": {},
     "output_type": "execute_result"
    }
   ],
   "source": [
    "sarimax.predict_interval(steps=4)"
   ]
  },
  {
   "cell_type": "code",
   "execution_count": 54,
   "metadata": {},
   "outputs": [
    {
     "name": "stderr",
     "output_type": "stream",
     "text": [
      "/home/ubuntu/anaconda3/envs/skforecast_09_py11/lib/python3.11/site-packages/statsmodels/tsa/statespace/representation.py:374: FutureWarning: Unknown keyword arguments: dict_keys(['method', 'maxiter', 'start_params', 'disp', 'fit_kwargs', 'predict_kwargs', 'sarimax', 'sarimax_res', 'training_index']).Passing unknown keyword arguments will raise a TypeError beginning in version 0.15.\n",
      "  warnings.warn(msg, FutureWarning)\n"
     ]
    },
    {
     "data": {
      "text/html": [
       "<style>#sk-container-id-8 {color: black;}#sk-container-id-8 pre{padding: 0;}#sk-container-id-8 div.sk-toggleable {background-color: white;}#sk-container-id-8 label.sk-toggleable__label {cursor: pointer;display: block;width: 100%;margin-bottom: 0;padding: 0.3em;box-sizing: border-box;text-align: center;}#sk-container-id-8 label.sk-toggleable__label-arrow:before {content: \"▸\";float: left;margin-right: 0.25em;color: #696969;}#sk-container-id-8 label.sk-toggleable__label-arrow:hover:before {color: black;}#sk-container-id-8 div.sk-estimator:hover label.sk-toggleable__label-arrow:before {color: black;}#sk-container-id-8 div.sk-toggleable__content {max-height: 0;max-width: 0;overflow: hidden;text-align: left;background-color: #f0f8ff;}#sk-container-id-8 div.sk-toggleable__content pre {margin: 0.2em;color: black;border-radius: 0.25em;background-color: #f0f8ff;}#sk-container-id-8 input.sk-toggleable__control:checked~div.sk-toggleable__content {max-height: 200px;max-width: 100%;overflow: auto;}#sk-container-id-8 input.sk-toggleable__control:checked~label.sk-toggleable__label-arrow:before {content: \"▾\";}#sk-container-id-8 div.sk-estimator input.sk-toggleable__control:checked~label.sk-toggleable__label {background-color: #d4ebff;}#sk-container-id-8 div.sk-label input.sk-toggleable__control:checked~label.sk-toggleable__label {background-color: #d4ebff;}#sk-container-id-8 input.sk-hidden--visually {border: 0;clip: rect(1px 1px 1px 1px);clip: rect(1px, 1px, 1px, 1px);height: 1px;margin: -1px;overflow: hidden;padding: 0;position: absolute;width: 1px;}#sk-container-id-8 div.sk-estimator {font-family: monospace;background-color: #f0f8ff;border: 1px dotted black;border-radius: 0.25em;box-sizing: border-box;margin-bottom: 0.5em;}#sk-container-id-8 div.sk-estimator:hover {background-color: #d4ebff;}#sk-container-id-8 div.sk-parallel-item::after {content: \"\";width: 100%;border-bottom: 1px solid gray;flex-grow: 1;}#sk-container-id-8 div.sk-label:hover label.sk-toggleable__label {background-color: #d4ebff;}#sk-container-id-8 div.sk-serial::before {content: \"\";position: absolute;border-left: 1px solid gray;box-sizing: border-box;top: 0;bottom: 0;left: 50%;z-index: 0;}#sk-container-id-8 div.sk-serial {display: flex;flex-direction: column;align-items: center;background-color: white;padding-right: 0.2em;padding-left: 0.2em;position: relative;}#sk-container-id-8 div.sk-item {position: relative;z-index: 1;}#sk-container-id-8 div.sk-parallel {display: flex;align-items: stretch;justify-content: center;background-color: white;position: relative;}#sk-container-id-8 div.sk-item::before, #sk-container-id-8 div.sk-parallel-item::before {content: \"\";position: absolute;border-left: 1px solid gray;box-sizing: border-box;top: 0;bottom: 0;left: 50%;z-index: -1;}#sk-container-id-8 div.sk-parallel-item {display: flex;flex-direction: column;z-index: 1;position: relative;background-color: white;}#sk-container-id-8 div.sk-parallel-item:first-child::after {align-self: flex-end;width: 50%;}#sk-container-id-8 div.sk-parallel-item:last-child::after {align-self: flex-start;width: 50%;}#sk-container-id-8 div.sk-parallel-item:only-child::after {width: 0;}#sk-container-id-8 div.sk-dashed-wrapped {border: 1px dashed gray;margin: 0 0.4em 0.5em 0.4em;box-sizing: border-box;padding-bottom: 0.4em;background-color: white;}#sk-container-id-8 div.sk-label label {font-family: monospace;font-weight: bold;display: inline-block;line-height: 1.2em;}#sk-container-id-8 div.sk-label-container {text-align: center;}#sk-container-id-8 div.sk-container {/* jupyter's `normalize.less` sets `[hidden] { display: none; }` but bootstrap.min.css set `[hidden] { display: none !important; }` so we also need the `!important` here to be able to override the default hidden behavior on the sphinx rendered scikit-learn.org. See: https://github.com/scikit-learn/scikit-learn/issues/21755 */display: inline-block !important;position: relative;}#sk-container-id-8 div.sk-text-repr-fallback {display: none;}</style><div id=\"sk-container-id-8\" class=\"sk-top-container\"><div class=\"sk-text-repr-fallback\"><pre>Sarimax(1,0,110)(0,0,0)[0]</pre><b>In a Jupyter environment, please rerun this cell to show the HTML representation or trust the notebook. <br />On GitHub, the HTML representation is unable to render, please try loading this page with nbviewer.org.</b></div><div class=\"sk-container\" hidden><div class=\"sk-item\"><div class=\"sk-estimator sk-toggleable\"><input class=\"sk-toggleable__control sk-hidden--visually\" id=\"sk-estimator-id-8\" type=\"checkbox\" checked><label for=\"sk-estimator-id-8\" class=\"sk-toggleable__label sk-toggleable__label-arrow\">Sarimax</label><div class=\"sk-toggleable__content\"><pre>Sarimax(1,0,110)(0,0,0)[0]</pre></div></div></div></div></div>"
      ],
      "text/plain": [
       "Sarimax(1,0,110)(0,0,0)[0]"
      ]
     },
     "execution_count": 54,
     "metadata": {},
     "output_type": "execute_result"
    }
   ],
   "source": [
    "sarimax.set_params({'order': (1, 0, 110)})\n",
    "sarimax"
   ]
  },
  {
   "cell_type": "code",
   "execution_count": 49,
   "metadata": {},
   "outputs": [
    {
     "name": "stderr",
     "output_type": "stream",
     "text": [
      "/home/ubuntu/anaconda3/envs/skforecast_09_py11/lib/python3.11/site-packages/statsmodels/tsa/statespace/representation.py:374: FutureWarning: Unknown keyword arguments: dict_keys(['method', 'maxiter', 'start_params', 'disp', 'fit_kwargs', 'predict_kwargs', 'sarimax', 'sarimax_res', 'training_index']).Passing unknown keyword arguments will raise a TypeError beginning in version 0.15.\n",
      "  warnings.warn(msg, FutureWarning)\n"
     ]
    },
    {
     "data": {
      "text/html": [
       "<style>#sk-container-id-6 {color: black;}#sk-container-id-6 pre{padding: 0;}#sk-container-id-6 div.sk-toggleable {background-color: white;}#sk-container-id-6 label.sk-toggleable__label {cursor: pointer;display: block;width: 100%;margin-bottom: 0;padding: 0.3em;box-sizing: border-box;text-align: center;}#sk-container-id-6 label.sk-toggleable__label-arrow:before {content: \"▸\";float: left;margin-right: 0.25em;color: #696969;}#sk-container-id-6 label.sk-toggleable__label-arrow:hover:before {color: black;}#sk-container-id-6 div.sk-estimator:hover label.sk-toggleable__label-arrow:before {color: black;}#sk-container-id-6 div.sk-toggleable__content {max-height: 0;max-width: 0;overflow: hidden;text-align: left;background-color: #f0f8ff;}#sk-container-id-6 div.sk-toggleable__content pre {margin: 0.2em;color: black;border-radius: 0.25em;background-color: #f0f8ff;}#sk-container-id-6 input.sk-toggleable__control:checked~div.sk-toggleable__content {max-height: 200px;max-width: 100%;overflow: auto;}#sk-container-id-6 input.sk-toggleable__control:checked~label.sk-toggleable__label-arrow:before {content: \"▾\";}#sk-container-id-6 div.sk-estimator input.sk-toggleable__control:checked~label.sk-toggleable__label {background-color: #d4ebff;}#sk-container-id-6 div.sk-label input.sk-toggleable__control:checked~label.sk-toggleable__label {background-color: #d4ebff;}#sk-container-id-6 input.sk-hidden--visually {border: 0;clip: rect(1px 1px 1px 1px);clip: rect(1px, 1px, 1px, 1px);height: 1px;margin: -1px;overflow: hidden;padding: 0;position: absolute;width: 1px;}#sk-container-id-6 div.sk-estimator {font-family: monospace;background-color: #f0f8ff;border: 1px dotted black;border-radius: 0.25em;box-sizing: border-box;margin-bottom: 0.5em;}#sk-container-id-6 div.sk-estimator:hover {background-color: #d4ebff;}#sk-container-id-6 div.sk-parallel-item::after {content: \"\";width: 100%;border-bottom: 1px solid gray;flex-grow: 1;}#sk-container-id-6 div.sk-label:hover label.sk-toggleable__label {background-color: #d4ebff;}#sk-container-id-6 div.sk-serial::before {content: \"\";position: absolute;border-left: 1px solid gray;box-sizing: border-box;top: 0;bottom: 0;left: 50%;z-index: 0;}#sk-container-id-6 div.sk-serial {display: flex;flex-direction: column;align-items: center;background-color: white;padding-right: 0.2em;padding-left: 0.2em;position: relative;}#sk-container-id-6 div.sk-item {position: relative;z-index: 1;}#sk-container-id-6 div.sk-parallel {display: flex;align-items: stretch;justify-content: center;background-color: white;position: relative;}#sk-container-id-6 div.sk-item::before, #sk-container-id-6 div.sk-parallel-item::before {content: \"\";position: absolute;border-left: 1px solid gray;box-sizing: border-box;top: 0;bottom: 0;left: 50%;z-index: -1;}#sk-container-id-6 div.sk-parallel-item {display: flex;flex-direction: column;z-index: 1;position: relative;background-color: white;}#sk-container-id-6 div.sk-parallel-item:first-child::after {align-self: flex-end;width: 50%;}#sk-container-id-6 div.sk-parallel-item:last-child::after {align-self: flex-start;width: 50%;}#sk-container-id-6 div.sk-parallel-item:only-child::after {width: 0;}#sk-container-id-6 div.sk-dashed-wrapped {border: 1px dashed gray;margin: 0 0.4em 0.5em 0.4em;box-sizing: border-box;padding-bottom: 0.4em;background-color: white;}#sk-container-id-6 div.sk-label label {font-family: monospace;font-weight: bold;display: inline-block;line-height: 1.2em;}#sk-container-id-6 div.sk-label-container {text-align: center;}#sk-container-id-6 div.sk-container {/* jupyter's `normalize.less` sets `[hidden] { display: none; }` but bootstrap.min.css set `[hidden] { display: none !important; }` so we also need the `!important` here to be able to override the default hidden behavior on the sphinx rendered scikit-learn.org. See: https://github.com/scikit-learn/scikit-learn/issues/21755 */display: inline-block !important;position: relative;}#sk-container-id-6 div.sk-text-repr-fallback {display: none;}</style><div id=\"sk-container-id-6\" class=\"sk-top-container\"><div class=\"sk-text-repr-fallback\"><pre>Sarimax(1,0,99)(0,0,0)[0]</pre><b>In a Jupyter environment, please rerun this cell to show the HTML representation or trust the notebook. <br />On GitHub, the HTML representation is unable to render, please try loading this page with nbviewer.org.</b></div><div class=\"sk-container\" hidden><div class=\"sk-item\"><div class=\"sk-estimator sk-toggleable\"><input class=\"sk-toggleable__control sk-hidden--visually\" id=\"sk-estimator-id-6\" type=\"checkbox\" checked><label for=\"sk-estimator-id-6\" class=\"sk-toggleable__label sk-toggleable__label-arrow\">Sarimax</label><div class=\"sk-toggleable__content\"><pre>Sarimax(1,0,99)(0,0,0)[0]</pre></div></div></div></div></div>"
      ],
      "text/plain": [
       "Sarimax(1,0,99)(0,0,0)[0]"
      ]
     },
     "execution_count": 49,
     "metadata": {},
     "output_type": "execute_result"
    }
   ],
   "source": [
    "sarimax = Sarimax()\n",
    "sarimax.set_params({'order': (1, 0, 99)})\n",
    "sarimax"
   ]
  },
  {
   "cell_type": "code",
   "execution_count": null,
   "metadata": {},
   "outputs": [],
   "source": []
  },
  {
   "cell_type": "markdown",
   "metadata": {},
   "source": [
    "## v2"
   ]
  },
  {
   "cell_type": "code",
   "execution_count": 44,
   "metadata": {},
   "outputs": [],
   "source": [
    "from typing import Optional, Union, Tuple, List, Dict\n",
    "\n",
    "\n",
    "\n",
    "class Sarimax2(BaseEstimator, RegressorMixin):\n",
    "    \"\"\"\n",
    "    A universal sklearn-style wrapper for statsmodels SARIMAX.\n",
    "\n",
    "    Parameters\n",
    "    ----------\n",
    "\n",
    "\n",
    "    Attributes\n",
    "    ----------\n",
    "\n",
    "    \"\"\"\n",
    "\n",
    "    def __init__(\n",
    "        self,\n",
    "        order: tuple=(1, 0, 0),\n",
    "        seasonal_order: tuple=(0, 0, 0, 0),\n",
    "        trend: str=None,\n",
    "        measurement_error: bool=False,\n",
    "        time_varying_regression: bool=False,\n",
    "        mle_regression: bool=True,\n",
    "        simple_differencing: bool=False,\n",
    "        enforce_stationarity: bool=True,\n",
    "        enforce_invertibility: bool=True,\n",
    "        hamilton_representation: bool=False,\n",
    "        concentrate_scale: bool=False,\n",
    "        trend_offset: int=1,\n",
    "        use_exact_diffuse: bool=False,\n",
    "        dates = None,\n",
    "        freq = None,\n",
    "        missing = 'none',\n",
    "        validate_specification: bool=True,\n",
    "        method: str='lbfgs',\n",
    "        maxiter: int=50,\n",
    "        start_params: np.ndarray= None,\n",
    "        disp: bool=False,\n",
    "        sm_init_kwargs: dict={},\n",
    "        sm_fit_kwargs: dict={},\n",
    "        sm_predict_kwargs: dict={}\n",
    "    ) -> None:\n",
    "\n",
    "        self.order                   = order\n",
    "        self.seasonal_order          = seasonal_order\n",
    "        self.trend                   = trend\n",
    "        self.measurement_error       = measurement_error\n",
    "        self.time_varying_regression = time_varying_regression\n",
    "        self.mle_regression          = mle_regression\n",
    "        self.simple_differencing     = simple_differencing\n",
    "        self.enforce_stationarity    = enforce_stationarity\n",
    "        self.enforce_invertibility   = enforce_invertibility\n",
    "        self.hamilton_representation = hamilton_representation\n",
    "        self.concentrate_scale       = concentrate_scale\n",
    "        self.trend_offset            = trend_offset\n",
    "        self.use_exact_diffuse       = use_exact_diffuse\n",
    "        self.dates                   = dates\n",
    "        self.freq                    = freq\n",
    "        self.missing                 = missing\n",
    "        self.validate_specification  = validate_specification\n",
    "        self.method                  = method\n",
    "        self.maxiter                 = maxiter\n",
    "        self.start_params            = start_params\n",
    "        self.disp                    = disp\n",
    "\n",
    "        # Create the dictionaries with the additional statsmodels parameters to be  \n",
    "        # used during the init, fit and predict methods. Note that the statsmodels \n",
    "        # SARIMAX.fit parameters `method`, `max_iter`, `start_params` and `disp` \n",
    "        # have been moved to the initialization of this model and will have \n",
    "        # priority over those provided by the user using via `sm_fit_kwargs`.\n",
    "        self.sm_init_kwargs    = sm_init_kwargs\n",
    "        self.sm_fit_kwargs     = sm_fit_kwargs\n",
    "        self.sm_predict_kwargs = sm_predict_kwargs\n",
    "\n",
    "        # Params that can be set with the `set_params` method\n",
    "        _, _, _, _sarimax_params = inspect.getargvalues(inspect.currentframe())\n",
    "        _sarimax_params.pop(\"self\")\n",
    "        self._sarimax_params = _sarimax_params\n",
    "\n",
    "        self._consolidate_kwargs()\n",
    "\n",
    "        # Create Results Attributes \n",
    "        self.set_output     = None\n",
    "        self.sarimax        = None\n",
    "        self.sarimax_res    = None\n",
    "        self.training_index = None\n",
    "\n",
    "\n",
    "    def __repr__(self):\n",
    "        p, d, q = self.order\n",
    "        P, D, Q, m = self.seasonal_order\n",
    "\n",
    "        return f\"Sarimax({p},{d},{q})({P},{D},{Q})[{m}]\"\n",
    "    \n",
    "\n",
    "    def _consolidate_kwargs(\n",
    "        self\n",
    "    ) -> None:\n",
    "        \"\"\"\n",
    "        \"\"\"\n",
    "        \n",
    "        # statsmodels.tsa.statespace.SARIMAX parameters\n",
    "        _init_kwargs = self.sm_init_kwargs.copy()\n",
    "        _init_kwargs.update({\n",
    "           'order': self.order,\n",
    "           'seasonal_order': self.seasonal_order,\n",
    "           'trend': self.trend,\n",
    "           'measurement_error': self.measurement_error,\n",
    "           'time_varying_regression': self.time_varying_regression,\n",
    "           'mle_regression': self.mle_regression,\n",
    "           'simple_differencing': self.simple_differencing,\n",
    "           'enforce_stationarity': self.enforce_stationarity,\n",
    "           'enforce_invertibility': self.enforce_invertibility,\n",
    "           'hamilton_representation': self.hamilton_representation,\n",
    "           'concentrate_scale': self.concentrate_scale,\n",
    "           'trend_offset': self.trend_offset,\n",
    "           'use_exact_diffuse': self.use_exact_diffuse,\n",
    "           'dates': self.dates,\n",
    "           'freq': self.freq,\n",
    "           'missing': self.missing,\n",
    "           'validate_specification': self.validate_specification\n",
    "        })\n",
    "        self._init_kwargs = _init_kwargs\n",
    "\n",
    "        # statsmodels.tsa.statespace.SARIMAX.fit parameters\n",
    "        _fit_kwargs = self.sm_fit_kwargs.copy()\n",
    "        _fit_kwargs.update({\n",
    "           'method': self.method,\n",
    "           'maxiter': self.maxiter,\n",
    "           'start_params': self.start_params,\n",
    "           'disp': self.disp,\n",
    "        })        \n",
    "        self._fit_kwargs = _fit_kwargs\n",
    "\n",
    "        # statsmodels.tsa.statespace.SARIMAXResults.get_forecast parameters\n",
    "        self._predict_kwargs = self.sm_predict_kwargs.copy()\n",
    "\n",
    "        return\n",
    "    \n",
    "        \n",
    "    def _create_sarimax(\n",
    "        self,\n",
    "        endog: Union[np.ndarray, pd.Series, pd.DataFrame],\n",
    "        exog: Optional[Union[np.ndarray, pd.Series, pd.DataFrame]]=None\n",
    "    ) -> None:\n",
    "        \"\"\"\n",
    "        A helper function to create a new statsmodel.SARIMAX.\n",
    "\n",
    "        Parameters\n",
    "        ----------\n",
    "        endog : pandas.Series\n",
    "            The endogenous variable.\n",
    "        exog : pandas.DataFrame\n",
    "            The exogenous variables.\n",
    "        \n",
    "        Returns\n",
    "        -------\n",
    "        None\n",
    "\n",
    "        \"\"\"\n",
    "\n",
    "        self.sarimax = SARIMAX(endog=endog, exog=exog, **self._init_kwargs)\n",
    "\n",
    "        return\n",
    "\n",
    "\n",
    "    def fit(\n",
    "        self,\n",
    "        y: Union[np.ndarray, pd.Series, pd.DataFrame],\n",
    "        exog: Optional[Union[np.ndarray, pd.Series, pd.DataFrame]]=None\n",
    "    ) -> None:\n",
    "        \"\"\"\n",
    "        Fit the model to the data.\n",
    "\n",
    "        Parameters\n",
    "        ----------\n",
    "        y : pandas Series\n",
    "            Training time series.\n",
    "        exog : pandas Series, pandas DataFrame, default `None`\n",
    "            Exogenous variable/s included as predictor/s. Must have the same\n",
    "            number of observations as `y` and their indexes must be aligned so\n",
    "            that y[i] is regressed on exog[i].\n",
    "\n",
    "        Returns\n",
    "        -------\n",
    "        None\n",
    "\n",
    "        \"\"\"\n",
    "\n",
    "        self.set_output = 'numpy' if isinstance(y, np.ndarray) else 'pandas'\n",
    "        \n",
    "        self._create_sarimax(endog=y, exog=exog)\n",
    "        self.sarimax_res = self.sarimax.fit(**self._fit_kwargs)\n",
    "        # self.training_index = y.index\n",
    "\n",
    "        return\n",
    "    \n",
    "\n",
    "    def predict(\n",
    "        self,\n",
    "        steps: int,\n",
    "        exog: Optional[Union[np.ndarray, pd.Series, pd.DataFrame]]=None, \n",
    "        return_conf_int: bool=False,\n",
    "        alpha: float=0.05\n",
    "    ) -> Union[np.ndarray, pd.DataFrame]:\n",
    "        \"\"\"\n",
    "        \"\"\"\n",
    "        predictions = self.sarimax_res.get_forecast(\n",
    "                          steps = steps,\n",
    "                          exog  = exog,\n",
    "                          **self._predict_kwargs\n",
    "                      )\n",
    "        \n",
    "        if not return_conf_int:\n",
    "            predictions = predictions.predicted_mean\n",
    "            if self.set_output == 'pandas':\n",
    "                predictions = predictions.rename(\"pred\").to_frame()\n",
    "        else:\n",
    "            if self.set_output == 'numpy':\n",
    "                predictions = np.column_stack(\n",
    "                                  [predictions.predicted_mean,\n",
    "                                   predictions.conf_int(alpha=alpha)]\n",
    "                              )\n",
    "            else:\n",
    "                predictions = pd.concat((\n",
    "                                  predictions.predicted_mean.rename(\"pred\"),\n",
    "                                  predictions.conf_int(alpha=alpha)),\n",
    "                                  axis = 1\n",
    "                              )\n",
    "                predictions.columns = ['pred', 'lower_bound', 'upper_bound']\n",
    "\n",
    "        return predictions\n",
    "    \n",
    "    def append():\n",
    "        \"\"\"\n",
    "        \"\"\"\n",
    "        pass\n",
    "    \n",
    "\n",
    "    def set_params(self, params):\n",
    "        \"\"\"\n",
    "        \"\"\"\n",
    "        params = {k:v for k,v in params.items() if k in self._sarimax_params}\n",
    "        for key, value in params.items():\n",
    "            setattr(self, key, value)\n",
    "\n",
    "        self._consolidate_kwargs()\n",
    "\n",
    "        self.sarimax_res = None\n",
    "\n",
    "        # Create the dictionaries with the additional statsmodels parameters to be  \n",
    "        # used during the init, fit and predict methods. Note that the statsmodels \n",
    "        # SARIMAX.fit parameters `method`, `max_iter`, `start_params` and `disp` \n",
    "        # have been moved to the initialization of this model and will have \n",
    "        # priority over those provided by the user using via `sm_fit_kwargs`.\n",
    "        \n",
    "        # statsmodels.tsa.statespace.SARIMAX parameters\n",
    "       \n"
   ]
  },
  {
   "cell_type": "code",
   "execution_count": 60,
   "metadata": {},
   "outputs": [],
   "source": [
    "sarimax = Sarimax2(sm_fit_kwargs={'maxiter': 100, 'hhh':1})"
   ]
  },
  {
   "cell_type": "code",
   "execution_count": 61,
   "metadata": {},
   "outputs": [
    {
     "data": {
      "text/plain": [
       "{'maxiter': 50,\n",
       " 'hhh': 1,\n",
       " 'method': 'lbfgs',\n",
       " 'start_params': None,\n",
       " 'disp': False}"
      ]
     },
     "execution_count": 61,
     "metadata": {},
     "output_type": "execute_result"
    }
   ],
   "source": [
    "sarimax._fit_kwargs"
   ]
  },
  {
   "cell_type": "code",
   "execution_count": 62,
   "metadata": {},
   "outputs": [
    {
     "data": {
      "text/plain": [
       "{'maxiter': 100, 'hhh': 1}"
      ]
     },
     "execution_count": 62,
     "metadata": {},
     "output_type": "execute_result"
    }
   ],
   "source": [
    "sarimax.sm_fit_kwargs"
   ]
  },
  {
   "cell_type": "code",
   "execution_count": 63,
   "metadata": {},
   "outputs": [
    {
     "data": {
      "text/plain": [
       "50"
      ]
     },
     "execution_count": 63,
     "metadata": {},
     "output_type": "execute_result"
    }
   ],
   "source": [
    "sarimax.maxiter"
   ]
  },
  {
   "cell_type": "code",
   "execution_count": 64,
   "metadata": {},
   "outputs": [],
   "source": [
    "sarimax.set_params({'sm_fit_kwargs':{'maxiter': 200, 'hhh':1}})"
   ]
  },
  {
   "cell_type": "code",
   "execution_count": 65,
   "metadata": {},
   "outputs": [
    {
     "data": {
      "text/plain": [
       "{'maxiter': 50,\n",
       " 'hhh': 1,\n",
       " 'method': 'lbfgs',\n",
       " 'start_params': None,\n",
       " 'disp': False}"
      ]
     },
     "execution_count": 65,
     "metadata": {},
     "output_type": "execute_result"
    }
   ],
   "source": [
    "sarimax._fit_kwargs"
   ]
  },
  {
   "cell_type": "code",
   "execution_count": 66,
   "metadata": {},
   "outputs": [
    {
     "data": {
      "text/plain": [
       "{'maxiter': 200, 'hhh': 1}"
      ]
     },
     "execution_count": 66,
     "metadata": {},
     "output_type": "execute_result"
    }
   ],
   "source": [
    "sarimax.sm_fit_kwargs"
   ]
  },
  {
   "cell_type": "code",
   "execution_count": 67,
   "metadata": {},
   "outputs": [],
   "source": [
    "sarimax.set_params({'maxiter': 300})"
   ]
  },
  {
   "cell_type": "code",
   "execution_count": 68,
   "metadata": {},
   "outputs": [
    {
     "data": {
      "text/plain": [
       "300"
      ]
     },
     "execution_count": 68,
     "metadata": {},
     "output_type": "execute_result"
    }
   ],
   "source": [
    "sarimax.maxiter"
   ]
  },
  {
   "cell_type": "code",
   "execution_count": 69,
   "metadata": {},
   "outputs": [
    {
     "data": {
      "text/plain": [
       "{'maxiter': 300,\n",
       " 'hhh': 1,\n",
       " 'method': 'lbfgs',\n",
       " 'start_params': None,\n",
       " 'disp': False}"
      ]
     },
     "execution_count": 69,
     "metadata": {},
     "output_type": "execute_result"
    }
   ],
   "source": [
    "sarimax._fit_kwargs"
   ]
  },
  {
   "cell_type": "code",
   "execution_count": 70,
   "metadata": {},
   "outputs": [
    {
     "data": {
      "text/plain": [
       "{'maxiter': 200, 'hhh': 1}"
      ]
     },
     "execution_count": 70,
     "metadata": {},
     "output_type": "execute_result"
    }
   ],
   "source": [
    "sarimax.sm_fit_kwargs"
   ]
  },
  {
   "cell_type": "code",
   "execution_count": null,
   "metadata": {},
   "outputs": [],
   "source": []
  },
  {
   "cell_type": "code",
   "execution_count": 60,
   "metadata": {},
   "outputs": [
    {
     "name": "stderr",
     "output_type": "stream",
     "text": [
      "c:\\Users\\jaesc2\\Miniconda3\\envs\\skforecast\\lib\\site-packages\\statsmodels\\tsa\\statespace\\sarimax.py:978: UserWarning: Non-invertible starting MA parameters found. Using zeros as starting parameters.\n",
      "  warn('Non-invertible starting MA parameters found.'\n"
     ]
    },
    {
     "name": "stdout",
     "output_type": "stream",
     "text": [
      "<class 'pandas.core.frame.DataFrame'>\n"
     ]
    },
    {
     "name": "stderr",
     "output_type": "stream",
     "text": [
      "c:\\Users\\jaesc2\\Miniconda3\\envs\\skforecast\\lib\\site-packages\\statsmodels\\base\\model.py:607: ConvergenceWarning: Maximum Likelihood optimization failed to converge. Check mle_retvals\n",
      "  warnings.warn(\"Maximum Likelihood optimization failed to \"\n"
     ]
    },
    {
     "data": {
      "text/html": [
       "<div>\n",
       "<style scoped>\n",
       "    .dataframe tbody tr th:only-of-type {\n",
       "        vertical-align: middle;\n",
       "    }\n",
       "\n",
       "    .dataframe tbody tr th {\n",
       "        vertical-align: top;\n",
       "    }\n",
       "\n",
       "    .dataframe thead th {\n",
       "        text-align: right;\n",
       "    }\n",
       "</style>\n",
       "<table border=\"1\" class=\"dataframe\">\n",
       "  <thead>\n",
       "    <tr style=\"text-align: right;\">\n",
       "      <th></th>\n",
       "      <th>pred</th>\n",
       "      <th>lower_bound</th>\n",
       "      <th>upper_bound</th>\n",
       "    </tr>\n",
       "  </thead>\n",
       "  <tbody>\n",
       "    <tr>\n",
       "      <th>100</th>\n",
       "      <td>-0.648113</td>\n",
       "      <td>-3.128797</td>\n",
       "      <td>1.832570</td>\n",
       "    </tr>\n",
       "    <tr>\n",
       "      <th>101</th>\n",
       "      <td>-0.209080</td>\n",
       "      <td>-2.814753</td>\n",
       "      <td>2.396594</td>\n",
       "    </tr>\n",
       "    <tr>\n",
       "      <th>102</th>\n",
       "      <td>-0.418755</td>\n",
       "      <td>-3.190136</td>\n",
       "      <td>2.352626</td>\n",
       "    </tr>\n",
       "    <tr>\n",
       "      <th>103</th>\n",
       "      <td>-0.460242</td>\n",
       "      <td>-3.695584</td>\n",
       "      <td>2.775099</td>\n",
       "    </tr>\n",
       "    <tr>\n",
       "      <th>104</th>\n",
       "      <td>-0.391963</td>\n",
       "      <td>-3.834511</td>\n",
       "      <td>3.050586</td>\n",
       "    </tr>\n",
       "  </tbody>\n",
       "</table>\n",
       "</div>"
      ],
      "text/plain": [
       "         pred  lower_bound  upper_bound\n",
       "100 -0.648113    -3.128797     1.832570\n",
       "101 -0.209080    -2.814753     2.396594\n",
       "102 -0.418755    -3.190136     2.352626\n",
       "103 -0.460242    -3.695584     2.775099\n",
       "104 -0.391963    -3.834511     3.050586"
      ]
     },
     "execution_count": 60,
     "metadata": {},
     "output_type": "execute_result"
    }
   ],
   "source": [
    "np.random.seed(123)\n",
    "endog = pd.DataFrame(pd.Series(np.random.normal(size=100)), columns=['serie_1'])\n",
    "#endog = pd.Series(np.random.normal(size=100))\n",
    "#endog = np.random.normal(size=100)\n",
    "\n",
    "exog = np.random.normal(size=100)\n",
    "#exog = pd.Series(np.random.normal(size=100))\n",
    "\n",
    "sarimax = Sarimax2(order=(3, 3, 3))\n",
    "sarimax.fit(y=endog, exog=exog)\n",
    "\n",
    "predictions = sarimax.predict(5, exog=exog[:5], return_conf_int=True)\n",
    "print(type(predictions))\n",
    "predictions"
   ]
  },
  {
   "cell_type": "code",
   "execution_count": 59,
   "metadata": {},
   "outputs": [
    {
     "data": {
      "text/plain": [
       "0    0.703310\n",
       "1   -0.598105\n",
       "2    2.200702\n",
       "3    0.688297\n",
       "4   -0.006307\n",
       "dtype: float64"
      ]
     },
     "execution_count": 59,
     "metadata": {},
     "output_type": "execute_result"
    }
   ],
   "source": [
    "exog[:5]"
   ]
  },
  {
   "cell_type": "code",
   "execution_count": 38,
   "metadata": {},
   "outputs": [],
   "source": [
    "arr1 = np.array([0.76578498, 0.79847458, 0.73380039, 0.86588736, 0.96231786])\n",
    "arr2 = np.array([[-1.20204223,  2.7336122 ],\n",
    " [-1.20640858 , 2.80335774],\n",
    " [-1.28768676 , 2.75528753],\n",
    " [-1.16192687,  2.89370158],\n",
    " [-1.18203997,  3.10667568]])"
   ]
  },
  {
   "cell_type": "code",
   "execution_count": 40,
   "metadata": {},
   "outputs": [
    {
     "data": {
      "text/plain": [
       "array([[ 0.76578498, -1.20204223,  2.7336122 ],\n",
       "       [ 0.79847458, -1.20640858,  2.80335774],\n",
       "       [ 0.73380039, -1.28768676,  2.75528753],\n",
       "       [ 0.86588736, -1.16192687,  2.89370158],\n",
       "       [ 0.96231786, -1.18203997,  3.10667568]])"
      ]
     },
     "execution_count": 40,
     "metadata": {},
     "output_type": "execute_result"
    }
   ],
   "source": [
    "np.column_stack([arr1,arr2])"
   ]
  },
  {
   "cell_type": "code",
   "execution_count": null,
   "metadata": {},
   "outputs": [],
   "source": []
  },
  {
   "cell_type": "code",
   "execution_count": 27,
   "metadata": {},
   "outputs": [
    {
     "data": {
      "text/plain": [
       "{}"
      ]
     },
     "execution_count": 27,
     "metadata": {},
     "output_type": "execute_result"
    }
   ],
   "source": [
    "sarimax.predict_kwargs"
   ]
  },
  {
   "cell_type": "markdown",
   "metadata": {},
   "source": [
    "## Statsmodels"
   ]
  },
  {
   "cell_type": "code",
   "execution_count": 13,
   "metadata": {},
   "outputs": [
    {
     "name": "stderr",
     "output_type": "stream",
     "text": [
      "c:\\Users\\jaesc2\\Miniconda3\\envs\\skforecast\\lib\\site-packages\\statsmodels\\tsa\\statespace\\sarimax.py:978: UserWarning: Non-invertible starting MA parameters found. Using zeros as starting parameters.\n",
      "  warn('Non-invertible starting MA parameters found.'\n",
      "c:\\Users\\jaesc2\\Miniconda3\\envs\\skforecast\\lib\\site-packages\\statsmodels\\base\\model.py:607: ConvergenceWarning: Maximum Likelihood optimization failed to converge. Check mle_retvals\n",
      "  warnings.warn(\"Maximum Likelihood optimization failed to \"\n"
     ]
    },
    {
     "data": {
      "text/plain": [
       "pandas.core.series.Series"
      ]
     },
     "execution_count": 13,
     "metadata": {},
     "output_type": "execute_result"
    }
   ],
   "source": [
    "np.random.seed(123)\n",
    "endog = pd.DataFrame(pd.Series(np.random.normal(size=100)), columns=['serie_1'])\n",
    "endog = pd.DataFrame(pd.Series(np.random.normal(size=100)), columns=['serie_1'])\n",
    "\n",
    "sarimax = SARIMAX(order=(3, 3, 3), endog=endog)\n",
    "sarimax_res = sarimax.fit()\n",
    "\n",
    "type(sarimax_res.get_forecast(5).predicted_mean)"
   ]
  },
  {
   "cell_type": "code",
   "execution_count": 12,
   "metadata": {},
   "outputs": [
    {
     "data": {
      "text/html": [
       "<div>\n",
       "<style scoped>\n",
       "    .dataframe tbody tr th:only-of-type {\n",
       "        vertical-align: middle;\n",
       "    }\n",
       "\n",
       "    .dataframe tbody tr th {\n",
       "        vertical-align: top;\n",
       "    }\n",
       "\n",
       "    .dataframe thead th {\n",
       "        text-align: right;\n",
       "    }\n",
       "</style>\n",
       "<table border=\"1\" class=\"dataframe\">\n",
       "  <thead>\n",
       "    <tr style=\"text-align: right;\">\n",
       "      <th></th>\n",
       "      <th>serie_1</th>\n",
       "    </tr>\n",
       "  </thead>\n",
       "  <tbody>\n",
       "    <tr>\n",
       "      <th>0</th>\n",
       "      <td>-1.085631</td>\n",
       "    </tr>\n",
       "    <tr>\n",
       "      <th>1</th>\n",
       "      <td>0.997345</td>\n",
       "    </tr>\n",
       "    <tr>\n",
       "      <th>2</th>\n",
       "      <td>0.282978</td>\n",
       "    </tr>\n",
       "    <tr>\n",
       "      <th>3</th>\n",
       "      <td>-1.506295</td>\n",
       "    </tr>\n",
       "    <tr>\n",
       "      <th>4</th>\n",
       "      <td>-0.578600</td>\n",
       "    </tr>\n",
       "    <tr>\n",
       "      <th>...</th>\n",
       "      <td>...</td>\n",
       "    </tr>\n",
       "    <tr>\n",
       "      <th>95</th>\n",
       "      <td>1.031114</td>\n",
       "    </tr>\n",
       "    <tr>\n",
       "      <th>96</th>\n",
       "      <td>-1.084568</td>\n",
       "    </tr>\n",
       "    <tr>\n",
       "      <th>97</th>\n",
       "      <td>-1.363472</td>\n",
       "    </tr>\n",
       "    <tr>\n",
       "      <th>98</th>\n",
       "      <td>0.379401</td>\n",
       "    </tr>\n",
       "    <tr>\n",
       "      <th>99</th>\n",
       "      <td>-0.379176</td>\n",
       "    </tr>\n",
       "  </tbody>\n",
       "</table>\n",
       "<p>100 rows × 1 columns</p>\n",
       "</div>"
      ],
      "text/plain": [
       "     serie_1\n",
       "0  -1.085631\n",
       "1   0.997345\n",
       "2   0.282978\n",
       "3  -1.506295\n",
       "4  -0.578600\n",
       "..       ...\n",
       "95  1.031114\n",
       "96 -1.084568\n",
       "97 -1.363472\n",
       "98  0.379401\n",
       "99 -0.379176\n",
       "\n",
       "[100 rows x 1 columns]"
      ]
     },
     "execution_count": 12,
     "metadata": {},
     "output_type": "execute_result"
    }
   ],
   "source": [
    "endog"
   ]
  },
  {
   "cell_type": "code",
   "execution_count": 87,
   "metadata": {},
   "outputs": [
    {
     "ename": "AttributeError",
     "evalue": "'SARIMAX' object has no attribute 'missing'",
     "output_type": "error",
     "traceback": [
      "\u001b[1;31m---------------------------------------------------------------------------\u001b[0m",
      "\u001b[1;31mAttributeError\u001b[0m                            Traceback (most recent call last)",
      "Cell \u001b[1;32mIn[87], line 1\u001b[0m\n\u001b[1;32m----> 1\u001b[0m sarimax\u001b[39m.\u001b[39;49mmissing\n",
      "\u001b[1;31mAttributeError\u001b[0m: 'SARIMAX' object has no attribute 'missing'"
     ]
    }
   ],
   "source": [
    "sarimax.missing"
   ]
  },
  {
   "cell_type": "code",
   "execution_count": 78,
   "metadata": {},
   "outputs": [
    {
     "name": "stderr",
     "output_type": "stream",
     "text": [
      "c:\\Users\\jaesc2\\Miniconda3\\envs\\skforecast\\lib\\site-packages\\statsmodels\\tsa\\statespace\\sarimax.py:978: UserWarning: Non-invertible starting MA parameters found. Using zeros as starting parameters.\n",
      "  warn('Non-invertible starting MA parameters found.'\n",
      "c:\\Users\\jaesc2\\Miniconda3\\envs\\skforecast\\lib\\site-packages\\statsmodels\\tsa\\statespace\\representation.py:374: FutureWarning: Unknown keyword arguments: dict_keys(['alpha']).Passing unknown keyword arguments will raise a TypeError beginning in version 0.15.\n",
      "  warnings.warn(msg, FutureWarning)\n"
     ]
    },
    {
     "data": {
      "text/plain": [
       "array([-0.66263334, -0.17596637, -0.43844843, -0.52160303, -0.39956411])"
      ]
     },
     "execution_count": 78,
     "metadata": {},
     "output_type": "execute_result"
    }
   ],
   "source": [
    "np.random.seed(123)\n",
    "sarimax = Sarimax2(order=(3, 3, 3))\n",
    "sarimax.fit(y=np.random.normal(size=100))\n",
    "\n",
    "sarimax.predict(5)"
   ]
  },
  {
   "cell_type": "code",
   "execution_count": null,
   "metadata": {},
   "outputs": [],
   "source": []
  },
  {
   "cell_type": "code",
   "execution_count": null,
   "metadata": {},
   "outputs": [],
   "source": []
  },
  {
   "cell_type": "code",
   "execution_count": null,
   "metadata": {},
   "outputs": [],
   "source": []
  },
  {
   "cell_type": "code",
   "execution_count": null,
   "metadata": {},
   "outputs": [],
   "source": []
  }
 ],
 "metadata": {
  "kernelspec": {
   "display_name": "cienciadedatos_p10",
   "language": "python",
   "name": "python3"
  },
  "language_info": {
   "codemirror_mode": {
    "name": "ipython",
    "version": 3
   },
   "file_extension": ".py",
   "mimetype": "text/x-python",
   "name": "python",
   "nbconvert_exporter": "python",
   "pygments_lexer": "ipython3",
   "version": "3.10.11"
  },
  "orig_nbformat": 4
 },
 "nbformat": 4,
 "nbformat_minor": 2
}
