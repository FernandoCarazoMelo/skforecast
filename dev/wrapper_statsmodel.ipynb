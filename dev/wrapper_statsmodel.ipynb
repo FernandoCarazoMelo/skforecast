{
 "cells": [
  {
   "cell_type": "code",
   "execution_count": 1,
   "metadata": {},
   "outputs": [
    {
     "data": {
      "text/plain": [
       "'c:\\\\Users\\\\jaesc2\\\\GitHub\\\\skforecast'"
      ]
     },
     "execution_count": 1,
     "metadata": {},
     "output_type": "execute_result"
    }
   ],
   "source": [
    "%load_ext autoreload\n",
    "%autoreload 2\n",
    "import sys\n",
    "from pathlib import Path\n",
    "sys.path.insert(1, str(Path.cwd().parent))\n",
    "str(Path.cwd().parent)"
   ]
  },
  {
   "cell_type": "code",
   "execution_count": 5,
   "metadata": {},
   "outputs": [],
   "source": [
    "from sklearn.base import BaseEstimator, RegressorMixin\n",
    "import statsmodels.api as sm\n",
    "from statsmodels.tsa.statespace.sarimax import SARIMAX\n",
    "from statsmodels.tsa.statespace.sarimax import SARIMAXResults\n",
    "\n",
    "from typing import Optional, Union, Tuple, List, Dict\n",
    "\n",
    "\n",
    "import pandas as pd\n",
    "import numpy as np\n",
    "import warnings\n",
    "import inspect"
   ]
  },
  {
   "cell_type": "markdown",
   "metadata": {},
   "source": [
    "https://www.aritro.in/post/exponential-smoothing-using-scikit-learn-wrapper-statsmodels/\n",
    "\n",
    "https://www.scikit-yb.org/en/latest/_modules/yellowbrick/contrib/statsmodels/base.html#StatsModelsWrapper"
   ]
  },
  {
   "cell_type": "code",
   "execution_count": 7,
   "metadata": {},
   "outputs": [],
   "source": [
    "from typing import Optional, Union, Tuple, List, Dict\n",
    "\n",
    "\n",
    "\n",
    "class Sarimax(BaseEstimator, RegressorMixin):\n",
    "    \"\"\"\n",
    "    A universal sklearn-style wrapper for statsmodels SARIMAX.\n",
    "\n",
    "    Parameters\n",
    "    ----------\n",
    "\n",
    "\n",
    "    Attributes\n",
    "    ----------\n",
    "\n",
    "    \"\"\"\n",
    "\n",
    "    def __init__(\n",
    "        self,\n",
    "        order: tuple=(1, 0, 0),\n",
    "        seasonal_order: tuple=(0, 0, 0, 0),\n",
    "        trend: str=None,\n",
    "        measurement_error: bool=False,\n",
    "        time_varying_regression: bool=False,\n",
    "        mle_regression: bool=True,\n",
    "        simple_differencing: bool=False,\n",
    "        enforce_stationarity: bool=True,\n",
    "        enforce_invertibility: bool=True,\n",
    "        hamilton_representation: bool=False,\n",
    "        concentrate_scale: bool=False,\n",
    "        trend_offset: int=1,\n",
    "        use_exact_diffuse: bool=False,\n",
    "        dates = None,\n",
    "        freq = None,\n",
    "        missing = 'none',\n",
    "        validate_specification: bool=True,\n",
    "        method: str='lbfgs',\n",
    "        maxiter: int=50,\n",
    "        start_params = None,\n",
    "        disp: bool= False,\n",
    "        fit_kwargs: Optional[dict]={'disp':False},\n",
    "        predict_kwargs: Optional[dict]={}\n",
    "    ) -> None:\n",
    "\n",
    "        self.order                   = order\n",
    "        self.seasonal_order          = seasonal_order\n",
    "        self.trend                   = trend\n",
    "        self.measurement_error       = measurement_error\n",
    "        self.time_varying_regression = time_varying_regression\n",
    "        self.mle_regression          = mle_regression\n",
    "        self.simple_differencing     = simple_differencing\n",
    "        self.enforce_stationarity    = enforce_stationarity\n",
    "        self.enforce_invertibility   = enforce_invertibility\n",
    "        self.hamilton_representation = hamilton_representation\n",
    "        self.concentrate_scale       = concentrate_scale\n",
    "        self.trend_offset            = trend_offset\n",
    "        self.use_exact_diffuse       = use_exact_diffuse\n",
    "        self.dates                   = dates\n",
    "        self.freq                    = freq\n",
    "        self.missing                 = missing\n",
    "        self.validate_specification  = validate_specification\n",
    "        self.method                  = method\n",
    "        self.maxiter                 = maxiter\n",
    "        self.start_params            = start_params\n",
    "        self.disp                    = disp\n",
    "        self.fit_kwargs              = fit_kwargs\n",
    "        self.predict_kwargs          = predict_kwargs\n",
    "        \n",
    "        self.sarimax        = None\n",
    "        self.sarimax_res    = None\n",
    "        self.training_index = None\n",
    "        self._dummy_create_fit_sarimax()\n",
    "\n",
    "        # Check remove from fit_kwargs the parameters that are not in the fit method\n",
    "        # of the statsmodels.SARIMAX\n",
    "        fit_kwargs_keys = inspect.signature(self.sarimax.fit).parameters.keys()\n",
    "        self.fit_kwargs = {k:v for k,v in self.fit_kwargs.items() if k in fit_kwargs_keys}\n",
    "        # Check remove from predict_kwargs the parameters that are not in the predict method\n",
    "        # of the statsmodels.SARIMAX.RESULTS\n",
    "        predict_kwargs_keys = inspect.signature(self.sarimax_res.get_forecast).parameters.keys()\n",
    "        self.predict_kwargs = {k:v for k,v in self.predict_kwargs.items() if k in predict_kwargs_keys}\n",
    "\n",
    "\n",
    "    def _create_sarimax(\n",
    "        self,\n",
    "        y: pd.Series,\n",
    "        exog: Optional[Union[pd.Series, pd.DataFrame]] = None\n",
    "        ) -> None:\n",
    "        \"\"\"\n",
    "        A helper function to create a new statsmodel.SARIMAX.\n",
    "\n",
    "        Parameters\n",
    "        ----------\n",
    "        y : pandas.Series\n",
    "            The endogenous variable.\n",
    "        exog : pandas.DataFrame\n",
    "            The exogenous variables.\n",
    "        \n",
    "        Returns\n",
    "        -------\n",
    "        None\n",
    "\n",
    "        \"\"\"\n",
    "        print(self.__dict__)\n",
    "\n",
    "        self.sarimax = SARIMAX(endog=y, exog=exog, **self.__dict__)\n",
    "\n",
    "        return\n",
    "    \n",
    "\n",
    "    def _dummy_create_fit_sarimax(self):\n",
    "        \"\"\"\n",
    "        A helper function to create a dummy SARIMAX and fit it to an empty\n",
    "        series.\n",
    "\n",
    "        Parameters\n",
    "        ----------\n",
    "        None\n",
    "\n",
    "        Returns\n",
    "        -------\n",
    "        None\n",
    "        \"\"\"\n",
    "        kwargs_default = {\n",
    "            'method': self.method,\n",
    "            'maxiter': self.maxiter,\n",
    "            'start_params': self.start_params,\n",
    "            'disp': self.disp,\n",
    "        }\n",
    "        \n",
    "        with warnings.catch_warnings():\n",
    "            warnings.simplefilter(\"ignore\")\n",
    "            self._create_sarimax(y=pd.Series([], dtype=float), exog=None)\n",
    "            self.sarimax_res = self.sarimax.fit(**kwargs_default)\n",
    "            self.training_index = pd.RangeIndex(start=0, stop=0, step=1)\n",
    "\n",
    "        return\n",
    "\n",
    "\n",
    "    def fit(\n",
    "        self,\n",
    "        y: pd.Series,\n",
    "        exog: Optional[Union[pd.Series, pd.DataFrame]] = None\n",
    "    ) -> None:\n",
    "        \"\"\"\n",
    "        Fit the model to the data.\n",
    "\n",
    "        Parameters\n",
    "        ----------\n",
    "        y : pandas Series\n",
    "            Training time series.\n",
    "        exog : pandas Series, pandas DataFrame, default `None`\n",
    "            Exogenous variable/s included as predictor/s. Must have the same\n",
    "            number of observations as `y` and their indexes must be aligned so\n",
    "            that y[i] is regressed on exog[i].\n",
    "\n",
    "        Returns\n",
    "        -------\n",
    "        None\n",
    "\n",
    "        \"\"\"\n",
    "        \n",
    "        kwargs_default = {\n",
    "            'method': self.method,\n",
    "            'maxiter': self.maxiter,\n",
    "            'start_params': self.start_params,\n",
    "            'disp': self.disp,\n",
    "        }\n",
    "\n",
    "        # User provided fit_kwargs in the fit have preference over the default ones\n",
    "        if self.fit_kwargs:\n",
    "            kwargs_default.update(fit_kwargs)\n",
    "\n",
    "        self._create_sarimax(y=y, exog=exog)\n",
    "        self.sarimax_res = self.sarimax.fit(**self.fit_kwargs)\n",
    "        self.training_index = y.index\n",
    "\n",
    "        return \n",
    "\n",
    "\n",
    "    def predict(\n",
    "        self,\n",
    "        steps: int,\n",
    "        last_window: Optional[pd.Series]=None,\n",
    "        exog: Optional[Union[pd.Series, pd.DataFrame]]=None\n",
    "    ):\n",
    "        \"\"\"\n",
    "        Predict n steps ahead. It is an recursive process in which, each prediction,\n",
    "        is used as a predictor for the next step.\n",
    "\n",
    "        Parameters\n",
    "        ----------\n",
    "        steps : int\n",
    "            Number of future steps predicted.\n",
    "        last_window : pandas Series, default `None`\n",
    "            Series values used to create the predictors (lags) needed in the \n",
    "            first iteration of the prediction (t + 1).\n",
    "            If `last_window = None`, the values stored in `self.last_window` are\n",
    "            used to calculate the initial predictors, and the predictions start\n",
    "            right after training data.\n",
    "        exog : pandas Series, pandas DataFrame, default `None`\n",
    "            Exogenous variable/s included as predictor/s.\n",
    "\n",
    "        Returns\n",
    "        -------\n",
    "        predictions : pandas Series\n",
    "            Predicted values.\n",
    "        \n",
    "        \"\"\"\n",
    "\n",
    "        predictions = self.sarimax_res.forecast(steps=steps, exog=exog)\n",
    "\n",
    "        return predictions\n",
    "    \n",
    "\n",
    "    def predict_interval(self, steps, exog=None, alpha=0.05, **kwargs):\n",
    "        \"\"\"\n",
    "        \"\"\"\n",
    "        predictions = self.sarimax_res.get_forecast(\n",
    "                        steps           = steps,\n",
    "                        exog            = exog,\n",
    "                        return_conf_int = False,\n",
    "                        alpha           = 0.05,\n",
    "                        **kwargs\n",
    "                      )\n",
    "        \n",
    "        predictions = pd.concat((\n",
    "                        predictions.predicted_mean.rename(\"pred\"),\n",
    "                        predictions.conf_int(alpha=alpha)),\n",
    "                        axis = 1\n",
    "                     )\n",
    "        predictions.columns = ['pred', 'lower_bound', 'upper_bound']\n",
    "\n",
    "        return predictions\n",
    "    \n",
    "    def extend():\n",
    "        \"\"\"\n",
    "        \"\"\"\n",
    "        pass\n",
    "    \n",
    "\n",
    "    def set_params(self, params):\n",
    "        \"\"\"\n",
    "        \n",
    "        \"\"\"\n",
    "        params = {k:v for k,v in params.items() if k in self.__dict__}\n",
    "        for key, value in params.items():\n",
    "            setattr(self, key, value)\n",
    "\n",
    "        self._create_sarimax(\n",
    "            y = pd.Series(data=self.sarimax.endog.ravel(), index=self.training_index),\n",
    "            exog = self.sarimax.exog\n",
    "        )\n",
    "            \n",
    "\n",
    "    def __repr__(self):\n",
    "        p, d, q = self.order\n",
    "        P, D, Q, m = self.seasonal_order\n",
    "\n",
    "        return f\"Sarimax({p},{d},{q})({P},{D},{Q})[{m}]\"\n"
   ]
  },
  {
   "cell_type": "code",
   "execution_count": 14,
   "metadata": {},
   "outputs": [
    {
     "name": "stdout",
     "output_type": "stream",
     "text": [
      "{'order': (1, 0, 0), 'seasonal_order': (0, 0, 0, 0), 'trend': None, 'measurement_error': False, 'time_varying_regression': False, 'mle_regression': True, 'simple_differencing': False, 'enforce_stationarity': True, 'enforce_invertibility': True, 'hamilton_representation': False, 'concentrate_scale': False, 'trend_offset': 1, 'use_exact_diffuse': False, 'dates': None, 'freq': None, 'missing': 'none', 'validate_specification': True, 'method': 'lbfgs', 'maxiter': 50, 'start_params': None, 'disp': False, 'fit_kwargs': {'disp': False}, 'predict_kwargs': {}, 'sarimax': None, 'sarimax_res': None, 'training_index': None}\n"
     ]
    },
    {
     "ename": "AttributeError",
     "evalue": "'Sarimax' object has no attribute 'f_code'",
     "output_type": "error",
     "traceback": [
      "\u001b[1;31m---------------------------------------------------------------------------\u001b[0m",
      "\u001b[1;31mAttributeError\u001b[0m                            Traceback (most recent call last)",
      "Cell \u001b[1;32mIn[14], line 1\u001b[0m\n\u001b[1;32m----> 1\u001b[0m args \u001b[39m=\u001b[39m inspect\u001b[39m.\u001b[39;49mgetargvalues(Sarimax())\n",
      "File \u001b[1;32mc:\\Users\\jaesc2\\Miniconda3\\envs\\skforecast\\lib\\inspect.py:1346\u001b[0m, in \u001b[0;36mgetargvalues\u001b[1;34m(frame)\u001b[0m\n\u001b[0;32m   1339\u001b[0m \u001b[39mdef\u001b[39;00m \u001b[39mgetargvalues\u001b[39m(frame):\n\u001b[0;32m   1340\u001b[0m \u001b[39m    \u001b[39m\u001b[39m\"\"\"Get information about arguments passed into a particular frame.\u001b[39;00m\n\u001b[0;32m   1341\u001b[0m \n\u001b[0;32m   1342\u001b[0m \u001b[39m    A tuple of four things is returned: (args, varargs, varkw, locals).\u001b[39;00m\n\u001b[0;32m   1343\u001b[0m \u001b[39m    'args' is a list of the argument names.\u001b[39;00m\n\u001b[0;32m   1344\u001b[0m \u001b[39m    'varargs' and 'varkw' are the names of the * and ** arguments or None.\u001b[39;00m\n\u001b[0;32m   1345\u001b[0m \u001b[39m    'locals' is the locals dictionary of the given frame.\"\"\"\u001b[39;00m\n\u001b[1;32m-> 1346\u001b[0m     args, varargs, varkw \u001b[39m=\u001b[39m getargs(frame\u001b[39m.\u001b[39;49mf_code)\n\u001b[0;32m   1347\u001b[0m     \u001b[39mreturn\u001b[39;00m ArgInfo(args, varargs, varkw, frame\u001b[39m.\u001b[39mf_locals)\n",
      "\u001b[1;31mAttributeError\u001b[0m: 'Sarimax' object has no attribute 'f_code'"
     ]
    }
   ],
   "source": [
    "args = inspect.getargvalues(Sarimax())"
   ]
  },
  {
   "cell_type": "code",
   "execution_count": 3,
   "metadata": {},
   "outputs": [
    {
     "name": "stdout",
     "output_type": "stream",
     "text": [
      "{'order': (5, 1, 1), 'seasonal_order': (0, 0, 0, 0), 'trend': None, 'measurement_error': False, 'time_varying_regression': False, 'mle_regression': True, 'simple_differencing': False, 'enforce_stationarity': True, 'enforce_invertibility': True, 'hamilton_representation': False, 'concentrate_scale': False, 'trend_offset': 1, 'use_exact_diffuse': False, 'dates': None, 'freq': None, 'missing': 'none', 'validate_specification': True, 'method': 'lbfgs', 'maxiter': 50, 'start_params': None, 'disp': False, 'fit_kwargs': {'disp': False}, 'predict_kwargs': {}, 'sarimax': None, 'sarimax_res': None, 'training_index': None}\n"
     ]
    },
    {
     "ename": "LinAlgError",
     "evalue": "Schur decomposition solver error.",
     "output_type": "error",
     "traceback": [
      "\u001b[1;31m---------------------------------------------------------------------------\u001b[0m",
      "\u001b[1;31mLinAlgError\u001b[0m                               Traceback (most recent call last)",
      "Cell \u001b[1;32mIn[3], line 1\u001b[0m\n\u001b[1;32m----> 1\u001b[0m sarimax \u001b[39m=\u001b[39m Sarimax(order\u001b[39m=\u001b[39;49m(\u001b[39m5\u001b[39;49m, \u001b[39m1\u001b[39;49m, \u001b[39m1\u001b[39;49m))\n",
      "Cell \u001b[1;32mIn[2], line 72\u001b[0m, in \u001b[0;36mSarimax.__init__\u001b[1;34m(self, order, seasonal_order, trend, measurement_error, time_varying_regression, mle_regression, simple_differencing, enforce_stationarity, enforce_invertibility, hamilton_representation, concentrate_scale, trend_offset, use_exact_diffuse, dates, freq, missing, validate_specification, method, maxiter, start_params, disp, fit_kwargs, predict_kwargs)\u001b[0m\n\u001b[0;32m     70\u001b[0m \u001b[39mself\u001b[39m\u001b[39m.\u001b[39msarimax_res    \u001b[39m=\u001b[39m \u001b[39mNone\u001b[39;00m\n\u001b[0;32m     71\u001b[0m \u001b[39mself\u001b[39m\u001b[39m.\u001b[39mtraining_index \u001b[39m=\u001b[39m \u001b[39mNone\u001b[39;00m\n\u001b[1;32m---> 72\u001b[0m \u001b[39mself\u001b[39;49m\u001b[39m.\u001b[39;49m_dummy_create_fit_sarimax()\n\u001b[0;32m     74\u001b[0m \u001b[39m# Check remove from fit_kwargs the parameters that are not in the fit method\u001b[39;00m\n\u001b[0;32m     75\u001b[0m \u001b[39m# of the statsmodels.SARIMAX\u001b[39;00m\n\u001b[0;32m     76\u001b[0m fit_kwargs_keys \u001b[39m=\u001b[39m inspect\u001b[39m.\u001b[39msignature(\u001b[39mself\u001b[39m\u001b[39m.\u001b[39msarimax\u001b[39m.\u001b[39mfit)\u001b[39m.\u001b[39mparameters\u001b[39m.\u001b[39mkeys()\n",
      "Cell \u001b[1;32mIn[2], line 135\u001b[0m, in \u001b[0;36mSarimax._dummy_create_fit_sarimax\u001b[1;34m(self)\u001b[0m\n\u001b[0;32m    133\u001b[0m     warnings\u001b[39m.\u001b[39msimplefilter(\u001b[39m\"\u001b[39m\u001b[39mignore\u001b[39m\u001b[39m\"\u001b[39m)\n\u001b[0;32m    134\u001b[0m     \u001b[39mself\u001b[39m\u001b[39m.\u001b[39m_create_sarimax(y\u001b[39m=\u001b[39mpd\u001b[39m.\u001b[39mSeries([], dtype\u001b[39m=\u001b[39m\u001b[39mfloat\u001b[39m), exog\u001b[39m=\u001b[39m\u001b[39mNone\u001b[39;00m)\n\u001b[1;32m--> 135\u001b[0m     \u001b[39mself\u001b[39m\u001b[39m.\u001b[39msarimax_res \u001b[39m=\u001b[39m \u001b[39mself\u001b[39m\u001b[39m.\u001b[39msarimax\u001b[39m.\u001b[39mfit(\u001b[39m*\u001b[39m\u001b[39m*\u001b[39mkwargs_default)\n\u001b[0;32m    136\u001b[0m     \u001b[39mself\u001b[39m\u001b[39m.\u001b[39mtraining_index \u001b[39m=\u001b[39m pd\u001b[39m.\u001b[39mRangeIndex(start\u001b[39m=\u001b[39m\u001b[39m0\u001b[39m, stop\u001b[39m=\u001b[39m\u001b[39m0\u001b[39m, step\u001b[39m=\u001b[39m\u001b[39m1\u001b[39m)\n\u001b[0;32m    138\u001b[0m \u001b[39mreturn\u001b[39;00m\n",
      "File \u001b[1;32mc:\\Users\\jaesc2\\Miniconda3\\envs\\skforecast\\lib\\site-packages\\statsmodels\\tsa\\statespace\\mlemodel.py:704\u001b[0m, in \u001b[0;36mMLEModel.fit\u001b[1;34m(self, start_params, transformed, includes_fixed, cov_type, cov_kwds, method, maxiter, full_output, disp, callback, return_params, optim_score, optim_complex_step, optim_hessian, flags, low_memory, **kwargs)\u001b[0m\n\u001b[0;32m    702\u001b[0m         flags[\u001b[39m'\u001b[39m\u001b[39mhessian_method\u001b[39m\u001b[39m'\u001b[39m] \u001b[39m=\u001b[39m optim_hessian\n\u001b[0;32m    703\u001b[0m     fargs \u001b[39m=\u001b[39m (flags,)\n\u001b[1;32m--> 704\u001b[0m     mlefit \u001b[39m=\u001b[39m \u001b[39msuper\u001b[39m(MLEModel, \u001b[39mself\u001b[39m)\u001b[39m.\u001b[39mfit(start_params, method\u001b[39m=\u001b[39mmethod,\n\u001b[0;32m    705\u001b[0m                                        fargs\u001b[39m=\u001b[39mfargs,\n\u001b[0;32m    706\u001b[0m                                        maxiter\u001b[39m=\u001b[39mmaxiter,\n\u001b[0;32m    707\u001b[0m                                        full_output\u001b[39m=\u001b[39mfull_output,\n\u001b[0;32m    708\u001b[0m                                        disp\u001b[39m=\u001b[39mdisp, callback\u001b[39m=\u001b[39mcallback,\n\u001b[0;32m    709\u001b[0m                                        skip_hessian\u001b[39m=\u001b[39m\u001b[39mTrue\u001b[39;00m, \u001b[39m*\u001b[39m\u001b[39m*\u001b[39mkwargs)\n\u001b[0;32m    711\u001b[0m \u001b[39m# Just return the fitted parameters if requested\u001b[39;00m\n\u001b[0;32m    712\u001b[0m \u001b[39mif\u001b[39;00m return_params:\n",
      "File \u001b[1;32mc:\\Users\\jaesc2\\Miniconda3\\envs\\skforecast\\lib\\site-packages\\statsmodels\\base\\model.py:566\u001b[0m, in \u001b[0;36mLikelihoodModel.fit\u001b[1;34m(self, start_params, method, maxiter, full_output, disp, fargs, callback, retall, skip_hessian, **kwargs)\u001b[0m\n\u001b[0;32m    563\u001b[0m     \u001b[39mdel\u001b[39;00m kwargs[\u001b[39m\"\u001b[39m\u001b[39muse_t\u001b[39m\u001b[39m\"\u001b[39m]\n\u001b[0;32m    565\u001b[0m optimizer \u001b[39m=\u001b[39m Optimizer()\n\u001b[1;32m--> 566\u001b[0m xopt, retvals, optim_settings \u001b[39m=\u001b[39m optimizer\u001b[39m.\u001b[39;49m_fit(f, score, start_params,\n\u001b[0;32m    567\u001b[0m                                                fargs, kwargs,\n\u001b[0;32m    568\u001b[0m                                                hessian\u001b[39m=\u001b[39;49mhess,\n\u001b[0;32m    569\u001b[0m                                                method\u001b[39m=\u001b[39;49mmethod,\n\u001b[0;32m    570\u001b[0m                                                disp\u001b[39m=\u001b[39;49mdisp,\n\u001b[0;32m    571\u001b[0m                                                maxiter\u001b[39m=\u001b[39;49mmaxiter,\n\u001b[0;32m    572\u001b[0m                                                callback\u001b[39m=\u001b[39;49mcallback,\n\u001b[0;32m    573\u001b[0m                                                retall\u001b[39m=\u001b[39;49mretall,\n\u001b[0;32m    574\u001b[0m                                                full_output\u001b[39m=\u001b[39;49mfull_output)\n\u001b[0;32m    575\u001b[0m \u001b[39m# Restore cov_type, cov_kwds and use_t\u001b[39;00m\n\u001b[0;32m    576\u001b[0m optim_settings\u001b[39m.\u001b[39mupdate(kwds)\n",
      "File \u001b[1;32mc:\\Users\\jaesc2\\Miniconda3\\envs\\skforecast\\lib\\site-packages\\statsmodels\\base\\optimizer.py:242\u001b[0m, in \u001b[0;36mOptimizer._fit\u001b[1;34m(self, objective, gradient, start_params, fargs, kwargs, hessian, method, maxiter, full_output, disp, callback, retall)\u001b[0m\n\u001b[0;32m    239\u001b[0m     fit_funcs\u001b[39m.\u001b[39mupdate(extra_fit_funcs)\n\u001b[0;32m    241\u001b[0m func \u001b[39m=\u001b[39m fit_funcs[method]\n\u001b[1;32m--> 242\u001b[0m xopt, retvals \u001b[39m=\u001b[39m func(objective, gradient, start_params, fargs, kwargs,\n\u001b[0;32m    243\u001b[0m                      disp\u001b[39m=\u001b[39;49mdisp, maxiter\u001b[39m=\u001b[39;49mmaxiter, callback\u001b[39m=\u001b[39;49mcallback,\n\u001b[0;32m    244\u001b[0m                      retall\u001b[39m=\u001b[39;49mretall, full_output\u001b[39m=\u001b[39;49mfull_output,\n\u001b[0;32m    245\u001b[0m                      hess\u001b[39m=\u001b[39;49mhessian)\n\u001b[0;32m    247\u001b[0m optim_settings \u001b[39m=\u001b[39m {\u001b[39m'\u001b[39m\u001b[39moptimizer\u001b[39m\u001b[39m'\u001b[39m: method, \u001b[39m'\u001b[39m\u001b[39mstart_params\u001b[39m\u001b[39m'\u001b[39m: start_params,\n\u001b[0;32m    248\u001b[0m                   \u001b[39m'\u001b[39m\u001b[39mmaxiter\u001b[39m\u001b[39m'\u001b[39m: maxiter, \u001b[39m'\u001b[39m\u001b[39mfull_output\u001b[39m\u001b[39m'\u001b[39m: full_output,\n\u001b[0;32m    249\u001b[0m                   \u001b[39m'\u001b[39m\u001b[39mdisp\u001b[39m\u001b[39m'\u001b[39m: disp, \u001b[39m'\u001b[39m\u001b[39mfargs\u001b[39m\u001b[39m'\u001b[39m: fargs, \u001b[39m'\u001b[39m\u001b[39mcallback\u001b[39m\u001b[39m'\u001b[39m: callback,\n\u001b[0;32m    250\u001b[0m                   \u001b[39m'\u001b[39m\u001b[39mretall\u001b[39m\u001b[39m'\u001b[39m: retall, \u001b[39m\"\u001b[39m\u001b[39mextra_fit_funcs\u001b[39m\u001b[39m\"\u001b[39m: extra_fit_funcs}\n\u001b[0;32m    251\u001b[0m optim_settings\u001b[39m.\u001b[39mupdate(kwargs)\n",
      "File \u001b[1;32mc:\\Users\\jaesc2\\Miniconda3\\envs\\skforecast\\lib\\site-packages\\statsmodels\\base\\optimizer.py:659\u001b[0m, in \u001b[0;36m_fit_lbfgs\u001b[1;34m(f, score, start_params, fargs, kwargs, disp, maxiter, callback, retall, full_output, hess)\u001b[0m\n\u001b[0;32m    656\u001b[0m \u001b[39melif\u001b[39;00m approx_grad:\n\u001b[0;32m    657\u001b[0m     func \u001b[39m=\u001b[39m f\n\u001b[1;32m--> 659\u001b[0m retvals \u001b[39m=\u001b[39m optimize\u001b[39m.\u001b[39mfmin_l_bfgs_b(func, start_params, maxiter\u001b[39m=\u001b[39mmaxiter,\n\u001b[0;32m    660\u001b[0m                                  callback\u001b[39m=\u001b[39mcallback, args\u001b[39m=\u001b[39mfargs,\n\u001b[0;32m    661\u001b[0m                                  bounds\u001b[39m=\u001b[39mbounds, disp\u001b[39m=\u001b[39mdisp,\n\u001b[0;32m    662\u001b[0m                                  \u001b[39m*\u001b[39m\u001b[39m*\u001b[39mextra_kwargs)\n\u001b[0;32m    664\u001b[0m \u001b[39mif\u001b[39;00m full_output:\n\u001b[0;32m    665\u001b[0m     xopt, fopt, d \u001b[39m=\u001b[39m retvals\n",
      "File \u001b[1;32mc:\\Users\\jaesc2\\Miniconda3\\envs\\skforecast\\lib\\site-packages\\scipy\\optimize\\_lbfgsb_py.py:197\u001b[0m, in \u001b[0;36mfmin_l_bfgs_b\u001b[1;34m(func, x0, fprime, args, approx_grad, bounds, m, factr, pgtol, epsilon, iprint, maxfun, maxiter, disp, callback, maxls)\u001b[0m\n\u001b[0;32m    185\u001b[0m \u001b[39m# build options\u001b[39;00m\n\u001b[0;32m    186\u001b[0m opts \u001b[39m=\u001b[39m {\u001b[39m'\u001b[39m\u001b[39mdisp\u001b[39m\u001b[39m'\u001b[39m: disp,\n\u001b[0;32m    187\u001b[0m         \u001b[39m'\u001b[39m\u001b[39miprint\u001b[39m\u001b[39m'\u001b[39m: iprint,\n\u001b[0;32m    188\u001b[0m         \u001b[39m'\u001b[39m\u001b[39mmaxcor\u001b[39m\u001b[39m'\u001b[39m: m,\n\u001b[1;32m   (...)\u001b[0m\n\u001b[0;32m    194\u001b[0m         \u001b[39m'\u001b[39m\u001b[39mcallback\u001b[39m\u001b[39m'\u001b[39m: callback,\n\u001b[0;32m    195\u001b[0m         \u001b[39m'\u001b[39m\u001b[39mmaxls\u001b[39m\u001b[39m'\u001b[39m: maxls}\n\u001b[1;32m--> 197\u001b[0m res \u001b[39m=\u001b[39m _minimize_lbfgsb(fun, x0, args\u001b[39m=\u001b[39margs, jac\u001b[39m=\u001b[39mjac, bounds\u001b[39m=\u001b[39mbounds,\n\u001b[0;32m    198\u001b[0m                        \u001b[39m*\u001b[39m\u001b[39m*\u001b[39mopts)\n\u001b[0;32m    199\u001b[0m d \u001b[39m=\u001b[39m {\u001b[39m'\u001b[39m\u001b[39mgrad\u001b[39m\u001b[39m'\u001b[39m: res[\u001b[39m'\u001b[39m\u001b[39mjac\u001b[39m\u001b[39m'\u001b[39m],\n\u001b[0;32m    200\u001b[0m      \u001b[39m'\u001b[39m\u001b[39mtask\u001b[39m\u001b[39m'\u001b[39m: res[\u001b[39m'\u001b[39m\u001b[39mmessage\u001b[39m\u001b[39m'\u001b[39m],\n\u001b[0;32m    201\u001b[0m      \u001b[39m'\u001b[39m\u001b[39mfuncalls\u001b[39m\u001b[39m'\u001b[39m: res[\u001b[39m'\u001b[39m\u001b[39mnfev\u001b[39m\u001b[39m'\u001b[39m],\n\u001b[0;32m    202\u001b[0m      \u001b[39m'\u001b[39m\u001b[39mnit\u001b[39m\u001b[39m'\u001b[39m: res[\u001b[39m'\u001b[39m\u001b[39mnit\u001b[39m\u001b[39m'\u001b[39m],\n\u001b[0;32m    203\u001b[0m      \u001b[39m'\u001b[39m\u001b[39mwarnflag\u001b[39m\u001b[39m'\u001b[39m: res[\u001b[39m'\u001b[39m\u001b[39mstatus\u001b[39m\u001b[39m'\u001b[39m]}\n\u001b[0;32m    204\u001b[0m f \u001b[39m=\u001b[39m res[\u001b[39m'\u001b[39m\u001b[39mfun\u001b[39m\u001b[39m'\u001b[39m]\n",
      "File \u001b[1;32mc:\\Users\\jaesc2\\Miniconda3\\envs\\skforecast\\lib\\site-packages\\scipy\\optimize\\_lbfgsb_py.py:359\u001b[0m, in \u001b[0;36m_minimize_lbfgsb\u001b[1;34m(fun, x0, args, jac, bounds, disp, maxcor, ftol, gtol, eps, maxfun, maxiter, iprint, callback, maxls, finite_diff_rel_step, **unknown_options)\u001b[0m\n\u001b[0;32m    353\u001b[0m task_str \u001b[39m=\u001b[39m task\u001b[39m.\u001b[39mtobytes()\n\u001b[0;32m    354\u001b[0m \u001b[39mif\u001b[39;00m task_str\u001b[39m.\u001b[39mstartswith(\u001b[39mb\u001b[39m\u001b[39m'\u001b[39m\u001b[39mFG\u001b[39m\u001b[39m'\u001b[39m):\n\u001b[0;32m    355\u001b[0m     \u001b[39m# The minimization routine wants f and g at the current x.\u001b[39;00m\n\u001b[0;32m    356\u001b[0m     \u001b[39m# Note that interruptions due to maxfun are postponed\u001b[39;00m\n\u001b[0;32m    357\u001b[0m     \u001b[39m# until the completion of the current minimization iteration.\u001b[39;00m\n\u001b[0;32m    358\u001b[0m     \u001b[39m# Overwrite f and g:\u001b[39;00m\n\u001b[1;32m--> 359\u001b[0m     f, g \u001b[39m=\u001b[39m func_and_grad(x)\n\u001b[0;32m    360\u001b[0m \u001b[39melif\u001b[39;00m task_str\u001b[39m.\u001b[39mstartswith(\u001b[39mb\u001b[39m\u001b[39m'\u001b[39m\u001b[39mNEW_X\u001b[39m\u001b[39m'\u001b[39m):\n\u001b[0;32m    361\u001b[0m     \u001b[39m# new iteration\u001b[39;00m\n\u001b[0;32m    362\u001b[0m     n_iterations \u001b[39m+\u001b[39m\u001b[39m=\u001b[39m \u001b[39m1\u001b[39m\n",
      "File \u001b[1;32mc:\\Users\\jaesc2\\Miniconda3\\envs\\skforecast\\lib\\site-packages\\scipy\\optimize\\_differentiable_functions.py:285\u001b[0m, in \u001b[0;36mScalarFunction.fun_and_grad\u001b[1;34m(self, x)\u001b[0m\n\u001b[0;32m    283\u001b[0m \u001b[39mif\u001b[39;00m \u001b[39mnot\u001b[39;00m np\u001b[39m.\u001b[39marray_equal(x, \u001b[39mself\u001b[39m\u001b[39m.\u001b[39mx):\n\u001b[0;32m    284\u001b[0m     \u001b[39mself\u001b[39m\u001b[39m.\u001b[39m_update_x_impl(x)\n\u001b[1;32m--> 285\u001b[0m \u001b[39mself\u001b[39;49m\u001b[39m.\u001b[39;49m_update_fun()\n\u001b[0;32m    286\u001b[0m \u001b[39mself\u001b[39m\u001b[39m.\u001b[39m_update_grad()\n\u001b[0;32m    287\u001b[0m \u001b[39mreturn\u001b[39;00m \u001b[39mself\u001b[39m\u001b[39m.\u001b[39mf, \u001b[39mself\u001b[39m\u001b[39m.\u001b[39mg\n",
      "File \u001b[1;32mc:\\Users\\jaesc2\\Miniconda3\\envs\\skforecast\\lib\\site-packages\\scipy\\optimize\\_differentiable_functions.py:251\u001b[0m, in \u001b[0;36mScalarFunction._update_fun\u001b[1;34m(self)\u001b[0m\n\u001b[0;32m    249\u001b[0m \u001b[39mdef\u001b[39;00m \u001b[39m_update_fun\u001b[39m(\u001b[39mself\u001b[39m):\n\u001b[0;32m    250\u001b[0m     \u001b[39mif\u001b[39;00m \u001b[39mnot\u001b[39;00m \u001b[39mself\u001b[39m\u001b[39m.\u001b[39mf_updated:\n\u001b[1;32m--> 251\u001b[0m         \u001b[39mself\u001b[39;49m\u001b[39m.\u001b[39;49m_update_fun_impl()\n\u001b[0;32m    252\u001b[0m         \u001b[39mself\u001b[39m\u001b[39m.\u001b[39mf_updated \u001b[39m=\u001b[39m \u001b[39mTrue\u001b[39;00m\n",
      "File \u001b[1;32mc:\\Users\\jaesc2\\Miniconda3\\envs\\skforecast\\lib\\site-packages\\scipy\\optimize\\_differentiable_functions.py:155\u001b[0m, in \u001b[0;36mScalarFunction.__init__.<locals>.update_fun\u001b[1;34m()\u001b[0m\n\u001b[0;32m    154\u001b[0m \u001b[39mdef\u001b[39;00m \u001b[39mupdate_fun\u001b[39m():\n\u001b[1;32m--> 155\u001b[0m     \u001b[39mself\u001b[39m\u001b[39m.\u001b[39mf \u001b[39m=\u001b[39m fun_wrapped(\u001b[39mself\u001b[39;49m\u001b[39m.\u001b[39;49mx)\n",
      "File \u001b[1;32mc:\\Users\\jaesc2\\Miniconda3\\envs\\skforecast\\lib\\site-packages\\scipy\\optimize\\_differentiable_functions.py:137\u001b[0m, in \u001b[0;36mScalarFunction.__init__.<locals>.fun_wrapped\u001b[1;34m(x)\u001b[0m\n\u001b[0;32m    133\u001b[0m \u001b[39mself\u001b[39m\u001b[39m.\u001b[39mnfev \u001b[39m+\u001b[39m\u001b[39m=\u001b[39m \u001b[39m1\u001b[39m\n\u001b[0;32m    134\u001b[0m \u001b[39m# Send a copy because the user may overwrite it.\u001b[39;00m\n\u001b[0;32m    135\u001b[0m \u001b[39m# Overwriting results in undefined behaviour because\u001b[39;00m\n\u001b[0;32m    136\u001b[0m \u001b[39m# fun(self.x) will change self.x, with the two no longer linked.\u001b[39;00m\n\u001b[1;32m--> 137\u001b[0m fx \u001b[39m=\u001b[39m fun(np\u001b[39m.\u001b[39;49mcopy(x), \u001b[39m*\u001b[39;49margs)\n\u001b[0;32m    138\u001b[0m \u001b[39m# Make sure the function returns a true scalar\u001b[39;00m\n\u001b[0;32m    139\u001b[0m \u001b[39mif\u001b[39;00m \u001b[39mnot\u001b[39;00m np\u001b[39m.\u001b[39misscalar(fx):\n",
      "File \u001b[1;32mc:\\Users\\jaesc2\\Miniconda3\\envs\\skforecast\\lib\\site-packages\\statsmodels\\base\\model.py:534\u001b[0m, in \u001b[0;36mLikelihoodModel.fit.<locals>.f\u001b[1;34m(params, *args)\u001b[0m\n\u001b[0;32m    533\u001b[0m \u001b[39mdef\u001b[39;00m \u001b[39mf\u001b[39m(params, \u001b[39m*\u001b[39margs):\n\u001b[1;32m--> 534\u001b[0m     \u001b[39mreturn\u001b[39;00m \u001b[39m-\u001b[39m\u001b[39mself\u001b[39;49m\u001b[39m.\u001b[39;49mloglike(params, \u001b[39m*\u001b[39;49margs) \u001b[39m/\u001b[39m nobs\n",
      "File \u001b[1;32mc:\\Users\\jaesc2\\Miniconda3\\envs\\skforecast\\lib\\site-packages\\statsmodels\\tsa\\statespace\\mlemodel.py:939\u001b[0m, in \u001b[0;36mMLEModel.loglike\u001b[1;34m(self, params, *args, **kwargs)\u001b[0m\n\u001b[0;32m    936\u001b[0m \u001b[39mif\u001b[39;00m complex_step:\n\u001b[0;32m    937\u001b[0m     kwargs[\u001b[39m'\u001b[39m\u001b[39minversion_method\u001b[39m\u001b[39m'\u001b[39m] \u001b[39m=\u001b[39m INVERT_UNIVARIATE \u001b[39m|\u001b[39m SOLVE_LU\n\u001b[1;32m--> 939\u001b[0m loglike \u001b[39m=\u001b[39m \u001b[39mself\u001b[39m\u001b[39m.\u001b[39mssm\u001b[39m.\u001b[39mloglike(complex_step\u001b[39m=\u001b[39mcomplex_step, \u001b[39m*\u001b[39m\u001b[39m*\u001b[39mkwargs)\n\u001b[0;32m    941\u001b[0m \u001b[39m# Koopman, Shephard, and Doornik recommend maximizing the average\u001b[39;00m\n\u001b[0;32m    942\u001b[0m \u001b[39m# likelihood to avoid scale issues, but the averaging is done\u001b[39;00m\n\u001b[0;32m    943\u001b[0m \u001b[39m# automatically in the base model `fit` method\u001b[39;00m\n\u001b[0;32m    944\u001b[0m \u001b[39mreturn\u001b[39;00m loglike\n",
      "File \u001b[1;32mc:\\Users\\jaesc2\\Miniconda3\\envs\\skforecast\\lib\\site-packages\\statsmodels\\tsa\\statespace\\kalman_filter.py:1001\u001b[0m, in \u001b[0;36mKalmanFilter.loglike\u001b[1;34m(self, **kwargs)\u001b[0m\n\u001b[0;32m    985\u001b[0m \u001b[39m\u001b[39m\u001b[39mr\u001b[39m\u001b[39m\"\"\"\u001b[39;00m\n\u001b[0;32m    986\u001b[0m \u001b[39mCalculate the loglikelihood associated with the statespace model.\u001b[39;00m\n\u001b[0;32m    987\u001b[0m \n\u001b[1;32m   (...)\u001b[0m\n\u001b[0;32m    997\u001b[0m \u001b[39m    The joint loglikelihood.\u001b[39;00m\n\u001b[0;32m    998\u001b[0m \u001b[39m\"\"\"\u001b[39;00m\n\u001b[0;32m    999\u001b[0m kwargs\u001b[39m.\u001b[39msetdefault(\u001b[39m'\u001b[39m\u001b[39mconserve_memory\u001b[39m\u001b[39m'\u001b[39m,\n\u001b[0;32m   1000\u001b[0m                   MEMORY_CONSERVE \u001b[39m^\u001b[39m MEMORY_NO_LIKELIHOOD)\n\u001b[1;32m-> 1001\u001b[0m kfilter \u001b[39m=\u001b[39m \u001b[39mself\u001b[39m\u001b[39m.\u001b[39m_filter(\u001b[39m*\u001b[39m\u001b[39m*\u001b[39mkwargs)\n\u001b[0;32m   1002\u001b[0m loglikelihood_burn \u001b[39m=\u001b[39m kwargs\u001b[39m.\u001b[39mget(\u001b[39m'\u001b[39m\u001b[39mloglikelihood_burn\u001b[39m\u001b[39m'\u001b[39m,\n\u001b[0;32m   1003\u001b[0m                                 \u001b[39mself\u001b[39m\u001b[39m.\u001b[39mloglikelihood_burn)\n\u001b[0;32m   1004\u001b[0m \u001b[39mif\u001b[39;00m \u001b[39mnot\u001b[39;00m (kwargs[\u001b[39m'\u001b[39m\u001b[39mconserve_memory\u001b[39m\u001b[39m'\u001b[39m] \u001b[39m&\u001b[39m MEMORY_NO_LIKELIHOOD):\n",
      "File \u001b[1;32mc:\\Users\\jaesc2\\Miniconda3\\envs\\skforecast\\lib\\site-packages\\statsmodels\\tsa\\statespace\\kalman_filter.py:921\u001b[0m, in \u001b[0;36mKalmanFilter._filter\u001b[1;34m(self, filter_method, inversion_method, stability_method, conserve_memory, filter_timing, tolerance, loglikelihood_burn, complex_step)\u001b[0m\n\u001b[0;32m    918\u001b[0m kfilter \u001b[39m=\u001b[39m \u001b[39mself\u001b[39m\u001b[39m.\u001b[39m_kalman_filters[prefix]\n\u001b[0;32m    920\u001b[0m \u001b[39m# Initialize the state\u001b[39;00m\n\u001b[1;32m--> 921\u001b[0m \u001b[39mself\u001b[39;49m\u001b[39m.\u001b[39;49m_initialize_state(prefix\u001b[39m=\u001b[39;49mprefix, complex_step\u001b[39m=\u001b[39;49mcomplex_step)\n\u001b[0;32m    923\u001b[0m \u001b[39m# Run the filter\u001b[39;00m\n\u001b[0;32m    924\u001b[0m kfilter()\n",
      "File \u001b[1;32mc:\\Users\\jaesc2\\Miniconda3\\envs\\skforecast\\lib\\site-packages\\statsmodels\\tsa\\statespace\\representation.py:1058\u001b[0m, in \u001b[0;36mRepresentation._initialize_state\u001b[1;34m(self, prefix, complex_step)\u001b[0m\n\u001b[0;32m   1056\u001b[0m     \u001b[39mif\u001b[39;00m \u001b[39mnot\u001b[39;00m \u001b[39mself\u001b[39m\u001b[39m.\u001b[39minitialization\u001b[39m.\u001b[39minitialized:\n\u001b[0;32m   1057\u001b[0m         \u001b[39mraise\u001b[39;00m \u001b[39mRuntimeError\u001b[39;00m(\u001b[39m'\u001b[39m\u001b[39mInitialization is incomplete.\u001b[39m\u001b[39m'\u001b[39m)\n\u001b[1;32m-> 1058\u001b[0m     \u001b[39mself\u001b[39;49m\u001b[39m.\u001b[39;49m_statespaces[prefix]\u001b[39m.\u001b[39;49minitialize(\u001b[39mself\u001b[39;49m\u001b[39m.\u001b[39;49minitialization,\n\u001b[0;32m   1059\u001b[0m                                          complex_step\u001b[39m=\u001b[39;49mcomplex_step)\n\u001b[0;32m   1060\u001b[0m \u001b[39melse\u001b[39;00m:\n\u001b[0;32m   1061\u001b[0m     \u001b[39mraise\u001b[39;00m \u001b[39mRuntimeError\u001b[39;00m(\u001b[39m'\u001b[39m\u001b[39mStatespace model not initialized.\u001b[39m\u001b[39m'\u001b[39m)\n",
      "File \u001b[1;32mstatsmodels\\tsa\\statespace\\_representation.pyx:1373\u001b[0m, in \u001b[0;36mstatsmodels.tsa.statespace._representation.dStatespace.initialize\u001b[1;34m()\u001b[0m\n",
      "File \u001b[1;32mstatsmodels\\tsa\\statespace\\_representation.pyx:1362\u001b[0m, in \u001b[0;36mstatsmodels.tsa.statespace._representation.dStatespace.initialize\u001b[1;34m()\u001b[0m\n",
      "File \u001b[1;32mstatsmodels\\tsa\\statespace\\_initialization.pyx:288\u001b[0m, in \u001b[0;36mstatsmodels.tsa.statespace._initialization.dInitialization.initialize\u001b[1;34m()\u001b[0m\n",
      "File \u001b[1;32mstatsmodels\\tsa\\statespace\\_initialization.pyx:406\u001b[0m, in \u001b[0;36mstatsmodels.tsa.statespace._initialization.dInitialization.initialize_stationary_stationary_cov\u001b[1;34m()\u001b[0m\n",
      "File \u001b[1;32mstatsmodels\\tsa\\statespace\\_tools.pyx:1603\u001b[0m, in \u001b[0;36mstatsmodels.tsa.statespace._tools._dsolve_discrete_lyapunov\u001b[1;34m()\u001b[0m\n",
      "\u001b[1;31mLinAlgError\u001b[0m: Schur decomposition solver error."
     ]
    }
   ],
   "source": [
    "sarimax = Sarimax(order=(5, 1, 1))"
   ]
  },
  {
   "cell_type": "code",
   "execution_count": null,
   "metadata": {},
   "outputs": [],
   "source": []
  },
  {
   "cell_type": "code",
   "execution_count": 56,
   "metadata": {},
   "outputs": [
    {
     "name": "stderr",
     "output_type": "stream",
     "text": [
      "/home/ubuntu/anaconda3/envs/skforecast_09_py11/lib/python3.11/site-packages/statsmodels/tsa/statespace/representation.py:374: FutureWarning: Unknown keyword arguments: dict_keys(['method', 'maxiter', 'start_params', 'disp', 'fit_kwargs', 'predict_kwargs', 'sarimax', 'sarimax_res', 'training_index']).Passing unknown keyword arguments will raise a TypeError beginning in version 0.15.\n",
      "  warnings.warn(msg, FutureWarning)\n"
     ]
    },
    {
     "data": {
      "text/html": [
       "<style>#sk-container-id-9 {color: black;}#sk-container-id-9 pre{padding: 0;}#sk-container-id-9 div.sk-toggleable {background-color: white;}#sk-container-id-9 label.sk-toggleable__label {cursor: pointer;display: block;width: 100%;margin-bottom: 0;padding: 0.3em;box-sizing: border-box;text-align: center;}#sk-container-id-9 label.sk-toggleable__label-arrow:before {content: \"▸\";float: left;margin-right: 0.25em;color: #696969;}#sk-container-id-9 label.sk-toggleable__label-arrow:hover:before {color: black;}#sk-container-id-9 div.sk-estimator:hover label.sk-toggleable__label-arrow:before {color: black;}#sk-container-id-9 div.sk-toggleable__content {max-height: 0;max-width: 0;overflow: hidden;text-align: left;background-color: #f0f8ff;}#sk-container-id-9 div.sk-toggleable__content pre {margin: 0.2em;color: black;border-radius: 0.25em;background-color: #f0f8ff;}#sk-container-id-9 input.sk-toggleable__control:checked~div.sk-toggleable__content {max-height: 200px;max-width: 100%;overflow: auto;}#sk-container-id-9 input.sk-toggleable__control:checked~label.sk-toggleable__label-arrow:before {content: \"▾\";}#sk-container-id-9 div.sk-estimator input.sk-toggleable__control:checked~label.sk-toggleable__label {background-color: #d4ebff;}#sk-container-id-9 div.sk-label input.sk-toggleable__control:checked~label.sk-toggleable__label {background-color: #d4ebff;}#sk-container-id-9 input.sk-hidden--visually {border: 0;clip: rect(1px 1px 1px 1px);clip: rect(1px, 1px, 1px, 1px);height: 1px;margin: -1px;overflow: hidden;padding: 0;position: absolute;width: 1px;}#sk-container-id-9 div.sk-estimator {font-family: monospace;background-color: #f0f8ff;border: 1px dotted black;border-radius: 0.25em;box-sizing: border-box;margin-bottom: 0.5em;}#sk-container-id-9 div.sk-estimator:hover {background-color: #d4ebff;}#sk-container-id-9 div.sk-parallel-item::after {content: \"\";width: 100%;border-bottom: 1px solid gray;flex-grow: 1;}#sk-container-id-9 div.sk-label:hover label.sk-toggleable__label {background-color: #d4ebff;}#sk-container-id-9 div.sk-serial::before {content: \"\";position: absolute;border-left: 1px solid gray;box-sizing: border-box;top: 0;bottom: 0;left: 50%;z-index: 0;}#sk-container-id-9 div.sk-serial {display: flex;flex-direction: column;align-items: center;background-color: white;padding-right: 0.2em;padding-left: 0.2em;position: relative;}#sk-container-id-9 div.sk-item {position: relative;z-index: 1;}#sk-container-id-9 div.sk-parallel {display: flex;align-items: stretch;justify-content: center;background-color: white;position: relative;}#sk-container-id-9 div.sk-item::before, #sk-container-id-9 div.sk-parallel-item::before {content: \"\";position: absolute;border-left: 1px solid gray;box-sizing: border-box;top: 0;bottom: 0;left: 50%;z-index: -1;}#sk-container-id-9 div.sk-parallel-item {display: flex;flex-direction: column;z-index: 1;position: relative;background-color: white;}#sk-container-id-9 div.sk-parallel-item:first-child::after {align-self: flex-end;width: 50%;}#sk-container-id-9 div.sk-parallel-item:last-child::after {align-self: flex-start;width: 50%;}#sk-container-id-9 div.sk-parallel-item:only-child::after {width: 0;}#sk-container-id-9 div.sk-dashed-wrapped {border: 1px dashed gray;margin: 0 0.4em 0.5em 0.4em;box-sizing: border-box;padding-bottom: 0.4em;background-color: white;}#sk-container-id-9 div.sk-label label {font-family: monospace;font-weight: bold;display: inline-block;line-height: 1.2em;}#sk-container-id-9 div.sk-label-container {text-align: center;}#sk-container-id-9 div.sk-container {/* jupyter's `normalize.less` sets `[hidden] { display: none; }` but bootstrap.min.css set `[hidden] { display: none !important; }` so we also need the `!important` here to be able to override the default hidden behavior on the sphinx rendered scikit-learn.org. See: https://github.com/scikit-learn/scikit-learn/issues/21755 */display: inline-block !important;position: relative;}#sk-container-id-9 div.sk-text-repr-fallback {display: none;}</style><div id=\"sk-container-id-9\" class=\"sk-top-container\"><div class=\"sk-text-repr-fallback\"><pre>Sarimax(1,1,1)(0,0,0)[0]</pre><b>In a Jupyter environment, please rerun this cell to show the HTML representation or trust the notebook. <br />On GitHub, the HTML representation is unable to render, please try loading this page with nbviewer.org.</b></div><div class=\"sk-container\" hidden><div class=\"sk-item\"><div class=\"sk-estimator sk-toggleable\"><input class=\"sk-toggleable__control sk-hidden--visually\" id=\"sk-estimator-id-9\" type=\"checkbox\" checked><label for=\"sk-estimator-id-9\" class=\"sk-toggleable__label sk-toggleable__label-arrow\">Sarimax</label><div class=\"sk-toggleable__content\"><pre>Sarimax(1,1,1)(0,0,0)[0]</pre></div></div></div></div></div>"
      ],
      "text/plain": [
       "Sarimax(1,1,1)(0,0,0)[0]"
      ]
     },
     "execution_count": 56,
     "metadata": {},
     "output_type": "execute_result"
    }
   ],
   "source": [
    "sarimax = Sarimax(order=(1, 1, 1))\n",
    "sarimax.fit(y=pd.Series(np.random.normal(size=100)))\n",
    "sarimax"
   ]
  },
  {
   "cell_type": "code",
   "execution_count": 57,
   "metadata": {},
   "outputs": [
    {
     "data": {
      "text/plain": [
       "100    0.089448\n",
       "101    0.094491\n",
       "102    0.094429\n",
       "103    0.094430\n",
       "Name: predicted_mean, dtype: float64"
      ]
     },
     "execution_count": 57,
     "metadata": {},
     "output_type": "execute_result"
    }
   ],
   "source": [
    "sarimax.predict(steps=4)"
   ]
  },
  {
   "cell_type": "code",
   "execution_count": 58,
   "metadata": {},
   "outputs": [
    {
     "name": "stderr",
     "output_type": "stream",
     "text": [
      "/home/ubuntu/anaconda3/envs/skforecast_09_py11/lib/python3.11/site-packages/statsmodels/tsa/statespace/representation.py:374: FutureWarning: Unknown keyword arguments: dict_keys(['return_conf_int', 'alpha']).Passing unknown keyword arguments will raise a TypeError beginning in version 0.15.\n",
      "  warnings.warn(msg, FutureWarning)\n"
     ]
    },
    {
     "data": {
      "text/html": [
       "<div>\n",
       "<style scoped>\n",
       "    .dataframe tbody tr th:only-of-type {\n",
       "        vertical-align: middle;\n",
       "    }\n",
       "\n",
       "    .dataframe tbody tr th {\n",
       "        vertical-align: top;\n",
       "    }\n",
       "\n",
       "    .dataframe thead th {\n",
       "        text-align: right;\n",
       "    }\n",
       "</style>\n",
       "<table border=\"1\" class=\"dataframe\">\n",
       "  <thead>\n",
       "    <tr style=\"text-align: right;\">\n",
       "      <th></th>\n",
       "      <th>pred</th>\n",
       "      <th>lower_bound</th>\n",
       "      <th>upper_bound</th>\n",
       "    </tr>\n",
       "  </thead>\n",
       "  <tbody>\n",
       "    <tr>\n",
       "      <th>100</th>\n",
       "      <td>0.089448</td>\n",
       "      <td>-1.962973</td>\n",
       "      <td>2.141870</td>\n",
       "    </tr>\n",
       "    <tr>\n",
       "      <th>101</th>\n",
       "      <td>0.094491</td>\n",
       "      <td>-1.957836</td>\n",
       "      <td>2.146818</td>\n",
       "    </tr>\n",
       "    <tr>\n",
       "      <th>102</th>\n",
       "      <td>0.094429</td>\n",
       "      <td>-1.957901</td>\n",
       "      <td>2.146759</td>\n",
       "    </tr>\n",
       "    <tr>\n",
       "      <th>103</th>\n",
       "      <td>0.094430</td>\n",
       "      <td>-1.957900</td>\n",
       "      <td>2.146760</td>\n",
       "    </tr>\n",
       "  </tbody>\n",
       "</table>\n",
       "</div>"
      ],
      "text/plain": [
       "         pred  lower_bound  upper_bound\n",
       "100  0.089448    -1.962973     2.141870\n",
       "101  0.094491    -1.957836     2.146818\n",
       "102  0.094429    -1.957901     2.146759\n",
       "103  0.094430    -1.957900     2.146760"
      ]
     },
     "execution_count": 58,
     "metadata": {},
     "output_type": "execute_result"
    }
   ],
   "source": [
    "sarimax.predict_interval(steps=4)"
   ]
  },
  {
   "cell_type": "code",
   "execution_count": 54,
   "metadata": {},
   "outputs": [
    {
     "name": "stderr",
     "output_type": "stream",
     "text": [
      "/home/ubuntu/anaconda3/envs/skforecast_09_py11/lib/python3.11/site-packages/statsmodels/tsa/statespace/representation.py:374: FutureWarning: Unknown keyword arguments: dict_keys(['method', 'maxiter', 'start_params', 'disp', 'fit_kwargs', 'predict_kwargs', 'sarimax', 'sarimax_res', 'training_index']).Passing unknown keyword arguments will raise a TypeError beginning in version 0.15.\n",
      "  warnings.warn(msg, FutureWarning)\n"
     ]
    },
    {
     "data": {
      "text/html": [
       "<style>#sk-container-id-8 {color: black;}#sk-container-id-8 pre{padding: 0;}#sk-container-id-8 div.sk-toggleable {background-color: white;}#sk-container-id-8 label.sk-toggleable__label {cursor: pointer;display: block;width: 100%;margin-bottom: 0;padding: 0.3em;box-sizing: border-box;text-align: center;}#sk-container-id-8 label.sk-toggleable__label-arrow:before {content: \"▸\";float: left;margin-right: 0.25em;color: #696969;}#sk-container-id-8 label.sk-toggleable__label-arrow:hover:before {color: black;}#sk-container-id-8 div.sk-estimator:hover label.sk-toggleable__label-arrow:before {color: black;}#sk-container-id-8 div.sk-toggleable__content {max-height: 0;max-width: 0;overflow: hidden;text-align: left;background-color: #f0f8ff;}#sk-container-id-8 div.sk-toggleable__content pre {margin: 0.2em;color: black;border-radius: 0.25em;background-color: #f0f8ff;}#sk-container-id-8 input.sk-toggleable__control:checked~div.sk-toggleable__content {max-height: 200px;max-width: 100%;overflow: auto;}#sk-container-id-8 input.sk-toggleable__control:checked~label.sk-toggleable__label-arrow:before {content: \"▾\";}#sk-container-id-8 div.sk-estimator input.sk-toggleable__control:checked~label.sk-toggleable__label {background-color: #d4ebff;}#sk-container-id-8 div.sk-label input.sk-toggleable__control:checked~label.sk-toggleable__label {background-color: #d4ebff;}#sk-container-id-8 input.sk-hidden--visually {border: 0;clip: rect(1px 1px 1px 1px);clip: rect(1px, 1px, 1px, 1px);height: 1px;margin: -1px;overflow: hidden;padding: 0;position: absolute;width: 1px;}#sk-container-id-8 div.sk-estimator {font-family: monospace;background-color: #f0f8ff;border: 1px dotted black;border-radius: 0.25em;box-sizing: border-box;margin-bottom: 0.5em;}#sk-container-id-8 div.sk-estimator:hover {background-color: #d4ebff;}#sk-container-id-8 div.sk-parallel-item::after {content: \"\";width: 100%;border-bottom: 1px solid gray;flex-grow: 1;}#sk-container-id-8 div.sk-label:hover label.sk-toggleable__label {background-color: #d4ebff;}#sk-container-id-8 div.sk-serial::before {content: \"\";position: absolute;border-left: 1px solid gray;box-sizing: border-box;top: 0;bottom: 0;left: 50%;z-index: 0;}#sk-container-id-8 div.sk-serial {display: flex;flex-direction: column;align-items: center;background-color: white;padding-right: 0.2em;padding-left: 0.2em;position: relative;}#sk-container-id-8 div.sk-item {position: relative;z-index: 1;}#sk-container-id-8 div.sk-parallel {display: flex;align-items: stretch;justify-content: center;background-color: white;position: relative;}#sk-container-id-8 div.sk-item::before, #sk-container-id-8 div.sk-parallel-item::before {content: \"\";position: absolute;border-left: 1px solid gray;box-sizing: border-box;top: 0;bottom: 0;left: 50%;z-index: -1;}#sk-container-id-8 div.sk-parallel-item {display: flex;flex-direction: column;z-index: 1;position: relative;background-color: white;}#sk-container-id-8 div.sk-parallel-item:first-child::after {align-self: flex-end;width: 50%;}#sk-container-id-8 div.sk-parallel-item:last-child::after {align-self: flex-start;width: 50%;}#sk-container-id-8 div.sk-parallel-item:only-child::after {width: 0;}#sk-container-id-8 div.sk-dashed-wrapped {border: 1px dashed gray;margin: 0 0.4em 0.5em 0.4em;box-sizing: border-box;padding-bottom: 0.4em;background-color: white;}#sk-container-id-8 div.sk-label label {font-family: monospace;font-weight: bold;display: inline-block;line-height: 1.2em;}#sk-container-id-8 div.sk-label-container {text-align: center;}#sk-container-id-8 div.sk-container {/* jupyter's `normalize.less` sets `[hidden] { display: none; }` but bootstrap.min.css set `[hidden] { display: none !important; }` so we also need the `!important` here to be able to override the default hidden behavior on the sphinx rendered scikit-learn.org. See: https://github.com/scikit-learn/scikit-learn/issues/21755 */display: inline-block !important;position: relative;}#sk-container-id-8 div.sk-text-repr-fallback {display: none;}</style><div id=\"sk-container-id-8\" class=\"sk-top-container\"><div class=\"sk-text-repr-fallback\"><pre>Sarimax(1,0,110)(0,0,0)[0]</pre><b>In a Jupyter environment, please rerun this cell to show the HTML representation or trust the notebook. <br />On GitHub, the HTML representation is unable to render, please try loading this page with nbviewer.org.</b></div><div class=\"sk-container\" hidden><div class=\"sk-item\"><div class=\"sk-estimator sk-toggleable\"><input class=\"sk-toggleable__control sk-hidden--visually\" id=\"sk-estimator-id-8\" type=\"checkbox\" checked><label for=\"sk-estimator-id-8\" class=\"sk-toggleable__label sk-toggleable__label-arrow\">Sarimax</label><div class=\"sk-toggleable__content\"><pre>Sarimax(1,0,110)(0,0,0)[0]</pre></div></div></div></div></div>"
      ],
      "text/plain": [
       "Sarimax(1,0,110)(0,0,0)[0]"
      ]
     },
     "execution_count": 54,
     "metadata": {},
     "output_type": "execute_result"
    }
   ],
   "source": [
    "sarimax.set_params({'order': (1, 0, 110)})\n",
    "sarimax"
   ]
  },
  {
   "cell_type": "code",
   "execution_count": 49,
   "metadata": {},
   "outputs": [
    {
     "name": "stderr",
     "output_type": "stream",
     "text": [
      "/home/ubuntu/anaconda3/envs/skforecast_09_py11/lib/python3.11/site-packages/statsmodels/tsa/statespace/representation.py:374: FutureWarning: Unknown keyword arguments: dict_keys(['method', 'maxiter', 'start_params', 'disp', 'fit_kwargs', 'predict_kwargs', 'sarimax', 'sarimax_res', 'training_index']).Passing unknown keyword arguments will raise a TypeError beginning in version 0.15.\n",
      "  warnings.warn(msg, FutureWarning)\n"
     ]
    },
    {
     "data": {
      "text/html": [
       "<style>#sk-container-id-6 {color: black;}#sk-container-id-6 pre{padding: 0;}#sk-container-id-6 div.sk-toggleable {background-color: white;}#sk-container-id-6 label.sk-toggleable__label {cursor: pointer;display: block;width: 100%;margin-bottom: 0;padding: 0.3em;box-sizing: border-box;text-align: center;}#sk-container-id-6 label.sk-toggleable__label-arrow:before {content: \"▸\";float: left;margin-right: 0.25em;color: #696969;}#sk-container-id-6 label.sk-toggleable__label-arrow:hover:before {color: black;}#sk-container-id-6 div.sk-estimator:hover label.sk-toggleable__label-arrow:before {color: black;}#sk-container-id-6 div.sk-toggleable__content {max-height: 0;max-width: 0;overflow: hidden;text-align: left;background-color: #f0f8ff;}#sk-container-id-6 div.sk-toggleable__content pre {margin: 0.2em;color: black;border-radius: 0.25em;background-color: #f0f8ff;}#sk-container-id-6 input.sk-toggleable__control:checked~div.sk-toggleable__content {max-height: 200px;max-width: 100%;overflow: auto;}#sk-container-id-6 input.sk-toggleable__control:checked~label.sk-toggleable__label-arrow:before {content: \"▾\";}#sk-container-id-6 div.sk-estimator input.sk-toggleable__control:checked~label.sk-toggleable__label {background-color: #d4ebff;}#sk-container-id-6 div.sk-label input.sk-toggleable__control:checked~label.sk-toggleable__label {background-color: #d4ebff;}#sk-container-id-6 input.sk-hidden--visually {border: 0;clip: rect(1px 1px 1px 1px);clip: rect(1px, 1px, 1px, 1px);height: 1px;margin: -1px;overflow: hidden;padding: 0;position: absolute;width: 1px;}#sk-container-id-6 div.sk-estimator {font-family: monospace;background-color: #f0f8ff;border: 1px dotted black;border-radius: 0.25em;box-sizing: border-box;margin-bottom: 0.5em;}#sk-container-id-6 div.sk-estimator:hover {background-color: #d4ebff;}#sk-container-id-6 div.sk-parallel-item::after {content: \"\";width: 100%;border-bottom: 1px solid gray;flex-grow: 1;}#sk-container-id-6 div.sk-label:hover label.sk-toggleable__label {background-color: #d4ebff;}#sk-container-id-6 div.sk-serial::before {content: \"\";position: absolute;border-left: 1px solid gray;box-sizing: border-box;top: 0;bottom: 0;left: 50%;z-index: 0;}#sk-container-id-6 div.sk-serial {display: flex;flex-direction: column;align-items: center;background-color: white;padding-right: 0.2em;padding-left: 0.2em;position: relative;}#sk-container-id-6 div.sk-item {position: relative;z-index: 1;}#sk-container-id-6 div.sk-parallel {display: flex;align-items: stretch;justify-content: center;background-color: white;position: relative;}#sk-container-id-6 div.sk-item::before, #sk-container-id-6 div.sk-parallel-item::before {content: \"\";position: absolute;border-left: 1px solid gray;box-sizing: border-box;top: 0;bottom: 0;left: 50%;z-index: -1;}#sk-container-id-6 div.sk-parallel-item {display: flex;flex-direction: column;z-index: 1;position: relative;background-color: white;}#sk-container-id-6 div.sk-parallel-item:first-child::after {align-self: flex-end;width: 50%;}#sk-container-id-6 div.sk-parallel-item:last-child::after {align-self: flex-start;width: 50%;}#sk-container-id-6 div.sk-parallel-item:only-child::after {width: 0;}#sk-container-id-6 div.sk-dashed-wrapped {border: 1px dashed gray;margin: 0 0.4em 0.5em 0.4em;box-sizing: border-box;padding-bottom: 0.4em;background-color: white;}#sk-container-id-6 div.sk-label label {font-family: monospace;font-weight: bold;display: inline-block;line-height: 1.2em;}#sk-container-id-6 div.sk-label-container {text-align: center;}#sk-container-id-6 div.sk-container {/* jupyter's `normalize.less` sets `[hidden] { display: none; }` but bootstrap.min.css set `[hidden] { display: none !important; }` so we also need the `!important` here to be able to override the default hidden behavior on the sphinx rendered scikit-learn.org. See: https://github.com/scikit-learn/scikit-learn/issues/21755 */display: inline-block !important;position: relative;}#sk-container-id-6 div.sk-text-repr-fallback {display: none;}</style><div id=\"sk-container-id-6\" class=\"sk-top-container\"><div class=\"sk-text-repr-fallback\"><pre>Sarimax(1,0,99)(0,0,0)[0]</pre><b>In a Jupyter environment, please rerun this cell to show the HTML representation or trust the notebook. <br />On GitHub, the HTML representation is unable to render, please try loading this page with nbviewer.org.</b></div><div class=\"sk-container\" hidden><div class=\"sk-item\"><div class=\"sk-estimator sk-toggleable\"><input class=\"sk-toggleable__control sk-hidden--visually\" id=\"sk-estimator-id-6\" type=\"checkbox\" checked><label for=\"sk-estimator-id-6\" class=\"sk-toggleable__label sk-toggleable__label-arrow\">Sarimax</label><div class=\"sk-toggleable__content\"><pre>Sarimax(1,0,99)(0,0,0)[0]</pre></div></div></div></div></div>"
      ],
      "text/plain": [
       "Sarimax(1,0,99)(0,0,0)[0]"
      ]
     },
     "execution_count": 49,
     "metadata": {},
     "output_type": "execute_result"
    }
   ],
   "source": [
    "sarimax = Sarimax()\n",
    "sarimax.set_params({'order': (1, 0, 99)})\n",
    "sarimax"
   ]
  },
  {
   "cell_type": "code",
   "execution_count": null,
   "metadata": {},
   "outputs": [],
   "source": []
  },
  {
   "cell_type": "markdown",
   "metadata": {},
   "source": [
    "## v2"
   ]
  },
  {
   "cell_type": "code",
   "execution_count": 1,
   "metadata": {},
   "outputs": [],
   "source": [
    "import sklearn"
   ]
  },
  {
   "cell_type": "code",
   "execution_count": 19,
   "metadata": {},
   "outputs": [],
   "source": [
    "def check_fitted(func):\n",
    "    def wrapper(self, *args, **kwargs):\n",
    "\n",
    "        if not self.fitted:\n",
    "            raise sklearn.exceptions.NotFittedError(\n",
    "                (\"This Forecaster instance is not fitted yet. Call `fit` with \"\n",
    "                 \"appropriate arguments before using predict.\")\n",
    "            )\n",
    "        \n",
    "        result = func(self, *args, **kwargs)\n",
    "        \n",
    "        return result\n",
    "    \n",
    "    return wrapper"
   ]
  },
  {
   "cell_type": "code",
   "execution_count": 78,
   "metadata": {},
   "outputs": [],
   "source": [
    "from typing import Optional, Union, Tuple, List, Dict\n",
    "\n",
    "\n",
    "\n",
    "class Sarimax2(BaseEstimator, RegressorMixin):\n",
    "    \"\"\"\n",
    "    A universal sklearn-style wrapper for statsmodels SARIMAX.\n",
    "\n",
    "    Parameters\n",
    "    ----------\n",
    "\n",
    "\n",
    "    Attributes\n",
    "    ----------\n",
    "\n",
    "    \"\"\"\n",
    "\n",
    "    def __init__(\n",
    "        self,\n",
    "        order: tuple=(1, 0, 0),\n",
    "        seasonal_order: tuple=(0, 0, 0, 0),\n",
    "        trend: str=None,\n",
    "        measurement_error: bool=False,\n",
    "        time_varying_regression: bool=False,\n",
    "        mle_regression: bool=True,\n",
    "        simple_differencing: bool=False,\n",
    "        enforce_stationarity: bool=True,\n",
    "        enforce_invertibility: bool=True,\n",
    "        hamilton_representation: bool=False,\n",
    "        concentrate_scale: bool=False,\n",
    "        trend_offset: int=1,\n",
    "        use_exact_diffuse: bool=False,\n",
    "        dates = None,\n",
    "        freq = None,\n",
    "        missing = 'none',\n",
    "        validate_specification: bool=True,\n",
    "        method: str='lbfgs',\n",
    "        maxiter: int=50,\n",
    "        start_params: np.ndarray= None,\n",
    "        disp: bool=False,\n",
    "        sm_init_kwargs: dict={},\n",
    "        sm_fit_kwargs: dict={},\n",
    "        sm_predict_kwargs: dict={}\n",
    "    ) -> None:\n",
    "\n",
    "        self.order                   = order\n",
    "        self.seasonal_order          = seasonal_order\n",
    "        self.trend                   = trend\n",
    "        self.measurement_error       = measurement_error\n",
    "        self.time_varying_regression = time_varying_regression\n",
    "        self.mle_regression          = mle_regression\n",
    "        self.simple_differencing     = simple_differencing\n",
    "        self.enforce_stationarity    = enforce_stationarity\n",
    "        self.enforce_invertibility   = enforce_invertibility\n",
    "        self.hamilton_representation = hamilton_representation\n",
    "        self.concentrate_scale       = concentrate_scale\n",
    "        self.trend_offset            = trend_offset\n",
    "        self.use_exact_diffuse       = use_exact_diffuse\n",
    "        self.dates                   = dates\n",
    "        self.freq                    = freq\n",
    "        self.missing                 = missing\n",
    "        self.validate_specification  = validate_specification\n",
    "        self.method                  = method\n",
    "        self.maxiter                 = maxiter\n",
    "        self.start_params            = start_params\n",
    "        self.disp                    = disp\n",
    "\n",
    "        # Create the dictionaries with the additional statsmodels parameters to be  \n",
    "        # used during the init, fit and predict methods. Note that the statsmodels \n",
    "        # SARIMAX.fit parameters `method`, `max_iter`, `start_params` and `disp` \n",
    "        # have been moved to the initialization of this model and will have \n",
    "        # priority over those provided by the user using via `sm_fit_kwargs`.\n",
    "        self.sm_init_kwargs    = sm_init_kwargs\n",
    "        self.sm_fit_kwargs     = sm_fit_kwargs\n",
    "        self.sm_predict_kwargs = sm_predict_kwargs\n",
    "\n",
    "        # Params that can be set with the `set_params` method\n",
    "        _, _, _, _sarimax_params = inspect.getargvalues(inspect.currentframe())\n",
    "        _sarimax_params.pop(\"self\")\n",
    "        self._sarimax_params = _sarimax_params\n",
    "\n",
    "        self._consolidate_kwargs()\n",
    "\n",
    "        # Create Results Attributes \n",
    "        self.set_output     = None\n",
    "        self.sarimax        = None\n",
    "        self.fitted         = False\n",
    "        self.sarimax_res    = None\n",
    "        self.training_index = None\n",
    "\n",
    "\n",
    "    def __repr__(self):\n",
    "\n",
    "        p, d, q = self.order\n",
    "        P, D, Q, m = self.seasonal_order\n",
    "        \n",
    "        return f\"Sarimax({p},{d},{q})({P},{D},{Q})[{m}]\"\n",
    "\n",
    "\n",
    "    def _consolidate_kwargs(\n",
    "        self\n",
    "    ) -> None:\n",
    "        \"\"\"\n",
    "        \"\"\"\n",
    "        \n",
    "        # statsmodels.tsa.statespace.SARIMAX parameters\n",
    "        _init_kwargs = self.sm_init_kwargs.copy()\n",
    "        _init_kwargs.update({\n",
    "           'order': self.order,\n",
    "           'seasonal_order': self.seasonal_order,\n",
    "           'trend': self.trend,\n",
    "           'measurement_error': self.measurement_error,\n",
    "           'time_varying_regression': self.time_varying_regression,\n",
    "           'mle_regression': self.mle_regression,\n",
    "           'simple_differencing': self.simple_differencing,\n",
    "           'enforce_stationarity': self.enforce_stationarity,\n",
    "           'enforce_invertibility': self.enforce_invertibility,\n",
    "           'hamilton_representation': self.hamilton_representation,\n",
    "           'concentrate_scale': self.concentrate_scale,\n",
    "           'trend_offset': self.trend_offset,\n",
    "           'use_exact_diffuse': self.use_exact_diffuse,\n",
    "           'dates': self.dates,\n",
    "           'freq': self.freq,\n",
    "           'missing': self.missing,\n",
    "           'validate_specification': self.validate_specification\n",
    "        })\n",
    "        self._init_kwargs = _init_kwargs\n",
    "\n",
    "        # statsmodels.tsa.statespace.SARIMAX.fit parameters\n",
    "        _fit_kwargs = self.sm_fit_kwargs.copy()\n",
    "        _fit_kwargs.update({\n",
    "           'method': self.method,\n",
    "           'maxiter': self.maxiter,\n",
    "           'start_params': self.start_params,\n",
    "           'disp': self.disp,\n",
    "        })        \n",
    "        self._fit_kwargs = _fit_kwargs\n",
    "\n",
    "        # statsmodels.tsa.statespace.SARIMAXResults.get_forecast parameters\n",
    "        self._predict_kwargs = self.sm_predict_kwargs.copy()\n",
    "\n",
    "        return\n",
    "    \n",
    "        \n",
    "    def _create_sarimax(\n",
    "        self,\n",
    "        endog: Union[np.ndarray, pd.Series, pd.DataFrame],\n",
    "        exog: Optional[Union[np.ndarray, pd.Series, pd.DataFrame]]=None\n",
    "    ) -> None:\n",
    "        \"\"\"\n",
    "        A helper function to create a new statsmodel.SARIMAX.\n",
    "\n",
    "        Parameters\n",
    "        ----------\n",
    "        endog : pandas.Series\n",
    "            The endogenous variable.\n",
    "        exog : pandas.DataFrame\n",
    "            The exogenous variables.\n",
    "        \n",
    "        Returns\n",
    "        -------\n",
    "        None\n",
    "\n",
    "        \"\"\"\n",
    "\n",
    "        self.sarimax = SARIMAX(endog=endog, exog=exog, **self._init_kwargs)\n",
    "\n",
    "        return\n",
    "\n",
    "\n",
    "    def fit(\n",
    "        self,\n",
    "        y: Union[np.ndarray, pd.Series, pd.DataFrame],\n",
    "        exog: Optional[Union[np.ndarray, pd.Series, pd.DataFrame]]=None\n",
    "    ) -> None:\n",
    "        \"\"\"\n",
    "        Fit the model to the data.\n",
    "\n",
    "        Parameters\n",
    "        ----------\n",
    "        y : pandas Series\n",
    "            Training time series.\n",
    "        exog : pandas Series, pandas DataFrame, default `None`\n",
    "            Exogenous variable/s included as predictor/s. Must have the same\n",
    "            number of observations as `y` and their indexes must be aligned so\n",
    "            that y[i] is regressed on exog[i].\n",
    "\n",
    "        Returns\n",
    "        -------\n",
    "        None\n",
    "\n",
    "        \"\"\"\n",
    "\n",
    "        self.set_output = 'numpy' if isinstance(y, np.ndarray) else 'pandas'\n",
    "        \n",
    "        self._create_sarimax(endog=y, exog=exog)\n",
    "        self.sarimax_res = self.sarimax.fit(**self._fit_kwargs)\n",
    "        self.fitted = True\n",
    "        \n",
    "        if self.set_output == 'pandas':\n",
    "            self.training_index = y.index\n",
    "\n",
    "        return\n",
    "    \n",
    "    @check_fitted\n",
    "    def predict(\n",
    "        self,\n",
    "        steps: int,\n",
    "        exog: Optional[Union[np.ndarray, pd.Series, pd.DataFrame]]=None, \n",
    "        return_conf_int: bool=False,\n",
    "        alpha: float=0.05\n",
    "    ) -> Union[np.ndarray, pd.DataFrame]:\n",
    "        \"\"\"\n",
    "        \"\"\"\n",
    "        predictions = self.sarimax_res.get_forecast(\n",
    "                          steps = steps,\n",
    "                          exog  = exog,\n",
    "                          **self._predict_kwargs\n",
    "                      )\n",
    "        \n",
    "        if not return_conf_int:\n",
    "            predictions = predictions.predicted_mean\n",
    "            if self.set_output == 'pandas':\n",
    "                predictions = predictions.rename(\"pred\").to_frame()\n",
    "        else:\n",
    "            if self.set_output == 'numpy':\n",
    "                predictions = np.column_stack(\n",
    "                                  [predictions.predicted_mean,\n",
    "                                   predictions.conf_int(alpha=alpha)]\n",
    "                              )\n",
    "            else:\n",
    "                predictions = pd.concat((\n",
    "                                  predictions.predicted_mean.rename(\"pred\"),\n",
    "                                  predictions.conf_int(alpha=alpha)),\n",
    "                                  axis = 1\n",
    "                              )\n",
    "                predictions.columns = ['pred', 'lower_bound', 'upper_bound']\n",
    "\n",
    "        return predictions\n",
    "\n",
    "\n",
    "    @check_fitted\n",
    "    def append(\n",
    "        self,\n",
    "        y: Union[np.ndarray, pd.Series, pd.DataFrame],\n",
    "        exog: Optional[Union[np.ndarray, pd.Series, pd.DataFrame]]=None,\n",
    "        refit: bool=False,\n",
    "        copy_initialization: bool=False,\n",
    "        **kwargs\n",
    "    ) -> None:\n",
    "        \"\"\"\n",
    "        \"\"\"\n",
    "        fit_kwargs = self._fit_kwargs if refit else None\n",
    "\n",
    "        self.sarimax_res = self.sarimax_res.append(\n",
    "                               endog               = y,\n",
    "                               exog                = exog,\n",
    "                               refit               = refit,\n",
    "                               copy_initialization = copy_initialization,\n",
    "                               fit_kwargs          = fit_kwargs,\n",
    "                               **kwargs\n",
    "                           )\n",
    "\n",
    "\n",
    "    @check_fitted\n",
    "    def apply(\n",
    "        self,\n",
    "        y: Union[np.ndarray, pd.Series, pd.DataFrame],\n",
    "        exog: Optional[Union[np.ndarray, pd.Series, pd.DataFrame]]=None,\n",
    "        refit: bool=False,\n",
    "        copy_initialization: bool=False,\n",
    "        **kwargs\n",
    "    ) -> None:\n",
    "        \"\"\"\n",
    "        \"\"\"\n",
    "        fit_kwargs = self._fit_kwargs if refit else None\n",
    "\n",
    "        self.sarimax_res = self.sarimax_res.apply(\n",
    "                               endog               = y,\n",
    "                               exog                = exog,\n",
    "                               refit               = refit,\n",
    "                               copy_initialization = copy_initialization,\n",
    "                               fit_kwargs          = fit_kwargs,\n",
    "                               **kwargs\n",
    "                           )\n",
    "\n",
    "\n",
    "    @check_fitted\n",
    "    def extend(\n",
    "        self,\n",
    "        y: Union[np.ndarray, pd.Series, pd.DataFrame],\n",
    "        exog: Optional[Union[np.ndarray, pd.Series, pd.DataFrame]]=None,\n",
    "        **kwargs\n",
    "    ) -> None:\n",
    "        \"\"\"\n",
    "        \"\"\"\n",
    "\n",
    "        self.sarimax_res = self.sarimax_res.extend(\n",
    "                               endog               = y,\n",
    "                               exog                = exog,\n",
    "                               **kwargs\n",
    "                           )\n",
    "\n",
    "\n",
    "    def set_params(self, params):\n",
    "        \"\"\"\n",
    "        \"\"\"\n",
    "        params = {k:v for k,v in params.items() if k in self._sarimax_params}\n",
    "        for key, value in params.items():\n",
    "            setattr(self, key, value)\n",
    "\n",
    "        self._consolidate_kwargs()\n",
    "\n",
    "        self.fitted = False\n",
    "        self.sarimax_res = None\n",
    "        self.training_index = None\n",
    "\n",
    "        # Create the dictionaries with the additional statsmodels parameters to be  \n",
    "        # used during the init, fit and predict methods. Note that the statsmodels \n",
    "        # SARIMAX.fit parameters `method`, `max_iter`, `start_params` and `disp` \n",
    "        # have been moved to the initialization of this model and will have \n",
    "        # priority over those provided by the user using via `sm_fit_kwargs`.\n",
    "        \n",
    "        # statsmodels.tsa.statespace.SARIMAX parameters\n",
    "    \n",
    "\n",
    "    @check_fitted\n",
    "    def summary(self):\n",
    "        \"\"\"\n",
    "        Get a summary of the ARIMA model\n",
    "        \"\"\"\n",
    "\n",
    "        return self.sarimax_res.summary()\n"
   ]
  },
  {
   "cell_type": "code",
   "execution_count": 79,
   "metadata": {},
   "outputs": [
    {
     "data": {
      "text/html": [
       "<style>#sk-container-id-6 {color: black;}#sk-container-id-6 pre{padding: 0;}#sk-container-id-6 div.sk-toggleable {background-color: white;}#sk-container-id-6 label.sk-toggleable__label {cursor: pointer;display: block;width: 100%;margin-bottom: 0;padding: 0.3em;box-sizing: border-box;text-align: center;}#sk-container-id-6 label.sk-toggleable__label-arrow:before {content: \"▸\";float: left;margin-right: 0.25em;color: #696969;}#sk-container-id-6 label.sk-toggleable__label-arrow:hover:before {color: black;}#sk-container-id-6 div.sk-estimator:hover label.sk-toggleable__label-arrow:before {color: black;}#sk-container-id-6 div.sk-toggleable__content {max-height: 0;max-width: 0;overflow: hidden;text-align: left;background-color: #f0f8ff;}#sk-container-id-6 div.sk-toggleable__content pre {margin: 0.2em;color: black;border-radius: 0.25em;background-color: #f0f8ff;}#sk-container-id-6 input.sk-toggleable__control:checked~div.sk-toggleable__content {max-height: 200px;max-width: 100%;overflow: auto;}#sk-container-id-6 input.sk-toggleable__control:checked~label.sk-toggleable__label-arrow:before {content: \"▾\";}#sk-container-id-6 div.sk-estimator input.sk-toggleable__control:checked~label.sk-toggleable__label {background-color: #d4ebff;}#sk-container-id-6 div.sk-label input.sk-toggleable__control:checked~label.sk-toggleable__label {background-color: #d4ebff;}#sk-container-id-6 input.sk-hidden--visually {border: 0;clip: rect(1px 1px 1px 1px);clip: rect(1px, 1px, 1px, 1px);height: 1px;margin: -1px;overflow: hidden;padding: 0;position: absolute;width: 1px;}#sk-container-id-6 div.sk-estimator {font-family: monospace;background-color: #f0f8ff;border: 1px dotted black;border-radius: 0.25em;box-sizing: border-box;margin-bottom: 0.5em;}#sk-container-id-6 div.sk-estimator:hover {background-color: #d4ebff;}#sk-container-id-6 div.sk-parallel-item::after {content: \"\";width: 100%;border-bottom: 1px solid gray;flex-grow: 1;}#sk-container-id-6 div.sk-label:hover label.sk-toggleable__label {background-color: #d4ebff;}#sk-container-id-6 div.sk-serial::before {content: \"\";position: absolute;border-left: 1px solid gray;box-sizing: border-box;top: 0;bottom: 0;left: 50%;z-index: 0;}#sk-container-id-6 div.sk-serial {display: flex;flex-direction: column;align-items: center;background-color: white;padding-right: 0.2em;padding-left: 0.2em;position: relative;}#sk-container-id-6 div.sk-item {position: relative;z-index: 1;}#sk-container-id-6 div.sk-parallel {display: flex;align-items: stretch;justify-content: center;background-color: white;position: relative;}#sk-container-id-6 div.sk-item::before, #sk-container-id-6 div.sk-parallel-item::before {content: \"\";position: absolute;border-left: 1px solid gray;box-sizing: border-box;top: 0;bottom: 0;left: 50%;z-index: -1;}#sk-container-id-6 div.sk-parallel-item {display: flex;flex-direction: column;z-index: 1;position: relative;background-color: white;}#sk-container-id-6 div.sk-parallel-item:first-child::after {align-self: flex-end;width: 50%;}#sk-container-id-6 div.sk-parallel-item:last-child::after {align-self: flex-start;width: 50%;}#sk-container-id-6 div.sk-parallel-item:only-child::after {width: 0;}#sk-container-id-6 div.sk-dashed-wrapped {border: 1px dashed gray;margin: 0 0.4em 0.5em 0.4em;box-sizing: border-box;padding-bottom: 0.4em;background-color: white;}#sk-container-id-6 div.sk-label label {font-family: monospace;font-weight: bold;display: inline-block;line-height: 1.2em;}#sk-container-id-6 div.sk-label-container {text-align: center;}#sk-container-id-6 div.sk-container {/* jupyter's `normalize.less` sets `[hidden] { display: none; }` but bootstrap.min.css set `[hidden] { display: none !important; }` so we also need the `!important` here to be able to override the default hidden behavior on the sphinx rendered scikit-learn.org. See: https://github.com/scikit-learn/scikit-learn/issues/21755 */display: inline-block !important;position: relative;}#sk-container-id-6 div.sk-text-repr-fallback {display: none;}</style><div id=\"sk-container-id-6\" class=\"sk-top-container\"><div class=\"sk-text-repr-fallback\"><pre>Sarimax(1,0,0)(0,0,0)[0]</pre><b>In a Jupyter environment, please rerun this cell to show the HTML representation or trust the notebook. <br />On GitHub, the HTML representation is unable to render, please try loading this page with nbviewer.org.</b></div><div class=\"sk-container\" hidden><div class=\"sk-item\"><div class=\"sk-estimator sk-toggleable\"><input class=\"sk-toggleable__control sk-hidden--visually\" id=\"sk-estimator-id-4\" type=\"checkbox\" checked><label for=\"sk-estimator-id-4\" class=\"sk-toggleable__label sk-toggleable__label-arrow\">Sarimax2</label><div class=\"sk-toggleable__content\"><pre>Sarimax(1,0,0)(0,0,0)[0]</pre></div></div></div></div></div>"
      ],
      "text/plain": [
       "Sarimax(1,0,0)(0,0,0)[0]"
      ]
     },
     "execution_count": 79,
     "metadata": {},
     "output_type": "execute_result"
    }
   ],
   "source": [
    "sarimax = Sarimax2()\n",
    "sarimax"
   ]
  },
  {
   "cell_type": "code",
   "execution_count": 80,
   "metadata": {},
   "outputs": [
    {
     "data": {
      "text/html": [
       "<table class=\"simpletable\">\n",
       "<caption>SARIMAX Results</caption>\n",
       "<tr>\n",
       "  <th>Dep. Variable:</th>           <td>y</td>        <th>  No. Observations:  </th>   <td>10</td>  \n",
       "</tr>\n",
       "<tr>\n",
       "  <th>Model:</th>           <td>SARIMAX(3, 1, 3)</td> <th>  Log Likelihood     </th> <td>-4.925</td>\n",
       "</tr>\n",
       "<tr>\n",
       "  <th>Date:</th>            <td>Fri, 28 Jul 2023</td> <th>  AIC                </th> <td>23.850</td>\n",
       "</tr>\n",
       "<tr>\n",
       "  <th>Time:</th>                <td>14:40:37</td>     <th>  BIC                </th> <td>25.230</td>\n",
       "</tr>\n",
       "<tr>\n",
       "  <th>Sample:</th>                  <td>0</td>        <th>  HQIC               </th> <td>20.870</td>\n",
       "</tr>\n",
       "<tr>\n",
       "  <th></th>                       <td> - 10</td>      <th>                     </th>    <td> </td>  \n",
       "</tr>\n",
       "<tr>\n",
       "  <th>Covariance Type:</th>        <td>opg</td>       <th>                     </th>    <td> </td>  \n",
       "</tr>\n",
       "</table>\n",
       "<table class=\"simpletable\">\n",
       "<tr>\n",
       "     <td></td>       <th>coef</th>     <th>std err</th>      <th>z</th>      <th>P>|z|</th>  <th>[0.025</th>    <th>0.975]</th>  \n",
       "</tr>\n",
       "<tr>\n",
       "  <th>ar.L1</th>  <td>   -1.0455</td> <td>    0.694</td> <td>   -1.507</td> <td> 0.132</td> <td>   -2.405</td> <td>    0.314</td>\n",
       "</tr>\n",
       "<tr>\n",
       "  <th>ar.L2</th>  <td>   -0.7132</td> <td>    0.883</td> <td>   -0.808</td> <td> 0.419</td> <td>   -2.443</td> <td>    1.017</td>\n",
       "</tr>\n",
       "<tr>\n",
       "  <th>ar.L3</th>  <td>   -0.6676</td> <td>    0.625</td> <td>   -1.068</td> <td> 0.285</td> <td>   -1.893</td> <td>    0.557</td>\n",
       "</tr>\n",
       "<tr>\n",
       "  <th>ma.L1</th>  <td>   -0.1304</td> <td>   11.652</td> <td>   -0.011</td> <td> 0.991</td> <td>  -22.967</td> <td>   22.706</td>\n",
       "</tr>\n",
       "<tr>\n",
       "  <th>ma.L2</th>  <td>   -0.0954</td> <td>   13.574</td> <td>   -0.007</td> <td> 0.994</td> <td>  -26.701</td> <td>   26.510</td>\n",
       "</tr>\n",
       "<tr>\n",
       "  <th>ma.L3</th>  <td>    0.9834</td> <td>   12.646</td> <td>    0.078</td> <td> 0.938</td> <td>  -23.803</td> <td>   25.770</td>\n",
       "</tr>\n",
       "<tr>\n",
       "  <th>sigma2</th> <td>    0.0736</td> <td>    0.963</td> <td>    0.076</td> <td> 0.939</td> <td>   -1.815</td> <td>    1.962</td>\n",
       "</tr>\n",
       "</table>\n",
       "<table class=\"simpletable\">\n",
       "<tr>\n",
       "  <th>Ljung-Box (L1) (Q):</th>     <td>0.85</td> <th>  Jarque-Bera (JB):  </th> <td>0.35</td> \n",
       "</tr>\n",
       "<tr>\n",
       "  <th>Prob(Q):</th>                <td>0.36</td> <th>  Prob(JB):          </th> <td>0.84</td> \n",
       "</tr>\n",
       "<tr>\n",
       "  <th>Heteroskedasticity (H):</th> <td>0.40</td> <th>  Skew:              </th> <td>-0.06</td>\n",
       "</tr>\n",
       "<tr>\n",
       "  <th>Prob(H) (two-sided):</th>    <td>0.47</td> <th>  Kurtosis:          </th> <td>2.05</td> \n",
       "</tr>\n",
       "</table><br/><br/>Warnings:<br/>[1] Covariance matrix calculated using the outer product of gradients (complex-step).<br/>[2] Covariance matrix is singular or near-singular, with condition number 6.8e+17. Standard errors may be unstable."
      ],
      "text/latex": [
       "\\begin{center}\n",
       "\\begin{tabular}{lclc}\n",
       "\\toprule\n",
       "\\textbf{Dep. Variable:}          &        y         & \\textbf{  No. Observations:  } &     10      \\\\\n",
       "\\textbf{Model:}                  & SARIMAX(3, 1, 3) & \\textbf{  Log Likelihood     } &   -4.925    \\\\\n",
       "\\textbf{Date:}                   & Fri, 28 Jul 2023 & \\textbf{  AIC                } &   23.850    \\\\\n",
       "\\textbf{Time:}                   &     14:40:37     & \\textbf{  BIC                } &   25.230    \\\\\n",
       "\\textbf{Sample:}                 &        0         & \\textbf{  HQIC               } &   20.870    \\\\\n",
       "\\textbf{}                        &       - 10       & \\textbf{                     } &             \\\\\n",
       "\\textbf{Covariance Type:}        &       opg        & \\textbf{                     } &             \\\\\n",
       "\\bottomrule\n",
       "\\end{tabular}\n",
       "\\begin{tabular}{lcccccc}\n",
       "                & \\textbf{coef} & \\textbf{std err} & \\textbf{z} & \\textbf{P$> |$z$|$} & \\textbf{[0.025} & \\textbf{0.975]}  \\\\\n",
       "\\midrule\n",
       "\\textbf{ar.L1}  &      -1.0455  &        0.694     &    -1.507  &         0.132        &       -2.405    &        0.314     \\\\\n",
       "\\textbf{ar.L2}  &      -0.7132  &        0.883     &    -0.808  &         0.419        &       -2.443    &        1.017     \\\\\n",
       "\\textbf{ar.L3}  &      -0.6676  &        0.625     &    -1.068  &         0.285        &       -1.893    &        0.557     \\\\\n",
       "\\textbf{ma.L1}  &      -0.1304  &       11.652     &    -0.011  &         0.991        &      -22.967    &       22.706     \\\\\n",
       "\\textbf{ma.L2}  &      -0.0954  &       13.574     &    -0.007  &         0.994        &      -26.701    &       26.510     \\\\\n",
       "\\textbf{ma.L3}  &       0.9834  &       12.646     &     0.078  &         0.938        &      -23.803    &       25.770     \\\\\n",
       "\\textbf{sigma2} &       0.0736  &        0.963     &     0.076  &         0.939        &       -1.815    &        1.962     \\\\\n",
       "\\bottomrule\n",
       "\\end{tabular}\n",
       "\\begin{tabular}{lclc}\n",
       "\\textbf{Ljung-Box (L1) (Q):}     & 0.85 & \\textbf{  Jarque-Bera (JB):  } &  0.35  \\\\\n",
       "\\textbf{Prob(Q):}                & 0.36 & \\textbf{  Prob(JB):          } &  0.84  \\\\\n",
       "\\textbf{Heteroskedasticity (H):} & 0.40 & \\textbf{  Skew:              } & -0.06  \\\\\n",
       "\\textbf{Prob(H) (two-sided):}    & 0.47 & \\textbf{  Kurtosis:          } &  2.05  \\\\\n",
       "\\bottomrule\n",
       "\\end{tabular}\n",
       "%\\caption{SARIMAX Results}\n",
       "\\end{center}\n",
       "\n",
       "Warnings: \\newline\n",
       " [1] Covariance matrix calculated using the outer product of gradients (complex-step). \\newline\n",
       " [2] Covariance matrix is singular or near-singular, with condition number 6.8e+17. Standard errors may be unstable."
      ],
      "text/plain": [
       "<class 'statsmodels.iolib.summary.Summary'>\n",
       "\"\"\"\n",
       "                               SARIMAX Results                                \n",
       "==============================================================================\n",
       "Dep. Variable:                      y   No. Observations:                   10\n",
       "Model:               SARIMAX(3, 1, 3)   Log Likelihood                  -4.925\n",
       "Date:                Fri, 28 Jul 2023   AIC                             23.850\n",
       "Time:                        14:40:37   BIC                             25.230\n",
       "Sample:                             0   HQIC                            20.870\n",
       "                                 - 10                                         \n",
       "Covariance Type:                  opg                                         \n",
       "==============================================================================\n",
       "                 coef    std err          z      P>|z|      [0.025      0.975]\n",
       "------------------------------------------------------------------------------\n",
       "ar.L1         -1.0455      0.694     -1.507      0.132      -2.405       0.314\n",
       "ar.L2         -0.7132      0.883     -0.808      0.419      -2.443       1.017\n",
       "ar.L3         -0.6676      0.625     -1.068      0.285      -1.893       0.557\n",
       "ma.L1         -0.1304     11.652     -0.011      0.991     -22.967      22.706\n",
       "ma.L2         -0.0954     13.574     -0.007      0.994     -26.701      26.510\n",
       "ma.L3          0.9834     12.646      0.078      0.938     -23.803      25.770\n",
       "sigma2         0.0736      0.963      0.076      0.939      -1.815       1.962\n",
       "===================================================================================\n",
       "Ljung-Box (L1) (Q):                   0.85   Jarque-Bera (JB):                 0.35\n",
       "Prob(Q):                              0.36   Prob(JB):                         0.84\n",
       "Heteroskedasticity (H):               0.40   Skew:                            -0.06\n",
       "Prob(H) (two-sided):                  0.47   Kurtosis:                         2.05\n",
       "===================================================================================\n",
       "\n",
       "Warnings:\n",
       "[1] Covariance matrix calculated using the outer product of gradients (complex-step).\n",
       "[2] Covariance matrix is singular or near-singular, with condition number 6.8e+17. Standard errors may be unstable.\n",
       "\"\"\""
      ]
     },
     "execution_count": 80,
     "metadata": {},
     "output_type": "execute_result"
    }
   ],
   "source": [
    "sarimax = Sarimax2(order=(3, 1, 3))\n",
    "sarimax.fit(y=np.random.normal(size=10))\n",
    "sarimax.summary()"
   ]
  },
  {
   "cell_type": "code",
   "execution_count": 85,
   "metadata": {},
   "outputs": [
    {
     "name": "stdout",
     "output_type": "stream",
     "text": [
      "[-1.0856306   0.99734545  0.2829785  -1.50629471 -0.57860025  1.65143654\n",
      " -2.42667924 -0.42891263  1.26593626 -0.8667404 ]\n",
      "[ 0.         -1.08562935  0.04582749 -0.14900331 -0.14813861 -0.40764005\n",
      " -0.0495173  -0.47471492 -0.15535394 -0.40907418]\n"
     ]
    },
    {
     "data": {
      "text/plain": [
       "array([ 0.        , -1.08562935,  0.04582749, -0.14900331, -0.14813861,\n",
       "       -0.40764005, -0.0495173 , -0.47471492, -0.15535394, -0.40907418,\n",
       "       -0.21411125])"
      ]
     },
     "execution_count": 85,
     "metadata": {},
     "output_type": "execute_result"
    }
   ],
   "source": [
    "np.random.seed(123)\n",
    "y_numpy = np.random.normal(size=100)\n",
    "exog_numpy = np.random.normal(size=100)\n",
    "\n",
    "print(y_numpy[:10])\n",
    "\n",
    "sarimax = Sarimax2(order=(3, 1, 3))\n",
    "\n",
    "sarimax.fit(y=y_numpy)\n",
    "\n",
    "print(sarimax.sarimax_res.fittedvalues[:10])\n",
    "\n",
    "sarimax.sarimax_res.get_prediction(0, 10).predicted_mean"
   ]
  },
  {
   "cell_type": "code",
   "execution_count": null,
   "metadata": {},
   "outputs": [],
   "source": []
  },
  {
   "cell_type": "code",
   "execution_count": 67,
   "metadata": {},
   "outputs": [
    {
     "name": "stdout",
     "output_type": "stream",
     "text": [
      "1\n",
      "<class 'numpy.ndarray'> <class 'numpy.ndarray'>\n",
      "<class 'numpy.ndarray'>\n",
      "---\n",
      "2\n",
      "<class 'numpy.ndarray'> <class 'pandas.core.series.Series'>\n",
      "<class 'numpy.ndarray'>\n",
      "---\n",
      "3\n",
      "<class 'numpy.ndarray'> <class 'pandas.core.frame.DataFrame'>\n",
      "<class 'numpy.ndarray'>\n",
      "---\n",
      "4\n",
      "<class 'numpy.ndarray'> <class 'pandas.core.frame.DataFrame'>\n",
      "<class 'numpy.ndarray'>\n",
      "---\n",
      "5\n",
      "<class 'pandas.core.series.Series'> <class 'numpy.ndarray'>\n",
      "<class 'pandas.core.frame.DataFrame'>\n",
      "---\n",
      "6\n",
      "<class 'pandas.core.series.Series'> <class 'pandas.core.series.Series'>\n",
      "<class 'pandas.core.frame.DataFrame'>\n",
      "---\n",
      "7\n",
      "<class 'pandas.core.series.Series'> <class 'pandas.core.frame.DataFrame'>\n",
      "<class 'pandas.core.frame.DataFrame'>\n",
      "---\n",
      "9\n",
      "<class 'pandas.core.frame.DataFrame'> <class 'numpy.ndarray'>\n",
      "<class 'pandas.core.frame.DataFrame'>\n",
      "---\n",
      "10\n",
      "<class 'pandas.core.frame.DataFrame'> <class 'pandas.core.series.Series'>\n",
      "<class 'pandas.core.frame.DataFrame'>\n",
      "---\n",
      "11\n",
      "<class 'pandas.core.frame.DataFrame'> <class 'pandas.core.frame.DataFrame'>\n",
      "<class 'pandas.core.frame.DataFrame'>\n",
      "---\n",
      "13\n",
      "<class 'pandas.core.frame.DataFrame'> <class 'numpy.ndarray'>\n",
      "<class 'pandas.core.frame.DataFrame'>\n",
      "---\n",
      "16\n",
      "<class 'pandas.core.frame.DataFrame'> <class 'pandas.core.frame.DataFrame'>\n",
      "<class 'pandas.core.frame.DataFrame'>\n",
      "---\n"
     ]
    }
   ],
   "source": [
    "#Check fit predict work\n",
    "\n",
    "# If both are pandas, both needs to have an aligned index\n",
    "\n",
    "np.random.seed(123)\n",
    "import warnings\n",
    "warnings.filterwarnings('ignore')\n",
    "\n",
    "y_numpy = np.random.normal(size=100)\n",
    "y_serie = pd.Series(np.random.normal(size=100), name='y')\n",
    "y_df = pd.DataFrame(pd.Series(np.random.normal(size=100)), columns=['serie_1'])\n",
    "y_df_index = pd.DataFrame(pd.Series(np.random.normal(size=100)), columns=['serie_1'])\n",
    "y_df_index.index = pd.period_range(start='2000', periods=100, freq='A')\n",
    "\n",
    "exog_numpy = np.random.normal(size=100)\n",
    "exog_serie = pd.Series(np.random.normal(size=100), name='exog')\n",
    "exog_df = pd.DataFrame(pd.Series(np.random.normal(size=100)), columns=['exog_1'])\n",
    "exog_df_index = pd.DataFrame(pd.Series(np.random.normal(size=100)), columns=['exog_1'])\n",
    "exog_df_index.index = pd.period_range(start='2000', periods=100, freq='A')\n",
    "\n",
    "data = [('1', y_numpy, exog_numpy),\n",
    "        ('2', y_numpy, exog_serie),\n",
    "        ('3', y_numpy, exog_df),\n",
    "        ('4', y_numpy, exog_df_index),\n",
    "        ('5', y_serie, exog_numpy),\n",
    "        ('6', y_serie, exog_serie),\n",
    "        ('7', y_serie, exog_df),\n",
    "        # ('8', y_serie, exog_df_index), not works!!!\n",
    "        ('9', y_df, exog_numpy),\n",
    "        ('10', y_df, exog_serie),\n",
    "        ('11', y_df, exog_df),\n",
    "        # ('12', y_df, exog_df_index), not works!!!\n",
    "        ('13', y_df_index, exog_numpy),\n",
    "        # ('14', y_df_index, exog_serie), not works!!!\n",
    "        # ('15', y_df_index, exog_df), not works!!!\n",
    "        ('16', y_df_index, exog_df_index) # not error in predict (unaligned index)\n",
    "        ]\n",
    "\n",
    "for i, dat in enumerate(data):\n",
    "\n",
    "    y = dat[1]\n",
    "    exog = dat[2]\n",
    "\n",
    "    sarimax = Sarimax2(order=(3, 1, 3))\n",
    "\n",
    "    print(dat[0])\n",
    "    print(type(y), type(exog))\n",
    "\n",
    "    sarimax.fit(y=y, exog=exog)\n",
    "\n",
    "    predictions = sarimax.predict(5, exog=exog[:5], return_conf_int=True)\n",
    "\n",
    "    print(type(predictions))\n",
    "    print(\"---\")"
   ]
  },
  {
   "cell_type": "code",
   "execution_count": 52,
   "metadata": {},
   "outputs": [
    {
     "name": "stdout",
     "output_type": "stream",
     "text": [
      "<class 'pandas.core.frame.DataFrame'>\n"
     ]
    },
    {
     "name": "stderr",
     "output_type": "stream",
     "text": [
      "c:\\Users\\jaesc2\\Miniconda3\\envs\\skforecast\\lib\\site-packages\\statsmodels\\base\\model.py:607: ConvergenceWarning: Maximum Likelihood optimization failed to converge. Check mle_retvals\n",
      "  warnings.warn(\"Maximum Likelihood optimization failed to \"\n"
     ]
    },
    {
     "data": {
      "text/html": [
       "<div>\n",
       "<style scoped>\n",
       "    .dataframe tbody tr th:only-of-type {\n",
       "        vertical-align: middle;\n",
       "    }\n",
       "\n",
       "    .dataframe tbody tr th {\n",
       "        vertical-align: top;\n",
       "    }\n",
       "\n",
       "    .dataframe thead th {\n",
       "        text-align: right;\n",
       "    }\n",
       "</style>\n",
       "<table border=\"1\" class=\"dataframe\">\n",
       "  <thead>\n",
       "    <tr style=\"text-align: right;\">\n",
       "      <th></th>\n",
       "      <th>pred</th>\n",
       "      <th>lower_bound</th>\n",
       "      <th>upper_bound</th>\n",
       "    </tr>\n",
       "  </thead>\n",
       "  <tbody>\n",
       "    <tr>\n",
       "      <th>2100</th>\n",
       "      <td>-0.098987</td>\n",
       "      <td>-2.282301</td>\n",
       "      <td>2.084327</td>\n",
       "    </tr>\n",
       "    <tr>\n",
       "      <th>2101</th>\n",
       "      <td>-0.050396</td>\n",
       "      <td>-2.235456</td>\n",
       "      <td>2.134664</td>\n",
       "    </tr>\n",
       "    <tr>\n",
       "      <th>2102</th>\n",
       "      <td>-0.080658</td>\n",
       "      <td>-2.265786</td>\n",
       "      <td>2.104471</td>\n",
       "    </tr>\n",
       "    <tr>\n",
       "      <th>2103</th>\n",
       "      <td>0.152617</td>\n",
       "      <td>-2.083585</td>\n",
       "      <td>2.388818</td>\n",
       "    </tr>\n",
       "    <tr>\n",
       "      <th>2104</th>\n",
       "      <td>-0.028069</td>\n",
       "      <td>-2.265317</td>\n",
       "      <td>2.209178</td>\n",
       "    </tr>\n",
       "  </tbody>\n",
       "</table>\n",
       "</div>"
      ],
      "text/plain": [
       "          pred  lower_bound  upper_bound\n",
       "2100 -0.098987    -2.282301     2.084327\n",
       "2101 -0.050396    -2.235456     2.134664\n",
       "2102 -0.080658    -2.265786     2.104471\n",
       "2103  0.152617    -2.083585     2.388818\n",
       "2104 -0.028069    -2.265317     2.209178"
      ]
     },
     "execution_count": 52,
     "metadata": {},
     "output_type": "execute_result"
    }
   ],
   "source": [
    "np.random.seed(123)\n",
    "endog = pd.DataFrame(pd.Series(np.random.normal(size=100)), columns=['serie_1'])\n",
    "endog.index = pd.period_range(start='2000', periods=100, freq='A')\n",
    "#endog = pd.Series(np.random.normal(size=100))\n",
    "#endog = np.random.normal(size=100)\n",
    "\n",
    "exog = np.random.normal(size=100)\n",
    "#exog = pd.Series(np.random.normal(size=100))\n",
    "\n",
    "sarimax = Sarimax2(order=(3, 1, 3))\n",
    "sarimax.fit(y=endog, exog=exog)\n",
    "\n",
    "predictions = sarimax.predict(5, exog=exog[:5], return_conf_int=True)\n",
    "print(type(predictions))\n",
    "predictions"
   ]
  },
  {
   "cell_type": "code",
   "execution_count": 53,
   "metadata": {},
   "outputs": [
    {
     "name": "stdout",
     "output_type": "stream",
     "text": [
      "2095    0.204505\n",
      "2096    0.040547\n",
      "2097    0.031692\n",
      "2098    0.205036\n",
      "2099   -0.208554\n",
      "Freq: A-DEC, dtype: float64\n",
      "\n",
      "2195   -0.194349\n",
      "2196   -0.002907\n",
      "2197   -0.385071\n",
      "2198    0.192968\n",
      "2199    0.149047\n",
      "Freq: A-DEC, dtype: float64\n"
     ]
    }
   ],
   "source": [
    "new_index = pd.period_range(start='2100', periods=100, freq='A')\n",
    "new_observations = pd.Series(np.random.normal(size=100))\n",
    "new_observations.index = new_index\n",
    "\n",
    "new_exog = np.random.normal(size=100)\n",
    "\n",
    "print(sarimax.sarimax_res.fittedvalues.tail(5))\n",
    "print(\"\")\n",
    "\n",
    "sarimax.append(\n",
    "    y     = new_observations, \n",
    "    exog  = new_exog,\n",
    "    refit = False\n",
    ")\n",
    "\n",
    "print(sarimax.sarimax_res.fittedvalues.tail(5))"
   ]
  },
  {
   "cell_type": "code",
   "execution_count": null,
   "metadata": {},
   "outputs": [],
   "source": []
  },
  {
   "cell_type": "code",
   "execution_count": 59,
   "metadata": {},
   "outputs": [
    {
     "data": {
      "text/plain": [
       "0    0.703310\n",
       "1   -0.598105\n",
       "2    2.200702\n",
       "3    0.688297\n",
       "4   -0.006307\n",
       "dtype: float64"
      ]
     },
     "execution_count": 59,
     "metadata": {},
     "output_type": "execute_result"
    }
   ],
   "source": [
    "exog[:5]"
   ]
  },
  {
   "cell_type": "code",
   "execution_count": 38,
   "metadata": {},
   "outputs": [],
   "source": [
    "arr1 = np.array([0.76578498, 0.79847458, 0.73380039, 0.86588736, 0.96231786])\n",
    "arr2 = np.array([[-1.20204223,  2.7336122 ],\n",
    " [-1.20640858 , 2.80335774],\n",
    " [-1.28768676 , 2.75528753],\n",
    " [-1.16192687,  2.89370158],\n",
    " [-1.18203997,  3.10667568]])"
   ]
  },
  {
   "cell_type": "code",
   "execution_count": 40,
   "metadata": {},
   "outputs": [
    {
     "data": {
      "text/plain": [
       "array([[ 0.76578498, -1.20204223,  2.7336122 ],\n",
       "       [ 0.79847458, -1.20640858,  2.80335774],\n",
       "       [ 0.73380039, -1.28768676,  2.75528753],\n",
       "       [ 0.86588736, -1.16192687,  2.89370158],\n",
       "       [ 0.96231786, -1.18203997,  3.10667568]])"
      ]
     },
     "execution_count": 40,
     "metadata": {},
     "output_type": "execute_result"
    }
   ],
   "source": [
    "np.column_stack([arr1,arr2])"
   ]
  },
  {
   "cell_type": "code",
   "execution_count": null,
   "metadata": {},
   "outputs": [],
   "source": []
  },
  {
   "cell_type": "code",
   "execution_count": 27,
   "metadata": {},
   "outputs": [
    {
     "data": {
      "text/plain": [
       "{}"
      ]
     },
     "execution_count": 27,
     "metadata": {},
     "output_type": "execute_result"
    }
   ],
   "source": [
    "sarimax.predict_kwargs"
   ]
  },
  {
   "cell_type": "markdown",
   "metadata": {},
   "source": [
    "## Statsmodels"
   ]
  },
  {
   "cell_type": "code",
   "execution_count": 13,
   "metadata": {},
   "outputs": [
    {
     "name": "stderr",
     "output_type": "stream",
     "text": [
      "c:\\Users\\jaesc2\\Miniconda3\\envs\\skforecast\\lib\\site-packages\\statsmodels\\tsa\\statespace\\sarimax.py:978: UserWarning: Non-invertible starting MA parameters found. Using zeros as starting parameters.\n",
      "  warn('Non-invertible starting MA parameters found.'\n",
      "c:\\Users\\jaesc2\\Miniconda3\\envs\\skforecast\\lib\\site-packages\\statsmodels\\base\\model.py:607: ConvergenceWarning: Maximum Likelihood optimization failed to converge. Check mle_retvals\n",
      "  warnings.warn(\"Maximum Likelihood optimization failed to \"\n"
     ]
    },
    {
     "data": {
      "text/plain": [
       "pandas.core.series.Series"
      ]
     },
     "execution_count": 13,
     "metadata": {},
     "output_type": "execute_result"
    }
   ],
   "source": [
    "np.random.seed(123)\n",
    "endog = pd.DataFrame(pd.Series(np.random.normal(size=100)), columns=['serie_1'])\n",
    "endog = pd.DataFrame(pd.Series(np.random.normal(size=100)), columns=['serie_1'])\n",
    "\n",
    "sarimax = SARIMAX(order=(3, 3, 3), endog=endog)\n",
    "sarimax_res = sarimax.fit()\n",
    "\n",
    "type(sarimax_res.get_forecast(5).predicted_mean)"
   ]
  },
  {
   "cell_type": "code",
   "execution_count": 12,
   "metadata": {},
   "outputs": [
    {
     "data": {
      "text/html": [
       "<div>\n",
       "<style scoped>\n",
       "    .dataframe tbody tr th:only-of-type {\n",
       "        vertical-align: middle;\n",
       "    }\n",
       "\n",
       "    .dataframe tbody tr th {\n",
       "        vertical-align: top;\n",
       "    }\n",
       "\n",
       "    .dataframe thead th {\n",
       "        text-align: right;\n",
       "    }\n",
       "</style>\n",
       "<table border=\"1\" class=\"dataframe\">\n",
       "  <thead>\n",
       "    <tr style=\"text-align: right;\">\n",
       "      <th></th>\n",
       "      <th>serie_1</th>\n",
       "    </tr>\n",
       "  </thead>\n",
       "  <tbody>\n",
       "    <tr>\n",
       "      <th>0</th>\n",
       "      <td>-1.085631</td>\n",
       "    </tr>\n",
       "    <tr>\n",
       "      <th>1</th>\n",
       "      <td>0.997345</td>\n",
       "    </tr>\n",
       "    <tr>\n",
       "      <th>2</th>\n",
       "      <td>0.282978</td>\n",
       "    </tr>\n",
       "    <tr>\n",
       "      <th>3</th>\n",
       "      <td>-1.506295</td>\n",
       "    </tr>\n",
       "    <tr>\n",
       "      <th>4</th>\n",
       "      <td>-0.578600</td>\n",
       "    </tr>\n",
       "    <tr>\n",
       "      <th>...</th>\n",
       "      <td>...</td>\n",
       "    </tr>\n",
       "    <tr>\n",
       "      <th>95</th>\n",
       "      <td>1.031114</td>\n",
       "    </tr>\n",
       "    <tr>\n",
       "      <th>96</th>\n",
       "      <td>-1.084568</td>\n",
       "    </tr>\n",
       "    <tr>\n",
       "      <th>97</th>\n",
       "      <td>-1.363472</td>\n",
       "    </tr>\n",
       "    <tr>\n",
       "      <th>98</th>\n",
       "      <td>0.379401</td>\n",
       "    </tr>\n",
       "    <tr>\n",
       "      <th>99</th>\n",
       "      <td>-0.379176</td>\n",
       "    </tr>\n",
       "  </tbody>\n",
       "</table>\n",
       "<p>100 rows × 1 columns</p>\n",
       "</div>"
      ],
      "text/plain": [
       "     serie_1\n",
       "0  -1.085631\n",
       "1   0.997345\n",
       "2   0.282978\n",
       "3  -1.506295\n",
       "4  -0.578600\n",
       "..       ...\n",
       "95  1.031114\n",
       "96 -1.084568\n",
       "97 -1.363472\n",
       "98  0.379401\n",
       "99 -0.379176\n",
       "\n",
       "[100 rows x 1 columns]"
      ]
     },
     "execution_count": 12,
     "metadata": {},
     "output_type": "execute_result"
    }
   ],
   "source": [
    "endog"
   ]
  },
  {
   "cell_type": "code",
   "execution_count": 87,
   "metadata": {},
   "outputs": [
    {
     "ename": "AttributeError",
     "evalue": "'SARIMAX' object has no attribute 'missing'",
     "output_type": "error",
     "traceback": [
      "\u001b[1;31m---------------------------------------------------------------------------\u001b[0m",
      "\u001b[1;31mAttributeError\u001b[0m                            Traceback (most recent call last)",
      "Cell \u001b[1;32mIn[87], line 1\u001b[0m\n\u001b[1;32m----> 1\u001b[0m sarimax\u001b[39m.\u001b[39;49mmissing\n",
      "\u001b[1;31mAttributeError\u001b[0m: 'SARIMAX' object has no attribute 'missing'"
     ]
    }
   ],
   "source": [
    "sarimax.missing"
   ]
  },
  {
   "cell_type": "code",
   "execution_count": 78,
   "metadata": {},
   "outputs": [
    {
     "name": "stderr",
     "output_type": "stream",
     "text": [
      "c:\\Users\\jaesc2\\Miniconda3\\envs\\skforecast\\lib\\site-packages\\statsmodels\\tsa\\statespace\\sarimax.py:978: UserWarning: Non-invertible starting MA parameters found. Using zeros as starting parameters.\n",
      "  warn('Non-invertible starting MA parameters found.'\n",
      "c:\\Users\\jaesc2\\Miniconda3\\envs\\skforecast\\lib\\site-packages\\statsmodels\\tsa\\statespace\\representation.py:374: FutureWarning: Unknown keyword arguments: dict_keys(['alpha']).Passing unknown keyword arguments will raise a TypeError beginning in version 0.15.\n",
      "  warnings.warn(msg, FutureWarning)\n"
     ]
    },
    {
     "data": {
      "text/plain": [
       "array([-0.66263334, -0.17596637, -0.43844843, -0.52160303, -0.39956411])"
      ]
     },
     "execution_count": 78,
     "metadata": {},
     "output_type": "execute_result"
    }
   ],
   "source": [
    "np.random.seed(123)\n",
    "sarimax = Sarimax2(order=(3, 3, 3))\n",
    "sarimax.fit(y=np.random.normal(size=100))\n",
    "\n",
    "sarimax.predict(5)"
   ]
  },
  {
   "cell_type": "code",
   "execution_count": 70,
   "metadata": {},
   "outputs": [],
   "source": [
    "sarimax = Sarimax(order=(1,1,1), maxiter=133)\n",
    "sarimax.fit(y=np.random.normal(size=100))"
   ]
  },
  {
   "cell_type": "code",
   "execution_count": 71,
   "metadata": {},
   "outputs": [
    {
     "data": {
      "text/plain": [
       "array([-0.1931783 , -0.99980359,  0.82767352])"
      ]
     },
     "execution_count": 71,
     "metadata": {},
     "output_type": "execute_result"
    }
   ],
   "source": [
    "sarimax.params()"
   ]
  },
  {
   "cell_type": "code",
   "execution_count": 72,
   "metadata": {},
   "outputs": [
    {
     "data": {
      "text/plain": [
       "{'order': (1, 1, 1),\n",
       " 'seasonal_order': (0, 0, 0, 0),\n",
       " 'trend': None,\n",
       " 'measurement_error': False,\n",
       " 'time_varying_regression': False,\n",
       " 'mle_regression': True,\n",
       " 'simple_differencing': False,\n",
       " 'enforce_stationarity': True,\n",
       " 'enforce_invertibility': True,\n",
       " 'hamilton_representation': False,\n",
       " 'concentrate_scale': False,\n",
       " 'trend_offset': 1,\n",
       " 'use_exact_diffuse': False,\n",
       " 'dates': None,\n",
       " 'freq': None,\n",
       " 'missing': 'none',\n",
       " 'validate_specification': True,\n",
       " 'method': 'lbfgs',\n",
       " 'maxiter': 133,\n",
       " 'start_params': None,\n",
       " 'disp': False,\n",
       " 'sm_init_kwargs': {},\n",
       " 'sm_fit_kwargs': {},\n",
       " 'sm_predict_kwargs': {}}"
      ]
     },
     "execution_count": 72,
     "metadata": {},
     "output_type": "execute_result"
    }
   ],
   "source": [
    "sarimax._sarimax_params"
   ]
  },
  {
   "cell_type": "code",
   "execution_count": 73,
   "metadata": {},
   "outputs": [
    {
     "name": "stdout",
     "output_type": "stream",
     "text": [
      "{'order': (2, 2, 2)}\n"
     ]
    },
    {
     "data": {
      "text/plain": [
       "(2, 2, 2)"
      ]
     },
     "execution_count": 73,
     "metadata": {},
     "output_type": "execute_result"
    }
   ],
   "source": [
    "sarimax.set_params(order=(2,2,2))\n",
    "sarimax.order"
   ]
  },
  {
   "cell_type": "code",
   "execution_count": null,
   "metadata": {},
   "outputs": [],
   "source": []
  },
  {
   "cell_type": "code",
   "execution_count": null,
   "metadata": {},
   "outputs": [],
   "source": []
  },
  {
   "cell_type": "code",
   "execution_count": null,
   "metadata": {},
   "outputs": [],
   "source": []
  },
  {
   "cell_type": "code",
   "execution_count": null,
   "metadata": {},
   "outputs": [],
   "source": []
  },
  {
   "cell_type": "markdown",
   "metadata": {},
   "source": [
    "## Test Forecaster Sarimax"
   ]
  },
  {
   "cell_type": "code",
   "execution_count": 1,
   "metadata": {},
   "outputs": [
    {
     "data": {
      "text/plain": [
       "'c:\\\\Users\\\\jaesc2\\\\GitHub\\\\skforecast'"
      ]
     },
     "execution_count": 1,
     "metadata": {},
     "output_type": "execute_result"
    }
   ],
   "source": [
    "%load_ext autoreload\n",
    "%autoreload 2\n",
    "import sys\n",
    "from pathlib import Path\n",
    "sys.path.insert(1, str(Path.cwd().parent))\n",
    "str(Path.cwd().parent)"
   ]
  },
  {
   "cell_type": "code",
   "execution_count": 4,
   "metadata": {},
   "outputs": [],
   "source": [
    "# Libraries\n",
    "# ======================================================================================\n",
    "import numpy as np\n",
    "import pandas as pd\n",
    "import matplotlib.pyplot as plt\n",
    "from skforecast.model_selection_sarimax import backtesting_sarimax\n",
    "from skforecast.model_selection_sarimax import grid_search_sarimax\n",
    "from sklearn.metrics import mean_absolute_error\n",
    "\n",
    "from skforecast.ForecasterSarimax_2 import ForecasterSarimax\n",
    "from skforecast.ForecasterSarimax_2 import Sarimax"
   ]
  },
  {
   "cell_type": "code",
   "execution_count": 5,
   "metadata": {},
   "outputs": [
    {
     "name": "stdout",
     "output_type": "stream",
     "text": [
      "Train dates : 1991-07-01 00:00:00 --- 2005-06-01 00:00:00  (n=168)\n",
      "Test dates  : 2005-07-01 00:00:00 --- 2008-06-01 00:00:00  (n=36)\n"
     ]
    },
    {
     "data": {
      "image/png": "[encoded data removed]",
      "text/plain": [
       "<Figure size 700x300 with 1 Axes>"
      ]
     },
     "metadata": {},
     "output_type": "display_data"
    }
   ],
   "source": [
    "# Download data\n",
    "# ======================================================================================\n",
    "url = ('https://raw.githubusercontent.com/JoaquinAmatRodrigo/skforecast/master/data/h2o.csv')\n",
    "data = pd.read_csv(url, sep=',', header=0, names=['y', 'datetime'])\n",
    "\n",
    "# Data preprocessing\n",
    "# ======================================================================================\n",
    "data['datetime'] = pd.to_datetime(data['datetime'], format='%Y-%m-%d')\n",
    "data = data.set_index('datetime')\n",
    "data = data.asfreq('MS')\n",
    "data = data['y']\n",
    "data = data.sort_index()\n",
    "\n",
    "# Train-test dates\n",
    "# ======================================================================================\n",
    "end_train = '2005-06-01 23:59:00'\n",
    "print(f\"Train dates : {data.index.min()} --- {data.loc[:end_train].index.max()}  (n={len(data.loc[:end_train])})\")\n",
    "print(f\"Test dates  : {data.loc[end_train:].index.min()} --- {data.loc[:].index.max()}  (n={len(data.loc[end_train:])})\")\n",
    "data_train = data.loc[:end_train]\n",
    "data_test  = data.loc[end_train:]\n",
    "\n",
    "# Plot\n",
    "# ======================================================================================\n",
    "fig, ax=plt.subplots(figsize=(7, 3))\n",
    "data_train.plot(ax=ax, label='train')\n",
    "data_test.plot(ax=ax, label='test')\n",
    "ax.legend();"
   ]
  },
  {
   "cell_type": "code",
   "execution_count": 37,
   "metadata": {},
   "outputs": [
    {
     "data": {
      "text/plain": [
       "================= \n",
       "ForecasterSarimax \n",
       "================= \n",
       "Regressor: Sarimax(12,1,1)(0,0,0)[0] \n",
       "Regressor parameters: {'concentrate_scale': False, 'dates': None, 'disp': False, 'enforce_invertibility': True, 'enforce_stationarity': True, 'freq': None, 'hamilton_representation': False, 'maxiter': 200, 'measurement_error': False, 'method': 'lbfgs', 'missing': 'none', 'mle_regression': True, 'order': (12, 1, 1), 'seasonal_order': (0, 0, 0, 0), 'simple_differencing': False, 'sm_fit_kwargs': {}, 'sm_init_kwargs': {}, 'sm_predict_kwargs': {}, 'start_params': None, 'time_varying_regression': False, 'trend': None, 'trend_offset': 1, 'use_exact_diffuse': False, 'validate_specification': True} \n",
       "fit_kwargs: {} \n",
       "Window size: 1 \n",
       "Transformer for y: None \n",
       "Transformer for exog: None \n",
       "Exogenous included: False \n",
       "Type of exogenous variable: None \n",
       "Exogenous variables names: None \n",
       "Training range: None \n",
       "Training index type: None \n",
       "Training index frequency: None \n",
       "Creation date: 2023-07-30 18:43:53 \n",
       "Last fit date: None \n",
       "Index seen by the forecaster: None \n",
       "Skforecast version: 0.9.1 \n",
       "Python version: 3.10.11 \n",
       "Forecaster id: None "
      ]
     },
     "execution_count": 37,
     "metadata": {},
     "output_type": "execute_result"
    }
   ],
   "source": [
    "# Create ForecasterSarimax\n",
    "# ======================================================================================\n",
    "forecaster = ForecasterSarimax(\n",
    "                 regressor=Sarimax(order=(12, 1, 1), seasonal_order=(0, 0, 0, 0), maxiter=200)\n",
    "             )\n",
    "forecaster"
   ]
  },
  {
   "cell_type": "code",
   "execution_count": 38,
   "metadata": {},
   "outputs": [
    {
     "name": "stderr",
     "output_type": "stream",
     "text": [
      "c:\\Users\\jaesc2\\Miniconda3\\envs\\skforecast\\lib\\site-packages\\statsmodels\\tsa\\statespace\\sarimax.py:966: UserWarning: Non-stationary starting autoregressive parameters found. Using zeros as starting parameters.\n",
      "  warn('Non-stationary starting autoregressive parameters'\n"
     ]
    }
   ],
   "source": [
    "forecaster.fit(y=data_train)"
   ]
  },
  {
   "cell_type": "code",
   "execution_count": 39,
   "metadata": {},
   "outputs": [
    {
     "data": {
      "text/plain": [
       "2005-07-01    0.954925\n",
       "2005-08-01    0.957182\n",
       "2005-09-01    1.107026\n",
       "Freq: MS, Name: pred, dtype: float64"
      ]
     },
     "execution_count": 39,
     "metadata": {},
     "output_type": "execute_result"
    }
   ],
   "source": [
    "# Predict\n",
    "# ======================================================================================\n",
    "predictions = forecaster.predict(steps=36)\n",
    "predictions.head(3)"
   ]
  },
  {
   "cell_type": "code",
   "execution_count": 40,
   "metadata": {},
   "outputs": [
    {
     "data": {
      "text/html": [
       "<div>\n",
       "<style scoped>\n",
       "    .dataframe tbody tr th:only-of-type {\n",
       "        vertical-align: middle;\n",
       "    }\n",
       "\n",
       "    .dataframe tbody tr th {\n",
       "        vertical-align: top;\n",
       "    }\n",
       "\n",
       "    .dataframe thead th {\n",
       "        text-align: right;\n",
       "    }\n",
       "</style>\n",
       "<table border=\"1\" class=\"dataframe\">\n",
       "  <thead>\n",
       "    <tr style=\"text-align: right;\">\n",
       "      <th></th>\n",
       "      <th>feature</th>\n",
       "      <th>importance</th>\n",
       "    </tr>\n",
       "  </thead>\n",
       "  <tbody>\n",
       "    <tr>\n",
       "      <th>0</th>\n",
       "      <td>ar.L1</td>\n",
       "      <td>-0.037589</td>\n",
       "    </tr>\n",
       "    <tr>\n",
       "      <th>1</th>\n",
       "      <td>ar.L2</td>\n",
       "      <td>-0.070507</td>\n",
       "    </tr>\n",
       "    <tr>\n",
       "      <th>2</th>\n",
       "      <td>ar.L3</td>\n",
       "      <td>-0.040790</td>\n",
       "    </tr>\n",
       "    <tr>\n",
       "      <th>3</th>\n",
       "      <td>ar.L4</td>\n",
       "      <td>-0.092181</td>\n",
       "    </tr>\n",
       "    <tr>\n",
       "      <th>4</th>\n",
       "      <td>ar.L5</td>\n",
       "      <td>-0.054623</td>\n",
       "    </tr>\n",
       "    <tr>\n",
       "      <th>5</th>\n",
       "      <td>ar.L6</td>\n",
       "      <td>-0.046340</td>\n",
       "    </tr>\n",
       "    <tr>\n",
       "      <th>6</th>\n",
       "      <td>ar.L7</td>\n",
       "      <td>-0.091918</td>\n",
       "    </tr>\n",
       "    <tr>\n",
       "      <th>7</th>\n",
       "      <td>ar.L8</td>\n",
       "      <td>-0.038640</td>\n",
       "    </tr>\n",
       "    <tr>\n",
       "      <th>8</th>\n",
       "      <td>ar.L9</td>\n",
       "      <td>-0.065848</td>\n",
       "    </tr>\n",
       "    <tr>\n",
       "      <th>9</th>\n",
       "      <td>ar.L10</td>\n",
       "      <td>-0.066498</td>\n",
       "    </tr>\n",
       "    <tr>\n",
       "      <th>10</th>\n",
       "      <td>ar.L11</td>\n",
       "      <td>0.005131</td>\n",
       "    </tr>\n",
       "    <tr>\n",
       "      <th>11</th>\n",
       "      <td>ar.L12</td>\n",
       "      <td>0.848763</td>\n",
       "    </tr>\n",
       "    <tr>\n",
       "      <th>12</th>\n",
       "      <td>ma.L1</td>\n",
       "      <td>-0.601359</td>\n",
       "    </tr>\n",
       "    <tr>\n",
       "      <th>13</th>\n",
       "      <td>sigma2</td>\n",
       "      <td>0.002538</td>\n",
       "    </tr>\n",
       "  </tbody>\n",
       "</table>\n",
       "</div>"
      ],
      "text/plain": [
       "   feature  importance\n",
       "0    ar.L1   -0.037589\n",
       "1    ar.L2   -0.070507\n",
       "2    ar.L3   -0.040790\n",
       "3    ar.L4   -0.092181\n",
       "4    ar.L5   -0.054623\n",
       "5    ar.L6   -0.046340\n",
       "6    ar.L7   -0.091918\n",
       "7    ar.L8   -0.038640\n",
       "8    ar.L9   -0.065848\n",
       "9   ar.L10   -0.066498\n",
       "10  ar.L11    0.005131\n",
       "11  ar.L12    0.848763\n",
       "12   ma.L1   -0.601359\n",
       "13  sigma2    0.002538"
      ]
     },
     "execution_count": 40,
     "metadata": {},
     "output_type": "execute_result"
    }
   ],
   "source": [
    "forecaster.get_feature_importances()"
   ]
  },
  {
   "cell_type": "markdown",
   "metadata": {},
   "source": [
    "### Backtesting"
   ]
  },
  {
   "cell_type": "code",
   "execution_count": 42,
   "metadata": {},
   "outputs": [
    {
     "name": "stderr",
     "output_type": "stream",
     "text": [
      "c:\\Users\\jaesc2\\Miniconda3\\envs\\skforecast\\lib\\site-packages\\statsmodels\\tsa\\statespace\\sarimax.py:966: UserWarning: Non-stationary starting autoregressive parameters found. Using zeros as starting parameters.\n",
      "  warn('Non-stationary starting autoregressive parameters'\n"
     ]
    },
    {
     "name": "stdout",
     "output_type": "stream",
     "text": [
      "Information of backtesting process\n",
      "----------------------------------\n",
      "Number of observations used for initial training: 168\n",
      "Number of observations used for backtesting: 36\n",
      "    Number of folds: 3\n",
      "    Number of steps per fold: 12\n",
      "    Number of steps to exclude from the end of each train set before test (gap): 0\n",
      "\n",
      "Fold: 0\n",
      "    Training:   1991-07-01 00:00:00 -- 2005-06-01 00:00:00  (n=168)\n",
      "    Validation: 2005-07-01 00:00:00 -- 2006-06-01 00:00:00  (n=12)\n",
      "Fold: 1\n",
      "    Training:   1991-07-01 00:00:00 -- 2006-06-01 00:00:00  (n=180)\n",
      "    Validation: 2006-07-01 00:00:00 -- 2007-06-01 00:00:00  (n=12)\n",
      "Fold: 2\n",
      "    Training:   1991-07-01 00:00:00 -- 2007-06-01 00:00:00  (n=192)\n",
      "    Validation: 2007-07-01 00:00:00 -- 2008-06-01 00:00:00  (n=12)\n",
      "\n"
     ]
    },
    {
     "data": {
      "application/vnd.jupyter.widget-view+json": {
       "model_id": "f13d05a136cd4d1086a3503b6f840fb1",
       "version_major": 2,
       "version_minor": 0
      },
      "text/plain": [
       "  0%|          | 0/3 [00:00<?, ?it/s]"
      ]
     },
     "metadata": {},
     "output_type": "display_data"
    }
   ],
   "source": [
    "# Backtest forecaster\n",
    "# ======================================================================================\n",
    "forecaster = ForecasterSarimax(\n",
    "                 regressor=Sarimax(order=(12, 1, 1), seasonal_order=(0, 0, 0, 0), maxiter=200)\n",
    "             )\n",
    "\n",
    "metric, predictions = backtesting_sarimax(\n",
    "                          forecaster         = forecaster,\n",
    "                          y                  = data,\n",
    "                          initial_train_size = len(data_train),\n",
    "                          fixed_train_size   = False,\n",
    "                          steps              = 12,\n",
    "                          metric             = 'mean_absolute_error',\n",
    "                          refit              = True,\n",
    "                          n_jobs             = -1,\n",
    "                          verbose            = True,\n",
    "                          show_progress      = True\n",
    "                      )"
   ]
  },
  {
   "cell_type": "code",
   "execution_count": null,
   "metadata": {},
   "outputs": [],
   "source": []
  },
  {
   "cell_type": "markdown",
   "metadata": {},
   "source": [
    "## Grid"
   ]
  },
  {
   "cell_type": "code",
   "execution_count": 43,
   "metadata": {},
   "outputs": [
    {
     "name": "stdout",
     "output_type": "stream",
     "text": [
      "Train dates      : 1991-07-01 00:00:00 --- 2001-01-01 00:00:00  (n=115)\n",
      "Validation dates : 2001-02-01 00:00:00 --- 2006-01-01 00:00:00  (n=60)\n",
      "Test dates       : 2006-02-01 00:00:00 --- 2008-06-01 00:00:00  (n=29)\n"
     ]
    },
    {
     "data": {
      "image/png": "[encoded data removed]",
      "text/plain": [
       "<Figure size 700x300 with 1 Axes>"
      ]
     },
     "metadata": {},
     "output_type": "display_data"
    }
   ],
   "source": [
    "# Train-validation-test data\n",
    "# ======================================================================================\n",
    "end_train = '2001-01-01 23:59:00'\n",
    "end_val = '2006-01-01 23:59:00'\n",
    "\n",
    "print(f\"Train dates      : {data.index.min()} --- {data.loc[:end_train].index.max()}  (n={len(data.loc[:end_train])})\")\n",
    "print(f\"Validation dates : {data.loc[end_train:].index.min()} --- {data.loc[:end_val].index.max()}  (n={len(data.loc[end_train:end_val])})\")\n",
    "print(f\"Test dates       : {data.loc[end_val:].index.min()} --- {data.index.max()}  (n={len(data.loc[end_val:])})\")\n",
    "\n",
    "# Plot\n",
    "# ======================================================================================\n",
    "fig, ax=plt.subplots(figsize=(7, 3))\n",
    "data.loc[:end_train].plot(ax=ax, label='train')\n",
    "data.loc[end_train:end_val].plot(ax=ax, label='validation')\n",
    "data.loc[end_val:].plot(ax=ax, label='test')\n",
    "ax.legend();"
   ]
  },
  {
   "cell_type": "code",
   "execution_count": 60,
   "metadata": {},
   "outputs": [
    {
     "data": {
      "text/plain": [
       "{'order': (12, 1, 1),\n",
       " 'seasonal_order': (0, 0, 0, 0),\n",
       " 'trend': None,\n",
       " 'measurement_error': False,\n",
       " 'time_varying_regression': False,\n",
       " 'mle_regression': True,\n",
       " 'simple_differencing': False,\n",
       " 'enforce_stationarity': True,\n",
       " 'enforce_invertibility': True,\n",
       " 'hamilton_representation': False,\n",
       " 'concentrate_scale': False,\n",
       " 'trend_offset': 1,\n",
       " 'use_exact_diffuse': False,\n",
       " 'dates': None,\n",
       " 'freq': None,\n",
       " 'missing': 'none',\n",
       " 'validate_specification': True,\n",
       " 'method': 'lbfgs',\n",
       " 'maxiter': 200,\n",
       " 'start_params': None,\n",
       " 'disp': False,\n",
       " 'sm_init_kwargs': {},\n",
       " 'sm_fit_kwargs': {},\n",
       " 'sm_predict_kwargs': {}}"
      ]
     },
     "execution_count": 60,
     "metadata": {},
     "output_type": "execute_result"
    }
   ],
   "source": [
    "forecaster = ForecasterSarimax(\n",
    "                 regressor=Sarimax(order=(12, 1, 1), seasonal_order=(0, 0, 0, 0), maxiter=200)\n",
    "             )\n",
    "\n",
    "forecaster.regressor._sarimax_params"
   ]
  },
  {
   "cell_type": "code",
   "execution_count": 61,
   "metadata": {},
   "outputs": [
    {
     "name": "stdout",
     "output_type": "stream",
     "text": [
      "{'order': (1, 1, 1)}\n"
     ]
    },
    {
     "data": {
      "text/plain": [
       "(1, 1, 1)"
      ]
     },
     "execution_count": 61,
     "metadata": {},
     "output_type": "execute_result"
    }
   ],
   "source": [
    "forecaster.set_params({'order': (1,1,1)})\n",
    "forecaster.regressor.order"
   ]
  },
  {
   "cell_type": "code",
   "execution_count": 62,
   "metadata": {},
   "outputs": [
    {
     "name": "stdout",
     "output_type": "stream",
     "text": [
      "Number of models compared: 12.\n"
     ]
    },
    {
     "data": {
      "application/vnd.jupyter.widget-view+json": {
       "model_id": "79cf8a4173804becb2e03d508d0c92a1",
       "version_major": 2,
       "version_minor": 0
      },
      "text/plain": [
       "params grid:   0%|          | 0/12 [00:00<?, ?it/s]"
      ]
     },
     "metadata": {},
     "output_type": "display_data"
    },
    {
     "name": "stdout",
     "output_type": "stream",
     "text": [
      "{'order': (12, 0, 0), 'seasonal_order': (0, 0, 0, 0), 'trend': None}\n"
     ]
    },
    {
     "name": "stderr",
     "output_type": "stream",
     "text": [
      "c:\\Users\\jaesc2\\Miniconda3\\envs\\skforecast\\lib\\site-packages\\statsmodels\\tsa\\statespace\\sarimax.py:966: UserWarning: Non-stationary starting autoregressive parameters found. Using zeros as starting parameters.\n",
      "  warn('Non-stationary starting autoregressive parameters'\n",
      "c:\\Users\\jaesc2\\Miniconda3\\envs\\skforecast\\lib\\site-packages\\statsmodels\\base\\model.py:607: ConvergenceWarning: Maximum Likelihood optimization failed to converge. Check mle_retvals\n",
      "  warnings.warn(\"Maximum Likelihood optimization failed to \"\n"
     ]
    },
    {
     "name": "stdout",
     "output_type": "stream",
     "text": [
      "{'order': (12, 0, 0), 'seasonal_order': (0, 0, 0, 0), 'trend': 'n'}\n"
     ]
    },
    {
     "name": "stderr",
     "output_type": "stream",
     "text": [
      "c:\\Users\\jaesc2\\Miniconda3\\envs\\skforecast\\lib\\site-packages\\statsmodels\\tsa\\statespace\\sarimax.py:966: UserWarning: Non-stationary starting autoregressive parameters found. Using zeros as starting parameters.\n",
      "  warn('Non-stationary starting autoregressive parameters'\n",
      "c:\\Users\\jaesc2\\Miniconda3\\envs\\skforecast\\lib\\site-packages\\statsmodels\\base\\model.py:607: ConvergenceWarning: Maximum Likelihood optimization failed to converge. Check mle_retvals\n",
      "  warnings.warn(\"Maximum Likelihood optimization failed to \"\n"
     ]
    },
    {
     "name": "stdout",
     "output_type": "stream",
     "text": [
      "{'order': (12, 0, 0), 'seasonal_order': (0, 0, 0, 0), 'trend': 'c'}\n"
     ]
    },
    {
     "name": "stderr",
     "output_type": "stream",
     "text": [
      "c:\\Users\\jaesc2\\Miniconda3\\envs\\skforecast\\lib\\site-packages\\statsmodels\\tsa\\statespace\\sarimax.py:966: UserWarning: Non-stationary starting autoregressive parameters found. Using zeros as starting parameters.\n",
      "  warn('Non-stationary starting autoregressive parameters'\n",
      "c:\\Users\\jaesc2\\Miniconda3\\envs\\skforecast\\lib\\site-packages\\statsmodels\\base\\model.py:607: ConvergenceWarning: Maximum Likelihood optimization failed to converge. Check mle_retvals\n",
      "  warnings.warn(\"Maximum Likelihood optimization failed to \"\n"
     ]
    },
    {
     "name": "stdout",
     "output_type": "stream",
     "text": [
      "{'order': (12, 1, 0), 'seasonal_order': (0, 0, 0, 0), 'trend': None}\n"
     ]
    },
    {
     "name": "stderr",
     "output_type": "stream",
     "text": [
      "c:\\Users\\jaesc2\\Miniconda3\\envs\\skforecast\\lib\\site-packages\\statsmodels\\tsa\\statespace\\sarimax.py:966: UserWarning: Non-stationary starting autoregressive parameters found. Using zeros as starting parameters.\n",
      "  warn('Non-stationary starting autoregressive parameters'\n"
     ]
    },
    {
     "name": "stdout",
     "output_type": "stream",
     "text": [
      "{'order': (12, 1, 0), 'seasonal_order': (0, 0, 0, 0), 'trend': 'n'}\n"
     ]
    },
    {
     "name": "stderr",
     "output_type": "stream",
     "text": [
      "c:\\Users\\jaesc2\\Miniconda3\\envs\\skforecast\\lib\\site-packages\\statsmodels\\tsa\\statespace\\sarimax.py:966: UserWarning: Non-stationary starting autoregressive parameters found. Using zeros as starting parameters.\n",
      "  warn('Non-stationary starting autoregressive parameters'\n"
     ]
    },
    {
     "name": "stdout",
     "output_type": "stream",
     "text": [
      "{'order': (12, 1, 0), 'seasonal_order': (0, 0, 0, 0), 'trend': 'c'}\n"
     ]
    },
    {
     "name": "stderr",
     "output_type": "stream",
     "text": [
      "c:\\Users\\jaesc2\\Miniconda3\\envs\\skforecast\\lib\\site-packages\\statsmodels\\tsa\\statespace\\sarimax.py:966: UserWarning: Non-stationary starting autoregressive parameters found. Using zeros as starting parameters.\n",
      "  warn('Non-stationary starting autoregressive parameters'\n"
     ]
    },
    {
     "name": "stdout",
     "output_type": "stream",
     "text": [
      "{'order': (12, 1, 1), 'seasonal_order': (0, 0, 0, 0), 'trend': None}\n"
     ]
    },
    {
     "name": "stderr",
     "output_type": "stream",
     "text": [
      "c:\\Users\\jaesc2\\Miniconda3\\envs\\skforecast\\lib\\site-packages\\statsmodels\\tsa\\statespace\\sarimax.py:966: UserWarning: Non-stationary starting autoregressive parameters found. Using zeros as starting parameters.\n",
      "  warn('Non-stationary starting autoregressive parameters'\n"
     ]
    },
    {
     "name": "stdout",
     "output_type": "stream",
     "text": [
      "{'order': (12, 1, 1), 'seasonal_order': (0, 0, 0, 0), 'trend': 'n'}\n"
     ]
    },
    {
     "name": "stderr",
     "output_type": "stream",
     "text": [
      "c:\\Users\\jaesc2\\Miniconda3\\envs\\skforecast\\lib\\site-packages\\statsmodels\\tsa\\statespace\\sarimax.py:966: UserWarning: Non-stationary starting autoregressive parameters found. Using zeros as starting parameters.\n",
      "  warn('Non-stationary starting autoregressive parameters'\n"
     ]
    },
    {
     "name": "stdout",
     "output_type": "stream",
     "text": [
      "{'order': (12, 1, 1), 'seasonal_order': (0, 0, 0, 0), 'trend': 'c'}\n"
     ]
    },
    {
     "name": "stderr",
     "output_type": "stream",
     "text": [
      "c:\\Users\\jaesc2\\Miniconda3\\envs\\skforecast\\lib\\site-packages\\statsmodels\\tsa\\statespace\\sarimax.py:966: UserWarning: Non-stationary starting autoregressive parameters found. Using zeros as starting parameters.\n",
      "  warn('Non-stationary starting autoregressive parameters'\n"
     ]
    },
    {
     "name": "stdout",
     "output_type": "stream",
     "text": [
      "{'order': (14, 1, 4), 'seasonal_order': (0, 0, 0, 0), 'trend': None}\n"
     ]
    },
    {
     "name": "stderr",
     "output_type": "stream",
     "text": [
      "c:\\Users\\jaesc2\\Miniconda3\\envs\\skforecast\\lib\\site-packages\\statsmodels\\tsa\\statespace\\sarimax.py:966: UserWarning: Non-stationary starting autoregressive parameters found. Using zeros as starting parameters.\n",
      "  warn('Non-stationary starting autoregressive parameters'\n",
      "c:\\Users\\jaesc2\\Miniconda3\\envs\\skforecast\\lib\\site-packages\\statsmodels\\base\\model.py:607: ConvergenceWarning: Maximum Likelihood optimization failed to converge. Check mle_retvals\n",
      "  warnings.warn(\"Maximum Likelihood optimization failed to \"\n"
     ]
    },
    {
     "name": "stdout",
     "output_type": "stream",
     "text": [
      "{'order': (14, 1, 4), 'seasonal_order': (0, 0, 0, 0), 'trend': 'n'}\n"
     ]
    },
    {
     "name": "stderr",
     "output_type": "stream",
     "text": [
      "c:\\Users\\jaesc2\\Miniconda3\\envs\\skforecast\\lib\\site-packages\\statsmodels\\tsa\\statespace\\sarimax.py:966: UserWarning: Non-stationary starting autoregressive parameters found. Using zeros as starting parameters.\n",
      "  warn('Non-stationary starting autoregressive parameters'\n",
      "c:\\Users\\jaesc2\\Miniconda3\\envs\\skforecast\\lib\\site-packages\\statsmodels\\base\\model.py:607: ConvergenceWarning: Maximum Likelihood optimization failed to converge. Check mle_retvals\n",
      "  warnings.warn(\"Maximum Likelihood optimization failed to \"\n"
     ]
    },
    {
     "name": "stdout",
     "output_type": "stream",
     "text": [
      "{'order': (14, 1, 4), 'seasonal_order': (0, 0, 0, 0), 'trend': 'c'}\n"
     ]
    },
    {
     "name": "stderr",
     "output_type": "stream",
     "text": [
      "c:\\Users\\jaesc2\\Miniconda3\\envs\\skforecast\\lib\\site-packages\\statsmodels\\tsa\\statespace\\sarimax.py:966: UserWarning: Non-stationary starting autoregressive parameters found. Using zeros as starting parameters.\n",
      "  warn('Non-stationary starting autoregressive parameters'\n",
      "c:\\Users\\jaesc2\\Miniconda3\\envs\\skforecast\\lib\\site-packages\\statsmodels\\base\\model.py:607: ConvergenceWarning: Maximum Likelihood optimization failed to converge. Check mle_retvals\n",
      "  warnings.warn(\"Maximum Likelihood optimization failed to \"\n"
     ]
    },
    {
     "name": "stdout",
     "output_type": "stream",
     "text": [
      "{'order': (12, 1, 1), 'seasonal_order': (0, 0, 0, 0), 'trend': None}\n"
     ]
    },
    {
     "name": "stderr",
     "output_type": "stream",
     "text": [
      "c:\\Users\\jaesc2\\Miniconda3\\envs\\skforecast\\lib\\site-packages\\statsmodels\\tsa\\statespace\\sarimax.py:966: UserWarning: Non-stationary starting autoregressive parameters found. Using zeros as starting parameters.\n",
      "  warn('Non-stationary starting autoregressive parameters'\n"
     ]
    },
    {
     "name": "stdout",
     "output_type": "stream",
     "text": [
      "`Forecaster` refitted using the best-found parameters, and the whole data set: \n",
      "  Parameters: {'order': (12, 1, 1), 'seasonal_order': (0, 0, 0, 0), 'trend': None}\n",
      "  Backtesting metric: 0.06799312252877558\n",
      "\n"
     ]
    },
    {
     "data": {
      "text/html": [
       "<div>\n",
       "<style scoped>\n",
       "    .dataframe tbody tr th:only-of-type {\n",
       "        vertical-align: middle;\n",
       "    }\n",
       "\n",
       "    .dataframe tbody tr th {\n",
       "        vertical-align: top;\n",
       "    }\n",
       "\n",
       "    .dataframe thead th {\n",
       "        text-align: right;\n",
       "    }\n",
       "</style>\n",
       "<table border=\"1\" class=\"dataframe\">\n",
       "  <thead>\n",
       "    <tr style=\"text-align: right;\">\n",
       "      <th></th>\n",
       "      <th>params</th>\n",
       "      <th>mean_absolute_error</th>\n",
       "      <th>order</th>\n",
       "      <th>seasonal_order</th>\n",
       "      <th>trend</th>\n",
       "    </tr>\n",
       "  </thead>\n",
       "  <tbody>\n",
       "    <tr>\n",
       "      <th>6</th>\n",
       "      <td>{'order': (12, 1, 1), 'seasonal_order': (0, 0,...</td>\n",
       "      <td>0.067993</td>\n",
       "      <td>(12, 1, 1)</td>\n",
       "      <td>(0, 0, 0, 0)</td>\n",
       "      <td>None</td>\n",
       "    </tr>\n",
       "    <tr>\n",
       "      <th>7</th>\n",
       "      <td>{'order': (12, 1, 1), 'seasonal_order': (0, 0,...</td>\n",
       "      <td>0.067993</td>\n",
       "      <td>(12, 1, 1)</td>\n",
       "      <td>(0, 0, 0, 0)</td>\n",
       "      <td>n</td>\n",
       "    </tr>\n",
       "    <tr>\n",
       "      <th>9</th>\n",
       "      <td>{'order': (14, 1, 4), 'seasonal_order': (0, 0,...</td>\n",
       "      <td>0.072158</td>\n",
       "      <td>(14, 1, 4)</td>\n",
       "      <td>(0, 0, 0, 0)</td>\n",
       "      <td>None</td>\n",
       "    </tr>\n",
       "    <tr>\n",
       "      <th>10</th>\n",
       "      <td>{'order': (14, 1, 4), 'seasonal_order': (0, 0,...</td>\n",
       "      <td>0.072158</td>\n",
       "      <td>(14, 1, 4)</td>\n",
       "      <td>(0, 0, 0, 0)</td>\n",
       "      <td>n</td>\n",
       "    </tr>\n",
       "    <tr>\n",
       "      <th>2</th>\n",
       "      <td>{'order': (12, 0, 0), 'seasonal_order': (0, 0,...</td>\n",
       "      <td>0.076132</td>\n",
       "      <td>(12, 0, 0)</td>\n",
       "      <td>(0, 0, 0, 0)</td>\n",
       "      <td>c</td>\n",
       "    </tr>\n",
       "  </tbody>\n",
       "</table>\n",
       "</div>"
      ],
      "text/plain": [
       "                                               params  mean_absolute_error  \\\n",
       "6   {'order': (12, 1, 1), 'seasonal_order': (0, 0,...             0.067993   \n",
       "7   {'order': (12, 1, 1), 'seasonal_order': (0, 0,...             0.067993   \n",
       "9   {'order': (14, 1, 4), 'seasonal_order': (0, 0,...             0.072158   \n",
       "10  {'order': (14, 1, 4), 'seasonal_order': (0, 0,...             0.072158   \n",
       "2   {'order': (12, 0, 0), 'seasonal_order': (0, 0,...             0.076132   \n",
       "\n",
       "         order seasonal_order trend  \n",
       "6   (12, 1, 1)   (0, 0, 0, 0)  None  \n",
       "7   (12, 1, 1)   (0, 0, 0, 0)     n  \n",
       "9   (14, 1, 4)   (0, 0, 0, 0)  None  \n",
       "10  (14, 1, 4)   (0, 0, 0, 0)     n  \n",
       "2   (12, 0, 0)   (0, 0, 0, 0)     c  "
      ]
     },
     "execution_count": 62,
     "metadata": {},
     "output_type": "execute_result"
    }
   ],
   "source": [
    "# Grid search hyperparameter\n",
    "# ======================================================================================\n",
    "forecaster = ForecasterSarimax(\n",
    "                 regressor=Sarimax(order=(12, 1, 1), seasonal_order=(0, 0, 0, 0), maxiter=200)\n",
    "             )\n",
    "\n",
    "param_grid = {\n",
    "    'order': [(12, 0, 0), (12, 1, 0), (12, 1, 1), (14, 1, 4)],\n",
    "    'seasonal_order': [(0, 0, 0, 0)],\n",
    "    'trend': [None, 'n', 'c']\n",
    "}\n",
    "\n",
    "results_grid = grid_search_sarimax(\n",
    "                   forecaster         = forecaster,\n",
    "                   y                  = data.loc[:end_val],\n",
    "                   param_grid         = param_grid,\n",
    "                   steps              = 12,\n",
    "                   refit              = True,\n",
    "                   metric             = 'mean_absolute_error',\n",
    "                   initial_train_size = len(data_train),\n",
    "                   fixed_train_size   = False,\n",
    "                   return_best        = True,\n",
    "                   n_jobs             = -1,\n",
    "                   verbose            = False,\n",
    "                   show_progress      = True\n",
    "               )\n",
    "\n",
    "results_grid.head(5)"
   ]
  },
  {
   "cell_type": "code",
   "execution_count": null,
   "metadata": {},
   "outputs": [],
   "source": []
  },
  {
   "cell_type": "code",
   "execution_count": null,
   "metadata": {},
   "outputs": [],
   "source": []
  },
  {
   "cell_type": "code",
   "execution_count": null,
   "metadata": {},
   "outputs": [],
   "source": []
  },
  {
   "cell_type": "code",
   "execution_count": null,
   "metadata": {},
   "outputs": [],
   "source": []
  }
 ],
 "metadata": {
  "kernelspec": {
   "display_name": "cienciadedatos_p10",
   "language": "python",
   "name": "python3"
  },
  "language_info": {
   "codemirror_mode": {
    "name": "ipython",
    "version": 3
   },
   "file_extension": ".py",
   "mimetype": "text/x-python",
   "name": "python",
   "nbconvert_exporter": "python",
   "pygments_lexer": "ipython3",
   "version": "3.10.11"
  },
  "orig_nbformat": 4
 },
 "nbformat": 4,
 "nbformat_minor": 2
}
