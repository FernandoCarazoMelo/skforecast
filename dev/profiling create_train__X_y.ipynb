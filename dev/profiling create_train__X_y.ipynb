{
 "cells": [
  {
   "cell_type": "code",
   "execution_count": 23,
   "metadata": {},
   "outputs": [
    {
     "name": "stdout",
     "output_type": "stream",
     "text": [
      "The autoreload extension is already loaded. To reload it, use:\n",
      "  %reload_ext autoreload\n"
     ]
    },
    {
     "data": {
      "text/plain": [
       "'/home/ubuntu/varios/skforecast'"
      ]
     },
     "execution_count": 23,
     "metadata": {},
     "output_type": "execute_result"
    }
   ],
   "source": [
    "%load_ext autoreload\n",
    "%autoreload 2\n",
    "import sys\n",
    "from pathlib import Path\n",
    "sys.path.insert(1, str(Path.cwd().parent))\n",
    "str(Path.cwd().parent)"
   ]
  },
  {
   "cell_type": "code",
   "execution_count": 24,
   "metadata": {},
   "outputs": [],
   "source": [
    "import numpy as np \n",
    "import pandas as pd\n",
    "from typing import Tuple, Optional, Union\n",
    "from skforecast.ForecasterAutoreg import ForecasterAutoreg\n",
    "from sklearn.linear_model import LinearRegression\n",
    "from skforecast.utils import check_y\n",
    "from skforecast.utils import transform_series\n",
    "from skforecast.utils import preprocess_y\n",
    "import time\n",
    "from numba import njit"
   ]
  },
  {
   "cell_type": "code",
   "execution_count": 29,
   "metadata": {},
   "outputs": [],
   "source": [
    "def _create_lags(\n",
    "    self, \n",
    "    y: np.ndarray\n",
    ") -> Tuple[np.ndarray, np.ndarray]:\n",
    "    \"\"\"       \n",
    "    Transforms a 1d array into a 2d array (X) and a 1d array (y). Each row\n",
    "    in X is associated with a value of y and it represents the lags that\n",
    "    precede it.\n",
    "    \n",
    "    Notice that, the returned matrix X_data, contains the lag 1 in the first\n",
    "    column, the lag 2 in the second column and so on.\n",
    "    \n",
    "    Parameters\n",
    "    ----------        \n",
    "    y : 1d numpy ndarray\n",
    "        Training time series.\n",
    "\n",
    "    Returns \n",
    "    -------\n",
    "    X_data : 2d numpy ndarray, shape (samples - max(self.lags), len(self.lags))\n",
    "        2d numpy array with the lagged values (predictors).\n",
    "    \n",
    "    y_data : 1d numpy ndarray, shape (samples - max(self.lags),)\n",
    "        Values of the time series related to each row of `X_data`.\n",
    "    \n",
    "    \"\"\"\n",
    "        \n",
    "    n_splits = len(y) - self.max_lag\n",
    "    if n_splits <= 0:\n",
    "        raise ValueError(\n",
    "            f'The maximum lag ({self.max_lag}) must be less than the length '\n",
    "            f'of the series ({len(y)}).'\n",
    "        )\n",
    "    \n",
    "    X_data = np.full(shape=(n_splits, len(self.lags)), fill_value=np.nan, dtype=float)\n",
    "\n",
    "    for i, lag in enumerate(self.lags):\n",
    "        X_data[:, i] = y[self.max_lag - lag: -lag]\n",
    "\n",
    "    y_data = y[self.max_lag:]\n",
    "        \n",
    "    return X_data, y_data\n",
    "\n",
    "@njit\n",
    "def _create_lags_jit(\n",
    "    max_lag,\n",
    "    lags,\n",
    "    y: np.ndarray\n",
    ") -> Tuple[np.ndarray, np.ndarray]:\n",
    "    \"\"\"       \n",
    "    Transforms a 1d array into a 2d array (X) and a 1d array (y). Each row\n",
    "    in X is associated with a value of y and it represents the lags that\n",
    "    precede it.\n",
    "    \n",
    "    Notice that, the returned matrix X_data, contains the lag 1 in the first\n",
    "    column, the lag 2 in the second column and so on.\n",
    "    \n",
    "    Parameters\n",
    "    ----------        \n",
    "    y : 1d numpy ndarray\n",
    "        Training time series.\n",
    "\n",
    "    Returns \n",
    "    -------\n",
    "    X_data : 2d numpy ndarray, shape (samples - max(self.lags), len(self.lags))\n",
    "        2d numpy array with the lagged values (predictors).\n",
    "    \n",
    "    y_data : 1d numpy ndarray, shape (samples - max(self.lags),)\n",
    "        Values of the time series related to each row of `X_data`.\n",
    "    \n",
    "    \"\"\"\n",
    "        \n",
    "    n_splits = len(y) - max_lag    \n",
    "    X_data = np.empty(shape=(n_splits, len(lags)))\n",
    "\n",
    "    for i in range(len(lags)):\n",
    "        X_data[:, i] = y[max_lag - lags[i]: -lags[i]]\n",
    "\n",
    "    y_data = y[max_lag:]\n",
    "        \n",
    "    return X_data, y_data"
   ]
  },
  {
   "cell_type": "code",
   "execution_count": 30,
   "metadata": {},
   "outputs": [],
   "source": [
    "lags = 500\n",
    "self = ForecasterAutoreg(regressor=LinearRegression(), lags=lags)\n",
    "y = pd.Series(np.random.normal(size=100000))"
   ]
  },
  {
   "cell_type": "code",
   "execution_count": 31,
   "metadata": {},
   "outputs": [
    {
     "name": "stdout",
     "output_type": "stream",
     "text": [
      "Time taken: 0.25193142890930176\n"
     ]
    }
   ],
   "source": [
    "start = time.time()\n",
    "X = _create_lags(self, y=y.values)\n",
    "print(f\"Time taken: {time.time() - start}\")"
   ]
  },
  {
   "cell_type": "code",
   "execution_count": 34,
   "metadata": {},
   "outputs": [
    {
     "name": "stdout",
     "output_type": "stream",
     "text": [
      "Time taken: 0.6670100688934326\n"
     ]
    }
   ],
   "source": [
    "start = time.time()\n",
    "X = _create_lags_jit(max_lag = self.max_lag, lags=self.lags, y=y.values)\n",
    "print(f\"Time taken: {time.time() - start}\")"
   ]
  }
 ],
 "metadata": {
  "kernelspec": {
   "display_name": "skforecast_py10",
   "language": "python",
   "name": "python3"
  },
  "language_info": {
   "codemirror_mode": {
    "name": "ipython",
    "version": 3
   },
   "file_extension": ".py",
   "mimetype": "text/x-python",
   "name": "python",
   "nbconvert_exporter": "python",
   "pygments_lexer": "ipython3",
   "version": "3.10.9"
  },
  "orig_nbformat": 4,
  "vscode": {
   "interpreter": {
    "hash": "c78d62c1713fdacd99ef7c429003c7324b36fbb551fb8b6860a7ea73e9338235"
   }
  }
 },
 "nbformat": 4,
 "nbformat_minor": 2
}
