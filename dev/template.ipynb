{
 "cells": [
  {
   "cell_type": "code",
   "execution_count": 2,
   "metadata": {},
   "outputs": [
    {
     "data": {
      "text/plain": [
       "'/home/ximo/Documents/GitHub/skforecast'"
      ]
     },
     "execution_count": 2,
     "metadata": {},
     "output_type": "execute_result"
    }
   ],
   "source": [
    "%load_ext autoreload\n",
    "%autoreload 2\n",
    "import sys\n",
    "from pathlib import Path\n",
    "sys.path.insert(1, str(Path.cwd().parent))\n",
    "str(Path.cwd().parent)"
   ]
  },
  {
   "cell_type": "code",
   "execution_count": 3,
   "metadata": {},
   "outputs": [],
   "source": [
    "# Unit test create_train_X_y ForecasterAutoregCustom\n",
    "# ==============================================================================\n",
    "import re\n",
    "import pytest\n",
    "import numpy as np\n",
    "import pandas as pd\n",
    "from skforecast.ForecasterAutoregCustom import ForecasterAutoregCustom\n",
    "from sklearn.linear_model import LinearRegression\n",
    "\n",
    "\n",
    "def create_predictors(y): # pragma: no cover\n",
    "    \"\"\"\n",
    "    Create first 5 lags of a time series.\n",
    "    \"\"\"\n",
    "    lags = y[-1:-6:-1]\n",
    "    return lags"
   ]
  },
  {
   "cell_type": "code",
   "execution_count": 8,
   "metadata": {},
   "outputs": [],
   "source": [
    "def test_create_train_X_y_column_names_match_name_predictors():\n",
    "    \"\"\"\n",
    "    Test exception is raised when y and exog have different index.\n",
    "    \"\"\"\n",
    "    forecaster = ForecasterAutoregCustom(\n",
    "                    regressor       = LinearRegression(),\n",
    "                    fun_predictors  = create_predictors,\n",
    "                    name_predictors = ['lag_1', 'lag_2', 'lag_3', 'lag_4', 'lag_5'],\n",
    "                    window_size     = 5\n",
    "                 )\n",
    "\n",
    "    err_msg = re.escape(\n",
    "                (\"The length of provided predictors names (`name_predictors`) do not \"\n",
    "                 \"match the length output of `fun_predictors`.\")      \n",
    "              )\n",
    "    with pytest.raises(ValueError, match = err_msg):\n",
    "        forecaster.fit(\n",
    "            y = pd.Series(np.arange(10), index=pd.date_range(start='2022-01-01', periods=10, freq='1D'))\n",
    "        ) \n",
    "\n",
    "test_create_train_X_y_exception_when_len_name_predictors_not_match_X_train_columns()"
   ]
  },
  {
   "cell_type": "code",
   "execution_count": 10,
   "metadata": {},
   "outputs": [
    {
     "data": {
      "text/plain": [
       "(            custom_predictor_0  custom_predictor_1  custom_predictor_2  \\\n",
       " 2022-01-06                   4                   3                   2   \n",
       " 2022-01-07                   5                   4                   3   \n",
       " 2022-01-08                   6                   5                   4   \n",
       " 2022-01-09                   7                   6                   5   \n",
       " 2022-01-10                   8                   7                   6   \n",
       " \n",
       "             custom_predictor_3  custom_predictor_4  \n",
       " 2022-01-06                   1                   0  \n",
       " 2022-01-07                   2                   1  \n",
       " 2022-01-08                   3                   2  \n",
       " 2022-01-09                   4                   3  \n",
       " 2022-01-10                   5                   4  ,\n",
       " 2022-01-06    5\n",
       " 2022-01-07    6\n",
       " 2022-01-08    7\n",
       " 2022-01-09    8\n",
       " 2022-01-10    9\n",
       " Freq: D, Name: y, dtype: int64)"
      ]
     },
     "execution_count": 10,
     "metadata": {},
     "output_type": "execute_result"
    }
   ],
   "source": [
    "forecaster = ForecasterAutoregCustom(\n",
    "                    regressor       = LinearRegression(),\n",
    "                    fun_predictors  = create_predictors,\n",
    "                    #name_predictors = ['lag_1', 'lag_2'],\n",
    "                    window_size     = 5\n",
    "                 )\n",
    "\n",
    "forecaster.create_train_X_y(\n",
    "    y = pd.Series(np.arange(10), index=pd.date_range(start='2022-01-01', periods=10, freq='1D'))\n",
    ")"
   ]
  }
 ],
 "metadata": {
  "kernelspec": {
   "display_name": "skforecast_py10",
   "language": "python",
   "name": "python3"
  },
  "language_info": {
   "codemirror_mode": {
    "name": "ipython",
    "version": 3
   },
   "file_extension": ".py",
   "mimetype": "text/x-python",
   "name": "python",
   "nbconvert_exporter": "python",
   "pygments_lexer": "ipython3",
   "version": "3.10.9"
  },
  "orig_nbformat": 4,
  "vscode": {
   "interpreter": {
    "hash": "c78d62c1713fdacd99ef7c429003c7324b36fbb551fb8b6860a7ea73e9338235"
   }
  }
 },
 "nbformat": 4,
 "nbformat_minor": 2
}
