{
 "cells": [
  {
   "cell_type": "code",
   "execution_count": 1,
   "metadata": {},
   "outputs": [
    {
     "data": {
      "text/plain": [
       "'/home/ubuntu/varios/skforecast'"
      ]
     },
     "execution_count": 1,
     "metadata": {},
     "output_type": "execute_result"
    }
   ],
   "source": [
    "%load_ext autoreload\n",
    "%autoreload 2\n",
    "import sys\n",
    "from pathlib import Path\n",
    "sys.path.insert(1, str(Path.cwd().parent))\n",
    "str(Path.cwd().parent)"
   ]
  },
  {
   "cell_type": "code",
   "execution_count": 2,
   "metadata": {},
   "outputs": [],
   "source": [
    "from typing import Union, Optional\n",
    "import pandas as pd\n",
    "import numpy as np\n",
    "from sklearn.feature_selection import RFECV\n",
    "from sklearn.preprocessing import PolynomialFeatures\n",
    "from sklearn.linear_model import Ridge\n",
    "import re\n",
    "\n",
    "from skforecast.ForecasterAutoreg import ForecasterAutoreg\n",
    "from skforecast.ForecasterAutoregCustom import ForecasterAutoregCustom\n",
    "from skforecast.datasets import fetch_dataset\n",
    "import numpy as np\n",
    "import pandas as pd\n",
    "from astral.sun import sun\n",
    "from astral import LocationInfo\n",
    "from skforecast.datasets import fetch_dataset\n",
    "from skforecast.model_selection import select_features\n"
   ]
  },
  {
   "cell_type": "code",
   "execution_count": 3,
   "metadata": {},
   "outputs": [
    {
     "name": "stdout",
     "output_type": "stream",
     "text": [
      "bike_sharing_extended_features\n",
      "------------------------------\n",
      "Hourly usage of the bike share system in the city of Washington D.C. during the\n",
      "years 2011 and 2012. In addition to the number of users per hour, the dataset\n",
      "was enriched by introducing supplementary features. Addition includes calendar-\n",
      "based variables (day of the week, hour of the day, month, etc.), indicators for\n",
      "sunlight, incorporation of rolling temperature averages, and the creation of\n",
      "polynomial features generated from variable pairs. All cyclic variables are\n",
      "encoded using sine and cosine functions to ensure accurate representation.\n",
      "Fanaee-T,Hadi. (2013). Bike Sharing Dataset. UCI Machine Learning Repository.\n",
      "https://doi.org/10.24432/C5W894.\n",
      "Shape of the dataset: (17352, 90)\n"
     ]
    }
   ],
   "source": [
    "# Downloading data\n",
    "# ==============================================================================\n",
    "data = fetch_dataset('bike_sharing_extended_features', raw=False)"
   ]
  },
  {
   "cell_type": "code",
   "execution_count": 4,
   "metadata": {},
   "outputs": [],
   "source": [
    "# Select exogenous variables to be included in the model\n",
    "# ==============================================================================\n",
    "df_exogenous_features = data.drop(columns=['users'])\n",
    "exog_features = []\n",
    "# Columns that ends with _sin or _cos are selected\n",
    "exog_features.extend(df_exogenous_features.filter(regex='_sin$|_cos$').columns.tolist())\n",
    "# columns that start with temp_ are selected\n",
    "exog_features.extend(df_exogenous_features.filter(regex='^temp_.*').columns.tolist())\n",
    "# Columns that start with holiday_ are selected\n",
    "exog_features.extend(df_exogenous_features.filter(regex='^holiday_.*').columns.tolist())\n",
    "exog_features.extend(['temp', 'holiday'])\n",
    "\n",
    "df_exogenous_features = df_exogenous_features.filter(exog_features, axis=1)\n",
    "df_exogenous_features['dummy_variable'] = 1"
   ]
  },
  {
   "cell_type": "code",
   "execution_count": 8,
   "metadata": {},
   "outputs": [
    {
     "name": "stdout",
     "output_type": "stream",
     "text": [
      "Recursive feature elimination (RFECV)\n",
      "-------------------------------------\n",
      "Total number of records available: 17252\n",
      "Total number of records used for feature selection: 1725\n",
      "Number of features available: 189\n",
      "    Autoreg (n=100)\n",
      "    Exog    (n=89)\n",
      "Number of features selected: 128\n",
      "    Autoreg (n=43) : [1, 2, 3, 6, 8, 9, 10, 14, 16, 17, 18, 23, 24, 25, 26, 31, 32, 33, 37, 41, 52, 56, 57, 62, 63, 65, 72, 73, 74, 75, 77, 78, 79, 80, 81, 91, 93, 94, 95, 96, 97, 98, 99]\n",
      "    Exog    (n=86) : ['month_sin', 'month_cos', 'week_of_year_sin', 'week_of_year_cos', 'week_day_sin', 'week_day_cos', 'hour_day_sin', 'hour_day_cos', 'sunrise_hour_sin', 'sunrise_hour_cos', 'sunset_hour_sin', 'sunset_hour_cos', 'poly_month_sin__month_cos', 'poly_month_sin__week_of_year_sin', 'poly_month_sin__week_of_year_cos', 'poly_month_sin__week_day_sin', 'poly_month_sin__week_day_cos', 'poly_month_sin__hour_day_sin', 'poly_month_sin__hour_day_cos', 'poly_month_sin__sunrise_hour_sin', 'poly_month_sin__sunrise_hour_cos', 'poly_month_sin__sunset_hour_sin', 'poly_month_sin__sunset_hour_cos', 'poly_month_cos__week_of_year_sin', 'poly_month_cos__week_of_year_cos', 'poly_month_cos__week_day_sin', 'poly_month_cos__week_day_cos', 'poly_month_cos__hour_day_sin', 'poly_month_cos__hour_day_cos', 'poly_month_cos__sunrise_hour_sin', 'poly_month_cos__sunrise_hour_cos', 'poly_month_cos__sunset_hour_sin', 'poly_month_cos__sunset_hour_cos', 'poly_week_of_year_sin__week_of_year_cos', 'poly_week_of_year_sin__week_day_sin', 'poly_week_of_year_sin__week_day_cos', 'poly_week_of_year_sin__hour_day_sin', 'poly_week_of_year_sin__hour_day_cos', 'poly_week_of_year_sin__sunrise_hour_sin', 'poly_week_of_year_sin__sunrise_hour_cos', 'poly_week_of_year_sin__sunset_hour_sin', 'poly_week_of_year_sin__sunset_hour_cos', 'poly_week_of_year_cos__week_day_sin', 'poly_week_of_year_cos__week_day_cos', 'poly_week_of_year_cos__hour_day_sin', 'poly_week_of_year_cos__sunrise_hour_sin', 'poly_week_of_year_cos__sunrise_hour_cos', 'poly_week_of_year_cos__sunset_hour_cos', 'poly_week_day_sin__week_day_cos', 'poly_week_day_sin__hour_day_sin', 'poly_week_day_sin__hour_day_cos', 'poly_week_day_sin__sunrise_hour_sin', 'poly_week_day_sin__sunrise_hour_cos', 'poly_week_day_sin__sunset_hour_sin', 'poly_week_day_sin__sunset_hour_cos', 'poly_week_day_cos__hour_day_sin', 'poly_week_day_cos__hour_day_cos', 'poly_week_day_cos__sunrise_hour_sin', 'poly_week_day_cos__sunrise_hour_cos', 'poly_week_day_cos__sunset_hour_sin', 'poly_week_day_cos__sunset_hour_cos', 'poly_hour_day_sin__hour_day_cos', 'poly_hour_day_sin__sunrise_hour_sin', 'poly_hour_day_sin__sunrise_hour_cos', 'poly_hour_day_sin__sunset_hour_sin', 'poly_hour_day_sin__sunset_hour_cos', 'poly_hour_day_cos__sunrise_hour_sin', 'poly_hour_day_cos__sunrise_hour_cos', 'poly_hour_day_cos__sunset_hour_sin', 'poly_hour_day_cos__sunset_hour_cos', 'poly_sunrise_hour_sin__sunrise_hour_cos', 'poly_sunrise_hour_sin__sunset_hour_sin', 'poly_sunrise_hour_sin__sunset_hour_cos', 'poly_sunrise_hour_cos__sunset_hour_sin', 'poly_sunrise_hour_cos__sunset_hour_cos', 'poly_sunset_hour_sin__sunset_hour_cos', 'temp_roll_mean_1_day', 'temp_roll_mean_7_day', 'temp_roll_max_1_day', 'temp_roll_min_1_day', 'temp_roll_max_7_day', 'holiday_previous_day', 'holiday_next_day', 'temp', 'holiday', 'dummy_variable']\n"
     ]
    }
   ],
   "source": [
    "forecaster = ForecasterAutoreg(\n",
    "                regressor = Ridge(random_state=123),\n",
    "                lags      = 100,\n",
    "            )\n",
    "\n",
    "selector = RFECV(\n",
    "    estimator              = forecaster.regressor,\n",
    "    min_features_to_select = 1,\n",
    "    cv                     = 3\n",
    ")\n",
    "\n",
    "selected_lags, selected_exog = select_features(\n",
    "    selector             = selector,\n",
    "    forecaster           = forecaster,\n",
    "    y                    = data['users'],\n",
    "    exog                 = df_exogenous_features,\n",
    "    select_only          = None,\n",
    "    subsample            = 0.1,\n",
    "    force_inclusion      = \"^dummy_variable\",\n",
    "    verbose              = True,\n",
    ")    "
   ]
  },
  {
   "cell_type": "code",
   "execution_count": 9,
   "metadata": {},
   "outputs": [
    {
     "name": "stdout",
     "output_type": "stream",
     "text": [
      "Recursive feature elimination (RFECV)\n",
      "-------------------------------------\n",
      "Total number of records available: 17347\n",
      "Total number of records used for feature selection: 1734\n",
      "Number of features available: 94\n",
      "    Autoreg (n=5)\n",
      "    Exog    (n=89)\n",
      "Number of features selected: 91\n",
      "    Autoreg (n=3) : ['custom_predictor_0', 'custom_predictor_1', 'custom_predictor_2']\n",
      "    Exog    (n=89) : ['month_sin', 'month_cos', 'week_of_year_sin', 'week_of_year_cos', 'week_day_sin', 'week_day_cos', 'hour_day_sin', 'hour_day_cos', 'sunrise_hour_sin', 'sunrise_hour_cos', 'sunset_hour_sin', 'sunset_hour_cos', 'poly_month_sin__month_cos', 'poly_month_sin__week_of_year_sin', 'poly_month_sin__week_of_year_cos', 'poly_month_sin__week_day_sin', 'poly_month_sin__week_day_cos', 'poly_month_sin__hour_day_sin', 'poly_month_sin__hour_day_cos', 'poly_month_sin__sunrise_hour_sin', 'poly_month_sin__sunrise_hour_cos', 'poly_month_sin__sunset_hour_sin', 'poly_month_sin__sunset_hour_cos', 'poly_month_cos__week_of_year_sin', 'poly_month_cos__week_of_year_cos', 'poly_month_cos__week_day_sin', 'poly_month_cos__week_day_cos', 'poly_month_cos__hour_day_sin', 'poly_month_cos__hour_day_cos', 'poly_month_cos__sunrise_hour_sin', 'poly_month_cos__sunrise_hour_cos', 'poly_month_cos__sunset_hour_sin', 'poly_month_cos__sunset_hour_cos', 'poly_week_of_year_sin__week_of_year_cos', 'poly_week_of_year_sin__week_day_sin', 'poly_week_of_year_sin__week_day_cos', 'poly_week_of_year_sin__hour_day_sin', 'poly_week_of_year_sin__hour_day_cos', 'poly_week_of_year_sin__sunrise_hour_sin', 'poly_week_of_year_sin__sunrise_hour_cos', 'poly_week_of_year_sin__sunset_hour_sin', 'poly_week_of_year_sin__sunset_hour_cos', 'poly_week_of_year_cos__week_day_sin', 'poly_week_of_year_cos__week_day_cos', 'poly_week_of_year_cos__hour_day_sin', 'poly_week_of_year_cos__hour_day_cos', 'poly_week_of_year_cos__sunrise_hour_sin', 'poly_week_of_year_cos__sunrise_hour_cos', 'poly_week_of_year_cos__sunset_hour_sin', 'poly_week_of_year_cos__sunset_hour_cos', 'poly_week_day_sin__week_day_cos', 'poly_week_day_sin__hour_day_sin', 'poly_week_day_sin__hour_day_cos', 'poly_week_day_sin__sunrise_hour_sin', 'poly_week_day_sin__sunrise_hour_cos', 'poly_week_day_sin__sunset_hour_sin', 'poly_week_day_sin__sunset_hour_cos', 'poly_week_day_cos__hour_day_sin', 'poly_week_day_cos__hour_day_cos', 'poly_week_day_cos__sunrise_hour_sin', 'poly_week_day_cos__sunrise_hour_cos', 'poly_week_day_cos__sunset_hour_sin', 'poly_week_day_cos__sunset_hour_cos', 'poly_hour_day_sin__hour_day_cos', 'poly_hour_day_sin__sunrise_hour_sin', 'poly_hour_day_sin__sunrise_hour_cos', 'poly_hour_day_sin__sunset_hour_sin', 'poly_hour_day_sin__sunset_hour_cos', 'poly_hour_day_cos__sunrise_hour_sin', 'poly_hour_day_cos__sunrise_hour_cos', 'poly_hour_day_cos__sunset_hour_sin', 'poly_hour_day_cos__sunset_hour_cos', 'poly_sunrise_hour_sin__sunrise_hour_cos', 'poly_sunrise_hour_sin__sunset_hour_sin', 'poly_sunrise_hour_sin__sunset_hour_cos', 'poly_sunrise_hour_cos__sunset_hour_sin', 'poly_sunrise_hour_cos__sunset_hour_cos', 'poly_sunset_hour_sin__sunset_hour_cos', 'temp_roll_mean_1_day', 'temp_roll_mean_7_day', 'temp_roll_max_1_day', 'temp_roll_min_1_day', 'temp_roll_max_7_day', 'temp_roll_min_7_day', 'holiday_previous_day', 'holiday_next_day', 'temp', 'holiday', 'dummy_variable']\n"
     ]
    }
   ],
   "source": [
    "def create_predictors(y):\n",
    "    lags = y[-1:-6:-1]                \n",
    "    return lags\n",
    "\n",
    "\n",
    "forecaster = ForecasterAutoregCustom(\n",
    "                regressor = Ridge(random_state=123),\n",
    "                fun_predictors = create_predictors,\n",
    "                window_size = 5,\n",
    "            )\n",
    "\n",
    "selector = RFECV(\n",
    "    estimator              = forecaster.regressor,\n",
    "    min_features_to_select = 1,\n",
    "    cv                     = 3\n",
    ")\n",
    "\n",
    "selected_lags, selected_exog = select_features(\n",
    "    selector             = selector,\n",
    "    forecaster           = forecaster,\n",
    "    y                    = data['users'],\n",
    "    exog                 = df_exogenous_features,\n",
    "    select_only          = None,\n",
    "    subsample            = 0.1,\n",
    "    force_inclusion      = \"^dummy_variable\",\n",
    "    verbose              = True,\n",
    ")  "
   ]
  },
  {
   "cell_type": "code",
   "execution_count": 10,
   "metadata": {},
   "outputs": [
    {
     "name": "stdout",
     "output_type": "stream",
     "text": [
      "Recursive feature elimination (SelectFromModel)\n",
      "-----------------------------------------------\n",
      "Total number of records available: 17252\n",
      "Total number of records used for feature selection: 1725\n",
      "Number of features available: 189\n",
      "    Autoreg (n=100)\n",
      "    Exog    (n=89)\n",
      "Number of features selected: 25\n",
      "    Autoreg (n=0) : []\n",
      "    Exog    (n=26) : ['month_sin', 'week_of_year_sin', 'week_day_sin', 'sunset_hour_sin', 'poly_month_sin__month_cos', 'poly_month_sin__week_of_year_sin', 'poly_month_sin__week_of_year_cos', 'poly_month_sin__week_day_sin', 'poly_month_sin__week_day_cos', 'poly_month_sin__sunset_hour_sin', 'poly_month_sin__sunset_hour_cos', 'poly_month_cos__week_of_year_sin', 'poly_month_cos__week_of_year_cos', 'poly_month_cos__week_day_sin', 'poly_week_of_year_sin__week_day_sin', 'poly_week_of_year_sin__week_day_cos', 'poly_week_of_year_sin__sunrise_hour_cos', 'poly_week_of_year_sin__sunset_hour_sin', 'poly_week_of_year_cos__sunset_hour_cos', 'poly_week_day_sin__sunrise_hour_sin', 'poly_week_day_sin__sunrise_hour_cos', 'poly_week_day_sin__sunset_hour_cos', 'poly_hour_day_sin__hour_day_cos', 'poly_hour_day_sin__sunrise_hour_sin', 'poly_hour_day_cos__sunset_hour_sin', 'dummy_variable']\n"
     ]
    },
    {
     "name": "stderr",
     "output_type": "stream",
     "text": [
      "/home/ubuntu/varios/skforecast/skforecast/model_selection/model_selection.py:1773: UserWarning: No autoregressive features has been selected. Since a Forecaster cannot be created without them, be sure to include at least one to ensure the autoregressive component of the forecast model using the `force_inclusion` parameter.\n",
      "  warnings.warn(\n"
     ]
    }
   ],
   "source": [
    "from sklearn.feature_selection import SelectFromModel\n",
    "\n",
    "forecaster = ForecasterAutoreg(\n",
    "                regressor = Ridge(random_state=123),\n",
    "                lags      = 100,\n",
    "            )\n",
    "\n",
    "selector = SelectFromModel(\n",
    "    estimator    = forecaster.regressor,\n",
    "    threshold    = 0.25,\n",
    "    max_features = 25\n",
    ")\n",
    "\n",
    "selected_lags, selected_exog = select_features(\n",
    "    selector             = selector,\n",
    "    forecaster           = forecaster,\n",
    "    y                    = data['users'],\n",
    "    exog                 = df_exogenous_features,\n",
    "    select_only         = None,\n",
    "    subsample            = 0.1,\n",
    "    force_inclusion      = \"^dummy_variable\",\n",
    "    verbose              = True,\n",
    ")  "
   ]
  },
  {
   "cell_type": "code",
   "execution_count": 11,
   "metadata": {},
   "outputs": [
    {
     "name": "stdout",
     "output_type": "stream",
     "text": [
      "Recursive feature elimination (SequentialFeatureSelector)\n",
      "---------------------------------------------------------\n",
      "Total number of records available: 17342\n",
      "Total number of records used for feature selection: 1734\n",
      "Number of features available: 99\n",
      "    Autoreg (n=10)\n",
      "    Exog    (n=89)\n",
      "Number of features selected: 25\n",
      "    Autoreg (n=5) : [1, 2, 3, 6, 7]\n",
      "    Exog    (n=21) : ['sunset_hour_sin', 'poly_month_sin__week_of_year_sin', 'poly_month_sin__week_day_sin', 'poly_month_sin__week_day_cos', 'poly_month_cos__week_of_year_sin', 'poly_month_cos__hour_day_cos', 'poly_week_of_year_sin__week_day_sin', 'poly_week_of_year_sin__week_day_cos', 'poly_week_of_year_cos__week_day_cos', 'poly_week_of_year_cos__hour_day_cos', 'poly_week_of_year_cos__sunrise_hour_cos', 'poly_week_day_cos__hour_day_sin', 'poly_week_day_cos__hour_day_cos', 'poly_hour_day_sin__hour_day_cos', 'poly_hour_day_cos__sunrise_hour_sin', 'poly_hour_day_cos__sunrise_hour_cos', 'poly_sunrise_hour_sin__sunset_hour_sin', 'temp_roll_max_1_day', 'holiday_next_day', 'holiday', 'dummy_variable']\n"
     ]
    }
   ],
   "source": [
    "from sklearn.feature_selection import SequentialFeatureSelector\n",
    "from sklearn.model_selection import ShuffleSplit\n",
    "\n",
    "forecaster = ForecasterAutoreg(\n",
    "                regressor = Ridge(random_state=123),\n",
    "                lags      = 10,\n",
    "            )\n",
    "\n",
    "selector = SequentialFeatureSelector(\n",
    "    estimator    = forecaster.regressor,\n",
    "    n_features_to_select = 25,\n",
    "    direction    = 'forward',\n",
    "    cv           = ShuffleSplit(n_splits=1, test_size=0.3, random_state=951),\n",
    "    scoring      = 'neg_mean_absolute_error',\n",
    "    n_jobs       = -1\n",
    ")\n",
    "\n",
    "selected_lags, selected_exog = select_features(\n",
    "    selector             = selector,\n",
    "    forecaster           = forecaster,\n",
    "    y                    = data['users'],\n",
    "    exog                 = df_exogenous_features,\n",
    "    select_only          = None,\n",
    "    subsample            = 0.1,\n",
    "    force_inclusion      = \"^dummy_variable\",\n",
    "    verbose              = True,\n",
    ")  "
   ]
  },
  {
   "cell_type": "code",
   "execution_count": 24,
   "metadata": {},
   "outputs": [],
   "source": [
    "# Simulate time series with hourly frequency with reproducible results\n",
    "# ==============================================================================\n",
    "from sklearn.feature_selection import RFE\n",
    "from sklearn.datasets import make_regression\n",
    "from sklearn.linear_model import LinearRegression\n",
    "from skforecast.ForecasterAutoregDirect import ForecasterAutoregDirect\n",
    "import pytest\n",
    "\n",
    "exog, y = make_regression(n_samples=500, n_features=5, n_informative=2, random_state=123)\n",
    "exog = pd.DataFrame(\n",
    "    exog,\n",
    "    index = pd.date_range(start='2020-01-01', periods=len(exog), freq='H'),\n",
    "    columns=[f\"exog_{i}\" for i in range(exog.shape[1])]\n",
    ")\n",
    "y = pd.Series(y, index=exog.index, name=\"y\")"
   ]
  },
  {
   "cell_type": "code",
   "execution_count": 40,
   "metadata": {},
   "outputs": [
    {
     "ename": "ModuleNotFoundError",
     "evalue": "No module named 'skforecast.model_selection.fixtures_model_selection'",
     "output_type": "error",
     "traceback": [
      "\u001b[0;31m---------------------------------------------------------------------------\u001b[0m",
      "\u001b[0;31mModuleNotFoundError\u001b[0m                       Traceback (most recent call last)",
      "Cell \u001b[0;32mIn[40], line 1\u001b[0m\n\u001b[0;32m----> 1\u001b[0m \u001b[38;5;28;01mfrom\u001b[39;00m \u001b[38;5;21;01mskforecast\u001b[39;00m\u001b[38;5;21;01m.\u001b[39;00m\u001b[38;5;21;01mmodel_selection\u001b[39;00m\u001b[38;5;21;01m.\u001b[39;00m\u001b[38;5;21;01mfixtures_model_selection\u001b[39;00m\u001b[38;5;21;01m.\u001b[39;00m\u001b[38;5;21;01mfixtures_model_selection\u001b[39;00m \u001b[38;5;28;01mimport\u001b[39;00m y_feature_selection \u001b[38;5;28;01mas\u001b[39;00m y\n\u001b[1;32m      2\u001b[0m \u001b[38;5;28;01mfrom\u001b[39;00m \u001b[38;5;21;01m.\u001b[39;00m\u001b[38;5;21;01mfixtures_model_selection\u001b[39;00m \u001b[38;5;28;01mimport\u001b[39;00m exog_feature_selection \u001b[38;5;28;01mas\u001b[39;00m exog\n",
      "\u001b[0;31mModuleNotFoundError\u001b[0m: No module named 'skforecast.model_selection.fixtures_model_selection'"
     ]
    }
   ],
   "source": [
    "from skforecast.model_selection.fixtures_model_selection.fixtures_model_selection import y_feature_selection as y\n",
    "from .fixtures_model_selection import exog_feature_selection as exog"
   ]
  },
  {
   "cell_type": "code",
   "execution_count": null,
   "metadata": {},
   "outputs": [
    {
     "ename": "AssertionError",
     "evalue": "",
     "output_type": "error",
     "traceback": [
      "\u001b[1;31m---------------------------------------------------------------------------\u001b[0m",
      "\u001b[1;31mAssertionError\u001b[0m                            Traceback (most recent call last)",
      "Cell \u001b[1;32mIn[11], line 246\u001b[0m\n\u001b[0;32m    235\u001b[0m     \u001b[38;5;28;01mwith\u001b[39;00m pytest\u001b[38;5;241m.\u001b[39mraises(\u001b[38;5;167;01mException\u001b[39;00m, match \u001b[38;5;241m=\u001b[39m err_msg):\n\u001b[0;32m    236\u001b[0m         selected_lags, selected_exog \u001b[38;5;241m=\u001b[39m select_features(\n\u001b[0;32m    237\u001b[0m             selector             \u001b[38;5;241m=\u001b[39m selector,\n\u001b[0;32m    238\u001b[0m             forecaster           \u001b[38;5;241m=\u001b[39m forecaster,\n\u001b[1;32m   (...)\u001b[0m\n\u001b[0;32m    243\u001b[0m             verbose              \u001b[38;5;241m=\u001b[39m \u001b[38;5;28;01mFalse\u001b[39;00m,\n\u001b[0;32m    244\u001b[0m         )\n\u001b[1;32m--> 246\u001b[0m \u001b[43mtest_select_features_when_selector_is_RFE_and_select_only_exog_is_True\u001b[49m\u001b[43m(\u001b[49m\u001b[43m)\u001b[49m\n\u001b[0;32m    247\u001b[0m test_select_features_when_selector_is_RFE_and_select_only_exog_is_True_regressor()\n\u001b[0;32m    248\u001b[0m test_select_features_when_selector_is_RFE_and_select_only_exog_is_True_ForecasterAutoregCustom()\n",
      "Cell \u001b[1;32mIn[11], line 19\u001b[0m, in \u001b[0;36mtest_select_features_when_selector_is_RFE_and_select_only_exog_is_True\u001b[1;34m()\u001b[0m\n\u001b[0;32m      9\u001b[0m selected_lags, selected_exog \u001b[38;5;241m=\u001b[39m select_features(\n\u001b[0;32m     10\u001b[0m     selector             \u001b[38;5;241m=\u001b[39m selector,\n\u001b[0;32m     11\u001b[0m     forecaster           \u001b[38;5;241m=\u001b[39m forecaster,\n\u001b[1;32m   (...)\u001b[0m\n\u001b[0;32m     15\u001b[0m     verbose              \u001b[38;5;241m=\u001b[39m \u001b[38;5;28;01mFalse\u001b[39;00m,\n\u001b[0;32m     16\u001b[0m )\n\u001b[0;32m     18\u001b[0m \u001b[38;5;28;01massert\u001b[39;00m selected_lags \u001b[38;5;241m==\u001b[39m [\u001b[38;5;241m1\u001b[39m, \u001b[38;5;241m2\u001b[39m, \u001b[38;5;241m3\u001b[39m, \u001b[38;5;241m4\u001b[39m, \u001b[38;5;241m5\u001b[39m]\n\u001b[1;32m---> 19\u001b[0m \u001b[38;5;28;01massert\u001b[39;00m selected_exog \u001b[38;5;241m==\u001b[39m [\u001b[38;5;124m'\u001b[39m\u001b[38;5;124mexog_1\u001b[39m\u001b[38;5;124m'\u001b[39m, \u001b[38;5;124m'\u001b[39m\u001b[38;5;124mexog_2\u001b[39m\u001b[38;5;124m'\u001b[39m, \u001b[38;5;124m'\u001b[39m\u001b[38;5;124mexog_4\u001b[39m\u001b[38;5;124m'\u001b[39m]\n",
      "\u001b[1;31mAssertionError\u001b[0m: "
     ]
    }
   ],
   "source": [
    "def test_select_features_when_selector_is_RFE_and_select_only_exog_is_True():\n",
    "    forecaster = ForecasterAutoreg(\n",
    "                    regressor = LinearRegression(),\n",
    "                    lags      = 5,\n",
    "                )\n",
    "\n",
    "    selector = RFE(estimator=forecaster.regressor, n_features_to_select=3)\n",
    "\n",
    "    selected_lags, selected_exog = select_features(\n",
    "        selector             = selector,\n",
    "        forecaster           = forecaster,\n",
    "        y                    = y,\n",
    "        exog                 = exog,\n",
    "        select_only_exog     = True,\n",
    "        verbose              = False,\n",
    "    )\n",
    "\n",
    "    assert selected_lags == [1, 2, 3, 4, 5]\n",
    "    assert selected_exog == ['exog_1', 'exog_2', 'exog_4']\n",
    "\n",
    "def test_select_features_when_selector_is_RFE_and_select_only_exog_is_True_regressor():\n",
    "    forecaster = ForecasterAutoreg(\n",
    "                    regressor = LinearRegression(),\n",
    "                    lags      = 5,\n",
    "                )\n",
    "\n",
    "    selector = RFE(estimator=LinearRegression(), n_features_to_select=3)\n",
    "\n",
    "    selected_lags, selected_exog = select_features(\n",
    "        selector             = selector,\n",
    "        forecaster           = forecaster,\n",
    "        y                    = y,\n",
    "        exog                 = exog,\n",
    "        select_only_exog     = True,\n",
    "        verbose              = False,\n",
    "    )\n",
    "\n",
    "    assert selected_lags == [1, 2, 3, 4, 5]\n",
    "    assert selected_exog == ['exog_1', 'exog_2', 'exog_4']\n",
    "\n",
    "\n",
    "def test_select_features_when_selector_is_RFE_and_select_only_exog_is_True_ForecasterAutoregCustom():\n",
    "    forecaster = ForecasterAutoregCustom(\n",
    "                    regressor = LinearRegression(),\n",
    "                    fun_predictors = lambda y: y[-1:-6:-1],\n",
    "                    window_size = 5,\n",
    "                )\n",
    "\n",
    "    selector = RFE(estimator=forecaster.regressor, n_features_to_select=3)\n",
    "\n",
    "    selected_lags, selected_exog = select_features(\n",
    "        selector             = selector,\n",
    "        forecaster           = forecaster,\n",
    "        y                    = y,\n",
    "        exog                 = exog,\n",
    "        select_only_exog     = True,\n",
    "        verbose              = False,\n",
    "    )\n",
    "\n",
    "    assert selected_lags == ['custom_predictor_0', 'custom_predictor_1', 'custom_predictor_2',\n",
    "                            'custom_predictor_3', 'custom_predictor_4']\n",
    "    assert selected_exog == ['exog_1', 'exog_2', 'exog_4']\n",
    "\n",
    "\n",
    "def test_select_features_when_selector_is_RFE_and_select_only_exog_is_False():\n",
    "    forecaster = ForecasterAutoreg(\n",
    "                    regressor = LinearRegression(),\n",
    "                    lags      = 5,\n",
    "                )\n",
    "\n",
    "    selector = RFE(estimator=forecaster.regressor, n_features_to_select=5)\n",
    "\n",
    "    selected_lags, selected_exog = select_features(\n",
    "        selector             = selector,\n",
    "        forecaster           = forecaster,\n",
    "        y                    = y,\n",
    "        exog                 = exog,\n",
    "        select_only_exog     = False,\n",
    "        verbose              = False,\n",
    "    )\n",
    "\n",
    "    assert selected_lags == [5]\n",
    "    assert selected_exog == ['exog_0', 'exog_1', 'exog_2', 'exog_3']\n",
    "\n",
    "\n",
    "def test_select_features_when_selector_is_RFE_and_select_only_exog_is_False_ForecasterAutoregCustom():\n",
    "    forecaster = ForecasterAutoregCustom(\n",
    "                    regressor = LinearRegression(),\n",
    "                    fun_predictors = lambda y: y[-1:-6:-1],\n",
    "                    window_size = 5,\n",
    "                )\n",
    "\n",
    "    selector = RFE(estimator=forecaster.regressor, n_features_to_select=5)\n",
    "\n",
    "    selected_lags, selected_exog = select_features(\n",
    "        selector             = selector,\n",
    "        forecaster           = forecaster,\n",
    "        y                    = y,\n",
    "        exog                 = exog,\n",
    "        select_only_exog     = False,\n",
    "        verbose              = False,\n",
    "    )\n",
    "\n",
    "    assert selected_lags == ['custom_predictor_4']\n",
    "    assert selected_exog == ['exog_0', 'exog_1', 'exog_2', 'exog_3']\n",
    "\n",
    "\n",
    "def test_select_features_when_selector_is_RFE_select_only_exog_is_True_and_force_inclusion_is_regex():\n",
    "    forecaster = ForecasterAutoreg(\n",
    "                    regressor = LinearRegression(),\n",
    "                    lags      = 5,\n",
    "                )\n",
    "\n",
    "    selector = RFE(estimator=forecaster.regressor, n_features_to_select=3)\n",
    "\n",
    "    selected_lags, selected_exog = select_features(\n",
    "        selector             = selector,\n",
    "        forecaster           = forecaster,\n",
    "        y                    = y,\n",
    "        exog                 = exog,\n",
    "        select_only_exog     = True,\n",
    "        force_inclusion      = \"^exog_3\",\n",
    "        verbose              = False,\n",
    "    )\n",
    "\n",
    "    assert selected_lags == [1, 2, 3, 4, 5]\n",
    "    assert selected_exog == ['exog_1', 'exog_2', 'exog_3', 'exog_4']\n",
    "\n",
    "\n",
    "def test_select_features_when_selector_is_RFE_select_only_exog_is_True_and_force_inclusion_is_regex_ForecasterAutoregCustom():\n",
    "    forecaster = ForecasterAutoregCustom(\n",
    "                    regressor = LinearRegression(),\n",
    "                    fun_predictors = lambda y: y[-1:-6:-1],\n",
    "                    window_size = 5,\n",
    "                )\n",
    "\n",
    "    selector = RFE(estimator=forecaster.regressor, n_features_to_select=3)\n",
    "\n",
    "    selected_lags, selected_exog = select_features(\n",
    "        selector             = selector,\n",
    "        forecaster           = forecaster,\n",
    "        y                    = y,\n",
    "        exog                 = exog,\n",
    "        select_only_exog     = True,\n",
    "        force_inclusion      = \"^exog_3\",\n",
    "        verbose              = False,\n",
    "    )\n",
    "\n",
    "    assert selected_lags == ['custom_predictor_0', 'custom_predictor_1', 'custom_predictor_2',\n",
    "                            'custom_predictor_3', 'custom_predictor_4']\n",
    "    assert selected_exog == ['exog_1', 'exog_2', 'exog_3', 'exog_4']\n",
    "\n",
    "\n",
    "def test_select_features_when_selector_is_RFE_select_only_exog_is_True_and_force_inclusion_is_list():\n",
    "    forecaster = ForecasterAutoreg(\n",
    "                    regressor = LinearRegression(),\n",
    "                    lags      = 5,\n",
    "                )\n",
    "\n",
    "    selector = RFE(estimator=forecaster.regressor, n_features_to_select=3)\n",
    "\n",
    "    selected_lags, selected_exog = select_features(\n",
    "        selector             = selector,\n",
    "        forecaster           = forecaster,\n",
    "        y                    = y,\n",
    "        exog                 = exog,\n",
    "        select_only_exog     = True,\n",
    "        force_inclusion      = ['exog_3'],\n",
    "        verbose              = False,\n",
    "    )\n",
    "\n",
    "    assert selected_lags == [1, 2, 3, 4, 5]\n",
    "    assert selected_exog == ['exog_1', 'exog_2', 'exog_3', 'exog_4']\n",
    "\n",
    "\n",
    "def test_select_features_when_selector_is_RFE_select_only_exog_is_True_and_force_inclusion_is_list_ForecasterAutoregCustom():\n",
    "    forecaster = ForecasterAutoregCustom(\n",
    "                    regressor = LinearRegression(),\n",
    "                    fun_predictors = lambda y: y[-1:-6:-1],\n",
    "                    window_size = 5,\n",
    "                )\n",
    "\n",
    "    selector = RFE(estimator=forecaster.regressor, n_features_to_select=3)\n",
    "\n",
    "    selected_lags, selected_exog = select_features(\n",
    "        selector             = selector,\n",
    "        forecaster           = forecaster,\n",
    "        y                    = y,\n",
    "        exog                 = exog,\n",
    "        select_only_exog     = True,\n",
    "        force_inclusion      = ['exog_3'],\n",
    "        verbose              = False,\n",
    "    )\n",
    "\n",
    "    assert selected_lags == ['custom_predictor_0', 'custom_predictor_1', 'custom_predictor_2',\n",
    "                            'custom_predictor_3', 'custom_predictor_4']\n",
    "    assert selected_exog == ['exog_1', 'exog_2', 'exog_3', 'exog_4']\n",
    "\n",
    "def test_select_features_raise_error_when_forecaster_is_not_supported():\n",
    "    \"\"\"\n",
    "    Test that select_features raises an error when forecaster is not supported.\n",
    "    \"\"\"\n",
    "    forecaster = ForecasterAutoregDirect(\n",
    "                    regressor = LinearRegression(),\n",
    "                    lags      = 5,\n",
    "                    steps     = 3\n",
    "                )\n",
    "    selector = RFE(estimator=forecaster.regressor, n_features_to_select=3)\n",
    "    err_msg = re.escape(\n",
    "            \"`forecaster` must be one of the following classes: ['ForecasterAutoreg', \"\n",
    "            \"'ForecasterAutoregCustom'].\"\n",
    "        )\n",
    "    with pytest.raises(Exception, match = err_msg):\n",
    "        selected_lags, selected_exog = select_features(\n",
    "            selector             = selector,\n",
    "            forecaster           = forecaster,\n",
    "            y                    = y,\n",
    "            exog                 = exog,\n",
    "            select_only_exog     = True,\n",
    "            verbose              = False,\n",
    "        )\n",
    "\n",
    "def test_select_features_raise_error_when_subsamle_is_not_between_0_and_1():\n",
    "    \"\"\"\n",
    "    Test that select_features raises an error when subsample is not between 0 and 1.\n",
    "    \"\"\"\n",
    "    forecaster = ForecasterAutoreg(\n",
    "                    regressor = LinearRegression(),\n",
    "                    lags      = 5,\n",
    "                )\n",
    "    selector = RFE(estimator=forecaster.regressor, n_features_to_select=3)\n",
    "    err_msg = re.escape(\n",
    "            \"`subsample` must be a number between 0 and 1.\"\n",
    "        )\n",
    "    with pytest.raises(Exception, match = err_msg):\n",
    "        selected_lags, selected_exog = select_features(\n",
    "            selector             = selector,\n",
    "            forecaster           = forecaster,\n",
    "            y                    = y,\n",
    "            exog                 = exog,\n",
    "            select_only_exog     = True,\n",
    "            subsample            = 2,\n",
    "            verbose              = False,\n",
    "        )\n",
    "\n",
    "test_select_features_when_selector_is_RFE_and_select_only_exog_is_True()\n",
    "test_select_features_when_selector_is_RFE_and_select_only_exog_is_True_regressor()\n",
    "test_select_features_when_selector_is_RFE_and_select_only_exog_is_True_ForecasterAutoregCustom()\n",
    "test_select_features_when_selector_is_RFE_and_select_only_exog_is_False()\n",
    "test_select_features_when_selector_is_RFE_and_select_only_exog_is_False_ForecasterAutoregCustom()\n",
    "test_select_features_when_selector_is_RFE_select_only_exog_is_True_and_force_inclusion_is_regex()\n",
    "test_select_features_when_selector_is_RFE_select_only_exog_is_True_and_force_inclusion_is_regex_ForecasterAutoregCustom()\n",
    "test_select_features_when_selector_is_RFE_select_only_exog_is_True_and_force_inclusion_is_list()\n",
    "test_select_features_when_selector_is_RFE_select_only_exog_is_True_and_force_inclusion_is_list_ForecasterAutoregCustom()\n",
    "test_select_features_raise_error_when_forecaster_is_not_supported()\n",
    "test_select_features_raise_error_when_subsamle_is_not_between_0_and_1()"
   ]
  },
  {
   "cell_type": "code",
   "execution_count": 16,
   "metadata": {},
   "outputs": [
    {
     "name": "stdout",
     "output_type": "stream",
     "text": [
      "Recursive feature elimination (RFE)\n",
      "-----------------------------------\n",
      "Total number of records available: 495\n",
      "Total number of records used for feature selection: 247\n",
      "Number of features available: 5\n",
      "    Autoreg (n=5)\n",
      "    Exog    (n=5)\n",
      "Number of features selected: 3\n",
      "    Autoreg (n=5) : [1, 2, 3, 4, 5]\n",
      "    Exog    (n=3) : ['exog_1', 'exog_2', 'exog_4']\n"
     ]
    },
    {
     "ename": "AssertionError",
     "evalue": "",
     "output_type": "error",
     "traceback": [
      "\u001b[0;31m---------------------------------------------------------------------------\u001b[0m",
      "\u001b[0;31mAssertionError\u001b[0m                            Traceback (most recent call last)",
      "Cell \u001b[0;32mIn[16], line 51\u001b[0m\n\u001b[1;32m     47\u001b[0m     \u001b[38;5;28;01massert\u001b[39;00m selected_exog \u001b[38;5;241m==\u001b[39m [\u001b[38;5;124m'\u001b[39m\u001b[38;5;124mexog_0\u001b[39m\u001b[38;5;124m'\u001b[39m, \u001b[38;5;124m'\u001b[39m\u001b[38;5;124mexog_1\u001b[39m\u001b[38;5;124m'\u001b[39m, \u001b[38;5;124m'\u001b[39m\u001b[38;5;124mexog_2\u001b[39m\u001b[38;5;124m'\u001b[39m]\n\u001b[1;32m     50\u001b[0m test_select_features_when_selector_is_RFE_and_select_only_is_exog()\n\u001b[0;32m---> 51\u001b[0m \u001b[43mtest_select_features_when_selector_is_RFE_and_select_only_is_exog_regressor\u001b[49m\u001b[43m(\u001b[49m\u001b[43m)\u001b[49m\n",
      "Cell \u001b[0;32mIn[16], line 47\u001b[0m, in \u001b[0;36mtest_select_features_when_selector_is_RFE_and_select_only_is_exog_regressor\u001b[0;34m()\u001b[0m\n\u001b[1;32m     37\u001b[0m selected_autoreg, selected_exog \u001b[38;5;241m=\u001b[39m select_features(\n\u001b[1;32m     38\u001b[0m     selector    \u001b[38;5;241m=\u001b[39m selector,\n\u001b[1;32m     39\u001b[0m     forecaster  \u001b[38;5;241m=\u001b[39m forecaster,\n\u001b[0;32m   (...)\u001b[0m\n\u001b[1;32m     43\u001b[0m     verbose     \u001b[38;5;241m=\u001b[39m \u001b[38;5;28;01mFalse\u001b[39;00m,\n\u001b[1;32m     44\u001b[0m )\n\u001b[1;32m     46\u001b[0m \u001b[38;5;28;01massert\u001b[39;00m selected_autoreg \u001b[38;5;241m==\u001b[39m [\u001b[38;5;241m1\u001b[39m, \u001b[38;5;241m2\u001b[39m, \u001b[38;5;241m3\u001b[39m, \u001b[38;5;241m4\u001b[39m, \u001b[38;5;241m5\u001b[39m]\n\u001b[0;32m---> 47\u001b[0m \u001b[38;5;28;01massert\u001b[39;00m selected_exog \u001b[38;5;241m==\u001b[39m [\u001b[38;5;124m'\u001b[39m\u001b[38;5;124mexog_0\u001b[39m\u001b[38;5;124m'\u001b[39m, \u001b[38;5;124m'\u001b[39m\u001b[38;5;124mexog_1\u001b[39m\u001b[38;5;124m'\u001b[39m, \u001b[38;5;124m'\u001b[39m\u001b[38;5;124mexog_2\u001b[39m\u001b[38;5;124m'\u001b[39m]\n",
      "\u001b[0;31mAssertionError\u001b[0m: "
     ]
    }
   ],
   "source": [
    "def test_select_features_when_selector_is_RFE_and_select_only_is_exog():\n",
    "    \"\"\"\n",
    "    Test that select_features returns the expected values when selector is RFE\n",
    "    and select_only is 'exog'.\n",
    "    \"\"\"\n",
    "    forecaster = ForecasterAutoreg(\n",
    "                     regressor = LinearRegression(),\n",
    "                     lags      = 5,\n",
    "                 )\n",
    "    selector = RFE(estimator=forecaster.regressor, n_features_to_select=3)\n",
    "\n",
    "    selected_autoreg, selected_exog = select_features(\n",
    "        selector    = selector,\n",
    "        forecaster  = forecaster,\n",
    "        y           = y,\n",
    "        exog        = exog,\n",
    "        select_only = 'exog',\n",
    "        verbose     = True,\n",
    "    )\n",
    "\n",
    "    assert selected_autoreg == [1, 2, 3, 4, 5]\n",
    "    assert selected_exog == ['exog_1', 'exog_2', 'exog_4']\n",
    "\n",
    "\n",
    "def test_select_features_when_selector_is_RFE_and_select_only_is_exog_regressor():\n",
    "    \"\"\"\n",
    "    Test that select_features returns the expected values when selector is RFE\n",
    "    and select_only is 'exog' and regressor is passed to the selector instead\n",
    "    of forecaster.regressor.\n",
    "    \"\"\"\n",
    "    forecaster = ForecasterAutoreg(\n",
    "                     regressor = LinearRegression(),\n",
    "                     lags      = 5,\n",
    "                 )\n",
    "    selector = RFE(estimator=LinearRegression(), n_features_to_select=3)\n",
    "\n",
    "    selected_autoreg, selected_exog = select_features(\n",
    "        selector    = selector,\n",
    "        forecaster  = forecaster,\n",
    "        y           = y,\n",
    "        exog        = exog,\n",
    "        select_only = 'exog',\n",
    "        verbose     = False,\n",
    "    )\n",
    "\n",
    "    assert selected_autoreg == [1, 2, 3, 4, 5]\n",
    "    assert selected_exog == ['exog_0', 'exog_1', 'exog_2']\n",
    "\n",
    "\n",
    "test_select_features_when_selector_is_RFE_and_select_only_is_exog()\n",
    "test_select_features_when_selector_is_RFE_and_select_only_is_exog_regressor()"
   ]
  },
  {
   "cell_type": "code",
   "execution_count": 23,
   "metadata": {},
   "outputs": [
    {
     "data": {
      "text/plain": [
       "['exog_1', 'exog_2', 'exog_3', 'exog_4']"
      ]
     },
     "execution_count": 23,
     "metadata": {},
     "output_type": "execute_result"
    }
   ],
   "source": [
    "forecaster = ForecasterAutoreg(\n",
    "                     regressor = LinearRegression(),\n",
    "                     lags      = 5,\n",
    "                 )\n",
    "selector = RFE(estimator=forecaster.regressor, n_features_to_select=3)\n",
    "\n",
    "selected_autoreg, selected_exog = select_features(\n",
    "    selector        = selector,\n",
    "    forecaster      = forecaster,\n",
    "    y               = y,\n",
    "    exog            = exog,\n",
    "    select_only     = 'exog',\n",
    "    force_inclusion = \"^exog_3\",\n",
    "    verbose         = False,\n",
    ")\n",
    "\n",
    "\n",
    "selected_autoreg\n",
    "selected_exog"
   ]
  },
  {
   "cell_type": "code",
   "execution_count": 16,
   "metadata": {},
   "outputs": [],
   "source": [
    "import re\n",
    "import pytest\n",
    "import pandas as pd\n",
    "from sklearn.feature_selection import RFE\n",
    "from sklearn.datasets import make_regression\n",
    "from sklearn.linear_model import LinearRegression\n",
    "from skforecast.ForecasterAutoreg import ForecasterAutoreg\n",
    "from skforecast.ForecasterAutoregCustom import ForecasterAutoregCustom\n",
    "from skforecast.ForecasterAutoregDirect import ForecasterAutoregDirect\n",
    "from skforecast.model_selection import select_features\n",
    "\n",
    "# Fixtures\n",
    "exog, y = make_regression(n_samples=500, n_features=5, n_informative=2, random_state=124)\n",
    "exog = pd.DataFrame(\n",
    "           data    = exog,\n",
    "           index   = pd.date_range(start='2020-01-01', periods=len(exog), freq='H'),\n",
    "           columns = [f\"exog_{i}\" for i in range(exog.shape[1])]\n",
    "       )\n",
    "y = pd.Series(y, index=exog.index, name=\"y\")"
   ]
  },
  {
   "cell_type": "code",
   "execution_count": 21,
   "metadata": {},
   "outputs": [
    {
     "name": "stdout",
     "output_type": "stream",
     "text": [
      "{'exog_0'}\n",
      "{'exog_3', 'lag_4', 'exog_1', 'lag_5', 'exog_2'}\n",
      "{'exog_0'}\n",
      "['exog_1', 'exog_2', 'exog_3', 'exog_0']\n",
      "['exog_0', 'exog_1', 'exog_2', 'exog_3', 'exog_4']\n",
      "['exog_0', 'exog_1', 'exog_2', 'exog_3']\n"
     ]
    }
   ],
   "source": [
    "forecaster = ForecasterAutoreg(\n",
    "                    regressor = LinearRegression(),\n",
    "                    lags      = 5,\n",
    "                )\n",
    "selector = RFE(estimator=forecaster.regressor, n_features_to_select=5)\n",
    "\n",
    "selected_lags, selected_exog = select_features(\n",
    "    selector         = selector,\n",
    "    forecaster       = forecaster,\n",
    "    y                = y,\n",
    "    exog             = exog,\n",
    "    select_only_exog = False,\n",
    "    force_inclusion  = \"^exog_0\",\n",
    "    verbose          = False,\n",
    ")"
   ]
  },
  {
   "cell_type": "code",
   "execution_count": 12,
   "metadata": {},
   "outputs": [
    {
     "data": {
      "text/plain": [
       "[5]"
      ]
     },
     "execution_count": 12,
     "metadata": {},
     "output_type": "execute_result"
    }
   ],
   "source": [
    "selected_lags"
   ]
  },
  {
   "cell_type": "code",
   "execution_count": 13,
   "metadata": {},
   "outputs": [
    {
     "data": {
      "text/plain": [
       "['exog_0', 'exog_1', 'exog_2', 'exog_3', 'exog_4']"
      ]
     },
     "execution_count": 13,
     "metadata": {},
     "output_type": "execute_result"
    }
   ],
   "source": [
    "selected_exog"
   ]
  },
  {
   "cell_type": "code",
   "execution_count": 23,
   "metadata": {},
   "outputs": [
    {
     "data": {
      "text/plain": [
       "{'lag2'}"
      ]
     },
     "execution_count": 23,
     "metadata": {},
     "output_type": "execute_result"
    }
   ],
   "source": [
    "set(['lag1', 'lag2']) - set(['exog_3', 'lag1'])"
   ]
  },
  {
   "cell_type": "code",
   "execution_count": null,
   "metadata": {},
   "outputs": [],
   "source": []
  },
  {
   "cell_type": "code",
   "execution_count": null,
   "metadata": {},
   "outputs": [],
   "source": []
  }
 ],
 "metadata": {
  "kernelspec": {
   "display_name": "skforecast_py10",
   "language": "python",
   "name": "python3"
  },
  "language_info": {
   "codemirror_mode": {
    "name": "ipython",
    "version": 3
   },
   "file_extension": ".py",
   "mimetype": "text/x-python",
   "name": "python",
   "nbconvert_exporter": "python",
   "pygments_lexer": "ipython3",
   "version": "3.11.4"
  },
  "orig_nbformat": 4,
  "vscode": {
   "interpreter": {
    "hash": "c78d62c1713fdacd99ef7c429003c7324b36fbb551fb8b6860a7ea73e9338235"
   }
  }
 },
 "nbformat": 4,
 "nbformat_minor": 2
}
