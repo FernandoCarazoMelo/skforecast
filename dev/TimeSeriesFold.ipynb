{
 "cells": [
  {
   "cell_type": "code",
   "execution_count": 5,
   "metadata": {},
   "outputs": [
    {
     "name": "stdout",
     "output_type": "stream",
     "text": [
      "The autoreload extension is already loaded. To reload it, use:\n",
      "  %reload_ext autoreload\n"
     ]
    },
    {
     "data": {
      "text/plain": [
       "'c:\\\\Users\\\\Joaquín Amat\\\\Documents\\\\GitHub\\\\skforecast'"
      ]
     },
     "execution_count": 5,
     "metadata": {},
     "output_type": "execute_result"
    }
   ],
   "source": [
    "%load_ext autoreload\n",
    "%autoreload 2\n",
    "import sys\n",
    "from pathlib import Path\n",
    "sys.path.insert(1, str(Path.cwd().parent))\n",
    "str(Path.cwd().parent)"
   ]
  },
  {
   "cell_type": "code",
   "execution_count": 6,
   "metadata": {},
   "outputs": [],
   "source": [
    "from skforecast.model_selection.model_selection_new import TimeSeriesFold\n",
    "import pandas as pd\n",
    "import numpy as np"
   ]
  },
  {
   "cell_type": "code",
   "execution_count": 7,
   "metadata": {},
   "outputs": [
    {
     "name": "stdout",
     "output_type": "stream",
     "text": [
      "Information of folds\n",
      "--------------------\n",
      "Number of observations used for initial training: 50\n",
      "Number of observations used for backtesting: 50\n",
      "    Number of folds: 5\n",
      "    Number skipped folds: 0 \n",
      "    Number of steps per fold: 10\n",
      "    Number of steps to exclude from the end of each train set before test (gap): self.0\n",
      "\n",
      "Fold: 0\n",
      "    Training:   2020-01-01 00:00:00 -- 2020-02-19 00:00:00  (n=50)\n",
      "    Validation: 2020-02-20 00:00:00 -- 2020-02-29 00:00:00  (n=10)\n",
      "Fold: 1\n",
      "    Training:   No training in this fold\n",
      "    Validation: 2020-03-01 00:00:00 -- 2020-03-10 00:00:00  (n=10)\n",
      "Fold: 2\n",
      "    Training:   No training in this fold\n",
      "    Validation: 2020-03-11 00:00:00 -- 2020-03-20 00:00:00  (n=10)\n",
      "Fold: 3\n",
      "    Training:   No training in this fold\n",
      "    Validation: 2020-03-21 00:00:00 -- 2020-03-30 00:00:00  (n=10)\n",
      "Fold: 4\n",
      "    Training:   No training in this fold\n",
      "    Validation: 2020-03-31 00:00:00 -- 2020-04-09 00:00:00  (n=10)\n",
      "\n"
     ]
    },
    {
     "data": {
      "text/plain": [
       "[[[0, 50], [45, 50], [50, 60], [50, 60], False],\n",
       " [[0, 50], [55, 60], [60, 70], [60, 70], False],\n",
       " [[0, 50], [65, 70], [70, 80], [70, 80], False],\n",
       " [[0, 50], [75, 80], [80, 90], [80, 90], False],\n",
       " [[0, 50], [85, 90], [90, 100], [90, 100], False]]"
      ]
     },
     "execution_count": 7,
     "metadata": {},
     "output_type": "execute_result"
    }
   ],
   "source": [
    "n=100\n",
    "my_series = pd.Series(range(n), index=pd.date_range(start='2020-01-01', periods=n, freq='D'))\n",
    "\n",
    "tsf = TimeSeriesFold(\n",
    "    window_size=5,\n",
    "    initial_train_size=50,\n",
    "    steps=10,\n",
    "    refit=False,\n",
    "    fixed_train_size=True,\n",
    "    gap=0,\n",
    "    skip_folds=None,\n",
    "    allow_incomplete_fold=True,\n",
    "    return_all_indexes=False,\n",
    "    differentiation=None,\n",
    "    verbose=True\n",
    ")\n",
    "\n",
    "folds = tsf.split(my_series)\n",
    "folds"
   ]
  },
  {
   "cell_type": "code",
   "execution_count": 8,
   "metadata": {},
   "outputs": [
    {
     "name": "stdout",
     "output_type": "stream",
     "text": [
      "Information of folds\n",
      "--------------------\n",
      "Number of observations used for initial training: 50\n",
      "Number of observations used for backtesting: 50\n",
      "    Number of folds: 5\n",
      "    Number skipped folds: 0 \n",
      "    Number of steps per fold: 10\n",
      "    Number of steps to exclude from the end of each train set before test (gap): self.0\n",
      "\n",
      "Fold: 0\n",
      "    Training:   2020-01-01 00:00:00 -- 2020-02-19 00:00:00  (n=50)\n",
      "    Validation: 2020-02-20 00:00:00 -- 2020-02-29 00:00:00  (n=10)\n",
      "Fold: 1\n",
      "    Training:   No training in this fold\n",
      "    Validation: 2020-03-01 00:00:00 -- 2020-03-10 00:00:00  (n=10)\n",
      "Fold: 2\n",
      "    Training:   No training in this fold\n",
      "    Validation: 2020-03-11 00:00:00 -- 2020-03-20 00:00:00  (n=10)\n",
      "Fold: 3\n",
      "    Training:   No training in this fold\n",
      "    Validation: 2020-03-21 00:00:00 -- 2020-03-30 00:00:00  (n=10)\n",
      "Fold: 4\n",
      "    Training:   No training in this fold\n",
      "    Validation: 2020-03-31 00:00:00 -- 2020-04-09 00:00:00  (n=10)\n",
      "\n"
     ]
    },
    {
     "data": {
      "text/plain": [
       "[[range(0, 50), range(45, 50), range(50, 60), range(50, 60), False],\n",
       " [range(0, 50), range(55, 60), range(60, 70), range(60, 70), False],\n",
       " [range(0, 50), range(65, 70), range(70, 80), range(70, 80), False],\n",
       " [range(0, 50), range(75, 80), range(80, 90), range(80, 90), False],\n",
       " [range(0, 50), range(85, 90), range(90, 100), range(90, 100), False]]"
      ]
     },
     "execution_count": 8,
     "metadata": {},
     "output_type": "execute_result"
    }
   ],
   "source": [
    "tsf = TimeSeriesFold(\n",
    "    window_size=5,\n",
    "    initial_train_size=50,\n",
    "    steps=10,\n",
    "    refit=False,\n",
    "    fixed_train_size=True,\n",
    "    gap=0,\n",
    "    skip_folds=None,\n",
    "    allow_incomplete_fold=True,\n",
    "    return_all_indexes=True,\n",
    "    differentiation=None,\n",
    "    verbose=True\n",
    ")\n",
    "\n",
    "folds = tsf.split(my_series)\n",
    "folds"
   ]
  },
  {
   "cell_type": "code",
   "execution_count": 9,
   "metadata": {},
   "outputs": [
    {
     "name": "stdout",
     "output_type": "stream",
     "text": [
      "Information of folds\n",
      "--------------------\n",
      "Number of observations used for initial training: 50\n",
      "Number of observations used for backtesting: 50\n",
      "    Number of folds: 5\n",
      "    Number skipped folds: 0 \n",
      "    Number of steps per fold: 10\n",
      "    Number of steps to exclude from the end of each train set before test (gap): self.0\n",
      "\n",
      "Fold: 0\n",
      "    Training:   2020-01-01 00:00:00 -- 2020-02-19 00:00:00  (n=50)\n",
      "    Validation: 2020-02-20 00:00:00 -- 2020-02-29 00:00:00  (n=10)\n",
      "Fold: 1\n",
      "    Training:   2020-01-11 00:00:00 -- 2020-02-29 00:00:00  (n=50)\n",
      "    Validation: 2020-03-01 00:00:00 -- 2020-03-10 00:00:00  (n=10)\n",
      "Fold: 2\n",
      "    Training:   2020-01-21 00:00:00 -- 2020-03-10 00:00:00  (n=50)\n",
      "    Validation: 2020-03-11 00:00:00 -- 2020-03-20 00:00:00  (n=10)\n",
      "Fold: 3\n",
      "    Training:   2020-01-31 00:00:00 -- 2020-03-20 00:00:00  (n=50)\n",
      "    Validation: 2020-03-21 00:00:00 -- 2020-03-30 00:00:00  (n=10)\n",
      "Fold: 4\n",
      "    Training:   2020-02-10 00:00:00 -- 2020-03-30 00:00:00  (n=50)\n",
      "    Validation: 2020-03-31 00:00:00 -- 2020-04-09 00:00:00  (n=10)\n",
      "\n"
     ]
    },
    {
     "data": {
      "text/plain": [
       "[[range(0, 50), range(45, 50), range(50, 60), range(50, 60), False],\n",
       " [range(10, 60), range(55, 60), range(60, 70), range(60, 70), True],\n",
       " [range(20, 70), range(65, 70), range(70, 80), range(70, 80), True],\n",
       " [range(30, 80), range(75, 80), range(80, 90), range(80, 90), True],\n",
       " [range(40, 90), range(85, 90), range(90, 100), range(90, 100), True]]"
      ]
     },
     "execution_count": 9,
     "metadata": {},
     "output_type": "execute_result"
    }
   ],
   "source": [
    "tsf = TimeSeriesFold(\n",
    "    window_size=5,\n",
    "    initial_train_size=50,\n",
    "    steps=10,\n",
    "    refit=True,\n",
    "    fixed_train_size=True,\n",
    "    gap=0,\n",
    "    skip_folds=None,\n",
    "    allow_incomplete_fold=True,\n",
    "    return_all_indexes=True,\n",
    "    differentiation=None,\n",
    "    verbose=True\n",
    ")\n",
    "\n",
    "folds = tsf.split(my_series)\n",
    "folds"
   ]
  },
  {
   "cell_type": "code",
   "execution_count": 10,
   "metadata": {},
   "outputs": [
    {
     "name": "stdout",
     "output_type": "stream",
     "text": [
      "Information of folds\n",
      "--------------------\n",
      "Number of observations used for initial training: 50\n",
      "Number of observations used for backtesting: 50\n",
      "    Number of folds: 5\n",
      "    Number skipped folds: 0 \n",
      "    Number of steps per fold: 10\n",
      "    Number of steps to exclude from the end of each train set before test (gap): self.0\n",
      "\n",
      "Fold: 0\n",
      "    Training:   2020-01-01 00:00:00 -- 2020-02-19 00:00:00  (n=50)\n",
      "    Validation: 2020-02-20 00:00:00 -- 2020-02-29 00:00:00  (n=10)\n",
      "Fold: 1\n",
      "    Training:   2020-01-01 00:00:00 -- 2020-02-29 00:00:00  (n=60)\n",
      "    Validation: 2020-03-01 00:00:00 -- 2020-03-10 00:00:00  (n=10)\n",
      "Fold: 2\n",
      "    Training:   2020-01-01 00:00:00 -- 2020-03-10 00:00:00  (n=70)\n",
      "    Validation: 2020-03-11 00:00:00 -- 2020-03-20 00:00:00  (n=10)\n",
      "Fold: 3\n",
      "    Training:   2020-01-01 00:00:00 -- 2020-03-20 00:00:00  (n=80)\n",
      "    Validation: 2020-03-21 00:00:00 -- 2020-03-30 00:00:00  (n=10)\n",
      "Fold: 4\n",
      "    Training:   2020-01-01 00:00:00 -- 2020-03-30 00:00:00  (n=90)\n",
      "    Validation: 2020-03-31 00:00:00 -- 2020-04-09 00:00:00  (n=10)\n",
      "\n"
     ]
    },
    {
     "data": {
      "text/plain": [
       "[[range(0, 50), range(45, 50), range(50, 60), range(50, 60), False],\n",
       " [range(0, 60), range(55, 60), range(60, 70), range(60, 70), True],\n",
       " [range(0, 70), range(65, 70), range(70, 80), range(70, 80), True],\n",
       " [range(0, 80), range(75, 80), range(80, 90), range(80, 90), True],\n",
       " [range(0, 90), range(85, 90), range(90, 100), range(90, 100), True]]"
      ]
     },
     "execution_count": 10,
     "metadata": {},
     "output_type": "execute_result"
    }
   ],
   "source": [
    "tsf = TimeSeriesFold(\n",
    "    window_size=5,\n",
    "    initial_train_size=50,\n",
    "    steps=10,\n",
    "    refit=True,\n",
    "    fixed_train_size=False,\n",
    "    gap=0,\n",
    "    skip_folds=None,\n",
    "    allow_incomplete_fold=True,\n",
    "    return_all_indexes=True,\n",
    "    differentiation=None,\n",
    "    verbose=True\n",
    ")\n",
    "\n",
    "folds = tsf.split(my_series)\n",
    "folds"
   ]
  },
  {
   "cell_type": "markdown",
   "metadata": {},
   "source": [
    "## Backtesting"
   ]
  },
  {
   "cell_type": "code",
   "execution_count": 11,
   "metadata": {},
   "outputs": [],
   "source": [
    "import pandas as pd\n",
    "import matplotlib.pyplot as plt\n",
    "from skforecast.datasets import fetch_dataset\n",
    "from skforecast.ForecasterAutoreg import ForecasterAutoreg\n",
    "from skforecast.model_selection.model_selection_new import backtesting_forecaster\n",
    "from skforecast.model_selection.model_selection_new import grid_search_forecaster\n",
    "from sklearn.linear_model import Ridge\n",
    "from lightgbm import LGBMRegressor\n",
    "from sklearn.metrics import mean_squared_error"
   ]
  },
  {
   "cell_type": "code",
   "execution_count": 12,
   "metadata": {},
   "outputs": [
    {
     "name": "stdout",
     "output_type": "stream",
     "text": [
      "h2o\n",
      "---\n",
      "Monthly expenditure ($AUD) on corticosteroid drugs that the Australian health\n",
      "system had between 1991 and 2008.\n",
      "Hyndman R (2023). fpp3: Data for Forecasting: Principles and Practice(3rd\n",
      "Edition). http://pkg.robjhyndman.com/fpp3package/,https://github.com/robjhyndman\n",
      "/fpp3package, http://OTexts.com/fpp3.\n",
      "Shape of the dataset: (204, 2)\n",
      "Train dates      : 1991-07-01 00:00:00 --- 2002-01-01 00:00:00  (n=127)\n",
      "Validation dates : 2002-02-01 00:00:00 --- 2008-06-01 00:00:00  (n=77)\n"
     ]
    }
   ],
   "source": [
    "\n",
    "# Download data\n",
    "# ==============================================================================\n",
    "data = fetch_dataset(\n",
    "    name=\"h2o\", raw=True, kwargs_read_csv={\"names\": [\"y\", \"datetime\"], \"header\": 0}\n",
    ")\n",
    "\n",
    "# Data preprocessing\n",
    "# ==============================================================================\n",
    "data['datetime'] = pd.to_datetime(data['datetime'], format='%Y-%m-%d')\n",
    "data = data.set_index('datetime')\n",
    "data = data.asfreq('MS')\n",
    "data = data[['y']]\n",
    "data = data.sort_index()\n",
    "\n",
    "# Train-validation dates\n",
    "# ==============================================================================\n",
    "end_train = '2002-01-01 23:59:00'\n",
    "\n",
    "print(\n",
    "    f\"Train dates      : {data.index.min()} --- {data.loc[:end_train].index.max()}\"\n",
    "    f\"  (n={len(data.loc[:end_train])})\"\n",
    ")\n",
    "print(\n",
    "    f\"Validation dates : {data.loc[end_train:].index.min()} --- {data.index.max()}\"\n",
    "    f\"  (n={len(data.loc[end_train:])})\"\n",
    ")"
   ]
  },
  {
   "cell_type": "code",
   "execution_count": 18,
   "metadata": {},
   "outputs": [
    {
     "name": "stdout",
     "output_type": "stream",
     "text": [
      "Information of folds\n",
      "--------------------\n",
      "Number of observations used for initial training: 127\n",
      "Number of observations used for backtesting: 77\n",
      "    Number of folds: 8\n",
      "    Number skipped folds: 0 \n",
      "    Number of steps per fold: 10\n",
      "    Number of steps to exclude from the end of each train set before test (gap): self.0\n",
      "    Last fold only includes 7 observations.\n",
      "\n",
      "Fold: 0\n",
      "    Training:   1991-07-01 00:00:00 -- 2002-01-01 00:00:00  (n=127)\n",
      "    Validation: 2002-02-01 00:00:00 -- 2002-11-01 00:00:00  (n=10)\n",
      "Fold: 1\n",
      "    Training:   1991-07-01 00:00:00 -- 2002-11-01 00:00:00  (n=137)\n",
      "    Validation: 2002-12-01 00:00:00 -- 2003-09-01 00:00:00  (n=10)\n",
      "Fold: 2\n",
      "    Training:   1991-07-01 00:00:00 -- 2003-09-01 00:00:00  (n=147)\n",
      "    Validation: 2003-10-01 00:00:00 -- 2004-07-01 00:00:00  (n=10)\n",
      "Fold: 3\n",
      "    Training:   1991-07-01 00:00:00 -- 2004-07-01 00:00:00  (n=157)\n",
      "    Validation: 2004-08-01 00:00:00 -- 2005-05-01 00:00:00  (n=10)\n",
      "Fold: 4\n",
      "    Training:   1991-07-01 00:00:00 -- 2005-05-01 00:00:00  (n=167)\n",
      "    Validation: 2005-06-01 00:00:00 -- 2006-03-01 00:00:00  (n=10)\n",
      "Fold: 5\n",
      "    Training:   1991-07-01 00:00:00 -- 2006-03-01 00:00:00  (n=177)\n",
      "    Validation: 2006-04-01 00:00:00 -- 2007-01-01 00:00:00  (n=10)\n",
      "Fold: 6\n",
      "    Training:   1991-07-01 00:00:00 -- 2007-01-01 00:00:00  (n=187)\n",
      "    Validation: 2007-02-01 00:00:00 -- 2007-11-01 00:00:00  (n=10)\n",
      "Fold: 7\n",
      "    Training:   1991-07-01 00:00:00 -- 2007-11-01 00:00:00  (n=197)\n",
      "    Validation: 2007-12-01 00:00:00 -- 2008-06-01 00:00:00  (n=7)\n",
      "\n"
     ]
    },
    {
     "data": {
      "application/vnd.jupyter.widget-view+json": {
       "model_id": "36c2675d5b4943e8b860207e1dce04a6",
       "version_major": 2,
       "version_minor": 0
      },
      "text/plain": [
       "  0%|          | 0/8 [00:00<?, ?it/s]"
      ]
     },
     "metadata": {},
     "output_type": "display_data"
    },
    {
     "data": {
      "text/html": [
       "<div>\n",
       "<style scoped>\n",
       "    .dataframe tbody tr th:only-of-type {\n",
       "        vertical-align: middle;\n",
       "    }\n",
       "\n",
       "    .dataframe tbody tr th {\n",
       "        vertical-align: top;\n",
       "    }\n",
       "\n",
       "    .dataframe thead th {\n",
       "        text-align: right;\n",
       "    }\n",
       "</style>\n",
       "<table border=\"1\" class=\"dataframe\">\n",
       "  <thead>\n",
       "    <tr style=\"text-align: right;\">\n",
       "      <th></th>\n",
       "      <th>mean_squared_error</th>\n",
       "    </tr>\n",
       "  </thead>\n",
       "  <tbody>\n",
       "    <tr>\n",
       "      <th>0</th>\n",
       "      <td>0.00829</td>\n",
       "    </tr>\n",
       "  </tbody>\n",
       "</table>\n",
       "</div>"
      ],
      "text/plain": [
       "   mean_squared_error\n",
       "0             0.00829"
      ]
     },
     "execution_count": 18,
     "metadata": {},
     "output_type": "execute_result"
    }
   ],
   "source": [
    "# Backtesting forecaster\n",
    "# ==============================================================================\n",
    "forecaster = ForecasterAutoreg(\n",
    "                 regressor = LGBMRegressor(random_state=123, verbose=-1),\n",
    "                 lags      = 15 \n",
    "             )\n",
    "\n",
    "cv = TimeSeriesFold(\n",
    "    window_size=int(forecaster.window_size),\n",
    "    initial_train_size=len(data.loc[:end_train]),\n",
    "    steps=10,\n",
    "    fixed_train_size=False,\n",
    "    allow_incomplete_fold=True,\n",
    "    refit=True,\n",
    "    gap=0,\n",
    ")\n",
    "\n",
    "metric, predictions = backtesting_forecaster(\n",
    "                          forecaster            = forecaster,\n",
    "                          y                     = data['y'],\n",
    "                          cv                    = cv,\n",
    "                          metric                = 'mean_squared_error',\n",
    "                          n_jobs                = 'auto',\n",
    "                          verbose               = True,\n",
    "                          show_progress         = True  \n",
    "                      )\n",
    "metric"
   ]
  },
  {
   "cell_type": "code",
   "execution_count": 21,
   "metadata": {},
   "outputs": [
    {
     "name": "stdout",
     "output_type": "stream",
     "text": [
      "Information of folds\n",
      "--------------------\n",
      "Number of observations used for initial training: 127\n",
      "Number of observations used for backtesting: 77\n",
      "    Number of folds: 8\n",
      "    Number skipped folds: 0 \n",
      "    Number of steps per fold: 10\n",
      "    Number of steps to exclude from the end of each train set before test (gap): self.0\n",
      "    Last fold only includes 7 observations.\n",
      "\n",
      "Fold: 0\n",
      "    Training:   1991-07-01 00:00:00 -- 2002-01-01 00:00:00  (n=127)\n",
      "    Validation: 2002-02-01 00:00:00 -- 2002-11-01 00:00:00  (n=10)\n",
      "Fold: 1\n",
      "    Training:   No training in this fold\n",
      "    Validation: 2002-12-01 00:00:00 -- 2003-09-01 00:00:00  (n=10)\n",
      "Fold: 2\n",
      "    Training:   No training in this fold\n",
      "    Validation: 2003-10-01 00:00:00 -- 2004-07-01 00:00:00  (n=10)\n",
      "Fold: 3\n",
      "    Training:   1991-07-01 00:00:00 -- 2004-07-01 00:00:00  (n=157)\n",
      "    Validation: 2004-08-01 00:00:00 -- 2005-05-01 00:00:00  (n=10)\n",
      "Fold: 4\n",
      "    Training:   No training in this fold\n",
      "    Validation: 2005-06-01 00:00:00 -- 2006-03-01 00:00:00  (n=10)\n",
      "Fold: 5\n",
      "    Training:   No training in this fold\n",
      "    Validation: 2006-04-01 00:00:00 -- 2007-01-01 00:00:00  (n=10)\n",
      "Fold: 6\n",
      "    Training:   1991-07-01 00:00:00 -- 2007-01-01 00:00:00  (n=187)\n",
      "    Validation: 2007-02-01 00:00:00 -- 2007-11-01 00:00:00  (n=10)\n",
      "Fold: 7\n",
      "    Training:   No training in this fold\n",
      "    Validation: 2007-12-01 00:00:00 -- 2008-06-01 00:00:00  (n=7)\n",
      "\n"
     ]
    },
    {
     "data": {
      "application/vnd.jupyter.widget-view+json": {
       "model_id": "0f11ec2450ac4d6c9de838a9a3526494",
       "version_major": 2,
       "version_minor": 0
      },
      "text/plain": [
       "  0%|          | 0/8 [00:00<?, ?it/s]"
      ]
     },
     "metadata": {},
     "output_type": "display_data"
    },
    {
     "data": {
      "text/html": [
       "<div>\n",
       "<style scoped>\n",
       "    .dataframe tbody tr th:only-of-type {\n",
       "        vertical-align: middle;\n",
       "    }\n",
       "\n",
       "    .dataframe tbody tr th {\n",
       "        vertical-align: top;\n",
       "    }\n",
       "\n",
       "    .dataframe thead th {\n",
       "        text-align: right;\n",
       "    }\n",
       "</style>\n",
       "<table border=\"1\" class=\"dataframe\">\n",
       "  <thead>\n",
       "    <tr style=\"text-align: right;\">\n",
       "      <th></th>\n",
       "      <th>mean_squared_error</th>\n",
       "    </tr>\n",
       "  </thead>\n",
       "  <tbody>\n",
       "    <tr>\n",
       "      <th>0</th>\n",
       "      <td>0.008878</td>\n",
       "    </tr>\n",
       "  </tbody>\n",
       "</table>\n",
       "</div>"
      ],
      "text/plain": [
       "   mean_squared_error\n",
       "0            0.008878"
      ]
     },
     "execution_count": 21,
     "metadata": {},
     "output_type": "execute_result"
    }
   ],
   "source": [
    "\n",
    "# Backtesting with intermittent refit\n",
    "# ==============================================================================\n",
    "forecaster = ForecasterAutoreg(\n",
    "                 regressor = LGBMRegressor(random_state=123, verbose=-1),\n",
    "                 lags      = 15 \n",
    "             )\n",
    "\n",
    "cv = TimeSeriesFold(\n",
    "    window_size=int(forecaster.window_size),\n",
    "    initial_train_size=len(data.loc[:end_train]),\n",
    "    steps=10,\n",
    "    fixed_train_size=False,\n",
    "    allow_incomplete_fold=True,\n",
    "    refit=3,\n",
    "    gap=0,\n",
    ")\n",
    "\n",
    "\n",
    "metric, predictions = backtesting_forecaster(\n",
    "                          forecaster            = forecaster,\n",
    "                          y                     = data['y'],\n",
    "                          cv                    = cv,\n",
    "                          metric                = 'mean_squared_error',\n",
    "                          verbose               = True,\n",
    "                          show_progress         = True  \n",
    "                      )\n",
    "metric"
   ]
  }
 ],
 "metadata": {
  "kernelspec": {
   "display_name": "skforecast_py10",
   "language": "python",
   "name": "python3"
  },
  "language_info": {
   "codemirror_mode": {
    "name": "ipython",
    "version": 3
   },
   "file_extension": ".py",
   "mimetype": "text/x-python",
   "name": "python",
   "nbconvert_exporter": "python",
   "pygments_lexer": "ipython3",
   "version": "3.12.4"
  },
  "orig_nbformat": 4,
  "vscode": {
   "interpreter": {
    "hash": "c78d62c1713fdacd99ef7c429003c7324b36fbb551fb8b6860a7ea73e9338235"
   }
  }
 },
 "nbformat": 4,
 "nbformat_minor": 2
}
