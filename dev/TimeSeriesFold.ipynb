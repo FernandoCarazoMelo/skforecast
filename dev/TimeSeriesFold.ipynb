{
 "cells": [
  {
   "cell_type": "code",
   "execution_count": 20,
   "metadata": {},
   "outputs": [
    {
     "name": "stdout",
     "output_type": "stream",
     "text": [
      "The autoreload extension is already loaded. To reload it, use:\n",
      "  %reload_ext autoreload\n"
     ]
    },
    {
     "data": {
      "text/plain": [
       "'/home/ubuntu/varios/skforecast'"
      ]
     },
     "execution_count": 20,
     "metadata": {},
     "output_type": "execute_result"
    }
   ],
   "source": [
    "%load_ext autoreload\n",
    "%autoreload 2\n",
    "import sys\n",
    "from pathlib import Path\n",
    "sys.path.insert(1, str(Path.cwd().parent))\n",
    "str(Path.cwd().parent)\n"
   ]
  },
  {
   "cell_type": "code",
   "execution_count": 21,
   "metadata": {},
   "outputs": [],
   "source": [
    "from skforecast.model_selection.model_selection_new import TimeSeriesFold, OneStepAheadFold\n",
    "from skforecast.model_selection.model_selection import _create_backtesting_folds\n",
    "import pandas as pd\n",
    "import numpy as np\n",
    "import itertools"
   ]
  },
  {
   "cell_type": "code",
   "execution_count": 22,
   "metadata": {},
   "outputs": [
    {
     "name": "stdout",
     "output_type": "stream",
     "text": [
      "Information of folds\n",
      "--------------------\n",
      "Number of observations used for initial training: 50\n",
      "Number of observations used for backtesting: 50\n",
      "    Number of folds: 5\n",
      "    Number skipped folds: 0 \n",
      "    Number of steps per fold: 10\n",
      "    Number of steps to exclude from the end of each train set before test (gap): 0\n",
      "\n",
      "Fold: 0\n",
      "    Training:   2020-01-01 00:00:00 -- 2020-02-19 00:00:00  (n=50)\n",
      "    Validation: 2020-02-20 00:00:00 -- 2020-02-29 00:00:00  (n=10)\n",
      "Fold: 1\n",
      "    Training:   No training in this fold\n",
      "    Validation: 2020-03-01 00:00:00 -- 2020-03-10 00:00:00  (n=10)\n",
      "Fold: 2\n",
      "    Training:   No training in this fold\n",
      "    Validation: 2020-03-11 00:00:00 -- 2020-03-20 00:00:00  (n=10)\n",
      "Fold: 3\n",
      "    Training:   No training in this fold\n",
      "    Validation: 2020-03-21 00:00:00 -- 2020-03-30 00:00:00  (n=10)\n",
      "Fold: 4\n",
      "    Training:   No training in this fold\n",
      "    Validation: 2020-03-31 00:00:00 -- 2020-04-09 00:00:00  (n=10)\n",
      "\n"
     ]
    },
    {
     "data": {
      "text/plain": [
       "[[[0, 50], [45, 50], [50, 60], [50, 60], True],\n",
       " [[0, 50], [55, 60], [60, 70], [60, 70], False],\n",
       " [[0, 50], [65, 70], [70, 80], [70, 80], False],\n",
       " [[0, 50], [75, 80], [80, 90], [80, 90], False],\n",
       " [[0, 50], [85, 90], [90, 100], [90, 100], False]]"
      ]
     },
     "execution_count": 22,
     "metadata": {},
     "output_type": "execute_result"
    }
   ],
   "source": [
    "n=100\n",
    "my_series = pd.Series(range(n), index=pd.date_range(start='2020-01-01', periods=n, freq='D'))\n",
    "\n",
    "cv = TimeSeriesFold(\n",
    "        window_size=5,\n",
    "        initial_train_size=50,\n",
    "        steps=10,\n",
    "        refit=False,\n",
    "        fixed_train_size=True,\n",
    "        gap=0,\n",
    "        skip_folds=None,\n",
    "        allow_incomplete_fold=True,\n",
    "        return_all_indexes=False,\n",
    "        differentiation=None,\n",
    "        verbose=True\n",
    "    )\n",
    "\n",
    "folds = cv.split(my_series)\n",
    "folds"
   ]
  },
  {
   "cell_type": "code",
   "execution_count": 23,
   "metadata": {},
   "outputs": [
    {
     "name": "stdout",
     "output_type": "stream",
     "text": [
      "Information of folds\n",
      "--------------------\n",
      "Number of observations used for initial training: 50\n",
      "    First 0 observation/s in training sets are used for differentiation\n",
      "Number of observations used for backtesting: 50\n",
      "    Number of folds: 5\n",
      "    Number skipped folds: 0 \n",
      "    Number of steps per fold: 10\n",
      "    Number of steps to exclude from the end of each train set before test (gap): 0\n",
      "\n",
      "Fold: 0\n",
      "    Training:   2020-01-01 00:00:00 -- 2020-02-19 00:00:00  (n=50)\n",
      "    Validation: 2020-02-20 00:00:00 -- 2020-02-29 00:00:00  (n=10)\n",
      "Fold: 1\n",
      "    Training:   No training in this fold\n",
      "    Validation: 2020-03-01 00:00:00 -- 2020-03-10 00:00:00  (n=10)\n",
      "Fold: 2\n",
      "    Training:   No training in this fold\n",
      "    Validation: 2020-03-11 00:00:00 -- 2020-03-20 00:00:00  (n=10)\n",
      "Fold: 3\n",
      "    Training:   No training in this fold\n",
      "    Validation: 2020-03-21 00:00:00 -- 2020-03-30 00:00:00  (n=10)\n",
      "Fold: 4\n",
      "    Training:   No training in this fold\n",
      "    Validation: 2020-03-31 00:00:00 -- 2020-04-09 00:00:00  (n=10)\n",
      "\n"
     ]
    },
    {
     "data": {
      "text/html": [
       "<div>\n",
       "<style scoped>\n",
       "    .dataframe tbody tr th:only-of-type {\n",
       "        vertical-align: middle;\n",
       "    }\n",
       "\n",
       "    .dataframe tbody tr th {\n",
       "        vertical-align: top;\n",
       "    }\n",
       "\n",
       "    .dataframe thead th {\n",
       "        text-align: right;\n",
       "    }\n",
       "</style>\n",
       "<table border=\"1\" class=\"dataframe\">\n",
       "  <thead>\n",
       "    <tr style=\"text-align: right;\">\n",
       "      <th></th>\n",
       "      <th>fold</th>\n",
       "      <th>train_start</th>\n",
       "      <th>train_end</th>\n",
       "      <th>last_window_start</th>\n",
       "      <th>last_window_end</th>\n",
       "      <th>test_start</th>\n",
       "      <th>test_end</th>\n",
       "      <th>test_start_with_gap</th>\n",
       "      <th>test_end_with_gap</th>\n",
       "      <th>fit_forecaster</th>\n",
       "    </tr>\n",
       "  </thead>\n",
       "  <tbody>\n",
       "    <tr>\n",
       "      <th>0</th>\n",
       "      <td>0</td>\n",
       "      <td>0</td>\n",
       "      <td>50</td>\n",
       "      <td>45</td>\n",
       "      <td>50</td>\n",
       "      <td>50</td>\n",
       "      <td>60</td>\n",
       "      <td>50</td>\n",
       "      <td>60</td>\n",
       "      <td>True</td>\n",
       "    </tr>\n",
       "    <tr>\n",
       "      <th>1</th>\n",
       "      <td>1</td>\n",
       "      <td>0</td>\n",
       "      <td>50</td>\n",
       "      <td>55</td>\n",
       "      <td>60</td>\n",
       "      <td>60</td>\n",
       "      <td>70</td>\n",
       "      <td>60</td>\n",
       "      <td>70</td>\n",
       "      <td>False</td>\n",
       "    </tr>\n",
       "    <tr>\n",
       "      <th>2</th>\n",
       "      <td>2</td>\n",
       "      <td>0</td>\n",
       "      <td>50</td>\n",
       "      <td>65</td>\n",
       "      <td>70</td>\n",
       "      <td>70</td>\n",
       "      <td>80</td>\n",
       "      <td>70</td>\n",
       "      <td>80</td>\n",
       "      <td>False</td>\n",
       "    </tr>\n",
       "    <tr>\n",
       "      <th>3</th>\n",
       "      <td>3</td>\n",
       "      <td>0</td>\n",
       "      <td>50</td>\n",
       "      <td>75</td>\n",
       "      <td>80</td>\n",
       "      <td>80</td>\n",
       "      <td>90</td>\n",
       "      <td>80</td>\n",
       "      <td>90</td>\n",
       "      <td>False</td>\n",
       "    </tr>\n",
       "    <tr>\n",
       "      <th>4</th>\n",
       "      <td>4</td>\n",
       "      <td>0</td>\n",
       "      <td>50</td>\n",
       "      <td>85</td>\n",
       "      <td>90</td>\n",
       "      <td>90</td>\n",
       "      <td>100</td>\n",
       "      <td>90</td>\n",
       "      <td>100</td>\n",
       "      <td>False</td>\n",
       "    </tr>\n",
       "  </tbody>\n",
       "</table>\n",
       "</div>"
      ],
      "text/plain": [
       "   fold  train_start  train_end  last_window_start  last_window_end  \\\n",
       "0     0            0         50                 45               50   \n",
       "1     1            0         50                 55               60   \n",
       "2     2            0         50                 65               70   \n",
       "3     3            0         50                 75               80   \n",
       "4     4            0         50                 85               90   \n",
       "\n",
       "   test_start  test_end  test_start_with_gap  test_end_with_gap  \\\n",
       "0          50        60                   50                 60   \n",
       "1          60        70                   60                 70   \n",
       "2          70        80                   70                 80   \n",
       "3          80        90                   80                 90   \n",
       "4          90       100                   90                100   \n",
       "\n",
       "   fit_forecaster  \n",
       "0            True  \n",
       "1           False  \n",
       "2           False  \n",
       "3           False  \n",
       "4           False  "
      ]
     },
     "execution_count": 23,
     "metadata": {},
     "output_type": "execute_result"
    }
   ],
   "source": [
    "folds = cv.split(my_series, as_pandas=True)\n",
    "folds"
   ]
  },
  {
   "cell_type": "code",
   "execution_count": 24,
   "metadata": {},
   "outputs": [
    {
     "name": "stdout",
     "output_type": "stream",
     "text": [
      "Information of folds\n",
      "--------------------\n",
      "Number of observations used for initial training: 48\n",
      "    First 2 observation/s in training sets are used for differentiation\n",
      "Number of observations used for backtesting: 50\n",
      "    Number of folds: 5\n",
      "    Number skipped folds: 0 \n",
      "    Number of steps per fold: 10\n",
      "    Number of steps to exclude from the end of each train set before test (gap): 0\n",
      "\n",
      "Fold: 0\n",
      "    Training:   2020-01-03 00:00:00 -- 2020-02-19 00:00:00  (n=48)\n",
      "    Validation: 2020-02-20 00:00:00 -- 2020-02-29 00:00:00  (n=10)\n",
      "Fold: 1\n",
      "    Training:   No training in this fold\n",
      "    Validation: 2020-03-01 00:00:00 -- 2020-03-10 00:00:00  (n=10)\n",
      "Fold: 2\n",
      "    Training:   No training in this fold\n",
      "    Validation: 2020-03-11 00:00:00 -- 2020-03-20 00:00:00  (n=10)\n",
      "Fold: 3\n",
      "    Training:   No training in this fold\n",
      "    Validation: 2020-03-21 00:00:00 -- 2020-03-30 00:00:00  (n=10)\n",
      "Fold: 4\n",
      "    Training:   No training in this fold\n",
      "    Validation: 2020-03-31 00:00:00 -- 2020-04-09 00:00:00  (n=10)\n",
      "\n"
     ]
    },
    {
     "name": "stderr",
     "output_type": "stream",
     "text": [
      "/home/ubuntu/varios/skforecast/skforecast/model_selection/model_selection_new.py:356: UserWarning: Last window cannot be calculated because `window_size` is None. \n",
      "  idx = range(len(X))\n"
     ]
    },
    {
     "data": {
      "text/plain": [
       "[[[0, 50], [], [50, 60], [50, 60], True],\n",
       " [[0, 50], [], [60, 70], [60, 70], False],\n",
       " [[0, 50], [], [70, 80], [70, 80], False],\n",
       " [[0, 50], [], [80, 90], [80, 90], False],\n",
       " [[0, 50], [], [90, 100], [90, 100], False]]"
      ]
     },
     "execution_count": 24,
     "metadata": {},
     "output_type": "execute_result"
    }
   ],
   "source": [
    "cv = TimeSeriesFold(\n",
    "    window_size=None,\n",
    "    initial_train_size=50,\n",
    "    steps=10,\n",
    "    refit=False,\n",
    "    fixed_train_size=True,\n",
    "    gap=0,\n",
    "    skip_folds=None,\n",
    "    allow_incomplete_fold=True,\n",
    "    return_all_indexes=False,\n",
    "    differentiation=2,\n",
    "    verbose=True\n",
    ")\n",
    "\n",
    "folds = cv.split(my_series)\n",
    "folds"
   ]
  },
  {
   "cell_type": "code",
   "execution_count": 25,
   "metadata": {},
   "outputs": [
    {
     "name": "stdout",
     "output_type": "stream",
     "text": [
      "Information of folds\n",
      "--------------------\n",
      "Number of observations used for initial training: 50\n",
      "Number of observations used for backtesting: 50\n",
      "    Number of folds: 5\n",
      "    Number skipped folds: 0 \n",
      "    Number of steps per fold: 10\n",
      "    Number of steps to exclude from the end of each train set before test (gap): 0\n",
      "\n",
      "Fold: 0\n",
      "    Training:   2020-01-01 00:00:00 -- 2020-02-19 00:00:00  (n=50)\n",
      "    Validation: 2020-02-20 00:00:00 -- 2020-02-29 00:00:00  (n=10)\n",
      "Fold: 1\n",
      "    Training:   No training in this fold\n",
      "    Validation: 2020-03-01 00:00:00 -- 2020-03-10 00:00:00  (n=10)\n",
      "Fold: 2\n",
      "    Training:   No training in this fold\n",
      "    Validation: 2020-03-11 00:00:00 -- 2020-03-20 00:00:00  (n=10)\n",
      "Fold: 3\n",
      "    Training:   No training in this fold\n",
      "    Validation: 2020-03-21 00:00:00 -- 2020-03-30 00:00:00  (n=10)\n",
      "Fold: 4\n",
      "    Training:   No training in this fold\n",
      "    Validation: 2020-03-31 00:00:00 -- 2020-04-09 00:00:00  (n=10)\n",
      "\n"
     ]
    },
    {
     "data": {
      "text/plain": [
       "[[range(0, 50), range(45, 50), range(50, 60), range(50, 60), True],\n",
       " [range(0, 50), range(55, 60), range(60, 70), range(60, 70), False],\n",
       " [range(0, 50), range(65, 70), range(70, 80), range(70, 80), False],\n",
       " [range(0, 50), range(75, 80), range(80, 90), range(80, 90), False],\n",
       " [range(0, 50), range(85, 90), range(90, 100), range(90, 100), False]]"
      ]
     },
     "execution_count": 25,
     "metadata": {},
     "output_type": "execute_result"
    }
   ],
   "source": [
    "cv = TimeSeriesFold(\n",
    "    window_size=5,\n",
    "    initial_train_size=50,\n",
    "    steps=10,\n",
    "    refit=False,\n",
    "    fixed_train_size=True,\n",
    "    gap=0,\n",
    "    skip_folds=None,\n",
    "    allow_incomplete_fold=True,\n",
    "    return_all_indexes=True,\n",
    "    differentiation=None,\n",
    "    verbose=True\n",
    ")\n",
    "\n",
    "folds = cv.split(my_series)\n",
    "folds"
   ]
  },
  {
   "cell_type": "code",
   "execution_count": 26,
   "metadata": {},
   "outputs": [
    {
     "name": "stdout",
     "output_type": "stream",
     "text": [
      "Information of folds\n",
      "--------------------\n",
      "Number of observations used for initial training: 50\n",
      "Number of observations used for backtesting: 50\n",
      "    Number of folds: 5\n",
      "    Number skipped folds: 0 \n",
      "    Number of steps per fold: 10\n",
      "    Number of steps to exclude from the end of each train set before test (gap): 0\n",
      "\n",
      "Fold: 0\n",
      "    Training:   2020-01-01 00:00:00 -- 2020-02-19 00:00:00  (n=50)\n",
      "    Validation: 2020-02-20 00:00:00 -- 2020-02-29 00:00:00  (n=10)\n",
      "Fold: 1\n",
      "    Training:   2020-01-11 00:00:00 -- 2020-02-29 00:00:00  (n=50)\n",
      "    Validation: 2020-03-01 00:00:00 -- 2020-03-10 00:00:00  (n=10)\n",
      "Fold: 2\n",
      "    Training:   2020-01-21 00:00:00 -- 2020-03-10 00:00:00  (n=50)\n",
      "    Validation: 2020-03-11 00:00:00 -- 2020-03-20 00:00:00  (n=10)\n",
      "Fold: 3\n",
      "    Training:   2020-01-31 00:00:00 -- 2020-03-20 00:00:00  (n=50)\n",
      "    Validation: 2020-03-21 00:00:00 -- 2020-03-30 00:00:00  (n=10)\n",
      "Fold: 4\n",
      "    Training:   2020-02-10 00:00:00 -- 2020-03-30 00:00:00  (n=50)\n",
      "    Validation: 2020-03-31 00:00:00 -- 2020-04-09 00:00:00  (n=10)\n",
      "\n"
     ]
    },
    {
     "data": {
      "text/plain": [
       "[[range(0, 50), range(45, 50), range(50, 60), range(50, 60), True],\n",
       " [range(10, 60), range(55, 60), range(60, 70), range(60, 70), True],\n",
       " [range(20, 70), range(65, 70), range(70, 80), range(70, 80), True],\n",
       " [range(30, 80), range(75, 80), range(80, 90), range(80, 90), True],\n",
       " [range(40, 90), range(85, 90), range(90, 100), range(90, 100), True]]"
      ]
     },
     "execution_count": 26,
     "metadata": {},
     "output_type": "execute_result"
    }
   ],
   "source": [
    "cv = TimeSeriesFold(\n",
    "    window_size=5,\n",
    "    initial_train_size=50,\n",
    "    steps=10,\n",
    "    refit=True,\n",
    "    fixed_train_size=True,\n",
    "    gap=0,\n",
    "    skip_folds=None,\n",
    "    allow_incomplete_fold=True,\n",
    "    return_all_indexes=True,\n",
    "    differentiation=None,\n",
    "    verbose=True\n",
    ")\n",
    "\n",
    "folds = cv.split(my_series)\n",
    "folds"
   ]
  },
  {
   "cell_type": "code",
   "execution_count": 27,
   "metadata": {},
   "outputs": [
    {
     "name": "stdout",
     "output_type": "stream",
     "text": [
      "Information of folds\n",
      "--------------------\n",
      "Number of observations used for initial training: 50\n",
      "Number of observations used for backtesting: 50\n",
      "    Number of folds: 5\n",
      "    Number skipped folds: 0 \n",
      "    Number of steps per fold: 10\n",
      "    Number of steps to exclude from the end of each train set before test (gap): 0\n",
      "\n",
      "Fold: 0\n",
      "    Training:   2020-01-01 00:00:00 -- 2020-02-19 00:00:00  (n=50)\n",
      "    Validation: 2020-02-20 00:00:00 -- 2020-02-29 00:00:00  (n=10)\n",
      "Fold: 1\n",
      "    Training:   2020-01-01 00:00:00 -- 2020-02-29 00:00:00  (n=60)\n",
      "    Validation: 2020-03-01 00:00:00 -- 2020-03-10 00:00:00  (n=10)\n",
      "Fold: 2\n",
      "    Training:   2020-01-01 00:00:00 -- 2020-03-10 00:00:00  (n=70)\n",
      "    Validation: 2020-03-11 00:00:00 -- 2020-03-20 00:00:00  (n=10)\n",
      "Fold: 3\n",
      "    Training:   2020-01-01 00:00:00 -- 2020-03-20 00:00:00  (n=80)\n",
      "    Validation: 2020-03-21 00:00:00 -- 2020-03-30 00:00:00  (n=10)\n",
      "Fold: 4\n",
      "    Training:   2020-01-01 00:00:00 -- 2020-03-30 00:00:00  (n=90)\n",
      "    Validation: 2020-03-31 00:00:00 -- 2020-04-09 00:00:00  (n=10)\n",
      "\n"
     ]
    },
    {
     "data": {
      "text/plain": [
       "[[range(0, 50), range(45, 50), range(50, 60), range(50, 60), True],\n",
       " [range(0, 60), range(55, 60), range(60, 70), range(60, 70), True],\n",
       " [range(0, 70), range(65, 70), range(70, 80), range(70, 80), True],\n",
       " [range(0, 80), range(75, 80), range(80, 90), range(80, 90), True],\n",
       " [range(0, 90), range(85, 90), range(90, 100), range(90, 100), True]]"
      ]
     },
     "execution_count": 27,
     "metadata": {},
     "output_type": "execute_result"
    }
   ],
   "source": [
    "cv = TimeSeriesFold(\n",
    "    window_size=5,\n",
    "    initial_train_size=50,\n",
    "    steps=10,\n",
    "    refit=True,\n",
    "    fixed_train_size=False,\n",
    "    gap=0,\n",
    "    skip_folds=None,\n",
    "    allow_incomplete_fold=True,\n",
    "    return_all_indexes=True,\n",
    "    differentiation=None,\n",
    "    verbose=True\n",
    ")\n",
    "\n",
    "folds = cv.split(my_series)\n",
    "folds"
   ]
  },
  {
   "cell_type": "code",
   "execution_count": 28,
   "metadata": {},
   "outputs": [
    {
     "name": "stdout",
     "output_type": "stream",
     "text": [
      "TimeSeriesFold(\n",
      "    steps=10,\n",
      "    initial_train_size=50,\n",
      "    window_size=5,\n",
      "    differentiation=None,\n",
      "    refit=True,\n",
      "    fixed_train_size=False,\n",
      "    gap=0,\n",
      "    skip_folds=None,\n",
      "    allow_incomplete_fold=True,\n",
      "    return_all_indexes=True,\n",
      "    verbose=True\n",
      ")\n",
      "TimeSeriesFold(\n",
      "    steps=10,\n",
      "    initial_train_size=50,\n",
      "    window_size=10,\n",
      "    differentiation=2,\n",
      "    refit=True,\n",
      "    fixed_train_size=False,\n",
      "    gap=0,\n",
      "    skip_folds=None,\n",
      "    allow_incomplete_fold=True,\n",
      "    return_all_indexes=True,\n",
      "    verbose=True\n",
      ")\n"
     ]
    }
   ],
   "source": [
    "cv = TimeSeriesFold(\n",
    "    window_size=5,\n",
    "    initial_train_size=50,\n",
    "    steps=10,\n",
    "    refit=True,\n",
    "    fixed_train_size=False,\n",
    "    gap=0,\n",
    "    skip_folds=None,\n",
    "    allow_incomplete_fold=True,\n",
    "    return_all_indexes=True,\n",
    "    differentiation=None,\n",
    "    verbose=True\n",
    ")\n",
    "\n",
    "print(cv)\n",
    "\n",
    "cv.set_params({'window_size': 10, 'differentiation': 2})\n",
    "print(cv)"
   ]
  },
  {
   "cell_type": "markdown",
   "metadata": {},
   "source": [
    "## Backtesting"
   ]
  },
  {
   "cell_type": "code",
   "execution_count": 29,
   "metadata": {},
   "outputs": [],
   "source": [
    "import pandas as pd\n",
    "import matplotlib.pyplot as plt\n",
    "from skforecast.datasets import fetch_dataset\n",
    "from skforecast.ForecasterAutoreg import ForecasterAutoreg\n",
    "from skforecast.model_selection.model_selection import backtesting_forecaster\n",
    "from skforecast.model_selection.model_selection import grid_search_forecaster\n",
    "from skforecast.model_selection.model_selection_new import backtesting_forecaster as backtesting_forecaster_new\n",
    "from skforecast.model_selection.model_selection_new import grid_search_forecaster as grid_search_forecaster_new\n",
    "from sklearn.linear_model import Ridge\n",
    "from sklearn.model_selection import ParameterGrid\n",
    "from lightgbm import LGBMRegressor\n",
    "from sklearn.metrics import mean_squared_error"
   ]
  },
  {
   "cell_type": "code",
   "execution_count": 30,
   "metadata": {},
   "outputs": [
    {
     "name": "stdout",
     "output_type": "stream",
     "text": [
      "h2o\n",
      "---\n",
      "Monthly expenditure ($AUD) on corticosteroid drugs that the Australian health\n",
      "system had between 1991 and 2008.\n",
      "Hyndman R (2023). fpp3: Data for Forecasting: Principles and Practice(3rd\n",
      "Edition). http://pkg.robjhyndman.com/fpp3package/,https://github.com/robjhyndman\n",
      "/fpp3package, http://OTexts.com/fpp3.\n",
      "Shape of the dataset: (204, 2)\n",
      "Train dates      : 1991-07-01 00:00:00 --- 2002-01-01 00:00:00  (n=127)\n",
      "Validation dates : 2002-02-01 00:00:00 --- 2008-06-01 00:00:00  (n=77)\n"
     ]
    }
   ],
   "source": [
    "# Download data\n",
    "# ==============================================================================\n",
    "data = fetch_dataset(\n",
    "    name=\"h2o\", raw=True, kwargs_read_csv={\"names\": [\"y\", \"datetime\"], \"header\": 0}\n",
    ")\n",
    "\n",
    "# Data preprocessing\n",
    "# ==============================================================================\n",
    "data['datetime'] = pd.to_datetime(data['datetime'], format='%Y-%m-%d')\n",
    "data = data.set_index('datetime')\n",
    "data = data.asfreq('MS')\n",
    "data = data[['y']]\n",
    "data = data.sort_index()\n",
    "\n",
    "# Train-validation dates\n",
    "# ==============================================================================\n",
    "end_train = '2002-01-01 23:59:00'\n",
    "\n",
    "print(\n",
    "    f\"Train dates      : {data.index.min()} --- {data.loc[:end_train].index.max()}\"\n",
    "    f\"  (n={len(data.loc[:end_train])})\"\n",
    ")\n",
    "print(\n",
    "    f\"Validation dates : {data.loc[end_train:].index.min()} --- {data.index.max()}\"\n",
    "    f\"  (n={len(data.loc[end_train:])})\"\n",
    ")"
   ]
  },
  {
   "cell_type": "code",
   "execution_count": 31,
   "metadata": {},
   "outputs": [
    {
     "name": "stdout",
     "output_type": "stream",
     "text": [
      "Information of folds\n",
      "--------------------\n",
      "Number of observations used for initial training: 127\n",
      "Number of observations used for backtesting: 77\n",
      "    Number of folds: 8\n",
      "    Number skipped folds: 0 \n",
      "    Number of steps per fold: 10\n",
      "    Number of steps to exclude from the end of each train set before test (gap): 0\n",
      "    Last fold only includes 7 observations.\n",
      "\n",
      "Fold: 0\n",
      "    Training:   1991-07-01 00:00:00 -- 2002-01-01 00:00:00  (n=127)\n",
      "    Validation: 2002-02-01 00:00:00 -- 2002-11-01 00:00:00  (n=10)\n",
      "Fold: 1\n",
      "    Training:   1991-07-01 00:00:00 -- 2002-11-01 00:00:00  (n=137)\n",
      "    Validation: 2002-12-01 00:00:00 -- 2003-09-01 00:00:00  (n=10)\n",
      "Fold: 2\n",
      "    Training:   1991-07-01 00:00:00 -- 2003-09-01 00:00:00  (n=147)\n",
      "    Validation: 2003-10-01 00:00:00 -- 2004-07-01 00:00:00  (n=10)\n",
      "Fold: 3\n",
      "    Training:   1991-07-01 00:00:00 -- 2004-07-01 00:00:00  (n=157)\n",
      "    Validation: 2004-08-01 00:00:00 -- 2005-05-01 00:00:00  (n=10)\n",
      "Fold: 4\n",
      "    Training:   1991-07-01 00:00:00 -- 2005-05-01 00:00:00  (n=167)\n",
      "    Validation: 2005-06-01 00:00:00 -- 2006-03-01 00:00:00  (n=10)\n",
      "Fold: 5\n",
      "    Training:   1991-07-01 00:00:00 -- 2006-03-01 00:00:00  (n=177)\n",
      "    Validation: 2006-04-01 00:00:00 -- 2007-01-01 00:00:00  (n=10)\n",
      "Fold: 6\n",
      "    Training:   1991-07-01 00:00:00 -- 2007-01-01 00:00:00  (n=187)\n",
      "    Validation: 2007-02-01 00:00:00 -- 2007-11-01 00:00:00  (n=10)\n",
      "Fold: 7\n",
      "    Training:   1991-07-01 00:00:00 -- 2007-11-01 00:00:00  (n=197)\n",
      "    Validation: 2007-12-01 00:00:00 -- 2008-06-01 00:00:00  (n=7)\n",
      "\n"
     ]
    },
    {
     "data": {
      "application/vnd.jupyter.widget-view+json": {
       "model_id": "283887cb875a4ff5b1c5c6159d6b4e3a",
       "version_major": 2,
       "version_minor": 0
      },
      "text/plain": [
       "  0%|          | 0/8 [00:00<?, ?it/s]"
      ]
     },
     "metadata": {},
     "output_type": "display_data"
    },
    {
     "data": {
      "text/html": [
       "<div>\n",
       "<style scoped>\n",
       "    .dataframe tbody tr th:only-of-type {\n",
       "        vertical-align: middle;\n",
       "    }\n",
       "\n",
       "    .dataframe tbody tr th {\n",
       "        vertical-align: top;\n",
       "    }\n",
       "\n",
       "    .dataframe thead th {\n",
       "        text-align: right;\n",
       "    }\n",
       "</style>\n",
       "<table border=\"1\" class=\"dataframe\">\n",
       "  <thead>\n",
       "    <tr style=\"text-align: right;\">\n",
       "      <th></th>\n",
       "      <th>mean_squared_error</th>\n",
       "    </tr>\n",
       "  </thead>\n",
       "  <tbody>\n",
       "    <tr>\n",
       "      <th>0</th>\n",
       "      <td>0.00829</td>\n",
       "    </tr>\n",
       "  </tbody>\n",
       "</table>\n",
       "</div>"
      ],
      "text/plain": [
       "   mean_squared_error\n",
       "0             0.00829"
      ]
     },
     "execution_count": 31,
     "metadata": {},
     "output_type": "execute_result"
    }
   ],
   "source": [
    "# Backtesting forecaster\n",
    "# ==============================================================================\n",
    "forecaster = ForecasterAutoreg(\n",
    "                 regressor = LGBMRegressor(random_state=123, verbose=-1),\n",
    "                 lags      = 15 \n",
    "             )\n",
    "\n",
    "cv = TimeSeriesFold(\n",
    "        initial_train_size=len(data.loc[:end_train]),\n",
    "        steps=10,\n",
    "        fixed_train_size=False,\n",
    "        allow_incomplete_fold=True,\n",
    "        refit=True,\n",
    "        gap=0,\n",
    "    )\n",
    "\n",
    "metric, predictions = backtesting_forecaster_new(\n",
    "                          forecaster            = forecaster,\n",
    "                          y                     = data['y'],\n",
    "                          cv                    = cv,\n",
    "                          metric                = 'mean_squared_error',\n",
    "                          n_jobs                = 'auto',\n",
    "                          verbose               = True,\n",
    "                          show_progress         = True  \n",
    "                      )\n",
    "metric"
   ]
  },
  {
   "cell_type": "code",
   "execution_count": 32,
   "metadata": {},
   "outputs": [
    {
     "name": "stdout",
     "output_type": "stream",
     "text": [
      "Information of folds\n",
      "--------------------\n",
      "Number of observations used for initial training: 127\n",
      "Number of observations used for backtesting: 77\n",
      "    Number of folds: 8\n",
      "    Number skipped folds: 0 \n",
      "    Number of steps per fold: 10\n",
      "    Number of steps to exclude from the end of each train set before test (gap): 0\n",
      "    Last fold only includes 7 observations.\n",
      "\n",
      "Fold: 0\n",
      "    Training:   1991-07-01 00:00:00 -- 2002-01-01 00:00:00  (n=127)\n",
      "    Validation: 2002-02-01 00:00:00 -- 2002-11-01 00:00:00  (n=10)\n",
      "Fold: 1\n",
      "    Training:   1991-07-01 00:00:00 -- 2002-11-01 00:00:00  (n=137)\n",
      "    Validation: 2002-12-01 00:00:00 -- 2003-09-01 00:00:00  (n=10)\n",
      "Fold: 2\n",
      "    Training:   1991-07-01 00:00:00 -- 2003-09-01 00:00:00  (n=147)\n",
      "    Validation: 2003-10-01 00:00:00 -- 2004-07-01 00:00:00  (n=10)\n",
      "Fold: 3\n",
      "    Training:   1991-07-01 00:00:00 -- 2004-07-01 00:00:00  (n=157)\n",
      "    Validation: 2004-08-01 00:00:00 -- 2005-05-01 00:00:00  (n=10)\n",
      "Fold: 4\n",
      "    Training:   1991-07-01 00:00:00 -- 2005-05-01 00:00:00  (n=167)\n",
      "    Validation: 2005-06-01 00:00:00 -- 2006-03-01 00:00:00  (n=10)\n",
      "Fold: 5\n",
      "    Training:   1991-07-01 00:00:00 -- 2006-03-01 00:00:00  (n=177)\n",
      "    Validation: 2006-04-01 00:00:00 -- 2007-01-01 00:00:00  (n=10)\n",
      "Fold: 6\n",
      "    Training:   1991-07-01 00:00:00 -- 2007-01-01 00:00:00  (n=187)\n",
      "    Validation: 2007-02-01 00:00:00 -- 2007-11-01 00:00:00  (n=10)\n",
      "Fold: 7\n",
      "    Training:   1991-07-01 00:00:00 -- 2007-11-01 00:00:00  (n=197)\n",
      "    Validation: 2007-12-01 00:00:00 -- 2008-06-01 00:00:00  (n=7)\n",
      "\n"
     ]
    },
    {
     "name": "stderr",
     "output_type": "stream",
     "text": [
      "/home/ubuntu/varios/skforecast/skforecast/model_selection/model_selection_new.py:356: UserWarning: Last window cannot be calculated because `window_size` is None. \n",
      "  idx = range(len(X))\n"
     ]
    },
    {
     "data": {
      "text/plain": [
       "[[range(0, 127), None, range(127, 137), range(127, 137), True],\n",
       " [range(0, 137), None, range(137, 147), range(137, 147), True],\n",
       " [range(0, 147), None, range(147, 157), range(147, 157), True],\n",
       " [range(0, 157), None, range(157, 167), range(157, 167), True],\n",
       " [range(0, 167), None, range(167, 177), range(167, 177), True],\n",
       " [range(0, 177), None, range(177, 187), range(177, 187), True],\n",
       " [range(0, 187), None, range(187, 197), range(187, 197), True],\n",
       " [range(0, 197), None, range(197, 204), range(197, 204), True]]"
      ]
     },
     "execution_count": 32,
     "metadata": {},
     "output_type": "execute_result"
    }
   ],
   "source": [
    "cv = TimeSeriesFold(\n",
    "        initial_train_size=len(data.loc[:end_train]),\n",
    "        steps=10,\n",
    "        fixed_train_size=False,\n",
    "        allow_incomplete_fold=True,\n",
    "        refit=True,\n",
    "        gap=0,\n",
    "        return_all_indexes=True\n",
    "\n",
    "    )\n",
    "\n",
    "cv.split(data['y'], as_pandas=False)"
   ]
  },
  {
   "cell_type": "code",
   "execution_count": 33,
   "metadata": {},
   "outputs": [
    {
     "name": "stdout",
     "output_type": "stream",
     "text": [
      "{'allow_incomplete_fold': True, 'differentiation': None, 'fixed_train_size': True, 'gap': 0, 'initial_train_size': 127, 'refit': True, 'steps': 10}\n",
      "{'allow_incomplete_fold': True, 'differentiation': None, 'fixed_train_size': True, 'gap': 0, 'initial_train_size': 127, 'refit': False, 'steps': 10}\n",
      "{'allow_incomplete_fold': True, 'differentiation': None, 'fixed_train_size': True, 'gap': 0, 'initial_train_size': 127, 'refit': 3, 'steps': 10}\n",
      "{'allow_incomplete_fold': True, 'differentiation': None, 'fixed_train_size': True, 'gap': 1, 'initial_train_size': 127, 'refit': True, 'steps': 10}\n",
      "{'allow_incomplete_fold': True, 'differentiation': None, 'fixed_train_size': True, 'gap': 1, 'initial_train_size': 127, 'refit': False, 'steps': 10}\n",
      "{'allow_incomplete_fold': True, 'differentiation': None, 'fixed_train_size': True, 'gap': 1, 'initial_train_size': 127, 'refit': 3, 'steps': 10}\n",
      "{'allow_incomplete_fold': True, 'differentiation': None, 'fixed_train_size': True, 'gap': 3, 'initial_train_size': 127, 'refit': True, 'steps': 10}\n",
      "{'allow_incomplete_fold': True, 'differentiation': None, 'fixed_train_size': True, 'gap': 3, 'initial_train_size': 127, 'refit': False, 'steps': 10}\n",
      "{'allow_incomplete_fold': True, 'differentiation': None, 'fixed_train_size': True, 'gap': 3, 'initial_train_size': 127, 'refit': 3, 'steps': 10}\n",
      "{'allow_incomplete_fold': True, 'differentiation': None, 'fixed_train_size': False, 'gap': 0, 'initial_train_size': 127, 'refit': True, 'steps': 10}\n",
      "{'allow_incomplete_fold': True, 'differentiation': None, 'fixed_train_size': False, 'gap': 0, 'initial_train_size': 127, 'refit': False, 'steps': 10}\n",
      "{'allow_incomplete_fold': True, 'differentiation': None, 'fixed_train_size': False, 'gap': 0, 'initial_train_size': 127, 'refit': 3, 'steps': 10}\n",
      "{'allow_incomplete_fold': True, 'differentiation': None, 'fixed_train_size': False, 'gap': 1, 'initial_train_size': 127, 'refit': True, 'steps': 10}\n",
      "{'allow_incomplete_fold': True, 'differentiation': None, 'fixed_train_size': False, 'gap': 1, 'initial_train_size': 127, 'refit': False, 'steps': 10}\n",
      "{'allow_incomplete_fold': True, 'differentiation': None, 'fixed_train_size': False, 'gap': 1, 'initial_train_size': 127, 'refit': 3, 'steps': 10}\n",
      "{'allow_incomplete_fold': True, 'differentiation': None, 'fixed_train_size': False, 'gap': 3, 'initial_train_size': 127, 'refit': True, 'steps': 10}\n",
      "{'allow_incomplete_fold': True, 'differentiation': None, 'fixed_train_size': False, 'gap': 3, 'initial_train_size': 127, 'refit': False, 'steps': 10}\n",
      "{'allow_incomplete_fold': True, 'differentiation': None, 'fixed_train_size': False, 'gap': 3, 'initial_train_size': 127, 'refit': 3, 'steps': 10}\n",
      "{'allow_incomplete_fold': True, 'differentiation': 1, 'fixed_train_size': True, 'gap': 0, 'initial_train_size': 127, 'refit': True, 'steps': 10}\n",
      "{'allow_incomplete_fold': True, 'differentiation': 1, 'fixed_train_size': True, 'gap': 0, 'initial_train_size': 127, 'refit': False, 'steps': 10}\n",
      "{'allow_incomplete_fold': True, 'differentiation': 1, 'fixed_train_size': True, 'gap': 0, 'initial_train_size': 127, 'refit': 3, 'steps': 10}\n",
      "{'allow_incomplete_fold': True, 'differentiation': 1, 'fixed_train_size': True, 'gap': 1, 'initial_train_size': 127, 'refit': True, 'steps': 10}\n",
      "{'allow_incomplete_fold': True, 'differentiation': 1, 'fixed_train_size': True, 'gap': 1, 'initial_train_size': 127, 'refit': False, 'steps': 10}\n",
      "{'allow_incomplete_fold': True, 'differentiation': 1, 'fixed_train_size': True, 'gap': 1, 'initial_train_size': 127, 'refit': 3, 'steps': 10}\n",
      "{'allow_incomplete_fold': True, 'differentiation': 1, 'fixed_train_size': True, 'gap': 3, 'initial_train_size': 127, 'refit': True, 'steps': 10}\n",
      "{'allow_incomplete_fold': True, 'differentiation': 1, 'fixed_train_size': True, 'gap': 3, 'initial_train_size': 127, 'refit': False, 'steps': 10}\n",
      "{'allow_incomplete_fold': True, 'differentiation': 1, 'fixed_train_size': True, 'gap': 3, 'initial_train_size': 127, 'refit': 3, 'steps': 10}\n",
      "{'allow_incomplete_fold': True, 'differentiation': 1, 'fixed_train_size': False, 'gap': 0, 'initial_train_size': 127, 'refit': True, 'steps': 10}\n",
      "{'allow_incomplete_fold': True, 'differentiation': 1, 'fixed_train_size': False, 'gap': 0, 'initial_train_size': 127, 'refit': False, 'steps': 10}\n",
      "{'allow_incomplete_fold': True, 'differentiation': 1, 'fixed_train_size': False, 'gap': 0, 'initial_train_size': 127, 'refit': 3, 'steps': 10}\n",
      "{'allow_incomplete_fold': True, 'differentiation': 1, 'fixed_train_size': False, 'gap': 1, 'initial_train_size': 127, 'refit': True, 'steps': 10}\n",
      "{'allow_incomplete_fold': True, 'differentiation': 1, 'fixed_train_size': False, 'gap': 1, 'initial_train_size': 127, 'refit': False, 'steps': 10}\n",
      "{'allow_incomplete_fold': True, 'differentiation': 1, 'fixed_train_size': False, 'gap': 1, 'initial_train_size': 127, 'refit': 3, 'steps': 10}\n",
      "{'allow_incomplete_fold': True, 'differentiation': 1, 'fixed_train_size': False, 'gap': 3, 'initial_train_size': 127, 'refit': True, 'steps': 10}\n",
      "{'allow_incomplete_fold': True, 'differentiation': 1, 'fixed_train_size': False, 'gap': 3, 'initial_train_size': 127, 'refit': False, 'steps': 10}\n",
      "{'allow_incomplete_fold': True, 'differentiation': 1, 'fixed_train_size': False, 'gap': 3, 'initial_train_size': 127, 'refit': 3, 'steps': 10}\n",
      "{'allow_incomplete_fold': True, 'differentiation': 2, 'fixed_train_size': True, 'gap': 0, 'initial_train_size': 127, 'refit': True, 'steps': 10}\n",
      "{'allow_incomplete_fold': True, 'differentiation': 2, 'fixed_train_size': True, 'gap': 0, 'initial_train_size': 127, 'refit': False, 'steps': 10}\n",
      "{'allow_incomplete_fold': True, 'differentiation': 2, 'fixed_train_size': True, 'gap': 0, 'initial_train_size': 127, 'refit': 3, 'steps': 10}\n",
      "{'allow_incomplete_fold': True, 'differentiation': 2, 'fixed_train_size': True, 'gap': 1, 'initial_train_size': 127, 'refit': True, 'steps': 10}\n",
      "{'allow_incomplete_fold': True, 'differentiation': 2, 'fixed_train_size': True, 'gap': 1, 'initial_train_size': 127, 'refit': False, 'steps': 10}\n",
      "{'allow_incomplete_fold': True, 'differentiation': 2, 'fixed_train_size': True, 'gap': 1, 'initial_train_size': 127, 'refit': 3, 'steps': 10}\n",
      "{'allow_incomplete_fold': True, 'differentiation': 2, 'fixed_train_size': True, 'gap': 3, 'initial_train_size': 127, 'refit': True, 'steps': 10}\n",
      "{'allow_incomplete_fold': True, 'differentiation': 2, 'fixed_train_size': True, 'gap': 3, 'initial_train_size': 127, 'refit': False, 'steps': 10}\n",
      "{'allow_incomplete_fold': True, 'differentiation': 2, 'fixed_train_size': True, 'gap': 3, 'initial_train_size': 127, 'refit': 3, 'steps': 10}\n",
      "{'allow_incomplete_fold': True, 'differentiation': 2, 'fixed_train_size': False, 'gap': 0, 'initial_train_size': 127, 'refit': True, 'steps': 10}\n",
      "{'allow_incomplete_fold': True, 'differentiation': 2, 'fixed_train_size': False, 'gap': 0, 'initial_train_size': 127, 'refit': False, 'steps': 10}\n",
      "{'allow_incomplete_fold': True, 'differentiation': 2, 'fixed_train_size': False, 'gap': 0, 'initial_train_size': 127, 'refit': 3, 'steps': 10}\n",
      "{'allow_incomplete_fold': True, 'differentiation': 2, 'fixed_train_size': False, 'gap': 1, 'initial_train_size': 127, 'refit': True, 'steps': 10}\n",
      "{'allow_incomplete_fold': True, 'differentiation': 2, 'fixed_train_size': False, 'gap': 1, 'initial_train_size': 127, 'refit': False, 'steps': 10}\n",
      "{'allow_incomplete_fold': True, 'differentiation': 2, 'fixed_train_size': False, 'gap': 1, 'initial_train_size': 127, 'refit': 3, 'steps': 10}\n",
      "{'allow_incomplete_fold': True, 'differentiation': 2, 'fixed_train_size': False, 'gap': 3, 'initial_train_size': 127, 'refit': True, 'steps': 10}\n",
      "{'allow_incomplete_fold': True, 'differentiation': 2, 'fixed_train_size': False, 'gap': 3, 'initial_train_size': 127, 'refit': False, 'steps': 10}\n",
      "{'allow_incomplete_fold': True, 'differentiation': 2, 'fixed_train_size': False, 'gap': 3, 'initial_train_size': 127, 'refit': 3, 'steps': 10}\n",
      "{'allow_incomplete_fold': False, 'differentiation': None, 'fixed_train_size': True, 'gap': 0, 'initial_train_size': 127, 'refit': True, 'steps': 10}\n",
      "{'allow_incomplete_fold': False, 'differentiation': None, 'fixed_train_size': True, 'gap': 0, 'initial_train_size': 127, 'refit': False, 'steps': 10}\n",
      "{'allow_incomplete_fold': False, 'differentiation': None, 'fixed_train_size': True, 'gap': 0, 'initial_train_size': 127, 'refit': 3, 'steps': 10}\n",
      "{'allow_incomplete_fold': False, 'differentiation': None, 'fixed_train_size': True, 'gap': 1, 'initial_train_size': 127, 'refit': True, 'steps': 10}\n",
      "{'allow_incomplete_fold': False, 'differentiation': None, 'fixed_train_size': True, 'gap': 1, 'initial_train_size': 127, 'refit': False, 'steps': 10}\n",
      "{'allow_incomplete_fold': False, 'differentiation': None, 'fixed_train_size': True, 'gap': 1, 'initial_train_size': 127, 'refit': 3, 'steps': 10}\n",
      "{'allow_incomplete_fold': False, 'differentiation': None, 'fixed_train_size': True, 'gap': 3, 'initial_train_size': 127, 'refit': True, 'steps': 10}\n",
      "{'allow_incomplete_fold': False, 'differentiation': None, 'fixed_train_size': True, 'gap': 3, 'initial_train_size': 127, 'refit': False, 'steps': 10}\n",
      "{'allow_incomplete_fold': False, 'differentiation': None, 'fixed_train_size': True, 'gap': 3, 'initial_train_size': 127, 'refit': 3, 'steps': 10}\n",
      "{'allow_incomplete_fold': False, 'differentiation': None, 'fixed_train_size': False, 'gap': 0, 'initial_train_size': 127, 'refit': True, 'steps': 10}\n",
      "{'allow_incomplete_fold': False, 'differentiation': None, 'fixed_train_size': False, 'gap': 0, 'initial_train_size': 127, 'refit': False, 'steps': 10}\n",
      "{'allow_incomplete_fold': False, 'differentiation': None, 'fixed_train_size': False, 'gap': 0, 'initial_train_size': 127, 'refit': 3, 'steps': 10}\n",
      "{'allow_incomplete_fold': False, 'differentiation': None, 'fixed_train_size': False, 'gap': 1, 'initial_train_size': 127, 'refit': True, 'steps': 10}\n",
      "{'allow_incomplete_fold': False, 'differentiation': None, 'fixed_train_size': False, 'gap': 1, 'initial_train_size': 127, 'refit': False, 'steps': 10}\n",
      "{'allow_incomplete_fold': False, 'differentiation': None, 'fixed_train_size': False, 'gap': 1, 'initial_train_size': 127, 'refit': 3, 'steps': 10}\n",
      "{'allow_incomplete_fold': False, 'differentiation': None, 'fixed_train_size': False, 'gap': 3, 'initial_train_size': 127, 'refit': True, 'steps': 10}\n",
      "{'allow_incomplete_fold': False, 'differentiation': None, 'fixed_train_size': False, 'gap': 3, 'initial_train_size': 127, 'refit': False, 'steps': 10}\n",
      "{'allow_incomplete_fold': False, 'differentiation': None, 'fixed_train_size': False, 'gap': 3, 'initial_train_size': 127, 'refit': 3, 'steps': 10}\n",
      "{'allow_incomplete_fold': False, 'differentiation': 1, 'fixed_train_size': True, 'gap': 0, 'initial_train_size': 127, 'refit': True, 'steps': 10}\n",
      "{'allow_incomplete_fold': False, 'differentiation': 1, 'fixed_train_size': True, 'gap': 0, 'initial_train_size': 127, 'refit': False, 'steps': 10}\n",
      "{'allow_incomplete_fold': False, 'differentiation': 1, 'fixed_train_size': True, 'gap': 0, 'initial_train_size': 127, 'refit': 3, 'steps': 10}\n",
      "{'allow_incomplete_fold': False, 'differentiation': 1, 'fixed_train_size': True, 'gap': 1, 'initial_train_size': 127, 'refit': True, 'steps': 10}\n",
      "{'allow_incomplete_fold': False, 'differentiation': 1, 'fixed_train_size': True, 'gap': 1, 'initial_train_size': 127, 'refit': False, 'steps': 10}\n",
      "{'allow_incomplete_fold': False, 'differentiation': 1, 'fixed_train_size': True, 'gap': 1, 'initial_train_size': 127, 'refit': 3, 'steps': 10}\n",
      "{'allow_incomplete_fold': False, 'differentiation': 1, 'fixed_train_size': True, 'gap': 3, 'initial_train_size': 127, 'refit': True, 'steps': 10}\n",
      "{'allow_incomplete_fold': False, 'differentiation': 1, 'fixed_train_size': True, 'gap': 3, 'initial_train_size': 127, 'refit': False, 'steps': 10}\n",
      "{'allow_incomplete_fold': False, 'differentiation': 1, 'fixed_train_size': True, 'gap': 3, 'initial_train_size': 127, 'refit': 3, 'steps': 10}\n",
      "{'allow_incomplete_fold': False, 'differentiation': 1, 'fixed_train_size': False, 'gap': 0, 'initial_train_size': 127, 'refit': True, 'steps': 10}\n",
      "{'allow_incomplete_fold': False, 'differentiation': 1, 'fixed_train_size': False, 'gap': 0, 'initial_train_size': 127, 'refit': False, 'steps': 10}\n",
      "{'allow_incomplete_fold': False, 'differentiation': 1, 'fixed_train_size': False, 'gap': 0, 'initial_train_size': 127, 'refit': 3, 'steps': 10}\n",
      "{'allow_incomplete_fold': False, 'differentiation': 1, 'fixed_train_size': False, 'gap': 1, 'initial_train_size': 127, 'refit': True, 'steps': 10}\n",
      "{'allow_incomplete_fold': False, 'differentiation': 1, 'fixed_train_size': False, 'gap': 1, 'initial_train_size': 127, 'refit': False, 'steps': 10}\n",
      "{'allow_incomplete_fold': False, 'differentiation': 1, 'fixed_train_size': False, 'gap': 1, 'initial_train_size': 127, 'refit': 3, 'steps': 10}\n",
      "{'allow_incomplete_fold': False, 'differentiation': 1, 'fixed_train_size': False, 'gap': 3, 'initial_train_size': 127, 'refit': True, 'steps': 10}\n",
      "{'allow_incomplete_fold': False, 'differentiation': 1, 'fixed_train_size': False, 'gap': 3, 'initial_train_size': 127, 'refit': False, 'steps': 10}\n",
      "{'allow_incomplete_fold': False, 'differentiation': 1, 'fixed_train_size': False, 'gap': 3, 'initial_train_size': 127, 'refit': 3, 'steps': 10}\n",
      "{'allow_incomplete_fold': False, 'differentiation': 2, 'fixed_train_size': True, 'gap': 0, 'initial_train_size': 127, 'refit': True, 'steps': 10}\n",
      "{'allow_incomplete_fold': False, 'differentiation': 2, 'fixed_train_size': True, 'gap': 0, 'initial_train_size': 127, 'refit': False, 'steps': 10}\n",
      "{'allow_incomplete_fold': False, 'differentiation': 2, 'fixed_train_size': True, 'gap': 0, 'initial_train_size': 127, 'refit': 3, 'steps': 10}\n",
      "{'allow_incomplete_fold': False, 'differentiation': 2, 'fixed_train_size': True, 'gap': 1, 'initial_train_size': 127, 'refit': True, 'steps': 10}\n",
      "{'allow_incomplete_fold': False, 'differentiation': 2, 'fixed_train_size': True, 'gap': 1, 'initial_train_size': 127, 'refit': False, 'steps': 10}\n",
      "{'allow_incomplete_fold': False, 'differentiation': 2, 'fixed_train_size': True, 'gap': 1, 'initial_train_size': 127, 'refit': 3, 'steps': 10}\n",
      "{'allow_incomplete_fold': False, 'differentiation': 2, 'fixed_train_size': True, 'gap': 3, 'initial_train_size': 127, 'refit': True, 'steps': 10}\n",
      "{'allow_incomplete_fold': False, 'differentiation': 2, 'fixed_train_size': True, 'gap': 3, 'initial_train_size': 127, 'refit': False, 'steps': 10}\n",
      "{'allow_incomplete_fold': False, 'differentiation': 2, 'fixed_train_size': True, 'gap': 3, 'initial_train_size': 127, 'refit': 3, 'steps': 10}\n",
      "{'allow_incomplete_fold': False, 'differentiation': 2, 'fixed_train_size': False, 'gap': 0, 'initial_train_size': 127, 'refit': True, 'steps': 10}\n",
      "{'allow_incomplete_fold': False, 'differentiation': 2, 'fixed_train_size': False, 'gap': 0, 'initial_train_size': 127, 'refit': False, 'steps': 10}\n",
      "{'allow_incomplete_fold': False, 'differentiation': 2, 'fixed_train_size': False, 'gap': 0, 'initial_train_size': 127, 'refit': 3, 'steps': 10}\n",
      "{'allow_incomplete_fold': False, 'differentiation': 2, 'fixed_train_size': False, 'gap': 1, 'initial_train_size': 127, 'refit': True, 'steps': 10}\n",
      "{'allow_incomplete_fold': False, 'differentiation': 2, 'fixed_train_size': False, 'gap': 1, 'initial_train_size': 127, 'refit': False, 'steps': 10}\n",
      "{'allow_incomplete_fold': False, 'differentiation': 2, 'fixed_train_size': False, 'gap': 1, 'initial_train_size': 127, 'refit': 3, 'steps': 10}\n",
      "{'allow_incomplete_fold': False, 'differentiation': 2, 'fixed_train_size': False, 'gap': 3, 'initial_train_size': 127, 'refit': True, 'steps': 10}\n",
      "{'allow_incomplete_fold': False, 'differentiation': 2, 'fixed_train_size': False, 'gap': 3, 'initial_train_size': 127, 'refit': False, 'steps': 10}\n",
      "{'allow_incomplete_fold': False, 'differentiation': 2, 'fixed_train_size': False, 'gap': 3, 'initial_train_size': 127, 'refit': 3, 'steps': 10}\n"
     ]
    }
   ],
   "source": [
    "# Test equivalence with old version of backtesting_forecaster\n",
    "# ==============================================================================\n",
    "\n",
    "## check_inpunt_backtesting must be commented in model_selection.py!!!!!!!!!!!!!!!!!!!!!!!!!!!!!!\n",
    "\n",
    "params = {\n",
    "    'initial_train_size': [127],\n",
    "    'steps': [10],\n",
    "    'fixed_train_size': [True, False],\n",
    "    'allow_incomplete_fold': [True, False],\n",
    "    'refit': [True, False, 3],\n",
    "    'gap': [0, 1, 3],\n",
    "    'differentiation': [None, 1, 2],\n",
    "}\n",
    "\n",
    "params_grid = list(ParameterGrid(params))\n",
    "forecaster = ForecasterAutoreg(\n",
    "                 regressor = LGBMRegressor(random_state=123, verbose=-1),\n",
    "                 lags      = 15 \n",
    "             )\n",
    "\n",
    "\n",
    "for params in params_grid:\n",
    "    print(params)\n",
    "\n",
    "    ## check_inpunt_backtesting must be commented in model_selection.py!!!!!!!!!!!!!!!!!!!!!!!!!!!!!!\n",
    "    metric, predictions = backtesting_forecaster(\n",
    "                                forecaster            = forecaster,\n",
    "                                y                     = data['y'],\n",
    "                                metric                = 'mean_squared_error',\n",
    "                                n_jobs                = 'auto',\n",
    "                                verbose               = False,\n",
    "                                show_progress         = False,\n",
    "                                # all paramns except 'differentiation' are passed as **params\n",
    "                                initial_train_size    = params['initial_train_size'],\n",
    "                                steps                 = params['steps'],\n",
    "                                fixed_train_size      = params['fixed_train_size'],\n",
    "                                allow_incomplete_fold = params['allow_incomplete_fold'],\n",
    "                                refit                 = params['refit'],\n",
    "                                gap                   = params['gap']\n",
    "                            )\n",
    "\n",
    "    cv = TimeSeriesFold(**params)\n",
    "    metric_new, predictions_new = backtesting_forecaster_new(\n",
    "                                    forecaster            = forecaster,\n",
    "                                    y                     = data['y'],\n",
    "                                    cv                    = cv,\n",
    "                                    metric                = 'mean_squared_error',\n",
    "                                    n_jobs                = 'auto',\n",
    "                                    verbose               = False,\n",
    "                                    show_progress         = False  \n",
    "                                )\n",
    "    \n",
    "    pd.testing.assert_frame_equal(predictions, predictions_new)\n",
    "    pd.testing.assert_frame_equal(metric, metric_new)\n"
   ]
  },
  {
   "cell_type": "code",
   "execution_count": 39,
   "metadata": {},
   "outputs": [
    {
     "name": "stdout",
     "output_type": "stream",
     "text": [
      "Information of folds\n",
      "--------------------\n",
      "Number of observations used for initial training: 127\n",
      "Number of observations used for backtesting: 77\n",
      "    Number of folds: 8\n",
      "    Number skipped folds: 0 \n",
      "    Number of steps per fold: 10\n",
      "    Number of steps to exclude from the end of each train set before test (gap): 0\n",
      "    Last fold only includes 7 observations.\n",
      "\n",
      "Fold: 0\n",
      "    Training:   1991-07-01 00:00:00 -- 2002-01-01 00:00:00  (n=127)\n",
      "    Validation: 2002-02-01 00:00:00 -- 2002-11-01 00:00:00  (n=10)\n",
      "Fold: 1\n",
      "    Training:   No training in this fold\n",
      "    Validation: 2002-12-01 00:00:00 -- 2003-09-01 00:00:00  (n=10)\n",
      "Fold: 2\n",
      "    Training:   No training in this fold\n",
      "    Validation: 2003-10-01 00:00:00 -- 2004-07-01 00:00:00  (n=10)\n",
      "Fold: 3\n",
      "    Training:   1991-07-01 00:00:00 -- 2004-07-01 00:00:00  (n=157)\n",
      "    Validation: 2004-08-01 00:00:00 -- 2005-05-01 00:00:00  (n=10)\n",
      "Fold: 4\n",
      "    Training:   No training in this fold\n",
      "    Validation: 2005-06-01 00:00:00 -- 2006-03-01 00:00:00  (n=10)\n",
      "Fold: 5\n",
      "    Training:   No training in this fold\n",
      "    Validation: 2006-04-01 00:00:00 -- 2007-01-01 00:00:00  (n=10)\n",
      "Fold: 6\n",
      "    Training:   1991-07-01 00:00:00 -- 2007-01-01 00:00:00  (n=187)\n",
      "    Validation: 2007-02-01 00:00:00 -- 2007-11-01 00:00:00  (n=10)\n",
      "Fold: 7\n",
      "    Training:   No training in this fold\n",
      "    Validation: 2007-12-01 00:00:00 -- 2008-06-01 00:00:00  (n=7)\n",
      "\n"
     ]
    },
    {
     "data": {
      "application/vnd.jupyter.widget-view+json": {
       "model_id": "3b87c2d2cb0240d089db135c1f103e11",
       "version_major": 2,
       "version_minor": 0
      },
      "text/plain": [
       "  0%|          | 0/8 [00:00<?, ?it/s]"
      ]
     },
     "metadata": {},
     "output_type": "display_data"
    },
    {
     "data": {
      "text/html": [
       "<div>\n",
       "<style scoped>\n",
       "    .dataframe tbody tr th:only-of-type {\n",
       "        vertical-align: middle;\n",
       "    }\n",
       "\n",
       "    .dataframe tbody tr th {\n",
       "        vertical-align: top;\n",
       "    }\n",
       "\n",
       "    .dataframe thead th {\n",
       "        text-align: right;\n",
       "    }\n",
       "</style>\n",
       "<table border=\"1\" class=\"dataframe\">\n",
       "  <thead>\n",
       "    <tr style=\"text-align: right;\">\n",
       "      <th></th>\n",
       "      <th>mean_squared_error</th>\n",
       "    </tr>\n",
       "  </thead>\n",
       "  <tbody>\n",
       "    <tr>\n",
       "      <th>0</th>\n",
       "      <td>0.008878</td>\n",
       "    </tr>\n",
       "  </tbody>\n",
       "</table>\n",
       "</div>"
      ],
      "text/plain": [
       "   mean_squared_error\n",
       "0            0.008878"
      ]
     },
     "execution_count": 39,
     "metadata": {},
     "output_type": "execute_result"
    }
   ],
   "source": [
    "# Backtesting with intermittent refit\n",
    "# ==============================================================================\n",
    "forecaster = ForecasterAutoreg(\n",
    "                 regressor = LGBMRegressor(random_state=123, verbose=-1),\n",
    "                 lags      = 15 \n",
    "             )\n",
    "\n",
    "cv = TimeSeriesFold(\n",
    "    initial_train_size=len(data.loc[:end_train]),\n",
    "    steps=10,\n",
    "    fixed_train_size=False,\n",
    "    allow_incomplete_fold=True,\n",
    "    refit=3,\n",
    "    gap=0,\n",
    ")\n",
    "\n",
    "\n",
    "metric, predictions = backtesting_forecaster_new(\n",
    "                          forecaster            = forecaster,\n",
    "                          y                     = data['y'],\n",
    "                          cv                    = cv,\n",
    "                          metric                = 'mean_squared_error',\n",
    "                          verbose               = True,\n",
    "                          show_progress         = True  \n",
    "                      )\n",
    "metric"
   ]
  },
  {
   "cell_type": "code",
   "execution_count": 40,
   "metadata": {},
   "outputs": [
    {
     "name": "stdout",
     "output_type": "stream",
     "text": [
      "Information of folds\n",
      "--------------------\n",
      "Number of observations used for initial training: 126\n",
      "    First 1 observation/s in training sets are used for differentiation\n",
      "Number of observations used for backtesting: 77\n",
      "    Number of folds: 8\n",
      "    Number skipped folds: 0 \n",
      "    Number of steps per fold: 10\n",
      "    Number of steps to exclude from the end of each train set before test (gap): 0\n",
      "    Last fold only includes 7 observations.\n",
      "\n",
      "Fold: 0\n",
      "    Training:   1991-08-01 00:00:00 -- 2002-01-01 00:00:00  (n=126)\n",
      "    Validation: 2002-02-01 00:00:00 -- 2002-11-01 00:00:00  (n=10)\n",
      "Fold: 1\n",
      "    Training:   No training in this fold\n",
      "    Validation: 2002-12-01 00:00:00 -- 2003-09-01 00:00:00  (n=10)\n",
      "Fold: 2\n",
      "    Training:   No training in this fold\n",
      "    Validation: 2003-10-01 00:00:00 -- 2004-07-01 00:00:00  (n=10)\n",
      "Fold: 3\n",
      "    Training:   No training in this fold\n",
      "    Validation: 2004-08-01 00:00:00 -- 2005-05-01 00:00:00  (n=10)\n",
      "Fold: 4\n",
      "    Training:   No training in this fold\n",
      "    Validation: 2005-06-01 00:00:00 -- 2006-03-01 00:00:00  (n=10)\n",
      "Fold: 5\n",
      "    Training:   No training in this fold\n",
      "    Validation: 2006-04-01 00:00:00 -- 2007-01-01 00:00:00  (n=10)\n",
      "Fold: 6\n",
      "    Training:   No training in this fold\n",
      "    Validation: 2007-02-01 00:00:00 -- 2007-11-01 00:00:00  (n=10)\n",
      "Fold: 7\n",
      "    Training:   No training in this fold\n",
      "    Validation: 2007-12-01 00:00:00 -- 2008-06-01 00:00:00  (n=7)\n",
      "\n"
     ]
    },
    {
     "data": {
      "application/vnd.jupyter.widget-view+json": {
       "model_id": "a3c9840cfc994ad4b9d61b446763bc4e",
       "version_major": 2,
       "version_minor": 0
      },
      "text/plain": [
       "  0%|          | 0/8 [00:00<?, ?it/s]"
      ]
     },
     "metadata": {},
     "output_type": "display_data"
    },
    {
     "data": {
      "text/html": [
       "<div>\n",
       "<style scoped>\n",
       "    .dataframe tbody tr th:only-of-type {\n",
       "        vertical-align: middle;\n",
       "    }\n",
       "\n",
       "    .dataframe tbody tr th {\n",
       "        vertical-align: top;\n",
       "    }\n",
       "\n",
       "    .dataframe thead th {\n",
       "        text-align: right;\n",
       "    }\n",
       "</style>\n",
       "<table border=\"1\" class=\"dataframe\">\n",
       "  <thead>\n",
       "    <tr style=\"text-align: right;\">\n",
       "      <th></th>\n",
       "      <th>mean_squared_error</th>\n",
       "    </tr>\n",
       "  </thead>\n",
       "  <tbody>\n",
       "    <tr>\n",
       "      <th>0</th>\n",
       "      <td>0.04452</td>\n",
       "    </tr>\n",
       "  </tbody>\n",
       "</table>\n",
       "</div>"
      ],
      "text/plain": [
       "   mean_squared_error\n",
       "0             0.04452"
      ]
     },
     "execution_count": 40,
     "metadata": {},
     "output_type": "execute_result"
    }
   ],
   "source": [
    "# Backtesting no refit\n",
    "# ==============================================================================\n",
    "forecaster = ForecasterAutoreg(\n",
    "                 regressor = LGBMRegressor(random_state=123, verbose=-1),\n",
    "                 lags      = 15,\n",
    "                 differentiation=1\n",
    "             )\n",
    "\n",
    "cv = TimeSeriesFold(\n",
    "    initial_train_size=len(data.loc[:end_train]),\n",
    "    steps=10,\n",
    "    fixed_train_size=False,\n",
    "    allow_incomplete_fold=True,\n",
    "    refit=False,\n",
    "    gap=0,\n",
    ")\n",
    "\n",
    "\n",
    "metric, predictions = backtesting_forecaster_new(\n",
    "                          forecaster            = forecaster,\n",
    "                          y                     = data['y'],\n",
    "                          cv                    = cv,\n",
    "                          metric                = 'mean_squared_error',\n",
    "                          verbose               = True,\n",
    "                          show_progress         = True  \n",
    "                      )\n",
    "metric"
   ]
  },
  {
   "cell_type": "markdown",
   "metadata": {},
   "source": [
    "## One step ahead"
   ]
  },
  {
   "cell_type": "code",
   "execution_count": 45,
   "metadata": {},
   "outputs": [
    {
     "name": "stdout",
     "output_type": "stream",
     "text": [
      "Information of folds\n",
      "--------------------\n",
      "Number of observations used for initial training: 50\n",
      "Number of observations in test: 50\n",
      "Training : 2020-01-01 00:00:00 -- 2020-02-20 00:00:00 (n=50)\n",
      "Test     : 2020-02-20 00:00:00 -- 2020-04-09 00:00:00 (n=50)\n",
      "\n"
     ]
    },
    {
     "data": {
      "text/html": [
       "<div>\n",
       "<style scoped>\n",
       "    .dataframe tbody tr th:only-of-type {\n",
       "        vertical-align: middle;\n",
       "    }\n",
       "\n",
       "    .dataframe tbody tr th {\n",
       "        vertical-align: top;\n",
       "    }\n",
       "\n",
       "    .dataframe thead th {\n",
       "        text-align: right;\n",
       "    }\n",
       "</style>\n",
       "<table border=\"1\" class=\"dataframe\">\n",
       "  <thead>\n",
       "    <tr style=\"text-align: right;\">\n",
       "      <th></th>\n",
       "      <th>fold</th>\n",
       "      <th>train_start</th>\n",
       "      <th>train_end</th>\n",
       "      <th>test_start</th>\n",
       "      <th>test_end</th>\n",
       "      <th>fit_forecaster</th>\n",
       "    </tr>\n",
       "  </thead>\n",
       "  <tbody>\n",
       "    <tr>\n",
       "      <th>0</th>\n",
       "      <td>0</td>\n",
       "      <td>0</td>\n",
       "      <td>50</td>\n",
       "      <td>50</td>\n",
       "      <td>100</td>\n",
       "      <td>True</td>\n",
       "    </tr>\n",
       "  </tbody>\n",
       "</table>\n",
       "</div>"
      ],
      "text/plain": [
       "   fold  train_start  train_end  test_start  test_end  fit_forecaster\n",
       "0     0            0         50          50       100            True"
      ]
     },
     "execution_count": 45,
     "metadata": {},
     "output_type": "execute_result"
    }
   ],
   "source": [
    "n=100\n",
    "my_series = pd.Series(range(n), index=pd.date_range(start='2020-01-01', periods=n, freq='D'))\n",
    "\n",
    "cv = OneStepAheadFold(\n",
    "        window_size=5,\n",
    "        initial_train_size=50,\n",
    "        return_all_indexes=False,\n",
    "        differentiation=None,\n",
    "        verbose=True\n",
    "    )\n",
    "\n",
    "folds = cv.split(my_series, as_pandas=True)\n",
    "folds"
   ]
  },
  {
   "cell_type": "code",
   "execution_count": 46,
   "metadata": {},
   "outputs": [
    {
     "name": "stdout",
     "output_type": "stream",
     "text": [
      "Information of folds\n",
      "--------------------\n",
      "Number of observations used for initial training: 50\n",
      "Number of observations in test: 50\n",
      "Training : 2020-01-01 00:00:00 -- 2020-02-20 00:00:00 (n=50)\n",
      "Test     : 2020-02-20 00:00:00 -- 2020-04-09 00:00:00 (n=50)\n",
      "\n"
     ]
    },
    {
     "data": {
      "text/html": [
       "<div>\n",
       "<style scoped>\n",
       "    .dataframe tbody tr th:only-of-type {\n",
       "        vertical-align: middle;\n",
       "    }\n",
       "\n",
       "    .dataframe tbody tr th {\n",
       "        vertical-align: top;\n",
       "    }\n",
       "\n",
       "    .dataframe thead th {\n",
       "        text-align: right;\n",
       "    }\n",
       "</style>\n",
       "<table border=\"1\" class=\"dataframe\">\n",
       "  <thead>\n",
       "    <tr style=\"text-align: right;\">\n",
       "      <th></th>\n",
       "      <th>fold</th>\n",
       "      <th>train_index</th>\n",
       "      <th>test_index</th>\n",
       "      <th>fit_forecaster</th>\n",
       "    </tr>\n",
       "  </thead>\n",
       "  <tbody>\n",
       "    <tr>\n",
       "      <th>0</th>\n",
       "      <td>0</td>\n",
       "      <td>[(0, 1, 2, 3, 4, 5, 6, 7, 8, 9, 10, 11, 12, 13...</td>\n",
       "      <td>[(50, 51, 52, 53, 54, 55, 56, 57, 58, 59, 60, ...</td>\n",
       "      <td>True</td>\n",
       "    </tr>\n",
       "  </tbody>\n",
       "</table>\n",
       "</div>"
      ],
      "text/plain": [
       "   fold                                        train_index  \\\n",
       "0     0  [(0, 1, 2, 3, 4, 5, 6, 7, 8, 9, 10, 11, 12, 13...   \n",
       "\n",
       "                                          test_index  fit_forecaster  \n",
       "0  [(50, 51, 52, 53, 54, 55, 56, 57, 58, 59, 60, ...            True  "
      ]
     },
     "execution_count": 46,
     "metadata": {},
     "output_type": "execute_result"
    }
   ],
   "source": [
    "cv = OneStepAheadFold(\n",
    "        window_size=5,\n",
    "        initial_train_size=50,\n",
    "        return_all_indexes=True,\n",
    "        differentiation=None,\n",
    "        verbose=True\n",
    "    )\n",
    "\n",
    "folds = cv.split(my_series, as_pandas=True)\n",
    "folds"
   ]
  },
  {
   "cell_type": "code",
   "execution_count": 47,
   "metadata": {},
   "outputs": [
    {
     "name": "stdout",
     "output_type": "stream",
     "text": [
      "Number of models compared: 8.\n"
     ]
    },
    {
     "name": "stderr",
     "output_type": "stream",
     "text": [
      "/home/ubuntu/varios/skforecast/skforecast/model_selection/model_selection_new.py:1709: UserWarning: One-step-ahead predictions are used for faster model comparison, but they may not fully represent multi-step prediction performance. It is recommended to backtest the final model for a more accurate multi-step performance estimate.\n",
      "  )\n"
     ]
    },
    {
     "data": {
      "application/vnd.jupyter.widget-view+json": {
       "model_id": "716707bb10f54e559d4de48512707c39",
       "version_major": 2,
       "version_minor": 0
      },
      "text/plain": [
       "lags grid:   0%|          | 0/2 [00:00<?, ?it/s]"
      ]
     },
     "metadata": {},
     "output_type": "display_data"
    },
    {
     "data": {
      "application/vnd.jupyter.widget-view+json": {
       "model_id": "2ad75a76ad174e5aa9b4cefa981a3aef",
       "version_major": 2,
       "version_minor": 0
      },
      "text/plain": [
       "params grid:   0%|          | 0/4 [00:00<?, ?it/s]"
      ]
     },
     "metadata": {},
     "output_type": "display_data"
    },
    {
     "name": "stdout",
     "output_type": "stream",
     "text": [
      "`Forecaster` refitted using the best-found lags and parameters, and the whole data set: \n",
      "  Lags: [ 1  2  3  4  5  6  7  8  9 10 11 12 13 14 15 16 17 18 19 20 21 22 23 24\n",
      " 25 26 27 28 29 30] \n",
      "  Parameters: {'max_depth': 2, 'n_estimators': 20}\n",
      "  Backtesting metric: 0.021729781044893627\n",
      "\n"
     ]
    },
    {
     "data": {
      "text/html": [
       "<div>\n",
       "<style scoped>\n",
       "    .dataframe tbody tr th:only-of-type {\n",
       "        vertical-align: middle;\n",
       "    }\n",
       "\n",
       "    .dataframe tbody tr th {\n",
       "        vertical-align: top;\n",
       "    }\n",
       "\n",
       "    .dataframe thead th {\n",
       "        text-align: right;\n",
       "    }\n",
       "</style>\n",
       "<table border=\"1\" class=\"dataframe\">\n",
       "  <thead>\n",
       "    <tr style=\"text-align: right;\">\n",
       "      <th></th>\n",
       "      <th>mean_squared_error</th>\n",
       "    </tr>\n",
       "  </thead>\n",
       "  <tbody>\n",
       "    <tr>\n",
       "      <th>0</th>\n",
       "      <td>0.04452</td>\n",
       "    </tr>\n",
       "  </tbody>\n",
       "</table>\n",
       "</div>"
      ],
      "text/plain": [
       "   mean_squared_error\n",
       "0             0.04452"
      ]
     },
     "execution_count": 47,
     "metadata": {},
     "output_type": "execute_result"
    }
   ],
   "source": [
    "# Backtesting forecaster\n",
    "# ==============================================================================\n",
    "forecaster = ForecasterAutoreg(\n",
    "                 regressor = LGBMRegressor(random_state=123, verbose=-1),\n",
    "                 lags      = 15 \n",
    "             )\n",
    "\n",
    "\n",
    "cv = OneStepAheadFold(\n",
    "        initial_train_size=len(data.loc[:end_train]),\n",
    "        differentiation=None,\n",
    "        verbose=True\n",
    "     )\n",
    "\n",
    "lags = [15, 30]\n",
    "params = {\n",
    "    'n_estimators': [10, 20],\n",
    "    'max_depth': [2, 3],\n",
    "}\n",
    "results = grid_search_forecaster_new(\n",
    "                          forecaster    = forecaster,\n",
    "                          y             = data['y'],\n",
    "                          cv            = cv,\n",
    "                          lags_grid     = lags,\n",
    "                          param_grid    = params,\n",
    "                          metric        = 'mean_squared_error',\n",
    "                          n_jobs        = 'auto',\n",
    "                          verbose       = True,\n",
    "                          show_progress = True  \n",
    "                      )\n",
    "metric"
   ]
  }
 ],
 "metadata": {
  "kernelspec": {
   "display_name": "skforecast_py10",
   "language": "python",
   "name": "python3"
  },
  "language_info": {
   "codemirror_mode": {
    "name": "ipython",
    "version": 3
   },
   "file_extension": ".py",
   "mimetype": "text/x-python",
   "name": "python",
   "nbconvert_exporter": "python",
   "pygments_lexer": "ipython3",
   "version": "3.12.4"
  },
  "orig_nbformat": 4,
  "vscode": {
   "interpreter": {
    "hash": "c78d62c1713fdacd99ef7c429003c7324b36fbb551fb8b6860a7ea73e9338235"
   }
  }
 },
 "nbformat": 4,
 "nbformat_minor": 2
}
