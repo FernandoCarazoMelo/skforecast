{
 "cells": [
  {
   "cell_type": "code",
   "execution_count": 1,
   "metadata": {},
   "outputs": [
    {
     "data": {
      "text/plain": [
       "'c:\\\\Users\\\\jaesc2\\\\GitHub\\\\skforecast'"
      ]
     },
     "execution_count": 1,
     "metadata": {},
     "output_type": "execute_result"
    }
   ],
   "source": [
    "%load_ext autoreload\n",
    "%autoreload 2\n",
    "import sys\n",
    "from pathlib import Path\n",
    "sys.path.insert(1, str(Path.cwd().parent))\n",
    "str(Path.cwd().parent)"
   ]
  },
  {
   "cell_type": "code",
   "execution_count": 2,
   "metadata": {},
   "outputs": [],
   "source": [
    "import pandas as pd\n",
    "import numpy as np\n",
    "from typing import Union, List, Tuple, Dict, Any, Optional\n",
    "\n",
    "from skforecast.utils import preprocess_y\n",
    "from skforecast.utils import preprocess_exog"
   ]
  },
  {
   "cell_type": "code",
   "execution_count": 6,
   "metadata": {},
   "outputs": [
    {
     "data": {
      "text/plain": [
       "2020-01-01     1\n",
       "2020-01-02     2\n",
       "2020-01-03     3\n",
       "2020-01-04     4\n",
       "2020-01-05     5\n",
       "2020-01-06     6\n",
       "2020-01-07     7\n",
       "2020-01-08     8\n",
       "2020-01-09     9\n",
       "2020-01-10    10\n",
       "Freq: D, dtype: int64"
      ]
     },
     "metadata": {},
     "output_type": "display_data"
    },
    {
     "data": {
      "text/plain": [
       "2020-01-04    4\n",
       "2020-01-06    6\n",
       "2020-01-07    7\n",
       "dtype: int64"
      ]
     },
     "metadata": {},
     "output_type": "display_data"
    }
   ],
   "source": [
    "y = pd.Series([1, 2, 3, 4, 5, 6, 7, 8, 9, 10])\n",
    "y.index = pd.date_range(start='2020-01-01', periods=len(y), freq='D')\n",
    "display(y)\n",
    "\n",
    "exog = pd.Series([4, 5, 6, 7])\n",
    "exog.index = pd.date_range(start='2020-01-04', periods=len(exog), freq='D')\n",
    "exog = exog.iloc[[0, 2, 3]]\n",
    "display(exog)"
   ]
  },
  {
   "cell_type": "code",
   "execution_count": 7,
   "metadata": {},
   "outputs": [
    {
     "data": {
      "text/plain": [
       "DatetimeIndex(['2020-01-04', '2020-01-06', '2020-01-07'], dtype='datetime64[ns]', freq=None)"
      ]
     },
     "execution_count": 7,
     "metadata": {},
     "output_type": "execute_result"
    }
   ],
   "source": [
    "index_intersection = y.index.intersection(exog.index)\n",
    "index_intersection"
   ]
  },
  {
   "cell_type": "code",
   "execution_count": null,
   "metadata": {},
   "outputs": [],
   "source": []
  },
  {
   "cell_type": "code",
   "execution_count": null,
   "metadata": {},
   "outputs": [],
   "source": []
  },
  {
   "cell_type": "code",
   "execution_count": 11,
   "metadata": {},
   "outputs": [
    {
     "data": {
      "text/plain": [
       "NoneType"
      ]
     },
     "execution_count": 11,
     "metadata": {},
     "output_type": "execute_result"
    }
   ],
   "source": [
    "type(None)"
   ]
  },
  {
   "cell_type": "code",
   "execution_count": 9,
   "metadata": {},
   "outputs": [],
   "source": [
    "lags = np.arange(200)"
   ]
  },
  {
   "cell_type": "code",
   "execution_count": 14,
   "metadata": {},
   "outputs": [],
   "source": [
    "if True and [1, 2, 3] == None:\n",
    "    print(1)"
   ]
  },
  {
   "cell_type": "code",
   "execution_count": 12,
   "metadata": {},
   "outputs": [
    {
     "data": {
      "text/plain": [
       "'DataFrame'"
      ]
     },
     "execution_count": 12,
     "metadata": {},
     "output_type": "execute_result"
    }
   ],
   "source": [
    "import pandas as pd\n",
    "\n",
    "type(pd.DataFrame()).__name__"
   ]
  },
  {
   "cell_type": "code",
   "execution_count": 13,
   "metadata": {},
   "outputs": [
    {
     "data": {
      "text/plain": [
       "'dict'"
      ]
     },
     "execution_count": 13,
     "metadata": {},
     "output_type": "execute_result"
    }
   ],
   "source": [
    "input_series_is_dict = isinstance(y, dict)"
   ]
  },
  {
   "cell_type": "code",
   "execution_count": 10,
   "metadata": {},
   "outputs": [
    {
     "name": "stdout",
     "output_type": "stream",
     "text": [
      "48.8 µs ± 3.93 µs per loop (mean ± std. dev. of 7 runs, 1,000 loops each)\n"
     ]
    }
   ],
   "source": [
    "%%timeit -n 1000\n",
    "\n",
    "x = [f\"lag_{i}\" for i in lags]"
   ]
  },
  {
   "cell_type": "code",
   "execution_count": 8,
   "metadata": {},
   "outputs": [
    {
     "data": {
      "text/plain": [
       "2020-01-01    NaN\n",
       "2020-01-02    NaN\n",
       "2020-01-03    NaN\n",
       "2020-01-04    4.0\n",
       "2020-01-05    NaN\n",
       "2020-01-06    6.0\n",
       "2020-01-07    7.0\n",
       "2020-01-08    NaN\n",
       "2020-01-09    NaN\n",
       "2020-01-10    NaN\n",
       "Freq: D, dtype: float64"
      ]
     },
     "execution_count": 8,
     "metadata": {},
     "output_type": "execute_result"
    }
   ],
   "source": [
    "if len(index_intersection) != len(y):\n",
    "    exog_level = exog.reindex(y.index, fill_value=np.nan)\n",
    "\n",
    "exog_level"
   ]
  },
  {
   "cell_type": "code",
   "execution_count": null,
   "metadata": {},
   "outputs": [],
   "source": []
  },
  {
   "cell_type": "code",
   "execution_count": null,
   "metadata": {},
   "outputs": [],
   "source": []
  },
  {
   "cell_type": "code",
   "execution_count": null,
   "metadata": {},
   "outputs": [],
   "source": []
  },
  {
   "cell_type": "code",
   "execution_count": 49,
   "metadata": {},
   "outputs": [],
   "source": [
    "def check_series(\n",
    "    series = Union[pd.DataFrame, Dict[str, pd.Series], Dict[str, pd.DataFrame]]\n",
    ")-> None:\n",
    "    \"\"\"\n",
    "    \"\"\"\n",
    "\n",
    "    if not isinstance(series, pd.DataFrame, dict):\n",
    "        raise TypeError(\n",
    "            (\n",
    "                f\"`series` must be a pandas DataFrame or a dict of DataFrames or Series. \"\n",
    "                f\"Got {type(series)}.\"\n",
    "            )\n",
    "        )\n",
    "\n",
    "    if isinstance(series, dict):\n",
    "        not_valid_series = [\n",
    "            k\n",
    "            for k, v in series.items()\n",
    "            if not isinstance(v, (pd.Series, pd.DataFrame))\n",
    "        ]\n",
    "        if not_valid_series:\n",
    "            raise TypeError(\n",
    "                (\n",
    "                    f\"All series must be a named pandas Series or a pandas Dataframe. \"\n",
    "                    f\"with a single column. Review series: {not_valid_series}\"\n",
    "                )\n",
    "            )\n",
    "\n",
    "        for k, v in series.items():\n",
    "            if isinstance(v, pd.DataFrame):\n",
    "                if v.shape[1] != 1:\n",
    "                    raise ValueError(\n",
    "                        (\n",
    "                            f\"All series must be a named pandas Series or a pandas Dataframe \"\n",
    "                            f\"with a single column. Review series: {k}\"\n",
    "                        )\n",
    "                    )\n",
    "\n",
    "        not_valid_index = [\n",
    "            k\n",
    "            for k, v in series.items()\n",
    "            if not isinstance(v.index, pd.DatetimeIndex)\n",
    "        ]\n",
    "        if not_valid_index:\n",
    "            raise TypeError(\n",
    "                (\n",
    "                    f\"All series must have a DatetimeIndex index with the same frequency. \"\n",
    "                    f\"Review series: {not_valid_index}\"\n",
    "                )\n",
    "            )\n",
    "\n",
    "        indexes_freq = [v.index.freq for v in series.values()]\n",
    "        if not len(set(indexes_freq)) == 1:\n",
    "            raise ValueError(\n",
    "                (\n",
    "                    f\"All series must have a DatetimeIndex index with the same frequency. \"\n",
    "                    f\"Found frequencies: {set(indexes_freq)}\"\n",
    "                )\n",
    "            )\n"
   ]
  },
  {
   "cell_type": "code",
   "execution_count": null,
   "metadata": {},
   "outputs": [],
   "source": [
    "def check_exog_multiseries(\n",
    "    series: Union[pd.DataFrame, Dict[str, pd.Series], Dict[str, pd.DataFrame]],\n",
    "    exog: Optional[\n",
    "        Union[pd.DataFrame, pd.Series, Dict[str, pd.Series], Dict[str, pd.DataFrame]]\n",
    "    ] = None,\n",
    ") -> None:\n",
    "\n",
    "    if exog is None:\n",
    "        return\n",
    "\n",
    "    if not isinstance(exog, (pd.Series, pd.DataFrame, dict)):\n",
    "        raise TypeError(\n",
    "            (\n",
    "                f\"`exog` must be a pandas Series, DataFrame or dict. \"\n",
    "                f\"Got {type(exog)}.\"\n",
    "            )\n",
    "        )\n",
    "\n",
    "    if isinstance(exog, (pd.Series, pd.DataFrame)):\n",
    "        if isinstance(series, dict):\n",
    "            raise TypeError(\n",
    "                (\n",
    "                    f\"`exog` must be a dict of DataFrames or Series if \"\n",
    "                    f\"`series` is a dict. Got {type(exog)}.\"\n",
    "                )\n",
    "            )\n",
    "\n",
    "        # TODO: disable warnings of this two wxecutions\n",
    "        _, y_index = preprocess_y(y=series, return_values=False)\n",
    "        _, exog_index = preprocess_exog(exog=exog, return_values=False)\n",
    "        if not (exog_index == series_index).all():\n",
    "            raise ValueError(\n",
    "                (\n",
    "                    \"Different index for `series` and `exog`. They must be equal \"\n",
    "                    \"to ensure the correct alignment of values.\"\n",
    "                )\n",
    "            )\n",
    "    else:\n",
    "        # Only elements already present in exog_dict are updated\n",
    "        series_names = set(series.keys()) if isinstance(series, dict) else set(series.columns)\n",
    "        series_not_in_exog = set(series_names) - set(exog.keys())\n",
    "        if series_not_in_exog:\n",
    "            warnings.warn(\n",
    "                (\n",
    "                    f\"{series_not_in_exog} not present in `exog`. All values \"\n",
    "                    f\"of the exogenous variables for these series will be NaN.\"\n",
    "                ),\n",
    "                MissingValuesExogWarning,\n",
    "            )\n",
    "\n",
    "        for k, v in exog.items():\n",
    "            check_exog(exog=v, allow_nan=True)\n",
    "\n",
    "        if isinstance(series, pd.DataFrame):\n",
    "            for k, v in exog_dict.items():\n",
    "                if v is not None:\n",
    "                    _, v_index = preprocess_exog(exog=v, return_values=False)\n",
    "                    exog_dict[k].index = v_index\n",
    "                    if (v.index == series.index).all():\n",
    "                        raise ValueError(\n",
    "                            (\n",
    "                                f\"Different index for `series` {k} and its `exog`. \"\n",
    "                                f\"When `series` is a pandas DataFrame, they must \"\n",
    "                                f\"be equal to ensure the correct alignment of values.\"\n",
    "                            )\n",
    "                        )\n",
    "        else:\n",
    "            not_valid_index = [\n",
    "                k\n",
    "                for k, v in exog_dict.items()\n",
    "                if v is not None and not isinstance(v.index, pd.DatetimeIndex)\n",
    "            ]\n",
    "            if not_valid_index:\n",
    "                raise TypeError(\n",
    "                    (\n",
    "                        f\"All exog must have a DatetimeIndex index with the same frequency. \"\n",
    "                        f\"Review exog: {not_valid_index}\"\n",
    "                    )\n",
    "                )\n",
    "\n",
    "            indexes_freq = [\n",
    "                v.index.freq for k, v in exog_dict.items() if v is not None\n",
    "            ]\n",
    "            if not len(set(indexes_freq)) == 1:\n",
    "                raise ValueError(\n",
    "                    (\n",
    "                        f\"All exog must have a DatetimeIndex index with the same frequency. \"\n",
    "                        f\"Found frequencies: {set(indexes_freq)}\"\n",
    "                    )\n",
    "                )\n",
    "\n",
    "    exog_col_names = list(\n",
    "        set(column for df in exog_dict.values() for column in df.columns.to_list())\n",
    "    )\n",
    "\n",
    "    # Check that all exog have the same dtypes for common columns\n",
    "    exog_dtype_dict = {col_name: set() for col_name in exog_col_names}\n",
    "    for v in exog_dict.values():\n",
    "        if v is not None:\n",
    "            for col_name in v.columns:\n",
    "                exog_dtype_dict[col_name].add(v[col_name].dtype.name)\n",
    "\n",
    "    for col_name, dtypes in exog_dtype_dict.items():\n",
    "        if len(dtypes) > 1:\n",
    "            raise TypeError(\n",
    "                (\n",
    "                    f\"Column {col_name} has different dtypes in different exog \"\n",
    "                    f\"DataFrames or Series.\"\n",
    "                )\n",
    "            )\n",
    "\n",
    "    if len(set(exog_col_names) - set(series_col_names)) != len(exog_col_names):\n",
    "        raise ValueError(\n",
    "            (\n",
    "                f\"`exog` cannot contain a column named the same as one of the \"\n",
    "                f\"series (column names of series).\\n\"\n",
    "                f\"    `series` columns : {series_col_names}.\\n\"\n",
    "                f\"    `exog`   columns : {exog_col_names}.\"\n",
    "            )\n",
    "        )\n"
   ]
  },
  {
   "cell_type": "code",
   "execution_count": null,
   "metadata": {},
   "outputs": [],
   "source": [
    "def check_input_multiseries(\n",
    "    series: Union[pd.DataFrame, Dict[str, pd.Series], Dict[str, pd.DataFrame]],\n",
    "    exog: Optional[\n",
    "        Union[pd.DataFrame, pd.Series, Dict[str, pd.Series], Dict[str, pd.DataFrame]]\n",
    "    ] = None,\n",
    ") -> None:\n",
    "    \"\"\"\n",
    "    Check input data for ForecasterMultiseries.\n",
    "\n",
    "    Parameters\n",
    "    ----------\n",
    "    series : pandas.DataFrame or dict of pandas.Series or dict of pandas.DataFrame\n",
    "        Input time series data.\n",
    "    exog : pandas.DataFrame or dict of pandas.Series or dict of pandas.DataFrame, default None\n",
    "        Exogenous variables data.\n",
    "\n",
    "    Returns\n",
    "    -------\n",
    "    None\n",
    "    \"\"\"\n",
    "\n",
    "    \n",
    "\n",
    "\n",
    "\n",
    "def preprocess_multiseries_input(\n",
    "    series: Union[pd.DataFrame, Dict[str, pd.Series], Dict[str, pd.DataFrame]],\n",
    "    exog: Optional[Union[pd.DataFrame, pd.Series, Dict[str, pd.Series], Dict[str, pd.DataFrame]]] = None\n",
    ") -> Tuple[Dict[str, pd.Series], Dict[str, pd.DataFrame], Dict[str, pd.DataFrame]]:\n",
    "\n",
    "    if isinstance(series, pd.DataFrame):\n",
    "        _, series_index = preprocess_y(y=series, return_values=False)\n",
    "        series_dict = series.copy()\n",
    "        series_dict.index = series_index\n",
    "        series_dict = series.to_dict(\"series\")\n",
    "\n",
    "    # Remove leading and trailing nans from each series.\n",
    "    for k, v in series_dict.items():\n",
    "        series_dict[k] = v.loc[v.first_valid_index() : v.last_valid_index()]\n"
   ]
  },
  {
   "cell_type": "code",
   "execution_count": null,
   "metadata": {},
   "outputs": [],
   "source": []
  },
  {
   "cell_type": "code",
   "execution_count": null,
   "metadata": {},
   "outputs": [],
   "source": []
  },
  {
   "cell_type": "code",
   "execution_count": 50,
   "metadata": {},
   "outputs": [],
   "source": [
    "series = pd.DataFrame(\n",
    "    data=np.random.rand(4, 3),\n",
    "    index=pd.date_range(start=\"2020-01-01\", periods=4, freq=\"D\"),\n",
    "    columns=[\"y_1\", \"y_2\", \"y_3\"]\n",
    ")\n",
    "\n",
    "check_and_preprocess_input_multiseries(series=series)"
   ]
  },
  {
   "cell_type": "code",
   "execution_count": 53,
   "metadata": {},
   "outputs": [],
   "source": [
    "series = {\n",
    "    \"series_1\": pd.DataFrame(\n",
    "        data=np.random.rand(4, 1),\n",
    "        index=pd.date_range(start=\"2020-01-01\", periods=4, freq=\"D\"),\n",
    "        columns=[\"y_1\"]\n",
    "    ),\n",
    "    \"series_2\": pd.DataFrame(\n",
    "        data=np.random.rand(4, 1),\n",
    "        index=pd.date_range(start=\"2020-01-01\", periods=4, freq=\"D\"),\n",
    "        columns=[\"y_2\"]\n",
    "    ),\n",
    "}\n",
    "\n",
    "check_and_preprocess_input_multiseries(series=series)"
   ]
  },
  {
   "cell_type": "code",
   "execution_count": 51,
   "metadata": {},
   "outputs": [
    {
     "ename": "TypeError",
     "evalue": "`series` must be a pandas DataFrame or a dict of DataFrames or Series. Got <class 'pandas.core.series.Series'>.",
     "output_type": "error",
     "traceback": [
      "\u001b[0;31m---------------------------------------------------------------------------\u001b[0m",
      "\u001b[0;31mTypeError\u001b[0m                                 Traceback (most recent call last)",
      "Cell \u001b[0;32mIn[51], line 7\u001b[0m\n\u001b[1;32m      1\u001b[0m series \u001b[38;5;241m=\u001b[39m pd\u001b[38;5;241m.\u001b[39mSeries(\n\u001b[1;32m      2\u001b[0m     data\u001b[38;5;241m=\u001b[39mnp\u001b[38;5;241m.\u001b[39mrandom\u001b[38;5;241m.\u001b[39mrand(\u001b[38;5;241m4\u001b[39m),\n\u001b[1;32m      3\u001b[0m     index\u001b[38;5;241m=\u001b[39mpd\u001b[38;5;241m.\u001b[39mdate_range(start\u001b[38;5;241m=\u001b[39m\u001b[38;5;124m\"\u001b[39m\u001b[38;5;124m2020-01-01\u001b[39m\u001b[38;5;124m\"\u001b[39m, periods\u001b[38;5;241m=\u001b[39m\u001b[38;5;241m4\u001b[39m, freq\u001b[38;5;241m=\u001b[39m\u001b[38;5;124m\"\u001b[39m\u001b[38;5;124mD\u001b[39m\u001b[38;5;124m\"\u001b[39m),\n\u001b[1;32m      4\u001b[0m     name\u001b[38;5;241m=\u001b[39m\u001b[38;5;124m\"\u001b[39m\u001b[38;5;124my\u001b[39m\u001b[38;5;124m\"\u001b[39m\n\u001b[1;32m      5\u001b[0m )\n\u001b[0;32m----> 7\u001b[0m \u001b[43mcheck_and_preprocess_input_multiseries\u001b[49m\u001b[43m(\u001b[49m\u001b[43mseries\u001b[49m\u001b[38;5;241;43m=\u001b[39;49m\u001b[43mseries\u001b[49m\u001b[43m)\u001b[49m\n",
      "Cell \u001b[0;32mIn[49], line 77\u001b[0m, in \u001b[0;36mcheck_and_preprocess_input_multiseries\u001b[0;34m(series, exog)\u001b[0m\n\u001b[1;32m     70\u001b[0m         \u001b[38;5;28;01mraise\u001b[39;00m \u001b[38;5;167;01mValueError\u001b[39;00m(\n\u001b[1;32m     71\u001b[0m             (\n\u001b[1;32m     72\u001b[0m                 \u001b[38;5;124mf\u001b[39m\u001b[38;5;124m\"\u001b[39m\u001b[38;5;124mAll series must have a DatetimeIndex index with the same frequency. \u001b[39m\u001b[38;5;124m\"\u001b[39m\n\u001b[1;32m     73\u001b[0m                 \u001b[38;5;124mf\u001b[39m\u001b[38;5;124m\"\u001b[39m\u001b[38;5;124mFound frequencies: \u001b[39m\u001b[38;5;132;01m{\u001b[39;00m\u001b[38;5;28mset\u001b[39m(indexes_freq)\u001b[38;5;132;01m}\u001b[39;00m\u001b[38;5;124m\"\u001b[39m\n\u001b[1;32m     74\u001b[0m             )\n\u001b[1;32m     75\u001b[0m         )\n\u001b[1;32m     76\u001b[0m \u001b[38;5;28;01melse\u001b[39;00m:\n\u001b[0;32m---> 77\u001b[0m     \u001b[38;5;28;01mraise\u001b[39;00m \u001b[38;5;167;01mTypeError\u001b[39;00m(\n\u001b[1;32m     78\u001b[0m         (\n\u001b[1;32m     79\u001b[0m             \u001b[38;5;124mf\u001b[39m\u001b[38;5;124m\"\u001b[39m\u001b[38;5;124m`series` must be a pandas DataFrame or a dict of DataFrames or Series. \u001b[39m\u001b[38;5;124m\"\u001b[39m\n\u001b[1;32m     80\u001b[0m             \u001b[38;5;124mf\u001b[39m\u001b[38;5;124m\"\u001b[39m\u001b[38;5;124mGot \u001b[39m\u001b[38;5;132;01m{\u001b[39;00m\u001b[38;5;28mtype\u001b[39m(series)\u001b[38;5;132;01m}\u001b[39;00m\u001b[38;5;124m.\u001b[39m\u001b[38;5;124m\"\u001b[39m\n\u001b[1;32m     81\u001b[0m         )\n\u001b[1;32m     82\u001b[0m     )\n\u001b[1;32m     84\u001b[0m series_col_names \u001b[38;5;241m=\u001b[39m \u001b[38;5;28mlist\u001b[39m(series\u001b[38;5;241m.\u001b[39mkeys())\n\u001b[1;32m     86\u001b[0m exog_dict \u001b[38;5;241m=\u001b[39m {serie: \u001b[38;5;28;01mNone\u001b[39;00m \u001b[38;5;28;01mfor\u001b[39;00m serie \u001b[38;5;129;01min\u001b[39;00m series_col_names}\n",
      "\u001b[0;31mTypeError\u001b[0m: `series` must be a pandas DataFrame or a dict of DataFrames or Series. Got <class 'pandas.core.series.Series'>."
     ]
    }
   ],
   "source": [
    "series = pd.Series(\n",
    "    data=np.random.rand(4),\n",
    "    index=pd.date_range(start=\"2020-01-01\", periods=4, freq=\"D\"),\n",
    "    name=\"y\"\n",
    ")\n",
    "\n",
    "check_and_preprocess_input_multiseries(series=series)"
   ]
  },
  {
   "cell_type": "code",
   "execution_count": 34,
   "metadata": {},
   "outputs": [
    {
     "data": {
      "text/html": [
       "<div>\n",
       "<style scoped>\n",
       "    .dataframe tbody tr th:only-of-type {\n",
       "        vertical-align: middle;\n",
       "    }\n",
       "\n",
       "    .dataframe tbody tr th {\n",
       "        vertical-align: top;\n",
       "    }\n",
       "\n",
       "    .dataframe thead th {\n",
       "        text-align: right;\n",
       "    }\n",
       "</style>\n",
       "<table border=\"1\" class=\"dataframe\">\n",
       "  <thead>\n",
       "    <tr style=\"text-align: right;\">\n",
       "      <th></th>\n",
       "      <th>y_1</th>\n",
       "      <th>y_2</th>\n",
       "      <th>y_3</th>\n",
       "    </tr>\n",
       "  </thead>\n",
       "  <tbody>\n",
       "    <tr>\n",
       "      <th>2020-01-01</th>\n",
       "      <td>0.040225</td>\n",
       "      <td>0.941863</td>\n",
       "      <td>0.266589</td>\n",
       "    </tr>\n",
       "    <tr>\n",
       "      <th>2020-01-02</th>\n",
       "      <td>0.828271</td>\n",
       "      <td>0.139975</td>\n",
       "      <td>0.962412</td>\n",
       "    </tr>\n",
       "    <tr>\n",
       "      <th>2020-01-03</th>\n",
       "      <td>0.895854</td>\n",
       "      <td>0.329336</td>\n",
       "      <td>0.309633</td>\n",
       "    </tr>\n",
       "    <tr>\n",
       "      <th>2020-01-04</th>\n",
       "      <td>0.673742</td>\n",
       "      <td>0.326813</td>\n",
       "      <td>0.976502</td>\n",
       "    </tr>\n",
       "  </tbody>\n",
       "</table>\n",
       "</div>"
      ],
      "text/plain": [
       "                 y_1       y_2       y_3\n",
       "2020-01-01  0.040225  0.941863  0.266589\n",
       "2020-01-02  0.828271  0.139975  0.962412\n",
       "2020-01-03  0.895854  0.329336  0.309633\n",
       "2020-01-04  0.673742  0.326813  0.976502"
      ]
     },
     "metadata": {},
     "output_type": "display_data"
    },
    {
     "data": {
      "text/plain": [
       "2020-01-01    1\n",
       "2020-01-02    2\n",
       "2020-01-03    3\n",
       "Freq: D, Name: exog_1, dtype: int64"
      ]
     },
     "metadata": {},
     "output_type": "display_data"
    }
   ],
   "source": [
    "series = pd.DataFrame(\n",
    "    data=np.random.rand(4, 3),\n",
    "    index=pd.date_range(start=\"2020-01-01\", periods=4, freq=\"D\"),\n",
    "    columns=[\"y_1\", \"y_2\", \"y_3\"]\n",
    ")\n",
    "exog = pd.Series(\n",
    "    data=[1, 2, 3],\n",
    "    index=pd.date_range(start=\"2020-01-01\", periods=3, freq=\"D\"),\n",
    "    name=\"exog_1\"\n",
    ")\n",
    "\n",
    "display(series.head())\n",
    "display(exog.head())\n",
    "\n",
    "check_input_multiseries(series=series, exog=exog)"
   ]
  }
 ],
 "metadata": {
  "kernelspec": {
   "display_name": "skforecast_py10",
   "language": "python",
   "name": "python3"
  },
  "language_info": {
   "codemirror_mode": {
    "name": "ipython",
    "version": 3
   },
   "file_extension": ".py",
   "mimetype": "text/x-python",
   "name": "python",
   "nbconvert_exporter": "python",
   "pygments_lexer": "ipython3",
   "version": "3.11.5"
  },
  "orig_nbformat": 4,
  "vscode": {
   "interpreter": {
    "hash": "c78d62c1713fdacd99ef7c429003c7324b36fbb551fb8b6860a7ea73e9338235"
   }
  }
 },
 "nbformat": 4,
 "nbformat_minor": 2
}
