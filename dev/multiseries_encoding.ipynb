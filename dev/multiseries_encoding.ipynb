{
 "cells": [
  {
   "cell_type": "code",
   "execution_count": 1,
   "metadata": {},
   "outputs": [
    {
     "data": {
      "text/plain": [
       "'/home/ubuntu/varios/skforecast'"
      ]
     },
     "execution_count": 1,
     "metadata": {},
     "output_type": "execute_result"
    }
   ],
   "source": [
    "%load_ext autoreload\n",
    "%autoreload 2\n",
    "import sys\n",
    "from pathlib import Path\n",
    "sys.path.insert(1, str(Path.cwd().parent))\n",
    "str(Path.cwd().parent)"
   ]
  },
  {
   "cell_type": "code",
   "execution_count": 2,
   "metadata": {},
   "outputs": [],
   "source": [
    "from sklearn.preprocessing import OneHotEncoder"
   ]
  },
  {
   "cell_type": "code",
   "execution_count": 3,
   "metadata": {},
   "outputs": [
    {
     "data": {
      "text/plain": [
       "'1.4.1.post1'"
      ]
     },
     "execution_count": 3,
     "metadata": {},
     "output_type": "execute_result"
    }
   ],
   "source": [
    "import sklearn\n",
    "sklearn.__version__"
   ]
  },
  {
   "cell_type": "code",
   "execution_count": 4,
   "metadata": {},
   "outputs": [],
   "source": [
    "# create an example dataframe to show the use of the OneHotEncoder\n",
    "import pandas as pd\n",
    "import numpy as np\n",
    "\n",
    "df = pd.DataFrame({'_level_skforecast': ['a', 'b', 'c'], 'B': ['b', 'a', 'c'], 'C': [1, 2, 3]})"
   ]
  },
  {
   "cell_type": "code",
   "execution_count": 5,
   "metadata": {},
   "outputs": [
    {
     "ename": "NameError",
     "evalue": "name 'forecaster' is not defined",
     "output_type": "error",
     "traceback": [
      "\u001b[0;31m---------------------------------------------------------------------------\u001b[0m",
      "\u001b[0;31mNameError\u001b[0m                                 Traceback (most recent call last)",
      "Cell \u001b[0;32mIn[5], line 7\u001b[0m\n\u001b[1;32m      5\u001b[0m encoder \u001b[38;5;241m=\u001b[39m OneHotEncoder(categories\u001b[38;5;241m=\u001b[39m\u001b[38;5;124m'\u001b[39m\u001b[38;5;124mauto\u001b[39m\u001b[38;5;124m'\u001b[39m, sparse_output\u001b[38;5;241m=\u001b[39m\u001b[38;5;28;01mFalse\u001b[39;00m, drop\u001b[38;5;241m=\u001b[39m\u001b[38;5;28;01mNone\u001b[39;00m, dtype\u001b[38;5;241m=\u001b[39m\u001b[38;5;28mint\u001b[39m)\u001b[38;5;241m.\u001b[39mset_output(transform\u001b[38;5;241m=\u001b[39m\u001b[38;5;124m'\u001b[39m\u001b[38;5;124mpandas\u001b[39m\u001b[38;5;124m'\u001b[39m)\n\u001b[1;32m      6\u001b[0m \u001b[38;5;66;03m#encoder = OrdinalEncoder(categories='auto', dtype=int).set_output(transform='pandas')\u001b[39;00m\n\u001b[0;32m----> 7\u001b[0m \u001b[38;5;28mself\u001b[39m \u001b[38;5;241m=\u001b[39m \u001b[43mforecaster\u001b[49m\n\u001b[1;32m      9\u001b[0m transformer \u001b[38;5;241m=\u001b[39m ColumnTransformer(\n\u001b[1;32m     10\u001b[0m     transformers\u001b[38;5;241m=\u001b[39m[\n\u001b[1;32m     11\u001b[0m         (\u001b[38;5;28mself\u001b[39m\u001b[38;5;241m.\u001b[39mencoding, encoder, [\u001b[38;5;124m'\u001b[39m\u001b[38;5;124m_level_skforecast\u001b[39m\u001b[38;5;124m'\u001b[39m])\n\u001b[1;32m     12\u001b[0m     ], remainder\u001b[38;5;241m=\u001b[39m\u001b[38;5;124m'\u001b[39m\u001b[38;5;124mpassthrough\u001b[39m\u001b[38;5;124m'\u001b[39m,\n\u001b[1;32m     13\u001b[0m     verbose_feature_names_out\u001b[38;5;241m=\u001b[39m\u001b[38;5;28;01mFalse\u001b[39;00m\n\u001b[1;32m     14\u001b[0m )\u001b[38;5;241m.\u001b[39mset_output(transform\u001b[38;5;241m=\u001b[39m\u001b[38;5;124m'\u001b[39m\u001b[38;5;124mpandas\u001b[39m\u001b[38;5;124m'\u001b[39m)\n\u001b[1;32m     16\u001b[0m X_train \u001b[38;5;241m=\u001b[39m transformer\u001b[38;5;241m.\u001b[39mfit_transform(df)\n",
      "\u001b[0;31mNameError\u001b[0m: name 'forecaster' is not defined"
     ]
    }
   ],
   "source": [
    "from sklearn.preprocessing import OneHotEncoder\n",
    "from sklearn.preprocessing import OrdinalEncoder\n",
    "from sklearn.compose import ColumnTransformer\n",
    "\n",
    "encoder = OneHotEncoder(categories='auto', sparse_output=False, drop=None, dtype=int).set_output(transform='pandas')\n",
    "#encoder = OrdinalEncoder(categories='auto', dtype=int).set_output(transform='pandas')\n",
    "self = forecaster\n",
    "\n",
    "transformer = ColumnTransformer(\n",
    "    transformers=[\n",
    "        (self.encoding, encoder, ['_level_skforecast'])\n",
    "    ], remainder='passthrough',\n",
    "    verbose_feature_names_out=False\n",
    ").set_output(transform='pandas')\n",
    "\n",
    "X_train = transformer.fit_transform(df)\n",
    "X_train"
   ]
  },
  {
   "cell_type": "code",
   "execution_count": null,
   "metadata": {},
   "outputs": [
    {
     "data": {
      "text/html": [
       "<div>\n",
       "<style scoped>\n",
       "    .dataframe tbody tr th:only-of-type {\n",
       "        vertical-align: middle;\n",
       "    }\n",
       "\n",
       "    .dataframe tbody tr th {\n",
       "        vertical-align: top;\n",
       "    }\n",
       "\n",
       "    .dataframe thead th {\n",
       "        text-align: right;\n",
       "    }\n",
       "</style>\n",
       "<table border=\"1\" class=\"dataframe\">\n",
       "  <thead>\n",
       "    <tr style=\"text-align: right;\">\n",
       "      <th></th>\n",
       "      <th>_level_skforecast_a</th>\n",
       "      <th>_level_skforecast_b</th>\n",
       "      <th>_level_skforecast_c</th>\n",
       "    </tr>\n",
       "  </thead>\n",
       "  <tbody>\n",
       "    <tr>\n",
       "      <th>0</th>\n",
       "      <td>1</td>\n",
       "      <td>0</td>\n",
       "      <td>0</td>\n",
       "    </tr>\n",
       "    <tr>\n",
       "      <th>1</th>\n",
       "      <td>0</td>\n",
       "      <td>1</td>\n",
       "      <td>0</td>\n",
       "    </tr>\n",
       "    <tr>\n",
       "      <th>2</th>\n",
       "      <td>0</td>\n",
       "      <td>0</td>\n",
       "      <td>1</td>\n",
       "    </tr>\n",
       "  </tbody>\n",
       "</table>\n",
       "</div>"
      ],
      "text/plain": [
       "   _level_skforecast_a  _level_skforecast_b  _level_skforecast_c\n",
       "0                    1                    0                    0\n",
       "1                    0                    1                    0\n",
       "2                    0                    0                    1"
      ]
     },
     "execution_count": 13,
     "metadata": {},
     "output_type": "execute_result"
    }
   ],
   "source": [
    "encoder.fit_transform(df[['_level_skforecast']])"
   ]
  },
  {
   "cell_type": "code",
   "execution_count": null,
   "metadata": {},
   "outputs": [
    {
     "ename": "NameError",
     "evalue": "name 'transformer' is not defined",
     "output_type": "error",
     "traceback": [
      "\u001b[0;31m---------------------------------------------------------------------------\u001b[0m",
      "\u001b[0;31mNameError\u001b[0m                                 Traceback (most recent call last)",
      "Cell \u001b[0;32mIn[14], line 2\u001b[0m\n\u001b[1;32m      1\u001b[0m mapping \u001b[38;5;241m=\u001b[39m {}\n\u001b[0;32m----> 2\u001b[0m \u001b[38;5;28;01mfor\u001b[39;00m i, code \u001b[38;5;129;01min\u001b[39;00m \u001b[38;5;28menumerate\u001b[39m(\u001b[43mtransformer\u001b[49m\u001b[38;5;241m.\u001b[39mnamed_transformers_[\u001b[38;5;28mself\u001b[39m\u001b[38;5;241m.\u001b[39mencoding]\u001b[38;5;241m.\u001b[39mcategories_[\u001b[38;5;241m0\u001b[39m]):\n\u001b[1;32m      3\u001b[0m      mapping[code] \u001b[38;5;241m=\u001b[39m i\n\u001b[1;32m      5\u001b[0m mapping\n",
      "\u001b[0;31mNameError\u001b[0m: name 'transformer' is not defined"
     ]
    }
   ],
   "source": [
    "mapping = {}\n",
    "for i, code in enumerate(transformer.named_transformers_[self.encoding].categories_[0]):\n",
    "     mapping[code] = i\n",
    "\n",
    "mapping"
   ]
  },
  {
   "cell_type": "code",
   "execution_count": null,
   "metadata": {},
   "outputs": [
    {
     "data": {
      "text/plain": [
       "array(['a', 'b', 'c'], dtype=object)"
      ]
     },
     "execution_count": 82,
     "metadata": {},
     "output_type": "execute_result"
    }
   ],
   "source": [
    "transformer.named_transformers_[self.encoding].categories_[0]"
   ]
  },
  {
   "cell_type": "code",
   "execution_count": 6,
   "metadata": {},
   "outputs": [
    {
     "name": "stdout",
     "output_type": "stream",
     "text": [
      "Train dates : 2012-01-01 00:00:00 --- 2014-07-15 00:00:00   (n=927)\n",
      "Test dates  : 2014-07-16 00:00:00 --- 2015-01-01 00:00:00   (n=170)\n"
     ]
    }
   ],
   "source": [
    "# Libraries\n",
    "# ==============================================================================\n",
    "import numpy as np\n",
    "import pandas as pd\n",
    "import matplotlib.pyplot as plt\n",
    "from sklearn.preprocessing import StandardScaler\n",
    "from sklearn.linear_model import Ridge\n",
    "from sklearn.metrics import mean_absolute_error\n",
    "from sklearn.ensemble import HistGradientBoostingRegressor\n",
    "from lightgbm import LGBMRegressor\n",
    "\n",
    "from skforecast.ForecasterAutoregMultiSeries import ForecasterAutoregMultiSeries\n",
    "from skforecast.model_selection_multiseries import backtesting_forecaster_multiseries\n",
    "from skforecast.model_selection_multiseries import grid_search_forecaster_multiseries\n",
    "\n",
    "# Data download\n",
    "# ==============================================================================\n",
    "url = (\n",
    "       'https://raw.githubusercontent.com/JoaquinAmatRodrigo/skforecast/master/'\n",
    "       'data/simulated_items_sales.csv'\n",
    ")\n",
    "data = pd.read_csv(url, sep=',')\n",
    "\n",
    "# Data preparation\n",
    "# ==============================================================================\n",
    "data['date'] = pd.to_datetime(data['date'], format='%Y-%m-%d')\n",
    "data = data.set_index('date')\n",
    "data = data.asfreq('D')\n",
    "data = data.sort_index()\n",
    "data.head()\n",
    "\n",
    "# Split data into train-val-test\n",
    "# ==============================================================================\n",
    "end_train = '2014-07-15 23:59:00'\n",
    "data_train = data.loc[:end_train, :].copy()\n",
    "data_test  = data.loc[end_train:, :].copy()\n",
    "\n",
    "print(\n",
    "    f\"Train dates : {data_train.index.min()} --- {data_train.index.max()}   \"\n",
    "    f\"(n={len(data_train)})\"\n",
    ")\n",
    "print(\n",
    "    f\"Test dates  : {data_test.index.min()} --- {data_test.index.max()}   \"\n",
    "    f\"(n={len(data_test)})\"\n",
    ")"
   ]
  },
  {
   "cell_type": "code",
   "execution_count": 130,
   "metadata": {},
   "outputs": [
    {
     "name": "stdout",
     "output_type": "stream",
     "text": [
      "lag_1                 float64\n",
      "lag_2                 float64\n",
      "lag_3                 float64\n",
      "lag_4                 float64\n",
      "lag_5                 float64\n",
      "lag_6                 float64\n",
      "lag_7                 float64\n",
      "lag_8                 float64\n",
      "lag_9                 float64\n",
      "lag_10                float64\n",
      "lag_11                float64\n",
      "lag_12                float64\n",
      "lag_13                float64\n",
      "lag_14                float64\n",
      "lag_15                float64\n",
      "lag_16                float64\n",
      "lag_17                float64\n",
      "lag_18                float64\n",
      "lag_19                float64\n",
      "lag_20                float64\n",
      "lag_21                float64\n",
      "lag_22                float64\n",
      "lag_23                float64\n",
      "lag_24                float64\n",
      "_level_skforecast    category\n",
      "dtype: object\n",
      "[LightGBM] [Info] Auto-choosing col-wise multi-threading, the overhead of testing was 0.000559 seconds.\n",
      "You can set `force_col_wise=true` to remove the overhead.\n",
      "[LightGBM] [Info] Total Bins 6124\n",
      "[LightGBM] [Info] Number of data points in the train set: 2709, number of used features: 25\n",
      "[LightGBM] [Info] Start training from score 18.649108\n"
     ]
    },
    {
     "data": {
      "text/plain": [
       "{'item_1': 0, 'item_2': 1, 'item_3': 2}"
      ]
     },
     "execution_count": 130,
     "metadata": {},
     "output_type": "execute_result"
    }
   ],
   "source": [
    "# Create and fit forecaster multi series\n",
    "# ==============================================================================\n",
    "forecaster = ForecasterAutoregMultiSeries(\n",
    "                 regressor          = LGBMRegressor(random_state=123),\n",
    "                 lags               = 24,\n",
    "                 encoding           = 'aaaa',\n",
    "                 transformer_series = None,\n",
    "                 transformer_exog   = None,\n",
    "                 weight_func        = None,\n",
    "                 series_weights     = None,\n",
    "                 forecaster_id      = None,\n",
    "                 #fit_kwargs={'categorical_feature':'auto'}\n",
    "             )\n",
    "\n",
    "forecaster.fit(series=data_train)\n",
    "forecaster.encoding_mapping"
   ]
  },
  {
   "cell_type": "code",
   "execution_count": 131,
   "metadata": {},
   "outputs": [
    {
     "name": "stdout",
     "output_type": "stream",
     "text": [
      "['_level_skforecast']\n"
     ]
    }
   ],
   "source": [
    "# Show categorical features if present\n",
    "cat_index = forecaster.regressor.booster_.params.get('categorical_column')\n",
    "if cat_index is not None:\n",
    "    features = forecaster.regressor.booster_.feature_name()\n",
    "    print([features[i] for i in cat_index])"
   ]
  },
  {
   "cell_type": "code",
   "execution_count": 132,
   "metadata": {},
   "outputs": [
    {
     "ename": "SyntaxError",
     "evalue": "invalid syntax (1311491502.py, line 1)",
     "output_type": "error",
     "traceback": [
      "\u001b[0;36m  Cell \u001b[0;32mIn[132], line 1\u001b[0;36m\u001b[0m\n\u001b[0;31m    Que las opciones de encoding sean: 'onehot', 'ordinal', 'ordinal_category'\u001b[0m\n\u001b[0m        ^\u001b[0m\n\u001b[0;31mSyntaxError\u001b[0m\u001b[0;31m:\u001b[0m invalid syntax\n"
     ]
    }
   ],
   "source": [
    "Que las opciones de encoding sean: 'onehot', 'ordinal', 'ordinal_category'\n",
    "Que en las predicciones se invierta el nombre del level utilizando el mapping."
   ]
  },
  {
   "cell_type": "code",
   "execution_count": 134,
   "metadata": {},
   "outputs": [
    {
     "name": "stdout",
     "output_type": "stream",
     "text": [
      "1\n",
      "[[10.48958333 10.89583333  8.1        11.00833333 11.00208333  9.05208333\n",
      "  12.67083333 11.57916667 11.1875     12.11666667 11.0625      9.6375\n",
      "  12.13333333 12.39791667 10.77291667  8.40208333 10.68958333 12.26041667\n",
      "  13.17708333 13.37708333 11.61666667  9.82916667 13.88333333 11.89375\n",
      "   1.        ]]\n",
      "1\n",
      "[[10.58985244 10.48958333 10.89583333  8.1        11.00833333 11.00208333\n",
      "   9.05208333 12.67083333 11.57916667 11.1875     12.11666667 11.0625\n",
      "   9.6375     12.13333333 12.39791667 10.77291667  8.40208333 10.68958333\n",
      "  12.26041667 13.17708333 13.37708333 11.61666667  9.82916667 13.88333333\n",
      "   1.        ]]\n",
      "1\n",
      "[[11.24964181 10.58985244 10.48958333 10.89583333  8.1        11.00833333\n",
      "  11.00208333  9.05208333 12.67083333 11.57916667 11.1875     12.11666667\n",
      "  11.0625      9.6375     12.13333333 12.39791667 10.77291667  8.40208333\n",
      "  10.68958333 12.26041667 13.17708333 13.37708333 11.61666667  9.82916667\n",
      "   1.        ]]\n",
      "1\n",
      "[[11.21494489 11.24964181 10.58985244 10.48958333 10.89583333  8.1\n",
      "  11.00833333 11.00208333  9.05208333 12.67083333 11.57916667 11.1875\n",
      "  12.11666667 11.0625      9.6375     12.13333333 12.39791667 10.77291667\n",
      "   8.40208333 10.68958333 12.26041667 13.17708333 13.37708333 11.61666667\n",
      "   1.        ]]\n",
      "1\n",
      "[[11.39277014 11.21494489 11.24964181 10.58985244 10.48958333 10.89583333\n",
      "   8.1        11.00833333 11.00208333  9.05208333 12.67083333 11.57916667\n",
      "  11.1875     12.11666667 11.0625      9.6375     12.13333333 12.39791667\n",
      "  10.77291667  8.40208333 10.68958333 12.26041667 13.17708333 13.37708333\n",
      "   1.        ]]\n",
      "1\n",
      "[[11.09251389 11.39277014 11.21494489 11.24964181 10.58985244 10.48958333\n",
      "  10.89583333  8.1        11.00833333 11.00208333  9.05208333 12.67083333\n",
      "  11.57916667 11.1875     12.11666667 11.0625      9.6375     12.13333333\n",
      "  12.39791667 10.77291667  8.40208333 10.68958333 12.26041667 13.17708333\n",
      "   1.        ]]\n",
      "1\n",
      "[[11.36780226 11.09251389 11.39277014 11.21494489 11.24964181 10.58985244\n",
      "  10.48958333 10.89583333  8.1        11.00833333 11.00208333  9.05208333\n",
      "  12.67083333 11.57916667 11.1875     12.11666667 11.0625      9.6375\n",
      "  12.13333333 12.39791667 10.77291667  8.40208333 10.68958333 12.26041667\n",
      "   1.        ]]\n",
      "1\n",
      "[[10.61038394 11.36780226 11.09251389 11.39277014 11.21494489 11.24964181\n",
      "  10.58985244 10.48958333 10.89583333  8.1        11.00833333 11.00208333\n",
      "   9.05208333 12.67083333 11.57916667 11.1875     12.11666667 11.0625\n",
      "   9.6375     12.13333333 12.39791667 10.77291667  8.40208333 10.68958333\n",
      "   1.        ]]\n",
      "1\n",
      "[[12.44335175 10.61038394 11.36780226 11.09251389 11.39277014 11.21494489\n",
      "  11.24964181 10.58985244 10.48958333 10.89583333  8.1        11.00833333\n",
      "  11.00208333  9.05208333 12.67083333 11.57916667 11.1875     12.11666667\n",
      "  11.0625      9.6375     12.13333333 12.39791667 10.77291667  8.40208333\n",
      "   1.        ]]\n",
      "1\n",
      "[[11.56396961 12.44335175 10.61038394 11.36780226 11.09251389 11.39277014\n",
      "  11.21494489 11.24964181 10.58985244 10.48958333 10.89583333  8.1\n",
      "  11.00833333 11.00208333  9.05208333 12.67083333 11.57916667 11.1875\n",
      "  12.11666667 11.0625      9.6375     12.13333333 12.39791667 10.77291667\n",
      "   1.        ]]\n"
     ]
    },
    {
     "data": {
      "text/html": [
       "<div>\n",
       "<style scoped>\n",
       "    .dataframe tbody tr th:only-of-type {\n",
       "        vertical-align: middle;\n",
       "    }\n",
       "\n",
       "    .dataframe tbody tr th {\n",
       "        vertical-align: top;\n",
       "    }\n",
       "\n",
       "    .dataframe thead th {\n",
       "        text-align: right;\n",
       "    }\n",
       "</style>\n",
       "<table border=\"1\" class=\"dataframe\">\n",
       "  <thead>\n",
       "    <tr style=\"text-align: right;\">\n",
       "      <th></th>\n",
       "      <th>item_2</th>\n",
       "    </tr>\n",
       "  </thead>\n",
       "  <tbody>\n",
       "    <tr>\n",
       "      <th>2014-07-16</th>\n",
       "      <td>10.589852</td>\n",
       "    </tr>\n",
       "    <tr>\n",
       "      <th>2014-07-17</th>\n",
       "      <td>11.249642</td>\n",
       "    </tr>\n",
       "    <tr>\n",
       "      <th>2014-07-18</th>\n",
       "      <td>11.214945</td>\n",
       "    </tr>\n",
       "    <tr>\n",
       "      <th>2014-07-19</th>\n",
       "      <td>11.392770</td>\n",
       "    </tr>\n",
       "    <tr>\n",
       "      <th>2014-07-20</th>\n",
       "      <td>11.092514</td>\n",
       "    </tr>\n",
       "    <tr>\n",
       "      <th>2014-07-21</th>\n",
       "      <td>11.367802</td>\n",
       "    </tr>\n",
       "    <tr>\n",
       "      <th>2014-07-22</th>\n",
       "      <td>10.610384</td>\n",
       "    </tr>\n",
       "    <tr>\n",
       "      <th>2014-07-23</th>\n",
       "      <td>12.443352</td>\n",
       "    </tr>\n",
       "    <tr>\n",
       "      <th>2014-07-24</th>\n",
       "      <td>11.563970</td>\n",
       "    </tr>\n",
       "    <tr>\n",
       "      <th>2014-07-25</th>\n",
       "      <td>11.425697</td>\n",
       "    </tr>\n",
       "  </tbody>\n",
       "</table>\n",
       "</div>"
      ],
      "text/plain": [
       "               item_2\n",
       "2014-07-16  10.589852\n",
       "2014-07-17  11.249642\n",
       "2014-07-18  11.214945\n",
       "2014-07-19  11.392770\n",
       "2014-07-20  11.092514\n",
       "2014-07-21  11.367802\n",
       "2014-07-22  10.610384\n",
       "2014-07-23  12.443352\n",
       "2014-07-24  11.563970\n",
       "2014-07-25  11.425697"
      ]
     },
     "execution_count": 134,
     "metadata": {},
     "output_type": "execute_result"
    }
   ],
   "source": [
    "forecaster.predict(steps=10, levels=['item_2'])"
   ]
  },
  {
   "cell_type": "code",
   "execution_count": 129,
   "metadata": {},
   "outputs": [
    {
     "name": "stdout",
     "output_type": "stream",
     "text": [
      "1\n",
      "[[10.48958333 10.89583333  8.1        11.00833333 11.00208333  9.05208333\n",
      "  12.67083333 11.57916667 11.1875     12.11666667 11.0625      9.6375\n",
      "  12.13333333 12.39791667 10.77291667  8.40208333 10.68958333 12.26041667\n",
      "  13.17708333 13.37708333 11.61666667  9.82916667 13.88333333 11.89375\n",
      "   1.        ]]\n",
      "1\n",
      "[[10.58985244 10.48958333 10.89583333  8.1        11.00833333 11.00208333\n",
      "   9.05208333 12.67083333 11.57916667 11.1875     12.11666667 11.0625\n",
      "   9.6375     12.13333333 12.39791667 10.77291667  8.40208333 10.68958333\n",
      "  12.26041667 13.17708333 13.37708333 11.61666667  9.82916667 13.88333333\n",
      "   1.        ]]\n",
      "1\n",
      "[[11.24964181 10.58985244 10.48958333 10.89583333  8.1        11.00833333\n",
      "  11.00208333  9.05208333 12.67083333 11.57916667 11.1875     12.11666667\n",
      "  11.0625      9.6375     12.13333333 12.39791667 10.77291667  8.40208333\n",
      "  10.68958333 12.26041667 13.17708333 13.37708333 11.61666667  9.82916667\n",
      "   1.        ]]\n",
      "1\n",
      "[[11.21494489 11.24964181 10.58985244 10.48958333 10.89583333  8.1\n",
      "  11.00833333 11.00208333  9.05208333 12.67083333 11.57916667 11.1875\n",
      "  12.11666667 11.0625      9.6375     12.13333333 12.39791667 10.77291667\n",
      "   8.40208333 10.68958333 12.26041667 13.17708333 13.37708333 11.61666667\n",
      "   1.        ]]\n",
      "1\n",
      "[[11.39277014 11.21494489 11.24964181 10.58985244 10.48958333 10.89583333\n",
      "   8.1        11.00833333 11.00208333  9.05208333 12.67083333 11.57916667\n",
      "  11.1875     12.11666667 11.0625      9.6375     12.13333333 12.39791667\n",
      "  10.77291667  8.40208333 10.68958333 12.26041667 13.17708333 13.37708333\n",
      "   1.        ]]\n",
      "1\n",
      "[[11.09251389 11.39277014 11.21494489 11.24964181 10.58985244 10.48958333\n",
      "  10.89583333  8.1        11.00833333 11.00208333  9.05208333 12.67083333\n",
      "  11.57916667 11.1875     12.11666667 11.0625      9.6375     12.13333333\n",
      "  12.39791667 10.77291667  8.40208333 10.68958333 12.26041667 13.17708333\n",
      "   1.        ]]\n",
      "1\n",
      "[[11.36780226 11.09251389 11.39277014 11.21494489 11.24964181 10.58985244\n",
      "  10.48958333 10.89583333  8.1        11.00833333 11.00208333  9.05208333\n",
      "  12.67083333 11.57916667 11.1875     12.11666667 11.0625      9.6375\n",
      "  12.13333333 12.39791667 10.77291667  8.40208333 10.68958333 12.26041667\n",
      "   1.        ]]\n",
      "1\n",
      "[[10.61038394 11.36780226 11.09251389 11.39277014 11.21494489 11.24964181\n",
      "  10.58985244 10.48958333 10.89583333  8.1        11.00833333 11.00208333\n",
      "   9.05208333 12.67083333 11.57916667 11.1875     12.11666667 11.0625\n",
      "   9.6375     12.13333333 12.39791667 10.77291667  8.40208333 10.68958333\n",
      "   1.        ]]\n",
      "1\n",
      "[[12.44335175 10.61038394 11.36780226 11.09251389 11.39277014 11.21494489\n",
      "  11.24964181 10.58985244 10.48958333 10.89583333  8.1        11.00833333\n",
      "  11.00208333  9.05208333 12.67083333 11.57916667 11.1875     12.11666667\n",
      "  11.0625      9.6375     12.13333333 12.39791667 10.77291667  8.40208333\n",
      "   1.        ]]\n",
      "1\n",
      "[[11.56396961 12.44335175 10.61038394 11.36780226 11.09251389 11.39277014\n",
      "  11.21494489 11.24964181 10.58985244 10.48958333 10.89583333  8.1\n",
      "  11.00833333 11.00208333  9.05208333 12.67083333 11.57916667 11.1875\n",
      "  12.11666667 11.0625      9.6375     12.13333333 12.39791667 10.77291667\n",
      "   1.        ]]\n"
     ]
    },
    {
     "data": {
      "text/html": [
       "<div>\n",
       "<style scoped>\n",
       "    .dataframe tbody tr th:only-of-type {\n",
       "        vertical-align: middle;\n",
       "    }\n",
       "\n",
       "    .dataframe tbody tr th {\n",
       "        vertical-align: top;\n",
       "    }\n",
       "\n",
       "    .dataframe thead th {\n",
       "        text-align: right;\n",
       "    }\n",
       "</style>\n",
       "<table border=\"1\" class=\"dataframe\">\n",
       "  <thead>\n",
       "    <tr style=\"text-align: right;\">\n",
       "      <th></th>\n",
       "      <th>item_2</th>\n",
       "    </tr>\n",
       "  </thead>\n",
       "  <tbody>\n",
       "    <tr>\n",
       "      <th>2014-07-16</th>\n",
       "      <td>10.589852</td>\n",
       "    </tr>\n",
       "    <tr>\n",
       "      <th>2014-07-17</th>\n",
       "      <td>11.249642</td>\n",
       "    </tr>\n",
       "    <tr>\n",
       "      <th>2014-07-18</th>\n",
       "      <td>11.214945</td>\n",
       "    </tr>\n",
       "    <tr>\n",
       "      <th>2014-07-19</th>\n",
       "      <td>11.392770</td>\n",
       "    </tr>\n",
       "    <tr>\n",
       "      <th>2014-07-20</th>\n",
       "      <td>11.092514</td>\n",
       "    </tr>\n",
       "    <tr>\n",
       "      <th>2014-07-21</th>\n",
       "      <td>11.367802</td>\n",
       "    </tr>\n",
       "    <tr>\n",
       "      <th>2014-07-22</th>\n",
       "      <td>10.610384</td>\n",
       "    </tr>\n",
       "    <tr>\n",
       "      <th>2014-07-23</th>\n",
       "      <td>12.443352</td>\n",
       "    </tr>\n",
       "    <tr>\n",
       "      <th>2014-07-24</th>\n",
       "      <td>11.563970</td>\n",
       "    </tr>\n",
       "    <tr>\n",
       "      <th>2014-07-25</th>\n",
       "      <td>11.425697</td>\n",
       "    </tr>\n",
       "  </tbody>\n",
       "</table>\n",
       "</div>"
      ],
      "text/plain": [
       "               item_2\n",
       "2014-07-16  10.589852\n",
       "2014-07-17  11.249642\n",
       "2014-07-18  11.214945\n",
       "2014-07-19  11.392770\n",
       "2014-07-20  11.092514\n",
       "2014-07-21  11.367802\n",
       "2014-07-22  10.610384\n",
       "2014-07-23  12.443352\n",
       "2014-07-24  11.563970\n",
       "2014-07-25  11.425697"
      ]
     },
     "execution_count": 129,
     "metadata": {},
     "output_type": "execute_result"
    }
   ],
   "source": [
    "forecaster.predict(steps=10, levels=['item_2'])"
   ]
  }
 ],
 "metadata": {
  "kernelspec": {
   "display_name": "skforecast_py10",
   "language": "python",
   "name": "python3"
  },
  "language_info": {
   "codemirror_mode": {
    "name": "ipython",
    "version": 3
   },
   "file_extension": ".py",
   "mimetype": "text/x-python",
   "name": "python",
   "nbconvert_exporter": "python",
   "pygments_lexer": "ipython3",
   "version": "3.11.4"
  },
  "orig_nbformat": 4,
  "vscode": {
   "interpreter": {
    "hash": "c78d62c1713fdacd99ef7c429003c7324b36fbb551fb8b6860a7ea73e9338235"
   }
  }
 },
 "nbformat": 4,
 "nbformat_minor": 2
}
