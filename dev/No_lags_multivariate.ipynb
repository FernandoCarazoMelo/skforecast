{
 "cells": [
  {
   "cell_type": "code",
   "execution_count": 17,
   "metadata": {},
   "outputs": [
    {
     "data": {
      "text/plain": [
       "'c:\\\\Users\\\\jaesc2\\\\GitHub\\\\skforecast'"
      ]
     },
     "execution_count": 17,
     "metadata": {},
     "output_type": "execute_result"
    }
   ],
   "source": [
    "%load_ext autoreload\n",
    "%autoreload 2\n",
    "import sys\n",
    "from pathlib import Path\n",
    "sys.path.insert(1, str(Path.cwd().parent))\n",
    "str(Path.cwd().parent)"
   ]
  },
  {
   "cell_type": "code",
   "execution_count": 2,
   "metadata": {},
   "outputs": [],
   "source": [
    "# Libraries\n",
    "# ==============================================================================\n",
    "import numpy as np\n",
    "import pandas as pd\n",
    "import matplotlib.pyplot as plt\n",
    "from sklearn.preprocessing import StandardScaler\n",
    "from sklearn.linear_model import Ridge\n",
    "from sklearn.ensemble import RandomForestRegressor\n",
    "from sklearn.metrics import mean_absolute_error\n",
    "\n",
    "from skforecast.ForecasterAutoregMultiVariate import ForecasterAutoregMultiVariate\n",
    "from skforecast.model_selection_multiseries import backtesting_forecaster_multiseries\n",
    "from skforecast.model_selection_multiseries import grid_search_forecaster_multiseries\n",
    "from skforecast.model_selection_multiseries import random_search_forecaster_multiseries"
   ]
  },
  {
   "cell_type": "code",
   "execution_count": 3,
   "metadata": {},
   "outputs": [
    {
     "data": {
      "text/html": [
       "<div>\n",
       "<style scoped>\n",
       "    .dataframe tbody tr th:only-of-type {\n",
       "        vertical-align: middle;\n",
       "    }\n",
       "\n",
       "    .dataframe tbody tr th {\n",
       "        vertical-align: top;\n",
       "    }\n",
       "\n",
       "    .dataframe thead th {\n",
       "        text-align: right;\n",
       "    }\n",
       "</style>\n",
       "<table border=\"1\" class=\"dataframe\">\n",
       "  <thead>\n",
       "    <tr style=\"text-align: right;\">\n",
       "      <th></th>\n",
       "      <th>CO</th>\n",
       "      <th>SO2</th>\n",
       "      <th>PM2.5</th>\n",
       "    </tr>\n",
       "    <tr>\n",
       "      <th>date</th>\n",
       "      <th></th>\n",
       "      <th></th>\n",
       "      <th></th>\n",
       "    </tr>\n",
       "  </thead>\n",
       "  <tbody>\n",
       "    <tr>\n",
       "      <th>2013-03-01</th>\n",
       "      <td>9600.0</td>\n",
       "      <td>204.0</td>\n",
       "      <td>181.0</td>\n",
       "    </tr>\n",
       "    <tr>\n",
       "      <th>2013-03-02</th>\n",
       "      <td>20198.0</td>\n",
       "      <td>674.0</td>\n",
       "      <td>633.0</td>\n",
       "    </tr>\n",
       "    <tr>\n",
       "      <th>2013-03-03</th>\n",
       "      <td>47195.0</td>\n",
       "      <td>1661.0</td>\n",
       "      <td>1956.0</td>\n",
       "    </tr>\n",
       "    <tr>\n",
       "      <th>2013-03-04</th>\n",
       "      <td>15000.0</td>\n",
       "      <td>485.0</td>\n",
       "      <td>438.0</td>\n",
       "    </tr>\n",
       "    <tr>\n",
       "      <th>2013-03-05</th>\n",
       "      <td>59594.0</td>\n",
       "      <td>2001.0</td>\n",
       "      <td>3388.0</td>\n",
       "    </tr>\n",
       "  </tbody>\n",
       "</table>\n",
       "</div>"
      ],
      "text/plain": [
       "                 CO     SO2   PM2.5\n",
       "date                               \n",
       "2013-03-01   9600.0   204.0   181.0\n",
       "2013-03-02  20198.0   674.0   633.0\n",
       "2013-03-03  47195.0  1661.0  1956.0\n",
       "2013-03-04  15000.0   485.0   438.0\n",
       "2013-03-05  59594.0  2001.0  3388.0"
      ]
     },
     "execution_count": 3,
     "metadata": {},
     "output_type": "execute_result"
    }
   ],
   "source": [
    "# Data download\n",
    "# ==============================================================================\n",
    "url = (\n",
    "       'https://raw.githubusercontent.com/JoaquinAmatRodrigo/skforecast/master/'\n",
    "       'data/guangyuan_air_pollution.csv'\n",
    ")\n",
    "data = pd.read_csv(url, sep=',')\n",
    "\n",
    "# Data preparation\n",
    "# ==============================================================================\n",
    "data['date'] = pd.to_datetime(data['date'], format='%Y-%m-%d')\n",
    "data = data.set_index('date')\n",
    "data = data.asfreq('D')\n",
    "data = data.sort_index()\n",
    "data = data[['CO', 'SO2', 'PM2.5']]\n",
    "data.head()"
   ]
  },
  {
   "cell_type": "code",
   "execution_count": 4,
   "metadata": {},
   "outputs": [
    {
     "data": {
      "text/plain": [
       "============================= \n",
       "ForecasterAutoregMultiVariate \n",
       "============================= \n",
       "Regressor: Ridge(random_state=123) \n",
       "Lags: {'CO': array([1, 2]), 'SO2': array([1, 2]), 'PM2.5': None} \n",
       "Transformer for series: None \n",
       "Transformer for exog: None \n",
       "Weight function included: False \n",
       "Window size: 2 \n",
       "Target series, level: PM2.5 \n",
       "Multivariate series (names): ['CO', 'SO2', 'PM2.5'] \n",
       "Maximum steps predicted: 7 \n",
       "Exogenous included: False \n",
       "Type of exogenous variable: None \n",
       "Exogenous variables names: None \n",
       "Training range: [Timestamp('2013-03-01 00:00:00'), Timestamp('2017-02-28 00:00:00')] \n",
       "Training index type: DatetimeIndex \n",
       "Training index frequency: D \n",
       "Regressor parameters: {'alpha': 1.0, 'copy_X': True, 'fit_intercept': True, 'max_iter': None, 'positive': False, 'random_state': 123, 'solver': 'auto', 'tol': 0.0001} \n",
       "fit_kwargs: {} \n",
       "Creation date: 2024-02-25 18:41:19 \n",
       "Last fit date: 2024-02-25 18:41:19 \n",
       "Skforecast version: 0.12.0 \n",
       "Python version: 3.11.5 \n",
       "Forecaster id: None "
      ]
     },
     "execution_count": 4,
     "metadata": {},
     "output_type": "execute_result"
    }
   ],
   "source": [
    "# Create and fit forecaster MultiVariate\n",
    "# ==============================================================================\n",
    "forecaster = ForecasterAutoregMultiVariate(\n",
    "                 regressor          = Ridge(random_state=123),\n",
    "                 level              = 'PM2.5',\n",
    "                 lags               = {'CO': 2, 'SO2': 2, 'PM2.5': None},\n",
    "                 steps              = 7,\n",
    "                 transformer_series = None,\n",
    "                 transformer_exog   = None,\n",
    "                 weight_func        = None,\n",
    "                 n_jobs             = 'auto'\n",
    "             )\n",
    "\n",
    "forecaster.fit(series=data)\n",
    "forecaster"
   ]
  },
  {
   "cell_type": "code",
   "execution_count": 5,
   "metadata": {},
   "outputs": [
    {
     "data": {
      "text/html": [
       "<div>\n",
       "<style scoped>\n",
       "    .dataframe tbody tr th:only-of-type {\n",
       "        vertical-align: middle;\n",
       "    }\n",
       "\n",
       "    .dataframe tbody tr th {\n",
       "        vertical-align: top;\n",
       "    }\n",
       "\n",
       "    .dataframe thead th {\n",
       "        text-align: right;\n",
       "    }\n",
       "</style>\n",
       "<table border=\"1\" class=\"dataframe\">\n",
       "  <thead>\n",
       "    <tr style=\"text-align: right;\">\n",
       "      <th></th>\n",
       "      <th>CO</th>\n",
       "      <th>SO2</th>\n",
       "    </tr>\n",
       "    <tr>\n",
       "      <th>date</th>\n",
       "      <th></th>\n",
       "      <th></th>\n",
       "    </tr>\n",
       "  </thead>\n",
       "  <tbody>\n",
       "    <tr>\n",
       "      <th>2017-02-27</th>\n",
       "      <td>29700.0</td>\n",
       "      <td>451.0</td>\n",
       "    </tr>\n",
       "    <tr>\n",
       "      <th>2017-02-28</th>\n",
       "      <td>13200.0</td>\n",
       "      <td>162.0</td>\n",
       "    </tr>\n",
       "  </tbody>\n",
       "</table>\n",
       "</div>"
      ],
      "text/plain": [
       "                 CO    SO2\n",
       "date                      \n",
       "2017-02-27  29700.0  451.0\n",
       "2017-02-28  13200.0  162.0"
      ]
     },
     "execution_count": 5,
     "metadata": {},
     "output_type": "execute_result"
    }
   ],
   "source": [
    "forecaster.last_window"
   ]
  },
  {
   "cell_type": "code",
   "execution_count": 6,
   "metadata": {},
   "outputs": [
    {
     "data": {
      "text/html": [
       "<div>\n",
       "<style scoped>\n",
       "    .dataframe tbody tr th:only-of-type {\n",
       "        vertical-align: middle;\n",
       "    }\n",
       "\n",
       "    .dataframe tbody tr th {\n",
       "        vertical-align: top;\n",
       "    }\n",
       "\n",
       "    .dataframe thead th {\n",
       "        text-align: right;\n",
       "    }\n",
       "</style>\n",
       "<table border=\"1\" class=\"dataframe\">\n",
       "  <thead>\n",
       "    <tr style=\"text-align: right;\">\n",
       "      <th></th>\n",
       "      <th>PM2.5</th>\n",
       "    </tr>\n",
       "  </thead>\n",
       "  <tbody>\n",
       "    <tr>\n",
       "      <th>2017-03-01</th>\n",
       "      <td>1269.395659</td>\n",
       "    </tr>\n",
       "    <tr>\n",
       "      <th>2017-03-02</th>\n",
       "      <td>1658.617492</td>\n",
       "    </tr>\n",
       "    <tr>\n",
       "      <th>2017-03-03</th>\n",
       "      <td>1865.249156</td>\n",
       "    </tr>\n",
       "    <tr>\n",
       "      <th>2017-03-04</th>\n",
       "      <td>1945.549921</td>\n",
       "    </tr>\n",
       "    <tr>\n",
       "      <th>2017-03-05</th>\n",
       "      <td>1920.196962</td>\n",
       "    </tr>\n",
       "  </tbody>\n",
       "</table>\n",
       "</div>"
      ],
      "text/plain": [
       "                  PM2.5\n",
       "2017-03-01  1269.395659\n",
       "2017-03-02  1658.617492\n",
       "2017-03-03  1865.249156\n",
       "2017-03-04  1945.549921\n",
       "2017-03-05  1920.196962"
      ]
     },
     "execution_count": 6,
     "metadata": {},
     "output_type": "execute_result"
    }
   ],
   "source": [
    "forecaster.predict(steps=7).head()"
   ]
  },
  {
   "cell_type": "code",
   "execution_count": 7,
   "metadata": {},
   "outputs": [
    {
     "ename": "ValueError",
     "evalue": "`last_window` columns must be the same as the `series` column names used to create the X_train matrix.\n    `last_window` columns : ['CO', 'SO2', 'PM2.5'].\n    `series` columns      : ['CO', 'SO2'].",
     "output_type": "error",
     "traceback": [
      "\u001b[1;31m---------------------------------------------------------------------------\u001b[0m",
      "\u001b[1;31mValueError\u001b[0m                                Traceback (most recent call last)",
      "Cell \u001b[1;32mIn[7], line 3\u001b[0m\n\u001b[0;32m      1\u001b[0m lw \u001b[38;5;241m=\u001b[39m data\u001b[38;5;241m.\u001b[39miloc[\u001b[38;5;241m-\u001b[39m\u001b[38;5;241m2\u001b[39m:]\n\u001b[1;32m----> 3\u001b[0m \u001b[43mforecaster\u001b[49m\u001b[38;5;241;43m.\u001b[39;49m\u001b[43mpredict\u001b[49m\u001b[43m(\u001b[49m\u001b[43msteps\u001b[49m\u001b[38;5;241;43m=\u001b[39;49m\u001b[38;5;241;43m7\u001b[39;49m\u001b[43m,\u001b[49m\u001b[43m \u001b[49m\u001b[43mlast_window\u001b[49m\u001b[38;5;241;43m=\u001b[39;49m\u001b[43mlw\u001b[49m\u001b[43m)\u001b[49m\u001b[38;5;241m.\u001b[39mhead()\n",
      "File \u001b[1;32mc:\\Users\\jaesc2\\GitHub\\skforecast\\skforecast\\ForecasterAutoregMultiVariate\\ForecasterAutoregMultiVariate.py:968\u001b[0m, in \u001b[0;36mForecasterAutoregMultiVariate.predict\u001b[1;34m(self, steps, last_window, exog, levels)\u001b[0m\n\u001b[0;32m    965\u001b[0m \u001b[38;5;28;01mif\u001b[39;00m last_window \u001b[38;5;129;01mis\u001b[39;00m \u001b[38;5;28;01mNone\u001b[39;00m:\n\u001b[0;32m    966\u001b[0m     last_window \u001b[38;5;241m=\u001b[39m \u001b[38;5;28mself\u001b[39m\u001b[38;5;241m.\u001b[39mlast_window\n\u001b[1;32m--> 968\u001b[0m \u001b[43mcheck_predict_input\u001b[49m\u001b[43m(\u001b[49m\n\u001b[0;32m    969\u001b[0m \u001b[43m    \u001b[49m\u001b[43mforecaster_name\u001b[49m\u001b[43m  \u001b[49m\u001b[38;5;241;43m=\u001b[39;49m\u001b[43m \u001b[49m\u001b[38;5;28;43mtype\u001b[39;49m\u001b[43m(\u001b[49m\u001b[38;5;28;43mself\u001b[39;49m\u001b[43m)\u001b[49m\u001b[38;5;241;43m.\u001b[39;49m\u001b[38;5;18;43m__name__\u001b[39;49m\u001b[43m,\u001b[49m\n\u001b[0;32m    970\u001b[0m \u001b[43m    \u001b[49m\u001b[43msteps\u001b[49m\u001b[43m            \u001b[49m\u001b[38;5;241;43m=\u001b[39;49m\u001b[43m \u001b[49m\u001b[43msteps\u001b[49m\u001b[43m,\u001b[49m\n\u001b[0;32m    971\u001b[0m \u001b[43m    \u001b[49m\u001b[43mfitted\u001b[49m\u001b[43m           \u001b[49m\u001b[38;5;241;43m=\u001b[39;49m\u001b[43m \u001b[49m\u001b[38;5;28;43mself\u001b[39;49m\u001b[38;5;241;43m.\u001b[39;49m\u001b[43mfitted\u001b[49m\u001b[43m,\u001b[49m\n\u001b[0;32m    972\u001b[0m \u001b[43m    \u001b[49m\u001b[43mincluded_exog\u001b[49m\u001b[43m    \u001b[49m\u001b[38;5;241;43m=\u001b[39;49m\u001b[43m \u001b[49m\u001b[38;5;28;43mself\u001b[39;49m\u001b[38;5;241;43m.\u001b[39;49m\u001b[43mincluded_exog\u001b[49m\u001b[43m,\u001b[49m\n\u001b[0;32m    973\u001b[0m \u001b[43m    \u001b[49m\u001b[43mindex_type\u001b[49m\u001b[43m       \u001b[49m\u001b[38;5;241;43m=\u001b[39;49m\u001b[43m \u001b[49m\u001b[38;5;28;43mself\u001b[39;49m\u001b[38;5;241;43m.\u001b[39;49m\u001b[43mindex_type\u001b[49m\u001b[43m,\u001b[49m\n\u001b[0;32m    974\u001b[0m \u001b[43m    \u001b[49m\u001b[43mindex_freq\u001b[49m\u001b[43m       \u001b[49m\u001b[38;5;241;43m=\u001b[39;49m\u001b[43m \u001b[49m\u001b[38;5;28;43mself\u001b[39;49m\u001b[38;5;241;43m.\u001b[39;49m\u001b[43mindex_freq\u001b[49m\u001b[43m,\u001b[49m\n\u001b[0;32m    975\u001b[0m \u001b[43m    \u001b[49m\u001b[43mwindow_size\u001b[49m\u001b[43m      \u001b[49m\u001b[38;5;241;43m=\u001b[39;49m\u001b[43m \u001b[49m\u001b[38;5;28;43mself\u001b[39;49m\u001b[38;5;241;43m.\u001b[39;49m\u001b[43mwindow_size\u001b[49m\u001b[43m,\u001b[49m\n\u001b[0;32m    976\u001b[0m \u001b[43m    \u001b[49m\u001b[43mlast_window\u001b[49m\u001b[43m      \u001b[49m\u001b[38;5;241;43m=\u001b[39;49m\u001b[43m \u001b[49m\u001b[43mlast_window\u001b[49m\u001b[43m,\u001b[49m\n\u001b[0;32m    977\u001b[0m \u001b[43m    \u001b[49m\u001b[43mlast_window_exog\u001b[49m\u001b[43m \u001b[49m\u001b[38;5;241;43m=\u001b[39;49m\u001b[43m \u001b[49m\u001b[38;5;28;43;01mNone\u001b[39;49;00m\u001b[43m,\u001b[49m\n\u001b[0;32m    978\u001b[0m \u001b[43m    \u001b[49m\u001b[43mexog\u001b[49m\u001b[43m             \u001b[49m\u001b[38;5;241;43m=\u001b[39;49m\u001b[43m \u001b[49m\u001b[43mexog\u001b[49m\u001b[43m,\u001b[49m\n\u001b[0;32m    979\u001b[0m \u001b[43m    \u001b[49m\u001b[43mexog_type\u001b[49m\u001b[43m        \u001b[49m\u001b[38;5;241;43m=\u001b[39;49m\u001b[43m \u001b[49m\u001b[38;5;28;43mself\u001b[39;49m\u001b[38;5;241;43m.\u001b[39;49m\u001b[43mexog_type\u001b[49m\u001b[43m,\u001b[49m\n\u001b[0;32m    980\u001b[0m \u001b[43m    \u001b[49m\u001b[43mexog_col_names\u001b[49m\u001b[43m   \u001b[49m\u001b[38;5;241;43m=\u001b[39;49m\u001b[43m \u001b[49m\u001b[38;5;28;43mself\u001b[39;49m\u001b[38;5;241;43m.\u001b[39;49m\u001b[43mexog_col_names\u001b[49m\u001b[43m,\u001b[49m\n\u001b[0;32m    981\u001b[0m \u001b[43m    \u001b[49m\u001b[43minterval\u001b[49m\u001b[43m         \u001b[49m\u001b[38;5;241;43m=\u001b[39;49m\u001b[43m \u001b[49m\u001b[38;5;28;43;01mNone\u001b[39;49;00m\u001b[43m,\u001b[49m\n\u001b[0;32m    982\u001b[0m \u001b[43m    \u001b[49m\u001b[43malpha\u001b[49m\u001b[43m            \u001b[49m\u001b[38;5;241;43m=\u001b[39;49m\u001b[43m \u001b[49m\u001b[38;5;28;43;01mNone\u001b[39;49;00m\u001b[43m,\u001b[49m\n\u001b[0;32m    983\u001b[0m \u001b[43m    \u001b[49m\u001b[43mmax_steps\u001b[49m\u001b[43m        \u001b[49m\u001b[38;5;241;43m=\u001b[39;49m\u001b[43m \u001b[49m\u001b[38;5;28;43mself\u001b[39;49m\u001b[38;5;241;43m.\u001b[39;49m\u001b[43msteps\u001b[49m\u001b[43m,\u001b[49m\n\u001b[0;32m    984\u001b[0m \u001b[43m    \u001b[49m\u001b[43mlevels\u001b[49m\u001b[43m           \u001b[49m\u001b[38;5;241;43m=\u001b[39;49m\u001b[43m \u001b[49m\u001b[38;5;28;43;01mNone\u001b[39;49;00m\u001b[43m,\u001b[49m\n\u001b[0;32m    985\u001b[0m \u001b[43m    \u001b[49m\u001b[43mseries_col_names\u001b[49m\u001b[43m \u001b[49m\u001b[38;5;241;43m=\u001b[39;49m\u001b[43m \u001b[49m\u001b[38;5;28;43mself\u001b[39;49m\u001b[38;5;241;43m.\u001b[39;49m\u001b[43mseries_X_train\u001b[49m\n\u001b[0;32m    986\u001b[0m \u001b[43m\u001b[49m\u001b[43m)\u001b[49m\n\u001b[0;32m    988\u001b[0m last_window \u001b[38;5;241m=\u001b[39m last_window\u001b[38;5;241m.\u001b[39miloc[\u001b[38;5;241m-\u001b[39m\u001b[38;5;28mself\u001b[39m\u001b[38;5;241m.\u001b[39mwindow_size:, ]\u001b[38;5;241m.\u001b[39mcopy()\n\u001b[0;32m    990\u001b[0m \u001b[38;5;28;01mif\u001b[39;00m exog \u001b[38;5;129;01mis\u001b[39;00m \u001b[38;5;129;01mnot\u001b[39;00m \u001b[38;5;28;01mNone\u001b[39;00m:\n",
      "File \u001b[1;32mc:\\Users\\jaesc2\\GitHub\\skforecast\\skforecast\\utils\\utils.py:686\u001b[0m, in \u001b[0;36mcheck_predict_input\u001b[1;34m(forecaster_name, steps, fitted, included_exog, index_type, index_freq, window_size, last_window, last_window_exog, exog, exog_type, exog_col_names, interval, alpha, max_steps, levels, levels_forecaster, series_col_names)\u001b[0m\n\u001b[0;32m    677\u001b[0m         \u001b[38;5;28;01mraise\u001b[39;00m \u001b[38;5;167;01mValueError\u001b[39;00m(\n\u001b[0;32m    678\u001b[0m             (\u001b[38;5;124mf\u001b[39m\u001b[38;5;124m\"\u001b[39m\u001b[38;5;124m`last_window` must contain a column(s) named as the level(s) \u001b[39m\u001b[38;5;124m\"\u001b[39m\n\u001b[0;32m    679\u001b[0m              \u001b[38;5;124mf\u001b[39m\u001b[38;5;124m\"\u001b[39m\u001b[38;5;124mto be predicted.\u001b[39m\u001b[38;5;130;01m\\n\u001b[39;00m\u001b[38;5;124m\"\u001b[39m\n\u001b[0;32m    680\u001b[0m              \u001b[38;5;124mf\u001b[39m\u001b[38;5;124m\"\u001b[39m\u001b[38;5;124m    `levels` : \u001b[39m\u001b[38;5;132;01m{\u001b[39;00mlevels\u001b[38;5;132;01m}\u001b[39;00m\u001b[38;5;124m.\u001b[39m\u001b[38;5;130;01m\\n\u001b[39;00m\u001b[38;5;124m\"\u001b[39m\n\u001b[0;32m    681\u001b[0m              \u001b[38;5;124mf\u001b[39m\u001b[38;5;124m\"\u001b[39m\u001b[38;5;124m    `last_window` columns : \u001b[39m\u001b[38;5;132;01m{\u001b[39;00m\u001b[38;5;28mlist\u001b[39m(last_window\u001b[38;5;241m.\u001b[39mcolumns)\u001b[38;5;132;01m}\u001b[39;00m\u001b[38;5;124m.\u001b[39m\u001b[38;5;124m\"\u001b[39m)\n\u001b[0;32m    682\u001b[0m         )\n\u001b[0;32m    684\u001b[0m     \u001b[38;5;28;01mif\u001b[39;00m forecaster_name \u001b[38;5;241m==\u001b[39m \u001b[38;5;124m'\u001b[39m\u001b[38;5;124mForecasterAutoregMultiVariate\u001b[39m\u001b[38;5;124m'\u001b[39m \u001b[38;5;129;01mand\u001b[39;00m \\\n\u001b[0;32m    685\u001b[0m         (series_col_names \u001b[38;5;241m!=\u001b[39m \u001b[38;5;28mlist\u001b[39m(last_window\u001b[38;5;241m.\u001b[39mcolumns)):\n\u001b[1;32m--> 686\u001b[0m         \u001b[38;5;28;01mraise\u001b[39;00m \u001b[38;5;167;01mValueError\u001b[39;00m(\n\u001b[0;32m    687\u001b[0m             (\u001b[38;5;124mf\u001b[39m\u001b[38;5;124m\"\u001b[39m\u001b[38;5;124m`last_window` columns must be the same as the `series` column \u001b[39m\u001b[38;5;124m\"\u001b[39m\n\u001b[0;32m    688\u001b[0m              \u001b[38;5;124mf\u001b[39m\u001b[38;5;124m\"\u001b[39m\u001b[38;5;124mnames used to create the X_train matrix.\u001b[39m\u001b[38;5;130;01m\\n\u001b[39;00m\u001b[38;5;124m\"\u001b[39m\n\u001b[0;32m    689\u001b[0m              \u001b[38;5;124mf\u001b[39m\u001b[38;5;124m\"\u001b[39m\u001b[38;5;124m    `last_window` columns : \u001b[39m\u001b[38;5;132;01m{\u001b[39;00m\u001b[38;5;28mlist\u001b[39m(last_window\u001b[38;5;241m.\u001b[39mcolumns)\u001b[38;5;132;01m}\u001b[39;00m\u001b[38;5;124m.\u001b[39m\u001b[38;5;130;01m\\n\u001b[39;00m\u001b[38;5;124m\"\u001b[39m\n\u001b[0;32m    690\u001b[0m              \u001b[38;5;124mf\u001b[39m\u001b[38;5;124m\"\u001b[39m\u001b[38;5;124m    `series` columns      : \u001b[39m\u001b[38;5;132;01m{\u001b[39;00mseries_col_names\u001b[38;5;132;01m}\u001b[39;00m\u001b[38;5;124m.\u001b[39m\u001b[38;5;124m\"\u001b[39m)\n\u001b[0;32m    691\u001b[0m         )\n\u001b[0;32m    692\u001b[0m \u001b[38;5;28;01melse\u001b[39;00m:    \n\u001b[0;32m    693\u001b[0m     \u001b[38;5;28;01mif\u001b[39;00m \u001b[38;5;129;01mnot\u001b[39;00m \u001b[38;5;28misinstance\u001b[39m(last_window, pd\u001b[38;5;241m.\u001b[39mSeries):\n",
      "\u001b[1;31mValueError\u001b[0m: `last_window` columns must be the same as the `series` column names used to create the X_train matrix.\n    `last_window` columns : ['CO', 'SO2', 'PM2.5'].\n    `series` columns      : ['CO', 'SO2']."
     ]
    }
   ],
   "source": [
    "lw = data.iloc[-2:]\n",
    "\n",
    "forecaster.predict(steps=7, last_window=lw).head()"
   ]
  },
  {
   "cell_type": "code",
   "execution_count": null,
   "metadata": {},
   "outputs": [
    {
     "data": {
      "text/plain": [
       "{'l1': None, 'l2': array([1, 2, 3, 4, 5])}"
      ]
     },
     "execution_count": 17,
     "metadata": {},
     "output_type": "execute_result"
    }
   ],
   "source": [
    "forecaster.lags_"
   ]
  },
  {
   "cell_type": "code",
   "execution_count": null,
   "metadata": {},
   "outputs": [
    {
     "data": {
      "text/plain": [
       "{'l1': None, 'l2': array([1, 2, 3, 4, 5])}"
      ]
     },
     "execution_count": 18,
     "metadata": {},
     "output_type": "execute_result"
    }
   ],
   "source": [
    "forecaster.lags"
   ]
  },
  {
   "cell_type": "code",
   "execution_count": null,
   "metadata": {},
   "outputs": [
    {
     "data": {
      "text/plain": [
       "array([1., 1., 1., 1., 1., 0., 0., 0., 0., 0.])"
      ]
     },
     "execution_count": 32,
     "metadata": {},
     "output_type": "execute_result"
    }
   ],
   "source": [
    "np.hstack([np.ones(5), np.zeros(5)])"
   ]
  },
  {
   "cell_type": "code",
   "execution_count": null,
   "metadata": {},
   "outputs": [],
   "source": [
    "series_col_names = ['l1', 'l2']\n",
    "level = 'l2'\n",
    "other_dict = {'l1': 3, 'l2': None}"
   ]
  },
  {
   "cell_type": "code",
   "execution_count": null,
   "metadata": {},
   "outputs": [
    {
     "data": {
      "text/plain": [
       "{'l1': 'X', 'l2': 'y'}"
      ]
     },
     "execution_count": 73,
     "metadata": {},
     "output_type": "execute_result"
    }
   ],
   "source": [
    "cols_to_matrix = {\n",
    "    col: ('both' if col == level else 'X')\n",
    "    for col in series_col_names\n",
    "    if col == level or other_dict.get(col) is not None\n",
    "}\n",
    "\n",
    "# Ajustamos el valor de 'level' en caso de que su valor en other_dict sea None\n",
    "if other_dict.get(level) is None:\n",
    "    cols_to_matrix[level] = 'y'\n",
    "\n",
    "cols_to_matrix"
   ]
  },
  {
   "cell_type": "code",
   "execution_count": null,
   "metadata": {},
   "outputs": [
    {
     "data": {
      "text/plain": [
       "{'l1': 'y', 'l2': 'X'}"
      ]
     },
     "execution_count": 42,
     "metadata": {},
     "output_type": "execute_result"
    }
   ],
   "source": [
    "result_dict = {\n",
    "    col: 'X' if col != level else ('both' if other_dict.get(level) is not None else 'y')\n",
    "    for col in series_col_names\n",
    "}\n",
    "result_dict"
   ]
  },
  {
   "cell_type": "code",
   "execution_count": null,
   "metadata": {},
   "outputs": [],
   "source": [
    "other_dict.get(level)"
   ]
  },
  {
   "cell_type": "code",
   "execution_count": null,
   "metadata": {},
   "outputs": [],
   "source": [
    "X_train_col_names_list = []"
   ]
  },
  {
   "cell_type": "code",
   "execution_count": null,
   "metadata": {},
   "outputs": [
    {
     "data": {
      "text/plain": [
       "[1, 2, 3]"
      ]
     },
     "execution_count": 45,
     "metadata": {},
     "output_type": "execute_result"
    }
   ],
   "source": [
    "X_train_col_names_list.extend([1, 2, 3])\n",
    "X_train_col_names_list"
   ]
  },
  {
   "cell_type": "code",
   "execution_count": null,
   "metadata": {},
   "outputs": [
    {
     "data": {
      "text/plain": [
       "[1, 2, 3, 4, 5, 6]"
      ]
     },
     "execution_count": 46,
     "metadata": {},
     "output_type": "execute_result"
    }
   ],
   "source": [
    "X_train_col_names_list.extend([4, 5, 6])\n",
    "X_train_col_names_list"
   ]
  },
  {
   "cell_type": "code",
   "execution_count": null,
   "metadata": {},
   "outputs": [],
   "source": [
    "series = pd.DataFrame({'l1': pd.Series(np.arange(10)), \n",
    "                           'l2': pd.Series(np.arange(100, 110))})\n",
    "exog = None\n",
    "\n",
    "forecaster = ForecasterAutoregMultiVariate(Ridge(), level='l2',\n",
    "                                            lags={'l1': 3, 'l2': None}, \n",
    "                                            steps=2, transformer_series=None)\n",
    "results = forecaster.create_train_X_y(series=series, exog=exog)"
   ]
  },
  {
   "cell_type": "code",
   "execution_count": null,
   "metadata": {},
   "outputs": [
    {
     "data": {
      "text/html": [
       "<div>\n",
       "<style scoped>\n",
       "    .dataframe tbody tr th:only-of-type {\n",
       "        vertical-align: middle;\n",
       "    }\n",
       "\n",
       "    .dataframe tbody tr th {\n",
       "        vertical-align: top;\n",
       "    }\n",
       "\n",
       "    .dataframe thead th {\n",
       "        text-align: right;\n",
       "    }\n",
       "</style>\n",
       "<table border=\"1\" class=\"dataframe\">\n",
       "  <thead>\n",
       "    <tr style=\"text-align: right;\">\n",
       "      <th></th>\n",
       "      <th>l1_lag_1</th>\n",
       "      <th>l1_lag_2</th>\n",
       "      <th>l1_lag_3</th>\n",
       "    </tr>\n",
       "  </thead>\n",
       "  <tbody>\n",
       "    <tr>\n",
       "      <th>4</th>\n",
       "      <td>2.0</td>\n",
       "      <td>1.0</td>\n",
       "      <td>0.0</td>\n",
       "    </tr>\n",
       "    <tr>\n",
       "      <th>5</th>\n",
       "      <td>3.0</td>\n",
       "      <td>2.0</td>\n",
       "      <td>1.0</td>\n",
       "    </tr>\n",
       "    <tr>\n",
       "      <th>6</th>\n",
       "      <td>4.0</td>\n",
       "      <td>3.0</td>\n",
       "      <td>2.0</td>\n",
       "    </tr>\n",
       "    <tr>\n",
       "      <th>7</th>\n",
       "      <td>5.0</td>\n",
       "      <td>4.0</td>\n",
       "      <td>3.0</td>\n",
       "    </tr>\n",
       "    <tr>\n",
       "      <th>8</th>\n",
       "      <td>6.0</td>\n",
       "      <td>5.0</td>\n",
       "      <td>4.0</td>\n",
       "    </tr>\n",
       "    <tr>\n",
       "      <th>9</th>\n",
       "      <td>7.0</td>\n",
       "      <td>6.0</td>\n",
       "      <td>5.0</td>\n",
       "    </tr>\n",
       "  </tbody>\n",
       "</table>\n",
       "</div>"
      ],
      "text/plain": [
       "   l1_lag_1  l1_lag_2  l1_lag_3\n",
       "4       2.0       1.0       0.0\n",
       "5       3.0       2.0       1.0\n",
       "6       4.0       3.0       2.0\n",
       "7       5.0       4.0       3.0\n",
       "8       6.0       5.0       4.0\n",
       "9       7.0       6.0       5.0"
      ]
     },
     "execution_count": 75,
     "metadata": {},
     "output_type": "execute_result"
    }
   ],
   "source": [
    "results[0]"
   ]
  },
  {
   "cell_type": "code",
   "execution_count": null,
   "metadata": {},
   "outputs": [
    {
     "data": {
      "text/plain": [
       "{1: 3    103.0\n",
       " 4    104.0\n",
       " 5    105.0\n",
       " 6    106.0\n",
       " 7    107.0\n",
       " 8    108.0\n",
       " Name: l2_step_1, dtype: float64,\n",
       " 2: 4    104.0\n",
       " 5    105.0\n",
       " 6    106.0\n",
       " 7    107.0\n",
       " 8    108.0\n",
       " 9    109.0\n",
       " Name: l2_step_2, dtype: float64}"
      ]
     },
     "execution_count": 76,
     "metadata": {},
     "output_type": "execute_result"
    }
   ],
   "source": [
    "results[1]"
   ]
  },
  {
   "cell_type": "code",
   "execution_count": null,
   "metadata": {},
   "outputs": [
    {
     "data": {
      "text/html": [
       "<style>#sk-container-id-1 {color: black;}#sk-container-id-1 pre{padding: 0;}#sk-container-id-1 div.sk-toggleable {background-color: white;}#sk-container-id-1 label.sk-toggleable__label {cursor: pointer;display: block;width: 100%;margin-bottom: 0;padding: 0.3em;box-sizing: border-box;text-align: center;}#sk-container-id-1 label.sk-toggleable__label-arrow:before {content: \"▸\";float: left;margin-right: 0.25em;color: #696969;}#sk-container-id-1 label.sk-toggleable__label-arrow:hover:before {color: black;}#sk-container-id-1 div.sk-estimator:hover label.sk-toggleable__label-arrow:before {color: black;}#sk-container-id-1 div.sk-toggleable__content {max-height: 0;max-width: 0;overflow: hidden;text-align: left;background-color: #f0f8ff;}#sk-container-id-1 div.sk-toggleable__content pre {margin: 0.2em;color: black;border-radius: 0.25em;background-color: #f0f8ff;}#sk-container-id-1 input.sk-toggleable__control:checked~div.sk-toggleable__content {max-height: 200px;max-width: 100%;overflow: auto;}#sk-container-id-1 input.sk-toggleable__control:checked~label.sk-toggleable__label-arrow:before {content: \"▾\";}#sk-container-id-1 div.sk-estimator input.sk-toggleable__control:checked~label.sk-toggleable__label {background-color: #d4ebff;}#sk-container-id-1 div.sk-label input.sk-toggleable__control:checked~label.sk-toggleable__label {background-color: #d4ebff;}#sk-container-id-1 input.sk-hidden--visually {border: 0;clip: rect(1px 1px 1px 1px);clip: rect(1px, 1px, 1px, 1px);height: 1px;margin: -1px;overflow: hidden;padding: 0;position: absolute;width: 1px;}#sk-container-id-1 div.sk-estimator {font-family: monospace;background-color: #f0f8ff;border: 1px dotted black;border-radius: 0.25em;box-sizing: border-box;margin-bottom: 0.5em;}#sk-container-id-1 div.sk-estimator:hover {background-color: #d4ebff;}#sk-container-id-1 div.sk-parallel-item::after {content: \"\";width: 100%;border-bottom: 1px solid gray;flex-grow: 1;}#sk-container-id-1 div.sk-label:hover label.sk-toggleable__label {background-color: #d4ebff;}#sk-container-id-1 div.sk-serial::before {content: \"\";position: absolute;border-left: 1px solid gray;box-sizing: border-box;top: 0;bottom: 0;left: 50%;z-index: 0;}#sk-container-id-1 div.sk-serial {display: flex;flex-direction: column;align-items: center;background-color: white;padding-right: 0.2em;padding-left: 0.2em;position: relative;}#sk-container-id-1 div.sk-item {position: relative;z-index: 1;}#sk-container-id-1 div.sk-parallel {display: flex;align-items: stretch;justify-content: center;background-color: white;position: relative;}#sk-container-id-1 div.sk-item::before, #sk-container-id-1 div.sk-parallel-item::before {content: \"\";position: absolute;border-left: 1px solid gray;box-sizing: border-box;top: 0;bottom: 0;left: 50%;z-index: -1;}#sk-container-id-1 div.sk-parallel-item {display: flex;flex-direction: column;z-index: 1;position: relative;background-color: white;}#sk-container-id-1 div.sk-parallel-item:first-child::after {align-self: flex-end;width: 50%;}#sk-container-id-1 div.sk-parallel-item:last-child::after {align-self: flex-start;width: 50%;}#sk-container-id-1 div.sk-parallel-item:only-child::after {width: 0;}#sk-container-id-1 div.sk-dashed-wrapped {border: 1px dashed gray;margin: 0 0.4em 0.5em 0.4em;box-sizing: border-box;padding-bottom: 0.4em;background-color: white;}#sk-container-id-1 div.sk-label label {font-family: monospace;font-weight: bold;display: inline-block;line-height: 1.2em;}#sk-container-id-1 div.sk-label-container {text-align: center;}#sk-container-id-1 div.sk-container {/* jupyter's `normalize.less` sets `[hidden] { display: none; }` but bootstrap.min.css set `[hidden] { display: none !important; }` so we also need the `!important` here to be able to override the default hidden behavior on the sphinx rendered scikit-learn.org. See: https://github.com/scikit-learn/scikit-learn/issues/21755 */display: inline-block !important;position: relative;}#sk-container-id-1 div.sk-text-repr-fallback {display: none;}</style><div id=\"sk-container-id-1\" class=\"sk-top-container\"><div class=\"sk-text-repr-fallback\"><pre>StandardScaler()</pre><b>In a Jupyter environment, please rerun this cell to show the HTML representation or trust the notebook. <br />On GitHub, the HTML representation is unable to render, please try loading this page with nbviewer.org.</b></div><div class=\"sk-container\" hidden><div class=\"sk-item\"><div class=\"sk-estimator sk-toggleable\"><input class=\"sk-toggleable__control sk-hidden--visually\" id=\"sk-estimator-id-1\" type=\"checkbox\" checked><label for=\"sk-estimator-id-1\" class=\"sk-toggleable__label sk-toggleable__label-arrow\">StandardScaler</label><div class=\"sk-toggleable__content\"><pre>StandardScaler()</pre></div></div></div></div></div>"
      ],
      "text/plain": [
       "StandardScaler()"
      ]
     },
     "execution_count": 57,
     "metadata": {},
     "output_type": "execute_result"
    }
   ],
   "source": [
    "forecaster.transformer_series"
   ]
  },
  {
   "cell_type": "code",
   "execution_count": null,
   "metadata": {},
   "outputs": [
    {
     "data": {
      "text/plain": [
       "{'l1': StandardScaler(), 'l2': StandardScaler()}"
      ]
     },
     "execution_count": 58,
     "metadata": {},
     "output_type": "execute_result"
    }
   ],
   "source": [
    "forecaster.transformer_series_"
   ]
  },
  {
   "cell_type": "code",
   "execution_count": null,
   "metadata": {},
   "outputs": [
    {
     "data": {
      "text/html": [
       "<style>#sk-container-id-2 {color: black;}#sk-container-id-2 pre{padding: 0;}#sk-container-id-2 div.sk-toggleable {background-color: white;}#sk-container-id-2 label.sk-toggleable__label {cursor: pointer;display: block;width: 100%;margin-bottom: 0;padding: 0.3em;box-sizing: border-box;text-align: center;}#sk-container-id-2 label.sk-toggleable__label-arrow:before {content: \"▸\";float: left;margin-right: 0.25em;color: #696969;}#sk-container-id-2 label.sk-toggleable__label-arrow:hover:before {color: black;}#sk-container-id-2 div.sk-estimator:hover label.sk-toggleable__label-arrow:before {color: black;}#sk-container-id-2 div.sk-toggleable__content {max-height: 0;max-width: 0;overflow: hidden;text-align: left;background-color: #f0f8ff;}#sk-container-id-2 div.sk-toggleable__content pre {margin: 0.2em;color: black;border-radius: 0.25em;background-color: #f0f8ff;}#sk-container-id-2 input.sk-toggleable__control:checked~div.sk-toggleable__content {max-height: 200px;max-width: 100%;overflow: auto;}#sk-container-id-2 input.sk-toggleable__control:checked~label.sk-toggleable__label-arrow:before {content: \"▾\";}#sk-container-id-2 div.sk-estimator input.sk-toggleable__control:checked~label.sk-toggleable__label {background-color: #d4ebff;}#sk-container-id-2 div.sk-label input.sk-toggleable__control:checked~label.sk-toggleable__label {background-color: #d4ebff;}#sk-container-id-2 input.sk-hidden--visually {border: 0;clip: rect(1px 1px 1px 1px);clip: rect(1px, 1px, 1px, 1px);height: 1px;margin: -1px;overflow: hidden;padding: 0;position: absolute;width: 1px;}#sk-container-id-2 div.sk-estimator {font-family: monospace;background-color: #f0f8ff;border: 1px dotted black;border-radius: 0.25em;box-sizing: border-box;margin-bottom: 0.5em;}#sk-container-id-2 div.sk-estimator:hover {background-color: #d4ebff;}#sk-container-id-2 div.sk-parallel-item::after {content: \"\";width: 100%;border-bottom: 1px solid gray;flex-grow: 1;}#sk-container-id-2 div.sk-label:hover label.sk-toggleable__label {background-color: #d4ebff;}#sk-container-id-2 div.sk-serial::before {content: \"\";position: absolute;border-left: 1px solid gray;box-sizing: border-box;top: 0;bottom: 0;left: 50%;z-index: 0;}#sk-container-id-2 div.sk-serial {display: flex;flex-direction: column;align-items: center;background-color: white;padding-right: 0.2em;padding-left: 0.2em;position: relative;}#sk-container-id-2 div.sk-item {position: relative;z-index: 1;}#sk-container-id-2 div.sk-parallel {display: flex;align-items: stretch;justify-content: center;background-color: white;position: relative;}#sk-container-id-2 div.sk-item::before, #sk-container-id-2 div.sk-parallel-item::before {content: \"\";position: absolute;border-left: 1px solid gray;box-sizing: border-box;top: 0;bottom: 0;left: 50%;z-index: -1;}#sk-container-id-2 div.sk-parallel-item {display: flex;flex-direction: column;z-index: 1;position: relative;background-color: white;}#sk-container-id-2 div.sk-parallel-item:first-child::after {align-self: flex-end;width: 50%;}#sk-container-id-2 div.sk-parallel-item:last-child::after {align-self: flex-start;width: 50%;}#sk-container-id-2 div.sk-parallel-item:only-child::after {width: 0;}#sk-container-id-2 div.sk-dashed-wrapped {border: 1px dashed gray;margin: 0 0.4em 0.5em 0.4em;box-sizing: border-box;padding-bottom: 0.4em;background-color: white;}#sk-container-id-2 div.sk-label label {font-family: monospace;font-weight: bold;display: inline-block;line-height: 1.2em;}#sk-container-id-2 div.sk-label-container {text-align: center;}#sk-container-id-2 div.sk-container {/* jupyter's `normalize.less` sets `[hidden] { display: none; }` but bootstrap.min.css set `[hidden] { display: none !important; }` so we also need the `!important` here to be able to override the default hidden behavior on the sphinx rendered scikit-learn.org. See: https://github.com/scikit-learn/scikit-learn/issues/21755 */display: inline-block !important;position: relative;}#sk-container-id-2 div.sk-text-repr-fallback {display: none;}</style><div id=\"sk-container-id-2\" class=\"sk-top-container\"><div class=\"sk-text-repr-fallback\"><pre>Ridge()</pre><b>In a Jupyter environment, please rerun this cell to show the HTML representation or trust the notebook. <br />On GitHub, the HTML representation is unable to render, please try loading this page with nbviewer.org.</b></div><div class=\"sk-container\" hidden><div class=\"sk-item\"><div class=\"sk-estimator sk-toggleable\"><input class=\"sk-toggleable__control sk-hidden--visually\" id=\"sk-estimator-id-2\" type=\"checkbox\" checked><label for=\"sk-estimator-id-2\" class=\"sk-toggleable__label sk-toggleable__label-arrow\">Ridge</label><div class=\"sk-toggleable__content\"><pre>Ridge()</pre></div></div></div></div></div>"
      ],
      "text/plain": [
       "Ridge()"
      ]
     },
     "execution_count": 59,
     "metadata": {},
     "output_type": "execute_result"
    }
   ],
   "source": [
    "forecaster.regressor"
   ]
  },
  {
   "cell_type": "code",
   "execution_count": null,
   "metadata": {},
   "outputs": [
    {
     "data": {
      "text/plain": [
       "{'l1': None, 'l2': array([1, 2, 3, 4])}"
      ]
     },
     "execution_count": 60,
     "metadata": {},
     "output_type": "execute_result"
    }
   ],
   "source": [
    "forecaster.lags"
   ]
  },
  {
   "cell_type": "code",
   "execution_count": null,
   "metadata": {},
   "outputs": [],
   "source": [
    "forecaster.series_col_names"
   ]
  },
  {
   "cell_type": "code",
   "execution_count": null,
   "metadata": {},
   "outputs": [],
   "source": [
    "d = {'l1': 3, 'l2': None}\n",
    "level = 'l1'\n",
    "\n",
    "series_col_names = ['l1']"
   ]
  },
  {
   "cell_type": "code",
   "execution_count": null,
   "metadata": {},
   "outputs": [],
   "source": [
    "d = {'l1': None, 'l2': 3}\n",
    "level = 'l1'\n",
    "\n",
    "series_col_names = ['l1', 'l2']"
   ]
  },
  {
   "cell_type": "code",
   "execution_count": null,
   "metadata": {},
   "outputs": [],
   "source": [
    "cols_to_create_lags = {\n",
    "    'l1': 'X',\n",
    "    'l2': 'both',\n",
    "    'l3': 'y'\n",
    "}\n",
    "\n",
    "series_col_names = ['l1', 'l2', 'l3']"
   ]
  },
  {
   "cell_type": "code",
   "execution_count": null,
   "metadata": {},
   "outputs": [
    {
     "data": {
      "text/plain": [
       "['l1', 'l2']"
      ]
     },
     "execution_count": 87,
     "metadata": {},
     "output_type": "execute_result"
    }
   ],
   "source": [
    "[col for col in series_col_names \n",
    "  if cols_to_create_lags[col] in ['X', 'both']]"
   ]
  },
  {
   "cell_type": "code",
   "execution_count": null,
   "metadata": {},
   "outputs": [],
   "source": []
  },
  {
   "cell_type": "code",
   "execution_count": 9,
   "metadata": {},
   "outputs": [],
   "source": [
    "import re\n",
    "import pytest\n",
    "import numpy as np\n",
    "import pandas as pd\n",
    "from sklearn.exceptions import NotFittedError\n",
    "from skforecast.ForecasterAutoregMultiVariate import ForecasterAutoregMultiVariate\n",
    "from sklearn.compose import ColumnTransformer\n",
    "from sklearn.preprocessing import StandardScaler\n",
    "from sklearn.preprocessing import MinMaxScaler\n",
    "from sklearn.preprocessing import OneHotEncoder\n",
    "from sklearn.preprocessing import OrdinalEncoder\n",
    "from sklearn.preprocessing import FunctionTransformer\n",
    "from sklearn.compose import make_column_transformer\n",
    "from sklearn.compose import make_column_selector\n",
    "from sklearn.pipeline import make_pipeline\n",
    "from sklearn.linear_model import LinearRegression\n",
    "from sklearn.ensemble import HistGradientBoostingRegressor\n",
    "from lightgbm import LGBMRegressor\n",
    "\n",
    "from skforecast.ForecasterAutoregMultiVariate.tests.fixtures_ForecasterAutoregMultiVariate import series"
   ]
  },
  {
   "cell_type": "code",
   "execution_count": 16,
   "metadata": {},
   "outputs": [
    {
     "data": {
      "text/plain": [
       "array([[0.61119488],\n",
       "       [0.48858659],\n",
       "       [0.46753222]])"
      ]
     },
     "execution_count": 16,
     "metadata": {},
     "output_type": "execute_result"
    }
   ],
   "source": [
    "forecaster = ForecasterAutoregMultiVariate(LinearRegression(), level='l1',\n",
    "                                               lags={'l1': 5, 'l2': None}, steps=3)\n",
    "forecaster.fit(series=series)\n",
    "results = forecaster.predict(steps=3)\n",
    "results.to_numpy()"
   ]
  },
  {
   "cell_type": "code",
   "execution_count": 15,
   "metadata": {},
   "outputs": [
    {
     "data": {
      "text/html": [
       "<div>\n",
       "<style scoped>\n",
       "    .dataframe tbody tr th:only-of-type {\n",
       "        vertical-align: middle;\n",
       "    }\n",
       "\n",
       "    .dataframe tbody tr th {\n",
       "        vertical-align: top;\n",
       "    }\n",
       "\n",
       "    .dataframe thead th {\n",
       "        text-align: right;\n",
       "    }\n",
       "</style>\n",
       "<table border=\"1\" class=\"dataframe\">\n",
       "  <thead>\n",
       "    <tr style=\"text-align: right;\">\n",
       "      <th></th>\n",
       "      <th>l1</th>\n",
       "    </tr>\n",
       "  </thead>\n",
       "  <tbody>\n",
       "    <tr>\n",
       "      <th>45</th>\n",
       "      <td>0.250455</td>\n",
       "    </tr>\n",
       "    <tr>\n",
       "      <th>46</th>\n",
       "      <td>0.483034</td>\n",
       "    </tr>\n",
       "    <tr>\n",
       "      <th>47</th>\n",
       "      <td>0.985560</td>\n",
       "    </tr>\n",
       "    <tr>\n",
       "      <th>48</th>\n",
       "      <td>0.519485</td>\n",
       "    </tr>\n",
       "    <tr>\n",
       "      <th>49</th>\n",
       "      <td>0.612895</td>\n",
       "    </tr>\n",
       "  </tbody>\n",
       "</table>\n",
       "</div>"
      ],
      "text/plain": [
       "          l1\n",
       "45  0.250455\n",
       "46  0.483034\n",
       "47  0.985560\n",
       "48  0.519485\n",
       "49  0.612895"
      ]
     },
     "execution_count": 15,
     "metadata": {},
     "output_type": "execute_result"
    }
   ],
   "source": [
    "forecaster.last_window"
   ]
  },
  {
   "cell_type": "code",
   "execution_count": 20,
   "metadata": {},
   "outputs": [
    {
     "data": {
      "text/plain": [
       "True"
      ]
     },
     "execution_count": 20,
     "metadata": {},
     "output_type": "execute_result"
    }
   ],
   "source": [
    "len(set(['l1', 'l2', 'l4']) - set(['l1', 'l2', 'l3'])) > 0"
   ]
  },
  {
   "cell_type": "code",
   "execution_count": 15,
   "metadata": {},
   "outputs": [
    {
     "name": "stdout",
     "output_type": "stream",
     "text": [
      "['l1', 'l2', 'l3'] ['l1', 'l2']\n"
     ]
    }
   ],
   "source": [
    "import warnings\n",
    "\n",
    "X_train_col_names = ['l1', 'l2', 'l3']\n",
    "last_window_cols = ['l1', 'l2', 'l3', 'l4']\n",
    "last_window_cols = ['l1', 'l2']\n",
    "\n",
    "print(X_train_col_names, last_window_cols)"
   ]
  },
  {
   "cell_type": "code",
   "execution_count": 16,
   "metadata": {},
   "outputs": [
    {
     "ename": "ValueError",
     "evalue": "`last_window` columns must be the same as the `series` column names used to create the X_train matrix.\n    `last_window` columns    : ['l1', 'l2'].\n    `series` columns X train : ['l1', 'l2', 'l3'].",
     "output_type": "error",
     "traceback": [
      "\u001b[1;31m---------------------------------------------------------------------------\u001b[0m",
      "\u001b[1;31mValueError\u001b[0m                                Traceback (most recent call last)",
      "Cell \u001b[1;32mIn[16], line 2\u001b[0m\n\u001b[0;32m      1\u001b[0m \u001b[38;5;28;01mif\u001b[39;00m \u001b[38;5;28mlen\u001b[39m(\u001b[38;5;28mset\u001b[39m(X_train_col_names) \u001b[38;5;241m-\u001b[39m \u001b[38;5;28mset\u001b[39m(last_window_cols)) \u001b[38;5;241m>\u001b[39m \u001b[38;5;241m0\u001b[39m:\n\u001b[1;32m----> 2\u001b[0m     \u001b[38;5;28;01mraise\u001b[39;00m \u001b[38;5;167;01mValueError\u001b[39;00m(\n\u001b[0;32m      3\u001b[0m         (\u001b[38;5;124mf\u001b[39m\u001b[38;5;124m\"\u001b[39m\u001b[38;5;124m`last_window` columns must be the same as the `series` \u001b[39m\u001b[38;5;124m\"\u001b[39m\n\u001b[0;32m      4\u001b[0m             \u001b[38;5;124mf\u001b[39m\u001b[38;5;124m\"\u001b[39m\u001b[38;5;124mcolumn names used to create the X_train matrix.\u001b[39m\u001b[38;5;130;01m\\n\u001b[39;00m\u001b[38;5;124m\"\u001b[39m\n\u001b[0;32m      5\u001b[0m             \u001b[38;5;124mf\u001b[39m\u001b[38;5;124m\"\u001b[39m\u001b[38;5;124m    `last_window` columns    : \u001b[39m\u001b[38;5;132;01m{\u001b[39;00m\u001b[38;5;28mlist\u001b[39m(last_window_cols)\u001b[38;5;132;01m}\u001b[39;00m\u001b[38;5;124m.\u001b[39m\u001b[38;5;130;01m\\n\u001b[39;00m\u001b[38;5;124m\"\u001b[39m\n\u001b[0;32m      6\u001b[0m             \u001b[38;5;124mf\u001b[39m\u001b[38;5;124m\"\u001b[39m\u001b[38;5;124m    `series` columns X train : \u001b[39m\u001b[38;5;132;01m{\u001b[39;00mX_train_col_names\u001b[38;5;132;01m}\u001b[39;00m\u001b[38;5;124m.\u001b[39m\u001b[38;5;124m\"\u001b[39m)\n\u001b[0;32m      7\u001b[0m     )\n\u001b[0;32m      9\u001b[0m \u001b[38;5;28;01mif\u001b[39;00m \u001b[38;5;28mlen\u001b[39m(\u001b[38;5;28mset\u001b[39m(last_window_cols) \u001b[38;5;241m-\u001b[39m \u001b[38;5;28mset\u001b[39m(X_train_col_names)) \u001b[38;5;241m>\u001b[39m \u001b[38;5;241m0\u001b[39m:\n\u001b[0;32m     10\u001b[0m     warnings\u001b[38;5;241m.\u001b[39mwarn(\n\u001b[0;32m     11\u001b[0m         (\u001b[38;5;124mf\u001b[39m\u001b[38;5;124m\"\u001b[39m\u001b[38;5;124m`last_window` columns must be the same as the `series` \u001b[39m\u001b[38;5;124m\"\u001b[39m\n\u001b[0;32m     12\u001b[0m             \u001b[38;5;124mf\u001b[39m\u001b[38;5;124m\"\u001b[39m\u001b[38;5;124mcolumn names used to create the X_train matrix.\u001b[39m\u001b[38;5;130;01m\\n\u001b[39;00m\u001b[38;5;124m\"\u001b[39m\n\u001b[0;32m     13\u001b[0m             \u001b[38;5;124mf\u001b[39m\u001b[38;5;124m\"\u001b[39m\u001b[38;5;124m    `last_window` columns    : \u001b[39m\u001b[38;5;132;01m{\u001b[39;00m\u001b[38;5;28mlist\u001b[39m(last_window_cols)\u001b[38;5;132;01m}\u001b[39;00m\u001b[38;5;124m.\u001b[39m\u001b[38;5;130;01m\\n\u001b[39;00m\u001b[38;5;124m\"\u001b[39m\n\u001b[0;32m     14\u001b[0m             \u001b[38;5;124mf\u001b[39m\u001b[38;5;124m\"\u001b[39m\u001b[38;5;124m    `series` columns X train : \u001b[39m\u001b[38;5;132;01m{\u001b[39;00mX_train_col_names\u001b[38;5;132;01m}\u001b[39;00m\u001b[38;5;124m.\u001b[39m\u001b[38;5;124m\"\u001b[39m)\n\u001b[0;32m     15\u001b[0m     )\n",
      "\u001b[1;31mValueError\u001b[0m: `last_window` columns must be the same as the `series` column names used to create the X_train matrix.\n    `last_window` columns    : ['l1', 'l2'].\n    `series` columns X train : ['l1', 'l2', 'l3']."
     ]
    }
   ],
   "source": [
    "if len(set(X_train_col_names) - set(last_window_cols)) > 0:\n",
    "    raise ValueError(\n",
    "        (f\"`last_window` columns must be the same as the `series` \"\n",
    "            f\"column names used to create the X_train matrix.\\n\"\n",
    "            f\"    `last_window` columns    : {list(last_window_cols)}.\\n\"\n",
    "            f\"    `series` columns X train : {X_train_col_names}.\")\n",
    "    )\n",
    "\n",
    "if len(set(last_window_cols) - set(X_train_col_names)) > 0:\n",
    "    warnings.warn(\n",
    "        (f\"`last_window` contains columns that are not used to create the \"\n",
    "         f\"X_train matrix. These columns will be ignored.\\n\"\n",
    "         f\"    `last_window` columns    : {list(last_window_cols)}.\\n\"\n",
    "         f\"    `series` columns X train : {X_train_col_names}.\")\n",
    "    )"
   ]
  },
  {
   "cell_type": "code",
   "execution_count": 18,
   "metadata": {},
   "outputs": [],
   "source": [
    "import os\n",
    "import re\n",
    "import sys\n",
    "import pytest\n",
    "import numpy as np\n",
    "import pandas as pd\n",
    "from sklearn.ensemble import RandomForestRegressor\n",
    "from sklearn.linear_model import Ridge\n",
    "from sklearn.metrics import mean_absolute_error\n",
    "from skforecast.ForecasterAutoregMultiSeries import ForecasterAutoregMultiSeries\n",
    "from skforecast.ForecasterAutoregMultiSeriesCustom import ForecasterAutoregMultiSeriesCustom\n",
    "from skforecast.ForecasterAutoregMultiVariate import ForecasterAutoregMultiVariate\n",
    "from skforecast.model_selection_multiseries import backtesting_forecaster_multiseries\n",
    "from skforecast.model_selection_multiseries.model_selection_multiseries import _bayesian_search_optuna_multiseries\n",
    "import optuna\n",
    "from optuna.samplers import TPESampler\n",
    "from tqdm import tqdm\n",
    "from functools import partialmethod\n",
    "\n",
    "optuna.logging.set_verbosity(optuna.logging.WARNING)\n",
    "tqdm.__init__ = partialmethod(tqdm.__init__, disable=True) # hide progress bar\n",
    "\n",
    "# Fixtures\n",
    "from skforecast.model_selection_multiseries.tests.fixtures_model_selection_multiseries import series"
   ]
  },
  {
   "cell_type": "code",
   "execution_count": 20,
   "metadata": {},
   "outputs": [
    {
     "data": {
      "text/html": [
       "<div>\n",
       "<style scoped>\n",
       "    .dataframe tbody tr th:only-of-type {\n",
       "        vertical-align: middle;\n",
       "    }\n",
       "\n",
       "    .dataframe tbody tr th {\n",
       "        vertical-align: top;\n",
       "    }\n",
       "\n",
       "    .dataframe thead th {\n",
       "        text-align: right;\n",
       "    }\n",
       "</style>\n",
       "<table border=\"1\" class=\"dataframe\">\n",
       "  <thead>\n",
       "    <tr style=\"text-align: right;\">\n",
       "      <th></th>\n",
       "      <th>l1</th>\n",
       "      <th>l2</th>\n",
       "    </tr>\n",
       "  </thead>\n",
       "  <tbody>\n",
       "    <tr>\n",
       "      <th>0</th>\n",
       "      <td>0.696469</td>\n",
       "      <td>0.120629</td>\n",
       "    </tr>\n",
       "    <tr>\n",
       "      <th>1</th>\n",
       "      <td>0.286139</td>\n",
       "      <td>0.826341</td>\n",
       "    </tr>\n",
       "  </tbody>\n",
       "</table>\n",
       "</div>"
      ],
      "text/plain": [
       "         l1        l2\n",
       "0  0.696469  0.120629\n",
       "1  0.286139  0.826341"
      ]
     },
     "execution_count": 20,
     "metadata": {},
     "output_type": "execute_result"
    }
   ],
   "source": [
    "series.head(2)"
   ]
  },
  {
   "cell_type": "code",
   "execution_count": 50,
   "metadata": {},
   "outputs": [],
   "source": [
    "forecaster = ForecasterAutoregMultiVariate(\n",
    "                     regressor          = Ridge(random_state=123),\n",
    "                     level              = 'l1',\n",
    "                     lags               = 2,\n",
    "                     steps              = 3,\n",
    "                     transformer_series = None\n",
    "                 )\n",
    "steps = 3\n",
    "n_validation = 12\n",
    "\n",
    "def search_space(trial):\n",
    "    search_space  = {\n",
    "        'alpha': trial.suggest_float('alpha', 1e-2, 1.0),\n",
    "        'lags' : trial.suggest_categorical('lags', [{'l1': 2, 'l2': [1, 3]}, \n",
    "                                                    {'l1': None, 'l2': [1, 3]}, \n",
    "                                                    {'l1': [1, 3], 'l2': None}])\n",
    "    }\n",
    "    \n",
    "    return search_space"
   ]
  },
  {
   "cell_type": "code",
   "execution_count": 51,
   "metadata": {},
   "outputs": [
    {
     "data": {
      "application/vnd.jupyter.widget-view+json": {
       "model_id": "c80eedfda1a34000b509f4898b6183ad",
       "version_major": 2,
       "version_minor": 0
      },
      "text/plain": [
       "  0%|          | 0/10 [00:00<?, ?it/s]"
      ]
     },
     "metadata": {},
     "output_type": "display_data"
    },
    {
     "name": "stderr",
     "output_type": "stream",
     "text": [
      "c:\\Users\\jaesc2\\GitHub\\skforecast\\skforecast\\utils\\utils.py:696: IgnoredArgumentWarning: `last_window` contains columns that are not used to create the X_train matrix. These columns will be ignored.\n",
      "    `last_window` columns    : ['l1', 'l2']\n",
      "    `series` columns X train : ['l1'] \n",
      " You can suppress this warning using: warnings.simplefilter('ignore', category=IgnoredArgumentWarning)\n",
      "  warnings.warn(\n",
      "c:\\Users\\jaesc2\\GitHub\\skforecast\\skforecast\\utils\\utils.py:696: IgnoredArgumentWarning: `last_window` contains columns that are not used to create the X_train matrix. These columns will be ignored.\n",
      "    `last_window` columns    : ['l1', 'l2']\n",
      "    `series` columns X train : ['l2'] \n",
      " You can suppress this warning using: warnings.simplefilter('ignore', category=IgnoredArgumentWarning)\n",
      "  warnings.warn(\n",
      "c:\\Users\\jaesc2\\GitHub\\skforecast\\skforecast\\utils\\utils.py:696: IgnoredArgumentWarning: `last_window` contains columns that are not used to create the X_train matrix. These columns will be ignored.\n",
      "    `last_window` columns    : ['l1', 'l2']\n",
      "    `series` columns X train : ['l1'] \n",
      " You can suppress this warning using: warnings.simplefilter('ignore', category=IgnoredArgumentWarning)\n",
      "  warnings.warn(\n",
      "c:\\Users\\jaesc2\\GitHub\\skforecast\\skforecast\\utils\\utils.py:696: IgnoredArgumentWarning: `last_window` contains columns that are not used to create the X_train matrix. These columns will be ignored.\n",
      "    `last_window` columns    : ['l1', 'l2']\n",
      "    `series` columns X train : ['l1'] \n",
      " You can suppress this warning using: warnings.simplefilter('ignore', category=IgnoredArgumentWarning)\n",
      "  warnings.warn(\n",
      "c:\\Users\\jaesc2\\GitHub\\skforecast\\skforecast\\utils\\utils.py:696: IgnoredArgumentWarning: `last_window` contains columns that are not used to create the X_train matrix. These columns will be ignored.\n",
      "    `last_window` columns    : ['l1', 'l2']\n",
      "    `series` columns X train : ['l1'] \n",
      " You can suppress this warning using: warnings.simplefilter('ignore', category=IgnoredArgumentWarning)\n",
      "  warnings.warn(\n",
      "c:\\Users\\jaesc2\\GitHub\\skforecast\\skforecast\\utils\\utils.py:696: IgnoredArgumentWarning: `last_window` contains columns that are not used to create the X_train matrix. These columns will be ignored.\n",
      "    `last_window` columns    : ['l1', 'l2']\n",
      "    `series` columns X train : ['l2'] \n",
      " You can suppress this warning using: warnings.simplefilter('ignore', category=IgnoredArgumentWarning)\n",
      "  warnings.warn(\n",
      "c:\\Users\\jaesc2\\GitHub\\skforecast\\skforecast\\utils\\utils.py:696: IgnoredArgumentWarning: `last_window` contains columns that are not used to create the X_train matrix. These columns will be ignored.\n",
      "    `last_window` columns    : ['l1', 'l2']\n",
      "    `series` columns X train : ['l2'] \n",
      " You can suppress this warning using: warnings.simplefilter('ignore', category=IgnoredArgumentWarning)\n",
      "  warnings.warn(\n",
      "c:\\Users\\jaesc2\\Miniconda3\\envs\\skforecast_py11\\Lib\\site-packages\\optuna\\distributions.py:524: UserWarning: Choices for a categorical distribution should be a tuple of None, bool, int, float and str for persistent storage but contains {'l1': 2, 'l2': [1, 3]} which is of type dict.\n",
      "  warnings.warn(message)\n",
      "c:\\Users\\jaesc2\\Miniconda3\\envs\\skforecast_py11\\Lib\\site-packages\\optuna\\distributions.py:524: UserWarning: Choices for a categorical distribution should be a tuple of None, bool, int, float and str for persistent storage but contains {'l1': None, 'l2': [1, 3]} which is of type dict.\n",
      "  warnings.warn(message)\n",
      "c:\\Users\\jaesc2\\Miniconda3\\envs\\skforecast_py11\\Lib\\site-packages\\optuna\\distributions.py:524: UserWarning: Choices for a categorical distribution should be a tuple of None, bool, int, float and str for persistent storage but contains {'l1': [1, 3], 'l2': None} which is of type dict.\n",
      "  warnings.warn(message)\n"
     ]
    }
   ],
   "source": [
    "results = _bayesian_search_optuna_multiseries(\n",
    "                  forecaster         = forecaster,\n",
    "                  series             = series,\n",
    "                  steps              = steps,\n",
    "                  search_space       = search_space,\n",
    "                  metric             = 'mean_absolute_error',\n",
    "                  refit              = True,\n",
    "                  initial_train_size = len(series) - n_validation,\n",
    "                  fixed_train_size   = True,\n",
    "                  n_trials           = 10,\n",
    "                  random_state       = 123,\n",
    "                  return_best        = False,\n",
    "                  verbose            = False\n",
    "              )[0]"
   ]
  },
  {
   "cell_type": "code",
   "execution_count": 52,
   "metadata": {},
   "outputs": [
    {
     "data": {
      "text/html": [
       "<div>\n",
       "<style scoped>\n",
       "    .dataframe tbody tr th:only-of-type {\n",
       "        vertical-align: middle;\n",
       "    }\n",
       "\n",
       "    .dataframe tbody tr th {\n",
       "        vertical-align: top;\n",
       "    }\n",
       "\n",
       "    .dataframe thead th {\n",
       "        text-align: right;\n",
       "    }\n",
       "</style>\n",
       "<table border=\"1\" class=\"dataframe\">\n",
       "  <thead>\n",
       "    <tr style=\"text-align: right;\">\n",
       "      <th></th>\n",
       "      <th>levels</th>\n",
       "      <th>lags</th>\n",
       "      <th>params</th>\n",
       "      <th>mean_absolute_error</th>\n",
       "      <th>alpha</th>\n",
       "    </tr>\n",
       "  </thead>\n",
       "  <tbody>\n",
       "    <tr>\n",
       "      <th>7</th>\n",
       "      <td>[l1]</td>\n",
       "      <td>{'l1': [1, 2], 'l2': [1, 3]}</td>\n",
       "      <td>{'alpha': 0.30077690592494105}</td>\n",
       "      <td>0.208448</td>\n",
       "      <td>0.300777</td>\n",
       "    </tr>\n",
       "    <tr>\n",
       "      <th>8</th>\n",
       "      <td>[l1]</td>\n",
       "      <td>{'l1': [1, 2], 'l2': [1, 3]}</td>\n",
       "      <td>{'alpha': 0.4365541356963474}</td>\n",
       "      <td>0.208803</td>\n",
       "      <td>0.436554</td>\n",
       "    </tr>\n",
       "    <tr>\n",
       "      <th>5</th>\n",
       "      <td>[l1]</td>\n",
       "      <td>{'l1': [1, 2], 'l2': [1, 3]}</td>\n",
       "      <td>{'alpha': 0.6380569489658079}</td>\n",
       "      <td>0.209237</td>\n",
       "      <td>0.638057</td>\n",
       "    </tr>\n",
       "    <tr>\n",
       "      <th>6</th>\n",
       "      <td>[l1]</td>\n",
       "      <td>{'l1': None, 'l2': [1, 3]}</td>\n",
       "      <td>{'alpha': 0.7252189487445193}</td>\n",
       "      <td>0.216851</td>\n",
       "      <td>0.725219</td>\n",
       "    </tr>\n",
       "    <tr>\n",
       "      <th>1</th>\n",
       "      <td>[l1]</td>\n",
       "      <td>{'l1': None, 'l2': [1, 3]}</td>\n",
       "      <td>{'alpha': 0.7222742800877074}</td>\n",
       "      <td>0.216855</td>\n",
       "      <td>0.722274</td>\n",
       "    </tr>\n",
       "    <tr>\n",
       "      <th>9</th>\n",
       "      <td>[l1]</td>\n",
       "      <td>{'l1': None, 'l2': [1, 3]}</td>\n",
       "      <td>{'alpha': 0.43208779389318014}</td>\n",
       "      <td>0.217337</td>\n",
       "      <td>0.432088</td>\n",
       "    </tr>\n",
       "    <tr>\n",
       "      <th>0</th>\n",
       "      <td>[l1]</td>\n",
       "      <td>{'l1': [1, 3], 'l2': None}</td>\n",
       "      <td>{'alpha': 0.6995044937418831}</td>\n",
       "      <td>0.220668</td>\n",
       "      <td>0.699504</td>\n",
       "    </tr>\n",
       "    <tr>\n",
       "      <th>2</th>\n",
       "      <td>[l1]</td>\n",
       "      <td>{'l1': [1, 3], 'l2': None}</td>\n",
       "      <td>{'alpha': 0.48612258246951734}</td>\n",
       "      <td>0.221598</td>\n",
       "      <td>0.486123</td>\n",
       "    </tr>\n",
       "    <tr>\n",
       "      <th>3</th>\n",
       "      <td>[l1]</td>\n",
       "      <td>{'l1': [1, 3], 'l2': None}</td>\n",
       "      <td>{'alpha': 0.4441865222328282}</td>\n",
       "      <td>0.221803</td>\n",
       "      <td>0.444187</td>\n",
       "    </tr>\n",
       "    <tr>\n",
       "      <th>4</th>\n",
       "      <td>[l1]</td>\n",
       "      <td>{'l1': [1, 3], 'l2': None}</td>\n",
       "      <td>{'alpha': 0.190666813148965}</td>\n",
       "      <td>0.223240</td>\n",
       "      <td>0.190667</td>\n",
       "    </tr>\n",
       "  </tbody>\n",
       "</table>\n",
       "</div>"
      ],
      "text/plain": [
       "  levels                          lags  ... mean_absolute_error     alpha\n",
       "7   [l1]  {'l1': [1, 2], 'l2': [1, 3]}  ...            0.208448  0.300777\n",
       "8   [l1]  {'l1': [1, 2], 'l2': [1, 3]}  ...            0.208803  0.436554\n",
       "5   [l1]  {'l1': [1, 2], 'l2': [1, 3]}  ...            0.209237  0.638057\n",
       "6   [l1]    {'l1': None, 'l2': [1, 3]}  ...            0.216851  0.725219\n",
       "1   [l1]    {'l1': None, 'l2': [1, 3]}  ...            0.216855  0.722274\n",
       "9   [l1]    {'l1': None, 'l2': [1, 3]}  ...            0.217337  0.432088\n",
       "0   [l1]    {'l1': [1, 3], 'l2': None}  ...            0.220668  0.699504\n",
       "2   [l1]    {'l1': [1, 3], 'l2': None}  ...            0.221598  0.486123\n",
       "3   [l1]    {'l1': [1, 3], 'l2': None}  ...            0.221803  0.444187\n",
       "4   [l1]    {'l1': [1, 3], 'l2': None}  ...            0.223240  0.190667\n",
       "\n",
       "[10 rows x 5 columns]"
      ]
     },
     "execution_count": 52,
     "metadata": {},
     "output_type": "execute_result"
    }
   ],
   "source": [
    "results"
   ]
  },
  {
   "cell_type": "code",
   "execution_count": 53,
   "metadata": {},
   "outputs": [
    {
     "data": {
      "text/plain": [
       "levels                  object\n",
       "lags                    object\n",
       "params                  object\n",
       "mean_absolute_error    float64\n",
       "alpha                  float64\n",
       "dtype: object"
      ]
     },
     "execution_count": 53,
     "metadata": {},
     "output_type": "execute_result"
    }
   ],
   "source": [
    "results.dtypes"
   ]
  },
  {
   "cell_type": "code",
   "execution_count": 54,
   "metadata": {},
   "outputs": [
    {
     "data": {
      "text/plain": [
       "Index([7, 8, 5, 6, 1, 9, 0, 2, 3, 4], dtype='int64')"
      ]
     },
     "execution_count": 54,
     "metadata": {},
     "output_type": "execute_result"
    }
   ],
   "source": [
    "results.index"
   ]
  },
  {
   "cell_type": "code",
   "execution_count": 55,
   "metadata": {},
   "outputs": [
    {
     "data": {
      "text/plain": [
       "array([[list(['l1']), {'l1': array([1, 2]), 'l2': array([1, 3])},\n",
       "        {'alpha': 0.30077690592494105}, 0.20844762947854312,\n",
       "        0.30077690592494105],\n",
       "       [list(['l1']), {'l1': array([1, 2]), 'l2': array([1, 3])},\n",
       "        {'alpha': 0.4365541356963474}, 0.20880336411565956,\n",
       "        0.4365541356963474],\n",
       "       [list(['l1']), {'l1': array([1, 2]), 'l2': array([1, 3])},\n",
       "        {'alpha': 0.6380569489658079}, 0.2092371153650312,\n",
       "        0.6380569489658079],\n",
       "       [list(['l1']), {'l1': None, 'l2': array([1, 3])},\n",
       "        {'alpha': 0.7252189487445193}, 0.21685083725475654,\n",
       "        0.7252189487445193],\n",
       "       [list(['l1']), {'l1': None, 'l2': array([1, 3])},\n",
       "        {'alpha': 0.7222742800877074}, 0.2168551702095223,\n",
       "        0.7222742800877074],\n",
       "       [list(['l1']), {'l1': None, 'l2': array([1, 3])},\n",
       "        {'alpha': 0.43208779389318014}, 0.21733651515831423,\n",
       "        0.43208779389318014],\n",
       "       [list(['l1']), {'l1': array([1, 3]), 'l2': None},\n",
       "        {'alpha': 0.6995044937418831}, 0.22066810286127028,\n",
       "        0.6995044937418831],\n",
       "       [list(['l1']), {'l1': array([1, 3]), 'l2': None},\n",
       "        {'alpha': 0.48612258246951734}, 0.22159811332626014,\n",
       "        0.48612258246951734],\n",
       "       [list(['l1']), {'l1': array([1, 3]), 'l2': None},\n",
       "        {'alpha': 0.4441865222328282}, 0.2218030808436934,\n",
       "        0.4441865222328282],\n",
       "       [list(['l1']), {'l1': array([1, 3]), 'l2': None},\n",
       "        {'alpha': 0.190666813148965}, 0.22324045507529866,\n",
       "        0.190666813148965]], dtype=object)"
      ]
     },
     "execution_count": 55,
     "metadata": {},
     "output_type": "execute_result"
    }
   ],
   "source": [
    "results.to_numpy()"
   ]
  },
  {
   "cell_type": "code",
   "execution_count": 33,
   "metadata": {},
   "outputs": [],
   "source": [
    "forecaster = ForecasterAutoregMultiVariate(\n",
    "                     regressor          = Ridge(random_state=123),\n",
    "                     level              = 'l1',\n",
    "                     lags               = 2,\n",
    "                     steps              = 3,\n",
    "                     transformer_series = None\n",
    "                 )\n",
    "\n",
    "lags_grid = {\n",
    "    'lags_1': {'l1': 2, 'l2': 3},\n",
    "    'lags_2': {'l1': [1, 3], 'l2': 3},\n",
    "    'lags_3': {'l1': 2, 'l2': [1, 4]},\n",
    "    'lags_4': {'l1': 2, 'l2': None},\n",
    "    'lags_5': {'l1': None, 'l2': 2},\n",
    "    'lags_6': 3\n",
    "}\n",
    "steps = 3\n",
    "n_validation = 12\n",
    "param_grid = [{'alpha': 0.01}, {'alpha': 0.1}, {'alpha': 1}]"
   ]
  },
  {
   "cell_type": "code",
   "execution_count": 34,
   "metadata": {},
   "outputs": [
    {
     "name": "stdout",
     "output_type": "stream",
     "text": [
      "18 models compared for 1 level(s). Number of iterations: 18.\n"
     ]
    },
    {
     "data": {
      "application/vnd.jupyter.widget-view+json": {
       "model_id": "0dccd71fb8bb49e1a2f2400e6cf02880",
       "version_major": 2,
       "version_minor": 0
      },
      "text/plain": [
       "lags grid:   0%|          | 0/6 [00:00<?, ?it/s]"
      ]
     },
     "metadata": {},
     "output_type": "display_data"
    },
    {
     "data": {
      "application/vnd.jupyter.widget-view+json": {
       "model_id": "3a2d6e33be5c4dd7ab6bde5cb783b965",
       "version_major": 2,
       "version_minor": 0
      },
      "text/plain": [
       "params grid:   0%|          | 0/3 [00:00<?, ?it/s]"
      ]
     },
     "metadata": {},
     "output_type": "display_data"
    },
    {
     "name": "stderr",
     "output_type": "stream",
     "text": [
      "c:\\Users\\jaesc2\\GitHub\\skforecast\\skforecast\\utils\\utils.py:696: IgnoredArgumentWarning: `last_window` contains columns that are not used to create the X_train matrix. These columns will be ignored.\n",
      "    `last_window` columns    : ['l1', 'l2']\n",
      "    `series` columns X train : ['l1'] \n",
      " You can suppress this warning using: warnings.simplefilter('ignore', category=IgnoredArgumentWarning)\n",
      "  warnings.warn(\n",
      "c:\\Users\\jaesc2\\GitHub\\skforecast\\skforecast\\utils\\utils.py:696: IgnoredArgumentWarning: `last_window` contains columns that are not used to create the X_train matrix. These columns will be ignored.\n",
      "    `last_window` columns    : ['l1', 'l2']\n",
      "    `series` columns X train : ['l1'] \n",
      " You can suppress this warning using: warnings.simplefilter('ignore', category=IgnoredArgumentWarning)\n",
      "  warnings.warn(\n",
      "c:\\Users\\jaesc2\\GitHub\\skforecast\\skforecast\\utils\\utils.py:696: IgnoredArgumentWarning: `last_window` contains columns that are not used to create the X_train matrix. These columns will be ignored.\n",
      "    `last_window` columns    : ['l1', 'l2']\n",
      "    `series` columns X train : ['l1'] \n",
      " You can suppress this warning using: warnings.simplefilter('ignore', category=IgnoredArgumentWarning)\n",
      "  warnings.warn(\n",
      "c:\\Users\\jaesc2\\GitHub\\skforecast\\skforecast\\utils\\utils.py:696: IgnoredArgumentWarning: `last_window` contains columns that are not used to create the X_train matrix. These columns will be ignored.\n",
      "    `last_window` columns    : ['l1', 'l2']\n",
      "    `series` columns X train : ['l1'] \n",
      " You can suppress this warning using: warnings.simplefilter('ignore', category=IgnoredArgumentWarning)\n",
      "  warnings.warn(\n",
      "c:\\Users\\jaesc2\\GitHub\\skforecast\\skforecast\\utils\\utils.py:696: IgnoredArgumentWarning: `last_window` contains columns that are not used to create the X_train matrix. These columns will be ignored.\n",
      "    `last_window` columns    : ['l1', 'l2']\n",
      "    `series` columns X train : ['l1'] \n",
      " You can suppress this warning using: warnings.simplefilter('ignore', category=IgnoredArgumentWarning)\n",
      "  warnings.warn(\n",
      "c:\\Users\\jaesc2\\GitHub\\skforecast\\skforecast\\utils\\utils.py:696: IgnoredArgumentWarning: `last_window` contains columns that are not used to create the X_train matrix. These columns will be ignored.\n",
      "    `last_window` columns    : ['l1', 'l2']\n",
      "    `series` columns X train : ['l1'] \n",
      " You can suppress this warning using: warnings.simplefilter('ignore', category=IgnoredArgumentWarning)\n",
      "  warnings.warn(\n",
      "c:\\Users\\jaesc2\\GitHub\\skforecast\\skforecast\\utils\\utils.py:696: IgnoredArgumentWarning: `last_window` contains columns that are not used to create the X_train matrix. These columns will be ignored.\n",
      "    `last_window` columns    : ['l1', 'l2']\n",
      "    `series` columns X train : ['l1'] \n",
      " You can suppress this warning using: warnings.simplefilter('ignore', category=IgnoredArgumentWarning)\n",
      "  warnings.warn(\n",
      "c:\\Users\\jaesc2\\GitHub\\skforecast\\skforecast\\utils\\utils.py:696: IgnoredArgumentWarning: `last_window` contains columns that are not used to create the X_train matrix. These columns will be ignored.\n",
      "    `last_window` columns    : ['l1', 'l2']\n",
      "    `series` columns X train : ['l1'] \n",
      " You can suppress this warning using: warnings.simplefilter('ignore', category=IgnoredArgumentWarning)\n",
      "  warnings.warn(\n",
      "c:\\Users\\jaesc2\\GitHub\\skforecast\\skforecast\\utils\\utils.py:696: IgnoredArgumentWarning: `last_window` contains columns that are not used to create the X_train matrix. These columns will be ignored.\n",
      "    `last_window` columns    : ['l1', 'l2']\n",
      "    `series` columns X train : ['l1'] \n",
      " You can suppress this warning using: warnings.simplefilter('ignore', category=IgnoredArgumentWarning)\n",
      "  warnings.warn(\n",
      "c:\\Users\\jaesc2\\GitHub\\skforecast\\skforecast\\utils\\utils.py:696: IgnoredArgumentWarning: `last_window` contains columns that are not used to create the X_train matrix. These columns will be ignored.\n",
      "    `last_window` columns    : ['l1', 'l2']\n",
      "    `series` columns X train : ['l1'] \n",
      " You can suppress this warning using: warnings.simplefilter('ignore', category=IgnoredArgumentWarning)\n",
      "  warnings.warn(\n",
      "c:\\Users\\jaesc2\\GitHub\\skforecast\\skforecast\\utils\\utils.py:696: IgnoredArgumentWarning: `last_window` contains columns that are not used to create the X_train matrix. These columns will be ignored.\n",
      "    `last_window` columns    : ['l1', 'l2']\n",
      "    `series` columns X train : ['l1'] \n",
      " You can suppress this warning using: warnings.simplefilter('ignore', category=IgnoredArgumentWarning)\n",
      "  warnings.warn(\n",
      "c:\\Users\\jaesc2\\GitHub\\skforecast\\skforecast\\utils\\utils.py:696: IgnoredArgumentWarning: `last_window` contains columns that are not used to create the X_train matrix. These columns will be ignored.\n",
      "    `last_window` columns    : ['l1', 'l2']\n",
      "    `series` columns X train : ['l1'] \n",
      " You can suppress this warning using: warnings.simplefilter('ignore', category=IgnoredArgumentWarning)\n",
      "  warnings.warn(\n",
      "c:\\Users\\jaesc2\\GitHub\\skforecast\\skforecast\\utils\\utils.py:696: IgnoredArgumentWarning: `last_window` contains columns that are not used to create the X_train matrix. These columns will be ignored.\n",
      "    `last_window` columns    : ['l1', 'l2']\n",
      "    `series` columns X train : ['l2'] \n",
      " You can suppress this warning using: warnings.simplefilter('ignore', category=IgnoredArgumentWarning)\n",
      "  warnings.warn(\n",
      "c:\\Users\\jaesc2\\GitHub\\skforecast\\skforecast\\utils\\utils.py:696: IgnoredArgumentWarning: `last_window` contains columns that are not used to create the X_train matrix. These columns will be ignored.\n",
      "    `last_window` columns    : ['l1', 'l2']\n",
      "    `series` columns X train : ['l2'] \n",
      " You can suppress this warning using: warnings.simplefilter('ignore', category=IgnoredArgumentWarning)\n",
      "  warnings.warn(\n",
      "c:\\Users\\jaesc2\\GitHub\\skforecast\\skforecast\\utils\\utils.py:696: IgnoredArgumentWarning: `last_window` contains columns that are not used to create the X_train matrix. These columns will be ignored.\n",
      "    `last_window` columns    : ['l1', 'l2']\n",
      "    `series` columns X train : ['l2'] \n",
      " You can suppress this warning using: warnings.simplefilter('ignore', category=IgnoredArgumentWarning)\n",
      "  warnings.warn(\n",
      "c:\\Users\\jaesc2\\GitHub\\skforecast\\skforecast\\utils\\utils.py:696: IgnoredArgumentWarning: `last_window` contains columns that are not used to create the X_train matrix. These columns will be ignored.\n",
      "    `last_window` columns    : ['l1', 'l2']\n",
      "    `series` columns X train : ['l2'] \n",
      " You can suppress this warning using: warnings.simplefilter('ignore', category=IgnoredArgumentWarning)\n",
      "  warnings.warn(\n",
      "c:\\Users\\jaesc2\\GitHub\\skforecast\\skforecast\\utils\\utils.py:696: IgnoredArgumentWarning: `last_window` contains columns that are not used to create the X_train matrix. These columns will be ignored.\n",
      "    `last_window` columns    : ['l1', 'l2']\n",
      "    `series` columns X train : ['l2'] \n",
      " You can suppress this warning using: warnings.simplefilter('ignore', category=IgnoredArgumentWarning)\n",
      "  warnings.warn(\n",
      "c:\\Users\\jaesc2\\GitHub\\skforecast\\skforecast\\utils\\utils.py:696: IgnoredArgumentWarning: `last_window` contains columns that are not used to create the X_train matrix. These columns will be ignored.\n",
      "    `last_window` columns    : ['l1', 'l2']\n",
      "    `series` columns X train : ['l2'] \n",
      " You can suppress this warning using: warnings.simplefilter('ignore', category=IgnoredArgumentWarning)\n",
      "  warnings.warn(\n",
      "c:\\Users\\jaesc2\\GitHub\\skforecast\\skforecast\\utils\\utils.py:696: IgnoredArgumentWarning: `last_window` contains columns that are not used to create the X_train matrix. These columns will be ignored.\n",
      "    `last_window` columns    : ['l1', 'l2']\n",
      "    `series` columns X train : ['l2'] \n",
      " You can suppress this warning using: warnings.simplefilter('ignore', category=IgnoredArgumentWarning)\n",
      "  warnings.warn(\n",
      "c:\\Users\\jaesc2\\GitHub\\skforecast\\skforecast\\utils\\utils.py:696: IgnoredArgumentWarning: `last_window` contains columns that are not used to create the X_train matrix. These columns will be ignored.\n",
      "    `last_window` columns    : ['l1', 'l2']\n",
      "    `series` columns X train : ['l2'] \n",
      " You can suppress this warning using: warnings.simplefilter('ignore', category=IgnoredArgumentWarning)\n",
      "  warnings.warn(\n",
      "c:\\Users\\jaesc2\\GitHub\\skforecast\\skforecast\\utils\\utils.py:696: IgnoredArgumentWarning: `last_window` contains columns that are not used to create the X_train matrix. These columns will be ignored.\n",
      "    `last_window` columns    : ['l1', 'l2']\n",
      "    `series` columns X train : ['l2'] \n",
      " You can suppress this warning using: warnings.simplefilter('ignore', category=IgnoredArgumentWarning)\n",
      "  warnings.warn(\n",
      "c:\\Users\\jaesc2\\GitHub\\skforecast\\skforecast\\utils\\utils.py:696: IgnoredArgumentWarning: `last_window` contains columns that are not used to create the X_train matrix. These columns will be ignored.\n",
      "    `last_window` columns    : ['l1', 'l2']\n",
      "    `series` columns X train : ['l2'] \n",
      " You can suppress this warning using: warnings.simplefilter('ignore', category=IgnoredArgumentWarning)\n",
      "  warnings.warn(\n",
      "c:\\Users\\jaesc2\\GitHub\\skforecast\\skforecast\\utils\\utils.py:696: IgnoredArgumentWarning: `last_window` contains columns that are not used to create the X_train matrix. These columns will be ignored.\n",
      "    `last_window` columns    : ['l1', 'l2']\n",
      "    `series` columns X train : ['l2'] \n",
      " You can suppress this warning using: warnings.simplefilter('ignore', category=IgnoredArgumentWarning)\n",
      "  warnings.warn(\n",
      "c:\\Users\\jaesc2\\GitHub\\skforecast\\skforecast\\utils\\utils.py:696: IgnoredArgumentWarning: `last_window` contains columns that are not used to create the X_train matrix. These columns will be ignored.\n",
      "    `last_window` columns    : ['l1', 'l2']\n",
      "    `series` columns X train : ['l2'] \n",
      " You can suppress this warning using: warnings.simplefilter('ignore', category=IgnoredArgumentWarning)\n",
      "  warnings.warn(\n"
     ]
    }
   ],
   "source": [
    "from skforecast.model_selection_multiseries.model_selection_multiseries import _evaluate_grid_hyperparameters_multiseries\n",
    "\n",
    "results = _evaluate_grid_hyperparameters_multiseries(\n",
    "                  forecaster         = forecaster,\n",
    "                  series             = series,\n",
    "                  param_grid         = param_grid,\n",
    "                  steps              = steps,\n",
    "                  metric             = mean_absolute_error,\n",
    "                  initial_train_size = len(series) - n_validation,\n",
    "                  fixed_train_size   = False,\n",
    "                  levels             = None,\n",
    "                  exog               = None,\n",
    "                  lags_grid          = lags_grid,\n",
    "                  refit              = False,\n",
    "                  return_best        = False,\n",
    "                  verbose            = False\n",
    "              )"
   ]
  },
  {
   "cell_type": "code",
   "execution_count": 35,
   "metadata": {},
   "outputs": [
    {
     "data": {
      "text/html": [
       "<div>\n",
       "<style scoped>\n",
       "    .dataframe tbody tr th:only-of-type {\n",
       "        vertical-align: middle;\n",
       "    }\n",
       "\n",
       "    .dataframe tbody tr th {\n",
       "        vertical-align: top;\n",
       "    }\n",
       "\n",
       "    .dataframe thead th {\n",
       "        text-align: right;\n",
       "    }\n",
       "</style>\n",
       "<table border=\"1\" class=\"dataframe\">\n",
       "  <thead>\n",
       "    <tr style=\"text-align: right;\">\n",
       "      <th></th>\n",
       "      <th>levels</th>\n",
       "      <th>lags</th>\n",
       "      <th>lags_label</th>\n",
       "      <th>params</th>\n",
       "      <th>mean_absolute_error</th>\n",
       "      <th>alpha</th>\n",
       "    </tr>\n",
       "  </thead>\n",
       "  <tbody>\n",
       "    <tr>\n",
       "      <th>9</th>\n",
       "      <td>[l1]</td>\n",
       "      <td>{'l1': [1, 2], 'l2': None}</td>\n",
       "      <td>lags_4</td>\n",
       "      <td>{'alpha': 0.01}</td>\n",
       "      <td>0.201553</td>\n",
       "      <td>0.01</td>\n",
       "    </tr>\n",
       "    <tr>\n",
       "      <th>10</th>\n",
       "      <td>[l1]</td>\n",
       "      <td>{'l1': [1, 2], 'l2': None}</td>\n",
       "      <td>lags_4</td>\n",
       "      <td>{'alpha': 0.1}</td>\n",
       "      <td>0.202082</td>\n",
       "      <td>0.10</td>\n",
       "    </tr>\n",
       "    <tr>\n",
       "      <th>11</th>\n",
       "      <td>[l1]</td>\n",
       "      <td>{'l1': [1, 2], 'l2': None}</td>\n",
       "      <td>lags_4</td>\n",
       "      <td>{'alpha': 1}</td>\n",
       "      <td>0.205161</td>\n",
       "      <td>1.00</td>\n",
       "    </tr>\n",
       "    <tr>\n",
       "      <th>0</th>\n",
       "      <td>[l1]</td>\n",
       "      <td>{'l1': [1, 2], 'l2': [1, 2, 3]}</td>\n",
       "      <td>lags_1</td>\n",
       "      <td>{'alpha': 0.01}</td>\n",
       "      <td>0.205320</td>\n",
       "      <td>0.01</td>\n",
       "    </tr>\n",
       "    <tr>\n",
       "      <th>1</th>\n",
       "      <td>[l1]</td>\n",
       "      <td>{'l1': [1, 2], 'l2': [1, 2, 3]}</td>\n",
       "      <td>lags_1</td>\n",
       "      <td>{'alpha': 0.1}</td>\n",
       "      <td>0.205552</td>\n",
       "      <td>0.10</td>\n",
       "    </tr>\n",
       "    <tr>\n",
       "      <th>2</th>\n",
       "      <td>[l1]</td>\n",
       "      <td>{'l1': [1, 2], 'l2': [1, 2, 3]}</td>\n",
       "      <td>lags_1</td>\n",
       "      <td>{'alpha': 1}</td>\n",
       "      <td>0.206778</td>\n",
       "      <td>1.00</td>\n",
       "    </tr>\n",
       "    <tr>\n",
       "      <th>12</th>\n",
       "      <td>[l1]</td>\n",
       "      <td>{'l1': None, 'l2': [1, 2]}</td>\n",
       "      <td>lags_5</td>\n",
       "      <td>{'alpha': 0.01}</td>\n",
       "      <td>0.210052</td>\n",
       "      <td>0.01</td>\n",
       "    </tr>\n",
       "    <tr>\n",
       "      <th>13</th>\n",
       "      <td>[l1]</td>\n",
       "      <td>{'l1': None, 'l2': [1, 2]}</td>\n",
       "      <td>lags_5</td>\n",
       "      <td>{'alpha': 0.1}</td>\n",
       "      <td>0.210075</td>\n",
       "      <td>0.10</td>\n",
       "    </tr>\n",
       "    <tr>\n",
       "      <th>14</th>\n",
       "      <td>[l1]</td>\n",
       "      <td>{'l1': None, 'l2': [1, 2]}</td>\n",
       "      <td>lags_5</td>\n",
       "      <td>{'alpha': 1}</td>\n",
       "      <td>0.210719</td>\n",
       "      <td>1.00</td>\n",
       "    </tr>\n",
       "    <tr>\n",
       "      <th>17</th>\n",
       "      <td>[l1]</td>\n",
       "      <td>[1, 2, 3]</td>\n",
       "      <td>lags_6</td>\n",
       "      <td>{'alpha': 1}</td>\n",
       "      <td>0.213537</td>\n",
       "      <td>1.00</td>\n",
       "    </tr>\n",
       "    <tr>\n",
       "      <th>5</th>\n",
       "      <td>[l1]</td>\n",
       "      <td>{'l1': [1, 3], 'l2': [1, 2, 3]}</td>\n",
       "      <td>lags_2</td>\n",
       "      <td>{'alpha': 1}</td>\n",
       "      <td>0.214436</td>\n",
       "      <td>1.00</td>\n",
       "    </tr>\n",
       "    <tr>\n",
       "      <th>16</th>\n",
       "      <td>[l1]</td>\n",
       "      <td>[1, 2, 3]</td>\n",
       "      <td>lags_6</td>\n",
       "      <td>{'alpha': 0.1}</td>\n",
       "      <td>0.216228</td>\n",
       "      <td>0.10</td>\n",
       "    </tr>\n",
       "    <tr>\n",
       "      <th>15</th>\n",
       "      <td>[l1]</td>\n",
       "      <td>[1, 2, 3]</td>\n",
       "      <td>lags_6</td>\n",
       "      <td>{'alpha': 0.01}</td>\n",
       "      <td>0.216700</td>\n",
       "      <td>0.01</td>\n",
       "    </tr>\n",
       "    <tr>\n",
       "      <th>4</th>\n",
       "      <td>[l1]</td>\n",
       "      <td>{'l1': [1, 3], 'l2': [1, 2, 3]}</td>\n",
       "      <td>lags_2</td>\n",
       "      <td>{'alpha': 0.1}</td>\n",
       "      <td>0.218011</td>\n",
       "      <td>0.10</td>\n",
       "    </tr>\n",
       "    <tr>\n",
       "      <th>3</th>\n",
       "      <td>[l1]</td>\n",
       "      <td>{'l1': [1, 3], 'l2': [1, 2, 3]}</td>\n",
       "      <td>lags_2</td>\n",
       "      <td>{'alpha': 0.01}</td>\n",
       "      <td>0.218640</td>\n",
       "      <td>0.01</td>\n",
       "    </tr>\n",
       "    <tr>\n",
       "      <th>8</th>\n",
       "      <td>[l1]</td>\n",
       "      <td>{'l1': [1, 2], 'l2': [1, 4]}</td>\n",
       "      <td>lags_3</td>\n",
       "      <td>{'alpha': 1}</td>\n",
       "      <td>0.224015</td>\n",
       "      <td>1.00</td>\n",
       "    </tr>\n",
       "    <tr>\n",
       "      <th>7</th>\n",
       "      <td>[l1]</td>\n",
       "      <td>{'l1': [1, 2], 'l2': [1, 4]}</td>\n",
       "      <td>lags_3</td>\n",
       "      <td>{'alpha': 0.1}</td>\n",
       "      <td>0.228302</td>\n",
       "      <td>0.10</td>\n",
       "    </tr>\n",
       "    <tr>\n",
       "      <th>6</th>\n",
       "      <td>[l1]</td>\n",
       "      <td>{'l1': [1, 2], 'l2': [1, 4]}</td>\n",
       "      <td>lags_3</td>\n",
       "      <td>{'alpha': 0.01}</td>\n",
       "      <td>0.228781</td>\n",
       "      <td>0.01</td>\n",
       "    </tr>\n",
       "  </tbody>\n",
       "</table>\n",
       "</div>"
      ],
      "text/plain": [
       "   levels                             lags  ... mean_absolute_error alpha\n",
       "9    [l1]       {'l1': [1, 2], 'l2': None}  ...            0.201553  0.01\n",
       "10   [l1]       {'l1': [1, 2], 'l2': None}  ...            0.202082  0.10\n",
       "11   [l1]       {'l1': [1, 2], 'l2': None}  ...            0.205161  1.00\n",
       "0    [l1]  {'l1': [1, 2], 'l2': [1, 2, 3]}  ...            0.205320  0.01\n",
       "1    [l1]  {'l1': [1, 2], 'l2': [1, 2, 3]}  ...            0.205552  0.10\n",
       "2    [l1]  {'l1': [1, 2], 'l2': [1, 2, 3]}  ...            0.206778  1.00\n",
       "12   [l1]       {'l1': None, 'l2': [1, 2]}  ...            0.210052  0.01\n",
       "13   [l1]       {'l1': None, 'l2': [1, 2]}  ...            0.210075  0.10\n",
       "14   [l1]       {'l1': None, 'l2': [1, 2]}  ...            0.210719  1.00\n",
       "17   [l1]                        [1, 2, 3]  ...            0.213537  1.00\n",
       "5    [l1]  {'l1': [1, 3], 'l2': [1, 2, 3]}  ...            0.214436  1.00\n",
       "16   [l1]                        [1, 2, 3]  ...            0.216228  0.10\n",
       "15   [l1]                        [1, 2, 3]  ...            0.216700  0.01\n",
       "4    [l1]  {'l1': [1, 3], 'l2': [1, 2, 3]}  ...            0.218011  0.10\n",
       "3    [l1]  {'l1': [1, 3], 'l2': [1, 2, 3]}  ...            0.218640  0.01\n",
       "8    [l1]     {'l1': [1, 2], 'l2': [1, 4]}  ...            0.224015  1.00\n",
       "7    [l1]     {'l1': [1, 2], 'l2': [1, 4]}  ...            0.228302  0.10\n",
       "6    [l1]     {'l1': [1, 2], 'l2': [1, 4]}  ...            0.228781  0.01\n",
       "\n",
       "[18 rows x 6 columns]"
      ]
     },
     "execution_count": 35,
     "metadata": {},
     "output_type": "execute_result"
    }
   ],
   "source": [
    "results"
   ]
  },
  {
   "cell_type": "code",
   "execution_count": 38,
   "metadata": {},
   "outputs": [
    {
     "data": {
      "text/plain": [
       "array([0.20155258, 0.20208154, 0.20516149, 0.2053202 , 0.20555199,\n",
       "       0.20677802, 0.21005165, 0.21007475, 0.21071924, 0.21353688,\n",
       "       0.21443621, 0.21622784, 0.2166998 , 0.21801147, 0.21863968,\n",
       "       0.22401526, 0.22830217, 0.22878132])"
      ]
     },
     "execution_count": 38,
     "metadata": {},
     "output_type": "execute_result"
    }
   ],
   "source": [
    "results['mean_absolute_error'].to_numpy()"
   ]
  },
  {
   "cell_type": "code",
   "execution_count": 37,
   "metadata": {},
   "outputs": [
    {
     "data": {
      "text/plain": [
       "Index([9, 10, 11, 0, 1, 2, 12, 13, 14, 17, 5, 16, 15, 4, 3, 8, 7, 6], dtype='int64')"
      ]
     },
     "execution_count": 37,
     "metadata": {},
     "output_type": "execute_result"
    }
   ],
   "source": [
    "results.index"
   ]
  },
  {
   "cell_type": "code",
   "execution_count": null,
   "metadata": {},
   "outputs": [],
   "source": []
  }
 ],
 "metadata": {
  "kernelspec": {
   "display_name": "skforecast_py10",
   "language": "python",
   "name": "python3"
  },
  "language_info": {
   "codemirror_mode": {
    "name": "ipython",
    "version": 3
   },
   "file_extension": ".py",
   "mimetype": "text/x-python",
   "name": "python",
   "nbconvert_exporter": "python",
   "pygments_lexer": "ipython3",
   "version": "3.11.5"
  },
  "orig_nbformat": 4,
  "vscode": {
   "interpreter": {
    "hash": "c78d62c1713fdacd99ef7c429003c7324b36fbb551fb8b6860a7ea73e9338235"
   }
  }
 },
 "nbformat": 4,
 "nbformat_minor": 2
}
