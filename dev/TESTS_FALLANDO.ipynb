{
 "cells": [
  {
   "cell_type": "code",
   "execution_count": 1,
   "metadata": {},
   "outputs": [
    {
     "name": "stdout",
     "output_type": "stream",
     "text": [
      "c:\\Users\\jaesc2\\GitHub\\skforecast\n"
     ]
    }
   ],
   "source": [
    "%load_ext autoreload\n",
    "%autoreload 2\n",
    "import sys\n",
    "from pathlib import Path\n",
    "path = str(Path.cwd().parent)\n",
    "print(path)\n",
    "sys.path.insert(1, path)"
   ]
  },
  {
   "cell_type": "code",
   "execution_count": 2,
   "metadata": {},
   "outputs": [
    {
     "name": "stderr",
     "output_type": "stream",
     "text": [
      "c:\\Users\\jaesc2\\Miniconda3\\envs\\skforecast_py11_2\\Lib\\site-packages\\tqdm\\auto.py:21: TqdmWarning: IProgress not found. Please update jupyter and ipywidgets. See https://ipywidgets.readthedocs.io/en/stable/user_install.html\n",
      "  from .autonotebook import tqdm as notebook_tqdm\n"
     ]
    }
   ],
   "source": [
    "import re\n",
    "import pytest\n",
    "import numpy as np\n",
    "import pandas as pd\n",
    "from sklearn.linear_model import LinearRegression\n",
    "from sklearn.linear_model import Ridge\n",
    "from sklearn.metrics import mean_squared_error\n",
    "from skforecast.recursive import ForecasterRecursive\n",
    "from skforecast.direct import ForecasterDirect\n",
    "from skforecast.model_selection._split import TimeSeriesFold\n",
    "from skforecast.model_selection._validation import _backtesting_forecaster\n",
    "from skforecast.preprocessing import RollingFeatures\n",
    "\n",
    "# Fixtures\n",
    "from skforecast.exceptions import IgnoredArgumentWarning\n",
    "from skforecast.model_selection.tests.fixtures_model_selection import y\n",
    "from skforecast.model_selection.tests.fixtures_model_selection import exog\n",
    "from skforecast.model_selection.tests.fixtures_model_selection import out_sample_residuals"
   ]
  },
  {
   "cell_type": "code",
   "execution_count": 3,
   "metadata": {},
   "outputs": [
    {
     "name": "stdout",
     "output_type": "stream",
     "text": [
      "1.26.4\n",
      "2.2.3\n",
      "0.14.0\n"
     ]
    }
   ],
   "source": [
    "print(np.__version__)\n",
    "print(pd.__version__)\n",
    "import skforecast\n",
    "print(skforecast.__version__)"
   ]
  },
  {
   "cell_type": "code",
   "execution_count": 5,
   "metadata": {},
   "outputs": [
    {
     "name": "stderr",
     "output_type": "stream",
     "text": [
      "100%|██████████| 3/3 [00:00<00:00, 249.78it/s]\n"
     ]
    },
    {
     "ename": "AssertionError",
     "evalue": "DataFrame.iloc[:, 0] (column name=\"mean_squared_error\") are different\n\nDataFrame.iloc[:, 0] (column name=\"mean_squared_error\") values are different (100.0 %)\n[index]: [0]\n[left]:  [0.11240154357887522]\n[right]: [0.10712193574869683]\nAt positional index 0, first diff: 0.11240154357887522 != 0.10712193574869683",
     "output_type": "error",
     "traceback": [
      "\u001b[1;31m---------------------------------------------------------------------------\u001b[0m",
      "\u001b[1;31mAssertionError\u001b[0m                            Traceback (most recent call last)",
      "Cell \u001b[1;32mIn[5], line 46\u001b[0m\n\u001b[0;32m     25\u001b[0m cv \u001b[38;5;241m=\u001b[39m TimeSeriesFold(\n\u001b[0;32m     26\u001b[0m         steps                 \u001b[38;5;241m=\u001b[39m \u001b[38;5;241m4\u001b[39m,\n\u001b[0;32m     27\u001b[0m         initial_train_size    \u001b[38;5;241m=\u001b[39m \u001b[38;5;28mlen\u001b[39m(y_train),\n\u001b[1;32m   (...)\u001b[0m\n\u001b[0;32m     35\u001b[0m         return_all_indexes    \u001b[38;5;241m=\u001b[39m \u001b[38;5;28;01mFalse\u001b[39;00m,\n\u001b[0;32m     36\u001b[0m     )\n\u001b[0;32m     37\u001b[0m metric, backtest_predictions \u001b[38;5;241m=\u001b[39m _backtesting_forecaster(\n\u001b[0;32m     38\u001b[0m                                     forecaster \u001b[38;5;241m=\u001b[39m forecaster,\n\u001b[0;32m     39\u001b[0m                                     y          \u001b[38;5;241m=\u001b[39m y,\n\u001b[1;32m   (...)\u001b[0m\n\u001b[0;32m     43\u001b[0m                                     verbose    \u001b[38;5;241m=\u001b[39m \u001b[38;5;28;01mFalse\u001b[39;00m\n\u001b[0;32m     44\u001b[0m                                 )\n\u001b[1;32m---> 46\u001b[0m \u001b[43mpd\u001b[49m\u001b[38;5;241;43m.\u001b[39;49m\u001b[43mtesting\u001b[49m\u001b[38;5;241;43m.\u001b[39;49m\u001b[43massert_frame_equal\u001b[49m\u001b[43m(\u001b[49m\u001b[43mexpected_metric\u001b[49m\u001b[43m,\u001b[49m\u001b[43m \u001b[49m\u001b[43mmetric\u001b[49m\u001b[43m)\u001b[49m\n\u001b[0;32m     47\u001b[0m pd\u001b[38;5;241m.\u001b[39mtesting\u001b[38;5;241m.\u001b[39massert_frame_equal(expected_predictions, backtest_predictions)\n",
      "    \u001b[1;31m[... skipping hidden 2 frame]\u001b[0m\n",
      "File \u001b[1;32mtesting.pyx:55\u001b[0m, in \u001b[0;36mpandas._libs.testing.assert_almost_equal\u001b[1;34m()\u001b[0m\n",
      "File \u001b[1;32mtesting.pyx:173\u001b[0m, in \u001b[0;36mpandas._libs.testing.assert_almost_equal\u001b[1;34m()\u001b[0m\n",
      "File \u001b[1;32mc:\\Users\\jaesc2\\Miniconda3\\envs\\skforecast_py11_2\\Lib\\site-packages\\pandas\\_testing\\asserters.py:614\u001b[0m, in \u001b[0;36mraise_assert_detail\u001b[1;34m(obj, message, left, right, diff, first_diff, index_values)\u001b[0m\n\u001b[0;32m    611\u001b[0m \u001b[38;5;28;01mif\u001b[39;00m first_diff \u001b[38;5;129;01mis\u001b[39;00m \u001b[38;5;129;01mnot\u001b[39;00m \u001b[38;5;28;01mNone\u001b[39;00m:\n\u001b[0;32m    612\u001b[0m     msg \u001b[38;5;241m+\u001b[39m\u001b[38;5;241m=\u001b[39m \u001b[38;5;124mf\u001b[39m\u001b[38;5;124m\"\u001b[39m\u001b[38;5;130;01m\\n\u001b[39;00m\u001b[38;5;132;01m{\u001b[39;00mfirst_diff\u001b[38;5;132;01m}\u001b[39;00m\u001b[38;5;124m\"\u001b[39m\n\u001b[1;32m--> 614\u001b[0m \u001b[38;5;28;01mraise\u001b[39;00m \u001b[38;5;167;01mAssertionError\u001b[39;00m(msg)\n",
      "\u001b[1;31mAssertionError\u001b[0m: DataFrame.iloc[:, 0] (column name=\"mean_squared_error\") are different\n\nDataFrame.iloc[:, 0] (column name=\"mean_squared_error\") values are different (100.0 %)\n[index]: [0]\n[left]:  [0.11240154357887522]\n[right]: [0.10712193574869683]\nAt positional index 0, first diff: 0.11240154357887522 != 0.10712193574869683"
     ]
    }
   ],
   "source": [
    "expected_metric = pd.DataFrame({\"mean_squared_error\": [0.11240154357887522]})\n",
    "expected_predictions = pd.DataFrame(\n",
    "    {\n",
    "        \"pred\": np.array(\n",
    "            [\n",
    "                0.37189345, 0.24877906, 0.33164618, 0.49643827, 0.40030688,\n",
    "                0.42947433, 0.4592766 , 0.55463757, 0.30374867, 0.32671601,\n",
    "                0.56153282, 0.55311912\n",
    "            ]\n",
    "        )\n",
    "    },\n",
    "    index=pd.RangeIndex(start=38, stop=50, step=1),\n",
    ")\n",
    "\n",
    "window_features = RollingFeatures(\n",
    "    stats = ['mean', 'min', 'max', 'sum', 'median', 'ratio_min_max'],\n",
    "    window_sizes = 3,\n",
    ")\n",
    "forecaster = ForecasterRecursive(\n",
    "    regressor=LinearRegression(), lags=3, window_features=window_features\n",
    ")\n",
    "\n",
    "n_backtest = 12\n",
    "y_train = y[:-n_backtest]\n",
    "cv = TimeSeriesFold(\n",
    "        steps                 = 4,\n",
    "        initial_train_size    = len(y_train),\n",
    "        window_size           = None,\n",
    "        differentiation       = None,\n",
    "        refit                 = True,\n",
    "        fixed_train_size      = False,\n",
    "        gap                   = 0,\n",
    "        skip_folds            = None,\n",
    "        allow_incomplete_fold = True,\n",
    "        return_all_indexes    = False,\n",
    "    )\n",
    "metric, backtest_predictions = _backtesting_forecaster(\n",
    "                                    forecaster = forecaster,\n",
    "                                    y          = y,\n",
    "                                    exog       = exog,\n",
    "                                    cv         = cv,\n",
    "                                    metric     = 'mean_squared_error',\n",
    "                                    verbose    = False\n",
    "                                )\n",
    "\n",
    "pd.testing.assert_frame_equal(expected_metric, metric)\n",
    "pd.testing.assert_frame_equal(expected_predictions, backtest_predictions)"
   ]
  },
  {
   "cell_type": "code",
   "execution_count": 7,
   "metadata": {},
   "outputs": [
    {
     "data": {
      "text/plain": [
       "array([0.37683092, 0.27485253, 0.35459493, 0.50933738, 0.40740455,\n",
       "       0.44359783, 0.47699345, 0.53865623, 0.30365329, 0.34961539,\n",
       "       0.5671574 , 0.56751209])"
      ]
     },
     "execution_count": 7,
     "metadata": {},
     "output_type": "execute_result"
    }
   ],
   "source": [
    "backtest_predictions.to_numpy().flatten()"
   ]
  },
  {
   "cell_type": "code",
   "execution_count": 8,
   "metadata": {},
   "outputs": [
    {
     "name": "stderr",
     "output_type": "stream",
     "text": [
      "100%|██████████| 3/3 [00:00<00:00, 97.46it/s]\n"
     ]
    },
    {
     "ename": "AssertionError",
     "evalue": "DataFrame.iloc[:, 0] (column name=\"mean_squared_error\") are different\n\nDataFrame.iloc[:, 0] (column name=\"mean_squared_error\") values are different (100.0 %)\n[index]: [0]\n[left]:  [0.11337407]\n[right]: [0.10447263857902568]\nAt positional index 0, first diff: 0.11337407 != 0.10447263857902568",
     "output_type": "error",
     "traceback": [
      "\u001b[1;31m---------------------------------------------------------------------------\u001b[0m",
      "\u001b[1;31mAssertionError\u001b[0m                            Traceback (most recent call last)",
      "Cell \u001b[1;32mIn[8], line 46\u001b[0m\n\u001b[0;32m     25\u001b[0m cv \u001b[38;5;241m=\u001b[39m TimeSeriesFold(\n\u001b[0;32m     26\u001b[0m         steps                 \u001b[38;5;241m=\u001b[39m \u001b[38;5;241m4\u001b[39m,\n\u001b[0;32m     27\u001b[0m         initial_train_size    \u001b[38;5;241m=\u001b[39m \u001b[38;5;28mlen\u001b[39m(y_train),\n\u001b[1;32m   (...)\u001b[0m\n\u001b[0;32m     35\u001b[0m         return_all_indexes    \u001b[38;5;241m=\u001b[39m \u001b[38;5;28;01mFalse\u001b[39;00m,\n\u001b[0;32m     36\u001b[0m     )\n\u001b[0;32m     37\u001b[0m metric, backtest_predictions \u001b[38;5;241m=\u001b[39m _backtesting_forecaster(\n\u001b[0;32m     38\u001b[0m                                     forecaster \u001b[38;5;241m=\u001b[39m forecaster,\n\u001b[0;32m     39\u001b[0m                                     y          \u001b[38;5;241m=\u001b[39m y,\n\u001b[1;32m   (...)\u001b[0m\n\u001b[0;32m     43\u001b[0m                                     verbose    \u001b[38;5;241m=\u001b[39m \u001b[38;5;28;01mFalse\u001b[39;00m\n\u001b[0;32m     44\u001b[0m                                 )\n\u001b[1;32m---> 46\u001b[0m \u001b[43mpd\u001b[49m\u001b[38;5;241;43m.\u001b[39;49m\u001b[43mtesting\u001b[49m\u001b[38;5;241;43m.\u001b[39;49m\u001b[43massert_frame_equal\u001b[49m\u001b[43m(\u001b[49m\u001b[43mexpected_metric\u001b[49m\u001b[43m,\u001b[49m\u001b[43m \u001b[49m\u001b[43mmetric\u001b[49m\u001b[43m)\u001b[49m\n\u001b[0;32m     47\u001b[0m pd\u001b[38;5;241m.\u001b[39mtesting\u001b[38;5;241m.\u001b[39massert_frame_equal(expected_predictions, backtest_predictions)\n",
      "    \u001b[1;31m[... skipping hidden 2 frame]\u001b[0m\n",
      "File \u001b[1;32mtesting.pyx:55\u001b[0m, in \u001b[0;36mpandas._libs.testing.assert_almost_equal\u001b[1;34m()\u001b[0m\n",
      "File \u001b[1;32mtesting.pyx:173\u001b[0m, in \u001b[0;36mpandas._libs.testing.assert_almost_equal\u001b[1;34m()\u001b[0m\n",
      "File \u001b[1;32mc:\\Users\\jaesc2\\Miniconda3\\envs\\skforecast_py11_2\\Lib\\site-packages\\pandas\\_testing\\asserters.py:614\u001b[0m, in \u001b[0;36mraise_assert_detail\u001b[1;34m(obj, message, left, right, diff, first_diff, index_values)\u001b[0m\n\u001b[0;32m    611\u001b[0m \u001b[38;5;28;01mif\u001b[39;00m first_diff \u001b[38;5;129;01mis\u001b[39;00m \u001b[38;5;129;01mnot\u001b[39;00m \u001b[38;5;28;01mNone\u001b[39;00m:\n\u001b[0;32m    612\u001b[0m     msg \u001b[38;5;241m+\u001b[39m\u001b[38;5;241m=\u001b[39m \u001b[38;5;124mf\u001b[39m\u001b[38;5;124m\"\u001b[39m\u001b[38;5;130;01m\\n\u001b[39;00m\u001b[38;5;132;01m{\u001b[39;00mfirst_diff\u001b[38;5;132;01m}\u001b[39;00m\u001b[38;5;124m\"\u001b[39m\n\u001b[1;32m--> 614\u001b[0m \u001b[38;5;28;01mraise\u001b[39;00m \u001b[38;5;167;01mAssertionError\u001b[39;00m(msg)\n",
      "\u001b[1;31mAssertionError\u001b[0m: DataFrame.iloc[:, 0] (column name=\"mean_squared_error\") are different\n\nDataFrame.iloc[:, 0] (column name=\"mean_squared_error\") values are different (100.0 %)\n[index]: [0]\n[left]:  [0.11337407]\n[right]: [0.10447263857902568]\nAt positional index 0, first diff: 0.11337407 != 0.10447263857902568"
     ]
    }
   ],
   "source": [
    "expected_metric = pd.DataFrame({\"mean_squared_error\": [0.11337407]})\n",
    "expected_predictions = pd.DataFrame(\n",
    "    {\n",
    "        \"pred\": np.array(\n",
    "            [\n",
    "                0.31478125, 0.45940314, 0.85744121, 0.67976412, 0.38085263,\n",
    "                0.56357911, 0.35567212, 0.4493073 , 0.35493806, 0.53589892,\n",
    "                0.73060039, 0.60025524\n",
    "            ]\n",
    "        )\n",
    "    },\n",
    "    index=pd.RangeIndex(start=38, stop=50, step=1),\n",
    ")\n",
    "\n",
    "window_features = RollingFeatures(\n",
    "    stats = ['mean', 'min', 'max', 'sum', 'median', 'ratio_min_max'],\n",
    "    window_sizes = 3,\n",
    ")\n",
    "forecaster = ForecasterDirect(\n",
    "    regressor=LinearRegression(), steps=4, lags=3, window_features=window_features\n",
    ")\n",
    "\n",
    "n_backtest = 12\n",
    "y_train = y[:-n_backtest]\n",
    "cv = TimeSeriesFold(\n",
    "        steps                 = 4,\n",
    "        initial_train_size    = len(y_train),\n",
    "        window_size           = None,\n",
    "        differentiation       = None,\n",
    "        refit                 = True,\n",
    "        fixed_train_size      = False,\n",
    "        gap                   = 0,\n",
    "        skip_folds            = None,\n",
    "        allow_incomplete_fold = True,\n",
    "        return_all_indexes    = False,\n",
    "    )\n",
    "metric, backtest_predictions = _backtesting_forecaster(\n",
    "                                    forecaster = forecaster,\n",
    "                                    y          = y,\n",
    "                                    exog       = exog,\n",
    "                                    cv         = cv,\n",
    "                                    metric     = 'mean_squared_error',\n",
    "                                    verbose    = False\n",
    "                                )\n",
    "\n",
    "pd.testing.assert_frame_equal(expected_metric, metric)\n",
    "pd.testing.assert_frame_equal(expected_predictions, backtest_predictions)"
   ]
  },
  {
   "cell_type": "code",
   "execution_count": 9,
   "metadata": {},
   "outputs": [
    {
     "data": {
      "text/plain": [
       "array([0.32372783, 0.43458024, 0.77238875, 0.60657529, 0.37897279,\n",
       "       0.542262  , 0.31403908, 0.37007796, 0.35614498, 0.51622723,\n",
       "       0.67746181, 0.59161821])"
      ]
     },
     "execution_count": 9,
     "metadata": {},
     "output_type": "execute_result"
    }
   ],
   "source": [
    "backtest_predictions.to_numpy().flatten()"
   ]
  },
  {
   "cell_type": "code",
   "execution_count": null,
   "metadata": {},
   "outputs": [],
   "source": []
  }
 ],
 "metadata": {
  "kernelspec": {
   "display_name": "skforecast_py11_2",
   "language": "python",
   "name": "python3"
  },
  "language_info": {
   "codemirror_mode": {
    "name": "ipython",
    "version": 3
   },
   "file_extension": ".py",
   "mimetype": "text/x-python",
   "name": "python",
   "nbconvert_exporter": "python",
   "pygments_lexer": "ipython3",
   "version": "3.11.10"
  },
  "orig_nbformat": 4
 },
 "nbformat": 4,
 "nbformat_minor": 2
}
