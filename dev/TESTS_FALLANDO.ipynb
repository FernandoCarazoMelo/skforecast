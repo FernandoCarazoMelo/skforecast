{
 "cells": [
  {
   "cell_type": "code",
   "execution_count": 14,
   "metadata": {},
   "outputs": [
    {
     "name": "stdout",
     "output_type": "stream",
     "text": [
      "The autoreload extension is already loaded. To reload it, use:\n",
      "  %reload_ext autoreload\n",
      "c:\\Users\\jaesc2\\GitHub\\skforecast\n"
     ]
    }
   ],
   "source": [
    "%load_ext autoreload\n",
    "%autoreload 2\n",
    "import sys\n",
    "from pathlib import Path\n",
    "path = str(Path.cwd().parent)\n",
    "print(path)\n",
    "sys.path.insert(1, path)"
   ]
  },
  {
   "cell_type": "code",
   "execution_count": 15,
   "metadata": {},
   "outputs": [],
   "source": [
    "import re\n",
    "import pytest\n",
    "import numpy as np\n",
    "import pandas as pd\n",
    "from sklearn.linear_model import LinearRegression\n",
    "from sklearn.linear_model import Ridge\n",
    "from sklearn.metrics import mean_squared_error, mean_absolute_error\n",
    "from skforecast.recursive import ForecasterRecursive\n",
    "from skforecast.direct import ForecasterDirect\n",
    "from skforecast.model_selection._split import TimeSeriesFold\n",
    "from skforecast.model_selection._validation import _backtesting_forecaster\n",
    "from skforecast.preprocessing import RollingFeatures\n",
    "\n",
    "# Fixtures\n",
    "from skforecast.exceptions import IgnoredArgumentWarning\n",
    "from skforecast.model_selection.tests.fixtures_model_selection import y\n",
    "from skforecast.model_selection.tests.fixtures_model_selection import exog\n",
    "from skforecast.model_selection.tests.fixtures_model_selection import out_sample_residuals"
   ]
  },
  {
   "cell_type": "code",
   "execution_count": 16,
   "metadata": {},
   "outputs": [
    {
     "name": "stdout",
     "output_type": "stream",
     "text": [
      "1.26.4\n",
      "2.2.3\n",
      "0.14.0\n"
     ]
    }
   ],
   "source": [
    "print(np.__version__)\n",
    "print(pd.__version__)\n",
    "import skforecast\n",
    "print(skforecast.__version__)"
   ]
  },
  {
   "cell_type": "code",
   "execution_count": 20,
   "metadata": {},
   "outputs": [
    {
     "name": "stderr",
     "output_type": "stream",
     "text": [
      "100%|██████████| 3/3 [00:00<00:00, 124.48it/s]\n"
     ]
    }
   ],
   "source": [
    "expected_metric = pd.DataFrame({\"mean_absolute_error\": [0.2635147997223325]})\n",
    "expected_predictions = pd.DataFrame(\n",
    "    {\n",
    "        \"pred\": np.array(\n",
    "            [\n",
    "                0.37683092, 0.27485253, 0.35459493, 0.50933738, 0.40740455,\n",
    "                0.44359783, 0.47699345, 0.53865623, 0.30365329, 0.34961539,\n",
    "                0.5671574 , 0.56751209\n",
    "            ]\n",
    "        )\n",
    "    },\n",
    "    index=pd.RangeIndex(start=38, stop=50, step=1),\n",
    ")\n",
    "\n",
    "window_features = RollingFeatures(\n",
    "    stats = ['mean', 'min', 'max', 'sum', 'median', 'ratio_min_max'],\n",
    "    window_sizes = 3,\n",
    ")\n",
    "forecaster = ForecasterRecursive(\n",
    "    regressor=LinearRegression(), lags=3, window_features=window_features\n",
    ")\n",
    "\n",
    "n_backtest = 12\n",
    "y_train = y[:-n_backtest]\n",
    "cv = TimeSeriesFold(\n",
    "        steps                 = 4,\n",
    "        initial_train_size    = len(y_train),\n",
    "        window_size           = None,\n",
    "        differentiation       = None,\n",
    "        refit                 = True,\n",
    "        fixed_train_size      = False,\n",
    "        gap                   = 0,\n",
    "        skip_folds            = None,\n",
    "        allow_incomplete_fold = True,\n",
    "        return_all_indexes    = False,\n",
    "    )\n",
    "metric, backtest_predictions = _backtesting_forecaster(\n",
    "                                    forecaster = forecaster,\n",
    "                                    y          = y,\n",
    "                                    exog       = exog,\n",
    "                                    cv         = cv,\n",
    "                                    metric     = 'mean_absolute_error',\n",
    "                                    verbose    = False\n",
    "                                )\n",
    "\n",
    "pd.testing.assert_frame_equal(expected_metric, metric)\n",
    "pd.testing.assert_frame_equal(expected_predictions, backtest_predictions)"
   ]
  },
  {
   "cell_type": "code",
   "execution_count": 22,
   "metadata": {},
   "outputs": [
    {
     "name": "stderr",
     "output_type": "stream",
     "text": [
      "100%|██████████| 3/3 [00:00<00:00, 97.30it/s]\n"
     ]
    }
   ],
   "source": [
    "expected_metric = pd.DataFrame({\"mean_absolute_error\": [0.24696432911619762]})\n",
    "expected_predictions = pd.DataFrame(\n",
    "    {\n",
    "        \"pred\": np.array(\n",
    "            [\n",
    "                0.32372783, 0.43458024, 0.77238875, 0.60657529, 0.37897279,\n",
    "                0.542262  , 0.31403908, 0.37007796, 0.35614498, 0.51622723,\n",
    "                0.67746181, 0.59161821\n",
    "            ]\n",
    "        )\n",
    "    },\n",
    "    index=pd.RangeIndex(start=38, stop=50, step=1),\n",
    ")\n",
    "\n",
    "window_features = RollingFeatures(\n",
    "    stats = ['mean', 'min', 'max', 'sum', 'median', 'ratio_min_max'],\n",
    "    window_sizes = 3,\n",
    ")\n",
    "forecaster = ForecasterDirect(\n",
    "    regressor=LinearRegression(), steps=4, lags=3, window_features=window_features\n",
    ")\n",
    "\n",
    "n_backtest = 12\n",
    "y_train = y[:-n_backtest]\n",
    "cv = TimeSeriesFold(\n",
    "        steps                 = 4,\n",
    "        initial_train_size    = len(y_train),\n",
    "        window_size           = None,\n",
    "        differentiation       = None,\n",
    "        refit                 = True,\n",
    "        fixed_train_size      = False,\n",
    "        gap                   = 0,\n",
    "        skip_folds            = None,\n",
    "        allow_incomplete_fold = True,\n",
    "        return_all_indexes    = False,\n",
    "    )\n",
    "metric, backtest_predictions = _backtesting_forecaster(\n",
    "                                    forecaster = forecaster,\n",
    "                                    y          = y,\n",
    "                                    exog       = exog,\n",
    "                                    cv         = cv,\n",
    "                                    metric     = 'mean_absolute_error',\n",
    "                                    verbose    = False\n",
    "                                )\n",
    "\n",
    "pd.testing.assert_frame_equal(expected_metric, metric)\n",
    "pd.testing.assert_frame_equal(expected_predictions, backtest_predictions)"
   ]
  },
  {
   "cell_type": "code",
   "execution_count": null,
   "metadata": {},
   "outputs": [],
   "source": []
  }
 ],
 "metadata": {
  "kernelspec": {
   "display_name": "skforecast_py11_2",
   "language": "python",
   "name": "python3"
  },
  "language_info": {
   "codemirror_mode": {
    "name": "ipython",
    "version": 3
   },
   "file_extension": ".py",
   "mimetype": "text/x-python",
   "name": "python",
   "nbconvert_exporter": "python",
   "pygments_lexer": "ipython3",
   "version": "3.11.10"
  },
  "orig_nbformat": 4
 },
 "nbformat": 4,
 "nbformat_minor": 2
}
