{
 "cells": [
  {
   "cell_type": "code",
   "execution_count": 11,
   "metadata": {},
   "outputs": [
    {
     "name": "stdout",
     "output_type": "stream",
     "text": [
      "The autoreload extension is already loaded. To reload it, use:\n",
      "  %reload_ext autoreload\n"
     ]
    },
    {
     "data": {
      "text/plain": [
       "'c:\\\\Users\\\\jaesc2\\\\GitHub\\\\skforecast'"
      ]
     },
     "execution_count": 11,
     "metadata": {},
     "output_type": "execute_result"
    }
   ],
   "source": [
    "%load_ext autoreload\n",
    "%autoreload 2\n",
    "import sys\n",
    "from pathlib import Path\n",
    "sys.path.insert(1, str(Path.cwd().parent))\n",
    "str(Path.cwd().parent)"
   ]
  },
  {
   "cell_type": "code",
   "execution_count": 2,
   "metadata": {},
   "outputs": [],
   "source": [
    "# Libraries\n",
    "# ==============================================================================\n",
    "import numpy as np\n",
    "import pandas as pd\n",
    "import matplotlib.pyplot as plt\n",
    "from sklearn.preprocessing import StandardScaler\n",
    "from sklearn.ensemble import RandomForestRegressor\n",
    "from sklearn.metrics import mean_absolute_error\n",
    "from lightgbm import LGBMRegressor\n",
    "\n",
    "from skforecast.datasets import fetch_dataset\n",
    "from skforecast.ForecasterAutoregMultiSeries import ForecasterAutoregMultiSeries\n",
    "from skforecast.model_selection_multiseries import backtesting_forecaster_multiseries\n",
    "from skforecast.model_selection_multiseries import grid_search_forecaster_multiseries\n",
    "from skforecast.model_selection_multiseries import bayesian_search_forecaster_multiseries"
   ]
  },
  {
   "cell_type": "code",
   "execution_count": 3,
   "metadata": {},
   "outputs": [
    {
     "name": "stdout",
     "output_type": "stream",
     "text": [
      "items_sales\n",
      "-----------\n",
      "Simulated time series for the sales of 3 different items.\n",
      "Simulated data.\n",
      "Shape of the dataset: (1097, 3)\n"
     ]
    },
    {
     "data": {
      "text/html": [
       "<div>\n",
       "<style scoped>\n",
       "    .dataframe tbody tr th:only-of-type {\n",
       "        vertical-align: middle;\n",
       "    }\n",
       "\n",
       "    .dataframe tbody tr th {\n",
       "        vertical-align: top;\n",
       "    }\n",
       "\n",
       "    .dataframe thead th {\n",
       "        text-align: right;\n",
       "    }\n",
       "</style>\n",
       "<table border=\"1\" class=\"dataframe\">\n",
       "  <thead>\n",
       "    <tr style=\"text-align: right;\">\n",
       "      <th></th>\n",
       "      <th>item_1</th>\n",
       "      <th>item_2</th>\n",
       "      <th>item_3</th>\n",
       "    </tr>\n",
       "    <tr>\n",
       "      <th>date</th>\n",
       "      <th></th>\n",
       "      <th></th>\n",
       "      <th></th>\n",
       "    </tr>\n",
       "  </thead>\n",
       "  <tbody>\n",
       "    <tr>\n",
       "      <th>2012-01-01</th>\n",
       "      <td>8.253175</td>\n",
       "      <td>21.047727</td>\n",
       "      <td>19.429739</td>\n",
       "    </tr>\n",
       "    <tr>\n",
       "      <th>2012-01-02</th>\n",
       "      <td>22.777826</td>\n",
       "      <td>26.578125</td>\n",
       "      <td>28.009863</td>\n",
       "    </tr>\n",
       "    <tr>\n",
       "      <th>2012-01-03</th>\n",
       "      <td>27.549099</td>\n",
       "      <td>31.751042</td>\n",
       "      <td>32.078922</td>\n",
       "    </tr>\n",
       "    <tr>\n",
       "      <th>2012-01-04</th>\n",
       "      <td>25.895533</td>\n",
       "      <td>24.567708</td>\n",
       "      <td>27.252276</td>\n",
       "    </tr>\n",
       "    <tr>\n",
       "      <th>2012-01-05</th>\n",
       "      <td>21.379238</td>\n",
       "      <td>18.191667</td>\n",
       "      <td>20.357737</td>\n",
       "    </tr>\n",
       "  </tbody>\n",
       "</table>\n",
       "</div>"
      ],
      "text/plain": [
       "               item_1     item_2     item_3\n",
       "date                                       \n",
       "2012-01-01   8.253175  21.047727  19.429739\n",
       "2012-01-02  22.777826  26.578125  28.009863\n",
       "2012-01-03  27.549099  31.751042  32.078922\n",
       "2012-01-04  25.895533  24.567708  27.252276\n",
       "2012-01-05  21.379238  18.191667  20.357737"
      ]
     },
     "execution_count": 3,
     "metadata": {},
     "output_type": "execute_result"
    }
   ],
   "source": [
    "# Data download\n",
    "# ==============================================================================\n",
    "data = fetch_dataset(name=\"items_sales\")\n",
    "data.head()"
   ]
  },
  {
   "cell_type": "code",
   "execution_count": 4,
   "metadata": {},
   "outputs": [
    {
     "name": "stdout",
     "output_type": "stream",
     "text": [
      "Train dates : 2012-01-01 00:00:00 --- 2014-07-15 00:00:00   (n=927)\n",
      "Test dates  : 2014-07-16 00:00:00 --- 2015-01-01 00:00:00   (n=170)\n"
     ]
    }
   ],
   "source": [
    "# Split data into train-val-test\n",
    "# ==============================================================================\n",
    "end_train = '2014-07-15 23:59:00'\n",
    "data_train = data.loc[:end_train, :].copy()\n",
    "data_test  = data.loc[end_train:, :].copy()\n",
    "\n",
    "print(\n",
    "    f\"Train dates : {data_train.index.min()} --- {data_train.index.max()}   \"\n",
    "    f\"(n={len(data_train)})\"\n",
    ")\n",
    "print(\n",
    "    f\"Test dates  : {data_test.index.min()} --- {data_test.index.max()}   \"\n",
    "    f\"(n={len(data_test)})\"\n",
    ")"
   ]
  },
  {
   "cell_type": "code",
   "execution_count": 5,
   "metadata": {},
   "outputs": [
    {
     "data": {
      "text/html": [
       "<div>\n",
       "<style scoped>\n",
       "    .dataframe tbody tr th:only-of-type {\n",
       "        vertical-align: middle;\n",
       "    }\n",
       "\n",
       "    .dataframe tbody tr th {\n",
       "        vertical-align: top;\n",
       "    }\n",
       "\n",
       "    .dataframe thead th {\n",
       "        text-align: right;\n",
       "    }\n",
       "</style>\n",
       "<table border=\"1\" class=\"dataframe\">\n",
       "  <thead>\n",
       "    <tr style=\"text-align: right;\">\n",
       "      <th></th>\n",
       "      <th>item_1</th>\n",
       "      <th>item_2</th>\n",
       "      <th>item_3</th>\n",
       "      <th>month</th>\n",
       "    </tr>\n",
       "    <tr>\n",
       "      <th>date</th>\n",
       "      <th></th>\n",
       "      <th></th>\n",
       "      <th></th>\n",
       "      <th></th>\n",
       "    </tr>\n",
       "  </thead>\n",
       "  <tbody>\n",
       "    <tr>\n",
       "      <th>2012-01-01</th>\n",
       "      <td>8.253175</td>\n",
       "      <td>21.047727</td>\n",
       "      <td>19.429739</td>\n",
       "      <td>1</td>\n",
       "    </tr>\n",
       "    <tr>\n",
       "      <th>2012-01-02</th>\n",
       "      <td>22.777826</td>\n",
       "      <td>26.578125</td>\n",
       "      <td>28.009863</td>\n",
       "      <td>1</td>\n",
       "    </tr>\n",
       "    <tr>\n",
       "      <th>2012-01-03</th>\n",
       "      <td>27.549099</td>\n",
       "      <td>31.751042</td>\n",
       "      <td>32.078922</td>\n",
       "      <td>1</td>\n",
       "    </tr>\n",
       "  </tbody>\n",
       "</table>\n",
       "</div>"
      ],
      "text/plain": [
       "               item_1     item_2     item_3  month\n",
       "date                                              \n",
       "2012-01-01   8.253175  21.047727  19.429739      1\n",
       "2012-01-02  22.777826  26.578125  28.009863      1\n",
       "2012-01-03  27.549099  31.751042  32.078922      1"
      ]
     },
     "execution_count": 5,
     "metadata": {},
     "output_type": "execute_result"
    }
   ],
   "source": [
    "# Generate exogenous variable month\n",
    "# ==============================================================================\n",
    "data_exog = data.copy()\n",
    "data_exog['month'] = data_exog.index.month\n",
    "\n",
    "# Split data into train-val-test\n",
    "# ==============================================================================\n",
    "end_train = '2014-07-15 23:59:00'\n",
    "data_exog_train = data_exog.loc[:end_train, :].copy()\n",
    "data_exog_test  = data_exog.loc[end_train:, :].copy()\n",
    "\n",
    "data_exog_train.head(3)"
   ]
  },
  {
   "cell_type": "code",
   "execution_count": 6,
   "metadata": {},
   "outputs": [],
   "source": [
    "# Create and fit a Forecaster Multi-Series\n",
    "# ==============================================================================\n",
    "forecaster = ForecasterAutoregMultiSeries(\n",
    "                 regressor          = LGBMRegressor(random_state=123, n_estimators=10, verbose=-1),\n",
    "                 lags               = 3,\n",
    "                 encoding           = 'ordinal',\n",
    "                 transformer_series = None,\n",
    "                 transformer_exog   = None,\n",
    "                 weight_func        = None,\n",
    "                 series_weights     = None,\n",
    "                 differentiation    = None,\n",
    "                 dropna_from_series = False,\n",
    "                 fit_kwargs         = None,\n",
    "                 forecaster_id      = None\n",
    "             )\n",
    "\n",
    "forecaster.fit(\n",
    "    series = data_exog_train[['item_1', 'item_2', 'item_3']], \n",
    "    exog   = data_exog_train[['month']]\n",
    ")"
   ]
  },
  {
   "cell_type": "code",
   "execution_count": 8,
   "metadata": {},
   "outputs": [
    {
     "name": "stdout",
     "output_type": "stream",
     "text": [
      "series_col_names: ['item_1', 'item_2', 'item_3']\n",
      "exog_col_names: ['month']\n",
      "series_X_train: ['item_1', 'item_2', 'item_3']\n",
      "X_train_col_names: ['lag_1', 'lag_2', 'lag_3', '_level_skforecast', 'month']\n"
     ]
    }
   ],
   "source": [
    "print(\"series_col_names:\", forecaster.series_col_names)\n",
    "print(\"exog_col_names:\", forecaster.exog_col_names)\n",
    "print(\"series_X_train:\", forecaster.series_X_train)\n",
    "print(\"X_train_col_names:\", forecaster.X_train_col_names)\n"
   ]
  },
  {
   "cell_type": "code",
   "execution_count": null,
   "metadata": {},
   "outputs": [],
   "source": []
  },
  {
   "cell_type": "code",
   "execution_count": 7,
   "metadata": {},
   "outputs": [
    {
     "data": {
      "text/html": [
       "<div>\n",
       "<style scoped>\n",
       "    .dataframe tbody tr th:only-of-type {\n",
       "        vertical-align: middle;\n",
       "    }\n",
       "\n",
       "    .dataframe tbody tr th {\n",
       "        vertical-align: top;\n",
       "    }\n",
       "\n",
       "    .dataframe thead th {\n",
       "        text-align: right;\n",
       "    }\n",
       "</style>\n",
       "<table border=\"1\" class=\"dataframe\">\n",
       "  <thead>\n",
       "    <tr style=\"text-align: right;\">\n",
       "      <th></th>\n",
       "      <th>lag_1</th>\n",
       "      <th>lag_2</th>\n",
       "      <th>lag_3</th>\n",
       "      <th>_level_skforecast</th>\n",
       "    </tr>\n",
       "    <tr>\n",
       "      <th>date</th>\n",
       "      <th></th>\n",
       "      <th></th>\n",
       "      <th></th>\n",
       "      <th></th>\n",
       "    </tr>\n",
       "  </thead>\n",
       "  <tbody>\n",
       "    <tr>\n",
       "      <th>2012-01-04</th>\n",
       "      <td>27.549099</td>\n",
       "      <td>22.777826</td>\n",
       "      <td>8.253175</td>\n",
       "      <td>0</td>\n",
       "    </tr>\n",
       "    <tr>\n",
       "      <th>2012-01-05</th>\n",
       "      <td>25.895533</td>\n",
       "      <td>27.549099</td>\n",
       "      <td>22.777826</td>\n",
       "      <td>0</td>\n",
       "    </tr>\n",
       "    <tr>\n",
       "      <th>2012-01-06</th>\n",
       "      <td>21.379238</td>\n",
       "      <td>25.895533</td>\n",
       "      <td>27.549099</td>\n",
       "      <td>0</td>\n",
       "    </tr>\n",
       "    <tr>\n",
       "      <th>2012-01-07</th>\n",
       "      <td>21.106643</td>\n",
       "      <td>21.379238</td>\n",
       "      <td>25.895533</td>\n",
       "      <td>0</td>\n",
       "    </tr>\n",
       "    <tr>\n",
       "      <th>2012-01-08</th>\n",
       "      <td>20.533871</td>\n",
       "      <td>21.106643</td>\n",
       "      <td>21.379238</td>\n",
       "      <td>0</td>\n",
       "    </tr>\n",
       "    <tr>\n",
       "      <th>...</th>\n",
       "      <td>...</td>\n",
       "      <td>...</td>\n",
       "      <td>...</td>\n",
       "      <td>...</td>\n",
       "    </tr>\n",
       "    <tr>\n",
       "      <th>2014-07-11</th>\n",
       "      <td>9.677730</td>\n",
       "      <td>12.199832</td>\n",
       "      <td>14.072343</td>\n",
       "      <td>2</td>\n",
       "    </tr>\n",
       "    <tr>\n",
       "      <th>2014-07-12</th>\n",
       "      <td>10.396751</td>\n",
       "      <td>9.677730</td>\n",
       "      <td>12.199832</td>\n",
       "      <td>2</td>\n",
       "    </tr>\n",
       "    <tr>\n",
       "      <th>2014-07-13</th>\n",
       "      <td>16.139173</td>\n",
       "      <td>10.396751</td>\n",
       "      <td>9.677730</td>\n",
       "      <td>2</td>\n",
       "    </tr>\n",
       "    <tr>\n",
       "      <th>2014-07-14</th>\n",
       "      <td>13.028927</td>\n",
       "      <td>16.139173</td>\n",
       "      <td>10.396751</td>\n",
       "      <td>2</td>\n",
       "    </tr>\n",
       "    <tr>\n",
       "      <th>2014-07-15</th>\n",
       "      <td>9.315334</td>\n",
       "      <td>13.028927</td>\n",
       "      <td>16.139173</td>\n",
       "      <td>2</td>\n",
       "    </tr>\n",
       "  </tbody>\n",
       "</table>\n",
       "<p>2772 rows × 4 columns</p>\n",
       "</div>"
      ],
      "text/plain": [
       "                lag_1      lag_2      lag_3  _level_skforecast\n",
       "date                                                          \n",
       "2012-01-04  27.549099  22.777826   8.253175                  0\n",
       "2012-01-05  25.895533  27.549099  22.777826                  0\n",
       "2012-01-06  21.379238  25.895533  27.549099                  0\n",
       "2012-01-07  21.106643  21.379238  25.895533                  0\n",
       "2012-01-08  20.533871  21.106643  21.379238                  0\n",
       "...               ...        ...        ...                ...\n",
       "2014-07-11   9.677730  12.199832  14.072343                  2\n",
       "2014-07-12  10.396751   9.677730  12.199832                  2\n",
       "2014-07-13  16.139173  10.396751   9.677730                  2\n",
       "2014-07-14  13.028927  16.139173  10.396751                  2\n",
       "2014-07-15   9.315334  13.028927  16.139173                  2\n",
       "\n",
       "[2772 rows x 4 columns]"
      ]
     },
     "execution_count": 7,
     "metadata": {},
     "output_type": "execute_result"
    }
   ],
   "source": [
    "X_train = forecaster.create_train_X_y(series=data_train)[0]\n",
    "X_train"
   ]
  },
  {
   "cell_type": "code",
   "execution_count": 7,
   "metadata": {},
   "outputs": [
    {
     "data": {
      "text/html": [
       "<div>\n",
       "<style scoped>\n",
       "    .dataframe tbody tr th:only-of-type {\n",
       "        vertical-align: middle;\n",
       "    }\n",
       "\n",
       "    .dataframe tbody tr th {\n",
       "        vertical-align: top;\n",
       "    }\n",
       "\n",
       "    .dataframe thead th {\n",
       "        text-align: right;\n",
       "    }\n",
       "</style>\n",
       "<table border=\"1\" class=\"dataframe\">\n",
       "  <thead>\n",
       "    <tr style=\"text-align: right;\">\n",
       "      <th></th>\n",
       "      <th>item_4</th>\n",
       "    </tr>\n",
       "    <tr>\n",
       "      <th>date</th>\n",
       "      <th></th>\n",
       "    </tr>\n",
       "  </thead>\n",
       "  <tbody>\n",
       "    <tr>\n",
       "      <th>2014-07-13</th>\n",
       "      <td>32.609388</td>\n",
       "    </tr>\n",
       "    <tr>\n",
       "      <th>2014-07-14</th>\n",
       "      <td>33.307307</td>\n",
       "    </tr>\n",
       "    <tr>\n",
       "      <th>2014-07-15</th>\n",
       "      <td>35.980745</td>\n",
       "    </tr>\n",
       "  </tbody>\n",
       "</table>\n",
       "</div>"
      ],
      "text/plain": [
       "               item_4\n",
       "date                 \n",
       "2014-07-13  32.609388\n",
       "2014-07-14  33.307307\n",
       "2014-07-15  35.980745"
      ]
     },
     "execution_count": 7,
     "metadata": {},
     "output_type": "execute_result"
    }
   ],
   "source": [
    "lw = forecaster.last_window['item_1'] + 10\n",
    "lw = lw.to_frame(name='item_4')\n",
    "lw"
   ]
  },
  {
   "cell_type": "code",
   "execution_count": 10,
   "metadata": {},
   "outputs": [
    {
     "name": "stderr",
     "output_type": "stream",
     "text": [
      "c:\\Users\\jaesc2\\GitHub\\skforecast\\skforecast\\utils\\utils.py:735: UnknownLevelWarning: `levels` {'item_4'} were not included in training. Unknown levels are encoded as NaN, which may cause the prediction to fail if the regressor does not accept NaN values. \n",
      " You can suppress this warning using: warnings.simplefilter('ignore', category=UnknownLevelWarning)\n",
      "  warnings.warn(\n"
     ]
    },
    {
     "data": {
      "text/html": [
       "<div>\n",
       "<style scoped>\n",
       "    .dataframe tbody tr th:only-of-type {\n",
       "        vertical-align: middle;\n",
       "    }\n",
       "\n",
       "    .dataframe tbody tr th {\n",
       "        vertical-align: top;\n",
       "    }\n",
       "\n",
       "    .dataframe thead th {\n",
       "        text-align: right;\n",
       "    }\n",
       "</style>\n",
       "<table border=\"1\" class=\"dataframe\">\n",
       "  <thead>\n",
       "    <tr style=\"text-align: right;\">\n",
       "      <th></th>\n",
       "      <th>item_4</th>\n",
       "    </tr>\n",
       "  </thead>\n",
       "  <tbody>\n",
       "    <tr>\n",
       "      <th>2014-07-16</th>\n",
       "      <td>23.893397</td>\n",
       "    </tr>\n",
       "  </tbody>\n",
       "</table>\n",
       "</div>"
      ],
      "text/plain": [
       "               item_4\n",
       "2014-07-16  23.893397"
      ]
     },
     "execution_count": 10,
     "metadata": {},
     "output_type": "execute_result"
    }
   ],
   "source": [
    "forecaster.predict(steps=1, levels='item_4', last_window=lw)"
   ]
  },
  {
   "cell_type": "code",
   "execution_count": 9,
   "metadata": {},
   "outputs": [
    {
     "name": "stderr",
     "output_type": "stream",
     "text": [
      "c:\\Users\\jaesc2\\GitHub\\skforecast\\skforecast\\utils\\utils.py:2663: IgnoredArgumentWarning: Levels {'item_4'} are excluded from prediction since they were not stored in `last_window` attribute during training. If you don't want to retrain the Forecaster, provide `last_window` as argument. \n",
      " You can suppress this warning using: warnings.simplefilter('ignore', category=IgnoredArgumentWarning)\n",
      "  warnings.warn(\n"
     ]
    },
    {
     "ename": "ValueError",
     "evalue": "No series to predict. None of the series ['item_4'] are present in `last_window` attribute. Provide `last_window` as argument in predict method.",
     "output_type": "error",
     "traceback": [
      "\u001b[1;31m---------------------------------------------------------------------------\u001b[0m",
      "\u001b[1;31mValueError\u001b[0m                                Traceback (most recent call last)",
      "Cell \u001b[1;32mIn[9], line 1\u001b[0m\n\u001b[1;32m----> 1\u001b[0m \u001b[43mforecaster\u001b[49m\u001b[38;5;241;43m.\u001b[39;49m\u001b[43mpredict\u001b[49m\u001b[43m(\u001b[49m\u001b[43msteps\u001b[49m\u001b[38;5;241;43m=\u001b[39;49m\u001b[38;5;241;43m1\u001b[39;49m\u001b[43m,\u001b[49m\u001b[43m \u001b[49m\u001b[43mlevels\u001b[49m\u001b[38;5;241;43m=\u001b[39;49m\u001b[38;5;124;43m'\u001b[39;49m\u001b[38;5;124;43mitem_4\u001b[39;49m\u001b[38;5;124;43m'\u001b[39;49m\u001b[43m,\u001b[49m\u001b[43m \u001b[49m\u001b[43mlast_window\u001b[49m\u001b[38;5;241;43m=\u001b[39;49m\u001b[38;5;28;43;01mNone\u001b[39;49;00m\u001b[43m)\u001b[49m\n",
      "File \u001b[1;32mc:\\Users\\jaesc2\\GitHub\\skforecast\\skforecast\\ForecasterAutoregMultiSeries\\ForecasterAutoregMultiSeries.py:1588\u001b[0m, in \u001b[0;36mForecasterAutoregMultiSeries.predict\u001b[1;34m(self, steps, levels, last_window, exog, suppress_warnings)\u001b[0m\n\u001b[0;32m   1548\u001b[0m \u001b[38;5;250m\u001b[39m\u001b[38;5;124;03m\"\"\"\u001b[39;00m\n\u001b[0;32m   1549\u001b[0m \u001b[38;5;124;03mPredict n steps ahead. It is an recursive process in which, each prediction,\u001b[39;00m\n\u001b[0;32m   1550\u001b[0m \u001b[38;5;124;03mis used as a predictor for the next step. Only levels whose last window\u001b[39;00m\n\u001b[1;32m   (...)\u001b[0m\n\u001b[0;32m   1577\u001b[0m \n\u001b[0;32m   1578\u001b[0m \u001b[38;5;124;03m\"\"\"\u001b[39;00m\n\u001b[0;32m   1580\u001b[0m set_skforecast_warnings(suppress_warnings, action\u001b[38;5;241m=\u001b[39m\u001b[38;5;124m'\u001b[39m\u001b[38;5;124mignore\u001b[39m\u001b[38;5;124m'\u001b[39m)\n\u001b[0;32m   1582\u001b[0m (\n\u001b[0;32m   1583\u001b[0m     last_window_values_dict,\n\u001b[0;32m   1584\u001b[0m     exog_values_dict,\n\u001b[0;32m   1585\u001b[0m     levels,\n\u001b[0;32m   1586\u001b[0m     prediction_index,\n\u001b[0;32m   1587\u001b[0m     _\n\u001b[1;32m-> 1588\u001b[0m ) \u001b[38;5;241m=\u001b[39m \u001b[38;5;28;43mself\u001b[39;49m\u001b[38;5;241;43m.\u001b[39;49m\u001b[43m_create_predict_inputs\u001b[49m\u001b[43m(\u001b[49m\n\u001b[0;32m   1589\u001b[0m \u001b[43m    \u001b[49m\u001b[43msteps\u001b[49m\u001b[43m       \u001b[49m\u001b[38;5;241;43m=\u001b[39;49m\u001b[43m \u001b[49m\u001b[43msteps\u001b[49m\u001b[43m,\u001b[49m\n\u001b[0;32m   1590\u001b[0m \u001b[43m    \u001b[49m\u001b[43mlevels\u001b[49m\u001b[43m      \u001b[49m\u001b[38;5;241;43m=\u001b[39;49m\u001b[43m \u001b[49m\u001b[43mlevels\u001b[49m\u001b[43m,\u001b[49m\n\u001b[0;32m   1591\u001b[0m \u001b[43m    \u001b[49m\u001b[43mlast_window\u001b[49m\u001b[43m \u001b[49m\u001b[38;5;241;43m=\u001b[39;49m\u001b[43m \u001b[49m\u001b[43mlast_window\u001b[49m\u001b[43m,\u001b[49m\n\u001b[0;32m   1592\u001b[0m \u001b[43m    \u001b[49m\u001b[43mexog\u001b[49m\u001b[43m        \u001b[49m\u001b[38;5;241;43m=\u001b[39;49m\u001b[43m \u001b[49m\u001b[43mexog\u001b[49m\n\u001b[0;32m   1593\u001b[0m \u001b[43m\u001b[49m\u001b[43m)\u001b[49m\n\u001b[0;32m   1595\u001b[0m predictions \u001b[38;5;241m=\u001b[39m []\n\u001b[0;32m   1596\u001b[0m \u001b[38;5;28;01mfor\u001b[39;00m level \u001b[38;5;129;01min\u001b[39;00m levels:\n",
      "File \u001b[1;32mc:\\Users\\jaesc2\\GitHub\\skforecast\\skforecast\\ForecasterAutoregMultiSeries\\ForecasterAutoregMultiSeries.py:1267\u001b[0m, in \u001b[0;36mForecasterAutoregMultiSeries._create_predict_inputs\u001b[1;34m(self, steps, levels, last_window, exog, predict_boot, in_sample_residuals)\u001b[0m\n\u001b[0;32m   1261\u001b[0m levels, input_levels_is_list \u001b[38;5;241m=\u001b[39m prepare_levels_multiseries(\n\u001b[0;32m   1262\u001b[0m                                    series_X_train \u001b[38;5;241m=\u001b[39m \u001b[38;5;28mself\u001b[39m\u001b[38;5;241m.\u001b[39mseries_X_train,\n\u001b[0;32m   1263\u001b[0m                                    levels         \u001b[38;5;241m=\u001b[39m levels, \n\u001b[0;32m   1264\u001b[0m                                )\n\u001b[0;32m   1266\u001b[0m \u001b[38;5;28;01mif\u001b[39;00m \u001b[38;5;28mself\u001b[39m\u001b[38;5;241m.\u001b[39mfitted \u001b[38;5;129;01mand\u001b[39;00m last_window \u001b[38;5;129;01mis\u001b[39;00m \u001b[38;5;28;01mNone\u001b[39;00m:\n\u001b[1;32m-> 1267\u001b[0m     levels, last_window \u001b[38;5;241m=\u001b[39m \u001b[43mpreprocess_levels_self_last_window_multiseries\u001b[49m\u001b[43m(\u001b[49m\n\u001b[0;32m   1268\u001b[0m \u001b[43m                              \u001b[49m\u001b[43mlevels\u001b[49m\u001b[43m               \u001b[49m\u001b[38;5;241;43m=\u001b[39;49m\u001b[43m \u001b[49m\u001b[43mlevels\u001b[49m\u001b[43m,\u001b[49m\n\u001b[0;32m   1269\u001b[0m \u001b[43m                              \u001b[49m\u001b[43minput_levels_is_list\u001b[49m\u001b[43m \u001b[49m\u001b[38;5;241;43m=\u001b[39;49m\u001b[43m \u001b[49m\u001b[43minput_levels_is_list\u001b[49m\u001b[43m,\u001b[49m\n\u001b[0;32m   1270\u001b[0m \u001b[43m                              \u001b[49m\u001b[43mlast_window\u001b[49m\u001b[43m          \u001b[49m\u001b[38;5;241;43m=\u001b[39;49m\u001b[43m \u001b[49m\u001b[38;5;28;43mself\u001b[39;49m\u001b[38;5;241;43m.\u001b[39;49m\u001b[43mlast_window\u001b[49m\n\u001b[0;32m   1271\u001b[0m \u001b[43m                          \u001b[49m\u001b[43m)\u001b[49m\n\u001b[0;32m   1273\u001b[0m \u001b[38;5;28;01mif\u001b[39;00m \u001b[38;5;28mself\u001b[39m\u001b[38;5;241m.\u001b[39mfitted \u001b[38;5;129;01mand\u001b[39;00m predict_boot:\n\u001b[0;32m   1274\u001b[0m     residuals \u001b[38;5;241m=\u001b[39m prepare_residuals_multiseries(\n\u001b[0;32m   1275\u001b[0m                     levels               \u001b[38;5;241m=\u001b[39m levels,\n\u001b[0;32m   1276\u001b[0m                     use_in_sample        \u001b[38;5;241m=\u001b[39m in_sample_residuals,\n\u001b[0;32m   1277\u001b[0m                     in_sample_residuals  \u001b[38;5;241m=\u001b[39m \u001b[38;5;28mself\u001b[39m\u001b[38;5;241m.\u001b[39min_sample_residuals,\n\u001b[0;32m   1278\u001b[0m                     out_sample_residuals \u001b[38;5;241m=\u001b[39m \u001b[38;5;28mself\u001b[39m\u001b[38;5;241m.\u001b[39mout_sample_residuals\n\u001b[0;32m   1279\u001b[0m                 )\n",
      "File \u001b[1;32mc:\\Users\\jaesc2\\GitHub\\skforecast\\skforecast\\utils\\utils.py:2674\u001b[0m, in \u001b[0;36mpreprocess_levels_self_last_window_multiseries\u001b[1;34m(levels, input_levels_is_list, last_window)\u001b[0m\n\u001b[0;32m   2670\u001b[0m     levels \u001b[38;5;241m=\u001b[39m [level \u001b[38;5;28;01mfor\u001b[39;00m level \u001b[38;5;129;01min\u001b[39;00m levels \n\u001b[0;32m   2671\u001b[0m               \u001b[38;5;28;01mif\u001b[39;00m level \u001b[38;5;129;01mnot\u001b[39;00m \u001b[38;5;129;01min\u001b[39;00m not_available_last_window]\n\u001b[0;32m   2673\u001b[0m     \u001b[38;5;28;01mif\u001b[39;00m \u001b[38;5;129;01mnot\u001b[39;00m levels:\n\u001b[1;32m-> 2674\u001b[0m         \u001b[38;5;28;01mraise\u001b[39;00m \u001b[38;5;167;01mValueError\u001b[39;00m(\n\u001b[0;32m   2675\u001b[0m             \u001b[38;5;124mf\u001b[39m\u001b[38;5;124m\"\u001b[39m\u001b[38;5;124mNo series to predict. None of the series \u001b[39m\u001b[38;5;124m\"\u001b[39m\n\u001b[0;32m   2676\u001b[0m             \u001b[38;5;124mf\u001b[39m\u001b[38;5;124m\"\u001b[39m\u001b[38;5;132;01m{\u001b[39;00mlevels\u001b[38;5;250m \u001b[39m\u001b[38;5;241m+\u001b[39m\u001b[38;5;250m \u001b[39m\u001b[38;5;28mlist\u001b[39m(not_available_last_window)\u001b[38;5;132;01m}\u001b[39;00m\u001b[38;5;124m \u001b[39m\u001b[38;5;124m\"\u001b[39m\n\u001b[0;32m   2677\u001b[0m             \u001b[38;5;124mf\u001b[39m\u001b[38;5;124m\"\u001b[39m\u001b[38;5;124mare present in `last_window` attribute. Provide `last_window` \u001b[39m\u001b[38;5;124m\"\u001b[39m\n\u001b[0;32m   2678\u001b[0m             \u001b[38;5;124mf\u001b[39m\u001b[38;5;124m\"\u001b[39m\u001b[38;5;124mas argument in predict method.\u001b[39m\u001b[38;5;124m\"\u001b[39m\n\u001b[0;32m   2679\u001b[0m         )\n\u001b[0;32m   2681\u001b[0m last_index_levels \u001b[38;5;241m=\u001b[39m [\n\u001b[0;32m   2682\u001b[0m     v\u001b[38;5;241m.\u001b[39mindex[\u001b[38;5;241m-\u001b[39m\u001b[38;5;241m1\u001b[39m] \n\u001b[0;32m   2683\u001b[0m     \u001b[38;5;28;01mfor\u001b[39;00m k, v \u001b[38;5;129;01min\u001b[39;00m last_window\u001b[38;5;241m.\u001b[39mitems()\n\u001b[0;32m   2684\u001b[0m     \u001b[38;5;28;01mif\u001b[39;00m k \u001b[38;5;129;01min\u001b[39;00m levels\n\u001b[0;32m   2685\u001b[0m ]\n\u001b[0;32m   2686\u001b[0m \u001b[38;5;28;01mif\u001b[39;00m \u001b[38;5;28mlen\u001b[39m(\u001b[38;5;28mset\u001b[39m(last_index_levels)) \u001b[38;5;241m>\u001b[39m \u001b[38;5;241m1\u001b[39m:\n",
      "\u001b[1;31mValueError\u001b[0m: No series to predict. None of the series ['item_4'] are present in `last_window` attribute. Provide `last_window` as argument in predict method."
     ]
    }
   ],
   "source": [
    "forecaster.predict(steps=1, levels='item_4', last_window=None)"
   ]
  },
  {
   "cell_type": "code",
   "execution_count": 11,
   "metadata": {},
   "outputs": [
    {
     "name": "stderr",
     "output_type": "stream",
     "text": [
      "c:\\Users\\jaesc2\\GitHub\\skforecast\\skforecast\\utils\\utils.py:735: UnknownLevelWarning: `levels` {'item_4'} were not included in training. Unknown levels are encoded as NaN, which may cause the prediction to fail if the regressor does not accept NaN values. \n",
      " You can suppress this warning using: warnings.simplefilter('ignore', category=UnknownLevelWarning)\n",
      "  warnings.warn(\n",
      "c:\\Users\\jaesc2\\GitHub\\skforecast\\skforecast\\utils\\utils.py:735: UnknownLevelWarning: `levels` {'item_4'} were not included in training. Unknown levels are encoded as NaN, which may cause the prediction to fail if the regressor does not accept NaN values. \n",
      " You can suppress this warning using: warnings.simplefilter('ignore', category=UnknownLevelWarning)\n",
      "  warnings.warn(\n"
     ]
    },
    {
     "data": {
      "text/html": [
       "<div>\n",
       "<style scoped>\n",
       "    .dataframe tbody tr th:only-of-type {\n",
       "        vertical-align: middle;\n",
       "    }\n",
       "\n",
       "    .dataframe tbody tr th {\n",
       "        vertical-align: top;\n",
       "    }\n",
       "\n",
       "    .dataframe thead th {\n",
       "        text-align: right;\n",
       "    }\n",
       "</style>\n",
       "<table border=\"1\" class=\"dataframe\">\n",
       "  <thead>\n",
       "    <tr style=\"text-align: right;\">\n",
       "      <th></th>\n",
       "      <th>lag_1</th>\n",
       "      <th>lag_2</th>\n",
       "      <th>lag_3</th>\n",
       "      <th>_level_skforecast</th>\n",
       "    </tr>\n",
       "  </thead>\n",
       "  <tbody>\n",
       "    <tr>\n",
       "      <th>2014-07-16</th>\n",
       "      <td>35.980745</td>\n",
       "      <td>33.307307</td>\n",
       "      <td>32.609388</td>\n",
       "      <td>NaN</td>\n",
       "    </tr>\n",
       "  </tbody>\n",
       "</table>\n",
       "</div>"
      ],
      "text/plain": [
       "                lag_1      lag_2      lag_3  _level_skforecast\n",
       "2014-07-16  35.980745  33.307307  32.609388                NaN"
      ]
     },
     "execution_count": 11,
     "metadata": {},
     "output_type": "execute_result"
    }
   ],
   "source": [
    "X_predict = forecaster.create_predict_X(steps=1, levels='item_4', last_window=lw)['item_4']\n",
    "X_predict"
   ]
  },
  {
   "cell_type": "code",
   "execution_count": null,
   "metadata": {},
   "outputs": [
    {
     "data": {
      "text/plain": [
       "array([23.89339724])"
      ]
     },
     "execution_count": 11,
     "metadata": {},
     "output_type": "execute_result"
    }
   ],
   "source": [
    "forecaster.regressor.predict(X_predict)"
   ]
  },
  {
   "cell_type": "code",
   "execution_count": null,
   "metadata": {},
   "outputs": [
    {
     "data": {
      "text/html": [
       "<div>\n",
       "<style scoped>\n",
       "    .dataframe tbody tr th:only-of-type {\n",
       "        vertical-align: middle;\n",
       "    }\n",
       "\n",
       "    .dataframe tbody tr th {\n",
       "        vertical-align: top;\n",
       "    }\n",
       "\n",
       "    .dataframe thead th {\n",
       "        text-align: right;\n",
       "    }\n",
       "</style>\n",
       "<table border=\"1\" class=\"dataframe\">\n",
       "  <thead>\n",
       "    <tr style=\"text-align: right;\">\n",
       "      <th></th>\n",
       "      <th>lag_1</th>\n",
       "      <th>lag_2</th>\n",
       "      <th>lag_3</th>\n",
       "      <th>_level_skforecast</th>\n",
       "    </tr>\n",
       "  </thead>\n",
       "  <tbody>\n",
       "    <tr>\n",
       "      <th>2014-07-16</th>\n",
       "      <td>35.980745</td>\n",
       "      <td>33.307307</td>\n",
       "      <td>32.609388</td>\n",
       "      <td>NaN</td>\n",
       "    </tr>\n",
       "  </tbody>\n",
       "</table>\n",
       "</div>"
      ],
      "text/plain": [
       "                lag_1      lag_2      lag_3  _level_skforecast\n",
       "2014-07-16  35.980745  33.307307  32.609388                NaN"
      ]
     },
     "execution_count": 12,
     "metadata": {},
     "output_type": "execute_result"
    }
   ],
   "source": [
    "X_predict['_level_skforecast'] = np.nan\n",
    "X_predict"
   ]
  },
  {
   "cell_type": "code",
   "execution_count": null,
   "metadata": {},
   "outputs": [
    {
     "data": {
      "text/plain": [
       "array([23.89339724])"
      ]
     },
     "execution_count": 13,
     "metadata": {},
     "output_type": "execute_result"
    }
   ],
   "source": [
    "forecaster.regressor.predict(X_predict)"
   ]
  },
  {
   "cell_type": "code",
   "execution_count": null,
   "metadata": {},
   "outputs": [
    {
     "data": {
      "text/html": [
       "<div>\n",
       "<style scoped>\n",
       "    .dataframe tbody tr th:only-of-type {\n",
       "        vertical-align: middle;\n",
       "    }\n",
       "\n",
       "    .dataframe tbody tr th {\n",
       "        vertical-align: top;\n",
       "    }\n",
       "\n",
       "    .dataframe thead th {\n",
       "        text-align: right;\n",
       "    }\n",
       "</style>\n",
       "<table border=\"1\" class=\"dataframe\">\n",
       "  <thead>\n",
       "    <tr style=\"text-align: right;\">\n",
       "      <th></th>\n",
       "      <th>item_1</th>\n",
       "      <th>item_2</th>\n",
       "      <th>item_3</th>\n",
       "      <th>item_4</th>\n",
       "    </tr>\n",
       "    <tr>\n",
       "      <th>date</th>\n",
       "      <th></th>\n",
       "      <th></th>\n",
       "      <th></th>\n",
       "      <th></th>\n",
       "    </tr>\n",
       "  </thead>\n",
       "  <tbody>\n",
       "    <tr>\n",
       "      <th>2014-07-13</th>\n",
       "      <td>22.609388</td>\n",
       "      <td>8.100000</td>\n",
       "      <td>13.028927</td>\n",
       "      <td>32.609388</td>\n",
       "    </tr>\n",
       "    <tr>\n",
       "      <th>2014-07-14</th>\n",
       "      <td>23.307307</td>\n",
       "      <td>10.895833</td>\n",
       "      <td>9.315334</td>\n",
       "      <td>33.307307</td>\n",
       "    </tr>\n",
       "    <tr>\n",
       "      <th>2014-07-15</th>\n",
       "      <td>25.980745</td>\n",
       "      <td>10.489583</td>\n",
       "      <td>9.908915</td>\n",
       "      <td>35.980745</td>\n",
       "    </tr>\n",
       "  </tbody>\n",
       "</table>\n",
       "</div>"
      ],
      "text/plain": [
       "               item_1     item_2     item_3     item_4\n",
       "date                                                  \n",
       "2014-07-13  22.609388   8.100000  13.028927  32.609388\n",
       "2014-07-14  23.307307  10.895833   9.315334  33.307307\n",
       "2014-07-15  25.980745  10.489583   9.908915  35.980745"
      ]
     },
     "execution_count": 14,
     "metadata": {},
     "output_type": "execute_result"
    }
   ],
   "source": [
    "lw =  pd.DataFrame(forecaster.last_window)\n",
    "lw['item_4'] = lw['item_1'] + 10\n",
    "lw"
   ]
  },
  {
   "cell_type": "code",
   "execution_count": null,
   "metadata": {},
   "outputs": [
    {
     "name": "stderr",
     "output_type": "stream",
     "text": [
      "/home/ubuntu/varios/skforecast/skforecast/utils/utils.py:739: UnknownLevelWarning: `levels` {'item_4'} were not included in training. Unknown levels are encoded as NaN, which may cause the prediction to fail if the regressor does not accept NaN values. \n",
      " You can suppress this warning using: warnings.simplefilter('ignore', category=UnknownLevelWarning)\n",
      "  warnings.warn(\n"
     ]
    },
    {
     "data": {
      "text/html": [
       "<div>\n",
       "<style scoped>\n",
       "    .dataframe tbody tr th:only-of-type {\n",
       "        vertical-align: middle;\n",
       "    }\n",
       "\n",
       "    .dataframe tbody tr th {\n",
       "        vertical-align: top;\n",
       "    }\n",
       "\n",
       "    .dataframe thead th {\n",
       "        text-align: right;\n",
       "    }\n",
       "</style>\n",
       "<table border=\"1\" class=\"dataframe\">\n",
       "  <thead>\n",
       "    <tr style=\"text-align: right;\">\n",
       "      <th></th>\n",
       "      <th>item_1</th>\n",
       "      <th>item_4</th>\n",
       "    </tr>\n",
       "  </thead>\n",
       "  <tbody>\n",
       "    <tr>\n",
       "      <th>2014-07-16</th>\n",
       "      <td>22.778094</td>\n",
       "      <td>23.893397</td>\n",
       "    </tr>\n",
       "  </tbody>\n",
       "</table>\n",
       "</div>"
      ],
      "text/plain": [
       "               item_1     item_4\n",
       "2014-07-16  22.778094  23.893397"
      ]
     },
     "execution_count": 15,
     "metadata": {},
     "output_type": "execute_result"
    }
   ],
   "source": [
    "forecaster.predict(steps=1, levels=['item_1', 'item_4'], last_window=lw)"
   ]
  },
  {
   "cell_type": "code",
   "execution_count": null,
   "metadata": {},
   "outputs": [
    {
     "name": "stderr",
     "output_type": "stream",
     "text": [
      "/home/ubuntu/varios/skforecast/skforecast/utils/utils.py:739: UnknownLevelWarning: `levels` {'item_4'} were not included in training. Unknown levels are encoded as NaN, which may cause the prediction to fail if the regressor does not accept NaN values. \n",
      " You can suppress this warning using: warnings.simplefilter('ignore', category=UnknownLevelWarning)\n",
      "  warnings.warn(\n",
      "/home/ubuntu/varios/skforecast/skforecast/utils/utils.py:2768: UnknownLevelWarning: `levels` {'item_4'} are not present in `forecaster.in_sample_residuals`, most likely because they were not present in the training data. A random sample of the residuals from other levels will be used.This may lead to inaccurate intervals for the unknown levels. \n",
      " You can suppress this warning using: warnings.simplefilter('ignore', category=UnknownLevelWarning)\n",
      "  warnings.warn(\n",
      "/home/ubuntu/varios/skforecast/skforecast/utils/utils.py:739: UnknownLevelWarning: `levels` {'item_4'} were not included in training. Unknown levels are encoded as NaN, which may cause the prediction to fail if the regressor does not accept NaN values. \n",
      " You can suppress this warning using: warnings.simplefilter('ignore', category=UnknownLevelWarning)\n",
      "  warnings.warn(\n"
     ]
    },
    {
     "data": {
      "text/html": [
       "<div>\n",
       "<style scoped>\n",
       "    .dataframe tbody tr th:only-of-type {\n",
       "        vertical-align: middle;\n",
       "    }\n",
       "\n",
       "    .dataframe tbody tr th {\n",
       "        vertical-align: top;\n",
       "    }\n",
       "\n",
       "    .dataframe thead th {\n",
       "        text-align: right;\n",
       "    }\n",
       "</style>\n",
       "<table border=\"1\" class=\"dataframe\">\n",
       "  <thead>\n",
       "    <tr style=\"text-align: right;\">\n",
       "      <th></th>\n",
       "      <th>item_4</th>\n",
       "      <th>item_4_lower_bound</th>\n",
       "      <th>item_4_upper_bound</th>\n",
       "    </tr>\n",
       "  </thead>\n",
       "  <tbody>\n",
       "    <tr>\n",
       "      <th>2014-07-16</th>\n",
       "      <td>23.893397</td>\n",
       "      <td>18.890479</td>\n",
       "      <td>28.713671</td>\n",
       "    </tr>\n",
       "  </tbody>\n",
       "</table>\n",
       "</div>"
      ],
      "text/plain": [
       "               item_4  item_4_lower_bound  item_4_upper_bound\n",
       "2014-07-16  23.893397           18.890479           28.713671"
      ]
     },
     "execution_count": 16,
     "metadata": {},
     "output_type": "execute_result"
    }
   ],
   "source": [
    "forecaster.predict_interval(steps=1, levels='item_4', last_window=lw)"
   ]
  },
  {
   "cell_type": "code",
   "execution_count": null,
   "metadata": {},
   "outputs": [
    {
     "name": "stderr",
     "output_type": "stream",
     "text": [
      "/home/ubuntu/varios/skforecast/skforecast/utils/utils.py:739: UnknownLevelWarning: `levels` {'item_4'} were not included in training. Unknown levels are encoded as NaN, which may cause the prediction to fail if the regressor does not accept NaN values. \n",
      " You can suppress this warning using: warnings.simplefilter('ignore', category=UnknownLevelWarning)\n",
      "  warnings.warn(\n",
      "/home/ubuntu/varios/skforecast/skforecast/utils/utils.py:2768: UnknownLevelWarning: `levels` {'item_4'} are not present in `forecaster.in_sample_residuals`, most likely because they were not present in the training data. A random sample of the residuals from other levels will be used.This may lead to inaccurate intervals for the unknown levels. \n",
      " You can suppress this warning using: warnings.simplefilter('ignore', category=UnknownLevelWarning)\n",
      "  warnings.warn(\n",
      "/home/ubuntu/varios/skforecast/skforecast/utils/utils.py:739: UnknownLevelWarning: `levels` {'item_4'} were not included in training. Unknown levels are encoded as NaN, which may cause the prediction to fail if the regressor does not accept NaN values. \n",
      " You can suppress this warning using: warnings.simplefilter('ignore', category=UnknownLevelWarning)\n",
      "  warnings.warn(\n"
     ]
    },
    {
     "data": {
      "text/html": [
       "<div>\n",
       "<style scoped>\n",
       "    .dataframe tbody tr th:only-of-type {\n",
       "        vertical-align: middle;\n",
       "    }\n",
       "\n",
       "    .dataframe tbody tr th {\n",
       "        vertical-align: top;\n",
       "    }\n",
       "\n",
       "    .dataframe thead th {\n",
       "        text-align: right;\n",
       "    }\n",
       "</style>\n",
       "<table border=\"1\" class=\"dataframe\">\n",
       "  <thead>\n",
       "    <tr style=\"text-align: right;\">\n",
       "      <th></th>\n",
       "      <th>item_1</th>\n",
       "      <th>item_1_lower_bound</th>\n",
       "      <th>item_1_upper_bound</th>\n",
       "      <th>item_4</th>\n",
       "      <th>item_4_lower_bound</th>\n",
       "      <th>item_4_upper_bound</th>\n",
       "    </tr>\n",
       "  </thead>\n",
       "  <tbody>\n",
       "    <tr>\n",
       "      <th>2014-07-16</th>\n",
       "      <td>22.778094</td>\n",
       "      <td>21.672791</td>\n",
       "      <td>27.20174</td>\n",
       "      <td>23.893397</td>\n",
       "      <td>18.890479</td>\n",
       "      <td>28.713671</td>\n",
       "    </tr>\n",
       "  </tbody>\n",
       "</table>\n",
       "</div>"
      ],
      "text/plain": [
       "               item_1  item_1_lower_bound  item_1_upper_bound     item_4  \\\n",
       "2014-07-16  22.778094           21.672791            27.20174  23.893397   \n",
       "\n",
       "            item_4_lower_bound  item_4_upper_bound  \n",
       "2014-07-16           18.890479           28.713671  "
      ]
     },
     "execution_count": 17,
     "metadata": {},
     "output_type": "execute_result"
    }
   ],
   "source": [
    "forecaster.predict_interval(steps=1, levels=['item_1', 'item_4'], last_window=lw)"
   ]
  },
  {
   "cell_type": "code",
   "execution_count": null,
   "metadata": {},
   "outputs": [
    {
     "name": "stderr",
     "output_type": "stream",
     "text": [
      "/home/ubuntu/varios/skforecast/skforecast/utils/utils.py:2673: IgnoredArgumentWarning: Levels {'item_4'} are excluded from prediction since they were not stored in `last_window` attribute during training. If you don't want to retrain the Forecaster, provide `last_window` as argument. \n",
      " You can suppress this warning using: warnings.simplefilter('ignore', category=IgnoredArgumentWarning)\n",
      "  warnings.warn(\n"
     ]
    },
    {
     "ename": "ValueError",
     "evalue": "No series to predict. None of the series ['item_4'] are present in `last_window` attribute. Provide `last_window` as argument in predict method.",
     "output_type": "error",
     "traceback": [
      "\u001b[0;31m---------------------------------------------------------------------------\u001b[0m",
      "\u001b[0;31mValueError\u001b[0m                                Traceback (most recent call last)",
      "Cell \u001b[0;32mIn[18], line 1\u001b[0m\n\u001b[0;32m----> 1\u001b[0m \u001b[43mforecaster\u001b[49m\u001b[38;5;241;43m.\u001b[39;49m\u001b[43mpredict_interval\u001b[49m\u001b[43m(\u001b[49m\u001b[43msteps\u001b[49m\u001b[38;5;241;43m=\u001b[39;49m\u001b[38;5;241;43m1\u001b[39;49m\u001b[43m,\u001b[49m\u001b[43m \u001b[49m\u001b[43mlevels\u001b[49m\u001b[38;5;241;43m=\u001b[39;49m\u001b[38;5;124;43m'\u001b[39;49m\u001b[38;5;124;43mitem_4\u001b[39;49m\u001b[38;5;124;43m'\u001b[39;49m\u001b[43m,\u001b[49m\u001b[43m \u001b[49m\u001b[43mlast_window\u001b[49m\u001b[38;5;241;43m=\u001b[39;49m\u001b[38;5;28;43;01mNone\u001b[39;49;00m\u001b[43m)\u001b[49m\n",
      "File \u001b[0;32m~/varios/skforecast/skforecast/ForecasterAutoregMultiSeries/ForecasterAutoregMultiSeries.py:1857\u001b[0m, in \u001b[0;36mForecasterAutoregMultiSeries.predict_interval\u001b[0;34m(self, steps, levels, last_window, exog, interval, n_boot, random_state, in_sample_residuals, suppress_warnings)\u001b[0m\n\u001b[1;32m   1853\u001b[0m set_skforecast_warnings(suppress_warnings, action\u001b[38;5;241m=\u001b[39m\u001b[38;5;124m'\u001b[39m\u001b[38;5;124mignore\u001b[39m\u001b[38;5;124m'\u001b[39m)\n\u001b[1;32m   1855\u001b[0m check_interval(interval\u001b[38;5;241m=\u001b[39minterval)\n\u001b[0;32m-> 1857\u001b[0m preds \u001b[38;5;241m=\u001b[39m \u001b[38;5;28;43mself\u001b[39;49m\u001b[38;5;241;43m.\u001b[39;49m\u001b[43mpredict\u001b[49m\u001b[43m(\u001b[49m\n\u001b[1;32m   1858\u001b[0m \u001b[43m            \u001b[49m\u001b[43msteps\u001b[49m\u001b[43m             \u001b[49m\u001b[38;5;241;43m=\u001b[39;49m\u001b[43m \u001b[49m\u001b[43msteps\u001b[49m\u001b[43m,\u001b[49m\n\u001b[1;32m   1859\u001b[0m \u001b[43m            \u001b[49m\u001b[43mlevels\u001b[49m\u001b[43m            \u001b[49m\u001b[38;5;241;43m=\u001b[39;49m\u001b[43m \u001b[49m\u001b[43mlevels\u001b[49m\u001b[43m,\u001b[49m\n\u001b[1;32m   1860\u001b[0m \u001b[43m            \u001b[49m\u001b[43mlast_window\u001b[49m\u001b[43m       \u001b[49m\u001b[38;5;241;43m=\u001b[39;49m\u001b[43m \u001b[49m\u001b[43mlast_window\u001b[49m\u001b[43m,\u001b[49m\n\u001b[1;32m   1861\u001b[0m \u001b[43m            \u001b[49m\u001b[43mexog\u001b[49m\u001b[43m              \u001b[49m\u001b[38;5;241;43m=\u001b[39;49m\u001b[43m \u001b[49m\u001b[43mexog\u001b[49m\u001b[43m,\u001b[49m\n\u001b[1;32m   1862\u001b[0m \u001b[43m            \u001b[49m\u001b[43msuppress_warnings\u001b[49m\u001b[43m \u001b[49m\u001b[38;5;241;43m=\u001b[39;49m\u001b[43m \u001b[49m\u001b[43msuppress_warnings\u001b[49m\n\u001b[1;32m   1863\u001b[0m \u001b[43m        \u001b[49m\u001b[43m)\u001b[49m\n\u001b[1;32m   1865\u001b[0m boot_predictions \u001b[38;5;241m=\u001b[39m \u001b[38;5;28mself\u001b[39m\u001b[38;5;241m.\u001b[39mpredict_bootstrapping(\n\u001b[1;32m   1866\u001b[0m                        steps               \u001b[38;5;241m=\u001b[39m steps,\n\u001b[1;32m   1867\u001b[0m                        levels              \u001b[38;5;241m=\u001b[39m levels,\n\u001b[0;32m   (...)\u001b[0m\n\u001b[1;32m   1873\u001b[0m                        suppress_warnings   \u001b[38;5;241m=\u001b[39m suppress_warnings\n\u001b[1;32m   1874\u001b[0m                    )\n\u001b[1;32m   1876\u001b[0m interval \u001b[38;5;241m=\u001b[39m np\u001b[38;5;241m.\u001b[39marray(interval)\u001b[38;5;241m/\u001b[39m\u001b[38;5;241m100\u001b[39m\n",
      "File \u001b[0;32m~/varios/skforecast/skforecast/ForecasterAutoregMultiSeries/ForecasterAutoregMultiSeries.py:1588\u001b[0m, in \u001b[0;36mForecasterAutoregMultiSeries.predict\u001b[0;34m(self, steps, levels, last_window, exog, suppress_warnings)\u001b[0m\n\u001b[1;32m   1548\u001b[0m \u001b[38;5;250m\u001b[39m\u001b[38;5;124;03m\"\"\"\u001b[39;00m\n\u001b[1;32m   1549\u001b[0m \u001b[38;5;124;03mPredict n steps ahead. It is an recursive process in which, each prediction,\u001b[39;00m\n\u001b[1;32m   1550\u001b[0m \u001b[38;5;124;03mis used as a predictor for the next step. Only levels whose last window\u001b[39;00m\n\u001b[0;32m   (...)\u001b[0m\n\u001b[1;32m   1577\u001b[0m \n\u001b[1;32m   1578\u001b[0m \u001b[38;5;124;03m\"\"\"\u001b[39;00m\n\u001b[1;32m   1580\u001b[0m set_skforecast_warnings(suppress_warnings, action\u001b[38;5;241m=\u001b[39m\u001b[38;5;124m'\u001b[39m\u001b[38;5;124mignore\u001b[39m\u001b[38;5;124m'\u001b[39m)\n\u001b[1;32m   1582\u001b[0m (\n\u001b[1;32m   1583\u001b[0m     last_window_values_dict,\n\u001b[1;32m   1584\u001b[0m     exog_values_dict,\n\u001b[1;32m   1585\u001b[0m     levels,\n\u001b[1;32m   1586\u001b[0m     prediction_index,\n\u001b[1;32m   1587\u001b[0m     _\n\u001b[0;32m-> 1588\u001b[0m ) \u001b[38;5;241m=\u001b[39m \u001b[38;5;28;43mself\u001b[39;49m\u001b[38;5;241;43m.\u001b[39;49m\u001b[43m_create_predict_inputs\u001b[49m\u001b[43m(\u001b[49m\n\u001b[1;32m   1589\u001b[0m \u001b[43m    \u001b[49m\u001b[43msteps\u001b[49m\u001b[43m       \u001b[49m\u001b[38;5;241;43m=\u001b[39;49m\u001b[43m \u001b[49m\u001b[43msteps\u001b[49m\u001b[43m,\u001b[49m\n\u001b[1;32m   1590\u001b[0m \u001b[43m    \u001b[49m\u001b[43mlevels\u001b[49m\u001b[43m      \u001b[49m\u001b[38;5;241;43m=\u001b[39;49m\u001b[43m \u001b[49m\u001b[43mlevels\u001b[49m\u001b[43m,\u001b[49m\n\u001b[1;32m   1591\u001b[0m \u001b[43m    \u001b[49m\u001b[43mlast_window\u001b[49m\u001b[43m \u001b[49m\u001b[38;5;241;43m=\u001b[39;49m\u001b[43m \u001b[49m\u001b[43mlast_window\u001b[49m\u001b[43m,\u001b[49m\n\u001b[1;32m   1592\u001b[0m \u001b[43m    \u001b[49m\u001b[43mexog\u001b[49m\u001b[43m        \u001b[49m\u001b[38;5;241;43m=\u001b[39;49m\u001b[43m \u001b[49m\u001b[43mexog\u001b[49m\n\u001b[1;32m   1593\u001b[0m \u001b[43m\u001b[49m\u001b[43m)\u001b[49m\n\u001b[1;32m   1595\u001b[0m predictions \u001b[38;5;241m=\u001b[39m []\n\u001b[1;32m   1596\u001b[0m \u001b[38;5;28;01mfor\u001b[39;00m level \u001b[38;5;129;01min\u001b[39;00m levels:\n",
      "File \u001b[0;32m~/varios/skforecast/skforecast/ForecasterAutoregMultiSeries/ForecasterAutoregMultiSeries.py:1267\u001b[0m, in \u001b[0;36mForecasterAutoregMultiSeries._create_predict_inputs\u001b[0;34m(self, steps, levels, last_window, exog, predict_boot, in_sample_residuals)\u001b[0m\n\u001b[1;32m   1261\u001b[0m levels, input_levels_is_list \u001b[38;5;241m=\u001b[39m prepare_levels_multiseries(\n\u001b[1;32m   1262\u001b[0m                                    series_X_train \u001b[38;5;241m=\u001b[39m \u001b[38;5;28mself\u001b[39m\u001b[38;5;241m.\u001b[39mseries_X_train,\n\u001b[1;32m   1263\u001b[0m                                    levels         \u001b[38;5;241m=\u001b[39m levels, \n\u001b[1;32m   1264\u001b[0m                                )\n\u001b[1;32m   1266\u001b[0m \u001b[38;5;28;01mif\u001b[39;00m \u001b[38;5;28mself\u001b[39m\u001b[38;5;241m.\u001b[39mfitted \u001b[38;5;129;01mand\u001b[39;00m last_window \u001b[38;5;129;01mis\u001b[39;00m \u001b[38;5;28;01mNone\u001b[39;00m:\n\u001b[0;32m-> 1267\u001b[0m     levels, last_window \u001b[38;5;241m=\u001b[39m \u001b[43mpreprocess_levels_self_last_window_multiseries\u001b[49m\u001b[43m(\u001b[49m\n\u001b[1;32m   1268\u001b[0m \u001b[43m                              \u001b[49m\u001b[43mlevels\u001b[49m\u001b[43m               \u001b[49m\u001b[38;5;241;43m=\u001b[39;49m\u001b[43m \u001b[49m\u001b[43mlevels\u001b[49m\u001b[43m,\u001b[49m\n\u001b[1;32m   1269\u001b[0m \u001b[43m                              \u001b[49m\u001b[43minput_levels_is_list\u001b[49m\u001b[43m \u001b[49m\u001b[38;5;241;43m=\u001b[39;49m\u001b[43m \u001b[49m\u001b[43minput_levels_is_list\u001b[49m\u001b[43m,\u001b[49m\n\u001b[1;32m   1270\u001b[0m \u001b[43m                              \u001b[49m\u001b[43mlast_window\u001b[49m\u001b[43m          \u001b[49m\u001b[38;5;241;43m=\u001b[39;49m\u001b[43m \u001b[49m\u001b[38;5;28;43mself\u001b[39;49m\u001b[38;5;241;43m.\u001b[39;49m\u001b[43mlast_window\u001b[49m\n\u001b[1;32m   1271\u001b[0m \u001b[43m                          \u001b[49m\u001b[43m)\u001b[49m\n\u001b[1;32m   1273\u001b[0m \u001b[38;5;28;01mif\u001b[39;00m \u001b[38;5;28mself\u001b[39m\u001b[38;5;241m.\u001b[39mfitted \u001b[38;5;129;01mand\u001b[39;00m predict_boot:\n\u001b[1;32m   1274\u001b[0m     residuals \u001b[38;5;241m=\u001b[39m prepare_residuals_multiseries(\n\u001b[1;32m   1275\u001b[0m                     levels               \u001b[38;5;241m=\u001b[39m levels,\n\u001b[1;32m   1276\u001b[0m                     use_in_sample        \u001b[38;5;241m=\u001b[39m in_sample_residuals,\n\u001b[1;32m   1277\u001b[0m                     in_sample_residuals  \u001b[38;5;241m=\u001b[39m \u001b[38;5;28mself\u001b[39m\u001b[38;5;241m.\u001b[39min_sample_residuals,\n\u001b[1;32m   1278\u001b[0m                     out_sample_residuals \u001b[38;5;241m=\u001b[39m \u001b[38;5;28mself\u001b[39m\u001b[38;5;241m.\u001b[39mout_sample_residuals\n\u001b[1;32m   1279\u001b[0m                 )\n",
      "File \u001b[0;32m~/varios/skforecast/skforecast/utils/utils.py:2684\u001b[0m, in \u001b[0;36mpreprocess_levels_self_last_window_multiseries\u001b[0;34m(levels, input_levels_is_list, last_window)\u001b[0m\n\u001b[1;32m   2680\u001b[0m     levels \u001b[38;5;241m=\u001b[39m [level \u001b[38;5;28;01mfor\u001b[39;00m level \u001b[38;5;129;01min\u001b[39;00m levels \n\u001b[1;32m   2681\u001b[0m               \u001b[38;5;28;01mif\u001b[39;00m level \u001b[38;5;129;01mnot\u001b[39;00m \u001b[38;5;129;01min\u001b[39;00m not_available_last_window]\n\u001b[1;32m   2683\u001b[0m     \u001b[38;5;28;01mif\u001b[39;00m \u001b[38;5;129;01mnot\u001b[39;00m levels:\n\u001b[0;32m-> 2684\u001b[0m         \u001b[38;5;28;01mraise\u001b[39;00m \u001b[38;5;167;01mValueError\u001b[39;00m(\n\u001b[1;32m   2685\u001b[0m             \u001b[38;5;124mf\u001b[39m\u001b[38;5;124m\"\u001b[39m\u001b[38;5;124mNo series to predict. None of the series \u001b[39m\u001b[38;5;124m\"\u001b[39m\n\u001b[1;32m   2686\u001b[0m             \u001b[38;5;124mf\u001b[39m\u001b[38;5;124m\"\u001b[39m\u001b[38;5;132;01m{\u001b[39;00mlevels\u001b[38;5;250m \u001b[39m\u001b[38;5;241m+\u001b[39m\u001b[38;5;250m \u001b[39m\u001b[38;5;28mlist\u001b[39m(not_available_last_window)\u001b[38;5;132;01m}\u001b[39;00m\u001b[38;5;124m \u001b[39m\u001b[38;5;124m\"\u001b[39m\n\u001b[1;32m   2687\u001b[0m             \u001b[38;5;124mf\u001b[39m\u001b[38;5;124m\"\u001b[39m\u001b[38;5;124mare present in `last_window` attribute. Provide `last_window` \u001b[39m\u001b[38;5;124m\"\u001b[39m\n\u001b[1;32m   2688\u001b[0m             \u001b[38;5;124mf\u001b[39m\u001b[38;5;124m\"\u001b[39m\u001b[38;5;124mas argument in predict method.\u001b[39m\u001b[38;5;124m\"\u001b[39m\n\u001b[1;32m   2689\u001b[0m         )\n\u001b[1;32m   2691\u001b[0m last_index_levels \u001b[38;5;241m=\u001b[39m [\n\u001b[1;32m   2692\u001b[0m     v\u001b[38;5;241m.\u001b[39mindex[\u001b[38;5;241m-\u001b[39m\u001b[38;5;241m1\u001b[39m] \n\u001b[1;32m   2693\u001b[0m     \u001b[38;5;28;01mfor\u001b[39;00m k, v \u001b[38;5;129;01min\u001b[39;00m last_window\u001b[38;5;241m.\u001b[39mitems()\n\u001b[1;32m   2694\u001b[0m     \u001b[38;5;28;01mif\u001b[39;00m k \u001b[38;5;129;01min\u001b[39;00m levels\n\u001b[1;32m   2695\u001b[0m ]\n\u001b[1;32m   2696\u001b[0m \u001b[38;5;28;01mif\u001b[39;00m \u001b[38;5;28mlen\u001b[39m(\u001b[38;5;28mset\u001b[39m(last_index_levels)) \u001b[38;5;241m>\u001b[39m \u001b[38;5;241m1\u001b[39m:\n",
      "\u001b[0;31mValueError\u001b[0m: No series to predict. None of the series ['item_4'] are present in `last_window` attribute. Provide `last_window` as argument in predict method."
     ]
    }
   ],
   "source": [
    "forecaster.predict_interval(steps=1, levels='item_4', last_window=None)"
   ]
  },
  {
   "cell_type": "code",
   "execution_count": null,
   "metadata": {},
   "outputs": [
    {
     "name": "stderr",
     "output_type": "stream",
     "text": [
      "/home/ubuntu/varios/skforecast/skforecast/utils/utils.py:2673: IgnoredArgumentWarning: Levels {'item_4'} are excluded from prediction since they were not stored in `last_window` attribute during training. If you don't want to retrain the Forecaster, provide `last_window` as argument. \n",
      " You can suppress this warning using: warnings.simplefilter('ignore', category=IgnoredArgumentWarning)\n",
      "  warnings.warn(\n"
     ]
    },
    {
     "data": {
      "text/html": [
       "<div>\n",
       "<style scoped>\n",
       "    .dataframe tbody tr th:only-of-type {\n",
       "        vertical-align: middle;\n",
       "    }\n",
       "\n",
       "    .dataframe tbody tr th {\n",
       "        vertical-align: top;\n",
       "    }\n",
       "\n",
       "    .dataframe thead th {\n",
       "        text-align: right;\n",
       "    }\n",
       "</style>\n",
       "<table border=\"1\" class=\"dataframe\">\n",
       "  <thead>\n",
       "    <tr style=\"text-align: right;\">\n",
       "      <th></th>\n",
       "      <th>item_1</th>\n",
       "      <th>item_1_lower_bound</th>\n",
       "      <th>item_1_upper_bound</th>\n",
       "    </tr>\n",
       "  </thead>\n",
       "  <tbody>\n",
       "    <tr>\n",
       "      <th>2014-07-16</th>\n",
       "      <td>22.778094</td>\n",
       "      <td>21.672791</td>\n",
       "      <td>27.20174</td>\n",
       "    </tr>\n",
       "  </tbody>\n",
       "</table>\n",
       "</div>"
      ],
      "text/plain": [
       "               item_1  item_1_lower_bound  item_1_upper_bound\n",
       "2014-07-16  22.778094           21.672791            27.20174"
      ]
     },
     "execution_count": 19,
     "metadata": {},
     "output_type": "execute_result"
    }
   ],
   "source": [
    "forecaster.predict_interval(steps=1, levels=['item_1', 'item_4'], last_window=None)"
   ]
  },
  {
   "cell_type": "code",
   "execution_count": null,
   "metadata": {},
   "outputs": [],
   "source": [
    "forecaster.set_out_sample_residuals(residuals=forecaster.in_sample_residuals)"
   ]
  },
  {
   "cell_type": "code",
   "execution_count": null,
   "metadata": {},
   "outputs": [
    {
     "data": {
      "text/plain": [
       "dict_keys(['item_1', 'item_2', 'item_3', '_unknown_level'])"
      ]
     },
     "execution_count": 26,
     "metadata": {},
     "output_type": "execute_result"
    }
   ],
   "source": [
    "forecaster.out_sample_residuals.keys()"
   ]
  },
  {
   "cell_type": "code",
   "execution_count": null,
   "metadata": {},
   "outputs": [
    {
     "name": "stderr",
     "output_type": "stream",
     "text": [
      "/home/ubuntu/varios/skforecast/skforecast/utils/utils.py:735: UnknownLevelWarning: `levels` {'item_4'} were not included in training. Unknown levels are encoded as NaN, which may cause the prediction to fail if the regressor does not accept NaN values. \n",
      " You can suppress this warning using: warnings.simplefilter('ignore', category=UnknownLevelWarning)\n",
      "  warnings.warn(\n",
      "/home/ubuntu/varios/skforecast/skforecast/utils/utils.py:2778: UnknownLevelWarning: `levels` {'item_4'} are not present in `forecaster.out_sample_residuals`. Use method `set_out_sample_residuals()` before `predict_interval()` to set residuals for these levels. Otherwise, a random sample of the out-sample residuals from other levels will be used. This may lead to inaccurate intervals for the unknown levels. \n",
      " You can suppress this warning using: warnings.simplefilter('ignore', category=UnknownLevelWarning)\n",
      "  warnings.warn(\n",
      "/home/ubuntu/varios/skforecast/skforecast/utils/utils.py:735: UnknownLevelWarning: `levels` {'item_4'} were not included in training. Unknown levels are encoded as NaN, which may cause the prediction to fail if the regressor does not accept NaN values. \n",
      " You can suppress this warning using: warnings.simplefilter('ignore', category=UnknownLevelWarning)\n",
      "  warnings.warn(\n"
     ]
    },
    {
     "data": {
      "text/html": [
       "<div>\n",
       "<style scoped>\n",
       "    .dataframe tbody tr th:only-of-type {\n",
       "        vertical-align: middle;\n",
       "    }\n",
       "\n",
       "    .dataframe tbody tr th {\n",
       "        vertical-align: top;\n",
       "    }\n",
       "\n",
       "    .dataframe thead th {\n",
       "        text-align: right;\n",
       "    }\n",
       "</style>\n",
       "<table border=\"1\" class=\"dataframe\">\n",
       "  <thead>\n",
       "    <tr style=\"text-align: right;\">\n",
       "      <th></th>\n",
       "      <th>item_4</th>\n",
       "      <th>item_4_lower_bound</th>\n",
       "      <th>item_4_upper_bound</th>\n",
       "    </tr>\n",
       "  </thead>\n",
       "  <tbody>\n",
       "    <tr>\n",
       "      <th>2014-07-16</th>\n",
       "      <td>23.893397</td>\n",
       "      <td>19.701222</td>\n",
       "      <td>29.869204</td>\n",
       "    </tr>\n",
       "  </tbody>\n",
       "</table>\n",
       "</div>"
      ],
      "text/plain": [
       "               item_4  item_4_lower_bound  item_4_upper_bound\n",
       "2014-07-16  23.893397           19.701222           29.869204"
      ]
     },
     "execution_count": 24,
     "metadata": {},
     "output_type": "execute_result"
    }
   ],
   "source": [
    "forecaster.predict_interval(steps=1, levels='item_4', last_window=lw, in_sample_residuals=False)"
   ]
  },
  {
   "cell_type": "code",
   "execution_count": null,
   "metadata": {},
   "outputs": [],
   "source": []
  },
  {
   "cell_type": "code",
   "execution_count": 11,
   "metadata": {},
   "outputs": [],
   "source": [
    "# Create and fit a Forecaster Multi-Series\n",
    "# ==============================================================================\n",
    "# Generate exogenous variable month\n",
    "# ==============================================================================\n",
    "data_exog = data.copy()\n",
    "data_exog['month'] = data_exog.index.month\n",
    "\n",
    "# Split data into train-val-test\n",
    "# ==============================================================================\n",
    "end_train = '2014-07-15 23:59:00'\n",
    "data_exog_train = data_exog.loc[:end_train, :].copy()\n",
    "data_exog_test  = data_exog.loc[end_train:, :].copy()\n",
    "\n",
    "data_exog_train.head(3)\n",
    "\n",
    "forecaster = ForecasterAutoregMultiSeries(\n",
    "                 regressor          = LGBMRegressor(random_state=123, n_estimators=10, verbose=-1),\n",
    "                 lags               = 3,\n",
    "                 encoding           = 'ordinal',\n",
    "                 transformer_series = None,\n",
    "                 transformer_exog   = None,\n",
    "                 weight_func        = None,\n",
    "                 series_weights     = None,\n",
    "                 differentiation    = None,\n",
    "                 dropna_from_series = False,\n",
    "                 fit_kwargs         = None,\n",
    "                 forecaster_id      = None\n",
    "             )\n",
    "\n",
    "forecaster.fit(\n",
    "    series = data_exog_train[['item_1', 'item_2', 'item_3']], \n",
    "    exog   = data_exog_train[['month']]\n",
    ")"
   ]
  },
  {
   "cell_type": "code",
   "execution_count": 12,
   "metadata": {},
   "outputs": [],
   "source": [
    "steps  = 10\n",
    "level = 'item_1'\n",
    "\n",
    "(\n",
    "    last_window_values_dict,\n",
    "    exog_values_dict,\n",
    "    levels,\n",
    "    prediction_index,\n",
    "    _\n",
    ") = forecaster._create_predict_inputs(\n",
    "    steps       = steps,\n",
    "    levels      = level,\n",
    "    exog        = data_exog_test[['month']]\n",
    ")\n"
   ]
  },
  {
   "cell_type": "code",
   "execution_count": 13,
   "metadata": {},
   "outputs": [
    {
     "data": {
      "text/plain": [
       "array([22.80722376, 21.06453624, 20.16995613, 20.79247993, 21.18398596,\n",
       "       21.18398596, 20.58098726, 20.58098726, 21.18398596, 21.18398596])"
      ]
     },
     "execution_count": 13,
     "metadata": {},
     "output_type": "execute_result"
    }
   ],
   "source": [
    "forecaster._recursive_predict(\n",
    "    steps       = steps,\n",
    "    level       = level,\n",
    "    last_window = last_window_values_dict[level],\n",
    "    exog        = exog_values_dict[level]\n",
    ")"
   ]
  },
  {
   "cell_type": "code",
   "execution_count": 14,
   "metadata": {},
   "outputs": [
    {
     "data": {
      "text/plain": [
       "array([22.80722376, 21.06453624, 20.16995613, 20.79247993, 21.18398596,\n",
       "       21.18398596, 20.58098726, 20.58098726, 21.18398596, 21.18398596])"
      ]
     },
     "execution_count": 14,
     "metadata": {},
     "output_type": "execute_result"
    }
   ],
   "source": [
    "forecaster._recursive_predict_new(\n",
    "    steps       = steps,\n",
    "    level       = level,\n",
    "    last_window = last_window_values_dict[level],\n",
    "    exog        = exog_values_dict[level]\n",
    ")"
   ]
  },
  {
   "cell_type": "code",
   "execution_count": 15,
   "metadata": {},
   "outputs": [
    {
     "name": "stdout",
     "output_type": "stream",
     "text": [
      "3.9 ms ± 152 µs per loop (mean ± std. dev. of 10 runs, 100 loops each)\n"
     ]
    }
   ],
   "source": [
    "%%timeit -r 10 -n 100\n",
    "\n",
    "forecaster._recursive_predict(\n",
    "    steps       = steps,\n",
    "    level       = level,\n",
    "    last_window = last_window_values_dict[level],\n",
    "    exog        = exog_values_dict[level]\n",
    ")"
   ]
  },
  {
   "cell_type": "code",
   "execution_count": 16,
   "metadata": {},
   "outputs": [
    {
     "name": "stdout",
     "output_type": "stream",
     "text": [
      "4.15 ms ± 273 µs per loop (mean ± std. dev. of 10 runs, 100 loops each)\n"
     ]
    }
   ],
   "source": [
    "%%timeit -r 10 -n 100\n",
    "\n",
    "forecaster._recursive_predict_new(\n",
    "    steps       = steps,\n",
    "    level       = level,\n",
    "    last_window = last_window_values_dict[level],\n",
    "    exog        = exog_values_dict[level]\n",
    ")"
   ]
  },
  {
   "cell_type": "code",
   "execution_count": null,
   "metadata": {},
   "outputs": [],
   "source": []
  },
  {
   "cell_type": "code",
   "execution_count": null,
   "metadata": {},
   "outputs": [],
   "source": []
  },
  {
   "cell_type": "code",
   "execution_count": 25,
   "metadata": {},
   "outputs": [
    {
     "name": "stdout",
     "output_type": "stream",
     "text": [
      "2.2.2\n"
     ]
    },
    {
     "data": {
      "text/html": [
       "<div>\n",
       "<style scoped>\n",
       "    .dataframe tbody tr th:only-of-type {\n",
       "        vertical-align: middle;\n",
       "    }\n",
       "\n",
       "    .dataframe tbody tr th {\n",
       "        vertical-align: top;\n",
       "    }\n",
       "\n",
       "    .dataframe thead th {\n",
       "        text-align: right;\n",
       "    }\n",
       "</style>\n",
       "<table border=\"1\" class=\"dataframe\">\n",
       "  <thead>\n",
       "    <tr style=\"text-align: right;\">\n",
       "      <th></th>\n",
       "      <th>item_1</th>\n",
       "      <th>item_2</th>\n",
       "      <th>item_3</th>\n",
       "    </tr>\n",
       "  </thead>\n",
       "  <tbody>\n",
       "    <tr>\n",
       "      <th>0</th>\n",
       "      <td>0.069732</td>\n",
       "      <td>0.640479</td>\n",
       "      <td>0.440521</td>\n",
       "    </tr>\n",
       "    <tr>\n",
       "      <th>1</th>\n",
       "      <td>0.618573</td>\n",
       "      <td>0.532810</td>\n",
       "      <td>0.159427</td>\n",
       "    </tr>\n",
       "    <tr>\n",
       "      <th>2</th>\n",
       "      <td>0.569972</td>\n",
       "      <td>0.481268</td>\n",
       "      <td>0.598937</td>\n",
       "    </tr>\n",
       "  </tbody>\n",
       "</table>\n",
       "</div>"
      ],
      "text/plain": [
       "     item_1    item_2    item_3\n",
       "0  0.069732  0.640479  0.440521\n",
       "1  0.618573  0.532810  0.159427\n",
       "2  0.569972  0.481268  0.598937"
      ]
     },
     "metadata": {},
     "output_type": "display_data"
    },
    {
     "data": {
      "text/html": [
       "<div>\n",
       "<style scoped>\n",
       "    .dataframe tbody tr th:only-of-type {\n",
       "        vertical-align: middle;\n",
       "    }\n",
       "\n",
       "    .dataframe tbody tr th {\n",
       "        vertical-align: top;\n",
       "    }\n",
       "\n",
       "    .dataframe thead th {\n",
       "        text-align: right;\n",
       "    }\n",
       "</style>\n",
       "<table border=\"1\" class=\"dataframe\">\n",
       "  <thead>\n",
       "    <tr style=\"text-align: right;\">\n",
       "      <th></th>\n",
       "      <th>item_1</th>\n",
       "      <th>item_2</th>\n",
       "    </tr>\n",
       "  </thead>\n",
       "  <tbody>\n",
       "    <tr>\n",
       "      <th>0</th>\n",
       "      <td>0.069732</td>\n",
       "      <td>0.640479</td>\n",
       "    </tr>\n",
       "    <tr>\n",
       "      <th>1</th>\n",
       "      <td>0.618573</td>\n",
       "      <td>0.532810</td>\n",
       "    </tr>\n",
       "    <tr>\n",
       "      <th>2</th>\n",
       "      <td>0.569972</td>\n",
       "      <td>0.481268</td>\n",
       "    </tr>\n",
       "  </tbody>\n",
       "</table>\n",
       "</div>"
      ],
      "text/plain": [
       "     item_1    item_2\n",
       "0  0.069732  0.640479\n",
       "1  0.618573  0.532810\n",
       "2  0.569972  0.481268"
      ]
     },
     "metadata": {},
     "output_type": "display_data"
    },
    {
     "name": "stdout",
     "output_type": "stream",
     "text": [
      "2139660214864 2139683424272 False\n",
      "2139683418384 2139683406224 False\n"
     ]
    },
    {
     "data": {
      "text/html": [
       "<div>\n",
       "<style scoped>\n",
       "    .dataframe tbody tr th:only-of-type {\n",
       "        vertical-align: middle;\n",
       "    }\n",
       "\n",
       "    .dataframe tbody tr th {\n",
       "        vertical-align: top;\n",
       "    }\n",
       "\n",
       "    .dataframe thead th {\n",
       "        text-align: right;\n",
       "    }\n",
       "</style>\n",
       "<table border=\"1\" class=\"dataframe\">\n",
       "  <thead>\n",
       "    <tr style=\"text-align: right;\">\n",
       "      <th></th>\n",
       "      <th>item_1</th>\n",
       "      <th>item_2</th>\n",
       "      <th>item_3</th>\n",
       "    </tr>\n",
       "  </thead>\n",
       "  <tbody>\n",
       "    <tr>\n",
       "      <th>0</th>\n",
       "      <td>NaN</td>\n",
       "      <td>0.640479</td>\n",
       "      <td>0.440521</td>\n",
       "    </tr>\n",
       "    <tr>\n",
       "      <th>1</th>\n",
       "      <td>0.618573</td>\n",
       "      <td>0.532810</td>\n",
       "      <td>0.159427</td>\n",
       "    </tr>\n",
       "    <tr>\n",
       "      <th>2</th>\n",
       "      <td>0.569972</td>\n",
       "      <td>0.481268</td>\n",
       "      <td>0.598937</td>\n",
       "    </tr>\n",
       "  </tbody>\n",
       "</table>\n",
       "</div>"
      ],
      "text/plain": [
       "     item_1    item_2    item_3\n",
       "0       NaN  0.640479  0.440521\n",
       "1  0.618573  0.532810  0.159427\n",
       "2  0.569972  0.481268  0.598937"
      ]
     },
     "metadata": {},
     "output_type": "display_data"
    },
    {
     "data": {
      "text/html": [
       "<div>\n",
       "<style scoped>\n",
       "    .dataframe tbody tr th:only-of-type {\n",
       "        vertical-align: middle;\n",
       "    }\n",
       "\n",
       "    .dataframe tbody tr th {\n",
       "        vertical-align: top;\n",
       "    }\n",
       "\n",
       "    .dataframe thead th {\n",
       "        text-align: right;\n",
       "    }\n",
       "</style>\n",
       "<table border=\"1\" class=\"dataframe\">\n",
       "  <thead>\n",
       "    <tr style=\"text-align: right;\">\n",
       "      <th></th>\n",
       "      <th>item_1</th>\n",
       "      <th>item_2</th>\n",
       "    </tr>\n",
       "  </thead>\n",
       "  <tbody>\n",
       "    <tr>\n",
       "      <th>0</th>\n",
       "      <td>NaN</td>\n",
       "      <td>0.640479</td>\n",
       "    </tr>\n",
       "    <tr>\n",
       "      <th>1</th>\n",
       "      <td>0.618573</td>\n",
       "      <td>0.532810</td>\n",
       "    </tr>\n",
       "    <tr>\n",
       "      <th>2</th>\n",
       "      <td>0.569972</td>\n",
       "      <td>0.481268</td>\n",
       "    </tr>\n",
       "  </tbody>\n",
       "</table>\n",
       "</div>"
      ],
      "text/plain": [
       "     item_1    item_2\n",
       "0       NaN  0.640479\n",
       "1  0.618573  0.532810\n",
       "2  0.569972  0.481268"
      ]
     },
     "metadata": {},
     "output_type": "display_data"
    },
    {
     "name": "stdout",
     "output_type": "stream",
     "text": [
      "2139660214864 2139683424272 False\n",
      "2139683418384 2139683411920 False\n"
     ]
    }
   ],
   "source": [
    "# Create a dummy DataFrame\n",
    "# ==============================================================================\n",
    "print(pd.__version__)\n",
    "n = 3\n",
    "\n",
    "df = pd.DataFrame({\n",
    "    'item_1': np.random.normal(loc=0, scale=1, size=n),\n",
    "    'item_2': np.random.normal(loc=0, scale=1, size=n),\n",
    "    'item_3': np.random.normal(loc=0, scale=1, size=n),\n",
    "    'month' : np.random.randint(1, 12, n)\n",
    "}).astype(float)\n",
    "df = pd.DataFrame(np.random.rand(n, 3), columns=['item_1', 'item_2', 'item_3'])\n",
    "df_view = df.iloc[:, :-1]\n",
    "display(df)\n",
    "display(df_view)\n",
    "print(id(df), id(df_view), id(df) == id(df_view) )\n",
    "print(id(df['item_1']), id(df_view['item_1']), id(df['item_1']) == id(df_view['item_1']))\n",
    "df_view.at[0, 'item_1'] = np.nan\n",
    "display(df)\n",
    "display(df_view)\n",
    "print(id(df), id(df_view), id(df) == id(df_view) )\n",
    "print(id(df['item_1']), id(df_view['item_1']), id(df['item_1']) == id(df_view['item_1']))\n"
   ]
  },
  {
   "cell_type": "code",
   "execution_count": 30,
   "metadata": {},
   "outputs": [
    {
     "name": "stdout",
     "output_type": "stream",
     "text": [
      "Desde diccionario:\n",
      "DF 2139659994640 2139683512464 False\n",
      "item_1 2139683397264 2139683452240 False\n",
      "Values 2139676957392 2139676957392 True\n",
      "     item_1    item_2    item_3  month\n",
      "0 -0.085345  0.239886  1.945927    1.0\n",
      "1  1.599344  0.554975 -1.009476   11.0\n",
      "2 -0.711111 -0.995174 -0.490364    4.0\n",
      "     item_1    item_2    item_3\n",
      "0       NaN  0.239886  1.945927\n",
      "1  1.599344  0.554975 -1.009476\n",
      "2 -0.711111 -0.995174 -0.490364\n",
      "DF 2139659994640 2139683512464 False\n",
      "item_1 2139683397264 2139683449296 False\n",
      "Values 2139676957680 2139676957680 True\n",
      "\n",
      "Desde array numpy:\n",
      "DF 2139659813968 2139660031824 False\n",
      "item_1 2139677044688 2139677045200 False\n",
      "Values 2139676957776 2139676957776 True\n",
      "     item_1    item_2    item_3\n",
      "0       NaN  0.929748  0.165783\n",
      "1  0.167344  0.169843  0.840790\n",
      "2  0.261547  0.721513  0.237605\n",
      "     item_1    item_2\n",
      "0       NaN  0.929748\n",
      "1  0.167344  0.169843\n",
      "2  0.261547  0.721513\n",
      "DF 2139659813968 2139660031824 False\n",
      "item_1 2139677044688 2139677045392 False\n",
      "Values 2139676955184 2139676955184 True\n"
     ]
    }
   ],
   "source": [
    "import pandas as pd\n",
    "import numpy as np\n",
    "\n",
    "n = 3\n",
    "\n",
    "# Primera opción: DataFrame desde un diccionario\n",
    "df = pd.DataFrame({\n",
    "    'item_1': np.random.normal(loc=0, scale=1, size=n),\n",
    "    'item_2': np.random.normal(loc=0, scale=1, size=n),\n",
    "    'item_3': np.random.normal(loc=0, scale=1, size=n),\n",
    "    'month' : np.random.randint(1, 12, n)\n",
    "}).astype(float)\n",
    "df_view = df.iloc[:, :-1]\n",
    "print(\"Desde diccionario:\")\n",
    "print(\"DF\", id(df), id(df_view), id(df) == id(df_view) )\n",
    "print(\"item_1\", id(df['item_1']), id(df_view['item_1']), id(df['item_1']) == id(df_view['item_1']))\n",
    "print(\"Values\", id(df.values), id(df_view.values), id(df.values) == id(df_view.values) )\n",
    "df_view.at[0, 'item_1'] = np.nan\n",
    "print(df)\n",
    "print(df_view)\n",
    "print(\"DF\", id(df), id(df_view), id(df) == id(df_view) )\n",
    "print(\"item_1\", id(df['item_1']), id(df_view['item_1']), id(df['item_1']) == id(df_view['item_1']))\n",
    "print(\"Values\", id(df.values), id(df_view.values), id(df.values) == id(df_view.values) )\n",
    "\n",
    "# Segunda opción: DataFrame desde un array numpy\n",
    "df = pd.DataFrame(np.random.rand(n, 3), columns=['item_1', 'item_2', 'item_3'])\n",
    "df_view_2 = df.iloc[:, :-1]\n",
    "print(\"\\nDesde array numpy:\")\n",
    "print(\"DF\", id(df), id(df_view_2), id(df) == id(df_view_2) )\n",
    "print(\"item_1\", id(df['item_1']), id(df_view_2['item_1']), id(df['item_1']) == id(df_view_2['item_1']))\n",
    "print(\"Values\", id(df.values), id(df_view_2.values), id(df.values) == id(df_view_2.values) )\n",
    "df_view_2.at[0, 'item_1'] = np.nan\n",
    "print(df)\n",
    "print(df_view_2)\n",
    "print(\"DF\", id(df), id(df_view_2), id(df) == id(df_view_2) )\n",
    "print(\"item_1\", id(df['item_1']), id(df_view_2['item_1']), id(df['item_1']) == id(df_view_2['item_1']))\n",
    "print(\"Values\", id(df.values), id(df_view_2.values), id(df.values) == id(df_view_2.values) )\n"
   ]
  },
  {
   "cell_type": "code",
   "execution_count": 31,
   "metadata": {},
   "outputs": [
    {
     "name": "stdout",
     "output_type": "stream",
     "text": [
      "Desde diccionario:\n",
      "DF 2139659726992 2139683355024 False\n",
      "item_1 2139683449296 2139660195536 False\n",
      "Values 2139676955376 2139676955376 True\n",
      "     item_1    item_2    item_3  month\n",
      "0 -1.412770 -1.907469 -0.542944    9.0\n",
      "1  0.522530 -0.755245 -1.929362    3.0\n",
      "2 -0.424111 -0.913669  0.023097    4.0\n",
      "     item_1    item_2    item_3\n",
      "0       NaN -1.907469 -0.542944\n",
      "1  0.522530 -0.755245 -1.929362\n",
      "2 -0.424111 -0.913669  0.023097\n",
      "DF 2139659726992 2139683355024 False\n",
      "item_1 2139683449296 2139683512464 False\n",
      "Values 2139676958640 2139676958640 True\n",
      "\n",
      "Desde array numpy:\n",
      "DF 2139677048400 2139677043408 False\n",
      "item_1 2139683449296 2139677045776 False\n",
      "Values 2139676959120 2139676959120 True\n",
      "     item_1    item_2    item_3\n",
      "0  0.264461  0.298399  0.803422\n",
      "1  0.737960  0.371038  0.342819\n",
      "2  0.794910  0.326141  0.583364\n",
      "    item_1    item_2\n",
      "0      NaN  0.298399\n",
      "1  0.73796  0.371038\n",
      "2  0.79491  0.326141\n",
      "DF 2139677048400 2139677043408 False\n",
      "item_1 2139683449296 2139677045776 False\n",
      "Values 2139676958832 2139676958832 True\n"
     ]
    }
   ],
   "source": [
    "import pandas as pd\n",
    "import numpy as np\n",
    "\n",
    "n = 3\n",
    "\n",
    "# Primera opción: DataFrame desde un diccionario\n",
    "df = pd.DataFrame({\n",
    "    'item_1': np.random.normal(loc=0, scale=1, size=n),\n",
    "    'item_2': np.random.normal(loc=0, scale=1, size=n),\n",
    "    'item_3': np.random.normal(loc=0, scale=1, size=n),\n",
    "    'month' : np.random.randint(1, 12, n)\n",
    "}).astype(float)\n",
    "df_view = df.drop(columns='month')\n",
    "print(\"Desde diccionario:\")\n",
    "print(\"DF\", id(df), id(df_view), id(df) == id(df_view) )\n",
    "print(\"item_1\", id(df['item_1']), id(df_view['item_1']), id(df['item_1']) == id(df_view['item_1']))\n",
    "print(\"Values\", id(df.values), id(df_view.values), id(df.values) == id(df_view.values) )\n",
    "df_view.at[0, 'item_1'] = np.nan\n",
    "print(df)\n",
    "print(df_view)\n",
    "print(\"DF\", id(df), id(df_view), id(df) == id(df_view) )\n",
    "print(\"item_1\", id(df['item_1']), id(df_view['item_1']), id(df['item_1']) == id(df_view['item_1']))\n",
    "print(\"Values\", id(df.values), id(df_view.values), id(df.values) == id(df_view.values) )\n",
    "\n",
    "# Segunda opción: DataFrame desde un array numpy\n",
    "df = pd.DataFrame(np.random.rand(n, 3), columns=['item_1', 'item_2', 'item_3'])\n",
    "df_view_2 = df.drop(columns='item_3')\n",
    "print(\"\\nDesde array numpy:\")\n",
    "print(\"DF\", id(df), id(df_view_2), id(df) == id(df_view_2) )\n",
    "print(\"item_1\", id(df['item_1']), id(df_view_2['item_1']), id(df['item_1']) == id(df_view_2['item_1']))\n",
    "print(\"Values\", id(df.values), id(df_view_2.values), id(df.values) == id(df_view_2.values) )\n",
    "df_view_2.at[0, 'item_1'] = np.nan\n",
    "print(df)\n",
    "print(df_view_2)\n",
    "print(\"DF\", id(df), id(df_view_2), id(df) == id(df_view_2) )\n",
    "print(\"item_1\", id(df['item_1']), id(df_view_2['item_1']), id(df['item_1']) == id(df_view_2['item_1']))\n",
    "print(\"Values\", id(df.values), id(df_view_2.values), id(df.values) == id(df_view_2.values) )\n"
   ]
  },
  {
   "cell_type": "code",
   "execution_count": null,
   "metadata": {},
   "outputs": [],
   "source": []
  },
  {
   "cell_type": "code",
   "execution_count": 12,
   "metadata": {},
   "outputs": [],
   "source": [
    "import re\n",
    "import pytest\n",
    "import joblib\n",
    "import numpy as np\n",
    "import pandas as pd\n",
    "from pathlib import Path\n",
    "from sklearn.exceptions import NotFittedError\n",
    "from sklearn.compose import ColumnTransformer\n",
    "from sklearn.preprocessing import StandardScaler\n",
    "from sklearn.preprocessing import MinMaxScaler\n",
    "from sklearn.preprocessing import OneHotEncoder\n",
    "from sklearn.preprocessing import OrdinalEncoder\n",
    "from sklearn.preprocessing import FunctionTransformer\n",
    "from sklearn.compose import make_column_transformer\n",
    "from sklearn.compose import make_column_selector\n",
    "from sklearn.pipeline import make_pipeline\n",
    "from sklearn.linear_model import LinearRegression\n",
    "from sklearn.ensemble import HistGradientBoostingRegressor\n",
    "from lightgbm import LGBMRegressor\n",
    "\n",
    "from skforecast.exceptions import IgnoredArgumentWarning\n",
    "from skforecast.preprocessing import TimeSeriesDifferentiator\n",
    "from skforecast.ForecasterAutoregMultiSeries import ForecasterAutoregMultiSeries\n",
    "\n",
    "# Fixtures\n",
    "from skforecast.ForecasterAutoregMultiSeries.tests.fixtures_ForecasterAutoregMultiSeries import series\n",
    "from skforecast.ForecasterAutoregMultiSeries.tests.fixtures_ForecasterAutoregMultiSeries import exog\n",
    "from skforecast.ForecasterAutoregMultiSeries.tests.fixtures_ForecasterAutoregMultiSeries import exog_predict\n",
    "\n",
    "\n",
    "series_dict = joblib.load(r\"C:\\Users\\jaesc2\\GitHub\\skforecast\\skforecast\\ForecasterAutoregMultiSeries\\tests\\fixture_sample_multi_series.joblib\")\n",
    "exog_dict = joblib.load(r\"C:\\Users\\jaesc2\\GitHub\\skforecast\\skforecast\\ForecasterAutoregMultiSeries\\tests\\fixture_sample_multi_series_exog.joblib\")\n",
    "end_train = \"2016-07-31 23:59:00\"\n",
    "series_dict_train = {k: v.loc[:end_train,] for k, v in series_dict.items()}\n",
    "exog_dict_train = {k: v.loc[:end_train,] for k, v in exog_dict.items()}\n",
    "series_dict_test = {k: v.loc[end_train:,] for k, v in series_dict.items()}\n",
    "exog_dict_test = {k: v.loc[end_train:,] for k, v in exog_dict.items()}"
   ]
  },
  {
   "cell_type": "code",
   "execution_count": 10,
   "metadata": {},
   "outputs": [
    {
     "name": "stderr",
     "output_type": "stream",
     "text": [
      "c:\\Users\\jaesc2\\GitHub\\skforecast\\skforecast\\ForecasterAutoregMultiSeries\\ForecasterAutoregMultiSeries.py:833: MissingValuesWarning: NaNs detected in `y_train`. They have been dropped because the target variable cannot have NaN values. Same rows have been dropped from `X_train` to maintain alignment. This is caused by series with interspersed NaNs. \n",
      " You can suppress this warning using: warnings.simplefilter('ignore', category=MissingValuesWarning)\n",
      "  warnings.warn(\n",
      "c:\\Users\\jaesc2\\GitHub\\skforecast\\skforecast\\ForecasterAutoregMultiSeries\\ForecasterAutoregMultiSeries.py:855: MissingValuesWarning: NaNs detected in `X_train`. Some regressors do not allow NaN values during training. If you want to drop them, set `forecaster.dropna_from_series = True`. \n",
      " You can suppress this warning using: warnings.simplefilter('ignore', category=MissingValuesWarning)\n",
      "  warnings.warn(\n",
      "c:\\Users\\jaesc2\\GitHub\\skforecast\\skforecast\\ForecasterAutoregMultiSeries\\ForecasterAutoregMultiSeries.py:890: IgnoredArgumentWarning: Series {'id_10101'} are not present in `series`. No last window is stored for them. \n",
      " You can suppress this warning using: warnings.simplefilter('ignore', category=IgnoredArgumentWarning)\n",
      "  warnings.warn(\n"
     ]
    }
   ],
   "source": [
    "forecaster = ForecasterAutoregMultiSeries(\n",
    "        regressor=LGBMRegressor(\n",
    "            n_estimators=2, random_state=123, verbose=-1, max_depth=2\n",
    "        ),\n",
    "        lags=14,\n",
    "        encoding='onehot',\n",
    "        differentiation=1,\n",
    "        dropna_from_series=False,\n",
    "        transformer_series=StandardScaler(),\n",
    "        transformer_exog=StandardScaler(),\n",
    ")\n",
    "forecaster.fit(\n",
    "    series=series_dict_train, exog=exog_dict_train, suppress_warnings=False,\n",
    "    store_last_window=['id_1000', 'id_1001', 'id_10101']\n",
    ")"
   ]
  },
  {
   "cell_type": "code",
   "execution_count": 8,
   "metadata": {},
   "outputs": [
    {
     "data": {
      "text/plain": [
       "dict_keys(['id_1000', 'id_1001'])"
      ]
     },
     "execution_count": 8,
     "metadata": {},
     "output_type": "execute_result"
    }
   ],
   "source": [
    "forecaster.last_window.keys()"
   ]
  },
  {
   "cell_type": "code",
   "execution_count": null,
   "metadata": {},
   "outputs": [],
   "source": []
  },
  {
   "cell_type": "code",
   "execution_count": 6,
   "metadata": {},
   "outputs": [
    {
     "data": {
      "text/plain": [
       "{'id_1000': StandardScaler(),\n",
       " 'id_1001': StandardScaler(),\n",
       " 'id_1002': StandardScaler(),\n",
       " 'id_1003': StandardScaler(),\n",
       " 'id_1004': StandardScaler(),\n",
       " '_unknown_level': StandardScaler()}"
      ]
     },
     "execution_count": 6,
     "metadata": {},
     "output_type": "execute_result"
    }
   ],
   "source": [
    "forecaster.transformer_series_"
   ]
  },
  {
   "cell_type": "code",
   "execution_count": 97,
   "metadata": {},
   "outputs": [
    {
     "name": "stderr",
     "output_type": "stream",
     "text": [
      "c:\\Users\\jaesc2\\GitHub\\skforecast\\skforecast\\utils\\utils.py:259: UnknownLevelWarning: If `transformer_series` is a `dict`, a transformer must be provided to transform series that do not exist during training. Add the key '_unknown_level' to `transformer_series`. For example: {'_unknown_level': your_transformer}. \n",
      " You can suppress this warning using: warnings.simplefilter('ignore', category=UnknownLevelWarning)\n",
      "  warnings.warn(\n",
      "c:\\Users\\jaesc2\\GitHub\\skforecast\\skforecast\\ForecasterAutoregMultiSeries\\ForecasterAutoregMultiSeries.py:825: MissingValuesWarning: NaNs detected in `y_train`. They have been dropped because the target variable cannot have NaN values. Same rows have been dropped from `X_train` to maintain alignment. This is caused by series with interspersed NaNs. \n",
      " You can suppress this warning using: warnings.simplefilter('ignore', category=MissingValuesWarning)\n",
      "  warnings.warn(\n",
      "c:\\Users\\jaesc2\\GitHub\\skforecast\\skforecast\\ForecasterAutoregMultiSeries\\ForecasterAutoregMultiSeries.py:847: MissingValuesWarning: NaNs detected in `X_train`. Some regressors do not allow NaN values during training. If you want to drop them, set `forecaster.dropna_from_series = True`. \n",
      " You can suppress this warning using: warnings.simplefilter('ignore', category=MissingValuesWarning)\n",
      "  warnings.warn(\n"
     ]
    },
    {
     "data": {
      "text/plain": [
       "{'id_1000': StandardScaler(),\n",
       " 'id_1001': StandardScaler(),\n",
       " 'id_1002': StandardScaler(),\n",
       " 'id_1003': StandardScaler(),\n",
       " 'id_1004': StandardScaler(),\n",
       " '_unknown_level': None}"
      ]
     },
     "execution_count": 97,
     "metadata": {},
     "output_type": "execute_result"
    }
   ],
   "source": [
    "\n",
    "transformer_series = {\n",
    "    'id_1000': StandardScaler(), \n",
    "    'id_1001': StandardScaler(),\n",
    "    'id_1002': StandardScaler(),\n",
    "    'id_1003': StandardScaler(),\n",
    "    'id_1004': StandardScaler()\n",
    "}\n",
    "\n",
    "forecaster = ForecasterAutoregMultiSeries(\n",
    "        regressor=LGBMRegressor(\n",
    "            n_estimators=200, random_state=123, verbose=-1, max_depth=7\n",
    "        ),\n",
    "        lags=14,\n",
    "        encoding='ordinal',\n",
    "        differentiation=None,\n",
    "        dropna_from_series=False,\n",
    "        transformer_series=transformer_series,\n",
    "        transformer_exog=StandardScaler(),\n",
    ")\n",
    "forecaster.fit(\n",
    "    series=series_dict_train, \n",
    "    exog=exog_dict_train, \n",
    "    suppress_warnings=False\n",
    ")\n",
    "forecaster.transformer_series_"
   ]
  },
  {
   "cell_type": "code",
   "execution_count": null,
   "metadata": {},
   "outputs": [],
   "source": [
    "series_dict = {\n",
    "    '1': pd.Series(np.arange(10)),\n",
    "    '2': pd.Series()\n",
    "}"
   ]
  },
  {
   "cell_type": "code",
   "execution_count": 94,
   "metadata": {},
   "outputs": [
    {
     "data": {
      "text/plain": [
       "['id_1000', 'id_1001', 'id_1002', 'id_1003', 'id_1004']"
      ]
     },
     "execution_count": 94,
     "metadata": {},
     "output_type": "execute_result"
    }
   ],
   "source": [
    "forecaster.series_col_names"
   ]
  },
  {
   "cell_type": "code",
   "execution_count": 84,
   "metadata": {},
   "outputs": [
    {
     "data": {
      "text/plain": [
       "dict_keys(['_unknown_level'])"
      ]
     },
     "execution_count": 84,
     "metadata": {},
     "output_type": "execute_result"
    }
   ],
   "source": [
    "forecaster.in_sample_residuals.keys()"
   ]
  },
  {
   "cell_type": "code",
   "execution_count": 85,
   "metadata": {},
   "outputs": [
    {
     "name": "stderr",
     "output_type": "stream",
     "text": [
      "c:\\Users\\jaesc2\\GitHub\\skforecast\\skforecast\\utils\\utils.py:891: MissingExogWarning: `exog` does not contain keys for levels {'id_1005'}. Missing levels are filled with NaN. Most of machine learning models do not allow missing values. Prediction method may fail. \n",
      " You can suppress this warning using: warnings.simplefilter('ignore', category=MissingExogWarning)\n",
      "  warnings.warn(\n",
      "c:\\Users\\jaesc2\\GitHub\\skforecast\\skforecast\\utils\\utils.py:943: MissingExogWarning: {'air_temperature', 'wind_speed'} not present in `exog` for series 'id_1000'. All values will be NaN. \n",
      " You can suppress this warning using: warnings.simplefilter('ignore', category=MissingExogWarning)\n",
      "  warnings.warn(\n",
      "c:\\Users\\jaesc2\\GitHub\\skforecast\\skforecast\\utils\\utils.py:943: MissingExogWarning: {'cos_day_of_week'} not present in `exog` for series 'id_1003'. All values will be NaN. \n",
      " You can suppress this warning using: warnings.simplefilter('ignore', category=MissingExogWarning)\n",
      "  warnings.warn(\n",
      "c:\\Users\\jaesc2\\GitHub\\skforecast\\skforecast\\utils\\utils.py:448: MissingValuesWarning: `exog` for series 'id_1000' has missing values. Most machine learning models do not allow missing values. Fitting the forecaster may fail. \n",
      " You can suppress this warning using: warnings.simplefilter('ignore', category=MissingValuesWarning)\n",
      "  warnings.warn(\n",
      "c:\\Users\\jaesc2\\GitHub\\skforecast\\skforecast\\utils\\utils.py:448: MissingValuesWarning: `exog` for series 'id_1003' has missing values. Most machine learning models do not allow missing values. Fitting the forecaster may fail. \n",
      " You can suppress this warning using: warnings.simplefilter('ignore', category=MissingValuesWarning)\n",
      "  warnings.warn(\n"
     ]
    },
    {
     "data": {
      "text/html": [
       "<div>\n",
       "<style scoped>\n",
       "    .dataframe tbody tr th:only-of-type {\n",
       "        vertical-align: middle;\n",
       "    }\n",
       "\n",
       "    .dataframe tbody tr th {\n",
       "        vertical-align: top;\n",
       "    }\n",
       "\n",
       "    .dataframe thead th {\n",
       "        text-align: right;\n",
       "    }\n",
       "</style>\n",
       "<table border=\"1\" class=\"dataframe\">\n",
       "  <thead>\n",
       "    <tr style=\"text-align: right;\">\n",
       "      <th></th>\n",
       "      <th>id_1000</th>\n",
       "      <th>id_1001</th>\n",
       "      <th>id_1003</th>\n",
       "      <th>id_1004</th>\n",
       "      <th>id_1005</th>\n",
       "    </tr>\n",
       "  </thead>\n",
       "  <tbody>\n",
       "    <tr>\n",
       "      <th>2016-08-01</th>\n",
       "      <td>1385.344465</td>\n",
       "      <td>3186.180521</td>\n",
       "      <td>2969.253545</td>\n",
       "      <td>7017.298943</td>\n",
       "      <td>6251.552958</td>\n",
       "    </tr>\n",
       "    <tr>\n",
       "      <th>2016-08-02</th>\n",
       "      <td>1393.067049</td>\n",
       "      <td>3124.722045</td>\n",
       "      <td>2416.241743</td>\n",
       "      <td>8362.996757</td>\n",
       "      <td>6295.479348</td>\n",
       "    </tr>\n",
       "    <tr>\n",
       "      <th>2016-08-03</th>\n",
       "      <td>1360.064954</td>\n",
       "      <td>3044.431654</td>\n",
       "      <td>1923.296823</td>\n",
       "      <td>8284.858475</td>\n",
       "      <td>5937.095385</td>\n",
       "    </tr>\n",
       "    <tr>\n",
       "      <th>2016-08-04</th>\n",
       "      <td>1317.255708</td>\n",
       "      <td>2991.307331</td>\n",
       "      <td>1766.935128</td>\n",
       "      <td>8873.051069</td>\n",
       "      <td>6054.341108</td>\n",
       "    </tr>\n",
       "    <tr>\n",
       "      <th>2016-08-05</th>\n",
       "      <td>1300.654884</td>\n",
       "      <td>2671.347704</td>\n",
       "      <td>1580.540078</td>\n",
       "      <td>8821.281555</td>\n",
       "      <td>5565.488071</td>\n",
       "    </tr>\n",
       "  </tbody>\n",
       "</table>\n",
       "</div>"
      ],
      "text/plain": [
       "                id_1000      id_1001      id_1003      id_1004      id_1005\n",
       "2016-08-01  1385.344465  3186.180521  2969.253545  7017.298943  6251.552958\n",
       "2016-08-02  1393.067049  3124.722045  2416.241743  8362.996757  6295.479348\n",
       "2016-08-03  1360.064954  3044.431654  1923.296823  8284.858475  5937.095385\n",
       "2016-08-04  1317.255708  2991.307331  1766.935128  8873.051069  6054.341108\n",
       "2016-08-05  1300.654884  2671.347704  1580.540078  8821.281555  5565.488071"
      ]
     },
     "execution_count": 85,
     "metadata": {},
     "output_type": "execute_result"
    }
   ],
   "source": [
    "levels = ['id_1000', 'id_1001', 'id_1003', 'id_1004', 'id_1005']\n",
    "last_window = pd.DataFrame(\n",
    "    {k: v for k, v in forecaster.last_window.items() if k in levels}\n",
    ")\n",
    "last_window['id_1005'] = last_window['id_1004']\n",
    "predictions = forecaster.predict(\n",
    "    steps=5, \n",
    "    levels=levels, \n",
    "    exog=exog_dict_test, \n",
    "    suppress_warnings=False, \n",
    "    last_window=last_window,\n",
    ")\n",
    "predictions"
   ]
  },
  {
   "cell_type": "code",
   "execution_count": 86,
   "metadata": {},
   "outputs": [
    {
     "data": {
      "text/plain": [
       "dict_keys(['_unknown_level'])"
      ]
     },
     "execution_count": 86,
     "metadata": {},
     "output_type": "execute_result"
    }
   ],
   "source": [
    "forecaster.in_sample_residuals.keys()"
   ]
  },
  {
   "cell_type": "code",
   "execution_count": 92,
   "metadata": {},
   "outputs": [],
   "source": [
    "forecaster.in_sample_residuals = None"
   ]
  },
  {
   "cell_type": "code",
   "execution_count": 93,
   "metadata": {},
   "outputs": [
    {
     "ename": "AttributeError",
     "evalue": "'NoneType' object has no attribute 'keys'",
     "output_type": "error",
     "traceback": [
      "\u001b[1;31m---------------------------------------------------------------------------\u001b[0m",
      "\u001b[1;31mAttributeError\u001b[0m                            Traceback (most recent call last)",
      "Cell \u001b[1;32mIn[93], line 1\u001b[0m\n\u001b[1;32m----> 1\u001b[0m predictions \u001b[38;5;241m=\u001b[39m \u001b[43mforecaster\u001b[49m\u001b[38;5;241;43m.\u001b[39;49m\u001b[43mpredict_bootstrapping\u001b[49m\u001b[43m(\u001b[49m\n\u001b[0;32m      2\u001b[0m \u001b[43m    \u001b[49m\u001b[43msteps\u001b[49m\u001b[38;5;241;43m=\u001b[39;49m\u001b[38;5;241;43m5\u001b[39;49m\u001b[43m,\u001b[49m\u001b[43m \u001b[49m\n\u001b[0;32m      3\u001b[0m \u001b[43m    \u001b[49m\u001b[43mlevels\u001b[49m\u001b[38;5;241;43m=\u001b[39;49m\u001b[43m[\u001b[49m\u001b[38;5;124;43m'\u001b[39;49m\u001b[38;5;124;43mid_1000\u001b[39;49m\u001b[38;5;124;43m'\u001b[39;49m\u001b[43m,\u001b[49m\u001b[43m \u001b[49m\u001b[38;5;124;43m'\u001b[39;49m\u001b[38;5;124;43mid_1001\u001b[39;49m\u001b[38;5;124;43m'\u001b[39;49m\u001b[43m,\u001b[49m\u001b[43m \u001b[49m\u001b[38;5;124;43m'\u001b[39;49m\u001b[38;5;124;43mid_1003\u001b[39;49m\u001b[38;5;124;43m'\u001b[39;49m\u001b[43m,\u001b[49m\u001b[43m \u001b[49m\u001b[38;5;124;43m'\u001b[39;49m\u001b[38;5;124;43mid_1004\u001b[39;49m\u001b[38;5;124;43m'\u001b[39;49m\u001b[43m,\u001b[49m\u001b[43m \u001b[49m\u001b[38;5;124;43m'\u001b[39;49m\u001b[38;5;124;43mid_1005\u001b[39;49m\u001b[38;5;124;43m'\u001b[39;49m\u001b[43m]\u001b[49m\u001b[43m,\u001b[49m\u001b[43m \u001b[49m\n\u001b[0;32m      4\u001b[0m \u001b[43m    \u001b[49m\u001b[43mexog\u001b[49m\u001b[38;5;241;43m=\u001b[39;49m\u001b[43mexog_dict_test\u001b[49m\u001b[43m,\u001b[49m\u001b[43m \u001b[49m\n\u001b[0;32m      5\u001b[0m \u001b[43m    \u001b[49m\u001b[43msuppress_warnings\u001b[49m\u001b[38;5;241;43m=\u001b[39;49m\u001b[38;5;28;43;01mFalse\u001b[39;49;00m\u001b[43m,\u001b[49m\u001b[43m \u001b[49m\n\u001b[0;32m      6\u001b[0m \u001b[43m    \u001b[49m\u001b[43mlast_window\u001b[49m\u001b[38;5;241;43m=\u001b[39;49m\u001b[43mlast_window\u001b[49m\u001b[43m,\u001b[49m\n\u001b[0;32m      7\u001b[0m \u001b[43m    \u001b[49m\u001b[43min_sample_residuals\u001b[49m\u001b[38;5;241;43m=\u001b[39;49m\u001b[38;5;28;43;01mTrue\u001b[39;49;00m\u001b[43m,\u001b[49m\n\u001b[0;32m      8\u001b[0m \u001b[43m    \u001b[49m\u001b[43mn_boot\u001b[49m\u001b[38;5;241;43m=\u001b[39;49m\u001b[38;5;241;43m10\u001b[39;49m\n\u001b[0;32m      9\u001b[0m \u001b[43m)\u001b[49m\n\u001b[0;32m     10\u001b[0m predictions\n",
      "File \u001b[1;32mc:\\Users\\jaesc2\\GitHub\\skforecast\\skforecast\\ForecasterAutoregMultiSeries\\ForecasterAutoregMultiSeries.py:1760\u001b[0m, in \u001b[0;36mForecasterAutoregMultiSeries.predict_bootstrapping\u001b[1;34m(self, steps, levels, last_window, exog, n_boot, random_state, in_sample_residuals, suppress_warnings)\u001b[0m\n\u001b[0;32m   1700\u001b[0m \u001b[38;5;250m\u001b[39m\u001b[38;5;124;03m\"\"\"\u001b[39;00m\n\u001b[0;32m   1701\u001b[0m \u001b[38;5;124;03mGenerate multiple forecasting predictions using a bootstrapping process. \u001b[39;00m\n\u001b[0;32m   1702\u001b[0m \u001b[38;5;124;03mBy sampling from a collection of past observed errors (the residuals),\u001b[39;00m\n\u001b[1;32m   (...)\u001b[0m\n\u001b[0;32m   1749\u001b[0m \n\u001b[0;32m   1750\u001b[0m \u001b[38;5;124;03m\"\"\"\u001b[39;00m\n\u001b[0;32m   1752\u001b[0m set_skforecast_warnings(suppress_warnings, action\u001b[38;5;241m=\u001b[39m\u001b[38;5;124m'\u001b[39m\u001b[38;5;124mignore\u001b[39m\u001b[38;5;124m'\u001b[39m)\n\u001b[0;32m   1754\u001b[0m (\n\u001b[0;32m   1755\u001b[0m     last_window_values_dict,\n\u001b[0;32m   1756\u001b[0m     exog_values_dict,\n\u001b[0;32m   1757\u001b[0m     levels,\n\u001b[0;32m   1758\u001b[0m     prediction_index,\n\u001b[0;32m   1759\u001b[0m     residuals\n\u001b[1;32m-> 1760\u001b[0m ) \u001b[38;5;241m=\u001b[39m \u001b[38;5;28;43mself\u001b[39;49m\u001b[38;5;241;43m.\u001b[39;49m\u001b[43m_create_predict_inputs\u001b[49m\u001b[43m(\u001b[49m\n\u001b[0;32m   1761\u001b[0m \u001b[43m    \u001b[49m\u001b[43msteps\u001b[49m\u001b[43m               \u001b[49m\u001b[38;5;241;43m=\u001b[39;49m\u001b[43m \u001b[49m\u001b[43msteps\u001b[49m\u001b[43m,\u001b[49m\n\u001b[0;32m   1762\u001b[0m \u001b[43m    \u001b[49m\u001b[43mlevels\u001b[49m\u001b[43m              \u001b[49m\u001b[38;5;241;43m=\u001b[39;49m\u001b[43m \u001b[49m\u001b[43mlevels\u001b[49m\u001b[43m,\u001b[49m\n\u001b[0;32m   1763\u001b[0m \u001b[43m    \u001b[49m\u001b[43mlast_window\u001b[49m\u001b[43m         \u001b[49m\u001b[38;5;241;43m=\u001b[39;49m\u001b[43m \u001b[49m\u001b[43mlast_window\u001b[49m\u001b[43m,\u001b[49m\n\u001b[0;32m   1764\u001b[0m \u001b[43m    \u001b[49m\u001b[43mexog\u001b[49m\u001b[43m                \u001b[49m\u001b[38;5;241;43m=\u001b[39;49m\u001b[43m \u001b[49m\u001b[43mexog\u001b[49m\u001b[43m,\u001b[49m\n\u001b[0;32m   1765\u001b[0m \u001b[43m    \u001b[49m\u001b[43mpredict_boot\u001b[49m\u001b[43m        \u001b[49m\u001b[38;5;241;43m=\u001b[39;49m\u001b[43m \u001b[49m\u001b[38;5;28;43;01mTrue\u001b[39;49;00m\u001b[43m,\u001b[49m\n\u001b[0;32m   1766\u001b[0m \u001b[43m    \u001b[49m\u001b[43min_sample_residuals\u001b[49m\u001b[43m \u001b[49m\u001b[38;5;241;43m=\u001b[39;49m\u001b[43m \u001b[49m\u001b[43min_sample_residuals\u001b[49m\n\u001b[0;32m   1767\u001b[0m \u001b[43m\u001b[49m\u001b[43m)\u001b[49m\n\u001b[0;32m   1769\u001b[0m boot_predictions \u001b[38;5;241m=\u001b[39m {}\n\u001b[0;32m   1770\u001b[0m \u001b[38;5;28;01mfor\u001b[39;00m level \u001b[38;5;129;01min\u001b[39;00m levels:\n",
      "File \u001b[1;32mc:\\Users\\jaesc2\\GitHub\\skforecast\\skforecast\\ForecasterAutoregMultiSeries\\ForecasterAutoregMultiSeries.py:1314\u001b[0m, in \u001b[0;36mForecasterAutoregMultiSeries._create_predict_inputs\u001b[1;34m(self, steps, levels, last_window, exog, predict_boot, in_sample_residuals)\u001b[0m\n\u001b[0;32m   1307\u001b[0m     levels, last_window \u001b[38;5;241m=\u001b[39m preprocess_levels_self_last_window_multiseries(\n\u001b[0;32m   1308\u001b[0m                               levels               \u001b[38;5;241m=\u001b[39m levels,\n\u001b[0;32m   1309\u001b[0m                               input_levels_is_list \u001b[38;5;241m=\u001b[39m input_levels_is_list,\n\u001b[0;32m   1310\u001b[0m                               last_window          \u001b[38;5;241m=\u001b[39m \u001b[38;5;28mself\u001b[39m\u001b[38;5;241m.\u001b[39mlast_window\n\u001b[0;32m   1311\u001b[0m                           )\n\u001b[0;32m   1313\u001b[0m \u001b[38;5;28;01mif\u001b[39;00m \u001b[38;5;28mself\u001b[39m\u001b[38;5;241m.\u001b[39mfitted \u001b[38;5;129;01mand\u001b[39;00m predict_boot:\n\u001b[1;32m-> 1314\u001b[0m     residuals \u001b[38;5;241m=\u001b[39m \u001b[43mprepare_residuals_multiseries\u001b[49m\u001b[43m(\u001b[49m\n\u001b[0;32m   1315\u001b[0m \u001b[43m                    \u001b[49m\u001b[43mlevels\u001b[49m\u001b[43m               \u001b[49m\u001b[38;5;241;43m=\u001b[39;49m\u001b[43m \u001b[49m\u001b[43mlevels\u001b[49m\u001b[43m,\u001b[49m\n\u001b[0;32m   1316\u001b[0m \u001b[43m                    \u001b[49m\u001b[43muse_in_sample\u001b[49m\u001b[43m        \u001b[49m\u001b[38;5;241;43m=\u001b[39;49m\u001b[43m \u001b[49m\u001b[43min_sample_residuals\u001b[49m\u001b[43m,\u001b[49m\n\u001b[0;32m   1317\u001b[0m \u001b[43m                    \u001b[49m\u001b[43mencoding\u001b[49m\u001b[43m             \u001b[49m\u001b[38;5;241;43m=\u001b[39;49m\u001b[43m \u001b[49m\u001b[38;5;28;43mself\u001b[39;49m\u001b[38;5;241;43m.\u001b[39;49m\u001b[43mencoding\u001b[49m\u001b[43m,\u001b[49m\n\u001b[0;32m   1318\u001b[0m \u001b[43m                    \u001b[49m\u001b[43min_sample_residuals\u001b[49m\u001b[43m  \u001b[49m\u001b[38;5;241;43m=\u001b[39;49m\u001b[43m \u001b[49m\u001b[38;5;28;43mself\u001b[39;49m\u001b[38;5;241;43m.\u001b[39;49m\u001b[43min_sample_residuals\u001b[49m\u001b[43m,\u001b[49m\n\u001b[0;32m   1319\u001b[0m \u001b[43m                    \u001b[49m\u001b[43mout_sample_residuals\u001b[49m\u001b[43m \u001b[49m\u001b[38;5;241;43m=\u001b[39;49m\u001b[43m \u001b[49m\u001b[38;5;28;43mself\u001b[39;49m\u001b[38;5;241;43m.\u001b[39;49m\u001b[43mout_sample_residuals\u001b[49m\n\u001b[0;32m   1320\u001b[0m \u001b[43m                \u001b[49m\u001b[43m)\u001b[49m\n\u001b[0;32m   1321\u001b[0m \u001b[38;5;28;01melse\u001b[39;00m:\n\u001b[0;32m   1322\u001b[0m     residuals \u001b[38;5;241m=\u001b[39m \u001b[38;5;28;01mNone\u001b[39;00m\n",
      "File \u001b[1;32mc:\\Users\\jaesc2\\GitHub\\skforecast\\skforecast\\utils\\utils.py:2804\u001b[0m, in \u001b[0;36mprepare_residuals_multiseries\u001b[1;34m(levels, use_in_sample, encoding, in_sample_residuals, out_sample_residuals)\u001b[0m\n\u001b[0;32m   2771\u001b[0m \u001b[38;5;250m\u001b[39m\u001b[38;5;124;03m\"\"\"\u001b[39;00m\n\u001b[0;32m   2772\u001b[0m \u001b[38;5;124;03mPrepare residuals for bootstrapping prediction in multiseries Forecasters.\u001b[39;00m\n\u001b[0;32m   2773\u001b[0m \n\u001b[1;32m   (...)\u001b[0m\n\u001b[0;32m   2800\u001b[0m \n\u001b[0;32m   2801\u001b[0m \u001b[38;5;124;03m\"\"\"\u001b[39;00m\n\u001b[0;32m   2803\u001b[0m \u001b[38;5;28;01mif\u001b[39;00m use_in_sample:\n\u001b[1;32m-> 2804\u001b[0m     unknown_levels \u001b[38;5;241m=\u001b[39m \u001b[38;5;28mset\u001b[39m(levels) \u001b[38;5;241m-\u001b[39m \u001b[38;5;28mset\u001b[39m(\u001b[43min_sample_residuals\u001b[49m\u001b[38;5;241;43m.\u001b[39;49m\u001b[43mkeys\u001b[49m())\n\u001b[0;32m   2805\u001b[0m     \u001b[38;5;28;01mif\u001b[39;00m unknown_levels \u001b[38;5;129;01mand\u001b[39;00m encoding \u001b[38;5;129;01mis\u001b[39;00m \u001b[38;5;129;01mnot\u001b[39;00m \u001b[38;5;28;01mNone\u001b[39;00m:\n\u001b[0;32m   2806\u001b[0m         warnings\u001b[38;5;241m.\u001b[39mwarn(\n\u001b[0;32m   2807\u001b[0m             (\u001b[38;5;124mf\u001b[39m\u001b[38;5;124m\"\u001b[39m\u001b[38;5;124m`levels` \u001b[39m\u001b[38;5;132;01m{\u001b[39;00munknown_levels\u001b[38;5;132;01m}\u001b[39;00m\u001b[38;5;124m are not present in `forecaster.in_sample_residuals`, \u001b[39m\u001b[38;5;124m\"\u001b[39m\n\u001b[0;32m   2808\u001b[0m              \u001b[38;5;124mf\u001b[39m\u001b[38;5;124m\"\u001b[39m\u001b[38;5;124mmost likely because they were not present in the training data. \u001b[39m\u001b[38;5;124m\"\u001b[39m\n\u001b[1;32m   (...)\u001b[0m\n\u001b[0;32m   2811\u001b[0m              UnknownLevelWarning\n\u001b[0;32m   2812\u001b[0m         )\n",
      "\u001b[1;31mAttributeError\u001b[0m: 'NoneType' object has no attribute 'keys'"
     ]
    }
   ],
   "source": [
    "predictions = forecaster.predict_bootstrapping(\n",
    "    steps=5, \n",
    "    levels=['id_1000', 'id_1001', 'id_1003', 'id_1004', 'id_1005'], \n",
    "    exog=exog_dict_test, \n",
    "    suppress_warnings=False, \n",
    "    last_window=last_window,\n",
    "    in_sample_residuals=True,\n",
    "    n_boot=10\n",
    ")\n",
    "predictions"
   ]
  },
  {
   "cell_type": "code",
   "execution_count": 89,
   "metadata": {},
   "outputs": [
    {
     "name": "stdout",
     "output_type": "stream",
     "text": [
      "None\n"
     ]
    },
    {
     "name": "stderr",
     "output_type": "stream",
     "text": [
      "c:\\Users\\jaesc2\\GitHub\\skforecast\\skforecast\\ForecasterAutoregMultiSeries\\ForecasterAutoregMultiSeries.py:2315: UserWarning: Residuals will be transformed using the same transformer used when training the forecaster for all levels : (StandardScaler()). Ensure that the new residuals are on the same scale as the original time series.\n",
      "  )\n"
     ]
    },
    {
     "data": {
      "text/plain": [
       "{'_unknown_level': array([-1.36143002, -1.36099561, -1.36056119, -1.36012677, -1.35969236])}"
      ]
     },
     "execution_count": 89,
     "metadata": {},
     "output_type": "execute_result"
    }
   ],
   "source": [
    "new_residuals = {\n",
    "    '1': np.array([1, 2, 3, 4, 5]), \n",
    "    '2': np.array([1, 2, 3, 4, 5])\n",
    "}\n",
    "new_residuals = {\n",
    "    '_unknown_level': np.array([1, 2, 3, 4, 5])\n",
    "}\n",
    "\n",
    "print(forecaster.out_sample_residuals)\n",
    "forecaster.set_out_sample_residuals(residuals=new_residuals)\n",
    "forecaster.out_sample_residuals"
   ]
  },
  {
   "cell_type": "code",
   "execution_count": 91,
   "metadata": {},
   "outputs": [
    {
     "name": "stderr",
     "output_type": "stream",
     "text": [
      "c:\\Users\\jaesc2\\GitHub\\skforecast\\skforecast\\utils\\utils.py:891: MissingExogWarning: `exog` does not contain keys for levels {'id_1005'}. Missing levels are filled with NaN. Most of machine learning models do not allow missing values. Prediction method may fail. \n",
      " You can suppress this warning using: warnings.simplefilter('ignore', category=MissingExogWarning)\n",
      "  warnings.warn(\n",
      "c:\\Users\\jaesc2\\GitHub\\skforecast\\skforecast\\utils\\utils.py:943: MissingExogWarning: {'air_temperature', 'wind_speed'} not present in `exog` for series 'id_1000'. All values will be NaN. \n",
      " You can suppress this warning using: warnings.simplefilter('ignore', category=MissingExogWarning)\n",
      "  warnings.warn(\n",
      "c:\\Users\\jaesc2\\GitHub\\skforecast\\skforecast\\utils\\utils.py:943: MissingExogWarning: {'cos_day_of_week'} not present in `exog` for series 'id_1003'. All values will be NaN. \n",
      " You can suppress this warning using: warnings.simplefilter('ignore', category=MissingExogWarning)\n",
      "  warnings.warn(\n",
      "c:\\Users\\jaesc2\\GitHub\\skforecast\\skforecast\\utils\\utils.py:448: MissingValuesWarning: `exog` for series 'id_1000' has missing values. Most machine learning models do not allow missing values. Fitting the forecaster may fail. \n",
      " You can suppress this warning using: warnings.simplefilter('ignore', category=MissingValuesWarning)\n",
      "  warnings.warn(\n",
      "c:\\Users\\jaesc2\\GitHub\\skforecast\\skforecast\\utils\\utils.py:448: MissingValuesWarning: `exog` for series 'id_1003' has missing values. Most machine learning models do not allow missing values. Fitting the forecaster may fail. \n",
      " You can suppress this warning using: warnings.simplefilter('ignore', category=MissingValuesWarning)\n",
      "  warnings.warn(\n"
     ]
    },
    {
     "data": {
      "text/plain": [
       "{'id_1000':             pred_boot_0  pred_boot_1  pred_boot_2  pred_boot_3  pred_boot_4  \\\n",
       " 2016-08-01 -1747.586096 -1747.586096 -1746.586096 -1748.586096 -1746.586096   \n",
       " 2016-08-02 -1741.996066 -1740.996066 -1742.996066 -1741.996066 -1741.996066   \n",
       " 2016-08-03 -1769.410926 -1768.410926 -1767.410926 -1771.410926 -1771.410926   \n",
       " 2016-08-04 -1804.425377 -1803.425377 -1805.425377 -1803.425377 -1805.425377   \n",
       " 2016-08-05 -1837.231351 -1838.231351 -1839.231351 -1839.231351 -1839.231351   \n",
       " \n",
       "             pred_boot_5  pred_boot_6  pred_boot_7  pred_boot_8  pred_boot_9  \n",
       " 2016-08-01 -1748.586096 -1748.586096 -1745.586096 -1748.586096 -1746.586096  \n",
       " 2016-08-02 -1742.996066 -1741.996066 -1741.996066 -1743.996066 -1741.996066  \n",
       " 2016-08-03 -1771.410926 -1769.410926 -1768.410926 -1767.410926 -1770.410926  \n",
       " 2016-08-04 -1805.425377 -1803.425377 -1805.425377 -1805.425377 -1805.425377  \n",
       " 2016-08-05 -1841.231351 -1838.231351 -1838.231351 -1840.231351 -1837.231351  ,\n",
       " 'id_1001':             pred_boot_0  pred_boot_1  pred_boot_2  pred_boot_3  pred_boot_4  \\\n",
       " 2016-08-01    53.249960    53.249960    54.249960    52.249960    54.249960   \n",
       " 2016-08-02  -935.334358  -934.334358  -936.334358  -935.334358  -935.334358   \n",
       " 2016-08-03  -477.566351  -476.566351  -475.566351  -479.566351  -479.566351   \n",
       " 2016-08-04  -524.214894  -523.214894  -525.214894  -523.214894  -525.214894   \n",
       " 2016-08-05 -1210.209500 -1211.209500 -1212.209500 -1212.209500 -1212.209500   \n",
       " \n",
       "             pred_boot_5  pred_boot_6  pred_boot_7  pred_boot_8  pred_boot_9  \n",
       " 2016-08-01    52.249960    52.249960    55.249960    52.249960    54.249960  \n",
       " 2016-08-02  -936.334358  -935.334358  -935.334358  -937.334358  -935.334358  \n",
       " 2016-08-03  -479.566351  -477.566351  -476.566351  -475.566351  -478.566351  \n",
       " 2016-08-04  -525.214894  -523.214894  -525.214894  -525.214894  -525.214894  \n",
       " 2016-08-05 -1214.209500 -1211.209500 -1211.209500 -1213.209500 -1210.209500  ,\n",
       " 'id_1003':             pred_boot_0  pred_boot_1  pred_boot_2  pred_boot_3  pred_boot_4  \\\n",
       " 2016-08-01  -163.677016  -163.677016  -162.677016  -164.677016  -162.677016   \n",
       " 2016-08-02 -1657.257671 -1656.257671 -1658.257671 -1657.257671 -1657.257671   \n",
       " 2016-08-03 -1457.560847 -1456.560847 -1455.560847 -1459.560847 -1459.560847   \n",
       " 2016-08-04 -1570.661081 -1569.661081 -1571.661081 -1569.661081 -1571.661081   \n",
       " 2016-08-05 -1294.255083 -1295.255083 -1296.255083 -1296.255083 -1296.255083   \n",
       " \n",
       "             pred_boot_5  pred_boot_6  pred_boot_7  pred_boot_8  pred_boot_9  \n",
       " 2016-08-01  -164.677016  -164.677016  -161.677016  -164.677016  -162.677016  \n",
       " 2016-08-02 -1658.257671 -1657.257671 -1657.257671 -1659.257671 -1657.257671  \n",
       " 2016-08-03 -1459.560847 -1457.560847 -1456.560847 -1455.560847 -1458.560847  \n",
       " 2016-08-04 -1571.661081 -1569.661081 -1571.661081 -1571.661081 -1571.661081  \n",
       " 2016-08-05 -1298.255083 -1295.255083 -1295.255083 -1297.255083 -1294.255083  ,\n",
       " 'id_1004':             pred_boot_0  pred_boot_1  pred_boot_2  pred_boot_3  pred_boot_4  \\\n",
       " 2016-08-01  3884.368382  3884.368382  3885.368382  3883.368382  3885.368382   \n",
       " 2016-08-02  4549.581849  4550.581849  4548.581849  4549.581849  4549.581849   \n",
       " 2016-08-03  3484.881800  3485.881800  3486.881800  3482.881800  3482.881800   \n",
       " 2016-08-04  4188.659871  4189.659871  4187.659871  4189.659871  4187.659871   \n",
       " 2016-08-05  3686.144574  3685.144574  3684.144574  3684.144574  3684.144574   \n",
       " \n",
       "             pred_boot_5  pred_boot_6  pred_boot_7  pred_boot_8  pred_boot_9  \n",
       " 2016-08-01  3883.368382  3883.368382  3886.368382  3883.368382  3885.368382  \n",
       " 2016-08-02  4548.581849  4549.581849  4549.581849  4547.581849  4549.581849  \n",
       " 2016-08-03  3482.881800  3484.881800  3485.881800  3486.881800  3483.881800  \n",
       " 2016-08-04  4187.659871  4189.659871  4187.659871  4187.659871  4187.659871  \n",
       " 2016-08-05  3682.144574  3685.144574  3685.144574  3683.144574  3686.144574  ,\n",
       " 'id_1005':             pred_boot_0  pred_boot_1  pred_boot_2  pred_boot_3  pred_boot_4  \\\n",
       " 2016-08-01  3118.622397  3118.622397  3119.622397  3117.622397  3119.622397   \n",
       " 2016-08-02  3305.137677  3306.137677  3304.137677  3305.137677  3305.137677   \n",
       " 2016-08-03  2723.482562  2724.482562  2725.482562  2721.482562  2721.482562   \n",
       " 2016-08-04  2174.464982  2175.464982  2173.464982  2175.464982  2173.464982   \n",
       " 2016-08-05   653.725474   652.725474   651.725474   651.725474   651.725474   \n",
       " \n",
       "             pred_boot_5  pred_boot_6  pred_boot_7  pred_boot_8  pred_boot_9  \n",
       " 2016-08-01  3117.622397  3117.622397  3120.622397  3117.622397  3119.622397  \n",
       " 2016-08-02  3304.137677  3305.137677  3305.137677  3303.137677  3305.137677  \n",
       " 2016-08-03  2721.482562  2723.482562  2724.482562  2725.482562  2722.482562  \n",
       " 2016-08-04  2173.464982  2175.464982  2173.464982  2173.464982  2173.464982  \n",
       " 2016-08-05   649.725474   652.725474   652.725474   650.725474   653.725474  }"
      ]
     },
     "execution_count": 91,
     "metadata": {},
     "output_type": "execute_result"
    }
   ],
   "source": [
    "predictions = forecaster.predict_bootstrapping(\n",
    "    steps=5, \n",
    "    levels=['id_1000', 'id_1001', 'id_1003', 'id_1004', 'id_1005'], \n",
    "    exog=exog_dict_test, \n",
    "    suppress_warnings=False, \n",
    "    last_window=last_window,\n",
    "    in_sample_residuals=False,\n",
    "    n_boot=10\n",
    ")\n",
    "predictions"
   ]
  },
  {
   "cell_type": "code",
   "execution_count": null,
   "metadata": {},
   "outputs": [],
   "source": []
  },
  {
   "cell_type": "code",
   "execution_count": 172,
   "metadata": {},
   "outputs": [
    {
     "data": {
      "text/plain": [
       "dict_keys(['_unknown_level', 'id_1000', 'id_1001', 'id_1002', 'id_1003', 'id_1004'])"
      ]
     },
     "execution_count": 172,
     "metadata": {},
     "output_type": "execute_result"
    }
   ],
   "source": [
    "forecaster.in_sample_residuals.keys()"
   ]
  },
  {
   "cell_type": "code",
   "execution_count": 173,
   "metadata": {},
   "outputs": [
    {
     "name": "stderr",
     "output_type": "stream",
     "text": [
      "c:\\Users\\jaesc2\\GitHub\\skforecast\\skforecast\\utils\\utils.py:2783: UnknownLevelWarning: `levels` {'id_1005'} are not present in `forecaster.in_sample_residuals`, most likely because they were not present in the training data. A random sample of the residuals from other levels will be used. This can lead to inaccurate intervals for the unknown levels. \n",
      " You can suppress this warning using: warnings.simplefilter('ignore', category=UnknownLevelWarning)\n",
      "  warnings.warn(\n",
      "c:\\Users\\jaesc2\\GitHub\\skforecast\\skforecast\\utils\\utils.py:877: MissingExogWarning: `exog` does not contain keys for levels {'id_1005'}. Missing levels are filled with NaN. Most of machine learning models do not allow missing values. Prediction method may fail. \n",
      " You can suppress this warning using: warnings.simplefilter('ignore', category=MissingExogWarning)\n",
      "  warnings.warn(\n",
      "c:\\Users\\jaesc2\\GitHub\\skforecast\\skforecast\\utils\\utils.py:926: MissingExogWarning: {'air_temperature', 'wind_speed'} not present in `exog` for series 'id_1000'. All values will be NaN. \n",
      " You can suppress this warning using: warnings.simplefilter('ignore', category=MissingExogWarning)\n",
      "  warnings.warn(\n",
      "c:\\Users\\jaesc2\\GitHub\\skforecast\\skforecast\\utils\\utils.py:926: MissingExogWarning: {'cos_day_of_week'} not present in `exog` for series 'id_1003'. All values will be NaN. \n",
      " You can suppress this warning using: warnings.simplefilter('ignore', category=MissingExogWarning)\n",
      "  warnings.warn(\n",
      "c:\\Users\\jaesc2\\GitHub\\skforecast\\skforecast\\utils\\utils.py:434: MissingValuesWarning: `exog` for series 'id_1000' has missing values. Most machine learning models do not allow missing values. Fitting the forecaster may fail. \n",
      " You can suppress this warning using: warnings.simplefilter('ignore', category=MissingValuesWarning)\n",
      "  warnings.warn(\n",
      "c:\\Users\\jaesc2\\GitHub\\skforecast\\skforecast\\utils\\utils.py:434: MissingValuesWarning: `exog` for series 'id_1003' has missing values. Most machine learning models do not allow missing values. Fitting the forecaster may fail. \n",
      " You can suppress this warning using: warnings.simplefilter('ignore', category=MissingValuesWarning)\n",
      "  warnings.warn(\n",
      "c:\\Users\\jaesc2\\Miniconda3\\envs\\skforecast_py11\\Lib\\site-packages\\sklearn\\base.py:486: UserWarning: X has feature names, but StandardScaler was fitted without feature names\n",
      "  warnings.warn(\n"
     ]
    },
    {
     "data": {
      "text/plain": [
       "{'id_1000':             pred_boot_0  pred_boot_1  pred_boot_2  pred_boot_3  pred_boot_4  \\\n",
       " 2016-08-01   920.585451   751.085451  1072.335451   912.835847  1011.748939   \n",
       " 2016-08-02   973.671764   632.585451   956.921863   687.172062   579.749137   \n",
       " 2016-08-03   666.084955   663.085451   954.921566   612.585054   563.499336   \n",
       " 2016-08-04   574.171268  1343.587206  1652.672924   338.085153   506.085947   \n",
       " 2016-08-05   554.171070  1239.000595  1613.172924    -6.251458   445.835748   \n",
       " \n",
       "             pred_boot_5  pred_boot_6  pred_boot_7  pred_boot_8  pred_boot_9  \n",
       " 2016-08-01  1800.250496  1819.500496  1054.998840  1008.835649   824.498245  \n",
       " 2016-08-02  1681.087107  1852.087107   829.335054   961.172458   796.498344  \n",
       " 2016-08-03  1745.586710  1865.750595  1179.381645   809.335352  1430.663092  \n",
       " 2016-08-04  1495.923321  1822.250496  1117.968256   862.421665  1472.749702  \n",
       " 2016-08-05  1246.836214  2274.296888  1172.217561   554.334459  1337.412893  ,\n",
       " 'id_1001':             pred_boot_0  pred_boot_1  pred_boot_2  pred_boot_3  pred_boot_4  \\\n",
       " 2016-08-01  3098.604577  2355.547874  3055.604974  3219.999702  3055.604974   \n",
       " 2016-08-02  3036.056803  2465.548171  3010.605172  3312.056902  3147.662174   \n",
       " 2016-08-03  2973.509028  3801.547874  3362.604577  3934.057100  3769.662372   \n",
       " 2016-08-04  4309.508731  4153.547279  3454.661777  3926.057100  2529.719373   \n",
       " 2016-08-05  4570.451134  4172.490575  2123.661777  2595.057100  2376.114597   \n",
       " \n",
       "             pred_boot_5  pred_boot_6  pred_boot_7  pred_boot_8  pred_boot_9  \n",
       " 2016-08-01  3585.547973  3219.999702  3073.548072  3585.547973  2901.000000  \n",
       " 2016-08-02  3720.604776  3312.056902  3165.605272  3841.999901  2993.057200  \n",
       " 2016-08-03  3522.604776  3404.114102  4501.604974  3833.999901  2948.057398  \n",
       " 2016-08-04  3614.661975  3629.114201  3261.661975  3771.452126  1708.114399  \n",
       " 2016-08-05  3780.056902  3648.057497  3234.605172  3635.395323  1969.056803  ,\n",
       " 'id_1003':             pred_boot_0  pred_boot_1  pred_boot_2  pred_boot_3  pred_boot_4  \\\n",
       " 2016-08-01  4152.999496  3705.380386  3606.999798  3968.879189  3635.860291   \n",
       " 2016-08-02  3911.879583  5012.140188  3228.259785  3801.129282  3468.110384   \n",
       " 2016-08-03  3848.009584  5191.510377  3234.639105  3427.879391  3255.730282   \n",
       " 2016-08-04  4312.379583  5394.270467  3159.889601  2989.989195  3383.360275   \n",
       " 2016-08-05  4607.868997  5294.400461  3207.759507  2994.369193  3199.110268   \n",
       " \n",
       "             pred_boot_5  pred_boot_6  pred_boot_7  pred_boot_8  pred_boot_9  \n",
       " 2016-08-01  4162.619213  3517.999911  4134.499908  3445.989893  3824.380005  \n",
       " 2016-08-02  4207.249315  3409.759808  3966.750001  3731.620193  3716.139902  \n",
       " 2016-08-03  4704.758813  3358.389610  3926.760011  5446.489601  3744.889391  \n",
       " 2016-08-04  4589.758516  3285.269611  4163.140009  5262.239594  3635.889391  \n",
       " 2016-08-05  4932.258722  2517.509707  4058.000103  5712.989807  3602.758886  ,\n",
       " 'id_1004':             pred_boot_0  pred_boot_1   pred_boot_2  pred_boot_3  pred_boot_4  \\\n",
       " 2016-08-01  5493.151263  4329.151263   5557.148272  6069.151263  6400.009389   \n",
       " 2016-08-02  5235.148241  3978.149249   5694.148272  2775.004415  5046.865532   \n",
       " 2016-08-03  5545.147234  3778.149249   7296.998016  2781.853152  5038.722682   \n",
       " 2016-08-04  5345.147234  4663.151263   6727.995026  3204.853121  5201.722682   \n",
       " 2016-08-05  4200.287155  4043.292160  10910.230343   583.853121  4699.862510   \n",
       " \n",
       "             pred_boot_5  pred_boot_6  pred_boot_7  pred_boot_8  pred_boot_9  \n",
       " 2016-08-01  7235.151263  6207.008412  6225.153277  6118.008412  4773.007405  \n",
       " 2016-08-02  6602.151263  5638.005422  4872.009420  4899.008412  5046.865532  \n",
       " 2016-08-03  7655.150256  5911.863548  9009.009420  4154.865562  3415.722682  \n",
       " 2016-08-04  7086.147265  5632.861534  9172.009420  3896.862541  1922.579831  \n",
       " 2016-08-05  5623.290115  3097.860527  8816.155291  2021.862541  3281.572426  ,\n",
       " 'id_1005':             pred_boot_0  pred_boot_1  pred_boot_2  pred_boot_3  pred_boot_4  \\\n",
       " 2016-08-01  5761.512694  4038.169035  6411.108857  5030.571120  6138.261371   \n",
       " 2016-08-02  5490.748426  3103.725626  5543.443935  4164.124143  5864.025349   \n",
       " 2016-08-03  5496.302574  2689.730961  5814.293404  2126.532028  4424.110731   \n",
       " 2016-08-04  8019.474637  3013.636324  6461.351564  2218.786432  4619.500509   \n",
       " 2016-08-05  5301.517953  3160.712912  2249.620266 -1748.956850  4514.364227   \n",
       " \n",
       "              pred_boot_5  pred_boot_6  pred_boot_7  pred_boot_8   pred_boot_9  \n",
       " 2016-08-01   5403.261959  5709.592009  8047.821459  6058.587772   5579.210573  \n",
       " 2016-08-02   8163.085711  6156.700866  8575.299325  3661.014942   5382.566487  \n",
       " 2016-08-03  14775.370585  5960.056779  8771.082880  3789.933368   5512.366482  \n",
       " 2016-08-04  15536.288764  5992.410179  4271.830190  3519.169100  10663.696388  \n",
       " 2016-08-05  20252.364674  5627.305759  6540.761709  2649.243375  10120.983657  }"
      ]
     },
     "execution_count": 173,
     "metadata": {},
     "output_type": "execute_result"
    }
   ],
   "source": [
    "predictions = forecaster.predict_bootstrapping(\n",
    "steps=5, levels=levels, exog=exog_dict_test, suppress_warnings=False, last_window=last_window,\n",
    "n_boot=10)\n",
    "predictions"
   ]
  },
  {
   "cell_type": "code",
   "execution_count": null,
   "metadata": {},
   "outputs": [],
   "source": []
  },
  {
   "cell_type": "code",
   "execution_count": 39,
   "metadata": {},
   "outputs": [
    {
     "data": {
      "text/plain": [
       "array([[2796.7268212 , 3205.84100287, 3367.37706412, 3367.37706412,\n",
       "        3367.37706412],\n",
       "       [2796.7268212 , 3367.37706412, 3367.37706412, 3367.37706412,\n",
       "        3367.37706412],\n",
       "       [2796.7268212 , 3367.37706412, 3367.37706412, 3367.37706412,\n",
       "        3367.37706412],\n",
       "       [2796.7268212 , 3367.37706412, 3367.37706412, 3367.37706412,\n",
       "        3367.37706412],\n",
       "       [2796.7268212 , 3367.37706412, 3367.37706412, 3367.37706412,\n",
       "        3367.37706412]])"
      ]
     },
     "execution_count": 39,
     "metadata": {},
     "output_type": "execute_result"
    }
   ],
   "source": [
    "predictions.to_numpy()"
   ]
  },
  {
   "cell_type": "code",
   "execution_count": 14,
   "metadata": {},
   "outputs": [],
   "source": [
    "series_not_in_transformer_series = ['1']"
   ]
  },
  {
   "cell_type": "code",
   "execution_count": 15,
   "metadata": {},
   "outputs": [
    {
     "data": {
      "text/plain": [
       "False"
      ]
     },
     "execution_count": 15,
     "metadata": {},
     "output_type": "execute_result"
    }
   ],
   "source": [
    "unknown_not_in_transformer_series = '_unknown_level' in series_not_in_transformer_series \n",
    "unknown_not_in_transformer_series"
   ]
  },
  {
   "cell_type": "code",
   "execution_count": 17,
   "metadata": {},
   "outputs": [
    {
     "data": {
      "text/plain": [
       "{'1'}"
      ]
     },
     "execution_count": 17,
     "metadata": {},
     "output_type": "execute_result"
    }
   ],
   "source": [
    "series_s = set(['1', '_unknown_level'])\n",
    "series_s = series_s - {'_unknown_level'}\n",
    "series_s"
   ]
  },
  {
   "cell_type": "code",
   "execution_count": 23,
   "metadata": {},
   "outputs": [
    {
     "data": {
      "text/plain": [
       "['_unknown_level']"
      ]
     },
     "execution_count": 23,
     "metadata": {},
     "output_type": "execute_result"
    }
   ],
   "source": [
    "['_unknown_level']"
   ]
  },
  {
   "cell_type": "code",
   "execution_count": 151,
   "metadata": {},
   "outputs": [
    {
     "name": "stderr",
     "output_type": "stream",
     "text": [
      "c:\\Users\\jaesc2\\GitHub\\skforecast\\skforecast\\ForecasterAutoregMultiSeries\\ForecasterAutoregMultiSeries.py:810: MissingValuesWarning: NaNs detected in `y_train`. They have been dropped because the target variable cannot have NaN values. Same rows have been dropped from `X_train` to maintain alignment. This is caused by series with interspersed NaNs. \n",
      " You can suppress this warning using: warnings.simplefilter('ignore', category=MissingValuesWarning)\n",
      "  warnings.warn(\n",
      "c:\\Users\\jaesc2\\GitHub\\skforecast\\skforecast\\ForecasterAutoregMultiSeries\\ForecasterAutoregMultiSeries.py:832: MissingValuesWarning: NaNs detected in `X_train`. Some regressors do not allow NaN values during training. If you want to drop them, set `forecaster.dropna_from_series = True`. \n",
      " You can suppress this warning using: warnings.simplefilter('ignore', category=MissingValuesWarning)\n",
      "  warnings.warn(\n"
     ]
    }
   ],
   "source": [
    "forecaster = ForecasterAutoregMultiSeries(\n",
    "        regressor=LGBMRegressor(\n",
    "            n_estimators=2, random_state=123, verbose=-1, max_depth=2\n",
    "        ),\n",
    "        lags=14,\n",
    "        encoding='ordinal',\n",
    "        dropna_from_series=False,\n",
    "        transformer_series=StandardScaler(),\n",
    "        transformer_exog=StandardScaler(),\n",
    ")\n",
    "forecaster.fit(\n",
    "    series=series_dict_train, exog=exog_dict_train, suppress_warnings=False\n",
    ")"
   ]
  },
  {
   "cell_type": "code",
   "execution_count": 152,
   "metadata": {},
   "outputs": [
    {
     "data": {
      "text/plain": [
       "{'id_1000': StandardScaler(),\n",
       " 'id_1001': StandardScaler(),\n",
       " 'id_1002': StandardScaler(),\n",
       " 'id_1003': StandardScaler(),\n",
       " 'id_1004': StandardScaler(),\n",
       " '_unknown_level': StandardScaler()}"
      ]
     },
     "execution_count": 152,
     "metadata": {},
     "output_type": "execute_result"
    }
   ],
   "source": [
    "forecaster.transformer_series_"
   ]
  },
  {
   "cell_type": "code",
   "execution_count": 131,
   "metadata": {},
   "outputs": [
    {
     "name": "stderr",
     "output_type": "stream",
     "text": [
      "c:\\Users\\jaesc2\\GitHub\\skforecast\\skforecast\\ForecasterAutoregMultiSeries\\ForecasterAutoregMultiSeries.py:390: UserWarning: When using a linear model, it is recommended to use a transformer_series to ensure all series are in the same scale. You can use, for example, a `StandardScaler` from sklearn.preprocessing.\n",
      "  warnings.warn(\n"
     ]
    }
   ],
   "source": [
    "levels = ['1', '2']\n",
    "residuals = {\n",
    "    '1': np.array([1, 2, 3, 4, 5]),\n",
    "    '2': np.array([1, 2, 3, 4, 5]),\n",
    "    '_unknown_level': np.array([1, 2, 3, 4, 5, 1, 2, 3, 4, 5])\n",
    "}\n",
    "\n",
    "forecaster = ForecasterAutoregMultiSeries(LinearRegression(), lags=3,\n",
    "                                            transformer_series=None)\n",
    "forecaster.fit(series=series)\n",
    "forecaster.in_sample_residuals = residuals\n",
    "forecaster.set_out_sample_residuals(residuals=residuals)"
   ]
  },
  {
   "cell_type": "code",
   "execution_count": 129,
   "metadata": {},
   "outputs": [
    {
     "data": {
      "text/plain": [
       "{'1': array([1, 2, 3, 4, 5]),\n",
       " '2': array([1, 2, 3, 4, 5]),\n",
       " '_unknown_level': array([1, 2, 3, 4, 5, 1, 2, 3, 4, 5])}"
      ]
     },
     "execution_count": 129,
     "metadata": {},
     "output_type": "execute_result"
    }
   ],
   "source": [
    "forecaster.in_sample_residuals"
   ]
  },
  {
   "cell_type": "code",
   "execution_count": 132,
   "metadata": {},
   "outputs": [
    {
     "data": {
      "text/plain": [
       "{'1': array([1, 2, 3, 4, 5]),\n",
       " '2': array([1, 2, 3, 4, 5]),\n",
       " '_unknown_level': array([1, 2, 3, 4, 5, 1, 2, 3, 4, 5])}"
      ]
     },
     "execution_count": 132,
     "metadata": {},
     "output_type": "execute_result"
    }
   ],
   "source": [
    "forecaster.out_sample_residuals"
   ]
  },
  {
   "cell_type": "code",
   "execution_count": 16,
   "metadata": {},
   "outputs": [],
   "source": [
    "series = pd.DataFrame({'l1': pd.Series(np.arange(10)), \n",
    "                       'l2': pd.Series(np.arange(10))})"
   ]
  },
  {
   "cell_type": "code",
   "execution_count": 22,
   "metadata": {},
   "outputs": [
    {
     "name": "stderr",
     "output_type": "stream",
     "text": [
      "c:\\Users\\jaesc2\\GitHub\\skforecast\\skforecast\\ForecasterAutoregMultiSeries\\ForecasterAutoregMultiSeries.py:2278: UnknownLevelWarning: As `encoding` is set to `None`, no distinction between levels is made. All residuals are stored in the '_unknown_level' key. \n",
      " You can suppress this warning using: warnings.simplefilter('ignore', category=UnknownLevelWarning)\n",
      "  (\"As `encoding` is set to `None`, no distinction between levels \"\n",
      "c:\\Users\\jaesc2\\GitHub\\skforecast\\skforecast\\ForecasterAutoregMultiSeries\\ForecasterAutoregMultiSeries.py:2313: UserWarning: Argument `transform` is set to `False` but forecaster was trained using a transformer StandardScaler() for all levels. Ensure that the new residuals are already transformed or set `transform=True`.\n",
      "  \n"
     ]
    },
    {
     "data": {
      "text/plain": [
       "{'_unknown_level': array([1, 2, 3, 4, 5, 6])}"
      ]
     },
     "execution_count": 22,
     "metadata": {},
     "output_type": "execute_result"
    }
   ],
   "source": [
    "forecaster = ForecasterAutoregMultiSeries(LinearRegression(), lags=3,\n",
    "                                          encoding=None,\n",
    "                                              transformer_series=StandardScaler())\n",
    "forecaster.fit(series=series)\n",
    "residuals = {'l1': np.array([1, 2, 3]), 'l2': np.array([4, 5, 6])}\n",
    "forecaster.set_out_sample_residuals(residuals=residuals, transform=False)\n",
    "results = forecaster.out_sample_residuals\n",
    "results"
   ]
  },
  {
   "cell_type": "code",
   "execution_count": null,
   "metadata": {},
   "outputs": [],
   "source": []
  },
  {
   "cell_type": "code",
   "execution_count": null,
   "metadata": {},
   "outputs": [],
   "source": []
  }
 ],
 "metadata": {
  "kernelspec": {
   "display_name": "skforecast_py10",
   "language": "python",
   "name": "python3"
  },
  "language_info": {
   "codemirror_mode": {
    "name": "ipython",
    "version": 3
   },
   "file_extension": ".py",
   "mimetype": "text/x-python",
   "name": "python",
   "nbconvert_exporter": "python",
   "pygments_lexer": "ipython3",
   "version": "3.11.5"
  },
  "orig_nbformat": 4,
  "vscode": {
   "interpreter": {
    "hash": "c78d62c1713fdacd99ef7c429003c7324b36fbb551fb8b6860a7ea73e9338235"
   }
  }
 },
 "nbformat": 4,
 "nbformat_minor": 2
}
