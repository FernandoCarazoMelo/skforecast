{
 "cells": [
  {
   "cell_type": "code",
   "execution_count": 2,
   "metadata": {},
   "outputs": [
    {
     "data": {
      "text/plain": [
       "'/home/ubuntu/varios/skforecast'"
      ]
     },
     "execution_count": 2,
     "metadata": {},
     "output_type": "execute_result"
    }
   ],
   "source": [
    "%load_ext autoreload\n",
    "%autoreload 2\n",
    "import sys\n",
    "from pathlib import Path\n",
    "sys.path.insert(1, str(Path.cwd().parent))\n",
    "str(Path.cwd().parent)"
   ]
  },
  {
   "cell_type": "code",
   "execution_count": 16,
   "metadata": {},
   "outputs": [],
   "source": [
    "from typing import Union, Dict, List, Tuple, Any, Optional\n",
    "import warnings\n",
    "import logging\n",
    "import sys\n",
    "import numpy as np\n",
    "import pandas as pd\n",
    "from pytest import approx\n",
    "from sklearn.base import clone\n",
    "import pmdarima\n",
    "from pmdarima.arima import ARIMA\n",
    "\n",
    "import skforecast\n",
    "from skforecast.utils import initialize_lags\n",
    "from skforecast.utils import check_y\n",
    "from skforecast.utils import check_exog\n",
    "from skforecast.utils import preprocess_y\n",
    "from skforecast.utils import preprocess_last_window\n",
    "from skforecast.utils import preprocess_exog\n",
    "from skforecast.utils import expand_index\n",
    "from skforecast.utils import check_predict_input\n",
    "from skforecast.utils import transform_series\n",
    "from skforecast.utils import transform_dataframe\n",
    "from skforecast.model_selection_sarimax import backtesting_sarimax\n",
    "logging.basicConfig(\n",
    "    format = '%(name)-10s %(levelname)-5s %(message)s', \n",
    "    level  = logging.INFO,\n",
    ")"
   ]
  },
  {
   "cell_type": "code",
   "execution_count": 5,
   "metadata": {},
   "outputs": [],
   "source": [
    "from skforecast.ForecasterSarimax import ForecasterSarimax\n",
    "from sklearn.linear_model import Ridge\n",
    "import re\n",
    "import pytest\n",
    "from pmdarima.arima import ARIMA\n",
    "from sklearn.compose import ColumnTransformer\n",
    "from sklearn.preprocessing import StandardScaler\n",
    "from sklearn.preprocessing import OneHotEncoder"
   ]
  },
  {
   "cell_type": "code",
   "execution_count": 6,
   "metadata": {},
   "outputs": [],
   "source": [
    "y = pd.Series(\n",
    "        data = np.array([0.69646919, 0.28613933, 0.22685145, 0.55131477, 0.71946897,\n",
    "                         0.42310646, 0.9807642 , 0.68482974, 0.4809319 , 0.39211752,\n",
    "                         0.34317802, 0.72904971, 0.43857224, 0.0596779 , 0.39804426,\n",
    "                         0.73799541, 0.18249173, 0.17545176, 0.53155137, 0.53182759,\n",
    "                         0.63440096, 0.84943179, 0.72445532, 0.61102351, 0.72244338,\n",
    "                         0.32295891, 0.36178866, 0.22826323, 0.29371405, 0.63097612,\n",
    "                         0.09210494, 0.43370117, 0.43086276, 0.4936851 , 0.42583029,\n",
    "                         0.31226122, 0.42635131, 0.89338916, 0.94416002, 0.50183668,\n",
    "                         0.62395295, 0.1156184 , 0.31728548, 0.41482621, 0.86630916,\n",
    "                         0.25045537, 0.48303426, 0.98555979, 0.51948512, 0.61289453]\n",
    "            ),\n",
    "        name = 'y'\n",
    "    )\n",
    "\n",
    "exog = pd.Series(\n",
    "           data = np.array([0.12062867, 0.8263408 , 0.60306013, 0.54506801, 0.34276383,\n",
    "                            0.30412079, 0.41702221, 0.68130077, 0.87545684, 0.51042234,\n",
    "                            0.66931378, 0.58593655, 0.6249035 , 0.67468905, 0.84234244,\n",
    "                            0.08319499, 0.76368284, 0.24366637, 0.19422296, 0.57245696,\n",
    "                            0.09571252, 0.88532683, 0.62724897, 0.72341636, 0.01612921,\n",
    "                            0.59443188, 0.55678519, 0.15895964, 0.15307052, 0.69552953,\n",
    "                            0.31876643, 0.6919703 , 0.55438325, 0.38895057, 0.92513249,\n",
    "                            0.84167   , 0.35739757, 0.04359146, 0.30476807, 0.39818568,\n",
    "                            0.70495883, 0.99535848, 0.35591487, 0.76254781, 0.59317692,\n",
    "                            0.6917018 , 0.15112745, 0.39887629, 0.2408559 , 0.34345601]\n",
    "               ),\n",
    "           name = 'exog'\n",
    "       )\n",
    "\n",
    "exog_predict = pd.Series(\n",
    "                  data = np.array([0.12062867, 0.8263408 , 0.60306013, 0.54506801, 0.34276383,\n",
    "                                   0.30412079, 0.41702221, 0.68130077, 0.87545684, 0.51042234]\n",
    "                      ),\n",
    "                  name = 'exog',\n",
    "                  index = pd.RangeIndex(start=50, stop=60)\n",
    "               )\n",
    "\n",
    "df_exog = pd.DataFrame({\n",
    "              'exog_1': exog.values,\n",
    "              'exog_2': ['a']*25+['b']*25}\n",
    "          )\n",
    "df_exog_predict = df_exog.copy()\n",
    "df_exog_predict.index = pd.RangeIndex(start=50, stop=100)\n",
    "\n",
    "y_datetime = pd.Series(data=y.values)\n",
    "y_datetime.index = pd.date_range(start='2000', periods=50, freq='A')\n",
    "y_datetime.name = 'y'\n",
    "\n",
    "lw_datetime = pd.Series(data=y.values)\n",
    "lw_datetime.index = pd.date_range(start='2050', periods=50, freq='A')\n",
    "lw_datetime.name = 'y'\n",
    "\n",
    "exog_datetime = pd.Series(data=exog.values)\n",
    "exog_datetime.index = pd.date_range(start='2000', periods=50, freq='A')\n",
    "exog_datetime.name = 'exog'\n",
    "\n",
    "lw_exog_datetime = pd.Series(data=exog.values)\n",
    "lw_exog_datetime.index = pd.date_range(start='2050', periods=50, freq='A')\n",
    "lw_exog_datetime.name = 'exog'\n",
    "\n",
    "exog_predict_datetime = pd.Series(data=exog_predict.values)\n",
    "exog_predict_datetime.index = pd.date_range(start='2100', periods=10, freq='A')\n",
    "exog_predict_datetime.name = 'exog'\n",
    "\n",
    "df_exog_datetime = df_exog.copy()\n",
    "df_exog_datetime.index = pd.date_range(start='2000', periods=50, freq='A')\n",
    "\n",
    "df_lw_exog_datetime = df_exog.copy()\n",
    "df_lw_exog_datetime.index = pd.date_range(start='2050', periods=50, freq='A')\n",
    "\n",
    "df_exog_predict_datetime = df_exog.copy()\n",
    "df_exog_predict_datetime.index = pd.date_range(start='2100', periods=50, freq='A')"
   ]
  },
  {
   "cell_type": "code",
   "execution_count": 7,
   "metadata": {},
   "outputs": [
    {
     "data": {
      "text/plain": [
       "array([[0.5493021 , 0.0918756 , 1.0067286 ],\n",
       "       [0.53939807, 0.07508138, 1.00371476],\n",
       "       [0.53833294, 0.07371045, 1.00295544],\n",
       "       [0.53872299, 0.07407235, 1.00337363],\n",
       "       [0.53935261, 0.07469791, 1.00400731]])"
      ]
     },
     "execution_count": 7,
     "metadata": {},
     "output_type": "execute_result"
    }
   ],
   "source": [
    "forecaster = ForecasterSarimax(regressor=ARIMA(maxiter=1000, order=(1,1,1)))\n",
    "forecaster.fit(y=y_datetime)\n",
    "predictions = forecaster.predict_interval(\n",
    "                    steps            = 5, \n",
    "                    alpha            = None,\n",
    "                    interval         = [2.5, 97.5],\n",
    "                    last_window      = lw_datetime,\n",
    "                )\n",
    "predictions.values"
   ]
  },
  {
   "cell_type": "code",
   "execution_count": 8,
   "metadata": {},
   "outputs": [
    {
     "data": {
      "text/plain": [
       "array([[0.61420452, 0.17100769, 1.05740135],\n",
       "       [0.45514546, 0.0069039 , 0.90338703],\n",
       "       [0.50296609, 0.05453606, 0.95139611],\n",
       "       [0.51581947, 0.06737283, 0.96426612],\n",
       "       [0.56003087, 0.11158168, 1.00848007]])"
      ]
     },
     "execution_count": 8,
     "metadata": {},
     "output_type": "execute_result"
    }
   ],
   "source": [
    "forecaster = ForecasterSarimax(regressor=ARIMA(maxiter=1000, order=(1,1,1)))\n",
    "forecaster.fit(y=y_datetime, exog=exog_datetime)\n",
    "predictions = forecaster.predict_interval(\n",
    "                    steps            = 5, \n",
    "                    alpha            = 0.05,\n",
    "                    interval         = [1, 99],\n",
    "                    exog             = exog_predict_datetime, \n",
    "                    last_window      = lw_datetime, \n",
    "                    last_window_exog = lw_exog_datetime\n",
    "                )\n",
    "predictions.values"
   ]
  },
  {
   "cell_type": "code",
   "execution_count": 9,
   "metadata": {},
   "outputs": [
    {
     "name": "stderr",
     "output_type": "stream",
     "text": [
      "/home/ubuntu/anaconda3/envs/skforecast/lib/python3.8/site-packages/sklearn/base.py:450: UserWarning: X does not have valid feature names, but StandardScaler was fitted with feature names\n",
      "  warnings.warn(\n"
     ]
    },
    {
     "data": {
      "text/plain": [
       "array([[1.08795272, 0.65953954, 1.51636591],\n",
       "       [0.95925274, 0.52900782, 1.38949766],\n",
       "       [1.01602516, 0.58573837, 1.44631196],\n",
       "       [1.03637173, 0.60608219, 1.46666126],\n",
       "       [1.08747734, 0.65718757, 1.51776712]])"
      ]
     },
     "execution_count": 9,
     "metadata": {},
     "output_type": "execute_result"
    }
   ],
   "source": [
    "transformer_exog = ColumnTransformer(\n",
    "                        [('scale', StandardScaler(), ['exog_1']),\n",
    "                        ('onehot', OneHotEncoder(), ['exog_2'])],\n",
    "                        remainder = 'passthrough',\n",
    "                        verbose_feature_names_out = False\n",
    "                    )\n",
    "\n",
    "forecaster = ForecasterSarimax(\n",
    "                    regressor        = ARIMA(maxiter=1000, order=(1,1,1)), \n",
    "                    transformer_y    = StandardScaler(),\n",
    "                    transformer_exog = transformer_exog\n",
    "                )\n",
    "forecaster.fit(y=y_datetime, exog=df_exog_datetime)\n",
    "predictions = forecaster.predict_interval(\n",
    "                    steps            = 5, \n",
    "                    alpha            = 0.05,\n",
    "                    interval         = [1, 99],\n",
    "                    exog             = df_exog_predict_datetime, \n",
    "                    last_window      = lw_datetime, \n",
    "                    last_window_exog = df_lw_exog_datetime\n",
    "                )\n",
    "predictions.values"
   ]
  },
  {
   "cell_type": "code",
   "execution_count": 46,
   "metadata": {},
   "outputs": [],
   "source": [
    "def test_output_backtesting_sarimax_yes_refit_yes_exog_with_mocked():\n",
    "    \"\"\"\n",
    "    Test output of backtesting_sarimax with backtesting mocked, Series y is mocked, yes exog, \n",
    "    yes refit, 12 observations to backtest, steps=3 (no remainder), metric='mean_squared_error'. \n",
    "    Mocked done with skforecast 0.7.0.\n",
    "    \"\"\"\n",
    "    forecaster = ForecasterSarimax(regressor=ARIMA(maxiter=1000, order=(2,2,2)))\n",
    "\n",
    "    metric, backtest_predictions = backtesting_sarimax(\n",
    "                                        forecaster         = forecaster,\n",
    "                                        y                  = y_datetime,\n",
    "                                        exog               = exog_datetime,\n",
    "                                        steps              = 3,\n",
    "                                        metric             = 'mean_squared_error',\n",
    "                                        initial_train_size = len(y_datetime)-12,\n",
    "                                        fixed_train_size   = False,\n",
    "                                        refit              = True,\n",
    "                                        alpha              = None,\n",
    "                                        interval           = None,\n",
    "                                        verbose            = False\n",
    "                                   )\n",
    "    \n",
    "    expected_metric = 0.10409885910606446\n",
    "    expected_values = np.array(\n",
    "                         [0.65196283, 0.57702538, 0.66580046, 0.73326053, 0.73999565,\n",
    "                         0.68009211, 0.31761307, 0.264506, 0.42963014, 0.52169281,\n",
    "                         0.56901593, 0.54864362]\n",
    "                     )\n",
    "\n",
    "    expected_values = pd.DataFrame(\n",
    "                         data    = expected_values,\n",
    "                         columns = ['pred'],\n",
    "                         index   = pd.date_range(start='2038', periods=12, freq='A')\n",
    "                      )                                                     \n",
    "\n",
    "    assert expected_metric == approx(metric, abs=0.01)\n",
    "    pd.testing.assert_frame_equal(expected_values, backtest_predictions, atol=0.001)\n",
    "\n"
   ]
  },
  {
   "cell_type": "code",
   "execution_count": 47,
   "metadata": {},
   "outputs": [],
   "source": [
    "test_output_backtesting_sarimax_yes_refit_yes_exog_with_mocked()"
   ]
  },
  {
   "cell_type": "code",
   "execution_count": 45,
   "metadata": {},
   "outputs": [
    {
     "name": "stdout",
     "output_type": "stream",
     "text": [
      "[0.65196283 0.57702538 0.66580046 0.73326053 0.73999565 0.68009211\n",
      " 0.31761307 0.264506   0.42963014 0.52169281 0.56901593 0.54864362]\n",
      "0.10409885910606446\n"
     ]
    }
   ],
   "source": [
    "forecaster = ForecasterSarimax(regressor=ARIMA(maxiter=1000, order=(2,2,2)))\n",
    "\n",
    "metric, backtest_predictions = backtesting_sarimax(\n",
    "                                   forecaster         = forecaster,\n",
    "                                   y                  = y_datetime,\n",
    "                                   exog               = exog_datetime,\n",
    "                                   steps              = 3,\n",
    "                                   metric             = 'mean_squared_error',\n",
    "                                   initial_train_size = len(y_datetime)-12,\n",
    "                                   fixed_train_size   = False,\n",
    "                                   refit              = True,\n",
    "                                   alpha              = None,\n",
    "                                   interval           = None,\n",
    "                                   verbose            = False\n",
    "                              )\n",
    "\n",
    "print(backtest_predictions.values.flatten())\n",
    "print(metric)"
   ]
  }
 ],
 "metadata": {
  "kernelspec": {
   "display_name": "skforecast",
   "language": "python",
   "name": "python3"
  },
  "language_info": {
   "codemirror_mode": {
    "name": "ipython",
    "version": 3
   },
   "file_extension": ".py",
   "mimetype": "text/x-python",
   "name": "python",
   "nbconvert_exporter": "python",
   "pygments_lexer": "ipython3",
   "version": "3.8.13"
  },
  "orig_nbformat": 4,
  "vscode": {
   "interpreter": {
    "hash": "b01223d1c8e1f1b59110ab07e8a75a8d7363860deee4f879ff05c69d9593389e"
   }
  }
 },
 "nbformat": 4,
 "nbformat_minor": 2
}
