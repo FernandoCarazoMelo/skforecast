{
 "cells": [
  {
   "cell_type": "code",
   "execution_count": 24,
   "metadata": {},
   "outputs": [
    {
     "name": "stdout",
     "output_type": "stream",
     "text": [
      "The autoreload extension is already loaded. To reload it, use:\n",
      "  %reload_ext autoreload\n"
     ]
    }
   ],
   "source": [
    "%load_ext autoreload\n",
    "%autoreload 2\n",
    "import sys\n",
    "from pathlib import Path\n",
    "sys.path.insert(1, str(Path.cwd().parent))\n",
    "str(Path.cwd().parent)\n",
    "\n",
    "\n",
    "np.set_printoptions(precision=10)\n",
    "pd.set_option(\"display.precision\", 10)"
   ]
  },
  {
   "cell_type": "code",
   "execution_count": 4,
   "metadata": {},
   "outputs": [],
   "source": [
    "from typing import Union, Dict, List, Tuple, Any, Optional\n",
    "import warnings\n",
    "import logging\n",
    "import sys\n",
    "import numpy as np\n",
    "import pandas as pd\n",
    "from pytest import approx\n",
    "from sklearn.base import clone\n",
    "import pmdarima\n",
    "from pmdarima.arima import ARIMA\n",
    "\n",
    "import skforecast\n",
    "from skforecast.utils import initialize_lags\n",
    "from skforecast.utils import check_y\n",
    "from skforecast.utils import check_exog\n",
    "from skforecast.utils import preprocess_y\n",
    "from skforecast.utils import preprocess_last_window\n",
    "from skforecast.utils import preprocess_exog\n",
    "from skforecast.utils import expand_index\n",
    "from skforecast.utils import check_predict_input\n",
    "from skforecast.utils import transform_series\n",
    "from skforecast.utils import transform_dataframe\n",
    "from skforecast.model_selection_sarimax import backtesting_sarimax\n",
    "logging.basicConfig(\n",
    "    format = '%(name)-10s %(levelname)-5s %(message)s', \n",
    "    level  = logging.INFO,\n",
    ")"
   ]
  },
  {
   "cell_type": "code",
   "execution_count": 5,
   "metadata": {},
   "outputs": [],
   "source": [
    "from skforecast.ForecasterSarimax import ForecasterSarimax\n",
    "from sklearn.linear_model import Ridge\n",
    "import re\n",
    "import pytest\n",
    "from pmdarima.arima import ARIMA\n",
    "from sklearn.compose import ColumnTransformer\n",
    "from sklearn.preprocessing import StandardScaler\n",
    "from sklearn.preprocessing import OneHotEncoder"
   ]
  },
  {
   "cell_type": "code",
   "execution_count": 6,
   "metadata": {},
   "outputs": [],
   "source": [
    "y = pd.Series(\n",
    "        data = np.array([0.69646919, 0.28613933, 0.22685145, 0.55131477, 0.71946897,\n",
    "                         0.42310646, 0.9807642 , 0.68482974, 0.4809319 , 0.39211752,\n",
    "                         0.34317802, 0.72904971, 0.43857224, 0.0596779 , 0.39804426,\n",
    "                         0.73799541, 0.18249173, 0.17545176, 0.53155137, 0.53182759,\n",
    "                         0.63440096, 0.84943179, 0.72445532, 0.61102351, 0.72244338,\n",
    "                         0.32295891, 0.36178866, 0.22826323, 0.29371405, 0.63097612,\n",
    "                         0.09210494, 0.43370117, 0.43086276, 0.4936851 , 0.42583029,\n",
    "                         0.31226122, 0.42635131, 0.89338916, 0.94416002, 0.50183668,\n",
    "                         0.62395295, 0.1156184 , 0.31728548, 0.41482621, 0.86630916,\n",
    "                         0.25045537, 0.48303426, 0.98555979, 0.51948512, 0.61289453]\n",
    "            ),\n",
    "        name = 'y'\n",
    "    )\n",
    "\n",
    "exog = pd.Series(\n",
    "           data = np.array([0.12062867, 0.8263408 , 0.60306013, 0.54506801, 0.34276383,\n",
    "                            0.30412079, 0.41702221, 0.68130077, 0.87545684, 0.51042234,\n",
    "                            0.66931378, 0.58593655, 0.6249035 , 0.67468905, 0.84234244,\n",
    "                            0.08319499, 0.76368284, 0.24366637, 0.19422296, 0.57245696,\n",
    "                            0.09571252, 0.88532683, 0.62724897, 0.72341636, 0.01612921,\n",
    "                            0.59443188, 0.55678519, 0.15895964, 0.15307052, 0.69552953,\n",
    "                            0.31876643, 0.6919703 , 0.55438325, 0.38895057, 0.92513249,\n",
    "                            0.84167   , 0.35739757, 0.04359146, 0.30476807, 0.39818568,\n",
    "                            0.70495883, 0.99535848, 0.35591487, 0.76254781, 0.59317692,\n",
    "                            0.6917018 , 0.15112745, 0.39887629, 0.2408559 , 0.34345601]\n",
    "               ),\n",
    "           name = 'exog'\n",
    "       )\n",
    "\n",
    "exog_predict = pd.Series(\n",
    "                  data = np.array([0.12062867, 0.8263408 , 0.60306013, 0.54506801, 0.34276383,\n",
    "                                   0.30412079, 0.41702221, 0.68130077, 0.87545684, 0.51042234]\n",
    "                      ),\n",
    "                  name = 'exog',\n",
    "                  index = pd.RangeIndex(start=50, stop=60)\n",
    "               )\n",
    "\n",
    "df_exog = pd.DataFrame({\n",
    "              'exog_1': exog.values,\n",
    "              'exog_2': ['a']*25+['b']*25}\n",
    "          )\n",
    "df_exog_predict = df_exog.copy()\n",
    "df_exog_predict.index = pd.RangeIndex(start=50, stop=100)\n",
    "\n",
    "y_datetime = pd.Series(data=y.values)\n",
    "y_datetime.index = pd.date_range(start='2000', periods=50, freq='A')\n",
    "y_datetime.name = 'y'\n",
    "\n",
    "lw_datetime = pd.Series(data=y.values)\n",
    "lw_datetime.index = pd.date_range(start='2050', periods=50, freq='A')\n",
    "lw_datetime.name = 'y'\n",
    "\n",
    "exog_datetime = pd.Series(data=exog.values)\n",
    "exog_datetime.index = pd.date_range(start='2000', periods=50, freq='A')\n",
    "exog_datetime.name = 'exog'\n",
    "\n",
    "lw_exog_datetime = pd.Series(data=exog.values)\n",
    "lw_exog_datetime.index = pd.date_range(start='2050', periods=50, freq='A')\n",
    "lw_exog_datetime.name = 'exog'\n",
    "\n",
    "exog_predict_datetime = pd.Series(data=exog_predict.values)\n",
    "exog_predict_datetime.index = pd.date_range(start='2100', periods=10, freq='A')\n",
    "exog_predict_datetime.name = 'exog'\n",
    "\n",
    "df_exog_datetime = df_exog.copy()\n",
    "df_exog_datetime.index = pd.date_range(start='2000', periods=50, freq='A')\n",
    "\n",
    "df_lw_exog_datetime = df_exog.copy()\n",
    "df_lw_exog_datetime.index = pd.date_range(start='2050', periods=50, freq='A')\n",
    "\n",
    "df_exog_predict_datetime = df_exog.copy()\n",
    "df_exog_predict_datetime.index = pd.date_range(start='2100', periods=50, freq='A')"
   ]
  },
  {
   "cell_type": "code",
   "execution_count": 83,
   "metadata": {},
   "outputs": [
    {
     "name": "stderr",
     "output_type": "stream",
     "text": [
      "/home/ubuntu/anaconda3/envs/skforecast_py10/lib/python3.10/site-packages/sklearn/base.py:420: UserWarning: X does not have valid feature names, but StandardScaler was fitted with feature names\n",
      "  warnings.warn(\n"
     ]
    }
   ],
   "source": [
    "kwargs = {'order': (1,1,1),  'seasonal_order': (0,0,0,0)}\n",
    "#kwargs = {'order': (1,1,1),  'seasonal_order': (1,1,1,2)}\n",
    "data = [1.1431156427, 1.0393416189, 1.0916050805, 1.1116324828, 1.1583914007]\n",
    "\n",
    "def test_predict_output_ForecasterSarimax_with_last_window_and_exog_and_transformers(kwargs, data):\n",
    "    \"\"\"\n",
    "    Test predict output of ForecasterSarimax with exogenous variables, `last_window`\n",
    "    and transformers.\n",
    "    \"\"\"\n",
    "    transformer_exog = ColumnTransformer(\n",
    "                           [('scale', StandardScaler(), ['exog_1']),\n",
    "                            ('onehot', OneHotEncoder(), ['exog_2'])],\n",
    "                           remainder = 'passthrough',\n",
    "                           verbose_feature_names_out = False\n",
    "                       )\n",
    "\n",
    "    forecaster = ForecasterSarimax(\n",
    "                     regressor        = ARIMA(maxiter=10000, trend=None, method='nm', ftol=1e-19,**kwargs), \n",
    "                     transformer_y    = StandardScaler(),\n",
    "                     transformer_exog = transformer_exog\n",
    "                 )\n",
    "    forecaster.fit(y=y_datetime, exog=df_exog_datetime)\n",
    "    predictions = forecaster.predict(\n",
    "                      steps            = 5, \n",
    "                      exog             = df_exog_predict_datetime, \n",
    "                      last_window      = lw_datetime, \n",
    "                      last_window_exog = df_lw_exog_datetime\n",
    "                  )\n",
    "\n",
    "    expected = pd.Series(\n",
    "                   data  = data,\n",
    "                   index = pd.date_range(start='2100', periods=5, freq='A'),\n",
    "                   name  = 'pred'\n",
    "               )\n",
    "    \n",
    "    pd.testing.assert_series_equal(predictions, expected, atol=0.0001)\n",
    "\n",
    "\n",
    "\n",
    "test_predict_output_ForecasterSarimax_with_last_window_and_exog_and_transformers(kwargs, data)"
   ]
  },
  {
   "cell_type": "code",
   "execution_count": 82,
   "metadata": {},
   "outputs": [
    {
     "name": "stderr",
     "output_type": "stream",
     "text": [
      "/home/ubuntu/anaconda3/envs/skforecast_py10/lib/python3.10/site-packages/sklearn/base.py:420: UserWarning: X does not have valid feature names, but StandardScaler was fitted with feature names\n",
      "  warnings.warn(\n"
     ]
    },
    {
     "data": {
      "text/plain": [
       "array([1.1431156427, 1.0393416189, 1.0916050805, 1.1116324828,\n",
       "       1.1583914007])"
      ]
     },
     "execution_count": 82,
     "metadata": {},
     "output_type": "execute_result"
    }
   ],
   "source": [
    "transformer_exog = ColumnTransformer(\n",
    "                        [('scale', StandardScaler(), ['exog_1']),\n",
    "                        ('onehot', OneHotEncoder(), ['exog_2'])],\n",
    "                        remainder = 'passthrough',\n",
    "                        verbose_feature_names_out = False\n",
    "                    )\n",
    "\n",
    "forecaster = ForecasterSarimax(\n",
    "                    regressor        = ARIMA(maxiter=10000, trend=None, method='nm', ftol=1e-19,**kwargs), \n",
    "                    transformer_y    = StandardScaler(),\n",
    "                    transformer_exog = transformer_exog\n",
    "                )\n",
    "forecaster.fit(y=y_datetime, exog=df_exog_datetime)\n",
    "predictions = forecaster.predict(\n",
    "                    steps            = 5, \n",
    "                    exog             = df_exog_predict_datetime, \n",
    "                    last_window      = lw_datetime, \n",
    "                    last_window_exog = df_lw_exog_datetime)\n",
    "predictions.values"
   ]
  },
  {
   "cell_type": "code",
   "execution_count": null,
   "metadata": {},
   "outputs": [],
   "source": []
  }
 ],
 "metadata": {
  "kernelspec": {
   "display_name": "skforecast_py10",
   "language": "python",
   "name": "python3"
  },
  "language_info": {
   "codemirror_mode": {
    "name": "ipython",
    "version": 3
   },
   "file_extension": ".py",
   "mimetype": "text/x-python",
   "name": "python",
   "nbconvert_exporter": "python",
   "pygments_lexer": "ipython3",
   "version": "3.10.9"
  },
  "orig_nbformat": 4,
  "vscode": {
   "interpreter": {
    "hash": "6cf372b23b9916b33b4c23f9ee2e7d08e597eb711b766c11830fb054f7812cb1"
   }
  }
 },
 "nbformat": 4,
 "nbformat_minor": 2
}
