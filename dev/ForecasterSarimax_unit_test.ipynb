{
 "cells": [
  {
   "cell_type": "code",
   "execution_count": 131,
   "metadata": {},
   "outputs": [
    {
     "name": "stdout",
     "output_type": "stream",
     "text": [
      "The autoreload extension is already loaded. To reload it, use:\n",
      "  %reload_ext autoreload\n"
     ]
    },
    {
     "data": {
      "text/plain": [
       "'/home/ubuntu/varios/skforecast'"
      ]
     },
     "execution_count": 131,
     "metadata": {},
     "output_type": "execute_result"
    }
   ],
   "source": [
    "%load_ext autoreload\n",
    "%autoreload 2\n",
    "import sys\n",
    "from pathlib import Path\n",
    "sys.path.insert(1, str(Path.cwd().parent))\n",
    "str(Path.cwd().parent)"
   ]
  },
  {
   "cell_type": "code",
   "execution_count": 132,
   "metadata": {},
   "outputs": [],
   "source": [
    "from typing import Union, Dict, List, Tuple, Any, Optional\n",
    "import warnings\n",
    "import logging\n",
    "import sys\n",
    "import numpy as np\n",
    "import pandas as pd\n",
    "from pytest import approx\n",
    "from sklearn.base import clone\n",
    "import pmdarima\n",
    "from pmdarima.arima import ARIMA\n",
    "\n",
    "import skforecast\n",
    "from skforecast.utils import initialize_lags\n",
    "from skforecast.utils import check_y\n",
    "from skforecast.utils import check_exog\n",
    "from skforecast.utils import preprocess_y\n",
    "from skforecast.utils import preprocess_last_window\n",
    "from skforecast.utils import preprocess_exog\n",
    "from skforecast.utils import expand_index\n",
    "from skforecast.utils import check_predict_input\n",
    "from skforecast.utils import transform_series\n",
    "from skforecast.utils import transform_dataframe\n",
    "from skforecast.model_selection_sarimax import backtesting_sarimax\n",
    "logging.basicConfig(\n",
    "    format = '%(name)-10s %(levelname)-5s %(message)s', \n",
    "    level  = logging.INFO,\n",
    ")\n",
    "\n",
    "np.set_printoptions(precision=10)\n",
    "pd.set_option(\"display.precision\", 10)"
   ]
  },
  {
   "cell_type": "code",
   "execution_count": 133,
   "metadata": {},
   "outputs": [],
   "source": [
    "from skforecast.ForecasterSarimax import ForecasterSarimax\n",
    "from sklearn.linear_model import Ridge\n",
    "import re\n",
    "import pytest\n",
    "from pmdarima.arima import ARIMA\n",
    "from sklearn.compose import ColumnTransformer\n",
    "from sklearn.preprocessing import StandardScaler\n",
    "from sklearn.preprocessing import OneHotEncoder"
   ]
  },
  {
   "cell_type": "code",
   "execution_count": 134,
   "metadata": {},
   "outputs": [],
   "source": [
    "y = pd.Series(\n",
    "        data = np.array([0.69646919, 0.28613933, 0.22685145, 0.55131477, 0.71946897,\n",
    "                         0.42310646, 0.9807642 , 0.68482974, 0.4809319 , 0.39211752,\n",
    "                         0.34317802, 0.72904971, 0.43857224, 0.0596779 , 0.39804426,\n",
    "                         0.73799541, 0.18249173, 0.17545176, 0.53155137, 0.53182759,\n",
    "                         0.63440096, 0.84943179, 0.72445532, 0.61102351, 0.72244338,\n",
    "                         0.32295891, 0.36178866, 0.22826323, 0.29371405, 0.63097612,\n",
    "                         0.09210494, 0.43370117, 0.43086276, 0.4936851 , 0.42583029,\n",
    "                         0.31226122, 0.42635131, 0.89338916, 0.94416002, 0.50183668,\n",
    "                         0.62395295, 0.1156184 , 0.31728548, 0.41482621, 0.86630916,\n",
    "                         0.25045537, 0.48303426, 0.98555979, 0.51948512, 0.61289453]\n",
    "            ),\n",
    "        name = 'y'\n",
    "    )\n",
    "\n",
    "exog = pd.Series(\n",
    "           data = np.array([0.12062867, 0.8263408 , 0.60306013, 0.54506801, 0.34276383,\n",
    "                            0.30412079, 0.41702221, 0.68130077, 0.87545684, 0.51042234,\n",
    "                            0.66931378, 0.58593655, 0.6249035 , 0.67468905, 0.84234244,\n",
    "                            0.08319499, 0.76368284, 0.24366637, 0.19422296, 0.57245696,\n",
    "                            0.09571252, 0.88532683, 0.62724897, 0.72341636, 0.01612921,\n",
    "                            0.59443188, 0.55678519, 0.15895964, 0.15307052, 0.69552953,\n",
    "                            0.31876643, 0.6919703 , 0.55438325, 0.38895057, 0.92513249,\n",
    "                            0.84167   , 0.35739757, 0.04359146, 0.30476807, 0.39818568,\n",
    "                            0.70495883, 0.99535848, 0.35591487, 0.76254781, 0.59317692,\n",
    "                            0.6917018 , 0.15112745, 0.39887629, 0.2408559 , 0.34345601]\n",
    "               ),\n",
    "           name = 'exog'\n",
    "       )\n",
    "\n",
    "exog_predict = pd.Series(\n",
    "                  data = np.array([0.12062867, 0.8263408 , 0.60306013, 0.54506801, 0.34276383,\n",
    "                                   0.30412079, 0.41702221, 0.68130077, 0.87545684, 0.51042234]\n",
    "                      ),\n",
    "                  name = 'exog',\n",
    "                  index = pd.RangeIndex(start=50, stop=60)\n",
    "               )\n",
    "\n",
    "df_exog = pd.DataFrame({\n",
    "              'exog_1': exog.values,\n",
    "              'exog_2': ['a']*25+['b']*25}\n",
    "          )\n",
    "df_exog_predict = df_exog.copy()\n",
    "df_exog_predict.index = pd.RangeIndex(start=50, stop=100)\n",
    "\n",
    "y_datetime = pd.Series(data=y.values)\n",
    "y_datetime.index = pd.date_range(start='2000', periods=50, freq='A')\n",
    "y_datetime.name = 'y'\n",
    "\n",
    "lw_datetime = pd.Series(data=y.values)\n",
    "lw_datetime.index = pd.date_range(start='2050', periods=50, freq='A')\n",
    "lw_datetime.name = 'y'\n",
    "\n",
    "exog_datetime = pd.Series(data=exog.values)\n",
    "exog_datetime.index = pd.date_range(start='2000', periods=50, freq='A')\n",
    "exog_datetime.name = 'exog'\n",
    "\n",
    "lw_exog_datetime = pd.Series(data=exog.values)\n",
    "lw_exog_datetime.index = pd.date_range(start='2050', periods=50, freq='A')\n",
    "lw_exog_datetime.name = 'exog'\n",
    "\n",
    "exog_predict_datetime = pd.Series(data=exog_predict.values)\n",
    "exog_predict_datetime.index = pd.date_range(start='2100', periods=10, freq='A')\n",
    "exog_predict_datetime.name = 'exog'\n",
    "\n",
    "df_exog_datetime = df_exog.copy()\n",
    "df_exog_datetime.index = pd.date_range(start='2000', periods=50, freq='A')\n",
    "\n",
    "df_lw_exog_datetime = df_exog.copy()\n",
    "df_lw_exog_datetime.index = pd.date_range(start='2050', periods=50, freq='A')\n",
    "\n",
    "df_exog_predict_datetime = df_exog.copy()\n",
    "df_exog_predict_datetime.index = pd.date_range(start='2100', periods=50, freq='A')"
   ]
  },
  {
   "cell_type": "code",
   "execution_count": 150,
   "metadata": {},
   "outputs": [
    {
     "ename": "ValueError",
     "evalue": "Shape of passed values is (36, 1), indices imply (12, 3)",
     "output_type": "error",
     "traceback": [
      "\u001b[0;31m---------------------------------------------------------------------------\u001b[0m",
      "\u001b[0;31mValueError\u001b[0m                                Traceback (most recent call last)",
      "Cell \u001b[0;32mIn[150], line 62\u001b[0m\n\u001b[1;32m     55\u001b[0m     \u001b[39massert\u001b[39;00m expected_metric \u001b[39m==\u001b[39m approx(metric, \u001b[39mabs\u001b[39m\u001b[39m=\u001b[39m\u001b[39m0.0001\u001b[39m)\n\u001b[1;32m     56\u001b[0m     pd\u001b[39m.\u001b[39mtesting\u001b[39m.\u001b[39massert_frame_equal(expected_backtest_predictions, backtest_predictions, atol\u001b[39m=\u001b[39m\u001b[39m0.0001\u001b[39m)\n\u001b[0;32m---> 62\u001b[0m test_output_backtesting_sarimax_yes_refit_yes_exog_interval_with_mocked(alpha, interval)\n",
      "Cell \u001b[0;32mIn[150], line 49\u001b[0m, in \u001b[0;36mtest_output_backtesting_sarimax_yes_refit_yes_exog_interval_with_mocked\u001b[0;34m(alpha, interval)\u001b[0m\n\u001b[1;32m     38\u001b[0m expected_metric \u001b[39m=\u001b[39m \u001b[39m0.2018507318439613\u001b[39m\n\u001b[1;32m     39\u001b[0m expected_values \u001b[39m=\u001b[39m np\u001b[39m.\u001b[39marray([\u001b[39m0.5808796661\u001b[39m, \u001b[39m0.164441322\u001b[39m , \u001b[39m0.9973180102\u001b[39m, \u001b[39m0.5170345946\u001b[39m,\n\u001b[1;32m     40\u001b[0m                             \u001b[39m0.0940599402\u001b[39m, \u001b[39m0.9400092491\u001b[39m, \u001b[39m0.4546504329\u001b[39m, \u001b[39m0.0314706312\u001b[39m,\n\u001b[1;32m     41\u001b[0m                             \u001b[39m0.8778302345\u001b[39m, \u001b[39m0.4518464581\u001b[39m, \u001b[39m0.0327714211\u001b[39m, \u001b[39m0.870921495\u001b[39m ,\n\u001b[0;32m   (...)\u001b[0m\n\u001b[1;32m     46\u001b[0m                             \u001b[39m0.0726297766\u001b[39m, \u001b[39m0.9274910554\u001b[39m, \u001b[39m0.5448058138\u001b[39m, \u001b[39m0.1120978921\u001b[39m,\n\u001b[1;32m     47\u001b[0m                             \u001b[39m0.9775137355\u001b[39m, \u001b[39m0.5246443326\u001b[39m, \u001b[39m0.0918061134\u001b[39m, \u001b[39m0.9574825517\u001b[39m])\n\u001b[0;32m---> 49\u001b[0m expected_backtest_predictions \u001b[39m=\u001b[39m pd\u001b[39m.\u001b[39;49mDataFrame(\n\u001b[1;32m     50\u001b[0m                                     data    \u001b[39m=\u001b[39;49m expected_values,\n\u001b[1;32m     51\u001b[0m                                     columns \u001b[39m=\u001b[39;49m [\u001b[39m'\u001b[39;49m\u001b[39mpred\u001b[39;49m\u001b[39m'\u001b[39;49m, \u001b[39m'\u001b[39;49m\u001b[39mlower_bound\u001b[39;49m\u001b[39m'\u001b[39;49m, \u001b[39m'\u001b[39;49m\u001b[39mupper_bound\u001b[39;49m\u001b[39m'\u001b[39;49m],\n\u001b[1;32m     52\u001b[0m                                     index   \u001b[39m=\u001b[39;49m pd\u001b[39m.\u001b[39;49mdate_range(start\u001b[39m=\u001b[39;49m\u001b[39m'\u001b[39;49m\u001b[39m2038\u001b[39;49m\u001b[39m'\u001b[39;49m, periods\u001b[39m=\u001b[39;49m\u001b[39m12\u001b[39;49m, freq\u001b[39m=\u001b[39;49m\u001b[39m'\u001b[39;49m\u001b[39mA\u001b[39;49m\u001b[39m'\u001b[39;49m)\n\u001b[1;32m     53\u001b[0m                                 )                                                     \n\u001b[1;32m     55\u001b[0m \u001b[39massert\u001b[39;00m expected_metric \u001b[39m==\u001b[39m approx(metric, \u001b[39mabs\u001b[39m\u001b[39m=\u001b[39m\u001b[39m0.0001\u001b[39m)\n\u001b[1;32m     56\u001b[0m pd\u001b[39m.\u001b[39mtesting\u001b[39m.\u001b[39massert_frame_equal(expected_backtest_predictions, backtest_predictions, atol\u001b[39m=\u001b[39m\u001b[39m0.0001\u001b[39m)\n",
      "File \u001b[0;32m~/anaconda3/envs/skforecast_py10/lib/python3.10/site-packages/pandas/core/frame.py:722\u001b[0m, in \u001b[0;36mDataFrame.__init__\u001b[0;34m(self, data, index, columns, dtype, copy)\u001b[0m\n\u001b[1;32m    712\u001b[0m         mgr \u001b[39m=\u001b[39m dict_to_mgr(\n\u001b[1;32m    713\u001b[0m             \u001b[39m# error: Item \"ndarray\" of \"Union[ndarray, Series, Index]\" has no\u001b[39;00m\n\u001b[1;32m    714\u001b[0m             \u001b[39m# attribute \"name\"\u001b[39;00m\n\u001b[0;32m   (...)\u001b[0m\n\u001b[1;32m    719\u001b[0m             typ\u001b[39m=\u001b[39mmanager,\n\u001b[1;32m    720\u001b[0m         )\n\u001b[1;32m    721\u001b[0m     \u001b[39melse\u001b[39;00m:\n\u001b[0;32m--> 722\u001b[0m         mgr \u001b[39m=\u001b[39m ndarray_to_mgr(\n\u001b[1;32m    723\u001b[0m             data,\n\u001b[1;32m    724\u001b[0m             index,\n\u001b[1;32m    725\u001b[0m             columns,\n\u001b[1;32m    726\u001b[0m             dtype\u001b[39m=\u001b[39;49mdtype,\n\u001b[1;32m    727\u001b[0m             copy\u001b[39m=\u001b[39;49mcopy,\n\u001b[1;32m    728\u001b[0m             typ\u001b[39m=\u001b[39;49mmanager,\n\u001b[1;32m    729\u001b[0m         )\n\u001b[1;32m    731\u001b[0m \u001b[39m# For data is list-like, or Iterable (will consume into list)\u001b[39;00m\n\u001b[1;32m    732\u001b[0m \u001b[39melif\u001b[39;00m is_list_like(data):\n",
      "File \u001b[0;32m~/anaconda3/envs/skforecast_py10/lib/python3.10/site-packages/pandas/core/internals/construction.py:349\u001b[0m, in \u001b[0;36mndarray_to_mgr\u001b[0;34m(values, index, columns, dtype, copy, typ)\u001b[0m\n\u001b[1;32m    344\u001b[0m \u001b[39m# _prep_ndarraylike ensures that values.ndim == 2 at this point\u001b[39;00m\n\u001b[1;32m    345\u001b[0m index, columns \u001b[39m=\u001b[39m _get_axes(\n\u001b[1;32m    346\u001b[0m     values\u001b[39m.\u001b[39mshape[\u001b[39m0\u001b[39m], values\u001b[39m.\u001b[39mshape[\u001b[39m1\u001b[39m], index\u001b[39m=\u001b[39mindex, columns\u001b[39m=\u001b[39mcolumns\n\u001b[1;32m    347\u001b[0m )\n\u001b[0;32m--> 349\u001b[0m _check_values_indices_shape_match(values, index, columns)\n\u001b[1;32m    351\u001b[0m \u001b[39mif\u001b[39;00m typ \u001b[39m==\u001b[39m \u001b[39m\"\u001b[39m\u001b[39marray\u001b[39m\u001b[39m\"\u001b[39m:\n\u001b[1;32m    353\u001b[0m     \u001b[39mif\u001b[39;00m \u001b[39missubclass\u001b[39m(values\u001b[39m.\u001b[39mdtype\u001b[39m.\u001b[39mtype, \u001b[39mstr\u001b[39m):\n",
      "File \u001b[0;32m~/anaconda3/envs/skforecast_py10/lib/python3.10/site-packages/pandas/core/internals/construction.py:420\u001b[0m, in \u001b[0;36m_check_values_indices_shape_match\u001b[0;34m(values, index, columns)\u001b[0m\n\u001b[1;32m    418\u001b[0m passed \u001b[39m=\u001b[39m values\u001b[39m.\u001b[39mshape\n\u001b[1;32m    419\u001b[0m implied \u001b[39m=\u001b[39m (\u001b[39mlen\u001b[39m(index), \u001b[39mlen\u001b[39m(columns))\n\u001b[0;32m--> 420\u001b[0m \u001b[39mraise\u001b[39;00m \u001b[39mValueError\u001b[39;00m(\u001b[39mf\u001b[39m\u001b[39m\"\u001b[39m\u001b[39mShape of passed values is \u001b[39m\u001b[39m{\u001b[39;00mpassed\u001b[39m}\u001b[39;00m\u001b[39m, indices imply \u001b[39m\u001b[39m{\u001b[39;00mimplied\u001b[39m}\u001b[39;00m\u001b[39m\"\u001b[39m)\n",
      "\u001b[0;31mValueError\u001b[0m: Shape of passed values is (36, 1), indices imply (12, 3)"
     ]
    }
   ],
   "source": [
    "alpha = None\n",
    "interval = [2.5, 97.5]\n",
    "#kwargs = {'order': (1,1,1),  'seasonal_order': (0,0,0,0)}\n",
    "#kwargs = {'order': (1,1,1),  'seasonal_order': (1,1,1,2)}\n",
    "#data = [1.1431156427, 1.0393416189, 1.0916050805, 1.1116324828, 1.1583914007]\n",
    "\n",
    "def my_metric(y_true, y_pred): # pragma: no cover\n",
    "    \"\"\"\n",
    "    Callable metric\n",
    "    \"\"\"\n",
    "    metric = ((y_true - y_pred)/len(y_true)).mean()\n",
    "    \n",
    "    return metric\n",
    "\n",
    "\n",
    "def test_output_backtesting_sarimax_yes_refit_yes_exog_interval_with_mocked(alpha, interval):\n",
    "    \"\"\"\n",
    "    Test output of backtesting_sarimax with backtesting mocked, Series y is mocked, yes exog, \n",
    "    yes refit, 12 observations to backtest, steps=3 (no remainder), \n",
    "    metric='mean_absolute_error', interval. Mocked done with skforecast 0.7.0.\n",
    "    \"\"\"\n",
    "    forecaster = ForecasterSarimax(regressor=ARIMA(maxiter=10000, trend=None, method='nm', ftol=1e-19,  order=(1,0,0)))\n",
    "\n",
    "    metric, backtest_predictions = backtesting_sarimax(\n",
    "                                        forecaster         = forecaster,\n",
    "                                        y                  = y_datetime,\n",
    "                                        exog               = exog_datetime,\n",
    "                                        steps              = 3,\n",
    "                                        metric             = 'mean_absolute_error',\n",
    "                                        initial_train_size = len(y_datetime)-12,\n",
    "                                        fixed_train_size   = False,\n",
    "                                        refit              = True,\n",
    "                                        alpha              = alpha,\n",
    "                                        interval           = interval,\n",
    "                                        verbose            = False\n",
    "                                   )\n",
    "    \n",
    "    expected_metric = 0.2018507318439613\n",
    "    expected_values = np.array([0.5808796661, 0.164441322 , 0.9973180102, 0.5170345946,\n",
    "                                0.0940599402, 0.9400092491, 0.4546504329, 0.0314706312,\n",
    "                                0.8778302345, 0.4518464581, 0.0327714211, 0.870921495 ,\n",
    "                                0.5349945619, 0.1059645448, 0.9640245791, 0.4592103268,\n",
    "                                0.0297075509, 0.8887131028, 0.4659649981, 0.0481543449,\n",
    "                                0.8837756513, 0.448978798 , 0.0223625105, 0.8755950854,\n",
    "                                0.5612031446, 0.1342158091, 0.98819048  , 0.500060416 ,\n",
    "                                0.0726297766, 0.9274910554, 0.5448058138, 0.1120978921,\n",
    "                                0.9775137355, 0.5246443326, 0.0918061134, 0.9574825517])\n",
    "\n",
    "    expected_backtest_predictions = pd.DataFrame(\n",
    "                                        data    = expected_values,\n",
    "                                        columns = ['pred', 'lower_bound', 'upper_bound'],\n",
    "                                        index   = pd.date_range(start='2038', periods=12, freq='A')\n",
    "                                    )                                                     \n",
    "\n",
    "    assert expected_metric == approx(metric, abs=0.0001)\n",
    "    pd.testing.assert_frame_equal(expected_backtest_predictions, backtest_predictions, atol=0.0001)\n",
    "\n",
    "\n",
    "\n",
    "\n",
    "\n",
    "test_output_backtesting_sarimax_yes_refit_yes_exog_interval_with_mocked(alpha, interval)"
   ]
  },
  {
   "cell_type": "code",
   "execution_count": 149,
   "metadata": {},
   "outputs": [
    {
     "name": "stdout",
     "output_type": "stream",
     "text": [
      "0.2018507318439613\n"
     ]
    },
    {
     "data": {
      "text/plain": [
       "array([0.5808796661, 0.164441322 , 0.9973180102, 0.5170345946,\n",
       "       0.0940599402, 0.9400092491, 0.4546504329, 0.0314706312,\n",
       "       0.8778302345, 0.4518464581, 0.0327714211, 0.870921495 ,\n",
       "       0.5349945619, 0.1059645448, 0.9640245791, 0.4592103268,\n",
       "       0.0297075509, 0.8887131028, 0.4659649981, 0.0481543449,\n",
       "       0.8837756513, 0.448978798 , 0.0223625105, 0.8755950854,\n",
       "       0.5612031446, 0.1342158091, 0.98819048  , 0.500060416 ,\n",
       "       0.0726297766, 0.9274910554, 0.5448058138, 0.1120978921,\n",
       "       0.9775137355, 0.5246443326, 0.0918061134, 0.9574825517])"
      ]
     },
     "execution_count": 149,
     "metadata": {},
     "output_type": "execute_result"
    }
   ],
   "source": [
    "forecaster = ForecasterSarimax(regressor=ARIMA(maxiter=10000, trend=None, method='nm', ftol=1e-19,  order=(1,0,0)))\n",
    "\n",
    "    metric, backtest_predictions = backtesting_sarimax(\n",
    "                                        forecaster         = forecaster,\n",
    "                                        y                  = y_datetime,\n",
    "                                        exog               = exog_datetime,\n",
    "                                        steps              = 3,\n",
    "                                        metric             = 'mean_absolute_error',\n",
    "                                        initial_train_size = len(y_datetime)-12,\n",
    "                                        fixed_train_size   = False,\n",
    "                                        refit              = True,\n",
    "                                        alpha              = alpha,\n",
    "                                        interval           = interval,\n",
    "                                        verbose            = False\n",
    "                                   )\n",
    "print(metric)\n",
    "backtest_predictions.values.flatten()"
   ]
  },
  {
   "cell_type": "code",
   "execution_count": null,
   "metadata": {},
   "outputs": [],
   "source": []
  }
 ],
 "metadata": {
  "kernelspec": {
   "display_name": "skforecast_py10",
   "language": "python",
   "name": "python3"
  },
  "language_info": {
   "codemirror_mode": {
    "name": "ipython",
    "version": 3
   },
   "file_extension": ".py",
   "mimetype": "text/x-python",
   "name": "python",
   "nbconvert_exporter": "python",
   "pygments_lexer": "ipython3",
   "version": "3.10.9"
  },
  "orig_nbformat": 4,
  "vscode": {
   "interpreter": {
    "hash": "6cf372b23b9916b33b4c23f9ee2e7d08e597eb711b766c11830fb054f7812cb1"
   }
  }
 },
 "nbformat": 4,
 "nbformat_minor": 2
}
