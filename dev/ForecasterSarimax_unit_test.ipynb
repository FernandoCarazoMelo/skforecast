{
 "cells": [
  {
   "cell_type": "code",
   "execution_count": 1,
   "metadata": {},
   "outputs": [
    {
     "data": {
      "text/plain": [
       "'/home/ubuntu/varios/skforecast'"
      ]
     },
     "execution_count": 1,
     "metadata": {},
     "output_type": "execute_result"
    }
   ],
   "source": [
    "%load_ext autoreload\n",
    "%autoreload 2\n",
    "import sys\n",
    "from pathlib import Path\n",
    "sys.path.insert(1, str(Path.cwd().parent))\n",
    "str(Path.cwd().parent)"
   ]
  },
  {
   "cell_type": "code",
   "execution_count": 2,
   "metadata": {},
   "outputs": [],
   "source": [
    "from typing import Union, Dict, List, Tuple, Any, Optional\n",
    "import warnings\n",
    "import logging\n",
    "import sys\n",
    "import numpy as np\n",
    "import pandas as pd\n",
    "from pytest import approx\n",
    "from sklearn.base import clone\n",
    "import pmdarima\n",
    "from pmdarima.arima import ARIMA\n",
    "\n",
    "import skforecast\n",
    "from skforecast.utils import initialize_lags\n",
    "from skforecast.utils import check_y\n",
    "from skforecast.utils import check_exog\n",
    "from skforecast.utils import preprocess_y\n",
    "from skforecast.utils import preprocess_last_window\n",
    "from skforecast.utils import preprocess_exog\n",
    "from skforecast.utils import expand_index\n",
    "from skforecast.utils import check_predict_input\n",
    "from skforecast.utils import transform_series\n",
    "from skforecast.utils import transform_dataframe\n",
    "from skforecast.model_selection_sarimax import backtesting_sarimax\n",
    "logging.basicConfig(\n",
    "    format = '%(name)-10s %(levelname)-5s %(message)s', \n",
    "    level  = logging.INFO,\n",
    ")"
   ]
  },
  {
   "cell_type": "code",
   "execution_count": 3,
   "metadata": {},
   "outputs": [],
   "source": [
    "from skforecast.ForecasterSarimax import ForecasterSarimax\n",
    "from sklearn.linear_model import Ridge\n",
    "import re\n",
    "import pytest\n",
    "from pmdarima.arima import ARIMA\n",
    "from sklearn.compose import ColumnTransformer\n",
    "from sklearn.preprocessing import StandardScaler\n",
    "from sklearn.preprocessing import OneHotEncoder"
   ]
  },
  {
   "cell_type": "code",
   "execution_count": 4,
   "metadata": {},
   "outputs": [],
   "source": [
    "y = pd.Series(\n",
    "        data = np.array([0.69646919, 0.28613933, 0.22685145, 0.55131477, 0.71946897,\n",
    "                         0.42310646, 0.9807642 , 0.68482974, 0.4809319 , 0.39211752,\n",
    "                         0.34317802, 0.72904971, 0.43857224, 0.0596779 , 0.39804426,\n",
    "                         0.73799541, 0.18249173, 0.17545176, 0.53155137, 0.53182759,\n",
    "                         0.63440096, 0.84943179, 0.72445532, 0.61102351, 0.72244338,\n",
    "                         0.32295891, 0.36178866, 0.22826323, 0.29371405, 0.63097612,\n",
    "                         0.09210494, 0.43370117, 0.43086276, 0.4936851 , 0.42583029,\n",
    "                         0.31226122, 0.42635131, 0.89338916, 0.94416002, 0.50183668,\n",
    "                         0.62395295, 0.1156184 , 0.31728548, 0.41482621, 0.86630916,\n",
    "                         0.25045537, 0.48303426, 0.98555979, 0.51948512, 0.61289453]\n",
    "            ),\n",
    "        name = 'y'\n",
    "    )\n",
    "\n",
    "exog = pd.Series(\n",
    "           data = np.array([0.12062867, 0.8263408 , 0.60306013, 0.54506801, 0.34276383,\n",
    "                            0.30412079, 0.41702221, 0.68130077, 0.87545684, 0.51042234,\n",
    "                            0.66931378, 0.58593655, 0.6249035 , 0.67468905, 0.84234244,\n",
    "                            0.08319499, 0.76368284, 0.24366637, 0.19422296, 0.57245696,\n",
    "                            0.09571252, 0.88532683, 0.62724897, 0.72341636, 0.01612921,\n",
    "                            0.59443188, 0.55678519, 0.15895964, 0.15307052, 0.69552953,\n",
    "                            0.31876643, 0.6919703 , 0.55438325, 0.38895057, 0.92513249,\n",
    "                            0.84167   , 0.35739757, 0.04359146, 0.30476807, 0.39818568,\n",
    "                            0.70495883, 0.99535848, 0.35591487, 0.76254781, 0.59317692,\n",
    "                            0.6917018 , 0.15112745, 0.39887629, 0.2408559 , 0.34345601]\n",
    "               ),\n",
    "           name = 'exog'\n",
    "       )\n",
    "\n",
    "exog_predict = pd.Series(\n",
    "                  data = np.array([0.12062867, 0.8263408 , 0.60306013, 0.54506801, 0.34276383,\n",
    "                                   0.30412079, 0.41702221, 0.68130077, 0.87545684, 0.51042234]\n",
    "                      ),\n",
    "                  name = 'exog',\n",
    "                  index = pd.RangeIndex(start=50, stop=60)\n",
    "               )\n",
    "\n",
    "df_exog = pd.DataFrame({\n",
    "              'exog_1': exog.values,\n",
    "              'exog_2': ['a']*25+['b']*25}\n",
    "          )\n",
    "df_exog_predict = df_exog.copy()\n",
    "df_exog_predict.index = pd.RangeIndex(start=50, stop=100)\n",
    "\n",
    "y_datetime = pd.Series(data=y.values)\n",
    "y_datetime.index = pd.date_range(start='2000', periods=50, freq='A')\n",
    "y_datetime.name = 'y'\n",
    "\n",
    "lw_datetime = pd.Series(data=y.values)\n",
    "lw_datetime.index = pd.date_range(start='2050', periods=50, freq='A')\n",
    "lw_datetime.name = 'y'\n",
    "\n",
    "exog_datetime = pd.Series(data=exog.values)\n",
    "exog_datetime.index = pd.date_range(start='2000', periods=50, freq='A')\n",
    "exog_datetime.name = 'exog'\n",
    "\n",
    "lw_exog_datetime = pd.Series(data=exog.values)\n",
    "lw_exog_datetime.index = pd.date_range(start='2050', periods=50, freq='A')\n",
    "lw_exog_datetime.name = 'exog'\n",
    "\n",
    "exog_predict_datetime = pd.Series(data=exog_predict.values)\n",
    "exog_predict_datetime.index = pd.date_range(start='2100', periods=10, freq='A')\n",
    "exog_predict_datetime.name = 'exog'\n",
    "\n",
    "df_exog_datetime = df_exog.copy()\n",
    "df_exog_datetime.index = pd.date_range(start='2000', periods=50, freq='A')\n",
    "\n",
    "df_lw_exog_datetime = df_exog.copy()\n",
    "df_lw_exog_datetime.index = pd.date_range(start='2050', periods=50, freq='A')\n",
    "\n",
    "df_exog_predict_datetime = df_exog.copy()\n",
    "df_exog_predict_datetime.index = pd.date_range(start='2100', periods=50, freq='A')"
   ]
  },
  {
   "cell_type": "code",
   "execution_count": 6,
   "metadata": {},
   "outputs": [
    {
     "data": {
      "text/plain": [
       "array([[0.5493021 , 0.0918756 , 1.0067286 ],\n",
       "       [0.53939807, 0.07508138, 1.00371476],\n",
       "       [0.53833294, 0.07371045, 1.00295544],\n",
       "       [0.53872299, 0.07407235, 1.00337363],\n",
       "       [0.53935261, 0.07469791, 1.00400731]])"
      ]
     },
     "execution_count": 6,
     "metadata": {},
     "output_type": "execute_result"
    }
   ],
   "source": [
    "forecaster = ForecasterSarimax(regressor=ARIMA(maxiter=1000, order=(1,1,1)))\n",
    "forecaster.fit(y=y_datetime)\n",
    "predictions = forecaster.predict_interval(\n",
    "                    steps            = 5, \n",
    "                    alpha            = None,\n",
    "                    interval         = [2.5, 97.5],\n",
    "                    last_window      = lw_datetime,\n",
    "                )\n",
    "predictions.values"
   ]
  },
  {
   "cell_type": "code",
   "execution_count": 7,
   "metadata": {},
   "outputs": [
    {
     "data": {
      "text/plain": [
       "array([[0.61420452, 0.17100769, 1.05740135],\n",
       "       [0.45514546, 0.0069039 , 0.90338703],\n",
       "       [0.50296609, 0.05453606, 0.95139611],\n",
       "       [0.51581947, 0.06737283, 0.96426612],\n",
       "       [0.56003087, 0.11158168, 1.00848007]])"
      ]
     },
     "execution_count": 7,
     "metadata": {},
     "output_type": "execute_result"
    }
   ],
   "source": [
    "forecaster = ForecasterSarimax(regressor=ARIMA(maxiter=1000, order=(1,1,1)))\n",
    "forecaster.fit(y=y_datetime, exog=exog_datetime)\n",
    "predictions = forecaster.predict_interval(\n",
    "                    steps            = 5, \n",
    "                    alpha            = 0.05,\n",
    "                    interval         = [1, 99],\n",
    "                    exog             = exog_predict_datetime, \n",
    "                    last_window      = lw_datetime, \n",
    "                    last_window_exog = lw_exog_datetime\n",
    "                )\n",
    "predictions.values"
   ]
  },
  {
   "cell_type": "code",
   "execution_count": 8,
   "metadata": {},
   "outputs": [
    {
     "name": "stderr",
     "output_type": "stream",
     "text": [
      "/home/ubuntu/anaconda3/envs/skforecast/lib/python3.8/site-packages/sklearn/base.py:450: UserWarning: X does not have valid feature names, but StandardScaler was fitted with feature names\n",
      "  warnings.warn(\n"
     ]
    },
    {
     "data": {
      "text/plain": [
       "array([[1.08795272, 0.65953954, 1.51636591],\n",
       "       [0.95925274, 0.52900782, 1.38949766],\n",
       "       [1.01602516, 0.58573837, 1.44631196],\n",
       "       [1.03637173, 0.60608219, 1.46666126],\n",
       "       [1.08747734, 0.65718757, 1.51776712]])"
      ]
     },
     "execution_count": 8,
     "metadata": {},
     "output_type": "execute_result"
    }
   ],
   "source": [
    "transformer_exog = ColumnTransformer(\n",
    "                        [('scale', StandardScaler(), ['exog_1']),\n",
    "                        ('onehot', OneHotEncoder(), ['exog_2'])],\n",
    "                        remainder = 'passthrough',\n",
    "                        verbose_feature_names_out = False\n",
    "                    )\n",
    "\n",
    "forecaster = ForecasterSarimax(\n",
    "                    regressor        = ARIMA(maxiter=1000, order=(1,1,1)), \n",
    "                    transformer_y    = StandardScaler(),\n",
    "                    transformer_exog = transformer_exog\n",
    "                )\n",
    "forecaster.fit(y=y_datetime, exog=df_exog_datetime)\n",
    "predictions = forecaster.predict_interval(\n",
    "                    steps            = 5, \n",
    "                    alpha            = 0.05,\n",
    "                    interval         = [1, 99],\n",
    "                    exog             = df_exog_predict_datetime, \n",
    "                    last_window      = lw_datetime, \n",
    "                    last_window_exog = df_lw_exog_datetime\n",
    "                )\n",
    "predictions.values"
   ]
  },
  {
   "cell_type": "code",
   "execution_count": 78,
   "metadata": {},
   "outputs": [],
   "source": [
    "alpha = 0.05\n",
    "interval= [1, 99]\n",
    "\n",
    "from skforecast.model_selection_sarimax.model_selection_sarimax import random_search_sarimax\n",
    "from sklearn.metrics import mean_absolute_error\n",
    "\n",
    "def test_output_random_search_sarimax_sarimax_with_mocked():\n",
    "    \"\"\"\n",
    "    Test output of random_search_sarimax in ForecasterSarimax with mocked\n",
    "    (mocked done in Skforecast v0.7.0).\n",
    "    \"\"\"\n",
    "    forecaster = ForecasterSarimax(regressor=ARIMA(maxiter=1000, order=(1,1,1)))\n",
    "\n",
    "    # Generate 15 random `order`\n",
    "    np.random.seed(123)\n",
    "    values = [(p,d,q) for p,d,q in zip(np.random.randint(0, high=4, size=3, dtype=int), \n",
    "                                       np.random.randint(0, high=4, size=3, dtype=int),\n",
    "                                       np.random.randint(0, high=4, size=3, dtype=int))]\n",
    "\n",
    "    param_distributions = {'order': values}\n",
    "\n",
    "    results = random_search_sarimax(\n",
    "                  forecaster          = forecaster,\n",
    "                  y                   = y_datetime,\n",
    "                  param_distributions = param_distributions,\n",
    "                  n_iter              = 10,\n",
    "                  random_state        = 123,\n",
    "                  steps               = 3,\n",
    "                  refit               = False,\n",
    "                  metric              = 'mean_absolute_error',\n",
    "                  initial_train_size  = len(y_datetime)-12,\n",
    "                  fixed_train_size    = False,\n",
    "                  return_best         = False,\n",
    "                  verbose             = False\n",
    "              )\n",
    "    \n",
    "    expected_results = pd.DataFrame(\n",
    "        data  = {'params': np.array([{'order': (1, 0, 1)}, {'order': (2, 2, 2)}, {'order': (2, 2, 3)}],\n",
    "                                    dtype=object),\n",
    "                'mean_absolute_error': np.array([0.203796, 0.250172, 0.265417]),\n",
    "                'order'              : [(1, 0, 1), (2, 2, 2), (2, 2, 3)]},\n",
    "        index = np.array([1, 0, 2])\n",
    "    )\n",
    "\n",
    "    pd.testing.assert_frame_equal(results, expected_results, atol=0.001)"
   ]
  },
  {
   "cell_type": "code",
   "execution_count": 79,
   "metadata": {},
   "outputs": [
    {
     "name": "stderr",
     "output_type": "stream",
     "text": [
      "/home/ubuntu/anaconda3/envs/skforecast/lib/python3.8/site-packages/sklearn/model_selection/_search.py:306: UserWarning: The total space of parameters 3 is smaller than n_iter=10. Running 3 iterations. For exhaustive searches, use GridSearchCV.\n",
      "  warnings.warn(\n"
     ]
    },
    {
     "name": "stdout",
     "output_type": "stream",
     "text": [
      "Number of models compared: 3.\n"
     ]
    },
    {
     "name": "stderr",
     "output_type": "stream",
     "text": [
      "loop param_grid: 100%|██████████████████████████████████████| 3/3 [00:00<00:00,  3.66it/s]\n"
     ]
    }
   ],
   "source": [
    "test_output_random_search_sarimax_sarimax_with_mocked()"
   ]
  },
  {
   "cell_type": "code",
   "execution_count": 74,
   "metadata": {},
   "outputs": [
    {
     "name": "stderr",
     "output_type": "stream",
     "text": [
      "/home/ubuntu/anaconda3/envs/skforecast/lib/python3.8/site-packages/sklearn/model_selection/_search.py:306: UserWarning: The total space of parameters 3 is smaller than n_iter=10. Running 3 iterations. For exhaustive searches, use GridSearchCV.\n",
      "  warnings.warn(\n"
     ]
    },
    {
     "name": "stdout",
     "output_type": "stream",
     "text": [
      "Number of models compared: 3.\n"
     ]
    },
    {
     "name": "stderr",
     "output_type": "stream",
     "text": [
      "loop param_grid: 100%|██████████████████████████████████████| 3/3 [00:00<00:00,  3.68it/s]\n"
     ]
    },
    {
     "data": {
      "text/html": [
       "<div>\n",
       "<style scoped>\n",
       "    .dataframe tbody tr th:only-of-type {\n",
       "        vertical-align: middle;\n",
       "    }\n",
       "\n",
       "    .dataframe tbody tr th {\n",
       "        vertical-align: top;\n",
       "    }\n",
       "\n",
       "    .dataframe thead th {\n",
       "        text-align: right;\n",
       "    }\n",
       "</style>\n",
       "<table border=\"1\" class=\"dataframe\">\n",
       "  <thead>\n",
       "    <tr style=\"text-align: right;\">\n",
       "      <th></th>\n",
       "      <th>params</th>\n",
       "      <th>mean_absolute_error</th>\n",
       "      <th>order</th>\n",
       "    </tr>\n",
       "  </thead>\n",
       "  <tbody>\n",
       "    <tr>\n",
       "      <th>1</th>\n",
       "      <td>{'order': (1, 0, 1)}</td>\n",
       "      <td>0.203796</td>\n",
       "      <td>(1, 0, 1)</td>\n",
       "    </tr>\n",
       "    <tr>\n",
       "      <th>0</th>\n",
       "      <td>{'order': (2, 2, 2)}</td>\n",
       "      <td>0.250172</td>\n",
       "      <td>(2, 2, 2)</td>\n",
       "    </tr>\n",
       "    <tr>\n",
       "      <th>2</th>\n",
       "      <td>{'order': (2, 2, 3)}</td>\n",
       "      <td>0.265417</td>\n",
       "      <td>(2, 2, 3)</td>\n",
       "    </tr>\n",
       "  </tbody>\n",
       "</table>\n",
       "</div>"
      ],
      "text/plain": [
       "                 params  mean_absolute_error      order\n",
       "1  {'order': (1, 0, 1)}             0.203796  (1, 0, 1)\n",
       "0  {'order': (2, 2, 2)}             0.250172  (2, 2, 2)\n",
       "2  {'order': (2, 2, 3)}             0.265417  (2, 2, 3)"
      ]
     },
     "execution_count": 74,
     "metadata": {},
     "output_type": "execute_result"
    }
   ],
   "source": [
    "forecaster = ForecasterSarimax(regressor=ARIMA(maxiter=1000, order=(1,1,1)))\n",
    "\n",
    "# Generate 15 random `order`\n",
    "np.random.seed(123)\n",
    "values = [(p,d,q) for p,d,q in zip(np.random.randint(0, high=4, size=3, dtype=int), \n",
    "                                   np.random.randint(0, high=4, size=3, dtype=int),\n",
    "                                   np.random.randint(0, high=4, size=3, dtype=int))]\n",
    "\n",
    "param_distributions = {'order': values}\n",
    "\n",
    "results = random_search_sarimax(\n",
    "               forecaster          = forecaster,\n",
    "               y                   = y_datetime,\n",
    "               param_distributions = param_distributions,\n",
    "               n_iter              = 10,\n",
    "               random_state        = 123,\n",
    "               steps               = 3,\n",
    "               refit               = False,\n",
    "               metric              = 'mean_absolute_error',\n",
    "               initial_train_size  = len(y_datetime)-12,\n",
    "               fixed_train_size    = False,\n",
    "               return_best         = False,\n",
    "               verbose             = False\n",
    "          )\n",
    "results"
   ]
  },
  {
   "cell_type": "code",
   "execution_count": 75,
   "metadata": {},
   "outputs": [
    {
     "data": {
      "text/html": [
       "<div>\n",
       "<style scoped>\n",
       "    .dataframe tbody tr th:only-of-type {\n",
       "        vertical-align: middle;\n",
       "    }\n",
       "\n",
       "    .dataframe tbody tr th {\n",
       "        vertical-align: top;\n",
       "    }\n",
       "\n",
       "    .dataframe thead th {\n",
       "        text-align: right;\n",
       "    }\n",
       "</style>\n",
       "<table border=\"1\" class=\"dataframe\">\n",
       "  <thead>\n",
       "    <tr style=\"text-align: right;\">\n",
       "      <th></th>\n",
       "      <th>params</th>\n",
       "      <th>mean_absolute_error</th>\n",
       "      <th>order</th>\n",
       "    </tr>\n",
       "  </thead>\n",
       "  <tbody>\n",
       "    <tr>\n",
       "      <th>1</th>\n",
       "      <td>{'order': (1, 0, 1)}</td>\n",
       "      <td>0.203796</td>\n",
       "      <td>(1, 0, 1)</td>\n",
       "    </tr>\n",
       "    <tr>\n",
       "      <th>0</th>\n",
       "      <td>{'order': (2, 2, 2)}</td>\n",
       "      <td>0.250172</td>\n",
       "      <td>(2, 2, 2)</td>\n",
       "    </tr>\n",
       "    <tr>\n",
       "      <th>2</th>\n",
       "      <td>{'order': (2, 2, 3)}</td>\n",
       "      <td>0.265417</td>\n",
       "      <td>(2, 2, 3)</td>\n",
       "    </tr>\n",
       "  </tbody>\n",
       "</table>\n",
       "</div>"
      ],
      "text/plain": [
       "                 params  mean_absolute_error      order\n",
       "1  {'order': (1, 0, 1)}             0.203796  (1, 0, 1)\n",
       "0  {'order': (2, 2, 2)}             0.250172  (2, 2, 2)\n",
       "2  {'order': (2, 2, 3)}             0.265417  (2, 2, 3)"
      ]
     },
     "execution_count": 75,
     "metadata": {},
     "output_type": "execute_result"
    }
   ],
   "source": [
    "expected_results = pd.DataFrame(\n",
    "    data  = {'params': np.array([{'order': (1, 0, 1)}, {'order': (2, 2, 2)}, {'order': (2, 2, 3)}],\n",
    "                                 dtype=object),\n",
    "                'mean_absolute_error': np.array([0.203796, 0.250172, 0.265417]),\n",
    "                'order'              : [(1, 0, 1), (2, 2, 2), (2, 2, 3)]},\n",
    "    index = np.array([1, 0, 2])\n",
    ")\n",
    "\n",
    "expected_results"
   ]
  },
  {
   "cell_type": "code",
   "execution_count": null,
   "metadata": {},
   "outputs": [],
   "source": []
  }
 ],
 "metadata": {
  "kernelspec": {
   "display_name": "skforecast",
   "language": "python",
   "name": "python3"
  },
  "language_info": {
   "codemirror_mode": {
    "name": "ipython",
    "version": 3
   },
   "file_extension": ".py",
   "mimetype": "text/x-python",
   "name": "python",
   "nbconvert_exporter": "python",
   "pygments_lexer": "ipython3",
   "version": "3.8.13"
  },
  "orig_nbformat": 4,
  "vscode": {
   "interpreter": {
    "hash": "b01223d1c8e1f1b59110ab07e8a75a8d7363860deee4f879ff05c69d9593389e"
   }
  }
 },
 "nbformat": 4,
 "nbformat_minor": 2
}
