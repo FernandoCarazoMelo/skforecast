{
 "cells": [
  {
   "cell_type": "code",
   "execution_count": 3,
   "metadata": {},
   "outputs": [],
   "source": [
    "import pandas as pd\n",
    "import numpy as np\n",
    "from numpy.lib.stride_tricks import sliding_window_view\n",
    "import timeit\n",
    "from numba import njit"
   ]
  },
  {
   "cell_type": "code",
   "execution_count": 2,
   "metadata": {},
   "outputs": [],
   "source": [
    "# Create a sample pandas Series\n",
    "np.random.seed(0)\n",
    "series = pd.Series(np.random.randn(10000))\n",
    "window = 50"
   ]
  },
  {
   "cell_type": "markdown",
   "metadata": {},
   "source": [
    "# Benchmark numpy vs pandas"
   ]
  },
  {
   "cell_type": "code",
   "execution_count": 6,
   "metadata": {},
   "outputs": [
    {
     "name": "stdout",
     "output_type": "stream",
     "text": [
      "Pandas Mean Time: 0.028297 seconds, Std Dev: 0.003984 seconds\n",
      "Numpy Mean Time : 0.018500 seconds, Std Dev: 0.000188 seconds\n"
     ]
    }
   ],
   "source": [
    "# Rolling mean\n",
    "# ==============================================================================\n",
    "# 1. Pandas Implementation\n",
    "def pandas_rolling(series, window):\n",
    "    return series.rolling(window=window).mean()\n",
    "\n",
    "# 2. Numpy Implementation\n",
    "def numpy_rolling(series, window):\n",
    "    return np.mean(sliding_window_view(series, window), axis=1)\n",
    "\n",
    "repeats = 5\n",
    "number = 100\n",
    "pandas_times = timeit.repeat(lambda: pandas_rolling(series, window), number=number, repeat=repeats)\n",
    "numpy_times = timeit.repeat(lambda: numpy_rolling(series.to_numpy(), window), number=number, repeat=repeats)\n",
    "pandas_mean = np.mean(pandas_times)\n",
    "pandas_std = np.std(pandas_times)\n",
    "numpy_mean = np.mean(numpy_times)\n",
    "numpy_std = np.std(numpy_times)\n",
    "print(f\"Pandas Mean Time: {pandas_mean:.6f} seconds, Std Dev: {pandas_std:.6f} seconds\")\n",
    "print(f\"Numpy Mean Time : {numpy_mean:.6f} seconds, Std Dev: {numpy_std:.6f} seconds\")\n",
    "\n",
    "np.testing.assert_allclose(\n",
    "    pandas_rolling(series, window).dropna(),\n",
    "    numpy_rolling(series.values, window)\n",
    ")"
   ]
  },
  {
   "cell_type": "code",
   "execution_count": 7,
   "metadata": {},
   "outputs": [
    {
     "name": "stdout",
     "output_type": "stream",
     "text": [
      "Pandas Mean Time: 0.030795 seconds, Std Dev: 0.004558 seconds\n",
      "Numpy Mean Time : 0.234323 seconds, Std Dev: 0.024244 seconds\n"
     ]
    }
   ],
   "source": [
    "# Rolling std\n",
    "# ==============================================================================\n",
    "# 1. Pandas Implementation\n",
    "def pandas_rolling(series, window):\n",
    "    return series.rolling(window=window).std()\n",
    "\n",
    "# 2. Numpy Implementation\n",
    "def numpy_rolling(series, window):\n",
    "    return np.std(sliding_window_view(series, window), axis=1, ddof=1)\n",
    "\n",
    "repeats = 5\n",
    "number = 100\n",
    "pandas_times = timeit.repeat(lambda: pandas_rolling(series, window), number=number, repeat=repeats)\n",
    "numpy_times = timeit.repeat(lambda: numpy_rolling(series.to_numpy(), window), number=number, repeat=repeats)\n",
    "pandas_mean = np.mean(pandas_times)\n",
    "pandas_std = np.std(pandas_times)\n",
    "numpy_mean = np.mean(numpy_times)\n",
    "numpy_std = np.std(numpy_times)\n",
    "print(f\"Pandas Mean Time: {pandas_mean:.6f} seconds, Std Dev: {pandas_std:.6f} seconds\")\n",
    "print(f\"Numpy Mean Time : {numpy_mean:.6f} seconds, Std Dev: {numpy_std:.6f} seconds\")\n",
    "\n",
    "np.testing.assert_allclose(\n",
    "    pandas_rolling(series, window).dropna(),\n",
    "    numpy_rolling(series.values, window)\n",
    ")"
   ]
  },
  {
   "cell_type": "code",
   "execution_count": 8,
   "metadata": {},
   "outputs": [
    {
     "name": "stdout",
     "output_type": "stream",
     "text": [
      "Pandas Mean Time: 0.400690 seconds, Std Dev: 0.010012 seconds\n",
      "Numpy Mean Time : 0.699383 seconds, Std Dev: 0.010848 seconds\n"
     ]
    }
   ],
   "source": [
    "# Rolling median\n",
    "# ==============================================================================\n",
    "# 1. Pandas Implementation\n",
    "def pandas_rolling(series, window):\n",
    "    return series.rolling(window=window).median()\n",
    "\n",
    "# 2. Numpy Implementation\n",
    "def numpy_rolling(series, window):\n",
    "    return np.median(sliding_window_view(series, window), axis=1)\n",
    "\n",
    "repeats = 5\n",
    "number = 100\n",
    "pandas_times = timeit.repeat(lambda: pandas_rolling(series, window), number=number, repeat=repeats)\n",
    "numpy_times = timeit.repeat(lambda: numpy_rolling(series.to_numpy(), window), number=number, repeat=repeats)\n",
    "pandas_mean = np.mean(pandas_times)\n",
    "pandas_std = np.std(pandas_times)\n",
    "numpy_mean = np.mean(numpy_times)\n",
    "numpy_std = np.std(numpy_times)\n",
    "print(f\"Pandas Mean Time: {pandas_mean:.6f} seconds, Std Dev: {pandas_std:.6f} seconds\")\n",
    "print(f\"Numpy Mean Time : {numpy_mean:.6f} seconds, Std Dev: {numpy_std:.6f} seconds\")\n",
    "\n",
    "np.testing.assert_allclose(\n",
    "    pandas_rolling(series, window).dropna(),\n",
    "    numpy_rolling(series.values, window)\n",
    ")"
   ]
  },
  {
   "cell_type": "code",
   "execution_count": 9,
   "metadata": {},
   "outputs": [
    {
     "name": "stdout",
     "output_type": "stream",
     "text": [
      "Pandas Mean Time: 0.526125 seconds, Std Dev: 0.012349 seconds\n",
      "Numpy Mean Time : 1.083005 seconds, Std Dev: 0.030257 seconds\n"
     ]
    }
   ],
   "source": [
    "# Rolling multiple stats\n",
    "# ==============================================================================\n",
    "# 1. Pandas Implementation\n",
    "def pandas_rolling(series, window):\n",
    "    rolling = series.rolling(window=window)\n",
    "    stats = [rolling.mean(), rolling.std(), rolling.median(), rolling.max(), rolling.min(), rolling.sum()]\n",
    "    return stats\n",
    "\n",
    "# 2. Nunmpy Implementation\n",
    "def numpy_rolling(series, window):\n",
    "\n",
    "    rolling = sliding_window_view(series, window)\n",
    "    stats = [\n",
    "        np.mean(rolling, axis=1),\n",
    "        np.std(rolling, axis=1, ddof=1),\n",
    "        np.median(rolling, axis=1),\n",
    "        np.max(rolling, axis=1),\n",
    "        np.min(rolling, axis=1),\n",
    "        np.sum(rolling, axis=1)\n",
    "    ]\n",
    "    return stats\n",
    "\n",
    "repeats = 5\n",
    "number = 100\n",
    "pandas_times = timeit.repeat(lambda: pandas_rolling(series, window), number=number, repeat=repeats)\n",
    "numpy_times = timeit.repeat(lambda: numpy_rolling(series.to_numpy(), window), number=number, repeat=repeats)\n",
    "pandas_mean = np.mean(pandas_times)\n",
    "pandas_std = np.std(pandas_times)\n",
    "numpy_mean = np.mean(numpy_times)\n",
    "numpy_std = np.std(numpy_times)\n",
    "print(f\"Pandas Mean Time: {pandas_mean:.6f} seconds, Std Dev: {pandas_std:.6f} seconds\")\n",
    "print(f\"Numpy Mean Time : {numpy_mean:.6f} seconds, Std Dev: {numpy_std:.6f} seconds\")"
   ]
  },
  {
   "cell_type": "markdown",
   "metadata": {},
   "source": [
    "# Optimization with numba"
   ]
  },
  {
   "cell_type": "markdown",
   "metadata": {},
   "source": [
    "Durante el predict recursivo, se tiene que aplicar una función repetitiva sobre un array de numpy."
   ]
  },
  {
   "cell_type": "code",
   "execution_count": 18,
   "metadata": {},
   "outputs": [
    {
     "name": "stdout",
     "output_type": "stream",
     "text": [
      "Numpy Mean Time : 0.154755 seconds, Std Dev: 0.004867 seconds\n",
      "Numba Mean Time : 0.110940 seconds, Std Dev: 0.072713 seconds\n",
      "Pandas Mean Time: 0.607512 seconds, Std Dev: 0.004432 seconds\n"
     ]
    }
   ],
   "source": [
    "predictions = [np.random.randn(50) for _ in range(1000)]\n",
    "predictions_pd = [pd.Series(np.random.randn(50)) for _ in range(1000)]\n",
    "\n",
    "def numpy_version(predictions):\n",
    "    for last_window in predictions:\n",
    "        np.median(last_window)\n",
    "\n",
    "@njit\n",
    "def numpy_numba_version(predictions):\n",
    "    for last_window in predictions:\n",
    "        np.median(last_window)\n",
    "\n",
    "def pandas_version(predictions):\n",
    "    for last_window in predictions:\n",
    "        pd.Series(last_window).median()\n",
    "\n",
    "repeats = 5\n",
    "number = 10\n",
    "numpy_times = timeit.repeat(lambda: numpy_version(predictions), number=number, repeat=repeats)\n",
    "numba_times = timeit.repeat(lambda: numpy_numba_version(predictions), number=number, repeat=repeats)\n",
    "pandas_times = timeit.repeat(lambda: pandas_version(predictions_pd), number=number, repeat=repeats)\n",
    "numpy_mean = np.mean(numpy_times)\n",
    "numpy_std = np.std(numpy_times)\n",
    "numba_mean = np.mean(numba_times)\n",
    "numba_std = np.std(numba_times)\n",
    "pandas_mean = np.mean(pandas_times)\n",
    "pandas_std = np.std(pandas_times)\n",
    "print(f\"Numpy Mean Time : {numpy_mean:.6f} seconds, Std Dev: {numpy_std:.6f} seconds\")\n",
    "print(f\"Numba Mean Time : {numba_mean:.6f} seconds, Std Dev: {numba_std:.6f} seconds\")\n",
    "print(f\"Pandas Mean Time: {pandas_mean:.6f} seconds, Std Dev: {pandas_std:.6f} seconds\")"
   ]
  },
  {
   "cell_type": "code",
   "execution_count": 22,
   "metadata": {},
   "outputs": [
    {
     "name": "stdout",
     "output_type": "stream",
     "text": [
      "Numpy Mean Time : 0.464398 seconds, Std Dev: 0.016344 seconds\n",
      "Numba Mean Time : 0.165382 seconds, Std Dev: 0.188210 seconds\n",
      "Pandas Mean Time: 1.486151 seconds, Std Dev: 0.015396 seconds\n"
     ]
    }
   ],
   "source": [
    "predictions = [np.random.randn(50) for _ in range(1000)]\n",
    "predictions_pd = [pd.Series(np.random.randn(50)) for _ in range(1000)]\n",
    "\n",
    "def numpy_version(predictions):\n",
    "    for last_window in predictions:\n",
    "        stats = [\n",
    "            np.mean(last_window),\n",
    "            np.std(last_window),\n",
    "            np.median(last_window),\n",
    "            np.max(last_window),\n",
    "            np.min(last_window),\n",
    "            np.sum(last_window)\n",
    "        ]\n",
    "\n",
    "@njit\n",
    "def numpy_numba_version(predictions):\n",
    "    for last_window in predictions:\n",
    "        stats = [\n",
    "            np.mean(last_window),\n",
    "            np.std(last_window),\n",
    "            np.median(last_window),\n",
    "            np.max(last_window),\n",
    "            np.min(last_window),\n",
    "            np.sum(last_window)\n",
    "        ]\n",
    "\n",
    "def pandas_version(predictions):\n",
    "    for last_window in predictions:\n",
    "        lw = pd.Series(last_window)\n",
    "        stats = [\n",
    "            lw.mean(),\n",
    "            lw.std(),\n",
    "            lw.median(),\n",
    "            lw.max(),\n",
    "            lw.min(),\n",
    "            lw.sum()\n",
    "        ]\n",
    "\n",
    "repeats = 5\n",
    "number = 10\n",
    "numpy_times = timeit.repeat(lambda: numpy_version(predictions), number=number, repeat=repeats)\n",
    "numba_times = timeit.repeat(lambda: numpy_numba_version(predictions), number=number, repeat=repeats)\n",
    "pandas_times = timeit.repeat(lambda: pandas_version(predictions_pd), number=number, repeat=repeats)\n",
    "numpy_mean = np.mean(numpy_times)\n",
    "numpy_std = np.std(numpy_times)\n",
    "numba_mean = np.mean(numba_times)\n",
    "numba_std = np.std(numba_times)\n",
    "pandas_mean = np.mean(pandas_times)\n",
    "pandas_std = np.std(pandas_times)\n",
    "print(f\"Numpy Mean Time : {numpy_mean:.6f} seconds, Std Dev: {numpy_std:.6f} seconds\")\n",
    "print(f\"Numba Mean Time : {numba_mean:.6f} seconds, Std Dev: {numba_std:.6f} seconds\")\n",
    "print(f\"Pandas Mean Time: {pandas_mean:.6f} seconds, Std Dev: {pandas_std:.6f} seconds\")"
   ]
  },
  {
   "cell_type": "code",
   "execution_count": 55,
   "metadata": {},
   "outputs": [],
   "source": [
    "series = pd.Series(np.array([np.nan, 2, np.nan, 4, 5, 6, 7, 8, 9, 10]))\n",
    "series_2 = pd.Series(np.array([1, 2, 3, 4, 5, np.nan, 7, 8, 9, 10]))"
   ]
  },
  {
   "cell_type": "code",
   "execution_count": 56,
   "metadata": {},
   "outputs": [
    {
     "data": {
      "text/html": [
       "<div>\n",
       "<style scoped>\n",
       "    .dataframe tbody tr th:only-of-type {\n",
       "        vertical-align: middle;\n",
       "    }\n",
       "\n",
       "    .dataframe tbody tr th {\n",
       "        vertical-align: top;\n",
       "    }\n",
       "\n",
       "    .dataframe thead th {\n",
       "        text-align: right;\n",
       "    }\n",
       "</style>\n",
       "<table border=\"1\" class=\"dataframe\">\n",
       "  <thead>\n",
       "    <tr style=\"text-align: right;\">\n",
       "      <th></th>\n",
       "      <th>1</th>\n",
       "      <th>2</th>\n",
       "    </tr>\n",
       "  </thead>\n",
       "  <tbody>\n",
       "    <tr>\n",
       "      <th>0</th>\n",
       "      <td>NaN</td>\n",
       "      <td>NaN</td>\n",
       "    </tr>\n",
       "    <tr>\n",
       "      <th>1</th>\n",
       "      <td>NaN</td>\n",
       "      <td>NaN</td>\n",
       "    </tr>\n",
       "    <tr>\n",
       "      <th>2</th>\n",
       "      <td>NaN</td>\n",
       "      <td>NaN</td>\n",
       "    </tr>\n",
       "    <tr>\n",
       "      <th>3</th>\n",
       "      <td>NaN</td>\n",
       "      <td>2.0</td>\n",
       "    </tr>\n",
       "    <tr>\n",
       "      <th>4</th>\n",
       "      <td>NaN</td>\n",
       "      <td>3.0</td>\n",
       "    </tr>\n",
       "    <tr>\n",
       "      <th>5</th>\n",
       "      <td>NaN</td>\n",
       "      <td>4.0</td>\n",
       "    </tr>\n",
       "    <tr>\n",
       "      <th>6</th>\n",
       "      <td>5.0</td>\n",
       "      <td>NaN</td>\n",
       "    </tr>\n",
       "    <tr>\n",
       "      <th>7</th>\n",
       "      <td>6.0</td>\n",
       "      <td>NaN</td>\n",
       "    </tr>\n",
       "    <tr>\n",
       "      <th>8</th>\n",
       "      <td>7.0</td>\n",
       "      <td>NaN</td>\n",
       "    </tr>\n",
       "    <tr>\n",
       "      <th>9</th>\n",
       "      <td>8.0</td>\n",
       "      <td>8.0</td>\n",
       "    </tr>\n",
       "  </tbody>\n",
       "</table>\n",
       "</div>"
      ],
      "text/plain": [
       "     1    2\n",
       "0  NaN  NaN\n",
       "1  NaN  NaN\n",
       "2  NaN  NaN\n",
       "3  NaN  2.0\n",
       "4  NaN  3.0\n",
       "5  NaN  4.0\n",
       "6  5.0  NaN\n",
       "7  6.0  NaN\n",
       "8  7.0  NaN\n",
       "9  8.0  8.0"
      ]
     },
     "execution_count": 56,
     "metadata": {},
     "output_type": "execute_result"
    }
   ],
   "source": [
    "pd.DataFrame({'1':series,\n",
    "              '2': series_2\n",
    "}).rolling(window=3, min_periods=3, closed='left').mean()"
   ]
  },
  {
   "cell_type": "code",
   "execution_count": null,
   "metadata": {},
   "outputs": [],
   "source": [
    "RollingFeatures(\n",
    "    stats = str, [str],\n",
    "    window_sizes = int, [int],\n",
    "    features_names = None, list,\n",
    "    min_periods=None=window_size, int, [int],\n",
    "    closed='left', [str],\n",
    "    # fill_strategy=ffil, [], #warning, ffill no esta disponible durante predict, usa el argument fill_strategy_predict\n",
    "    # fill_strategy_predict=None, [],\n",
    ")\n",
    "\n",
    "transform_batch\n",
    "transform\n",
    "\n"
   ]
  },
  {
   "cell_type": "markdown",
   "metadata": {},
   "source": [
    "# Skforecast"
   ]
  },
  {
   "cell_type": "code",
   "execution_count": 1,
   "metadata": {},
   "outputs": [
    {
     "name": "stdout",
     "output_type": "stream",
     "text": [
      "c:\\Users\\jaesc2\\GitHub\\skforecast\n"
     ]
    }
   ],
   "source": [
    "%load_ext autoreload\n",
    "%autoreload 2\n",
    "import sys\n",
    "from pathlib import Path\n",
    "path = str(Path.cwd().parent)\n",
    "print(path)\n",
    "sys.path.insert(1, path)"
   ]
  },
  {
   "cell_type": "code",
   "execution_count": 19,
   "metadata": {},
   "outputs": [],
   "source": [
    "import re\n",
    "import pytest\n",
    "import numpy as np\n",
    "import pandas as pd\n",
    "from sklearn.exceptions import NotFittedError\n",
    "from sklearn.compose import ColumnTransformer\n",
    "from sklearn.preprocessing import StandardScaler\n",
    "from sklearn.preprocessing import OneHotEncoder\n",
    "from sklearn.preprocessing import OrdinalEncoder\n",
    "from sklearn.preprocessing import FunctionTransformer\n",
    "from sklearn.compose import make_column_transformer\n",
    "from sklearn.compose import make_column_selector\n",
    "from sklearn.pipeline import make_pipeline\n",
    "from sklearn.linear_model import LinearRegression\n",
    "from sklearn.ensemble import HistGradientBoostingRegressor\n",
    "from lightgbm import LGBMRegressor\n",
    "\n",
    "from skforecast.ForecasterAutoreg import ForecasterAutoreg\n",
    "from skforecast.preprocessing import TimeSeriesDifferentiator\n",
    "\n",
    "# Fixtures\n",
    "from skforecast.ForecasterAutoreg.tests.fixtures_ForecasterAutoreg import y as y_categorical\n",
    "from skforecast.ForecasterAutoreg.tests.fixtures_ForecasterAutoreg import exog as exog_categorical\n",
    "from skforecast.ForecasterAutoreg.tests.fixtures_ForecasterAutoreg import data  # to test results when using differentiation\n",
    "\n",
    "from skforecast.preprocessing import RollingFeatures"
   ]
  },
  {
   "cell_type": "code",
   "execution_count": 30,
   "metadata": {},
   "outputs": [],
   "source": [
    "rolling = RollingFeatures(\n",
    "    stats = ['mean', 'std', 'median', 'max', 'min', 'sum', 'mean'],\n",
    "    window_sizes = [5, 6, 7, 6, 5, 5, 10],\n",
    "    # min_periods = [5, 5, 5, 5, 5, 4]\n",
    ")"
   ]
  },
  {
   "cell_type": "code",
   "execution_count": 31,
   "metadata": {},
   "outputs": [
    {
     "name": "stdout",
     "output_type": "stream",
     "text": [
      "Stats:  ['mean', 'std', 'median', 'max', 'min', 'sum', 'mean']\n",
      "Number of stats:  7\n",
      "Window sizes:  [5, 6, 7, 6, 5, 5, 10]\n",
      "Max window size:  10\n",
      "Min periods:  [5, 6, 7, 6, 5, 5, 10]\n",
      "Features names:  ['roll_mean_5', 'roll_std_6', 'roll_median_7', 'roll_max_6', 'roll_min_5', 'roll_sum_5', 'roll_mean_10']\n",
      "Fill strategy:  None\n"
     ]
    }
   ],
   "source": [
    "print('Stats: ', rolling.stats)\n",
    "print('Number of stats: ', rolling.n_stats)\n",
    "print('Window sizes: ', rolling.window_sizes)\n",
    "print('Max window size: ', rolling.max_window_size)\n",
    "print('Min periods: ', rolling.min_periods)\n",
    "print('Features names: ', rolling.features_names)\n",
    "print('Fill strategy: ', rolling.fill_strategy)"
   ]
  },
  {
   "cell_type": "code",
   "execution_count": 33,
   "metadata": {},
   "outputs": [
    {
     "name": "stdout",
     "output_type": "stream",
     "text": [
      "{'5_5': {'params': {'window': 5, 'min_periods': 5},\n",
      "         'stats_idx': [0, 4, 5],\n",
      "         'stats_names': ['roll_mean_5', 'roll_min_5', 'roll_sum_5'],\n",
      "         'rolling_obj': None},\n",
      " '6_6': {'params': {'window': 6, 'min_periods': 6},\n",
      "         'stats_idx': [1, 3],\n",
      "         'stats_names': ['roll_std_6', 'roll_max_6'],\n",
      "         'rolling_obj': None},\n",
      " '7_7': {'params': {'window': 7, 'min_periods': 7},\n",
      "         'stats_idx': [2],\n",
      "         'stats_names': ['roll_median_7'],\n",
      "         'rolling_obj': None},\n",
      " '10_10': {'params': {'window': 10, 'min_periods': 10},\n",
      "           'stats_idx': [6],\n",
      "           'stats_names': ['roll_mean_10'],\n",
      "           'rolling_obj': None}}\n"
     ]
    }
   ],
   "source": [
    "import pprint\n",
    "pprint.pp(rolling.unique_rolling_windows)"
   ]
  },
  {
   "cell_type": "code",
   "execution_count": 39,
   "metadata": {},
   "outputs": [
    {
     "data": {
      "text/html": [
       "<div>\n",
       "<style scoped>\n",
       "    .dataframe tbody tr th:only-of-type {\n",
       "        vertical-align: middle;\n",
       "    }\n",
       "\n",
       "    .dataframe tbody tr th {\n",
       "        vertical-align: top;\n",
       "    }\n",
       "\n",
       "    .dataframe thead th {\n",
       "        text-align: right;\n",
       "    }\n",
       "</style>\n",
       "<table border=\"1\" class=\"dataframe\">\n",
       "  <thead>\n",
       "    <tr style=\"text-align: right;\">\n",
       "      <th></th>\n",
       "      <th>roll_mean_5</th>\n",
       "      <th>roll_std_6</th>\n",
       "      <th>roll_median_7</th>\n",
       "      <th>roll_max_6</th>\n",
       "      <th>roll_min_5</th>\n",
       "      <th>roll_sum_5</th>\n",
       "      <th>roll_mean_10</th>\n",
       "    </tr>\n",
       "  </thead>\n",
       "  <tbody>\n",
       "    <tr>\n",
       "      <th>9</th>\n",
       "      <td>7.0</td>\n",
       "      <td>1.870829</td>\n",
       "      <td>6.0</td>\n",
       "      <td>9.0</td>\n",
       "      <td>5.0</td>\n",
       "      <td>35.0</td>\n",
       "      <td>4.5</td>\n",
       "    </tr>\n",
       "    <tr>\n",
       "      <th>10</th>\n",
       "      <td>8.0</td>\n",
       "      <td>1.870829</td>\n",
       "      <td>7.0</td>\n",
       "      <td>10.0</td>\n",
       "      <td>6.0</td>\n",
       "      <td>40.0</td>\n",
       "      <td>5.5</td>\n",
       "    </tr>\n",
       "    <tr>\n",
       "      <th>11</th>\n",
       "      <td>9.0</td>\n",
       "      <td>1.870829</td>\n",
       "      <td>8.0</td>\n",
       "      <td>11.0</td>\n",
       "      <td>7.0</td>\n",
       "      <td>45.0</td>\n",
       "      <td>6.5</td>\n",
       "    </tr>\n",
       "    <tr>\n",
       "      <th>12</th>\n",
       "      <td>10.0</td>\n",
       "      <td>1.870829</td>\n",
       "      <td>9.0</td>\n",
       "      <td>12.0</td>\n",
       "      <td>8.0</td>\n",
       "      <td>50.0</td>\n",
       "      <td>7.5</td>\n",
       "    </tr>\n",
       "    <tr>\n",
       "      <th>13</th>\n",
       "      <td>11.0</td>\n",
       "      <td>1.870829</td>\n",
       "      <td>10.0</td>\n",
       "      <td>13.0</td>\n",
       "      <td>9.0</td>\n",
       "      <td>55.0</td>\n",
       "      <td>8.5</td>\n",
       "    </tr>\n",
       "    <tr>\n",
       "      <th>14</th>\n",
       "      <td>12.0</td>\n",
       "      <td>1.870829</td>\n",
       "      <td>11.0</td>\n",
       "      <td>14.0</td>\n",
       "      <td>10.0</td>\n",
       "      <td>60.0</td>\n",
       "      <td>9.5</td>\n",
       "    </tr>\n",
       "  </tbody>\n",
       "</table>\n",
       "</div>"
      ],
      "text/plain": [
       "    roll_mean_5  roll_std_6  roll_median_7  roll_max_6  roll_min_5  \\\n",
       "9           7.0    1.870829            6.0         9.0         5.0   \n",
       "10          8.0    1.870829            7.0        10.0         6.0   \n",
       "11          9.0    1.870829            8.0        11.0         7.0   \n",
       "12         10.0    1.870829            9.0        12.0         8.0   \n",
       "13         11.0    1.870829           10.0        13.0         9.0   \n",
       "14         12.0    1.870829           11.0        14.0        10.0   \n",
       "\n",
       "    roll_sum_5  roll_mean_10  \n",
       "9         35.0           4.5  \n",
       "10        40.0           5.5  \n",
       "11        45.0           6.5  \n",
       "12        50.0           7.5  \n",
       "13        55.0           8.5  \n",
       "14        60.0           9.5  "
      ]
     },
     "execution_count": 39,
     "metadata": {},
     "output_type": "execute_result"
    }
   ],
   "source": [
    "series = pd.Series(np.arange(15), name='series')\n",
    "# series.iloc[7] = np.nan\n",
    "\n",
    "df_roll = rolling.transform_batch(series)\n",
    "df_roll"
   ]
  },
  {
   "cell_type": "code",
   "execution_count": 43,
   "metadata": {},
   "outputs": [
    {
     "data": {
      "text/plain": [
       "pandas.core.window.rolling.Rolling"
      ]
     },
     "execution_count": 43,
     "metadata": {},
     "output_type": "execute_result"
    }
   ],
   "source": [
    "type(rolling.unique_rolling_windows['5_5']['rolling_obj'])"
   ]
  },
  {
   "cell_type": "code",
   "execution_count": 47,
   "metadata": {},
   "outputs": [
    {
     "data": {
      "text/html": [
       "<div>\n",
       "<style scoped>\n",
       "    .dataframe tbody tr th:only-of-type {\n",
       "        vertical-align: middle;\n",
       "    }\n",
       "\n",
       "    .dataframe tbody tr th {\n",
       "        vertical-align: top;\n",
       "    }\n",
       "\n",
       "    .dataframe thead th {\n",
       "        text-align: right;\n",
       "    }\n",
       "</style>\n",
       "<table border=\"1\" class=\"dataframe\">\n",
       "  <thead>\n",
       "    <tr style=\"text-align: right;\">\n",
       "      <th></th>\n",
       "      <th>roll_mean_5</th>\n",
       "      <th>roll_std_6</th>\n",
       "      <th>roll_median_7</th>\n",
       "      <th>roll_max_6</th>\n",
       "      <th>roll_min_5</th>\n",
       "      <th>roll_sum_5</th>\n",
       "    </tr>\n",
       "  </thead>\n",
       "  <tbody>\n",
       "    <tr>\n",
       "      <th>0</th>\n",
       "      <td>7.0</td>\n",
       "      <td>1.870829</td>\n",
       "      <td>7.0</td>\n",
       "      <td>9.5</td>\n",
       "      <td>5.0</td>\n",
       "      <td>35.0</td>\n",
       "    </tr>\n",
       "    <tr>\n",
       "      <th>1</th>\n",
       "      <td>7.0</td>\n",
       "      <td>1.870829</td>\n",
       "      <td>7.0</td>\n",
       "      <td>9.5</td>\n",
       "      <td>5.0</td>\n",
       "      <td>35.0</td>\n",
       "    </tr>\n",
       "    <tr>\n",
       "      <th>2</th>\n",
       "      <td>7.0</td>\n",
       "      <td>1.870829</td>\n",
       "      <td>7.0</td>\n",
       "      <td>9.5</td>\n",
       "      <td>5.0</td>\n",
       "      <td>35.0</td>\n",
       "    </tr>\n",
       "    <tr>\n",
       "      <th>3</th>\n",
       "      <td>7.0</td>\n",
       "      <td>1.870829</td>\n",
       "      <td>7.0</td>\n",
       "      <td>9.5</td>\n",
       "      <td>5.0</td>\n",
       "      <td>35.0</td>\n",
       "    </tr>\n",
       "    <tr>\n",
       "      <th>4</th>\n",
       "      <td>2.0</td>\n",
       "      <td>1.870829</td>\n",
       "      <td>7.0</td>\n",
       "      <td>9.5</td>\n",
       "      <td>0.0</td>\n",
       "      <td>10.0</td>\n",
       "    </tr>\n",
       "    <tr>\n",
       "      <th>5</th>\n",
       "      <td>3.0</td>\n",
       "      <td>1.870829</td>\n",
       "      <td>7.0</td>\n",
       "      <td>5.0</td>\n",
       "      <td>1.0</td>\n",
       "      <td>15.0</td>\n",
       "    </tr>\n",
       "    <tr>\n",
       "      <th>6</th>\n",
       "      <td>4.0</td>\n",
       "      <td>1.870829</td>\n",
       "      <td>3.0</td>\n",
       "      <td>6.0</td>\n",
       "      <td>2.0</td>\n",
       "      <td>20.0</td>\n",
       "    </tr>\n",
       "    <tr>\n",
       "      <th>7</th>\n",
       "      <td>7.0</td>\n",
       "      <td>1.870829</td>\n",
       "      <td>7.0</td>\n",
       "      <td>9.5</td>\n",
       "      <td>5.0</td>\n",
       "      <td>35.0</td>\n",
       "    </tr>\n",
       "    <tr>\n",
       "      <th>8</th>\n",
       "      <td>7.0</td>\n",
       "      <td>1.870829</td>\n",
       "      <td>7.0</td>\n",
       "      <td>9.5</td>\n",
       "      <td>5.0</td>\n",
       "      <td>35.0</td>\n",
       "    </tr>\n",
       "    <tr>\n",
       "      <th>9</th>\n",
       "      <td>7.0</td>\n",
       "      <td>1.870829</td>\n",
       "      <td>7.0</td>\n",
       "      <td>9.5</td>\n",
       "      <td>5.0</td>\n",
       "      <td>35.0</td>\n",
       "    </tr>\n",
       "    <tr>\n",
       "      <th>10</th>\n",
       "      <td>7.0</td>\n",
       "      <td>1.870829</td>\n",
       "      <td>7.0</td>\n",
       "      <td>9.5</td>\n",
       "      <td>5.0</td>\n",
       "      <td>35.0</td>\n",
       "    </tr>\n",
       "    <tr>\n",
       "      <th>11</th>\n",
       "      <td>7.0</td>\n",
       "      <td>1.870829</td>\n",
       "      <td>7.0</td>\n",
       "      <td>9.5</td>\n",
       "      <td>5.0</td>\n",
       "      <td>35.0</td>\n",
       "    </tr>\n",
       "    <tr>\n",
       "      <th>12</th>\n",
       "      <td>10.0</td>\n",
       "      <td>1.870829</td>\n",
       "      <td>7.0</td>\n",
       "      <td>9.5</td>\n",
       "      <td>8.0</td>\n",
       "      <td>50.0</td>\n",
       "    </tr>\n",
       "    <tr>\n",
       "      <th>13</th>\n",
       "      <td>11.0</td>\n",
       "      <td>1.870829</td>\n",
       "      <td>7.0</td>\n",
       "      <td>13.0</td>\n",
       "      <td>9.0</td>\n",
       "      <td>55.0</td>\n",
       "    </tr>\n",
       "    <tr>\n",
       "      <th>14</th>\n",
       "      <td>12.0</td>\n",
       "      <td>1.870829</td>\n",
       "      <td>11.0</td>\n",
       "      <td>14.0</td>\n",
       "      <td>10.0</td>\n",
       "      <td>60.0</td>\n",
       "    </tr>\n",
       "  </tbody>\n",
       "</table>\n",
       "</div>"
      ],
      "text/plain": [
       "    roll_mean_5  roll_std_6  roll_median_7  roll_max_6  roll_min_5  roll_sum_5\n",
       "0           7.0    1.870829            7.0         9.5         5.0        35.0\n",
       "1           7.0    1.870829            7.0         9.5         5.0        35.0\n",
       "2           7.0    1.870829            7.0         9.5         5.0        35.0\n",
       "3           7.0    1.870829            7.0         9.5         5.0        35.0\n",
       "4           2.0    1.870829            7.0         9.5         0.0        10.0\n",
       "5           3.0    1.870829            7.0         5.0         1.0        15.0\n",
       "6           4.0    1.870829            3.0         6.0         2.0        20.0\n",
       "7           7.0    1.870829            7.0         9.5         5.0        35.0\n",
       "8           7.0    1.870829            7.0         9.5         5.0        35.0\n",
       "9           7.0    1.870829            7.0         9.5         5.0        35.0\n",
       "10          7.0    1.870829            7.0         9.5         5.0        35.0\n",
       "11          7.0    1.870829            7.0         9.5         5.0        35.0\n",
       "12         10.0    1.870829            7.0         9.5         8.0        50.0\n",
       "13         11.0    1.870829            7.0        13.0         9.0        55.0\n",
       "14         12.0    1.870829           11.0        14.0        10.0        60.0"
      ]
     },
     "execution_count": 47,
     "metadata": {},
     "output_type": "execute_result"
    }
   ],
   "source": [
    "df_roll.fillna(df_roll.mean())"
   ]
  },
  {
   "cell_type": "code",
   "execution_count": 46,
   "metadata": {},
   "outputs": [
    {
     "data": {
      "text/html": [
       "<div>\n",
       "<style scoped>\n",
       "    .dataframe tbody tr th:only-of-type {\n",
       "        vertical-align: middle;\n",
       "    }\n",
       "\n",
       "    .dataframe tbody tr th {\n",
       "        vertical-align: top;\n",
       "    }\n",
       "\n",
       "    .dataframe thead th {\n",
       "        text-align: right;\n",
       "    }\n",
       "</style>\n",
       "<table border=\"1\" class=\"dataframe\">\n",
       "  <thead>\n",
       "    <tr style=\"text-align: right;\">\n",
       "      <th></th>\n",
       "      <th>roll_mean_5</th>\n",
       "      <th>roll_std_6</th>\n",
       "      <th>roll_median_7</th>\n",
       "      <th>roll_max_6</th>\n",
       "      <th>roll_min_5</th>\n",
       "      <th>roll_sum_5</th>\n",
       "    </tr>\n",
       "  </thead>\n",
       "  <tbody>\n",
       "    <tr>\n",
       "      <th>0</th>\n",
       "      <td>NaN</td>\n",
       "      <td>NaN</td>\n",
       "      <td>NaN</td>\n",
       "      <td>NaN</td>\n",
       "      <td>NaN</td>\n",
       "      <td>NaN</td>\n",
       "    </tr>\n",
       "    <tr>\n",
       "      <th>1</th>\n",
       "      <td>NaN</td>\n",
       "      <td>NaN</td>\n",
       "      <td>NaN</td>\n",
       "      <td>NaN</td>\n",
       "      <td>NaN</td>\n",
       "      <td>NaN</td>\n",
       "    </tr>\n",
       "    <tr>\n",
       "      <th>2</th>\n",
       "      <td>NaN</td>\n",
       "      <td>NaN</td>\n",
       "      <td>NaN</td>\n",
       "      <td>NaN</td>\n",
       "      <td>NaN</td>\n",
       "      <td>NaN</td>\n",
       "    </tr>\n",
       "    <tr>\n",
       "      <th>3</th>\n",
       "      <td>NaN</td>\n",
       "      <td>NaN</td>\n",
       "      <td>NaN</td>\n",
       "      <td>NaN</td>\n",
       "      <td>NaN</td>\n",
       "      <td>NaN</td>\n",
       "    </tr>\n",
       "    <tr>\n",
       "      <th>4</th>\n",
       "      <td>2.0</td>\n",
       "      <td>NaN</td>\n",
       "      <td>NaN</td>\n",
       "      <td>NaN</td>\n",
       "      <td>0.0</td>\n",
       "      <td>10.0</td>\n",
       "    </tr>\n",
       "    <tr>\n",
       "      <th>5</th>\n",
       "      <td>3.0</td>\n",
       "      <td>1.870829</td>\n",
       "      <td>NaN</td>\n",
       "      <td>5.0</td>\n",
       "      <td>1.0</td>\n",
       "      <td>15.0</td>\n",
       "    </tr>\n",
       "    <tr>\n",
       "      <th>6</th>\n",
       "      <td>4.0</td>\n",
       "      <td>1.870829</td>\n",
       "      <td>3.0</td>\n",
       "      <td>6.0</td>\n",
       "      <td>2.0</td>\n",
       "      <td>20.0</td>\n",
       "    </tr>\n",
       "    <tr>\n",
       "      <th>7</th>\n",
       "      <td>4.0</td>\n",
       "      <td>1.870829</td>\n",
       "      <td>3.0</td>\n",
       "      <td>6.0</td>\n",
       "      <td>2.0</td>\n",
       "      <td>20.0</td>\n",
       "    </tr>\n",
       "    <tr>\n",
       "      <th>8</th>\n",
       "      <td>4.0</td>\n",
       "      <td>1.870829</td>\n",
       "      <td>3.0</td>\n",
       "      <td>6.0</td>\n",
       "      <td>2.0</td>\n",
       "      <td>20.0</td>\n",
       "    </tr>\n",
       "    <tr>\n",
       "      <th>9</th>\n",
       "      <td>4.0</td>\n",
       "      <td>1.870829</td>\n",
       "      <td>3.0</td>\n",
       "      <td>6.0</td>\n",
       "      <td>2.0</td>\n",
       "      <td>20.0</td>\n",
       "    </tr>\n",
       "    <tr>\n",
       "      <th>10</th>\n",
       "      <td>4.0</td>\n",
       "      <td>1.870829</td>\n",
       "      <td>3.0</td>\n",
       "      <td>6.0</td>\n",
       "      <td>2.0</td>\n",
       "      <td>20.0</td>\n",
       "    </tr>\n",
       "    <tr>\n",
       "      <th>11</th>\n",
       "      <td>4.0</td>\n",
       "      <td>1.870829</td>\n",
       "      <td>3.0</td>\n",
       "      <td>6.0</td>\n",
       "      <td>2.0</td>\n",
       "      <td>20.0</td>\n",
       "    </tr>\n",
       "    <tr>\n",
       "      <th>12</th>\n",
       "      <td>10.0</td>\n",
       "      <td>1.870829</td>\n",
       "      <td>3.0</td>\n",
       "      <td>6.0</td>\n",
       "      <td>8.0</td>\n",
       "      <td>50.0</td>\n",
       "    </tr>\n",
       "    <tr>\n",
       "      <th>13</th>\n",
       "      <td>11.0</td>\n",
       "      <td>1.870829</td>\n",
       "      <td>3.0</td>\n",
       "      <td>13.0</td>\n",
       "      <td>9.0</td>\n",
       "      <td>55.0</td>\n",
       "    </tr>\n",
       "    <tr>\n",
       "      <th>14</th>\n",
       "      <td>12.0</td>\n",
       "      <td>1.870829</td>\n",
       "      <td>11.0</td>\n",
       "      <td>14.0</td>\n",
       "      <td>10.0</td>\n",
       "      <td>60.0</td>\n",
       "    </tr>\n",
       "  </tbody>\n",
       "</table>\n",
       "</div>"
      ],
      "text/plain": [
       "    roll_mean_5  roll_std_6  roll_median_7  roll_max_6  roll_min_5  roll_sum_5\n",
       "0           NaN         NaN            NaN         NaN         NaN         NaN\n",
       "1           NaN         NaN            NaN         NaN         NaN         NaN\n",
       "2           NaN         NaN            NaN         NaN         NaN         NaN\n",
       "3           NaN         NaN            NaN         NaN         NaN         NaN\n",
       "4           2.0         NaN            NaN         NaN         0.0        10.0\n",
       "5           3.0    1.870829            NaN         5.0         1.0        15.0\n",
       "6           4.0    1.870829            3.0         6.0         2.0        20.0\n",
       "7           4.0    1.870829            3.0         6.0         2.0        20.0\n",
       "8           4.0    1.870829            3.0         6.0         2.0        20.0\n",
       "9           4.0    1.870829            3.0         6.0         2.0        20.0\n",
       "10          4.0    1.870829            3.0         6.0         2.0        20.0\n",
       "11          4.0    1.870829            3.0         6.0         2.0        20.0\n",
       "12         10.0    1.870829            3.0         6.0         8.0        50.0\n",
       "13         11.0    1.870829            3.0        13.0         9.0        55.0\n",
       "14         12.0    1.870829           11.0        14.0        10.0        60.0"
      ]
     },
     "execution_count": 46,
     "metadata": {},
     "output_type": "execute_result"
    }
   ],
   "source": [
    "df_roll.ffill()"
   ]
  },
  {
   "cell_type": "code",
   "execution_count": 34,
   "metadata": {},
   "outputs": [
    {
     "data": {
      "text/plain": [
       "6      4.0\n",
       "7     10.5\n",
       "8     10.5\n",
       "9     10.5\n",
       "10    10.5\n",
       "11    10.5\n",
       "12    10.0\n",
       "13    11.0\n",
       "14    12.0\n",
       "Name: roll_mean_5, dtype: float64"
      ]
     },
     "execution_count": 34,
     "metadata": {},
     "output_type": "execute_result"
    }
   ],
   "source": [
    "df_roll['roll_mean_5'].fillna(df_roll['roll_mean_5'].median())"
   ]
  },
  {
   "cell_type": "code",
   "execution_count": 35,
   "metadata": {},
   "outputs": [
    {
     "data": {
      "text/plain": [
       "6      4.0\n",
       "7     10.0\n",
       "8     10.0\n",
       "9     10.0\n",
       "10    10.0\n",
       "11    10.0\n",
       "12    10.0\n",
       "13    11.0\n",
       "14    12.0\n",
       "Name: roll_mean_5, dtype: float64"
      ]
     },
     "execution_count": 35,
     "metadata": {},
     "output_type": "execute_result"
    }
   ],
   "source": [
    "df_roll['roll_mean_5'].bfill()"
   ]
  },
  {
   "cell_type": "code",
   "execution_count": 31,
   "metadata": {},
   "outputs": [
    {
     "name": "stderr",
     "output_type": "stream",
     "text": [
      "C:\\Users\\jaesc2\\AppData\\Local\\Temp\\ipykernel_29004\\3132547451.py:1: FutureWarning: Series.fillna with 'method' is deprecated and will raise in a future version. Use obj.ffill() or obj.bfill() instead.\n",
      "  df_roll['roll_mean_5'].fillna(method='ffill')\n"
     ]
    },
    {
     "data": {
      "text/plain": [
       "6      4.0\n",
       "7      4.0\n",
       "8      4.0\n",
       "9      4.0\n",
       "10     4.0\n",
       "11     4.0\n",
       "12    10.0\n",
       "13    11.0\n",
       "14    12.0\n",
       "Name: roll_mean_5, dtype: float64"
      ]
     },
     "execution_count": 31,
     "metadata": {},
     "output_type": "execute_result"
    }
   ],
   "source": [
    "df_roll['roll_mean_5'].fillna(method='ffill')"
   ]
  },
  {
   "cell_type": "code",
   "execution_count": 39,
   "metadata": {},
   "outputs": [
    {
     "data": {
      "text/plain": [
       "6      4.0\n",
       "7      1.0\n",
       "8      1.0\n",
       "9      1.0\n",
       "10     1.0\n",
       "11     1.0\n",
       "12    10.0\n",
       "13    11.0\n",
       "14    12.0\n",
       "Name: roll_mean_5, dtype: float64"
      ]
     },
     "execution_count": 39,
     "metadata": {},
     "output_type": "execute_result"
    }
   ],
   "source": [
    "df_roll['roll_mean_5'].fillna(1.)"
   ]
  },
  {
   "cell_type": "code",
   "execution_count": null,
   "metadata": {},
   "outputs": [],
   "source": []
  },
  {
   "cell_type": "code",
   "execution_count": null,
   "metadata": {},
   "outputs": [],
   "source": []
  },
  {
   "cell_type": "code",
   "execution_count": null,
   "metadata": {},
   "outputs": [],
   "source": [
    "rolling = RollingFeatures(\n",
    "    stats = ['mean', 'std', 'median', 'max', 'min', 'sum'],\n",
    "    window_sizes = [5, 6, 7, 6, 5, 5],\n",
    "    # min_periods = [5, 5, 5, 5, 5, 4]\n",
    ")"
   ]
  },
  {
   "cell_type": "code",
   "execution_count": 58,
   "metadata": {},
   "outputs": [],
   "source": [
    "@njit\n",
    "def _np_min_max_ratio_jit(x):\n",
    "    return np.min(x) / np.max(x)"
   ]
  },
  {
   "cell_type": "code",
   "execution_count": 54,
   "metadata": {},
   "outputs": [],
   "source": [
    "@njit\n",
    "def _np_mean_jit(x):\n",
    "    return np.mean(x)"
   ]
  },
  {
   "cell_type": "code",
   "execution_count": 50,
   "metadata": {},
   "outputs": [],
   "source": [
    "@njit\n",
    "def _np_cv_jit(x):\n",
    "    a_a, b_b = 0, 0\n",
    "    for i in x:\n",
    "        a_a = a_a + i\n",
    "        b_b = b_b + i * i\n",
    "    var = b_b / (len(x)) - ((a_a / (len(x))) ** 2)\n",
    "    var = var * (len(x) / (len(x) - 1))\n",
    "    std = np.sqrt(var)\n",
    "\n",
    "    return std / np.mean(x)"
   ]
  },
  {
   "cell_type": "code",
   "execution_count": 52,
   "metadata": {},
   "outputs": [],
   "source": [
    "arr = np.arange(10000)"
   ]
  },
  {
   "cell_type": "code",
   "execution_count": 56,
   "metadata": {},
   "outputs": [
    {
     "name": "stdout",
     "output_type": "stream",
     "text": [
      "13 ms ± 40.2 μs per loop (mean ± std. dev. of 7 runs, 100 loops each)\n"
     ]
    }
   ],
   "source": [
    "%%timeit\n",
    "\n",
    "for _ in range(1000):\n",
    "    _np_cv_jit(arr)"
   ]
  },
  {
   "cell_type": "code",
   "execution_count": 55,
   "metadata": {},
   "outputs": [
    {
     "name": "stdout",
     "output_type": "stream",
     "text": [
      "9.54 ms ± 7.74 μs per loop (mean ± std. dev. of 7 runs, 100 loops each)\n"
     ]
    }
   ],
   "source": [
    "%%timeit\n",
    "\n",
    "for _ in range(1000):\n",
    "    _np_mean_jit(arr)"
   ]
  },
  {
   "cell_type": "code",
   "execution_count": 59,
   "metadata": {},
   "outputs": [
    {
     "name": "stdout",
     "output_type": "stream",
     "text": [
      "3.92 ms ± 137 μs per loop (mean ± std. dev. of 7 runs, 1 loop each)\n"
     ]
    }
   ],
   "source": [
    "%%timeit\n",
    "\n",
    "for _ in range(1000):\n",
    "    _np_min_max_ratio_jit(arr)"
   ]
  },
  {
   "cell_type": "code",
   "execution_count": 4,
   "metadata": {},
   "outputs": [],
   "source": [
    "arr = np.arange(10000)"
   ]
  },
  {
   "cell_type": "code",
   "execution_count": 5,
   "metadata": {},
   "outputs": [],
   "source": [
    "rolling = RollingFeatures(\n",
    "    stats = ['mean', 'std', 'median', 'max', 'min', 'sum'],\n",
    "    window_sizes = [10, 10, 10, 10, 10, 10],\n",
    ")"
   ]
  },
  {
   "cell_type": "code",
   "execution_count": 6,
   "metadata": {},
   "outputs": [
    {
     "name": "stdout",
     "output_type": "stream",
     "text": [
      "14.9 ms ± 614 μs per loop (mean ± std. dev. of 7 runs, 1 loop each)\n"
     ]
    }
   ],
   "source": [
    "%%timeit\n",
    "\n",
    "for _ in range(1000):\n",
    "    rolling.transform(arr)"
   ]
  },
  {
   "cell_type": "code",
   "execution_count": 7,
   "metadata": {},
   "outputs": [],
   "source": [
    "rolling = RollingFeatures(\n",
    "    stats = ['mean', 'std', 'min', 'max', 'sum', 'median', 'ratio_min_max', 'coef_variation'],\n",
    "    window_sizes = [10, 10, 10, 10, 10, 10, 10, 10],\n",
    ")"
   ]
  },
  {
   "cell_type": "code",
   "execution_count": 8,
   "metadata": {},
   "outputs": [
    {
     "name": "stdout",
     "output_type": "stream",
     "text": [
      "16.8 ms ± 902 μs per loop (mean ± std. dev. of 7 runs, 1 loop each)\n"
     ]
    }
   ],
   "source": [
    "%%timeit\n",
    "\n",
    "for _ in range(1000):\n",
    "    rolling.transform(arr)"
   ]
  },
  {
   "cell_type": "code",
   "execution_count": 9,
   "metadata": {},
   "outputs": [],
   "source": [
    "series = pd.Series(np.arange(10000), name='y')"
   ]
  },
  {
   "cell_type": "code",
   "execution_count": 17,
   "metadata": {},
   "outputs": [],
   "source": [
    "df_1 = rolling.transform_batch(series)\n",
    "df_2 = rolling.transform_batch_2(series)\n",
    "\n",
    "pd.testing.assert_frame_equal(df_1, df_2)"
   ]
  },
  {
   "cell_type": "code",
   "execution_count": 18,
   "metadata": {},
   "outputs": [
    {
     "data": {
      "text/html": [
       "<div>\n",
       "<style scoped>\n",
       "    .dataframe tbody tr th:only-of-type {\n",
       "        vertical-align: middle;\n",
       "    }\n",
       "\n",
       "    .dataframe tbody tr th {\n",
       "        vertical-align: top;\n",
       "    }\n",
       "\n",
       "    .dataframe thead th {\n",
       "        text-align: right;\n",
       "    }\n",
       "</style>\n",
       "<table border=\"1\" class=\"dataframe\">\n",
       "  <thead>\n",
       "    <tr style=\"text-align: right;\">\n",
       "      <th></th>\n",
       "      <th>roll_mean_10</th>\n",
       "      <th>roll_std_10</th>\n",
       "      <th>roll_min_10</th>\n",
       "      <th>roll_max_10</th>\n",
       "      <th>roll_sum_10</th>\n",
       "      <th>roll_median_10</th>\n",
       "      <th>roll_ratio_min_max_10</th>\n",
       "      <th>roll_coef_variation_10</th>\n",
       "    </tr>\n",
       "  </thead>\n",
       "  <tbody>\n",
       "    <tr>\n",
       "      <th>9</th>\n",
       "      <td>4.5</td>\n",
       "      <td>3.02765</td>\n",
       "      <td>0.0</td>\n",
       "      <td>9.0</td>\n",
       "      <td>45.0</td>\n",
       "      <td>4.5</td>\n",
       "      <td>0.000000</td>\n",
       "      <td>0.672811</td>\n",
       "    </tr>\n",
       "    <tr>\n",
       "      <th>10</th>\n",
       "      <td>5.5</td>\n",
       "      <td>3.02765</td>\n",
       "      <td>1.0</td>\n",
       "      <td>10.0</td>\n",
       "      <td>55.0</td>\n",
       "      <td>5.5</td>\n",
       "      <td>0.100000</td>\n",
       "      <td>0.550482</td>\n",
       "    </tr>\n",
       "    <tr>\n",
       "      <th>11</th>\n",
       "      <td>6.5</td>\n",
       "      <td>3.02765</td>\n",
       "      <td>2.0</td>\n",
       "      <td>11.0</td>\n",
       "      <td>65.0</td>\n",
       "      <td>6.5</td>\n",
       "      <td>0.181818</td>\n",
       "      <td>0.465792</td>\n",
       "    </tr>\n",
       "    <tr>\n",
       "      <th>12</th>\n",
       "      <td>7.5</td>\n",
       "      <td>3.02765</td>\n",
       "      <td>3.0</td>\n",
       "      <td>12.0</td>\n",
       "      <td>75.0</td>\n",
       "      <td>7.5</td>\n",
       "      <td>0.250000</td>\n",
       "      <td>0.403687</td>\n",
       "    </tr>\n",
       "    <tr>\n",
       "      <th>13</th>\n",
       "      <td>8.5</td>\n",
       "      <td>3.02765</td>\n",
       "      <td>4.0</td>\n",
       "      <td>13.0</td>\n",
       "      <td>85.0</td>\n",
       "      <td>8.5</td>\n",
       "      <td>0.307692</td>\n",
       "      <td>0.356194</td>\n",
       "    </tr>\n",
       "  </tbody>\n",
       "</table>\n",
       "</div>"
      ],
      "text/plain": [
       "    roll_mean_10  roll_std_10  roll_min_10  roll_max_10  roll_sum_10  \\\n",
       "9            4.5      3.02765          0.0          9.0         45.0   \n",
       "10           5.5      3.02765          1.0         10.0         55.0   \n",
       "11           6.5      3.02765          2.0         11.0         65.0   \n",
       "12           7.5      3.02765          3.0         12.0         75.0   \n",
       "13           8.5      3.02765          4.0         13.0         85.0   \n",
       "\n",
       "    roll_median_10  roll_ratio_min_max_10  roll_coef_variation_10  \n",
       "9              4.5               0.000000                0.672811  \n",
       "10             5.5               0.100000                0.550482  \n",
       "11             6.5               0.181818                0.465792  \n",
       "12             7.5               0.250000                0.403687  \n",
       "13             8.5               0.307692                0.356194  "
      ]
     },
     "execution_count": 18,
     "metadata": {},
     "output_type": "execute_result"
    }
   ],
   "source": [
    "df_2.head()"
   ]
  },
  {
   "cell_type": "code",
   "execution_count": 16,
   "metadata": {},
   "outputs": [
    {
     "name": "stdout",
     "output_type": "stream",
     "text": [
      "5.5 ms ± 129 μs per loop (mean ± std. dev. of 7 runs, 100 loops each)\n"
     ]
    }
   ],
   "source": [
    "%%timeit\n",
    "\n",
    "rolling.transform_batch_2(series).to_numpy()"
   ]
  },
  {
   "cell_type": "code",
   "execution_count": null,
   "metadata": {},
   "outputs": [],
   "source": []
  }
 ],
 "metadata": {
  "kernelspec": {
   "display_name": "skforecast_14_p12",
   "language": "python",
   "name": "python3"
  },
  "language_info": {
   "codemirror_mode": {
    "name": "ipython",
    "version": 3
   },
   "file_extension": ".py",
   "mimetype": "text/x-python",
   "name": "python",
   "nbconvert_exporter": "python",
   "pygments_lexer": "ipython3",
   "version": "3.12.4"
  }
 },
 "nbformat": 4,
 "nbformat_minor": 2
}
