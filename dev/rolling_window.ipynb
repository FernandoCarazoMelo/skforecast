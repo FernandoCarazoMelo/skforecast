{
 "cells": [
  {
   "cell_type": "code",
   "execution_count": 3,
   "metadata": {},
   "outputs": [],
   "source": [
    "import pandas as pd\n",
    "import numpy as np\n",
    "from numpy.lib.stride_tricks import sliding_window_view\n",
    "import timeit\n",
    "from numba import njit"
   ]
  },
  {
   "cell_type": "code",
   "execution_count": 2,
   "metadata": {},
   "outputs": [],
   "source": [
    "# Create a sample pandas Series\n",
    "np.random.seed(0)\n",
    "series = pd.Series(np.random.randn(10000))\n",
    "window = 50"
   ]
  },
  {
   "cell_type": "markdown",
   "metadata": {},
   "source": [
    "# Benchmark numpy vs pandas"
   ]
  },
  {
   "cell_type": "code",
   "execution_count": 6,
   "metadata": {},
   "outputs": [
    {
     "name": "stdout",
     "output_type": "stream",
     "text": [
      "Pandas Mean Time: 0.028297 seconds, Std Dev: 0.003984 seconds\n",
      "Numpy Mean Time : 0.018500 seconds, Std Dev: 0.000188 seconds\n"
     ]
    }
   ],
   "source": [
    "# Rolling mean\n",
    "# ==============================================================================\n",
    "# 1. Pandas Implementation\n",
    "def pandas_rolling(series, window):\n",
    "    return series.rolling(window=window).mean()\n",
    "\n",
    "# 2. Numpy Implementation\n",
    "def numpy_rolling(series, window):\n",
    "    return np.mean(sliding_window_view(series, window), axis=1)\n",
    "\n",
    "repeats = 5\n",
    "number = 100\n",
    "pandas_times = timeit.repeat(lambda: pandas_rolling(series, window), number=number, repeat=repeats)\n",
    "numpy_times = timeit.repeat(lambda: numpy_rolling(series.to_numpy(), window), number=number, repeat=repeats)\n",
    "pandas_mean = np.mean(pandas_times)\n",
    "pandas_std = np.std(pandas_times)\n",
    "numpy_mean = np.mean(numpy_times)\n",
    "numpy_std = np.std(numpy_times)\n",
    "print(f\"Pandas Mean Time: {pandas_mean:.6f} seconds, Std Dev: {pandas_std:.6f} seconds\")\n",
    "print(f\"Numpy Mean Time : {numpy_mean:.6f} seconds, Std Dev: {numpy_std:.6f} seconds\")\n",
    "\n",
    "np.testing.assert_allclose(\n",
    "    pandas_rolling(series, window).dropna(),\n",
    "    numpy_rolling(series.values, window)\n",
    ")"
   ]
  },
  {
   "cell_type": "code",
   "execution_count": 7,
   "metadata": {},
   "outputs": [
    {
     "name": "stdout",
     "output_type": "stream",
     "text": [
      "Pandas Mean Time: 0.030795 seconds, Std Dev: 0.004558 seconds\n",
      "Numpy Mean Time : 0.234323 seconds, Std Dev: 0.024244 seconds\n"
     ]
    }
   ],
   "source": [
    "# Rolling std\n",
    "# ==============================================================================\n",
    "# 1. Pandas Implementation\n",
    "def pandas_rolling(series, window):\n",
    "    return series.rolling(window=window).std()\n",
    "\n",
    "# 2. Numpy Implementation\n",
    "def numpy_rolling(series, window):\n",
    "    return np.std(sliding_window_view(series, window), axis=1, ddof=1)\n",
    "\n",
    "repeats = 5\n",
    "number = 100\n",
    "pandas_times = timeit.repeat(lambda: pandas_rolling(series, window), number=number, repeat=repeats)\n",
    "numpy_times = timeit.repeat(lambda: numpy_rolling(series.to_numpy(), window), number=number, repeat=repeats)\n",
    "pandas_mean = np.mean(pandas_times)\n",
    "pandas_std = np.std(pandas_times)\n",
    "numpy_mean = np.mean(numpy_times)\n",
    "numpy_std = np.std(numpy_times)\n",
    "print(f\"Pandas Mean Time: {pandas_mean:.6f} seconds, Std Dev: {pandas_std:.6f} seconds\")\n",
    "print(f\"Numpy Mean Time : {numpy_mean:.6f} seconds, Std Dev: {numpy_std:.6f} seconds\")\n",
    "\n",
    "np.testing.assert_allclose(\n",
    "    pandas_rolling(series, window).dropna(),\n",
    "    numpy_rolling(series.values, window)\n",
    ")"
   ]
  },
  {
   "cell_type": "code",
   "execution_count": 8,
   "metadata": {},
   "outputs": [
    {
     "name": "stdout",
     "output_type": "stream",
     "text": [
      "Pandas Mean Time: 0.400690 seconds, Std Dev: 0.010012 seconds\n",
      "Numpy Mean Time : 0.699383 seconds, Std Dev: 0.010848 seconds\n"
     ]
    }
   ],
   "source": [
    "# Rolling median\n",
    "# ==============================================================================\n",
    "# 1. Pandas Implementation\n",
    "def pandas_rolling(series, window):\n",
    "    return series.rolling(window=window).median()\n",
    "\n",
    "# 2. Numpy Implementation\n",
    "def numpy_rolling(series, window):\n",
    "    return np.median(sliding_window_view(series, window), axis=1)\n",
    "\n",
    "repeats = 5\n",
    "number = 100\n",
    "pandas_times = timeit.repeat(lambda: pandas_rolling(series, window), number=number, repeat=repeats)\n",
    "numpy_times = timeit.repeat(lambda: numpy_rolling(series.to_numpy(), window), number=number, repeat=repeats)\n",
    "pandas_mean = np.mean(pandas_times)\n",
    "pandas_std = np.std(pandas_times)\n",
    "numpy_mean = np.mean(numpy_times)\n",
    "numpy_std = np.std(numpy_times)\n",
    "print(f\"Pandas Mean Time: {pandas_mean:.6f} seconds, Std Dev: {pandas_std:.6f} seconds\")\n",
    "print(f\"Numpy Mean Time : {numpy_mean:.6f} seconds, Std Dev: {numpy_std:.6f} seconds\")\n",
    "\n",
    "np.testing.assert_allclose(\n",
    "    pandas_rolling(series, window).dropna(),\n",
    "    numpy_rolling(series.values, window)\n",
    ")"
   ]
  },
  {
   "cell_type": "code",
   "execution_count": 9,
   "metadata": {},
   "outputs": [
    {
     "name": "stdout",
     "output_type": "stream",
     "text": [
      "Pandas Mean Time: 0.526125 seconds, Std Dev: 0.012349 seconds\n",
      "Numpy Mean Time : 1.083005 seconds, Std Dev: 0.030257 seconds\n"
     ]
    }
   ],
   "source": [
    "# Rolling multiple stats\n",
    "# ==============================================================================\n",
    "# 1. Pandas Implementation\n",
    "def pandas_rolling(series, window):\n",
    "    rolling = series.rolling(window=window)\n",
    "    stats = [rolling.mean(), rolling.std(), rolling.median(), rolling.max(), rolling.min(), rolling.sum()]\n",
    "    return stats\n",
    "\n",
    "# 2. Nunmpy Implementation\n",
    "def numpy_rolling(series, window):\n",
    "\n",
    "    rolling = sliding_window_view(series, window)\n",
    "    stats = [\n",
    "        np.mean(rolling, axis=1),\n",
    "        np.std(rolling, axis=1, ddof=1),\n",
    "        np.median(rolling, axis=1),\n",
    "        np.max(rolling, axis=1),\n",
    "        np.min(rolling, axis=1),\n",
    "        np.sum(rolling, axis=1)\n",
    "    ]\n",
    "    return stats\n",
    "\n",
    "repeats = 5\n",
    "number = 100\n",
    "pandas_times = timeit.repeat(lambda: pandas_rolling(series, window), number=number, repeat=repeats)\n",
    "numpy_times = timeit.repeat(lambda: numpy_rolling(series.to_numpy(), window), number=number, repeat=repeats)\n",
    "pandas_mean = np.mean(pandas_times)\n",
    "pandas_std = np.std(pandas_times)\n",
    "numpy_mean = np.mean(numpy_times)\n",
    "numpy_std = np.std(numpy_times)\n",
    "print(f\"Pandas Mean Time: {pandas_mean:.6f} seconds, Std Dev: {pandas_std:.6f} seconds\")\n",
    "print(f\"Numpy Mean Time : {numpy_mean:.6f} seconds, Std Dev: {numpy_std:.6f} seconds\")"
   ]
  },
  {
   "cell_type": "markdown",
   "metadata": {},
   "source": [
    "# Optimization with numba"
   ]
  },
  {
   "cell_type": "markdown",
   "metadata": {},
   "source": [
    "Durante el predict recursivo, se tiene que aplicar una función repetitiva sobre un array de numpy."
   ]
  },
  {
   "cell_type": "code",
   "execution_count": 18,
   "metadata": {},
   "outputs": [
    {
     "name": "stdout",
     "output_type": "stream",
     "text": [
      "Numpy Mean Time : 0.154755 seconds, Std Dev: 0.004867 seconds\n",
      "Numba Mean Time : 0.110940 seconds, Std Dev: 0.072713 seconds\n",
      "Pandas Mean Time: 0.607512 seconds, Std Dev: 0.004432 seconds\n"
     ]
    }
   ],
   "source": [
    "predictions = [np.random.randn(50) for _ in range(1000)]\n",
    "predictions_pd = [pd.Series(np.random.randn(50)) for _ in range(1000)]\n",
    "\n",
    "def numpy_version(predictions):\n",
    "    for last_window in predictions:\n",
    "        np.median(last_window)\n",
    "\n",
    "@njit\n",
    "def numpy_numba_version(predictions):\n",
    "    for last_window in predictions:\n",
    "        np.median(last_window)\n",
    "\n",
    "def pandas_version(predictions):\n",
    "    for last_window in predictions:\n",
    "        pd.Series(last_window).median()\n",
    "\n",
    "repeats = 5\n",
    "number = 10\n",
    "numpy_times = timeit.repeat(lambda: numpy_version(predictions), number=number, repeat=repeats)\n",
    "numba_times = timeit.repeat(lambda: numpy_numba_version(predictions), number=number, repeat=repeats)\n",
    "pandas_times = timeit.repeat(lambda: pandas_version(predictions_pd), number=number, repeat=repeats)\n",
    "numpy_mean = np.mean(numpy_times)\n",
    "numpy_std = np.std(numpy_times)\n",
    "numba_mean = np.mean(numba_times)\n",
    "numba_std = np.std(numba_times)\n",
    "pandas_mean = np.mean(pandas_times)\n",
    "pandas_std = np.std(pandas_times)\n",
    "print(f\"Numpy Mean Time : {numpy_mean:.6f} seconds, Std Dev: {numpy_std:.6f} seconds\")\n",
    "print(f\"Numba Mean Time : {numba_mean:.6f} seconds, Std Dev: {numba_std:.6f} seconds\")\n",
    "print(f\"Pandas Mean Time: {pandas_mean:.6f} seconds, Std Dev: {pandas_std:.6f} seconds\")"
   ]
  },
  {
   "cell_type": "code",
   "execution_count": 22,
   "metadata": {},
   "outputs": [
    {
     "name": "stdout",
     "output_type": "stream",
     "text": [
      "Numpy Mean Time : 0.464398 seconds, Std Dev: 0.016344 seconds\n",
      "Numba Mean Time : 0.165382 seconds, Std Dev: 0.188210 seconds\n",
      "Pandas Mean Time: 1.486151 seconds, Std Dev: 0.015396 seconds\n"
     ]
    }
   ],
   "source": [
    "predictions = [np.random.randn(50) for _ in range(1000)]\n",
    "predictions_pd = [pd.Series(np.random.randn(50)) for _ in range(1000)]\n",
    "\n",
    "def numpy_version(predictions):\n",
    "    for last_window in predictions:\n",
    "        stats = [\n",
    "            np.mean(last_window),\n",
    "            np.std(last_window),\n",
    "            np.median(last_window),\n",
    "            np.max(last_window),\n",
    "            np.min(last_window),\n",
    "            np.sum(last_window)\n",
    "        ]\n",
    "\n",
    "@njit\n",
    "def numpy_numba_version(predictions):\n",
    "    for last_window in predictions:\n",
    "        stats = [\n",
    "            np.mean(last_window),\n",
    "            np.std(last_window),\n",
    "            np.median(last_window),\n",
    "            np.max(last_window),\n",
    "            np.min(last_window),\n",
    "            np.sum(last_window)\n",
    "        ]\n",
    "\n",
    "def pandas_version(predictions):\n",
    "    for last_window in predictions:\n",
    "        lw = pd.Series(last_window)\n",
    "        stats = [\n",
    "            lw.mean(),\n",
    "            lw.std(),\n",
    "            lw.median(),\n",
    "            lw.max(),\n",
    "            lw.min(),\n",
    "            lw.sum()\n",
    "        ]\n",
    "\n",
    "repeats = 5\n",
    "number = 10\n",
    "numpy_times = timeit.repeat(lambda: numpy_version(predictions), number=number, repeat=repeats)\n",
    "numba_times = timeit.repeat(lambda: numpy_numba_version(predictions), number=number, repeat=repeats)\n",
    "pandas_times = timeit.repeat(lambda: pandas_version(predictions_pd), number=number, repeat=repeats)\n",
    "numpy_mean = np.mean(numpy_times)\n",
    "numpy_std = np.std(numpy_times)\n",
    "numba_mean = np.mean(numba_times)\n",
    "numba_std = np.std(numba_times)\n",
    "pandas_mean = np.mean(pandas_times)\n",
    "pandas_std = np.std(pandas_times)\n",
    "print(f\"Numpy Mean Time : {numpy_mean:.6f} seconds, Std Dev: {numpy_std:.6f} seconds\")\n",
    "print(f\"Numba Mean Time : {numba_mean:.6f} seconds, Std Dev: {numba_std:.6f} seconds\")\n",
    "print(f\"Pandas Mean Time: {pandas_mean:.6f} seconds, Std Dev: {pandas_std:.6f} seconds\")"
   ]
  },
  {
   "cell_type": "code",
   "execution_count": 55,
   "metadata": {},
   "outputs": [],
   "source": [
    "series = pd.Series(np.array([np.nan, 2, np.nan, 4, 5, 6, 7, 8, 9, 10]))\n",
    "series_2 = pd.Series(np.array([1, 2, 3, 4, 5, np.nan, 7, 8, 9, 10]))"
   ]
  },
  {
   "cell_type": "code",
   "execution_count": 56,
   "metadata": {},
   "outputs": [
    {
     "data": {
      "text/html": [
       "<div>\n",
       "<style scoped>\n",
       "    .dataframe tbody tr th:only-of-type {\n",
       "        vertical-align: middle;\n",
       "    }\n",
       "\n",
       "    .dataframe tbody tr th {\n",
       "        vertical-align: top;\n",
       "    }\n",
       "\n",
       "    .dataframe thead th {\n",
       "        text-align: right;\n",
       "    }\n",
       "</style>\n",
       "<table border=\"1\" class=\"dataframe\">\n",
       "  <thead>\n",
       "    <tr style=\"text-align: right;\">\n",
       "      <th></th>\n",
       "      <th>1</th>\n",
       "      <th>2</th>\n",
       "    </tr>\n",
       "  </thead>\n",
       "  <tbody>\n",
       "    <tr>\n",
       "      <th>0</th>\n",
       "      <td>NaN</td>\n",
       "      <td>NaN</td>\n",
       "    </tr>\n",
       "    <tr>\n",
       "      <th>1</th>\n",
       "      <td>NaN</td>\n",
       "      <td>NaN</td>\n",
       "    </tr>\n",
       "    <tr>\n",
       "      <th>2</th>\n",
       "      <td>NaN</td>\n",
       "      <td>NaN</td>\n",
       "    </tr>\n",
       "    <tr>\n",
       "      <th>3</th>\n",
       "      <td>NaN</td>\n",
       "      <td>2.0</td>\n",
       "    </tr>\n",
       "    <tr>\n",
       "      <th>4</th>\n",
       "      <td>NaN</td>\n",
       "      <td>3.0</td>\n",
       "    </tr>\n",
       "    <tr>\n",
       "      <th>5</th>\n",
       "      <td>NaN</td>\n",
       "      <td>4.0</td>\n",
       "    </tr>\n",
       "    <tr>\n",
       "      <th>6</th>\n",
       "      <td>5.0</td>\n",
       "      <td>NaN</td>\n",
       "    </tr>\n",
       "    <tr>\n",
       "      <th>7</th>\n",
       "      <td>6.0</td>\n",
       "      <td>NaN</td>\n",
       "    </tr>\n",
       "    <tr>\n",
       "      <th>8</th>\n",
       "      <td>7.0</td>\n",
       "      <td>NaN</td>\n",
       "    </tr>\n",
       "    <tr>\n",
       "      <th>9</th>\n",
       "      <td>8.0</td>\n",
       "      <td>8.0</td>\n",
       "    </tr>\n",
       "  </tbody>\n",
       "</table>\n",
       "</div>"
      ],
      "text/plain": [
       "     1    2\n",
       "0  NaN  NaN\n",
       "1  NaN  NaN\n",
       "2  NaN  NaN\n",
       "3  NaN  2.0\n",
       "4  NaN  3.0\n",
       "5  NaN  4.0\n",
       "6  5.0  NaN\n",
       "7  6.0  NaN\n",
       "8  7.0  NaN\n",
       "9  8.0  8.0"
      ]
     },
     "execution_count": 56,
     "metadata": {},
     "output_type": "execute_result"
    }
   ],
   "source": [
    "pd.DataFrame({'1':series,\n",
    "              '2': series_2\n",
    "}).rolling(window=3, min_periods=3, closed='left').mean()"
   ]
  },
  {
   "cell_type": "code",
   "execution_count": null,
   "metadata": {},
   "outputs": [],
   "source": [
    "RollingFeatures(\n",
    "    stats = str, [str],\n",
    "    window_sizes = int, [int],\n",
    "    features_names = None, list,\n",
    "    min_periods=None=window_size, int, [int],\n",
    "    closed='left', [str],\n",
    "    # fill_strategy=ffil, [], #warning, ffill no esta disponible durante predict, usa el argument fill_strategy_predict\n",
    "    # fill_strategy_predict=None, [],\n",
    ")\n",
    "\n",
    "transform_batch\n",
    "transform\n",
    "\n"
   ]
  },
  {
   "cell_type": "markdown",
   "metadata": {},
   "source": [
    "# Skforecast"
   ]
  },
  {
   "cell_type": "code",
   "execution_count": 1,
   "metadata": {},
   "outputs": [
    {
     "name": "stdout",
     "output_type": "stream",
     "text": [
      "c:\\Users\\jaesc2\\GitHub\\skforecast\n"
     ]
    }
   ],
   "source": [
    "%load_ext autoreload\n",
    "%autoreload 2\n",
    "import sys\n",
    "from pathlib import Path\n",
    "path = str(Path.cwd().parent)\n",
    "print(path)\n",
    "sys.path.insert(1, path)"
   ]
  },
  {
   "cell_type": "code",
   "execution_count": 33,
   "metadata": {},
   "outputs": [],
   "source": [
    "import re\n",
    "import pytest\n",
    "import numpy as np\n",
    "import pandas as pd\n",
    "from sklearn.exceptions import NotFittedError\n",
    "from sklearn.compose import ColumnTransformer\n",
    "from sklearn.preprocessing import StandardScaler\n",
    "from sklearn.preprocessing import OneHotEncoder\n",
    "from sklearn.preprocessing import OrdinalEncoder\n",
    "from sklearn.preprocessing import FunctionTransformer\n",
    "from sklearn.compose import make_column_transformer\n",
    "from sklearn.compose import make_column_selector\n",
    "from sklearn.pipeline import make_pipeline\n",
    "from sklearn.linear_model import LinearRegression\n",
    "from sklearn.ensemble import HistGradientBoostingRegressor\n",
    "from lightgbm import LGBMRegressor\n",
    "\n",
    "from skforecast.ForecasterAutoreg import ForecasterAutoreg\n",
    "from skforecast.preprocessing import TimeSeriesDifferentiator\n",
    "\n",
    "# Fixtures\n",
    "from skforecast.ForecasterAutoreg.tests.fixtures_ForecasterAutoreg import y as y_categorical\n",
    "from skforecast.ForecasterAutoreg.tests.fixtures_ForecasterAutoreg import exog as exog_categorical\n",
    "from skforecast.ForecasterAutoreg.tests.fixtures_ForecasterAutoreg import data  # to test results when using differentiation\n",
    "\n",
    "from skforecast.preprocessing import RollingFeatures\n",
    "from skforecast.preprocessing.tests.fixtures_preprocessing import X"
   ]
  },
  {
   "cell_type": "code",
   "execution_count": 30,
   "metadata": {},
   "outputs": [],
   "source": [
    "rolling = RollingFeatures(\n",
    "    stats = ['mean', 'std', 'median', 'max', 'min', 'sum', 'mean'],\n",
    "    window_sizes = [5, 6, 7, 6, 5, 5, 10],\n",
    "    # min_periods = [5, 5, 5, 5, 5, 4]\n",
    ")"
   ]
  },
  {
   "cell_type": "code",
   "execution_count": 31,
   "metadata": {},
   "outputs": [
    {
     "name": "stdout",
     "output_type": "stream",
     "text": [
      "Stats:  ['mean', 'std', 'median', 'max', 'min', 'sum', 'mean']\n",
      "Number of stats:  7\n",
      "Window sizes:  [5, 6, 7, 6, 5, 5, 10]\n",
      "Max window size:  10\n",
      "Min periods:  [5, 6, 7, 6, 5, 5, 10]\n",
      "Features names:  ['roll_mean_5', 'roll_std_6', 'roll_median_7', 'roll_max_6', 'roll_min_5', 'roll_sum_5', 'roll_mean_10']\n",
      "Fill strategy:  None\n"
     ]
    }
   ],
   "source": [
    "print('Stats: ', rolling.stats)\n",
    "print('Number of stats: ', rolling.n_stats)\n",
    "print('Window sizes: ', rolling.window_sizes)\n",
    "print('Max window size: ', rolling.max_window_size)\n",
    "print('Min periods: ', rolling.min_periods)\n",
    "print('Features names: ', rolling.features_names)\n",
    "print('Fill strategy: ', rolling.fill_strategy)"
   ]
  },
  {
   "cell_type": "code",
   "execution_count": 33,
   "metadata": {},
   "outputs": [
    {
     "name": "stdout",
     "output_type": "stream",
     "text": [
      "{'5_5': {'params': {'window': 5, 'min_periods': 5},\n",
      "         'stats_idx': [0, 4, 5],\n",
      "         'stats_names': ['roll_mean_5', 'roll_min_5', 'roll_sum_5'],\n",
      "         'rolling_obj': None},\n",
      " '6_6': {'params': {'window': 6, 'min_periods': 6},\n",
      "         'stats_idx': [1, 3],\n",
      "         'stats_names': ['roll_std_6', 'roll_max_6'],\n",
      "         'rolling_obj': None},\n",
      " '7_7': {'params': {'window': 7, 'min_periods': 7},\n",
      "         'stats_idx': [2],\n",
      "         'stats_names': ['roll_median_7'],\n",
      "         'rolling_obj': None},\n",
      " '10_10': {'params': {'window': 10, 'min_periods': 10},\n",
      "           'stats_idx': [6],\n",
      "           'stats_names': ['roll_mean_10'],\n",
      "           'rolling_obj': None}}\n"
     ]
    }
   ],
   "source": [
    "import pprint\n",
    "pprint.pp(rolling.unique_rolling_windows)"
   ]
  },
  {
   "cell_type": "code",
   "execution_count": 39,
   "metadata": {},
   "outputs": [
    {
     "data": {
      "text/html": [
       "<div>\n",
       "<style scoped>\n",
       "    .dataframe tbody tr th:only-of-type {\n",
       "        vertical-align: middle;\n",
       "    }\n",
       "\n",
       "    .dataframe tbody tr th {\n",
       "        vertical-align: top;\n",
       "    }\n",
       "\n",
       "    .dataframe thead th {\n",
       "        text-align: right;\n",
       "    }\n",
       "</style>\n",
       "<table border=\"1\" class=\"dataframe\">\n",
       "  <thead>\n",
       "    <tr style=\"text-align: right;\">\n",
       "      <th></th>\n",
       "      <th>roll_mean_5</th>\n",
       "      <th>roll_std_6</th>\n",
       "      <th>roll_median_7</th>\n",
       "      <th>roll_max_6</th>\n",
       "      <th>roll_min_5</th>\n",
       "      <th>roll_sum_5</th>\n",
       "      <th>roll_mean_10</th>\n",
       "    </tr>\n",
       "  </thead>\n",
       "  <tbody>\n",
       "    <tr>\n",
       "      <th>9</th>\n",
       "      <td>7.0</td>\n",
       "      <td>1.870829</td>\n",
       "      <td>6.0</td>\n",
       "      <td>9.0</td>\n",
       "      <td>5.0</td>\n",
       "      <td>35.0</td>\n",
       "      <td>4.5</td>\n",
       "    </tr>\n",
       "    <tr>\n",
       "      <th>10</th>\n",
       "      <td>8.0</td>\n",
       "      <td>1.870829</td>\n",
       "      <td>7.0</td>\n",
       "      <td>10.0</td>\n",
       "      <td>6.0</td>\n",
       "      <td>40.0</td>\n",
       "      <td>5.5</td>\n",
       "    </tr>\n",
       "    <tr>\n",
       "      <th>11</th>\n",
       "      <td>9.0</td>\n",
       "      <td>1.870829</td>\n",
       "      <td>8.0</td>\n",
       "      <td>11.0</td>\n",
       "      <td>7.0</td>\n",
       "      <td>45.0</td>\n",
       "      <td>6.5</td>\n",
       "    </tr>\n",
       "    <tr>\n",
       "      <th>12</th>\n",
       "      <td>10.0</td>\n",
       "      <td>1.870829</td>\n",
       "      <td>9.0</td>\n",
       "      <td>12.0</td>\n",
       "      <td>8.0</td>\n",
       "      <td>50.0</td>\n",
       "      <td>7.5</td>\n",
       "    </tr>\n",
       "    <tr>\n",
       "      <th>13</th>\n",
       "      <td>11.0</td>\n",
       "      <td>1.870829</td>\n",
       "      <td>10.0</td>\n",
       "      <td>13.0</td>\n",
       "      <td>9.0</td>\n",
       "      <td>55.0</td>\n",
       "      <td>8.5</td>\n",
       "    </tr>\n",
       "    <tr>\n",
       "      <th>14</th>\n",
       "      <td>12.0</td>\n",
       "      <td>1.870829</td>\n",
       "      <td>11.0</td>\n",
       "      <td>14.0</td>\n",
       "      <td>10.0</td>\n",
       "      <td>60.0</td>\n",
       "      <td>9.5</td>\n",
       "    </tr>\n",
       "  </tbody>\n",
       "</table>\n",
       "</div>"
      ],
      "text/plain": [
       "    roll_mean_5  roll_std_6  roll_median_7  roll_max_6  roll_min_5  \\\n",
       "9           7.0    1.870829            6.0         9.0         5.0   \n",
       "10          8.0    1.870829            7.0        10.0         6.0   \n",
       "11          9.0    1.870829            8.0        11.0         7.0   \n",
       "12         10.0    1.870829            9.0        12.0         8.0   \n",
       "13         11.0    1.870829           10.0        13.0         9.0   \n",
       "14         12.0    1.870829           11.0        14.0        10.0   \n",
       "\n",
       "    roll_sum_5  roll_mean_10  \n",
       "9         35.0           4.5  \n",
       "10        40.0           5.5  \n",
       "11        45.0           6.5  \n",
       "12        50.0           7.5  \n",
       "13        55.0           8.5  \n",
       "14        60.0           9.5  "
      ]
     },
     "execution_count": 39,
     "metadata": {},
     "output_type": "execute_result"
    }
   ],
   "source": [
    "series = pd.Series(np.arange(15), name='series')\n",
    "# series.iloc[7] = np.nan\n",
    "\n",
    "df_roll = rolling.transform_batch(series)\n",
    "df_roll"
   ]
  },
  {
   "cell_type": "code",
   "execution_count": 43,
   "metadata": {},
   "outputs": [
    {
     "data": {
      "text/plain": [
       "pandas.core.window.rolling.Rolling"
      ]
     },
     "execution_count": 43,
     "metadata": {},
     "output_type": "execute_result"
    }
   ],
   "source": [
    "type(rolling.unique_rolling_windows['5_5']['rolling_obj'])"
   ]
  },
  {
   "cell_type": "code",
   "execution_count": 47,
   "metadata": {},
   "outputs": [
    {
     "data": {
      "text/html": [
       "<div>\n",
       "<style scoped>\n",
       "    .dataframe tbody tr th:only-of-type {\n",
       "        vertical-align: middle;\n",
       "    }\n",
       "\n",
       "    .dataframe tbody tr th {\n",
       "        vertical-align: top;\n",
       "    }\n",
       "\n",
       "    .dataframe thead th {\n",
       "        text-align: right;\n",
       "    }\n",
       "</style>\n",
       "<table border=\"1\" class=\"dataframe\">\n",
       "  <thead>\n",
       "    <tr style=\"text-align: right;\">\n",
       "      <th></th>\n",
       "      <th>roll_mean_5</th>\n",
       "      <th>roll_std_6</th>\n",
       "      <th>roll_median_7</th>\n",
       "      <th>roll_max_6</th>\n",
       "      <th>roll_min_5</th>\n",
       "      <th>roll_sum_5</th>\n",
       "    </tr>\n",
       "  </thead>\n",
       "  <tbody>\n",
       "    <tr>\n",
       "      <th>0</th>\n",
       "      <td>7.0</td>\n",
       "      <td>1.870829</td>\n",
       "      <td>7.0</td>\n",
       "      <td>9.5</td>\n",
       "      <td>5.0</td>\n",
       "      <td>35.0</td>\n",
       "    </tr>\n",
       "    <tr>\n",
       "      <th>1</th>\n",
       "      <td>7.0</td>\n",
       "      <td>1.870829</td>\n",
       "      <td>7.0</td>\n",
       "      <td>9.5</td>\n",
       "      <td>5.0</td>\n",
       "      <td>35.0</td>\n",
       "    </tr>\n",
       "    <tr>\n",
       "      <th>2</th>\n",
       "      <td>7.0</td>\n",
       "      <td>1.870829</td>\n",
       "      <td>7.0</td>\n",
       "      <td>9.5</td>\n",
       "      <td>5.0</td>\n",
       "      <td>35.0</td>\n",
       "    </tr>\n",
       "    <tr>\n",
       "      <th>3</th>\n",
       "      <td>7.0</td>\n",
       "      <td>1.870829</td>\n",
       "      <td>7.0</td>\n",
       "      <td>9.5</td>\n",
       "      <td>5.0</td>\n",
       "      <td>35.0</td>\n",
       "    </tr>\n",
       "    <tr>\n",
       "      <th>4</th>\n",
       "      <td>2.0</td>\n",
       "      <td>1.870829</td>\n",
       "      <td>7.0</td>\n",
       "      <td>9.5</td>\n",
       "      <td>0.0</td>\n",
       "      <td>10.0</td>\n",
       "    </tr>\n",
       "    <tr>\n",
       "      <th>5</th>\n",
       "      <td>3.0</td>\n",
       "      <td>1.870829</td>\n",
       "      <td>7.0</td>\n",
       "      <td>5.0</td>\n",
       "      <td>1.0</td>\n",
       "      <td>15.0</td>\n",
       "    </tr>\n",
       "    <tr>\n",
       "      <th>6</th>\n",
       "      <td>4.0</td>\n",
       "      <td>1.870829</td>\n",
       "      <td>3.0</td>\n",
       "      <td>6.0</td>\n",
       "      <td>2.0</td>\n",
       "      <td>20.0</td>\n",
       "    </tr>\n",
       "    <tr>\n",
       "      <th>7</th>\n",
       "      <td>7.0</td>\n",
       "      <td>1.870829</td>\n",
       "      <td>7.0</td>\n",
       "      <td>9.5</td>\n",
       "      <td>5.0</td>\n",
       "      <td>35.0</td>\n",
       "    </tr>\n",
       "    <tr>\n",
       "      <th>8</th>\n",
       "      <td>7.0</td>\n",
       "      <td>1.870829</td>\n",
       "      <td>7.0</td>\n",
       "      <td>9.5</td>\n",
       "      <td>5.0</td>\n",
       "      <td>35.0</td>\n",
       "    </tr>\n",
       "    <tr>\n",
       "      <th>9</th>\n",
       "      <td>7.0</td>\n",
       "      <td>1.870829</td>\n",
       "      <td>7.0</td>\n",
       "      <td>9.5</td>\n",
       "      <td>5.0</td>\n",
       "      <td>35.0</td>\n",
       "    </tr>\n",
       "    <tr>\n",
       "      <th>10</th>\n",
       "      <td>7.0</td>\n",
       "      <td>1.870829</td>\n",
       "      <td>7.0</td>\n",
       "      <td>9.5</td>\n",
       "      <td>5.0</td>\n",
       "      <td>35.0</td>\n",
       "    </tr>\n",
       "    <tr>\n",
       "      <th>11</th>\n",
       "      <td>7.0</td>\n",
       "      <td>1.870829</td>\n",
       "      <td>7.0</td>\n",
       "      <td>9.5</td>\n",
       "      <td>5.0</td>\n",
       "      <td>35.0</td>\n",
       "    </tr>\n",
       "    <tr>\n",
       "      <th>12</th>\n",
       "      <td>10.0</td>\n",
       "      <td>1.870829</td>\n",
       "      <td>7.0</td>\n",
       "      <td>9.5</td>\n",
       "      <td>8.0</td>\n",
       "      <td>50.0</td>\n",
       "    </tr>\n",
       "    <tr>\n",
       "      <th>13</th>\n",
       "      <td>11.0</td>\n",
       "      <td>1.870829</td>\n",
       "      <td>7.0</td>\n",
       "      <td>13.0</td>\n",
       "      <td>9.0</td>\n",
       "      <td>55.0</td>\n",
       "    </tr>\n",
       "    <tr>\n",
       "      <th>14</th>\n",
       "      <td>12.0</td>\n",
       "      <td>1.870829</td>\n",
       "      <td>11.0</td>\n",
       "      <td>14.0</td>\n",
       "      <td>10.0</td>\n",
       "      <td>60.0</td>\n",
       "    </tr>\n",
       "  </tbody>\n",
       "</table>\n",
       "</div>"
      ],
      "text/plain": [
       "    roll_mean_5  roll_std_6  roll_median_7  roll_max_6  roll_min_5  roll_sum_5\n",
       "0           7.0    1.870829            7.0         9.5         5.0        35.0\n",
       "1           7.0    1.870829            7.0         9.5         5.0        35.0\n",
       "2           7.0    1.870829            7.0         9.5         5.0        35.0\n",
       "3           7.0    1.870829            7.0         9.5         5.0        35.0\n",
       "4           2.0    1.870829            7.0         9.5         0.0        10.0\n",
       "5           3.0    1.870829            7.0         5.0         1.0        15.0\n",
       "6           4.0    1.870829            3.0         6.0         2.0        20.0\n",
       "7           7.0    1.870829            7.0         9.5         5.0        35.0\n",
       "8           7.0    1.870829            7.0         9.5         5.0        35.0\n",
       "9           7.0    1.870829            7.0         9.5         5.0        35.0\n",
       "10          7.0    1.870829            7.0         9.5         5.0        35.0\n",
       "11          7.0    1.870829            7.0         9.5         5.0        35.0\n",
       "12         10.0    1.870829            7.0         9.5         8.0        50.0\n",
       "13         11.0    1.870829            7.0        13.0         9.0        55.0\n",
       "14         12.0    1.870829           11.0        14.0        10.0        60.0"
      ]
     },
     "execution_count": 47,
     "metadata": {},
     "output_type": "execute_result"
    }
   ],
   "source": [
    "df_roll.fillna(df_roll.mean())"
   ]
  },
  {
   "cell_type": "code",
   "execution_count": 46,
   "metadata": {},
   "outputs": [
    {
     "data": {
      "text/html": [
       "<div>\n",
       "<style scoped>\n",
       "    .dataframe tbody tr th:only-of-type {\n",
       "        vertical-align: middle;\n",
       "    }\n",
       "\n",
       "    .dataframe tbody tr th {\n",
       "        vertical-align: top;\n",
       "    }\n",
       "\n",
       "    .dataframe thead th {\n",
       "        text-align: right;\n",
       "    }\n",
       "</style>\n",
       "<table border=\"1\" class=\"dataframe\">\n",
       "  <thead>\n",
       "    <tr style=\"text-align: right;\">\n",
       "      <th></th>\n",
       "      <th>roll_mean_5</th>\n",
       "      <th>roll_std_6</th>\n",
       "      <th>roll_median_7</th>\n",
       "      <th>roll_max_6</th>\n",
       "      <th>roll_min_5</th>\n",
       "      <th>roll_sum_5</th>\n",
       "    </tr>\n",
       "  </thead>\n",
       "  <tbody>\n",
       "    <tr>\n",
       "      <th>0</th>\n",
       "      <td>NaN</td>\n",
       "      <td>NaN</td>\n",
       "      <td>NaN</td>\n",
       "      <td>NaN</td>\n",
       "      <td>NaN</td>\n",
       "      <td>NaN</td>\n",
       "    </tr>\n",
       "    <tr>\n",
       "      <th>1</th>\n",
       "      <td>NaN</td>\n",
       "      <td>NaN</td>\n",
       "      <td>NaN</td>\n",
       "      <td>NaN</td>\n",
       "      <td>NaN</td>\n",
       "      <td>NaN</td>\n",
       "    </tr>\n",
       "    <tr>\n",
       "      <th>2</th>\n",
       "      <td>NaN</td>\n",
       "      <td>NaN</td>\n",
       "      <td>NaN</td>\n",
       "      <td>NaN</td>\n",
       "      <td>NaN</td>\n",
       "      <td>NaN</td>\n",
       "    </tr>\n",
       "    <tr>\n",
       "      <th>3</th>\n",
       "      <td>NaN</td>\n",
       "      <td>NaN</td>\n",
       "      <td>NaN</td>\n",
       "      <td>NaN</td>\n",
       "      <td>NaN</td>\n",
       "      <td>NaN</td>\n",
       "    </tr>\n",
       "    <tr>\n",
       "      <th>4</th>\n",
       "      <td>2.0</td>\n",
       "      <td>NaN</td>\n",
       "      <td>NaN</td>\n",
       "      <td>NaN</td>\n",
       "      <td>0.0</td>\n",
       "      <td>10.0</td>\n",
       "    </tr>\n",
       "    <tr>\n",
       "      <th>5</th>\n",
       "      <td>3.0</td>\n",
       "      <td>1.870829</td>\n",
       "      <td>NaN</td>\n",
       "      <td>5.0</td>\n",
       "      <td>1.0</td>\n",
       "      <td>15.0</td>\n",
       "    </tr>\n",
       "    <tr>\n",
       "      <th>6</th>\n",
       "      <td>4.0</td>\n",
       "      <td>1.870829</td>\n",
       "      <td>3.0</td>\n",
       "      <td>6.0</td>\n",
       "      <td>2.0</td>\n",
       "      <td>20.0</td>\n",
       "    </tr>\n",
       "    <tr>\n",
       "      <th>7</th>\n",
       "      <td>4.0</td>\n",
       "      <td>1.870829</td>\n",
       "      <td>3.0</td>\n",
       "      <td>6.0</td>\n",
       "      <td>2.0</td>\n",
       "      <td>20.0</td>\n",
       "    </tr>\n",
       "    <tr>\n",
       "      <th>8</th>\n",
       "      <td>4.0</td>\n",
       "      <td>1.870829</td>\n",
       "      <td>3.0</td>\n",
       "      <td>6.0</td>\n",
       "      <td>2.0</td>\n",
       "      <td>20.0</td>\n",
       "    </tr>\n",
       "    <tr>\n",
       "      <th>9</th>\n",
       "      <td>4.0</td>\n",
       "      <td>1.870829</td>\n",
       "      <td>3.0</td>\n",
       "      <td>6.0</td>\n",
       "      <td>2.0</td>\n",
       "      <td>20.0</td>\n",
       "    </tr>\n",
       "    <tr>\n",
       "      <th>10</th>\n",
       "      <td>4.0</td>\n",
       "      <td>1.870829</td>\n",
       "      <td>3.0</td>\n",
       "      <td>6.0</td>\n",
       "      <td>2.0</td>\n",
       "      <td>20.0</td>\n",
       "    </tr>\n",
       "    <tr>\n",
       "      <th>11</th>\n",
       "      <td>4.0</td>\n",
       "      <td>1.870829</td>\n",
       "      <td>3.0</td>\n",
       "      <td>6.0</td>\n",
       "      <td>2.0</td>\n",
       "      <td>20.0</td>\n",
       "    </tr>\n",
       "    <tr>\n",
       "      <th>12</th>\n",
       "      <td>10.0</td>\n",
       "      <td>1.870829</td>\n",
       "      <td>3.0</td>\n",
       "      <td>6.0</td>\n",
       "      <td>8.0</td>\n",
       "      <td>50.0</td>\n",
       "    </tr>\n",
       "    <tr>\n",
       "      <th>13</th>\n",
       "      <td>11.0</td>\n",
       "      <td>1.870829</td>\n",
       "      <td>3.0</td>\n",
       "      <td>13.0</td>\n",
       "      <td>9.0</td>\n",
       "      <td>55.0</td>\n",
       "    </tr>\n",
       "    <tr>\n",
       "      <th>14</th>\n",
       "      <td>12.0</td>\n",
       "      <td>1.870829</td>\n",
       "      <td>11.0</td>\n",
       "      <td>14.0</td>\n",
       "      <td>10.0</td>\n",
       "      <td>60.0</td>\n",
       "    </tr>\n",
       "  </tbody>\n",
       "</table>\n",
       "</div>"
      ],
      "text/plain": [
       "    roll_mean_5  roll_std_6  roll_median_7  roll_max_6  roll_min_5  roll_sum_5\n",
       "0           NaN         NaN            NaN         NaN         NaN         NaN\n",
       "1           NaN         NaN            NaN         NaN         NaN         NaN\n",
       "2           NaN         NaN            NaN         NaN         NaN         NaN\n",
       "3           NaN         NaN            NaN         NaN         NaN         NaN\n",
       "4           2.0         NaN            NaN         NaN         0.0        10.0\n",
       "5           3.0    1.870829            NaN         5.0         1.0        15.0\n",
       "6           4.0    1.870829            3.0         6.0         2.0        20.0\n",
       "7           4.0    1.870829            3.0         6.0         2.0        20.0\n",
       "8           4.0    1.870829            3.0         6.0         2.0        20.0\n",
       "9           4.0    1.870829            3.0         6.0         2.0        20.0\n",
       "10          4.0    1.870829            3.0         6.0         2.0        20.0\n",
       "11          4.0    1.870829            3.0         6.0         2.0        20.0\n",
       "12         10.0    1.870829            3.0         6.0         8.0        50.0\n",
       "13         11.0    1.870829            3.0        13.0         9.0        55.0\n",
       "14         12.0    1.870829           11.0        14.0        10.0        60.0"
      ]
     },
     "execution_count": 46,
     "metadata": {},
     "output_type": "execute_result"
    }
   ],
   "source": [
    "df_roll.ffill()"
   ]
  },
  {
   "cell_type": "code",
   "execution_count": 34,
   "metadata": {},
   "outputs": [
    {
     "data": {
      "text/plain": [
       "6      4.0\n",
       "7     10.5\n",
       "8     10.5\n",
       "9     10.5\n",
       "10    10.5\n",
       "11    10.5\n",
       "12    10.0\n",
       "13    11.0\n",
       "14    12.0\n",
       "Name: roll_mean_5, dtype: float64"
      ]
     },
     "execution_count": 34,
     "metadata": {},
     "output_type": "execute_result"
    }
   ],
   "source": [
    "df_roll['roll_mean_5'].fillna(df_roll['roll_mean_5'].median())"
   ]
  },
  {
   "cell_type": "code",
   "execution_count": 35,
   "metadata": {},
   "outputs": [
    {
     "data": {
      "text/plain": [
       "6      4.0\n",
       "7     10.0\n",
       "8     10.0\n",
       "9     10.0\n",
       "10    10.0\n",
       "11    10.0\n",
       "12    10.0\n",
       "13    11.0\n",
       "14    12.0\n",
       "Name: roll_mean_5, dtype: float64"
      ]
     },
     "execution_count": 35,
     "metadata": {},
     "output_type": "execute_result"
    }
   ],
   "source": [
    "df_roll['roll_mean_5'].bfill()"
   ]
  },
  {
   "cell_type": "code",
   "execution_count": 31,
   "metadata": {},
   "outputs": [
    {
     "name": "stderr",
     "output_type": "stream",
     "text": [
      "C:\\Users\\jaesc2\\AppData\\Local\\Temp\\ipykernel_29004\\3132547451.py:1: FutureWarning: Series.fillna with 'method' is deprecated and will raise in a future version. Use obj.ffill() or obj.bfill() instead.\n",
      "  df_roll['roll_mean_5'].fillna(method='ffill')\n"
     ]
    },
    {
     "data": {
      "text/plain": [
       "6      4.0\n",
       "7      4.0\n",
       "8      4.0\n",
       "9      4.0\n",
       "10     4.0\n",
       "11     4.0\n",
       "12    10.0\n",
       "13    11.0\n",
       "14    12.0\n",
       "Name: roll_mean_5, dtype: float64"
      ]
     },
     "execution_count": 31,
     "metadata": {},
     "output_type": "execute_result"
    }
   ],
   "source": [
    "df_roll['roll_mean_5'].fillna(method='ffill')"
   ]
  },
  {
   "cell_type": "code",
   "execution_count": 39,
   "metadata": {},
   "outputs": [
    {
     "data": {
      "text/plain": [
       "6      4.0\n",
       "7      1.0\n",
       "8      1.0\n",
       "9      1.0\n",
       "10     1.0\n",
       "11     1.0\n",
       "12    10.0\n",
       "13    11.0\n",
       "14    12.0\n",
       "Name: roll_mean_5, dtype: float64"
      ]
     },
     "execution_count": 39,
     "metadata": {},
     "output_type": "execute_result"
    }
   ],
   "source": [
    "df_roll['roll_mean_5'].fillna(1.)"
   ]
  },
  {
   "cell_type": "code",
   "execution_count": null,
   "metadata": {},
   "outputs": [],
   "source": []
  },
  {
   "cell_type": "code",
   "execution_count": null,
   "metadata": {},
   "outputs": [],
   "source": []
  },
  {
   "cell_type": "code",
   "execution_count": null,
   "metadata": {},
   "outputs": [],
   "source": [
    "rolling = RollingFeatures(\n",
    "    stats = ['mean', 'std', 'median', 'max', 'min', 'sum'],\n",
    "    window_sizes = [5, 6, 7, 6, 5, 5],\n",
    "    # min_periods = [5, 5, 5, 5, 5, 4]\n",
    ")"
   ]
  },
  {
   "cell_type": "code",
   "execution_count": 58,
   "metadata": {},
   "outputs": [],
   "source": [
    "@njit\n",
    "def _np_min_max_ratio_jit(x):\n",
    "    return np.min(x) / np.max(x)"
   ]
  },
  {
   "cell_type": "code",
   "execution_count": 54,
   "metadata": {},
   "outputs": [],
   "source": [
    "@njit\n",
    "def _np_mean_jit(x):\n",
    "    return np.mean(x)"
   ]
  },
  {
   "cell_type": "code",
   "execution_count": 50,
   "metadata": {},
   "outputs": [],
   "source": [
    "@njit\n",
    "def _np_cv_jit(x):\n",
    "    a_a, b_b = 0, 0\n",
    "    for i in x:\n",
    "        a_a = a_a + i\n",
    "        b_b = b_b + i * i\n",
    "    var = b_b / (len(x)) - ((a_a / (len(x))) ** 2)\n",
    "    var = var * (len(x) / (len(x) - 1))\n",
    "    std = np.sqrt(var)\n",
    "\n",
    "    return std / np.mean(x)"
   ]
  },
  {
   "cell_type": "code",
   "execution_count": 52,
   "metadata": {},
   "outputs": [],
   "source": [
    "arr = np.arange(10000)"
   ]
  },
  {
   "cell_type": "code",
   "execution_count": 56,
   "metadata": {},
   "outputs": [
    {
     "name": "stdout",
     "output_type": "stream",
     "text": [
      "13 ms ± 40.2 μs per loop (mean ± std. dev. of 7 runs, 100 loops each)\n"
     ]
    }
   ],
   "source": [
    "%%timeit\n",
    "\n",
    "for _ in range(1000):\n",
    "    _np_cv_jit(arr)"
   ]
  },
  {
   "cell_type": "code",
   "execution_count": 55,
   "metadata": {},
   "outputs": [
    {
     "name": "stdout",
     "output_type": "stream",
     "text": [
      "9.54 ms ± 7.74 μs per loop (mean ± std. dev. of 7 runs, 100 loops each)\n"
     ]
    }
   ],
   "source": [
    "%%timeit\n",
    "\n",
    "for _ in range(1000):\n",
    "    _np_mean_jit(arr)"
   ]
  },
  {
   "cell_type": "code",
   "execution_count": 59,
   "metadata": {},
   "outputs": [
    {
     "name": "stdout",
     "output_type": "stream",
     "text": [
      "3.92 ms ± 137 μs per loop (mean ± std. dev. of 7 runs, 1 loop each)\n"
     ]
    }
   ],
   "source": [
    "%%timeit\n",
    "\n",
    "for _ in range(1000):\n",
    "    _np_min_max_ratio_jit(arr)"
   ]
  },
  {
   "cell_type": "code",
   "execution_count": 4,
   "metadata": {},
   "outputs": [],
   "source": [
    "arr = np.arange(10000)"
   ]
  },
  {
   "cell_type": "code",
   "execution_count": 5,
   "metadata": {},
   "outputs": [],
   "source": [
    "rolling = RollingFeatures(\n",
    "    stats = ['mean', 'std', 'median', 'max', 'min', 'sum'],\n",
    "    window_sizes = [10, 10, 10, 10, 10, 10],\n",
    ")"
   ]
  },
  {
   "cell_type": "code",
   "execution_count": 6,
   "metadata": {},
   "outputs": [
    {
     "name": "stdout",
     "output_type": "stream",
     "text": [
      "14.9 ms ± 614 μs per loop (mean ± std. dev. of 7 runs, 1 loop each)\n"
     ]
    }
   ],
   "source": [
    "%%timeit\n",
    "\n",
    "for _ in range(1000):\n",
    "    rolling.transform(arr)"
   ]
  },
  {
   "cell_type": "code",
   "execution_count": 7,
   "metadata": {},
   "outputs": [],
   "source": [
    "rolling = RollingFeatures(\n",
    "    stats = ['mean', 'std', 'min', 'max', 'sum', 'median', 'ratio_min_max', 'coef_variation'],\n",
    "    window_sizes = [10, 10, 10, 10, 10, 10, 10, 10],\n",
    ")"
   ]
  },
  {
   "cell_type": "code",
   "execution_count": 8,
   "metadata": {},
   "outputs": [
    {
     "name": "stdout",
     "output_type": "stream",
     "text": [
      "16.8 ms ± 902 μs per loop (mean ± std. dev. of 7 runs, 1 loop each)\n"
     ]
    }
   ],
   "source": [
    "%%timeit\n",
    "\n",
    "for _ in range(1000):\n",
    "    rolling.transform(arr)"
   ]
  },
  {
   "cell_type": "code",
   "execution_count": 9,
   "metadata": {},
   "outputs": [],
   "source": [
    "series = pd.Series(np.arange(10000), name='y')"
   ]
  },
  {
   "cell_type": "code",
   "execution_count": 17,
   "metadata": {},
   "outputs": [],
   "source": [
    "df_1 = rolling.transform_batch(series)\n",
    "df_2 = rolling.transform_batch_2(series)\n",
    "\n",
    "pd.testing.assert_frame_equal(df_1, df_2)"
   ]
  },
  {
   "cell_type": "code",
   "execution_count": 18,
   "metadata": {},
   "outputs": [
    {
     "data": {
      "text/html": [
       "<div>\n",
       "<style scoped>\n",
       "    .dataframe tbody tr th:only-of-type {\n",
       "        vertical-align: middle;\n",
       "    }\n",
       "\n",
       "    .dataframe tbody tr th {\n",
       "        vertical-align: top;\n",
       "    }\n",
       "\n",
       "    .dataframe thead th {\n",
       "        text-align: right;\n",
       "    }\n",
       "</style>\n",
       "<table border=\"1\" class=\"dataframe\">\n",
       "  <thead>\n",
       "    <tr style=\"text-align: right;\">\n",
       "      <th></th>\n",
       "      <th>roll_mean_10</th>\n",
       "      <th>roll_std_10</th>\n",
       "      <th>roll_min_10</th>\n",
       "      <th>roll_max_10</th>\n",
       "      <th>roll_sum_10</th>\n",
       "      <th>roll_median_10</th>\n",
       "      <th>roll_ratio_min_max_10</th>\n",
       "      <th>roll_coef_variation_10</th>\n",
       "    </tr>\n",
       "  </thead>\n",
       "  <tbody>\n",
       "    <tr>\n",
       "      <th>9</th>\n",
       "      <td>4.5</td>\n",
       "      <td>3.02765</td>\n",
       "      <td>0.0</td>\n",
       "      <td>9.0</td>\n",
       "      <td>45.0</td>\n",
       "      <td>4.5</td>\n",
       "      <td>0.000000</td>\n",
       "      <td>0.672811</td>\n",
       "    </tr>\n",
       "    <tr>\n",
       "      <th>10</th>\n",
       "      <td>5.5</td>\n",
       "      <td>3.02765</td>\n",
       "      <td>1.0</td>\n",
       "      <td>10.0</td>\n",
       "      <td>55.0</td>\n",
       "      <td>5.5</td>\n",
       "      <td>0.100000</td>\n",
       "      <td>0.550482</td>\n",
       "    </tr>\n",
       "    <tr>\n",
       "      <th>11</th>\n",
       "      <td>6.5</td>\n",
       "      <td>3.02765</td>\n",
       "      <td>2.0</td>\n",
       "      <td>11.0</td>\n",
       "      <td>65.0</td>\n",
       "      <td>6.5</td>\n",
       "      <td>0.181818</td>\n",
       "      <td>0.465792</td>\n",
       "    </tr>\n",
       "    <tr>\n",
       "      <th>12</th>\n",
       "      <td>7.5</td>\n",
       "      <td>3.02765</td>\n",
       "      <td>3.0</td>\n",
       "      <td>12.0</td>\n",
       "      <td>75.0</td>\n",
       "      <td>7.5</td>\n",
       "      <td>0.250000</td>\n",
       "      <td>0.403687</td>\n",
       "    </tr>\n",
       "    <tr>\n",
       "      <th>13</th>\n",
       "      <td>8.5</td>\n",
       "      <td>3.02765</td>\n",
       "      <td>4.0</td>\n",
       "      <td>13.0</td>\n",
       "      <td>85.0</td>\n",
       "      <td>8.5</td>\n",
       "      <td>0.307692</td>\n",
       "      <td>0.356194</td>\n",
       "    </tr>\n",
       "  </tbody>\n",
       "</table>\n",
       "</div>"
      ],
      "text/plain": [
       "    roll_mean_10  roll_std_10  roll_min_10  roll_max_10  roll_sum_10  \\\n",
       "9            4.5      3.02765          0.0          9.0         45.0   \n",
       "10           5.5      3.02765          1.0         10.0         55.0   \n",
       "11           6.5      3.02765          2.0         11.0         65.0   \n",
       "12           7.5      3.02765          3.0         12.0         75.0   \n",
       "13           8.5      3.02765          4.0         13.0         85.0   \n",
       "\n",
       "    roll_median_10  roll_ratio_min_max_10  roll_coef_variation_10  \n",
       "9              4.5               0.000000                0.672811  \n",
       "10             5.5               0.100000                0.550482  \n",
       "11             6.5               0.181818                0.465792  \n",
       "12             7.5               0.250000                0.403687  \n",
       "13             8.5               0.307692                0.356194  "
      ]
     },
     "execution_count": 18,
     "metadata": {},
     "output_type": "execute_result"
    }
   ],
   "source": [
    "df_2.head()"
   ]
  },
  {
   "cell_type": "code",
   "execution_count": 16,
   "metadata": {},
   "outputs": [
    {
     "name": "stdout",
     "output_type": "stream",
     "text": [
      "5.5 ms ± 129 μs per loop (mean ± std. dev. of 7 runs, 100 loops each)\n"
     ]
    }
   ],
   "source": [
    "%%timeit\n",
    "\n",
    "rolling.transform_batch_2(series).to_numpy()"
   ]
  },
  {
   "cell_type": "code",
   "execution_count": 4,
   "metadata": {},
   "outputs": [],
   "source": [
    "stats = ['mean', 'std', 'min', 'max', 'sum', 'median', \n",
    "             'ratio_min_max', 'coef_variation']\n",
    "    \n",
    "rolling = RollingFeatures(stats=stats, window_sizes=10)\n",
    "X_window = X.iloc[-10:]"
   ]
  },
  {
   "cell_type": "code",
   "execution_count": 9,
   "metadata": {},
   "outputs": [
    {
     "data": {
      "text/plain": [
       "np.float64(0.5189421270000001)"
      ]
     },
     "execution_count": 9,
     "metadata": {},
     "output_type": "execute_result"
    }
   ],
   "source": [
    "rolling_obj = X_window.rolling(**rolling.unique_rolling_windows['10_10']['params'])\n",
    "rolling_obj.mean().iat[-1]"
   ]
  },
  {
   "cell_type": "code",
   "execution_count": 13,
   "metadata": {},
   "outputs": [
    {
     "data": {
      "text/html": [
       "<div>\n",
       "<style scoped>\n",
       "    .dataframe tbody tr th:only-of-type {\n",
       "        vertical-align: middle;\n",
       "    }\n",
       "\n",
       "    .dataframe tbody tr th {\n",
       "        vertical-align: top;\n",
       "    }\n",
       "\n",
       "    .dataframe thead th {\n",
       "        text-align: right;\n",
       "    }\n",
       "</style>\n",
       "<table border=\"1\" class=\"dataframe\">\n",
       "  <thead>\n",
       "    <tr style=\"text-align: right;\">\n",
       "      <th></th>\n",
       "      <th>roll_mean_4</th>\n",
       "      <th>roll_std_4</th>\n",
       "      <th>roll_min_4</th>\n",
       "      <th>roll_max_4</th>\n",
       "      <th>roll_sum_4</th>\n",
       "      <th>roll_median_4</th>\n",
       "      <th>roll_ratio_min_max_4</th>\n",
       "      <th>roll_coef_variation_4</th>\n",
       "    </tr>\n",
       "  </thead>\n",
       "  <tbody>\n",
       "    <tr>\n",
       "      <th>3</th>\n",
       "      <td>0.440194</td>\n",
       "      <td>0.221565</td>\n",
       "      <td>0.226851</td>\n",
       "      <td>0.696469</td>\n",
       "      <td>1.760775</td>\n",
       "      <td>0.418727</td>\n",
       "      <td>0.325716</td>\n",
       "      <td>0.503334</td>\n",
       "    </tr>\n",
       "    <tr>\n",
       "      <th>4</th>\n",
       "      <td>0.445944</td>\n",
       "      <td>0.230549</td>\n",
       "      <td>0.226851</td>\n",
       "      <td>0.719469</td>\n",
       "      <td>1.783775</td>\n",
       "      <td>0.418727</td>\n",
       "      <td>0.315304</td>\n",
       "      <td>0.516990</td>\n",
       "    </tr>\n",
       "    <tr>\n",
       "      <th>5</th>\n",
       "      <td>0.480185</td>\n",
       "      <td>0.207968</td>\n",
       "      <td>0.226851</td>\n",
       "      <td>0.719469</td>\n",
       "      <td>1.920742</td>\n",
       "      <td>0.487211</td>\n",
       "      <td>0.315304</td>\n",
       "      <td>0.433099</td>\n",
       "    </tr>\n",
       "    <tr>\n",
       "      <th>6</th>\n",
       "      <td>0.668664</td>\n",
       "      <td>0.240871</td>\n",
       "      <td>0.423106</td>\n",
       "      <td>0.980764</td>\n",
       "      <td>2.674654</td>\n",
       "      <td>0.635392</td>\n",
       "      <td>0.431405</td>\n",
       "      <td>0.360228</td>\n",
       "    </tr>\n",
       "    <tr>\n",
       "      <th>7</th>\n",
       "      <td>0.702042</td>\n",
       "      <td>0.228102</td>\n",
       "      <td>0.423106</td>\n",
       "      <td>0.980764</td>\n",
       "      <td>2.808169</td>\n",
       "      <td>0.702149</td>\n",
       "      <td>0.431405</td>\n",
       "      <td>0.324911</td>\n",
       "    </tr>\n",
       "    <tr>\n",
       "      <th>8</th>\n",
       "      <td>0.642408</td>\n",
       "      <td>0.251960</td>\n",
       "      <td>0.423106</td>\n",
       "      <td>0.980764</td>\n",
       "      <td>2.569632</td>\n",
       "      <td>0.582881</td>\n",
       "      <td>0.431405</td>\n",
       "      <td>0.392212</td>\n",
       "    </tr>\n",
       "    <tr>\n",
       "      <th>9</th>\n",
       "      <td>0.634661</td>\n",
       "      <td>0.261256</td>\n",
       "      <td>0.392118</td>\n",
       "      <td>0.980764</td>\n",
       "      <td>2.538643</td>\n",
       "      <td>0.582881</td>\n",
       "      <td>0.399808</td>\n",
       "      <td>0.411647</td>\n",
       "    </tr>\n",
       "    <tr>\n",
       "      <th>10</th>\n",
       "      <td>0.475264</td>\n",
       "      <td>0.150897</td>\n",
       "      <td>0.343178</td>\n",
       "      <td>0.684830</td>\n",
       "      <td>1.901057</td>\n",
       "      <td>0.436525</td>\n",
       "      <td>0.501114</td>\n",
       "      <td>0.317502</td>\n",
       "    </tr>\n",
       "    <tr>\n",
       "      <th>11</th>\n",
       "      <td>0.486319</td>\n",
       "      <td>0.171572</td>\n",
       "      <td>0.343178</td>\n",
       "      <td>0.729050</td>\n",
       "      <td>1.945277</td>\n",
       "      <td>0.436525</td>\n",
       "      <td>0.470720</td>\n",
       "      <td>0.352796</td>\n",
       "    </tr>\n",
       "    <tr>\n",
       "      <th>12</th>\n",
       "      <td>0.475729</td>\n",
       "      <td>0.173313</td>\n",
       "      <td>0.343178</td>\n",
       "      <td>0.729050</td>\n",
       "      <td>1.902917</td>\n",
       "      <td>0.415345</td>\n",
       "      <td>0.470720</td>\n",
       "      <td>0.364311</td>\n",
       "    </tr>\n",
       "  </tbody>\n",
       "</table>\n",
       "</div>"
      ],
      "text/plain": [
       "    roll_mean_4  roll_std_4  roll_min_4  roll_max_4  roll_sum_4  \\\n",
       "3      0.440194    0.221565    0.226851    0.696469    1.760775   \n",
       "4      0.445944    0.230549    0.226851    0.719469    1.783775   \n",
       "5      0.480185    0.207968    0.226851    0.719469    1.920742   \n",
       "6      0.668664    0.240871    0.423106    0.980764    2.674654   \n",
       "7      0.702042    0.228102    0.423106    0.980764    2.808169   \n",
       "8      0.642408    0.251960    0.423106    0.980764    2.569632   \n",
       "9      0.634661    0.261256    0.392118    0.980764    2.538643   \n",
       "10     0.475264    0.150897    0.343178    0.684830    1.901057   \n",
       "11     0.486319    0.171572    0.343178    0.729050    1.945277   \n",
       "12     0.475729    0.173313    0.343178    0.729050    1.902917   \n",
       "\n",
       "    roll_median_4  roll_ratio_min_max_4  roll_coef_variation_4  \n",
       "3        0.418727              0.325716               0.503334  \n",
       "4        0.418727              0.315304               0.516990  \n",
       "5        0.487211              0.315304               0.433099  \n",
       "6        0.635392              0.431405               0.360228  \n",
       "7        0.702149              0.431405               0.324911  \n",
       "8        0.582881              0.431405               0.392212  \n",
       "9        0.582881              0.399808               0.411647  \n",
       "10       0.436525              0.501114               0.317502  \n",
       "11       0.436525              0.470720               0.352796  \n",
       "12       0.415345              0.470720               0.364311  "
      ]
     },
     "execution_count": 13,
     "metadata": {},
     "output_type": "execute_result"
    }
   ],
   "source": [
    "stats = ['mean', 'std', 'min', 'max', 'sum', 'median', \n",
    "             'ratio_min_max', 'coef_variation']\n",
    "    \n",
    "rolling = RollingFeatures(stats=stats, window_sizes=4)\n",
    "\n",
    "rolling.transform_batch(X).head(10)"
   ]
  },
  {
   "cell_type": "code",
   "execution_count": 14,
   "metadata": {},
   "outputs": [
    {
     "data": {
      "text/plain": [
       "array([[0.44019369, 0.22156465, 0.22685145, 0.69646919, 1.76077474,\n",
       "        0.41872705, 0.32571642, 0.50333446],\n",
       "       [0.44594363, 0.23054861, 0.22685145, 0.71946897, 1.78377452,\n",
       "        0.41872705, 0.31530401, 0.51699048],\n",
       "       [0.48018541, 0.20796803, 0.22685145, 0.71946897, 1.92074165,\n",
       "        0.48721061, 0.31530401, 0.43309944],\n",
       "       [0.6686636 , 0.24087135, 0.42310646, 0.9807642 , 2.6746544 ,\n",
       "        0.63539187, 0.43140488, 0.360228  ],\n",
       "       [0.70204234, 0.22810163, 0.42310646, 0.9807642 , 2.80816937,\n",
       "        0.70214935, 0.43140488, 0.3249115 ],\n",
       "       [0.64240807, 0.25196046, 0.42310646, 0.9807642 , 2.5696323 ,\n",
       "        0.58288082, 0.43140488, 0.39221247],\n",
       "       [0.63466084, 0.26125613, 0.39211752, 0.9807642 , 2.53864336,\n",
       "        0.58288082, 0.39980815, 0.41164685],\n",
       "       [0.4752643 , 0.15089728, 0.34317802, 0.68482974, 1.90105718,\n",
       "        0.43652471, 0.50111436, 0.31750182],\n",
       "       [0.48631929, 0.17157163, 0.34317802, 0.72904971, 1.94527715,\n",
       "        0.43652471, 0.47071964, 0.35279628],\n",
       "       [0.47572937, 0.17331344, 0.34317802, 0.72904971, 1.90291749,\n",
       "        0.41534488, 0.47071964, 0.364311  ]])"
      ]
     },
     "execution_count": 14,
     "metadata": {},
     "output_type": "execute_result"
    }
   ],
   "source": [
    "rolling.transform_batch(X).head(10).to_numpy()"
   ]
  },
  {
   "cell_type": "code",
   "execution_count": 24,
   "metadata": {},
   "outputs": [
    {
     "data": {
      "text/html": [
       "<div>\n",
       "<style scoped>\n",
       "    .dataframe tbody tr th:only-of-type {\n",
       "        vertical-align: middle;\n",
       "    }\n",
       "\n",
       "    .dataframe tbody tr th {\n",
       "        vertical-align: top;\n",
       "    }\n",
       "\n",
       "    .dataframe thead th {\n",
       "        text-align: right;\n",
       "    }\n",
       "</style>\n",
       "<table border=\"1\" class=\"dataframe\">\n",
       "  <thead>\n",
       "    <tr style=\"text-align: right;\">\n",
       "      <th></th>\n",
       "      <th>my_mean</th>\n",
       "      <th>my_std</th>\n",
       "      <th>my_mean_2</th>\n",
       "      <th>my_max</th>\n",
       "    </tr>\n",
       "  </thead>\n",
       "  <tbody>\n",
       "    <tr>\n",
       "      <th>1990-01-06</th>\n",
       "      <td>0.480185</td>\n",
       "      <td>0.199922</td>\n",
       "      <td>0.483892</td>\n",
       "      <td>0.719469</td>\n",
       "    </tr>\n",
       "    <tr>\n",
       "      <th>1990-01-07</th>\n",
       "      <td>0.668664</td>\n",
       "      <td>0.287322</td>\n",
       "      <td>0.531274</td>\n",
       "      <td>0.980764</td>\n",
       "    </tr>\n",
       "    <tr>\n",
       "      <th>1990-01-08</th>\n",
       "      <td>0.702042</td>\n",
       "      <td>0.208726</td>\n",
       "      <td>0.597723</td>\n",
       "      <td>0.980764</td>\n",
       "    </tr>\n",
       "    <tr>\n",
       "      <th>1990-01-09</th>\n",
       "      <td>0.642408</td>\n",
       "      <td>0.220909</td>\n",
       "      <td>0.640069</td>\n",
       "      <td>0.980764</td>\n",
       "    </tr>\n",
       "    <tr>\n",
       "      <th>1990-01-10</th>\n",
       "      <td>0.715509</td>\n",
       "      <td>5.000000</td>\n",
       "      <td>5.000000</td>\n",
       "      <td>0.980764</td>\n",
       "    </tr>\n",
       "    <tr>\n",
       "      <th>1990-01-11</th>\n",
       "      <td>0.502980</td>\n",
       "      <td>5.000000</td>\n",
       "      <td>5.000000</td>\n",
       "      <td>0.684830</td>\n",
       "    </tr>\n",
       "    <tr>\n",
       "      <th>1990-01-12</th>\n",
       "      <td>0.517720</td>\n",
       "      <td>5.000000</td>\n",
       "      <td>5.000000</td>\n",
       "      <td>0.729050</td>\n",
       "    </tr>\n",
       "    <tr>\n",
       "      <th>1990-01-13</th>\n",
       "      <td>0.503600</td>\n",
       "      <td>5.000000</td>\n",
       "      <td>5.000000</td>\n",
       "      <td>0.729050</td>\n",
       "    </tr>\n",
       "    <tr>\n",
       "      <th>1990-01-14</th>\n",
       "      <td>0.392619</td>\n",
       "      <td>5.000000</td>\n",
       "      <td>5.000000</td>\n",
       "      <td>0.729050</td>\n",
       "    </tr>\n",
       "    <tr>\n",
       "      <th>1990-01-15</th>\n",
       "      <td>0.406336</td>\n",
       "      <td>0.239069</td>\n",
       "      <td>5.000000</td>\n",
       "      <td>0.729050</td>\n",
       "    </tr>\n",
       "    <tr>\n",
       "      <th>1990-01-16</th>\n",
       "      <td>0.408572</td>\n",
       "      <td>0.279921</td>\n",
       "      <td>0.451086</td>\n",
       "      <td>0.737995</td>\n",
       "    </tr>\n",
       "    <tr>\n",
       "      <th>1990-01-17</th>\n",
       "      <td>0.344552</td>\n",
       "      <td>0.260839</td>\n",
       "      <td>0.424305</td>\n",
       "      <td>0.737995</td>\n",
       "    </tr>\n",
       "    <tr>\n",
       "      <th>1990-01-18</th>\n",
       "      <td>0.373496</td>\n",
       "      <td>0.268306</td>\n",
       "      <td>0.332039</td>\n",
       "      <td>0.737995</td>\n",
       "    </tr>\n",
       "    <tr>\n",
       "      <th>1990-01-19</th>\n",
       "      <td>0.406873</td>\n",
       "      <td>0.239349</td>\n",
       "      <td>0.347535</td>\n",
       "      <td>0.737995</td>\n",
       "    </tr>\n",
       "    <tr>\n",
       "      <th>1990-01-20</th>\n",
       "      <td>0.355331</td>\n",
       "      <td>0.245754</td>\n",
       "      <td>0.426227</td>\n",
       "      <td>0.531828</td>\n",
       "    </tr>\n",
       "  </tbody>\n",
       "</table>\n",
       "</div>"
      ],
      "text/plain": [
       "             my_mean    my_std  my_mean_2    my_max\n",
       "1990-01-06  0.480185  0.199922   0.483892  0.719469\n",
       "1990-01-07  0.668664  0.287322   0.531274  0.980764\n",
       "1990-01-08  0.702042  0.208726   0.597723  0.980764\n",
       "1990-01-09  0.642408  0.220909   0.640069  0.980764\n",
       "1990-01-10  0.715509  5.000000   5.000000  0.980764\n",
       "1990-01-11  0.502980  5.000000   5.000000  0.684830\n",
       "1990-01-12  0.517720  5.000000   5.000000  0.729050\n",
       "1990-01-13  0.503600  5.000000   5.000000  0.729050\n",
       "1990-01-14  0.392619  5.000000   5.000000  0.729050\n",
       "1990-01-15  0.406336  0.239069   5.000000  0.729050\n",
       "1990-01-16  0.408572  0.279921   0.451086  0.737995\n",
       "1990-01-17  0.344552  0.260839   0.424305  0.737995\n",
       "1990-01-18  0.373496  0.268306   0.332039  0.737995\n",
       "1990-01-19  0.406873  0.239349   0.347535  0.737995\n",
       "1990-01-20  0.355331  0.245754   0.426227  0.531828"
      ]
     },
     "execution_count": 24,
     "metadata": {},
     "output_type": "execute_result"
    }
   ],
   "source": [
    "X_datetime = X.copy()\n",
    "X_datetime.index = pd.date_range(start='1990-01-01', periods=len(X), freq='D')\n",
    "X_datetime.iloc[9] = np.nan\n",
    "\n",
    "stats = ['mean', 'std', 'mean', 'max']\n",
    "window_sizes = [4, 5, 6, 4]\n",
    "min_periods = [3, 5, 6, 3]\n",
    "features_names = ['my_mean', 'my_std', 'my_mean_2', 'my_max']\n",
    "\n",
    "rolling = RollingFeatures(\n",
    "    stats=stats, window_sizes=window_sizes, min_periods=min_periods,\n",
    "    features_names=features_names, fillna=5.\n",
    ")\n",
    "rolling_features = rolling.transform_batch(X_datetime).head(15)\n",
    "rolling_features"
   ]
  },
  {
   "cell_type": "code",
   "execution_count": 60,
   "metadata": {},
   "outputs": [
    {
     "name": "stdout",
     "output_type": "stream",
     "text": [
      "0 mean\n",
      "X_window [0.48303426 0.98555979 0.51948512 0.61289453]\n",
      "RF: [0.65024343        nan        nan        nan        nan        nan\n",
      "        nan        nan]\n",
      "1 std\n",
      "X_window [0.48303426 0.98555979 0.51948512 0.61289453]\n",
      "RF: [0.65024343 0.23013666        nan        nan        nan        nan\n",
      "        nan        nan]\n",
      "2 min\n",
      "X_window [0.48303426 0.98555979 0.51948512 0.61289453]\n",
      "RF: [0.65024343 0.23013666 0.48303426        nan        nan        nan\n",
      "        nan        nan]\n",
      "3 max\n",
      "X_window [0.48303426 0.98555979 0.51948512 0.61289453]\n",
      "RF: [0.65024343 0.23013666 0.48303426 0.98555979        nan        nan\n",
      "        nan        nan]\n",
      "4 sum\n",
      "X_window [0.48303426 0.98555979 0.51948512 0.61289453]\n",
      "RF: [0.65024343 0.23013666 0.48303426 0.98555979 2.6009737         nan\n",
      "        nan        nan]\n",
      "5 median\n",
      "X_window [0.48303426 0.98555979 0.51948512 0.61289453]\n",
      "RF: [0.65024343 0.23013666 0.48303426 0.98555979 2.6009737  0.56618983\n",
      "        nan        nan]\n",
      "6 ratio_min_max\n",
      "X_window [0.48303426 0.98555979 0.51948512 0.61289453]\n",
      "RF: [0.65024343 0.23013666 0.48303426 0.98555979 2.6009737  0.56618983\n",
      " 0.49011157        nan]\n",
      "7 coef_variation\n",
      "X_window [0.48303426 0.98555979 0.51948512 0.61289453]\n",
      "RF: [0.65024343 0.23013666 0.48303426 0.98555979 2.6009737  0.56618983\n",
      " 0.49011157 0.35392385]\n"
     ]
    },
    {
     "data": {
      "text/plain": [
       "array([0.65024343, 0.23013666, 0.48303426, 0.98555979, 2.6009737 ,\n",
       "       0.56618983, 0.49011157, 0.35392385])"
      ]
     },
     "execution_count": 60,
     "metadata": {},
     "output_type": "execute_result"
    }
   ],
   "source": [
    "stats = ['mean', 'std', 'min', 'max', 'sum', 'median', \n",
    "             'ratio_min_max', 'coef_variation']\n",
    "    \n",
    "rolling = RollingFeatures(stats=stats, window_sizes=4)\n",
    "rolling_features = rolling.transform(X.to_numpy())\n",
    "rolling_features"
   ]
  },
  {
   "cell_type": "code",
   "execution_count": 27,
   "metadata": {},
   "outputs": [
    {
     "data": {
      "text/plain": [
       "np.float64(0.6502434250000001)"
      ]
     },
     "execution_count": 27,
     "metadata": {},
     "output_type": "execute_result"
    }
   ],
   "source": [
    "X.to_numpy()[-4:].mean()"
   ]
  },
  {
   "cell_type": "code",
   "execution_count": 67,
   "metadata": {},
   "outputs": [
    {
     "data": {
      "text/plain": [
       "array([0.53051056, 0.28145959, 0.1156184 , 0.98555979, 7.85259345,\n",
       "       0.56618983, 0.49011157, 0.35392385])"
      ]
     },
     "execution_count": 67,
     "metadata": {},
     "output_type": "execute_result"
    }
   ],
   "source": [
    "X = pd.Series(\n",
    "    data = np.array(\n",
    "                [0.69646919, 0.28613933, 0.22685145, 0.55131477, 0.71946897,\n",
    "                 0.42310646, 0.9807642 , 0.68482974, 0.4809319 , 0.39211752,\n",
    "                 0.34317802, 0.72904971, 0.43857224, 0.0596779 , 0.39804426,\n",
    "                 0.73799541, 0.18249173, 0.17545176, 0.53155137, 0.53182759,\n",
    "                 0.63440096, 0.84943179, 0.72445532, 0.61102351, 0.72244338,\n",
    "                 0.32295891, 0.36178866, 0.22826323, 0.29371405, 0.63097612,\n",
    "                 0.09210494, 0.43370117, 0.43086276, 0.4936851 , 0.42583029,\n",
    "                 0.31226122, 0.42635131, 0.89338916, 0.94416002, 0.50183668,\n",
    "                 0.62395295, 0.1156184 , 0.31728548, 0.41482621, 0.86630916,\n",
    "                 0.25045537, 0.48303426, 0.98555979, 0.51948512, 0.61289453\n",
    "           ]),\n",
    "    name = 'X'\n",
    ")\n",
    "\n",
    "X_nans = X.tail(15).to_numpy()\n",
    "X_nans[-7] = np.nan\n",
    "\n",
    "stats = ['mean', 'std', 'min', 'max', 'sum', 'median', \n",
    "            'ratio_min_max', 'coef_variation']\n",
    "window_sizes = [10, 10, 15, 4, 15, 4, 4, 4]\n",
    "min_periods = [1, 1, 1, 1, 1, 1, 1, 1]\n",
    "rolling = RollingFeatures(stats=stats, window_sizes=window_sizes, min_periods=min_periods)\n",
    "rolling_features = rolling.transform(X_nans)\n",
    "rolling_features"
   ]
  },
  {
   "cell_type": "code",
   "execution_count": 44,
   "metadata": {},
   "outputs": [
    {
     "data": {
      "text/html": [
       "<div>\n",
       "<style scoped>\n",
       "    .dataframe tbody tr th:only-of-type {\n",
       "        vertical-align: middle;\n",
       "    }\n",
       "\n",
       "    .dataframe tbody tr th {\n",
       "        vertical-align: top;\n",
       "    }\n",
       "\n",
       "    .dataframe thead th {\n",
       "        text-align: right;\n",
       "    }\n",
       "</style>\n",
       "<table border=\"1\" class=\"dataframe\">\n",
       "  <thead>\n",
       "    <tr style=\"text-align: right;\">\n",
       "      <th></th>\n",
       "      <th>roll_mean_10</th>\n",
       "      <th>roll_std_10</th>\n",
       "      <th>roll_min_15</th>\n",
       "      <th>roll_max_4</th>\n",
       "      <th>roll_sum_4</th>\n",
       "      <th>roll_median_4</th>\n",
       "      <th>roll_ratio_min_max_4</th>\n",
       "      <th>roll_coef_variation_4</th>\n",
       "    </tr>\n",
       "  </thead>\n",
       "  <tbody>\n",
       "    <tr>\n",
       "      <th>45</th>\n",
       "      <td>0.548818</td>\n",
       "      <td>0.301862</td>\n",
       "      <td>0.115618</td>\n",
       "      <td>0.866309</td>\n",
       "      <td>1.434050</td>\n",
       "      <td>0.317285</td>\n",
       "      <td>0.289106</td>\n",
       "      <td>0.706936</td>\n",
       "    </tr>\n",
       "    <tr>\n",
       "      <th>46</th>\n",
       "      <td>0.555116</td>\n",
       "      <td>0.299570</td>\n",
       "      <td>0.115618</td>\n",
       "      <td>0.866309</td>\n",
       "      <td>1.599799</td>\n",
       "      <td>0.483034</td>\n",
       "      <td>0.289106</td>\n",
       "      <td>0.583169</td>\n",
       "    </tr>\n",
       "    <tr>\n",
       "      <th>47</th>\n",
       "      <td>0.565357</td>\n",
       "      <td>0.313817</td>\n",
       "      <td>0.115618</td>\n",
       "      <td>0.985560</td>\n",
       "      <td>2.585359</td>\n",
       "      <td>0.674672</td>\n",
       "      <td>0.254125</td>\n",
       "      <td>0.526077</td>\n",
       "    </tr>\n",
       "    <tr>\n",
       "      <th>48</th>\n",
       "      <td>0.518171</td>\n",
       "      <td>0.279826</td>\n",
       "      <td>0.115618</td>\n",
       "      <td>0.985560</td>\n",
       "      <td>2.238535</td>\n",
       "      <td>0.501260</td>\n",
       "      <td>0.254125</td>\n",
       "      <td>0.550255</td>\n",
       "    </tr>\n",
       "    <tr>\n",
       "      <th>49</th>\n",
       "      <td>0.530511</td>\n",
       "      <td>0.281460</td>\n",
       "      <td>0.115618</td>\n",
       "      <td>0.985560</td>\n",
       "      <td>2.600974</td>\n",
       "      <td>0.566190</td>\n",
       "      <td>0.490112</td>\n",
       "      <td>0.353924</td>\n",
       "    </tr>\n",
       "  </tbody>\n",
       "</table>\n",
       "</div>"
      ],
      "text/plain": [
       "    roll_mean_10  roll_std_10  roll_min_15  roll_max_4  roll_sum_4  \\\n",
       "45      0.548818     0.301862     0.115618    0.866309    1.434050   \n",
       "46      0.555116     0.299570     0.115618    0.866309    1.599799   \n",
       "47      0.565357     0.313817     0.115618    0.985560    2.585359   \n",
       "48      0.518171     0.279826     0.115618    0.985560    2.238535   \n",
       "49      0.530511     0.281460     0.115618    0.985560    2.600974   \n",
       "\n",
       "    roll_median_4  roll_ratio_min_max_4  roll_coef_variation_4  \n",
       "45       0.317285              0.289106               0.706936  \n",
       "46       0.483034              0.289106               0.583169  \n",
       "47       0.674672              0.254125               0.526077  \n",
       "48       0.501260              0.254125               0.550255  \n",
       "49       0.566190              0.490112               0.353924  "
      ]
     },
     "execution_count": 44,
     "metadata": {},
     "output_type": "execute_result"
    }
   ],
   "source": [
    "X_nans_pandas = X.copy()\n",
    "X_nans_pandas.iloc[-7] = np.nan\n",
    "\n",
    "rolling_features = rolling.transform_batch(X_nans_pandas)\n",
    "rolling_features.tail()"
   ]
  },
  {
   "cell_type": "code",
   "execution_count": 46,
   "metadata": {},
   "outputs": [
    {
     "data": {
      "text/plain": [
       "40    0.623953\n",
       "41    0.115618\n",
       "42    0.317285\n",
       "43         NaN\n",
       "44    0.866309\n",
       "45    0.250455\n",
       "46    0.483034\n",
       "47    0.985560\n",
       "48    0.519485\n",
       "49    0.612895\n",
       "Name: X, dtype: float64"
      ]
     },
     "execution_count": 46,
     "metadata": {},
     "output_type": "execute_result"
    }
   ],
   "source": [
    "X_nans_pandas.tail(10)"
   ]
  },
  {
   "cell_type": "code",
   "execution_count": 47,
   "metadata": {},
   "outputs": [
    {
     "data": {
      "text/plain": [
       "np.float64(0.5305105622222223)"
      ]
     },
     "execution_count": 47,
     "metadata": {},
     "output_type": "execute_result"
    }
   ],
   "source": [
    "X_nans_pandas.tail(10).mean()"
   ]
  },
  {
   "cell_type": "code",
   "execution_count": 48,
   "metadata": {},
   "outputs": [
    {
     "data": {
      "text/plain": [
       "np.float64(nan)"
      ]
     },
     "execution_count": 48,
     "metadata": {},
     "output_type": "execute_result"
    }
   ],
   "source": [
    "X_nans_pandas.tail(10).to_numpy().mean()"
   ]
  },
  {
   "cell_type": "code",
   "execution_count": 49,
   "metadata": {},
   "outputs": [
    {
     "data": {
      "text/plain": [
       "np.float64(0.5305105622222223)"
      ]
     },
     "execution_count": 49,
     "metadata": {},
     "output_type": "execute_result"
    }
   ],
   "source": [
    "np.nanmean(X_nans_pandas.tail(10).to_numpy())"
   ]
  },
  {
   "cell_type": "code",
   "execution_count": 66,
   "metadata": {},
   "outputs": [
    {
     "data": {
      "text/plain": [
       "np.float64(7.8525934500000005)"
      ]
     },
     "execution_count": 66,
     "metadata": {},
     "output_type": "execute_result"
    }
   ],
   "source": [
    "np.nansum(X_nans_pandas.tail(15).to_numpy())"
   ]
  },
  {
   "cell_type": "code",
   "execution_count": 51,
   "metadata": {},
   "outputs": [
    {
     "data": {
      "text/plain": [
       "array([0.62395295, 0.1156184 , 0.31728548, 0.86630916, 0.25045537,\n",
       "       0.48303426, 0.98555979, 0.51948512, 0.61289453])"
      ]
     },
     "execution_count": 51,
     "metadata": {},
     "output_type": "execute_result"
    }
   ],
   "source": [
    "X_nans_pandas.tail(10).to_numpy()[~np.isnan(X_nans_pandas.tail(10).to_numpy())]"
   ]
  },
  {
   "cell_type": "code",
   "execution_count": 52,
   "metadata": {},
   "outputs": [
    {
     "data": {
      "text/plain": [
       "np.float64(0.5305105622222221)"
      ]
     },
     "execution_count": 52,
     "metadata": {},
     "output_type": "execute_result"
    }
   ],
   "source": [
    "X_nans_pandas.tail(10).to_numpy()[~np.isnan(X_nans_pandas.tail(10).to_numpy())].mean()"
   ]
  },
  {
   "cell_type": "code",
   "execution_count": 53,
   "metadata": {},
   "outputs": [
    {
     "data": {
      "text/plain": [
       "np.float64(0.5305105622222221)"
      ]
     },
     "execution_count": 53,
     "metadata": {},
     "output_type": "execute_result"
    }
   ],
   "source": [
    "np.mean(X_nans_pandas.tail(10).to_numpy()[~np.isnan(X_nans_pandas.tail(10).to_numpy())])"
   ]
  },
  {
   "cell_type": "code",
   "execution_count": 96,
   "metadata": {},
   "outputs": [
    {
     "data": {
      "text/html": [
       "<div>\n",
       "<style scoped>\n",
       "    .dataframe tbody tr th:only-of-type {\n",
       "        vertical-align: middle;\n",
       "    }\n",
       "\n",
       "    .dataframe tbody tr th {\n",
       "        vertical-align: top;\n",
       "    }\n",
       "\n",
       "    .dataframe thead th {\n",
       "        text-align: right;\n",
       "    }\n",
       "</style>\n",
       "<table border=\"1\" class=\"dataframe\">\n",
       "  <thead>\n",
       "    <tr style=\"text-align: right;\">\n",
       "      <th></th>\n",
       "      <th>roll_mean_3</th>\n",
       "    </tr>\n",
       "  </thead>\n",
       "  <tbody>\n",
       "    <tr>\n",
       "      <th>1990-01-03</th>\n",
       "      <td>0.403153</td>\n",
       "    </tr>\n",
       "    <tr>\n",
       "      <th>1990-01-04</th>\n",
       "      <td>0.354769</td>\n",
       "    </tr>\n",
       "    <tr>\n",
       "      <th>1990-01-05</th>\n",
       "      <td>0.499212</td>\n",
       "    </tr>\n",
       "    <tr>\n",
       "      <th>1990-01-06</th>\n",
       "      <td>0.564630</td>\n",
       "    </tr>\n",
       "    <tr>\n",
       "      <th>1990-01-07</th>\n",
       "      <td>0.499212</td>\n",
       "    </tr>\n",
       "    <tr>\n",
       "      <th>1990-01-08</th>\n",
       "      <td>0.499212</td>\n",
       "    </tr>\n",
       "    <tr>\n",
       "      <th>1990-01-09</th>\n",
       "      <td>0.499212</td>\n",
       "    </tr>\n",
       "    <tr>\n",
       "      <th>1990-01-10</th>\n",
       "      <td>0.519293</td>\n",
       "    </tr>\n",
       "  </tbody>\n",
       "</table>\n",
       "</div>"
      ],
      "text/plain": [
       "            roll_mean_3\n",
       "1990-01-03     0.403153\n",
       "1990-01-04     0.354769\n",
       "1990-01-05     0.499212\n",
       "1990-01-06     0.564630\n",
       "1990-01-07     0.499212\n",
       "1990-01-08     0.499212\n",
       "1990-01-09     0.499212\n",
       "1990-01-10     0.519293"
      ]
     },
     "execution_count": 96,
     "metadata": {},
     "output_type": "execute_result"
    }
   ],
   "source": [
    "X_datetime = X.head(10).copy()\n",
    "X_datetime.index = pd.date_range(start='1990-01-01', periods=len(X_datetime), freq='D')\n",
    "X_datetime.iloc[6] = np.nan\n",
    "\n",
    "rolling = RollingFeatures(\n",
    "    stats=['mean'], window_sizes=3, fillna='median'\n",
    ")\n",
    "rolling_features = rolling.transform_batch(X_datetime)\n",
    "rolling_features"
   ]
  },
  {
   "cell_type": "code",
   "execution_count": 97,
   "metadata": {},
   "outputs": [
    {
     "data": {
      "text/plain": [
       "array([0.40315332, 0.35476852, 0.49921173, 0.56463007, 0.49921173,\n",
       "       0.49921173, 0.49921173, 0.51929305])"
      ]
     },
     "execution_count": 97,
     "metadata": {},
     "output_type": "execute_result"
    }
   ],
   "source": [
    "rolling_features.to_numpy().flatten()"
   ]
  },
  {
   "cell_type": "code",
   "execution_count": 80,
   "metadata": {},
   "outputs": [
    {
     "data": {
      "text/plain": [
       "{'1': 1, 0: 1}"
      ]
     },
     "execution_count": 80,
     "metadata": {},
     "output_type": "execute_result"
    }
   ],
   "source": [
    "d = {'1': 1, 0: 1}\n",
    "d"
   ]
  },
  {
   "cell_type": "code",
   "execution_count": 87,
   "metadata": {},
   "outputs": [],
   "source": [
    "base_array = np.array([0.40315332, 0.35476852, 0.49921173, 0.56463007, \n",
    "                           0.70777988, np.nan, np.nan, np.nan])\n",
    "mean_ = np.array([0.5059087, 0.5059087, 0.5059087])"
   ]
  },
  {
   "cell_type": "code",
   "execution_count": 88,
   "metadata": {},
   "outputs": [
    {
     "data": {
      "text/plain": [
       "array([0.40315332, 0.35476852, 0.49921173, 0.56463007, 0.70777988,\n",
       "       0.5059087 , 0.5059087 , 0.5059087 ])"
      ]
     },
     "execution_count": 88,
     "metadata": {},
     "output_type": "execute_result"
    }
   ],
   "source": [
    "base_array[-3:] = mean_\n",
    "base_array"
   ]
  },
  {
   "cell_type": "code",
   "execution_count": 98,
   "metadata": {},
   "outputs": [],
   "source": [
    "base_array = np.array([0.40315332, 0.35476852, 0.49921173, 0.56463007, \n",
    "                        np.nan, np.nan, np.nan, 0.519293])\n",
    "aa = np.array([5., 5., 5.])"
   ]
  },
  {
   "cell_type": "code",
   "execution_count": 99,
   "metadata": {},
   "outputs": [
    {
     "data": {
      "text/plain": [
       "array([0.40315332, 0.35476852, 0.49921173, 0.56463007, 5.        ,\n",
       "       5.        , 5.        , 0.519293  ])"
      ]
     },
     "execution_count": 99,
     "metadata": {},
     "output_type": "execute_result"
    }
   ],
   "source": [
    "expected_array = base_array\n",
    "expected_array[-4:-1] = aa\n",
    "expected_array"
   ]
  },
  {
   "cell_type": "code",
   "execution_count": null,
   "metadata": {},
   "outputs": [],
   "source": []
  }
 ],
 "metadata": {
  "kernelspec": {
   "display_name": "skforecast_14_p12",
   "language": "python",
   "name": "python3"
  },
  "language_info": {
   "codemirror_mode": {
    "name": "ipython",
    "version": 3
   },
   "file_extension": ".py",
   "mimetype": "text/x-python",
   "name": "python",
   "nbconvert_exporter": "python",
   "pygments_lexer": "ipython3",
   "version": "3.12.4"
  }
 },
 "nbformat": 4,
 "nbformat_minor": 2
}
