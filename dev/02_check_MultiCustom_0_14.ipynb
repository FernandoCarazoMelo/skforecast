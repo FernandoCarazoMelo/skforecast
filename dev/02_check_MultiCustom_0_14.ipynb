{
 "cells": [
  {
   "cell_type": "code",
   "execution_count": 1,
   "metadata": {},
   "outputs": [
    {
     "data": {
      "text/plain": [
       "'c:\\\\Users\\\\jaesc2\\\\GitHub\\\\skforecast'"
      ]
     },
     "execution_count": 1,
     "metadata": {},
     "output_type": "execute_result"
    }
   ],
   "source": [
    "%load_ext autoreload\n",
    "%autoreload 2\n",
    "import sys\n",
    "from pathlib import Path\n",
    "sys.path.insert(1, str(Path.cwd().parent))\n",
    "str(Path.cwd().parent)"
   ]
  },
  {
   "cell_type": "code",
   "execution_count": 3,
   "metadata": {},
   "outputs": [],
   "source": [
    "import numpy as np\n",
    "import pandas as pd\n",
    "from lightgbm import LGBMRegressor\n",
    "from skforecast.ForecasterAutoregMultiSeriesCustom import ForecasterAutoregMultiSeriesCustom\n",
    "from sklearn.preprocessing import StandardScaler\n",
    "\n",
    "series = pd.DataFrame({'1': pd.Series(np.random.normal(loc=0, scale=1, size=10)), \n",
    "                        '2': pd.Series(np.random.normal(loc=0, scale=1, size=10))})\n",
    "\n",
    "# series = pd.DataFrame({'1': pd.Series(np.arange(start=0, stop=10)), \n",
    "#                         '2': pd.Series(np.arange(start=50, stop=60))})\n",
    "\n",
    "exog = pd.DataFrame({'e1': pd.Series(np.arange(start=0, stop=10)), \n",
    "                        'e2': pd.Series(np.arange(start=50, stop=60))})\n",
    "\n",
    "exog_predict = pd.DataFrame({'e1': pd.Series(np.arange(start=10, stop=15)),\n",
    "                                'e2': pd.Series(np.arange(start=60, stop=65))})\n",
    "exog_predict.index = pd.RangeIndex(start=10, stop=15)"
   ]
  },
  {
   "cell_type": "code",
   "execution_count": 5,
   "metadata": {},
   "outputs": [
    {
     "ename": "ValueError",
     "evalue": "The `window_size` argument (3), declared when initializing the forecaster, does not correspond to the window used by `create_predictors`.",
     "output_type": "error",
     "traceback": [
      "\u001b[1;31m---------------------------------------------------------------------------\u001b[0m",
      "\u001b[1;31mValueError\u001b[0m                                Traceback (most recent call last)",
      "Cell \u001b[1;32mIn[5], line 31\u001b[0m\n\u001b[0;32m     15\u001b[0m \u001b[38;5;66;03m# Esto falla porque el check de _create_train_X_y_single_series recibe y_values[:-1]\u001b[39;00m\n\u001b[0;32m     16\u001b[0m \u001b[38;5;66;03m# Entonces y[0] para el es el primer valor de la series, mientras que el usuario\u001b[39;00m\n\u001b[0;32m     17\u001b[0m \u001b[38;5;66;03m# espera que sea el primer valor de last_window\u001b[39;00m\n\u001b[0;32m     19\u001b[0m forecaster \u001b[38;5;241m=\u001b[39m ForecasterAutoregMultiSeriesCustom(\n\u001b[0;32m     20\u001b[0m     regressor          \u001b[38;5;241m=\u001b[39m LGBMRegressor(\n\u001b[0;32m     21\u001b[0m         n_estimators\u001b[38;5;241m=\u001b[39m\u001b[38;5;241m2\u001b[39m, random_state\u001b[38;5;241m=\u001b[39m\u001b[38;5;241m123\u001b[39m, verbose\u001b[38;5;241m=\u001b[39m\u001b[38;5;241m-\u001b[39m\u001b[38;5;241m1\u001b[39m, max_depth\u001b[38;5;241m=\u001b[39m\u001b[38;5;241m2\u001b[39m\n\u001b[1;32m   (...)\u001b[0m\n\u001b[0;32m     29\u001b[0m     \u001b[38;5;66;03m# transformer_exog   = StandardScaler()\u001b[39;00m\n\u001b[0;32m     30\u001b[0m )\n\u001b[1;32m---> 31\u001b[0m \u001b[43mforecaster\u001b[49m\u001b[38;5;241;43m.\u001b[39;49m\u001b[43mfit\u001b[49m\u001b[43m(\u001b[49m\n\u001b[0;32m     32\u001b[0m \u001b[43m    \u001b[49m\u001b[43mseries\u001b[49m\u001b[38;5;241;43m=\u001b[39;49m\u001b[43mseries\u001b[49m\u001b[43m,\u001b[49m\u001b[43m \u001b[49m\u001b[43msuppress_warnings\u001b[49m\u001b[38;5;241;43m=\u001b[39;49m\u001b[38;5;28;43;01mTrue\u001b[39;49;00m\n\u001b[0;32m     33\u001b[0m \u001b[43m)\u001b[49m\n",
      "File \u001b[1;32mc:\\Users\\jaesc2\\GitHub\\skforecast\\skforecast\\ForecasterAutoregMultiSeriesCustom\\ForecasterAutoregMultiSeriesCustom.py:1189\u001b[0m, in \u001b[0;36mForecasterAutoregMultiSeriesCustom.fit\u001b[1;34m(self, series, exog, store_last_window, store_in_sample_residuals, suppress_warnings)\u001b[0m\n\u001b[0;32m   1177\u001b[0m \u001b[38;5;28mself\u001b[39m\u001b[38;5;241m.\u001b[39mindex_freq          \u001b[38;5;241m=\u001b[39m \u001b[38;5;28;01mNone\u001b[39;00m\n\u001b[0;32m   1178\u001b[0m \u001b[38;5;28mself\u001b[39m\u001b[38;5;241m.\u001b[39mfitted              \u001b[38;5;241m=\u001b[39m \u001b[38;5;28;01mFalse\u001b[39;00m\n\u001b[0;32m   1180\u001b[0m (\n\u001b[0;32m   1181\u001b[0m     X_train,\n\u001b[0;32m   1182\u001b[0m     y_train,\n\u001b[0;32m   1183\u001b[0m     series_indexes,\n\u001b[0;32m   1184\u001b[0m     series_col_names,\n\u001b[0;32m   1185\u001b[0m     series_X_train,\n\u001b[0;32m   1186\u001b[0m     exog_col_names,\n\u001b[0;32m   1187\u001b[0m     exog_dtypes,\n\u001b[0;32m   1188\u001b[0m     last_window\n\u001b[1;32m-> 1189\u001b[0m ) \u001b[38;5;241m=\u001b[39m \u001b[38;5;28;43mself\u001b[39;49m\u001b[38;5;241;43m.\u001b[39;49m\u001b[43m_create_train_X_y\u001b[49m\u001b[43m(\u001b[49m\n\u001b[0;32m   1190\u001b[0m \u001b[43m        \u001b[49m\u001b[43mseries\u001b[49m\u001b[38;5;241;43m=\u001b[39;49m\u001b[43mseries\u001b[49m\u001b[43m,\u001b[49m\u001b[43m \u001b[49m\u001b[43mexog\u001b[49m\u001b[38;5;241;43m=\u001b[39;49m\u001b[43mexog\u001b[49m\u001b[43m,\u001b[49m\u001b[43m \u001b[49m\u001b[43mstore_last_window\u001b[49m\u001b[38;5;241;43m=\u001b[39;49m\u001b[43mstore_last_window\u001b[49m\n\u001b[0;32m   1191\u001b[0m \u001b[43m\u001b[49m\u001b[43m)\u001b[49m\n\u001b[0;32m   1193\u001b[0m sample_weight \u001b[38;5;241m=\u001b[39m \u001b[38;5;28mself\u001b[39m\u001b[38;5;241m.\u001b[39mcreate_sample_weights(\n\u001b[0;32m   1194\u001b[0m                     series_col_names \u001b[38;5;241m=\u001b[39m series_col_names,\n\u001b[0;32m   1195\u001b[0m                     X_train          \u001b[38;5;241m=\u001b[39m X_train\n\u001b[0;32m   1196\u001b[0m                 )\n\u001b[0;32m   1198\u001b[0m X_train_regressor \u001b[38;5;241m=\u001b[39m X_train \u001b[38;5;28;01mif\u001b[39;00m \u001b[38;5;28mself\u001b[39m\u001b[38;5;241m.\u001b[39mencoding \u001b[38;5;129;01mis\u001b[39;00m \u001b[38;5;129;01mnot\u001b[39;00m \u001b[38;5;28;01mNone\u001b[39;00m \u001b[38;5;28;01melse\u001b[39;00m X_train\u001b[38;5;241m.\u001b[39mdrop(columns\u001b[38;5;241m=\u001b[39m\u001b[38;5;124m'\u001b[39m\u001b[38;5;124m_level_skforecast\u001b[39m\u001b[38;5;124m'\u001b[39m)\n",
      "File \u001b[1;32mc:\\Users\\jaesc2\\GitHub\\skforecast\\skforecast\\ForecasterAutoregMultiSeriesCustom\\ForecasterAutoregMultiSeriesCustom.py:777\u001b[0m, in \u001b[0;36mForecasterAutoregMultiSeriesCustom._create_train_X_y\u001b[1;34m(self, series, exog, store_last_window)\u001b[0m\n\u001b[0;32m    773\u001b[0m y_train_buffer \u001b[38;5;241m=\u001b[39m []\n\u001b[0;32m    774\u001b[0m \u001b[38;5;28;01mfor\u001b[39;00m matrices \u001b[38;5;129;01min\u001b[39;00m input_matrices:\n\u001b[0;32m    776\u001b[0m     X_train_predictors, X_train_exog, y_train \u001b[38;5;241m=\u001b[39m (\n\u001b[1;32m--> 777\u001b[0m         \u001b[38;5;28;43mself\u001b[39;49m\u001b[38;5;241;43m.\u001b[39;49m\u001b[43m_create_train_X_y_single_series\u001b[49m\u001b[43m(\u001b[49m\n\u001b[0;32m    778\u001b[0m \u001b[43m            \u001b[49m\u001b[43my\u001b[49m\u001b[43m           \u001b[49m\u001b[38;5;241;43m=\u001b[39;49m\u001b[43m \u001b[49m\u001b[43mmatrices\u001b[49m\u001b[43m[\u001b[49m\u001b[38;5;241;43m0\u001b[39;49m\u001b[43m]\u001b[49m\u001b[43m,\u001b[49m\n\u001b[0;32m    779\u001b[0m \u001b[43m            \u001b[49m\u001b[43mexog\u001b[49m\u001b[43m        \u001b[49m\u001b[38;5;241;43m=\u001b[39;49m\u001b[43m \u001b[49m\u001b[43mmatrices\u001b[49m\u001b[43m[\u001b[49m\u001b[38;5;241;43m1\u001b[39;49m\u001b[43m]\u001b[49m\u001b[43m,\u001b[49m\n\u001b[0;32m    780\u001b[0m \u001b[43m            \u001b[49m\u001b[43mignore_exog\u001b[49m\u001b[43m \u001b[49m\u001b[38;5;241;43m=\u001b[39;49m\u001b[43m \u001b[49m\u001b[43mmatrices\u001b[49m\u001b[43m[\u001b[49m\u001b[38;5;241;43m2\u001b[39;49m\u001b[43m]\u001b[49m\u001b[43m,\u001b[49m\n\u001b[0;32m    781\u001b[0m \u001b[43m        \u001b[49m\u001b[43m)\u001b[49m\n\u001b[0;32m    782\u001b[0m     )\n\u001b[0;32m    784\u001b[0m     X_train_predictors_buffer\u001b[38;5;241m.\u001b[39mappend(X_train_predictors)\n\u001b[0;32m    785\u001b[0m     X_train_exog_buffer\u001b[38;5;241m.\u001b[39mappend(X_train_exog)\n",
      "File \u001b[1;32mc:\\Users\\jaesc2\\GitHub\\skforecast\\skforecast\\ForecasterAutoregMultiSeriesCustom\\ForecasterAutoregMultiSeriesCustom.py:578\u001b[0m, in \u001b[0;36mForecasterAutoregMultiSeriesCustom._create_train_X_y_single_series\u001b[1;34m(self, y, ignore_exog, exog)\u001b[0m\n\u001b[0;32m    576\u001b[0m observed \u001b[38;5;241m=\u001b[39m X_train_values[\u001b[38;5;241m-\u001b[39m\u001b[38;5;241m1\u001b[39m, :]\n\u001b[0;32m    577\u001b[0m \u001b[38;5;28;01mif\u001b[39;00m expected\u001b[38;5;241m.\u001b[39mshape \u001b[38;5;241m!=\u001b[39m observed\u001b[38;5;241m.\u001b[39mshape \u001b[38;5;129;01mor\u001b[39;00m \u001b[38;5;129;01mnot\u001b[39;00m np\u001b[38;5;241m.\u001b[39mallclose(expected, observed, equal_nan\u001b[38;5;241m=\u001b[39m\u001b[38;5;28;01mTrue\u001b[39;00m):\n\u001b[1;32m--> 578\u001b[0m     \u001b[38;5;28;01mraise\u001b[39;00m \u001b[38;5;167;01mValueError\u001b[39;00m(\n\u001b[0;32m    579\u001b[0m         (\u001b[38;5;124mf\u001b[39m\u001b[38;5;124m\"\u001b[39m\u001b[38;5;124mThe `window_size` argument (\u001b[39m\u001b[38;5;132;01m{\u001b[39;00m\u001b[38;5;28mself\u001b[39m\u001b[38;5;241m.\u001b[39mwindow_size\u001b[38;5;132;01m}\u001b[39;00m\u001b[38;5;124m), declared when \u001b[39m\u001b[38;5;124m\"\u001b[39m\n\u001b[0;32m    580\u001b[0m          \u001b[38;5;124mf\u001b[39m\u001b[38;5;124m\"\u001b[39m\u001b[38;5;124minitializing the forecaster, does not correspond to the window \u001b[39m\u001b[38;5;124m\"\u001b[39m\n\u001b[0;32m    581\u001b[0m          \u001b[38;5;124mf\u001b[39m\u001b[38;5;124m\"\u001b[39m\u001b[38;5;124mused by `\u001b[39m\u001b[38;5;132;01m{\u001b[39;00m\u001b[38;5;28mself\u001b[39m\u001b[38;5;241m.\u001b[39mfun_predictors\u001b[38;5;241m.\u001b[39m\u001b[38;5;18m__name__\u001b[39m\u001b[38;5;132;01m}\u001b[39;00m\u001b[38;5;124m`.\u001b[39m\u001b[38;5;124m\"\u001b[39m)\n\u001b[0;32m    582\u001b[0m     )\n\u001b[0;32m    584\u001b[0m \u001b[38;5;28;01mif\u001b[39;00m \u001b[38;5;28mself\u001b[39m\u001b[38;5;241m.\u001b[39mname_predictors \u001b[38;5;129;01mis\u001b[39;00m \u001b[38;5;28;01mNone\u001b[39;00m:\n\u001b[0;32m    585\u001b[0m     X_train_predictors_names \u001b[38;5;241m=\u001b[39m [\n\u001b[0;32m    586\u001b[0m         \u001b[38;5;124mf\u001b[39m\u001b[38;5;124m\"\u001b[39m\u001b[38;5;124mcustom_predictor_\u001b[39m\u001b[38;5;132;01m{\u001b[39;00mi\u001b[38;5;132;01m}\u001b[39;00m\u001b[38;5;124m\"\u001b[39m \u001b[38;5;28;01mfor\u001b[39;00m i \u001b[38;5;129;01min\u001b[39;00m \u001b[38;5;28mrange\u001b[39m(X_train_values\u001b[38;5;241m.\u001b[39mshape[\u001b[38;5;241m1\u001b[39m])\n\u001b[0;32m    587\u001b[0m     ]\n",
      "\u001b[1;31mValueError\u001b[0m: The `window_size` argument (3), declared when initializing the forecaster, does not correspond to the window used by `create_predictors`."
     ]
    }
   ],
   "source": [
    "# Custom function to create predictors\n",
    "# ==============================================================================\n",
    "def create_predictors(y):\n",
    "    \"\"\"\n",
    "    Create first 10 lags of a time series.\n",
    "    Calculate moving average with window 20.\n",
    "    \"\"\"\n",
    "\n",
    "    lags = y[-1:-4:-1]   # window size needed = 3\n",
    "    mean = np.mean(y[0]) # window size needed = 3\n",
    "    predictors = np.hstack([lags, mean])\n",
    "\n",
    "    return predictors\n",
    "\n",
    "# Esto falla porque el check de _create_train_X_y_single_series recibe y_values[:-1]\n",
    "# Entonces y[0] para el es el primer valor de la series, mientras que el usuario\n",
    "# espera que sea el primer valor de last_window.\n",
    "\n",
    "# En realidad no es un error, pero nosotros siempre esperamos que el usuario\n",
    "# trabaje con índices negativos\n",
    "\n",
    "forecaster = ForecasterAutoregMultiSeriesCustom(\n",
    "    regressor          = LGBMRegressor(\n",
    "        n_estimators=2, random_state=123, verbose=-1, max_depth=2\n",
    "    ),\n",
    "    fun_predictors     = create_predictors,\n",
    "    window_size        = 3,\n",
    "    encoding           = None,\n",
    "    dropna_from_series = False,\n",
    "    differentiation    = 1,\n",
    "    # transformer_series = StandardScaler(),\n",
    "    # transformer_exog   = StandardScaler()\n",
    ")\n",
    "forecaster.fit(\n",
    "    series=series, suppress_warnings=True\n",
    ")"
   ]
  },
  {
   "cell_type": "code",
   "execution_count": null,
   "metadata": {},
   "outputs": [],
   "source": [
    "forecaster.predict(\n",
    "    steps=3, suppress_warnings=True,\n",
    "    levels = '1'\n",
    ")"
   ]
  }
 ],
 "metadata": {
  "kernelspec": {
   "display_name": "skforecast_py10",
   "language": "python",
   "name": "python3"
  },
  "language_info": {
   "codemirror_mode": {
    "name": "ipython",
    "version": 3
   },
   "file_extension": ".py",
   "mimetype": "text/x-python",
   "name": "python",
   "nbconvert_exporter": "python",
   "pygments_lexer": "ipython3",
   "version": "3.11.5"
  },
  "orig_nbformat": 4,
  "vscode": {
   "interpreter": {
    "hash": "c78d62c1713fdacd99ef7c429003c7324b36fbb551fb8b6860a7ea73e9338235"
   }
  }
 },
 "nbformat": 4,
 "nbformat_minor": 2
}
