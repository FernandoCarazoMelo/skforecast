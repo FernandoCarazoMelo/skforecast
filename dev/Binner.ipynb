{
 "cells": [
  {
   "cell_type": "code",
   "execution_count": 20,
   "metadata": {},
   "outputs": [
    {
     "name": "stdout",
     "output_type": "stream",
     "text": [
      "The autoreload extension is already loaded. To reload it, use:\n",
      "  %reload_ext autoreload\n",
      "c:\\Users\\Joaquín Amat\\Documents\\GitHub\\skforecast\n"
     ]
    }
   ],
   "source": [
    "%load_ext autoreload\n",
    "%autoreload 2\n",
    "import sys\n",
    "from pathlib import Path\n",
    "path = str(Path.cwd().parent)\n",
    "print(path)\n",
    "sys.path.insert(1, path)"
   ]
  },
  {
   "cell_type": "code",
   "execution_count": 21,
   "metadata": {},
   "outputs": [],
   "source": [
    "import numpy as np\n",
    "from sklearn.preprocessing import KBinsDiscretizer\n",
    "from timeit import repeat\n",
    "import numpy as np\n",
    "from skforecast.preprocessing import QuantileBinner"
   ]
  },
  {
   "cell_type": "code",
   "execution_count": 22,
   "metadata": {},
   "outputs": [],
   "source": [
    "X = np.random.normal(10, 10, 10000)\n",
    "X_reshaped = X.reshape(-1, 1)"
   ]
  },
  {
   "cell_type": "code",
   "execution_count": 23,
   "metadata": {},
   "outputs": [
    {
     "name": "stdout",
     "output_type": "stream",
     "text": [
      "Sklearn KBinsDiscretizer {'dtype': <class 'numpy.float64'>, 'encode': 'ordinal', 'n_bins': 10, 'random_state': None, 'strategy': 'quantile', 'subsample': 200000}\n",
      "    Fit      : 11.770960 μs +- 4.991791\n",
      "    Transform: 0.762327 μs +- 0.376949\n",
      "\n",
      "QuantileBinner {'n_bins': 10, 'method': 'linear', 'subsample': 200000, 'dtype': <class 'numpy.float64'>}\n",
      "    Fit      : 9.236000 μs +- 2.183521\n",
      "    Transform: 0.135653 μs +- 0.126712\n",
      "\n",
      "QuantileBinner {'n_bins': 10, 'method': 'closest_observation', 'subsample': 200000, 'dtype': <class 'numpy.uint8'>}\n",
      "    Fit      : 7.307493 μs +- 1.689545\n",
      "    Transform: 0.118028 μs +- 0.081507\n"
     ]
    }
   ],
   "source": [
    "binner = KBinsDiscretizer(n_bins=10, encode='ordinal', strategy='quantile', dtype=np.float64)\n",
    "times_fit = repeat(\"binner.fit_transform(X_reshaped)\", repeat=100, number=10, globals=globals())\n",
    "times_transform = repeat(\"binner.transform(X_reshaped[0].reshape(1, -1))\", repeat=1000, number=10, globals=globals())\n",
    "print(f\"Sklearn KBinsDiscretizer {binner.get_params()}\")\n",
    "print(f\"    Fit      : {1000 * np.mean(times_fit):.6f} μs +- {1000 * np.std(times_fit):.6f}\")\n",
    "print(f\"    Transform: {1000 * np.mean(times_transform):.6f} μs +- {1000 * np.std(times_transform):.6f}\")\n",
    "print(\"\")\n",
    "\n",
    "binner = QuantileBinner(n_bins=10, method=\"linear\", dtype=np.float64)\n",
    "times_fit = repeat(\"binner.fit_transform(X)\", repeat=100, number=10, globals=globals())\n",
    "times_transform = repeat(\"binner.transform(X[0])\", repeat=1000, number=10, globals=globals())\n",
    "print(f\"QuantileBinner {binner.get_params()}\")\n",
    "print(f\"    Fit      : {1000 * np.mean(times_fit):.6f} μs +- {1000 * np.std(times_fit):.6f}\")\n",
    "print(f\"    Transform: {1000 * np.mean(times_transform):.6f} μs +- {1000 * np.std(times_transform):.6f}\")\n",
    "print(\"\")\n",
    "\n",
    "binner = QuantileBinner(n_bins=10, method=\"closest_observation\", dtype=np.uint8)\n",
    "times_fit = repeat(\"binner.fit_transform(X)\", repeat=100, number=10, globals=globals())\n",
    "times_transform = repeat(\"binner.transform(X[0])\", repeat=1000, number=10, globals=globals())\n",
    "print(f\"QuantileBinner {binner.get_params()}\")\n",
    "print(f\"    Fit      : {1000 * np.mean(times_fit):.6f} μs +- {1000 * np.std(times_fit):.6f}\")\n",
    "print(f\"    Transform: {1000 * np.mean(times_transform):.6f} μs +- {1000 * np.std(times_transform):.6f}\")"
   ]
  },
  {
   "cell_type": "code",
   "execution_count": 24,
   "metadata": {},
   "outputs": [
    {
     "name": "stdout",
     "output_type": "stream",
     "text": [
      "{'method': 'linear', 'n_bins': 2, 'subsample': 200000}\n",
      "{'method': 'linear', 'n_bins': 10, 'subsample': 200000}\n",
      "{'method': 'linear', 'n_bins': 20, 'subsample': 200000}\n"
     ]
    }
   ],
   "source": [
    "from sklearn.model_selection import ParameterGrid\n",
    "\n",
    "params = {\n",
    "    \"n_bins\": [2, 10, 20],\n",
    "    \"method\": [\"linear\"],\n",
    "    \"subsample\": [200000],\n",
    "}\n",
    "\n",
    "parm_grid = ParameterGrid(params)\n",
    "\n",
    "X = np.random.normal(10, 10, 10000)\n",
    "\n",
    "for param in parm_grid:\n",
    "    print(param)\n",
    "    binner_1 = KBinsDiscretizer(\n",
    "        n_bins=param[\"n_bins\"],\n",
    "        encode=\"ordinal\",\n",
    "        strategy=\"quantile\",\n",
    "        dtype=np.float64,\n",
    "        random_state=789654,\n",
    "    )\n",
    "    binner_2 = QuantileBinner(\n",
    "        n_bins=param[\"n_bins\"],\n",
    "        method=param[\"method\"],\n",
    "        subsample=param[\"subsample\"],\n",
    "        dtype=np.float64,\n",
    "        random_state=789654,\n",
    "    )\n",
    "\n",
    "    binner_1.fit(X.reshape(-1, 1))\n",
    "    binner_2.fit(X)\n",
    "\n",
    "    transformed_1 = binner_1.transform(X.reshape(-1, 1)).flatten()\n",
    "    transformed_2 = binner_2.transform(X)\n",
    "\n",
    "    np.testing.assert_array_almost_equal(binner_1.bin_edges_[0], binner_2.bin_edges_)\n",
    "    np.testing.assert_array_almost_equal(transformed_1, transformed_2)"
   ]
  }
 ],
 "metadata": {
  "kernelspec": {
   "display_name": "skforecast_14_p12",
   "language": "python",
   "name": "python3"
  },
  "language_info": {
   "codemirror_mode": {
    "name": "ipython",
    "version": 3
   },
   "file_extension": ".py",
   "mimetype": "text/x-python",
   "name": "python",
   "nbconvert_exporter": "python",
   "pygments_lexer": "ipython3",
   "version": "3.12.4"
  },
  "orig_nbformat": 4
 },
 "nbformat": 4,
 "nbformat_minor": 2
}
