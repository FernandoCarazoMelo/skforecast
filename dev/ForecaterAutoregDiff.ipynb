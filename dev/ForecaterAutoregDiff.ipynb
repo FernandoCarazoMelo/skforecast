{
 "cells": [
  {
   "cell_type": "code",
   "execution_count": 30,
   "metadata": {},
   "outputs": [
    {
     "name": "stdout",
     "output_type": "stream",
     "text": [
      "The autoreload extension is already loaded. To reload it, use:\n",
      "  %reload_ext autoreload\n"
     ]
    },
    {
     "data": {
      "text/plain": [
       "'/home/ubuntu/varios/skforecast'"
      ]
     },
     "execution_count": 30,
     "metadata": {},
     "output_type": "execute_result"
    }
   ],
   "source": [
    "%load_ext autoreload\n",
    "%autoreload 2\n",
    "import sys\n",
    "from pathlib import Path\n",
    "sys.path.insert(1, str(Path.cwd().parent))\n",
    "str(Path.cwd().parent)"
   ]
  },
  {
   "cell_type": "code",
   "execution_count": 64,
   "metadata": {},
   "outputs": [],
   "source": [
    "import numpy as np\n",
    "import pandas as pd\n",
    "import matplotlib.pyplot as plt\n",
    "\n",
    "from skforecast.ForecasterAutoregDiff import ForecasterAutoregDiff\n",
    "from sklearn.linear_model import Ridge"
   ]
  },
  {
   "cell_type": "code",
   "execution_count": 42,
   "metadata": {},
   "outputs": [],
   "source": [
    "# Create a random time series with 100 observations and date index\n",
    "n = 100\n",
    "np.random.seed(1)\n",
    "y = pd.Series(np.random.normal(size=n), index=pd.date_range(start=\"2000-01-01\", periods=n, freq=\"D\"))\n",
    "exog = pd.DataFrame(np.random.normal(size=(n, 2)), index=y.index, columns=[\"exog_1\", \"exog_2\"])"
   ]
  },
  {
   "cell_type": "code",
   "execution_count": 47,
   "metadata": {},
   "outputs": [
    {
     "data": {
      "text/html": [
       "<div>\n",
       "<style scoped>\n",
       "    .dataframe tbody tr th:only-of-type {\n",
       "        vertical-align: middle;\n",
       "    }\n",
       "\n",
       "    .dataframe tbody tr th {\n",
       "        vertical-align: top;\n",
       "    }\n",
       "\n",
       "    .dataframe thead th {\n",
       "        text-align: right;\n",
       "    }\n",
       "</style>\n",
       "<table border=\"1\" class=\"dataframe\">\n",
       "  <thead>\n",
       "    <tr style=\"text-align: right;\">\n",
       "      <th></th>\n",
       "      <th>lag_1</th>\n",
       "      <th>lag_2</th>\n",
       "      <th>lag_3</th>\n",
       "      <th>exog_1</th>\n",
       "      <th>exog_2</th>\n",
       "    </tr>\n",
       "  </thead>\n",
       "  <tbody>\n",
       "    <tr>\n",
       "      <th>2000-01-04</th>\n",
       "      <td>-0.528172</td>\n",
       "      <td>-0.611756</td>\n",
       "      <td>1.624345</td>\n",
       "      <td>0.740556</td>\n",
       "      <td>-0.953701</td>\n",
       "    </tr>\n",
       "    <tr>\n",
       "      <th>2000-01-05</th>\n",
       "      <td>-1.072969</td>\n",
       "      <td>-0.528172</td>\n",
       "      <td>-0.611756</td>\n",
       "      <td>-0.266219</td>\n",
       "      <td>0.032615</td>\n",
       "    </tr>\n",
       "    <tr>\n",
       "      <th>2000-01-06</th>\n",
       "      <td>0.865408</td>\n",
       "      <td>-1.072969</td>\n",
       "      <td>-0.528172</td>\n",
       "      <td>-1.373117</td>\n",
       "      <td>0.315159</td>\n",
       "    </tr>\n",
       "  </tbody>\n",
       "</table>\n",
       "</div>"
      ],
      "text/plain": [
       "               lag_1     lag_2     lag_3    exog_1    exog_2\n",
       "2000-01-04 -0.528172 -0.611756  1.624345  0.740556 -0.953701\n",
       "2000-01-05 -1.072969 -0.528172 -0.611756 -0.266219  0.032615\n",
       "2000-01-06  0.865408 -1.072969 -0.528172 -1.373117  0.315159"
      ]
     },
     "metadata": {},
     "output_type": "display_data"
    },
    {
     "data": {
      "text/plain": [
       "2000-01-04   -1.072969\n",
       "2000-01-05    0.865408\n",
       "2000-01-06   -2.301539\n",
       "Freq: D, Name: y, dtype: float64"
      ]
     },
     "metadata": {},
     "output_type": "display_data"
    }
   ],
   "source": [
    "forecaster = ForecasterAutoregDiff(\n",
    "    regressor = \"ridge\",\n",
    "    lags = 3,\n",
    "    differentiation = None,\n",
    ")\n",
    "\n",
    "X_train, y_train = forecaster.create_train_X_y(y=y, exog=exog)\n",
    "display(X_train.head(3))\n",
    "display(y_train.head(3))    "
   ]
  },
  {
   "cell_type": "code",
   "execution_count": 60,
   "metadata": {},
   "outputs": [
    {
     "data": {
      "text/html": [
       "<div>\n",
       "<style scoped>\n",
       "    .dataframe tbody tr th:only-of-type {\n",
       "        vertical-align: middle;\n",
       "    }\n",
       "\n",
       "    .dataframe tbody tr th {\n",
       "        vertical-align: top;\n",
       "    }\n",
       "\n",
       "    .dataframe thead th {\n",
       "        text-align: right;\n",
       "    }\n",
       "</style>\n",
       "<table border=\"1\" class=\"dataframe\">\n",
       "  <thead>\n",
       "    <tr style=\"text-align: right;\">\n",
       "      <th></th>\n",
       "      <th>lag_1</th>\n",
       "      <th>lag_2</th>\n",
       "      <th>lag_3</th>\n",
       "      <th>exog_1</th>\n",
       "      <th>exog_2</th>\n",
       "    </tr>\n",
       "  </thead>\n",
       "  <tbody>\n",
       "    <tr>\n",
       "      <th>2000-01-13</th>\n",
       "      <td>-600.366553</td>\n",
       "      <td>696.152708</td>\n",
       "      <td>-654.368930</td>\n",
       "      <td>-1.857982</td>\n",
       "      <td>1.236164</td>\n",
       "    </tr>\n",
       "    <tr>\n",
       "      <th>2000-01-14</th>\n",
       "      <td>466.194061</td>\n",
       "      <td>-600.366553</td>\n",
       "      <td>696.152708</td>\n",
       "      <td>1.627651</td>\n",
       "      <td>0.338012</td>\n",
       "    </tr>\n",
       "    <tr>\n",
       "      <th>2000-01-15</th>\n",
       "      <td>-414.417884</td>\n",
       "      <td>466.194061</td>\n",
       "      <td>-600.366553</td>\n",
       "      <td>-1.199268</td>\n",
       "      <td>0.863345</td>\n",
       "    </tr>\n",
       "    <tr>\n",
       "      <th>2000-01-16</th>\n",
       "      <td>453.888903</td>\n",
       "      <td>-414.417884</td>\n",
       "      <td>466.194061</td>\n",
       "      <td>-0.180920</td>\n",
       "      <td>-0.603921</td>\n",
       "    </tr>\n",
       "    <tr>\n",
       "      <th>2000-01-17</th>\n",
       "      <td>-482.878250</td>\n",
       "      <td>453.888903</td>\n",
       "      <td>-414.417884</td>\n",
       "      <td>-1.230058</td>\n",
       "      <td>0.550537</td>\n",
       "    </tr>\n",
       "    <tr>\n",
       "      <th>2000-01-18</th>\n",
       "      <td>437.182980</td>\n",
       "      <td>-482.878250</td>\n",
       "      <td>453.888903</td>\n",
       "      <td>0.792807</td>\n",
       "      <td>-0.623531</td>\n",
       "    </tr>\n",
       "    <tr>\n",
       "      <th>2000-01-19</th>\n",
       "      <td>-370.176082</td>\n",
       "      <td>437.182980</td>\n",
       "      <td>-482.878250</td>\n",
       "      <td>0.520576</td>\n",
       "      <td>-1.144341</td>\n",
       "    </tr>\n",
       "    <tr>\n",
       "      <th>2000-01-20</th>\n",
       "      <td>345.862551</td>\n",
       "      <td>-370.176082</td>\n",
       "      <td>437.182980</td>\n",
       "      <td>0.801861</td>\n",
       "      <td>0.046567</td>\n",
       "    </tr>\n",
       "    <tr>\n",
       "      <th>2000-01-21</th>\n",
       "      <td>-339.014212</td>\n",
       "      <td>345.862551</td>\n",
       "      <td>-370.176082</td>\n",
       "      <td>-0.186570</td>\n",
       "      <td>-0.101746</td>\n",
       "    </tr>\n",
       "    <tr>\n",
       "      <th>2000-01-22</th>\n",
       "      <td>293.995167</td>\n",
       "      <td>-339.014212</td>\n",
       "      <td>345.862551</td>\n",
       "      <td>0.868886</td>\n",
       "      <td>0.750412</td>\n",
       "    </tr>\n",
       "  </tbody>\n",
       "</table>\n",
       "</div>"
      ],
      "text/plain": [
       "                 lag_1       lag_2       lag_3    exog_1    exog_2\n",
       "2000-01-13 -600.366553  696.152708 -654.368930 -1.857982  1.236164\n",
       "2000-01-14  466.194061 -600.366553  696.152708  1.627651  0.338012\n",
       "2000-01-15 -414.417884  466.194061 -600.366553 -1.199268  0.863345\n",
       "2000-01-16  453.888903 -414.417884  466.194061 -0.180920 -0.603921\n",
       "2000-01-17 -482.878250  453.888903 -414.417884 -1.230058  0.550537\n",
       "2000-01-18  437.182980 -482.878250  453.888903  0.792807 -0.623531\n",
       "2000-01-19 -370.176082  437.182980 -482.878250  0.520576 -1.144341\n",
       "2000-01-20  345.862551 -370.176082  437.182980  0.801861  0.046567\n",
       "2000-01-21 -339.014212  345.862551 -370.176082 -0.186570 -0.101746\n",
       "2000-01-22  293.995167 -339.014212  345.862551  0.868886  0.750412"
      ]
     },
     "metadata": {},
     "output_type": "display_data"
    },
    {
     "data": {
      "text/plain": [
       "2000-01-13    466.194061\n",
       "2000-01-14   -414.417884\n",
       "2000-01-15    453.888903\n",
       "2000-01-16   -482.878250\n",
       "2000-01-17    437.182980\n",
       "2000-01-18   -370.176082\n",
       "2000-01-19    345.862551\n",
       "2000-01-20   -339.014212\n",
       "2000-01-21    293.995167\n",
       "2000-01-22   -196.739156\n",
       "Freq: D, Name: y, dtype: float64"
      ]
     },
     "metadata": {},
     "output_type": "display_data"
    }
   ],
   "source": [
    "forecaster = ForecasterAutoregDiff(\n",
    "    regressor = \"ridge\",\n",
    "    lags = 3,\n",
    "    differentiation = 9,\n",
    ")\n",
    "\n",
    "X_train, y_train = forecaster.create_train_X_y(y=y, exog=exog)\n",
    "display(X_train.head(10))\n",
    "display(y_train.head(10))    "
   ]
  },
  {
   "cell_type": "code",
   "execution_count": 72,
   "metadata": {},
   "outputs": [
    {
     "data": {
      "text/plain": [
       "2000-04-10    0.475257\n",
       "2000-04-11    0.589603\n",
       "2000-04-12    0.347635\n",
       "2000-04-13    0.563692\n",
       "2000-04-14    0.485382\n",
       "Freq: D, Name: pred, dtype: float64"
      ]
     },
     "execution_count": 72,
     "metadata": {},
     "output_type": "execute_result"
    }
   ],
   "source": [
    "forecaster = ForecasterAutoregDiff(\n",
    "    regressor = Ridge(),\n",
    "    lags = 3,\n",
    "    differentiation = 1,\n",
    ")\n",
    "forecaster.fit(y=y)\n",
    "forecaster.predict(steps=5)"
   ]
  },
  {
   "cell_type": "code",
   "execution_count": 73,
   "metadata": {},
   "outputs": [
    {
     "data": {
      "text/plain": [
       "2000-04-10    0.034849\n",
       "2000-04-11    0.227546\n",
       "2000-04-12   -0.099882\n",
       "2000-04-13    0.070084\n",
       "2000-04-14    0.015421\n",
       "Freq: D, Name: pred, dtype: float64"
      ]
     },
     "execution_count": 73,
     "metadata": {},
     "output_type": "execute_result"
    }
   ],
   "source": [
    "forecaster = ForecasterAutoregDiff(\n",
    "    regressor = Ridge(),\n",
    "    lags = 3,\n",
    "    differentiation = None\n",
    ")\n",
    "forecaster.fit(y=y)\n",
    "forecaster.predict(steps=5)"
   ]
  },
  {
   "cell_type": "code",
   "execution_count": 42,
   "metadata": {},
   "outputs": [
    {
     "name": "stdout",
     "output_type": "stream",
     "text": [
      "Original time series: [0 1 2 3 4 5 6 7 8 9]\n",
      "Differentiated time series: [1 1 1 1 1 1 1 1 1]\n",
      "Reverted time series: [array([0, 1, 2, 3, 4, 5, 6, 7, 8, 9])]\n"
     ]
    }
   ],
   "source": [
    "from sklearn.base import BaseEstimator, TransformerMixin\n",
    "import numpy as np\n",
    "\n",
    "class TimeSeriesDifferentiator(BaseEstimator, TransformerMixin):\n",
    "    \"\"\"\n",
    "    Transforms a time series into a differentiated time series of order n.\n",
    "    It also reverts the differentiation.\n",
    "\n",
    "    Parameters\n",
    "    ----------\n",
    "    order : int\n",
    "        Order of differentiation.\n",
    "\n",
    "    Attributes\n",
    "    ----------\n",
    "    initial_values : list\n",
    "        List with the initial value the time series after each differentiation.\n",
    "        This is used to revert the differentiation.\n",
    "    order : int\n",
    "        Order of differentiation.   \n",
    "\n",
    "    \"\"\"\n",
    "    \n",
    "    def __init__(self, order=1):\n",
    "        self.order = order\n",
    "        self.initial_values = []\n",
    "    \n",
    "    def fit(self, X, y=None):\n",
    "        \"\"\"\n",
    "        Fits the transformer. This method does nothing.\n",
    "        \"\"\"\n",
    "        pass\n",
    "    \n",
    "    def transform(self, X, y=None):\n",
    "        \"\"\"\n",
    "        Transforms a time series into a differentiated time series of order n.\n",
    "\n",
    "        Parameters\n",
    "        ----------\n",
    "        X : array-like of shape (n_samples,)\n",
    "            Time series to be differentiated.\n",
    "        y : None\n",
    "            Ignored.\n",
    "        \n",
    "        Returns\n",
    "        -------\n",
    "        X_diff : array-like of shape (n_samples,)\n",
    "            Differentiated time series.\n",
    "\n",
    "        \"\"\"\n",
    "        for i in range(self.order):\n",
    "            if i == 0:\n",
    "                self.initial_values.append(X[0])\n",
    "                X_diff = np.diff(X, n=1)\n",
    "            else:\n",
    "                self.initial_values.append(X_diff[0])\n",
    "                X_diff = np.diff(X_diff, n=1)\n",
    "        return X_diff\n",
    "    \n",
    "    def inverse_transform(self, X, y=None):\n",
    "        \"\"\"\n",
    "        Reverts the differentiation.\n",
    "\n",
    "        Parameters\n",
    "        ----------\n",
    "        X : array-like of shape (n_samples,)\n",
    "            Differentiated time series.\n",
    "        y : None\n",
    "            Ignored.\n",
    "        \n",
    "        Returns\n",
    "        -------\n",
    "        X_diff : array-like of shape (n_samples,)\n",
    "            Reverted differentiated time series.\n",
    "\n",
    "        \"\"\"\n",
    "        for i in range(self.order):\n",
    "            if i == 0:\n",
    "                X_diff = np.insert(X, 0, self.initial_values[self.order-1])\n",
    "                X_diff = np.cumsum(X_diff)\n",
    "            else:\n",
    "                X_diff = np.insert(X_diff, 0, self.initial_values[self.order-i-1])\n",
    "                X_diff = np.cumsum(X_diff)\n",
    "        return [X_diff]\n",
    "\n",
    "\n",
    "\n",
    "# Generate a sample time series\n",
    "X = np.arange(10)\n",
    "\n",
    "# Differentiate the time series up to order 1\n",
    "differentiator = TimeSeriesDifferentiator(order=1)\n",
    "differentiator.fit(X)\n",
    "X_diff = differentiator.transform(X)\n",
    "\n",
    "# Revert the differentiation\n",
    "X_reverted = differentiator.inverse_transform(X_diff)\n",
    "\n",
    "# Print the original time series, the differentiated time series, and the reverted time series\n",
    "print(f\"Original time series: {X}\")\n",
    "print(f\"Differentiated time series: {X_diff}\")\n",
    "print(f\"Reverted time series: {X_reverted}\")"
   ]
  }
 ],
 "metadata": {
  "kernelspec": {
   "display_name": "skforecast_py10",
   "language": "python",
   "name": "python3"
  },
  "language_info": {
   "codemirror_mode": {
    "name": "ipython",
    "version": 3
   },
   "file_extension": ".py",
   "mimetype": "text/x-python",
   "name": "python",
   "nbconvert_exporter": "python",
   "pygments_lexer": "ipython3",
   "version": "3.10.9"
  },
  "orig_nbformat": 4,
  "vscode": {
   "interpreter": {
    "hash": "c78d62c1713fdacd99ef7c429003c7324b36fbb551fb8b6860a7ea73e9338235"
   }
  }
 },
 "nbformat": 4,
 "nbformat_minor": 2
}
