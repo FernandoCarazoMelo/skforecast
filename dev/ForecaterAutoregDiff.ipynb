{
 "cells": [
  {
   "cell_type": "code",
   "execution_count": 42,
   "metadata": {},
   "outputs": [
    {
     "name": "stdout",
     "output_type": "stream",
     "text": [
      "The autoreload extension is already loaded. To reload it, use:\n",
      "  %reload_ext autoreload\n"
     ]
    },
    {
     "data": {
      "text/plain": [
       "'c:\\\\Users\\\\Joaquín Amat\\\\Documents\\\\GitHub\\\\skforecast'"
      ]
     },
     "execution_count": 42,
     "metadata": {},
     "output_type": "execute_result"
    }
   ],
   "source": [
    "%load_ext autoreload\n",
    "%autoreload 2\n",
    "import sys\n",
    "from pathlib import Path\n",
    "sys.path.insert(1, str(Path.cwd().parent))\n",
    "str(Path.cwd().parent)"
   ]
  },
  {
   "cell_type": "code",
   "execution_count": 43,
   "metadata": {},
   "outputs": [],
   "source": [
    "import numpy as np\n",
    "import pandas as pd\n",
    "import matplotlib.pyplot as plt\n",
    "\n",
    "from skforecast.ForecasterAutoregDiff import ForecasterAutoregDiff\n",
    "from sklearn.linear_model import Ridge"
   ]
  },
  {
   "cell_type": "code",
   "execution_count": 44,
   "metadata": {},
   "outputs": [
    {
     "data": {
      "text/plain": [
       "2000-01-01    1.624345\n",
       "2000-01-02   -0.611756\n",
       "2000-01-03   -0.528172\n",
       "2000-01-04   -1.072969\n",
       "2000-01-05    0.865408\n",
       "                ...   \n",
       "2000-04-05    0.077340\n",
       "2000-04-06   -0.343854\n",
       "2000-04-07    0.043597\n",
       "2000-04-08   -0.620001\n",
       "2000-04-09    0.698032\n",
       "Freq: D, Length: 100, dtype: float64"
      ]
     },
     "execution_count": 44,
     "metadata": {},
     "output_type": "execute_result"
    }
   ],
   "source": [
    "# Create a random time series with 100 observations and date index\n",
    "n = 100\n",
    "np.random.seed(1)\n",
    "y = pd.Series(np.random.normal(size=n), index=pd.date_range(start=\"2000-01-01\", periods=n, freq=\"D\"))\n",
    "exog = pd.DataFrame(np.random.normal(size=(n, 2)), index=y.index, columns=[\"exog_1\", \"exog_2\"])\n",
    "y"
   ]
  },
  {
   "cell_type": "code",
   "execution_count": 45,
   "metadata": {},
   "outputs": [
    {
     "data": {
      "text/html": [
       "<div>\n",
       "<style scoped>\n",
       "    .dataframe tbody tr th:only-of-type {\n",
       "        vertical-align: middle;\n",
       "    }\n",
       "\n",
       "    .dataframe tbody tr th {\n",
       "        vertical-align: top;\n",
       "    }\n",
       "\n",
       "    .dataframe thead th {\n",
       "        text-align: right;\n",
       "    }\n",
       "</style>\n",
       "<table border=\"1\" class=\"dataframe\">\n",
       "  <thead>\n",
       "    <tr style=\"text-align: right;\">\n",
       "      <th></th>\n",
       "      <th>lag_1</th>\n",
       "      <th>lag_2</th>\n",
       "      <th>lag_3</th>\n",
       "      <th>exog_1</th>\n",
       "      <th>exog_2</th>\n",
       "    </tr>\n",
       "  </thead>\n",
       "  <tbody>\n",
       "    <tr>\n",
       "      <th>2000-01-04</th>\n",
       "      <td>-0.528172</td>\n",
       "      <td>-0.611756</td>\n",
       "      <td>1.624345</td>\n",
       "      <td>0.740556</td>\n",
       "      <td>-0.953701</td>\n",
       "    </tr>\n",
       "    <tr>\n",
       "      <th>2000-01-05</th>\n",
       "      <td>-1.072969</td>\n",
       "      <td>-0.528172</td>\n",
       "      <td>-0.611756</td>\n",
       "      <td>-0.266219</td>\n",
       "      <td>0.032615</td>\n",
       "    </tr>\n",
       "    <tr>\n",
       "      <th>2000-01-06</th>\n",
       "      <td>0.865408</td>\n",
       "      <td>-1.072969</td>\n",
       "      <td>-0.528172</td>\n",
       "      <td>-1.373117</td>\n",
       "      <td>0.315159</td>\n",
       "    </tr>\n",
       "  </tbody>\n",
       "</table>\n",
       "</div>"
      ],
      "text/plain": [
       "               lag_1     lag_2     lag_3    exog_1    exog_2\n",
       "2000-01-04 -0.528172 -0.611756  1.624345  0.740556 -0.953701\n",
       "2000-01-05 -1.072969 -0.528172 -0.611756 -0.266219  0.032615\n",
       "2000-01-06  0.865408 -1.072969 -0.528172 -1.373117  0.315159"
      ]
     },
     "metadata": {},
     "output_type": "display_data"
    },
    {
     "data": {
      "text/plain": [
       "2000-01-04   -1.072969\n",
       "2000-01-05    0.865408\n",
       "2000-01-06   -2.301539\n",
       "Freq: D, Name: y, dtype: float64"
      ]
     },
     "metadata": {},
     "output_type": "display_data"
    }
   ],
   "source": [
    "forecaster = ForecasterAutoregDiff(\n",
    "    regressor = \"ridge\",\n",
    "    lags = 3,\n",
    "    differentiation = None,\n",
    ")\n",
    "\n",
    "X_train, y_train = forecaster.create_train_X_y(y=y, exog=exog)\n",
    "display(X_train.head(3))\n",
    "display(y_train.head(3))    "
   ]
  },
  {
   "cell_type": "code",
   "execution_count": 46,
   "metadata": {},
   "outputs": [
    {
     "data": {
      "text/html": [
       "<div>\n",
       "<style scoped>\n",
       "    .dataframe tbody tr th:only-of-type {\n",
       "        vertical-align: middle;\n",
       "    }\n",
       "\n",
       "    .dataframe tbody tr th {\n",
       "        vertical-align: top;\n",
       "    }\n",
       "\n",
       "    .dataframe thead th {\n",
       "        text-align: right;\n",
       "    }\n",
       "</style>\n",
       "<table border=\"1\" class=\"dataframe\">\n",
       "  <thead>\n",
       "    <tr style=\"text-align: right;\">\n",
       "      <th></th>\n",
       "      <th>lag_1</th>\n",
       "      <th>lag_2</th>\n",
       "      <th>lag_3</th>\n",
       "      <th>exog_1</th>\n",
       "      <th>exog_2</th>\n",
       "    </tr>\n",
       "  </thead>\n",
       "  <tbody>\n",
       "    <tr>\n",
       "      <th>2000-01-14</th>\n",
       "      <td>1066.560613</td>\n",
       "      <td>-1296.519261</td>\n",
       "      <td>1350.521639</td>\n",
       "      <td>1.627651</td>\n",
       "      <td>0.338012</td>\n",
       "    </tr>\n",
       "    <tr>\n",
       "      <th>2000-01-15</th>\n",
       "      <td>-880.611945</td>\n",
       "      <td>1066.560613</td>\n",
       "      <td>-1296.519261</td>\n",
       "      <td>-1.199268</td>\n",
       "      <td>0.863345</td>\n",
       "    </tr>\n",
       "    <tr>\n",
       "      <th>2000-01-16</th>\n",
       "      <td>868.306788</td>\n",
       "      <td>-880.611945</td>\n",
       "      <td>1066.560613</td>\n",
       "      <td>-0.180920</td>\n",
       "      <td>-0.603921</td>\n",
       "    </tr>\n",
       "    <tr>\n",
       "      <th>2000-01-17</th>\n",
       "      <td>-936.767154</td>\n",
       "      <td>868.306788</td>\n",
       "      <td>-880.611945</td>\n",
       "      <td>-1.230058</td>\n",
       "      <td>0.550537</td>\n",
       "    </tr>\n",
       "    <tr>\n",
       "      <th>2000-01-18</th>\n",
       "      <td>920.061230</td>\n",
       "      <td>-936.767154</td>\n",
       "      <td>868.306788</td>\n",
       "      <td>0.792807</td>\n",
       "      <td>-0.623531</td>\n",
       "    </tr>\n",
       "    <tr>\n",
       "      <th>2000-01-19</th>\n",
       "      <td>-807.359062</td>\n",
       "      <td>920.061230</td>\n",
       "      <td>-936.767154</td>\n",
       "      <td>0.520576</td>\n",
       "      <td>-1.144341</td>\n",
       "    </tr>\n",
       "    <tr>\n",
       "      <th>2000-01-20</th>\n",
       "      <td>716.038633</td>\n",
       "      <td>-807.359062</td>\n",
       "      <td>920.061230</td>\n",
       "      <td>0.801861</td>\n",
       "      <td>0.046567</td>\n",
       "    </tr>\n",
       "    <tr>\n",
       "      <th>2000-01-21</th>\n",
       "      <td>-684.876763</td>\n",
       "      <td>716.038633</td>\n",
       "      <td>-807.359062</td>\n",
       "      <td>-0.186570</td>\n",
       "      <td>-0.101746</td>\n",
       "    </tr>\n",
       "    <tr>\n",
       "      <th>2000-01-22</th>\n",
       "      <td>633.009380</td>\n",
       "      <td>-684.876763</td>\n",
       "      <td>716.038633</td>\n",
       "      <td>0.868886</td>\n",
       "      <td>0.750412</td>\n",
       "    </tr>\n",
       "    <tr>\n",
       "      <th>2000-01-23</th>\n",
       "      <td>-490.734323</td>\n",
       "      <td>633.009380</td>\n",
       "      <td>-684.876763</td>\n",
       "      <td>0.529465</td>\n",
       "      <td>0.137701</td>\n",
       "    </tr>\n",
       "  </tbody>\n",
       "</table>\n",
       "</div>"
      ],
      "text/plain": [
       "                  lag_1        lag_2        lag_3    exog_1    exog_2\n",
       "2000-01-14  1066.560613 -1296.519261  1350.521639  1.627651  0.338012\n",
       "2000-01-15  -880.611945  1066.560613 -1296.519261 -1.199268  0.863345\n",
       "2000-01-16   868.306788  -880.611945  1066.560613 -0.180920 -0.603921\n",
       "2000-01-17  -936.767154   868.306788  -880.611945 -1.230058  0.550537\n",
       "2000-01-18   920.061230  -936.767154   868.306788  0.792807 -0.623531\n",
       "2000-01-19  -807.359062   920.061230  -936.767154  0.520576 -1.144341\n",
       "2000-01-20   716.038633  -807.359062   920.061230  0.801861  0.046567\n",
       "2000-01-21  -684.876763   716.038633  -807.359062 -0.186570 -0.101746\n",
       "2000-01-22   633.009380  -684.876763   716.038633  0.868886  0.750412\n",
       "2000-01-23  -490.734323   633.009380  -684.876763  0.529465  0.137701"
      ]
     },
     "metadata": {},
     "output_type": "display_data"
    },
    {
     "data": {
      "text/plain": [
       "2000-01-14   -880.611945\n",
       "2000-01-15    868.306788\n",
       "2000-01-16   -936.767154\n",
       "2000-01-17    920.061230\n",
       "2000-01-18   -807.359062\n",
       "2000-01-19    716.038633\n",
       "2000-01-20   -684.876763\n",
       "2000-01-21    633.009380\n",
       "2000-01-22   -490.734323\n",
       "2000-01-23    250.388653\n",
       "Freq: D, Name: y, dtype: float64"
      ]
     },
     "metadata": {},
     "output_type": "display_data"
    }
   ],
   "source": [
    "forecaster = ForecasterAutoregDiff(\n",
    "    regressor = Ridge(),\n",
    "    lags = 3,\n",
    "    differentiation = 10,\n",
    ")\n",
    "\n",
    "X_train, y_train = forecaster.create_train_X_y(y=y, exog=exog)\n",
    "display(X_train.head(10))\n",
    "display(y_train.head(10))    "
   ]
  },
  {
   "cell_type": "code",
   "execution_count": 47,
   "metadata": {},
   "outputs": [
    {
     "data": {
      "text/plain": [
       "2000-04-10   -1.103449\n",
       "2000-04-11   -0.863422\n",
       "2000-04-12   -1.207648\n",
       "2000-04-13   -0.767063\n",
       "2000-04-14   -1.004409\n",
       "Freq: D, Name: pred, dtype: float64"
      ]
     },
     "execution_count": 47,
     "metadata": {},
     "output_type": "execute_result"
    }
   ],
   "source": [
    "forecaster = ForecasterAutoregDiff(\n",
    "    regressor = Ridge(),\n",
    "    lags = 3,\n",
    "    differentiation = 1,\n",
    ")\n",
    "forecaster.fit(y=y)\n",
    "forecaster.predict(steps=5)"
   ]
  },
  {
   "cell_type": "code",
   "execution_count": 48,
   "metadata": {},
   "outputs": [
    {
     "data": {
      "text/plain": [
       "2000-04-10    0.034849\n",
       "2000-04-11    0.227546\n",
       "2000-04-12   -0.099882\n",
       "2000-04-13    0.070084\n",
       "2000-04-14    0.015421\n",
       "Freq: D, Name: pred, dtype: float64"
      ]
     },
     "execution_count": 48,
     "metadata": {},
     "output_type": "execute_result"
    }
   ],
   "source": [
    "forecaster = ForecasterAutoregDiff(\n",
    "    regressor = Ridge(),\n",
    "    lags = 3,\n",
    "    differentiation = None\n",
    ")\n",
    "forecaster.fit(y=y)\n",
    "forecaster.predict(steps=5)"
   ]
  },
  {
   "cell_type": "code",
   "execution_count": 1,
   "metadata": {},
   "outputs": [
    {
     "name": "stdout",
     "output_type": "stream",
     "text": [
      "Original time series: [0 1 2 3 4 5 6 7 8 9]\n",
      "Differentiated time series: [1 1 1 1 1 1 1 1 1]\n",
      "Reverted time series: [array([0, 1, 2, 3, 4, 5, 6, 7, 8, 9])]\n"
     ]
    }
   ],
   "source": [
    "from sklearn.base import BaseEstimator, TransformerMixin\n",
    "import numpy as np\n",
    "\n",
    "class TimeSeriesDifferentiator(BaseEstimator, TransformerMixin):\n",
    "    \"\"\"\n",
    "    Transforms a time series into a differentiated time series of order n.\n",
    "    It also reverts the differentiation.\n",
    "\n",
    "    Parameters\n",
    "    ----------\n",
    "    order : int\n",
    "        Order of differentiation.\n",
    "\n",
    "    Attributes\n",
    "    ----------\n",
    "    initial_values : list\n",
    "        List with the initial value the time series after each differentiation.\n",
    "        This is used to revert the differentiation.\n",
    "    order : int\n",
    "        Order of differentiation.   \n",
    "\n",
    "    \"\"\"\n",
    "    \n",
    "    def __init__(self, order=1):\n",
    "        self.order = order\n",
    "        self.initial_values = []\n",
    "    \n",
    "    def fit(self, X, y=None):\n",
    "        \"\"\"\n",
    "        Fits the transformer. This method does nothing.\n",
    "        \"\"\"\n",
    "        pass\n",
    "    \n",
    "    def transform(self, X, y=None):\n",
    "        \"\"\"\n",
    "        Transforms a time series into a differentiated time series of order n.\n",
    "\n",
    "        Parameters\n",
    "        ----------\n",
    "        X : array-like of shape (n_samples,)\n",
    "            Time series to be differentiated.\n",
    "        y : None\n",
    "            Ignored.\n",
    "        \n",
    "        Returns\n",
    "        -------\n",
    "        X_diff : array-like of shape (n_samples,)\n",
    "            Differentiated time series.\n",
    "\n",
    "        \"\"\"\n",
    "        for i in range(self.order):\n",
    "            if i == 0:\n",
    "                self.initial_values.append(X[0])\n",
    "                X_diff = np.diff(X, n=1)\n",
    "            else:\n",
    "                self.initial_values.append(X_diff[0])\n",
    "                X_diff = np.diff(X_diff, n=1)\n",
    "        return X_diff\n",
    "    \n",
    "    def inverse_transform(self, X, y=None):\n",
    "        \"\"\"\n",
    "        Reverts the differentiation.\n",
    "\n",
    "        Parameters\n",
    "        ----------\n",
    "        X : array-like of shape (n_samples,)\n",
    "            Differentiated time series.\n",
    "        y : None\n",
    "            Ignored.\n",
    "        \n",
    "        Returns\n",
    "        -------\n",
    "        X_diff : array-like of shape (n_samples,)\n",
    "            Reverted differentiated time series.\n",
    "\n",
    "        \"\"\"\n",
    "        for i in range(self.order):\n",
    "            if i == 0:\n",
    "                X_diff = np.insert(X, 0, self.initial_values[self.order-1])\n",
    "                X_diff = np.cumsum(X_diff)\n",
    "            else:\n",
    "                X_diff = np.insert(X_diff, 0, self.initial_values[self.order-i-1])\n",
    "                X_diff = np.cumsum(X_diff)\n",
    "        return X_diff\n",
    "\n",
    "\n",
    "\n",
    "# Generate a sample time series\n",
    "X = np.arange(10)\n",
    "\n",
    "# Differentiate the time series up to order 1\n",
    "differentiator = TimeSeriesDifferentiator(order=1)\n",
    "differentiator.fit(X)\n",
    "X_diff = differentiator.transform(X)\n",
    "\n",
    "# Revert the differentiation\n",
    "X_reverted = differentiator.inverse_transform(X_diff)\n",
    "\n",
    "# Print the original time series, the differentiated time series, and the reverted time series\n",
    "print(f\"Original time series: {X}\")\n",
    "print(f\"Differentiated time series: {X_diff}\")\n",
    "print(f\"Reverted time series: {X_reverted}\")"
   ]
  }
 ],
 "metadata": {
  "kernelspec": {
   "display_name": "skforecast_py10",
   "language": "python",
   "name": "python3"
  },
  "language_info": {
   "codemirror_mode": {
    "name": "ipython",
    "version": 3
   },
   "file_extension": ".py",
   "mimetype": "text/x-python",
   "name": "python",
   "nbconvert_exporter": "python",
   "pygments_lexer": "ipython3",
   "version": "3.11.4"
  },
  "orig_nbformat": 4,
  "vscode": {
   "interpreter": {
    "hash": "c78d62c1713fdacd99ef7c429003c7324b36fbb551fb8b6860a7ea73e9338235"
   }
  }
 },
 "nbformat": 4,
 "nbformat_minor": 2
}
