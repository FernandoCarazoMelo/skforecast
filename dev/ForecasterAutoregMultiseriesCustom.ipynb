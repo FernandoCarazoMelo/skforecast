{
 "cells": [
  {
   "cell_type": "code",
   "execution_count": 1,
   "metadata": {},
   "outputs": [
    {
     "data": {
      "text/plain": [
       "'/home/ubuntu/varios/skforecast'"
      ]
     },
     "execution_count": 1,
     "metadata": {},
     "output_type": "execute_result"
    }
   ],
   "source": [
    "%load_ext autoreload\n",
    "%autoreload 2\n",
    "import sys\n",
    "from pathlib import Path\n",
    "sys.path.insert(1, str(Path.cwd().parent))\n",
    "str(Path.cwd().parent)"
   ]
  },
  {
   "cell_type": "code",
   "execution_count": 2,
   "metadata": {},
   "outputs": [],
   "source": [
    "import pandas as pd\n",
    "import numpy as np\n",
    "from sklearn.metrics import mean_absolute_error\n",
    "from sklearn.linear_model import Ridge\n",
    "from sklearn.compose import ColumnTransformer\n",
    "from sklearn.preprocessing import StandardScaler\n",
    "from sklearn.preprocessing import OneHotEncoder\n",
    "from skforecast.ForecasterAutoregMultiSeriesCustom import ForecasterAutoregMultiSeriesCustom\n",
    "from skforecast.ForecasterAutoregCustom import ForecasterAutoregCustom"
   ]
  },
  {
   "cell_type": "code",
   "execution_count": 3,
   "metadata": {},
   "outputs": [],
   "source": [
    "# Download data\n",
    "# ==============================================================================\n",
    "url = ('https://raw.githubusercontent.com/JoaquinAmatRodrigo/skforecast/master/data/h2o.csv')\n",
    "data = pd.read_csv(url, sep=',', header=0, names=['y', 'date'])\n",
    "data['date'] = pd.to_datetime(data['date'], format='%Y/%m/%d')\n",
    "data = data.set_index('date')\n",
    "data = data.asfreq('MS')\n",
    "data = data.y\n",
    "data = pd.concat((data, data*10), axis=1)\n",
    "data.columns = ['series_1', 'series_2']\n",
    "exog_1 = pd.Series(np.arange(len(data)), index=data.index)\n",
    "exog_2 = exog_1 * 10\n",
    "exog = pd.concat((exog_1, exog_2), axis=1)\n",
    "exog.columns = ['exog_1', 'exog_2']\n",
    "\n",
    "data_train = data.loc[:'2007-12-31']\n",
    "exog_train = exog.loc[:'2007-12-31']\n",
    "data_test = data.loc['2008-01-01 00:00:00':]\n",
    "exog_test = exog.loc['2008-01-01 00:00:00':]"
   ]
  },
  {
   "cell_type": "code",
   "execution_count": 4,
   "metadata": {},
   "outputs": [],
   "source": [
    "# Custom function to create predictors\n",
    "# ==============================================================================\n",
    "def create_predictors(y):\n",
    "    \"\"\"\n",
    "    Create first 3 lags of a time series.\n",
    "    Calculate moving average with window 20.\n",
    "    \"\"\"\n",
    "\n",
    "    lags = y[-1:-3:-1]\n",
    "    mean = np.mean(y[-20:])\n",
    "    predictors = np.hstack([lags, mean])\n",
    "\n",
    "    return predictors"
   ]
  },
  {
   "cell_type": "code",
   "execution_count": 5,
   "metadata": {},
   "outputs": [],
   "source": [
    "# Create forecaster\n",
    "# ==============================================================================\n",
    "forecaster = ForecasterAutoregMultiSeriesCustom(\n",
    "                 regressor       = Ridge(random_state=123),\n",
    "                 fun_predictors  = create_predictors,\n",
    "                 window_size     = 20,\n",
    "                 name_predictors = ['lag_1', 'lag_2', 'lag_3']\n",
    "             )"
   ]
  },
  {
   "cell_type": "code",
   "execution_count": 6,
   "metadata": {},
   "outputs": [],
   "source": [
    "X_train, y_train, y_index, y_train_index = forecaster.create_train_X_y(series=data, exog=exog)"
   ]
  },
  {
   "cell_type": "code",
   "execution_count": 7,
   "metadata": {},
   "outputs": [
    {
     "data": {
      "text/plain": [
       "['lag_1', 'lag_2', 'lag_3']"
      ]
     },
     "execution_count": 7,
     "metadata": {},
     "output_type": "execute_result"
    }
   ],
   "source": [
    "forecaster.name_predictors"
   ]
  },
  {
   "cell_type": "code",
   "execution_count": 8,
   "metadata": {},
   "outputs": [
    {
     "data": {
      "text/html": [
       "<div>\n",
       "<style scoped>\n",
       "    .dataframe tbody tr th:only-of-type {\n",
       "        vertical-align: middle;\n",
       "    }\n",
       "\n",
       "    .dataframe tbody tr th {\n",
       "        vertical-align: top;\n",
       "    }\n",
       "\n",
       "    .dataframe thead th {\n",
       "        text-align: right;\n",
       "    }\n",
       "</style>\n",
       "<table border=\"1\" class=\"dataframe\">\n",
       "  <thead>\n",
       "    <tr style=\"text-align: right;\">\n",
       "      <th></th>\n",
       "      <th>lag_1</th>\n",
       "      <th>lag_2</th>\n",
       "      <th>lag_3</th>\n",
       "      <th>exog_1</th>\n",
       "      <th>exog_2</th>\n",
       "      <th>series_1</th>\n",
       "      <th>series_2</th>\n",
       "    </tr>\n",
       "  </thead>\n",
       "  <tbody>\n",
       "    <tr>\n",
       "      <th>0</th>\n",
       "      <td>0.387554</td>\n",
       "      <td>0.751503</td>\n",
       "      <td>0.496401</td>\n",
       "      <td>20.0</td>\n",
       "      <td>200.0</td>\n",
       "      <td>1.0</td>\n",
       "      <td>0.0</td>\n",
       "    </tr>\n",
       "    <tr>\n",
       "      <th>1</th>\n",
       "      <td>0.427283</td>\n",
       "      <td>0.387554</td>\n",
       "      <td>0.496275</td>\n",
       "      <td>21.0</td>\n",
       "      <td>210.0</td>\n",
       "      <td>1.0</td>\n",
       "      <td>0.0</td>\n",
       "    </tr>\n",
       "    <tr>\n",
       "      <th>2</th>\n",
       "      <td>0.413890</td>\n",
       "      <td>0.427283</td>\n",
       "      <td>0.496924</td>\n",
       "      <td>22.0</td>\n",
       "      <td>220.0</td>\n",
       "      <td>1.0</td>\n",
       "      <td>0.0</td>\n",
       "    </tr>\n",
       "    <tr>\n",
       "      <th>3</th>\n",
       "      <td>0.428859</td>\n",
       "      <td>0.413890</td>\n",
       "      <td>0.496759</td>\n",
       "      <td>23.0</td>\n",
       "      <td>230.0</td>\n",
       "      <td>1.0</td>\n",
       "      <td>0.0</td>\n",
       "    </tr>\n",
       "    <tr>\n",
       "      <th>4</th>\n",
       "      <td>0.470126</td>\n",
       "      <td>0.428859</td>\n",
       "      <td>0.495638</td>\n",
       "      <td>24.0</td>\n",
       "      <td>240.0</td>\n",
       "      <td>1.0</td>\n",
       "      <td>0.0</td>\n",
       "    </tr>\n",
       "    <tr>\n",
       "      <th>...</th>\n",
       "      <td>...</td>\n",
       "      <td>...</td>\n",
       "      <td>...</td>\n",
       "      <td>...</td>\n",
       "      <td>...</td>\n",
       "      <td>...</td>\n",
       "      <td>...</td>\n",
       "    </tr>\n",
       "    <tr>\n",
       "      <th>363</th>\n",
       "      <td>12.199410</td>\n",
       "      <td>11.765890</td>\n",
       "      <td>9.803897</td>\n",
       "      <td>199.0</td>\n",
       "      <td>1990.0</td>\n",
       "      <td>0.0</td>\n",
       "      <td>1.0</td>\n",
       "    </tr>\n",
       "    <tr>\n",
       "      <th>364</th>\n",
       "      <td>7.618220</td>\n",
       "      <td>12.199410</td>\n",
       "      <td>9.785823</td>\n",
       "      <td>200.0</td>\n",
       "      <td>2000.0</td>\n",
       "      <td>0.0</td>\n",
       "      <td>1.0</td>\n",
       "    </tr>\n",
       "    <tr>\n",
       "      <th>365</th>\n",
       "      <td>6.494350</td>\n",
       "      <td>7.618220</td>\n",
       "      <td>9.668384</td>\n",
       "      <td>201.0</td>\n",
       "      <td>2010.0</td>\n",
       "      <td>0.0</td>\n",
       "      <td>1.0</td>\n",
       "    </tr>\n",
       "    <tr>\n",
       "      <th>366</th>\n",
       "      <td>8.278870</td>\n",
       "      <td>6.494350</td>\n",
       "      <td>9.557504</td>\n",
       "      <td>202.0</td>\n",
       "      <td>2020.0</td>\n",
       "      <td>0.0</td>\n",
       "      <td>1.0</td>\n",
       "    </tr>\n",
       "    <tr>\n",
       "      <th>367</th>\n",
       "      <td>8.162550</td>\n",
       "      <td>8.278870</td>\n",
       "      <td>9.467777</td>\n",
       "      <td>203.0</td>\n",
       "      <td>2030.0</td>\n",
       "      <td>0.0</td>\n",
       "      <td>1.0</td>\n",
       "    </tr>\n",
       "  </tbody>\n",
       "</table>\n",
       "<p>368 rows × 7 columns</p>\n",
       "</div>"
      ],
      "text/plain": [
       "         lag_1      lag_2     lag_3  exog_1  exog_2  series_1  series_2\n",
       "0     0.387554   0.751503  0.496401    20.0   200.0       1.0       0.0\n",
       "1     0.427283   0.387554  0.496275    21.0   210.0       1.0       0.0\n",
       "2     0.413890   0.427283  0.496924    22.0   220.0       1.0       0.0\n",
       "3     0.428859   0.413890  0.496759    23.0   230.0       1.0       0.0\n",
       "4     0.470126   0.428859  0.495638    24.0   240.0       1.0       0.0\n",
       "..         ...        ...       ...     ...     ...       ...       ...\n",
       "363  12.199410  11.765890  9.803897   199.0  1990.0       0.0       1.0\n",
       "364   7.618220  12.199410  9.785823   200.0  2000.0       0.0       1.0\n",
       "365   6.494350   7.618220  9.668384   201.0  2010.0       0.0       1.0\n",
       "366   8.278870   6.494350  9.557504   202.0  2020.0       0.0       1.0\n",
       "367   8.162550   8.278870  9.467777   203.0  2030.0       0.0       1.0\n",
       "\n",
       "[368 rows x 7 columns]"
      ]
     },
     "execution_count": 8,
     "metadata": {},
     "output_type": "execute_result"
    }
   ],
   "source": [
    "X_train"
   ]
  },
  {
   "cell_type": "code",
   "execution_count": 9,
   "metadata": {},
   "outputs": [
    {
     "data": {
      "text/plain": [
       "['lag_1', 'lag_2', 'lag_3']"
      ]
     },
     "execution_count": 9,
     "metadata": {},
     "output_type": "execute_result"
    }
   ],
   "source": [
    "forecaster.name_predictors"
   ]
  },
  {
   "cell_type": "code",
   "execution_count": 10,
   "metadata": {},
   "outputs": [
    {
     "data": {
      "text/plain": [
       "================================== \n",
       "ForecasterAutoregMultiSeriesCustom \n",
       "================================== \n",
       "Regressor: Ridge(random_state=123) \n",
       "Predictors created with function: create_predictors \n",
       "Transformer for series: None \n",
       "Transformer for exog: None \n",
       "Window size: 20 \n",
       "Series levels (names): ['series_1', 'series_2'] \n",
       "Series weights: None \n",
       "Weight function included: False \n",
       "Exogenous included: True \n",
       "Type of exogenous variable: <class 'pandas.core.frame.DataFrame'> \n",
       "Exogenous variables names: ['exog_1', 'exog_2'] \n",
       "Training range: [Timestamp('1991-07-01 00:00:00'), Timestamp('2007-12-01 00:00:00')] \n",
       "Training index type: DatetimeIndex \n",
       "Training index frequency: MS \n",
       "Regressor parameters: {'alpha': 1.0, 'copy_X': True, 'fit_intercept': True, 'max_iter': None, 'positive': False, 'random_state': 123, 'solver': 'auto', 'tol': 0.0001} \n",
       "Creation date: 2023-03-03 20:38:25 \n",
       "Last fit date: 2023-03-03 20:38:26 \n",
       "Skforecast version: 0.7.0 \n",
       "Python version: 3.10.9 \n",
       "Forecaster id: None "
      ]
     },
     "execution_count": 10,
     "metadata": {},
     "output_type": "execute_result"
    }
   ],
   "source": [
    "forecaster.fit(series=data_train, exog=exog_train)\n",
    "forecaster"
   ]
  },
  {
   "cell_type": "code",
   "execution_count": 11,
   "metadata": {},
   "outputs": [
    {
     "data": {
      "text/html": [
       "<div>\n",
       "<style scoped>\n",
       "    .dataframe tbody tr th:only-of-type {\n",
       "        vertical-align: middle;\n",
       "    }\n",
       "\n",
       "    .dataframe tbody tr th {\n",
       "        vertical-align: top;\n",
       "    }\n",
       "\n",
       "    .dataframe thead th {\n",
       "        text-align: right;\n",
       "    }\n",
       "</style>\n",
       "<table border=\"1\" class=\"dataframe\">\n",
       "  <thead>\n",
       "    <tr style=\"text-align: right;\">\n",
       "      <th></th>\n",
       "      <th>series_1</th>\n",
       "      <th>series_2</th>\n",
       "    </tr>\n",
       "  </thead>\n",
       "  <tbody>\n",
       "    <tr>\n",
       "      <th>2008-01-01</th>\n",
       "      <td>1.363601</td>\n",
       "      <td>10.883469</td>\n",
       "    </tr>\n",
       "    <tr>\n",
       "      <th>2008-02-01</th>\n",
       "      <td>1.500655</td>\n",
       "      <td>10.273039</td>\n",
       "    </tr>\n",
       "    <tr>\n",
       "      <th>2008-03-01</th>\n",
       "      <td>1.589148</td>\n",
       "      <td>9.934138</td>\n",
       "    </tr>\n",
       "  </tbody>\n",
       "</table>\n",
       "</div>"
      ],
      "text/plain": [
       "            series_1   series_2\n",
       "2008-01-01  1.363601  10.883469\n",
       "2008-02-01  1.500655  10.273039\n",
       "2008-03-01  1.589148   9.934138"
      ]
     },
     "execution_count": 11,
     "metadata": {},
     "output_type": "execute_result"
    }
   ],
   "source": [
    "forecaster.predict(levels=None, steps=3, exog=exog_test, last_window=data_train)"
   ]
  },
  {
   "cell_type": "code",
   "execution_count": 12,
   "metadata": {},
   "outputs": [
    {
     "data": {
      "text/html": [
       "<div>\n",
       "<style scoped>\n",
       "    .dataframe tbody tr th:only-of-type {\n",
       "        vertical-align: middle;\n",
       "    }\n",
       "\n",
       "    .dataframe tbody tr th {\n",
       "        vertical-align: top;\n",
       "    }\n",
       "\n",
       "    .dataframe thead th {\n",
       "        text-align: right;\n",
       "    }\n",
       "</style>\n",
       "<table border=\"1\" class=\"dataframe\">\n",
       "  <thead>\n",
       "    <tr style=\"text-align: right;\">\n",
       "      <th></th>\n",
       "      <th>series_1</th>\n",
       "      <th>series_1_lower_bound</th>\n",
       "      <th>series_1_upper_bound</th>\n",
       "      <th>series_2</th>\n",
       "      <th>series_2_lower_bound</th>\n",
       "      <th>series_2_upper_bound</th>\n",
       "    </tr>\n",
       "  </thead>\n",
       "  <tbody>\n",
       "    <tr>\n",
       "      <th>2008-01-01</th>\n",
       "      <td>1.363601</td>\n",
       "      <td>0.883801</td>\n",
       "      <td>1.621091</td>\n",
       "      <td>10.883469</td>\n",
       "      <td>7.613457</td>\n",
       "      <td>12.641747</td>\n",
       "    </tr>\n",
       "    <tr>\n",
       "      <th>2008-02-01</th>\n",
       "      <td>1.500655</td>\n",
       "      <td>1.117235</td>\n",
       "      <td>1.867066</td>\n",
       "      <td>10.273039</td>\n",
       "      <td>6.931031</td>\n",
       "      <td>12.626412</td>\n",
       "    </tr>\n",
       "    <tr>\n",
       "      <th>2008-03-01</th>\n",
       "      <td>1.589148</td>\n",
       "      <td>1.129733</td>\n",
       "      <td>1.968530</td>\n",
       "      <td>9.934138</td>\n",
       "      <td>6.840337</td>\n",
       "      <td>12.292837</td>\n",
       "    </tr>\n",
       "  </tbody>\n",
       "</table>\n",
       "</div>"
      ],
      "text/plain": [
       "            series_1  series_1_lower_bound  series_1_upper_bound   series_2  \\\n",
       "2008-01-01  1.363601              0.883801              1.621091  10.883469   \n",
       "2008-02-01  1.500655              1.117235              1.867066  10.273039   \n",
       "2008-03-01  1.589148              1.129733              1.968530   9.934138   \n",
       "\n",
       "            series_2_lower_bound  series_2_upper_bound  \n",
       "2008-01-01              7.613457             12.641747  \n",
       "2008-02-01              6.931031             12.626412  \n",
       "2008-03-01              6.840337             12.292837  "
      ]
     },
     "execution_count": 12,
     "metadata": {},
     "output_type": "execute_result"
    }
   ],
   "source": [
    "forecaster.predict_interval(levels=None, steps=3, exog=exog_test, last_window=data_train, in_sample_residuals=True)"
   ]
  },
  {
   "cell_type": "code",
   "execution_count": 13,
   "metadata": {},
   "outputs": [
    {
     "data": {
      "text/html": [
       "<div>\n",
       "<style scoped>\n",
       "    .dataframe tbody tr th:only-of-type {\n",
       "        vertical-align: middle;\n",
       "    }\n",
       "\n",
       "    .dataframe tbody tr th {\n",
       "        vertical-align: top;\n",
       "    }\n",
       "\n",
       "    .dataframe thead th {\n",
       "        text-align: right;\n",
       "    }\n",
       "</style>\n",
       "<table border=\"1\" class=\"dataframe\">\n",
       "  <thead>\n",
       "    <tr style=\"text-align: right;\">\n",
       "      <th></th>\n",
       "      <th>series_1_loc</th>\n",
       "      <th>series_1_scale</th>\n",
       "      <th>series_2_loc</th>\n",
       "      <th>series_2_scale</th>\n",
       "    </tr>\n",
       "  </thead>\n",
       "  <tbody>\n",
       "    <tr>\n",
       "      <th>2008-01-01</th>\n",
       "      <td>1.354973</td>\n",
       "      <td>0.205648</td>\n",
       "      <td>10.857572</td>\n",
       "      <td>1.424304</td>\n",
       "    </tr>\n",
       "    <tr>\n",
       "      <th>2008-02-01</th>\n",
       "      <td>1.508291</td>\n",
       "      <td>0.233441</td>\n",
       "      <td>10.417242</td>\n",
       "      <td>1.645392</td>\n",
       "    </tr>\n",
       "    <tr>\n",
       "      <th>2008-03-01</th>\n",
       "      <td>1.588666</td>\n",
       "      <td>0.250132</td>\n",
       "      <td>10.068625</td>\n",
       "      <td>1.709521</td>\n",
       "    </tr>\n",
       "  </tbody>\n",
       "</table>\n",
       "</div>"
      ],
      "text/plain": [
       "            series_1_loc  series_1_scale  series_2_loc  series_2_scale\n",
       "2008-01-01      1.354973        0.205648     10.857572        1.424304\n",
       "2008-02-01      1.508291        0.233441     10.417242        1.645392\n",
       "2008-03-01      1.588666        0.250132     10.068625        1.709521"
      ]
     },
     "execution_count": 13,
     "metadata": {},
     "output_type": "execute_result"
    }
   ],
   "source": [
    "from scipy.stats import norm\n",
    "\n",
    "forecaster.predict_dist(levels=None, steps=3, exog=exog_test, last_window=data_train, in_sample_residuals=True, distribution=norm)"
   ]
  },
  {
   "cell_type": "code",
   "execution_count": 14,
   "metadata": {},
   "outputs": [
    {
     "data": {
      "text/plain": [
       "{'series_1':             pred_boot_0  pred_boot_1  pred_boot_2  pred_boot_3  pred_boot_4  \\\n",
       " 2008-01-01     1.438828     1.369708     1.342008     1.266740     1.368328   \n",
       " 2008-02-01     1.683688     1.532451     1.616588     1.535570     1.578656   \n",
       " 2008-03-01     1.779712     1.674101     1.434168     1.781432     1.901560   \n",
       " \n",
       "             pred_boot_5  pred_boot_6  pred_boot_7  pred_boot_8  pred_boot_9  \\\n",
       " 2008-01-01     1.675864     1.649412     1.237521     1.523739     0.883801   \n",
       " 2008-02-01     1.881057     1.681632     1.514862     1.892050     1.165323   \n",
       " 2008-03-01     2.076429     1.700308     1.594826     1.709442     1.455770   \n",
       " \n",
       "             ...  pred_boot_490  pred_boot_491  pred_boot_492  pred_boot_493  \\\n",
       " 2008-01-01  ...       1.289885       1.308392       1.335334       1.539796   \n",
       " 2008-02-01  ...       1.351547       1.565091       1.715707       1.911346   \n",
       " 2008-03-01  ...       1.534464       1.420947       1.578282       1.677592   \n",
       " \n",
       "             pred_boot_494  pred_boot_495  pred_boot_496  pred_boot_497  \\\n",
       " 2008-01-01       1.236135       1.240530       1.480000       1.216333   \n",
       " 2008-02-01       1.468576       1.648514       1.895417       1.220628   \n",
       " 2008-03-01       1.466201       1.708073       2.020182       1.183840   \n",
       " \n",
       "             pred_boot_498  pred_boot_499  \n",
       " 2008-01-01       1.220369       1.169828  \n",
       " 2008-02-01       1.205366       1.438545  \n",
       " 2008-03-01       1.602431       1.540549  \n",
       " \n",
       " [3 rows x 500 columns],\n",
       " 'series_2':             pred_boot_0  pred_boot_1  pred_boot_2  pred_boot_3  pred_boot_4  \\\n",
       " 2008-01-01    10.625680    10.205389    10.650802     8.001772    10.944108   \n",
       " 2008-02-01    11.882464    11.615631    10.049234     9.460258    11.286589   \n",
       " 2008-03-01    12.165049    12.482735     9.676240     9.477228    11.490283   \n",
       " \n",
       "             pred_boot_5  pred_boot_6  pred_boot_7  pred_boot_8  pred_boot_9  \\\n",
       " 2008-01-01    12.394026    11.768297    11.141080    10.782466     6.339643   \n",
       " 2008-02-01    11.954534    10.667497    11.685252    10.886734     7.113228   \n",
       " 2008-03-01    10.970854    10.206752    11.631318    11.620404     7.497317   \n",
       " \n",
       "             ...  pred_boot_490  pred_boot_491  pred_boot_492  pred_boot_493  \\\n",
       " 2008-01-01  ...      12.387134      10.886560      12.179412      10.521629   \n",
       " 2008-02-01  ...       8.457070      11.504860      11.298204      10.901413   \n",
       " 2008-03-01  ...       8.276779       7.435404      10.997595      10.364919   \n",
       " \n",
       "             pred_boot_494  pred_boot_495  pred_boot_496  pred_boot_497  \\\n",
       " 2008-01-01       9.923180      11.110963       9.833364      11.772024   \n",
       " 2008-02-01       9.586413      10.540937      11.039332      11.868733   \n",
       " 2008-03-01       9.518352      10.167270      10.456473       7.625653   \n",
       " \n",
       "             pred_boot_498  pred_boot_499  \n",
       " 2008-01-01      10.879251      10.674851  \n",
       " 2008-02-01      10.061432       9.867392  \n",
       " 2008-03-01       9.385650      10.957057  \n",
       " \n",
       " [3 rows x 500 columns]}"
      ]
     },
     "execution_count": 14,
     "metadata": {},
     "output_type": "execute_result"
    }
   ],
   "source": [
    "forecaster.predict_bootstrapping(levels=None, steps=3, exog=exog_test, last_window=data_train, in_sample_residuals=True)"
   ]
  },
  {
   "cell_type": "code",
   "execution_count": 15,
   "metadata": {},
   "outputs": [],
   "source": [
    "forecaster.set_out_sample_residuals(forecaster.in_sample_residuals)"
   ]
  },
  {
   "cell_type": "code",
   "execution_count": 16,
   "metadata": {},
   "outputs": [
    {
     "data": {
      "text/html": [
       "<div>\n",
       "<style scoped>\n",
       "    .dataframe tbody tr th:only-of-type {\n",
       "        vertical-align: middle;\n",
       "    }\n",
       "\n",
       "    .dataframe tbody tr th {\n",
       "        vertical-align: top;\n",
       "    }\n",
       "\n",
       "    .dataframe thead th {\n",
       "        text-align: right;\n",
       "    }\n",
       "</style>\n",
       "<table border=\"1\" class=\"dataframe\">\n",
       "  <thead>\n",
       "    <tr style=\"text-align: right;\">\n",
       "      <th></th>\n",
       "      <th>feature</th>\n",
       "      <th>importance</th>\n",
       "    </tr>\n",
       "  </thead>\n",
       "  <tbody>\n",
       "    <tr>\n",
       "      <th>0</th>\n",
       "      <td>lag_1</td>\n",
       "      <td>0.702683</td>\n",
       "    </tr>\n",
       "    <tr>\n",
       "      <th>1</th>\n",
       "      <td>lag_2</td>\n",
       "      <td>-0.082468</td>\n",
       "    </tr>\n",
       "    <tr>\n",
       "      <th>2</th>\n",
       "      <td>lag_3</td>\n",
       "      <td>0.121407</td>\n",
       "    </tr>\n",
       "    <tr>\n",
       "      <th>3</th>\n",
       "      <td>exog_1</td>\n",
       "      <td>0.000033</td>\n",
       "    </tr>\n",
       "    <tr>\n",
       "      <th>4</th>\n",
       "      <td>exog_2</td>\n",
       "      <td>0.000331</td>\n",
       "    </tr>\n",
       "    <tr>\n",
       "      <th>5</th>\n",
       "      <td>series_1</td>\n",
       "      <td>-0.946917</td>\n",
       "    </tr>\n",
       "    <tr>\n",
       "      <th>6</th>\n",
       "      <td>series_2</td>\n",
       "      <td>0.946917</td>\n",
       "    </tr>\n",
       "  </tbody>\n",
       "</table>\n",
       "</div>"
      ],
      "text/plain": [
       "    feature  importance\n",
       "0     lag_1    0.702683\n",
       "1     lag_2   -0.082468\n",
       "2     lag_3    0.121407\n",
       "3    exog_1    0.000033\n",
       "4    exog_2    0.000331\n",
       "5  series_1   -0.946917\n",
       "6  series_2    0.946917"
      ]
     },
     "execution_count": 16,
     "metadata": {},
     "output_type": "execute_result"
    }
   ],
   "source": [
    "forecaster.get_feature_importance()"
   ]
  },
  {
   "cell_type": "code",
   "execution_count": 17,
   "metadata": {},
   "outputs": [
    {
     "data": {
      "text/plain": [
       "================================== \n",
       "ForecasterAutoregMultiSeriesCustom \n",
       "================================== \n",
       "Regressor: Ridge(random_state=9999) \n",
       "Predictors created with function: create_predictors \n",
       "Transformer for series: None \n",
       "Transformer for exog: None \n",
       "Window size: 20 \n",
       "Series levels (names): ['series_1', 'series_2'] \n",
       "Series weights: None \n",
       "Weight function included: False \n",
       "Exogenous included: True \n",
       "Type of exogenous variable: <class 'pandas.core.frame.DataFrame'> \n",
       "Exogenous variables names: ['exog_1', 'exog_2'] \n",
       "Training range: [Timestamp('1991-07-01 00:00:00'), Timestamp('2007-12-01 00:00:00')] \n",
       "Training index type: DatetimeIndex \n",
       "Training index frequency: MS \n",
       "Regressor parameters: {'alpha': 1.0, 'copy_X': True, 'fit_intercept': True, 'max_iter': None, 'positive': False, 'random_state': 9999, 'solver': 'auto', 'tol': 0.0001} \n",
       "Creation date: 2023-03-03 20:38:25 \n",
       "Last fit date: 2023-03-03 20:38:26 \n",
       "Skforecast version: 0.7.0 \n",
       "Python version: 3.10.9 \n",
       "Forecaster id: None "
      ]
     },
     "execution_count": 17,
     "metadata": {},
     "output_type": "execute_result"
    }
   ],
   "source": [
    "forecaster.set_params({'random_state':9999})\n",
    "forecaster"
   ]
  },
  {
   "cell_type": "code",
   "execution_count": 18,
   "metadata": {},
   "outputs": [
    {
     "name": "stdout",
     "output_type": "stream",
     "text": [
      "================================== \n",
      "ForecasterAutoregMultiSeriesCustom \n",
      "================================== \n",
      "Regressor: Ridge(random_state=9999) \n",
      "Predictors created with function: create_predictors \n",
      "Transformer for series: None \n",
      "Transformer for exog: None \n",
      "Window size: 20 \n",
      "Series levels (names): ['series_1', 'series_2'] \n",
      "Series weights: None \n",
      "Weight function included: False \n",
      "Exogenous included: True \n",
      "Type of exogenous variable: <class 'pandas.core.frame.DataFrame'> \n",
      "Exogenous variables names: ['exog_1', 'exog_2'] \n",
      "Training range: [Timestamp('1991-07-01 00:00:00'), Timestamp('2007-12-01 00:00:00')] \n",
      "Training index type: DatetimeIndex \n",
      "Training index frequency: MS \n",
      "Regressor parameters: {'alpha': 1.0, 'copy_X': True, 'fit_intercept': True, 'max_iter': None, 'positive': False, 'random_state': 9999, 'solver': 'auto', 'tol': 0.0001} \n",
      "Creation date: 2023-03-03 20:38:25 \n",
      "Last fit date: 2023-03-03 20:38:26 \n",
      "Skforecast version: 0.7.0 \n",
      "Python version: 3.10.9 \n",
      "Forecaster id: None \n",
      "\n"
     ]
    }
   ],
   "source": [
    "forecaster.summary()"
   ]
  },
  {
   "cell_type": "code",
   "execution_count": 19,
   "metadata": {},
   "outputs": [],
   "source": [
    "from skforecast.ForecasterAutoregMultiSeries import ForecasterAutoregMultiSeries\n",
    "from skforecast.model_selection_multiseries import backtesting_forecaster_multiseries\n",
    "from skforecast.model_selection_multiseries import grid_search_forecaster_multiseries"
   ]
  },
  {
   "cell_type": "code",
   "execution_count": 20,
   "metadata": {},
   "outputs": [
    {
     "data": {
      "text/html": [
       "<div>\n",
       "<style scoped>\n",
       "    .dataframe tbody tr th:only-of-type {\n",
       "        vertical-align: middle;\n",
       "    }\n",
       "\n",
       "    .dataframe tbody tr th {\n",
       "        vertical-align: top;\n",
       "    }\n",
       "\n",
       "    .dataframe thead th {\n",
       "        text-align: right;\n",
       "    }\n",
       "</style>\n",
       "<table border=\"1\" class=\"dataframe\">\n",
       "  <thead>\n",
       "    <tr style=\"text-align: right;\">\n",
       "      <th></th>\n",
       "      <th>item_1</th>\n",
       "      <th>item_2</th>\n",
       "      <th>item_3</th>\n",
       "    </tr>\n",
       "    <tr>\n",
       "      <th>date</th>\n",
       "      <th></th>\n",
       "      <th></th>\n",
       "      <th></th>\n",
       "    </tr>\n",
       "  </thead>\n",
       "  <tbody>\n",
       "    <tr>\n",
       "      <th>2012-01-01</th>\n",
       "      <td>8.253175</td>\n",
       "      <td>21.047727</td>\n",
       "      <td>19.429739</td>\n",
       "    </tr>\n",
       "    <tr>\n",
       "      <th>2012-01-02</th>\n",
       "      <td>22.777826</td>\n",
       "      <td>26.578125</td>\n",
       "      <td>28.009863</td>\n",
       "    </tr>\n",
       "    <tr>\n",
       "      <th>2012-01-03</th>\n",
       "      <td>27.549099</td>\n",
       "      <td>31.751042</td>\n",
       "      <td>32.078922</td>\n",
       "    </tr>\n",
       "    <tr>\n",
       "      <th>2012-01-04</th>\n",
       "      <td>25.895533</td>\n",
       "      <td>24.567708</td>\n",
       "      <td>27.252276</td>\n",
       "    </tr>\n",
       "    <tr>\n",
       "      <th>2012-01-05</th>\n",
       "      <td>21.379238</td>\n",
       "      <td>18.191667</td>\n",
       "      <td>20.357737</td>\n",
       "    </tr>\n",
       "  </tbody>\n",
       "</table>\n",
       "</div>"
      ],
      "text/plain": [
       "               item_1     item_2     item_3\n",
       "date                                       \n",
       "2012-01-01   8.253175  21.047727  19.429739\n",
       "2012-01-02  22.777826  26.578125  28.009863\n",
       "2012-01-03  27.549099  31.751042  32.078922\n",
       "2012-01-04  25.895533  24.567708  27.252276\n",
       "2012-01-05  21.379238  18.191667  20.357737"
      ]
     },
     "execution_count": 20,
     "metadata": {},
     "output_type": "execute_result"
    }
   ],
   "source": [
    "# Data download\n",
    "# ==============================================================================\n",
    "url = ('https://raw.githubusercontent.com/JoaquinAmatRodrigo/skforecast/master/' +\n",
    "       'data/simulated_items_sales.csv')\n",
    "data = pd.read_csv(url, sep=',')\n",
    "\n",
    "# Data preparation\n",
    "# ==============================================================================\n",
    "data['date'] = pd.to_datetime(data['date'], format='%Y-%m-%d')\n",
    "data = data.set_index('date')\n",
    "data = data.asfreq('D')\n",
    "data = data.sort_index()\n",
    "data.head()"
   ]
  },
  {
   "cell_type": "code",
   "execution_count": 21,
   "metadata": {},
   "outputs": [
    {
     "name": "stdout",
     "output_type": "stream",
     "text": [
      "Train dates : 2012-01-01 00:00:00 --- 2014-07-15 00:00:00  (n=927)\n",
      "Test dates  : 2014-07-16 00:00:00 --- 2015-01-01 00:00:00  (n=170)\n"
     ]
    }
   ],
   "source": [
    "# Split data into train-val-test\n",
    "# ==============================================================================\n",
    "end_train = '2014-07-15 23:59:00'\n",
    "data_train = data.loc[:end_train, :].copy()\n",
    "data_test  = data.loc[end_train:, :].copy()\n",
    "\n",
    "print(f\"Train dates : {data_train.index.min()} --- {data_train.index.max()}  (n={len(data_train)})\")\n",
    "print(f\"Test dates  : {data_test.index.min()} --- {data_test.index.max()}  (n={len(data_test)})\")"
   ]
  },
  {
   "cell_type": "code",
   "execution_count": 22,
   "metadata": {},
   "outputs": [
    {
     "data": {
      "text/plain": [
       "================================== \n",
       "ForecasterAutoregMultiSeriesCustom \n",
       "================================== \n",
       "Regressor: Ridge(random_state=123) \n",
       "Predictors created with function: create_predictors \n",
       "Transformer for series: None \n",
       "Transformer for exog: None \n",
       "Window size: 10 \n",
       "Series levels (names): ['item_1', 'item_2', 'item_3'] \n",
       "Series weights: None \n",
       "Weight function included: False \n",
       "Exogenous included: False \n",
       "Type of exogenous variable: None \n",
       "Exogenous variables names: None \n",
       "Training range: [Timestamp('2012-01-01 00:00:00'), Timestamp('2014-07-15 00:00:00')] \n",
       "Training index type: DatetimeIndex \n",
       "Training index frequency: D \n",
       "Regressor parameters: {'alpha': 1.0, 'copy_X': True, 'fit_intercept': True, 'max_iter': None, 'positive': False, 'random_state': 123, 'solver': 'auto', 'tol': 0.0001} \n",
       "Creation date: 2023-03-03 20:38:32 \n",
       "Last fit date: 2023-03-03 20:38:32 \n",
       "Skforecast version: 0.7.0 \n",
       "Python version: 3.10.9 \n",
       "Forecaster id: None "
      ]
     },
     "execution_count": 22,
     "metadata": {},
     "output_type": "execute_result"
    }
   ],
   "source": [
    "\n",
    "# Create and fit forecaster multi series\n",
    "# ==============================================================================\n",
    "forecaster = ForecasterAutoregMultiSeriesCustom(\n",
    "                 regressor          = Ridge(random_state=123),\n",
    "                 fun_predictors     = create_predictors, \n",
    "                 window_size        = 10,\n",
    "                 transformer_series = None,\n",
    "                 transformer_exog   = None,\n",
    "                 weight_func        = None,\n",
    "                 series_weights     = None\n",
    "             )\n",
    "\n",
    "forecaster.fit(series=data_train)\n",
    "forecaster"
   ]
  },
  {
   "cell_type": "code",
   "execution_count": 23,
   "metadata": {},
   "outputs": [
    {
     "data": {
      "text/html": [
       "<div>\n",
       "<style scoped>\n",
       "    .dataframe tbody tr th:only-of-type {\n",
       "        vertical-align: middle;\n",
       "    }\n",
       "\n",
       "    .dataframe tbody tr th {\n",
       "        vertical-align: top;\n",
       "    }\n",
       "\n",
       "    .dataframe thead th {\n",
       "        text-align: right;\n",
       "    }\n",
       "</style>\n",
       "<table border=\"1\" class=\"dataframe\">\n",
       "  <thead>\n",
       "    <tr style=\"text-align: right;\">\n",
       "      <th></th>\n",
       "      <th>item_1</th>\n",
       "    </tr>\n",
       "  </thead>\n",
       "  <tbody>\n",
       "    <tr>\n",
       "      <th>2014-07-16</th>\n",
       "      <td>24.889346</td>\n",
       "    </tr>\n",
       "    <tr>\n",
       "      <th>2014-07-17</th>\n",
       "      <td>24.213885</td>\n",
       "    </tr>\n",
       "    <tr>\n",
       "      <th>2014-07-18</th>\n",
       "      <td>24.093080</td>\n",
       "    </tr>\n",
       "  </tbody>\n",
       "</table>\n",
       "</div>"
      ],
      "text/plain": [
       "               item_1\n",
       "2014-07-16  24.889346\n",
       "2014-07-17  24.213885\n",
       "2014-07-18  24.093080"
      ]
     },
     "metadata": {},
     "output_type": "display_data"
    },
    {
     "data": {
      "text/html": [
       "<div>\n",
       "<style scoped>\n",
       "    .dataframe tbody tr th:only-of-type {\n",
       "        vertical-align: middle;\n",
       "    }\n",
       "\n",
       "    .dataframe tbody tr th {\n",
       "        vertical-align: top;\n",
       "    }\n",
       "\n",
       "    .dataframe thead th {\n",
       "        text-align: right;\n",
       "    }\n",
       "</style>\n",
       "<table border=\"1\" class=\"dataframe\">\n",
       "  <thead>\n",
       "    <tr style=\"text-align: right;\">\n",
       "      <th></th>\n",
       "      <th>item_1</th>\n",
       "      <th>item_1_lower_bound</th>\n",
       "      <th>item_1_upper_bound</th>\n",
       "      <th>item_2</th>\n",
       "      <th>item_2_lower_bound</th>\n",
       "      <th>item_2_upper_bound</th>\n",
       "    </tr>\n",
       "  </thead>\n",
       "  <tbody>\n",
       "    <tr>\n",
       "      <th>2014-07-16</th>\n",
       "      <td>24.889346</td>\n",
       "      <td>21.882081</td>\n",
       "      <td>28.050743</td>\n",
       "      <td>11.270633</td>\n",
       "      <td>7.073703</td>\n",
       "      <td>16.240086</td>\n",
       "    </tr>\n",
       "    <tr>\n",
       "      <th>2014-07-17</th>\n",
       "      <td>24.213885</td>\n",
       "      <td>20.824267</td>\n",
       "      <td>27.560137</td>\n",
       "      <td>11.661207</td>\n",
       "      <td>6.691828</td>\n",
       "      <td>17.358172</td>\n",
       "    </tr>\n",
       "    <tr>\n",
       "      <th>2014-07-18</th>\n",
       "      <td>24.093080</td>\n",
       "      <td>20.809975</td>\n",
       "      <td>27.795983</td>\n",
       "      <td>11.787952</td>\n",
       "      <td>6.217752</td>\n",
       "      <td>17.597177</td>\n",
       "    </tr>\n",
       "  </tbody>\n",
       "</table>\n",
       "</div>"
      ],
      "text/plain": [
       "               item_1  item_1_lower_bound  item_1_upper_bound     item_2  \\\n",
       "2014-07-16  24.889346           21.882081           28.050743  11.270633   \n",
       "2014-07-17  24.213885           20.824267           27.560137  11.661207   \n",
       "2014-07-18  24.093080           20.809975           27.795983  11.787952   \n",
       "\n",
       "            item_2_lower_bound  item_2_upper_bound  \n",
       "2014-07-16            7.073703           16.240086  \n",
       "2014-07-17            6.691828           17.358172  \n",
       "2014-07-18            6.217752           17.597177  "
      ]
     },
     "metadata": {},
     "output_type": "display_data"
    }
   ],
   "source": [
    "\n",
    "# Predict and predict_interval\n",
    "# ==============================================================================\n",
    "steps = 24\n",
    "\n",
    "# Predictions for item_1\n",
    "predictions_item_1 = forecaster.predict(steps=steps, levels='item_1')\n",
    "display(predictions_item_1.head(3))\n",
    "\n",
    "# Interval predictions for item_1\n",
    "predictions_intervals = forecaster.predict_interval(steps=steps, levels=['item_1', 'item_2'])\n",
    "display(predictions_intervals.head(3))"
   ]
  },
  {
   "cell_type": "code",
   "execution_count": 24,
   "metadata": {},
   "outputs": [
    {
     "name": "stdout",
     "output_type": "stream",
     "text": [
      "Backtest metrics\n"
     ]
    },
    {
     "data": {
      "text/html": [
       "<div>\n",
       "<style scoped>\n",
       "    .dataframe tbody tr th:only-of-type {\n",
       "        vertical-align: middle;\n",
       "    }\n",
       "\n",
       "    .dataframe tbody tr th {\n",
       "        vertical-align: top;\n",
       "    }\n",
       "\n",
       "    .dataframe thead th {\n",
       "        text-align: right;\n",
       "    }\n",
       "</style>\n",
       "<table border=\"1\" class=\"dataframe\">\n",
       "  <thead>\n",
       "    <tr style=\"text-align: right;\">\n",
       "      <th></th>\n",
       "      <th>levels</th>\n",
       "      <th>mean_absolute_error</th>\n",
       "    </tr>\n",
       "  </thead>\n",
       "  <tbody>\n",
       "    <tr>\n",
       "      <th>0</th>\n",
       "      <td>item_1</td>\n",
       "      <td>1.554776</td>\n",
       "    </tr>\n",
       "    <tr>\n",
       "      <th>1</th>\n",
       "      <td>item_2</td>\n",
       "      <td>2.483191</td>\n",
       "    </tr>\n",
       "    <tr>\n",
       "      <th>2</th>\n",
       "      <td>item_3</td>\n",
       "      <td>3.268641</td>\n",
       "    </tr>\n",
       "  </tbody>\n",
       "</table>\n",
       "</div>"
      ],
      "text/plain": [
       "   levels  mean_absolute_error\n",
       "0  item_1             1.554776\n",
       "1  item_2             2.483191\n",
       "2  item_3             3.268641"
      ]
     },
     "metadata": {},
     "output_type": "display_data"
    },
    {
     "name": "stdout",
     "output_type": "stream",
     "text": [
      "\n",
      "Backtest predictions\n"
     ]
    },
    {
     "data": {
      "text/html": [
       "<div>\n",
       "<style scoped>\n",
       "    .dataframe tbody tr th:only-of-type {\n",
       "        vertical-align: middle;\n",
       "    }\n",
       "\n",
       "    .dataframe tbody tr th {\n",
       "        vertical-align: top;\n",
       "    }\n",
       "\n",
       "    .dataframe thead th {\n",
       "        text-align: right;\n",
       "    }\n",
       "</style>\n",
       "<table border=\"1\" class=\"dataframe\">\n",
       "  <thead>\n",
       "    <tr style=\"text-align: right;\">\n",
       "      <th></th>\n",
       "      <th>item_1</th>\n",
       "      <th>item_2</th>\n",
       "      <th>item_3</th>\n",
       "    </tr>\n",
       "  </thead>\n",
       "  <tbody>\n",
       "    <tr>\n",
       "      <th>2014-07-16</th>\n",
       "      <td>24.889346</td>\n",
       "      <td>11.270633</td>\n",
       "      <td>11.981894</td>\n",
       "    </tr>\n",
       "    <tr>\n",
       "      <th>2014-07-17</th>\n",
       "      <td>24.213885</td>\n",
       "      <td>11.661207</td>\n",
       "      <td>12.923297</td>\n",
       "    </tr>\n",
       "    <tr>\n",
       "      <th>2014-07-18</th>\n",
       "      <td>24.093080</td>\n",
       "      <td>11.787952</td>\n",
       "      <td>13.033283</td>\n",
       "    </tr>\n",
       "    <tr>\n",
       "      <th>2014-07-19</th>\n",
       "      <td>24.099740</td>\n",
       "      <td>11.816027</td>\n",
       "      <td>12.926981</td>\n",
       "    </tr>\n",
       "  </tbody>\n",
       "</table>\n",
       "</div>"
      ],
      "text/plain": [
       "               item_1     item_2     item_3\n",
       "2014-07-16  24.889346  11.270633  11.981894\n",
       "2014-07-17  24.213885  11.661207  12.923297\n",
       "2014-07-18  24.093080  11.787952  13.033283\n",
       "2014-07-19  24.099740  11.816027  12.926981"
      ]
     },
     "execution_count": 24,
     "metadata": {},
     "output_type": "execute_result"
    }
   ],
   "source": [
    "# Backtesting Multi Series\n",
    "# ==============================================================================\n",
    "metrics_levels, backtest_predictions = backtesting_forecaster_multiseries(\n",
    "                                           forecaster         = forecaster,\n",
    "                                           series             = data,\n",
    "                                           levels             = None,\n",
    "                                           steps              = 24,\n",
    "                                           metric             = 'mean_absolute_error',\n",
    "                                           initial_train_size = len(data_train),\n",
    "                                           refit              = True,\n",
    "                                           fixed_train_size   = True,\n",
    "                                           verbose            = False\n",
    "                                       )\n",
    "\n",
    "print(\"Backtest metrics\")\n",
    "display(metrics_levels)\n",
    "print(\"\")\n",
    "print(\"Backtest predictions\")\n",
    "backtest_predictions.head(4)"
   ]
  },
  {
   "cell_type": "code",
   "execution_count": 28,
   "metadata": {},
   "outputs": [
    {
     "name": "stdout",
     "output_type": "stream",
     "text": [
      "3 models compared for 3 level(s). Number of iterations: 3.\n"
     ]
    },
    {
     "name": "stderr",
     "output_type": "stream",
     "text": [
      "loop lags_grid: 100%|███████████████████████████████████████| 1/1 [00:03<00:00,  3.08s/it]\n"
     ]
    },
    {
     "data": {
      "text/html": [
       "<div>\n",
       "<style scoped>\n",
       "    .dataframe tbody tr th:only-of-type {\n",
       "        vertical-align: middle;\n",
       "    }\n",
       "\n",
       "    .dataframe tbody tr th {\n",
       "        vertical-align: top;\n",
       "    }\n",
       "\n",
       "    .dataframe thead th {\n",
       "        text-align: right;\n",
       "    }\n",
       "</style>\n",
       "<table border=\"1\" class=\"dataframe\">\n",
       "  <thead>\n",
       "    <tr style=\"text-align: right;\">\n",
       "      <th></th>\n",
       "      <th>levels</th>\n",
       "      <th>lags</th>\n",
       "      <th>params</th>\n",
       "      <th>mean_absolute_error</th>\n",
       "      <th>alpha</th>\n",
       "    </tr>\n",
       "  </thead>\n",
       "  <tbody>\n",
       "    <tr>\n",
       "      <th>2</th>\n",
       "      <td>[item_1, item_2, item_3]</td>\n",
       "      <td>custom predictors</td>\n",
       "      <td>{'alpha': 1}</td>\n",
       "      <td>2.435536</td>\n",
       "      <td>1.00</td>\n",
       "    </tr>\n",
       "    <tr>\n",
       "      <th>1</th>\n",
       "      <td>[item_1, item_2, item_3]</td>\n",
       "      <td>custom predictors</td>\n",
       "      <td>{'alpha': 0.1}</td>\n",
       "      <td>2.435667</td>\n",
       "      <td>0.10</td>\n",
       "    </tr>\n",
       "    <tr>\n",
       "      <th>0</th>\n",
       "      <td>[item_1, item_2, item_3]</td>\n",
       "      <td>custom predictors</td>\n",
       "      <td>{'alpha': 0.01}</td>\n",
       "      <td>2.435680</td>\n",
       "      <td>0.01</td>\n",
       "    </tr>\n",
       "  </tbody>\n",
       "</table>\n",
       "</div>"
      ],
      "text/plain": [
       "                     levels               lags           params  \\\n",
       "2  [item_1, item_2, item_3]  custom predictors     {'alpha': 1}   \n",
       "1  [item_1, item_2, item_3]  custom predictors   {'alpha': 0.1}   \n",
       "0  [item_1, item_2, item_3]  custom predictors  {'alpha': 0.01}   \n",
       "\n",
       "   mean_absolute_error  alpha  \n",
       "2             2.435536   1.00  \n",
       "1             2.435667   0.10  \n",
       "0             2.435680   0.01  "
      ]
     },
     "execution_count": 28,
     "metadata": {},
     "output_type": "execute_result"
    }
   ],
   "source": [
    "\n",
    "# Grid search Multi Series\n",
    "# ==============================================================================\n",
    "param_grid = {'alpha': [0.01, 0.1, 1]}\n",
    "\n",
    "levels = ['item_1', 'item_2', 'item_3']\n",
    "\n",
    "results = grid_search_forecaster_multiseries(\n",
    "              forecaster          = forecaster,\n",
    "              series              = data,\n",
    "              exog                = None,\n",
    "              levels              = levels,\n",
    "              param_grid          = param_grid,\n",
    "              steps               = 24,\n",
    "              metric              = 'mean_absolute_error',\n",
    "              initial_train_size  = len(data_train),\n",
    "              refit               = True,\n",
    "              fixed_train_size    = True,\n",
    "              return_best         = False,\n",
    "              verbose             = False\n",
    "          )\n",
    "\n",
    "results"
   ]
  }
 ],
 "metadata": {
  "kernelspec": {
   "display_name": "skforecast_py10",
   "language": "python",
   "name": "python3"
  },
  "language_info": {
   "codemirror_mode": {
    "name": "ipython",
    "version": 3
   },
   "file_extension": ".py",
   "mimetype": "text/x-python",
   "name": "python",
   "nbconvert_exporter": "python",
   "pygments_lexer": "ipython3",
   "version": "3.10.9"
  },
  "orig_nbformat": 4,
  "vscode": {
   "interpreter": {
    "hash": "6cf372b23b9916b33b4c23f9ee2e7d08e597eb711b766c11830fb054f7812cb1"
   }
  }
 },
 "nbformat": 4,
 "nbformat_minor": 2
}
