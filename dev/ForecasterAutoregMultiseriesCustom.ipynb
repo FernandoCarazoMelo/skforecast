{
 "cells": [
  {
   "cell_type": "code",
   "execution_count": 1,
   "metadata": {},
   "outputs": [
    {
     "data": {
      "text/plain": [
       "'/home/ubuntu/varios/skforecast'"
      ]
     },
     "execution_count": 1,
     "metadata": {},
     "output_type": "execute_result"
    }
   ],
   "source": [
    "%load_ext autoreload\n",
    "%autoreload 2\n",
    "import sys\n",
    "from pathlib import Path\n",
    "sys.path.insert(1, str(Path.cwd().parent))\n",
    "str(Path.cwd().parent)"
   ]
  },
  {
   "cell_type": "code",
   "execution_count": 2,
   "metadata": {},
   "outputs": [
    {
     "name": "stderr",
     "output_type": "stream",
     "text": [
      "/home/ubuntu/anaconda3/envs/skforecast_py10/lib/python3.10/site-packages/tqdm/auto.py:22: TqdmWarning: IProgress not found. Please update jupyter and ipywidgets. See https://ipywidgets.readthedocs.io/en/stable/user_install.html\n",
      "  from .autonotebook import tqdm as notebook_tqdm\n"
     ]
    }
   ],
   "source": [
    "from typing import Union, Dict, List, Tuple, Any, Optional\n",
    "import warnings\n",
    "import logging\n",
    "import sys\n",
    "import numpy as np\n",
    "import pandas as pd\n",
    "from pytest import approx\n",
    "from sklearn.base import clone\n",
    "import pmdarima\n",
    "from pmdarima.arima import ARIMA\n",
    "\n",
    "import skforecast\n",
    "from skforecast.utils import initialize_lags\n",
    "from skforecast.utils import check_y\n",
    "from skforecast.utils import check_exog\n",
    "from skforecast.utils import preprocess_y\n",
    "from skforecast.utils import preprocess_last_window\n",
    "from skforecast.utils import preprocess_exog\n",
    "from skforecast.utils import expand_index\n",
    "from skforecast.utils import check_predict_input\n",
    "from skforecast.utils import transform_series\n",
    "from skforecast.utils import transform_dataframe\n",
    "from skforecast.model_selection_sarimax import backtesting_sarimax\n",
    "from skforecast.model_selection_sarimax.model_selection_sarimax import _evaluate_grid_hyperparameters_sarimax\n",
    "logging.basicConfig(\n",
    "    format = '%(name)-10s %(levelname)-5s %(message)s', \n",
    "    level  = logging.INFO,\n",
    ")\n",
    "\n",
    "np.set_printoptions(precision=10)\n",
    "pd.set_option(\"display.precision\", 10)"
   ]
  },
  {
   "cell_type": "code",
   "execution_count": 3,
   "metadata": {},
   "outputs": [],
   "source": [
    "from skforecast.ForecasterSarimax import ForecasterSarimax\n",
    "from sklearn.metrics import mean_absolute_error\n",
    "from sklearn.linear_model import Ridge\n",
    "import re\n",
    "import pytest\n",
    "from pmdarima.arima import ARIMA\n",
    "from sklearn.compose import ColumnTransformer\n",
    "from sklearn.preprocessing import StandardScaler\n",
    "from sklearn.preprocessing import OneHotEncoder"
   ]
  },
  {
   "cell_type": "code",
   "execution_count": 4,
   "metadata": {},
   "outputs": [],
   "source": [
    "y = pd.Series(\n",
    "        data = np.array([0.69646919, 0.28613933, 0.22685145, 0.55131477, 0.71946897,\n",
    "                         0.42310646, 0.9807642 , 0.68482974, 0.4809319 , 0.39211752,\n",
    "                         0.34317802, 0.72904971, 0.43857224, 0.0596779 , 0.39804426,\n",
    "                         0.73799541, 0.18249173, 0.17545176, 0.53155137, 0.53182759,\n",
    "                         0.63440096, 0.84943179, 0.72445532, 0.61102351, 0.72244338,\n",
    "                         0.32295891, 0.36178866, 0.22826323, 0.29371405, 0.63097612,\n",
    "                         0.09210494, 0.43370117, 0.43086276, 0.4936851 , 0.42583029,\n",
    "                         0.31226122, 0.42635131, 0.89338916, 0.94416002, 0.50183668,\n",
    "                         0.62395295, 0.1156184 , 0.31728548, 0.41482621, 0.86630916,\n",
    "                         0.25045537, 0.48303426, 0.98555979, 0.51948512, 0.61289453]\n",
    "            ),\n",
    "        name = 'y'\n",
    "    )\n",
    "\n",
    "exog = pd.Series(\n",
    "           data = np.array([0.12062867, 0.8263408 , 0.60306013, 0.54506801, 0.34276383,\n",
    "                            0.30412079, 0.41702221, 0.68130077, 0.87545684, 0.51042234,\n",
    "                            0.66931378, 0.58593655, 0.6249035 , 0.67468905, 0.84234244,\n",
    "                            0.08319499, 0.76368284, 0.24366637, 0.19422296, 0.57245696,\n",
    "                            0.09571252, 0.88532683, 0.62724897, 0.72341636, 0.01612921,\n",
    "                            0.59443188, 0.55678519, 0.15895964, 0.15307052, 0.69552953,\n",
    "                            0.31876643, 0.6919703 , 0.55438325, 0.38895057, 0.92513249,\n",
    "                            0.84167   , 0.35739757, 0.04359146, 0.30476807, 0.39818568,\n",
    "                            0.70495883, 0.99535848, 0.35591487, 0.76254781, 0.59317692,\n",
    "                            0.6917018 , 0.15112745, 0.39887629, 0.2408559 , 0.34345601]\n",
    "               ),\n",
    "           name = 'exog'\n",
    "       )\n",
    "\n",
    "exog_predict = pd.Series(\n",
    "                  data = np.array([0.12062867, 0.8263408 , 0.60306013, 0.54506801, 0.34276383,\n",
    "                                   0.30412079, 0.41702221, 0.68130077, 0.87545684, 0.51042234]\n",
    "                      ),\n",
    "                  name = 'exog',\n",
    "                  index = pd.RangeIndex(start=50, stop=60)\n",
    "               )\n",
    "\n",
    "df_exog = pd.DataFrame({\n",
    "              'exog_1': exog.values,\n",
    "              'exog_2': ['a']*25+['b']*25}\n",
    "          )\n",
    "df_exog_predict = df_exog.copy()\n",
    "df_exog_predict.index = pd.RangeIndex(start=50, stop=100)\n",
    "\n",
    "y_datetime = pd.Series(data=y.values)\n",
    "y_datetime.index = pd.date_range(start='2000', periods=50, freq='A')\n",
    "y_datetime.name = 'y'\n",
    "\n",
    "lw_datetime = pd.Series(data=y.values)\n",
    "lw_datetime.index = pd.date_range(start='2050', periods=50, freq='A')\n",
    "lw_datetime.name = 'y'\n",
    "\n",
    "exog_datetime = pd.Series(data=exog.values)\n",
    "exog_datetime.index = pd.date_range(start='2000', periods=50, freq='A')\n",
    "exog_datetime.name = 'exog'\n",
    "\n",
    "lw_exog_datetime = pd.Series(data=exog.values)\n",
    "lw_exog_datetime.index = pd.date_range(start='2050', periods=50, freq='A')\n",
    "lw_exog_datetime.name = 'exog'\n",
    "\n",
    "exog_predict_datetime = pd.Series(data=exog_predict.values)\n",
    "exog_predict_datetime.index = pd.date_range(start='2100', periods=10, freq='A')\n",
    "exog_predict_datetime.name = 'exog'\n",
    "\n",
    "df_exog_datetime = df_exog.copy()\n",
    "df_exog_datetime.index = pd.date_range(start='2000', periods=50, freq='A')\n",
    "\n",
    "df_lw_exog_datetime = df_exog.copy()\n",
    "df_lw_exog_datetime.index = pd.date_range(start='2050', periods=50, freq='A')\n",
    "\n",
    "df_exog_predict_datetime = df_exog.copy()\n",
    "df_exog_predict_datetime.index = pd.date_range(start='2100', periods=50, freq='A')"
   ]
  },
  {
   "cell_type": "code",
   "execution_count": 5,
   "metadata": {},
   "outputs": [],
   "source": [
    "from skforecast.utils import optional_dependencies"
   ]
  },
  {
   "cell_type": "code",
   "execution_count": 6,
   "metadata": {},
   "outputs": [],
   "source": [
    "alpha = None\n",
    "interval = [2.5, 97.5]\n",
    "#kwargs = {'order': (1,1,1),  'seasonal_order': (0,0,0,0)}\n",
    "#kwargs = {'order': (1,1,1),  'seasonal_order': (1,1,1,2)}\n",
    "#data = [1.1431156427, 1.0393416189, 1.0916050805, 1.1116324828, 1.1583914007]\n",
    "\n",
    "def my_metric(y_true, y_pred): # pragma: no cover\n",
    "    \"\"\"\n",
    "    Callable metric\n",
    "    \"\"\"\n",
    "    metric = ((y_true - y_pred)/len(y_true)).mean()\n",
    "    \n",
    "    return metric\n",
    "\n",
    "\n",
    "from skforecast.utils import optional_dependencies\n",
    "\n",
    "def test_skforecast_utils_optional_dependencies_match_requirements_optional():\n",
    "    \"\"\"\n",
    "    Test that check_optional_dependency has the same dependencies than the file\n",
    "    requirements_optional.txt\n",
    "    \"\"\"\n",
    "\n",
    "    with open('../requirements_optional.txt') as f:\n",
    "        requirements_optional = f.read()\n",
    "\n",
    "    requirements_optional = {\n",
    "        \"sarimax\": requirements_optional.split(\"\\n\\n\")[0].splitlines(),\n",
    "        \"plotting\": requirements_optional.split(\"\\n\\n\")[1].splitlines()\n",
    "    }\n",
    "\n",
    "    requirements_optional = {k: v[1:] for k, v in requirements_optional.items()}\n",
    "    assert requirements_optional == optional_dependencies\n",
    "\n",
    "\n",
    "test_skforecast_utils_optional_dependencies_match_requirements_optional()"
   ]
  },
  {
   "cell_type": "code",
   "execution_count": 210,
   "metadata": {},
   "outputs": [
    {
     "data": {
      "text/plain": [
       "{'sarimax': ['statsmodels>=0.12, <0.14', 'pmdarima>=2.0, <2.1'],\n",
       " 'plotting': ['matplotlib>=3.3, <3.8',\n",
       "  'seaborn>=0.11, <0.13',\n",
       "  'statsmodels>=0.12, <0.14']}"
      ]
     },
     "execution_count": 210,
     "metadata": {},
     "output_type": "execute_result"
    }
   ],
   "source": [
    "with open('../requirements_optional.txt') as f:\n",
    "    requirements_optional = f.read()\n",
    "\n",
    "requirements_optional = {\n",
    "    \"sarimax\": requirements_optional.split(\"\\n\\n\")[0].splitlines(),\n",
    "    \"plotting\": requirements_optional.split(\"\\n\\n\")[1].splitlines()\n",
    "}\n",
    "requirements_optional = {k: v[1:] for k, v in requirements_optional.items()}\n",
    "requirements_optional"
   ]
  },
  {
   "cell_type": "code",
   "execution_count": 211,
   "metadata": {},
   "outputs": [
    {
     "data": {
      "text/plain": [
       "{'sarimax': ['statsmodels>=0.12, <0.14', 'pmdarima>=2.0, <2.1'],\n",
       " 'plotting': ['matplotlib>=3.3, <3.7',\n",
       "  'seaborn==0.11',\n",
       "  'statsmodels>=0.12, <0.14']}"
      ]
     },
     "execution_count": 211,
     "metadata": {},
     "output_type": "execute_result"
    }
   ],
   "source": [
    "optional_dependencies"
   ]
  }
 ],
 "metadata": {
  "kernelspec": {
   "display_name": "skforecast_py10",
   "language": "python",
   "name": "python3"
  },
  "language_info": {
   "codemirror_mode": {
    "name": "ipython",
    "version": 3
   },
   "file_extension": ".py",
   "mimetype": "text/x-python",
   "name": "python",
   "nbconvert_exporter": "python",
   "pygments_lexer": "ipython3",
   "version": "3.10.9"
  },
  "orig_nbformat": 4,
  "vscode": {
   "interpreter": {
    "hash": "6cf372b23b9916b33b4c23f9ee2e7d08e597eb711b766c11830fb054f7812cb1"
   }
  }
 },
 "nbformat": 4,
 "nbformat_minor": 2
}
