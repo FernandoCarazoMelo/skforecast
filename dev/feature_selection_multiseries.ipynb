{
 "cells": [
  {
   "cell_type": "code",
   "execution_count": 1,
   "metadata": {},
   "outputs": [
    {
     "data": {
      "text/plain": [
       "'/home/ubuntu/varios/skforecast'"
      ]
     },
     "execution_count": 1,
     "metadata": {},
     "output_type": "execute_result"
    }
   ],
   "source": [
    "%load_ext autoreload\n",
    "%autoreload 2\n",
    "import sys\n",
    "from pathlib import Path\n",
    "sys.path.insert(1, str(Path.cwd().parent))\n",
    "str(Path.cwd().parent)"
   ]
  },
  {
   "cell_type": "code",
   "execution_count": 2,
   "metadata": {},
   "outputs": [
    {
     "name": "stdout",
     "output_type": "stream",
     "text": [
      "Train dates : 2012-01-01 00:00:00 --- 2014-07-15 00:00:00   (n=927)\n",
      "Test dates  : 2014-07-16 00:00:00 --- 2015-01-01 00:00:00   (n=170)\n"
     ]
    }
   ],
   "source": [
    "# Libraries\n",
    "# ==============================================================================\n",
    "import numpy as np\n",
    "import pandas as pd\n",
    "import matplotlib.pyplot as plt\n",
    "from sklearn.preprocessing import StandardScaler\n",
    "from sklearn.linear_model import Ridge\n",
    "from sklearn.metrics import mean_absolute_error\n",
    "from sklearn.ensemble import HistGradientBoostingRegressor\n",
    "from lightgbm import LGBMRegressor\n",
    "\n",
    "from skforecast.ForecasterAutoregMultiSeries import ForecasterAutoregMultiSeries\n",
    "from skforecast.model_selection_multiseries import select_features_multiseries\n",
    "\n",
    "# Data download\n",
    "# ==============================================================================\n",
    "url = (\n",
    "       'https://raw.githubusercontent.com/JoaquinAmatRodrigo/skforecast/master/'\n",
    "       'data/simulated_items_sales.csv'\n",
    ")\n",
    "data = pd.read_csv(url, sep=',')\n",
    "\n",
    "# Data preparation\n",
    "# ==============================================================================\n",
    "data['date'] = pd.to_datetime(data['date'], format='%Y-%m-%d')\n",
    "data = data.set_index('date')\n",
    "data = data.asfreq('D')\n",
    "data = data.sort_index()\n",
    "exog = data.copy()\n",
    "exog.columns = [f'exog_{i}' for i in range(exog.shape[1])]\n",
    "\n",
    "# Split data into train-val-test\n",
    "# ==============================================================================\n",
    "end_train = '2014-07-15 23:59:00'\n",
    "data_train = data.loc[:end_train, :].copy()\n",
    "data_test  = data.loc[end_train:, :].copy()\n",
    "exog_train = exog.loc[:end_train, :].copy()\n",
    "exog_test  = exog.loc[end_train:, :].copy()\n",
    "\n",
    "print(\n",
    "    f\"Train dates : {data_train.index.min()} --- {data_train.index.max()}   \"\n",
    "    f\"(n={len(data_train)})\"\n",
    ")\n",
    "print(\n",
    "    f\"Test dates  : {data_test.index.min()} --- {data_test.index.max()}   \"\n",
    "    f\"(n={len(data_test)})\"\n",
    ")"
   ]
  },
  {
   "cell_type": "code",
   "execution_count": 3,
   "metadata": {},
   "outputs": [
    {
     "data": {
      "text/html": [
       "<div>\n",
       "<style scoped>\n",
       "    .dataframe tbody tr th:only-of-type {\n",
       "        vertical-align: middle;\n",
       "    }\n",
       "\n",
       "    .dataframe tbody tr th {\n",
       "        vertical-align: top;\n",
       "    }\n",
       "\n",
       "    .dataframe thead th {\n",
       "        text-align: right;\n",
       "    }\n",
       "</style>\n",
       "<table border=\"1\" class=\"dataframe\">\n",
       "  <thead>\n",
       "    <tr style=\"text-align: right;\">\n",
       "      <th></th>\n",
       "      <th>item_1</th>\n",
       "      <th>item_2</th>\n",
       "      <th>item_3</th>\n",
       "    </tr>\n",
       "    <tr>\n",
       "      <th>date</th>\n",
       "      <th></th>\n",
       "      <th></th>\n",
       "      <th></th>\n",
       "    </tr>\n",
       "  </thead>\n",
       "  <tbody>\n",
       "    <tr>\n",
       "      <th>2012-01-01</th>\n",
       "      <td>8.253175</td>\n",
       "      <td>21.047727</td>\n",
       "      <td>19.429739</td>\n",
       "    </tr>\n",
       "    <tr>\n",
       "      <th>2012-01-02</th>\n",
       "      <td>22.777826</td>\n",
       "      <td>26.578125</td>\n",
       "      <td>28.009863</td>\n",
       "    </tr>\n",
       "    <tr>\n",
       "      <th>2012-01-03</th>\n",
       "      <td>27.549099</td>\n",
       "      <td>31.751042</td>\n",
       "      <td>32.078922</td>\n",
       "    </tr>\n",
       "    <tr>\n",
       "      <th>2012-01-04</th>\n",
       "      <td>25.895533</td>\n",
       "      <td>24.567708</td>\n",
       "      <td>27.252276</td>\n",
       "    </tr>\n",
       "    <tr>\n",
       "      <th>2012-01-05</th>\n",
       "      <td>21.379238</td>\n",
       "      <td>18.191667</td>\n",
       "      <td>20.357737</td>\n",
       "    </tr>\n",
       "    <tr>\n",
       "      <th>...</th>\n",
       "      <td>...</td>\n",
       "      <td>...</td>\n",
       "      <td>...</td>\n",
       "    </tr>\n",
       "    <tr>\n",
       "      <th>2014-12-28</th>\n",
       "      <td>17.329233</td>\n",
       "      <td>18.189583</td>\n",
       "      <td>20.586030</td>\n",
       "    </tr>\n",
       "    <tr>\n",
       "      <th>2014-12-29</th>\n",
       "      <td>19.611623</td>\n",
       "      <td>24.539583</td>\n",
       "      <td>28.127390</td>\n",
       "    </tr>\n",
       "    <tr>\n",
       "      <th>2014-12-30</th>\n",
       "      <td>18.857026</td>\n",
       "      <td>17.677083</td>\n",
       "      <td>21.555782</td>\n",
       "    </tr>\n",
       "    <tr>\n",
       "      <th>2014-12-31</th>\n",
       "      <td>18.721223</td>\n",
       "      <td>17.391667</td>\n",
       "      <td>18.605453</td>\n",
       "    </tr>\n",
       "    <tr>\n",
       "      <th>2015-01-01</th>\n",
       "      <td>10.496302</td>\n",
       "      <td>21.034615</td>\n",
       "      <td>19.943717</td>\n",
       "    </tr>\n",
       "  </tbody>\n",
       "</table>\n",
       "<p>1097 rows × 3 columns</p>\n",
       "</div>"
      ],
      "text/plain": [
       "               item_1     item_2     item_3\n",
       "date                                       \n",
       "2012-01-01   8.253175  21.047727  19.429739\n",
       "2012-01-02  22.777826  26.578125  28.009863\n",
       "2012-01-03  27.549099  31.751042  32.078922\n",
       "2012-01-04  25.895533  24.567708  27.252276\n",
       "2012-01-05  21.379238  18.191667  20.357737\n",
       "...               ...        ...        ...\n",
       "2014-12-28  17.329233  18.189583  20.586030\n",
       "2014-12-29  19.611623  24.539583  28.127390\n",
       "2014-12-30  18.857026  17.677083  21.555782\n",
       "2014-12-31  18.721223  17.391667  18.605453\n",
       "2015-01-01  10.496302  21.034615  19.943717\n",
       "\n",
       "[1097 rows x 3 columns]"
      ]
     },
     "execution_count": 3,
     "metadata": {},
     "output_type": "execute_result"
    }
   ],
   "source": [
    "data"
   ]
  },
  {
   "cell_type": "code",
   "execution_count": 4,
   "metadata": {},
   "outputs": [
    {
     "data": {
      "text/html": [
       "<div>\n",
       "<style scoped>\n",
       "    .dataframe tbody tr th:only-of-type {\n",
       "        vertical-align: middle;\n",
       "    }\n",
       "\n",
       "    .dataframe tbody tr th {\n",
       "        vertical-align: top;\n",
       "    }\n",
       "\n",
       "    .dataframe thead th {\n",
       "        text-align: right;\n",
       "    }\n",
       "</style>\n",
       "<table border=\"1\" class=\"dataframe\">\n",
       "  <thead>\n",
       "    <tr style=\"text-align: right;\">\n",
       "      <th></th>\n",
       "      <th>exog_0</th>\n",
       "      <th>exog_1</th>\n",
       "      <th>exog_2</th>\n",
       "    </tr>\n",
       "    <tr>\n",
       "      <th>date</th>\n",
       "      <th></th>\n",
       "      <th></th>\n",
       "      <th></th>\n",
       "    </tr>\n",
       "  </thead>\n",
       "  <tbody>\n",
       "    <tr>\n",
       "      <th>2012-01-01</th>\n",
       "      <td>8.253175</td>\n",
       "      <td>21.047727</td>\n",
       "      <td>19.429739</td>\n",
       "    </tr>\n",
       "    <tr>\n",
       "      <th>2012-01-02</th>\n",
       "      <td>22.777826</td>\n",
       "      <td>26.578125</td>\n",
       "      <td>28.009863</td>\n",
       "    </tr>\n",
       "    <tr>\n",
       "      <th>2012-01-03</th>\n",
       "      <td>27.549099</td>\n",
       "      <td>31.751042</td>\n",
       "      <td>32.078922</td>\n",
       "    </tr>\n",
       "    <tr>\n",
       "      <th>2012-01-04</th>\n",
       "      <td>25.895533</td>\n",
       "      <td>24.567708</td>\n",
       "      <td>27.252276</td>\n",
       "    </tr>\n",
       "    <tr>\n",
       "      <th>2012-01-05</th>\n",
       "      <td>21.379238</td>\n",
       "      <td>18.191667</td>\n",
       "      <td>20.357737</td>\n",
       "    </tr>\n",
       "    <tr>\n",
       "      <th>...</th>\n",
       "      <td>...</td>\n",
       "      <td>...</td>\n",
       "      <td>...</td>\n",
       "    </tr>\n",
       "    <tr>\n",
       "      <th>2014-12-28</th>\n",
       "      <td>17.329233</td>\n",
       "      <td>18.189583</td>\n",
       "      <td>20.586030</td>\n",
       "    </tr>\n",
       "    <tr>\n",
       "      <th>2014-12-29</th>\n",
       "      <td>19.611623</td>\n",
       "      <td>24.539583</td>\n",
       "      <td>28.127390</td>\n",
       "    </tr>\n",
       "    <tr>\n",
       "      <th>2014-12-30</th>\n",
       "      <td>18.857026</td>\n",
       "      <td>17.677083</td>\n",
       "      <td>21.555782</td>\n",
       "    </tr>\n",
       "    <tr>\n",
       "      <th>2014-12-31</th>\n",
       "      <td>18.721223</td>\n",
       "      <td>17.391667</td>\n",
       "      <td>18.605453</td>\n",
       "    </tr>\n",
       "    <tr>\n",
       "      <th>2015-01-01</th>\n",
       "      <td>10.496302</td>\n",
       "      <td>21.034615</td>\n",
       "      <td>19.943717</td>\n",
       "    </tr>\n",
       "  </tbody>\n",
       "</table>\n",
       "<p>1097 rows × 3 columns</p>\n",
       "</div>"
      ],
      "text/plain": [
       "               exog_0     exog_1     exog_2\n",
       "date                                       \n",
       "2012-01-01   8.253175  21.047727  19.429739\n",
       "2012-01-02  22.777826  26.578125  28.009863\n",
       "2012-01-03  27.549099  31.751042  32.078922\n",
       "2012-01-04  25.895533  24.567708  27.252276\n",
       "2012-01-05  21.379238  18.191667  20.357737\n",
       "...               ...        ...        ...\n",
       "2014-12-28  17.329233  18.189583  20.586030\n",
       "2014-12-29  19.611623  24.539583  28.127390\n",
       "2014-12-30  18.857026  17.677083  21.555782\n",
       "2014-12-31  18.721223  17.391667  18.605453\n",
       "2015-01-01  10.496302  21.034615  19.943717\n",
       "\n",
       "[1097 rows x 3 columns]"
      ]
     },
     "execution_count": 4,
     "metadata": {},
     "output_type": "execute_result"
    }
   ],
   "source": [
    "exog"
   ]
  },
  {
   "cell_type": "code",
   "execution_count": 5,
   "metadata": {},
   "outputs": [
    {
     "data": {
      "text/plain": [
       "============================ \n",
       "ForecasterAutoregMultiSeries \n",
       "============================ \n",
       "Regressor: LGBMRegressor(random_state=123, verbose=-1) \n",
       "Lags: [ 1  2  3  4  5  6  7  8  9 10 11 12 13 14 15 16 17 18 19 20 21 22 23 24] \n",
       "Transformer for series: None \n",
       "Transformer for exog: None \n",
       "Series encoding: ordinal \n",
       "Window size: 24 \n",
       "Series levels (names): None \n",
       "Series weights: None \n",
       "Weight function included: False \n",
       "Differentiation order: None \n",
       "Exogenous included: False \n",
       "Type of exogenous variable: None \n",
       "Exogenous variables names: None \n",
       "Training range: None \n",
       "Training index type: None \n",
       "Training index frequency: None \n",
       "Regressor parameters: {'boosting_type': 'gbdt', 'class_weight': None, 'colsample_bytree': 1.0, 'importance_type': 'split', 'learning_rate': 0.1, 'max_depth': -1, 'min_child_samples': 20, 'min_child_weight': 0.001, 'min_split_gain': 0.0, 'n_estimators': 100, 'n_jobs': None, 'num_leaves': 31, 'objective': None, 'random_state': 123, 'reg_alpha': 0.0, 'reg_lambda': 0.0, 'subsample': 1.0, 'subsample_for_bin': 200000, 'subsample_freq': 0, 'verbose': -1} \n",
       "fit_kwargs: {} \n",
       "Creation date: 2024-03-14 14:27:42 \n",
       "Last fit date: None \n",
       "Skforecast version: 0.12.0 \n",
       "Python version: 3.11.4 \n",
       "Forecaster id: None "
      ]
     },
     "execution_count": 5,
     "metadata": {},
     "output_type": "execute_result"
    }
   ],
   "source": [
    "forecaster = ForecasterAutoregMultiSeries(\n",
    "                 regressor          = LGBMRegressor(random_state=123, verbose=-1),\n",
    "                 lags               = 24,\n",
    "                 encoding           = 'ordinal',\n",
    "                 transformer_series = None,\n",
    "                 transformer_exog   = None,\n",
    "                 weight_func        = None,\n",
    "                 series_weights     = None,\n",
    "                 forecaster_id      = None,\n",
    "                 #fit_kwargs={'categorical_feature':'auto'}\n",
    "             )\n",
    "\n",
    "forecaster"
   ]
  },
  {
   "cell_type": "code",
   "execution_count": 6,
   "metadata": {},
   "outputs": [],
   "source": [
    "output = forecaster._create_train_X_y(data_train, exog_train)\n",
    "X_train = output[0]\n",
    "y_train = output[1]\n",
    "series_col_names = output[3]\n"
   ]
  },
  {
   "cell_type": "code",
   "execution_count": 7,
   "metadata": {},
   "outputs": [],
   "source": [
    "from sklearn.feature_selection import RFECV\n",
    "from sklearn.feature_selection import SequentialFeatureSelector\n",
    "from sklearn.feature_selection import SelectFromModel\n",
    "from sklearn.model_selection import ShuffleSplit"
   ]
  },
  {
   "cell_type": "code",
   "execution_count": 8,
   "metadata": {},
   "outputs": [
    {
     "name": "stdout",
     "output_type": "stream",
     "text": [
      "Recursive feature elimination (RFECV)\n",
      "-------------------------------------\n",
      "Total number of records available: 3219\n",
      "Total number of records used for feature selection: 4827\n",
      "Number of features available: 27\n",
      "    Autoreg (n=24)\n",
      "    Exog    (n=3)\n",
      "Number of features selected: 11\n",
      "    Autoreg (n=7) : [1, 5, 7, 14, 15, 18, 21]\n",
      "    Exog    (n=3) : ['exog_0', 'exog_1', 'exog_2']\n"
     ]
    }
   ],
   "source": [
    "# Feature selection (autoregressive and exog) with scikit-learn RFECV\n",
    "# ==============================================================================\n",
    "regressor = LGBMRegressor(n_estimators=100, max_depth=5, random_state=15926, verbose=-1)\n",
    "\n",
    "selector = RFECV(\n",
    "    estimator=regressor, step=1, cv=3, min_features_to_select=10, n_jobs=-1\n",
    ")\n",
    "\n",
    "selected_autoreg, selected_exog = select_features_multiseries(\n",
    "    forecaster      = forecaster,\n",
    "    selector        = selector,\n",
    "    series          = data,\n",
    "    exog            = exog,\n",
    "    select_only     = None,\n",
    "    force_inclusion = None,\n",
    "    subsample       = 0.5,\n",
    "    random_state    = 123,\n",
    "    verbose         = True,\n",
    ")"
   ]
  },
  {
   "cell_type": "code",
   "execution_count": 9,
   "metadata": {},
   "outputs": [],
   "source": [
    "import pytest\n",
    "import numpy as np\n",
    "import pandas as pd\n",
    "import re\n",
    "from sklearn.linear_model import LinearRegression\n",
    "from sklearn.feature_selection import RFE\n",
    "from skforecast.ForecasterAutoregMultiSeries import ForecasterAutoregMultiSeries\n",
    "from skforecast.ForecasterAutoregMultiSeriesCustom import ForecasterAutoregMultiSeriesCustom\n",
    "from skforecast.model_selection_multiseries import select_features_multiseries\n"
   ]
  },
  {
   "cell_type": "code",
   "execution_count": 10,
   "metadata": {},
   "outputs": [],
   "source": [
    "# Fixtures model_selection_multiseries\n",
    "# ==============================================================================\n",
    "import numpy as np\n",
    "import pandas as pd\n",
    "\n",
    "# Fixtures\n",
    "# series_1 = np.random.rand(50)\n",
    "# series_2 = np.random.rand(50)\n",
    "# exog_1   = series_1 + np.random.normal(0, 0.1, 50)\n",
    "# exog_2   = np.random.rand(50)\n",
    "# exog_3   = np.random.rand(50)\n",
    "# exog_4   = series_2 + np.random.normal(0, 0.1, 50)\n",
    "\n",
    "series = pd.DataFrame({\n",
    "     'l1': pd.Series(np.array(\n",
    "               [0.69646919, 0.28613933, 0.22685145, 0.55131477, 0.71946897,\n",
    "               0.42310646, 0.9807642 , 0.68482974, 0.4809319 , 0.39211752,\n",
    "               0.34317802, 0.72904971, 0.43857224, 0.0596779 , 0.39804426,\n",
    "               0.73799541, 0.18249173, 0.17545176, 0.53155137, 0.53182759,\n",
    "               0.63440096, 0.84943179, 0.72445532, 0.61102351, 0.72244338,\n",
    "               0.32295891, 0.36178866, 0.22826323, 0.29371405, 0.63097612,\n",
    "               0.09210494, 0.43370117, 0.43086276, 0.4936851 , 0.42583029,\n",
    "               0.31226122, 0.42635131, 0.89338916, 0.94416002, 0.50183668,\n",
    "               0.62395295, 0.1156184 , 0.31728548, 0.41482621, 0.86630916,\n",
    "               0.25045537, 0.48303426, 0.98555979, 0.51948512, 0.61289453]\n",
    "                    )\n",
    "          ), \n",
    "     'l2': pd.Series(np.array(\n",
    "               [0.12062867, 0.8263408 , 0.60306013, 0.54506801, 0.34276383,\n",
    "               0.30412079, 0.41702221, 0.68130077, 0.87545684, 0.51042234,\n",
    "               0.66931378, 0.58593655, 0.6249035 , 0.67468905, 0.84234244,\n",
    "               0.08319499, 0.76368284, 0.24366637, 0.19422296, 0.57245696,\n",
    "               0.09571252, 0.88532683, 0.62724897, 0.72341636, 0.01612921,\n",
    "               0.59443188, 0.55678519, 0.15895964, 0.15307052, 0.69552953,\n",
    "               0.31876643, 0.6919703 , 0.55438325, 0.38895057, 0.92513249,\n",
    "               0.84167   , 0.35739757, 0.04359146, 0.30476807, 0.39818568,\n",
    "               0.70495883, 0.99535848, 0.35591487, 0.76254781, 0.59317692,\n",
    "               0.6917018 , 0.15112745, 0.39887629, 0.2408559 , 0.34345601]\n",
    "                    )\n",
    "          )\n",
    "})\n",
    "\n",
    "exog = pd.DataFrame({\n",
    "     'exog1': pd.Series(np.array(\n",
    "               [0.81362466, 0.18065237, 0.23475578, 0.65981251, 0.77626016,\n",
    "               0.41868245, 0.96643556, 0.67516195, 0.4466783 , 0.44168289,\n",
    "               0.35158485, 0.75925757, 0.40625296, 0.19853505, 0.34611829,\n",
    "               0.61579746, 0.07568532, 0.06880357, 0.59517447, 0.57993728,\n",
    "               0.79023383, 0.66388325, 0.67390093, 0.68257639, 0.47676493,\n",
    "               0.3977578 , 0.56785123, 0.34779524, 0.26016756, 0.70679266,\n",
    "               0.04774995, 0.39197318, 0.46367839, 0.4370433 , 0.41450122,\n",
    "               0.37961077, 0.47225148, 0.79649699, 1.0426137 , 0.48792391,\n",
    "               0.50458267, 0.20520444, 0.23720236, 0.39452153, 0.85171668,\n",
    "               0.15336444, 0.4738726 , 1.17622403, 0.53176631, 0.55083837])\n",
    "               ),\n",
    "     'exog2': pd.Series(np.array(\n",
    "          [0.22529048, 0.97937984, 0.17235964, 0.24529647, 0.7127206 ,\n",
    "          0.62075889, 0.11435243, 0.91700825, 0.5831643 , 0.04030412,\n",
    "          0.65716865, 0.30658072, 0.46395434, 0.48452434, 0.46278193,\n",
    "          0.18426942, 0.26344748, 0.23883066, 0.72779828, 0.07488211,\n",
    "          0.94899474, 0.44163677, 0.25777764, 0.90987212, 0.38569441,\n",
    "          0.77341595, 0.70397664, 0.61953314, 0.66083099, 0.24472837,\n",
    "          0.37629717, 0.09605039, 0.9278549 , 0.3234861 , 0.272853  ,\n",
    "          0.73149366, 0.84567995, 0.03531591, 0.25809087, 0.53148211,\n",
    "          0.83952041, 0.26563705, 0.60606193, 0.0181884 , 0.60906828,\n",
    "          0.19357335, 0.16319844, 0.58427611, 0.81820829, 0.08336001])\n",
    "     ),\n",
    "     'exog3': pd.Series(np.array(\n",
    "          [0.14173692, 0.19838271, 0.48780824, 0.08424373, 0.08567588,\n",
    "          0.70887437, 0.04705875, 0.22284741, 0.92726105, 0.99537986,\n",
    "          0.83901923, 0.29050851, 0.05909171, 0.27456474, 0.25750109,\n",
    "          0.43010083, 0.29702035, 0.56146054, 0.1388417 , 0.84215781,\n",
    "          0.83955923, 0.96457563, 0.66089525, 0.15896887, 0.61108399,\n",
    "          0.27603516, 0.92614876, 0.48826627, 0.32792168, 0.87529287,\n",
    "          0.6452307 , 0.50767682, 0.26563346, 0.54585537, 0.80222916,\n",
    "          0.88929714, 0.86435062, 0.71305703, 0.18654522, 0.41497294,\n",
    "          0.66556244, 0.71263307, 0.98795819, 0.6306933 , 0.14902407,\n",
    "          0.16021244, 0.66550264, 0.77537995, 0.07558725, 0.21460743])\n",
    "     ),\n",
    "     'exog4': pd.Series(np.array(\n",
    "          [-0.06574814,  0.90956685,  0.62142653,  0.82637769,  0.56159495,\n",
    "          0.34376551,  0.45848779,  0.38489167,  0.89467872,  0.54904309,\n",
    "          0.8185359 ,  0.48700256,  0.68844761,  0.69774397,  0.76506425,\n",
    "          0.00440831,  0.79692897,  0.12322595,  0.12812382,  0.62445613,\n",
    "          0.2433968 ,  0.84983804,  0.6108338 ,  0.68502064,  0.01186788,\n",
    "          0.54597677,  0.44377848,  0.29329784, -0.02316005,  0.45542694,\n",
    "          0.221795  ,  0.7963138 ,  0.57343061,  0.33216654,  0.91545132,\n",
    "          0.93857233,  0.39897906,  0.16776203,  0.31379519,  0.3557038 ,\n",
    "          0.83869898,  0.99444057,  0.32071535,  0.80514198,  0.52945861,\n",
    "          0.76451127,  0.37253453,  0.37938831,  0.12500821,  0.30680189])\n",
    "     ),\n",
    "})"
   ]
  },
  {
   "cell_type": "code",
   "execution_count": 11,
   "metadata": {},
   "outputs": [],
   "source": [
    "def test_TypeError_select_features_raise_when_forecaster_is_not_supported():\n",
    "    \"\"\"\n",
    "    Test TypeError is raised in select_features when forecaster is not supported.\n",
    "    \"\"\"\n",
    "    \n",
    "    err_msg = re.escape(\n",
    "        \"`forecaster` must be one of the following classes: ['ForecasterAutoregMultiSeries', \"\n",
    "        \"'ForecasterAutoregMultiSeriesCustom'].\"\n",
    "    )\n",
    "    with pytest.raises(TypeError, match = err_msg):\n",
    "        select_features_multiseries(\n",
    "            selector   = object(),\n",
    "            forecaster = object(),\n",
    "            series     = object(),\n",
    "            exog       = object(),\n",
    "        )\n",
    "\n",
    "test_TypeError_select_features_raise_when_forecaster_is_not_supported()"
   ]
  },
  {
   "cell_type": "code",
   "execution_count": 12,
   "metadata": {},
   "outputs": [],
   "source": [
    "def test_ValueError_select_features_raise_when_select_only_is_not_autoreg_exog_None(select_only):\n",
    "    \"\"\"\n",
    "    Test ValueError is raised in select_features when `select_only` is not 'autoreg',\n",
    "    'exog' or None.\n",
    "    \"\"\"\n",
    "    forecaster = ForecasterAutoregMultiSeries(\n",
    "                     regressor = LinearRegression(),\n",
    "                     lags      = 5,\n",
    "                 )\n",
    "    selector = RFE(estimator=forecaster.regressor, n_features_to_select=3)\n",
    "\n",
    "    err_msg = re.escape(\n",
    "        \"`select_only` must be one of the following values: 'autoreg', 'exog', None.\"\n",
    "    )\n",
    "    with pytest.raises(ValueError, match = err_msg):\n",
    "        select_features_multiseries(\n",
    "            selector    = selector,\n",
    "            forecaster  = forecaster,\n",
    "            series      = object(),\n",
    "            exog        = object(),\n",
    "            select_only = select_only,\n",
    "        )\n",
    "\n",
    "test_ValueError_select_features_raise_when_select_only_is_not_autoreg_exog_None(False)"
   ]
  },
  {
   "cell_type": "code",
   "execution_count": 23,
   "metadata": {},
   "outputs": [
    {
     "name": "stdout",
     "output_type": "stream",
     "text": [
      "Recursive feature elimination (RFE)\n",
      "-----------------------------------\n",
      "Total number of records available: 90\n",
      "Total number of records used for feature selection: 90\n",
      "Number of features available: 9\n",
      "    Autoreg (n=5)\n",
      "    Exog    (n=4)\n",
      "Number of features selected: 3\n",
      "    Autoreg (n=1) : [1]\n",
      "    Exog    (n=3) : ['exog1', 'exog3', 'exog4']\n"
     ]
    }
   ],
   "source": [
    "forecaster = ForecasterAutoregMultiSeries(\n",
    "                    regressor = LinearRegression(),\n",
    "                    lags      = 5,\n",
    "                    encoding  = 'onehot'\n",
    "                )\n",
    "selector = RFE(estimator=forecaster.regressor, n_features_to_select=3)\n",
    "\n",
    "selected_autoreg, selected_exog = select_features_multiseries(\n",
    "    selector        = selector,\n",
    "    forecaster      = forecaster,\n",
    "    series          = series,\n",
    "    exog            = exog,\n",
    "    select_only     = None,\n",
    "    force_inclusion = ['lag_1'],\n",
    "    verbose         = True,\n",
    ")\n"
   ]
  },
  {
   "cell_type": "code",
   "execution_count": 14,
   "metadata": {},
   "outputs": [
    {
     "name": "stderr",
     "output_type": "stream",
     "text": [
      "/tmp/ipykernel_26567/1520189107.py:2: UserWarning: No autoregressive features has been selected. Since a Forecaster cannot be created without them, be sure to include at least one using the `force_inclusion` parameter.\n",
      "  warnings.warn(\n"
     ]
    }
   ],
   "source": [
    "import warnings\n",
    "warnings.warn(\n",
    "            (\"No autoregressive features has been selected. Since a Forecaster \"\n",
    "             \"cannot be created without them, be sure to include at least one \"\n",
    "             \"using the `force_inclusion` parameter.\"), UserWarning\n",
    "        )"
   ]
  },
  {
   "cell_type": "code",
   "execution_count": 104,
   "metadata": {},
   "outputs": [
    {
     "name": "stdout",
     "output_type": "stream",
     "text": [
      "Recursive feature elimination (RFE)\n",
      "-----------------------------------\n",
      "Total number of records available: 90\n",
      "Total number of records used for feature selection: 90\n",
      "Number of features available: 9\n",
      "    Autoreg (n=5)\n",
      "    Exog    (n=4)\n",
      "Number of features selected: 2\n",
      "    Autoreg (n=5) : [1, 2, 3, 4, 5]\n",
      "    Exog    (n=2) : ['exog1', 'exog4']\n"
     ]
    }
   ],
   "source": [
    "forecaster = ForecasterAutoregMultiSeries(\n",
    "                    regressor = LinearRegression(),\n",
    "                    lags      = 5,\n",
    "                    encoding  = 'onehot'\n",
    "                )\n",
    "selector = RFE(estimator=LinearRegression(), n_features_to_select=2)\n",
    "\n",
    "selected_autoreg, selected_exog = select_features_multiseries(\n",
    "    selector    = selector,\n",
    "    forecaster  = forecaster,\n",
    "    series      = series,\n",
    "    exog        = exog,\n",
    "    select_only = 'exog',\n",
    "    verbose     = True,\n",
    ")"
   ]
  },
  {
   "cell_type": "code",
   "execution_count": 52,
   "metadata": {},
   "outputs": [
    {
     "data": {
      "text/plain": [
       "13"
      ]
     },
     "execution_count": 52,
     "metadata": {},
     "output_type": "execute_result"
    }
   ],
   "source": [
    "selector.n_features_to_select"
   ]
  },
  {
   "cell_type": "code",
   "execution_count": 51,
   "metadata": {},
   "outputs": [],
   "source": [
    "if hasattr(selector, 'n_features_to_select'):\n",
    "    n_features_to_select = selector.n_features_to_select + 10\n",
    "    selector.set_params(n_features_to_select=n_features_to_select)\n",
    "elif hasattr(selector, 'min_features_to_select'):\n",
    "    min_features_to_select = selector.min_features_to_select + 10\n",
    "    selector.set_params(min_features_to_select=min_features_to_select)"
   ]
  },
  {
   "cell_type": "code",
   "execution_count": 64,
   "metadata": {},
   "outputs": [
    {
     "data": {
      "text/plain": [
       "array([0.18920282, 0.71740442, 0.74196793, 0.84316573, 0.73553999,\n",
       "       0.47425836, 0.22983873, 0.39374686, 0.58599894, 0.69600811,\n",
       "       0.58230332, 0.17794978, 0.39182429, 0.24260633, 0.54306653,\n",
       "       0.05084278, 0.3429293 , 0.94857519, 0.39354258, 0.1036654 ,\n",
       "       0.01501619, 0.35612163, 0.12183972, 0.49380503, 0.9915272 ,\n",
       "       0.75792333, 0.94115699, 0.05275798, 0.51981235, 0.06665954,\n",
       "       0.12124489, 0.01495866, 0.23089716, 0.27690914, 0.71819339,\n",
       "       0.38557835, 0.53317773, 0.46772104, 0.98604754, 0.04593223,\n",
       "       0.88395942, 0.56223342, 0.80942671, 0.41684799, 0.95302716,\n",
       "       0.97216776, 0.34489461, 0.79841948, 0.55978385, 0.65491623])"
      ]
     },
     "execution_count": 64,
     "metadata": {},
     "output_type": "execute_result"
    }
   ],
   "source": [
    "np.random.rand(50)"
   ]
  }
 ],
 "metadata": {
  "kernelspec": {
   "display_name": "skforecast_py10",
   "language": "python",
   "name": "python3"
  },
  "language_info": {
   "codemirror_mode": {
    "name": "ipython",
    "version": 3
   },
   "file_extension": ".py",
   "mimetype": "text/x-python",
   "name": "python",
   "nbconvert_exporter": "python",
   "pygments_lexer": "ipython3",
   "version": "3.11.4"
  },
  "orig_nbformat": 4,
  "vscode": {
   "interpreter": {
    "hash": "c78d62c1713fdacd99ef7c429003c7324b36fbb551fb8b6860a7ea73e9338235"
   }
  }
 },
 "nbformat": 4,
 "nbformat_minor": 2
}
