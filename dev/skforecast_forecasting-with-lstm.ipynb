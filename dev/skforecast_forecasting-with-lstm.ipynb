{
 "cells": [
  {
   "cell_type": "markdown",
   "metadata": {},
   "source": [
    "<h1><center><font size=\"25\">Deep Learning y Forecasting: Redes Neuronales Recurrentes (RNN) y Long Short-Term Memory (LSTM) con TensorFlow\n",
    "</font></center></h1>"
   ]
  },
  {
   "cell_type": "markdown",
   "metadata": {},
   "source": [
    "<center><b>Fernando Carazo Melo, Joaquín Amat Rodrigo</b></center>\n",
    "\n",
    "<center><i>Noviembre, 2023</i></center>"
   ]
  },
  {
   "cell_type": "markdown",
   "metadata": {},
   "source": [
    "**More about forecasting**\n",
    "\n",
    "+ [Introduction to forecasting with skforecast](https://cienciadedatos.net/documentos/py27-time-series-forecasting-python-scikitlearn.html)\n",
    "+ [Forecasting time series with gradient boosting: Skforecast, XGBoost, LightGBM and CatBoost](https://www.cienciadedatos.net/documentos/py39-forecasting-time-series-with-skforecast-xgboost-lightgbm-catboost.html)\n",
    "+ [Forecasting electricity demand with Python](https://www.cienciadedatos.net/documentos/py29-forecasting-electricity-power-demand-python.html)\n",
    "+ [Forecasting web traffic with machine learning and Python](https://www.cienciadedatos.net/documentos/py37-forecasting-web-traffic-machine-learning.html)\n",
    "+ [Bitcoin price prediction with Python, when the past does not repeat itself](https://www.cienciadedatos.net/documentos/py41-forecasting-cryptocurrency-bitcoin-machine-learning-python.html)\n",
    "+ [Prediction intervals in forecasting models](https://www.cienciadedatos.net/documentos/py42-forecasting-prediction-intervals-machine-learning.html)\n",
    "+ [Intermittent demand forecasting with skforecast](https://www.cienciadedatos.net/documentos/py48-intermittent-demand-forecasting)\n",
    "\n",
    "<p align=\"center\"><img src='https://github.com/JoaquinAmatRodrigo/skforecast/raw/master/docs/img/banner-landing-page-skforecast.png'style=\"width: 600px\"></p>"
   ]
  },
  {
   "cell_type": "markdown",
   "metadata": {},
   "source": [
    "## Introdución\n"
   ]
  },
  {
   "cell_type": "markdown",
   "metadata": {},
   "source": [
    "\n",
    "En el ámbito del Deep Learning, las Redes Neuronales Recurrentes (RNN) y las Memorias a Corto y Largo Plazo (LSTM) constituyen avances significativos para modelar datos temporales, gracias a su capacidad para capturar dependencias secuenciales. Este enfoque ha demostrado ser crucial en tareas como procesamiento de lenguaje natural y análisis de series temporales.\n",
    "\n",
    "## Fundamentos del Deep Learning\n",
    "\n",
    "El Deep Learning se basa en modelos neuronales artificiales con múltiples capas, conocidos como redes neuronales. Estas estructuras permiten aprender patrones no lineales complejos de datos mediante el ajuste automático de los pesos de las conexiones. A diferencia de los enfoques tradicionales, el Deep Learning aborda problemas complejos sin necesidad de diseñar manualmente características específicas. Según los tipos de datos que se quiera modelar, se debe escoger un tipo de arquitectura de red neuronal diferente. Las Redes Neuronales Recurrentes se desarrollaron para modelar datos secuenciales, es decir, datos donde cada observación depende de las observaciónes anteriores a modo de una serie. Este es el caso de las series temporales."
   ]
  },
  {
   "cell_type": "markdown",
   "metadata": {},
   "source": [
    "\n",
    "## Redes Neuronales Recurrentes (RNN)\n",
    "\n",
    "Las RNN son extensiones de las redes neuronales convencionales, diseñadas para procesar secuencias de datos que siguen un orden. Su arquitectura permite la retroalimentación de la salida como entrada en pasos temporales posteriores, facilitando la modelización de dependencias temporales. En cada paso temporal, además de la salida ($y_t$) también se genera una activación (o hidden state, $a_{t}$). Para hacer una predicción, la RNN toma dos entradas: el dato actual ($x_t$) y la activación en el instante de tiempo anterior ($a_{t-1}$). Esta conexión cíclica permite a la red aprender patrones secuenciales y recordar información relevante a medida que avanza en la secuencia.\n",
    "\n",
    "Sin embargo, las RNN tradicionales enfrenta desafíos como la pérdida o desvanecimiento de la memoria, lo que limita su eficacia en la captura de patrones a largo plazo. Estas limitaciones disminuyen la influencia que observaciones pasadas tiene en observaciones recientes, por lo que se pierde capacidad predictiva. De este modo, la influencia de observaciones lejanas en el tiempo es prácticamente nula.\n"
   ]
  },
  {
   "cell_type": "markdown",
   "metadata": {},
   "source": [
    "\n",
    "<p align=\"center\"><img src='https://www.codificandobits.com/img/posts/2019-06-22/entradas-y-salidas-red-recurrente.png'style=\"width: 400px\"></p>\n",
    "\n",
    "Las entradas y salidas de una neurona en una Red Recurrente. Fuente: [codificandobits](https://www.codificandobits.com/blog/redes-neuronales-recurrentes-explicacion-detallada/)\n"
   ]
  },
  {
   "cell_type": "markdown",
   "metadata": {},
   "source": [
    "## Long Short-Term Memory (LSTM)\n",
    "\n",
    "Las redes neuronales Long Short-Term Memory (LSTM) constituyen un tipo especializado de RNNs diseñadas para superar las limitaciones asociados con la captura de dependencias temporales a largo plazo. A diferencia de las RNN tradicionales, las LSTMs incorporan una arquitectura más compleja, introduciendo unidades de memoria y mecanismos de puertas para mejorar la gestión de la información a lo largo del tiempo.\n",
    "\n",
    "### Estructura de las LSTMs\n",
    "\n",
    "Las LSTMs presentan una estructura modular que consta de tres puertas fundamentales: la puerta de olvido (forget gate), la puerta de entrada (input gate), y la puerta de salida (output gate). Estas puertas trabajan en conjunto para regular el flujo de información a través de la unidad de memoria, permitiendo un control más preciso sobre qué información retener y qué olvidar.\n",
    "\n",
    "1. **Puerta de Olvido (Forget Gate):** Regula qué información antigua se debe olvidar y cuánta se mantiene en la memoria a largo plazo, utilizando la entrada actual y la salida anterior mediante una función sigmoide.\n",
    "\n",
    "2. **Puerta de Entrada (Input Gate):** Decide cuánta nueva información debe añadirse a la memoria a largo plazo, calculando una nueva candidata de memoria mediante una función sigmoide que pondera la entrada actual y la salida anterior.\n",
    "\n",
    "3. **Puerta de Salida (Output Gate):** Determina cuánta información de la memoria actual se utilizará para la salida final, combinando la entrada actual y la información de la memoria mediante una función sigmoide.\n",
    "\n",
    "### Ventajas Claves de las LSTMs\n",
    "\n",
    "1. **Manejo Efectivo de Dependencias a Largo Plazo:** La estructura de puertas en las LSTMs permite la retención de información relevante a lo largo de secuencias temporales extensas, abordando el problema de desvanecimiento del gradiente que afecta a las RNN tradicionales.\n",
    "\n",
    "2. **Adaptabilidad a Diversas Tareas:** Las LSTMs han demostrado ser efectivas en una variedad de tareas, desde procesamiento de lenguaje natural hasta predicción de series temporales, gracias a su capacidad para capturar patrones complejos en datos secuenciales.\n",
    "\n",
    "\n",
    "\n",
    "<p align=\"center\"><img src='https://databasecamp.de/wp-content/uploads/lstm-architecture-1024x709.png'style=\"width: 400px\"></p>\n",
    "\n",
    "Las entradas y salidas de una neurona en una Red Recurrente. Fuente: [codificandobits](https://databasecamp.de/wp-content/uploads/lstm-architecture-1024x709.png)\n",
    "\n"
   ]
  },
  {
   "cell_type": "markdown",
   "metadata": {},
   "source": [
    "## Tipos de problemas en series temporales\n",
    "\n",
    "En el ámbito de las series temporales, la capacidad para abordar problemas multi-serie (múltiples conjuntos de datos temporales) y multi-step (predicciones a varios pasos en el futuro) es esencial. Las LSTMs proporcionando una arquitectura robusta para modelar complejas interacciones temporales en cada uno de los posibles escenarios. Para simplificar aún más el desarrollo y la implementación de soluciones, el paquete `skforecast` en Python ofrece una API unificada que permite resolver una variedad de problemas de series temporales con la misma facilidad.\n",
    "\n",
    "1. **Problemas de Series Temporales Únicas (Single-Series):**\n",
    "   - *Descripción:* Este tipo de problemas implica trabajar con una sola serie temporal a lo largo del tiempo. Es un problema típico autoregresivo.\n",
    "   - *Ejemplo:* Predicción de la temperatura diaria en una ubicación específica.\n",
    "\n",
    "2. **Problemas de Series Temporales Múltiples (Multi-Series):**\n",
    "   - *Descripción:* Se trata de problemas que involucran varias series temporales, donde cada serie puede representar una entidad o variable diferente.\n",
    "   - *Ejemplo:* Predicción de las ventas del día siguiente de varios productos en una tienda, considerando una serie temporal para cada producto.\n",
    "\n",
    "3. **Problemas de Predicción a Múltiples Pasos (Multi-Step):**\n",
    "   - *Descripción:* Estos problemas implican predecir valores futuros en varios pasos temporales.\n",
    "   - *Ejemplo:* Pronosticar la demanda enérgética de la próxima semana en función de los datos históricos de demanda energética.\n",
    "\n",
    "4. **Problemas de Múltiples Series y Múltiples Pasos (Multi-Series Multi-Step):**\n",
    "   - *Descripción:* La combinación de ambos, implica predecir múltiples series temporales en varios pasos futuros.\n",
    "   - *Ejemplo:* Prever la demanda semanal de electricidad para diferentes regiones geográficas.\n"
   ]
  },
  {
   "cell_type": "markdown",
   "metadata": {},
   "source": [
    "## Predicción de la calidad del aire con Tensorflow y skforecast\n",
    "\n",
    "`TensorFlow` proporciona una interfaz amigable para construir y entrenar modelos LSTM. A través de su API de alto nivel, los desarrolladores pueden implementar fácilmente arquitecturas LSTM, aprovechando las ventajas de la eficiencia computacional y la escalabilidad que ofrece este marco de aprendizaje profundo.\n",
    "\n",
    "`skforecast` permite generalizar de forma sencilla la implementación de LSTMs or RNNs utilizando Tensorflow. De esta forma, el usuario puede definir el problema y abstraerse de la arquitectura. Para usuarios avanzados, `skforecast` también permite ejecutar una arquitectura de Deep Learning previamente definida.\n",
    "\n",
    "## Dataset\n",
    "En el marco de este artículo, se explorará un conjunto de datos que ofrece un detallado análisis sobre la calidad del aire en Valencia. La colección de datos abarca desde el 1 de enero de 2019 hasta el 31 de diciembre de 2021, proporcionando mediciones horarias de diversos contaminantes atmosféricos, como partículas PM2.5 y PM10, monóxido de carbono (CO), dióxido de nitrógeno (NO2), entre otros.\n",
    "\n",
    "Fuente: https://mediambient.gva.es/es/web/calidad-ambiental/datos-historicos"
   ]
  },
  {
   "cell_type": "markdown",
   "metadata": {},
   "source": [
    "### Importar las librerías"
   ]
  },
  {
   "cell_type": "code",
   "execution_count": 4,
   "metadata": {},
   "outputs": [
    {
     "data": {
      "text/plain": [
       "'/Users/fernandocarazo/Documents/git-repos/skforecast'"
      ]
     },
     "execution_count": 4,
     "metadata": {},
     "output_type": "execute_result"
    }
   ],
   "source": [
    "%load_ext autoreload\n",
    "%autoreload 2\n",
    "import sys\n",
    "from pathlib import Path\n",
    "sys.path.insert(1, str(Path.cwd().parent))\n",
    "str(Path.cwd().parent)"
   ]
  },
  {
   "cell_type": "code",
   "execution_count": 6,
   "metadata": {},
   "outputs": [],
   "source": [
    "# Data processing\n",
    "# ==============================================================================\n",
    "import pandas as pd\n",
    "import matplotlib.pyplot as plt\n",
    "\n",
    "# Modelling\n",
    "# ==============================================================================\n",
    "from skforecast.ForecasterRnn import ForecasterRnn\n",
    "from skforecast.ForecasterRnn.utils import create_and_compile_model\n",
    "from sklearn.preprocessing import MinMaxScaler\n",
    "\n",
    "# Tensorflow\n",
    "# ==============================================================================\n",
    "from tensorflow.keras.optimizers import Adam\n",
    "from tensorflow.keras.losses import MeanSquaredError\n",
    "from tensorflow.keras.callbacks import EarlyStopping"
   ]
  },
  {
   "cell_type": "code",
   "execution_count": 54,
   "metadata": {},
   "outputs": [
    {
     "name": "stdout",
     "output_type": "stream",
     "text": [
      "datetime\n",
      " 3600.0        26075\n",
      " 7200.0           25\n",
      " 10800.0          20\n",
      " 18000.0           3\n",
      " 14400.0           2\n",
      " 259200.0          1\n",
      "-94690800.0        1\n",
      " 79200.0           1\n",
      "Name: count, dtype: int64\n"
     ]
    },
    {
     "data": {
      "text/plain": [
       "(26129, 10)"
      ]
     },
     "metadata": {},
     "output_type": "display_data"
    },
    {
     "name": "stdout",
     "output_type": "stream",
     "text": [
      "datetime\n",
      "3600.0    26303\n",
      "Name: count, dtype: int64\n"
     ]
    }
   ],
   "source": [
    "# ---------------------------------------------------------------------------- #\n",
    "#                               Descarga y procesado                           #\n",
    "# ---------------------------------------------------------------------------- #\n",
    "\n",
    "# Cargar el conjunto de datos\n",
    "url = \"https://raw.githubusercontent.com/JoaquinAmatRodrigo/skforecast-datasets/main/data/air_quality_valencia.csv\"\n",
    "data = pd.read_csv(url)\n",
    "data[\"datetime\"] = pd.to_datetime(data[\"datetime\"], format=\"%Y-%m-%d %H:%M:%S\")\n",
    "data = data.set_index(\"datetime\")\n",
    "\n",
    "print(data.index.to_series().diff().dt.total_seconds().value_counts())\n",
    "\n",
    "print(data.shape)\n",
    "# # Interpolación utilizando el valor medio entre los dos valores contiguos\n",
    "data = data.asfreq(\"H\").interpolate(method=\"linear\")\n",
    "data = data.sort_index()\n",
    "print(data.index.to_series().diff().dt.total_seconds().value_counts())"
   ]
  },
  {
   "cell_type": "code",
   "execution_count": 68,
   "metadata": {},
   "outputs": [
    {
     "name": "stdout",
     "output_type": "stream",
     "text": [
      "Dates train      : 2019-01-01 00:00:00 --- 2021-03-31 23:00:00  (n=19704)\n",
      "Dates validacion : 2021-04-01 00:00:00 --- 2021-09-30 23:00:00  (n=4392)\n",
      "Dates test       : 2021-10-01 00:00:00 --- 2021-12-31 23:00:00  (n=2208)\n"
     ]
    }
   ],
   "source": [
    "# ---------------------------------------------------------------------------- #\n",
    "#                          Split train-validation-test                         #\n",
    "# ---------------------------------------------------------------------------- #\n",
    "\n",
    "end_train = \"2021-03-31 23:59:00\"\n",
    "end_validation = \"2021-09-30 23:59:00\"\n",
    "data_train = data.loc[:end_train, :].copy()\n",
    "data_val = data.loc[end_train:end_validation, :].copy()\n",
    "data_test = data.loc[end_validation:, :].copy()\n",
    "\n",
    "data_train_raw = data_train.copy()\n",
    "\n",
    "print(f\"Dates train      : {data_train.index.min()} --- {data_train.index.max()}  (n={len(data_train)})\")\n",
    "print(f\"Dates validacion : {data_val.index.min()} --- {data_val.index.max()}  (n={len(data_val)})\")\n",
    "print(f\"Dates test       : {data_test.index.min()} --- {data_test.index.max()}  (n={len(data_test)})\")"
   ]
  },
  {
   "cell_type": "code",
   "execution_count": 59,
   "metadata": {},
   "outputs": [
    {
     "data": {
      "text/plain": [
       "(Timestamp('2019-01-01 00:00:00'), Timestamp('2021-12-31 23:00:00'))"
      ]
     },
     "execution_count": 59,
     "metadata": {},
     "output_type": "execute_result"
    }
   ],
   "source": [
    "data.index.min(), data.index.max()"
   ]
  },
  {
   "cell_type": "code",
   "execution_count": 63,
   "metadata": {},
   "outputs": [
    {
     "data": {
      "image/png": "[encoded data removed]",
      "text/plain": [
       "<Figure size 1000x300 with 1 Axes>"
      ]
     },
     "metadata": {},
     "output_type": "display_data"
    }
   ],
   "source": [
    "# ----------------------------------- Users ---------------------------------- #\n",
    "fig, ax = plt.subplots(figsize=(10, 3))\n",
    "# title\n",
    "ax.set_title(\"PM2.5\")\n",
    "data_train[[\"pm2.5\"]].rolling(100).mean().plot(ax=ax, label=\"train\")\n",
    "data_val[[\"pm2.5\"]].rolling(100).mean().plot(ax=ax, label=\"val\")\n",
    "ax.legend([\"train\", \"val\"])\n",
    "plt.show()"
   ]
  },
  {
   "cell_type": "markdown",
   "metadata": {},
   "source": [
    "## Create Model"
   ]
  },
  {
   "cell_type": "code",
   "execution_count": 65,
   "metadata": {},
   "outputs": [
    {
     "name": "stdout",
     "output_type": "stream",
     "text": [
      "Model: \"model\"\n",
      "_________________________________________________________________\n",
      " Layer (type)                Output Shape              Param #   \n",
      "=================================================================\n",
      " input_1 (InputLayer)        [(None, 48, 10)]          0         \n",
      "                                                                 \n",
      " lstm (LSTM)                 (None, 100)               44400     \n",
      "                                                                 \n",
      " dense (Dense)               (None, 128)               12928     \n",
      "                                                                 \n",
      " dense_1 (Dense)             (None, 50)                6450      \n",
      "                                                                 \n",
      " reshape (Reshape)           (None, 5, 10)             0         \n",
      "                                                                 \n",
      "=================================================================\n",
      "Total params: 63778 (249.13 KB)\n",
      "Trainable params: 63778 (249.13 KB)\n",
      "Non-trainable params: 0 (0.00 Byte)\n",
      "_________________________________________________________________\n"
     ]
    }
   ],
   "source": [
    "# ---------------------------------------------------------------------------- #\n",
    "#                              Creación del modelo                             #\n",
    "# ---------------------------------------------------------------------------- #\n",
    "\n",
    "levels = ['pm2.5', 'co', 'no', 'no2', 'pm10', 'nox', 'o3', 'veloc.', 'direc.','so2'] \n",
    "# levels: Características a predecir. Pueden ser todas las serires o menos\n",
    "lags = 48 # Elementos temporales que permitimos que influyan en la predicción\n",
    "steps = 5 # Pasos a futuro a predecir\n",
    "\n",
    "# llevar el compile al create model\n",
    "\n",
    "model = create_and_compile_model(\n",
    "    series=data_train,\n",
    "    levels=levels, \n",
    "    lags=lags,\n",
    "    steps=steps,\n",
    "    recurrent_layer=\"LSTM\",\n",
    "    recurrent_units=[100],\n",
    "    dense_units=[128],\n",
    "    optimizer=Adam(learning_rate=0.01), \n",
    "    loss=MeanSquaredError()\n",
    ")\n",
    "model.summary()"
   ]
  },
  {
   "cell_type": "code",
   "execution_count": 66,
   "metadata": {},
   "outputs": [],
   "source": [
    "# ---------------------------------------------------------------------------- #\n",
    "#                            Creación del Forecaster                           #\n",
    "# ---------------------------------------------------------------------------- #\n",
    "\n",
    "forecaster = ForecasterRnn(\n",
    "    regressor=model,\n",
    "    levels=levels,\n",
    "    transformer_series=MinMaxScaler(),\n",
    "    fit_kwargs={\n",
    "        \"epochs\": 30,  # Número de épocas para entrenar el modelo.\n",
    "        \"batch_size\": 128,  # Tamaño del batch para entrenar el modelo.\n",
    "        \"callbacks\": [\n",
    "            EarlyStopping(monitor=\"val_loss\", patience=10)\n",
    "        ],  # Callback para detener el entrenamiento cuando ya no esté aprendiendo más.\n",
    "        \"series_val\": data_val,  # Datos de validación para el entrenamiento del modelo.\n",
    "    },\n",
    ")"
   ]
  },
  {
   "cell_type": "code",
   "execution_count": 67,
   "metadata": {},
   "outputs": [
    {
     "name": "stdout",
     "output_type": "stream",
     "text": [
      "Epoch 1/30\n",
      "154/154 [==============================] - 14s 79ms/step - loss: 0.0156 - val_loss: 0.0235\n",
      "Epoch 2/30\n",
      "154/154 [==============================] - 13s 82ms/step - loss: 0.0127 - val_loss: 0.0224\n",
      "Epoch 3/30\n",
      "154/154 [==============================] - 13s 83ms/step - loss: 0.0123 - val_loss: 0.0236\n",
      "Epoch 4/30\n",
      "154/154 [==============================] - 15s 95ms/step - loss: 0.0118 - val_loss: 0.0227\n",
      "Epoch 5/30\n",
      "154/154 [==============================] - 15s 100ms/step - loss: 0.0106 - val_loss: 0.0202\n",
      "Epoch 6/30\n",
      "154/154 [==============================] - 16s 101ms/step - loss: 0.0097 - val_loss: 0.0204\n",
      "Epoch 7/30\n",
      "154/154 [==============================] - 17s 112ms/step - loss: 0.0089 - val_loss: 0.0192\n",
      "Epoch 8/30\n",
      "154/154 [==============================] - 16s 107ms/step - loss: 0.0086 - val_loss: 0.0189\n",
      "Epoch 9/30\n",
      "154/154 [==============================] - 16s 107ms/step - loss: 0.0083 - val_loss: 0.0181\n",
      "Epoch 10/30\n",
      "154/154 [==============================] - 14s 94ms/step - loss: 0.0081 - val_loss: 0.0182\n",
      "Epoch 11/30\n",
      "154/154 [==============================] - 15s 97ms/step - loss: 0.0080 - val_loss: 0.0168\n",
      "Epoch 12/30\n",
      "154/154 [==============================] - 17s 109ms/step - loss: 0.0078 - val_loss: 0.0168\n",
      "Epoch 13/30\n",
      "154/154 [==============================] - 13s 85ms/step - loss: 0.0077 - val_loss: 0.0170\n",
      "Epoch 14/30\n",
      "154/154 [==============================] - 16s 105ms/step - loss: 0.0076 - val_loss: 0.0162\n",
      "Epoch 15/30\n",
      "154/154 [==============================] - 12s 78ms/step - loss: 0.0075 - val_loss: 0.0159\n",
      "Epoch 16/30\n",
      "154/154 [==============================] - 12s 81ms/step - loss: 0.0074 - val_loss: 0.0151\n",
      "Epoch 17/30\n",
      "154/154 [==============================] - 15s 95ms/step - loss: 0.0073 - val_loss: 0.0155\n",
      "Epoch 18/30\n",
      "154/154 [==============================] - 14s 90ms/step - loss: 0.0072 - val_loss: 0.0150\n",
      "Epoch 19/30\n",
      "154/154 [==============================] - 14s 92ms/step - loss: 0.0072 - val_loss: 0.0156\n",
      "Epoch 20/30\n",
      "154/154 [==============================] - 14s 90ms/step - loss: 0.0071 - val_loss: 0.0151\n",
      "Epoch 21/30\n",
      "154/154 [==============================] - 15s 96ms/step - loss: 0.0071 - val_loss: 0.0153\n",
      "Epoch 22/30\n",
      "154/154 [==============================] - 15s 100ms/step - loss: 0.0070 - val_loss: 0.0151\n",
      "Epoch 23/30\n",
      "154/154 [==============================] - 15s 97ms/step - loss: 0.0070 - val_loss: 0.0150\n",
      "Epoch 24/30\n",
      "154/154 [==============================] - 14s 91ms/step - loss: 0.0069 - val_loss: 0.0147\n",
      "Epoch 25/30\n",
      "154/154 [==============================] - 14s 91ms/step - loss: 0.0069 - val_loss: 0.0153\n",
      "Epoch 26/30\n",
      "154/154 [==============================] - 14s 89ms/step - loss: 0.0069 - val_loss: 0.0159\n",
      "Epoch 27/30\n",
      "154/154 [==============================] - 13s 85ms/step - loss: 0.0069 - val_loss: 0.0154\n",
      "Epoch 28/30\n",
      "154/154 [==============================] - 12s 78ms/step - loss: 0.0068 - val_loss: 0.0149\n",
      "Epoch 29/30\n",
      "154/154 [==============================] - 16s 101ms/step - loss: 0.0068 - val_loss: 0.0151\n",
      "Epoch 30/30\n",
      "154/154 [==============================] - 13s 83ms/step - loss: 0.0068 - val_loss: 0.0153\n"
     ]
    }
   ],
   "source": [
    "# ---------------------------------------------------------------------------- #\n",
    "#                           Entrenamiento del Modelo                           #\n",
    "# ---------------------------------------------------------------------------- #\n",
    "\n",
    "forecaster.fit(data_train)"
   ]
  },
  {
   "cell_type": "code",
   "execution_count": null,
   "metadata": {},
   "outputs": [],
   "source": [
    "# ---------------------------------------------------------------------------- #\n",
    "#                  Seguimiento del entrenamiento y overfitting                 #\n",
    "# ---------------------------------------------------------------------------- #\n",
    "\n",
    "forecaster.plot_history()"
   ]
  },
  {
   "cell_type": "code",
   "execution_count": null,
   "metadata": {},
   "outputs": [],
   "source": [
    "# ---------------------------------------------------------------------------- #\n",
    "#                           Realizamos la predicción                           #\n",
    "# ---------------------------------------------------------------------------- #\n",
    "\n",
    "predictions = forecaster.predict()\n",
    "predictions"
   ]
  },
  {
   "cell_type": "code",
   "execution_count": null,
   "metadata": {},
   "outputs": [],
   "source": [
    "# ------ También se puede predecir una serie y unos steps en particular ------ #\n",
    "forecaster.predict(steps=[1, 5], levels=\"co\")"
   ]
  },
  {
   "cell_type": "code",
   "execution_count": null,
   "metadata": {},
   "outputs": [],
   "source": [
    "# ---------------------------------------------------------------------------- #\n",
    "#                               Plot predictions                               #\n",
    "# ---------------------------------------------------------------------------- #\n",
    "\n",
    "fig, ax = plt.subplots(nrows=len(levels), figsize=(12, 3 * len(levels)))\n",
    "for i, ll in enumerate(levels):\n",
    "    ax[i].set_title(f\"Predictions for {ll}\")\n",
    "    data_val.loc[predictions.index, ll].plot(ax=ax[i], label=\"Real\")\n",
    "    predictions[ll].squeeze().plot(ax=ax[i], label=\"Predictions\")\n",
    "fig.legend([\"Real\", \"Predictions\"])\n",
    "plt.show()"
   ]
  },
  {
   "cell_type": "code",
   "execution_count": null,
   "metadata": {},
   "outputs": [],
   "source": [
    "# ---------------------------------------------------------------------------- #\n",
    "#                            Backtesting multiserie                            #\n",
    "# ---------------------------------------------------------------------------- #\n",
    "\n",
    "from skforecast.model_selection_multiseries import backtesting_forecaster_multiseries\n",
    "\n",
    "forecaster = ForecasterRnn(\n",
    "    regressor=model,\n",
    "    levels=levels,\n",
    "    transformer_series=MinMaxScaler(),\n",
    "    fit_kwargs={\n",
    "        \"epochs\": 5,\n",
    "        \"batch_size\": 128,\n",
    "        \"callbacks\": [EarlyStopping(monitor=\"val_loss\", patience=10)],\n",
    "        \"series_val\": data_val,\n",
    "    },\n",
    ")\n",
    "\n",
    "metrics, predictions = backtesting_forecaster_multiseries(\n",
    "    forecaster=forecaster,\n",
    "    steps=forecaster.steps,\n",
    "    series=data_train,\n",
    "    levels=forecaster.levels,\n",
    "    initial_train_size=int(len(data_train) * 0.95),\n",
    "    metric=\"mean_squared_error\",\n",
    "    verbose=True,\n",
    "    refit=False,\n",
    ")"
   ]
  },
  {
   "cell_type": "code",
   "execution_count": null,
   "metadata": {},
   "outputs": [],
   "source": [
    "# ---------------------------------------------------------------------------- #\n",
    "#                                 Print metrics                                #\n",
    "# ---------------------------------------------------------------------------- #\n",
    "\n",
    "metrics"
   ]
  },
  {
   "cell_type": "code",
   "execution_count": null,
   "metadata": {},
   "outputs": [],
   "source": [
    "# ---------------------------------------------------------------------------- #\n",
    "#                               Plot predictions                               #\n",
    "# ---------------------------------------------------------------------------- #\n",
    "\n",
    "fig, ax = plt.subplots(ncols=len(levels), figsize=(20, 6))\n",
    "for i, ll in enumerate(levels):\n",
    "    ax[i].set_title(f\"Predictions for {ll}\")\n",
    "    predictions[ll].plot(ax=ax[i])\n",
    "    data_train.loc[predictions.index, ll].plot(ax=ax[i])\n",
    "fig.legend([\"Real\", \"Predictions\"])\n",
    "plt.show()"
   ]
  },
  {
   "cell_type": "code",
   "execution_count": 26,
   "metadata": {},
   "outputs": [
    {
     "name": "stdout",
     "output_type": "stream",
     "text": [
      "-----\n",
      "keras               2.13.1\n",
      "matplotlib          3.7.3\n",
      "numpy               1.24.3\n",
      "pandas              2.0.3\n",
      "seaborn             0.12.2\n",
      "session_info        1.0.0\n",
      "skforecast          0.11.0\n",
      "sklearn             1.3.0\n",
      "tensorflow          2.13.0\n",
      "-----\n",
      "IPython             8.15.0\n",
      "jupyter_client      8.3.1\n",
      "jupyter_core        5.3.1\n",
      "-----\n",
      "Python 3.11.5 (main, Sep 11 2023, 08:19:27) [Clang 14.0.6 ]\n",
      "macOS-10.16-x86_64-i386-64bit\n",
      "-----\n",
      "Session information updated at 2023-11-09 15:11\n"
     ]
    }
   ],
   "source": [
    "import session_info\n",
    "\n",
    "session_info.show(html=False)"
   ]
  },
  {
   "cell_type": "markdown",
   "metadata": {},
   "source": [
    "## Bibliografía\n",
    "<br>\n",
    "\n",
    "- https://d2l.ai\n",
    "- https://www.codificandobits.com/blog/redes-neuronales-recurrentes-explicacion-detallada/\n",
    "\n"
   ]
  },
  {
   "cell_type": "code",
   "execution_count": 27,
   "metadata": {
    "code_folding": [],
    "hide_input": true,
    "remove_cell": true,
    "tags": [
     "\"hide_input\""
    ]
   },
   "outputs": [
    {
     "data": {
      "text/html": [
       "<style>\n",
       ".text_cell_render p {\n",
       "    text-align: justify;\n",
       "    font-family: 'Open Sans','Helvetica Neue',Helvetica,Arial,sans-serif;\n",
       "    line-height: 1.5;\n",
       "    font-weight: 400;\n",
       "    text-shadow: none;\n",
       "    color: #333333;\n",
       "    text-rendering: optimizeLegibility;\n",
       "    letter-spacing: +0.1px;\n",
       "    margin-bottom: 1.15rem;\n",
       "    font-size: 1.15em\n",
       "}\n",
       "\n",
       "div.admonition.note {\n",
       "    text-align: justify;\n",
       "    font-family: 'Open Sans','Helvetica Neue',Helvetica,Arial,sans-serif;\n",
       "    line-height: 1.5;\n",
       "    font-weight: 400;\n",
       "    text-shadow: none;\n",
       "    color: #333333;\n",
       "    text-rendering: optimizeLegibility;\n",
       "    letter-spacing: +0.1px;\n",
       "    margin-bottom: 1.15rem;\n",
       "    font-size: 15px;\n",
       "}\n",
       "\n",
       "\n",
       "#notebook-container {\n",
       "    background-color: #fcfcfc;\n",
       "}\n",
       "\n",
       "div.inner_cell {\n",
       "    margin-right: 5%;\n",
       "}\n",
       "\n",
       ".output_png {\n",
       "        display: table-cell;\n",
       "        text-align: center;\n",
       "        vertical-align: middle;\n",
       "}\n",
       "\n",
       ".rendered_html code {\n",
       "    background-color: #f2f2f2;\n",
       "    font-family: monospace;\n",
       "    color: #a20505;\n",
       "    font-size: 15px;\n",
       "    padding: 1px 1px;\n",
       "    border: solid;\n",
       "    border-color: darkgray;\n",
       "    border-width: thin;\n",
       "}\n",
       "\n",
       ".rendered_html h1 {\n",
       "    padding-top: 50px;\n",
       "}\n",
       "\n",
       ".rendered_html h2 {\n",
       "    font-size: 30px;\n",
       "    margin-top: 0;\n",
       "    font-size: 2.488em;\n",
       "}\n",
       "\n",
       ".rendered_html h3 {\n",
       "    font-size: 25px;\n",
       "}\n",
       "\n",
       ".rendered_html h4 {\n",
       "    font-size: 20px;\n",
       "}\n",
       "\n",
       "</style>\n"
      ],
      "text/plain": [
       "<IPython.core.display.HTML object>"
      ]
     },
     "metadata": {},
     "output_type": "display_data"
    }
   ],
   "source": [
    "%%html\n",
    "<style>\n",
    ".text_cell_render p {\n",
    "    text-align: justify;\n",
    "    font-family: 'Open Sans','Helvetica Neue',Helvetica,Arial,sans-serif;\n",
    "    line-height: 1.5;\n",
    "    font-weight: 400;\n",
    "    text-shadow: none;\n",
    "    color: #333333;\n",
    "    text-rendering: optimizeLegibility;\n",
    "    letter-spacing: +0.1px;\n",
    "    margin-bottom: 1.15rem;\n",
    "    font-size: 1.15em\n",
    "}\n",
    "\n",
    "div.admonition.note {\n",
    "    text-align: justify;\n",
    "    font-family: 'Open Sans','Helvetica Neue',Helvetica,Arial,sans-serif;\n",
    "    line-height: 1.5;\n",
    "    font-weight: 400;\n",
    "    text-shadow: none;\n",
    "    color: #333333;\n",
    "    text-rendering: optimizeLegibility;\n",
    "    letter-spacing: +0.1px;\n",
    "    margin-bottom: 1.15rem;\n",
    "    font-size: 15px;\n",
    "}\n",
    "\n",
    "\n",
    "#notebook-container {\n",
    "    background-color: #fcfcfc;\n",
    "}\n",
    "\n",
    "div.inner_cell {\n",
    "    margin-right: 5%;\n",
    "}\n",
    "\n",
    ".output_png {\n",
    "        display: table-cell;\n",
    "        text-align: center;\n",
    "        vertical-align: middle;\n",
    "}\n",
    "\n",
    ".rendered_html code {\n",
    "    background-color: #f2f2f2;\n",
    "    font-family: monospace;\n",
    "    color: #a20505;\n",
    "    font-size: 15px;\n",
    "    padding: 1px 1px;\n",
    "    border: solid;\n",
    "    border-color: darkgray;\n",
    "    border-width: thin;\n",
    "}\n",
    "\n",
    ".rendered_html h1 {\n",
    "    padding-top: 50px;\n",
    "}\n",
    "\n",
    ".rendered_html h2 {\n",
    "    font-size: 30px;\n",
    "    margin-top: 0;\n",
    "    font-size: 2.488em;\n",
    "}\n",
    "\n",
    ".rendered_html h3 {\n",
    "    font-size: 25px;\n",
    "}\n",
    "\n",
    ".rendered_html h4 {\n",
    "    font-size: 20px;\n",
    "}\n",
    "\n",
    "</style>"
   ]
  },
  {
   "cell_type": "markdown",
   "metadata": {},
   "source": [
    "**¿Cómo citar este documento?**\n",
    "\n",
    "<p style=\"text-align:left\"><font size=\"3\" color=\"#555\">\n",
    "TITULO DEL DOCUMENTO by AUTOR, available under a Attribution 4.0 International (CC BY 4.0) at https://www.cienciadedatos.net/documentos/pystats05-correlacion-lineal-python.html\n",
    "\n",
    "    \n",
    "</font></p>"
   ]
  },
  {
   "cell_type": "markdown",
   "metadata": {},
   "source": [
    "<a rel=\"license\" href=\"http://creativecommons.org/licenses/by/4.0/\"><img alt=\"Creative Commons Licence\" style=\"border-width:0\" src=\"https://i.creativecommons.org/l/by/4.0/88x31.png\" /></a><br />This work by AUTOR is licensed under a <a rel=\"license\" href=\"http://creativecommons.org/licenses/by/4.0/\">Creative Commons Attribution 4.0 International License</a>."
   ]
  }
 ],
 "metadata": {
  "kernelspec": {
   "display_name": "cienciadedatos_p10",
   "language": "python",
   "name": "python3"
  },
  "language_info": {
   "codemirror_mode": {
    "name": "ipython",
    "version": 3
   },
   "file_extension": ".py",
   "mimetype": "text/x-python",
   "name": "python",
   "nbconvert_exporter": "python",
   "pygments_lexer": "ipython3",
   "version": "3.11.5"
  },
  "toc": {
   "base_numbering": 1,
   "nav_menu": {},
   "number_sections": false,
   "sideBar": true,
   "skip_h1_title": true,
   "title_cell": "Tabla de contenidos",
   "title_sidebar": "Tabla de contenidos",
   "toc_cell": false,
   "toc_position": {
    "height": "calc(100% - 180px)",
    "left": "10px",
    "top": "150px",
    "width": "204px"
   },
   "toc_section_display": true,
   "toc_window_display": true
  },
  "varInspector": {
   "cols": {
    "lenName": 16,
    "lenType": 16,
    "lenVar": 40
   },
   "kernels_config": {
    "python": {
     "delete_cmd_postfix": "",
     "delete_cmd_prefix": "del ",
     "library": "var_list.py",
     "varRefreshCmd": "print(var_dic_list())"
    },
    "r": {
     "delete_cmd_postfix": ") ",
     "delete_cmd_prefix": "rm(",
     "library": "var_list.r",
     "varRefreshCmd": "cat(var_dic_list()) "
    }
   },
   "position": {
    "height": "144px",
    "left": "995px",
    "right": "20px",
    "top": "120px",
    "width": "350px"
   },
   "types_to_exclude": [
    "module",
    "function",
    "builtin_function_or_method",
    "instance",
    "_Feature"
   ],
   "window_display": false
  }
 },
 "nbformat": 4,
 "nbformat_minor": 4
}
