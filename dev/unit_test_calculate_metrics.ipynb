{
 "cells": [
  {
   "cell_type": "code",
   "execution_count": 55,
   "metadata": {},
   "outputs": [
    {
     "name": "stdout",
     "output_type": "stream",
     "text": [
      "The autoreload extension is already loaded. To reload it, use:\n",
      "  %reload_ext autoreload\n"
     ]
    },
    {
     "data": {
      "text/plain": [
       "'/home/ubuntu/varios/skforecast'"
      ]
     },
     "execution_count": 55,
     "metadata": {},
     "output_type": "execute_result"
    }
   ],
   "source": [
    "%load_ext autoreload\n",
    "%autoreload 2\n",
    "import sys\n",
    "from pathlib import Path\n",
    "sys.path.insert(1, str(Path.cwd().parent))\n",
    "str(Path.cwd().parent)"
   ]
  },
  {
   "cell_type": "code",
   "execution_count": 56,
   "metadata": {},
   "outputs": [],
   "source": [
    "import pandas as pd\n",
    "import numpy as np\n",
    "from skforecast.datasets import fetch_dataset\n",
    "from skforecast.ForecasterAutoregMultiSeries import ForecasterAutoregMultiSeries\n",
    "from skforecast.model_selection_multiseries import backtesting_forecaster_multiseries\n",
    "from skforecast.model_selection_multiseries import grid_search_forecaster_multiseries\n",
    "from skforecast.model_selection_multiseries import bayesian_search_forecaster_multiseries\n",
    "from sklearn.linear_model import Ridge\n",
    "from sklearn.metrics import mean_absolute_error\n",
    "from skforecast.metrics import mean_absolute_scaled_error"
   ]
  },
  {
   "cell_type": "code",
   "execution_count": 57,
   "metadata": {},
   "outputs": [],
   "source": [
    "import pandas as pd\n",
    "import numpy as np\n",
    "from skforecast.datasets import fetch_dataset\n",
    "from skforecast.model_selection_multiseries.model_selection_multiseries import _calculate_metrics_multiseries\n",
    "from skforecast.metrics import add_y_train_argument\n",
    "from sklearn.metrics import mean_absolute_error\n",
    "from skforecast.metrics import mean_absolute_scaled_error"
   ]
  },
  {
   "cell_type": "code",
   "execution_count": 91,
   "metadata": {},
   "outputs": [],
   "source": [
    "data = pd.DataFrame(\n",
    "    data={\n",
    "        \"item_1\": [\n",
    "            8.253175, 22.777826, 27.549099, 25.895533, 21.379238, 21.106643,\n",
    "            20.533871, 20.069327, 20.006161, 21.620184, 21.717691, 21.751748,\n",
    "            21.758617, 20.784194, 18.976196, 20.228468, 26.636444, 29.245869,\n",
    "            24.772249, 24.018768, 22.503533, 20.794986, 23.981037, 28.018830,\n",
    "            28.747482, 23.908368, 21.423930, 24.786455, 24.615778, 27.388275,\n",
    "            25.724191, 22.825491, 23.066582, 23.788066, 23.360304, 23.119966,\n",
    "            21.763739, 23.008517, 22.861086, 22.807790, 23.424717, 22.208947,\n",
    "            19.558775, 20.788390, 23.619240, 25.061150, 27.646380, 25.609772,\n",
    "            22.504042, 20.838095\n",
    "        ],\n",
    "        \"item_2\": [\n",
    "            21.047727, 26.578125, 31.751042, 24.567708, 18.191667, 17.812500,\n",
    "            19.510417, 24.098958, 20.223958, 19.161458, 16.042708, 14.815625,\n",
    "            17.031250, 17.009375, 17.096875, 19.255208, 28.060417, 28.779167,\n",
    "            19.265625, 19.178125, 19.688542, 21.690625, 25.332292, 26.675000,\n",
    "            26.611458, 19.759375, 20.038542, 24.680208, 25.032292, 28.111458,\n",
    "            21.542708, 16.605208, 18.593750, 20.667708, 21.977083, 29.040625,\n",
    "            18.979167, 18.459375, 17.295833, 17.282292, 20.844792, 19.858333,\n",
    "            18.446875, 19.239583, 19.903125, 22.970833, 28.195833, 20.221875,\n",
    "            19.176042, 21.991667\n",
    "        ],\n",
    "        \"item_3\": [\n",
    "            19.429739, 28.009863, 32.078922, 27.252276, 20.357737, 19.879148,\n",
    "            18.043499, 26.287368, 16.315997, 21.772584, 18.729748, 12.552534,\n",
    "            18.996209, 18.534327, 15.418361, 16.304852, 30.076258, 28.886334,\n",
    "            20.286651, 21.367727, 20.248170, 19.799975, 25.931558, 27.698196,\n",
    "            30.725005, 19.573577, 23.310162, 24.959233, 24.399246, 29.094136,\n",
    "            22.639513, 18.372362, 21.256450, 22.430527, 19.575067, 31.767626,\n",
    "            20.086271, 21.380186, 17.553807, 17.369879, 21.829746, 16.208510,\n",
    "            25.067215, 21.863615, 17.887458, 23.005424, 25.013939, 22.142083,\n",
    "            23.673005, 25.238480\n",
    "        ],\n",
    "    },\n",
    "    index=pd.date_range(start=\"2012-01-01\", end=\"2012-02-19\"),\n",
    ")\n",
    "\n",
    "\n",
    "predictions_different_lenght = pd.DataFrame(\n",
    "    data={\n",
    "        \"item_1\": [\n",
    "            25.849411, 24.507137, 23.885447, 23.597504, 23.464140, 23.402371,\n",
    "            23.373762, 23.360511, 23.354374, 23.351532, 23.354278, 23.351487,\n",
    "            23.350195, 23.349596, 23.349319, 23.349190, 23.349131, 23.349103,\n",
    "            23.349090, 23.349084, 23.474207, 23.407034, 23.375922, 23.361512,\n",
    "            23.354837\n",
    "        ],\n",
    "        \"item_2\": [\n",
    "            24.561460, 23.611980, 23.172218, 22.968536, 22.874199, 22.830506,\n",
    "            22.810269, 22.800896, 22.796555, 22.794544, 22.414996, 22.617821,\n",
    "            22.711761, 22.755271, 22.775423, 22.784756, 22.789079, 22.791082,\n",
    "            22.792009, 22.792439, 21.454419, 22.172918, 22.505700, 22.659831,\n",
    "            22.731219\n",
    "        ],\n",
    "        \"item_3\": [\n",
    "            26.168069, 24.057472, 23.079925, 22.627163, 22.417461, 22.320335,\n",
    "            22.275350, 22.254515, 22.244865, 22.240395, 21.003848, 21.665604,\n",
    "            np.nan, np.nan, np.nan, np.nan, np.nan, np.nan, np.nan, np.nan,\n",
    "            np.nan, np.nan, np.nan, np.nan, np.nan\n",
    "        ],\n",
    "    },\n",
    "    index=pd.date_range(start=\"2012-01-26\", periods=25)\n",
    ")\n",
    "\n",
    "\n",
    "span_index = span_index = pd.date_range(start=\"2012-01-01\", end=\"2012-02-19\", freq=\"D\")\n",
    "\n",
    "folds = [\n",
    "    [[0, 25], [24, 25], [25, 35], [25, 35], False],\n",
    "    [[0, 25], [34, 35], [35, 45], [35, 45], False],\n",
    "    [[0, 25], [44, 45], [45, 50], [45, 50], False],\n",
    "]\n",
    "\n",
    "levels = [\"item_1\", \"item_2\", \"item_3\"]"
   ]
  },
  {
   "cell_type": "code",
   "execution_count": 92,
   "metadata": {},
   "outputs": [
    {
     "data": {
      "text/html": [
       "<div>\n",
       "<style scoped>\n",
       "    .dataframe tbody tr th:only-of-type {\n",
       "        vertical-align: middle;\n",
       "    }\n",
       "\n",
       "    .dataframe tbody tr th {\n",
       "        vertical-align: top;\n",
       "    }\n",
       "\n",
       "    .dataframe thead th {\n",
       "        text-align: right;\n",
       "    }\n",
       "</style>\n",
       "<table border=\"1\" class=\"dataframe\">\n",
       "  <thead>\n",
       "    <tr style=\"text-align: right;\">\n",
       "      <th></th>\n",
       "      <th>levels</th>\n",
       "      <th>mean_absolute_error</th>\n",
       "      <th>mean_absolute_scaled_error</th>\n",
       "    </tr>\n",
       "  </thead>\n",
       "  <tbody>\n",
       "    <tr>\n",
       "      <th>0</th>\n",
       "      <td>item_1</td>\n",
       "      <td>1.477567</td>\n",
       "      <td>0.610914</td>\n",
       "    </tr>\n",
       "    <tr>\n",
       "      <th>1</th>\n",
       "      <td>item_2</td>\n",
       "      <td>3.480129</td>\n",
       "      <td>1.170113</td>\n",
       "    </tr>\n",
       "    <tr>\n",
       "      <th>2</th>\n",
       "      <td>item_3</td>\n",
       "      <td>3.173683</td>\n",
       "      <td>0.707757</td>\n",
       "    </tr>\n",
       "    <tr>\n",
       "      <th>3</th>\n",
       "      <td>average</td>\n",
       "      <td>2.710460</td>\n",
       "      <td>0.829595</td>\n",
       "    </tr>\n",
       "    <tr>\n",
       "      <th>4</th>\n",
       "      <td>weighted_average</td>\n",
       "      <td>2.613332</td>\n",
       "      <td>0.855141</td>\n",
       "    </tr>\n",
       "    <tr>\n",
       "      <th>5</th>\n",
       "      <td>pooling</td>\n",
       "      <td>2.613332</td>\n",
       "      <td>0.793768</td>\n",
       "    </tr>\n",
       "  </tbody>\n",
       "</table>\n",
       "</div>"
      ],
      "text/plain": [
       "             levels  mean_absolute_error  mean_absolute_scaled_error\n",
       "0            item_1             1.477567                    0.610914\n",
       "1            item_2             3.480129                    1.170113\n",
       "2            item_3             3.173683                    0.707757\n",
       "3           average             2.710460                    0.829595\n",
       "4  weighted_average             2.613332                    0.855141\n",
       "5           pooling             2.613332                    0.793768"
      ]
     },
     "metadata": {},
     "output_type": "display_data"
    }
   ],
   "source": [
    "def test_calculate_metrics_multiseries_output_when_aggregated_metric_and_predictions_have_different_length(\n",
    "    metrics=[mean_absolute_error, mean_absolute_scaled_error]\n",
    "):\n",
    "\n",
    "    metrics = [add_y_train_argument(metric) for metric in metrics]\n",
    "    results = _calculate_metrics_multiseries(\n",
    "        series=data,\n",
    "        predictions=predictions_different_lenght,\n",
    "        folds=folds,\n",
    "        span_index=span_index,\n",
    "        metrics=metrics,\n",
    "        levels=levels,\n",
    "        add_aggregated_metric=True,\n",
    "    )\n",
    "\n",
    "    expected = pd.DataFrame(\n",
    "        data={\n",
    "            \"levels\": [\n",
    "                \"item_1\",\n",
    "                \"item_2\",\n",
    "                \"item_3\",\n",
    "                \"average\",\n",
    "                \"weighted_average\",\n",
    "                \"pooling\",\n",
    "            ],\n",
    "            \"mean_absolute_error\": [\n",
    "                1.477567,\n",
    "                3.480129,\n",
    "                3.173683,\n",
    "                2.710460,\n",
    "                2.613332,\n",
    "                2.613332,\n",
    "            ],\n",
    "            \"mean_absolute_scaled_error\": [\n",
    "                0.610914,\n",
    "                1.170113,\n",
    "                0.707757,\n",
    "                0.829595,\n",
    "                0.855141,\n",
    "                0.793768,\n",
    "            ],\n",
    "        }\n",
    "    )\n",
    "    display(results)\n",
    "    pd.testing.assert_frame_equal(results, expected)\n",
    "\n",
    "\n",
    "test_calculate_metrics_multiseries_output_when_aggregated_metric_and_predictions_have_different_length()"
   ]
  },
  {
   "cell_type": "code",
   "execution_count": 87,
   "metadata": {},
   "outputs": [
    {
     "data": {
      "text/plain": [
       "2.613332338709678"
      ]
     },
     "execution_count": 87,
     "metadata": {},
     "output_type": "execute_result"
    }
   ],
   "source": [
    "(data.iloc[25:] - predictions).abs().stack().mean()"
   ]
  },
  {
   "cell_type": "code",
   "execution_count": 83,
   "metadata": {},
   "outputs": [
    {
     "data": {
      "text/plain": [
       "2.613332193548387"
      ]
     },
     "execution_count": 83,
     "metadata": {},
     "output_type": "execute_result"
    }
   ],
   "source": [
    "np.average([1.477567, 3.480129, 3.173683], weights=[25, 25, 12])"
   ]
  },
  {
   "cell_type": "code",
   "execution_count": 82,
   "metadata": {},
   "outputs": [
    {
     "data": {
      "text/plain": [
       "item_1    25\n",
       "item_2    25\n",
       "item_3    12\n",
       "dtype: int64"
      ]
     },
     "execution_count": 82,
     "metadata": {},
     "output_type": "execute_result"
    }
   ],
   "source": [
    "predictions.notna().sum()"
   ]
  }
 ],
 "metadata": {
  "kernelspec": {
   "display_name": "skforecast_py10",
   "language": "python",
   "name": "python3"
  },
  "language_info": {
   "codemirror_mode": {
    "name": "ipython",
    "version": 3
   },
   "file_extension": ".py",
   "mimetype": "text/x-python",
   "name": "python",
   "nbconvert_exporter": "python",
   "pygments_lexer": "ipython3",
   "version": "3.11.9"
  },
  "orig_nbformat": 4,
  "vscode": {
   "interpreter": {
    "hash": "c78d62c1713fdacd99ef7c429003c7324b36fbb551fb8b6860a7ea73e9338235"
   }
  }
 },
 "nbformat": 4,
 "nbformat_minor": 2
}
