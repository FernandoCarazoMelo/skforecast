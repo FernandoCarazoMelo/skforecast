{
 "cells": [
  {
   "cell_type": "code",
   "execution_count": 7,
   "metadata": {},
   "outputs": [
    {
     "name": "stdout",
     "output_type": "stream",
     "text": [
      "Numpy version: 1.23.5\n",
      "Statsmodels version: 0.13.5\n",
      "Scipy version: 1.8.1\n",
      "cython version: 0.29.33\n",
      "pdmarima version: 2.0.2\n"
     ]
    }
   ],
   "source": [
    "# Libraries\n",
    "# ==============================================================================\n",
    "import pandas as pd\n",
    "import numpy as np\n",
    "import statsmodels\n",
    "import scipy\n",
    "import cython\n",
    "import pmdarima\n",
    "from statsmodels.tsa.statespace.sarimax import SARIMAX\n",
    "from pmdarima.arima import ARIMA\n",
    "np.set_printoptions(precision=10)\n",
    "pd.set_option(\"display.precision\", 10)\n",
    "\n",
    "print(f\"Numpy version: {np.__version__}\")\n",
    "print(f\"Statsmodels version: {statsmodels.__version__}\")\n",
    "print(f\"Scipy version: {scipy.__version__}\")\n",
    "print(f\"cython version: {cython.__version__}\")\n",
    "print(f\"pdmarima version: {pmdarima.__version__}\")"
   ]
  },
  {
   "cell_type": "code",
   "execution_count": 8,
   "metadata": {},
   "outputs": [
    {
     "name": "stdout",
     "output_type": "stream",
     "text": [
      "Train dates : 1991-07-01 00:00:00 --- 2005-06-01 00:00:00  (n=168)\n",
      "Test dates  : 2005-07-01 00:00:00 --- 2008-06-01 00:00:00  (n=36)\n"
     ]
    }
   ],
   "source": [
    "# Download data\n",
    "# ==============================================================================\n",
    "url = ('https://raw.githubusercontent.com/JoaquinAmatRodrigo/skforecast/master/data/h2o.csv')\n",
    "data = pd.read_csv(url, sep=',', header=0, names=['y', 'datetime'])\n",
    "\n",
    "# Data preprocessing\n",
    "# ==============================================================================\n",
    "data['datetime'] = pd.to_datetime(data['datetime'], format='%Y/%m/%d')\n",
    "data = data.set_index('datetime')\n",
    "data = data.asfreq('MS')\n",
    "data = data['y']\n",
    "data = data.sort_index()\n",
    "\n",
    "# Train-test dates\n",
    "# ==============================================================================\n",
    "end_train = '2005-06-01 23:59:00'\n",
    "\n",
    "print(f\"Train dates : {data.index.min()} --- {data.loc[:end_train].index.max()}  (n={len(data.loc[:end_train])})\")\n",
    "print(f\"Test dates  : {data.loc[end_train:].index.min()} --- {data.index.max()}  (n={len(data.loc[end_train:])})\")\n"
   ]
  },
  {
   "attachments": {},
   "cell_type": "markdown",
   "metadata": {},
   "source": [
    "## SARIMAX(endog = data, trend=None, order=(1, 0, 0))"
   ]
  },
  {
   "cell_type": "code",
   "execution_count": 9,
   "metadata": {},
   "outputs": [
    {
     "name": "stdout",
     "output_type": "stream",
     "text": [
      "[0.9825710245 0.0240931825]\n",
      "[0.979504292]\n",
      "[]\n",
      "datetime\n",
      "1991-07-01    0.0000000000\n",
      "1991-08-01    0.4209860472\n",
      "1991-09-01    0.3926891477\n",
      "1991-10-01    0.4233015953\n",
      "1991-11-01    0.4824479825\n",
      "                  ...     \n",
      "2008-02-01    1.1949374455\n",
      "2008-03-01    0.7462079187\n",
      "2008-04-01    0.6361243699\n",
      "2008-05-01    0.8109188698\n",
      "2008-06-01    0.7995252759\n",
      "Freq: MS, Length: 204, dtype: float64\n"
     ]
    },
    {
     "name": "stderr",
     "output_type": "stream",
     "text": [
      "/home/ubuntu/anaconda3/envs/skforecast_py10/lib/python3.10/site-packages/statsmodels/base/model.py:604: ConvergenceWarning: Maximum Likelihood optimization failed to converge. Check mle_retvals\n",
      "  warnings.warn(\"Maximum Likelihood optimization failed to \"\n"
     ]
    }
   ],
   "source": [
    "# SARIMAX(endog = data, trend=None, order=(1, 0, 0))\n",
    "# ======================================================================================\n",
    "model = SARIMAX(endog = data, trend=None, order=(1, 0, 0))\n",
    "model_fit = model.fit(\n",
    "    disp = False,\n",
    "    maxiter = 1000,\n",
    "    start_params = [0.98257102, 0.02409318],\n",
    "    method = 'nm', ftol = 1e-19,\n",
    "    #method = 'lbfgs', pgtol = 1e-19\n",
    ")\n",
    "print(model.start_params)\n",
    "print(model_fit.arparams)\n",
    "print(model_fit.maparams)\n",
    "print(model_fit.fittedvalues)"
   ]
  },
  {
   "attachments": {},
   "cell_type": "markdown",
   "metadata": {},
   "source": [
    "## SARIMAX(endog = data, trend=None, order=(1, 1, 0))"
   ]
  },
  {
   "cell_type": "code",
   "execution_count": 10,
   "metadata": {},
   "outputs": [
    {
     "name": "stdout",
     "output_type": "stream",
     "text": [
      "[-0.102745578  0.024146424]\n",
      "[-0.1022599468]\n",
      "[]\n",
      "datetime\n",
      "1991-07-01    0.0000000000\n",
      "1991-08-01    0.4297949989\n",
      "1991-09-01    0.4038601876\n",
      "1991-10-01    0.4289630699\n",
      "1991-11-01    0.4863681354\n",
      "                  ...     \n",
      "2008-02-01    1.2155078268\n",
      "2008-03-01    0.8086692246\n",
      "2008-04-01    0.6609276886\n",
      "2008-05-01    0.8096385080\n",
      "2008-06-01    0.8174444877\n",
      "Freq: MS, Length: 204, dtype: float64\n"
     ]
    }
   ],
   "source": [
    "# SARIMAX(endog = data, trend=None, order=(1, 1, 0))\n",
    "# ======================================================================================\n",
    "model = SARIMAX(endog = data, trend=None, order=(1, 1, 0))\n",
    "model_fit = model.fit(\n",
    "    disp=False,\n",
    "    maxiter=1000,\n",
    "    start_params=[-0.102745578, 0.024146424],\n",
    "    method = 'nm', ftol = 1e-19,\n",
    "    #method = 'lbfgs', pgtol = 1e-19\n",
    ")\n",
    "print(model.start_params)\n",
    "print(model_fit.arparams)\n",
    "print(model_fit.maparams)\n",
    "print(model_fit.fittedvalues)"
   ]
  },
  {
   "attachments": {},
   "cell_type": "markdown",
   "metadata": {},
   "source": [
    "## SARIMAX(endog = data, trend=None, order=(1, 1, 1))"
   ]
  },
  {
   "cell_type": "code",
   "execution_count": 11,
   "metadata": {},
   "outputs": [
    {
     "name": "stdout",
     "output_type": "stream",
     "text": [
      "[ 0.4875082624 -0.5989362163  0.0243603503]\n",
      "[0.6177132372]\n",
      "[-0.9557200142]\n",
      "datetime\n",
      "1991-07-01    0.0000000000\n",
      "1991-08-01    0.4297949980\n",
      "1991-09-01    0.4063654072\n",
      "1991-10-01    0.4298862871\n",
      "1991-11-01    0.4760827058\n",
      "                  ...     \n",
      "2008-02-01    1.1274931215\n",
      "2008-03-01    0.8283149805\n",
      "2008-04-01    0.7509712113\n",
      "2008-05-01    0.8646092162\n",
      "2008-06-01    0.8552828441\n",
      "Freq: MS, Length: 204, dtype: float64\n"
     ]
    }
   ],
   "source": [
    "# SARIMAX(endog = data, trend=None, order=(1, 1, 1))\n",
    "# ======================================================================================\n",
    "model = SARIMAX(endog = data, trend=None, order=(1, 1, 1))\n",
    "model_fit = model.fit(\n",
    "    disp=False,\n",
    "    maxiter=1000,\n",
    "    start_params=[0.4875082624, -0.5989362163,0.0243603503],\n",
    "    method = 'nm', ftol = 1e-19,\n",
    "    #method = 'lbfgs', pgtol = 1e-19\n",
    "    )\n",
    "print(model.start_params)\n",
    "print(model_fit.arparams)\n",
    "print(model_fit.maparams)\n",
    "print(model_fit.fittedvalues)"
   ]
  },
  {
   "attachments": {},
   "cell_type": "markdown",
   "metadata": {},
   "source": [
    "## SARIMAX(endog = data, trend='t', order=(1, 1, 1))"
   ]
  },
  {
   "cell_type": "code",
   "execution_count": 12,
   "metadata": {},
   "outputs": [
    {
     "name": "stdout",
     "output_type": "stream",
     "text": [
      "[-5.0512540678e-07  4.8750952742e-01 -5.9893656779e-01  2.4360346789e-02]\n",
      "[0.6230455177]\n",
      "[-0.9767430564]\n",
      "datetime\n",
      "1991-07-01    0.0000173640\n",
      "1991-08-01    0.4298123621\n",
      "1991-09-01    0.4063608818\n",
      "1991-10-01    0.4299647832\n",
      "1991-11-01    0.4762422798\n",
      "                  ...     \n",
      "2008-02-01    1.1525708038\n",
      "2008-03-01    0.8593619961\n",
      "2008-04-01    0.7857724962\n",
      "2008-05-01    0.8992579770\n",
      "2008-06-01    0.8914088057\n",
      "Freq: MS, Length: 204, dtype: float64\n"
     ]
    },
    {
     "name": "stderr",
     "output_type": "stream",
     "text": [
      "/home/ubuntu/anaconda3/envs/skforecast_py10/lib/python3.10/site-packages/statsmodels/base/model.py:604: ConvergenceWarning: Maximum Likelihood optimization failed to converge. Check mle_retvals\n",
      "  warnings.warn(\"Maximum Likelihood optimization failed to \"\n"
     ]
    }
   ],
   "source": [
    "# SARIMAX(endog = data, trend=None, order=(1, 1, 1))\n",
    "# ======================================================================================\n",
    "model = SARIMAX(endog = data, trend='t', order=(1, 1, 1))\n",
    "model_fit = model.fit(\n",
    "    disp=False,\n",
    "    maxiter=1000,\n",
    "    start_params=[ 0.0017420639,  0.4889999095, -0.6005869814,  0.0243575915],\n",
    "    method = 'nm', ftol = 1e-19,\n",
    "    #method = 'lbfgs', pgtol = 1e-19\n",
    "    )\n",
    "print(model.start_params)\n",
    "print(model_fit.arparams)\n",
    "print(model_fit.maparams)\n",
    "print(model_fit.fittedvalues)"
   ]
  },
  {
   "attachments": {},
   "cell_type": "markdown",
   "metadata": {},
   "source": [
    "## SARIMAX(endog = data, trend='c', order=(5, 1, 1))"
   ]
  },
  {
   "cell_type": "code",
   "execution_count": 13,
   "metadata": {},
   "outputs": [
    {
     "name": "stdout",
     "output_type": "stream",
     "text": [
      "[ 0.0021900556 -0.064092174  -0.0753559759 -0.0571171281 -0.1501473047\n",
      " -0.1703502764 -0.0757780361  0.0234484813]\n",
      "[ 0.5212214715 -0.0115796151 -0.0182522661 -0.133766377  -0.2364905463]\n",
      "[-0.9767836515]\n",
      "datetime\n",
      "1991-07-01    0.0024623379\n",
      "1991-08-01    0.4322573368\n",
      "1991-09-01    0.4065795367\n",
      "1991-10-01    0.4334624015\n",
      "1991-11-01    0.4876379688\n",
      "                  ...     \n",
      "2008-02-01    1.0752513473\n",
      "2008-03-01    0.8236887871\n",
      "2008-04-01    0.7533300582\n",
      "2008-05-01    0.8510151391\n",
      "2008-06-01    0.8973227134\n",
      "Freq: MS, Length: 204, dtype: float64\n"
     ]
    },
    {
     "name": "stderr",
     "output_type": "stream",
     "text": [
      "/home/ubuntu/anaconda3/envs/skforecast_py10/lib/python3.10/site-packages/statsmodels/base/model.py:604: ConvergenceWarning: Maximum Likelihood optimization failed to converge. Check mle_retvals\n",
      "  warnings.warn(\"Maximum Likelihood optimization failed to \"\n"
     ]
    }
   ],
   "source": [
    "model = SARIMAX(endog = data, trend='c', order=(5, 1, 1))\n",
    "model_fit = model.fit(\n",
    "    disp=False,\n",
    "    maxiter=1000,\n",
    "    start_params=[0.0021900556, -0.064092174, -0.0753559759, -0.0571171281, -0.1501473047, -0.1703502764, -0.0757780361, 0.0234484813],\n",
    "    method = 'nm', ftol = 1e-19,\n",
    "    #method = 'lbfgs', pgtol = 1e-19\n",
    ")\n",
    "print(model.start_params)\n",
    "print(model_fit.arparams)\n",
    "print(model_fit.maparams)\n",
    "print(model_fit.fittedvalues)"
   ]
  },
  {
   "attachments": {},
   "cell_type": "markdown",
   "metadata": {},
   "source": [
    "## pmd.arima"
   ]
  },
  {
   "cell_type": "code",
   "execution_count": 15,
   "metadata": {},
   "outputs": [
    {
     "name": "stdout",
     "output_type": "stream",
     "text": [
      "[0.0021900556, -0.064092174, -0.0753559759, -0.0571171281, -0.1501473047, -0.1703502764, -0.0757780361, 0.0234484813]\n",
      "<bound method ARIMA.arparams of ARIMA(maxiter=1000, method='nm', order=(5, 1, 1),\n",
      "      start_params=[0.0021900556, -0.064092174, -0.0753559759, -0.0571171281,\n",
      "                    -0.1501473047, -0.1703502764, -0.0757780361, 0.0234484813],\n",
      "      trend='c')>\n",
      "<bound method ARIMA.maparams of ARIMA(maxiter=1000, method='nm', order=(5, 1, 1),\n",
      "      start_params=[0.0021900556, -0.064092174, -0.0753559759, -0.0571171281,\n",
      "                    -0.1501473047, -0.1703502764, -0.0757780361, 0.0234484813],\n",
      "      trend='c')>\n",
      "<bound method ARIMA.fittedvalues of ARIMA(maxiter=1000, method='nm', order=(5, 1, 1),\n",
      "      start_params=[0.0021900556, -0.064092174, -0.0753559759, -0.0571171281,\n",
      "                    -0.1501473047, -0.1703502764, -0.0757780361, 0.0234484813],\n",
      "      trend='c')>\n"
     ]
    },
    {
     "name": "stderr",
     "output_type": "stream",
     "text": [
      "/home/ubuntu/anaconda3/envs/skforecast_py10/lib/python3.10/site-packages/statsmodels/base/model.py:604: ConvergenceWarning: Maximum Likelihood optimization failed to converge. Check mle_retvals\n",
      "  warnings.warn(\"Maximum Likelihood optimization failed to \"\n"
     ]
    }
   ],
   "source": [
    "model = ARIMA(\n",
    "    order = (5, 1, 1),\n",
    "    trend = 'c',\n",
    "    maxiter = 1000,\n",
    "    start_params=[0.0021900556, -0.064092174, -0.0753559759, -0.0571171281, -0.1501473047, -0.1703502764, -0.0757780361, 0.0234484813],\n",
    "    method = 'nm',\n",
    "    ftol = 1e-19,\n",
    ")\n",
    "\n",
    "model.fit(data)\n",
    "print(model.start_params)\n",
    "print(model.arparams)\n",
    "print(model.maparams)\n",
    "print(model.fittedvalues)"
   ]
  },
  {
   "attachments": {},
   "cell_type": "markdown",
   "metadata": {},
   "source": [
    "# JAVI"
   ]
  },
  {
   "cell_type": "code",
   "execution_count": 1,
   "metadata": {},
   "outputs": [
    {
     "name": "stdout",
     "output_type": "stream",
     "text": [
      "Numpy version: 1.23.5\n",
      "Statsmodels version: 0.13.5\n",
      "Scipy version: 1.8.1\n",
      "cython version: 0.29.32\n",
      "pdmarima version: 2.0.1\n"
     ]
    }
   ],
   "source": [
    "# Libraries\n",
    "# ==============================================================================\n",
    "import pandas as pd\n",
    "import numpy as np\n",
    "import statsmodels\n",
    "import scipy\n",
    "import cython\n",
    "import pmdarima\n",
    "from statsmodels.tsa.statespace.sarimax import SARIMAX\n",
    "from pmdarima.arima import ARIMA\n",
    "np.set_printoptions(precision=10)\n",
    "pd.set_option(\"display.precision\", 10)\n",
    "\n",
    "print(f\"Numpy version: {np.__version__}\")\n",
    "print(f\"Statsmodels version: {statsmodels.__version__}\")\n",
    "print(f\"Scipy version: {scipy.__version__}\")\n",
    "print(f\"cython version: {cython.__version__}\")\n",
    "print(f\"pdmarima version: {pmdarima.__version__}\")"
   ]
  },
  {
   "cell_type": "code",
   "execution_count": 2,
   "metadata": {},
   "outputs": [
    {
     "name": "stdout",
     "output_type": "stream",
     "text": [
      "Train dates : 1991-07-01 00:00:00 --- 2005-06-01 00:00:00  (n=168)\n",
      "Test dates  : 2005-07-01 00:00:00 --- 2008-06-01 00:00:00  (n=36)\n"
     ]
    }
   ],
   "source": [
    "# Download data\n",
    "# ==============================================================================\n",
    "url = ('https://raw.githubusercontent.com/JoaquinAmatRodrigo/skforecast/master/data/h2o.csv')\n",
    "data = pd.read_csv(url, sep=',', header=0, names=['y', 'datetime'])\n",
    "\n",
    "# Data preprocessing\n",
    "# ==============================================================================\n",
    "data['datetime'] = pd.to_datetime(data['datetime'], format='%Y/%m/%d')\n",
    "data = data.set_index('datetime')\n",
    "data = data.asfreq('MS')\n",
    "data = data['y']\n",
    "data = data.sort_index()\n",
    "\n",
    "# Train-test dates\n",
    "# ==============================================================================\n",
    "end_train = '2005-06-01 23:59:00'\n",
    "\n",
    "print(f\"Train dates : {data.index.min()} --- {data.loc[:end_train].index.max()}  (n={len(data.loc[:end_train])})\")\n",
    "print(f\"Test dates  : {data.loc[end_train:].index.min()} --- {data.index.max()}  (n={len(data.loc[end_train:])})\")\n"
   ]
  },
  {
   "cell_type": "markdown",
   "metadata": {},
   "source": [
    "## SARIMAX(endog = data, trend=None, order=(1, 0, 0))"
   ]
  },
  {
   "cell_type": "code",
   "execution_count": null,
   "metadata": {},
   "outputs": [],
   "source": [
    "[0.9825710245 0.0240931825]\n",
    "[0.979504292]\n",
    "[]\n",
    "datetime\n",
    "1991-07-01    0.0000000000\n",
    "1991-08-01    0.4209860472\n",
    "1991-09-01    0.3926891477\n",
    "1991-10-01    0.4233015953\n",
    "1991-11-01    0.4824479825\n",
    "                  ...     \n",
    "2008-02-01    1.1949374455\n",
    "2008-03-01    0.7462079187\n",
    "2008-04-01    0.6361243699\n",
    "2008-05-01    0.8109188698\n",
    "2008-06-01    0.7995252759\n",
    "Freq: MS, Length: 204, dtype: float64"
   ]
  },
  {
   "cell_type": "code",
   "execution_count": 3,
   "metadata": {},
   "outputs": [
    {
     "name": "stdout",
     "output_type": "stream",
     "text": [
      "[0.9825710245 0.0240931825]\n",
      "[0.979504292]\n",
      "[]\n",
      "datetime\n",
      "1991-07-01    0.0000000000\n",
      "1991-08-01    0.4209860472\n",
      "1991-09-01    0.3926891477\n",
      "1991-10-01    0.4233015953\n",
      "1991-11-01    0.4824479825\n",
      "                  ...     \n",
      "2008-02-01    1.1949374455\n",
      "2008-03-01    0.7462079187\n",
      "2008-04-01    0.6361243699\n",
      "2008-05-01    0.8109188698\n",
      "2008-06-01    0.7995252759\n",
      "Freq: MS, Length: 204, dtype: float64\n"
     ]
    },
    {
     "name": "stderr",
     "output_type": "stream",
     "text": [
      "c:\\Users\\jaesc2\\Miniconda3\\envs\\skforecast\\lib\\site-packages\\statsmodels\\base\\model.py:604: ConvergenceWarning: Maximum Likelihood optimization failed to converge. Check mle_retvals\n",
      "  warnings.warn(\"Maximum Likelihood optimization failed to \"\n"
     ]
    }
   ],
   "source": [
    "# SARIMAX(endog = data, trend=None, order=(1, 0, 0))\n",
    "# ======================================================================================\n",
    "model = SARIMAX(endog = data, trend=None, order=(1, 0, 0))\n",
    "model_fit = model.fit(\n",
    "    disp = False,\n",
    "    maxiter = 1000,\n",
    "    start_params = [0.98257102, 0.02409318],\n",
    "    method = 'nm', ftol = 1e-19,\n",
    "    #method = 'lbfgs', pgtol = 1e-19\n",
    ")\n",
    "print(model.start_params)\n",
    "print(model_fit.arparams)\n",
    "print(model_fit.maparams)\n",
    "print(model_fit.fittedvalues)"
   ]
  },
  {
   "cell_type": "markdown",
   "metadata": {},
   "source": [
    "## SARIMAX(endog = data, trend=None, order=(1, 1, 0))"
   ]
  },
  {
   "cell_type": "code",
   "execution_count": null,
   "metadata": {},
   "outputs": [],
   "source": [
    "[-0.102745578  0.024146424]\n",
    "[-0.1022599468]\n",
    "[]\n",
    "datetime\n",
    "1991-07-01    0.0000000000\n",
    "1991-08-01    0.4297949989\n",
    "1991-09-01    0.4038601876\n",
    "1991-10-01    0.4289630699\n",
    "1991-11-01    0.4863681354\n",
    "                  ...     \n",
    "2008-02-01    1.2155078268\n",
    "2008-03-01    0.8086692246\n",
    "2008-04-01    0.6609276886\n",
    "2008-05-01    0.8096385080\n",
    "2008-06-01    0.8174444877"
   ]
  },
  {
   "cell_type": "code",
   "execution_count": 4,
   "metadata": {},
   "outputs": [
    {
     "name": "stdout",
     "output_type": "stream",
     "text": [
      "[-0.102745578  0.024146424]\n",
      "[-0.1022599468]\n",
      "[]\n",
      "datetime\n",
      "1991-07-01    0.0000000000\n",
      "1991-08-01    0.4297949989\n",
      "1991-09-01    0.4038601876\n",
      "1991-10-01    0.4289630699\n",
      "1991-11-01    0.4863681354\n",
      "                  ...     \n",
      "2008-02-01    1.2155078268\n",
      "2008-03-01    0.8086692246\n",
      "2008-04-01    0.6609276886\n",
      "2008-05-01    0.8096385080\n",
      "2008-06-01    0.8174444877\n",
      "Freq: MS, Length: 204, dtype: float64\n"
     ]
    }
   ],
   "source": [
    "# SARIMAX(endog = data, trend=None, order=(1, 1, 0))\n",
    "# ======================================================================================\n",
    "model = SARIMAX(endog = data, trend=None, order=(1, 1, 0))\n",
    "model_fit = model.fit(\n",
    "    disp=False,\n",
    "    maxiter=1000,\n",
    "    start_params=[-0.102745578, 0.024146424],\n",
    "    method = 'nm', ftol = 1e-19,\n",
    "    #method = 'lbfgs', pgtol = 1e-19\n",
    ")\n",
    "print(model.start_params)\n",
    "print(model_fit.arparams)\n",
    "print(model_fit.maparams)\n",
    "print(model_fit.fittedvalues)"
   ]
  },
  {
   "cell_type": "markdown",
   "metadata": {},
   "source": [
    "## SARIMAX(endog = data, trend=None, order=(1, 1, 1))"
   ]
  },
  {
   "cell_type": "code",
   "execution_count": null,
   "metadata": {},
   "outputs": [],
   "source": [
    "[ 0.4875082624 -0.5989362163  0.0243603503]\n",
    "[0.6177132372]\n",
    "[-0.9557200142]\n",
    "datetime\n",
    "1991-07-01    0.0000000000\n",
    "1991-08-01    0.4297949980\n",
    "1991-09-01    0.4063654072\n",
    "1991-10-01    0.4298862871\n",
    "1991-11-01    0.4760827058\n",
    "                  ...     \n",
    "2008-02-01    1.1274931215\n",
    "2008-03-01    0.8283149805\n",
    "2008-04-01    0.7509712113\n",
    "2008-05-01    0.8646092162\n",
    "2008-06-01    0.8552828441\n",
    "Freq: MS, Length: 204, dtype: float64"
   ]
  },
  {
   "cell_type": "code",
   "execution_count": 5,
   "metadata": {},
   "outputs": [
    {
     "name": "stdout",
     "output_type": "stream",
     "text": [
      "[ 0.4875082624 -0.5989362163  0.0243603503]\n",
      "[0.6177132372]\n",
      "[-0.9557200142]\n",
      "datetime\n",
      "1991-07-01    0.0000000000\n",
      "1991-08-01    0.4297949980\n",
      "1991-09-01    0.4063654072\n",
      "1991-10-01    0.4298862871\n",
      "1991-11-01    0.4760827058\n",
      "                  ...     \n",
      "2008-02-01    1.1274931215\n",
      "2008-03-01    0.8283149805\n",
      "2008-04-01    0.7509712113\n",
      "2008-05-01    0.8646092162\n",
      "2008-06-01    0.8552828441\n",
      "Freq: MS, Length: 204, dtype: float64\n"
     ]
    }
   ],
   "source": [
    "# SARIMAX(endog = data, trend=None, order=(1, 1, 1))\n",
    "# ======================================================================================\n",
    "model = SARIMAX(endog = data, trend=None, order=(1, 1, 1))\n",
    "model_fit = model.fit(\n",
    "    disp=False,\n",
    "    maxiter=1000,\n",
    "    start_params=[0.4875082624, -0.5989362163,0.0243603503],\n",
    "    method = 'nm', ftol = 1e-19,\n",
    "    #method = 'lbfgs', pgtol = 1e-19\n",
    "    )\n",
    "print(model.start_params)\n",
    "print(model_fit.arparams)\n",
    "print(model_fit.maparams)\n",
    "print(model_fit.fittedvalues)"
   ]
  },
  {
   "cell_type": "markdown",
   "metadata": {},
   "source": [
    "## SARIMAX(endog = data, trend='t', order=(1, 1, 1))"
   ]
  },
  {
   "cell_type": "code",
   "execution_count": null,
   "metadata": {},
   "outputs": [],
   "source": [
    "[-5.0512540678e-07  4.8750952742e-01 -5.9893656779e-01  2.4360346789e-02]\n",
    "[0.6230455177]\n",
    "[-0.9767430564]\n",
    "datetime\n",
    "1991-07-01    0.0000173640\n",
    "1991-08-01    0.4298123621\n",
    "1991-09-01    0.4063608818\n",
    "1991-10-01    0.4299647832\n",
    "1991-11-01    0.4762422798\n",
    "                  ...     \n",
    "2008-02-01    1.1525708038\n",
    "2008-03-01    0.8593619961\n",
    "2008-04-01    0.7857724962\n",
    "2008-05-01    0.8992579770\n",
    "2008-06-01    0.8914088057\n",
    "Freq: MS, Length: 204, dtype: float64"
   ]
  },
  {
   "cell_type": "code",
   "execution_count": 6,
   "metadata": {},
   "outputs": [
    {
     "name": "stdout",
     "output_type": "stream",
     "text": [
      "[-5.0512540678e-07  4.8750952742e-01 -5.9893656779e-01  2.4360346789e-02]\n",
      "[0.6230455356]\n",
      "[-0.9767430577]\n",
      "datetime\n",
      "1991-07-01    0.0000173640\n",
      "1991-08-01    0.4298123621\n",
      "1991-09-01    0.4063608815\n",
      "1991-10-01    0.4299647834\n",
      "1991-11-01    0.4762422807\n",
      "                  ...     \n",
      "2008-02-01    1.1525708083\n",
      "2008-03-01    0.8593619929\n",
      "2008-04-01    0.7857724912\n",
      "2008-05-01    0.8992579753\n",
      "2008-06-01    0.8914088039\n",
      "Freq: MS, Length: 204, dtype: float64\n"
     ]
    }
   ],
   "source": [
    "# SARIMAX(endog = data, trend=None, order=(1, 1, 1))\n",
    "# ======================================================================================\n",
    "model = SARIMAX(endog = data, trend='t', order=(1, 1, 1))\n",
    "model_fit = model.fit(\n",
    "    disp=False,\n",
    "    maxiter=1000,\n",
    "    start_params=[ 0.0017420639,  0.4889999095, -0.6005869814,  0.0243575915],\n",
    "    method = 'nm', ftol = 1e-19,\n",
    "    #method = 'lbfgs', pgtol = 1e-19\n",
    "    )\n",
    "print(model.start_params)\n",
    "print(model_fit.arparams)\n",
    "print(model_fit.maparams)\n",
    "print(model_fit.fittedvalues)"
   ]
  },
  {
   "cell_type": "markdown",
   "metadata": {},
   "source": [
    "## SARIMAX(endog = data, trend='c', order=(5, 1, 1))"
   ]
  },
  {
   "cell_type": "code",
   "execution_count": null,
   "metadata": {},
   "outputs": [],
   "source": [
    "[ 0.0021900556 -0.064092174  -0.0753559759 -0.0571171281 -0.1501473047\n",
    " -0.1703502764 -0.0757780361  0.0234484813]\n",
    "[ 0.5212214715 -0.0115796151 -0.0182522661 -0.133766377  -0.2364905463]\n",
    "[-0.9767836515]\n",
    "datetime\n",
    "1991-07-01    0.0024623379\n",
    "1991-08-01    0.4322573368\n",
    "1991-09-01    0.4065795367\n",
    "1991-10-01    0.4334624015\n",
    "1991-11-01    0.4876379688\n",
    "                  ...     \n",
    "2008-02-01    1.0752513473\n",
    "2008-03-01    0.8236887871\n",
    "2008-04-01    0.7533300582\n",
    "2008-05-01    0.8510151391\n",
    "2008-06-01    0.8973227134\n",
    "Freq: MS, Length: 204, dtype: float64"
   ]
  },
  {
   "cell_type": "code",
   "execution_count": 7,
   "metadata": {},
   "outputs": [
    {
     "name": "stdout",
     "output_type": "stream",
     "text": [
      "[ 0.0021900556 -0.064092174  -0.0753559759 -0.0571171281 -0.1501473047\n",
      " -0.1703502764 -0.0757780361  0.0234484813]\n",
      "[ 0.5212214715 -0.0115796151 -0.0182522661 -0.133766377  -0.2364905463]\n",
      "[-0.9767836515]\n",
      "datetime\n",
      "1991-07-01    0.0024623379\n",
      "1991-08-01    0.4322573368\n",
      "1991-09-01    0.4065795367\n",
      "1991-10-01    0.4334624015\n",
      "1991-11-01    0.4876379688\n",
      "                  ...     \n",
      "2008-02-01    1.0752513473\n",
      "2008-03-01    0.8236887871\n",
      "2008-04-01    0.7533300582\n",
      "2008-05-01    0.8510151391\n",
      "2008-06-01    0.8973227134\n",
      "Freq: MS, Length: 204, dtype: float64\n"
     ]
    },
    {
     "name": "stderr",
     "output_type": "stream",
     "text": [
      "c:\\Users\\jaesc2\\Miniconda3\\envs\\skforecast\\lib\\site-packages\\statsmodels\\base\\model.py:604: ConvergenceWarning: Maximum Likelihood optimization failed to converge. Check mle_retvals\n",
      "  warnings.warn(\"Maximum Likelihood optimization failed to \"\n"
     ]
    }
   ],
   "source": [
    "model = SARIMAX(endog = data, trend='c', order=(5, 1, 1))\n",
    "model_fit = model.fit(\n",
    "    disp=False,\n",
    "    maxiter=1000,\n",
    "    start_params=[0.0021900556, -0.064092174, -0.0753559759, -0.0571171281, -0.1501473047, -0.1703502764, -0.0757780361, 0.0234484813],\n",
    "    method = 'nm', ftol = 1e-19,\n",
    "    #method = 'lbfgs', pgtol = 1e-19\n",
    ")\n",
    "print(model.start_params)\n",
    "print(model_fit.arparams)\n",
    "print(model_fit.maparams)\n",
    "print(model_fit.fittedvalues)"
   ]
  },
  {
   "cell_type": "markdown",
   "metadata": {},
   "source": [
    "## pmd.arima"
   ]
  },
  {
   "cell_type": "code",
   "execution_count": null,
   "metadata": {},
   "outputs": [],
   "source": [
    "[0.0021900556, -0.064092174, -0.0753559759, -0.0571171281, -0.1501473047, -0.1703502764, -0.0757780361, 0.0234484813]\n",
    "<bound method ARIMA.arparams of ARIMA(maxiter=1000, method='nm', order=(5, 1, 1),\n",
    "      start_params=[0.0021900556, -0.064092174, -0.0753559759, -0.0571171281,\n",
    "                    -0.1501473047, -0.1703502764, -0.0757780361, 0.0234484813],\n",
    "      trend='c')>\n",
    "<bound method ARIMA.maparams of ARIMA(maxiter=1000, method='nm', order=(5, 1, 1),\n",
    "      start_params=[0.0021900556, -0.064092174, -0.0753559759, -0.0571171281,\n",
    "                    -0.1501473047, -0.1703502764, -0.0757780361, 0.0234484813],\n",
    "      trend='c')>\n",
    "<bound method ARIMA.fittedvalues of ARIMA(maxiter=1000, method='nm', order=(5, 1, 1),\n",
    "      start_params=[0.0021900556, -0.064092174, -0.0753559759, -0.0571171281,\n",
    "                    -0.1501473047, -0.1703502764, -0.0757780361, 0.0234484813],\n",
    "      trend='c')>"
   ]
  },
  {
   "cell_type": "code",
   "execution_count": 8,
   "metadata": {},
   "outputs": [
    {
     "name": "stdout",
     "output_type": "stream",
     "text": [
      "[0.0021900556, -0.064092174, -0.0753559759, -0.0571171281, -0.1501473047, -0.1703502764, -0.0757780361, 0.0234484813]\n",
      "<bound method ARIMA.arparams of ARIMA(maxiter=1000, method='nm', order=(5, 1, 1),\n",
      "      start_params=[0.0021900556, -0.064092174, -0.0753559759, -0.0571171281,\n",
      "                    -0.1501473047, -0.1703502764, -0.0757780361, 0.0234484813],\n",
      "      trend='c')>\n",
      "<bound method ARIMA.maparams of ARIMA(maxiter=1000, method='nm', order=(5, 1, 1),\n",
      "      start_params=[0.0021900556, -0.064092174, -0.0753559759, -0.0571171281,\n",
      "                    -0.1501473047, -0.1703502764, -0.0757780361, 0.0234484813],\n",
      "      trend='c')>\n",
      "<bound method ARIMA.fittedvalues of ARIMA(maxiter=1000, method='nm', order=(5, 1, 1),\n",
      "      start_params=[0.0021900556, -0.064092174, -0.0753559759, -0.0571171281,\n",
      "                    -0.1501473047, -0.1703502764, -0.0757780361, 0.0234484813],\n",
      "      trend='c')>\n"
     ]
    },
    {
     "name": "stderr",
     "output_type": "stream",
     "text": [
      "c:\\Users\\jaesc2\\Miniconda3\\envs\\skforecast\\lib\\site-packages\\statsmodels\\base\\model.py:604: ConvergenceWarning: Maximum Likelihood optimization failed to converge. Check mle_retvals\n",
      "  warnings.warn(\"Maximum Likelihood optimization failed to \"\n"
     ]
    }
   ],
   "source": [
    "model = ARIMA(\n",
    "    order = (5, 1, 1),\n",
    "    trend = 'c',\n",
    "    maxiter = 1000,\n",
    "    start_params=[0.0021900556, -0.064092174, -0.0753559759, -0.0571171281, -0.1501473047, -0.1703502764, -0.0757780361, 0.0234484813],\n",
    "    method = 'nm',\n",
    "    ftol = 1e-19,\n",
    ")\n",
    "\n",
    "model.fit(data)\n",
    "print(model.start_params)\n",
    "print(model.arparams)\n",
    "print(model.maparams)\n",
    "print(model.fittedvalues)"
   ]
  },
  {
   "cell_type": "code",
   "execution_count": null,
   "metadata": {},
   "outputs": [],
   "source": []
  },
  {
   "cell_type": "code",
   "execution_count": null,
   "metadata": {},
   "outputs": [],
   "source": []
  },
  {
   "cell_type": "code",
   "execution_count": null,
   "metadata": {},
   "outputs": [],
   "source": []
  },
  {
   "cell_type": "code",
   "execution_count": null,
   "metadata": {},
   "outputs": [],
   "source": []
  },
  {
   "cell_type": "code",
   "execution_count": null,
   "metadata": {},
   "outputs": [],
   "source": []
  }
 ],
 "metadata": {
  "kernelspec": {
   "display_name": "skforecast",
   "language": "python",
   "name": "skforecast"
  },
  "language_info": {
   "codemirror_mode": {
    "name": "ipython",
    "version": 3
   },
   "file_extension": ".py",
   "mimetype": "text/x-python",
   "name": "python",
   "nbconvert_exporter": "python",
   "pygments_lexer": "ipython3",
   "version": "3.9.13"
  },
  "orig_nbformat": 4,
  "vscode": {
   "interpreter": {
    "hash": "f2f78aa07a2c9de4fc4e3d692008110cbee95f9e29d94fd62aa071e5108d1402"
   }
  }
 },
 "nbformat": 4,
 "nbformat_minor": 2
}
