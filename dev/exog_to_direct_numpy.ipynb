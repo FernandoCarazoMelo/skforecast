{
 "cells": [
  {
   "cell_type": "code",
   "execution_count": 1,
   "metadata": {},
   "outputs": [
    {
     "data": {
      "text/plain": [
       "'c:\\\\Users\\\\jaesc2\\\\GitHub\\\\skforecast'"
      ]
     },
     "execution_count": 1,
     "metadata": {},
     "output_type": "execute_result"
    }
   ],
   "source": [
    "%load_ext autoreload\n",
    "%autoreload 2\n",
    "import sys\n",
    "from pathlib import Path\n",
    "sys.path.insert(1, str(Path.cwd().parent))\n",
    "str(Path.cwd().parent)"
   ]
  },
  {
   "cell_type": "code",
   "execution_count": 2,
   "metadata": {},
   "outputs": [],
   "source": [
    "import numpy as np\n",
    "import pandas as pd\n",
    "from typing import Union"
   ]
  },
  {
   "cell_type": "code",
   "execution_count": 3,
   "metadata": {},
   "outputs": [],
   "source": [
    "exog = pd.DataFrame({'exog_1': np.arange(100, 110, dtype=float),\n",
    "                     'exog_2': np.arange(1000, 1010, dtype=float)})"
   ]
  },
  {
   "cell_type": "code",
   "execution_count": 4,
   "metadata": {},
   "outputs": [],
   "source": [
    "def exog_to_direct(\n",
    "    exog: Union[pd.Series, pd.DataFrame],\n",
    "    steps: int\n",
    ")-> pd.DataFrame:\n",
    "    \"\"\"    \n",
    "    \"\"\"\n",
    "\n",
    "    if not isinstance(exog, (pd.Series, pd.DataFrame)):\n",
    "        raise TypeError(f\"`exog` must be a pandas Series or DataFrame. Got {type(exog)}.\")\n",
    "\n",
    "    if isinstance(exog, pd.Series):\n",
    "        exog = exog.to_frame()\n",
    "\n",
    "    n_rows = len(exog)\n",
    "    exog_idx = exog.index\n",
    "    exog_transformed = []\n",
    "\n",
    "    for i in range(steps):\n",
    "        exog_column_transformed = exog.iloc[i : n_rows - (steps - 1 - i), ]\n",
    "        exog_column_transformed.index = pd.RangeIndex(len(exog_column_transformed))\n",
    "        exog_column_transformed.columns = [f\"{col}_step_{i+1}\" for col in exog_column_transformed.columns]\n",
    "        exog_transformed.append(exog_column_transformed)\n",
    "\n",
    "    if len(exog_transformed) > 1:\n",
    "        exog_transformed = pd.concat(exog_transformed, axis=1, copy=False)\n",
    "    else:\n",
    "        exog_transformed = exog_column_transformed\n",
    "\n",
    "    exog_transformed.index = exog_idx[-len(exog_transformed):]\n",
    "    \n",
    "    return exog_transformed"
   ]
  },
  {
   "cell_type": "code",
   "execution_count": 5,
   "metadata": {},
   "outputs": [
    {
     "data": {
      "text/html": [
       "<div>\n",
       "<style scoped>\n",
       "    .dataframe tbody tr th:only-of-type {\n",
       "        vertical-align: middle;\n",
       "    }\n",
       "\n",
       "    .dataframe tbody tr th {\n",
       "        vertical-align: top;\n",
       "    }\n",
       "\n",
       "    .dataframe thead th {\n",
       "        text-align: right;\n",
       "    }\n",
       "</style>\n",
       "<table border=\"1\" class=\"dataframe\">\n",
       "  <thead>\n",
       "    <tr style=\"text-align: right;\">\n",
       "      <th></th>\n",
       "      <th>exog_1_step_1</th>\n",
       "      <th>exog_2_step_1</th>\n",
       "      <th>exog_1_step_2</th>\n",
       "      <th>exog_2_step_2</th>\n",
       "    </tr>\n",
       "  </thead>\n",
       "  <tbody>\n",
       "    <tr>\n",
       "      <th>1</th>\n",
       "      <td>100.0</td>\n",
       "      <td>1000.0</td>\n",
       "      <td>101.0</td>\n",
       "      <td>1001.0</td>\n",
       "    </tr>\n",
       "    <tr>\n",
       "      <th>2</th>\n",
       "      <td>101.0</td>\n",
       "      <td>1001.0</td>\n",
       "      <td>102.0</td>\n",
       "      <td>1002.0</td>\n",
       "    </tr>\n",
       "    <tr>\n",
       "      <th>3</th>\n",
       "      <td>102.0</td>\n",
       "      <td>1002.0</td>\n",
       "      <td>103.0</td>\n",
       "      <td>1003.0</td>\n",
       "    </tr>\n",
       "    <tr>\n",
       "      <th>4</th>\n",
       "      <td>103.0</td>\n",
       "      <td>1003.0</td>\n",
       "      <td>104.0</td>\n",
       "      <td>1004.0</td>\n",
       "    </tr>\n",
       "    <tr>\n",
       "      <th>5</th>\n",
       "      <td>104.0</td>\n",
       "      <td>1004.0</td>\n",
       "      <td>105.0</td>\n",
       "      <td>1005.0</td>\n",
       "    </tr>\n",
       "    <tr>\n",
       "      <th>6</th>\n",
       "      <td>105.0</td>\n",
       "      <td>1005.0</td>\n",
       "      <td>106.0</td>\n",
       "      <td>1006.0</td>\n",
       "    </tr>\n",
       "    <tr>\n",
       "      <th>7</th>\n",
       "      <td>106.0</td>\n",
       "      <td>1006.0</td>\n",
       "      <td>107.0</td>\n",
       "      <td>1007.0</td>\n",
       "    </tr>\n",
       "    <tr>\n",
       "      <th>8</th>\n",
       "      <td>107.0</td>\n",
       "      <td>1007.0</td>\n",
       "      <td>108.0</td>\n",
       "      <td>1008.0</td>\n",
       "    </tr>\n",
       "    <tr>\n",
       "      <th>9</th>\n",
       "      <td>108.0</td>\n",
       "      <td>1008.0</td>\n",
       "      <td>109.0</td>\n",
       "      <td>1009.0</td>\n",
       "    </tr>\n",
       "  </tbody>\n",
       "</table>\n",
       "</div>"
      ],
      "text/plain": [
       "   exog_1_step_1  exog_2_step_1  exog_1_step_2  exog_2_step_2\n",
       "1          100.0         1000.0          101.0         1001.0\n",
       "2          101.0         1001.0          102.0         1002.0\n",
       "3          102.0         1002.0          103.0         1003.0\n",
       "4          103.0         1003.0          104.0         1004.0\n",
       "5          104.0         1004.0          105.0         1005.0\n",
       "6          105.0         1005.0          106.0         1006.0\n",
       "7          106.0         1006.0          107.0         1007.0\n",
       "8          107.0         1007.0          108.0         1008.0\n",
       "9          108.0         1008.0          109.0         1009.0"
      ]
     },
     "execution_count": 5,
     "metadata": {},
     "output_type": "execute_result"
    }
   ],
   "source": [
    "exog_to_direct(exog, 2)"
   ]
  },
  {
   "cell_type": "code",
   "execution_count": 6,
   "metadata": {},
   "outputs": [
    {
     "data": {
      "text/plain": [
       "array([[ 100., 1000.],\n",
       "       [ 101., 1001.],\n",
       "       [ 102., 1002.],\n",
       "       [ 103., 1003.],\n",
       "       [ 104., 1004.],\n",
       "       [ 105., 1005.],\n",
       "       [ 106., 1006.],\n",
       "       [ 107., 1007.],\n",
       "       [ 108., 1008.],\n",
       "       [ 109., 1009.]])"
      ]
     },
     "execution_count": 6,
     "metadata": {},
     "output_type": "execute_result"
    }
   ],
   "source": [
    "exog.to_numpy()"
   ]
  },
  {
   "cell_type": "code",
   "execution_count": 7,
   "metadata": {},
   "outputs": [
    {
     "data": {
      "text/plain": [
       "array([[ 100., 1000.],\n",
       "       [ 101., 1001.]])"
      ]
     },
     "execution_count": 7,
     "metadata": {},
     "output_type": "execute_result"
    }
   ],
   "source": [
    "exog.to_numpy()[:2]"
   ]
  },
  {
   "cell_type": "code",
   "execution_count": 8,
   "metadata": {},
   "outputs": [],
   "source": [
    "def exog_to_direct_numpy(\n",
    "    exog: Union[pd.Series, pd.DataFrame],\n",
    "    steps: int\n",
    ")-> pd.DataFrame:\n",
    "    \"\"\"    \n",
    "    \"\"\"\n",
    "\n",
    "    if not isinstance(exog, np.ndarray):\n",
    "        raise TypeError(f\"`exog` must be a numpy ndarray. Got {type(exog)}.\")\n",
    "\n",
    "    if exog.ndim == 1:\n",
    "        exog = np.expand_dims(exog, axis=1)\n",
    "\n",
    "    n_rows = len(exog)\n",
    "    exog_transformed = []\n",
    "\n",
    "    for i in range(steps):\n",
    "        exog_column_transformed = exog[i : n_rows - (steps - 1 - i)]\n",
    "        exog_transformed.append(exog_column_transformed)\n",
    "\n",
    "    if len(exog_transformed) > 1:\n",
    "        exog_transformed = np.concatenate(exog_transformed, axis=1)\n",
    "    else:\n",
    "        exog_transformed = exog_column_transformed\n",
    "    \n",
    "    return exog_transformed"
   ]
  },
  {
   "cell_type": "code",
   "execution_count": 9,
   "metadata": {},
   "outputs": [
    {
     "data": {
      "text/plain": [
       "array([[ 100., 1000.,  101., 1001.],\n",
       "       [ 101., 1001.,  102., 1002.],\n",
       "       [ 102., 1002.,  103., 1003.],\n",
       "       [ 103., 1003.,  104., 1004.],\n",
       "       [ 104., 1004.,  105., 1005.],\n",
       "       [ 105., 1005.,  106., 1006.],\n",
       "       [ 106., 1006.,  107., 1007.],\n",
       "       [ 107., 1007.,  108., 1008.],\n",
       "       [ 108., 1008.,  109., 1009.]])"
      ]
     },
     "execution_count": 9,
     "metadata": {},
     "output_type": "execute_result"
    }
   ],
   "source": [
    "exog_to_direct_numpy(exog.to_numpy(), 2)"
   ]
  },
  {
   "cell_type": "code",
   "execution_count": 10,
   "metadata": {},
   "outputs": [
    {
     "data": {
      "text/plain": [
       "array([[ 100., 1000.],\n",
       "       [ 101., 1001.],\n",
       "       [ 102., 1002.],\n",
       "       [ 103., 1003.],\n",
       "       [ 104., 1004.],\n",
       "       [ 105., 1005.],\n",
       "       [ 106., 1006.],\n",
       "       [ 107., 1007.],\n",
       "       [ 108., 1008.],\n",
       "       [ 109., 1009.]])"
      ]
     },
     "execution_count": 10,
     "metadata": {},
     "output_type": "execute_result"
    }
   ],
   "source": [
    "exog_to_direct_numpy(exog.to_numpy(), 1)"
   ]
  },
  {
   "cell_type": "code",
   "execution_count": 11,
   "metadata": {},
   "outputs": [
    {
     "data": {
      "text/html": [
       "<div>\n",
       "<style scoped>\n",
       "    .dataframe tbody tr th:only-of-type {\n",
       "        vertical-align: middle;\n",
       "    }\n",
       "\n",
       "    .dataframe tbody tr th {\n",
       "        vertical-align: top;\n",
       "    }\n",
       "\n",
       "    .dataframe thead th {\n",
       "        text-align: right;\n",
       "    }\n",
       "</style>\n",
       "<table border=\"1\" class=\"dataframe\">\n",
       "  <thead>\n",
       "    <tr style=\"text-align: right;\">\n",
       "      <th></th>\n",
       "      <th>2</th>\n",
       "      <th>6</th>\n",
       "      <th>12</th>\n",
       "      <th>24</th>\n",
       "      <th>36</th>\n",
       "    </tr>\n",
       "  </thead>\n",
       "  <tbody>\n",
       "    <tr>\n",
       "      <th>2</th>\n",
       "      <td>0.000544</td>\n",
       "      <td>0.000747</td>\n",
       "      <td>0.001503</td>\n",
       "      <td>0.002295</td>\n",
       "      <td>0.003407</td>\n",
       "    </tr>\n",
       "    <tr>\n",
       "      <th>5</th>\n",
       "      <td>0.000430</td>\n",
       "      <td>0.000718</td>\n",
       "      <td>0.002308</td>\n",
       "      <td>0.002500</td>\n",
       "      <td>0.003694</td>\n",
       "    </tr>\n",
       "    <tr>\n",
       "      <th>10</th>\n",
       "      <td>0.000384</td>\n",
       "      <td>0.000902</td>\n",
       "      <td>0.002028</td>\n",
       "      <td>0.002863</td>\n",
       "      <td>0.004630</td>\n",
       "    </tr>\n",
       "    <tr>\n",
       "      <th>20</th>\n",
       "      <td>0.000467</td>\n",
       "      <td>0.000885</td>\n",
       "      <td>0.001836</td>\n",
       "      <td>0.003482</td>\n",
       "      <td>0.004993</td>\n",
       "    </tr>\n",
       "    <tr>\n",
       "      <th>25</th>\n",
       "      <td>0.000404</td>\n",
       "      <td>0.000943</td>\n",
       "      <td>0.001969</td>\n",
       "      <td>0.003627</td>\n",
       "      <td>0.005249</td>\n",
       "    </tr>\n",
       "  </tbody>\n",
       "</table>\n",
       "</div>"
      ],
      "text/plain": [
       "          2         6         12        24        36\n",
       "2   0.000544  0.000747  0.001503  0.002295  0.003407\n",
       "5   0.000430  0.000718  0.002308  0.002500  0.003694\n",
       "10  0.000384  0.000902  0.002028  0.002863  0.004630\n",
       "20  0.000467  0.000885  0.001836  0.003482  0.004993\n",
       "25  0.000404  0.000943  0.001969  0.003627  0.005249"
      ]
     },
     "execution_count": 11,
     "metadata": {},
     "output_type": "execute_result"
    }
   ],
   "source": [
    "# Profiling `exog_to_direct` for different length of columns\n",
    "# ======================================================================================\n",
    "import time \n",
    "\n",
    "n_columns = [2, 5, 10, 20, 25]\n",
    "n_steps = [2, 6, 12, 24, 36]\n",
    "results = {}\n",
    "\n",
    "for steps in n_steps:\n",
    "    execution_time = []\n",
    "\n",
    "    for n in n_columns:\n",
    "        df = pd.DataFrame(np.arange(100000).reshape(int(100000/n), n)).head(1000)\n",
    "        tic = time.perf_counter()\n",
    "        _ = exog_to_direct(exog=df, steps=steps)\n",
    "        toc = time.perf_counter()\n",
    "        execution_time.append(toc-tic)\n",
    "\n",
    "    results[steps] = execution_time\n",
    "\n",
    "results = pd.DataFrame(\n",
    "              data =  results,\n",
    "              index = n_columns\n",
    "          )\n",
    "\n",
    "results"
   ]
  },
  {
   "cell_type": "code",
   "execution_count": 12,
   "metadata": {},
   "outputs": [
    {
     "data": {
      "text/html": [
       "<div>\n",
       "<style scoped>\n",
       "    .dataframe tbody tr th:only-of-type {\n",
       "        vertical-align: middle;\n",
       "    }\n",
       "\n",
       "    .dataframe tbody tr th {\n",
       "        vertical-align: top;\n",
       "    }\n",
       "\n",
       "    .dataframe thead th {\n",
       "        text-align: right;\n",
       "    }\n",
       "</style>\n",
       "<table border=\"1\" class=\"dataframe\">\n",
       "  <thead>\n",
       "    <tr style=\"text-align: right;\">\n",
       "      <th></th>\n",
       "      <th>2</th>\n",
       "      <th>6</th>\n",
       "      <th>12</th>\n",
       "      <th>24</th>\n",
       "      <th>36</th>\n",
       "    </tr>\n",
       "  </thead>\n",
       "  <tbody>\n",
       "    <tr>\n",
       "      <th>2</th>\n",
       "      <td>0.000162</td>\n",
       "      <td>0.000017</td>\n",
       "      <td>0.000029</td>\n",
       "      <td>0.000054</td>\n",
       "      <td>0.000076</td>\n",
       "    </tr>\n",
       "    <tr>\n",
       "      <th>5</th>\n",
       "      <td>0.000008</td>\n",
       "      <td>0.000010</td>\n",
       "      <td>0.000027</td>\n",
       "      <td>0.000030</td>\n",
       "      <td>0.000039</td>\n",
       "    </tr>\n",
       "    <tr>\n",
       "      <th>10</th>\n",
       "      <td>0.000005</td>\n",
       "      <td>0.000008</td>\n",
       "      <td>0.000012</td>\n",
       "      <td>0.000021</td>\n",
       "      <td>0.000029</td>\n",
       "    </tr>\n",
       "    <tr>\n",
       "      <th>20</th>\n",
       "      <td>0.000004</td>\n",
       "      <td>0.000007</td>\n",
       "      <td>0.000010</td>\n",
       "      <td>0.000017</td>\n",
       "      <td>0.000022</td>\n",
       "    </tr>\n",
       "    <tr>\n",
       "      <th>25</th>\n",
       "      <td>0.000004</td>\n",
       "      <td>0.000006</td>\n",
       "      <td>0.000010</td>\n",
       "      <td>0.000020</td>\n",
       "      <td>0.000021</td>\n",
       "    </tr>\n",
       "  </tbody>\n",
       "</table>\n",
       "</div>"
      ],
      "text/plain": [
       "          2         6         12        24        36\n",
       "2   0.000162  0.000017  0.000029  0.000054  0.000076\n",
       "5   0.000008  0.000010  0.000027  0.000030  0.000039\n",
       "10  0.000005  0.000008  0.000012  0.000021  0.000029\n",
       "20  0.000004  0.000007  0.000010  0.000017  0.000022\n",
       "25  0.000004  0.000006  0.000010  0.000020  0.000021"
      ]
     },
     "execution_count": 12,
     "metadata": {},
     "output_type": "execute_result"
    }
   ],
   "source": [
    "# Profiling `exog_to_direct` for different length of columns\n",
    "# ======================================================================================\n",
    "import time \n",
    "\n",
    "n_columns = [2, 5, 10, 20, 25]\n",
    "n_steps = [2, 6, 12, 24, 36]\n",
    "results = {}\n",
    "\n",
    "for steps in n_steps:\n",
    "    execution_time = []\n",
    "\n",
    "    for n in n_columns:\n",
    "        df = np.arange(1000).reshape(int(1000/n), n)\n",
    "        tic = time.perf_counter()\n",
    "        _ = exog_to_direct_numpy(exog=df, steps=steps)\n",
    "        toc = time.perf_counter()\n",
    "        execution_time.append(toc-tic)\n",
    "\n",
    "    results[steps] = execution_time\n",
    "\n",
    "results = pd.DataFrame(\n",
    "              data =  results,\n",
    "              index = n_columns\n",
    "          )\n",
    "\n",
    "results"
   ]
  },
  {
   "cell_type": "code",
   "execution_count": 13,
   "metadata": {},
   "outputs": [],
   "source": [
    "def exog_to_direct_numpy_old(\n",
    "    exog: np.ndarray,\n",
    "    steps: int\n",
    ")-> np.ndarray:\n",
    "    \"\"\"\n",
    "    Transforms `exog` to `np.ndarray` with the shape needed for direct\n",
    "    forecasting.\n",
    "    \n",
    "    Parameters\n",
    "    ----------        \n",
    "    exog : numpy ndarray, shape(samples,)\n",
    "        Exogenous variables.\n",
    "\n",
    "    steps : int.\n",
    "        Number of steps that will be predicted using exog.\n",
    "\n",
    "    Returns \n",
    "    -------\n",
    "    exog_transformed : numpy ndarray\n",
    "        Exogenous variables transformed.\n",
    "\n",
    "    \"\"\"\n",
    "\n",
    "    exog_transformed = []\n",
    "    \n",
    "    if exog.ndim == 1:\n",
    "        exog = np.expand_dims(exog, axis=1)\n",
    "\n",
    "    for i in range(exog.shape[1]):\n",
    "        exog_column = exog[:, i]\n",
    "        exog_column_transformed = np.vstack(\n",
    "            [np.roll(exog_column, j) for j in range(steps)]\n",
    "        ).T[steps - 1:]\n",
    "        exog_column_transformed = exog_column_transformed[:, ::-1]\n",
    "        exog_transformed.append(exog_column_transformed)\n",
    "\n",
    "    if len(exog_transformed) > 1:\n",
    "        exog_transformed = np.concatenate(exog_transformed, axis=1)\n",
    "    else:\n",
    "        exog_transformed = exog_column_transformed\n",
    "\n",
    "    return exog_transformed"
   ]
  },
  {
   "cell_type": "code",
   "execution_count": 14,
   "metadata": {},
   "outputs": [
    {
     "data": {
      "text/html": [
       "<div>\n",
       "<style scoped>\n",
       "    .dataframe tbody tr th:only-of-type {\n",
       "        vertical-align: middle;\n",
       "    }\n",
       "\n",
       "    .dataframe tbody tr th {\n",
       "        vertical-align: top;\n",
       "    }\n",
       "\n",
       "    .dataframe thead th {\n",
       "        text-align: right;\n",
       "    }\n",
       "</style>\n",
       "<table border=\"1\" class=\"dataframe\">\n",
       "  <thead>\n",
       "    <tr style=\"text-align: right;\">\n",
       "      <th></th>\n",
       "      <th>2</th>\n",
       "      <th>6</th>\n",
       "      <th>12</th>\n",
       "      <th>24</th>\n",
       "      <th>36</th>\n",
       "    </tr>\n",
       "  </thead>\n",
       "  <tbody>\n",
       "    <tr>\n",
       "      <th>2</th>\n",
       "      <td>0.000149</td>\n",
       "      <td>0.000139</td>\n",
       "      <td>0.000267</td>\n",
       "      <td>0.000450</td>\n",
       "      <td>0.000636</td>\n",
       "    </tr>\n",
       "    <tr>\n",
       "      <th>5</th>\n",
       "      <td>0.000169</td>\n",
       "      <td>0.000322</td>\n",
       "      <td>0.000686</td>\n",
       "      <td>0.001002</td>\n",
       "      <td>0.001492</td>\n",
       "    </tr>\n",
       "    <tr>\n",
       "      <th>10</th>\n",
       "      <td>0.000379</td>\n",
       "      <td>0.000637</td>\n",
       "      <td>0.001255</td>\n",
       "      <td>0.001936</td>\n",
       "      <td>0.003010</td>\n",
       "    </tr>\n",
       "    <tr>\n",
       "      <th>20</th>\n",
       "      <td>0.000532</td>\n",
       "      <td>0.001223</td>\n",
       "      <td>0.002165</td>\n",
       "      <td>0.003904</td>\n",
       "      <td>0.005968</td>\n",
       "    </tr>\n",
       "    <tr>\n",
       "      <th>25</th>\n",
       "      <td>0.000560</td>\n",
       "      <td>0.001449</td>\n",
       "      <td>0.002600</td>\n",
       "      <td>0.004808</td>\n",
       "      <td>0.007452</td>\n",
       "    </tr>\n",
       "  </tbody>\n",
       "</table>\n",
       "</div>"
      ],
      "text/plain": [
       "          2         6         12        24        36\n",
       "2   0.000149  0.000139  0.000267  0.000450  0.000636\n",
       "5   0.000169  0.000322  0.000686  0.001002  0.001492\n",
       "10  0.000379  0.000637  0.001255  0.001936  0.003010\n",
       "20  0.000532  0.001223  0.002165  0.003904  0.005968\n",
       "25  0.000560  0.001449  0.002600  0.004808  0.007452"
      ]
     },
     "execution_count": 14,
     "metadata": {},
     "output_type": "execute_result"
    }
   ],
   "source": [
    "# Profiling `exog_to_direct` for different length of columns\n",
    "# ======================================================================================\n",
    "import time \n",
    "\n",
    "n_columns = [2, 5, 10, 20, 25]\n",
    "n_steps = [2, 6, 12, 24, 36]\n",
    "results = {}\n",
    "\n",
    "for steps in n_steps:\n",
    "    execution_time = []\n",
    "\n",
    "    for n in n_columns:\n",
    "        df = np.arange(1000).reshape(int(1000/n), n)\n",
    "        tic = time.perf_counter()\n",
    "        _ = exog_to_direct_numpy_old(exog=df, steps=steps)\n",
    "        toc = time.perf_counter()\n",
    "        execution_time.append(toc-tic)\n",
    "\n",
    "    results[steps] = execution_time\n",
    "\n",
    "results = pd.DataFrame(\n",
    "              data =  results,\n",
    "              index = n_columns\n",
    "          )\n",
    "\n",
    "results"
   ]
  },
  {
   "cell_type": "code",
   "execution_count": 23,
   "metadata": {},
   "outputs": [
    {
     "data": {
      "text/html": [
       "<div>\n",
       "<style scoped>\n",
       "    .dataframe tbody tr th:only-of-type {\n",
       "        vertical-align: middle;\n",
       "    }\n",
       "\n",
       "    .dataframe tbody tr th {\n",
       "        vertical-align: top;\n",
       "    }\n",
       "\n",
       "    .dataframe thead th {\n",
       "        text-align: right;\n",
       "    }\n",
       "</style>\n",
       "<table border=\"1\" class=\"dataframe\">\n",
       "  <thead>\n",
       "    <tr style=\"text-align: right;\">\n",
       "      <th></th>\n",
       "      <th>exog_1</th>\n",
       "      <th>exog_2</th>\n",
       "    </tr>\n",
       "  </thead>\n",
       "  <tbody>\n",
       "    <tr>\n",
       "      <th>0</th>\n",
       "      <td>100.0</td>\n",
       "      <td>1000.0</td>\n",
       "    </tr>\n",
       "    <tr>\n",
       "      <th>1</th>\n",
       "      <td>101.0</td>\n",
       "      <td>1001.0</td>\n",
       "    </tr>\n",
       "    <tr>\n",
       "      <th>2</th>\n",
       "      <td>102.0</td>\n",
       "      <td>1002.0</td>\n",
       "    </tr>\n",
       "    <tr>\n",
       "      <th>3</th>\n",
       "      <td>103.0</td>\n",
       "      <td>1003.0</td>\n",
       "    </tr>\n",
       "    <tr>\n",
       "      <th>4</th>\n",
       "      <td>104.0</td>\n",
       "      <td>1004.0</td>\n",
       "    </tr>\n",
       "    <tr>\n",
       "      <th>5</th>\n",
       "      <td>105.0</td>\n",
       "      <td>1005.0</td>\n",
       "    </tr>\n",
       "    <tr>\n",
       "      <th>6</th>\n",
       "      <td>106.0</td>\n",
       "      <td>1006.0</td>\n",
       "    </tr>\n",
       "    <tr>\n",
       "      <th>7</th>\n",
       "      <td>107.0</td>\n",
       "      <td>1007.0</td>\n",
       "    </tr>\n",
       "    <tr>\n",
       "      <th>8</th>\n",
       "      <td>108.0</td>\n",
       "      <td>1008.0</td>\n",
       "    </tr>\n",
       "    <tr>\n",
       "      <th>9</th>\n",
       "      <td>109.0</td>\n",
       "      <td>1009.0</td>\n",
       "    </tr>\n",
       "  </tbody>\n",
       "</table>\n",
       "</div>"
      ],
      "text/plain": [
       "   exog_1  exog_2\n",
       "0   100.0  1000.0\n",
       "1   101.0  1001.0\n",
       "2   102.0  1002.0\n",
       "3   103.0  1003.0\n",
       "4   104.0  1004.0\n",
       "5   105.0  1005.0\n",
       "6   106.0  1006.0\n",
       "7   107.0  1007.0\n",
       "8   108.0  1008.0\n",
       "9   109.0  1009.0"
      ]
     },
     "execution_count": 23,
     "metadata": {},
     "output_type": "execute_result"
    }
   ],
   "source": [
    "exog"
   ]
  },
  {
   "cell_type": "code",
   "execution_count": 22,
   "metadata": {},
   "outputs": [
    {
     "name": "stdout",
     "output_type": "stream",
     "text": [
      "1.65 µs ± 193 ns per loop (mean ± std. dev. of 4 runs, 100 loops each)\n"
     ]
    }
   ],
   "source": [
    "%%timeit -r 4 -n 100\n",
    "\n",
    "exog.to_numpy()[:5]"
   ]
  },
  {
   "cell_type": "code",
   "execution_count": 25,
   "metadata": {},
   "outputs": [
    {
     "data": {
      "text/plain": [
       "array([[ 100., 1000.],\n",
       "       [ 101., 1001.],\n",
       "       [ 102., 1002.],\n",
       "       [ 103., 1003.],\n",
       "       [ 104., 1004.]])"
      ]
     },
     "execution_count": 25,
     "metadata": {},
     "output_type": "execute_result"
    }
   ],
   "source": [
    "exog.to_numpy()[:5]"
   ]
  },
  {
   "cell_type": "code",
   "execution_count": 24,
   "metadata": {},
   "outputs": [
    {
     "name": "stdout",
     "output_type": "stream",
     "text": [
      "32.2 µs ± 1.29 µs per loop (mean ± std. dev. of 4 runs, 100 loops each)\n"
     ]
    }
   ],
   "source": [
    "%%timeit -r 4 -n 100\n",
    "\n",
    "exog.iloc[:5,].to_numpy()"
   ]
  },
  {
   "cell_type": "code",
   "execution_count": 26,
   "metadata": {},
   "outputs": [
    {
     "data": {
      "text/plain": [
       "array([[ 100., 1000.],\n",
       "       [ 101., 1001.],\n",
       "       [ 102., 1002.],\n",
       "       [ 103., 1003.],\n",
       "       [ 104., 1004.]])"
      ]
     },
     "execution_count": 26,
     "metadata": {},
     "output_type": "execute_result"
    }
   ],
   "source": [
    "exog.iloc[:5,].to_numpy()"
   ]
  },
  {
   "cell_type": "code",
   "execution_count": null,
   "metadata": {},
   "outputs": [],
   "source": []
  }
 ],
 "metadata": {
  "kernelspec": {
   "display_name": "skforecast_py10",
   "language": "python",
   "name": "python3"
  },
  "language_info": {
   "codemirror_mode": {
    "name": "ipython",
    "version": 3
   },
   "file_extension": ".py",
   "mimetype": "text/x-python",
   "name": "python",
   "nbconvert_exporter": "python",
   "pygments_lexer": "ipython3",
   "version": "3.10.11"
  },
  "orig_nbformat": 4,
  "vscode": {
   "interpreter": {
    "hash": "c78d62c1713fdacd99ef7c429003c7324b36fbb551fb8b6860a7ea73e9338235"
   }
  }
 },
 "nbformat": 4,
 "nbformat_minor": 2
}
