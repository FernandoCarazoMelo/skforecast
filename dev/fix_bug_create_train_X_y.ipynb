{
 "cells": [
  {
   "cell_type": "code",
   "execution_count": 1,
   "metadata": {},
   "outputs": [
    {
     "data": {
      "text/plain": [
       "'/home/ubuntu/varios/skforecast'"
      ]
     },
     "execution_count": 1,
     "metadata": {},
     "output_type": "execute_result"
    }
   ],
   "source": [
    "%load_ext autoreload\n",
    "%autoreload 2\n",
    "import sys\n",
    "from pathlib import Path\n",
    "sys.path.insert(1, str(Path.cwd().parent))\n",
    "str(Path.cwd().parent)"
   ]
  },
  {
   "cell_type": "code",
   "execution_count": 29,
   "metadata": {},
   "outputs": [],
   "source": [
    "import numpy as np\n",
    "import pandas as pd\n",
    "from skforecast.ForecasterAutoreg import ForecasterAutoreg\n",
    "from skforecast.model_selection import grid_search_forecaster\n",
    "from lightgbm import LGBMRegressor"
   ]
  },
  {
   "cell_type": "code",
   "execution_count": 37,
   "metadata": {},
   "outputs": [],
   "source": [
    "y = pd.Series(np.random.normal(size=50))\n",
    "exog_1 = pd.Series(['a']*25 + ['b']*25, name='exog_1', dtype='category')\n",
    "exog_2 = pd.Series([np.nan]*25 + [2]*25, name='exog_2', dtype=float)\n",
    "exog   = pd.concat((exog_1, exog_2), axis=1)"
   ]
  },
  {
   "cell_type": "code",
   "execution_count": 38,
   "metadata": {},
   "outputs": [],
   "source": [
    "forecaster = ForecasterAutoreg(regressor=LGBMRegressor(), lags=5)"
   ]
  },
  {
   "cell_type": "code",
   "execution_count": 39,
   "metadata": {},
   "outputs": [
    {
     "name": "stdout",
     "output_type": "stream",
     "text": [
      "lag_1      float64\n",
      "lag_2      float64\n",
      "lag_3      float64\n",
      "lag_4      float64\n",
      "lag_5      float64\n",
      "exog_1    category\n",
      "exog_2     float64\n",
      "dtype: object\n"
     ]
    },
    {
     "name": "stderr",
     "output_type": "stream",
     "text": [
      "/home/ubuntu/varios/skforecast/skforecast/utils/utils.py:229: UserWarning: `exog` has missing values. Most of machine learning models do not allow missing values.\n",
      "  warnings.warn(\n"
     ]
    },
    {
     "data": {
      "text/html": [
       "<div>\n",
       "<style scoped>\n",
       "    .dataframe tbody tr th:only-of-type {\n",
       "        vertical-align: middle;\n",
       "    }\n",
       "\n",
       "    .dataframe tbody tr th {\n",
       "        vertical-align: top;\n",
       "    }\n",
       "\n",
       "    .dataframe thead th {\n",
       "        text-align: right;\n",
       "    }\n",
       "</style>\n",
       "<table border=\"1\" class=\"dataframe\">\n",
       "  <thead>\n",
       "    <tr style=\"text-align: right;\">\n",
       "      <th></th>\n",
       "      <th>lag_1</th>\n",
       "      <th>lag_2</th>\n",
       "      <th>lag_3</th>\n",
       "      <th>lag_4</th>\n",
       "      <th>lag_5</th>\n",
       "      <th>exog_1</th>\n",
       "      <th>exog_2</th>\n",
       "    </tr>\n",
       "  </thead>\n",
       "  <tbody>\n",
       "    <tr>\n",
       "      <th>5</th>\n",
       "      <td>-0.174980</td>\n",
       "      <td>-0.019890</td>\n",
       "      <td>0.228193</td>\n",
       "      <td>-0.031656</td>\n",
       "      <td>0.481604</td>\n",
       "      <td>a</td>\n",
       "      <td>NaN</td>\n",
       "    </tr>\n",
       "    <tr>\n",
       "      <th>6</th>\n",
       "      <td>0.424086</td>\n",
       "      <td>-0.174980</td>\n",
       "      <td>-0.019890</td>\n",
       "      <td>0.228193</td>\n",
       "      <td>-0.031656</td>\n",
       "      <td>a</td>\n",
       "      <td>NaN</td>\n",
       "    </tr>\n",
       "    <tr>\n",
       "      <th>7</th>\n",
       "      <td>-0.672830</td>\n",
       "      <td>0.424086</td>\n",
       "      <td>-0.174980</td>\n",
       "      <td>-0.019890</td>\n",
       "      <td>0.228193</td>\n",
       "      <td>a</td>\n",
       "      <td>NaN</td>\n",
       "    </tr>\n",
       "  </tbody>\n",
       "</table>\n",
       "</div>"
      ],
      "text/plain": [
       "      lag_1     lag_2     lag_3     lag_4     lag_5 exog_1  exog_2\n",
       "5 -0.174980 -0.019890  0.228193 -0.031656  0.481604      a     NaN\n",
       "6  0.424086 -0.174980 -0.019890  0.228193 -0.031656      a     NaN\n",
       "7 -0.672830  0.424086 -0.174980 -0.019890  0.228193      a     NaN"
      ]
     },
     "execution_count": 39,
     "metadata": {},
     "output_type": "execute_result"
    }
   ],
   "source": [
    "X_train, y_train = forecaster.create_train_X_y(\n",
    "    y=y,\n",
    "    exog=exog\n",
    ")\n",
    "print(X_train.dtypes)\n",
    "X_train.head(3)"
   ]
  },
  {
   "cell_type": "code",
   "execution_count": 33,
   "metadata": {},
   "outputs": [
    {
     "ename": "TypeError",
     "evalue": "Exog must contain only int, float or category types",
     "output_type": "error",
     "traceback": [
      "\u001b[0;31m---------------------------------------------------------------------------\u001b[0m",
      "\u001b[0;31mTypeError\u001b[0m                                 Traceback (most recent call last)",
      "Cell \u001b[0;32mIn[33], line 11\u001b[0m\n\u001b[1;32m      9\u001b[0m \u001b[39mif\u001b[39;00m \u001b[39misinstance\u001b[39m(exog, pd\u001b[39m.\u001b[39mSeries):\n\u001b[1;32m     10\u001b[0m     \u001b[39mif\u001b[39;00m \u001b[39mnot\u001b[39;00m exog\u001b[39m.\u001b[39mdtypes \u001b[39min\u001b[39;00m [\u001b[39m'\u001b[39m\u001b[39mfloat\u001b[39m\u001b[39m'\u001b[39m, \u001b[39m'\u001b[39m\u001b[39mint\u001b[39m\u001b[39m'\u001b[39m, \u001b[39m'\u001b[39m\u001b[39mcategory\u001b[39m\u001b[39m'\u001b[39m]:\n\u001b[0;32m---> 11\u001b[0m         \u001b[39mraise\u001b[39;00m \u001b[39mTypeError\u001b[39;00m(\n\u001b[1;32m     12\u001b[0m             \u001b[39m\"\u001b[39m\u001b[39mExog must contain only int, float or category types\u001b[39m\u001b[39m\"\u001b[39m\n\u001b[1;32m     13\u001b[0m         )\n",
      "\u001b[0;31mTypeError\u001b[0m: Exog must contain only int, float or category types"
     ]
    }
   ],
   "source": [
    "exog = exog_2\n",
    "\n",
    "if isinstance(exog, pd.DataFrame):\n",
    "    if not all([dtype in ['float', 'int', 'category'] for dtype in exog.dtypes]):\n",
    "        raise TypeError(\n",
    "            \"Exog must contain only int, float or category types\"\n",
    "        )\n",
    "\n",
    "if isinstance(exog, pd.Series):\n",
    "    if not exog.dtypes in ['float', 'int', 'category']:\n",
    "        raise TypeError(\n",
    "            \"Exog must contain only int, float or category types\"\n",
    "        )\n",
    "\n",
    "check that categories only contain integers"
   ]
  },
  {
   "cell_type": "code",
   "execution_count": 146,
   "metadata": {},
   "outputs": [],
   "source": [
    "forecaster.fit(y=y, exog=exog)"
   ]
  },
  {
   "cell_type": "code",
   "execution_count": 147,
   "metadata": {},
   "outputs": [
    {
     "ename": "ValueError",
     "evalue": "could not convert string to float: 'a'",
     "output_type": "error",
     "traceback": [
      "\u001b[0;31m---------------------------------------------------------------------------\u001b[0m",
      "\u001b[0;31mValueError\u001b[0m                                Traceback (most recent call last)",
      "Cell \u001b[0;32mIn[147], line 3\u001b[0m\n\u001b[1;32m      1\u001b[0m exog_predict \u001b[39m=\u001b[39m exog\u001b[39m.\u001b[39mcopy()\n\u001b[1;32m      2\u001b[0m exog_predict\u001b[39m.\u001b[39mindex \u001b[39m=\u001b[39m pd\u001b[39m.\u001b[39mRangeIndex(\u001b[39m50\u001b[39m, \u001b[39m100\u001b[39m)\n\u001b[0;32m----> 3\u001b[0m forecaster\u001b[39m.\u001b[39;49mpredict(steps\u001b[39m=\u001b[39;49m\u001b[39m3\u001b[39;49m, exog\u001b[39m=\u001b[39;49mexog_predict)\n\u001b[1;32m      4\u001b[0m exog\u001b[39m.\u001b[39mhead(\u001b[39m3\u001b[39m)\n",
      "File \u001b[0;32m~/varios/skforecast/skforecast/ForecasterAutoreg/ForecasterAutoreg.py:650\u001b[0m, in \u001b[0;36mForecasterAutoreg.predict\u001b[0;34m(self, steps, last_window, exog)\u001b[0m\n\u001b[1;32m    640\u001b[0m last_window \u001b[39m=\u001b[39m transform_series(\n\u001b[1;32m    641\u001b[0m                   series            \u001b[39m=\u001b[39m last_window,\n\u001b[1;32m    642\u001b[0m                   transformer       \u001b[39m=\u001b[39m \u001b[39mself\u001b[39m\u001b[39m.\u001b[39mtransformer_y,\n\u001b[1;32m    643\u001b[0m                   fit               \u001b[39m=\u001b[39m \u001b[39mFalse\u001b[39;00m,\n\u001b[1;32m    644\u001b[0m                   inverse_transform \u001b[39m=\u001b[39m \u001b[39mFalse\u001b[39;00m\n\u001b[1;32m    645\u001b[0m               )\n\u001b[1;32m    646\u001b[0m last_window_values, last_window_index \u001b[39m=\u001b[39m preprocess_last_window(\n\u001b[1;32m    647\u001b[0m                                             last_window \u001b[39m=\u001b[39m last_window\n\u001b[1;32m    648\u001b[0m                                         )\n\u001b[0;32m--> 650\u001b[0m predictions \u001b[39m=\u001b[39m \u001b[39mself\u001b[39;49m\u001b[39m.\u001b[39;49m_recursive_predict(\n\u001b[1;32m    651\u001b[0m                   steps       \u001b[39m=\u001b[39;49m steps,\n\u001b[1;32m    652\u001b[0m                   last_window \u001b[39m=\u001b[39;49m copy(last_window_values),\n\u001b[1;32m    653\u001b[0m                   exog        \u001b[39m=\u001b[39;49m copy(exog_values)\n\u001b[1;32m    654\u001b[0m               )\n\u001b[1;32m    656\u001b[0m predictions \u001b[39m=\u001b[39m pd\u001b[39m.\u001b[39mSeries(\n\u001b[1;32m    657\u001b[0m                   data  \u001b[39m=\u001b[39m predictions,\n\u001b[1;32m    658\u001b[0m                   index \u001b[39m=\u001b[39m expand_index(\n\u001b[0;32m   (...)\u001b[0m\n\u001b[1;32m    662\u001b[0m                   name \u001b[39m=\u001b[39m \u001b[39m'\u001b[39m\u001b[39mpred\u001b[39m\u001b[39m'\u001b[39m\n\u001b[1;32m    663\u001b[0m               )\n\u001b[1;32m    665\u001b[0m predictions \u001b[39m=\u001b[39m transform_series(\n\u001b[1;32m    666\u001b[0m                   series            \u001b[39m=\u001b[39m predictions,\n\u001b[1;32m    667\u001b[0m                   transformer       \u001b[39m=\u001b[39m \u001b[39mself\u001b[39m\u001b[39m.\u001b[39mtransformer_y,\n\u001b[1;32m    668\u001b[0m                   fit               \u001b[39m=\u001b[39m \u001b[39mFalse\u001b[39;00m,\n\u001b[1;32m    669\u001b[0m                   inverse_transform \u001b[39m=\u001b[39m \u001b[39mTrue\u001b[39;00m\n\u001b[1;32m    670\u001b[0m               )\n",
      "File \u001b[0;32m~/varios/skforecast/skforecast/ForecasterAutoreg/ForecasterAutoreg.py:552\u001b[0m, in \u001b[0;36mForecasterAutoreg._recursive_predict\u001b[0;34m(self, steps, last_window, exog)\u001b[0m\n\u001b[1;32m    548\u001b[0m \u001b[39mwith\u001b[39;00m warnings\u001b[39m.\u001b[39mcatch_warnings():\n\u001b[1;32m    549\u001b[0m     \u001b[39m# Suppress scikit-learn warning: \"X does not have valid feature names,\u001b[39;00m\n\u001b[1;32m    550\u001b[0m     \u001b[39m# but NoOpTransformer was fitted with feature names\".\u001b[39;00m\n\u001b[1;32m    551\u001b[0m     warnings\u001b[39m.\u001b[39msimplefilter(\u001b[39m\"\u001b[39m\u001b[39mignore\u001b[39m\u001b[39m\"\u001b[39m)\n\u001b[0;32m--> 552\u001b[0m     prediction \u001b[39m=\u001b[39m \u001b[39mself\u001b[39;49m\u001b[39m.\u001b[39;49mregressor\u001b[39m.\u001b[39;49mpredict(X)\n\u001b[1;32m    553\u001b[0m     predictions[i] \u001b[39m=\u001b[39m prediction\u001b[39m.\u001b[39mravel()[\u001b[39m0\u001b[39m]\n\u001b[1;32m    555\u001b[0m \u001b[39m# Update `last_window` values. The first position is discarded and \u001b[39;00m\n\u001b[1;32m    556\u001b[0m \u001b[39m# the new prediction is added at the end.\u001b[39;00m\n",
      "File \u001b[0;32m~/anaconda3/envs/cienciadedatos_p10/lib/python3.10/site-packages/lightgbm/sklearn.py:797\u001b[0m, in \u001b[0;36mLGBMModel.predict\u001b[0;34m(self, X, raw_score, start_iteration, num_iteration, pred_leaf, pred_contrib, **kwargs)\u001b[0m\n\u001b[1;32m    795\u001b[0m     \u001b[39mraise\u001b[39;00m LGBMNotFittedError(\u001b[39m\"\u001b[39m\u001b[39mEstimator not fitted, call fit before exploiting the model.\u001b[39m\u001b[39m\"\u001b[39m)\n\u001b[1;32m    796\u001b[0m \u001b[39mif\u001b[39;00m \u001b[39mnot\u001b[39;00m \u001b[39misinstance\u001b[39m(X, (pd_DataFrame, dt_DataTable)):\n\u001b[0;32m--> 797\u001b[0m     X \u001b[39m=\u001b[39m _LGBMCheckArray(X, accept_sparse\u001b[39m=\u001b[39;49m\u001b[39mTrue\u001b[39;49;00m, force_all_finite\u001b[39m=\u001b[39;49m\u001b[39mFalse\u001b[39;49;00m)\n\u001b[1;32m    798\u001b[0m n_features \u001b[39m=\u001b[39m X\u001b[39m.\u001b[39mshape[\u001b[39m1\u001b[39m]\n\u001b[1;32m    799\u001b[0m \u001b[39mif\u001b[39;00m \u001b[39mself\u001b[39m\u001b[39m.\u001b[39m_n_features \u001b[39m!=\u001b[39m n_features:\n",
      "File \u001b[0;32m~/anaconda3/envs/cienciadedatos_p10/lib/python3.10/site-packages/sklearn/utils/validation.py:879\u001b[0m, in \u001b[0;36mcheck_array\u001b[0;34m(array, accept_sparse, accept_large_sparse, dtype, order, copy, force_all_finite, ensure_2d, allow_nd, ensure_min_samples, ensure_min_features, estimator, input_name)\u001b[0m\n\u001b[1;32m    877\u001b[0m         array \u001b[39m=\u001b[39m xp\u001b[39m.\u001b[39mastype(array, dtype, copy\u001b[39m=\u001b[39m\u001b[39mFalse\u001b[39;00m)\n\u001b[1;32m    878\u001b[0m     \u001b[39melse\u001b[39;00m:\n\u001b[0;32m--> 879\u001b[0m         array \u001b[39m=\u001b[39m _asarray_with_order(array, order\u001b[39m=\u001b[39;49morder, dtype\u001b[39m=\u001b[39;49mdtype, xp\u001b[39m=\u001b[39;49mxp)\n\u001b[1;32m    880\u001b[0m \u001b[39mexcept\u001b[39;00m ComplexWarning \u001b[39mas\u001b[39;00m complex_warning:\n\u001b[1;32m    881\u001b[0m     \u001b[39mraise\u001b[39;00m \u001b[39mValueError\u001b[39;00m(\n\u001b[1;32m    882\u001b[0m         \u001b[39m\"\u001b[39m\u001b[39mComplex data not supported\u001b[39m\u001b[39m\\n\u001b[39;00m\u001b[39m{}\u001b[39;00m\u001b[39m\\n\u001b[39;00m\u001b[39m\"\u001b[39m\u001b[39m.\u001b[39mformat(array)\n\u001b[1;32m    883\u001b[0m     ) \u001b[39mfrom\u001b[39;00m \u001b[39mcomplex_warning\u001b[39;00m\n",
      "File \u001b[0;32m~/anaconda3/envs/cienciadedatos_p10/lib/python3.10/site-packages/sklearn/utils/_array_api.py:185\u001b[0m, in \u001b[0;36m_asarray_with_order\u001b[0;34m(array, dtype, order, copy, xp)\u001b[0m\n\u001b[1;32m    182\u001b[0m     xp, _ \u001b[39m=\u001b[39m get_namespace(array)\n\u001b[1;32m    183\u001b[0m \u001b[39mif\u001b[39;00m xp\u001b[39m.\u001b[39m\u001b[39m__name__\u001b[39m \u001b[39min\u001b[39;00m {\u001b[39m\"\u001b[39m\u001b[39mnumpy\u001b[39m\u001b[39m\"\u001b[39m, \u001b[39m\"\u001b[39m\u001b[39mnumpy.array_api\u001b[39m\u001b[39m\"\u001b[39m}:\n\u001b[1;32m    184\u001b[0m     \u001b[39m# Use NumPy API to support order\u001b[39;00m\n\u001b[0;32m--> 185\u001b[0m     array \u001b[39m=\u001b[39m numpy\u001b[39m.\u001b[39;49masarray(array, order\u001b[39m=\u001b[39;49morder, dtype\u001b[39m=\u001b[39;49mdtype)\n\u001b[1;32m    186\u001b[0m     \u001b[39mreturn\u001b[39;00m xp\u001b[39m.\u001b[39masarray(array, copy\u001b[39m=\u001b[39mcopy)\n\u001b[1;32m    187\u001b[0m \u001b[39melse\u001b[39;00m:\n",
      "\u001b[0;31mValueError\u001b[0m: could not convert string to float: 'a'"
     ]
    }
   ],
   "source": [
    "exog_predict = exog.copy()\n",
    "exog_predict.index = pd.RangeIndex(50, 100)\n",
    "forecaster.predict(steps=3, exog=exog_predict)\n",
    "exog.head(3)"
   ]
  },
  {
   "cell_type": "code",
   "execution_count": null,
   "metadata": {},
   "outputs": [],
   "source": [
    "from sklearn.ensemble import HistGradientBoostingRegressor\n",
    "from sklearn.pipeline import make_pipeline\n",
    "from sklearn.compose import make_column_transformer\n",
    "from sklearn.compose import make_column_selector\n",
    "from sklearn.preprocessing import OrdinalEncoder\n",
    "\n",
    "categorical_cols = exog.select_dtypes(include=\"category\").columns\n",
    "ordinal_encoder = make_column_transformer(\n",
    "    (\n",
    "        OrdinalEncoder(dtype=int, handle_unknown=\"use_encoded_value\", unknown_value=-1),\n",
    "        make_column_selector(dtype_include=\"category\"),\n",
    "    ),\n",
    "    remainder=\"passthrough\",\n",
    "    verbose_feature_names_out=False,\n",
    ").set_output(transform=\"pandas\")\n",
    "\n",
    "exog_encoded = ordinal_encoder.fit_transform(exog)\n",
    "exog_encoded[categorical_cols] = exog_encoded[categorical_cols].astype('category')"
   ]
  },
  {
   "cell_type": "code",
   "execution_count": null,
   "metadata": {},
   "outputs": [
    {
     "data": {
      "text/html": [
       "<div>\n",
       "<style scoped>\n",
       "    .dataframe tbody tr th:only-of-type {\n",
       "        vertical-align: middle;\n",
       "    }\n",
       "\n",
       "    .dataframe tbody tr th {\n",
       "        vertical-align: top;\n",
       "    }\n",
       "\n",
       "    .dataframe thead th {\n",
       "        text-align: right;\n",
       "    }\n",
       "</style>\n",
       "<table border=\"1\" class=\"dataframe\">\n",
       "  <thead>\n",
       "    <tr style=\"text-align: right;\">\n",
       "      <th></th>\n",
       "      <th>lag_1</th>\n",
       "      <th>lag_2</th>\n",
       "      <th>lag_3</th>\n",
       "      <th>lag_4</th>\n",
       "      <th>lag_5</th>\n",
       "      <th>exog_1</th>\n",
       "      <th>exog_2</th>\n",
       "    </tr>\n",
       "  </thead>\n",
       "  <tbody>\n",
       "    <tr>\n",
       "      <th>5</th>\n",
       "      <td>0.662517</td>\n",
       "      <td>0.369443</td>\n",
       "      <td>-1.070102</td>\n",
       "      <td>0.072779</td>\n",
       "      <td>-0.292832</td>\n",
       "      <td>0</td>\n",
       "      <td>0</td>\n",
       "    </tr>\n",
       "    <tr>\n",
       "      <th>6</th>\n",
       "      <td>-1.156970</td>\n",
       "      <td>0.662517</td>\n",
       "      <td>0.369443</td>\n",
       "      <td>-1.070102</td>\n",
       "      <td>0.072779</td>\n",
       "      <td>0</td>\n",
       "      <td>0</td>\n",
       "    </tr>\n",
       "    <tr>\n",
       "      <th>7</th>\n",
       "      <td>-0.315181</td>\n",
       "      <td>-1.156970</td>\n",
       "      <td>0.662517</td>\n",
       "      <td>0.369443</td>\n",
       "      <td>-1.070102</td>\n",
       "      <td>0</td>\n",
       "      <td>0</td>\n",
       "    </tr>\n",
       "  </tbody>\n",
       "</table>\n",
       "</div>"
      ],
      "text/plain": [
       "      lag_1     lag_2     lag_3     lag_4     lag_5 exog_1 exog_2\n",
       "5  0.662517  0.369443 -1.070102  0.072779 -0.292832      0      0\n",
       "6 -1.156970  0.662517  0.369443 -1.070102  0.072779      0      0\n",
       "7 -0.315181 -1.156970  0.662517  0.369443 -1.070102      0      0"
      ]
     },
     "execution_count": 132,
     "metadata": {},
     "output_type": "execute_result"
    }
   ],
   "source": [
    "X_train, y_train = forecaster.create_train_X_y(\n",
    "    y=y,\n",
    "    exog=exog_encoded\n",
    ")\n",
    "X_train.head(3)"
   ]
  },
  {
   "cell_type": "code",
   "execution_count": null,
   "metadata": {},
   "outputs": [
    {
     "data": {
      "text/plain": [
       "lag_1      float64\n",
       "lag_2      float64\n",
       "lag_3      float64\n",
       "lag_4      float64\n",
       "lag_5      float64\n",
       "exog_1    category\n",
       "exog_2    category\n",
       "dtype: object"
      ]
     },
     "execution_count": 133,
     "metadata": {},
     "output_type": "execute_result"
    }
   ],
   "source": [
    "X_train.dtypes"
   ]
  },
  {
   "cell_type": "code",
   "execution_count": null,
   "metadata": {},
   "outputs": [],
   "source": [
    "forecaster.fit(y=y, exog=exog_encoded)"
   ]
  },
  {
   "cell_type": "code",
   "execution_count": null,
   "metadata": {},
   "outputs": [
    {
     "data": {
      "text/plain": [
       "50   -0.593105\n",
       "51    0.223661\n",
       "52   -0.015733\n",
       "Name: pred, dtype: float64"
      ]
     },
     "execution_count": 138,
     "metadata": {},
     "output_type": "execute_result"
    }
   ],
   "source": [
    "exog_predict = exog_encoded.copy()\n",
    "exog_predict.index = pd.RangeIndex(50, 100)\n",
    "forecaster.predict(steps=3, exog=exog_predict)"
   ]
  },
  {
   "cell_type": "code",
   "execution_count": 155,
   "metadata": {},
   "outputs": [
    {
     "data": {
      "text/plain": [
       "array([-0.16857512, -0.16857512, -0.16857512, -0.16857512, -0.16857512,\n",
       "       -0.16857512, -0.16857512, -0.16857512, -0.16857512, -0.16857512,\n",
       "       -0.16857512, -0.16857512, -0.16857512, -0.16857512, -0.16857512,\n",
       "       -0.16857512, -0.16857512, -0.16857512, -0.16857512, -0.16857512,\n",
       "       -0.16857512, -0.16857512, -0.16857512, -0.16857512, -0.16857512,\n",
       "       -0.19153426, -0.19153426, -0.19153426, -0.19153426, -0.19153426,\n",
       "       -0.19153426, -0.19153426, -0.19153426, -0.19153426, -0.19153426,\n",
       "       -0.19153426, -0.19153426, -0.19153426, -0.19153426, -0.19153426,\n",
       "       -0.19153426, -0.19153426, -0.19153426, -0.19153426, -0.19153426,\n",
       "       -0.19153426, -0.19153426, -0.19153426, -0.19153426, -0.19153426])"
      ]
     },
     "execution_count": 155,
     "metadata": {},
     "output_type": "execute_result"
    }
   ],
   "source": [
    "X=exog.copy()\n",
    "model = LGBMRegressor()\n",
    "model.fit(y=y.to_frame(), X=X)\n",
    "model.predict(X)"
   ]
  },
  {
   "cell_type": "code",
   "execution_count": 156,
   "metadata": {},
   "outputs": [],
   "source": [
    "for col in X.columns:\n",
    "    X[col] = X[col].cat.codes"
   ]
  },
  {
   "cell_type": "code",
   "execution_count": 157,
   "metadata": {},
   "outputs": [
    {
     "data": {
      "text/plain": [
       "array([-0.16857512, -0.16857512, -0.16857512, -0.16857512, -0.16857512,\n",
       "       -0.16857512, -0.16857512, -0.16857512, -0.16857512, -0.16857512,\n",
       "       -0.16857512, -0.16857512, -0.16857512, -0.16857512, -0.16857512,\n",
       "       -0.16857512, -0.16857512, -0.16857512, -0.16857512, -0.16857512,\n",
       "       -0.16857512, -0.16857512, -0.16857512, -0.16857512, -0.16857512,\n",
       "       -0.19153426, -0.19153426, -0.19153426, -0.19153426, -0.19153426,\n",
       "       -0.19153426, -0.19153426, -0.19153426, -0.19153426, -0.19153426,\n",
       "       -0.19153426, -0.19153426, -0.19153426, -0.19153426, -0.19153426,\n",
       "       -0.19153426, -0.19153426, -0.19153426, -0.19153426, -0.19153426,\n",
       "       -0.19153426, -0.19153426, -0.19153426, -0.19153426, -0.19153426])"
      ]
     },
     "execution_count": 157,
     "metadata": {},
     "output_type": "execute_result"
    }
   ],
   "source": [
    "model.predict(X.to_numpy())"
   ]
  }
 ],
 "metadata": {
  "kernelspec": {
   "display_name": "skforecast_py10",
   "language": "python",
   "name": "python3"
  },
  "language_info": {
   "codemirror_mode": {
    "name": "ipython",
    "version": 3
   },
   "file_extension": ".py",
   "mimetype": "text/x-python",
   "name": "python",
   "nbconvert_exporter": "python",
   "pygments_lexer": "ipython3",
   "version": "3.10.9"
  },
  "orig_nbformat": 4,
  "vscode": {
   "interpreter": {
    "hash": "c78d62c1713fdacd99ef7c429003c7324b36fbb551fb8b6860a7ea73e9338235"
   }
  }
 },
 "nbformat": 4,
 "nbformat_minor": 2
}
