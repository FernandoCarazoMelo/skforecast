{
 "cells": [
  {
   "cell_type": "code",
   "execution_count": 104,
   "metadata": {},
   "outputs": [
    {
     "name": "stdout",
     "output_type": "stream",
     "text": [
      "The autoreload extension is already loaded. To reload it, use:\n",
      "  %reload_ext autoreload\n"
     ]
    },
    {
     "data": {
      "text/plain": [
       "'/home/ximo/Documents/GitHub/skforecast'"
      ]
     },
     "execution_count": 104,
     "metadata": {},
     "output_type": "execute_result"
    }
   ],
   "source": [
    "%load_ext autoreload\n",
    "%autoreload 2\n",
    "import sys\n",
    "from pathlib import Path\n",
    "sys.path.insert(1, str(Path.cwd().parent))\n",
    "str(Path.cwd().parent)"
   ]
  },
  {
   "cell_type": "code",
   "execution_count": 105,
   "metadata": {},
   "outputs": [],
   "source": [
    "import numpy as np\n",
    "import pandas as pd\n",
    "from skforecast.ForecasterAutoreg import ForecasterAutoreg\n",
    "from skforecast.model_selection import grid_search_forecaster\n",
    "from lightgbm import LGBMRegressor\n",
    "from sklearn.linear_model import LinearRegression"
   ]
  },
  {
   "cell_type": "code",
   "execution_count": 106,
   "metadata": {},
   "outputs": [],
   "source": [
    "y = pd.Series(np.random.normal(size=50))\n",
    "exog_1 = pd.Series([np.nan]*25 + [2]*25, name='exog_1', dtype=float)\n",
    "exog_2 = pd.Series([3]*25 + [2]*25, name='exog_2', dtype='category')\n",
    "exog   = pd.concat((exog_1, exog_2), axis=1)"
   ]
  },
  {
   "cell_type": "code",
   "execution_count": 107,
   "metadata": {},
   "outputs": [],
   "source": [
    "forecaster = ForecasterAutoreg(regressor=LGBMRegressor(), lags=5)"
   ]
  },
  {
   "cell_type": "code",
   "execution_count": 108,
   "metadata": {},
   "outputs": [
    {
     "name": "stdout",
     "output_type": "stream",
     "text": [
      "lag_1      float64\n",
      "lag_2      float64\n",
      "lag_3      float64\n",
      "lag_4      float64\n",
      "lag_5      float64\n",
      "exog_2    category\n",
      "dtype: object\n"
     ]
    },
    {
     "data": {
      "text/html": [
       "<div>\n",
       "<style scoped>\n",
       "    .dataframe tbody tr th:only-of-type {\n",
       "        vertical-align: middle;\n",
       "    }\n",
       "\n",
       "    .dataframe tbody tr th {\n",
       "        vertical-align: top;\n",
       "    }\n",
       "\n",
       "    .dataframe thead th {\n",
       "        text-align: right;\n",
       "    }\n",
       "</style>\n",
       "<table border=\"1\" class=\"dataframe\">\n",
       "  <thead>\n",
       "    <tr style=\"text-align: right;\">\n",
       "      <th></th>\n",
       "      <th>lag_1</th>\n",
       "      <th>lag_2</th>\n",
       "      <th>lag_3</th>\n",
       "      <th>lag_4</th>\n",
       "      <th>lag_5</th>\n",
       "      <th>exog_2</th>\n",
       "    </tr>\n",
       "  </thead>\n",
       "  <tbody>\n",
       "    <tr>\n",
       "      <th>5</th>\n",
       "      <td>0.455417</td>\n",
       "      <td>1.531868</td>\n",
       "      <td>-0.035084</td>\n",
       "      <td>0.624972</td>\n",
       "      <td>0.354442</td>\n",
       "      <td>3</td>\n",
       "    </tr>\n",
       "    <tr>\n",
       "      <th>6</th>\n",
       "      <td>-0.749850</td>\n",
       "      <td>0.455417</td>\n",
       "      <td>1.531868</td>\n",
       "      <td>-0.035084</td>\n",
       "      <td>0.624972</td>\n",
       "      <td>3</td>\n",
       "    </tr>\n",
       "    <tr>\n",
       "      <th>7</th>\n",
       "      <td>0.502262</td>\n",
       "      <td>-0.749850</td>\n",
       "      <td>0.455417</td>\n",
       "      <td>1.531868</td>\n",
       "      <td>-0.035084</td>\n",
       "      <td>3</td>\n",
       "    </tr>\n",
       "  </tbody>\n",
       "</table>\n",
       "</div>"
      ],
      "text/plain": [
       "      lag_1     lag_2     lag_3     lag_4     lag_5 exog_2\n",
       "5  0.455417  1.531868 -0.035084  0.624972  0.354442      3\n",
       "6 -0.749850  0.455417  1.531868 -0.035084  0.624972      3\n",
       "7  0.502262 -0.749850  0.455417  1.531868 -0.035084      3"
      ]
     },
     "execution_count": 108,
     "metadata": {},
     "output_type": "execute_result"
    }
   ],
   "source": [
    "X_train, y_train = forecaster.create_train_X_y(\n",
    "    y=y,\n",
    "    exog=exog_2\n",
    ")\n",
    "print(X_train.dtypes)\n",
    "X_train.head(3)"
   ]
  },
  {
   "cell_type": "code",
   "execution_count": 109,
   "metadata": {},
   "outputs": [
    {
     "name": "stderr",
     "output_type": "stream",
     "text": [
      "/home/ximo/Documents/GitHub/skforecast/skforecast/utils/utils.py:242: UserWarning: `exog` has missing values. Most of machine learning models do not allow missing values. Fitting the forecaster may fail.\n",
      "  warnings.warn(\n"
     ]
    }
   ],
   "source": [
    "forecaster.fit(y=y, exog=exog)"
   ]
  },
  {
   "cell_type": "code",
   "execution_count": 110,
   "metadata": {},
   "outputs": [
    {
     "name": "stderr",
     "output_type": "stream",
     "text": [
      "/home/ximo/Documents/GitHub/skforecast/skforecast/utils/utils.py:523: UserWarning: `exog` has missing values. Most of machine learning models do not allow missing values. `predict` method may fail.\n",
      "  warnings.warn(\n",
      "/home/ximo/Documents/GitHub/skforecast/skforecast/utils/utils.py:242: UserWarning: `exog` has missing values. Most of machine learning models do not allow missing values. Fitting the forecaster may fail.\n",
      "  warnings.warn(\n"
     ]
    },
    {
     "data": {
      "text/plain": [
       "50   -0.040578\n",
       "51   -0.498442\n",
       "52   -0.051412\n",
       "Name: pred, dtype: float64"
      ]
     },
     "execution_count": 110,
     "metadata": {},
     "output_type": "execute_result"
    }
   ],
   "source": [
    "exog_predict = exog.copy()\n",
    "exog_predict.index = pd.RangeIndex(50, 100)\n",
    "forecaster.predict(steps=3, exog=exog_predict)"
   ]
  },
  {
   "cell_type": "code",
   "execution_count": 111,
   "metadata": {},
   "outputs": [],
   "source": [
    "from sklearn.ensemble import HistGradientBoostingRegressor\n",
    "from sklearn.pipeline import make_pipeline\n",
    "from sklearn.compose import make_column_transformer\n",
    "from sklearn.compose import make_column_selector\n",
    "from sklearn.preprocessing import OrdinalEncoder\n",
    "\n",
    "categorical_cols = exog.select_dtypes(include=\"category\").columns\n",
    "ordinal_encoder = make_column_transformer(\n",
    "    (\n",
    "        OrdinalEncoder(dtype=int, handle_unknown=\"use_encoded_value\", unknown_value=-1),\n",
    "        make_column_selector(dtype_include=\"category\"),\n",
    "    ),\n",
    "    remainder=\"passthrough\",\n",
    "    verbose_feature_names_out=False,\n",
    ").set_output(transform=\"pandas\")\n",
    "\n",
    "exog_encoded = ordinal_encoder.fit_transform(exog)\n",
    "exog_encoded[categorical_cols] = exog_encoded[categorical_cols].astype('category')"
   ]
  },
  {
   "cell_type": "code",
   "execution_count": 112,
   "metadata": {},
   "outputs": [
    {
     "name": "stderr",
     "output_type": "stream",
     "text": [
      "/home/ximo/Documents/GitHub/skforecast/skforecast/utils/utils.py:242: UserWarning: `exog` has missing values. Most of machine learning models do not allow missing values. Fitting the forecaster may fail.\n",
      "  warnings.warn(\n"
     ]
    },
    {
     "data": {
      "text/html": [
       "<div>\n",
       "<style scoped>\n",
       "    .dataframe tbody tr th:only-of-type {\n",
       "        vertical-align: middle;\n",
       "    }\n",
       "\n",
       "    .dataframe tbody tr th {\n",
       "        vertical-align: top;\n",
       "    }\n",
       "\n",
       "    .dataframe thead th {\n",
       "        text-align: right;\n",
       "    }\n",
       "</style>\n",
       "<table border=\"1\" class=\"dataframe\">\n",
       "  <thead>\n",
       "    <tr style=\"text-align: right;\">\n",
       "      <th></th>\n",
       "      <th>lag_1</th>\n",
       "      <th>lag_2</th>\n",
       "      <th>lag_3</th>\n",
       "      <th>lag_4</th>\n",
       "      <th>lag_5</th>\n",
       "      <th>exog_2</th>\n",
       "      <th>exog_1</th>\n",
       "    </tr>\n",
       "  </thead>\n",
       "  <tbody>\n",
       "    <tr>\n",
       "      <th>5</th>\n",
       "      <td>0.455417</td>\n",
       "      <td>1.531868</td>\n",
       "      <td>-0.035084</td>\n",
       "      <td>0.624972</td>\n",
       "      <td>0.354442</td>\n",
       "      <td>1</td>\n",
       "      <td>NaN</td>\n",
       "    </tr>\n",
       "    <tr>\n",
       "      <th>6</th>\n",
       "      <td>-0.749850</td>\n",
       "      <td>0.455417</td>\n",
       "      <td>1.531868</td>\n",
       "      <td>-0.035084</td>\n",
       "      <td>0.624972</td>\n",
       "      <td>1</td>\n",
       "      <td>NaN</td>\n",
       "    </tr>\n",
       "    <tr>\n",
       "      <th>7</th>\n",
       "      <td>0.502262</td>\n",
       "      <td>-0.749850</td>\n",
       "      <td>0.455417</td>\n",
       "      <td>1.531868</td>\n",
       "      <td>-0.035084</td>\n",
       "      <td>1</td>\n",
       "      <td>NaN</td>\n",
       "    </tr>\n",
       "  </tbody>\n",
       "</table>\n",
       "</div>"
      ],
      "text/plain": [
       "      lag_1     lag_2     lag_3     lag_4     lag_5 exog_2  exog_1\n",
       "5  0.455417  1.531868 -0.035084  0.624972  0.354442      1     NaN\n",
       "6 -0.749850  0.455417  1.531868 -0.035084  0.624972      1     NaN\n",
       "7  0.502262 -0.749850  0.455417  1.531868 -0.035084      1     NaN"
      ]
     },
     "execution_count": 112,
     "metadata": {},
     "output_type": "execute_result"
    }
   ],
   "source": [
    "X_train, y_train = forecaster.create_train_X_y(\n",
    "    y=y,\n",
    "    exog=exog_encoded\n",
    ")\n",
    "X_train.head(3)"
   ]
  },
  {
   "cell_type": "code",
   "execution_count": 113,
   "metadata": {},
   "outputs": [
    {
     "data": {
      "text/plain": [
       "lag_1      float64\n",
       "lag_2      float64\n",
       "lag_3      float64\n",
       "lag_4      float64\n",
       "lag_5      float64\n",
       "exog_2    category\n",
       "exog_1     float64\n",
       "dtype: object"
      ]
     },
     "execution_count": 113,
     "metadata": {},
     "output_type": "execute_result"
    }
   ],
   "source": [
    "X_train.dtypes"
   ]
  },
  {
   "cell_type": "code",
   "execution_count": 114,
   "metadata": {},
   "outputs": [
    {
     "name": "stderr",
     "output_type": "stream",
     "text": [
      "/home/ximo/Documents/GitHub/skforecast/skforecast/utils/utils.py:242: UserWarning: `exog` has missing values. Most of machine learning models do not allow missing values. Fitting the forecaster may fail.\n",
      "  warnings.warn(\n"
     ]
    }
   ],
   "source": [
    "forecaster.fit(y=y, exog=exog_encoded)"
   ]
  },
  {
   "cell_type": "code",
   "execution_count": 115,
   "metadata": {},
   "outputs": [
    {
     "name": "stderr",
     "output_type": "stream",
     "text": [
      "/home/ximo/Documents/GitHub/skforecast/skforecast/utils/utils.py:523: UserWarning: `exog` has missing values. Most of machine learning models do not allow missing values. `predict` method may fail.\n",
      "  warnings.warn(\n",
      "/home/ximo/Documents/GitHub/skforecast/skforecast/utils/utils.py:242: UserWarning: `exog` has missing values. Most of machine learning models do not allow missing values. Fitting the forecaster may fail.\n",
      "  warnings.warn(\n"
     ]
    },
    {
     "data": {
      "text/plain": [
       "50   -0.040578\n",
       "51   -0.498442\n",
       "52   -0.051412\n",
       "Name: pred, dtype: float64"
      ]
     },
     "execution_count": 115,
     "metadata": {},
     "output_type": "execute_result"
    }
   ],
   "source": [
    "exog_predict = exog_encoded.copy()\n",
    "exog_predict.index = pd.RangeIndex(50, 100)\n",
    "forecaster.predict(steps=3, exog=exog_predict)"
   ]
  },
  {
   "cell_type": "code",
   "execution_count": 116,
   "metadata": {},
   "outputs": [
    {
     "data": {
      "text/plain": [
       "array([-0.25966518, -0.25966518, -0.25966518, -0.25966518, -0.25966518,\n",
       "       -0.25966518, -0.25966518, -0.25966518, -0.25966518, -0.25966518,\n",
       "       -0.25966518, -0.25966518, -0.25966518, -0.25966518, -0.25966518,\n",
       "       -0.25966518, -0.25966518, -0.25966518, -0.25966518, -0.25966518,\n",
       "       -0.25966518, -0.25966518, -0.25966518, -0.25966518, -0.25966518,\n",
       "        0.00845949,  0.00845949,  0.00845949,  0.00845949,  0.00845949,\n",
       "        0.00845949,  0.00845949,  0.00845949,  0.00845949,  0.00845949,\n",
       "        0.00845949,  0.00845949,  0.00845949,  0.00845949,  0.00845949,\n",
       "        0.00845949,  0.00845949,  0.00845949,  0.00845949,  0.00845949,\n",
       "        0.00845949,  0.00845949,  0.00845949,  0.00845949,  0.00845949])"
      ]
     },
     "execution_count": 116,
     "metadata": {},
     "output_type": "execute_result"
    }
   ],
   "source": [
    "X=exog.copy()\n",
    "model = LGBMRegressor()\n",
    "model.fit(y=y.to_frame(), X=X)\n",
    "model.predict(X)"
   ]
  },
  {
   "cell_type": "code",
   "execution_count": 117,
   "metadata": {},
   "outputs": [
    {
     "data": {
      "text/plain": [
       "array([-0.25966518, -0.25966518, -0.25966518, -0.25966518, -0.25966518,\n",
       "       -0.25966518, -0.25966518, -0.25966518, -0.25966518, -0.25966518,\n",
       "       -0.25966518, -0.25966518, -0.25966518, -0.25966518, -0.25966518,\n",
       "       -0.25966518, -0.25966518, -0.25966518, -0.25966518, -0.25966518,\n",
       "       -0.25966518, -0.25966518, -0.25966518, -0.25966518, -0.25966518,\n",
       "        0.00845949,  0.00845949,  0.00845949,  0.00845949,  0.00845949,\n",
       "        0.00845949,  0.00845949,  0.00845949,  0.00845949,  0.00845949,\n",
       "        0.00845949,  0.00845949,  0.00845949,  0.00845949,  0.00845949,\n",
       "        0.00845949,  0.00845949,  0.00845949,  0.00845949,  0.00845949,\n",
       "        0.00845949,  0.00845949,  0.00845949,  0.00845949,  0.00845949])"
      ]
     },
     "execution_count": 117,
     "metadata": {},
     "output_type": "execute_result"
    }
   ],
   "source": [
    "model.predict(X.to_numpy())"
   ]
  }
 ],
 "metadata": {
  "kernelspec": {
   "display_name": "skforecast_py10",
   "language": "python",
   "name": "python3"
  },
  "language_info": {
   "codemirror_mode": {
    "name": "ipython",
    "version": 3
   },
   "file_extension": ".py",
   "mimetype": "text/x-python",
   "name": "python",
   "nbconvert_exporter": "python",
   "pygments_lexer": "ipython3",
   "version": "3.10.9"
  },
  "orig_nbformat": 4,
  "vscode": {
   "interpreter": {
    "hash": "c78d62c1713fdacd99ef7c429003c7324b36fbb551fb8b6860a7ea73e9338235"
   }
  }
 },
 "nbformat": 4,
 "nbformat_minor": 2
}
