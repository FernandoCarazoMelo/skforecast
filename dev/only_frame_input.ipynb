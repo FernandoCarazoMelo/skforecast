{
 "cells": [
  {
   "cell_type": "code",
   "execution_count": 1,
   "metadata": {},
   "outputs": [
    {
     "data": {
      "text/plain": [
       "'/home/ubuntu/varios/skforecast'"
      ]
     },
     "execution_count": 1,
     "metadata": {},
     "output_type": "execute_result"
    }
   ],
   "source": [
    "%load_ext autoreload\n",
    "%autoreload 2\n",
    "import sys\n",
    "from pathlib import Path\n",
    "sys.path.insert(1, str(Path.cwd().parent))\n",
    "str(Path.cwd().parent)"
   ]
  },
  {
   "cell_type": "code",
   "execution_count": 2,
   "metadata": {},
   "outputs": [],
   "source": [
    "# simulate tiem series\n",
    "import numpy as np\n",
    "import pandas as pd\n",
    "from skforecast.ForecasterAutoreg import ForecasterAutoreg\n",
    "from sklearn.preprocessing import StandardScaler"
   ]
  },
  {
   "cell_type": "code",
   "execution_count": 3,
   "metadata": {},
   "outputs": [
    {
     "data": {
      "text/plain": [
       "2020-01-01   -1.165125\n",
       "2020-01-02    0.279394\n",
       "2020-01-03   -0.361729\n",
       "2020-01-04   -0.633743\n",
       "2020-01-05    0.058005\n",
       "                ...   \n",
       "2022-09-22   -1.697567\n",
       "2022-09-23    2.925059\n",
       "2022-09-24    0.445889\n",
       "2022-09-25   -0.583245\n",
       "2022-09-26    0.671056\n",
       "Freq: D, Name: users, Length: 1000, dtype: float64"
      ]
     },
     "execution_count": 3,
     "metadata": {},
     "output_type": "execute_result"
    }
   ],
   "source": [
    "# simulate tiem series\n",
    "import numpy as np\n",
    "import pandas as pd\n",
    "\n",
    "y = np.random.normal(0, 1, 1000)\n",
    "y = pd.Series(y, index=pd.date_range('2020-01-01', periods=1000, freq='D'), name='users')\n",
    "y"
   ]
  },
  {
   "cell_type": "code",
   "execution_count": 4,
   "metadata": {},
   "outputs": [
    {
     "data": {
      "text/html": [
       "<div>\n",
       "<style scoped>\n",
       "    .dataframe tbody tr th:only-of-type {\n",
       "        vertical-align: middle;\n",
       "    }\n",
       "\n",
       "    .dataframe tbody tr th {\n",
       "        vertical-align: top;\n",
       "    }\n",
       "\n",
       "    .dataframe thead th {\n",
       "        text-align: right;\n",
       "    }\n",
       "</style>\n",
       "<table border=\"1\" class=\"dataframe\">\n",
       "  <thead>\n",
       "    <tr style=\"text-align: right;\">\n",
       "      <th></th>\n",
       "      <th>users</th>\n",
       "    </tr>\n",
       "  </thead>\n",
       "  <tbody>\n",
       "    <tr>\n",
       "      <th>2020-01-01</th>\n",
       "      <td>-1.165125</td>\n",
       "    </tr>\n",
       "    <tr>\n",
       "      <th>2020-01-02</th>\n",
       "      <td>0.279394</td>\n",
       "    </tr>\n",
       "    <tr>\n",
       "      <th>2020-01-03</th>\n",
       "      <td>-0.361729</td>\n",
       "    </tr>\n",
       "    <tr>\n",
       "      <th>2020-01-04</th>\n",
       "      <td>-0.633743</td>\n",
       "    </tr>\n",
       "    <tr>\n",
       "      <th>2020-01-05</th>\n",
       "      <td>0.058005</td>\n",
       "    </tr>\n",
       "    <tr>\n",
       "      <th>...</th>\n",
       "      <td>...</td>\n",
       "    </tr>\n",
       "    <tr>\n",
       "      <th>2022-09-22</th>\n",
       "      <td>-1.697567</td>\n",
       "    </tr>\n",
       "    <tr>\n",
       "      <th>2022-09-23</th>\n",
       "      <td>2.925059</td>\n",
       "    </tr>\n",
       "    <tr>\n",
       "      <th>2022-09-24</th>\n",
       "      <td>0.445889</td>\n",
       "    </tr>\n",
       "    <tr>\n",
       "      <th>2022-09-25</th>\n",
       "      <td>-0.583245</td>\n",
       "    </tr>\n",
       "    <tr>\n",
       "      <th>2022-09-26</th>\n",
       "      <td>0.671056</td>\n",
       "    </tr>\n",
       "  </tbody>\n",
       "</table>\n",
       "<p>1000 rows × 1 columns</p>\n",
       "</div>"
      ],
      "text/plain": [
       "               users\n",
       "2020-01-01 -1.165125\n",
       "2020-01-02  0.279394\n",
       "2020-01-03 -0.361729\n",
       "2020-01-04 -0.633743\n",
       "2020-01-05  0.058005\n",
       "...              ...\n",
       "2022-09-22 -1.697567\n",
       "2022-09-23  2.925059\n",
       "2022-09-24  0.445889\n",
       "2022-09-25 -0.583245\n",
       "2022-09-26  0.671056\n",
       "\n",
       "[1000 rows x 1 columns]"
      ]
     },
     "execution_count": 4,
     "metadata": {},
     "output_type": "execute_result"
    }
   ],
   "source": [
    "y_frame = y.to_frame(name=y.name if y.name is not None else 'y')\n",
    "y_frame"
   ]
  },
  {
   "cell_type": "code",
   "execution_count": 5,
   "metadata": {},
   "outputs": [],
   "source": [
    "from skforecast.utils import transform_dataframe\n",
    "from skforecast.utils import transform_series\n",
    "from skforecast.utils import preprocess_y"
   ]
  },
  {
   "cell_type": "code",
   "execution_count": 6,
   "metadata": {},
   "outputs": [],
   "source": [
    "transformer_y = StandardScaler()\n",
    "y_transformed = transform_series(\n",
    "                    series            = y,\n",
    "                    transformer       = transformer_y,\n",
    "                    fit               = True,\n",
    "                    inverse_transform = False\n",
    "                )\n",
    "y_values, y_index = preprocess_y(y=y_transformed)\n",
    "\n",
    "y_inverse = transform_series(\n",
    "                series            = y_transformed,\n",
    "                transformer       = transformer_y,\n",
    "                fit               = False,\n",
    "                inverse_transform = True\n",
    "            )"
   ]
  },
  {
   "cell_type": "code",
   "execution_count": 7,
   "metadata": {},
   "outputs": [],
   "source": [
    "transformer_y_df = StandardScaler()\n",
    "y_frame_transformed = transform_dataframe(\n",
    "                df                = y_frame,\n",
    "                transformer       = transformer_y_df,\n",
    "                fit               = True,\n",
    "                inverse_transform = False\n",
    "            )\n",
    "y_frame_values, y_frame_index = preprocess_y(y=y_frame_transformed)\n",
    "y_frame_inverse = transform_dataframe(\n",
    "                df                = y_frame_transformed,\n",
    "                transformer       = transformer_y_df,\n",
    "                fit               = False,\n",
    "                inverse_transform = True\n",
    "            )"
   ]
  },
  {
   "cell_type": "code",
   "execution_count": 13,
   "metadata": {},
   "outputs": [],
   "source": [
    "pd.testing.assert_series_equal(y_transformed, y_frame_transformed[y.name])\n",
    "pd.testing.assert_index_equal(y_index, y_frame_index)\n",
    "pd.testing.assert_series_equal(y_inverse, y_frame_inverse[y.name])"
   ]
  }
 ],
 "metadata": {
  "kernelspec": {
   "display_name": "skforecast_py10",
   "language": "python",
   "name": "python3"
  },
  "language_info": {
   "codemirror_mode": {
    "name": "ipython",
    "version": 3
   },
   "file_extension": ".py",
   "mimetype": "text/x-python",
   "name": "python",
   "nbconvert_exporter": "python",
   "pygments_lexer": "ipython3",
   "version": "3.11.8"
  },
  "orig_nbformat": 4,
  "vscode": {
   "interpreter": {
    "hash": "c78d62c1713fdacd99ef7c429003c7324b36fbb551fb8b6860a7ea73e9338235"
   }
  }
 },
 "nbformat": 4,
 "nbformat_minor": 2
}
