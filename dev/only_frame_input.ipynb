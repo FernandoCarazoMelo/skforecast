{
 "cells": [
  {
   "cell_type": "code",
   "execution_count": 84,
   "metadata": {},
   "outputs": [
    {
     "name": "stdout",
     "output_type": "stream",
     "text": [
      "The autoreload extension is already loaded. To reload it, use:\n",
      "  %reload_ext autoreload\n"
     ]
    },
    {
     "data": {
      "text/plain": [
       "'/home/ubuntu/varios/skforecast'"
      ]
     },
     "execution_count": 84,
     "metadata": {},
     "output_type": "execute_result"
    }
   ],
   "source": [
    "%load_ext autoreload\n",
    "%autoreload 2\n",
    "import sys\n",
    "from pathlib import Path\n",
    "sys.path.insert(1, str(Path.cwd().parent))\n",
    "str(Path.cwd().parent)"
   ]
  },
  {
   "cell_type": "code",
   "execution_count": 85,
   "metadata": {},
   "outputs": [],
   "source": [
    "# simulate tiem series\n",
    "import numpy as np\n",
    "import pandas as pd\n",
    "from skforecast.ForecasterAutoreg import ForecasterAutoreg\n",
    "from sklearn.preprocessing import StandardScaler\n",
    "from sklearn.linear_model import Ridge"
   ]
  },
  {
   "cell_type": "code",
   "execution_count": 86,
   "metadata": {},
   "outputs": [],
   "source": [
    "# simulate tiem series\n",
    "import numpy as np\n",
    "import pandas as pd\n",
    "\n",
    "y = np.random.normal(0, 1, 1000)\n",
    "y = pd.Series(y, index=pd.date_range('2020-01-01', periods=1000, freq='D'), name='users')\n",
    "exog = pd.DataFrame(np.random.normal(0, 1, (1000, 2)), index=y.index, columns=['exog1', 'exog2'])\n",
    "exog_test = exog.copy()\n",
    "exog_test.index = exog.index + len(exog)*exog.index.freq"
   ]
  },
  {
   "cell_type": "code",
   "execution_count": 87,
   "metadata": {},
   "outputs": [
    {
     "data": {
      "text/html": [
       "<div>\n",
       "<style scoped>\n",
       "    .dataframe tbody tr th:only-of-type {\n",
       "        vertical-align: middle;\n",
       "    }\n",
       "\n",
       "    .dataframe tbody tr th {\n",
       "        vertical-align: top;\n",
       "    }\n",
       "\n",
       "    .dataframe thead th {\n",
       "        text-align: right;\n",
       "    }\n",
       "</style>\n",
       "<table border=\"1\" class=\"dataframe\">\n",
       "  <thead>\n",
       "    <tr style=\"text-align: right;\">\n",
       "      <th></th>\n",
       "      <th>users</th>\n",
       "    </tr>\n",
       "  </thead>\n",
       "  <tbody>\n",
       "    <tr>\n",
       "      <th>2020-01-01</th>\n",
       "      <td>0.101360</td>\n",
       "    </tr>\n",
       "    <tr>\n",
       "      <th>2020-01-02</th>\n",
       "      <td>-0.588410</td>\n",
       "    </tr>\n",
       "    <tr>\n",
       "      <th>2020-01-03</th>\n",
       "      <td>0.158500</td>\n",
       "    </tr>\n",
       "    <tr>\n",
       "      <th>2020-01-04</th>\n",
       "      <td>-0.010931</td>\n",
       "    </tr>\n",
       "    <tr>\n",
       "      <th>2020-01-05</th>\n",
       "      <td>0.063960</td>\n",
       "    </tr>\n",
       "    <tr>\n",
       "      <th>...</th>\n",
       "      <td>...</td>\n",
       "    </tr>\n",
       "    <tr>\n",
       "      <th>2022-09-22</th>\n",
       "      <td>-0.841241</td>\n",
       "    </tr>\n",
       "    <tr>\n",
       "      <th>2022-09-23</th>\n",
       "      <td>-1.038543</td>\n",
       "    </tr>\n",
       "    <tr>\n",
       "      <th>2022-09-24</th>\n",
       "      <td>0.349005</td>\n",
       "    </tr>\n",
       "    <tr>\n",
       "      <th>2022-09-25</th>\n",
       "      <td>0.600560</td>\n",
       "    </tr>\n",
       "    <tr>\n",
       "      <th>2022-09-26</th>\n",
       "      <td>0.186529</td>\n",
       "    </tr>\n",
       "  </tbody>\n",
       "</table>\n",
       "<p>1000 rows × 1 columns</p>\n",
       "</div>"
      ],
      "text/plain": [
       "               users\n",
       "2020-01-01  0.101360\n",
       "2020-01-02 -0.588410\n",
       "2020-01-03  0.158500\n",
       "2020-01-04 -0.010931\n",
       "2020-01-05  0.063960\n",
       "...              ...\n",
       "2022-09-22 -0.841241\n",
       "2022-09-23 -1.038543\n",
       "2022-09-24  0.349005\n",
       "2022-09-25  0.600560\n",
       "2022-09-26  0.186529\n",
       "\n",
       "[1000 rows x 1 columns]"
      ]
     },
     "execution_count": 87,
     "metadata": {},
     "output_type": "execute_result"
    }
   ],
   "source": [
    "y_frame = y.to_frame(name=y.name if y.name is not None else 'y')\n",
    "y_frame"
   ]
  },
  {
   "cell_type": "code",
   "execution_count": 88,
   "metadata": {},
   "outputs": [],
   "source": [
    "from skforecast.utils import transform_dataframe\n",
    "from skforecast.utils import transform_series\n",
    "from skforecast.utils import preprocess_y"
   ]
  },
  {
   "cell_type": "code",
   "execution_count": 89,
   "metadata": {},
   "outputs": [],
   "source": [
    "transformer_y = StandardScaler()\n",
    "y_transformed = transform_series(\n",
    "                    series            = y,\n",
    "                    transformer       = transformer_y,\n",
    "                    fit               = True,\n",
    "                    inverse_transform = False\n",
    "                )\n",
    "y_values, y_index = preprocess_y(y=y_transformed)\n",
    "\n",
    "y_inverse = transform_series(\n",
    "                series            = y_transformed,\n",
    "                transformer       = transformer_y,\n",
    "                fit               = False,\n",
    "                inverse_transform = True\n",
    "            )"
   ]
  },
  {
   "cell_type": "code",
   "execution_count": 90,
   "metadata": {},
   "outputs": [],
   "source": [
    "transformer_y_df = StandardScaler()\n",
    "y_frame_transformed = transform_dataframe(\n",
    "                df                = y_frame,\n",
    "                transformer       = transformer_y_df,\n",
    "                fit               = True,\n",
    "                inverse_transform = False\n",
    "            )\n",
    "y_frame_values, y_frame_index = preprocess_y(y=y_frame_transformed)\n",
    "y_frame_inverse = transform_dataframe(\n",
    "                df                = y_frame_transformed,\n",
    "                transformer       = transformer_y_df,\n",
    "                fit               = False,\n",
    "                inverse_transform = True\n",
    "            )"
   ]
  },
  {
   "cell_type": "code",
   "execution_count": 91,
   "metadata": {},
   "outputs": [],
   "source": [
    "pd.testing.assert_series_equal(y_transformed, y_frame_transformed[y.name])\n",
    "pd.testing.assert_index_equal(y_index, y_frame_index)\n",
    "pd.testing.assert_series_equal(y_inverse, y_frame_inverse[y.name])"
   ]
  },
  {
   "cell_type": "code",
   "execution_count": 92,
   "metadata": {},
   "outputs": [
    {
     "data": {
      "text/plain": [
       "================= \n",
       "ForecasterAutoreg \n",
       "================= \n",
       "Regressor: Ridge() \n",
       "Lags: [ 1  2  3  4  5  6  7  8  9 10] \n",
       "Transformer for y: StandardScaler() \n",
       "Transformer for exog: StandardScaler() \n",
       "Window size: 10 \n",
       "Weight function included: False \n",
       "Differentiation order: None \n",
       "Exogenous included: True \n",
       "Exogenous variables names: ['exog1', 'exog2'] \n",
       "Training range: [Timestamp('2020-01-01 00:00:00'), Timestamp('2022-09-26 00:00:00')] \n",
       "Training index type: DatetimeIndex \n",
       "Training index frequency: D \n",
       "Regressor parameters: {'alpha': 1.0, 'copy_X': True, 'fit_intercept': True, 'max_iter': None, 'positive': False, 'random_state': None, 'solver': 'auto', 'tol': 0.0001} \n",
       "fit_kwargs: {} \n",
       "Creation date: 2024-06-12 09:49:12 \n",
       "Last fit date: 2024-06-12 09:49:12 \n",
       "Skforecast version: 0.13.0 \n",
       "Python version: 3.11.8 \n",
       "Forecaster id: None "
      ]
     },
     "execution_count": 92,
     "metadata": {},
     "output_type": "execute_result"
    }
   ],
   "source": [
    "forecaster = ForecasterAutoreg(regressor=Ridge(), lags=10, transformer_y=StandardScaler(), transformer_exog=StandardScaler())\n",
    "forecaster.fit(y=y, exog=exog)\n",
    "forecaster"
   ]
  },
  {
   "cell_type": "code",
   "execution_count": 97,
   "metadata": {},
   "outputs": [
    {
     "data": {
      "text/html": [
       "<div>\n",
       "<style scoped>\n",
       "    .dataframe tbody tr th:only-of-type {\n",
       "        vertical-align: middle;\n",
       "    }\n",
       "\n",
       "    .dataframe tbody tr th {\n",
       "        vertical-align: top;\n",
       "    }\n",
       "\n",
       "    .dataframe thead th {\n",
       "        text-align: right;\n",
       "    }\n",
       "</style>\n",
       "<table border=\"1\" class=\"dataframe\">\n",
       "  <thead>\n",
       "    <tr style=\"text-align: right;\">\n",
       "      <th></th>\n",
       "      <th>users</th>\n",
       "    </tr>\n",
       "  </thead>\n",
       "  <tbody>\n",
       "    <tr>\n",
       "      <th>2022-09-17</th>\n",
       "      <td>-0.522849</td>\n",
       "    </tr>\n",
       "    <tr>\n",
       "      <th>2022-09-18</th>\n",
       "      <td>1.659809</td>\n",
       "    </tr>\n",
       "    <tr>\n",
       "      <th>2022-09-19</th>\n",
       "      <td>-0.274929</td>\n",
       "    </tr>\n",
       "    <tr>\n",
       "      <th>2022-09-20</th>\n",
       "      <td>0.697841</td>\n",
       "    </tr>\n",
       "    <tr>\n",
       "      <th>2022-09-21</th>\n",
       "      <td>-2.135273</td>\n",
       "    </tr>\n",
       "    <tr>\n",
       "      <th>2022-09-22</th>\n",
       "      <td>-0.841241</td>\n",
       "    </tr>\n",
       "    <tr>\n",
       "      <th>2022-09-23</th>\n",
       "      <td>-1.038543</td>\n",
       "    </tr>\n",
       "    <tr>\n",
       "      <th>2022-09-24</th>\n",
       "      <td>0.349005</td>\n",
       "    </tr>\n",
       "    <tr>\n",
       "      <th>2022-09-25</th>\n",
       "      <td>0.600560</td>\n",
       "    </tr>\n",
       "    <tr>\n",
       "      <th>2022-09-26</th>\n",
       "      <td>0.186529</td>\n",
       "    </tr>\n",
       "  </tbody>\n",
       "</table>\n",
       "</div>"
      ],
      "text/plain": [
       "               users\n",
       "2022-09-17 -0.522849\n",
       "2022-09-18  1.659809\n",
       "2022-09-19 -0.274929\n",
       "2022-09-20  0.697841\n",
       "2022-09-21 -2.135273\n",
       "2022-09-22 -0.841241\n",
       "2022-09-23 -1.038543\n",
       "2022-09-24  0.349005\n",
       "2022-09-25  0.600560\n",
       "2022-09-26  0.186529"
      ]
     },
     "execution_count": 97,
     "metadata": {},
     "output_type": "execute_result"
    }
   ],
   "source": [
    "forecaster.last_window"
   ]
  },
  {
   "cell_type": "code",
   "execution_count": 93,
   "metadata": {},
   "outputs": [
    {
     "data": {
      "text/plain": [
       "2022-09-27    0.045174\n",
       "2022-09-28    0.156729\n",
       "2022-09-29    0.202170\n",
       "2022-09-30    0.078613\n",
       "2022-10-01    0.073976\n",
       "2022-10-02    0.000322\n",
       "2022-10-03    0.066119\n",
       "2022-10-04    0.057030\n",
       "2022-10-05    0.037552\n",
       "2022-10-06    0.075724\n",
       "Freq: D, Name: pred, dtype: float64"
      ]
     },
     "execution_count": 93,
     "metadata": {},
     "output_type": "execute_result"
    }
   ],
   "source": [
    "forecaster.predict(steps=10, exog=exog_test)"
   ]
  }
 ],
 "metadata": {
  "kernelspec": {
   "display_name": "skforecast_py10",
   "language": "python",
   "name": "python3"
  },
  "language_info": {
   "codemirror_mode": {
    "name": "ipython",
    "version": 3
   },
   "file_extension": ".py",
   "mimetype": "text/x-python",
   "name": "python",
   "nbconvert_exporter": "python",
   "pygments_lexer": "ipython3",
   "version": "3.11.8"
  },
  "orig_nbformat": 4,
  "vscode": {
   "interpreter": {
    "hash": "c78d62c1713fdacd99ef7c429003c7324b36fbb551fb8b6860a7ea73e9338235"
   }
  }
 },
 "nbformat": 4,
 "nbformat_minor": 2
}
