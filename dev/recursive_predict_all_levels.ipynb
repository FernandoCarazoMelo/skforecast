{
 "cells": [
  {
   "cell_type": "code",
   "execution_count": 1,
   "metadata": {},
   "outputs": [
    {
     "data": {
      "text/plain": [
       "'c:\\\\Users\\\\jaesc2\\\\GitHub\\\\skforecast'"
      ]
     },
     "execution_count": 1,
     "metadata": {},
     "output_type": "execute_result"
    }
   ],
   "source": [
    "%load_ext autoreload\n",
    "%autoreload 2\n",
    "import sys\n",
    "from pathlib import Path\n",
    "sys.path.insert(1, str(Path.cwd().parent))\n",
    "str(Path.cwd().parent)"
   ]
  },
  {
   "cell_type": "code",
   "execution_count": 35,
   "metadata": {},
   "outputs": [],
   "source": [
    "# Libraries\n",
    "# ==============================================================================\n",
    "import numpy as np\n",
    "import pandas as pd\n",
    "import matplotlib.pyplot as plt\n",
    "from sklearn.preprocessing import StandardScaler\n",
    "from sklearn.preprocessing import MinMaxScaler\n",
    "from sklearn.compose import ColumnTransformer\n",
    "from sklearn.preprocessing import OneHotEncoder\n",
    "from lightgbm import LGBMRegressor\n",
    "from sklearn.metrics import mean_absolute_error\n",
    "\n",
    "from skforecast.datasets import fetch_dataset\n",
    "from skforecast.ForecasterAutoregMultiSeries import ForecasterAutoregMultiSeries\n",
    "from skforecast.model_selection_multiseries import backtesting_forecaster_multiseries\n",
    "from skforecast.model_selection_multiseries import grid_search_forecaster_multiseries\n",
    "from skforecast.model_selection_multiseries import bayesian_search_forecaster_multiseries\n",
    "\n",
    "\n",
    "# Data download\n",
    "# ==============================================================================\n",
    "#data = fetch_dataset(name=\"items_sales\")\n",
    "#data.to_parquet('items_sales.parquet', index=True)\n",
    "data = pd.read_parquet('items_sales.parquet')\n",
    "data = data.asfreq('D')\n",
    "data.head()\n",
    "exog = pd.DataFrame({\n",
    "    'exog_1': np.random.normal(loc=0, scale=1, size=data.shape[0]),\n",
    "    'exog_2': np.random.normal(loc=0, scale=1, size=data.shape[0]),\n",
    "    # 'exog_3': (['A'] * int(data.shape[0] / 2) + ['B'] * int(data.shape[0] / 2 + 1)),\n",
    "}, index=data.index)\n",
    "\n",
    "end_train = '2014-07-15 23:59:00'\n",
    "data_train = data.loc[:end_train, :].copy()\n",
    "data_test  = data.loc[end_train:, :].copy()\n",
    "\n",
    "transformer_exog = ColumnTransformer(\n",
    "                        [('scale', StandardScaler(), ['exog_1', 'exog_2']),\n",
    "                        ('onehot', OneHotEncoder(), ['exog_3'])],\n",
    "                        remainder = 'passthrough',\n",
    "                        verbose_feature_names_out = False\n",
    "                    )\n",
    "\n",
    "# Create and train ForecasterAutoregMultiSeries\n",
    "# ==============================================================================\n",
    "forecaster = ForecasterAutoregMultiSeries(\n",
    "                 regressor          = LGBMRegressor(random_state=123, verbose=-1),\n",
    "                 lags               = [1, 5],\n",
    "                 encoding           = 'onehot',\n",
    "                 transformer_series = StandardScaler(),\n",
    "                 transformer_exog   = None,\n",
    "                 weight_func        = None,\n",
    "                 series_weights     = None,\n",
    "                 differentiation    = None,\n",
    "                 dropna_from_series = False,\n",
    "                 fit_kwargs         = None,\n",
    "                 forecaster_id      = None\n",
    "             )\n",
    "\n",
    "forecaster.fit(series=data_train, exog=exog.loc[data_train.index])"
   ]
  },
  {
   "cell_type": "code",
   "execution_count": 48,
   "metadata": {},
   "outputs": [],
   "source": [
    "last_window, exog_values_dict, levels, prediction_index, residuals = (\n",
    "    forecaster._create_predict_inputs_new(steps=2, exog=exog.loc[data_test.index])\n",
    ")"
   ]
  },
  {
   "cell_type": "code",
   "execution_count": 51,
   "metadata": {},
   "outputs": [
    {
     "data": {
      "text/html": [
       "<div>\n",
       "<style scoped>\n",
       "    .dataframe tbody tr th:only-of-type {\n",
       "        vertical-align: middle;\n",
       "    }\n",
       "\n",
       "    .dataframe tbody tr th {\n",
       "        vertical-align: top;\n",
       "    }\n",
       "\n",
       "    .dataframe thead th {\n",
       "        text-align: right;\n",
       "    }\n",
       "</style>\n",
       "<table border=\"1\" class=\"dataframe\">\n",
       "  <thead>\n",
       "    <tr style=\"text-align: right;\">\n",
       "      <th></th>\n",
       "      <th>series</th>\n",
       "      <th>exog_1</th>\n",
       "      <th>exog_2</th>\n",
       "      <th>exog_3</th>\n",
       "    </tr>\n",
       "  </thead>\n",
       "  <tbody>\n",
       "    <tr>\n",
       "      <th>2020-01-01</th>\n",
       "      <td>0.246521</td>\n",
       "      <td>1.203913</td>\n",
       "      <td>0.667439</td>\n",
       "      <td>A</td>\n",
       "    </tr>\n",
       "    <tr>\n",
       "      <th>2020-01-02</th>\n",
       "      <td>-0.324245</td>\n",
       "      <td>0.186020</td>\n",
       "      <td>0.500124</td>\n",
       "      <td>A</td>\n",
       "    </tr>\n",
       "    <tr>\n",
       "      <th>2020-01-03</th>\n",
       "      <td>2.240209</td>\n",
       "      <td>-0.072151</td>\n",
       "      <td>0.448000</td>\n",
       "      <td>A</td>\n",
       "    </tr>\n",
       "    <tr>\n",
       "      <th>2020-01-04</th>\n",
       "      <td>2.025398</td>\n",
       "      <td>0.514931</td>\n",
       "      <td>0.682381</td>\n",
       "      <td>A</td>\n",
       "    </tr>\n",
       "    <tr>\n",
       "      <th>2020-01-05</th>\n",
       "      <td>0.517730</td>\n",
       "      <td>0.378009</td>\n",
       "      <td>-0.067386</td>\n",
       "      <td>A</td>\n",
       "    </tr>\n",
       "    <tr>\n",
       "      <th>2020-01-06</th>\n",
       "      <td>1.148535</td>\n",
       "      <td>0.602108</td>\n",
       "      <td>-0.829410</td>\n",
       "      <td>B</td>\n",
       "    </tr>\n",
       "    <tr>\n",
       "      <th>2020-01-07</th>\n",
       "      <td>-1.088779</td>\n",
       "      <td>-1.303857</td>\n",
       "      <td>1.093146</td>\n",
       "      <td>B</td>\n",
       "    </tr>\n",
       "    <tr>\n",
       "      <th>2020-01-08</th>\n",
       "      <td>-0.198571</td>\n",
       "      <td>-1.088034</td>\n",
       "      <td>0.511126</td>\n",
       "      <td>B</td>\n",
       "    </tr>\n",
       "    <tr>\n",
       "      <th>2020-01-09</th>\n",
       "      <td>0.777643</td>\n",
       "      <td>-0.778676</td>\n",
       "      <td>-0.538512</td>\n",
       "      <td>B</td>\n",
       "    </tr>\n",
       "    <tr>\n",
       "      <th>2020-01-10</th>\n",
       "      <td>0.061075</td>\n",
       "      <td>0.482201</td>\n",
       "      <td>-0.752521</td>\n",
       "      <td>B</td>\n",
       "    </tr>\n",
       "  </tbody>\n",
       "</table>\n",
       "</div>"
      ],
      "text/plain": [
       "              series    exog_1    exog_2 exog_3\n",
       "2020-01-01  0.246521  1.203913  0.667439      A\n",
       "2020-01-02 -0.324245  0.186020  0.500124      A\n",
       "2020-01-03  2.240209 -0.072151  0.448000      A\n",
       "2020-01-04  2.025398  0.514931  0.682381      A\n",
       "2020-01-05  0.517730  0.378009 -0.067386      A\n",
       "2020-01-06  1.148535  0.602108 -0.829410      B\n",
       "2020-01-07 -1.088779 -1.303857  1.093146      B\n",
       "2020-01-08 -0.198571 -1.088034  0.511126      B\n",
       "2020-01-09  0.777643 -0.778676 -0.538512      B\n",
       "2020-01-10  0.061075  0.482201 -0.752521      B"
      ]
     },
     "execution_count": 51,
     "metadata": {},
     "output_type": "execute_result"
    }
   ],
   "source": [
    "# create sample DataFrame\n",
    "# ==============================================================================\n",
    "df = pd.DataFrame({\n",
    "    'series': np.random.normal(loc=0, scale=1, size=10),\n",
    "    'exog_1': np.random.normal(loc=0, scale=1, size=10),\n",
    "    'exog_2': np.random.normal(loc=0, scale=1, size=10),\n",
    "    'exog_3': (['A'] * 5 + ['B'] * 5),\n",
    "}, index=pd.date_range(start='2020-01-01', periods=10, freq='D'))\n",
    "df"
   ]
  },
  {
   "cell_type": "code",
   "execution_count": 52,
   "metadata": {},
   "outputs": [
    {
     "data": {
      "text/plain": [
       "array([[0.2465213048374577, 1.2039126277378218, 0.6674394983332698, 'A'],\n",
       "       [-0.32424471727474224, 0.186019658704721, 0.5001235480673789, 'A'],\n",
       "       [2.2402089477292138, -0.07215128182261636, 0.4480002070757206,\n",
       "        'A'],\n",
       "       [2.0253981508043513, 0.5149310079084571, 0.6823813118334469, 'A'],\n",
       "       [0.5177300390795565, 0.3780087038743546, -0.0673857901476081, 'A'],\n",
       "       [1.1485347128368952, 0.6021084318824149, -0.8294095842106304, 'B'],\n",
       "       [-1.0887793459540718, -1.3038573543154295, 1.0931455525854157,\n",
       "        'B'],\n",
       "       [-0.198570516045139, -1.0880341188670637, 0.5111263780681414, 'B'],\n",
       "       [0.7776426993273304, -0.7786764314466661, -0.5385120317694324,\n",
       "        'B'],\n",
       "       [0.06107486093709685, 0.4822014554040112, -0.7525214668141919,\n",
       "        'B'],\n",
       "       [nan, nan, nan, nan],\n",
       "       [nan, nan, nan, nan]], dtype=object)"
      ]
     },
     "execution_count": 52,
     "metadata": {},
     "output_type": "execute_result"
    }
   ],
   "source": [
    "predictions = np.full(shape=(2, 4), fill_value=np.nan, dtype=float)\n",
    "np.concatenate((df, predictions), axis=0)"
   ]
  },
  {
   "cell_type": "code",
   "execution_count": 49,
   "metadata": {},
   "outputs": [
    {
     "name": "stdout",
     "output_type": "stream",
     "text": [
      "levels_encoded_shape: 3\n",
      "levels_encoded: [[1. 0. 0.]\n",
      " [0. 1. 0.]\n",
      " [0. 0. 1.]]\n",
      "lags_shape: 2\n",
      "exog_shape: 2\n",
      "{1: array([[-1.29053856,  0.52850858],\n",
      "       [-1.29053856,  0.52850858],\n",
      "       [-1.29053856,  0.52850858]]), 2: array([[ 1.20958881, -0.48028341],\n",
      "       [ 1.20958881, -0.48028341],\n",
      "       [ 1.20958881, -0.48028341]])}\n",
      "features_shape: 7\n",
      "features:\n",
      "[[nan nan nan nan nan nan nan]\n",
      " [nan nan nan nan nan nan nan]\n",
      " [nan nan nan nan nan nan nan]]\n",
      "features:\n",
      "[[nan nan  1.  0.  0. nan nan]\n",
      " [nan nan  0.  1.  0. nan nan]\n",
      " [nan nan  0.  0.  1. nan nan]]\n",
      "predictions: [[nan nan nan]\n",
      " [nan nan nan]]\n",
      "last_window: [[ 1.24338795 -1.0827477  -1.2474523 ]\n",
      " [ 0.50649931 -1.08149806 -0.20986379]\n",
      " [ 0.05202951 -1.66299555 -0.77184881]\n",
      " [ 0.32439845 -1.10399152 -1.4428517 ]\n",
      " [ 1.36773084 -1.18521789 -1.33559848]\n",
      " [        nan         nan         nan]\n",
      " [        nan         nan         nan]]\n",
      "steps: 2\n",
      "features:\n",
      "[[ 1.36773084  1.24338795  1.          0.          0.                 nan\n",
      "          nan]\n",
      " [-1.18521789 -1.0827477   0.          1.          0.                 nan\n",
      "          nan]\n",
      " [-1.33559848 -1.2474523   0.          0.          1.                 nan\n",
      "          nan]]\n",
      "Exog step: 1\n",
      "[[-1.29053856  0.52850858]\n",
      " [-1.29053856  0.52850858]\n",
      " [-1.29053856  0.52850858]]\n",
      "features:\n",
      "[[ 1.36773084  1.24338795  1.          0.          0.         -1.29053856\n",
      "   0.52850858]\n",
      " [-1.18521789 -1.0827477   0.          1.          0.         -1.29053856\n",
      "   0.52850858]\n",
      " [-1.33559848 -1.2474523   0.          0.          1.         -1.29053856\n",
      "   0.52850858]]\n",
      "predictions step 1\n",
      "[ 1.62099301 -0.86671313 -1.1191915 ]\n",
      "[[ 1.62099301 -0.86671313 -1.1191915 ]\n",
      " [        nan         nan         nan]]\n",
      "features:\n",
      "[[ 1.62099301  0.50649931  1.          0.          0.         -1.29053856\n",
      "   0.52850858]\n",
      " [-0.86671313 -1.08149806  0.          1.          0.         -1.29053856\n",
      "   0.52850858]\n",
      " [-1.1191915  -0.20986379  0.          0.          1.         -1.29053856\n",
      "   0.52850858]]\n",
      "Exog step: 2\n",
      "[[ 1.20958881 -0.48028341]\n",
      " [ 1.20958881 -0.48028341]\n",
      " [ 1.20958881 -0.48028341]]\n",
      "features:\n",
      "[[ 1.62099301  0.50649931  1.          0.          0.          1.20958881\n",
      "  -0.48028341]\n",
      " [-0.86671313 -1.08149806  0.          1.          0.          1.20958881\n",
      "  -0.48028341]\n",
      " [-1.1191915  -0.20986379  0.          0.          1.          1.20958881\n",
      "  -0.48028341]]\n",
      "predictions step 2\n",
      "[ 1.4319547  -0.95309202 -0.46973021]\n",
      "[[ 1.62099301 -0.86671313 -1.1191915 ]\n",
      " [ 1.4319547  -0.95309202 -0.46973021]]\n"
     ]
    }
   ],
   "source": [
    "_ = forecaster._recursive_predict_new(\n",
    "    steps=2,\n",
    "    levels=levels,\n",
    "    last_window=last_window,\n",
    "    exog=exog_values_dict\n",
    ")"
   ]
  },
  {
   "cell_type": "code",
   "execution_count": 42,
   "metadata": {},
   "outputs": [
    {
     "data": {
      "text/plain": [
       "{1: array([[-1.16086064,  1.13869053],\n",
       "        [-1.16086064,  1.13869053],\n",
       "        [-1.16086064,  1.13869053]]),\n",
       " 2: array([[ 1.14521952, -0.02551577],\n",
       "        [ 1.14521952, -0.02551577],\n",
       "        [ 1.14521952, -0.02551577]]),\n",
       " 3: array([[-0.45105887, -0.73163628],\n",
       "        [-0.45105887, -0.73163628],\n",
       "        [-0.45105887, -0.73163628]]),\n",
       " 4: array([[0.73607151, 0.10636474],\n",
       "        [0.73607151, 0.10636474],\n",
       "        [0.73607151, 0.10636474]]),\n",
       " 5: array([[1.23016068, 2.58262341],\n",
       "        [1.23016068, 2.58262341],\n",
       "        [1.23016068, 2.58262341]])}"
      ]
     },
     "execution_count": 42,
     "metadata": {},
     "output_type": "execute_result"
    }
   ],
   "source": [
    "forecaster._create_predict_inputs_new(steps=5, exog=exog.loc[data_test.index])[1]"
   ]
  },
  {
   "cell_type": "code",
   "execution_count": 30,
   "metadata": {},
   "outputs": [
    {
     "data": {
      "text/plain": [
       "{1: array([[99., 99.],\n",
       "        [99., 99.]]),\n",
       " 2: array([[999., 999.],\n",
       "        [999., 999.]])}"
      ]
     },
     "execution_count": 30,
     "metadata": {},
     "output_type": "execute_result"
    }
   ],
   "source": [
    "levels = ['item_1', 'item_2', 'item_3']\n",
    "n_levels = len(levels)\n",
    "lags = np.array([1, 2, 3, 4, 5])\n",
    "steps = 2\n",
    "lags_shape = len(lags)\n",
    "exog_shape = 2\n",
    "encoding = 'onehot'\n",
    "series_col_names = levels\n",
    "encoding_mapping = {'item_1': 0, 'item_2': 1, 'item_3': 2}\n",
    "# Exog es un diccionario donde las claves son el step y los son numpy arrays en los\n",
    "# que cada fila es un level y cada columna es una variable exogena.\n",
    "exog = {\n",
    "    1:np.full(shape=(steps, exog_shape), fill_value=99, dtype=float),\n",
    "    2:np.full(shape=(steps, exog_shape), fill_value=999, dtype=float),\n",
    "}\n",
    "exog"
   ]
  },
  {
   "cell_type": "code",
   "execution_count": null,
   "metadata": {},
   "outputs": [],
   "source": []
  },
  {
   "cell_type": "code",
   "execution_count": 4,
   "metadata": {},
   "outputs": [
    {
     "data": {
      "text/plain": [
       "array([[1., 0., 0.],\n",
       "       [0., 1., 0.],\n",
       "       [0., 0., 1.]])"
      ]
     },
     "execution_count": 4,
     "metadata": {},
     "output_type": "execute_result"
    }
   ],
   "source": [
    "if encoding is not None:\n",
    "    if encoding == 'onehot':\n",
    "        levels_encoded = np.zeros((n_levels, len(series_col_names)), dtype=float)\n",
    "        for idx, level in enumerate(levels):\n",
    "            if level in series_col_names:\n",
    "                levels_encoded[idx, series_col_names.index(level)] = 1.\n",
    "    else:\n",
    "        levels_encoded = np.array([encoding_mapping.get(level, None) for level in levels], dtype='float64').reshape(-1, 1)\n",
    "    levels_encoded_shape = levels_encoded.shape[1]\n",
    "else:\n",
    "    levels_encoded_shape = 0\n",
    "levels_encoded"
   ]
  },
  {
   "cell_type": "code",
   "execution_count": 52,
   "metadata": {},
   "outputs": [
    {
     "name": "stdout",
     "output_type": "stream",
     "text": [
      "[[5. 5. 5.]\n",
      " [5. 5. 5.]\n",
      " [5. 5. 5.]\n",
      " [5. 5. 5.]\n",
      " [5. 5. 5.]]\n",
      "[[nan nan nan]\n",
      " [nan nan nan]]\n"
     ]
    },
    {
     "data": {
      "text/plain": [
       "array([[ 5.,  5.,  5.],\n",
       "       [ 5.,  5.,  5.],\n",
       "       [ 5.,  5.,  5.],\n",
       "       [ 5.,  5.,  5.],\n",
       "       [ 5.,  5.,  5.],\n",
       "       [nan, nan, nan],\n",
       "       [nan, nan, nan]])"
      ]
     },
     "execution_count": 52,
     "metadata": {},
     "output_type": "execute_result"
    }
   ],
   "source": [
    "last_window = np.full(shape=(lags_shape, n_levels), fill_value=5, dtype=float)\n",
    "predictions = np.full(shape=(steps, n_levels), fill_value=np.nan, dtype=float)\n",
    "print(last_window)\n",
    "print(predictions)\n",
    "last_window = np.concatenate((last_window, predictions), axis=0)\n",
    "last_window"
   ]
  },
  {
   "cell_type": "code",
   "execution_count": 6,
   "metadata": {},
   "outputs": [
    {
     "data": {
      "text/plain": [
       "array([[nan, nan, nan, nan, nan, nan, nan, nan, nan, nan],\n",
       "       [nan, nan, nan, nan, nan, nan, nan, nan, nan, nan],\n",
       "       [nan, nan, nan, nan, nan, nan, nan, nan, nan, nan]])"
      ]
     },
     "execution_count": 6,
     "metadata": {},
     "output_type": "execute_result"
    }
   ],
   "source": [
    "features_shape = lags_shape + levels_encoded_shape + exog_shape\n",
    "features = np.full(shape=(n_levels, features_shape), fill_value=np.nan, dtype=float)\n",
    "features"
   ]
  },
  {
   "cell_type": "code",
   "execution_count": 7,
   "metadata": {},
   "outputs": [
    {
     "data": {
      "text/plain": [
       "array([[nan, nan, nan, nan, nan,  1.,  0.,  0., nan, nan],\n",
       "       [nan, nan, nan, nan, nan,  0.,  1.,  0., nan, nan],\n",
       "       [nan, nan, nan, nan, nan,  0.,  0.,  1., nan, nan]])"
      ]
     },
     "execution_count": 7,
     "metadata": {},
     "output_type": "execute_result"
    }
   ],
   "source": [
    "if encoding is not None:\n",
    "    features[:, lags_shape:lags_shape + levels_encoded_shape] = levels_encoded\n",
    "features"
   ]
  },
  {
   "cell_type": "code",
   "execution_count": 8,
   "metadata": {},
   "outputs": [
    {
     "data": {
      "text/plain": [
       "array([[ 5.,  5.,  5.,  5.,  5.,  1.,  0.,  0., nan, nan],\n",
       "       [ 5.,  5.,  5.,  5.,  5.,  0.,  1.,  0., nan, nan],\n",
       "       [ 5.,  5.,  5.,  5.,  5.,  0.,  0.,  1., nan, nan]])"
      ]
     },
     "execution_count": 8,
     "metadata": {},
     "output_type": "execute_result"
    }
   ],
   "source": [
    "step = 1\n",
    "i = 0\n",
    "features[:, :lags_shape] = last_window[-lags - (steps - i), :].transpose()\n",
    "features\n"
   ]
  },
  {
   "cell_type": "code",
   "execution_count": 9,
   "metadata": {},
   "outputs": [
    {
     "data": {
      "text/plain": [
       "array([[ 5.,  5.,  5.,  5.,  5.,  1.,  0.,  0., 99., 99.],\n",
       "       [ 5.,  5.,  5.,  5.,  5.,  0.,  1.,  0., 99., 99.],\n",
       "       [ 5.,  5.,  5.,  5.,  5.,  0.,  0.,  1., 99., 99.]])"
      ]
     },
     "execution_count": 9,
     "metadata": {},
     "output_type": "execute_result"
    }
   ],
   "source": [
    "if exog is not None:\n",
    "    features[:, -exog_shape:] = exog[step][i, ].transpose()\n",
    "features"
   ]
  },
  {
   "cell_type": "code",
   "execution_count": 10,
   "metadata": {},
   "outputs": [
    {
     "data": {
      "text/plain": [
       "array([[nan, nan, nan],\n",
       "       [nan, nan, nan]])"
      ]
     },
     "execution_count": 10,
     "metadata": {},
     "output_type": "execute_result"
    }
   ],
   "source": [
    "predictions"
   ]
  },
  {
   "cell_type": "code",
   "execution_count": 11,
   "metadata": {},
   "outputs": [
    {
     "data": {
      "text/plain": [
       "array([1.7669726 , 1.84544141, 1.79877931])"
      ]
     },
     "execution_count": 11,
     "metadata": {},
     "output_type": "execute_result"
    }
   ],
   "source": [
    "pred = forecaster.regressor.predict(features)\n",
    "pred"
   ]
  },
  {
   "cell_type": "code",
   "execution_count": 12,
   "metadata": {},
   "outputs": [
    {
     "data": {
      "text/plain": [
       "array([[1.7669726 , 1.84544141, 1.79877931],\n",
       "       [       nan,        nan,        nan]])"
      ]
     },
     "execution_count": 12,
     "metadata": {},
     "output_type": "execute_result"
    }
   ],
   "source": [
    "predictions[i, :] = pred\n",
    "predictions"
   ]
  },
  {
   "cell_type": "code",
   "execution_count": 13,
   "metadata": {},
   "outputs": [
    {
     "data": {
      "text/plain": [
       "array([[ 5.,  5.,  5.],\n",
       "       [ 5.,  5.,  5.],\n",
       "       [ 5.,  5.,  5.],\n",
       "       [ 5.,  5.,  5.],\n",
       "       [ 5.,  5.,  5.],\n",
       "       [nan, nan, nan],\n",
       "       [nan, nan, nan]])"
      ]
     },
     "execution_count": 13,
     "metadata": {},
     "output_type": "execute_result"
    }
   ],
   "source": [
    "last_window"
   ]
  },
  {
   "cell_type": "code",
   "execution_count": 14,
   "metadata": {},
   "outputs": [
    {
     "data": {
      "text/plain": [
       "array([[5.        , 5.        , 5.        ],\n",
       "       [5.        , 5.        , 5.        ],\n",
       "       [5.        , 5.        , 5.        ],\n",
       "       [5.        , 5.        , 5.        ],\n",
       "       [5.        , 5.        , 5.        ],\n",
       "       [1.7669726 , 1.84544141, 1.79877931],\n",
       "       [       nan,        nan,        nan]])"
      ]
     },
     "execution_count": 14,
     "metadata": {},
     "output_type": "execute_result"
    }
   ],
   "source": [
    "last_window[-(steps - i), :] = pred\n",
    "last_window"
   ]
  },
  {
   "cell_type": "code",
   "execution_count": 15,
   "metadata": {},
   "outputs": [],
   "source": [
    "# data = fetch_dataset(name=\"items_sales\")\n",
    "# data.to_parquet('items_sales_2.parquet', index=True)\n",
    "data = pd.read_parquet(\"items_sales_2.parquet\")\n",
    "data = data.asfreq(\"D\")\n",
    "data.head()\n",
    "exog = pd.DataFrame(\n",
    "    {\n",
    "        \"exog_1\": np.random.normal(loc=0, scale=1, size=data.shape[0]),\n",
    "        \"exog_2\": np.random.normal(loc=0, scale=1, size=data.shape[0]),\n",
    "    },\n",
    "    index=data.index,\n",
    ")\n",
    "\n",
    "end_train = \"2014-07-15 23:59:00\"\n",
    "data_train = data.loc[:end_train, :].copy()\n",
    "data_test = data.loc[end_train:, :].copy()\n",
    "\n",
    "forecaster.fit(series=data_train, exog=exog.loc[data_train.index])\n",
    "\n",
    "(last_window_values_dict, exog_values_dict, levels, prediction_index, _) = (\n",
    "    forecaster._create_predict_inputs(\n",
    "        steps=2, levels=None, last_window=None, exog=exog.loc[data_test.index]\n",
    "    )\n",
    ")"
   ]
  },
  {
   "cell_type": "code",
   "execution_count": 16,
   "metadata": {},
   "outputs": [
    {
     "data": {
      "text/plain": [
       "{'item_1': array([[-0.90467518,  1.57613029],\n",
       "        [-0.84942286,  0.36144276]]),\n",
       " 'item_2': array([[-0.90467518,  1.57613029],\n",
       "        [-0.84942286,  0.36144276]]),\n",
       " 'item_3': array([[-0.90467518,  1.57613029],\n",
       "        [-0.84942286,  0.36144276]])}"
      ]
     },
     "execution_count": 16,
     "metadata": {},
     "output_type": "execute_result"
    }
   ],
   "source": [
    "exog_values_dict"
   ]
  },
  {
   "cell_type": "code",
   "execution_count": 17,
   "metadata": {},
   "outputs": [
    {
     "ename": "AttributeError",
     "evalue": "module 'numpy' has no attribute 'concat'",
     "output_type": "error",
     "traceback": [
      "\u001b[1;31m---------------------------------------------------------------------------\u001b[0m",
      "\u001b[1;31mAttributeError\u001b[0m                            Traceback (most recent call last)",
      "Cell \u001b[1;32mIn[17], line 1\u001b[0m\n\u001b[1;32m----> 1\u001b[0m exog_values \u001b[38;5;241m=\u001b[39m \u001b[43mnp\u001b[49m\u001b[38;5;241;43m.\u001b[39;49m\u001b[43mconcat\u001b[49m(\u001b[38;5;28mlist\u001b[39m(exog_values_dict\u001b[38;5;241m.\u001b[39mvalues()))\n\u001b[0;32m      2\u001b[0m exog_values\n",
      "File \u001b[1;32mc:\\Users\\jaesc2\\Miniconda3\\envs\\skforecast_py12\\Lib\\site-packages\\numpy\\__init__.py:347\u001b[0m, in \u001b[0;36m__getattr__\u001b[1;34m(attr)\u001b[0m\n\u001b[0;32m    344\u001b[0m     \u001b[38;5;124m\"\u001b[39m\u001b[38;5;124mRemoved in NumPy 1.25.0\u001b[39m\u001b[38;5;124m\"\u001b[39m\n\u001b[0;32m    345\u001b[0m     \u001b[38;5;28;01mraise\u001b[39;00m \u001b[38;5;167;01mRuntimeError\u001b[39;00m(\u001b[38;5;124m\"\u001b[39m\u001b[38;5;124mTester was removed in NumPy 1.25.\u001b[39m\u001b[38;5;124m\"\u001b[39m)\n\u001b[1;32m--> 347\u001b[0m \u001b[38;5;28;01mraise\u001b[39;00m \u001b[38;5;167;01mAttributeError\u001b[39;00m(\u001b[38;5;124m\"\u001b[39m\u001b[38;5;124mmodule \u001b[39m\u001b[38;5;132;01m{!r}\u001b[39;00m\u001b[38;5;124m has no attribute \u001b[39m\u001b[38;5;124m\"\u001b[39m\n\u001b[0;32m    348\u001b[0m                      \u001b[38;5;124m\"\u001b[39m\u001b[38;5;132;01m{!r}\u001b[39;00m\u001b[38;5;124m\"\u001b[39m\u001b[38;5;241m.\u001b[39mformat(\u001b[38;5;18m__name__\u001b[39m, attr))\n",
      "\u001b[1;31mAttributeError\u001b[0m: module 'numpy' has no attribute 'concat'"
     ]
    }
   ],
   "source": [
    "exog_values = np.concat(list(exog_values_dict.values()))\n",
    "exog_values"
   ]
  },
  {
   "cell_type": "code",
   "execution_count": null,
   "metadata": {},
   "outputs": [
    {
     "data": {
      "text/plain": [
       "{1: array([[-0.18765452, -0.87008195],\n",
       "        [-0.18765452, -0.87008195],\n",
       "        [-0.18765452, -0.87008195]]),\n",
       " 2: array([[0.43221017, 0.4456721 ],\n",
       "        [0.43221017, 0.4456721 ],\n",
       "        [0.43221017, 0.4456721 ]])}"
      ]
     },
     "execution_count": 73,
     "metadata": {},
     "output_type": "execute_result"
    }
   ],
   "source": [
    "exog_values_dict_2 = {}\n",
    "for i in range(steps):\n",
    "    exog_values_dict_2[i+1] = exog_values[i::steps, :]\n",
    "exog_values_dict_2\n",
    "    "
   ]
  },
  {
   "cell_type": "code",
   "execution_count": null,
   "metadata": {},
   "outputs": [],
   "source": [
    "predictions_old = forecaster.predict(steps=50, exog=exog.loc[data_test.index])\n",
    "predictions_new = forecaster.predict_new(steps=50, exog=exog.loc[data_test.index])\n",
    "assert predictions_old.equals(predictions_new)"
   ]
  },
  {
   "cell_type": "markdown",
   "metadata": {},
   "source": [
    "## Benchmark"
   ]
  },
  {
   "cell_type": "code",
   "execution_count": 23,
   "metadata": {},
   "outputs": [
    {
     "name": "stdout",
     "output_type": "stream",
     "text": [
      "Data shape: (365, 10)\n"
     ]
    }
   ],
   "source": [
    "n_series = 10\n",
    "n=365\n",
    "index = pd.date_range(start='2021-01-01',periods=n, freq=\"D\")\n",
    "series = [pd.Series(np.random.normal(size=n), index=index, name=f\"series_{i+1}\") for i in range(n_series)]\n",
    "data = pd.concat(series, axis=1)\n",
    "print(f\"Data shape: {data.shape}\")\n",
    "\n",
    "\n",
    "forecaster = ForecasterAutoregMultiSeries(\n",
    "                 regressor          = LGBMRegressor(random_state=123, verbose=-1, n_estimators=20),\n",
    "                 lags               = 5,\n",
    "                 encoding           = 'onehot',\n",
    "                 transformer_series = StandardScaler(),\n",
    "                 differentiation    = 1,\n",
    "             )\n",
    "forecaster.fit(series = data)"
   ]
  },
  {
   "cell_type": "code",
   "execution_count": 28,
   "metadata": {},
   "outputs": [
    {
     "data": {
      "text/html": [
       "<div>\n",
       "<style scoped>\n",
       "    .dataframe tbody tr th:only-of-type {\n",
       "        vertical-align: middle;\n",
       "    }\n",
       "\n",
       "    .dataframe tbody tr th {\n",
       "        vertical-align: top;\n",
       "    }\n",
       "\n",
       "    .dataframe thead th {\n",
       "        text-align: right;\n",
       "    }\n",
       "</style>\n",
       "<table border=\"1\" class=\"dataframe\">\n",
       "  <thead>\n",
       "    <tr style=\"text-align: right;\">\n",
       "      <th></th>\n",
       "      <th>series_1</th>\n",
       "      <th>series_2</th>\n",
       "      <th>series_3</th>\n",
       "      <th>series_4</th>\n",
       "      <th>series_5</th>\n",
       "      <th>series_6</th>\n",
       "      <th>series_7</th>\n",
       "      <th>series_8</th>\n",
       "      <th>series_9</th>\n",
       "      <th>series_10</th>\n",
       "    </tr>\n",
       "  </thead>\n",
       "  <tbody>\n",
       "    <tr>\n",
       "      <th>2021-12-26</th>\n",
       "      <td>NaN</td>\n",
       "      <td>NaN</td>\n",
       "      <td>NaN</td>\n",
       "      <td>NaN</td>\n",
       "      <td>NaN</td>\n",
       "      <td>NaN</td>\n",
       "      <td>NaN</td>\n",
       "      <td>NaN</td>\n",
       "      <td>NaN</td>\n",
       "      <td>NaN</td>\n",
       "    </tr>\n",
       "    <tr>\n",
       "      <th>2021-12-27</th>\n",
       "      <td>1.764491</td>\n",
       "      <td>-2.015992</td>\n",
       "      <td>0.500346</td>\n",
       "      <td>2.835097</td>\n",
       "      <td>0.906547</td>\n",
       "      <td>2.672527</td>\n",
       "      <td>-0.587551</td>\n",
       "      <td>0.802951</td>\n",
       "      <td>-0.128567</td>\n",
       "      <td>1.662249</td>\n",
       "    </tr>\n",
       "    <tr>\n",
       "      <th>2021-12-28</th>\n",
       "      <td>-1.882484</td>\n",
       "      <td>2.266741</td>\n",
       "      <td>-0.538605</td>\n",
       "      <td>-1.759172</td>\n",
       "      <td>-0.209785</td>\n",
       "      <td>-0.912942</td>\n",
       "      <td>1.280256</td>\n",
       "      <td>-2.749229</td>\n",
       "      <td>1.325683</td>\n",
       "      <td>-0.672648</td>\n",
       "    </tr>\n",
       "    <tr>\n",
       "      <th>2021-12-29</th>\n",
       "      <td>-0.043450</td>\n",
       "      <td>-2.225327</td>\n",
       "      <td>0.388344</td>\n",
       "      <td>0.203108</td>\n",
       "      <td>0.611531</td>\n",
       "      <td>0.064906</td>\n",
       "      <td>-3.976492</td>\n",
       "      <td>1.197661</td>\n",
       "      <td>-2.788776</td>\n",
       "      <td>2.189782</td>\n",
       "    </tr>\n",
       "    <tr>\n",
       "      <th>2021-12-30</th>\n",
       "      <td>2.379408</td>\n",
       "      <td>-0.207626</td>\n",
       "      <td>0.143539</td>\n",
       "      <td>-1.197654</td>\n",
       "      <td>-0.570224</td>\n",
       "      <td>1.674584</td>\n",
       "      <td>1.133102</td>\n",
       "      <td>-0.379131</td>\n",
       "      <td>0.911555</td>\n",
       "      <td>-1.373248</td>\n",
       "    </tr>\n",
       "    <tr>\n",
       "      <th>2021-12-31</th>\n",
       "      <td>-2.574443</td>\n",
       "      <td>-1.376949</td>\n",
       "      <td>-0.710126</td>\n",
       "      <td>0.332241</td>\n",
       "      <td>2.095367</td>\n",
       "      <td>-1.336444</td>\n",
       "      <td>1.786230</td>\n",
       "      <td>1.666234</td>\n",
       "      <td>-0.968743</td>\n",
       "      <td>-0.085311</td>\n",
       "    </tr>\n",
       "  </tbody>\n",
       "</table>\n",
       "</div>"
      ],
      "text/plain": [
       "            series_1  series_2  series_3  series_4  series_5  series_6  \\\n",
       "2021-12-26       NaN       NaN       NaN       NaN       NaN       NaN   \n",
       "2021-12-27  1.764491 -2.015992  0.500346  2.835097  0.906547  2.672527   \n",
       "2021-12-28 -1.882484  2.266741 -0.538605 -1.759172 -0.209785 -0.912942   \n",
       "2021-12-29 -0.043450 -2.225327  0.388344  0.203108  0.611531  0.064906   \n",
       "2021-12-30  2.379408 -0.207626  0.143539 -1.197654 -0.570224  1.674584   \n",
       "2021-12-31 -2.574443 -1.376949 -0.710126  0.332241  2.095367 -1.336444   \n",
       "\n",
       "            series_7  series_8  series_9  series_10  \n",
       "2021-12-26       NaN       NaN       NaN        NaN  \n",
       "2021-12-27 -0.587551  0.802951 -0.128567   1.662249  \n",
       "2021-12-28  1.280256 -2.749229  1.325683  -0.672648  \n",
       "2021-12-29 -3.976492  1.197661 -2.788776   2.189782  \n",
       "2021-12-30  1.133102 -0.379131  0.911555  -1.373248  \n",
       "2021-12-31  1.786230  1.666234 -0.968743  -0.085311  "
      ]
     },
     "execution_count": 28,
     "metadata": {},
     "output_type": "execute_result"
    }
   ],
   "source": [
    "forecaster._create_predict_inputs_new(steps=5, levels=None, last_window=None, exog=None)[0]"
   ]
  },
  {
   "cell_type": "code",
   "execution_count": 29,
   "metadata": {},
   "outputs": [
    {
     "data": {
      "text/plain": [
       "{'series_1': array([        nan,  1.76449101, -1.8824843 , -0.04345037,  2.37940779,\n",
       "        -2.57444287]),\n",
       " 'series_2': array([        nan, -2.01599217,  2.26674075, -2.22532696, -0.20762575,\n",
       "        -1.37694901]),\n",
       " 'series_3': array([        nan,  0.50034638, -0.53860489,  0.38834378,  0.14353922,\n",
       "        -0.71012572]),\n",
       " 'series_4': array([        nan,  2.83509741, -1.75917227,  0.20310842, -1.19765425,\n",
       "         0.33224091]),\n",
       " 'series_5': array([        nan,  0.90654676, -0.20978491,  0.61153134, -0.57022371,\n",
       "         2.09536746]),\n",
       " 'series_6': array([        nan,  2.67252743, -0.91294244,  0.06490637,  1.67458375,\n",
       "        -1.33644439]),\n",
       " 'series_7': array([        nan, -0.58755089,  1.28025569, -3.97649202,  1.13310236,\n",
       "         1.78623031]),\n",
       " 'series_8': array([        nan,  0.80295136, -2.74922881,  1.19766088, -0.37913127,\n",
       "         1.66623425]),\n",
       " 'series_9': array([        nan, -0.12856697,  1.3256835 , -2.78877645,  0.91155492,\n",
       "        -0.96874323]),\n",
       " 'series_10': array([        nan,  1.66224941, -0.67264755,  2.18978248, -1.37324846,\n",
       "        -0.08531102])}"
      ]
     },
     "execution_count": 29,
     "metadata": {},
     "output_type": "execute_result"
    }
   ],
   "source": [
    "forecaster._create_predict_inputs(steps=5, levels=None, last_window=None, exog=None)[0]"
   ]
  },
  {
   "cell_type": "code",
   "execution_count": 24,
   "metadata": {},
   "outputs": [
    {
     "name": "stdout",
     "output_type": "stream",
     "text": [
      "Mean time: 0.04043924000288825 , std: 0.0035832025703343793, max: 0.04576779999479186, min: 0.036055500007933006\n",
      "Mean time: 0.01889563999720849 , std: 0.001906353063487209, max: 0.020398299995576963, min: 0.015139499999349937\n"
     ]
    }
   ],
   "source": [
    "import timeit\n",
    "\n",
    "def benchmark_function():\n",
    "    forecaster.predict(steps=5)\n",
    "times = timeit.repeat(benchmark_function, repeat=5, number=1)\n",
    "times = np.array(times)\n",
    "print(f\"Mean time: {times.mean()} , std: {times.std()}, max: {times.max()}, min: {times.min()}\")\n",
    "\n",
    "def benchmark_function():\n",
    "    forecaster.predict_new(steps=5)\n",
    "times = timeit.repeat(benchmark_function, repeat=5, number=1)\n",
    "times = np.array(times)\n",
    "print(f\"Mean time: {times.mean()} , std: {times.std()}, max: {times.max()}, min: {times.min()}\")"
   ]
  },
  {
   "cell_type": "code",
   "execution_count": 25,
   "metadata": {},
   "outputs": [],
   "source": [
    "assert forecaster.predict(steps=5).equals(forecaster.predict_new(steps=5))"
   ]
  },
  {
   "cell_type": "code",
   "execution_count": null,
   "metadata": {},
   "outputs": [],
   "source": []
  }
 ],
 "metadata": {
  "kernelspec": {
   "display_name": "skforecast_py10",
   "language": "python",
   "name": "python3"
  },
  "language_info": {
   "codemirror_mode": {
    "name": "ipython",
    "version": 3
   },
   "file_extension": ".py",
   "mimetype": "text/x-python",
   "name": "python",
   "nbconvert_exporter": "python",
   "pygments_lexer": "ipython3",
   "version": "3.12.4"
  },
  "orig_nbformat": 4,
  "vscode": {
   "interpreter": {
    "hash": "c78d62c1713fdacd99ef7c429003c7324b36fbb551fb8b6860a7ea73e9338235"
   }
  }
 },
 "nbformat": 4,
 "nbformat_minor": 2
}
