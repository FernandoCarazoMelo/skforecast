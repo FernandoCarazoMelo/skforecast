{
 "cells": [
  {
   "cell_type": "code",
   "execution_count": 1,
   "metadata": {},
   "outputs": [
    {
     "data": {
      "text/plain": [
       "'c:\\\\Users\\\\jaesc2\\\\GitHub\\\\skforecast'"
      ]
     },
     "execution_count": 1,
     "metadata": {},
     "output_type": "execute_result"
    }
   ],
   "source": [
    "%load_ext autoreload\n",
    "%autoreload 2\n",
    "import sys\n",
    "from pathlib import Path\n",
    "sys.path.insert(1, str(Path.cwd().parent))\n",
    "str(Path.cwd().parent)"
   ]
  },
  {
   "cell_type": "code",
   "execution_count": 2,
   "metadata": {},
   "outputs": [],
   "source": [
    "# Libraries\n",
    "# ==============================================================================\n",
    "import numpy as np\n",
    "import pandas as pd\n",
    "import matplotlib.pyplot as plt\n",
    "from sklearn.preprocessing import StandardScaler\n",
    "from sklearn.preprocessing import MinMaxScaler\n",
    "from sklearn.compose import ColumnTransformer\n",
    "from sklearn.preprocessing import OneHotEncoder\n",
    "from lightgbm import LGBMRegressor\n",
    "from sklearn.metrics import mean_absolute_error\n",
    "\n",
    "from skforecast.datasets import fetch_dataset\n",
    "from skforecast.ForecasterAutoregMultiSeries import ForecasterAutoregMultiSeries\n",
    "from skforecast.model_selection_multiseries import backtesting_forecaster_multiseries\n",
    "from skforecast.model_selection_multiseries import grid_search_forecaster_multiseries\n",
    "from skforecast.model_selection_multiseries import bayesian_search_forecaster_multiseries\n",
    "\n",
    "\n",
    "# Data download\n",
    "# ==============================================================================\n",
    "#data = fetch_dataset(name=\"items_sales\")\n",
    "#data.to_parquet('items_sales.parquet', index=True)\n",
    "data = pd.read_parquet('items_sales.parquet')\n",
    "data = data.asfreq('D')\n",
    "data.head()\n",
    "exog = pd.DataFrame({\n",
    "    'exog_1': np.random.normal(loc=0, scale=1, size=data.shape[0]),\n",
    "    'exog_2': np.random.normal(loc=0, scale=1, size=data.shape[0]),\n",
    "    # 'exog_3': (['A'] * int(data.shape[0] / 2) + ['B'] * int(data.shape[0] / 2 + 1)),\n",
    "}, index=data.index)\n",
    "\n",
    "end_train = '2014-07-15 23:59:00'\n",
    "data_train = data.loc[:end_train, :].copy()\n",
    "data_test  = data.loc[end_train:, :].copy()\n",
    "\n",
    "transformer_exog = ColumnTransformer(\n",
    "                        [('scale', StandardScaler(), ['exog_1', 'exog_2']),\n",
    "                        ('onehot', OneHotEncoder(), ['exog_3'])],\n",
    "                        remainder = 'passthrough',\n",
    "                        verbose_feature_names_out = False\n",
    "                    )\n",
    "\n",
    "# Create and train ForecasterAutoregMultiSeries\n",
    "# ==============================================================================\n",
    "forecaster = ForecasterAutoregMultiSeries(\n",
    "                 regressor          = LGBMRegressor(random_state=123, verbose=-1),\n",
    "                 lags               = [1, 5],\n",
    "                 encoding           = 'onehot',\n",
    "                 transformer_series = StandardScaler(),\n",
    "                 transformer_exog   = None,\n",
    "                 weight_func        = None,\n",
    "                 series_weights     = None,\n",
    "                 differentiation    = None,\n",
    "                 dropna_from_series = False,\n",
    "                 fit_kwargs         = None,\n",
    "                 forecaster_id      = None\n",
    "             )\n",
    "\n",
    "forecaster.fit(series=data_train, exog=exog.loc[data_train.index])"
   ]
  },
  {
   "cell_type": "code",
   "execution_count": 3,
   "metadata": {},
   "outputs": [],
   "source": [
    "last_window, exog_values_dict, levels, prediction_index, residuals = (\n",
    "    forecaster._create_predict_inputs_new(steps=2, exog=exog.loc[data_test.index])\n",
    ")"
   ]
  },
  {
   "cell_type": "code",
   "execution_count": 4,
   "metadata": {},
   "outputs": [
    {
     "data": {
      "text/html": [
       "<div>\n",
       "<style scoped>\n",
       "    .dataframe tbody tr th:only-of-type {\n",
       "        vertical-align: middle;\n",
       "    }\n",
       "\n",
       "    .dataframe tbody tr th {\n",
       "        vertical-align: top;\n",
       "    }\n",
       "\n",
       "    .dataframe thead th {\n",
       "        text-align: right;\n",
       "    }\n",
       "</style>\n",
       "<table border=\"1\" class=\"dataframe\">\n",
       "  <thead>\n",
       "    <tr style=\"text-align: right;\">\n",
       "      <th></th>\n",
       "      <th>series</th>\n",
       "      <th>exog_1</th>\n",
       "      <th>exog_2</th>\n",
       "      <th>exog_3</th>\n",
       "    </tr>\n",
       "  </thead>\n",
       "  <tbody>\n",
       "    <tr>\n",
       "      <th>2020-01-01</th>\n",
       "      <td>-0.666854</td>\n",
       "      <td>-1.436774</td>\n",
       "      <td>1.893450</td>\n",
       "      <td>A</td>\n",
       "    </tr>\n",
       "    <tr>\n",
       "      <th>2020-01-02</th>\n",
       "      <td>-0.733807</td>\n",
       "      <td>-1.209973</td>\n",
       "      <td>-0.344568</td>\n",
       "      <td>A</td>\n",
       "    </tr>\n",
       "    <tr>\n",
       "      <th>2020-01-03</th>\n",
       "      <td>1.351580</td>\n",
       "      <td>0.596933</td>\n",
       "      <td>0.012947</td>\n",
       "      <td>A</td>\n",
       "    </tr>\n",
       "    <tr>\n",
       "      <th>2020-01-04</th>\n",
       "      <td>0.003248</td>\n",
       "      <td>-0.301152</td>\n",
       "      <td>-1.177887</td>\n",
       "      <td>A</td>\n",
       "    </tr>\n",
       "    <tr>\n",
       "      <th>2020-01-05</th>\n",
       "      <td>1.287025</td>\n",
       "      <td>-1.155264</td>\n",
       "      <td>1.792421</td>\n",
       "      <td>A</td>\n",
       "    </tr>\n",
       "    <tr>\n",
       "      <th>2020-01-06</th>\n",
       "      <td>-1.445481</td>\n",
       "      <td>0.527890</td>\n",
       "      <td>-1.305115</td>\n",
       "      <td>B</td>\n",
       "    </tr>\n",
       "    <tr>\n",
       "      <th>2020-01-07</th>\n",
       "      <td>-1.117211</td>\n",
       "      <td>-1.749041</td>\n",
       "      <td>0.019879</td>\n",
       "      <td>B</td>\n",
       "    </tr>\n",
       "    <tr>\n",
       "      <th>2020-01-08</th>\n",
       "      <td>1.157582</td>\n",
       "      <td>-0.447523</td>\n",
       "      <td>0.229614</td>\n",
       "      <td>B</td>\n",
       "    </tr>\n",
       "    <tr>\n",
       "      <th>2020-01-09</th>\n",
       "      <td>1.213744</td>\n",
       "      <td>-0.407021</td>\n",
       "      <td>1.049825</td>\n",
       "      <td>B</td>\n",
       "    </tr>\n",
       "    <tr>\n",
       "      <th>2020-01-10</th>\n",
       "      <td>0.155931</td>\n",
       "      <td>-1.495649</td>\n",
       "      <td>-0.340978</td>\n",
       "      <td>B</td>\n",
       "    </tr>\n",
       "  </tbody>\n",
       "</table>\n",
       "</div>"
      ],
      "text/plain": [
       "              series    exog_1    exog_2 exog_3\n",
       "2020-01-01 -0.666854 -1.436774  1.893450      A\n",
       "2020-01-02 -0.733807 -1.209973 -0.344568      A\n",
       "2020-01-03  1.351580  0.596933  0.012947      A\n",
       "2020-01-04  0.003248 -0.301152 -1.177887      A\n",
       "2020-01-05  1.287025 -1.155264  1.792421      A\n",
       "2020-01-06 -1.445481  0.527890 -1.305115      B\n",
       "2020-01-07 -1.117211 -1.749041  0.019879      B\n",
       "2020-01-08  1.157582 -0.447523  0.229614      B\n",
       "2020-01-09  1.213744 -0.407021  1.049825      B\n",
       "2020-01-10  0.155931 -1.495649 -0.340978      B"
      ]
     },
     "execution_count": 4,
     "metadata": {},
     "output_type": "execute_result"
    }
   ],
   "source": [
    "# create sample DataFrame\n",
    "# ==============================================================================\n",
    "df = pd.DataFrame({\n",
    "    'series': np.random.normal(loc=0, scale=1, size=10),\n",
    "    'exog_1': np.random.normal(loc=0, scale=1, size=10),\n",
    "    'exog_2': np.random.normal(loc=0, scale=1, size=10),\n",
    "    'exog_3': (['A'] * 5 + ['B'] * 5),\n",
    "}, index=pd.date_range(start='2020-01-01', periods=10, freq='D'))\n",
    "df"
   ]
  },
  {
   "cell_type": "code",
   "execution_count": 5,
   "metadata": {},
   "outputs": [
    {
     "data": {
      "text/plain": [
       "array([[-0.6668540721965589, -1.4367735373685158, 1.893449528243407, 'A'],\n",
       "       [-0.7338068695031076, -1.2099733335032965, -0.3445679772214376,\n",
       "        'A'],\n",
       "       [1.3515801136612737, 0.5969327451348766, 0.012947296294516275,\n",
       "        'A'],\n",
       "       [0.003248452986988212, -0.3011518145437802, -1.1778868397491524,\n",
       "        'A'],\n",
       "       [1.287024537513369, -1.1552641368760248, 1.7924212374777957, 'A'],\n",
       "       [-1.4454805780216438, 0.5278896515944603, -1.3051149776763384,\n",
       "        'B'],\n",
       "       [-1.1172110715526042, -1.749040707888334, 0.019879024489918726,\n",
       "        'B'],\n",
       "       [1.1575824387882823, -0.44752289990589117, 0.22961353297568346,\n",
       "        'B'],\n",
       "       [1.2137444790208047, -0.4070206811778494, 1.0498249148728203, 'B'],\n",
       "       [0.15593085313263452, -1.4956487424474096, -0.3409775531011584,\n",
       "        'B'],\n",
       "       [nan, nan, nan, nan],\n",
       "       [nan, nan, nan, nan]], dtype=object)"
      ]
     },
     "execution_count": 5,
     "metadata": {},
     "output_type": "execute_result"
    }
   ],
   "source": [
    "predictions = np.full(shape=(2, 4), fill_value=np.nan, dtype=float)\n",
    "np.concatenate((df, predictions), axis=0)"
   ]
  },
  {
   "cell_type": "code",
   "execution_count": 6,
   "metadata": {},
   "outputs": [
    {
     "ename": "TypeError",
     "evalue": "ForecasterAutoregMultiSeries._recursive_predict_new() got an unexpected keyword argument 'exog'",
     "output_type": "error",
     "traceback": [
      "\u001b[1;31m---------------------------------------------------------------------------\u001b[0m",
      "\u001b[1;31mTypeError\u001b[0m                                 Traceback (most recent call last)",
      "Cell \u001b[1;32mIn[6], line 1\u001b[0m\n\u001b[1;32m----> 1\u001b[0m _ \u001b[38;5;241m=\u001b[39m \u001b[43mforecaster\u001b[49m\u001b[38;5;241;43m.\u001b[39;49m\u001b[43m_recursive_predict_new\u001b[49m\u001b[43m(\u001b[49m\n\u001b[0;32m      2\u001b[0m \u001b[43m    \u001b[49m\u001b[43msteps\u001b[49m\u001b[38;5;241;43m=\u001b[39;49m\u001b[38;5;241;43m2\u001b[39;49m\u001b[43m,\u001b[49m\n\u001b[0;32m      3\u001b[0m \u001b[43m    \u001b[49m\u001b[43mlevels\u001b[49m\u001b[38;5;241;43m=\u001b[39;49m\u001b[43mlevels\u001b[49m\u001b[43m,\u001b[49m\n\u001b[0;32m      4\u001b[0m \u001b[43m    \u001b[49m\u001b[43mlast_window\u001b[49m\u001b[38;5;241;43m=\u001b[39;49m\u001b[43mlast_window\u001b[49m\u001b[43m,\u001b[49m\n\u001b[0;32m      5\u001b[0m \u001b[43m    \u001b[49m\u001b[43mexog\u001b[49m\u001b[38;5;241;43m=\u001b[39;49m\u001b[43mexog_values_dict\u001b[49m\n\u001b[0;32m      6\u001b[0m \u001b[43m)\u001b[49m\n",
      "\u001b[1;31mTypeError\u001b[0m: ForecasterAutoregMultiSeries._recursive_predict_new() got an unexpected keyword argument 'exog'"
     ]
    }
   ],
   "source": [
    "_ = forecaster._recursive_predict_new(\n",
    "    steps=2,\n",
    "    levels=levels,\n",
    "    last_window=last_window,\n",
    "    exog=exog_values_dict\n",
    ")"
   ]
  },
  {
   "cell_type": "code",
   "execution_count": 42,
   "metadata": {},
   "outputs": [
    {
     "data": {
      "text/plain": [
       "{1: array([[-1.16086064,  1.13869053],\n",
       "        [-1.16086064,  1.13869053],\n",
       "        [-1.16086064,  1.13869053]]),\n",
       " 2: array([[ 1.14521952, -0.02551577],\n",
       "        [ 1.14521952, -0.02551577],\n",
       "        [ 1.14521952, -0.02551577]]),\n",
       " 3: array([[-0.45105887, -0.73163628],\n",
       "        [-0.45105887, -0.73163628],\n",
       "        [-0.45105887, -0.73163628]]),\n",
       " 4: array([[0.73607151, 0.10636474],\n",
       "        [0.73607151, 0.10636474],\n",
       "        [0.73607151, 0.10636474]]),\n",
       " 5: array([[1.23016068, 2.58262341],\n",
       "        [1.23016068, 2.58262341],\n",
       "        [1.23016068, 2.58262341]])}"
      ]
     },
     "execution_count": 42,
     "metadata": {},
     "output_type": "execute_result"
    }
   ],
   "source": [
    "forecaster._create_predict_inputs_new(steps=5, exog=exog.loc[data_test.index])[1]"
   ]
  },
  {
   "cell_type": "code",
   "execution_count": 30,
   "metadata": {},
   "outputs": [
    {
     "data": {
      "text/plain": [
       "{1: array([[99., 99.],\n",
       "        [99., 99.]]),\n",
       " 2: array([[999., 999.],\n",
       "        [999., 999.]])}"
      ]
     },
     "execution_count": 30,
     "metadata": {},
     "output_type": "execute_result"
    }
   ],
   "source": [
    "levels = ['item_1', 'item_2', 'item_3']\n",
    "n_levels = len(levels)\n",
    "lags = np.array([1, 2, 3, 4, 5])\n",
    "steps = 2\n",
    "lags_shape = len(lags)\n",
    "exog_shape = 2\n",
    "encoding = 'onehot'\n",
    "series_col_names = levels\n",
    "encoding_mapping = {'item_1': 0, 'item_2': 1, 'item_3': 2}\n",
    "# Exog es un diccionario donde las claves son el step y los son numpy arrays en los\n",
    "# que cada fila es un level y cada columna es una variable exogena.\n",
    "exog = {\n",
    "    1:np.full(shape=(steps, exog_shape), fill_value=99, dtype=float),\n",
    "    2:np.full(shape=(steps, exog_shape), fill_value=999, dtype=float),\n",
    "}\n",
    "exog"
   ]
  },
  {
   "cell_type": "code",
   "execution_count": null,
   "metadata": {},
   "outputs": [],
   "source": []
  },
  {
   "cell_type": "code",
   "execution_count": 4,
   "metadata": {},
   "outputs": [
    {
     "data": {
      "text/plain": [
       "array([[1., 0., 0.],\n",
       "       [0., 1., 0.],\n",
       "       [0., 0., 1.]])"
      ]
     },
     "execution_count": 4,
     "metadata": {},
     "output_type": "execute_result"
    }
   ],
   "source": [
    "if encoding is not None:\n",
    "    if encoding == 'onehot':\n",
    "        levels_encoded = np.zeros((n_levels, len(series_col_names)), dtype=float)\n",
    "        for idx, level in enumerate(levels):\n",
    "            if level in series_col_names:\n",
    "                levels_encoded[idx, series_col_names.index(level)] = 1.\n",
    "    else:\n",
    "        levels_encoded = np.array([encoding_mapping.get(level, None) for level in levels], dtype='float64').reshape(-1, 1)\n",
    "    levels_encoded_shape = levels_encoded.shape[1]\n",
    "else:\n",
    "    levels_encoded_shape = 0\n",
    "levels_encoded"
   ]
  },
  {
   "cell_type": "code",
   "execution_count": 52,
   "metadata": {},
   "outputs": [
    {
     "name": "stdout",
     "output_type": "stream",
     "text": [
      "[[5. 5. 5.]\n",
      " [5. 5. 5.]\n",
      " [5. 5. 5.]\n",
      " [5. 5. 5.]\n",
      " [5. 5. 5.]]\n",
      "[[nan nan nan]\n",
      " [nan nan nan]]\n"
     ]
    },
    {
     "data": {
      "text/plain": [
       "array([[ 5.,  5.,  5.],\n",
       "       [ 5.,  5.,  5.],\n",
       "       [ 5.,  5.,  5.],\n",
       "       [ 5.,  5.,  5.],\n",
       "       [ 5.,  5.,  5.],\n",
       "       [nan, nan, nan],\n",
       "       [nan, nan, nan]])"
      ]
     },
     "execution_count": 52,
     "metadata": {},
     "output_type": "execute_result"
    }
   ],
   "source": [
    "last_window = np.full(shape=(lags_shape, n_levels), fill_value=5, dtype=float)\n",
    "predictions = np.full(shape=(steps, n_levels), fill_value=np.nan, dtype=float)\n",
    "print(last_window)\n",
    "print(predictions)\n",
    "last_window = np.concatenate((last_window, predictions), axis=0)\n",
    "last_window"
   ]
  },
  {
   "cell_type": "code",
   "execution_count": 6,
   "metadata": {},
   "outputs": [
    {
     "data": {
      "text/plain": [
       "array([[nan, nan, nan, nan, nan, nan, nan, nan, nan, nan],\n",
       "       [nan, nan, nan, nan, nan, nan, nan, nan, nan, nan],\n",
       "       [nan, nan, nan, nan, nan, nan, nan, nan, nan, nan]])"
      ]
     },
     "execution_count": 6,
     "metadata": {},
     "output_type": "execute_result"
    }
   ],
   "source": [
    "features_shape = lags_shape + levels_encoded_shape + exog_shape\n",
    "features = np.full(shape=(n_levels, features_shape), fill_value=np.nan, dtype=float)\n",
    "features"
   ]
  },
  {
   "cell_type": "code",
   "execution_count": 7,
   "metadata": {},
   "outputs": [
    {
     "data": {
      "text/plain": [
       "array([[nan, nan, nan, nan, nan,  1.,  0.,  0., nan, nan],\n",
       "       [nan, nan, nan, nan, nan,  0.,  1.,  0., nan, nan],\n",
       "       [nan, nan, nan, nan, nan,  0.,  0.,  1., nan, nan]])"
      ]
     },
     "execution_count": 7,
     "metadata": {},
     "output_type": "execute_result"
    }
   ],
   "source": [
    "if encoding is not None:\n",
    "    features[:, lags_shape:lags_shape + levels_encoded_shape] = levels_encoded\n",
    "features"
   ]
  },
  {
   "cell_type": "code",
   "execution_count": 8,
   "metadata": {},
   "outputs": [
    {
     "data": {
      "text/plain": [
       "array([[ 5.,  5.,  5.,  5.,  5.,  1.,  0.,  0., nan, nan],\n",
       "       [ 5.,  5.,  5.,  5.,  5.,  0.,  1.,  0., nan, nan],\n",
       "       [ 5.,  5.,  5.,  5.,  5.,  0.,  0.,  1., nan, nan]])"
      ]
     },
     "execution_count": 8,
     "metadata": {},
     "output_type": "execute_result"
    }
   ],
   "source": [
    "step = 1\n",
    "i = 0\n",
    "features[:, :lags_shape] = last_window[-lags - (steps - i), :].transpose()\n",
    "features\n"
   ]
  },
  {
   "cell_type": "code",
   "execution_count": 9,
   "metadata": {},
   "outputs": [
    {
     "data": {
      "text/plain": [
       "array([[ 5.,  5.,  5.,  5.,  5.,  1.,  0.,  0., 99., 99.],\n",
       "       [ 5.,  5.,  5.,  5.,  5.,  0.,  1.,  0., 99., 99.],\n",
       "       [ 5.,  5.,  5.,  5.,  5.,  0.,  0.,  1., 99., 99.]])"
      ]
     },
     "execution_count": 9,
     "metadata": {},
     "output_type": "execute_result"
    }
   ],
   "source": [
    "if exog is not None:\n",
    "    features[:, -exog_shape:] = exog[step][i, ].transpose()\n",
    "features"
   ]
  },
  {
   "cell_type": "code",
   "execution_count": 10,
   "metadata": {},
   "outputs": [
    {
     "data": {
      "text/plain": [
       "array([[nan, nan, nan],\n",
       "       [nan, nan, nan]])"
      ]
     },
     "execution_count": 10,
     "metadata": {},
     "output_type": "execute_result"
    }
   ],
   "source": [
    "predictions"
   ]
  },
  {
   "cell_type": "code",
   "execution_count": 11,
   "metadata": {},
   "outputs": [
    {
     "data": {
      "text/plain": [
       "array([1.7669726 , 1.84544141, 1.79877931])"
      ]
     },
     "execution_count": 11,
     "metadata": {},
     "output_type": "execute_result"
    }
   ],
   "source": [
    "pred = forecaster.regressor.predict(features)\n",
    "pred"
   ]
  },
  {
   "cell_type": "code",
   "execution_count": 12,
   "metadata": {},
   "outputs": [
    {
     "data": {
      "text/plain": [
       "array([[1.7669726 , 1.84544141, 1.79877931],\n",
       "       [       nan,        nan,        nan]])"
      ]
     },
     "execution_count": 12,
     "metadata": {},
     "output_type": "execute_result"
    }
   ],
   "source": [
    "predictions[i, :] = pred\n",
    "predictions"
   ]
  },
  {
   "cell_type": "code",
   "execution_count": 13,
   "metadata": {},
   "outputs": [
    {
     "data": {
      "text/plain": [
       "array([[ 5.,  5.,  5.],\n",
       "       [ 5.,  5.,  5.],\n",
       "       [ 5.,  5.,  5.],\n",
       "       [ 5.,  5.,  5.],\n",
       "       [ 5.,  5.,  5.],\n",
       "       [nan, nan, nan],\n",
       "       [nan, nan, nan]])"
      ]
     },
     "execution_count": 13,
     "metadata": {},
     "output_type": "execute_result"
    }
   ],
   "source": [
    "last_window"
   ]
  },
  {
   "cell_type": "code",
   "execution_count": 14,
   "metadata": {},
   "outputs": [
    {
     "data": {
      "text/plain": [
       "array([[5.        , 5.        , 5.        ],\n",
       "       [5.        , 5.        , 5.        ],\n",
       "       [5.        , 5.        , 5.        ],\n",
       "       [5.        , 5.        , 5.        ],\n",
       "       [5.        , 5.        , 5.        ],\n",
       "       [1.7669726 , 1.84544141, 1.79877931],\n",
       "       [       nan,        nan,        nan]])"
      ]
     },
     "execution_count": 14,
     "metadata": {},
     "output_type": "execute_result"
    }
   ],
   "source": [
    "last_window[-(steps - i), :] = pred\n",
    "last_window"
   ]
  },
  {
   "cell_type": "code",
   "execution_count": 15,
   "metadata": {},
   "outputs": [],
   "source": [
    "# data = fetch_dataset(name=\"items_sales\")\n",
    "# data.to_parquet('items_sales_2.parquet', index=True)\n",
    "data = pd.read_parquet(\"items_sales_2.parquet\")\n",
    "data = data.asfreq(\"D\")\n",
    "data.head()\n",
    "exog = pd.DataFrame(\n",
    "    {\n",
    "        \"exog_1\": np.random.normal(loc=0, scale=1, size=data.shape[0]),\n",
    "        \"exog_2\": np.random.normal(loc=0, scale=1, size=data.shape[0]),\n",
    "    },\n",
    "    index=data.index,\n",
    ")\n",
    "\n",
    "end_train = \"2014-07-15 23:59:00\"\n",
    "data_train = data.loc[:end_train, :].copy()\n",
    "data_test = data.loc[end_train:, :].copy()\n",
    "\n",
    "forecaster.fit(series=data_train, exog=exog.loc[data_train.index])\n",
    "\n",
    "(last_window_values_dict, exog_values_dict, levels, prediction_index, _) = (\n",
    "    forecaster._create_predict_inputs(\n",
    "        steps=2, levels=None, last_window=None, exog=exog.loc[data_test.index]\n",
    "    )\n",
    ")"
   ]
  },
  {
   "cell_type": "code",
   "execution_count": 16,
   "metadata": {},
   "outputs": [
    {
     "data": {
      "text/plain": [
       "{'item_1': array([[-0.90467518,  1.57613029],\n",
       "        [-0.84942286,  0.36144276]]),\n",
       " 'item_2': array([[-0.90467518,  1.57613029],\n",
       "        [-0.84942286,  0.36144276]]),\n",
       " 'item_3': array([[-0.90467518,  1.57613029],\n",
       "        [-0.84942286,  0.36144276]])}"
      ]
     },
     "execution_count": 16,
     "metadata": {},
     "output_type": "execute_result"
    }
   ],
   "source": [
    "exog_values_dict"
   ]
  },
  {
   "cell_type": "code",
   "execution_count": 17,
   "metadata": {},
   "outputs": [
    {
     "ename": "AttributeError",
     "evalue": "module 'numpy' has no attribute 'concat'",
     "output_type": "error",
     "traceback": [
      "\u001b[1;31m---------------------------------------------------------------------------\u001b[0m",
      "\u001b[1;31mAttributeError\u001b[0m                            Traceback (most recent call last)",
      "Cell \u001b[1;32mIn[17], line 1\u001b[0m\n\u001b[1;32m----> 1\u001b[0m exog_values \u001b[38;5;241m=\u001b[39m \u001b[43mnp\u001b[49m\u001b[38;5;241;43m.\u001b[39;49m\u001b[43mconcat\u001b[49m(\u001b[38;5;28mlist\u001b[39m(exog_values_dict\u001b[38;5;241m.\u001b[39mvalues()))\n\u001b[0;32m      2\u001b[0m exog_values\n",
      "File \u001b[1;32mc:\\Users\\jaesc2\\Miniconda3\\envs\\skforecast_py12\\Lib\\site-packages\\numpy\\__init__.py:347\u001b[0m, in \u001b[0;36m__getattr__\u001b[1;34m(attr)\u001b[0m\n\u001b[0;32m    344\u001b[0m     \u001b[38;5;124m\"\u001b[39m\u001b[38;5;124mRemoved in NumPy 1.25.0\u001b[39m\u001b[38;5;124m\"\u001b[39m\n\u001b[0;32m    345\u001b[0m     \u001b[38;5;28;01mraise\u001b[39;00m \u001b[38;5;167;01mRuntimeError\u001b[39;00m(\u001b[38;5;124m\"\u001b[39m\u001b[38;5;124mTester was removed in NumPy 1.25.\u001b[39m\u001b[38;5;124m\"\u001b[39m)\n\u001b[1;32m--> 347\u001b[0m \u001b[38;5;28;01mraise\u001b[39;00m \u001b[38;5;167;01mAttributeError\u001b[39;00m(\u001b[38;5;124m\"\u001b[39m\u001b[38;5;124mmodule \u001b[39m\u001b[38;5;132;01m{!r}\u001b[39;00m\u001b[38;5;124m has no attribute \u001b[39m\u001b[38;5;124m\"\u001b[39m\n\u001b[0;32m    348\u001b[0m                      \u001b[38;5;124m\"\u001b[39m\u001b[38;5;132;01m{!r}\u001b[39;00m\u001b[38;5;124m\"\u001b[39m\u001b[38;5;241m.\u001b[39mformat(\u001b[38;5;18m__name__\u001b[39m, attr))\n",
      "\u001b[1;31mAttributeError\u001b[0m: module 'numpy' has no attribute 'concat'"
     ]
    }
   ],
   "source": [
    "exog_values = np.concat(list(exog_values_dict.values()))\n",
    "exog_values"
   ]
  },
  {
   "cell_type": "code",
   "execution_count": null,
   "metadata": {},
   "outputs": [
    {
     "data": {
      "text/plain": [
       "{1: array([[-0.18765452, -0.87008195],\n",
       "        [-0.18765452, -0.87008195],\n",
       "        [-0.18765452, -0.87008195]]),\n",
       " 2: array([[0.43221017, 0.4456721 ],\n",
       "        [0.43221017, 0.4456721 ],\n",
       "        [0.43221017, 0.4456721 ]])}"
      ]
     },
     "execution_count": 73,
     "metadata": {},
     "output_type": "execute_result"
    }
   ],
   "source": [
    "exog_values_dict_2 = {}\n",
    "for i in range(steps):\n",
    "    exog_values_dict_2[i+1] = exog_values[i::steps, :]\n",
    "exog_values_dict_2\n",
    "    "
   ]
  },
  {
   "cell_type": "code",
   "execution_count": null,
   "metadata": {},
   "outputs": [],
   "source": [
    "predictions_old = forecaster.predict(steps=50, exog=exog.loc[data_test.index])\n",
    "predictions_new = forecaster.predict_new(steps=50, exog=exog.loc[data_test.index])\n",
    "assert predictions_old.equals(predictions_new)"
   ]
  },
  {
   "cell_type": "markdown",
   "metadata": {},
   "source": [
    "## Benchmark"
   ]
  },
  {
   "cell_type": "code",
   "execution_count": 8,
   "metadata": {},
   "outputs": [
    {
     "name": "stdout",
     "output_type": "stream",
     "text": [
      "Data shape: (365, 10)\n"
     ]
    }
   ],
   "source": [
    "n_series = 10\n",
    "n=365\n",
    "index = pd.date_range(start='2021-01-01',periods=n, freq=\"D\")\n",
    "series = [pd.Series(np.random.normal(size=n), index=index, name=f\"series_{i+1}\") for i in range(n_series)]\n",
    "data = pd.concat(series, axis=1)\n",
    "print(f\"Data shape: {data.shape}\")\n",
    "\n",
    "\n",
    "forecaster = ForecasterAutoregMultiSeries(\n",
    "                 regressor          = LGBMRegressor(random_state=123, verbose=-1, n_estimators=20),\n",
    "                 lags               = 5,\n",
    "                 encoding           = 'onehot',\n",
    "                 transformer_series = StandardScaler(),\n",
    "                 differentiation    = 1,\n",
    "             )\n",
    "forecaster.fit(series = data)"
   ]
  },
  {
   "cell_type": "code",
   "execution_count": 9,
   "metadata": {},
   "outputs": [
    {
     "data": {
      "text/html": [
       "<div>\n",
       "<style scoped>\n",
       "    .dataframe tbody tr th:only-of-type {\n",
       "        vertical-align: middle;\n",
       "    }\n",
       "\n",
       "    .dataframe tbody tr th {\n",
       "        vertical-align: top;\n",
       "    }\n",
       "\n",
       "    .dataframe thead th {\n",
       "        text-align: right;\n",
       "    }\n",
       "</style>\n",
       "<table border=\"1\" class=\"dataframe\">\n",
       "  <thead>\n",
       "    <tr style=\"text-align: right;\">\n",
       "      <th></th>\n",
       "      <th>series_1</th>\n",
       "      <th>series_2</th>\n",
       "      <th>series_3</th>\n",
       "      <th>series_4</th>\n",
       "      <th>series_5</th>\n",
       "      <th>series_6</th>\n",
       "      <th>series_7</th>\n",
       "      <th>series_8</th>\n",
       "      <th>series_9</th>\n",
       "      <th>series_10</th>\n",
       "    </tr>\n",
       "  </thead>\n",
       "  <tbody>\n",
       "    <tr>\n",
       "      <th>2021-12-26</th>\n",
       "      <td>NaN</td>\n",
       "      <td>NaN</td>\n",
       "      <td>NaN</td>\n",
       "      <td>NaN</td>\n",
       "      <td>NaN</td>\n",
       "      <td>NaN</td>\n",
       "      <td>NaN</td>\n",
       "      <td>NaN</td>\n",
       "      <td>NaN</td>\n",
       "      <td>NaN</td>\n",
       "    </tr>\n",
       "    <tr>\n",
       "      <th>2021-12-27</th>\n",
       "      <td>0.487551</td>\n",
       "      <td>-2.356213</td>\n",
       "      <td>-0.831330</td>\n",
       "      <td>0.453255</td>\n",
       "      <td>-1.076585</td>\n",
       "      <td>0.040146</td>\n",
       "      <td>0.659862</td>\n",
       "      <td>-2.538427</td>\n",
       "      <td>0.388393</td>\n",
       "      <td>1.037757</td>\n",
       "    </tr>\n",
       "    <tr>\n",
       "      <th>2021-12-28</th>\n",
       "      <td>-1.809225</td>\n",
       "      <td>1.570264</td>\n",
       "      <td>-1.089376</td>\n",
       "      <td>2.196489</td>\n",
       "      <td>-1.308448</td>\n",
       "      <td>-1.385764</td>\n",
       "      <td>-0.475214</td>\n",
       "      <td>-0.683102</td>\n",
       "      <td>-1.037519</td>\n",
       "      <td>-4.339165</td>\n",
       "    </tr>\n",
       "    <tr>\n",
       "      <th>2021-12-29</th>\n",
       "      <td>-0.305730</td>\n",
       "      <td>-1.154117</td>\n",
       "      <td>1.053818</td>\n",
       "      <td>-2.792496</td>\n",
       "      <td>2.222869</td>\n",
       "      <td>1.536936</td>\n",
       "      <td>0.902564</td>\n",
       "      <td>2.167814</td>\n",
       "      <td>0.951248</td>\n",
       "      <td>3.308403</td>\n",
       "    </tr>\n",
       "    <tr>\n",
       "      <th>2021-12-30</th>\n",
       "      <td>0.976394</td>\n",
       "      <td>0.149849</td>\n",
       "      <td>-0.641080</td>\n",
       "      <td>-0.108283</td>\n",
       "      <td>-2.644264</td>\n",
       "      <td>-1.769008</td>\n",
       "      <td>0.774342</td>\n",
       "      <td>-0.949039</td>\n",
       "      <td>-0.507695</td>\n",
       "      <td>-0.699486</td>\n",
       "    </tr>\n",
       "    <tr>\n",
       "      <th>2021-12-31</th>\n",
       "      <td>1.959613</td>\n",
       "      <td>1.298234</td>\n",
       "      <td>0.792547</td>\n",
       "      <td>0.107901</td>\n",
       "      <td>1.252684</td>\n",
       "      <td>0.933853</td>\n",
       "      <td>-2.795712</td>\n",
       "      <td>-0.733838</td>\n",
       "      <td>0.709666</td>\n",
       "      <td>-0.330176</td>\n",
       "    </tr>\n",
       "  </tbody>\n",
       "</table>\n",
       "</div>"
      ],
      "text/plain": [
       "            series_1  series_2  series_3  series_4  series_5  series_6  \\\n",
       "2021-12-26       NaN       NaN       NaN       NaN       NaN       NaN   \n",
       "2021-12-27  0.487551 -2.356213 -0.831330  0.453255 -1.076585  0.040146   \n",
       "2021-12-28 -1.809225  1.570264 -1.089376  2.196489 -1.308448 -1.385764   \n",
       "2021-12-29 -0.305730 -1.154117  1.053818 -2.792496  2.222869  1.536936   \n",
       "2021-12-30  0.976394  0.149849 -0.641080 -0.108283 -2.644264 -1.769008   \n",
       "2021-12-31  1.959613  1.298234  0.792547  0.107901  1.252684  0.933853   \n",
       "\n",
       "            series_7  series_8  series_9  series_10  \n",
       "2021-12-26       NaN       NaN       NaN        NaN  \n",
       "2021-12-27  0.659862 -2.538427  0.388393   1.037757  \n",
       "2021-12-28 -0.475214 -0.683102 -1.037519  -4.339165  \n",
       "2021-12-29  0.902564  2.167814  0.951248   3.308403  \n",
       "2021-12-30  0.774342 -0.949039 -0.507695  -0.699486  \n",
       "2021-12-31 -2.795712 -0.733838  0.709666  -0.330176  "
      ]
     },
     "execution_count": 9,
     "metadata": {},
     "output_type": "execute_result"
    }
   ],
   "source": [
    "forecaster._create_predict_inputs_new(steps=5, levels=None, last_window=None, exog=None)[0]"
   ]
  },
  {
   "cell_type": "code",
   "execution_count": 10,
   "metadata": {},
   "outputs": [
    {
     "data": {
      "text/plain": [
       "{'series_1': array([        nan,  0.48755142, -1.80922485, -0.30573044,  0.97639386,\n",
       "         1.95961329]),\n",
       " 'series_2': array([        nan, -2.35621326,  1.57026427, -1.15411683,  0.14984901,\n",
       "         1.29823392]),\n",
       " 'series_3': array([        nan, -0.83133045, -1.08937591,  1.05381769, -0.64107978,\n",
       "         0.79254667]),\n",
       " 'series_4': array([        nan,  0.45325508,  2.19648881, -2.79249597, -0.10828251,\n",
       "         0.10790121]),\n",
       " 'series_5': array([        nan, -1.07658462, -1.30844772,  2.22286942, -2.64426408,\n",
       "         1.25268428]),\n",
       " 'series_6': array([        nan,  0.04014555, -1.38576375,  1.53693558, -1.7690084 ,\n",
       "         0.93385291]),\n",
       " 'series_7': array([        nan,  0.65986166, -0.47521419,  0.90256409,  0.7743416 ,\n",
       "        -2.79571169]),\n",
       " 'series_8': array([        nan, -2.53842714, -0.6831017 ,  2.1678137 , -0.94903912,\n",
       "        -0.73383762]),\n",
       " 'series_9': array([        nan,  0.38839326, -1.0375193 ,  0.95124795, -0.50769477,\n",
       "         0.70966636]),\n",
       " 'series_10': array([        nan,  1.03775743, -4.33916478,  3.3084031 , -0.69948587,\n",
       "        -0.33017583])}"
      ]
     },
     "execution_count": 10,
     "metadata": {},
     "output_type": "execute_result"
    }
   ],
   "source": [
    "forecaster._create_predict_inputs(steps=5, levels=None, last_window=None, exog=None)[0]"
   ]
  },
  {
   "cell_type": "code",
   "execution_count": 13,
   "metadata": {},
   "outputs": [
    {
     "name": "stdout",
     "output_type": "stream",
     "text": [
      "Old mean time: 0.03509813999990001 , std: 0.0026509583920882674, max: 0.040010099997743964, min: 0.032092200010083616\n",
      "New mean time: 0.010175140015780926 , std: 0.0009696960908206146, max: 0.012085900001693517, min: 0.009443200018722564\n"
     ]
    }
   ],
   "source": [
    "import timeit\n",
    "\n",
    "def benchmark_function():\n",
    "    forecaster.predict(steps=5)\n",
    "times = timeit.repeat(benchmark_function, repeat=5, number=1)\n",
    "times = np.array(times)\n",
    "print(f\"Old mean time: {times.mean()} , std: {times.std()}, max: {times.max()}, min: {times.min()}\")\n",
    "\n",
    "def benchmark_function():\n",
    "    forecaster.predict_new(steps=5)\n",
    "times = timeit.repeat(benchmark_function, repeat=5, number=1)\n",
    "times = np.array(times)\n",
    "print(f\"New mean time: {times.mean()} , std: {times.std()}, max: {times.max()}, min: {times.min()}\")"
   ]
  },
  {
   "cell_type": "code",
   "execution_count": 14,
   "metadata": {},
   "outputs": [],
   "source": [
    "assert forecaster.predict(steps=5).equals(forecaster.predict_new(steps=5))"
   ]
  },
  {
   "cell_type": "code",
   "execution_count": null,
   "metadata": {},
   "outputs": [],
   "source": []
  },
  {
   "cell_type": "code",
   "execution_count": null,
   "metadata": {},
   "outputs": [],
   "source": []
  },
  {
   "cell_type": "code",
   "execution_count": 15,
   "metadata": {},
   "outputs": [],
   "source": [
    "from sklearn.linear_model import LinearRegression\n",
    "\n",
    "series_2 = pd.DataFrame({'1': pd.Series(np.arange(start=0, stop=50)), \n",
    "                         '2': pd.Series(np.arange(start=50, stop=100))})"
   ]
  },
  {
   "cell_type": "code",
   "execution_count": 16,
   "metadata": {},
   "outputs": [
    {
     "name": "stderr",
     "output_type": "stream",
     "text": [
      "c:\\Users\\jaesc2\\GitHub\\skforecast\\skforecast\\ForecasterAutoregMultiSeries\\ForecasterAutoregMultiSeries.py:397: UserWarning: When using a linear model, it is recommended to use a transformer_series to ensure all series are in the same scale. You can use, for example, a `StandardScaler` from sklearn.preprocessing.\n",
      "  warnings.warn(\n"
     ]
    },
    {
     "ename": "ValueError",
     "evalue": "all the input array dimensions except for the concatenation axis must match exactly, but along dimension 1, the array at index 0 has size 3 and the array at index 1 has size 1",
     "output_type": "error",
     "traceback": [
      "\u001b[1;31m---------------------------------------------------------------------------\u001b[0m",
      "\u001b[1;31mValueError\u001b[0m                                Traceback (most recent call last)",
      "Cell \u001b[1;32mIn[16], line 10\u001b[0m\n\u001b[0;32m      8\u001b[0m forecaster \u001b[38;5;241m=\u001b[39m ForecasterAutoregMultiSeries(LinearRegression(), lags\u001b[38;5;241m=\u001b[39m\u001b[38;5;241m5\u001b[39m)\n\u001b[0;32m      9\u001b[0m forecaster\u001b[38;5;241m.\u001b[39mfit(series\u001b[38;5;241m=\u001b[39mseries_2)\n\u001b[1;32m---> 10\u001b[0m predictions_1 \u001b[38;5;241m=\u001b[39m \u001b[43mforecaster\u001b[49m\u001b[38;5;241;43m.\u001b[39;49m\u001b[43mpredict\u001b[49m\u001b[43m(\u001b[49m\u001b[43msteps\u001b[49m\u001b[38;5;241;43m=\u001b[39;49m\u001b[38;5;241;43m5\u001b[39;49m\u001b[43m,\u001b[49m\u001b[43m \u001b[49m\u001b[43mlevels\u001b[49m\u001b[38;5;241;43m=\u001b[39;49m\u001b[38;5;124;43m'\u001b[39;49m\u001b[38;5;124;43m1\u001b[39;49m\u001b[38;5;124;43m'\u001b[39;49m\u001b[43m,\u001b[49m\u001b[43m \u001b[49m\u001b[43mlast_window\u001b[49m\u001b[38;5;241;43m=\u001b[39;49m\u001b[43mlast_window\u001b[49m\u001b[43m)\u001b[49m\n",
      "File \u001b[1;32mc:\\Users\\jaesc2\\GitHub\\skforecast\\skforecast\\ForecasterAutoregMultiSeries\\ForecasterAutoregMultiSeries.py:2049\u001b[0m, in \u001b[0;36mForecasterAutoregMultiSeries.predict\u001b[1;34m(self, steps, levels, last_window, exog, suppress_warnings)\u001b[0m\n\u001b[0;32m   2034\u001b[0m set_skforecast_warnings(suppress_warnings, action\u001b[38;5;241m=\u001b[39m\u001b[38;5;124m'\u001b[39m\u001b[38;5;124mignore\u001b[39m\u001b[38;5;124m'\u001b[39m)\n\u001b[0;32m   2036\u001b[0m (\n\u001b[0;32m   2037\u001b[0m     last_window,\n\u001b[0;32m   2038\u001b[0m     exog_values_dict,\n\u001b[1;32m   (...)\u001b[0m\n\u001b[0;32m   2046\u001b[0m     exog        \u001b[38;5;241m=\u001b[39m exog\n\u001b[0;32m   2047\u001b[0m )\n\u001b[1;32m-> 2049\u001b[0m predictions \u001b[38;5;241m=\u001b[39m \u001b[38;5;28;43mself\u001b[39;49m\u001b[38;5;241;43m.\u001b[39;49m\u001b[43m_recursive_predict_new\u001b[49m\u001b[43m(\u001b[49m\n\u001b[0;32m   2050\u001b[0m \u001b[43m                  \u001b[49m\u001b[43msteps\u001b[49m\u001b[43m            \u001b[49m\u001b[38;5;241;43m=\u001b[39;49m\u001b[43m \u001b[49m\u001b[43msteps\u001b[49m\u001b[43m,\u001b[49m\n\u001b[0;32m   2051\u001b[0m \u001b[43m                  \u001b[49m\u001b[43mlevels\u001b[49m\u001b[43m           \u001b[49m\u001b[38;5;241;43m=\u001b[39;49m\u001b[43m \u001b[49m\u001b[43mlevels\u001b[49m\u001b[43m,\u001b[49m\n\u001b[0;32m   2052\u001b[0m \u001b[43m                  \u001b[49m\u001b[43mlast_window\u001b[49m\u001b[43m      \u001b[49m\u001b[38;5;241;43m=\u001b[39;49m\u001b[43m \u001b[49m\u001b[43mlast_window\u001b[49m\u001b[43m,\u001b[49m\n\u001b[0;32m   2053\u001b[0m \u001b[43m                  \u001b[49m\u001b[43mexog_values_dict\u001b[49m\u001b[43m \u001b[49m\u001b[38;5;241;43m=\u001b[39;49m\u001b[43m \u001b[49m\u001b[43mexog_values_dict\u001b[49m\n\u001b[0;32m   2054\u001b[0m \u001b[43m              \u001b[49m\u001b[43m)\u001b[49m\n\u001b[0;32m   2056\u001b[0m \u001b[38;5;66;03m# predictions_tranformed = []\u001b[39;00m\n\u001b[0;32m   2057\u001b[0m \u001b[38;5;28;01mfor\u001b[39;00m i, level \u001b[38;5;129;01min\u001b[39;00m \u001b[38;5;28menumerate\u001b[39m(levels):\n",
      "File \u001b[1;32mc:\\Users\\jaesc2\\GitHub\\skforecast\\skforecast\\ForecasterAutoregMultiSeries\\ForecasterAutoregMultiSeries.py:1779\u001b[0m, in \u001b[0;36mForecasterAutoregMultiSeries._recursive_predict_new\u001b[1;34m(self, steps, levels, last_window, exog_values_dict)\u001b[0m\n\u001b[0;32m   1776\u001b[0m     features[:, lags_shape : lags_shape \u001b[38;5;241m+\u001b[39m levels_encoded_shape] \u001b[38;5;241m=\u001b[39m levels_encoded\n\u001b[0;32m   1778\u001b[0m predictions \u001b[38;5;241m=\u001b[39m np\u001b[38;5;241m.\u001b[39mfull(shape\u001b[38;5;241m=\u001b[39m(steps, n_levels), fill_value\u001b[38;5;241m=\u001b[39mnp\u001b[38;5;241m.\u001b[39mnan, dtype\u001b[38;5;241m=\u001b[39m\u001b[38;5;28mfloat\u001b[39m)\n\u001b[1;32m-> 1779\u001b[0m last_window \u001b[38;5;241m=\u001b[39m \u001b[43mnp\u001b[49m\u001b[38;5;241;43m.\u001b[39;49m\u001b[43mconcatenate\u001b[49m\u001b[43m(\u001b[49m\u001b[43m(\u001b[49m\u001b[43mlast_window\u001b[49m\u001b[38;5;241;43m.\u001b[39;49m\u001b[43mto_numpy\u001b[49m\u001b[43m(\u001b[49m\u001b[43m)\u001b[49m\u001b[43m,\u001b[49m\u001b[43m \u001b[49m\u001b[43mpredictions\u001b[49m\u001b[43m)\u001b[49m\u001b[43m,\u001b[49m\u001b[43m \u001b[49m\u001b[43maxis\u001b[49m\u001b[38;5;241;43m=\u001b[39;49m\u001b[38;5;241;43m0\u001b[39;49m\u001b[43m)\u001b[49m\n\u001b[0;32m   1781\u001b[0m \u001b[38;5;28;01mfor\u001b[39;00m i \u001b[38;5;129;01min\u001b[39;00m \u001b[38;5;28mrange\u001b[39m(steps):\n\u001b[0;32m   1783\u001b[0m     step \u001b[38;5;241m=\u001b[39m i \u001b[38;5;241m+\u001b[39m \u001b[38;5;241m1\u001b[39m\n",
      "\u001b[1;31mValueError\u001b[0m: all the input array dimensions except for the concatenation axis must match exactly, but along dimension 1, the array at index 0 has size 3 and the array at index 1 has size 1"
     ]
    }
   ],
   "source": [
    "last_window = pd.DataFrame(\n",
    "                      {'1': [45, 46, 47, 48, 49], \n",
    "                       '2': [95, 96, 97, 98, 99], \n",
    "                       '3': [1, 2, 3, 4, 5]}, \n",
    "                      index = pd.RangeIndex(start=45, stop=50, step=1)\n",
    "                  )\n",
    "\n",
    "forecaster = ForecasterAutoregMultiSeries(LinearRegression(), lags=5)\n",
    "forecaster.fit(series=series_2)"
   ]
  },
  {
   "cell_type": "code",
   "execution_count": 24,
   "metadata": {},
   "outputs": [
    {
     "data": {
      "text/html": [
       "<div>\n",
       "<style scoped>\n",
       "    .dataframe tbody tr th:only-of-type {\n",
       "        vertical-align: middle;\n",
       "    }\n",
       "\n",
       "    .dataframe tbody tr th {\n",
       "        vertical-align: top;\n",
       "    }\n",
       "\n",
       "    .dataframe thead th {\n",
       "        text-align: right;\n",
       "    }\n",
       "</style>\n",
       "<table border=\"1\" class=\"dataframe\">\n",
       "  <thead>\n",
       "    <tr style=\"text-align: right;\">\n",
       "      <th></th>\n",
       "      <th>1</th>\n",
       "    </tr>\n",
       "  </thead>\n",
       "  <tbody>\n",
       "    <tr>\n",
       "      <th>45</th>\n",
       "      <td>45</td>\n",
       "    </tr>\n",
       "    <tr>\n",
       "      <th>46</th>\n",
       "      <td>46</td>\n",
       "    </tr>\n",
       "    <tr>\n",
       "      <th>47</th>\n",
       "      <td>47</td>\n",
       "    </tr>\n",
       "    <tr>\n",
       "      <th>48</th>\n",
       "      <td>48</td>\n",
       "    </tr>\n",
       "    <tr>\n",
       "      <th>49</th>\n",
       "      <td>49</td>\n",
       "    </tr>\n",
       "  </tbody>\n",
       "</table>\n",
       "</div>"
      ],
      "text/plain": [
       "     1\n",
       "45  45\n",
       "46  46\n",
       "47  47\n",
       "48  48\n",
       "49  49"
      ]
     },
     "execution_count": 24,
     "metadata": {},
     "output_type": "execute_result"
    }
   ],
   "source": [
    "df = forecaster._create_predict_inputs_new(steps=5, levels='1', last_window=last_window)[0]\n",
    "df"
   ]
  },
  {
   "cell_type": "code",
   "execution_count": 23,
   "metadata": {},
   "outputs": [
    {
     "data": {
      "text/html": [
       "<div>\n",
       "<style scoped>\n",
       "    .dataframe tbody tr th:only-of-type {\n",
       "        vertical-align: middle;\n",
       "    }\n",
       "\n",
       "    .dataframe tbody tr th {\n",
       "        vertical-align: top;\n",
       "    }\n",
       "\n",
       "    .dataframe thead th {\n",
       "        text-align: right;\n",
       "    }\n",
       "</style>\n",
       "<table border=\"1\" class=\"dataframe\">\n",
       "  <thead>\n",
       "    <tr style=\"text-align: right;\">\n",
       "      <th></th>\n",
       "      <th>1</th>\n",
       "      <th>2</th>\n",
       "    </tr>\n",
       "  </thead>\n",
       "  <tbody>\n",
       "    <tr>\n",
       "      <th>45</th>\n",
       "      <td>45</td>\n",
       "      <td>95</td>\n",
       "    </tr>\n",
       "    <tr>\n",
       "      <th>46</th>\n",
       "      <td>46</td>\n",
       "      <td>96</td>\n",
       "    </tr>\n",
       "    <tr>\n",
       "      <th>47</th>\n",
       "      <td>47</td>\n",
       "      <td>97</td>\n",
       "    </tr>\n",
       "    <tr>\n",
       "      <th>48</th>\n",
       "      <td>48</td>\n",
       "      <td>98</td>\n",
       "    </tr>\n",
       "    <tr>\n",
       "      <th>49</th>\n",
       "      <td>49</td>\n",
       "      <td>99</td>\n",
       "    </tr>\n",
       "  </tbody>\n",
       "</table>\n",
       "</div>"
      ],
      "text/plain": [
       "     1   2\n",
       "45  45  95\n",
       "46  46  96\n",
       "47  47  97\n",
       "48  48  98\n",
       "49  49  99"
      ]
     },
     "execution_count": 23,
     "metadata": {},
     "output_type": "execute_result"
    }
   ],
   "source": [
    "# Get column position in DataFrame using iloc\n",
    "columns_to_get = ['1', '2']\n",
    "df.iloc[:, df.columns.get_indexer(columns_to_get)]"
   ]
  },
  {
   "cell_type": "code",
   "execution_count": 19,
   "metadata": {},
   "outputs": [
    {
     "data": {
      "text/plain": [
       "{'1': array([45, 46, 47, 48, 49])}"
      ]
     },
     "execution_count": 19,
     "metadata": {},
     "output_type": "execute_result"
    }
   ],
   "source": [
    "forecaster._create_predict_inputs(steps=5, levels='1', last_window=last_window)[0]"
   ]
  },
  {
   "cell_type": "code",
   "execution_count": null,
   "metadata": {},
   "outputs": [],
   "source": [
    "\n",
    "predictions_1 = forecaster.predict(steps=5, levels='1', last_window=last_window)"
   ]
  },
  {
   "cell_type": "code",
   "execution_count": null,
   "metadata": {},
   "outputs": [],
   "source": []
  }
 ],
 "metadata": {
  "kernelspec": {
   "display_name": "skforecast_py10",
   "language": "python",
   "name": "python3"
  },
  "language_info": {
   "codemirror_mode": {
    "name": "ipython",
    "version": 3
   },
   "file_extension": ".py",
   "mimetype": "text/x-python",
   "name": "python",
   "nbconvert_exporter": "python",
   "pygments_lexer": "ipython3",
   "version": "3.12.4"
  },
  "orig_nbformat": 4,
  "vscode": {
   "interpreter": {
    "hash": "c78d62c1713fdacd99ef7c429003c7324b36fbb551fb8b6860a7ea73e9338235"
   }
  }
 },
 "nbformat": 4,
 "nbformat_minor": 2
}
