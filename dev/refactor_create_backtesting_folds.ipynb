{
 "cells": [
  {
   "cell_type": "code",
   "execution_count": 1,
   "metadata": {},
   "outputs": [
    {
     "data": {
      "text/plain": [
       "'c:\\\\Users\\\\jaesc2\\\\GitHub\\\\skforecast'"
      ]
     },
     "execution_count": 1,
     "metadata": {},
     "output_type": "execute_result"
    }
   ],
   "source": [
    "%load_ext autoreload\n",
    "%autoreload 2\n",
    "import sys\n",
    "from pathlib import Path\n",
    "sys.path.insert(1, str(Path.cwd().parent))\n",
    "str(Path.cwd().parent)"
   ]
  },
  {
   "cell_type": "code",
   "execution_count": 2,
   "metadata": {},
   "outputs": [],
   "source": [
    "from typing import Union, Tuple, Optional, Callable\n",
    "import numpy as np\n",
    "import pandas as pd"
   ]
  },
  {
   "cell_type": "code",
   "execution_count": 57,
   "metadata": {},
   "outputs": [],
   "source": [
    "def _create_backtesting_folds_2(\n",
    "    data: Union[pd.Series, pd.DataFrame],\n",
    "    initial_train_size: Union[int, None],\n",
    "    test_size: int,\n",
    "    externally_fitted: bool=False,\n",
    "    refit: Optional[Union[bool, int]]=False,\n",
    "    fixed_train_size: bool=True,\n",
    "    gap: int=0,\n",
    "    allow_incomplete_fold: bool=True,\n",
    "    return_all_indexes: bool=False,\n",
    "    verbose: bool=True\n",
    ") -> list:\n",
    "    \"\"\"    \n",
    "    \"\"\"\n",
    "    \n",
    "    idx = range(len(data))\n",
    "    folds = []\n",
    "    i = 0\n",
    "    last_fold_excluded = False\n",
    "\n",
    "    while initial_train_size + (i * test_size) + gap < len(data):\n",
    "\n",
    "        if refit:\n",
    "            # If fixed_train_size the train size doesn't increase but moves by \n",
    "            # `test_size` positions in each iteration. If False, the train size\n",
    "            # increases by `test_size` in each iteration.\n",
    "            train_idx_start = i * (test_size) if fixed_train_size else 0\n",
    "            train_idx_end = initial_train_size + i * (test_size)\n",
    "            test_idx_start = train_idx_end\n",
    "        else:\n",
    "            # The train size doesn't increase and doesn't move.\n",
    "            train_idx_start = 0\n",
    "            train_idx_end = initial_train_size\n",
    "            test_idx_start = initial_train_size + i * (test_size)\n",
    "\n",
    "        test_idx_end = test_idx_start + gap + test_size\n",
    "    \n",
    "        partitions = [\n",
    "            idx[train_idx_start : train_idx_end],\n",
    "            idx[test_idx_start : test_idx_end],\n",
    "            idx[test_idx_start + gap : test_idx_end]\n",
    "        ]\n",
    "        folds.append(partitions)\n",
    "        i += 1\n",
    "\n",
    "    if not allow_incomplete_fold:\n",
    "        if len(folds[-1][2]) < test_size:\n",
    "            folds = folds[:-1]\n",
    "            last_fold_excluded = True\n",
    "\n",
    "    # Replace partitions inside folds with length 0 with None\n",
    "    folds = [[partition if len(partition) > 0 else None \n",
    "              for partition in fold] \n",
    "             for fold in folds]\n",
    "\n",
    "    # Create a flag to know whether to train the forecaster\n",
    "    if isinstance(refit, bool):\n",
    "        fit_forecaster = [refit]*len(folds)\n",
    "        fit_forecaster[0] = True\n",
    "    else:\n",
    "        fit_forecaster = [False]*len(folds)\n",
    "        for i in range(0, len(fit_forecaster), refit): fit_forecaster[i] = True\n",
    "    \n",
    "    for i in range(len(folds)): \n",
    "        folds[i].append(fit_forecaster[i])\n",
    "        if fit_forecaster[i] is False:\n",
    "            folds[i][0] = folds[i-1][0]\n",
    "    \n",
    "    if verbose:\n",
    "        print(\"Information of backtesting process\")\n",
    "        print(\"----------------------------------\")\n",
    "        if externally_fitted:\n",
    "            print(f\"An already trained forecaster is to be used. Window size: {initial_train_size}\")\n",
    "        else:\n",
    "            print(f\"Number of observations used for initial training: {initial_train_size}\")\n",
    "        print(f\"Number of observations used for backtesting: {len(data) - initial_train_size}\")\n",
    "        print(f\"    Number of folds: {len(folds)}\")\n",
    "        print(f\"    Number of steps per fold: {test_size}\")\n",
    "        print(f\"    Number of steps to exclude from the end of each train set before test (gap): {gap}\")\n",
    "        if last_fold_excluded:\n",
    "            print(\"    Last fold has been excluded because it was incomplete.\")\n",
    "        if len(folds[-1][2]) < test_size:\n",
    "            print(f\"    Last fold only includes {len(folds[-1][2])} observations.\")\n",
    "        print(\"\")\n",
    "\n",
    "        for i, fold in enumerate(folds):\n",
    "            training_start    = data.index[fold[0][0]] if fold[0] is not None else None\n",
    "            training_end      = data.index[fold[0][-1]] if fold[0] is not None else None\n",
    "            training_length   = len(fold[0]) if fold[0] is not None else 0\n",
    "            validation_start  = data.index[fold[2][0]]\n",
    "            validation_end    = data.index[fold[2][-1]]\n",
    "            validation_length = len(fold[2])\n",
    "            print(f\"Fold: {i}\")\n",
    "            if not externally_fitted:\n",
    "                print(\n",
    "                    f\"    Training:   {training_start} -- {training_end}  (n={training_length})\"\n",
    "                )\n",
    "            print(\n",
    "                f\"    Validation: {validation_start} -- {validation_end}  (n={validation_length})\"\n",
    "            )\n",
    "        print(\"\")\n",
    "\n",
    "    if not return_all_indexes:\n",
    "        # +1 to prevent iloc pandas from deleting the last observation\n",
    "        folds = [\n",
    "            [[fold[0][0], fold[0][-1]+1], \n",
    "             [fold[1][0], fold[1][-1]+1], \n",
    "             [fold[2][0], fold[2][-1]+1],\n",
    "             fold[3]] \n",
    "            for fold in folds\n",
    "        ]\n",
    "\n",
    "    return folds"
   ]
  },
  {
   "cell_type": "code",
   "execution_count": 31,
   "metadata": {},
   "outputs": [],
   "source": [
    "from skforecast.model_selection.model_selection import _create_backtesting_folds\n",
    "\n",
    "y = pd.Series(np.arange(100))\n",
    "y.index = pd.date_range(start='2022-01-01', periods=100, freq='D')\n",
    "initial_train_size = 50\n",
    "gap = 5\n",
    "test_size = 7\n",
    "refit = False\n",
    "allow_incomplete_fold = True\n",
    "\n",
    "folds = _create_backtesting_folds(\n",
    "            data                  = y,\n",
    "            initial_train_size    = initial_train_size,\n",
    "            test_size             = test_size,\n",
    "            externally_fitted     = False,\n",
    "            refit                 = 2,\n",
    "            fixed_train_size      = False,\n",
    "            gap                   = gap,\n",
    "            allow_incomplete_fold = allow_incomplete_fold,\n",
    "            return_all_indexes    = False,\n",
    "            verbose               = False\n",
    "        )"
   ]
  },
  {
   "cell_type": "code",
   "execution_count": 32,
   "metadata": {},
   "outputs": [
    {
     "data": {
      "text/plain": [
       "[[[0, 50], [50, 62], [55, 62], True],\n",
       " [[0, 50], [57, 69], [62, 69], False],\n",
       " [[0, 64], [64, 76], [69, 76], True],\n",
       " [[0, 64], [71, 83], [76, 83], False],\n",
       " [[0, 78], [78, 90], [83, 90], True],\n",
       " [[0, 78], [85, 97], [90, 97], False],\n",
       " [[0, 92], [92, 100], [97, 100], True]]"
      ]
     },
     "execution_count": 32,
     "metadata": {},
     "output_type": "execute_result"
    }
   ],
   "source": [
    "folds"
   ]
  },
  {
   "cell_type": "code",
   "execution_count": 43,
   "metadata": {},
   "outputs": [],
   "source": [
    "refit = 0\n",
    "\n",
    "if refit:\n",
    "    print(2)"
   ]
  },
  {
   "cell_type": "code",
   "execution_count": 56,
   "metadata": {},
   "outputs": [
    {
     "data": {
      "text/plain": [
       "[[[0, 91], [70, 82], [75, 82], 1, True, False, True, True, True],\n",
       " [[0, 91], [77, 89], [82, 89], 1, True, False, False, False, False],\n",
       " [[0, 91], [84, 96], [89, 96], 1, True, False, True, False, False],\n",
       " [[0, 91], [91, 100], [96, 100], 1, True, False, False, True, False]]"
      ]
     },
     "execution_count": 56,
     "metadata": {},
     "output_type": "execute_result"
    }
   ],
   "source": [
    "refit = 4\n",
    "\n",
    "if isinstance(refit, bool):\n",
    "    fit_forecaster = [refit]*len(folds)\n",
    "else:\n",
    "    fit_forecaster = [False]*len(folds)\n",
    "    for i in range(0, len(fit_forecaster), refit): fit_forecaster[i] = True\n",
    "\n",
    "for i in range(len(folds)): \n",
    "    folds[i].append(fit_forecaster[i])\n",
    "    if fit_forecaster[i] is False:\n",
    "        folds[i][0] = folds[i-1][0]\n",
    "\n",
    "folds"
   ]
  },
  {
   "cell_type": "code",
   "execution_count": 25,
   "metadata": {},
   "outputs": [],
   "source": [
    "# Replace partitions inside folds with length 0 with None\n",
    "folds[0].append(True)"
   ]
  },
  {
   "cell_type": "code",
   "execution_count": 72,
   "metadata": {},
   "outputs": [],
   "source": [
    "aa = [False, False, False]"
   ]
  },
  {
   "cell_type": "code",
   "execution_count": 74,
   "metadata": {},
   "outputs": [
    {
     "data": {
      "text/plain": [
       "[True, False, False]"
      ]
     },
     "execution_count": 74,
     "metadata": {},
     "output_type": "execute_result"
    }
   ],
   "source": [
    "aa[0] = True\n",
    "aa"
   ]
  },
  {
   "cell_type": "code",
   "execution_count": 21,
   "metadata": {},
   "outputs": [
    {
     "name": "stdout",
     "output_type": "stream",
     "text": [
      "1\n"
     ]
    }
   ],
   "source": [
    "n_boot = -1\n",
    "\n",
    "if not isinstance(n_boot, (bool, int, np.integer)) or n_boot < 0:\n",
    "    print(1)"
   ]
  },
  {
   "attachments": {},
   "cell_type": "markdown",
   "metadata": {},
   "source": [
    "## Tests"
   ]
  },
  {
   "cell_type": "code",
   "execution_count": 3,
   "metadata": {},
   "outputs": [
    {
     "ename": "TypeError",
     "evalue": "Union[arg, ...]: each arg must be a type. Got True.",
     "output_type": "error",
     "traceback": [
      "\u001b[1;31m---------------------------------------------------------------------------\u001b[0m",
      "\u001b[1;31mTypeError\u001b[0m                                 Traceback (most recent call last)",
      "Cell \u001b[1;32mIn[3], line 10\u001b[0m\n\u001b[0;32m      8\u001b[0m \u001b[39mfrom\u001b[39;00m \u001b[39mskforecast\u001b[39;00m\u001b[39m.\u001b[39;00m\u001b[39mForecasterAutoregCustom\u001b[39;00m \u001b[39mimport\u001b[39;00m ForecasterAutoregCustom\n\u001b[0;32m      9\u001b[0m \u001b[39mfrom\u001b[39;00m \u001b[39mskforecast\u001b[39;00m\u001b[39m.\u001b[39;00m\u001b[39mForecasterAutoregDirect\u001b[39;00m \u001b[39mimport\u001b[39;00m ForecasterAutoregDirect\n\u001b[1;32m---> 10\u001b[0m \u001b[39mfrom\u001b[39;00m \u001b[39mskforecast\u001b[39;00m\u001b[39m.\u001b[39;00m\u001b[39mmodel_selection\u001b[39;00m\u001b[39m.\u001b[39;00m\u001b[39mmodel_selection\u001b[39;00m \u001b[39mimport\u001b[39;00m backtesting_forecaster\n\u001b[0;32m     12\u001b[0m \u001b[39mfrom\u001b[39;00m \u001b[39mskforecast\u001b[39;00m\u001b[39m.\u001b[39;00m\u001b[39mmodel_selection\u001b[39;00m\u001b[39m.\u001b[39;00m\u001b[39mtests\u001b[39;00m\u001b[39m.\u001b[39;00m\u001b[39mfixtures_model_selection\u001b[39;00m \u001b[39mimport\u001b[39;00m y\n\u001b[0;32m     13\u001b[0m \u001b[39mfrom\u001b[39;00m \u001b[39mskforecast\u001b[39;00m\u001b[39m.\u001b[39;00m\u001b[39mmodel_selection\u001b[39;00m\u001b[39m.\u001b[39;00m\u001b[39mtests\u001b[39;00m\u001b[39m.\u001b[39;00m\u001b[39mfixtures_model_selection\u001b[39;00m \u001b[39mimport\u001b[39;00m exog\n",
      "File \u001b[1;32mc:\\Users\\jaesc2\\GitHub\\skforecast\\skforecast\\model_selection\\__init__.py:1\u001b[0m\n\u001b[1;32m----> 1\u001b[0m \u001b[39mfrom\u001b[39;00m \u001b[39m.\u001b[39;00m\u001b[39mmodel_selection\u001b[39;00m \u001b[39mimport\u001b[39;00m backtesting_forecaster, grid_search_forecaster, random_search_forecaster, bayesian_search_forecaster\n",
      "File \u001b[1;32mc:\\Users\\jaesc2\\GitHub\\skforecast\\skforecast\\model_selection\\model_selection.py:345\u001b[0m\n\u001b[0;32m    330\u001b[0m     metric \u001b[39m=\u001b[39m metrics[metric]\n\u001b[0;32m    332\u001b[0m     \u001b[39mreturn\u001b[39;00m metric\n\u001b[0;32m    335\u001b[0m \u001b[39mdef\u001b[39;00m \u001b[39m_backtesting_forecaster_refit\u001b[39m(\n\u001b[0;32m    336\u001b[0m     forecaster,\n\u001b[0;32m    337\u001b[0m     y: pd\u001b[39m.\u001b[39mSeries,\n\u001b[0;32m    338\u001b[0m     steps: \u001b[39mint\u001b[39m,\n\u001b[0;32m    339\u001b[0m     metric: Union[\u001b[39mstr\u001b[39m, Callable, \u001b[39mlist\u001b[39m],\n\u001b[0;32m    340\u001b[0m     initial_train_size: \u001b[39mint\u001b[39m,\n\u001b[0;32m    341\u001b[0m     fixed_train_size: \u001b[39mbool\u001b[39m\u001b[39m=\u001b[39m\u001b[39mTrue\u001b[39;00m,\n\u001b[0;32m    342\u001b[0m     gap: \u001b[39mint\u001b[39m\u001b[39m=\u001b[39m\u001b[39m0\u001b[39m,\n\u001b[0;32m    343\u001b[0m     allow_incomplete_fold: \u001b[39mbool\u001b[39m\u001b[39m=\u001b[39m\u001b[39mTrue\u001b[39;00m,\n\u001b[0;32m    344\u001b[0m     exog: Optional[Union[pd\u001b[39m.\u001b[39mSeries, pd\u001b[39m.\u001b[39mDataFrame]]\u001b[39m=\u001b[39m\u001b[39mNone\u001b[39;00m,\n\u001b[1;32m--> 345\u001b[0m     refit: Optional[Union[\u001b[39mTrue\u001b[39;49;00m, \u001b[39mint\u001b[39;49m]]\u001b[39m=\u001b[39m\u001b[39mTrue\u001b[39;00m,\n\u001b[0;32m    346\u001b[0m     interval: Optional[\u001b[39mlist\u001b[39m]\u001b[39m=\u001b[39m\u001b[39mNone\u001b[39;00m,\n\u001b[0;32m    347\u001b[0m     n_boot: \u001b[39mint\u001b[39m\u001b[39m=\u001b[39m\u001b[39m500\u001b[39m,\n\u001b[0;32m    348\u001b[0m     random_state: \u001b[39mint\u001b[39m\u001b[39m=\u001b[39m\u001b[39m123\u001b[39m,\n\u001b[0;32m    349\u001b[0m     in_sample_residuals: \u001b[39mbool\u001b[39m\u001b[39m=\u001b[39m\u001b[39mTrue\u001b[39;00m,\n\u001b[0;32m    350\u001b[0m     n_jobs: \u001b[39mint\u001b[39m\u001b[39m=\u001b[39m\u001b[39m-\u001b[39m\u001b[39m1\u001b[39m,\n\u001b[0;32m    351\u001b[0m     verbose: \u001b[39mbool\u001b[39m\u001b[39m=\u001b[39m\u001b[39mFalse\u001b[39;00m,\n\u001b[0;32m    352\u001b[0m     show_progress: \u001b[39mbool\u001b[39m\u001b[39m=\u001b[39m\u001b[39mTrue\u001b[39;00m\n\u001b[0;32m    353\u001b[0m ) \u001b[39m-\u001b[39m\u001b[39m>\u001b[39m Tuple[Union[\u001b[39mfloat\u001b[39m, \u001b[39mlist\u001b[39m], pd\u001b[39m.\u001b[39mDataFrame]:\n\u001b[0;32m    354\u001b[0m \u001b[39m    \u001b[39m\u001b[39m\"\"\"\u001b[39;00m\n\u001b[0;32m    355\u001b[0m \u001b[39m    Backtesting of forecaster model with a re-fitting strategy. A copy of the  \u001b[39;00m\n\u001b[0;32m    356\u001b[0m \u001b[39m    original forecaster is created so it is not modified during the process.\u001b[39;00m\n\u001b[1;32m   (...)\u001b[0m\n\u001b[0;32m    439\u001b[0m \u001b[39m    \u001b[39;00m\n\u001b[0;32m    440\u001b[0m \u001b[39m    \"\"\"\u001b[39;00m\n\u001b[0;32m    442\u001b[0m     forecaster \u001b[39m=\u001b[39m deepcopy(forecaster)\n",
      "File \u001b[1;32mc:\\Users\\jaesc2\\Miniconda3\\envs\\skforecast\\lib\\typing.py:312\u001b[0m, in \u001b[0;36m_tp_cache.<locals>.decorator.<locals>.inner\u001b[1;34m(*args, **kwds)\u001b[0m\n\u001b[0;32m    310\u001b[0m \u001b[39mexcept\u001b[39;00m \u001b[39mTypeError\u001b[39;00m:\n\u001b[0;32m    311\u001b[0m     \u001b[39mpass\u001b[39;00m  \u001b[39m# All real errors (not unhashable args) are raised below.\u001b[39;00m\n\u001b[1;32m--> 312\u001b[0m \u001b[39mreturn\u001b[39;00m func(\u001b[39m*\u001b[39margs, \u001b[39m*\u001b[39m\u001b[39m*\u001b[39mkwds)\n",
      "File \u001b[1;32mc:\\Users\\jaesc2\\Miniconda3\\envs\\skforecast\\lib\\typing.py:403\u001b[0m, in \u001b[0;36m_SpecialForm.__getitem__\u001b[1;34m(self, parameters)\u001b[0m\n\u001b[0;32m    401\u001b[0m \u001b[39m@_tp_cache\u001b[39m\n\u001b[0;32m    402\u001b[0m \u001b[39mdef\u001b[39;00m \u001b[39m__getitem__\u001b[39m(\u001b[39mself\u001b[39m, parameters):\n\u001b[1;32m--> 403\u001b[0m     \u001b[39mreturn\u001b[39;00m \u001b[39mself\u001b[39;49m\u001b[39m.\u001b[39;49m_getitem(\u001b[39mself\u001b[39;49m, parameters)\n",
      "File \u001b[1;32mc:\\Users\\jaesc2\\Miniconda3\\envs\\skforecast\\lib\\typing.py:515\u001b[0m, in \u001b[0;36mUnion\u001b[1;34m(self, parameters)\u001b[0m\n\u001b[0;32m    513\u001b[0m     parameters \u001b[39m=\u001b[39m (parameters,)\n\u001b[0;32m    514\u001b[0m msg \u001b[39m=\u001b[39m \u001b[39m\"\u001b[39m\u001b[39mUnion[arg, ...]: each arg must be a type.\u001b[39m\u001b[39m\"\u001b[39m\n\u001b[1;32m--> 515\u001b[0m parameters \u001b[39m=\u001b[39m \u001b[39mtuple\u001b[39;49m(_type_check(p, msg) \u001b[39mfor\u001b[39;49;00m p \u001b[39min\u001b[39;49;00m parameters)\n\u001b[0;32m    516\u001b[0m parameters \u001b[39m=\u001b[39m _remove_dups_flatten(parameters)\n\u001b[0;32m    517\u001b[0m \u001b[39mif\u001b[39;00m \u001b[39mlen\u001b[39m(parameters) \u001b[39m==\u001b[39m \u001b[39m1\u001b[39m:\n",
      "File \u001b[1;32mc:\\Users\\jaesc2\\Miniconda3\\envs\\skforecast\\lib\\typing.py:515\u001b[0m, in \u001b[0;36m<genexpr>\u001b[1;34m(.0)\u001b[0m\n\u001b[0;32m    513\u001b[0m     parameters \u001b[39m=\u001b[39m (parameters,)\n\u001b[0;32m    514\u001b[0m msg \u001b[39m=\u001b[39m \u001b[39m\"\u001b[39m\u001b[39mUnion[arg, ...]: each arg must be a type.\u001b[39m\u001b[39m\"\u001b[39m\n\u001b[1;32m--> 515\u001b[0m parameters \u001b[39m=\u001b[39m \u001b[39mtuple\u001b[39m(_type_check(p, msg) \u001b[39mfor\u001b[39;00m p \u001b[39min\u001b[39;00m parameters)\n\u001b[0;32m    516\u001b[0m parameters \u001b[39m=\u001b[39m _remove_dups_flatten(parameters)\n\u001b[0;32m    517\u001b[0m \u001b[39mif\u001b[39;00m \u001b[39mlen\u001b[39m(parameters) \u001b[39m==\u001b[39m \u001b[39m1\u001b[39m:\n",
      "File \u001b[1;32mc:\\Users\\jaesc2\\Miniconda3\\envs\\skforecast\\lib\\typing.py:176\u001b[0m, in \u001b[0;36m_type_check\u001b[1;34m(arg, msg, is_argument, module, allow_special_forms)\u001b[0m\n\u001b[0;32m    174\u001b[0m     \u001b[39mreturn\u001b[39;00m arg\n\u001b[0;32m    175\u001b[0m \u001b[39mif\u001b[39;00m \u001b[39mnot\u001b[39;00m \u001b[39mcallable\u001b[39m(arg):\n\u001b[1;32m--> 176\u001b[0m     \u001b[39mraise\u001b[39;00m \u001b[39mTypeError\u001b[39;00m(\u001b[39mf\u001b[39m\u001b[39m\"\u001b[39m\u001b[39m{\u001b[39;00mmsg\u001b[39m}\u001b[39;00m\u001b[39m Got \u001b[39m\u001b[39m{\u001b[39;00marg\u001b[39m!r:\u001b[39;00m\u001b[39m.100\u001b[39m\u001b[39m}\u001b[39;00m\u001b[39m.\u001b[39m\u001b[39m\"\u001b[39m)\n\u001b[0;32m    177\u001b[0m \u001b[39mreturn\u001b[39;00m arg\n",
      "\u001b[1;31mTypeError\u001b[0m: Union[arg, ...]: each arg must be a type. Got True."
     ]
    }
   ],
   "source": [
    "import pytest\n",
    "import numpy as np\n",
    "import pandas as pd\n",
    "from pytest import approx\n",
    "from sklearn.linear_model import Ridge\n",
    "from sklearn.metrics import mean_squared_error\n",
    "from skforecast.ForecasterAutoreg import ForecasterAutoreg\n",
    "from skforecast.ForecasterAutoregCustom import ForecasterAutoregCustom\n",
    "from skforecast.ForecasterAutoregDirect import ForecasterAutoregDirect\n",
    "from skforecast.model_selection.model_selection import backtesting_forecaster\n",
    "\n",
    "from skforecast.model_selection.tests.fixtures_model_selection import y\n",
    "from skforecast.model_selection.tests.fixtures_model_selection import exog\n",
    "from skforecast.model_selection.tests.fixtures_model_selection import out_sample_residuals"
   ]
  },
  {
   "cell_type": "code",
   "execution_count": 46,
   "metadata": {},
   "outputs": [
    {
     "data": {
      "application/vnd.jupyter.widget-view+json": {
       "model_id": "59ee64e652b6444493e9d738a1e02cea",
       "version_major": 2,
       "version_minor": 0
      },
      "text/plain": [
       "  0%|          | 0/10 [00:00<?, ?it/s]"
      ]
     },
     "metadata": {},
     "output_type": "display_data"
    }
   ],
   "source": [
    "forecaster = ForecasterAutoregDirect(\n",
    "                     regressor = Ridge(random_state=123), \n",
    "                     lags      = 3,\n",
    "                     steps     = 8\n",
    "                 )\n",
    "\n",
    "n_backtest = 20\n",
    "y_train = y[:-n_backtest]\n",
    "\n",
    "metric, backtest_predictions = backtesting_forecaster(\n",
    "                                    forecaster            = forecaster,\n",
    "                                    y                     = y,\n",
    "                                    exog                  = exog,\n",
    "                                    refit                 = 2,\n",
    "                                    initial_train_size    = len(y_train),\n",
    "                                    fixed_train_size      = False,\n",
    "                                    gap                   = 0,\n",
    "                                    allow_incomplete_fold = True,\n",
    "                                    steps                 = 2,\n",
    "                                    metric                = 'mean_squared_error',\n",
    "                                    interval              = [5, 95],\n",
    "                                    n_boot                = 500,\n",
    "                                    random_state          = 123,\n",
    "                                    in_sample_residuals   = True,\n",
    "                                    verbose               = False,\n",
    "                                    n_jobs                = 1\n",
    "                                )"
   ]
  },
  {
   "cell_type": "code",
   "execution_count": 47,
   "metadata": {},
   "outputs": [
    {
     "data": {
      "text/plain": [
       "0.06119167557650236"
      ]
     },
     "execution_count": 47,
     "metadata": {},
     "output_type": "execute_result"
    }
   ],
   "source": [
    "metric"
   ]
  },
  {
   "cell_type": "code",
   "execution_count": 48,
   "metadata": {},
   "outputs": [
    {
     "data": {
      "text/plain": [
       "array([[0.55616986, 0.15288789, 0.89198752],\n",
       "       [0.48751797, 0.14866438, 0.83169303],\n",
       "       [0.5776799 , 0.1675223 , 1.03338459],\n",
       "       [0.50916147, 0.15329105, 0.86187874],\n",
       "       [0.47430051, 0.0796644 , 0.82587748],\n",
       "       [0.49192271, 0.14609696, 0.95959395],\n",
       "       [0.48350642, 0.17102066, 0.82819688],\n",
       "       [0.52459152, 0.18622779, 0.99188165],\n",
       "       [0.52501537, 0.13641764, 0.86685356],\n",
       "       [0.4680474 , 0.08515461, 0.81792677],\n",
       "       [0.51236176, 0.1201916 , 0.85743741],\n",
       "       [0.52331622, 0.14224683, 0.88195282],\n",
       "       [0.4430938 , 0.0509291 , 0.69854202],\n",
       "       [0.49911716, 0.1231365 , 0.8711497 ],\n",
       "       [0.43652745, 0.0532075 , 0.70011897],\n",
       "       [0.46763972, 0.07270655, 0.84965528],\n",
       "       [0.46901878, 0.08173407, 0.82098555],\n",
       "       [0.55371362, 0.14618224, 0.98199137],\n",
       "       [0.59754846, 0.20694109, 0.95302703],\n",
       "       [0.53048912, 0.14816008, 0.95027659]])"
      ]
     },
     "execution_count": 48,
     "metadata": {},
     "output_type": "execute_result"
    }
   ],
   "source": [
    "backtest_predictions.to_numpy()"
   ]
  },
  {
   "cell_type": "code",
   "execution_count": null,
   "metadata": {},
   "outputs": [],
   "source": []
  }
 ],
 "metadata": {
  "kernelspec": {
   "display_name": "skforecast_py10",
   "language": "python",
   "name": "python3"
  },
  "language_info": {
   "codemirror_mode": {
    "name": "ipython",
    "version": 3
   },
   "file_extension": ".py",
   "mimetype": "text/x-python",
   "name": "python",
   "nbconvert_exporter": "python",
   "pygments_lexer": "ipython3",
   "version": "3.10.11"
  },
  "orig_nbformat": 4,
  "vscode": {
   "interpreter": {
    "hash": "c78d62c1713fdacd99ef7c429003c7324b36fbb551fb8b6860a7ea73e9338235"
   }
  }
 },
 "nbformat": 4,
 "nbformat_minor": 2
}
