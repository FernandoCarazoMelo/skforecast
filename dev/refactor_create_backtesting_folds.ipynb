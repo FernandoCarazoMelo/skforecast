{
 "cells": [
  {
   "cell_type": "code",
   "execution_count": 1,
   "metadata": {},
   "outputs": [
    {
     "data": {
      "text/plain": [
       "'c:\\\\Users\\\\jaesc2\\\\GitHub\\\\skforecast'"
      ]
     },
     "execution_count": 1,
     "metadata": {},
     "output_type": "execute_result"
    }
   ],
   "source": [
    "%load_ext autoreload\n",
    "%autoreload 2\n",
    "import sys\n",
    "from pathlib import Path\n",
    "sys.path.insert(1, str(Path.cwd().parent))\n",
    "str(Path.cwd().parent)"
   ]
  },
  {
   "cell_type": "code",
   "execution_count": 2,
   "metadata": {},
   "outputs": [],
   "source": [
    "from typing import Union, Tuple, Optional, Callable\n",
    "import numpy as np\n",
    "import pandas as pd"
   ]
  },
  {
   "cell_type": "code",
   "execution_count": 57,
   "metadata": {},
   "outputs": [],
   "source": [
    "def _create_backtesting_folds_2(\n",
    "    data: Union[pd.Series, pd.DataFrame],\n",
    "    initial_train_size: Union[int, None],\n",
    "    test_size: int,\n",
    "    externally_fitted: bool=False,\n",
    "    refit: Optional[Union[bool, int]]=False,\n",
    "    fixed_train_size: bool=True,\n",
    "    gap: int=0,\n",
    "    allow_incomplete_fold: bool=True,\n",
    "    return_all_indexes: bool=False,\n",
    "    verbose: bool=True\n",
    ") -> list:\n",
    "    \"\"\"    \n",
    "    \"\"\"\n",
    "    \n",
    "    idx = range(len(data))\n",
    "    folds = []\n",
    "    i = 0\n",
    "    last_fold_excluded = False\n",
    "\n",
    "    while initial_train_size + (i * test_size) + gap < len(data):\n",
    "\n",
    "        if refit:\n",
    "            # If fixed_train_size the train size doesn't increase but moves by \n",
    "            # `test_size` positions in each iteration. If False, the train size\n",
    "            # increases by `test_size` in each iteration.\n",
    "            train_idx_start = i * (test_size) if fixed_train_size else 0\n",
    "            train_idx_end = initial_train_size + i * (test_size)\n",
    "            test_idx_start = train_idx_end\n",
    "        else:\n",
    "            # The train size doesn't increase and doesn't move.\n",
    "            train_idx_start = 0\n",
    "            train_idx_end = initial_train_size\n",
    "            test_idx_start = initial_train_size + i * (test_size)\n",
    "\n",
    "        test_idx_end = test_idx_start + gap + test_size\n",
    "    \n",
    "        partitions = [\n",
    "            idx[train_idx_start : train_idx_end],\n",
    "            idx[test_idx_start : test_idx_end],\n",
    "            idx[test_idx_start + gap : test_idx_end]\n",
    "        ]\n",
    "        folds.append(partitions)\n",
    "        i += 1\n",
    "\n",
    "    if not allow_incomplete_fold:\n",
    "        if len(folds[-1][2]) < test_size:\n",
    "            folds = folds[:-1]\n",
    "            last_fold_excluded = True\n",
    "\n",
    "    # Replace partitions inside folds with length 0 with None\n",
    "    folds = [[partition if len(partition) > 0 else None \n",
    "              for partition in fold] \n",
    "             for fold in folds]\n",
    "\n",
    "    # Create a flag to know whether to train the forecaster\n",
    "    if isinstance(refit, bool):\n",
    "        fit_forecaster = [refit]*len(folds)\n",
    "        fit_forecaster[0] = True\n",
    "    else:\n",
    "        fit_forecaster = [False]*len(folds)\n",
    "        for i in range(0, len(fit_forecaster), refit): fit_forecaster[i] = True\n",
    "    \n",
    "    for i in range(len(folds)): \n",
    "        folds[i].append(fit_forecaster[i])\n",
    "        if fit_forecaster[i] is False:\n",
    "            folds[i][0] = folds[i-1][0]\n",
    "    \n",
    "    if verbose:\n",
    "        print(\"Information of backtesting process\")\n",
    "        print(\"----------------------------------\")\n",
    "        if externally_fitted:\n",
    "            print(f\"An already trained forecaster is to be used. Window size: {initial_train_size}\")\n",
    "        else:\n",
    "            print(f\"Number of observations used for initial training: {initial_train_size}\")\n",
    "        print(f\"Number of observations used for backtesting: {len(data) - initial_train_size}\")\n",
    "        print(f\"    Number of folds: {len(folds)}\")\n",
    "        print(f\"    Number of steps per fold: {test_size}\")\n",
    "        print(f\"    Number of steps to exclude from the end of each train set before test (gap): {gap}\")\n",
    "        if last_fold_excluded:\n",
    "            print(\"    Last fold has been excluded because it was incomplete.\")\n",
    "        if len(folds[-1][2]) < test_size:\n",
    "            print(f\"    Last fold only includes {len(folds[-1][2])} observations.\")\n",
    "        print(\"\")\n",
    "\n",
    "        for i, fold in enumerate(folds):\n",
    "            training_start    = data.index[fold[0][0]] if fold[0] is not None else None\n",
    "            training_end      = data.index[fold[0][-1]] if fold[0] is not None else None\n",
    "            training_length   = len(fold[0]) if fold[0] is not None else 0\n",
    "            validation_start  = data.index[fold[2][0]]\n",
    "            validation_end    = data.index[fold[2][-1]]\n",
    "            validation_length = len(fold[2])\n",
    "            print(f\"Fold: {i}\")\n",
    "            if not externally_fitted:\n",
    "                print(\n",
    "                    f\"    Training:   {training_start} -- {training_end}  (n={training_length})\"\n",
    "                )\n",
    "            print(\n",
    "                f\"    Validation: {validation_start} -- {validation_end}  (n={validation_length})\"\n",
    "            )\n",
    "        print(\"\")\n",
    "\n",
    "    if not return_all_indexes:\n",
    "        # +1 to prevent iloc pandas from deleting the last observation\n",
    "        folds = [\n",
    "            [[fold[0][0], fold[0][-1]+1], \n",
    "             [fold[1][0], fold[1][-1]+1], \n",
    "             [fold[2][0], fold[2][-1]+1],\n",
    "             fold[3]] \n",
    "            for fold in folds\n",
    "        ]\n",
    "\n",
    "    return folds"
   ]
  },
  {
   "cell_type": "code",
   "execution_count": 67,
   "metadata": {},
   "outputs": [],
   "source": [
    "from skforecast.model_selection.model_selection import _create_backtesting_folds\n",
    "\n",
    "y = pd.Series(np.arange(100))\n",
    "y.index = pd.date_range(start='2022-01-01', periods=100, freq='D')\n",
    "initial_train_size = 50\n",
    "gap = 5\n",
    "test_size = 7\n",
    "refit = False\n",
    "allow_incomplete_fold = True\n",
    "\n",
    "folds = _create_backtesting_folds_2(\n",
    "            data                  = y,\n",
    "            initial_train_size    = initial_train_size,\n",
    "            test_size             = test_size,\n",
    "            externally_fitted     = False,\n",
    "            refit                 = refit,\n",
    "            fixed_train_size      = False,\n",
    "            gap                   = gap,\n",
    "            allow_incomplete_fold = allow_incomplete_fold,\n",
    "            return_all_indexes    = False,\n",
    "            verbose               = False\n",
    "        )"
   ]
  },
  {
   "cell_type": "code",
   "execution_count": 68,
   "metadata": {},
   "outputs": [
    {
     "data": {
      "text/plain": [
       "[[[0, 50], [50, 62], [55, 62], False],\n",
       " [[0, 50], [57, 69], [62, 69], False],\n",
       " [[0, 50], [64, 76], [69, 76], False],\n",
       " [[0, 50], [71, 83], [76, 83], False],\n",
       " [[0, 50], [78, 90], [83, 90], False],\n",
       " [[0, 50], [85, 97], [90, 97], False],\n",
       " [[0, 50], [92, 100], [97, 100], False]]"
      ]
     },
     "execution_count": 68,
     "metadata": {},
     "output_type": "execute_result"
    }
   ],
   "source": [
    "folds"
   ]
  },
  {
   "cell_type": "code",
   "execution_count": 56,
   "metadata": {},
   "outputs": [
    {
     "data": {
      "text/plain": [
       "[[[0, 91], [70, 82], [75, 82], 1, True, False, True, True, True],\n",
       " [[0, 91], [77, 89], [82, 89], 1, True, False, False, False, False],\n",
       " [[0, 91], [84, 96], [89, 96], 1, True, False, True, False, False],\n",
       " [[0, 91], [91, 100], [96, 100], 1, True, False, False, True, False]]"
      ]
     },
     "execution_count": 56,
     "metadata": {},
     "output_type": "execute_result"
    }
   ],
   "source": [
    "refit = 4\n",
    "\n",
    "if isinstance(refit, bool):\n",
    "    fit_forecaster = [refit]*len(folds)\n",
    "else:\n",
    "    fit_forecaster = [False]*len(folds)\n",
    "    for i in range(0, len(fit_forecaster), refit): fit_forecaster[i] = True\n",
    "\n",
    "for i in range(len(folds)): \n",
    "    folds[i].append(fit_forecaster[i])\n",
    "    if fit_forecaster[i] is False:\n",
    "        folds[i][0] = folds[i-1][0]\n",
    "\n",
    "folds"
   ]
  },
  {
   "cell_type": "code",
   "execution_count": 25,
   "metadata": {},
   "outputs": [],
   "source": [
    "# Replace partitions inside folds with length 0 with None\n",
    "folds[0].append(True)"
   ]
  },
  {
   "cell_type": "code",
   "execution_count": 72,
   "metadata": {},
   "outputs": [],
   "source": [
    "aa = [False, False, False]"
   ]
  },
  {
   "cell_type": "code",
   "execution_count": 74,
   "metadata": {},
   "outputs": [
    {
     "data": {
      "text/plain": [
       "[True, False, False]"
      ]
     },
     "execution_count": 74,
     "metadata": {},
     "output_type": "execute_result"
    }
   ],
   "source": [
    "aa[0] = True\n",
    "aa"
   ]
  },
  {
   "cell_type": "code",
   "execution_count": null,
   "metadata": {},
   "outputs": [],
   "source": []
  }
 ],
 "metadata": {
  "kernelspec": {
   "display_name": "skforecast_py10",
   "language": "python",
   "name": "python3"
  },
  "language_info": {
   "codemirror_mode": {
    "name": "ipython",
    "version": 3
   },
   "file_extension": ".py",
   "mimetype": "text/x-python",
   "name": "python",
   "nbconvert_exporter": "python",
   "pygments_lexer": "ipython3",
   "version": "3.10.11"
  },
  "orig_nbformat": 4,
  "vscode": {
   "interpreter": {
    "hash": "c78d62c1713fdacd99ef7c429003c7324b36fbb551fb8b6860a7ea73e9338235"
   }
  }
 },
 "nbformat": 4,
 "nbformat_minor": 2
}
