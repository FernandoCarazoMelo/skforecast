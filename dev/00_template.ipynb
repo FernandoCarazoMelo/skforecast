{
 "cells": [
  {
   "cell_type": "code",
   "execution_count": 1,
   "metadata": {},
   "outputs": [
    {
     "name": "stdout",
     "output_type": "stream",
     "text": [
      "c:\\Users\\jaesc2\\GitHub\\skforecast\n"
     ]
    }
   ],
   "source": [
    "%load_ext autoreload\n",
    "%autoreload 2\n",
    "import sys\n",
    "from pathlib import Path\n",
    "path = str(Path.cwd().parent)\n",
    "print(path)\n",
    "sys.path.insert(1, path)"
   ]
  },
  {
   "cell_type": "code",
   "execution_count": 2,
   "metadata": {},
   "outputs": [],
   "source": [
    "import re\n",
    "import pytest\n",
    "import numpy as np\n",
    "import pandas as pd\n",
    "from sklearn.linear_model import LinearRegression\n",
    "from sklearn.compose import ColumnTransformer\n",
    "from sklearn.preprocessing import StandardScaler\n",
    "from sklearn.preprocessing import OneHotEncoder\n",
    "from skforecast.exceptions import MissingValuesWarning\n",
    "from skforecast.preprocessing import TimeSeriesDifferentiator\n",
    "from skforecast.preprocessing import RollingFeatures\n",
    "from skforecast.ForecasterAutoreg import ForecasterAutoreg"
   ]
  },
  {
   "cell_type": "code",
   "execution_count": 8,
   "metadata": {},
   "outputs": [
    {
     "data": {
      "text/html": [
       "<div>\n",
       "<style scoped>\n",
       "    .dataframe tbody tr th:only-of-type {\n",
       "        vertical-align: middle;\n",
       "    }\n",
       "\n",
       "    .dataframe tbody tr th {\n",
       "        vertical-align: top;\n",
       "    }\n",
       "\n",
       "    .dataframe thead th {\n",
       "        text-align: right;\n",
       "    }\n",
       "</style>\n",
       "<table border=\"1\" class=\"dataframe\">\n",
       "  <thead>\n",
       "    <tr style=\"text-align: right;\">\n",
       "      <th></th>\n",
       "      <th>roll_mean_5</th>\n",
       "      <th>roll_median_5</th>\n",
       "      <th>roll_sum_6</th>\n",
       "    </tr>\n",
       "  </thead>\n",
       "  <tbody>\n",
       "    <tr>\n",
       "      <th>2000-01-01</th>\n",
       "      <td>NaN</td>\n",
       "      <td>NaN</td>\n",
       "      <td>NaN</td>\n",
       "    </tr>\n",
       "    <tr>\n",
       "      <th>2000-01-02</th>\n",
       "      <td>NaN</td>\n",
       "      <td>NaN</td>\n",
       "      <td>NaN</td>\n",
       "    </tr>\n",
       "    <tr>\n",
       "      <th>2000-01-03</th>\n",
       "      <td>NaN</td>\n",
       "      <td>NaN</td>\n",
       "      <td>NaN</td>\n",
       "    </tr>\n",
       "    <tr>\n",
       "      <th>2000-01-04</th>\n",
       "      <td>NaN</td>\n",
       "      <td>NaN</td>\n",
       "      <td>NaN</td>\n",
       "    </tr>\n",
       "    <tr>\n",
       "      <th>2000-01-05</th>\n",
       "      <td>2.0</td>\n",
       "      <td>2.0</td>\n",
       "      <td>NaN</td>\n",
       "    </tr>\n",
       "    <tr>\n",
       "      <th>2000-01-06</th>\n",
       "      <td>3.0</td>\n",
       "      <td>3.0</td>\n",
       "      <td>15.0</td>\n",
       "    </tr>\n",
       "    <tr>\n",
       "      <th>2000-01-07</th>\n",
       "      <td>4.0</td>\n",
       "      <td>4.0</td>\n",
       "      <td>21.0</td>\n",
       "    </tr>\n",
       "    <tr>\n",
       "      <th>2000-01-08</th>\n",
       "      <td>5.0</td>\n",
       "      <td>5.0</td>\n",
       "      <td>27.0</td>\n",
       "    </tr>\n",
       "    <tr>\n",
       "      <th>2000-01-09</th>\n",
       "      <td>6.0</td>\n",
       "      <td>6.0</td>\n",
       "      <td>33.0</td>\n",
       "    </tr>\n",
       "    <tr>\n",
       "      <th>2000-01-10</th>\n",
       "      <td>7.0</td>\n",
       "      <td>7.0</td>\n",
       "      <td>39.0</td>\n",
       "    </tr>\n",
       "    <tr>\n",
       "      <th>2000-01-11</th>\n",
       "      <td>8.0</td>\n",
       "      <td>8.0</td>\n",
       "      <td>45.0</td>\n",
       "    </tr>\n",
       "    <tr>\n",
       "      <th>2000-01-12</th>\n",
       "      <td>9.0</td>\n",
       "      <td>9.0</td>\n",
       "      <td>51.0</td>\n",
       "    </tr>\n",
       "    <tr>\n",
       "      <th>2000-01-13</th>\n",
       "      <td>10.0</td>\n",
       "      <td>10.0</td>\n",
       "      <td>57.0</td>\n",
       "    </tr>\n",
       "    <tr>\n",
       "      <th>2000-01-14</th>\n",
       "      <td>11.0</td>\n",
       "      <td>11.0</td>\n",
       "      <td>63.0</td>\n",
       "    </tr>\n",
       "    <tr>\n",
       "      <th>2000-01-15</th>\n",
       "      <td>12.0</td>\n",
       "      <td>12.0</td>\n",
       "      <td>69.0</td>\n",
       "    </tr>\n",
       "  </tbody>\n",
       "</table>\n",
       "</div>"
      ],
      "text/plain": [
       "            roll_mean_5  roll_median_5  roll_sum_6\n",
       "2000-01-01          NaN            NaN         NaN\n",
       "2000-01-02          NaN            NaN         NaN\n",
       "2000-01-03          NaN            NaN         NaN\n",
       "2000-01-04          NaN            NaN         NaN\n",
       "2000-01-05          2.0            2.0         NaN\n",
       "2000-01-06          3.0            3.0        15.0\n",
       "2000-01-07          4.0            4.0        21.0\n",
       "2000-01-08          5.0            5.0        27.0\n",
       "2000-01-09          6.0            6.0        33.0\n",
       "2000-01-10          7.0            7.0        39.0\n",
       "2000-01-11          8.0            8.0        45.0\n",
       "2000-01-12          9.0            9.0        51.0\n",
       "2000-01-13         10.0           10.0        57.0\n",
       "2000-01-14         11.0           11.0        63.0\n",
       "2000-01-15         12.0           12.0        69.0"
      ]
     },
     "execution_count": 8,
     "metadata": {},
     "output_type": "execute_result"
    }
   ],
   "source": [
    "y_datetime = pd.Series(\n",
    "    np.arange(15), index=pd.date_range('2000-01-01', periods=15, freq='D'),\n",
    "    name='y', dtype=float\n",
    ")\n",
    "\n",
    "rolling = RollingFeatures(\n",
    "    stats=['mean', 'median', 'sum'], window_sizes=[5, 5, 6]\n",
    ")\n",
    "\n",
    "results = rolling.transform_batch(y_datetime)\n",
    "results"
   ]
  },
  {
   "cell_type": "code",
   "execution_count": 9,
   "metadata": {},
   "outputs": [
    {
     "data": {
      "text/html": [
       "<div>\n",
       "<style scoped>\n",
       "    .dataframe tbody tr th:only-of-type {\n",
       "        vertical-align: middle;\n",
       "    }\n",
       "\n",
       "    .dataframe tbody tr th {\n",
       "        vertical-align: top;\n",
       "    }\n",
       "\n",
       "    .dataframe thead th {\n",
       "        text-align: right;\n",
       "    }\n",
       "</style>\n",
       "<table border=\"1\" class=\"dataframe\">\n",
       "  <thead>\n",
       "    <tr style=\"text-align: right;\">\n",
       "      <th></th>\n",
       "      <th>roll_mean_5</th>\n",
       "      <th>roll_median_5</th>\n",
       "      <th>roll_sum_6</th>\n",
       "    </tr>\n",
       "  </thead>\n",
       "  <tbody>\n",
       "    <tr>\n",
       "      <th>2000-01-07</th>\n",
       "      <td>4.0</td>\n",
       "      <td>4.0</td>\n",
       "      <td>21.0</td>\n",
       "    </tr>\n",
       "    <tr>\n",
       "      <th>2000-01-08</th>\n",
       "      <td>5.0</td>\n",
       "      <td>5.0</td>\n",
       "      <td>27.0</td>\n",
       "    </tr>\n",
       "    <tr>\n",
       "      <th>2000-01-09</th>\n",
       "      <td>6.0</td>\n",
       "      <td>6.0</td>\n",
       "      <td>33.0</td>\n",
       "    </tr>\n",
       "    <tr>\n",
       "      <th>2000-01-10</th>\n",
       "      <td>7.0</td>\n",
       "      <td>7.0</td>\n",
       "      <td>39.0</td>\n",
       "    </tr>\n",
       "    <tr>\n",
       "      <th>2000-01-11</th>\n",
       "      <td>8.0</td>\n",
       "      <td>8.0</td>\n",
       "      <td>45.0</td>\n",
       "    </tr>\n",
       "    <tr>\n",
       "      <th>2000-01-12</th>\n",
       "      <td>9.0</td>\n",
       "      <td>9.0</td>\n",
       "      <td>51.0</td>\n",
       "    </tr>\n",
       "    <tr>\n",
       "      <th>2000-01-13</th>\n",
       "      <td>10.0</td>\n",
       "      <td>10.0</td>\n",
       "      <td>57.0</td>\n",
       "    </tr>\n",
       "    <tr>\n",
       "      <th>2000-01-14</th>\n",
       "      <td>11.0</td>\n",
       "      <td>11.0</td>\n",
       "      <td>63.0</td>\n",
       "    </tr>\n",
       "    <tr>\n",
       "      <th>2000-01-15</th>\n",
       "      <td>12.0</td>\n",
       "      <td>12.0</td>\n",
       "      <td>69.0</td>\n",
       "    </tr>\n",
       "  </tbody>\n",
       "</table>\n",
       "</div>"
      ],
      "text/plain": [
       "            roll_mean_5  roll_median_5  roll_sum_6\n",
       "2000-01-07          4.0            4.0        21.0\n",
       "2000-01-08          5.0            5.0        27.0\n",
       "2000-01-09          6.0            6.0        33.0\n",
       "2000-01-10          7.0            7.0        39.0\n",
       "2000-01-11          8.0            8.0        45.0\n",
       "2000-01-12          9.0            9.0        51.0\n",
       "2000-01-13         10.0           10.0        57.0\n",
       "2000-01-14         11.0           11.0        63.0\n",
       "2000-01-15         12.0           12.0        69.0"
      ]
     },
     "execution_count": 9,
     "metadata": {},
     "output_type": "execute_result"
    }
   ],
   "source": [
    "results.iloc[6:]"
   ]
  },
  {
   "cell_type": "code",
   "execution_count": 14,
   "metadata": {},
   "outputs": [],
   "source": [
    "y_datetime = pd.Series(\n",
    "    np.arange(15), index=pd.date_range('2000-01-01', periods=15, freq='D'),\n",
    "    name='y', dtype=float\n",
    ")\n",
    "exog_datetime = pd.Series(\n",
    "    np.arange(100, 115), index=pd.date_range('2000-01-01', periods=15, freq='D'),\n",
    "    name='exog', dtype=float\n",
    ")\n",
    "forecaster = ForecasterAutoreg(LinearRegression(), lags=5, window_features=rolling)\n",
    "results = forecaster._create_train_X_y(y=y_datetime, exog=exog_datetime)"
   ]
  },
  {
   "cell_type": "code",
   "execution_count": 18,
   "metadata": {},
   "outputs": [
    {
     "data": {
      "text/plain": [
       "2000-01-01     0.0\n",
       "2000-01-02     1.0\n",
       "2000-01-03     2.0\n",
       "2000-01-04     3.0\n",
       "2000-01-05     4.0\n",
       "2000-01-06     5.0\n",
       "2000-01-07     6.0\n",
       "2000-01-08     7.0\n",
       "2000-01-09     8.0\n",
       "2000-01-10     9.0\n",
       "2000-01-11    10.0\n",
       "2000-01-12    11.0\n",
       "2000-01-13    12.0\n",
       "2000-01-14    13.0\n",
       "2000-01-15    14.0\n",
       "Freq: D, Name: y, dtype: float64"
      ]
     },
     "execution_count": 18,
     "metadata": {},
     "output_type": "execute_result"
    }
   ],
   "source": [
    "y_datetime"
   ]
  },
  {
   "cell_type": "code",
   "execution_count": 17,
   "metadata": {},
   "outputs": [
    {
     "data": {
      "text/plain": [
       "(            lag_1  lag_2  lag_3  lag_4  lag_5\n",
       " 2000-01-07    5.0    4.0    3.0    2.0    1.0\n",
       " 2000-01-08    6.0    5.0    4.0    3.0    2.0\n",
       " 2000-01-09    7.0    6.0    5.0    4.0    3.0\n",
       " 2000-01-10    8.0    7.0    6.0    5.0    4.0\n",
       " 2000-01-11    9.0    8.0    7.0    6.0    5.0\n",
       " 2000-01-12   10.0    9.0    8.0    7.0    6.0\n",
       " 2000-01-13   11.0   10.0    9.0    8.0    7.0\n",
       " 2000-01-14   12.0   11.0   10.0    9.0    8.0\n",
       " 2000-01-15   13.0   12.0   11.0   10.0    9.0,\n",
       " array([ 6.,  7.,  8.,  9., 10., 11., 12., 13., 14.]))"
      ]
     },
     "execution_count": 17,
     "metadata": {},
     "output_type": "execute_result"
    }
   ],
   "source": [
    "forecaster._create_lags(y=y_datetime.to_numpy(), X_as_pandas=True, \n",
    "                        train_index=y_datetime.index[forecaster.window_size:])"
   ]
  },
  {
   "cell_type": "code",
   "execution_count": 6,
   "metadata": {},
   "outputs": [
    {
     "name": "stdout",
     "output_type": "stream",
     "text": [
      "            roll_mean_5  roll_median_5  roll_sum_6\n",
      "2020-01-06          3.0            3.0        15.0\n",
      "2020-01-07          4.0            4.0        21.0\n",
      "2020-01-08          5.0            5.0        27.0\n",
      "2020-01-09          6.0            6.0        33.0\n",
      "2020-01-10          7.0            7.0        39.0\n",
      "DatetimeIndex(['2020-01-06', '2020-01-07', '2020-01-08', '2020-01-09',\n",
      "               '2020-01-10'],\n",
      "              dtype='datetime64[ns]', freq='D')\n"
     ]
    },
    {
     "data": {
      "text/plain": [
       "[            roll_mean_5  roll_median_5  roll_sum_6\n",
       " 2020-01-06          3.0            3.0        15.0\n",
       " 2020-01-07          4.0            4.0        21.0\n",
       " 2020-01-08          5.0            5.0        27.0\n",
       " 2020-01-09          6.0            6.0        33.0\n",
       " 2020-01-10          7.0            7.0        39.0]"
      ]
     },
     "execution_count": 6,
     "metadata": {},
     "output_type": "execute_result"
    }
   ],
   "source": [
    "\n",
    "y_datetime = pd.Series(\n",
    "    np.arange(10),pd.date_range(start='2020-01-01', periods=10)\n",
    ")\n",
    "train_index = pd.date_range(start='2020-01-06', periods=5)\n",
    "rolling = RollingFeatures(\n",
    "    stats=['mean', 'median', 'sum'], window_sizes=[5, 5, 6]\n",
    ")\n",
    "\n",
    "forecaster = ForecasterAutoreg(LinearRegression(), lags=3,\n",
    "                                window_features=rolling)\n",
    "results = forecaster._create_window_features(\n",
    "    y=y_datetime, train_index=train_index, X_as_pandas=True\n",
    ")\n",
    "results[0]"
   ]
  },
  {
   "cell_type": "code",
   "execution_count": null,
   "metadata": {},
   "outputs": [],
   "source": []
  }
 ],
 "metadata": {
  "kernelspec": {
   "display_name": "skforecast_py10",
   "language": "python",
   "name": "python3"
  },
  "language_info": {
   "codemirror_mode": {
    "name": "ipython",
    "version": 3
   },
   "file_extension": ".py",
   "mimetype": "text/x-python",
   "name": "python",
   "nbconvert_exporter": "python",
   "pygments_lexer": "ipython3",
   "version": "3.12.4"
  },
  "orig_nbformat": 4,
  "vscode": {
   "interpreter": {
    "hash": "c78d62c1713fdacd99ef7c429003c7324b36fbb551fb8b6860a7ea73e9338235"
   }
  }
 },
 "nbformat": 4,
 "nbformat_minor": 2
}
