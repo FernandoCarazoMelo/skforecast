{
 "cells": [
  {
   "cell_type": "code",
   "execution_count": 1,
   "metadata": {},
   "outputs": [
    {
     "name": "stdout",
     "output_type": "stream",
     "text": [
      "c:\\Users\\jaesc2\\GitHub\\skforecast\n"
     ]
    }
   ],
   "source": [
    "%load_ext autoreload\n",
    "%autoreload 2\n",
    "import sys\n",
    "from pathlib import Path\n",
    "path = str(Path.cwd().parent)\n",
    "print(path)\n",
    "sys.path.insert(1, path)"
   ]
  },
  {
   "cell_type": "code",
   "execution_count": 3,
   "metadata": {},
   "outputs": [],
   "source": [
    "import re\n",
    "import pytest\n",
    "import joblib\n",
    "import warnings\n",
    "import numpy as np\n",
    "import pandas as pd\n",
    "from pathlib import Path\n",
    "from sklearn.preprocessing import StandardScaler\n",
    "from lightgbm import LGBMRegressor\n",
    "from sklearn.linear_model import Ridge\n",
    "from skforecast.recursive import ForecasterRecursiveMultiSeries\n",
    "from skforecast.direct import ForecasterDirectMultiVariate\n",
    "from skforecast.model_selection import bayesian_search_forecaster_multiseries\n",
    "from skforecast.model_selection._split import TimeSeriesFold, OneStepAheadFold\n",
    "from skforecast.preprocessing import RollingFeatures\n",
    "from sklearn.metrics import mean_absolute_percentage_error\n",
    "from skforecast.metrics import mean_absolute_scaled_error\n",
    "import os\n",
    "\n",
    "# Fixtures\n",
    "from skforecast.model_selection.tests.fixtures_model_selection_multiseries import series\n",
    "THIS_DIR = Path(\"C:\\\\Users\\\\Joaquín Amat\\\\Documents\\\\GitHub\\\\skforecast\\\\skforecast\\\\model_selection\\\\tests\")\n",
    "THIS_DIR = Path(r\"C:\\Users\\jaesc2\\GitHub\\skforecast\\skforecast\\model_selection\\tests\")\n",
    "series_item_sales = pd.read_parquet(THIS_DIR/'fixture_multi_series_items_sales.parquet')\n",
    "series_item_sales = series_item_sales.asfreq('D')\n",
    "exog_item_sales = pd.DataFrame({'day_of_week': series_item_sales.index.dayofweek}, index = series_item_sales.index)\n",
    "series_dict = joblib.load(THIS_DIR/'fixture_sample_multi_series.joblib')\n",
    "exog_dict = joblib.load(THIS_DIR/'fixture_sample_multi_series_exog.joblib')\n",
    "end_train = \"2016-07-31 23:59:00\"\n",
    "series_dict_train = {k: v.loc[:end_train,] for k, v in series_dict.items()}\n",
    "exog_dict_train = {k: v.loc[:end_train,] for k, v in exog_dict.items()}\n",
    "series_dict_test = {k: v.loc[end_train:,] for k, v in series_dict.items()}\n",
    "exog_dict_test = {k: v.loc[end_train:,] for k, v in exog_dict.items()}"
   ]
  },
  {
   "cell_type": "code",
   "execution_count": 4,
   "metadata": {},
   "outputs": [],
   "source": [
    "import re\n",
    "import pytest\n",
    "import numpy as np\n",
    "import pandas as pd\n",
    "from sklearn.linear_model import Ridge\n",
    "# from skopt.space import Real\n",
    "from skforecast.recursive import ForecasterRecursive\n",
    "from skforecast.model_selection._search import bayesian_search_forecaster\n",
    "from skforecast.model_selection._split import TimeSeriesFold\n",
    "\n",
    "# Fixtures\n",
    "from skforecast.model_selection.tests.fixtures_model_selection import y"
   ]
  },
  {
   "cell_type": "code",
   "execution_count": 8,
   "metadata": {},
   "outputs": [],
   "source": [
    "import os\n",
    "import re\n",
    "import sys\n",
    "import pytest\n",
    "from pytest import approx\n",
    "import numpy as np\n",
    "import pandas as pd\n",
    "from sklearn.ensemble import RandomForestRegressor\n",
    "from sklearn.linear_model import Ridge\n",
    "from sklearn.metrics import mean_absolute_error\n",
    "from sklearn.preprocessing import StandardScaler\n",
    "from skforecast.recursive import ForecasterRecursiveMultiSeries\n",
    "from skforecast.direct import ForecasterDirectMultiVariate\n",
    "from skforecast.model_selection import backtesting_forecaster_multiseries\n",
    "from skforecast.model_selection._search import _bayesian_search_optuna_multiseries\n",
    "from skforecast.model_selection._search import _evaluate_grid_hyperparameters_multiseries\n",
    "from skforecast.model_selection._split import TimeSeriesFold\n",
    "from skforecast.preprocessing import RollingFeatures\n",
    "import optuna\n",
    "from optuna.samplers import TPESampler\n",
    "from tqdm import tqdm\n",
    "from functools import partialmethod\n",
    "\n",
    "import re\n",
    "import pytest\n",
    "import os\n",
    "import sys\n",
    "import numpy as np\n",
    "import pandas as pd\n",
    "from sklearn.ensemble import RandomForestRegressor\n",
    "from sklearn.linear_model import Ridge\n",
    "from sklearn.metrics import mean_absolute_error\n",
    "from skforecast.recursive import ForecasterRecursive\n",
    "from skforecast.direct import ForecasterDirect\n",
    "from skforecast.model_selection import backtesting_forecaster\n",
    "from skforecast.model_selection._search import _bayesian_search_optuna\n",
    "from skforecast.model_selection._split import TimeSeriesFold\n",
    "import optuna\n",
    "from optuna.samplers import TPESampler\n",
    "from tqdm import tqdm\n",
    "from functools import partialmethod"
   ]
  },
  {
   "cell_type": "code",
   "execution_count": 17,
   "metadata": {},
   "outputs": [
    {
     "data": {
      "application/vnd.jupyter.widget-view+json": {
       "model_id": "1f58c8ff757346ef896c97589d461de0",
       "version_major": 2,
       "version_minor": 0
      },
      "text/plain": [
       "lags grid:   0%|          | 0/2 [00:00<?, ?it/s]"
      ]
     },
     "metadata": {},
     "output_type": "display_data"
    },
    {
     "data": {
      "application/vnd.jupyter.widget-view+json": {
       "model_id": "7cf80f8c9fbd4711812bf7d6c228a180",
       "version_major": 2,
       "version_minor": 0
      },
      "text/plain": [
       "params grid:   0%|          | 0/2 [00:00<?, ?it/s]"
      ]
     },
     "metadata": {},
     "output_type": "display_data"
    }
   ],
   "source": [
    "window_features = RollingFeatures(\n",
    "    stats=['mean', 'std', 'min', 'max', 'sum', 'median', 'ratio_min_max', 'coef_variation'],\n",
    "    window_sizes=3,\n",
    ")\n",
    "regressor = LGBMRegressor(\n",
    "    n_estimators=20, random_state=123, verbose=-1\n",
    ")\n",
    "forecaster = ForecasterRecursiveMultiSeries(\n",
    "                    regressor          = regressor,\n",
    "                    lags               = 2, \n",
    "                    window_features    = window_features,\n",
    "                    encoding           = 'onehot',\n",
    "                    transformer_series = None\n",
    "                )\n",
    "cv = TimeSeriesFold(\n",
    "        initial_train_size = len(series) - 12,\n",
    "        steps              = 3,\n",
    "        gap                = 0,\n",
    "        refit              = False,\n",
    "        fixed_train_size   = False,\n",
    "        )\n",
    "lags_grid = [2, 4]\n",
    "param_grid = [\n",
    "    {'n_estimators': 15, 'max_depth': 5},\n",
    "    {'n_estimators': 10, 'max_depth': 3}\n",
    "]\n",
    "\n",
    "results = _evaluate_grid_hyperparameters_multiseries(\n",
    "                forecaster         = forecaster,\n",
    "                series             = series_dict,\n",
    "                exog               = exog_dict,\n",
    "                param_grid         = param_grid,\n",
    "                cv                 = cv,\n",
    "                metric             = 'mean_absolute_error',\n",
    "                aggregate_metric   = 'weighted_average',\n",
    "                levels             = None,\n",
    "                lags_grid          = lags_grid,\n",
    "                return_best        = False,\n",
    "                verbose            = False\n",
    "            )"
   ]
  },
  {
   "cell_type": "code",
   "execution_count": 18,
   "metadata": {},
   "outputs": [
    {
     "data": {
      "text/plain": [
       "{'levels': [['id_1000', 'id_1001', 'id_1002', 'id_1003', 'id_1004'],\n",
       "  ['id_1000', 'id_1001', 'id_1002', 'id_1003', 'id_1004'],\n",
       "  ['id_1000', 'id_1001', 'id_1002', 'id_1003', 'id_1004'],\n",
       "  ['id_1000', 'id_1001', 'id_1002', 'id_1003', 'id_1004']],\n",
       " 'lags': [array([1, 2, 3, 4]),\n",
       "  array([1, 2]),\n",
       "  array([1, 2, 3, 4]),\n",
       "  array([1, 2])],\n",
       " 'lags_label': [array([1, 2, 3, 4]),\n",
       "  array([1, 2]),\n",
       "  array([1, 2, 3, 4]),\n",
       "  array([1, 2])],\n",
       " 'params': [{'n_estimators': 15, 'max_depth': 5},\n",
       "  {'n_estimators': 15, 'max_depth': 5},\n",
       "  {'n_estimators': 10, 'max_depth': 3},\n",
       "  {'n_estimators': 10, 'max_depth': 3}],\n",
       " 'mean_absolute_error__weighted_average': [663.557949349482,\n",
       "  673.8431369197542,\n",
       "  761.8926543280367,\n",
       "  775.090407239743],\n",
       " 'n_estimators': [15, 15, 10, 10],\n",
       " 'max_depth': [5, 5, 3, 3]}"
      ]
     },
     "execution_count": 18,
     "metadata": {},
     "output_type": "execute_result"
    }
   ],
   "source": [
    "results.to_dict(orient='list')"
   ]
  },
  {
   "cell_type": "code",
   "execution_count": null,
   "metadata": {},
   "outputs": [],
   "source": [
    "{'levels': [['l1', 'l2'],\n",
    "  ['l1', 'l2'],\n",
    "  ['l1', 'l2'],\n",
    "  ['l1', 'l2'],\n",
    "  ['l1', 'l2'],\n",
    "  ['l1', 'l2']],\n",
    " 'lags': [np.array([1, 2, 3, 4]),\n",
    "  np.array([1, 2, 3, 4]),\n",
    "  np.array([1, 2]),\n",
    "  np.array([1, 2]),\n",
    "  np.array([1, 2, 3, 4]),\n",
    "  np.array([1, 2])],\n",
    " 'lags_label': [np.array([1, 2, 3, 4]),\n",
    "  np.array([1, 2, 3, 4]),\n",
    "  np.array([1, 2]),\n",
    "  np.array([1, 2]),\n",
    "  np.array([1, 2, 3, 4]),\n",
    "  np.array([1, 2])],\n",
    " 'params': [{'alpha': 1},\n",
    "  {'alpha': 0.1},\n",
    "  {'alpha': 1},\n",
    "  {'alpha': 0.1},\n",
    "  {'alpha': 0.01},\n",
    "  {'alpha': 0.01}],\n",
    " 'mean_absolute_error__weighted_average': [0.2146029752649913,\n",
    "  0.2155171009179464,\n",
    "  0.21574815856300625,\n",
    "  0.21677673611895729,\n",
    "  0.22004258621311923,\n",
    "  0.22107598684517502],\n",
    " 'alpha': [1.0, 0.1, 1.0, 0.1, 0.01, 0.01]}"
   ]
  }
 ],
 "metadata": {
  "kernelspec": {
   "display_name": "skforecast_py12",
   "language": "python",
   "name": "python3"
  },
  "language_info": {
   "codemirror_mode": {
    "name": "ipython",
    "version": 3
   },
   "file_extension": ".py",
   "mimetype": "text/x-python",
   "name": "python",
   "nbconvert_exporter": "python",
   "pygments_lexer": "ipython3",
   "version": "3.12.4"
  },
  "orig_nbformat": 4
 },
 "nbformat": 4,
 "nbformat_minor": 2
}
