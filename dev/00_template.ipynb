{
 "cells": [
  {
   "cell_type": "code",
   "execution_count": 3,
   "metadata": {},
   "outputs": [
    {
     "name": "stdout",
     "output_type": "stream",
     "text": [
      "c:\\Users\\Joaquín Amat\\Documents\\GitHub\\skforecast\n"
     ]
    }
   ],
   "source": [
    "%load_ext autoreload\n",
    "%autoreload 2\n",
    "import sys\n",
    "from pathlib import Path\n",
    "path = str(Path.cwd().parent)\n",
    "print(path)\n",
    "sys.path.insert(1, path)"
   ]
  },
  {
   "cell_type": "code",
   "execution_count": 4,
   "metadata": {},
   "outputs": [],
   "source": [
    "import re\n",
    "import pytest\n",
    "import numpy as np\n",
    "import pandas as pd\n",
    "from sklearn.linear_model import LinearRegression\n",
    "from sklearn.exceptions import NotFittedError\n",
    "from sklearn.preprocessing import StandardScaler\n",
    "from skforecast.exceptions import IgnoredArgumentWarning\n",
    "from skforecast.exceptions import UnknownLevelWarning\n",
    "from skforecast.recursive import ForecasterRecursiveMultiSeries\n",
    "\n",
    "\n",
    "series = pd.DataFrame({'l1': pd.Series(np.arange(10)), \n",
    "                       'l2': pd.Series(np.arange(10))})"
   ]
  },
  {
   "cell_type": "code",
   "execution_count": 11,
   "metadata": {},
   "outputs": [
    {
     "name": "stderr",
     "output_type": "stream",
     "text": [
      "c:\\Users\\Joaquín Amat\\Documents\\GitHub\\skforecast\\skforecast\\recursive\\_forecaster_recursive_multiseries.py:436: UserWarning: When using a linear model, it is recommended to use a transformer_series to ensure all series are in the same scale. You can use, for example, a `StandardScaler` from sklearn.preprocessing.\n",
      "  warnings.warn(\n"
     ]
    },
    {
     "data": {
      "text/plain": [
       "{'l1': array([1, 1, 1, 1, 1]),\n",
       " 'l2': array([2, 2, 2, 2, 2]),\n",
       " '_unknown_level': array([1, 1, 1, 1, 1, 2, 2, 2, 2, 2])}"
      ]
     },
     "execution_count": 11,
     "metadata": {},
     "output_type": "execute_result"
    }
   ],
   "source": [
    "forecaster = ForecasterRecursiveMultiSeries(\n",
    "                LinearRegression(),\n",
    "                lags=3,\n",
    "                encoding='ordinal',\n",
    "                )\n",
    "forecaster.fit(series=series)\n",
    "y_true = {'l1': np.array([1, 2, 3, 4, 5]), 'l2': np.array([2, 3, 4, 5, 6])}\n",
    "y_pred = {'l1': np.array([0, 1, 2, 3, 4]), 'l2': np.array([0, 1, 2, 3, 4])}\n",
    "\n",
    "forecaster.set_out_sample_residuals(y_true=y_true, y_pred=y_pred)\n",
    "results = forecaster.out_sample_residuals_\n",
    "expected = {\n",
    "    'l1': np.array([1, 1, 1, 1, 1]),\n",
    "    'l2': np.array([2, 2, 2, 2, 2]),\n",
    "    '_unknown_level': np.array([2, 2, 2, 2, 2, 1, 1, 1, 1, 1])\n",
    "}\n",
    "\n",
    "assert expected.keys() == results.keys()\n",
    "assert all(all(np.sort(expected[k]) == np.sort(results[k])) for k in expected.keys())\n",
    "\n",
    "results"
   ]
  },
  {
   "cell_type": "code",
   "execution_count": 10,
   "metadata": {},
   "outputs": [
    {
     "data": {
      "text/plain": [
       "{'l1': array([1, 1, 1, 1, 1]),\n",
       " 'l2': array([2, 2, 2, 2, 2]),\n",
       " '_unknown_level': array([1, 1, 1, 1, 1, 2, 2, 2, 2, 2])}"
      ]
     },
     "execution_count": 10,
     "metadata": {},
     "output_type": "execute_result"
    }
   ],
   "source": [
    "results"
   ]
  },
  {
   "cell_type": "code",
   "execution_count": 43,
   "metadata": {},
   "outputs": [
    {
     "data": {
      "text/plain": [
       "[1, 2, 3, 4, 5, 1, 2, 3, 4, 5]"
      ]
     },
     "execution_count": 43,
     "metadata": {},
     "output_type": "execute_result"
    }
   ],
   "source": [
    "[1, 2, 3, 4, 5] * 2"
   ]
  },
  {
   "cell_type": "code",
   "execution_count": 43,
   "metadata": {},
   "outputs": [
    {
     "data": {
      "text/plain": [
       "2024-01-01    116.765062\n",
       "2024-01-02    123.313042\n",
       "2024-01-03    126.326493\n",
       "2024-01-04    128.998787\n",
       "2024-01-05    132.018021\n",
       "2024-01-06    134.986518\n",
       "2024-01-07    137.623172\n",
       "2024-01-08    139.927627\n",
       "2024-01-09    141.982424\n",
       "2024-01-10    143.839301\n",
       "Freq: D, Name: pred, dtype: float64"
      ]
     },
     "execution_count": 43,
     "metadata": {},
     "output_type": "execute_result"
    }
   ],
   "source": [
    "forecaster.predict(steps = 10)"
   ]
  },
  {
   "cell_type": "code",
   "execution_count": 44,
   "metadata": {},
   "outputs": [
    {
     "name": "stdout",
     "output_type": "stream",
     "text": [
      "Information of backtesting process\n",
      "----------------------------------\n",
      "Number of observations used for initial training: 3958\n",
      "Number of observations used for backtesting: 30\n",
      "    Number of folds: 30\n",
      "    Number skipped folds: 0 \n",
      "    Number of steps per fold: 1\n",
      "    Number of steps to exclude from the end of each train set before test (gap): 0\n",
      "\n",
      "Fold: 0\n",
      "    Training:   2013-01-30 00:00:00 -- 2023-12-01 00:00:00  (n=3958)\n",
      "    Validation: 2023-12-02 00:00:00 -- 2023-12-02 00:00:00  (n=1)\n",
      "Fold: 1\n",
      "    Training:   2013-01-31 00:00:00 -- 2023-12-02 00:00:00  (n=3958)\n",
      "    Validation: 2023-12-03 00:00:00 -- 2023-12-03 00:00:00  (n=1)\n",
      "Fold: 2\n",
      "    Training:   2013-02-01 00:00:00 -- 2023-12-03 00:00:00  (n=3958)\n",
      "    Validation: 2023-12-04 00:00:00 -- 2023-12-04 00:00:00  (n=1)\n",
      "Fold: 3\n",
      "    Training:   2013-02-02 00:00:00 -- 2023-12-04 00:00:00  (n=3958)\n",
      "    Validation: 2023-12-05 00:00:00 -- 2023-12-05 00:00:00  (n=1)\n",
      "Fold: 4\n",
      "    Training:   2013-02-03 00:00:00 -- 2023-12-05 00:00:00  (n=3958)\n",
      "    Validation: 2023-12-06 00:00:00 -- 2023-12-06 00:00:00  (n=1)\n",
      "Fold: 5\n",
      "    Training:   2013-02-04 00:00:00 -- 2023-12-06 00:00:00  (n=3958)\n",
      "    Validation: 2023-12-07 00:00:00 -- 2023-12-07 00:00:00  (n=1)\n",
      "Fold: 6\n",
      "    Training:   2013-02-05 00:00:00 -- 2023-12-07 00:00:00  (n=3958)\n",
      "    Validation: 2023-12-08 00:00:00 -- 2023-12-08 00:00:00  (n=1)\n",
      "Fold: 7\n",
      "    Training:   2013-02-06 00:00:00 -- 2023-12-08 00:00:00  (n=3958)\n",
      "    Validation: 2023-12-09 00:00:00 -- 2023-12-09 00:00:00  (n=1)\n",
      "Fold: 8\n",
      "    Training:   2013-02-07 00:00:00 -- 2023-12-09 00:00:00  (n=3958)\n",
      "    Validation: 2023-12-10 00:00:00 -- 2023-12-10 00:00:00  (n=1)\n",
      "Fold: 9\n",
      "    Training:   2013-02-08 00:00:00 -- 2023-12-10 00:00:00  (n=3958)\n",
      "    Validation: 2023-12-11 00:00:00 -- 2023-12-11 00:00:00  (n=1)\n",
      "Fold: 10\n",
      "    Training:   2013-02-09 00:00:00 -- 2023-12-11 00:00:00  (n=3958)\n",
      "    Validation: 2023-12-12 00:00:00 -- 2023-12-12 00:00:00  (n=1)\n",
      "Fold: 11\n",
      "    Training:   2013-02-10 00:00:00 -- 2023-12-12 00:00:00  (n=3958)\n",
      "    Validation: 2023-12-13 00:00:00 -- 2023-12-13 00:00:00  (n=1)\n",
      "Fold: 12\n",
      "    Training:   2013-02-11 00:00:00 -- 2023-12-13 00:00:00  (n=3958)\n",
      "    Validation: 2023-12-14 00:00:00 -- 2023-12-14 00:00:00  (n=1)\n",
      "Fold: 13\n",
      "    Training:   2013-02-12 00:00:00 -- 2023-12-14 00:00:00  (n=3958)\n",
      "    Validation: 2023-12-15 00:00:00 -- 2023-12-15 00:00:00  (n=1)\n",
      "Fold: 14\n",
      "    Training:   2013-02-13 00:00:00 -- 2023-12-15 00:00:00  (n=3958)\n",
      "    Validation: 2023-12-16 00:00:00 -- 2023-12-16 00:00:00  (n=1)\n",
      "Fold: 15\n",
      "    Training:   2013-02-14 00:00:00 -- 2023-12-16 00:00:00  (n=3958)\n",
      "    Validation: 2023-12-17 00:00:00 -- 2023-12-17 00:00:00  (n=1)\n",
      "Fold: 16\n",
      "    Training:   2013-02-15 00:00:00 -- 2023-12-17 00:00:00  (n=3958)\n",
      "    Validation: 2023-12-18 00:00:00 -- 2023-12-18 00:00:00  (n=1)\n",
      "Fold: 17\n",
      "    Training:   2013-02-16 00:00:00 -- 2023-12-18 00:00:00  (n=3958)\n",
      "    Validation: 2023-12-19 00:00:00 -- 2023-12-19 00:00:00  (n=1)\n",
      "Fold: 18\n",
      "    Training:   2013-02-17 00:00:00 -- 2023-12-19 00:00:00  (n=3958)\n",
      "    Validation: 2023-12-20 00:00:00 -- 2023-12-20 00:00:00  (n=1)\n",
      "Fold: 19\n",
      "    Training:   2013-02-18 00:00:00 -- 2023-12-20 00:00:00  (n=3958)\n",
      "    Validation: 2023-12-21 00:00:00 -- 2023-12-21 00:00:00  (n=1)\n",
      "Fold: 20\n",
      "    Training:   2013-02-19 00:00:00 -- 2023-12-21 00:00:00  (n=3958)\n",
      "    Validation: 2023-12-22 00:00:00 -- 2023-12-22 00:00:00  (n=1)\n",
      "Fold: 21\n",
      "    Training:   2013-02-20 00:00:00 -- 2023-12-22 00:00:00  (n=3958)\n",
      "    Validation: 2023-12-23 00:00:00 -- 2023-12-23 00:00:00  (n=1)\n",
      "Fold: 22\n",
      "    Training:   2013-02-21 00:00:00 -- 2023-12-23 00:00:00  (n=3958)\n",
      "    Validation: 2023-12-24 00:00:00 -- 2023-12-24 00:00:00  (n=1)\n",
      "Fold: 23\n",
      "    Training:   2013-02-22 00:00:00 -- 2023-12-24 00:00:00  (n=3958)\n",
      "    Validation: 2023-12-25 00:00:00 -- 2023-12-25 00:00:00  (n=1)\n",
      "Fold: 24\n",
      "    Training:   2013-02-23 00:00:00 -- 2023-12-25 00:00:00  (n=3958)\n",
      "    Validation: 2023-12-26 00:00:00 -- 2023-12-26 00:00:00  (n=1)\n",
      "Fold: 25\n",
      "    Training:   2013-02-24 00:00:00 -- 2023-12-26 00:00:00  (n=3958)\n",
      "    Validation: 2023-12-27 00:00:00 -- 2023-12-27 00:00:00  (n=1)\n",
      "Fold: 26\n",
      "    Training:   2013-02-25 00:00:00 -- 2023-12-27 00:00:00  (n=3958)\n",
      "    Validation: 2023-12-28 00:00:00 -- 2023-12-28 00:00:00  (n=1)\n",
      "Fold: 27\n",
      "    Training:   2013-02-26 00:00:00 -- 2023-12-28 00:00:00  (n=3958)\n",
      "    Validation: 2023-12-29 00:00:00 -- 2023-12-29 00:00:00  (n=1)\n",
      "Fold: 28\n",
      "    Training:   2013-02-27 00:00:00 -- 2023-12-29 00:00:00  (n=3958)\n",
      "    Validation: 2023-12-30 00:00:00 -- 2023-12-30 00:00:00  (n=1)\n",
      "Fold: 29\n",
      "    Training:   2013-02-28 00:00:00 -- 2023-12-30 00:00:00  (n=3958)\n",
      "    Validation: 2023-12-31 00:00:00 -- 2023-12-31 00:00:00  (n=1)\n",
      "\n"
     ]
    },
    {
     "data": {
      "application/vnd.jupyter.widget-view+json": {
       "model_id": "1774e09cccd14ada8547c9d1d06113f5",
       "version_major": 2,
       "version_minor": 0
      },
      "text/plain": [
       "  0%|          | 0/30 [00:00<?, ?it/s]"
      ]
     },
     "metadata": {},
     "output_type": "display_data"
    }
   ],
   "source": [
    "# Backtesting predictions\n",
    "# ==============================================================================\n",
    "metric, predictions = backtesting_forecaster(\n",
    "    forecaster            = forecaster,\n",
    "    y                     = df_test[\"y\"],\n",
    "    steps                 = 1,\n",
    "    metric                = 'mean_absolute_error',\n",
    "    initial_train_size    = len(df_test) - 30,\n",
    "    interval              = [2.5, 97.5],\n",
    "    refit                 = True,\n",
    "    n_jobs                = 1,\n",
    "    verbose               = True,\n",
    "    show_progress         = True,\n",
    "    random_state          = 12345\n",
    ")\n"
   ]
  },
  {
   "cell_type": "code",
   "execution_count": 45,
   "metadata": {},
   "outputs": [
    {
     "name": "stderr",
     "output_type": "stream",
     "text": [
      "/home/ubuntu/anaconda3/envs/skforecast_13_py12/lib/python3.12/site-packages/sklearn/base.py:493: UserWarning: X does not have valid feature names, but FunctionTransformer was fitted with feature names\n",
      "  warnings.warn(\n"
     ]
    },
    {
     "data": {
      "text/plain": [
       "array([[5.07196368],\n",
       "       [5.07196368],\n",
       "       [5.07196368],\n",
       "       ...,\n",
       "       [4.77267769],\n",
       "       [4.55639565],\n",
       "       [4.6532061 ]])"
      ]
     },
     "execution_count": 45,
     "metadata": {},
     "output_type": "execute_result"
    }
   ],
   "source": [
    "transformer_y    = FunctionTransformer(func=np.log1p, inverse_func=np.expm1, validate=True)\n",
    "transformer_y.fit_transform(df_test[[\"y\"]])"
   ]
  },
  {
   "cell_type": "code",
   "execution_count": 38,
   "metadata": {},
   "outputs": [
    {
     "data": {
      "text/plain": [
       "array([[-0.00837553],\n",
       "       [-0.00837553],\n",
       "       [-0.00837553],\n",
       "       ...,\n",
       "       [-0.16196198],\n",
       "       [-0.24757884],\n",
       "       [-0.21153412]])"
      ]
     },
     "execution_count": 38,
     "metadata": {},
     "output_type": "execute_result"
    }
   ],
   "source": [
    "transformer_y    = StandardScaler()\n",
    "transformer_y.fit_transform(df_test[\"y\"].values.reshape(-1, 1))"
   ]
  },
  {
   "cell_type": "code",
   "execution_count": null,
   "metadata": {},
   "outputs": [],
   "source": [
    "\n",
    "forecaster = ForecasterAutoreg(\n",
    "    regressor        = LinearRegression(),\n",
    "    lags             = 3, # using past 3 days\n",
    "    #transformer_y    = transformer_y,  <============\n",
    "    transformer_exog = transformer_exog\n",
    ")"
   ]
  }
 ],
 "metadata": {
  "kernelspec": {
   "display_name": "skforecast_14_p12",
   "language": "python",
   "name": "python3"
  },
  "language_info": {
   "codemirror_mode": {
    "name": "ipython",
    "version": 3
   },
   "file_extension": ".py",
   "mimetype": "text/x-python",
   "name": "python",
   "nbconvert_exporter": "python",
   "pygments_lexer": "ipython3",
   "version": "3.12.4"
  },
  "orig_nbformat": 4
 },
 "nbformat": 4,
 "nbformat_minor": 2
}
