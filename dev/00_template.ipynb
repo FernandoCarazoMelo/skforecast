{
 "cells": [
  {
   "cell_type": "code",
   "execution_count": 17,
   "metadata": {},
   "outputs": [
    {
     "name": "stdout",
     "output_type": "stream",
     "text": [
      "The autoreload extension is already loaded. To reload it, use:\n",
      "  %reload_ext autoreload\n",
      "c:\\Users\\jaesc2\\GitHub\\skforecast\n"
     ]
    }
   ],
   "source": [
    "%load_ext autoreload\n",
    "%autoreload 2\n",
    "import sys\n",
    "from pathlib import Path\n",
    "path = str(Path.cwd().parent)\n",
    "print(path)\n",
    "sys.path.insert(1, path)"
   ]
  },
  {
   "cell_type": "code",
   "execution_count": 18,
   "metadata": {},
   "outputs": [],
   "source": [
    "import re\n",
    "import pytest\n",
    "import joblib\n",
    "import numpy as np\n",
    "import pandas as pd\n",
    "from pathlib import Path\n",
    "from sklearn.exceptions import NotFittedError\n",
    "from sklearn.compose import ColumnTransformer\n",
    "from sklearn.preprocessing import StandardScaler\n",
    "from sklearn.preprocessing import MinMaxScaler\n",
    "from sklearn.preprocessing import OneHotEncoder\n",
    "from sklearn.preprocessing import OrdinalEncoder\n",
    "from sklearn.preprocessing import FunctionTransformer\n",
    "from sklearn.compose import make_column_transformer\n",
    "from sklearn.compose import make_column_selector\n",
    "from sklearn.pipeline import make_pipeline\n",
    "from sklearn.linear_model import LinearRegression\n",
    "from sklearn.ensemble import HistGradientBoostingRegressor\n",
    "from lightgbm import LGBMRegressor\n",
    "\n",
    "from skforecast.exceptions import IgnoredArgumentWarning\n",
    "from skforecast.preprocessing import RollingFeatures\n",
    "from skforecast.preprocessing import TimeSeriesDifferentiator\n",
    "from skforecast.ForecasterAutoreg import ForecasterAutoreg\n",
    "from skforecast.ForecasterAutoregDirect import ForecasterAutoregDirect\n",
    "from skforecast.ForecasterAutoregMultiSeries import ForecasterAutoregMultiSeries\n",
    "\n",
    "from skforecast.ForecasterAutoreg.tests.fixtures_ForecasterAutoreg import data  # to test results when using differentiation\n"
   ]
  },
  {
   "cell_type": "code",
   "execution_count": 19,
   "metadata": {},
   "outputs": [],
   "source": [
    "from skforecast.ForecasterAutoregMultiSeries.tests.fixtures_ForecasterAutoregMultiSeries import series\n",
    "from skforecast.ForecasterAutoregMultiSeries.tests.fixtures_ForecasterAutoregMultiSeries import exog\n",
    "from skforecast.ForecasterAutoregMultiSeries.tests.fixtures_ForecasterAutoregMultiSeries import exog_predict\n",
    "\n",
    "series_dict = joblib.load(r'C:\\Users\\jaesc2\\GitHub\\skforecast\\skforecast\\ForecasterAutoregMultiSeries\\tests\\fixture_sample_multi_series.joblib')\n",
    "exog_dict = joblib.load(r'C:\\Users\\jaesc2\\GitHub\\skforecast\\skforecast\\ForecasterAutoregMultiSeries\\tests\\fixture_sample_multi_series_exog.joblib')\n",
    "end_train = \"2016-07-31 23:59:00\"\n",
    "series_dict_train = {k: v.loc[:end_train,] for k, v in series_dict.items()}\n",
    "exog_dict_train = {k: v.loc[:end_train,] for k, v in exog_dict.items()}\n",
    "series_dict_test = {k: v.loc[end_train:,] for k, v in series_dict.items()}\n",
    "exog_dict_test = {k: v.loc[end_train:,] for k, v in exog_dict.items()}\n",
    "\n",
    "series_2 = pd.DataFrame({'1': pd.Series(np.arange(start=0, stop=50, dtype=float)), \n",
    "                         '2': pd.Series(np.arange(start=50, stop=100, dtype=float))})"
   ]
  },
  {
   "cell_type": "code",
   "execution_count": 22,
   "metadata": {},
   "outputs": [
    {
     "data": {
      "text/plain": [
       "array([[0.53267333, 0.14385946, 0.93785138, 0.55496412, 0.13040389,\n",
       "        0.86143235],\n",
       "       [0.44478046, 0.07076074, 0.8549911 , 0.57787982, 0.14137988,\n",
       "        0.945465  ],\n",
       "       [0.52579563, 0.11961453, 0.92964449, 0.66389117, 0.24814764,\n",
       "        1.00640437],\n",
       "       [0.57391142, 0.18111008, 0.97045191, 0.65789846, 0.22574071,\n",
       "        1.02971185],\n",
       "       [0.54633594, 0.21019872, 0.96136894, 0.5841187 , 0.12771706,\n",
       "        0.94734674]])"
      ]
     },
     "execution_count": 22,
     "metadata": {},
     "output_type": "execute_result"
    }
   ],
   "source": [
    "transformer_exog = ColumnTransformer(\n",
    "                        [('scale', StandardScaler(), ['exog_1']),\n",
    "                            ('onehot', OneHotEncoder(), ['exog_2'])],\n",
    "                        remainder = 'passthrough',\n",
    "                        verbose_feature_names_out = False\n",
    "                    )\n",
    "forecaster = ForecasterAutoregMultiSeries(\n",
    "                    regressor          = LinearRegression(),\n",
    "                    lags               = 5,\n",
    "                    transformer_series = StandardScaler(),\n",
    "                    transformer_exog   = transformer_exog,\n",
    "                )\n",
    "forecaster.fit(series=series, exog=exog)\n",
    "predictions = forecaster.predict_interval(steps=5, levels=['1', '2'], exog=exog_predict)\n",
    "predictions.to_numpy()"
   ]
  },
  {
   "cell_type": "code",
   "execution_count": null,
   "metadata": {},
   "outputs": [],
   "source": []
  },
  {
   "cell_type": "code",
   "execution_count": 24,
   "metadata": {},
   "outputs": [
    {
     "name": "stderr",
     "output_type": "stream",
     "text": [
      "c:\\Users\\jaesc2\\GitHub\\skforecast\\skforecast\\ForecasterAutoregMultiSeries\\ForecasterAutoregMultiSeries.py:431: UserWarning: When using a linear model, it is recommended to use a transformer_series to ensure all series are in the same scale. You can use, for example, a `StandardScaler` from sklearn.preprocessing.\n",
      "  warnings.warn(\n",
      "c:\\Users\\jaesc2\\GitHub\\skforecast\\skforecast\\utils\\utils.py:553: DataTypeWarning: `exog` may contain only `int`, `float` or `category` dtypes. Most machine learning models do not allow other types of values. Fitting the forecaster may fail. \n",
      " You can suppress this warning using: warnings.simplefilter('ignore', category=ValueTypesExogWarning)\n",
      "  warnings.warn(\n",
      "c:\\Users\\jaesc2\\GitHub\\skforecast\\skforecast\\ForecasterAutoregMultiSeries\\ForecasterAutoregMultiSeries.py:1014: MissingValuesWarning: NaNs detected in `X_train`. Some regressors do not allow NaN values during training. If you want to drop them, set `forecaster.dropna_from_series = True`. \n",
      " You can suppress this warning using: warnings.simplefilter('ignore', category=MissingValuesWarning)\n",
      "  warnings.warn(\n"
     ]
    },
    {
     "data": {
      "text/plain": [
       "(            lag_1  lag_2  lag_3  roll_mean_3  roll_median_3  roll_sum_4  l1  \\\n",
       " 1990-01-05    NaN    2.0    1.0          NaN            NaN         NaN   1   \n",
       " 1990-01-06    4.0    NaN    2.0          NaN            NaN         NaN   1   \n",
       " 1990-01-07    5.0    4.0    NaN          NaN            NaN         NaN   1   \n",
       " 1990-01-08    6.0    5.0    4.0          5.0            5.0         NaN   1   \n",
       " 1990-01-09    7.0    6.0    5.0          6.0            6.0        22.0   1   \n",
       " 1990-01-10    8.0    7.0    6.0          7.0            7.0        26.0   1   \n",
       " 1990-01-09   18.0    NaN   16.0          NaN            NaN         NaN   0   \n",
       " 1990-01-07   23.0   22.0   21.0         22.0           22.0        86.0   0   \n",
       " \n",
       "             l2  l3  exog_1 exog_2  \n",
       " 1990-01-05   0   0   104.0    NaN  \n",
       " 1990-01-06   0   0   105.0    NaN  \n",
       " 1990-01-07   0   0   106.0    NaN  \n",
       " 1990-01-08   0   0   107.0    NaN  \n",
       " 1990-01-09   0   0   108.0    NaN  \n",
       " 1990-01-10   0   0   109.0    NaN  \n",
       " 1990-01-09   1   0     NaN    NaN  \n",
       " 1990-01-07   0   1   207.0      a  ,\n",
       " 1990-01-05     4.0\n",
       " 1990-01-06     5.0\n",
       " 1990-01-07     6.0\n",
       " 1990-01-08     7.0\n",
       " 1990-01-09     8.0\n",
       " 1990-01-10     9.0\n",
       " 1990-01-09    19.0\n",
       " 1990-01-07    24.0\n",
       " Name: y, dtype: float64,\n",
       " {'l1': DatetimeIndex(['1990-01-01', '1990-01-02', '1990-01-03', '1990-01-04',\n",
       "                 '1990-01-05', '1990-01-06', '1990-01-07', '1990-01-08',\n",
       "                 '1990-01-09', '1990-01-10'],\n",
       "                dtype='datetime64[ns]', freq='D'),\n",
       "  'l2': DatetimeIndex(['1990-01-05', '1990-01-06', '1990-01-07', '1990-01-08',\n",
       "                 '1990-01-09'],\n",
       "                dtype='datetime64[ns]', freq='D'),\n",
       "  'l3': DatetimeIndex(['1990-01-03', '1990-01-04', '1990-01-05', '1990-01-06',\n",
       "                 '1990-01-07'],\n",
       "                dtype='datetime64[ns]', freq='D')},\n",
       " ['l1', 'l2', 'l3'],\n",
       " ['l1', 'l2', 'l3'],\n",
       " ['exog_1', 'exog_2'],\n",
       " ['roll_mean_3', 'roll_median_3', 'roll_sum_4'],\n",
       " ['exog_1', 'exog_2'],\n",
       " {'exog_1': dtype('float64'), 'exog_2': dtype('O')},\n",
       " {'l1': 1990-01-07    6.0\n",
       "  1990-01-08    7.0\n",
       "  1990-01-09    8.0\n",
       "  1990-01-10    9.0\n",
       "  Freq: D, Name: l1, dtype: float64,\n",
       "  'l2': 1990-01-06    16.0\n",
       "  1990-01-07     NaN\n",
       "  1990-01-08    18.0\n",
       "  1990-01-09    19.0\n",
       "  Freq: D, Name: l2, dtype: float64,\n",
       "  'l3': 1990-01-04    21.0\n",
       "  1990-01-05    22.0\n",
       "  1990-01-06    23.0\n",
       "  1990-01-07    24.0\n",
       "  Freq: D, Name: l3, dtype: float64})"
      ]
     },
     "execution_count": 24,
     "metadata": {},
     "output_type": "execute_result"
    }
   ],
   "source": [
    "series = {\n",
    "    'l1': pd.Series(np.arange(10, dtype=float)), \n",
    "    'l2': pd.Series(np.arange(15, 20, dtype=float)),\n",
    "    'l3': pd.Series(np.arange(20, 25, dtype=float))\n",
    "}\n",
    "series['l1'].loc[3] = np.nan\n",
    "series['l2'].loc[2] = np.nan\n",
    "series['l1'].index = pd.date_range(\"1990-01-01\", periods=10, freq='D')\n",
    "series['l2'].index = pd.date_range(\"1990-01-05\", periods=5, freq='D')\n",
    "series['l3'].index = pd.date_range(\"1990-01-03\", periods=5, freq='D')\n",
    "\n",
    "exog = {\n",
    "    'l1': pd.Series(np.arange(100, 110), name='exog_1', dtype=float),\n",
    "    'l2': None,\n",
    "    'l3': pd.DataFrame({'exog_1': np.arange(203, 209, dtype=float),\n",
    "                        'exog_2': ['a', 'b', 'a', 'b', 'a', 'b']})\n",
    "}\n",
    "exog['l1'].index = pd.date_range(\"1990-01-01\", periods=10, freq='D')\n",
    "exog['l3'].index = pd.date_range(\"1990-01-03\", periods=6, freq='D')\n",
    "\n",
    "rolling = RollingFeatures(stats=['mean', 'median'], window_sizes=[3, 3])\n",
    "rolling_2 = RollingFeatures(stats='sum', window_sizes=4)\n",
    "\n",
    "forecaster = ForecasterAutoregMultiSeries(\n",
    "    LinearRegression(), lags=3,\n",
    "    encoding='onehot',\n",
    "    window_features=[rolling, rolling_2],\n",
    "    transformer_series=None,\n",
    "    dropna_from_series=False\n",
    ")\n",
    "results = forecaster._create_train_X_y(series=series, exog=exog)\n",
    "results"
   ]
  },
  {
   "cell_type": "code",
   "execution_count": 25,
   "metadata": {},
   "outputs": [
    {
     "data": {
      "text/html": [
       "<div>\n",
       "<style scoped>\n",
       "    .dataframe tbody tr th:only-of-type {\n",
       "        vertical-align: middle;\n",
       "    }\n",
       "\n",
       "    .dataframe tbody tr th {\n",
       "        vertical-align: top;\n",
       "    }\n",
       "\n",
       "    .dataframe thead th {\n",
       "        text-align: right;\n",
       "    }\n",
       "</style>\n",
       "<table border=\"1\" class=\"dataframe\">\n",
       "  <thead>\n",
       "    <tr style=\"text-align: right;\">\n",
       "      <th></th>\n",
       "      <th>lag_1</th>\n",
       "      <th>lag_2</th>\n",
       "      <th>lag_3</th>\n",
       "      <th>roll_mean_3</th>\n",
       "      <th>roll_median_3</th>\n",
       "      <th>roll_sum_4</th>\n",
       "      <th>l1</th>\n",
       "      <th>l2</th>\n",
       "      <th>l3</th>\n",
       "      <th>exog_1</th>\n",
       "      <th>exog_2</th>\n",
       "    </tr>\n",
       "  </thead>\n",
       "  <tbody>\n",
       "    <tr>\n",
       "      <th>1990-01-05</th>\n",
       "      <td>NaN</td>\n",
       "      <td>2.0</td>\n",
       "      <td>1.0</td>\n",
       "      <td>NaN</td>\n",
       "      <td>NaN</td>\n",
       "      <td>NaN</td>\n",
       "      <td>1</td>\n",
       "      <td>0</td>\n",
       "      <td>0</td>\n",
       "      <td>104.0</td>\n",
       "      <td>NaN</td>\n",
       "    </tr>\n",
       "    <tr>\n",
       "      <th>1990-01-06</th>\n",
       "      <td>4.0</td>\n",
       "      <td>NaN</td>\n",
       "      <td>2.0</td>\n",
       "      <td>NaN</td>\n",
       "      <td>NaN</td>\n",
       "      <td>NaN</td>\n",
       "      <td>1</td>\n",
       "      <td>0</td>\n",
       "      <td>0</td>\n",
       "      <td>105.0</td>\n",
       "      <td>NaN</td>\n",
       "    </tr>\n",
       "    <tr>\n",
       "      <th>1990-01-07</th>\n",
       "      <td>5.0</td>\n",
       "      <td>4.0</td>\n",
       "      <td>NaN</td>\n",
       "      <td>NaN</td>\n",
       "      <td>NaN</td>\n",
       "      <td>NaN</td>\n",
       "      <td>1</td>\n",
       "      <td>0</td>\n",
       "      <td>0</td>\n",
       "      <td>106.0</td>\n",
       "      <td>NaN</td>\n",
       "    </tr>\n",
       "    <tr>\n",
       "      <th>1990-01-08</th>\n",
       "      <td>6.0</td>\n",
       "      <td>5.0</td>\n",
       "      <td>4.0</td>\n",
       "      <td>5.0</td>\n",
       "      <td>5.0</td>\n",
       "      <td>NaN</td>\n",
       "      <td>1</td>\n",
       "      <td>0</td>\n",
       "      <td>0</td>\n",
       "      <td>107.0</td>\n",
       "      <td>NaN</td>\n",
       "    </tr>\n",
       "    <tr>\n",
       "      <th>1990-01-09</th>\n",
       "      <td>7.0</td>\n",
       "      <td>6.0</td>\n",
       "      <td>5.0</td>\n",
       "      <td>6.0</td>\n",
       "      <td>6.0</td>\n",
       "      <td>22.0</td>\n",
       "      <td>1</td>\n",
       "      <td>0</td>\n",
       "      <td>0</td>\n",
       "      <td>108.0</td>\n",
       "      <td>NaN</td>\n",
       "    </tr>\n",
       "    <tr>\n",
       "      <th>1990-01-10</th>\n",
       "      <td>8.0</td>\n",
       "      <td>7.0</td>\n",
       "      <td>6.0</td>\n",
       "      <td>7.0</td>\n",
       "      <td>7.0</td>\n",
       "      <td>26.0</td>\n",
       "      <td>1</td>\n",
       "      <td>0</td>\n",
       "      <td>0</td>\n",
       "      <td>109.0</td>\n",
       "      <td>NaN</td>\n",
       "    </tr>\n",
       "    <tr>\n",
       "      <th>1990-01-09</th>\n",
       "      <td>18.0</td>\n",
       "      <td>NaN</td>\n",
       "      <td>16.0</td>\n",
       "      <td>NaN</td>\n",
       "      <td>NaN</td>\n",
       "      <td>NaN</td>\n",
       "      <td>0</td>\n",
       "      <td>1</td>\n",
       "      <td>0</td>\n",
       "      <td>NaN</td>\n",
       "      <td>NaN</td>\n",
       "    </tr>\n",
       "    <tr>\n",
       "      <th>1990-01-07</th>\n",
       "      <td>23.0</td>\n",
       "      <td>22.0</td>\n",
       "      <td>21.0</td>\n",
       "      <td>22.0</td>\n",
       "      <td>22.0</td>\n",
       "      <td>86.0</td>\n",
       "      <td>0</td>\n",
       "      <td>0</td>\n",
       "      <td>1</td>\n",
       "      <td>207.0</td>\n",
       "      <td>a</td>\n",
       "    </tr>\n",
       "  </tbody>\n",
       "</table>\n",
       "</div>"
      ],
      "text/plain": [
       "            lag_1  lag_2  lag_3  roll_mean_3  roll_median_3  roll_sum_4  l1  \\\n",
       "1990-01-05    NaN    2.0    1.0          NaN            NaN         NaN   1   \n",
       "1990-01-06    4.0    NaN    2.0          NaN            NaN         NaN   1   \n",
       "1990-01-07    5.0    4.0    NaN          NaN            NaN         NaN   1   \n",
       "1990-01-08    6.0    5.0    4.0          5.0            5.0         NaN   1   \n",
       "1990-01-09    7.0    6.0    5.0          6.0            6.0        22.0   1   \n",
       "1990-01-10    8.0    7.0    6.0          7.0            7.0        26.0   1   \n",
       "1990-01-09   18.0    NaN   16.0          NaN            NaN         NaN   0   \n",
       "1990-01-07   23.0   22.0   21.0         22.0           22.0        86.0   0   \n",
       "\n",
       "            l2  l3  exog_1 exog_2  \n",
       "1990-01-05   0   0   104.0    NaN  \n",
       "1990-01-06   0   0   105.0    NaN  \n",
       "1990-01-07   0   0   106.0    NaN  \n",
       "1990-01-08   0   0   107.0    NaN  \n",
       "1990-01-09   0   0   108.0    NaN  \n",
       "1990-01-10   0   0   109.0    NaN  \n",
       "1990-01-09   1   0     NaN    NaN  \n",
       "1990-01-07   0   1   207.0      a  "
      ]
     },
     "execution_count": 25,
     "metadata": {},
     "output_type": "execute_result"
    }
   ],
   "source": [
    "results[0]"
   ]
  },
  {
   "cell_type": "code",
   "execution_count": 27,
   "metadata": {},
   "outputs": [
    {
     "data": {
      "text/plain": [
       "array([ 4.,  5.,  6.,  7.,  8.,  9., 19., 24.])"
      ]
     },
     "execution_count": 27,
     "metadata": {},
     "output_type": "execute_result"
    }
   ],
   "source": [
    "results[1].to_numpy()"
   ]
  },
  {
   "cell_type": "code",
   "execution_count": 4,
   "metadata": {},
   "outputs": [
    {
     "data": {
      "text/html": [
       "<div>\n",
       "<style scoped>\n",
       "    .dataframe tbody tr th:only-of-type {\n",
       "        vertical-align: middle;\n",
       "    }\n",
       "\n",
       "    .dataframe tbody tr th {\n",
       "        vertical-align: top;\n",
       "    }\n",
       "\n",
       "    .dataframe thead th {\n",
       "        text-align: right;\n",
       "    }\n",
       "</style>\n",
       "<table border=\"1\" class=\"dataframe\">\n",
       "  <thead>\n",
       "    <tr style=\"text-align: right;\">\n",
       "      <th></th>\n",
       "      <th>lag_1</th>\n",
       "      <th>lag_5</th>\n",
       "      <th>roll_mean_5</th>\n",
       "      <th>roll_median_5</th>\n",
       "      <th>roll_sum_6</th>\n",
       "      <th>exog</th>\n",
       "    </tr>\n",
       "  </thead>\n",
       "  <tbody>\n",
       "    <tr>\n",
       "      <th>2003-04-01</th>\n",
       "      <td>2.043333</td>\n",
       "      <td>2.366796</td>\n",
       "      <td>2.261869</td>\n",
       "      <td>2.366796</td>\n",
       "      <td>13.686322</td>\n",
       "      <td>1.161729</td>\n",
       "    </tr>\n",
       "    <tr>\n",
       "      <th>2003-05-01</th>\n",
       "      <td>2.043333</td>\n",
       "      <td>2.366796</td>\n",
       "      <td>2.261869</td>\n",
       "      <td>2.366796</td>\n",
       "      <td>13.686322</td>\n",
       "      <td>0.294688</td>\n",
       "    </tr>\n",
       "    <tr>\n",
       "      <th>2003-06-01</th>\n",
       "      <td>2.043333</td>\n",
       "      <td>2.366796</td>\n",
       "      <td>2.261869</td>\n",
       "      <td>2.366796</td>\n",
       "      <td>13.686322</td>\n",
       "      <td>-0.439976</td>\n",
       "    </tr>\n",
       "    <tr>\n",
       "      <th>2003-07-01</th>\n",
       "      <td>2.043333</td>\n",
       "      <td>2.366796</td>\n",
       "      <td>2.261869</td>\n",
       "      <td>2.366796</td>\n",
       "      <td>13.686322</td>\n",
       "      <td>1.250084</td>\n",
       "    </tr>\n",
       "    <tr>\n",
       "      <th>2003-08-01</th>\n",
       "      <td>2.043333</td>\n",
       "      <td>2.366796</td>\n",
       "      <td>2.261869</td>\n",
       "      <td>2.366796</td>\n",
       "      <td>13.686322</td>\n",
       "      <td>1.374969</td>\n",
       "    </tr>\n",
       "    <tr>\n",
       "      <th>2003-09-01</th>\n",
       "      <td>2.043333</td>\n",
       "      <td>2.366796</td>\n",
       "      <td>2.261869</td>\n",
       "      <td>2.366796</td>\n",
       "      <td>13.686322</td>\n",
       "      <td>-0.416732</td>\n",
       "    </tr>\n",
       "  </tbody>\n",
       "</table>\n",
       "</div>"
      ],
      "text/plain": [
       "               lag_1     lag_5  roll_mean_5  roll_median_5  roll_sum_6  \\\n",
       "2003-04-01  2.043333  2.366796     2.261869       2.366796   13.686322   \n",
       "2003-05-01  2.043333  2.366796     2.261869       2.366796   13.686322   \n",
       "2003-06-01  2.043333  2.366796     2.261869       2.366796   13.686322   \n",
       "2003-07-01  2.043333  2.366796     2.261869       2.366796   13.686322   \n",
       "2003-08-01  2.043333  2.366796     2.261869       2.366796   13.686322   \n",
       "2003-09-01  2.043333  2.366796     2.261869       2.366796   13.686322   \n",
       "\n",
       "                exog  \n",
       "2003-04-01  1.161729  \n",
       "2003-05-01  0.294688  \n",
       "2003-06-01 -0.439976  \n",
       "2003-07-01  1.250084  \n",
       "2003-08-01  1.374969  \n",
       "2003-09-01 -0.416732  "
      ]
     },
     "execution_count": 4,
     "metadata": {},
     "output_type": "execute_result"
    }
   ],
   "source": [
    "end_train = '2003-03-01 23:59:00'\n",
    "\n",
    "# Simulated exogenous variable\n",
    "rng = np.random.default_rng(9876)\n",
    "exog = pd.Series(\n",
    "    rng.normal(loc=0, scale=1, size=len(data)), index=data.index, name='exog'\n",
    ")\n",
    "rolling = RollingFeatures(stats=['mean', 'median'], window_sizes=[5, 5])\n",
    "rolling_2 = RollingFeatures(stats='sum', window_sizes=[6])\n",
    "\n",
    "forecaster = ForecasterAutoregDirect(\n",
    "                    regressor        = LinearRegression(),\n",
    "                    lags             = [1, 5],\n",
    "                    window_features  = [rolling, rolling_2],\n",
    "                    steps            = 6,\n",
    "                    transformer_y    = None,\n",
    "                    transformer_exog = None,\n",
    "                    differentiation  = None\n",
    "                )\n",
    "forecaster.fit(y=data.loc[:end_train], exog=exog.loc[:end_train])\n",
    "X_predict = forecaster.create_predict_X(exog=exog.loc[end_train:])\n",
    "X_predict"
   ]
  },
  {
   "cell_type": "code",
   "execution_count": 8,
   "metadata": {},
   "outputs": [
    {
     "name": "stdout",
     "output_type": "stream",
     "text": [
      "[2.19238587]\n",
      "[2.23555505]\n",
      "[2.25654547]\n",
      "[2.34763646]\n",
      "[2.31040474]\n",
      "[2.43900132]\n"
     ]
    }
   ],
   "source": [
    "for i, step in enumerate(range(1, forecaster.steps + 1)):\n",
    "    print(forecaster.regressors_[step].predict(X_predict.iloc[[i]]))"
   ]
  },
  {
   "cell_type": "code",
   "execution_count": 10,
   "metadata": {},
   "outputs": [
    {
     "data": {
      "text/plain": [
       "array([2.23555505])"
      ]
     },
     "execution_count": 10,
     "metadata": {},
     "output_type": "execute_result"
    }
   ],
   "source": [
    "forecaster.predict(steps=[2], exog=exog.loc[end_train:]).to_numpy()"
   ]
  },
  {
   "cell_type": "code",
   "execution_count": 11,
   "metadata": {},
   "outputs": [],
   "source": [
    "import pytest\n",
    "import re\n",
    "import numpy as np\n",
    "import pandas as pd\n",
    "from skforecast.model_selection._split import BaseFold"
   ]
  },
  {
   "cell_type": "code",
   "execution_count": 12,
   "metadata": {},
   "outputs": [],
   "source": [
    "valid_params = {\n",
    "    \"steps\": 5,\n",
    "    \"initial_train_size\": 100,\n",
    "    \"window_size\": 10,\n",
    "    \"differentiation\": None,\n",
    "    \"refit\": True,\n",
    "    \"fixed_train_size\": True,\n",
    "    \"gap\": 0,\n",
    "    \"skip_folds\": None,\n",
    "    \"allow_incomplete_fold\": True,\n",
    "    \"return_all_indexes\": False,\n",
    "    \"verbose\": True,\n",
    "}"
   ]
  },
  {
   "cell_type": "code",
   "execution_count": 13,
   "metadata": {},
   "outputs": [],
   "source": [
    "cv = BaseFold()\n",
    "params = dict(valid_params)\n",
    "params[\"initial_train_size\"] = \"invalid\"\n",
    "msg = (\n",
    "    f\"`initial_train_size` must be an integer greater than 0 or None. \"\n",
    "    f\"Got {params[\"initial_train_size\"]}.\"\n",
    ")\n",
    "with pytest.raises(ValueError, match=msg):\n",
    "    cv._validate_params(cv_name=\"TimeSeriesFold\", **params)"
   ]
  },
  {
   "cell_type": "code",
   "execution_count": 15,
   "metadata": {},
   "outputs": [
    {
     "data": {
      "text/plain": [
       "False"
      ]
     },
     "execution_count": 15,
     "metadata": {},
     "output_type": "execute_result"
    }
   ],
   "source": [
    "params is valid_params"
   ]
  },
  {
   "cell_type": "code",
   "execution_count": 14,
   "metadata": {},
   "outputs": [
    {
     "data": {
      "text/plain": [
       "{'steps': 5,\n",
       " 'initial_train_size': 'invalid',\n",
       " 'window_size': 10,\n",
       " 'differentiation': None,\n",
       " 'refit': True,\n",
       " 'fixed_train_size': True,\n",
       " 'gap': 0,\n",
       " 'skip_folds': None,\n",
       " 'allow_incomplete_fold': True,\n",
       " 'return_all_indexes': False,\n",
       " 'verbose': True}"
      ]
     },
     "execution_count": 14,
     "metadata": {},
     "output_type": "execute_result"
    }
   ],
   "source": [
    "params"
   ]
  },
  {
   "cell_type": "code",
   "execution_count": 5,
   "metadata": {},
   "outputs": [
    {
     "name": "stderr",
     "output_type": "stream",
     "text": [
      "c:\\Users\\jaesc2\\GitHub\\skforecast\\skforecast\\ForecasterAutoregMultiSeries\\ForecasterAutoregMultiSeries.py:431: UserWarning: When using a linear model, it is recommended to use a transformer_series to ensure all series are in the same scale. You can use, for example, a `StandardScaler` from sklearn.preprocessing.\n",
      "  warnings.warn(\n"
     ]
    },
    {
     "data": {
      "text/plain": [
       "(            roll_mean_3  roll_median_5  roll_sum_4  _level_skforecast   exog\n",
       " 1990-01-06          3.0            2.0        10.0                  0  105.0\n",
       " 1990-01-07          4.0            3.0        14.0                  0  106.0\n",
       " 1990-01-08          5.0            4.0        18.0                  0  107.0\n",
       " 1990-01-09          6.0            5.0        22.0                  0  108.0\n",
       " 1990-01-10          7.0            6.0        26.0                  0  109.0\n",
       " 1990-01-06         13.0           12.0        50.0                  1  105.0\n",
       " 1990-01-07         14.0           13.0        54.0                  1  106.0\n",
       " 1990-01-08         15.0           14.0        58.0                  1  107.0\n",
       " 1990-01-09         16.0           15.0        62.0                  1  108.0\n",
       " 1990-01-10         17.0           16.0        66.0                  1  109.0,\n",
       " 1990-01-06     5.0\n",
       " 1990-01-07     6.0\n",
       " 1990-01-08     7.0\n",
       " 1990-01-09     8.0\n",
       " 1990-01-10     9.0\n",
       " 1990-01-06    15.0\n",
       " 1990-01-07    16.0\n",
       " 1990-01-08    17.0\n",
       " 1990-01-09    18.0\n",
       " 1990-01-10    19.0\n",
       " Name: y, dtype: float64,\n",
       " {'l1': DatetimeIndex(['1990-01-01', '1990-01-02', '1990-01-03', '1990-01-04',\n",
       "                 '1990-01-05', '1990-01-06', '1990-01-07', '1990-01-08',\n",
       "                 '1990-01-09', '1990-01-10'],\n",
       "                dtype='datetime64[ns]', freq='D'),\n",
       "  'l2': DatetimeIndex(['1990-01-01', '1990-01-02', '1990-01-03', '1990-01-04',\n",
       "                 '1990-01-05', '1990-01-06', '1990-01-07', '1990-01-08',\n",
       "                 '1990-01-09', '1990-01-10'],\n",
       "                dtype='datetime64[ns]', freq='D')},\n",
       " ['l1', 'l2'],\n",
       " ['l1', 'l2'],\n",
       " ['exog'],\n",
       " ['roll_mean_3', 'roll_median_5', 'roll_sum_4'],\n",
       " ['exog'],\n",
       " {'exog': dtype('float64')},\n",
       " {'l1': 1990-01-06    5.0\n",
       "  1990-01-07    6.0\n",
       "  1990-01-08    7.0\n",
       "  1990-01-09    8.0\n",
       "  1990-01-10    9.0\n",
       "  Freq: D, Name: l1, dtype: float64,\n",
       "  'l2': 1990-01-06    15.0\n",
       "  1990-01-07    16.0\n",
       "  1990-01-08    17.0\n",
       "  1990-01-09    18.0\n",
       "  1990-01-10    19.0\n",
       "  Freq: D, Name: l2, dtype: float64})"
      ]
     },
     "execution_count": 5,
     "metadata": {},
     "output_type": "execute_result"
    }
   ],
   "source": [
    "series = pd.DataFrame({'l1': pd.Series(np.arange(10, dtype=float)), \n",
    "                        'l2': pd.Series(np.arange(10, 20, dtype=float))})\n",
    "series.index = pd.date_range(\"1990-01-01\", periods=10, freq='D')\n",
    "exog = pd.Series(np.arange(100, 110), name='exog', dtype=float)\n",
    "exog.index = pd.date_range(\"1990-01-01\", periods=10, freq='D')\n",
    "\n",
    "rolling = RollingFeatures(stats=['mean', 'median'], window_sizes=[3, 5])\n",
    "rolling_2 = RollingFeatures(stats='sum', window_sizes=[4])\n",
    "forecaster = ForecasterAutoregMultiSeries(\n",
    "    LinearRegression(), lags=None, window_features=[rolling, rolling_2]\n",
    ")\n",
    "\n",
    "results = forecaster._create_train_X_y(series=series, exog=exog)\n",
    "results"
   ]
  },
  {
   "cell_type": "code",
   "execution_count": 7,
   "metadata": {},
   "outputs": [
    {
     "data": {
      "text/plain": [
       "array([[ 0.52368935,  0.88399212],\n",
       "       [-0.13413796, -0.81145254],\n",
       "       [ 0.26257161,  0.40407821],\n",
       "       [ 0.93852676,  0.93243637],\n",
       "       [ 0.06002111,  0.16197356]])"
      ]
     },
     "execution_count": 7,
     "metadata": {},
     "output_type": "execute_result"
    }
   ],
   "source": [
    "from skforecast.ForecasterAutoregMultiSeries.tests.fixtures_ForecasterAutoregMultiSeries import series\n",
    "from skforecast.ForecasterAutoregMultiSeries.tests.fixtures_ForecasterAutoregMultiSeries import exog\n",
    "from skforecast.ForecasterAutoregMultiSeries.tests.fixtures_ForecasterAutoregMultiSeries import exog_predict\n",
    "\n",
    "rolling = RollingFeatures(stats=['mean', 'median'], window_sizes=4)\n",
    "transformer_exog = ColumnTransformer(\n",
    "                        [('scale', StandardScaler(), ['exog_1']),\n",
    "                        ('onehot', OneHotEncoder(), ['exog_2'])],\n",
    "                        remainder = 'passthrough',\n",
    "                        verbose_feature_names_out = False\n",
    "                    )\n",
    "forecaster = ForecasterAutoregMultiSeries(\n",
    "                    regressor          = LGBMRegressor(verbose=-1),\n",
    "                    lags               = 5,\n",
    "                    window_features    = rolling,\n",
    "                    transformer_series = StandardScaler(),\n",
    "                    transformer_exog   = transformer_exog,\n",
    "                )\n",
    "forecaster.fit(series=series, exog=exog)\n",
    "\n",
    "last_window, exog_values_dict, levels, _, _ = (\n",
    "    forecaster._create_predict_inputs(steps=5, exog=exog_predict)\n",
    ")\n",
    "predictions = forecaster._recursive_predict(\n",
    "                    steps            = 5,\n",
    "                    levels           = levels,\n",
    "                    last_window      = last_window,\n",
    "                    exog_values_dict = exog_values_dict\n",
    "                )\n",
    "predictions"
   ]
  },
  {
   "cell_type": "code",
   "execution_count": 10,
   "metadata": {},
   "outputs": [
    {
     "data": {
      "text/plain": [
       "array([[0.70414275, 0.33846487, 0.51525768, 0.78238922, 0.53358641,\n",
       "        0.55496755, 0.49698665, 0.3156552 , 0.70164044, 0.51987002],\n",
       "       [0.5093462 , 0.10945852, 0.50986314, 0.53323641, 0.50986314,\n",
       "        0.31517078, 0.54867791, 0.09113636, 0.46379211, 0.41342218],\n",
       "       [0.86504059, 0.56932758, 0.45218404, 0.44580085, 0.83119047,\n",
       "        0.43019077, 0.68569118, 0.51340363, 0.61452721, 0.84957527],\n",
       "       [0.65524631, 0.84194486, 0.93082861, 0.7155279 , 0.83658981,\n",
       "        1.02306043, 0.6582736 , 0.86211073, 0.56189833, 0.70564327],\n",
       "       [0.54647555, 0.75265845, 0.43334796, 0.36702491, 0.56762363,\n",
       "        0.43184972, 0.66142918, 0.47738529, 0.57800408, 0.17483813],\n",
       "       [0.53343541, 0.56488173, 0.78929977, 0.44786181, 0.49626976,\n",
       "        0.6850046 , 0.36524591, 0.70909355, 0.34761764, 0.39494035]])"
      ]
     },
     "execution_count": 10,
     "metadata": {},
     "output_type": "execute_result"
    }
   ],
   "source": [
    "rolling = RollingFeatures(stats=['mean', 'median'], window_sizes=4)\n",
    "transformer_exog = ColumnTransformer(\n",
    "                        [('scale', StandardScaler(), ['exog_1']),\n",
    "                        ('onehot', OneHotEncoder(), ['exog_2'])],\n",
    "                        remainder = 'passthrough',\n",
    "                        verbose_feature_names_out = False\n",
    "                    )\n",
    "\n",
    "forecaster = ForecasterAutoregMultiSeries(\n",
    "                    regressor          = LGBMRegressor(verbose=-1),\n",
    "                    lags               = 5,\n",
    "                    window_features    = rolling,\n",
    "                    transformer_series = StandardScaler(),\n",
    "                    transformer_exog   = transformer_exog\n",
    "                )\n",
    "forecaster.fit(series=series, exog=exog)\n",
    "predictions = forecaster.predict_bootstrapping(\n",
    "                    steps                   = 6, \n",
    "                    n_boot                  = 10, \n",
    "                    exog                    = exog_predict, \n",
    "                    use_in_sample_residuals = True\n",
    "                )\n",
    "predictions['1'].to_numpy()"
   ]
  },
  {
   "cell_type": "code",
   "execution_count": 14,
   "metadata": {},
   "outputs": [
    {
     "data": {
      "text/plain": [
       "array([[0.4703539 , 0.61121897, 0.7456648 , 1.05767197, 0.85702976,\n",
       "        0.84549833, 0.90211559, 1.05767197, 0.84549833, 0.43576797],\n",
       "       [0.17638536, 0.36323208, 0.28360047, 0.39694573, 0.42021445,\n",
       "        0.62085666, 0.21910573, 0.1686658 , 0.03353859, 0.17638536],\n",
       "       [0.63706768, 0.95491448, 0.84158046, 0.88270255, 0.63313527,\n",
       "        0.56008641, 0.4801817 , 0.64017749, 0.48757368, 0.70482518],\n",
       "       [0.88520648, 0.81333217, 0.27723066, 0.44112079, 0.45918293,\n",
       "        0.57023604, 0.96036122, 0.63876782, 0.81917714, 0.82440159],\n",
       "       [0.45118834, 0.55605023, 0.84244033, 0.9414499 , 0.55014026,\n",
       "        0.50114166, 0.25916732, 0.52348578, 0.64211623, 0.49025447],\n",
       "       [0.49198322, 0.10785838, 0.12577904, 0.12725819, 0.79780591,\n",
       "        0.54327887, 0.78210044, 0.78482102, 0.19724282, 0.7278225 ]])"
      ]
     },
     "execution_count": 14,
     "metadata": {},
     "output_type": "execute_result"
    }
   ],
   "source": [
    "predictions['2'].to_numpy()"
   ]
  },
  {
   "cell_type": "code",
   "execution_count": 16,
   "metadata": {},
   "outputs": [
    {
     "name": "stderr",
     "output_type": "stream",
     "text": [
      "C:\\Users\\jaesc2\\AppData\\Local\\Temp\\ipykernel_12892\\685590664.py:1: FutureWarning: Series.ravel is deprecated. The underlying array is already 1D, so ravel is not necessary.  Use `to_numpy()` for conversion to a numpy array instead.\n",
      "  pd.Series(np.arange(10, 16, dtype=float)).ravel()\n"
     ]
    },
    {
     "data": {
      "text/plain": [
       "array([10., 11., 12., 13., 14., 15.])"
      ]
     },
     "execution_count": 16,
     "metadata": {},
     "output_type": "execute_result"
    }
   ],
   "source": [
    "pd.Series(np.arange(10, 16, dtype=float)).ravel()"
   ]
  },
  {
   "cell_type": "code",
   "execution_count": null,
   "metadata": {},
   "outputs": [],
   "source": []
  }
 ],
 "metadata": {
  "kernelspec": {
   "display_name": "skforecast_py12",
   "language": "python",
   "name": "python3"
  },
  "language_info": {
   "codemirror_mode": {
    "name": "ipython",
    "version": 3
   },
   "file_extension": ".py",
   "mimetype": "text/x-python",
   "name": "python",
   "nbconvert_exporter": "python",
   "pygments_lexer": "ipython3",
   "version": "3.12.4"
  },
  "orig_nbformat": 4
 },
 "nbformat": 4,
 "nbformat_minor": 2
}
