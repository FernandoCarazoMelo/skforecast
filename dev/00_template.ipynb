{
 "cells": [
  {
   "cell_type": "code",
   "execution_count": 2,
   "metadata": {},
   "outputs": [
    {
     "name": "stdout",
     "output_type": "stream",
     "text": [
      "c:\\Users\\Joaquín Amat\\Documents\\GitHub\\skforecast\n"
     ]
    }
   ],
   "source": [
    "%load_ext autoreload\n",
    "%autoreload 2\n",
    "import sys\n",
    "from pathlib import Path\n",
    "path = str(Path.cwd().parent)\n",
    "print(path)\n",
    "sys.path.insert(1, path)"
   ]
  },
  {
   "cell_type": "code",
   "execution_count": 30,
   "metadata": {},
   "outputs": [],
   "source": [
    "import re\n",
    "import pytest\n",
    "import numpy as np\n",
    "import pandas as pd\n",
    "from sklearn.exceptions import NotFittedError\n",
    "from sklearn.compose import ColumnTransformer\n",
    "from sklearn.preprocessing import StandardScaler\n",
    "from sklearn.preprocessing import OneHotEncoder\n",
    "from sklearn.linear_model import LinearRegression\n",
    "from lightgbm import LGBMRegressor\n",
    "\n",
    "from skforecast.exceptions import IgnoredArgumentWarning\n",
    "from skforecast.exceptions import UnknownLevelWarning\n",
    "from skforecast.preprocessing import RollingFeatures\n",
    "from skforecast.recursive import ForecasterRecursiveMultiSeries\n",
    "\n",
    "\n",
    "# Fixtures\n",
    "from skforecast.recursive.tests.tests_forecaster_recursive_multiseries.fixtures_forecaster_recursive_multiseries import series\n",
    "from skforecast.recursive.tests.tests_forecaster_recursive_multiseries.fixtures_forecaster_recursive_multiseries import exog\n",
    "from skforecast.recursive.tests.tests_forecaster_recursive_multiseries.fixtures_forecaster_recursive_multiseries import exog_predict\n",
    "\n",
    "transformer_exog = ColumnTransformer(\n",
    "                       [('scale', StandardScaler(), ['exog_1']),\n",
    "                        ('onehot', OneHotEncoder(), ['exog_2'])],\n",
    "                       remainder = 'passthrough',\n",
    "                       verbose_feature_names_out = False\n",
    "                   )"
   ]
  },
  {
   "cell_type": "code",
   "execution_count": 39,
   "metadata": {},
   "outputs": [
    {
     "name": "stderr",
     "output_type": "stream",
     "text": [
      "c:\\Users\\Joaquín Amat\\Documents\\GitHub\\skforecast\\skforecast\\recursive\\_forecaster_recursive_multiseries.py:436: UserWarning: When using a linear model, it is recommended to use a transformer_series to ensure all series are in the same scale. You can use, for example, a `StandardScaler` from sklearn.preprocessing.\n",
      "  warnings.warn(\n"
     ]
    }
   ],
   "source": [
    "forecaster = ForecasterRecursiveMultiSeries(\n",
    "    LinearRegression(),\n",
    "    lags=3, \n",
    "    encoding=None\n",
    ")\n",
    "forecaster.fit(series=series)\n",
    "\n",
    "y_true = {\n",
    "    '1': np.array([1, 2, 3, 4, 5]), \n",
    "    '2': np.array([1, 2, 3, 4, 5])\n",
    "}\n",
    "y_pred = {\n",
    "    '1': np.array([0, 0, 0, 0, 0]),\n",
    "    '2': np.array([0, 0, 0, 0, 0])\n",
    "}\n",
    "warn_msg = re.escape(\n",
    "    (\"As `encoding` is set to `None`, no distinction between levels \"\n",
    "        \"is made. All residuals are stored in the '_unknown_level' key.\")\n",
    ")\n",
    "with pytest.warns(UnknownLevelWarning, match = warn_msg):\n",
    "    forecaster.set_out_sample_residuals(y_true=y_true, y_pred=y_pred)\n",
    "\n",
    "last_window = pd.DataFrame(forecaster.last_window_)\n",
    "last_window['3'] = last_window['1']\n",
    "results = forecaster.predict_bootstrapping(\n",
    "                steps                   = 1,\n",
    "                levels                  = ['1', '2', '3'],\n",
    "                last_window             = last_window,\n",
    "                n_boot                  = 4,\n",
    "                use_in_sample_residuals = False\n",
    "            )\n",
    "\n",
    "expected = {\n",
    "    '1': pd.DataFrame(\n",
    "            data    = np.array([[1.48307367, 2.48307367, 1.48307367, 1.48307367]]),\n",
    "            columns = [f\"pred_boot_{i}\" for i in range(4)],\n",
    "            index   = pd.RangeIndex(50, 51)\n",
    "        ),\n",
    "    '2': pd.DataFrame(\n",
    "            data    = np.array([[5.5061193, 3.5061193, 3.5061193, 2.5061193]]),\n",
    "            columns = [f\"pred_boot_{i}\" for i in range(4)],\n",
    "            index   = pd.RangeIndex(50, 51)\n",
    "        ),\n",
    "    '3': pd.DataFrame(\n",
    "            data    = np.array([[4.48307367, 2.48307367, 4.48307367, 4.48307367]]),\n",
    "            columns = [f\"pred_boot_{i}\" for i in range(4)],\n",
    "            index   = pd.RangeIndex(50, 51)\n",
    "        )\n",
    "}\n",
    "\n",
    "for key in results.keys():\n",
    "    pd.testing.assert_frame_equal(results[key], expected[key])"
   ]
  },
  {
   "cell_type": "code",
   "execution_count": 34,
   "metadata": {},
   "outputs": [
    {
     "data": {
      "text/plain": [
       "Index(['1', '2'], dtype='object')"
      ]
     },
     "execution_count": 34,
     "metadata": {},
     "output_type": "execute_result"
    }
   ],
   "source": [
    "series.columns"
   ]
  }
 ],
 "metadata": {
  "kernelspec": {
   "display_name": "skforecast_14_p12",
   "language": "python",
   "name": "python3"
  },
  "language_info": {
   "codemirror_mode": {
    "name": "ipython",
    "version": 3
   },
   "file_extension": ".py",
   "mimetype": "text/x-python",
   "name": "python",
   "nbconvert_exporter": "python",
   "pygments_lexer": "ipython3",
   "version": "3.12.4"
  },
  "orig_nbformat": 4
 },
 "nbformat": 4,
 "nbformat_minor": 2
}
