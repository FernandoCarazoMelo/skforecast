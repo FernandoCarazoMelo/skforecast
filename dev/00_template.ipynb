{
 "cells": [
  {
   "cell_type": "code",
   "execution_count": 7,
   "metadata": {},
   "outputs": [
    {
     "name": "stdout",
     "output_type": "stream",
     "text": [
      "The autoreload extension is already loaded. To reload it, use:\n",
      "  %reload_ext autoreload\n",
      "c:\\Users\\jaesc2\\GitHub\\skforecast\n"
     ]
    }
   ],
   "source": [
    "%load_ext autoreload\n",
    "%autoreload 2\n",
    "import sys\n",
    "from pathlib import Path\n",
    "path = str(Path.cwd().parent)\n",
    "print(path)\n",
    "sys.path.insert(1, path)"
   ]
  },
  {
   "cell_type": "code",
   "execution_count": 8,
   "metadata": {},
   "outputs": [],
   "source": [
    "import numpy as np\n",
    "import pandas as pd\n",
    "from skforecast.ForecasterAutoregMultiSeries import ForecasterAutoregMultiSeries\n",
    "from sklearn.ensemble import RandomForestRegressor\n",
    "from sklearn.linear_model import LinearRegression\n",
    "from sklearn.preprocessing import StandardScaler"
   ]
  },
  {
   "cell_type": "code",
   "execution_count": 9,
   "metadata": {},
   "outputs": [],
   "source": [
    "# df 1000 series\n",
    "np.random.seed(1)\n",
    "n_series = 100\n",
    "n = 100\n",
    "index = pd.date_range(start='01-01-2010', periods=n, freq='D')\n",
    "columns = ['series_' + str(i) for i in range(n_series)]\n",
    "data = np.random.normal(loc=0, scale=1, size=(n, n_series))\n",
    "df = pd.DataFrame(data, index=index, columns=columns)\n",
    "\n",
    "columns_exog = ['exog_' + str(i) for i in range(n_series)]\n",
    "data_exog = np.random.normal(loc=0, scale=1, size=(n, n_series))\n",
    "df_exog = pd.DataFrame(data_exog, index=index, columns=columns_exog)"
   ]
  },
  {
   "cell_type": "code",
   "execution_count": 10,
   "metadata": {},
   "outputs": [
    {
     "data": {
      "text/html": [
       "\n",
       "        <style>\n",
       "            .container-877a96da5f8e48c3b2a743b751cc7c42 {\n",
       "                font-family: 'Arial', sans-serif;\n",
       "                font-size: 0.9em;\n",
       "                color: #333;\n",
       "                border: 1px solid #ddd;\n",
       "                background-color: #f9f1e2;\n",
       "                padding: 5px 15px;\n",
       "                border-radius: 8px;\n",
       "                max-width: 600px;\n",
       "                #margin: auto;\n",
       "            }\n",
       "            .container-877a96da5f8e48c3b2a743b751cc7c42 h2 {\n",
       "                font-size: 1.5em;\n",
       "                color: #222;\n",
       "                border-bottom: 2px solid #ddd;\n",
       "                padding-bottom: 5px;\n",
       "                margin-bottom: 15px;\n",
       "            }\n",
       "            .container-877a96da5f8e48c3b2a743b751cc7c42 details {\n",
       "                margin: 10px 0;\n",
       "            }\n",
       "            .container-877a96da5f8e48c3b2a743b751cc7c42 summary {\n",
       "                font-weight: bold;\n",
       "                font-size: 1.1em;\n",
       "                cursor: pointer;\n",
       "                margin-bottom: 5px;\n",
       "                background-color: #fae3b3;\n",
       "                padding: 5px;\n",
       "                border-radius: 5px;\n",
       "            }\n",
       "            .container-877a96da5f8e48c3b2a743b751cc7c42 summary:hover {\n",
       "                background-color: #e0e0e0;\n",
       "            }\n",
       "            .container-877a96da5f8e48c3b2a743b751cc7c42 ul {\n",
       "                font-family: 'Courier New', monospace;\n",
       "                list-style-type: none;\n",
       "                padding-left: 20px;\n",
       "                margin: 10px 0;\n",
       "            }\n",
       "            .container-877a96da5f8e48c3b2a743b751cc7c42 li {\n",
       "                margin: 5px 0;\n",
       "                font-family: 'Courier New', monospace;\n",
       "            }\n",
       "            .container-877a96da5f8e48c3b2a743b751cc7c42 li strong {\n",
       "                font-weight: bold;\n",
       "                color: #444;\n",
       "            }\n",
       "            .container-877a96da5f8e48c3b2a743b751cc7c42 li::before {\n",
       "                content: \"- \";\n",
       "                color: #666;\n",
       "            }\n",
       "            .container-877a96da5f8e48c3b2a743b751cc7c42 a {\n",
       "                color: #001633;\n",
       "                text-decoration: none;\n",
       "            }\n",
       "            .container-877a96da5f8e48c3b2a743b751cc7c42 a:hover {\n",
       "                color: #359ccb; \n",
       "            }\n",
       "        </style>\n",
       "        \n",
       "        <div class=\"container-877a96da5f8e48c3b2a743b751cc7c42\">\n",
       "            <h2>ForecasterAutoregMultiSeries</h2>\n",
       "            <details open>\n",
       "                <summary>General Information</summary>\n",
       "                <ul>\n",
       "                    <li><strong>Regressor:</strong> LinearRegression()</li>\n",
       "                    <li><strong>Lags:</strong> [1 2 3 4 5]</li>\n",
       "                    <li><strong>Window features:</strong> None</li>\n",
       "                    <li><strong>Window size:</strong> 5</li>\n",
       "                    <li><strong>Series encoding:</strong> ordinal</li>\n",
       "                    <li><strong>Exogenous included:</strong> False</li>\n",
       "                    <li><strong>Weight function included:</strong> False</li>\n",
       "                    <li><strong>Differentiation order:</strong> None</li>\n",
       "                    <li><strong>Creation date:</strong> 2024-10-14 16:30:47</li>\n",
       "                    <li><strong>Last fit date:</strong> None</li>\n",
       "                    <li><strong>Skforecast version:</strong> 0.14.0</li>\n",
       "                    <li><strong>Python version:</strong> 3.12.4</li>\n",
       "                    <li><strong>Forecaster id:</strong> None</li>\n",
       "                </ul>\n",
       "            </details>\n",
       "            <details>\n",
       "                <summary>Exogenous Variables</summary>\n",
       "                <ul>\n",
       "                    None\n",
       "                </ul>\n",
       "            </details>\n",
       "            <details>\n",
       "                <summary>Data Transformations</summary>\n",
       "                <ul>\n",
       "                    <li><strong>Transformer for series:</strong> StandardScaler()</li>\n",
       "                    <li><strong>Transformer for exog:</strong> None</li>\n",
       "                </ul>\n",
       "            </details>\n",
       "            <details>\n",
       "                <summary>Training Information</summary>\n",
       "                <ul>\n",
       "                    <li><strong>Series names (levels):</strong> None</li>\n",
       "                    <li><strong>Training range:</strong> None</li>\n",
       "                    <li><strong>Training index type:</strong> Not fitted</li>\n",
       "                    <li><strong>Training index frequency:</strong> Not fitted</li>\n",
       "                </ul>\n",
       "            </details>\n",
       "            <details>\n",
       "                <summary>Regressor Parameters</summary>\n",
       "                <ul>\n",
       "                    {'copy_X': True, 'fit_intercept': True, 'n_jobs': None, 'positive': False}\n",
       "                </ul>\n",
       "            </details>\n",
       "            <details>\n",
       "                <summary>Fit Kwargs</summary>\n",
       "                <ul>\n",
       "                    {}\n",
       "                </ul>\n",
       "            </details>\n",
       "            <p>\n",
       "                <a href=\"https://skforecast.org/0.14.0/api/forecastermultiseries#forecasterautoregmultiseries.html\">&#128712 <strong>API Reference</strong></a>\n",
       "                &nbsp;&nbsp;\n",
       "                <a href=\"https://skforecast.org/0.14.0/user_guides/independent-multi-time-series-forecasting.html\">&#128462 <strong>User Guide</strong></a>\n",
       "            </p>\n",
       "        </div>\n",
       "        "
      ],
      "text/plain": [
       "============================ \n",
       "ForecasterAutoregMultiSeries \n",
       "============================ \n",
       "Regressor: LinearRegression() \n",
       "Lags: [1 2 3 4 5] \n",
       "Window features: None \n",
       "Window size: 5 \n",
       "Series names (levels): None \n",
       "Series encoding: ordinal \n",
       "Series weights: None \n",
       "Exogenous included: False \n",
       "Exogenous names: None \n",
       "Transformer for series: StandardScaler() \n",
       "Transformer for exog: None \n",
       "Weight function included: False \n",
       "Differentiation order: None \n",
       "Training range: None \n",
       "Training index type: None \n",
       "Training index frequency: None \n",
       "Regressor parameters: \n",
       "    {'copy_X': True, 'fit_intercept': True, 'n_jobs': None, 'positive': False} \n",
       "fit_kwargs: {} \n",
       "Creation date: 2024-10-14 16:30:47 \n",
       "Last fit date: None \n",
       "Skforecast version: 0.14.0 \n",
       "Python version: 3.12.4 \n",
       "Forecaster id: None "
      ]
     },
     "execution_count": 10,
     "metadata": {},
     "output_type": "execute_result"
    }
   ],
   "source": [
    "transformer_series = {col: StandardScaler() for col in columns}\n",
    "transformer_series['_unknown_level'] = StandardScaler()\n",
    "\n",
    "forecaster = ForecasterAutoregMultiSeries(\n",
    "                    regressor = LinearRegression(),\n",
    "                    lags = 5,\n",
    "                    transformer_series = StandardScaler(),\n",
    "                )\n",
    "forecaster"
   ]
  },
  {
   "cell_type": "code",
   "execution_count": 11,
   "metadata": {},
   "outputs": [
    {
     "data": {
      "text/plain": [
       "<bound method ForecasterAutoregMultiSeries.__repr__ of ============================ \n",
       "ForecasterAutoregMultiSeries \n",
       "============================ \n",
       "Regressor: LinearRegression() \n",
       "Lags: [1 2 3 4 5] \n",
       "Window features: None \n",
       "Window size: 5 \n",
       "Series names (levels): None \n",
       "Series encoding: ordinal \n",
       "Series weights: None \n",
       "Exogenous included: False \n",
       "Exogenous names: None \n",
       "Transformer for series: StandardScaler() \n",
       "Transformer for exog: None \n",
       "Weight function included: False \n",
       "Differentiation order: None \n",
       "Training range: None \n",
       "Training index type: None \n",
       "Training index frequency: None \n",
       "Regressor parameters: \n",
       "    {'copy_X': True, 'fit_intercept': True, 'n_jobs': None, 'positive': False} \n",
       "fit_kwargs: {} \n",
       "Creation date: 2024-10-14 16:30:47 \n",
       "Last fit date: None \n",
       "Skforecast version: 0.14.0 \n",
       "Python version: 3.12.4 \n",
       "Forecaster id: None \n",
       ">"
      ]
     },
     "execution_count": 11,
     "metadata": {},
     "output_type": "execute_result"
    }
   ],
   "source": [
    "forecaster.__repr__"
   ]
  },
  {
   "cell_type": "code",
   "execution_count": 5,
   "metadata": {},
   "outputs": [
    {
     "data": {
      "text/html": [
       "\n",
       "        <style>\n",
       "            .container-421a8f7fb6a64c87b60bc854716dd489 {\n",
       "                font-family: 'Arial', sans-serif;\n",
       "                font-size: 0.9em;\n",
       "                color: #333;\n",
       "                border: 1px solid #ddd;\n",
       "                background-color: #f0f8ff;\n",
       "                padding: 5px 15px;\n",
       "                border-radius: 8px;\n",
       "                max-width: 600px;\n",
       "                #margin: auto;\n",
       "            }\n",
       "            .container-421a8f7fb6a64c87b60bc854716dd489 h2 {\n",
       "                font-size: 1.5em;\n",
       "                color: #222;\n",
       "                border-bottom: 2px solid #ddd;\n",
       "                padding-bottom: 5px;\n",
       "                margin-bottom: 15px;\n",
       "            }\n",
       "            .container-421a8f7fb6a64c87b60bc854716dd489 details {\n",
       "                margin: 10px 0;\n",
       "            }\n",
       "            .container-421a8f7fb6a64c87b60bc854716dd489 summary {\n",
       "                font-weight: bold;\n",
       "                font-size: 1.1em;\n",
       "                cursor: pointer;\n",
       "                margin-bottom: 5px;\n",
       "                background-color: #b3dbfd;\n",
       "                padding: 5px;\n",
       "                border-radius: 5px;\n",
       "            }\n",
       "            .container-421a8f7fb6a64c87b60bc854716dd489 summary:hover {\n",
       "                background-color: #e0e0e0;\n",
       "            }\n",
       "            .container-421a8f7fb6a64c87b60bc854716dd489 ul {\n",
       "                font-family: 'Courier New', monospace;\n",
       "                list-style-type: none;\n",
       "                padding-left: 20px;\n",
       "                margin: 10px 0;\n",
       "            }\n",
       "            .container-421a8f7fb6a64c87b60bc854716dd489 li {\n",
       "                margin: 5px 0;\n",
       "                font-family: 'Courier New', monospace;\n",
       "            }\n",
       "            .container-421a8f7fb6a64c87b60bc854716dd489 li strong {\n",
       "                font-weight: bold;\n",
       "                color: #444;\n",
       "            }\n",
       "            .container-421a8f7fb6a64c87b60bc854716dd489 li::before {\n",
       "                content: \"- \";\n",
       "                color: #666;\n",
       "            }\n",
       "            .container-421a8f7fb6a64c87b60bc854716dd489 a {\n",
       "                color: #001633;\n",
       "                text-decoration: none;\n",
       "            }\n",
       "            .container-421a8f7fb6a64c87b60bc854716dd489 a:hover {\n",
       "                color: #359ccb; \n",
       "            }\n",
       "        </style>\n",
       "        \n",
       "        <div class=\"container-421a8f7fb6a64c87b60bc854716dd489\">\n",
       "            <h2>ForecasterAutoregMultiSeries</h2>\n",
       "            <details open>\n",
       "                <summary>General Information</summary>\n",
       "                <ul>\n",
       "                    <li><strong>Regressor:</strong> LinearRegression()</li>\n",
       "                    <li><strong>Lags:</strong> [1 2 3 4 5]</li>\n",
       "                    <li><strong>Window features:</strong> None</li>\n",
       "                    <li><strong>Window size:</strong> 5</li>\n",
       "                    <li><strong>Series encoding:</strong> ordinal</li>\n",
       "                    <li><strong>Exogenous included:</strong> True</li>\n",
       "                    <li><strong>Weight function included:</strong> False</li>\n",
       "                    <li><strong>Differentiation order:</strong> None</li>\n",
       "                    <li><strong>Creation date:</strong> 2024-10-14 16:30:12</li>\n",
       "                    <li><strong>Last fit date:</strong> 2024-10-14 16:30:24</li>\n",
       "                    <li><strong>Skforecast version:</strong> 0.14.0</li>\n",
       "                    <li><strong>Python version:</strong> 3.12.4</li>\n",
       "                    <li><strong>Forecaster id:</strong> None</li>\n",
       "                </ul>\n",
       "            </details>\n",
       "            <details>\n",
       "                <summary>Exogenous Variables</summary>\n",
       "                <ul>\n",
       "                    exog_0, exog_1, exog_2, exog_3, exog_4, exog_5, exog_6, exog_7, exog_8, exog_9, exog_10, exog_11, exog_12, exog_13, exog_14, exog_15, exog_16, exog_17, exog_18, exog_19, exog_20, exog_21, exog_22, exog_23, exog_24, ..., exog_75, exog_76, exog_77, exog_78, exog_79, exog_80, exog_81, exog_82, exog_83, exog_84, exog_85, exog_86, exog_87, exog_88, exog_89, exog_90, exog_91, exog_92, exog_93, exog_94, exog_95, exog_96, exog_97, exog_98, exog_99\n",
       "                </ul>\n",
       "            </details>\n",
       "            <details>\n",
       "                <summary>Data Transformations</summary>\n",
       "                <ul>\n",
       "                    <li><strong>Transformer for series:</strong> StandardScaler()</li>\n",
       "                    <li><strong>Transformer for exog:</strong> None</li>\n",
       "                </ul>\n",
       "            </details>\n",
       "            <details>\n",
       "                <summary>Training Information</summary>\n",
       "                <ul>\n",
       "                    <li><strong>Series names (levels):</strong> series_0, series_1, series_2, series_3, series_4, series_5, series_6, series_7, series_8, series_9, series_10, series_11, series_12, series_13, series_14, series_15, series_16, series_17, series_18, series_19, series_20, series_21, series_22, series_23, series_24, ..., series_75, series_76, series_77, series_78, series_79, series_80, series_81, series_82, series_83, series_84, series_85, series_86, series_87, series_88, series_89, series_90, series_91, series_92, series_93, series_94, series_95, series_96, series_97, series_98, series_99</li>\n",
       "                    <li><strong>Training range:</strong> 'series_0': ['2010-01-01', '2010-04-10'], 'series_1': ['2010-01-01', '2010-04-10'], 'series_2': ['2010-01-01', '2010-04-10'], 'series_3': ['2010-01-01', '2010-04-10'], 'series_4': ['2010-01-01', '2010-04-10'], ..., 'series_95': ['2010-01-01', '2010-04-10'], 'series_96': ['2010-01-01', '2010-04-10'], 'series_97': ['2010-01-01', '2010-04-10'], 'series_98': ['2010-01-01', '2010-04-10'], 'series_99': ['2010-01-01', '2010-04-10']</li>\n",
       "                    <li><strong>Training index type:</strong> DatetimeIndex</li>\n",
       "                    <li><strong>Training index frequency:</strong> D</li>\n",
       "                </ul>\n",
       "            </details>\n",
       "            <details>\n",
       "                <summary>Regressor Parameters</summary>\n",
       "                <ul>\n",
       "                    {'copy_X': True, 'fit_intercept': True, 'n_jobs': None, 'positive': False}\n",
       "                </ul>\n",
       "            </details>\n",
       "            <details>\n",
       "                <summary>Fit Kwargs</summary>\n",
       "                <ul>\n",
       "                    {}\n",
       "                </ul>\n",
       "            </details>\n",
       "            <p>\n",
       "                <a href=\"https://skforecast.org/0.14.0/api/forecastermultiseries#forecasterautoregmultiseries.html\">&#128712 <strong>API Reference</strong></a>\n",
       "                &nbsp;&nbsp;\n",
       "                <a href=\"https://skforecast.org/0.14.0/user_guides/independent-multi-time-series-forecasting.html\">&#128462 <strong>User Guide</strong></a>\n",
       "            </p>\n",
       "        </div>\n",
       "        "
      ],
      "text/plain": [
       "============================ \n",
       "ForecasterAutoregMultiSeries \n",
       "============================ \n",
       "Regressor: LinearRegression() \n",
       "Lags: [1 2 3 4 5] \n",
       "Window features: None \n",
       "Window size: 5 \n",
       "Series names (levels): \n",
       "    series_0, series_1, series_2, series_3, series_4, series_5, series_6, series_7,\n",
       "    series_8, series_9, series_10, series_11, series_12, series_13, series_14,\n",
       "    series_15, series_16, series_17, series_18, series_19, series_20, series_21,\n",
       "    series_22, series_23, series_24, ..., series_75, series_76, series_77,\n",
       "    series_78, series_79, series_80, series_81, series_82, series_83, series_84,\n",
       "    series_85, series_86, series_87, series_88, series_89, series_90, series_91,\n",
       "    series_92, series_93, series_94, series_95, series_96, series_97, series_98,\n",
       "    series_99 \n",
       "Series encoding: ordinal \n",
       "Series weights: None \n",
       "Exogenous included: True \n",
       "Exogenous names: \n",
       "    exog_0, exog_1, exog_2, exog_3, exog_4, exog_5, exog_6, exog_7, exog_8, exog_9,\n",
       "    exog_10, exog_11, exog_12, exog_13, exog_14, exog_15, exog_16, exog_17,\n",
       "    exog_18, exog_19, exog_20, exog_21, exog_22, exog_23, exog_24, ..., exog_75,\n",
       "    exog_76, exog_77, exog_78, exog_79, exog_80, exog_81, exog_82, exog_83,\n",
       "    exog_84, exog_85, exog_86, exog_87, exog_88, exog_89, exog_90, exog_91,\n",
       "    exog_92, exog_93, exog_94, exog_95, exog_96, exog_97, exog_98, exog_99 \n",
       "Transformer for series: StandardScaler() \n",
       "Transformer for exog: None \n",
       "Weight function included: False \n",
       "Differentiation order: None \n",
       "Training range: \n",
       "    'series_0': ['2010-01-01', '2010-04-10'], 'series_1': ['2010-01-01',\n",
       "    '2010-04-10'], 'series_2': ['2010-01-01', '2010-04-10'], 'series_3':\n",
       "    ['2010-01-01', '2010-04-10'], 'series_4': ['2010-01-01', '2010-04-10'], ...,\n",
       "    'series_95': ['2010-01-01', '2010-04-10'], 'series_96': ['2010-01-01',\n",
       "    '2010-04-10'], 'series_97': ['2010-01-01', '2010-04-10'], 'series_98':\n",
       "    ['2010-01-01', '2010-04-10'], 'series_99': ['2010-01-01', '2010-04-10'] \n",
       "Training index type: DatetimeIndex \n",
       "Training index frequency: D \n",
       "Regressor parameters: \n",
       "    {'copy_X': True, 'fit_intercept': True, 'n_jobs': None, 'positive': False} \n",
       "fit_kwargs: {} \n",
       "Creation date: 2024-10-14 16:30:12 \n",
       "Last fit date: 2024-10-14 16:30:24 \n",
       "Skforecast version: 0.14.0 \n",
       "Python version: 3.12.4 \n",
       "Forecaster id: None "
      ]
     },
     "execution_count": 5,
     "metadata": {},
     "output_type": "execute_result"
    }
   ],
   "source": [
    "forecaster.fit(series=df, exog=df_exog)\n",
    "forecaster"
   ]
  },
  {
   "cell_type": "code",
   "execution_count": 6,
   "metadata": {},
   "outputs": [
    {
     "data": {
      "text/plain": [
       "<bound method ForecasterAutoregMultiSeries.__repr__ of ============================ \n",
       "ForecasterAutoregMultiSeries \n",
       "============================ \n",
       "Regressor: LinearRegression() \n",
       "Lags: [1 2 3 4 5] \n",
       "Window features: None \n",
       "Window size: 5 \n",
       "Series names (levels): \n",
       "    series_0, series_1, series_2, series_3, series_4, series_5, series_6, series_7,\n",
       "    series_8, series_9, series_10, series_11, series_12, series_13, series_14,\n",
       "    series_15, series_16, series_17, series_18, series_19, series_20, series_21,\n",
       "    series_22, series_23, series_24, ..., series_75, series_76, series_77,\n",
       "    series_78, series_79, series_80, series_81, series_82, series_83, series_84,\n",
       "    series_85, series_86, series_87, series_88, series_89, series_90, series_91,\n",
       "    series_92, series_93, series_94, series_95, series_96, series_97, series_98,\n",
       "    series_99 \n",
       "Series encoding: ordinal \n",
       "Series weights: None \n",
       "Exogenous included: True \n",
       "Exogenous names: \n",
       "    exog_0, exog_1, exog_2, exog_3, exog_4, exog_5, exog_6, exog_7, exog_8, exog_9,\n",
       "    exog_10, exog_11, exog_12, exog_13, exog_14, exog_15, exog_16, exog_17,\n",
       "    exog_18, exog_19, exog_20, exog_21, exog_22, exog_23, exog_24, ..., exog_75,\n",
       "    exog_76, exog_77, exog_78, exog_79, exog_80, exog_81, exog_82, exog_83,\n",
       "    exog_84, exog_85, exog_86, exog_87, exog_88, exog_89, exog_90, exog_91,\n",
       "    exog_92, exog_93, exog_94, exog_95, exog_96, exog_97, exog_98, exog_99 \n",
       "Transformer for series: StandardScaler() \n",
       "Transformer for exog: None \n",
       "Weight function included: False \n",
       "Differentiation order: None \n",
       "Training range: \n",
       "    'series_0': ['2010-01-01', '2010-04-10'], 'series_1': ['2010-01-01',\n",
       "    '2010-04-10'], 'series_2': ['2010-01-01', '2010-04-10'], 'series_3':\n",
       "    ['2010-01-01', '2010-04-10'], 'series_4': ['2010-01-01', '2010-04-10'], ...,\n",
       "    'series_95': ['2010-01-01', '2010-04-10'], 'series_96': ['2010-01-01',\n",
       "    '2010-04-10'], 'series_97': ['2010-01-01', '2010-04-10'], 'series_98':\n",
       "    ['2010-01-01', '2010-04-10'], 'series_99': ['2010-01-01', '2010-04-10'] \n",
       "Training index type: DatetimeIndex \n",
       "Training index frequency: D \n",
       "Regressor parameters: \n",
       "    {'copy_X': True, 'fit_intercept': True, 'n_jobs': None, 'positive': False} \n",
       "fit_kwargs: {} \n",
       "Creation date: 2024-10-14 16:30:12 \n",
       "Last fit date: 2024-10-14 16:30:24 \n",
       "Skforecast version: 0.14.0 \n",
       "Python version: 3.12.4 \n",
       "Forecaster id: None \n",
       ">"
      ]
     },
     "execution_count": 6,
     "metadata": {},
     "output_type": "execute_result"
    }
   ],
   "source": [
    "forecaster.__repr__"
   ]
  },
  {
   "cell_type": "code",
   "execution_count": 64,
   "metadata": {},
   "outputs": [],
   "source": [
    "def aaa(trab=None):\n",
    "    b = 1\n",
    "    return trab, b"
   ]
  },
  {
   "cell_type": "code",
   "execution_count": 65,
   "metadata": {},
   "outputs": [],
   "source": [
    "x, b = aaa()\n",
    "x"
   ]
  },
  {
   "cell_type": "code",
   "execution_count": 66,
   "metadata": {},
   "outputs": [
    {
     "data": {
      "text/plain": [
       "1"
      ]
     },
     "execution_count": 66,
     "metadata": {},
     "output_type": "execute_result"
    }
   ],
   "source": [
    "b"
   ]
  },
  {
   "cell_type": "code",
   "execution_count": 28,
   "metadata": {},
   "outputs": [
    {
     "data": {
      "text/plain": [
       "['lag_1', 'lag_2', 'lag_3', 'lag_4', 'lag_5']"
      ]
     },
     "execution_count": 28,
     "metadata": {},
     "output_type": "execute_result"
    }
   ],
   "source": [
    "from skforecast.ForecasterAutoregMultiVariate import ForecasterAutoregMultiVariate\n",
    "\n",
    "lags={'l1': None, 'l2': None}\n",
    "expected = {'l1': None, 'l2': np.array([1, 2, 3, 4, 5])}\n",
    "\n",
    "forecaster = ForecasterAutoregMultiVariate(\n",
    "    LinearRegression(), level='l1', lags=5, steps=2\n",
    ")\n",
    "forecaster.lags_names"
   ]
  },
  {
   "cell_type": "code",
   "execution_count": 21,
   "metadata": {},
   "outputs": [],
   "source": [
    "import numpy as np\n",
    "\n",
    "for k in forecaster.lags:\n",
    "    if lags[k] is None:\n",
    "        assert forecaster.lags[k] is None\n",
    "        assert forecaster.lags_names[k] is None\n",
    "    else:\n",
    "        np.testing.assert_array_almost_equal(forecaster.lags[k], expected[k])\n",
    "        assert forecaster.lags_names[k] == [f'lag_{i}' for i in range(1, lags[k] + 1)]"
   ]
  },
  {
   "cell_type": "code",
   "execution_count": 30,
   "metadata": {},
   "outputs": [],
   "source": [
    "cols_to_create_lags = {'col1': 5, 'col2': None}\n",
    "\n",
    "cols_to_create_lags.get('col3', None)"
   ]
  },
  {
   "cell_type": "code",
   "execution_count": 42,
   "metadata": {},
   "outputs": [
    {
     "name": "stdout",
     "output_type": "stream",
     "text": [
      "{'l1': 'both', 'l2': 'X'}\n"
     ]
    }
   ],
   "source": [
    "series = pd.DataFrame({'l1': pd.Series(np.arange(10)), \n",
    "                        'l2': pd.Series(np.arange(100, 110))})\n",
    "exog = None\n",
    "\n",
    "forecaster = ForecasterAutoregMultiVariate(LinearRegression(), level='l1',\n",
    "                                            lags={'l1': 3, 'l2': 3}, \n",
    "                                            steps=2, transformer_series=None)\n",
    "results = forecaster._create_train_X_y(series=series, exog=exog)"
   ]
  },
  {
   "cell_type": "code",
   "execution_count": 45,
   "metadata": {},
   "outputs": [
    {
     "data": {
      "text/plain": [
       "array([3., 4., 5., 6., 7., 8., 9.])"
      ]
     },
     "execution_count": 45,
     "metadata": {},
     "output_type": "execute_result"
    }
   ],
   "source": [
    "np.array([[3., 4., 5., 6., 7., 8., 9.]])[1 - 1, :]"
   ]
  },
  {
   "cell_type": "code",
   "execution_count": 44,
   "metadata": {},
   "outputs": [
    {
     "data": {
      "text/plain": [
       "0    3.0\n",
       "1    4.0\n",
       "2    5.0\n",
       "3    6.0\n",
       "4    7.0\n",
       "5    8.0\n",
       "6    9.0\n",
       "dtype: float64"
      ]
     },
     "execution_count": 44,
     "metadata": {},
     "output_type": "execute_result"
    }
   ],
   "source": [
    "pd.Series(np.array([[3., 4., 5., 6., 7., 8., 9.]])[1 - 1, :])"
   ]
  },
  {
   "cell_type": "code",
   "execution_count": 50,
   "metadata": {},
   "outputs": [
    {
     "data": {
      "text/plain": [
       "array([[3.],\n",
       "       [4.],\n",
       "       [5.],\n",
       "       [6.],\n",
       "       [7.],\n",
       "       [8.],\n",
       "       [9.]])"
      ]
     },
     "execution_count": 50,
     "metadata": {},
     "output_type": "execute_result"
    }
   ],
   "source": [
    "np.array([[3.], [4.], [5.], [6.], [7.], [8.], [9.]])"
   ]
  },
  {
   "cell_type": "code",
   "execution_count": 53,
   "metadata": {},
   "outputs": [
    {
     "data": {
      "text/plain": [
       "array([[6., 7.],\n",
       "       [7., 8.],\n",
       "       [8., 9.]])"
      ]
     },
     "execution_count": 53,
     "metadata": {},
     "output_type": "execute_result"
    }
   ],
   "source": [
    "np.array([[6., 7., 8.],\n",
    "                  [7., 8., 9.]]).transpose()"
   ]
  },
  {
   "cell_type": "code",
   "execution_count": null,
   "metadata": {},
   "outputs": [],
   "source": []
  }
 ],
 "metadata": {
  "kernelspec": {
   "display_name": "skforecast_py12",
   "language": "python",
   "name": "python3"
  },
  "language_info": {
   "codemirror_mode": {
    "name": "ipython",
    "version": 3
   },
   "file_extension": ".py",
   "mimetype": "text/x-python",
   "name": "python",
   "nbconvert_exporter": "python",
   "pygments_lexer": "ipython3",
   "version": "3.12.4"
  },
  "orig_nbformat": 4
 },
 "nbformat": 4,
 "nbformat_minor": 2
}
