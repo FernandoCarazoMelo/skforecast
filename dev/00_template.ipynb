{
 "cells": [
  {
   "cell_type": "code",
   "execution_count": 1,
   "metadata": {},
   "outputs": [
    {
     "name": "stdout",
     "output_type": "stream",
     "text": [
      "c:\\Users\\jaesc2\\GitHub\\skforecast\n"
     ]
    }
   ],
   "source": [
    "%load_ext autoreload\n",
    "%autoreload 2\n",
    "import sys\n",
    "from pathlib import Path\n",
    "path = str(Path.cwd().parent)\n",
    "print(path)\n",
    "sys.path.insert(1, path)"
   ]
  },
  {
   "cell_type": "code",
   "execution_count": 2,
   "metadata": {},
   "outputs": [],
   "source": [
    "import re\n",
    "import pytest\n",
    "import joblib\n",
    "import warnings\n",
    "import numpy as np\n",
    "import pandas as pd\n",
    "from pathlib import Path\n",
    "from sklearn.preprocessing import StandardScaler\n",
    "from lightgbm import LGBMRegressor\n",
    "from sklearn.linear_model import Ridge\n",
    "from skforecast.recursive import ForecasterRecursiveMultiSeries\n",
    "from skforecast.direct import ForecasterDirectMultiVariate\n",
    "from skforecast.model_selection import bayesian_search_forecaster_multiseries\n",
    "from skforecast.model_selection._split import TimeSeriesFold, OneStepAheadFold\n",
    "from skforecast.preprocessing import RollingFeatures\n",
    "from sklearn.metrics import mean_absolute_percentage_error\n",
    "from skforecast.metrics import mean_absolute_scaled_error\n",
    "import os\n",
    "\n",
    "# Fixtures\n",
    "from skforecast.model_selection.tests.fixtures_model_selection_multiseries import series\n",
    "THIS_DIR = Path(\"C:\\\\Users\\\\Joaquín Amat\\\\Documents\\\\GitHub\\\\skforecast\\\\skforecast\\\\model_selection\\\\tests\")\n",
    "THIS_DIR = Path(r\"C:\\Users\\jaesc2\\GitHub\\skforecast\\skforecast\\model_selection\\tests\")\n",
    "series_item_sales = pd.read_parquet(THIS_DIR/'fixture_multi_series_items_sales.parquet')\n",
    "series_item_sales = series_item_sales.asfreq('D')\n",
    "exog_item_sales = pd.DataFrame({'day_of_week': series_item_sales.index.dayofweek}, index = series_item_sales.index)\n",
    "series_dict = joblib.load(THIS_DIR/'fixture_sample_multi_series.joblib')\n",
    "exog_dict = joblib.load(THIS_DIR/'fixture_sample_multi_series_exog.joblib')\n",
    "end_train = \"2016-07-31 23:59:00\"\n",
    "series_dict_train = {k: v.loc[:end_train,] for k, v in series_dict.items()}\n",
    "exog_dict_train = {k: v.loc[:end_train,] for k, v in exog_dict.items()}\n",
    "series_dict_test = {k: v.loc[end_train:,] for k, v in series_dict.items()}\n",
    "exog_dict_test = {k: v.loc[end_train:,] for k, v in exog_dict.items()}"
   ]
  },
  {
   "cell_type": "code",
   "execution_count": 3,
   "metadata": {},
   "outputs": [],
   "source": [
    "import re\n",
    "import pytest\n",
    "import numpy as np\n",
    "import pandas as pd\n",
    "from sklearn.linear_model import Ridge\n",
    "# from skopt.space import Real\n",
    "from skforecast.recursive import ForecasterRecursive\n",
    "from skforecast.model_selection._search import bayesian_search_forecaster\n",
    "from skforecast.model_selection._split import TimeSeriesFold\n",
    "\n",
    "# Fixtures\n",
    "from skforecast.model_selection.tests.fixtures_model_selection import y\n",
    "from skforecast.model_selection.tests.fixtures_model_selection import exog"
   ]
  },
  {
   "cell_type": "code",
   "execution_count": 4,
   "metadata": {},
   "outputs": [],
   "source": [
    "import os\n",
    "import re\n",
    "import sys\n",
    "import pytest\n",
    "from pytest import approx\n",
    "import numpy as np\n",
    "import pandas as pd\n",
    "from sklearn.ensemble import RandomForestRegressor\n",
    "from sklearn.linear_model import Ridge\n",
    "from sklearn.metrics import mean_absolute_error\n",
    "from sklearn.preprocessing import StandardScaler\n",
    "from skforecast.recursive import ForecasterRecursiveMultiSeries\n",
    "from skforecast.direct import ForecasterDirectMultiVariate\n",
    "from skforecast.model_selection import backtesting_forecaster_multiseries\n",
    "from skforecast.model_selection._search import _bayesian_search_optuna_multiseries\n",
    "from skforecast.model_selection._search import _evaluate_grid_hyperparameters_multiseries\n",
    "from skforecast.model_selection._search import _evaluate_grid_hyperparameters\n",
    "from skforecast.model_selection._split import TimeSeriesFold\n",
    "from skforecast.preprocessing import RollingFeatures\n",
    "import optuna\n",
    "from optuna.samplers import TPESampler\n",
    "from tqdm import tqdm\n",
    "from functools import partialmethod\n",
    "\n",
    "import re\n",
    "import pytest\n",
    "import os\n",
    "import sys\n",
    "import numpy as np\n",
    "import pandas as pd\n",
    "from sklearn.ensemble import RandomForestRegressor\n",
    "from sklearn.linear_model import Ridge\n",
    "from sklearn.metrics import mean_absolute_error\n",
    "from skforecast.recursive import ForecasterRecursive\n",
    "from skforecast.direct import ForecasterDirect\n",
    "from skforecast.model_selection import backtesting_forecaster\n",
    "from skforecast.model_selection._search import _bayesian_search_optuna\n",
    "from skforecast.model_selection._split import TimeSeriesFold\n",
    "import optuna\n",
    "from optuna.samplers import TPESampler\n",
    "from tqdm import tqdm\n",
    "from functools import partialmethod\n",
    "from sklearn.linear_model import LinearRegression\n",
    "from skforecast.model_selection._validation import _backtesting_forecaster"
   ]
  },
  {
   "cell_type": "code",
   "execution_count": 37,
   "metadata": {},
   "outputs": [],
   "source": [
    "window_features = RollingFeatures(\n",
    "    stats = ['mean', 'std', 'min', 'max', 'sum', 'median', 'ratio_min_max', 'coef_variation'],\n",
    "    window_sizes = 3,\n",
    ")\n",
    "forecaster = ForecasterDirect(\n",
    "    regressor=LinearRegression(), steps=4, lags=[], window_features=window_features\n",
    ")"
   ]
  },
  {
   "cell_type": "code",
   "execution_count": 29,
   "metadata": {},
   "outputs": [],
   "source": [
    "lags, lags_names, max_lag = (None, None, None)"
   ]
  },
  {
   "cell_type": "code",
   "execution_count": 39,
   "metadata": {},
   "outputs": [
    {
     "data": {
      "text/plain": [
       "[]"
      ]
     },
     "execution_count": 39,
     "metadata": {},
     "output_type": "execute_result"
    }
   ],
   "source": [
    "[\n",
    "    feature for feature in [1, 2, 3] if feature in []\n",
    "]"
   ]
  },
  {
   "cell_type": "code",
   "execution_count": 27,
   "metadata": {},
   "outputs": [
    {
     "data": {
      "application/vnd.jupyter.widget-view+json": {
       "model_id": "c26f1412d7c64462a0e5ff56b681d12f",
       "version_major": 2,
       "version_minor": 0
      },
      "text/plain": [
       "  0%|          | 0/3 [00:00<?, ?it/s]"
      ]
     },
     "metadata": {},
     "output_type": "display_data"
    }
   ],
   "source": [
    "window_features = RollingFeatures(\n",
    "    stats = ['mean', 'std', 'min', 'max', 'sum', 'median', 'ratio_min_max', 'coef_variation'],\n",
    "    window_sizes = 3,\n",
    ")\n",
    "forecaster = ForecasterDirect(\n",
    "    regressor=LinearRegression(), steps=4, lags=3, window_features=window_features\n",
    ")\n",
    "\n",
    "n_backtest = 12\n",
    "y_train = y[:-n_backtest]\n",
    "cv = TimeSeriesFold(\n",
    "        steps                 = 4,\n",
    "        initial_train_size    = len(y_train),\n",
    "        window_size           = None,\n",
    "        differentiation       = None,\n",
    "        refit                 = True,\n",
    "        fixed_train_size      = False,\n",
    "        gap                   = 0,\n",
    "        skip_folds            = None,\n",
    "        allow_incomplete_fold = True,\n",
    "        return_all_indexes    = False,\n",
    "    )\n",
    "metric, backtest_predictions = _backtesting_forecaster(\n",
    "                                    forecaster = forecaster,\n",
    "                                    y          = y,\n",
    "                                    exog       = exog,\n",
    "                                    cv         = cv,\n",
    "                                    metric     = 'mean_squared_error',\n",
    "                                    verbose    = False\n",
    "                                )"
   ]
  },
  {
   "cell_type": "code",
   "execution_count": 28,
   "metadata": {},
   "outputs": [
    {
     "data": {
      "text/plain": [
       "array([[0.11337407]])"
      ]
     },
     "execution_count": 28,
     "metadata": {},
     "output_type": "execute_result"
    }
   ],
   "source": [
    "metric.to_numpy()"
   ]
  },
  {
   "cell_type": "code",
   "execution_count": 29,
   "metadata": {},
   "outputs": [
    {
     "data": {
      "text/plain": [
       "array([0.31478125, 0.45940314, 0.85744121, 0.67976412, 0.38085263,\n",
       "       0.56357911, 0.35567212, 0.4493073 , 0.35493806, 0.53589892,\n",
       "       0.73060039, 0.60025524])"
      ]
     },
     "execution_count": 29,
     "metadata": {},
     "output_type": "execute_result"
    }
   ],
   "source": [
    "backtest_predictions.to_numpy().flatten()"
   ]
  },
  {
   "cell_type": "code",
   "execution_count": null,
   "metadata": {},
   "outputs": [],
   "source": []
  },
  {
   "cell_type": "code",
   "execution_count": 9,
   "metadata": {},
   "outputs": [
    {
     "data": {
      "text/plain": [
       "{'lags': [array([1, 2, 3, 4]),\n",
       "  array([1, 2]),\n",
       "  array([1, 2, 3, 4]),\n",
       "  array([1, 2]),\n",
       "  array([1, 2, 3, 4]),\n",
       "  array([1, 2])],\n",
       " 'lags_label': [array([1, 2, 3, 4]),\n",
       "  array([1, 2]),\n",
       "  array([1, 2, 3, 4]),\n",
       "  array([1, 2]),\n",
       "  array([1, 2, 3, 4]),\n",
       "  array([1, 2])],\n",
       " 'params': [{'alpha': 1},\n",
       "  {'alpha': 1},\n",
       "  {'alpha': 0.1},\n",
       "  {'alpha': 0.1},\n",
       "  {'alpha': 0.01},\n",
       "  {'alpha': 0.01}],\n",
       " 'mean_squared_error': [0.07424336814199613,\n",
       "  0.07576112822191301,\n",
       "  0.07677225532446876,\n",
       "  0.08046370393440734,\n",
       "  0.08411584414110274,\n",
       "  0.08911485459058603],\n",
       " 'alpha': [1.0, 1.0, 0.1, 0.1, 0.01, 0.01]}"
      ]
     },
     "execution_count": 9,
     "metadata": {},
     "output_type": "execute_result"
    }
   ],
   "source": [
    "results.to_dict(orient='list')"
   ]
  },
  {
   "cell_type": "code",
   "execution_count": 30,
   "metadata": {},
   "outputs": [],
   "source": [
    "import numpy as np\n",
    "import pandas as pd\n",
    "from skforecast.sarimax import Sarimax\n",
    "from skforecast.recursive import ForecasterSarimax\n",
    "from skforecast.model_selection._split import TimeSeriesFold\n",
    "from skforecast.model_selection._search import random_search_sarimax\n",
    "\n",
    "# Fixtures\n",
    "from skforecast.recursive.tests.tests_forecaster_sarimax.fixtures_forecaster_sarimax import y_datetime\n"
   ]
  },
  {
   "cell_type": "code",
   "execution_count": 32,
   "metadata": {},
   "outputs": [
    {
     "name": "stdout",
     "output_type": "stream",
     "text": [
      "Number of models compared: 2.\n"
     ]
    },
    {
     "data": {
      "application/vnd.jupyter.widget-view+json": {
       "model_id": "3bd63a10f1014ceeb76756bb4205b94a",
       "version_major": 2,
       "version_minor": 0
      },
      "text/plain": [
       "params grid:   0%|          | 0/2 [00:00<?, ?it/s]"
      ]
     },
     "metadata": {},
     "output_type": "display_data"
    },
    {
     "ename": "TypeError",
     "evalue": "`cv` must be a TimeSeriesFold object. Got OneStepAheadFold.",
     "output_type": "error",
     "traceback": [
      "\u001b[1;31m---------------------------------------------------------------------------\u001b[0m",
      "\u001b[1;31mTypeError\u001b[0m                                 Traceback (most recent call last)",
      "Cell \u001b[1;32mIn[32], line 20\u001b[0m\n\u001b[0;32m     13\u001b[0m cv \u001b[38;5;241m=\u001b[39m OneStepAheadFold(\n\u001b[0;32m     14\u001b[0m             initial_train_size    \u001b[38;5;241m=\u001b[39m \u001b[38;5;28mlen\u001b[39m(y_datetime) \u001b[38;5;241m-\u001b[39m \u001b[38;5;241m12\u001b[39m,\n\u001b[0;32m     15\u001b[0m             return_all_indexes    \u001b[38;5;241m=\u001b[39m \u001b[38;5;28;01mFalse\u001b[39;00m,\n\u001b[0;32m     16\u001b[0m         )\n\u001b[0;32m     18\u001b[0m param_distributions \u001b[38;5;241m=\u001b[39m {\u001b[38;5;124m'\u001b[39m\u001b[38;5;124morder\u001b[39m\u001b[38;5;124m'\u001b[39m: [(\u001b[38;5;241m2\u001b[39m, \u001b[38;5;241m2\u001b[39m, \u001b[38;5;241m0\u001b[39m), (\u001b[38;5;241m3\u001b[39m, \u001b[38;5;241m2\u001b[39m, \u001b[38;5;241m0\u001b[39m)]}\n\u001b[1;32m---> 20\u001b[0m results \u001b[38;5;241m=\u001b[39m \u001b[43mrandom_search_sarimax\u001b[49m\u001b[43m(\u001b[49m\n\u001b[0;32m     21\u001b[0m \u001b[43m                \u001b[49m\u001b[43mforecaster\u001b[49m\u001b[43m          \u001b[49m\u001b[38;5;241;43m=\u001b[39;49m\u001b[43m \u001b[49m\u001b[43mforecaster\u001b[49m\u001b[43m,\u001b[49m\n\u001b[0;32m     22\u001b[0m \u001b[43m                \u001b[49m\u001b[43my\u001b[49m\u001b[43m                   \u001b[49m\u001b[38;5;241;43m=\u001b[39;49m\u001b[43m \u001b[49m\u001b[43my_datetime\u001b[49m\u001b[43m,\u001b[49m\n\u001b[0;32m     23\u001b[0m \u001b[43m                \u001b[49m\u001b[43mcv\u001b[49m\u001b[43m                  \u001b[49m\u001b[38;5;241;43m=\u001b[39;49m\u001b[43m \u001b[49m\u001b[43mcv\u001b[49m\u001b[43m,\u001b[49m\n\u001b[0;32m     24\u001b[0m \u001b[43m                \u001b[49m\u001b[43mparam_distributions\u001b[49m\u001b[43m \u001b[49m\u001b[38;5;241;43m=\u001b[39;49m\u001b[43m \u001b[49m\u001b[43mparam_distributions\u001b[49m\u001b[43m,\u001b[49m\n\u001b[0;32m     25\u001b[0m \u001b[43m                \u001b[49m\u001b[43mmetric\u001b[49m\u001b[43m              \u001b[49m\u001b[38;5;241;43m=\u001b[39;49m\u001b[43m \u001b[49m\u001b[38;5;124;43m'\u001b[39;49m\u001b[38;5;124;43mmean_absolute_error\u001b[39;49m\u001b[38;5;124;43m'\u001b[39;49m\u001b[43m,\u001b[49m\n\u001b[0;32m     26\u001b[0m \u001b[43m                \u001b[49m\u001b[43mn_iter\u001b[49m\u001b[43m              \u001b[49m\u001b[38;5;241;43m=\u001b[39;49m\u001b[43m \u001b[49m\u001b[38;5;241;43m2\u001b[39;49m\u001b[43m,\u001b[49m\n\u001b[0;32m     27\u001b[0m \u001b[43m                \u001b[49m\u001b[43mrandom_state\u001b[49m\u001b[43m        \u001b[49m\u001b[38;5;241;43m=\u001b[39;49m\u001b[43m \u001b[49m\u001b[38;5;241;43m123\u001b[39;49m\u001b[43m,\u001b[49m\n\u001b[0;32m     28\u001b[0m \u001b[43m                \u001b[49m\u001b[43mreturn_best\u001b[49m\u001b[43m         \u001b[49m\u001b[38;5;241;43m=\u001b[39;49m\u001b[43m \u001b[49m\u001b[38;5;28;43;01mFalse\u001b[39;49;00m\u001b[43m,\u001b[49m\n\u001b[0;32m     29\u001b[0m \u001b[43m                \u001b[49m\u001b[43mverbose\u001b[49m\u001b[43m             \u001b[49m\u001b[38;5;241;43m=\u001b[39;49m\u001b[43m \u001b[49m\u001b[38;5;28;43;01mFalse\u001b[39;49;00m\n\u001b[0;32m     30\u001b[0m \u001b[43m            \u001b[49m\u001b[43m)\u001b[49m\n",
      "File \u001b[1;32mc:\\Users\\jaesc2\\GitHub\\skforecast\\skforecast\\model_selection\\_search.py:2280\u001b[0m, in \u001b[0;36mrandom_search_sarimax\u001b[1;34m(forecaster, y, cv, param_distributions, metric, exog, n_iter, random_state, return_best, n_jobs, verbose, suppress_warnings_fit, show_progress, output_file)\u001b[0m\n\u001b[0;32m   2215\u001b[0m \u001b[38;5;250m\u001b[39m\u001b[38;5;124;03m\"\"\"\u001b[39;00m\n\u001b[0;32m   2216\u001b[0m \u001b[38;5;124;03mRandom search over specified parameter values or distributions for a Forecaster \u001b[39;00m\n\u001b[0;32m   2217\u001b[0m \u001b[38;5;124;03mobject. Validation is done using time series backtesting.\u001b[39;00m\n\u001b[1;32m   (...)\u001b[0m\n\u001b[0;32m   2275\u001b[0m \u001b[38;5;124;03m\u001b[39;00m\n\u001b[0;32m   2276\u001b[0m \u001b[38;5;124;03m\"\"\"\u001b[39;00m\n\u001b[0;32m   2278\u001b[0m param_grid \u001b[38;5;241m=\u001b[39m \u001b[38;5;28mlist\u001b[39m(ParameterSampler(param_distributions, n_iter\u001b[38;5;241m=\u001b[39mn_iter, random_state\u001b[38;5;241m=\u001b[39mrandom_state))\n\u001b[1;32m-> 2280\u001b[0m results \u001b[38;5;241m=\u001b[39m \u001b[43m_evaluate_grid_hyperparameters_sarimax\u001b[49m\u001b[43m(\u001b[49m\n\u001b[0;32m   2281\u001b[0m \u001b[43m    \u001b[49m\u001b[43mforecaster\u001b[49m\u001b[43m            \u001b[49m\u001b[38;5;241;43m=\u001b[39;49m\u001b[43m \u001b[49m\u001b[43mforecaster\u001b[49m\u001b[43m,\u001b[49m\n\u001b[0;32m   2282\u001b[0m \u001b[43m    \u001b[49m\u001b[43my\u001b[49m\u001b[43m                     \u001b[49m\u001b[38;5;241;43m=\u001b[39;49m\u001b[43m \u001b[49m\u001b[43my\u001b[49m\u001b[43m,\u001b[49m\n\u001b[0;32m   2283\u001b[0m \u001b[43m    \u001b[49m\u001b[43mcv\u001b[49m\u001b[43m                    \u001b[49m\u001b[38;5;241;43m=\u001b[39;49m\u001b[43m \u001b[49m\u001b[43mcv\u001b[49m\u001b[43m,\u001b[49m\n\u001b[0;32m   2284\u001b[0m \u001b[43m    \u001b[49m\u001b[43mparam_grid\u001b[49m\u001b[43m            \u001b[49m\u001b[38;5;241;43m=\u001b[39;49m\u001b[43m \u001b[49m\u001b[43mparam_grid\u001b[49m\u001b[43m,\u001b[49m\n\u001b[0;32m   2285\u001b[0m \u001b[43m    \u001b[49m\u001b[43mmetric\u001b[49m\u001b[43m                \u001b[49m\u001b[38;5;241;43m=\u001b[39;49m\u001b[43m \u001b[49m\u001b[43mmetric\u001b[49m\u001b[43m,\u001b[49m\n\u001b[0;32m   2286\u001b[0m \u001b[43m    \u001b[49m\u001b[43mexog\u001b[49m\u001b[43m                  \u001b[49m\u001b[38;5;241;43m=\u001b[39;49m\u001b[43m \u001b[49m\u001b[43mexog\u001b[49m\u001b[43m,\u001b[49m\n\u001b[0;32m   2287\u001b[0m \u001b[43m    \u001b[49m\u001b[43mreturn_best\u001b[49m\u001b[43m           \u001b[49m\u001b[38;5;241;43m=\u001b[39;49m\u001b[43m \u001b[49m\u001b[43mreturn_best\u001b[49m\u001b[43m,\u001b[49m\n\u001b[0;32m   2288\u001b[0m \u001b[43m    \u001b[49m\u001b[43mn_jobs\u001b[49m\u001b[43m                \u001b[49m\u001b[38;5;241;43m=\u001b[39;49m\u001b[43m \u001b[49m\u001b[43mn_jobs\u001b[49m\u001b[43m,\u001b[49m\n\u001b[0;32m   2289\u001b[0m \u001b[43m    \u001b[49m\u001b[43mverbose\u001b[49m\u001b[43m               \u001b[49m\u001b[38;5;241;43m=\u001b[39;49m\u001b[43m \u001b[49m\u001b[43mverbose\u001b[49m\u001b[43m,\u001b[49m\n\u001b[0;32m   2290\u001b[0m \u001b[43m    \u001b[49m\u001b[43msuppress_warnings_fit\u001b[49m\u001b[43m \u001b[49m\u001b[38;5;241;43m=\u001b[39;49m\u001b[43m \u001b[49m\u001b[43msuppress_warnings_fit\u001b[49m\u001b[43m,\u001b[49m\n\u001b[0;32m   2291\u001b[0m \u001b[43m    \u001b[49m\u001b[43mshow_progress\u001b[49m\u001b[43m         \u001b[49m\u001b[38;5;241;43m=\u001b[39;49m\u001b[43m \u001b[49m\u001b[43mshow_progress\u001b[49m\u001b[43m,\u001b[49m\n\u001b[0;32m   2292\u001b[0m \u001b[43m    \u001b[49m\u001b[43moutput_file\u001b[49m\u001b[43m           \u001b[49m\u001b[38;5;241;43m=\u001b[39;49m\u001b[43m \u001b[49m\u001b[43moutput_file\u001b[49m\n\u001b[0;32m   2293\u001b[0m \u001b[43m\u001b[49m\u001b[43m)\u001b[49m\n\u001b[0;32m   2295\u001b[0m \u001b[38;5;28;01mreturn\u001b[39;00m results\n",
      "File \u001b[1;32mc:\\Users\\jaesc2\\GitHub\\skforecast\\skforecast\\model_selection\\_search.py:2397\u001b[0m, in \u001b[0;36m_evaluate_grid_hyperparameters_sarimax\u001b[1;34m(forecaster, y, cv, param_grid, metric, exog, return_best, n_jobs, verbose, suppress_warnings_fit, show_progress, output_file)\u001b[0m\n\u001b[0;32m   2394\u001b[0m \u001b[38;5;28;01mfor\u001b[39;00m params \u001b[38;5;129;01min\u001b[39;00m param_grid:\n\u001b[0;32m   2396\u001b[0m     forecaster\u001b[38;5;241m.\u001b[39mset_params(params)\n\u001b[1;32m-> 2397\u001b[0m     metric_values \u001b[38;5;241m=\u001b[39m \u001b[43mbacktesting_sarimax\u001b[49m\u001b[43m(\u001b[49m\n\u001b[0;32m   2398\u001b[0m \u001b[43m                        \u001b[49m\u001b[43mforecaster\u001b[49m\u001b[43m            \u001b[49m\u001b[38;5;241;43m=\u001b[39;49m\u001b[43m \u001b[49m\u001b[43mforecaster\u001b[49m\u001b[43m,\u001b[49m\n\u001b[0;32m   2399\u001b[0m \u001b[43m                        \u001b[49m\u001b[43my\u001b[49m\u001b[43m                     \u001b[49m\u001b[38;5;241;43m=\u001b[39;49m\u001b[43m \u001b[49m\u001b[43my\u001b[49m\u001b[43m,\u001b[49m\n\u001b[0;32m   2400\u001b[0m \u001b[43m                        \u001b[49m\u001b[43mcv\u001b[49m\u001b[43m                    \u001b[49m\u001b[38;5;241;43m=\u001b[39;49m\u001b[43m \u001b[49m\u001b[43mcv\u001b[49m\u001b[43m,\u001b[49m\n\u001b[0;32m   2401\u001b[0m \u001b[43m                        \u001b[49m\u001b[43mmetric\u001b[49m\u001b[43m                \u001b[49m\u001b[38;5;241;43m=\u001b[39;49m\u001b[43m \u001b[49m\u001b[43mmetric\u001b[49m\u001b[43m,\u001b[49m\n\u001b[0;32m   2402\u001b[0m \u001b[43m                        \u001b[49m\u001b[43mexog\u001b[49m\u001b[43m                  \u001b[49m\u001b[38;5;241;43m=\u001b[39;49m\u001b[43m \u001b[49m\u001b[43mexog\u001b[49m\u001b[43m,\u001b[49m\n\u001b[0;32m   2403\u001b[0m \u001b[43m                        \u001b[49m\u001b[43malpha\u001b[49m\u001b[43m                 \u001b[49m\u001b[38;5;241;43m=\u001b[39;49m\u001b[43m \u001b[49m\u001b[38;5;28;43;01mNone\u001b[39;49;00m\u001b[43m,\u001b[49m\n\u001b[0;32m   2404\u001b[0m \u001b[43m                        \u001b[49m\u001b[43minterval\u001b[49m\u001b[43m              \u001b[49m\u001b[38;5;241;43m=\u001b[39;49m\u001b[43m \u001b[49m\u001b[38;5;28;43;01mNone\u001b[39;49;00m\u001b[43m,\u001b[49m\n\u001b[0;32m   2405\u001b[0m \u001b[43m                        \u001b[49m\u001b[43mn_jobs\u001b[49m\u001b[43m                \u001b[49m\u001b[38;5;241;43m=\u001b[39;49m\u001b[43m \u001b[49m\u001b[43mn_jobs\u001b[49m\u001b[43m,\u001b[49m\n\u001b[0;32m   2406\u001b[0m \u001b[43m                        \u001b[49m\u001b[43mverbose\u001b[49m\u001b[43m               \u001b[49m\u001b[38;5;241;43m=\u001b[39;49m\u001b[43m \u001b[49m\u001b[43mverbose\u001b[49m\u001b[43m,\u001b[49m\n\u001b[0;32m   2407\u001b[0m \u001b[43m                        \u001b[49m\u001b[43msuppress_warnings_fit\u001b[49m\u001b[43m \u001b[49m\u001b[38;5;241;43m=\u001b[39;49m\u001b[43m \u001b[49m\u001b[43msuppress_warnings_fit\u001b[49m\u001b[43m,\u001b[49m\n\u001b[0;32m   2408\u001b[0m \u001b[43m                        \u001b[49m\u001b[43mshow_progress\u001b[49m\u001b[43m         \u001b[49m\u001b[38;5;241;43m=\u001b[39;49m\u001b[43m \u001b[49m\u001b[38;5;28;43;01mFalse\u001b[39;49;00m\n\u001b[0;32m   2409\u001b[0m \u001b[43m                    \u001b[49m\u001b[43m)\u001b[49m[\u001b[38;5;241m0\u001b[39m]\n\u001b[0;32m   2410\u001b[0m     metric_values \u001b[38;5;241m=\u001b[39m metric_values\u001b[38;5;241m.\u001b[39miloc[\u001b[38;5;241m0\u001b[39m, :]\u001b[38;5;241m.\u001b[39mto_list()\n\u001b[0;32m   2411\u001b[0m     warnings\u001b[38;5;241m.\u001b[39mfilterwarnings(\u001b[38;5;124m'\u001b[39m\u001b[38;5;124mignore\u001b[39m\u001b[38;5;124m'\u001b[39m, category\u001b[38;5;241m=\u001b[39m\u001b[38;5;167;01mRuntimeWarning\u001b[39;00m, \n\u001b[0;32m   2412\u001b[0m                             message\u001b[38;5;241m=\u001b[39m \u001b[38;5;124m\"\u001b[39m\u001b[38;5;124mThe forecaster will be fit.*\u001b[39m\u001b[38;5;124m\"\u001b[39m)\n",
      "File \u001b[1;32mc:\\Users\\jaesc2\\GitHub\\skforecast\\skforecast\\model_selection\\_validation.py:1277\u001b[0m, in \u001b[0;36mbacktesting_sarimax\u001b[1;34m(forecaster, y, cv, metric, exog, alpha, interval, n_jobs, verbose, suppress_warnings_fit, show_progress)\u001b[0m\n\u001b[0;32m   1270\u001b[0m \u001b[38;5;28;01mif\u001b[39;00m \u001b[38;5;28mtype\u001b[39m(forecaster)\u001b[38;5;241m.\u001b[39m\u001b[38;5;18m__name__\u001b[39m \u001b[38;5;129;01mnot\u001b[39;00m \u001b[38;5;129;01min\u001b[39;00m [\u001b[38;5;124m'\u001b[39m\u001b[38;5;124mForecasterSarimax\u001b[39m\u001b[38;5;124m'\u001b[39m]:\n\u001b[0;32m   1271\u001b[0m     \u001b[38;5;28;01mraise\u001b[39;00m \u001b[38;5;167;01mTypeError\u001b[39;00m(\n\u001b[0;32m   1272\u001b[0m         (\u001b[38;5;124m\"\u001b[39m\u001b[38;5;124m`forecaster` must be of type `ForecasterSarimax`, for all other \u001b[39m\u001b[38;5;124m\"\u001b[39m\n\u001b[0;32m   1273\u001b[0m          \u001b[38;5;124m\"\u001b[39m\u001b[38;5;124mtypes of forecasters use the functions available in the other \u001b[39m\u001b[38;5;124m\"\u001b[39m\n\u001b[0;32m   1274\u001b[0m          \u001b[38;5;124m\"\u001b[39m\u001b[38;5;124m`model_selection` modules.\u001b[39m\u001b[38;5;124m\"\u001b[39m)\n\u001b[0;32m   1275\u001b[0m     )\n\u001b[1;32m-> 1277\u001b[0m \u001b[43mcheck_backtesting_input\u001b[49m\u001b[43m(\u001b[49m\n\u001b[0;32m   1278\u001b[0m \u001b[43m    \u001b[49m\u001b[43mforecaster\u001b[49m\u001b[43m            \u001b[49m\u001b[38;5;241;43m=\u001b[39;49m\u001b[43m \u001b[49m\u001b[43mforecaster\u001b[49m\u001b[43m,\u001b[49m\n\u001b[0;32m   1279\u001b[0m \u001b[43m    \u001b[49m\u001b[43mcv\u001b[49m\u001b[43m                    \u001b[49m\u001b[38;5;241;43m=\u001b[39;49m\u001b[43m \u001b[49m\u001b[43mcv\u001b[49m\u001b[43m,\u001b[49m\n\u001b[0;32m   1280\u001b[0m \u001b[43m    \u001b[49m\u001b[43my\u001b[49m\u001b[43m                     \u001b[49m\u001b[38;5;241;43m=\u001b[39;49m\u001b[43m \u001b[49m\u001b[43my\u001b[49m\u001b[43m,\u001b[49m\n\u001b[0;32m   1281\u001b[0m \u001b[43m    \u001b[49m\u001b[43mmetric\u001b[49m\u001b[43m                \u001b[49m\u001b[38;5;241;43m=\u001b[39;49m\u001b[43m \u001b[49m\u001b[43mmetric\u001b[49m\u001b[43m,\u001b[49m\n\u001b[0;32m   1282\u001b[0m \u001b[43m    \u001b[49m\u001b[43minterval\u001b[49m\u001b[43m              \u001b[49m\u001b[38;5;241;43m=\u001b[39;49m\u001b[43m \u001b[49m\u001b[43minterval\u001b[49m\u001b[43m,\u001b[49m\n\u001b[0;32m   1283\u001b[0m \u001b[43m    \u001b[49m\u001b[43malpha\u001b[49m\u001b[43m                 \u001b[49m\u001b[38;5;241;43m=\u001b[39;49m\u001b[43m \u001b[49m\u001b[43malpha\u001b[49m\u001b[43m,\u001b[49m\n\u001b[0;32m   1284\u001b[0m \u001b[43m    \u001b[49m\u001b[43mn_jobs\u001b[49m\u001b[43m                \u001b[49m\u001b[38;5;241;43m=\u001b[39;49m\u001b[43m \u001b[49m\u001b[43mn_jobs\u001b[49m\u001b[43m,\u001b[49m\n\u001b[0;32m   1285\u001b[0m \u001b[43m    \u001b[49m\u001b[43mshow_progress\u001b[49m\u001b[43m         \u001b[49m\u001b[38;5;241;43m=\u001b[39;49m\u001b[43m \u001b[49m\u001b[43mshow_progress\u001b[49m\u001b[43m,\u001b[49m\n\u001b[0;32m   1286\u001b[0m \u001b[43m    \u001b[49m\u001b[43msuppress_warnings_fit\u001b[49m\u001b[43m \u001b[49m\u001b[38;5;241;43m=\u001b[39;49m\u001b[43m \u001b[49m\u001b[43msuppress_warnings_fit\u001b[49m\n\u001b[0;32m   1287\u001b[0m \u001b[43m\u001b[49m\u001b[43m)\u001b[49m\n\u001b[0;32m   1289\u001b[0m metric_values, backtest_predictions \u001b[38;5;241m=\u001b[39m _backtesting_sarimax(\n\u001b[0;32m   1290\u001b[0m     forecaster            \u001b[38;5;241m=\u001b[39m forecaster,\n\u001b[0;32m   1291\u001b[0m     y                     \u001b[38;5;241m=\u001b[39m y,\n\u001b[1;32m   (...)\u001b[0m\n\u001b[0;32m   1300\u001b[0m     show_progress         \u001b[38;5;241m=\u001b[39m show_progress\n\u001b[0;32m   1301\u001b[0m )\n\u001b[0;32m   1303\u001b[0m \u001b[38;5;28;01mreturn\u001b[39;00m metric_values, backtest_predictions\n",
      "File \u001b[1;32mc:\\Users\\jaesc2\\GitHub\\skforecast\\skforecast\\model_selection\\_utils.py:153\u001b[0m, in \u001b[0;36mcheck_backtesting_input\u001b[1;34m(forecaster, cv, metric, add_aggregated_metric, y, series, exog, interval, alpha, n_boot, random_state, use_in_sample_residuals, use_binned_residuals, n_jobs, show_progress, suppress_warnings, suppress_warnings_fit)\u001b[0m\n\u001b[0;32m    150\u001b[0m cv_name \u001b[38;5;241m=\u001b[39m \u001b[38;5;28mtype\u001b[39m(cv)\u001b[38;5;241m.\u001b[39m\u001b[38;5;18m__name__\u001b[39m\n\u001b[0;32m    152\u001b[0m \u001b[38;5;28;01mif\u001b[39;00m cv_name \u001b[38;5;241m!=\u001b[39m \u001b[38;5;124m\"\u001b[39m\u001b[38;5;124mTimeSeriesFold\u001b[39m\u001b[38;5;124m\"\u001b[39m:\n\u001b[1;32m--> 153\u001b[0m     \u001b[38;5;28;01mraise\u001b[39;00m \u001b[38;5;167;01mTypeError\u001b[39;00m(\n\u001b[0;32m    154\u001b[0m         (\u001b[38;5;124mf\u001b[39m\u001b[38;5;124m\"\u001b[39m\u001b[38;5;124m`cv` must be a TimeSeriesFold object. Got \u001b[39m\u001b[38;5;132;01m{\u001b[39;00mcv_name\u001b[38;5;132;01m}\u001b[39;00m\u001b[38;5;124m.\u001b[39m\u001b[38;5;124m\"\u001b[39m)\n\u001b[0;32m    155\u001b[0m     )\n\u001b[0;32m    157\u001b[0m steps \u001b[38;5;241m=\u001b[39m cv\u001b[38;5;241m.\u001b[39msteps\n\u001b[0;32m    158\u001b[0m initial_train_size \u001b[38;5;241m=\u001b[39m cv\u001b[38;5;241m.\u001b[39minitial_train_size\n",
      "\u001b[1;31mTypeError\u001b[0m: `cv` must be a TimeSeriesFold object. Got OneStepAheadFold."
     ]
    }
   ],
   "source": [
    "forecaster = ForecasterSarimax(\n",
    "                     regressor = Sarimax(order=(3, 2, 0), maxiter=1000, method='cg', disp=False)\n",
    "                 )\n",
    "    \n",
    "cv = TimeSeriesFold(\n",
    "            steps                 = 3,\n",
    "            initial_train_size    = len(y_datetime) - 12,\n",
    "            refit                 = False,\n",
    "            fixed_train_size      = False,\n",
    "            gap                   = 0,\n",
    "            allow_incomplete_fold = True\n",
    "        )\n",
    "cv = OneStepAheadFold(\n",
    "            initial_train_size    = len(y_datetime) - 12,\n",
    "            return_all_indexes    = False,\n",
    "        )\n",
    "\n",
    "param_distributions = {'order': [(2, 2, 0), (3, 2, 0)]}\n",
    "\n",
    "results = random_search_sarimax(\n",
    "                forecaster          = forecaster,\n",
    "                y                   = y_datetime,\n",
    "                cv                  = cv,\n",
    "                param_distributions = param_distributions,\n",
    "                metric              = 'mean_absolute_error',\n",
    "                n_iter              = 2,\n",
    "                random_state        = 123,\n",
    "                return_best         = False,\n",
    "                verbose             = False\n",
    "            )"
   ]
  },
  {
   "cell_type": "code",
   "execution_count": 34,
   "metadata": {},
   "outputs": [],
   "source": [
    "cv = TimeSeriesFold(\n",
    "            steps                 = 3,\n",
    "            initial_train_size    = 10,\n",
    "            refit                 = False,\n",
    "            fixed_train_size      = False,\n",
    "            gap                   = 0,\n",
    "            allow_incomplete_fold = True\n",
    "        )"
   ]
  },
  {
   "cell_type": "code",
   "execution_count": 36,
   "metadata": {},
   "outputs": [],
   "source": [
    "current_params = vars(cv)\n",
    "current_params\n",
    "\n",
    "params = {'steps': 53}"
   ]
  },
  {
   "cell_type": "code",
   "execution_count": 37,
   "metadata": {},
   "outputs": [
    {
     "data": {
      "text/plain": [
       "{'cv_name': 'TimeSeriesFold',\n",
       " 'steps': 53,\n",
       " 'initial_train_size': 10,\n",
       " 'window_size': None,\n",
       " 'differentiation': None,\n",
       " 'refit': False,\n",
       " 'fixed_train_size': False,\n",
       " 'gap': 0,\n",
       " 'skip_folds': None,\n",
       " 'allow_incomplete_fold': True,\n",
       " 'return_all_indexes': False,\n",
       " 'verbose': True}"
      ]
     },
     "execution_count": 37,
     "metadata": {},
     "output_type": "execute_result"
    }
   ],
   "source": [
    "{'cv_name': type(cv).__name__, **current_params, **params}"
   ]
  },
  {
   "cell_type": "code",
   "execution_count": 51,
   "metadata": {},
   "outputs": [
    {
     "name": "stderr",
     "output_type": "stream",
     "text": [
      "c:\\Users\\jaesc2\\GitHub\\skforecast\\skforecast\\model_selection\\_split.py:791: UserWarning: Last window cannot be calculated because `window_size` is None.\n",
      "  externally_fitted = False\n"
     ]
    },
    {
     "data": {
      "text/html": [
       "<div>\n",
       "<style scoped>\n",
       "    .dataframe tbody tr th:only-of-type {\n",
       "        vertical-align: middle;\n",
       "    }\n",
       "\n",
       "    .dataframe tbody tr th {\n",
       "        vertical-align: top;\n",
       "    }\n",
       "\n",
       "    .dataframe thead th {\n",
       "        text-align: right;\n",
       "    }\n",
       "</style>\n",
       "<table border=\"1\" class=\"dataframe\">\n",
       "  <thead>\n",
       "    <tr style=\"text-align: right;\">\n",
       "      <th></th>\n",
       "      <th>fold</th>\n",
       "      <th>train_start</th>\n",
       "      <th>train_end</th>\n",
       "      <th>last_window_start</th>\n",
       "      <th>last_window_end</th>\n",
       "      <th>test_start</th>\n",
       "      <th>test_end</th>\n",
       "      <th>test_start_with_gap</th>\n",
       "      <th>test_end_with_gap</th>\n",
       "      <th>fit_forecaster</th>\n",
       "    </tr>\n",
       "  </thead>\n",
       "  <tbody>\n",
       "    <tr>\n",
       "      <th>0</th>\n",
       "      <td>0</td>\n",
       "      <td>0</td>\n",
       "      <td>70</td>\n",
       "      <td>None</td>\n",
       "      <td>None</td>\n",
       "      <td>70</td>\n",
       "      <td>80</td>\n",
       "      <td>70</td>\n",
       "      <td>80</td>\n",
       "      <td>True</td>\n",
       "    </tr>\n",
       "    <tr>\n",
       "      <th>1</th>\n",
       "      <td>1</td>\n",
       "      <td>0</td>\n",
       "      <td>70</td>\n",
       "      <td>None</td>\n",
       "      <td>None</td>\n",
       "      <td>80</td>\n",
       "      <td>90</td>\n",
       "      <td>80</td>\n",
       "      <td>90</td>\n",
       "      <td>False</td>\n",
       "    </tr>\n",
       "    <tr>\n",
       "      <th>2</th>\n",
       "      <td>2</td>\n",
       "      <td>0</td>\n",
       "      <td>70</td>\n",
       "      <td>None</td>\n",
       "      <td>None</td>\n",
       "      <td>90</td>\n",
       "      <td>100</td>\n",
       "      <td>90</td>\n",
       "      <td>100</td>\n",
       "      <td>False</td>\n",
       "    </tr>\n",
       "  </tbody>\n",
       "</table>\n",
       "</div>"
      ],
      "text/plain": [
       "   fold  train_start  train_end last_window_start last_window_end  test_start  \\\n",
       "0     0            0         70              None            None          70   \n",
       "1     1            0         70              None            None          80   \n",
       "2     2            0         70              None            None          90   \n",
       "\n",
       "   test_end  test_start_with_gap  test_end_with_gap  fit_forecaster  \n",
       "0        80                   70                 80            True  \n",
       "1        90                   80                 90           False  \n",
       "2       100                   90                100           False  "
      ]
     },
     "execution_count": 51,
     "metadata": {},
     "output_type": "execute_result"
    }
   ],
   "source": [
    "y = pd.Series(np.arange(100))\n",
    "y.index = pd.date_range(start='2022-01-01', periods=100, freq='D')\n",
    "cv = TimeSeriesFold(\n",
    "        steps                 = 10,\n",
    "        initial_train_size    = 70,\n",
    "        window_size           = None,\n",
    "        differentiation       = None,\n",
    "        refit                 = False,\n",
    "        fixed_train_size      = False,\n",
    "        gap                   = 0,\n",
    "        skip_folds            = None,\n",
    "        allow_incomplete_fold = True,\n",
    "        return_all_indexes    = False,\n",
    "        verbose               = False\n",
    "    )\n",
    "folds = cv.split(X=y, as_pandas=True)\n",
    "folds"
   ]
  },
  {
   "cell_type": "code",
   "execution_count": 60,
   "metadata": {},
   "outputs": [
    {
     "data": {
      "text/html": [
       "<div>\n",
       "<style scoped>\n",
       "    .dataframe tbody tr th:only-of-type {\n",
       "        vertical-align: middle;\n",
       "    }\n",
       "\n",
       "    .dataframe tbody tr th {\n",
       "        vertical-align: top;\n",
       "    }\n",
       "\n",
       "    .dataframe thead th {\n",
       "        text-align: right;\n",
       "    }\n",
       "</style>\n",
       "<table border=\"1\" class=\"dataframe\">\n",
       "  <thead>\n",
       "    <tr style=\"text-align: right;\">\n",
       "      <th></th>\n",
       "      <th>fold</th>\n",
       "      <th>train_start</th>\n",
       "      <th>train_end</th>\n",
       "      <th>last_window_start</th>\n",
       "      <th>last_window_end</th>\n",
       "      <th>test_start</th>\n",
       "      <th>test_end</th>\n",
       "      <th>test_start_with_gap</th>\n",
       "      <th>test_end_with_gap</th>\n",
       "      <th>fit_forecaster</th>\n",
       "    </tr>\n",
       "  </thead>\n",
       "  <tbody>\n",
       "    <tr>\n",
       "      <th>0</th>\n",
       "      <td>0</td>\n",
       "      <td>0</td>\n",
       "      <td>70</td>\n",
       "      <td>None</td>\n",
       "      <td>70</td>\n",
       "      <td>70</td>\n",
       "      <td>80</td>\n",
       "      <td>70</td>\n",
       "      <td>80</td>\n",
       "      <td>True</td>\n",
       "    </tr>\n",
       "    <tr>\n",
       "      <th>1</th>\n",
       "      <td>1</td>\n",
       "      <td>0</td>\n",
       "      <td>70</td>\n",
       "      <td>None</td>\n",
       "      <td>80</td>\n",
       "      <td>80</td>\n",
       "      <td>90</td>\n",
       "      <td>80</td>\n",
       "      <td>90</td>\n",
       "      <td>False</td>\n",
       "    </tr>\n",
       "    <tr>\n",
       "      <th>2</th>\n",
       "      <td>2</td>\n",
       "      <td>0</td>\n",
       "      <td>70</td>\n",
       "      <td>None</td>\n",
       "      <td>90</td>\n",
       "      <td>90</td>\n",
       "      <td>100</td>\n",
       "      <td>90</td>\n",
       "      <td>100</td>\n",
       "      <td>False</td>\n",
       "    </tr>\n",
       "  </tbody>\n",
       "</table>\n",
       "</div>"
      ],
      "text/plain": [
       "   fold  train_start  train_end last_window_start  last_window_end  \\\n",
       "0     0            0         70              None               70   \n",
       "1     1            0         70              None               80   \n",
       "2     2            0         70              None               90   \n",
       "\n",
       "   test_start  test_end  test_start_with_gap  test_end_with_gap  \\\n",
       "0          70        80                   70                 80   \n",
       "1          80        90                   80                 90   \n",
       "2          90       100                   90                100   \n",
       "\n",
       "   fit_forecaster  \n",
       "0            True  \n",
       "1           False  \n",
       "2           False  "
      ]
     },
     "execution_count": 60,
     "metadata": {},
     "output_type": "execute_result"
    }
   ],
   "source": [
    "expected = pd.DataFrame(\n",
    "        {'fold': [0, 1, 2],\n",
    "         'train_start': [0, 0, 0],\n",
    "         'train_end': [70, 70, 70],\n",
    "         'last_window_start': [67, 77, 87],\n",
    "         'last_window_end': [70, 80, 90],\n",
    "         'test_start': [70, 80, 90],\n",
    "         'test_end': [80, 90, 100],\n",
    "         'test_start_with_gap': [70, 80, 90],\n",
    "         'test_end_with_gap': [80, 90, 100],\n",
    "         'fit_forecaster': [True, False, False]}\n",
    "    )\n",
    "expected['last_window_start'] = [None, None, None]\n",
    "expected"
   ]
  },
  {
   "cell_type": "code",
   "execution_count": 63,
   "metadata": {},
   "outputs": [
    {
     "data": {
      "text/plain": [
       "fold                    int64\n",
       "train_start             int64\n",
       "train_end               int64\n",
       "last_window_start      object\n",
       "last_window_end         int64\n",
       "test_start              int64\n",
       "test_end                int64\n",
       "test_start_with_gap     int64\n",
       "test_end_with_gap       int64\n",
       "fit_forecaster           bool\n",
       "dtype: object"
      ]
     },
     "execution_count": 63,
     "metadata": {},
     "output_type": "execute_result"
    }
   ],
   "source": [
    "expected.dtypes"
   ]
  },
  {
   "cell_type": "code",
   "execution_count": 62,
   "metadata": {},
   "outputs": [
    {
     "data": {
      "text/plain": [
       "fold                    int64\n",
       "train_start             int64\n",
       "train_end               int64\n",
       "last_window_start      object\n",
       "last_window_end        object\n",
       "test_start              int64\n",
       "test_end                int64\n",
       "test_start_with_gap     int64\n",
       "test_end_with_gap       int64\n",
       "fit_forecaster           bool\n",
       "dtype: object"
      ]
     },
     "execution_count": 62,
     "metadata": {},
     "output_type": "execute_result"
    }
   ],
   "source": [
    "folds.dtypes"
   ]
  },
  {
   "cell_type": "code",
   "execution_count": 44,
   "metadata": {},
   "outputs": [
    {
     "data": {
      "text/plain": [
       "{'fold': [0, 1, 2],\n",
       " 'train_start': [0, 0, 0],\n",
       " 'train_end': [70, 70, 70],\n",
       " 'last_window_start': [67, 77, 87],\n",
       " 'last_window_end': [70, 80, 90],\n",
       " 'test_start': [70, 80, 90],\n",
       " 'test_end': [80, 90, 100],\n",
       " 'test_start_with_gap': [70, 80, 90],\n",
       " 'test_end_with_gap': [80, 90, 100],\n",
       " 'fit_forecaster': [True, False, False]}"
      ]
     },
     "execution_count": 44,
     "metadata": {},
     "output_type": "execute_result"
    }
   ],
   "source": [
    "folds.to_dict(orient='list')"
   ]
  },
  {
   "cell_type": "code",
   "execution_count": 56,
   "metadata": {},
   "outputs": [
    {
     "name": "stderr",
     "output_type": "stream",
     "text": [
      "c:\\Users\\jaesc2\\GitHub\\skforecast\\skforecast\\model_selection\\_split.py:791: UserWarning: Last window cannot be calculated because `window_size` is None.\n",
      "  externally_fitted = False\n"
     ]
    },
    {
     "data": {
      "text/html": [
       "<div>\n",
       "<style scoped>\n",
       "    .dataframe tbody tr th:only-of-type {\n",
       "        vertical-align: middle;\n",
       "    }\n",
       "\n",
       "    .dataframe tbody tr th {\n",
       "        vertical-align: top;\n",
       "    }\n",
       "\n",
       "    .dataframe thead th {\n",
       "        text-align: right;\n",
       "    }\n",
       "</style>\n",
       "<table border=\"1\" class=\"dataframe\">\n",
       "  <thead>\n",
       "    <tr style=\"text-align: right;\">\n",
       "      <th></th>\n",
       "      <th>fold</th>\n",
       "      <th>train_index</th>\n",
       "      <th>last_window_index</th>\n",
       "      <th>test_index</th>\n",
       "      <th>test_index_with_gap</th>\n",
       "      <th>fit_forecaster</th>\n",
       "    </tr>\n",
       "  </thead>\n",
       "  <tbody>\n",
       "    <tr>\n",
       "      <th>0</th>\n",
       "      <td>0</td>\n",
       "      <td>(0, 1, 2, 3, 4, 5, 6, 7, 8, 9, 10, 11, 12, 13,...</td>\n",
       "      <td>[None, None]</td>\n",
       "      <td>(70, 71, 72, 73, 74, 75, 76, 77, 78, 79)</td>\n",
       "      <td>(70, 71, 72, 73, 74, 75, 76, 77, 78, 79)</td>\n",
       "      <td>True</td>\n",
       "    </tr>\n",
       "    <tr>\n",
       "      <th>1</th>\n",
       "      <td>1</td>\n",
       "      <td>(0, 1, 2, 3, 4, 5, 6, 7, 8, 9, 10, 11, 12, 13,...</td>\n",
       "      <td>[None, None]</td>\n",
       "      <td>(80, 81, 82, 83, 84, 85, 86, 87, 88, 89)</td>\n",
       "      <td>(80, 81, 82, 83, 84, 85, 86, 87, 88, 89)</td>\n",
       "      <td>False</td>\n",
       "    </tr>\n",
       "    <tr>\n",
       "      <th>2</th>\n",
       "      <td>2</td>\n",
       "      <td>(0, 1, 2, 3, 4, 5, 6, 7, 8, 9, 10, 11, 12, 13,...</td>\n",
       "      <td>[None, None]</td>\n",
       "      <td>(90, 91, 92, 93, 94, 95, 96, 97, 98, 99)</td>\n",
       "      <td>(90, 91, 92, 93, 94, 95, 96, 97, 98, 99)</td>\n",
       "      <td>False</td>\n",
       "    </tr>\n",
       "  </tbody>\n",
       "</table>\n",
       "</div>"
      ],
      "text/plain": [
       "   fold                                        train_index last_window_index  \\\n",
       "0     0  (0, 1, 2, 3, 4, 5, 6, 7, 8, 9, 10, 11, 12, 13,...      [None, None]   \n",
       "1     1  (0, 1, 2, 3, 4, 5, 6, 7, 8, 9, 10, 11, 12, 13,...      [None, None]   \n",
       "2     2  (0, 1, 2, 3, 4, 5, 6, 7, 8, 9, 10, 11, 12, 13,...      [None, None]   \n",
       "\n",
       "                                 test_index  \\\n",
       "0  (70, 71, 72, 73, 74, 75, 76, 77, 78, 79)   \n",
       "1  (80, 81, 82, 83, 84, 85, 86, 87, 88, 89)   \n",
       "2  (90, 91, 92, 93, 94, 95, 96, 97, 98, 99)   \n",
       "\n",
       "                        test_index_with_gap  fit_forecaster  \n",
       "0  (70, 71, 72, 73, 74, 75, 76, 77, 78, 79)            True  \n",
       "1  (80, 81, 82, 83, 84, 85, 86, 87, 88, 89)           False  \n",
       "2  (90, 91, 92, 93, 94, 95, 96, 97, 98, 99)           False  "
      ]
     },
     "execution_count": 56,
     "metadata": {},
     "output_type": "execute_result"
    }
   ],
   "source": [
    "y = pd.Series(np.arange(100))\n",
    "y.index = pd.date_range(start='2022-01-01', periods=100, freq='D')\n",
    "cv = TimeSeriesFold(\n",
    "        steps                 = 10,\n",
    "        initial_train_size    = 70,\n",
    "        window_size           = None,\n",
    "        differentiation       = None,\n",
    "        refit                 = False,\n",
    "        fixed_train_size      = False,\n",
    "        gap                   = 0,\n",
    "        skip_folds            = None,\n",
    "        allow_incomplete_fold = True,\n",
    "        return_all_indexes    = True,\n",
    "        verbose               = False\n",
    "    )\n",
    "folds_2 = cv.split(X=y, as_pandas=True)\n",
    "folds_2"
   ]
  },
  {
   "cell_type": "code",
   "execution_count": 58,
   "metadata": {},
   "outputs": [
    {
     "data": {
      "text/plain": [
       "fold                    int64\n",
       "train_index            object\n",
       "last_window_index      object\n",
       "test_index             object\n",
       "test_index_with_gap    object\n",
       "fit_forecaster           bool\n",
       "dtype: object"
      ]
     },
     "execution_count": 58,
     "metadata": {},
     "output_type": "execute_result"
    }
   ],
   "source": [
    "folds_2.dtypes"
   ]
  },
  {
   "cell_type": "code",
   "execution_count": 57,
   "metadata": {},
   "outputs": [
    {
     "data": {
      "text/plain": [
       "{'fold': [0, 1, 2],\n",
       " 'train_index': [range(0, 70), range(0, 70), range(0, 70)],\n",
       " 'last_window_index': [[None, None], [None, None], [None, None]],\n",
       " 'test_index': [range(70, 80), range(80, 90), range(90, 100)],\n",
       " 'test_index_with_gap': [range(70, 80), range(80, 90), range(90, 100)],\n",
       " 'fit_forecaster': [True, False, False]}"
      ]
     },
     "execution_count": 57,
     "metadata": {},
     "output_type": "execute_result"
    }
   ],
   "source": [
    "folds_2.to_dict(orient='list')"
   ]
  },
  {
   "cell_type": "code",
   "execution_count": 64,
   "metadata": {},
   "outputs": [],
   "source": [
    "from skforecast.preprocessing import QuantileBinner"
   ]
  },
  {
   "cell_type": "code",
   "execution_count": 70,
   "metadata": {},
   "outputs": [],
   "source": [
    "X = np.arange(1000)\n",
    "binner = QuantileBinner(\n",
    "    n_bins=10,\n",
    "    method='linear',\n",
    "    subsample=10,\n",
    "    dtype=np.float64,\n",
    "    random_state=789654,\n",
    ")\n",
    "\n",
    "binner.fit(X.reshape(-1, 1))\n"
   ]
  },
  {
   "cell_type": "code",
   "execution_count": 71,
   "metadata": {},
   "outputs": [
    {
     "data": {
      "text/plain": [
       "array([ 21. , 159.6, 283.8, 388.7, 429.8, 578. , 725. , 731.6, 734.2,\n",
       "       739.4, 743. ])"
      ]
     },
     "execution_count": 71,
     "metadata": {},
     "output_type": "execute_result"
    }
   ],
   "source": [
    "binner.bin_edges_"
   ]
  },
  {
   "cell_type": "code",
   "execution_count": 72,
   "metadata": {},
   "outputs": [
    {
     "data": {
      "text/plain": [
       "10"
      ]
     },
     "execution_count": 72,
     "metadata": {},
     "output_type": "execute_result"
    }
   ],
   "source": [
    "binner.n_bins_"
   ]
  },
  {
   "cell_type": "code",
   "execution_count": 73,
   "metadata": {},
   "outputs": [
    {
     "data": {
      "text/plain": [
       "{0.0: (21.0, 159.6),\n",
       " 1.0: (159.6, 283.8),\n",
       " 2.0: (283.8, 388.7),\n",
       " 3.0: (388.7, 429.8),\n",
       " 4.0: (429.8, 578.0),\n",
       " 5.0: (578.0, 725.0),\n",
       " 6.0: (725.0, 731.6),\n",
       " 7.0: (731.6, 734.2),\n",
       " 8.0: (734.2, 739.4),\n",
       " 9.0: (739.4, 743.0)}"
      ]
     },
     "execution_count": 73,
     "metadata": {},
     "output_type": "execute_result"
    }
   ],
   "source": [
    "binner.intervals_"
   ]
  },
  {
   "cell_type": "code",
   "execution_count": 4,
   "metadata": {},
   "outputs": [],
   "source": [
    "import re\n",
    "import pytest\n",
    "from sklearn.feature_selection import RFE\n",
    "from sklearn.linear_model import LinearRegression\n",
    "from skforecast.recursive import ForecasterRecursive\n",
    "from skforecast.direct import ForecasterDirectMultiVariate\n",
    "from skforecast.feature_selection import select_features\n",
    "from skforecast.feature_selection import select_features_multiseries\n",
    "from skforecast.preprocessing import RollingFeatures\n",
    "\n",
    "# Fixtures\n",
    "from skforecast.feature_selection.tests.tests_feature_selection.fixtures_feature_selection import y_feature_selection as y\n",
    "from skforecast.feature_selection.tests.tests_feature_selection.fixtures_feature_selection import exog_feature_selection as exog\n",
    "from skforecast.feature_selection.tests.tests_feature_selection.fixtures_feature_selection import series\n",
    "from skforecast.feature_selection.tests.tests_feature_selection.fixtures_feature_selection import exog_multiseries as exog"
   ]
  },
  {
   "cell_type": "code",
   "execution_count": 5,
   "metadata": {},
   "outputs": [
    {
     "name": "stdout",
     "output_type": "stream",
     "text": [
      "{'l1': None, 'l2': array([1, 2, 3, 4, 5])}\n",
      "{'l1': None, 'l2': ['l2_lag_1', 'l2_lag_2', 'l2_lag_3', 'l2_lag_4', 'l2_lag_5']}\n",
      "5\n"
     ]
    }
   ],
   "source": [
    "roll_features = RollingFeatures(\n",
    "                        stats=['mean', 'std'],\n",
    "                        window_sizes=[3, 5],\n",
    "                    )\n",
    "forecaster = ForecasterDirectMultiVariate(\n",
    "                     regressor = LinearRegression(),\n",
    "                     level     = 'l1',\n",
    "                     steps     = 3,\n",
    "                     lags      = {'l1': [], 'l2': 5},\n",
    "                     window_features = roll_features\n",
    "                 )\n",
    "print(forecaster.lags)\n",
    "print(forecaster.lags_names)\n",
    "print(forecaster.max_lag)"
   ]
  },
  {
   "cell_type": "code",
   "execution_count": 6,
   "metadata": {},
   "outputs": [
    {
     "name": "stdout",
     "output_type": "stream",
     "text": [
      "{'l1': None, 'l2': array([1, 2, 3, 4, 5])}\n",
      "{'l1': None, 'l2': ['l2_lag_1', 'l2_lag_2', 'l2_lag_3', 'l2_lag_4', 'l2_lag_5']}\n"
     ]
    }
   ],
   "source": [
    "forecaster.fit(series=series)\n",
    "print(forecaster.lags_)\n",
    "print(forecaster.lags_names)"
   ]
  },
  {
   "cell_type": "code",
   "execution_count": 11,
   "metadata": {},
   "outputs": [
    {
     "name": "stdout",
     "output_type": "stream",
     "text": [
      "{'l1': ['l1_lag_1'], 'l2': ['l2_lag_1', 'l2_lag_4']}\n"
     ]
    }
   ],
   "source": [
    "forecaster = ForecasterDirectMultiVariate(\n",
    "                    regressor = LinearRegression(),\n",
    "                    level     = 'l1',\n",
    "                    steps     = 3,\n",
    "                    lags      = 5\n",
    "                )\n",
    "selector = RFE(estimator=forecaster.regressor, n_features_to_select=3)\n",
    "\n",
    "selected_lags, selected_window_features, selected_exog = select_features_multiseries(\n",
    "    selector    = selector,\n",
    "    forecaster  = forecaster,\n",
    "    series      = series,\n",
    "    exog        = exog,\n",
    "    select_only = 'autoreg',\n",
    "    verbose     = False,\n",
    ")"
   ]
  },
  {
   "cell_type": "code",
   "execution_count": 27,
   "metadata": {},
   "outputs": [
    {
     "data": {
      "text/plain": [
       "{'l1': [], 'l2': [1, 4, 5]}"
      ]
     },
     "execution_count": 27,
     "metadata": {},
     "output_type": "execute_result"
    }
   ],
   "source": [
    "selected_lags"
   ]
  },
  {
   "cell_type": "code",
   "execution_count": 28,
   "metadata": {},
   "outputs": [
    {
     "name": "stdout",
     "output_type": "stream",
     "text": [
      "{'l1': None, 'l2': array([1, 4, 5])}\n",
      "{'l1': None, 'l2': ['l2_lag_1', 'l2_lag_4', 'l2_lag_5']}\n",
      "5\n"
     ]
    }
   ],
   "source": [
    "forecaster = ForecasterDirectMultiVariate(\n",
    "                    regressor = LinearRegression(),\n",
    "                    level     = 'l1',\n",
    "                    steps     = 3,\n",
    "                    lags      = selected_lags\n",
    "                )\n",
    "print(forecaster.lags)\n",
    "print(forecaster.lags_names)\n",
    "print(forecaster.max_lag)"
   ]
  },
  {
   "cell_type": "code",
   "execution_count": 29,
   "metadata": {},
   "outputs": [],
   "source": [
    "import re\n",
    "import pytest\n",
    "import joblib\n",
    "import numpy as np\n",
    "import pandas as pd\n",
    "from pathlib import Path\n",
    "from sklearn.exceptions import NotFittedError\n",
    "from sklearn.compose import ColumnTransformer\n",
    "from sklearn.preprocessing import StandardScaler\n",
    "from sklearn.preprocessing import OneHotEncoder\n",
    "from sklearn.preprocessing import OrdinalEncoder\n",
    "from sklearn.compose import make_column_transformer\n",
    "from sklearn.linear_model import LinearRegression\n",
    "from sklearn.ensemble import HistGradientBoostingRegressor\n",
    "from lightgbm import LGBMRegressor\n",
    "\n",
    "from skforecast.utils import transform_numpy\n",
    "from skforecast.preprocessing import RollingFeatures\n",
    "from skforecast.recursive import ForecasterRecursiveMultiSeries\n",
    "\n",
    "# Fixtures\n",
    "from skforecast.recursive.tests.tests_forecaster_recursive_multiseries.fixtures_forecaster_recursive_multiseries import series\n",
    "from skforecast.recursive.tests.tests_forecaster_recursive_multiseries.fixtures_forecaster_recursive_multiseries import exog\n",
    "from skforecast.recursive.tests.tests_forecaster_recursive_multiseries.fixtures_forecaster_recursive_multiseries import exog_predict\n",
    "\n",
    "THIS_DIR = Path(r\"C:\\Users\\jaesc2\\GitHub\\skforecast\\skforecast\\recursive\\tests\\tests_forecaster_recursive_multiseries\")\n",
    "series_dict = joblib.load(THIS_DIR/'fixture_sample_multi_series.joblib')\n",
    "exog_dict = joblib.load(THIS_DIR/'fixture_sample_multi_series_exog.joblib')\n",
    "end_train = \"2016-07-31 23:59:00\"\n",
    "series_dict_train = {k: v.loc[:end_train,] for k, v in series_dict.items()}\n",
    "exog_dict_train = {k: v.loc[:end_train,] for k, v in exog_dict.items()}\n",
    "series_dict_test = {k: v.loc[end_train:,] for k, v in series_dict.items()}\n",
    "exog_dict_test = {k: v.loc[end_train:,] for k, v in exog_dict.items()}"
   ]
  },
  {
   "cell_type": "code",
   "execution_count": 50,
   "metadata": {},
   "outputs": [
    {
     "name": "stdout",
     "output_type": "stream",
     "text": [
      "[[1409.251091   2160.         1994.50059509 8513.00302124 8513.00302124]\n",
      " [1344.75059509 2224.00019836 1830.8717804  8622.00201416 8622.00201416]\n",
      " [1310.00039673 2334.00049591 1776.25099182 9045.00198364 9045.00198364]\n",
      " [1297.00089264 2559.00059509 1644.001091   8733.00201416 8733.00201416]\n",
      " [1103.50039673 2911.         1943.50058746 6952.         6952.        ]\n",
      " [ 871.50019836 2903.         3658.36999512 5964.         5964.        ]\n",
      " [          nan           nan           nan           nan           nan]\n",
      " [          nan           nan           nan           nan           nan]\n",
      " [          nan           nan           nan           nan           nan]\n",
      " [          nan           nan           nan           nan           nan]\n",
      " [          nan           nan           nan           nan           nan]]\n",
      "[1409.251091   1344.75059509 1310.00039673 1297.00089264 1103.50039673\n",
      "  871.50019836 2019.50909641 2272.41996969 2425.45554932 2559.55489734\n",
      " 2538.9266253 ]\n"
     ]
    },
    {
     "ename": "IndexError",
     "evalue": "too many indices for array: array is 1-dimensional, but 2 were indexed",
     "output_type": "error",
     "traceback": [
      "\u001b[1;31m---------------------------------------------------------------------------\u001b[0m",
      "\u001b[1;31mIndexError\u001b[0m                                Traceback (most recent call last)",
      "Cell \u001b[1;32mIn[50], line 26\u001b[0m\n\u001b[0;32m     21\u001b[0m last_window \u001b[38;5;241m=\u001b[39m pd\u001b[38;5;241m.\u001b[39mDataFrame(\n\u001b[0;32m     22\u001b[0m     {k: v \u001b[38;5;28;01mfor\u001b[39;00m k, v \u001b[38;5;129;01min\u001b[39;00m forecaster\u001b[38;5;241m.\u001b[39mlast_window_\u001b[38;5;241m.\u001b[39mitems() \u001b[38;5;28;01mif\u001b[39;00m k \u001b[38;5;129;01min\u001b[39;00m levels}\n\u001b[0;32m     23\u001b[0m )\n\u001b[0;32m     24\u001b[0m last_window[\u001b[38;5;124m'\u001b[39m\u001b[38;5;124mid_1005\u001b[39m\u001b[38;5;124m'\u001b[39m] \u001b[38;5;241m=\u001b[39m last_window[\u001b[38;5;124m'\u001b[39m\u001b[38;5;124mid_1004\u001b[39m\u001b[38;5;124m'\u001b[39m]\n\u001b[1;32m---> 26\u001b[0m X_predict \u001b[38;5;241m=\u001b[39m \u001b[43mforecaster\u001b[49m\u001b[38;5;241;43m.\u001b[39;49m\u001b[43mcreate_predict_X\u001b[49m\u001b[43m(\u001b[49m\n\u001b[0;32m     27\u001b[0m \u001b[43m    \u001b[49m\u001b[43msteps\u001b[49m\u001b[38;5;241;43m=\u001b[39;49m\u001b[43msteps\u001b[49m\u001b[43m,\u001b[49m\u001b[43m \u001b[49m\u001b[43mlevels\u001b[49m\u001b[38;5;241;43m=\u001b[39;49m\u001b[43mlevels\u001b[49m\u001b[43m,\u001b[49m\u001b[43m \u001b[49m\u001b[43mlast_window\u001b[49m\u001b[38;5;241;43m=\u001b[39;49m\u001b[43mlast_window\u001b[49m\u001b[43m,\u001b[49m\u001b[43m \u001b[49m\u001b[43mexog\u001b[49m\u001b[38;5;241;43m=\u001b[39;49m\u001b[43mexog_dict_test\u001b[49m\u001b[43m,\u001b[49m\n\u001b[0;32m     28\u001b[0m \u001b[43msuppress_warnings\u001b[49m\u001b[38;5;241;43m=\u001b[39;49m\u001b[38;5;28;43;01mTrue\u001b[39;49;00m\n\u001b[0;32m     29\u001b[0m \u001b[43m)\u001b[49m\n\u001b[0;32m     31\u001b[0m results \u001b[38;5;241m=\u001b[39m np\u001b[38;5;241m.\u001b[39mfull(\n\u001b[0;32m     32\u001b[0m     shape\u001b[38;5;241m=\u001b[39m(steps, \u001b[38;5;28mlen\u001b[39m(levels)), fill_value\u001b[38;5;241m=\u001b[39mnp\u001b[38;5;241m.\u001b[39mnan, order\u001b[38;5;241m=\u001b[39m\u001b[38;5;124m'\u001b[39m\u001b[38;5;124mF\u001b[39m\u001b[38;5;124m'\u001b[39m, dtype\u001b[38;5;241m=\u001b[39m\u001b[38;5;28mfloat\u001b[39m\n\u001b[0;32m     33\u001b[0m )\n\u001b[0;32m     34\u001b[0m \u001b[38;5;28;01mfor\u001b[39;00m i, level \u001b[38;5;129;01min\u001b[39;00m \u001b[38;5;28menumerate\u001b[39m(levels):\n",
      "File \u001b[1;32mc:\\Users\\jaesc2\\GitHub\\skforecast\\skforecast\\recursive\\_forecaster_recursive_multiseries.py:2047\u001b[0m, in \u001b[0;36mForecasterRecursiveMultiSeries.create_predict_X\u001b[1;34m(self, steps, levels, last_window, exog, suppress_warnings)\u001b[0m\n\u001b[0;32m   2044\u001b[0m     \u001b[38;5;28;01mfor\u001b[39;00m i \u001b[38;5;129;01min\u001b[39;00m \u001b[38;5;28mrange\u001b[39m(steps):\n\u001b[0;32m   2045\u001b[0m         \u001b[38;5;28mprint\u001b[39m(full_predictors)\n\u001b[0;32m   2046\u001b[0m         X_window_features[i, :] \u001b[38;5;241m=\u001b[39m np\u001b[38;5;241m.\u001b[39mconcatenate(\n\u001b[1;32m-> 2047\u001b[0m             [wf\u001b[38;5;241m.\u001b[39mtransform(\u001b[43mfull_predictors\u001b[49m\u001b[43m[\u001b[49m\u001b[43mi\u001b[49m\u001b[43m:\u001b[49m\u001b[38;5;241;43m-\u001b[39;49m\u001b[43m(\u001b[49m\u001b[43msteps\u001b[49m\u001b[43m \u001b[49m\u001b[38;5;241;43m-\u001b[39;49m\u001b[43m \u001b[49m\u001b[43mi\u001b[49m\u001b[43m)\u001b[49m\u001b[43m,\u001b[49m\u001b[43m \u001b[49m\u001b[43m:\u001b[49m\u001b[43m]\u001b[49m) \n\u001b[0;32m   2048\u001b[0m              \u001b[38;5;28;01mfor\u001b[39;00m wf \u001b[38;5;129;01min\u001b[39;00m \u001b[38;5;28mself\u001b[39m\u001b[38;5;241m.\u001b[39mwindow_features]\n\u001b[0;32m   2049\u001b[0m         )\n\u001b[0;32m   2050\u001b[0m     X_predict_level\u001b[38;5;241m.\u001b[39mappend(X_window_features)\n\u001b[0;32m   2052\u001b[0m \u001b[38;5;28;01mif\u001b[39;00m \u001b[38;5;28mself\u001b[39m\u001b[38;5;241m.\u001b[39mencoding \u001b[38;5;129;01mis\u001b[39;00m \u001b[38;5;129;01mnot\u001b[39;00m \u001b[38;5;28;01mNone\u001b[39;00m:\n",
      "\u001b[1;31mIndexError\u001b[0m: too many indices for array: array is 1-dimensional, but 2 were indexed"
     ]
    }
   ],
   "source": [
    "rolling = RollingFeatures(stats=['mean', 'median'], window_sizes=[5, 5])\n",
    "rolling_2 = RollingFeatures(stats='sum', window_sizes=[6])\n",
    "\n",
    "forecaster = ForecasterRecursiveMultiSeries(\n",
    "    regressor          = LGBMRegressor(\n",
    "        n_estimators=10, random_state=123, verbose=-1, max_depth=5\n",
    "    ),\n",
    "    lags               = [1, 5],\n",
    "    window_features    = [rolling, rolling_2],\n",
    "    encoding           = 'ordinal',\n",
    "    dropna_from_series = False,\n",
    "    # transformer_series = StandardScaler(),\n",
    "    # transformer_exog   = StandardScaler(),\n",
    "    differentiation    = None\n",
    ")\n",
    "forecaster.fit(\n",
    "    series=series_dict_train, exog=exog_dict_train, suppress_warnings=True\n",
    ")\n",
    "steps = 5\n",
    "levels = ['id_1000', 'id_1001', 'id_1003', 'id_1004', 'id_1005']\n",
    "last_window = pd.DataFrame(\n",
    "    {k: v for k, v in forecaster.last_window_.items() if k in levels}\n",
    ")\n",
    "last_window['id_1005'] = last_window['id_1004']\n",
    "\n",
    "X_predict = forecaster.create_predict_X(\n",
    "    steps=steps, levels=levels, last_window=last_window, exog=exog_dict_test,\n",
    "suppress_warnings=True\n",
    ")\n",
    "\n",
    "results = np.full(\n",
    "    shape=(steps, len(levels)), fill_value=np.nan, order='F', dtype=float\n",
    ")\n",
    "for i, level in enumerate(levels):\n",
    "    results[:, i] = transform_numpy(\n",
    "        array             = forecaster.regressor.predict(X_predict[level]),\n",
    "        transformer       = forecaster.transformer_series_.get(level, forecaster.transformer_series_['_unknown_level']),\n",
    "        fit               = False,\n",
    "        inverse_transform = True\n",
    "    )\n",
    "\n",
    "expected = forecaster.predict(\n",
    "    steps=steps, levels=levels, last_window=last_window, exog=exog_dict_test,\n",
    "    suppress_warnings=True\n",
    ")"
   ]
  },
  {
   "cell_type": "code",
   "execution_count": 57,
   "metadata": {},
   "outputs": [
    {
     "name": "stdout",
     "output_type": "stream",
     "text": [
      "[[1409.251091   2160.         1994.50059509 8513.00302124 8513.00302124]\n",
      " [1344.75059509 2224.00019836 1830.8717804  8622.00201416 8622.00201416]\n",
      " [1310.00039673 2334.00049591 1776.25099182 9045.00198364 9045.00198364]\n",
      " [1297.00089264 2559.00059509 1644.001091   8733.00201416 8733.00201416]\n",
      " [1103.50039673 2911.         1943.50058746 6952.         6952.        ]\n",
      " [ 871.50019836 2903.         3658.36999512 5964.         5964.        ]]\n",
      "[[ 1185.35049591  1297.00089264  7336.00357056]\n",
      " [ 2586.20025787  2559.00059509 15091.00128937]\n",
      " [ 2170.59888916  1830.8717804  12847.49504089]\n",
      " [ 7863.20120239  8622.00201416 47829.0090332 ]\n",
      " [ 7863.20120239  8622.00201416 47829.0090332 ]]\n",
      "creeate_X 1 [1409.251091   1344.75059509 1310.00039673 1297.00089264 1103.50039673\n",
      "  871.50019836]\n",
      "creeate_X 2 [1185.35049591 1297.00089264 7336.00357056]\n",
      "creeate_X 1 [2160.         2224.00019836 2334.00049591 2559.00059509 2911.\n",
      " 2903.        ]\n",
      "creeate_X 2 [ 2586.20025787  2559.00059509 15091.00128937]\n",
      "creeate_X 1 [1994.50059509 1830.8717804  1776.25099182 1644.001091   1943.50058746\n",
      " 3658.36999512]\n",
      "creeate_X 2 [ 2170.59888916  1830.8717804  12847.49504089]\n",
      "creeate_X 1 [8513.00302124 8622.00201416 9045.00198364 8733.00201416 6952.\n",
      " 5964.        ]\n",
      "creeate_X 2 [ 7863.20120239  8622.00201416 47829.0090332 ]\n",
      "creeate_X 1 [8513.00302124 8622.00201416 9045.00198364 8733.00201416 6952.\n",
      " 5964.        ]\n",
      "creeate_X 2 [ 7863.20120239  8622.00201416 47829.0090332 ]\n"
     ]
    }
   ],
   "source": [
    "X_predict = forecaster.create_predict_X(\n",
    "    steps=steps, levels=levels, last_window=last_window, exog=exog_dict_test,\n",
    "suppress_warnings=True\n",
    ")"
   ]
  },
  {
   "cell_type": "code",
   "execution_count": 53,
   "metadata": {},
   "outputs": [
    {
     "name": "stdout",
     "output_type": "stream",
     "text": [
      "[[1409.251091   2160.         1994.50059509 8513.00302124 8513.00302124]\n",
      " [1344.75059509 2224.00019836 1830.8717804  8622.00201416 8622.00201416]\n",
      " [1310.00039673 2334.00049591 1776.25099182 9045.00198364 9045.00198364]\n",
      " [1297.00089264 2559.00059509 1644.001091   8733.00201416 8733.00201416]\n",
      " [1103.50039673 2911.         1943.50058746 6952.         6952.        ]\n",
      " [ 871.50019836 2903.         3658.36999512 5964.         5964.        ]\n",
      " [          nan           nan           nan           nan           nan]\n",
      " [          nan           nan           nan           nan           nan]\n",
      " [          nan           nan           nan           nan           nan]\n",
      " [          nan           nan           nan           nan           nan]\n",
      " [          nan           nan           nan           nan           nan]]\n"
     ]
    }
   ],
   "source": [
    "expected = forecaster.predict(\n",
    "    steps=steps, levels=levels, last_window=last_window, exog=exog_dict_test,\n",
    "    suppress_warnings=True\n",
    ")"
   ]
  },
  {
   "cell_type": "code",
   "execution_count": 41,
   "metadata": {},
   "outputs": [
    {
     "data": {
      "text/html": [
       "<div>\n",
       "<style scoped>\n",
       "    .dataframe tbody tr th:only-of-type {\n",
       "        vertical-align: middle;\n",
       "    }\n",
       "\n",
       "    .dataframe tbody tr th {\n",
       "        vertical-align: top;\n",
       "    }\n",
       "\n",
       "    .dataframe thead th {\n",
       "        text-align: right;\n",
       "    }\n",
       "</style>\n",
       "<table border=\"1\" class=\"dataframe\">\n",
       "  <thead>\n",
       "    <tr style=\"text-align: right;\">\n",
       "      <th></th>\n",
       "      <th>id_1000</th>\n",
       "      <th>id_1001</th>\n",
       "      <th>id_1003</th>\n",
       "      <th>id_1004</th>\n",
       "      <th>id_1005</th>\n",
       "    </tr>\n",
       "  </thead>\n",
       "  <tbody>\n",
       "    <tr>\n",
       "      <th>2016-08-01</th>\n",
       "      <td>2019.509096</td>\n",
       "      <td>2657.804323</td>\n",
       "      <td>2699.058820</td>\n",
       "      <td>5472.602561</td>\n",
       "      <td>4777.114168</td>\n",
       "    </tr>\n",
       "    <tr>\n",
       "      <th>2016-08-02</th>\n",
       "      <td>2272.419970</td>\n",
       "      <td>2760.205171</td>\n",
       "      <td>2624.827488</td>\n",
       "      <td>5312.776507</td>\n",
       "      <td>4524.994971</td>\n",
       "    </tr>\n",
       "    <tr>\n",
       "      <th>2016-08-03</th>\n",
       "      <td>2425.455549</td>\n",
       "      <td>2718.031169</td>\n",
       "      <td>2569.964632</td>\n",
       "      <td>5312.776507</td>\n",
       "      <td>4524.994971</td>\n",
       "    </tr>\n",
       "    <tr>\n",
       "      <th>2016-08-04</th>\n",
       "      <td>2559.554897</td>\n",
       "      <td>3386.623523</td>\n",
       "      <td>2760.647885</td>\n",
       "      <td>5003.433006</td>\n",
       "      <td>3807.926740</td>\n",
       "    </tr>\n",
       "    <tr>\n",
       "      <th>2016-08-05</th>\n",
       "      <td>2538.926625</td>\n",
       "      <td>3886.054469</td>\n",
       "      <td>3457.976660</td>\n",
       "      <td>4585.550954</td>\n",
       "      <td>3594.938154</td>\n",
       "    </tr>\n",
       "  </tbody>\n",
       "</table>\n",
       "</div>"
      ],
      "text/plain": [
       "                id_1000      id_1001      id_1003      id_1004      id_1005\n",
       "2016-08-01  2019.509096  2657.804323  2699.058820  5472.602561  4777.114168\n",
       "2016-08-02  2272.419970  2760.205171  2624.827488  5312.776507  4524.994971\n",
       "2016-08-03  2425.455549  2718.031169  2569.964632  5312.776507  4524.994971\n",
       "2016-08-04  2559.554897  3386.623523  2760.647885  5003.433006  3807.926740\n",
       "2016-08-05  2538.926625  3886.054469  3457.976660  4585.550954  3594.938154"
      ]
     },
     "execution_count": 41,
     "metadata": {},
     "output_type": "execute_result"
    }
   ],
   "source": [
    "expected"
   ]
  },
  {
   "cell_type": "code",
   "execution_count": 71,
   "metadata": {},
   "outputs": [
    {
     "data": {
      "text/html": [
       "<div>\n",
       "<style scoped>\n",
       "    .dataframe tbody tr th:only-of-type {\n",
       "        vertical-align: middle;\n",
       "    }\n",
       "\n",
       "    .dataframe tbody tr th {\n",
       "        vertical-align: top;\n",
       "    }\n",
       "\n",
       "    .dataframe thead th {\n",
       "        text-align: right;\n",
       "    }\n",
       "</style>\n",
       "<table border=\"1\" class=\"dataframe\">\n",
       "  <thead>\n",
       "    <tr style=\"text-align: right;\">\n",
       "      <th></th>\n",
       "      <th>exog_1_step_1</th>\n",
       "      <th>exog_2_step_1</th>\n",
       "      <th>exog_1_step_2</th>\n",
       "      <th>exog_2_step_2</th>\n",
       "      <th>exog_1_step_3</th>\n",
       "      <th>exog_2_step_3</th>\n",
       "      <th>exog_1_step_4</th>\n",
       "      <th>exog_2_step_4</th>\n",
       "    </tr>\n",
       "  </thead>\n",
       "  <tbody>\n",
       "    <tr>\n",
       "      <th>8</th>\n",
       "      <td>105.0</td>\n",
       "      <td>1005.0</td>\n",
       "      <td>106.0</td>\n",
       "      <td>1006.0</td>\n",
       "      <td>107.0</td>\n",
       "      <td>1007.0</td>\n",
       "      <td>108.0</td>\n",
       "      <td>1008.0</td>\n",
       "    </tr>\n",
       "    <tr>\n",
       "      <th>9</th>\n",
       "      <td>106.0</td>\n",
       "      <td>1006.0</td>\n",
       "      <td>107.0</td>\n",
       "      <td>1007.0</td>\n",
       "      <td>108.0</td>\n",
       "      <td>1008.0</td>\n",
       "      <td>109.0</td>\n",
       "      <td>1009.0</td>\n",
       "    </tr>\n",
       "  </tbody>\n",
       "</table>\n",
       "</div>"
      ],
      "text/plain": [
       "   exog_1_step_1  exog_2_step_1  exog_1_step_2  exog_2_step_2  exog_1_step_3  \\\n",
       "8          105.0         1005.0          106.0         1006.0          107.0   \n",
       "9          106.0         1006.0          107.0         1007.0          108.0   \n",
       "\n",
       "   exog_2_step_3  exog_1_step_4  exog_2_step_4  \n",
       "8         1007.0          108.0         1008.0  \n",
       "9         1008.0          109.0         1009.0  "
      ]
     },
     "execution_count": 71,
     "metadata": {},
     "output_type": "execute_result"
    }
   ],
   "source": [
    "from skforecast.utils import exog_to_direct\n",
    "\n",
    "exog = pd.DataFrame({'exog_1': np.arange(100, 110, dtype=float),\n",
    "                    'exog_2': np.arange(1000, 1010, dtype=float)})\n",
    "\n",
    "exog = exog.iloc[5:,]\n",
    "exog_to_direct(exog, steps=4)[0]"
   ]
  },
  {
   "cell_type": "code",
   "execution_count": 65,
   "metadata": {},
   "outputs": [
    {
     "name": "stdout",
     "output_type": "stream",
     "text": [
      "[7 8 9]\n"
     ]
    },
    {
     "data": {
      "text/html": [
       "<div>\n",
       "<style scoped>\n",
       "    .dataframe tbody tr th:only-of-type {\n",
       "        vertical-align: middle;\n",
       "    }\n",
       "\n",
       "    .dataframe tbody tr th {\n",
       "        vertical-align: top;\n",
       "    }\n",
       "\n",
       "    .dataframe thead th {\n",
       "        text-align: right;\n",
       "    }\n",
       "</style>\n",
       "<table border=\"1\" class=\"dataframe\">\n",
       "  <thead>\n",
       "    <tr style=\"text-align: right;\">\n",
       "      <th></th>\n",
       "      <th>exog_1_step_1</th>\n",
       "      <th>exog_2_step_1</th>\n",
       "      <th>exog_1_step_2</th>\n",
       "      <th>exog_2_step_2</th>\n",
       "      <th>exog_1_step_3</th>\n",
       "      <th>exog_2_step_3</th>\n",
       "    </tr>\n",
       "  </thead>\n",
       "  <tbody>\n",
       "    <tr>\n",
       "      <th>2</th>\n",
       "      <td>105.0</td>\n",
       "      <td>1005.0</td>\n",
       "      <td>106.0</td>\n",
       "      <td>1006.0</td>\n",
       "      <td>107.0</td>\n",
       "      <td>1007.0</td>\n",
       "    </tr>\n",
       "    <tr>\n",
       "      <th>3</th>\n",
       "      <td>106.0</td>\n",
       "      <td>1006.0</td>\n",
       "      <td>107.0</td>\n",
       "      <td>1007.0</td>\n",
       "      <td>108.0</td>\n",
       "      <td>1008.0</td>\n",
       "    </tr>\n",
       "    <tr>\n",
       "      <th>4</th>\n",
       "      <td>107.0</td>\n",
       "      <td>1007.0</td>\n",
       "      <td>108.0</td>\n",
       "      <td>1008.0</td>\n",
       "      <td>109.0</td>\n",
       "      <td>1009.0</td>\n",
       "    </tr>\n",
       "  </tbody>\n",
       "</table>\n",
       "</div>"
      ],
      "text/plain": [
       "   exog_1_step_1  exog_2_step_1  exog_1_step_2  exog_2_step_2  exog_1_step_3  \\\n",
       "2          105.0         1005.0          106.0         1006.0          107.0   \n",
       "3          106.0         1006.0          107.0         1007.0          108.0   \n",
       "4          107.0         1007.0          108.0         1008.0          109.0   \n",
       "\n",
       "   exog_2_step_3  \n",
       "2         1007.0  \n",
       "3         1008.0  \n",
       "4         1009.0  "
      ]
     },
     "execution_count": 65,
     "metadata": {},
     "output_type": "execute_result"
    }
   ],
   "source": [
    "print(np.arange(10)[5 + (3 - 1):])\n",
    "exog = pd.DataFrame({'exog_1': np.arange(105, 110, dtype=float),\n",
    "                     'exog_2': np.arange(1005, 1010, dtype=float)})\n",
    "\n",
    "exog_to_direct(exog, steps=3)[0]"
   ]
  },
  {
   "cell_type": "code",
   "execution_count": null,
   "metadata": {},
   "outputs": [],
   "source": []
  }
 ],
 "metadata": {
  "kernelspec": {
   "display_name": "skforecast_py12",
   "language": "python",
   "name": "python3"
  },
  "language_info": {
   "codemirror_mode": {
    "name": "ipython",
    "version": 3
   },
   "file_extension": ".py",
   "mimetype": "text/x-python",
   "name": "python",
   "nbconvert_exporter": "python",
   "pygments_lexer": "ipython3",
   "version": "3.12.4"
  },
  "orig_nbformat": 4
 },
 "nbformat": 4,
 "nbformat_minor": 2
}
