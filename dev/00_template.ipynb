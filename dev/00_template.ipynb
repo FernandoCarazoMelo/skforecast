{
 "cells": [
  {
   "cell_type": "code",
   "execution_count": 20,
   "metadata": {},
   "outputs": [
    {
     "data": {
      "text/plain": [
       "'/home/ubuntu/varios/skforecast'"
      ]
     },
     "execution_count": 20,
     "metadata": {},
     "output_type": "execute_result"
    }
   ],
   "source": [
    "%load_ext autoreload\n",
    "%autoreload 2\n",
    "import sys\n",
    "from pathlib import Path\n",
    "sys.path.insert(1, str(Path.cwd().parent))\n",
    "str(Path.cwd().parent)"
   ]
  },
  {
   "cell_type": "code",
   "execution_count": 21,
   "metadata": {},
   "outputs": [
    {
     "name": "stdout",
     "output_type": "stream",
     "text": [
      "Output 1: [1, 4, 9, 16, 25]\n",
      "Output 2: [2, 4, 6, 8, 10]\n"
     ]
    }
   ],
   "source": [
    "from joblib import Parallel, delayed\n",
    "\n",
    "# Define the function that returns two outputs\n",
    "def compute(x):\n",
    "    return x * x, x + x\n",
    "\n",
    "# List of inputs\n",
    "inputs = [1, 2, 3, 4, 5]\n",
    "\n",
    "# Use Parallel and delayed to parallelize the function call\n",
    "results = Parallel(n_jobs=-1)(delayed(compute)(i) for i in inputs)\n",
    "\n",
    "# Extract the separate outputs\n",
    "output1 = [result[0] for result in results]\n",
    "output2 = [result[1] for result in results]\n",
    "\n",
    "# Print the outputs\n",
    "print(\"Output 1:\", output1)\n",
    "print(\"Output 2:\", output2)\n"
   ]
  },
  {
   "cell_type": "code",
   "execution_count": 22,
   "metadata": {},
   "outputs": [
    {
     "data": {
      "text/plain": [
       "2020-01-01    1.764052\n",
       "2020-01-02    0.400157\n",
       "2020-01-03    0.978738\n",
       "2020-01-04    2.240893\n",
       "2020-01-05    1.867558\n",
       "2020-01-06   -0.977278\n",
       "2020-01-07    0.950088\n",
       "2020-01-08   -0.151357\n",
       "2020-01-09   -0.103219\n",
       "2020-01-10    0.410599\n",
       "dtype: float64"
      ]
     },
     "execution_count": 22,
     "metadata": {},
     "output_type": "execute_result"
    }
   ],
   "source": [
    "# simulate time series data\n",
    "import numpy as np\n",
    "import pandas as pd\n",
    "\n",
    "np.random.seed(0)\n",
    "n = 10\n",
    "dates = pd.date_range(start='2020-01-01', periods=n)\n",
    "data = np.random.randn(n)\n",
    "y = pd.Series(data, index=dates)\n",
    "y_2 = pd.Series(data, index=dates)\n",
    "\n",
    "y_all = pd.concat([y, y_2])\n",
    "y_all.drop_duplicates()\n"
   ]
  },
  {
   "cell_type": "code",
   "execution_count": 28,
   "metadata": {},
   "outputs": [
    {
     "name": "stdout",
     "output_type": "stream",
     "text": [
      "(x, z, *, y_train=None)\n"
     ]
    }
   ],
   "source": [
    "import inspect\n",
    "from functools import wraps\n",
    "\n",
    "def add_y_train_argument(func):\n",
    "    @wraps(func)\n",
    "    def wrapper(*args, y_train=None, **kwargs):\n",
    "        # Call the original function with the given arguments, excluding y_train\n",
    "        return func(*args, **kwargs)\n",
    "\n",
    "    # Get the signature of the input function\n",
    "    sig = inspect.signature(func)\n",
    "\n",
    "    # Check if 'y_train' is in the function's parameters\n",
    "    if \"y_train\" not in sig.parameters:\n",
    "        # Update the signature of the new function to include 'y_train'\n",
    "        new_params = list(sig.parameters.values()) + [\n",
    "            inspect.Parameter(\"y_train\", inspect.Parameter.KEYWORD_ONLY, default=None)\n",
    "        ]\n",
    "        wrapper.__signature__ = sig.replace(parameters=new_params)\n",
    "\n",
    "    return wrapper\n",
    "\n",
    "# Example usage\n",
    "@add_y_train_argument\n",
    "def example_function(x, z):\n",
    "    return x + z\n",
    "\n",
    "print(inspect.signature(example_function))  # Output: (x, z, *, y_train=None)\n"
   ]
  },
  {
   "cell_type": "code",
   "execution_count": 32,
   "metadata": {},
   "outputs": [
    {
     "data": {
      "text/plain": [
       "3"
      ]
     },
     "execution_count": 32,
     "metadata": {},
     "output_type": "execute_result"
    }
   ],
   "source": [
    "def example_function(x, z):\n",
    "    return x + z\n",
    "\n",
    "example_function = add_y_train_argument(example_function)\n",
    "example_function(1, 2)"
   ]
  },
  {
   "cell_type": "code",
   "execution_count": 5,
   "metadata": {},
   "outputs": [
    {
     "name": "stdout",
     "output_type": "stream",
     "text": [
      "RMSSE: [0.89442719 0.89442719]\n",
      "mase: [0.8 0.8]\n"
     ]
    }
   ],
   "source": [
    "## rmsse\n",
    "\n",
    "import numpy as np\n",
    "\n",
    "train = np.array([\n",
    "    [4,2,1,3,2],\n",
    "    [400,200,100,300,200]\n",
    "])\n",
    "test = np.array([\n",
    "    [2,0,4,1,1],\n",
    "    [200,0,400,100,100]\n",
    "])\n",
    "forecast = np.array([\n",
    "    [2,2,2,2,2],\n",
    "    [200,200,200,200,200]\n",
    "])\n",
    "\n",
    "def rmsse(train, test, forecast):\n",
    "    forecast_mse = np.mean((test-forecast)**2, axis=1)\n",
    "    train_mse = [np.mean((np.diff(np.trim_zeros(row))**2)) for row in train]\n",
    "    return np.sqrt(forecast_mse/train_mse)\n",
    "\n",
    "print(f'RMSSE: {rmsse(train, test, forecast)}')\n",
    "\n",
    "# Mase\n",
    "\n",
    "def mase(train, test, forecast):\n",
    "    forecast_mae = np.mean(np.abs(test-forecast), axis=1)\n",
    "    train_mae = [np.mean(np.abs(np.diff(np.trim_zeros(row)))) for row in train]\n",
    "    return (forecast_mae/train_mae)\n",
    "\n",
    "print(f'mase: {mase(train, test, forecast)}')"
   ]
  }
 ],
 "metadata": {
  "kernelspec": {
   "display_name": "skforecast_py10",
   "language": "python",
   "name": "python3"
  },
  "language_info": {
   "codemirror_mode": {
    "name": "ipython",
    "version": 3
   },
   "file_extension": ".py",
   "mimetype": "text/x-python",
   "name": "python",
   "nbconvert_exporter": "python",
   "pygments_lexer": "ipython3",
   "version": "3.11.9"
  },
  "orig_nbformat": 4,
  "vscode": {
   "interpreter": {
    "hash": "c78d62c1713fdacd99ef7c429003c7324b36fbb551fb8b6860a7ea73e9338235"
   }
  }
 },
 "nbformat": 4,
 "nbformat_minor": 2
}
