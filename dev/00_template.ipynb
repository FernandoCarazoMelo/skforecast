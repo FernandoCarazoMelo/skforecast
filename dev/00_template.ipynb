{
 "cells": [
  {
   "cell_type": "code",
   "execution_count": 1,
   "metadata": {},
   "outputs": [
    {
     "name": "stdout",
     "output_type": "stream",
     "text": [
      "c:\\Users\\jaesc2\\GitHub\\skforecast\n"
     ]
    }
   ],
   "source": [
    "%load_ext autoreload\n",
    "%autoreload 2\n",
    "import sys\n",
    "from pathlib import Path\n",
    "path = str(Path.cwd().parent)\n",
    "print(path)\n",
    "sys.path.insert(1, path)"
   ]
  },
  {
   "cell_type": "code",
   "execution_count": 2,
   "metadata": {},
   "outputs": [],
   "source": [
    "import re\n",
    "import pytest\n",
    "import numpy as np\n",
    "import pandas as pd\n",
    "from sklearn.linear_model import LinearRegression\n",
    "from sklearn.compose import ColumnTransformer\n",
    "from sklearn.preprocessing import StandardScaler\n",
    "from sklearn.preprocessing import OneHotEncoder\n",
    "from skforecast.exceptions import MissingValuesWarning\n",
    "from skforecast.preprocessing import TimeSeriesDifferentiator\n",
    "from skforecast.preprocessing import RollingFeatures\n",
    "from skforecast.ForecasterAutoreg import ForecasterAutoreg"
   ]
  },
  {
   "cell_type": "code",
   "execution_count": 34,
   "metadata": {},
   "outputs": [
    {
     "data": {
      "text/plain": [
       "(               lag_1     lag_5  roll_ratio_min_max_4  roll_median_4     col_1  \\\n",
       " 2000-01-08 -1.564362 -0.141737             -7.222222      -0.349094  0.040403   \n",
       " 2000-01-09  1.863585 -0.041996             -0.847826      -0.057745 -1.325790   \n",
       " 2000-01-10 -0.246728 -0.498706             -0.106061       0.674565  1.127525   \n",
       " \n",
       "             col_2_a  col_2_b  \n",
       " 2000-01-08      0.0      1.0  \n",
       " 2000-01-09      0.0      1.0  \n",
       " 2000-01-10      0.0      1.0  ,\n",
       " 2000-01-08    1.863585\n",
       " 2000-01-09   -0.246728\n",
       " 2000-01-10   -4.609092\n",
       " Freq: D, Name: y, dtype: float64,\n",
       " ['col_1', 'col_2'],\n",
       " ['roll_ratio_min_max_4', 'roll_median_4'],\n",
       " ['col_1', 'col_2_a', 'col_2_b'],\n",
       " ['lag_1',\n",
       "  'lag_5',\n",
       "  'roll_ratio_min_max_4',\n",
       "  'roll_median_4',\n",
       "  'col_1',\n",
       "  'col_2_a',\n",
       "  'col_2_b'],\n",
       " {'col_1': dtype('float64'), 'col_2': dtype('O')})"
      ]
     },
     "execution_count": 34,
     "metadata": {},
     "output_type": "execute_result"
    }
   ],
   "source": [
    "y_datetime = pd.Series(\n",
    "    [25.3, 29.1, 27.5, 24.3, 2.1, 46.5, 31.3, 87.1, 133.5, 4.3],\n",
    "    index=pd.date_range('2000-01-01', periods=10, freq='D'),\n",
    "    name='y', dtype=float\n",
    ")\n",
    "exog = pd.DataFrame({\n",
    "               'col_1': [7.5, 24.4, 60.3, 57.3, 50.7, 41.4, 87.2, 47.4, 14.6, 73.5],\n",
    "               'col_2': ['a', 'a', 'a', 'a', 'a', 'b', 'b', 'b', 'b', 'b']},\n",
    "               index = pd.date_range('2000-01-01', periods=10, freq='D')\n",
    "           )\n",
    "rolling = RollingFeatures(\n",
    "    stats=['ratio_min_max', 'median'], window_sizes=4\n",
    ")\n",
    "\n",
    "transformer_y = StandardScaler()\n",
    "transformer_exog = ColumnTransformer(\n",
    "                        [('scale', StandardScaler(), ['col_1']),\n",
    "                         ('onehot', OneHotEncoder(), ['col_2'])],\n",
    "                        remainder = 'passthrough',\n",
    "                        verbose_feature_names_out = False\n",
    "                    )\n",
    "\n",
    "forecaster = ForecasterAutoreg(\n",
    "                LinearRegression(), \n",
    "                lags             = [1, 5], \n",
    "                window_features  = rolling,\n",
    "                transformer_y    = transformer_y,\n",
    "                transformer_exog = transformer_exog,\n",
    "                differentiation  = 2\n",
    "            )\n",
    "results = forecaster._create_train_X_y(y=y_datetime, exog=exog)\n",
    "results"
   ]
  },
  {
   "cell_type": "code",
   "execution_count": 36,
   "metadata": {},
   "outputs": [
    {
     "data": {
      "text/plain": [
       "array([ 1.8635851 , -0.24672817, -4.60909217])"
      ]
     },
     "execution_count": 36,
     "metadata": {},
     "output_type": "execute_result"
    }
   ],
   "source": [
    "results[1].to_numpy()"
   ]
  },
  {
   "cell_type": "code",
   "execution_count": null,
   "metadata": {},
   "outputs": [],
   "source": []
  }
 ],
 "metadata": {
  "kernelspec": {
   "display_name": "skforecast_py10",
   "language": "python",
   "name": "python3"
  },
  "language_info": {
   "codemirror_mode": {
    "name": "ipython",
    "version": 3
   },
   "file_extension": ".py",
   "mimetype": "text/x-python",
   "name": "python",
   "nbconvert_exporter": "python",
   "pygments_lexer": "ipython3",
   "version": "3.12.4"
  },
  "orig_nbformat": 4,
  "vscode": {
   "interpreter": {
    "hash": "c78d62c1713fdacd99ef7c429003c7324b36fbb551fb8b6860a7ea73e9338235"
   }
  }
 },
 "nbformat": 4,
 "nbformat_minor": 2
}
