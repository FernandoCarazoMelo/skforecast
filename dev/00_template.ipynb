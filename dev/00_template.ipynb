{
 "cells": [
  {
   "cell_type": "code",
   "execution_count": 2,
   "metadata": {},
   "outputs": [
    {
     "name": "stdout",
     "output_type": "stream",
     "text": [
      "c:\\Users\\Joaquín Amat\\Documents\\GitHub\\skforecast\n"
     ]
    }
   ],
   "source": [
    "%load_ext autoreload\n",
    "%autoreload 2\n",
    "import sys\n",
    "from pathlib import Path\n",
    "path = str(Path.cwd().parent)\n",
    "print(path)\n",
    "sys.path.insert(1, path)"
   ]
  },
  {
   "cell_type": "code",
   "execution_count": 3,
   "metadata": {},
   "outputs": [],
   "source": [
    "import numpy as np\n",
    "import pandas as pd\n",
    "from skforecast.ForecasterAutoreg import ForecasterAutoreg\n",
    "from sklearn.compose import ColumnTransformer\n",
    "from sklearn.preprocessing import StandardScaler\n",
    "from sklearn.preprocessing import OneHotEncoder\n",
    "from sklearn.linear_model import LinearRegression\n",
    "\n",
    "# Fixtures\n",
    "from skforecast.ForecasterAutoreg.tests.fixtures_ForecasterAutoreg import y"
   ]
  },
  {
   "cell_type": "code",
   "execution_count": 4,
   "metadata": {},
   "outputs": [
    {
     "name": "stdout",
     "output_type": "stream",
     "text": [
      "100\n",
      "100\n",
      "200\n",
      "200\n",
      "300\n",
      "300\n",
      "400\n",
      "400\n",
      "500\n",
      "500\n",
      "600\n",
      "600\n",
      "700\n",
      "700\n",
      "800\n",
      "800\n",
      "900\n",
      "900\n",
      "1000\n",
      "1000\n",
      "1000\n",
      "1000\n",
      "1000\n",
      "1000\n",
      "1000\n",
      "1000\n",
      "1000\n",
      "1000\n",
      "1000\n",
      "1000\n",
      "1000\n",
      "1000\n",
      "1000\n",
      "1000\n",
      "1000\n",
      "1000\n",
      "1000\n",
      "1000\n"
     ]
    }
   ],
   "source": [
    "rng = np.random.default_rng(12345)\n",
    "y = pd.Series(\n",
    "    data=rng.normal(loc=10, scale=1, size=201),\n",
    "    index=pd.date_range(start=\"01-01-2000\", periods=201, freq=\"h\"),\n",
    ")\n",
    "forecaster = ForecasterAutoreg(\n",
    "    regressor=LinearRegression(), lags=1, binner_kwargs={\"n_bins\": 2}\n",
    ")\n",
    "forecaster.fit(y)   \n",
    "X_train, y_train = forecaster.create_train_X_y(y=y)\n",
    "y_pred = forecaster.regressor.predict(X_train)\n",
    "for i in range(1, 20):\n",
    "    forecaster.set_out_sample_residuals(y_true=y_train, y_pred=y_pred, append=True)\n",
    "    for v in forecaster.out_sample_residuals_by_bin_.values():\n",
    "        print(min(1_000, 100 * i))\n"
   ]
  },
  {
   "cell_type": "code",
   "execution_count": 6,
   "metadata": {},
   "outputs": [
    {
     "data": {
      "text/plain": [
       "array([2])"
      ]
     },
     "execution_count": 6,
     "metadata": {},
     "output_type": "execute_result"
    }
   ],
   "source": [
    "np.array([1]) + np.array([1])"
   ]
  },
  {
   "cell_type": "code",
   "execution_count": 55,
   "metadata": {},
   "outputs": [
    {
     "name": "stdout",
     "output_type": "stream",
     "text": [
      "1\n",
      "500 500\n",
      "500 500\n",
      "2\n",
      "1000 1000\n",
      "1000 1000\n",
      "3\n",
      "1500 1500\n",
      "1500 1500\n",
      "4\n",
      "2000 2000\n",
      "2000 2000\n",
      "5\n",
      "2500 2500\n",
      "2500 2500\n",
      "6\n",
      "3000 3000\n",
      "3000 3000\n",
      "7\n",
      "3500 3500\n",
      "3500 3500\n",
      "8\n",
      "4000 4000\n",
      "4000 4000\n",
      "9\n",
      "4500 4500\n",
      "4500 4500\n",
      "10\n",
      "5000 5000\n",
      "5000 5000\n",
      "11\n",
      "5000 5000\n",
      "5000 5000\n",
      "12\n",
      "5000 5000\n",
      "5000 5000\n",
      "13\n",
      "5000 5000\n",
      "5000 5000\n",
      "14\n",
      "5000 5000\n",
      "5000 5000\n",
      "15\n",
      "5000 5000\n",
      "5000 5000\n",
      "16\n",
      "5000 5000\n",
      "5000 5000\n",
      "17\n",
      "5000 5000\n",
      "5000 5000\n",
      "18\n",
      "5000 5000\n",
      "5000 5000\n",
      "19\n",
      "5000 5000\n",
      "5000 5000\n"
     ]
    }
   ],
   "source": [
    "rng = np.random.default_rng(12345)\n",
    "y = pd.Series(\n",
    "    data=rng.normal(loc=10, scale=1, size=1001),\n",
    "    index=pd.date_range(start=\"01-01-2000\", periods=1001, freq=\"h\"),\n",
    ")\n",
    "forecaster = ForecasterAutoreg(\n",
    "    regressor=LinearRegression(), lags=1, binner_kwargs={\"n_bins\": 2}\n",
    ")\n",
    "forecaster.fit(y)   \n",
    "X_train, y_train = forecaster.create_train_X_y(y=y)\n",
    "y_pred = forecaster.regressor.predict(X_train)\n",
    "\n",
    "for i in range(1, 20):\n",
    "    print(i)\n",
    "    forecaster.set_out_sample_residuals(y_true=y_train, y_pred=y_pred, append=True)\n",
    "    for v in forecaster.out_sample_residuals_by_bin_.values():\n",
    "        #assert len(v) == min(1_000, 100 * i)\n",
    "        print(len(v), min(5_000, 500 * i))"
   ]
  },
  {
   "cell_type": "code",
   "execution_count": 81,
   "metadata": {},
   "outputs": [],
   "source": [
    "import numpy as np\n",
    "import pandas as pd\n",
    "from sklearn.preprocessing import StandardScaler\n",
    "from sklearn.linear_model import Ridge\n",
    "from sklearn.linear_model import LinearRegression\n",
    "from lightgbm import LGBMRegressor\n",
    "from skforecast.preprocessing import RollingFeatures\n",
    "from skforecast.ForecasterAutoreg import ForecasterAutoreg\n",
    "\n",
    "# Fixtures\n",
    "from skforecast.ForecasterAutoreg.tests.fixtures_ForecasterAutoreg import y\n",
    "from skforecast.ForecasterAutoreg.tests.fixtures_ForecasterAutoreg import exog\n",
    "from skforecast.ForecasterAutoreg.tests.fixtures_ForecasterAutoreg import exog_predict"
   ]
  },
  {
   "cell_type": "code",
   "execution_count": 92,
   "metadata": {},
   "outputs": [],
   "source": [
    "rng = np.random.default_rng(12345)\n",
    "steps = 10\n",
    "forecaster = ForecasterAutoreg(LGBMRegressor(verbose=-1), lags=3)\n",
    "forecaster.fit(y=y, exog=exog)\n",
    "last_window_values, exog_values, _ = (\n",
    "    forecaster._create_predict_inputs(steps=steps, exog=exog_predict)\n",
    ")\n",
    "\n",
    "sampled_residuals = {\n",
    "                k: v[rng.integers(low=0, high=len(v), size=steps)]\n",
    "                for k, v in forecaster.in_sample_residuals_by_bin_.items()\n",
    "            }\n",
    "\n",
    "predictions = forecaster._recursive_predict(\n",
    "                    steps                = steps,\n",
    "                    last_window_values   = last_window_values,\n",
    "                    exog_values          = exog_values,\n",
    "                    residuals            = sampled_residuals,\n",
    "                    use_binned_residuals = True,\n",
    "                )\n",
    "\n",
    "expected = np.array([\n",
    "            0.951684, 0.115618, 0.160797, 0.551315, 0.747326, 0.634401,\n",
    "            0.099628, 0.47903, 0.387516, 0.581912\n",
    "           ])\n",
    "\n",
    "np.testing.assert_array_almost_equal(predictions, expected)"
   ]
  },
  {
   "cell_type": "code",
   "execution_count": 83,
   "metadata": {},
   "outputs": [
    {
     "data": {
      "text/plain": [
       "{0: array([ 0.05425458, -0.27934073,  0.19912894,  0.07134645, -0.10508544,\n",
       "         0.43446198]),\n",
       " 1: array([-0.04434585, -0.09619266, -0.04132642, -0.27857404,  0.0396593 ,\n",
       "         0.02900846]),\n",
       " 2: array([-0.0980108 , -0.05583897]),\n",
       " 3: array([-0.05759753, -0.31367804,  0.34573851,  0.22076204,  0.10733023,\n",
       "        -0.18073437,  0.12025967, -0.38807488, -0.2457144 ]),\n",
       " 4: array([-0.07509307]),\n",
       " 5: array([-0.09524194,  0.01522903,  0.11605256, -0.01651172, -0.09403693,\n",
       "         0.00113672]),\n",
       " 6: array([ 0.02202285,  0.19975779, -0.22980421,  0.3698709 ]),\n",
       " 7: array([ 0.44972244,  0.111644  , -0.21375628]),\n",
       " 8: array([ 0.13162811,  0.1594852 ,  0.12707902, -0.49573592,  0.35631916,\n",
       "         0.01753017]),\n",
       " 9: array([-0.06898285, -0.37227099, -0.17418291,  0.32070297])}"
      ]
     },
     "execution_count": 83,
     "metadata": {},
     "output_type": "execute_result"
    }
   ],
   "source": [
    "forecaster.in_sample_residuals_by_bin_"
   ]
  },
  {
   "cell_type": "code",
   "execution_count": 85,
   "metadata": {},
   "outputs": [
    {
     "name": "stdout",
     "output_type": "stream",
     "text": [
      "0 6\n",
      "1 6\n",
      "2 2\n",
      "3 9\n",
      "4 1\n",
      "5 6\n",
      "6 4\n",
      "7 3\n",
      "8 6\n",
      "9 4\n"
     ]
    }
   ],
   "source": [
    "for k, v in forecaster.in_sample_residuals_by_bin_.items():\n",
    "    print(k, len(v))"
   ]
  },
  {
   "cell_type": "code",
   "execution_count": null,
   "metadata": {},
   "outputs": [],
   "source": []
  },
  {
   "cell_type": "code",
   "execution_count": 44,
   "metadata": {},
   "outputs": [
    {
     "name": "stdout",
     "output_type": "stream",
     "text": [
      "0 1000\n",
      "1 1000\n",
      "2 1000\n",
      "3 1000\n",
      "4 1000\n",
      "5 1000\n",
      "6 1000\n",
      "7 1000\n",
      "8 1000\n",
      "9 1000\n"
     ]
    }
   ],
   "source": [
    "for k, v in forecaster.out_sample_residuals_by_bin_.items():\n",
    "    print(k, len(v))"
   ]
  },
  {
   "cell_type": "code",
   "execution_count": 31,
   "metadata": {},
   "outputs": [
    {
     "name": "stdout",
     "output_type": "stream",
     "text": [
      "[-1.49443809 -0.18000684  0.1663009   0.35273434  0.63528567  0.90802292\n",
      "  1.12086466  1.42902786  1.77815393  2.32329658  3.93117714]\n"
     ]
    },
    {
     "data": {
      "text/plain": [
       "{0.0: (-1.4944380855730266, -0.1800068383929535),\n",
       " 1.0: (-0.1800068383929535, 0.16630089975318266),\n",
       " 2.0: (0.16630089975318266, 0.3527343445621452),\n",
       " 3.0: (0.3527343445621452, 0.6352856739829892),\n",
       " 4.0: (0.6352856739829892, 0.9080229150474954),\n",
       " 5.0: (0.9080229150474954, 1.1208646636265782),\n",
       " 6.0: (1.1208646636265782, 1.4290278627173163),\n",
       " 7.0: (1.4290278627173163, 1.778153929057584),\n",
       " 8.0: (1.778153929057584, 2.323296575143496),\n",
       " 9.0: (2.323296575143496, 3.931177135195687)}"
      ]
     },
     "execution_count": 31,
     "metadata": {},
     "output_type": "execute_result"
    }
   ],
   "source": [
    "forecaster._binning_in_sample_residuals(\n",
    "    y_true = y_true,\n",
    "    y_pred = y_true,\n",
    "\n",
    ")\n",
    "print(forecaster.binner.bin_edges_)\n",
    "forecaster.binner_intervals_"
   ]
  },
  {
   "cell_type": "code",
   "execution_count": 26,
   "metadata": {},
   "outputs": [
    {
     "name": "stdout",
     "output_type": "stream",
     "text": [
      "[-17.47117318  -2.32095544   1.84659725   4.87235529   8.0943841\n",
      "  10.60186959  12.59386984  14.52902809  18.08644084  22.34716771\n",
      "  37.45662982]\n"
     ]
    },
    {
     "data": {
      "text/plain": [
       "{0.0: (-17.471173182613413, -2.3209554390889844),\n",
       " 1.0: (-2.3209554390889844, 1.846597248735215),\n",
       " 2.0: (1.846597248735215, 4.87235528938399),\n",
       " 3.0: (4.87235528938399, 8.094384096101859),\n",
       " 4.0: (8.094384096101859, 10.60186958630161),\n",
       " 5.0: (10.60186958630161, 12.59386983776179),\n",
       " 6.0: (12.59386983776179, 14.529028087323077),\n",
       " 7.0: (14.529028087323077, 18.086440838165675),\n",
       " 8.0: (18.086440838165675, 22.347167711175327),\n",
       " 9.0: (22.347167711175327, 37.45662981882582)}"
      ]
     },
     "execution_count": 26,
     "metadata": {},
     "output_type": "execute_result"
    }
   ],
   "source": [
    "_ = forecaster.binner.fit(y_true)\n",
    "print(forecaster.binner.bin_edges_)\n",
    "forecaster.binner.intervals_"
   ]
  },
  {
   "cell_type": "code",
   "execution_count": 27,
   "metadata": {},
   "outputs": [
    {
     "name": "stdout",
     "output_type": "stream",
     "text": [
      "[-17.47117318  -2.32095544   1.84659725   4.87235529   8.0943841\n",
      "  10.60186959  12.59386984  14.52902809  18.08644084  22.34716771\n",
      "  37.45662982]\n"
     ]
    },
    {
     "data": {
      "text/plain": [
       "{0.0: (-17.471173182613413, -2.3209554390889844),\n",
       " 1.0: (-2.3209554390889844, 1.846597248735215),\n",
       " 2.0: (1.846597248735215, 4.87235528938399),\n",
       " 3.0: (4.87235528938399, 8.094384096101859),\n",
       " 4.0: (8.094384096101859, 10.60186958630161),\n",
       " 5.0: (10.60186958630161, 12.59386983776179),\n",
       " 6.0: (12.59386983776179, 14.529028087323077),\n",
       " 7.0: (14.529028087323077, 18.086440838165675),\n",
       " 8.0: (18.086440838165675, 22.347167711175327),\n",
       " 9.0: (22.347167711175327, 37.45662981882582)}"
      ]
     },
     "execution_count": 27,
     "metadata": {},
     "output_type": "execute_result"
    }
   ],
   "source": [
    "_ = forecaster.binner.fit(y_true)\n",
    "print(forecaster.binner.bin_edges_)\n",
    "forecaster.binner.intervals_"
   ]
  }
 ],
 "metadata": {
  "kernelspec": {
   "display_name": "skforecast_14_p12",
   "language": "python",
   "name": "python3"
  },
  "language_info": {
   "codemirror_mode": {
    "name": "ipython",
    "version": 3
   },
   "file_extension": ".py",
   "mimetype": "text/x-python",
   "name": "python",
   "nbconvert_exporter": "python",
   "pygments_lexer": "ipython3",
   "version": "3.12.4"
  },
  "orig_nbformat": 4
 },
 "nbformat": 4,
 "nbformat_minor": 2
}
