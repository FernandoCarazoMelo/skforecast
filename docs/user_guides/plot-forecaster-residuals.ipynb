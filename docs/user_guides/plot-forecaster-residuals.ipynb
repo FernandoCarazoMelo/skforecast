{
 "cells": [
  {
   "cell_type": "code",
   "execution_count": null,
   "metadata": {},
   "outputs": [],
   "source": []
  }
 ],
 "metadata": {
  "kernelspec": {
   "display_name": "Python 3.7.9 ('cienciadedatos')",
   "language": "python",
   "name": "python3"
  },
  "language_info": {
   "name": "python",
   "version": "3.7.9"
  },
  "orig_nbformat": 4,
  "vscode": {
   "interpreter": {
    "hash": "c12913696a895390034120989688913c364ffd1b20a4e74b4084d4da4733ed9a"
   }
  }
 },
 "nbformat": 4,
 "nbformat_minor": 2
}
