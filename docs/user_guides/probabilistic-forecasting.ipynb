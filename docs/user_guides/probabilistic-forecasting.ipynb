{
 "cells": [
  {
   "attachments": {},
   "cell_type": "markdown",
   "id": "0b41c625",
   "metadata": {},
   "source": [
    "# Probabilistic forecasting: prediction intervals and prediction distribution\n",
    "\n",
    "When trying to anticipate future values, most forecasting models focus on predicting the most likely value, which is called point-forecasting. Although knowing the expected value of a time series is useful for most business cases, this type of forecasting does not provide any information about the model's confidence or the prediction's uncertainty.\n",
    "\n",
    "\n",
    "Probabilistic forecasting, as opposed to point-forecasting, is a family of techniques that enable the prediction of the expected distribution of the outcome, rather than a single future value. This type of forecasting provides much richer information, as it reports the range of probable values into which the true value may fall, allowing the estimation of prediction intervals.\n",
    "\n",
    "\n",
    "A prediction interval is the interval within which the true value of the response variable is expected to be found with a given probability. There are [multiple ways to estimate prediction intervals](https://otexts.com/fpp3/prediction-intervals.html), most of which require that the residuals (errors) of the model follow a normal distribution. However, when this assumption cannot be made, two commonly used alternatives are bootstrapping and quantile regression.\n",
    "\n",
    "To illustrate how skforecast enables the estimation of prediction intervals for multi-step forecasting, examples attempting to predict energy demand for a 7-day horizon are provided. Two strategies are showcased:\n",
    "\n",
    "+ Prediction intervals based on bootstrapped residuals.\n",
    "\n",
    "+ Prediction intervals based on quantile regression."
   ]
  },
  {
   "attachments": {},
   "cell_type": "markdown",
   "id": "22838f08",
   "metadata": {},
   "source": [
    "<script src=\"https://kit.fontawesome.com/d20edc211b.js\" crossorigin=\"anonymous\"></script>\n",
    "<div class=\"admonition note\" name=\"html-admonition\" style=\"background: rgba(255,145,0,.1); padding-top: 0px; padding-bottom: 6px; border-radius: 8px; border-left: 8px solid #ff9100; border-color: #ff9100; padding-left: 10px;\">\n",
    "<p class=\"title\">\n",
    "    <i class=\"fa-triangle-exclamation fa\" style=\"font-size: 18px; color:#ff9100;\"></i>\n",
    "    <b style=\"color: #ff9100;\"> &nbsp Warning</b>\n",
    "</p>\n",
    "\n",
    "As Rob J Hyndman explains in his <a href=\"https://robjhyndman.com/hyndsight/narrow-pi/\">blog</a>, in real-world problems, almost all prediction intervals are too narrow. For example, nominal 95% intervals may only provide coverage between 71% and 87%. This is a well-known phenomenon and arises because they do not account for all sources of uncertainty. With forecasting models, there are at least four sources of uncertainty:\n",
    "\n",
    "<ul>\n",
    "  <li>The random error term</li>\n",
    "    \n",
    "  <li>The parameter estimates</li>\n",
    "    \n",
    "  <li>The choice of model for the historical data</li>\n",
    "    \n",
    "  <li>The continuation of the historical data generating process into the future</li>\n",
    "</ul>\n",
    "\n",
    "When producing prediction intervals for time series models, generally only the first of these sources is taken into account. Therefore, it is advisable to use test data to validate the empirical coverage of the interval and not solely rely on the expected coverage.\n",
    "\n",
    "</div>"
   ]
  },
  {
   "attachments": {},
   "cell_type": "markdown",
   "id": "24c2cd1f",
   "metadata": {},
   "source": [
    "## Predicting distribution and intervals using bootstrapped residuals\n",
    "\n",
    "The error of a one-step-ahead forecast is defined as the difference between the actual value and the predicted value ($e_t = y_t - \\hat{y}_{t|t-1}$). By assuming that future errors will be similar to past errors, it is possible to simulate different predictions by taking samples from the collection of errors previously seen in the past (i.e., the residuals) and adding them to the predictions.\n",
    "\n",
    "<p style=\"text-align: center\">\n",
    "<img src=\"../img/diagram-bootstrapping-prediction-intervals.png\" style=\"width: 700px;\">\n",
    "<br>\n",
    "<font size=\"2.5\"> <i>Diagram bootstrapping prediction process.</i></font>\n",
    "</p>\n",
    "\n",
    "Repeatedly performing this process creates a collection of slightly different predictions, which represent the distribution of possible outcomes due to the expected variance in the forecasting process.\n",
    "\n",
    "<p style=\"text-align: center\">\n",
    "<img src=\"../img/diagram-bootstrapping-prediction-intervals-2.png\" style=\"width: 550px;\">\n",
    "<br>\n",
    "<font size=\"2.5\"> <i>Bootstrapping predictions.</i></font>\n",
    "</p>\n",
    "\n",
    "Using the outcome of the bootstrapping process, prediction intervals can be computed by calculating the $α/2$ and $1 − α/2$ percentiles at each forecasting horizon. \n",
    "\n",
    "<p style=\"text-align: center\">\n",
    "<img src=\"../img/forecasting-intervals.gif\" style=\"width: 800px;\">\n",
    "</p>\n",
    "\n",
    "Alternatively, it is also possible to fit a parametric distribution for each forecast horizon. \n",
    "\n",
    "One of the main advantages of this strategy is that it requires only a single model to estimate any interval. However, performing hundreds or thousands of bootstrapping iterations can be computationally expensive and may not always be feasible."
   ]
  },
  {
   "attachments": {},
   "cell_type": "markdown",
   "id": "7f38a617",
   "metadata": {},
   "source": [
    "## Probabilistic prediction methods\n",
    "\n",
    "In skforecast, all forecasters have three different methods that allow for probabilistic forecasting:\n",
    "\n",
    "+ `predict_bootstrapping`: this method generates multiple forecasting predictions through a bootstrapping process. By sampling from a collection of past observed errors (the residuals), each bootstrapping iteration generates a different set of predictions. The output is a `pandas DataFrame` with one row for each predicted step and one column for each bootstrapping iteration.\n",
    "\n",
    "+ `predict_intervals`: this method estimates quantile predictions intervals using the values generated with `predict_bootstrapping`.\n",
    "\n",
    "+ `predict_dist`: this method fits a parametric distribution using the values generated with `predict_bootstrapping`. Any of the continuous distributions available in [scipy.stats](https://docs.scipy.org/doc/scipy/reference/stats.html#continuous-distributions) can be used."
   ]
  },
  {
   "attachments": {},
   "cell_type": "markdown",
   "id": "e97788b6",
   "metadata": {},
   "source": [
    "<script src=\"https://kit.fontawesome.com/d20edc211b.js\" crossorigin=\"anonymous\"></script>\n",
    "\n",
    "<div class=\"admonition note\" name=\"html-admonition\" style=\"background: rgba(0,191,191,.1); padding-top: 0px; padding-bottom: 6px; border-radius: 8px;\n",
    "border-left: 8px solid #00bfa5; border-color: #00bfa5; padding-left: 10px;\">\n",
    "<p class=\"title\">\n",
    "    <i class=\"fa-solid fa-fire-flame-curved\" style=\"font-size: 18px; color:#00bfa5;\"></i>\n",
    "    <b> &nbsp Tip</b>\n",
    "</p>\n",
    "\n",
    "The following example shows how to use these methods with a <code>ForecasterAutoreg</code>, but note that this works for all other types of forecasters as well.\n",
    "\n",
    "</div>"
   ]
  },
  {
   "attachments": {},
   "cell_type": "markdown",
   "id": "a65fc77f",
   "metadata": {},
   "source": [
    "## Libraries"
   ]
  },
  {
   "cell_type": "code",
   "execution_count": 1,
   "id": "aec56cf7",
   "metadata": {},
   "outputs": [],
   "source": [
    "# Data processing\n",
    "# ==============================================================================\n",
    "import numpy as np\n",
    "import pandas as pd\n",
    "\n",
    "# Plots\n",
    "# ==============================================================================\n",
    "import matplotlib.pyplot as plt\n",
    "import matplotlib.ticker as ticker\n",
    "\n",
    "# Modelling and Forecasting\n",
    "# ==============================================================================\n",
    "from skforecast.ForecasterAutoreg import ForecasterAutoreg\n",
    "from skforecast.ForecasterAutoregDirect import ForecasterAutoregDirect\n",
    "from skforecast.plot import plot_prediction_distribution\n",
    "from skforecast.model_selection import backtesting_forecaster\n",
    "from skforecast.model_selection import grid_search_forecaster\n",
    "from lightgbm import LGBMRegressor\n",
    "from sklearn.metrics import mean_pinball_loss\n",
    "from skforecast.exceptions import LongTrainingWarning\n",
    "\n",
    "# Configuration\n",
    "# ==============================================================================\n",
    "import warnings\n",
    "warnings.filterwarnings('once')"
   ]
  },
  {
   "attachments": {},
   "cell_type": "markdown",
   "id": "5242d3c5",
   "metadata": {},
   "source": [
    "## Data"
   ]
  },
  {
   "cell_type": "code",
   "execution_count": 2,
   "id": "dc24567f",
   "metadata": {},
   "outputs": [
    {
     "data": {
      "text/html": [
       "<div>\n",
       "<style scoped>\n",
       "    .dataframe tbody tr th:only-of-type {\n",
       "        vertical-align: middle;\n",
       "    }\n",
       "\n",
       "    .dataframe tbody tr th {\n",
       "        vertical-align: top;\n",
       "    }\n",
       "\n",
       "    .dataframe thead th {\n",
       "        text-align: right;\n",
       "    }\n",
       "</style>\n",
       "<table border=\"1\" class=\"dataframe\">\n",
       "  <thead>\n",
       "    <tr style=\"text-align: right;\">\n",
       "      <th></th>\n",
       "      <th>Demand</th>\n",
       "      <th>Temperature</th>\n",
       "      <th>Holiday</th>\n",
       "    </tr>\n",
       "    <tr>\n",
       "      <th>Time</th>\n",
       "      <th></th>\n",
       "      <th></th>\n",
       "      <th></th>\n",
       "    </tr>\n",
       "  </thead>\n",
       "  <tbody>\n",
       "    <tr>\n",
       "      <th>2012-01-01</th>\n",
       "      <td>82531.745918</td>\n",
       "      <td>21.047727</td>\n",
       "      <td>True</td>\n",
       "    </tr>\n",
       "    <tr>\n",
       "      <th>2012-01-02</th>\n",
       "      <td>227778.257304</td>\n",
       "      <td>26.578125</td>\n",
       "      <td>True</td>\n",
       "    </tr>\n",
       "    <tr>\n",
       "      <th>2012-01-03</th>\n",
       "      <td>275490.988882</td>\n",
       "      <td>31.751042</td>\n",
       "      <td>True</td>\n",
       "    </tr>\n",
       "  </tbody>\n",
       "</table>\n",
       "</div>"
      ],
      "text/plain": [
       "                   Demand  Temperature  Holiday\n",
       "Time                                           \n",
       "2012-01-01   82531.745918    21.047727     True\n",
       "2012-01-02  227778.257304    26.578125     True\n",
       "2012-01-03  275490.988882    31.751042     True"
      ]
     },
     "execution_count": 2,
     "metadata": {},
     "output_type": "execute_result"
    }
   ],
   "source": [
    "# Data download\n",
    "# ==============================================================================\n",
    "url = (\n",
    "       'https://raw.githubusercontent.com/JoaquinAmatRodrigo/skforecast/master/'\n",
    "       'data/vic_elec.csv'\n",
    ")\n",
    "data = pd.read_csv(url, sep=',')\n",
    "\n",
    "# Data preparation (aggregation at daily level)\n",
    "# ==============================================================================\n",
    "data['Time'] = pd.to_datetime(data['Time'], format='%Y-%m-%dT%H:%M:%SZ')\n",
    "data = data.set_index('Time')\n",
    "data = data.asfreq('30min')\n",
    "data = data.sort_index()\n",
    "data = data.drop(columns='Date')\n",
    "data = data.resample(rule='D', closed='left', label ='right')\\\n",
    "       .agg({'Demand': 'sum', 'Temperature': 'mean', 'Holiday': 'max'})\n",
    "\n",
    "data.head(3)"
   ]
  },
  {
   "cell_type": "code",
   "execution_count": 3,
   "id": "002e2353",
   "metadata": {},
   "outputs": [
    {
     "name": "stdout",
     "output_type": "stream",
     "text": [
      "Train dates      : 2012-01-01 00:00:00 --- 2013-12-31 00:00:00  (n=731)\n",
      "Validation dates : 2014-01-01 00:00:00 --- 2014-09-30 00:00:00  (n=273)\n",
      "Test dates       : 2014-10-01 00:00:00 --- 2014-12-30 00:00:00  (n=91)\n"
     ]
    }
   ],
   "source": [
    "# Split data into train-validation-test\n",
    "# ==============================================================================\n",
    "data = data.loc['2012-01-01 00:00:00': '2014-12-30 23:00:00']\n",
    "end_train = '2013-12-31 23:59:00'\n",
    "end_validation = '2014-9-30 23:59:00'\n",
    "data_train = data.loc[: end_train, :].copy()\n",
    "data_val   = data.loc[end_train:end_validation, :].copy()\n",
    "data_test  = data.loc[end_validation:, :].copy()\n",
    "\n",
    "print(\n",
    "    f\"Train dates      : {data_train.index.min()} --- {data_train.index.max()}\"\n",
    "    f\"  (n={len(data_train)})\"\n",
    ")\n",
    "print(\n",
    "    f\"Validation dates : {data_val.index.min()} --- {data_val.index.max()}\"\n",
    "    f\"  (n={len(data_val)})\"\n",
    ")\n",
    "print(\n",
    "    f\"Test dates       : {data_test.index.min()} --- {data_test.index.max()}\"\n",
    "    f\"  (n={len(data_test)})\"\n",
    ")"
   ]
  },
  {
   "cell_type": "code",
   "execution_count": 4,
   "id": "c72ce1cd",
   "metadata": {},
   "outputs": [
    {
     "data": {
      "image/png": "[encoded data removed]",
      "text/plain": [
       "<Figure size 900x300 with 1 Axes>"
      ]
     },
     "metadata": {},
     "output_type": "display_data"
    }
   ],
   "source": [
    "# Plot time series partition\n",
    "# ==============================================================================\n",
    "fig, ax = plt.subplots(figsize=(9, 3))\n",
    "data_train['Demand'].plot(label='train', ax=ax)\n",
    "data_val['Demand'].plot(label='validation', ax=ax)\n",
    "data_test['Demand'].plot(label='test', ax=ax)\n",
    "ax.yaxis.set_major_formatter(ticker.EngFormatter())\n",
    "ax.set_ylim(bottom=160_000)\n",
    "ax.set_ylabel('MW')\n",
    "ax.set_xlabel('')\n",
    "ax.set_title('Energy demand')\n",
    "ax.legend();"
   ]
  },
  {
   "attachments": {},
   "cell_type": "markdown",
   "id": "e0a4060e",
   "metadata": {},
   "source": [
    "## Probabilistic forecasting"
   ]
  },
  {
   "cell_type": "code",
   "execution_count": 5,
   "id": "69208dde",
   "metadata": {},
   "outputs": [
    {
     "data": {
      "text/plain": [
       "================= \n",
       "ForecasterAutoreg \n",
       "================= \n",
       "Regressor: LGBMRegressor(learning_rate=0.01, max_depth=10, n_estimators=500,\n",
       "              random_state=123) \n",
       "Lags: [1 2 3 4 5 6 7] \n",
       "Transformer for y: None \n",
       "Transformer for exog: None \n",
       "Window size: 7 \n",
       "Weight function included: False \n",
       "Exogenous included: False \n",
       "Type of exogenous variable: None \n",
       "Exogenous variables names: None \n",
       "Training range: [Timestamp('2014-01-01 00:00:00'), Timestamp('2014-09-30 00:00:00')] \n",
       "Training index type: DatetimeIndex \n",
       "Training index frequency: D \n",
       "Regressor parameters: {'boosting_type': 'gbdt', 'class_weight': None, 'colsample_bytree': 1.0, 'importance_type': 'split', 'learning_rate': 0.01, 'max_depth': 10, 'min_child_samples': 20, 'min_child_weight': 0.001, 'min_split_gain': 0.0, 'n_estimators': 500, 'n_jobs': -1, 'num_leaves': 31, 'objective': None, 'random_state': 123, 'reg_alpha': 0.0, 'reg_lambda': 0.0, 'silent': 'warn', 'subsample': 1.0, 'subsample_for_bin': 200000, 'subsample_freq': 0} \n",
       "fit_kwargs: {} \n",
       "Creation date: 2023-06-28 08:54:48 \n",
       "Last fit date: 2023-06-28 08:54:48 \n",
       "Skforecast version: 0.9.0 \n",
       "Python version: 3.10.11 \n",
       "Forecaster id: None "
      ]
     },
     "execution_count": 5,
     "metadata": {},
     "output_type": "execute_result"
    }
   ],
   "source": [
    "# Create and train a ForecasterAutoreg\n",
    "# ==============================================================================\n",
    "forecaster = ForecasterAutoreg(\n",
    "                 regressor = LGBMRegressor(\n",
    "                                 learning_rate = 0.01,\n",
    "                                 max_depth     = 10,\n",
    "                                 n_estimators  = 500,\n",
    "                                 random_state  = 123\n",
    "                             ),\n",
    "                 lags      = 7\n",
    "             )\n",
    "\n",
    "forecaster.fit(y=data.loc[end_train:end_validation, 'Demand'])\n",
    "forecaster"
   ]
  },
  {
   "attachments": {},
   "cell_type": "markdown",
   "id": "f4a4b905",
   "metadata": {},
   "source": [
    "### Predict Bootstraping\n",
    "\n",
    "Once the Forecaster has been trained, the method `predict_bootstraping` can be use to simulate `n_boot` values of the forecasting distribution."
   ]
  },
  {
   "cell_type": "code",
   "execution_count": 6,
   "id": "d8e8b24b",
   "metadata": {},
   "outputs": [
    {
     "data": {
      "text/html": [
       "<div>\n",
       "<style scoped>\n",
       "    .dataframe tbody tr th:only-of-type {\n",
       "        vertical-align: middle;\n",
       "    }\n",
       "\n",
       "    .dataframe tbody tr th {\n",
       "        vertical-align: top;\n",
       "    }\n",
       "\n",
       "    .dataframe thead th {\n",
       "        text-align: right;\n",
       "    }\n",
       "</style>\n",
       "<table border=\"1\" class=\"dataframe\">\n",
       "  <thead>\n",
       "    <tr style=\"text-align: right;\">\n",
       "      <th></th>\n",
       "      <th>pred_boot_0</th>\n",
       "      <th>pred_boot_1</th>\n",
       "      <th>pred_boot_2</th>\n",
       "      <th>pred_boot_3</th>\n",
       "      <th>pred_boot_4</th>\n",
       "      <th>pred_boot_5</th>\n",
       "      <th>pred_boot_6</th>\n",
       "      <th>pred_boot_7</th>\n",
       "      <th>pred_boot_8</th>\n",
       "      <th>pred_boot_9</th>\n",
       "    </tr>\n",
       "  </thead>\n",
       "  <tbody>\n",
       "    <tr>\n",
       "      <th>2014-10-01</th>\n",
       "      <td>208783.097577</td>\n",
       "      <td>204764.999003</td>\n",
       "      <td>201367.203420</td>\n",
       "      <td>212280.661192</td>\n",
       "      <td>204622.100582</td>\n",
       "      <td>202889.246579</td>\n",
       "      <td>210078.609982</td>\n",
       "      <td>210151.742392</td>\n",
       "      <td>200990.348257</td>\n",
       "      <td>203137.232359</td>\n",
       "    </tr>\n",
       "    <tr>\n",
       "      <th>2014-10-02</th>\n",
       "      <td>212340.130913</td>\n",
       "      <td>208320.030667</td>\n",
       "      <td>217221.147681</td>\n",
       "      <td>209996.152477</td>\n",
       "      <td>218464.949614</td>\n",
       "      <td>212545.697772</td>\n",
       "      <td>212061.596039</td>\n",
       "      <td>216579.376162</td>\n",
       "      <td>226902.326444</td>\n",
       "      <td>212847.017644</td>\n",
       "    </tr>\n",
       "    <tr>\n",
       "      <th>2014-10-03</th>\n",
       "      <td>221380.131363</td>\n",
       "      <td>223890.630246</td>\n",
       "      <td>224625.204840</td>\n",
       "      <td>207260.018970</td>\n",
       "      <td>206099.826214</td>\n",
       "      <td>288939.369743</td>\n",
       "      <td>220085.831843</td>\n",
       "      <td>229514.853352</td>\n",
       "      <td>230476.360893</td>\n",
       "      <td>224059.729506</td>\n",
       "    </tr>\n",
       "    <tr>\n",
       "      <th>2014-10-04</th>\n",
       "      <td>209943.773973</td>\n",
       "      <td>212946.528553</td>\n",
       "      <td>200027.296792</td>\n",
       "      <td>203592.696069</td>\n",
       "      <td>194120.730680</td>\n",
       "      <td>262225.653280</td>\n",
       "      <td>212516.896678</td>\n",
       "      <td>222042.271003</td>\n",
       "      <td>215236.033624</td>\n",
       "      <td>222487.580478</td>\n",
       "    </tr>\n",
       "    <tr>\n",
       "      <th>2014-10-05</th>\n",
       "      <td>193372.607408</td>\n",
       "      <td>177195.227257</td>\n",
       "      <td>194351.934752</td>\n",
       "      <td>206606.909536</td>\n",
       "      <td>202654.435499</td>\n",
       "      <td>297740.735825</td>\n",
       "      <td>192454.576530</td>\n",
       "      <td>199372.141645</td>\n",
       "      <td>208527.690318</td>\n",
       "      <td>197830.624380</td>\n",
       "    </tr>\n",
       "    <tr>\n",
       "      <th>2014-10-06</th>\n",
       "      <td>199626.367544</td>\n",
       "      <td>203338.054671</td>\n",
       "      <td>207145.334747</td>\n",
       "      <td>208993.695577</td>\n",
       "      <td>204766.177714</td>\n",
       "      <td>258050.416951</td>\n",
       "      <td>184903.916795</td>\n",
       "      <td>201473.420885</td>\n",
       "      <td>204790.425542</td>\n",
       "      <td>183312.907014</td>\n",
       "    </tr>\n",
       "    <tr>\n",
       "      <th>2014-10-07</th>\n",
       "      <td>201546.003371</td>\n",
       "      <td>212477.910879</td>\n",
       "      <td>209639.468951</td>\n",
       "      <td>204102.852012</td>\n",
       "      <td>225036.945159</td>\n",
       "      <td>257847.869040</td>\n",
       "      <td>197235.769115</td>\n",
       "      <td>196990.134684</td>\n",
       "      <td>200007.936217</td>\n",
       "      <td>207116.299541</td>\n",
       "    </tr>\n",
       "  </tbody>\n",
       "</table>\n",
       "</div>"
      ],
      "text/plain": [
       "              pred_boot_0    pred_boot_1    pred_boot_2    pred_boot_3  \\\n",
       "2014-10-01  208783.097577  204764.999003  201367.203420  212280.661192   \n",
       "2014-10-02  212340.130913  208320.030667  217221.147681  209996.152477   \n",
       "2014-10-03  221380.131363  223890.630246  224625.204840  207260.018970   \n",
       "2014-10-04  209943.773973  212946.528553  200027.296792  203592.696069   \n",
       "2014-10-05  193372.607408  177195.227257  194351.934752  206606.909536   \n",
       "2014-10-06  199626.367544  203338.054671  207145.334747  208993.695577   \n",
       "2014-10-07  201546.003371  212477.910879  209639.468951  204102.852012   \n",
       "\n",
       "              pred_boot_4    pred_boot_5    pred_boot_6    pred_boot_7  \\\n",
       "2014-10-01  204622.100582  202889.246579  210078.609982  210151.742392   \n",
       "2014-10-02  218464.949614  212545.697772  212061.596039  216579.376162   \n",
       "2014-10-03  206099.826214  288939.369743  220085.831843  229514.853352   \n",
       "2014-10-04  194120.730680  262225.653280  212516.896678  222042.271003   \n",
       "2014-10-05  202654.435499  297740.735825  192454.576530  199372.141645   \n",
       "2014-10-06  204766.177714  258050.416951  184903.916795  201473.420885   \n",
       "2014-10-07  225036.945159  257847.869040  197235.769115  196990.134684   \n",
       "\n",
       "              pred_boot_8    pred_boot_9  \n",
       "2014-10-01  200990.348257  203137.232359  \n",
       "2014-10-02  226902.326444  212847.017644  \n",
       "2014-10-03  230476.360893  224059.729506  \n",
       "2014-10-04  215236.033624  222487.580478  \n",
       "2014-10-05  208527.690318  197830.624380  \n",
       "2014-10-06  204790.425542  183312.907014  \n",
       "2014-10-07  200007.936217  207116.299541  "
      ]
     },
     "execution_count": 6,
     "metadata": {},
     "output_type": "execute_result"
    }
   ],
   "source": [
    "# Predict 10 different forecasting sequences of 7 steps each using bootstrapping\n",
    "# ==============================================================================\n",
    "boot_predictions = forecaster.predict_bootstrapping(steps=7, n_boot=10)\n",
    "boot_predictions"
   ]
  },
  {
   "attachments": {},
   "cell_type": "markdown",
   "id": "e77a37e0",
   "metadata": {},
   "source": [
    "Using a [ridge plot](https://www.data-to-viz.com/graph/ridgeline.html) is a useful way to visualize the uncertainty of a forecasting model. This plot estimates a kernel density for each step by using the bootstrapped predictions."
   ]
  },
  {
   "cell_type": "code",
   "execution_count": 7,
   "id": "1e5914ec",
   "metadata": {},
   "outputs": [
    {
     "data": {
      "image/png": "[encoded data removed]",
      "text/plain": [
       "<Figure size 500x400 with 7 Axes>"
      ]
     },
     "metadata": {},
     "output_type": "display_data"
    }
   ],
   "source": [
    "# Ridge plot of bootstrapping predictions\n",
    "# ==============================================================================\n",
    "_ = plot_prediction_distribution(boot_predictions, figsize=(5, 4))"
   ]
  },
  {
   "attachments": {},
   "cell_type": "markdown",
   "id": "2e523377",
   "metadata": {},
   "source": [
    "### Predict Interval\n",
    "\n",
    "In most cases, the user is interested in a specific interval rather than the entire bootstrapping simulation matrix. To address this need, skforecast provides the `predict_interval` method. This method internally uses `predict_bootstrapping` to obtain the bootstrapping matrix and estimates the upper and lower quantiles for each step, thus providing the user with the desired prediction intervals."
   ]
  },
  {
   "cell_type": "code",
   "execution_count": 8,
   "id": "5c8c4c52",
   "metadata": {},
   "outputs": [
    {
     "data": {
      "text/html": [
       "<div>\n",
       "<style scoped>\n",
       "    .dataframe tbody tr th:only-of-type {\n",
       "        vertical-align: middle;\n",
       "    }\n",
       "\n",
       "    .dataframe tbody tr th {\n",
       "        vertical-align: top;\n",
       "    }\n",
       "\n",
       "    .dataframe thead th {\n",
       "        text-align: right;\n",
       "    }\n",
       "</style>\n",
       "<table border=\"1\" class=\"dataframe\">\n",
       "  <thead>\n",
       "    <tr style=\"text-align: right;\">\n",
       "      <th></th>\n",
       "      <th>pred</th>\n",
       "      <th>lower_bound</th>\n",
       "      <th>upper_bound</th>\n",
       "    </tr>\n",
       "  </thead>\n",
       "  <tbody>\n",
       "    <tr>\n",
       "      <th>2014-10-01</th>\n",
       "      <td>205723.923923</td>\n",
       "      <td>195483.862851</td>\n",
       "      <td>214883.472075</td>\n",
       "    </tr>\n",
       "    <tr>\n",
       "      <th>2014-10-02</th>\n",
       "      <td>215167.163121</td>\n",
       "      <td>204160.738452</td>\n",
       "      <td>225623.750301</td>\n",
       "    </tr>\n",
       "    <tr>\n",
       "      <th>2014-10-03</th>\n",
       "      <td>225144.443075</td>\n",
       "      <td>212599.136391</td>\n",
       "      <td>237675.514362</td>\n",
       "    </tr>\n",
       "    <tr>\n",
       "      <th>2014-10-04</th>\n",
       "      <td>211406.440681</td>\n",
       "      <td>196863.841123</td>\n",
       "      <td>234950.293307</td>\n",
       "    </tr>\n",
       "    <tr>\n",
       "      <th>2014-10-05</th>\n",
       "      <td>194848.766987</td>\n",
       "      <td>185544.868289</td>\n",
       "      <td>225497.131653</td>\n",
       "    </tr>\n",
       "    <tr>\n",
       "      <th>2014-10-06</th>\n",
       "      <td>201901.819903</td>\n",
       "      <td>188334.486578</td>\n",
       "      <td>226720.998742</td>\n",
       "    </tr>\n",
       "    <tr>\n",
       "      <th>2014-10-07</th>\n",
       "      <td>208648.526025</td>\n",
       "      <td>191797.716429</td>\n",
       "      <td>231948.852094</td>\n",
       "    </tr>\n",
       "  </tbody>\n",
       "</table>\n",
       "</div>"
      ],
      "text/plain": [
       "                     pred    lower_bound    upper_bound\n",
       "2014-10-01  205723.923923  195483.862851  214883.472075\n",
       "2014-10-02  215167.163121  204160.738452  225623.750301\n",
       "2014-10-03  225144.443075  212599.136391  237675.514362\n",
       "2014-10-04  211406.440681  196863.841123  234950.293307\n",
       "2014-10-05  194848.766987  185544.868289  225497.131653\n",
       "2014-10-06  201901.819903  188334.486578  226720.998742\n",
       "2014-10-07  208648.526025  191797.716429  231948.852094"
      ]
     },
     "execution_count": 8,
     "metadata": {},
     "output_type": "execute_result"
    }
   ],
   "source": [
    "# Predict intervals for next 7 steps, quantiles 10th and 90th\n",
    "# ==============================================================================\n",
    "predictions = forecaster.predict_interval(steps=7, interval=[10, 90], n_boot=1000)\n",
    "predictions"
   ]
  },
  {
   "attachments": {},
   "cell_type": "markdown",
   "id": "54e2699d",
   "metadata": {},
   "source": [
    "### Predict Distribution\n",
    "\n",
    "The intervals estimated so far are distribution-free, which means that no assumptions are made about a particular distribution. The `predict_dist` method in skforecast allows fitting a parametric distribution to the bootstrapped prediction samples obtained with `predict_bootstrapping`. This is useful when there is reason to believe that the forecast errors follow a particular distribution, such as the normal distribution or the student's t-distribution. The `predict_dist` method allows the user to specify any continuous distribution from the [scipy.stats](https://docs.scipy.org/doc/scipy/reference/stats.html#continuous-distributions) module."
   ]
  },
  {
   "cell_type": "code",
   "execution_count": 9,
   "id": "e4c22136",
   "metadata": {},
   "outputs": [
    {
     "data": {
      "text/html": [
       "<div>\n",
       "<style scoped>\n",
       "    .dataframe tbody tr th:only-of-type {\n",
       "        vertical-align: middle;\n",
       "    }\n",
       "\n",
       "    .dataframe tbody tr th {\n",
       "        vertical-align: top;\n",
       "    }\n",
       "\n",
       "    .dataframe thead th {\n",
       "        text-align: right;\n",
       "    }\n",
       "</style>\n",
       "<table border=\"1\" class=\"dataframe\">\n",
       "  <thead>\n",
       "    <tr style=\"text-align: right;\">\n",
       "      <th></th>\n",
       "      <th>loc</th>\n",
       "      <th>scale</th>\n",
       "    </tr>\n",
       "  </thead>\n",
       "  <tbody>\n",
       "    <tr>\n",
       "      <th>2014-10-01</th>\n",
       "      <td>205374.632063</td>\n",
       "      <td>12290.061732</td>\n",
       "    </tr>\n",
       "    <tr>\n",
       "      <th>2014-10-02</th>\n",
       "      <td>215791.488070</td>\n",
       "      <td>13607.935838</td>\n",
       "    </tr>\n",
       "    <tr>\n",
       "      <th>2014-10-03</th>\n",
       "      <td>225631.039103</td>\n",
       "      <td>14206.970100</td>\n",
       "    </tr>\n",
       "    <tr>\n",
       "      <th>2014-10-04</th>\n",
       "      <td>215210.987777</td>\n",
       "      <td>18980.776421</td>\n",
       "    </tr>\n",
       "    <tr>\n",
       "      <th>2014-10-05</th>\n",
       "      <td>202613.715687</td>\n",
       "      <td>19980.302998</td>\n",
       "    </tr>\n",
       "    <tr>\n",
       "      <th>2014-10-06</th>\n",
       "      <td>205391.493409</td>\n",
       "      <td>19779.732794</td>\n",
       "    </tr>\n",
       "    <tr>\n",
       "      <th>2014-10-07</th>\n",
       "      <td>208579.269999</td>\n",
       "      <td>18950.289467</td>\n",
       "    </tr>\n",
       "  </tbody>\n",
       "</table>\n",
       "</div>"
      ],
      "text/plain": [
       "                      loc         scale\n",
       "2014-10-01  205374.632063  12290.061732\n",
       "2014-10-02  215791.488070  13607.935838\n",
       "2014-10-03  225631.039103  14206.970100\n",
       "2014-10-04  215210.987777  18980.776421\n",
       "2014-10-05  202613.715687  19980.302998\n",
       "2014-10-06  205391.493409  19779.732794\n",
       "2014-10-07  208579.269999  18950.289467"
      ]
     },
     "execution_count": 9,
     "metadata": {},
     "output_type": "execute_result"
    }
   ],
   "source": [
    "# Predict the parameters of a normal distribution for the next 7 steps\n",
    "# ==============================================================================\n",
    "from scipy.stats import norm\n",
    "\n",
    "predictions = forecaster.predict_dist(steps=7, distribution=norm, n_boot=1000)\n",
    "predictions"
   ]
  },
  {
   "attachments": {},
   "cell_type": "markdown",
   "id": "8125d498",
   "metadata": {},
   "source": [
    "## Backtesting with prediction intervals\n",
    "\n",
    "A backtesting process can be applied to evaluate the performance of the forecaster over a period of time, for example on test data, and calculate the actual coverage of the estimated range."
   ]
  },
  {
   "cell_type": "code",
   "execution_count": 10,
   "id": "fd5fcb7a",
   "metadata": {},
   "outputs": [
    {
     "data": {
      "application/vnd.jupyter.widget-view+json": {
       "model_id": "2563dc55fcf3450cb9a845bf217abe79",
       "version_major": 2,
       "version_minor": 0
      },
      "text/plain": [
       "  0%|          | 0/13 [00:00<?, ?it/s]"
      ]
     },
     "metadata": {},
     "output_type": "display_data"
    },
    {
     "data": {
      "text/html": [
       "<div>\n",
       "<style scoped>\n",
       "    .dataframe tbody tr th:only-of-type {\n",
       "        vertical-align: middle;\n",
       "    }\n",
       "\n",
       "    .dataframe tbody tr th {\n",
       "        vertical-align: top;\n",
       "    }\n",
       "\n",
       "    .dataframe thead th {\n",
       "        text-align: right;\n",
       "    }\n",
       "</style>\n",
       "<table border=\"1\" class=\"dataframe\">\n",
       "  <thead>\n",
       "    <tr style=\"text-align: right;\">\n",
       "      <th></th>\n",
       "      <th>pred</th>\n",
       "      <th>lower_bound</th>\n",
       "      <th>upper_bound</th>\n",
       "    </tr>\n",
       "  </thead>\n",
       "  <tbody>\n",
       "    <tr>\n",
       "      <th>2014-10-01</th>\n",
       "      <td>223264.432587</td>\n",
       "      <td>214633.692784</td>\n",
       "      <td>231376.785240</td>\n",
       "    </tr>\n",
       "    <tr>\n",
       "      <th>2014-10-02</th>\n",
       "      <td>233596.210854</td>\n",
       "      <td>223051.862727</td>\n",
       "      <td>244752.538248</td>\n",
       "    </tr>\n",
       "    <tr>\n",
       "      <th>2014-10-03</th>\n",
       "      <td>242653.671597</td>\n",
       "      <td>226947.654906</td>\n",
       "      <td>258361.695192</td>\n",
       "    </tr>\n",
       "    <tr>\n",
       "      <th>2014-10-04</th>\n",
       "      <td>220842.603128</td>\n",
       "      <td>209967.438912</td>\n",
       "      <td>236404.408845</td>\n",
       "    </tr>\n",
       "  </tbody>\n",
       "</table>\n",
       "</div>"
      ],
      "text/plain": [
       "                     pred    lower_bound    upper_bound\n",
       "2014-10-01  223264.432587  214633.692784  231376.785240\n",
       "2014-10-02  233596.210854  223051.862727  244752.538248\n",
       "2014-10-03  242653.671597  226947.654906  258361.695192\n",
       "2014-10-04  220842.603128  209967.438912  236404.408845"
      ]
     },
     "execution_count": 10,
     "metadata": {},
     "output_type": "execute_result"
    }
   ],
   "source": [
    "# Backtesting on test data \n",
    "# ==============================================================================\n",
    "metric, predictions = backtesting_forecaster(\n",
    "                          forecaster            = forecaster,\n",
    "                          y                     = data['Demand'],\n",
    "                          steps                 = 7,\n",
    "                          metric                = 'mean_squared_error',\n",
    "                          initial_train_size    = len(data_train) + len(data_val),\n",
    "                          fixed_train_size      = True,\n",
    "                          gap                   = 0,\n",
    "                          allow_incomplete_fold = True,\n",
    "                          refit                 = True,\n",
    "                          interval              = [10, 90],\n",
    "                          n_boot                = 1000,\n",
    "                          random_state          = 123,\n",
    "                          verbose               = False,\n",
    "                          show_progress         = True\n",
    "                      )\n",
    "predictions.head(4)"
   ]
  },
  {
   "cell_type": "code",
   "execution_count": 11,
   "id": "a09e70e1",
   "metadata": {},
   "outputs": [
    {
     "data": {
      "image/png": "[encoded data removed]",
      "text/plain": [
       "<Figure size 700x300 with 1 Axes>"
      ]
     },
     "metadata": {},
     "output_type": "display_data"
    }
   ],
   "source": [
    "# Plot\n",
    "# ==============================================================================\n",
    "fig, ax = plt.subplots(figsize=(7, 3))\n",
    "data.loc[end_validation:, 'Demand'].plot(ax=ax, label='Demand')\n",
    "ax.fill_between(\n",
    "    predictions.index,\n",
    "    predictions['lower_bound'],\n",
    "    predictions['upper_bound'],\n",
    "    color = 'deepskyblue',\n",
    "    alpha = 0.3,\n",
    "    label = '80% interval'\n",
    ")\n",
    "ax.yaxis.set_major_formatter(ticker.EngFormatter())\n",
    "ax.set_ylabel('MW')\n",
    "ax.set_xlabel('')\n",
    "ax.set_title('Energy demand forecast')\n",
    "ax.legend();"
   ]
  },
  {
   "cell_type": "code",
   "execution_count": 12,
   "id": "fc40c06b",
   "metadata": {},
   "outputs": [
    {
     "name": "stdout",
     "output_type": "stream",
     "text": [
      "Coverage of the predicted interval on test data: 65.93406593406593\n"
     ]
    }
   ],
   "source": [
    "# Interval coverage on test data\n",
    "# ==============================================================================\n",
    "inside_interval = np.where(\n",
    "                      (data.loc[predictions.index, 'Demand'] >= predictions['lower_bound']) & \\\n",
    "                      (data.loc[predictions.index, 'Demand'] <= predictions['upper_bound']),\n",
    "                      True,\n",
    "                      False\n",
    "                  )\n",
    "\n",
    "coverage = inside_interval.mean()\n",
    "print(f\"Coverage of the predicted interval on test data: {100 * coverage}\")"
   ]
  },
  {
   "attachments": {},
   "cell_type": "markdown",
   "id": "ab1f998d",
   "metadata": {},
   "source": [
    "The coverage of the predicted interval is much lower than expected (80%)."
   ]
  },
  {
   "attachments": {},
   "cell_type": "markdown",
   "id": "7c6877f0",
   "metadata": {},
   "source": [
    "## Prediction with out-sample residuals\n",
    "\n",
    "By default, the training residuals are used to create the prediction intervals. However, this is not the most recommended option as the estimated interval tends to be too narrow. This is because the model's performance on training data is usually better than on new observations, leading to smaller residuals and, in turn, narrower prediction intervals.\n",
    "\n",
    "To overcome this issue, it is advisable to use other residuals, such as those obtained from a validation set. This can be achieved by storing the new residuals inside the forecaster using the `set_out_sample_residuals` method."
   ]
  },
  {
   "cell_type": "code",
   "execution_count": 13,
   "id": "1a00c633",
   "metadata": {},
   "outputs": [
    {
     "data": {
      "application/vnd.jupyter.widget-view+json": {
       "model_id": "e914b04a79a045ffb90b9fc2c06bc596",
       "version_major": 2,
       "version_minor": 0
      },
      "text/plain": [
       "  0%|          | 0/39 [00:00<?, ?it/s]"
      ]
     },
     "metadata": {},
     "output_type": "display_data"
    },
    {
     "data": {
      "text/plain": [
       "array([-16084.02669559, -14168.47600418,  -4416.31618072, -15101.78356121,\n",
       "       -31133.70782794])"
      ]
     },
     "execution_count": 13,
     "metadata": {},
     "output_type": "execute_result"
    }
   ],
   "source": [
    "# Backtesting using validation data\n",
    "# ==============================================================================\n",
    "metric, backtest_predictions = backtesting_forecaster(\n",
    "                                   forecaster         = forecaster,\n",
    "                                   y                  = data.loc[:end_validation, 'Demand'],\n",
    "                                   initial_train_size = len(data_train),\n",
    "                                   steps              = 7,\n",
    "                                   refit              = True,\n",
    "                                   metric             = 'mean_squared_error',\n",
    "                                   verbose            = False,\n",
    "                                   show_progress      = True\n",
    "                               )\n",
    "\n",
    "# Calculate residuals in validation data\n",
    "# ==============================================================================\n",
    "residuals = (data_val['Demand'] - backtest_predictions['pred']).to_numpy()\n",
    "residuals[:5]"
   ]
  },
  {
   "attachments": {},
   "cell_type": "markdown",
   "id": "f2bed8f2",
   "metadata": {},
   "source": [
    "Once the residuals of the validation set are calculated, they can be stored inside the forecaster. This allows the forecaster to use the out-of-sample residuals for prediction interval calculation instead of the default in-sample residuals. By doing so, the estimated prediction intervals will be less optimistic and more representative of the performance of the model on new observations."
   ]
  },
  {
   "cell_type": "code",
   "execution_count": 14,
   "id": "39943563",
   "metadata": {},
   "outputs": [],
   "source": [
    "# Set out-sample residuals\n",
    "# ==============================================================================\n",
    "forecaster.set_out_sample_residuals(residuals=residuals)"
   ]
  },
  {
   "attachments": {},
   "cell_type": "markdown",
   "id": "b5360cc8",
   "metadata": {},
   "source": [
    "Once the new residuals have been added to the forecaster, use `in_sample_residuals = False` when calling the prediction methods."
   ]
  },
  {
   "cell_type": "code",
   "execution_count": 15,
   "id": "8820e046",
   "metadata": {},
   "outputs": [
    {
     "data": {
      "text/html": [
       "<div>\n",
       "<style scoped>\n",
       "    .dataframe tbody tr th:only-of-type {\n",
       "        vertical-align: middle;\n",
       "    }\n",
       "\n",
       "    .dataframe tbody tr th {\n",
       "        vertical-align: top;\n",
       "    }\n",
       "\n",
       "    .dataframe thead th {\n",
       "        text-align: right;\n",
       "    }\n",
       "</style>\n",
       "<table border=\"1\" class=\"dataframe\">\n",
       "  <thead>\n",
       "    <tr style=\"text-align: right;\">\n",
       "      <th></th>\n",
       "      <th>pred</th>\n",
       "      <th>lower_bound</th>\n",
       "      <th>upper_bound</th>\n",
       "    </tr>\n",
       "  </thead>\n",
       "  <tbody>\n",
       "    <tr>\n",
       "      <th>2014-10-01</th>\n",
       "      <td>205723.923923</td>\n",
       "      <td>186442.948366</td>\n",
       "      <td>219301.240056</td>\n",
       "    </tr>\n",
       "    <tr>\n",
       "      <th>2014-10-02</th>\n",
       "      <td>215167.163121</td>\n",
       "      <td>193309.527919</td>\n",
       "      <td>237664.343916</td>\n",
       "    </tr>\n",
       "    <tr>\n",
       "      <th>2014-10-03</th>\n",
       "      <td>225144.443075</td>\n",
       "      <td>202621.185338</td>\n",
       "      <td>248592.853063</td>\n",
       "    </tr>\n",
       "    <tr>\n",
       "      <th>2014-10-04</th>\n",
       "      <td>211406.440681</td>\n",
       "      <td>190686.942976</td>\n",
       "      <td>252492.488196</td>\n",
       "    </tr>\n",
       "    <tr>\n",
       "      <th>2014-10-05</th>\n",
       "      <td>194848.766987</td>\n",
       "      <td>182470.870866</td>\n",
       "      <td>246304.519999</td>\n",
       "    </tr>\n",
       "    <tr>\n",
       "      <th>2014-10-06</th>\n",
       "      <td>201901.819903</td>\n",
       "      <td>183721.031607</td>\n",
       "      <td>243358.781198</td>\n",
       "    </tr>\n",
       "    <tr>\n",
       "      <th>2014-10-07</th>\n",
       "      <td>208648.526025</td>\n",
       "      <td>183541.873516</td>\n",
       "      <td>244359.947649</td>\n",
       "    </tr>\n",
       "  </tbody>\n",
       "</table>\n",
       "</div>"
      ],
      "text/plain": [
       "                     pred    lower_bound    upper_bound\n",
       "2014-10-01  205723.923923  186442.948366  219301.240056\n",
       "2014-10-02  215167.163121  193309.527919  237664.343916\n",
       "2014-10-03  225144.443075  202621.185338  248592.853063\n",
       "2014-10-04  211406.440681  190686.942976  252492.488196\n",
       "2014-10-05  194848.766987  182470.870866  246304.519999\n",
       "2014-10-06  201901.819903  183721.031607  243358.781198\n",
       "2014-10-07  208648.526025  183541.873516  244359.947649"
      ]
     },
     "execution_count": 15,
     "metadata": {},
     "output_type": "execute_result"
    }
   ],
   "source": [
    "# Predict intervals using out-sample residuals\n",
    "# ==============================================================================\n",
    "predictions = forecaster.predict_interval(\n",
    "                  steps               = 7, \n",
    "                  interval            = [10, 90], \n",
    "                  n_boot              = 1000,\n",
    "                  in_sample_residuals = False\n",
    "              )\n",
    "\n",
    "predictions"
   ]
  },
  {
   "attachments": {},
   "cell_type": "markdown",
   "id": "55989969",
   "metadata": {},
   "source": [
    "Also, a backtesting process can be applied to the test data with `in_sample_residuals = False` to use the out-of-sample residuals in the interval estimation."
   ]
  },
  {
   "cell_type": "code",
   "execution_count": 16,
   "id": "0b7f3285",
   "metadata": {},
   "outputs": [
    {
     "data": {
      "application/vnd.jupyter.widget-view+json": {
       "model_id": "05a5951fb2cf4f52966ea53fad7845df",
       "version_major": 2,
       "version_minor": 0
      },
      "text/plain": [
       "  0%|          | 0/13 [00:00<?, ?it/s]"
      ]
     },
     "metadata": {},
     "output_type": "display_data"
    },
    {
     "data": {
      "text/html": [
       "<div>\n",
       "<style scoped>\n",
       "    .dataframe tbody tr th:only-of-type {\n",
       "        vertical-align: middle;\n",
       "    }\n",
       "\n",
       "    .dataframe tbody tr th {\n",
       "        vertical-align: top;\n",
       "    }\n",
       "\n",
       "    .dataframe thead th {\n",
       "        text-align: right;\n",
       "    }\n",
       "</style>\n",
       "<table border=\"1\" class=\"dataframe\">\n",
       "  <thead>\n",
       "    <tr style=\"text-align: right;\">\n",
       "      <th></th>\n",
       "      <th>pred</th>\n",
       "      <th>lower_bound</th>\n",
       "      <th>upper_bound</th>\n",
       "    </tr>\n",
       "  </thead>\n",
       "  <tbody>\n",
       "    <tr>\n",
       "      <th>2014-10-01</th>\n",
       "      <td>223264.432587</td>\n",
       "      <td>203983.457029</td>\n",
       "      <td>236841.748720</td>\n",
       "    </tr>\n",
       "    <tr>\n",
       "      <th>2014-10-02</th>\n",
       "      <td>233596.210854</td>\n",
       "      <td>207273.919217</td>\n",
       "      <td>255429.172682</td>\n",
       "    </tr>\n",
       "    <tr>\n",
       "      <th>2014-10-03</th>\n",
       "      <td>242653.671597</td>\n",
       "      <td>211668.258043</td>\n",
       "      <td>265757.229322</td>\n",
       "    </tr>\n",
       "    <tr>\n",
       "      <th>2014-10-04</th>\n",
       "      <td>220842.603128</td>\n",
       "      <td>195869.206779</td>\n",
       "      <td>245921.530106</td>\n",
       "    </tr>\n",
       "  </tbody>\n",
       "</table>\n",
       "</div>"
      ],
      "text/plain": [
       "                     pred    lower_bound    upper_bound\n",
       "2014-10-01  223264.432587  203983.457029  236841.748720\n",
       "2014-10-02  233596.210854  207273.919217  255429.172682\n",
       "2014-10-03  242653.671597  211668.258043  265757.229322\n",
       "2014-10-04  220842.603128  195869.206779  245921.530106"
      ]
     },
     "execution_count": 16,
     "metadata": {},
     "output_type": "execute_result"
    }
   ],
   "source": [
    "# Backtesting using test data and out-sample residuals\n",
    "# ==============================================================================\n",
    "metric, predictions_2 = backtesting_forecaster(\n",
    "                            forecaster          = forecaster,\n",
    "                            y                   = data['Demand'],\n",
    "                            initial_train_size  = len(data_train) + len(data_val),\n",
    "                            steps               = 7,\n",
    "                            refit               = True,\n",
    "                            interval            = [10, 90],\n",
    "                            n_boot              = 1000,\n",
    "                            in_sample_residuals = False,\n",
    "                            random_state        = 123,\n",
    "                            metric              = 'mean_squared_error',\n",
    "                            verbose             = False,\n",
    "                            show_progress       = True\n",
    "                        )\n",
    "\n",
    "predictions_2.head(4)"
   ]
  },
  {
   "cell_type": "code",
   "execution_count": 17,
   "id": "fb2c9098",
   "metadata": {},
   "outputs": [
    {
     "data": {
      "image/png": "[encoded data removed]",
      "text/plain": [
       "<Figure size 700x300 with 1 Axes>"
      ]
     },
     "metadata": {},
     "output_type": "display_data"
    }
   ],
   "source": [
    "# Plot\n",
    "# ==============================================================================\n",
    "fig, ax = plt.subplots(figsize=(7, 3))\n",
    "data.loc[end_validation:, 'Demand'].plot(ax=ax, label='Demand')\n",
    "ax.fill_between(\n",
    "    predictions.index,\n",
    "    predictions['lower_bound'],\n",
    "    predictions['upper_bound'],\n",
    "    color = 'orange',\n",
    "    alpha = 0.3,\n",
    "    label = '80% interval in-sample residuals'\n",
    ")\n",
    "ax.fill_between(\n",
    "    predictions_2.index,\n",
    "    predictions_2['lower_bound'],\n",
    "    predictions_2['upper_bound'],\n",
    "    color = 'deepskyblue',\n",
    "    alpha = 0.3,\n",
    "    label = '80% interval out-sample residuals'\n",
    ")\n",
    "ax.yaxis.set_major_formatter(ticker.EngFormatter())\n",
    "ax.set_ylabel('MW')\n",
    "ax.set_xlabel('')\n",
    "ax.set_title('Energy demand forecast')\n",
    "ax.legend(fontsize=10);"
   ]
  },
  {
   "cell_type": "code",
   "execution_count": 18,
   "id": "ba790816",
   "metadata": {},
   "outputs": [
    {
     "name": "stdout",
     "output_type": "stream",
     "text": [
      "Coverage of the predicted interval on test data: 92.3076923076923\n"
     ]
    }
   ],
   "source": [
    "# Interval coverage on test data\n",
    "# ==============================================================================\n",
    "inside_interval = np.where(\n",
    "                      (data.loc[predictions_2.index, 'Demand'] >= predictions_2['lower_bound']) & \\\n",
    "                      (data.loc[predictions_2.index, 'Demand'] <= predictions_2['upper_bound']),\n",
    "                      True,\n",
    "                      False\n",
    "                  )\n",
    "\n",
    "coverage = inside_interval.mean()\n",
    "print(f\"Coverage of the predicted interval on test data: {100 * coverage}\")"
   ]
  },
  {
   "attachments": {},
   "cell_type": "markdown",
   "id": "22003e99",
   "metadata": {},
   "source": [
    "Using out-of-sample residuals, the interval coverage is much closer to that expected than when using in-sample residuals."
   ]
  },
  {
   "attachments": {},
   "cell_type": "markdown",
   "id": "14082dff",
   "metadata": {},
   "source": [
    "<script src=\"https://kit.fontawesome.com/d20edc211b.js\" crossorigin=\"anonymous\"></script>\n",
    "<div class=\"admonition note\" name=\"html-admonition\" style=\"background: rgba(0,184,212,.1); padding-top: 0px; padding-bottom: 6px; border-radius: 8px;\n",
    "border-left: 8px solid #00b8d4; border-color: #00b8d4; padding-left: 10px;\">\n",
    "<p class=\"title\">\n",
    "    <i class=\"fa-light fa-pencil fa\" style=\"font-size: 18px; color:#00b8d4;\"></i>\n",
    "    <b> &nbsp Note</b>\n",
    "</p>\n",
    "\n",
    "In the case of <code>ForecasterAutoregDirect</code>, <code>ForecasterAutoregMultiSeries</code>, <code>ForecasterAutoregMultiSeriesCustom</code> and <code>ForecasterAutoregMultiVariate</code>, the residuals must be provided using a dictionary to indicate to which step or level (series) they belong to.\n",
    "</div>"
   ]
  },
  {
   "attachments": {},
   "cell_type": "markdown",
   "id": "a56bb079",
   "metadata": {},
   "source": [
    "## Prediction intervals using quantile regression models\n",
    "\n",
    "\n",
    "As opposed to linear regression, which is intended to estimate the conditional mean of the response variable given certain values of the predictor variables, quantile regression aims at estimating the conditional quantiles of the response variable. For a continuous distribution function, the $\\alpha$-quantile $Q_{\\alpha}(x)$ is defined such that the probability of $Y$ being smaller than $Q_{\\alpha}(x)$ is, for a given $X=x$, equal to $\\alpha$. For example, 36% of the population values are lower than the quantile  $Q=0.36$. The most known quantile is the 50%-quantile, more commonly called the median.\n",
    "\n",
    "By combining the predictions of two quantile regressors, it is possible to build an interval. Each model estimates one of the limits of the interval. For example, the models obtained for $Q = 0.1$ and $Q = 0.9$ produce an 80% prediction interval (90% - 10% = 80%).\n",
    "\n",
    "Several machine learning algorithms are capable of modeling quantiles. Some of them are:\n",
    "\n",
    "+ [LightGBM](https://lightgbm.readthedocs.io/en/latest/index.html)\n",
    "\n",
    "+ [XGBoost](https://xgboost.readthedocs.io/en/stable/python/index.html)\n",
    "\n",
    "+ [CatBoost](https://catboost.ai/en/docs/concepts/python-reference_catboostregressor)\n",
    "\n",
    "+ [sklearn GradientBoostingRegressor](https://scikit-learn.org/stable/modules/generated/sklearn.ensemble.GradientBoostingRegressor.html#sklearn.ensemble.GradientBoostingRegressor)\n",
    "\n",
    "+ [sklearn QuantileRegressor](https://scikit-learn.org/stable/modules/generated/sklearn.linear_model.QuantileRegressor.html#sklearn.linear_model.QuantileRegressor)\n",
    "\n",
    "+ [skranger quantile RandomForest](https://skranger.readthedocs.io/en/stable/index.html)\n",
    "\n",
    "\n",
    "Just as the squared-error loss function is used to train models that predict the mean value, a specific loss function is needed in order to train models that predict quantiles. The most common metric used for quantile regression is calles [quantile loss  or pinball loss](https://en.wikipedia.org/wiki/Quantile_regression):\n",
    "\n",
    "\n",
    "$$\\text{pinball}(y, \\hat{y}) = \\frac{1}{n_{\\text{samples}}} \\sum_{i=0}^{n_{\\text{samples}}-1}  \\alpha \\max(y_i - \\hat{y}_i, 0) + (1 - \\alpha) \\max(\\hat{y}_i - y_i, 0)$$\n",
    "\n",
    "where $\\alpha$ is the target quantile, $y$ the real value and $\\hat{y}$ the quantile prediction.\n",
    "\n",
    "It can be seen that loss differs depending on the evaluated quantile. The higher the quantile, the more the loss function penalizes underestimates, and the less it penalizes overestimates. As with MSE and MAE, the goal is to minimize its values (the lower loss, the better).\n",
    "\n",
    "Two disadvantages of quantile regression, compared to the bootstrap approach to prediction intervals, are that each quantile needs its regressor and quantile regression is not available for all types of regression models. However, once the models are trained, the inference is much faster since no iterative process is needed.\n",
    "\n",
    "This type of prediction intervals can be easily estimated using [ForecasterAutoregDirect](https://joaquinamatrodrigo.github.io/skforecast/latest/api/ForecasterAutoregDirect.html) and [ForecasterAutoregMultiVariate](https://joaquinamatrodrigo.github.io/skforecast/latest/api/ForecasterMultiVariate.html) models."
   ]
  },
  {
   "attachments": {},
   "cell_type": "markdown",
   "id": "b6f918f3",
   "metadata": {},
   "source": [
    "### Forecasters\n",
    "\n",
    "As in the previous example, an 80% prediction interval is estimated for 7 steps-ahead predictions but, this time, using quantile regression. In this example a LightGBM gradient boosting model is trained, however, the reader can use any other model by simply substituting the regressor definition."
   ]
  },
  {
   "cell_type": "code",
   "execution_count": 19,
   "id": "ba16569b",
   "metadata": {},
   "outputs": [],
   "source": [
    "# Create forecasters: one for each bound of the interval\n",
    "# ==============================================================================\n",
    "# The forecasters obtained for alpha=0.1 and alpha=0.9 produce a 80% confidence\n",
    "# interval (90% - 10% = 80%).\n",
    "\n",
    "# Forecaster for quantile 10%\n",
    "forecaster_q10 = ForecasterAutoregDirect(\n",
    "                     regressor = LGBMRegressor(\n",
    "                                     objective     = 'quantile',\n",
    "                                     metric        = 'quantile',\n",
    "                                     alpha         = 0.1,\n",
    "                                     learning_rate = 0.1,\n",
    "                                     max_depth     = 10,\n",
    "                                     n_estimators  = 100\n",
    "                                 ),\n",
    "                     lags = 7,\n",
    "                     steps = 7\n",
    "                 )\n",
    "                  \n",
    "# Forecaster for quantile 90%\n",
    "forecaster_q90 = ForecasterAutoregDirect(\n",
    "                     regressor = LGBMRegressor(\n",
    "                                     objective     = 'quantile',\n",
    "                                     metric        = 'quantile',\n",
    "                                     alpha         = 0.9,\n",
    "                                     learning_rate = 0.1,\n",
    "                                     max_depth     = 10,\n",
    "                                     n_estimators  = 100\n",
    "                                 ),\n",
    "                     lags = 7,\n",
    "                     steps = 7\n",
    "                 )\n",
    "\n",
    "forecaster_q10.fit(y=data['Demand'])\n",
    "forecaster_q90.fit(y=data['Demand'])"
   ]
  },
  {
   "attachments": {},
   "cell_type": "markdown",
   "id": "02fc2645",
   "metadata": {},
   "source": [
    "### Predictions\n",
    "\n",
    "Once the quantile forecasters are trained, they can be used to predict each of the bounds of the forecasting interval."
   ]
  },
  {
   "cell_type": "code",
   "execution_count": 20,
   "id": "27b771c3",
   "metadata": {},
   "outputs": [
    {
     "data": {
      "text/html": [
       "<div>\n",
       "<style scoped>\n",
       "    .dataframe tbody tr th:only-of-type {\n",
       "        vertical-align: middle;\n",
       "    }\n",
       "\n",
       "    .dataframe tbody tr th {\n",
       "        vertical-align: top;\n",
       "    }\n",
       "\n",
       "    .dataframe thead th {\n",
       "        text-align: right;\n",
       "    }\n",
       "</style>\n",
       "<table border=\"1\" class=\"dataframe\">\n",
       "  <thead>\n",
       "    <tr style=\"text-align: right;\">\n",
       "      <th></th>\n",
       "      <th>lower_bound</th>\n",
       "      <th>upper_bound</th>\n",
       "    </tr>\n",
       "  </thead>\n",
       "  <tbody>\n",
       "    <tr>\n",
       "      <th>2014-12-31</th>\n",
       "      <td>177607.329878</td>\n",
       "      <td>218885.714906</td>\n",
       "    </tr>\n",
       "    <tr>\n",
       "      <th>2015-01-01</th>\n",
       "      <td>178062.602517</td>\n",
       "      <td>242582.788349</td>\n",
       "    </tr>\n",
       "    <tr>\n",
       "      <th>2015-01-02</th>\n",
       "      <td>186213.019530</td>\n",
       "      <td>220677.491829</td>\n",
       "    </tr>\n",
       "    <tr>\n",
       "      <th>2015-01-03</th>\n",
       "      <td>184901.085939</td>\n",
       "      <td>204261.638256</td>\n",
       "    </tr>\n",
       "    <tr>\n",
       "      <th>2015-01-04</th>\n",
       "      <td>193237.899189</td>\n",
       "      <td>235310.200573</td>\n",
       "    </tr>\n",
       "    <tr>\n",
       "      <th>2015-01-05</th>\n",
       "      <td>196673.050873</td>\n",
       "      <td>284881.068713</td>\n",
       "    </tr>\n",
       "    <tr>\n",
       "      <th>2015-01-06</th>\n",
       "      <td>184148.733152</td>\n",
       "      <td>293018.478848</td>\n",
       "    </tr>\n",
       "  </tbody>\n",
       "</table>\n",
       "</div>"
      ],
      "text/plain": [
       "              lower_bound    upper_bound\n",
       "2014-12-31  177607.329878  218885.714906\n",
       "2015-01-01  178062.602517  242582.788349\n",
       "2015-01-02  186213.019530  220677.491829\n",
       "2015-01-03  184901.085939  204261.638256\n",
       "2015-01-04  193237.899189  235310.200573\n",
       "2015-01-05  196673.050873  284881.068713\n",
       "2015-01-06  184148.733152  293018.478848"
      ]
     },
     "execution_count": 20,
     "metadata": {},
     "output_type": "execute_result"
    }
   ],
   "source": [
    "# Predict intervals for next 7 steps\n",
    "# ==============================================================================\n",
    "predictions_q10 = forecaster_q10.predict(steps=7)\n",
    "predictions_q90 = forecaster_q90.predict(steps=7)\n",
    "predictions = pd.DataFrame({\n",
    "                  'lower_bound': predictions_q10,\n",
    "                  'upper_bound': predictions_q90,\n",
    "              })\n",
    "predictions "
   ]
  },
  {
   "attachments": {},
   "cell_type": "markdown",
   "id": "609f6cd3",
   "metadata": {},
   "source": [
    "When validating a quantile regression model, a custom metric must be provided depending on the quantile being estimated. These metrics will be used again when tuning the hyper-parameters of each model."
   ]
  },
  {
   "cell_type": "code",
   "execution_count": 21,
   "id": "82d79717",
   "metadata": {},
   "outputs": [],
   "source": [
    "# Loss function for each quantile (pinball_loss)\n",
    "# ==============================================================================\n",
    "def mean_pinball_loss_q10(y_true, y_pred):\n",
    "    \"\"\"\n",
    "    Pinball loss for quantile 10.\n",
    "    \"\"\"\n",
    "    return mean_pinball_loss(y_true, y_pred, alpha=0.1)\n",
    "\n",
    "\n",
    "def mean_pinball_loss_q90(y_true, y_pred):\n",
    "    \"\"\"\n",
    "    Pinball loss for quantile 90.\n",
    "    \"\"\"\n",
    "    return mean_pinball_loss(y_true, y_pred, alpha=0.9)"
   ]
  },
  {
   "attachments": {},
   "cell_type": "markdown",
   "id": "4819979d",
   "metadata": {},
   "source": [
    "### Backtesting"
   ]
  },
  {
   "cell_type": "code",
   "execution_count": 22,
   "id": "9b4cf3c6",
   "metadata": {},
   "outputs": [
    {
     "name": "stdout",
     "output_type": "stream",
     "text": [
      "Quantile 10 metric 3408.28324086281\n",
      "Quantile 90 metric 2616.1339689106367\n",
      "\n"
     ]
    },
    {
     "data": {
      "text/html": [
       "<div>\n",
       "<style scoped>\n",
       "    .dataframe tbody tr th:only-of-type {\n",
       "        vertical-align: middle;\n",
       "    }\n",
       "\n",
       "    .dataframe tbody tr th {\n",
       "        vertical-align: top;\n",
       "    }\n",
       "\n",
       "    .dataframe thead th {\n",
       "        text-align: right;\n",
       "    }\n",
       "</style>\n",
       "<table border=\"1\" class=\"dataframe\">\n",
       "  <thead>\n",
       "    <tr style=\"text-align: right;\">\n",
       "      <th></th>\n",
       "      <th>pred</th>\n",
       "    </tr>\n",
       "  </thead>\n",
       "  <tbody>\n",
       "    <tr>\n",
       "      <th>2014-10-01</th>\n",
       "      <td>209699.327721</td>\n",
       "    </tr>\n",
       "    <tr>\n",
       "      <th>2014-10-02</th>\n",
       "      <td>218271.081905</td>\n",
       "    </tr>\n",
       "    <tr>\n",
       "      <th>2014-10-03</th>\n",
       "      <td>221150.120318</td>\n",
       "    </tr>\n",
       "    <tr>\n",
       "      <th>2014-10-04</th>\n",
       "      <td>208837.320910</td>\n",
       "    </tr>\n",
       "  </tbody>\n",
       "</table>\n",
       "</div>"
      ],
      "text/plain": [
       "                     pred\n",
       "2014-10-01  209699.327721\n",
       "2014-10-02  218271.081905\n",
       "2014-10-03  221150.120318\n",
       "2014-10-04  208837.320910"
      ]
     },
     "metadata": {},
     "output_type": "display_data"
    },
    {
     "name": "stdout",
     "output_type": "stream",
     "text": [
      "\n"
     ]
    },
    {
     "data": {
      "text/html": [
       "<div>\n",
       "<style scoped>\n",
       "    .dataframe tbody tr th:only-of-type {\n",
       "        vertical-align: middle;\n",
       "    }\n",
       "\n",
       "    .dataframe tbody tr th {\n",
       "        vertical-align: top;\n",
       "    }\n",
       "\n",
       "    .dataframe thead th {\n",
       "        text-align: right;\n",
       "    }\n",
       "</style>\n",
       "<table border=\"1\" class=\"dataframe\">\n",
       "  <thead>\n",
       "    <tr style=\"text-align: right;\">\n",
       "      <th></th>\n",
       "      <th>pred</th>\n",
       "    </tr>\n",
       "  </thead>\n",
       "  <tbody>\n",
       "    <tr>\n",
       "      <th>2014-10-01</th>\n",
       "      <td>248739.650047</td>\n",
       "    </tr>\n",
       "    <tr>\n",
       "      <th>2014-10-02</th>\n",
       "      <td>241249.713258</td>\n",
       "    </tr>\n",
       "    <tr>\n",
       "      <th>2014-10-03</th>\n",
       "      <td>270670.830049</td>\n",
       "    </tr>\n",
       "    <tr>\n",
       "      <th>2014-10-04</th>\n",
       "      <td>220208.757206</td>\n",
       "    </tr>\n",
       "  </tbody>\n",
       "</table>\n",
       "</div>"
      ],
      "text/plain": [
       "                     pred\n",
       "2014-10-01  248739.650047\n",
       "2014-10-02  241249.713258\n",
       "2014-10-03  270670.830049\n",
       "2014-10-04  220208.757206"
      ]
     },
     "metadata": {},
     "output_type": "display_data"
    }
   ],
   "source": [
    "# Backtesting on test data\n",
    "# ==============================================================================\n",
    "warnings.simplefilter('ignore', category=LongTrainingWarning)\n",
    "metric_q10, predictions_q10 = backtesting_forecaster(\n",
    "                                  forecaster         = forecaster_q10,\n",
    "                                  y                  = data['Demand'],\n",
    "                                  initial_train_size = len(data_train) + len(data_val),\n",
    "                                  steps              = 7,\n",
    "                                  refit              = True,\n",
    "                                  metric             = mean_pinball_loss_q10,\n",
    "                                  verbose            = False,\n",
    "                                  show_progress      = False\n",
    "                              )\n",
    "\n",
    "metric_q90, predictions_q90 = backtesting_forecaster(\n",
    "                                  forecaster         = forecaster_q90,\n",
    "                                  y                  = data['Demand'],\n",
    "                                  initial_train_size = len(data_train) + len(data_val),\n",
    "                                  steps              = 7,\n",
    "                                  refit              = True,\n",
    "                                  metric             = mean_pinball_loss_q90,\n",
    "                                  verbose            = False,\n",
    "                                  show_progress      = False\n",
    "                              )\n",
    "\n",
    "print(\"Quantile 10 metric\", metric_q10)\n",
    "print(\"Quantile 90 metric\", metric_q90)\n",
    "print(\"\")\n",
    "display(predictions_q10.head(4))\n",
    "print(\"\")\n",
    "display(predictions_q90.head(4))"
   ]
  },
  {
   "attachments": {},
   "cell_type": "markdown",
   "id": "12d5b6bc",
   "metadata": {},
   "source": [
    "Predictions generated for each model are used to define the upper and lower limits of the interval."
   ]
  },
  {
   "cell_type": "code",
   "execution_count": 23,
   "id": "a54c705b",
   "metadata": {},
   "outputs": [
    {
     "name": "stdout",
     "output_type": "stream",
     "text": [
      "Coverage of the predicted interval: 61.53846153846154\n"
     ]
    }
   ],
   "source": [
    "# Interval coverage on test data\n",
    "# ==============================================================================\n",
    "inside_interval = np.where(\n",
    "                      (data.loc[end_validation:, 'Demand'] >= predictions_q10['pred']) & \\\n",
    "                      (data.loc[end_validation:, 'Demand'] <= predictions_q90['pred']),\n",
    "                      True,\n",
    "                      False\n",
    "                  )\n",
    "\n",
    "coverage = inside_interval.mean()\n",
    "print(f\"Coverage of the predicted interval: {100 * coverage}\")"
   ]
  },
  {
   "attachments": {},
   "cell_type": "markdown",
   "id": "958b653f",
   "metadata": {},
   "source": [
    "The coverage of the predicted interval is much lower than expected (80%)."
   ]
  },
  {
   "attachments": {},
   "cell_type": "markdown",
   "id": "1f9431b3",
   "metadata": {},
   "source": [
    "### Grid Search\n",
    "\n",
    "The hyperparameters of the model were hand-tuned and there is no reason that the same hyperparameters are suitable for the 10th and 90th percentiles regressors. Therefore, a grid search is carried out for each forecaster."
   ]
  },
  {
   "cell_type": "code",
   "execution_count": 24,
   "id": "defc15b8",
   "metadata": {},
   "outputs": [
    {
     "name": "stdout",
     "output_type": "stream",
     "text": [
      "Number of models compared: 12.\n"
     ]
    },
    {
     "data": {
      "application/vnd.jupyter.widget-view+json": {
       "model_id": "07bd1e3bc7004235a0a9c585be097c5e",
       "version_major": 2,
       "version_minor": 0
      },
      "text/plain": [
       "lags grid:   0%|          | 0/1 [00:00<?, ?it/s]"
      ]
     },
     "metadata": {},
     "output_type": "display_data"
    },
    {
     "data": {
      "application/vnd.jupyter.widget-view+json": {
       "model_id": "d9503d40cba8476a8c43562bf81f30f1",
       "version_major": 2,
       "version_minor": 0
      },
      "text/plain": [
       "params grid:   0%|          | 0/12 [00:00<?, ?it/s]"
      ]
     },
     "metadata": {},
     "output_type": "display_data"
    },
    {
     "name": "stdout",
     "output_type": "stream",
     "text": [
      "`Forecaster` refitted using the best-found lags and parameters, and the whole data set: \n",
      "  Lags: [1 2 3 4 5 6 7] \n",
      "  Parameters: {'learning_rate': 0.01, 'max_depth': 3, 'n_estimators': 500}\n",
      "  Backtesting metric: 2713.0192469016706\n",
      "\n",
      "Number of models compared: 12.\n"
     ]
    },
    {
     "data": {
      "application/vnd.jupyter.widget-view+json": {
       "model_id": "68a734f46e55444c81d97ae75d103bfe",
       "version_major": 2,
       "version_minor": 0
      },
      "text/plain": [
       "lags grid:   0%|          | 0/1 [00:00<?, ?it/s]"
      ]
     },
     "metadata": {},
     "output_type": "display_data"
    },
    {
     "data": {
      "application/vnd.jupyter.widget-view+json": {
       "model_id": "5e80e9f924fe435eb2ecc224a7f984b0",
       "version_major": 2,
       "version_minor": 0
      },
      "text/plain": [
       "params grid:   0%|          | 0/12 [00:00<?, ?it/s]"
      ]
     },
     "metadata": {},
     "output_type": "display_data"
    },
    {
     "name": "stdout",
     "output_type": "stream",
     "text": [
      "`Forecaster` refitted using the best-found lags and parameters, and the whole data set: \n",
      "  Lags: [1 2 3 4 5 6 7] \n",
      "  Parameters: {'learning_rate': 0.01, 'max_depth': 10, 'n_estimators': 500}\n",
      "  Backtesting metric: 4094.3047516967745\n",
      "\n"
     ]
    }
   ],
   "source": [
    "# Grid search of hyper-parameters and lags for each quantile forecaster\n",
    "# ==============================================================================\n",
    "# Regressor hyper-parameters\n",
    "param_grid = {\n",
    "    'n_estimators': [100, 500],\n",
    "    'max_depth': [3, 5, 10],\n",
    "    'learning_rate': [0.01, 0.1]\n",
    "}\n",
    "\n",
    "# Lags used as predictors\n",
    "lags_grid = [7]\n",
    "\n",
    "results_grid_q10 = grid_search_forecaster(\n",
    "                       forecaster         = forecaster_q10,\n",
    "                       y                  = data.loc[:end_validation, 'Demand'],\n",
    "                       param_grid         = param_grid,\n",
    "                       lags_grid          = lags_grid,\n",
    "                       steps              = 7,\n",
    "                       refit              = False,\n",
    "                       metric             = mean_pinball_loss_q10,\n",
    "                       initial_train_size = int(len(data_train)),\n",
    "                       return_best        = True,\n",
    "                       verbose            = False,\n",
    "                       show_progress      = True\n",
    "                   )\n",
    "\n",
    "results_grid_q90 = grid_search_forecaster(\n",
    "                       forecaster         = forecaster_q90,\n",
    "                       y                  = data.loc[:end_validation, 'Demand'],\n",
    "                       param_grid         = param_grid,\n",
    "                       lags_grid          = lags_grid,\n",
    "                       steps              = 7,\n",
    "                       refit              = False,\n",
    "                       metric             = mean_pinball_loss_q90,\n",
    "                       initial_train_size = int(len(data_train)),\n",
    "                       return_best        = True,\n",
    "                       verbose            = False,\n",
    "                       show_progress      = True\n",
    "                   )"
   ]
  },
  {
   "cell_type": "code",
   "execution_count": 25,
   "id": "7bfad2d4",
   "metadata": {},
   "outputs": [
    {
     "data": {
      "text/html": [
       "<div>\n",
       "<style scoped>\n",
       "    .dataframe tbody tr th:only-of-type {\n",
       "        vertical-align: middle;\n",
       "    }\n",
       "\n",
       "    .dataframe tbody tr th {\n",
       "        vertical-align: top;\n",
       "    }\n",
       "\n",
       "    .dataframe thead th {\n",
       "        text-align: right;\n",
       "    }\n",
       "</style>\n",
       "<table border=\"1\" class=\"dataframe\">\n",
       "  <thead>\n",
       "    <tr style=\"text-align: right;\">\n",
       "      <th></th>\n",
       "      <th>lags</th>\n",
       "      <th>params</th>\n",
       "      <th>mean_pinball_loss_q10</th>\n",
       "      <th>learning_rate</th>\n",
       "      <th>max_depth</th>\n",
       "      <th>n_estimators</th>\n",
       "    </tr>\n",
       "  </thead>\n",
       "  <tbody>\n",
       "    <tr>\n",
       "      <th>1</th>\n",
       "      <td>[1, 2, 3, 4, 5, 6, 7]</td>\n",
       "      <td>{'learning_rate': 0.01, 'max_depth': 3, 'n_est...</td>\n",
       "      <td>2713.019247</td>\n",
       "      <td>0.01</td>\n",
       "      <td>3.0</td>\n",
       "      <td>500.0</td>\n",
       "    </tr>\n",
       "    <tr>\n",
       "      <th>3</th>\n",
       "      <td>[1, 2, 3, 4, 5, 6, 7]</td>\n",
       "      <td>{'learning_rate': 0.01, 'max_depth': 5, 'n_est...</td>\n",
       "      <td>2724.174361</td>\n",
       "      <td>0.01</td>\n",
       "      <td>5.0</td>\n",
       "      <td>500.0</td>\n",
       "    </tr>\n",
       "    <tr>\n",
       "      <th>5</th>\n",
       "      <td>[1, 2, 3, 4, 5, 6, 7]</td>\n",
       "      <td>{'learning_rate': 0.01, 'max_depth': 10, 'n_es...</td>\n",
       "      <td>2794.381391</td>\n",
       "      <td>0.01</td>\n",
       "      <td>10.0</td>\n",
       "      <td>500.0</td>\n",
       "    </tr>\n",
       "    <tr>\n",
       "      <th>6</th>\n",
       "      <td>[1, 2, 3, 4, 5, 6, 7]</td>\n",
       "      <td>{'learning_rate': 0.1, 'max_depth': 3, 'n_esti...</td>\n",
       "      <td>2831.048035</td>\n",
       "      <td>0.10</td>\n",
       "      <td>3.0</td>\n",
       "      <td>100.0</td>\n",
       "    </tr>\n",
       "  </tbody>\n",
       "</table>\n",
       "</div>"
      ],
      "text/plain": [
       "                    lags                                             params  \\\n",
       "1  [1, 2, 3, 4, 5, 6, 7]  {'learning_rate': 0.01, 'max_depth': 3, 'n_est...   \n",
       "3  [1, 2, 3, 4, 5, 6, 7]  {'learning_rate': 0.01, 'max_depth': 5, 'n_est...   \n",
       "5  [1, 2, 3, 4, 5, 6, 7]  {'learning_rate': 0.01, 'max_depth': 10, 'n_es...   \n",
       "6  [1, 2, 3, 4, 5, 6, 7]  {'learning_rate': 0.1, 'max_depth': 3, 'n_esti...   \n",
       "\n",
       "   mean_pinball_loss_q10  learning_rate  max_depth  n_estimators  \n",
       "1            2713.019247           0.01        3.0         500.0  \n",
       "3            2724.174361           0.01        5.0         500.0  \n",
       "5            2794.381391           0.01       10.0         500.0  \n",
       "6            2831.048035           0.10        3.0         100.0  "
      ]
     },
     "metadata": {},
     "output_type": "display_data"
    },
    {
     "name": "stdout",
     "output_type": "stream",
     "text": [
      "\n"
     ]
    },
    {
     "data": {
      "text/html": [
       "<div>\n",
       "<style scoped>\n",
       "    .dataframe tbody tr th:only-of-type {\n",
       "        vertical-align: middle;\n",
       "    }\n",
       "\n",
       "    .dataframe tbody tr th {\n",
       "        vertical-align: top;\n",
       "    }\n",
       "\n",
       "    .dataframe thead th {\n",
       "        text-align: right;\n",
       "    }\n",
       "</style>\n",
       "<table border=\"1\" class=\"dataframe\">\n",
       "  <thead>\n",
       "    <tr style=\"text-align: right;\">\n",
       "      <th></th>\n",
       "      <th>lags</th>\n",
       "      <th>params</th>\n",
       "      <th>mean_pinball_loss_q90</th>\n",
       "      <th>learning_rate</th>\n",
       "      <th>max_depth</th>\n",
       "      <th>n_estimators</th>\n",
       "    </tr>\n",
       "  </thead>\n",
       "  <tbody>\n",
       "    <tr>\n",
       "      <th>5</th>\n",
       "      <td>[1, 2, 3, 4, 5, 6, 7]</td>\n",
       "      <td>{'learning_rate': 0.01, 'max_depth': 10, 'n_es...</td>\n",
       "      <td>4094.304752</td>\n",
       "      <td>0.01</td>\n",
       "      <td>10.0</td>\n",
       "      <td>500.0</td>\n",
       "    </tr>\n",
       "    <tr>\n",
       "      <th>10</th>\n",
       "      <td>[1, 2, 3, 4, 5, 6, 7]</td>\n",
       "      <td>{'learning_rate': 0.1, 'max_depth': 10, 'n_est...</td>\n",
       "      <td>4185.354890</td>\n",
       "      <td>0.10</td>\n",
       "      <td>10.0</td>\n",
       "      <td>100.0</td>\n",
       "    </tr>\n",
       "    <tr>\n",
       "      <th>3</th>\n",
       "      <td>[1, 2, 3, 4, 5, 6, 7]</td>\n",
       "      <td>{'learning_rate': 0.01, 'max_depth': 5, 'n_est...</td>\n",
       "      <td>4198.557508</td>\n",
       "      <td>0.01</td>\n",
       "      <td>5.0</td>\n",
       "      <td>500.0</td>\n",
       "    </tr>\n",
       "    <tr>\n",
       "      <th>8</th>\n",
       "      <td>[1, 2, 3, 4, 5, 6, 7]</td>\n",
       "      <td>{'learning_rate': 0.1, 'max_depth': 5, 'n_esti...</td>\n",
       "      <td>4202.854953</td>\n",
       "      <td>0.10</td>\n",
       "      <td>5.0</td>\n",
       "      <td>100.0</td>\n",
       "    </tr>\n",
       "  </tbody>\n",
       "</table>\n",
       "</div>"
      ],
      "text/plain": [
       "                     lags                                             params  \\\n",
       "5   [1, 2, 3, 4, 5, 6, 7]  {'learning_rate': 0.01, 'max_depth': 10, 'n_es...   \n",
       "10  [1, 2, 3, 4, 5, 6, 7]  {'learning_rate': 0.1, 'max_depth': 10, 'n_est...   \n",
       "3   [1, 2, 3, 4, 5, 6, 7]  {'learning_rate': 0.01, 'max_depth': 5, 'n_est...   \n",
       "8   [1, 2, 3, 4, 5, 6, 7]  {'learning_rate': 0.1, 'max_depth': 5, 'n_esti...   \n",
       "\n",
       "    mean_pinball_loss_q90  learning_rate  max_depth  n_estimators  \n",
       "5             4094.304752           0.01       10.0         500.0  \n",
       "10            4185.354890           0.10       10.0         100.0  \n",
       "3             4198.557508           0.01        5.0         500.0  \n",
       "8             4202.854953           0.10        5.0         100.0  "
      ]
     },
     "metadata": {},
     "output_type": "display_data"
    }
   ],
   "source": [
    "# Grid search results\n",
    "# ==============================================================================\n",
    "display(results_grid_q10.head(4))\n",
    "print(\"\")\n",
    "display(results_grid_q90.head(4))"
   ]
  },
  {
   "attachments": {},
   "cell_type": "markdown",
   "id": "623d9604",
   "metadata": {},
   "source": [
    "### Backtesting using test data\n",
    "\n",
    "Once the best hyperparameters have been found for each forecaster, a [backtesting process](https://skforecast.org/latest/user_guides/backtesting.html) is applied again using the test data."
   ]
  },
  {
   "cell_type": "code",
   "execution_count": 26,
   "id": "fc2f6b62",
   "metadata": {},
   "outputs": [
    {
     "data": {
      "application/vnd.jupyter.widget-view+json": {
       "model_id": "3f9512e1800e41b98fd6939743b3de1f",
       "version_major": 2,
       "version_minor": 0
      },
      "text/plain": [
       "  0%|          | 0/13 [00:00<?, ?it/s]"
      ]
     },
     "metadata": {},
     "output_type": "display_data"
    },
    {
     "data": {
      "application/vnd.jupyter.widget-view+json": {
       "model_id": "9e08a15c58c14320b9892d6456688f94",
       "version_major": 2,
       "version_minor": 0
      },
      "text/plain": [
       "  0%|          | 0/13 [00:00<?, ?it/s]"
      ]
     },
     "metadata": {},
     "output_type": "display_data"
    }
   ],
   "source": [
    "# Backtesting on test data\n",
    "# ==============================================================================\n",
    "metric_q10, predictions_q10 = backtesting_forecaster(\n",
    "                                  forecaster         = forecaster_q10,\n",
    "                                  y                  = data['Demand'],\n",
    "                                  initial_train_size = len(data_train) + len(data_val),\n",
    "                                  steps              = 7,\n",
    "                                  refit              = False,\n",
    "                                  metric             = mean_pinball_loss_q10,\n",
    "                                  verbose            = False\n",
    "                              )\n",
    "\n",
    "metric_q90, predictions_q90 = backtesting_forecaster(\n",
    "                                  forecaster         = forecaster_q90,\n",
    "                                  y                  = data['Demand'],\n",
    "                                  initial_train_size = len(data_train) + len(data_val),\n",
    "                                  steps              = 7,\n",
    "                                  refit              = False,\n",
    "                                  metric             = mean_pinball_loss_q90,\n",
    "                                  verbose            = False\n",
    "                              )"
   ]
  },
  {
   "cell_type": "code",
   "execution_count": 27,
   "id": "91f681b8",
   "metadata": {},
   "outputs": [
    {
     "data": {
      "image/png": "[encoded data removed]",
      "text/plain": [
       "<Figure size 700x300 with 1 Axes>"
      ]
     },
     "metadata": {},
     "output_type": "display_data"
    }
   ],
   "source": [
    "# Plot\n",
    "# ==============================================================================\n",
    "fig, ax = plt.subplots(figsize=(7, 3))\n",
    "data.loc[end_validation:, 'Demand'].plot(ax=ax, label='Demand')\n",
    "ax.fill_between(\n",
    "    data.loc[end_validation:].index,\n",
    "    predictions_q10['pred'],\n",
    "    predictions_q90['pred'],\n",
    "    color = 'deepskyblue',\n",
    "    alpha = 0.3,\n",
    "    label = '80% interval'\n",
    ")\n",
    "ax.yaxis.set_major_formatter(ticker.EngFormatter())\n",
    "ax.set_ylabel('MW')\n",
    "ax.set_xlabel('')\n",
    "ax.set_title('Energy demand forecast')\n",
    "ax.legend();"
   ]
  },
  {
   "cell_type": "code",
   "execution_count": 28,
   "id": "2c22d622",
   "metadata": {},
   "outputs": [
    {
     "name": "stdout",
     "output_type": "stream",
     "text": [
      "Coverage of the predicted interval: 75.82417582417582\n"
     ]
    }
   ],
   "source": [
    "# Interval coverage\n",
    "# ==============================================================================\n",
    "inside_interval = np.where(\n",
    "                      (data.loc[end_validation:, 'Demand'] >= predictions_q10['pred']) & \\\n",
    "                      (data.loc[end_validation:, 'Demand'] <= predictions_q90['pred']),\n",
    "                      True,\n",
    "                      False\n",
    "                  )\n",
    "\n",
    "coverage = inside_interval.mean()\n",
    "print(f\"Coverage of the predicted interval: {100 * coverage}\")"
   ]
  },
  {
   "attachments": {},
   "cell_type": "markdown",
   "id": "1975ae2e",
   "metadata": {},
   "source": [
    "After optimizing the hyper-parameters of each quantile forecaster, the coverage is closer to the expected one (80%)."
   ]
  },
  {
   "cell_type": "code",
   "execution_count": 29,
   "id": "1b307a1e",
   "metadata": {},
   "outputs": [
    {
     "data": {
      "text/html": [
       "<style>\n",
       ".jupyter-wrapper .jp-CodeCell .jp-Cell-inputWrapper .jp-InputPrompt {display: none;}\n",
       "</style>\n"
      ],
      "text/plain": [
       "<IPython.core.display.HTML object>"
      ]
     },
     "metadata": {},
     "output_type": "display_data"
    }
   ],
   "source": [
    "%%html\n",
    "<style>\n",
    ".jupyter-wrapper .jp-CodeCell .jp-Cell-inputWrapper .jp-InputPrompt {display: none;}\n",
    "</style>"
   ]
  }
 ],
 "metadata": {
  "kernelspec": {
   "display_name": "Python 3.9.13 ('skforecast')",
   "language": "python",
   "name": "python3"
  },
  "language_info": {
   "codemirror_mode": {
    "name": "ipython",
    "version": 3
   },
   "file_extension": ".py",
   "mimetype": "text/x-python",
   "name": "python",
   "nbconvert_exporter": "python",
   "pygments_lexer": "ipython3",
   "version": "3.10.11"
  },
  "toc": {
   "base_numbering": 1,
   "nav_menu": {},
   "number_sections": false,
   "sideBar": true,
   "skip_h1_title": false,
   "title_cell": "Table of Contents",
   "title_sidebar": "Contents",
   "toc_cell": false,
   "toc_position": {},
   "toc_section_display": true,
   "toc_window_display": true
  },
  "varInspector": {
   "cols": {
    "lenName": 16,
    "lenType": 16,
    "lenVar": 40
   },
   "kernels_config": {
    "python": {
     "delete_cmd_postfix": "",
     "delete_cmd_prefix": "del ",
     "library": "var_list.py",
     "varRefreshCmd": "print(var_dic_list())"
    },
    "r": {
     "delete_cmd_postfix": ") ",
     "delete_cmd_prefix": "rm(",
     "library": "var_list.r",
     "varRefreshCmd": "cat(var_dic_list()) "
    }
   },
   "types_to_exclude": [
    "module",
    "function",
    "builtin_function_or_method",
    "instance",
    "_Feature"
   ],
   "window_display": false
  },
  "vscode": {
   "interpreter": {
    "hash": "6ffed84beb63baa96f7d22d816ccf3255c078420a09b57d1f48b4641bbf1489e"
   }
  }
 },
 "nbformat": 4,
 "nbformat_minor": 5
}
