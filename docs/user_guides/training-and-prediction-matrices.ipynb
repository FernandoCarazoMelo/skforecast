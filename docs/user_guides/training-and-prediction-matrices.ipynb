{
 "cells": [
  {
   "cell_type": "markdown",
   "metadata": {},
   "source": [
    "# How to Extract Training and Prediction Matrices\n",
    "\n",
    "While the primary goal of building forecasting models is to predict future values, it is equally important to evaluate if the model is effectively learning from the training data. Analyzing predictions on the training data or exploring the prediction matrices is crucial for assessing model performance and understanding areas for optimization. This process can help identify issues like overfitting or underfitting, as well as provide deeper insights into the model’s decision-making process.\n",
    "\n",
    "**Training matrices**\n",
    "\n",
    "Training matrices contain the input features used by the model during the training process. These matrices are essential for understanding how the model interprets patterns and relationships within the data. They typically include the lagged variables, window features and exogenous variables. By extracting and analyzing these matrices, you can ensure that the input data is correctly structured and aligned with the model’s requirements.\n",
    "\n",
    "\n",
    "**Prediction matrices**\n",
    "\n",
    "Prediction matrices are used to generate forecasts for future values. These matrices incorporate the features necessary for making predictions, such as recent observations (lags), window features and any exogenous variables. Understanding the structure of these matrices is important for debugging and for validating the model’s future predictions."
   ]
  },
  {
   "cell_type": "markdown",
   "metadata": {},
   "source": [
    "<div class=\"admonition note\" name=\"html-admonition\" style=\"background: rgba(255,145,0,.1); padding-top: 0px; padding-bottom: 6px; border-radius: 8px; border-left: 8px solid #ff9100; border-color: #ff9100; padding-left: 10px; padding-right: 10px\">\n",
    "\n",
    "<p class=\"title\">\n",
    "    <i style=\"font-size: 18px; color:#ff9100; border-color: #ff1744;\"></i>\n",
    "    <b style=\"color: #ff9100;\"> <span style=\"color: #ff9100;\">&#9888;</span> Warning</b>\n",
    "</p>\n",
    "\n",
    "If any <a href=\"../user_guides/sklearn-transformers-and-pipeline.html\">data transformations</a> and/or <a href=\"../user_guides/time-series-differentiation.html\">differentiation</a>, are applied, they will affect the output matrices. Consequently, the predictions generated in this transformed scale may require additional steps to revert back to the original data scale.\n",
    "\n",
    "</div>"
   ]
  },
  {
   "cell_type": "markdown",
   "metadata": {},
   "source": [
    "# TODO: Incluir LINKS EN TODOS LOS FORECASTERS Y EN SHAP"
   ]
  },
  {
   "cell_type": "markdown",
   "metadata": {},
   "source": [
    "## Libraries and data"
   ]
  },
  {
   "cell_type": "code",
   "execution_count": 1,
   "metadata": {},
   "outputs": [],
   "source": [
    "# Libraries\n",
    "# ==============================================================================\n",
    "import pandas as pd\n",
    "import matplotlib.pyplot as plt\n",
    "from sklearn.preprocessing import StandardScaler\n",
    "from sklearn.linear_model import Ridge\n",
    "from lightgbm import LGBMRegressor\n",
    "\n",
    "from skforecast.datasets import fetch_dataset\n",
    "from skforecast.preprocessing import RollingFeatures\n",
    "from skforecast.recursive import ForecasterRecursive\n",
    "from skforecast.direct import ForecasterDirect\n",
    "from skforecast.recursive import ForecasterRecursiveMultiSeries\n",
    "from skforecast.direct import ForecasterDirectMultiVariate"
   ]
  },
  {
   "cell_type": "code",
   "execution_count": 2,
   "metadata": {},
   "outputs": [
    {
     "name": "stdout",
     "output_type": "stream",
     "text": [
      "h2o\n",
      "---\n",
      "Monthly expenditure ($AUD) on corticosteroid drugs that the Australian health\n",
      "system had between 1991 and 2008.\n",
      "Hyndman R (2023). fpp3: Data for Forecasting: Principles and Practice(3rd\n",
      "Edition). http://pkg.robjhyndman.com/fpp3package/,https://github.com/robjhyndman\n",
      "/fpp3package, http://OTexts.com/fpp3.\n",
      "Shape of the dataset: (204, 2)\n",
      "\n",
      "items_sales\n",
      "-----------\n",
      "Simulated time series for the sales of 3 different items.\n",
      "Simulated data.\n",
      "Shape of the dataset: (1097, 3)\n",
      "\n",
      "air_quality_valencia\n",
      "--------------------\n",
      "Hourly measures of several air chemical pollutant (pm2.5, co, no, no2, pm10,\n",
      "nox, o3, veloc. (air speed), direc. (air direction), so2) at Valencia city.\n",
      "Units are (µg/m3) for pm2.5, no, no2, pm10, so2, (mg/m3) for co, (m/s) for\n",
      "veloc. and (degrees) for direc.\n",
      "Red de Vigilancia y Control de la Contaminación Atmosférica, 46250054-València -\n",
      "Centre, https://mediambient.gva.es/es/web/calidad-ambiental/datos-historicos.\n",
      "Shape of the dataset: (26304, 10)\n"
     ]
    }
   ],
   "source": [
    "# Download data single series\n",
    "# ==============================================================================\n",
    "data = fetch_dataset(\n",
    "    name=\"h2o\", kwargs_read_csv={\"names\": [\"y\", \"datetime\"], \"header\": 0}\n",
    ")\n",
    "print(\"\")\n",
    "\n",
    "data['datetime'] = pd.to_datetime(data['datetime'], format='%Y-%m-%d')\n",
    "data = data.set_index('datetime')\n",
    "data = data.asfreq('MS')\n",
    "data = data.sort_index()\n",
    "\n",
    "# Download data ForecasterRecursiveMultiSeries\n",
    "# ==============================================================================\n",
    "data_multiseries = fetch_dataset(name=\"items_sales\")\n",
    "print(\"\")\n",
    "\n",
    "# Download data ForecasterDirectMultiVariate\n",
    "# ==============================================================================\n",
    "data_multivariate = fetch_dataset(name=\"air_quality_valencia\")"
   ]
  },
  {
   "cell_type": "markdown",
   "metadata": {},
   "source": [
    "## ForecasterRecursive"
   ]
  },
  {
   "cell_type": "code",
   "execution_count": 3,
   "metadata": {},
   "outputs": [
    {
     "data": {
      "text/html": [
       "<div>\n",
       "<style scoped>\n",
       "    .dataframe tbody tr th:only-of-type {\n",
       "        vertical-align: middle;\n",
       "    }\n",
       "\n",
       "    .dataframe tbody tr th {\n",
       "        vertical-align: top;\n",
       "    }\n",
       "\n",
       "    .dataframe thead th {\n",
       "        text-align: right;\n",
       "    }\n",
       "</style>\n",
       "<table border=\"1\" class=\"dataframe\">\n",
       "  <thead>\n",
       "    <tr style=\"text-align: right;\">\n",
       "      <th></th>\n",
       "      <th>y</th>\n",
       "    </tr>\n",
       "    <tr>\n",
       "      <th>datetime</th>\n",
       "      <th></th>\n",
       "    </tr>\n",
       "  </thead>\n",
       "  <tbody>\n",
       "    <tr>\n",
       "      <th>1991-07-01</th>\n",
       "      <td>0.429795</td>\n",
       "    </tr>\n",
       "    <tr>\n",
       "      <th>1991-08-01</th>\n",
       "      <td>0.400906</td>\n",
       "    </tr>\n",
       "    <tr>\n",
       "      <th>1991-09-01</th>\n",
       "      <td>0.432159</td>\n",
       "    </tr>\n",
       "  </tbody>\n",
       "</table>\n",
       "</div>"
      ],
      "text/plain": [
       "                   y\n",
       "datetime            \n",
       "1991-07-01  0.429795\n",
       "1991-08-01  0.400906\n",
       "1991-09-01  0.432159"
      ]
     },
     "metadata": {},
     "output_type": "display_data"
    },
    {
     "data": {
      "image/png": "[encoded data removed]",
      "text/plain": [
       "<Figure size 600x300 with 1 Axes>"
      ]
     },
     "metadata": {},
     "output_type": "display_data"
    }
   ],
   "source": [
    "# Data\n",
    "# ==============================================================================\n",
    "display(data.head(3))\n",
    "\n",
    "# Plot\n",
    "# ==============================================================================\n",
    "fig, ax = plt.subplots(figsize=(6, 3))\n",
    "data['y'].plot(ax=ax)\n",
    "ax.legend()\n",
    "plt.show()"
   ]
  },
  {
   "cell_type": "code",
   "execution_count": 4,
   "metadata": {},
   "outputs": [
    {
     "data": {
      "text/html": [
       "\n",
       "        <style>\n",
       "            .container-6767776ddbab4640ba01552396b328eb {\n",
       "                font-family: 'Arial', sans-serif;\n",
       "                font-size: 0.9em;\n",
       "                color: #333333;\n",
       "                border: 1px solid #ddd;\n",
       "                background-color: #f0f8ff;\n",
       "                padding: 5px 15px;\n",
       "                border-radius: 8px;\n",
       "                max-width: 600px;\n",
       "                #margin: auto;\n",
       "            }\n",
       "            .container-6767776ddbab4640ba01552396b328eb h2 {\n",
       "                font-size: 1.5em;\n",
       "                color: #222222;\n",
       "                border-bottom: 2px solid #ddd;\n",
       "                padding-bottom: 5px;\n",
       "                margin-bottom: 15px;\n",
       "            }\n",
       "            .container-6767776ddbab4640ba01552396b328eb details {\n",
       "                margin: 10px 0;\n",
       "            }\n",
       "            .container-6767776ddbab4640ba01552396b328eb summary {\n",
       "                font-weight: bold;\n",
       "                font-size: 1.1em;\n",
       "                color: #333333;\n",
       "                cursor: pointer;\n",
       "                margin-bottom: 5px;\n",
       "                background-color: #b3dbfd;\n",
       "                padding: 5px;\n",
       "                border-radius: 5px;\n",
       "            }\n",
       "            .container-6767776ddbab4640ba01552396b328eb summary:hover {\n",
       "                color: #333333;\n",
       "                background-color: #e0e0e0;\n",
       "            }\n",
       "            .container-6767776ddbab4640ba01552396b328eb ul {\n",
       "                font-family: 'Courier New', monospace;\n",
       "                list-style-type: none;\n",
       "                padding-left: 20px;\n",
       "                margin: 10px 0;\n",
       "            }\n",
       "            .container-6767776ddbab4640ba01552396b328eb li {\n",
       "                margin: 5px 0;\n",
       "                font-family: 'Courier New', monospace;\n",
       "            }\n",
       "            .container-6767776ddbab4640ba01552396b328eb li strong {\n",
       "                font-weight: bold;\n",
       "                color: #444444;\n",
       "            }\n",
       "            .container-6767776ddbab4640ba01552396b328eb li::before {\n",
       "                content: \"- \";\n",
       "                color: #666666;\n",
       "            }\n",
       "            .container-6767776ddbab4640ba01552396b328eb a {\n",
       "                color: #001633;\n",
       "                text-decoration: none;\n",
       "            }\n",
       "            .container-6767776ddbab4640ba01552396b328eb a:hover {\n",
       "                color: #359ccb; \n",
       "            }\n",
       "        </style>\n",
       "        \n",
       "        <div class=\"container-6767776ddbab4640ba01552396b328eb\">\n",
       "            <h2>ForecasterRecursive</h2>\n",
       "            <details open>\n",
       "                <summary>General Information</summary>\n",
       "                <ul>\n",
       "                    <li><strong>Regressor:</strong> LGBMRegressor(random_state=123, verbose=-1)</li>\n",
       "                    <li><strong>Lags:</strong> [1 2 3 4 5]</li>\n",
       "                    <li><strong>Window features:</strong> ['roll_mean_5', 'roll_sum_5']</li>\n",
       "                    <li><strong>Window size:</strong> 5</li>\n",
       "                    <li><strong>Exogenous included:</strong> False</li>\n",
       "                    <li><strong>Weight function included:</strong> False</li>\n",
       "                    <li><strong>Differentiation order:</strong> None</li>\n",
       "                    <li><strong>Creation date:</strong> 2024-11-08 11:39:49</li>\n",
       "                    <li><strong>Last fit date:</strong> 2024-11-08 11:39:49</li>\n",
       "                    <li><strong>Skforecast version:</strong> 0.14.0</li>\n",
       "                    <li><strong>Python version:</strong> 3.11.10</li>\n",
       "                    <li><strong>Forecaster id:</strong> None</li>\n",
       "                </ul>\n",
       "            </details>\n",
       "            <details>\n",
       "                <summary>Exogenous Variables</summary>\n",
       "                <ul>\n",
       "                    None\n",
       "                </ul>\n",
       "            </details>\n",
       "            <details>\n",
       "                <summary>Data Transformations</summary>\n",
       "                <ul>\n",
       "                    <li><strong>Transformer for y:</strong> None</li>\n",
       "                    <li><strong>Transformer for exog:</strong> None</li>\n",
       "                </ul>\n",
       "            </details>\n",
       "            <details>\n",
       "                <summary>Training Information</summary>\n",
       "                <ul>\n",
       "                    <li><strong>Training range:</strong> [Timestamp('1991-07-01 00:00:00'), Timestamp('2008-06-01 00:00:00')]</li>\n",
       "                    <li><strong>Training index type:</strong> DatetimeIndex</li>\n",
       "                    <li><strong>Training index frequency:</strong> MS</li>\n",
       "                </ul>\n",
       "            </details>\n",
       "            <details>\n",
       "                <summary>Regressor Parameters</summary>\n",
       "                <ul>\n",
       "                    {'boosting_type': 'gbdt', 'class_weight': None, 'colsample_bytree': 1.0, 'importance_type': 'split', 'learning_rate': 0.1, 'max_depth': -1, 'min_child_samples': 20, 'min_child_weight': 0.001, 'min_split_gain': 0.0, 'n_estimators': 100, 'n_jobs': None, 'num_leaves': 31, 'objective': None, 'random_state': 123, 'reg_alpha': 0.0, 'reg_lambda': 0.0, 'subsample': 1.0, 'subsample_for_bin': 200000, 'subsample_freq': 0, 'verbose': -1}\n",
       "                </ul>\n",
       "            </details>\n",
       "            <details>\n",
       "                <summary>Fit Kwargs</summary>\n",
       "                <ul>\n",
       "                    {}\n",
       "                </ul>\n",
       "            </details>\n",
       "            <p>\n",
       "                <a href=\"https://skforecast.org/0.14.0/api/forecasterrecursive.html\">&#128712 <strong>API Reference</strong></a>\n",
       "                &nbsp;&nbsp;\n",
       "                <a href=\"https://skforecast.org/0.14.0/user_guides/autoregresive-forecaster.html\">&#128462 <strong>User Guide</strong></a>\n",
       "            </p>\n",
       "        </div>\n",
       "        "
      ],
      "text/plain": [
       "=================== \n",
       "ForecasterRecursive \n",
       "=================== \n",
       "Regressor: LGBMRegressor(random_state=123, verbose=-1) \n",
       "Lags: [1 2 3 4 5] \n",
       "Window features: ['roll_mean_5', 'roll_sum_5'] \n",
       "Window size: 5 \n",
       "Exogenous included: False \n",
       "Exogenous names: None \n",
       "Transformer for y: None \n",
       "Transformer for exog: None \n",
       "Weight function included: False \n",
       "Differentiation order: None \n",
       "Training range: [Timestamp('1991-07-01 00:00:00'), Timestamp('2008-06-01 00:00:00')] \n",
       "Training index type: DatetimeIndex \n",
       "Training index frequency: MS \n",
       "Regressor parameters: \n",
       "    {'boosting_type': 'gbdt', 'class_weight': None, 'colsample_bytree': 1.0,\n",
       "    'importance_type': 'split', 'learning_rate': 0.1, 'max_depth': -1,\n",
       "    'min_child_samples': 20, 'min_child_weight': 0.001, 'min_split_gain': 0.0,\n",
       "    'n_estimators': 100, 'n_jobs': None, 'num_leaves': 31, 'objective': None,\n",
       "    'random_state': 123, 'reg_alpha': 0.0, 'reg_lambda': 0.0, 'subsample': 1.0,\n",
       "    'subsample_for_bin': 200000, 'subsample_freq': 0, 'verbose': -1} \n",
       "fit_kwargs: {} \n",
       "Creation date: 2024-11-08 11:39:49 \n",
       "Last fit date: 2024-11-08 11:39:49 \n",
       "Skforecast version: 0.14.0 \n",
       "Python version: 3.11.10 \n",
       "Forecaster id: None "
      ]
     },
     "execution_count": 4,
     "metadata": {},
     "output_type": "execute_result"
    }
   ],
   "source": [
    "# Create and fit forecaster\n",
    "# ==============================================================================\n",
    "window_features = RollingFeatures(\n",
    "                      stats        = ['mean', 'sum'],\n",
    "                      window_sizes = [5, 5]\n",
    "                  )\n",
    "\n",
    "forecaster = ForecasterRecursive(\n",
    "                 regressor       = LGBMRegressor(random_state=123, verbose=-1),\n",
    "                 lags            = 5,\n",
    "                 window_features = window_features\n",
    "             )\n",
    "\n",
    "forecaster.fit(y=data['y'])\n",
    "forecaster"
   ]
  },
  {
   "cell_type": "code",
   "execution_count": 5,
   "metadata": {},
   "outputs": [],
   "source": [
    "# Create training matrices\n",
    "# ==============================================================================\n",
    "X_train, y_train = forecaster.create_train_X_y(y=data['y'])"
   ]
  },
  {
   "cell_type": "code",
   "execution_count": 6,
   "metadata": {},
   "outputs": [
    {
     "data": {
      "text/html": [
       "<div>\n",
       "<style scoped>\n",
       "    .dataframe tbody tr th:only-of-type {\n",
       "        vertical-align: middle;\n",
       "    }\n",
       "\n",
       "    .dataframe tbody tr th {\n",
       "        vertical-align: top;\n",
       "    }\n",
       "\n",
       "    .dataframe thead th {\n",
       "        text-align: right;\n",
       "    }\n",
       "</style>\n",
       "<table border=\"1\" class=\"dataframe\">\n",
       "  <thead>\n",
       "    <tr style=\"text-align: right;\">\n",
       "      <th></th>\n",
       "      <th>lag_1</th>\n",
       "      <th>lag_2</th>\n",
       "      <th>lag_3</th>\n",
       "      <th>lag_4</th>\n",
       "      <th>lag_5</th>\n",
       "      <th>roll_mean_5</th>\n",
       "      <th>roll_sum_5</th>\n",
       "    </tr>\n",
       "    <tr>\n",
       "      <th>datetime</th>\n",
       "      <th></th>\n",
       "      <th></th>\n",
       "      <th></th>\n",
       "      <th></th>\n",
       "      <th></th>\n",
       "      <th></th>\n",
       "      <th></th>\n",
       "    </tr>\n",
       "  </thead>\n",
       "  <tbody>\n",
       "    <tr>\n",
       "      <th>1991-12-01</th>\n",
       "      <td>0.502369</td>\n",
       "      <td>0.492543</td>\n",
       "      <td>0.432159</td>\n",
       "      <td>0.400906</td>\n",
       "      <td>0.429795</td>\n",
       "      <td>0.451554</td>\n",
       "      <td>2.257772</td>\n",
       "    </tr>\n",
       "    <tr>\n",
       "      <th>1992-01-01</th>\n",
       "      <td>0.602652</td>\n",
       "      <td>0.502369</td>\n",
       "      <td>0.492543</td>\n",
       "      <td>0.432159</td>\n",
       "      <td>0.400906</td>\n",
       "      <td>0.486126</td>\n",
       "      <td>2.430629</td>\n",
       "    </tr>\n",
       "    <tr>\n",
       "      <th>1992-02-01</th>\n",
       "      <td>0.660119</td>\n",
       "      <td>0.602652</td>\n",
       "      <td>0.502369</td>\n",
       "      <td>0.492543</td>\n",
       "      <td>0.432159</td>\n",
       "      <td>0.537968</td>\n",
       "      <td>2.689842</td>\n",
       "    </tr>\n",
       "  </tbody>\n",
       "</table>\n",
       "</div>"
      ],
      "text/plain": [
       "               lag_1     lag_2     lag_3     lag_4     lag_5  roll_mean_5  \\\n",
       "datetime                                                                    \n",
       "1991-12-01  0.502369  0.492543  0.432159  0.400906  0.429795     0.451554   \n",
       "1992-01-01  0.602652  0.502369  0.492543  0.432159  0.400906     0.486126   \n",
       "1992-02-01  0.660119  0.602652  0.502369  0.492543  0.432159     0.537968   \n",
       "\n",
       "            roll_sum_5  \n",
       "datetime                \n",
       "1991-12-01    2.257772  \n",
       "1992-01-01    2.430629  \n",
       "1992-02-01    2.689842  "
      ]
     },
     "execution_count": 6,
     "metadata": {},
     "output_type": "execute_result"
    }
   ],
   "source": [
    "# Predictors matrix\n",
    "# ==============================================================================\n",
    "X_train.head(3)"
   ]
  },
  {
   "cell_type": "code",
   "execution_count": 7,
   "metadata": {},
   "outputs": [
    {
     "data": {
      "text/plain": [
       "datetime\n",
       "1991-12-01    0.602652\n",
       "1992-01-01    0.660119\n",
       "1992-02-01    0.336220\n",
       "Freq: MS, Name: y, dtype: float64"
      ]
     },
     "execution_count": 7,
     "metadata": {},
     "output_type": "execute_result"
    }
   ],
   "source": [
    "# Target variable matrix\n",
    "# ==============================================================================\n",
    "y_train.head(3)"
   ]
  },
  {
   "cell_type": "markdown",
   "metadata": {},
   "source": [
    "We can obtain the training predictions using the `predict` method of the regressor stored inside the forecaster object. By examining the predictions on the training data, analysts can get a better understanding of how the model is performing and make adjustments as necessary."
   ]
  },
  {
   "cell_type": "code",
   "execution_count": 8,
   "metadata": {},
   "outputs": [
    {
     "data": {
      "text/plain": [
       "array([0.49322601, 0.6376049 , 0.58531495, 0.44962278])"
      ]
     },
     "execution_count": 8,
     "metadata": {},
     "output_type": "execute_result"
    }
   ],
   "source": [
    "# Training predictions using the internal regressor\n",
    "# ==============================================================================\n",
    "predictions_training = forecaster.regressor.predict(X_train)\n",
    "predictions_training[:4]"
   ]
  },
  {
   "cell_type": "markdown",
   "metadata": {},
   "source": [
    "Skforecast provides the `create_predict_X` method to generate the matrices that the forecaster is using to make predictions. This method can be used to gain insight into the specific data manipulations that occur during the prediction process."
   ]
  },
  {
   "cell_type": "code",
   "execution_count": 9,
   "metadata": {},
   "outputs": [
    {
     "data": {
      "text/html": [
       "<div>\n",
       "<style scoped>\n",
       "    .dataframe tbody tr th:only-of-type {\n",
       "        vertical-align: middle;\n",
       "    }\n",
       "\n",
       "    .dataframe tbody tr th {\n",
       "        vertical-align: top;\n",
       "    }\n",
       "\n",
       "    .dataframe thead th {\n",
       "        text-align: right;\n",
       "    }\n",
       "</style>\n",
       "<table border=\"1\" class=\"dataframe\">\n",
       "  <thead>\n",
       "    <tr style=\"text-align: right;\">\n",
       "      <th></th>\n",
       "      <th>lag_1</th>\n",
       "      <th>lag_2</th>\n",
       "      <th>lag_3</th>\n",
       "      <th>lag_4</th>\n",
       "      <th>lag_5</th>\n",
       "      <th>roll_mean_5</th>\n",
       "      <th>roll_sum_5</th>\n",
       "    </tr>\n",
       "  </thead>\n",
       "  <tbody>\n",
       "    <tr>\n",
       "      <th>2008-07-01</th>\n",
       "      <td>0.762137</td>\n",
       "      <td>0.816255</td>\n",
       "      <td>0.827887</td>\n",
       "      <td>0.649435</td>\n",
       "      <td>0.761822</td>\n",
       "      <td>0.763507</td>\n",
       "      <td>3.817536</td>\n",
       "    </tr>\n",
       "    <tr>\n",
       "      <th>2008-08-01</th>\n",
       "      <td>0.865361</td>\n",
       "      <td>0.762137</td>\n",
       "      <td>0.816255</td>\n",
       "      <td>0.827887</td>\n",
       "      <td>0.649435</td>\n",
       "      <td>0.784215</td>\n",
       "      <td>3.921075</td>\n",
       "    </tr>\n",
       "    <tr>\n",
       "      <th>2008-09-01</th>\n",
       "      <td>0.878167</td>\n",
       "      <td>0.865361</td>\n",
       "      <td>0.762137</td>\n",
       "      <td>0.816255</td>\n",
       "      <td>0.827887</td>\n",
       "      <td>0.829961</td>\n",
       "      <td>4.149806</td>\n",
       "    </tr>\n",
       "    <tr>\n",
       "      <th>2008-10-01</th>\n",
       "      <td>0.806708</td>\n",
       "      <td>0.878167</td>\n",
       "      <td>0.865361</td>\n",
       "      <td>0.762137</td>\n",
       "      <td>0.816255</td>\n",
       "      <td>0.825726</td>\n",
       "      <td>4.128628</td>\n",
       "    </tr>\n",
       "    <tr>\n",
       "      <th>2008-11-01</th>\n",
       "      <td>0.873597</td>\n",
       "      <td>0.806708</td>\n",
       "      <td>0.878167</td>\n",
       "      <td>0.865361</td>\n",
       "      <td>0.762137</td>\n",
       "      <td>0.837194</td>\n",
       "      <td>4.185970</td>\n",
       "    </tr>\n",
       "  </tbody>\n",
       "</table>\n",
       "</div>"
      ],
      "text/plain": [
       "               lag_1     lag_2     lag_3     lag_4     lag_5  roll_mean_5  \\\n",
       "2008-07-01  0.762137  0.816255  0.827887  0.649435  0.761822     0.763507   \n",
       "2008-08-01  0.865361  0.762137  0.816255  0.827887  0.649435     0.784215   \n",
       "2008-09-01  0.878167  0.865361  0.762137  0.816255  0.827887     0.829961   \n",
       "2008-10-01  0.806708  0.878167  0.865361  0.762137  0.816255     0.825726   \n",
       "2008-11-01  0.873597  0.806708  0.878167  0.865361  0.762137     0.837194   \n",
       "\n",
       "            roll_sum_5  \n",
       "2008-07-01    3.817536  \n",
       "2008-08-01    3.921075  \n",
       "2008-09-01    4.149806  \n",
       "2008-10-01    4.128628  \n",
       "2008-11-01    4.185970  "
      ]
     },
     "execution_count": 9,
     "metadata": {},
     "output_type": "execute_result"
    }
   ],
   "source": [
    "# Create input matrix for predict method\n",
    "# ==============================================================================\n",
    "X_predict = forecaster.create_predict_X(steps=5)\n",
    "X_predict"
   ]
  },
  {
   "cell_type": "code",
   "execution_count": 10,
   "metadata": {},
   "outputs": [
    {
     "data": {
      "text/plain": [
       "array([0.86536052, 0.87816664, 0.80670845, 0.87359717, 0.96601636])"
      ]
     },
     "execution_count": 10,
     "metadata": {},
     "output_type": "execute_result"
    }
   ],
   "source": [
    "# Predict using the internal regressor\n",
    "# ==============================================================================\n",
    "predictions = forecaster.regressor.predict(X_predict)\n",
    "predictions"
   ]
  },
  {
   "cell_type": "markdown",
   "metadata": {},
   "source": [
    "## ForecasterDirect"
   ]
  },
  {
   "cell_type": "code",
   "execution_count": 11,
   "metadata": {},
   "outputs": [],
   "source": [
    "# Create and fit forecaster\n",
    "# ==============================================================================\n",
    "window_features = RollingFeatures(\n",
    "                      stats        = ['mean', 'sum'],\n",
    "                      window_sizes = [5, 5]\n",
    "                  )\n",
    "\n",
    "forecaster = ForecasterDirect(\n",
    "                 regressor       = Ridge(random_state=123),\n",
    "                 steps           = 3,\n",
    "                 lags            = 5,\n",
    "                 window_features = window_features\n",
    "             )\n",
    "\n",
    "forecaster.fit(y=data['y'])"
   ]
  },
  {
   "cell_type": "markdown",
   "metadata": {},
   "source": [
    "Two steps are required to extract the training matrices. One to create the entire training matrix and a second to subset the data needed for each model (step)."
   ]
  },
  {
   "cell_type": "code",
   "execution_count": 12,
   "metadata": {},
   "outputs": [
    {
     "data": {
      "text/html": [
       "<div>\n",
       "<style scoped>\n",
       "    .dataframe tbody tr th:only-of-type {\n",
       "        vertical-align: middle;\n",
       "    }\n",
       "\n",
       "    .dataframe tbody tr th {\n",
       "        vertical-align: top;\n",
       "    }\n",
       "\n",
       "    .dataframe thead th {\n",
       "        text-align: right;\n",
       "    }\n",
       "</style>\n",
       "<table border=\"1\" class=\"dataframe\">\n",
       "  <thead>\n",
       "    <tr style=\"text-align: right;\">\n",
       "      <th></th>\n",
       "      <th>lag_1</th>\n",
       "      <th>lag_2</th>\n",
       "      <th>lag_3</th>\n",
       "      <th>lag_4</th>\n",
       "      <th>lag_5</th>\n",
       "      <th>roll_mean_5</th>\n",
       "      <th>roll_sum_5</th>\n",
       "    </tr>\n",
       "    <tr>\n",
       "      <th>datetime</th>\n",
       "      <th></th>\n",
       "      <th></th>\n",
       "      <th></th>\n",
       "      <th></th>\n",
       "      <th></th>\n",
       "      <th></th>\n",
       "      <th></th>\n",
       "    </tr>\n",
       "  </thead>\n",
       "  <tbody>\n",
       "    <tr>\n",
       "      <th>1991-12-01</th>\n",
       "      <td>0.502369</td>\n",
       "      <td>0.492543</td>\n",
       "      <td>0.432159</td>\n",
       "      <td>0.400906</td>\n",
       "      <td>0.429795</td>\n",
       "      <td>0.451554</td>\n",
       "      <td>2.257772</td>\n",
       "    </tr>\n",
       "    <tr>\n",
       "      <th>1992-01-01</th>\n",
       "      <td>0.602652</td>\n",
       "      <td>0.502369</td>\n",
       "      <td>0.492543</td>\n",
       "      <td>0.432159</td>\n",
       "      <td>0.400906</td>\n",
       "      <td>0.486126</td>\n",
       "      <td>2.430629</td>\n",
       "    </tr>\n",
       "    <tr>\n",
       "      <th>1992-02-01</th>\n",
       "      <td>0.660119</td>\n",
       "      <td>0.602652</td>\n",
       "      <td>0.502369</td>\n",
       "      <td>0.492543</td>\n",
       "      <td>0.432159</td>\n",
       "      <td>0.537968</td>\n",
       "      <td>2.689842</td>\n",
       "    </tr>\n",
       "    <tr>\n",
       "      <th>1992-03-01</th>\n",
       "      <td>0.336220</td>\n",
       "      <td>0.660119</td>\n",
       "      <td>0.602652</td>\n",
       "      <td>0.502369</td>\n",
       "      <td>0.492543</td>\n",
       "      <td>0.518781</td>\n",
       "      <td>2.593903</td>\n",
       "    </tr>\n",
       "  </tbody>\n",
       "</table>\n",
       "</div>"
      ],
      "text/plain": [
       "               lag_1     lag_2     lag_3     lag_4     lag_5  roll_mean_5  \\\n",
       "datetime                                                                    \n",
       "1991-12-01  0.502369  0.492543  0.432159  0.400906  0.429795     0.451554   \n",
       "1992-01-01  0.602652  0.502369  0.492543  0.432159  0.400906     0.486126   \n",
       "1992-02-01  0.660119  0.602652  0.502369  0.492543  0.432159     0.537968   \n",
       "1992-03-01  0.336220  0.660119  0.602652  0.502369  0.492543     0.518781   \n",
       "\n",
       "            roll_sum_5  \n",
       "datetime                \n",
       "1991-12-01    2.257772  \n",
       "1992-01-01    2.430629  \n",
       "1992-02-01    2.689842  \n",
       "1992-03-01    2.593903  "
      ]
     },
     "execution_count": 12,
     "metadata": {},
     "output_type": "execute_result"
    }
   ],
   "source": [
    "# Create the whole train matrix\n",
    "# ==============================================================================\n",
    "X_train, y_train = forecaster.create_train_X_y(y=data['y'])\n",
    "\n",
    "# Extract X and y for step 1\n",
    "X_train_1, y_train_1 = forecaster.filter_train_X_y_for_step(\n",
    "                           step          = 1,\n",
    "                           X_train       = X_train,\n",
    "                           y_train       = y_train,\n",
    "                           remove_suffix = False\n",
    "                       )\n",
    "\n",
    "X_train_1.head(4)"
   ]
  },
  {
   "cell_type": "code",
   "execution_count": 13,
   "metadata": {},
   "outputs": [
    {
     "data": {
      "text/plain": [
       "datetime\n",
       "1991-12-01    0.602652\n",
       "1992-01-01    0.660119\n",
       "1992-02-01    0.336220\n",
       "Freq: MS, Name: y_step_1, dtype: float64"
      ]
     },
     "execution_count": 13,
     "metadata": {},
     "output_type": "execute_result"
    }
   ],
   "source": [
    "# Target variable matrix for step 1\n",
    "# ==============================================================================\n",
    "y_train_1.head(3)"
   ]
  },
  {
   "cell_type": "code",
   "execution_count": 14,
   "metadata": {},
   "outputs": [
    {
     "data": {
      "text/plain": [
       "{1: Ridge(random_state=123),\n",
       " 2: Ridge(random_state=123),\n",
       " 3: Ridge(random_state=123)}"
      ]
     },
     "execution_count": 14,
     "metadata": {},
     "output_type": "execute_result"
    }
   ],
   "source": [
    "# Internal regressors {step: regressor}\n",
    "# ==============================================================================\n",
    "forecaster.regressors_"
   ]
  },
  {
   "cell_type": "code",
   "execution_count": 15,
   "metadata": {},
   "outputs": [
    {
     "data": {
      "text/plain": [
       "array([0.5960254 , 0.6592509 , 0.70209408, 0.50312286])"
      ]
     },
     "execution_count": 15,
     "metadata": {},
     "output_type": "execute_result"
    }
   ],
   "source": [
    "# Step 1 training predictions using the internal regressor\n",
    "# ==============================================================================\n",
    "predictions_training = forecaster.regressors_[1].predict(X_train_1)\n",
    "predictions_training[:4]"
   ]
  },
  {
   "cell_type": "code",
   "execution_count": 16,
   "metadata": {},
   "outputs": [
    {
     "data": {
      "text/html": [
       "<div>\n",
       "<style scoped>\n",
       "    .dataframe tbody tr th:only-of-type {\n",
       "        vertical-align: middle;\n",
       "    }\n",
       "\n",
       "    .dataframe tbody tr th {\n",
       "        vertical-align: top;\n",
       "    }\n",
       "\n",
       "    .dataframe thead th {\n",
       "        text-align: right;\n",
       "    }\n",
       "</style>\n",
       "<table border=\"1\" class=\"dataframe\">\n",
       "  <thead>\n",
       "    <tr style=\"text-align: right;\">\n",
       "      <th></th>\n",
       "      <th>lag_1</th>\n",
       "      <th>lag_2</th>\n",
       "      <th>lag_3</th>\n",
       "      <th>lag_4</th>\n",
       "      <th>lag_5</th>\n",
       "      <th>roll_mean_5</th>\n",
       "      <th>roll_sum_5</th>\n",
       "    </tr>\n",
       "  </thead>\n",
       "  <tbody>\n",
       "    <tr>\n",
       "      <th>2008-07-01</th>\n",
       "      <td>0.762137</td>\n",
       "      <td>0.816255</td>\n",
       "      <td>0.827887</td>\n",
       "      <td>0.649435</td>\n",
       "      <td>0.761822</td>\n",
       "      <td>0.763507</td>\n",
       "      <td>3.817536</td>\n",
       "    </tr>\n",
       "    <tr>\n",
       "      <th>2008-08-01</th>\n",
       "      <td>0.762137</td>\n",
       "      <td>0.816255</td>\n",
       "      <td>0.827887</td>\n",
       "      <td>0.649435</td>\n",
       "      <td>0.761822</td>\n",
       "      <td>0.763507</td>\n",
       "      <td>3.817536</td>\n",
       "    </tr>\n",
       "    <tr>\n",
       "      <th>2008-09-01</th>\n",
       "      <td>0.762137</td>\n",
       "      <td>0.816255</td>\n",
       "      <td>0.827887</td>\n",
       "      <td>0.649435</td>\n",
       "      <td>0.761822</td>\n",
       "      <td>0.763507</td>\n",
       "      <td>3.817536</td>\n",
       "    </tr>\n",
       "  </tbody>\n",
       "</table>\n",
       "</div>"
      ],
      "text/plain": [
       "               lag_1     lag_2     lag_3     lag_4     lag_5  roll_mean_5  \\\n",
       "2008-07-01  0.762137  0.816255  0.827887  0.649435  0.761822     0.763507   \n",
       "2008-08-01  0.762137  0.816255  0.827887  0.649435  0.761822     0.763507   \n",
       "2008-09-01  0.762137  0.816255  0.827887  0.649435  0.761822     0.763507   \n",
       "\n",
       "            roll_sum_5  \n",
       "2008-07-01    3.817536  \n",
       "2008-08-01    3.817536  \n",
       "2008-09-01    3.817536  "
      ]
     },
     "execution_count": 16,
     "metadata": {},
     "output_type": "execute_result"
    }
   ],
   "source": [
    "# Create input matrix for predict method\n",
    "# ==============================================================================\n",
    "X_predict = forecaster.create_predict_X(steps=None)  # All steps\n",
    "X_predict"
   ]
  },
  {
   "cell_type": "code",
   "execution_count": 17,
   "metadata": {},
   "outputs": [
    {
     "data": {
      "text/plain": [
       "array([0.78198225, 0.78198225, 0.78198225])"
      ]
     },
     "execution_count": 17,
     "metadata": {},
     "output_type": "execute_result"
    }
   ],
   "source": [
    "# Step 1 predictions using the internal regressor\n",
    "# ==============================================================================\n",
    "predictions = forecaster.regressors_[1].predict(X_predict)\n",
    "predictions"
   ]
  },
  {
   "cell_type": "markdown",
   "metadata": {},
   "source": [
    "## Creating matrices when including transformations\n",
    "\n",
    "If any [data transformations](../user_guides/sklearn-transformers-and-pipeline.html) and/or [differentiation](../user_guides/time-series-differentiation.html), are applied, they will affect the output matrices. Consequently, the predictions generated in this transformed scale may require additional steps to revert back to the original data scale."
   ]
  },
  {
   "cell_type": "code",
   "execution_count": 18,
   "metadata": {},
   "outputs": [],
   "source": [
    "# Create and fit ForecasterRecursive\n",
    "# ==============================================================================\n",
    "window_features = RollingFeatures(\n",
    "                      stats        = ['mean', 'sum'],\n",
    "                      window_sizes = [5, 5]\n",
    "                  )\n",
    "\n",
    "forecaster = ForecasterRecursive(\n",
    "                 regressor       = LGBMRegressor(random_state=123, verbose=-1),\n",
    "                 lags            = 5,\n",
    "                 window_features = window_features,\n",
    "                 transformer_y   = StandardScaler(),\n",
    "                 differentiation = 1\n",
    "             )\n",
    "\n",
    "forecaster.fit(y=data['y'])"
   ]
  },
  {
   "cell_type": "code",
   "execution_count": 19,
   "metadata": {},
   "outputs": [
    {
     "data": {
      "text/plain": [
       "array([0.5547262 , 0.3597327 , 0.39960716, 0.42227145])"
      ]
     },
     "execution_count": 19,
     "metadata": {},
     "output_type": "execute_result"
    }
   ],
   "source": [
    "# Training predictions with transformations\n",
    "# ==============================================================================\n",
    "X_train_transformed, y_train_transformed = forecaster.create_train_X_y(y=data['y'])\n",
    "\n",
    "# Training predictions using the internal regressor\n",
    "predictions_transformed = forecaster.regressor.predict(X_train_transformed)\n",
    "\n",
    "# Revert differentiation (only if differentiation is not None)\n",
    "predictions_transformed = forecaster.differentiator.inverse_transform_training(predictions_transformed)\n",
    "\n",
    "# Revert transformation (only if transformer_y is not None)\n",
    "predictions_training = forecaster.transformer_y.inverse_transform(predictions_transformed.reshape(-1, 1))\n",
    "predictions_training.ravel()[:4]"
   ]
  },
  {
   "cell_type": "code",
   "execution_count": 20,
   "metadata": {},
   "outputs": [
    {
     "name": "stderr",
     "output_type": "stream",
     "text": [
      "c:\\Users\\jaesc2\\Miniconda3\\envs\\skforecast_py11_2\\Lib\\site-packages\\skforecast\\recursive\\_forecaster_recursive.py:1384: UserWarning: The output matrix is in the transformed scale due to the inclusion of transformations or differentiation in the Forecaster. As a result, any predictions generated using this matrix will also be in the transformed scale. Please refer to the documentation for more details: https://skforecast.org/latest/user_guides/autoregresive-forecaster#extract-prediction-matrices\n",
      "  warnings.warn(\n"
     ]
    },
    {
     "data": {
      "text/plain": [
       "array([0.88563047, 0.62235217, 0.54433454, 0.56906843])"
      ]
     },
     "execution_count": 20,
     "metadata": {},
     "output_type": "execute_result"
    }
   ],
   "source": [
    "# Predict using the internal regressor with transformation\n",
    "# ==============================================================================\n",
    "X_predict_transformed = forecaster.create_predict_X(steps=5)\n",
    "\n",
    "# Predict using the internal regressor\n",
    "predictions_transformed = forecaster.regressor.predict(X_predict_transformed)\n",
    "\n",
    "# Revert differentiation (only if differentiation is not None)\n",
    "predictions_transformed = forecaster.differentiator.inverse_transform_next_window(predictions_transformed)\n",
    "\n",
    "# Revert transformation (only if transformer_y is not None)\n",
    "predictions = forecaster.transformer_y.inverse_transform(predictions_transformed.reshape(-1, 1))\n",
    "predictions.ravel()[:4]"
   ]
  },
  {
   "cell_type": "markdown",
   "metadata": {},
   "source": [
    "As before, when using a <code>ForecasterDirect</code>, two steps are required to extract the training matrices. One to create the entire training matrix and a second to subset the data needed for each model (step)."
   ]
  },
  {
   "cell_type": "markdown",
   "metadata": {},
   "source": [
    "<div class=\"admonition note\" name=\"html-admonition\" style=\"background: rgba(255,145,0,.1); padding-top: 0px; padding-bottom: 6px; border-radius: 8px; border-left: 8px solid #ff9100; border-color: #ff9100; padding-left: 10px; padding-right: 10px\">\n",
    "\n",
    "<p class=\"title\">\n",
    "    <i style=\"font-size: 18px; color:#ff9100; border-color: #ff1744;\"></i>\n",
    "    <b style=\"color: #ff9100;\"> <span style=\"color: #ff9100;\">&#9888;</span> Warning</b>\n",
    "</p>\n",
    "\n",
    "If the <code>ForecasterDirect</code> includes <a href=\"../user_guides/time-series-differentiation.html\">differentiation</a>, the model in step 1 must be used if you want to reverse the differentiation of the training time series with the <code>inverse_transform_training</code> method.\n",
    "\n",
    "</div>"
   ]
  },
  {
   "cell_type": "code",
   "execution_count": 21,
   "metadata": {},
   "outputs": [],
   "source": [
    "# Create and fit ForecasterDirect\n",
    "# ==============================================================================\n",
    "window_features = RollingFeatures(\n",
    "                      stats        = ['mean', 'sum'],\n",
    "                      window_sizes = [5, 5]\n",
    "                  )\n",
    "\n",
    "forecaster = ForecasterDirect(\n",
    "                 regressor       = Ridge(random_state=123),\n",
    "                 steps           = 3,\n",
    "                 lags            = 5,\n",
    "                 window_features = window_features,\n",
    "                 transformer_y   = StandardScaler(),\n",
    "                 differentiation = 1\n",
    "             )\n",
    "\n",
    "forecaster.fit(y=data['y'])"
   ]
  },
  {
   "cell_type": "code",
   "execution_count": 22,
   "metadata": {},
   "outputs": [
    {
     "data": {
      "text/plain": [
       "array([0.58659215, 0.55767068, 0.58243553, 0.58782361])"
      ]
     },
     "execution_count": 22,
     "metadata": {},
     "output_type": "execute_result"
    }
   ],
   "source": [
    "# Training predictions with transformations\n",
    "# ==============================================================================\n",
    "X_train_transformed, y_train_transformed = forecaster.create_train_X_y(y=data['y'])\n",
    "\n",
    "# Extract X and y for step 1\n",
    "X_train_transformed_1, y_train_transformed_1 = forecaster.filter_train_X_y_for_step(\n",
    "                                                   step          = 1,\n",
    "                                                   X_train       = X_train_transformed,\n",
    "                                                   y_train       = y_train_transformed,\n",
    "                                                   remove_suffix = False\n",
    "                                               )\n",
    "\n",
    "# Training predictions using the internal regressor for step 1\n",
    "predictions_transformed = forecaster.regressors_[1].predict(X_train_transformed_1)\n",
    "\n",
    "# Revert differentiation (only if differentiation is not None)\n",
    "predictions_transformed = forecaster.differentiator.inverse_transform_training(predictions_transformed)\n",
    "\n",
    "# Revert transformation (only if transformer_y is not None)\n",
    "predictions_training = forecaster.transformer_y.inverse_transform(predictions_transformed.reshape(-1, 1))\n",
    "predictions_training.ravel()[:4]"
   ]
  },
  {
   "cell_type": "code",
   "execution_count": 23,
   "metadata": {},
   "outputs": [
    {
     "name": "stderr",
     "output_type": "stream",
     "text": [
      "c:\\Users\\jaesc2\\Miniconda3\\envs\\skforecast_py11_2\\Lib\\site-packages\\skforecast\\direct\\_forecaster_direct.py:1387: UserWarning: The output matrix is in the transformed scale due to the inclusion of transformations or differentiation in the Forecaster. As a result, any predictions generated using this matrix will also be in the transformed scale. Please refer to the documentation for more details: https://skforecast.org/latest/user_guides/direct-multi-step-forecasting#extract-prediction-matrices\n",
      "  warnings.warn(\n"
     ]
    },
    {
     "data": {
      "text/plain": [
       "array([0.85739057, 0.95264414, 1.04789772])"
      ]
     },
     "execution_count": 23,
     "metadata": {},
     "output_type": "execute_result"
    }
   ],
   "source": [
    "# Predict using the internal regressor with transformation\n",
    "# ==============================================================================\n",
    "X_predict_transformed = forecaster.create_predict_X(steps=None)  # All steps\n",
    "\n",
    "# Predict using the internal regressor for step 1\n",
    "predictions_transformed = forecaster.regressors_[1].predict(X_predict_transformed)\n",
    "\n",
    "# Revert differentiation (only if differentiation is not None)\n",
    "predictions_transformed = forecaster.differentiator.inverse_transform_next_window(predictions_transformed)\n",
    "\n",
    "# Revert transformation (only if transformer_y is not None)\n",
    "predictions = forecaster.transformer_y.inverse_transform(predictions_transformed.reshape(-1, 1))\n",
    "predictions.ravel()[:4]"
   ]
  },
  {
   "cell_type": "markdown",
   "metadata": {},
   "source": [
    "<div class=\"admonition note\" name=\"html-admonition\" style=\"background: rgba(0,191,191,.1); padding-top: 0px; padding-bottom: 6px; border-radius: 8px; border-left: 8px solid #00bfa5; border-color: #00bfa5; padding-left: 10px; padding-right: 10px;\">\n",
    "\n",
    "<p class=\"title\">\n",
    "    <i style=\"font-size: 18px; color:#00bfa5;\"></i>\n",
    "    <b style=\"color: #00bfa5;\">&#128161 Tip</b>\n",
    "</p>\n",
    "\n",
    "To reverse the <a href=\"../user_guides/sklearn-transformers-and-pipeline.html\">data transformation</a>, you can also use one of these skforecast functions: <a href=\"../api/utils.html#skforecast.utils.utils.transform_numpy\"><code>transform_numpy</code></a>, <a href=\"../api/utils.html#skforecast.utils.utils.transform_series\"><code>transform_series</code></a>, <a href=\"../api/utils.html#skforecast.utils.utils.transform_dataframe\"><code>transform_dataframe</code></a>.\n",
    "\n",
    "```python\n",
    "from skforecast.utils import transform_numpy\n",
    "\n",
    "predictions = transform_numpy(\n",
    "                  array             = predictions_transformed,\n",
    "                  transformer       = forecaster.transformer_y,\n",
    "                  fit               = False,\n",
    "                  inverse_transform = True\n",
    "              )\n",
    "```\n",
    "\n",
    "</div>"
   ]
  },
  {
   "cell_type": "markdown",
   "metadata": {},
   "source": [
    "## ForecasterRecursiveMultiSeries"
   ]
  },
  {
   "cell_type": "code",
   "execution_count": 24,
   "metadata": {},
   "outputs": [
    {
     "data": {
      "text/html": [
       "<div>\n",
       "<style scoped>\n",
       "    .dataframe tbody tr th:only-of-type {\n",
       "        vertical-align: middle;\n",
       "    }\n",
       "\n",
       "    .dataframe tbody tr th {\n",
       "        vertical-align: top;\n",
       "    }\n",
       "\n",
       "    .dataframe thead th {\n",
       "        text-align: right;\n",
       "    }\n",
       "</style>\n",
       "<table border=\"1\" class=\"dataframe\">\n",
       "  <thead>\n",
       "    <tr style=\"text-align: right;\">\n",
       "      <th></th>\n",
       "      <th>item_1</th>\n",
       "      <th>item_2</th>\n",
       "      <th>item_3</th>\n",
       "    </tr>\n",
       "    <tr>\n",
       "      <th>date</th>\n",
       "      <th></th>\n",
       "      <th></th>\n",
       "      <th></th>\n",
       "    </tr>\n",
       "  </thead>\n",
       "  <tbody>\n",
       "    <tr>\n",
       "      <th>2012-01-01</th>\n",
       "      <td>8.253175</td>\n",
       "      <td>21.047727</td>\n",
       "      <td>19.429739</td>\n",
       "    </tr>\n",
       "    <tr>\n",
       "      <th>2012-01-02</th>\n",
       "      <td>22.777826</td>\n",
       "      <td>26.578125</td>\n",
       "      <td>28.009863</td>\n",
       "    </tr>\n",
       "    <tr>\n",
       "      <th>2012-01-03</th>\n",
       "      <td>27.549099</td>\n",
       "      <td>31.751042</td>\n",
       "      <td>32.078922</td>\n",
       "    </tr>\n",
       "  </tbody>\n",
       "</table>\n",
       "</div>"
      ],
      "text/plain": [
       "               item_1     item_2     item_3\n",
       "date                                       \n",
       "2012-01-01   8.253175  21.047727  19.429739\n",
       "2012-01-02  22.777826  26.578125  28.009863\n",
       "2012-01-03  27.549099  31.751042  32.078922"
      ]
     },
     "metadata": {},
     "output_type": "display_data"
    },
    {
     "data": {
      "image/png": "[encoded data removed]",
      "text/plain": [
       "<Figure size 900x400 with 3 Axes>"
      ]
     },
     "metadata": {},
     "output_type": "display_data"
    }
   ],
   "source": [
    "# Data\n",
    "# ==============================================================================\n",
    "display(data_multiseries.head(3))\n",
    "\n",
    "# Plot\n",
    "# ==============================================================================\n",
    "fig, axes = plt.subplots(nrows=3, ncols=1, figsize=(9, 4), sharex=True)\n",
    "\n",
    "for i, col in enumerate(data_multiseries.columns):\n",
    "    data_multiseries[col].plot(ax=axes[i])\n",
    "    axes[i].set_xlabel('')\n",
    "    axes[i].set_ylabel('sales')\n",
    "    axes[i].set_title(col)\n",
    "\n",
    "fig.tight_layout()\n",
    "plt.show();"
   ]
  },
  {
   "cell_type": "code",
   "execution_count": 25,
   "metadata": {},
   "outputs": [
    {
     "data": {
      "text/html": [
       "\n",
       "        <style>\n",
       "            .container-24cc6fa12d254647b66fba6a3435f048 {\n",
       "                font-family: 'Arial', sans-serif;\n",
       "                font-size: 0.9em;\n",
       "                color: #333333;\n",
       "                border: 1px solid #ddd;\n",
       "                background-color: #f0f8ff;\n",
       "                padding: 5px 15px;\n",
       "                border-radius: 8px;\n",
       "                max-width: 600px;\n",
       "                #margin: auto;\n",
       "            }\n",
       "            .container-24cc6fa12d254647b66fba6a3435f048 h2 {\n",
       "                font-size: 1.5em;\n",
       "                color: #222222;\n",
       "                border-bottom: 2px solid #ddd;\n",
       "                padding-bottom: 5px;\n",
       "                margin-bottom: 15px;\n",
       "            }\n",
       "            .container-24cc6fa12d254647b66fba6a3435f048 details {\n",
       "                margin: 10px 0;\n",
       "            }\n",
       "            .container-24cc6fa12d254647b66fba6a3435f048 summary {\n",
       "                font-weight: bold;\n",
       "                font-size: 1.1em;\n",
       "                color: #333333;\n",
       "                cursor: pointer;\n",
       "                margin-bottom: 5px;\n",
       "                background-color: #b3dbfd;\n",
       "                padding: 5px;\n",
       "                border-radius: 5px;\n",
       "            }\n",
       "            .container-24cc6fa12d254647b66fba6a3435f048 summary:hover {\n",
       "                color: #333333;\n",
       "                background-color: #e0e0e0;\n",
       "            }\n",
       "            .container-24cc6fa12d254647b66fba6a3435f048 ul {\n",
       "                font-family: 'Courier New', monospace;\n",
       "                list-style-type: none;\n",
       "                padding-left: 20px;\n",
       "                margin: 10px 0;\n",
       "            }\n",
       "            .container-24cc6fa12d254647b66fba6a3435f048 li {\n",
       "                margin: 5px 0;\n",
       "                font-family: 'Courier New', monospace;\n",
       "            }\n",
       "            .container-24cc6fa12d254647b66fba6a3435f048 li strong {\n",
       "                font-weight: bold;\n",
       "                color: #444444;\n",
       "            }\n",
       "            .container-24cc6fa12d254647b66fba6a3435f048 li::before {\n",
       "                content: \"- \";\n",
       "                color: #666666;\n",
       "            }\n",
       "            .container-24cc6fa12d254647b66fba6a3435f048 a {\n",
       "                color: #001633;\n",
       "                text-decoration: none;\n",
       "            }\n",
       "            .container-24cc6fa12d254647b66fba6a3435f048 a:hover {\n",
       "                color: #359ccb; \n",
       "            }\n",
       "        </style>\n",
       "        \n",
       "        <div class=\"container-24cc6fa12d254647b66fba6a3435f048\">\n",
       "            <h2>ForecasterRecursiveMultiSeries</h2>\n",
       "            <details open>\n",
       "                <summary>General Information</summary>\n",
       "                <ul>\n",
       "                    <li><strong>Regressor:</strong> LGBMRegressor(random_state=123, verbose=-1)</li>\n",
       "                    <li><strong>Lags:</strong> [1 2 3 4 5]</li>\n",
       "                    <li><strong>Window features:</strong> ['roll_mean_5', 'roll_sum_5']</li>\n",
       "                    <li><strong>Window size:</strong> 5</li>\n",
       "                    <li><strong>Series encoding:</strong> ordinal</li>\n",
       "                    <li><strong>Exogenous included:</strong> False</li>\n",
       "                    <li><strong>Weight function included:</strong> False</li>\n",
       "                    <li><strong>Series weights:</strong> None</li>\n",
       "                    <li><strong>Differentiation order:</strong> None</li>\n",
       "                    <li><strong>Creation date:</strong> 2024-11-08 11:39:51</li>\n",
       "                    <li><strong>Last fit date:</strong> 2024-11-08 11:39:51</li>\n",
       "                    <li><strong>Skforecast version:</strong> 0.14.0</li>\n",
       "                    <li><strong>Python version:</strong> 3.11.10</li>\n",
       "                    <li><strong>Forecaster id:</strong> None</li>\n",
       "                </ul>\n",
       "            </details>\n",
       "            <details>\n",
       "                <summary>Exogenous Variables</summary>\n",
       "                <ul>\n",
       "                    None\n",
       "                </ul>\n",
       "            </details>\n",
       "            <details>\n",
       "                <summary>Data Transformations</summary>\n",
       "                <ul>\n",
       "                    <li><strong>Transformer for series:</strong> None</li>\n",
       "                    <li><strong>Transformer for exog:</strong> None</li>\n",
       "                </ul>\n",
       "            </details>\n",
       "            <details>\n",
       "                <summary>Training Information</summary>\n",
       "                <ul>\n",
       "                    <li><strong>Series names (levels):</strong> item_1, item_2, item_3</li>\n",
       "                    <li><strong>Training range:</strong> 'item_1': ['2012-01-01', '2015-01-01'], 'item_2': ['2012-01-01', '2015-01-01'], 'item_3': ['2012-01-01', '2015-01-01']</li>\n",
       "                    <li><strong>Training index type:</strong> DatetimeIndex</li>\n",
       "                    <li><strong>Training index frequency:</strong> D</li>\n",
       "                </ul>\n",
       "            </details>\n",
       "            <details>\n",
       "                <summary>Regressor Parameters</summary>\n",
       "                <ul>\n",
       "                    {'boosting_type': 'gbdt', 'class_weight': None, 'colsample_bytree': 1.0, 'importance_type': 'split', 'learning_rate': 0.1, 'max_depth': -1, 'min_child_samples': 20, 'min_child_weight': 0.001, 'min_split_gain': 0.0, 'n_estimators': 100, 'n_jobs': None, 'num_leaves': 31, 'objective': None, 'random_state': 123, 'reg_alpha': 0.0, 'reg_lambda': 0.0, 'subsample': 1.0, 'subsample_for_bin': 200000, 'subsample_freq': 0, 'verbose': -1}\n",
       "                </ul>\n",
       "            </details>\n",
       "            <details>\n",
       "                <summary>Fit Kwargs</summary>\n",
       "                <ul>\n",
       "                    {}\n",
       "                </ul>\n",
       "            </details>\n",
       "            <p>\n",
       "                <a href=\"https://skforecast.org/0.14.0/api/forecasterrecursivemultiseries.html\">&#128712 <strong>API Reference</strong></a>\n",
       "                &nbsp;&nbsp;\n",
       "                <a href=\"https://skforecast.org/0.14.0/user_guides/independent-multi-time-series-forecasting.html\">&#128462 <strong>User Guide</strong></a>\n",
       "            </p>\n",
       "        </div>\n",
       "        "
      ],
      "text/plain": [
       "============================== \n",
       "ForecasterRecursiveMultiSeries \n",
       "============================== \n",
       "Regressor: LGBMRegressor(random_state=123, verbose=-1) \n",
       "Lags: [1 2 3 4 5] \n",
       "Window features: ['roll_mean_5', 'roll_sum_5'] \n",
       "Window size: 5 \n",
       "Series encoding: ordinal \n",
       "Series names (levels): item_1, item_2, item_3 \n",
       "Exogenous included: False \n",
       "Exogenous names: None \n",
       "Transformer for series: None \n",
       "Transformer for exog: None \n",
       "Weight function included: False \n",
       "Series weights: None \n",
       "Differentiation order: None \n",
       "Training range: \n",
       "    'item_1': ['2012-01-01', '2015-01-01'], 'item_2': ['2012-01-01', '2015-01-01'],\n",
       "    'item_3': ['2012-01-01', '2015-01-01'] \n",
       "Training index type: DatetimeIndex \n",
       "Training index frequency: D \n",
       "Regressor parameters: \n",
       "    {'boosting_type': 'gbdt', 'class_weight': None, 'colsample_bytree': 1.0,\n",
       "    'importance_type': 'split', 'learning_rate': 0.1, 'max_depth': -1,\n",
       "    'min_child_samples': 20, 'min_child_weight': 0.001, 'min_split_gain': 0.0,\n",
       "    'n_estimators': 100, 'n_jobs': None, 'num_leaves': 31, 'objective': None,\n",
       "    'random_state': 123, 'reg_alpha': 0.0, 'reg_lambda': 0.0, 'subsample': 1.0,\n",
       "    'subsample_for_bin': 200000, 'subsample_freq': 0, 'verbose': -1} \n",
       "fit_kwargs: {} \n",
       "Creation date: 2024-11-08 11:39:51 \n",
       "Last fit date: 2024-11-08 11:39:51 \n",
       "Skforecast version: 0.14.0 \n",
       "Python version: 3.11.10 \n",
       "Forecaster id: None "
      ]
     },
     "execution_count": 25,
     "metadata": {},
     "output_type": "execute_result"
    }
   ],
   "source": [
    "# Create and fit forecaster\n",
    "# ==============================================================================\n",
    "window_features = RollingFeatures(\n",
    "                      stats        = ['mean', 'sum'],\n",
    "                      window_sizes = [5, 5]\n",
    "                  )\n",
    "\n",
    "forecaster = ForecasterRecursiveMultiSeries(\n",
    "                 regressor       = LGBMRegressor(random_state=123, verbose=-1),\n",
    "                 lags            = 5,\n",
    "                 window_features = window_features,\n",
    "                 encoding        = 'ordinal'\n",
    "             )\n",
    "\n",
    "forecaster.fit(series=data_multiseries)\n",
    "forecaster"
   ]
  },
  {
   "cell_type": "code",
   "execution_count": 26,
   "metadata": {},
   "outputs": [],
   "source": [
    "# Create training matrices\n",
    "# ==============================================================================\n",
    "X_train, y_train = forecaster.create_train_X_y(series=data_multiseries)"
   ]
  },
  {
   "cell_type": "markdown",
   "metadata": {},
   "source": [
    "Depending on the [series encoding](../user_guides/independent-multi-time-series-forecasting.html#series-encoding-in-multi-series) selected, the column(s) generated to identify the series to which the observations belong may be different. In this case, the column `_level_skforecast` is generated as `encoding = 'ordinal'`."
   ]
  },
  {
   "cell_type": "code",
   "execution_count": 27,
   "metadata": {},
   "outputs": [
    {
     "data": {
      "text/html": [
       "<div>\n",
       "<style scoped>\n",
       "    .dataframe tbody tr th:only-of-type {\n",
       "        vertical-align: middle;\n",
       "    }\n",
       "\n",
       "    .dataframe tbody tr th {\n",
       "        vertical-align: top;\n",
       "    }\n",
       "\n",
       "    .dataframe thead th {\n",
       "        text-align: right;\n",
       "    }\n",
       "</style>\n",
       "<table border=\"1\" class=\"dataframe\">\n",
       "  <thead>\n",
       "    <tr style=\"text-align: right;\">\n",
       "      <th></th>\n",
       "      <th>lag_1</th>\n",
       "      <th>lag_2</th>\n",
       "      <th>lag_3</th>\n",
       "      <th>lag_4</th>\n",
       "      <th>lag_5</th>\n",
       "      <th>roll_mean_5</th>\n",
       "      <th>roll_sum_5</th>\n",
       "      <th>_level_skforecast</th>\n",
       "    </tr>\n",
       "    <tr>\n",
       "      <th>date</th>\n",
       "      <th></th>\n",
       "      <th></th>\n",
       "      <th></th>\n",
       "      <th></th>\n",
       "      <th></th>\n",
       "      <th></th>\n",
       "      <th></th>\n",
       "      <th></th>\n",
       "    </tr>\n",
       "  </thead>\n",
       "  <tbody>\n",
       "    <tr>\n",
       "      <th>2012-01-06</th>\n",
       "      <td>21.379238</td>\n",
       "      <td>25.895533</td>\n",
       "      <td>27.549099</td>\n",
       "      <td>22.777826</td>\n",
       "      <td>8.253175</td>\n",
       "      <td>21.170974</td>\n",
       "      <td>105.854870</td>\n",
       "      <td>0</td>\n",
       "    </tr>\n",
       "    <tr>\n",
       "      <th>2012-01-07</th>\n",
       "      <td>21.106643</td>\n",
       "      <td>21.379238</td>\n",
       "      <td>25.895533</td>\n",
       "      <td>27.549099</td>\n",
       "      <td>22.777826</td>\n",
       "      <td>23.741668</td>\n",
       "      <td>118.708338</td>\n",
       "      <td>0</td>\n",
       "    </tr>\n",
       "    <tr>\n",
       "      <th>2012-01-08</th>\n",
       "      <td>20.533871</td>\n",
       "      <td>21.106643</td>\n",
       "      <td>21.379238</td>\n",
       "      <td>25.895533</td>\n",
       "      <td>27.549099</td>\n",
       "      <td>23.292877</td>\n",
       "      <td>116.464384</td>\n",
       "      <td>0</td>\n",
       "    </tr>\n",
       "  </tbody>\n",
       "</table>\n",
       "</div>"
      ],
      "text/plain": [
       "                lag_1      lag_2      lag_3      lag_4      lag_5  \\\n",
       "date                                                                \n",
       "2012-01-06  21.379238  25.895533  27.549099  22.777826   8.253175   \n",
       "2012-01-07  21.106643  21.379238  25.895533  27.549099  22.777826   \n",
       "2012-01-08  20.533871  21.106643  21.379238  25.895533  27.549099   \n",
       "\n",
       "            roll_mean_5  roll_sum_5  _level_skforecast  \n",
       "date                                                    \n",
       "2012-01-06    21.170974  105.854870                  0  \n",
       "2012-01-07    23.741668  118.708338                  0  \n",
       "2012-01-08    23.292877  116.464384                  0  "
      ]
     },
     "execution_count": 27,
     "metadata": {},
     "output_type": "execute_result"
    }
   ],
   "source": [
    "# Predictors matrix\n",
    "# ==============================================================================\n",
    "X_train.head(3)"
   ]
  },
  {
   "cell_type": "code",
   "execution_count": 28,
   "metadata": {},
   "outputs": [
    {
     "data": {
      "text/plain": [
       "date\n",
       "2012-01-06    21.106643\n",
       "2012-01-07    20.533871\n",
       "2012-01-08    20.069327\n",
       "Name: y, dtype: float64"
      ]
     },
     "execution_count": 28,
     "metadata": {},
     "output_type": "execute_result"
    }
   ],
   "source": [
    "# Target variable matrix\n",
    "# ==============================================================================\n",
    "y_train.head(3)"
   ]
  },
  {
   "cell_type": "markdown",
   "metadata": {},
   "source": [
    "We can obtain the training predictions using the `predict` method of the regressor stored inside the forecaster object. By examining the predictions on the training data, analysts can get a better understanding of how the model is performing and make adjustments as necessary."
   ]
  },
  {
   "cell_type": "code",
   "execution_count": 29,
   "metadata": {},
   "outputs": [
    {
     "data": {
      "text/plain": [
       "array([19.54628549, 22.29989602, 20.10135048, 20.97563208])"
      ]
     },
     "execution_count": 29,
     "metadata": {},
     "output_type": "execute_result"
    }
   ],
   "source": [
    "# Training predictions using the internal regressor\n",
    "# ==============================================================================\n",
    "predictions_training = forecaster.regressor.predict(X_train)\n",
    "predictions_training[:4]"
   ]
  },
  {
   "cell_type": "markdown",
   "metadata": {},
   "source": [
    "Skforecast provides the `create_predict_X` method to generate the matrices that the forecaster is using to make predictions. This method can be used to gain insight into the specific data manipulations that occur during the prediction process."
   ]
  },
  {
   "cell_type": "code",
   "execution_count": 30,
   "metadata": {},
   "outputs": [
    {
     "data": {
      "text/html": [
       "<div>\n",
       "<style scoped>\n",
       "    .dataframe tbody tr th:only-of-type {\n",
       "        vertical-align: middle;\n",
       "    }\n",
       "\n",
       "    .dataframe tbody tr th {\n",
       "        vertical-align: top;\n",
       "    }\n",
       "\n",
       "    .dataframe thead th {\n",
       "        text-align: right;\n",
       "    }\n",
       "</style>\n",
       "<table border=\"1\" class=\"dataframe\">\n",
       "  <thead>\n",
       "    <tr style=\"text-align: right;\">\n",
       "      <th></th>\n",
       "      <th>lag_1</th>\n",
       "      <th>lag_2</th>\n",
       "      <th>lag_3</th>\n",
       "      <th>lag_4</th>\n",
       "      <th>lag_5</th>\n",
       "      <th>roll_mean_5</th>\n",
       "      <th>roll_sum_5</th>\n",
       "      <th>_level_skforecast</th>\n",
       "    </tr>\n",
       "  </thead>\n",
       "  <tbody>\n",
       "    <tr>\n",
       "      <th>2015-01-02</th>\n",
       "      <td>10.496302</td>\n",
       "      <td>18.721223</td>\n",
       "      <td>18.857026</td>\n",
       "      <td>19.611623</td>\n",
       "      <td>17.329233</td>\n",
       "      <td>17.003081</td>\n",
       "      <td>85.015406</td>\n",
       "      <td>0.0</td>\n",
       "    </tr>\n",
       "    <tr>\n",
       "      <th>2015-01-03</th>\n",
       "      <td>13.614696</td>\n",
       "      <td>10.496302</td>\n",
       "      <td>18.721223</td>\n",
       "      <td>18.857026</td>\n",
       "      <td>19.611623</td>\n",
       "      <td>16.260174</td>\n",
       "      <td>81.300869</td>\n",
       "      <td>0.0</td>\n",
       "    </tr>\n",
       "    <tr>\n",
       "      <th>2015-01-04</th>\n",
       "      <td>14.526244</td>\n",
       "      <td>13.614696</td>\n",
       "      <td>10.496302</td>\n",
       "      <td>18.721223</td>\n",
       "      <td>18.857026</td>\n",
       "      <td>15.243098</td>\n",
       "      <td>76.215490</td>\n",
       "      <td>0.0</td>\n",
       "    </tr>\n",
       "    <tr>\n",
       "      <th>2015-01-05</th>\n",
       "      <td>16.802037</td>\n",
       "      <td>14.526244</td>\n",
       "      <td>13.614696</td>\n",
       "      <td>10.496302</td>\n",
       "      <td>18.721223</td>\n",
       "      <td>14.832100</td>\n",
       "      <td>74.160501</td>\n",
       "      <td>0.0</td>\n",
       "    </tr>\n",
       "    <tr>\n",
       "      <th>2015-01-06</th>\n",
       "      <td>13.888023</td>\n",
       "      <td>16.802037</td>\n",
       "      <td>14.526244</td>\n",
       "      <td>13.614696</td>\n",
       "      <td>10.496302</td>\n",
       "      <td>13.865460</td>\n",
       "      <td>69.327302</td>\n",
       "      <td>0.0</td>\n",
       "    </tr>\n",
       "  </tbody>\n",
       "</table>\n",
       "</div>"
      ],
      "text/plain": [
       "                lag_1      lag_2      lag_3      lag_4      lag_5  \\\n",
       "2015-01-02  10.496302  18.721223  18.857026  19.611623  17.329233   \n",
       "2015-01-03  13.614696  10.496302  18.721223  18.857026  19.611623   \n",
       "2015-01-04  14.526244  13.614696  10.496302  18.721223  18.857026   \n",
       "2015-01-05  16.802037  14.526244  13.614696  10.496302  18.721223   \n",
       "2015-01-06  13.888023  16.802037  14.526244  13.614696  10.496302   \n",
       "\n",
       "            roll_mean_5  roll_sum_5  _level_skforecast  \n",
       "2015-01-02    17.003081   85.015406                0.0  \n",
       "2015-01-03    16.260174   81.300869                0.0  \n",
       "2015-01-04    15.243098   76.215490                0.0  \n",
       "2015-01-05    14.832100   74.160501                0.0  \n",
       "2015-01-06    13.865460   69.327302                0.0  "
      ]
     },
     "execution_count": 30,
     "metadata": {},
     "output_type": "execute_result"
    }
   ],
   "source": [
    "# Create input matrix for predict method\n",
    "# ==============================================================================\n",
    "X_predict_dict = forecaster.create_predict_X(steps=5, levels=None)  # All levels\n",
    "\n",
    "# Check 'item_1' matrix\n",
    "X_predict_item_1 = X_predict_dict['item_1']\n",
    "X_predict_item_1.head()"
   ]
  },
  {
   "cell_type": "code",
   "execution_count": 31,
   "metadata": {},
   "outputs": [
    {
     "data": {
      "text/plain": [
       "array([13.61469596, 14.5262436 , 16.80203691, 13.88802319, 15.13547167])"
      ]
     },
     "execution_count": 31,
     "metadata": {},
     "output_type": "execute_result"
    }
   ],
   "source": [
    "# Predict 'item_1' using the internal regressor\n",
    "# ==============================================================================\n",
    "predictions_item_1 = forecaster.regressor.predict(X_predict_item_1)\n",
    "predictions_item_1"
   ]
  },
  {
   "cell_type": "markdown",
   "metadata": {},
   "source": [
    "## ForecasterDirectMultiVariate"
   ]
  },
  {
   "cell_type": "code",
   "execution_count": 32,
   "metadata": {},
   "outputs": [
    {
     "ename": "SyntaxError",
     "evalue": "invalid syntax (4017805574.py, line 1)",
     "output_type": "error",
     "traceback": [
      "\u001b[1;36m  Cell \u001b[1;32mIn[32], line 1\u001b[1;36m\u001b[0m\n\u001b[1;33m    Borrar esta celda de fillna\u001b[0m\n\u001b[1;37m           ^\u001b[0m\n\u001b[1;31mSyntaxError\u001b[0m\u001b[1;31m:\u001b[0m invalid syntax\n"
     ]
    }
   ],
   "source": [
    "Borrar esta celda de fillna"
   ]
  },
  {
   "cell_type": "code",
   "execution_count": 33,
   "metadata": {},
   "outputs": [],
   "source": [
    "# TODO: Borrar esta celda de fillna\n",
    "data_multivariate = data_multivariate.fillna(0)"
   ]
  },
  {
   "cell_type": "code",
   "execution_count": 34,
   "metadata": {},
   "outputs": [
    {
     "data": {
      "text/html": [
       "<div>\n",
       "<style scoped>\n",
       "    .dataframe tbody tr th:only-of-type {\n",
       "        vertical-align: middle;\n",
       "    }\n",
       "\n",
       "    .dataframe tbody tr th {\n",
       "        vertical-align: top;\n",
       "    }\n",
       "\n",
       "    .dataframe thead th {\n",
       "        text-align: right;\n",
       "    }\n",
       "</style>\n",
       "<table border=\"1\" class=\"dataframe\">\n",
       "  <thead>\n",
       "    <tr style=\"text-align: right;\">\n",
       "      <th></th>\n",
       "      <th>pm2.5</th>\n",
       "      <th>co</th>\n",
       "      <th>no</th>\n",
       "      <th>no2</th>\n",
       "      <th>pm10</th>\n",
       "      <th>nox</th>\n",
       "      <th>o3</th>\n",
       "      <th>veloc.</th>\n",
       "      <th>direc.</th>\n",
       "      <th>so2</th>\n",
       "    </tr>\n",
       "    <tr>\n",
       "      <th>datetime</th>\n",
       "      <th></th>\n",
       "      <th></th>\n",
       "      <th></th>\n",
       "      <th></th>\n",
       "      <th></th>\n",
       "      <th></th>\n",
       "      <th></th>\n",
       "      <th></th>\n",
       "      <th></th>\n",
       "      <th></th>\n",
       "    </tr>\n",
       "  </thead>\n",
       "  <tbody>\n",
       "    <tr>\n",
       "      <th>2019-01-01 00:00:00</th>\n",
       "      <td>19.0</td>\n",
       "      <td>0.2</td>\n",
       "      <td>3.0</td>\n",
       "      <td>36.0</td>\n",
       "      <td>22.0</td>\n",
       "      <td>40.0</td>\n",
       "      <td>16.0</td>\n",
       "      <td>0.5</td>\n",
       "      <td>262.0</td>\n",
       "      <td>8.0</td>\n",
       "    </tr>\n",
       "    <tr>\n",
       "      <th>2019-01-01 01:00:00</th>\n",
       "      <td>26.0</td>\n",
       "      <td>0.1</td>\n",
       "      <td>2.0</td>\n",
       "      <td>40.0</td>\n",
       "      <td>32.0</td>\n",
       "      <td>44.0</td>\n",
       "      <td>6.0</td>\n",
       "      <td>0.6</td>\n",
       "      <td>248.0</td>\n",
       "      <td>8.0</td>\n",
       "    </tr>\n",
       "    <tr>\n",
       "      <th>2019-01-01 02:00:00</th>\n",
       "      <td>31.0</td>\n",
       "      <td>0.1</td>\n",
       "      <td>11.0</td>\n",
       "      <td>42.0</td>\n",
       "      <td>36.0</td>\n",
       "      <td>58.0</td>\n",
       "      <td>3.0</td>\n",
       "      <td>0.3</td>\n",
       "      <td>224.0</td>\n",
       "      <td>8.0</td>\n",
       "    </tr>\n",
       "  </tbody>\n",
       "</table>\n",
       "</div>"
      ],
      "text/plain": [
       "                     pm2.5   co    no   no2  pm10   nox    o3  veloc.  direc.  \\\n",
       "datetime                                                                        \n",
       "2019-01-01 00:00:00   19.0  0.2   3.0  36.0  22.0  40.0  16.0     0.5   262.0   \n",
       "2019-01-01 01:00:00   26.0  0.1   2.0  40.0  32.0  44.0   6.0     0.6   248.0   \n",
       "2019-01-01 02:00:00   31.0  0.1  11.0  42.0  36.0  58.0   3.0     0.3   224.0   \n",
       "\n",
       "                     so2  \n",
       "datetime                  \n",
       "2019-01-01 00:00:00  8.0  \n",
       "2019-01-01 01:00:00  8.0  \n",
       "2019-01-01 02:00:00  8.0  "
      ]
     },
     "metadata": {},
     "output_type": "display_data"
    },
    {
     "data": {
      "image/png": "[encoded data removed]",
      "text/plain": [
       "<Figure size 900x400 with 3 Axes>"
      ]
     },
     "metadata": {},
     "output_type": "display_data"
    }
   ],
   "source": [
    "# Data\n",
    "# ==============================================================================\n",
    "display(data_multivariate.head(3))\n",
    "\n",
    "# Plot\n",
    "# ==============================================================================\n",
    "fig, axes = plt.subplots(nrows=3, ncols=1, figsize=(9, 4), sharex=True)\n",
    "\n",
    "for i, col in enumerate(data_multivariate.columns[:3]):\n",
    "    data_multivariate[col].plot(ax=axes[i])\n",
    "    axes[i].set_xlabel('')\n",
    "    axes[i].set_ylabel('sales')\n",
    "    axes[i].set_title(col)\n",
    "\n",
    "fig.tight_layout()\n",
    "plt.show();"
   ]
  },
  {
   "cell_type": "code",
   "execution_count": 35,
   "metadata": {},
   "outputs": [
    {
     "data": {
      "text/html": [
       "\n",
       "        <style>\n",
       "            .container-ef39e808c53f4b7a888a1f8fc63f1114 {\n",
       "                font-family: 'Arial', sans-serif;\n",
       "                font-size: 0.9em;\n",
       "                color: #333333;\n",
       "                border: 1px solid #ddd;\n",
       "                background-color: #f0f8ff;\n",
       "                padding: 5px 15px;\n",
       "                border-radius: 8px;\n",
       "                max-width: 600px;\n",
       "                #margin: auto;\n",
       "            }\n",
       "            .container-ef39e808c53f4b7a888a1f8fc63f1114 h2 {\n",
       "                font-size: 1.5em;\n",
       "                color: #222222;\n",
       "                border-bottom: 2px solid #ddd;\n",
       "                padding-bottom: 5px;\n",
       "                margin-bottom: 15px;\n",
       "            }\n",
       "            .container-ef39e808c53f4b7a888a1f8fc63f1114 details {\n",
       "                margin: 10px 0;\n",
       "            }\n",
       "            .container-ef39e808c53f4b7a888a1f8fc63f1114 summary {\n",
       "                font-weight: bold;\n",
       "                font-size: 1.1em;\n",
       "                color: #333333;\n",
       "                cursor: pointer;\n",
       "                margin-bottom: 5px;\n",
       "                background-color: #b3dbfd;\n",
       "                padding: 5px;\n",
       "                border-radius: 5px;\n",
       "            }\n",
       "            .container-ef39e808c53f4b7a888a1f8fc63f1114 summary:hover {\n",
       "                color: #333333;\n",
       "                background-color: #e0e0e0;\n",
       "            }\n",
       "            .container-ef39e808c53f4b7a888a1f8fc63f1114 ul {\n",
       "                font-family: 'Courier New', monospace;\n",
       "                list-style-type: none;\n",
       "                padding-left: 20px;\n",
       "                margin: 10px 0;\n",
       "            }\n",
       "            .container-ef39e808c53f4b7a888a1f8fc63f1114 li {\n",
       "                margin: 5px 0;\n",
       "                font-family: 'Courier New', monospace;\n",
       "            }\n",
       "            .container-ef39e808c53f4b7a888a1f8fc63f1114 li strong {\n",
       "                font-weight: bold;\n",
       "                color: #444444;\n",
       "            }\n",
       "            .container-ef39e808c53f4b7a888a1f8fc63f1114 li::before {\n",
       "                content: \"- \";\n",
       "                color: #666666;\n",
       "            }\n",
       "            .container-ef39e808c53f4b7a888a1f8fc63f1114 a {\n",
       "                color: #001633;\n",
       "                text-decoration: none;\n",
       "            }\n",
       "            .container-ef39e808c53f4b7a888a1f8fc63f1114 a:hover {\n",
       "                color: #359ccb; \n",
       "            }\n",
       "        </style>\n",
       "        \n",
       "        <div class=\"container-ef39e808c53f4b7a888a1f8fc63f1114\">\n",
       "            <h2>ForecasterDirectMultiVariate</h2>\n",
       "            <details open>\n",
       "                <summary>General Information</summary>\n",
       "                <ul>\n",
       "                    <li><strong>Regressor:</strong> Ridge(random_state=123)</li>\n",
       "                    <li><strong>Target series (level):</strong> co</li>\n",
       "                    <li><strong>Lags:</strong> [1 2 3]</li>\n",
       "                    <li><strong>Window features:</strong> ['roll_mean_5', 'roll_sum_5']</li>\n",
       "                    <li><strong>Window size:</strong> 5</li>\n",
       "                    <li><strong>Maximum steps to predict:</strong> 3</li>\n",
       "                    <li><strong>Exogenous included:</strong> False</li>\n",
       "                    <li><strong>Weight function included:</strong> False</li>\n",
       "                    <li><strong>Differentiation order:</strong> None</li>\n",
       "                    <li><strong>Creation date:</strong> 2024-11-08 11:39:56</li>\n",
       "                    <li><strong>Last fit date:</strong> 2024-11-08 11:39:56</li>\n",
       "                    <li><strong>Skforecast version:</strong> 0.14.0</li>\n",
       "                    <li><strong>Python version:</strong> 3.11.10</li>\n",
       "                    <li><strong>Forecaster id:</strong> None</li>\n",
       "                </ul>\n",
       "            </details>\n",
       "            <details>\n",
       "                <summary>Exogenous Variables</summary>\n",
       "                <ul>\n",
       "                    None\n",
       "                </ul>\n",
       "            </details>\n",
       "            <details>\n",
       "                <summary>Data Transformations</summary>\n",
       "                <ul>\n",
       "                    <li><strong>Transformer for series:</strong> StandardScaler()</li>\n",
       "                    <li><strong>Transformer for exog:</strong> None</li>\n",
       "                </ul>\n",
       "            </details>\n",
       "            <details>\n",
       "                <summary>Training Information</summary>\n",
       "                <ul>\n",
       "                    <li><strong>Target series (level):</strong> co</li>\n",
       "                    <li><strong>Multivariate series:</strong> pm2.5, co, no, no2, pm10, nox, o3, veloc., direc., so2</li>\n",
       "                    <li><strong>Training range:</strong> [Timestamp('2019-01-01 00:00:00'), Timestamp('2021-12-31 23:00:00')]</li>\n",
       "                    <li><strong>Training index type:</strong> DatetimeIndex</li>\n",
       "                    <li><strong>Training index frequency:</strong> h</li>\n",
       "                </ul>\n",
       "            </details>\n",
       "            <details>\n",
       "                <summary>Regressor Parameters</summary>\n",
       "                <ul>\n",
       "                    {'alpha': 1.0, 'copy_X': True, 'fit_intercept': True, 'max_iter': None, 'positive': False, 'random_state': 123, 'solver': 'auto', 'tol': 0.0001}\n",
       "                </ul>\n",
       "            </details>\n",
       "            <details>\n",
       "                <summary>Fit Kwargs</summary>\n",
       "                <ul>\n",
       "                    {}\n",
       "                </ul>\n",
       "            </details>\n",
       "            <p>\n",
       "                <a href=\"https://skforecast.org/0.14.0/api/forecasterdirectmultivariate.html\">&#128712 <strong>API Reference</strong></a>\n",
       "                &nbsp;&nbsp;\n",
       "                <a href=\"https://skforecast.org/0.14.0/user_guides/dependent-multi-series-multivariate-forecasting.html\">&#128462 <strong>User Guide</strong></a>\n",
       "            </p>\n",
       "        </div>\n",
       "        "
      ],
      "text/plain": [
       "============================ \n",
       "ForecasterDirectMultiVariate \n",
       "============================ \n",
       "Regressor: Ridge(random_state=123) \n",
       "Target series (level): co \n",
       "Lags: [1 2 3] \n",
       "Window features: ['roll_mean_5', 'roll_sum_5'] \n",
       "Window size: 5 \n",
       "Maximum steps to predict: 3 \n",
       "Multivariate series: pm2.5, co, no, no2, pm10, nox, o3, veloc., direc., so2 \n",
       "Exogenous included: False \n",
       "Exogenous names: None \n",
       "Transformer for series: StandardScaler() \n",
       "Transformer for exog: None \n",
       "Weight function included: False \n",
       "Differentiation order: None \n",
       "Training range: [Timestamp('2019-01-01 00:00:00'), Timestamp('2021-12-31 23:00:00')] \n",
       "Training index type: DatetimeIndex \n",
       "Training index frequency: h \n",
       "Regressor parameters: \n",
       "    {'alpha': 1.0, 'copy_X': True, 'fit_intercept': True, 'max_iter': None,\n",
       "    'positive': False, 'random_state': 123, 'solver': 'auto', 'tol': 0.0001} \n",
       "fit_kwargs: {} \n",
       "Creation date: 2024-11-08 11:39:56 \n",
       "Last fit date: 2024-11-08 11:39:56 \n",
       "Skforecast version: 0.14.0 \n",
       "Python version: 3.11.10 \n",
       "Forecaster id: None "
      ]
     },
     "execution_count": 35,
     "metadata": {},
     "output_type": "execute_result"
    }
   ],
   "source": [
    "# Create and fit forecaster\n",
    "# ==============================================================================\n",
    "window_features = RollingFeatures(\n",
    "                      stats        = ['mean', 'sum'],\n",
    "                      window_sizes = [5, 5]\n",
    "                  )\n",
    "\n",
    "forecaster = ForecasterDirectMultiVariate(\n",
    "                 regressor       = Ridge(random_state=123),\n",
    "                 level           = 'co',\n",
    "                 steps           = 3,\n",
    "                 lags            = 3,\n",
    "                 window_features = window_features\n",
    "             )\n",
    "\n",
    "forecaster.fit(series=data_multivariate)\n",
    "forecaster"
   ]
  },
  {
   "cell_type": "code",
   "execution_count": 36,
   "metadata": {},
   "outputs": [
    {
     "name": "stdout",
     "output_type": "stream",
     "text": [
      "Columns : ['pm2.5_lag_1', 'pm2.5_lag_2', 'pm2.5_lag_3', 'pm2.5_roll_mean_5', 'pm2.5_roll_sum_5', 'co_lag_1', 'co_lag_2', 'co_lag_3', 'co_roll_mean_5', 'co_roll_sum_5', 'no_lag_1', 'no_lag_2', 'no_lag_3', 'no_roll_mean_5', 'no_roll_sum_5', 'no2_lag_1', 'no2_lag_2', 'no2_lag_3', 'no2_roll_mean_5', 'no2_roll_sum_5', 'pm10_lag_1', 'pm10_lag_2', 'pm10_lag_3', 'pm10_roll_mean_5', 'pm10_roll_sum_5', 'nox_lag_1', 'nox_lag_2', 'nox_lag_3', 'nox_roll_mean_5', 'nox_roll_sum_5', 'o3_lag_1', 'o3_lag_2', 'o3_lag_3', 'o3_roll_mean_5', 'o3_roll_sum_5', 'veloc._lag_1', 'veloc._lag_2', 'veloc._lag_3', 'veloc._roll_mean_5', 'veloc._roll_sum_5', 'direc._lag_1', 'direc._lag_2', 'direc._lag_3', 'direc._roll_mean_5', 'direc._roll_sum_5', 'so2_lag_1', 'so2_lag_2', 'so2_lag_3', 'so2_roll_mean_5', 'so2_roll_sum_5']\n"
     ]
    },
    {
     "data": {
      "text/html": [
       "<div>\n",
       "<style scoped>\n",
       "    .dataframe tbody tr th:only-of-type {\n",
       "        vertical-align: middle;\n",
       "    }\n",
       "\n",
       "    .dataframe tbody tr th {\n",
       "        vertical-align: top;\n",
       "    }\n",
       "\n",
       "    .dataframe thead th {\n",
       "        text-align: right;\n",
       "    }\n",
       "</style>\n",
       "<table border=\"1\" class=\"dataframe\">\n",
       "  <thead>\n",
       "    <tr style=\"text-align: right;\">\n",
       "      <th></th>\n",
       "      <th>pm2.5_lag_1</th>\n",
       "      <th>pm2.5_lag_2</th>\n",
       "      <th>pm2.5_lag_3</th>\n",
       "      <th>pm2.5_roll_mean_5</th>\n",
       "      <th>pm2.5_roll_sum_5</th>\n",
       "      <th>co_lag_1</th>\n",
       "      <th>co_lag_2</th>\n",
       "      <th>co_lag_3</th>\n",
       "      <th>co_roll_mean_5</th>\n",
       "      <th>co_roll_sum_5</th>\n",
       "      <th>...</th>\n",
       "      <th>direc._lag_1</th>\n",
       "      <th>direc._lag_2</th>\n",
       "      <th>direc._lag_3</th>\n",
       "      <th>direc._roll_mean_5</th>\n",
       "      <th>direc._roll_sum_5</th>\n",
       "      <th>so2_lag_1</th>\n",
       "      <th>so2_lag_2</th>\n",
       "      <th>so2_lag_3</th>\n",
       "      <th>so2_roll_mean_5</th>\n",
       "      <th>so2_roll_sum_5</th>\n",
       "    </tr>\n",
       "    <tr>\n",
       "      <th>datetime</th>\n",
       "      <th></th>\n",
       "      <th></th>\n",
       "      <th></th>\n",
       "      <th></th>\n",
       "      <th></th>\n",
       "      <th></th>\n",
       "      <th></th>\n",
       "      <th></th>\n",
       "      <th></th>\n",
       "      <th></th>\n",
       "      <th></th>\n",
       "      <th></th>\n",
       "      <th></th>\n",
       "      <th></th>\n",
       "      <th></th>\n",
       "      <th></th>\n",
       "      <th></th>\n",
       "      <th></th>\n",
       "      <th></th>\n",
       "      <th></th>\n",
       "      <th></th>\n",
       "    </tr>\n",
       "  </thead>\n",
       "  <tbody>\n",
       "    <tr>\n",
       "      <th>2019-01-01 05:00:00</th>\n",
       "      <td>2.466913</td>\n",
       "      <td>2.466913</td>\n",
       "      <td>2.582314</td>\n",
       "      <td>2.143788</td>\n",
       "      <td>10.718940</td>\n",
       "      <td>-0.315764</td>\n",
       "      <td>-0.315764</td>\n",
       "      <td>-0.315764</td>\n",
       "      <td>-0.053460</td>\n",
       "      <td>-0.267300</td>\n",
       "      <td>...</td>\n",
       "      <td>0.557454</td>\n",
       "      <td>0.547727</td>\n",
       "      <td>0.586634</td>\n",
       "      <td>0.693628</td>\n",
       "      <td>3.468140</td>\n",
       "      <td>4.388142</td>\n",
       "      <td>3.784672</td>\n",
       "      <td>2.577732</td>\n",
       "      <td>3.181202</td>\n",
       "      <td>15.906012</td>\n",
       "    </tr>\n",
       "    <tr>\n",
       "      <th>2019-01-01 06:00:00</th>\n",
       "      <td>1.774503</td>\n",
       "      <td>2.466913</td>\n",
       "      <td>2.466913</td>\n",
       "      <td>2.259190</td>\n",
       "      <td>11.295948</td>\n",
       "      <td>-0.315764</td>\n",
       "      <td>-0.315764</td>\n",
       "      <td>-0.315764</td>\n",
       "      <td>-0.315764</td>\n",
       "      <td>-1.578821</td>\n",
       "      <td>...</td>\n",
       "      <td>0.664448</td>\n",
       "      <td>0.557454</td>\n",
       "      <td>0.547727</td>\n",
       "      <td>0.635268</td>\n",
       "      <td>3.176338</td>\n",
       "      <td>3.784672</td>\n",
       "      <td>4.388142</td>\n",
       "      <td>3.784672</td>\n",
       "      <td>3.422590</td>\n",
       "      <td>17.112952</td>\n",
       "    </tr>\n",
       "    <tr>\n",
       "      <th>2019-01-01 07:00:00</th>\n",
       "      <td>0.620486</td>\n",
       "      <td>1.774503</td>\n",
       "      <td>2.466913</td>\n",
       "      <td>1.982226</td>\n",
       "      <td>9.911128</td>\n",
       "      <td>-0.315764</td>\n",
       "      <td>-0.315764</td>\n",
       "      <td>-0.315764</td>\n",
       "      <td>-0.315764</td>\n",
       "      <td>-1.578821</td>\n",
       "      <td>...</td>\n",
       "      <td>0.771442</td>\n",
       "      <td>0.664448</td>\n",
       "      <td>0.557454</td>\n",
       "      <td>0.625541</td>\n",
       "      <td>3.127705</td>\n",
       "      <td>3.784672</td>\n",
       "      <td>3.784672</td>\n",
       "      <td>4.388142</td>\n",
       "      <td>3.663978</td>\n",
       "      <td>18.319892</td>\n",
       "    </tr>\n",
       "  </tbody>\n",
       "</table>\n",
       "<p>3 rows × 50 columns</p>\n",
       "</div>"
      ],
      "text/plain": [
       "                     pm2.5_lag_1  pm2.5_lag_2  pm2.5_lag_3  pm2.5_roll_mean_5  \\\n",
       "datetime                                                                        \n",
       "2019-01-01 05:00:00     2.466913     2.466913     2.582314           2.143788   \n",
       "2019-01-01 06:00:00     1.774503     2.466913     2.466913           2.259190   \n",
       "2019-01-01 07:00:00     0.620486     1.774503     2.466913           1.982226   \n",
       "\n",
       "                     pm2.5_roll_sum_5  co_lag_1  co_lag_2  co_lag_3  \\\n",
       "datetime                                                              \n",
       "2019-01-01 05:00:00         10.718940 -0.315764 -0.315764 -0.315764   \n",
       "2019-01-01 06:00:00         11.295948 -0.315764 -0.315764 -0.315764   \n",
       "2019-01-01 07:00:00          9.911128 -0.315764 -0.315764 -0.315764   \n",
       "\n",
       "                     co_roll_mean_5  co_roll_sum_5  ...  direc._lag_1  \\\n",
       "datetime                                            ...                 \n",
       "2019-01-01 05:00:00       -0.053460      -0.267300  ...      0.557454   \n",
       "2019-01-01 06:00:00       -0.315764      -1.578821  ...      0.664448   \n",
       "2019-01-01 07:00:00       -0.315764      -1.578821  ...      0.771442   \n",
       "\n",
       "                     direc._lag_2  direc._lag_3  direc._roll_mean_5  \\\n",
       "datetime                                                              \n",
       "2019-01-01 05:00:00      0.547727      0.586634            0.693628   \n",
       "2019-01-01 06:00:00      0.557454      0.547727            0.635268   \n",
       "2019-01-01 07:00:00      0.664448      0.557454            0.625541   \n",
       "\n",
       "                     direc._roll_sum_5  so2_lag_1  so2_lag_2  so2_lag_3  \\\n",
       "datetime                                                                  \n",
       "2019-01-01 05:00:00           3.468140   4.388142   3.784672   2.577732   \n",
       "2019-01-01 06:00:00           3.176338   3.784672   4.388142   3.784672   \n",
       "2019-01-01 07:00:00           3.127705   3.784672   3.784672   4.388142   \n",
       "\n",
       "                     so2_roll_mean_5  so2_roll_sum_5  \n",
       "datetime                                              \n",
       "2019-01-01 05:00:00         3.181202       15.906012  \n",
       "2019-01-01 06:00:00         3.422590       17.112952  \n",
       "2019-01-01 07:00:00         3.663978       18.319892  \n",
       "\n",
       "[3 rows x 50 columns]"
      ]
     },
     "execution_count": 36,
     "metadata": {},
     "output_type": "execute_result"
    }
   ],
   "source": [
    "# Create the whole train matrix\n",
    "# ==============================================================================\n",
    "X_train, y_train = forecaster.create_train_X_y(series=data_multivariate)\n",
    "\n",
    "# Extract X and y for step 1\n",
    "X_train_1, y_train_1 = forecaster.filter_train_X_y_for_step(\n",
    "                           step          = 1,\n",
    "                           X_train       = X_train,\n",
    "                           y_train       = y_train,\n",
    "                           remove_suffix = False\n",
    "                       )\n",
    "\n",
    "print(\"Columns :\", list(X_train_1.columns))\n",
    "X_train_1.head(3)"
   ]
  },
  {
   "cell_type": "code",
   "execution_count": 37,
   "metadata": {},
   "outputs": [
    {
     "data": {
      "text/plain": [
       "datetime\n",
       "2019-01-01 05:00:00   -0.315764\n",
       "2019-01-01 06:00:00   -0.315764\n",
       "2019-01-01 07:00:00   -0.315764\n",
       "Freq: h, Name: co_step_1, dtype: float64"
      ]
     },
     "execution_count": 37,
     "metadata": {},
     "output_type": "execute_result"
    }
   ],
   "source": [
    "# Target variable matrix for step 1\n",
    "# ==============================================================================\n",
    "y_train_1.head(3)"
   ]
  },
  {
   "cell_type": "code",
   "execution_count": 38,
   "metadata": {},
   "outputs": [
    {
     "data": {
      "text/plain": [
       "{1: Ridge(random_state=123),\n",
       " 2: Ridge(random_state=123),\n",
       " 3: Ridge(random_state=123)}"
      ]
     },
     "execution_count": 38,
     "metadata": {},
     "output_type": "execute_result"
    }
   ],
   "source": [
    "# Internal regressors {step: regressor}\n",
    "# ==============================================================================\n",
    "forecaster.regressors_"
   ]
  },
  {
   "cell_type": "code",
   "execution_count": 39,
   "metadata": {},
   "outputs": [
    {
     "data": {
      "text/plain": [
       "array([-0.2709172 , -0.29358109, -0.28542984, -0.15995769])"
      ]
     },
     "execution_count": 39,
     "metadata": {},
     "output_type": "execute_result"
    }
   ],
   "source": [
    "# Step 1 training predictions using the internal regressor\n",
    "# ==============================================================================\n",
    "predictions_training = forecaster.regressors_[1].predict(X_train_1)\n",
    "predictions_training[:4]"
   ]
  },
  {
   "cell_type": "code",
   "execution_count": 40,
   "metadata": {},
   "outputs": [
    {
     "name": "stderr",
     "output_type": "stream",
     "text": [
      "c:\\Users\\jaesc2\\Miniconda3\\envs\\skforecast_py11_2\\Lib\\site-packages\\skforecast\\direct\\_forecaster_direct_multivariate.py:1701: UserWarning: The output matrix is in the transformed scale due to the inclusion of transformations or differentiation in the Forecaster. As a result, any predictions generated using this matrix will also be in the transformed scale. Please refer to the documentation for more details: https://skforecast.org/latest/user_guides/dependent-multi-series-multivariate-forecasting#extract-prediction-matrices\n",
      "  warnings.warn(\n"
     ]
    },
    {
     "data": {
      "text/html": [
       "<div>\n",
       "<style scoped>\n",
       "    .dataframe tbody tr th:only-of-type {\n",
       "        vertical-align: middle;\n",
       "    }\n",
       "\n",
       "    .dataframe tbody tr th {\n",
       "        vertical-align: top;\n",
       "    }\n",
       "\n",
       "    .dataframe thead th {\n",
       "        text-align: right;\n",
       "    }\n",
       "</style>\n",
       "<table border=\"1\" class=\"dataframe\">\n",
       "  <thead>\n",
       "    <tr style=\"text-align: right;\">\n",
       "      <th></th>\n",
       "      <th>pm2.5_lag_1</th>\n",
       "      <th>pm2.5_lag_2</th>\n",
       "      <th>pm2.5_lag_3</th>\n",
       "      <th>pm2.5_roll_mean_5</th>\n",
       "      <th>pm2.5_roll_sum_5</th>\n",
       "      <th>co_lag_1</th>\n",
       "      <th>co_lag_2</th>\n",
       "      <th>co_lag_3</th>\n",
       "      <th>co_roll_mean_5</th>\n",
       "      <th>co_roll_sum_5</th>\n",
       "      <th>...</th>\n",
       "      <th>direc._lag_1</th>\n",
       "      <th>direc._lag_2</th>\n",
       "      <th>direc._lag_3</th>\n",
       "      <th>direc._roll_mean_5</th>\n",
       "      <th>direc._roll_sum_5</th>\n",
       "      <th>so2_lag_1</th>\n",
       "      <th>so2_lag_2</th>\n",
       "      <th>so2_lag_3</th>\n",
       "      <th>so2_roll_mean_5</th>\n",
       "      <th>so2_roll_sum_5</th>\n",
       "    </tr>\n",
       "  </thead>\n",
       "  <tbody>\n",
       "    <tr>\n",
       "      <th>2022-01-01 00:00:00</th>\n",
       "      <td>4.774946</td>\n",
       "      <td>3.967135</td>\n",
       "      <td>2.928519</td>\n",
       "      <td>3.413206</td>\n",
       "      <td>17.066032</td>\n",
       "      <td>-0.315764</td>\n",
       "      <td>-0.315764</td>\n",
       "      <td>-0.315764</td>\n",
       "      <td>-0.315764</td>\n",
       "      <td>-1.578821</td>\n",
       "      <td>...</td>\n",
       "      <td>-0.872372</td>\n",
       "      <td>-0.502757</td>\n",
       "      <td>-0.775105</td>\n",
       "      <td>-0.767324</td>\n",
       "      <td>-3.83662</td>\n",
       "      <td>-0.439617</td>\n",
       "      <td>0.767323</td>\n",
       "      <td>0.767323</td>\n",
       "      <td>0.163853</td>\n",
       "      <td>0.819264</td>\n",
       "    </tr>\n",
       "    <tr>\n",
       "      <th>2022-01-01 01:00:00</th>\n",
       "      <td>4.774946</td>\n",
       "      <td>3.967135</td>\n",
       "      <td>2.928519</td>\n",
       "      <td>3.413206</td>\n",
       "      <td>17.066032</td>\n",
       "      <td>-0.315764</td>\n",
       "      <td>-0.315764</td>\n",
       "      <td>-0.315764</td>\n",
       "      <td>-0.315764</td>\n",
       "      <td>-1.578821</td>\n",
       "      <td>...</td>\n",
       "      <td>-0.872372</td>\n",
       "      <td>-0.502757</td>\n",
       "      <td>-0.775105</td>\n",
       "      <td>-0.767324</td>\n",
       "      <td>-3.83662</td>\n",
       "      <td>-0.439617</td>\n",
       "      <td>0.767323</td>\n",
       "      <td>0.767323</td>\n",
       "      <td>0.163853</td>\n",
       "      <td>0.819264</td>\n",
       "    </tr>\n",
       "    <tr>\n",
       "      <th>2022-01-01 02:00:00</th>\n",
       "      <td>4.774946</td>\n",
       "      <td>3.967135</td>\n",
       "      <td>2.928519</td>\n",
       "      <td>3.413206</td>\n",
       "      <td>17.066032</td>\n",
       "      <td>-0.315764</td>\n",
       "      <td>-0.315764</td>\n",
       "      <td>-0.315764</td>\n",
       "      <td>-0.315764</td>\n",
       "      <td>-1.578821</td>\n",
       "      <td>...</td>\n",
       "      <td>-0.872372</td>\n",
       "      <td>-0.502757</td>\n",
       "      <td>-0.775105</td>\n",
       "      <td>-0.767324</td>\n",
       "      <td>-3.83662</td>\n",
       "      <td>-0.439617</td>\n",
       "      <td>0.767323</td>\n",
       "      <td>0.767323</td>\n",
       "      <td>0.163853</td>\n",
       "      <td>0.819264</td>\n",
       "    </tr>\n",
       "  </tbody>\n",
       "</table>\n",
       "<p>3 rows × 50 columns</p>\n",
       "</div>"
      ],
      "text/plain": [
       "                     pm2.5_lag_1  pm2.5_lag_2  pm2.5_lag_3  pm2.5_roll_mean_5  \\\n",
       "2022-01-01 00:00:00     4.774946     3.967135     2.928519           3.413206   \n",
       "2022-01-01 01:00:00     4.774946     3.967135     2.928519           3.413206   \n",
       "2022-01-01 02:00:00     4.774946     3.967135     2.928519           3.413206   \n",
       "\n",
       "                     pm2.5_roll_sum_5  co_lag_1  co_lag_2  co_lag_3  \\\n",
       "2022-01-01 00:00:00         17.066032 -0.315764 -0.315764 -0.315764   \n",
       "2022-01-01 01:00:00         17.066032 -0.315764 -0.315764 -0.315764   \n",
       "2022-01-01 02:00:00         17.066032 -0.315764 -0.315764 -0.315764   \n",
       "\n",
       "                     co_roll_mean_5  co_roll_sum_5  ...  direc._lag_1  \\\n",
       "2022-01-01 00:00:00       -0.315764      -1.578821  ...     -0.872372   \n",
       "2022-01-01 01:00:00       -0.315764      -1.578821  ...     -0.872372   \n",
       "2022-01-01 02:00:00       -0.315764      -1.578821  ...     -0.872372   \n",
       "\n",
       "                     direc._lag_2  direc._lag_3  direc._roll_mean_5  \\\n",
       "2022-01-01 00:00:00     -0.502757     -0.775105           -0.767324   \n",
       "2022-01-01 01:00:00     -0.502757     -0.775105           -0.767324   \n",
       "2022-01-01 02:00:00     -0.502757     -0.775105           -0.767324   \n",
       "\n",
       "                     direc._roll_sum_5  so2_lag_1  so2_lag_2  so2_lag_3  \\\n",
       "2022-01-01 00:00:00           -3.83662  -0.439617   0.767323   0.767323   \n",
       "2022-01-01 01:00:00           -3.83662  -0.439617   0.767323   0.767323   \n",
       "2022-01-01 02:00:00           -3.83662  -0.439617   0.767323   0.767323   \n",
       "\n",
       "                     so2_roll_mean_5  so2_roll_sum_5  \n",
       "2022-01-01 00:00:00         0.163853        0.819264  \n",
       "2022-01-01 01:00:00         0.163853        0.819264  \n",
       "2022-01-01 02:00:00         0.163853        0.819264  \n",
       "\n",
       "[3 rows x 50 columns]"
      ]
     },
     "execution_count": 40,
     "metadata": {},
     "output_type": "execute_result"
    }
   ],
   "source": [
    "# Create input matrix for predict method\n",
    "# ==============================================================================\n",
    "X_predict = forecaster.create_predict_X(steps=None)  # All steps\n",
    "X_predict"
   ]
  },
  {
   "cell_type": "code",
   "execution_count": 41,
   "metadata": {},
   "outputs": [
    {
     "data": {
      "text/plain": [
       "array([-0.31796032, -0.31796032, -0.31796032])"
      ]
     },
     "execution_count": 41,
     "metadata": {},
     "output_type": "execute_result"
    }
   ],
   "source": [
    "# Step 1 predictions using the internal regressor\n",
    "# ==============================================================================\n",
    "predictions = forecaster.regressors_[1].predict(X_predict)\n",
    "predictions"
   ]
  },
  {
   "cell_type": "markdown",
   "metadata": {},
   "source": [
    "## Creating matrices when including transformations multiple series\n",
    "\n",
    "If any [data transformations](../user_guides/sklearn-transformers-and-pipeline.html) and/or [differentiation](../user_guides/time-series-differentiation.html), are applied, they will affect the output matrices. Consequently, the predictions generated in this transformed scale may require additional steps to revert back to the original data scale."
   ]
  },
  {
   "cell_type": "code",
   "execution_count": 48,
   "metadata": {},
   "outputs": [],
   "source": [
    "# Create and fit forecaster ForecasterRecursiveMultiSeries\n",
    "# ==============================================================================\n",
    "window_features = RollingFeatures(\n",
    "                      stats        = ['mean', 'sum'],\n",
    "                      window_sizes = [5, 5]\n",
    "                  )\n",
    "\n",
    "forecaster = ForecasterRecursiveMultiSeries(\n",
    "                 regressor          = LGBMRegressor(random_state=123, verbose=-1),\n",
    "                 lags               = 5,\n",
    "                 window_features    = window_features,\n",
    "                 encoding           = 'ordinal',\n",
    "                 transformer_series = StandardScaler(),\n",
    "                 differentiation    = 1\n",
    "             )\n",
    "\n",
    "forecaster.fit(series=data_multiseries)"
   ]
  },
  {
   "cell_type": "code",
   "execution_count": 49,
   "metadata": {},
   "outputs": [
    {
     "name": "stdout",
     "output_type": "stream",
     "text": [
      "Ordinal encoding mapping (_level_skforecast) : {'item_1': 0, 'item_2': 1, 'item_3': 2}\n"
     ]
    },
    {
     "data": {
      "text/plain": [
       "array([19.03003376, 19.87765376, 20.27301849, 21.50016429])"
      ]
     },
     "execution_count": 49,
     "metadata": {},
     "output_type": "execute_result"
    }
   ],
   "source": [
    "# item_1 training predictions with transformations\n",
    "# ==============================================================================\n",
    "X_train_transformed, y_train_transformed = forecaster.create_train_X_y(series=data_multiseries)\n",
    "\n",
    "# Ordinal encoding mapping \n",
    "print(\"Ordinal encoding mapping (_level_skforecast) :\", forecaster.encoding_mapping_)\n",
    "\n",
    "# Select `item_1` rows\n",
    "X_train_item_1_transformed = X_train_transformed[\n",
    "    X_train_transformed['_level_skforecast'] == forecaster.encoding_mapping_['item_1']\n",
    "]\n",
    "\n",
    "# Training predictions using the internal regressor\n",
    "predictions_item_1_transformed = forecaster.regressor.predict(X_train_item_1_transformed)\n",
    "\n",
    "# Revert differentiation (only if differentiation is not None)\n",
    "predictions_item_1_transformed = forecaster.differentiator_['item_1'].inverse_transform_training(\n",
    "    predictions_item_1_transformed\n",
    ")\n",
    "\n",
    "# Revert transformation (only if transformer_series is not None)\n",
    "predictions_item_1_training = forecaster.transformer_series_['item_1'].inverse_transform(\n",
    "    predictions_item_1_transformed.reshape(-1, 1)\n",
    ")\n",
    "predictions_item_1_training.ravel()[:4]"
   ]
  },
  {
   "cell_type": "code",
   "execution_count": 51,
   "metadata": {},
   "outputs": [
    {
     "name": "stderr",
     "output_type": "stream",
     "text": [
      "c:\\Users\\jaesc2\\Miniconda3\\envs\\skforecast_py11_2\\Lib\\site-packages\\skforecast\\recursive\\_forecaster_recursive_multiseries.py:2085: UserWarning: The output matrix is in the transformed scale due to the inclusion of transformations or differentiation in the Forecaster. As a result, any predictions generated using this matrix will also be in the transformed scale. Please refer to the documentation for more details: https://skforecast.org/latest/user_guides/independent-multi-time-series-forecasting#extract-prediction-matrices\n",
      "  warnings.warn(\n"
     ]
    },
    {
     "data": {
      "text/plain": [
       "array([11.9118058 , 13.90669023, 14.61048366, 14.68379556])"
      ]
     },
     "execution_count": 51,
     "metadata": {},
     "output_type": "execute_result"
    }
   ],
   "source": [
    "# Predict using the internal regressor with transformation\n",
    "# ==============================================================================\n",
    "X_predict_dict_transformed = forecaster.create_predict_X(steps=5, levels=None)  # All levels\n",
    "\n",
    "# Select 'item_1' matrix\n",
    "X_predict_item_1_transformed = X_predict_dict_transformed['item_1']\n",
    "\n",
    "# Predict 'item_1' using the internal regressor\n",
    "predictions_item_1_transformed = forecaster.regressor.predict(X_predict_item_1_transformed)\n",
    "\n",
    "# Revert differentiation (only if differentiation is not None)\n",
    "predictions_item_1_transformed = forecaster.differentiator_['item_1'].inverse_transform_next_window(\n",
    "    predictions_item_1_transformed\n",
    ")\n",
    "\n",
    "# Revert transformation (only if transformer_series is not None)\n",
    "predictions_item_1 = forecaster.transformer_series_['item_1'].inverse_transform(\n",
    "    predictions_item_1_transformed.reshape(-1, 1)\n",
    ")\n",
    "predictions_item_1.ravel()[:4]"
   ]
  },
  {
   "cell_type": "markdown",
   "metadata": {},
   "source": [
    "As before, when using a <code>ForecasterDirectMultiVariate</code>, two steps are required to extract the training matrices. One to create the entire training matrix and a second to subset the data needed for each model (step)."
   ]
  },
  {
   "cell_type": "markdown",
   "metadata": {},
   "source": [
    "<div class=\"admonition note\" name=\"html-admonition\" style=\"background: rgba(255,145,0,.1); padding-top: 0px; padding-bottom: 6px; border-radius: 8px; border-left: 8px solid #ff9100; border-color: #ff9100; padding-left: 10px; padding-right: 10px\">\n",
    "\n",
    "<p class=\"title\">\n",
    "    <i style=\"font-size: 18px; color:#ff9100; border-color: #ff1744;\"></i>\n",
    "    <b style=\"color: #ff9100;\"> <span style=\"color: #ff9100;\">&#9888;</span> Warning</b>\n",
    "</p>\n",
    "\n",
    "If the <code>ForecasterDirectMultiVariate</code> includes <a href=\"../user_guides/time-series-differentiation.html\">differentiation</a>, the model in step 1 must be used if you want to reverse the differentiation of the training time series with the <code>inverse_transform_training</code> method.\n",
    "\n",
    "</div>"
   ]
  },
  {
   "cell_type": "code",
   "execution_count": 52,
   "metadata": {},
   "outputs": [],
   "source": [
    "# Create and fit forecaster\n",
    "# ==============================================================================\n",
    "window_features = RollingFeatures(\n",
    "                      stats        = ['mean', 'sum'],\n",
    "                      window_sizes = [5, 5]\n",
    "                  )\n",
    "\n",
    "forecaster = ForecasterDirectMultiVariate(\n",
    "                 regressor          = Ridge(random_state=123),\n",
    "                 level              = 'co',\n",
    "                 steps              = 3,\n",
    "                 lags               = 3,\n",
    "                 window_features    = window_features,\n",
    "                 transformer_series = StandardScaler(),\n",
    "                 differentiation    = 1\n",
    "             )\n",
    "\n",
    "forecaster.fit(series=data_multivariate)"
   ]
  },
  {
   "cell_type": "code",
   "execution_count": 53,
   "metadata": {},
   "outputs": [
    {
     "data": {
      "text/plain": [
       "array([0.09958108, 0.09457031, 0.09913356, 0.10320263])"
      ]
     },
     "execution_count": 53,
     "metadata": {},
     "output_type": "execute_result"
    }
   ],
   "source": [
    "# Training predictions with transformations\n",
    "# ==============================================================================\n",
    "X_train_transformed, y_train_transformed = forecaster.create_train_X_y(series=data_multivariate)\n",
    "\n",
    "# Extract X and y for step 1\n",
    "X_train_transformed_1, y_train_transformed_1 = forecaster.filter_train_X_y_for_step(\n",
    "                                                   step          = 1,\n",
    "                                                   X_train       = X_train_transformed,\n",
    "                                                   y_train       = y_train_transformed,\n",
    "                                                   remove_suffix = False\n",
    "                                               )\n",
    "\n",
    "# Training predictions using the internal regressor for step 1\n",
    "predictions_transformed = forecaster.regressors_[1].predict(X_train_transformed_1)\n",
    "\n",
    "# Revert differentiation (only if differentiation is not None)\n",
    "predictions_transformed = forecaster.differentiator_['co'].inverse_transform_training(\n",
    "    predictions_transformed\n",
    ")\n",
    "\n",
    "# Revert transformation (only if transformer_series is not None)\n",
    "predictions_training = forecaster.transformer_series_['co'].inverse_transform(\n",
    "    predictions_transformed.reshape(-1, 1)\n",
    ")\n",
    "predictions_training.ravel()[:4]"
   ]
  },
  {
   "cell_type": "code",
   "execution_count": 56,
   "metadata": {},
   "outputs": [
    {
     "name": "stderr",
     "output_type": "stream",
     "text": [
      "c:\\Users\\jaesc2\\Miniconda3\\envs\\skforecast_py11_2\\Lib\\site-packages\\skforecast\\direct\\_forecaster_direct_multivariate.py:1701: UserWarning: The output matrix is in the transformed scale due to the inclusion of transformations or differentiation in the Forecaster. As a result, any predictions generated using this matrix will also be in the transformed scale. Please refer to the documentation for more details: https://skforecast.org/latest/user_guides/dependent-multi-series-multivariate-forecasting#extract-prediction-matrices\n",
      "  warnings.warn(\n"
     ]
    },
    {
     "data": {
      "text/plain": [
       "array([0.09231334, 0.08462669, 0.07694003])"
      ]
     },
     "execution_count": 56,
     "metadata": {},
     "output_type": "execute_result"
    }
   ],
   "source": [
    "# Predict using the internal regressor with transformation\n",
    "# ==============================================================================\n",
    "X_predict_transformed = forecaster.create_predict_X(steps=None)  # All steps\n",
    "\n",
    "# Predict using the internal regressor for step 1\n",
    "predictions_transformed = forecaster.regressors_[1].predict(X_predict_transformed)\n",
    "\n",
    "# Revert differentiation (only if differentiation is not None)\n",
    "predictions_transformed = forecaster.differentiator_['co'].inverse_transform_next_window(\n",
    "    predictions_transformed\n",
    ")\n",
    "\n",
    "# Revert transformation (only if transformer_y is not None)\n",
    "predictions = forecaster.transformer_series_['co'].inverse_transform(\n",
    "    predictions_transformed.reshape(-1, 1)\n",
    ")\n",
    "predictions.ravel()[:4]"
   ]
  },
  {
   "cell_type": "markdown",
   "metadata": {},
   "source": [
    "<div class=\"admonition note\" name=\"html-admonition\" style=\"background: rgba(0,191,191,.1); padding-top: 0px; padding-bottom: 6px; border-radius: 8px; border-left: 8px solid #00bfa5; border-color: #00bfa5; padding-left: 10px; padding-right: 10px;\">\n",
    "\n",
    "<p class=\"title\">\n",
    "    <i style=\"font-size: 18px; color:#00bfa5;\"></i>\n",
    "    <b style=\"color: #00bfa5;\">&#128161 Tip</b>\n",
    "</p>\n",
    "\n",
    "To reverse the <a href=\"../user_guides/sklearn-transformers-and-pipeline.html\">data transformation</a>, you can also use one of these skforecast functions: <a href=\"../api/utils.html#skforecast.utils.utils.transform_numpy\"><code>transform_numpy</code></a>, <a href=\"../api/utils.html#skforecast.utils.utils.transform_series\"><code>transform_series</code></a>, <a href=\"../api/utils.html#skforecast.utils.utils.transform_dataframe\"><code>transform_dataframe</code></a>.\n",
    "\n",
    "```python\n",
    "from skforecast.utils import transform_numpy\n",
    "\n",
    "predictions = transform_numpy(\n",
    "                  array             = predictions_transformed,\n",
    "                  transformer       = forecaster.transformer_series_['item_1'],\n",
    "                  fit               = False,\n",
    "                  inverse_transform = True\n",
    "              )\n",
    "```\n",
    "\n",
    "</div>"
   ]
  }
 ],
 "metadata": {
  "kernelspec": {
   "display_name": "skforecast_py11_2",
   "language": "python",
   "name": "python3"
  },
  "language_info": {
   "codemirror_mode": {
    "name": "ipython",
    "version": 3
   },
   "file_extension": ".py",
   "mimetype": "text/x-python",
   "name": "python",
   "nbconvert_exporter": "python",
   "pygments_lexer": "ipython3",
   "version": "3.11.10"
  }
 },
 "nbformat": 4,
 "nbformat_minor": 2
}
