{
 "cells": [
  {
   "cell_type": "markdown",
   "metadata": {},
   "source": [
    "# Skforecast 0.14 migration guide"
   ]
  },
  {
   "cell_type": "markdown",
   "metadata": {},
   "source": [
    "This document contains a set of instructions on how to update your code to work with Skforecast 0.14."
   ]
  },
  {
   "cell_type": "markdown",
   "metadata": {},
   "source": [
    "## Changes in the import of the library"
   ]
  },
  {
   "cell_type": "markdown",
   "metadata": {},
   "source": [
    "Skforecast modules have been reorganized and renamed to make it more intuitive. The new import of the library is as follows:"
   ]
  },
  {
   "cell_type": "markdown",
   "metadata": {},
   "source": [
    "| **Before**                                        | **Now**                                      |\n",
    "|--------------------------------------------------|---------------------------------------------|\n",
    "| `from skforecast.ForecasterAutoreg import ForecasterAutoreg`          | `from skforecast.autoreg import ForecasterRecursive` |\n",
    "| `from skforecast.ForecasterAutoregCustom import ForecasterAutoregCustom` | Not exist any more, use `ForecasterRecursive` with window features  |\n",
    "| `from skforecast.ForecasterAutoregDirect import ForecasterAutoregDirect` | `from skforecast.direct import ForecasterDirect`     |\n"
   ]
  },
  {
   "cell_type": "markdown",
   "metadata": {},
   "source": [
    "## Custom features"
   ]
  },
  {
   "cell_type": "markdown",
   "metadata": {},
   "source": [
    "Forecasters `ForecasterAutoregCustom` and `ForecasterAutoregDirectCustom` have been removed. Now, you can use `ForecasterRecursive` and `ForecasterDirect` with window features."
   ]
  },
  {
   "cell_type": "code",
   "execution_count": null,
   "metadata": {},
   "outputs": [],
   "source": []
  },
  {
   "cell_type": "markdown",
   "metadata": {},
   "source": [
    "## Changes in the backtesting"
   ]
  },
  {
   "cell_type": "markdown",
   "metadata": {},
   "source": [
    "The arguments `initial_train_size`, `window_size`, `differentiation`, `refit`, `fixed_train_size`, `gap`, `skip_folds`, `allow_incomplete_fold`, `return_all_indexes`, and `verbose` are no longer defined in the `backtesting_forecaster` method. Instead, an instance of `TimeSeriesFolds` should be created, and these arguments should be specified in the class constructor. This change not only allows the same folds to be reused across different methods, but also provides the ability to extract fold indexes.\n"
   ]
  },
  {
   "cell_type": "markdown",
   "metadata": {},
   "source": [
    "| **Column 1** | **Column 2** |\n",
    "|--------------|--------------|\n",
    "| <pre>from skforecast.model_selection import backtesting_forecaster<br>backtesting_forecaster(<br>    forecaster            = forecaster,<br>    y                     = y,<br>    steps                 = 10,<br>    initial_train_size    = 100,<br>    metric                = 'mean_absolute_error',<br>    fixed_train_size      = True,<br>    gap                   = 0,<br>    skip_folds            = None,<br>    allow_incomplete_fold = True,<br>    refit                 = False,<br>    n_jobs                = 'auto',<br>    verbose               = False,<br>    show_progress         = True<br>)</pre> | <pre>from skforecast.model_selection import backtesting_forecaster<br>from skforecast.model_selection import TimeSeriesFold<br><br>cv = TimeSeriesFold(<br>    steps                 = 10,<br>    initial_train_size    = 100,<br>    fixed_train_size      = True,<br>    gap                   = 0,<br>    skip_folds            = None,<br>    allow_incomplete_fold = True,<br>    refit                 = False,<br>)<br><br>backtesting_forecaster(<br>    forecaster            = forecaster,<br>    y                     = y,<br>    cv                    = cv,<br>    metric                = 'mean_absolute_error',<br>    n_jobs                = 'auto',<br>    verbose               = False,<br>    show_progress         = True<br>)</pre> |\n"
   ]
  },
  {
   "cell_type": "code",
   "execution_count": null,
   "metadata": {},
   "outputs": [],
   "source": [
    "# Skforecast <= 0.13\n",
    "# ==============================================================================\n",
    "from skforecast.model_selection import backtesting_forecaster\n",
    "\n",
    "backtesting_forecaster(\n",
    "    forecaster            = forecaster,\n",
    "    y                     = y,\n",
    "    steps                 = 10,\n",
    "    initial_train_size    = 100,\n",
    "    metric                = 'mean_absolute_error',\n",
    "    fixed_train_size      = True,\n",
    "    gap                   = 0,\n",
    "    skip_folds            = None,\n",
    "    allow_incomplete_fold = True,\n",
    "    refit                 = False,\n",
    "    n_jobs                = 'auto',\n",
    "    verbose               = False,\n",
    "    show_progress         = True\n",
    ")"
   ]
  },
  {
   "cell_type": "code",
   "execution_count": null,
   "metadata": {},
   "outputs": [],
   "source": [
    "# Skforecast >= 0.14\n",
    "# ==============================================================================\n",
    "from skforecast.model_selection import (\n",
    "    backtesting_forecaster,\n",
    "    TimeSeriesFold\n",
    ")\n",
    "\n",
    "cv = TimeSeriesFold(\n",
    "    steps                 = 10,\n",
    "    initial_train_size    = 100,\n",
    "    fixed_train_size      = True,\n",
    "    gap                   = 0,\n",
    "    skip_folds            = None,\n",
    "    allow_incomplete_fold = True,\n",
    "    refit                 = False,\n",
    ")\n",
    "\n",
    "backtesting_forecaster(\n",
    "    forecaster            = forecaster,\n",
    "    y                     = y,\n",
    "    cv                    = cv,\n",
    "    metric                = 'mean_absolute_error',\n",
    "    n_jobs                = 'auto',\n",
    "    verbose               = False,\n",
    "    show_progress         = True\n",
    ")"
   ]
  }
 ],
 "metadata": {
  "kernelspec": {
   "display_name": "skforecast_14_p12",
   "language": "python",
   "name": "python3"
  },
  "language_info": {
   "codemirror_mode": {
    "name": "ipython",
    "version": 3
   },
   "file_extension": ".py",
   "mimetype": "text/x-python",
   "name": "python",
   "nbconvert_exporter": "python",
   "pygments_lexer": "ipython3",
   "version": "3.12.4"
  }
 },
 "nbformat": 4,
 "nbformat_minor": 2
}
