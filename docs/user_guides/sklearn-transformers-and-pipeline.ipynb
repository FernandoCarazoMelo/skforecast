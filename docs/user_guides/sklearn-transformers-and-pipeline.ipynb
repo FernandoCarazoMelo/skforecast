{
 "cells": [
  {
   "cell_type": "markdown",
   "metadata": {},
   "source": [
    "# Forecasting with scikit-learn and transformers pipelines"
   ]
  },
  {
   "cell_type": "markdown",
   "metadata": {},
   "source": [
    "Since version 0.5.0, skforecast includes two new arguments in all the forecasters to have detailed control over input transformations. This is useful since many machine learning models need specific data preprocessing transformations. For example, linear models with Ridge or Lasso regularization benefits from features being scaled.\n",
    "\n",
    "+  `transformer_y`, an instance of a transformer (preprocessor) compatible with the scikit-learn preprocessing API with methods: fit, transform, fit_transform and inverse_transform. scikit-learn ColumnTransformer is not allowed since they do not have the inverse_transform method.\n",
    "\n",
    "+ `transformer_exog`, an instance of a transformer (preprocessor) compatible with the scikit-learn preprocessing API. Scikit-learn ColumnTransformer can be used if the preprocessing transformations only apply to some specific columns or if different transformations are needed for different columns. For example, scale numeric features and one hot encode categorical ones. \n",
    "\n",
    "Transformations are learned and applied before training the forecaster and are automatically used when calling `predict`. The output of `predict` is always on the same scale as the original series *y*.\n",
    "\n",
    "Although, since version 0.4.0, skforecast allows using scikit-learn pipelines as regressors, it is recommended to use `transformer_y` and `transformer_exog` instead."
   ]
  },
  {
   "cell_type": "markdown",
   "metadata": {},
   "source": [
    "<script src=\"https://kit.fontawesome.com/d20edc211b.js\" crossorigin=\"anonymous\"></script>\n",
    "\n",
    "<div class=\"admonition note\" name=\"html-admonition\" style=\"background: rgba(0,184,212,.1); padding-top: 0px; padding-bottom: 6px; border-radius: 8px; border-left: 8px solid #00b8d4;\">\n",
    "\n",
    "<p class=\"title\">\n",
    "    <i class=\"fa-circle-exclamation fa\" style=\"font-size: 18px; color:#00b8d4;\"></i>\n",
    "    <b> &nbsp Note</b>\n",
    "</p>\n",
    "\n",
    "When using <a href=\"https://joaquinamatrodrigo.github.io/skforecast/latest/user_guides/multi-time-series-forecasting.html#scikit-learn-transformers-in-multi-series\">ForecasterAutoregMultiSeries</a> or <a href=\"https://joaquinamatrodrigo.github.io/skforecast/latest/user_guides/multivariate-forecasting.html#scikit-learn-transformers-in-multivariate\">ForecasterAutoregMultiVariate</a> the <code>transformer_series</code> argument replaces <code>transformer_y</code>. If it is a <code>transformer</code>, the same transformation will be applied to all series. If it is a <code>dict</code> a different transformation can be set for each series.\n",
    "\n",
    "</div>"
   ]
  },
  {
   "cell_type": "markdown",
   "metadata": {},
   "source": [
    "## Libraries"
   ]
  },
  {
   "cell_type": "code",
   "execution_count": 1,
   "metadata": {},
   "outputs": [],
   "source": [
    "# Libraries\n",
    "# ==============================================================================\n",
    "import numpy as np\n",
    "import pandas as pd\n",
    "import matplotlib.pyplot as plt\n",
    "from sklearn.linear_model import Ridge\n",
    "from sklearn.preprocessing import StandardScaler\n",
    "from sklearn.preprocessing import OneHotEncoder\n",
    "from sklearn.preprocessing import FunctionTransformer\n",
    "from sklearn.compose import ColumnTransformer\n",
    "from sklearn.pipeline import make_pipeline\n",
    "from skforecast.ForecasterAutoreg import ForecasterAutoreg\n",
    "from skforecast.model_selection import grid_search_forecaster"
   ]
  },
  {
   "cell_type": "markdown",
   "metadata": {},
   "source": [
    "## Data"
   ]
  },
  {
   "cell_type": "code",
   "execution_count": 2,
   "metadata": {},
   "outputs": [
    {
     "data": {
      "text/html": [
       "<div>\n",
       "<style scoped>\n",
       "    .dataframe tbody tr th:only-of-type {\n",
       "        vertical-align: middle;\n",
       "    }\n",
       "\n",
       "    .dataframe tbody tr th {\n",
       "        vertical-align: top;\n",
       "    }\n",
       "\n",
       "    .dataframe thead th {\n",
       "        text-align: right;\n",
       "    }\n",
       "</style>\n",
       "<table border=\"1\" class=\"dataframe\">\n",
       "  <thead>\n",
       "    <tr style=\"text-align: right;\">\n",
       "      <th></th>\n",
       "      <th>y</th>\n",
       "      <th>exog_1</th>\n",
       "      <th>exog_2</th>\n",
       "      <th>exog_3</th>\n",
       "    </tr>\n",
       "    <tr>\n",
       "      <th>date</th>\n",
       "      <th></th>\n",
       "      <th></th>\n",
       "      <th></th>\n",
       "      <th></th>\n",
       "    </tr>\n",
       "  </thead>\n",
       "  <tbody>\n",
       "    <tr>\n",
       "      <th>1992-04-01</th>\n",
       "      <td>0.379808</td>\n",
       "      <td>0.958792</td>\n",
       "      <td>1.166029</td>\n",
       "      <td>A</td>\n",
       "    </tr>\n",
       "    <tr>\n",
       "      <th>1992-05-01</th>\n",
       "      <td>0.361801</td>\n",
       "      <td>0.951993</td>\n",
       "      <td>1.117859</td>\n",
       "      <td>A</td>\n",
       "    </tr>\n",
       "    <tr>\n",
       "      <th>1992-06-01</th>\n",
       "      <td>0.410534</td>\n",
       "      <td>0.952955</td>\n",
       "      <td>1.067942</td>\n",
       "      <td>A</td>\n",
       "    </tr>\n",
       "    <tr>\n",
       "      <th>1992-07-01</th>\n",
       "      <td>0.483389</td>\n",
       "      <td>0.958078</td>\n",
       "      <td>1.097376</td>\n",
       "      <td>A</td>\n",
       "    </tr>\n",
       "    <tr>\n",
       "      <th>1992-08-01</th>\n",
       "      <td>0.475463</td>\n",
       "      <td>0.956370</td>\n",
       "      <td>1.122199</td>\n",
       "      <td>A</td>\n",
       "    </tr>\n",
       "  </tbody>\n",
       "</table>\n",
       "</div>"
      ],
      "text/plain": [
       "                   y    exog_1    exog_2 exog_3\n",
       "date                                           \n",
       "1992-04-01  0.379808  0.958792  1.166029      A\n",
       "1992-05-01  0.361801  0.951993  1.117859      A\n",
       "1992-06-01  0.410534  0.952955  1.067942      A\n",
       "1992-07-01  0.483389  0.958078  1.097376      A\n",
       "1992-08-01  0.475463  0.956370  1.122199      A"
      ]
     },
     "execution_count": 2,
     "metadata": {},
     "output_type": "execute_result"
    }
   ],
   "source": [
    "# Download data\n",
    "# ==============================================================================\n",
    "url = ('https://raw.githubusercontent.com/JoaquinAmatRodrigo/skforecast/master/data/h2o_exog.csv')\n",
    "data = pd.read_csv(url, sep=',', header=0, names=['date', 'y', 'exog_1', 'exog_2'])\n",
    "\n",
    "# Data preprocessing\n",
    "# ==============================================================================\n",
    "data['date'] = pd.to_datetime(data['date'], format='%Y/%m/%d')\n",
    "data = data.set_index('date')\n",
    "data = data.asfreq('MS')\n",
    "# Add an extra categorical variable\n",
    "data['exog_3'] = ([\"A\"] * int(len(data)/2)) + ([\"B\"] * (int(len(data)/2) +1))\n",
    "data.head()"
   ]
  },
  {
   "cell_type": "markdown",
   "metadata": {},
   "source": [
    "## Transforming input series\n",
    "\n",
    "The following example shows how to scale the input series *y*."
   ]
  },
  {
   "cell_type": "code",
   "execution_count": 3,
   "metadata": {},
   "outputs": [
    {
     "data": {
      "text/plain": [
       "================= \n",
       "ForecasterAutoreg \n",
       "================= \n",
       "Regressor: Ridge() \n",
       "Lags: [1 2 3] \n",
       "Transformer for y: StandardScaler() \n",
       "Transformer for exog: None \n",
       "Window size: 3 \n",
       "Weight function included: False \n",
       "Exogenous included: True \n",
       "Type of exogenous variable: <class 'pandas.core.frame.DataFrame'> \n",
       "Exogenous variables names: ['exog_1', 'exog_2'] \n",
       "Training range: [Timestamp('1992-04-01 00:00:00'), Timestamp('2008-06-01 00:00:00')] \n",
       "Training index type: DatetimeIndex \n",
       "Training index frequency: MS \n",
       "Regressor parameters: {'alpha': 1.0, 'copy_X': True, 'fit_intercept': True, 'max_iter': None, 'normalize': 'deprecated', 'positive': False, 'random_state': None, 'solver': 'auto', 'tol': 0.001} \n",
       "Creation date: 2023-03-08 15:31:59 \n",
       "Last fit date: 2023-03-08 15:31:59 \n",
       "Skforecast version: 0.7.0 \n",
       "Python version: 3.9.13 \n",
       "Forecaster id: None "
      ]
     },
     "execution_count": 3,
     "metadata": {},
     "output_type": "execute_result"
    }
   ],
   "source": [
    "# Create and fit forecaster scaling the input series\n",
    "# ==============================================================================\n",
    "forecaster = ForecasterAutoreg(\n",
    "                 regressor        = Ridge(random_state=123),\n",
    "                 lags             = 3,\n",
    "                 transformer_y    = StandardScaler(),\n",
    "                 transformer_exog = None\n",
    "             )\n",
    "\n",
    "forecaster.fit(y=data['y'], exog=data[['exog_1', 'exog_2']])\n",
    "forecaster"
   ]
  },
  {
   "cell_type": "markdown",
   "metadata": {},
   "source": [
    "## Transforming exogenous variables\n",
    "\n",
    "The following example shows how to apply the same transformation to all exogenous variables."
   ]
  },
  {
   "cell_type": "code",
   "execution_count": 4,
   "metadata": {},
   "outputs": [
    {
     "data": {
      "text/plain": [
       "================= \n",
       "ForecasterAutoreg \n",
       "================= \n",
       "Regressor: Ridge() \n",
       "Lags: [1 2 3] \n",
       "Transformer for y: None \n",
       "Transformer for exog: StandardScaler() \n",
       "Window size: 3 \n",
       "Weight function included: False \n",
       "Exogenous included: True \n",
       "Type of exogenous variable: <class 'pandas.core.frame.DataFrame'> \n",
       "Exogenous variables names: ['exog_1', 'exog_2'] \n",
       "Training range: [Timestamp('1992-04-01 00:00:00'), Timestamp('2008-06-01 00:00:00')] \n",
       "Training index type: DatetimeIndex \n",
       "Training index frequency: MS \n",
       "Regressor parameters: {'alpha': 1.0, 'copy_X': True, 'fit_intercept': True, 'max_iter': None, 'normalize': 'deprecated', 'positive': False, 'random_state': None, 'solver': 'auto', 'tol': 0.001} \n",
       "Creation date: 2023-03-08 15:31:59 \n",
       "Last fit date: 2023-03-08 15:31:59 \n",
       "Skforecast version: 0.7.0 \n",
       "Python version: 3.9.13 \n",
       "Forecaster id: None "
      ]
     },
     "execution_count": 4,
     "metadata": {},
     "output_type": "execute_result"
    }
   ],
   "source": [
    "# Create and fit forecaster scaling all exogenous variables\n",
    "# ==============================================================================\n",
    "forecaster = ForecasterAutoreg(\n",
    "                 regressor        = Ridge(random_state=123),\n",
    "                 lags             = 3,\n",
    "                 transformer_y    = None,\n",
    "                 transformer_exog = StandardScaler()\n",
    "             )\n",
    "\n",
    "forecaster.fit(y=data['y'], exog=data[['exog_1', 'exog_2']])\n",
    "forecaster"
   ]
  },
  {
   "cell_type": "markdown",
   "metadata": {},
   "source": [
    "It is also possible to apply a different transformation to each exogenous variable making use of `ColumnTransformer`."
   ]
  },
  {
   "cell_type": "code",
   "execution_count": 5,
   "metadata": {},
   "outputs": [
    {
     "data": {
      "text/plain": [
       "================= \n",
       "ForecasterAutoreg \n",
       "================= \n",
       "Regressor: Ridge() \n",
       "Lags: [1 2 3] \n",
       "Transformer for y: None \n",
       "Transformer for exog: ColumnTransformer(remainder='passthrough',\n",
       "                  transformers=[('scale_1', StandardScaler(), ['exog_1']),\n",
       "                                ('scale_2', StandardScaler(), ['exog_2']),\n",
       "                                ('onehot', OneHotEncoder(), ['exog_3'])],\n",
       "                  verbose_feature_names_out=False) \n",
       "Window size: 3 \n",
       "Weight function included: False \n",
       "Exogenous included: True \n",
       "Type of exogenous variable: <class 'pandas.core.frame.DataFrame'> \n",
       "Exogenous variables names: ['exog_1', 'exog_2', 'exog_3'] \n",
       "Training range: [Timestamp('1992-04-01 00:00:00'), Timestamp('2008-06-01 00:00:00')] \n",
       "Training index type: DatetimeIndex \n",
       "Training index frequency: MS \n",
       "Regressor parameters: {'alpha': 1.0, 'copy_X': True, 'fit_intercept': True, 'max_iter': None, 'normalize': 'deprecated', 'positive': False, 'random_state': None, 'solver': 'auto', 'tol': 0.001} \n",
       "Creation date: 2023-03-08 15:31:59 \n",
       "Last fit date: 2023-03-08 15:31:59 \n",
       "Skforecast version: 0.7.0 \n",
       "Python version: 3.9.13 \n",
       "Forecaster id: None "
      ]
     },
     "execution_count": 5,
     "metadata": {},
     "output_type": "execute_result"
    }
   ],
   "source": [
    "# Create and fit forecaster with different transformation for each exog variable\n",
    "# ==============================================================================\n",
    "transformer_exog = ColumnTransformer(\n",
    "                       [('scale_1', StandardScaler(), ['exog_1']),\n",
    "                        ('scale_2', StandardScaler(), ['exog_2']),\n",
    "                        ('onehot', OneHotEncoder(), ['exog_3']),\n",
    "                       ],\n",
    "                       remainder = 'passthrough',\n",
    "                       verbose_feature_names_out = False\n",
    "                   )\n",
    "\n",
    "forecaster = ForecasterAutoreg(\n",
    "                 regressor        = Ridge(random_state=123),\n",
    "                 lags             = 3,\n",
    "                 transformer_y    = None,\n",
    "                 transformer_exog = transformer_exog\n",
    "             )\n",
    "\n",
    "forecaster.fit(y=data['y'], exog=data[['exog_1', 'exog_2', 'exog_3']])\n",
    "forecaster"
   ]
  },
  {
   "cell_type": "markdown",
   "metadata": {},
   "source": [
    "It can be seen that the data transformation is applied when creating the training matrices."
   ]
  },
  {
   "cell_type": "code",
   "execution_count": 6,
   "metadata": {},
   "outputs": [],
   "source": [
    "X_train, y_train = forecaster.create_train_X_y(\n",
    "                       y    = data['y'],\n",
    "                       exog = data[['exog_1', 'exog_2', 'exog_3']]\n",
    "                   )"
   ]
  },
  {
   "cell_type": "code",
   "execution_count": 7,
   "metadata": {},
   "outputs": [
    {
     "data": {
      "text/html": [
       "<div>\n",
       "<style scoped>\n",
       "    .dataframe tbody tr th:only-of-type {\n",
       "        vertical-align: middle;\n",
       "    }\n",
       "\n",
       "    .dataframe tbody tr th {\n",
       "        vertical-align: top;\n",
       "    }\n",
       "\n",
       "    .dataframe thead th {\n",
       "        text-align: right;\n",
       "    }\n",
       "</style>\n",
       "<table border=\"1\" class=\"dataframe\">\n",
       "  <thead>\n",
       "    <tr style=\"text-align: right;\">\n",
       "      <th></th>\n",
       "      <th>lag_1</th>\n",
       "      <th>lag_2</th>\n",
       "      <th>lag_3</th>\n",
       "      <th>exog_1</th>\n",
       "      <th>exog_2</th>\n",
       "      <th>exog_3_A</th>\n",
       "      <th>exog_3_B</th>\n",
       "    </tr>\n",
       "    <tr>\n",
       "      <th>date</th>\n",
       "      <th></th>\n",
       "      <th></th>\n",
       "      <th></th>\n",
       "      <th></th>\n",
       "      <th></th>\n",
       "      <th></th>\n",
       "      <th></th>\n",
       "    </tr>\n",
       "  </thead>\n",
       "  <tbody>\n",
       "    <tr>\n",
       "      <th>1992-07-01</th>\n",
       "      <td>0.410534</td>\n",
       "      <td>0.361801</td>\n",
       "      <td>0.379808</td>\n",
       "      <td>-2.119529</td>\n",
       "      <td>-2.135088</td>\n",
       "      <td>1.0</td>\n",
       "      <td>0.0</td>\n",
       "    </tr>\n",
       "    <tr>\n",
       "      <th>1992-08-01</th>\n",
       "      <td>0.483389</td>\n",
       "      <td>0.410534</td>\n",
       "      <td>0.361801</td>\n",
       "      <td>-2.131024</td>\n",
       "      <td>-1.996017</td>\n",
       "      <td>1.0</td>\n",
       "      <td>0.0</td>\n",
       "    </tr>\n",
       "    <tr>\n",
       "      <th>1992-09-01</th>\n",
       "      <td>0.475463</td>\n",
       "      <td>0.483389</td>\n",
       "      <td>0.410534</td>\n",
       "      <td>-2.109222</td>\n",
       "      <td>-1.822392</td>\n",
       "      <td>1.0</td>\n",
       "      <td>0.0</td>\n",
       "    </tr>\n",
       "    <tr>\n",
       "      <th>1992-10-01</th>\n",
       "      <td>0.534761</td>\n",
       "      <td>0.475463</td>\n",
       "      <td>0.483389</td>\n",
       "      <td>-2.132137</td>\n",
       "      <td>-1.590667</td>\n",
       "      <td>1.0</td>\n",
       "      <td>0.0</td>\n",
       "    </tr>\n",
       "  </tbody>\n",
       "</table>\n",
       "</div>"
      ],
      "text/plain": [
       "               lag_1     lag_2     lag_3    exog_1    exog_2  exog_3_A  \\\n",
       "date                                                                     \n",
       "1992-07-01  0.410534  0.361801  0.379808 -2.119529 -2.135088       1.0   \n",
       "1992-08-01  0.483389  0.410534  0.361801 -2.131024 -1.996017       1.0   \n",
       "1992-09-01  0.475463  0.483389  0.410534 -2.109222 -1.822392       1.0   \n",
       "1992-10-01  0.534761  0.475463  0.483389 -2.132137 -1.590667       1.0   \n",
       "\n",
       "            exog_3_B  \n",
       "date                  \n",
       "1992-07-01       0.0  \n",
       "1992-08-01       0.0  \n",
       "1992-09-01       0.0  \n",
       "1992-10-01       0.0  "
      ]
     },
     "execution_count": 7,
     "metadata": {},
     "output_type": "execute_result"
    }
   ],
   "source": [
    "X_train.head(4)"
   ]
  },
  {
   "cell_type": "code",
   "execution_count": 8,
   "metadata": {},
   "outputs": [
    {
     "data": {
      "text/plain": [
       "date\n",
       "1992-07-01    0.483389\n",
       "1992-08-01    0.475463\n",
       "1992-09-01    0.534761\n",
       "1992-10-01    0.568606\n",
       "Freq: MS, Name: y, dtype: float64"
      ]
     },
     "execution_count": 8,
     "metadata": {},
     "output_type": "execute_result"
    }
   ],
   "source": [
    "y_train.head(4)"
   ]
  },
  {
   "cell_type": "markdown",
   "metadata": {},
   "source": [
    "## Custom transformers"
   ]
  },
  {
   "cell_type": "markdown",
   "metadata": {},
   "source": [
    "Using scikit-learn [FunctionTransformer](https://scikit-learn.org/stable/modules/generated/sklearn.preprocessing.FunctionTransformer.html) it is possible to include custom transformers in the forecaster object, for example, a logarithmic transformation. "
   ]
  },
  {
   "cell_type": "code",
   "execution_count": 10,
   "metadata": {},
   "outputs": [
    {
     "ename": "AttributeError",
     "evalue": "'DataFrame' object has no attribute 'dtype'",
     "output_type": "error",
     "traceback": [
      "\u001b[1;31m---------------------------------------------------------------------------\u001b[0m",
      "\u001b[1;31mAttributeError\u001b[0m                            Traceback (most recent call last)",
      "\u001b[1;32mc:\\Users\\jaesc2\\GitHub\\skforecast\\docs\\user_guides\\sklearn-transformers-and-pipeline.ipynb Cell 20\u001b[0m in \u001b[0;36m2\n\u001b[0;32m     <a href='vscode-notebook-cell:/c%3A/Users/jaesc2/GitHub/skforecast/docs/user_guides/sklearn-transformers-and-pipeline.ipynb#X25sZmlsZQ%3D%3D?line=16'>17</a>\u001b[0m \u001b[39m# Create forecaster and train\u001b[39;00m\n\u001b[0;32m     <a href='vscode-notebook-cell:/c%3A/Users/jaesc2/GitHub/skforecast/docs/user_guides/sklearn-transformers-and-pipeline.ipynb#X25sZmlsZQ%3D%3D?line=17'>18</a>\u001b[0m \u001b[39m# ==============================================================================\u001b[39;00m\n\u001b[0;32m     <a href='vscode-notebook-cell:/c%3A/Users/jaesc2/GitHub/skforecast/docs/user_guides/sklearn-transformers-and-pipeline.ipynb#X25sZmlsZQ%3D%3D?line=18'>19</a>\u001b[0m forecaster \u001b[39m=\u001b[39m ForecasterAutoreg(\n\u001b[0;32m     <a href='vscode-notebook-cell:/c%3A/Users/jaesc2/GitHub/skforecast/docs/user_guides/sklearn-transformers-and-pipeline.ipynb#X25sZmlsZQ%3D%3D?line=19'>20</a>\u001b[0m                  regressor     \u001b[39m=\u001b[39m Ridge(random_state\u001b[39m=\u001b[39m\u001b[39m123\u001b[39m),\n\u001b[0;32m     <a href='vscode-notebook-cell:/c%3A/Users/jaesc2/GitHub/skforecast/docs/user_guides/sklearn-transformers-and-pipeline.ipynb#X25sZmlsZQ%3D%3D?line=20'>21</a>\u001b[0m                  lags          \u001b[39m=\u001b[39m \u001b[39m3\u001b[39m,\n\u001b[0;32m     <a href='vscode-notebook-cell:/c%3A/Users/jaesc2/GitHub/skforecast/docs/user_guides/sklearn-transformers-and-pipeline.ipynb#X25sZmlsZQ%3D%3D?line=21'>22</a>\u001b[0m                  transformer_y \u001b[39m=\u001b[39m transformer_y\n\u001b[0;32m     <a href='vscode-notebook-cell:/c%3A/Users/jaesc2/GitHub/skforecast/docs/user_guides/sklearn-transformers-and-pipeline.ipynb#X25sZmlsZQ%3D%3D?line=22'>23</a>\u001b[0m              )\n\u001b[1;32m---> <a href='vscode-notebook-cell:/c%3A/Users/jaesc2/GitHub/skforecast/docs/user_guides/sklearn-transformers-and-pipeline.ipynb#X25sZmlsZQ%3D%3D?line=24'>25</a>\u001b[0m forecaster\u001b[39m.\u001b[39mfit(y\u001b[39m=\u001b[39mdata[\u001b[39m'\u001b[39m\u001b[39my\u001b[39m\u001b[39m'\u001b[39m])\n",
      "File \u001b[1;32mc:\\Users\\jaesc2\\Miniconda3\\envs\\skforecast\\lib\\site-packages\\skforecast\\ForecasterAutoreg\\ForecasterAutoreg.py:476\u001b[0m, in \u001b[0;36mForecasterAutoreg.fit\u001b[1;34m(self, y, exog)\u001b[0m\n\u001b[0;32m    472\u001b[0m     \u001b[39mself\u001b[39m\u001b[39m.\u001b[39mexog_type \u001b[39m=\u001b[39m \u001b[39mtype\u001b[39m(exog)\n\u001b[0;32m    473\u001b[0m     \u001b[39mself\u001b[39m\u001b[39m.\u001b[39mexog_col_names \u001b[39m=\u001b[39m \\\n\u001b[0;32m    474\u001b[0m          exog\u001b[39m.\u001b[39mcolumns\u001b[39m.\u001b[39mto_list() \u001b[39mif\u001b[39;00m \u001b[39misinstance\u001b[39m(exog, pd\u001b[39m.\u001b[39mDataFrame) \u001b[39melse\u001b[39;00m exog\u001b[39m.\u001b[39mname\n\u001b[1;32m--> 476\u001b[0m X_train, y_train \u001b[39m=\u001b[39m \u001b[39mself\u001b[39;49m\u001b[39m.\u001b[39;49mcreate_train_X_y(y\u001b[39m=\u001b[39;49my, exog\u001b[39m=\u001b[39;49mexog)\n\u001b[0;32m    477\u001b[0m sample_weight \u001b[39m=\u001b[39m \u001b[39mself\u001b[39m\u001b[39m.\u001b[39mcreate_sample_weights(X_train\u001b[39m=\u001b[39mX_train)\n\u001b[0;32m    479\u001b[0m \u001b[39mif\u001b[39;00m sample_weight \u001b[39mis\u001b[39;00m \u001b[39mnot\u001b[39;00m \u001b[39mNone\u001b[39;00m:\n",
      "File \u001b[1;32mc:\\Users\\jaesc2\\Miniconda3\\envs\\skforecast\\lib\\site-packages\\skforecast\\ForecasterAutoreg\\ForecasterAutoreg.py:330\u001b[0m, in \u001b[0;36mForecasterAutoreg.create_train_X_y\u001b[1;34m(self, y, exog)\u001b[0m\n\u001b[0;32m    306\u001b[0m \u001b[39m\"\"\"\u001b[39;00m\n\u001b[0;32m    307\u001b[0m \u001b[39mCreate training matrices from univariate time series and exogenous\u001b[39;00m\n\u001b[0;32m    308\u001b[0m \u001b[39mvariables.\u001b[39;00m\n\u001b[1;32m   (...)\u001b[0m\n\u001b[0;32m    326\u001b[0m \u001b[39m\u001b[39;00m\n\u001b[0;32m    327\u001b[0m \u001b[39m\"\"\"\u001b[39;00m\n\u001b[0;32m    329\u001b[0m check_y(y\u001b[39m=\u001b[39my)\n\u001b[1;32m--> 330\u001b[0m y \u001b[39m=\u001b[39m transform_series(\n\u001b[0;32m    331\u001b[0m         series            \u001b[39m=\u001b[39;49m y,\n\u001b[0;32m    332\u001b[0m         transformer       \u001b[39m=\u001b[39;49m \u001b[39mself\u001b[39;49m\u001b[39m.\u001b[39;49mtransformer_y,\n\u001b[0;32m    333\u001b[0m         fit               \u001b[39m=\u001b[39;49m \u001b[39mTrue\u001b[39;49;00m,\n\u001b[0;32m    334\u001b[0m         inverse_transform \u001b[39m=\u001b[39;49m \u001b[39mFalse\u001b[39;49;00m\n\u001b[0;32m    335\u001b[0m     )\n\u001b[0;32m    336\u001b[0m y_values, y_index \u001b[39m=\u001b[39m preprocess_y(y\u001b[39m=\u001b[39my)\n\u001b[0;32m    338\u001b[0m \u001b[39mif\u001b[39;00m exog \u001b[39mis\u001b[39;00m \u001b[39mnot\u001b[39;00m \u001b[39mNone\u001b[39;00m:\n",
      "File \u001b[1;32mc:\\Users\\jaesc2\\Miniconda3\\envs\\skforecast\\lib\\site-packages\\skforecast\\utils\\utils.py:893\u001b[0m, in \u001b[0;36mtransform_series\u001b[1;34m(series, transformer, fit, inverse_transform)\u001b[0m\n\u001b[0;32m    890\u001b[0m data \u001b[39m=\u001b[39m series\u001b[39m.\u001b[39mto_frame()\n\u001b[0;32m    892\u001b[0m \u001b[39mif\u001b[39;00m fit \u001b[39mand\u001b[39;00m \u001b[39mhasattr\u001b[39m(transformer, \u001b[39m'\u001b[39m\u001b[39mfit\u001b[39m\u001b[39m'\u001b[39m):\n\u001b[1;32m--> 893\u001b[0m     transformer\u001b[39m.\u001b[39;49mfit(data)\n\u001b[0;32m    895\u001b[0m \u001b[39m# If argument feature_names_in_ exits, is overwritten to allow using the \u001b[39;00m\n\u001b[0;32m    896\u001b[0m \u001b[39m# transformer on other series than those that were passed during fit.\u001b[39;00m\n\u001b[0;32m    897\u001b[0m \u001b[39mif\u001b[39;00m \u001b[39mhasattr\u001b[39m(transformer, \u001b[39m'\u001b[39m\u001b[39mfeature_names_in_\u001b[39m\u001b[39m'\u001b[39m) \u001b[39mand\u001b[39;00m transformer\u001b[39m.\u001b[39mfeature_names_in_[\u001b[39m0\u001b[39m] \u001b[39m!=\u001b[39m data\u001b[39m.\u001b[39mcolumns[\u001b[39m0\u001b[39m]:\n",
      "File \u001b[1;32mc:\\Users\\jaesc2\\Miniconda3\\envs\\skforecast\\lib\\site-packages\\sklearn\\preprocessing\\_function_transformer.py:195\u001b[0m, in \u001b[0;36mFunctionTransformer.fit\u001b[1;34m(self, X, y)\u001b[0m\n\u001b[0;32m    193\u001b[0m X \u001b[39m=\u001b[39m \u001b[39mself\u001b[39m\u001b[39m.\u001b[39m_check_input(X, reset\u001b[39m=\u001b[39m\u001b[39mTrue\u001b[39;00m)\n\u001b[0;32m    194\u001b[0m \u001b[39mif\u001b[39;00m \u001b[39mself\u001b[39m\u001b[39m.\u001b[39mcheck_inverse \u001b[39mand\u001b[39;00m \u001b[39mnot\u001b[39;00m (\u001b[39mself\u001b[39m\u001b[39m.\u001b[39mfunc \u001b[39mis\u001b[39;00m \u001b[39mNone\u001b[39;00m \u001b[39mor\u001b[39;00m \u001b[39mself\u001b[39m\u001b[39m.\u001b[39minverse_func \u001b[39mis\u001b[39;00m \u001b[39mNone\u001b[39;00m):\n\u001b[1;32m--> 195\u001b[0m     \u001b[39mself\u001b[39;49m\u001b[39m.\u001b[39;49m_check_inverse_transform(X)\n\u001b[0;32m    196\u001b[0m \u001b[39mreturn\u001b[39;00m \u001b[39mself\u001b[39m\n",
      "File \u001b[1;32mc:\\Users\\jaesc2\\Miniconda3\\envs\\skforecast\\lib\\site-packages\\sklearn\\preprocessing\\_function_transformer.py:160\u001b[0m, in \u001b[0;36mFunctionTransformer._check_inverse_transform\u001b[1;34m(self, X)\u001b[0m\n\u001b[0;32m    157\u001b[0m idx_selected \u001b[39m=\u001b[39m \u001b[39mslice\u001b[39m(\u001b[39mNone\u001b[39;00m, \u001b[39mNone\u001b[39;00m, \u001b[39mmax\u001b[39m(\u001b[39m1\u001b[39m, X\u001b[39m.\u001b[39mshape[\u001b[39m0\u001b[39m] \u001b[39m/\u001b[39m\u001b[39m/\u001b[39m \u001b[39m100\u001b[39m))\n\u001b[0;32m    158\u001b[0m X_round_trip \u001b[39m=\u001b[39m \u001b[39mself\u001b[39m\u001b[39m.\u001b[39minverse_transform(\u001b[39mself\u001b[39m\u001b[39m.\u001b[39mtransform(X[idx_selected]))\n\u001b[1;32m--> 160\u001b[0m \u001b[39mif\u001b[39;00m \u001b[39mnot\u001b[39;00m np\u001b[39m.\u001b[39missubdtype(X\u001b[39m.\u001b[39;49mdtype, np\u001b[39m.\u001b[39mnumber):\n\u001b[0;32m    161\u001b[0m     \u001b[39mraise\u001b[39;00m \u001b[39mValueError\u001b[39;00m(\n\u001b[0;32m    162\u001b[0m         \u001b[39m\"\u001b[39m\u001b[39m'\u001b[39m\u001b[39mcheck_inverse\u001b[39m\u001b[39m'\u001b[39m\u001b[39m is only supported when all the elements in `X` is\u001b[39m\u001b[39m\"\u001b[39m\n\u001b[0;32m    163\u001b[0m         \u001b[39m\"\u001b[39m\u001b[39m numerical.\u001b[39m\u001b[39m\"\u001b[39m\n\u001b[0;32m    164\u001b[0m     )\n\u001b[0;32m    166\u001b[0m \u001b[39mif\u001b[39;00m \u001b[39mnot\u001b[39;00m _allclose_dense_sparse(X[idx_selected], X_round_trip):\n",
      "File \u001b[1;32mc:\\Users\\jaesc2\\Miniconda3\\envs\\skforecast\\lib\\site-packages\\pandas\\core\\generic.py:5583\u001b[0m, in \u001b[0;36mNDFrame.__getattr__\u001b[1;34m(self, name)\u001b[0m\n\u001b[0;32m   5576\u001b[0m \u001b[39mif\u001b[39;00m (\n\u001b[0;32m   5577\u001b[0m     name \u001b[39mnot\u001b[39;00m \u001b[39min\u001b[39;00m \u001b[39mself\u001b[39m\u001b[39m.\u001b[39m_internal_names_set\n\u001b[0;32m   5578\u001b[0m     \u001b[39mand\u001b[39;00m name \u001b[39mnot\u001b[39;00m \u001b[39min\u001b[39;00m \u001b[39mself\u001b[39m\u001b[39m.\u001b[39m_metadata\n\u001b[0;32m   5579\u001b[0m     \u001b[39mand\u001b[39;00m name \u001b[39mnot\u001b[39;00m \u001b[39min\u001b[39;00m \u001b[39mself\u001b[39m\u001b[39m.\u001b[39m_accessors\n\u001b[0;32m   5580\u001b[0m     \u001b[39mand\u001b[39;00m \u001b[39mself\u001b[39m\u001b[39m.\u001b[39m_info_axis\u001b[39m.\u001b[39m_can_hold_identifiers_and_holds_name(name)\n\u001b[0;32m   5581\u001b[0m ):\n\u001b[0;32m   5582\u001b[0m     \u001b[39mreturn\u001b[39;00m \u001b[39mself\u001b[39m[name]\n\u001b[1;32m-> 5583\u001b[0m \u001b[39mreturn\u001b[39;00m \u001b[39mobject\u001b[39;49m\u001b[39m.\u001b[39;49m\u001b[39m__getattribute__\u001b[39;49m(\u001b[39mself\u001b[39;49m, name)\n",
      "\u001b[1;31mAttributeError\u001b[0m: 'DataFrame' object has no attribute 'dtype'"
     ]
    }
   ],
   "source": [
    "# Create custom transformer\n",
    "# =============================================================================\n",
    "def log_transform(x):\n",
    "    \"\"\" \n",
    "    Calculate log adding 1 to avoid calculation errors if x is very close to 0.\n",
    "    \"\"\"\n",
    "    return np.log(x+1)\n",
    "\n",
    "def exp_transform(x):\n",
    "    \"\"\"\n",
    "    Inverse of log_transform.\n",
    "    \"\"\"\n",
    "    return np.exp(x) - 1\n",
    "\n",
    "transformer_y = FunctionTransformer(func=log_transform, inverse_func=exp_transform)\n",
    "\n",
    "# Create forecaster and train\n",
    "# ==============================================================================\n",
    "forecaster = ForecasterAutoreg(\n",
    "                 regressor     = Ridge(random_state=123),\n",
    "                 lags          = 3,\n",
    "                 transformer_y = transformer_y\n",
    "             )\n",
    "\n",
    "forecaster.fit(y=data['y'])"
   ]
  },
  {
   "cell_type": "markdown",
   "metadata": {},
   "source": [
    "If the `FunctionTransformer` has an inverse function, the output of the predict method is automatically transformed back to the original scale."
   ]
  },
  {
   "cell_type": "code",
   "execution_count": null,
   "metadata": {},
   "outputs": [
    {
     "data": {
      "text/plain": [
       "2008-07-01    0.776206\n",
       "2008-08-01    0.775471\n",
       "2008-09-01    0.777200\n",
       "2008-10-01    0.777853\n",
       "Freq: MS, Name: pred, dtype: float64"
      ]
     },
     "execution_count": 10,
     "metadata": {},
     "output_type": "execute_result"
    }
   ],
   "source": [
    "forecaster.predict(steps=4)"
   ]
  },
  {
   "cell_type": "markdown",
   "metadata": {},
   "source": [
    "## Pipeline"
   ]
  },
  {
   "cell_type": "markdown",
   "metadata": {},
   "source": [
    "<script src=\"https://kit.fontawesome.com/d20edc211b.js\" crossorigin=\"anonymous\"></script>\n",
    "\n",
    "<div class=\"admonition warning\" name=\"html-admonition\" style=\"background: rgba(255,145,0,.1); padding-top: 0px; padding-bottom: 6px; border-radius: 8px; border-left: 8px solid #ff9100;\">\n",
    "\n",
    "<p class=\"title\">\n",
    "    <i class=\"fa-triangle-exclamation fa\" style=\"font-size: 18px; color:#ff9100;\"></i>\n",
    "    <b> &nbsp Warning</b>\n",
    "</p>\n",
    "\n",
    "Since version 0.4.0, skforecast allows using scikit-learn pipelines as regressors. However, it does not allow including ColumnTransformer in the pipeline, so the same transformation is applied to the modeled series <i>y</i> and all exogenous variables. If the preprocessing transformations only apply to some specific columns, they have to be applied using <i>transformer_y</i> and <i>transformer_exog</i>.\n",
    "\n",
    "</div>"
   ]
  },
  {
   "cell_type": "code",
   "execution_count": 11,
   "metadata": {},
   "outputs": [
    {
     "data": {
      "text/html": [
       "<style>#sk-container-id-1 {color: black;background-color: white;}#sk-container-id-1 pre{padding: 0;}#sk-container-id-1 div.sk-toggleable {background-color: white;}#sk-container-id-1 label.sk-toggleable__label {cursor: pointer;display: block;width: 100%;margin-bottom: 0;padding: 0.3em;box-sizing: border-box;text-align: center;}#sk-container-id-1 label.sk-toggleable__label-arrow:before {content: \"▸\";float: left;margin-right: 0.25em;color: #696969;}#sk-container-id-1 label.sk-toggleable__label-arrow:hover:before {color: black;}#sk-container-id-1 div.sk-estimator:hover label.sk-toggleable__label-arrow:before {color: black;}#sk-container-id-1 div.sk-toggleable__content {max-height: 0;max-width: 0;overflow: hidden;text-align: left;background-color: #f0f8ff;}#sk-container-id-1 div.sk-toggleable__content pre {margin: 0.2em;color: black;border-radius: 0.25em;background-color: #f0f8ff;}#sk-container-id-1 input.sk-toggleable__control:checked~div.sk-toggleable__content {max-height: 200px;max-width: 100%;overflow: auto;}#sk-container-id-1 input.sk-toggleable__control:checked~label.sk-toggleable__label-arrow:before {content: \"▾\";}#sk-container-id-1 div.sk-estimator input.sk-toggleable__control:checked~label.sk-toggleable__label {background-color: #d4ebff;}#sk-container-id-1 div.sk-label input.sk-toggleable__control:checked~label.sk-toggleable__label {background-color: #d4ebff;}#sk-container-id-1 input.sk-hidden--visually {border: 0;clip: rect(1px 1px 1px 1px);clip: rect(1px, 1px, 1px, 1px);height: 1px;margin: -1px;overflow: hidden;padding: 0;position: absolute;width: 1px;}#sk-container-id-1 div.sk-estimator {font-family: monospace;background-color: #f0f8ff;border: 1px dotted black;border-radius: 0.25em;box-sizing: border-box;margin-bottom: 0.5em;}#sk-container-id-1 div.sk-estimator:hover {background-color: #d4ebff;}#sk-container-id-1 div.sk-parallel-item::after {content: \"\";width: 100%;border-bottom: 1px solid gray;flex-grow: 1;}#sk-container-id-1 div.sk-label:hover label.sk-toggleable__label {background-color: #d4ebff;}#sk-container-id-1 div.sk-serial::before {content: \"\";position: absolute;border-left: 1px solid gray;box-sizing: border-box;top: 0;bottom: 0;left: 50%;z-index: 0;}#sk-container-id-1 div.sk-serial {display: flex;flex-direction: column;align-items: center;background-color: white;padding-right: 0.2em;padding-left: 0.2em;position: relative;}#sk-container-id-1 div.sk-item {position: relative;z-index: 1;}#sk-container-id-1 div.sk-parallel {display: flex;align-items: stretch;justify-content: center;background-color: white;position: relative;}#sk-container-id-1 div.sk-item::before, #sk-container-id-1 div.sk-parallel-item::before {content: \"\";position: absolute;border-left: 1px solid gray;box-sizing: border-box;top: 0;bottom: 0;left: 50%;z-index: -1;}#sk-container-id-1 div.sk-parallel-item {display: flex;flex-direction: column;z-index: 1;position: relative;background-color: white;}#sk-container-id-1 div.sk-parallel-item:first-child::after {align-self: flex-end;width: 50%;}#sk-container-id-1 div.sk-parallel-item:last-child::after {align-self: flex-start;width: 50%;}#sk-container-id-1 div.sk-parallel-item:only-child::after {width: 0;}#sk-container-id-1 div.sk-dashed-wrapped {border: 1px dashed gray;margin: 0 0.4em 0.5em 0.4em;box-sizing: border-box;padding-bottom: 0.4em;background-color: white;}#sk-container-id-1 div.sk-label label {font-family: monospace;font-weight: bold;display: inline-block;line-height: 1.2em;}#sk-container-id-1 div.sk-label-container {text-align: center;}#sk-container-id-1 div.sk-container {/* jupyter's `normalize.less` sets `[hidden] { display: none; }` but bootstrap.min.css set `[hidden] { display: none !important; }` so we also need the `!important` here to be able to override the default hidden behavior on the sphinx rendered scikit-learn.org. See: https://github.com/scikit-learn/scikit-learn/issues/21755 */display: inline-block !important;position: relative;}#sk-container-id-1 div.sk-text-repr-fallback {display: none;}</style><div id=\"sk-container-id-1\" class=\"sk-top-container\"><div class=\"sk-text-repr-fallback\"><pre>Pipeline(steps=[(&#x27;standardscaler&#x27;, StandardScaler()), (&#x27;ridge&#x27;, Ridge())])</pre><b>In a Jupyter environment, please rerun this cell to show the HTML representation or trust the notebook. <br />On GitHub, the HTML representation is unable to render, please try loading this page with nbviewer.org.</b></div><div class=\"sk-container\" hidden><div class=\"sk-item sk-dashed-wrapped\"><div class=\"sk-label-container\"><div class=\"sk-label sk-toggleable\"><input class=\"sk-toggleable__control sk-hidden--visually\" id=\"sk-estimator-id-1\" type=\"checkbox\" ><label for=\"sk-estimator-id-1\" class=\"sk-toggleable__label sk-toggleable__label-arrow\">Pipeline</label><div class=\"sk-toggleable__content\"><pre>Pipeline(steps=[(&#x27;standardscaler&#x27;, StandardScaler()), (&#x27;ridge&#x27;, Ridge())])</pre></div></div></div><div class=\"sk-serial\"><div class=\"sk-item\"><div class=\"sk-estimator sk-toggleable\"><input class=\"sk-toggleable__control sk-hidden--visually\" id=\"sk-estimator-id-2\" type=\"checkbox\" ><label for=\"sk-estimator-id-2\" class=\"sk-toggleable__label sk-toggleable__label-arrow\">StandardScaler</label><div class=\"sk-toggleable__content\"><pre>StandardScaler()</pre></div></div></div><div class=\"sk-item\"><div class=\"sk-estimator sk-toggleable\"><input class=\"sk-toggleable__control sk-hidden--visually\" id=\"sk-estimator-id-3\" type=\"checkbox\" ><label for=\"sk-estimator-id-3\" class=\"sk-toggleable__label sk-toggleable__label-arrow\">Ridge</label><div class=\"sk-toggleable__content\"><pre>Ridge()</pre></div></div></div></div></div></div></div>"
      ],
      "text/plain": [
       "Pipeline(steps=[('standardscaler', StandardScaler()), ('ridge', Ridge())])"
      ]
     },
     "execution_count": 11,
     "metadata": {},
     "output_type": "execute_result"
    }
   ],
   "source": [
    "pipe = make_pipeline(StandardScaler(), Ridge())\n",
    "pipe"
   ]
  },
  {
   "cell_type": "code",
   "execution_count": 12,
   "metadata": {},
   "outputs": [
    {
     "data": {
      "text/plain": [
       "================= \n",
       "ForecasterAutoreg \n",
       "================= \n",
       "Regressor: Pipeline(steps=[('standardscaler', StandardScaler()), ('ridge', Ridge())]) \n",
       "Lags: [ 1  2  3  4  5  6  7  8  9 10] \n",
       "Transformer for y: None \n",
       "Transformer for exog: None \n",
       "Window size: 10 \n",
       "Weight function included: False \n",
       "Exogenous included: True \n",
       "Type of exogenous variable: <class 'pandas.core.frame.DataFrame'> \n",
       "Exogenous variables names: ['exog_1', 'exog_2'] \n",
       "Training range: [Timestamp('1992-04-01 00:00:00'), Timestamp('2008-06-01 00:00:00')] \n",
       "Training index type: DatetimeIndex \n",
       "Training index frequency: MS \n",
       "Regressor parameters: {'standardscaler__copy': True, 'standardscaler__with_mean': True, 'standardscaler__with_std': True, 'ridge__alpha': 1.0, 'ridge__copy_X': True, 'ridge__fit_intercept': True, 'ridge__max_iter': None, 'ridge__normalize': 'deprecated', 'ridge__positive': False, 'ridge__random_state': None, 'ridge__solver': 'auto', 'ridge__tol': 0.001} \n",
       "Creation date: 2023-03-08 15:37:49 \n",
       "Last fit date: 2023-03-08 15:37:49 \n",
       "Skforecast version: 0.7.0 \n",
       "Python version: 3.9.13 \n",
       "Forecaster id: None "
      ]
     },
     "execution_count": 12,
     "metadata": {},
     "output_type": "execute_result"
    }
   ],
   "source": [
    "# Create and fit forecaster\n",
    "# ==============================================================================\n",
    "forecaster = ForecasterAutoreg(\n",
    "                 regressor = pipe,\n",
    "                 lags      = 10\n",
    "             )\n",
    "\n",
    "forecaster.fit(y=data['y'], exog=data[['exog_1', 'exog_2']])\n",
    "forecaster"
   ]
  },
  {
   "cell_type": "markdown",
   "metadata": {},
   "source": [
    "When performing a grid search over a sklearn pipeline, the model's name precedes the parameters' name."
   ]
  },
  {
   "cell_type": "code",
   "execution_count": 13,
   "metadata": {},
   "outputs": [
    {
     "name": "stdout",
     "output_type": "stream",
     "text": [
      "Number of models compared: 30.\n"
     ]
    },
    {
     "name": "stderr",
     "output_type": "stream",
     "text": [
      "loop lags_grid: 100%|███████████████████████████████████████| 3/3 [00:00<00:00,  3.38it/s]\n"
     ]
    },
    {
     "name": "stdout",
     "output_type": "stream",
     "text": [
      "`Forecaster` refitted using the best-found lags and parameters, and the whole data set: \n",
      "  Lags: [1 2 3 4 5] \n",
      "  Parameters: {'ridge__alpha': 0.001}\n",
      "  Backtesting metric: 6.845311709709172e-05\n",
      "\n"
     ]
    }
   ],
   "source": [
    "# Hyperparameter Grid search\n",
    "# ==============================================================================\n",
    "pipe = make_pipeline(StandardScaler(), Ridge())\n",
    "forecaster = ForecasterAutoreg(\n",
    "                 regressor = pipe,\n",
    "                 lags = 10  # This value will be replaced in the grid search\n",
    "             )\n",
    "\n",
    "# Regressor's hyperparameters\n",
    "param_grid = {'ridge__alpha': np.logspace(-3, 5, 10)}\n",
    "\n",
    "# Lags used as predictors\n",
    "lags_grid = [5, 24, [1, 2, 3, 23, 24]]\n",
    "\n",
    "results_grid = grid_search_forecaster(\n",
    "                   forecaster  = forecaster,\n",
    "                   y           = data['y'],\n",
    "                   exog        = data[['exog_1', 'exog_2']],\n",
    "                   param_grid  = param_grid,\n",
    "                   lags_grid   = lags_grid,\n",
    "                   steps       = 5,\n",
    "                   metric      = 'mean_absolute_error',\n",
    "                   refit       = False,\n",
    "                   initial_train_size = len(data.loc[:'2000-04-01']),\n",
    "                   return_best = True,\n",
    "                   verbose     = False\n",
    "               )"
   ]
  },
  {
   "cell_type": "code",
   "execution_count": 14,
   "metadata": {},
   "outputs": [
    {
     "data": {
      "text/html": [
       "<div>\n",
       "<style scoped>\n",
       "    .dataframe tbody tr th:only-of-type {\n",
       "        vertical-align: middle;\n",
       "    }\n",
       "\n",
       "    .dataframe tbody tr th {\n",
       "        vertical-align: top;\n",
       "    }\n",
       "\n",
       "    .dataframe thead th {\n",
       "        text-align: right;\n",
       "    }\n",
       "</style>\n",
       "<table border=\"1\" class=\"dataframe\">\n",
       "  <thead>\n",
       "    <tr style=\"text-align: right;\">\n",
       "      <th></th>\n",
       "      <th>lags</th>\n",
       "      <th>params</th>\n",
       "      <th>mean_absolute_error</th>\n",
       "      <th>ridge__alpha</th>\n",
       "    </tr>\n",
       "  </thead>\n",
       "  <tbody>\n",
       "    <tr>\n",
       "      <th>0</th>\n",
       "      <td>[1, 2, 3, 4, 5]</td>\n",
       "      <td>{'ridge__alpha': 0.001}</td>\n",
       "      <td>0.000068</td>\n",
       "      <td>0.001000</td>\n",
       "    </tr>\n",
       "    <tr>\n",
       "      <th>10</th>\n",
       "      <td>[1, 2, 3, 4, 5, 6, 7, 8, 9, 10, 11, 12, 13, 14...</td>\n",
       "      <td>{'ridge__alpha': 0.001}</td>\n",
       "      <td>0.000188</td>\n",
       "      <td>0.001000</td>\n",
       "    </tr>\n",
       "    <tr>\n",
       "      <th>1</th>\n",
       "      <td>[1, 2, 3, 4, 5]</td>\n",
       "      <td>{'ridge__alpha': 0.007742636826811269}</td>\n",
       "      <td>0.000526</td>\n",
       "      <td>0.007743</td>\n",
       "    </tr>\n",
       "    <tr>\n",
       "      <th>11</th>\n",
       "      <td>[1, 2, 3, 4, 5, 6, 7, 8, 9, 10, 11, 12, 13, 14...</td>\n",
       "      <td>{'ridge__alpha': 0.007742636826811269}</td>\n",
       "      <td>0.001413</td>\n",
       "      <td>0.007743</td>\n",
       "    </tr>\n",
       "    <tr>\n",
       "      <th>2</th>\n",
       "      <td>[1, 2, 3, 4, 5]</td>\n",
       "      <td>{'ridge__alpha': 0.05994842503189409}</td>\n",
       "      <td>0.003860</td>\n",
       "      <td>0.059948</td>\n",
       "    </tr>\n",
       "    <tr>\n",
       "      <th>12</th>\n",
       "      <td>[1, 2, 3, 4, 5, 6, 7, 8, 9, 10, 11, 12, 13, 14...</td>\n",
       "      <td>{'ridge__alpha': 0.05994842503189409}</td>\n",
       "      <td>0.008969</td>\n",
       "      <td>0.059948</td>\n",
       "    </tr>\n",
       "    <tr>\n",
       "      <th>3</th>\n",
       "      <td>[1, 2, 3, 4, 5]</td>\n",
       "      <td>{'ridge__alpha': 0.46415888336127775}</td>\n",
       "      <td>0.021751</td>\n",
       "      <td>0.464159</td>\n",
       "    </tr>\n",
       "    <tr>\n",
       "      <th>13</th>\n",
       "      <td>[1, 2, 3, 4, 5, 6, 7, 8, 9, 10, 11, 12, 13, 14...</td>\n",
       "      <td>{'ridge__alpha': 0.46415888336127775}</td>\n",
       "      <td>0.029505</td>\n",
       "      <td>0.464159</td>\n",
       "    </tr>\n",
       "    <tr>\n",
       "      <th>14</th>\n",
       "      <td>[1, 2, 3, 4, 5, 6, 7, 8, 9, 10, 11, 12, 13, 14...</td>\n",
       "      <td>{'ridge__alpha': 3.593813663804626}</td>\n",
       "      <td>0.046323</td>\n",
       "      <td>3.593814</td>\n",
       "    </tr>\n",
       "    <tr>\n",
       "      <th>23</th>\n",
       "      <td>[1, 2, 3, 23, 24]</td>\n",
       "      <td>{'ridge__alpha': 0.46415888336127775}</td>\n",
       "      <td>0.060623</td>\n",
       "      <td>0.464159</td>\n",
       "    </tr>\n",
       "    <tr>\n",
       "      <th>22</th>\n",
       "      <td>[1, 2, 3, 23, 24]</td>\n",
       "      <td>{'ridge__alpha': 0.05994842503189409}</td>\n",
       "      <td>0.061567</td>\n",
       "      <td>0.059948</td>\n",
       "    </tr>\n",
       "    <tr>\n",
       "      <th>21</th>\n",
       "      <td>[1, 2, 3, 23, 24]</td>\n",
       "      <td>{'ridge__alpha': 0.007742636826811269}</td>\n",
       "      <td>0.061747</td>\n",
       "      <td>0.007743</td>\n",
       "    </tr>\n",
       "    <tr>\n",
       "      <th>20</th>\n",
       "      <td>[1, 2, 3, 23, 24]</td>\n",
       "      <td>{'ridge__alpha': 0.001}</td>\n",
       "      <td>0.061771</td>\n",
       "      <td>0.001000</td>\n",
       "    </tr>\n",
       "    <tr>\n",
       "      <th>24</th>\n",
       "      <td>[1, 2, 3, 23, 24]</td>\n",
       "      <td>{'ridge__alpha': 3.593813663804626}</td>\n",
       "      <td>0.063512</td>\n",
       "      <td>3.593814</td>\n",
       "    </tr>\n",
       "    <tr>\n",
       "      <th>15</th>\n",
       "      <td>[1, 2, 3, 4, 5, 6, 7, 8, 9, 10, 11, 12, 13, 14...</td>\n",
       "      <td>{'ridge__alpha': 27.825594022071257}</td>\n",
       "      <td>0.064551</td>\n",
       "      <td>27.825594</td>\n",
       "    </tr>\n",
       "    <tr>\n",
       "      <th>4</th>\n",
       "      <td>[1, 2, 3, 4, 5]</td>\n",
       "      <td>{'ridge__alpha': 3.593813663804626}</td>\n",
       "      <td>0.069220</td>\n",
       "      <td>3.593814</td>\n",
       "    </tr>\n",
       "    <tr>\n",
       "      <th>25</th>\n",
       "      <td>[1, 2, 3, 23, 24]</td>\n",
       "      <td>{'ridge__alpha': 27.825594022071257}</td>\n",
       "      <td>0.077934</td>\n",
       "      <td>27.825594</td>\n",
       "    </tr>\n",
       "    <tr>\n",
       "      <th>16</th>\n",
       "      <td>[1, 2, 3, 4, 5, 6, 7, 8, 9, 10, 11, 12, 13, 14...</td>\n",
       "      <td>{'ridge__alpha': 215.44346900318823}</td>\n",
       "      <td>0.130016</td>\n",
       "      <td>215.443469</td>\n",
       "    </tr>\n",
       "    <tr>\n",
       "      <th>5</th>\n",
       "      <td>[1, 2, 3, 4, 5]</td>\n",
       "      <td>{'ridge__alpha': 27.825594022071257}</td>\n",
       "      <td>0.143189</td>\n",
       "      <td>27.825594</td>\n",
       "    </tr>\n",
       "    <tr>\n",
       "      <th>26</th>\n",
       "      <td>[1, 2, 3, 23, 24]</td>\n",
       "      <td>{'ridge__alpha': 215.44346900318823}</td>\n",
       "      <td>0.146446</td>\n",
       "      <td>215.443469</td>\n",
       "    </tr>\n",
       "    <tr>\n",
       "      <th>17</th>\n",
       "      <td>[1, 2, 3, 4, 5, 6, 7, 8, 9, 10, 11, 12, 13, 14...</td>\n",
       "      <td>{'ridge__alpha': 1668.1005372000557}</td>\n",
       "      <td>0.204469</td>\n",
       "      <td>1668.100537</td>\n",
       "    </tr>\n",
       "    <tr>\n",
       "      <th>6</th>\n",
       "      <td>[1, 2, 3, 4, 5]</td>\n",
       "      <td>{'ridge__alpha': 215.44346900318823}</td>\n",
       "      <td>0.205496</td>\n",
       "      <td>215.443469</td>\n",
       "    </tr>\n",
       "    <tr>\n",
       "      <th>27</th>\n",
       "      <td>[1, 2, 3, 23, 24]</td>\n",
       "      <td>{'ridge__alpha': 1668.1005372000557}</td>\n",
       "      <td>0.212896</td>\n",
       "      <td>1668.100537</td>\n",
       "    </tr>\n",
       "    <tr>\n",
       "      <th>18</th>\n",
       "      <td>[1, 2, 3, 4, 5, 6, 7, 8, 9, 10, 11, 12, 13, 14...</td>\n",
       "      <td>{'ridge__alpha': 12915.496650148827}</td>\n",
       "      <td>0.227536</td>\n",
       "      <td>12915.496650</td>\n",
       "    </tr>\n",
       "    <tr>\n",
       "      <th>28</th>\n",
       "      <td>[1, 2, 3, 23, 24]</td>\n",
       "      <td>{'ridge__alpha': 12915.496650148827}</td>\n",
       "      <td>0.228974</td>\n",
       "      <td>12915.496650</td>\n",
       "    </tr>\n",
       "    <tr>\n",
       "      <th>19</th>\n",
       "      <td>[1, 2, 3, 4, 5, 6, 7, 8, 9, 10, 11, 12, 13, 14...</td>\n",
       "      <td>{'ridge__alpha': 100000.0}</td>\n",
       "      <td>0.231157</td>\n",
       "      <td>100000.000000</td>\n",
       "    </tr>\n",
       "    <tr>\n",
       "      <th>29</th>\n",
       "      <td>[1, 2, 3, 23, 24]</td>\n",
       "      <td>{'ridge__alpha': 100000.0}</td>\n",
       "      <td>0.231356</td>\n",
       "      <td>100000.000000</td>\n",
       "    </tr>\n",
       "    <tr>\n",
       "      <th>7</th>\n",
       "      <td>[1, 2, 3, 4, 5]</td>\n",
       "      <td>{'ridge__alpha': 1668.1005372000557}</td>\n",
       "      <td>0.236227</td>\n",
       "      <td>1668.100537</td>\n",
       "    </tr>\n",
       "    <tr>\n",
       "      <th>8</th>\n",
       "      <td>[1, 2, 3, 4, 5]</td>\n",
       "      <td>{'ridge__alpha': 12915.496650148827}</td>\n",
       "      <td>0.244788</td>\n",
       "      <td>12915.496650</td>\n",
       "    </tr>\n",
       "    <tr>\n",
       "      <th>9</th>\n",
       "      <td>[1, 2, 3, 4, 5]</td>\n",
       "      <td>{'ridge__alpha': 100000.0}</td>\n",
       "      <td>0.246091</td>\n",
       "      <td>100000.000000</td>\n",
       "    </tr>\n",
       "  </tbody>\n",
       "</table>\n",
       "</div>"
      ],
      "text/plain": [
       "                                                 lags  \\\n",
       "0                                     [1, 2, 3, 4, 5]   \n",
       "10  [1, 2, 3, 4, 5, 6, 7, 8, 9, 10, 11, 12, 13, 14...   \n",
       "1                                     [1, 2, 3, 4, 5]   \n",
       "11  [1, 2, 3, 4, 5, 6, 7, 8, 9, 10, 11, 12, 13, 14...   \n",
       "2                                     [1, 2, 3, 4, 5]   \n",
       "12  [1, 2, 3, 4, 5, 6, 7, 8, 9, 10, 11, 12, 13, 14...   \n",
       "3                                     [1, 2, 3, 4, 5]   \n",
       "13  [1, 2, 3, 4, 5, 6, 7, 8, 9, 10, 11, 12, 13, 14...   \n",
       "14  [1, 2, 3, 4, 5, 6, 7, 8, 9, 10, 11, 12, 13, 14...   \n",
       "23                                  [1, 2, 3, 23, 24]   \n",
       "22                                  [1, 2, 3, 23, 24]   \n",
       "21                                  [1, 2, 3, 23, 24]   \n",
       "20                                  [1, 2, 3, 23, 24]   \n",
       "24                                  [1, 2, 3, 23, 24]   \n",
       "15  [1, 2, 3, 4, 5, 6, 7, 8, 9, 10, 11, 12, 13, 14...   \n",
       "4                                     [1, 2, 3, 4, 5]   \n",
       "25                                  [1, 2, 3, 23, 24]   \n",
       "16  [1, 2, 3, 4, 5, 6, 7, 8, 9, 10, 11, 12, 13, 14...   \n",
       "5                                     [1, 2, 3, 4, 5]   \n",
       "26                                  [1, 2, 3, 23, 24]   \n",
       "17  [1, 2, 3, 4, 5, 6, 7, 8, 9, 10, 11, 12, 13, 14...   \n",
       "6                                     [1, 2, 3, 4, 5]   \n",
       "27                                  [1, 2, 3, 23, 24]   \n",
       "18  [1, 2, 3, 4, 5, 6, 7, 8, 9, 10, 11, 12, 13, 14...   \n",
       "28                                  [1, 2, 3, 23, 24]   \n",
       "19  [1, 2, 3, 4, 5, 6, 7, 8, 9, 10, 11, 12, 13, 14...   \n",
       "29                                  [1, 2, 3, 23, 24]   \n",
       "7                                     [1, 2, 3, 4, 5]   \n",
       "8                                     [1, 2, 3, 4, 5]   \n",
       "9                                     [1, 2, 3, 4, 5]   \n",
       "\n",
       "                                    params  mean_absolute_error   ridge__alpha  \n",
       "0                  {'ridge__alpha': 0.001}             0.000068       0.001000  \n",
       "10                 {'ridge__alpha': 0.001}             0.000188       0.001000  \n",
       "1   {'ridge__alpha': 0.007742636826811269}             0.000526       0.007743  \n",
       "11  {'ridge__alpha': 0.007742636826811269}             0.001413       0.007743  \n",
       "2    {'ridge__alpha': 0.05994842503189409}             0.003860       0.059948  \n",
       "12   {'ridge__alpha': 0.05994842503189409}             0.008969       0.059948  \n",
       "3    {'ridge__alpha': 0.46415888336127775}             0.021751       0.464159  \n",
       "13   {'ridge__alpha': 0.46415888336127775}             0.029505       0.464159  \n",
       "14     {'ridge__alpha': 3.593813663804626}             0.046323       3.593814  \n",
       "23   {'ridge__alpha': 0.46415888336127775}             0.060623       0.464159  \n",
       "22   {'ridge__alpha': 0.05994842503189409}             0.061567       0.059948  \n",
       "21  {'ridge__alpha': 0.007742636826811269}             0.061747       0.007743  \n",
       "20                 {'ridge__alpha': 0.001}             0.061771       0.001000  \n",
       "24     {'ridge__alpha': 3.593813663804626}             0.063512       3.593814  \n",
       "15    {'ridge__alpha': 27.825594022071257}             0.064551      27.825594  \n",
       "4      {'ridge__alpha': 3.593813663804626}             0.069220       3.593814  \n",
       "25    {'ridge__alpha': 27.825594022071257}             0.077934      27.825594  \n",
       "16    {'ridge__alpha': 215.44346900318823}             0.130016     215.443469  \n",
       "5     {'ridge__alpha': 27.825594022071257}             0.143189      27.825594  \n",
       "26    {'ridge__alpha': 215.44346900318823}             0.146446     215.443469  \n",
       "17    {'ridge__alpha': 1668.1005372000557}             0.204469    1668.100537  \n",
       "6     {'ridge__alpha': 215.44346900318823}             0.205496     215.443469  \n",
       "27    {'ridge__alpha': 1668.1005372000557}             0.212896    1668.100537  \n",
       "18    {'ridge__alpha': 12915.496650148827}             0.227536   12915.496650  \n",
       "28    {'ridge__alpha': 12915.496650148827}             0.228974   12915.496650  \n",
       "19              {'ridge__alpha': 100000.0}             0.231157  100000.000000  \n",
       "29              {'ridge__alpha': 100000.0}             0.231356  100000.000000  \n",
       "7     {'ridge__alpha': 1668.1005372000557}             0.236227    1668.100537  \n",
       "8     {'ridge__alpha': 12915.496650148827}             0.244788   12915.496650  \n",
       "9               {'ridge__alpha': 100000.0}             0.246091  100000.000000  "
      ]
     },
     "execution_count": 14,
     "metadata": {},
     "output_type": "execute_result"
    }
   ],
   "source": [
    "results_grid"
   ]
  },
  {
   "cell_type": "code",
   "execution_count": null,
   "metadata": {},
   "outputs": [
    {
     "data": {
      "text/html": [
       "<style>\n",
       ".jupyter-wrapper .jp-CodeCell .jp-Cell-inputWrapper .jp-InputPrompt {display: none;}\n",
       "</style>\n"
      ],
      "text/plain": [
       "<IPython.core.display.HTML object>"
      ]
     },
     "metadata": {},
     "output_type": "display_data"
    }
   ],
   "source": [
    "%%html\n",
    "<style>\n",
    ".jupyter-wrapper .jp-CodeCell .jp-Cell-inputWrapper .jp-InputPrompt {display: none;}\n",
    "</style>"
   ]
  }
 ],
 "metadata": {
  "kernelspec": {
   "display_name": "Python 3.9.13 ('skforecast')",
   "language": "python",
   "name": "python3"
  },
  "language_info": {
   "codemirror_mode": {
    "name": "ipython",
    "version": 3
   },
   "file_extension": ".py",
   "mimetype": "text/x-python",
   "name": "python",
   "nbconvert_exporter": "python",
   "pygments_lexer": "ipython3",
   "version": "3.9.13"
  },
  "toc": {
   "base_numbering": 1,
   "nav_menu": {},
   "number_sections": false,
   "sideBar": true,
   "skip_h1_title": true,
   "title_cell": "Tabla de contenidos",
   "title_sidebar": "Tabla de contenidos",
   "toc_cell": false,
   "toc_position": {
    "height": "calc(100% - 180px)",
    "left": "10px",
    "top": "150px",
    "width": "165px"
   },
   "toc_section_display": true,
   "toc_window_display": false
  },
  "varInspector": {
   "cols": {
    "lenName": 16,
    "lenType": 16,
    "lenVar": 40
   },
   "kernels_config": {
    "python": {
     "delete_cmd_postfix": "",
     "delete_cmd_prefix": "del ",
     "library": "var_list.py",
     "varRefreshCmd": "print(var_dic_list())"
    },
    "r": {
     "delete_cmd_postfix": ") ",
     "delete_cmd_prefix": "rm(",
     "library": "var_list.r",
     "varRefreshCmd": "cat(var_dic_list()) "
    }
   },
   "position": {
    "height": "144.391px",
    "left": "1478px",
    "right": "20px",
    "top": "126px",
    "width": "350px"
   },
   "types_to_exclude": [
    "module",
    "function",
    "builtin_function_or_method",
    "instance",
    "_Feature"
   ],
   "window_display": false
  },
  "vscode": {
   "interpreter": {
    "hash": "6ffed84beb63baa96f7d22d816ccf3255c078420a09b57d1f48b4641bbf1489e"
   }
  }
 },
 "nbformat": 4,
 "nbformat_minor": 4
}
