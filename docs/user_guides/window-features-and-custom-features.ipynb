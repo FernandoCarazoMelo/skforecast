{
 "cells": [
  {
   "attachments": {},
   "cell_type": "markdown",
   "id": "d1ae70e1-1354-4aa6-9dc4-73d3c7b016c5",
   "metadata": {},
   "source": [
    "# Window and custom features"
   ]
  },
  {
   "cell_type": "markdown",
   "id": "028c1370",
   "metadata": {},
   "source": [
    "When forecasting time series data, it may be useful to consider additional characteristics beyond just the lagged values. For example, the moving average of the previous *n* values may help to capture the trend in the series. The `window_features` argument allows the inclusion of additional predictors created with the previous values of the series."
   ]
  },
  {
   "attachments": {},
   "cell_type": "markdown",
   "id": "0908f761",
   "metadata": {},
   "source": [
    "## Libraries and data"
   ]
  },
  {
   "cell_type": "code",
   "execution_count": 1,
   "id": "d378f5ff-8092-49bb-80b7-8a3996d19fb1",
   "metadata": {},
   "outputs": [],
   "source": [
    "# Libraries\n",
    "# ==============================================================================\n",
    "import numpy as np\n",
    "import pandas as pd\n",
    "import matplotlib.pyplot as plt\n",
    "from skforecast.datasets import fetch_dataset\n",
    "from skforecast.recursive import ForecasterRecursive\n",
    "from skforecast.preprocessing import RollingFeatures\n",
    "from lightgbm import LGBMRegressor"
   ]
  },
  {
   "cell_type": "code",
   "execution_count": 2,
   "id": "e9cee83a",
   "metadata": {},
   "outputs": [
    {
     "name": "stdout",
     "output_type": "stream",
     "text": [
      "h2o\n",
      "---\n",
      "Monthly expenditure ($AUD) on corticosteroid drugs that the Australian health\n",
      "system had between 1991 and 2008.\n",
      "Hyndman R (2023). fpp3: Data for Forecasting: Principles and Practice(3rd\n",
      "Edition). http://pkg.robjhyndman.com/fpp3package/,https://github.com/robjhyndman\n",
      "/fpp3package, http://OTexts.com/fpp3.\n",
      "Shape of the dataset: (204, 1)\n"
     ]
    },
    {
     "data": {
      "text/plain": [
       "datetime\n",
       "1991-07-01    0.429795\n",
       "1991-08-01    0.400906\n",
       "1991-09-01    0.432159\n",
       "1991-10-01    0.492543\n",
       "1991-11-01    0.502369\n",
       "                ...   \n",
       "2008-02-01    0.761822\n",
       "2008-03-01    0.649435\n",
       "2008-04-01    0.827887\n",
       "2008-05-01    0.816255\n",
       "2008-06-01    0.762137\n",
       "Freq: MS, Name: y, Length: 204, dtype: float64"
      ]
     },
     "execution_count": 2,
     "metadata": {},
     "output_type": "execute_result"
    }
   ],
   "source": [
    "# Data\n",
    "# ==============================================================================\n",
    "data = fetch_dataset(name=\"h2o\", raw=False)\n",
    "data.index.name = 'datetime'\n",
    "data = data.rename(columns={'x': 'y'})\n",
    "y = data['y']\n",
    "y"
   ]
  },
  {
   "attachments": {},
   "cell_type": "markdown",
   "id": "97f03864-ee4a-459d-9eec-03d14feb931e",
   "metadata": {},
   "source": [
    "## RollingFeatures"
   ]
  },
  {
   "attachments": {},
   "cell_type": "markdown",
   "id": "3d439250",
   "metadata": {},
   "source": [
    "The <code>RollingFeatures</code> class availabe is skforecast allows the creation of some of the most commonly used predictors:\n",
    "\n",
    "+ 'mean': the mean of the previous *n* values.\n",
    "+ 'std': the standard deviation of the previous *n* values.\n",
    "+ 'min': the minimum of the previous *n* values.\n",
    "+ 'max': the maximum of the previous *n* values.\n",
    "+ 'sum': the sum of the previous *n* values.\n",
    "+ 'median': the median of the previous *n* values.\n",
    "+ 'ratio_min_max': the ratio between the minimum and maximum of the previous *n* values.\n",
    "+ 'coef_variation': the coefficient of variation of the previous *n* values.\n",
    "\n",
    "The user can specify a different window size for each of them or the same for all of them."
   ]
  },
  {
   "cell_type": "markdown",
   "id": "2ba73623",
   "metadata": {},
   "source": [
    "The following example demonstrates how to use the <code>RollingFeatures</code> class to calculate rolling statistics, including the mean, minimum, and maximum values. Here, the rolling mean is computed with a window size of 20, while the minimum and maximum values use a window size of 10."
   ]
  },
  {
   "cell_type": "code",
   "execution_count": 3,
   "id": "e3cbe9ff-cfba-46ad-a456-d07833e9ca02",
   "metadata": {},
   "outputs": [],
   "source": [
    "# Window features\n",
    "# ==============================================================================\n",
    "window_features = RollingFeatures(\n",
    "                    stats        = ['mean', 'min', 'max'],\n",
    "                    window_sizes = [20, 10, 10]\n",
    "                  )"
   ]
  },
  {
   "cell_type": "code",
   "execution_count": 4,
   "id": "349d1b95-5b16-4620-a46e-d595b4187ebe",
   "metadata": {},
   "outputs": [
    {
     "data": {
      "text/html": [
       "\n",
       "        <style>\n",
       "            .container-5f708a5adb2c4049bc6dab527fc1f11f {\n",
       "                font-family: 'Arial', sans-serif;\n",
       "                font-size: 0.9em;\n",
       "                color: #333;\n",
       "                border: 1px solid #ddd;\n",
       "                background-color: #f0f8ff;\n",
       "                padding: 5px 15px;\n",
       "                border-radius: 8px;\n",
       "                max-width: 600px;\n",
       "                #margin: auto;\n",
       "            }\n",
       "            .container-5f708a5adb2c4049bc6dab527fc1f11f h2 {\n",
       "                font-size: 1.5em;\n",
       "                color: #222;\n",
       "                border-bottom: 2px solid #ddd;\n",
       "                padding-bottom: 5px;\n",
       "                margin-bottom: 15px;\n",
       "            }\n",
       "            .container-5f708a5adb2c4049bc6dab527fc1f11f details {\n",
       "                margin: 10px 0;\n",
       "            }\n",
       "            .container-5f708a5adb2c4049bc6dab527fc1f11f summary {\n",
       "                font-weight: bold;\n",
       "                font-size: 1.1em;\n",
       "                cursor: pointer;\n",
       "                margin-bottom: 5px;\n",
       "                background-color: #b3dbfd;\n",
       "                padding: 5px;\n",
       "                border-radius: 5px;\n",
       "            }\n",
       "            .container-5f708a5adb2c4049bc6dab527fc1f11f summary:hover {\n",
       "                background-color: #e0e0e0;\n",
       "            }\n",
       "            .container-5f708a5adb2c4049bc6dab527fc1f11f ul {\n",
       "                font-family: 'Courier New', monospace;\n",
       "                list-style-type: none;\n",
       "                padding-left: 20px;\n",
       "                margin: 10px 0;\n",
       "            }\n",
       "            .container-5f708a5adb2c4049bc6dab527fc1f11f li {\n",
       "                margin: 5px 0;\n",
       "                font-family: 'Courier New', monospace;\n",
       "            }\n",
       "            .container-5f708a5adb2c4049bc6dab527fc1f11f li strong {\n",
       "                font-weight: bold;\n",
       "                color: #444;\n",
       "            }\n",
       "            .container-5f708a5adb2c4049bc6dab527fc1f11f li::before {\n",
       "                content: \"- \";\n",
       "                color: #666;\n",
       "            }\n",
       "            .container-5f708a5adb2c4049bc6dab527fc1f11f a {\n",
       "                color: #001633;\n",
       "                text-decoration: none;\n",
       "            }\n",
       "            .container-5f708a5adb2c4049bc6dab527fc1f11f a:hover {\n",
       "                color: #359ccb; \n",
       "            }\n",
       "        </style>\n",
       "        \n",
       "        <div class=\"container-5f708a5adb2c4049bc6dab527fc1f11f\">\n",
       "            <h2>ForecasterRecursive</h2>\n",
       "            <details open>\n",
       "                <summary>General Information</summary>\n",
       "                <ul>\n",
       "                    <li><strong>Regressor:</strong> LGBMRegressor(n_jobs=-1, random_state=123, verbose=-1)</li>\n",
       "                    <li><strong>Lags:</strong> [1 2 3]</li>\n",
       "                    <li><strong>Window features:</strong> ['roll_mean_20', 'roll_min_10', 'roll_max_10']</li>\n",
       "                    <li><strong>Window size:</strong> 20</li>\n",
       "                    <li><strong>Exogenous included:</strong> False</li>\n",
       "                    <li><strong>Weight function included:</strong> False</li>\n",
       "                    <li><strong>Differentiation order:</strong> None</li>\n",
       "                    <li><strong>Creation date:</strong> 2024-11-01 23:34:53</li>\n",
       "                    <li><strong>Last fit date:</strong> 2024-11-01 23:34:53</li>\n",
       "                    <li><strong>Skforecast version:</strong> 0.14.0</li>\n",
       "                    <li><strong>Python version:</strong> 3.12.5</li>\n",
       "                    <li><strong>Forecaster id:</strong> None</li>\n",
       "                </ul>\n",
       "            </details>\n",
       "            <details>\n",
       "                <summary>Exogenous Variables</summary>\n",
       "                <ul>\n",
       "                    None\n",
       "                </ul>\n",
       "            </details>\n",
       "            <details>\n",
       "                <summary>Data Transformations</summary>\n",
       "                <ul>\n",
       "                    <li><strong>Transformer for y:</strong> None</li>\n",
       "                    <li><strong>Transformer for exog:</strong> None</li>\n",
       "                </ul>\n",
       "            </details>\n",
       "            <details>\n",
       "                <summary>Training Information</summary>\n",
       "                <ul>\n",
       "                    <li><strong>Training range:</strong> [Timestamp('1991-07-01 00:00:00'), Timestamp('2008-06-01 00:00:00')]</li>\n",
       "                    <li><strong>Training index type:</strong> DatetimeIndex</li>\n",
       "                    <li><strong>Training index frequency:</strong> MS</li>\n",
       "                </ul>\n",
       "            </details>\n",
       "            <details>\n",
       "                <summary>Regressor Parameters</summary>\n",
       "                <ul>\n",
       "                    {'boosting_type': 'gbdt', 'class_weight': None, 'colsample_bytree': 1.0, 'importance_type': 'split', 'learning_rate': 0.1, 'max_depth': -1, 'min_child_samples': 20, 'min_child_weight': 0.001, 'min_split_gain': 0.0, 'n_estimators': 100, 'n_jobs': -1, 'num_leaves': 31, 'objective': None, 'random_state': 123, 'reg_alpha': 0.0, 'reg_lambda': 0.0, 'subsample': 1.0, 'subsample_for_bin': 200000, 'subsample_freq': 0, 'verbose': -1}\n",
       "                </ul>\n",
       "            </details>\n",
       "            <details>\n",
       "                <summary>Fit Kwargs</summary>\n",
       "                <ul>\n",
       "                    {}\n",
       "                </ul>\n",
       "            </details>\n",
       "            <p>\n",
       "                <a href=\"https://skforecast.org/0.14.0/api/forecasterrecursive.html\">&#128712 <strong>API Reference</strong></a>\n",
       "                &nbsp;&nbsp;\n",
       "                <a href=\"https://skforecast.org/0.14.0/user_guides/autoregresive-forecaster.html\">&#128462 <strong>User Guide</strong></a>\n",
       "            </p>\n",
       "        </div>\n",
       "        "
      ],
      "text/plain": [
       "=================== \n",
       "ForecasterRecursive \n",
       "=================== \n",
       "Regressor: LGBMRegressor(n_jobs=-1, random_state=123, verbose=-1) \n",
       "Lags: [1 2 3] \n",
       "Window features: ['roll_mean_20', 'roll_min_10', 'roll_max_10'] \n",
       "Window size: 20 \n",
       "Exogenous included: False \n",
       "Exogenous names: None \n",
       "Transformer for y: None \n",
       "Transformer for exog: None \n",
       "Weight function included: False \n",
       "Differentiation order: None \n",
       "Training range: [Timestamp('1991-07-01 00:00:00'), Timestamp('2008-06-01 00:00:00')] \n",
       "Training index type: DatetimeIndex \n",
       "Training index frequency: MS \n",
       "Regressor parameters: \n",
       "    {'boosting_type': 'gbdt', 'class_weight': None, 'colsample_bytree': 1.0,\n",
       "    'importance_type': 'split', 'learning_rate': 0.1, 'max_depth': -1,\n",
       "    'min_child_samples': 20, 'min_child_weight': 0.001, 'min_split_gain': 0.0,\n",
       "    'n_estimators': 100, 'n_jobs': -1, 'num_leaves': 31, 'objective': None,\n",
       "    'random_state': 123, 'reg_alpha': 0.0, 'reg_lambda': 0.0, 'subsample': 1.0,\n",
       "    'subsample_for_bin': 200000, 'subsample_freq': 0, 'verbose': -1} \n",
       "fit_kwargs: {} \n",
       "Creation date: 2024-11-01 23:34:53 \n",
       "Last fit date: 2024-11-01 23:34:53 \n",
       "Skforecast version: 0.14.0 \n",
       "Python version: 3.12.5 \n",
       "Forecaster id: None "
      ]
     },
     "execution_count": 4,
     "metadata": {},
     "output_type": "execute_result"
    }
   ],
   "source": [
    "# Create and fit forecaster\n",
    "# ==============================================================================\n",
    "forecaster = ForecasterRecursive(\n",
    "                regressor       = LGBMRegressor(random_state=123, n_jobs=-1, verbose=-1),\n",
    "                lags            = 3,\n",
    "                window_features = window_features,\n",
    "             )\n",
    "forecaster.fit(y=y)\n",
    "forecaster"
   ]
  },
  {
   "cell_type": "code",
   "execution_count": 5,
   "id": "f1bdf4f8-b999-4d97-899c-fbcc2af7066a",
   "metadata": {},
   "outputs": [
    {
     "data": {
      "text/plain": [
       "2008-07-01    0.880138\n",
       "2008-08-01    1.020947\n",
       "2008-09-01    1.061728\n",
       "Freq: MS, Name: pred, dtype: float64"
      ]
     },
     "execution_count": 5,
     "metadata": {},
     "output_type": "execute_result"
    }
   ],
   "source": [
    "# Predict\n",
    "# ==============================================================================\n",
    "steps = 36\n",
    "predictions = forecaster.predict(steps=steps)\n",
    "predictions.head(3)"
   ]
  },
  {
   "cell_type": "markdown",
   "id": "0050263a",
   "metadata": {},
   "source": [
    "By default, windowed feature names follow the pattern <code>roll_<stat>_<window_size></code>. For instance, a rolling mean with a window size of 20 is named *roll_mean_20*. Users can also assign custom names to each feature using the <code>features_names</code> argument. Additionally, the <code>min_periods</code> argument allows specifying the minimum number of observations required to compute the statistics, while the <code>fill_na</code> argument defines the strategy for handling missing values."
   ]
  },
  {
   "cell_type": "markdown",
   "id": "bd288e0d",
   "metadata": {},
   "source": [
    "By inspecting the training matrices, it is possible to check that the rolling features have been correctly included in the design matrix."
   ]
  },
  {
   "cell_type": "code",
   "execution_count": 6,
   "id": "08956146-2b7e-41ad-8454-246e9d35f8a3",
   "metadata": {},
   "outputs": [
    {
     "data": {
      "text/html": [
       "<div>\n",
       "<style scoped>\n",
       "    .dataframe tbody tr th:only-of-type {\n",
       "        vertical-align: middle;\n",
       "    }\n",
       "\n",
       "    .dataframe tbody tr th {\n",
       "        vertical-align: top;\n",
       "    }\n",
       "\n",
       "    .dataframe thead th {\n",
       "        text-align: right;\n",
       "    }\n",
       "</style>\n",
       "<table border=\"1\" class=\"dataframe\">\n",
       "  <thead>\n",
       "    <tr style=\"text-align: right;\">\n",
       "      <th></th>\n",
       "      <th>lag_1</th>\n",
       "      <th>lag_2</th>\n",
       "      <th>lag_3</th>\n",
       "      <th>roll_mean_20</th>\n",
       "      <th>roll_min_10</th>\n",
       "      <th>roll_max_10</th>\n",
       "    </tr>\n",
       "    <tr>\n",
       "      <th>datetime</th>\n",
       "      <th></th>\n",
       "      <th></th>\n",
       "      <th></th>\n",
       "      <th></th>\n",
       "      <th></th>\n",
       "      <th></th>\n",
       "    </tr>\n",
       "  </thead>\n",
       "  <tbody>\n",
       "    <tr>\n",
       "      <th>1993-03-01</th>\n",
       "      <td>0.387554</td>\n",
       "      <td>0.751503</td>\n",
       "      <td>0.771258</td>\n",
       "      <td>0.496401</td>\n",
       "      <td>0.361801</td>\n",
       "      <td>0.771258</td>\n",
       "    </tr>\n",
       "    <tr>\n",
       "      <th>1993-04-01</th>\n",
       "      <td>0.427283</td>\n",
       "      <td>0.387554</td>\n",
       "      <td>0.751503</td>\n",
       "      <td>0.496275</td>\n",
       "      <td>0.387554</td>\n",
       "      <td>0.771258</td>\n",
       "    </tr>\n",
       "    <tr>\n",
       "      <th>1993-05-01</th>\n",
       "      <td>0.413890</td>\n",
       "      <td>0.427283</td>\n",
       "      <td>0.387554</td>\n",
       "      <td>0.496924</td>\n",
       "      <td>0.387554</td>\n",
       "      <td>0.771258</td>\n",
       "    </tr>\n",
       "    <tr>\n",
       "      <th>1993-06-01</th>\n",
       "      <td>0.428859</td>\n",
       "      <td>0.413890</td>\n",
       "      <td>0.427283</td>\n",
       "      <td>0.496759</td>\n",
       "      <td>0.387554</td>\n",
       "      <td>0.771258</td>\n",
       "    </tr>\n",
       "    <tr>\n",
       "      <th>1993-07-01</th>\n",
       "      <td>0.470126</td>\n",
       "      <td>0.428859</td>\n",
       "      <td>0.413890</td>\n",
       "      <td>0.495638</td>\n",
       "      <td>0.387554</td>\n",
       "      <td>0.771258</td>\n",
       "    </tr>\n",
       "    <tr>\n",
       "      <th>...</th>\n",
       "      <td>...</td>\n",
       "      <td>...</td>\n",
       "      <td>...</td>\n",
       "      <td>...</td>\n",
       "      <td>...</td>\n",
       "      <td>...</td>\n",
       "    </tr>\n",
       "    <tr>\n",
       "      <th>2008-02-01</th>\n",
       "      <td>1.219941</td>\n",
       "      <td>1.176589</td>\n",
       "      <td>1.163534</td>\n",
       "      <td>0.980390</td>\n",
       "      <td>0.561760</td>\n",
       "      <td>1.219941</td>\n",
       "    </tr>\n",
       "    <tr>\n",
       "      <th>2008-03-01</th>\n",
       "      <td>0.761822</td>\n",
       "      <td>1.219941</td>\n",
       "      <td>1.176589</td>\n",
       "      <td>0.978582</td>\n",
       "      <td>0.745258</td>\n",
       "      <td>1.219941</td>\n",
       "    </tr>\n",
       "    <tr>\n",
       "      <th>2008-04-01</th>\n",
       "      <td>0.649435</td>\n",
       "      <td>0.761822</td>\n",
       "      <td>1.219941</td>\n",
       "      <td>0.966838</td>\n",
       "      <td>0.649435</td>\n",
       "      <td>1.219941</td>\n",
       "    </tr>\n",
       "    <tr>\n",
       "      <th>2008-05-01</th>\n",
       "      <td>0.827887</td>\n",
       "      <td>0.649435</td>\n",
       "      <td>0.761822</td>\n",
       "      <td>0.955750</td>\n",
       "      <td>0.649435</td>\n",
       "      <td>1.219941</td>\n",
       "    </tr>\n",
       "    <tr>\n",
       "      <th>2008-06-01</th>\n",
       "      <td>0.816255</td>\n",
       "      <td>0.827887</td>\n",
       "      <td>0.649435</td>\n",
       "      <td>0.946778</td>\n",
       "      <td>0.649435</td>\n",
       "      <td>1.219941</td>\n",
       "    </tr>\n",
       "  </tbody>\n",
       "</table>\n",
       "<p>184 rows × 6 columns</p>\n",
       "</div>"
      ],
      "text/plain": [
       "               lag_1     lag_2     lag_3  roll_mean_20  roll_min_10  \\\n",
       "datetime                                                              \n",
       "1993-03-01  0.387554  0.751503  0.771258      0.496401     0.361801   \n",
       "1993-04-01  0.427283  0.387554  0.751503      0.496275     0.387554   \n",
       "1993-05-01  0.413890  0.427283  0.387554      0.496924     0.387554   \n",
       "1993-06-01  0.428859  0.413890  0.427283      0.496759     0.387554   \n",
       "1993-07-01  0.470126  0.428859  0.413890      0.495638     0.387554   \n",
       "...              ...       ...       ...           ...          ...   \n",
       "2008-02-01  1.219941  1.176589  1.163534      0.980390     0.561760   \n",
       "2008-03-01  0.761822  1.219941  1.176589      0.978582     0.745258   \n",
       "2008-04-01  0.649435  0.761822  1.219941      0.966838     0.649435   \n",
       "2008-05-01  0.827887  0.649435  0.761822      0.955750     0.649435   \n",
       "2008-06-01  0.816255  0.827887  0.649435      0.946778     0.649435   \n",
       "\n",
       "            roll_max_10  \n",
       "datetime                 \n",
       "1993-03-01     0.771258  \n",
       "1993-04-01     0.771258  \n",
       "1993-05-01     0.771258  \n",
       "1993-06-01     0.771258  \n",
       "1993-07-01     0.771258  \n",
       "...                 ...  \n",
       "2008-02-01     1.219941  \n",
       "2008-03-01     1.219941  \n",
       "2008-04-01     1.219941  \n",
       "2008-05-01     1.219941  \n",
       "2008-06-01     1.219941  \n",
       "\n",
       "[184 rows x 6 columns]"
      ]
     },
     "execution_count": 6,
     "metadata": {},
     "output_type": "execute_result"
    }
   ],
   "source": [
    "# Training matrices used internally to fit the regressor\n",
    "# ==============================================================================\n",
    "X_train, y_train = forecaster.create_train_X_y(y=y)\n",
    "X_train"
   ]
  },
  {
   "cell_type": "markdown",
   "id": "e2f5f51c",
   "metadata": {},
   "source": [
    "It is also possible to use the <code>RollingFeatures</code> class outside the forecaster to gain a deeper insight into its behaviour. The `transform` method computes the rolling features for a given numpy array, which is assumed to contain as many past observations as the maximum window size required to compute the rolling features. The output is a numpy array with the rolling features for that array."
   ]
  },
  {
   "cell_type": "code",
   "execution_count": 7,
   "id": "eac1be35",
   "metadata": {},
   "outputs": [
    {
     "data": {
      "text/plain": [
       "array([ 9.5, 10. , 19. ])"
      ]
     },
     "execution_count": 7,
     "metadata": {},
     "output_type": "execute_result"
    }
   ],
   "source": [
    "# Create rolling features from a given array\n",
    "# ==============================================================================\n",
    "x = np.arange(20)\n",
    "window_features.transform(X=x)"
   ]
  },
  {
   "cell_type": "markdown",
   "id": "bb241389",
   "metadata": {},
   "source": [
    "The `transform_batch` method is designed to transform a whole pandas series from which multiple rolling windows can be extracted. The output is a pandas dataframe with the rolling features."
   ]
  },
  {
   "cell_type": "code",
   "execution_count": 8,
   "id": "7e1d5c7f",
   "metadata": {},
   "outputs": [
    {
     "data": {
      "text/html": [
       "<div>\n",
       "<style scoped>\n",
       "    .dataframe tbody tr th:only-of-type {\n",
       "        vertical-align: middle;\n",
       "    }\n",
       "\n",
       "    .dataframe tbody tr th {\n",
       "        vertical-align: top;\n",
       "    }\n",
       "\n",
       "    .dataframe thead th {\n",
       "        text-align: right;\n",
       "    }\n",
       "</style>\n",
       "<table border=\"1\" class=\"dataframe\">\n",
       "  <thead>\n",
       "    <tr style=\"text-align: right;\">\n",
       "      <th></th>\n",
       "      <th>roll_mean_20</th>\n",
       "      <th>roll_min_10</th>\n",
       "      <th>roll_max_10</th>\n",
       "    </tr>\n",
       "    <tr>\n",
       "      <th>datetime</th>\n",
       "      <th></th>\n",
       "      <th></th>\n",
       "      <th></th>\n",
       "    </tr>\n",
       "  </thead>\n",
       "  <tbody>\n",
       "    <tr>\n",
       "      <th>1993-03-01</th>\n",
       "      <td>0.496401</td>\n",
       "      <td>0.361801</td>\n",
       "      <td>0.771258</td>\n",
       "    </tr>\n",
       "    <tr>\n",
       "      <th>1993-04-01</th>\n",
       "      <td>0.496275</td>\n",
       "      <td>0.387554</td>\n",
       "      <td>0.771258</td>\n",
       "    </tr>\n",
       "    <tr>\n",
       "      <th>1993-05-01</th>\n",
       "      <td>0.496924</td>\n",
       "      <td>0.387554</td>\n",
       "      <td>0.771258</td>\n",
       "    </tr>\n",
       "  </tbody>\n",
       "</table>\n",
       "</div>"
      ],
      "text/plain": [
       "            roll_mean_20  roll_min_10  roll_max_10\n",
       "datetime                                          \n",
       "1993-03-01      0.496401     0.361801     0.771258\n",
       "1993-04-01      0.496275     0.387554     0.771258\n",
       "1993-05-01      0.496924     0.387554     0.771258"
      ]
     },
     "execution_count": 8,
     "metadata": {},
     "output_type": "execute_result"
    }
   ],
   "source": [
    "# Create rolling features from a pandas series\n",
    "# ==============================================================================\n",
    "window_features.transform_batch(y).head(3)"
   ]
  },
  {
   "cell_type": "markdown",
   "id": "d8e8dc20",
   "metadata": {},
   "source": [
    "The reason for this two different ways of transforming the data is that the first one is used during the prediction process, where the forecaster only has access last window of the series, while the second one is used during the training process, where the forecaster has access to the whole series."
   ]
  },
  {
   "cell_type": "markdown",
   "id": "63623cfc",
   "metadata": {},
   "source": [
    "## Create your custom window features"
   ]
  },
  {
   "cell_type": "markdown",
   "id": "700c07a3",
   "metadata": {},
   "source": [
    "`RollingFeatures` is very useful for including some of the most commonly used predictors.  However, users may need to include additional predictors that are not provided by this class. In such cases, users can create their own custom class to compute the desired features and include them in the forecaster.\n",
    "\n",
    "The custom class only requires 2 methods:\n",
    "\n",
    "+ `transform`: method to compute the features from a numpy array. This method will be used to compute the features during the prediction process.\n",
    "\n",
    "+ `transform_batch`: method to compute the features in batch from a pandas Series. This method will be used to compute the features during the training process.\n",
    "\n",
    "and 2 attributes:\n",
    "\n",
    "+ `features_names`: list with the names of the features.\n",
    "\n",
    "+ `window_sizes`: maximum window size required to compute the features."
   ]
  },
  {
   "cell_type": "markdown",
   "id": "67065447",
   "metadata": {},
   "source": [
    "The follwing example shows how to create a custom class to include the rolling skewness and kurtosis with a window size of 20."
   ]
  },
  {
   "cell_type": "code",
   "execution_count": 9,
   "id": "9f6acbec",
   "metadata": {},
   "outputs": [],
   "source": [
    "# Custom class to create rolling skewness features\n",
    "# ==============================================================================\n",
    "from scipy.stats import skew\n",
    "\n",
    "class RollingSkewness():\n",
    "    \"\"\"\n",
    "    Custom class to create rolling skewness features.\n",
    "    \"\"\"\n",
    "\n",
    "    def __init__(self, window_sizes, features_names='rolling_skewness'):\n",
    "        \n",
    "        if not isinstance(window_sizes, list):\n",
    "            window_sizes = [window_sizes]\n",
    "        self.window_sizes = window_sizes\n",
    "        self.features_names = features_names\n",
    "\n",
    "    def transform_batch(self, X: pd.Series) -> pd.DataFrame:\n",
    "        \n",
    "        rolling_obj = X.rolling(window=self.window_sizes[0], center=False, closed='left')\n",
    "        rolling_skewness = rolling_obj.skew()\n",
    "        rolling_skewness = pd.DataFrame({\n",
    "                                self.features_names: rolling_skewness\n",
    "                           }).dropna()\n",
    "\n",
    "        return rolling_skewness\n",
    "\n",
    "    def transform(self, X: np.ndarray) -> np.ndarray:\n",
    "        \n",
    "        X = X[~np.isnan(X)]\n",
    "        if len(X) > 0:\n",
    "            rolling_skewness = np.array([skew(X, bias=False)])\n",
    "        else:\n",
    "            rolling_skewness = np.nan\n",
    "        \n",
    "        return rolling_skewness"
   ]
  },
  {
   "cell_type": "code",
   "execution_count": 10,
   "id": "70760ed4",
   "metadata": {},
   "outputs": [
    {
     "data": {
      "text/html": [
       "<div>\n",
       "<style scoped>\n",
       "    .dataframe tbody tr th:only-of-type {\n",
       "        vertical-align: middle;\n",
       "    }\n",
       "\n",
       "    .dataframe tbody tr th {\n",
       "        vertical-align: top;\n",
       "    }\n",
       "\n",
       "    .dataframe thead th {\n",
       "        text-align: right;\n",
       "    }\n",
       "</style>\n",
       "<table border=\"1\" class=\"dataframe\">\n",
       "  <thead>\n",
       "    <tr style=\"text-align: right;\">\n",
       "      <th></th>\n",
       "      <th>rolling_skewness</th>\n",
       "    </tr>\n",
       "    <tr>\n",
       "      <th>datetime</th>\n",
       "      <th></th>\n",
       "    </tr>\n",
       "  </thead>\n",
       "  <tbody>\n",
       "    <tr>\n",
       "      <th>1991-10-01</th>\n",
       "      <td>-1.696160</td>\n",
       "    </tr>\n",
       "    <tr>\n",
       "      <th>1991-11-01</th>\n",
       "      <td>0.897261</td>\n",
       "    </tr>\n",
       "    <tr>\n",
       "      <th>1991-12-01</th>\n",
       "      <td>-1.602797</td>\n",
       "    </tr>\n",
       "    <tr>\n",
       "      <th>1992-01-01</th>\n",
       "      <td>1.681518</td>\n",
       "    </tr>\n",
       "    <tr>\n",
       "      <th>1992-02-01</th>\n",
       "      <td>-0.778727</td>\n",
       "    </tr>\n",
       "    <tr>\n",
       "      <th>...</th>\n",
       "      <td>...</td>\n",
       "    </tr>\n",
       "    <tr>\n",
       "      <th>2008-02-01</th>\n",
       "      <td>1.359033</td>\n",
       "    </tr>\n",
       "    <tr>\n",
       "      <th>2008-03-01</th>\n",
       "      <td>-1.674974</td>\n",
       "    </tr>\n",
       "    <tr>\n",
       "      <th>2008-04-01</th>\n",
       "      <td>1.466482</td>\n",
       "    </tr>\n",
       "    <tr>\n",
       "      <th>2008-05-01</th>\n",
       "      <td>-0.747574</td>\n",
       "    </tr>\n",
       "    <tr>\n",
       "      <th>2008-06-01</th>\n",
       "      <td>-1.705640</td>\n",
       "    </tr>\n",
       "  </tbody>\n",
       "</table>\n",
       "<p>201 rows × 1 columns</p>\n",
       "</div>"
      ],
      "text/plain": [
       "            rolling_skewness\n",
       "datetime                    \n",
       "1991-10-01         -1.696160\n",
       "1991-11-01          0.897261\n",
       "1991-12-01         -1.602797\n",
       "1992-01-01          1.681518\n",
       "1992-02-01         -0.778727\n",
       "...                      ...\n",
       "2008-02-01          1.359033\n",
       "2008-03-01         -1.674974\n",
       "2008-04-01          1.466482\n",
       "2008-05-01         -0.747574\n",
       "2008-06-01         -1.705640\n",
       "\n",
       "[201 rows x 1 columns]"
      ]
     },
     "execution_count": 10,
     "metadata": {},
     "output_type": "execute_result"
    }
   ],
   "source": [
    "window_features = RollingSkewness(window_sizes=3)\n",
    "window_features.transform_batch(y)"
   ]
  },
  {
   "cell_type": "code",
   "execution_count": 11,
   "id": "e72cdf99",
   "metadata": {},
   "outputs": [
    {
     "data": {
      "text/plain": [
       "array([0.93521953])"
      ]
     },
     "execution_count": 11,
     "metadata": {},
     "output_type": "execute_result"
    }
   ],
   "source": [
    "window_features.transform(X=np.array([6, 12, 8]))"
   ]
  },
  {
   "cell_type": "code",
   "execution_count": 12,
   "id": "22f40ee2",
   "metadata": {},
   "outputs": [
    {
     "data": {
      "text/plain": [
       "2008-07-01    0.769870\n",
       "2008-08-01    0.824683\n",
       "2008-09-01    0.819595\n",
       "2008-10-01    0.799849\n",
       "2008-11-01    0.802432\n",
       "Freq: MS, Name: pred, dtype: float64"
      ]
     },
     "execution_count": 12,
     "metadata": {},
     "output_type": "execute_result"
    }
   ],
   "source": [
    "forecaster = ForecasterRecursive(\n",
    "                regressor       = LGBMRegressor(random_state=123, n_jobs=-1, verbose=-1),\n",
    "                lags            = 3,\n",
    "                window_features = window_features,\n",
    "             )\n",
    "forecaster.fit(y=y)\n",
    "forecaster.predict(steps=5)"
   ]
  }
 ],
 "metadata": {
  "kernelspec": {
   "display_name": "skforecast_14_py12",
   "language": "python",
   "name": "python3"
  },
  "language_info": {
   "codemirror_mode": {
    "name": "ipython",
    "version": 3
   },
   "file_extension": ".py",
   "mimetype": "text/x-python",
   "name": "python",
   "nbconvert_exporter": "python",
   "pygments_lexer": "ipython3",
   "version": "3.12.5"
  }
 },
 "nbformat": 4,
 "nbformat_minor": 5
}
