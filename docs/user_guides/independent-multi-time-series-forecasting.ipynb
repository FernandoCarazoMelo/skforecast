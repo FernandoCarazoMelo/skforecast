{
 "cells": [
  {
   "attachments": {},
   "cell_type": "markdown",
   "id": "28fd5b27",
   "metadata": {},
   "source": [
    "# Independent multi-series forecasting\n",
    "\n",
    "\n",
    "In [univariate time series forecasting](https://joaquinamatrodrigo.github.io/skforecast/latest/quick-start/introduction-forecasting.html), a single time series is modeled as a linear or nonlinear combination of its lags, where past values of the series are used to forecast its future. In multi-series forecasting, two or more time series are modeled together using a single model.\n",
    "\n",
    "\n",
    "In **independent multi-series forecasting** a single model is trained for all time series, but each time series remains independent of the others, meaning that past values of one series are not used as predictors of other series. However, modeling them together is useful because the series may follow the same intrinsic pattern regarding their past and future values. For instance, the sales of products A and B in the same store may not be related, but they follow the same dynamics, that of the store.\n",
    "\n",
    "<p align=\"center\"><img src=\"../img/forecaster_multi_series_train_matrix_diagram.png\" style=\"width: 700px\"></p>\n",
    "\n",
    "<center><font size=\"2.5\"> <i>Transformation of two time series and an exogenous variable into the matrices needed to train a machine learning model in a multi-series context.</i></font></center>\n",
    "\n",
    "To predict the next *n* steps, the strategy of [recursive multi-step forecasting](https://joaquinamatrodrigo.github.io/skforecast/latest/quick-start/introduction-forecasting.html#multi-step-forecasting) is applied, with the only difference being that the series name for which to estimate the predictions needs to be indicated.\n",
    "\n",
    "<p align=\"center\"><img src=\"../img/forecaster_multi_series_prediction_diagram.png\" style=\"width: 700px\"></p>\n",
    "\n",
    "<center><font size=\"2.5\"> <i>Diagram of recursive forecasting with multiple independent time series.</i></font></center>\n",
    "\n",
    "Using the `ForecasterAutoregMultiSeries` and `ForecasterAutoregMultiSeriesCustom` classes, it is possible to easily build machine learning models for independent multi-series forecasting."
   ]
  },
  {
   "attachments": {},
   "cell_type": "markdown",
   "id": "2ba3aaf2",
   "metadata": {},
   "source": [
    "<script src=\"https://kit.fontawesome.com/d20edc211b.js\" crossorigin=\"anonymous\"></script>\n",
    "\n",
    "<div class=\"admonition note\" name=\"html-admonition\" style=\"background: rgba(0,184,212,.1); padding-top: 0px; padding-bottom: 6px; border-radius: 8px; border-left: 8px solid #00b8d4;\">\n",
    "\n",
    "<p class=\"title\">\n",
    "    <i class=\"fa-circle-exclamation fa\" style=\"font-size: 18px; color:#00b8d4;\"></i>\n",
    "    <b> &nbsp Note</b>\n",
    "</p>\n",
    "\n",
    "See <a href=\"https://joaquinamatrodrigo.github.io/skforecast/latest/user_guides/dependent-multi-series-multivariate-forecasting\">ForecasterAutoregMultiVariate</a> for dependent multi-series forecasting (multivariate time series).\n",
    "\n",
    "</div>"
   ]
  },
  {
   "cell_type": "markdown",
   "id": "77a4bb4b",
   "metadata": {},
   "source": [
    "## Libraries"
   ]
  },
  {
   "cell_type": "code",
   "execution_count": 1,
   "id": "b15fba42",
   "metadata": {
    "ExecuteTime": {
     "end_time": "2022-09-20T10:50:15.488670Z",
     "start_time": "2022-09-20T10:50:15.468737Z"
    }
   },
   "outputs": [],
   "source": [
    "# Libraries\n",
    "# ==============================================================================\n",
    "import numpy as np\n",
    "import pandas as pd\n",
    "import matplotlib.pyplot as plt\n",
    "from sklearn.preprocessing import StandardScaler\n",
    "from sklearn.linear_model import Ridge\n",
    "from sklearn.metrics import mean_absolute_error\n",
    "\n",
    "from skforecast.ForecasterAutoregMultiSeries import ForecasterAutoregMultiSeries\n",
    "from skforecast.model_selection_multiseries import backtesting_forecaster_multiseries\n",
    "from skforecast.model_selection_multiseries import grid_search_forecaster_multiseries"
   ]
  },
  {
   "cell_type": "markdown",
   "id": "97f03864-ee4a-459d-9eec-03d14feb931e",
   "metadata": {},
   "source": [
    "## Data"
   ]
  },
  {
   "cell_type": "code",
   "execution_count": 2,
   "id": "0c0024f6-5d9b-4e0d-a332-dfb71280d7e3",
   "metadata": {
    "ExecuteTime": {
     "end_time": "2022-09-20T09:48:03.761722Z",
     "start_time": "2022-09-20T09:48:02.297714Z"
    }
   },
   "outputs": [
    {
     "data": {
      "text/html": [
       "<div>\n",
       "<style scoped>\n",
       "    .dataframe tbody tr th:only-of-type {\n",
       "        vertical-align: middle;\n",
       "    }\n",
       "\n",
       "    .dataframe tbody tr th {\n",
       "        vertical-align: top;\n",
       "    }\n",
       "\n",
       "    .dataframe thead th {\n",
       "        text-align: right;\n",
       "    }\n",
       "</style>\n",
       "<table border=\"1\" class=\"dataframe\">\n",
       "  <thead>\n",
       "    <tr style=\"text-align: right;\">\n",
       "      <th></th>\n",
       "      <th>item_1</th>\n",
       "      <th>item_2</th>\n",
       "      <th>item_3</th>\n",
       "    </tr>\n",
       "    <tr>\n",
       "      <th>date</th>\n",
       "      <th></th>\n",
       "      <th></th>\n",
       "      <th></th>\n",
       "    </tr>\n",
       "  </thead>\n",
       "  <tbody>\n",
       "    <tr>\n",
       "      <th>2012-01-01</th>\n",
       "      <td>8.253175</td>\n",
       "      <td>21.047727</td>\n",
       "      <td>19.429739</td>\n",
       "    </tr>\n",
       "    <tr>\n",
       "      <th>2012-01-02</th>\n",
       "      <td>22.777826</td>\n",
       "      <td>26.578125</td>\n",
       "      <td>28.009863</td>\n",
       "    </tr>\n",
       "    <tr>\n",
       "      <th>2012-01-03</th>\n",
       "      <td>27.549099</td>\n",
       "      <td>31.751042</td>\n",
       "      <td>32.078922</td>\n",
       "    </tr>\n",
       "    <tr>\n",
       "      <th>2012-01-04</th>\n",
       "      <td>25.895533</td>\n",
       "      <td>24.567708</td>\n",
       "      <td>27.252276</td>\n",
       "    </tr>\n",
       "    <tr>\n",
       "      <th>2012-01-05</th>\n",
       "      <td>21.379238</td>\n",
       "      <td>18.191667</td>\n",
       "      <td>20.357737</td>\n",
       "    </tr>\n",
       "  </tbody>\n",
       "</table>\n",
       "</div>"
      ],
      "text/plain": [
       "               item_1     item_2     item_3\n",
       "date                                       \n",
       "2012-01-01   8.253175  21.047727  19.429739\n",
       "2012-01-02  22.777826  26.578125  28.009863\n",
       "2012-01-03  27.549099  31.751042  32.078922\n",
       "2012-01-04  25.895533  24.567708  27.252276\n",
       "2012-01-05  21.379238  18.191667  20.357737"
      ]
     },
     "execution_count": 2,
     "metadata": {},
     "output_type": "execute_result"
    }
   ],
   "source": [
    "# Data download\n",
    "# ==============================================================================\n",
    "url = ('https://raw.githubusercontent.com/JoaquinAmatRodrigo/skforecast/master/' +\n",
    "       'data/simulated_items_sales.csv')\n",
    "data = pd.read_csv(url, sep=',')\n",
    "\n",
    "# Data preparation\n",
    "# ==============================================================================\n",
    "data['date'] = pd.to_datetime(data['date'], format='%Y-%m-%d')\n",
    "data = data.set_index('date')\n",
    "data = data.asfreq('D')\n",
    "data = data.sort_index()\n",
    "data.head()"
   ]
  },
  {
   "cell_type": "code",
   "execution_count": 3,
   "id": "9eca9251",
   "metadata": {
    "ExecuteTime": {
     "end_time": "2022-09-20T09:48:06.136685Z",
     "start_time": "2022-09-20T09:48:06.122785Z"
    }
   },
   "outputs": [
    {
     "name": "stdout",
     "output_type": "stream",
     "text": [
      "Train dates : 2012-01-01 00:00:00 --- 2014-07-15 00:00:00  (n=927)\n",
      "Test dates  : 2014-07-16 00:00:00 --- 2015-01-01 00:00:00  (n=170)\n"
     ]
    }
   ],
   "source": [
    "# Split data into train-val-test\n",
    "# ==============================================================================\n",
    "end_train = '2014-07-15 23:59:00'\n",
    "data_train = data.loc[:end_train, :].copy()\n",
    "data_test  = data.loc[end_train:, :].copy()\n",
    "\n",
    "print(f\"Train dates : {data_train.index.min()} --- {data_train.index.max()}  (n={len(data_train)})\")\n",
    "print(f\"Test dates  : {data_test.index.min()} --- {data_test.index.max()}  (n={len(data_test)})\")"
   ]
  },
  {
   "cell_type": "code",
   "execution_count": 4,
   "id": "2c0ee344",
   "metadata": {
    "ExecuteTime": {
     "end_time": "2022-09-20T09:48:45.616852Z",
     "start_time": "2022-09-20T09:48:45.150172Z"
    }
   },
   "outputs": [
    {
     "data": {
      "image/png": "[encoded data removed]",
      "text/plain": [
       "<Figure size 1000x600 with 3 Axes>"
      ]
     },
     "metadata": {},
     "output_type": "display_data"
    }
   ],
   "source": [
    "# Plot time series\n",
    "# ==============================================================================\n",
    "fig, axes = plt.subplots(nrows=3, ncols=1, figsize=(10, 6), sharex=True)\n",
    "\n",
    "data_train['item_1'].plot(label='train', ax=axes[0])\n",
    "data_test['item_1'].plot(label='test', ax=axes[0])\n",
    "axes[0].set_xlabel('')\n",
    "axes[0].set_ylabel('sales')\n",
    "axes[0].set_title('Item 1')\n",
    "axes[0].legend()\n",
    "\n",
    "data_train['item_2'].plot(label='train', ax=axes[1])\n",
    "data_test['item_2'].plot(label='test', ax=axes[1])\n",
    "axes[1].set_xlabel('')\n",
    "axes[1].set_ylabel('sales')\n",
    "axes[1].set_title('Item 2')\n",
    "\n",
    "data_train['item_3'].plot(label='train', ax=axes[2])\n",
    "data_test['item_3'].plot(label='test', ax=axes[2])\n",
    "axes[2].set_xlabel('')\n",
    "axes[2].set_ylabel('sales')\n",
    "axes[2].set_title('Item 3')\n",
    "\n",
    "fig.tight_layout()\n",
    "plt.show();"
   ]
  },
  {
   "cell_type": "markdown",
   "id": "9801a209-b601-4d9b-aa3c-a2e03df98c98",
   "metadata": {},
   "source": [
    "## Train and predict ForecasterAutoregMultiSeries"
   ]
  },
  {
   "cell_type": "code",
   "execution_count": 5,
   "id": "349d1b95-5b16-4620-a46e-d595b4187ebe",
   "metadata": {
    "ExecuteTime": {
     "end_time": "2022-09-20T09:59:14.441502Z",
     "start_time": "2022-09-20T09:59:14.404629Z"
    }
   },
   "outputs": [
    {
     "data": {
      "text/plain": [
       "============================ \n",
       "ForecasterAutoregMultiSeries \n",
       "============================ \n",
       "Regressor: Ridge(random_state=123) \n",
       "Lags: [ 1  2  3  4  5  6  7  8  9 10 11 12 13 14 15 16 17 18 19 20 21 22 23 24] \n",
       "Transformer for series: None \n",
       "Transformer for exog: None \n",
       "Window size: 24 \n",
       "Series levels (names): ['item_1', 'item_2', 'item_3'] \n",
       "Series weights: None \n",
       "Weight function included: False \n",
       "Exogenous included: False \n",
       "Type of exogenous variable: None \n",
       "Exogenous variables names: None \n",
       "Training range: [Timestamp('2012-01-01 00:00:00'), Timestamp('2014-07-15 00:00:00')] \n",
       "Training index type: DatetimeIndex \n",
       "Training index frequency: D \n",
       "Regressor parameters: {'alpha': 1.0, 'copy_X': True, 'fit_intercept': True, 'max_iter': None, 'normalize': 'deprecated', 'positive': False, 'random_state': 123, 'solver': 'auto', 'tol': 0.001} \n",
       "Creation date: 2023-03-08 15:22:57 \n",
       "Last fit date: 2023-03-08 15:22:57 \n",
       "Skforecast version: 0.7.0 \n",
       "Python version: 3.9.13 \n",
       "Forecaster id: None "
      ]
     },
     "execution_count": 5,
     "metadata": {},
     "output_type": "execute_result"
    }
   ],
   "source": [
    "# Create and fit forecaster multi series\n",
    "# ==============================================================================\n",
    "forecaster = ForecasterAutoregMultiSeries(\n",
    "                 regressor          = Ridge(random_state=123),\n",
    "                 lags               = 24,\n",
    "                 transformer_series = None,\n",
    "                 transformer_exog   = None,\n",
    "                 weight_func        = None,\n",
    "                 series_weights     = None\n",
    "             )\n",
    "\n",
    "forecaster.fit(series=data_train)\n",
    "forecaster"
   ]
  },
  {
   "cell_type": "markdown",
   "id": "be12a14b",
   "metadata": {},
   "source": [
    "Two methods can be use to predict the next n steps: `predict()` or `predict_interval()`. The argument `levels` is used to indicate for which series estimate predictions. If `None` all series will be predicted."
   ]
  },
  {
   "cell_type": "code",
   "execution_count": 6,
   "id": "f1bdf4f8-b999-4d97-899c-fbcc2af7066a",
   "metadata": {
    "ExecuteTime": {
     "end_time": "2022-09-20T10:00:26.432022Z",
     "start_time": "2022-09-20T10:00:25.599841Z"
    }
   },
   "outputs": [
    {
     "data": {
      "text/html": [
       "<div>\n",
       "<style scoped>\n",
       "    .dataframe tbody tr th:only-of-type {\n",
       "        vertical-align: middle;\n",
       "    }\n",
       "\n",
       "    .dataframe tbody tr th {\n",
       "        vertical-align: top;\n",
       "    }\n",
       "\n",
       "    .dataframe thead th {\n",
       "        text-align: right;\n",
       "    }\n",
       "</style>\n",
       "<table border=\"1\" class=\"dataframe\">\n",
       "  <thead>\n",
       "    <tr style=\"text-align: right;\">\n",
       "      <th></th>\n",
       "      <th>item_1</th>\n",
       "    </tr>\n",
       "  </thead>\n",
       "  <tbody>\n",
       "    <tr>\n",
       "      <th>2014-07-16</th>\n",
       "      <td>25.497376</td>\n",
       "    </tr>\n",
       "    <tr>\n",
       "      <th>2014-07-17</th>\n",
       "      <td>24.866972</td>\n",
       "    </tr>\n",
       "    <tr>\n",
       "      <th>2014-07-18</th>\n",
       "      <td>24.281173</td>\n",
       "    </tr>\n",
       "  </tbody>\n",
       "</table>\n",
       "</div>"
      ],
      "text/plain": [
       "               item_1\n",
       "2014-07-16  25.497376\n",
       "2014-07-17  24.866972\n",
       "2014-07-18  24.281173"
      ]
     },
     "metadata": {},
     "output_type": "display_data"
    },
    {
     "data": {
      "text/html": [
       "<div>\n",
       "<style scoped>\n",
       "    .dataframe tbody tr th:only-of-type {\n",
       "        vertical-align: middle;\n",
       "    }\n",
       "\n",
       "    .dataframe tbody tr th {\n",
       "        vertical-align: top;\n",
       "    }\n",
       "\n",
       "    .dataframe thead th {\n",
       "        text-align: right;\n",
       "    }\n",
       "</style>\n",
       "<table border=\"1\" class=\"dataframe\">\n",
       "  <thead>\n",
       "    <tr style=\"text-align: right;\">\n",
       "      <th></th>\n",
       "      <th>item_1</th>\n",
       "      <th>item_1_lower_bound</th>\n",
       "      <th>item_1_upper_bound</th>\n",
       "      <th>item_2</th>\n",
       "      <th>item_2_lower_bound</th>\n",
       "      <th>item_2_upper_bound</th>\n",
       "    </tr>\n",
       "  </thead>\n",
       "  <tbody>\n",
       "    <tr>\n",
       "      <th>2014-07-16</th>\n",
       "      <td>25.497376</td>\n",
       "      <td>23.220087</td>\n",
       "      <td>28.226068</td>\n",
       "      <td>10.694506</td>\n",
       "      <td>7.093046</td>\n",
       "      <td>15.518896</td>\n",
       "    </tr>\n",
       "    <tr>\n",
       "      <th>2014-07-17</th>\n",
       "      <td>24.866972</td>\n",
       "      <td>22.141168</td>\n",
       "      <td>27.389805</td>\n",
       "      <td>11.080091</td>\n",
       "      <td>6.467676</td>\n",
       "      <td>16.534679</td>\n",
       "    </tr>\n",
       "    <tr>\n",
       "      <th>2014-07-18</th>\n",
       "      <td>24.281173</td>\n",
       "      <td>21.688393</td>\n",
       "      <td>26.981395</td>\n",
       "      <td>11.490882</td>\n",
       "      <td>7.077863</td>\n",
       "      <td>16.762530</td>\n",
       "    </tr>\n",
       "  </tbody>\n",
       "</table>\n",
       "</div>"
      ],
      "text/plain": [
       "               item_1  item_1_lower_bound  item_1_upper_bound     item_2  \\\n",
       "2014-07-16  25.497376           23.220087           28.226068  10.694506   \n",
       "2014-07-17  24.866972           22.141168           27.389805  11.080091   \n",
       "2014-07-18  24.281173           21.688393           26.981395  11.490882   \n",
       "\n",
       "            item_2_lower_bound  item_2_upper_bound  \n",
       "2014-07-16            7.093046           15.518896  \n",
       "2014-07-17            6.467676           16.534679  \n",
       "2014-07-18            7.077863           16.762530  "
      ]
     },
     "metadata": {},
     "output_type": "display_data"
    }
   ],
   "source": [
    "# Predict and predict_interval\n",
    "# ==============================================================================\n",
    "steps = 24\n",
    "\n",
    "# Predictions for item_1\n",
    "predictions_item_1 = forecaster.predict(steps=steps, levels='item_1')\n",
    "display(predictions_item_1.head(3))\n",
    "\n",
    "# Interval predictions for item_1 and item_2\n",
    "predictions_intervals = forecaster.predict_interval(steps=steps, levels=['item_1', 'item_2'])\n",
    "display(predictions_intervals.head(3))"
   ]
  },
  {
   "cell_type": "markdown",
   "id": "bfc89fd7",
   "metadata": {},
   "source": [
    "## Backtesting Multi Series\n",
    "\n",
    "As in the `predict` method, the `levels` at which [backtesting](https://joaquinamatrodrigo.github.io/skforecast/latest/user_guides/backtesting.html) is performed must be indicated. The argument can also be set to `None` to perform backtesting at all levels."
   ]
  },
  {
   "cell_type": "code",
   "execution_count": 7,
   "id": "b1b53f4b-be13-4e7b-bfdd-2cf0f3492452",
   "metadata": {
    "ExecuteTime": {
     "end_time": "2022-09-20T11:01:44.610083Z",
     "start_time": "2022-09-20T11:01:44.092807Z"
    }
   },
   "outputs": [
    {
     "name": "stdout",
     "output_type": "stream",
     "text": [
      "Backtest metrics\n"
     ]
    },
    {
     "data": {
      "text/html": [
       "<div>\n",
       "<style scoped>\n",
       "    .dataframe tbody tr th:only-of-type {\n",
       "        vertical-align: middle;\n",
       "    }\n",
       "\n",
       "    .dataframe tbody tr th {\n",
       "        vertical-align: top;\n",
       "    }\n",
       "\n",
       "    .dataframe thead th {\n",
       "        text-align: right;\n",
       "    }\n",
       "</style>\n",
       "<table border=\"1\" class=\"dataframe\">\n",
       "  <thead>\n",
       "    <tr style=\"text-align: right;\">\n",
       "      <th></th>\n",
       "      <th>levels</th>\n",
       "      <th>mean_absolute_error</th>\n",
       "    </tr>\n",
       "  </thead>\n",
       "  <tbody>\n",
       "    <tr>\n",
       "      <th>0</th>\n",
       "      <td>item_1</td>\n",
       "      <td>1.360675</td>\n",
       "    </tr>\n",
       "    <tr>\n",
       "      <th>1</th>\n",
       "      <td>item_2</td>\n",
       "      <td>2.332392</td>\n",
       "    </tr>\n",
       "    <tr>\n",
       "      <th>2</th>\n",
       "      <td>item_3</td>\n",
       "      <td>3.155592</td>\n",
       "    </tr>\n",
       "  </tbody>\n",
       "</table>\n",
       "</div>"
      ],
      "text/plain": [
       "   levels  mean_absolute_error\n",
       "0  item_1             1.360675\n",
       "1  item_2             2.332392\n",
       "2  item_3             3.155592"
      ]
     },
     "metadata": {},
     "output_type": "display_data"
    },
    {
     "name": "stdout",
     "output_type": "stream",
     "text": [
      "\n",
      "Backtest predictions\n"
     ]
    },
    {
     "data": {
      "text/html": [
       "<div>\n",
       "<style scoped>\n",
       "    .dataframe tbody tr th:only-of-type {\n",
       "        vertical-align: middle;\n",
       "    }\n",
       "\n",
       "    .dataframe tbody tr th {\n",
       "        vertical-align: top;\n",
       "    }\n",
       "\n",
       "    .dataframe thead th {\n",
       "        text-align: right;\n",
       "    }\n",
       "</style>\n",
       "<table border=\"1\" class=\"dataframe\">\n",
       "  <thead>\n",
       "    <tr style=\"text-align: right;\">\n",
       "      <th></th>\n",
       "      <th>item_1</th>\n",
       "      <th>item_2</th>\n",
       "      <th>item_3</th>\n",
       "    </tr>\n",
       "  </thead>\n",
       "  <tbody>\n",
       "    <tr>\n",
       "      <th>2014-07-16</th>\n",
       "      <td>25.497376</td>\n",
       "      <td>10.694506</td>\n",
       "      <td>11.275026</td>\n",
       "    </tr>\n",
       "    <tr>\n",
       "      <th>2014-07-17</th>\n",
       "      <td>24.866972</td>\n",
       "      <td>11.080091</td>\n",
       "      <td>11.313510</td>\n",
       "    </tr>\n",
       "    <tr>\n",
       "      <th>2014-07-18</th>\n",
       "      <td>24.281173</td>\n",
       "      <td>11.490882</td>\n",
       "      <td>13.030112</td>\n",
       "    </tr>\n",
       "    <tr>\n",
       "      <th>2014-07-19</th>\n",
       "      <td>23.515499</td>\n",
       "      <td>11.548922</td>\n",
       "      <td>13.378282</td>\n",
       "    </tr>\n",
       "  </tbody>\n",
       "</table>\n",
       "</div>"
      ],
      "text/plain": [
       "               item_1     item_2     item_3\n",
       "2014-07-16  25.497376  10.694506  11.275026\n",
       "2014-07-17  24.866972  11.080091  11.313510\n",
       "2014-07-18  24.281173  11.490882  13.030112\n",
       "2014-07-19  23.515499  11.548922  13.378282"
      ]
     },
     "execution_count": 7,
     "metadata": {},
     "output_type": "execute_result"
    }
   ],
   "source": [
    "# Backtesting Multi Series\n",
    "# ==============================================================================\n",
    "metrics_levels, backtest_predictions = backtesting_forecaster_multiseries(\n",
    "                                           forecaster         = forecaster,\n",
    "                                           series             = data,\n",
    "                                           levels             = None,\n",
    "                                           steps              = 24,\n",
    "                                           metric             = 'mean_absolute_error',\n",
    "                                           initial_train_size = len(data_train),\n",
    "                                           refit              = True,\n",
    "                                           fixed_train_size   = True,\n",
    "                                           verbose            = False\n",
    "                                       )\n",
    "\n",
    "print(\"Backtest metrics\")\n",
    "display(metrics_levels)\n",
    "print(\"\")\n",
    "print(\"Backtest predictions\")\n",
    "backtest_predictions.head(4)"
   ]
  },
  {
   "cell_type": "markdown",
   "id": "0d93ddc5",
   "metadata": {},
   "source": [
    "## Hyperparameter tuning and lags selection Multi Series\n",
    "\n",
    "Functions `grid_search_forecaster_multiseries` and `random_search_forecaster_multiseries` in the module `model_selection_multiseries` allow for lag and hyperparameter optimization. The optimization is performed in the same way as in the other forecasters, [see the user guide here](https://joaquinamatrodrigo.github.io/skforecast/latest/user_guides/hyperparameter-tuning-and-lags-selection.html), except for the `levels` argument:\n",
    "\n",
    "+ `levels`: level(s) at which the forecaster is optimized, for example:\n",
    "\n",
    "    + If `levels = ['item_1', 'item_2', 'item_3']` (Same as `levels = None`), the function will search for the lags and hyperparameters that minimize the average error of the predictions of all the time series. The resulting metric will be the **average of all levels**. \n",
    "\n",
    "    + If `levels = 'item_1'` (Same as `levels = ['item_1']`), the function will search for the lags and hyperparameters that minimize the error of the `item_1` predictions. The resulting metric will be the one calculated for `item_1`.\n",
    "\n",
    "The following example shows how to use `grid_search_forecaster_multiseries` to find the best lags and model hyperparameters for all time series:"
   ]
  },
  {
   "cell_type": "code",
   "execution_count": 8,
   "id": "6413fa80",
   "metadata": {},
   "outputs": [],
   "source": [
    "# Create forecaster multi series\n",
    "# ==============================================================================\n",
    "forecaster = ForecasterAutoregMultiSeries(\n",
    "                 regressor          = Ridge(random_state=123),\n",
    "                 lags               = 24,\n",
    "                 transformer_series = StandardScaler(),\n",
    "                 transformer_exog   = None,\n",
    "                 weight_func        = None,\n",
    "                 series_weights     = None\n",
    "             )"
   ]
  },
  {
   "cell_type": "code",
   "execution_count": 9,
   "id": "8d8a8721",
   "metadata": {},
   "outputs": [
    {
     "name": "stdout",
     "output_type": "stream",
     "text": [
      "6 models compared for 3 level(s). Number of iterations: 6.\n"
     ]
    },
    {
     "name": "stderr",
     "output_type": "stream",
     "text": [
      "loop lags_grid: 100%|███████████████████████████████████████| 2/2 [00:00<00:00,  2.86it/s]\n"
     ]
    },
    {
     "data": {
      "text/html": [
       "<div>\n",
       "<style scoped>\n",
       "    .dataframe tbody tr th:only-of-type {\n",
       "        vertical-align: middle;\n",
       "    }\n",
       "\n",
       "    .dataframe tbody tr th {\n",
       "        vertical-align: top;\n",
       "    }\n",
       "\n",
       "    .dataframe thead th {\n",
       "        text-align: right;\n",
       "    }\n",
       "</style>\n",
       "<table border=\"1\" class=\"dataframe\">\n",
       "  <thead>\n",
       "    <tr style=\"text-align: right;\">\n",
       "      <th></th>\n",
       "      <th>levels</th>\n",
       "      <th>lags</th>\n",
       "      <th>params</th>\n",
       "      <th>mean_absolute_error</th>\n",
       "      <th>alpha</th>\n",
       "    </tr>\n",
       "  </thead>\n",
       "  <tbody>\n",
       "    <tr>\n",
       "      <th>5</th>\n",
       "      <td>[item_1, item_2, item_3]</td>\n",
       "      <td>[1, 2, 3, 4, 5, 6, 7, 8, 9, 10, 11, 12, 13, 14...</td>\n",
       "      <td>{'alpha': 1}</td>\n",
       "      <td>2.207648</td>\n",
       "      <td>1.00</td>\n",
       "    </tr>\n",
       "    <tr>\n",
       "      <th>4</th>\n",
       "      <td>[item_1, item_2, item_3]</td>\n",
       "      <td>[1, 2, 3, 4, 5, 6, 7, 8, 9, 10, 11, 12, 13, 14...</td>\n",
       "      <td>{'alpha': 0.1}</td>\n",
       "      <td>2.207700</td>\n",
       "      <td>0.10</td>\n",
       "    </tr>\n",
       "    <tr>\n",
       "      <th>3</th>\n",
       "      <td>[item_1, item_2, item_3]</td>\n",
       "      <td>[1, 2, 3, 4, 5, 6, 7, 8, 9, 10, 11, 12, 13, 14...</td>\n",
       "      <td>{'alpha': 0.01}</td>\n",
       "      <td>2.207706</td>\n",
       "      <td>0.01</td>\n",
       "    </tr>\n",
       "    <tr>\n",
       "      <th>2</th>\n",
       "      <td>[item_1, item_2, item_3]</td>\n",
       "      <td>[1, 2, 3, 4, 5, 6, 7, 8, 9, 10, 11, 12, 13, 14...</td>\n",
       "      <td>{'alpha': 1}</td>\n",
       "      <td>2.335039</td>\n",
       "      <td>1.00</td>\n",
       "    </tr>\n",
       "    <tr>\n",
       "      <th>1</th>\n",
       "      <td>[item_1, item_2, item_3]</td>\n",
       "      <td>[1, 2, 3, 4, 5, 6, 7, 8, 9, 10, 11, 12, 13, 14...</td>\n",
       "      <td>{'alpha': 0.1}</td>\n",
       "      <td>2.335149</td>\n",
       "      <td>0.10</td>\n",
       "    </tr>\n",
       "    <tr>\n",
       "      <th>0</th>\n",
       "      <td>[item_1, item_2, item_3]</td>\n",
       "      <td>[1, 2, 3, 4, 5, 6, 7, 8, 9, 10, 11, 12, 13, 14...</td>\n",
       "      <td>{'alpha': 0.01}</td>\n",
       "      <td>2.335161</td>\n",
       "      <td>0.01</td>\n",
       "    </tr>\n",
       "  </tbody>\n",
       "</table>\n",
       "</div>"
      ],
      "text/plain": [
       "                     levels  \\\n",
       "5  [item_1, item_2, item_3]   \n",
       "4  [item_1, item_2, item_3]   \n",
       "3  [item_1, item_2, item_3]   \n",
       "2  [item_1, item_2, item_3]   \n",
       "1  [item_1, item_2, item_3]   \n",
       "0  [item_1, item_2, item_3]   \n",
       "\n",
       "                                                lags           params  \\\n",
       "5  [1, 2, 3, 4, 5, 6, 7, 8, 9, 10, 11, 12, 13, 14...     {'alpha': 1}   \n",
       "4  [1, 2, 3, 4, 5, 6, 7, 8, 9, 10, 11, 12, 13, 14...   {'alpha': 0.1}   \n",
       "3  [1, 2, 3, 4, 5, 6, 7, 8, 9, 10, 11, 12, 13, 14...  {'alpha': 0.01}   \n",
       "2  [1, 2, 3, 4, 5, 6, 7, 8, 9, 10, 11, 12, 13, 14...     {'alpha': 1}   \n",
       "1  [1, 2, 3, 4, 5, 6, 7, 8, 9, 10, 11, 12, 13, 14...   {'alpha': 0.1}   \n",
       "0  [1, 2, 3, 4, 5, 6, 7, 8, 9, 10, 11, 12, 13, 14...  {'alpha': 0.01}   \n",
       "\n",
       "   mean_absolute_error  alpha  \n",
       "5             2.207648   1.00  \n",
       "4             2.207700   0.10  \n",
       "3             2.207706   0.01  \n",
       "2             2.335039   1.00  \n",
       "1             2.335149   0.10  \n",
       "0             2.335161   0.01  "
      ]
     },
     "execution_count": 9,
     "metadata": {},
     "output_type": "execute_result"
    }
   ],
   "source": [
    "# Grid search Multi Series\n",
    "# ==============================================================================\n",
    "lags_grid = [24, 48]\n",
    "param_grid = {'alpha': [0.01, 0.1, 1]}\n",
    "\n",
    "levels = ['item_1', 'item_2', 'item_3']\n",
    "\n",
    "results = grid_search_forecaster_multiseries(\n",
    "              forecaster          = forecaster,\n",
    "              series              = data,\n",
    "              exog                = None,\n",
    "              levels              = levels,\n",
    "              lags_grid           = lags_grid,\n",
    "              param_grid          = param_grid,\n",
    "              steps               = 24,\n",
    "              metric              = 'mean_absolute_error',\n",
    "              initial_train_size  = len(data_train),\n",
    "              refit               = True,\n",
    "              fixed_train_size    = True,\n",
    "              return_best         = False,\n",
    "              verbose             = False\n",
    "          )\n",
    "\n",
    "results"
   ]
  },
  {
   "cell_type": "markdown",
   "id": "6ef846b0",
   "metadata": {},
   "source": [
    "## Weights in multi-series\n",
    "\n",
    "The weights are used to control the influence that each observation has on the training of the model. `ForecasterAutoregMultiseries` accepts two types of weights:\n",
    "\n",
    "+ `series_weights` controls the relative importance of each series. If a series has twice as much weight as the others, the observations of that series influence the training twice as much. The higher the weight of a series relative to the others, the more the model will focus on trying to learn that series.\n",
    "\n",
    "+ `weight_func` controls the relative importance of each observation according to its index value. For example, a function that assigns a lower weight to certain dates.\n",
    "\n",
    "If the two types of weights are indicated, they are **multiplied to create the final weights**. The resulting `sample_weight` cannot have negative values.\n",
    "\n",
    "<p align=\"center\"><img src=\"../img/forecaster_multi_series_sample_weight.png\" style=\"width: 900px\"></p>\n",
    "\n",
    "+ `series_weights` is a dict of the form `{'series_column_name': float}`. If a series is used during `fit` and is not present in `series_weights`, it will have a weight of 1.\n",
    "\n",
    "+ `weight_func` is a function that defines the individual weights of each sample **based on the index**. \n",
    "  \n",
    "    + If it is a `callable`, the same function will apply to all series. \n",
    "  \n",
    "    + If it is a `dict` of the form `{'series_column_name': callable}`, a different function can be used for each series. A weight of 1 is given to all series not present in `weight_func`."
   ]
  },
  {
   "cell_type": "code",
   "execution_count": 10,
   "id": "d4966617",
   "metadata": {},
   "outputs": [
    {
     "data": {
      "text/html": [
       "<div>\n",
       "<style scoped>\n",
       "    .dataframe tbody tr th:only-of-type {\n",
       "        vertical-align: middle;\n",
       "    }\n",
       "\n",
       "    .dataframe tbody tr th {\n",
       "        vertical-align: top;\n",
       "    }\n",
       "\n",
       "    .dataframe thead th {\n",
       "        text-align: right;\n",
       "    }\n",
       "</style>\n",
       "<table border=\"1\" class=\"dataframe\">\n",
       "  <thead>\n",
       "    <tr style=\"text-align: right;\">\n",
       "      <th></th>\n",
       "      <th>item_1</th>\n",
       "      <th>item_2</th>\n",
       "      <th>item_3</th>\n",
       "    </tr>\n",
       "  </thead>\n",
       "  <tbody>\n",
       "    <tr>\n",
       "      <th>2014-07-16</th>\n",
       "      <td>25.547560</td>\n",
       "      <td>10.527454</td>\n",
       "      <td>11.195018</td>\n",
       "    </tr>\n",
       "    <tr>\n",
       "      <th>2014-07-17</th>\n",
       "      <td>24.779779</td>\n",
       "      <td>10.987891</td>\n",
       "      <td>11.424717</td>\n",
       "    </tr>\n",
       "    <tr>\n",
       "      <th>2014-07-18</th>\n",
       "      <td>24.182702</td>\n",
       "      <td>11.375158</td>\n",
       "      <td>13.090853</td>\n",
       "    </tr>\n",
       "  </tbody>\n",
       "</table>\n",
       "</div>"
      ],
      "text/plain": [
       "               item_1     item_2     item_3\n",
       "2014-07-16  25.547560  10.527454  11.195018\n",
       "2014-07-17  24.779779  10.987891  11.424717\n",
       "2014-07-18  24.182702  11.375158  13.090853"
      ]
     },
     "execution_count": 10,
     "metadata": {},
     "output_type": "execute_result"
    }
   ],
   "source": [
    "# Weights in Multi-Series\n",
    "# ==============================================================================\n",
    "def custom_weights(index):\n",
    "    \"\"\"\n",
    "    Return 0 if index is between '2013-01-01' and '2013-01-31', 1 otherwise.\n",
    "    \"\"\"\n",
    "    weights = np.where(\n",
    "                  (index >= '2013-01-01') & (index <= '2013-01-31'),\n",
    "                   0,\n",
    "                   1\n",
    "              )\n",
    "    \n",
    "    return weights\n",
    "\n",
    "forecaster = ForecasterAutoregMultiSeries(\n",
    "                 regressor          = Ridge(random_state=123),\n",
    "                 lags               = 24,\n",
    "                 transformer_series = None,\n",
    "                 transformer_exog   = None,\n",
    "                 weight_func        = custom_weights,\n",
    "                 series_weights     = {'item_1': 1., 'item_2': 2., 'item_3': 1.} # Same as {'item_2': 2.}\n",
    "             )\n",
    "\n",
    "forecaster.fit(series=data_train)\n",
    "forecaster.predict(steps=24).head(3)"
   ]
  },
  {
   "cell_type": "markdown",
   "id": "9f7180da",
   "metadata": {},
   "source": [
    "<script src=\"https://kit.fontawesome.com/d20edc211b.js\" crossorigin=\"anonymous\"></script>\n",
    "\n",
    "<div class=\"admonition warning\" name=\"html-admonition\" style=\"background: rgba(255,145,0,.1); padding-top: 0px; padding-bottom: 6px; border-radius: 8px; border-left: 8px solid #ff9100;\">\n",
    "\n",
    "<p class=\"title\">\n",
    "    <i class=\"fa-triangle-exclamation fa\" style=\"font-size: 18px; color:#ff9100;\"></i>\n",
    "    <b> &nbsp Warning</b>\n",
    "</p>\n",
    "\n",
    "The <code>weight_func</code> and <code>series_weights</code> arguments will be ignored if the regressor does not accept <code>sample_weight</code> in its <code>fit</code> method.\n",
    "\n",
    "</div>"
   ]
  },
  {
   "cell_type": "markdown",
   "id": "3c410247",
   "metadata": {},
   "source": [
    "The source code of the `weight_func` added to the forecaster is stored in the argument `source_code_weight_func`. If `weight_func` is a `dict`, it will be a `dict` of the form `{'series_column_name': source_code_weight_func}` ."
   ]
  },
  {
   "cell_type": "code",
   "execution_count": 11,
   "id": "fbe3c2a9",
   "metadata": {},
   "outputs": [
    {
     "name": "stdout",
     "output_type": "stream",
     "text": [
      "def custom_weights(index):\n",
      "    \"\"\"\n",
      "    Return 0 if index is between '2013-01-01' and '2013-01-31', 1 otherwise.\n",
      "    \"\"\"\n",
      "    weights = np.where(\n",
      "                  (index >= '2013-01-01') & (index <= '2013-01-31'),\n",
      "                   0,\n",
      "                   1\n",
      "              )\n",
      "    \n",
      "    return weights\n",
      "\n"
     ]
    }
   ],
   "source": [
    "print(forecaster.source_code_weight_func)"
   ]
  },
  {
   "cell_type": "markdown",
   "id": "1094a6f3",
   "metadata": {},
   "source": [
    "## Scikit-learn transformers in multi-series\n",
    "\n",
    "Learn more about [using scikit-learn transformers](https://joaquinamatrodrigo.github.io/skforecast/latest/user_guides/sklearn-transformers-and-pipeline.html) with skforecast.\n",
    "\n",
    "+  If `transformer_series` is a `transformer` the same transformation will be applied to all series. \n",
    "+  If `transformer_series` is a `dict` a different transformation can be set for each series. Series not present in the dict will not have any transformation applied to them."
   ]
  },
  {
   "cell_type": "code",
   "execution_count": 12,
   "id": "3a633f43",
   "metadata": {},
   "outputs": [
    {
     "name": "stderr",
     "output_type": "stream",
     "text": [
      "c:\\Users\\jaesc2\\Miniconda3\\envs\\skforecast\\lib\\site-packages\\skforecast\\ForecasterAutoregMultiSeries\\ForecasterAutoregMultiSeries.py:427: UserWarning: {'item_3'} not present in `transformer_series`. No transformation is applied to these series.\n",
      "  warnings.warn(\n"
     ]
    },
    {
     "data": {
      "text/plain": [
       "============================ \n",
       "ForecasterAutoregMultiSeries \n",
       "============================ \n",
       "Regressor: Ridge(random_state=123) \n",
       "Lags: [ 1  2  3  4  5  6  7  8  9 10 11 12 13 14 15 16 17 18 19 20 21 22 23 24] \n",
       "Transformer for series: {'item_1': StandardScaler(), 'item_2': StandardScaler()} \n",
       "Transformer for exog: None \n",
       "Window size: 24 \n",
       "Series levels (names): ['item_1', 'item_2', 'item_3'] \n",
       "Series weights: None \n",
       "Weight function included: False \n",
       "Exogenous included: False \n",
       "Type of exogenous variable: None \n",
       "Exogenous variables names: None \n",
       "Training range: [Timestamp('2012-01-01 00:00:00'), Timestamp('2014-07-15 00:00:00')] \n",
       "Training index type: DatetimeIndex \n",
       "Training index frequency: D \n",
       "Regressor parameters: {'alpha': 1.0, 'copy_X': True, 'fit_intercept': True, 'max_iter': None, 'normalize': 'deprecated', 'positive': False, 'random_state': 123, 'solver': 'auto', 'tol': 0.001} \n",
       "Creation date: 2023-03-08 15:22:59 \n",
       "Last fit date: 2023-03-08 15:22:59 \n",
       "Skforecast version: 0.7.0 \n",
       "Python version: 3.9.13 \n",
       "Forecaster id: None "
      ]
     },
     "execution_count": 12,
     "metadata": {},
     "output_type": "execute_result"
    }
   ],
   "source": [
    "forecaster = ForecasterAutoregMultiSeries(\n",
    "                 regressor          = Ridge(random_state=123),\n",
    "                 lags               = 24,\n",
    "                 transformer_series = {'item_1': StandardScaler(), 'item_2': StandardScaler()},\n",
    "                 transformer_exog   = None,\n",
    "                 weight_func        = None,\n",
    "                 series_weights     = None\n",
    "             )\n",
    "\n",
    "forecaster.fit(series=data_train)\n",
    "forecaster"
   ]
  },
  {
   "cell_type": "markdown",
   "id": "31b0c86d",
   "metadata": {},
   "source": [
    "## Compare multiple metrics\n",
    "\n",
    "All three functions (`backtesting_forecaster_multiseries`, `grid_search_forecaster_multiseries`, and `random_search_forecaster_multiseries`) allow the calculation of multiple metrics for each forecaster configuration if a list is provided. This list may include custom metrics and the best model selection is done based on the first metric of the list."
   ]
  },
  {
   "cell_type": "code",
   "execution_count": 13,
   "id": "9b5c77b3",
   "metadata": {},
   "outputs": [
    {
     "name": "stdout",
     "output_type": "stream",
     "text": [
      "6 models compared for 3 level(s). Number of iterations: 6.\n"
     ]
    },
    {
     "name": "stderr",
     "output_type": "stream",
     "text": [
      "loop lags_grid: 100%|███████████████████████████████████████| 2/2 [00:00<00:00,  4.88it/s]\n"
     ]
    },
    {
     "data": {
      "text/html": [
       "<div>\n",
       "<style scoped>\n",
       "    .dataframe tbody tr th:only-of-type {\n",
       "        vertical-align: middle;\n",
       "    }\n",
       "\n",
       "    .dataframe tbody tr th {\n",
       "        vertical-align: top;\n",
       "    }\n",
       "\n",
       "    .dataframe thead th {\n",
       "        text-align: right;\n",
       "    }\n",
       "</style>\n",
       "<table border=\"1\" class=\"dataframe\">\n",
       "  <thead>\n",
       "    <tr style=\"text-align: right;\">\n",
       "      <th></th>\n",
       "      <th>levels</th>\n",
       "      <th>lags</th>\n",
       "      <th>params</th>\n",
       "      <th>mean_absolute_error</th>\n",
       "      <th>custom_metric</th>\n",
       "      <th>mean_squared_error</th>\n",
       "      <th>alpha</th>\n",
       "    </tr>\n",
       "  </thead>\n",
       "  <tbody>\n",
       "    <tr>\n",
       "      <th>5</th>\n",
       "      <td>[item_1, item_2, item_3]</td>\n",
       "      <td>[1, 2, 3, 4, 5, 6, 7, 8, 9, 10, 11, 12, 13, 14...</td>\n",
       "      <td>{'alpha': 1}</td>\n",
       "      <td>2.190420</td>\n",
       "      <td>2.290771</td>\n",
       "      <td>9.250861</td>\n",
       "      <td>1.00</td>\n",
       "    </tr>\n",
       "    <tr>\n",
       "      <th>4</th>\n",
       "      <td>[item_1, item_2, item_3]</td>\n",
       "      <td>[1, 2, 3, 4, 5, 6, 7, 8, 9, 10, 11, 12, 13, 14...</td>\n",
       "      <td>{'alpha': 0.1}</td>\n",
       "      <td>2.190493</td>\n",
       "      <td>2.290853</td>\n",
       "      <td>9.251522</td>\n",
       "      <td>0.10</td>\n",
       "    </tr>\n",
       "    <tr>\n",
       "      <th>3</th>\n",
       "      <td>[item_1, item_2, item_3]</td>\n",
       "      <td>[1, 2, 3, 4, 5, 6, 7, 8, 9, 10, 11, 12, 13, 14...</td>\n",
       "      <td>{'alpha': 0.01}</td>\n",
       "      <td>2.190500</td>\n",
       "      <td>2.290861</td>\n",
       "      <td>9.251589</td>\n",
       "      <td>0.01</td>\n",
       "    </tr>\n",
       "    <tr>\n",
       "      <th>2</th>\n",
       "      <td>[item_1, item_2, item_3]</td>\n",
       "      <td>[1, 2, 3, 4, 5, 6, 7, 8, 9, 10, 11, 12, 13, 14...</td>\n",
       "      <td>{'alpha': 1}</td>\n",
       "      <td>2.282886</td>\n",
       "      <td>2.358415</td>\n",
       "      <td>9.770826</td>\n",
       "      <td>1.00</td>\n",
       "    </tr>\n",
       "    <tr>\n",
       "      <th>1</th>\n",
       "      <td>[item_1, item_2, item_3]</td>\n",
       "      <td>[1, 2, 3, 4, 5, 6, 7, 8, 9, 10, 11, 12, 13, 14...</td>\n",
       "      <td>{'alpha': 0.1}</td>\n",
       "      <td>2.282948</td>\n",
       "      <td>2.358494</td>\n",
       "      <td>9.771567</td>\n",
       "      <td>0.10</td>\n",
       "    </tr>\n",
       "    <tr>\n",
       "      <th>0</th>\n",
       "      <td>[item_1, item_2, item_3]</td>\n",
       "      <td>[1, 2, 3, 4, 5, 6, 7, 8, 9, 10, 11, 12, 13, 14...</td>\n",
       "      <td>{'alpha': 0.01}</td>\n",
       "      <td>2.282954</td>\n",
       "      <td>2.358502</td>\n",
       "      <td>9.771641</td>\n",
       "      <td>0.01</td>\n",
       "    </tr>\n",
       "  </tbody>\n",
       "</table>\n",
       "</div>"
      ],
      "text/plain": [
       "                     levels  \\\n",
       "5  [item_1, item_2, item_3]   \n",
       "4  [item_1, item_2, item_3]   \n",
       "3  [item_1, item_2, item_3]   \n",
       "2  [item_1, item_2, item_3]   \n",
       "1  [item_1, item_2, item_3]   \n",
       "0  [item_1, item_2, item_3]   \n",
       "\n",
       "                                                lags           params  \\\n",
       "5  [1, 2, 3, 4, 5, 6, 7, 8, 9, 10, 11, 12, 13, 14...     {'alpha': 1}   \n",
       "4  [1, 2, 3, 4, 5, 6, 7, 8, 9, 10, 11, 12, 13, 14...   {'alpha': 0.1}   \n",
       "3  [1, 2, 3, 4, 5, 6, 7, 8, 9, 10, 11, 12, 13, 14...  {'alpha': 0.01}   \n",
       "2  [1, 2, 3, 4, 5, 6, 7, 8, 9, 10, 11, 12, 13, 14...     {'alpha': 1}   \n",
       "1  [1, 2, 3, 4, 5, 6, 7, 8, 9, 10, 11, 12, 13, 14...   {'alpha': 0.1}   \n",
       "0  [1, 2, 3, 4, 5, 6, 7, 8, 9, 10, 11, 12, 13, 14...  {'alpha': 0.01}   \n",
       "\n",
       "   mean_absolute_error  custom_metric  mean_squared_error  alpha  \n",
       "5             2.190420       2.290771            9.250861   1.00  \n",
       "4             2.190493       2.290853            9.251522   0.10  \n",
       "3             2.190500       2.290861            9.251589   0.01  \n",
       "2             2.282886       2.358415            9.770826   1.00  \n",
       "1             2.282948       2.358494            9.771567   0.10  \n",
       "0             2.282954       2.358502            9.771641   0.01  "
      ]
     },
     "execution_count": 13,
     "metadata": {},
     "output_type": "execute_result"
    }
   ],
   "source": [
    "# Grid search Multi-Series with multiple metrics\n",
    "# ==============================================================================\n",
    "forecaster = ForecasterAutoregMultiSeries(\n",
    "                 regressor          = Ridge(random_state=123),\n",
    "                 lags               = 24\n",
    "             )\n",
    "\n",
    "def custom_metric(y_true, y_pred):\n",
    "    \"\"\"\n",
    "    Calculate the mean absolute error using only the predicted values of the last\n",
    "    3 months of the year.\n",
    "    \"\"\"\n",
    "    mask = y_true.index.month.isin([10, 11, 12])\n",
    "    metric = mean_absolute_error(y_true[mask], y_pred[mask])\n",
    "    \n",
    "    return metric\n",
    "\n",
    "lags_grid = [24, 48]\n",
    "param_grid = {'alpha': [0.01, 0.1, 1]}\n",
    "\n",
    "results = grid_search_forecaster_multiseries(\n",
    "              forecaster          = forecaster,\n",
    "              series              = data,\n",
    "              lags_grid           = lags_grid,\n",
    "              param_grid          = param_grid,\n",
    "              steps               = 24,\n",
    "              metric              = [mean_absolute_error, custom_metric, 'mean_squared_error'],\n",
    "              initial_train_size  = len(data_train),\n",
    "              fixed_train_size    = True,\n",
    "              levels              = None,\n",
    "              exog                = None,\n",
    "              refit               = True,\n",
    "              return_best         = False,\n",
    "              verbose             = False\n",
    "          )\n",
    "\n",
    "results"
   ]
  },
  {
   "cell_type": "markdown",
   "id": "7bcf0943",
   "metadata": {},
   "source": [
    "<script src=\"https://kit.fontawesome.com/d20edc211b.js\" crossorigin=\"anonymous\"></script>\n",
    "\n",
    "<div class=\"admonition note\" name=\"html-admonition\" style=\"background: rgba(255,145,0,.1); padding-top: 0px; padding-bottom: 6px; border-radius: 8px; border-left: 8px solid #ff9100;\">\n",
    "\n",
    "<p class=\"title\">\n",
    "    <i class=\"fa-triangle-exclamation fa\" style=\"font-size: 18px; color:#ff9100;\"></i>\n",
    "    <b> &nbsp Warning</b>\n",
    "</p>\n",
    "\n",
    "<code>bayesian_search_forecaster_multiseries</code> will be released in a future version of <b>Skforecast</b>\n",
    "<br><br>\n",
    "Stay tuned!\n",
    "\n",
    "</div>"
   ]
  },
  {
   "cell_type": "code",
   "execution_count": 14,
   "id": "863bcfc0-9680-49f8-b84f-ae27ce734392",
   "metadata": {},
   "outputs": [
    {
     "data": {
      "text/html": [
       "<style>\n",
       ".jupyter-wrapper .jp-CodeCell .jp-Cell-inputWrapper .jp-InputPrompt {display: none;}\n",
       "</style>\n"
      ],
      "text/plain": [
       "<IPython.core.display.HTML object>"
      ]
     },
     "metadata": {},
     "output_type": "display_data"
    }
   ],
   "source": [
    "%%html\n",
    "<style>\n",
    ".jupyter-wrapper .jp-CodeCell .jp-Cell-inputWrapper .jp-InputPrompt {display: none;}\n",
    "</style>"
   ]
  }
 ],
 "metadata": {
  "kernelspec": {
   "display_name": "Python 3.9.13 ('skforecast')",
   "language": "python",
   "name": "python3"
  },
  "language_info": {
   "codemirror_mode": {
    "name": "ipython",
    "version": 3
   },
   "file_extension": ".py",
   "mimetype": "text/x-python",
   "name": "python",
   "nbconvert_exporter": "python",
   "pygments_lexer": "ipython3",
   "version": "3.9.13"
  },
  "toc": {
   "base_numbering": 1,
   "nav_menu": {},
   "number_sections": true,
   "sideBar": true,
   "skip_h1_title": false,
   "title_cell": "Table of Contents",
   "title_sidebar": "Contents",
   "toc_cell": false,
   "toc_position": {
    "height": "calc(100% - 180px)",
    "left": "10px",
    "top": "150px",
    "width": "184.087px"
   },
   "toc_section_display": true,
   "toc_window_display": true
  },
  "vscode": {
   "interpreter": {
    "hash": "6ffed84beb63baa96f7d22d816ccf3255c078420a09b57d1f48b4641bbf1489e"
   }
  }
 },
 "nbformat": 4,
 "nbformat_minor": 5
}
