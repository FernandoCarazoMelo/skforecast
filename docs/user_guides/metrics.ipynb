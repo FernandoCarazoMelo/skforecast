{
 "cells": [
  {
   "cell_type": "markdown",
   "metadata": {},
   "source": [
    "# Time Series Forecasting Metrics"
   ]
  },
  {
   "cell_type": "markdown",
   "metadata": {},
   "source": [
    "In time series forecasting, evaluating the performance of predictive models is crucial to ensure accurate and reliable forecasts. Forecasting metrics are quantitative measures used to assess the accuracy and effectiveness of these models. They help in comparing different models, diagnosing errors, and making informed decisions based on forecast results. This document outlines some of the most commonly used metrics in time series forecasting, including their equations, advantages, and disadvantages."
   ]
  },
  {
   "cell_type": "markdown",
   "metadata": {},
   "source": [
    "Skforecast is compatible with monst of the regression metrics from scikit-learn:\n",
    "\n",
    "+ Mean Squared Error (\"mean_squared_error\")\n",
    "+ Mean Absolute Error (\"mean_absolute_error\")\n",
    "+ Mean Absolute Percentage Error (\"mean_absolute_percentage_error\")\n",
    "+ Mean Squared Log Error (\"mean_squared_log_error\")\n",
    "+ Median Absolute Error (\"median_absolute_error\")\n",
    "\n",
    "\n",
    "In addition, Skforecast includes the following metrics in its `metrics` module:\n",
    "\n",
    "+ Mean Absolute Scaled Error (\"mean_absolute_scaled_error\")\n",
    "+ Root Mean Squared Scaled Error (\"root_mean_squared_scaled_error\")\n",
    "\n",
    "\n",
    "Skforecast allows the user to define their own custom metrics. This can be done by creating a function that takes two arguments: the true values (`y_true`) and the predicted values (`y_pred`), and returns a single value representing the metric. The custom metric optionally accepts additional arguments `y_train` with the training data.\n",
    "\n"
   ]
  },
  {
   "cell_type": "markdown",
   "metadata": {},
   "source": [
    "\n",
    "## Mean Absolute Error (MAE)\n",
    "\n",
    "### Equation\n",
    "$MAE = \\frac{1}{n} \\sum_{t=1}^{n} | y_t - \\hat{y}_t |$\n",
    "\n",
    "### Advantages\n",
    "- Easy to understand and interpret.\n",
    "- Directly measures the average magnitude of the errors without considering their direction.\n",
    "- Less sensitive to outliers compared to Mean Squared Error (MSE).\n",
    "\n",
    "### Disadvantages\n",
    "- Does not penalize larger errors as strongly as other metrics like MSE.\n",
    "- May not be suitable for data with large variations."
   ]
  },
  {
   "cell_type": "markdown",
   "metadata": {},
   "source": [
    "## Mean Squared Error (MSE)\n",
    "\n",
    "### Equation\n",
    "$MSE = \\frac{1}{n} \\sum_{t=1}^{n} (y_t - \\hat{y}_t)^2$\n",
    "\n",
    "### Advantages\n",
    "- Penalizes larger errors more than smaller ones, which can be useful when large errors are particularly undesirable.\n",
    "- Differentiable, which makes it suitable for gradient-based optimization methods.\n",
    "\n",
    "### Disadvantages\n",
    "- Sensitive to outliers, which can distort the metric.\n",
    "- Not as interpretable as MAE since it is not in the same units as the original data."
   ]
  },
  {
   "cell_type": "markdown",
   "metadata": {},
   "source": [
    "\n",
    "## Root Mean Squared Error (RMSE)\n",
    "\n",
    "### Equation\n",
    "$RMSE = \\sqrt{ \\frac{1}{n} \\sum_{t=1}^{n} (y_t - \\hat{y}_t)^2 }$\n",
    "\n",
    "### Advantages\n",
    "- Like MSE, it penalizes larger errors more strongly.\n",
    "- More interpretable than MSE as it is in the same units as the original data.\n",
    "\n",
    "### Disadvantages\n",
    "- Sensitive to outliers.\n",
    "- Can be more difficult to interpret than MAE."
   ]
  },
  {
   "cell_type": "markdown",
   "metadata": {},
   "source": [
    "\n",
    "## Mean Absolute Percentage Error (MAPE)\n",
    "\n",
    "### Equation\n",
    "$MAPE = \\frac{1}{n} \\sum_{t=1}^{n} \\left| \\frac{y_t - \\hat{y}_t}{y_t} \\right| \\times 100$\n",
    "\n",
    "### Advantages\n",
    "- Provides a percentage error which makes it easier to interpret.\n",
    "- Useful for comparing the accuracy of forecasts across different datasets.\n",
    "\n",
    "### Disadvantages\n",
    "- Can be problematic if actual values ( \\( y_t \\) ) are very small or zero.\n",
    "- Can be skewed by outliers."
   ]
  },
  {
   "cell_type": "markdown",
   "metadata": {},
   "source": [
    "\n",
    "## Symmetric Mean Absolute Percentage Error (sMAPE)\n",
    "\n",
    "### Equation\n",
    "$sMAPE = \\frac{1}{n} \\sum_{t=1}^{n} \\frac{| y_t - \\hat{y}_t |}{( |y_t| + |\\hat{y}_t| ) / 2} \\times 100$\n",
    "\n",
    "### Advantages\n",
    "- Addresses some of the issues with MAPE by being symmetric.\n",
    "- Provides a percentage error in a more balanced way.\n",
    "\n",
    "### Disadvantages\n",
    "- Can still be affected by values near zero.\n",
    "- Interpretation can be less straightforward compared to MAPE."
   ]
  },
  {
   "cell_type": "markdown",
   "metadata": {},
   "source": [
    "\n",
    "## Mean Absolute Scaled Error (MASE)\n",
    "\n",
    "### Equation\n",
    "$MASE = \\frac{ \\frac{1}{n} \\sum_{t=1}^{n} | y_t - \\hat{y}_t | }{ \\frac{1}{n-1} \\sum_{t=2}^{n} | y_t - y_{t-1} | }$\n",
    "\n",
    "### Advantages\n",
    "- Scale-free, making it useful for comparing forecast accuracy across different time series.\n",
    "- Accounts for the scale of the data and is less sensitive to outliers.\n",
    "\n",
    "### Disadvantages\n",
    "- Can be more complex to calculate and interpret.\n",
    "- Requires a baseline forecast (usually the naive forecast).\n",
    "\n",
    "These metrics provide various ways to evaluate the accuracy and performance of time series forecasting models. Depending on the specific characteristics of the data and the requirements of the forecasting task, different metrics might be more suitable.\n"
   ]
  },
  {
   "cell_type": "markdown",
   "metadata": {},
   "source": [
    "## Mean Absolute Error (MAE)"
   ]
  },
  {
   "cell_type": "markdown",
   "metadata": {},
   "source": [
    "MAE = $\\frac{1}{n} \\sum_{t=1}^{n} | y_t - \\hat{y}_t |$"
   ]
  },
  {
   "cell_type": "markdown",
   "metadata": {},
   "source": []
  }
 ],
 "metadata": {
  "kernelspec": {
   "display_name": "skforecast_13_py12",
   "language": "python",
   "name": "python3"
  },
  "language_info": {
   "codemirror_mode": {
    "name": "ipython",
    "version": 3
   },
   "file_extension": ".py",
   "mimetype": "text/x-python",
   "name": "python",
   "nbconvert_exporter": "python",
   "pygments_lexer": "ipython3",
   "version": "3.12.4"
  }
 },
 "nbformat": 4,
 "nbformat_minor": 2
}
