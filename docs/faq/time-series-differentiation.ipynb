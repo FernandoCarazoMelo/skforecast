{
 "cells": [
  {
   "cell_type": "markdown",
   "metadata": {},
   "source": [
    "# Time series differentiation"
   ]
  },
  {
   "cell_type": "markdown",
   "metadata": {},
   "source": [
    "Time series differentiation involves computing the differences between consecutive observations in the time series. When it comes to training forecasting models, differentiation offers the advantage of focusing on relative rates of change rather than directly attempting to model the absolute values. Once the predictions have been estimated, this transformation can be easily reversed to restore the values to their original scale.\n",
    "\n",
    "This methodology is very useful when dealing with time series that exhibit trends, as not all models can capture such trends properly. Among the many machine learning techniques, tree-based models, including decision trees, random forests, and gradient boosting machines (GBMs), stand out for their effectiveness and broad applicability to various domains. Nonetheless, these models are limited in their ability to extrapolate. Their inability to project values outside the observed range during training inevitably results in predicted values that deviate from the underlying trend.\n",
    "\n",
    "Skforecast, version 0.10.0 or higher, introduces a novel `differentiation` parameter within its forecasters. This parameter indicates that a differentiation process must be applied before training the model, and this task is performed through the internal use of a new class named `skforecast.preprocessing.TimeSeriesDifferentiator`. It is important to note that the entire differentiation process is automated and its effects are seamlessly reversed during the prediction phase. This ensures that the resulting forecast values are in the original scale of the time series data."
   ]
  },
  {
   "cell_type": "markdown",
   "metadata": {},
   "source": [
    "<div class=\"admonition note\" name=\"html-admonition\" style=\"background: rgba(0,191,191,.1); padding-top: 0px; padding-bottom: 6px; border-radius: 8px; border-left: 8px solid #00bfa5; border-color: #00bfa5; padding-left: 10px; padding-right: 10px;\">\n",
    "\n",
    "<p class=\"title\">\n",
    "    <i style=\"font-size: 18px; color:#00bfa5;\"></i>\n",
    "    <b style=\"color: #00bfa5;\">&#128161 Tip</b>\n",
    "</p>\n",
    "\n",
    "To learn more about modeling time series differentiation, visit our example: <a href=\"https://www.cienciadedatos.net/documentos/py49-modelling-time-series-trend-with-tree-based-models.html\">Modelling time series trend with tree based models</a>.\n",
    "\n",
    "</div>"
   ]
  },
  {
   "cell_type": "markdown",
   "metadata": {},
   "source": [
    "## TimeSeriesDifferentiator\n",
    "\n",
    "[TimeSeriesDifferentiator](https://skforecast.org/latest/api/preprocessing) is a custom transformer that follows the preprocessing sklearn API. This means it has the method `fit`, `transform`, `fit_transform` and `inverse_transform`."
   ]
  },
  {
   "cell_type": "code",
   "execution_count": 12,
   "metadata": {},
   "outputs": [],
   "source": [
    "# Libraries\n",
    "# ==============================================================================\n",
    "import numpy as np\n",
    "import pandas as pd\n",
    "from skforecast.preprocessing import TimeSeriesDifferentiator"
   ]
  },
  {
   "cell_type": "code",
   "execution_count": 13,
   "metadata": {},
   "outputs": [
    {
     "name": "stdout",
     "output_type": "stream",
     "text": [
      "Original time series   : [ 5.  8. 12. 10. 14. 17. 21. 19.]\n",
      "Differenced time series: [nan  3.  4. -2.  4.  3.  4. -2.]\n"
     ]
    }
   ],
   "source": [
    "# Differentiation with TimeSeriesDifferentiator\n",
    "# ==============================================================================\n",
    "y = np.array([5, 8, 12, 10, 14, 17, 21, 19], dtype=float)\n",
    "diffenciator = TimeSeriesDifferentiator()\n",
    "diffenciator.fit(y)\n",
    "y_diff = diffenciator.transform(y)\n",
    "\n",
    "print(f\"Original time series   : {y}\")\n",
    "print(f\"Differenced time series: {y_diff}\")"
   ]
  },
  {
   "cell_type": "markdown",
   "metadata": {},
   "source": [
    "The process of differencing can be reversed (integration) using the `inverse_transform` method."
   ]
  },
  {
   "cell_type": "code",
   "execution_count": 14,
   "metadata": {},
   "outputs": [
    {
     "data": {
      "text/plain": [
       "array([ 5.,  8., 12., 10., 14., 17., 21., 19.])"
      ]
     },
     "execution_count": 14,
     "metadata": {},
     "output_type": "execute_result"
    }
   ],
   "source": [
    "diffenciator.inverse_transform(y_diff)"
   ]
  },
  {
   "cell_type": "markdown",
   "metadata": {},
   "source": [
    "<div class=\"admonition note\" name=\"html-admonition\" style=\"background: rgba(255,145,0,.1); padding-top: 0px; padding-bottom: 6px; border-radius: 8px; border-left: 8px solid #ff9100; border-color: #ff9100; padding-left: 10px; padding-right: 10px\">\n",
    "\n",
    "<p class=\"title\">\n",
    "    <i style=\"font-size: 18px; color:#ff9100; border-color: #ff1744;\"></i>\n",
    "    <b style=\"color: #ff9100;\"> <span style=\"color: #ff9100;\">&#9888;</span> Warning</b>\n",
    "</p>\n",
    "\n",
    "The inverse transformation process, <code>inverse_transform</code>, is applicable only to the same time series that was previously differentiated using the same <code>TimeSeriesDifferentiator</code> object. This limitation arises from the need to use the initial <i>n</i> values of the time series (<i>n</i> equals the order of differentiation) to successfully reverse the differentiation. These values are stored when the <code>fit</code> method is executed.\n",
    "\n",
    "</div>\n",
    "\n",
    "<br>"
   ]
  },
  {
   "cell_type": "markdown",
   "metadata": {},
   "source": [
    "<div class=\"admonition note\" name=\"html-admonition\" style=\"background: rgba(0,184,212,.1); padding-top: 0px; padding-bottom: 6px; border-radius: 8px; border-left: 8px solid #00b8d4; border-color: #00b8d4; padding-left: 10px; padding-right: 10px;\">\n",
    "\n",
    "<p class=\"title\">\n",
    "    <i style=\"font-size: 18px; color:#00b8d4;\"></i>\n",
    "    <b style=\"color: #00b8d4;\">&#9998 Note</b>\n",
    "</p>\n",
    "\n",
    "An additional method <code>inverse_transform_next_window</code> is available in the <code>TimeSeriesDifferentiator</code>. This method is designed to be used inside the Forecasters to reverse the differentiation of the predicted values. If the Forecaster regressor is trained with a differentiated time series, then the predicted values will be differentiated as well. The <code>inverse_transform_next_window</code> method allows to return the predictions to the original scale, with the assumption that they start immediately after the last values observed (<code>last_window</code>).\n",
    "\n",
    "</div>"
   ]
  },
  {
   "cell_type": "markdown",
   "metadata": {},
   "source": [
    "## Forecasting with differentiation"
   ]
  },
  {
   "cell_type": "code",
   "execution_count": 15,
   "metadata": {},
   "outputs": [],
   "source": [
    "# Data manipulation\n",
    "# ==============================================================================\n",
    "import numpy as np\n",
    "import pandas as pd\n",
    "\n",
    "# Plots\n",
    "# ==============================================================================\n",
    "import matplotlib.pyplot as plt\n",
    "plt.style.use('seaborn-v0_8-darkgrid')\n",
    "\n",
    "# Modelling and Forecasting\n",
    "# ==============================================================================\n",
    "from xgboost import XGBRegressor\n",
    "from sklearn.ensemble import RandomForestRegressor\n",
    "from sklearn.metrics import mean_absolute_error\n",
    "from sklearn.preprocessing import StandardScaler\n",
    "from skforecast.ForecasterAutoreg import ForecasterAutoreg\n",
    "from skforecast.preprocessing import TimeSeriesDifferentiator\n",
    "from skforecast.model_selection import backtesting_forecaster"
   ]
  },
  {
   "cell_type": "code",
   "execution_count": 16,
   "metadata": {},
   "outputs": [
    {
     "name": "stdout",
     "output_type": "stream",
     "text": [
      "Train dates : 1949-01-01 00:00:00 --- 1956-12-01 00:00:00  (n=96)\n",
      "Test dates  : 1957-01-01 00:00:00 --- 1960-12-01 00:00:00  (n=48)\n"
     ]
    },
    {
     "data": {
      "image/png": "[encoded data removed]",
      "text/plain": [
       "<Figure size 700x250 with 1 Axes>"
      ]
     },
     "metadata": {},
     "output_type": "display_data"
    }
   ],
   "source": [
    "# Download data\n",
    "# ==============================================================================\n",
    "url = (\n",
    "    'https://raw.githubusercontent.com/JoaquinAmatRodrigo/Estadistica-machine-learning-python/'\n",
    "    'master/data/AirPassengers.csv'\n",
    ")\n",
    "data = pd.read_csv(url, sep=',')\n",
    "\n",
    "# Data preprocessing\n",
    "# ==============================================================================\n",
    "data['Date'] = pd.to_datetime(data['Date'], format='%Y-%m')\n",
    "data = data.set_index('Date')\n",
    "data = data.asfreq('MS')\n",
    "data = data['Passengers']\n",
    "data = data.sort_index()\n",
    "data.head(4)\n",
    "\n",
    "# Data partition train-test\n",
    "# ==============================================================================\n",
    "end_train = '1956-12-01 23:59:59'\n",
    "print(\n",
    "    f\"Train dates : {data.index.min()} --- {data.loc[:end_train].index.max()}  \" \n",
    "    f\"(n={len(data.loc[:end_train])})\")\n",
    "print(\n",
    "    f\"Test dates  : {data.loc[end_train:].index.min()} --- {data.index.max()}  \"\n",
    "    f\"(n={len(data.loc[end_train:])})\")\n",
    "\n",
    "# Plot\n",
    "# ==============================================================================\n",
    "fig, ax = plt.subplots(figsize=(7, 2.5))\n",
    "data.loc[:end_train].plot(ax=ax, label='train')\n",
    "data.loc[end_train:].plot(ax=ax, label='test')\n",
    "ax.legend();"
   ]
  },
  {
   "cell_type": "markdown",
   "metadata": {},
   "source": [
    "Two autoregressive forecasters are created, one with a scikit-learn `RandomForestRegressor` and the other with an `XGBoost`. Both are trained on data from 1949-01-01 to 1956-12-01 and produce forecasts for the next 48 months (4 years)."
   ]
  },
  {
   "cell_type": "code",
   "execution_count": 17,
   "metadata": {},
   "outputs": [
    {
     "name": "stdout",
     "output_type": "stream",
     "text": [
      "Error (MAE) Random Forest: 54.79\n",
      "Error (MAE) Gradient Boosting: 49.16\n"
     ]
    },
    {
     "data": {
      "image/png": "[encoded data removed]",
      "text/plain": [
       "<Figure size 700x300 with 1 Axes>"
      ]
     },
     "metadata": {},
     "output_type": "display_data"
    }
   ],
   "source": [
    "# Forecasting without differentiation\n",
    "# ==============================================================================\n",
    "steps = len(data.loc[end_train:])\n",
    "\n",
    "# Forecasters\n",
    "forecaster_rf = ForecasterAutoreg(\n",
    "                    regressor = RandomForestRegressor(random_state=963),\n",
    "                    lags      = 12\n",
    "                )\n",
    "forecaster_gb = ForecasterAutoreg(\n",
    "                    regressor = XGBRegressor(random_state=963),\n",
    "                    lags      = 12\n",
    "                )\n",
    "# Train\n",
    "forecaster_rf.fit(data.loc[:end_train])\n",
    "forecaster_gb.fit(data.loc[:end_train])\n",
    "\n",
    "# Predict\n",
    "predictions_rf = forecaster_rf.predict(steps=steps)\n",
    "predictions_gb = forecaster_gb.predict(steps=steps)\n",
    "\n",
    "# Error\n",
    "error_rf = mean_absolute_error(data.loc[end_train:], predictions_rf)\n",
    "error_gb = mean_absolute_error(data.loc[end_train:], predictions_gb)\n",
    "print(f\"Error (MAE) Random Forest: {error_rf:.2f}\")\n",
    "print(f\"Error (MAE) Gradient Boosting: {error_gb:.2f}\")\n",
    "\n",
    "# Plot\n",
    "fig, ax = plt.subplots(figsize=(7, 3), sharex=True, sharey=True)\n",
    "data.loc[:end_train].plot(ax=ax, label='train')\n",
    "data.loc[end_train:].plot(ax=ax, label='test')\n",
    "predictions_rf.plot(ax=ax, label='Random Forest')\n",
    "predictions_gb.plot(ax=ax, label='Gradient Boosting')\n",
    "ax.set_title(f'Forecasting without differentiation')\n",
    "ax.set_xlabel('')\n",
    "ax.legend();"
   ]
  },
  {
   "cell_type": "markdown",
   "metadata": {},
   "source": [
    "The plot shows that none of the models is capable of accurately predicting the trend. After a few steps, the predictions become nearly constant, close to the maximum values observed in the training data."
   ]
  },
  {
   "cell_type": "markdown",
   "metadata": {},
   "source": [
    "Next, two new forecasters are trained using the same configuration, but with the argument `differentiation = 1`. This activates the internal process of differencing (order 1) the time series before training the model, and reverses the differentiation (also known as integration) for the predicted values."
   ]
  },
  {
   "cell_type": "code",
   "execution_count": 18,
   "metadata": {},
   "outputs": [
    {
     "name": "stdout",
     "output_type": "stream",
     "text": [
      "Error (MAE) Random Forest: 24.91\n",
      "Error (MAE) Gradient Boosting: 25.49\n"
     ]
    },
    {
     "data": {
      "image/png": "[encoded data removed]",
      "text/plain": [
       "<Figure size 700x300 with 1 Axes>"
      ]
     },
     "metadata": {},
     "output_type": "display_data"
    }
   ],
   "source": [
    "# Forecasting with differentiation\n",
    "# ==============================================================================\n",
    "steps = len(data.loc[end_train:])\n",
    "\n",
    "# Forecasters\n",
    "forecaster_rf = ForecasterAutoreg(\n",
    "                    regressor       = RandomForestRegressor(random_state=963),\n",
    "                    lags            = 12,\n",
    "                    differentiation = 1\n",
    "                )\n",
    "forecaster_gb = ForecasterAutoreg(\n",
    "                    regressor       = XGBRegressor(random_state=963),\n",
    "                    lags            = 12,\n",
    "                    differentiation = 1\n",
    "                )\n",
    "# Train\n",
    "forecaster_rf.fit(data.loc[:end_train])\n",
    "forecaster_gb.fit(data.loc[:end_train])\n",
    "\n",
    "# Predict\n",
    "predictions_rf = forecaster_rf.predict(steps=steps)\n",
    "predictions_gb = forecaster_gb.predict(steps=steps)\n",
    "\n",
    "# Error\n",
    "error_rf = mean_absolute_error(data.loc[end_train:], predictions_rf)\n",
    "error_gb = mean_absolute_error(data.loc[end_train:], predictions_gb)\n",
    "print(f\"Error (MAE) Random Forest: {error_rf:.2f}\")\n",
    "print(f\"Error (MAE) Gradient Boosting: {error_gb:.2f}\")\n",
    "\n",
    "# Plot\n",
    "fig, ax = plt.subplots(figsize=(7, 3), sharex=True, sharey=True)\n",
    "data.loc[:end_train].plot(ax=ax, label='train')\n",
    "data.loc[end_train:].plot(ax=ax, label='test')\n",
    "predictions_rf.plot(ax=ax, label='Random Forest')\n",
    "predictions_gb.plot(ax=ax, label='Gradient Boosting')\n",
    "ax.set_title(f'Forecasting with differentiation')\n",
    "ax.set_xlabel('')\n",
    "ax.legend();"
   ]
  },
  {
   "cell_type": "markdown",
   "metadata": {},
   "source": [
    "This time, both models are able to follow the trend in their predictions."
   ]
  },
  {
   "cell_type": "markdown",
   "metadata": {},
   "source": [
    "<div class=\"admonition note\" name=\"html-admonition\" style=\"background: rgba(255,145,0,.1); padding-top: 0px; padding-bottom: 6px; border-radius: 8px; border-left: 8px solid #ff9100; border-color: #ff9100; padding-left: 10px; padding-right: 10px\">\n",
    "\n",
    "<p class=\"title\">\n",
    "    <i style=\"font-size: 18px; color:#ff9100; border-color: #ff1744;\"></i>\n",
    "    <b style=\"color: #ff9100;\"> <span style=\"color: #ff9100;\">&#9888;</span> Warning</b>\n",
    "</p>\n",
    "\n",
    "Derivation is a useful strategy for overcoming the problems of modeling trend when using a tree-based model, but it is not a magic bullet. By transforming the original time series values into the rate of change (first derivative), the model can extrapolate the original data once the transformation is reversed. Note, however, that the model is still limited to predicting rates of change within the range observed in the training data. \n",
    "\n",
    "For example, if the rate of change increases over time and the changes become larger and larger, the model will underestimate the increases and decreases, and the resulting predictions will deviate from the actual trend.\n",
    "\n",
    "</div>"
   ]
  },
  {
   "cell_type": "markdown",
   "metadata": {},
   "source": [
    "## Internal differentiation vs pre-processing\n",
    "\n",
    "Forecasters manage the differentiation process internally, so there is no need for additional pre-processing of the time series and post-processing of the predictions. This has several advantages, but before diving in, the results of both approaches are compared."
   ]
  },
  {
   "cell_type": "code",
   "execution_count": 19,
   "metadata": {},
   "outputs": [
    {
     "data": {
      "text/plain": [
       "1957-01-01    312.00\n",
       "1957-02-01    302.93\n",
       "1957-03-01    341.61\n",
       "1957-04-01    338.03\n",
       "1957-05-01    341.97\n",
       "Freq: MS, Name: pred, dtype: float64"
      ]
     },
     "execution_count": 19,
     "metadata": {},
     "output_type": "execute_result"
    }
   ],
   "source": [
    "# Time series differentiated by preprocessing before training\n",
    "# ==============================================================================\n",
    "diferenciator = TimeSeriesDifferentiator(order=1)\n",
    "data_diff = diferenciator.fit_transform(data.to_numpy())\n",
    "data_diff = pd.Series(data_diff, index=data.index).dropna()\n",
    "\n",
    "forecaster = ForecasterAutoreg(\n",
    "                 regressor = RandomForestRegressor(random_state=963),\n",
    "                 lags      = 15\n",
    "             )\n",
    "forecaster.fit(y=data_diff.loc[:end_train])\n",
    "predictions_diff = forecaster.predict(steps=steps)\n",
    "\n",
    "# Revert differentiation to obtain final predictions\n",
    "last_value_train = data.loc[:end_train].iloc[[-1]]\n",
    "predictions_1 = pd.concat([last_value_train, predictions_diff]).cumsum()[1:]\n",
    "predictions_1 = predictions_1.asfreq('MS')\n",
    "predictions_1.name = 'pred'\n",
    "predictions_1.head(5)"
   ]
  },
  {
   "cell_type": "code",
   "execution_count": 20,
   "metadata": {},
   "outputs": [
    {
     "data": {
      "text/plain": [
       "1957-01-01    312.00\n",
       "1957-02-01    302.93\n",
       "1957-03-01    341.61\n",
       "1957-04-01    338.03\n",
       "1957-05-01    341.97\n",
       "Freq: MS, Name: pred, dtype: float64"
      ]
     },
     "execution_count": 20,
     "metadata": {},
     "output_type": "execute_result"
    }
   ],
   "source": [
    "# Time series differentiated internally by the forecaster\n",
    "# ==============================================================================\n",
    "forecaster = ForecasterAutoreg(\n",
    "                 regressor       = RandomForestRegressor(random_state=963),\n",
    "                 lags            = 15,\n",
    "                 differentiation = 1\n",
    "             )\n",
    "forecaster.fit(y=data.loc[:end_train])\n",
    "predictions_2 = forecaster.predict(steps=steps)\n",
    "predictions_2.head(5)"
   ]
  },
  {
   "cell_type": "code",
   "execution_count": 21,
   "metadata": {},
   "outputs": [],
   "source": [
    "# Compare both predictions\n",
    "# ==============================================================================\n",
    "pd.testing.assert_series_equal(predictions_1, predictions_2)"
   ]
  },
  {
   "cell_type": "markdown",
   "metadata": {},
   "source": [
    "The predictions are the same for both approaches."
   ]
  },
  {
   "cell_type": "markdown",
   "metadata": {},
   "source": [
    "The results are also equivalent when a transformation, such as standardization, is applied to the time series. In this case, the order of the steps is: transformation -> differentiation -> model fitting -> prediction -> inverse differentiation -> inverse transformation."
   ]
  },
  {
   "cell_type": "code",
   "execution_count": 22,
   "metadata": {},
   "outputs": [
    {
     "data": {
      "text/plain": [
       "1957-01-01    312.43\n",
       "1957-02-01    303.45\n",
       "1957-03-01    342.44\n",
       "1957-04-01    340.00\n",
       "1957-05-01    343.82\n",
       "Freq: MS, Name: pred, dtype: float64"
      ]
     },
     "metadata": {},
     "output_type": "display_data"
    },
    {
     "data": {
      "text/plain": [
       "1957-01-01    312.43\n",
       "1957-02-01    303.45\n",
       "1957-03-01    342.44\n",
       "1957-04-01    340.00\n",
       "1957-05-01    343.82\n",
       "Freq: MS, Name: pred, dtype: float64"
      ]
     },
     "metadata": {},
     "output_type": "display_data"
    }
   ],
   "source": [
    "# Time series differentiated by preprocessing before training\n",
    "# ==============================================================================\n",
    "scaler = StandardScaler()\n",
    "scaler.fit(data.loc[:end_train].to_numpy().reshape(-1, 1))\n",
    "data_scaled = scaler.transform(data.to_numpy().reshape(-1, 1))\n",
    "data_scaled = pd.Series(data_scaled.flatten(), index=data.index)\n",
    "data_scaled_diff = TimeSeriesDifferentiator(order=1).fit_transform(data_scaled.to_numpy())\n",
    "data_scaled_diff = pd.Series(data_scaled_diff, index=data.index).dropna()\n",
    "\n",
    "forecaster = ForecasterAutoreg(\n",
    "                 regressor     = RandomForestRegressor(random_state=963),\n",
    "                 lags          = 15,\n",
    "             )\n",
    "forecaster.fit(y=data_scaled_diff.loc[:end_train])\n",
    "predictions_diff = forecaster.predict(steps=steps)\n",
    "\n",
    "# Revert differentiation to obtain final predictions\n",
    "last_value_train = data_scaled.loc[:end_train].iloc[[-1]]\n",
    "predictions_1 = pd.concat([last_value_train, predictions_diff]).cumsum()[1:]\n",
    "# Revert the scaling\n",
    "predictions_1 = scaler.inverse_transform(predictions_1.to_numpy().reshape(-1, 1))\n",
    "predictions_1 = pd.Series(predictions_1.flatten(), index=data.loc[end_train:].index.to_numpy())\n",
    "predictions_1 = predictions_1.asfreq('MS')\n",
    "predictions_1.name = 'pred'\n",
    "display(predictions_1.head(5))\n",
    "\n",
    "\n",
    "# Time series differentiated internally by the forecaster\n",
    "# ==============================================================================\n",
    "forecaster = ForecasterAutoreg(\n",
    "                 regressor       = RandomForestRegressor(random_state=963),\n",
    "                 lags            = 15,\n",
    "                 differentiation = 1,\n",
    "                 transformer_y = StandardScaler()\n",
    "             )\n",
    "forecaster.fit(y=data.loc[:end_train])\n",
    "predictions_2 = forecaster.predict(steps=steps)\n",
    "display(predictions_2.head(5))"
   ]
  },
  {
   "cell_type": "code",
   "execution_count": 23,
   "metadata": {},
   "outputs": [],
   "source": [
    "# Compare both predictions\n",
    "# ==============================================================================\n",
    "pd.testing.assert_series_equal(predictions_1, predictions_2)"
   ]
  },
  {
   "cell_type": "markdown",
   "metadata": {},
   "source": [
    "Next, the outcomes of the [backtesting process](https://skforecast.org/latest/user_guides/backtesting) are subjected to a comparative analysis. This comparison is more complex than the previous one, as the process of undoing the differentiation must be performed separately for each backtesting fold."
   ]
  },
  {
   "cell_type": "code",
   "execution_count": 24,
   "metadata": {},
   "outputs": [
    {
     "data": {
      "application/vnd.jupyter.widget-view+json": {
       "model_id": "ca53493c91ba48ae85144fd8c97de91b",
       "version_major": 2,
       "version_minor": 0
      },
      "text/plain": [
       "  0%|          | 0/10 [00:00<?, ?it/s]"
      ]
     },
     "metadata": {},
     "output_type": "display_data"
    },
    {
     "name": "stderr",
     "output_type": "stream",
     "text": [
      "/tmp/ipykernel_3197/227738721.py:49: DeprecationWarning: DataFrameGroupBy.apply operated on the grouping columns. This behavior is deprecated, and in a future version of pandas the grouping columns will be excluded from the operation. Either pass `include_groups=False` to exclude the groupings or explicitly select the grouping columns after groupby to silence this warning.\n",
      "  .apply(lambda x: x['summed_value'].cumsum())\n"
     ]
    },
    {
     "data": {
      "text/html": [
       "<div>\n",
       "<style scoped>\n",
       "    .dataframe tbody tr th:only-of-type {\n",
       "        vertical-align: middle;\n",
       "    }\n",
       "\n",
       "    .dataframe tbody tr th {\n",
       "        vertical-align: top;\n",
       "    }\n",
       "\n",
       "    .dataframe thead th {\n",
       "        text-align: right;\n",
       "    }\n",
       "</style>\n",
       "<table border=\"1\" class=\"dataframe\">\n",
       "  <thead>\n",
       "    <tr style=\"text-align: right;\">\n",
       "      <th></th>\n",
       "      <th>pred_diff</th>\n",
       "      <th>backtesting_fold_id</th>\n",
       "      <th>previous_overved_value</th>\n",
       "      <th>summed_value</th>\n",
       "      <th>pred</th>\n",
       "    </tr>\n",
       "  </thead>\n",
       "  <tbody>\n",
       "    <tr>\n",
       "      <th>1957-01-01</th>\n",
       "      <td>6.00</td>\n",
       "      <td>0</td>\n",
       "      <td>306.0</td>\n",
       "      <td>312.00</td>\n",
       "      <td>312.00</td>\n",
       "    </tr>\n",
       "    <tr>\n",
       "      <th>1957-02-01</th>\n",
       "      <td>-9.07</td>\n",
       "      <td>0</td>\n",
       "      <td>0.0</td>\n",
       "      <td>-9.07</td>\n",
       "      <td>302.93</td>\n",
       "    </tr>\n",
       "    <tr>\n",
       "      <th>1957-03-01</th>\n",
       "      <td>38.68</td>\n",
       "      <td>0</td>\n",
       "      <td>0.0</td>\n",
       "      <td>38.68</td>\n",
       "      <td>341.61</td>\n",
       "    </tr>\n",
       "    <tr>\n",
       "      <th>1957-04-01</th>\n",
       "      <td>-3.58</td>\n",
       "      <td>0</td>\n",
       "      <td>0.0</td>\n",
       "      <td>-3.58</td>\n",
       "      <td>338.03</td>\n",
       "    </tr>\n",
       "    <tr>\n",
       "      <th>1957-05-01</th>\n",
       "      <td>3.94</td>\n",
       "      <td>0</td>\n",
       "      <td>0.0</td>\n",
       "      <td>3.94</td>\n",
       "      <td>341.97</td>\n",
       "    </tr>\n",
       "  </tbody>\n",
       "</table>\n",
       "</div>"
      ],
      "text/plain": [
       "            pred_diff  backtesting_fold_id  previous_overved_value  \\\n",
       "1957-01-01       6.00                    0                   306.0   \n",
       "1957-02-01      -9.07                    0                     0.0   \n",
       "1957-03-01      38.68                    0                     0.0   \n",
       "1957-04-01      -3.58                    0                     0.0   \n",
       "1957-05-01       3.94                    0                     0.0   \n",
       "\n",
       "            summed_value    pred  \n",
       "1957-01-01        312.00  312.00  \n",
       "1957-02-01         -9.07  302.93  \n",
       "1957-03-01         38.68  341.61  \n",
       "1957-04-01         -3.58  338.03  \n",
       "1957-05-01          3.94  341.97  "
      ]
     },
     "execution_count": 24,
     "metadata": {},
     "output_type": "execute_result"
    }
   ],
   "source": [
    "# Backtesting with the time series differentiated by preprocessing before training\n",
    "# ==============================================================================\n",
    "steps = 5\n",
    "forecaster_1 = ForecasterAutoreg(\n",
    "                   regressor = RandomForestRegressor(random_state=963),\n",
    "                   lags      = 15\n",
    "               )\n",
    "\n",
    "_, predictions_1 = backtesting_forecaster(\n",
    "                       forecaster            = forecaster_1,\n",
    "                       y                     = data_diff,\n",
    "                       steps                 = steps,\n",
    "                       metric                = 'mean_squared_error',\n",
    "                       initial_train_size    = len(data_diff.loc[:end_train]),\n",
    "                       fixed_train_size      = False,\n",
    "                       gap                   = 0,\n",
    "                       allow_incomplete_fold = True,\n",
    "                       refit                 = True,\n",
    "                       n_jobs                = 'auto',\n",
    "                       verbose               = False,\n",
    "                       show_progress         = True  \n",
    "                   )\n",
    "\n",
    "# Revert differentiation of predictions. Predictions of each fold must be reverted\n",
    "# individually. An id is added to each prediction to identify the fold to which it belongs.\n",
    "predictions_1 = predictions_1.rename(columns={'pred': 'pred_diff'})\n",
    "folds = len(predictions_1) / steps\n",
    "folds = int(np.ceil(folds))\n",
    "predictions_1['backtesting_fold_id'] = np.repeat(range(folds), steps)[:len(predictions_1)]\n",
    "\n",
    "# Add the previously observed value of the time series (only to the first prediction of each fold)\n",
    "previous_overved_values = data.shift(1).loc[predictions_1.index].iloc[::steps]\n",
    "previous_overved_values.name = 'previous_overved_value'\n",
    "predictions_1 = predictions_1.merge(\n",
    "                    previous_overved_values,\n",
    "                    left_index  = True,\n",
    "                    right_index = True,\n",
    "                    how         = 'left'\n",
    "                )\n",
    "predictions_1 = predictions_1.fillna(0)\n",
    "predictions_1['summed_value'] = (\n",
    "    predictions_1['pred_diff'] + predictions_1['previous_overved_value']\n",
    ")\n",
    "\n",
    "# Revert differentiation using the cumulative sum by fold\n",
    "predictions_1['pred'] = (\n",
    "    predictions_1\n",
    "    .groupby('backtesting_fold_id')\n",
    "    .apply(lambda x: x['summed_value'].cumsum())\n",
    "    .to_numpy()\n",
    ")\n",
    "\n",
    "predictions_1.head(5)"
   ]
  },
  {
   "cell_type": "code",
   "execution_count": 25,
   "metadata": {},
   "outputs": [
    {
     "data": {
      "application/vnd.jupyter.widget-view+json": {
       "model_id": "cec0a3ef42d3424488349f135a766851",
       "version_major": 2,
       "version_minor": 0
      },
      "text/plain": [
       "  0%|          | 0/10 [00:00<?, ?it/s]"
      ]
     },
     "metadata": {},
     "output_type": "display_data"
    },
    {
     "data": {
      "text/html": [
       "<div>\n",
       "<style scoped>\n",
       "    .dataframe tbody tr th:only-of-type {\n",
       "        vertical-align: middle;\n",
       "    }\n",
       "\n",
       "    .dataframe tbody tr th {\n",
       "        vertical-align: top;\n",
       "    }\n",
       "\n",
       "    .dataframe thead th {\n",
       "        text-align: right;\n",
       "    }\n",
       "</style>\n",
       "<table border=\"1\" class=\"dataframe\">\n",
       "  <thead>\n",
       "    <tr style=\"text-align: right;\">\n",
       "      <th></th>\n",
       "      <th>pred</th>\n",
       "    </tr>\n",
       "  </thead>\n",
       "  <tbody>\n",
       "    <tr>\n",
       "      <th>1957-01-01</th>\n",
       "      <td>312.00</td>\n",
       "    </tr>\n",
       "    <tr>\n",
       "      <th>1957-02-01</th>\n",
       "      <td>302.93</td>\n",
       "    </tr>\n",
       "    <tr>\n",
       "      <th>1957-03-01</th>\n",
       "      <td>341.61</td>\n",
       "    </tr>\n",
       "    <tr>\n",
       "      <th>1957-04-01</th>\n",
       "      <td>338.03</td>\n",
       "    </tr>\n",
       "    <tr>\n",
       "      <th>1957-05-01</th>\n",
       "      <td>341.97</td>\n",
       "    </tr>\n",
       "  </tbody>\n",
       "</table>\n",
       "</div>"
      ],
      "text/plain": [
       "              pred\n",
       "1957-01-01  312.00\n",
       "1957-02-01  302.93\n",
       "1957-03-01  341.61\n",
       "1957-04-01  338.03\n",
       "1957-05-01  341.97"
      ]
     },
     "execution_count": 25,
     "metadata": {},
     "output_type": "execute_result"
    }
   ],
   "source": [
    "# Backtesting with the time series differentiated internally\n",
    "# ==============================================================================\n",
    "forecaster_2 = ForecasterAutoreg(\n",
    "                   regressor       = RandomForestRegressor(random_state=963),\n",
    "                   lags            = 15,\n",
    "                   differentiation = 1\n",
    "               )\n",
    "\n",
    "_, predictions_2 = backtesting_forecaster(\n",
    "                       forecaster            = forecaster_2,\n",
    "                       y                     = data,\n",
    "                       steps                 = steps,\n",
    "                       metric                = 'mean_squared_error',\n",
    "                       initial_train_size    = len(data.loc[:end_train]),\n",
    "                       fixed_train_size      = False,\n",
    "                       gap                   = 0,\n",
    "                       allow_incomplete_fold = True,\n",
    "                       refit                 = True,\n",
    "                       n_jobs                = 'auto',\n",
    "                       verbose               = False,\n",
    "                       show_progress         = True  \n",
    "                   )\n",
    "\n",
    "predictions_2.head(5)"
   ]
  },
  {
   "cell_type": "code",
   "execution_count": 26,
   "metadata": {},
   "outputs": [],
   "source": [
    "# Compare both predictions\n",
    "# ==============================================================================\n",
    "pd.testing.assert_series_equal(predictions_1['pred'], predictions_2['pred'])"
   ]
  },
  {
   "cell_type": "markdown",
   "metadata": {},
   "source": [
    "Finally, the validation is also performed for the predictions obtained with `predict_boostrapping`."
   ]
  },
  {
   "cell_type": "code",
   "execution_count": 27,
   "metadata": {},
   "outputs": [],
   "source": [
    "# Time series differentiated by preprocessing before training\n",
    "# ==============================================================================\n",
    "forecaster_1 = ForecasterAutoreg(\n",
    "                   regressor = RandomForestRegressor(random_state=963),\n",
    "                   lags      = 15\n",
    "               )\n",
    "\n",
    "forecaster_1.fit(y=data_diff.loc[:end_train])\n",
    "boot_predictions_diff = forecaster_1.predict_bootstrapping(\n",
    "                            steps  = steps,\n",
    "                            n_boot = 10\n",
    "                        )\n",
    "# Revert differentiation of predictions\n",
    "last_value_train = data.loc[:end_train].iloc[[-1]]\n",
    "boot_predictions_1 = boot_predictions_diff.copy()\n",
    "boot_predictions_1.loc[last_value_train.index[0]] = last_value_train.values[0]\n",
    "boot_predictions_1 = boot_predictions_1.sort_index()\n",
    "boot_predictions_1 = boot_predictions_1.cumsum(axis=0).iloc[1:,]\n",
    "boot_predictions_1 = boot_predictions_1.asfreq('MS')\n",
    "\n",
    "\n",
    "# Time series differentiated internally by the forecaster\n",
    "# ==============================================================================\n",
    "forecaster_2 = ForecasterAutoreg(\n",
    "                   regressor       = RandomForestRegressor(random_state=963),\n",
    "                   lags            = 15,\n",
    "                   differentiation = 1\n",
    "               )\n",
    "\n",
    "forecaster_2.fit(y=data.loc[:end_train])\n",
    "boot_predictions_2 = forecaster_2.predict_bootstrapping(steps=steps, n_boot=10)"
   ]
  },
  {
   "cell_type": "code",
   "execution_count": 28,
   "metadata": {},
   "outputs": [],
   "source": [
    "# Compare both predictions\n",
    "# ==============================================================================\n",
    "pd.testing.assert_frame_equal(boot_predictions_1, boot_predictions_2)"
   ]
  },
  {
   "cell_type": "markdown",
   "metadata": {},
   "source": [
    "## Conslusions\n",
    "\n",
    "If, as demonstrated, the values are equivalent when differentiating the time series in a preprocessing step or when allowing the Forecaster to manage the differentiation internally, why the second alternative is better?\n",
    "\n",
    "+ Allowing the forecaster to manage all transformations internally guarantees that the same transformations are applied when the model is run on new data.\n",
    "\n",
    "+ When the model is applied to new data that does not follow immediately after the training data (for example, if a model is not retrained for each prediction phase), the forecaster automatically increases the size of the last window needed to generate the predictors, as well as applying the differentiation to the incoming data and undoing it in the final predictions.\n",
    "\n",
    "These transformations are non-trivial and very error-prone, so **skforecast** tries to avoid overcomplicating the already challenging task of forecasting time series."
   ]
  }
 ],
 "metadata": {
  "kernelspec": {
   "display_name": "skforecast_10_py11",
   "language": "python",
   "name": "python3"
  },
  "language_info": {
   "codemirror_mode": {
    "name": "ipython",
    "version": 3
   },
   "file_extension": ".py",
   "mimetype": "text/x-python",
   "name": "python",
   "nbconvert_exporter": "python",
   "pygments_lexer": "ipython3",
   "version": "3.12.4"
  },
  "orig_nbformat": 4
 },
 "nbformat": 4,
 "nbformat_minor": 2
}
